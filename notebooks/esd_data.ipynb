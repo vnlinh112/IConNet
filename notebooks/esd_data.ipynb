{
 "cells": [
  {
   "cell_type": "code",
   "execution_count": 1,
   "id": "26426950-a2f1-4bcd-8df5-0452d84760f3",
   "metadata": {},
   "outputs": [
    {
     "data": {
      "text/plain": [
       "'/home/linh/projects/IConNet'"
      ]
     },
     "execution_count": 1,
     "metadata": {},
     "output_type": "execute_result"
    }
   ],
   "source": [
    "import pandas as pd\n",
    "import os\n",
    "os.chdir('..')\n",
    "os.getcwd()"
   ]
  },
  {
   "cell_type": "code",
   "execution_count": 2,
   "id": "e5186916-af3f-496d-929a-324b077a0ec2",
   "metadata": {},
   "outputs": [
    {
     "name": "stdout",
     "output_type": "stream",
     "text": [
      "cuda\n"
     ]
    }
   ],
   "source": [
    "os.environ[\"PYTORCH_CUDA_ALLOC_CONF\"] = \"max_split_size_mb:512\"\n",
    "import gc\n",
    "import torch\n",
    "import torch.nn as nn\n",
    "import torch.nn.functional as F\n",
    "import torch.optim as optim\n",
    "import sys\n",
    "device = torch.device(\"cuda\" if torch.cuda.is_available() else \"cpu\")\n",
    "print(device)"
   ]
  },
  {
   "cell_type": "code",
   "execution_count": 3,
   "id": "ab271bbb-dc61-4a4d-b38e-bd5dab947d67",
   "metadata": {},
   "outputs": [
    {
     "name": "stdout",
     "output_type": "stream",
     "text": [
      "Sun Feb 25 17:48:58 2024       \n",
      "+---------------------------------------------------------------------------------------+\n",
      "| NVIDIA-SMI 545.23.08              Driver Version: 545.23.08    CUDA Version: 12.3     |\n",
      "|-----------------------------------------+----------------------+----------------------+\n",
      "| GPU  Name                 Persistence-M | Bus-Id        Disp.A | Volatile Uncorr. ECC |\n",
      "| Fan  Temp   Perf          Pwr:Usage/Cap |         Memory-Usage | GPU-Util  Compute M. |\n",
      "|                                         |                      |               MIG M. |\n",
      "|=========================================+======================+======================|\n",
      "|   0  NVIDIA GeForce RTX 2080        On  | 00000000:01:00.0  On |                  N/A |\n",
      "| 32%   39C    P8              19W / 215W |    989MiB /  8192MiB |      9%      Default |\n",
      "|                                         |                      |                  N/A |\n",
      "+-----------------------------------------+----------------------+----------------------+\n",
      "                                                                                         \n",
      "+---------------------------------------------------------------------------------------+\n",
      "| Processes:                                                                            |\n",
      "|  GPU   GI   CI        PID   Type   Process name                            GPU Memory |\n",
      "|        ID   ID                                                             Usage      |\n",
      "|=======================================================================================|\n",
      "|    0   N/A  N/A      1887      G   /usr/lib/xorg/Xorg                          184MiB |\n",
      "|    0   N/A  N/A      2033      G   /usr/bin/gnome-shell                         32MiB |\n",
      "|    0   N/A  N/A   1076924      G   /usr/lib/xorg/Xorg                           35MiB |\n",
      "|    0   N/A  N/A   1080394      G   ...sion,SpareRendererForSitePerProcess       49MiB |\n",
      "|    0   N/A  N/A   3306740      G   ...seed-version=20240223-130108.897000       64MiB |\n",
      "|    0   N/A  N/A   3914290      C   /opt/anaconda3/envs/audio/bin/python        482MiB |\n",
      "+---------------------------------------------------------------------------------------+\n"
     ]
    }
   ],
   "source": [
    "!nvidia-smi"
   ]
  },
  {
   "cell_type": "code",
   "execution_count": 4,
   "id": "cfae2743-38ef-4c2a-81e9-920211fec26d",
   "metadata": {},
   "outputs": [],
   "source": [
    "audio_dir = '../data/ESD/full_release/'"
   ]
  },
  {
   "cell_type": "code",
   "execution_count": 5,
   "id": "e8f53720-762a-44cb-867c-3b7fd4ca770d",
   "metadata": {},
   "outputs": [],
   "source": [
    "import glob"
   ]
  },
  {
   "cell_type": "code",
   "execution_count": 9,
   "id": "f75838cc-5fff-4fae-89cb-cd4de2ae7a6a",
   "metadata": {
    "scrolled": true
   },
   "outputs": [
    {
     "data": {
      "text/plain": [
       "3500"
      ]
     },
     "execution_count": 9,
     "metadata": {},
     "output_type": "execute_result"
    }
   ],
   "source": [
    "a = glob.glob(f'{audio_dir}001*/{labels[0]}/*.wav')\n",
    "len(a)"
   ]
  },
  {
   "cell_type": "code",
   "execution_count": 12,
   "id": "002ef6df-c80c-45bc-b897-eaa2764f04f6",
   "metadata": {},
   "outputs": [],
   "source": [
    "import soundfile as sf\n",
    "\n",
    "def load_audio(filename, audio_dir=\"\"):\n",
    "    waveform, sample_rate = sf.read(f'{audio_dir}{filename}') \n",
    "    return waveform"
   ]
  },
  {
   "cell_type": "code",
   "execution_count": 13,
   "id": "9c059cc7-ae75-496e-b6ac-cf80429b69f4",
   "metadata": {},
   "outputs": [
    {
     "data": {
      "text/plain": [
       "array([-0.00048828, -0.00045776, -0.00048828, ...,  0.00073242,\n",
       "        0.00073242,  0.0007019 ])"
      ]
     },
     "execution_count": 13,
     "metadata": {},
     "output_type": "execute_result"
    }
   ],
   "source": [
    "load_audio(a[0])"
   ]
  },
  {
   "cell_type": "code",
   "execution_count": 14,
   "id": "9e052210-a0e5-4d21-8602-187de3b88de8",
   "metadata": {},
   "outputs": [
    {
     "name": "stdout",
     "output_type": "stream",
     "text": [
      "(46400,)\n",
      "16000\n"
     ]
    }
   ],
   "source": [
    "waveform, sample_rate = sf.read(a[0])\n",
    "print(waveform.shape)\n",
    "print(sample_rate)"
   ]
  },
  {
   "cell_type": "code",
   "execution_count": 15,
   "id": "717163ca-103a-410e-8b59-a2a076c849b8",
   "metadata": {},
   "outputs": [
    {
     "data": {
      "text/plain": [
       "35000"
      ]
     },
     "execution_count": 15,
     "metadata": {},
     "output_type": "execute_result"
    }
   ],
   "source": [
    "# speaker/emo/speaker_sentence.wav\n",
    "# speaker (0001-0010: NonEng; 0011-0020: Eng)\n",
    "# emo: Angry, Neutral, Sad, Happy, Surprise\n",
    "data_path = glob.glob(f'{audio_dir}*/*/*.wav')\n",
    "len(data_path)"
   ]
  },
  {
   "cell_type": "code",
   "execution_count": 17,
   "id": "8ba5782c-0301-4688-b833-5d38b7b3a51e",
   "metadata": {},
   "outputs": [
    {
     "data": {
      "text/plain": [
       "['..', 'data', 'ESD', 'full_release', '0017', 'Angry']"
      ]
     },
     "execution_count": 17,
     "metadata": {},
     "output_type": "execute_result"
    }
   ],
   "source": [
    "filepath, filename = os.path.split(data_path[0])\n",
    "filepath.split('/')"
   ]
  },
  {
   "cell_type": "code",
   "execution_count": 31,
   "id": "56c8a9a0-d547-47f6-8c0b-1ae755d7629f",
   "metadata": {},
   "outputs": [
    {
     "data": {
      "text/plain": [
       "'0017/Angry/0017_000428.wav'"
      ]
     },
     "execution_count": 31,
     "metadata": {},
     "output_type": "execute_result"
    }
   ],
   "source": [
    "'/'.join(data_path[0].split('/')[-3:])"
   ]
  },
  {
   "cell_type": "code",
   "execution_count": 18,
   "id": "95fc83f9-94b0-450e-b590-2ea45899030f",
   "metadata": {},
   "outputs": [],
   "source": [
    "target_labels = ['anger', 'neutral', \n",
    "                 'sadness', 'hapiness', \n",
    "                 'surprise']\n",
    "orig_labels = ['Angry', 'Neutral',\n",
    "               'Sad', 'Happy',\n",
    "              'Surprise']"
   ]
  },
  {
   "cell_type": "code",
   "execution_count": 19,
   "id": "b3b18d68-0228-4988-a8fd-964f9e974da3",
   "metadata": {},
   "outputs": [],
   "source": [
    "def label_to_target(l):\n",
    "    return target_labels[orig_labels.index(l)]"
   ]
  },
  {
   "cell_type": "code",
   "execution_count": 21,
   "id": "1b742f1c-b14f-45c8-9d34-a6a12d3537df",
   "metadata": {},
   "outputs": [
    {
     "data": {
      "text/plain": [
       "'hapiness'"
      ]
     },
     "execution_count": 21,
     "metadata": {},
     "output_type": "execute_result"
    }
   ],
   "source": [
    "label_to_target('Happy')"
   ]
  },
  {
   "cell_type": "code",
   "execution_count": 32,
   "id": "8830d8cb-f498-4c33-af93-0eab78ce6580",
   "metadata": {},
   "outputs": [
    {
     "data": {
      "text/html": [
       "<div>\n",
       "<style scoped>\n",
       "    .dataframe tbody tr th:only-of-type {\n",
       "        vertical-align: middle;\n",
       "    }\n",
       "\n",
       "    .dataframe tbody tr th {\n",
       "        vertical-align: top;\n",
       "    }\n",
       "\n",
       "    .dataframe thead th {\n",
       "        text-align: right;\n",
       "    }\n",
       "</style>\n",
       "<table border=\"1\" class=\"dataframe\">\n",
       "  <thead>\n",
       "    <tr style=\"text-align: right;\">\n",
       "      <th></th>\n",
       "      <th>filepath</th>\n",
       "      <th>filename</th>\n",
       "      <th>emotion</th>\n",
       "      <th>speaker</th>\n",
       "      <th>gender</th>\n",
       "      <th>language</th>\n",
       "    </tr>\n",
       "  </thead>\n",
       "  <tbody>\n",
       "    <tr>\n",
       "      <th>0</th>\n",
       "      <td>0017/Angry/0017_000428.wav</td>\n",
       "      <td>0017_000428.wav</td>\n",
       "      <td>anger</td>\n",
       "      <td>0017</td>\n",
       "      <td>female</td>\n",
       "      <td>english</td>\n",
       "    </tr>\n",
       "    <tr>\n",
       "      <th>1</th>\n",
       "      <td>0017/Angry/0017_000422.wav</td>\n",
       "      <td>0017_000422.wav</td>\n",
       "      <td>anger</td>\n",
       "      <td>0017</td>\n",
       "      <td>female</td>\n",
       "      <td>english</td>\n",
       "    </tr>\n",
       "    <tr>\n",
       "      <th>2</th>\n",
       "      <td>0017/Angry/0017_000598.wav</td>\n",
       "      <td>0017_000598.wav</td>\n",
       "      <td>anger</td>\n",
       "      <td>0017</td>\n",
       "      <td>female</td>\n",
       "      <td>english</td>\n",
       "    </tr>\n",
       "    <tr>\n",
       "      <th>3</th>\n",
       "      <td>0017/Angry/0017_000484.wav</td>\n",
       "      <td>0017_000484.wav</td>\n",
       "      <td>anger</td>\n",
       "      <td>0017</td>\n",
       "      <td>female</td>\n",
       "      <td>english</td>\n",
       "    </tr>\n",
       "    <tr>\n",
       "      <th>4</th>\n",
       "      <td>0017/Angry/0017_000429.wav</td>\n",
       "      <td>0017_000429.wav</td>\n",
       "      <td>anger</td>\n",
       "      <td>0017</td>\n",
       "      <td>female</td>\n",
       "      <td>english</td>\n",
       "    </tr>\n",
       "    <tr>\n",
       "      <th>...</th>\n",
       "      <td>...</td>\n",
       "      <td>...</td>\n",
       "      <td>...</td>\n",
       "      <td>...</td>\n",
       "      <td>...</td>\n",
       "      <td>...</td>\n",
       "    </tr>\n",
       "    <tr>\n",
       "      <th>34995</th>\n",
       "      <td>0009/Surprise/0009_001561.wav</td>\n",
       "      <td>0009_001561.wav</td>\n",
       "      <td>surprise</td>\n",
       "      <td>0009</td>\n",
       "      <td>female</td>\n",
       "      <td>chinese</td>\n",
       "    </tr>\n",
       "    <tr>\n",
       "      <th>34996</th>\n",
       "      <td>0009/Surprise/0009_001473.wav</td>\n",
       "      <td>0009_001473.wav</td>\n",
       "      <td>surprise</td>\n",
       "      <td>0009</td>\n",
       "      <td>female</td>\n",
       "      <td>chinese</td>\n",
       "    </tr>\n",
       "    <tr>\n",
       "      <th>34997</th>\n",
       "      <td>0009/Surprise/0009_001615.wav</td>\n",
       "      <td>0009_001615.wav</td>\n",
       "      <td>surprise</td>\n",
       "      <td>0009</td>\n",
       "      <td>female</td>\n",
       "      <td>chinese</td>\n",
       "    </tr>\n",
       "    <tr>\n",
       "      <th>34998</th>\n",
       "      <td>0009/Surprise/0009_001594.wav</td>\n",
       "      <td>0009_001594.wav</td>\n",
       "      <td>surprise</td>\n",
       "      <td>0009</td>\n",
       "      <td>female</td>\n",
       "      <td>chinese</td>\n",
       "    </tr>\n",
       "    <tr>\n",
       "      <th>34999</th>\n",
       "      <td>0009/Surprise/0009_001502.wav</td>\n",
       "      <td>0009_001502.wav</td>\n",
       "      <td>surprise</td>\n",
       "      <td>0009</td>\n",
       "      <td>female</td>\n",
       "      <td>chinese</td>\n",
       "    </tr>\n",
       "  </tbody>\n",
       "</table>\n",
       "<p>35000 rows × 6 columns</p>\n",
       "</div>"
      ],
      "text/plain": [
       "                            filepath         filename   emotion speaker  \\\n",
       "0         0017/Angry/0017_000428.wav  0017_000428.wav     anger    0017   \n",
       "1         0017/Angry/0017_000422.wav  0017_000422.wav     anger    0017   \n",
       "2         0017/Angry/0017_000598.wav  0017_000598.wav     anger    0017   \n",
       "3         0017/Angry/0017_000484.wav  0017_000484.wav     anger    0017   \n",
       "4         0017/Angry/0017_000429.wav  0017_000429.wav     anger    0017   \n",
       "...                              ...              ...       ...     ...   \n",
       "34995  0009/Surprise/0009_001561.wav  0009_001561.wav  surprise    0009   \n",
       "34996  0009/Surprise/0009_001473.wav  0009_001473.wav  surprise    0009   \n",
       "34997  0009/Surprise/0009_001615.wav  0009_001615.wav  surprise    0009   \n",
       "34998  0009/Surprise/0009_001594.wav  0009_001594.wav  surprise    0009   \n",
       "34999  0009/Surprise/0009_001502.wav  0009_001502.wav  surprise    0009   \n",
       "\n",
       "       gender language  \n",
       "0      female  english  \n",
       "1      female  english  \n",
       "2      female  english  \n",
       "3      female  english  \n",
       "4      female  english  \n",
       "...       ...      ...  \n",
       "34995  female  chinese  \n",
       "34996  female  chinese  \n",
       "34997  female  chinese  \n",
       "34998  female  chinese  \n",
       "34999  female  chinese  \n",
       "\n",
       "[35000 rows x 6 columns]"
      ]
     },
     "execution_count": 32,
     "metadata": {},
     "output_type": "execute_result"
    }
   ],
   "source": [
    "df = pd.DataFrame(\n",
    "    columns=['filepath', 'filename', 'emotion', 'speaker', 'gender', 'language'])\n",
    "\n",
    "for d in data_path:\n",
    "    filepath, filename = os.path.split(d)\n",
    "    fpath = '/'.join(d.split('/')[-3:])\n",
    "    fp = filepath.split('/')\n",
    "    speaker = fp[-2]\n",
    "    emo = fp[-1]\n",
    "    if int(speaker)%2 == 0:\n",
    "        gender = 'male'\n",
    "    else:\n",
    "        gender = 'female'\n",
    "    if int(speaker) <= 10:\n",
    "        language = 'chinese'\n",
    "    else:\n",
    "        language = 'english'\n",
    "    df = df._append({\n",
    "        'filepath': fpath,\n",
    "        'filename': filename,\n",
    "        'emotion': label_to_target(emo),\n",
    "        'speaker': speaker,\n",
    "        'gender': gender,\n",
    "        'language': language\n",
    "    }, ignore_index=True)    \n",
    "\n",
    "df"
   ]
  },
  {
   "cell_type": "code",
   "execution_count": 33,
   "id": "7b5328dd-e35a-4df4-89ee-06c0e8866dbc",
   "metadata": {},
   "outputs": [],
   "source": [
    "df.to_csv(\n",
    "    '../data/data_preprocessed/esd/metadata/data.csv',\n",
    "    header=True, index=False)"
   ]
  },
  {
   "cell_type": "code",
   "execution_count": 34,
   "id": "90185422-6291-49c0-b10c-b713df3dcafc",
   "metadata": {},
   "outputs": [
    {
     "data": {
      "text/plain": [
       "emotion\n",
       "anger       7000\n",
       "sadness     7000\n",
       "hapiness    7000\n",
       "neutral     7000\n",
       "Name: count, dtype: int64"
      ]
     },
     "execution_count": 34,
     "metadata": {},
     "output_type": "execute_result"
    }
   ],
   "source": [
    "labels = ['ang', 'neu', 'sad', 'hap']\n",
    "df4 = df[df['emotion'].apply(lambda x: x[:3] in labels)]\n",
    "df4['emotion'].value_counts()"
   ]
  },
  {
   "cell_type": "code",
   "execution_count": 35,
   "id": "cf0e4a27-f55e-45d1-a6f8-07c0171df9c9",
   "metadata": {},
   "outputs": [
    {
     "data": {
      "text/plain": [
       "array([-0.00048828, -0.00045776, -0.00048828, ...,  0.00073242,\n",
       "        0.00073242,  0.0007019 ])"
      ]
     },
     "execution_count": 35,
     "metadata": {},
     "output_type": "execute_result"
    }
   ],
   "source": [
    "from functools import partial\n",
    "\n",
    "load_wav = partial(load_audio, audio_dir=audio_dir)\n",
    "load_wav(df4['filepath'].values[0])"
   ]
  },
  {
   "cell_type": "code",
   "execution_count": 36,
   "id": "b555fd14-6c9b-4445-b113-80d065d58623",
   "metadata": {},
   "outputs": [
    {
     "name": "stderr",
     "output_type": "stream",
     "text": [
      "/tmp/ipykernel_4009961/1211551078.py:1: SettingWithCopyWarning: \n",
      "A value is trying to be set on a copy of a slice from a DataFrame.\n",
      "Try using .loc[row_indexer,col_indexer] = value instead\n",
      "\n",
      "See the caveats in the documentation: https://pandas.pydata.org/pandas-docs/stable/user_guide/indexing.html#returning-a-view-versus-a-copy\n",
      "  df4['audio'] = df4['filepath'].apply(load_wav)\n"
     ]
    }
   ],
   "source": [
    "df4['audio'] = df4['filepath'].apply(load_wav)"
   ]
  },
  {
   "cell_type": "code",
   "execution_count": 37,
   "id": "2ffbcd9d-5349-43e5-be8d-1697f6100b83",
   "metadata": {},
   "outputs": [
    {
     "data": {
      "text/plain": [
       "(46400,)"
      ]
     },
     "execution_count": 37,
     "metadata": {},
     "output_type": "execute_result"
    }
   ],
   "source": [
    "df4['audio'][0].shape"
   ]
  },
  {
   "cell_type": "code",
   "execution_count": 38,
   "id": "9b3152f4-f9bb-4ca3-8fe7-ea4fc5cb21d1",
   "metadata": {},
   "outputs": [
    {
     "data": {
      "text/plain": [
       "audio\n",
       "1    28000\n",
       "Name: count, dtype: int64"
      ]
     },
     "execution_count": 38,
     "metadata": {},
     "output_type": "execute_result"
    }
   ],
   "source": [
    "df4['audio'].apply(lambda x: len(x.shape)).value_counts()"
   ]
  },
  {
   "cell_type": "code",
   "execution_count": 39,
   "id": "e280c4b0-9b65-42fe-ac34-1538d816edba",
   "metadata": {},
   "outputs": [],
   "source": [
    "data_x = df4['audio'].to_list()\n",
    "data_y = df4['emotion'].to_list()"
   ]
  },
  {
   "cell_type": "code",
   "execution_count": 40,
   "id": "c30b7d05-2f3c-4ede-bfa7-ea967e72b41f",
   "metadata": {},
   "outputs": [],
   "source": [
    "feature_dir = '../data/data_preprocessed/esd/features_4balanced/'"
   ]
  },
  {
   "cell_type": "code",
   "execution_count": 42,
   "id": "bb4f18e9-ce06-402f-bfc9-8819141089dc",
   "metadata": {},
   "outputs": [],
   "source": [
    "import numpy as np"
   ]
  },
  {
   "cell_type": "code",
   "execution_count": 43,
   "id": "57c5414d-6366-40d5-a535-a4c125ec2b42",
   "metadata": {},
   "outputs": [],
   "source": [
    "np.save(f'{feature_dir}esd.audio16k.npy', \n",
    "        np.array(data_x, dtype=object), \n",
    "        allow_pickle=True)"
   ]
  },
  {
   "cell_type": "code",
   "execution_count": 44,
   "id": "6ad43e88-19e2-4669-b911-ac4416267db8",
   "metadata": {},
   "outputs": [],
   "source": [
    "np.save(f'{feature_dir}esd.label_emotion.npy', \n",
    "        np.array(data_y, dtype=str), \n",
    "        allow_pickle=True)"
   ]
  }
 ],
 "metadata": {
  "kernelspec": {
   "display_name": "Python 3 (ipykernel)",
   "language": "python",
   "name": "python3"
  },
  "language_info": {
   "codemirror_mode": {
    "name": "ipython",
    "version": 3
   },
   "file_extension": ".py",
   "mimetype": "text/x-python",
   "name": "python",
   "nbconvert_exporter": "python",
   "pygments_lexer": "ipython3",
   "version": "3.9.18"
  }
 },
 "nbformat": 4,
 "nbformat_minor": 5
}
