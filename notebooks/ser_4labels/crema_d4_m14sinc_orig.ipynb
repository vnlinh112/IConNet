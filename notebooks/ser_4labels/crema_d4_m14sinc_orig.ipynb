{
 "cells": [
  {
   "cell_type": "code",
   "execution_count": 1,
   "id": "ebeadf44-f268-4ea5-940c-4b8d6c30e824",
   "metadata": {},
   "outputs": [
    {
     "name": "stdout",
     "output_type": "stream",
     "text": [
      "Thu Feb 29 16:12:42 2024       \n",
      "+---------------------------------------------------------------------------------------+\n",
      "| NVIDIA-SMI 545.23.08              Driver Version: 545.23.08    CUDA Version: 12.3     |\n",
      "|-----------------------------------------+----------------------+----------------------+\n",
      "| GPU  Name                 Persistence-M | Bus-Id        Disp.A | Volatile Uncorr. ECC |\n",
      "| Fan  Temp   Perf          Pwr:Usage/Cap |         Memory-Usage | GPU-Util  Compute M. |\n",
      "|                                         |                      |               MIG M. |\n",
      "|=========================================+======================+======================|\n",
      "|   0  NVIDIA GeForce RTX 2080        On  | 00000000:01:00.0  On |                  N/A |\n",
      "| 32%   29C    P8              21W / 215W |   1247MiB /  8192MiB |      7%      Default |\n",
      "|                                         |                      |                  N/A |\n",
      "+-----------------------------------------+----------------------+----------------------+\n",
      "                                                                                         \n",
      "+---------------------------------------------------------------------------------------+\n",
      "| Processes:                                                                            |\n",
      "|  GPU   GI   CI        PID   Type   Process name                            GPU Memory |\n",
      "|        ID   ID                                                             Usage      |\n",
      "|=======================================================================================|\n",
      "|    0   N/A  N/A      1887      G   /usr/lib/xorg/Xorg                          204MiB |\n",
      "|    0   N/A  N/A      2033      G   /usr/bin/gnome-shell                         28MiB |\n",
      "|    0   N/A  N/A   1076924      G   /usr/lib/xorg/Xorg                           35MiB |\n",
      "|    0   N/A  N/A   1080394      G   ...sion,SpareRendererForSitePerProcess       55MiB |\n",
      "|    0   N/A  N/A   2303850      C   /opt/anaconda3/envs/audio/bin/python        474MiB |\n",
      "|    0   N/A  N/A   3122054      C   /opt/anaconda3/envs/audio/bin/python        182MiB |\n",
      "|    0   N/A  N/A   3306740      G   ...seed-version=20240223-130108.897000      126MiB |\n",
      "+---------------------------------------------------------------------------------------+\n"
     ]
    }
   ],
   "source": [
    "!nvidia-smi"
   ]
  },
  {
   "cell_type": "code",
   "execution_count": 2,
   "id": "6c761c9c-d309-4669-9b5c-9e3658bf006a",
   "metadata": {},
   "outputs": [],
   "source": [
    "%load_ext autoreload\n",
    "%autoreload 2"
   ]
  },
  {
   "cell_type": "code",
   "execution_count": 3,
   "id": "08cf1f67-3e13-4f47-b598-ed7bc4cfbd4a",
   "metadata": {},
   "outputs": [
    {
     "data": {
      "text/plain": [
       "'/home/linh/projects/IConNet/notebooks'"
      ]
     },
     "execution_count": 3,
     "metadata": {},
     "output_type": "execute_result"
    }
   ],
   "source": [
    "import os\n",
    "os.getcwd()"
   ]
  },
  {
   "cell_type": "code",
   "execution_count": 4,
   "id": "918ffe29-4a40-4a72-8a5c-94fc2ec53d51",
   "metadata": {},
   "outputs": [],
   "source": [
    "os.chdir('..')"
   ]
  },
  {
   "cell_type": "code",
   "execution_count": 5,
   "id": "d2c64223-82c7-4fe7-a4df-278b26ba60a7",
   "metadata": {},
   "outputs": [
    {
     "name": "stdout",
     "output_type": "stream",
     "text": [
      "cuda\n"
     ]
    }
   ],
   "source": [
    "os.environ[\"PYTORCH_CUDA_ALLOC_CONF\"] = \"max_split_size_mb:512\"\n",
    "import gc\n",
    "import torch\n",
    "import torch.nn as nn\n",
    "import torch.nn.functional as F\n",
    "import torch.optim as optim\n",
    "import sys\n",
    "device = torch.device(\"cuda\" if torch.cuda.is_available() else \"cpu\")\n",
    "print(device)"
   ]
  },
  {
   "cell_type": "code",
   "execution_count": 6,
   "id": "1db98310-7115-45c5-bc6f-c34279a3a50e",
   "metadata": {},
   "outputs": [],
   "source": [
    "import glob\n",
    "import numpy as np\n",
    "from tqdm import tqdm\n",
    "import itertools\n",
    "import matplotlib.pyplot as plt\n",
    "import pandas as pd\n",
    "\n",
    "# Scikit learn\n",
    "from sklearn.model_selection import train_test_split\n",
    "from sklearn.preprocessing import LabelEncoder\n",
    "from sklearn.utils import shuffle\n",
    "\n",
    "import warnings\n",
    "warnings.filterwarnings('ignore', category=FutureWarning)"
   ]
  },
  {
   "cell_type": "code",
   "execution_count": 7,
   "id": "8b265cfc-5bef-46b7-aaa7-955240ad87f1",
   "metadata": {},
   "outputs": [],
   "source": [
    "data_dir = '../data/data_preprocessed/crema_d/preprocessed/'"
   ]
  },
  {
   "cell_type": "code",
   "execution_count": 8,
   "id": "82fb76f6-ade0-4d65-b525-7ff779fc0290",
   "metadata": {},
   "outputs": [
    {
     "name": "stdout",
     "output_type": "stream",
     "text": [
      "(7438,)\n",
      "(7438,)\n"
     ]
    },
    {
     "data": {
      "text/plain": [
       "array([0, 1, 2, 3, 4, 5], dtype=int16)"
      ]
     },
     "execution_count": 8,
     "metadata": {},
     "output_type": "execute_result"
    }
   ],
   "source": [
    "sr = 16000\n",
    "\n",
    "data_x = np.load(f'{data_dir}crema_d.audio16k.npy', allow_pickle=True)\n",
    "data_y = np.load(f'{data_dir}crema_d.label_emotion.npy', allow_pickle=True)\n",
    "classnames = np.load(f'{data_dir}crema_d.classnames.npy', allow_pickle=True)\n",
    "print(data_x.shape)\n",
    "print(data_y.shape)\n",
    "np.unique(data_y)"
   ]
  },
  {
   "cell_type": "code",
   "execution_count": 9,
   "id": "15aa4770-d3ac-44c6-8f42-f6d8fd480c34",
   "metadata": {},
   "outputs": [
    {
     "data": {
      "text/plain": [
       "array(['NEU', 'HAP', 'SAD', 'ANG', 'FEA', 'DIS'], dtype='<U3')"
      ]
     },
     "execution_count": 9,
     "metadata": {},
     "output_type": "execute_result"
    }
   ],
   "source": [
    "classnames"
   ]
  },
  {
   "cell_type": "code",
   "execution_count": 10,
   "id": "cffdd7de-9752-4402-b836-f397dde533c3",
   "metadata": {},
   "outputs": [
    {
     "name": "stdout",
     "output_type": "stream",
     "text": [
      "(4898,)\n"
     ]
    }
   ],
   "source": [
    "labels = ['ANG', 'NEU', 'SAD', 'HAP']\n",
    "\n",
    "def label_filter(idx):\n",
    "    return classnames[idx] in labels\n",
    "\n",
    "def label_to_index(idx):\n",
    "    return labels.index(classnames[idx])\n",
    "    \n",
    "filtered_idx = [label_filter(idx) for idx in data_y]\n",
    "data_x = data_x[filtered_idx]\n",
    "data_y = [label_to_index(idx) for idx in data_y[filtered_idx]]\n",
    "print(data_x.shape)"
   ]
  },
  {
   "cell_type": "code",
   "execution_count": 11,
   "id": "88455c85-66e2-4ba0-a4ed-d89fd65f3d0e",
   "metadata": {},
   "outputs": [
    {
     "name": "stdout",
     "output_type": "stream",
     "text": [
      "Train: 3918\n",
      "Test: 980\n"
     ]
    }
   ],
   "source": [
    "from sklearn.model_selection import train_test_split\n",
    "\n",
    "x_train, x_test, y_train, y_test = train_test_split(\n",
    "    data_x, data_y, test_size=0.2, \n",
    "    random_state=42, stratify=data_y)\n",
    "print(\"Train: %i\" % len(x_train))\n",
    "print(\"Test: %i\" % len(x_test))"
   ]
  },
  {
   "cell_type": "code",
   "execution_count": 12,
   "id": "c55f5684-d1a8-4d8d-b97b-96149b6f8ec6",
   "metadata": {},
   "outputs": [],
   "source": [
    "train_set = list(zip(x_train, y_train))\n",
    "test_set = list(zip(x_test, y_test))"
   ]
  },
  {
   "cell_type": "code",
   "execution_count": 13,
   "id": "d8aadba2-7ff4-4490-94e8-1d7786a98a77",
   "metadata": {},
   "outputs": [],
   "source": [
    "def pad_sequence(batch):\n",
    "    # Make all tensor in a batch the same length by padding with zeros\n",
    "    batch = [item.t() for item in batch]\n",
    "    batch = torch.nn.utils.rnn.pad_sequence(\n",
    "        batch, batch_first=True, padding_value=0.).permute(0, 2, 1)\n",
    "    return batch\n",
    "\n",
    "def collate_fn(batch, max_duration_in_second=3, sample_rate=sr):\n",
    "    tensors, targets = [], []\n",
    "\n",
    "    # Gather in lists, and encode labels as indices\n",
    "    for waveform, label in batch:\n",
    "        if max_duration_in_second is not None:\n",
    "            waveform = np.array(waveform, dtype=float).squeeze()\n",
    "            length = len(waveform)\n",
    "            max_length = sample_rate * max_duration_in_second\n",
    "            offset = max(0, (length - max_length) // 2)\n",
    "            waveform = waveform[offset: length-offset]\n",
    "        tensors += [torch.tensor(waveform, dtype=torch.float32)[None,:]]\n",
    "        targets += [torch.tensor(label, dtype=torch.long)]\n",
    "\n",
    "    # Group the list of tensors into a batched tensor\n",
    "    tensors = pad_sequence(tensors)\n",
    "    targets = torch.stack(targets)\n",
    "    return tensors, targets\n",
    "\n",
    "batch_size = 16\n",
    "\n",
    "if device == \"cuda\":\n",
    "    num_workers = 1\n",
    "    pin_memory = True\n",
    "else:\n",
    "    num_workers = 0\n",
    "    pin_memory = False\n",
    "\n",
    "train_loader = torch.utils.data.DataLoader(\n",
    "    train_set,\n",
    "    batch_size=batch_size,\n",
    "    shuffle=True,\n",
    "    collate_fn=collate_fn,\n",
    "    num_workers=num_workers,\n",
    "    pin_memory=pin_memory, \n",
    "    drop_last=True\n",
    ")\n",
    "test_loader = torch.utils.data.DataLoader(\n",
    "    test_set,\n",
    "    batch_size=batch_size,\n",
    "    shuffle=False,\n",
    "    drop_last=True,\n",
    "    collate_fn=collate_fn,\n",
    "    num_workers=num_workers,\n",
    "    pin_memory=pin_memory\n",
    ")"
   ]
  },
  {
   "cell_type": "code",
   "execution_count": 24,
   "id": "dc039999-3237-4d3b-80f7-a51f8d503145",
   "metadata": {},
   "outputs": [],
   "source": [
    "from IConNet.nn.model import M13sinc as M13"
   ]
  },
  {
   "cell_type": "code",
   "execution_count": 18,
   "id": "965d9e7c-8057-42d7-a4ae-514fac39ed00",
   "metadata": {},
   "outputs": [],
   "source": [
    "from omegaconf import OmegaConf as ocf"
   ]
  },
  {
   "cell_type": "code",
   "execution_count": 19,
   "id": "41f72901-850d-426c-bf0c-474b9d05e658",
   "metadata": {},
   "outputs": [],
   "source": [
    "import traceback"
   ]
  },
  {
   "cell_type": "code",
   "execution_count": 25,
   "id": "2c32b2a9-2797-4fd1-bd05-f0333f0aaa43",
   "metadata": {},
   "outputs": [
    {
     "data": {
      "text/plain": [
       "{'name': 'M14sinc', 'description': 'FirConv with fftconv', 'fe': {'n_block': 2, 'n_channel': [198, 30], 'kernel_size': [511, 127], 'stride': [2, 4], 'window_k': [5, 9], 'residual_connection_type': 'stack', 'pooling': 'mean', 'filter_type': 'sinc', 'learnable_bands': True, 'learnable_windows': False, 'shared_window': True, 'window_func': 'hamming', 'mel_resolution': 3, 'conv_mode': 'fftconv', 'norm_type': 'LocalResponseNorm'}, 'cls': {'n_block': 2, 'n_hidden_dim': [512, 512], 'norm_type': 'LayerNorm'}}"
      ]
     },
     "execution_count": 25,
     "metadata": {},
     "output_type": "execute_result"
    }
   ],
   "source": [
    "model_config_path = 'config/model/m14sinc.yaml'\n",
    "model_config = ocf.load(model_config_path)\n",
    "model_config"
   ]
  },
  {
   "cell_type": "code",
   "execution_count": 26,
   "id": "2c6b57a5-edee-400e-807a-fad5e5974026",
   "metadata": {
    "scrolled": true
   },
   "outputs": [
    {
     "data": {
      "text/plain": [
       "M13sinc(\n",
       "  (fe_blocks): FeBlocks(\n",
       "    (blocks): ModuleList(\n",
       "      (0-1): 2 x FrontEndBlock(\n",
       "        (block): ModuleDict(\n",
       "          (layer): FirConvLayer(\n",
       "            (conv_layer): ResidualConv1d(\n",
       "              (pad_layer): PadForConv()\n",
       "              (stride_layer): DownsampleLayer(\n",
       "                (pad_right): PadForConv()\n",
       "              )\n",
       "              (norm_layer): CustomNormLayer(\n",
       "                (layer): LocalResponseNorm(2, alpha=0.0001, beta=0.75, k=1.0)\n",
       "              )\n",
       "              (act): NLReLU()\n",
       "            )\n",
       "          )\n",
       "          (downsample): ResidualConv1d(\n",
       "            (pad_layer): PadForConv()\n",
       "            (stride_layer): DownsampleLayer(\n",
       "              (pad_right): PadForConv()\n",
       "            )\n",
       "            (norm_layer): CustomNormLayer(\n",
       "              (layer): LocalResponseNorm(2, alpha=0.0001, beta=0.75, k=1.0)\n",
       "            )\n",
       "            (act): NLReLU()\n",
       "          )\n",
       "        )\n",
       "      )\n",
       "    )\n",
       "  )\n",
       "  (cls_head): Classifier(\n",
       "    (blocks): ModuleList(\n",
       "      (0): Sequential(\n",
       "        (norm): LayerNorm((229,), eps=1e-05, elementwise_affine=True)\n",
       "        (layer): Linear(in_features=229, out_features=512, bias=True)\n",
       "      )\n",
       "      (1): Sequential(\n",
       "        (norm): LayerNorm((512,), eps=1e-05, elementwise_affine=True)\n",
       "        (layer): Linear(in_features=512, out_features=512, bias=True)\n",
       "      )\n",
       "    )\n",
       "    (act): LeakyReLU(negative_slope=0.01)\n",
       "    (output_layer): Linear(in_features=512, out_features=4, bias=True)\n",
       "  )\n",
       ")"
      ]
     },
     "execution_count": 26,
     "metadata": {},
     "output_type": "execute_result"
    }
   ],
   "source": [
    "model = M13(config=model_config,\n",
    "           n_input=1, n_output=len(labels))\n",
    "model"
   ]
  },
  {
   "cell_type": "code",
   "execution_count": 27,
   "id": "76e4b8a2-6938-4ec7-bad5-fc07fce8e5e1",
   "metadata": {},
   "outputs": [],
   "source": [
    "n_epoch = 10\n",
    "train_losses = []\n",
    "test_accuracy = []\n",
    "optimizer = optim.RAdam(model.parameters(), lr=0.001)\n",
    "scheduler = optim.lr_scheduler.OneCycleLR(\n",
    "    optimizer, max_lr=0.1,\n",
    "    steps_per_epoch=len(train_loader), epochs=n_epoch)"
   ]
  },
  {
   "cell_type": "code",
   "execution_count": 28,
   "id": "a1d06d4a-aad8-4343-a42a-f6504edad907",
   "metadata": {},
   "outputs": [],
   "source": [
    "train_loader_length = len(train_loader.dataset)\n",
    "test_loader_length = len(test_loader.dataset)\n",
    "\n",
    "def train(model, epoch, log_interval, \n",
    "          train_losses=train_losses):\n",
    "    model.train()\n",
    "    for batch_idx, (data, target) in enumerate(train_loader):\n",
    "        try:\n",
    "            _mem_before = torch.cuda.memory_allocated()\n",
    "            data = data.to(device)\n",
    "            target = target.to(device)\n",
    "            output = model(data)\n",
    "            del data\n",
    "            gc.collect()\n",
    "            torch.cuda.empty_cache()\n",
    "            loss = F.cross_entropy(output.squeeze(), target)\n",
    "            _mem_during = torch.cuda.memory_allocated()\n",
    "            del target\n",
    "            gc.collect()\n",
    "            torch.cuda.empty_cache()\n",
    "            optimizer.zero_grad()\n",
    "            loss.backward()\n",
    "            nn.utils.clip_grad.clip_grad_norm_(\n",
    "                model.parameters(), 1.0)\n",
    "            optimizer.step()\n",
    "            _mem_after = torch.cuda.memory_allocated()\n",
    "            # print training stats\n",
    "            if batch_idx % log_interval == 0:\n",
    "                print(f\"Train Epoch: {epoch} [{batch_idx * batch_size}/{train_loader_length} ({100. * batch_idx / len(train_loader):.0f}%)]\\tLoss: {loss.item():.6f}\")\n",
    "                print(f'Mem before-during-after: {_mem_before} {_mem_during} {_mem_after}')\n",
    "            # update progress bar\n",
    "            pbar.update(pbar_update)\n",
    "            # record loss\n",
    "            train_losses.append(loss.item())\n",
    "        except Exception as e:\n",
    "            print(f'data: {data.shape} => output: {output.shape} | target: {target.shape}')\n",
    "            traceback.print_exc()\n",
    "\n",
    "@torch.no_grad\n",
    "def test(model, epoch, test_loader=test_loader, device=device):\n",
    "    model.eval()\n",
    "    correct = 0\n",
    "    total = 0\n",
    "    for data, target in test_loader:\n",
    "        total += len(target)\n",
    "        data = data.to(device)\n",
    "        target = target.to(device)\n",
    "        output = model(data).squeeze()\n",
    "        del data\n",
    "        gc.collect()\n",
    "        torch.cuda.empty_cache()\n",
    "        probs = F.softmax(output, dim=-1)\n",
    "        pred = probs.argmax(dim=-1)\n",
    "        correct += pred.eq(target).sum().item()\n",
    "        del target\n",
    "        gc.collect()\n",
    "        torch.cuda.empty_cache()\n",
    "        pbar.update(pbar_update)\n",
    "    acc = correct / test_loader_length\n",
    "    print(f\"\\nTest Epoch: {epoch}\\tAccuracy: {correct}/{total} ({100. * acc:.0f}%)\\n\")\n",
    "    return acc"
   ]
  },
  {
   "cell_type": "code",
   "execution_count": 29,
   "id": "be5e8f4b-6b3a-47e5-9b73-5ebd9722ab2b",
   "metadata": {
    "scrolled": true
   },
   "outputs": [
    {
     "name": "stderr",
     "output_type": "stream",
     "text": [
      "  0%|                                 | 0.003278688524590164/10 [00:00<35:19, 212.01s/it]"
     ]
    },
    {
     "name": "stdout",
     "output_type": "stream",
     "text": [
      "Train Epoch: 1 [0/3918 (0%)]\tLoss: 1.554227\n",
      "Mem before-during-after: 1692160 3965101568 26915328\n"
     ]
    },
    {
     "name": "stderr",
     "output_type": "stream",
     "text": [
      "  1%|▍                                 | 0.13442622950819672/10 [00:17<23:36, 143.60s/it]"
     ]
    },
    {
     "name": "stdout",
     "output_type": "stream",
     "text": [
      "Train Epoch: 1 [640/3918 (16%)]\tLoss: 2.141518\n",
      "Mem before-during-after: 27466240 3980478464 26915328\n"
     ]
    },
    {
     "name": "stderr",
     "output_type": "stream",
     "text": [
      "  3%|▉                                 | 0.26557377049180286/10 [00:34<22:48, 140.61s/it]"
     ]
    },
    {
     "name": "stdout",
     "output_type": "stream",
     "text": [
      "Train Epoch: 1 [1280/3918 (33%)]\tLoss: 1.476676\n",
      "Mem before-during-after: 26915328 3980690432 26915328\n"
     ]
    },
    {
     "name": "stderr",
     "output_type": "stream",
     "text": [
      "  4%|█▍                                   | 0.39672131147541/10 [00:51<22:30, 140.64s/it]"
     ]
    },
    {
     "name": "stdout",
     "output_type": "stream",
     "text": [
      "Train Epoch: 1 [1920/3918 (49%)]\tLoss: 1.591426\n",
      "Mem before-during-after: 27796992 3981023744 27796992\n"
     ]
    },
    {
     "name": "stderr",
     "output_type": "stream",
     "text": [
      "  5%|█▊                                 | 0.5278688524590167/10 [01:08<18:42, 118.53s/it]"
     ]
    },
    {
     "name": "stdout",
     "output_type": "stream",
     "text": [
      "Train Epoch: 1 [2560/3918 (66%)]\tLoss: 1.308199\n",
      "Mem before-during-after: 27040256 3981381120 26915328\n"
     ]
    },
    {
     "name": "stderr",
     "output_type": "stream",
     "text": [
      "  7%|██▎                                | 0.6590163934426216/10 [01:25<22:04, 141.82s/it]"
     ]
    },
    {
     "name": "stdout",
     "output_type": "stream",
     "text": [
      "Train Epoch: 1 [3200/3918 (82%)]\tLoss: 1.435166\n",
      "Mem before-during-after: 27796992 3597960704 26915328\n"
     ]
    },
    {
     "name": "stderr",
     "output_type": "stream",
     "text": [
      "  8%|██▊                                | 0.7901639344262266/10 [01:42<25:02, 163.16s/it]"
     ]
    },
    {
     "name": "stdout",
     "output_type": "stream",
     "text": [
      "Train Epoch: 1 [3840/3918 (98%)]\tLoss: 1.442664\n",
      "Mem before-during-after: 26915328 3981007872 26915328\n"
     ]
    },
    {
     "name": "stderr",
     "output_type": "stream",
     "text": [
      " 10%|███▌                                | 0.9999999999999944/10 [01:57<10:17, 68.62s/it]"
     ]
    },
    {
     "name": "stdout",
     "output_type": "stream",
     "text": [
      "\n",
      "Test Epoch: 1\tAccuracy: 254/976 (26%)\n",
      "\n"
     ]
    },
    {
     "name": "stderr",
     "output_type": "stream",
     "text": [
      " 10%|███▌                                | 1.0032786885245846/10 [01:57<12:22, 82.56s/it]"
     ]
    },
    {
     "name": "stdout",
     "output_type": "stream",
     "text": [
      "Train Epoch: 2 [0/3918 (0%)]\tLoss: 1.440032\n",
      "Mem before-during-after: 26914304 3978256896 26915328\n"
     ]
    },
    {
     "name": "stderr",
     "output_type": "stream",
     "text": [
      " 11%|███▉                               | 1.1344262295081895/10 [02:13<22:37, 153.10s/it]"
     ]
    },
    {
     "name": "stdout",
     "output_type": "stream",
     "text": [
      "Train Epoch: 2 [640/3918 (16%)]\tLoss: 1.583569\n",
      "Mem before-during-after: 27348480 3980374528 26915328\n"
     ]
    },
    {
     "name": "stderr",
     "output_type": "stream",
     "text": [
      " 13%|████▍                              | 1.2655737704917944/10 [02:30<19:19, 132.79s/it]"
     ]
    },
    {
     "name": "stdout",
     "output_type": "stream",
     "text": [
      "Train Epoch: 2 [1280/3918 (33%)]\tLoss: 1.680370\n",
      "Mem before-during-after: 26915328 3980374528 27040256\n"
     ]
    },
    {
     "name": "stderr",
     "output_type": "stream",
     "text": [
      " 14%|████▉                              | 1.3967213114753994/10 [02:48<19:54, 138.84s/it]"
     ]
    },
    {
     "name": "stdout",
     "output_type": "stream",
     "text": [
      "Train Epoch: 2 [1920/3918 (49%)]\tLoss: 1.398175\n",
      "Mem before-during-after: 26915328 3980374528 26915328\n"
     ]
    },
    {
     "name": "stderr",
     "output_type": "stream",
     "text": [
      " 15%|█████▎                             | 1.5278688524590043/10 [03:04<17:10, 121.65s/it]"
     ]
    },
    {
     "name": "stdout",
     "output_type": "stream",
     "text": [
      "Train Epoch: 2 [2560/3918 (66%)]\tLoss: 1.369875\n",
      "Mem before-during-after: 26915328 3982147072 26915328\n"
     ]
    },
    {
     "name": "stderr",
     "output_type": "stream",
     "text": [
      " 17%|█████▊                             | 1.6590163934426092/10 [03:22<19:18, 138.90s/it]"
     ]
    },
    {
     "name": "stdout",
     "output_type": "stream",
     "text": [
      "Train Epoch: 2 [3200/3918 (82%)]\tLoss: 1.368247\n",
      "Mem before-during-after: 26915328 3980374528 26915328\n"
     ]
    },
    {
     "name": "stderr",
     "output_type": "stream",
     "text": [
      " 18%|██████▎                            | 1.7901639344262141/10 [03:40<18:38, 136.20s/it]"
     ]
    },
    {
     "name": "stdout",
     "output_type": "stream",
     "text": [
      "Train Epoch: 2 [3840/3918 (98%)]\tLoss: 1.406646\n",
      "Mem before-during-after: 27040256 3981889536 26915328\n"
     ]
    },
    {
     "name": "stderr",
     "output_type": "stream",
     "text": [
      " 20%|███████▍                             | 1.999999999999982/10 [03:54<08:55, 66.97s/it]"
     ]
    },
    {
     "name": "stdout",
     "output_type": "stream",
     "text": [
      "\n",
      "Test Epoch: 2\tAccuracy: 254/976 (26%)\n",
      "\n"
     ]
    },
    {
     "name": "stderr",
     "output_type": "stream",
     "text": [
      " 20%|███████▏                            | 2.0032786885245724/10 [03:55<11:18, 84.81s/it]"
     ]
    },
    {
     "name": "stdout",
     "output_type": "stream",
     "text": [
      "Train Epoch: 3 [0/3918 (0%)]\tLoss: 1.556347\n",
      "Mem before-during-after: 26914304 3978256384 26915328\n"
     ]
    },
    {
     "name": "stderr",
     "output_type": "stream",
     "text": [
      " 21%|███████▍                           | 2.1344262295081773/10 [04:10<15:12, 115.99s/it]"
     ]
    },
    {
     "name": "stdout",
     "output_type": "stream",
     "text": [
      "Train Epoch: 3 [640/3918 (16%)]\tLoss: 1.350867\n",
      "Mem before-during-after: 26915328 3980049920 26915328\n"
     ]
    },
    {
     "name": "stderr",
     "output_type": "stream",
     "text": [
      " 23%|████████▏                           | 2.265573770491782/10 [04:26<15:17, 118.57s/it]"
     ]
    },
    {
     "name": "stdout",
     "output_type": "stream",
     "text": [
      "Train Epoch: 3 [1280/3918 (33%)]\tLoss: 1.415972\n",
      "Mem before-during-after: 26915328 3596953600 26915328\n"
     ]
    },
    {
     "name": "stderr",
     "output_type": "stream",
     "text": [
      " 24%|████████▋                           | 2.396721311475387/10 [04:43<16:37, 131.22s/it]"
     ]
    },
    {
     "name": "stdout",
     "output_type": "stream",
     "text": [
      "Train Epoch: 3 [1920/3918 (49%)]\tLoss: 1.336844\n",
      "Mem before-during-after: 26915328 3979735552 26915328\n"
     ]
    },
    {
     "name": "stderr",
     "output_type": "stream",
     "text": [
      " 25%|█████████                           | 2.527868852458992/10 [04:59<14:42, 118.07s/it]"
     ]
    },
    {
     "name": "stdout",
     "output_type": "stream",
     "text": [
      "Train Epoch: 3 [2560/3918 (66%)]\tLoss: 1.370390\n",
      "Mem before-during-after: 26915328 3980374528 26915328\n"
     ]
    },
    {
     "name": "stderr",
     "output_type": "stream",
     "text": [
      " 27%|█████████▌                          | 2.659016393442597/10 [05:15<17:19, 141.66s/it]"
     ]
    },
    {
     "name": "stdout",
     "output_type": "stream",
     "text": [
      "Train Epoch: 3 [3200/3918 (82%)]\tLoss: 1.376228\n",
      "Mem before-during-after: 26915328 3980699136 26915328\n"
     ]
    },
    {
     "name": "stderr",
     "output_type": "stream",
     "text": [
      " 28%|██████████                          | 2.790163934426202/10 [05:32<13:49, 115.01s/it]"
     ]
    },
    {
     "name": "stdout",
     "output_type": "stream",
     "text": [
      "Train Epoch: 3 [3840/3918 (98%)]\tLoss: 1.364376\n",
      "Mem before-during-after: 26915328 3981332992 26915328\n"
     ]
    },
    {
     "name": "stderr",
     "output_type": "stream",
     "text": [
      " 30%|███████████▍                          | 2.99999999999997/10 [05:47<07:41, 66.00s/it]"
     ]
    },
    {
     "name": "stdout",
     "output_type": "stream",
     "text": [
      "\n",
      "Test Epoch: 3\tAccuracy: 252/976 (26%)\n",
      "\n"
     ]
    },
    {
     "name": "stderr",
     "output_type": "stream",
     "text": [
      " 30%|███████████▍                          | 3.00327868852456/10 [05:47<09:23, 80.50s/it]"
     ]
    },
    {
     "name": "stdout",
     "output_type": "stream",
     "text": [
      "Train Epoch: 4 [0/3918 (0%)]\tLoss: 1.988927\n",
      "Mem before-during-after: 26914304 3978256896 26915328\n"
     ]
    },
    {
     "name": "stderr",
     "output_type": "stream",
     "text": [
      " 31%|███████████▎                        | 3.134426229508165/10 [06:03<13:04, 114.31s/it]"
     ]
    },
    {
     "name": "stdout",
     "output_type": "stream",
     "text": [
      "Train Epoch: 4 [640/3918 (16%)]\tLoss: 1.378913\n",
      "Mem before-during-after: 26915328 3953469440 26915328\n"
     ]
    },
    {
     "name": "stderr",
     "output_type": "stream",
     "text": [
      " 33%|████████████                         | 3.26557377049177/10 [06:18<12:49, 114.20s/it]"
     ]
    },
    {
     "name": "stdout",
     "output_type": "stream",
     "text": [
      "Train Epoch: 4 [1280/3918 (33%)]\tLoss: 1.383344\n",
      "Mem before-during-after: 26915328 3980049920 26915328\n"
     ]
    },
    {
     "name": "stderr",
     "output_type": "stream",
     "text": [
      " 34%|███████████▉                       | 3.3967213114753747/10 [06:35<13:38, 123.99s/it]"
     ]
    },
    {
     "name": "stdout",
     "output_type": "stream",
     "text": [
      "Train Epoch: 4 [1920/3918 (49%)]\tLoss: 1.444265\n",
      "Mem before-during-after: 27796992 3771930624 26915328\n"
     ]
    },
    {
     "name": "stderr",
     "output_type": "stream",
     "text": [
      " 35%|████████████▎                      | 3.5278688524589796/10 [06:53<15:39, 145.23s/it]"
     ]
    },
    {
     "name": "stdout",
     "output_type": "stream",
     "text": [
      "Train Epoch: 4 [2560/3918 (66%)]\tLoss: 1.536037\n",
      "Mem before-during-after: 27796992 3980142080 26915328\n"
     ]
    },
    {
     "name": "stderr",
     "output_type": "stream",
     "text": [
      " 37%|████████████▊                      | 3.6590163934425846/10 [07:10<13:13, 125.15s/it]"
     ]
    },
    {
     "name": "stdout",
     "output_type": "stream",
     "text": [
      "Train Epoch: 4 [3200/3918 (82%)]\tLoss: 1.533149\n",
      "Mem before-during-after: 26915328 3980049920 26915328\n"
     ]
    },
    {
     "name": "stderr",
     "output_type": "stream",
     "text": [
      " 38%|█████████████▎                     | 3.7901639344261895/10 [07:28<14:12, 137.27s/it]"
     ]
    },
    {
     "name": "stdout",
     "output_type": "stream",
     "text": [
      "Train Epoch: 4 [3840/3918 (98%)]\tLoss: 1.375192\n",
      "Mem before-during-after: 27796992 3980142080 26915328\n"
     ]
    },
    {
     "name": "stderr",
     "output_type": "stream",
     "text": [
      " 40%|██████████████▍                     | 3.9999999999999574/10 [07:43<06:31, 65.29s/it]"
     ]
    },
    {
     "name": "stdout",
     "output_type": "stream",
     "text": [
      "\n",
      "Test Epoch: 4\tAccuracy: 254/976 (26%)\n",
      "\n"
     ]
    },
    {
     "name": "stderr",
     "output_type": "stream",
     "text": [
      " 40%|██████████████▍                     | 4.0032786885245475/10 [07:43<08:24, 84.11s/it]"
     ]
    },
    {
     "name": "stdout",
     "output_type": "stream",
     "text": [
      "Train Epoch: 5 [0/3918 (0%)]\tLoss: 1.391557\n",
      "Mem before-during-after: 26914304 3978256384 26915328\n"
     ]
    },
    {
     "name": "stderr",
     "output_type": "stream",
     "text": [
      " 41%|██████████████▉                     | 4.134426229508152/10 [08:00<13:27, 137.65s/it]"
     ]
    },
    {
     "name": "stdout",
     "output_type": "stream",
     "text": [
      "Train Epoch: 5 [640/3918 (16%)]\tLoss: 1.421576\n",
      "Mem before-during-after: 26915328 3953398272 26915328\n"
     ]
    },
    {
     "name": "stderr",
     "output_type": "stream",
     "text": [
      " 43%|███████████████▎                    | 4.265573770491757/10 [08:18<13:09, 137.60s/it]"
     ]
    },
    {
     "name": "stdout",
     "output_type": "stream",
     "text": [
      "Train Epoch: 5 [1280/3918 (33%)]\tLoss: 1.300781\n",
      "Mem before-during-after: 26915328 3980374528 26915328\n"
     ]
    },
    {
     "name": "stderr",
     "output_type": "stream",
     "text": [
      " 44%|███████████████▊                    | 4.396721311475362/10 [08:33<10:46, 115.43s/it]"
     ]
    },
    {
     "name": "stdout",
     "output_type": "stream",
     "text": [
      "Train Epoch: 5 [1920/3918 (49%)]\tLoss: 1.372240\n",
      "Mem before-during-after: 26915328 3980049920 26915328\n"
     ]
    },
    {
     "name": "stderr",
     "output_type": "stream",
     "text": [
      " 45%|████████████████▎                   | 4.527868852458967/10 [08:48<11:09, 122.30s/it]"
     ]
    },
    {
     "name": "stdout",
     "output_type": "stream",
     "text": [
      "Train Epoch: 5 [2560/3918 (66%)]\tLoss: 1.414834\n",
      "Mem before-during-after: 26915328 3854770176 27348480\n"
     ]
    },
    {
     "name": "stderr",
     "output_type": "stream",
     "text": [
      " 47%|████████████████▊                   | 4.659016393442572/10 [09:05<13:17, 149.27s/it]"
     ]
    },
    {
     "name": "stdout",
     "output_type": "stream",
     "text": [
      "Train Epoch: 5 [3200/3918 (82%)]\tLoss: 1.376642\n",
      "Mem before-during-after: 26915328 3981023744 27796992\n"
     ]
    },
    {
     "name": "stderr",
     "output_type": "stream",
     "text": [
      " 48%|█████████████████▏                  | 4.790163934426177/10 [09:24<12:20, 142.10s/it]"
     ]
    },
    {
     "name": "stdout",
     "output_type": "stream",
     "text": [
      "Train Epoch: 5 [3840/3918 (98%)]\tLoss: 1.429950\n",
      "Mem before-during-after: 27348480 3980049920 27040256\n"
     ]
    },
    {
     "name": "stderr",
     "output_type": "stream",
     "text": [
      " 50%|██████████████████▍                  | 4.999999999999945/10 [09:38<05:35, 67.05s/it]"
     ]
    },
    {
     "name": "stdout",
     "output_type": "stream",
     "text": [
      "\n",
      "Test Epoch: 5\tAccuracy: 252/976 (26%)\n",
      "\n"
     ]
    },
    {
     "name": "stderr",
     "output_type": "stream",
     "text": [
      " 50%|██████████████████▌                  | 5.003278688524535/10 [09:39<06:52, 82.50s/it]"
     ]
    },
    {
     "name": "stdout",
     "output_type": "stream",
     "text": [
      "Train Epoch: 6 [0/3918 (0%)]\tLoss: 1.393521\n",
      "Mem before-during-after: 26914304 3978256896 26915328\n"
     ]
    },
    {
     "name": "stderr",
     "output_type": "stream",
     "text": [
      " 51%|██████████████████▉                  | 5.13442622950814/10 [09:54<10:17, 126.97s/it]"
     ]
    },
    {
     "name": "stdout",
     "output_type": "stream",
     "text": [
      "Train Epoch: 6 [640/3918 (16%)]\tLoss: 1.382530\n",
      "Mem before-during-after: 26915328 3980049920 26915328\n"
     ]
    },
    {
     "name": "stderr",
     "output_type": "stream",
     "text": [
      " 53%|██████████████████▉                 | 5.265573770491745/10 [10:12<09:16, 117.52s/it]"
     ]
    },
    {
     "name": "stdout",
     "output_type": "stream",
     "text": [
      "Train Epoch: 6 [1280/3918 (33%)]\tLoss: 5.084720\n",
      "Mem before-during-after: 26915328 3980374528 26915328\n"
     ]
    },
    {
     "name": "stderr",
     "output_type": "stream",
     "text": [
      " 54%|███████████████████▉                 | 5.39672131147535/10 [10:28<11:14, 146.57s/it]"
     ]
    },
    {
     "name": "stdout",
     "output_type": "stream",
     "text": [
      "Train Epoch: 6 [1920/3918 (49%)]\tLoss: 1.435733\n",
      "Mem before-during-after: 26915328 3772590592 27833856\n"
     ]
    },
    {
     "name": "stderr",
     "output_type": "stream",
     "text": [
      " 55%|███████████████████▉                | 5.527868852458955/10 [10:46<10:17, 137.99s/it]"
     ]
    },
    {
     "name": "stdout",
     "output_type": "stream",
     "text": [
      "Train Epoch: 6 [2560/3918 (66%)]\tLoss: 1.398084\n",
      "Mem before-during-after: 27348480 3980049920 27040256\n"
     ]
    },
    {
     "name": "stderr",
     "output_type": "stream",
     "text": [
      " 57%|████████████████████▉                | 5.65901639344256/10 [11:04<10:30, 145.31s/it]"
     ]
    },
    {
     "name": "stdout",
     "output_type": "stream",
     "text": [
      "Train Epoch: 6 [3200/3918 (82%)]\tLoss: 1.520391\n",
      "Mem before-during-after: 26915328 3980374528 26915328\n"
     ]
    },
    {
     "name": "stderr",
     "output_type": "stream",
     "text": [
      " 58%|████████████████████▊               | 5.790163934426165/10 [11:22<08:08, 115.94s/it]"
     ]
    },
    {
     "name": "stdout",
     "output_type": "stream",
     "text": [
      "Train Epoch: 6 [3840/3918 (98%)]\tLoss: 1.365720\n",
      "Mem before-during-after: 26915328 3982147072 26915328\n"
     ]
    },
    {
     "name": "stderr",
     "output_type": "stream",
     "text": [
      " 60%|█████████████████████▌              | 5.9999999999999325/10 [11:36<04:30, 67.71s/it]"
     ]
    },
    {
     "name": "stdout",
     "output_type": "stream",
     "text": [
      "\n",
      "Test Epoch: 6\tAccuracy: 254/976 (26%)\n",
      "\n"
     ]
    },
    {
     "name": "stderr",
     "output_type": "stream",
     "text": [
      " 60%|██████████████████████▏              | 6.003278688524523/10 [11:37<05:36, 84.31s/it]"
     ]
    },
    {
     "name": "stdout",
     "output_type": "stream",
     "text": [
      "Train Epoch: 7 [0/3918 (0%)]\tLoss: 1.334023\n",
      "Mem before-during-after: 26914304 3978256896 26915328\n"
     ]
    },
    {
     "name": "stderr",
     "output_type": "stream",
     "text": [
      " 61%|█████████████████████▍             | 6.1344262295081275/10 [11:55<08:59, 139.52s/it]"
     ]
    },
    {
     "name": "stdout",
     "output_type": "stream",
     "text": [
      "Train Epoch: 7 [640/3918 (16%)]\tLoss: 1.340463\n",
      "Mem before-during-after: 26915328 3980699136 26915328\n"
     ]
    },
    {
     "name": "stderr",
     "output_type": "stream",
     "text": [
      " 63%|█████████████████████▉             | 6.2655737704917325/10 [12:13<07:43, 124.24s/it]"
     ]
    },
    {
     "name": "stdout",
     "output_type": "stream",
     "text": [
      "Train Epoch: 7 [1280/3918 (33%)]\tLoss: 1.485055\n",
      "Mem before-during-after: 26915328 3980049920 26915328\n"
     ]
    },
    {
     "name": "stderr",
     "output_type": "stream",
     "text": [
      " 64%|███████████████████████             | 6.396721311475337/10 [12:30<07:46, 129.52s/it]"
     ]
    },
    {
     "name": "stdout",
     "output_type": "stream",
     "text": [
      "Train Epoch: 7 [1920/3918 (49%)]\tLoss: 1.349729\n",
      "Mem before-during-after: 27796992 3980699136 26915328\n"
     ]
    },
    {
     "name": "stderr",
     "output_type": "stream",
     "text": [
      " 65%|███████████████████████▌            | 6.527868852458942/10 [12:46<08:00, 138.43s/it]"
     ]
    },
    {
     "name": "stdout",
     "output_type": "stream",
     "text": [
      "Train Epoch: 7 [2560/3918 (66%)]\tLoss: 1.417638\n",
      "Mem before-during-after: 26915328 3980374528 26915328\n"
     ]
    },
    {
     "name": "stderr",
     "output_type": "stream",
     "text": [
      " 67%|███████████████████████▉            | 6.659016393442547/10 [13:05<07:58, 143.31s/it]"
     ]
    },
    {
     "name": "stdout",
     "output_type": "stream",
     "text": [
      "Train Epoch: 7 [3200/3918 (82%)]\tLoss: 1.403141\n",
      "Mem before-during-after: 26915328 3981023744 27796992\n"
     ]
    },
    {
     "name": "stderr",
     "output_type": "stream",
     "text": [
      " 68%|████████████████████████▍           | 6.790163934426152/10 [13:24<09:01, 168.71s/it]"
     ]
    },
    {
     "name": "stdout",
     "output_type": "stream",
     "text": [
      "Train Epoch: 7 [3840/3918 (98%)]\tLoss: 1.606531\n",
      "Mem before-during-after: 26915328 3980551680 26915328\n"
     ]
    },
    {
     "name": "stderr",
     "output_type": "stream",
     "text": [
      " 70%|██████████████████████████▌           | 6.99999999999992/10 [13:39<03:50, 76.74s/it]"
     ]
    },
    {
     "name": "stdout",
     "output_type": "stream",
     "text": [
      "\n",
      "Test Epoch: 7\tAccuracy: 254/976 (26%)\n",
      "\n"
     ]
    },
    {
     "name": "stderr",
     "output_type": "stream",
     "text": [
      " 70%|██████████████████████████▌           | 7.00327868852451/10 [13:39<04:36, 92.25s/it]"
     ]
    },
    {
     "name": "stdout",
     "output_type": "stream",
     "text": [
      "Train Epoch: 8 [0/3918 (0%)]\tLoss: 1.403980\n",
      "Mem before-during-after: 26914304 3978256896 26915328\n"
     ]
    },
    {
     "name": "stderr",
     "output_type": "stream",
     "text": [
      " 71%|█████████████████████████▋          | 7.134426229508115/10 [13:55<06:10, 129.22s/it]"
     ]
    },
    {
     "name": "stdout",
     "output_type": "stream",
     "text": [
      "Train Epoch: 8 [640/3918 (16%)]\tLoss: 1.398009\n",
      "Mem before-during-after: 26915328 3980126720 26915328\n"
     ]
    },
    {
     "name": "stderr",
     "output_type": "stream",
     "text": [
      " 73%|██████████████████████████▉          | 7.26557377049172/10 [14:11<06:24, 140.78s/it]"
     ]
    },
    {
     "name": "stdout",
     "output_type": "stream",
     "text": [
      "Train Epoch: 8 [1280/3918 (33%)]\tLoss: 1.399917\n",
      "Mem before-during-after: 26915328 3982471680 26915328\n"
     ]
    },
    {
     "name": "stderr",
     "output_type": "stream",
     "text": [
      " 74%|██████████████████████████▋         | 7.396721311475325/10 [14:29<05:55, 136.61s/it]"
     ]
    },
    {
     "name": "stdout",
     "output_type": "stream",
     "text": [
      "Train Epoch: 8 [1920/3918 (49%)]\tLoss: 1.448076\n",
      "Mem before-during-after: 26915328 3980374528 26915328\n"
     ]
    },
    {
     "name": "stderr",
     "output_type": "stream",
     "text": [
      " 75%|███████████████████████████▊         | 7.52786885245893/10 [14:45<04:43, 114.69s/it]"
     ]
    },
    {
     "name": "stdout",
     "output_type": "stream",
     "text": [
      "Train Epoch: 8 [2560/3918 (66%)]\tLoss: 1.365505\n",
      "Mem before-during-after: 27796992 3980142080 26915328\n"
     ]
    },
    {
     "name": "stderr",
     "output_type": "stream",
     "text": [
      " 77%|███████████████████████████▌        | 7.659016393442535/10 [15:02<04:26, 113.70s/it]"
     ]
    },
    {
     "name": "stdout",
     "output_type": "stream",
     "text": [
      "Train Epoch: 8 [3200/3918 (82%)]\tLoss: 1.408356\n",
      "Mem before-during-after: 26915328 3980049920 26915328\n"
     ]
    },
    {
     "name": "stderr",
     "output_type": "stream",
     "text": [
      " 78%|████████████████████████████▊        | 7.79016393442614/10 [15:17<04:17, 116.39s/it]"
     ]
    },
    {
     "name": "stdout",
     "output_type": "stream",
     "text": [
      "Train Epoch: 8 [3840/3918 (98%)]\tLoss: 1.386976\n",
      "Mem before-during-after: 26915328 3980049920 26915328\n"
     ]
    },
    {
     "name": "stderr",
     "output_type": "stream",
     "text": [
      " 80%|█████████████████████████████▌       | 7.999999999999908/10 [15:32<02:10, 65.21s/it]"
     ]
    },
    {
     "name": "stdout",
     "output_type": "stream",
     "text": [
      "\n",
      "Test Epoch: 8\tAccuracy: 254/976 (26%)\n",
      "\n"
     ]
    },
    {
     "name": "stderr",
     "output_type": "stream",
     "text": [
      " 80%|█████████████████████████████▌       | 8.003278688524498/10 [15:32<02:43, 82.12s/it]"
     ]
    },
    {
     "name": "stdout",
     "output_type": "stream",
     "text": [
      "Train Epoch: 9 [0/3918 (0%)]\tLoss: 1.851825\n",
      "Mem before-during-after: 26914304 3939779072 26915328\n"
     ]
    },
    {
     "name": "stderr",
     "output_type": "stream",
     "text": [
      " 81%|█████████████████████████████▎      | 8.134426229508103/10 [15:50<04:24, 141.69s/it]"
     ]
    },
    {
     "name": "stdout",
     "output_type": "stream",
     "text": [
      "Train Epoch: 9 [640/3918 (16%)]\tLoss: 1.410361\n",
      "Mem before-during-after: 26915328 3981580800 27796992\n"
     ]
    },
    {
     "name": "stderr",
     "output_type": "stream",
     "text": [
      " 83%|█████████████████████████████▊      | 8.265573770491708/10 [16:07<03:17, 114.12s/it]"
     ]
    },
    {
     "name": "stdout",
     "output_type": "stream",
     "text": [
      "Train Epoch: 9 [1280/3918 (33%)]\tLoss: 1.370667\n",
      "Mem before-during-after: 26915328 3980049920 26915328\n"
     ]
    },
    {
     "name": "stderr",
     "output_type": "stream",
     "text": [
      " 84%|██████████████████████████████▏     | 8.396721311475313/10 [16:25<03:42, 138.60s/it]"
     ]
    },
    {
     "name": "stdout",
     "output_type": "stream",
     "text": [
      "Train Epoch: 9 [1920/3918 (49%)]\tLoss: 1.360458\n",
      "Mem before-during-after: 26915328 3982796288 26915328\n"
     ]
    },
    {
     "name": "stderr",
     "output_type": "stream",
     "text": [
      " 85%|██████████████████████████████▋     | 8.527868852458917/10 [16:43<03:22, 137.35s/it]"
     ]
    },
    {
     "name": "stdout",
     "output_type": "stream",
     "text": [
      "Train Epoch: 9 [2560/3918 (66%)]\tLoss: 1.377316\n",
      "Mem before-during-after: 26915328 3981023744 27796992\n"
     ]
    },
    {
     "name": "stderr",
     "output_type": "stream",
     "text": [
      " 87%|███████████████████████████████▏    | 8.659016393442522/10 [17:00<03:03, 136.66s/it]"
     ]
    },
    {
     "name": "stdout",
     "output_type": "stream",
     "text": [
      "Train Epoch: 9 [3200/3918 (82%)]\tLoss: 1.382688\n",
      "Mem before-during-after: 26915328 3980699136 26915328\n"
     ]
    },
    {
     "name": "stderr",
     "output_type": "stream",
     "text": [
      " 88%|███████████████████████████████▋    | 8.790163934426127/10 [17:17<02:19, 115.65s/it]"
     ]
    },
    {
     "name": "stdout",
     "output_type": "stream",
     "text": [
      "Train Epoch: 9 [3840/3918 (98%)]\tLoss: 1.384853\n",
      "Mem before-during-after: 26915328 3980049920 26915328\n"
     ]
    },
    {
     "name": "stderr",
     "output_type": "stream",
     "text": [
      " 90%|█████████████████████████████████▎   | 8.999999999999895/10 [17:32<01:05, 65.49s/it]"
     ]
    },
    {
     "name": "stdout",
     "output_type": "stream",
     "text": [
      "\n",
      "Test Epoch: 9\tAccuracy: 254/976 (26%)\n",
      "\n"
     ]
    },
    {
     "name": "stderr",
     "output_type": "stream",
     "text": [
      " 90%|█████████████████████████████████▎   | 9.003278688524485/10 [17:32<01:20, 81.18s/it]"
     ]
    },
    {
     "name": "stdout",
     "output_type": "stream",
     "text": [
      "Train Epoch: 10 [0/3918 (0%)]\tLoss: 1.385276\n",
      "Mem before-during-after: 26914304 3978256384 26915328\n"
     ]
    },
    {
     "name": "stderr",
     "output_type": "stream",
     "text": [
      " 91%|█████████████████████████████████▊   | 9.13442622950809/10 [17:48<02:00, 138.98s/it]"
     ]
    },
    {
     "name": "stdout",
     "output_type": "stream",
     "text": [
      "Train Epoch: 10 [640/3918 (16%)]\tLoss: 1.412471\n",
      "Mem before-during-after: 27796992 3980699136 26915328\n"
     ]
    },
    {
     "name": "stderr",
     "output_type": "stream",
     "text": [
      " 93%|█████████████████████████████████▎  | 9.265573770491695/10 [18:06<02:07, 174.24s/it]"
     ]
    },
    {
     "name": "stdout",
     "output_type": "stream",
     "text": [
      "Train Epoch: 10 [1280/3918 (33%)]\tLoss: 1.361336\n",
      "Mem before-during-after: 27585024 3979888640 26915328\n"
     ]
    },
    {
     "name": "stderr",
     "output_type": "stream",
     "text": [
      " 94%|███████████████████████████████████▋  | 9.3967213114753/10 [18:24<01:23, 138.15s/it]"
     ]
    },
    {
     "name": "stdout",
     "output_type": "stream",
     "text": [
      "Train Epoch: 10 [1920/3918 (49%)]\tLoss: 1.418012\n",
      "Mem before-during-after: 27796992 3981023744 27796992\n"
     ]
    },
    {
     "name": "stderr",
     "output_type": "stream",
     "text": [
      " 95%|██████████████████████████████████▎ | 9.527868852458905/10 [18:42<01:05, 138.31s/it]"
     ]
    },
    {
     "name": "stdout",
     "output_type": "stream",
     "text": [
      "Train Epoch: 10 [2560/3918 (66%)]\tLoss: 1.383525\n",
      "Mem before-during-after: 27796992 3981023744 27796992\n"
     ]
    },
    {
     "name": "stderr",
     "output_type": "stream",
     "text": [
      " 97%|███████████████████████████████████▋ | 9.65901639344251/10 [19:00<00:47, 138.44s/it]"
     ]
    },
    {
     "name": "stdout",
     "output_type": "stream",
     "text": [
      "Train Epoch: 10 [3200/3918 (82%)]\tLoss: 1.369098\n",
      "Mem before-during-after: 27796992 3980142080 26915328\n"
     ]
    },
    {
     "name": "stderr",
     "output_type": "stream",
     "text": [
      " 98%|███████████████████████████████████▏| 9.790163934426115/10 [19:19<00:29, 139.13s/it]"
     ]
    },
    {
     "name": "stdout",
     "output_type": "stream",
     "text": [
      "Train Epoch: 10 [3840/3918 (98%)]\tLoss: 1.367156\n",
      "Mem before-during-after: 27796992 3982239232 26915328\n"
     ]
    },
    {
     "name": "stderr",
     "output_type": "stream",
     "text": [
      "100%|███████████████████████████████████▉| 9.999999999999883/10 [19:33<00:00, 117.39s/it]"
     ]
    },
    {
     "name": "stdout",
     "output_type": "stream",
     "text": [
      "\n",
      "Test Epoch: 10\tAccuracy: 254/976 (26%)\n",
      "\n"
     ]
    },
    {
     "name": "stderr",
     "output_type": "stream",
     "text": [
      "\n"
     ]
    }
   ],
   "source": [
    "log_interval = 40\n",
    "pbar_update = 1 / (len(train_loader) + len(test_loader))\n",
    "model.to(device)\n",
    "with tqdm(total=n_epoch) as pbar:\n",
    "    for epoch in range(1, n_epoch + 1):\n",
    "        train(model, epoch, log_interval, train_losses)\n",
    "        acc = test(model, epoch)\n",
    "        test_accuracy += [acc]\n",
    "        scheduler.step()"
   ]
  },
  {
   "cell_type": "code",
   "execution_count": 30,
   "id": "2769c3e9-c591-41b9-aa43-4541db539e87",
   "metadata": {},
   "outputs": [],
   "source": [
    "model_path = '../models_cremad4/cremad_label4_m14sinc_10epochs.pt' \n",
    "torch.save(model.state_dict(), model_path)"
   ]
  },
  {
   "cell_type": "code",
   "execution_count": 31,
   "id": "51ce01b3-cf27-4894-9bc2-5f795fddecb5",
   "metadata": {
    "scrolled": true
   },
   "outputs": [
    {
     "name": "stderr",
     "output_type": "stream",
     "text": [
      "  0%|                               | 0.003278688524590164/50 [00:00<1:45:55, 127.11s/it]"
     ]
    },
    {
     "name": "stdout",
     "output_type": "stream",
     "text": [
      "Train Epoch: 11 [0/3918 (0%)]\tLoss: 1.395735\n",
      "Mem before-during-after: 23740928 3975083008 26915328\n"
     ]
    },
    {
     "name": "stderr",
     "output_type": "stream",
     "text": [
      "  0%|                                | 0.13442622950819672/50 [00:17<2:18:58, 167.23s/it]"
     ]
    },
    {
     "name": "stdout",
     "output_type": "stream",
     "text": [
      "Train Epoch: 11 [640/3918 (16%)]\tLoss: 1.414097\n",
      "Mem before-during-after: 26915328 3980374528 26915328\n"
     ]
    },
    {
     "name": "stderr",
     "output_type": "stream",
     "text": [
      "  1%|▏                               | 0.26557377049180286/50 [00:36<1:37:56, 118.17s/it]"
     ]
    },
    {
     "name": "stdout",
     "output_type": "stream",
     "text": [
      "Train Epoch: 11 [1280/3918 (33%)]\tLoss: 1.383572\n",
      "Mem before-during-after: 26915328 3980049920 26915328\n"
     ]
    },
    {
     "name": "stderr",
     "output_type": "stream",
     "text": [
      "  1%|▎                                  | 0.39672131147541/50 [00:53<1:54:16, 138.23s/it]"
     ]
    },
    {
     "name": "stdout",
     "output_type": "stream",
     "text": [
      "Train Epoch: 11 [1920/3918 (49%)]\tLoss: 1.382043\n",
      "Mem before-during-after: 26915328 3980421120 26915328\n"
     ]
    },
    {
     "name": "stderr",
     "output_type": "stream",
     "text": [
      "  1%|▎                                | 0.5278688524590167/50 [01:10<1:55:12, 139.73s/it]"
     ]
    },
    {
     "name": "stdout",
     "output_type": "stream",
     "text": [
      "Train Epoch: 11 [2560/3918 (66%)]\tLoss: 1.362530\n",
      "Mem before-during-after: 26915328 3953949184 26915328\n"
     ]
    },
    {
     "name": "stderr",
     "output_type": "stream",
     "text": [
      "  1%|▍                                | 0.6590163934426216/50 [01:27<1:41:03, 122.90s/it]"
     ]
    },
    {
     "name": "stdout",
     "output_type": "stream",
     "text": [
      "Train Epoch: 11 [3200/3918 (82%)]\tLoss: 1.355255\n",
      "Mem before-during-after: 26915328 3980049920 26915328\n"
     ]
    },
    {
     "name": "stderr",
     "output_type": "stream",
     "text": [
      "  2%|▌                                | 0.7901639344262266/50 [01:42<1:35:49, 116.84s/it]"
     ]
    },
    {
     "name": "stdout",
     "output_type": "stream",
     "text": [
      "Train Epoch: 11 [3840/3918 (98%)]\tLoss: 1.370170\n",
      "Mem before-during-after: 26915328 3980699136 26915328\n"
     ]
    },
    {
     "name": "stderr",
     "output_type": "stream",
     "text": [
      "  2%|▋                                   | 0.9999999999999944/50 [01:58<59:00, 72.26s/it]"
     ]
    },
    {
     "name": "stdout",
     "output_type": "stream",
     "text": [
      "\n",
      "Test Epoch: 11\tAccuracy: 447/976 (46%)\n",
      "\n",
      "saved model: ../models_cremad4/cremad_label4_m14sinc_best_11epoch.pt\n"
     ]
    },
    {
     "name": "stderr",
     "output_type": "stream",
     "text": [
      "  2%|▋                                 | 1.0032786885245846/50 [01:58<1:12:32, 88.83s/it]"
     ]
    },
    {
     "name": "stdout",
     "output_type": "stream",
     "text": [
      "Train Epoch: 12 [0/3918 (0%)]\tLoss: 1.384979\n",
      "Mem before-during-after: 26914304 3978256384 26915328\n"
     ]
    },
    {
     "name": "stderr",
     "output_type": "stream",
     "text": [
      "  2%|▋                                | 1.1344262295081895/50 [02:17<2:10:52, 160.69s/it]"
     ]
    },
    {
     "name": "stdout",
     "output_type": "stream",
     "text": [
      "Train Epoch: 12 [640/3918 (16%)]\tLoss: 1.387956\n",
      "Mem before-during-after: 26915328 3980898816 26915328\n"
     ]
    },
    {
     "name": "stderr",
     "output_type": "stream",
     "text": [
      "  3%|▊                                | 1.2655737704917944/50 [02:33<1:53:52, 140.19s/it]"
     ]
    },
    {
     "name": "stdout",
     "output_type": "stream",
     "text": [
      "Train Epoch: 12 [1280/3918 (33%)]\tLoss: 1.386483\n",
      "Mem before-during-after: 26915328 3980374528 26915328\n"
     ]
    },
    {
     "name": "stderr",
     "output_type": "stream",
     "text": [
      "  3%|▉                                | 1.3967213114753994/50 [02:52<1:54:35, 141.45s/it]"
     ]
    },
    {
     "name": "stdout",
     "output_type": "stream",
     "text": [
      "Train Epoch: 12 [1920/3918 (49%)]\tLoss: 1.390244\n",
      "Mem before-during-after: 26915328 3982471680 26915328\n"
     ]
    },
    {
     "name": "stderr",
     "output_type": "stream",
     "text": [
      "  3%|█                                | 1.5278688524590043/50 [03:09<1:33:19, 115.51s/it]"
     ]
    },
    {
     "name": "stdout",
     "output_type": "stream",
     "text": [
      "Train Epoch: 12 [2560/3918 (66%)]\tLoss: 1.363519\n",
      "Mem before-during-after: 26915328 3982147072 26915328\n"
     ]
    },
    {
     "name": "stderr",
     "output_type": "stream",
     "text": [
      "  3%|█                                | 1.6590163934426092/50 [03:26<1:42:10, 126.82s/it]"
     ]
    },
    {
     "name": "stdout",
     "output_type": "stream",
     "text": [
      "Train Epoch: 12 [3200/3918 (82%)]\tLoss: 1.357311\n",
      "Mem before-during-after: 26915328 3982147072 26915328\n"
     ]
    },
    {
     "name": "stderr",
     "output_type": "stream",
     "text": [
      "  4%|█▏                               | 1.7901639344262141/50 [03:42<1:51:01, 138.17s/it]"
     ]
    },
    {
     "name": "stdout",
     "output_type": "stream",
     "text": [
      "Train Epoch: 12 [3840/3918 (98%)]\tLoss: 1.268887\n",
      "Mem before-during-after: 27239936 3922216448 26915328\n"
     ]
    },
    {
     "name": "stderr",
     "output_type": "stream",
     "text": [
      "  4%|█▍                                   | 1.999999999999982/50 [03:57<54:44, 68.42s/it]"
     ]
    },
    {
     "name": "stdout",
     "output_type": "stream",
     "text": [
      "\n",
      "Test Epoch: 12\tAccuracy: 351/976 (36%)\n",
      "\n"
     ]
    },
    {
     "name": "stderr",
     "output_type": "stream",
     "text": [
      "  4%|█▎                                | 2.0032786885245724/50 [03:57<1:05:42, 82.13s/it]"
     ]
    },
    {
     "name": "stdout",
     "output_type": "stream",
     "text": [
      "Train Epoch: 13 [0/3918 (0%)]\tLoss: 1.389796\n",
      "Mem before-during-after: 26914304 3978256384 26915328\n"
     ]
    },
    {
     "name": "stderr",
     "output_type": "stream",
     "text": [
      "  4%|█▍                               | 2.1344262295081773/50 [04:14<1:54:13, 143.17s/it]"
     ]
    },
    {
     "name": "stdout",
     "output_type": "stream",
     "text": [
      "Train Epoch: 13 [640/3918 (16%)]\tLoss: 1.375621\n",
      "Mem before-during-after: 26915328 3980699136 26915328\n"
     ]
    },
    {
     "name": "stderr",
     "output_type": "stream",
     "text": [
      "  5%|█▌                                | 2.265573770491782/50 [04:30<1:30:38, 113.94s/it]"
     ]
    },
    {
     "name": "stdout",
     "output_type": "stream",
     "text": [
      "Train Epoch: 13 [1280/3918 (33%)]\tLoss: 1.385159\n",
      "Mem before-during-after: 26915328 3982147072 26915328\n"
     ]
    },
    {
     "name": "stderr",
     "output_type": "stream",
     "text": [
      "  5%|█▋                                | 2.396721311475387/50 [04:47<1:34:09, 118.68s/it]"
     ]
    },
    {
     "name": "stdout",
     "output_type": "stream",
     "text": [
      "Train Epoch: 13 [1920/3918 (49%)]\tLoss: 1.352535\n",
      "Mem before-during-after: 26915328 3982147072 26915328\n"
     ]
    },
    {
     "name": "stderr",
     "output_type": "stream",
     "text": [
      "  5%|█▊                                 | 2.531147540983582/50 [05:04<1:18:26, 99.14s/it]"
     ]
    },
    {
     "name": "stdout",
     "output_type": "stream",
     "text": [
      "Train Epoch: 13 [2560/3918 (66%)]\tLoss: 1.354654\n",
      "Mem before-during-after: 26915328 3982147072 26915328\n"
     ]
    },
    {
     "name": "stderr",
     "output_type": "stream",
     "text": [
      "  5%|█▊                                | 2.659016393442597/50 [05:19<1:28:40, 112.39s/it]"
     ]
    },
    {
     "name": "stdout",
     "output_type": "stream",
     "text": [
      "Train Epoch: 13 [3200/3918 (82%)]\tLoss: 1.340020\n",
      "Mem before-during-after: 26915328 3982147072 26915328\n"
     ]
    },
    {
     "name": "stderr",
     "output_type": "stream",
     "text": [
      "  6%|█▉                                | 2.790163934426202/50 [05:34<1:47:20, 136.43s/it]"
     ]
    },
    {
     "name": "stdout",
     "output_type": "stream",
     "text": [
      "Train Epoch: 13 [3840/3918 (98%)]\tLoss: 1.290034\n",
      "Mem before-during-after: 26915328 3980374528 26915328\n"
     ]
    },
    {
     "name": "stderr",
     "output_type": "stream",
     "text": [
      "  6%|██▎                                   | 2.99999999999997/50 [05:49<52:05, 66.51s/it]"
     ]
    },
    {
     "name": "stdout",
     "output_type": "stream",
     "text": [
      "\n",
      "Test Epoch: 13\tAccuracy: 258/976 (26%)\n",
      "\n"
     ]
    },
    {
     "name": "stderr",
     "output_type": "stream",
     "text": [
      "  6%|██▏                                 | 3.00327868852456/50 [05:49<1:03:58, 81.67s/it]"
     ]
    },
    {
     "name": "stdout",
     "output_type": "stream",
     "text": [
      "Train Epoch: 14 [0/3918 (0%)]\tLoss: 1.501523\n",
      "Mem before-during-after: 26914304 3978256896 26915328\n"
     ]
    },
    {
     "name": "stderr",
     "output_type": "stream",
     "text": [
      "  6%|██▏                               | 3.134426229508165/50 [06:05<1:47:45, 137.95s/it]"
     ]
    },
    {
     "name": "stdout",
     "output_type": "stream",
     "text": [
      "Train Epoch: 14 [640/3918 (16%)]\tLoss: 1.347682\n",
      "Mem before-during-after: 26915328 3980374528 26915328\n"
     ]
    },
    {
     "name": "stderr",
     "output_type": "stream",
     "text": [
      "  7%|██▎                                | 3.26557377049177/50 [06:21<1:46:05, 136.21s/it]"
     ]
    },
    {
     "name": "stdout",
     "output_type": "stream",
     "text": [
      "Train Epoch: 14 [1280/3918 (33%)]\tLoss: 1.312496\n",
      "Mem before-during-after: 26915328 3981007872 26915328\n"
     ]
    },
    {
     "name": "stderr",
     "output_type": "stream",
     "text": [
      "  7%|██▏                              | 3.3967213114753747/50 [06:39<1:48:43, 139.97s/it]"
     ]
    },
    {
     "name": "stdout",
     "output_type": "stream",
     "text": [
      "Train Epoch: 14 [1920/3918 (49%)]\tLoss: 1.323928\n",
      "Mem before-during-after: 27796992 3981023744 27796992\n"
     ]
    },
    {
     "name": "stderr",
     "output_type": "stream",
     "text": [
      "  7%|██▎                              | 3.5278688524589796/50 [06:54<1:26:37, 111.84s/it]"
     ]
    },
    {
     "name": "stdout",
     "output_type": "stream",
     "text": [
      "Train Epoch: 14 [2560/3918 (66%)]\tLoss: 1.361674\n",
      "Mem before-during-after: 26915328 3982147072 26915328\n"
     ]
    },
    {
     "name": "stderr",
     "output_type": "stream",
     "text": [
      "  7%|██▍                              | 3.6590163934425846/50 [07:10<1:27:36, 113.44s/it]"
     ]
    },
    {
     "name": "stdout",
     "output_type": "stream",
     "text": [
      "Train Epoch: 14 [3200/3918 (82%)]\tLoss: 1.359992\n",
      "Mem before-during-after: 26915328 3982147072 26915328\n"
     ]
    },
    {
     "name": "stderr",
     "output_type": "stream",
     "text": [
      "  8%|██▌                              | 3.7901639344261895/50 [07:26<1:45:03, 136.40s/it]"
     ]
    },
    {
     "name": "stdout",
     "output_type": "stream",
     "text": [
      "Train Epoch: 14 [3840/3918 (98%)]\tLoss: 1.331636\n",
      "Mem before-during-after: 27796992 3981023744 27796992\n"
     ]
    },
    {
     "name": "stderr",
     "output_type": "stream",
     "text": [
      "  8%|██▉                                 | 3.9999999999999574/50 [07:40<49:45, 64.89s/it]"
     ]
    },
    {
     "name": "stdout",
     "output_type": "stream",
     "text": [
      "\n",
      "Test Epoch: 14\tAccuracy: 387/976 (39%)\n",
      "\n"
     ]
    },
    {
     "name": "stderr",
     "output_type": "stream",
     "text": [
      "  8%|██▋                               | 4.0032786885245475/50 [07:41<1:02:27, 81.48s/it]"
     ]
    },
    {
     "name": "stdout",
     "output_type": "stream",
     "text": [
      "Train Epoch: 15 [0/3918 (0%)]\tLoss: 1.273141\n",
      "Mem before-during-after: 26914304 3978256384 26915328\n"
     ]
    },
    {
     "name": "stderr",
     "output_type": "stream",
     "text": [
      "  8%|██▊                               | 4.134426229508152/50 [07:57<1:48:01, 141.32s/it]"
     ]
    },
    {
     "name": "stdout",
     "output_type": "stream",
     "text": [
      "Train Epoch: 15 [640/3918 (16%)]\tLoss: 1.333131\n",
      "Mem before-during-after: 27796992 3981023744 27796992\n"
     ]
    },
    {
     "name": "stderr",
     "output_type": "stream",
     "text": [
      "  9%|██▉                               | 4.265573770491757/50 [08:15<1:41:35, 133.28s/it]"
     ]
    },
    {
     "name": "stdout",
     "output_type": "stream",
     "text": [
      "Train Epoch: 15 [1280/3918 (33%)]\tLoss: 1.331727\n",
      "Mem before-during-after: 26915328 3982147072 26915328\n"
     ]
    },
    {
     "name": "stderr",
     "output_type": "stream",
     "text": [
      "  9%|██▉                               | 4.396721311475362/50 [08:30<1:26:08, 113.34s/it]"
     ]
    },
    {
     "name": "stdout",
     "output_type": "stream",
     "text": [
      "Train Epoch: 15 [1920/3918 (49%)]\tLoss: 1.311106\n",
      "Mem before-during-after: 26915328 3980049920 26915328\n"
     ]
    },
    {
     "name": "stderr",
     "output_type": "stream",
     "text": [
      "  9%|███                               | 4.527868852458967/50 [08:45<1:25:15, 112.51s/it]"
     ]
    },
    {
     "name": "stdout",
     "output_type": "stream",
     "text": [
      "Train Epoch: 15 [2560/3918 (66%)]\tLoss: 1.355745\n",
      "Mem before-during-after: 26915328 3980049920 26915328\n"
     ]
    },
    {
     "name": "stderr",
     "output_type": "stream",
     "text": [
      "  9%|███▏                              | 4.659016393442572/50 [09:02<1:45:17, 139.34s/it]"
     ]
    },
    {
     "name": "stdout",
     "output_type": "stream",
     "text": [
      "Train Epoch: 15 [3200/3918 (82%)]\tLoss: 1.258735\n",
      "Mem before-during-after: 27796992 3981023744 27796992\n"
     ]
    },
    {
     "name": "stderr",
     "output_type": "stream",
     "text": [
      " 10%|███▎                              | 4.790163934426177/50 [09:19<1:25:16, 113.18s/it]"
     ]
    },
    {
     "name": "stdout",
     "output_type": "stream",
     "text": [
      "Train Epoch: 15 [3840/3918 (98%)]\tLoss: 1.252216\n",
      "Mem before-during-after: 26915328 3980049920 26915328\n"
     ]
    },
    {
     "name": "stderr",
     "output_type": "stream",
     "text": [
      " 10%|███▋                                 | 4.999999999999945/50 [09:33<50:25, 67.23s/it]"
     ]
    },
    {
     "name": "stdout",
     "output_type": "stream",
     "text": [
      "\n",
      "Test Epoch: 15\tAccuracy: 306/976 (31%)\n",
      "\n"
     ]
    },
    {
     "name": "stderr",
     "output_type": "stream",
     "text": [
      " 10%|███▌                               | 5.003278688524535/50 [09:34<1:01:41, 82.27s/it]"
     ]
    },
    {
     "name": "stdout",
     "output_type": "stream",
     "text": [
      "Train Epoch: 16 [0/3918 (0%)]\tLoss: 1.390649\n",
      "Mem before-during-after: 26914304 3978256384 26915328\n"
     ]
    },
    {
     "name": "stderr",
     "output_type": "stream",
     "text": [
      " 10%|███▌                               | 5.13442622950814/50 [09:51<1:42:40, 137.31s/it]"
     ]
    },
    {
     "name": "stdout",
     "output_type": "stream",
     "text": [
      "Train Epoch: 16 [640/3918 (16%)]\tLoss: 1.268760\n",
      "Mem before-during-after: 26915328 3980699136 26915328\n"
     ]
    },
    {
     "name": "stderr",
     "output_type": "stream",
     "text": [
      " 11%|███▌                              | 5.265573770491745/50 [10:09<1:50:04, 147.65s/it]"
     ]
    },
    {
     "name": "stdout",
     "output_type": "stream",
     "text": [
      "Train Epoch: 16 [1280/3918 (33%)]\tLoss: 1.322056\n",
      "Mem before-during-after: 26915328 3980312064 26915328\n"
     ]
    },
    {
     "name": "stderr",
     "output_type": "stream",
     "text": [
      " 11%|███▊                               | 5.39672131147535/50 [10:26<1:44:35, 140.69s/it]"
     ]
    },
    {
     "name": "stdout",
     "output_type": "stream",
     "text": [
      "Train Epoch: 16 [1920/3918 (49%)]\tLoss: 1.198825\n",
      "Mem before-during-after: 26915328 3980699136 26915328\n"
     ]
    },
    {
     "name": "stderr",
     "output_type": "stream",
     "text": [
      " 11%|███▊                              | 5.527868852458955/50 [10:43<1:35:41, 129.10s/it]"
     ]
    },
    {
     "name": "stdout",
     "output_type": "stream",
     "text": [
      "Train Epoch: 16 [2560/3918 (66%)]\tLoss: 1.215239\n",
      "Mem before-during-after: 27348480 3981023744 27796992\n"
     ]
    },
    {
     "name": "stderr",
     "output_type": "stream",
     "text": [
      " 11%|███▉                               | 5.65901639344256/50 [11:00<1:37:18, 131.68s/it]"
     ]
    },
    {
     "name": "stdout",
     "output_type": "stream",
     "text": [
      "Train Epoch: 16 [3200/3918 (82%)]\tLoss: 1.314352\n",
      "Mem before-during-after: 27796992 3851975680 27348480\n"
     ]
    },
    {
     "name": "stderr",
     "output_type": "stream",
     "text": [
      " 12%|███▉                              | 5.790163934426165/50 [11:19<1:42:36, 139.26s/it]"
     ]
    },
    {
     "name": "stdout",
     "output_type": "stream",
     "text": [
      "Train Epoch: 16 [3840/3918 (98%)]\tLoss: 1.658033\n",
      "Mem before-during-after: 26915328 3981580800 27796992\n"
     ]
    },
    {
     "name": "stderr",
     "output_type": "stream",
     "text": [
      " 12%|████▎                               | 5.9999999999999325/50 [11:34<49:33, 67.58s/it]"
     ]
    },
    {
     "name": "stdout",
     "output_type": "stream",
     "text": [
      "\n",
      "Test Epoch: 16\tAccuracy: 255/976 (26%)\n",
      "\n"
     ]
    },
    {
     "name": "stderr",
     "output_type": "stream",
     "text": [
      " 12%|████▏                              | 6.003278688524523/50 [11:34<1:00:20, 82.30s/it]"
     ]
    },
    {
     "name": "stdout",
     "output_type": "stream",
     "text": [
      "Train Epoch: 17 [0/3918 (0%)]\tLoss: 1.208133\n",
      "Mem before-during-after: 26914304 3978256384 26915328\n"
     ]
    },
    {
     "name": "stderr",
     "output_type": "stream",
     "text": [
      " 12%|████                             | 6.1344262295081275/50 [11:51<1:44:03, 142.33s/it]"
     ]
    },
    {
     "name": "stdout",
     "output_type": "stream",
     "text": [
      "Train Epoch: 17 [640/3918 (16%)]\tLoss: 1.323283\n",
      "Mem before-during-after: 27796992 3980699136 26915328\n"
     ]
    },
    {
     "name": "stderr",
     "output_type": "stream",
     "text": [
      " 13%|████▏                            | 6.2655737704917325/50 [12:09<1:50:41, 151.85s/it]"
     ]
    },
    {
     "name": "stdout",
     "output_type": "stream",
     "text": [
      "Train Epoch: 17 [1280/3918 (33%)]\tLoss: 1.539802\n",
      "Mem before-during-after: 26915328 3981023744 27796992\n"
     ]
    },
    {
     "name": "stderr",
     "output_type": "stream",
     "text": [
      " 13%|████▎                             | 6.396721311475337/50 [12:27<1:33:38, 128.86s/it]"
     ]
    },
    {
     "name": "stdout",
     "output_type": "stream",
     "text": [
      "Train Epoch: 17 [1920/3918 (49%)]\tLoss: 1.288469\n",
      "Mem before-during-after: 27796992 3922406912 26915328\n"
     ]
    },
    {
     "name": "stderr",
     "output_type": "stream",
     "text": [
      " 13%|████▍                             | 6.527868852458942/50 [12:45<1:39:42, 137.61s/it]"
     ]
    },
    {
     "name": "stdout",
     "output_type": "stream",
     "text": [
      "Train Epoch: 17 [2560/3918 (66%)]\tLoss: 1.390144\n",
      "Mem before-during-after: 27796992 3980451328 27040256\n"
     ]
    },
    {
     "name": "stderr",
     "output_type": "stream",
     "text": [
      " 13%|████▌                             | 6.659016393442547/50 [13:02<1:35:11, 131.78s/it]"
     ]
    },
    {
     "name": "stdout",
     "output_type": "stream",
     "text": [
      "Train Epoch: 17 [3200/3918 (82%)]\tLoss: 1.338404\n",
      "Mem before-during-after: 26915328 3938939392 27466240\n"
     ]
    },
    {
     "name": "stderr",
     "output_type": "stream",
     "text": [
      " 14%|████▌                             | 6.790163934426152/50 [13:19<1:41:56, 141.55s/it]"
     ]
    },
    {
     "name": "stdout",
     "output_type": "stream",
     "text": [
      "Train Epoch: 17 [3840/3918 (98%)]\tLoss: 1.297940\n",
      "Mem before-during-after: 27348480 3979239424 26915328\n"
     ]
    },
    {
     "name": "stderr",
     "output_type": "stream",
     "text": [
      " 14%|█████▎                                | 6.99999999999992/50 [13:33<49:31, 69.11s/it]"
     ]
    },
    {
     "name": "stdout",
     "output_type": "stream",
     "text": [
      "\n",
      "Test Epoch: 17\tAccuracy: 487/976 (50%)\n",
      "\n",
      "saved model: ../models_cremad4/cremad_label4_m14sinc_best_17epoch.pt\n"
     ]
    },
    {
     "name": "stderr",
     "output_type": "stream",
     "text": [
      " 14%|█████                               | 7.00327868852451/50 [13:34<1:00:33, 84.51s/it]"
     ]
    },
    {
     "name": "stdout",
     "output_type": "stream",
     "text": [
      "Train Epoch: 18 [0/3918 (0%)]\tLoss: 1.305851\n",
      "Mem before-during-after: 26914304 3978256384 26915328\n"
     ]
    },
    {
     "name": "stderr",
     "output_type": "stream",
     "text": [
      " 14%|████▊                             | 7.134426229508115/50 [13:49<1:22:49, 115.94s/it]"
     ]
    },
    {
     "name": "stdout",
     "output_type": "stream",
     "text": [
      "Train Epoch: 18 [640/3918 (16%)]\tLoss: 1.311306\n",
      "Mem before-during-after: 26915328 3980049920 26915328\n"
     ]
    },
    {
     "name": "stderr",
     "output_type": "stream",
     "text": [
      " 15%|█████                              | 7.26557377049172/50 [14:05<1:25:44, 120.39s/it]"
     ]
    },
    {
     "name": "stdout",
     "output_type": "stream",
     "text": [
      "Train Epoch: 18 [1280/3918 (33%)]\tLoss: 1.259254\n",
      "Mem before-during-after: 26915328 3980049920 26915328\n"
     ]
    },
    {
     "name": "stderr",
     "output_type": "stream",
     "text": [
      " 15%|█████                             | 7.396721311475325/50 [14:19<1:19:44, 112.31s/it]"
     ]
    },
    {
     "name": "stdout",
     "output_type": "stream",
     "text": [
      "Train Epoch: 18 [1920/3918 (49%)]\tLoss: 1.330899\n",
      "Mem before-during-after: 26915328 3980049920 26915328\n"
     ]
    },
    {
     "name": "stderr",
     "output_type": "stream",
     "text": [
      " 15%|█████▎                             | 7.52786885245893/50 [14:35<1:38:04, 138.56s/it]"
     ]
    },
    {
     "name": "stdout",
     "output_type": "stream",
     "text": [
      "Train Epoch: 18 [2560/3918 (66%)]\tLoss: 1.202460\n",
      "Mem before-during-after: 26915328 3982223360 26915328\n"
     ]
    },
    {
     "name": "stderr",
     "output_type": "stream",
     "text": [
      " 15%|█████▏                            | 7.659016393442535/50 [14:52<1:34:00, 133.22s/it]"
     ]
    },
    {
     "name": "stdout",
     "output_type": "stream",
     "text": [
      "Train Epoch: 18 [3200/3918 (82%)]\tLoss: 1.390219\n",
      "Mem before-during-after: 26915328 3980374528 26915328\n"
     ]
    },
    {
     "name": "stderr",
     "output_type": "stream",
     "text": [
      " 16%|█████▍                             | 7.79016393442614/50 [15:11<1:38:36, 140.18s/it]"
     ]
    },
    {
     "name": "stdout",
     "output_type": "stream",
     "text": [
      "Train Epoch: 18 [3840/3918 (98%)]\tLoss: 1.272003\n",
      "Mem before-during-after: 26915328 3980699136 26915328\n"
     ]
    },
    {
     "name": "stderr",
     "output_type": "stream",
     "text": [
      " 16%|█████▉                               | 7.999999999999908/50 [15:26<48:11, 68.85s/it]"
     ]
    },
    {
     "name": "stdout",
     "output_type": "stream",
     "text": [
      "\n",
      "Test Epoch: 18\tAccuracy: 257/976 (26%)\n",
      "\n"
     ]
    },
    {
     "name": "stderr",
     "output_type": "stream",
     "text": [
      " 16%|█████▉                               | 8.003278688524498/50 [15:26<58:00, 82.88s/it]"
     ]
    },
    {
     "name": "stdout",
     "output_type": "stream",
     "text": [
      "Train Epoch: 19 [0/3918 (0%)]\tLoss: 1.544467\n",
      "Mem before-during-after: 26914304 3978256384 26915328\n"
     ]
    },
    {
     "name": "stderr",
     "output_type": "stream",
     "text": [
      " 16%|█████▌                            | 8.134426229508103/50 [15:43<1:38:33, 141.26s/it]"
     ]
    },
    {
     "name": "stdout",
     "output_type": "stream",
     "text": [
      "Train Epoch: 19 [640/3918 (16%)]\tLoss: 1.302680\n",
      "Mem before-during-after: 26915328 3978381312 26915328\n"
     ]
    },
    {
     "name": "stderr",
     "output_type": "stream",
     "text": [
      " 17%|█████▌                            | 8.265573770491708/50 [16:00<1:36:58, 139.41s/it]"
     ]
    },
    {
     "name": "stdout",
     "output_type": "stream",
     "text": [
      "Train Epoch: 19 [1280/3918 (33%)]\tLoss: 1.042013\n",
      "Mem before-during-after: 26915328 3980699136 26915328\n"
     ]
    },
    {
     "name": "stderr",
     "output_type": "stream",
     "text": [
      " 17%|█████▋                            | 8.396721311475313/50 [16:19<1:48:54, 157.06s/it]"
     ]
    },
    {
     "name": "stdout",
     "output_type": "stream",
     "text": [
      "Train Epoch: 19 [1920/3918 (49%)]\tLoss: 1.175307\n",
      "Mem before-during-after: 26915328 3981023744 27796992\n"
     ]
    },
    {
     "name": "stderr",
     "output_type": "stream",
     "text": [
      " 17%|█████▊                            | 8.531147540983508/50 [16:37<1:23:02, 120.15s/it]"
     ]
    },
    {
     "name": "stdout",
     "output_type": "stream",
     "text": [
      "Train Epoch: 19 [2560/3918 (66%)]\tLoss: 1.239323\n",
      "Mem before-during-after: 26915328 3977184768 26915328\n"
     ]
    },
    {
     "name": "stderr",
     "output_type": "stream",
     "text": [
      " 17%|█████▉                            | 8.659016393442522/50 [16:55<1:36:01, 139.36s/it]"
     ]
    },
    {
     "name": "stdout",
     "output_type": "stream",
     "text": [
      "Train Epoch: 19 [3200/3918 (82%)]\tLoss: 1.074348\n",
      "Mem before-during-after: 26915328 3953949184 26915328\n"
     ]
    },
    {
     "name": "stderr",
     "output_type": "stream",
     "text": [
      " 18%|█████▉                            | 8.790163934426127/50 [17:13<1:40:44, 146.69s/it]"
     ]
    },
    {
     "name": "stdout",
     "output_type": "stream",
     "text": [
      "Train Epoch: 19 [3840/3918 (98%)]\tLoss: 1.396170\n",
      "Mem before-during-after: 26915328 3980466688 27239936\n"
     ]
    },
    {
     "name": "stderr",
     "output_type": "stream",
     "text": [
      " 18%|██████▋                              | 8.999999999999895/50 [17:28<45:52, 67.14s/it]"
     ]
    },
    {
     "name": "stdout",
     "output_type": "stream",
     "text": [
      "\n",
      "Test Epoch: 19\tAccuracy: 485/976 (49%)\n",
      "\n"
     ]
    },
    {
     "name": "stderr",
     "output_type": "stream",
     "text": [
      " 18%|██████▋                              | 9.003278688524485/50 [17:28<55:14, 80.85s/it]"
     ]
    },
    {
     "name": "stdout",
     "output_type": "stream",
     "text": [
      "Train Epoch: 20 [0/3918 (0%)]\tLoss: 1.256682\n",
      "Mem before-during-after: 26914304 3978256384 26915328\n"
     ]
    },
    {
     "name": "stderr",
     "output_type": "stream",
     "text": [
      " 18%|██████▍                            | 9.13442622950809/50 [17:47<1:37:26, 143.07s/it]"
     ]
    },
    {
     "name": "stdout",
     "output_type": "stream",
     "text": [
      "Train Epoch: 20 [640/3918 (16%)]\tLoss: 1.146251\n",
      "Mem before-during-after: 26915328 3980374528 27040256\n"
     ]
    },
    {
     "name": "stderr",
     "output_type": "stream",
     "text": [
      " 19%|██████▎                           | 9.265573770491695/50 [18:05<1:35:08, 140.14s/it]"
     ]
    },
    {
     "name": "stdout",
     "output_type": "stream",
     "text": [
      "Train Epoch: 20 [1280/3918 (33%)]\tLoss: 1.031308\n",
      "Mem before-during-after: 26915328 3980374528 26915328\n"
     ]
    },
    {
     "name": "stderr",
     "output_type": "stream",
     "text": [
      " 19%|██████▊                             | 9.3967213114753/50 [18:22<1:19:29, 117.46s/it]"
     ]
    },
    {
     "name": "stdout",
     "output_type": "stream",
     "text": [
      "Train Epoch: 20 [1920/3918 (49%)]\tLoss: 1.644713\n",
      "Mem before-during-after: 26915328 3980049920 26915328\n"
     ]
    },
    {
     "name": "stderr",
     "output_type": "stream",
     "text": [
      " 19%|██████▍                           | 9.527868852458905/50 [18:39<1:34:15, 139.74s/it]"
     ]
    },
    {
     "name": "stdout",
     "output_type": "stream",
     "text": [
      "Train Epoch: 20 [2560/3918 (66%)]\tLoss: 1.187277\n",
      "Mem before-during-after: 26915328 3980374528 26915328\n"
     ]
    },
    {
     "name": "stderr",
     "output_type": "stream",
     "text": [
      " 19%|██████▊                            | 9.65901639344251/50 [18:57<1:35:11, 141.58s/it]"
     ]
    },
    {
     "name": "stdout",
     "output_type": "stream",
     "text": [
      "Train Epoch: 20 [3200/3918 (82%)]\tLoss: 1.329152\n",
      "Mem before-during-after: 26915328 3980374528 26915328\n"
     ]
    },
    {
     "name": "stderr",
     "output_type": "stream",
     "text": [
      " 20%|██████▋                           | 9.790163934426115/50 [19:15<1:35:00, 141.77s/it]"
     ]
    },
    {
     "name": "stdout",
     "output_type": "stream",
     "text": [
      "Train Epoch: 20 [3840/3918 (98%)]\tLoss: 1.134864\n",
      "Mem before-during-after: 26915328 3980374528 26915328\n"
     ]
    },
    {
     "name": "stderr",
     "output_type": "stream",
     "text": [
      " 20%|███████▍                             | 9.999999999999883/50 [19:30<44:38, 66.95s/it]"
     ]
    },
    {
     "name": "stdout",
     "output_type": "stream",
     "text": [
      "\n",
      "Test Epoch: 20\tAccuracy: 427/976 (44%)\n",
      "\n"
     ]
    },
    {
     "name": "stderr",
     "output_type": "stream",
     "text": [
      " 20%|███████▏                            | 10.003278688524473/50 [19:31<55:21, 83.04s/it]"
     ]
    },
    {
     "name": "stdout",
     "output_type": "stream",
     "text": [
      "Train Epoch: 21 [0/3918 (0%)]\tLoss: 0.969684\n",
      "Mem before-during-after: 26914304 3978256384 26915328\n"
     ]
    },
    {
     "name": "stderr",
     "output_type": "stream",
     "text": [
      " 20%|██████▋                          | 10.134426229508078/50 [19:48<1:34:15, 141.87s/it]"
     ]
    },
    {
     "name": "stdout",
     "output_type": "stream",
     "text": [
      "Train Epoch: 21 [640/3918 (16%)]\tLoss: 1.083315\n",
      "Mem before-during-after: 26915328 3981007872 26915328\n"
     ]
    },
    {
     "name": "stderr",
     "output_type": "stream",
     "text": [
      " 21%|██████▊                          | 10.265573770491683/50 [20:06<1:35:29, 144.20s/it]"
     ]
    },
    {
     "name": "stdout",
     "output_type": "stream",
     "text": [
      "Train Epoch: 21 [1280/3918 (33%)]\tLoss: 1.118763\n",
      "Mem before-during-after: 27466240 3980478464 26915328\n"
     ]
    },
    {
     "name": "stderr",
     "output_type": "stream",
     "text": [
      " 21%|██████▊                          | 10.396721311475288/50 [20:23<1:30:34, 137.24s/it]"
     ]
    },
    {
     "name": "stdout",
     "output_type": "stream",
     "text": [
      "Train Epoch: 21 [1920/3918 (49%)]\tLoss: 1.204693\n",
      "Mem before-during-after: 26915328 3980374528 26915328\n"
     ]
    },
    {
     "name": "stderr",
     "output_type": "stream",
     "text": [
      " 21%|██████▉                          | 10.527868852458893/50 [20:40<1:29:38, 136.25s/it]"
     ]
    },
    {
     "name": "stdout",
     "output_type": "stream",
     "text": [
      "Train Epoch: 21 [2560/3918 (66%)]\tLoss: 1.573934\n",
      "Mem before-during-after: 26915328 3980374528 26915328\n"
     ]
    },
    {
     "name": "stderr",
     "output_type": "stream",
     "text": [
      " 21%|███████                          | 10.659016393442498/50 [20:58<1:29:30, 136.50s/it]"
     ]
    },
    {
     "name": "stdout",
     "output_type": "stream",
     "text": [
      "Train Epoch: 21 [3200/3918 (82%)]\tLoss: nan\n",
      "Mem before-during-after: 26915328 3922839040 26915328\n"
     ]
    },
    {
     "name": "stderr",
     "output_type": "stream",
     "text": [
      " 22%|███████                          | 10.790163934426102/50 [21:13<1:27:16, 133.56s/it]"
     ]
    },
    {
     "name": "stdout",
     "output_type": "stream",
     "text": [
      "Train Epoch: 21 [3840/3918 (98%)]\tLoss: nan\n",
      "Mem before-during-after: 26915328 3953469440 26915328\n"
     ]
    },
    {
     "name": "stderr",
     "output_type": "stream",
     "text": [
      " 22%|████████▏                            | 10.99999999999987/50 [21:28<42:00, 64.63s/it]"
     ]
    },
    {
     "name": "stdout",
     "output_type": "stream",
     "text": [
      "\n",
      "Test Epoch: 21\tAccuracy: 254/976 (26%)\n",
      "\n"
     ]
    },
    {
     "name": "stderr",
     "output_type": "stream",
     "text": [
      " 22%|████████▏                            | 11.00327868852446/50 [21:28<51:24, 79.09s/it]"
     ]
    },
    {
     "name": "stdout",
     "output_type": "stream",
     "text": [
      "Train Epoch: 22 [0/3918 (0%)]\tLoss: nan\n",
      "Mem before-during-after: 26914304 3978256896 26915328\n"
     ]
    },
    {
     "name": "stderr",
     "output_type": "stream",
     "text": [
      " 22%|███████▎                         | 11.134426229508065/50 [21:45<1:17:02, 118.94s/it]"
     ]
    },
    {
     "name": "stdout",
     "output_type": "stream",
     "text": [
      "Train Epoch: 22 [640/3918 (16%)]\tLoss: nan\n",
      "Mem before-during-after: 26915328 3980049920 26915328\n"
     ]
    },
    {
     "name": "stderr",
     "output_type": "stream",
     "text": [
      " 23%|███████▋                          | 11.26557377049167/50 [22:02<1:29:16, 138.28s/it]"
     ]
    },
    {
     "name": "stdout",
     "output_type": "stream",
     "text": [
      "Train Epoch: 22 [1280/3918 (33%)]\tLoss: nan\n",
      "Mem before-during-after: 26915328 3981023744 27796992\n"
     ]
    },
    {
     "name": "stderr",
     "output_type": "stream",
     "text": [
      " 23%|███████▌                         | 11.396721311475275/50 [22:19<1:25:57, 133.60s/it]"
     ]
    },
    {
     "name": "stdout",
     "output_type": "stream",
     "text": [
      "Train Epoch: 22 [1920/3918 (49%)]\tLoss: nan\n",
      "Mem before-during-after: 27796992 3979817472 26915328\n"
     ]
    },
    {
     "name": "stderr",
     "output_type": "stream",
     "text": [
      " 23%|███████▊                          | 11.52786885245888/50 [22:36<1:16:09, 118.79s/it]"
     ]
    },
    {
     "name": "stdout",
     "output_type": "stream",
     "text": [
      "Train Epoch: 22 [2560/3918 (66%)]\tLoss: nan\n",
      "Mem before-during-after: 26915328 3980049920 26915328\n"
     ]
    },
    {
     "name": "stderr",
     "output_type": "stream",
     "text": [
      " 23%|███████▋                         | 11.659016393442485/50 [22:53<1:21:15, 127.16s/it]"
     ]
    },
    {
     "name": "stdout",
     "output_type": "stream",
     "text": [
      "Train Epoch: 22 [3200/3918 (82%)]\tLoss: nan\n",
      "Mem before-during-after: 26915328 3981378560 26915328\n"
     ]
    },
    {
     "name": "stderr",
     "output_type": "stream",
     "text": [
      " 24%|████████                          | 11.79016393442609/50 [23:11<1:28:42, 139.29s/it]"
     ]
    },
    {
     "name": "stdout",
     "output_type": "stream",
     "text": [
      "Train Epoch: 22 [3840/3918 (98%)]\tLoss: nan\n",
      "Mem before-during-after: 26915328 3980699136 26915328\n"
     ]
    },
    {
     "name": "stderr",
     "output_type": "stream",
     "text": [
      " 24%|████████▋                           | 11.999999999999858/50 [23:25<41:25, 65.41s/it]"
     ]
    },
    {
     "name": "stdout",
     "output_type": "stream",
     "text": [
      "\n",
      "Test Epoch: 22\tAccuracy: 254/976 (26%)\n",
      "\n"
     ]
    },
    {
     "name": "stderr",
     "output_type": "stream",
     "text": [
      " 24%|████████▋                           | 12.003278688524448/50 [23:26<51:23, 81.15s/it]"
     ]
    },
    {
     "name": "stdout",
     "output_type": "stream",
     "text": [
      "Train Epoch: 23 [0/3918 (0%)]\tLoss: nan\n",
      "Mem before-during-after: 26914304 3939779072 26915328\n"
     ]
    },
    {
     "name": "stderr",
     "output_type": "stream",
     "text": [
      " 24%|████████                         | 12.134426229508053/50 [23:41<1:14:24, 117.90s/it]"
     ]
    },
    {
     "name": "stdout",
     "output_type": "stream",
     "text": [
      "Train Epoch: 23 [640/3918 (16%)]\tLoss: nan\n",
      "Mem before-during-after: 27040256 3981256192 26915328\n"
     ]
    },
    {
     "name": "stderr",
     "output_type": "stream",
     "text": [
      " 25%|████████                         | 12.265573770491658/50 [23:57<1:25:56, 136.66s/it]"
     ]
    },
    {
     "name": "stdout",
     "output_type": "stream",
     "text": [
      "Train Epoch: 23 [1280/3918 (33%)]\tLoss: nan\n",
      "Mem before-during-after: 26915328 3980049920 26915328\n"
     ]
    },
    {
     "name": "stderr",
     "output_type": "stream",
     "text": [
      " 25%|████████▏                        | 12.396721311475263/50 [24:14<1:29:45, 143.21s/it]"
     ]
    },
    {
     "name": "stdout",
     "output_type": "stream",
     "text": [
      "Train Epoch: 23 [1920/3918 (49%)]\tLoss: nan\n",
      "Mem before-during-after: 26915328 3980699136 26915328\n"
     ]
    },
    {
     "name": "stderr",
     "output_type": "stream",
     "text": [
      " 25%|████████▎                        | 12.527868852458868/50 [24:33<1:25:07, 136.29s/it]"
     ]
    },
    {
     "name": "stdout",
     "output_type": "stream",
     "text": [
      "Train Epoch: 23 [2560/3918 (66%)]\tLoss: nan\n",
      "Mem before-during-after: 26915328 3922839040 26915328\n"
     ]
    },
    {
     "name": "stderr",
     "output_type": "stream",
     "text": [
      " 25%|████████▎                        | 12.659016393442473/50 [24:48<1:11:20, 114.64s/it]"
     ]
    },
    {
     "name": "stdout",
     "output_type": "stream",
     "text": [
      "Train Epoch: 23 [3200/3918 (82%)]\tLoss: nan\n",
      "Mem before-during-after: 26915328 3947177984 26915328\n"
     ]
    },
    {
     "name": "stderr",
     "output_type": "stream",
     "text": [
      " 26%|████████▍                        | 12.790163934426078/50 [25:05<1:25:32, 137.95s/it]"
     ]
    },
    {
     "name": "stdout",
     "output_type": "stream",
     "text": [
      "Train Epoch: 23 [3840/3918 (98%)]\tLoss: nan\n",
      "Mem before-during-after: 26915328 3980374528 26915328\n"
     ]
    },
    {
     "name": "stderr",
     "output_type": "stream",
     "text": [
      " 26%|█████████▎                          | 12.999999999999845/50 [25:20<40:32, 65.76s/it]"
     ]
    },
    {
     "name": "stdout",
     "output_type": "stream",
     "text": [
      "\n",
      "Test Epoch: 23\tAccuracy: 254/976 (26%)\n",
      "\n"
     ]
    },
    {
     "name": "stderr",
     "output_type": "stream",
     "text": [
      " 26%|█████████▎                          | 13.003278688524436/50 [25:20<50:17, 81.57s/it]"
     ]
    },
    {
     "name": "stdout",
     "output_type": "stream",
     "text": [
      "Train Epoch: 24 [0/3918 (0%)]\tLoss: nan\n",
      "Mem before-during-after: 26914304 3978256384 26915328\n"
     ]
    },
    {
     "name": "stderr",
     "output_type": "stream",
     "text": [
      " 26%|████████▉                         | 13.13442622950804/50 [25:37<1:14:35, 121.39s/it]"
     ]
    },
    {
     "name": "stdout",
     "output_type": "stream",
     "text": [
      "Train Epoch: 24 [640/3918 (16%)]\tLoss: nan\n",
      "Mem before-during-after: 26915328 3982147072 26915328\n"
     ]
    },
    {
     "name": "stderr",
     "output_type": "stream",
     "text": [
      " 27%|████████▊                        | 13.265573770491645/50 [25:54<1:24:34, 138.13s/it]"
     ]
    },
    {
     "name": "stdout",
     "output_type": "stream",
     "text": [
      "Train Epoch: 24 [1280/3918 (33%)]\tLoss: nan\n",
      "Mem before-during-after: 26915328 3980374528 26915328\n"
     ]
    },
    {
     "name": "stderr",
     "output_type": "stream",
     "text": [
      " 27%|█████████                         | 13.39672131147525/50 [26:11<1:23:26, 136.78s/it]"
     ]
    },
    {
     "name": "stdout",
     "output_type": "stream",
     "text": [
      "Train Epoch: 24 [1920/3918 (49%)]\tLoss: nan\n",
      "Mem before-during-after: 27796992 3812978176 26915328\n"
     ]
    },
    {
     "name": "stderr",
     "output_type": "stream",
     "text": [
      " 27%|████████▉                        | 13.527868852458855/50 [26:28<1:20:30, 132.45s/it]"
     ]
    },
    {
     "name": "stdout",
     "output_type": "stream",
     "text": [
      "Train Epoch: 24 [2560/3918 (66%)]\tLoss: nan\n",
      "Mem before-during-after: 26915328 3981007872 26915328\n"
     ]
    },
    {
     "name": "stderr",
     "output_type": "stream",
     "text": [
      " 27%|█████████▎                        | 13.65901639344246/50 [26:46<1:12:01, 118.93s/it]"
     ]
    },
    {
     "name": "stdout",
     "output_type": "stream",
     "text": [
      "Train Epoch: 24 [3200/3918 (82%)]\tLoss: nan\n",
      "Mem before-during-after: 26915328 3982147072 26915328\n"
     ]
    },
    {
     "name": "stderr",
     "output_type": "stream",
     "text": [
      " 28%|█████████                        | 13.790163934426065/50 [27:03<1:34:52, 157.21s/it]"
     ]
    },
    {
     "name": "stdout",
     "output_type": "stream",
     "text": [
      "Train Epoch: 24 [3840/3918 (98%)]\tLoss: nan\n",
      "Mem before-during-after: 26915328 3980699136 26915328\n"
     ]
    },
    {
     "name": "stderr",
     "output_type": "stream",
     "text": [
      " 28%|██████████                          | 13.999999999999833/50 [27:18<39:31, 65.89s/it]"
     ]
    },
    {
     "name": "stdout",
     "output_type": "stream",
     "text": [
      "\n",
      "Test Epoch: 24\tAccuracy: 254/976 (26%)\n",
      "\n"
     ]
    },
    {
     "name": "stderr",
     "output_type": "stream",
     "text": [
      " 28%|██████████                          | 14.003278688524423/50 [27:18<47:59, 80.00s/it]"
     ]
    },
    {
     "name": "stdout",
     "output_type": "stream",
     "text": [
      "Train Epoch: 25 [0/3918 (0%)]\tLoss: nan\n",
      "Mem before-during-after: 26914304 3978256384 26915328\n"
     ]
    },
    {
     "name": "stderr",
     "output_type": "stream",
     "text": [
      " 28%|█████████▎                       | 14.134426229508028/50 [27:34<1:07:24, 112.76s/it]"
     ]
    },
    {
     "name": "stdout",
     "output_type": "stream",
     "text": [
      "Train Epoch: 25 [640/3918 (16%)]\tLoss: nan\n",
      "Mem before-during-after: 26915328 3982147072 26915328\n"
     ]
    },
    {
     "name": "stderr",
     "output_type": "stream",
     "text": [
      " 29%|█████████▍                       | 14.265573770491633/50 [27:51<1:16:40, 128.75s/it]"
     ]
    },
    {
     "name": "stdout",
     "output_type": "stream",
     "text": [
      "Train Epoch: 25 [1280/3918 (33%)]\tLoss: nan\n",
      "Mem before-during-after: 27348480 3980049920 27040256\n"
     ]
    },
    {
     "name": "stderr",
     "output_type": "stream",
     "text": [
      " 29%|█████████▌                       | 14.396721311475238/50 [28:09<1:21:30, 137.35s/it]"
     ]
    },
    {
     "name": "stdout",
     "output_type": "stream",
     "text": [
      "Train Epoch: 25 [1920/3918 (49%)]\tLoss: nan\n",
      "Mem before-during-after: 27796992 3981023744 27796992\n"
     ]
    },
    {
     "name": "stderr",
     "output_type": "stream",
     "text": [
      " 29%|█████████▌                       | 14.527868852458843/50 [28:27<1:21:20, 137.58s/it]"
     ]
    },
    {
     "name": "stdout",
     "output_type": "stream",
     "text": [
      "Train Epoch: 25 [2560/3918 (66%)]\tLoss: nan\n",
      "Mem before-during-after: 27796992 3981580800 27796992\n"
     ]
    },
    {
     "name": "stderr",
     "output_type": "stream",
     "text": [
      " 29%|█████████▋                       | 14.659016393442448/50 [28:42<1:06:24, 112.75s/it]"
     ]
    },
    {
     "name": "stdout",
     "output_type": "stream",
     "text": [
      "Train Epoch: 25 [3200/3918 (82%)]\tLoss: nan\n",
      "Mem before-during-after: 26915328 3980699136 26915328\n"
     ]
    },
    {
     "name": "stderr",
     "output_type": "stream",
     "text": [
      " 30%|█████████▊                       | 14.790163934426053/50 [29:00<1:21:11, 138.37s/it]"
     ]
    },
    {
     "name": "stdout",
     "output_type": "stream",
     "text": [
      "Train Epoch: 25 [3840/3918 (98%)]\tLoss: nan\n",
      "Mem before-during-after: 26915328 3981256192 26915328\n"
     ]
    },
    {
     "name": "stderr",
     "output_type": "stream",
     "text": [
      " 30%|███████████                          | 14.99999999999982/50 [29:14<38:29, 65.99s/it]"
     ]
    },
    {
     "name": "stdout",
     "output_type": "stream",
     "text": [
      "\n",
      "Test Epoch: 25\tAccuracy: 254/976 (26%)\n",
      "\n"
     ]
    },
    {
     "name": "stderr",
     "output_type": "stream",
     "text": [
      " 30%|███████████                          | 15.00327868852441/50 [29:14<47:24, 81.27s/it]"
     ]
    },
    {
     "name": "stdout",
     "output_type": "stream",
     "text": [
      "Train Epoch: 26 [0/3918 (0%)]\tLoss: nan\n",
      "Mem before-during-after: 26914304 3978256384 26915328\n"
     ]
    },
    {
     "name": "stderr",
     "output_type": "stream",
     "text": [
      " 30%|█████████▉                       | 15.134426229508016/50 [29:29<1:06:49, 115.00s/it]"
     ]
    },
    {
     "name": "stdout",
     "output_type": "stream",
     "text": [
      "Train Epoch: 26 [640/3918 (16%)]\tLoss: nan\n",
      "Mem before-during-after: 26915328 3852408832 27348480\n"
     ]
    },
    {
     "name": "stderr",
     "output_type": "stream",
     "text": [
      " 31%|███████████▎                         | 15.26885245901621/50 [29:47<57:22, 99.12s/it]"
     ]
    },
    {
     "name": "stdout",
     "output_type": "stream",
     "text": [
      "Train Epoch: 26 [1280/3918 (33%)]\tLoss: nan\n",
      "Mem before-during-after: 26915328 3982147072 26915328\n"
     ]
    },
    {
     "name": "stderr",
     "output_type": "stream",
     "text": [
      " 31%|██████████▏                      | 15.396721311475225/50 [30:05<1:19:13, 137.38s/it]"
     ]
    },
    {
     "name": "stdout",
     "output_type": "stream",
     "text": [
      "Train Epoch: 26 [1920/3918 (49%)]\tLoss: nan\n",
      "Mem before-during-after: 26915328 3980699136 26915328\n"
     ]
    },
    {
     "name": "stderr",
     "output_type": "stream",
     "text": [
      " 31%|██████████▌                       | 15.52786885245883/50 [30:22<1:05:44, 114.42s/it]"
     ]
    },
    {
     "name": "stdout",
     "output_type": "stream",
     "text": [
      "Train Epoch: 26 [2560/3918 (66%)]\tLoss: nan\n",
      "Mem before-during-after: 26915328 3980450816 26915328\n"
     ]
    },
    {
     "name": "stderr",
     "output_type": "stream",
     "text": [
      " 31%|██████████▎                      | 15.659016393442435/50 [30:40<1:18:53, 137.83s/it]"
     ]
    },
    {
     "name": "stdout",
     "output_type": "stream",
     "text": [
      "Train Epoch: 26 [3200/3918 (82%)]\tLoss: nan\n",
      "Mem before-during-after: 27796992 3980142080 26915328\n"
     ]
    },
    {
     "name": "stderr",
     "output_type": "stream",
     "text": [
      " 32%|██████████▋                       | 15.79016393442604/50 [30:57<1:07:14, 117.93s/it]"
     ]
    },
    {
     "name": "stdout",
     "output_type": "stream",
     "text": [
      "Train Epoch: 26 [3840/3918 (98%)]\tLoss: nan\n",
      "Mem before-during-after: 26915328 3982147072 26915328\n"
     ]
    },
    {
     "name": "stderr",
     "output_type": "stream",
     "text": [
      " 32%|███████████▌                        | 15.999999999999808/50 [31:11<37:15, 65.75s/it]"
     ]
    },
    {
     "name": "stdout",
     "output_type": "stream",
     "text": [
      "\n",
      "Test Epoch: 26\tAccuracy: 254/976 (26%)\n",
      "\n"
     ]
    },
    {
     "name": "stderr",
     "output_type": "stream",
     "text": [
      " 32%|████████████▏                         | 16.0032786885244/50 [31:11<45:44, 80.72s/it]"
     ]
    },
    {
     "name": "stdout",
     "output_type": "stream",
     "text": [
      "Train Epoch: 27 [0/3918 (0%)]\tLoss: nan\n",
      "Mem before-during-after: 26914304 3978256384 26915328\n"
     ]
    },
    {
     "name": "stderr",
     "output_type": "stream",
     "text": [
      " 32%|██████████▋                      | 16.134426229508076/50 [31:28<1:04:27, 114.20s/it]"
     ]
    },
    {
     "name": "stdout",
     "output_type": "stream",
     "text": [
      "Train Epoch: 27 [640/3918 (16%)]\tLoss: nan\n",
      "Mem before-during-after: 26915328 3980049920 26915328\n"
     ]
    },
    {
     "name": "stderr",
     "output_type": "stream",
     "text": [
      " 33%|██████████▋                      | 16.265573770491752/50 [31:46<1:18:43, 140.01s/it]"
     ]
    },
    {
     "name": "stdout",
     "output_type": "stream",
     "text": [
      "Train Epoch: 27 [1280/3918 (33%)]\tLoss: nan\n",
      "Mem before-during-after: 26915328 3980699136 26915328\n"
     ]
    },
    {
     "name": "stderr",
     "output_type": "stream",
     "text": [
      " 33%|██████████▊                      | 16.396721311475428/50 [32:04<1:20:21, 143.47s/it]"
     ]
    },
    {
     "name": "stdout",
     "output_type": "stream",
     "text": [
      "Train Epoch: 27 [1920/3918 (49%)]\tLoss: nan\n",
      "Mem before-during-after: 26915328 3980551680 26915328\n"
     ]
    },
    {
     "name": "stderr",
     "output_type": "stream",
     "text": [
      " 33%|██████████▉                      | 16.527868852459104/50 [32:21<1:05:24, 117.26s/it]"
     ]
    },
    {
     "name": "stdout",
     "output_type": "stream",
     "text": [
      "Train Epoch: 27 [2560/3918 (66%)]\tLoss: nan\n",
      "Mem before-during-after: 26915328 3852408832 27348480\n"
     ]
    },
    {
     "name": "stderr",
     "output_type": "stream",
     "text": [
      " 33%|███████████▎                      | 16.65901639344278/50 [32:38<1:13:39, 132.57s/it]"
     ]
    },
    {
     "name": "stdout",
     "output_type": "stream",
     "text": [
      "Train Epoch: 27 [3200/3918 (82%)]\tLoss: nan\n",
      "Mem before-during-after: 26915328 3980699136 26915328\n"
     ]
    },
    {
     "name": "stderr",
     "output_type": "stream",
     "text": [
      " 34%|███████████                      | 16.790163934426456/50 [32:53<1:03:03, 113.93s/it]"
     ]
    },
    {
     "name": "stdout",
     "output_type": "stream",
     "text": [
      "Train Epoch: 27 [3840/3918 (98%)]\tLoss: nan\n",
      "Mem before-during-after: 26915328 3980699136 26915328\n"
     ]
    },
    {
     "name": "stderr",
     "output_type": "stream",
     "text": [
      " 34%|████████████▏                       | 17.000000000000338/50 [33:07<36:21, 66.11s/it]"
     ]
    },
    {
     "name": "stdout",
     "output_type": "stream",
     "text": [
      "\n",
      "Test Epoch: 27\tAccuracy: 254/976 (26%)\n",
      "\n"
     ]
    },
    {
     "name": "stderr",
     "output_type": "stream",
     "text": [
      " 34%|████████████▌                        | 17.00327868852493/50 [33:08<45:08, 82.08s/it]"
     ]
    },
    {
     "name": "stdout",
     "output_type": "stream",
     "text": [
      "Train Epoch: 28 [0/3918 (0%)]\tLoss: nan\n",
      "Mem before-during-after: 26914304 3978256384 26915328\n"
     ]
    },
    {
     "name": "stderr",
     "output_type": "stream",
     "text": [
      " 34%|███████████▎                     | 17.134426229508605/50 [33:25<1:15:38, 138.08s/it]"
     ]
    },
    {
     "name": "stdout",
     "output_type": "stream",
     "text": [
      "Train Epoch: 28 [640/3918 (16%)]\tLoss: nan\n",
      "Mem before-during-after: 26915328 3981023744 27796992\n"
     ]
    },
    {
     "name": "stderr",
     "output_type": "stream",
     "text": [
      " 35%|███████████▋                      | 17.26557377049228/50 [33:42<1:14:15, 136.11s/it]"
     ]
    },
    {
     "name": "stdout",
     "output_type": "stream",
     "text": [
      "Train Epoch: 28 [1280/3918 (33%)]\tLoss: nan\n",
      "Mem before-during-after: 26915328 3980374528 26915328\n"
     ]
    },
    {
     "name": "stderr",
     "output_type": "stream",
     "text": [
      " 35%|███████████▍                     | 17.396721311475957/50 [34:00<1:15:48, 139.52s/it]"
     ]
    },
    {
     "name": "stdout",
     "output_type": "stream",
     "text": [
      "Train Epoch: 28 [1920/3918 (49%)]\tLoss: nan\n",
      "Mem before-during-after: 26915328 3980699136 26915328\n"
     ]
    },
    {
     "name": "stderr",
     "output_type": "stream",
     "text": [
      " 35%|███████████▌                     | 17.527868852459633/50 [34:16<1:00:55, 112.59s/it]"
     ]
    },
    {
     "name": "stdout",
     "output_type": "stream",
     "text": [
      "Train Epoch: 28 [2560/3918 (66%)]\tLoss: nan\n",
      "Mem before-during-after: 26915328 3981332480 26915328\n"
     ]
    },
    {
     "name": "stderr",
     "output_type": "stream",
     "text": [
      " 35%|████████████                      | 17.65901639344331/50 [34:35<1:22:11, 152.50s/it]"
     ]
    },
    {
     "name": "stdout",
     "output_type": "stream",
     "text": [
      "Train Epoch: 28 [3200/3918 (82%)]\tLoss: nan\n",
      "Mem before-during-after: 26915328 3980699136 26915328\n"
     ]
    },
    {
     "name": "stderr",
     "output_type": "stream",
     "text": [
      " 36%|███████████▋                     | 17.790163934426985/50 [34:52<1:03:18, 117.93s/it]"
     ]
    },
    {
     "name": "stdout",
     "output_type": "stream",
     "text": [
      "Train Epoch: 28 [3840/3918 (98%)]\tLoss: nan\n",
      "Mem before-during-after: 26915328 3980049920 26915328\n"
     ]
    },
    {
     "name": "stderr",
     "output_type": "stream",
     "text": [
      " 36%|████████████▉                       | 18.000000000000867/50 [35:07<35:18, 66.20s/it]"
     ]
    },
    {
     "name": "stdout",
     "output_type": "stream",
     "text": [
      "\n",
      "Test Epoch: 28\tAccuracy: 254/976 (26%)\n",
      "\n"
     ]
    },
    {
     "name": "stderr",
     "output_type": "stream",
     "text": [
      " 36%|█████████████▎                       | 18.00327868852546/50 [35:07<43:42, 81.95s/it]"
     ]
    },
    {
     "name": "stdout",
     "output_type": "stream",
     "text": [
      "Train Epoch: 29 [0/3918 (0%)]\tLoss: nan\n",
      "Mem before-during-after: 26914304 3978256384 26915328\n"
     ]
    },
    {
     "name": "stderr",
     "output_type": "stream",
     "text": [
      " 36%|███████████▉                     | 18.134426229509135/50 [35:24<1:00:00, 113.00s/it]"
     ]
    },
    {
     "name": "stdout",
     "output_type": "stream",
     "text": [
      "Train Epoch: 29 [640/3918 (16%)]\tLoss: nan\n",
      "Mem before-during-after: 26915328 3982147072 26915328\n"
     ]
    },
    {
     "name": "stderr",
     "output_type": "stream",
     "text": [
      " 37%|████████████▍                     | 18.26557377049281/50 [35:40<1:04:54, 122.73s/it]"
     ]
    },
    {
     "name": "stdout",
     "output_type": "stream",
     "text": [
      "Train Epoch: 29 [1280/3918 (33%)]\tLoss: nan\n",
      "Mem before-during-after: 26915328 3980049920 26915328\n"
     ]
    },
    {
     "name": "stderr",
     "output_type": "stream",
     "text": [
      " 37%|████████████▏                    | 18.396721311476487/50 [35:56<1:08:00, 129.13s/it]"
     ]
    },
    {
     "name": "stdout",
     "output_type": "stream",
     "text": [
      "Train Epoch: 29 [1920/3918 (49%)]\tLoss: nan\n",
      "Mem before-during-after: 27040256 3983861760 26915328\n"
     ]
    },
    {
     "name": "stderr",
     "output_type": "stream",
     "text": [
      " 37%|████████████▏                    | 18.527868852460163/50 [36:14<1:16:01, 144.93s/it]"
     ]
    },
    {
     "name": "stdout",
     "output_type": "stream",
     "text": [
      "Train Epoch: 29 [2560/3918 (66%)]\tLoss: nan\n",
      "Mem before-during-after: 26915328 3980478464 26915328\n"
     ]
    },
    {
     "name": "stderr",
     "output_type": "stream",
     "text": [
      " 37%|████████████▋                     | 18.65901639344384/50 [36:32<1:11:56, 137.73s/it]"
     ]
    },
    {
     "name": "stdout",
     "output_type": "stream",
     "text": [
      "Train Epoch: 29 [3200/3918 (82%)]\tLoss: nan\n",
      "Mem before-during-after: 26915328 3980374528 27040256\n"
     ]
    },
    {
     "name": "stderr",
     "output_type": "stream",
     "text": [
      " 38%|████████████▍                    | 18.790163934427515/50 [36:50<1:16:13, 146.55s/it]"
     ]
    },
    {
     "name": "stdout",
     "output_type": "stream",
     "text": [
      "Train Epoch: 29 [3840/3918 (98%)]\tLoss: nan\n",
      "Mem before-during-after: 26915328 3980374528 26915328\n"
     ]
    },
    {
     "name": "stderr",
     "output_type": "stream",
     "text": [
      " 38%|█████████████▋                      | 19.000000000001396/50 [37:04<33:26, 64.72s/it]"
     ]
    },
    {
     "name": "stdout",
     "output_type": "stream",
     "text": [
      "\n",
      "Test Epoch: 29\tAccuracy: 254/976 (26%)\n",
      "\n"
     ]
    },
    {
     "name": "stderr",
     "output_type": "stream",
     "text": [
      " 38%|█████████████▋                      | 19.003278688525988/50 [37:05<41:01, 79.41s/it]"
     ]
    },
    {
     "name": "stdout",
     "output_type": "stream",
     "text": [
      "Train Epoch: 30 [0/3918 (0%)]\tLoss: nan\n",
      "Mem before-during-after: 26914304 3978256896 26915328\n"
     ]
    },
    {
     "name": "stderr",
     "output_type": "stream",
     "text": [
      " 38%|█████████████▍                     | 19.134426229509664/50 [37:20<58:34, 113.86s/it]"
     ]
    },
    {
     "name": "stdout",
     "output_type": "stream",
     "text": [
      "Train Epoch: 30 [640/3918 (16%)]\tLoss: nan\n",
      "Mem before-during-after: 26915328 3980049920 26915328\n"
     ]
    },
    {
     "name": "stderr",
     "output_type": "stream",
     "text": [
      " 39%|█████████████                     | 19.26557377049334/50 [37:37<1:10:56, 138.51s/it]"
     ]
    },
    {
     "name": "stdout",
     "output_type": "stream",
     "text": [
      "Train Epoch: 30 [1280/3918 (33%)]\tLoss: nan\n",
      "Mem before-during-after: 26915328 3981023744 27796992\n"
     ]
    },
    {
     "name": "stderr",
     "output_type": "stream",
     "text": [
      " 39%|█████████████▌                     | 19.396721311477016/50 [37:53<57:41, 113.12s/it]"
     ]
    },
    {
     "name": "stdout",
     "output_type": "stream",
     "text": [
      "Train Epoch: 30 [1920/3918 (49%)]\tLoss: nan\n",
      "Mem before-during-after: 26915328 3980699136 26915328\n"
     ]
    },
    {
     "name": "stderr",
     "output_type": "stream",
     "text": [
      " 39%|█████████████▋                     | 19.527868852460692/50 [38:08<55:52, 110.03s/it]"
     ]
    },
    {
     "name": "stdout",
     "output_type": "stream",
     "text": [
      "Train Epoch: 30 [2560/3918 (66%)]\tLoss: nan\n",
      "Mem before-during-after: 26915328 3922839040 26915328\n"
     ]
    },
    {
     "name": "stderr",
     "output_type": "stream",
     "text": [
      " 39%|█████████████▊                     | 19.659016393444368/50 [38:23<59:02, 116.77s/it]"
     ]
    },
    {
     "name": "stdout",
     "output_type": "stream",
     "text": [
      "Train Epoch: 30 [3200/3918 (82%)]\tLoss: nan\n",
      "Mem before-during-after: 26915328 3980049920 26915328\n"
     ]
    },
    {
     "name": "stderr",
     "output_type": "stream",
     "text": [
      " 40%|█████████████                    | 19.790163934428044/50 [38:41<1:08:52, 136.80s/it]"
     ]
    },
    {
     "name": "stdout",
     "output_type": "stream",
     "text": [
      "Train Epoch: 30 [3840/3918 (98%)]\tLoss: nan\n",
      "Mem before-during-after: 26915328 3980374528 26915328\n"
     ]
    },
    {
     "name": "stderr",
     "output_type": "stream",
     "text": [
      " 40%|██████████████▍                     | 20.000000000001926/50 [38:55<32:20, 64.67s/it]"
     ]
    },
    {
     "name": "stdout",
     "output_type": "stream",
     "text": [
      "\n",
      "Test Epoch: 30\tAccuracy: 254/976 (26%)\n",
      "\n"
     ]
    },
    {
     "name": "stderr",
     "output_type": "stream",
     "text": [
      " 40%|██████████████▍                     | 20.003278688526517/50 [38:55<39:44, 79.49s/it]"
     ]
    },
    {
     "name": "stdout",
     "output_type": "stream",
     "text": [
      "Train Epoch: 31 [0/3918 (0%)]\tLoss: nan\n",
      "Mem before-during-after: 26914304 3978256384 26915328\n"
     ]
    },
    {
     "name": "stderr",
     "output_type": "stream",
     "text": [
      " 40%|██████████████                     | 20.134426229510193/50 [39:10<56:25, 113.36s/it]"
     ]
    },
    {
     "name": "stdout",
     "output_type": "stream",
     "text": [
      "Train Epoch: 31 [640/3918 (16%)]\tLoss: nan\n",
      "Mem before-during-after: 26915328 3980049920 26915328\n"
     ]
    },
    {
     "name": "stderr",
     "output_type": "stream",
     "text": [
      " 41%|█████████████▊                    | 20.26557377049387/50 [39:27<1:04:59, 131.15s/it]"
     ]
    },
    {
     "name": "stdout",
     "output_type": "stream",
     "text": [
      "Train Epoch: 31 [1280/3918 (33%)]\tLoss: nan\n",
      "Mem before-during-after: 27040256 3982214144 27796992\n"
     ]
    },
    {
     "name": "stderr",
     "output_type": "stream",
     "text": [
      " 41%|█████████████▍                   | 20.396721311477545/50 [39:44<1:08:29, 138.82s/it]"
     ]
    },
    {
     "name": "stdout",
     "output_type": "stream",
     "text": [
      "Train Epoch: 31 [1920/3918 (49%)]\tLoss: nan\n",
      "Mem before-during-after: 26915328 3981256192 26915328\n"
     ]
    },
    {
     "name": "stderr",
     "output_type": "stream",
     "text": [
      " 41%|█████████████▉                    | 20.52786885246122/50 [40:02<1:07:06, 136.61s/it]"
     ]
    },
    {
     "name": "stdout",
     "output_type": "stream",
     "text": [
      "Train Epoch: 31 [2560/3918 (66%)]\tLoss: nan\n",
      "Mem before-during-after: 26915328 3688384000 26915328\n"
     ]
    },
    {
     "name": "stderr",
     "output_type": "stream",
     "text": [
      " 41%|██████████████▉                     | 20.66229508196949/50 [40:18<57:18, 117.20s/it]"
     ]
    },
    {
     "name": "stdout",
     "output_type": "stream",
     "text": [
      "Train Epoch: 31 [3200/3918 (82%)]\tLoss: nan\n",
      "Mem before-during-after: 26915328 3980478464 26915328\n"
     ]
    },
    {
     "name": "stderr",
     "output_type": "stream",
     "text": [
      " 42%|█████████████▋                   | 20.790163934428573/50 [40:36<1:07:25, 138.48s/it]"
     ]
    },
    {
     "name": "stdout",
     "output_type": "stream",
     "text": [
      "Train Epoch: 31 [3840/3918 (98%)]\tLoss: nan\n",
      "Mem before-during-after: 26915328 3980374528 26915328\n"
     ]
    },
    {
     "name": "stderr",
     "output_type": "stream",
     "text": [
      " 42%|███████████████                     | 21.000000000002455/50 [40:50<31:32, 65.26s/it]"
     ]
    },
    {
     "name": "stdout",
     "output_type": "stream",
     "text": [
      "\n",
      "Test Epoch: 31\tAccuracy: 254/976 (26%)\n",
      "\n"
     ]
    },
    {
     "name": "stderr",
     "output_type": "stream",
     "text": [
      " 42%|███████████████                     | 21.003278688527047/50 [40:50<39:18, 81.33s/it]"
     ]
    },
    {
     "name": "stdout",
     "output_type": "stream",
     "text": [
      "Train Epoch: 32 [0/3918 (0%)]\tLoss: nan\n",
      "Mem before-during-after: 26914304 3978256384 26915328\n"
     ]
    },
    {
     "name": "stderr",
     "output_type": "stream",
     "text": [
      " 42%|█████████████▉                   | 21.134426229510723/50 [41:08<1:04:56, 134.99s/it]"
     ]
    },
    {
     "name": "stdout",
     "output_type": "stream",
     "text": [
      "Train Epoch: 32 [640/3918 (16%)]\tLoss: nan\n",
      "Mem before-during-after: 26915328 3982471680 27040256\n"
     ]
    },
    {
     "name": "stderr",
     "output_type": "stream",
     "text": [
      " 43%|██████████████▉                    | 21.2655737704944/50 [41:26<1:05:45, 137.32s/it]"
     ]
    },
    {
     "name": "stdout",
     "output_type": "stream",
     "text": [
      "Train Epoch: 32 [1280/3918 (33%)]\tLoss: nan\n",
      "Mem before-during-after: 26915328 3981023744 27796992\n"
     ]
    },
    {
     "name": "stderr",
     "output_type": "stream",
     "text": [
      " 43%|██████████████▉                    | 21.396721311478075/50 [41:43<56:29, 118.49s/it]"
     ]
    },
    {
     "name": "stdout",
     "output_type": "stream",
     "text": [
      "Train Epoch: 32 [1920/3918 (49%)]\tLoss: nan\n",
      "Mem before-during-after: 26915328 3982147072 26915328\n"
     ]
    },
    {
     "name": "stderr",
     "output_type": "stream",
     "text": [
      " 43%|███████████████▌                    | 21.52786885246175/50 [41:59<57:28, 121.10s/it]"
     ]
    },
    {
     "name": "stdout",
     "output_type": "stream",
     "text": [
      "Train Epoch: 32 [2560/3918 (66%)]\tLoss: nan\n",
      "Mem before-during-after: 26915328 3982147072 26915328\n"
     ]
    },
    {
     "name": "stderr",
     "output_type": "stream",
     "text": [
      " 43%|██████████████▎                  | 21.659016393445427/50 [42:16<1:05:24, 138.46s/it]"
     ]
    },
    {
     "name": "stdout",
     "output_type": "stream",
     "text": [
      "Train Epoch: 32 [3200/3918 (82%)]\tLoss: nan\n",
      "Mem before-during-after: 26915328 3980374528 26915328\n"
     ]
    },
    {
     "name": "stderr",
     "output_type": "stream",
     "text": [
      " 44%|██████████████▍                  | 21.790163934429103/50 [42:34<1:04:39, 137.51s/it]"
     ]
    },
    {
     "name": "stdout",
     "output_type": "stream",
     "text": [
      "Train Epoch: 32 [3840/3918 (98%)]\tLoss: nan\n",
      "Mem before-during-after: 26915328 3980699136 26915328\n"
     ]
    },
    {
     "name": "stderr",
     "output_type": "stream",
     "text": [
      " 44%|███████████████▊                    | 22.000000000002984/50 [42:49<30:42, 65.82s/it]"
     ]
    },
    {
     "name": "stdout",
     "output_type": "stream",
     "text": [
      "\n",
      "Test Epoch: 32\tAccuracy: 254/976 (26%)\n",
      "\n"
     ]
    },
    {
     "name": "stderr",
     "output_type": "stream",
     "text": [
      " 44%|███████████████▊                    | 22.003278688527576/50 [42:49<39:13, 84.05s/it]"
     ]
    },
    {
     "name": "stdout",
     "output_type": "stream",
     "text": [
      "Train Epoch: 33 [0/3918 (0%)]\tLoss: nan\n",
      "Mem before-during-after: 26914304 3978256896 26915328\n"
     ]
    },
    {
     "name": "stderr",
     "output_type": "stream",
     "text": [
      " 44%|██████████████▌                  | 22.134426229511252/50 [43:05<1:04:29, 138.87s/it]"
     ]
    },
    {
     "name": "stdout",
     "output_type": "stream",
     "text": [
      "Train Epoch: 33 [640/3918 (16%)]\tLoss: nan\n",
      "Mem before-during-after: 26915328 3982223360 26915328\n"
     ]
    },
    {
     "name": "stderr",
     "output_type": "stream",
     "text": [
      " 45%|██████████████▋                  | 22.265573770494928/50 [43:23<1:04:39, 139.89s/it]"
     ]
    },
    {
     "name": "stdout",
     "output_type": "stream",
     "text": [
      "Train Epoch: 33 [1280/3918 (33%)]\tLoss: nan\n",
      "Mem before-during-after: 27796992 3980142080 26915328\n"
     ]
    },
    {
     "name": "stderr",
     "output_type": "stream",
     "text": [
      " 45%|██████████████▊                  | 22.396721311478604/50 [43:39<1:00:20, 131.17s/it]"
     ]
    },
    {
     "name": "stdout",
     "output_type": "stream",
     "text": [
      "Train Epoch: 33 [1920/3918 (49%)]\tLoss: nan\n",
      "Mem before-during-after: 26915328 3979281408 26915328\n"
     ]
    },
    {
     "name": "stderr",
     "output_type": "stream",
     "text": [
      " 45%|███████████████▎                  | 22.52786885246228/50 [43:54<1:01:58, 135.34s/it]"
     ]
    },
    {
     "name": "stdout",
     "output_type": "stream",
     "text": [
      "Train Epoch: 33 [2560/3918 (66%)]\tLoss: nan\n",
      "Mem before-during-after: 27796992 3981023744 27796992\n"
     ]
    },
    {
     "name": "stderr",
     "output_type": "stream",
     "text": [
      " 45%|██████████████▉                  | 22.659016393445956/50 [44:12<1:03:37, 139.61s/it]"
     ]
    },
    {
     "name": "stdout",
     "output_type": "stream",
     "text": [
      "Train Epoch: 33 [3200/3918 (82%)]\tLoss: nan\n",
      "Mem before-during-after: 26915328 3980699136 26915328\n"
     ]
    },
    {
     "name": "stderr",
     "output_type": "stream",
     "text": [
      " 46%|███████████████▉                   | 22.790163934429632/50 [44:28<52:06, 114.90s/it]"
     ]
    },
    {
     "name": "stdout",
     "output_type": "stream",
     "text": [
      "Train Epoch: 33 [3840/3918 (98%)]\tLoss: nan\n",
      "Mem before-during-after: 26915328 3980699136 26915328\n"
     ]
    },
    {
     "name": "stderr",
     "output_type": "stream",
     "text": [
      " 46%|████████████████▌                   | 23.000000000003514/50 [44:42<28:49, 64.06s/it]"
     ]
    },
    {
     "name": "stdout",
     "output_type": "stream",
     "text": [
      "\n",
      "Test Epoch: 33\tAccuracy: 254/976 (26%)\n",
      "\n"
     ]
    },
    {
     "name": "stderr",
     "output_type": "stream",
     "text": [
      " 46%|████████████████▌                   | 23.003278688528106/50 [44:43<37:05, 82.44s/it]"
     ]
    },
    {
     "name": "stdout",
     "output_type": "stream",
     "text": [
      "Train Epoch: 34 [0/3918 (0%)]\tLoss: nan\n",
      "Mem before-during-after: 26914304 3978256896 26915328\n"
     ]
    },
    {
     "name": "stderr",
     "output_type": "stream",
     "text": [
      " 46%|████████████████▋                   | 23.13442622951178/50 [44:59<53:41, 119.91s/it]"
     ]
    },
    {
     "name": "stdout",
     "output_type": "stream",
     "text": [
      "Train Epoch: 34 [640/3918 (16%)]\tLoss: nan\n",
      "Mem before-during-after: 26915328 3982147072 26915328\n"
     ]
    },
    {
     "name": "stderr",
     "output_type": "stream",
     "text": [
      " 47%|███████████████▎                 | 23.265573770495457/50 [45:16<1:01:39, 138.39s/it]"
     ]
    },
    {
     "name": "stdout",
     "output_type": "stream",
     "text": [
      "Train Epoch: 34 [1280/3918 (33%)]\tLoss: nan\n",
      "Mem before-during-after: 26915328 3980374528 26915328\n"
     ]
    },
    {
     "name": "stderr",
     "output_type": "stream",
     "text": [
      " 47%|███████████████▍                 | 23.396721311479133/50 [45:34<1:01:05, 137.79s/it]"
     ]
    },
    {
     "name": "stdout",
     "output_type": "stream",
     "text": [
      "Train Epoch: 34 [1920/3918 (49%)]\tLoss: nan\n",
      "Mem before-during-after: 27796992 3983120896 27796992\n"
     ]
    },
    {
     "name": "stderr",
     "output_type": "stream",
     "text": [
      " 47%|████████████████▉                   | 23.52786885246281/50 [45:51<50:39, 114.81s/it]"
     ]
    },
    {
     "name": "stdout",
     "output_type": "stream",
     "text": [
      "Train Epoch: 34 [2560/3918 (66%)]\tLoss: nan\n",
      "Mem before-during-after: 26915328 3980049920 26915328\n"
     ]
    },
    {
     "name": "stderr",
     "output_type": "stream",
     "text": [
      " 47%|███████████████▌                 | 23.659016393446485/50 [46:08<1:00:02, 136.76s/it]"
     ]
    },
    {
     "name": "stdout",
     "output_type": "stream",
     "text": [
      "Train Epoch: 34 [3200/3918 (82%)]\tLoss: nan\n",
      "Mem before-during-after: 26915328 3980374528 26915328\n"
     ]
    },
    {
     "name": "stderr",
     "output_type": "stream",
     "text": [
      " 48%|████████████████▏                 | 23.79016393443016/50 [46:25<1:01:23, 140.53s/it]"
     ]
    },
    {
     "name": "stdout",
     "output_type": "stream",
     "text": [
      "Train Epoch: 34 [3840/3918 (98%)]\tLoss: nan\n",
      "Mem before-during-after: 26915328 3980374528 26915328\n"
     ]
    },
    {
     "name": "stderr",
     "output_type": "stream",
     "text": [
      " 48%|█████████████████▎                  | 24.000000000004043/50 [46:40<27:36, 63.73s/it]"
     ]
    },
    {
     "name": "stdout",
     "output_type": "stream",
     "text": [
      "\n",
      "Test Epoch: 34\tAccuracy: 254/976 (26%)\n",
      "\n"
     ]
    },
    {
     "name": "stderr",
     "output_type": "stream",
     "text": [
      " 48%|█████████████████▎                  | 24.003278688528635/50 [46:40<35:20, 81.56s/it]"
     ]
    },
    {
     "name": "stdout",
     "output_type": "stream",
     "text": [
      "Train Epoch: 35 [0/3918 (0%)]\tLoss: nan\n",
      "Mem before-during-after: 26914304 3978256384 26915328\n"
     ]
    },
    {
     "name": "stderr",
     "output_type": "stream",
     "text": [
      " 48%|█████████████████▍                  | 24.13442622951231/50 [46:57<58:40, 136.10s/it]"
     ]
    },
    {
     "name": "stdout",
     "output_type": "stream",
     "text": [
      "Train Epoch: 35 [640/3918 (16%)]\tLoss: nan\n",
      "Mem before-during-after: 26915328 3980374528 26915328\n"
     ]
    },
    {
     "name": "stderr",
     "output_type": "stream",
     "text": [
      " 49%|████████████████                 | 24.265573770495987/50 [47:14<1:00:49, 141.81s/it]"
     ]
    },
    {
     "name": "stdout",
     "output_type": "stream",
     "text": [
      "Train Epoch: 35 [1280/3918 (33%)]\tLoss: nan\n",
      "Mem before-during-after: 26915328 3980496896 26915328\n"
     ]
    },
    {
     "name": "stderr",
     "output_type": "stream",
     "text": [
      " 49%|█████████████████                  | 24.396721311479663/50 [47:29<49:42, 116.48s/it]"
     ]
    },
    {
     "name": "stdout",
     "output_type": "stream",
     "text": [
      "Train Epoch: 35 [1920/3918 (49%)]\tLoss: nan\n",
      "Mem before-during-after: 26915328 3980049920 26915328\n"
     ]
    },
    {
     "name": "stderr",
     "output_type": "stream",
     "text": [
      " 49%|█████████████████▋                  | 24.52786885246334/50 [47:47<50:52, 119.84s/it]"
     ]
    },
    {
     "name": "stdout",
     "output_type": "stream",
     "text": [
      "Train Epoch: 35 [2560/3918 (66%)]\tLoss: nan\n",
      "Mem before-during-after: 26915328 3982147072 26915328\n"
     ]
    },
    {
     "name": "stderr",
     "output_type": "stream",
     "text": [
      " 49%|█████████████████▎                 | 24.659016393447015/50 [48:03<55:33, 131.56s/it]"
     ]
    },
    {
     "name": "stdout",
     "output_type": "stream",
     "text": [
      "Train Epoch: 35 [3200/3918 (82%)]\tLoss: nan\n",
      "Mem before-during-after: 27040256 3981765120 26915328\n"
     ]
    },
    {
     "name": "stderr",
     "output_type": "stream",
     "text": [
      " 50%|█████████████████▊                  | 24.79016393443069/50 [48:20<47:35, 113.29s/it]"
     ]
    },
    {
     "name": "stdout",
     "output_type": "stream",
     "text": [
      "Train Epoch: 35 [3840/3918 (98%)]\tLoss: nan\n",
      "Mem before-during-after: 27796992 3981023744 27796992\n"
     ]
    },
    {
     "name": "stderr",
     "output_type": "stream",
     "text": [
      " 50%|██████████████████                  | 25.000000000004572/50 [48:34<27:15, 65.42s/it]"
     ]
    },
    {
     "name": "stdout",
     "output_type": "stream",
     "text": [
      "\n",
      "Test Epoch: 35\tAccuracy: 254/976 (26%)\n",
      "\n"
     ]
    },
    {
     "name": "stderr",
     "output_type": "stream",
     "text": [
      " 50%|██████████████████                  | 25.003278688529164/50 [48:34<33:31, 80.46s/it]"
     ]
    },
    {
     "name": "stdout",
     "output_type": "stream",
     "text": [
      "Train Epoch: 36 [0/3918 (0%)]\tLoss: nan\n",
      "Mem before-during-after: 26914304 3978256384 26915328\n"
     ]
    },
    {
     "name": "stderr",
     "output_type": "stream",
     "text": [
      " 50%|██████████████████                  | 25.13442622951284/50 [48:50<57:01, 137.59s/it]"
     ]
    },
    {
     "name": "stdout",
     "output_type": "stream",
     "text": [
      "Train Epoch: 36 [640/3918 (16%)]\tLoss: nan\n",
      "Mem before-during-after: 26915328 3980374528 26915328\n"
     ]
    },
    {
     "name": "stderr",
     "output_type": "stream",
     "text": [
      " 51%|█████████████████▋                 | 25.265573770496516/50 [49:08<56:52, 137.95s/it]"
     ]
    },
    {
     "name": "stdout",
     "output_type": "stream",
     "text": [
      "Train Epoch: 36 [1280/3918 (33%)]\tLoss: nan\n",
      "Mem before-during-after: 26915328 3983120896 27796992\n"
     ]
    },
    {
     "name": "stderr",
     "output_type": "stream",
     "text": [
      " 51%|█████████████████▊                 | 25.396721311480192/50 [49:23<47:13, 115.18s/it]"
     ]
    },
    {
     "name": "stdout",
     "output_type": "stream",
     "text": [
      "Train Epoch: 36 [1920/3918 (49%)]\tLoss: nan\n",
      "Mem before-during-after: 26915328 3982147072 26915328\n"
     ]
    },
    {
     "name": "stderr",
     "output_type": "stream",
     "text": [
      " 51%|█████████████████▊                 | 25.527868852463868/50 [49:40<55:53, 137.04s/it]"
     ]
    },
    {
     "name": "stdout",
     "output_type": "stream",
     "text": [
      "Train Epoch: 36 [2560/3918 (66%)]\tLoss: nan\n",
      "Mem before-during-after: 27796992 3981580800 27796992\n"
     ]
    },
    {
     "name": "stderr",
     "output_type": "stream",
     "text": [
      " 51%|█████████████████▉                 | 25.659016393447544/50 [49:58<48:00, 118.36s/it]"
     ]
    },
    {
     "name": "stdout",
     "output_type": "stream",
     "text": [
      "Train Epoch: 36 [3200/3918 (82%)]\tLoss: nan\n",
      "Mem before-during-after: 27239936 3981633024 26915328\n"
     ]
    },
    {
     "name": "stderr",
     "output_type": "stream",
     "text": [
      " 52%|██████████████████▌                 | 25.79016393443122/50 [50:14<55:08, 136.66s/it]"
     ]
    },
    {
     "name": "stdout",
     "output_type": "stream",
     "text": [
      "Train Epoch: 36 [3840/3918 (98%)]\tLoss: nan\n",
      "Mem before-during-after: 26915328 3980374528 26915328\n"
     ]
    },
    {
     "name": "stderr",
     "output_type": "stream",
     "text": [
      " 52%|███████████████████▊                  | 26.0000000000051/50 [50:28<26:09, 65.39s/it]"
     ]
    },
    {
     "name": "stdout",
     "output_type": "stream",
     "text": [
      "\n",
      "Test Epoch: 36\tAccuracy: 254/976 (26%)\n",
      "\n"
     ]
    },
    {
     "name": "stderr",
     "output_type": "stream",
     "text": [
      " 52%|██████████████████▋                 | 26.003278688529694/50 [50:29<31:14, 78.13s/it]"
     ]
    },
    {
     "name": "stdout",
     "output_type": "stream",
     "text": [
      "Train Epoch: 37 [0/3918 (0%)]\tLoss: nan\n",
      "Mem before-during-after: 26914304 3812981760 26915328\n"
     ]
    },
    {
     "name": "stderr",
     "output_type": "stream",
     "text": [
      " 52%|██████████████████▊                 | 26.13442622951337/50 [50:46<55:30, 139.56s/it]"
     ]
    },
    {
     "name": "stdout",
     "output_type": "stream",
     "text": [
      "Train Epoch: 37 [640/3918 (16%)]\tLoss: nan\n",
      "Mem before-during-after: 26915328 3981023744 27796992\n"
     ]
    },
    {
     "name": "stderr",
     "output_type": "stream",
     "text": [
      " 53%|██████████████████▍                | 26.265573770497046/50 [51:04<57:06, 144.36s/it]"
     ]
    },
    {
     "name": "stdout",
     "output_type": "stream",
     "text": [
      "Train Epoch: 37 [1280/3918 (33%)]\tLoss: nan\n",
      "Mem before-during-after: 26915328 3978381312 26915328\n"
     ]
    },
    {
     "name": "stderr",
     "output_type": "stream",
     "text": [
      " 53%|███████████████████                 | 26.39672131148072/50 [51:22<54:29, 138.53s/it]"
     ]
    },
    {
     "name": "stdout",
     "output_type": "stream",
     "text": [
      "Train Epoch: 37 [1920/3918 (49%)]\tLoss: nan\n",
      "Mem before-during-after: 27796992 3980142080 26915328\n"
     ]
    },
    {
     "name": "stderr",
     "output_type": "stream",
     "text": [
      " 53%|██████████████████▌                | 26.527868852464398/50 [51:40<55:18, 141.37s/it]"
     ]
    },
    {
     "name": "stdout",
     "output_type": "stream",
     "text": [
      "Train Epoch: 37 [2560/3918 (66%)]\tLoss: nan\n",
      "Mem before-during-after: 26915328 3980466688 27239936\n"
     ]
    },
    {
     "name": "stderr",
     "output_type": "stream",
     "text": [
      " 53%|██████████████████▋                | 26.659016393448074/50 [51:56<44:02, 113.22s/it]"
     ]
    },
    {
     "name": "stdout",
     "output_type": "stream",
     "text": [
      "Train Epoch: 37 [3200/3918 (82%)]\tLoss: nan\n",
      "Mem before-during-after: 26915328 3980049920 26915328\n"
     ]
    },
    {
     "name": "stderr",
     "output_type": "stream",
     "text": [
      " 54%|███████████████████▎                | 26.79016393443175/50 [52:13<54:56, 142.01s/it]"
     ]
    },
    {
     "name": "stdout",
     "output_type": "stream",
     "text": [
      "Train Epoch: 37 [3840/3918 (98%)]\tLoss: nan\n",
      "Mem before-during-after: 26915328 3980699136 26915328\n"
     ]
    },
    {
     "name": "stderr",
     "output_type": "stream",
     "text": [
      " 54%|███████████████████▉                 | 27.00000000000563/50 [52:28<25:04, 65.39s/it]"
     ]
    },
    {
     "name": "stdout",
     "output_type": "stream",
     "text": [
      "\n",
      "Test Epoch: 37\tAccuracy: 254/976 (26%)\n",
      "\n"
     ]
    },
    {
     "name": "stderr",
     "output_type": "stream",
     "text": [
      " 54%|███████████████████▍                | 27.003278688530223/50 [52:28<32:10, 83.96s/it]"
     ]
    },
    {
     "name": "stdout",
     "output_type": "stream",
     "text": [
      "Train Epoch: 38 [0/3918 (0%)]\tLoss: nan\n",
      "Mem before-during-after: 26914304 3978256896 26915328\n"
     ]
    },
    {
     "name": "stderr",
     "output_type": "stream",
     "text": [
      " 54%|████████████████████                 | 27.1344262295139/50 [52:44<52:27, 137.65s/it]"
     ]
    },
    {
     "name": "stdout",
     "output_type": "stream",
     "text": [
      "Train Epoch: 38 [640/3918 (16%)]\tLoss: nan\n",
      "Mem before-during-after: 26915328 3982471680 26915328\n"
     ]
    },
    {
     "name": "stderr",
     "output_type": "stream",
     "text": [
      " 55%|███████████████████                | 27.265573770497575/50 [53:01<44:55, 118.56s/it]"
     ]
    },
    {
     "name": "stdout",
     "output_type": "stream",
     "text": [
      "Train Epoch: 38 [1280/3918 (33%)]\tLoss: nan\n",
      "Mem before-during-after: 26915328 3980699136 26915328\n"
     ]
    },
    {
     "name": "stderr",
     "output_type": "stream",
     "text": [
      " 55%|███████████████████▋                | 27.39672131148125/50 [53:16<43:03, 114.30s/it]"
     ]
    },
    {
     "name": "stdout",
     "output_type": "stream",
     "text": [
      "Train Epoch: 38 [1920/3918 (49%)]\tLoss: nan\n",
      "Mem before-during-after: 27040256 3983353344 26915328\n"
     ]
    },
    {
     "name": "stderr",
     "output_type": "stream",
     "text": [
      " 55%|███████████████████▎               | 27.527868852464927/50 [53:33<51:22, 137.17s/it]"
     ]
    },
    {
     "name": "stdout",
     "output_type": "stream",
     "text": [
      "Train Epoch: 38 [2560/3918 (66%)]\tLoss: nan\n",
      "Mem before-during-after: 26915328 3813529088 26915328\n"
     ]
    },
    {
     "name": "stderr",
     "output_type": "stream",
     "text": [
      " 55%|███████████████████▎               | 27.659016393448603/50 [53:50<44:20, 119.08s/it]"
     ]
    },
    {
     "name": "stdout",
     "output_type": "stream",
     "text": [
      "Train Epoch: 38 [3200/3918 (82%)]\tLoss: nan\n",
      "Mem before-during-after: 26915328 3980450816 26915328\n"
     ]
    },
    {
     "name": "stderr",
     "output_type": "stream",
     "text": [
      " 56%|████████████████████                | 27.79016393443228/50 [54:06<45:08, 121.95s/it]"
     ]
    },
    {
     "name": "stdout",
     "output_type": "stream",
     "text": [
      "Train Epoch: 38 [3840/3918 (98%)]\tLoss: nan\n",
      "Mem before-during-after: 26915328 3980049920 26915328\n"
     ]
    },
    {
     "name": "stderr",
     "output_type": "stream",
     "text": [
      " 56%|████████████████████▋                | 28.00000000000616/50 [54:21<24:25, 66.63s/it]"
     ]
    },
    {
     "name": "stdout",
     "output_type": "stream",
     "text": [
      "\n",
      "Test Epoch: 38\tAccuracy: 254/976 (26%)\n",
      "\n"
     ]
    },
    {
     "name": "stderr",
     "output_type": "stream",
     "text": [
      " 56%|████████████████████▏               | 28.006557377055344/50 [54:21<27:01, 73.74s/it]"
     ]
    },
    {
     "name": "stdout",
     "output_type": "stream",
     "text": [
      "Train Epoch: 39 [0/3918 (0%)]\tLoss: nan\n",
      "Mem before-during-after: 26914304 3939779072 26915328\n"
     ]
    },
    {
     "name": "stderr",
     "output_type": "stream",
     "text": [
      " 56%|████████████████████▎               | 28.13442622951443/50 [54:39<42:46, 117.39s/it]"
     ]
    },
    {
     "name": "stdout",
     "output_type": "stream",
     "text": [
      "Train Epoch: 39 [640/3918 (16%)]\tLoss: nan\n",
      "Mem before-during-after: 27040256 3983353344 26915328\n"
     ]
    },
    {
     "name": "stderr",
     "output_type": "stream",
     "text": [
      " 57%|███████████████████▊               | 28.265573770498104/50 [54:54<48:04, 132.72s/it]"
     ]
    },
    {
     "name": "stdout",
     "output_type": "stream",
     "text": [
      "Train Epoch: 39 [1280/3918 (33%)]\tLoss: nan\n",
      "Mem before-during-after: 26915328 3980374528 26915328\n"
     ]
    },
    {
     "name": "stderr",
     "output_type": "stream",
     "text": [
      " 57%|████████████████████▍               | 28.39672131148178/50 [55:11<41:03, 114.04s/it]"
     ]
    },
    {
     "name": "stdout",
     "output_type": "stream",
     "text": [
      "Train Epoch: 39 [1920/3918 (49%)]\tLoss: nan\n",
      "Mem before-during-after: 26915328 3980049920 26915328\n"
     ]
    },
    {
     "name": "stderr",
     "output_type": "stream",
     "text": [
      " 57%|███████████████████▉               | 28.527868852465456/50 [55:27<44:47, 125.18s/it]"
     ]
    },
    {
     "name": "stdout",
     "output_type": "stream",
     "text": [
      "Train Epoch: 39 [2560/3918 (66%)]\tLoss: nan\n",
      "Mem before-during-after: 27796992 3979817472 26915328\n"
     ]
    },
    {
     "name": "stderr",
     "output_type": "stream",
     "text": [
      " 57%|████████████████████               | 28.659016393449132/50 [55:45<48:57, 137.65s/it]"
     ]
    },
    {
     "name": "stdout",
     "output_type": "stream",
     "text": [
      "Train Epoch: 39 [3200/3918 (82%)]\tLoss: nan\n",
      "Mem before-during-after: 26915328 3922216448 26915328\n"
     ]
    },
    {
     "name": "stderr",
     "output_type": "stream",
     "text": [
      " 58%|████████████████████▏              | 28.790163934432808/50 [56:01<40:15, 113.90s/it]"
     ]
    },
    {
     "name": "stdout",
     "output_type": "stream",
     "text": [
      "Train Epoch: 39 [3840/3918 (98%)]\tLoss: nan\n",
      "Mem before-during-after: 26915328 3982147072 26915328\n"
     ]
    },
    {
     "name": "stderr",
     "output_type": "stream",
     "text": [
      " 58%|█████████████████████▍               | 29.00000000000669/50 [56:16<22:50, 65.25s/it]"
     ]
    },
    {
     "name": "stdout",
     "output_type": "stream",
     "text": [
      "\n",
      "Test Epoch: 39\tAccuracy: 254/976 (26%)\n",
      "\n"
     ]
    },
    {
     "name": "stderr",
     "output_type": "stream",
     "text": [
      " 58%|█████████████████████▍               | 29.00327868853128/50 [56:16<28:45, 82.17s/it]"
     ]
    },
    {
     "name": "stdout",
     "output_type": "stream",
     "text": [
      "Train Epoch: 40 [0/3918 (0%)]\tLoss: nan\n",
      "Mem before-during-after: 26914304 3978256384 26915328\n"
     ]
    },
    {
     "name": "stderr",
     "output_type": "stream",
     "text": [
      " 58%|████████████████████▍              | 29.134426229514958/50 [56:32<47:49, 137.54s/it]"
     ]
    },
    {
     "name": "stdout",
     "output_type": "stream",
     "text": [
      "Train Epoch: 40 [640/3918 (16%)]\tLoss: nan\n",
      "Mem before-during-after: 26915328 3981580800 27796992\n"
     ]
    },
    {
     "name": "stderr",
     "output_type": "stream",
     "text": [
      " 59%|████████████████████▍              | 29.265573770498634/50 [56:51<50:47, 146.97s/it]"
     ]
    },
    {
     "name": "stdout",
     "output_type": "stream",
     "text": [
      "Train Epoch: 40 [1280/3918 (33%)]\tLoss: nan\n",
      "Mem before-during-after: 26915328 3980699136 26915328\n"
     ]
    },
    {
     "name": "stderr",
     "output_type": "stream",
     "text": [
      " 59%|█████████████████████▏              | 29.39672131148231/50 [57:08<47:33, 138.48s/it]"
     ]
    },
    {
     "name": "stdout",
     "output_type": "stream",
     "text": [
      "Train Epoch: 40 [1920/3918 (49%)]\tLoss: nan\n",
      "Mem before-during-after: 26915328 3981023744 27796992\n"
     ]
    },
    {
     "name": "stderr",
     "output_type": "stream",
     "text": [
      " 59%|████████████████████▋              | 29.527868852465986/50 [57:26<46:51, 137.31s/it]"
     ]
    },
    {
     "name": "stdout",
     "output_type": "stream",
     "text": [
      "Train Epoch: 40 [2560/3918 (66%)]\tLoss: nan\n",
      "Mem before-during-after: 26915328 3980699136 26915328\n"
     ]
    },
    {
     "name": "stderr",
     "output_type": "stream",
     "text": [
      " 59%|█████████████████████▎              | 29.65901639344966/50 [57:44<47:01, 138.72s/it]"
     ]
    },
    {
     "name": "stdout",
     "output_type": "stream",
     "text": [
      "Train Epoch: 40 [3200/3918 (82%)]\tLoss: nan\n",
      "Mem before-during-after: 27796992 3981580800 27796992\n"
     ]
    },
    {
     "name": "stderr",
     "output_type": "stream",
     "text": [
      " 60%|████████████████████▊              | 29.790163934433338/50 [58:02<48:49, 144.97s/it]"
     ]
    },
    {
     "name": "stdout",
     "output_type": "stream",
     "text": [
      "Train Epoch: 40 [3840/3918 (98%)]\tLoss: nan\n",
      "Mem before-during-after: 26915328 3980806656 26915328\n"
     ]
    },
    {
     "name": "stderr",
     "output_type": "stream",
     "text": [
      " 60%|██████████████████████▏              | 30.00000000000722/50 [58:16<21:41, 65.09s/it]"
     ]
    },
    {
     "name": "stdout",
     "output_type": "stream",
     "text": [
      "\n",
      "Test Epoch: 40\tAccuracy: 254/976 (26%)\n",
      "\n"
     ]
    },
    {
     "name": "stderr",
     "output_type": "stream",
     "text": [
      " 60%|██████████████████████▏              | 30.00327868853181/50 [58:17<26:33, 79.69s/it]"
     ]
    },
    {
     "name": "stdout",
     "output_type": "stream",
     "text": [
      "Train Epoch: 41 [0/3918 (0%)]\tLoss: nan\n",
      "Mem before-during-after: 26914304 3978256896 26915328\n"
     ]
    },
    {
     "name": "stderr",
     "output_type": "stream",
     "text": [
      " 60%|█████████████████████              | 30.134426229515487/50 [58:34<40:28, 122.26s/it]"
     ]
    },
    {
     "name": "stdout",
     "output_type": "stream",
     "text": [
      "Train Epoch: 41 [640/3918 (16%)]\tLoss: nan\n",
      "Mem before-during-after: 26915328 3980049920 26915328\n"
     ]
    },
    {
     "name": "stderr",
     "output_type": "stream",
     "text": [
      " 61%|█████████████████████▏             | 30.265573770499163/50 [58:51<45:50, 139.38s/it]"
     ]
    },
    {
     "name": "stdout",
     "output_type": "stream",
     "text": [
      "Train Epoch: 41 [1280/3918 (33%)]\tLoss: nan\n",
      "Mem before-during-after: 27796992 3980699136 26915328\n"
     ]
    },
    {
     "name": "stderr",
     "output_type": "stream",
     "text": [
      " 61%|█████████████████████▉              | 30.39672131148284/50 [59:09<41:06, 125.81s/it]"
     ]
    },
    {
     "name": "stdout",
     "output_type": "stream",
     "text": [
      "Train Epoch: 41 [1920/3918 (49%)]\tLoss: nan\n",
      "Mem before-during-after: 26915328 3980049920 26915328\n"
     ]
    },
    {
     "name": "stderr",
     "output_type": "stream",
     "text": [
      " 61%|█████████████████████▎             | 30.527868852466515/50 [59:26<45:33, 140.37s/it]"
     ]
    },
    {
     "name": "stdout",
     "output_type": "stream",
     "text": [
      "Train Epoch: 41 [2560/3918 (66%)]\tLoss: nan\n",
      "Mem before-during-after: 26915328 3981023744 27796992\n"
     ]
    },
    {
     "name": "stderr",
     "output_type": "stream",
     "text": [
      " 61%|██████████████████████              | 30.65901639345019/50 [59:43<43:05, 133.69s/it]"
     ]
    },
    {
     "name": "stdout",
     "output_type": "stream",
     "text": [
      "Train Epoch: 41 [3200/3918 (82%)]\tLoss: nan\n",
      "Mem before-during-after: 26915328 3981580800 27796992\n"
     ]
    },
    {
     "name": "stderr",
     "output_type": "stream",
     "text": [
      " 62%|█████████████████████▌             | 30.790163934433867/50 [59:58<41:58, 131.08s/it]"
     ]
    },
    {
     "name": "stdout",
     "output_type": "stream",
     "text": [
      "Train Epoch: 41 [3840/3918 (98%)]\tLoss: nan\n",
      "Mem before-during-after: 27040256 3982214144 27796992\n"
     ]
    },
    {
     "name": "stderr",
     "output_type": "stream",
     "text": [
      " 62%|█████████████████████▋             | 31.00000000000775/50 [1:00:12<20:24, 64.45s/it]"
     ]
    },
    {
     "name": "stdout",
     "output_type": "stream",
     "text": [
      "\n",
      "Test Epoch: 41\tAccuracy: 254/976 (26%)\n",
      "\n"
     ]
    },
    {
     "name": "stderr",
     "output_type": "stream",
     "text": [
      " 62%|█████████████████████▋             | 31.00327868853234/50 [1:00:13<25:18, 79.94s/it]"
     ]
    },
    {
     "name": "stdout",
     "output_type": "stream",
     "text": [
      "Train Epoch: 42 [0/3918 (0%)]\tLoss: nan\n",
      "Mem before-during-after: 26914304 3978256384 26915328\n"
     ]
    },
    {
     "name": "stderr",
     "output_type": "stream",
     "text": [
      " 62%|████████████████████▌            | 31.134426229516016/50 [1:00:28<39:07, 124.45s/it]"
     ]
    },
    {
     "name": "stdout",
     "output_type": "stream",
     "text": [
      "Train Epoch: 42 [640/3918 (16%)]\tLoss: nan\n",
      "Mem before-during-after: 26915328 3893046784 26915328\n"
     ]
    },
    {
     "name": "stderr",
     "output_type": "stream",
     "text": [
      " 63%|████████████████████▋            | 31.265573770499692/50 [1:00:45<36:11, 115.91s/it]"
     ]
    },
    {
     "name": "stdout",
     "output_type": "stream",
     "text": [
      "Train Epoch: 42 [1280/3918 (33%)]\tLoss: nan\n",
      "Mem before-during-after: 26915328 3980049920 26915328\n"
     ]
    },
    {
     "name": "stderr",
     "output_type": "stream",
     "text": [
      " 63%|█████████████████████▎            | 31.39672131148337/50 [1:01:03<43:03, 138.90s/it]"
     ]
    },
    {
     "name": "stdout",
     "output_type": "stream",
     "text": [
      "Train Epoch: 42 [1920/3918 (49%)]\tLoss: nan\n",
      "Mem before-during-after: 26915328 3980699136 26915328\n"
     ]
    },
    {
     "name": "stderr",
     "output_type": "stream",
     "text": [
      " 63%|████████████████████▊            | 31.527868852467044/50 [1:01:19<41:22, 134.41s/it]"
     ]
    },
    {
     "name": "stdout",
     "output_type": "stream",
     "text": [
      "Train Epoch: 42 [2560/3918 (66%)]\tLoss: nan\n",
      "Mem before-during-after: 26915328 3978611200 26915328\n"
     ]
    },
    {
     "name": "stderr",
     "output_type": "stream",
     "text": [
      " 63%|█████████████████████▌            | 31.65901639345072/50 [1:01:36<35:25, 115.91s/it]"
     ]
    },
    {
     "name": "stdout",
     "output_type": "stream",
     "text": [
      "Train Epoch: 42 [3200/3918 (82%)]\tLoss: nan\n",
      "Mem before-during-after: 26915328 3980049920 26915328\n"
     ]
    },
    {
     "name": "stderr",
     "output_type": "stream",
     "text": [
      " 64%|████████████████████▉            | 31.790163934434396/50 [1:01:53<41:35, 137.02s/it]"
     ]
    },
    {
     "name": "stdout",
     "output_type": "stream",
     "text": [
      "Train Epoch: 42 [3840/3918 (98%)]\tLoss: nan\n",
      "Mem before-during-after: 26915328 3980374528 26915328\n"
     ]
    },
    {
     "name": "stderr",
     "output_type": "stream",
     "text": [
      " 64%|██████████████████████▍            | 32.00000000000828/50 [1:02:07<24:45, 82.55s/it]"
     ]
    },
    {
     "name": "stdout",
     "output_type": "stream",
     "text": [
      "\n",
      "Test Epoch: 42\tAccuracy: 254/976 (26%)\n",
      "\n"
     ]
    },
    {
     "name": "stderr",
     "output_type": "stream",
     "text": [
      " 64%|█████████████████████▊            | 32.003278688532866/50 [1:02:08<27:34, 91.91s/it]"
     ]
    },
    {
     "name": "stdout",
     "output_type": "stream",
     "text": [
      "Train Epoch: 43 [0/3918 (0%)]\tLoss: nan\n",
      "Mem before-during-after: 26914304 3978256384 26915328\n"
     ]
    },
    {
     "name": "stderr",
     "output_type": "stream",
     "text": [
      " 64%|██████████████████████▍            | 32.1344262295164/50 [1:02:25<41:09, 138.23s/it]"
     ]
    },
    {
     "name": "stdout",
     "output_type": "stream",
     "text": [
      "Train Epoch: 43 [640/3918 (16%)]\tLoss: nan\n",
      "Mem before-during-after: 26915328 3980699136 26915328\n"
     ]
    },
    {
     "name": "stderr",
     "output_type": "stream",
     "text": [
      " 65%|█████████████████████▎           | 32.265573770499934/50 [1:02:43<40:49, 138.14s/it]"
     ]
    },
    {
     "name": "stdout",
     "output_type": "stream",
     "text": [
      "Train Epoch: 43 [1280/3918 (33%)]\tLoss: nan\n",
      "Mem before-during-after: 26915328 3980699136 26915328\n"
     ]
    },
    {
     "name": "stderr",
     "output_type": "stream",
     "text": [
      " 65%|██████████████████████            | 32.39672131148347/50 [1:03:01<39:54, 136.05s/it]"
     ]
    },
    {
     "name": "stdout",
     "output_type": "stream",
     "text": [
      "Train Epoch: 43 [1920/3918 (49%)]\tLoss: nan\n",
      "Mem before-during-after: 27796992 3980142080 26915328\n"
     ]
    },
    {
     "name": "stderr",
     "output_type": "stream",
     "text": [
      " 65%|███████████████████████▍            | 32.527868852467/50 [1:03:18<40:05, 137.67s/it]"
     ]
    },
    {
     "name": "stdout",
     "output_type": "stream",
     "text": [
      "Train Epoch: 43 [2560/3918 (66%)]\tLoss: nan\n",
      "Mem before-during-after: 26915328 3980374528 26915328\n"
     ]
    },
    {
     "name": "stderr",
     "output_type": "stream",
     "text": [
      " 65%|█████████████████████▌           | 32.659016393450536/50 [1:03:36<39:38, 137.19s/it]"
     ]
    },
    {
     "name": "stdout",
     "output_type": "stream",
     "text": [
      "Train Epoch: 43 [3200/3918 (82%)]\tLoss: nan\n",
      "Mem before-during-after: 26915328 3981023744 27796992\n"
     ]
    },
    {
     "name": "stderr",
     "output_type": "stream",
     "text": [
      " 66%|██████████████████████▎           | 32.79016393443407/50 [1:03:54<38:56, 135.78s/it]"
     ]
    },
    {
     "name": "stdout",
     "output_type": "stream",
     "text": [
      "Train Epoch: 43 [3840/3918 (98%)]\tLoss: nan\n",
      "Mem before-during-after: 26915328 3979281408 26915328\n"
     ]
    },
    {
     "name": "stderr",
     "output_type": "stream",
     "text": [
      " 66%|██████████████████████▍           | 33.000000000007724/50 [1:04:09<18:12, 64.28s/it]"
     ]
    },
    {
     "name": "stdout",
     "output_type": "stream",
     "text": [
      "\n",
      "Test Epoch: 43\tAccuracy: 254/976 (26%)\n",
      "\n"
     ]
    },
    {
     "name": "stderr",
     "output_type": "stream",
     "text": [
      " 66%|███████████████████████            | 33.00327868853231/50 [1:04:09<22:50, 80.66s/it]"
     ]
    },
    {
     "name": "stdout",
     "output_type": "stream",
     "text": [
      "Train Epoch: 44 [0/3918 (0%)]\tLoss: nan\n",
      "Mem before-during-after: 26914304 3978256384 26915328\n"
     ]
    },
    {
     "name": "stderr",
     "output_type": "stream",
     "text": [
      " 66%|█████████████████████▊           | 33.134426229515846/50 [1:04:27<39:25, 140.26s/it]"
     ]
    },
    {
     "name": "stdout",
     "output_type": "stream",
     "text": [
      "Train Epoch: 44 [640/3918 (16%)]\tLoss: nan\n",
      "Mem before-during-after: 26915328 3981023744 27796992\n"
     ]
    },
    {
     "name": "stderr",
     "output_type": "stream",
     "text": [
      " 67%|██████████████████████▌           | 33.26557377049938/50 [1:04:44<37:27, 134.31s/it]"
     ]
    },
    {
     "name": "stdout",
     "output_type": "stream",
     "text": [
      "Train Epoch: 44 [1280/3918 (33%)]\tLoss: nan\n",
      "Mem before-during-after: 27796992 3981023744 27796992\n"
     ]
    },
    {
     "name": "stderr",
     "output_type": "stream",
     "text": [
      " 67%|██████████████████████           | 33.396721311482914/50 [1:05:02<38:10, 137.96s/it]"
     ]
    },
    {
     "name": "stdout",
     "output_type": "stream",
     "text": [
      "Train Epoch: 44 [1920/3918 (49%)]\tLoss: nan\n",
      "Mem before-during-after: 27796992 3981023744 27796992\n"
     ]
    },
    {
     "name": "stderr",
     "output_type": "stream",
     "text": [
      " 67%|██████████████████████▊           | 33.52786885246645/50 [1:05:19<37:57, 138.23s/it]"
     ]
    },
    {
     "name": "stdout",
     "output_type": "stream",
     "text": [
      "Train Epoch: 44 [2560/3918 (66%)]\tLoss: nan\n",
      "Mem before-during-after: 26915328 3980699136 26915328\n"
     ]
    },
    {
     "name": "stderr",
     "output_type": "stream",
     "text": [
      " 67%|██████████████████████▉           | 33.65901639344998/50 [1:05:37<37:38, 138.21s/it]"
     ]
    },
    {
     "name": "stdout",
     "output_type": "stream",
     "text": [
      "Train Epoch: 44 [3200/3918 (82%)]\tLoss: nan\n",
      "Mem before-during-after: 26915328 3980699136 26915328\n"
     ]
    },
    {
     "name": "stderr",
     "output_type": "stream",
     "text": [
      " 68%|██████████████████████▎          | 33.790163934433515/50 [1:05:55<37:37, 139.28s/it]"
     ]
    },
    {
     "name": "stdout",
     "output_type": "stream",
     "text": [
      "Train Epoch: 44 [3840/3918 (98%)]\tLoss: nan\n",
      "Mem before-during-after: 26915328 3980699136 26915328\n"
     ]
    },
    {
     "name": "stderr",
     "output_type": "stream",
     "text": [
      " 68%|███████████████████████▊           | 34.00000000000717/50 [1:06:10<17:32, 65.78s/it]"
     ]
    },
    {
     "name": "stdout",
     "output_type": "stream",
     "text": [
      "\n",
      "Test Epoch: 44\tAccuracy: 254/976 (26%)\n",
      "\n"
     ]
    },
    {
     "name": "stderr",
     "output_type": "stream",
     "text": [
      " 68%|███████████████████████▊           | 34.00327868853176/50 [1:06:10<21:50, 81.92s/it]"
     ]
    },
    {
     "name": "stdout",
     "output_type": "stream",
     "text": [
      "Train Epoch: 45 [0/3918 (0%)]\tLoss: nan\n",
      "Mem before-during-after: 26914304 3978256384 26915328\n"
     ]
    },
    {
     "name": "stderr",
     "output_type": "stream",
     "text": [
      " 68%|███████████████████████▏          | 34.13442622951529/50 [1:06:27<30:53, 116.81s/it]"
     ]
    },
    {
     "name": "stdout",
     "output_type": "stream",
     "text": [
      "Train Epoch: 45 [640/3918 (16%)]\tLoss: nan\n",
      "Mem before-during-after: 26915328 3922216448 26915328\n"
     ]
    },
    {
     "name": "stderr",
     "output_type": "stream",
     "text": [
      " 69%|██████████████████████▌          | 34.265573770498825/50 [1:06:44<37:08, 141.65s/it]"
     ]
    },
    {
     "name": "stdout",
     "output_type": "stream",
     "text": [
      "Train Epoch: 45 [1280/3918 (33%)]\tLoss: nan\n",
      "Mem before-during-after: 26915328 3980374528 26915328\n"
     ]
    },
    {
     "name": "stderr",
     "output_type": "stream",
     "text": [
      " 69%|███████████████████████▍          | 34.39672131148236/50 [1:07:01<29:59, 115.33s/it]"
     ]
    },
    {
     "name": "stdout",
     "output_type": "stream",
     "text": [
      "Train Epoch: 45 [1920/3918 (49%)]\tLoss: nan\n",
      "Mem before-during-after: 26915328 3980049920 26915328\n"
     ]
    },
    {
     "name": "stderr",
     "output_type": "stream",
     "text": [
      " 69%|███████████████████████▍          | 34.52786885246589/50 [1:07:19<35:37, 138.16s/it]"
     ]
    },
    {
     "name": "stdout",
     "output_type": "stream",
     "text": [
      "Train Epoch: 45 [2560/3918 (66%)]\tLoss: nan\n",
      "Mem before-during-after: 27796992 3980142080 26915328\n"
     ]
    },
    {
     "name": "stderr",
     "output_type": "stream",
     "text": [
      " 69%|███████████████████████▌          | 34.65901639344943/50 [1:07:37<35:32, 139.03s/it]"
     ]
    },
    {
     "name": "stdout",
     "output_type": "stream",
     "text": [
      "Train Epoch: 45 [3200/3918 (82%)]\tLoss: nan\n",
      "Mem before-during-after: 26915328 3981023744 27796992\n"
     ]
    },
    {
     "name": "stderr",
     "output_type": "stream",
     "text": [
      " 70%|███████████████████████▋          | 34.79016393443296/50 [1:07:53<30:17, 119.49s/it]"
     ]
    },
    {
     "name": "stdout",
     "output_type": "stream",
     "text": [
      "Train Epoch: 45 [3840/3918 (98%)]\tLoss: nan\n",
      "Mem before-during-after: 27040256 3980126208 26915328\n"
     ]
    },
    {
     "name": "stderr",
     "output_type": "stream",
     "text": [
      " 70%|███████████████████████▊          | 35.000000000006615/50 [1:08:07<16:27, 65.83s/it]"
     ]
    },
    {
     "name": "stdout",
     "output_type": "stream",
     "text": [
      "\n",
      "Test Epoch: 45\tAccuracy: 254/976 (26%)\n",
      "\n"
     ]
    },
    {
     "name": "stderr",
     "output_type": "stream",
     "text": [
      " 70%|█████████████████████████▏          | 35.0032786885312/50 [1:08:07<20:32, 82.16s/it]"
     ]
    },
    {
     "name": "stdout",
     "output_type": "stream",
     "text": [
      "Train Epoch: 46 [0/3918 (0%)]\tLoss: nan\n",
      "Mem before-during-after: 26914304 3978256384 26915328\n"
     ]
    },
    {
     "name": "stderr",
     "output_type": "stream",
     "text": [
      " 70%|███████████████████████▉          | 35.13442622951474/50 [1:08:25<35:15, 142.32s/it]"
     ]
    },
    {
     "name": "stdout",
     "output_type": "stream",
     "text": [
      "Train Epoch: 46 [640/3918 (16%)]\tLoss: nan\n",
      "Mem before-during-after: 27040256 3984186368 27796992\n"
     ]
    },
    {
     "name": "stderr",
     "output_type": "stream",
     "text": [
      " 71%|███████████████████████▉          | 35.26557377049827/50 [1:08:43<33:50, 137.81s/it]"
     ]
    },
    {
     "name": "stdout",
     "output_type": "stream",
     "text": [
      "Train Epoch: 46 [1280/3918 (33%)]\tLoss: nan\n",
      "Mem before-during-after: 27796992 3980142080 26915328\n"
     ]
    },
    {
     "name": "stderr",
     "output_type": "stream",
     "text": [
      " 71%|███████████████████████▎         | 35.396721311481805/50 [1:09:01<28:28, 116.98s/it]"
     ]
    },
    {
     "name": "stdout",
     "output_type": "stream",
     "text": [
      "Train Epoch: 46 [1920/3918 (49%)]\tLoss: nan\n",
      "Mem before-during-after: 27796992 3980142080 26915328\n"
     ]
    },
    {
     "name": "stderr",
     "output_type": "stream",
     "text": [
      " 71%|████████████████████████▊          | 35.53114754098993/50 [1:09:17<23:35, 97.81s/it]"
     ]
    },
    {
     "name": "stdout",
     "output_type": "stream",
     "text": [
      "Train Epoch: 46 [2560/3918 (66%)]\tLoss: nan\n",
      "Mem before-during-after: 26915328 3981332480 26915328\n"
     ]
    },
    {
     "name": "stderr",
     "output_type": "stream",
     "text": [
      " 71%|████████████████████████▏         | 35.65901639344887/50 [1:09:34<27:28, 114.95s/it]"
     ]
    },
    {
     "name": "stdout",
     "output_type": "stream",
     "text": [
      "Train Epoch: 46 [3200/3918 (82%)]\tLoss: nan\n",
      "Mem before-during-after: 26915328 3980049920 26915328\n"
     ]
    },
    {
     "name": "stderr",
     "output_type": "stream",
     "text": [
      " 72%|████████████████████████▎         | 35.79016393443241/50 [1:09:49<28:09, 118.89s/it]"
     ]
    },
    {
     "name": "stdout",
     "output_type": "stream",
     "text": [
      "Train Epoch: 46 [3840/3918 (98%)]\tLoss: nan\n",
      "Mem before-during-after: 26915328 3980049920 26915328\n"
     ]
    },
    {
     "name": "stderr",
     "output_type": "stream",
     "text": [
      " 72%|█████████████████████████▏         | 36.00000000000606/50 [1:10:03<15:23, 65.96s/it]"
     ]
    },
    {
     "name": "stdout",
     "output_type": "stream",
     "text": [
      "\n",
      "Test Epoch: 46\tAccuracy: 254/976 (26%)\n",
      "\n"
     ]
    },
    {
     "name": "stderr",
     "output_type": "stream",
     "text": [
      " 72%|█████████████████████████▏         | 36.00327868853065/50 [1:10:04<18:53, 80.97s/it]"
     ]
    },
    {
     "name": "stdout",
     "output_type": "stream",
     "text": [
      "Train Epoch: 47 [0/3918 (0%)]\tLoss: nan\n",
      "Mem before-during-after: 26914304 3978256384 26915328\n"
     ]
    },
    {
     "name": "stderr",
     "output_type": "stream",
     "text": [
      " 72%|████████████████████████▌         | 36.13442622951418/50 [1:10:21<31:10, 134.93s/it]"
     ]
    },
    {
     "name": "stdout",
     "output_type": "stream",
     "text": [
      "Train Epoch: 47 [640/3918 (16%)]\tLoss: nan\n",
      "Mem before-during-after: 26915328 3647070208 26915328\n"
     ]
    },
    {
     "name": "stderr",
     "output_type": "stream",
     "text": [
      " 73%|████████████████████████▋         | 36.26557377049772/50 [1:10:38<30:28, 133.12s/it]"
     ]
    },
    {
     "name": "stdout",
     "output_type": "stream",
     "text": [
      "Train Epoch: 47 [1280/3918 (33%)]\tLoss: nan\n",
      "Mem before-during-after: 26915328 3980374528 26915328\n"
     ]
    },
    {
     "name": "stderr",
     "output_type": "stream",
     "text": [
      " 73%|████████████████████████▋         | 36.39672131148125/50 [1:10:55<26:06, 115.17s/it]"
     ]
    },
    {
     "name": "stdout",
     "output_type": "stream",
     "text": [
      "Train Epoch: 47 [1920/3918 (49%)]\tLoss: nan\n",
      "Mem before-during-after: 26915328 3980699136 26915328\n"
     ]
    },
    {
     "name": "stderr",
     "output_type": "stream",
     "text": [
      " 73%|████████████████████████         | 36.527868852464785/50 [1:11:10<25:31, 113.66s/it]"
     ]
    },
    {
     "name": "stdout",
     "output_type": "stream",
     "text": [
      "Train Epoch: 47 [2560/3918 (66%)]\tLoss: nan\n",
      "Mem before-during-after: 26915328 3981256192 26915328\n"
     ]
    },
    {
     "name": "stderr",
     "output_type": "stream",
     "text": [
      " 73%|████████████████████████▉         | 36.65901639344832/50 [1:11:25<28:59, 130.37s/it]"
     ]
    },
    {
     "name": "stdout",
     "output_type": "stream",
     "text": [
      "Train Epoch: 47 [3200/3918 (82%)]\tLoss: nan\n",
      "Mem before-during-after: 27040256 3982214144 27796992\n"
     ]
    },
    {
     "name": "stderr",
     "output_type": "stream",
     "text": [
      " 74%|█████████████████████████         | 36.79016393443185/50 [1:11:43<30:11, 137.15s/it]"
     ]
    },
    {
     "name": "stdout",
     "output_type": "stream",
     "text": [
      "Train Epoch: 47 [3840/3918 (98%)]\tLoss: nan\n",
      "Mem before-during-after: 27796992 3982239232 26915328\n"
     ]
    },
    {
     "name": "stderr",
     "output_type": "stream",
     "text": [
      " 74%|█████████████████████████▉         | 37.00000000000551/50 [1:11:57<13:56, 64.33s/it]"
     ]
    },
    {
     "name": "stdout",
     "output_type": "stream",
     "text": [
      "\n",
      "Test Epoch: 47\tAccuracy: 254/976 (26%)\n",
      "\n"
     ]
    },
    {
     "name": "stderr",
     "output_type": "stream",
     "text": [
      " 74%|█████████████████████████▏        | 37.003278688530095/50 [1:11:58<17:28, 80.65s/it]"
     ]
    },
    {
     "name": "stdout",
     "output_type": "stream",
     "text": [
      "Train Epoch: 48 [0/3918 (0%)]\tLoss: nan\n",
      "Mem before-during-after: 26914304 3978256384 26915328\n"
     ]
    },
    {
     "name": "stderr",
     "output_type": "stream",
     "text": [
      " 74%|█████████████████████████▎        | 37.13442622951363/50 [1:12:15<29:39, 138.35s/it]"
     ]
    },
    {
     "name": "stdout",
     "output_type": "stream",
     "text": [
      "Train Epoch: 48 [640/3918 (16%)]\tLoss: nan\n",
      "Mem before-during-after: 26915328 3980699136 26915328\n"
     ]
    },
    {
     "name": "stderr",
     "output_type": "stream",
     "text": [
      " 75%|█████████████████████████▎        | 37.26557377049716/50 [1:12:31<27:58, 131.82s/it]"
     ]
    },
    {
     "name": "stdout",
     "output_type": "stream",
     "text": [
      "Train Epoch: 48 [1280/3918 (33%)]\tLoss: nan\n",
      "Mem before-during-after: 26915328 3981332480 26915328\n"
     ]
    },
    {
     "name": "stderr",
     "output_type": "stream",
     "text": [
      " 75%|██████████████████████████▏        | 37.3967213114807/50 [1:12:48<28:56, 137.77s/it]"
     ]
    },
    {
     "name": "stdout",
     "output_type": "stream",
     "text": [
      "Train Epoch: 48 [1920/3918 (49%)]\tLoss: nan\n",
      "Mem before-during-after: 26915328 3981023744 27796992\n"
     ]
    },
    {
     "name": "stderr",
     "output_type": "stream",
     "text": [
      " 75%|█████████████████████████▌        | 37.52786885246423/50 [1:13:06<29:03, 139.79s/it]"
     ]
    },
    {
     "name": "stdout",
     "output_type": "stream",
     "text": [
      "Train Epoch: 48 [2560/3918 (66%)]\tLoss: nan\n",
      "Mem before-during-after: 26915328 3982223360 26915328\n"
     ]
    },
    {
     "name": "stderr",
     "output_type": "stream",
     "text": [
      " 75%|████████████████████████▊        | 37.659016393447764/50 [1:13:23<28:20, 137.83s/it]"
     ]
    },
    {
     "name": "stdout",
     "output_type": "stream",
     "text": [
      "Train Epoch: 48 [3200/3918 (82%)]\tLoss: nan\n",
      "Mem before-during-after: 27796992 3980699136 26915328\n"
     ]
    },
    {
     "name": "stderr",
     "output_type": "stream",
     "text": [
      " 76%|██████████████████████████▍        | 37.7901639344313/50 [1:13:41<27:28, 135.03s/it]"
     ]
    },
    {
     "name": "stdout",
     "output_type": "stream",
     "text": [
      "Train Epoch: 48 [3840/3918 (98%)]\tLoss: nan\n",
      "Mem before-during-after: 26915328 3981023744 27796992\n"
     ]
    },
    {
     "name": "stderr",
     "output_type": "stream",
     "text": [
      " 76%|██████████████████████████▌        | 38.00000000000495/50 [1:13:56<12:55, 64.59s/it]"
     ]
    },
    {
     "name": "stdout",
     "output_type": "stream",
     "text": [
      "\n",
      "Test Epoch: 48\tAccuracy: 254/976 (26%)\n",
      "\n"
     ]
    },
    {
     "name": "stderr",
     "output_type": "stream",
     "text": [
      " 76%|██████████████████████████▌        | 38.00327868852954/50 [1:13:56<15:50, 79.22s/it]"
     ]
    },
    {
     "name": "stdout",
     "output_type": "stream",
     "text": [
      "Train Epoch: 49 [0/3918 (0%)]\tLoss: nan\n",
      "Mem before-during-after: 26914304 3978256896 26915328\n"
     ]
    },
    {
     "name": "stderr",
     "output_type": "stream",
     "text": [
      " 76%|█████████████████████████▏       | 38.134426229513075/50 [1:14:12<27:19, 138.16s/it]"
     ]
    },
    {
     "name": "stdout",
     "output_type": "stream",
     "text": [
      "Train Epoch: 49 [640/3918 (16%)]\tLoss: nan\n",
      "Mem before-during-after: 26915328 3980374528 26915328\n"
     ]
    },
    {
     "name": "stderr",
     "output_type": "stream",
     "text": [
      " 77%|██████████████████████████        | 38.26557377049661/50 [1:14:28<26:44, 136.70s/it]"
     ]
    },
    {
     "name": "stdout",
     "output_type": "stream",
     "text": [
      "Train Epoch: 49 [1280/3918 (33%)]\tLoss: nan\n",
      "Mem before-during-after: 26915328 3980374528 26915328\n"
     ]
    },
    {
     "name": "stderr",
     "output_type": "stream",
     "text": [
      " 77%|██████████████████████████        | 38.39672131148014/50 [1:14:46<22:41, 117.37s/it]"
     ]
    },
    {
     "name": "stdout",
     "output_type": "stream",
     "text": [
      "Train Epoch: 49 [1920/3918 (49%)]\tLoss: nan\n",
      "Mem before-during-after: 26915328 3981332480 26915328\n"
     ]
    },
    {
     "name": "stderr",
     "output_type": "stream",
     "text": [
      " 77%|█████████████████████████▍       | 38.527868852463676/50 [1:15:02<23:09, 121.12s/it]"
     ]
    },
    {
     "name": "stdout",
     "output_type": "stream",
     "text": [
      "Train Epoch: 49 [2560/3918 (66%)]\tLoss: nan\n",
      "Mem before-during-after: 27040256 3909987840 26915328\n"
     ]
    },
    {
     "name": "stderr",
     "output_type": "stream",
     "text": [
      " 77%|███████████████████████████        | 38.6622950819718/50 [1:15:20<20:07, 106.53s/it]"
     ]
    },
    {
     "name": "stdout",
     "output_type": "stream",
     "text": [
      "Train Epoch: 49 [3200/3918 (82%)]\tLoss: nan\n",
      "Mem before-during-after: 26915328 3980049920 26915328\n"
     ]
    },
    {
     "name": "stderr",
     "output_type": "stream",
     "text": [
      " 78%|█████████████████████████▌       | 38.790163934430744/50 [1:15:38<25:41, 137.49s/it]"
     ]
    },
    {
     "name": "stdout",
     "output_type": "stream",
     "text": [
      "Train Epoch: 49 [3840/3918 (98%)]\tLoss: nan\n",
      "Mem before-during-after: 26915328 3982471680 26915328\n"
     ]
    },
    {
     "name": "stderr",
     "output_type": "stream",
     "text": [
      " 78%|████████████████████████████        | 39.0000000000044/50 [1:15:53<11:57, 65.19s/it]"
     ]
    },
    {
     "name": "stdout",
     "output_type": "stream",
     "text": [
      "\n",
      "Test Epoch: 49\tAccuracy: 254/976 (26%)\n",
      "\n"
     ]
    },
    {
     "name": "stderr",
     "output_type": "stream",
     "text": [
      " 78%|███████████████████████████▎       | 39.00327868852899/50 [1:15:53<14:38, 79.92s/it]"
     ]
    },
    {
     "name": "stdout",
     "output_type": "stream",
     "text": [
      "Train Epoch: 50 [0/3918 (0%)]\tLoss: nan\n",
      "Mem before-during-after: 26914304 3978256896 26915328\n"
     ]
    },
    {
     "name": "stderr",
     "output_type": "stream",
     "text": [
      " 78%|██████████████████████████▌       | 39.13442622951252/50 [1:16:10<20:42, 114.34s/it]"
     ]
    },
    {
     "name": "stdout",
     "output_type": "stream",
     "text": [
      "Train Epoch: 50 [640/3918 (16%)]\tLoss: nan\n",
      "Mem before-during-after: 26915328 3980049920 26915328\n"
     ]
    },
    {
     "name": "stderr",
     "output_type": "stream",
     "text": [
      " 79%|█████████████████████████▉       | 39.265573770496054/50 [1:16:26<21:22, 119.44s/it]"
     ]
    },
    {
     "name": "stdout",
     "output_type": "stream",
     "text": [
      "Train Epoch: 50 [1280/3918 (33%)]\tLoss: nan\n",
      "Mem before-during-after: 26915328 3771930624 26915328\n"
     ]
    },
    {
     "name": "stderr",
     "output_type": "stream",
     "text": [
      " 79%|██████████████████████████▊       | 39.39672131147959/50 [1:16:44<24:24, 138.15s/it]"
     ]
    },
    {
     "name": "stdout",
     "output_type": "stream",
     "text": [
      "Train Epoch: 50 [1920/3918 (49%)]\tLoss: nan\n",
      "Mem before-during-after: 26915328 3980699136 26915328\n"
     ]
    },
    {
     "name": "stderr",
     "output_type": "stream",
     "text": [
      " 79%|██████████████████████████▉       | 39.52786885246312/50 [1:17:02<24:12, 138.71s/it]"
     ]
    },
    {
     "name": "stdout",
     "output_type": "stream",
     "text": [
      "Train Epoch: 50 [2560/3918 (66%)]\tLoss: nan\n",
      "Mem before-during-after: 27796992 3980699136 26915328\n"
     ]
    },
    {
     "name": "stderr",
     "output_type": "stream",
     "text": [
      " 79%|██████████████████████████▏      | 39.659016393446656/50 [1:17:19<23:48, 138.10s/it]"
     ]
    },
    {
     "name": "stdout",
     "output_type": "stream",
     "text": [
      "Train Epoch: 50 [3200/3918 (82%)]\tLoss: nan\n",
      "Mem before-during-after: 26915328 3982471680 26915328\n"
     ]
    },
    {
     "name": "stderr",
     "output_type": "stream",
     "text": [
      " 80%|███████████████████████████       | 39.79016393443019/50 [1:17:37<23:56, 140.71s/it]"
     ]
    },
    {
     "name": "stdout",
     "output_type": "stream",
     "text": [
      "Train Epoch: 50 [3840/3918 (98%)]\tLoss: nan\n",
      "Mem before-during-after: 26915328 3977184768 26915328\n"
     ]
    },
    {
     "name": "stderr",
     "output_type": "stream",
     "text": [
      " 80%|███████████████████████████▏      | 40.000000000003844/50 [1:17:51<10:33, 63.31s/it]"
     ]
    },
    {
     "name": "stdout",
     "output_type": "stream",
     "text": [
      "\n",
      "Test Epoch: 50\tAccuracy: 254/976 (26%)\n",
      "\n"
     ]
    },
    {
     "name": "stderr",
     "output_type": "stream",
     "text": [
      " 80%|████████████████████████████       | 40.00327868852843/50 [1:17:51<13:25, 80.62s/it]"
     ]
    },
    {
     "name": "stdout",
     "output_type": "stream",
     "text": [
      "Train Epoch: 51 [0/3918 (0%)]\tLoss: nan\n",
      "Mem before-during-after: 26914304 3978256384 26915328\n"
     ]
    },
    {
     "name": "stderr",
     "output_type": "stream",
     "text": [
      " 80%|██████████████████████████▍      | 40.134426229511966/50 [1:18:07<22:14, 135.28s/it]"
     ]
    },
    {
     "name": "stdout",
     "output_type": "stream",
     "text": [
      "Train Epoch: 51 [640/3918 (16%)]\tLoss: nan\n",
      "Mem before-during-after: 26915328 3771547648 26915328\n"
     ]
    },
    {
     "name": "stderr",
     "output_type": "stream",
     "text": [
      " 81%|████████████████████████████▏      | 40.2655737704955/50 [1:18:25<18:57, 116.83s/it]"
     ]
    },
    {
     "name": "stdout",
     "output_type": "stream",
     "text": [
      "Train Epoch: 51 [1280/3918 (33%)]\tLoss: nan\n",
      "Mem before-during-after: 26915328 3953469440 26915328\n"
     ]
    },
    {
     "name": "stderr",
     "output_type": "stream",
     "text": [
      " 81%|██████████████████████████▋      | 40.396721311479034/50 [1:18:43<22:44, 142.10s/it]"
     ]
    },
    {
     "name": "stdout",
     "output_type": "stream",
     "text": [
      "Train Epoch: 51 [1920/3918 (49%)]\tLoss: nan\n",
      "Mem before-during-after: 27239936 3981023744 27796992\n"
     ]
    },
    {
     "name": "stderr",
     "output_type": "stream",
     "text": [
      " 81%|███████████████████████████▌      | 40.52786885246257/50 [1:19:01<21:46, 137.96s/it]"
     ]
    },
    {
     "name": "stdout",
     "output_type": "stream",
     "text": [
      "Train Epoch: 51 [2560/3918 (66%)]\tLoss: nan\n",
      "Mem before-during-after: 26915328 3982796288 26915328\n"
     ]
    },
    {
     "name": "stderr",
     "output_type": "stream",
     "text": [
      " 81%|████████████████████████████▍      | 40.6590163934461/50 [1:19:18<17:46, 114.12s/it]"
     ]
    },
    {
     "name": "stdout",
     "output_type": "stream",
     "text": [
      "Train Epoch: 51 [3200/3918 (82%)]\tLoss: nan\n",
      "Mem before-during-after: 26915328 3981332480 26915328\n"
     ]
    },
    {
     "name": "stderr",
     "output_type": "stream",
     "text": [
      " 82%|██████████████████████████▉      | 40.790163934429636/50 [1:19:34<18:00, 117.28s/it]"
     ]
    },
    {
     "name": "stdout",
     "output_type": "stream",
     "text": [
      "Train Epoch: 51 [3840/3918 (98%)]\tLoss: nan\n",
      "Mem before-during-after: 26915328 3852408832 27348480\n"
     ]
    },
    {
     "name": "stderr",
     "output_type": "stream",
     "text": [
      " 82%|████████████████████████████▋      | 41.00000000000329/50 [1:19:48<09:44, 64.94s/it]"
     ]
    },
    {
     "name": "stdout",
     "output_type": "stream",
     "text": [
      "\n",
      "Test Epoch: 51\tAccuracy: 254/976 (26%)\n",
      "\n"
     ]
    },
    {
     "name": "stderr",
     "output_type": "stream",
     "text": [
      " 82%|████████████████████████████▋      | 41.00327868852788/50 [1:19:48<11:59, 80.01s/it]"
     ]
    },
    {
     "name": "stdout",
     "output_type": "stream",
     "text": [
      "Train Epoch: 52 [0/3918 (0%)]\tLoss: nan\n",
      "Mem before-during-after: 26914304 3978256384 26915328\n"
     ]
    },
    {
     "name": "stderr",
     "output_type": "stream",
     "text": [
      " 82%|███████████████████████████▉      | 41.13442622951141/50 [1:20:05<21:20, 144.47s/it]"
     ]
    },
    {
     "name": "stdout",
     "output_type": "stream",
     "text": [
      "Train Epoch: 52 [640/3918 (16%)]\tLoss: nan\n",
      "Mem before-during-after: 26915328 3982471680 26915328\n"
     ]
    },
    {
     "name": "stderr",
     "output_type": "stream",
     "text": [
      " 83%|███████████████████████████▏     | 41.265573770494946/50 [1:20:22<16:41, 114.72s/it]"
     ]
    },
    {
     "name": "stdout",
     "output_type": "stream",
     "text": [
      "Train Epoch: 52 [1280/3918 (33%)]\tLoss: nan\n",
      "Mem before-during-after: 26915328 3980049920 26915328\n"
     ]
    },
    {
     "name": "stderr",
     "output_type": "stream",
     "text": [
      " 83%|████████████████████████████▏     | 41.39672131147848/50 [1:20:38<20:22, 142.11s/it]"
     ]
    },
    {
     "name": "stdout",
     "output_type": "stream",
     "text": [
      "Train Epoch: 52 [1920/3918 (49%)]\tLoss: nan\n",
      "Mem before-during-after: 26915328 3980699136 26915328\n"
     ]
    },
    {
     "name": "stderr",
     "output_type": "stream",
     "text": [
      " 83%|███████████████████████████▍     | 41.527868852462014/50 [1:20:56<19:54, 141.02s/it]"
     ]
    },
    {
     "name": "stdout",
     "output_type": "stream",
     "text": [
      "Train Epoch: 52 [2560/3918 (66%)]\tLoss: nan\n",
      "Mem before-during-after: 27779072 3980451328 26915328\n"
     ]
    },
    {
     "name": "stderr",
     "output_type": "stream",
     "text": [
      " 83%|████████████████████████████▎     | 41.65901639344555/50 [1:21:14<19:20, 139.19s/it]"
     ]
    },
    {
     "name": "stdout",
     "output_type": "stream",
     "text": [
      "Train Epoch: 52 [3200/3918 (82%)]\tLoss: nan\n",
      "Mem before-during-after: 26915328 3954500096 27466240\n"
     ]
    },
    {
     "name": "stderr",
     "output_type": "stream",
     "text": [
      " 84%|████████████████████████████▍     | 41.79016393442908/50 [1:21:31<19:07, 139.81s/it]"
     ]
    },
    {
     "name": "stdout",
     "output_type": "stream",
     "text": [
      "Train Epoch: 52 [3840/3918 (98%)]\tLoss: nan\n",
      "Mem before-during-after: 26915328 3980126720 26915328\n"
     ]
    },
    {
     "name": "stderr",
     "output_type": "stream",
     "text": [
      " 84%|████████████████████████████▌     | 42.000000000002736/50 [1:21:45<08:40, 65.12s/it]"
     ]
    },
    {
     "name": "stdout",
     "output_type": "stream",
     "text": [
      "\n",
      "Test Epoch: 52\tAccuracy: 254/976 (26%)\n",
      "\n"
     ]
    },
    {
     "name": "stderr",
     "output_type": "stream",
     "text": [
      " 84%|████████████████████████████▌     | 42.003278688527324/50 [1:21:46<11:07, 83.46s/it]"
     ]
    },
    {
     "name": "stdout",
     "output_type": "stream",
     "text": [
      "Train Epoch: 53 [0/3918 (0%)]\tLoss: nan\n",
      "Mem before-during-after: 26914304 3978256384 26915328\n"
     ]
    },
    {
     "name": "stderr",
     "output_type": "stream",
     "text": [
      " 84%|████████████████████████████▋     | 42.13442622951086/50 [1:22:03<18:31, 141.36s/it]"
     ]
    },
    {
     "name": "stdout",
     "output_type": "stream",
     "text": [
      "Train Epoch: 53 [640/3918 (16%)]\tLoss: nan\n",
      "Mem before-during-after: 27385344 3980699136 26915328\n"
     ]
    },
    {
     "name": "stderr",
     "output_type": "stream",
     "text": [
      " 85%|████████████████████████████▋     | 42.26557377049439/50 [1:22:18<14:44, 114.40s/it]"
     ]
    },
    {
     "name": "stdout",
     "output_type": "stream",
     "text": [
      "Train Epoch: 53 [1280/3918 (33%)]\tLoss: nan\n",
      "Mem before-during-after: 26915328 3981633024 26915328\n"
     ]
    },
    {
     "name": "stderr",
     "output_type": "stream",
     "text": [
      " 85%|███████████████████████████▉     | 42.396721311477926/50 [1:22:35<16:31, 130.41s/it]"
     ]
    },
    {
     "name": "stdout",
     "output_type": "stream",
     "text": [
      "Train Epoch: 53 [1920/3918 (49%)]\tLoss: nan\n",
      "Mem before-during-after: 26915328 3980126208 26915328\n"
     ]
    },
    {
     "name": "stderr",
     "output_type": "stream",
     "text": [
      " 85%|████████████████████████████▉     | 42.53114754098605/50 [1:22:54<14:28, 116.25s/it]"
     ]
    },
    {
     "name": "stdout",
     "output_type": "stream",
     "text": [
      "Train Epoch: 53 [2560/3918 (66%)]\tLoss: nan\n",
      "Mem before-during-after: 26915328 3983120896 27796992\n"
     ]
    },
    {
     "name": "stderr",
     "output_type": "stream",
     "text": [
      " 85%|█████████████████████████████     | 42.65901639344499/50 [1:23:11<14:09, 115.72s/it]"
     ]
    },
    {
     "name": "stdout",
     "output_type": "stream",
     "text": [
      "Train Epoch: 53 [3200/3918 (82%)]\tLoss: nan\n",
      "Mem before-during-after: 26915328 3980049920 26915328\n"
     ]
    },
    {
     "name": "stderr",
     "output_type": "stream",
     "text": [
      " 86%|█████████████████████████████     | 42.79016393442853/50 [1:23:27<16:42, 139.09s/it]"
     ]
    },
    {
     "name": "stdout",
     "output_type": "stream",
     "text": [
      "Train Epoch: 53 [3840/3918 (98%)]\tLoss: nan\n",
      "Mem before-during-after: 26915328 3981023744 27796992\n"
     ]
    },
    {
     "name": "stderr",
     "output_type": "stream",
     "text": [
      " 86%|██████████████████████████████     | 43.00000000000218/50 [1:23:42<07:47, 66.77s/it]"
     ]
    },
    {
     "name": "stdout",
     "output_type": "stream",
     "text": [
      "\n",
      "Test Epoch: 53\tAccuracy: 254/976 (26%)\n",
      "\n"
     ]
    },
    {
     "name": "stderr",
     "output_type": "stream",
     "text": [
      " 86%|██████████████████████████████     | 43.00327868852677/50 [1:23:42<09:31, 81.73s/it]"
     ]
    },
    {
     "name": "stdout",
     "output_type": "stream",
     "text": [
      "Train Epoch: 54 [0/3918 (0%)]\tLoss: nan\n",
      "Mem before-during-after: 26914304 3978256896 26915328\n"
     ]
    },
    {
     "name": "stderr",
     "output_type": "stream",
     "text": [
      " 86%|████████████████████████████▍    | 43.134426229510304/50 [1:23:59<15:53, 138.91s/it]"
     ]
    },
    {
     "name": "stdout",
     "output_type": "stream",
     "text": [
      "Train Epoch: 54 [640/3918 (16%)]\tLoss: nan\n",
      "Mem before-during-after: 27796992 3980142080 26915328\n"
     ]
    },
    {
     "name": "stderr",
     "output_type": "stream",
     "text": [
      " 87%|█████████████████████████████▍    | 43.26557377049384/50 [1:24:17<12:51, 114.58s/it]"
     ]
    },
    {
     "name": "stdout",
     "output_type": "stream",
     "text": [
      "Train Epoch: 54 [1280/3918 (33%)]\tLoss: nan\n",
      "Mem before-during-after: 26915328 3980049920 26915328\n"
     ]
    },
    {
     "name": "stderr",
     "output_type": "stream",
     "text": [
      " 87%|█████████████████████████████▌    | 43.39672131147737/50 [1:24:34<15:17, 138.93s/it]"
     ]
    },
    {
     "name": "stdout",
     "output_type": "stream",
     "text": [
      "Train Epoch: 54 [1920/3918 (49%)]\tLoss: nan\n",
      "Mem before-during-after: 26915328 3980699136 26915328\n"
     ]
    },
    {
     "name": "stderr",
     "output_type": "stream",
     "text": [
      " 87%|████████████████████████████▋    | 43.527868852460905/50 [1:24:50<12:13, 113.26s/it]"
     ]
    },
    {
     "name": "stdout",
     "output_type": "stream",
     "text": [
      "Train Epoch: 54 [2560/3918 (66%)]\tLoss: nan\n",
      "Mem before-during-after: 26915328 3980049920 26915328\n"
     ]
    },
    {
     "name": "stderr",
     "output_type": "stream",
     "text": [
      " 87%|█████████████████████████████▋    | 43.65901639344444/50 [1:25:07<13:19, 126.03s/it]"
     ]
    },
    {
     "name": "stdout",
     "output_type": "stream",
     "text": [
      "Train Epoch: 54 [3200/3918 (82%)]\tLoss: nan\n",
      "Mem before-during-after: 26915328 3980049920 26915328\n"
     ]
    },
    {
     "name": "stderr",
     "output_type": "stream",
     "text": [
      " 88%|█████████████████████████████▊    | 43.79016393442797/50 [1:25:23<14:19, 138.41s/it]"
     ]
    },
    {
     "name": "stdout",
     "output_type": "stream",
     "text": [
      "Train Epoch: 54 [3840/3918 (98%)]\tLoss: nan\n",
      "Mem before-during-after: 26915328 3981007872 26915328\n"
     ]
    },
    {
     "name": "stderr",
     "output_type": "stream",
     "text": [
      " 88%|██████████████████████████████▊    | 44.00000000000163/50 [1:25:38<06:29, 64.94s/it]"
     ]
    },
    {
     "name": "stdout",
     "output_type": "stream",
     "text": [
      "\n",
      "Test Epoch: 54\tAccuracy: 254/976 (26%)\n",
      "\n"
     ]
    },
    {
     "name": "stderr",
     "output_type": "stream",
     "text": [
      " 88%|█████████████████████████████▉    | 44.003278688526215/50 [1:25:38<08:03, 80.70s/it]"
     ]
    },
    {
     "name": "stdout",
     "output_type": "stream",
     "text": [
      "Train Epoch: 55 [0/3918 (0%)]\tLoss: nan\n",
      "Mem before-during-after: 26914304 3978256384 26915328\n"
     ]
    },
    {
     "name": "stderr",
     "output_type": "stream",
     "text": [
      " 88%|██████████████████████████████    | 44.13442622950975/50 [1:25:53<12:49, 131.13s/it]"
     ]
    },
    {
     "name": "stdout",
     "output_type": "stream",
     "text": [
      "Train Epoch: 55 [640/3918 (16%)]\tLoss: nan\n",
      "Mem before-during-after: 26915328 3980713984 27040256\n"
     ]
    },
    {
     "name": "stderr",
     "output_type": "stream",
     "text": [
      " 89%|██████████████████████████████    | 44.26557377049328/50 [1:26:09<13:12, 138.24s/it]"
     ]
    },
    {
     "name": "stdout",
     "output_type": "stream",
     "text": [
      "Train Epoch: 55 [1280/3918 (33%)]\tLoss: nan\n",
      "Mem before-during-after: 26915328 3982471680 26915328\n"
     ]
    },
    {
     "name": "stderr",
     "output_type": "stream",
     "text": [
      " 89%|██████████████████████████████▏   | 44.39672131147682/50 [1:26:26<10:41, 114.47s/it]"
     ]
    },
    {
     "name": "stdout",
     "output_type": "stream",
     "text": [
      "Train Epoch: 55 [1920/3918 (49%)]\tLoss: nan\n",
      "Mem before-during-after: 26915328 3980049920 26915328\n"
     ]
    },
    {
     "name": "stderr",
     "output_type": "stream",
     "text": [
      " 89%|██████████████████████████████▎   | 44.52786885246035/50 [1:26:43<12:27, 136.56s/it]"
     ]
    },
    {
     "name": "stdout",
     "output_type": "stream",
     "text": [
      "Train Epoch: 55 [2560/3918 (66%)]\tLoss: nan\n",
      "Mem before-during-after: 27796992 3983120896 27796992\n"
     ]
    },
    {
     "name": "stderr",
     "output_type": "stream",
     "text": [
      " 89%|█████████████████████████████▍   | 44.659016393443885/50 [1:27:01<12:37, 141.82s/it]"
     ]
    },
    {
     "name": "stdout",
     "output_type": "stream",
     "text": [
      "Train Epoch: 55 [3200/3918 (82%)]\tLoss: nan\n",
      "Mem before-during-after: 27796992 3981023744 27796992\n"
     ]
    },
    {
     "name": "stderr",
     "output_type": "stream",
     "text": [
      " 90%|██████████████████████████████▍   | 44.79016393442742/50 [1:27:18<10:44, 123.66s/it]"
     ]
    },
    {
     "name": "stdout",
     "output_type": "stream",
     "text": [
      "Train Epoch: 55 [3840/3918 (98%)]\tLoss: nan\n",
      "Mem before-during-after: 26915328 3980699136 26915328\n"
     ]
    },
    {
     "name": "stderr",
     "output_type": "stream",
     "text": [
      " 90%|███████████████████████████████▌   | 45.00000000000107/50 [1:27:32<05:22, 64.54s/it]"
     ]
    },
    {
     "name": "stdout",
     "output_type": "stream",
     "text": [
      "\n",
      "Test Epoch: 55\tAccuracy: 254/976 (26%)\n",
      "\n"
     ]
    },
    {
     "name": "stderr",
     "output_type": "stream",
     "text": [
      " 90%|███████████████████████████████▌   | 45.00327868852566/50 [1:27:32<06:43, 80.70s/it]"
     ]
    },
    {
     "name": "stdout",
     "output_type": "stream",
     "text": [
      "Train Epoch: 56 [0/3918 (0%)]\tLoss: nan\n",
      "Mem before-during-after: 26914304 3978256384 26915328\n"
     ]
    },
    {
     "name": "stderr",
     "output_type": "stream",
     "text": [
      " 90%|█████████████████████████████▊   | 45.134426229509195/50 [1:27:48<11:09, 137.58s/it]"
     ]
    },
    {
     "name": "stdout",
     "output_type": "stream",
     "text": [
      "Train Epoch: 56 [640/3918 (16%)]\tLoss: nan\n",
      "Mem before-during-after: 26915328 3981023744 27796992\n"
     ]
    },
    {
     "name": "stderr",
     "output_type": "stream",
     "text": [
      " 91%|██████████████████████████████▊   | 45.26557377049273/50 [1:28:06<11:15, 142.70s/it]"
     ]
    },
    {
     "name": "stdout",
     "output_type": "stream",
     "text": [
      "Train Epoch: 56 [1280/3918 (33%)]\tLoss: nan\n",
      "Mem before-during-after: 26915328 3980699136 26915328\n"
     ]
    },
    {
     "name": "stderr",
     "output_type": "stream",
     "text": [
      " 91%|██████████████████████████████▊   | 45.39672131147626/50 [1:28:24<08:39, 112.92s/it]"
     ]
    },
    {
     "name": "stdout",
     "output_type": "stream",
     "text": [
      "Train Epoch: 56 [1920/3918 (49%)]\tLoss: nan\n",
      "Mem before-during-after: 26915328 3980049920 26915328\n"
     ]
    },
    {
     "name": "stderr",
     "output_type": "stream",
     "text": [
      " 91%|███████████████████████████████▊   | 45.5278688524598/50 [1:28:41<10:21, 138.90s/it]"
     ]
    },
    {
     "name": "stdout",
     "output_type": "stream",
     "text": [
      "Train Epoch: 56 [2560/3918 (66%)]\tLoss: nan\n",
      "Mem before-during-after: 27796992 3983120896 27796992\n"
     ]
    },
    {
     "name": "stderr",
     "output_type": "stream",
     "text": [
      " 91%|███████████████████████████████   | 45.65901639344333/50 [1:28:59<10:00, 138.27s/it]"
     ]
    },
    {
     "name": "stdout",
     "output_type": "stream",
     "text": [
      "Train Epoch: 56 [3200/3918 (82%)]\tLoss: nan\n",
      "Mem before-during-after: 26915328 3981023744 27796992\n"
     ]
    },
    {
     "name": "stderr",
     "output_type": "stream",
     "text": [
      " 92%|██████████████████████████████▏  | 45.790163934426865/50 [1:29:17<09:45, 139.15s/it]"
     ]
    },
    {
     "name": "stdout",
     "output_type": "stream",
     "text": [
      "Train Epoch: 56 [3840/3918 (98%)]\tLoss: nan\n",
      "Mem before-during-after: 27796992 3980699136 26915328\n"
     ]
    },
    {
     "name": "stderr",
     "output_type": "stream",
     "text": [
      " 92%|████████████████████████████████▏  | 46.00000000000052/50 [1:29:32<04:15, 63.95s/it]"
     ]
    },
    {
     "name": "stdout",
     "output_type": "stream",
     "text": [
      "\n",
      "Test Epoch: 56\tAccuracy: 254/976 (26%)\n",
      "\n"
     ]
    },
    {
     "name": "stderr",
     "output_type": "stream",
     "text": [
      " 92%|████████████████████████████████▏  | 46.00327868852511/50 [1:29:32<05:14, 78.78s/it]"
     ]
    },
    {
     "name": "stdout",
     "output_type": "stream",
     "text": [
      "Train Epoch: 57 [0/3918 (0%)]\tLoss: nan\n",
      "Mem before-during-after: 26914304 3978256384 26915328\n"
     ]
    },
    {
     "name": "stderr",
     "output_type": "stream",
     "text": [
      " 92%|███████████████████████████████▎  | 46.13442622950864/50 [1:29:48<08:18, 128.90s/it]"
     ]
    },
    {
     "name": "stdout",
     "output_type": "stream",
     "text": [
      "Train Epoch: 57 [640/3918 (16%)]\tLoss: nan\n",
      "Mem before-during-after: 26915328 3980049920 26915328\n"
     ]
    },
    {
     "name": "stderr",
     "output_type": "stream",
     "text": [
      " 93%|██████████████████████████████▌  | 46.265573770492175/50 [1:30:04<07:13, 115.99s/it]"
     ]
    },
    {
     "name": "stdout",
     "output_type": "stream",
     "text": [
      "Train Epoch: 57 [1280/3918 (33%)]\tLoss: nan\n",
      "Mem before-during-after: 26915328 3980699136 26915328\n"
     ]
    },
    {
     "name": "stderr",
     "output_type": "stream",
     "text": [
      " 93%|████████████████████████████████▍  | 46.4000000000003/50 [1:30:22<06:51, 114.27s/it]"
     ]
    },
    {
     "name": "stdout",
     "output_type": "stream",
     "text": [
      "Train Epoch: 57 [1920/3918 (49%)]\tLoss: nan\n",
      "Mem before-during-after: 26915328 3982471680 26915328\n"
     ]
    },
    {
     "name": "stderr",
     "output_type": "stream",
     "text": [
      " 93%|███████████████████████████████▋  | 46.52786885245924/50 [1:30:38<07:47, 134.68s/it]"
     ]
    },
    {
     "name": "stdout",
     "output_type": "stream",
     "text": [
      "Train Epoch: 57 [2560/3918 (66%)]\tLoss: nan\n",
      "Mem before-during-after: 26915328 3982471680 26915328\n"
     ]
    },
    {
     "name": "stderr",
     "output_type": "stream",
     "text": [
      " 93%|██████████████████████████████▊  | 46.659016393442776/50 [1:30:56<07:30, 134.72s/it]"
     ]
    },
    {
     "name": "stdout",
     "output_type": "stream",
     "text": [
      "Train Epoch: 57 [3200/3918 (82%)]\tLoss: nan\n",
      "Mem before-during-after: 26915328 3981023744 27796992\n"
     ]
    },
    {
     "name": "stderr",
     "output_type": "stream",
     "text": [
      " 94%|███████████████████████████████▊  | 46.79016393442631/50 [1:31:13<07:16, 136.11s/it]"
     ]
    },
    {
     "name": "stdout",
     "output_type": "stream",
     "text": [
      "Train Epoch: 57 [3840/3918 (98%)]\tLoss: nan\n",
      "Mem before-during-after: 26915328 3983677952 27796992\n"
     ]
    },
    {
     "name": "stderr",
     "output_type": "stream",
     "text": [
      " 94%|███████████████████████████████▉  | 46.999999999999964/50 [1:31:27<03:12, 64.28s/it]"
     ]
    },
    {
     "name": "stdout",
     "output_type": "stream",
     "text": [
      "\n",
      "Test Epoch: 57\tAccuracy: 254/976 (26%)\n",
      "\n"
     ]
    },
    {
     "name": "stderr",
     "output_type": "stream",
     "text": [
      " 94%|████████████████████████████████▉  | 47.00327868852455/50 [1:31:27<04:05, 81.87s/it]"
     ]
    },
    {
     "name": "stdout",
     "output_type": "stream",
     "text": [
      "Train Epoch: 58 [0/3918 (0%)]\tLoss: nan\n",
      "Mem before-during-after: 26914304 3978256384 26915328\n"
     ]
    },
    {
     "name": "stderr",
     "output_type": "stream",
     "text": [
      " 94%|████████████████████████████████  | 47.13442622950809/50 [1:31:45<06:37, 138.79s/it]"
     ]
    },
    {
     "name": "stdout",
     "output_type": "stream",
     "text": [
      "Train Epoch: 58 [640/3918 (16%)]\tLoss: nan\n",
      "Mem before-during-after: 26915328 3980699136 26915328\n"
     ]
    },
    {
     "name": "stderr",
     "output_type": "stream",
     "text": [
      " 95%|████████████████████████████████▏ | 47.26557377049162/50 [1:32:02<06:13, 136.49s/it]"
     ]
    },
    {
     "name": "stdout",
     "output_type": "stream",
     "text": [
      "Train Epoch: 58 [1280/3918 (33%)]\tLoss: nan\n",
      "Mem before-during-after: 27796992 3981023744 27796992\n"
     ]
    },
    {
     "name": "stderr",
     "output_type": "stream",
     "text": [
      " 95%|███████████████████████████████▎ | 47.396721311475154/50 [1:32:18<06:08, 141.55s/it]"
     ]
    },
    {
     "name": "stdout",
     "output_type": "stream",
     "text": [
      "Train Epoch: 58 [1920/3918 (49%)]\tLoss: nan\n",
      "Mem before-during-after: 26915328 3982548480 26915328\n"
     ]
    },
    {
     "name": "stderr",
     "output_type": "stream",
     "text": [
      " 95%|████████████████████████████████▎ | 47.52786885245869/50 [1:32:36<05:38, 136.74s/it]"
     ]
    },
    {
     "name": "stdout",
     "output_type": "stream",
     "text": [
      "Train Epoch: 58 [2560/3918 (66%)]\tLoss: nan\n",
      "Mem before-during-after: 27796992 3730579456 26915328\n"
     ]
    },
    {
     "name": "stderr",
     "output_type": "stream",
     "text": [
      " 95%|████████████████████████████████▍ | 47.65901639344222/50 [1:32:54<05:40, 145.46s/it]"
     ]
    },
    {
     "name": "stdout",
     "output_type": "stream",
     "text": [
      "Train Epoch: 58 [3200/3918 (82%)]\tLoss: nan\n",
      "Mem before-during-after: 27577856 3981023744 27796992\n"
     ]
    },
    {
     "name": "stderr",
     "output_type": "stream",
     "text": [
      " 96%|███████████████████████████████▌ | 47.790163934425756/50 [1:33:12<04:53, 132.71s/it]"
     ]
    },
    {
     "name": "stdout",
     "output_type": "stream",
     "text": [
      "Train Epoch: 58 [3840/3918 (98%)]\tLoss: nan\n",
      "Mem before-during-after: 26915328 3980699136 26915328\n"
     ]
    },
    {
     "name": "stderr",
     "output_type": "stream",
     "text": [
      " 96%|█████████████████████████████████▌ | 47.99999999999941/50 [1:33:26<02:12, 66.13s/it]"
     ]
    },
    {
     "name": "stdout",
     "output_type": "stream",
     "text": [
      "\n",
      "Test Epoch: 58\tAccuracy: 254/976 (26%)\n",
      "\n"
     ]
    },
    {
     "name": "stderr",
     "output_type": "stream",
     "text": [
      " 96%|███████████████████████████████████▌ | 48.003278688524/50 [1:33:27<02:44, 82.50s/it]"
     ]
    },
    {
     "name": "stdout",
     "output_type": "stream",
     "text": [
      "Train Epoch: 59 [0/3918 (0%)]\tLoss: nan\n",
      "Mem before-during-after: 26914304 3978256384 26915328\n"
     ]
    },
    {
     "name": "stderr",
     "output_type": "stream",
     "text": [
      " 96%|████████████████████████████████▋ | 48.13442622950753/50 [1:33:44<04:18, 138.39s/it]"
     ]
    },
    {
     "name": "stdout",
     "output_type": "stream",
     "text": [
      "Train Epoch: 59 [640/3918 (16%)]\tLoss: nan\n",
      "Mem before-during-after: 27796992 3981023744 27796992\n"
     ]
    },
    {
     "name": "stderr",
     "output_type": "stream",
     "text": [
      " 97%|███████████████████████████████▊ | 48.265573770491066/50 [1:34:01<03:59, 138.16s/it]"
     ]
    },
    {
     "name": "stdout",
     "output_type": "stream",
     "text": [
      "Train Epoch: 59 [1280/3918 (33%)]\tLoss: nan\n",
      "Mem before-during-after: 26915328 3980699136 26915328\n"
     ]
    },
    {
     "name": "stderr",
     "output_type": "stream",
     "text": [
      " 97%|█████████████████████████████████▉ | 48.3967213114746/50 [1:34:19<03:40, 137.74s/it]"
     ]
    },
    {
     "name": "stdout",
     "output_type": "stream",
     "text": [
      "Train Epoch: 59 [1920/3918 (49%)]\tLoss: nan\n",
      "Mem before-during-after: 26915328 3983120896 27796992\n"
     ]
    },
    {
     "name": "stderr",
     "output_type": "stream",
     "text": [
      " 97%|████████████████████████████████ | 48.527868852458134/50 [1:34:37<03:24, 138.62s/it]"
     ]
    },
    {
     "name": "stdout",
     "output_type": "stream",
     "text": [
      "Train Epoch: 59 [2560/3918 (66%)]\tLoss: nan\n",
      "Mem before-during-after: 27796992 3983120896 27796992\n"
     ]
    },
    {
     "name": "stderr",
     "output_type": "stream",
     "text": [
      " 97%|█████████████████████████████████ | 48.65901639344167/50 [1:34:55<03:05, 138.03s/it]"
     ]
    },
    {
     "name": "stdout",
     "output_type": "stream",
     "text": [
      "Train Epoch: 59 [3200/3918 (82%)]\tLoss: nan\n",
      "Mem before-during-after: 27796992 3980699136 26915328\n"
     ]
    },
    {
     "name": "stderr",
     "output_type": "stream",
     "text": [
      " 98%|██████████████████████████████████▏| 48.7901639344252/50 [1:35:11<02:19, 115.13s/it]"
     ]
    },
    {
     "name": "stdout",
     "output_type": "stream",
     "text": [
      "Train Epoch: 59 [3840/3918 (98%)]\tLoss: nan\n",
      "Mem before-during-after: 26915328 3980049920 26915328\n"
     ]
    },
    {
     "name": "stderr",
     "output_type": "stream",
     "text": [
      " 98%|█████████████████████████████████▎| 48.999999999998856/50 [1:35:26<01:05, 65.09s/it]"
     ]
    },
    {
     "name": "stdout",
     "output_type": "stream",
     "text": [
      "\n",
      "Test Epoch: 59\tAccuracy: 254/976 (26%)\n",
      "\n"
     ]
    },
    {
     "name": "stderr",
     "output_type": "stream",
     "text": [
      " 98%|█████████████████████████████████▎| 49.003278688523444/50 [1:35:26<01:19, 79.61s/it]"
     ]
    },
    {
     "name": "stdout",
     "output_type": "stream",
     "text": [
      "Train Epoch: 60 [0/3918 (0%)]\tLoss: nan\n",
      "Mem before-during-after: 26914304 3978256896 26915328\n"
     ]
    },
    {
     "name": "stderr",
     "output_type": "stream",
     "text": [
      " 98%|█████████████████████████████████▍| 49.13442622950698/50 [1:35:43<02:01, 140.19s/it]"
     ]
    },
    {
     "name": "stdout",
     "output_type": "stream",
     "text": [
      "Train Epoch: 60 [640/3918 (16%)]\tLoss: nan\n",
      "Mem before-during-after: 27796992 3981023744 27796992\n"
     ]
    },
    {
     "name": "stderr",
     "output_type": "stream",
     "text": [
      " 99%|█████████████████████████████████▌| 49.26557377049051/50 [1:36:01<01:41, 138.02s/it]"
     ]
    },
    {
     "name": "stdout",
     "output_type": "stream",
     "text": [
      "Train Epoch: 60 [1280/3918 (33%)]\tLoss: nan\n",
      "Mem before-during-after: 27796992 3981023744 27796992\n"
     ]
    },
    {
     "name": "stderr",
     "output_type": "stream",
     "text": [
      " 99%|████████████████████████████████▌| 49.396721311474046/50 [1:36:18<01:09, 115.96s/it]"
     ]
    },
    {
     "name": "stdout",
     "output_type": "stream",
     "text": [
      "Train Epoch: 60 [1920/3918 (49%)]\tLoss: nan\n",
      "Mem before-during-after: 26915328 3980049920 26915328\n"
     ]
    },
    {
     "name": "stderr",
     "output_type": "stream",
     "text": [
      " 99%|█████████████████████████████████▋| 49.52786885245758/50 [1:36:35<01:08, 144.10s/it]"
     ]
    },
    {
     "name": "stdout",
     "output_type": "stream",
     "text": [
      "Train Epoch: 60 [2560/3918 (66%)]\tLoss: nan\n",
      "Mem before-during-after: 26915328 3980478464 26915328\n"
     ]
    },
    {
     "name": "stderr",
     "output_type": "stream",
     "text": [
      " 99%|████████████████████████████████▊| 49.659016393441114/50 [1:36:52<00:47, 140.30s/it]"
     ]
    },
    {
     "name": "stdout",
     "output_type": "stream",
     "text": [
      "Train Epoch: 60 [3200/3918 (82%)]\tLoss: nan\n",
      "Mem before-during-after: 26915328 3980699136 26915328\n"
     ]
    },
    {
     "name": "stderr",
     "output_type": "stream",
     "text": [
      "100%|█████████████████████████████████▊| 49.79016393442465/50 [1:37:08<00:26, 126.98s/it]"
     ]
    },
    {
     "name": "stdout",
     "output_type": "stream",
     "text": [
      "Train Epoch: 60 [3840/3918 (98%)]\tLoss: nan\n",
      "Mem before-during-after: 26915328 3981633024 26915328\n"
     ]
    },
    {
     "name": "stderr",
     "output_type": "stream",
     "text": [
      "100%|██████████████████████████████████▉| 49.9999999999983/50 [1:37:23<00:00, 116.86s/it]"
     ]
    },
    {
     "name": "stdout",
     "output_type": "stream",
     "text": [
      "\n",
      "Test Epoch: 60\tAccuracy: 254/976 (26%)\n",
      "\n"
     ]
    },
    {
     "name": "stderr",
     "output_type": "stream",
     "text": [
      "\n"
     ]
    }
   ],
   "source": [
    "n_epoch = 10\n",
    "n_epoch2 = 50\n",
    "best_accuracy = test_accuracy[-1]\n",
    "best_epoch = n_epoch\n",
    "model_path_prefix = '../models_cremad4/cremad_label4_m14sinc_best_'\n",
    "\n",
    "optimizer = optim.RAdam(model.parameters(), lr=0.00002)\n",
    "scheduler = optim.lr_scheduler.OneCycleLR(\n",
    "    optimizer, max_lr=0.01,\n",
    "    steps_per_epoch=len(train_loader), epochs=n_epoch2)\n",
    "log_interval = 40\n",
    "pbar_update = 1 / (len(train_loader) + len(test_loader))\n",
    "# model.to(device)\n",
    "with tqdm(total=n_epoch2) as pbar:\n",
    "    for epoch in range(1+n_epoch, n_epoch2 + n_epoch + 1):\n",
    "        train(model, epoch, log_interval, train_losses)\n",
    "        acc = test(model, epoch)\n",
    "        test_accuracy += [acc]\n",
    "        if acc > best_accuracy:\n",
    "            best_accuracy = acc\n",
    "            best_epoch = epoch\n",
    "            bmodel_path = f'{model_path_prefix}{epoch}epoch.pt'\n",
    "            torch.save(model.state_dict(), bmodel_path)\n",
    "            print(f'saved model: {bmodel_path}')\n",
    "        scheduler.step()"
   ]
  },
  {
   "cell_type": "code",
   "execution_count": 32,
   "id": "f49b40ce-bc85-4cf8-8107-030fe87276ef",
   "metadata": {},
   "outputs": [],
   "source": [
    "from torchmetrics.classification import (\n",
    "    MulticlassAccuracy, MulticlassPrecision, \n",
    "    MulticlassRecall, MulticlassF1Score, \n",
    "    MulticlassConfusionMatrix,\n",
    "    MulticlassAUROC\n",
    ")\n",
    "from torchmetrics import MetricCollection\n",
    "from pprint import pprint\n",
    "\n",
    "@torch.no_grad\n",
    "def report_metrics(model, labels=labels, \n",
    "                   test_loader=test_loader, device=device):\n",
    "    n = len(labels)\n",
    "    metrics = MetricCollection({\n",
    "        'acc_unweighted': MulticlassAccuracy(num_classes=n, average='macro'), \n",
    "        'acc_weighted': MulticlassAccuracy(num_classes=n, average='weighted'), \n",
    "        \n",
    "        'f1s_unweighted': MulticlassF1Score(num_classes=n, average='macro'),  \n",
    "        'f1s_weighted': MulticlassF1Score(num_classes=n, average='weighted'),  \n",
    "\n",
    "        'acc_weighted': MulticlassAccuracy(num_classes=n, average='weighted'), \n",
    "        'uar': MulticlassRecall(num_classes=n, average='macro'), \n",
    "        'wap': MulticlassPrecision(num_classes=n, average='weighted'),\n",
    "        'rocauc': MulticlassAUROC(num_classes=n, average='macro', thresholds=None),    \n",
    "        'f1s_detail': MulticlassF1Score(num_classes=n, average=None),  \n",
    "        'acc_detail': MulticlassAccuracy(num_classes=n, average=None), \n",
    "        'precision_detail': MulticlassPrecision(num_classes=n, average=None),\n",
    "        'recall_detail': MulticlassRecall(num_classes=n, average=None), \n",
    "        'rocauc_detail': MulticlassAUROC(num_classes=n, average=None, thresholds=None),\n",
    "    }).to(device)\n",
    "    confusion_matrix = MulticlassConfusionMatrix(num_classes=n).to(device)\n",
    "    model.eval()\n",
    "    correct = 0\n",
    "    total = 0\n",
    "    for data, target in test_loader:\n",
    "        total += len(target)\n",
    "        \n",
    "        data = data.to(device)\n",
    "        target = target.to(device)\n",
    "        output = model(data).squeeze()\n",
    "        del data\n",
    "        gc.collect()\n",
    "        torch.cuda.empty_cache()\n",
    "        probs = F.softmax(output, dim=-1)\n",
    "        pred = probs.argmax(dim=-1)\n",
    "        correct += pred.eq(target).sum().item()\n",
    "        \n",
    "        metrics.update(probs, target)\n",
    "        confusion_matrix.update(pred, target)\n",
    "        \n",
    "        del target\n",
    "        gc.collect()\n",
    "        torch.cuda.empty_cache()\n",
    "        pbar.update(pbar_update)\n",
    "    print(f'Correct: {correct}/{total} ({correct/total:.4f})')\n",
    "    return metrics, confusion_matrix"
   ]
  },
  {
   "cell_type": "code",
   "execution_count": 33,
   "id": "7908fb16-c7f7-41c3-bc27-8ca0ccf98a5e",
   "metadata": {},
   "outputs": [
    {
     "data": {
      "text/plain": [
       "[<matplotlib.lines.Line2D at 0x7f15ba4ab280>]"
      ]
     },
     "execution_count": 33,
     "metadata": {},
     "output_type": "execute_result"
    },
    {
     "data": {
      "image/png": "[encoded data removed]",
      "text/plain": [
       "<Figure size 640x480 with 1 Axes>"
      ]
     },
     "metadata": {},
     "output_type": "display_data"
    }
   ],
   "source": [
    "plt.plot(train_losses)"
   ]
  },
  {
   "cell_type": "code",
   "execution_count": 34,
   "id": "d6d1bbcd-ae40-4624-9f03-eafbb361ff86",
   "metadata": {},
   "outputs": [
    {
     "data": {
      "text/plain": [
       "[<matplotlib.lines.Line2D at 0x7f15ba1616a0>]"
      ]
     },
     "execution_count": 34,
     "metadata": {},
     "output_type": "execute_result"
    },
    {
     "data": {
      "image/png": "[encoded data removed]",
      "text/plain": [
       "<Figure size 640x480 with 1 Axes>"
      ]
     },
     "metadata": {},
     "output_type": "display_data"
    }
   ],
   "source": [
    "plt.plot(test_accuracy)"
   ]
  },
  {
   "cell_type": "code",
   "execution_count": 35,
   "id": "bde77f7a-2403-4cdf-8a17-b417fbaf44b9",
   "metadata": {},
   "outputs": [
    {
     "name": "stdout",
     "output_type": "stream",
     "text": [
      "Correct: 254/976 (0.2602)\n",
      "{'acc_detail': tensor([1., 0., 0., 0.], device='cuda:0'),\n",
      " 'acc_unweighted': tensor(0.2500, device='cuda:0'),\n",
      " 'acc_weighted': tensor(0.2602, device='cuda:0'),\n",
      " 'f1s_detail': tensor([0.4130, 0.0000, 0.0000, 0.0000], device='cuda:0'),\n",
      " 'f1s_unweighted': tensor(0.1033, device='cuda:0'),\n",
      " 'f1s_weighted': tensor(0.1075, device='cuda:0'),\n",
      " 'precision_detail': tensor([0.2602, 0.0000, 0.0000, 0.0000], device='cuda:0'),\n",
      " 'recall_detail': tensor([1., 0., 0., 0.], device='cuda:0'),\n",
      " 'rocauc': tensor(0.5002, device='cuda:0'),\n",
      " 'rocauc_detail': tensor([0.4833, 0.5064, 0.4711, 0.5401], device='cuda:0'),\n",
      " 'uar': tensor(0.2500, device='cuda:0'),\n",
      " 'wap': tensor(0.0677, device='cuda:0')}\n"
     ]
    },
    {
     "data": {
      "text/plain": [
       "tensor([[254,   0,   0,   0],\n",
       "        [216,   0,   0,   0],\n",
       "        [254,   0,   0,   0],\n",
       "        [252,   0,   0,   0]], device='cuda:0')"
      ]
     },
     "execution_count": 35,
     "metadata": {},
     "output_type": "execute_result"
    }
   ],
   "source": [
    "metrics2, confusion_matrix2 = report_metrics(\n",
    "    model, labels=labels, device=device)\n",
    "pprint(metrics2.compute())\n",
    "confusion_matrix2.compute()"
   ]
  },
  {
   "cell_type": "code",
   "execution_count": 36,
   "id": "7ec16dea-9d97-4ba8-8f1a-1a32d5a4cd80",
   "metadata": {},
   "outputs": [
    {
     "name": "stdout",
     "output_type": "stream",
     "text": [
      "../models_cremad4/cremad_label4_m14sinc_best_17epoch.pt\n",
      "Correct: 487/976 (0.4990)\n",
      "{'acc_detail': tensor([0.7520, 0.0000, 0.9528, 0.2143], device='cuda:0'),\n",
      " 'acc_unweighted': tensor(0.4798, device='cuda:0'),\n",
      " 'acc_weighted': tensor(0.4990, device='cuda:0'),\n",
      " 'f1s_detail': tensor([0.7290, 0.0000, 0.5741, 0.2927], device='cuda:0'),\n",
      " 'f1s_unweighted': tensor(0.3990, device='cuda:0'),\n",
      " 'f1s_weighted': tensor(0.4147, device='cuda:0'),\n",
      " 'precision_detail': tensor([0.7074, 0.0000, 0.4109, 0.4615], device='cuda:0'),\n",
      " 'recall_detail': tensor([0.7520, 0.0000, 0.9528, 0.2143], device='cuda:0'),\n",
      " 'rocauc': tensor(0.8145, device='cuda:0'),\n",
      " 'rocauc_detail': tensor([0.9061, 0.7554, 0.8816, 0.7149], device='cuda:0'),\n",
      " 'uar': tensor(0.4798, device='cuda:0'),\n",
      " 'wap': tensor(0.4102, device='cuda:0')}\n"
     ]
    },
    {
     "data": {
      "text/plain": [
       "tensor([[191,   0,  35,  28],\n",
       "        [  2,   0, 186,  28],\n",
       "        [  5,   0, 242,   7],\n",
       "        [ 72,   0, 126,  54]], device='cuda:0')"
      ]
     },
     "execution_count": 36,
     "metadata": {},
     "output_type": "execute_result"
    }
   ],
   "source": [
    "model.to('cpu')\n",
    "best_model_path = f'{model_path_prefix}{best_epoch}epoch.pt'\n",
    "print(best_model_path)\n",
    "best_model = M13(config=model_config,\n",
    "           n_input=1, n_output=len(labels))\n",
    "best_model.load_state_dict(torch.load(best_model_path))\n",
    "best_model.to(device)\n",
    "\n",
    "metrics_best, confusion_matrix_best = report_metrics(\n",
    "    best_model, labels=labels, device=device)\n",
    "best_model.to('cpu')\n",
    "pprint(metrics_best.compute())\n",
    "confusion_matrix_best.compute()"
   ]
  },
  {
   "cell_type": "code",
   "execution_count": 37,
   "id": "aca219bb-30e2-49a2-8f73-d01c60b1e756",
   "metadata": {},
   "outputs": [],
   "source": [
    "checkpoint_path = f'../models_cremad4/cremad4_m14sinc_{epoch}epoch.ckpt'\n",
    "torch.save({\n",
    "    'epoch': epoch,\n",
    "    'model_state_dict': model.state_dict(),\n",
    "    'optimizer_state_dict': optimizer.state_dict(),\n",
    "    'loss': train_losses[-1],\n",
    "    'best_epoch': best_epoch,\n",
    "    'best_accuracy': best_accuracy,\n",
    "    'train_losses': train_losses,\n",
    "    'test_accuracy': test_accuracy,\n",
    "    'log_interval': log_interval,\n",
    "    }, checkpoint_path)"
   ]
  },
  {
   "cell_type": "code",
   "execution_count": 38,
   "id": "b9732a5e-fed3-43fc-8bb6-8d09ce34e8b6",
   "metadata": {
    "scrolled": true
   },
   "outputs": [
    {
     "name": "stderr",
     "output_type": "stream",
     "text": [
      "  0%|                               | 0.003278688524590164/40 [00:00<1:22:54, 124.37s/it]"
     ]
    },
    {
     "name": "stdout",
     "output_type": "stream",
     "text": [
      "Train Epoch: 61 [0/3918 (0%)]\tLoss: nan\n",
      "Mem before-during-after: 27369472 3978712064 30543872\n"
     ]
    },
    {
     "name": "stderr",
     "output_type": "stream",
     "text": [
      "  0%|                                | 0.13442622950819672/40 [00:15<1:23:27, 125.62s/it]"
     ]
    },
    {
     "name": "stdout",
     "output_type": "stream",
     "text": [
      "Train Epoch: 61 [640/3918 (16%)]\tLoss: nan\n",
      "Mem before-during-after: 30543872 3856113664 30977024\n"
     ]
    },
    {
     "name": "stderr",
     "output_type": "stream",
     "text": [
      "  1%|▏                               | 0.26557377049180286/40 [00:32<1:34:34, 142.80s/it]"
     ]
    },
    {
     "name": "stdout",
     "output_type": "stream",
     "text": [
      "Train Epoch: 61 [1280/3918 (33%)]\tLoss: nan\n",
      "Mem before-during-after: 30543872 3984652288 31425536\n"
     ]
    },
    {
     "name": "stderr",
     "output_type": "stream",
     "text": [
      "  1%|▎                                  | 0.39672131147541/40 [00:51<1:34:10, 142.67s/it]"
     ]
    },
    {
     "name": "stdout",
     "output_type": "stream",
     "text": [
      "Train Epoch: 61 [1920/3918 (49%)]\tLoss: nan\n",
      "Mem before-during-after: 30543872 3984652288 31425536\n"
     ]
    },
    {
     "name": "stderr",
     "output_type": "stream",
     "text": [
      "  1%|▍                                | 0.5278688524590167/40 [01:09<1:16:44, 116.64s/it]"
     ]
    },
    {
     "name": "stdout",
     "output_type": "stream",
     "text": [
      "Train Epoch: 61 [2560/3918 (66%)]\tLoss: nan\n",
      "Mem before-during-after: 31425536 3983446016 30543872\n"
     ]
    },
    {
     "name": "stderr",
     "output_type": "stream",
     "text": [
      "  2%|▌                                | 0.6590163934426216/40 [01:25<1:19:20, 121.00s/it]"
     ]
    },
    {
     "name": "stdout",
     "output_type": "stream",
     "text": [
      "Train Epoch: 61 [3200/3918 (82%)]\tLoss: nan\n",
      "Mem before-during-after: 30543872 3983811584 30543872\n"
     ]
    },
    {
     "name": "stderr",
     "output_type": "stream",
     "text": [
      "  2%|▋                                | 0.7901639344262266/40 [01:43<1:34:30, 144.61s/it]"
     ]
    },
    {
     "name": "stdout",
     "output_type": "stream",
     "text": [
      "Train Epoch: 61 [3840/3918 (98%)]\tLoss: nan\n",
      "Mem before-during-after: 30543872 3981636608 30598656\n"
     ]
    },
    {
     "name": "stderr",
     "output_type": "stream",
     "text": [
      "  2%|▉                                   | 0.9999999999999944/40 [01:58<43:37, 67.12s/it]"
     ]
    },
    {
     "name": "stdout",
     "output_type": "stream",
     "text": [
      "\n",
      "Test Epoch: 61\tAccuracy: 254/976 (26%)\n",
      "\n"
     ]
    },
    {
     "name": "stderr",
     "output_type": "stream",
     "text": [
      "  3%|▉                                   | 1.0032786885245846/40 [01:58<54:42, 84.16s/it]"
     ]
    },
    {
     "name": "stdout",
     "output_type": "stream",
     "text": [
      "Train Epoch: 62 [0/3918 (0%)]\tLoss: nan\n",
      "Mem before-during-after: 30542848 3981884928 30543872\n"
     ]
    },
    {
     "name": "stderr",
     "output_type": "stream",
     "text": [
      "  3%|▉                                | 1.1344262295081895/40 [02:17<1:38:46, 152.49s/it]"
     ]
    },
    {
     "name": "stdout",
     "output_type": "stream",
     "text": [
      "Train Epoch: 62 [640/3918 (16%)]\tLoss: nan\n",
      "Mem before-during-after: 30543872 3981157376 30543872\n"
     ]
    },
    {
     "name": "stderr",
     "output_type": "stream",
     "text": [
      "  3%|█                                | 1.2655737704917944/40 [02:33<1:15:14, 116.55s/it]"
     ]
    },
    {
     "name": "stdout",
     "output_type": "stream",
     "text": [
      "Train Epoch: 62 [1280/3918 (33%)]\tLoss: nan\n",
      "Mem before-during-after: 30543872 3983811584 30543872\n"
     ]
    },
    {
     "name": "stderr",
     "output_type": "stream",
     "text": [
      "  3%|█▏                               | 1.3967213114753994/40 [02:50<1:15:24, 117.20s/it]"
     ]
    },
    {
     "name": "stdout",
     "output_type": "stream",
     "text": [
      "Train Epoch: 62 [1920/3918 (49%)]\tLoss: nan\n",
      "Mem before-during-after: 30543872 3983811584 30543872\n"
     ]
    },
    {
     "name": "stderr",
     "output_type": "stream",
     "text": [
      "  4%|█▎                               | 1.5278688524590043/40 [03:08<1:21:25, 127.00s/it]"
     ]
    },
    {
     "name": "stdout",
     "output_type": "stream",
     "text": [
      "Train Epoch: 62 [2560/3918 (66%)]\tLoss: nan\n",
      "Mem before-during-after: 30598656 3983553536 30543872\n"
     ]
    },
    {
     "name": "stderr",
     "output_type": "stream",
     "text": [
      "  4%|█▎                               | 1.6590163934426092/40 [03:26<1:31:24, 143.04s/it]"
     ]
    },
    {
     "name": "stdout",
     "output_type": "stream",
     "text": [
      "Train Epoch: 62 [3200/3918 (82%)]\tLoss: nan\n",
      "Mem before-during-after: 30543872 3984327680 30543872\n"
     ]
    },
    {
     "name": "stderr",
     "output_type": "stream",
     "text": [
      "  4%|█▍                               | 1.7901639344262141/40 [03:43<1:18:57, 123.99s/it]"
     ]
    },
    {
     "name": "stdout",
     "output_type": "stream",
     "text": [
      "Train Epoch: 62 [3840/3918 (98%)]\tLoss: nan\n",
      "Mem before-during-after: 31425536 3985209344 31425536\n"
     ]
    },
    {
     "name": "stderr",
     "output_type": "stream",
     "text": [
      "  5%|█▊                                   | 1.999999999999982/40 [03:58<42:46, 67.55s/it]"
     ]
    },
    {
     "name": "stdout",
     "output_type": "stream",
     "text": [
      "\n",
      "Test Epoch: 62\tAccuracy: 254/976 (26%)\n",
      "\n"
     ]
    },
    {
     "name": "stderr",
     "output_type": "stream",
     "text": [
      "  5%|█▊                                  | 2.0032786885245724/40 [03:59<52:58, 83.64s/it]"
     ]
    },
    {
     "name": "stdout",
     "output_type": "stream",
     "text": [
      "Train Epoch: 63 [0/3918 (0%)]\tLoss: nan\n",
      "Mem before-during-after: 30542848 3981947392 30543872\n"
     ]
    },
    {
     "name": "stderr",
     "output_type": "stream",
     "text": [
      "  5%|█▊                               | 2.1344262295081773/40 [04:16<1:29:38, 142.03s/it]"
     ]
    },
    {
     "name": "stdout",
     "output_type": "stream",
     "text": [
      "Train Epoch: 63 [640/3918 (16%)]\tLoss: nan\n",
      "Mem before-during-after: 30543872 3926507008 30543872\n"
     ]
    },
    {
     "name": "stderr",
     "output_type": "stream",
     "text": [
      "  6%|█▉                                | 2.265573770491782/40 [04:32<1:24:17, 134.02s/it]"
     ]
    },
    {
     "name": "stdout",
     "output_type": "stream",
     "text": [
      "Train Epoch: 63 [1280/3918 (33%)]\tLoss: nan\n",
      "Mem before-during-after: 30543872 3982867968 30543872\n"
     ]
    },
    {
     "name": "stderr",
     "output_type": "stream",
     "text": [
      "  6%|██                                | 2.396721311475387/40 [04:50<1:30:21, 144.17s/it]"
     ]
    },
    {
     "name": "stdout",
     "output_type": "stream",
     "text": [
      "Train Epoch: 63 [1920/3918 (49%)]\tLoss: nan\n",
      "Mem before-during-after: 31425536 3986749440 31425536\n"
     ]
    },
    {
     "name": "stderr",
     "output_type": "stream",
     "text": [
      "  6%|██▏                               | 2.527868852458992/40 [05:08<1:29:27, 143.25s/it]"
     ]
    },
    {
     "name": "stdout",
     "output_type": "stream",
     "text": [
      "Train Epoch: 63 [2560/3918 (66%)]\tLoss: nan\n",
      "Mem before-during-after: 31425536 3984327680 30543872\n"
     ]
    },
    {
     "name": "stderr",
     "output_type": "stream",
     "text": [
      "  7%|██▎                               | 2.659016393442597/40 [05:26<1:28:57, 142.94s/it]"
     ]
    },
    {
     "name": "stdout",
     "output_type": "stream",
     "text": [
      "Train Epoch: 63 [3200/3918 (82%)]\tLoss: nan\n",
      "Mem before-during-after: 31425536 3984652288 31425536\n"
     ]
    },
    {
     "name": "stderr",
     "output_type": "stream",
     "text": [
      "  7%|██▎                               | 2.790163934426202/40 [05:44<1:29:10, 143.80s/it]"
     ]
    },
    {
     "name": "stdout",
     "output_type": "stream",
     "text": [
      "Train Epoch: 63 [3840/3918 (98%)]\tLoss: nan\n",
      "Mem before-during-after: 30543872 3984327680 30543872\n"
     ]
    },
    {
     "name": "stderr",
     "output_type": "stream",
     "text": [
      "  7%|██▊                                   | 2.99999999999997/40 [05:59<40:59, 66.46s/it]"
     ]
    },
    {
     "name": "stdout",
     "output_type": "stream",
     "text": [
      "\n",
      "Test Epoch: 63\tAccuracy: 254/976 (26%)\n",
      "\n"
     ]
    },
    {
     "name": "stderr",
     "output_type": "stream",
     "text": [
      "  8%|██▊                                   | 3.00327868852456/40 [06:00<50:41, 82.20s/it]"
     ]
    },
    {
     "name": "stdout",
     "output_type": "stream",
     "text": [
      "Train Epoch: 64 [0/3918 (0%)]\tLoss: nan\n",
      "Mem before-during-after: 30542848 3981884928 30543872\n"
     ]
    },
    {
     "name": "stderr",
     "output_type": "stream",
     "text": [
      "  8%|██▋                               | 3.134426229508165/40 [06:18<1:27:24, 142.26s/it]"
     ]
    },
    {
     "name": "stdout",
     "output_type": "stream",
     "text": [
      "Train Epoch: 64 [640/3918 (16%)]\tLoss: nan\n",
      "Mem before-during-after: 30543872 3984003072 30543872\n"
     ]
    },
    {
     "name": "stderr",
     "output_type": "stream",
     "text": [
      "  8%|██▊                                | 3.26557377049177/40 [06:36<1:27:08, 142.32s/it]"
     ]
    },
    {
     "name": "stdout",
     "output_type": "stream",
     "text": [
      "Train Epoch: 64 [1280/3918 (33%)]\tLoss: nan\n",
      "Mem before-during-after: 30543872 3984327680 30543872\n"
     ]
    },
    {
     "name": "stderr",
     "output_type": "stream",
     "text": [
      "  8%|██▊                              | 3.3967213114753747/40 [06:53<1:10:37, 115.76s/it]"
     ]
    },
    {
     "name": "stdout",
     "output_type": "stream",
     "text": [
      "Train Epoch: 64 [1920/3918 (49%)]\tLoss: nan\n",
      "Mem before-during-after: 30543872 3983812096 30544384\n"
     ]
    },
    {
     "name": "stderr",
     "output_type": "stream",
     "text": [
      "  9%|██▉                              | 3.5278688524589796/40 [07:10<1:11:17, 117.29s/it]"
     ]
    },
    {
     "name": "stdout",
     "output_type": "stream",
     "text": [
      "Train Epoch: 64 [2560/3918 (66%)]\tLoss: nan\n",
      "Mem before-during-after: 30543872 3984327680 30543872\n"
     ]
    },
    {
     "name": "stderr",
     "output_type": "stream",
     "text": [
      "  9%|███                              | 3.6590163934425846/40 [07:26<1:19:11, 130.76s/it]"
     ]
    },
    {
     "name": "stdout",
     "output_type": "stream",
     "text": [
      "Train Epoch: 64 [3200/3918 (82%)]\tLoss: nan\n",
      "Mem before-during-after: 30543872 3984652288 31425536\n"
     ]
    },
    {
     "name": "stderr",
     "output_type": "stream",
     "text": [
      "  9%|███▏                             | 3.7901639344261895/40 [07:44<1:26:55, 144.02s/it]"
     ]
    },
    {
     "name": "stdout",
     "output_type": "stream",
     "text": [
      "Train Epoch: 64 [3840/3918 (98%)]\tLoss: nan\n",
      "Mem before-during-after: 30543872 3984327680 30543872\n"
     ]
    },
    {
     "name": "stderr",
     "output_type": "stream",
     "text": [
      " 10%|███▌                                | 3.9999999999999574/40 [07:59<40:18, 67.19s/it]"
     ]
    },
    {
     "name": "stdout",
     "output_type": "stream",
     "text": [
      "\n",
      "Test Epoch: 64\tAccuracy: 254/976 (26%)\n",
      "\n"
     ]
    },
    {
     "name": "stderr",
     "output_type": "stream",
     "text": [
      " 10%|███▌                                | 4.0032786885245475/40 [07:59<49:44, 82.90s/it]"
     ]
    },
    {
     "name": "stdout",
     "output_type": "stream",
     "text": [
      "Train Epoch: 65 [0/3918 (0%)]\tLoss: nan\n",
      "Mem before-during-after: 30542848 3981947392 30543872\n"
     ]
    },
    {
     "name": "stderr",
     "output_type": "stream",
     "text": [
      " 10%|███▌                              | 4.134426229508152/40 [08:17<1:25:18, 142.73s/it]"
     ]
    },
    {
     "name": "stdout",
     "output_type": "stream",
     "text": [
      "Train Epoch: 65 [640/3918 (16%)]\tLoss: nan\n",
      "Mem before-during-after: 30543872 3984003072 30543872\n"
     ]
    },
    {
     "name": "stderr",
     "output_type": "stream",
     "text": [
      " 11%|███▋                              | 4.265573770491757/40 [08:36<1:26:38, 145.47s/it]"
     ]
    },
    {
     "name": "stdout",
     "output_type": "stream",
     "text": [
      "Train Epoch: 65 [1280/3918 (33%)]\tLoss: nan\n",
      "Mem before-during-after: 31425536 3984652288 31425536\n"
     ]
    },
    {
     "name": "stderr",
     "output_type": "stream",
     "text": [
      " 11%|███▋                              | 4.396721311475362/40 [08:53<1:19:53, 134.64s/it]"
     ]
    },
    {
     "name": "stdout",
     "output_type": "stream",
     "text": [
      "Train Epoch: 65 [1920/3918 (49%)]\tLoss: nan\n",
      "Mem before-during-after: 30543872 3985209344 31425536\n"
     ]
    },
    {
     "name": "stderr",
     "output_type": "stream",
     "text": [
      " 11%|███▊                              | 4.527868852458967/40 [09:09<1:21:36, 138.05s/it]"
     ]
    },
    {
     "name": "stdout",
     "output_type": "stream",
     "text": [
      "Train Epoch: 65 [2560/3918 (66%)]\tLoss: nan\n",
      "Mem before-during-after: 30543872 3984560128 30543872\n"
     ]
    },
    {
     "name": "stderr",
     "output_type": "stream",
     "text": [
      " 12%|███▉                              | 4.659016393442572/40 [09:26<1:21:33, 138.47s/it]"
     ]
    },
    {
     "name": "stdout",
     "output_type": "stream",
     "text": [
      "Train Epoch: 65 [3200/3918 (82%)]\tLoss: nan\n",
      "Mem before-during-after: 31425536 3651533312 30543872\n"
     ]
    },
    {
     "name": "stderr",
     "output_type": "stream",
     "text": [
      " 12%|████                              | 4.790163934426177/40 [09:43<1:25:46, 146.16s/it]"
     ]
    },
    {
     "name": "stdout",
     "output_type": "stream",
     "text": [
      "Train Epoch: 65 [3840/3918 (98%)]\tLoss: nan\n",
      "Mem before-during-after: 30543872 3982867968 30543872\n"
     ]
    },
    {
     "name": "stderr",
     "output_type": "stream",
     "text": [
      " 12%|████▌                                | 4.999999999999945/40 [09:58<39:07, 67.07s/it]"
     ]
    },
    {
     "name": "stdout",
     "output_type": "stream",
     "text": [
      "\n",
      "Test Epoch: 65\tAccuracy: 254/976 (26%)\n",
      "\n"
     ]
    },
    {
     "name": "stderr",
     "output_type": "stream",
     "text": [
      " 13%|████▋                                | 5.003278688524535/40 [09:58<48:39, 83.41s/it]"
     ]
    },
    {
     "name": "stdout",
     "output_type": "stream",
     "text": [
      "Train Epoch: 66 [0/3918 (0%)]\tLoss: nan\n",
      "Mem before-during-after: 30542848 3981884928 30543872\n"
     ]
    },
    {
     "name": "stderr",
     "output_type": "stream",
     "text": [
      " 13%|████▍                              | 5.13442622950814/40 [10:16<1:23:34, 143.83s/it]"
     ]
    },
    {
     "name": "stdout",
     "output_type": "stream",
     "text": [
      "Train Epoch: 66 [640/3918 (16%)]\tLoss: nan\n",
      "Mem before-during-after: 30543872 3986100224 30543872\n"
     ]
    },
    {
     "name": "stderr",
     "output_type": "stream",
     "text": [
      " 13%|████▍                             | 5.265573770491745/40 [10:35<1:11:47, 124.00s/it]"
     ]
    },
    {
     "name": "stdout",
     "output_type": "stream",
     "text": [
      "Train Epoch: 66 [1280/3918 (33%)]\tLoss: nan\n",
      "Mem before-during-after: 30543872 3983811584 30543872\n"
     ]
    },
    {
     "name": "stderr",
     "output_type": "stream",
     "text": [
      " 13%|████▋                              | 5.39672131147535/40 [10:52<1:23:19, 144.49s/it]"
     ]
    },
    {
     "name": "stdout",
     "output_type": "stream",
     "text": [
      "Train Epoch: 66 [1920/3918 (49%)]\tLoss: nan\n",
      "Mem before-during-after: 30543872 3775483904 30543872\n"
     ]
    },
    {
     "name": "stderr",
     "output_type": "stream",
     "text": [
      " 14%|████▋                             | 5.527868852458955/40 [11:10<1:23:53, 146.03s/it]"
     ]
    },
    {
     "name": "stdout",
     "output_type": "stream",
     "text": [
      "Train Epoch: 66 [2560/3918 (66%)]\tLoss: nan\n",
      "Mem before-during-after: 30543872 3981780992 30543872\n"
     ]
    },
    {
     "name": "stderr",
     "output_type": "stream",
     "text": [
      " 14%|████▉                              | 5.65901639344256/40 [11:29<1:23:37, 146.11s/it]"
     ]
    },
    {
     "name": "stdout",
     "output_type": "stream",
     "text": [
      "Train Epoch: 66 [3200/3918 (82%)]\tLoss: nan\n",
      "Mem before-during-after: 30543872 3981894144 30543872\n"
     ]
    },
    {
     "name": "stderr",
     "output_type": "stream",
     "text": [
      " 14%|████▉                             | 5.790163934426165/40 [11:47<1:31:14, 160.02s/it]"
     ]
    },
    {
     "name": "stdout",
     "output_type": "stream",
     "text": [
      "Train Epoch: 66 [3840/3918 (98%)]\tLoss: nan\n",
      "Mem before-during-after: 30598656 3981456384 30543872\n"
     ]
    },
    {
     "name": "stderr",
     "output_type": "stream",
     "text": [
      " 15%|█████▍                              | 5.9999999999999325/40 [12:02<38:04, 67.18s/it]"
     ]
    },
    {
     "name": "stdout",
     "output_type": "stream",
     "text": [
      "\n",
      "Test Epoch: 66\tAccuracy: 254/976 (26%)\n",
      "\n"
     ]
    },
    {
     "name": "stderr",
     "output_type": "stream",
     "text": [
      " 15%|█████▌                               | 6.003278688524523/40 [12:02<46:36, 82.24s/it]"
     ]
    },
    {
     "name": "stdout",
     "output_type": "stream",
     "text": [
      "Train Epoch: 67 [0/3918 (0%)]\tLoss: nan\n",
      "Mem before-during-after: 30542848 3981947904 30544384\n"
     ]
    },
    {
     "name": "stderr",
     "output_type": "stream",
     "text": [
      " 15%|█████                            | 6.1344262295081275/40 [12:19<1:19:23, 140.66s/it]"
     ]
    },
    {
     "name": "stdout",
     "output_type": "stream",
     "text": [
      "Train Epoch: 67 [640/3918 (16%)]\tLoss: nan\n",
      "Mem before-during-after: 30543872 3652176896 30543872\n"
     ]
    },
    {
     "name": "stderr",
     "output_type": "stream",
     "text": [
      " 16%|█████▏                           | 6.2655737704917325/40 [12:36<1:19:44, 141.84s/it]"
     ]
    },
    {
     "name": "stdout",
     "output_type": "stream",
     "text": [
      "Train Epoch: 67 [1280/3918 (33%)]\tLoss: nan\n",
      "Mem before-during-after: 30543872 3984003072 30543872\n"
     ]
    },
    {
     "name": "stderr",
     "output_type": "stream",
     "text": [
      " 16%|█████▍                            | 6.396721311475337/40 [12:54<1:20:07, 143.08s/it]"
     ]
    },
    {
     "name": "stdout",
     "output_type": "stream",
     "text": [
      "Train Epoch: 67 [1920/3918 (49%)]\tLoss: nan\n",
      "Mem before-during-after: 30543872 3986424832 30543872\n"
     ]
    },
    {
     "name": "stderr",
     "output_type": "stream",
     "text": [
      " 16%|█████▌                            | 6.527868852458942/40 [13:11<1:04:50, 116.22s/it]"
     ]
    },
    {
     "name": "stdout",
     "output_type": "stream",
     "text": [
      "Train Epoch: 67 [2560/3918 (66%)]\tLoss: nan\n",
      "Mem before-during-after: 30543872 3983616000 30543872\n"
     ]
    },
    {
     "name": "stderr",
     "output_type": "stream",
     "text": [
      " 17%|█████▋                            | 6.659016393442547/40 [13:28<1:18:43, 141.67s/it]"
     ]
    },
    {
     "name": "stdout",
     "output_type": "stream",
     "text": [
      "Train Epoch: 67 [3200/3918 (82%)]\tLoss: nan\n",
      "Mem before-during-after: 31425536 3984652288 31425536\n"
     ]
    },
    {
     "name": "stderr",
     "output_type": "stream",
     "text": [
      " 17%|█████▊                            | 6.790163934426152/40 [13:45<1:18:13, 141.33s/it]"
     ]
    },
    {
     "name": "stdout",
     "output_type": "stream",
     "text": [
      "Train Epoch: 67 [3840/3918 (98%)]\tLoss: nan\n",
      "Mem before-during-after: 31425536 3984327680 30543872\n"
     ]
    },
    {
     "name": "stderr",
     "output_type": "stream",
     "text": [
      " 17%|██████▋                               | 6.99999999999992/40 [13:59<35:53, 65.26s/it]"
     ]
    },
    {
     "name": "stdout",
     "output_type": "stream",
     "text": [
      "\n",
      "Test Epoch: 67\tAccuracy: 254/976 (26%)\n",
      "\n"
     ]
    },
    {
     "name": "stderr",
     "output_type": "stream",
     "text": [
      " 18%|██████▋                               | 7.00327868852451/40 [14:00<44:53, 81.63s/it]"
     ]
    },
    {
     "name": "stdout",
     "output_type": "stream",
     "text": [
      "Train Epoch: 68 [0/3918 (0%)]\tLoss: nan\n",
      "Mem before-during-after: 30542848 3981884928 30543872\n"
     ]
    },
    {
     "name": "stderr",
     "output_type": "stream",
     "text": [
      " 18%|██████                            | 7.134426229508115/40 [14:17<1:03:31, 115.98s/it]"
     ]
    },
    {
     "name": "stdout",
     "output_type": "stream",
     "text": [
      "Train Epoch: 68 [640/3918 (16%)]\tLoss: nan\n",
      "Mem before-during-after: 30543872 3983812096 30544384\n"
     ]
    },
    {
     "name": "stderr",
     "output_type": "stream",
     "text": [
      " 18%|██████▎                            | 7.26557377049172/40 [14:32<1:16:05, 139.47s/it]"
     ]
    },
    {
     "name": "stdout",
     "output_type": "stream",
     "text": [
      "Train Epoch: 68 [1280/3918 (33%)]\tLoss: nan\n",
      "Mem before-during-after: 30543872 3986100224 30543872\n"
     ]
    },
    {
     "name": "stderr",
     "output_type": "stream",
     "text": [
      " 18%|██████▎                           | 7.396721311475325/40 [14:51<1:17:54, 143.37s/it]"
     ]
    },
    {
     "name": "stdout",
     "output_type": "stream",
     "text": [
      "Train Epoch: 68 [1920/3918 (49%)]\tLoss: nan\n",
      "Mem before-during-after: 30543872 3985209344 31425536\n"
     ]
    },
    {
     "name": "stderr",
     "output_type": "stream",
     "text": [
      " 19%|██████▌                            | 7.52786885245893/40 [15:08<1:16:41, 141.71s/it]"
     ]
    },
    {
     "name": "stdout",
     "output_type": "stream",
     "text": [
      "Train Epoch: 68 [2560/3918 (66%)]\tLoss: nan\n",
      "Mem before-during-after: 30543872 3816872448 30543872\n"
     ]
    },
    {
     "name": "stderr",
     "output_type": "stream",
     "text": [
      " 19%|██████▌                           | 7.659016393442535/40 [15:26<1:18:00, 144.73s/it]"
     ]
    },
    {
     "name": "stdout",
     "output_type": "stream",
     "text": [
      "Train Epoch: 68 [3200/3918 (82%)]\tLoss: nan\n",
      "Mem before-during-after: 31186432 3982743040 30543872\n"
     ]
    },
    {
     "name": "stderr",
     "output_type": "stream",
     "text": [
      " 19%|██████▊                            | 7.79016393442614/40 [15:44<1:16:12, 141.95s/it]"
     ]
    },
    {
     "name": "stdout",
     "output_type": "stream",
     "text": [
      "Train Epoch: 68 [3840/3918 (98%)]\tLoss: nan\n",
      "Mem before-during-after: 31425536 3985867776 30543872\n"
     ]
    },
    {
     "name": "stderr",
     "output_type": "stream",
     "text": [
      " 20%|███████▍                             | 7.999999999999908/40 [15:59<35:27, 66.48s/it]"
     ]
    },
    {
     "name": "stdout",
     "output_type": "stream",
     "text": [
      "\n",
      "Test Epoch: 68\tAccuracy: 254/976 (26%)\n",
      "\n"
     ]
    },
    {
     "name": "stderr",
     "output_type": "stream",
     "text": [
      " 20%|███████▍                             | 8.003278688524498/40 [15:59<43:51, 82.24s/it]"
     ]
    },
    {
     "name": "stdout",
     "output_type": "stream",
     "text": [
      "Train Epoch: 69 [0/3918 (0%)]\tLoss: nan\n",
      "Mem before-during-after: 30542848 3981884928 30543872\n"
     ]
    },
    {
     "name": "stderr",
     "output_type": "stream",
     "text": [
      " 20%|██████▉                           | 8.134426229508103/40 [16:17<1:16:22, 143.80s/it]"
     ]
    },
    {
     "name": "stdout",
     "output_type": "stream",
     "text": [
      "Train Epoch: 69 [640/3918 (16%)]\tLoss: nan\n",
      "Mem before-during-after: 31425536 3984652288 31425536\n"
     ]
    },
    {
     "name": "stderr",
     "output_type": "stream",
     "text": [
      " 21%|███████                           | 8.265573770491708/40 [16:34<1:14:16, 140.42s/it]"
     ]
    },
    {
     "name": "stdout",
     "output_type": "stream",
     "text": [
      "Train Epoch: 69 [1280/3918 (33%)]\tLoss: nan\n",
      "Mem before-during-after: 30543872 3986100224 30543872\n"
     ]
    },
    {
     "name": "stderr",
     "output_type": "stream",
     "text": [
      " 21%|███████▏                          | 8.396721311475313/40 [16:51<1:14:40, 141.77s/it]"
     ]
    },
    {
     "name": "stdout",
     "output_type": "stream",
     "text": [
      "Train Epoch: 69 [1920/3918 (49%)]\tLoss: nan\n",
      "Mem before-during-after: 30543872 3986981888 30543872\n"
     ]
    },
    {
     "name": "stderr",
     "output_type": "stream",
     "text": [
      " 21%|███████▏                          | 8.527868852458917/40 [17:10<1:18:37, 149.90s/it]"
     ]
    },
    {
     "name": "stdout",
     "output_type": "stream",
     "text": [
      "Train Epoch: 69 [2560/3918 (66%)]\tLoss: nan\n",
      "Mem before-during-after: 30543872 3601572864 30543872\n"
     ]
    },
    {
     "name": "stderr",
     "output_type": "stream",
     "text": [
      " 22%|███████▎                          | 8.659016393442522/40 [17:28<1:15:09, 143.88s/it]"
     ]
    },
    {
     "name": "stdout",
     "output_type": "stream",
     "text": [
      "Train Epoch: 69 [3200/3918 (82%)]\tLoss: nan\n",
      "Mem before-during-after: 30543872 3984327680 30543872\n"
     ]
    },
    {
     "name": "stderr",
     "output_type": "stream",
     "text": [
      " 22%|███████▉                            | 8.790163934426127/40 [17:44<58:20, 112.16s/it]"
     ]
    },
    {
     "name": "stdout",
     "output_type": "stream",
     "text": [
      "Train Epoch: 69 [3840/3918 (98%)]\tLoss: nan\n",
      "Mem before-during-after: 30543872 3926265344 30543872\n"
     ]
    },
    {
     "name": "stderr",
     "output_type": "stream",
     "text": [
      " 22%|████████▎                            | 8.999999999999895/40 [17:59<34:14, 66.29s/it]"
     ]
    },
    {
     "name": "stdout",
     "output_type": "stream",
     "text": [
      "\n",
      "Test Epoch: 69\tAccuracy: 254/976 (26%)\n",
      "\n"
     ]
    },
    {
     "name": "stderr",
     "output_type": "stream",
     "text": [
      " 23%|████████▎                            | 9.003278688524485/40 [17:59<42:35, 82.44s/it]"
     ]
    },
    {
     "name": "stdout",
     "output_type": "stream",
     "text": [
      "Train Epoch: 70 [0/3918 (0%)]\tLoss: nan\n",
      "Mem before-during-after: 30542848 3981885440 30543872\n"
     ]
    },
    {
     "name": "stderr",
     "output_type": "stream",
     "text": [
      " 23%|███████▉                           | 9.13442622950809/40 [18:17<1:13:49, 143.49s/it]"
     ]
    },
    {
     "name": "stdout",
     "output_type": "stream",
     "text": [
      "Train Epoch: 70 [640/3918 (16%)]\tLoss: nan\n",
      "Mem before-during-after: 30543872 3984003072 30543872\n"
     ]
    },
    {
     "name": "stderr",
     "output_type": "stream",
     "text": [
      " 23%|████████▎                           | 9.265573770491695/40 [18:33<59:18, 115.77s/it]"
     ]
    },
    {
     "name": "stdout",
     "output_type": "stream",
     "text": [
      "Train Epoch: 70 [1280/3918 (33%)]\tLoss: nan\n",
      "Mem before-during-after: 30544384 3983812096 30543872\n"
     ]
    },
    {
     "name": "stderr",
     "output_type": "stream",
     "text": [
      " 23%|████████▍                           | 9.3967213114753/40 [18:51<1:12:27, 142.07s/it]"
     ]
    },
    {
     "name": "stdout",
     "output_type": "stream",
     "text": [
      "Train Epoch: 70 [1920/3918 (49%)]\tLoss: nan\n",
      "Mem before-during-after: 30543872 3984003072 30543872\n"
     ]
    },
    {
     "name": "stderr",
     "output_type": "stream",
     "text": [
      " 24%|████████                          | 9.527868852458905/40 [19:09<1:12:37, 143.00s/it]"
     ]
    },
    {
     "name": "stdout",
     "output_type": "stream",
     "text": [
      "Train Epoch: 70 [2560/3918 (66%)]\tLoss: nan\n",
      "Mem before-during-after: 30543872 3984003072 30543872\n"
     ]
    },
    {
     "name": "stderr",
     "output_type": "stream",
     "text": [
      " 24%|████████▍                          | 9.65901639344251/40 [19:28<1:12:24, 143.19s/it]"
     ]
    },
    {
     "name": "stdout",
     "output_type": "stream",
     "text": [
      "Train Epoch: 70 [3200/3918 (82%)]\tLoss: nan\n",
      "Mem before-during-after: 30543872 3984327680 30543872\n"
     ]
    },
    {
     "name": "stderr",
     "output_type": "stream",
     "text": [
      " 24%|████████▎                         | 9.790163934426115/40 [19:45<1:07:51, 134.76s/it]"
     ]
    },
    {
     "name": "stdout",
     "output_type": "stream",
     "text": [
      "Train Epoch: 70 [3840/3918 (98%)]\tLoss: nan\n",
      "Mem before-during-after: 30543872 3982867968 30543872\n"
     ]
    },
    {
     "name": "stderr",
     "output_type": "stream",
     "text": [
      " 25%|█████████▏                           | 9.999999999999883/40 [20:00<32:51, 65.71s/it]"
     ]
    },
    {
     "name": "stdout",
     "output_type": "stream",
     "text": [
      "\n",
      "Test Epoch: 70\tAccuracy: 254/976 (26%)\n",
      "\n"
     ]
    },
    {
     "name": "stderr",
     "output_type": "stream",
     "text": [
      " 25%|█████████                           | 10.003278688524473/40 [20:01<40:54, 81.83s/it]"
     ]
    },
    {
     "name": "stdout",
     "output_type": "stream",
     "text": [
      "Train Epoch: 71 [0/3918 (0%)]\tLoss: nan\n",
      "Mem before-during-after: 30542848 3981947392 30543872\n"
     ]
    },
    {
     "name": "stderr",
     "output_type": "stream",
     "text": [
      " 25%|████████▊                          | 10.134426229508078/40 [20:16<57:46, 116.06s/it]"
     ]
    },
    {
     "name": "stdout",
     "output_type": "stream",
     "text": [
      "Train Epoch: 71 [640/3918 (16%)]\tLoss: nan\n",
      "Mem before-during-after: 30543872 3984327680 30543872\n"
     ]
    },
    {
     "name": "stderr",
     "output_type": "stream",
     "text": [
      " 26%|████████▍                        | 10.265573770491683/40 [20:33<1:06:55, 135.06s/it]"
     ]
    },
    {
     "name": "stdout",
     "output_type": "stream",
     "text": [
      "Train Epoch: 71 [1280/3918 (33%)]\tLoss: nan\n",
      "Mem before-during-after: 30543872 3984003072 30543872\n"
     ]
    },
    {
     "name": "stderr",
     "output_type": "stream",
     "text": [
      " 26%|█████████                          | 10.396721311475288/40 [20:50<59:32, 120.67s/it]"
     ]
    },
    {
     "name": "stdout",
     "output_type": "stream",
     "text": [
      "Train Epoch: 71 [1920/3918 (49%)]\tLoss: nan\n",
      "Mem before-during-after: 30543872 3983811584 30543872\n"
     ]
    },
    {
     "name": "stderr",
     "output_type": "stream",
     "text": [
      " 26%|████████▋                        | 10.527868852458893/40 [21:08<1:10:17, 143.09s/it]"
     ]
    },
    {
     "name": "stdout",
     "output_type": "stream",
     "text": [
      "Train Epoch: 71 [2560/3918 (66%)]\tLoss: nan\n",
      "Mem before-during-after: 31425536 3984652288 31425536\n"
     ]
    },
    {
     "name": "stderr",
     "output_type": "stream",
     "text": [
      " 27%|████████▊                        | 10.659016393442498/40 [21:24<1:01:38, 126.07s/it]"
     ]
    },
    {
     "name": "stdout",
     "output_type": "stream",
     "text": [
      "Train Epoch: 71 [3200/3918 (82%)]\tLoss: nan\n",
      "Mem before-during-after: 30543872 3984884736 30543872\n"
     ]
    },
    {
     "name": "stderr",
     "output_type": "stream",
     "text": [
      " 27%|█████████▍                         | 10.790163934426102/40 [21:41<59:36, 122.43s/it]"
     ]
    },
    {
     "name": "stdout",
     "output_type": "stream",
     "text": [
      "Train Epoch: 71 [3840/3918 (98%)]\tLoss: nan\n",
      "Mem before-during-after: 31425536 3984652288 31425536\n"
     ]
    },
    {
     "name": "stderr",
     "output_type": "stream",
     "text": [
      " 27%|██████████▏                          | 10.99999999999987/40 [21:55<32:21, 66.95s/it]"
     ]
    },
    {
     "name": "stdout",
     "output_type": "stream",
     "text": [
      "\n",
      "Test Epoch: 71\tAccuracy: 254/976 (26%)\n",
      "\n"
     ]
    },
    {
     "name": "stderr",
     "output_type": "stream",
     "text": [
      " 28%|██████████▏                          | 11.00327868852446/40 [21:56<40:04, 82.93s/it]"
     ]
    },
    {
     "name": "stdout",
     "output_type": "stream",
     "text": [
      "Train Epoch: 72 [0/3918 (0%)]\tLoss: nan\n",
      "Mem before-during-after: 30542848 3981947392 30543872\n"
     ]
    },
    {
     "name": "stderr",
     "output_type": "stream",
     "text": [
      " 28%|█████████▏                       | 11.134426229508065/40 [22:12<1:00:10, 125.09s/it]"
     ]
    },
    {
     "name": "stdout",
     "output_type": "stream",
     "text": [
      "Train Epoch: 72 [640/3918 (16%)]\tLoss: nan\n",
      "Mem before-during-after: 30543872 3984327680 30543872\n"
     ]
    },
    {
     "name": "stderr",
     "output_type": "stream",
     "text": [
      " 28%|█████████▌                        | 11.26557377049167/40 [22:28<1:00:55, 127.23s/it]"
     ]
    },
    {
     "name": "stdout",
     "output_type": "stream",
     "text": [
      "Train Epoch: 72 [1280/3918 (33%)]\tLoss: nan\n",
      "Mem before-during-after: 30543872 3817610240 30543872\n"
     ]
    },
    {
     "name": "stderr",
     "output_type": "stream",
     "text": [
      " 28%|█████████▉                         | 11.396721311475275/40 [22:45<55:37, 116.67s/it]"
     ]
    },
    {
     "name": "stdout",
     "output_type": "stream",
     "text": [
      "Train Epoch: 72 [1920/3918 (49%)]\tLoss: nan\n",
      "Mem before-during-after: 30543872 3983811584 30543872\n"
     ]
    },
    {
     "name": "stderr",
     "output_type": "stream",
     "text": [
      " 29%|█████████▊                        | 11.52786885245888/40 [23:02<1:05:47, 138.63s/it]"
     ]
    },
    {
     "name": "stdout",
     "output_type": "stream",
     "text": [
      "Train Epoch: 72 [2560/3918 (66%)]\tLoss: nan\n",
      "Mem before-during-after: 30543872 3855343104 30543872\n"
     ]
    },
    {
     "name": "stderr",
     "output_type": "stream",
     "text": [
      " 29%|█████████▌                       | 11.659016393442485/40 [23:21<1:08:42, 145.45s/it]"
     ]
    },
    {
     "name": "stdout",
     "output_type": "stream",
     "text": [
      "Train Epoch: 72 [3200/3918 (82%)]\tLoss: nan\n",
      "Mem before-during-after: 30543872 3985209344 31425536\n"
     ]
    },
    {
     "name": "stderr",
     "output_type": "stream",
     "text": [
      " 29%|██████████                        | 11.79016393442609/40 [23:40<1:08:39, 146.05s/it]"
     ]
    },
    {
     "name": "stdout",
     "output_type": "stream",
     "text": [
      "Train Epoch: 72 [3840/3918 (98%)]\tLoss: nan\n",
      "Mem before-during-after: 31425536 3985209344 31425536\n"
     ]
    },
    {
     "name": "stderr",
     "output_type": "stream",
     "text": [
      " 30%|██████████▊                         | 11.999999999999858/40 [23:54<31:33, 67.63s/it]"
     ]
    },
    {
     "name": "stdout",
     "output_type": "stream",
     "text": [
      "\n",
      "Test Epoch: 72\tAccuracy: 254/976 (26%)\n",
      "\n"
     ]
    },
    {
     "name": "stderr",
     "output_type": "stream",
     "text": [
      " 30%|██████████▊                         | 12.003278688524448/40 [23:55<38:44, 83.04s/it]"
     ]
    },
    {
     "name": "stdout",
     "output_type": "stream",
     "text": [
      "Train Epoch: 73 [0/3918 (0%)]\tLoss: nan\n",
      "Mem before-during-after: 30542848 3981947392 30543872\n"
     ]
    },
    {
     "name": "stderr",
     "output_type": "stream",
     "text": [
      " 30%|██████████                       | 12.134426229508053/40 [24:12<1:06:21, 142.87s/it]"
     ]
    },
    {
     "name": "stdout",
     "output_type": "stream",
     "text": [
      "Train Epoch: 73 [640/3918 (16%)]\tLoss: nan\n",
      "Mem before-during-after: 30543872 3984003072 30543872\n"
     ]
    },
    {
     "name": "stderr",
     "output_type": "stream",
     "text": [
      " 31%|██████████                       | 12.265573770491658/40 [24:30<1:07:16, 145.55s/it]"
     ]
    },
    {
     "name": "stdout",
     "output_type": "stream",
     "text": [
      "Train Epoch: 73 [1280/3918 (33%)]\tLoss: nan\n",
      "Mem before-during-after: 30598656 3981884928 30543872\n"
     ]
    },
    {
     "name": "stderr",
     "output_type": "stream",
     "text": [
      " 31%|██████████▏                      | 12.396721311475263/40 [24:46<1:03:48, 138.68s/it]"
     ]
    },
    {
     "name": "stdout",
     "output_type": "stream",
     "text": [
      "Train Epoch: 73 [1920/3918 (49%)]\tLoss: nan\n",
      "Mem before-during-after: 30543872 3986100224 30543872\n"
     ]
    },
    {
     "name": "stderr",
     "output_type": "stream",
     "text": [
      " 31%|██████████▎                      | 12.527868852458868/40 [25:04<1:05:07, 142.25s/it]"
     ]
    },
    {
     "name": "stdout",
     "output_type": "stream",
     "text": [
      "Train Epoch: 73 [2560/3918 (66%)]\tLoss: nan\n",
      "Mem before-during-after: 30543872 3984327680 30543872\n"
     ]
    },
    {
     "name": "stderr",
     "output_type": "stream",
     "text": [
      " 32%|██████████▍                      | 12.659016393442473/40 [25:23<1:05:36, 143.96s/it]"
     ]
    },
    {
     "name": "stdout",
     "output_type": "stream",
     "text": [
      "Train Epoch: 73 [3200/3918 (82%)]\tLoss: nan\n",
      "Mem before-during-after: 31425536 3983770624 30543872\n"
     ]
    },
    {
     "name": "stderr",
     "output_type": "stream",
     "text": [
      " 32%|███████████▏                       | 12.790163934426078/40 [25:39<53:14, 117.39s/it]"
     ]
    },
    {
     "name": "stdout",
     "output_type": "stream",
     "text": [
      "Train Epoch: 73 [3840/3918 (98%)]\tLoss: nan\n",
      "Mem before-during-after: 30543872 3984327680 30543872\n"
     ]
    },
    {
     "name": "stderr",
     "output_type": "stream",
     "text": [
      " 32%|███████████▋                        | 12.999999999999845/40 [25:54<30:02, 66.77s/it]"
     ]
    },
    {
     "name": "stdout",
     "output_type": "stream",
     "text": [
      "\n",
      "Test Epoch: 73\tAccuracy: 254/976 (26%)\n",
      "\n"
     ]
    },
    {
     "name": "stderr",
     "output_type": "stream",
     "text": [
      " 33%|███████████▋                        | 13.003278688524436/40 [25:55<38:37, 85.85s/it]"
     ]
    },
    {
     "name": "stdout",
     "output_type": "stream",
     "text": [
      "Train Epoch: 74 [0/3918 (0%)]\tLoss: nan\n",
      "Mem before-during-after: 30542848 3981884928 30543872\n"
     ]
    },
    {
     "name": "stderr",
     "output_type": "stream",
     "text": [
      " 33%|███████████▏                      | 13.13442622950804/40 [26:12<1:02:02, 138.54s/it]"
     ]
    },
    {
     "name": "stdout",
     "output_type": "stream",
     "text": [
      "Train Epoch: 74 [640/3918 (16%)]\tLoss: nan\n",
      "Mem before-during-after: 31425536 3816678912 30543872\n"
     ]
    },
    {
     "name": "stderr",
     "output_type": "stream",
     "text": [
      " 33%|██████████▉                      | 13.265573770491645/40 [26:30<1:04:06, 143.87s/it]"
     ]
    },
    {
     "name": "stdout",
     "output_type": "stream",
     "text": [
      "Train Epoch: 74 [1280/3918 (33%)]\tLoss: nan\n",
      "Mem before-during-after: 31425536 3983770624 30543872\n"
     ]
    },
    {
     "name": "stderr",
     "output_type": "stream",
     "text": [
      " 33%|███████████▍                      | 13.39672131147525/40 [26:48<1:03:15, 142.69s/it]"
     ]
    },
    {
     "name": "stdout",
     "output_type": "stream",
     "text": [
      "Train Epoch: 74 [1920/3918 (49%)]\tLoss: nan\n",
      "Mem before-during-after: 30543872 3984327680 30543872\n"
     ]
    },
    {
     "name": "stderr",
     "output_type": "stream",
     "text": [
      " 34%|███████████▏                     | 13.527868852458855/40 [27:06<1:02:59, 142.78s/it]"
     ]
    },
    {
     "name": "stdout",
     "output_type": "stream",
     "text": [
      "Train Epoch: 74 [2560/3918 (66%)]\tLoss: nan\n",
      "Mem before-during-after: 30543872 3984327680 30543872\n"
     ]
    },
    {
     "name": "stderr",
     "output_type": "stream",
     "text": [
      " 34%|████████████▎                       | 13.65901639344246/40 [27:25<56:31, 128.74s/it]"
     ]
    },
    {
     "name": "stdout",
     "output_type": "stream",
     "text": [
      "Train Epoch: 74 [3200/3918 (82%)]\tLoss: nan\n",
      "Mem before-during-after: 30668800 3983887872 30868480\n"
     ]
    },
    {
     "name": "stderr",
     "output_type": "stream",
     "text": [
      " 34%|███████████▍                     | 13.790163934426065/40 [27:43<1:02:36, 143.34s/it]"
     ]
    },
    {
     "name": "stdout",
     "output_type": "stream",
     "text": [
      "Train Epoch: 74 [3840/3918 (98%)]\tLoss: nan\n",
      "Mem before-during-after: 30543872 3984327680 30543872\n"
     ]
    },
    {
     "name": "stderr",
     "output_type": "stream",
     "text": [
      " 35%|████████████▌                       | 13.999999999999833/40 [27:58<29:19, 67.67s/it]"
     ]
    },
    {
     "name": "stdout",
     "output_type": "stream",
     "text": [
      "\n",
      "Test Epoch: 74\tAccuracy: 254/976 (26%)\n",
      "\n"
     ]
    },
    {
     "name": "stderr",
     "output_type": "stream",
     "text": [
      " 35%|████████████▌                       | 14.003278688524423/40 [27:58<35:49, 82.69s/it]"
     ]
    },
    {
     "name": "stdout",
     "output_type": "stream",
     "text": [
      "Train Epoch: 75 [0/3918 (0%)]\tLoss: nan\n",
      "Mem before-during-after: 30542848 3981884928 30543872\n"
     ]
    },
    {
     "name": "stderr",
     "output_type": "stream",
     "text": [
      " 35%|███████████▋                     | 14.134426229508028/40 [28:16<1:02:27, 144.89s/it]"
     ]
    },
    {
     "name": "stdout",
     "output_type": "stream",
     "text": [
      "Train Epoch: 75 [640/3918 (16%)]\tLoss: nan\n",
      "Mem before-during-after: 30543872 3985209344 31425536\n"
     ]
    },
    {
     "name": "stderr",
     "output_type": "stream",
     "text": [
      " 36%|████████████▍                      | 14.265573770491633/40 [28:34<49:37, 115.72s/it]"
     ]
    },
    {
     "name": "stdout",
     "output_type": "stream",
     "text": [
      "Train Epoch: 75 [1280/3918 (33%)]\tLoss: nan\n",
      "Mem before-during-after: 30543872 3984884736 30543872\n"
     ]
    },
    {
     "name": "stderr",
     "output_type": "stream",
     "text": [
      " 36%|███████████▉                     | 14.396721311475238/40 [28:52<1:02:21, 146.13s/it]"
     ]
    },
    {
     "name": "stdout",
     "output_type": "stream",
     "text": [
      "Train Epoch: 75 [1920/3918 (49%)]\tLoss: nan\n",
      "Mem before-during-after: 30543872 3984652288 31425536\n"
     ]
    },
    {
     "name": "stderr",
     "output_type": "stream",
     "text": [
      " 36%|████████████▋                      | 14.527868852458843/40 [29:10<53:49, 126.78s/it]"
     ]
    },
    {
     "name": "stdout",
     "output_type": "stream",
     "text": [
      "Train Epoch: 75 [2560/3918 (66%)]\tLoss: nan\n",
      "Mem before-during-after: 30543872 3983940608 30543872\n"
     ]
    },
    {
     "name": "stderr",
     "output_type": "stream",
     "text": [
      " 37%|████████████▊                      | 14.659016393442448/40 [29:26<48:53, 115.75s/it]"
     ]
    },
    {
     "name": "stdout",
     "output_type": "stream",
     "text": [
      "Train Epoch: 75 [3200/3918 (82%)]\tLoss: nan\n",
      "Mem before-during-after: 30543872 3983616000 30543872\n"
     ]
    },
    {
     "name": "stderr",
     "output_type": "stream",
     "text": [
      " 37%|████████████▏                    | 14.790163934426053/40 [29:43<1:00:29, 143.97s/it]"
     ]
    },
    {
     "name": "stdout",
     "output_type": "stream",
     "text": [
      "Train Epoch: 75 [3840/3918 (98%)]\tLoss: nan\n",
      "Mem before-during-after: 30543872 3981157376 30543872\n"
     ]
    },
    {
     "name": "stderr",
     "output_type": "stream",
     "text": [
      " 37%|█████████████▊                       | 14.99999999999982/40 [29:58<27:45, 66.63s/it]"
     ]
    },
    {
     "name": "stdout",
     "output_type": "stream",
     "text": [
      "\n",
      "Test Epoch: 75\tAccuracy: 254/976 (26%)\n",
      "\n"
     ]
    },
    {
     "name": "stderr",
     "output_type": "stream",
     "text": [
      " 38%|█████████████▉                       | 15.00327868852441/40 [29:59<34:30, 82.82s/it]"
     ]
    },
    {
     "name": "stdout",
     "output_type": "stream",
     "text": [
      "Train Epoch: 76 [0/3918 (0%)]\tLoss: nan\n",
      "Mem before-during-after: 30542848 3981884928 30543872\n"
     ]
    },
    {
     "name": "stderr",
     "output_type": "stream",
     "text": [
      " 38%|█████████████▏                     | 15.134426229508016/40 [30:15<48:13, 116.38s/it]"
     ]
    },
    {
     "name": "stdout",
     "output_type": "stream",
     "text": [
      "Train Epoch: 76 [640/3918 (16%)]\tLoss: nan\n",
      "Mem before-during-after: 30543872 3984327680 30543872\n"
     ]
    },
    {
     "name": "stderr",
     "output_type": "stream",
     "text": [
      " 38%|█████████████▋                      | 15.26557377049162/40 [30:32<48:20, 117.28s/it]"
     ]
    },
    {
     "name": "stdout",
     "output_type": "stream",
     "text": [
      "Train Epoch: 76 [1280/3918 (33%)]\tLoss: nan\n",
      "Mem before-during-after: 31425536 3983770624 30543872\n"
     ]
    },
    {
     "name": "stderr",
     "output_type": "stream",
     "text": [
      " 38%|█████████████▍                     | 15.396721311475225/40 [30:48<47:40, 116.26s/it]"
     ]
    },
    {
     "name": "stdout",
     "output_type": "stream",
     "text": [
      "Train Epoch: 76 [1920/3918 (49%)]\tLoss: nan\n",
      "Mem before-during-after: 30563840 3983811584 30543872\n"
     ]
    },
    {
     "name": "stderr",
     "output_type": "stream",
     "text": [
      " 39%|█████████████▏                    | 15.52786885245883/40 [31:06<1:05:17, 160.07s/it]"
     ]
    },
    {
     "name": "stdout",
     "output_type": "stream",
     "text": [
      "Train Epoch: 76 [2560/3918 (66%)]\tLoss: nan\n",
      "Mem before-during-after: 30543872 3985209344 31425536\n"
     ]
    },
    {
     "name": "stderr",
     "output_type": "stream",
     "text": [
      " 39%|█████████████▋                     | 15.659016393442435/40 [31:25<55:36, 137.07s/it]"
     ]
    },
    {
     "name": "stdout",
     "output_type": "stream",
     "text": [
      "Train Epoch: 76 [3200/3918 (82%)]\tLoss: nan\n",
      "Mem before-during-after: 30543872 3985209344 31425536\n"
     ]
    },
    {
     "name": "stderr",
     "output_type": "stream",
     "text": [
      " 39%|██████████████▏                     | 15.79016393442604/40 [31:41<53:39, 132.98s/it]"
     ]
    },
    {
     "name": "stdout",
     "output_type": "stream",
     "text": [
      "Train Epoch: 76 [3840/3918 (98%)]\tLoss: nan\n",
      "Mem before-during-after: 30543872 3982796800 30543872\n"
     ]
    },
    {
     "name": "stderr",
     "output_type": "stream",
     "text": [
      " 40%|██████████████▍                     | 15.999999999999808/40 [31:56<33:19, 83.30s/it]"
     ]
    },
    {
     "name": "stdout",
     "output_type": "stream",
     "text": [
      "\n",
      "Test Epoch: 76\tAccuracy: 254/976 (26%)\n",
      "\n"
     ]
    },
    {
     "name": "stderr",
     "output_type": "stream",
     "text": [
      " 40%|███████████████▏                      | 16.0032786885244/40 [31:56<37:11, 92.99s/it]"
     ]
    },
    {
     "name": "stdout",
     "output_type": "stream",
     "text": [
      "Train Epoch: 77 [0/3918 (0%)]\tLoss: nan\n",
      "Mem before-during-after: 30542848 3981884928 30543872\n"
     ]
    },
    {
     "name": "stderr",
     "output_type": "stream",
     "text": [
      " 40%|██████████████                     | 16.134426229508076/40 [32:13<56:17, 141.50s/it]"
     ]
    },
    {
     "name": "stdout",
     "output_type": "stream",
     "text": [
      "Train Epoch: 77 [640/3918 (16%)]\tLoss: nan\n",
      "Mem before-during-after: 30543872 3984003072 30543872\n"
     ]
    },
    {
     "name": "stderr",
     "output_type": "stream",
     "text": [
      " 41%|██████████████▏                    | 16.265573770491752/40 [32:31<56:30, 142.84s/it]"
     ]
    },
    {
     "name": "stdout",
     "output_type": "stream",
     "text": [
      "Train Epoch: 77 [1280/3918 (33%)]\tLoss: nan\n",
      "Mem before-during-after: 30543872 3984327680 30543872\n"
     ]
    },
    {
     "name": "stderr",
     "output_type": "stream",
     "text": [
      " 41%|██████████████▎                    | 16.396721311475428/40 [32:49<46:02, 117.03s/it]"
     ]
    },
    {
     "name": "stdout",
     "output_type": "stream",
     "text": [
      "Train Epoch: 77 [1920/3918 (49%)]\tLoss: nan\n",
      "Mem before-during-after: 30543872 3983811584 30563840\n"
     ]
    },
    {
     "name": "stderr",
     "output_type": "stream",
     "text": [
      " 41%|██████████████▍                    | 16.527868852459104/40 [33:08<54:53, 140.32s/it]"
     ]
    },
    {
     "name": "stdout",
     "output_type": "stream",
     "text": [
      "Train Epoch: 77 [2560/3918 (66%)]\tLoss: nan\n",
      "Mem before-during-after: 30543872 3651533312 30543872\n"
     ]
    },
    {
     "name": "stderr",
     "output_type": "stream",
     "text": [
      " 42%|██████████████▉                     | 16.65901639344278/40 [33:24<45:58, 118.19s/it]"
     ]
    },
    {
     "name": "stdout",
     "output_type": "stream",
     "text": [
      "Train Epoch: 77 [3200/3918 (82%)]\tLoss: nan\n",
      "Mem before-during-after: 30868480 3983657984 30543872\n"
     ]
    },
    {
     "name": "stderr",
     "output_type": "stream",
     "text": [
      " 42%|██████████████▋                    | 16.790163934426456/40 [33:40<52:30, 135.75s/it]"
     ]
    },
    {
     "name": "stdout",
     "output_type": "stream",
     "text": [
      "Train Epoch: 77 [3840/3918 (98%)]\tLoss: nan\n",
      "Mem before-during-after: 30668800 3984003072 30543872\n"
     ]
    },
    {
     "name": "stderr",
     "output_type": "stream",
     "text": [
      " 43%|███████████████▎                    | 17.000000000000338/40 [33:55<25:44, 67.15s/it]"
     ]
    },
    {
     "name": "stdout",
     "output_type": "stream",
     "text": [
      "\n",
      "Test Epoch: 77\tAccuracy: 254/976 (26%)\n",
      "\n"
     ]
    },
    {
     "name": "stderr",
     "output_type": "stream",
     "text": [
      " 43%|███████████████▋                     | 17.00327868852493/40 [33:55<31:53, 83.21s/it]"
     ]
    },
    {
     "name": "stdout",
     "output_type": "stream",
     "text": [
      "Train Epoch: 78 [0/3918 (0%)]\tLoss: nan\n",
      "Mem before-during-after: 30542848 3981884928 30543872\n"
     ]
    },
    {
     "name": "stderr",
     "output_type": "stream",
     "text": [
      " 43%|██████████████▉                    | 17.134426229508605/40 [34:12<45:01, 118.16s/it]"
     ]
    },
    {
     "name": "stdout",
     "output_type": "stream",
     "text": [
      "Train Epoch: 78 [640/3918 (16%)]\tLoss: nan\n",
      "Mem before-during-after: 30543872 3983812096 30544384\n"
     ]
    },
    {
     "name": "stderr",
     "output_type": "stream",
     "text": [
      " 43%|███████████████▌                    | 17.26557377049228/40 [34:30<55:06, 145.43s/it]"
     ]
    },
    {
     "name": "stdout",
     "output_type": "stream",
     "text": [
      "Train Epoch: 78 [1280/3918 (33%)]\tLoss: nan\n",
      "Mem before-during-after: 31425536 3984327680 30543872\n"
     ]
    },
    {
     "name": "stderr",
     "output_type": "stream",
     "text": [
      " 43%|███████████████▏                   | 17.396721311475957/40 [34:47<45:49, 121.66s/it]"
     ]
    },
    {
     "name": "stdout",
     "output_type": "stream",
     "text": [
      "Train Epoch: 78 [1920/3918 (49%)]\tLoss: nan\n",
      "Mem before-during-after: 30543872 3983874048 30563840\n"
     ]
    },
    {
     "name": "stderr",
     "output_type": "stream",
     "text": [
      " 44%|███████████████▎                   | 17.527868852459633/40 [35:02<46:14, 123.48s/it]"
     ]
    },
    {
     "name": "stdout",
     "output_type": "stream",
     "text": [
      "Train Epoch: 78 [2560/3918 (66%)]\tLoss: nan\n",
      "Mem before-during-after: 30543872 3983678464 30543872\n"
     ]
    },
    {
     "name": "stderr",
     "output_type": "stream",
     "text": [
      " 44%|███████████████▉                    | 17.65901639344331/40 [35:19<43:11, 116.00s/it]"
     ]
    },
    {
     "name": "stdout",
     "output_type": "stream",
     "text": [
      "Train Epoch: 78 [3200/3918 (82%)]\tLoss: nan\n",
      "Mem before-during-after: 30543872 3984003072 30543872\n"
     ]
    },
    {
     "name": "stderr",
     "output_type": "stream",
     "text": [
      " 44%|███████████████▌                   | 17.790163934426985/40 [35:36<52:31, 141.88s/it]"
     ]
    },
    {
     "name": "stdout",
     "output_type": "stream",
     "text": [
      "Train Epoch: 78 [3840/3918 (98%)]\tLoss: nan\n",
      "Mem before-during-after: 30543872 3984327680 30543872\n"
     ]
    },
    {
     "name": "stderr",
     "output_type": "stream",
     "text": [
      " 45%|████████████████▏                   | 18.000000000000867/40 [35:51<24:37, 67.18s/it]"
     ]
    },
    {
     "name": "stdout",
     "output_type": "stream",
     "text": [
      "\n",
      "Test Epoch: 78\tAccuracy: 254/976 (26%)\n",
      "\n"
     ]
    },
    {
     "name": "stderr",
     "output_type": "stream",
     "text": [
      " 45%|████████████████▋                    | 18.00327868852546/40 [35:52<30:27, 83.08s/it]"
     ]
    },
    {
     "name": "stdout",
     "output_type": "stream",
     "text": [
      "Train Epoch: 79 [0/3918 (0%)]\tLoss: nan\n",
      "Mem before-during-after: 30542848 3981884928 30543872\n"
     ]
    },
    {
     "name": "stderr",
     "output_type": "stream",
     "text": [
      " 45%|███████████████▊                   | 18.134426229509135/40 [36:10<50:48, 139.42s/it]"
     ]
    },
    {
     "name": "stdout",
     "output_type": "stream",
     "text": [
      "Train Epoch: 79 [640/3918 (16%)]\tLoss: nan\n",
      "Mem before-during-after: 30543872 3982867968 30543872\n"
     ]
    },
    {
     "name": "stderr",
     "output_type": "stream",
     "text": [
      " 46%|████████████████▍                   | 18.26557377049281/40 [36:27<51:45, 142.90s/it]"
     ]
    },
    {
     "name": "stdout",
     "output_type": "stream",
     "text": [
      "Train Epoch: 79 [1280/3918 (33%)]\tLoss: nan\n",
      "Mem before-during-after: 30543872 3984327680 30543872\n"
     ]
    },
    {
     "name": "stderr",
     "output_type": "stream",
     "text": [
      " 46%|████████████████                   | 18.396721311476487/40 [36:45<50:45, 140.95s/it]"
     ]
    },
    {
     "name": "stdout",
     "output_type": "stream",
     "text": [
      "Train Epoch: 79 [1920/3918 (49%)]\tLoss: nan\n",
      "Mem before-during-after: 30543872 3775668736 30543872\n"
     ]
    },
    {
     "name": "stderr",
     "output_type": "stream",
     "text": [
      " 46%|████████████████▏                  | 18.527868852460163/40 [37:03<44:38, 124.76s/it]"
     ]
    },
    {
     "name": "stdout",
     "output_type": "stream",
     "text": [
      "Train Epoch: 79 [2560/3918 (66%)]\tLoss: nan\n",
      "Mem before-during-after: 30543872 3983940608 30543872\n"
     ]
    },
    {
     "name": "stderr",
     "output_type": "stream",
     "text": [
      " 47%|████████████████▊                   | 18.65901639344384/40 [37:21<50:26, 141.81s/it]"
     ]
    },
    {
     "name": "stdout",
     "output_type": "stream",
     "text": [
      "Train Epoch: 79 [3200/3918 (82%)]\tLoss: nan\n",
      "Mem before-during-after: 30543872 3984327680 30543872\n"
     ]
    },
    {
     "name": "stderr",
     "output_type": "stream",
     "text": [
      " 47%|████████████████▍                  | 18.790163934427515/40 [37:38<41:13, 116.60s/it]"
     ]
    },
    {
     "name": "stdout",
     "output_type": "stream",
     "text": [
      "Train Epoch: 79 [3840/3918 (98%)]\tLoss: nan\n",
      "Mem before-during-after: 31425536 3985586176 31425536\n"
     ]
    },
    {
     "name": "stderr",
     "output_type": "stream",
     "text": [
      " 48%|█████████████████                   | 19.000000000001396/40 [37:52<23:04, 65.92s/it]"
     ]
    },
    {
     "name": "stdout",
     "output_type": "stream",
     "text": [
      "\n",
      "Test Epoch: 79\tAccuracy: 254/976 (26%)\n",
      "\n"
     ]
    },
    {
     "name": "stderr",
     "output_type": "stream",
     "text": [
      " 48%|█████████████████                   | 19.003278688525988/40 [37:53<29:10, 83.37s/it]"
     ]
    },
    {
     "name": "stdout",
     "output_type": "stream",
     "text": [
      "Train Epoch: 80 [0/3918 (0%)]\tLoss: nan\n",
      "Mem before-during-after: 30542848 3981947392 30543872\n"
     ]
    },
    {
     "name": "stderr",
     "output_type": "stream",
     "text": [
      " 48%|████████████████▋                  | 19.134426229509664/40 [38:09<41:05, 118.18s/it]"
     ]
    },
    {
     "name": "stdout",
     "output_type": "stream",
     "text": [
      "Train Epoch: 80 [640/3918 (16%)]\tLoss: nan\n",
      "Mem before-during-after: 30543872 3984003072 30543872\n"
     ]
    },
    {
     "name": "stderr",
     "output_type": "stream",
     "text": [
      " 48%|█████████████████▎                  | 19.26557377049334/40 [38:26<49:41, 143.77s/it]"
     ]
    },
    {
     "name": "stdout",
     "output_type": "stream",
     "text": [
      "Train Epoch: 80 [1280/3918 (33%)]\tLoss: nan\n",
      "Mem before-during-after: 31425536 3984652288 31425536\n"
     ]
    },
    {
     "name": "stderr",
     "output_type": "stream",
     "text": [
      " 48%|████████████████▉                  | 19.396721311477016/40 [38:44<40:02, 116.59s/it]"
     ]
    },
    {
     "name": "stdout",
     "output_type": "stream",
     "text": [
      "Train Epoch: 80 [1920/3918 (49%)]\tLoss: nan\n",
      "Mem before-during-after: 30543872 3983811584 30543872\n"
     ]
    },
    {
     "name": "stderr",
     "output_type": "stream",
     "text": [
      " 49%|█████████████████                  | 19.527868852460692/40 [39:02<49:49, 146.02s/it]"
     ]
    },
    {
     "name": "stdout",
     "output_type": "stream",
     "text": [
      "Train Epoch: 80 [2560/3918 (66%)]\tLoss: nan\n",
      "Mem before-during-after: 30868480 3984652288 31425536\n"
     ]
    },
    {
     "name": "stderr",
     "output_type": "stream",
     "text": [
      " 49%|█████████████████▏                 | 19.659016393444368/40 [39:20<39:48, 117.44s/it]"
     ]
    },
    {
     "name": "stdout",
     "output_type": "stream",
     "text": [
      "Train Epoch: 80 [3200/3918 (82%)]\tLoss: nan\n",
      "Mem before-during-after: 30543872 3983812096 30544384\n"
     ]
    },
    {
     "name": "stderr",
     "output_type": "stream",
     "text": [
      " 49%|█████████████████▎                 | 19.790163934428044/40 [39:37<48:23, 143.67s/it]"
     ]
    },
    {
     "name": "stdout",
     "output_type": "stream",
     "text": [
      "Train Epoch: 80 [3840/3918 (98%)]\tLoss: nan\n",
      "Mem before-during-after: 30543872 3983970304 30543872\n"
     ]
    },
    {
     "name": "stderr",
     "output_type": "stream",
     "text": [
      " 50%|██████████████████                  | 20.000000000001926/40 [39:52<22:36, 67.82s/it]"
     ]
    },
    {
     "name": "stdout",
     "output_type": "stream",
     "text": [
      "\n",
      "Test Epoch: 80\tAccuracy: 254/976 (26%)\n",
      "\n"
     ]
    },
    {
     "name": "stderr",
     "output_type": "stream",
     "text": [
      " 50%|██████████████████                  | 20.003278688526517/40 [39:53<28:01, 84.07s/it]"
     ]
    },
    {
     "name": "stdout",
     "output_type": "stream",
     "text": [
      "Train Epoch: 81 [0/3918 (0%)]\tLoss: nan\n",
      "Mem before-during-after: 30542848 3981884928 30543872\n"
     ]
    },
    {
     "name": "stderr",
     "output_type": "stream",
     "text": [
      " 50%|█████████████████▌                 | 20.134426229510193/40 [40:10<42:10, 127.37s/it]"
     ]
    },
    {
     "name": "stdout",
     "output_type": "stream",
     "text": [
      "Train Epoch: 81 [640/3918 (16%)]\tLoss: nan\n",
      "Mem before-during-after: 31425536 3984652288 31425536\n"
     ]
    },
    {
     "name": "stderr",
     "output_type": "stream",
     "text": [
      " 51%|██████████████████▏                 | 20.26557377049387/40 [40:28<48:01, 146.02s/it]"
     ]
    },
    {
     "name": "stdout",
     "output_type": "stream",
     "text": [
      "Train Epoch: 81 [1280/3918 (33%)]\tLoss: nan\n",
      "Mem before-during-after: 30543872 3984327680 30543872\n"
     ]
    },
    {
     "name": "stderr",
     "output_type": "stream",
     "text": [
      " 51%|█████████████████▊                 | 20.396721311477545/40 [40:45<38:49, 118.81s/it]"
     ]
    },
    {
     "name": "stdout",
     "output_type": "stream",
     "text": [
      "Train Epoch: 81 [1920/3918 (49%)]\tLoss: nan\n",
      "Mem before-during-after: 30543872 3983812096 30544384\n"
     ]
    },
    {
     "name": "stderr",
     "output_type": "stream",
     "text": [
      " 51%|██████████████████▍                 | 20.52786885246122/40 [41:04<46:29, 143.24s/it]"
     ]
    },
    {
     "name": "stdout",
     "output_type": "stream",
     "text": [
      "Train Epoch: 81 [2560/3918 (66%)]\tLoss: nan\n",
      "Mem before-during-after: 30543872 3984327680 30543872\n"
     ]
    },
    {
     "name": "stderr",
     "output_type": "stream",
     "text": [
      " 52%|██████████████████                 | 20.659016393444897/40 [41:22<41:34, 128.98s/it]"
     ]
    },
    {
     "name": "stdout",
     "output_type": "stream",
     "text": [
      "Train Epoch: 81 [3200/3918 (82%)]\tLoss: nan\n",
      "Mem before-during-after: 30543872 3984327680 30543872\n"
     ]
    },
    {
     "name": "stderr",
     "output_type": "stream",
     "text": [
      " 52%|██████████████████▏                | 20.790163934428573/40 [41:39<37:32, 117.26s/it]"
     ]
    },
    {
     "name": "stdout",
     "output_type": "stream",
     "text": [
      "Train Epoch: 81 [3840/3918 (98%)]\tLoss: nan\n",
      "Mem before-during-after: 31425536 3984652288 31425536\n"
     ]
    },
    {
     "name": "stderr",
     "output_type": "stream",
     "text": [
      " 53%|██████████████████▉                 | 21.000000000002455/40 [41:54<21:55, 69.23s/it]"
     ]
    },
    {
     "name": "stdout",
     "output_type": "stream",
     "text": [
      "\n",
      "Test Epoch: 81\tAccuracy: 254/976 (26%)\n",
      "\n"
     ]
    },
    {
     "name": "stderr",
     "output_type": "stream",
     "text": [
      " 53%|██████████████████▉                 | 21.003278688527047/40 [41:54<26:25, 83.48s/it]"
     ]
    },
    {
     "name": "stdout",
     "output_type": "stream",
     "text": [
      "Train Epoch: 82 [0/3918 (0%)]\tLoss: nan\n",
      "Mem before-during-after: 30542848 3981947392 30543872\n"
     ]
    },
    {
     "name": "stderr",
     "output_type": "stream",
     "text": [
      " 53%|██████████████████▍                | 21.134426229510723/40 [42:11<40:31, 128.87s/it]"
     ]
    },
    {
     "name": "stdout",
     "output_type": "stream",
     "text": [
      "Train Epoch: 82 [640/3918 (16%)]\tLoss: nan\n",
      "Mem before-during-after: 30598656 3983878144 30543872\n"
     ]
    },
    {
     "name": "stderr",
     "output_type": "stream",
     "text": [
      " 53%|███████████████████▋                 | 21.2655737704944/40 [42:27<36:23, 116.57s/it]"
     ]
    },
    {
     "name": "stdout",
     "output_type": "stream",
     "text": [
      "Train Epoch: 82 [1280/3918 (33%)]\tLoss: nan\n",
      "Mem before-during-after: 30543872 3984003072 30543872\n"
     ]
    },
    {
     "name": "stderr",
     "output_type": "stream",
     "text": [
      " 53%|██████████████████▋                | 21.396721311478075/40 [42:43<40:16, 129.91s/it]"
     ]
    },
    {
     "name": "stdout",
     "output_type": "stream",
     "text": [
      "Train Epoch: 82 [1920/3918 (49%)]\tLoss: nan\n",
      "Mem before-during-after: 30543872 3983940608 30543872\n"
     ]
    },
    {
     "name": "stderr",
     "output_type": "stream",
     "text": [
      " 54%|███████████████████▍                | 21.52786885246175/40 [43:02<43:35, 141.60s/it]"
     ]
    },
    {
     "name": "stdout",
     "output_type": "stream",
     "text": [
      "Train Epoch: 82 [2560/3918 (66%)]\tLoss: nan\n",
      "Mem before-during-after: 30543872 3984003072 30543872\n"
     ]
    },
    {
     "name": "stderr",
     "output_type": "stream",
     "text": [
      " 54%|██████████████████▉                | 21.659016393445427/40 [43:18<42:09, 137.91s/it]"
     ]
    },
    {
     "name": "stdout",
     "output_type": "stream",
     "text": [
      "Train Epoch: 82 [3200/3918 (82%)]\tLoss: nan\n",
      "Mem before-during-after: 30543872 3982867968 30543872\n"
     ]
    },
    {
     "name": "stderr",
     "output_type": "stream",
     "text": [
      " 54%|███████████████████                | 21.790163934429103/40 [43:33<35:25, 116.71s/it]"
     ]
    },
    {
     "name": "stdout",
     "output_type": "stream",
     "text": [
      "Train Epoch: 82 [3840/3918 (98%)]\tLoss: nan\n",
      "Mem before-during-after: 30543872 3984003072 30543872\n"
     ]
    },
    {
     "name": "stderr",
     "output_type": "stream",
     "text": [
      " 55%|███████████████████▊                | 22.000000000002984/40 [43:48<20:12, 67.37s/it]"
     ]
    },
    {
     "name": "stdout",
     "output_type": "stream",
     "text": [
      "\n",
      "Test Epoch: 82\tAccuracy: 254/976 (26%)\n",
      "\n"
     ]
    },
    {
     "name": "stderr",
     "output_type": "stream",
     "text": [
      " 55%|███████████████████▊                | 22.003278688527576/40 [43:48<24:57, 83.21s/it]"
     ]
    },
    {
     "name": "stdout",
     "output_type": "stream",
     "text": [
      "Train Epoch: 83 [0/3918 (0%)]\tLoss: nan\n",
      "Mem before-during-after: 30542848 3981884928 30543872\n"
     ]
    },
    {
     "name": "stderr",
     "output_type": "stream",
     "text": [
      " 55%|███████████████████▎               | 22.134426229511252/40 [44:06<43:09, 144.94s/it]"
     ]
    },
    {
     "name": "stdout",
     "output_type": "stream",
     "text": [
      "Train Epoch: 83 [640/3918 (16%)]\tLoss: nan\n",
      "Mem before-during-after: 30543872 3984327680 30543872\n"
     ]
    },
    {
     "name": "stderr",
     "output_type": "stream",
     "text": [
      " 56%|████████████████████                | 22.26885245901952/40 [44:24<34:40, 117.32s/it]"
     ]
    },
    {
     "name": "stdout",
     "output_type": "stream",
     "text": [
      "Train Epoch: 83 [1280/3918 (33%)]\tLoss: nan\n",
      "Mem before-during-after: 30543872 3986981888 30543872\n"
     ]
    },
    {
     "name": "stderr",
     "output_type": "stream",
     "text": [
      " 56%|███████████████████▌               | 22.396721311478604/40 [44:42<36:46, 125.37s/it]"
     ]
    },
    {
     "name": "stdout",
     "output_type": "stream",
     "text": [
      "Train Epoch: 83 [1920/3918 (49%)]\tLoss: nan\n",
      "Mem before-during-after: 31425536 3984652288 31425536\n"
     ]
    },
    {
     "name": "stderr",
     "output_type": "stream",
     "text": [
      " 56%|████████████████████▎               | 22.52786885246228/40 [45:00<37:56, 130.27s/it]"
     ]
    },
    {
     "name": "stdout",
     "output_type": "stream",
     "text": [
      "Train Epoch: 83 [2560/3918 (66%)]\tLoss: nan\n",
      "Mem before-during-after: 31425536 3983770624 30543872\n"
     ]
    },
    {
     "name": "stderr",
     "output_type": "stream",
     "text": [
      " 57%|███████████████████▊               | 22.659016393445956/40 [45:17<39:08, 135.44s/it]"
     ]
    },
    {
     "name": "stdout",
     "output_type": "stream",
     "text": [
      "Train Epoch: 83 [3200/3918 (82%)]\tLoss: nan\n",
      "Mem before-during-after: 30543872 3985218560 30543872\n"
     ]
    },
    {
     "name": "stderr",
     "output_type": "stream",
     "text": [
      " 57%|███████████████████▉               | 22.790163934429632/40 [45:35<38:50, 135.39s/it]"
     ]
    },
    {
     "name": "stdout",
     "output_type": "stream",
     "text": [
      "Train Epoch: 83 [3840/3918 (98%)]\tLoss: nan\n",
      "Mem before-during-after: 30543872 3900226560 30593024\n"
     ]
    },
    {
     "name": "stderr",
     "output_type": "stream",
     "text": [
      " 58%|████████████████████▋               | 23.000000000003514/40 [45:50<19:03, 67.24s/it]"
     ]
    },
    {
     "name": "stdout",
     "output_type": "stream",
     "text": [
      "\n",
      "Test Epoch: 83\tAccuracy: 254/976 (26%)\n",
      "\n"
     ]
    },
    {
     "name": "stderr",
     "output_type": "stream",
     "text": [
      " 58%|████████████████████▋               | 23.003278688528106/40 [45:50<23:35, 83.28s/it]"
     ]
    },
    {
     "name": "stdout",
     "output_type": "stream",
     "text": [
      "Train Epoch: 84 [0/3918 (0%)]\tLoss: nan\n",
      "Mem before-during-after: 30542848 3981884928 30543872\n"
     ]
    },
    {
     "name": "stderr",
     "output_type": "stream",
     "text": [
      " 58%|████████████████████▊               | 23.13442622951178/40 [46:08<40:15, 143.24s/it]"
     ]
    },
    {
     "name": "stdout",
     "output_type": "stream",
     "text": [
      "Train Epoch: 84 [640/3918 (16%)]\tLoss: nan\n",
      "Mem before-during-after: 31425536 3984652288 31425536\n"
     ]
    },
    {
     "name": "stderr",
     "output_type": "stream",
     "text": [
      " 58%|████████████████████▎              | 23.265573770495457/40 [46:26<41:28, 148.70s/it]"
     ]
    },
    {
     "name": "stdout",
     "output_type": "stream",
     "text": [
      "Train Epoch: 84 [1280/3918 (33%)]\tLoss: nan\n",
      "Mem before-during-after: 30543872 3980645888 30543872\n"
     ]
    },
    {
     "name": "stderr",
     "output_type": "stream",
     "text": [
      " 58%|████████████████████▍              | 23.396721311479133/40 [46:43<40:07, 144.99s/it]"
     ]
    },
    {
     "name": "stdout",
     "output_type": "stream",
     "text": [
      "Train Epoch: 84 [1920/3918 (49%)]\tLoss: nan\n",
      "Mem before-during-after: 30543872 3984884736 30543872\n"
     ]
    },
    {
     "name": "stderr",
     "output_type": "stream",
     "text": [
      " 59%|█████████████████████▏              | 23.52786885246281/40 [47:01<43:36, 158.81s/it]"
     ]
    },
    {
     "name": "stdout",
     "output_type": "stream",
     "text": [
      "Train Epoch: 84 [2560/3918 (66%)]\tLoss: nan\n",
      "Mem before-during-after: 31425536 3983770624 30543872\n"
     ]
    },
    {
     "name": "stderr",
     "output_type": "stream",
     "text": [
      " 59%|████████████████████▋              | 23.659016393446485/40 [47:18<31:28, 115.55s/it]"
     ]
    },
    {
     "name": "stdout",
     "output_type": "stream",
     "text": [
      "Train Epoch: 84 [3200/3918 (82%)]\tLoss: nan\n",
      "Mem before-during-after: 30543872 3983811584 30543872\n"
     ]
    },
    {
     "name": "stderr",
     "output_type": "stream",
     "text": [
      " 59%|█████████████████████▍              | 23.79016393443016/40 [47:36<39:09, 144.96s/it]"
     ]
    },
    {
     "name": "stdout",
     "output_type": "stream",
     "text": [
      "Train Epoch: 84 [3840/3918 (98%)]\tLoss: nan\n",
      "Mem before-during-after: 31425536 3984327680 30543872\n"
     ]
    },
    {
     "name": "stderr",
     "output_type": "stream",
     "text": [
      " 60%|█████████████████████▌              | 24.000000000004043/40 [47:51<23:35, 88.48s/it]"
     ]
    },
    {
     "name": "stdout",
     "output_type": "stream",
     "text": [
      "\n",
      "Test Epoch: 84\tAccuracy: 254/976 (26%)\n",
      "\n"
     ]
    },
    {
     "name": "stderr",
     "output_type": "stream",
     "text": [
      " 60%|█████████████████████▌              | 24.003278688528635/40 [47:51<25:51, 96.97s/it]"
     ]
    },
    {
     "name": "stdout",
     "output_type": "stream",
     "text": [
      "Train Epoch: 85 [0/3918 (0%)]\tLoss: nan\n",
      "Mem before-during-after: 30542848 3981884928 30543872\n"
     ]
    },
    {
     "name": "stderr",
     "output_type": "stream",
     "text": [
      " 60%|█████████████████████▋              | 24.13442622951231/40 [48:06<30:38, 115.85s/it]"
     ]
    },
    {
     "name": "stdout",
     "output_type": "stream",
     "text": [
      "Train Epoch: 85 [640/3918 (16%)]\tLoss: nan\n",
      "Mem before-during-after: 30543872 3983811584 30543872\n"
     ]
    },
    {
     "name": "stderr",
     "output_type": "stream",
     "text": [
      " 61%|█████████████████████▏             | 24.265573770495987/40 [48:24<37:42, 143.79s/it]"
     ]
    },
    {
     "name": "stdout",
     "output_type": "stream",
     "text": [
      "Train Epoch: 85 [1280/3918 (33%)]\tLoss: nan\n",
      "Mem before-during-after: 30543872 3984327680 30543872\n"
     ]
    },
    {
     "name": "stderr",
     "output_type": "stream",
     "text": [
      " 61%|█████████████████████▎             | 24.396721311479663/40 [48:43<35:58, 138.31s/it]"
     ]
    },
    {
     "name": "stdout",
     "output_type": "stream",
     "text": [
      "Train Epoch: 85 [1920/3918 (49%)]\tLoss: nan\n",
      "Mem before-during-after: 30543872 3855520256 30543872\n"
     ]
    },
    {
     "name": "stderr",
     "output_type": "stream",
     "text": [
      " 61%|██████████████████████              | 24.49508196721742/40 [48:57<30:59, 119.91s/it]\n",
      "\n",
      "KeyboardInterrupt\n",
      "\n"
     ]
    }
   ],
   "source": [
    "n_epoch = 10\n",
    "n_epoch2 = 50\n",
    "n_epoch3 = 40\n",
    "\n",
    "optimizer = optim.RAdam(model.parameters(), lr=0.00001)\n",
    "scheduler = optim.lr_scheduler.OneCycleLR(\n",
    "    optimizer, max_lr=0.02, pct_start=0.3,\n",
    "    steps_per_epoch=len(train_loader), epochs=n_epoch3)\n",
    "log_interval = 40\n",
    "pbar_update = 1 / (len(train_loader) + len(test_loader))\n",
    "model.to(device)\n",
    "with tqdm(total=n_epoch3) as pbar:\n",
    "    for epoch in range(1+n_epoch+n_epoch2, n_epoch3+n_epoch2 + n_epoch + 1):\n",
    "        train(model, epoch, log_interval, train_losses)\n",
    "        acc = test(model, epoch)\n",
    "        test_accuracy += [acc]\n",
    "        if acc > best_accuracy:\n",
    "            best_accuracy = acc\n",
    "            best_epoch = epoch\n",
    "            bmodel_path = f'{model_path_prefix}{epoch}epoch.pt'\n",
    "            torch.save(model.state_dict(), bmodel_path)\n",
    "            print(f'saved model: {bmodel_path}')\n",
    "        scheduler.step()"
   ]
  },
  {
   "cell_type": "code",
   "execution_count": 39,
   "id": "7ef77346-3959-4699-bc33-7e49754cd179",
   "metadata": {},
   "outputs": [
    {
     "data": {
      "text/plain": [
       "[<matplotlib.lines.Line2D at 0x7f15ad302640>]"
      ]
     },
     "execution_count": 39,
     "metadata": {},
     "output_type": "execute_result"
    },
    {
     "data": {
      "image/png": "[encoded data removed]",
      "text/plain": [
       "<Figure size 640x480 with 1 Axes>"
      ]
     },
     "metadata": {},
     "output_type": "display_data"
    }
   ],
   "source": [
    "plt.plot(train_losses)"
   ]
  },
  {
   "cell_type": "code",
   "execution_count": 40,
   "id": "c7cff889-2c4a-421e-a684-ebc23f9d4459",
   "metadata": {},
   "outputs": [
    {
     "data": {
      "text/plain": [
       "[<matplotlib.lines.Line2D at 0x7f15ad209250>]"
      ]
     },
     "execution_count": 40,
     "metadata": {},
     "output_type": "execute_result"
    },
    {
     "data": {
      "image/png": "[encoded data removed]",
      "text/plain": [
       "<Figure size 640x480 with 1 Axes>"
      ]
     },
     "metadata": {},
     "output_type": "display_data"
    }
   ],
   "source": [
    "plt.plot(test_accuracy)"
   ]
  },
  {
   "cell_type": "code",
   "execution_count": 41,
   "id": "734e4c6b-9019-405c-8c5c-04e46b288bcd",
   "metadata": {},
   "outputs": [],
   "source": [
    "checkpoint_path = f'../models_cremad4/cremad4_m14sinc_{epoch}epoch.ckpt'\n",
    "torch.save({\n",
    "    'epoch': epoch,\n",
    "    'model_state_dict': model.state_dict(),\n",
    "    'optimizer_state_dict': optimizer.state_dict(),\n",
    "    'loss': train_losses[-1],\n",
    "    'best_epoch': best_epoch,\n",
    "    'best_accuracy': best_accuracy,\n",
    "    'train_losses': train_losses,\n",
    "    'test_accuracy': test_accuracy,\n",
    "    'log_interval': log_interval,\n",
    "    }, checkpoint_path)"
   ]
  },
  {
   "cell_type": "code",
   "execution_count": 42,
   "id": "9257c9bf-6165-4342-90f6-bf0dcd932d7e",
   "metadata": {},
   "outputs": [
    {
     "data": {
      "text/plain": [
       "M13sinc(\n",
       "  (fe_blocks): FeBlocks(\n",
       "    (blocks): ModuleList(\n",
       "      (0-1): 2 x FrontEndBlock(\n",
       "        (block): ModuleDict(\n",
       "          (layer): FirConvLayer(\n",
       "            (conv_layer): ResidualConv1d(\n",
       "              (pad_layer): PadForConv()\n",
       "              (stride_layer): DownsampleLayer(\n",
       "                (pad_right): PadForConv()\n",
       "              )\n",
       "              (norm_layer): CustomNormLayer(\n",
       "                (layer): LocalResponseNorm(2, alpha=0.0001, beta=0.75, k=1.0)\n",
       "              )\n",
       "              (act): NLReLU()\n",
       "            )\n",
       "          )\n",
       "          (downsample): ResidualConv1d(\n",
       "            (pad_layer): PadForConv()\n",
       "            (stride_layer): DownsampleLayer(\n",
       "              (pad_right): PadForConv()\n",
       "            )\n",
       "            (norm_layer): CustomNormLayer(\n",
       "              (layer): LocalResponseNorm(2, alpha=0.0001, beta=0.75, k=1.0)\n",
       "            )\n",
       "            (act): NLReLU()\n",
       "          )\n",
       "        )\n",
       "      )\n",
       "    )\n",
       "  )\n",
       "  (cls_head): Classifier(\n",
       "    (blocks): ModuleList(\n",
       "      (0): Sequential(\n",
       "        (norm): LayerNorm((229,), eps=1e-05, elementwise_affine=True)\n",
       "        (layer): Linear(in_features=229, out_features=512, bias=True)\n",
       "      )\n",
       "      (1): Sequential(\n",
       "        (norm): LayerNorm((512,), eps=1e-05, elementwise_affine=True)\n",
       "        (layer): Linear(in_features=512, out_features=512, bias=True)\n",
       "      )\n",
       "    )\n",
       "    (act): LeakyReLU(negative_slope=0.01)\n",
       "    (output_layer): Linear(in_features=512, out_features=4, bias=True)\n",
       "  )\n",
       ")"
      ]
     },
     "execution_count": 42,
     "metadata": {},
     "output_type": "execute_result"
    }
   ],
   "source": [
    "model"
   ]
  },
  {
   "cell_type": "code",
   "execution_count": 43,
   "id": "47f16775-c281-4425-9218-07a3d657f68e",
   "metadata": {},
   "outputs": [],
   "source": [
    "from IConNet.visualizer import display_module"
   ]
  },
  {
   "cell_type": "code",
   "execution_count": 44,
   "id": "ac2cb8e3-03bf-4e5e-b68b-90ef391bbf5e",
   "metadata": {},
   "outputs": [
    {
     "name": "stderr",
     "output_type": "stream",
     "text": [
      "/home/linh/projects/IConNet/IConNet/conv/longconv.py:194: TracerWarning: Converting a tensor to a Python boolean might cause the trace to be incorrect. We can't record the data flow of Python values, so this value will be treated as a constant in the future. This means that the trace might not generalize to other inputs!\n",
      "  assert filters.shape[1] == self.in_channels\n",
      "/home/linh/projects/IConNet/IConNet/conv/pad.py:74: TracerWarning: Converting a tensor to a Python boolean might cause the trace to be incorrect. We can't record the data flow of Python values, so this value will be treated as a constant in the future. This means that the trace might not generalize to other inputs!\n",
      "  if residual <= 0:\n",
      "/home/linh/projects/IConNet/IConNet/conv/longconv.py:86: TracerWarning: Converting a tensor to a Python float might cause the trace to be incorrect. We can't record the data flow of Python values, so this value will be treated as a constant in the future. This means that the trace might not generalize to other inputs!\n",
      "  m = int(math.ceil(n/self.stride))\n"
     ]
    },
    {
     "name": "stdout",
     "output_type": "stream",
     "text": [
      "aten::mean %x : Float(1, 229, strides=[229, 1], requires_grad=1, device=cuda:0) = aten::mean(%1300, %1149, %1150, %1151) # /opt/anaconda3/envs/audio/lib/python3.9/site-packages/einops/_backends.py:247:0\n",
      "\n"
     ]
    },
    {
     "data": {
      "image/svg+xml": [
       "<?xml version=\"1.0\" encoding=\"UTF-8\" standalone=\"no\"?>\n",
       "<!DOCTYPE svg PUBLIC \"-//W3C//DTD SVG 1.1//EN\"\n",
       " \"http://www.w3.org/Graphics/SVG/1.1/DTD/svg11.dtd\">\n",
       "<!-- Generated by graphviz version 2.43.0 (0)\n",
       " -->\n",
       "<!-- Title: %3 Pages: 1 -->\n",
       "<svg width=\"169pt\" height=\"355pt\"\n",
       " viewBox=\"0.00 0.00 169.00 355.00\" xmlns=\"http://www.w3.org/2000/svg\" xmlns:xlink=\"http://www.w3.org/1999/xlink\">\n",
       "<g id=\"graph0\" class=\"graph\" transform=\"scale(1 1) rotate(0) translate(4 351)\">\n",
       "<title>%3</title>\n",
       "<polygon fill=\"white\" stroke=\"transparent\" points=\"-4,4 -4,-351 165,-351 165,4 -4,4\"/>\n",
       "<text text-anchor=\"middle\" x=\"80.5\" y=\"-331.8\" font-family=\"Times,serif\" font-size=\"14.00\">M13sinc</text>\n",
       "<!-- inp_x.1 -->\n",
       "<g id=\"node1\" class=\"node\">\n",
       "<title>inp_x.1</title>\n",
       "<ellipse fill=\"none\" stroke=\"black\" cx=\"80.5\" cy=\"-306\" rx=\"44.39\" ry=\"18\"/>\n",
       "<text text-anchor=\"middle\" x=\"80.5\" y=\"-302.3\" font-family=\"Times,serif\" font-size=\"14.00\">inp_x.1</text>\n",
       "</g>\n",
       "<!-- .1300 -->\n",
       "<g id=\"node2\" class=\"node\">\n",
       "<title>.1300</title>\n",
       "<polygon fill=\"none\" stroke=\"black\" points=\"161,-252 0,-252 0,-216 161,-216 161,-252\"/>\n",
       "<text text-anchor=\"middle\" x=\"80.5\" y=\"-230.3\" font-family=\"Times,serif\" font-size=\"14.00\">fe_blocks (FeBlocks)</text>\n",
       "</g>\n",
       "<!-- inp_x.1&#45;&gt;.1300 -->\n",
       "<g id=\"edge1\" class=\"edge\">\n",
       "<title>inp_x.1&#45;&gt;.1300</title>\n",
       "<path fill=\"none\" stroke=\"black\" d=\"M80.5,-287.7C80.5,-279.98 80.5,-270.71 80.5,-262.11\"/>\n",
       "<polygon fill=\"black\" stroke=\"black\" points=\"84,-262.1 80.5,-252.1 77,-262.1 84,-262.1\"/>\n",
       "</g>\n",
       "<!-- x -->\n",
       "<g id=\"node4\" class=\"node\">\n",
       "<title>x</title>\n",
       "<path fill=\"none\" stroke=\"black\" d=\"M96.5,-180C96.5,-180 64.5,-180 64.5,-180 58.5,-180 52.5,-174 52.5,-168 52.5,-168 52.5,-156 52.5,-156 52.5,-150 58.5,-144 64.5,-144 64.5,-144 96.5,-144 96.5,-144 102.5,-144 108.5,-150 108.5,-156 108.5,-156 108.5,-168 108.5,-168 108.5,-174 102.5,-180 96.5,-180\"/>\n",
       "<text text-anchor=\"middle\" x=\"80.5\" y=\"-158.3\" font-family=\"Times,serif\" font-size=\"14.00\">mean</text>\n",
       "</g>\n",
       "<!-- .1300&#45;&gt;x -->\n",
       "<g id=\"edge2\" class=\"edge\">\n",
       "<title>.1300&#45;&gt;x</title>\n",
       "<path fill=\"none\" stroke=\"black\" d=\"M80.5,-215.7C80.5,-207.98 80.5,-198.71 80.5,-190.11\"/>\n",
       "<polygon fill=\"black\" stroke=\"black\" points=\"84,-190.1 80.5,-180.1 77,-190.1 84,-190.1\"/>\n",
       "</g>\n",
       "<!-- .1301 -->\n",
       "<g id=\"node3\" class=\"node\">\n",
       "<title>.1301</title>\n",
       "<polygon fill=\"none\" stroke=\"black\" points=\"160,-108 1,-108 1,-72 160,-72 160,-108\"/>\n",
       "<text text-anchor=\"middle\" x=\"80.5\" y=\"-86.3\" font-family=\"Times,serif\" font-size=\"14.00\">cls_head (Classifier)</text>\n",
       "</g>\n",
       "<!-- out_0 -->\n",
       "<g id=\"node5\" class=\"node\">\n",
       "<title>out_0</title>\n",
       "<ellipse fill=\"none\" stroke=\"black\" cx=\"80.5\" cy=\"-18\" rx=\"36.29\" ry=\"18\"/>\n",
       "<text text-anchor=\"middle\" x=\"80.5\" y=\"-14.3\" font-family=\"Times,serif\" font-size=\"14.00\">out_0</text>\n",
       "</g>\n",
       "<!-- .1301&#45;&gt;out_0 -->\n",
       "<g id=\"edge4\" class=\"edge\">\n",
       "<title>.1301&#45;&gt;out_0</title>\n",
       "<path fill=\"none\" stroke=\"black\" d=\"M80.5,-71.7C80.5,-63.98 80.5,-54.71 80.5,-46.11\"/>\n",
       "<polygon fill=\"black\" stroke=\"black\" points=\"84,-46.1 80.5,-36.1 77,-46.1 84,-46.1\"/>\n",
       "</g>\n",
       "<!-- x&#45;&gt;.1301 -->\n",
       "<g id=\"edge3\" class=\"edge\">\n",
       "<title>x&#45;&gt;.1301</title>\n",
       "<path fill=\"none\" stroke=\"black\" d=\"M80.5,-143.7C80.5,-135.98 80.5,-126.71 80.5,-118.11\"/>\n",
       "<polygon fill=\"black\" stroke=\"black\" points=\"84,-118.1 80.5,-108.1 77,-118.1 84,-118.1\"/>\n",
       "</g>\n",
       "</g>\n",
       "</svg>\n"
      ],
      "text/plain": [
       "<graphviz.graphs.Digraph at 0x7f15ad0d0f70>"
      ]
     },
     "execution_count": 44,
     "metadata": {},
     "output_type": "execute_result"
    }
   ],
   "source": [
    "input_shape = (1,1,16000)\n",
    "best_model.to(device)\n",
    "input = torch.rand(input_shape).to(device)\n",
    "display_module(\n",
    "    model, input, \n",
    "    classes_to_visit={})"
   ]
  },
  {
   "cell_type": "code",
   "execution_count": 45,
   "id": "be1a8ea7-cc0a-41f7-9a86-240212e9f840",
   "metadata": {},
   "outputs": [
    {
     "name": "stderr",
     "output_type": "stream",
     "text": [
      "/home/linh/projects/IConNet/IConNet/conv/longconv.py:194: TracerWarning: Converting a tensor to a Python boolean might cause the trace to be incorrect. We can't record the data flow of Python values, so this value will be treated as a constant in the future. This means that the trace might not generalize to other inputs!\n",
      "  assert filters.shape[1] == self.in_channels\n",
      "/home/linh/projects/IConNet/IConNet/conv/pad.py:74: TracerWarning: Converting a tensor to a Python boolean might cause the trace to be incorrect. We can't record the data flow of Python values, so this value will be treated as a constant in the future. This means that the trace might not generalize to other inputs!\n",
      "  if residual <= 0:\n",
      "/home/linh/projects/IConNet/IConNet/conv/longconv.py:86: TracerWarning: Converting a tensor to a Python float might cause the trace to be incorrect. We can't record the data flow of Python values, so this value will be treated as a constant in the future. This means that the trace might not generalize to other inputs!\n",
      "  m = int(math.ceil(n/self.stride))\n"
     ]
    },
    {
     "name": "stdout",
     "output_type": "stream",
     "text": [
      "aten::mean %x : Float(1, 229, strides=[229, 1], requires_grad=1, device=cuda:0) = aten::mean(%1300, %1149, %1150, %1151) # /opt/anaconda3/envs/audio/lib/python3.9/site-packages/einops/_backends.py:247:0\n",
      "\n"
     ]
    },
    {
     "data": {
      "image/svg+xml": [
       "<?xml version=\"1.0\" encoding=\"UTF-8\" standalone=\"no\"?>\n",
       "<!DOCTYPE svg PUBLIC \"-//W3C//DTD SVG 1.1//EN\"\n",
       " \"http://www.w3.org/Graphics/SVG/1.1/DTD/svg11.dtd\">\n",
       "<!-- Generated by graphviz version 2.43.0 (0)\n",
       " -->\n",
       "<!-- Title: %3 Pages: 1 -->\n",
       "<svg width=\"396pt\" height=\"876pt\"\n",
       " viewBox=\"0.00 0.00 396.00 876.00\" xmlns=\"http://www.w3.org/2000/svg\" xmlns:xlink=\"http://www.w3.org/1999/xlink\">\n",
       "<g id=\"graph0\" class=\"graph\" transform=\"scale(1 1) rotate(0) translate(4 872)\">\n",
       "<title>%3</title>\n",
       "<polygon fill=\"white\" stroke=\"transparent\" points=\"-4,4 -4,-872 392,-872 392,4 -4,4\"/>\n",
       "<text text-anchor=\"middle\" x=\"194\" y=\"-852.8\" font-family=\"Times,serif\" font-size=\"14.00\">M13sinc</text>\n",
       "<g id=\"clust1\" class=\"cluster\">\n",
       "<title>cluster_.1300</title>\n",
       "<polygon fill=\"none\" stroke=\"black\" points=\"8,-208 8,-801 380,-801 380,-208 8,-208\"/>\n",
       "<text text-anchor=\"middle\" x=\"194\" y=\"-785.8\" font-family=\"Times,serif\" font-size=\"14.00\">fe_blocks (FeBlocks)</text>\n",
       "</g>\n",
       "<g id=\"clust2\" class=\"cluster\">\n",
       "<title>cluster_fe_blocks..8</title>\n",
       "<polygon fill=\"none\" stroke=\"black\" points=\"16,-507 16,-726 372,-726 372,-507 16,-507\"/>\n",
       "<text text-anchor=\"middle\" x=\"194\" y=\"-710.8\" font-family=\"Times,serif\" font-size=\"14.00\">fe_blocks.blocks.0 (FrontEndBlock)</text>\n",
       "</g>\n",
       "<g id=\"clust3\" class=\"cluster\">\n",
       "<title>cluster_fe_blocks..9</title>\n",
       "<polygon fill=\"none\" stroke=\"black\" points=\"16,-280 16,-499 372,-499 372,-280 16,-280\"/>\n",
       "<text text-anchor=\"middle\" x=\"194\" y=\"-483.8\" font-family=\"Times,serif\" font-size=\"14.00\">fe_blocks.blocks.1 (FrontEndBlock)</text>\n",
       "</g>\n",
       "<!-- inp_x.1 -->\n",
       "<g id=\"node1\" class=\"node\">\n",
       "<title>inp_x.1</title>\n",
       "<ellipse fill=\"none\" stroke=\"black\" cx=\"194\" cy=\"-827\" rx=\"44.39\" ry=\"18\"/>\n",
       "<text text-anchor=\"middle\" x=\"194\" y=\"-823.3\" font-family=\"Times,serif\" font-size=\"14.00\">inp_x.1</text>\n",
       "</g>\n",
       "<!-- fe_blocks.inp_x.1 -->\n",
       "<g id=\"node2\" class=\"node\">\n",
       "<title>fe_blocks.inp_x.1</title>\n",
       "<ellipse fill=\"none\" stroke=\"black\" cx=\"194\" cy=\"-752\" rx=\"89.08\" ry=\"18\"/>\n",
       "<text text-anchor=\"middle\" x=\"194\" y=\"-748.3\" font-family=\"Times,serif\" font-size=\"14.00\">fe_blocks.inp_x.1</text>\n",
       "</g>\n",
       "<!-- inp_x.1&#45;&gt;fe_blocks.inp_x.1 -->\n",
       "<g id=\"edge1\" class=\"edge\">\n",
       "<title>inp_x.1&#45;&gt;fe_blocks.inp_x.1</title>\n",
       "<path fill=\"none\" stroke=\"black\" d=\"M194,-808.7C194,-800.25 194,-789.87 194,-780.37\"/>\n",
       "<polygon fill=\"black\" stroke=\"black\" points=\"197.5,-780.18 194,-770.18 190.5,-780.18 197.5,-780.18\"/>\n",
       "</g>\n",
       "<!-- fe_blocks.blocks.0.inp_x.1 -->\n",
       "<g id=\"node3\" class=\"node\">\n",
       "<title>fe_blocks.blocks.0.inp_x.1</title>\n",
       "<ellipse fill=\"none\" stroke=\"black\" cx=\"194\" cy=\"-677\" rx=\"129.98\" ry=\"18\"/>\n",
       "<text text-anchor=\"middle\" x=\"194\" y=\"-673.3\" font-family=\"Times,serif\" font-size=\"14.00\">fe_blocks.blocks.0.inp_x.1</text>\n",
       "</g>\n",
       "<!-- fe_blocks.inp_x.1&#45;&gt;fe_blocks.blocks.0.inp_x.1 -->\n",
       "<g id=\"edge2\" class=\"edge\">\n",
       "<title>fe_blocks.inp_x.1&#45;&gt;fe_blocks.blocks.0.inp_x.1</title>\n",
       "<path fill=\"none\" stroke=\"black\" d=\"M194,-733.7C194,-725.25 194,-714.87 194,-705.37\"/>\n",
       "<polygon fill=\"black\" stroke=\"black\" points=\"197.5,-705.18 194,-695.18 190.5,-705.18 197.5,-705.18\"/>\n",
       "</g>\n",
       "<!-- fe_blocks.blocks.0..7 -->\n",
       "<g id=\"node4\" class=\"node\">\n",
       "<title>fe_blocks.blocks.0..7</title>\n",
       "<polygon fill=\"none\" stroke=\"black\" points=\"364,-623 24,-623 24,-587 364,-587 364,-623\"/>\n",
       "<text text-anchor=\"middle\" x=\"194\" y=\"-601.3\" font-family=\"Times,serif\" font-size=\"14.00\">fe_blocks.blocks.0.block.layer (FirConvLayer)</text>\n",
       "</g>\n",
       "<!-- fe_blocks.blocks.0.inp_x.1&#45;&gt;fe_blocks.blocks.0..7 -->\n",
       "<g id=\"edge3\" class=\"edge\">\n",
       "<title>fe_blocks.blocks.0.inp_x.1&#45;&gt;fe_blocks.blocks.0..7</title>\n",
       "<path fill=\"none\" stroke=\"black\" d=\"M194,-658.7C194,-650.98 194,-641.71 194,-633.11\"/>\n",
       "<polygon fill=\"black\" stroke=\"black\" points=\"197.5,-633.1 194,-623.1 190.5,-633.1 197.5,-633.1\"/>\n",
       "</g>\n",
       "<!-- fe_blocks.blocks.0.out_0 -->\n",
       "<g id=\"node5\" class=\"node\">\n",
       "<title>fe_blocks.blocks.0.out_0</title>\n",
       "<ellipse fill=\"none\" stroke=\"black\" cx=\"194\" cy=\"-533\" rx=\"122.38\" ry=\"18\"/>\n",
       "<text text-anchor=\"middle\" x=\"194\" y=\"-529.3\" font-family=\"Times,serif\" font-size=\"14.00\">fe_blocks.blocks.0.out_0</text>\n",
       "</g>\n",
       "<!-- fe_blocks.blocks.0..7&#45;&gt;fe_blocks.blocks.0.out_0 -->\n",
       "<g id=\"edge4\" class=\"edge\">\n",
       "<title>fe_blocks.blocks.0..7&#45;&gt;fe_blocks.blocks.0.out_0</title>\n",
       "<path fill=\"none\" stroke=\"black\" d=\"M194,-586.7C194,-578.98 194,-569.71 194,-561.11\"/>\n",
       "<polygon fill=\"black\" stroke=\"black\" points=\"197.5,-561.1 194,-551.1 190.5,-561.1 197.5,-561.1\"/>\n",
       "</g>\n",
       "<!-- fe_blocks.blocks.1.inp_1 -->\n",
       "<g id=\"node6\" class=\"node\">\n",
       "<title>fe_blocks.blocks.1.inp_1</title>\n",
       "<ellipse fill=\"none\" stroke=\"black\" cx=\"194\" cy=\"-450\" rx=\"122.38\" ry=\"18\"/>\n",
       "<text text-anchor=\"middle\" x=\"194\" y=\"-446.3\" font-family=\"Times,serif\" font-size=\"14.00\">fe_blocks.blocks.1.inp_1</text>\n",
       "</g>\n",
       "<!-- fe_blocks.blocks.0.out_0&#45;&gt;fe_blocks.blocks.1.inp_1 -->\n",
       "<g id=\"edge5\" class=\"edge\">\n",
       "<title>fe_blocks.blocks.0.out_0&#45;&gt;fe_blocks.blocks.1.inp_1</title>\n",
       "<path fill=\"none\" stroke=\"black\" d=\"M194,-514.82C194,-504.19 194,-490.31 194,-478.2\"/>\n",
       "<polygon fill=\"black\" stroke=\"black\" points=\"197.5,-478.15 194,-468.15 190.5,-478.15 197.5,-478.15\"/>\n",
       "</g>\n",
       "<!-- fe_blocks.blocks.1..7 -->\n",
       "<g id=\"node7\" class=\"node\">\n",
       "<title>fe_blocks.blocks.1..7</title>\n",
       "<polygon fill=\"none\" stroke=\"black\" points=\"364,-396 24,-396 24,-360 364,-360 364,-396\"/>\n",
       "<text text-anchor=\"middle\" x=\"194\" y=\"-374.3\" font-family=\"Times,serif\" font-size=\"14.00\">fe_blocks.blocks.1.block.layer (FirConvLayer)</text>\n",
       "</g>\n",
       "<!-- fe_blocks.blocks.1.inp_1&#45;&gt;fe_blocks.blocks.1..7 -->\n",
       "<g id=\"edge6\" class=\"edge\">\n",
       "<title>fe_blocks.blocks.1.inp_1&#45;&gt;fe_blocks.blocks.1..7</title>\n",
       "<path fill=\"none\" stroke=\"black\" d=\"M194,-431.7C194,-423.98 194,-414.71 194,-406.11\"/>\n",
       "<polygon fill=\"black\" stroke=\"black\" points=\"197.5,-406.1 194,-396.1 190.5,-406.1 197.5,-406.1\"/>\n",
       "</g>\n",
       "<!-- fe_blocks.blocks.1.out_0 -->\n",
       "<g id=\"node8\" class=\"node\">\n",
       "<title>fe_blocks.blocks.1.out_0</title>\n",
       "<ellipse fill=\"none\" stroke=\"black\" cx=\"194\" cy=\"-306\" rx=\"122.38\" ry=\"18\"/>\n",
       "<text text-anchor=\"middle\" x=\"194\" y=\"-302.3\" font-family=\"Times,serif\" font-size=\"14.00\">fe_blocks.blocks.1.out_0</text>\n",
       "</g>\n",
       "<!-- fe_blocks.blocks.1..7&#45;&gt;fe_blocks.blocks.1.out_0 -->\n",
       "<g id=\"edge7\" class=\"edge\">\n",
       "<title>fe_blocks.blocks.1..7&#45;&gt;fe_blocks.blocks.1.out_0</title>\n",
       "<path fill=\"none\" stroke=\"black\" d=\"M194,-359.7C194,-351.98 194,-342.71 194,-334.11\"/>\n",
       "<polygon fill=\"black\" stroke=\"black\" points=\"197.5,-334.1 194,-324.1 190.5,-334.1 197.5,-334.1\"/>\n",
       "</g>\n",
       "<!-- fe_blocks.out_0 -->\n",
       "<g id=\"node9\" class=\"node\">\n",
       "<title>fe_blocks.out_0</title>\n",
       "<ellipse fill=\"none\" stroke=\"black\" cx=\"194\" cy=\"-234\" rx=\"81.49\" ry=\"18\"/>\n",
       "<text text-anchor=\"middle\" x=\"194\" y=\"-230.3\" font-family=\"Times,serif\" font-size=\"14.00\">fe_blocks.out_0</text>\n",
       "</g>\n",
       "<!-- fe_blocks.blocks.1.out_0&#45;&gt;fe_blocks.out_0 -->\n",
       "<g id=\"edge8\" class=\"edge\">\n",
       "<title>fe_blocks.blocks.1.out_0&#45;&gt;fe_blocks.out_0</title>\n",
       "<path fill=\"none\" stroke=\"black\" d=\"M194,-287.7C194,-279.98 194,-270.71 194,-262.11\"/>\n",
       "<polygon fill=\"black\" stroke=\"black\" points=\"197.5,-262.1 194,-252.1 190.5,-262.1 197.5,-262.1\"/>\n",
       "</g>\n",
       "<!-- x -->\n",
       "<g id=\"node11\" class=\"node\">\n",
       "<title>x</title>\n",
       "<path fill=\"none\" stroke=\"black\" d=\"M210,-180C210,-180 178,-180 178,-180 172,-180 166,-174 166,-168 166,-168 166,-156 166,-156 166,-150 172,-144 178,-144 178,-144 210,-144 210,-144 216,-144 222,-150 222,-156 222,-156 222,-168 222,-168 222,-174 216,-180 210,-180\"/>\n",
       "<text text-anchor=\"middle\" x=\"194\" y=\"-158.3\" font-family=\"Times,serif\" font-size=\"14.00\">mean</text>\n",
       "</g>\n",
       "<!-- fe_blocks.out_0&#45;&gt;x -->\n",
       "<g id=\"edge9\" class=\"edge\">\n",
       "<title>fe_blocks.out_0&#45;&gt;x</title>\n",
       "<path fill=\"none\" stroke=\"black\" d=\"M194,-215.7C194,-207.98 194,-198.71 194,-190.11\"/>\n",
       "<polygon fill=\"black\" stroke=\"black\" points=\"197.5,-190.1 194,-180.1 190.5,-190.1 197.5,-190.1\"/>\n",
       "</g>\n",
       "<!-- .1301 -->\n",
       "<g id=\"node10\" class=\"node\">\n",
       "<title>.1301</title>\n",
       "<polygon fill=\"none\" stroke=\"black\" points=\"273.5,-108 114.5,-108 114.5,-72 273.5,-72 273.5,-108\"/>\n",
       "<text text-anchor=\"middle\" x=\"194\" y=\"-86.3\" font-family=\"Times,serif\" font-size=\"14.00\">cls_head (Classifier)</text>\n",
       "</g>\n",
       "<!-- out_0 -->\n",
       "<g id=\"node12\" class=\"node\">\n",
       "<title>out_0</title>\n",
       "<ellipse fill=\"none\" stroke=\"black\" cx=\"194\" cy=\"-18\" rx=\"36.29\" ry=\"18\"/>\n",
       "<text text-anchor=\"middle\" x=\"194\" y=\"-14.3\" font-family=\"Times,serif\" font-size=\"14.00\">out_0</text>\n",
       "</g>\n",
       "<!-- .1301&#45;&gt;out_0 -->\n",
       "<g id=\"edge11\" class=\"edge\">\n",
       "<title>.1301&#45;&gt;out_0</title>\n",
       "<path fill=\"none\" stroke=\"black\" d=\"M194,-71.7C194,-63.98 194,-54.71 194,-46.11\"/>\n",
       "<polygon fill=\"black\" stroke=\"black\" points=\"197.5,-46.1 194,-36.1 190.5,-46.1 197.5,-46.1\"/>\n",
       "</g>\n",
       "<!-- x&#45;&gt;.1301 -->\n",
       "<g id=\"edge10\" class=\"edge\">\n",
       "<title>x&#45;&gt;.1301</title>\n",
       "<path fill=\"none\" stroke=\"black\" d=\"M194,-143.7C194,-135.98 194,-126.71 194,-118.11\"/>\n",
       "<polygon fill=\"black\" stroke=\"black\" points=\"197.5,-118.1 194,-108.1 190.5,-118.1 197.5,-118.1\"/>\n",
       "</g>\n",
       "</g>\n",
       "</svg>\n"
      ],
      "text/plain": [
       "<graphviz.graphs.Digraph at 0x7f15ad16d310>"
      ]
     },
     "execution_count": 45,
     "metadata": {},
     "output_type": "execute_result"
    }
   ],
   "source": [
    "display_module(\n",
    "    best_model, input, \n",
    "    classes_to_visit={\"FeBlocks\", \"FrontEndBlock\"})"
   ]
  },
  {
   "cell_type": "code",
   "execution_count": 46,
   "id": "b65164af-8168-415d-a77c-ed9346e9d921",
   "metadata": {},
   "outputs": [
    {
     "name": "stderr",
     "output_type": "stream",
     "text": [
      "/home/linh/projects/IConNet/IConNet/conv/longconv.py:194: TracerWarning: Converting a tensor to a Python boolean might cause the trace to be incorrect. We can't record the data flow of Python values, so this value will be treated as a constant in the future. This means that the trace might not generalize to other inputs!\n",
      "  assert filters.shape[1] == self.in_channels\n",
      "/home/linh/projects/IConNet/IConNet/conv/pad.py:74: TracerWarning: Converting a tensor to a Python boolean might cause the trace to be incorrect. We can't record the data flow of Python values, so this value will be treated as a constant in the future. This means that the trace might not generalize to other inputs!\n",
      "  if residual <= 0:\n",
      "/home/linh/projects/IConNet/IConNet/conv/longconv.py:86: TracerWarning: Converting a tensor to a Python float might cause the trace to be incorrect. We can't record the data flow of Python values, so this value will be treated as a constant in the future. This means that the trace might not generalize to other inputs!\n",
      "  m = int(math.ceil(n/self.stride))\n"
     ]
    },
    {
     "name": "stdout",
     "output_type": "stream",
     "text": [
      "aten::mean %x : Float(1, 229, strides=[229, 1], requires_grad=1, device=cuda:0) = aten::mean(%1300, %1149, %1150, %1151) # /opt/anaconda3/envs/audio/lib/python3.9/site-packages/einops/_backends.py:247:0\n",
      "\n"
     ]
    },
    {
     "data": {
      "image/svg+xml": [
       "<?xml version=\"1.0\" encoding=\"UTF-8\" standalone=\"no\"?>\n",
       "<!DOCTYPE svg PUBLIC \"-//W3C//DTD SVG 1.1//EN\"\n",
       " \"http://www.w3.org/Graphics/SVG/1.1/DTD/svg11.dtd\">\n",
       "<!-- Generated by graphviz version 2.43.0 (0)\n",
       " -->\n",
       "<!-- Title: %3 Pages: 1 -->\n",
       "<svg width=\"396pt\" height=\"1239pt\"\n",
       " viewBox=\"0.00 0.00 396.00 1239.00\" xmlns=\"http://www.w3.org/2000/svg\" xmlns:xlink=\"http://www.w3.org/1999/xlink\">\n",
       "<g id=\"graph0\" class=\"graph\" transform=\"scale(1 1) rotate(0) translate(4 1235)\">\n",
       "<title>%3</title>\n",
       "<polygon fill=\"white\" stroke=\"transparent\" points=\"-4,4 -4,-1235 392,-1235 392,4 -4,4\"/>\n",
       "<text text-anchor=\"middle\" x=\"194\" y=\"-1215.8\" font-family=\"Times,serif\" font-size=\"14.00\">M13sinc</text>\n",
       "<g id=\"clust1\" class=\"cluster\">\n",
       "<title>cluster_.1300</title>\n",
       "<polygon fill=\"none\" stroke=\"black\" points=\"8,-571 8,-1164 380,-1164 380,-571 8,-571\"/>\n",
       "<text text-anchor=\"middle\" x=\"194\" y=\"-1148.8\" font-family=\"Times,serif\" font-size=\"14.00\">fe_blocks (FeBlocks)</text>\n",
       "</g>\n",
       "<g id=\"clust2\" class=\"cluster\">\n",
       "<title>cluster_fe_blocks..8</title>\n",
       "<polygon fill=\"none\" stroke=\"black\" points=\"16,-870 16,-1089 372,-1089 372,-870 16,-870\"/>\n",
       "<text text-anchor=\"middle\" x=\"194\" y=\"-1073.8\" font-family=\"Times,serif\" font-size=\"14.00\">fe_blocks.blocks.0 (FrontEndBlock)</text>\n",
       "</g>\n",
       "<g id=\"clust3\" class=\"cluster\">\n",
       "<title>cluster_fe_blocks..9</title>\n",
       "<polygon fill=\"none\" stroke=\"black\" points=\"16,-643 16,-862 372,-862 372,-643 16,-643\"/>\n",
       "<text text-anchor=\"middle\" x=\"194\" y=\"-846.8\" font-family=\"Times,serif\" font-size=\"14.00\">fe_blocks.blocks.1 (FrontEndBlock)</text>\n",
       "</g>\n",
       "<g id=\"clust4\" class=\"cluster\">\n",
       "<title>cluster_.1301</title>\n",
       "<polygon fill=\"none\" stroke=\"black\" points=\"70,-64 70,-499 318,-499 318,-64 70,-64\"/>\n",
       "<text text-anchor=\"middle\" x=\"194\" y=\"-483.8\" font-family=\"Times,serif\" font-size=\"14.00\">cls_head (Classifier)</text>\n",
       "</g>\n",
       "<!-- inp_x.1 -->\n",
       "<g id=\"node1\" class=\"node\">\n",
       "<title>inp_x.1</title>\n",
       "<ellipse fill=\"none\" stroke=\"black\" cx=\"194\" cy=\"-1190\" rx=\"44.39\" ry=\"18\"/>\n",
       "<text text-anchor=\"middle\" x=\"194\" y=\"-1186.3\" font-family=\"Times,serif\" font-size=\"14.00\">inp_x.1</text>\n",
       "</g>\n",
       "<!-- fe_blocks.inp_x.1 -->\n",
       "<g id=\"node2\" class=\"node\">\n",
       "<title>fe_blocks.inp_x.1</title>\n",
       "<ellipse fill=\"none\" stroke=\"black\" cx=\"194\" cy=\"-1115\" rx=\"89.08\" ry=\"18\"/>\n",
       "<text text-anchor=\"middle\" x=\"194\" y=\"-1111.3\" font-family=\"Times,serif\" font-size=\"14.00\">fe_blocks.inp_x.1</text>\n",
       "</g>\n",
       "<!-- inp_x.1&#45;&gt;fe_blocks.inp_x.1 -->\n",
       "<g id=\"edge1\" class=\"edge\">\n",
       "<title>inp_x.1&#45;&gt;fe_blocks.inp_x.1</title>\n",
       "<path fill=\"none\" stroke=\"black\" d=\"M194,-1171.7C194,-1163.25 194,-1152.87 194,-1143.37\"/>\n",
       "<polygon fill=\"black\" stroke=\"black\" points=\"197.5,-1143.18 194,-1133.18 190.5,-1143.18 197.5,-1143.18\"/>\n",
       "</g>\n",
       "<!-- fe_blocks.blocks.0.inp_x.1 -->\n",
       "<g id=\"node3\" class=\"node\">\n",
       "<title>fe_blocks.blocks.0.inp_x.1</title>\n",
       "<ellipse fill=\"none\" stroke=\"black\" cx=\"194\" cy=\"-1040\" rx=\"129.98\" ry=\"18\"/>\n",
       "<text text-anchor=\"middle\" x=\"194\" y=\"-1036.3\" font-family=\"Times,serif\" font-size=\"14.00\">fe_blocks.blocks.0.inp_x.1</text>\n",
       "</g>\n",
       "<!-- fe_blocks.inp_x.1&#45;&gt;fe_blocks.blocks.0.inp_x.1 -->\n",
       "<g id=\"edge2\" class=\"edge\">\n",
       "<title>fe_blocks.inp_x.1&#45;&gt;fe_blocks.blocks.0.inp_x.1</title>\n",
       "<path fill=\"none\" stroke=\"black\" d=\"M194,-1096.7C194,-1088.25 194,-1077.87 194,-1068.37\"/>\n",
       "<polygon fill=\"black\" stroke=\"black\" points=\"197.5,-1068.18 194,-1058.18 190.5,-1068.18 197.5,-1068.18\"/>\n",
       "</g>\n",
       "<!-- fe_blocks.blocks.0..7 -->\n",
       "<g id=\"node4\" class=\"node\">\n",
       "<title>fe_blocks.blocks.0..7</title>\n",
       "<polygon fill=\"none\" stroke=\"black\" points=\"364,-986 24,-986 24,-950 364,-950 364,-986\"/>\n",
       "<text text-anchor=\"middle\" x=\"194\" y=\"-964.3\" font-family=\"Times,serif\" font-size=\"14.00\">fe_blocks.blocks.0.block.layer (FirConvLayer)</text>\n",
       "</g>\n",
       "<!-- fe_blocks.blocks.0.inp_x.1&#45;&gt;fe_blocks.blocks.0..7 -->\n",
       "<g id=\"edge3\" class=\"edge\">\n",
       "<title>fe_blocks.blocks.0.inp_x.1&#45;&gt;fe_blocks.blocks.0..7</title>\n",
       "<path fill=\"none\" stroke=\"black\" d=\"M194,-1021.7C194,-1013.98 194,-1004.71 194,-996.11\"/>\n",
       "<polygon fill=\"black\" stroke=\"black\" points=\"197.5,-996.1 194,-986.1 190.5,-996.1 197.5,-996.1\"/>\n",
       "</g>\n",
       "<!-- fe_blocks.blocks.0.out_0 -->\n",
       "<g id=\"node5\" class=\"node\">\n",
       "<title>fe_blocks.blocks.0.out_0</title>\n",
       "<ellipse fill=\"none\" stroke=\"black\" cx=\"194\" cy=\"-896\" rx=\"122.38\" ry=\"18\"/>\n",
       "<text text-anchor=\"middle\" x=\"194\" y=\"-892.3\" font-family=\"Times,serif\" font-size=\"14.00\">fe_blocks.blocks.0.out_0</text>\n",
       "</g>\n",
       "<!-- fe_blocks.blocks.0..7&#45;&gt;fe_blocks.blocks.0.out_0 -->\n",
       "<g id=\"edge4\" class=\"edge\">\n",
       "<title>fe_blocks.blocks.0..7&#45;&gt;fe_blocks.blocks.0.out_0</title>\n",
       "<path fill=\"none\" stroke=\"black\" d=\"M194,-949.7C194,-941.98 194,-932.71 194,-924.11\"/>\n",
       "<polygon fill=\"black\" stroke=\"black\" points=\"197.5,-924.1 194,-914.1 190.5,-924.1 197.5,-924.1\"/>\n",
       "</g>\n",
       "<!-- fe_blocks.blocks.1.inp_1 -->\n",
       "<g id=\"node6\" class=\"node\">\n",
       "<title>fe_blocks.blocks.1.inp_1</title>\n",
       "<ellipse fill=\"none\" stroke=\"black\" cx=\"194\" cy=\"-813\" rx=\"122.38\" ry=\"18\"/>\n",
       "<text text-anchor=\"middle\" x=\"194\" y=\"-809.3\" font-family=\"Times,serif\" font-size=\"14.00\">fe_blocks.blocks.1.inp_1</text>\n",
       "</g>\n",
       "<!-- fe_blocks.blocks.0.out_0&#45;&gt;fe_blocks.blocks.1.inp_1 -->\n",
       "<g id=\"edge5\" class=\"edge\">\n",
       "<title>fe_blocks.blocks.0.out_0&#45;&gt;fe_blocks.blocks.1.inp_1</title>\n",
       "<path fill=\"none\" stroke=\"black\" d=\"M194,-877.82C194,-867.19 194,-853.31 194,-841.2\"/>\n",
       "<polygon fill=\"black\" stroke=\"black\" points=\"197.5,-841.15 194,-831.15 190.5,-841.15 197.5,-841.15\"/>\n",
       "</g>\n",
       "<!-- fe_blocks.blocks.1..7 -->\n",
       "<g id=\"node7\" class=\"node\">\n",
       "<title>fe_blocks.blocks.1..7</title>\n",
       "<polygon fill=\"none\" stroke=\"black\" points=\"364,-759 24,-759 24,-723 364,-723 364,-759\"/>\n",
       "<text text-anchor=\"middle\" x=\"194\" y=\"-737.3\" font-family=\"Times,serif\" font-size=\"14.00\">fe_blocks.blocks.1.block.layer (FirConvLayer)</text>\n",
       "</g>\n",
       "<!-- fe_blocks.blocks.1.inp_1&#45;&gt;fe_blocks.blocks.1..7 -->\n",
       "<g id=\"edge6\" class=\"edge\">\n",
       "<title>fe_blocks.blocks.1.inp_1&#45;&gt;fe_blocks.blocks.1..7</title>\n",
       "<path fill=\"none\" stroke=\"black\" d=\"M194,-794.7C194,-786.98 194,-777.71 194,-769.11\"/>\n",
       "<polygon fill=\"black\" stroke=\"black\" points=\"197.5,-769.1 194,-759.1 190.5,-769.1 197.5,-769.1\"/>\n",
       "</g>\n",
       "<!-- fe_blocks.blocks.1.out_0 -->\n",
       "<g id=\"node8\" class=\"node\">\n",
       "<title>fe_blocks.blocks.1.out_0</title>\n",
       "<ellipse fill=\"none\" stroke=\"black\" cx=\"194\" cy=\"-669\" rx=\"122.38\" ry=\"18\"/>\n",
       "<text text-anchor=\"middle\" x=\"194\" y=\"-665.3\" font-family=\"Times,serif\" font-size=\"14.00\">fe_blocks.blocks.1.out_0</text>\n",
       "</g>\n",
       "<!-- fe_blocks.blocks.1..7&#45;&gt;fe_blocks.blocks.1.out_0 -->\n",
       "<g id=\"edge7\" class=\"edge\">\n",
       "<title>fe_blocks.blocks.1..7&#45;&gt;fe_blocks.blocks.1.out_0</title>\n",
       "<path fill=\"none\" stroke=\"black\" d=\"M194,-722.7C194,-714.98 194,-705.71 194,-697.11\"/>\n",
       "<polygon fill=\"black\" stroke=\"black\" points=\"197.5,-697.1 194,-687.1 190.5,-697.1 197.5,-697.1\"/>\n",
       "</g>\n",
       "<!-- fe_blocks.out_0 -->\n",
       "<g id=\"node9\" class=\"node\">\n",
       "<title>fe_blocks.out_0</title>\n",
       "<ellipse fill=\"none\" stroke=\"black\" cx=\"194\" cy=\"-597\" rx=\"81.49\" ry=\"18\"/>\n",
       "<text text-anchor=\"middle\" x=\"194\" y=\"-593.3\" font-family=\"Times,serif\" font-size=\"14.00\">fe_blocks.out_0</text>\n",
       "</g>\n",
       "<!-- fe_blocks.blocks.1.out_0&#45;&gt;fe_blocks.out_0 -->\n",
       "<g id=\"edge8\" class=\"edge\">\n",
       "<title>fe_blocks.blocks.1.out_0&#45;&gt;fe_blocks.out_0</title>\n",
       "<path fill=\"none\" stroke=\"black\" d=\"M194,-650.7C194,-642.98 194,-633.71 194,-625.11\"/>\n",
       "<polygon fill=\"black\" stroke=\"black\" points=\"197.5,-625.1 194,-615.1 190.5,-625.1 197.5,-625.1\"/>\n",
       "</g>\n",
       "<!-- inp_cls_head.inp_x -->\n",
       "<g id=\"node10\" class=\"node\">\n",
       "<title>inp_cls_head.inp_x</title>\n",
       "<path fill=\"none\" stroke=\"black\" d=\"M210,-543C210,-543 178,-543 178,-543 172,-543 166,-537 166,-531 166,-531 166,-519 166,-519 166,-513 172,-507 178,-507 178,-507 210,-507 210,-507 216,-507 222,-513 222,-519 222,-519 222,-531 222,-531 222,-537 216,-543 210,-543\"/>\n",
       "<text text-anchor=\"middle\" x=\"194\" y=\"-521.3\" font-family=\"Times,serif\" font-size=\"14.00\">mean</text>\n",
       "</g>\n",
       "<!-- fe_blocks.out_0&#45;&gt;inp_cls_head.inp_x -->\n",
       "<g id=\"edge9\" class=\"edge\">\n",
       "<title>fe_blocks.out_0&#45;&gt;inp_cls_head.inp_x</title>\n",
       "<path fill=\"none\" stroke=\"black\" d=\"M194,-578.7C194,-570.98 194,-561.71 194,-553.11\"/>\n",
       "<polygon fill=\"black\" stroke=\"black\" points=\"197.5,-553.1 194,-543.1 190.5,-553.1 197.5,-553.1\"/>\n",
       "</g>\n",
       "<!-- cls_head.inp_x -->\n",
       "<g id=\"node11\" class=\"node\">\n",
       "<title>cls_head.inp_x</title>\n",
       "<ellipse fill=\"none\" stroke=\"black\" cx=\"194\" cy=\"-450\" rx=\"77.19\" ry=\"18\"/>\n",
       "<text text-anchor=\"middle\" x=\"194\" y=\"-446.3\" font-family=\"Times,serif\" font-size=\"14.00\">cls_head.inp_x</text>\n",
       "</g>\n",
       "<!-- inp_cls_head.inp_x&#45;&gt;cls_head.inp_x -->\n",
       "<g id=\"edge10\" class=\"edge\">\n",
       "<title>inp_cls_head.inp_x&#45;&gt;cls_head.inp_x</title>\n",
       "<path fill=\"none\" stroke=\"black\" d=\"M194,-506.7C194,-498.25 194,-487.87 194,-478.37\"/>\n",
       "<polygon fill=\"black\" stroke=\"black\" points=\"197.5,-478.18 194,-468.18 190.5,-478.18 197.5,-478.18\"/>\n",
       "</g>\n",
       "<!-- cls_head..18 -->\n",
       "<g id=\"node12\" class=\"node\">\n",
       "<title>cls_head..18</title>\n",
       "<polygon fill=\"none\" stroke=\"black\" points=\"310,-396 78,-396 78,-360 310,-360 310,-396\"/>\n",
       "<text text-anchor=\"middle\" x=\"194\" y=\"-374.3\" font-family=\"Times,serif\" font-size=\"14.00\">cls_head.blocks.0 (Sequential)</text>\n",
       "</g>\n",
       "<!-- cls_head.inp_x&#45;&gt;cls_head..18 -->\n",
       "<g id=\"edge11\" class=\"edge\">\n",
       "<title>cls_head.inp_x&#45;&gt;cls_head..18</title>\n",
       "<path fill=\"none\" stroke=\"black\" d=\"M194,-431.7C194,-423.98 194,-414.71 194,-406.11\"/>\n",
       "<polygon fill=\"black\" stroke=\"black\" points=\"197.5,-406.1 194,-396.1 190.5,-406.1 197.5,-406.1\"/>\n",
       "</g>\n",
       "<!-- cls_head..19 -->\n",
       "<g id=\"node13\" class=\"node\">\n",
       "<title>cls_head..19</title>\n",
       "<polygon fill=\"none\" stroke=\"black\" points=\"310,-324 78,-324 78,-288 310,-288 310,-324\"/>\n",
       "<text text-anchor=\"middle\" x=\"194\" y=\"-302.3\" font-family=\"Times,serif\" font-size=\"14.00\">cls_head.blocks.1 (Sequential)</text>\n",
       "</g>\n",
       "<!-- cls_head..18&#45;&gt;cls_head..19 -->\n",
       "<g id=\"edge12\" class=\"edge\">\n",
       "<title>cls_head..18&#45;&gt;cls_head..19</title>\n",
       "<path fill=\"none\" stroke=\"black\" d=\"M194,-359.7C194,-351.98 194,-342.71 194,-334.11\"/>\n",
       "<polygon fill=\"black\" stroke=\"black\" points=\"197.5,-334.1 194,-324.1 190.5,-334.1 197.5,-334.1\"/>\n",
       "</g>\n",
       "<!-- cls_head..20 -->\n",
       "<g id=\"node14\" class=\"node\">\n",
       "<title>cls_head..20</title>\n",
       "<polygon fill=\"none\" stroke=\"black\" points=\"294,-252 94,-252 94,-216 294,-216 294,-252\"/>\n",
       "<text text-anchor=\"middle\" x=\"194\" y=\"-230.3\" font-family=\"Times,serif\" font-size=\"14.00\">cls_head.act (LeakyReLU)</text>\n",
       "</g>\n",
       "<!-- cls_head..19&#45;&gt;cls_head..20 -->\n",
       "<g id=\"edge13\" class=\"edge\">\n",
       "<title>cls_head..19&#45;&gt;cls_head..20</title>\n",
       "<path fill=\"none\" stroke=\"black\" d=\"M194,-287.7C194,-279.98 194,-270.71 194,-262.11\"/>\n",
       "<polygon fill=\"black\" stroke=\"black\" points=\"197.5,-262.1 194,-252.1 190.5,-262.1 197.5,-262.1\"/>\n",
       "</g>\n",
       "<!-- cls_head..21 -->\n",
       "<g id=\"node15\" class=\"node\">\n",
       "<title>cls_head..21</title>\n",
       "<polygon fill=\"none\" stroke=\"black\" points=\"310.5,-180 77.5,-180 77.5,-144 310.5,-144 310.5,-180\"/>\n",
       "<text text-anchor=\"middle\" x=\"194\" y=\"-158.3\" font-family=\"Times,serif\" font-size=\"14.00\">cls_head.output_layer (Linear)</text>\n",
       "</g>\n",
       "<!-- cls_head..20&#45;&gt;cls_head..21 -->\n",
       "<g id=\"edge14\" class=\"edge\">\n",
       "<title>cls_head..20&#45;&gt;cls_head..21</title>\n",
       "<path fill=\"none\" stroke=\"black\" d=\"M194,-215.7C194,-207.98 194,-198.71 194,-190.11\"/>\n",
       "<polygon fill=\"black\" stroke=\"black\" points=\"197.5,-190.1 194,-180.1 190.5,-190.1 197.5,-190.1\"/>\n",
       "</g>\n",
       "<!-- cls_head.out_0 -->\n",
       "<g id=\"node16\" class=\"node\">\n",
       "<title>cls_head.out_0</title>\n",
       "<ellipse fill=\"none\" stroke=\"black\" cx=\"194\" cy=\"-90\" rx=\"78.79\" ry=\"18\"/>\n",
       "<text text-anchor=\"middle\" x=\"194\" y=\"-86.3\" font-family=\"Times,serif\" font-size=\"14.00\">cls_head.out_0</text>\n",
       "</g>\n",
       "<!-- cls_head..21&#45;&gt;cls_head.out_0 -->\n",
       "<g id=\"edge15\" class=\"edge\">\n",
       "<title>cls_head..21&#45;&gt;cls_head.out_0</title>\n",
       "<path fill=\"none\" stroke=\"black\" d=\"M194,-143.7C194,-135.98 194,-126.71 194,-118.11\"/>\n",
       "<polygon fill=\"black\" stroke=\"black\" points=\"197.5,-118.1 194,-108.1 190.5,-118.1 197.5,-118.1\"/>\n",
       "</g>\n",
       "<!-- out_0 -->\n",
       "<g id=\"node17\" class=\"node\">\n",
       "<title>out_0</title>\n",
       "<ellipse fill=\"none\" stroke=\"black\" cx=\"194\" cy=\"-18\" rx=\"36.29\" ry=\"18\"/>\n",
       "<text text-anchor=\"middle\" x=\"194\" y=\"-14.3\" font-family=\"Times,serif\" font-size=\"14.00\">out_0</text>\n",
       "</g>\n",
       "<!-- cls_head.out_0&#45;&gt;out_0 -->\n",
       "<g id=\"edge16\" class=\"edge\">\n",
       "<title>cls_head.out_0&#45;&gt;out_0</title>\n",
       "<path fill=\"none\" stroke=\"black\" d=\"M194,-71.7C194,-63.98 194,-54.71 194,-46.11\"/>\n",
       "<polygon fill=\"black\" stroke=\"black\" points=\"197.5,-46.1 194,-36.1 190.5,-46.1 197.5,-46.1\"/>\n",
       "</g>\n",
       "</g>\n",
       "</svg>\n"
      ],
      "text/plain": [
       "<graphviz.graphs.Digraph at 0x7f15ad1943d0>"
      ]
     },
     "execution_count": 46,
     "metadata": {},
     "output_type": "execute_result"
    }
   ],
   "source": [
    "display_module(\n",
    "    best_model, input, \n",
    "    classes_to_visit={\"FeBlocks\", \"FrontEndBlock\", \"Classifier\"})"
   ]
  },
  {
   "cell_type": "code",
   "execution_count": 50,
   "id": "8258f0ee-d602-44ee-a571-68c4e05fdca3",
   "metadata": {},
   "outputs": [
    {
     "data": {
      "image/png": "[encoded data removed]",
      "text/plain": [
       "<Figure size 1200x600 with 2 Axes>"
      ]
     },
     "metadata": {},
     "output_type": "display_data"
    }
   ],
   "source": [
    "from IConNet.visualizer import visualize_model\n",
    "\n",
    "layer = best_model.fe_blocks.blocks[0].block.layer\n",
    "\n",
    "filtviz = visualize_model.FilterVisualizer(\n",
    "    lowcut_bands = layer.lowcut_bands, \n",
    "    bandwidths = layer.bandwidths,\n",
    "    window_params = None, \n",
    "    window_length = 64,\n",
    "    sample_rate = sr\n",
    ")\n",
    "filtviz.visualize_bands()"
   ]
  },
  {
   "cell_type": "code",
   "execution_count": 51,
   "id": "303cf723-7a3f-4540-956b-1ebfcd2de6a2",
   "metadata": {},
   "outputs": [
    {
     "data": {
      "image/png": "[encoded data removed]",
      "text/plain": [
       "<Figure size 1200x600 with 2 Axes>"
      ]
     },
     "metadata": {},
     "output_type": "display_data"
    }
   ],
   "source": [
    "layer2 = best_model.fe_blocks.blocks[1].block.layer\n",
    "\n",
    "filtviz2 = visualize_model.FilterVisualizer(\n",
    "    lowcut_bands = layer2.lowcut_bands, \n",
    "    bandwidths = layer2.bandwidths,\n",
    "    window_params = None, \n",
    "    window_length = 64,\n",
    "    sample_rate = sr\n",
    ")\n",
    "filtviz2.visualize_bands()"
   ]
  },
  {
   "cell_type": "code",
   "execution_count": 52,
   "id": "ac037f0f-ebdf-4622-8a6d-bfca35ad7a95",
   "metadata": {},
   "outputs": [
    {
     "data": {
      "text/plain": [
       "19668"
      ]
     },
     "execution_count": 52,
     "metadata": {},
     "output_type": "execute_result"
    }
   ],
   "source": [
    "del model\n",
    "del best_model\n",
    "gc.collect()"
   ]
  },
  {
   "cell_type": "code",
   "execution_count": null,
   "id": "372a0fca-eeda-4e0a-87de-d7ef261644fa",
   "metadata": {},
   "outputs": [],
   "source": []
  }
 ],
 "metadata": {
  "kernelspec": {
   "display_name": "Python 3 (ipykernel)",
   "language": "python",
   "name": "python3"
  },
  "language_info": {
   "codemirror_mode": {
    "name": "ipython",
    "version": 3
   },
   "file_extension": ".py",
   "mimetype": "text/x-python",
   "name": "python",
   "nbconvert_exporter": "python",
   "pygments_lexer": "ipython3",
   "version": "3.9.18"
  }
 },
 "nbformat": 4,
 "nbformat_minor": 5
}
