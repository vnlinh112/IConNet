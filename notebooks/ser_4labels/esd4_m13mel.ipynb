{
 "cells": [
  {
   "cell_type": "code",
   "execution_count": 3,
   "id": "369f8a59-d3cc-45b7-bbe6-64fa252b9810",
   "metadata": {},
   "outputs": [
    {
     "name": "stdout",
     "output_type": "stream",
     "text": [
      "Fri Mar  1 14:23:25 2024       \n",
      "+-----------------------------------------------------------------------------+\n",
      "| NVIDIA-SMI 525.147.05   Driver Version: 525.147.05   CUDA Version: 12.0     |\n",
      "|-------------------------------+----------------------+----------------------+\n",
      "| GPU  Name        Persistence-M| Bus-Id        Disp.A | Volatile Uncorr. ECC |\n",
      "| Fan  Temp  Perf  Pwr:Usage/Cap|         Memory-Usage | GPU-Util  Compute M. |\n",
      "|                               |                      |               MIG M. |\n",
      "|===============================+======================+======================|\n",
      "|   0  NVIDIA GeForce ...  Off  | 00000000:2D:00.0  On |                  N/A |\n",
      "|  0%   47C    P8    18W / 170W |    325MiB / 12288MiB |      3%      Default |\n",
      "|                               |                      |                  N/A |\n",
      "+-------------------------------+----------------------+----------------------+\n",
      "                                                                               \n",
      "+-----------------------------------------------------------------------------+\n",
      "| Processes:                                                                  |\n",
      "|  GPU   GI   CI        PID   Type   Process name                  GPU Memory |\n",
      "|        ID   ID                                                   Usage      |\n",
      "|=============================================================================|\n",
      "|    0   N/A  N/A      6683      G   /usr/lib/xorg/Xorg                196MiB |\n",
      "|    0   N/A  N/A      6863      G   /usr/bin/gnome-shell               32MiB |\n",
      "|    0   N/A  N/A     55486      G   ...on=20240227-082615.934000       51MiB |\n",
      "|    0   N/A  N/A     55488      G   ...RendererForSitePerProcess       42MiB |\n",
      "+-----------------------------------------------------------------------------+\n"
     ]
    }
   ],
   "source": [
    "!nvidia-smi"
   ]
  },
  {
   "cell_type": "code",
   "execution_count": 4,
   "id": "081efcc4-6f8b-4a3c-aa42-098bae7af9e2",
   "metadata": {},
   "outputs": [
    {
     "name": "stdout",
     "output_type": "stream",
     "text": [
      "The autoreload extension is already loaded. To reload it, use:\n",
      "  %reload_ext autoreload\n"
     ]
    }
   ],
   "source": [
    "%load_ext autoreload\n",
    "%autoreload 2"
   ]
  },
  {
   "cell_type": "code",
   "execution_count": 5,
   "id": "38156aa5-ac38-4485-bc1a-1dae6d25f12e",
   "metadata": {},
   "outputs": [
    {
     "data": {
      "text/plain": [
       "'/home/bunny/projects/IConNet'"
      ]
     },
     "execution_count": 5,
     "metadata": {},
     "output_type": "execute_result"
    }
   ],
   "source": [
    "import os\n",
    "os.chdir('..')\n",
    "os.getcwd()"
   ]
  },
  {
   "cell_type": "code",
   "execution_count": 6,
   "id": "7d12836d-0cc1-420a-b29c-31b7950d4d74",
   "metadata": {},
   "outputs": [
    {
     "name": "stdout",
     "output_type": "stream",
     "text": [
      "cuda\n"
     ]
    }
   ],
   "source": [
    "os.environ[\"PYTORCH_CUDA_ALLOC_CONF\"] = \"max_split_size_mb:512\"\n",
    "import gc\n",
    "import torch\n",
    "import torch.nn as nn\n",
    "import torch.nn.functional as F\n",
    "import torch.optim as optim\n",
    "import sys\n",
    "device = torch.device(\"cuda\" if torch.cuda.is_available() else \"cpu\")\n",
    "print(device)"
   ]
  },
  {
   "cell_type": "code",
   "execution_count": 7,
   "id": "0b123705-8e87-4e02-bda0-f82a298edb73",
   "metadata": {},
   "outputs": [],
   "source": [
    "import numpy as np\n",
    "from tqdm import tqdm\n",
    "import matplotlib.pyplot as plt\n",
    "from sklearn.model_selection import train_test_split\n",
    "\n",
    "import warnings\n",
    "warnings.filterwarnings('ignore', category=FutureWarning)"
   ]
  },
  {
   "cell_type": "code",
   "execution_count": 8,
   "id": "e8a982c8-8a83-4092-94b7-07170f4a9950",
   "metadata": {},
   "outputs": [],
   "source": [
    "data_dir = '../data/esd/features_4balanced/'\n",
    "\n",
    "sr = 16000"
   ]
  },
  {
   "cell_type": "code",
   "execution_count": 9,
   "id": "82658a5a-d2af-4b0b-9d18-cad5851d75bf",
   "metadata": {},
   "outputs": [],
   "source": [
    "x_train = np.load(f'{data_dir}esd.audio16k.train.npy', allow_pickle=True)\n",
    "x_test = np.load(f'{data_dir}esd.audio16k.test.npy', allow_pickle=True)"
   ]
  },
  {
   "cell_type": "code",
   "execution_count": 10,
   "id": "2f530a33-b048-4fcd-b93e-bb4b94b34355",
   "metadata": {},
   "outputs": [],
   "source": [
    "y_train = np.load(f'{data_dir}esd.label_emotion.train.npy', allow_pickle=True)\n",
    "y_test = np.load(f'{data_dir}esd.label_emotion.test.npy', allow_pickle=True)"
   ]
  },
  {
   "cell_type": "code",
   "execution_count": 11,
   "id": "2d05e4e3-7a03-4f74-bc67-2551e0b1767c",
   "metadata": {},
   "outputs": [],
   "source": [
    "train_set = list(zip(x_train, y_train))\n",
    "test_set = list(zip(x_test, y_test))"
   ]
  },
  {
   "cell_type": "code",
   "execution_count": 12,
   "id": "f0081d3b-427a-4e12-bb60-2c31e291c09c",
   "metadata": {},
   "outputs": [],
   "source": [
    "labels = ['ang', 'neu', 'sad', 'hap']\n",
    "def label_to_index(word):\n",
    "    return labels.index(word[:3])\n",
    "\n",
    "def pad_sequence(batch):\n",
    "    # Make all tensor in a batch the same length by padding with zeros\n",
    "    batch = [item.t() for item in batch]\n",
    "    batch = torch.nn.utils.rnn.pad_sequence(\n",
    "        batch, batch_first=True, padding_value=0.)\n",
    "    return batch.permute(0, 2, 1)\n",
    "\n",
    "\n",
    "def collate_fn(batch, max_duration_in_second=4, sample_rate=sr):\n",
    "    tensors, targets = [], []\n",
    "\n",
    "    # Gather in lists, and encode labels as indices\n",
    "    for waveform, label in batch:\n",
    "        if max_duration_in_second is not None:\n",
    "            length = len(waveform)\n",
    "            max_length = sample_rate * max_duration_in_second\n",
    "            offset = max(0, (length - max_length) // 2)\n",
    "            waveform = waveform[offset: length-offset]\n",
    "        tensors += [torch.tensor(\n",
    "            np.array(waveform, dtype=float), \n",
    "            dtype=torch.float32)[None,:]]\n",
    "        targets += [torch.tensor(label_to_index(label), \n",
    "                                 dtype=torch.long)]\n",
    "\n",
    "    # Group the list of tensors into a batched tensor\n",
    "    tensors = pad_sequence(tensors)\n",
    "    targets = torch.stack(targets)\n",
    "\n",
    "    return tensors, targets\n",
    "\n",
    "batch_size = 16\n",
    "\n",
    "if device == \"cuda\":\n",
    "    num_workers = 1\n",
    "    pin_memory = True\n",
    "else:\n",
    "    num_workers = 0\n",
    "    pin_memory = False\n",
    "\n",
    "train_loader = torch.utils.data.DataLoader(\n",
    "    train_set,\n",
    "    batch_size=batch_size,\n",
    "    shuffle=True,\n",
    "    collate_fn=collate_fn,\n",
    "    num_workers=num_workers,\n",
    "    pin_memory=pin_memory, \n",
    "    drop_last=True\n",
    ")\n",
    "test_loader = torch.utils.data.DataLoader(\n",
    "    test_set,\n",
    "    batch_size=batch_size,\n",
    "    shuffle=False,\n",
    "    drop_last=True,\n",
    "    collate_fn=collate_fn,\n",
    "    num_workers=num_workers,\n",
    "    pin_memory=pin_memory\n",
    ")"
   ]
  },
  {
   "cell_type": "code",
   "execution_count": 13,
   "id": "7df1b402-569d-4f81-9a55-a1ed9219f659",
   "metadata": {},
   "outputs": [
    {
     "name": "stdout",
     "output_type": "stream",
     "text": [
      "{'name': 'M13mfcc', 'description': 'FirConv with fftconv', 'mfcc': {'n_mfcc': 40, 'n_fft': 512, 'hop_length': 128, 'n_mels': 64, 'sample_rate': 16000}, 'pooling': 'mean', 'cls': {'n_block': 2, 'n_hidden_dim': [512, 512], 'norm_type': 'LayerNorm'}}\n"
     ]
    },
    {
     "data": {
      "text/plain": [
       "M13mel(\n",
       "  (mfcc): MelSpectrogram(\n",
       "    (spectrogram): Spectrogram()\n",
       "    (mel_scale): MelScale()\n",
       "  )\n",
       "  (cls_head): Classifier(\n",
       "    (blocks): ModuleList(\n",
       "      (0): Sequential(\n",
       "        (norm): LayerNorm((64,), eps=1e-05, elementwise_affine=True)\n",
       "        (layer): Linear(in_features=64, out_features=512, bias=True)\n",
       "      )\n",
       "      (1): Sequential(\n",
       "        (norm): LayerNorm((512,), eps=1e-05, elementwise_affine=True)\n",
       "        (layer): Linear(in_features=512, out_features=512, bias=True)\n",
       "      )\n",
       "    )\n",
       "    (act): LeakyReLU(negative_slope=0.01)\n",
       "    (output_layer): Linear(in_features=512, out_features=4, bias=True)\n",
       "  )\n",
       ")"
      ]
     },
     "execution_count": 13,
     "metadata": {},
     "output_type": "execute_result"
    }
   ],
   "source": [
    "import traceback\n",
    "from IConNet.nn.model import M13mel as M13\n",
    "from omegaconf import OmegaConf as ocf\n",
    "\n",
    "model_config_path = 'config/model/m13mfcc.yaml'\n",
    "model_config = ocf.load(model_config_path)\n",
    "print(model_config)\n",
    "model = M13(config=model_config,\n",
    "           n_input=1, n_output=len(labels))\n",
    "model"
   ]
  },
  {
   "cell_type": "code",
   "execution_count": 14,
   "id": "49594e69-869c-4ea7-bfdc-e4981ec3c45a",
   "metadata": {},
   "outputs": [],
   "source": [
    "n_epoch = 10\n",
    "train_losses = []\n",
    "test_accuracy = []\n",
    "optimizer = optim.RAdam(model.parameters(), lr=0.001)\n",
    "scheduler = optim.lr_scheduler.OneCycleLR(\n",
    "    optimizer, max_lr=0.1,\n",
    "    steps_per_epoch=len(train_loader), epochs=n_epoch)"
   ]
  },
  {
   "cell_type": "code",
   "execution_count": 15,
   "id": "bad47e72-fe3b-4dfb-ae71-cfbde97e2c8e",
   "metadata": {},
   "outputs": [],
   "source": [
    "train_loader_length = len(train_loader.dataset)\n",
    "test_loader_length = len(test_loader.dataset)\n",
    "\n",
    "def train(model, epoch, log_interval, \n",
    "          train_losses=train_losses):\n",
    "    model.train()\n",
    "    for batch_idx, (data, target) in enumerate(train_loader):\n",
    "        try:\n",
    "            _mem_before = torch.cuda.memory_allocated()\n",
    "            data = data.to(device)\n",
    "            target = target.to(device)\n",
    "            output = model(data)\n",
    "            del data\n",
    "            gc.collect()\n",
    "            torch.cuda.empty_cache()\n",
    "            loss = F.cross_entropy(output.squeeze(), target)\n",
    "            _mem_during = torch.cuda.memory_allocated()\n",
    "            del target\n",
    "            gc.collect()\n",
    "            torch.cuda.empty_cache()\n",
    "            optimizer.zero_grad()\n",
    "            loss.backward()\n",
    "            nn.utils.clip_grad.clip_grad_norm_(\n",
    "                model.parameters(), 1.0)\n",
    "            optimizer.step()\n",
    "            _mem_after = torch.cuda.memory_allocated()\n",
    "            # print training stats\n",
    "            if batch_idx % log_interval == 0:\n",
    "                print(f\"Train Epoch: {epoch} [{batch_idx * batch_size}/{train_loader_length} ({100. * batch_idx / len(train_loader):.0f}%)]\\tLoss: {loss.item():.6f}\")\n",
    "                print(f'Mem before-during-after: {_mem_before} {_mem_during} {_mem_after}')\n",
    "            # update progress bar\n",
    "            pbar.update(pbar_update)\n",
    "            # record loss\n",
    "            train_losses.append(loss.item())\n",
    "        except Exception as e:\n",
    "            print(f'data: {data.shape} => output: {output.shape} | target: {target.shape}')\n",
    "            traceback.print_exc()\n",
    "\n",
    "@torch.no_grad\n",
    "def test(model, epoch, test_loader=test_loader, device=device):\n",
    "    model.eval()\n",
    "    correct = 0\n",
    "    total = 0\n",
    "    for data, target in test_loader:\n",
    "        total += len(target)\n",
    "        data = data.to(device)\n",
    "        target = target.to(device)\n",
    "        output = model(data).squeeze()\n",
    "        del data\n",
    "        gc.collect()\n",
    "        torch.cuda.empty_cache()\n",
    "        probs = F.softmax(output, dim=-1)\n",
    "        pred = probs.argmax(dim=-1)\n",
    "        correct += pred.eq(target).sum().item()\n",
    "        del target\n",
    "        gc.collect()\n",
    "        torch.cuda.empty_cache()\n",
    "        pbar.update(pbar_update)\n",
    "    acc = correct / test_loader_length\n",
    "    print(f\"\\nTest Epoch: {epoch}\\tAccuracy: {correct}/{total} ({100. * acc:.0f}%)\\n\")\n",
    "    return acc"
   ]
  },
  {
   "cell_type": "code",
   "execution_count": 16,
   "id": "07c82633-3b41-48aa-a423-5f2609646f51",
   "metadata": {
    "scrolled": true
   },
   "outputs": [
    {
     "name": "stderr",
     "output_type": "stream",
     "text": [
      "  0%|                                                                   | 0.001142857142857143/10 [00:01<3:25:13, 1231.49s/it]"
     ]
    },
    {
     "name": "stdout",
     "output_type": "stream",
     "text": [
      "Train Epoch: 1 [0/22400 (0%)]\tLoss: 1.500821\n",
      "Mem before-during-after: 1265664 9929216 21898752\n"
     ]
    },
    {
     "name": "stderr",
     "output_type": "stream",
     "text": [
      "  0%|▏                                                                     | 0.023999999999999983/10 [00:08<49:55, 300.27s/it]"
     ]
    },
    {
     "name": "stdout",
     "output_type": "stream",
     "text": [
      "Train Epoch: 1 [640/22400 (3%)]\tLoss: 1.261140\n",
      "Mem before-during-after: 21898752 22041600 21898752\n"
     ]
    },
    {
     "name": "stderr",
     "output_type": "stream",
     "text": [
      "  0%|▎                                                                     | 0.046857142857142785/10 [00:15<49:06, 296.03s/it]"
     ]
    },
    {
     "name": "stdout",
     "output_type": "stream",
     "text": [
      "Train Epoch: 1 [1280/22400 (6%)]\tLoss: 1.158203\n",
      "Mem before-during-after: 21898752 22041600 21898752\n"
     ]
    },
    {
     "name": "stderr",
     "output_type": "stream",
     "text": [
      "  1%|▍                                                                      | 0.06971428571428559/10 [00:22<49:34, 299.56s/it]"
     ]
    },
    {
     "name": "stdout",
     "output_type": "stream",
     "text": [
      "Train Epoch: 1 [1920/22400 (9%)]\tLoss: 1.121368\n",
      "Mem before-during-after: 21898752 22041600 21898752\n"
     ]
    },
    {
     "name": "stderr",
     "output_type": "stream",
     "text": [
      "  1%|▋                                                                      | 0.09257142857142839/10 [00:28<48:40, 294.81s/it]"
     ]
    },
    {
     "name": "stdout",
     "output_type": "stream",
     "text": [
      "Train Epoch: 1 [2560/22400 (11%)]\tLoss: 1.307369\n",
      "Mem before-during-after: 21898752 22041600 21898752\n"
     ]
    },
    {
     "name": "stderr",
     "output_type": "stream",
     "text": [
      "  1%|▊                                                                      | 0.11542857142857119/10 [00:35<49:28, 300.34s/it]"
     ]
    },
    {
     "name": "stdout",
     "output_type": "stream",
     "text": [
      "Train Epoch: 1 [3200/22400 (14%)]\tLoss: 0.966524\n",
      "Mem before-during-after: 21898752 22041600 21898752\n"
     ]
    },
    {
     "name": "stderr",
     "output_type": "stream",
     "text": [
      "  1%|▉                                                                      | 0.13828571428571432/10 [00:42<48:40, 296.13s/it]"
     ]
    },
    {
     "name": "stdout",
     "output_type": "stream",
     "text": [
      "Train Epoch: 1 [3840/22400 (17%)]\tLoss: 1.267084\n",
      "Mem before-during-after: 21898752 22041600 21898752\n"
     ]
    },
    {
     "name": "stderr",
     "output_type": "stream",
     "text": [
      "  2%|█▏                                                                     | 0.16114285714285767/10 [00:49<49:58, 304.72s/it]"
     ]
    },
    {
     "name": "stdout",
     "output_type": "stream",
     "text": [
      "Train Epoch: 1 [4480/22400 (20%)]\tLoss: 1.136781\n",
      "Mem before-during-after: 21898752 22041600 21898752\n"
     ]
    },
    {
     "name": "stderr",
     "output_type": "stream",
     "text": [
      "  2%|█▎                                                                     | 0.18400000000000102/10 [00:56<49:17, 301.31s/it]"
     ]
    },
    {
     "name": "stdout",
     "output_type": "stream",
     "text": [
      "Train Epoch: 1 [5120/22400 (23%)]\tLoss: 0.834885\n",
      "Mem before-during-after: 21898752 22041600 21898752\n"
     ]
    },
    {
     "name": "stderr",
     "output_type": "stream",
     "text": [
      "  2%|█▍                                                                     | 0.20685714285714438/10 [01:03<47:58, 293.95s/it]"
     ]
    },
    {
     "name": "stdout",
     "output_type": "stream",
     "text": [
      "Train Epoch: 1 [5760/22400 (26%)]\tLoss: 0.976670\n",
      "Mem before-during-after: 21898752 22041600 21898752\n"
     ]
    },
    {
     "name": "stderr",
     "output_type": "stream",
     "text": [
      "  2%|█▋                                                                     | 0.22971428571428773/10 [01:10<47:57, 294.50s/it]"
     ]
    },
    {
     "name": "stdout",
     "output_type": "stream",
     "text": [
      "Train Epoch: 1 [6400/22400 (29%)]\tLoss: 1.574221\n",
      "Mem before-during-after: 21898752 22041600 21898752\n"
     ]
    },
    {
     "name": "stderr",
     "output_type": "stream",
     "text": [
      "  3%|█▊                                                                     | 0.25257142857143094/10 [01:16<47:20, 291.45s/it]"
     ]
    },
    {
     "name": "stdout",
     "output_type": "stream",
     "text": [
      "Train Epoch: 1 [7040/22400 (31%)]\tLoss: 1.387433\n",
      "Mem before-during-after: 21898752 22041600 21898752\n"
     ]
    },
    {
     "name": "stderr",
     "output_type": "stream",
     "text": [
      "  3%|█▉                                                                      | 0.2754285714285732/10 [01:23<48:32, 299.45s/it]"
     ]
    },
    {
     "name": "stdout",
     "output_type": "stream",
     "text": [
      "Train Epoch: 1 [7680/22400 (34%)]\tLoss: 1.221596\n",
      "Mem before-during-after: 21898752 22041600 21898752\n"
     ]
    },
    {
     "name": "stderr",
     "output_type": "stream",
     "text": [
      "  3%|██                                                                     | 0.29828571428571543/10 [01:30<47:11, 291.86s/it]"
     ]
    },
    {
     "name": "stdout",
     "output_type": "stream",
     "text": [
      "Train Epoch: 1 [8320/22400 (37%)]\tLoss: 0.765532\n",
      "Mem before-during-after: 21898752 22041600 21898752\n"
     ]
    },
    {
     "name": "stderr",
     "output_type": "stream",
     "text": [
      "  3%|██▎                                                                     | 0.3211428571428577/10 [01:37<48:49, 302.68s/it]"
     ]
    },
    {
     "name": "stdout",
     "output_type": "stream",
     "text": [
      "Train Epoch: 1 [8960/22400 (40%)]\tLoss: 0.898065\n",
      "Mem before-during-after: 21898752 22041600 21898752\n"
     ]
    },
    {
     "name": "stderr",
     "output_type": "stream",
     "text": [
      "  3%|██▍                                                                     | 0.3439999999999999/10 [01:44<46:39, 289.96s/it]"
     ]
    },
    {
     "name": "stdout",
     "output_type": "stream",
     "text": [
      "Train Epoch: 1 [9600/22400 (43%)]\tLoss: 1.224065\n",
      "Mem before-during-after: 21898752 22041600 21898752\n"
     ]
    },
    {
     "name": "stderr",
     "output_type": "stream",
     "text": [
      "  4%|██▌                                                                    | 0.36685714285714216/10 [01:50<47:26, 295.52s/it]"
     ]
    },
    {
     "name": "stdout",
     "output_type": "stream",
     "text": [
      "Train Epoch: 1 [10240/22400 (46%)]\tLoss: 1.276649\n",
      "Mem before-during-after: 21898752 22041600 21898752\n"
     ]
    },
    {
     "name": "stderr",
     "output_type": "stream",
     "text": [
      "  4%|██▊                                                                     | 0.3897142857142844/10 [01:57<46:49, 292.36s/it]"
     ]
    },
    {
     "name": "stdout",
     "output_type": "stream",
     "text": [
      "Train Epoch: 1 [10880/22400 (49%)]\tLoss: 1.349641\n",
      "Mem before-during-after: 21898752 22041600 21898752\n"
     ]
    },
    {
     "name": "stderr",
     "output_type": "stream",
     "text": [
      "  4%|██▉                                                                    | 0.41257142857142665/10 [02:04<47:55, 299.97s/it]"
     ]
    },
    {
     "name": "stdout",
     "output_type": "stream",
     "text": [
      "Train Epoch: 1 [11520/22400 (51%)]\tLoss: 0.901645\n",
      "Mem before-during-after: 21898752 22041600 21898752\n"
     ]
    },
    {
     "name": "stderr",
     "output_type": "stream",
     "text": [
      "  4%|███▏                                                                    | 0.4354285714285689/10 [02:11<47:51, 300.19s/it]"
     ]
    },
    {
     "name": "stdout",
     "output_type": "stream",
     "text": [
      "Train Epoch: 1 [12160/22400 (54%)]\tLoss: 0.630003\n",
      "Mem before-during-after: 21898752 22041600 21898752\n"
     ]
    },
    {
     "name": "stderr",
     "output_type": "stream",
     "text": [
      "  5%|███▎                                                                   | 0.45828571428571113/10 [02:17<46:51, 294.63s/it]"
     ]
    },
    {
     "name": "stdout",
     "output_type": "stream",
     "text": [
      "Train Epoch: 1 [12800/22400 (57%)]\tLoss: 1.104058\n",
      "Mem before-during-after: 21898752 22041600 21898752\n"
     ]
    },
    {
     "name": "stderr",
     "output_type": "stream",
     "text": [
      "  5%|███▍                                                                    | 0.4811428571428534/10 [02:24<47:25, 298.92s/it]"
     ]
    },
    {
     "name": "stdout",
     "output_type": "stream",
     "text": [
      "Train Epoch: 1 [13440/22400 (60%)]\tLoss: 0.924523\n",
      "Mem before-during-after: 21898752 22041600 21898752\n"
     ]
    },
    {
     "name": "stderr",
     "output_type": "stream",
     "text": [
      "  5%|███▋                                                                    | 0.5039999999999957/10 [02:31<46:26, 293.49s/it]"
     ]
    },
    {
     "name": "stdout",
     "output_type": "stream",
     "text": [
      "Train Epoch: 1 [14080/22400 (63%)]\tLoss: 0.886730\n",
      "Mem before-during-after: 21898752 22041600 21898752\n"
     ]
    },
    {
     "name": "stderr",
     "output_type": "stream",
     "text": [
      "  5%|███▊                                                                    | 0.5268571428571379/10 [02:38<48:55, 309.83s/it]"
     ]
    },
    {
     "name": "stdout",
     "output_type": "stream",
     "text": [
      "Train Epoch: 1 [14720/22400 (66%)]\tLoss: 1.079029\n",
      "Mem before-during-after: 21898752 22041600 21898752\n"
     ]
    },
    {
     "name": "stderr",
     "output_type": "stream",
     "text": [
      "  5%|███▉                                                                    | 0.5497142857142802/10 [02:45<46:07, 292.82s/it]"
     ]
    },
    {
     "name": "stdout",
     "output_type": "stream",
     "text": [
      "Train Epoch: 1 [15360/22400 (69%)]\tLoss: 0.935834\n",
      "Mem before-during-after: 21898752 22041600 21898752\n"
     ]
    },
    {
     "name": "stderr",
     "output_type": "stream",
     "text": [
      "  6%|████                                                                    | 0.5725714285714224/10 [02:51<46:26, 295.59s/it]"
     ]
    },
    {
     "name": "stdout",
     "output_type": "stream",
     "text": [
      "Train Epoch: 1 [16000/22400 (71%)]\tLoss: 0.770513\n",
      "Mem before-during-after: 21898752 22041600 21898752\n"
     ]
    },
    {
     "name": "stderr",
     "output_type": "stream",
     "text": [
      "  6%|████▎                                                                   | 0.5954285714285646/10 [02:58<46:31, 296.87s/it]"
     ]
    },
    {
     "name": "stdout",
     "output_type": "stream",
     "text": [
      "Train Epoch: 1 [16640/22400 (74%)]\tLoss: 1.158395\n",
      "Mem before-during-after: 21898752 22041600 21898752\n"
     ]
    },
    {
     "name": "stderr",
     "output_type": "stream",
     "text": [
      "  6%|████▍                                                                   | 0.6182857142857069/10 [03:05<46:35, 298.00s/it]"
     ]
    },
    {
     "name": "stdout",
     "output_type": "stream",
     "text": [
      "Train Epoch: 1 [17280/22400 (77%)]\tLoss: 0.798745\n",
      "Mem before-during-after: 21898752 22041600 21898752\n"
     ]
    },
    {
     "name": "stderr",
     "output_type": "stream",
     "text": [
      "  6%|████▌                                                                   | 0.6411428571428491/10 [03:12<47:18, 303.31s/it]"
     ]
    },
    {
     "name": "stdout",
     "output_type": "stream",
     "text": [
      "Train Epoch: 1 [17920/22400 (80%)]\tLoss: 0.967188\n",
      "Mem before-during-after: 21898752 22041600 21898752\n"
     ]
    },
    {
     "name": "stderr",
     "output_type": "stream",
     "text": [
      "  7%|████▊                                                                   | 0.6639999999999914/10 [03:19<45:58, 295.42s/it]"
     ]
    },
    {
     "name": "stdout",
     "output_type": "stream",
     "text": [
      "Train Epoch: 1 [18560/22400 (83%)]\tLoss: 0.985820\n",
      "Mem before-during-after: 21898752 22041600 21898752\n"
     ]
    },
    {
     "name": "stderr",
     "output_type": "stream",
     "text": [
      "  7%|████▉                                                                   | 0.6868571428571336/10 [03:26<45:54, 295.75s/it]"
     ]
    },
    {
     "name": "stdout",
     "output_type": "stream",
     "text": [
      "Train Epoch: 1 [19200/22400 (86%)]\tLoss: 0.743146\n",
      "Mem before-during-after: 21898752 22041600 21898752\n"
     ]
    },
    {
     "name": "stderr",
     "output_type": "stream",
     "text": [
      "  7%|█████                                                                   | 0.7097142857142759/10 [03:32<45:31, 293.98s/it]"
     ]
    },
    {
     "name": "stdout",
     "output_type": "stream",
     "text": [
      "Train Epoch: 1 [19840/22400 (89%)]\tLoss: 1.045553\n",
      "Mem before-during-after: 21898752 22041600 21898752\n"
     ]
    },
    {
     "name": "stderr",
     "output_type": "stream",
     "text": [
      "  7%|█████▎                                                                  | 0.7325714285714181/10 [03:39<45:23, 293.89s/it]"
     ]
    },
    {
     "name": "stdout",
     "output_type": "stream",
     "text": [
      "Train Epoch: 1 [20480/22400 (91%)]\tLoss: 1.037033\n",
      "Mem before-during-after: 21898752 22041600 21898752\n"
     ]
    },
    {
     "name": "stderr",
     "output_type": "stream",
     "text": [
      "  8%|█████▍                                                                  | 0.7554285714285603/10 [03:46<45:30, 295.41s/it]"
     ]
    },
    {
     "name": "stdout",
     "output_type": "stream",
     "text": [
      "Train Epoch: 1 [21120/22400 (94%)]\tLoss: 0.883561\n",
      "Mem before-during-after: 21898752 22041600 21898752\n"
     ]
    },
    {
     "name": "stderr",
     "output_type": "stream",
     "text": [
      "  8%|█████▌                                                                  | 0.7782857142857026/10 [03:53<45:18, 294.84s/it]"
     ]
    },
    {
     "name": "stdout",
     "output_type": "stream",
     "text": [
      "Train Epoch: 1 [21760/22400 (97%)]\tLoss: 0.972253\n",
      "Mem before-during-after: 21898752 22041600 21898752\n"
     ]
    },
    {
     "name": "stderr",
     "output_type": "stream",
     "text": [
      " 10%|███████▎                                                                 | 1.000571428571411/10 [04:59<44:22, 295.82s/it]"
     ]
    },
    {
     "name": "stdout",
     "output_type": "stream",
     "text": [
      "\n",
      "Test Epoch: 1\tAccuracy: 1393/5600 (25%)\n",
      "\n",
      "Train Epoch: 2 [0/22400 (0%)]\tLoss: 0.823183\n",
      "Mem before-during-after: 21897728 22041600 21898752\n"
     ]
    },
    {
     "name": "stderr",
     "output_type": "stream",
     "text": [
      " 10%|███████▎                                                                | 1.0239999999999863/10 [05:06<43:29, 290.77s/it]"
     ]
    },
    {
     "name": "stdout",
     "output_type": "stream",
     "text": [
      "Train Epoch: 2 [640/22400 (3%)]\tLoss: 0.803271\n",
      "Mem before-during-after: 21898752 22041600 21898752\n"
     ]
    },
    {
     "name": "stderr",
     "output_type": "stream",
     "text": [
      " 10%|███████▋                                                                 | 1.046857142857133/10 [05:12<43:37, 292.31s/it]"
     ]
    },
    {
     "name": "stdout",
     "output_type": "stream",
     "text": [
      "Train Epoch: 2 [1280/22400 (6%)]\tLoss: 0.807656\n",
      "Mem before-during-after: 21898752 22041600 21898752\n"
     ]
    },
    {
     "name": "stderr",
     "output_type": "stream",
     "text": [
      " 11%|███████▋                                                                | 1.0697142857142796/10 [05:19<43:21, 291.34s/it]"
     ]
    },
    {
     "name": "stdout",
     "output_type": "stream",
     "text": [
      "Train Epoch: 2 [1920/22400 (9%)]\tLoss: 1.237314\n",
      "Mem before-during-after: 21898752 22041600 21898752\n"
     ]
    },
    {
     "name": "stderr",
     "output_type": "stream",
     "text": [
      " 11%|███████▊                                                                | 1.0925714285714263/10 [05:26<43:24, 292.36s/it]"
     ]
    },
    {
     "name": "stdout",
     "output_type": "stream",
     "text": [
      "Train Epoch: 2 [2560/22400 (11%)]\tLoss: 1.673346\n",
      "Mem before-during-after: 21898752 22041600 21898752\n"
     ]
    },
    {
     "name": "stderr",
     "output_type": "stream",
     "text": [
      " 11%|████████▏                                                                | 1.115428571428573/10 [05:33<43:29, 293.66s/it]"
     ]
    },
    {
     "name": "stdout",
     "output_type": "stream",
     "text": [
      "Train Epoch: 2 [3200/22400 (14%)]\tLoss: 0.746015\n",
      "Mem before-during-after: 21898752 22041600 21898752\n"
     ]
    },
    {
     "name": "stderr",
     "output_type": "stream",
     "text": [
      " 11%|████████▏                                                               | 1.1382857142857197/10 [05:39<43:30, 294.60s/it]"
     ]
    },
    {
     "name": "stdout",
     "output_type": "stream",
     "text": [
      "Train Epoch: 2 [3840/22400 (17%)]\tLoss: 0.936379\n",
      "Mem before-during-after: 21898752 22041600 21898752\n"
     ]
    },
    {
     "name": "stderr",
     "output_type": "stream",
     "text": [
      " 12%|████████▎                                                               | 1.1611428571428664/10 [05:46<48:21, 328.22s/it]"
     ]
    },
    {
     "name": "stdout",
     "output_type": "stream",
     "text": [
      "Train Epoch: 2 [4480/22400 (20%)]\tLoss: 0.956597\n",
      "Mem before-during-after: 21898752 22041600 21898752\n"
     ]
    },
    {
     "name": "stderr",
     "output_type": "stream",
     "text": [
      " 12%|████████▋                                                                | 1.184000000000013/10 [05:53<43:54, 298.89s/it]"
     ]
    },
    {
     "name": "stdout",
     "output_type": "stream",
     "text": [
      "Train Epoch: 2 [5120/22400 (23%)]\tLoss: 0.866547\n",
      "Mem before-during-after: 21898752 22041600 21898752\n"
     ]
    },
    {
     "name": "stderr",
     "output_type": "stream",
     "text": [
      " 12%|████████▋                                                               | 1.2068571428571597/10 [06:00<43:38, 297.84s/it]"
     ]
    },
    {
     "name": "stdout",
     "output_type": "stream",
     "text": [
      "Train Epoch: 2 [5760/22400 (26%)]\tLoss: 0.932550\n",
      "Mem before-during-after: 21898752 22041600 21898752\n"
     ]
    },
    {
     "name": "stderr",
     "output_type": "stream",
     "text": [
      " 12%|████████▊                                                               | 1.2297142857143064/10 [06:07<42:57, 293.87s/it]"
     ]
    },
    {
     "name": "stdout",
     "output_type": "stream",
     "text": [
      "Train Epoch: 2 [6400/22400 (29%)]\tLoss: 0.875354\n",
      "Mem before-during-after: 21898752 22041600 21898752\n"
     ]
    },
    {
     "name": "stderr",
     "output_type": "stream",
     "text": [
      " 13%|█████████▏                                                               | 1.252571428571453/10 [06:14<42:40, 292.69s/it]"
     ]
    },
    {
     "name": "stdout",
     "output_type": "stream",
     "text": [
      "Train Epoch: 2 [7040/22400 (31%)]\tLoss: 1.735060\n",
      "Mem before-during-after: 21898752 22041600 21898752\n"
     ]
    },
    {
     "name": "stderr",
     "output_type": "stream",
     "text": [
      " 13%|█████████▏                                                              | 1.2754285714285998/10 [06:21<43:05, 296.35s/it]"
     ]
    },
    {
     "name": "stdout",
     "output_type": "stream",
     "text": [
      "Train Epoch: 2 [7680/22400 (34%)]\tLoss: 0.865586\n",
      "Mem before-during-after: 21898752 22041600 21898752\n"
     ]
    },
    {
     "name": "stderr",
     "output_type": "stream",
     "text": [
      " 13%|█████████▎                                                              | 1.2982857142857465/10 [06:27<43:35, 300.58s/it]"
     ]
    },
    {
     "name": "stdout",
     "output_type": "stream",
     "text": [
      "Train Epoch: 2 [8320/22400 (37%)]\tLoss: 0.682361\n",
      "Mem before-during-after: 21898752 22041600 21898752\n"
     ]
    },
    {
     "name": "stderr",
     "output_type": "stream",
     "text": [
      " 13%|█████████▌                                                              | 1.3211428571428931/10 [06:34<44:17, 306.24s/it]"
     ]
    },
    {
     "name": "stdout",
     "output_type": "stream",
     "text": [
      "Train Epoch: 2 [8960/22400 (40%)]\tLoss: 1.292965\n",
      "Mem before-during-after: 21898752 22041600 21898752\n"
     ]
    },
    {
     "name": "stderr",
     "output_type": "stream",
     "text": [
      " 13%|█████████▋                                                              | 1.3440000000000398/10 [06:41<43:10, 299.31s/it]"
     ]
    },
    {
     "name": "stdout",
     "output_type": "stream",
     "text": [
      "Train Epoch: 2 [9600/22400 (43%)]\tLoss: 0.812702\n",
      "Mem before-during-after: 21898752 22041600 21898752\n"
     ]
    },
    {
     "name": "stderr",
     "output_type": "stream",
     "text": [
      " 14%|█████████▊                                                              | 1.3668571428571865/10 [06:48<42:59, 298.84s/it]"
     ]
    },
    {
     "name": "stdout",
     "output_type": "stream",
     "text": [
      "Train Epoch: 2 [10240/22400 (46%)]\tLoss: 0.982791\n",
      "Mem before-during-after: 21898752 22041600 21898752\n"
     ]
    },
    {
     "name": "stderr",
     "output_type": "stream",
     "text": [
      " 14%|██████████                                                              | 1.3897142857143332/10 [06:55<43:24, 302.45s/it]"
     ]
    },
    {
     "name": "stdout",
     "output_type": "stream",
     "text": [
      "Train Epoch: 2 [10880/22400 (49%)]\tLoss: 1.107137\n",
      "Mem before-during-after: 21898752 22041600 21898752\n"
     ]
    },
    {
     "name": "stderr",
     "output_type": "stream",
     "text": [
      " 14%|██████████▏                                                             | 1.4125714285714799/10 [07:02<42:23, 296.24s/it]"
     ]
    },
    {
     "name": "stdout",
     "output_type": "stream",
     "text": [
      "Train Epoch: 2 [11520/22400 (51%)]\tLoss: 1.515078\n",
      "Mem before-during-after: 21898752 22041600 21898752\n"
     ]
    },
    {
     "name": "stderr",
     "output_type": "stream",
     "text": [
      " 14%|██████████▎                                                             | 1.4354285714286266/10 [07:09<42:54, 300.57s/it]"
     ]
    },
    {
     "name": "stdout",
     "output_type": "stream",
     "text": [
      "Train Epoch: 2 [12160/22400 (54%)]\tLoss: 0.786135\n",
      "Mem before-during-after: 21898752 22041600 21898752\n"
     ]
    },
    {
     "name": "stderr",
     "output_type": "stream",
     "text": [
      " 15%|██████████▍                                                             | 1.4582857142857732/10 [07:16<43:03, 302.52s/it]"
     ]
    },
    {
     "name": "stdout",
     "output_type": "stream",
     "text": [
      "Train Epoch: 2 [12800/22400 (57%)]\tLoss: 0.676352\n",
      "Mem before-during-after: 21898752 22041600 21898752\n"
     ]
    },
    {
     "name": "stderr",
     "output_type": "stream",
     "text": [
      " 15%|██████████▉                                                               | 1.48114285714292/10 [07:23<42:29, 299.32s/it]"
     ]
    },
    {
     "name": "stdout",
     "output_type": "stream",
     "text": [
      "Train Epoch: 2 [13440/22400 (60%)]\tLoss: 1.077518\n",
      "Mem before-during-after: 21898752 22041600 21898752\n"
     ]
    },
    {
     "name": "stderr",
     "output_type": "stream",
     "text": [
      " 15%|██████████▊                                                             | 1.5040000000000666/10 [07:29<42:05, 297.26s/it]"
     ]
    },
    {
     "name": "stdout",
     "output_type": "stream",
     "text": [
      "Train Epoch: 2 [14080/22400 (63%)]\tLoss: 0.829451\n",
      "Mem before-during-after: 21898752 22041600 21898752\n"
     ]
    },
    {
     "name": "stderr",
     "output_type": "stream",
     "text": [
      " 15%|██████████▉                                                             | 1.5268571428572133/10 [07:36<42:06, 298.14s/it]"
     ]
    },
    {
     "name": "stdout",
     "output_type": "stream",
     "text": [
      "Train Epoch: 2 [14720/22400 (66%)]\tLoss: 0.986999\n",
      "Mem before-during-after: 21898752 22041600 21898752\n"
     ]
    },
    {
     "name": "stderr",
     "output_type": "stream",
     "text": [
      " 15%|███████████▍                                                              | 1.54971428571436/10 [07:43<42:24, 301.11s/it]"
     ]
    },
    {
     "name": "stdout",
     "output_type": "stream",
     "text": [
      "Train Epoch: 2 [15360/22400 (69%)]\tLoss: 0.814622\n",
      "Mem before-during-after: 21898752 22041600 21898752\n"
     ]
    },
    {
     "name": "stderr",
     "output_type": "stream",
     "text": [
      " 16%|███████████▎                                                            | 1.5725714285715067/10 [07:50<42:13, 300.64s/it]"
     ]
    },
    {
     "name": "stdout",
     "output_type": "stream",
     "text": [
      "Train Epoch: 2 [16000/22400 (71%)]\tLoss: 1.320658\n",
      "Mem before-during-after: 21898752 22041600 21898752\n"
     ]
    },
    {
     "name": "stderr",
     "output_type": "stream",
     "text": [
      " 16%|███████████▍                                                            | 1.5954285714286534/10 [07:57<41:40, 297.54s/it]"
     ]
    },
    {
     "name": "stdout",
     "output_type": "stream",
     "text": [
      "Train Epoch: 2 [16640/22400 (74%)]\tLoss: 1.068265\n",
      "Mem before-during-after: 21898752 22041600 21898752\n"
     ]
    },
    {
     "name": "stderr",
     "output_type": "stream",
     "text": [
      " 16%|████████████▏                                                              | 1.6182857142858/10 [08:04<41:10, 294.70s/it]"
     ]
    },
    {
     "name": "stdout",
     "output_type": "stream",
     "text": [
      "Train Epoch: 2 [17280/22400 (77%)]\tLoss: 1.057439\n",
      "Mem before-during-after: 21898752 22041600 21898752\n"
     ]
    },
    {
     "name": "stderr",
     "output_type": "stream",
     "text": [
      " 16%|███████████▊                                                            | 1.6411428571429467/10 [08:10<41:23, 297.10s/it]"
     ]
    },
    {
     "name": "stdout",
     "output_type": "stream",
     "text": [
      "Train Epoch: 2 [17920/22400 (80%)]\tLoss: 0.667628\n",
      "Mem before-during-after: 21898752 22041600 21898752\n"
     ]
    },
    {
     "name": "stderr",
     "output_type": "stream",
     "text": [
      " 17%|███████████▉                                                            | 1.6640000000000934/10 [08:17<41:13, 296.74s/it]"
     ]
    },
    {
     "name": "stdout",
     "output_type": "stream",
     "text": [
      "Train Epoch: 2 [18560/22400 (83%)]\tLoss: 0.820966\n",
      "Mem before-during-after: 21898752 22041600 21898752\n"
     ]
    },
    {
     "name": "stderr",
     "output_type": "stream",
     "text": [
      " 17%|████████████▍                                                             | 1.68685714285724/10 [08:24<40:59, 295.85s/it]"
     ]
    },
    {
     "name": "stdout",
     "output_type": "stream",
     "text": [
      "Train Epoch: 2 [19200/22400 (86%)]\tLoss: 0.889832\n",
      "Mem before-during-after: 21898752 22041600 21898752\n"
     ]
    },
    {
     "name": "stderr",
     "output_type": "stream",
     "text": [
      " 17%|████████████▎                                                           | 1.7097142857143868/10 [08:31<40:29, 293.05s/it]"
     ]
    },
    {
     "name": "stdout",
     "output_type": "stream",
     "text": [
      "Train Epoch: 2 [19840/22400 (89%)]\tLoss: 1.140317\n",
      "Mem before-during-after: 21898752 22041600 21898752\n"
     ]
    },
    {
     "name": "stderr",
     "output_type": "stream",
     "text": [
      " 17%|████████████▍                                                           | 1.7325714285715335/10 [08:37<41:03, 298.02s/it]"
     ]
    },
    {
     "name": "stdout",
     "output_type": "stream",
     "text": [
      "Train Epoch: 2 [20480/22400 (91%)]\tLoss: 0.470868\n",
      "Mem before-during-after: 21898752 22041600 21898752\n"
     ]
    },
    {
     "name": "stderr",
     "output_type": "stream",
     "text": [
      " 18%|████████████▋                                                           | 1.7554285714286801/10 [08:44<40:07, 292.06s/it]"
     ]
    },
    {
     "name": "stdout",
     "output_type": "stream",
     "text": [
      "Train Epoch: 2 [21120/22400 (94%)]\tLoss: 1.106437\n",
      "Mem before-during-after: 21898752 22041600 21898752\n"
     ]
    },
    {
     "name": "stderr",
     "output_type": "stream",
     "text": [
      " 18%|████████████▊                                                           | 1.7782857142858268/10 [08:51<40:13, 293.52s/it]"
     ]
    },
    {
     "name": "stdout",
     "output_type": "stream",
     "text": [
      "Train Epoch: 2 [21760/22400 (97%)]\tLoss: 0.733267\n",
      "Mem before-during-after: 21898752 22041600 21898752\n"
     ]
    },
    {
     "name": "stderr",
     "output_type": "stream",
     "text": [
      " 20%|██████████████▌                                                          | 2.000571428571578/10 [09:56<39:20, 295.10s/it]"
     ]
    },
    {
     "name": "stdout",
     "output_type": "stream",
     "text": [
      "\n",
      "Test Epoch: 2\tAccuracy: 1397/5600 (25%)\n",
      "\n",
      "Train Epoch: 3 [0/22400 (0%)]\tLoss: 1.002842\n",
      "Mem before-during-after: 21897728 22041600 21898752\n"
     ]
    },
    {
     "name": "stderr",
     "output_type": "stream",
     "text": [
      " 20%|██████████████▌                                                         | 2.0240000000001444/10 [10:03<39:46, 299.18s/it]"
     ]
    },
    {
     "name": "stdout",
     "output_type": "stream",
     "text": [
      "Train Epoch: 3 [640/22400 (3%)]\tLoss: 0.996290\n",
      "Mem before-during-after: 21898752 22041600 21898752\n"
     ]
    },
    {
     "name": "stderr",
     "output_type": "stream",
     "text": [
      " 20%|██████████████▉                                                          | 2.046857142857282/10 [10:10<39:22, 297.08s/it]"
     ]
    },
    {
     "name": "stdout",
     "output_type": "stream",
     "text": [
      "Train Epoch: 3 [1280/22400 (6%)]\tLoss: 0.863242\n",
      "Mem before-during-after: 21898752 22041600 21898752\n"
     ]
    },
    {
     "name": "stderr",
     "output_type": "stream",
     "text": [
      " 21%|███████████████▎                                                          | 2.06971428571442/10 [10:17<38:39, 292.46s/it]"
     ]
    },
    {
     "name": "stdout",
     "output_type": "stream",
     "text": [
      "Train Epoch: 3 [1920/22400 (9%)]\tLoss: 0.718684\n",
      "Mem before-during-after: 21898752 22041600 21898752\n"
     ]
    },
    {
     "name": "stderr",
     "output_type": "stream",
     "text": [
      " 21%|███████████████                                                         | 2.0925714285715578/10 [10:24<38:34, 292.66s/it]"
     ]
    },
    {
     "name": "stdout",
     "output_type": "stream",
     "text": [
      "Train Epoch: 3 [2560/22400 (11%)]\tLoss: 0.978495\n",
      "Mem before-during-after: 21898752 22041600 21898752\n"
     ]
    },
    {
     "name": "stderr",
     "output_type": "stream",
     "text": [
      " 21%|███████████████▏                                                        | 2.1154285714286956/10 [10:31<39:12, 298.34s/it]"
     ]
    },
    {
     "name": "stdout",
     "output_type": "stream",
     "text": [
      "Train Epoch: 3 [3200/22400 (14%)]\tLoss: 0.753657\n",
      "Mem before-during-after: 21898752 22041600 21898752\n"
     ]
    },
    {
     "name": "stderr",
     "output_type": "stream",
     "text": [
      " 21%|███████████████▍                                                        | 2.1382857142858334/10 [10:37<41:06, 313.71s/it]"
     ]
    },
    {
     "name": "stdout",
     "output_type": "stream",
     "text": [
      "Train Epoch: 3 [3840/22400 (17%)]\tLoss: 0.941234\n",
      "Mem before-during-after: 21898752 22041600 21898752\n"
     ]
    },
    {
     "name": "stderr",
     "output_type": "stream",
     "text": [
      " 22%|███████████████▊                                                         | 2.161142857142971/10 [10:44<38:49, 297.21s/it]"
     ]
    },
    {
     "name": "stdout",
     "output_type": "stream",
     "text": [
      "Train Epoch: 3 [4480/22400 (20%)]\tLoss: 1.260442\n",
      "Mem before-during-after: 21898752 22041600 21898752\n"
     ]
    },
    {
     "name": "stderr",
     "output_type": "stream",
     "text": [
      " 22%|███████████████▉                                                         | 2.184000000000109/10 [10:51<38:19, 294.18s/it]"
     ]
    },
    {
     "name": "stdout",
     "output_type": "stream",
     "text": [
      "Train Epoch: 3 [5120/22400 (23%)]\tLoss: 0.881512\n",
      "Mem before-during-after: 21898752 22041600 21898752\n"
     ]
    },
    {
     "name": "stderr",
     "output_type": "stream",
     "text": [
      " 22%|███████████████▉                                                        | 2.2068571428572468/10 [10:58<38:26, 295.91s/it]"
     ]
    },
    {
     "name": "stdout",
     "output_type": "stream",
     "text": [
      "Train Epoch: 3 [5760/22400 (26%)]\tLoss: 1.245728\n",
      "Mem before-during-after: 21898752 22041600 21898752\n"
     ]
    },
    {
     "name": "stderr",
     "output_type": "stream",
     "text": [
      " 22%|████████████████                                                        | 2.2297142857143846/10 [11:05<37:54, 292.72s/it]"
     ]
    },
    {
     "name": "stdout",
     "output_type": "stream",
     "text": [
      "Train Epoch: 3 [6400/22400 (29%)]\tLoss: 0.881468\n",
      "Mem before-during-after: 21898752 22041600 21898752\n"
     ]
    },
    {
     "name": "stderr",
     "output_type": "stream",
     "text": [
      " 23%|████████████████▏                                                       | 2.2525714285715224/10 [11:11<37:49, 292.94s/it]"
     ]
    },
    {
     "name": "stdout",
     "output_type": "stream",
     "text": [
      "Train Epoch: 3 [7040/22400 (31%)]\tLoss: 0.779981\n",
      "Mem before-during-after: 21898752 22041600 21898752\n"
     ]
    },
    {
     "name": "stderr",
     "output_type": "stream",
     "text": [
      " 23%|████████████████▊                                                         | 2.27542857142866/10 [11:18<38:16, 297.29s/it]"
     ]
    },
    {
     "name": "stdout",
     "output_type": "stream",
     "text": [
      "Train Epoch: 3 [7680/22400 (34%)]\tLoss: 1.082529\n",
      "Mem before-during-after: 21898752 22041600 21898752\n"
     ]
    },
    {
     "name": "stderr",
     "output_type": "stream",
     "text": [
      " 23%|████████████████▊                                                        | 2.298285714285798/10 [11:25<37:59, 295.94s/it]"
     ]
    },
    {
     "name": "stdout",
     "output_type": "stream",
     "text": [
      "Train Epoch: 3 [8320/22400 (37%)]\tLoss: 0.559420\n",
      "Mem before-during-after: 21898752 22041600 21898752\n"
     ]
    },
    {
     "name": "stderr",
     "output_type": "stream",
     "text": [
      " 23%|████████████████▉                                                        | 2.321142857142936/10 [11:32<37:42, 294.70s/it]"
     ]
    },
    {
     "name": "stdout",
     "output_type": "stream",
     "text": [
      "Train Epoch: 3 [8960/22400 (40%)]\tLoss: 0.789219\n",
      "Mem before-during-after: 21898752 22041600 21898752\n"
     ]
    },
    {
     "name": "stderr",
     "output_type": "stream",
     "text": [
      " 23%|████████████████▉                                                       | 2.3440000000000736/10 [11:39<38:00, 297.93s/it]"
     ]
    },
    {
     "name": "stdout",
     "output_type": "stream",
     "text": [
      "Train Epoch: 3 [9600/22400 (43%)]\tLoss: 1.020284\n",
      "Mem before-during-after: 21898752 22041600 21898752\n"
     ]
    },
    {
     "name": "stderr",
     "output_type": "stream",
     "text": [
      " 24%|█████████████████                                                       | 2.3668571428572114/10 [11:45<38:20, 301.41s/it]"
     ]
    },
    {
     "name": "stdout",
     "output_type": "stream",
     "text": [
      "Train Epoch: 3 [10240/22400 (46%)]\tLoss: 1.240423\n",
      "Mem before-during-after: 21898752 22041600 21898752\n"
     ]
    },
    {
     "name": "stderr",
     "output_type": "stream",
     "text": [
      " 24%|█████████████████▍                                                       | 2.389714285714349/10 [11:52<38:56, 307.08s/it]"
     ]
    },
    {
     "name": "stdout",
     "output_type": "stream",
     "text": [
      "Train Epoch: 3 [10880/22400 (49%)]\tLoss: 0.664517\n",
      "Mem before-during-after: 21898752 22041600 21898752\n"
     ]
    },
    {
     "name": "stderr",
     "output_type": "stream",
     "text": [
      " 24%|█████████████████▌                                                       | 2.412571428571487/10 [11:59<37:26, 296.09s/it]"
     ]
    },
    {
     "name": "stdout",
     "output_type": "stream",
     "text": [
      "Train Epoch: 3 [11520/22400 (51%)]\tLoss: 0.664888\n",
      "Mem before-during-after: 21898752 22041600 21898752\n"
     ]
    },
    {
     "name": "stderr",
     "output_type": "stream",
     "text": [
      " 24%|█████████████████▊                                                       | 2.435428571428625/10 [12:06<37:18, 295.89s/it]"
     ]
    },
    {
     "name": "stdout",
     "output_type": "stream",
     "text": [
      "Train Epoch: 3 [12160/22400 (54%)]\tLoss: 1.202027\n",
      "Mem before-during-after: 21898752 22041600 21898752\n"
     ]
    },
    {
     "name": "stderr",
     "output_type": "stream",
     "text": [
      " 25%|█████████████████▋                                                      | 2.4582857142857626/10 [12:13<37:09, 295.60s/it]"
     ]
    },
    {
     "name": "stdout",
     "output_type": "stream",
     "text": [
      "Train Epoch: 3 [12800/22400 (57%)]\tLoss: 1.023535\n",
      "Mem before-during-after: 21898752 22041600 21898752\n"
     ]
    },
    {
     "name": "stderr",
     "output_type": "stream",
     "text": [
      " 25%|█████████████████▊                                                      | 2.4811428571429004/10 [12:20<36:29, 291.16s/it]"
     ]
    },
    {
     "name": "stdout",
     "output_type": "stream",
     "text": [
      "Train Epoch: 3 [13440/22400 (60%)]\tLoss: 0.761574\n",
      "Mem before-during-after: 21898752 22041600 21898752\n"
     ]
    },
    {
     "name": "stderr",
     "output_type": "stream",
     "text": [
      " 25%|██████████████████▎                                                      | 2.504000000000038/10 [12:26<36:44, 294.10s/it]"
     ]
    },
    {
     "name": "stdout",
     "output_type": "stream",
     "text": [
      "Train Epoch: 3 [14080/22400 (63%)]\tLoss: 0.607169\n",
      "Mem before-during-after: 21898752 22041600 21898752\n"
     ]
    },
    {
     "name": "stderr",
     "output_type": "stream",
     "text": [
      " 25%|██████████████████▍                                                      | 2.526857142857176/10 [12:33<36:22, 292.07s/it]"
     ]
    },
    {
     "name": "stdout",
     "output_type": "stream",
     "text": [
      "Train Epoch: 3 [14720/22400 (66%)]\tLoss: 1.037722\n",
      "Mem before-during-after: 21898752 22041600 21898752\n"
     ]
    },
    {
     "name": "stderr",
     "output_type": "stream",
     "text": [
      " 25%|██████████████████▌                                                      | 2.549714285714314/10 [12:40<36:19, 292.51s/it]"
     ]
    },
    {
     "name": "stdout",
     "output_type": "stream",
     "text": [
      "Train Epoch: 3 [15360/22400 (69%)]\tLoss: 0.833229\n",
      "Mem before-during-after: 21898752 22041600 21898752\n"
     ]
    },
    {
     "name": "stderr",
     "output_type": "stream",
     "text": [
      " 26%|██████████████████▌                                                     | 2.5725714285714516/10 [12:47<36:31, 294.99s/it]"
     ]
    },
    {
     "name": "stdout",
     "output_type": "stream",
     "text": [
      "Train Epoch: 3 [16000/22400 (71%)]\tLoss: 0.798301\n",
      "Mem before-during-after: 21898752 22041600 21898752\n"
     ]
    },
    {
     "name": "stderr",
     "output_type": "stream",
     "text": [
      " 26%|██████████████████▋                                                     | 2.5954285714285894/10 [12:53<36:20, 294.49s/it]"
     ]
    },
    {
     "name": "stdout",
     "output_type": "stream",
     "text": [
      "Train Epoch: 3 [16640/22400 (74%)]\tLoss: 1.020193\n",
      "Mem before-during-after: 21898752 22041600 21898752\n"
     ]
    },
    {
     "name": "stderr",
     "output_type": "stream",
     "text": [
      " 26%|███████████████████                                                      | 2.618285714285727/10 [13:00<36:02, 292.98s/it]"
     ]
    },
    {
     "name": "stdout",
     "output_type": "stream",
     "text": [
      "Train Epoch: 3 [17280/22400 (77%)]\tLoss: 1.313964\n",
      "Mem before-during-after: 21898752 22041600 21898752\n"
     ]
    },
    {
     "name": "stderr",
     "output_type": "stream",
     "text": [
      " 26%|███████████████████▎                                                     | 2.641142857142865/10 [13:07<36:02, 293.84s/it]"
     ]
    },
    {
     "name": "stdout",
     "output_type": "stream",
     "text": [
      "Train Epoch: 3 [17920/22400 (80%)]\tLoss: 0.704729\n",
      "Mem before-during-after: 21898752 22041600 21898752\n"
     ]
    },
    {
     "name": "stderr",
     "output_type": "stream",
     "text": [
      " 27%|███████████████████▍                                                     | 2.664000000000003/10 [13:14<36:34, 299.14s/it]"
     ]
    },
    {
     "name": "stdout",
     "output_type": "stream",
     "text": [
      "Train Epoch: 3 [18560/22400 (83%)]\tLoss: 0.645485\n",
      "Mem before-during-after: 21898752 22041600 21898752\n"
     ]
    },
    {
     "name": "stderr",
     "output_type": "stream",
     "text": [
      " 27%|███████████████████▎                                                    | 2.6868571428571406/10 [13:20<35:44, 293.18s/it]"
     ]
    },
    {
     "name": "stdout",
     "output_type": "stream",
     "text": [
      "Train Epoch: 3 [19200/22400 (86%)]\tLoss: 0.774682\n",
      "Mem before-during-after: 21898752 22041600 21898752\n"
     ]
    },
    {
     "name": "stderr",
     "output_type": "stream",
     "text": [
      " 27%|███████████████████▌                                                    | 2.7097142857142784/10 [13:27<36:11, 297.88s/it]"
     ]
    },
    {
     "name": "stdout",
     "output_type": "stream",
     "text": [
      "Train Epoch: 3 [19840/22400 (89%)]\tLoss: 0.835622\n",
      "Mem before-during-after: 21898752 22041600 21898752\n"
     ]
    },
    {
     "name": "stderr",
     "output_type": "stream",
     "text": [
      " 27%|███████████████████▉                                                     | 2.732571428571416/10 [13:34<35:38, 294.24s/it]"
     ]
    },
    {
     "name": "stdout",
     "output_type": "stream",
     "text": [
      "Train Epoch: 3 [20480/22400 (91%)]\tLoss: 0.755463\n",
      "Mem before-during-after: 21898752 22041600 21898752\n"
     ]
    },
    {
     "name": "stderr",
     "output_type": "stream",
     "text": [
      " 28%|███████████████████▊                                                    | 2.7548571428571256/10 [13:41<35:51, 296.90s/it]"
     ]
    },
    {
     "name": "stdout",
     "output_type": "stream",
     "text": [
      "Train Epoch: 3 [21120/22400 (94%)]\tLoss: 0.652404\n",
      "Mem before-during-after: 21898752 22041600 21898752\n"
     ]
    },
    {
     "name": "stderr",
     "output_type": "stream",
     "text": [
      " 28%|████████████████████▎                                                    | 2.778285714285692/10 [13:48<35:32, 295.34s/it]"
     ]
    },
    {
     "name": "stdout",
     "output_type": "stream",
     "text": [
      "Train Epoch: 3 [21760/22400 (97%)]\tLoss: 0.690814\n",
      "Mem before-during-after: 21898752 22041600 21898752\n"
     ]
    },
    {
     "name": "stderr",
     "output_type": "stream",
     "text": [
      " 30%|█████████████████████▉                                                   | 3.000571428571357/10 [14:53<33:54, 290.73s/it]"
     ]
    },
    {
     "name": "stdout",
     "output_type": "stream",
     "text": [
      "\n",
      "Test Epoch: 3\tAccuracy: 1382/5600 (25%)\n",
      "\n",
      "Train Epoch: 4 [0/22400 (0%)]\tLoss: 1.004217\n",
      "Mem before-during-after: 21897728 22041600 21898752\n"
     ]
    },
    {
     "name": "stderr",
     "output_type": "stream",
     "text": [
      " 30%|██████████████████████                                                   | 3.023999999999923/10 [15:00<34:08, 293.71s/it]"
     ]
    },
    {
     "name": "stdout",
     "output_type": "stream",
     "text": [
      "Train Epoch: 4 [640/22400 (3%)]\tLoss: 0.843594\n",
      "Mem before-during-after: 21898752 22041600 21898752\n"
     ]
    },
    {
     "name": "stderr",
     "output_type": "stream",
     "text": [
      " 30%|██████████████████████▏                                                  | 3.046857142857061/10 [15:06<34:18, 296.11s/it]"
     ]
    },
    {
     "name": "stdout",
     "output_type": "stream",
     "text": [
      "Train Epoch: 4 [1280/22400 (6%)]\tLoss: 1.062680\n",
      "Mem before-during-after: 21898752 22041600 21898752\n"
     ]
    },
    {
     "name": "stderr",
     "output_type": "stream",
     "text": [
      " 31%|██████████████████████▍                                                  | 3.069714285714199/10 [15:13<34:33, 299.15s/it]"
     ]
    },
    {
     "name": "stdout",
     "output_type": "stream",
     "text": [
      "Train Epoch: 4 [1920/22400 (9%)]\tLoss: 1.006772\n",
      "Mem before-during-after: 21898752 22041600 21898752\n"
     ]
    },
    {
     "name": "stderr",
     "output_type": "stream",
     "text": [
      " 31%|██████████████████████▎                                                 | 3.0925714285713366/10 [15:20<33:52, 294.20s/it]"
     ]
    },
    {
     "name": "stdout",
     "output_type": "stream",
     "text": [
      "Train Epoch: 4 [2560/22400 (11%)]\tLoss: 0.946741\n",
      "Mem before-during-after: 21898752 22041600 21898752\n"
     ]
    },
    {
     "name": "stderr",
     "output_type": "stream",
     "text": [
      " 31%|██████████████████████▍                                                 | 3.1154285714284744/10 [15:27<33:55, 295.64s/it]"
     ]
    },
    {
     "name": "stdout",
     "output_type": "stream",
     "text": [
      "Train Epoch: 4 [3200/22400 (14%)]\tLoss: 1.266078\n",
      "Mem before-during-after: 21898752 22041600 21898752\n"
     ]
    },
    {
     "name": "stderr",
     "output_type": "stream",
     "text": [
      " 31%|██████████████████████▉                                                  | 3.138285714285612/10 [15:34<33:48, 295.70s/it]"
     ]
    },
    {
     "name": "stdout",
     "output_type": "stream",
     "text": [
      "Train Epoch: 4 [3840/22400 (17%)]\tLoss: 1.263284\n",
      "Mem before-during-after: 21898752 22041600 21898752\n"
     ]
    },
    {
     "name": "stderr",
     "output_type": "stream",
     "text": [
      " 32%|███████████████████████▍                                                  | 3.16114285714275/10 [15:40<33:32, 294.20s/it]"
     ]
    },
    {
     "name": "stdout",
     "output_type": "stream",
     "text": [
      "Train Epoch: 4 [4480/22400 (20%)]\tLoss: 0.812613\n",
      "Mem before-during-after: 21898752 22041600 21898752\n"
     ]
    },
    {
     "name": "stderr",
     "output_type": "stream",
     "text": [
      " 32%|███████████████████████▏                                                 | 3.183999999999888/10 [15:47<33:22, 293.73s/it]"
     ]
    },
    {
     "name": "stdout",
     "output_type": "stream",
     "text": [
      "Train Epoch: 4 [5120/22400 (23%)]\tLoss: 0.849886\n",
      "Mem before-during-after: 21898752 22041600 21898752\n"
     ]
    },
    {
     "name": "stderr",
     "output_type": "stream",
     "text": [
      " 32%|███████████████████████                                                 | 3.2068571428570256/10 [15:54<35:50, 316.54s/it]"
     ]
    },
    {
     "name": "stdout",
     "output_type": "stream",
     "text": [
      "Train Epoch: 4 [5760/22400 (26%)]\tLoss: 0.844927\n",
      "Mem before-during-after: 21898752 22041600 21898752\n"
     ]
    },
    {
     "name": "stderr",
     "output_type": "stream",
     "text": [
      " 32%|███████████████████████▎                                                | 3.2297142857141634/10 [16:01<33:33, 297.33s/it]"
     ]
    },
    {
     "name": "stdout",
     "output_type": "stream",
     "text": [
      "Train Epoch: 4 [6400/22400 (29%)]\tLoss: 0.707539\n",
      "Mem before-during-after: 21898752 22041600 21898752\n"
     ]
    },
    {
     "name": "stderr",
     "output_type": "stream",
     "text": [
      " 33%|███████████████████████▋                                                 | 3.252571428571301/10 [16:08<33:03, 293.92s/it]"
     ]
    },
    {
     "name": "stdout",
     "output_type": "stream",
     "text": [
      "Train Epoch: 4 [7040/22400 (31%)]\tLoss: 0.824616\n",
      "Mem before-during-after: 21898752 22041600 21898752\n"
     ]
    },
    {
     "name": "stderr",
     "output_type": "stream",
     "text": [
      " 33%|███████████████████████▉                                                 | 3.275428571428439/10 [16:14<34:22, 306.70s/it]"
     ]
    },
    {
     "name": "stdout",
     "output_type": "stream",
     "text": [
      "Train Epoch: 4 [7680/22400 (34%)]\tLoss: 0.721575\n",
      "Mem before-during-after: 21898752 22041600 21898752\n"
     ]
    },
    {
     "name": "stderr",
     "output_type": "stream",
     "text": [
      " 33%|████████████████████████                                                 | 3.298285714285577/10 [16:21<32:57, 295.01s/it]"
     ]
    },
    {
     "name": "stdout",
     "output_type": "stream",
     "text": [
      "Train Epoch: 4 [8320/22400 (37%)]\tLoss: 1.003833\n",
      "Mem before-during-after: 21898752 22041600 21898752\n"
     ]
    },
    {
     "name": "stderr",
     "output_type": "stream",
     "text": [
      " 33%|███████████████████████▉                                                | 3.3211428571427146/10 [16:28<32:54, 295.61s/it]"
     ]
    },
    {
     "name": "stdout",
     "output_type": "stream",
     "text": [
      "Train Epoch: 4 [8960/22400 (40%)]\tLoss: 0.674183\n",
      "Mem before-during-after: 21898752 22041600 21898752\n"
     ]
    },
    {
     "name": "stderr",
     "output_type": "stream",
     "text": [
      " 33%|████████████████████████                                                | 3.3439999999998524/10 [16:35<32:53, 296.57s/it]"
     ]
    },
    {
     "name": "stdout",
     "output_type": "stream",
     "text": [
      "Train Epoch: 4 [9600/22400 (43%)]\tLoss: 1.206579\n",
      "Mem before-during-after: 21898752 22041600 21898752\n"
     ]
    },
    {
     "name": "stderr",
     "output_type": "stream",
     "text": [
      " 34%|████████████████████████▏                                               | 3.3668571428569902/10 [16:42<34:26, 311.59s/it]"
     ]
    },
    {
     "name": "stdout",
     "output_type": "stream",
     "text": [
      "Train Epoch: 4 [10240/22400 (46%)]\tLoss: 1.067414\n",
      "Mem before-during-after: 21898752 22041600 21898752\n"
     ]
    },
    {
     "name": "stderr",
     "output_type": "stream",
     "text": [
      " 34%|████████████████████████▋                                                | 3.389714285714128/10 [16:48<32:10, 292.09s/it]"
     ]
    },
    {
     "name": "stdout",
     "output_type": "stream",
     "text": [
      "Train Epoch: 4 [10880/22400 (49%)]\tLoss: 0.715813\n",
      "Mem before-during-after: 21898752 22041600 21898752\n"
     ]
    },
    {
     "name": "stderr",
     "output_type": "stream",
     "text": [
      " 34%|████████████████████████▉                                                | 3.412571428571266/10 [16:55<32:20, 294.59s/it]"
     ]
    },
    {
     "name": "stdout",
     "output_type": "stream",
     "text": [
      "Train Epoch: 4 [11520/22400 (51%)]\tLoss: 1.043762\n",
      "Mem before-during-after: 21898752 22041600 21898752\n"
     ]
    },
    {
     "name": "stderr",
     "output_type": "stream",
     "text": [
      " 34%|████████████████████████▋                                               | 3.4354285714284036/10 [17:02<32:13, 294.52s/it]"
     ]
    },
    {
     "name": "stdout",
     "output_type": "stream",
     "text": [
      "Train Epoch: 4 [12160/22400 (54%)]\tLoss: 0.884457\n",
      "Mem before-during-after: 21898752 22041600 21898752\n"
     ]
    },
    {
     "name": "stderr",
     "output_type": "stream",
     "text": [
      " 35%|████████████████████████▉                                               | 3.4582857142855414/10 [17:09<32:15, 295.87s/it]"
     ]
    },
    {
     "name": "stdout",
     "output_type": "stream",
     "text": [
      "Train Epoch: 4 [12800/22400 (57%)]\tLoss: 0.805387\n",
      "Mem before-during-after: 21898752 22041600 21898752\n"
     ]
    },
    {
     "name": "stderr",
     "output_type": "stream",
     "text": [
      " 35%|█████████████████████████                                               | 3.4811428571426792/10 [17:15<32:04, 295.29s/it]"
     ]
    },
    {
     "name": "stdout",
     "output_type": "stream",
     "text": [
      "Train Epoch: 4 [13440/22400 (60%)]\tLoss: 0.661081\n",
      "Mem before-during-after: 21898752 22041600 21898752\n"
     ]
    },
    {
     "name": "stderr",
     "output_type": "stream",
     "text": [
      " 35%|█████████████████████████▌                                               | 3.503999999999817/10 [17:22<31:36, 291.98s/it]"
     ]
    },
    {
     "name": "stdout",
     "output_type": "stream",
     "text": [
      "Train Epoch: 4 [14080/22400 (63%)]\tLoss: 0.779233\n",
      "Mem before-during-after: 21898752 22041600 21898752\n"
     ]
    },
    {
     "name": "stderr",
     "output_type": "stream",
     "text": [
      " 35%|█████████████████████████▋                                               | 3.526857142856955/10 [17:29<31:51, 295.30s/it]"
     ]
    },
    {
     "name": "stdout",
     "output_type": "stream",
     "text": [
      "Train Epoch: 4 [14720/22400 (66%)]\tLoss: 0.547148\n",
      "Mem before-during-after: 21898752 22041600 21898752\n"
     ]
    },
    {
     "name": "stderr",
     "output_type": "stream",
     "text": [
      " 35%|█████████████████████████▌                                              | 3.5497142857140926/10 [17:36<31:32, 293.46s/it]"
     ]
    },
    {
     "name": "stdout",
     "output_type": "stream",
     "text": [
      "Train Epoch: 4 [15360/22400 (69%)]\tLoss: 1.406445\n",
      "Mem before-during-after: 21898752 22041600 21898752\n"
     ]
    },
    {
     "name": "stderr",
     "output_type": "stream",
     "text": [
      " 36%|█████████████████████████▋                                              | 3.5725714285712304/10 [17:43<31:52, 297.55s/it]"
     ]
    },
    {
     "name": "stdout",
     "output_type": "stream",
     "text": [
      "Train Epoch: 4 [16000/22400 (71%)]\tLoss: 0.742379\n",
      "Mem before-during-after: 21898752 22041600 21898752\n"
     ]
    },
    {
     "name": "stderr",
     "output_type": "stream",
     "text": [
      " 36%|█████████████████████████▉                                              | 3.5954285714283682/10 [17:49<31:21, 293.83s/it]"
     ]
    },
    {
     "name": "stdout",
     "output_type": "stream",
     "text": [
      "Train Epoch: 4 [16640/22400 (74%)]\tLoss: 0.705448\n",
      "Mem before-during-after: 21898752 22041600 21898752\n"
     ]
    },
    {
     "name": "stderr",
     "output_type": "stream",
     "text": [
      " 36%|██████████████████████████▍                                              | 3.618285714285506/10 [17:56<31:02, 291.88s/it]"
     ]
    },
    {
     "name": "stdout",
     "output_type": "stream",
     "text": [
      "Train Epoch: 4 [17280/22400 (77%)]\tLoss: 0.695854\n",
      "Mem before-during-after: 21898752 22041600 21898752\n"
     ]
    },
    {
     "name": "stderr",
     "output_type": "stream",
     "text": [
      " 36%|██████████████████████████▌                                              | 3.641142857142644/10 [18:03<31:09, 294.05s/it]"
     ]
    },
    {
     "name": "stdout",
     "output_type": "stream",
     "text": [
      "Train Epoch: 4 [17920/22400 (80%)]\tLoss: 0.705946\n",
      "Mem before-during-after: 21898752 22041600 21898752\n"
     ]
    },
    {
     "name": "stderr",
     "output_type": "stream",
     "text": [
      " 37%|██████████████████████████▍                                             | 3.6639999999997817/10 [18:10<31:26, 297.75s/it]"
     ]
    },
    {
     "name": "stdout",
     "output_type": "stream",
     "text": [
      "Train Epoch: 4 [18560/22400 (83%)]\tLoss: 0.991458\n",
      "Mem before-during-after: 21898752 22041600 21898752\n"
     ]
    },
    {
     "name": "stderr",
     "output_type": "stream",
     "text": [
      " 37%|██████████████████████████▌                                             | 3.6868571428569195/10 [18:17<32:32, 309.32s/it]"
     ]
    },
    {
     "name": "stdout",
     "output_type": "stream",
     "text": [
      "Train Epoch: 4 [19200/22400 (86%)]\tLoss: 0.822648\n",
      "Mem before-during-after: 21898752 22041600 21898752\n"
     ]
    },
    {
     "name": "stderr",
     "output_type": "stream",
     "text": [
      " 37%|██████████████████████████▋                                             | 3.7097142857140573/10 [18:23<31:02, 296.16s/it]"
     ]
    },
    {
     "name": "stdout",
     "output_type": "stream",
     "text": [
      "Train Epoch: 4 [19840/22400 (89%)]\tLoss: 0.679381\n",
      "Mem before-during-after: 21898752 22041600 21898752\n"
     ]
    },
    {
     "name": "stderr",
     "output_type": "stream",
     "text": [
      " 37%|███████████████████████████▏                                             | 3.732571428571195/10 [18:30<30:44, 294.22s/it]"
     ]
    },
    {
     "name": "stdout",
     "output_type": "stream",
     "text": [
      "Train Epoch: 4 [20480/22400 (91%)]\tLoss: 0.634992\n",
      "Mem before-during-after: 21898752 22041600 21898752\n"
     ]
    },
    {
     "name": "stderr",
     "output_type": "stream",
     "text": [
      " 38%|███████████████████████████▍                                             | 3.755428571428333/10 [18:37<30:28, 292.79s/it]"
     ]
    },
    {
     "name": "stdout",
     "output_type": "stream",
     "text": [
      "Train Epoch: 4 [21120/22400 (94%)]\tLoss: 0.773950\n",
      "Mem before-during-after: 21898752 22041600 21898752\n"
     ]
    },
    {
     "name": "stderr",
     "output_type": "stream",
     "text": [
      " 38%|███████████████████████████▏                                            | 3.7782857142854707/10 [18:44<30:43, 296.30s/it]"
     ]
    },
    {
     "name": "stdout",
     "output_type": "stream",
     "text": [
      "Train Epoch: 4 [21760/22400 (97%)]\tLoss: 0.901725\n",
      "Mem before-during-after: 21898752 22041600 21898752\n"
     ]
    },
    {
     "name": "stderr",
     "output_type": "stream",
     "text": [
      " 40%|█████████████████████████████▏                                           | 4.000571428571136/10 [19:49<29:19, 293.33s/it]"
     ]
    },
    {
     "name": "stdout",
     "output_type": "stream",
     "text": [
      "\n",
      "Test Epoch: 4\tAccuracy: 1392/5600 (25%)\n",
      "\n",
      "Train Epoch: 5 [0/22400 (0%)]\tLoss: 1.140868\n",
      "Mem before-during-after: 21897728 22041600 21898752\n"
     ]
    },
    {
     "name": "stderr",
     "output_type": "stream",
     "text": [
      " 40%|█████████████████████████████▊                                            | 4.02399999999972/10 [19:56<29:12, 293.29s/it]"
     ]
    },
    {
     "name": "stdout",
     "output_type": "stream",
     "text": [
      "Train Epoch: 5 [640/22400 (3%)]\tLoss: 0.771403\n",
      "Mem before-during-after: 21898752 22041600 21898752\n"
     ]
    },
    {
     "name": "stderr",
     "output_type": "stream",
     "text": [
      " 40%|█████████████████████████████▌                                           | 4.046857142856876/10 [20:03<29:10, 293.98s/it]"
     ]
    },
    {
     "name": "stdout",
     "output_type": "stream",
     "text": [
      "Train Epoch: 5 [1280/22400 (6%)]\tLoss: 0.368911\n",
      "Mem before-during-after: 21898752 22041600 21898752\n"
     ]
    },
    {
     "name": "stderr",
     "output_type": "stream",
     "text": [
      " 41%|█████████████████████████████▋                                           | 4.069714285714031/10 [20:09<29:16, 296.22s/it]"
     ]
    },
    {
     "name": "stdout",
     "output_type": "stream",
     "text": [
      "Train Epoch: 5 [1920/22400 (9%)]\tLoss: 0.957198\n",
      "Mem before-during-after: 21898752 22041600 21898752\n"
     ]
    },
    {
     "name": "stderr",
     "output_type": "stream",
     "text": [
      " 41%|█████████████████████████████▉                                           | 4.092571428571187/10 [20:16<31:23, 318.83s/it]"
     ]
    },
    {
     "name": "stdout",
     "output_type": "stream",
     "text": [
      "Train Epoch: 5 [2560/22400 (11%)]\tLoss: 0.746364\n",
      "Mem before-during-after: 21898752 22041600 21898752\n"
     ]
    },
    {
     "name": "stderr",
     "output_type": "stream",
     "text": [
      " 41%|█████████████████████████████▋                                          | 4.1154285714283425/10 [20:23<28:57, 295.27s/it]"
     ]
    },
    {
     "name": "stdout",
     "output_type": "stream",
     "text": [
      "Train Epoch: 5 [3200/22400 (14%)]\tLoss: 0.880854\n",
      "Mem before-during-after: 21898752 22041600 21898752\n"
     ]
    },
    {
     "name": "stderr",
     "output_type": "stream",
     "text": [
      " 41%|██████████████████████████████▏                                          | 4.138285714285498/10 [20:30<28:41, 293.65s/it]"
     ]
    },
    {
     "name": "stdout",
     "output_type": "stream",
     "text": [
      "Train Epoch: 5 [3840/22400 (17%)]\tLoss: 0.934787\n",
      "Mem before-during-after: 21898752 22041600 21898752\n"
     ]
    },
    {
     "name": "stderr",
     "output_type": "stream",
     "text": [
      " 42%|██████████████████████████████▍                                          | 4.161142857142654/10 [20:37<29:05, 298.92s/it]"
     ]
    },
    {
     "name": "stdout",
     "output_type": "stream",
     "text": [
      "Train Epoch: 5 [4480/22400 (20%)]\tLoss: 0.612278\n",
      "Mem before-during-after: 21898752 22041600 21898752\n"
     ]
    },
    {
     "name": "stderr",
     "output_type": "stream",
     "text": [
      " 42%|██████████████████████████████▌                                          | 4.183999999999809/10 [20:43<28:31, 294.25s/it]"
     ]
    },
    {
     "name": "stdout",
     "output_type": "stream",
     "text": [
      "Train Epoch: 5 [5120/22400 (23%)]\tLoss: 0.881522\n",
      "Mem before-during-after: 21898752 22041600 21898752\n"
     ]
    },
    {
     "name": "stderr",
     "output_type": "stream",
     "text": [
      " 42%|██████████████████████████████▋                                          | 4.206857142856965/10 [20:50<28:27, 294.76s/it]"
     ]
    },
    {
     "name": "stdout",
     "output_type": "stream",
     "text": [
      "Train Epoch: 5 [5760/22400 (26%)]\tLoss: 0.654282\n",
      "Mem before-during-after: 21898752 22041600 21898752\n"
     ]
    },
    {
     "name": "stderr",
     "output_type": "stream",
     "text": [
      " 42%|██████████████████████████████▍                                         | 4.2291428571426914/10 [20:57<28:37, 297.65s/it]"
     ]
    },
    {
     "name": "stdout",
     "output_type": "stream",
     "text": [
      "Train Epoch: 5 [6400/22400 (29%)]\tLoss: 0.474010\n",
      "Mem before-during-after: 21898752 22041600 21898752\n"
     ]
    },
    {
     "name": "stderr",
     "output_type": "stream",
     "text": [
      " 43%|███████████████████████████████                                          | 4.252571428571276/10 [21:04<28:32, 298.03s/it]"
     ]
    },
    {
     "name": "stdout",
     "output_type": "stream",
     "text": [
      "Train Epoch: 5 [7040/22400 (31%)]\tLoss: 0.710131\n",
      "Mem before-during-after: 21898752 22041600 21898752\n"
     ]
    },
    {
     "name": "stderr",
     "output_type": "stream",
     "text": [
      " 43%|██████████████████████████████▊                                         | 4.2754285714284315/10 [21:11<27:57, 292.99s/it]"
     ]
    },
    {
     "name": "stdout",
     "output_type": "stream",
     "text": [
      "Train Epoch: 5 [7680/22400 (34%)]\tLoss: 0.702323\n",
      "Mem before-during-after: 21898752 22041600 21898752\n"
     ]
    },
    {
     "name": "stderr",
     "output_type": "stream",
     "text": [
      " 43%|███████████████████████████████▍                                         | 4.298285714285587/10 [21:17<29:45, 313.13s/it]"
     ]
    },
    {
     "name": "stdout",
     "output_type": "stream",
     "text": [
      "Train Epoch: 5 [8320/22400 (37%)]\tLoss: 0.789713\n",
      "Mem before-during-after: 21898752 22041600 21898752\n"
     ]
    },
    {
     "name": "stderr",
     "output_type": "stream",
     "text": [
      " 43%|███████████████████████████████▌                                         | 4.321142857142743/10 [21:24<27:53, 294.61s/it]"
     ]
    },
    {
     "name": "stdout",
     "output_type": "stream",
     "text": [
      "Train Epoch: 5 [8960/22400 (40%)]\tLoss: 0.842795\n",
      "Mem before-during-after: 21898752 22041600 21898752\n"
     ]
    },
    {
     "name": "stderr",
     "output_type": "stream",
     "text": [
      " 43%|███████████████████████████████▋                                         | 4.343999999999898/10 [21:31<27:48, 295.06s/it]"
     ]
    },
    {
     "name": "stdout",
     "output_type": "stream",
     "text": [
      "Train Epoch: 5 [9600/22400 (43%)]\tLoss: 0.696731\n",
      "Mem before-during-after: 21898752 22041600 21898752\n"
     ]
    },
    {
     "name": "stderr",
     "output_type": "stream",
     "text": [
      " 44%|███████████████████████████████▉                                         | 4.366857142857054/10 [21:38<27:46, 295.92s/it]"
     ]
    },
    {
     "name": "stdout",
     "output_type": "stream",
     "text": [
      "Train Epoch: 5 [10240/22400 (46%)]\tLoss: 0.628616\n",
      "Mem before-during-after: 21898752 22041600 21898752\n"
     ]
    },
    {
     "name": "stderr",
     "output_type": "stream",
     "text": [
      " 44%|████████████████████████████████                                         | 4.389714285714209/10 [21:44<27:25, 293.36s/it]"
     ]
    },
    {
     "name": "stdout",
     "output_type": "stream",
     "text": [
      "Train Epoch: 5 [10880/22400 (49%)]\tLoss: 1.324269\n",
      "Mem before-during-after: 21898752 22041600 21898752\n"
     ]
    },
    {
     "name": "stderr",
     "output_type": "stream",
     "text": [
      " 44%|████████████████████████████████▏                                        | 4.412571428571365/10 [21:51<27:38, 296.78s/it]"
     ]
    },
    {
     "name": "stdout",
     "output_type": "stream",
     "text": [
      "Train Epoch: 5 [11520/22400 (51%)]\tLoss: 1.150270\n",
      "Mem before-during-after: 21898752 22041600 21898752\n"
     ]
    },
    {
     "name": "stderr",
     "output_type": "stream",
     "text": [
      " 44%|████████████████████████████████▊                                         | 4.43542857142852/10 [21:58<27:16, 294.06s/it]"
     ]
    },
    {
     "name": "stdout",
     "output_type": "stream",
     "text": [
      "Train Epoch: 5 [12160/22400 (54%)]\tLoss: 0.693593\n",
      "Mem before-during-after: 21898752 22041600 21898752\n"
     ]
    },
    {
     "name": "stderr",
     "output_type": "stream",
     "text": [
      " 45%|████████████████████████████████▌                                        | 4.458285714285676/10 [22:05<27:08, 293.87s/it]"
     ]
    },
    {
     "name": "stdout",
     "output_type": "stream",
     "text": [
      "Train Epoch: 5 [12800/22400 (57%)]\tLoss: 0.888823\n",
      "Mem before-during-after: 21898752 22041600 21898752\n"
     ]
    },
    {
     "name": "stderr",
     "output_type": "stream",
     "text": [
      " 45%|████████████████████████████████▋                                        | 4.481142857142832/10 [22:12<27:02, 293.91s/it]"
     ]
    },
    {
     "name": "stdout",
     "output_type": "stream",
     "text": [
      "Train Epoch: 5 [13440/22400 (60%)]\tLoss: 0.596003\n",
      "Mem before-during-after: 21898752 22041600 21898752\n"
     ]
    },
    {
     "name": "stderr",
     "output_type": "stream",
     "text": [
      " 45%|████████████████████████████████▉                                        | 4.503999999999987/10 [22:18<26:55, 293.93s/it]"
     ]
    },
    {
     "name": "stdout",
     "output_type": "stream",
     "text": [
      "Train Epoch: 5 [14080/22400 (63%)]\tLoss: 0.575364\n",
      "Mem before-during-after: 21898752 22041600 21898752\n"
     ]
    },
    {
     "name": "stderr",
     "output_type": "stream",
     "text": [
      " 45%|█████████████████████████████████                                        | 4.526857142857143/10 [22:25<26:54, 294.91s/it]"
     ]
    },
    {
     "name": "stdout",
     "output_type": "stream",
     "text": [
      "Train Epoch: 5 [14720/22400 (66%)]\tLoss: 0.481694\n",
      "Mem before-during-after: 21898752 22041600 21898752\n"
     ]
    },
    {
     "name": "stderr",
     "output_type": "stream",
     "text": [
      " 45%|█████████████████████████████████▏                                       | 4.549714285714298/10 [22:32<26:40, 293.58s/it]"
     ]
    },
    {
     "name": "stdout",
     "output_type": "stream",
     "text": [
      "Train Epoch: 5 [15360/22400 (69%)]\tLoss: 0.832770\n",
      "Mem before-during-after: 21898752 22041600 21898752\n"
     ]
    },
    {
     "name": "stderr",
     "output_type": "stream",
     "text": [
      " 46%|█████████████████████████████████▍                                       | 4.572571428571454/10 [22:39<26:30, 293.13s/it]"
     ]
    },
    {
     "name": "stdout",
     "output_type": "stream",
     "text": [
      "Train Epoch: 5 [16000/22400 (71%)]\tLoss: 0.901716\n",
      "Mem before-during-after: 21898752 22041600 21898752\n"
     ]
    },
    {
     "name": "stderr",
     "output_type": "stream",
     "text": [
      " 46%|█████████████████████████████████▌                                       | 4.595428571428609/10 [22:45<26:22, 292.78s/it]"
     ]
    },
    {
     "name": "stdout",
     "output_type": "stream",
     "text": [
      "Train Epoch: 5 [16640/22400 (74%)]\tLoss: 1.075058\n",
      "Mem before-during-after: 21898752 22041600 21898752\n"
     ]
    },
    {
     "name": "stderr",
     "output_type": "stream",
     "text": [
      " 46%|█████████████████████████████████▋                                       | 4.618285714285765/10 [22:52<26:14, 292.57s/it]"
     ]
    },
    {
     "name": "stdout",
     "output_type": "stream",
     "text": [
      "Train Epoch: 5 [17280/22400 (77%)]\tLoss: 0.968229\n",
      "Mem before-during-after: 21898752 22041600 21898752\n"
     ]
    },
    {
     "name": "stderr",
     "output_type": "stream",
     "text": [
      " 46%|█████████████████████████████████▍                                      | 4.6411428571429205/10 [22:59<26:14, 293.81s/it]"
     ]
    },
    {
     "name": "stdout",
     "output_type": "stream",
     "text": [
      "Train Epoch: 5 [17920/22400 (80%)]\tLoss: 0.654162\n",
      "Mem before-during-after: 21898752 22041600 21898752\n"
     ]
    },
    {
     "name": "stderr",
     "output_type": "stream",
     "text": [
      " 47%|██████████████████████████████████                                       | 4.664000000000076/10 [23:06<26:01, 292.67s/it]"
     ]
    },
    {
     "name": "stdout",
     "output_type": "stream",
     "text": [
      "Train Epoch: 5 [18560/22400 (83%)]\tLoss: 0.966006\n",
      "Mem before-during-after: 21898752 22041600 21898752\n"
     ]
    },
    {
     "name": "stderr",
     "output_type": "stream",
     "text": [
      " 47%|██████████████████████████████████▏                                      | 4.686857142857232/10 [23:12<26:03, 294.27s/it]"
     ]
    },
    {
     "name": "stdout",
     "output_type": "stream",
     "text": [
      "Train Epoch: 5 [19200/22400 (86%)]\tLoss: 0.389644\n",
      "Mem before-during-after: 21898752 22041600 21898752\n"
     ]
    },
    {
     "name": "stderr",
     "output_type": "stream",
     "text": [
      " 47%|██████████████████████████████████▍                                      | 4.709714285714387/10 [23:19<25:46, 292.30s/it]"
     ]
    },
    {
     "name": "stdout",
     "output_type": "stream",
     "text": [
      "Train Epoch: 5 [19840/22400 (89%)]\tLoss: 0.692357\n",
      "Mem before-during-after: 21898752 22041600 21898752\n"
     ]
    },
    {
     "name": "stderr",
     "output_type": "stream",
     "text": [
      " 47%|██████████████████████████████████▌                                      | 4.732571428571543/10 [23:26<25:38, 292.08s/it]"
     ]
    },
    {
     "name": "stdout",
     "output_type": "stream",
     "text": [
      "Train Epoch: 5 [20480/22400 (91%)]\tLoss: 0.380696\n",
      "Mem before-during-after: 21898752 22041600 21898752\n"
     ]
    },
    {
     "name": "stderr",
     "output_type": "stream",
     "text": [
      " 48%|██████████████████████████████████▋                                      | 4.755428571428698/10 [23:32<25:37, 293.07s/it]"
     ]
    },
    {
     "name": "stdout",
     "output_type": "stream",
     "text": [
      "Train Epoch: 5 [21120/22400 (94%)]\tLoss: 1.156243\n",
      "Mem before-during-after: 21898752 22041600 21898752\n"
     ]
    },
    {
     "name": "stderr",
     "output_type": "stream",
     "text": [
      " 48%|██████████████████████████████████▉                                      | 4.778285714285854/10 [23:39<25:27, 292.45s/it]"
     ]
    },
    {
     "name": "stdout",
     "output_type": "stream",
     "text": [
      "Train Epoch: 5 [21760/22400 (97%)]\tLoss: 0.770600\n",
      "Mem before-during-after: 21898752 22041600 21898752\n"
     ]
    },
    {
     "name": "stderr",
     "output_type": "stream",
     "text": [
      " 50%|████████████████████████████████████▌                                    | 5.000571428571692/10 [24:45<24:21, 292.31s/it]"
     ]
    },
    {
     "name": "stdout",
     "output_type": "stream",
     "text": [
      "\n",
      "Test Epoch: 5\tAccuracy: 1346/5600 (24%)\n",
      "\n",
      "Train Epoch: 6 [0/22400 (0%)]\tLoss: 0.570014\n",
      "Mem before-during-after: 21897728 22041600 21898752\n"
     ]
    },
    {
     "name": "stderr",
     "output_type": "stream",
     "text": [
      " 50%|████████████████████████████████████▋                                    | 5.024000000000276/10 [24:52<24:42, 297.84s/it]"
     ]
    },
    {
     "name": "stdout",
     "output_type": "stream",
     "text": [
      "Train Epoch: 6 [640/22400 (3%)]\tLoss: 1.161477\n",
      "Mem before-during-after: 21898752 22041600 21898752\n"
     ]
    },
    {
     "name": "stderr",
     "output_type": "stream",
     "text": [
      " 50%|████████████████████████████████████▊                                    | 5.046857142857432/10 [24:59<25:02, 303.24s/it]"
     ]
    },
    {
     "name": "stdout",
     "output_type": "stream",
     "text": [
      "Train Epoch: 6 [1280/22400 (6%)]\tLoss: 0.623299\n",
      "Mem before-during-after: 21898752 22041600 21898752\n"
     ]
    },
    {
     "name": "stderr",
     "output_type": "stream",
     "text": [
      " 51%|█████████████████████████████████████                                    | 5.069714285714587/10 [25:05<24:17, 295.69s/it]"
     ]
    },
    {
     "name": "stdout",
     "output_type": "stream",
     "text": [
      "Train Epoch: 6 [1920/22400 (9%)]\tLoss: 1.189594\n",
      "Mem before-during-after: 21898752 22041600 21898752\n"
     ]
    },
    {
     "name": "stderr",
     "output_type": "stream",
     "text": [
      " 51%|█████████████████████████████████████▏                                   | 5.092571428571743/10 [25:12<24:05, 294.59s/it]"
     ]
    },
    {
     "name": "stdout",
     "output_type": "stream",
     "text": [
      "Train Epoch: 6 [2560/22400 (11%)]\tLoss: 0.889695\n",
      "Mem before-during-after: 21898752 22041600 21898752\n"
     ]
    },
    {
     "name": "stderr",
     "output_type": "stream",
     "text": [
      " 51%|████████████████████████████████████▊                                   | 5.1154285714288985/10 [25:19<24:25, 300.01s/it]"
     ]
    },
    {
     "name": "stdout",
     "output_type": "stream",
     "text": [
      "Train Epoch: 6 [3200/22400 (14%)]\tLoss: 1.135941\n",
      "Mem before-during-after: 21898752 22041600 21898752\n"
     ]
    },
    {
     "name": "stderr",
     "output_type": "stream",
     "text": [
      " 51%|█████████████████████████████████████▌                                   | 5.138285714286054/10 [25:26<24:01, 296.42s/it]"
     ]
    },
    {
     "name": "stdout",
     "output_type": "stream",
     "text": [
      "Train Epoch: 6 [3840/22400 (17%)]\tLoss: 0.665661\n",
      "Mem before-during-after: 21898752 22041600 21898752\n"
     ]
    },
    {
     "name": "stderr",
     "output_type": "stream",
     "text": [
      " 52%|██████████████████████████████████████▏                                   | 5.16114285714321/10 [25:33<25:18, 313.87s/it]"
     ]
    },
    {
     "name": "stdout",
     "output_type": "stream",
     "text": [
      "Train Epoch: 6 [4480/22400 (20%)]\tLoss: 0.839287\n",
      "Mem before-during-after: 21898752 22041600 21898752\n"
     ]
    },
    {
     "name": "stderr",
     "output_type": "stream",
     "text": [
      " 52%|█████████████████████████████████████▊                                   | 5.184000000000365/10 [25:40<23:45, 295.93s/it]"
     ]
    },
    {
     "name": "stdout",
     "output_type": "stream",
     "text": [
      "Train Epoch: 6 [5120/22400 (23%)]\tLoss: 0.672269\n",
      "Mem before-during-after: 21898752 22041600 21898752\n"
     ]
    },
    {
     "name": "stderr",
     "output_type": "stream",
     "text": [
      " 52%|██████████████████████████████████████                                   | 5.206857142857521/10 [25:46<23:27, 293.57s/it]"
     ]
    },
    {
     "name": "stdout",
     "output_type": "stream",
     "text": [
      "Train Epoch: 6 [5760/22400 (26%)]\tLoss: 0.251997\n",
      "Mem before-during-after: 21898752 22041600 21898752\n"
     ]
    },
    {
     "name": "stderr",
     "output_type": "stream",
     "text": [
      " 52%|██████████████████████████████████████▏                                  | 5.229714285714676/10 [25:53<23:21, 293.79s/it]"
     ]
    },
    {
     "name": "stdout",
     "output_type": "stream",
     "text": [
      "Train Epoch: 6 [6400/22400 (29%)]\tLoss: 0.722716\n",
      "Mem before-during-after: 21898752 22041600 21898752\n"
     ]
    },
    {
     "name": "stderr",
     "output_type": "stream",
     "text": [
      " 53%|██████████████████████████████████████▎                                  | 5.252571428571832/10 [26:00<23:14, 293.66s/it]"
     ]
    },
    {
     "name": "stdout",
     "output_type": "stream",
     "text": [
      "Train Epoch: 6 [7040/22400 (31%)]\tLoss: 0.783930\n",
      "Mem before-during-after: 21898752 22041600 21898752\n"
     ]
    },
    {
     "name": "stderr",
     "output_type": "stream",
     "text": [
      " 53%|█████████████████████████████████████▉                                  | 5.2754285714289875/10 [26:07<23:20, 296.48s/it]"
     ]
    },
    {
     "name": "stdout",
     "output_type": "stream",
     "text": [
      "Train Epoch: 6 [7680/22400 (34%)]\tLoss: 0.615006\n",
      "Mem before-during-after: 21898752 22041600 21898752\n"
     ]
    },
    {
     "name": "stderr",
     "output_type": "stream",
     "text": [
      " 53%|██████████████████████████████████████▋                                  | 5.298285714286143/10 [26:13<23:06, 294.80s/it]"
     ]
    },
    {
     "name": "stdout",
     "output_type": "stream",
     "text": [
      "Train Epoch: 6 [8320/22400 (37%)]\tLoss: 1.077216\n",
      "Mem before-during-after: 21898752 22041600 21898752\n"
     ]
    },
    {
     "name": "stderr",
     "output_type": "stream",
     "text": [
      " 53%|██████████████████████████████████████▊                                  | 5.321142857143299/10 [26:20<23:00, 295.14s/it]"
     ]
    },
    {
     "name": "stdout",
     "output_type": "stream",
     "text": [
      "Train Epoch: 6 [8960/22400 (40%)]\tLoss: 0.720556\n",
      "Mem before-during-after: 21898752 22041600 21898752\n"
     ]
    },
    {
     "name": "stderr",
     "output_type": "stream",
     "text": [
      " 53%|███████████████████████████████████████                                  | 5.344000000000454/10 [26:27<22:57, 295.88s/it]"
     ]
    },
    {
     "name": "stdout",
     "output_type": "stream",
     "text": [
      "Train Epoch: 6 [9600/22400 (43%)]\tLoss: 0.890079\n",
      "Mem before-during-after: 21898752 22041600 21898752\n"
     ]
    },
    {
     "name": "stderr",
     "output_type": "stream",
     "text": [
      " 54%|███████████████████████████████████████▋                                  | 5.36685714285761/10 [26:34<22:41, 293.87s/it]"
     ]
    },
    {
     "name": "stdout",
     "output_type": "stream",
     "text": [
      "Train Epoch: 6 [10240/22400 (46%)]\tLoss: 0.839767\n",
      "Mem before-during-after: 21898752 22041600 21898752\n"
     ]
    },
    {
     "name": "stderr",
     "output_type": "stream",
     "text": [
      " 54%|███████████████████████████████████████▎                                 | 5.389714285714765/10 [26:41<22:35, 294.07s/it]"
     ]
    },
    {
     "name": "stdout",
     "output_type": "stream",
     "text": [
      "Train Epoch: 6 [10880/22400 (49%)]\tLoss: 0.872569\n",
      "Mem before-during-after: 21898752 22041600 21898752\n"
     ]
    },
    {
     "name": "stderr",
     "output_type": "stream",
     "text": [
      " 54%|███████████████████████████████████████▌                                 | 5.412571428571921/10 [26:47<22:26, 293.62s/it]"
     ]
    },
    {
     "name": "stdout",
     "output_type": "stream",
     "text": [
      "Train Epoch: 6 [11520/22400 (51%)]\tLoss: 0.747813\n",
      "Mem before-during-after: 21898752 22041600 21898752\n"
     ]
    },
    {
     "name": "stderr",
     "output_type": "stream",
     "text": [
      " 54%|███████████████████████████████████████▋                                 | 5.435428571429076/10 [26:54<22:18, 293.21s/it]"
     ]
    },
    {
     "name": "stdout",
     "output_type": "stream",
     "text": [
      "Train Epoch: 6 [12160/22400 (54%)]\tLoss: 1.426734\n",
      "Mem before-during-after: 21898752 22041600 21898752\n"
     ]
    },
    {
     "name": "stderr",
     "output_type": "stream",
     "text": [
      " 55%|███████████████████████████████████████▊                                 | 5.458285714286232/10 [27:01<22:12, 293.37s/it]"
     ]
    },
    {
     "name": "stdout",
     "output_type": "stream",
     "text": [
      "Train Epoch: 6 [12800/22400 (57%)]\tLoss: 0.891191\n",
      "Mem before-during-after: 21898752 22041600 21898752\n"
     ]
    },
    {
     "name": "stderr",
     "output_type": "stream",
     "text": [
      " 55%|████████████████████████████████████████                                 | 5.481142857143388/10 [27:08<22:07, 293.73s/it]"
     ]
    },
    {
     "name": "stdout",
     "output_type": "stream",
     "text": [
      "Train Epoch: 6 [13440/22400 (60%)]\tLoss: 1.129928\n",
      "Mem before-during-after: 21898752 22041600 21898752\n"
     ]
    },
    {
     "name": "stderr",
     "output_type": "stream",
     "text": [
      " 55%|████████████████████████████████████████▏                                | 5.504000000000543/10 [27:15<21:57, 293.00s/it]"
     ]
    },
    {
     "name": "stdout",
     "output_type": "stream",
     "text": [
      "Train Epoch: 6 [14080/22400 (63%)]\tLoss: 1.321380\n",
      "Mem before-during-after: 21898752 22041600 21898752\n"
     ]
    },
    {
     "name": "stderr",
     "output_type": "stream",
     "text": [
      " 55%|████████████████████████████████████████▎                                | 5.526857142857699/10 [27:21<21:57, 294.55s/it]"
     ]
    },
    {
     "name": "stdout",
     "output_type": "stream",
     "text": [
      "Train Epoch: 6 [14720/22400 (66%)]\tLoss: 0.766315\n",
      "Mem before-during-after: 21898752 22041600 21898752\n"
     ]
    },
    {
     "name": "stderr",
     "output_type": "stream",
     "text": [
      " 55%|████████████████████████████████████████▌                                | 5.549714285714854/10 [27:28<21:46, 293.65s/it]"
     ]
    },
    {
     "name": "stdout",
     "output_type": "stream",
     "text": [
      "Train Epoch: 6 [15360/22400 (69%)]\tLoss: 0.983223\n",
      "Mem before-during-after: 21898752 22041600 21898752\n"
     ]
    },
    {
     "name": "stderr",
     "output_type": "stream",
     "text": [
      " 56%|█████████████████████████████████████████▏                                | 5.57257142857201/10 [27:35<21:38, 293.27s/it]"
     ]
    },
    {
     "name": "stdout",
     "output_type": "stream",
     "text": [
      "Train Epoch: 6 [16000/22400 (71%)]\tLoss: 0.539193\n",
      "Mem before-during-after: 21898752 22041600 21898752\n"
     ]
    },
    {
     "name": "stderr",
     "output_type": "stream",
     "text": [
      " 56%|████████████████████████████████████████▊                                | 5.595428571429165/10 [27:41<21:32, 293.45s/it]"
     ]
    },
    {
     "name": "stdout",
     "output_type": "stream",
     "text": [
      "Train Epoch: 6 [16640/22400 (74%)]\tLoss: 0.707235\n",
      "Mem before-during-after: 21898752 22041600 21898752\n"
     ]
    },
    {
     "name": "stderr",
     "output_type": "stream",
     "text": [
      " 56%|█████████████████████████████████████████                                | 5.618285714286321/10 [27:48<21:47, 298.40s/it]"
     ]
    },
    {
     "name": "stdout",
     "output_type": "stream",
     "text": [
      "Train Epoch: 6 [17280/22400 (77%)]\tLoss: 0.753608\n",
      "Mem before-during-after: 21898752 22041600 21898752\n"
     ]
    },
    {
     "name": "stderr",
     "output_type": "stream",
     "text": [
      " 56%|████████████████████████████████████████▌                               | 5.6411428571434765/10 [27:55<21:17, 293.05s/it]"
     ]
    },
    {
     "name": "stdout",
     "output_type": "stream",
     "text": [
      "Train Epoch: 6 [17920/22400 (80%)]\tLoss: 0.571187\n",
      "Mem before-during-after: 21898752 22041600 21898752\n"
     ]
    },
    {
     "name": "stderr",
     "output_type": "stream",
     "text": [
      " 57%|█████████████████████████████████████████▎                               | 5.664000000000632/10 [28:02<21:26, 296.64s/it]"
     ]
    },
    {
     "name": "stdout",
     "output_type": "stream",
     "text": [
      "Train Epoch: 6 [18560/22400 (83%)]\tLoss: 0.743380\n",
      "Mem before-during-after: 21898752 22041600 21898752\n"
     ]
    },
    {
     "name": "stderr",
     "output_type": "stream",
     "text": [
      " 57%|█████████████████████████████████████████▌                               | 5.686857142857788/10 [28:08<21:11, 294.77s/it]"
     ]
    },
    {
     "name": "stdout",
     "output_type": "stream",
     "text": [
      "Train Epoch: 6 [19200/22400 (86%)]\tLoss: 0.920149\n",
      "Mem before-during-after: 21898752 22041600 21898752\n"
     ]
    },
    {
     "name": "stderr",
     "output_type": "stream",
     "text": [
      " 57%|█████████████████████████████████████████▋                               | 5.709714285714943/10 [28:15<21:08, 295.75s/it]"
     ]
    },
    {
     "name": "stdout",
     "output_type": "stream",
     "text": [
      "Train Epoch: 6 [19840/22400 (89%)]\tLoss: 0.861905\n",
      "Mem before-during-after: 21898752 22041600 21898752\n"
     ]
    },
    {
     "name": "stderr",
     "output_type": "stream",
     "text": [
      " 57%|█████████████████████████████████████████▊                               | 5.732571428572099/10 [28:22<20:55, 294.16s/it]"
     ]
    },
    {
     "name": "stdout",
     "output_type": "stream",
     "text": [
      "Train Epoch: 6 [20480/22400 (91%)]\tLoss: 0.654460\n",
      "Mem before-during-after: 21898752 22041600 21898752\n"
     ]
    },
    {
     "name": "stderr",
     "output_type": "stream",
     "text": [
      " 58%|██████████████████████████████████████████                               | 5.755428571429254/10 [28:29<20:50, 294.64s/it]"
     ]
    },
    {
     "name": "stdout",
     "output_type": "stream",
     "text": [
      "Train Epoch: 6 [21120/22400 (94%)]\tLoss: 0.953224\n",
      "Mem before-during-after: 21898752 22041600 21898752\n"
     ]
    },
    {
     "name": "stderr",
     "output_type": "stream",
     "text": [
      " 58%|██████████████████████████████████████████▊                               | 5.77828571428641/10 [28:36<20:42, 294.24s/it]"
     ]
    },
    {
     "name": "stdout",
     "output_type": "stream",
     "text": [
      "Train Epoch: 6 [21760/22400 (97%)]\tLoss: 0.814903\n",
      "Mem before-during-after: 21898752 22041600 21898752\n"
     ]
    },
    {
     "name": "stderr",
     "output_type": "stream",
     "text": [
      " 60%|███████████████████████████████████████████▊                             | 6.000571428572248/10 [29:41<19:31, 292.88s/it]"
     ]
    },
    {
     "name": "stdout",
     "output_type": "stream",
     "text": [
      "\n",
      "Test Epoch: 6\tAccuracy: 1345/5600 (24%)\n",
      "\n",
      "Train Epoch: 7 [0/22400 (0%)]\tLoss: 0.499462\n",
      "Mem before-during-after: 21897728 22041600 21898752\n"
     ]
    },
    {
     "name": "stderr",
     "output_type": "stream",
     "text": [
      " 60%|███████████████████████████████████████████▉                             | 6.024000000000832/10 [29:48<19:31, 294.65s/it]"
     ]
    },
    {
     "name": "stdout",
     "output_type": "stream",
     "text": [
      "Train Epoch: 7 [640/22400 (3%)]\tLoss: 0.570466\n",
      "Mem before-during-after: 21898752 22041600 21898752\n"
     ]
    },
    {
     "name": "stderr",
     "output_type": "stream",
     "text": [
      " 60%|████████████████████████████████████████████▏                            | 6.046857142857988/10 [29:55<19:21, 293.78s/it]"
     ]
    },
    {
     "name": "stdout",
     "output_type": "stream",
     "text": [
      "Train Epoch: 7 [1280/22400 (6%)]\tLoss: 0.594575\n",
      "Mem before-during-after: 21898752 22041600 21898752\n"
     ]
    },
    {
     "name": "stderr",
     "output_type": "stream",
     "text": [
      " 61%|████████████████████████████████████████████▎                            | 6.069714285715143/10 [30:01<19:11, 293.02s/it]"
     ]
    },
    {
     "name": "stdout",
     "output_type": "stream",
     "text": [
      "Train Epoch: 7 [1920/22400 (9%)]\tLoss: 0.388423\n",
      "Mem before-during-after: 21898752 22041600 21898752\n"
     ]
    },
    {
     "name": "stderr",
     "output_type": "stream",
     "text": [
      " 61%|████████████████████████████████████████████▍                            | 6.092571428572299/10 [30:08<19:40, 302.08s/it]"
     ]
    },
    {
     "name": "stdout",
     "output_type": "stream",
     "text": [
      "Train Epoch: 7 [2560/22400 (11%)]\tLoss: 1.060530\n",
      "Mem before-during-after: 21898752 22041600 21898752\n"
     ]
    },
    {
     "name": "stderr",
     "output_type": "stream",
     "text": [
      " 61%|████████████████████████████████████████████                            | 6.1154285714294545/10 [30:15<19:22, 299.32s/it]"
     ]
    },
    {
     "name": "stdout",
     "output_type": "stream",
     "text": [
      "Train Epoch: 7 [3200/22400 (14%)]\tLoss: 0.984889\n",
      "Mem before-during-after: 21898752 22041600 21898752\n"
     ]
    },
    {
     "name": "stderr",
     "output_type": "stream",
     "text": [
      " 61%|█████████████████████████████████████████████▍                            | 6.13828571428661/10 [30:22<19:04, 296.50s/it]"
     ]
    },
    {
     "name": "stdout",
     "output_type": "stream",
     "text": [
      "Train Epoch: 7 [3840/22400 (17%)]\tLoss: 1.031326\n",
      "Mem before-during-after: 21898752 22041600 21898752\n"
     ]
    },
    {
     "name": "stderr",
     "output_type": "stream",
     "text": [
      " 62%|████████████████████████████████████████████▉                            | 6.161142857143766/10 [30:29<19:04, 298.09s/it]"
     ]
    },
    {
     "name": "stdout",
     "output_type": "stream",
     "text": [
      "Train Epoch: 7 [4480/22400 (20%)]\tLoss: 0.921585\n",
      "Mem before-during-after: 21898752 22041600 21898752\n"
     ]
    },
    {
     "name": "stderr",
     "output_type": "stream",
     "text": [
      " 62%|█████████████████████████████████████████████▏                           | 6.184000000000921/10 [30:35<18:47, 295.53s/it]"
     ]
    },
    {
     "name": "stdout",
     "output_type": "stream",
     "text": [
      "Train Epoch: 7 [5120/22400 (23%)]\tLoss: 0.587060\n",
      "Mem before-during-after: 21898752 22041600 21898752\n"
     ]
    },
    {
     "name": "stderr",
     "output_type": "stream",
     "text": [
      " 62%|█████████████████████████████████████████████▎                           | 6.206857142858077/10 [30:42<18:48, 297.48s/it]"
     ]
    },
    {
     "name": "stdout",
     "output_type": "stream",
     "text": [
      "Train Epoch: 7 [5760/22400 (26%)]\tLoss: 0.598110\n",
      "Mem before-during-after: 21898752 22041600 21898752\n"
     ]
    },
    {
     "name": "stderr",
     "output_type": "stream",
     "text": [
      " 62%|█████████████████████████████████████████████▍                           | 6.229714285715232/10 [30:49<18:44, 298.22s/it]"
     ]
    },
    {
     "name": "stdout",
     "output_type": "stream",
     "text": [
      "Train Epoch: 7 [6400/22400 (29%)]\tLoss: 0.873018\n",
      "Mem before-during-after: 21898752 22041600 21898752\n"
     ]
    },
    {
     "name": "stderr",
     "output_type": "stream",
     "text": [
      " 63%|█████████████████████████████████████████████▋                           | 6.252571428572388/10 [30:56<18:28, 295.86s/it]"
     ]
    },
    {
     "name": "stdout",
     "output_type": "stream",
     "text": [
      "Train Epoch: 7 [7040/22400 (31%)]\tLoss: 0.650966\n",
      "Mem before-during-after: 21898752 22041600 21898752\n"
     ]
    },
    {
     "name": "stderr",
     "output_type": "stream",
     "text": [
      " 63%|█████████████████████████████████████████████▏                          | 6.2754285714295435/10 [31:03<18:27, 297.25s/it]"
     ]
    },
    {
     "name": "stdout",
     "output_type": "stream",
     "text": [
      "Train Epoch: 7 [7680/22400 (34%)]\tLoss: 0.607447\n",
      "Mem before-during-after: 21898752 22041600 21898752\n"
     ]
    },
    {
     "name": "stderr",
     "output_type": "stream",
     "text": [
      " 63%|█████████████████████████████████████████████▉                           | 6.298285714286699/10 [31:10<18:15, 296.00s/it]"
     ]
    },
    {
     "name": "stdout",
     "output_type": "stream",
     "text": [
      "Train Epoch: 7 [8320/22400 (37%)]\tLoss: 0.447765\n",
      "Mem before-during-after: 21898752 22041600 21898752\n"
     ]
    },
    {
     "name": "stderr",
     "output_type": "stream",
     "text": [
      " 63%|██████████████████████████████████████████████▏                          | 6.321142857143855/10 [31:16<19:25, 316.74s/it]"
     ]
    },
    {
     "name": "stdout",
     "output_type": "stream",
     "text": [
      "Train Epoch: 7 [8960/22400 (40%)]\tLoss: 1.239332\n",
      "Mem before-during-after: 21898752 22041600 21898752\n"
     ]
    },
    {
     "name": "stderr",
     "output_type": "stream",
     "text": [
      " 63%|██████████████████████████████████████████████▉                           | 6.34400000000101/10 [31:23<18:02, 296.16s/it]"
     ]
    },
    {
     "name": "stdout",
     "output_type": "stream",
     "text": [
      "Train Epoch: 7 [9600/22400 (43%)]\tLoss: 1.100186\n",
      "Mem before-during-after: 21898752 22041600 21898752\n"
     ]
    },
    {
     "name": "stderr",
     "output_type": "stream",
     "text": [
      " 64%|██████████████████████████████████████████████▍                          | 6.366857142858166/10 [31:30<18:05, 298.76s/it]"
     ]
    },
    {
     "name": "stdout",
     "output_type": "stream",
     "text": [
      "Train Epoch: 7 [10240/22400 (46%)]\tLoss: 0.973201\n",
      "Mem before-during-after: 21898752 22041600 21898752\n"
     ]
    },
    {
     "name": "stderr",
     "output_type": "stream",
     "text": [
      " 64%|██████████████████████████████████████████████▋                          | 6.389714285715321/10 [31:37<17:46, 295.50s/it]"
     ]
    },
    {
     "name": "stdout",
     "output_type": "stream",
     "text": [
      "Train Epoch: 7 [10880/22400 (49%)]\tLoss: 0.771116\n",
      "Mem before-during-after: 21898752 22041600 21898752\n"
     ]
    },
    {
     "name": "stderr",
     "output_type": "stream",
     "text": [
      " 64%|██████████████████████████████████████████████▊                          | 6.412571428572477/10 [31:44<17:42, 296.28s/it]"
     ]
    },
    {
     "name": "stdout",
     "output_type": "stream",
     "text": [
      "Train Epoch: 7 [11520/22400 (51%)]\tLoss: 0.682993\n",
      "Mem before-during-after: 21898752 22041600 21898752\n"
     ]
    },
    {
     "name": "stderr",
     "output_type": "stream",
     "text": [
      " 64%|██████████████████████████████████████████████▉                          | 6.435428571429632/10 [31:50<17:41, 297.91s/it]"
     ]
    },
    {
     "name": "stdout",
     "output_type": "stream",
     "text": [
      "Train Epoch: 7 [12160/22400 (54%)]\tLoss: 0.575295\n",
      "Mem before-during-after: 21898752 22041600 21898752\n"
     ]
    },
    {
     "name": "stderr",
     "output_type": "stream",
     "text": [
      " 65%|███████████████████████████████████████████████▏                         | 6.458285714286788/10 [31:57<17:17, 292.98s/it]"
     ]
    },
    {
     "name": "stdout",
     "output_type": "stream",
     "text": [
      "Train Epoch: 7 [12800/22400 (57%)]\tLoss: 0.793192\n",
      "Mem before-during-after: 21898752 22041600 21898752\n"
     ]
    },
    {
     "name": "stderr",
     "output_type": "stream",
     "text": [
      " 65%|███████████████████████████████████████████████▎                         | 6.481142857143944/10 [32:04<17:12, 293.29s/it]"
     ]
    },
    {
     "name": "stdout",
     "output_type": "stream",
     "text": [
      "Train Epoch: 7 [13440/22400 (60%)]\tLoss: 0.610227\n",
      "Mem before-during-after: 21898752 22041600 21898752\n"
     ]
    },
    {
     "name": "stderr",
     "output_type": "stream",
     "text": [
      " 65%|███████████████████████████████████████████████▍                         | 6.504000000001099/10 [32:10<17:02, 292.39s/it]"
     ]
    },
    {
     "name": "stdout",
     "output_type": "stream",
     "text": [
      "Train Epoch: 7 [14080/22400 (63%)]\tLoss: 0.819468\n",
      "Mem before-during-after: 21898752 22041600 21898752\n"
     ]
    },
    {
     "name": "stderr",
     "output_type": "stream",
     "text": [
      " 65%|███████████████████████████████████████████████▋                         | 6.526857142858255/10 [32:17<17:05, 295.34s/it]"
     ]
    },
    {
     "name": "stdout",
     "output_type": "stream",
     "text": [
      "Train Epoch: 7 [14720/22400 (66%)]\tLoss: 0.534485\n",
      "Mem before-during-after: 21898752 22041600 21898752\n"
     ]
    },
    {
     "name": "stderr",
     "output_type": "stream",
     "text": [
      " 65%|████████████████████████████████████████████████▍                         | 6.54971428571541/10 [32:24<16:58, 295.28s/it]"
     ]
    },
    {
     "name": "stdout",
     "output_type": "stream",
     "text": [
      "Train Epoch: 7 [15360/22400 (69%)]\tLoss: 0.602412\n",
      "Mem before-during-after: 21898752 22041600 21898752\n"
     ]
    },
    {
     "name": "stderr",
     "output_type": "stream",
     "text": [
      " 66%|███████████████████████████████████████████████▉                         | 6.572571428572566/10 [32:31<16:45, 293.38s/it]"
     ]
    },
    {
     "name": "stdout",
     "output_type": "stream",
     "text": [
      "Train Epoch: 7 [16000/22400 (71%)]\tLoss: 0.734856\n",
      "Mem before-during-after: 21898752 22041600 21898752\n"
     ]
    },
    {
     "name": "stderr",
     "output_type": "stream",
     "text": [
      " 66%|████████████████████████████████████████████████▏                        | 6.595428571429721/10 [32:38<16:33, 291.95s/it]"
     ]
    },
    {
     "name": "stdout",
     "output_type": "stream",
     "text": [
      "Train Epoch: 7 [16640/22400 (74%)]\tLoss: 0.476362\n",
      "Mem before-during-after: 21898752 22041600 21898752\n"
     ]
    },
    {
     "name": "stderr",
     "output_type": "stream",
     "text": [
      " 66%|████████████████████████████████████████████████▎                        | 6.618285714286877/10 [32:44<16:30, 292.81s/it]"
     ]
    },
    {
     "name": "stdout",
     "output_type": "stream",
     "text": [
      "Train Epoch: 7 [17280/22400 (77%)]\tLoss: 0.482384\n",
      "Mem before-during-after: 21898752 22041600 21898752\n"
     ]
    },
    {
     "name": "stderr",
     "output_type": "stream",
     "text": [
      " 66%|███████████████████████████████████████████████▊                        | 6.6411428571440325/10 [32:51<17:41, 316.04s/it]"
     ]
    },
    {
     "name": "stdout",
     "output_type": "stream",
     "text": [
      "Train Epoch: 7 [17920/22400 (80%)]\tLoss: 0.348830\n",
      "Mem before-during-after: 21898752 22041600 21898752\n"
     ]
    },
    {
     "name": "stderr",
     "output_type": "stream",
     "text": [
      " 67%|████████████████████████████████████████████████▋                        | 6.664000000001188/10 [32:58<16:28, 296.25s/it]"
     ]
    },
    {
     "name": "stdout",
     "output_type": "stream",
     "text": [
      "Train Epoch: 7 [18560/22400 (83%)]\tLoss: 1.049559\n",
      "Mem before-during-after: 21898752 22041600 21898752\n"
     ]
    },
    {
     "name": "stderr",
     "output_type": "stream",
     "text": [
      " 67%|████████████████████████████████████████████████▊                        | 6.686857142858344/10 [33:05<16:20, 295.93s/it]"
     ]
    },
    {
     "name": "stdout",
     "output_type": "stream",
     "text": [
      "Train Epoch: 7 [19200/22400 (86%)]\tLoss: 0.646778\n",
      "Mem before-during-after: 21898752 22041600 21898752\n"
     ]
    },
    {
     "name": "stderr",
     "output_type": "stream",
     "text": [
      " 67%|████████████████████████████████████████████████▉                        | 6.709714285715499/10 [33:11<16:07, 294.18s/it]"
     ]
    },
    {
     "name": "stdout",
     "output_type": "stream",
     "text": [
      "Train Epoch: 7 [19840/22400 (89%)]\tLoss: 0.836337\n",
      "Mem before-during-after: 21898752 22041600 21898752\n"
     ]
    },
    {
     "name": "stderr",
     "output_type": "stream",
     "text": [
      " 67%|█████████████████████████████████████████████████▏                       | 6.732571428572655/10 [33:18<16:18, 299.50s/it]"
     ]
    },
    {
     "name": "stdout",
     "output_type": "stream",
     "text": [
      "Train Epoch: 7 [20480/22400 (91%)]\tLoss: 0.236837\n",
      "Mem before-during-after: 21898752 22041600 21898752\n"
     ]
    },
    {
     "name": "stderr",
     "output_type": "stream",
     "text": [
      " 68%|█████████████████████████████████████████████████▉                        | 6.75542857142981/10 [33:25<15:56, 294.80s/it]"
     ]
    },
    {
     "name": "stdout",
     "output_type": "stream",
     "text": [
      "Train Epoch: 7 [21120/22400 (94%)]\tLoss: 1.045556\n",
      "Mem before-during-after: 21898752 22041600 21898752\n"
     ]
    },
    {
     "name": "stderr",
     "output_type": "stream",
     "text": [
      " 68%|█████████████████████████████████████████████████▍                       | 6.778285714286966/10 [33:32<15:42, 292.59s/it]"
     ]
    },
    {
     "name": "stdout",
     "output_type": "stream",
     "text": [
      "Train Epoch: 7 [21760/22400 (97%)]\tLoss: 0.788268\n",
      "Mem before-during-after: 21898752 22041600 21898752\n"
     ]
    },
    {
     "name": "stderr",
     "output_type": "stream",
     "text": [
      " 70%|███████████████████████████████████████████████████                      | 7.000571428572804/10 [34:37<14:36, 292.24s/it]"
     ]
    },
    {
     "name": "stdout",
     "output_type": "stream",
     "text": [
      "\n",
      "Test Epoch: 7\tAccuracy: 1344/5600 (24%)\n",
      "\n",
      "Train Epoch: 8 [0/22400 (0%)]\tLoss: 0.776408\n",
      "Mem before-during-after: 21897728 22041600 21898752\n"
     ]
    },
    {
     "name": "stderr",
     "output_type": "stream",
     "text": [
      " 70%|███████████████████████████████████████████████████▎                     | 7.024000000001388/10 [34:44<14:31, 292.97s/it]"
     ]
    },
    {
     "name": "stdout",
     "output_type": "stream",
     "text": [
      "Train Epoch: 8 [640/22400 (3%)]\tLoss: 0.550719\n",
      "Mem before-during-after: 21898752 22041600 21898752\n"
     ]
    },
    {
     "name": "stderr",
     "output_type": "stream",
     "text": [
      " 70%|███████████████████████████████████████████████████▍                     | 7.046857142858544/10 [34:51<14:33, 295.80s/it]"
     ]
    },
    {
     "name": "stdout",
     "output_type": "stream",
     "text": [
      "Train Epoch: 8 [1280/22400 (6%)]\tLoss: 0.572810\n",
      "Mem before-during-after: 21898752 22041600 21898752\n"
     ]
    },
    {
     "name": "stderr",
     "output_type": "stream",
     "text": [
      " 71%|███████████████████████████████████████████████████▌                     | 7.069714285715699/10 [34:58<14:15, 292.00s/it]"
     ]
    },
    {
     "name": "stdout",
     "output_type": "stream",
     "text": [
      "Train Epoch: 8 [1920/22400 (9%)]\tLoss: 1.228237\n",
      "Mem before-during-after: 21898752 22041600 21898752\n"
     ]
    },
    {
     "name": "stderr",
     "output_type": "stream",
     "text": [
      " 71%|███████████████████████████████████████████████████▊                     | 7.092571428572855/10 [35:05<14:17, 295.03s/it]"
     ]
    },
    {
     "name": "stdout",
     "output_type": "stream",
     "text": [
      "Train Epoch: 8 [2560/22400 (11%)]\tLoss: 0.826950\n",
      "Mem before-during-after: 21898752 22041600 21898752\n"
     ]
    },
    {
     "name": "stderr",
     "output_type": "stream",
     "text": [
      " 71%|███████████████████████████████████████████████████▉                     | 7.114857142858582/10 [35:11<14:16, 296.92s/it]"
     ]
    },
    {
     "name": "stdout",
     "output_type": "stream",
     "text": [
      "Train Epoch: 8 [3200/22400 (14%)]\tLoss: 0.714306\n",
      "Mem before-during-after: 21898752 22041600 21898752\n"
     ]
    },
    {
     "name": "stderr",
     "output_type": "stream",
     "text": [
      " 71%|████████████████████████████████████████████████████                     | 7.138285714287166/10 [35:18<13:56, 292.32s/it]"
     ]
    },
    {
     "name": "stdout",
     "output_type": "stream",
     "text": [
      "Train Epoch: 8 [3840/22400 (17%)]\tLoss: 0.735964\n",
      "Mem before-during-after: 21898752 22041600 21898752\n"
     ]
    },
    {
     "name": "stderr",
     "output_type": "stream",
     "text": [
      " 72%|████████████████████████████████████████████████████▎                    | 7.161142857144322/10 [35:25<13:53, 293.75s/it]"
     ]
    },
    {
     "name": "stdout",
     "output_type": "stream",
     "text": [
      "Train Epoch: 8 [4480/22400 (20%)]\tLoss: 0.664495\n",
      "Mem before-during-after: 21898752 22041600 21898752\n"
     ]
    },
    {
     "name": "stderr",
     "output_type": "stream",
     "text": [
      " 72%|████████████████████████████████████████████████████▍                    | 7.184000000001477/10 [35:31<13:52, 295.69s/it]"
     ]
    },
    {
     "name": "stdout",
     "output_type": "stream",
     "text": [
      "Train Epoch: 8 [5120/22400 (23%)]\tLoss: 0.619805\n",
      "Mem before-during-after: 21898752 22041600 21898752\n"
     ]
    },
    {
     "name": "stderr",
     "output_type": "stream",
     "text": [
      " 72%|████████████████████████████████████████████████████▌                    | 7.206857142858633/10 [35:38<13:38, 292.91s/it]"
     ]
    },
    {
     "name": "stdout",
     "output_type": "stream",
     "text": [
      "Train Epoch: 8 [5760/22400 (26%)]\tLoss: 0.874707\n",
      "Mem before-during-after: 21898752 22041600 21898752\n"
     ]
    },
    {
     "name": "stderr",
     "output_type": "stream",
     "text": [
      " 72%|████████████████████████████████████████████████████▊                    | 7.229714285715788/10 [35:45<13:40, 296.15s/it]"
     ]
    },
    {
     "name": "stdout",
     "output_type": "stream",
     "text": [
      "Train Epoch: 8 [6400/22400 (29%)]\tLoss: 0.403647\n",
      "Mem before-during-after: 21898752 22041600 21898752\n"
     ]
    },
    {
     "name": "stderr",
     "output_type": "stream",
     "text": [
      " 73%|████████████████████████████████████████████████████▉                    | 7.252571428572944/10 [35:52<13:39, 298.33s/it]"
     ]
    },
    {
     "name": "stdout",
     "output_type": "stream",
     "text": [
      "Train Epoch: 8 [7040/22400 (31%)]\tLoss: 1.073052\n",
      "Mem before-during-after: 21898752 22041600 21898752\n"
     ]
    },
    {
     "name": "stderr",
     "output_type": "stream",
     "text": [
      " 73%|████████████████████████████████████████████████████▍                   | 7.2754285714300995/10 [35:59<13:21, 294.10s/it]"
     ]
    },
    {
     "name": "stdout",
     "output_type": "stream",
     "text": [
      "Train Epoch: 8 [7680/22400 (34%)]\tLoss: 0.615297\n",
      "Mem before-during-after: 21898752 22041600 21898752\n"
     ]
    },
    {
     "name": "stderr",
     "output_type": "stream",
     "text": [
      " 73%|█████████████████████████████████████████████████████▎                   | 7.298285714287255/10 [36:05<13:13, 293.65s/it]"
     ]
    },
    {
     "name": "stdout",
     "output_type": "stream",
     "text": [
      "Train Epoch: 8 [8320/22400 (37%)]\tLoss: 0.323209\n",
      "Mem before-during-after: 21898752 22041600 21898752\n"
     ]
    },
    {
     "name": "stderr",
     "output_type": "stream",
     "text": [
      " 73%|█████████████████████████████████████████████████████▍                   | 7.321142857144411/10 [36:12<13:05, 293.36s/it]"
     ]
    },
    {
     "name": "stdout",
     "output_type": "stream",
     "text": [
      "Train Epoch: 8 [8960/22400 (40%)]\tLoss: 0.470511\n",
      "Mem before-during-after: 21898752 22041600 21898752\n"
     ]
    },
    {
     "name": "stderr",
     "output_type": "stream",
     "text": [
      " 73%|█████████████████████████████████████████████████████▌                   | 7.344000000001566/10 [36:19<12:58, 293.19s/it]"
     ]
    },
    {
     "name": "stdout",
     "output_type": "stream",
     "text": [
      "Train Epoch: 8 [9600/22400 (43%)]\tLoss: 0.442997\n",
      "Mem before-during-after: 21898752 22041600 21898752\n"
     ]
    },
    {
     "name": "stderr",
     "output_type": "stream",
     "text": [
      " 74%|█████████████████████████████████████████████████████▊                   | 7.366857142858722/10 [36:26<12:59, 295.86s/it]"
     ]
    },
    {
     "name": "stdout",
     "output_type": "stream",
     "text": [
      "Train Epoch: 8 [10240/22400 (46%)]\tLoss: 0.404894\n",
      "Mem before-during-after: 21898752 22041600 21898752\n"
     ]
    },
    {
     "name": "stderr",
     "output_type": "stream",
     "text": [
      " 74%|█████████████████████████████████████████████████████▉                   | 7.389714285715877/10 [36:32<12:49, 294.69s/it]"
     ]
    },
    {
     "name": "stdout",
     "output_type": "stream",
     "text": [
      "Train Epoch: 8 [10880/22400 (49%)]\tLoss: 0.461935\n",
      "Mem before-during-after: 21898752 22041600 21898752\n"
     ]
    },
    {
     "name": "stderr",
     "output_type": "stream",
     "text": [
      " 74%|██████████████████████████████████████████████████████                   | 7.412571428573033/10 [36:39<12:42, 294.82s/it]"
     ]
    },
    {
     "name": "stdout",
     "output_type": "stream",
     "text": [
      "Train Epoch: 8 [11520/22400 (51%)]\tLoss: 0.964535\n",
      "Mem before-during-after: 21898752 22041600 21898752\n"
     ]
    },
    {
     "name": "stderr",
     "output_type": "stream",
     "text": [
      " 74%|██████████████████████████████████████████████████████▎                  | 7.435428571430188/10 [36:46<12:38, 295.57s/it]"
     ]
    },
    {
     "name": "stdout",
     "output_type": "stream",
     "text": [
      "Train Epoch: 8 [12160/22400 (54%)]\tLoss: 0.553270\n",
      "Mem before-during-after: 21898752 22041600 21898752\n"
     ]
    },
    {
     "name": "stderr",
     "output_type": "stream",
     "text": [
      " 75%|██████████████████████████████████████████████████████▍                  | 7.458285714287344/10 [36:53<12:52, 304.04s/it]"
     ]
    },
    {
     "name": "stdout",
     "output_type": "stream",
     "text": [
      "Train Epoch: 8 [12800/22400 (57%)]\tLoss: 0.403864\n",
      "Mem before-during-after: 21898752 22041600 21898752\n"
     ]
    },
    {
     "name": "stderr",
     "output_type": "stream",
     "text": [
      " 75%|████████████████████████████████████████████████████████                   | 7.4811428571445/10 [36:59<12:22, 294.85s/it]"
     ]
    },
    {
     "name": "stdout",
     "output_type": "stream",
     "text": [
      "Train Epoch: 8 [13440/22400 (60%)]\tLoss: 1.411011\n",
      "Mem before-during-after: 21898752 22041600 21898752\n"
     ]
    },
    {
     "name": "stderr",
     "output_type": "stream",
     "text": [
      " 75%|██████████████████████████████████████████████████████▊                  | 7.504000000001655/10 [37:06<12:08, 291.81s/it]"
     ]
    },
    {
     "name": "stdout",
     "output_type": "stream",
     "text": [
      "Train Epoch: 8 [14080/22400 (63%)]\tLoss: 0.551264\n",
      "Mem before-during-after: 21898752 22041600 21898752\n"
     ]
    },
    {
     "name": "stderr",
     "output_type": "stream",
     "text": [
      " 75%|██████████████████████████████████████████████████████▉                  | 7.526857142858811/10 [37:13<12:22, 300.42s/it]"
     ]
    },
    {
     "name": "stdout",
     "output_type": "stream",
     "text": [
      "Train Epoch: 8 [14720/22400 (66%)]\tLoss: 0.669004\n",
      "Mem before-during-after: 21898752 22041600 21898752\n"
     ]
    },
    {
     "name": "stderr",
     "output_type": "stream",
     "text": [
      " 75%|███████████████████████████████████████████████████████                  | 7.549714285715966/10 [37:20<12:01, 294.44s/it]"
     ]
    },
    {
     "name": "stdout",
     "output_type": "stream",
     "text": [
      "Train Epoch: 8 [15360/22400 (69%)]\tLoss: 0.958747\n",
      "Mem before-during-after: 21898752 22041600 21898752\n"
     ]
    },
    {
     "name": "stderr",
     "output_type": "stream",
     "text": [
      " 76%|███████████████████████████████████████████████████████▎                 | 7.572571428573122/10 [37:27<11:53, 294.06s/it]"
     ]
    },
    {
     "name": "stdout",
     "output_type": "stream",
     "text": [
      "Train Epoch: 8 [16000/22400 (71%)]\tLoss: 0.449791\n",
      "Mem before-during-after: 21898752 22041600 21898752\n"
     ]
    },
    {
     "name": "stderr",
     "output_type": "stream",
     "text": [
      " 76%|███████████████████████████████████████████████████████▍                 | 7.595428571430277/10 [37:33<11:48, 294.63s/it]"
     ]
    },
    {
     "name": "stdout",
     "output_type": "stream",
     "text": [
      "Train Epoch: 8 [16640/22400 (74%)]\tLoss: 0.774092\n",
      "Mem before-during-after: 21898752 22041600 21898752\n"
     ]
    },
    {
     "name": "stderr",
     "output_type": "stream",
     "text": [
      " 76%|███████████████████████████████████████████████████████▌                 | 7.618285714287433/10 [37:40<11:33, 291.14s/it]"
     ]
    },
    {
     "name": "stdout",
     "output_type": "stream",
     "text": [
      "Train Epoch: 8 [17280/22400 (77%)]\tLoss: 0.936043\n",
      "Mem before-during-after: 21898752 22041600 21898752\n"
     ]
    },
    {
     "name": "stderr",
     "output_type": "stream",
     "text": [
      " 76%|███████████████████████████████████████████████████████                 | 7.6411428571445885/10 [37:47<11:46, 299.30s/it]"
     ]
    },
    {
     "name": "stdout",
     "output_type": "stream",
     "text": [
      "Train Epoch: 8 [17920/22400 (80%)]\tLoss: 0.699598\n",
      "Mem before-during-after: 21898752 22041600 21898752\n"
     ]
    },
    {
     "name": "stderr",
     "output_type": "stream",
     "text": [
      " 77%|███████████████████████████████████████████████████████▉                 | 7.664000000001744/10 [37:54<11:27, 294.41s/it]"
     ]
    },
    {
     "name": "stdout",
     "output_type": "stream",
     "text": [
      "Train Epoch: 8 [18560/22400 (83%)]\tLoss: 0.756307\n",
      "Mem before-during-after: 21898752 22041600 21898752\n"
     ]
    },
    {
     "name": "stderr",
     "output_type": "stream",
     "text": [
      " 77%|█████████████████████████████████████████████████████████▋                 | 7.6868571428589/10 [38:01<11:16, 292.66s/it]"
     ]
    },
    {
     "name": "stdout",
     "output_type": "stream",
     "text": [
      "Train Epoch: 8 [19200/22400 (86%)]\tLoss: 0.714829\n",
      "Mem before-during-after: 21898752 22041600 21898752\n"
     ]
    },
    {
     "name": "stderr",
     "output_type": "stream",
     "text": [
      " 77%|████████████████████████████████████████████████████████▎                | 7.709714285716055/10 [38:07<11:10, 292.84s/it]"
     ]
    },
    {
     "name": "stdout",
     "output_type": "stream",
     "text": [
      "Train Epoch: 8 [19840/22400 (89%)]\tLoss: 0.735902\n",
      "Mem before-during-after: 21898752 22041600 21898752\n"
     ]
    },
    {
     "name": "stderr",
     "output_type": "stream",
     "text": [
      " 77%|████████████████████████████████████████████████████████▍                | 7.732571428573211/10 [38:14<11:05, 293.68s/it]"
     ]
    },
    {
     "name": "stdout",
     "output_type": "stream",
     "text": [
      "Train Epoch: 8 [20480/22400 (91%)]\tLoss: 1.110955\n",
      "Mem before-during-after: 21898752 22041600 21898752\n"
     ]
    },
    {
     "name": "stderr",
     "output_type": "stream",
     "text": [
      " 78%|████████████████████████████████████████████████████████▌                | 7.755428571430366/10 [38:21<10:59, 293.97s/it]"
     ]
    },
    {
     "name": "stdout",
     "output_type": "stream",
     "text": [
      "Train Epoch: 8 [21120/22400 (94%)]\tLoss: 0.708135\n",
      "Mem before-during-after: 21898752 22041600 21898752\n"
     ]
    },
    {
     "name": "stderr",
     "output_type": "stream",
     "text": [
      " 78%|████████████████████████████████████████████████████████▊                | 7.778285714287522/10 [38:28<10:51, 293.40s/it]"
     ]
    },
    {
     "name": "stdout",
     "output_type": "stream",
     "text": [
      "Train Epoch: 8 [21760/22400 (97%)]\tLoss: 1.209666\n",
      "Mem before-during-after: 21898752 22041600 21898752\n"
     ]
    },
    {
     "name": "stderr",
     "output_type": "stream",
     "text": [
      " 80%|██████████████████████████████████████████████████████████▍              | 8.000571428573359/10 [39:33<09:44, 292.29s/it]"
     ]
    },
    {
     "name": "stdout",
     "output_type": "stream",
     "text": [
      "\n",
      "Test Epoch: 8\tAccuracy: 1362/5600 (24%)\n",
      "\n",
      "Train Epoch: 9 [0/22400 (0%)]\tLoss: 0.326746\n",
      "Mem before-during-after: 21897728 22041600 21898752\n"
     ]
    },
    {
     "name": "stderr",
     "output_type": "stream",
     "text": [
      " 80%|██████████████████████████████████████████████████████████▌              | 8.024000000001907/10 [39:40<09:40, 293.65s/it]"
     ]
    },
    {
     "name": "stdout",
     "output_type": "stream",
     "text": [
      "Train Epoch: 9 [640/22400 (3%)]\tLoss: 0.730945\n",
      "Mem before-during-after: 21898752 22041600 21898752\n"
     ]
    },
    {
     "name": "stderr",
     "output_type": "stream",
     "text": [
      " 80%|██████████████████████████████████████████████████████████▋              | 8.046857142859027/10 [39:47<09:35, 294.66s/it]"
     ]
    },
    {
     "name": "stdout",
     "output_type": "stream",
     "text": [
      "Train Epoch: 9 [1280/22400 (6%)]\tLoss: 0.593221\n",
      "Mem before-during-after: 21898752 22041600 21898752\n"
     ]
    },
    {
     "name": "stderr",
     "output_type": "stream",
     "text": [
      " 81%|██████████████████████████████████████████████████████████▉              | 8.069714285716147/10 [39:53<09:34, 297.48s/it]"
     ]
    },
    {
     "name": "stdout",
     "output_type": "stream",
     "text": [
      "Train Epoch: 9 [1920/22400 (9%)]\tLoss: 0.756372\n",
      "Mem before-during-after: 21898752 22041600 21898752\n"
     ]
    },
    {
     "name": "stderr",
     "output_type": "stream",
     "text": [
      " 81%|███████████████████████████████████████████████████████████              | 8.092571428573267/10 [40:00<09:20, 293.94s/it]"
     ]
    },
    {
     "name": "stdout",
     "output_type": "stream",
     "text": [
      "Train Epoch: 9 [2560/22400 (11%)]\tLoss: 1.286925\n",
      "Mem before-during-after: 21898752 22041600 21898752\n"
     ]
    },
    {
     "name": "stderr",
     "output_type": "stream",
     "text": [
      " 81%|███████████████████████████████████████████████████████████▏             | 8.115428571430387/10 [40:07<09:12, 293.24s/it]"
     ]
    },
    {
     "name": "stdout",
     "output_type": "stream",
     "text": [
      "Train Epoch: 9 [3200/22400 (14%)]\tLoss: 0.808888\n",
      "Mem before-during-after: 21898752 22041600 21898752\n"
     ]
    },
    {
     "name": "stderr",
     "output_type": "stream",
     "text": [
      " 81%|███████████████████████████████████████████████████████████▍             | 8.138285714287507/10 [40:14<09:04, 292.26s/it]"
     ]
    },
    {
     "name": "stdout",
     "output_type": "stream",
     "text": [
      "Train Epoch: 9 [3840/22400 (17%)]\tLoss: 0.342613\n",
      "Mem before-during-after: 21898752 22041600 21898752\n"
     ]
    },
    {
     "name": "stderr",
     "output_type": "stream",
     "text": [
      " 82%|███████████████████████████████████████████████████████████▌             | 8.161142857144627/10 [40:20<09:10, 299.43s/it]"
     ]
    },
    {
     "name": "stdout",
     "output_type": "stream",
     "text": [
      "Train Epoch: 9 [4480/22400 (20%)]\tLoss: 1.070545\n",
      "Mem before-during-after: 21898752 22041600 21898752\n"
     ]
    },
    {
     "name": "stderr",
     "output_type": "stream",
     "text": [
      " 82%|███████████████████████████████████████████████████████████▋             | 8.184000000001747/10 [40:27<08:53, 293.95s/it]"
     ]
    },
    {
     "name": "stdout",
     "output_type": "stream",
     "text": [
      "Train Epoch: 9 [5120/22400 (23%)]\tLoss: 0.414903\n",
      "Mem before-during-after: 21898752 22041600 21898752\n"
     ]
    },
    {
     "name": "stderr",
     "output_type": "stream",
     "text": [
      " 82%|███████████████████████████████████████████████████████████▉             | 8.206857142858867/10 [40:34<08:46, 293.52s/it]"
     ]
    },
    {
     "name": "stdout",
     "output_type": "stream",
     "text": [
      "Train Epoch: 9 [5760/22400 (26%)]\tLoss: 0.412472\n",
      "Mem before-during-after: 21898752 22041600 21898752\n"
     ]
    },
    {
     "name": "stderr",
     "output_type": "stream",
     "text": [
      " 82%|████████████████████████████████████████████████████████████             | 8.229714285715987/10 [40:41<08:39, 293.36s/it]"
     ]
    },
    {
     "name": "stdout",
     "output_type": "stream",
     "text": [
      "Train Epoch: 9 [6400/22400 (29%)]\tLoss: 0.985072\n",
      "Mem before-during-after: 21898752 22041600 21898752\n"
     ]
    },
    {
     "name": "stderr",
     "output_type": "stream",
     "text": [
      " 83%|████████████████████████████████████████████████████████████▏            | 8.252571428573107/10 [40:47<09:10, 314.98s/it]"
     ]
    },
    {
     "name": "stdout",
     "output_type": "stream",
     "text": [
      "Train Epoch: 9 [7040/22400 (31%)]\tLoss: 0.805675\n",
      "Mem before-during-after: 21898752 22041600 21898752\n"
     ]
    },
    {
     "name": "stderr",
     "output_type": "stream",
     "text": [
      " 83%|████████████████████████████████████████████████████████████▍            | 8.275428571430227/10 [40:54<08:28, 294.80s/it]"
     ]
    },
    {
     "name": "stdout",
     "output_type": "stream",
     "text": [
      "Train Epoch: 9 [7680/22400 (34%)]\tLoss: 0.707925\n",
      "Mem before-during-after: 21898752 22041600 21898752\n"
     ]
    },
    {
     "name": "stderr",
     "output_type": "stream",
     "text": [
      " 83%|████████████████████████████████████████████████████████████▌            | 8.298285714287347/10 [41:01<08:21, 294.43s/it]"
     ]
    },
    {
     "name": "stdout",
     "output_type": "stream",
     "text": [
      "Train Epoch: 9 [8320/22400 (37%)]\tLoss: 1.031741\n",
      "Mem before-during-after: 21898752 22041600 21898752\n"
     ]
    },
    {
     "name": "stderr",
     "output_type": "stream",
     "text": [
      " 83%|████████████████████████████████████████████████████████████▋            | 8.321142857144467/10 [41:08<08:14, 294.83s/it]"
     ]
    },
    {
     "name": "stdout",
     "output_type": "stream",
     "text": [
      "Train Epoch: 9 [8960/22400 (40%)]\tLoss: 0.752731\n",
      "Mem before-during-after: 21898752 22041600 21898752\n"
     ]
    },
    {
     "name": "stderr",
     "output_type": "stream",
     "text": [
      " 83%|████████████████████████████████████████████████████████████▉            | 8.344000000001587/10 [41:14<08:11, 296.57s/it]"
     ]
    },
    {
     "name": "stdout",
     "output_type": "stream",
     "text": [
      "Train Epoch: 9 [9600/22400 (43%)]\tLoss: 0.869836\n",
      "Mem before-during-after: 21898752 22041600 21898752\n"
     ]
    },
    {
     "name": "stderr",
     "output_type": "stream",
     "text": [
      " 84%|█████████████████████████████████████████████████████████████            | 8.366857142858708/10 [41:21<08:38, 317.60s/it]"
     ]
    },
    {
     "name": "stdout",
     "output_type": "stream",
     "text": [
      "Train Epoch: 9 [10240/22400 (46%)]\tLoss: 0.864162\n",
      "Mem before-during-after: 21898752 22041600 21898752\n"
     ]
    },
    {
     "name": "stderr",
     "output_type": "stream",
     "text": [
      " 84%|█████████████████████████████████████████████████████████████▏           | 8.389714285715828/10 [41:28<07:54, 294.75s/it]"
     ]
    },
    {
     "name": "stdout",
     "output_type": "stream",
     "text": [
      "Train Epoch: 9 [10880/22400 (49%)]\tLoss: 0.431838\n",
      "Mem before-during-after: 21898752 22041600 21898752\n"
     ]
    },
    {
     "name": "stderr",
     "output_type": "stream",
     "text": [
      " 84%|█████████████████████████████████████████████████████████████▍           | 8.412571428572948/10 [41:35<07:49, 295.79s/it]"
     ]
    },
    {
     "name": "stdout",
     "output_type": "stream",
     "text": [
      "Train Epoch: 9 [11520/22400 (51%)]\tLoss: 0.748005\n",
      "Mem before-during-after: 21898752 22041600 21898752\n"
     ]
    },
    {
     "name": "stderr",
     "output_type": "stream",
     "text": [
      " 84%|█████████████████████████████████████████████████████████████▌           | 8.435428571430068/10 [41:42<07:35, 291.28s/it]"
     ]
    },
    {
     "name": "stdout",
     "output_type": "stream",
     "text": [
      "Train Epoch: 9 [12160/22400 (54%)]\tLoss: 0.603485\n",
      "Mem before-during-after: 21898752 22041600 21898752\n"
     ]
    },
    {
     "name": "stderr",
     "output_type": "stream",
     "text": [
      " 85%|█████████████████████████████████████████████████████████████▋           | 8.458285714287188/10 [41:48<07:30, 292.30s/it]"
     ]
    },
    {
     "name": "stdout",
     "output_type": "stream",
     "text": [
      "Train Epoch: 9 [12800/22400 (57%)]\tLoss: 0.633653\n",
      "Mem before-during-after: 21898752 22041600 21898752\n"
     ]
    },
    {
     "name": "stderr",
     "output_type": "stream",
     "text": [
      " 85%|█████████████████████████████████████████████████████████████▉           | 8.481142857144308/10 [41:55<07:38, 301.88s/it]"
     ]
    },
    {
     "name": "stdout",
     "output_type": "stream",
     "text": [
      "Train Epoch: 9 [13440/22400 (60%)]\tLoss: 0.757263\n",
      "Mem before-during-after: 21898752 22041600 21898752\n"
     ]
    },
    {
     "name": "stderr",
     "output_type": "stream",
     "text": [
      " 85%|██████████████████████████████████████████████████████████████           | 8.504000000001428/10 [42:02<07:21, 295.30s/it]"
     ]
    },
    {
     "name": "stdout",
     "output_type": "stream",
     "text": [
      "Train Epoch: 9 [14080/22400 (63%)]\tLoss: 0.629334\n",
      "Mem before-during-after: 21898752 22041600 21898752\n"
     ]
    },
    {
     "name": "stderr",
     "output_type": "stream",
     "text": [
      " 85%|██████████████████████████████████████████████████████████████▏          | 8.526857142858548/10 [42:09<07:14, 295.10s/it]"
     ]
    },
    {
     "name": "stdout",
     "output_type": "stream",
     "text": [
      "Train Epoch: 9 [14720/22400 (66%)]\tLoss: 0.670198\n",
      "Mem before-during-after: 21898752 22041600 21898752\n"
     ]
    },
    {
     "name": "stderr",
     "output_type": "stream",
     "text": [
      " 85%|██████████████████████████████████████████████████████████████▍          | 8.549714285715668/10 [42:16<07:08, 295.40s/it]"
     ]
    },
    {
     "name": "stdout",
     "output_type": "stream",
     "text": [
      "Train Epoch: 9 [15360/22400 (69%)]\tLoss: 1.029826\n",
      "Mem before-during-after: 21898752 22041600 21898752\n"
     ]
    },
    {
     "name": "stderr",
     "output_type": "stream",
     "text": [
      " 86%|██████████████████████████████████████████████████████████████▌          | 8.572571428572788/10 [42:22<07:13, 303.77s/it]"
     ]
    },
    {
     "name": "stdout",
     "output_type": "stream",
     "text": [
      "Train Epoch: 9 [16000/22400 (71%)]\tLoss: 0.678767\n",
      "Mem before-during-after: 21898752 22041600 21898752\n"
     ]
    },
    {
     "name": "stderr",
     "output_type": "stream",
     "text": [
      " 86%|██████████████████████████████████████████████████████████████▋          | 8.595428571429908/10 [42:29<06:53, 294.05s/it]"
     ]
    },
    {
     "name": "stdout",
     "output_type": "stream",
     "text": [
      "Train Epoch: 9 [16640/22400 (74%)]\tLoss: 0.397933\n",
      "Mem before-during-after: 21898752 22041600 21898752\n"
     ]
    },
    {
     "name": "stderr",
     "output_type": "stream",
     "text": [
      " 86%|██████████████████████████████████████████████████████████████▉          | 8.618285714287028/10 [42:36<06:49, 296.34s/it]"
     ]
    },
    {
     "name": "stdout",
     "output_type": "stream",
     "text": [
      "Train Epoch: 9 [17280/22400 (77%)]\tLoss: 0.527650\n",
      "Mem before-during-after: 21898752 22041600 21898752\n"
     ]
    },
    {
     "name": "stderr",
     "output_type": "stream",
     "text": [
      " 86%|███████████████████████████████████████████████████████████████          | 8.641142857144148/10 [42:43<06:37, 292.27s/it]"
     ]
    },
    {
     "name": "stdout",
     "output_type": "stream",
     "text": [
      "Train Epoch: 9 [17920/22400 (80%)]\tLoss: 0.628785\n",
      "Mem before-during-after: 21898752 22041600 21898752\n"
     ]
    },
    {
     "name": "stderr",
     "output_type": "stream",
     "text": [
      " 87%|███████████████████████████████████████████████████████████████▏         | 8.664000000001268/10 [42:49<06:34, 295.63s/it]"
     ]
    },
    {
     "name": "stdout",
     "output_type": "stream",
     "text": [
      "Train Epoch: 9 [18560/22400 (83%)]\tLoss: 0.596057\n",
      "Mem before-during-after: 21898752 22041600 21898752\n"
     ]
    },
    {
     "name": "stderr",
     "output_type": "stream",
     "text": [
      " 87%|███████████████████████████████████████████████████████████████▍         | 8.686857142858388/10 [42:56<06:25, 293.65s/it]"
     ]
    },
    {
     "name": "stdout",
     "output_type": "stream",
     "text": [
      "Train Epoch: 9 [19200/22400 (86%)]\tLoss: 0.697168\n",
      "Mem before-during-after: 21898752 22041600 21898752\n"
     ]
    },
    {
     "name": "stderr",
     "output_type": "stream",
     "text": [
      " 87%|███████████████████████████████████████████████████████████████▌         | 8.709714285715508/10 [43:03<06:20, 294.71s/it]"
     ]
    },
    {
     "name": "stdout",
     "output_type": "stream",
     "text": [
      "Train Epoch: 9 [19840/22400 (89%)]\tLoss: 0.627477\n",
      "Mem before-during-after: 21898752 22041600 21898752\n"
     ]
    },
    {
     "name": "stderr",
     "output_type": "stream",
     "text": [
      " 87%|███████████████████████████████████████████████████████████████▋         | 8.732571428572628/10 [43:09<06:16, 296.68s/it]"
     ]
    },
    {
     "name": "stdout",
     "output_type": "stream",
     "text": [
      "Train Epoch: 9 [20480/22400 (91%)]\tLoss: 0.653799\n",
      "Mem before-during-after: 21898752 22041600 21898752\n"
     ]
    },
    {
     "name": "stderr",
     "output_type": "stream",
     "text": [
      " 88%|███████████████████████████████████████████████████████████████▉         | 8.755428571429748/10 [43:16<06:12, 298.99s/it]"
     ]
    },
    {
     "name": "stdout",
     "output_type": "stream",
     "text": [
      "Train Epoch: 9 [21120/22400 (94%)]\tLoss: 0.562271\n",
      "Mem before-during-after: 21898752 22041600 21898752\n"
     ]
    },
    {
     "name": "stderr",
     "output_type": "stream",
     "text": [
      " 88%|████████████████████████████████████████████████████████████████         | 8.778285714286868/10 [43:23<06:04, 297.98s/it]"
     ]
    },
    {
     "name": "stdout",
     "output_type": "stream",
     "text": [
      "Train Epoch: 9 [21760/22400 (97%)]\tLoss: 0.476381\n",
      "Mem before-during-after: 21898752 22041600 21898752\n"
     ]
    },
    {
     "name": "stderr",
     "output_type": "stream",
     "text": [
      " 90%|██████████████████████████████████████████████████████████████████▌       | 9.00057142857236/10 [44:29<04:49, 289.91s/it]"
     ]
    },
    {
     "name": "stdout",
     "output_type": "stream",
     "text": [
      "\n",
      "Test Epoch: 9\tAccuracy: 1346/5600 (24%)\n",
      "\n",
      "Train Epoch: 10 [0/22400 (0%)]\tLoss: 0.716854\n",
      "Mem before-during-after: 21897728 22041600 21898752\n"
     ]
    },
    {
     "name": "stderr",
     "output_type": "stream",
     "text": [
      " 90%|██████████████████████████████████████████████████████████████████▊       | 9.02342857142948/10 [44:35<04:47, 294.71s/it]"
     ]
    },
    {
     "name": "stdout",
     "output_type": "stream",
     "text": [
      "Train Epoch: 10 [640/22400 (3%)]\tLoss: 0.442134\n",
      "Mem before-during-after: 21898752 22041600 21898752\n"
     ]
    },
    {
     "name": "stderr",
     "output_type": "stream",
     "text": [
      " 90%|██████████████████████████████████████████████████████████████████       | 9.046857142858029/10 [44:42<04:44, 298.04s/it]"
     ]
    },
    {
     "name": "stdout",
     "output_type": "stream",
     "text": [
      "Train Epoch: 10 [1280/22400 (6%)]\tLoss: 0.895543\n",
      "Mem before-during-after: 21898752 22041600 21898752\n"
     ]
    },
    {
     "name": "stderr",
     "output_type": "stream",
     "text": [
      " 91%|██████████████████████████████████████████████████████████████████▏      | 9.069714285715149/10 [44:49<04:32, 293.40s/it]"
     ]
    },
    {
     "name": "stdout",
     "output_type": "stream",
     "text": [
      "Train Epoch: 10 [1920/22400 (9%)]\tLoss: 0.789506\n",
      "Mem before-during-after: 21898752 22041600 21898752\n"
     ]
    },
    {
     "name": "stderr",
     "output_type": "stream",
     "text": [
      " 91%|██████████████████████████████████████████████████████████████████▍      | 9.092571428572269/10 [44:56<04:26, 293.55s/it]"
     ]
    },
    {
     "name": "stdout",
     "output_type": "stream",
     "text": [
      "Train Epoch: 10 [2560/22400 (11%)]\tLoss: 0.706267\n",
      "Mem before-during-after: 21898752 22041600 21898752\n"
     ]
    },
    {
     "name": "stderr",
     "output_type": "stream",
     "text": [
      " 91%|██████████████████████████████████████████████████████████████████▌      | 9.115428571429389/10 [45:03<04:23, 298.15s/it]"
     ]
    },
    {
     "name": "stdout",
     "output_type": "stream",
     "text": [
      "Train Epoch: 10 [3200/22400 (14%)]\tLoss: 0.617330\n",
      "Mem before-during-after: 21898752 22041600 21898752\n"
     ]
    },
    {
     "name": "stderr",
     "output_type": "stream",
     "text": [
      " 91%|███████████████████████████████████████████████████████████████████▌      | 9.13771428571508/10 [45:09<04:13, 293.96s/it]"
     ]
    },
    {
     "name": "stdout",
     "output_type": "stream",
     "text": [
      "Train Epoch: 10 [3840/22400 (17%)]\tLoss: 0.643403\n",
      "Mem before-during-after: 21898752 22041600 21898752\n"
     ]
    },
    {
     "name": "stderr",
     "output_type": "stream",
     "text": [
      " 92%|██████████████████████████████████████████████████████████████████▉      | 9.161142857143629/10 [45:16<04:05, 292.86s/it]"
     ]
    },
    {
     "name": "stdout",
     "output_type": "stream",
     "text": [
      "Train Epoch: 10 [4480/22400 (20%)]\tLoss: 0.467141\n",
      "Mem before-during-after: 21898752 22041600 21898752\n"
     ]
    },
    {
     "name": "stderr",
     "output_type": "stream",
     "text": [
      " 92%|███████████████████████████████████████████████████████████████████      | 9.184000000000749/10 [45:23<03:59, 293.51s/it]"
     ]
    },
    {
     "name": "stdout",
     "output_type": "stream",
     "text": [
      "Train Epoch: 10 [5120/22400 (23%)]\tLoss: 0.410243\n",
      "Mem before-during-after: 21898752 22041600 21898752\n"
     ]
    },
    {
     "name": "stderr",
     "output_type": "stream",
     "text": [
      " 92%|███████████████████████████████████████████████████████████████████▏     | 9.206857142857869/10 [45:30<03:52, 292.54s/it]"
     ]
    },
    {
     "name": "stdout",
     "output_type": "stream",
     "text": [
      "Train Epoch: 10 [5760/22400 (26%)]\tLoss: 0.998165\n",
      "Mem before-during-after: 21898752 22041600 21898752\n"
     ]
    },
    {
     "name": "stderr",
     "output_type": "stream",
     "text": [
      " 92%|███████████████████████████████████████████████████████████████████▍     | 9.229714285714989/10 [45:36<03:45, 292.75s/it]"
     ]
    },
    {
     "name": "stdout",
     "output_type": "stream",
     "text": [
      "Train Epoch: 10 [6400/22400 (29%)]\tLoss: 0.642997\n",
      "Mem before-during-after: 21898752 22041600 21898752\n"
     ]
    },
    {
     "name": "stderr",
     "output_type": "stream",
     "text": [
      " 93%|███████████████████████████████████████████████████████████████████▌     | 9.252571428572109/10 [45:43<03:39, 293.36s/it]"
     ]
    },
    {
     "name": "stdout",
     "output_type": "stream",
     "text": [
      "Train Epoch: 10 [7040/22400 (31%)]\tLoss: 0.685095\n",
      "Mem before-during-after: 21898752 22041600 21898752\n"
     ]
    },
    {
     "name": "stderr",
     "output_type": "stream",
     "text": [
      " 93%|███████████████████████████████████████████████████████████████████▋     | 9.275428571429229/10 [45:50<03:35, 298.01s/it]"
     ]
    },
    {
     "name": "stdout",
     "output_type": "stream",
     "text": [
      "Train Epoch: 10 [7680/22400 (34%)]\tLoss: 0.991379\n",
      "Mem before-during-after: 21898752 22041600 21898752\n"
     ]
    },
    {
     "name": "stderr",
     "output_type": "stream",
     "text": [
      " 93%|███████████████████████████████████████████████████████████████████▉     | 9.298285714286349/10 [45:57<03:26, 294.89s/it]"
     ]
    },
    {
     "name": "stdout",
     "output_type": "stream",
     "text": [
      "Train Epoch: 10 [8320/22400 (37%)]\tLoss: 0.871106\n",
      "Mem before-during-after: 21898752 22041600 21898752\n"
     ]
    },
    {
     "name": "stderr",
     "output_type": "stream",
     "text": [
      " 93%|████████████████████████████████████████████████████████████████████▉     | 9.32114285714347/10 [46:04<03:19, 293.50s/it]"
     ]
    },
    {
     "name": "stdout",
     "output_type": "stream",
     "text": [
      "Train Epoch: 10 [8960/22400 (40%)]\tLoss: 0.837032\n",
      "Mem before-during-after: 21898752 22041600 21898752\n"
     ]
    },
    {
     "name": "stderr",
     "output_type": "stream",
     "text": [
      " 93%|█████████████████████████████████████████████████████████████████████▏    | 9.34400000000059/10 [46:10<03:11, 291.65s/it]"
     ]
    },
    {
     "name": "stdout",
     "output_type": "stream",
     "text": [
      "Train Epoch: 10 [9600/22400 (43%)]\tLoss: 1.029514\n",
      "Mem before-during-after: 21898752 22041600 21898752\n"
     ]
    },
    {
     "name": "stderr",
     "output_type": "stream",
     "text": [
      " 94%|█████████████████████████████████████████████████████████████████████▎    | 9.36685714285771/10 [46:17<03:17, 311.52s/it]"
     ]
    },
    {
     "name": "stdout",
     "output_type": "stream",
     "text": [
      "Train Epoch: 10 [10240/22400 (46%)]\tLoss: 0.735191\n",
      "Mem before-during-after: 21898752 22041600 21898752\n"
     ]
    },
    {
     "name": "stderr",
     "output_type": "stream",
     "text": [
      " 94%|█████████████████████████████████████████████████████████████████████▍    | 9.38971428571483/10 [46:24<02:58, 293.26s/it]"
     ]
    },
    {
     "name": "stdout",
     "output_type": "stream",
     "text": [
      "Train Epoch: 10 [10880/22400 (49%)]\tLoss: 0.531039\n",
      "Mem before-during-after: 21898752 22041600 21898752\n"
     ]
    },
    {
     "name": "stderr",
     "output_type": "stream",
     "text": [
      " 94%|█████████████████████████████████████████████████████████████████████▋    | 9.41257142857195/10 [46:31<02:51, 291.84s/it]"
     ]
    },
    {
     "name": "stdout",
     "output_type": "stream",
     "text": [
      "Train Epoch: 10 [11520/22400 (51%)]\tLoss: 0.611353\n",
      "Mem before-during-after: 21898752 22041600 21898752\n"
     ]
    },
    {
     "name": "stderr",
     "output_type": "stream",
     "text": [
      " 94%|█████████████████████████████████████████████████████████████████████▊    | 9.43542857142907/10 [46:37<02:46, 294.20s/it]"
     ]
    },
    {
     "name": "stdout",
     "output_type": "stream",
     "text": [
      "Train Epoch: 10 [12160/22400 (54%)]\tLoss: 0.870694\n",
      "Mem before-during-after: 21898752 22041600 21898752\n"
     ]
    },
    {
     "name": "stderr",
     "output_type": "stream",
     "text": [
      " 95%|█████████████████████████████████████████████████████████████████████▉    | 9.45828571428619/10 [46:44<02:39, 293.89s/it]"
     ]
    },
    {
     "name": "stdout",
     "output_type": "stream",
     "text": [
      "Train Epoch: 10 [12800/22400 (57%)]\tLoss: 0.851984\n",
      "Mem before-during-after: 21898752 22041600 21898752\n"
     ]
    },
    {
     "name": "stderr",
     "output_type": "stream",
     "text": [
      " 95%|██████████████████████████████████████████████████████████████████████▏   | 9.48114285714331/10 [46:51<02:32, 294.10s/it]"
     ]
    },
    {
     "name": "stdout",
     "output_type": "stream",
     "text": [
      "Train Epoch: 10 [13440/22400 (60%)]\tLoss: 0.735689\n",
      "Mem before-during-after: 21898752 22041600 21898752\n"
     ]
    },
    {
     "name": "stderr",
     "output_type": "stream",
     "text": [
      " 95%|██████████████████████████████████████████████████████████████████████▎   | 9.50400000000043/10 [46:58<02:26, 294.49s/it]"
     ]
    },
    {
     "name": "stdout",
     "output_type": "stream",
     "text": [
      "Train Epoch: 10 [14080/22400 (63%)]\tLoss: 0.654280\n",
      "Mem before-during-after: 21898752 22041600 21898752\n"
     ]
    },
    {
     "name": "stderr",
     "output_type": "stream",
     "text": [
      " 95%|██████████████████████████████████████████████████████████████████████▍   | 9.52685714285755/10 [47:04<02:18, 293.24s/it]"
     ]
    },
    {
     "name": "stdout",
     "output_type": "stream",
     "text": [
      "Train Epoch: 10 [14720/22400 (66%)]\tLoss: 1.143004\n",
      "Mem before-during-after: 21898752 22041600 21898752\n"
     ]
    },
    {
     "name": "stderr",
     "output_type": "stream",
     "text": [
      " 95%|██████████████████████████████████████████████████████████████████████▋   | 9.54971428571467/10 [47:11<02:11, 292.35s/it]"
     ]
    },
    {
     "name": "stdout",
     "output_type": "stream",
     "text": [
      "Train Epoch: 10 [15360/22400 (69%)]\tLoss: 0.643730\n",
      "Mem before-during-after: 21898752 22041600 21898752\n"
     ]
    },
    {
     "name": "stderr",
     "output_type": "stream",
     "text": [
      " 96%|██████████████████████████████████████████████████████████████████████▊   | 9.57257142857179/10 [47:18<02:05, 292.70s/it]"
     ]
    },
    {
     "name": "stdout",
     "output_type": "stream",
     "text": [
      "Train Epoch: 10 [16000/22400 (71%)]\tLoss: 0.578895\n",
      "Mem before-during-after: 21898752 22041600 21898752\n"
     ]
    },
    {
     "name": "stderr",
     "output_type": "stream",
     "text": [
      " 96%|███████████████████████████████████████████████████████████████████████   | 9.59542857142891/10 [47:25<01:59, 296.46s/it]"
     ]
    },
    {
     "name": "stdout",
     "output_type": "stream",
     "text": [
      "Train Epoch: 10 [16640/22400 (74%)]\tLoss: 0.359005\n",
      "Mem before-during-after: 21898752 22041600 21898752\n"
     ]
    },
    {
     "name": "stderr",
     "output_type": "stream",
     "text": [
      " 96%|███████████████████████████████████████████████████████████████████████▏  | 9.61828571428603/10 [47:31<01:52, 293.42s/it]"
     ]
    },
    {
     "name": "stdout",
     "output_type": "stream",
     "text": [
      "Train Epoch: 10 [17280/22400 (77%)]\tLoss: 0.558315\n",
      "Mem before-during-after: 21898752 22041600 21898752\n"
     ]
    },
    {
     "name": "stderr",
     "output_type": "stream",
     "text": [
      " 96%|███████████████████████████████████████████████████████████████████████▎  | 9.64114285714315/10 [47:38<01:46, 295.45s/it]"
     ]
    },
    {
     "name": "stdout",
     "output_type": "stream",
     "text": [
      "Train Epoch: 10 [17920/22400 (80%)]\tLoss: 0.445298\n",
      "Mem before-during-after: 21898752 22041600 21898752\n"
     ]
    },
    {
     "name": "stderr",
     "output_type": "stream",
     "text": [
      " 97%|███████████████████████████████████████████████████████████████████████▌  | 9.66400000000027/10 [47:45<01:39, 296.91s/it]"
     ]
    },
    {
     "name": "stdout",
     "output_type": "stream",
     "text": [
      "Train Epoch: 10 [18560/22400 (83%)]\tLoss: 0.563215\n",
      "Mem before-during-after: 21898752 22041600 21898752\n"
     ]
    },
    {
     "name": "stderr",
     "output_type": "stream",
     "text": [
      " 97%|███████████████████████████████████████████████████████████████████████▋  | 9.68685714285739/10 [47:52<01:32, 293.95s/it]"
     ]
    },
    {
     "name": "stdout",
     "output_type": "stream",
     "text": [
      "Train Epoch: 10 [19200/22400 (86%)]\tLoss: 0.899450\n",
      "Mem before-during-after: 21898752 22041600 21898752\n"
     ]
    },
    {
     "name": "stderr",
     "output_type": "stream",
     "text": [
      " 97%|███████████████████████████████████████████████████████████████████████▊  | 9.70971428571451/10 [47:59<01:26, 297.53s/it]"
     ]
    },
    {
     "name": "stdout",
     "output_type": "stream",
     "text": [
      "Train Epoch: 10 [19840/22400 (89%)]\tLoss: 1.043379\n",
      "Mem before-during-after: 21898752 22041600 21898752\n"
     ]
    },
    {
     "name": "stderr",
     "output_type": "stream",
     "text": [
      " 97%|████████████████████████████████████████████████████████████████████████  | 9.73257142857163/10 [48:05<01:18, 294.93s/it]"
     ]
    },
    {
     "name": "stdout",
     "output_type": "stream",
     "text": [
      "Train Epoch: 10 [20480/22400 (91%)]\tLoss: 0.582983\n",
      "Mem before-during-after: 21898752 22041600 21898752\n"
     ]
    },
    {
     "name": "stderr",
     "output_type": "stream",
     "text": [
      " 98%|████████████████████████████████████████████████████████████████████████▏ | 9.75542857142875/10 [48:12<01:11, 293.87s/it]"
     ]
    },
    {
     "name": "stdout",
     "output_type": "stream",
     "text": [
      "Train Epoch: 10 [21120/22400 (94%)]\tLoss: 0.678860\n",
      "Mem before-during-after: 21898752 22041600 21898752\n"
     ]
    },
    {
     "name": "stderr",
     "output_type": "stream",
     "text": [
      " 98%|████████████████████████████████████████████████████████████████████████▎ | 9.77828571428587/10 [48:19<01:04, 291.58s/it]"
     ]
    },
    {
     "name": "stdout",
     "output_type": "stream",
     "text": [
      "Train Epoch: 10 [21760/22400 (97%)]\tLoss: 0.520231\n",
      "Mem before-during-after: 21898752 22041600 21898752\n"
     ]
    },
    {
     "name": "stderr",
     "output_type": "stream",
     "text": [
      "100%|████████████████████████████████████████████████████████████████████████▉| 9.999999999999934/10 [49:24<00:00, 296.44s/it]"
     ]
    },
    {
     "name": "stdout",
     "output_type": "stream",
     "text": [
      "\n",
      "Test Epoch: 10\tAccuracy: 1362/5600 (24%)\n",
      "\n"
     ]
    },
    {
     "name": "stderr",
     "output_type": "stream",
     "text": [
      "\n"
     ]
    }
   ],
   "source": [
    "log_interval = 40\n",
    "pbar_update = 1 / (len(train_loader) + len(test_loader))\n",
    "model.to(device)\n",
    "with tqdm(total=n_epoch) as pbar:\n",
    "    for epoch in range(1, n_epoch + 1):\n",
    "        train(model, epoch, log_interval, train_losses)\n",
    "        acc = test(model, epoch)\n",
    "        test_accuracy += [acc]\n",
    "        scheduler.step()"
   ]
  },
  {
   "cell_type": "code",
   "execution_count": 17,
   "id": "1da212d1-afc7-40d0-9ed1-84f53e34046d",
   "metadata": {},
   "outputs": [
    {
     "data": {
      "text/plain": [
       "[<matplotlib.lines.Line2D at 0x7f040c07cb80>]"
      ]
     },
     "execution_count": 17,
     "metadata": {},
     "output_type": "execute_result"
    },
    {
     "data": {
      "image/png": "[encoded data removed]",
      "text/plain": [
       "<Figure size 640x480 with 1 Axes>"
      ]
     },
     "metadata": {},
     "output_type": "display_data"
    }
   ],
   "source": [
    "plt.plot(train_losses)"
   ]
  },
  {
   "cell_type": "code",
   "execution_count": 18,
   "id": "4b7da3dd-0a9a-444f-84f7-4844cd316ca3",
   "metadata": {},
   "outputs": [
    {
     "data": {
      "text/plain": [
       "[<matplotlib.lines.Line2D at 0x7f03b6d789d0>]"
      ]
     },
     "execution_count": 18,
     "metadata": {},
     "output_type": "execute_result"
    },
    {
     "data": {
      "image/png": "[encoded data removed]",
      "text/plain": [
       "<Figure size 640x480 with 1 Axes>"
      ]
     },
     "metadata": {},
     "output_type": "display_data"
    }
   ],
   "source": [
    "plt.plot(test_accuracy)"
   ]
  },
  {
   "cell_type": "code",
   "execution_count": 19,
   "id": "e9382b76-4ccb-4005-a2f5-7d8ff97f2362",
   "metadata": {},
   "outputs": [],
   "source": [
    "from torchmetrics.classification import (\n",
    "    MulticlassAccuracy, MulticlassPrecision, \n",
    "    MulticlassRecall, MulticlassF1Score, \n",
    "    MulticlassConfusionMatrix,\n",
    "    MulticlassAUROC\n",
    ")\n",
    "from torchmetrics import MetricCollection\n",
    "from pprint import pprint\n",
    "\n",
    "@torch.no_grad\n",
    "def report_metrics(model, labels=labels, \n",
    "                   test_loader=test_loader, device=device):\n",
    "    n = len(labels)\n",
    "    metrics = MetricCollection({\n",
    "        'acc_unweighted': MulticlassAccuracy(num_classes=n, average='macro'), \n",
    "        'acc_weighted': MulticlassAccuracy(num_classes=n, average='weighted'), \n",
    "        \n",
    "        'f1s_unweighted': MulticlassF1Score(num_classes=n, average='macro'),  \n",
    "        'f1s_weighted': MulticlassF1Score(num_classes=n, average='weighted'),  \n",
    "\n",
    "        'acc_weighted': MulticlassAccuracy(num_classes=n, average='weighted'), \n",
    "        'uar': MulticlassRecall(num_classes=n, average='macro'), \n",
    "        'wap': MulticlassPrecision(num_classes=n, average='weighted'),\n",
    "        'rocauc': MulticlassAUROC(num_classes=n, average='macro', thresholds=None),    \n",
    "        'f1s_detail': MulticlassF1Score(num_classes=n, average=None),  \n",
    "        'acc_detail': MulticlassAccuracy(num_classes=n, average=None), \n",
    "        'precision_detail': MulticlassPrecision(num_classes=n, average=None),\n",
    "        'recall_detail': MulticlassRecall(num_classes=n, average=None), \n",
    "        'rocauc_detail': MulticlassAUROC(num_classes=n, average=None, thresholds=None),\n",
    "    }).to(device)\n",
    "    confusion_matrix = MulticlassConfusionMatrix(num_classes=n).to(device)\n",
    "    model.eval()\n",
    "    correct = 0\n",
    "    total = 0\n",
    "    for data, target in test_loader:\n",
    "        total += len(target)\n",
    "        \n",
    "        data = data.to(device)\n",
    "        target = target.to(device)\n",
    "        output = model(data).squeeze()\n",
    "        del data\n",
    "        gc.collect()\n",
    "        torch.cuda.empty_cache()\n",
    "        probs = F.softmax(output, dim=-1)\n",
    "        pred = probs.argmax(dim=-1)\n",
    "        correct += pred.eq(target).sum().item()\n",
    "        \n",
    "        metrics.update(probs, target)\n",
    "        confusion_matrix.update(pred, target)\n",
    "        \n",
    "        del target\n",
    "        gc.collect()\n",
    "        torch.cuda.empty_cache()\n",
    "        pbar.update(pbar_update)\n",
    "    print(f'Correct: {correct}/{total} ({correct/total:.4f})')\n",
    "    return metrics, confusion_matrix"
   ]
  },
  {
   "cell_type": "code",
   "execution_count": 20,
   "id": "adf9b4ae-6f94-475f-b557-abc9fec66f42",
   "metadata": {},
   "outputs": [
    {
     "name": "stdout",
     "output_type": "stream",
     "text": [
      "Correct: 1362/5600 (0.2432)\n",
      "{'acc_detail': tensor([0.2861, 0.2268, 0.2731, 0.1864], device='cuda:0'),\n",
      " 'acc_unweighted': tensor(0.2431, device='cuda:0'),\n",
      " 'acc_weighted': tensor(0.2432, device='cuda:0'),\n",
      " 'f1s_detail': tensor([0.2583, 0.2325, 0.2656, 0.2101], device='cuda:0'),\n",
      " 'f1s_unweighted': tensor(0.2416, device='cuda:0'),\n",
      " 'f1s_weighted': tensor(0.2416, device='cuda:0'),\n",
      " 'precision_detail': tensor([0.2354, 0.2385, 0.2585, 0.2406], device='cuda:0'),\n",
      " 'recall_detail': tensor([0.2861, 0.2268, 0.2731, 0.1864], device='cuda:0'),\n",
      " 'rocauc': tensor(0.4934, device='cuda:0'),\n",
      " 'rocauc_detail': tensor([0.4883, 0.4835, 0.5082, 0.4937], device='cuda:0'),\n",
      " 'uar': tensor(0.2431, device='cuda:0'),\n",
      " 'wap': tensor(0.2432, device='cuda:0')}\n"
     ]
    },
    {
     "data": {
      "text/plain": [
       "tensor([[404, 345, 367, 296],\n",
       "        [452, 315, 351, 271],\n",
       "        [427, 333, 382, 257],\n",
       "        [433, 328, 378, 261]], device='cuda:0')"
      ]
     },
     "execution_count": 20,
     "metadata": {},
     "output_type": "execute_result"
    }
   ],
   "source": [
    "metrics, confusion_matrix = report_metrics(\n",
    "    model, labels=labels, device=device)\n",
    "pprint(metrics.compute())\n",
    "confusion_matrix.compute()"
   ]
  },
  {
   "cell_type": "code",
   "execution_count": 21,
   "id": "bb112e39-8c3a-467b-a7bc-7b116e91e5e1",
   "metadata": {},
   "outputs": [],
   "source": [
    "model_path = '../models_esd4/esd4_m13mel_10epochs.pt' \n",
    "torch.save(model.state_dict(), model_path)"
   ]
  },
  {
   "cell_type": "code",
   "execution_count": 23,
   "id": "f00108b7-528f-421d-966b-a5399ae7807c",
   "metadata": {
    "scrolled": true
   },
   "outputs": [
    {
     "name": "stderr",
     "output_type": "stream",
     "text": [
      "  0%|                                                                    | 0.001142857142857143/50 [00:00<5:01:30, 361.82s/it]"
     ]
    },
    {
     "name": "stdout",
     "output_type": "stream",
     "text": [
      "Train Epoch: 11 [0/22400 (0%)]\tLoss: 0.409826\n",
      "Mem before-during-after: 19886592 20030464 22282752\n"
     ]
    },
    {
     "name": "stderr",
     "output_type": "stream",
     "text": [
      "  0%|                                                                    | 0.023999999999999983/50 [00:08<4:51:14, 349.65s/it]"
     ]
    },
    {
     "name": "stdout",
     "output_type": "stream",
     "text": [
      "Train Epoch: 11 [640/22400 (3%)]\tLoss: 0.340490\n",
      "Mem before-during-after: 22282752 22425600 22282752\n"
     ]
    },
    {
     "name": "stderr",
     "output_type": "stream",
     "text": [
      "  0%|                                                                    | 0.046857142857142785/50 [00:16<4:43:15, 340.24s/it]"
     ]
    },
    {
     "name": "stdout",
     "output_type": "stream",
     "text": [
      "Train Epoch: 11 [1280/22400 (6%)]\tLoss: 0.385615\n",
      "Mem before-during-after: 22282752 22425600 22282752\n"
     ]
    },
    {
     "name": "stderr",
     "output_type": "stream",
     "text": [
      "  0%|                                                                     | 0.06971428571428559/50 [00:23<4:43:24, 340.57s/it]"
     ]
    },
    {
     "name": "stdout",
     "output_type": "stream",
     "text": [
      "Train Epoch: 11 [1920/22400 (9%)]\tLoss: 0.696808\n",
      "Mem before-during-after: 22282752 22425600 22282752\n"
     ]
    },
    {
     "name": "stderr",
     "output_type": "stream",
     "text": [
      "  0%|▏                                                                    | 0.09257142857142839/50 [00:31<4:41:32, 338.49s/it]"
     ]
    },
    {
     "name": "stdout",
     "output_type": "stream",
     "text": [
      "Train Epoch: 11 [2560/22400 (11%)]\tLoss: 0.787380\n",
      "Mem before-during-after: 22282752 22425600 22282752\n"
     ]
    },
    {
     "name": "stderr",
     "output_type": "stream",
     "text": [
      "  0%|▏                                                                    | 0.11542857142857119/50 [00:39<4:42:26, 339.71s/it]"
     ]
    },
    {
     "name": "stdout",
     "output_type": "stream",
     "text": [
      "Train Epoch: 11 [3200/22400 (14%)]\tLoss: 0.362448\n",
      "Mem before-during-after: 22282752 22425600 22282752\n"
     ]
    },
    {
     "name": "stderr",
     "output_type": "stream",
     "text": [
      "  0%|▏                                                                    | 0.13828571428571432/50 [00:47<4:43:47, 341.50s/it]"
     ]
    },
    {
     "name": "stdout",
     "output_type": "stream",
     "text": [
      "Train Epoch: 11 [3840/22400 (17%)]\tLoss: 0.640539\n",
      "Mem before-during-after: 22282752 22425600 22282752\n"
     ]
    },
    {
     "name": "stderr",
     "output_type": "stream",
     "text": [
      "  0%|▏                                                                    | 0.16114285714285767/50 [00:55<4:40:59, 338.29s/it]"
     ]
    },
    {
     "name": "stdout",
     "output_type": "stream",
     "text": [
      "Train Epoch: 11 [4480/22400 (20%)]\tLoss: 0.946817\n",
      "Mem before-during-after: 22282752 22425600 22282752\n"
     ]
    },
    {
     "name": "stderr",
     "output_type": "stream",
     "text": [
      "  0%|▎                                                                    | 0.18400000000000102/50 [01:02<4:43:13, 341.13s/it]"
     ]
    },
    {
     "name": "stdout",
     "output_type": "stream",
     "text": [
      "Train Epoch: 11 [5120/22400 (23%)]\tLoss: 1.143161\n",
      "Mem before-during-after: 22282752 22425600 22282752\n"
     ]
    },
    {
     "name": "stderr",
     "output_type": "stream",
     "text": [
      "  0%|▎                                                                     | 0.1885714285714297/50 [01:04<4:44:14, 342.39s/it]Exception ignored in: <bound method IPythonKernel._clean_thread_parent_frames of <ipykernel.ipkernel.IPythonKernel object at 0x7f0639c88be0>>\n",
      "Traceback (most recent call last):\n",
      "  File \"/home/bunny/anaconda3/envs/audio/lib/python3.9/site-packages/ipykernel/ipkernel.py\", line 770, in _clean_thread_parent_frames\n",
      "    def _clean_thread_parent_frames(\n",
      "KeyboardInterrupt: \n",
      "  0%|▎                                                                    | 0.18914285714285828/50 [01:04<4:45:03, 343.38s/it]Exception ignored in: <bound method IPythonKernel._clean_thread_parent_frames of <ipykernel.ipkernel.IPythonKernel object at 0x7f0639c88be0>>\n",
      "Traceback (most recent call last):\n",
      "  File \"/home/bunny/anaconda3/envs/audio/lib/python3.9/site-packages/ipykernel/ipkernel.py\", line 770, in _clean_thread_parent_frames\n",
      "    def _clean_thread_parent_frames(\n",
      "KeyboardInterrupt: \n",
      "  0%|▎                                                                    | 0.18971428571428686/50 [01:04<4:47:13, 345.99s/it]Exception ignored in: <bound method IPythonKernel._clean_thread_parent_frames of <ipykernel.ipkernel.IPythonKernel object at 0x7f0639c88be0>>\n",
      "Traceback (most recent call last):\n",
      "  File \"/home/bunny/anaconda3/envs/audio/lib/python3.9/site-packages/ipykernel/ipkernel.py\", line 770, in _clean_thread_parent_frames\n",
      "    def _clean_thread_parent_frames(\n",
      "KeyboardInterrupt: \n",
      "  0%|▎                                                                    | 0.19028571428571545/50 [01:05<4:47:19, 346.11s/it]Exception ignored in: <bound method IPythonKernel._clean_thread_parent_frames of <ipykernel.ipkernel.IPythonKernel object at 0x7f0639c88be0>>\n",
      "Traceback (most recent call last):\n",
      "  File \"/home/bunny/anaconda3/envs/audio/lib/python3.9/site-packages/ipykernel/ipkernel.py\", line 770, in _clean_thread_parent_frames\n",
      "    def _clean_thread_parent_frames(\n",
      "KeyboardInterrupt: \n",
      "  0%|▎                                                                    | 0.19085714285714403/50 [01:05<4:50:03, 349.40s/it]Exception ignored in: <bound method IPythonKernel._clean_thread_parent_frames of <ipykernel.ipkernel.IPythonKernel object at 0x7f0639c88be0>>\n",
      "Traceback (most recent call last):\n",
      "  File \"/home/bunny/anaconda3/envs/audio/lib/python3.9/site-packages/ipykernel/ipkernel.py\", line 770, in _clean_thread_parent_frames\n",
      "    def _clean_thread_parent_frames(\n",
      "KeyboardInterrupt: \n",
      "  0%|▎                                                                     | 0.1914285714285726/50 [01:05<4:51:46, 351.48s/it]Exception ignored in: <bound method IPythonKernel._clean_thread_parent_frames of <ipykernel.ipkernel.IPythonKernel object at 0x7f0639c88be0>>\n",
      "Traceback (most recent call last):\n",
      "  File \"/home/bunny/anaconda3/envs/audio/lib/python3.9/site-packages/ipykernel/ipkernel.py\", line 770, in _clean_thread_parent_frames\n",
      "    def _clean_thread_parent_frames(\n",
      "KeyboardInterrupt: \n",
      "  0%|▎                                                                     | 0.1920000000000012/50 [01:05<4:53:09, 353.14s/it]Exception ignored in: <bound method IPythonKernel._clean_thread_parent_frames of <ipykernel.ipkernel.IPythonKernel object at 0x7f0639c88be0>>\n",
      "Traceback (most recent call last):\n",
      "  File \"/home/bunny/anaconda3/envs/audio/lib/python3.9/site-packages/ipykernel/ipkernel.py\", line 770, in _clean_thread_parent_frames\n",
      "    def _clean_thread_parent_frames(\n",
      "KeyboardInterrupt: \n",
      "  0%|▎                                                                    | 0.19257142857142978/50 [01:05<4:53:51, 353.98s/it]Exception ignored in: <bound method IPythonKernel._clean_thread_parent_frames of <ipykernel.ipkernel.IPythonKernel object at 0x7f0639c88be0>>\n",
      "Traceback (most recent call last):\n",
      "  File \"/home/bunny/anaconda3/envs/audio/lib/python3.9/site-packages/ipykernel/ipkernel.py\", line 770, in _clean_thread_parent_frames\n",
      "    def _clean_thread_parent_frames(\n",
      "KeyboardInterrupt: \n",
      "  0%|▎                                                                    | 0.19314285714285837/50 [01:06<4:54:51, 355.20s/it]Exception ignored in: <bound method IPythonKernel._clean_thread_parent_frames of <ipykernel.ipkernel.IPythonKernel object at 0x7f0639c88be0>>\n",
      "Traceback (most recent call last):\n",
      "  File \"/home/bunny/anaconda3/envs/audio/lib/python3.9/site-packages/ipykernel/ipkernel.py\", line 770, in _clean_thread_parent_frames\n",
      "    def _clean_thread_parent_frames(\n",
      "KeyboardInterrupt: \n",
      "  0%|▎                                                                    | 0.19314285714285837/50 [01:06<4:44:43, 343.00s/it]\n"
     ]
    },
    {
     "ename": "KeyboardInterrupt",
     "evalue": "",
     "output_type": "error",
     "traceback": [
      "\u001b[0;31m---------------------------------------------------------------------------\u001b[0m",
      "\u001b[0;31mKeyboardInterrupt\u001b[0m                         Traceback (most recent call last)",
      "Cell \u001b[0;32mIn[23], line 17\u001b[0m\n\u001b[1;32m     15\u001b[0m \u001b[38;5;28;01mwith\u001b[39;00m tqdm(total\u001b[38;5;241m=\u001b[39mn_epoch2) \u001b[38;5;28;01mas\u001b[39;00m pbar:\n\u001b[1;32m     16\u001b[0m     \u001b[38;5;28;01mfor\u001b[39;00m epoch \u001b[38;5;129;01min\u001b[39;00m \u001b[38;5;28mrange\u001b[39m(\u001b[38;5;241m1\u001b[39m\u001b[38;5;241m+\u001b[39mn_epoch, n_epoch2 \u001b[38;5;241m+\u001b[39m n_epoch \u001b[38;5;241m+\u001b[39m \u001b[38;5;241m1\u001b[39m):\n\u001b[0;32m---> 17\u001b[0m         \u001b[43mtrain\u001b[49m\u001b[43m(\u001b[49m\u001b[43mmodel\u001b[49m\u001b[43m,\u001b[49m\u001b[43m \u001b[49m\u001b[43mepoch\u001b[49m\u001b[43m,\u001b[49m\u001b[43m \u001b[49m\u001b[43mlog_interval\u001b[49m\u001b[43m,\u001b[49m\u001b[43m \u001b[49m\u001b[43mtrain_losses\u001b[49m\u001b[43m)\u001b[49m\n\u001b[1;32m     18\u001b[0m         acc \u001b[38;5;241m=\u001b[39m test(model, epoch)\n\u001b[1;32m     19\u001b[0m         test_accuracy \u001b[38;5;241m+\u001b[39m\u001b[38;5;241m=\u001b[39m [acc]\n",
      "Cell \u001b[0;32mIn[15], line 22\u001b[0m, in \u001b[0;36mtrain\u001b[0;34m(model, epoch, log_interval, train_losses)\u001b[0m\n\u001b[1;32m     20\u001b[0m torch\u001b[38;5;241m.\u001b[39mcuda\u001b[38;5;241m.\u001b[39mempty_cache()\n\u001b[1;32m     21\u001b[0m optimizer\u001b[38;5;241m.\u001b[39mzero_grad()\n\u001b[0;32m---> 22\u001b[0m \u001b[43mloss\u001b[49m\u001b[38;5;241;43m.\u001b[39;49m\u001b[43mbackward\u001b[49m\u001b[43m(\u001b[49m\u001b[43m)\u001b[49m\n\u001b[1;32m     23\u001b[0m nn\u001b[38;5;241m.\u001b[39mutils\u001b[38;5;241m.\u001b[39mclip_grad\u001b[38;5;241m.\u001b[39mclip_grad_norm_(\n\u001b[1;32m     24\u001b[0m     model\u001b[38;5;241m.\u001b[39mparameters(), \u001b[38;5;241m1.0\u001b[39m)\n\u001b[1;32m     25\u001b[0m optimizer\u001b[38;5;241m.\u001b[39mstep()\n",
      "File \u001b[0;32m~/anaconda3/envs/audio/lib/python3.9/site-packages/torch/_tensor.py:492\u001b[0m, in \u001b[0;36mTensor.backward\u001b[0;34m(self, gradient, retain_graph, create_graph, inputs)\u001b[0m\n\u001b[1;32m    482\u001b[0m \u001b[38;5;28;01mif\u001b[39;00m has_torch_function_unary(\u001b[38;5;28mself\u001b[39m):\n\u001b[1;32m    483\u001b[0m     \u001b[38;5;28;01mreturn\u001b[39;00m handle_torch_function(\n\u001b[1;32m    484\u001b[0m         Tensor\u001b[38;5;241m.\u001b[39mbackward,\n\u001b[1;32m    485\u001b[0m         (\u001b[38;5;28mself\u001b[39m,),\n\u001b[0;32m   (...)\u001b[0m\n\u001b[1;32m    490\u001b[0m         inputs\u001b[38;5;241m=\u001b[39minputs,\n\u001b[1;32m    491\u001b[0m     )\n\u001b[0;32m--> 492\u001b[0m \u001b[43mtorch\u001b[49m\u001b[38;5;241;43m.\u001b[39;49m\u001b[43mautograd\u001b[49m\u001b[38;5;241;43m.\u001b[39;49m\u001b[43mbackward\u001b[49m\u001b[43m(\u001b[49m\n\u001b[1;32m    493\u001b[0m \u001b[43m    \u001b[49m\u001b[38;5;28;43mself\u001b[39;49m\u001b[43m,\u001b[49m\u001b[43m \u001b[49m\u001b[43mgradient\u001b[49m\u001b[43m,\u001b[49m\u001b[43m \u001b[49m\u001b[43mretain_graph\u001b[49m\u001b[43m,\u001b[49m\u001b[43m \u001b[49m\u001b[43mcreate_graph\u001b[49m\u001b[43m,\u001b[49m\u001b[43m \u001b[49m\u001b[43minputs\u001b[49m\u001b[38;5;241;43m=\u001b[39;49m\u001b[43minputs\u001b[49m\n\u001b[1;32m    494\u001b[0m \u001b[43m\u001b[49m\u001b[43m)\u001b[49m\n",
      "File \u001b[0;32m~/anaconda3/envs/audio/lib/python3.9/site-packages/torch/autograd/__init__.py:251\u001b[0m, in \u001b[0;36mbackward\u001b[0;34m(tensors, grad_tensors, retain_graph, create_graph, grad_variables, inputs)\u001b[0m\n\u001b[1;32m    246\u001b[0m     retain_graph \u001b[38;5;241m=\u001b[39m create_graph\n\u001b[1;32m    248\u001b[0m \u001b[38;5;66;03m# The reason we repeat the same comment below is that\u001b[39;00m\n\u001b[1;32m    249\u001b[0m \u001b[38;5;66;03m# some Python versions print out the first line of a multi-line function\u001b[39;00m\n\u001b[1;32m    250\u001b[0m \u001b[38;5;66;03m# calls in the traceback and some print out the last line\u001b[39;00m\n\u001b[0;32m--> 251\u001b[0m \u001b[43mVariable\u001b[49m\u001b[38;5;241;43m.\u001b[39;49m\u001b[43m_execution_engine\u001b[49m\u001b[38;5;241;43m.\u001b[39;49m\u001b[43mrun_backward\u001b[49m\u001b[43m(\u001b[49m\u001b[43m  \u001b[49m\u001b[38;5;66;43;03m# Calls into the C++ engine to run the backward pass\u001b[39;49;00m\n\u001b[1;32m    252\u001b[0m \u001b[43m    \u001b[49m\u001b[43mtensors\u001b[49m\u001b[43m,\u001b[49m\n\u001b[1;32m    253\u001b[0m \u001b[43m    \u001b[49m\u001b[43mgrad_tensors_\u001b[49m\u001b[43m,\u001b[49m\n\u001b[1;32m    254\u001b[0m \u001b[43m    \u001b[49m\u001b[43mretain_graph\u001b[49m\u001b[43m,\u001b[49m\n\u001b[1;32m    255\u001b[0m \u001b[43m    \u001b[49m\u001b[43mcreate_graph\u001b[49m\u001b[43m,\u001b[49m\n\u001b[1;32m    256\u001b[0m \u001b[43m    \u001b[49m\u001b[43minputs\u001b[49m\u001b[43m,\u001b[49m\n\u001b[1;32m    257\u001b[0m \u001b[43m    \u001b[49m\u001b[43mallow_unreachable\u001b[49m\u001b[38;5;241;43m=\u001b[39;49m\u001b[38;5;28;43;01mTrue\u001b[39;49;00m\u001b[43m,\u001b[49m\n\u001b[1;32m    258\u001b[0m \u001b[43m    \u001b[49m\u001b[43maccumulate_grad\u001b[49m\u001b[38;5;241;43m=\u001b[39;49m\u001b[38;5;28;43;01mTrue\u001b[39;49;00m\u001b[43m,\u001b[49m\n\u001b[1;32m    259\u001b[0m \u001b[43m\u001b[49m\u001b[43m)\u001b[49m\n",
      "\u001b[0;31mKeyboardInterrupt\u001b[0m: "
     ]
    }
   ],
   "source": [
    "n_epoch = 10\n",
    "n_epoch2 = 50\n",
    "\n",
    "best_accuracy = test_accuracy[-1]\n",
    "best_epoch = n_epoch\n",
    "model_path_prefix = '../models_esd4/esd4_m13mel_best_'\n",
    "\n",
    "optimizer = optim.RAdam(model.parameters(), lr=0.0001)\n",
    "scheduler = optim.lr_scheduler.OneCycleLR(\n",
    "    optimizer, max_lr=0.01,\n",
    "    steps_per_epoch=len(train_loader), epochs=n_epoch2)\n",
    "log_interval = 40\n",
    "pbar_update = 1 / (len(train_loader) + len(test_loader))\n",
    "# model.to(device)\n",
    "with tqdm(total=n_epoch2) as pbar:\n",
    "    for epoch in range(1+n_epoch, n_epoch2 + n_epoch + 1):\n",
    "        train(model, epoch, log_interval, train_losses)\n",
    "        acc = test(model, epoch)\n",
    "        test_accuracy += [acc]\n",
    "        if acc > best_accuracy:\n",
    "            best_accuracy = acc\n",
    "            best_epoch = epoch\n",
    "            bmodel_path = f'{model_path_prefix}{epoch}epoch.pt'\n",
    "            torch.save(model.state_dict(), bmodel_path)\n",
    "            print(f'saved model: {bmodel_path}')\n",
    "        scheduler.step()"
   ]
  },
  {
   "cell_type": "code",
   "execution_count": null,
   "id": "98cd3ae7-f556-47c6-aed8-3da6e86b03a0",
   "metadata": {},
   "outputs": [],
   "source": [
    "plt.plot(train_losses)"
   ]
  },
  {
   "cell_type": "code",
   "execution_count": null,
   "id": "16dc50c4-89e3-4fc6-9be5-d854381a8f55",
   "metadata": {},
   "outputs": [],
   "source": [
    "plt.plot(test_accuracy)"
   ]
  },
  {
   "cell_type": "code",
   "execution_count": null,
   "id": "284e602e-2806-46a3-bb2f-0de430912a0c",
   "metadata": {},
   "outputs": [],
   "source": [
    "metrics2, confusion_matrix2 = report_metrics(\n",
    "    model, labels=labels, device=device)\n",
    "pprint(metrics2.compute())\n",
    "confusion_matrix2.compute()"
   ]
  },
  {
   "cell_type": "code",
   "execution_count": null,
   "id": "06328264-8cb5-490f-9577-854e116d9863",
   "metadata": {},
   "outputs": [],
   "source": [
    "model.to('cpu')\n",
    "best_model_path = f'{model_path_prefix}{best_epoch}epoch.pt'\n",
    "print(best_model_path)\n",
    "best_model = M13(config=model_config,\n",
    "           n_input=1, n_output=len(labels))\n",
    "best_model.load_state_dict(torch.load(best_model_path))\n",
    "best_model.to(device)\n",
    "\n",
    "metrics_best, confusion_matrix_best = report_metrics(\n",
    "    best_model, labels=labels, device=device)\n",
    "best_model.to('cpu')\n",
    "pprint(metrics_best.compute())\n",
    "confusion_matrix_best.compute()"
   ]
  },
  {
   "cell_type": "code",
   "execution_count": null,
   "id": "2fcae9af-dc12-4855-baf6-0788161ad443",
   "metadata": {},
   "outputs": [],
   "source": [
    "checkpoint_path = f'../models_esd4/esd4_m13mel_{epoch}epoch.ckpt'\n",
    "torch.save({\n",
    "    'epoch': epoch,\n",
    "    'model_state_dict': model.state_dict(),\n",
    "    'optimizer_state_dict': optimizer.state_dict(),\n",
    "    'loss': train_losses[-1],\n",
    "    'best_epoch': best_epoch,\n",
    "    'best_accuracy': best_accuracy,\n",
    "    'train_losses': train_losses,\n",
    "    'test_accuracy': test_accuracy,\n",
    "    'log_interval': log_interval,\n",
    "    }, checkpoint_path)"
   ]
  },
  {
   "cell_type": "code",
   "execution_count": null,
   "id": "9cd1ad19-caa7-4897-80f0-c0223b899a1a",
   "metadata": {},
   "outputs": [],
   "source": []
  },
  {
   "cell_type": "code",
   "execution_count": null,
   "id": "9e6520d3-a5fb-4f83-8cdb-16412b1dccd3",
   "metadata": {},
   "outputs": [],
   "source": []
  },
  {
   "cell_type": "code",
   "execution_count": null,
   "id": "e38ea4fc-2dd5-4aa8-af87-69c133af29c0",
   "metadata": {},
   "outputs": [],
   "source": []
  }
 ],
 "metadata": {
  "kernelspec": {
   "display_name": "Python 3 (ipykernel)",
   "language": "python",
   "name": "python3"
  },
  "language_info": {
   "codemirror_mode": {
    "name": "ipython",
    "version": 3
   },
   "file_extension": ".py",
   "mimetype": "text/x-python",
   "name": "python",
   "nbconvert_exporter": "python",
   "pygments_lexer": "ipython3",
   "version": "3.9.18"
  }
 },
 "nbformat": 4,
 "nbformat_minor": 5
}
