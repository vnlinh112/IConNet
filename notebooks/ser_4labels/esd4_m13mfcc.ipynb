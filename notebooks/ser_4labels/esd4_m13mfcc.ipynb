{
 "cells": [
  {
   "cell_type": "code",
   "execution_count": 1,
   "id": "369f8a59-d3cc-45b7-bbe6-64fa252b9810",
   "metadata": {},
   "outputs": [
    {
     "name": "stdout",
     "output_type": "stream",
     "text": [
      "Fri Mar  1 00:16:59 2024       \n",
      "+---------------------------------------------------------------------------------------+\n",
      "| NVIDIA-SMI 545.23.08              Driver Version: 545.23.08    CUDA Version: 12.3     |\n",
      "|-----------------------------------------+----------------------+----------------------+\n",
      "| GPU  Name                 Persistence-M | Bus-Id        Disp.A | Volatile Uncorr. ECC |\n",
      "| Fan  Temp   Perf          Pwr:Usage/Cap |         Memory-Usage | GPU-Util  Compute M. |\n",
      "|                                         |                      |               MIG M. |\n",
      "|=========================================+======================+======================|\n",
      "|   0  NVIDIA GeForce RTX 2080        On  | 00000000:01:00.0  On |                  N/A |\n",
      "| 32%   39C    P8              20W / 215W |    473MiB /  8192MiB |      9%      Default |\n",
      "|                                         |                      |                  N/A |\n",
      "+-----------------------------------------+----------------------+----------------------+\n",
      "                                                                                         \n",
      "+---------------------------------------------------------------------------------------+\n",
      "| Processes:                                                                            |\n",
      "|  GPU   GI   CI        PID   Type   Process name                            GPU Memory |\n",
      "|        ID   ID                                                             Usage      |\n",
      "|=======================================================================================|\n",
      "|    0   N/A  N/A      1887      G   /usr/lib/xorg/Xorg                          188MiB |\n",
      "|    0   N/A  N/A      2033      G   /usr/bin/gnome-shell                         25MiB |\n",
      "|    0   N/A  N/A   1076924      G   /usr/lib/xorg/Xorg                           35MiB |\n",
      "|    0   N/A  N/A   1080394      G   ...sion,SpareRendererForSitePerProcess       39MiB |\n",
      "|    0   N/A  N/A   3306740      G   ...seed-version=20240223-130108.897000       45MiB |\n",
      "+---------------------------------------------------------------------------------------+\n"
     ]
    }
   ],
   "source": [
    "!nvidia-smi"
   ]
  },
  {
   "cell_type": "code",
   "execution_count": 2,
   "id": "081efcc4-6f8b-4a3c-aa42-098bae7af9e2",
   "metadata": {},
   "outputs": [],
   "source": [
    "%load_ext autoreload\n",
    "%autoreload 2"
   ]
  },
  {
   "cell_type": "code",
   "execution_count": 3,
   "id": "38156aa5-ac38-4485-bc1a-1dae6d25f12e",
   "metadata": {},
   "outputs": [
    {
     "data": {
      "text/plain": [
       "'/home/linh/projects/IConNet'"
      ]
     },
     "execution_count": 3,
     "metadata": {},
     "output_type": "execute_result"
    }
   ],
   "source": [
    "import os\n",
    "os.chdir('..')\n",
    "os.getcwd()"
   ]
  },
  {
   "cell_type": "code",
   "execution_count": 4,
   "id": "7d12836d-0cc1-420a-b29c-31b7950d4d74",
   "metadata": {},
   "outputs": [
    {
     "name": "stdout",
     "output_type": "stream",
     "text": [
      "cuda\n"
     ]
    }
   ],
   "source": [
    "os.environ[\"PYTORCH_CUDA_ALLOC_CONF\"] = \"max_split_size_mb:512\"\n",
    "import gc\n",
    "import torch\n",
    "import torch.nn as nn\n",
    "import torch.nn.functional as F\n",
    "import torch.optim as optim\n",
    "import sys\n",
    "device = torch.device(\"cuda\" if torch.cuda.is_available() else \"cpu\")\n",
    "print(device)"
   ]
  },
  {
   "cell_type": "code",
   "execution_count": 5,
   "id": "0b123705-8e87-4e02-bda0-f82a298edb73",
   "metadata": {},
   "outputs": [],
   "source": [
    "import numpy as np\n",
    "from tqdm import tqdm\n",
    "import matplotlib.pyplot as plt\n",
    "from sklearn.model_selection import train_test_split\n",
    "\n",
    "import warnings\n",
    "warnings.filterwarnings('ignore', category=FutureWarning)"
   ]
  },
  {
   "cell_type": "code",
   "execution_count": 6,
   "id": "e8a982c8-8a83-4092-94b7-07170f4a9950",
   "metadata": {},
   "outputs": [],
   "source": [
    "data_dir = '../data/data_preprocessed/esd/features_4balanced/'\n",
    "\n",
    "sr = 16000\n",
    "\n",
    "data_x = np.load(f'{data_dir}esd.audio16k.npy', \n",
    "                 allow_pickle=True)\n",
    "data_y = np.load(f'{data_dir}esd.label_emotion.npy', \n",
    "                 allow_pickle=True)"
   ]
  },
  {
   "cell_type": "code",
   "execution_count": 7,
   "id": "324169be-2f5d-4740-aa48-9f6a06050401",
   "metadata": {},
   "outputs": [
    {
     "name": "stdout",
     "output_type": "stream",
     "text": [
      "Train: 22400\n",
      "Test: 5600\n"
     ]
    }
   ],
   "source": [
    "x_train, x_test, y_train, y_test = train_test_split(\n",
    "    data_x, data_y, test_size=0.2, \n",
    "    random_state=42, stratify=data_y)\n",
    "print(\"Train: %i\" % len(x_train))\n",
    "print(\"Test: %i\" % len(x_test))"
   ]
  },
  {
   "cell_type": "code",
   "execution_count": 8,
   "id": "2d05e4e3-7a03-4f74-bc67-2551e0b1767c",
   "metadata": {},
   "outputs": [],
   "source": [
    "train_set = list(zip(x_train, y_train))\n",
    "test_set = list(zip(x_test, y_test))"
   ]
  },
  {
   "cell_type": "code",
   "execution_count": 9,
   "id": "f0081d3b-427a-4e12-bb60-2c31e291c09c",
   "metadata": {},
   "outputs": [],
   "source": [
    "labels = ['ang', 'neu', 'sad', 'hap']\n",
    "def label_to_index(word):\n",
    "    return labels.index(word[:3])\n",
    "\n",
    "def pad_sequence(batch):\n",
    "    # Make all tensor in a batch the same length by padding with zeros\n",
    "    batch = [item.t() for item in batch]\n",
    "    batch = torch.nn.utils.rnn.pad_sequence(\n",
    "        batch, batch_first=True, padding_value=0.)\n",
    "    return batch.permute(0, 2, 1)\n",
    "\n",
    "\n",
    "def collate_fn(batch, max_duration_in_second=4, sample_rate=sr):\n",
    "    tensors, targets = [], []\n",
    "\n",
    "    # Gather in lists, and encode labels as indices\n",
    "    for waveform, label in batch:\n",
    "        if max_duration_in_second is not None:\n",
    "            length = len(waveform)\n",
    "            max_length = sample_rate * max_duration_in_second\n",
    "            offset = max(0, (length - max_length) // 2)\n",
    "            waveform = waveform[offset: length-offset]\n",
    "        tensors += [torch.tensor(\n",
    "            np.array(waveform, dtype=float), \n",
    "            dtype=torch.float32)[None,:]]\n",
    "        targets += [torch.tensor(label_to_index(label), \n",
    "                                 dtype=torch.long)]\n",
    "\n",
    "    # Group the list of tensors into a batched tensor\n",
    "    tensors = pad_sequence(tensors)\n",
    "    targets = torch.stack(targets)\n",
    "\n",
    "    return tensors, targets\n",
    "\n",
    "batch_size = 16\n",
    "\n",
    "if device == \"cuda\":\n",
    "    num_workers = 1\n",
    "    pin_memory = True\n",
    "else:\n",
    "    num_workers = 0\n",
    "    pin_memory = False\n",
    "\n",
    "train_loader = torch.utils.data.DataLoader(\n",
    "    train_set,\n",
    "    batch_size=batch_size,\n",
    "    shuffle=True,\n",
    "    collate_fn=collate_fn,\n",
    "    num_workers=num_workers,\n",
    "    pin_memory=pin_memory, \n",
    "    drop_last=True\n",
    ")\n",
    "test_loader = torch.utils.data.DataLoader(\n",
    "    test_set,\n",
    "    batch_size=batch_size,\n",
    "    shuffle=False,\n",
    "    drop_last=True,\n",
    "    collate_fn=collate_fn,\n",
    "    num_workers=num_workers,\n",
    "    pin_memory=pin_memory\n",
    ")"
   ]
  },
  {
   "cell_type": "code",
   "execution_count": 10,
   "id": "7df1b402-569d-4f81-9a55-a1ed9219f659",
   "metadata": {},
   "outputs": [
    {
     "name": "stdout",
     "output_type": "stream",
     "text": [
      "{'name': 'M13mfcc', 'description': 'FirConv with fftconv', 'mfcc': {'n_mfcc': 40, 'n_fft': 512, 'hop_length': 128, 'n_mels': 64, 'sample_rate': 16000}, 'pooling': 'mean', 'cls': {'n_block': 2, 'n_hidden_dim': [512, 512], 'norm_type': 'LayerNorm'}}\n"
     ]
    },
    {
     "data": {
      "text/plain": [
       "M13mfcc(\n",
       "  (mfcc): MFCC(\n",
       "    (amplitude_to_DB): AmplitudeToDB()\n",
       "    (MelSpectrogram): MelSpectrogram(\n",
       "      (spectrogram): Spectrogram()\n",
       "      (mel_scale): MelScale()\n",
       "    )\n",
       "  )\n",
       "  (cls_head): Classifier(\n",
       "    (blocks): ModuleList(\n",
       "      (0): Sequential(\n",
       "        (norm): LayerNorm((40,), eps=1e-05, elementwise_affine=True)\n",
       "        (layer): Linear(in_features=40, out_features=512, bias=True)\n",
       "      )\n",
       "      (1): Sequential(\n",
       "        (norm): LayerNorm((512,), eps=1e-05, elementwise_affine=True)\n",
       "        (layer): Linear(in_features=512, out_features=512, bias=True)\n",
       "      )\n",
       "    )\n",
       "    (act): LeakyReLU(negative_slope=0.01)\n",
       "    (output_layer): Linear(in_features=512, out_features=4, bias=True)\n",
       "  )\n",
       ")"
      ]
     },
     "execution_count": 10,
     "metadata": {},
     "output_type": "execute_result"
    }
   ],
   "source": [
    "import traceback\n",
    "from IConNet.nn.model import M13mfcc as M13\n",
    "from omegaconf import OmegaConf as ocf\n",
    "\n",
    "model_config_path = 'config/model/m13mfcc.yaml'\n",
    "model_config = ocf.load(model_config_path)\n",
    "print(model_config)\n",
    "model = M13(config=model_config,\n",
    "           n_input=1, n_output=len(labels))\n",
    "model"
   ]
  },
  {
   "cell_type": "code",
   "execution_count": 11,
   "id": "49594e69-869c-4ea7-bfdc-e4981ec3c45a",
   "metadata": {},
   "outputs": [],
   "source": [
    "n_epoch = 10\n",
    "train_losses = []\n",
    "test_accuracy = []\n",
    "optimizer = optim.RAdam(model.parameters(), lr=0.001)\n",
    "scheduler = optim.lr_scheduler.OneCycleLR(\n",
    "    optimizer, max_lr=0.1,\n",
    "    steps_per_epoch=len(train_loader), epochs=n_epoch)"
   ]
  },
  {
   "cell_type": "code",
   "execution_count": 12,
   "id": "bad47e72-fe3b-4dfb-ae71-cfbde97e2c8e",
   "metadata": {},
   "outputs": [],
   "source": [
    "train_loader_length = len(train_loader.dataset)\n",
    "test_loader_length = len(test_loader.dataset)\n",
    "\n",
    "def train(model, epoch, log_interval, \n",
    "          train_losses=train_losses):\n",
    "    model.train()\n",
    "    for batch_idx, (data, target) in enumerate(train_loader):\n",
    "        try:\n",
    "            _mem_before = torch.cuda.memory_allocated()\n",
    "            data = data.to(device)\n",
    "            target = target.to(device)\n",
    "            output = model(data)\n",
    "            del data\n",
    "            gc.collect()\n",
    "            torch.cuda.empty_cache()\n",
    "            loss = F.cross_entropy(output.squeeze(), target)\n",
    "            _mem_during = torch.cuda.memory_allocated()\n",
    "            del target\n",
    "            gc.collect()\n",
    "            torch.cuda.empty_cache()\n",
    "            optimizer.zero_grad()\n",
    "            loss.backward()\n",
    "            nn.utils.clip_grad.clip_grad_norm_(\n",
    "                model.parameters(), 1.0)\n",
    "            optimizer.step()\n",
    "            _mem_after = torch.cuda.memory_allocated()\n",
    "            # print training stats\n",
    "            if batch_idx % log_interval == 0:\n",
    "                print(f\"Train Epoch: {epoch} [{batch_idx * batch_size}/{train_loader_length} ({100. * batch_idx / len(train_loader):.0f}%)]\\tLoss: {loss.item():.6f}\")\n",
    "                print(f'Mem before-during-after: {_mem_before} {_mem_during} {_mem_after}')\n",
    "            # update progress bar\n",
    "            pbar.update(pbar_update)\n",
    "            # record loss\n",
    "            train_losses.append(loss.item())\n",
    "        except Exception as e:\n",
    "            print(f'data: {data.shape} => output: {output.shape} | target: {target.shape}')\n",
    "            traceback.print_exc()\n",
    "\n",
    "@torch.no_grad\n",
    "def test(model, epoch, test_loader=test_loader, device=device):\n",
    "    model.eval()\n",
    "    correct = 0\n",
    "    total = 0\n",
    "    for data, target in test_loader:\n",
    "        total += len(target)\n",
    "        data = data.to(device)\n",
    "        target = target.to(device)\n",
    "        output = model(data).squeeze()\n",
    "        del data\n",
    "        gc.collect()\n",
    "        torch.cuda.empty_cache()\n",
    "        probs = F.softmax(output, dim=-1)\n",
    "        pred = probs.argmax(dim=-1)\n",
    "        correct += pred.eq(target).sum().item()\n",
    "        del target\n",
    "        gc.collect()\n",
    "        torch.cuda.empty_cache()\n",
    "        pbar.update(pbar_update)\n",
    "    acc = correct / test_loader_length\n",
    "    print(f\"\\nTest Epoch: {epoch}\\tAccuracy: {correct}/{total} ({100. * acc:.0f}%)\\n\")\n",
    "    return acc"
   ]
  },
  {
   "cell_type": "code",
   "execution_count": 13,
   "id": "07c82633-3b41-48aa-a423-5f2609646f51",
   "metadata": {
    "scrolled": true
   },
   "outputs": [
    {
     "name": "stderr",
     "output_type": "stream",
     "text": [
      "  0%|                               | 0.001142857142857143/10 [00:00<1:09:40, 418.08s/it]"
     ]
    },
    {
     "name": "stdout",
     "output_type": "stream",
     "text": [
      "Train Epoch: 1 [0/22400 (0%)]\tLoss: 1.612252\n",
      "Mem before-during-after: 1226752 9887232 21712384\n"
     ]
    },
    {
     "name": "stderr",
     "output_type": "stream",
     "text": [
      "  0%|                                 | 0.023999999999999983/10 [00:07<49:53, 300.05s/it]"
     ]
    },
    {
     "name": "stdout",
     "output_type": "stream",
     "text": [
      "Train Epoch: 1 [640/22400 (3%)]\tLoss: 1.195113\n",
      "Mem before-during-after: 21712384 21852160 21712384\n"
     ]
    },
    {
     "name": "stderr",
     "output_type": "stream",
     "text": [
      "  0%|▏                                | 0.046857142857142785/10 [00:13<42:41, 257.40s/it]"
     ]
    },
    {
     "name": "stdout",
     "output_type": "stream",
     "text": [
      "Train Epoch: 1 [1280/22400 (6%)]\tLoss: 1.214742\n",
      "Mem before-during-after: 21712384 21852160 21712384\n"
     ]
    },
    {
     "name": "stderr",
     "output_type": "stream",
     "text": [
      "  1%|▏                                 | 0.06971428571428559/10 [00:19<46:20, 280.04s/it]"
     ]
    },
    {
     "name": "stdout",
     "output_type": "stream",
     "text": [
      "Train Epoch: 1 [1920/22400 (9%)]\tLoss: 0.988580\n",
      "Mem before-during-after: 21712384 21852160 21712384\n"
     ]
    },
    {
     "name": "stderr",
     "output_type": "stream",
     "text": [
      "  1%|▎                                 | 0.09257142857142839/10 [00:26<46:06, 279.20s/it]"
     ]
    },
    {
     "name": "stdout",
     "output_type": "stream",
     "text": [
      "Train Epoch: 1 [2560/22400 (11%)]\tLoss: 1.000542\n",
      "Mem before-during-after: 21712384 21852160 21712384\n"
     ]
    },
    {
     "name": "stderr",
     "output_type": "stream",
     "text": [
      "  1%|▍                                 | 0.11542857142857119/10 [00:32<42:06, 255.60s/it]"
     ]
    },
    {
     "name": "stdout",
     "output_type": "stream",
     "text": [
      "Train Epoch: 1 [3200/22400 (14%)]\tLoss: 0.916069\n",
      "Mem before-during-after: 21712384 21852160 21712384\n"
     ]
    },
    {
     "name": "stderr",
     "output_type": "stream",
     "text": [
      "  1%|▍                                 | 0.13828571428571432/10 [00:38<42:12, 256.77s/it]"
     ]
    },
    {
     "name": "stdout",
     "output_type": "stream",
     "text": [
      "Train Epoch: 1 [3840/22400 (17%)]\tLoss: 1.448993\n",
      "Mem before-during-after: 21712384 21852160 21712384\n"
     ]
    },
    {
     "name": "stderr",
     "output_type": "stream",
     "text": [
      "  2%|▌                                 | 0.16114285714285767/10 [00:44<42:14, 257.60s/it]"
     ]
    },
    {
     "name": "stdout",
     "output_type": "stream",
     "text": [
      "Train Epoch: 1 [4480/22400 (20%)]\tLoss: 1.099703\n",
      "Mem before-during-after: 21712384 21852160 21712384\n"
     ]
    },
    {
     "name": "stderr",
     "output_type": "stream",
     "text": [
      "  2%|▋                                 | 0.18400000000000102/10 [00:50<41:41, 254.79s/it]"
     ]
    },
    {
     "name": "stdout",
     "output_type": "stream",
     "text": [
      "Train Epoch: 1 [5120/22400 (23%)]\tLoss: 1.034515\n",
      "Mem before-during-after: 21712384 21852160 21712384\n"
     ]
    },
    {
     "name": "stderr",
     "output_type": "stream",
     "text": [
      "  2%|▋                                 | 0.20685714285714438/10 [00:56<42:51, 262.58s/it]"
     ]
    },
    {
     "name": "stdout",
     "output_type": "stream",
     "text": [
      "Train Epoch: 1 [5760/22400 (26%)]\tLoss: 1.061158\n",
      "Mem before-during-after: 21712384 21852160 21712384\n"
     ]
    },
    {
     "name": "stderr",
     "output_type": "stream",
     "text": [
      "  2%|▊                                 | 0.22971428571428773/10 [01:02<43:04, 264.50s/it]"
     ]
    },
    {
     "name": "stdout",
     "output_type": "stream",
     "text": [
      "Train Epoch: 1 [6400/22400 (29%)]\tLoss: 1.087759\n",
      "Mem before-during-after: 21712384 21852160 21712384\n"
     ]
    },
    {
     "name": "stderr",
     "output_type": "stream",
     "text": [
      "  3%|▊                                 | 0.25257142857143094/10 [01:08<41:18, 254.28s/it]"
     ]
    },
    {
     "name": "stdout",
     "output_type": "stream",
     "text": [
      "Train Epoch: 1 [7040/22400 (31%)]\tLoss: 0.893102\n",
      "Mem before-during-after: 21712384 21852160 21712384\n"
     ]
    },
    {
     "name": "stderr",
     "output_type": "stream",
     "text": [
      "  3%|▉                                  | 0.2754285714285732/10 [01:14<41:01, 253.09s/it]"
     ]
    },
    {
     "name": "stdout",
     "output_type": "stream",
     "text": [
      "Train Epoch: 1 [7680/22400 (34%)]\tLoss: 1.006628\n",
      "Mem before-during-after: 21712384 21852160 21712384\n"
     ]
    },
    {
     "name": "stderr",
     "output_type": "stream",
     "text": [
      "  3%|█                                 | 0.29828571428571543/10 [01:20<52:38, 325.52s/it]"
     ]
    },
    {
     "name": "stdout",
     "output_type": "stream",
     "text": [
      "Train Epoch: 1 [8320/22400 (37%)]\tLoss: 0.917931\n",
      "Mem before-during-after: 21712384 21852160 21712384\n"
     ]
    },
    {
     "name": "stderr",
     "output_type": "stream",
     "text": [
      "  3%|█                                  | 0.3211428571428577/10 [01:26<42:29, 263.39s/it]"
     ]
    },
    {
     "name": "stdout",
     "output_type": "stream",
     "text": [
      "Train Epoch: 1 [8960/22400 (40%)]\tLoss: 0.963505\n",
      "Mem before-during-after: 21712384 21852160 21712384\n"
     ]
    },
    {
     "name": "stderr",
     "output_type": "stream",
     "text": [
      "  3%|█▏                                 | 0.3439999999999999/10 [01:32<41:38, 258.75s/it]"
     ]
    },
    {
     "name": "stdout",
     "output_type": "stream",
     "text": [
      "Train Epoch: 1 [9600/22400 (43%)]\tLoss: 0.699052\n",
      "Mem before-during-after: 21712384 21852160 21712384\n"
     ]
    },
    {
     "name": "stderr",
     "output_type": "stream",
     "text": [
      "  4%|█▏                                | 0.36685714285714216/10 [01:38<41:08, 256.22s/it]"
     ]
    },
    {
     "name": "stdout",
     "output_type": "stream",
     "text": [
      "Train Epoch: 1 [10240/22400 (46%)]\tLoss: 1.274884\n",
      "Mem before-during-after: 21712384 21852160 21712384\n"
     ]
    },
    {
     "name": "stderr",
     "output_type": "stream",
     "text": [
      "  4%|█▎                                 | 0.3897142857142844/10 [01:44<41:46, 260.83s/it]"
     ]
    },
    {
     "name": "stdout",
     "output_type": "stream",
     "text": [
      "Train Epoch: 1 [10880/22400 (49%)]\tLoss: 0.946303\n",
      "Mem before-during-after: 21712384 21852160 21712384\n"
     ]
    },
    {
     "name": "stderr",
     "output_type": "stream",
     "text": [
      "  4%|█▍                                | 0.41257142857142665/10 [01:50<41:36, 260.40s/it]"
     ]
    },
    {
     "name": "stdout",
     "output_type": "stream",
     "text": [
      "Train Epoch: 1 [11520/22400 (51%)]\tLoss: 1.061240\n",
      "Mem before-during-after: 21712384 21852160 21712384\n"
     ]
    },
    {
     "name": "stderr",
     "output_type": "stream",
     "text": [
      "  4%|█▌                                 | 0.4354285714285689/10 [01:56<40:50, 256.19s/it]"
     ]
    },
    {
     "name": "stdout",
     "output_type": "stream",
     "text": [
      "Train Epoch: 1 [12160/22400 (54%)]\tLoss: 0.981416\n",
      "Mem before-during-after: 21712384 21852160 21712384\n"
     ]
    },
    {
     "name": "stderr",
     "output_type": "stream",
     "text": [
      "  5%|█▌                                | 0.45828571428571113/10 [02:02<41:51, 263.22s/it]"
     ]
    },
    {
     "name": "stdout",
     "output_type": "stream",
     "text": [
      "Train Epoch: 1 [12800/22400 (57%)]\tLoss: 0.888597\n",
      "Mem before-during-after: 21712384 21852160 21712384\n"
     ]
    },
    {
     "name": "stderr",
     "output_type": "stream",
     "text": [
      "  5%|█▋                                 | 0.4811428571428534/10 [02:08<40:53, 257.78s/it]"
     ]
    },
    {
     "name": "stdout",
     "output_type": "stream",
     "text": [
      "Train Epoch: 1 [13440/22400 (60%)]\tLoss: 0.633108\n",
      "Mem before-during-after: 21712384 21852160 21712384\n"
     ]
    },
    {
     "name": "stderr",
     "output_type": "stream",
     "text": [
      "  5%|█▊                                 | 0.5039999999999957/10 [02:14<41:00, 259.14s/it]"
     ]
    },
    {
     "name": "stdout",
     "output_type": "stream",
     "text": [
      "Train Epoch: 1 [14080/22400 (63%)]\tLoss: 0.938819\n",
      "Mem before-during-after: 21712384 21852160 21712384\n"
     ]
    },
    {
     "name": "stderr",
     "output_type": "stream",
     "text": [
      "  5%|█▊                                 | 0.5268571428571379/10 [02:20<40:41, 257.69s/it]"
     ]
    },
    {
     "name": "stdout",
     "output_type": "stream",
     "text": [
      "Train Epoch: 1 [14720/22400 (66%)]\tLoss: 0.632103\n",
      "Mem before-during-after: 21712384 21852160 21712384\n"
     ]
    },
    {
     "name": "stderr",
     "output_type": "stream",
     "text": [
      "  5%|█▉                                 | 0.5497142857142802/10 [02:26<40:26, 256.76s/it]"
     ]
    },
    {
     "name": "stdout",
     "output_type": "stream",
     "text": [
      "Train Epoch: 1 [15360/22400 (69%)]\tLoss: 0.926161\n",
      "Mem before-during-after: 21712384 21852160 21712384\n"
     ]
    },
    {
     "name": "stderr",
     "output_type": "stream",
     "text": [
      "  6%|██                                 | 0.5725714285714224/10 [02:32<40:23, 257.05s/it]"
     ]
    },
    {
     "name": "stdout",
     "output_type": "stream",
     "text": [
      "Train Epoch: 1 [16000/22400 (71%)]\tLoss: 0.872949\n",
      "Mem before-during-after: 21712384 21852160 21712384\n"
     ]
    },
    {
     "name": "stderr",
     "output_type": "stream",
     "text": [
      "  6%|██                                 | 0.5954285714285646/10 [02:38<43:15, 275.95s/it]"
     ]
    },
    {
     "name": "stdout",
     "output_type": "stream",
     "text": [
      "Train Epoch: 1 [16640/22400 (74%)]\tLoss: 0.904938\n",
      "Mem before-during-after: 21712384 21852160 21712384\n"
     ]
    },
    {
     "name": "stderr",
     "output_type": "stream",
     "text": [
      "  6%|██▏                                | 0.6182857142857069/10 [02:44<40:57, 262.00s/it]"
     ]
    },
    {
     "name": "stdout",
     "output_type": "stream",
     "text": [
      "Train Epoch: 1 [17280/22400 (77%)]\tLoss: 1.152213\n",
      "Mem before-during-after: 21712384 21852160 21712384\n"
     ]
    },
    {
     "name": "stderr",
     "output_type": "stream",
     "text": [
      "  6%|██▏                                | 0.6411428571428491/10 [02:50<41:57, 269.04s/it]"
     ]
    },
    {
     "name": "stdout",
     "output_type": "stream",
     "text": [
      "Train Epoch: 1 [17920/22400 (80%)]\tLoss: 0.771055\n",
      "Mem before-during-after: 21712384 21852160 21712384\n"
     ]
    },
    {
     "name": "stderr",
     "output_type": "stream",
     "text": [
      "  7%|██▎                                | 0.6639999999999914/10 [02:56<39:38, 254.81s/it]"
     ]
    },
    {
     "name": "stdout",
     "output_type": "stream",
     "text": [
      "Train Epoch: 1 [18560/22400 (83%)]\tLoss: 0.865183\n",
      "Mem before-during-after: 21712384 21852160 21712384\n"
     ]
    },
    {
     "name": "stderr",
     "output_type": "stream",
     "text": [
      "  7%|██▍                                | 0.6868571428571336/10 [03:02<40:20, 259.87s/it]"
     ]
    },
    {
     "name": "stdout",
     "output_type": "stream",
     "text": [
      "Train Epoch: 1 [19200/22400 (86%)]\tLoss: 0.752592\n",
      "Mem before-during-after: 21712384 21852160 21712384\n"
     ]
    },
    {
     "name": "stderr",
     "output_type": "stream",
     "text": [
      "  7%|██▍                                | 0.7097142857142759/10 [03:08<40:45, 263.21s/it]"
     ]
    },
    {
     "name": "stdout",
     "output_type": "stream",
     "text": [
      "Train Epoch: 1 [19840/22400 (89%)]\tLoss: 0.598364\n",
      "Mem before-during-after: 21712384 21852160 21712384\n"
     ]
    },
    {
     "name": "stderr",
     "output_type": "stream",
     "text": [
      "  7%|██▌                                | 0.7325714285714181/10 [03:14<40:30, 262.25s/it]"
     ]
    },
    {
     "name": "stdout",
     "output_type": "stream",
     "text": [
      "Train Epoch: 1 [20480/22400 (91%)]\tLoss: 0.685207\n",
      "Mem before-during-after: 21712384 21852160 21712384\n"
     ]
    },
    {
     "name": "stderr",
     "output_type": "stream",
     "text": [
      "  8%|██▋                                | 0.7554285714285603/10 [03:20<38:37, 250.71s/it]"
     ]
    },
    {
     "name": "stdout",
     "output_type": "stream",
     "text": [
      "Train Epoch: 1 [21120/22400 (94%)]\tLoss: 1.045972\n",
      "Mem before-during-after: 21712384 21852160 21712384\n"
     ]
    },
    {
     "name": "stderr",
     "output_type": "stream",
     "text": [
      "  8%|██▋                                | 0.7782857142857026/10 [03:26<40:03, 260.61s/it]"
     ]
    },
    {
     "name": "stdout",
     "output_type": "stream",
     "text": [
      "Train Epoch: 1 [21760/22400 (97%)]\tLoss: 0.540190\n",
      "Mem before-during-after: 21712384 21852160 21712384\n"
     ]
    },
    {
     "name": "stderr",
     "output_type": "stream",
     "text": [
      " 10%|███▌                                | 1.000571428571411/10 [04:23<38:39, 257.70s/it]"
     ]
    },
    {
     "name": "stdout",
     "output_type": "stream",
     "text": [
      "\n",
      "Test Epoch: 1\tAccuracy: 3704/5600 (66%)\n",
      "\n",
      "Train Epoch: 2 [0/22400 (0%)]\tLoss: 0.925355\n",
      "Mem before-during-after: 21711360 21852160 21712384\n"
     ]
    },
    {
     "name": "stderr",
     "output_type": "stream",
     "text": [
      " 10%|███▌                               | 1.0239999999999863/10 [04:29<38:15, 255.71s/it]"
     ]
    },
    {
     "name": "stdout",
     "output_type": "stream",
     "text": [
      "Train Epoch: 2 [640/22400 (3%)]\tLoss: 0.427662\n",
      "Mem before-during-after: 21712384 21852160 21712384\n"
     ]
    },
    {
     "name": "stderr",
     "output_type": "stream",
     "text": [
      " 10%|███▊                                | 1.046857142857133/10 [04:35<38:46, 259.90s/it]"
     ]
    },
    {
     "name": "stdout",
     "output_type": "stream",
     "text": [
      "Train Epoch: 2 [1280/22400 (6%)]\tLoss: 0.876295\n",
      "Mem before-during-after: 21712384 21852160 21712384\n"
     ]
    },
    {
     "name": "stderr",
     "output_type": "stream",
     "text": [
      " 11%|███▋                               | 1.0697142857142796/10 [04:41<39:15, 263.80s/it]"
     ]
    },
    {
     "name": "stdout",
     "output_type": "stream",
     "text": [
      "Train Epoch: 2 [1920/22400 (9%)]\tLoss: 0.608846\n",
      "Mem before-during-after: 21712384 21852160 21712384\n"
     ]
    },
    {
     "name": "stderr",
     "output_type": "stream",
     "text": [
      " 11%|███▊                               | 1.0925714285714263/10 [04:47<38:03, 256.39s/it]"
     ]
    },
    {
     "name": "stdout",
     "output_type": "stream",
     "text": [
      "Train Epoch: 2 [2560/22400 (11%)]\tLoss: 0.466772\n",
      "Mem before-during-after: 21712384 21852160 21712384\n"
     ]
    },
    {
     "name": "stderr",
     "output_type": "stream",
     "text": [
      " 11%|████                                | 1.115428571428573/10 [04:53<39:29, 266.70s/it]"
     ]
    },
    {
     "name": "stdout",
     "output_type": "stream",
     "text": [
      "Train Epoch: 2 [3200/22400 (14%)]\tLoss: 0.411165\n",
      "Mem before-during-after: 21712384 21852160 21712384\n"
     ]
    },
    {
     "name": "stderr",
     "output_type": "stream",
     "text": [
      " 11%|███▉                               | 1.1382857142857197/10 [04:59<39:15, 265.82s/it]"
     ]
    },
    {
     "name": "stdout",
     "output_type": "stream",
     "text": [
      "Train Epoch: 2 [3840/22400 (17%)]\tLoss: 0.343059\n",
      "Mem before-during-after: 21712384 21852160 21712384\n"
     ]
    },
    {
     "name": "stderr",
     "output_type": "stream",
     "text": [
      " 12%|████                               | 1.1611428571428664/10 [05:05<37:42, 255.95s/it]"
     ]
    },
    {
     "name": "stdout",
     "output_type": "stream",
     "text": [
      "Train Epoch: 2 [4480/22400 (20%)]\tLoss: 0.562275\n",
      "Mem before-during-after: 21712384 21852160 21712384\n"
     ]
    },
    {
     "name": "stderr",
     "output_type": "stream",
     "text": [
      " 12%|████▎                               | 1.184000000000013/10 [05:11<39:27, 268.51s/it]"
     ]
    },
    {
     "name": "stdout",
     "output_type": "stream",
     "text": [
      "Train Epoch: 2 [5120/22400 (23%)]\tLoss: 0.374167\n",
      "Mem before-during-after: 21712384 21852160 21712384\n"
     ]
    },
    {
     "name": "stderr",
     "output_type": "stream",
     "text": [
      " 12%|████▏                              | 1.2068571428571597/10 [05:17<36:44, 250.73s/it]"
     ]
    },
    {
     "name": "stdout",
     "output_type": "stream",
     "text": [
      "Train Epoch: 2 [5760/22400 (26%)]\tLoss: 0.517539\n",
      "Mem before-during-after: 21712384 21852160 21712384\n"
     ]
    },
    {
     "name": "stderr",
     "output_type": "stream",
     "text": [
      " 12%|████▎                              | 1.2297142857143064/10 [05:23<37:53, 259.19s/it]"
     ]
    },
    {
     "name": "stdout",
     "output_type": "stream",
     "text": [
      "Train Epoch: 2 [6400/22400 (29%)]\tLoss: 0.641664\n",
      "Mem before-during-after: 21712384 21852160 21712384\n"
     ]
    },
    {
     "name": "stderr",
     "output_type": "stream",
     "text": [
      " 13%|████▌                               | 1.252571428571453/10 [05:29<37:29, 257.18s/it]"
     ]
    },
    {
     "name": "stdout",
     "output_type": "stream",
     "text": [
      "Train Epoch: 2 [7040/22400 (31%)]\tLoss: 0.727917\n",
      "Mem before-during-after: 21712384 21852160 21712384\n"
     ]
    },
    {
     "name": "stderr",
     "output_type": "stream",
     "text": [
      " 13%|████▍                              | 1.2754285714285998/10 [05:35<37:43, 259.41s/it]"
     ]
    },
    {
     "name": "stdout",
     "output_type": "stream",
     "text": [
      "Train Epoch: 2 [7680/22400 (34%)]\tLoss: 0.512271\n",
      "Mem before-during-after: 21712384 21852160 21712384\n"
     ]
    },
    {
     "name": "stderr",
     "output_type": "stream",
     "text": [
      " 13%|████▌                              | 1.2982857142857465/10 [05:41<37:11, 256.50s/it]"
     ]
    },
    {
     "name": "stdout",
     "output_type": "stream",
     "text": [
      "Train Epoch: 2 [8320/22400 (37%)]\tLoss: 0.590123\n",
      "Mem before-during-after: 21712384 21852160 21712384\n"
     ]
    },
    {
     "name": "stderr",
     "output_type": "stream",
     "text": [
      " 13%|████▌                              | 1.3211428571428931/10 [05:47<37:52, 261.83s/it]"
     ]
    },
    {
     "name": "stdout",
     "output_type": "stream",
     "text": [
      "Train Epoch: 2 [8960/22400 (40%)]\tLoss: 0.792786\n",
      "Mem before-during-after: 21712384 21852160 21712384\n"
     ]
    },
    {
     "name": "stderr",
     "output_type": "stream",
     "text": [
      " 13%|████▋                              | 1.3440000000000398/10 [05:53<36:52, 255.61s/it]"
     ]
    },
    {
     "name": "stdout",
     "output_type": "stream",
     "text": [
      "Train Epoch: 2 [9600/22400 (43%)]\tLoss: 0.411521\n",
      "Mem before-during-after: 21712384 21852160 21712384\n"
     ]
    },
    {
     "name": "stderr",
     "output_type": "stream",
     "text": [
      " 14%|████▊                              | 1.3668571428571865/10 [05:59<36:49, 255.95s/it]"
     ]
    },
    {
     "name": "stdout",
     "output_type": "stream",
     "text": [
      "Train Epoch: 2 [10240/22400 (46%)]\tLoss: 1.345430\n",
      "Mem before-during-after: 21712384 21852160 21712384\n"
     ]
    },
    {
     "name": "stderr",
     "output_type": "stream",
     "text": [
      " 14%|████▊                              | 1.3897142857143332/10 [06:05<36:50, 256.76s/it]"
     ]
    },
    {
     "name": "stdout",
     "output_type": "stream",
     "text": [
      "Train Epoch: 2 [10880/22400 (49%)]\tLoss: 0.665081\n",
      "Mem before-during-after: 21712384 21852160 21712384\n"
     ]
    },
    {
     "name": "stderr",
     "output_type": "stream",
     "text": [
      " 14%|████▉                              | 1.4125714285714799/10 [06:11<36:47, 257.11s/it]"
     ]
    },
    {
     "name": "stdout",
     "output_type": "stream",
     "text": [
      "Train Epoch: 2 [11520/22400 (51%)]\tLoss: 0.652102\n",
      "Mem before-during-after: 21712384 21852160 21712384\n"
     ]
    },
    {
     "name": "stderr",
     "output_type": "stream",
     "text": [
      " 14%|█████                              | 1.4354285714286266/10 [06:17<36:55, 258.71s/it]"
     ]
    },
    {
     "name": "stdout",
     "output_type": "stream",
     "text": [
      "Train Epoch: 2 [12160/22400 (54%)]\tLoss: 0.693536\n",
      "Mem before-during-after: 21712384 21852160 21712384\n"
     ]
    },
    {
     "name": "stderr",
     "output_type": "stream",
     "text": [
      " 15%|█████                              | 1.4582857142857732/10 [06:23<36:30, 256.40s/it]"
     ]
    },
    {
     "name": "stdout",
     "output_type": "stream",
     "text": [
      "Train Epoch: 2 [12800/22400 (57%)]\tLoss: 0.807337\n",
      "Mem before-during-after: 21712384 21852160 21712384\n"
     ]
    },
    {
     "name": "stderr",
     "output_type": "stream",
     "text": [
      " 15%|█████▍                               | 1.48114285714292/10 [06:29<38:16, 269.56s/it]"
     ]
    },
    {
     "name": "stdout",
     "output_type": "stream",
     "text": [
      "Train Epoch: 2 [13440/22400 (60%)]\tLoss: 0.616416\n",
      "Mem before-during-after: 21712384 21852160 21712384\n"
     ]
    },
    {
     "name": "stderr",
     "output_type": "stream",
     "text": [
      " 15%|█████▎                             | 1.5040000000000666/10 [06:35<36:11, 255.63s/it]"
     ]
    },
    {
     "name": "stdout",
     "output_type": "stream",
     "text": [
      "Train Epoch: 2 [14080/22400 (63%)]\tLoss: 0.643071\n",
      "Mem before-during-after: 21712384 21852160 21712384\n"
     ]
    },
    {
     "name": "stderr",
     "output_type": "stream",
     "text": [
      " 15%|█████▎                             | 1.5268571428572133/10 [06:41<37:12, 263.53s/it]"
     ]
    },
    {
     "name": "stdout",
     "output_type": "stream",
     "text": [
      "Train Epoch: 2 [14720/22400 (66%)]\tLoss: 0.964872\n",
      "Mem before-during-after: 21712384 21852160 21712384\n"
     ]
    },
    {
     "name": "stderr",
     "output_type": "stream",
     "text": [
      " 15%|█████▋                               | 1.54971428571436/10 [06:46<35:20, 250.99s/it]"
     ]
    },
    {
     "name": "stdout",
     "output_type": "stream",
     "text": [
      "Train Epoch: 2 [15360/22400 (69%)]\tLoss: 0.756967\n",
      "Mem before-during-after: 21712384 21852160 21712384\n"
     ]
    },
    {
     "name": "stderr",
     "output_type": "stream",
     "text": [
      " 16%|█████▌                             | 1.5725714285715067/10 [06:52<36:01, 256.47s/it]"
     ]
    },
    {
     "name": "stdout",
     "output_type": "stream",
     "text": [
      "Train Epoch: 2 [16000/22400 (71%)]\tLoss: 0.556478\n",
      "Mem before-during-after: 21712384 21852160 21712384\n"
     ]
    },
    {
     "name": "stderr",
     "output_type": "stream",
     "text": [
      " 16%|█████▌                             | 1.5954285714286534/10 [06:58<36:16, 259.01s/it]"
     ]
    },
    {
     "name": "stdout",
     "output_type": "stream",
     "text": [
      "Train Epoch: 2 [16640/22400 (74%)]\tLoss: 0.957255\n",
      "Mem before-during-after: 21712384 21852160 21712384\n"
     ]
    },
    {
     "name": "stderr",
     "output_type": "stream",
     "text": [
      " 16%|██████▏                               | 1.6182857142858/10 [07:04<36:18, 259.95s/it]"
     ]
    },
    {
     "name": "stdout",
     "output_type": "stream",
     "text": [
      "Train Epoch: 2 [17280/22400 (77%)]\tLoss: 0.914459\n",
      "Mem before-during-after: 21712384 21852160 21712384\n"
     ]
    },
    {
     "name": "stderr",
     "output_type": "stream",
     "text": [
      " 16%|█████▋                             | 1.6411428571429467/10 [07:10<34:49, 250.01s/it]"
     ]
    },
    {
     "name": "stdout",
     "output_type": "stream",
     "text": [
      "Train Epoch: 2 [17920/22400 (80%)]\tLoss: 0.564504\n",
      "Mem before-during-after: 21712384 21852160 21712384\n"
     ]
    },
    {
     "name": "stderr",
     "output_type": "stream",
     "text": [
      " 17%|█████▊                             | 1.6640000000000934/10 [07:16<36:15, 260.99s/it]"
     ]
    },
    {
     "name": "stdout",
     "output_type": "stream",
     "text": [
      "Train Epoch: 2 [18560/22400 (83%)]\tLoss: 0.751601\n",
      "Mem before-during-after: 21712384 21852160 21712384\n"
     ]
    },
    {
     "name": "stderr",
     "output_type": "stream",
     "text": [
      " 17%|██████▏                              | 1.68685714285724/10 [07:22<36:13, 261.46s/it]"
     ]
    },
    {
     "name": "stdout",
     "output_type": "stream",
     "text": [
      "Train Epoch: 2 [19200/22400 (86%)]\tLoss: 0.622865\n",
      "Mem before-during-after: 21712384 21852160 21712384\n"
     ]
    },
    {
     "name": "stderr",
     "output_type": "stream",
     "text": [
      " 17%|█████▉                             | 1.7097142857143868/10 [07:28<35:46, 258.91s/it]"
     ]
    },
    {
     "name": "stdout",
     "output_type": "stream",
     "text": [
      "Train Epoch: 2 [19840/22400 (89%)]\tLoss: 0.186885\n",
      "Mem before-during-after: 21712384 21852160 21712384\n"
     ]
    },
    {
     "name": "stderr",
     "output_type": "stream",
     "text": [
      " 17%|██████                             | 1.7325714285715335/10 [07:34<36:49, 267.31s/it]"
     ]
    },
    {
     "name": "stdout",
     "output_type": "stream",
     "text": [
      "Train Epoch: 2 [20480/22400 (91%)]\tLoss: 0.497463\n",
      "Mem before-during-after: 21712384 21852160 21712384\n"
     ]
    },
    {
     "name": "stderr",
     "output_type": "stream",
     "text": [
      " 18%|██████▏                            | 1.7554285714286801/10 [07:40<35:16, 256.67s/it]"
     ]
    },
    {
     "name": "stdout",
     "output_type": "stream",
     "text": [
      "Train Epoch: 2 [21120/22400 (94%)]\tLoss: 0.812850\n",
      "Mem before-during-after: 21712384 21852160 21712384\n"
     ]
    },
    {
     "name": "stderr",
     "output_type": "stream",
     "text": [
      " 18%|██████▏                            | 1.7782857142858268/10 [07:47<35:24, 258.38s/it]"
     ]
    },
    {
     "name": "stdout",
     "output_type": "stream",
     "text": [
      "Train Epoch: 2 [21760/22400 (97%)]\tLoss: 0.588667\n",
      "Mem before-during-after: 21712384 21852160 21712384\n"
     ]
    },
    {
     "name": "stderr",
     "output_type": "stream",
     "text": [
      " 20%|███████                            | 2.0000000000001497/10 [08:44<37:58, 284.81s/it]"
     ]
    },
    {
     "name": "stdout",
     "output_type": "stream",
     "text": [
      "\n",
      "Test Epoch: 2\tAccuracy: 4431/5600 (79%)\n",
      "\n"
     ]
    },
    {
     "name": "stderr",
     "output_type": "stream",
     "text": [
      " 20%|███████                            | 2.0011428571430065/10 [08:44<39:35, 296.96s/it]"
     ]
    },
    {
     "name": "stdout",
     "output_type": "stream",
     "text": [
      "Train Epoch: 3 [0/22400 (0%)]\tLoss: 0.424033\n",
      "Mem before-during-after: 21711360 21852160 21712384\n"
     ]
    },
    {
     "name": "stderr",
     "output_type": "stream",
     "text": [
      " 20%|███████                            | 2.0240000000001444/10 [08:50<33:54, 255.14s/it]"
     ]
    },
    {
     "name": "stdout",
     "output_type": "stream",
     "text": [
      "Train Epoch: 3 [640/22400 (3%)]\tLoss: 0.361548\n",
      "Mem before-during-after: 21712384 21852160 21712384\n"
     ]
    },
    {
     "name": "stderr",
     "output_type": "stream",
     "text": [
      " 20%|███████▎                            | 2.046857142857282/10 [08:56<33:54, 255.76s/it]"
     ]
    },
    {
     "name": "stdout",
     "output_type": "stream",
     "text": [
      "Train Epoch: 3 [1280/22400 (6%)]\tLoss: 0.521972\n",
      "Mem before-during-after: 21712384 21852160 21712384\n"
     ]
    },
    {
     "name": "stderr",
     "output_type": "stream",
     "text": [
      " 21%|███████▋                             | 2.06971428571442/10 [09:02<33:37, 254.36s/it]"
     ]
    },
    {
     "name": "stdout",
     "output_type": "stream",
     "text": [
      "Train Epoch: 3 [1920/22400 (9%)]\tLoss: 0.351903\n",
      "Mem before-during-after: 21712384 21852160 21712384\n"
     ]
    },
    {
     "name": "stderr",
     "output_type": "stream",
     "text": [
      " 21%|███████▎                           | 2.0925714285715578/10 [09:08<34:15, 259.98s/it]"
     ]
    },
    {
     "name": "stdout",
     "output_type": "stream",
     "text": [
      "Train Epoch: 3 [2560/22400 (11%)]\tLoss: 0.264642\n",
      "Mem before-during-after: 21712384 21852160 21712384\n"
     ]
    },
    {
     "name": "stderr",
     "output_type": "stream",
     "text": [
      " 21%|███████▍                           | 2.1154285714286956/10 [09:14<33:34, 255.44s/it]"
     ]
    },
    {
     "name": "stdout",
     "output_type": "stream",
     "text": [
      "Train Epoch: 3 [3200/22400 (14%)]\tLoss: 0.893017\n",
      "Mem before-during-after: 21712384 21852160 21712384\n"
     ]
    },
    {
     "name": "stderr",
     "output_type": "stream",
     "text": [
      " 21%|███████▍                           | 2.1382857142858334/10 [09:20<33:35, 256.35s/it]"
     ]
    },
    {
     "name": "stdout",
     "output_type": "stream",
     "text": [
      "Train Epoch: 3 [3840/22400 (17%)]\tLoss: 0.450978\n",
      "Mem before-during-after: 21712384 21852160 21712384\n"
     ]
    },
    {
     "name": "stderr",
     "output_type": "stream",
     "text": [
      " 22%|███████▊                            | 2.161142857142971/10 [09:26<33:49, 258.94s/it]"
     ]
    },
    {
     "name": "stdout",
     "output_type": "stream",
     "text": [
      "Train Epoch: 3 [4480/22400 (20%)]\tLoss: 0.599215\n",
      "Mem before-during-after: 21712384 21852160 21712384\n"
     ]
    },
    {
     "name": "stderr",
     "output_type": "stream",
     "text": [
      " 22%|███████▊                            | 2.184000000000109/10 [09:32<32:51, 252.27s/it]"
     ]
    },
    {
     "name": "stdout",
     "output_type": "stream",
     "text": [
      "Train Epoch: 3 [5120/22400 (23%)]\tLoss: 0.771012\n",
      "Mem before-during-after: 21712384 21852160 21712384\n"
     ]
    },
    {
     "name": "stderr",
     "output_type": "stream",
     "text": [
      " 22%|███████▋                           | 2.2068571428572468/10 [09:38<33:39, 259.12s/it]"
     ]
    },
    {
     "name": "stdout",
     "output_type": "stream",
     "text": [
      "Train Epoch: 3 [5760/22400 (26%)]\tLoss: 0.334652\n",
      "Mem before-during-after: 21712384 21852160 21712384\n"
     ]
    },
    {
     "name": "stderr",
     "output_type": "stream",
     "text": [
      " 22%|███████▊                           | 2.2297142857143846/10 [09:44<33:25, 258.09s/it]"
     ]
    },
    {
     "name": "stdout",
     "output_type": "stream",
     "text": [
      "Train Epoch: 3 [6400/22400 (29%)]\tLoss: 0.111212\n",
      "Mem before-during-after: 21712384 21852160 21712384\n"
     ]
    },
    {
     "name": "stderr",
     "output_type": "stream",
     "text": [
      " 23%|███████▉                           | 2.2525714285715224/10 [09:50<33:10, 256.88s/it]"
     ]
    },
    {
     "name": "stdout",
     "output_type": "stream",
     "text": [
      "Train Epoch: 3 [7040/22400 (31%)]\tLoss: 0.567602\n",
      "Mem before-during-after: 21712384 21852160 21712384\n"
     ]
    },
    {
     "name": "stderr",
     "output_type": "stream",
     "text": [
      " 23%|████████▍                            | 2.27542857142866/10 [09:56<33:25, 259.62s/it]"
     ]
    },
    {
     "name": "stdout",
     "output_type": "stream",
     "text": [
      "Train Epoch: 3 [7680/22400 (34%)]\tLoss: 0.452672\n",
      "Mem before-during-after: 21712384 21852160 21712384\n"
     ]
    },
    {
     "name": "stderr",
     "output_type": "stream",
     "text": [
      " 23%|████████▎                           | 2.298285714285798/10 [10:02<34:38, 269.92s/it]"
     ]
    },
    {
     "name": "stdout",
     "output_type": "stream",
     "text": [
      "Train Epoch: 3 [8320/22400 (37%)]\tLoss: 0.413019\n",
      "Mem before-during-after: 21712384 21852160 21712384\n"
     ]
    },
    {
     "name": "stderr",
     "output_type": "stream",
     "text": [
      " 23%|████████▎                           | 2.321142857142936/10 [10:08<33:19, 260.42s/it]"
     ]
    },
    {
     "name": "stdout",
     "output_type": "stream",
     "text": [
      "Train Epoch: 3 [8960/22400 (40%)]\tLoss: 0.574072\n",
      "Mem before-during-after: 21712384 21852160 21712384\n"
     ]
    },
    {
     "name": "stderr",
     "output_type": "stream",
     "text": [
      " 23%|████████▏                          | 2.3440000000000736/10 [10:14<31:47, 249.19s/it]"
     ]
    },
    {
     "name": "stdout",
     "output_type": "stream",
     "text": [
      "Train Epoch: 3 [9600/22400 (43%)]\tLoss: 0.600620\n",
      "Mem before-during-after: 21712384 21852160 21712384\n"
     ]
    },
    {
     "name": "stderr",
     "output_type": "stream",
     "text": [
      " 24%|████████▎                          | 2.3668571428572114/10 [10:20<32:59, 259.28s/it]"
     ]
    },
    {
     "name": "stdout",
     "output_type": "stream",
     "text": [
      "Train Epoch: 3 [10240/22400 (46%)]\tLoss: 0.335162\n",
      "Mem before-during-after: 21712384 21852160 21712384\n"
     ]
    },
    {
     "name": "stderr",
     "output_type": "stream",
     "text": [
      " 24%|████████▌                           | 2.389714285714349/10 [10:26<33:11, 261.63s/it]"
     ]
    },
    {
     "name": "stdout",
     "output_type": "stream",
     "text": [
      "Train Epoch: 3 [10880/22400 (49%)]\tLoss: 1.214410\n",
      "Mem before-during-after: 21712384 21852160 21712384\n"
     ]
    },
    {
     "name": "stderr",
     "output_type": "stream",
     "text": [
      " 24%|████████▋                           | 2.412571428571487/10 [10:32<32:22, 255.98s/it]"
     ]
    },
    {
     "name": "stdout",
     "output_type": "stream",
     "text": [
      "Train Epoch: 3 [11520/22400 (51%)]\tLoss: 0.665922\n",
      "Mem before-during-after: 21712384 21852160 21712384\n"
     ]
    },
    {
     "name": "stderr",
     "output_type": "stream",
     "text": [
      " 24%|████████▊                           | 2.435428571428625/10 [10:38<32:34, 258.32s/it]"
     ]
    },
    {
     "name": "stdout",
     "output_type": "stream",
     "text": [
      "Train Epoch: 3 [12160/22400 (54%)]\tLoss: 0.743516\n",
      "Mem before-during-after: 21712384 21852160 21712384\n"
     ]
    },
    {
     "name": "stderr",
     "output_type": "stream",
     "text": [
      " 25%|████████▌                          | 2.4582857142857626/10 [10:44<32:07, 255.60s/it]"
     ]
    },
    {
     "name": "stdout",
     "output_type": "stream",
     "text": [
      "Train Epoch: 3 [12800/22400 (57%)]\tLoss: 0.285461\n",
      "Mem before-during-after: 21712384 21852160 21712384\n"
     ]
    },
    {
     "name": "stderr",
     "output_type": "stream",
     "text": [
      " 25%|████████▋                          | 2.4811428571429004/10 [10:50<33:00, 263.37s/it]"
     ]
    },
    {
     "name": "stdout",
     "output_type": "stream",
     "text": [
      "Train Epoch: 3 [13440/22400 (60%)]\tLoss: 1.067546\n",
      "Mem before-during-after: 21712384 21852160 21712384\n"
     ]
    },
    {
     "name": "stderr",
     "output_type": "stream",
     "text": [
      " 25%|█████████                           | 2.504000000000038/10 [10:56<32:01, 256.37s/it]"
     ]
    },
    {
     "name": "stdout",
     "output_type": "stream",
     "text": [
      "Train Epoch: 3 [14080/22400 (63%)]\tLoss: 0.555849\n",
      "Mem before-during-after: 21712384 21852160 21712384\n"
     ]
    },
    {
     "name": "stderr",
     "output_type": "stream",
     "text": [
      " 25%|█████████                           | 2.526857142857176/10 [11:02<32:31, 261.20s/it]"
     ]
    },
    {
     "name": "stdout",
     "output_type": "stream",
     "text": [
      "Train Epoch: 3 [14720/22400 (66%)]\tLoss: 0.250183\n",
      "Mem before-during-after: 21712384 21852160 21712384\n"
     ]
    },
    {
     "name": "stderr",
     "output_type": "stream",
     "text": [
      " 25%|█████████▏                          | 2.549714285714314/10 [11:08<32:08, 258.89s/it]"
     ]
    },
    {
     "name": "stdout",
     "output_type": "stream",
     "text": [
      "Train Epoch: 3 [15360/22400 (69%)]\tLoss: 0.752921\n",
      "Mem before-during-after: 21712384 21852160 21712384\n"
     ]
    },
    {
     "name": "stderr",
     "output_type": "stream",
     "text": [
      " 26%|█████████                          | 2.5725714285714516/10 [11:14<31:25, 253.88s/it]"
     ]
    },
    {
     "name": "stdout",
     "output_type": "stream",
     "text": [
      "Train Epoch: 3 [16000/22400 (71%)]\tLoss: 0.828979\n",
      "Mem before-during-after: 21712384 21852160 21712384\n"
     ]
    },
    {
     "name": "stderr",
     "output_type": "stream",
     "text": [
      " 26%|█████████                          | 2.5954285714285894/10 [11:20<32:37, 264.43s/it]"
     ]
    },
    {
     "name": "stdout",
     "output_type": "stream",
     "text": [
      "Train Epoch: 3 [16640/22400 (74%)]\tLoss: 0.237670\n",
      "Mem before-during-after: 21712384 21852160 21712384\n"
     ]
    },
    {
     "name": "stderr",
     "output_type": "stream",
     "text": [
      " 26%|█████████▍                          | 2.618285714285727/10 [11:26<31:47, 258.47s/it]"
     ]
    },
    {
     "name": "stdout",
     "output_type": "stream",
     "text": [
      "Train Epoch: 3 [17280/22400 (77%)]\tLoss: 1.128381\n",
      "Mem before-during-after: 21712384 21852160 21712384\n"
     ]
    },
    {
     "name": "stderr",
     "output_type": "stream",
     "text": [
      " 26%|█████████▌                          | 2.641142857142865/10 [11:32<31:48, 259.33s/it]"
     ]
    },
    {
     "name": "stdout",
     "output_type": "stream",
     "text": [
      "Train Epoch: 3 [17920/22400 (80%)]\tLoss: 0.409403\n",
      "Mem before-during-after: 21712384 21852160 21712384\n"
     ]
    },
    {
     "name": "stderr",
     "output_type": "stream",
     "text": [
      " 27%|█████████▌                          | 2.664000000000003/10 [11:38<44:23, 363.07s/it]"
     ]
    },
    {
     "name": "stdout",
     "output_type": "stream",
     "text": [
      "Train Epoch: 3 [18560/22400 (83%)]\tLoss: 0.705819\n",
      "Mem before-during-after: 21712384 21852160 21712384\n"
     ]
    },
    {
     "name": "stderr",
     "output_type": "stream",
     "text": [
      " 27%|█████████▍                         | 2.6868571428571406/10 [11:44<31:29, 258.33s/it]"
     ]
    },
    {
     "name": "stdout",
     "output_type": "stream",
     "text": [
      "Train Epoch: 3 [19200/22400 (86%)]\tLoss: 0.270204\n",
      "Mem before-during-after: 21712384 21852160 21712384\n"
     ]
    },
    {
     "name": "stderr",
     "output_type": "stream",
     "text": [
      " 27%|█████████▍                         | 2.7097142857142784/10 [11:50<31:51, 262.26s/it]"
     ]
    },
    {
     "name": "stdout",
     "output_type": "stream",
     "text": [
      "Train Epoch: 3 [19840/22400 (89%)]\tLoss: 0.292597\n",
      "Mem before-during-after: 21712384 21852160 21712384\n"
     ]
    },
    {
     "name": "stderr",
     "output_type": "stream",
     "text": [
      " 27%|█████████▊                          | 2.732571428571416/10 [11:56<30:26, 251.31s/it]"
     ]
    },
    {
     "name": "stdout",
     "output_type": "stream",
     "text": [
      "Train Epoch: 3 [20480/22400 (91%)]\tLoss: 0.228648\n",
      "Mem before-during-after: 21712384 21852160 21712384\n"
     ]
    },
    {
     "name": "stderr",
     "output_type": "stream",
     "text": [
      " 28%|█████████▉                          | 2.755428571428554/10 [12:02<31:42, 262.59s/it]"
     ]
    },
    {
     "name": "stdout",
     "output_type": "stream",
     "text": [
      "Train Epoch: 3 [21120/22400 (94%)]\tLoss: 0.435743\n",
      "Mem before-during-after: 21712384 21852160 21712384\n"
     ]
    },
    {
     "name": "stderr",
     "output_type": "stream",
     "text": [
      " 28%|██████████                          | 2.778285714285692/10 [12:10<33:45, 280.44s/it]"
     ]
    },
    {
     "name": "stdout",
     "output_type": "stream",
     "text": [
      "Train Epoch: 3 [21760/22400 (97%)]\tLoss: 0.174033\n",
      "Mem before-during-after: 21712384 21852160 21712384\n"
     ]
    },
    {
     "name": "stderr",
     "output_type": "stream",
     "text": [
      " 30%|██████████▊                         | 3.000571428571357/10 [13:07<29:56, 256.61s/it]"
     ]
    },
    {
     "name": "stdout",
     "output_type": "stream",
     "text": [
      "\n",
      "Test Epoch: 3\tAccuracy: 4654/5600 (83%)\n",
      "\n",
      "Train Epoch: 4 [0/22400 (0%)]\tLoss: 0.220044\n",
      "Mem before-during-after: 21711360 21852160 21712384\n"
     ]
    },
    {
     "name": "stderr",
     "output_type": "stream",
     "text": [
      " 30%|██████████▉                         | 3.023999999999923/10 [13:14<30:26, 261.80s/it]"
     ]
    },
    {
     "name": "stdout",
     "output_type": "stream",
     "text": [
      "Train Epoch: 4 [640/22400 (3%)]\tLoss: 0.818610\n",
      "Mem before-during-after: 21712384 21852160 21712384\n"
     ]
    },
    {
     "name": "stderr",
     "output_type": "stream",
     "text": [
      " 30%|██████████▉                         | 3.046857142857061/10 [13:20<29:20, 253.17s/it]"
     ]
    },
    {
     "name": "stdout",
     "output_type": "stream",
     "text": [
      "Train Epoch: 4 [1280/22400 (6%)]\tLoss: 0.494422\n",
      "Mem before-during-after: 21712384 21852160 21712384\n"
     ]
    },
    {
     "name": "stderr",
     "output_type": "stream",
     "text": [
      " 31%|███████████                         | 3.069714285714199/10 [13:26<29:32, 255.79s/it]"
     ]
    },
    {
     "name": "stdout",
     "output_type": "stream",
     "text": [
      "Train Epoch: 4 [1920/22400 (9%)]\tLoss: 0.936262\n",
      "Mem before-during-after: 21712384 21852160 21712384\n"
     ]
    },
    {
     "name": "stderr",
     "output_type": "stream",
     "text": [
      " 31%|██████████▊                        | 3.0925714285713366/10 [13:31<29:10, 253.44s/it]"
     ]
    },
    {
     "name": "stdout",
     "output_type": "stream",
     "text": [
      "Train Epoch: 4 [2560/22400 (11%)]\tLoss: 0.211893\n",
      "Mem before-during-after: 21712384 21852160 21712384\n"
     ]
    },
    {
     "name": "stderr",
     "output_type": "stream",
     "text": [
      " 31%|██████████▉                        | 3.1154285714284744/10 [13:38<30:34, 266.44s/it]"
     ]
    },
    {
     "name": "stdout",
     "output_type": "stream",
     "text": [
      "Train Epoch: 4 [3200/22400 (14%)]\tLoss: 0.362754\n",
      "Mem before-during-after: 21712384 21852160 21712384\n"
     ]
    },
    {
     "name": "stderr",
     "output_type": "stream",
     "text": [
      " 31%|███████████▎                        | 3.138285714285612/10 [13:44<29:05, 254.31s/it]"
     ]
    },
    {
     "name": "stdout",
     "output_type": "stream",
     "text": [
      "Train Epoch: 4 [3840/22400 (17%)]\tLoss: 0.339995\n",
      "Mem before-during-after: 21712384 21852160 21712384\n"
     ]
    },
    {
     "name": "stderr",
     "output_type": "stream",
     "text": [
      " 32%|███████████▋                         | 3.16114285714275/10 [13:50<30:28, 267.32s/it]"
     ]
    },
    {
     "name": "stdout",
     "output_type": "stream",
     "text": [
      "Train Epoch: 4 [4480/22400 (20%)]\tLoss: 0.443506\n",
      "Mem before-during-after: 21712384 21852160 21712384\n"
     ]
    },
    {
     "name": "stderr",
     "output_type": "stream",
     "text": [
      " 32%|███████████▍                        | 3.183999999999888/10 [13:55<29:34, 260.37s/it]"
     ]
    },
    {
     "name": "stdout",
     "output_type": "stream",
     "text": [
      "Train Epoch: 4 [5120/22400 (23%)]\tLoss: 0.957115\n",
      "Mem before-during-after: 21712384 21852160 21712384\n"
     ]
    },
    {
     "name": "stderr",
     "output_type": "stream",
     "text": [
      " 32%|███████████▏                       | 3.2068571428570256/10 [14:01<29:30, 260.61s/it]"
     ]
    },
    {
     "name": "stdout",
     "output_type": "stream",
     "text": [
      "Train Epoch: 4 [5760/22400 (26%)]\tLoss: 0.324627\n",
      "Mem before-during-after: 21712384 21852160 21712384\n"
     ]
    },
    {
     "name": "stderr",
     "output_type": "stream",
     "text": [
      " 32%|███████████▎                       | 3.2297142857141634/10 [14:07<29:17, 259.60s/it]"
     ]
    },
    {
     "name": "stdout",
     "output_type": "stream",
     "text": [
      "Train Epoch: 4 [6400/22400 (29%)]\tLoss: 0.646146\n",
      "Mem before-during-after: 21712384 21852160 21712384\n"
     ]
    },
    {
     "name": "stderr",
     "output_type": "stream",
     "text": [
      " 33%|███████████▋                        | 3.252571428571301/10 [14:13<30:47, 273.77s/it]"
     ]
    },
    {
     "name": "stdout",
     "output_type": "stream",
     "text": [
      "Train Epoch: 4 [7040/22400 (31%)]\tLoss: 0.729838\n",
      "Mem before-during-after: 21712384 21852160 21712384\n"
     ]
    },
    {
     "name": "stderr",
     "output_type": "stream",
     "text": [
      " 33%|███████████▊                        | 3.275428571428439/10 [14:19<28:26, 253.76s/it]"
     ]
    },
    {
     "name": "stdout",
     "output_type": "stream",
     "text": [
      "Train Epoch: 4 [7680/22400 (34%)]\tLoss: 0.301547\n",
      "Mem before-during-after: 21712384 21852160 21712384\n"
     ]
    },
    {
     "name": "stderr",
     "output_type": "stream",
     "text": [
      " 33%|███████████▊                        | 3.298285714285577/10 [14:25<27:59, 250.56s/it]"
     ]
    },
    {
     "name": "stdout",
     "output_type": "stream",
     "text": [
      "Train Epoch: 4 [8320/22400 (37%)]\tLoss: 0.431664\n",
      "Mem before-during-after: 21712384 21852160 21712384\n"
     ]
    },
    {
     "name": "stderr",
     "output_type": "stream",
     "text": [
      " 33%|███████████▌                       | 3.3211428571427146/10 [14:31<28:26, 255.56s/it]"
     ]
    },
    {
     "name": "stdout",
     "output_type": "stream",
     "text": [
      "Train Epoch: 4 [8960/22400 (40%)]\tLoss: 0.257060\n",
      "Mem before-during-after: 21712384 21852160 21712384\n"
     ]
    },
    {
     "name": "stderr",
     "output_type": "stream",
     "text": [
      " 33%|███████████▋                       | 3.3439999999998524/10 [14:37<28:01, 252.70s/it]"
     ]
    },
    {
     "name": "stdout",
     "output_type": "stream",
     "text": [
      "Train Epoch: 4 [9600/22400 (43%)]\tLoss: 0.648163\n",
      "Mem before-during-after: 21712384 21852160 21712384\n"
     ]
    },
    {
     "name": "stderr",
     "output_type": "stream",
     "text": [
      " 34%|███████████▊                       | 3.3668571428569902/10 [14:43<28:56, 261.74s/it]"
     ]
    },
    {
     "name": "stdout",
     "output_type": "stream",
     "text": [
      "Train Epoch: 4 [10240/22400 (46%)]\tLoss: 0.127837\n",
      "Mem before-during-after: 21712384 21852160 21712384\n"
     ]
    },
    {
     "name": "stderr",
     "output_type": "stream",
     "text": [
      " 34%|████████████▏                       | 3.389714285714128/10 [14:49<28:46, 261.12s/it]"
     ]
    },
    {
     "name": "stdout",
     "output_type": "stream",
     "text": [
      "Train Epoch: 4 [10880/22400 (49%)]\tLoss: 0.378269\n",
      "Mem before-during-after: 21712384 21852160 21712384\n"
     ]
    },
    {
     "name": "stderr",
     "output_type": "stream",
     "text": [
      " 34%|████████████▎                       | 3.412571428571266/10 [14:56<28:22, 258.39s/it]"
     ]
    },
    {
     "name": "stdout",
     "output_type": "stream",
     "text": [
      "Train Epoch: 4 [11520/22400 (51%)]\tLoss: 0.075542\n",
      "Mem before-during-after: 21712384 21852160 21712384\n"
     ]
    },
    {
     "name": "stderr",
     "output_type": "stream",
     "text": [
      " 34%|████████████                       | 3.4354285714284036/10 [15:02<27:54, 255.11s/it]"
     ]
    },
    {
     "name": "stdout",
     "output_type": "stream",
     "text": [
      "Train Epoch: 4 [12160/22400 (54%)]\tLoss: 0.221596\n",
      "Mem before-during-after: 21712384 21852160 21712384\n"
     ]
    },
    {
     "name": "stderr",
     "output_type": "stream",
     "text": [
      " 35%|████████████                       | 3.4582857142855414/10 [15:07<28:49, 264.36s/it]"
     ]
    },
    {
     "name": "stdout",
     "output_type": "stream",
     "text": [
      "Train Epoch: 4 [12800/22400 (57%)]\tLoss: 0.514726\n",
      "Mem before-during-after: 21712384 21852160 21712384\n"
     ]
    },
    {
     "name": "stderr",
     "output_type": "stream",
     "text": [
      " 35%|████████████▌                       | 3.480571428571251/10 [15:13<28:23, 261.30s/it]"
     ]
    },
    {
     "name": "stdout",
     "output_type": "stream",
     "text": [
      "Train Epoch: 4 [13440/22400 (60%)]\tLoss: 0.272392\n",
      "Mem before-during-after: 21712384 21852160 21712384\n"
     ]
    },
    {
     "name": "stderr",
     "output_type": "stream",
     "text": [
      " 35%|████████████▌                       | 3.503999999999817/10 [15:19<27:52, 257.43s/it]"
     ]
    },
    {
     "name": "stdout",
     "output_type": "stream",
     "text": [
      "Train Epoch: 4 [14080/22400 (63%)]\tLoss: 0.646914\n",
      "Mem before-during-after: 21712384 21852160 21712384\n"
     ]
    },
    {
     "name": "stderr",
     "output_type": "stream",
     "text": [
      " 35%|████████████▋                       | 3.526857142856955/10 [15:25<29:31, 273.65s/it]"
     ]
    },
    {
     "name": "stdout",
     "output_type": "stream",
     "text": [
      "Train Epoch: 4 [14720/22400 (66%)]\tLoss: 0.677706\n",
      "Mem before-during-after: 21712384 21852160 21712384\n"
     ]
    },
    {
     "name": "stderr",
     "output_type": "stream",
     "text": [
      " 35%|████████████▍                      | 3.5497142857140926/10 [15:31<27:52, 259.27s/it]"
     ]
    },
    {
     "name": "stdout",
     "output_type": "stream",
     "text": [
      "Train Epoch: 4 [15360/22400 (69%)]\tLoss: 0.182098\n",
      "Mem before-during-after: 21712384 21852160 21712384\n"
     ]
    },
    {
     "name": "stderr",
     "output_type": "stream",
     "text": [
      " 36%|████████████▌                      | 3.5725714285712304/10 [15:37<27:16, 254.59s/it]"
     ]
    },
    {
     "name": "stdout",
     "output_type": "stream",
     "text": [
      "Train Epoch: 4 [16000/22400 (71%)]\tLoss: 0.129587\n",
      "Mem before-during-after: 21712384 21852160 21712384\n"
     ]
    },
    {
     "name": "stderr",
     "output_type": "stream",
     "text": [
      " 36%|████████████▌                      | 3.5954285714283682/10 [15:43<29:06, 272.68s/it]"
     ]
    },
    {
     "name": "stdout",
     "output_type": "stream",
     "text": [
      "Train Epoch: 4 [16640/22400 (74%)]\tLoss: 0.177675\n",
      "Mem before-during-after: 21712384 21852160 21712384\n"
     ]
    },
    {
     "name": "stderr",
     "output_type": "stream",
     "text": [
      " 36%|█████████████                       | 3.618285714285506/10 [15:49<27:33, 259.11s/it]"
     ]
    },
    {
     "name": "stdout",
     "output_type": "stream",
     "text": [
      "Train Epoch: 4 [17280/22400 (77%)]\tLoss: 0.212961\n",
      "Mem before-during-after: 21712384 21852160 21712384\n"
     ]
    },
    {
     "name": "stderr",
     "output_type": "stream",
     "text": [
      " 36%|█████████████                       | 3.641142857142644/10 [15:55<27:20, 258.01s/it]"
     ]
    },
    {
     "name": "stdout",
     "output_type": "stream",
     "text": [
      "Train Epoch: 4 [17920/22400 (80%)]\tLoss: 0.356436\n",
      "Mem before-during-after: 21712384 21852160 21712384\n"
     ]
    },
    {
     "name": "stderr",
     "output_type": "stream",
     "text": [
      " 37%|████████████▊                      | 3.6639999999997817/10 [16:01<26:57, 255.35s/it]"
     ]
    },
    {
     "name": "stdout",
     "output_type": "stream",
     "text": [
      "Train Epoch: 4 [18560/22400 (83%)]\tLoss: 0.303120\n",
      "Mem before-during-after: 21712384 21852160 21712384\n"
     ]
    },
    {
     "name": "stderr",
     "output_type": "stream",
     "text": [
      " 37%|████████████▉                      | 3.6868571428569195/10 [16:07<26:57, 256.28s/it]"
     ]
    },
    {
     "name": "stdout",
     "output_type": "stream",
     "text": [
      "Train Epoch: 4 [19200/22400 (86%)]\tLoss: 0.366414\n",
      "Mem before-during-after: 21712384 21852160 21712384\n"
     ]
    },
    {
     "name": "stderr",
     "output_type": "stream",
     "text": [
      " 37%|████████████▉                      | 3.7097142857140573/10 [16:13<27:08, 258.94s/it]"
     ]
    },
    {
     "name": "stdout",
     "output_type": "stream",
     "text": [
      "Train Epoch: 4 [19840/22400 (89%)]\tLoss: 0.201941\n",
      "Mem before-during-after: 21712384 21852160 21712384\n"
     ]
    },
    {
     "name": "stderr",
     "output_type": "stream",
     "text": [
      " 37%|█████████████▍                      | 3.732571428571195/10 [16:19<27:19, 261.66s/it]"
     ]
    },
    {
     "name": "stdout",
     "output_type": "stream",
     "text": [
      "Train Epoch: 4 [20480/22400 (91%)]\tLoss: 0.468938\n",
      "Mem before-during-after: 21712384 21852160 21712384\n"
     ]
    },
    {
     "name": "stderr",
     "output_type": "stream",
     "text": [
      " 38%|█████████████▌                      | 3.755428571428333/10 [16:25<27:17, 262.27s/it]"
     ]
    },
    {
     "name": "stdout",
     "output_type": "stream",
     "text": [
      "Train Epoch: 4 [21120/22400 (94%)]\tLoss: 0.377254\n",
      "Mem before-during-after: 21712384 21852160 21712384\n"
     ]
    },
    {
     "name": "stderr",
     "output_type": "stream",
     "text": [
      " 38%|█████████████▏                     | 3.7782857142854707/10 [16:31<29:41, 286.26s/it]"
     ]
    },
    {
     "name": "stdout",
     "output_type": "stream",
     "text": [
      "Train Epoch: 4 [21760/22400 (97%)]\tLoss: 0.257008\n",
      "Mem before-during-after: 21712384 21852160 21712384\n"
     ]
    },
    {
     "name": "stderr",
     "output_type": "stream",
     "text": [
      " 40%|██████████████▍                     | 4.000571428571136/10 [17:28<25:38, 256.48s/it]"
     ]
    },
    {
     "name": "stdout",
     "output_type": "stream",
     "text": [
      "\n",
      "Test Epoch: 4\tAccuracy: 4602/5600 (82%)\n",
      "\n",
      "Train Epoch: 5 [0/22400 (0%)]\tLoss: 0.226747\n",
      "Mem before-during-after: 21711360 21852160 21712384\n"
     ]
    },
    {
     "name": "stderr",
     "output_type": "stream",
     "text": [
      " 40%|██████████████▉                      | 4.02399999999972/10 [17:35<25:55, 260.22s/it]"
     ]
    },
    {
     "name": "stdout",
     "output_type": "stream",
     "text": [
      "Train Epoch: 5 [640/22400 (3%)]\tLoss: 0.172027\n",
      "Mem before-during-after: 21712384 21852160 21712384\n"
     ]
    },
    {
     "name": "stderr",
     "output_type": "stream",
     "text": [
      " 40%|██████████████▌                     | 4.046857142856876/10 [17:41<26:07, 263.27s/it]"
     ]
    },
    {
     "name": "stdout",
     "output_type": "stream",
     "text": [
      "Train Epoch: 5 [1280/22400 (6%)]\tLoss: 0.929629\n",
      "Mem before-during-after: 21712384 21852160 21712384\n"
     ]
    },
    {
     "name": "stderr",
     "output_type": "stream",
     "text": [
      " 41%|██████████████▋                     | 4.069714285714031/10 [17:47<25:31, 258.33s/it]"
     ]
    },
    {
     "name": "stdout",
     "output_type": "stream",
     "text": [
      "Train Epoch: 5 [1920/22400 (9%)]\tLoss: 0.484055\n",
      "Mem before-during-after: 21712384 21852160 21712384\n"
     ]
    },
    {
     "name": "stderr",
     "output_type": "stream",
     "text": [
      " 41%|██████████████▋                     | 4.092571428571187/10 [17:53<25:50, 262.39s/it]"
     ]
    },
    {
     "name": "stdout",
     "output_type": "stream",
     "text": [
      "Train Epoch: 5 [2560/22400 (11%)]\tLoss: 0.442808\n",
      "Mem before-during-after: 21712384 21852160 21712384\n"
     ]
    },
    {
     "name": "stderr",
     "output_type": "stream",
     "text": [
      " 41%|██████████████▍                    | 4.1154285714283425/10 [17:59<25:16, 257.67s/it]"
     ]
    },
    {
     "name": "stdout",
     "output_type": "stream",
     "text": [
      "Train Epoch: 5 [3200/22400 (14%)]\tLoss: 0.254171\n",
      "Mem before-during-after: 21712384 21852160 21712384\n"
     ]
    },
    {
     "name": "stderr",
     "output_type": "stream",
     "text": [
      " 41%|██████████████▉                     | 4.138285714285498/10 [18:05<25:19, 259.29s/it]"
     ]
    },
    {
     "name": "stdout",
     "output_type": "stream",
     "text": [
      "Train Epoch: 5 [3840/22400 (17%)]\tLoss: 0.397709\n",
      "Mem before-during-after: 21712384 21852160 21712384\n"
     ]
    },
    {
     "name": "stderr",
     "output_type": "stream",
     "text": [
      " 42%|██████████████▉                     | 4.161142857142654/10 [18:11<25:04, 257.67s/it]"
     ]
    },
    {
     "name": "stdout",
     "output_type": "stream",
     "text": [
      "Train Epoch: 5 [4480/22400 (20%)]\tLoss: 0.299665\n",
      "Mem before-during-after: 21712384 21852160 21712384\n"
     ]
    },
    {
     "name": "stderr",
     "output_type": "stream",
     "text": [
      " 42%|███████████████                     | 4.183999999999809/10 [18:17<25:00, 258.08s/it]"
     ]
    },
    {
     "name": "stdout",
     "output_type": "stream",
     "text": [
      "Train Epoch: 5 [5120/22400 (23%)]\tLoss: 0.832559\n",
      "Mem before-during-after: 21712384 21852160 21712384\n"
     ]
    },
    {
     "name": "stderr",
     "output_type": "stream",
     "text": [
      " 42%|███████████████▏                    | 4.206857142856965/10 [18:23<24:20, 252.14s/it]"
     ]
    },
    {
     "name": "stdout",
     "output_type": "stream",
     "text": [
      "Train Epoch: 5 [5760/22400 (26%)]\tLoss: 1.211882\n",
      "Mem before-during-after: 21712384 21852160 21712384\n"
     ]
    },
    {
     "name": "stderr",
     "output_type": "stream",
     "text": [
      " 42%|███████████████▋                     | 4.22971428571412/10 [18:29<26:20, 273.87s/it]"
     ]
    },
    {
     "name": "stdout",
     "output_type": "stream",
     "text": [
      "Train Epoch: 5 [6400/22400 (29%)]\tLoss: 1.029343\n",
      "Mem before-during-after: 21712384 21852160 21712384\n"
     ]
    },
    {
     "name": "stderr",
     "output_type": "stream",
     "text": [
      " 43%|███████████████▎                    | 4.252571428571276/10 [18:35<24:41, 257.69s/it]"
     ]
    },
    {
     "name": "stdout",
     "output_type": "stream",
     "text": [
      "Train Epoch: 5 [7040/22400 (31%)]\tLoss: 0.542097\n",
      "Mem before-during-after: 21712384 21852160 21712384\n"
     ]
    },
    {
     "name": "stderr",
     "output_type": "stream",
     "text": [
      " 43%|██████████████▉                    | 4.2754285714284315/10 [18:41<24:36, 257.96s/it]"
     ]
    },
    {
     "name": "stdout",
     "output_type": "stream",
     "text": [
      "Train Epoch: 5 [7680/22400 (34%)]\tLoss: 0.569064\n",
      "Mem before-during-after: 21712384 21852160 21712384\n"
     ]
    },
    {
     "name": "stderr",
     "output_type": "stream",
     "text": [
      " 43%|███████████████▍                    | 4.298285714285587/10 [18:47<24:39, 259.54s/it]"
     ]
    },
    {
     "name": "stdout",
     "output_type": "stream",
     "text": [
      "Train Epoch: 5 [8320/22400 (37%)]\tLoss: 0.194889\n",
      "Mem before-during-after: 21712384 21852160 21712384\n"
     ]
    },
    {
     "name": "stderr",
     "output_type": "stream",
     "text": [
      " 43%|███████████████▌                    | 4.321142857142743/10 [18:53<24:26, 258.29s/it]"
     ]
    },
    {
     "name": "stdout",
     "output_type": "stream",
     "text": [
      "Train Epoch: 5 [8960/22400 (40%)]\tLoss: 0.392280\n",
      "Mem before-during-after: 21712384 21852160 21712384\n"
     ]
    },
    {
     "name": "stderr",
     "output_type": "stream",
     "text": [
      " 43%|███████████████▋                    | 4.343999999999898/10 [18:59<23:49, 252.69s/it]"
     ]
    },
    {
     "name": "stdout",
     "output_type": "stream",
     "text": [
      "Train Epoch: 5 [9600/22400 (43%)]\tLoss: 0.487819\n",
      "Mem before-during-after: 21712384 21852160 21712384\n"
     ]
    },
    {
     "name": "stderr",
     "output_type": "stream",
     "text": [
      " 44%|███████████████▋                    | 4.366857142857054/10 [19:05<23:36, 251.47s/it]"
     ]
    },
    {
     "name": "stdout",
     "output_type": "stream",
     "text": [
      "Train Epoch: 5 [10240/22400 (46%)]\tLoss: 0.114991\n",
      "Mem before-during-after: 21712384 21852160 21712384\n"
     ]
    },
    {
     "name": "stderr",
     "output_type": "stream",
     "text": [
      " 44%|███████████████▊                    | 4.389714285714209/10 [19:11<25:12, 269.53s/it]"
     ]
    },
    {
     "name": "stdout",
     "output_type": "stream",
     "text": [
      "Train Epoch: 5 [10880/22400 (49%)]\tLoss: 0.072117\n",
      "Mem before-during-after: 21712384 21852160 21712384\n"
     ]
    },
    {
     "name": "stderr",
     "output_type": "stream",
     "text": [
      " 44%|███████████████▉                    | 4.412571428571365/10 [19:17<24:20, 261.38s/it]"
     ]
    },
    {
     "name": "stdout",
     "output_type": "stream",
     "text": [
      "Train Epoch: 5 [11520/22400 (51%)]\tLoss: 0.406845\n",
      "Mem before-during-after: 21712384 21852160 21712384\n"
     ]
    },
    {
     "name": "stderr",
     "output_type": "stream",
     "text": [
      " 44%|████████████████▍                    | 4.43542857142852/10 [19:23<23:18, 251.28s/it]"
     ]
    },
    {
     "name": "stdout",
     "output_type": "stream",
     "text": [
      "Train Epoch: 5 [12160/22400 (54%)]\tLoss: 0.227111\n",
      "Mem before-during-after: 21712384 21852160 21712384\n"
     ]
    },
    {
     "name": "stderr",
     "output_type": "stream",
     "text": [
      " 45%|████████████████                    | 4.458285714285676/10 [19:29<23:32, 254.93s/it]"
     ]
    },
    {
     "name": "stdout",
     "output_type": "stream",
     "text": [
      "Train Epoch: 5 [12800/22400 (57%)]\tLoss: 0.201267\n",
      "Mem before-during-after: 21712384 21852160 21712384\n"
     ]
    },
    {
     "name": "stderr",
     "output_type": "stream",
     "text": [
      " 45%|████████████████▏                   | 4.481142857142832/10 [19:35<23:21, 253.99s/it]"
     ]
    },
    {
     "name": "stdout",
     "output_type": "stream",
     "text": [
      "Train Epoch: 5 [13440/22400 (60%)]\tLoss: 0.989415\n",
      "Mem before-during-after: 21712384 21852160 21712384\n"
     ]
    },
    {
     "name": "stderr",
     "output_type": "stream",
     "text": [
      " 45%|████████████████▏                   | 4.503999999999987/10 [19:41<23:46, 259.57s/it]"
     ]
    },
    {
     "name": "stdout",
     "output_type": "stream",
     "text": [
      "Train Epoch: 5 [14080/22400 (63%)]\tLoss: 0.324877\n",
      "Mem before-during-after: 21712384 21852160 21712384\n"
     ]
    },
    {
     "name": "stderr",
     "output_type": "stream",
     "text": [
      " 45%|████████████████▎                   | 4.526857142857143/10 [19:47<23:33, 258.19s/it]"
     ]
    },
    {
     "name": "stdout",
     "output_type": "stream",
     "text": [
      "Train Epoch: 5 [14720/22400 (66%)]\tLoss: 0.341480\n",
      "Mem before-during-after: 21712384 21852160 21712384\n"
     ]
    },
    {
     "name": "stderr",
     "output_type": "stream",
     "text": [
      " 45%|████████████████▍                   | 4.549714285714298/10 [19:53<23:15, 256.04s/it]"
     ]
    },
    {
     "name": "stdout",
     "output_type": "stream",
     "text": [
      "Train Epoch: 5 [15360/22400 (69%)]\tLoss: 0.240331\n",
      "Mem before-during-after: 21712384 21852160 21712384\n"
     ]
    },
    {
     "name": "stderr",
     "output_type": "stream",
     "text": [
      " 46%|████████████████▍                   | 4.572571428571454/10 [19:59<23:04, 255.13s/it]"
     ]
    },
    {
     "name": "stdout",
     "output_type": "stream",
     "text": [
      "Train Epoch: 5 [16000/22400 (71%)]\tLoss: 0.417334\n",
      "Mem before-during-after: 21712384 21852160 21712384\n"
     ]
    },
    {
     "name": "stderr",
     "output_type": "stream",
     "text": [
      " 46%|████████████████▌                   | 4.595428571428609/10 [20:05<23:29, 260.74s/it]"
     ]
    },
    {
     "name": "stdout",
     "output_type": "stream",
     "text": [
      "Train Epoch: 5 [16640/22400 (74%)]\tLoss: 0.434416\n",
      "Mem before-during-after: 21712384 21852160 21712384\n"
     ]
    },
    {
     "name": "stderr",
     "output_type": "stream",
     "text": [
      " 46%|████████████████▋                   | 4.618285714285765/10 [20:11<22:17, 248.47s/it]"
     ]
    },
    {
     "name": "stdout",
     "output_type": "stream",
     "text": [
      "Train Epoch: 5 [17280/22400 (77%)]\tLoss: 0.030877\n",
      "Mem before-during-after: 21712384 21852160 21712384\n"
     ]
    },
    {
     "name": "stderr",
     "output_type": "stream",
     "text": [
      " 46%|████████████████▏                  | 4.6411428571429205/10 [20:17<22:40, 253.79s/it]"
     ]
    },
    {
     "name": "stdout",
     "output_type": "stream",
     "text": [
      "Train Epoch: 5 [17920/22400 (80%)]\tLoss: 0.389658\n",
      "Mem before-during-after: 21712384 21852160 21712384\n"
     ]
    },
    {
     "name": "stderr",
     "output_type": "stream",
     "text": [
      " 47%|████████████████▊                   | 4.664000000000076/10 [20:23<23:35, 265.33s/it]"
     ]
    },
    {
     "name": "stdout",
     "output_type": "stream",
     "text": [
      "Train Epoch: 5 [18560/22400 (83%)]\tLoss: 0.998652\n",
      "Mem before-during-after: 21712384 21852160 21712384\n"
     ]
    },
    {
     "name": "stderr",
     "output_type": "stream",
     "text": [
      " 47%|████████████████▊                   | 4.686857142857232/10 [20:29<22:43, 256.71s/it]"
     ]
    },
    {
     "name": "stdout",
     "output_type": "stream",
     "text": [
      "Train Epoch: 5 [19200/22400 (86%)]\tLoss: 0.198180\n",
      "Mem before-during-after: 21712384 21852160 21712384\n"
     ]
    },
    {
     "name": "stderr",
     "output_type": "stream",
     "text": [
      " 47%|████████████████▉                   | 4.709714285714387/10 [20:35<23:16, 263.92s/it]"
     ]
    },
    {
     "name": "stdout",
     "output_type": "stream",
     "text": [
      "Train Epoch: 5 [19840/22400 (89%)]\tLoss: 0.975494\n",
      "Mem before-during-after: 21712384 21852160 21712384\n"
     ]
    },
    {
     "name": "stderr",
     "output_type": "stream",
     "text": [
      " 47%|█████████████████                   | 4.732571428571543/10 [20:41<22:39, 258.02s/it]"
     ]
    },
    {
     "name": "stdout",
     "output_type": "stream",
     "text": [
      "Train Epoch: 5 [20480/22400 (91%)]\tLoss: 0.223374\n",
      "Mem before-during-after: 21712384 21852160 21712384\n"
     ]
    },
    {
     "name": "stderr",
     "output_type": "stream",
     "text": [
      " 48%|█████████████████                   | 4.755428571428698/10 [20:47<22:08, 253.27s/it]"
     ]
    },
    {
     "name": "stdout",
     "output_type": "stream",
     "text": [
      "Train Epoch: 5 [21120/22400 (94%)]\tLoss: 0.199638\n",
      "Mem before-during-after: 21712384 21852160 21712384\n"
     ]
    },
    {
     "name": "stderr",
     "output_type": "stream",
     "text": [
      " 48%|█████████████████▏                  | 4.778285714285854/10 [20:53<21:57, 252.27s/it]"
     ]
    },
    {
     "name": "stdout",
     "output_type": "stream",
     "text": [
      "Train Epoch: 5 [21760/22400 (97%)]\tLoss: 0.522746\n",
      "Mem before-during-after: 21712384 21852160 21712384\n"
     ]
    },
    {
     "name": "stderr",
     "output_type": "stream",
     "text": [
      " 50%|██████████████████                  | 5.000571428571692/10 [21:50<21:15, 255.07s/it]"
     ]
    },
    {
     "name": "stdout",
     "output_type": "stream",
     "text": [
      "\n",
      "Test Epoch: 5\tAccuracy: 4836/5600 (86%)\n",
      "\n",
      "Train Epoch: 6 [0/22400 (0%)]\tLoss: 0.383474\n",
      "Mem before-during-after: 21711360 21852160 21712384\n"
     ]
    },
    {
     "name": "stderr",
     "output_type": "stream",
     "text": [
      " 50%|██████████████████                  | 5.024000000000276/10 [21:56<20:42, 249.80s/it]"
     ]
    },
    {
     "name": "stdout",
     "output_type": "stream",
     "text": [
      "Train Epoch: 6 [640/22400 (3%)]\tLoss: 0.231533\n",
      "Mem before-during-after: 21712384 21852160 21712384\n"
     ]
    },
    {
     "name": "stderr",
     "output_type": "stream",
     "text": [
      " 50%|██████████████████▏                 | 5.046857142857432/10 [22:02<22:58, 278.23s/it]"
     ]
    },
    {
     "name": "stdout",
     "output_type": "stream",
     "text": [
      "Train Epoch: 6 [1280/22400 (6%)]\tLoss: 0.531398\n",
      "Mem before-during-after: 21712384 21852160 21712384\n"
     ]
    },
    {
     "name": "stderr",
     "output_type": "stream",
     "text": [
      " 51%|██████████████████▎                 | 5.069714285714587/10 [22:08<21:11, 257.80s/it]"
     ]
    },
    {
     "name": "stdout",
     "output_type": "stream",
     "text": [
      "Train Epoch: 6 [1920/22400 (9%)]\tLoss: 0.029628\n",
      "Mem before-during-after: 21712384 21852160 21712384\n"
     ]
    },
    {
     "name": "stderr",
     "output_type": "stream",
     "text": [
      " 51%|██████████████████▎                 | 5.092571428571743/10 [22:14<21:10, 258.93s/it]"
     ]
    },
    {
     "name": "stdout",
     "output_type": "stream",
     "text": [
      "Train Epoch: 6 [2560/22400 (11%)]\tLoss: 0.558540\n",
      "Mem before-during-after: 21712384 21852160 21712384\n"
     ]
    },
    {
     "name": "stderr",
     "output_type": "stream",
     "text": [
      " 51%|█████████████████▉                 | 5.1154285714288985/10 [22:20<20:47, 255.45s/it]"
     ]
    },
    {
     "name": "stdout",
     "output_type": "stream",
     "text": [
      "Train Epoch: 6 [3200/22400 (14%)]\tLoss: 0.309864\n",
      "Mem before-during-after: 21712384 21852160 21712384\n"
     ]
    },
    {
     "name": "stderr",
     "output_type": "stream",
     "text": [
      " 51%|██████████████████▍                 | 5.138285714286054/10 [22:26<20:47, 256.51s/it]"
     ]
    },
    {
     "name": "stdout",
     "output_type": "stream",
     "text": [
      "Train Epoch: 6 [3840/22400 (17%)]\tLoss: 0.344625\n",
      "Mem before-during-after: 21712384 21852160 21712384\n"
     ]
    },
    {
     "name": "stderr",
     "output_type": "stream",
     "text": [
      " 52%|███████████████████                  | 5.16114285714321/10 [22:32<20:33, 254.99s/it]"
     ]
    },
    {
     "name": "stdout",
     "output_type": "stream",
     "text": [
      "Train Epoch: 6 [4480/22400 (20%)]\tLoss: 0.239439\n",
      "Mem before-during-after: 21712384 21852160 21712384\n"
     ]
    },
    {
     "name": "stderr",
     "output_type": "stream",
     "text": [
      " 52%|██████████████████▋                 | 5.184000000000365/10 [22:38<21:12, 264.31s/it]"
     ]
    },
    {
     "name": "stdout",
     "output_type": "stream",
     "text": [
      "Train Epoch: 6 [5120/22400 (23%)]\tLoss: 0.221181\n",
      "Mem before-during-after: 21712384 21852160 21712384\n"
     ]
    },
    {
     "name": "stderr",
     "output_type": "stream",
     "text": [
      " 52%|██████████████████▋                 | 5.206857142857521/10 [22:45<20:04, 251.34s/it]"
     ]
    },
    {
     "name": "stdout",
     "output_type": "stream",
     "text": [
      "Train Epoch: 6 [5760/22400 (26%)]\tLoss: 0.208827\n",
      "Mem before-during-after: 21712384 21852160 21712384\n"
     ]
    },
    {
     "name": "stderr",
     "output_type": "stream",
     "text": [
      " 52%|██████████████████▊                 | 5.229714285714676/10 [22:50<20:29, 257.70s/it]"
     ]
    },
    {
     "name": "stdout",
     "output_type": "stream",
     "text": [
      "Train Epoch: 6 [6400/22400 (29%)]\tLoss: 0.400217\n",
      "Mem before-during-after: 21712384 21852160 21712384\n"
     ]
    },
    {
     "name": "stderr",
     "output_type": "stream",
     "text": [
      " 53%|██████████████████▉                 | 5.252571428571832/10 [22:56<20:47, 262.74s/it]"
     ]
    },
    {
     "name": "stdout",
     "output_type": "stream",
     "text": [
      "Train Epoch: 6 [7040/22400 (31%)]\tLoss: 1.144068\n",
      "Mem before-during-after: 21712384 21852160 21712384\n"
     ]
    },
    {
     "name": "stderr",
     "output_type": "stream",
     "text": [
      " 53%|██████████████████▍                | 5.2754285714289875/10 [23:03<20:55, 265.66s/it]"
     ]
    },
    {
     "name": "stdout",
     "output_type": "stream",
     "text": [
      "Train Epoch: 6 [7680/22400 (34%)]\tLoss: 0.253263\n",
      "Mem before-during-after: 21712384 21852160 21712384\n"
     ]
    },
    {
     "name": "stderr",
     "output_type": "stream",
     "text": [
      " 53%|███████████████████                 | 5.298285714286143/10 [23:08<20:19, 259.38s/it]"
     ]
    },
    {
     "name": "stdout",
     "output_type": "stream",
     "text": [
      "Train Epoch: 6 [8320/22400 (37%)]\tLoss: 0.265541\n",
      "Mem before-during-after: 21712384 21852160 21712384\n"
     ]
    },
    {
     "name": "stderr",
     "output_type": "stream",
     "text": [
      " 53%|███████████████████▏                | 5.321142857143299/10 [23:14<20:16, 260.08s/it]"
     ]
    },
    {
     "name": "stdout",
     "output_type": "stream",
     "text": [
      "Train Epoch: 6 [8960/22400 (40%)]\tLoss: 0.237721\n",
      "Mem before-during-after: 21712384 21852160 21712384\n"
     ]
    },
    {
     "name": "stderr",
     "output_type": "stream",
     "text": [
      " 53%|███████████████████▏                | 5.344000000000454/10 [23:21<21:04, 271.51s/it]"
     ]
    },
    {
     "name": "stdout",
     "output_type": "stream",
     "text": [
      "Train Epoch: 6 [9600/22400 (43%)]\tLoss: 0.163171\n",
      "Mem before-during-after: 21712384 21852160 21712384\n"
     ]
    },
    {
     "name": "stderr",
     "output_type": "stream",
     "text": [
      " 54%|███████████████████▊                 | 5.36685714285761/10 [23:27<20:54, 270.81s/it]"
     ]
    },
    {
     "name": "stdout",
     "output_type": "stream",
     "text": [
      "Train Epoch: 6 [10240/22400 (46%)]\tLoss: 0.556976\n",
      "Mem before-during-after: 21712384 21852160 21712384\n"
     ]
    },
    {
     "name": "stderr",
     "output_type": "stream",
     "text": [
      " 54%|███████████████████▍                | 5.389714285714765/10 [23:33<20:05, 261.38s/it]"
     ]
    },
    {
     "name": "stdout",
     "output_type": "stream",
     "text": [
      "Train Epoch: 6 [10880/22400 (49%)]\tLoss: 0.754762\n",
      "Mem before-during-after: 21712384 21852160 21712384\n"
     ]
    },
    {
     "name": "stderr",
     "output_type": "stream",
     "text": [
      " 54%|███████████████████▍                | 5.412571428571921/10 [23:39<23:42, 310.06s/it]"
     ]
    },
    {
     "name": "stdout",
     "output_type": "stream",
     "text": [
      "Train Epoch: 6 [11520/22400 (51%)]\tLoss: 0.922142\n",
      "Mem before-during-after: 21712384 21852160 21712384\n"
     ]
    },
    {
     "name": "stderr",
     "output_type": "stream",
     "text": [
      " 54%|███████████████████▌                | 5.435428571429076/10 [23:45<19:22, 254.59s/it]"
     ]
    },
    {
     "name": "stdout",
     "output_type": "stream",
     "text": [
      "Train Epoch: 6 [12160/22400 (54%)]\tLoss: 0.095116\n",
      "Mem before-during-after: 21712384 21852160 21712384\n"
     ]
    },
    {
     "name": "stderr",
     "output_type": "stream",
     "text": [
      " 55%|███████████████████▋                | 5.458285714286232/10 [23:50<18:59, 250.89s/it]"
     ]
    },
    {
     "name": "stdout",
     "output_type": "stream",
     "text": [
      "Train Epoch: 6 [12800/22400 (57%)]\tLoss: 0.833579\n",
      "Mem before-during-after: 21712384 21852160 21712384\n"
     ]
    },
    {
     "name": "stderr",
     "output_type": "stream",
     "text": [
      " 55%|███████████████████▋                | 5.481142857143388/10 [23:56<19:30, 259.02s/it]"
     ]
    },
    {
     "name": "stdout",
     "output_type": "stream",
     "text": [
      "Train Epoch: 6 [13440/22400 (60%)]\tLoss: 0.073995\n",
      "Mem before-during-after: 21712384 21852160 21712384\n"
     ]
    },
    {
     "name": "stderr",
     "output_type": "stream",
     "text": [
      " 55%|███████████████████▊                | 5.504000000000543/10 [24:02<19:17, 257.45s/it]"
     ]
    },
    {
     "name": "stdout",
     "output_type": "stream",
     "text": [
      "Train Epoch: 6 [14080/22400 (63%)]\tLoss: 0.397030\n",
      "Mem before-during-after: 21712384 21852160 21712384\n"
     ]
    },
    {
     "name": "stderr",
     "output_type": "stream",
     "text": [
      " 55%|███████████████████▉                | 5.526857142857699/10 [24:08<18:50, 252.82s/it]"
     ]
    },
    {
     "name": "stdout",
     "output_type": "stream",
     "text": [
      "Train Epoch: 6 [14720/22400 (66%)]\tLoss: 0.259323\n",
      "Mem before-during-after: 21712384 21852160 21712384\n"
     ]
    },
    {
     "name": "stderr",
     "output_type": "stream",
     "text": [
      " 55%|███████████████████▉                | 5.549714285714854/10 [24:14<19:13, 259.11s/it]"
     ]
    },
    {
     "name": "stdout",
     "output_type": "stream",
     "text": [
      "Train Epoch: 6 [15360/22400 (69%)]\tLoss: 0.239531\n",
      "Mem before-during-after: 21712384 21852160 21712384\n"
     ]
    },
    {
     "name": "stderr",
     "output_type": "stream",
     "text": [
      " 56%|████████████████████▌                | 5.57257142857201/10 [24:20<18:26, 249.99s/it]"
     ]
    },
    {
     "name": "stdout",
     "output_type": "stream",
     "text": [
      "Train Epoch: 6 [16000/22400 (71%)]\tLoss: 0.372669\n",
      "Mem before-during-after: 21712384 21852160 21712384\n"
     ]
    },
    {
     "name": "stderr",
     "output_type": "stream",
     "text": [
      " 56%|████████████████████▏               | 5.595428571429165/10 [24:26<19:18, 262.99s/it]"
     ]
    },
    {
     "name": "stdout",
     "output_type": "stream",
     "text": [
      "Train Epoch: 6 [16640/22400 (74%)]\tLoss: 0.600363\n",
      "Mem before-during-after: 21712384 21852160 21712384\n"
     ]
    },
    {
     "name": "stderr",
     "output_type": "stream",
     "text": [
      " 56%|████████████████████▏               | 5.618285714286321/10 [24:32<19:35, 268.26s/it]"
     ]
    },
    {
     "name": "stdout",
     "output_type": "stream",
     "text": [
      "Train Epoch: 6 [17280/22400 (77%)]\tLoss: 0.461556\n",
      "Mem before-during-after: 21712384 21852160 21712384\n"
     ]
    },
    {
     "name": "stderr",
     "output_type": "stream",
     "text": [
      " 56%|███████████████████▋               | 5.6411428571434765/10 [24:38<18:41, 257.39s/it]"
     ]
    },
    {
     "name": "stdout",
     "output_type": "stream",
     "text": [
      "Train Epoch: 6 [17920/22400 (80%)]\tLoss: 0.173990\n",
      "Mem before-during-after: 21712384 21852160 21712384\n"
     ]
    },
    {
     "name": "stderr",
     "output_type": "stream",
     "text": [
      " 57%|████████████████████▍               | 5.664000000000632/10 [24:44<18:38, 257.95s/it]"
     ]
    },
    {
     "name": "stdout",
     "output_type": "stream",
     "text": [
      "Train Epoch: 6 [18560/22400 (83%)]\tLoss: 0.397266\n",
      "Mem before-during-after: 21712384 21852160 21712384\n"
     ]
    },
    {
     "name": "stderr",
     "output_type": "stream",
     "text": [
      " 57%|████████████████████▍               | 5.686857142857788/10 [24:50<18:48, 261.57s/it]"
     ]
    },
    {
     "name": "stdout",
     "output_type": "stream",
     "text": [
      "Train Epoch: 6 [19200/22400 (86%)]\tLoss: 0.355282\n",
      "Mem before-during-after: 21712384 21852160 21712384\n"
     ]
    },
    {
     "name": "stderr",
     "output_type": "stream",
     "text": [
      " 57%|████████████████████▌               | 5.709714285714943/10 [24:57<21:55, 306.72s/it]"
     ]
    },
    {
     "name": "stdout",
     "output_type": "stream",
     "text": [
      "Train Epoch: 6 [19840/22400 (89%)]\tLoss: 0.310348\n",
      "Mem before-during-after: 21712384 21852160 21712384\n"
     ]
    },
    {
     "name": "stderr",
     "output_type": "stream",
     "text": [
      " 57%|████████████████████▋               | 5.732571428572099/10 [25:03<18:16, 256.85s/it]"
     ]
    },
    {
     "name": "stdout",
     "output_type": "stream",
     "text": [
      "Train Epoch: 6 [20480/22400 (91%)]\tLoss: 0.289651\n",
      "Mem before-during-after: 21712384 21852160 21712384\n"
     ]
    },
    {
     "name": "stderr",
     "output_type": "stream",
     "text": [
      " 58%|████████████████████▋               | 5.755428571429254/10 [25:08<17:57, 253.95s/it]"
     ]
    },
    {
     "name": "stdout",
     "output_type": "stream",
     "text": [
      "Train Epoch: 6 [21120/22400 (94%)]\tLoss: 0.155334\n",
      "Mem before-during-after: 21712384 21852160 21712384\n"
     ]
    },
    {
     "name": "stderr",
     "output_type": "stream",
     "text": [
      " 58%|█████████████████████▍               | 5.77828571428641/10 [25:14<18:03, 256.56s/it]"
     ]
    },
    {
     "name": "stdout",
     "output_type": "stream",
     "text": [
      "Train Epoch: 6 [21760/22400 (97%)]\tLoss: 0.480504\n",
      "Mem before-during-after: 21712384 21852160 21712384\n"
     ]
    },
    {
     "name": "stderr",
     "output_type": "stream",
     "text": [
      " 60%|█████████████████████▌              | 6.000571428572248/10 [26:12<17:15, 258.95s/it]"
     ]
    },
    {
     "name": "stdout",
     "output_type": "stream",
     "text": [
      "\n",
      "Test Epoch: 6\tAccuracy: 4945/5600 (88%)\n",
      "\n",
      "Train Epoch: 7 [0/22400 (0%)]\tLoss: 0.395102\n",
      "Mem before-during-after: 21711360 21852160 21712384\n"
     ]
    },
    {
     "name": "stderr",
     "output_type": "stream",
     "text": [
      " 60%|█████████████████████▋              | 6.024000000000832/10 [26:18<17:25, 262.94s/it]"
     ]
    },
    {
     "name": "stdout",
     "output_type": "stream",
     "text": [
      "Train Epoch: 7 [640/22400 (3%)]\tLoss: 0.038008\n",
      "Mem before-during-after: 21712384 21852160 21712384\n"
     ]
    },
    {
     "name": "stderr",
     "output_type": "stream",
     "text": [
      " 60%|█████████████████████▊              | 6.046857142857988/10 [26:24<17:06, 259.59s/it]"
     ]
    },
    {
     "name": "stdout",
     "output_type": "stream",
     "text": [
      "Train Epoch: 7 [1280/22400 (6%)]\tLoss: 0.303825\n",
      "Mem before-during-after: 21712384 21852160 21712384\n"
     ]
    },
    {
     "name": "stderr",
     "output_type": "stream",
     "text": [
      " 61%|█████████████████████▊              | 6.069714285715143/10 [26:30<16:49, 256.90s/it]"
     ]
    },
    {
     "name": "stdout",
     "output_type": "stream",
     "text": [
      "Train Epoch: 7 [1920/22400 (9%)]\tLoss: 0.781674\n",
      "Mem before-during-after: 21712384 21852160 21712384\n"
     ]
    },
    {
     "name": "stderr",
     "output_type": "stream",
     "text": [
      " 61%|█████████████████████▉              | 6.092571428572299/10 [26:37<16:18, 250.37s/it]"
     ]
    },
    {
     "name": "stdout",
     "output_type": "stream",
     "text": [
      "Train Epoch: 7 [2560/22400 (11%)]\tLoss: 0.207378\n",
      "Mem before-during-after: 21712384 21852160 21712384\n"
     ]
    },
    {
     "name": "stderr",
     "output_type": "stream",
     "text": [
      " 61%|█████████████████████▍             | 6.1154285714294545/10 [26:42<16:39, 257.37s/it]"
     ]
    },
    {
     "name": "stdout",
     "output_type": "stream",
     "text": [
      "Train Epoch: 7 [3200/22400 (14%)]\tLoss: 0.221288\n",
      "Mem before-during-after: 21712384 21852160 21712384\n"
     ]
    },
    {
     "name": "stderr",
     "output_type": "stream",
     "text": [
      " 61%|██████████████████████▋              | 6.13828571428661/10 [26:48<16:33, 257.33s/it]"
     ]
    },
    {
     "name": "stdout",
     "output_type": "stream",
     "text": [
      "Train Epoch: 7 [3840/22400 (17%)]\tLoss: 0.359427\n",
      "Mem before-during-after: 21712384 21852160 21712384\n"
     ]
    },
    {
     "name": "stderr",
     "output_type": "stream",
     "text": [
      " 62%|██████████████████████▏             | 6.161142857143766/10 [26:55<17:07, 267.63s/it]"
     ]
    },
    {
     "name": "stdout",
     "output_type": "stream",
     "text": [
      "Train Epoch: 7 [4480/22400 (20%)]\tLoss: 0.168968\n",
      "Mem before-during-after: 21712384 21852160 21712384\n"
     ]
    },
    {
     "name": "stderr",
     "output_type": "stream",
     "text": [
      " 62%|██████████████████████▎             | 6.184000000000921/10 [27:01<16:36, 261.14s/it]"
     ]
    },
    {
     "name": "stdout",
     "output_type": "stream",
     "text": [
      "Train Epoch: 7 [5120/22400 (23%)]\tLoss: 0.426386\n",
      "Mem before-during-after: 21712384 21852160 21712384\n"
     ]
    },
    {
     "name": "stderr",
     "output_type": "stream",
     "text": [
      " 62%|██████████████████████▎             | 6.206857142858077/10 [27:07<17:28, 276.35s/it]"
     ]
    },
    {
     "name": "stdout",
     "output_type": "stream",
     "text": [
      "Train Epoch: 7 [5760/22400 (26%)]\tLoss: 0.208925\n",
      "Mem before-during-after: 21712384 21852160 21712384\n"
     ]
    },
    {
     "name": "stderr",
     "output_type": "stream",
     "text": [
      " 62%|██████████████████████▍             | 6.229714285715232/10 [27:12<16:12, 257.82s/it]"
     ]
    },
    {
     "name": "stdout",
     "output_type": "stream",
     "text": [
      "Train Epoch: 7 [6400/22400 (29%)]\tLoss: 0.013182\n",
      "Mem before-during-after: 21712384 21852160 21712384\n"
     ]
    },
    {
     "name": "stderr",
     "output_type": "stream",
     "text": [
      " 63%|██████████████████████▌             | 6.252571428572388/10 [27:18<15:44, 252.08s/it]"
     ]
    },
    {
     "name": "stdout",
     "output_type": "stream",
     "text": [
      "Train Epoch: 7 [7040/22400 (31%)]\tLoss: 0.062663\n",
      "Mem before-during-after: 21712384 21852160 21712384\n"
     ]
    },
    {
     "name": "stderr",
     "output_type": "stream",
     "text": [
      " 63%|█████████████████████▉             | 6.2754285714295435/10 [27:24<16:10, 260.58s/it]"
     ]
    },
    {
     "name": "stdout",
     "output_type": "stream",
     "text": [
      "Train Epoch: 7 [7680/22400 (34%)]\tLoss: 0.225080\n",
      "Mem before-during-after: 21712384 21852160 21712384\n"
     ]
    },
    {
     "name": "stderr",
     "output_type": "stream",
     "text": [
      " 63%|██████████████████████▋             | 6.298285714286699/10 [27:30<16:34, 268.60s/it]"
     ]
    },
    {
     "name": "stdout",
     "output_type": "stream",
     "text": [
      "Train Epoch: 7 [8320/22400 (37%)]\tLoss: 0.798160\n",
      "Mem before-during-after: 21712384 21852160 21712384\n"
     ]
    },
    {
     "name": "stderr",
     "output_type": "stream",
     "text": [
      " 63%|██████████████████████▊             | 6.321142857143855/10 [27:36<17:30, 285.63s/it]"
     ]
    },
    {
     "name": "stdout",
     "output_type": "stream",
     "text": [
      "Train Epoch: 7 [8960/22400 (40%)]\tLoss: 0.672225\n",
      "Mem before-during-after: 21712384 21852160 21712384\n"
     ]
    },
    {
     "name": "stderr",
     "output_type": "stream",
     "text": [
      " 63%|███████████████████████▍             | 6.34400000000101/10 [27:42<15:31, 254.74s/it]"
     ]
    },
    {
     "name": "stdout",
     "output_type": "stream",
     "text": [
      "Train Epoch: 7 [9600/22400 (43%)]\tLoss: 0.165552\n",
      "Mem before-during-after: 21712384 21852160 21712384\n"
     ]
    },
    {
     "name": "stderr",
     "output_type": "stream",
     "text": [
      " 64%|██████████████████████▉             | 6.366857142858166/10 [27:48<15:16, 252.30s/it]"
     ]
    },
    {
     "name": "stdout",
     "output_type": "stream",
     "text": [
      "Train Epoch: 7 [10240/22400 (46%)]\tLoss: 0.279052\n",
      "Mem before-during-after: 21712384 21852160 21712384\n"
     ]
    },
    {
     "name": "stderr",
     "output_type": "stream",
     "text": [
      " 64%|███████████████████████             | 6.389714285715321/10 [27:54<15:35, 259.09s/it]"
     ]
    },
    {
     "name": "stdout",
     "output_type": "stream",
     "text": [
      "Train Epoch: 7 [10880/22400 (49%)]\tLoss: 0.095912\n",
      "Mem before-during-after: 21712384 21852160 21712384\n"
     ]
    },
    {
     "name": "stderr",
     "output_type": "stream",
     "text": [
      " 64%|███████████████████████             | 6.412571428572477/10 [28:00<15:22, 257.06s/it]"
     ]
    },
    {
     "name": "stdout",
     "output_type": "stream",
     "text": [
      "Train Epoch: 7 [11520/22400 (51%)]\tLoss: 0.251562\n",
      "Mem before-during-after: 21712384 21852160 21712384\n"
     ]
    },
    {
     "name": "stderr",
     "output_type": "stream",
     "text": [
      " 64%|███████████████████████▏            | 6.435428571429632/10 [28:06<15:07, 254.53s/it]"
     ]
    },
    {
     "name": "stdout",
     "output_type": "stream",
     "text": [
      "Train Epoch: 7 [12160/22400 (54%)]\tLoss: 0.310534\n",
      "Mem before-during-after: 21712384 21852160 21712384\n"
     ]
    },
    {
     "name": "stderr",
     "output_type": "stream",
     "text": [
      " 65%|███████████████████████▏            | 6.458285714286788/10 [28:13<15:21, 260.23s/it]"
     ]
    },
    {
     "name": "stdout",
     "output_type": "stream",
     "text": [
      "Train Epoch: 7 [12800/22400 (57%)]\tLoss: 0.024611\n",
      "Mem before-during-after: 21712384 21852160 21712384\n"
     ]
    },
    {
     "name": "stderr",
     "output_type": "stream",
     "text": [
      " 65%|███████████████████████▎            | 6.481142857143944/10 [28:18<15:01, 256.09s/it]"
     ]
    },
    {
     "name": "stdout",
     "output_type": "stream",
     "text": [
      "Train Epoch: 7 [13440/22400 (60%)]\tLoss: 0.522294\n",
      "Mem before-during-after: 21712384 21852160 21712384\n"
     ]
    },
    {
     "name": "stderr",
     "output_type": "stream",
     "text": [
      " 65%|███████████████████████▍            | 6.504000000001099/10 [28:24<15:13, 261.30s/it]"
     ]
    },
    {
     "name": "stdout",
     "output_type": "stream",
     "text": [
      "Train Epoch: 7 [14080/22400 (63%)]\tLoss: 0.165650\n",
      "Mem before-during-after: 21712384 21852160 21712384\n"
     ]
    },
    {
     "name": "stderr",
     "output_type": "stream",
     "text": [
      " 65%|███████████████████████▍            | 6.526857142858255/10 [28:31<17:36, 304.13s/it]"
     ]
    },
    {
     "name": "stdout",
     "output_type": "stream",
     "text": [
      "Train Epoch: 7 [14720/22400 (66%)]\tLoss: 0.813729\n",
      "Mem before-during-after: 21712384 21852160 21712384\n"
     ]
    },
    {
     "name": "stderr",
     "output_type": "stream",
     "text": [
      " 65%|████████████████████████▏            | 6.54971428571541/10 [28:36<14:29, 251.93s/it]"
     ]
    },
    {
     "name": "stdout",
     "output_type": "stream",
     "text": [
      "Train Epoch: 7 [15360/22400 (69%)]\tLoss: 0.315343\n",
      "Mem before-during-after: 21712384 21852160 21712384\n"
     ]
    },
    {
     "name": "stderr",
     "output_type": "stream",
     "text": [
      " 66%|███████████████████████▋            | 6.572571428572566/10 [28:42<14:44, 258.04s/it]"
     ]
    },
    {
     "name": "stdout",
     "output_type": "stream",
     "text": [
      "Train Epoch: 7 [16000/22400 (71%)]\tLoss: 0.594662\n",
      "Mem before-during-after: 21712384 21852160 21712384\n"
     ]
    },
    {
     "name": "stderr",
     "output_type": "stream",
     "text": [
      " 66%|███████████████████████▋            | 6.595428571429721/10 [28:48<15:44, 277.55s/it]"
     ]
    },
    {
     "name": "stdout",
     "output_type": "stream",
     "text": [
      "Train Epoch: 7 [16640/22400 (74%)]\tLoss: 0.577557\n",
      "Mem before-during-after: 21712384 21852160 21712384\n"
     ]
    },
    {
     "name": "stderr",
     "output_type": "stream",
     "text": [
      " 66%|███████████████████████▊            | 6.618285714286877/10 [28:54<15:19, 272.03s/it]"
     ]
    },
    {
     "name": "stdout",
     "output_type": "stream",
     "text": [
      "Train Epoch: 7 [17280/22400 (77%)]\tLoss: 0.683632\n",
      "Mem before-during-after: 21712384 21852160 21712384\n"
     ]
    },
    {
     "name": "stderr",
     "output_type": "stream",
     "text": [
      " 66%|███████████████████████▏           | 6.6411428571440325/10 [29:00<15:42, 280.62s/it]"
     ]
    },
    {
     "name": "stdout",
     "output_type": "stream",
     "text": [
      "Train Epoch: 7 [17920/22400 (80%)]\tLoss: 0.052169\n",
      "Mem before-during-after: 21712384 21852160 21712384\n"
     ]
    },
    {
     "name": "stderr",
     "output_type": "stream",
     "text": [
      " 67%|███████████████████████▉            | 6.664000000001188/10 [29:06<14:18, 257.42s/it]"
     ]
    },
    {
     "name": "stdout",
     "output_type": "stream",
     "text": [
      "Train Epoch: 7 [18560/22400 (83%)]\tLoss: 0.211035\n",
      "Mem before-during-after: 21712384 21852160 21712384\n"
     ]
    },
    {
     "name": "stderr",
     "output_type": "stream",
     "text": [
      " 67%|████████████████████████            | 6.686857142858344/10 [29:13<14:16, 258.40s/it]"
     ]
    },
    {
     "name": "stdout",
     "output_type": "stream",
     "text": [
      "Train Epoch: 7 [19200/22400 (86%)]\tLoss: 0.283583\n",
      "Mem before-during-after: 21712384 21852160 21712384\n"
     ]
    },
    {
     "name": "stderr",
     "output_type": "stream",
     "text": [
      " 67%|████████████████████████▏           | 6.709714285715499/10 [29:19<14:23, 262.47s/it]"
     ]
    },
    {
     "name": "stdout",
     "output_type": "stream",
     "text": [
      "Train Epoch: 7 [19840/22400 (89%)]\tLoss: 0.285345\n",
      "Mem before-during-after: 21712384 21852160 21712384\n"
     ]
    },
    {
     "name": "stderr",
     "output_type": "stream",
     "text": [
      " 67%|████████████████████████▏           | 6.732571428572655/10 [29:24<13:42, 251.75s/it]"
     ]
    },
    {
     "name": "stdout",
     "output_type": "stream",
     "text": [
      "Train Epoch: 7 [20480/22400 (91%)]\tLoss: 0.396249\n",
      "Mem before-during-after: 21712384 21852160 21712384\n"
     ]
    },
    {
     "name": "stderr",
     "output_type": "stream",
     "text": [
      " 68%|████████████████████████▉            | 6.75542857142981/10 [29:31<14:16, 263.83s/it]"
     ]
    },
    {
     "name": "stdout",
     "output_type": "stream",
     "text": [
      "Train Epoch: 7 [21120/22400 (94%)]\tLoss: 0.272852\n",
      "Mem before-during-after: 21712384 21852160 21712384\n"
     ]
    },
    {
     "name": "stderr",
     "output_type": "stream",
     "text": [
      " 68%|████████████████████████▍           | 6.778285714286966/10 [29:37<13:48, 257.20s/it]"
     ]
    },
    {
     "name": "stdout",
     "output_type": "stream",
     "text": [
      "Train Epoch: 7 [21760/22400 (97%)]\tLoss: 0.331909\n",
      "Mem before-during-after: 21712384 21852160 21712384\n"
     ]
    },
    {
     "name": "stderr",
     "output_type": "stream",
     "text": [
      " 70%|█████████████████████████▏          | 7.000571428572804/10 [30:34<12:52, 257.58s/it]"
     ]
    },
    {
     "name": "stdout",
     "output_type": "stream",
     "text": [
      "\n",
      "Test Epoch: 7\tAccuracy: 4980/5600 (89%)\n",
      "\n",
      "Train Epoch: 8 [0/22400 (0%)]\tLoss: 0.183639\n",
      "Mem before-during-after: 21711360 21852160 21712384\n"
     ]
    },
    {
     "name": "stderr",
     "output_type": "stream",
     "text": [
      " 70%|█████████████████████████▎          | 7.024000000001388/10 [30:41<12:49, 258.63s/it]"
     ]
    },
    {
     "name": "stdout",
     "output_type": "stream",
     "text": [
      "Train Epoch: 8 [640/22400 (3%)]\tLoss: 0.043419\n",
      "Mem before-during-after: 21712384 21852160 21712384\n"
     ]
    },
    {
     "name": "stderr",
     "output_type": "stream",
     "text": [
      " 70%|█████████████████████████▎          | 7.046857142858544/10 [30:47<12:47, 259.74s/it]"
     ]
    },
    {
     "name": "stdout",
     "output_type": "stream",
     "text": [
      "Train Epoch: 8 [1280/22400 (6%)]\tLoss: 0.130356\n",
      "Mem before-during-after: 21712384 21852160 21712384\n"
     ]
    },
    {
     "name": "stderr",
     "output_type": "stream",
     "text": [
      " 71%|█████████████████████████▍          | 7.069714285715699/10 [30:53<12:35, 257.98s/it]"
     ]
    },
    {
     "name": "stdout",
     "output_type": "stream",
     "text": [
      "Train Epoch: 8 [1920/22400 (9%)]\tLoss: 0.345962\n",
      "Mem before-during-after: 21712384 21852160 21712384\n"
     ]
    },
    {
     "name": "stderr",
     "output_type": "stream",
     "text": [
      " 71%|█████████████████████████▌          | 7.092571428572855/10 [30:58<12:20, 254.69s/it]"
     ]
    },
    {
     "name": "stdout",
     "output_type": "stream",
     "text": [
      "Train Epoch: 8 [2560/22400 (11%)]\tLoss: 0.164964\n",
      "Mem before-during-after: 21712384 21852160 21712384\n"
     ]
    },
    {
     "name": "stderr",
     "output_type": "stream",
     "text": [
      " 71%|████████████████████████▉          | 7.1154285714300105/10 [31:04<12:12, 253.94s/it]"
     ]
    },
    {
     "name": "stdout",
     "output_type": "stream",
     "text": [
      "Train Epoch: 8 [3200/22400 (14%)]\tLoss: 0.012359\n",
      "Mem before-during-after: 21712384 21852160 21712384\n"
     ]
    },
    {
     "name": "stderr",
     "output_type": "stream",
     "text": [
      " 71%|█████████████████████████▋          | 7.138285714287166/10 [31:11<12:24, 260.16s/it]"
     ]
    },
    {
     "name": "stdout",
     "output_type": "stream",
     "text": [
      "Train Epoch: 8 [3840/22400 (17%)]\tLoss: 0.373072\n",
      "Mem before-during-after: 21712384 21852160 21712384\n"
     ]
    },
    {
     "name": "stderr",
     "output_type": "stream",
     "text": [
      " 72%|█████████████████████████▊          | 7.161142857144322/10 [31:17<11:55, 252.13s/it]"
     ]
    },
    {
     "name": "stdout",
     "output_type": "stream",
     "text": [
      "Train Epoch: 8 [4480/22400 (20%)]\tLoss: 0.650960\n",
      "Mem before-during-after: 21712384 21852160 21712384\n"
     ]
    },
    {
     "name": "stderr",
     "output_type": "stream",
     "text": [
      " 72%|█████████████████████████▊          | 7.184000000001477/10 [31:22<12:10, 259.31s/it]"
     ]
    },
    {
     "name": "stdout",
     "output_type": "stream",
     "text": [
      "Train Epoch: 8 [5120/22400 (23%)]\tLoss: 0.293709\n",
      "Mem before-during-after: 21712384 21852160 21712384\n"
     ]
    },
    {
     "name": "stderr",
     "output_type": "stream",
     "text": [
      " 72%|█████████████████████████▉          | 7.206857142858633/10 [31:29<12:31, 269.03s/it]"
     ]
    },
    {
     "name": "stdout",
     "output_type": "stream",
     "text": [
      "Train Epoch: 8 [5760/22400 (26%)]\tLoss: 0.021817\n",
      "Mem before-during-after: 21712384 21852160 21712384\n"
     ]
    },
    {
     "name": "stderr",
     "output_type": "stream",
     "text": [
      " 72%|██████████████████████████          | 7.229714285715788/10 [31:35<12:07, 262.44s/it]"
     ]
    },
    {
     "name": "stdout",
     "output_type": "stream",
     "text": [
      "Train Epoch: 8 [6400/22400 (29%)]\tLoss: 0.187137\n",
      "Mem before-during-after: 21712384 21852160 21712384\n"
     ]
    },
    {
     "name": "stderr",
     "output_type": "stream",
     "text": [
      " 73%|██████████████████████████          | 7.252571428572944/10 [31:41<11:56, 260.85s/it]"
     ]
    },
    {
     "name": "stdout",
     "output_type": "stream",
     "text": [
      "Train Epoch: 8 [7040/22400 (31%)]\tLoss: 0.021045\n",
      "Mem before-during-after: 21712384 21852160 21712384\n"
     ]
    },
    {
     "name": "stderr",
     "output_type": "stream",
     "text": [
      " 73%|█████████████████████████▍         | 7.2754285714300995/10 [31:47<12:11, 268.56s/it]"
     ]
    },
    {
     "name": "stdout",
     "output_type": "stream",
     "text": [
      "Train Epoch: 8 [7680/22400 (34%)]\tLoss: 0.199164\n",
      "Mem before-during-after: 21712384 21852160 21712384\n"
     ]
    },
    {
     "name": "stderr",
     "output_type": "stream",
     "text": [
      " 73%|██████████████████████████▎         | 7.298285714287255/10 [31:53<11:48, 262.09s/it]"
     ]
    },
    {
     "name": "stdout",
     "output_type": "stream",
     "text": [
      "Train Epoch: 8 [8320/22400 (37%)]\tLoss: 0.390180\n",
      "Mem before-during-after: 21712384 21852160 21712384\n"
     ]
    },
    {
     "name": "stderr",
     "output_type": "stream",
     "text": [
      " 73%|██████████████████████████▎         | 7.321142857144411/10 [31:59<11:30, 257.58s/it]"
     ]
    },
    {
     "name": "stdout",
     "output_type": "stream",
     "text": [
      "Train Epoch: 8 [8960/22400 (40%)]\tLoss: 0.522588\n",
      "Mem before-during-after: 21712384 21852160 21712384\n"
     ]
    },
    {
     "name": "stderr",
     "output_type": "stream",
     "text": [
      " 73%|██████████████████████████▍         | 7.344000000001566/10 [32:04<12:10, 274.90s/it]"
     ]
    },
    {
     "name": "stdout",
     "output_type": "stream",
     "text": [
      "Train Epoch: 8 [9600/22400 (43%)]\tLoss: 0.548389\n",
      "Mem before-during-after: 21712384 21852160 21712384\n"
     ]
    },
    {
     "name": "stderr",
     "output_type": "stream",
     "text": [
      " 74%|██████████████████████████▌         | 7.366857142858722/10 [32:10<11:04, 252.54s/it]"
     ]
    },
    {
     "name": "stdout",
     "output_type": "stream",
     "text": [
      "Train Epoch: 8 [10240/22400 (46%)]\tLoss: 0.365579\n",
      "Mem before-during-after: 21712384 21852160 21712384\n"
     ]
    },
    {
     "name": "stderr",
     "output_type": "stream",
     "text": [
      " 74%|██████████████████████████▌         | 7.389714285715877/10 [32:16<11:14, 258.50s/it]"
     ]
    },
    {
     "name": "stdout",
     "output_type": "stream",
     "text": [
      "Train Epoch: 8 [10880/22400 (49%)]\tLoss: 0.056891\n",
      "Mem before-during-after: 21712384 21852160 21712384\n"
     ]
    },
    {
     "name": "stderr",
     "output_type": "stream",
     "text": [
      " 74%|██████████████████████████▋         | 7.412571428573033/10 [32:22<11:08, 258.54s/it]"
     ]
    },
    {
     "name": "stdout",
     "output_type": "stream",
     "text": [
      "Train Epoch: 8 [11520/22400 (51%)]\tLoss: 0.039206\n",
      "Mem before-during-after: 21712384 21852160 21712384\n"
     ]
    },
    {
     "name": "stderr",
     "output_type": "stream",
     "text": [
      " 74%|██████████████████████████▊         | 7.435428571430188/10 [32:28<10:45, 251.82s/it]"
     ]
    },
    {
     "name": "stdout",
     "output_type": "stream",
     "text": [
      "Train Epoch: 8 [12160/22400 (54%)]\tLoss: 0.838152\n",
      "Mem before-during-after: 21712384 21852160 21712384\n"
     ]
    },
    {
     "name": "stderr",
     "output_type": "stream",
     "text": [
      " 75%|██████████████████████████▊         | 7.458285714287344/10 [32:34<11:00, 260.00s/it]"
     ]
    },
    {
     "name": "stdout",
     "output_type": "stream",
     "text": [
      "Train Epoch: 8 [12800/22400 (57%)]\tLoss: 0.460784\n",
      "Mem before-during-after: 21712384 21852160 21712384\n"
     ]
    },
    {
     "name": "stderr",
     "output_type": "stream",
     "text": [
      " 75%|████████████████████████████▍         | 7.4811428571445/10 [32:40<11:10, 266.23s/it]"
     ]
    },
    {
     "name": "stdout",
     "output_type": "stream",
     "text": [
      "Train Epoch: 8 [13440/22400 (60%)]\tLoss: 0.012112\n",
      "Mem before-during-after: 21712384 21852160 21712384\n"
     ]
    },
    {
     "name": "stderr",
     "output_type": "stream",
     "text": [
      " 75%|███████████████████████████         | 7.504000000001655/10 [32:47<10:52, 261.58s/it]"
     ]
    },
    {
     "name": "stdout",
     "output_type": "stream",
     "text": [
      "Train Epoch: 8 [14080/22400 (63%)]\tLoss: 0.087292\n",
      "Mem before-during-after: 21712384 21852160 21712384\n"
     ]
    },
    {
     "name": "stderr",
     "output_type": "stream",
     "text": [
      " 75%|███████████████████████████         | 7.526857142858811/10 [32:52<10:23, 252.00s/it]"
     ]
    },
    {
     "name": "stdout",
     "output_type": "stream",
     "text": [
      "Train Epoch: 8 [14720/22400 (66%)]\tLoss: 0.132158\n",
      "Mem before-during-after: 21712384 21852160 21712384\n"
     ]
    },
    {
     "name": "stderr",
     "output_type": "stream",
     "text": [
      " 75%|███████████████████████████▏        | 7.549714285715966/10 [32:58<10:41, 261.62s/it]"
     ]
    },
    {
     "name": "stdout",
     "output_type": "stream",
     "text": [
      "Train Epoch: 8 [15360/22400 (69%)]\tLoss: 0.894307\n",
      "Mem before-during-after: 21712384 21852160 21712384\n"
     ]
    },
    {
     "name": "stderr",
     "output_type": "stream",
     "text": [
      " 76%|███████████████████████████▎        | 7.572571428573122/10 [33:04<10:57, 270.96s/it]"
     ]
    },
    {
     "name": "stdout",
     "output_type": "stream",
     "text": [
      "Train Epoch: 8 [16000/22400 (71%)]\tLoss: 0.159886\n",
      "Mem before-during-after: 21712384 21852160 21712384\n"
     ]
    },
    {
     "name": "stderr",
     "output_type": "stream",
     "text": [
      " 76%|███████████████████████████▎        | 7.595428571430277/10 [33:10<10:30, 262.41s/it]"
     ]
    },
    {
     "name": "stdout",
     "output_type": "stream",
     "text": [
      "Train Epoch: 8 [16640/22400 (74%)]\tLoss: 0.886556\n",
      "Mem before-during-after: 21712384 21852160 21712384\n"
     ]
    },
    {
     "name": "stderr",
     "output_type": "stream",
     "text": [
      " 76%|███████████████████████████▍        | 7.618285714287433/10 [33:16<10:06, 254.69s/it]"
     ]
    },
    {
     "name": "stdout",
     "output_type": "stream",
     "text": [
      "Train Epoch: 8 [17280/22400 (77%)]\tLoss: 0.236626\n",
      "Mem before-during-after: 21712384 21852160 21712384\n"
     ]
    },
    {
     "name": "stderr",
     "output_type": "stream",
     "text": [
      " 76%|██████████████████████████▋        | 7.6411428571445885/10 [33:22<09:58, 253.90s/it]"
     ]
    },
    {
     "name": "stdout",
     "output_type": "stream",
     "text": [
      "Train Epoch: 8 [17920/22400 (80%)]\tLoss: 0.126098\n",
      "Mem before-during-after: 21712384 21852160 21712384\n"
     ]
    },
    {
     "name": "stderr",
     "output_type": "stream",
     "text": [
      " 77%|███████████████████████████▌        | 7.664000000001744/10 [33:28<10:19, 265.04s/it]"
     ]
    },
    {
     "name": "stdout",
     "output_type": "stream",
     "text": [
      "Train Epoch: 8 [18560/22400 (83%)]\tLoss: 0.224668\n",
      "Mem before-during-after: 21712384 21852160 21712384\n"
     ]
    },
    {
     "name": "stderr",
     "output_type": "stream",
     "text": [
      " 77%|█████████████████████████████▏        | 7.6868571428589/10 [33:34<10:15, 266.11s/it]"
     ]
    },
    {
     "name": "stdout",
     "output_type": "stream",
     "text": [
      "Train Epoch: 8 [19200/22400 (86%)]\tLoss: 0.104314\n",
      "Mem before-during-after: 21712384 21852160 21712384\n"
     ]
    },
    {
     "name": "stderr",
     "output_type": "stream",
     "text": [
      " 77%|███████████████████████████▊        | 7.709714285716055/10 [33:40<09:53, 259.16s/it]"
     ]
    },
    {
     "name": "stdout",
     "output_type": "stream",
     "text": [
      "Train Epoch: 8 [19840/22400 (89%)]\tLoss: 0.267212\n",
      "Mem before-during-after: 21712384 21852160 21712384\n"
     ]
    },
    {
     "name": "stderr",
     "output_type": "stream",
     "text": [
      " 77%|███████████████████████████▊        | 7.732571428573211/10 [33:46<09:39, 255.64s/it]"
     ]
    },
    {
     "name": "stdout",
     "output_type": "stream",
     "text": [
      "Train Epoch: 8 [20480/22400 (91%)]\tLoss: 0.174082\n",
      "Mem before-during-after: 21712384 21852160 21712384\n"
     ]
    },
    {
     "name": "stderr",
     "output_type": "stream",
     "text": [
      " 78%|███████████████████████████▉        | 7.755428571430366/10 [33:52<09:38, 257.70s/it]"
     ]
    },
    {
     "name": "stdout",
     "output_type": "stream",
     "text": [
      "Train Epoch: 8 [21120/22400 (94%)]\tLoss: 0.201295\n",
      "Mem before-during-after: 21712384 21852160 21712384\n"
     ]
    },
    {
     "name": "stderr",
     "output_type": "stream",
     "text": [
      " 78%|████████████████████████████        | 7.778285714287522/10 [33:58<09:31, 257.33s/it]"
     ]
    },
    {
     "name": "stdout",
     "output_type": "stream",
     "text": [
      "Train Epoch: 8 [21760/22400 (97%)]\tLoss: 0.739822\n",
      "Mem before-during-after: 21712384 21852160 21712384\n"
     ]
    },
    {
     "name": "stderr",
     "output_type": "stream",
     "text": [
      " 80%|████████████████████████████▊       | 8.000571428573359/10 [34:56<08:30, 255.27s/it]"
     ]
    },
    {
     "name": "stdout",
     "output_type": "stream",
     "text": [
      "\n",
      "Test Epoch: 8\tAccuracy: 4877/5600 (87%)\n",
      "\n",
      "Train Epoch: 9 [0/22400 (0%)]\tLoss: 0.374921\n",
      "Mem before-during-after: 21711360 21852160 21712384\n"
     ]
    },
    {
     "name": "stderr",
     "output_type": "stream",
     "text": [
      " 80%|████████████████████████████▉       | 8.024000000001907/10 [35:02<08:34, 260.21s/it]"
     ]
    },
    {
     "name": "stdout",
     "output_type": "stream",
     "text": [
      "Train Epoch: 9 [640/22400 (3%)]\tLoss: 0.633998\n",
      "Mem before-during-after: 21712384 21852160 21712384\n"
     ]
    },
    {
     "name": "stderr",
     "output_type": "stream",
     "text": [
      " 80%|████████████████████████████▉       | 8.046857142859027/10 [35:08<08:57, 275.16s/it]"
     ]
    },
    {
     "name": "stdout",
     "output_type": "stream",
     "text": [
      "Train Epoch: 9 [1280/22400 (6%)]\tLoss: 0.194849\n",
      "Mem before-during-after: 21712384 21852160 21712384\n"
     ]
    },
    {
     "name": "stderr",
     "output_type": "stream",
     "text": [
      " 81%|█████████████████████████████       | 8.069714285716147/10 [35:14<08:52, 275.68s/it]"
     ]
    },
    {
     "name": "stdout",
     "output_type": "stream",
     "text": [
      "Train Epoch: 9 [1920/22400 (9%)]\tLoss: 0.082172\n",
      "Mem before-during-after: 21712384 21852160 21712384\n"
     ]
    },
    {
     "name": "stderr",
     "output_type": "stream",
     "text": [
      " 81%|█████████████████████████████▏      | 8.092571428573267/10 [35:21<11:39, 366.55s/it]"
     ]
    },
    {
     "name": "stdout",
     "output_type": "stream",
     "text": [
      "Train Epoch: 9 [2560/22400 (11%)]\tLoss: 0.226900\n",
      "Mem before-during-after: 21712384 21852160 21712384\n"
     ]
    },
    {
     "name": "stderr",
     "output_type": "stream",
     "text": [
      " 81%|█████████████████████████████▏      | 8.115428571430387/10 [35:27<08:05, 257.43s/it]"
     ]
    },
    {
     "name": "stdout",
     "output_type": "stream",
     "text": [
      "Train Epoch: 9 [3200/22400 (14%)]\tLoss: 0.121952\n",
      "Mem before-during-after: 21712384 21852160 21712384\n"
     ]
    },
    {
     "name": "stderr",
     "output_type": "stream",
     "text": [
      " 81%|██████████████████████████████       | 8.13771428571608/10 [35:34<16:48, 541.75s/it]"
     ]
    },
    {
     "name": "stdout",
     "output_type": "stream",
     "text": [
      "Train Epoch: 9 [3840/22400 (17%)]\tLoss: 0.215571\n",
      "Mem before-during-after: 21712384 21852160 21712384\n"
     ]
    },
    {
     "name": "stderr",
     "output_type": "stream",
     "text": [
      " 82%|█████████████████████████████▍      | 8.161142857144627/10 [35:40<08:05, 263.76s/it]"
     ]
    },
    {
     "name": "stdout",
     "output_type": "stream",
     "text": [
      "Train Epoch: 9 [4480/22400 (20%)]\tLoss: 0.823287\n",
      "Mem before-during-after: 21712384 21852160 21712384\n"
     ]
    },
    {
     "name": "stderr",
     "output_type": "stream",
     "text": [
      " 82%|█████████████████████████████▍      | 8.184000000001747/10 [35:47<08:47, 290.70s/it]"
     ]
    },
    {
     "name": "stdout",
     "output_type": "stream",
     "text": [
      "Train Epoch: 9 [5120/22400 (23%)]\tLoss: 0.099902\n",
      "Mem before-during-after: 21712384 21852160 21712384\n"
     ]
    },
    {
     "name": "stderr",
     "output_type": "stream",
     "text": [
      " 82%|█████████████████████████████▌      | 8.206857142858867/10 [35:53<08:12, 274.79s/it]"
     ]
    },
    {
     "name": "stdout",
     "output_type": "stream",
     "text": [
      "Train Epoch: 9 [5760/22400 (26%)]\tLoss: 0.983278\n",
      "Mem before-during-after: 21712384 21852160 21712384\n"
     ]
    },
    {
     "name": "stderr",
     "output_type": "stream",
     "text": [
      " 82%|█████████████████████████████▋      | 8.229714285715987/10 [35:59<09:57, 337.69s/it]"
     ]
    },
    {
     "name": "stdout",
     "output_type": "stream",
     "text": [
      "Train Epoch: 9 [6400/22400 (29%)]\tLoss: 0.194051\n",
      "Mem before-during-after: 21712384 21852160 21712384\n"
     ]
    },
    {
     "name": "stderr",
     "output_type": "stream",
     "text": [
      " 83%|█████████████████████████████▋      | 8.252571428573107/10 [36:06<07:50, 269.46s/it]"
     ]
    },
    {
     "name": "stdout",
     "output_type": "stream",
     "text": [
      "Train Epoch: 9 [7040/22400 (31%)]\tLoss: 0.014724\n",
      "Mem before-during-after: 21712384 21852160 21712384\n"
     ]
    },
    {
     "name": "stderr",
     "output_type": "stream",
     "text": [
      " 83%|█████████████████████████████▊      | 8.275428571430227/10 [36:12<07:53, 274.65s/it]"
     ]
    },
    {
     "name": "stdout",
     "output_type": "stream",
     "text": [
      "Train Epoch: 9 [7680/22400 (34%)]\tLoss: 0.219573\n",
      "Mem before-during-after: 21712384 21852160 21712384\n"
     ]
    },
    {
     "name": "stderr",
     "output_type": "stream",
     "text": [
      " 83%|█████████████████████████████▊      | 8.298285714287347/10 [36:18<07:41, 271.44s/it]"
     ]
    },
    {
     "name": "stdout",
     "output_type": "stream",
     "text": [
      "Train Epoch: 9 [8320/22400 (37%)]\tLoss: 0.117116\n",
      "Mem before-during-after: 21712384 21852160 21712384\n"
     ]
    },
    {
     "name": "stderr",
     "output_type": "stream",
     "text": [
      " 83%|█████████████████████████████▉      | 8.321142857144467/10 [36:25<07:47, 278.27s/it]"
     ]
    },
    {
     "name": "stdout",
     "output_type": "stream",
     "text": [
      "Train Epoch: 9 [8960/22400 (40%)]\tLoss: 0.010778\n",
      "Mem before-during-after: 21712384 21852160 21712384\n"
     ]
    },
    {
     "name": "stderr",
     "output_type": "stream",
     "text": [
      " 83%|██████████████████████████████      | 8.344000000001587/10 [36:31<07:23, 267.93s/it]"
     ]
    },
    {
     "name": "stdout",
     "output_type": "stream",
     "text": [
      "Train Epoch: 9 [9600/22400 (43%)]\tLoss: 0.160423\n",
      "Mem before-during-after: 21712384 21852160 21712384\n"
     ]
    },
    {
     "name": "stderr",
     "output_type": "stream",
     "text": [
      " 84%|██████████████████████████████      | 8.366857142858708/10 [36:37<07:17, 268.14s/it]"
     ]
    },
    {
     "name": "stdout",
     "output_type": "stream",
     "text": [
      "Train Epoch: 9 [10240/22400 (46%)]\tLoss: 0.523990\n",
      "Mem before-during-after: 21712384 21852160 21712384\n"
     ]
    },
    {
     "name": "stderr",
     "output_type": "stream",
     "text": [
      " 84%|██████████████████████████████▏     | 8.389714285715828/10 [36:43<07:02, 262.65s/it]"
     ]
    },
    {
     "name": "stdout",
     "output_type": "stream",
     "text": [
      "Train Epoch: 9 [10880/22400 (49%)]\tLoss: 0.313888\n",
      "Mem before-during-after: 21712384 21852160 21712384\n"
     ]
    },
    {
     "name": "stderr",
     "output_type": "stream",
     "text": [
      " 84%|██████████████████████████████▎     | 8.412571428572948/10 [36:50<07:44, 292.79s/it]"
     ]
    },
    {
     "name": "stdout",
     "output_type": "stream",
     "text": [
      "Train Epoch: 9 [11520/22400 (51%)]\tLoss: 1.189038\n",
      "Mem before-during-after: 21712384 21852160 21712384\n"
     ]
    },
    {
     "name": "stderr",
     "output_type": "stream",
     "text": [
      " 84%|██████████████████████████████▎     | 8.435428571430068/10 [36:56<06:55, 265.59s/it]"
     ]
    },
    {
     "name": "stdout",
     "output_type": "stream",
     "text": [
      "Train Epoch: 9 [12160/22400 (54%)]\tLoss: 0.154943\n",
      "Mem before-during-after: 21712384 21852160 21712384\n"
     ]
    },
    {
     "name": "stderr",
     "output_type": "stream",
     "text": [
      " 85%|██████████████████████████████▍     | 8.458285714287188/10 [37:03<06:38, 258.50s/it]"
     ]
    },
    {
     "name": "stdout",
     "output_type": "stream",
     "text": [
      "Train Epoch: 9 [12800/22400 (57%)]\tLoss: 0.114474\n",
      "Mem before-during-after: 21712384 21852160 21712384\n"
     ]
    },
    {
     "name": "stderr",
     "output_type": "stream",
     "text": [
      " 85%|██████████████████████████████▌     | 8.481142857144308/10 [37:09<06:57, 274.61s/it]"
     ]
    },
    {
     "name": "stdout",
     "output_type": "stream",
     "text": [
      "Train Epoch: 9 [13440/22400 (60%)]\tLoss: 1.082056\n",
      "Mem before-during-after: 21712384 21852160 21712384\n"
     ]
    },
    {
     "name": "stderr",
     "output_type": "stream",
     "text": [
      " 85%|██████████████████████████████▌     | 8.504000000001428/10 [37:15<06:45, 270.99s/it]"
     ]
    },
    {
     "name": "stdout",
     "output_type": "stream",
     "text": [
      "Train Epoch: 9 [14080/22400 (63%)]\tLoss: 0.113630\n",
      "Mem before-during-after: 21712384 21852160 21712384\n"
     ]
    },
    {
     "name": "stderr",
     "output_type": "stream",
     "text": [
      " 85%|██████████████████████████████▋     | 8.526857142858548/10 [37:22<06:34, 267.55s/it]"
     ]
    },
    {
     "name": "stdout",
     "output_type": "stream",
     "text": [
      "Train Epoch: 9 [14720/22400 (66%)]\tLoss: 0.122157\n",
      "Mem before-during-after: 21712384 21852160 21712384\n"
     ]
    },
    {
     "name": "stderr",
     "output_type": "stream",
     "text": [
      " 85%|██████████████████████████████▊     | 8.549714285715668/10 [37:28<06:29, 268.56s/it]"
     ]
    },
    {
     "name": "stdout",
     "output_type": "stream",
     "text": [
      "Train Epoch: 9 [15360/22400 (69%)]\tLoss: 1.329222\n",
      "Mem before-during-after: 21712384 21852160 21712384\n"
     ]
    },
    {
     "name": "stderr",
     "output_type": "stream",
     "text": [
      " 86%|██████████████████████████████▊     | 8.572571428572788/10 [37:34<06:23, 268.85s/it]"
     ]
    },
    {
     "name": "stdout",
     "output_type": "stream",
     "text": [
      "Train Epoch: 9 [16000/22400 (71%)]\tLoss: 0.220751\n",
      "Mem before-during-after: 21712384 21852160 21712384\n"
     ]
    },
    {
     "name": "stderr",
     "output_type": "stream",
     "text": [
      " 86%|██████████████████████████████▉     | 8.595428571429908/10 [37:40<06:22, 272.15s/it]"
     ]
    },
    {
     "name": "stdout",
     "output_type": "stream",
     "text": [
      "Train Epoch: 9 [16640/22400 (74%)]\tLoss: 0.538604\n",
      "Mem before-during-after: 21712384 21852160 21712384\n"
     ]
    },
    {
     "name": "stderr",
     "output_type": "stream",
     "text": [
      " 86%|███████████████████████████████     | 8.618285714287028/10 [37:47<06:16, 272.40s/it]"
     ]
    },
    {
     "name": "stdout",
     "output_type": "stream",
     "text": [
      "Train Epoch: 9 [17280/22400 (77%)]\tLoss: 0.499922\n",
      "Mem before-during-after: 21712384 21852160 21712384\n"
     ]
    },
    {
     "name": "stderr",
     "output_type": "stream",
     "text": [
      " 86%|███████████████████████████████     | 8.641142857144148/10 [37:53<06:57, 307.07s/it]"
     ]
    },
    {
     "name": "stdout",
     "output_type": "stream",
     "text": [
      "Train Epoch: 9 [17920/22400 (80%)]\tLoss: 0.354248\n",
      "Mem before-during-after: 21712384 21852160 21712384\n"
     ]
    },
    {
     "name": "stderr",
     "output_type": "stream",
     "text": [
      " 87%|███████████████████████████████▏    | 8.664000000001268/10 [38:00<06:32, 293.45s/it]"
     ]
    },
    {
     "name": "stdout",
     "output_type": "stream",
     "text": [
      "Train Epoch: 9 [18560/22400 (83%)]\tLoss: 0.134085\n",
      "Mem before-during-after: 21712384 21852160 21712384\n"
     ]
    },
    {
     "name": "stderr",
     "output_type": "stream",
     "text": [
      " 87%|███████████████████████████████▎    | 8.686857142858388/10 [38:06<05:53, 269.47s/it]"
     ]
    },
    {
     "name": "stdout",
     "output_type": "stream",
     "text": [
      "Train Epoch: 9 [19200/22400 (86%)]\tLoss: 0.097454\n",
      "Mem before-during-after: 21712384 21852160 21712384\n"
     ]
    },
    {
     "name": "stderr",
     "output_type": "stream",
     "text": [
      " 87%|███████████████████████████████▎    | 8.709714285715508/10 [38:12<06:16, 291.72s/it]"
     ]
    },
    {
     "name": "stdout",
     "output_type": "stream",
     "text": [
      "Train Epoch: 9 [19840/22400 (89%)]\tLoss: 0.362612\n",
      "Mem before-during-after: 21712384 21852160 21712384\n"
     ]
    },
    {
     "name": "stderr",
     "output_type": "stream",
     "text": [
      " 87%|███████████████████████████████▍    | 8.732571428572628/10 [38:18<05:43, 270.74s/it]"
     ]
    },
    {
     "name": "stdout",
     "output_type": "stream",
     "text": [
      "Train Epoch: 9 [20480/22400 (91%)]\tLoss: 0.842820\n",
      "Mem before-during-after: 21712384 21852160 21712384\n"
     ]
    },
    {
     "name": "stderr",
     "output_type": "stream",
     "text": [
      " 88%|███████████████████████████████▌    | 8.755428571429748/10 [38:25<05:48, 279.79s/it]"
     ]
    },
    {
     "name": "stdout",
     "output_type": "stream",
     "text": [
      "Train Epoch: 9 [21120/22400 (94%)]\tLoss: 0.273292\n",
      "Mem before-during-after: 21712384 21852160 21712384\n"
     ]
    },
    {
     "name": "stderr",
     "output_type": "stream",
     "text": [
      " 88%|███████████████████████████████▌    | 8.778285714286868/10 [38:31<05:39, 277.96s/it]"
     ]
    },
    {
     "name": "stdout",
     "output_type": "stream",
     "text": [
      "Train Epoch: 9 [21760/22400 (97%)]\tLoss: 0.277482\n",
      "Mem before-during-after: 21712384 21852160 21712384\n"
     ]
    },
    {
     "name": "stderr",
     "output_type": "stream",
     "text": [
      " 90%|█████████████████████████████████▎   | 9.00057142857236/10 [39:32<04:37, 277.68s/it]"
     ]
    },
    {
     "name": "stdout",
     "output_type": "stream",
     "text": [
      "\n",
      "Test Epoch: 9\tAccuracy: 4972/5600 (89%)\n",
      "\n",
      "Train Epoch: 10 [0/22400 (0%)]\tLoss: 0.296190\n",
      "Mem before-during-after: 21711360 21852160 21712384\n"
     ]
    },
    {
     "name": "stderr",
     "output_type": "stream",
     "text": [
      " 90%|████████████████████████████████▍   | 9.024000000000909/10 [39:39<04:30, 277.39s/it]"
     ]
    },
    {
     "name": "stdout",
     "output_type": "stream",
     "text": [
      "Train Epoch: 10 [640/22400 (3%)]\tLoss: 0.173719\n",
      "Mem before-during-after: 21712384 21852160 21712384\n"
     ]
    },
    {
     "name": "stderr",
     "output_type": "stream",
     "text": [
      " 90%|████████████████████████████████▌   | 9.046857142858029/10 [39:45<04:23, 276.04s/it]"
     ]
    },
    {
     "name": "stdout",
     "output_type": "stream",
     "text": [
      "Train Epoch: 10 [1280/22400 (6%)]\tLoss: 0.726795\n",
      "Mem before-during-after: 21712384 21852160 21712384\n"
     ]
    },
    {
     "name": "stderr",
     "output_type": "stream",
     "text": [
      " 91%|████████████████████████████████▋   | 9.069714285715149/10 [39:51<04:09, 267.90s/it]"
     ]
    },
    {
     "name": "stdout",
     "output_type": "stream",
     "text": [
      "Train Epoch: 10 [1920/22400 (9%)]\tLoss: 0.109717\n",
      "Mem before-during-after: 21712384 21852160 21712384\n"
     ]
    },
    {
     "name": "stderr",
     "output_type": "stream",
     "text": [
      " 91%|████████████████████████████████▋   | 9.092571428572269/10 [39:58<04:05, 270.12s/it]"
     ]
    },
    {
     "name": "stdout",
     "output_type": "stream",
     "text": [
      "Train Epoch: 10 [2560/22400 (11%)]\tLoss: 0.139958\n",
      "Mem before-during-after: 21712384 21852160 21712384\n"
     ]
    },
    {
     "name": "stderr",
     "output_type": "stream",
     "text": [
      " 91%|█████████████████████████████████▋   | 9.11485714285796/10 [40:04<04:09, 282.37s/it]"
     ]
    },
    {
     "name": "stdout",
     "output_type": "stream",
     "text": [
      "Train Epoch: 10 [3200/22400 (14%)]\tLoss: 0.411447\n",
      "Mem before-during-after: 21712384 21852160 21712384\n"
     ]
    },
    {
     "name": "stderr",
     "output_type": "stream",
     "text": [
      " 91%|████████████████████████████████▉   | 9.138285714286509/10 [40:10<04:02, 281.55s/it]"
     ]
    },
    {
     "name": "stdout",
     "output_type": "stream",
     "text": [
      "Train Epoch: 10 [3840/22400 (17%)]\tLoss: 0.425483\n",
      "Mem before-during-after: 21712384 21852160 21712384\n"
     ]
    },
    {
     "name": "stderr",
     "output_type": "stream",
     "text": [
      " 92%|████████████████████████████████▉   | 9.161142857143629/10 [40:17<03:48, 272.16s/it]"
     ]
    },
    {
     "name": "stdout",
     "output_type": "stream",
     "text": [
      "Train Epoch: 10 [4480/22400 (20%)]\tLoss: 0.295350\n",
      "Mem before-during-after: 21712384 21852160 21712384\n"
     ]
    },
    {
     "name": "stderr",
     "output_type": "stream",
     "text": [
      " 92%|█████████████████████████████████   | 9.184000000000749/10 [40:23<03:43, 274.40s/it]"
     ]
    },
    {
     "name": "stdout",
     "output_type": "stream",
     "text": [
      "Train Epoch: 10 [5120/22400 (23%)]\tLoss: 0.188297\n",
      "Mem before-during-after: 21712384 21852160 21712384\n"
     ]
    },
    {
     "name": "stderr",
     "output_type": "stream",
     "text": [
      " 92%|█████████████████████████████████▏  | 9.206857142857869/10 [40:29<03:39, 276.52s/it]"
     ]
    },
    {
     "name": "stdout",
     "output_type": "stream",
     "text": [
      "Train Epoch: 10 [5760/22400 (26%)]\tLoss: 0.117418\n",
      "Mem before-during-after: 21712384 21852160 21712384\n"
     ]
    },
    {
     "name": "stderr",
     "output_type": "stream",
     "text": [
      " 92%|█████████████████████████████████▏  | 9.229714285714989/10 [40:35<03:26, 268.10s/it]"
     ]
    },
    {
     "name": "stdout",
     "output_type": "stream",
     "text": [
      "Train Epoch: 10 [6400/22400 (29%)]\tLoss: 0.264304\n",
      "Mem before-during-after: 21712384 21852160 21712384\n"
     ]
    },
    {
     "name": "stderr",
     "output_type": "stream",
     "text": [
      " 93%|█████████████████████████████████▎  | 9.252571428572109/10 [40:42<03:18, 265.53s/it]"
     ]
    },
    {
     "name": "stdout",
     "output_type": "stream",
     "text": [
      "Train Epoch: 10 [7040/22400 (31%)]\tLoss: 0.133468\n",
      "Mem before-during-after: 21712384 21852160 21712384\n"
     ]
    },
    {
     "name": "stderr",
     "output_type": "stream",
     "text": [
      " 93%|█████████████████████████████████▍  | 9.275428571429229/10 [40:48<03:17, 272.27s/it]"
     ]
    },
    {
     "name": "stdout",
     "output_type": "stream",
     "text": [
      "Train Epoch: 10 [7680/22400 (34%)]\tLoss: 0.201254\n",
      "Mem before-during-after: 21712384 21852160 21712384\n"
     ]
    },
    {
     "name": "stderr",
     "output_type": "stream",
     "text": [
      " 93%|█████████████████████████████████▍  | 9.298285714286349/10 [40:54<03:20, 285.15s/it]"
     ]
    },
    {
     "name": "stdout",
     "output_type": "stream",
     "text": [
      "Train Epoch: 10 [8320/22400 (37%)]\tLoss: 0.279495\n",
      "Mem before-during-after: 21712384 21852160 21712384\n"
     ]
    },
    {
     "name": "stderr",
     "output_type": "stream",
     "text": [
      " 93%|██████████████████████████████████▍  | 9.32114285714347/10 [41:01<03:14, 287.12s/it]"
     ]
    },
    {
     "name": "stdout",
     "output_type": "stream",
     "text": [
      "Train Epoch: 10 [8960/22400 (40%)]\tLoss: 0.562228\n",
      "Mem before-during-after: 21712384 21852160 21712384\n"
     ]
    },
    {
     "name": "stderr",
     "output_type": "stream",
     "text": [
      " 93%|██████████████████████████████████▌  | 9.34400000000059/10 [41:07<02:56, 269.04s/it]"
     ]
    },
    {
     "name": "stdout",
     "output_type": "stream",
     "text": [
      "Train Epoch: 10 [9600/22400 (43%)]\tLoss: 0.015971\n",
      "Mem before-during-after: 21712384 21852160 21712384\n"
     ]
    },
    {
     "name": "stderr",
     "output_type": "stream",
     "text": [
      " 94%|██████████████████████████████████▋  | 9.36685714285771/10 [41:13<02:53, 273.72s/it]"
     ]
    },
    {
     "name": "stdout",
     "output_type": "stream",
     "text": [
      "Train Epoch: 10 [10240/22400 (46%)]\tLoss: 0.142926\n",
      "Mem before-during-after: 21712384 21852160 21712384\n"
     ]
    },
    {
     "name": "stderr",
     "output_type": "stream",
     "text": [
      " 94%|██████████████████████████████████▋  | 9.38971428571483/10 [41:20<02:43, 267.77s/it]"
     ]
    },
    {
     "name": "stdout",
     "output_type": "stream",
     "text": [
      "Train Epoch: 10 [10880/22400 (49%)]\tLoss: 0.569871\n",
      "Mem before-during-after: 21712384 21852160 21712384\n"
     ]
    },
    {
     "name": "stderr",
     "output_type": "stream",
     "text": [
      " 94%|██████████████████████████████████▊  | 9.41257142857195/10 [41:26<02:40, 272.62s/it]"
     ]
    },
    {
     "name": "stdout",
     "output_type": "stream",
     "text": [
      "Train Epoch: 10 [11520/22400 (51%)]\tLoss: 0.041456\n",
      "Mem before-during-after: 21712384 21852160 21712384\n"
     ]
    },
    {
     "name": "stderr",
     "output_type": "stream",
     "text": [
      " 94%|██████████████████████████████████▉  | 9.43542857142907/10 [41:32<02:32, 270.66s/it]"
     ]
    },
    {
     "name": "stdout",
     "output_type": "stream",
     "text": [
      "Train Epoch: 10 [12160/22400 (54%)]\tLoss: 0.081903\n",
      "Mem before-during-after: 21712384 21852160 21712384\n"
     ]
    },
    {
     "name": "stderr",
     "output_type": "stream",
     "text": [
      " 95%|██████████████████████████████████▉  | 9.45828571428619/10 [41:39<02:27, 272.05s/it]"
     ]
    },
    {
     "name": "stdout",
     "output_type": "stream",
     "text": [
      "Train Epoch: 10 [12800/22400 (57%)]\tLoss: 0.416531\n",
      "Mem before-during-after: 21712384 21852160 21712384\n"
     ]
    },
    {
     "name": "stderr",
     "output_type": "stream",
     "text": [
      " 95%|███████████████████████████████████  | 9.48114285714331/10 [41:45<02:17, 264.29s/it]"
     ]
    },
    {
     "name": "stdout",
     "output_type": "stream",
     "text": [
      "Train Epoch: 10 [13440/22400 (60%)]\tLoss: 0.248485\n",
      "Mem before-during-after: 21712384 21852160 21712384\n"
     ]
    },
    {
     "name": "stderr",
     "output_type": "stream",
     "text": [
      " 95%|███████████████████████████████████▏ | 9.50400000000043/10 [41:51<02:13, 268.90s/it]"
     ]
    },
    {
     "name": "stdout",
     "output_type": "stream",
     "text": [
      "Train Epoch: 10 [14080/22400 (63%)]\tLoss: 0.516436\n",
      "Mem before-during-after: 21712384 21852160 21712384\n"
     ]
    },
    {
     "name": "stderr",
     "output_type": "stream",
     "text": [
      " 95%|███████████████████████████████████▏ | 9.52685714285755/10 [41:58<02:07, 269.78s/it]"
     ]
    },
    {
     "name": "stdout",
     "output_type": "stream",
     "text": [
      "Train Epoch: 10 [14720/22400 (66%)]\tLoss: 0.201337\n",
      "Mem before-during-after: 21712384 21852160 21712384\n"
     ]
    },
    {
     "name": "stderr",
     "output_type": "stream",
     "text": [
      " 95%|███████████████████████████████████▎ | 9.54971428571467/10 [42:04<02:03, 273.92s/it]"
     ]
    },
    {
     "name": "stdout",
     "output_type": "stream",
     "text": [
      "Train Epoch: 10 [15360/22400 (69%)]\tLoss: 0.198253\n",
      "Mem before-during-after: 21712384 21852160 21712384\n"
     ]
    },
    {
     "name": "stderr",
     "output_type": "stream",
     "text": [
      " 96%|███████████████████████████████████▍ | 9.57257142857179/10 [42:10<01:56, 273.34s/it]"
     ]
    },
    {
     "name": "stdout",
     "output_type": "stream",
     "text": [
      "Train Epoch: 10 [16000/22400 (71%)]\tLoss: 0.976323\n",
      "Mem before-during-after: 21712384 21852160 21712384\n"
     ]
    },
    {
     "name": "stderr",
     "output_type": "stream",
     "text": [
      " 96%|███████████████████████████████████▌ | 9.59542857142891/10 [42:17<01:51, 275.58s/it]"
     ]
    },
    {
     "name": "stdout",
     "output_type": "stream",
     "text": [
      "Train Epoch: 10 [16640/22400 (74%)]\tLoss: 0.135422\n",
      "Mem before-during-after: 21712384 21852160 21712384\n"
     ]
    },
    {
     "name": "stderr",
     "output_type": "stream",
     "text": [
      " 96%|███████████████████████████████████▌ | 9.61828571428603/10 [42:23<01:54, 300.97s/it]"
     ]
    },
    {
     "name": "stdout",
     "output_type": "stream",
     "text": [
      "Train Epoch: 10 [17280/22400 (77%)]\tLoss: 0.099974\n",
      "Mem before-during-after: 21712384 21852160 21712384\n"
     ]
    },
    {
     "name": "stderr",
     "output_type": "stream",
     "text": [
      " 96%|███████████████████████████████████▋ | 9.64114285714315/10 [42:29<01:38, 273.84s/it]"
     ]
    },
    {
     "name": "stdout",
     "output_type": "stream",
     "text": [
      "Train Epoch: 10 [17920/22400 (80%)]\tLoss: 0.152494\n",
      "Mem before-during-after: 21712384 21852160 21712384\n"
     ]
    },
    {
     "name": "stderr",
     "output_type": "stream",
     "text": [
      " 97%|███████████████████████████████████▊ | 9.66400000000027/10 [42:36<01:38, 292.63s/it]"
     ]
    },
    {
     "name": "stdout",
     "output_type": "stream",
     "text": [
      "Train Epoch: 10 [18560/22400 (83%)]\tLoss: 0.184655\n",
      "Mem before-during-after: 21712384 21852160 21712384\n"
     ]
    },
    {
     "name": "stderr",
     "output_type": "stream",
     "text": [
      " 97%|███████████████████████████████████▊ | 9.68685714285739/10 [42:42<01:27, 280.21s/it]"
     ]
    },
    {
     "name": "stdout",
     "output_type": "stream",
     "text": [
      "Train Epoch: 10 [19200/22400 (86%)]\tLoss: 0.061498\n",
      "Mem before-during-after: 21712384 21852160 21712384\n"
     ]
    },
    {
     "name": "stderr",
     "output_type": "stream",
     "text": [
      " 97%|███████████████████████████████████▉ | 9.70971428571451/10 [42:48<01:20, 275.61s/it]"
     ]
    },
    {
     "name": "stdout",
     "output_type": "stream",
     "text": [
      "Train Epoch: 10 [19840/22400 (89%)]\tLoss: 0.513918\n",
      "Mem before-during-after: 21712384 21852160 21712384\n"
     ]
    },
    {
     "name": "stderr",
     "output_type": "stream",
     "text": [
      " 97%|████████████████████████████████████ | 9.73257142857163/10 [42:55<01:15, 282.01s/it]"
     ]
    },
    {
     "name": "stdout",
     "output_type": "stream",
     "text": [
      "Train Epoch: 10 [20480/22400 (91%)]\tLoss: 0.238477\n",
      "Mem before-during-after: 21712384 21852160 21712384\n"
     ]
    },
    {
     "name": "stderr",
     "output_type": "stream",
     "text": [
      " 98%|████████████████████████████████████ | 9.75542857142875/10 [43:01<01:08, 279.64s/it]"
     ]
    },
    {
     "name": "stdout",
     "output_type": "stream",
     "text": [
      "Train Epoch: 10 [21120/22400 (94%)]\tLoss: 0.312976\n",
      "Mem before-during-after: 21712384 21852160 21712384\n"
     ]
    },
    {
     "name": "stderr",
     "output_type": "stream",
     "text": [
      " 98%|████████████████████████████████████▏| 9.77828571428587/10 [43:07<01:00, 274.30s/it]"
     ]
    },
    {
     "name": "stdout",
     "output_type": "stream",
     "text": [
      "Train Epoch: 10 [21760/22400 (97%)]\tLoss: 0.809043\n",
      "Mem before-during-after: 21712384 21852160 21712384\n"
     ]
    },
    {
     "name": "stderr",
     "output_type": "stream",
     "text": [
      "100%|███████████████████████████████████▉| 9.999999999999934/10 [44:08<00:00, 264.85s/it]"
     ]
    },
    {
     "name": "stdout",
     "output_type": "stream",
     "text": [
      "\n",
      "Test Epoch: 10\tAccuracy: 4988/5600 (89%)\n",
      "\n"
     ]
    },
    {
     "name": "stderr",
     "output_type": "stream",
     "text": [
      "\n"
     ]
    }
   ],
   "source": [
    "log_interval = 40\n",
    "pbar_update = 1 / (len(train_loader) + len(test_loader))\n",
    "model.to(device)\n",
    "with tqdm(total=n_epoch) as pbar:\n",
    "    for epoch in range(1, n_epoch + 1):\n",
    "        train(model, epoch, log_interval, train_losses)\n",
    "        acc = test(model, epoch)\n",
    "        test_accuracy += [acc]\n",
    "        scheduler.step()"
   ]
  },
  {
   "cell_type": "code",
   "execution_count": 14,
   "id": "1da212d1-afc7-40d0-9ed1-84f53e34046d",
   "metadata": {},
   "outputs": [
    {
     "data": {
      "text/plain": [
       "[<matplotlib.lines.Line2D at 0x7f82d3e38070>]"
      ]
     },
     "execution_count": 14,
     "metadata": {},
     "output_type": "execute_result"
    },
    {
     "data": {
      "image/png": "[encoded data removed]",
      "text/plain": [
       "<Figure size 640x480 with 1 Axes>"
      ]
     },
     "metadata": {},
     "output_type": "display_data"
    }
   ],
   "source": [
    "plt.plot(train_losses)"
   ]
  },
  {
   "cell_type": "code",
   "execution_count": 15,
   "id": "4b7da3dd-0a9a-444f-84f7-4844cd316ca3",
   "metadata": {},
   "outputs": [
    {
     "data": {
      "text/plain": [
       "[<matplotlib.lines.Line2D at 0x7f82d07ab3a0>]"
      ]
     },
     "execution_count": 15,
     "metadata": {},
     "output_type": "execute_result"
    },
    {
     "data": {
      "image/png": "[encoded data removed]",
      "text/plain": [
       "<Figure size 640x480 with 1 Axes>"
      ]
     },
     "metadata": {},
     "output_type": "display_data"
    }
   ],
   "source": [
    "plt.plot(test_accuracy)"
   ]
  },
  {
   "cell_type": "code",
   "execution_count": 16,
   "id": "e9382b76-4ccb-4005-a2f5-7d8ff97f2362",
   "metadata": {},
   "outputs": [],
   "source": [
    "from torchmetrics.classification import (\n",
    "    MulticlassAccuracy, MulticlassPrecision, \n",
    "    MulticlassRecall, MulticlassF1Score, \n",
    "    MulticlassConfusionMatrix,\n",
    "    MulticlassAUROC\n",
    ")\n",
    "from torchmetrics import MetricCollection\n",
    "from pprint import pprint\n",
    "\n",
    "@torch.no_grad\n",
    "def report_metrics(model, labels=labels, \n",
    "                   test_loader=test_loader, device=device):\n",
    "    n = len(labels)\n",
    "    metrics = MetricCollection({\n",
    "        'acc_unweighted': MulticlassAccuracy(num_classes=n, average='macro'), \n",
    "        'acc_weighted': MulticlassAccuracy(num_classes=n, average='weighted'), \n",
    "        \n",
    "        'f1s_unweighted': MulticlassF1Score(num_classes=n, average='macro'),  \n",
    "        'f1s_weighted': MulticlassF1Score(num_classes=n, average='weighted'),  \n",
    "\n",
    "        'acc_weighted': MulticlassAccuracy(num_classes=n, average='weighted'), \n",
    "        'uar': MulticlassRecall(num_classes=n, average='macro'), \n",
    "        'wap': MulticlassPrecision(num_classes=n, average='weighted'),\n",
    "        'rocauc': MulticlassAUROC(num_classes=n, average='macro', thresholds=None),    \n",
    "        'f1s_detail': MulticlassF1Score(num_classes=n, average=None),  \n",
    "        'acc_detail': MulticlassAccuracy(num_classes=n, average=None), \n",
    "        'precision_detail': MulticlassPrecision(num_classes=n, average=None),\n",
    "        'recall_detail': MulticlassRecall(num_classes=n, average=None), \n",
    "        'rocauc_detail': MulticlassAUROC(num_classes=n, average=None, thresholds=None),\n",
    "    }).to(device)\n",
    "    confusion_matrix = MulticlassConfusionMatrix(num_classes=n).to(device)\n",
    "    model.eval()\n",
    "    correct = 0\n",
    "    total = 0\n",
    "    for data, target in test_loader:\n",
    "        total += len(target)\n",
    "        \n",
    "        data = data.to(device)\n",
    "        target = target.to(device)\n",
    "        output = model(data).squeeze()\n",
    "        del data\n",
    "        gc.collect()\n",
    "        torch.cuda.empty_cache()\n",
    "        probs = F.softmax(output, dim=-1)\n",
    "        pred = probs.argmax(dim=-1)\n",
    "        correct += pred.eq(target).sum().item()\n",
    "        \n",
    "        metrics.update(probs, target)\n",
    "        confusion_matrix.update(pred, target)\n",
    "        \n",
    "        del target\n",
    "        gc.collect()\n",
    "        torch.cuda.empty_cache()\n",
    "        pbar.update(pbar_update)\n",
    "    print(f'Correct: {correct}/{total} ({correct/total:.4f})')\n",
    "    return metrics, confusion_matrix"
   ]
  },
  {
   "cell_type": "code",
   "execution_count": 17,
   "id": "adf9b4ae-6f94-475f-b557-abc9fec66f42",
   "metadata": {},
   "outputs": [
    {
     "name": "stdout",
     "output_type": "stream",
     "text": [
      "Correct: 4988/5600 (0.8907)\n",
      "{'acc_detail': tensor([0.7936, 0.9321, 0.8900, 0.9471], device='cuda:0'),\n",
      " 'acc_unweighted': tensor(0.8907, device='cuda:0'),\n",
      " 'acc_weighted': tensor(0.8907, device='cuda:0'),\n",
      " 'f1s_detail': tensor([0.8452, 0.9252, 0.9305, 0.8633], device='cuda:0'),\n",
      " 'f1s_unweighted': tensor(0.8911, device='cuda:0'),\n",
      " 'f1s_weighted': tensor(0.8911, device='cuda:0'),\n",
      " 'precision_detail': tensor([0.9040, 0.9184, 0.9750, 0.7931], device='cuda:0'),\n",
      " 'recall_detail': tensor([0.7936, 0.9321, 0.8900, 0.9471], device='cuda:0'),\n",
      " 'rocauc': tensor(0.9861, device='cuda:0'),\n",
      " 'rocauc_detail': tensor([0.9753, 0.9922, 0.9942, 0.9825], device='cuda:0'),\n",
      " 'uar': tensor(0.8907, device='cuda:0'),\n",
      " 'wap': tensor(0.8976, device='cuda:0')}\n"
     ]
    },
    {
     "data": {
      "text/plain": [
       "tensor([[1111,   31,    9,  249],\n",
       "        [  31, 1305,   19,   45],\n",
       "        [  41,   61, 1246,   52],\n",
       "        [  46,   24,    4, 1326]], device='cuda:0')"
      ]
     },
     "execution_count": 17,
     "metadata": {},
     "output_type": "execute_result"
    }
   ],
   "source": [
    "metrics, confusion_matrix = report_metrics(\n",
    "    model, labels=labels, device=device)\n",
    "pprint(metrics.compute())\n",
    "confusion_matrix.compute()"
   ]
  },
  {
   "cell_type": "code",
   "execution_count": 18,
   "id": "bb112e39-8c3a-467b-a7bc-7b116e91e5e1",
   "metadata": {},
   "outputs": [],
   "source": [
    "model_path = '../models_esd4/esd4_m13mfcc_10epochs.pt' \n",
    "torch.save(model.state_dict(), model_path)"
   ]
  },
  {
   "cell_type": "code",
   "execution_count": null,
   "id": "f00108b7-528f-421d-966b-a5399ae7807c",
   "metadata": {
    "scrolled": true
   },
   "outputs": [],
   "source": [
    "n_epoch = 10\n",
    "n_epoch2 = 50\n",
    "\n",
    "best_accuracy = test_accuracy[-1]\n",
    "best_epoch = n_epoch\n",
    "model_path_prefix = '../models_esd4/esd4_m13mfcc128_best_'\n",
    "\n",
    "optimizer = optim.RAdam(model.parameters(), lr=0.0001)\n",
    "scheduler = optim.lr_scheduler.OneCycleLR(\n",
    "    optimizer, max_lr=0.01,\n",
    "    steps_per_epoch=len(train_loader), epochs=n_epoch2)\n",
    "log_interval = 40\n",
    "pbar_update = 1 / (len(train_loader) + len(test_loader))\n",
    "# model.to(device)\n",
    "with tqdm(total=n_epoch2) as pbar:\n",
    "    for epoch in range(1+n_epoch, n_epoch2 + n_epoch + 1):\n",
    "        train(model, epoch, log_interval, train_losses)\n",
    "        acc = test(model, epoch)\n",
    "        test_accuracy += [acc]\n",
    "        if acc > best_accuracy:\n",
    "            best_accuracy = acc\n",
    "            best_epoch = epoch\n",
    "            bmodel_path = f'{model_path_prefix}{epoch}epoch.pt'\n",
    "            torch.save(model.state_dict(), bmodel_path)\n",
    "            print(f'saved model: {bmodel_path}')\n",
    "        scheduler.step()"
   ]
  },
  {
   "cell_type": "code",
   "execution_count": null,
   "id": "98cd3ae7-f556-47c6-aed8-3da6e86b03a0",
   "metadata": {},
   "outputs": [],
   "source": [
    "plt.plot(train_losses)"
   ]
  },
  {
   "cell_type": "code",
   "execution_count": null,
   "id": "16dc50c4-89e3-4fc6-9be5-d854381a8f55",
   "metadata": {},
   "outputs": [],
   "source": [
    "plt.plot(test_accuracy)"
   ]
  },
  {
   "cell_type": "code",
   "execution_count": null,
   "id": "284e602e-2806-46a3-bb2f-0de430912a0c",
   "metadata": {},
   "outputs": [],
   "source": [
    "metrics2, confusion_matrix2 = report_metrics(\n",
    "    model, labels=labels, device=device)\n",
    "pprint(metrics2.compute())\n",
    "confusion_matrix2.compute()"
   ]
  },
  {
   "cell_type": "code",
   "execution_count": null,
   "id": "06328264-8cb5-490f-9577-854e116d9863",
   "metadata": {},
   "outputs": [],
   "source": [
    "model.to('cpu')\n",
    "best_model_path = f'{model_path_prefix}{best_epoch}epoch.pt'\n",
    "print(best_model_path)\n",
    "best_model = M13(config=model_config,\n",
    "           n_input=1, n_output=len(labels))\n",
    "best_model.load_state_dict(torch.load(best_model_path))\n",
    "best_model.to(device)\n",
    "\n",
    "metrics_best, confusion_matrix_best = report_metrics(\n",
    "    best_model, labels=labels, device=device)\n",
    "best_model.to('cpu')\n",
    "pprint(metrics_best.compute())\n",
    "confusion_matrix_best.compute()"
   ]
  },
  {
   "cell_type": "code",
   "execution_count": 26,
   "id": "2fcae9af-dc12-4855-baf6-0788161ad443",
   "metadata": {},
   "outputs": [],
   "source": [
    "checkpoint_path = f'../models_esd4/esd4_m13mfcc128_{epoch}epoch.ckpt'\n",
    "torch.save({\n",
    "    'epoch': epoch,\n",
    "    'model_state_dict': model.state_dict(),\n",
    "    'optimizer_state_dict': optimizer.state_dict(),\n",
    "    'loss': train_losses[-1],\n",
    "    'best_epoch': best_epoch,\n",
    "    'best_accuracy': best_accuracy,\n",
    "    'train_losses': train_losses,\n",
    "    'test_accuracy': test_accuracy,\n",
    "    'log_interval': log_interval,\n",
    "    }, checkpoint_path)"
   ]
  },
  {
   "cell_type": "code",
   "execution_count": null,
   "id": "a7400fd3-a858-4ea4-9425-384e0e1a493f",
   "metadata": {
    "scrolled": true
   },
   "outputs": [],
   "source": [
    "n_epoch = 10\n",
    "n_epoch2 = 50\n",
    "n_epoch3 = 40\n",
    "\n",
    "optimizer = optim.RAdam(model.parameters(), lr=0.00001)\n",
    "scheduler = optim.lr_scheduler.OneCycleLR(\n",
    "    optimizer, max_lr=0.02, pct_start=0.3,\n",
    "    steps_per_epoch=len(train_loader), epochs=n_epoch3)\n",
    "log_interval = 40\n",
    "pbar_update = 1 / (len(train_loader) + len(test_loader))\n",
    "model.to(device)\n",
    "with tqdm(total=n_epoch3) as pbar:\n",
    "    for epoch in range(1+n_epoch+n_epoch2, n_epoch3+n_epoch2 + n_epoch + 1):\n",
    "        train(model, epoch, log_interval, train_losses)\n",
    "        acc = test(model, epoch)\n",
    "        test_accuracy += [acc]\n",
    "        if acc > best_accuracy:\n",
    "            best_accuracy = acc\n",
    "            best_epoch = epoch\n",
    "            bmodel_path = f'{model_path_prefix}{epoch}epoch.pt'\n",
    "            torch.save(model.state_dict(), bmodel_path)\n",
    "            print(f'saved model: {bmodel_path}')\n",
    "        scheduler.step()"
   ]
  },
  {
   "cell_type": "code",
   "execution_count": null,
   "id": "e9a38920-d2eb-4cd4-a422-7a438fd86204",
   "metadata": {},
   "outputs": [],
   "source": [
    "plt.plot(train_losses)"
   ]
  },
  {
   "cell_type": "code",
   "execution_count": null,
   "id": "62f51495-7c32-4a72-b72d-3a648f214a3d",
   "metadata": {},
   "outputs": [],
   "source": [
    "plt.plot(test_accuracy)"
   ]
  },
  {
   "cell_type": "code",
   "execution_count": null,
   "id": "e66aadf3-1ca0-4e4a-8195-6a65656fcd74",
   "metadata": {},
   "outputs": [],
   "source": [
    "model.to('cpu')\n",
    "best_model_path = f'{model_path_prefix}{best_epoch}epoch.pt'\n",
    "print(best_model_path)\n",
    "best_model = M13(config=model_config,\n",
    "           n_input=1, n_output=len(labels))\n",
    "best_model.load_state_dict(torch.load(best_model_path))\n",
    "best_model.to(device)\n",
    "\n",
    "metrics_best, confusion_matrix_best = report_metrics(\n",
    "    best_model, labels=labels, device=device)\n",
    "best_model.to('cpu')\n",
    "pprint(metrics_best.compute())\n",
    "confusion_matrix_best.compute()"
   ]
  },
  {
   "cell_type": "code",
   "execution_count": null,
   "id": "b9e22b1b-0343-42c6-8c40-4636a533360d",
   "metadata": {},
   "outputs": [],
   "source": [
    "from IConNet.visualizer import visualize_model\n",
    "\n",
    "layer = best_model.fe_blocks.blocks[0].block.layer\n",
    "\n",
    "filtviz = visualize_model.FilterVisualizer(\n",
    "    lowcut_bands = layer.lowcut_bands, \n",
    "    bandwidths = layer.bandwidths,\n",
    "    window_params = layer.window_params, \n",
    "    window_length = 64,\n",
    "    sample_rate = sr\n",
    ")\n",
    "filtviz.visualize_filters(filter_domain='time')"
   ]
  },
  {
   "cell_type": "code",
   "execution_count": null,
   "id": "76a88516-b362-43f0-9c88-24c9cfdbe2cf",
   "metadata": {},
   "outputs": [],
   "source": [
    "filtviz.visualize_filters(filter_domain='freq')"
   ]
  },
  {
   "cell_type": "code",
   "execution_count": null,
   "id": "c9ced314-af89-4218-b2fc-606fb47526a2",
   "metadata": {},
   "outputs": [],
   "source": [
    "filtviz.visualize_one_window(n_out=10)"
   ]
  },
  {
   "cell_type": "code",
   "execution_count": null,
   "id": "fe6484d2-5790-4181-a2bc-b99e767c1c11",
   "metadata": {},
   "outputs": [],
   "source": [
    "filtviz.visualize_one_window(n_out=50)"
   ]
  },
  {
   "cell_type": "code",
   "execution_count": null,
   "id": "bdc85027-c6c1-42d0-b107-13ff23aa21db",
   "metadata": {},
   "outputs": [],
   "source": [
    "filtviz.visualize_window_params()"
   ]
  },
  {
   "cell_type": "code",
   "execution_count": null,
   "id": "eb6b82b2-0fd6-4144-8bd7-1377966a758e",
   "metadata": {},
   "outputs": [],
   "source": [
    "n_epoch = 10\n",
    "n_epoch2 = 50\n",
    "n_epoch3 = 40\n",
    "n_epoch4 = 50\n",
    "\n",
    "optimizer = optim.RAdam(model.parameters(), lr=0.000005)\n",
    "scheduler = optim.lr_scheduler.OneCycleLR(\n",
    "    optimizer, max_lr=0.01, pct_start=0.3,\n",
    "    steps_per_epoch=len(train_loader), epochs=n_epoch4)\n",
    "log_interval = 40\n",
    "pbar_update = 1 / (len(train_loader) + len(test_loader))\n",
    "model.to(device)\n",
    "with tqdm(total=n_epoch4) as pbar:\n",
    "    for epoch in range(1+n_epoch+n_epoch2+n_epoch3, n_epoch4+n_epoch3+n_epoch2 + n_epoch + 1):\n",
    "        train(model, epoch, log_interval, train_losses)\n",
    "        acc = test(model, epoch)\n",
    "        test_accuracy += [acc]\n",
    "        if acc > best_accuracy:\n",
    "            best_accuracy = acc\n",
    "            best_epoch = epoch\n",
    "            bmodel_path = f'{model_path_prefix}{epoch}epoch.pt'\n",
    "            torch.save(model.state_dict(), bmodel_path)\n",
    "            print(f'saved model: {bmodel_path}')\n",
    "        scheduler.step()"
   ]
  },
  {
   "cell_type": "code",
   "execution_count": null,
   "id": "bab57490-9b36-4790-ac0a-26a68b9dc09d",
   "metadata": {},
   "outputs": [],
   "source": [
    "plt.plot(train_losses)"
   ]
  },
  {
   "cell_type": "code",
   "execution_count": null,
   "id": "f6c9fe36-115a-4188-a210-d8027c41c716",
   "metadata": {},
   "outputs": [],
   "source": [
    "plt.plot(test_accuracy)"
   ]
  },
  {
   "cell_type": "code",
   "execution_count": null,
   "id": "9143bab5-394f-4003-a9dd-87c459a02ade",
   "metadata": {},
   "outputs": [],
   "source": [
    "model.to('cpu')\n",
    "best_model_path = f'{model_path_prefix}{best_epoch}epoch.pt'\n",
    "print(best_model_path)\n",
    "best_model = M13(config=model_config,\n",
    "           n_input=1, n_output=len(labels))\n",
    "best_model.load_state_dict(torch.load(best_model_path))\n",
    "best_model.to(device)\n",
    "\n",
    "metrics_best, confusion_matrix_best = report_metrics(\n",
    "    best_model, labels=labels, device=device)\n",
    "best_model.to('cpu')\n",
    "pprint(metrics_best.compute())\n",
    "confusion_matrix_best.compute()"
   ]
  },
  {
   "cell_type": "code",
   "execution_count": null,
   "id": "b3956041-12ab-4473-b9bc-37bd8b136591",
   "metadata": {},
   "outputs": [],
   "source": [
    "checkpoint_path = f'../models_esd4/esd4_m13mfcc128_{epoch}epoch.ckpt'\n",
    "torch.save({\n",
    "    'epoch': epoch,\n",
    "    'model_state_dict': model.state_dict(),\n",
    "    'optimizer_state_dict': optimizer.state_dict(),\n",
    "    'loss': train_losses[-1],\n",
    "    'best_epoch': best_epoch,\n",
    "    'best_accuracy': best_accuracy,\n",
    "    'train_losses': train_losses,\n",
    "    'test_accuracy': test_accuracy,\n",
    "    'log_interval': log_interval,\n",
    "    }, checkpoint_path)"
   ]
  },
  {
   "cell_type": "code",
   "execution_count": null,
   "id": "d5f1da12-4530-483e-84cb-21f85a6e01d3",
   "metadata": {},
   "outputs": [],
   "source": [
    "start_epoch = 151\n",
    "n_epoch = 50\n",
    "\n",
    "optimizer = optim.RAdam(model.parameters(), lr=0.000002)\n",
    "scheduler = optim.lr_scheduler.OneCycleLR(\n",
    "    optimizer, max_lr=0.01, pct_start=0.3,\n",
    "    steps_per_epoch=len(train_loader), epochs=n_epoch)\n",
    "log_interval = 40\n",
    "pbar_update = 1 / (len(train_loader) + len(test_loader))\n",
    "model.to(device)\n",
    "with tqdm(total=n_epoch) as pbar:\n",
    "    for epoch in range(start_epoch, start_epoch+n_epoch):\n",
    "        train(model, epoch, log_interval, train_losses)\n",
    "        acc = test(model, epoch)\n",
    "        test_accuracy += [acc]\n",
    "        if acc > best_accuracy:\n",
    "            best_accuracy = acc\n",
    "            best_epoch = epoch\n",
    "            bmodel_path = f'{model_path_prefix}{epoch}epoch.pt'\n",
    "            torch.save(model.state_dict(), bmodel_path)\n",
    "            print(f'saved model: {bmodel_path}')\n",
    "        scheduler.step()"
   ]
  },
  {
   "cell_type": "code",
   "execution_count": null,
   "id": "38c42227-7b29-414f-95fd-8b0a9e36153f",
   "metadata": {},
   "outputs": [],
   "source": [
    "plt.plot(train_losses)"
   ]
  },
  {
   "cell_type": "code",
   "execution_count": null,
   "id": "adb82fb0-daa7-417e-bf01-18c08cb7b281",
   "metadata": {},
   "outputs": [],
   "source": [
    "plt.plot(test_accuracy)"
   ]
  },
  {
   "cell_type": "code",
   "execution_count": null,
   "id": "52fb2b18-5064-488e-87d4-81ddb3f953ce",
   "metadata": {},
   "outputs": [],
   "source": [
    "metrics3, confusion_matrix3 = report_metrics(\n",
    "    model, labels=labels, device=device)\n",
    "pprint(metrics3.compute())\n",
    "confusion_matrix3.compute()"
   ]
  },
  {
   "cell_type": "code",
   "execution_count": null,
   "id": "0bb5790a-6788-4baa-b1b6-241d7bec26ab",
   "metadata": {},
   "outputs": [],
   "source": [
    "checkpoint_path = f'../models_esd4/esd4_m13ser_{epoch}epoch.ckpt'\n",
    "torch.save({\n",
    "    'epoch': epoch,\n",
    "    'model_state_dict': model.state_dict(),\n",
    "    'optimizer_state_dict': optimizer.state_dict(),\n",
    "    'loss': train_losses[-1],\n",
    "    'best_epoch': best_epoch,\n",
    "    'best_accuracy': best_accuracy,\n",
    "    'train_losses': train_losses,\n",
    "    'test_accuracy': test_accuracy,\n",
    "    'log_interval': log_interval,\n",
    "    }, checkpoint_path)"
   ]
  },
  {
   "cell_type": "code",
   "execution_count": null,
   "id": "a2c556d9-7220-4a3c-a4a3-694d58d67eeb",
   "metadata": {},
   "outputs": [],
   "source": [
    "start_epoch = 201\n",
    "n_epoch = 300\n",
    "\n",
    "optimizer = optim.RAdam(model.parameters(), lr=0.000001)\n",
    "scheduler = optim.lr_scheduler.OneCycleLR(\n",
    "    optimizer, max_lr=0.005, pct_start=0.3,\n",
    "    steps_per_epoch=len(train_loader), epochs=n_epoch)\n",
    "log_interval = 40\n",
    "pbar_update = 1 / (len(train_loader) + len(test_loader))\n",
    "model.to(device)\n",
    "with tqdm(total=n_epoch) as pbar:\n",
    "    for epoch in range(start_epoch, start_epoch+n_epoch):\n",
    "        train(model, epoch, log_interval, train_losses)\n",
    "        acc = test(model, epoch)\n",
    "        test_accuracy += [acc]\n",
    "        if acc > best_accuracy:\n",
    "            best_accuracy = acc\n",
    "            best_epoch = epoch\n",
    "            bmodel_path = f'{model_path_prefix}{epoch}epoch.pt'\n",
    "            torch.save(model.state_dict(), bmodel_path)\n",
    "            print(f'saved model: {bmodel_path}')\n",
    "        scheduler.step()"
   ]
  },
  {
   "cell_type": "code",
   "execution_count": null,
   "id": "0a04695b-2ce6-464a-9d6b-5d25140f6b8d",
   "metadata": {},
   "outputs": [],
   "source": [
    "plt.plot(train_losses)"
   ]
  },
  {
   "cell_type": "code",
   "execution_count": null,
   "id": "68ba101e-ff9e-4ac6-a798-b201177bdd31",
   "metadata": {},
   "outputs": [],
   "source": [
    "plt.plot(test_accuracy)"
   ]
  },
  {
   "cell_type": "code",
   "execution_count": null,
   "id": "42b0cae7-3b15-42b0-a812-abba7f6162ff",
   "metadata": {},
   "outputs": [],
   "source": [
    "model.to('cpu')\n",
    "best_model_path = f'{model_path_prefix}{best_epoch}epoch.pt'\n",
    "print(best_model_path)\n",
    "best_model = M13(config=model_config,\n",
    "           n_input=1, n_output=len(labels))\n",
    "best_model.load_state_dict(torch.load(best_model_path))\n",
    "best_model.to(device)\n",
    "\n",
    "metrics_best, confusion_matrix_best = report_metrics(\n",
    "    best_model, labels=labels, device=device)\n",
    "best_model.to('cpu')\n",
    "pprint(metrics_best.compute())\n",
    "confusion_matrix_best.compute()"
   ]
  },
  {
   "cell_type": "code",
   "execution_count": null,
   "id": "b865aeaf-75b3-4390-8a16-ef64bafe08f0",
   "metadata": {},
   "outputs": [],
   "source": [
    "checkpoint_path = f'../models_esd4/esd4_m13mfcc128_{epoch}epoch.ckpt'\n",
    "torch.save({\n",
    "    'epoch': epoch,\n",
    "    'model_state_dict': model.state_dict(),\n",
    "    'optimizer_state_dict': optimizer.state_dict(),\n",
    "    'loss': train_losses[-1],\n",
    "    'best_epoch': best_epoch,\n",
    "    'best_accuracy': best_accuracy,\n",
    "    'train_losses': train_losses,\n",
    "    'test_accuracy': test_accuracy,\n",
    "    'log_interval': log_interval,\n",
    "    }, checkpoint_path)"
   ]
  },
  {
   "cell_type": "code",
   "execution_count": null,
   "id": "d8e65aec-30b9-41c0-82f1-f7420fb7628b",
   "metadata": {},
   "outputs": [],
   "source": []
  }
 ],
 "metadata": {
  "kernelspec": {
   "display_name": "Python 3 (ipykernel)",
   "language": "python",
   "name": "python3"
  },
  "language_info": {
   "codemirror_mode": {
    "name": "ipython",
    "version": 3
   },
   "file_extension": ".py",
   "mimetype": "text/x-python",
   "name": "python",
   "nbconvert_exporter": "python",
   "pygments_lexer": "ipython3",
   "version": "3.9.18"
  }
 },
 "nbformat": 4,
 "nbformat_minor": 5
}
