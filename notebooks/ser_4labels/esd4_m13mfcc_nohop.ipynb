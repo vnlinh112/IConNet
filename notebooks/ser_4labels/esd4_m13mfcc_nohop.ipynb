{
 "cells": [
  {
   "cell_type": "code",
   "execution_count": 1,
   "id": "369f8a59-d3cc-45b7-bbe6-64fa252b9810",
   "metadata": {},
   "outputs": [
    {
     "name": "stdout",
     "output_type": "stream",
     "text": [
      "Fri Mar  1 13:46:36 2024       \n",
      "+---------------------------------------------------------------------------------------+\n",
      "| NVIDIA-SMI 545.23.08              Driver Version: 545.23.08    CUDA Version: 12.3     |\n",
      "|-----------------------------------------+----------------------+----------------------+\n",
      "| GPU  Name                 Persistence-M | Bus-Id        Disp.A | Volatile Uncorr. ECC |\n",
      "| Fan  Temp   Perf          Pwr:Usage/Cap |         Memory-Usage | GPU-Util  Compute M. |\n",
      "|                                         |                      |               MIG M. |\n",
      "|=========================================+======================+======================|\n",
      "|   0  NVIDIA GeForce RTX 2080        On  | 00000000:01:00.0  On |                  N/A |\n",
      "| 32%   29C    P8              22W / 215W |    322MiB /  8192MiB |      3%      Default |\n",
      "|                                         |                      |                  N/A |\n",
      "+-----------------------------------------+----------------------+----------------------+\n",
      "                                                                                         \n",
      "+---------------------------------------------------------------------------------------+\n",
      "| Processes:                                                                            |\n",
      "|  GPU   GI   CI        PID   Type   Process name                            GPU Memory |\n",
      "|        ID   ID                                                             Usage      |\n",
      "|=======================================================================================|\n",
      "|    0   N/A  N/A   3983703      G   /usr/lib/xorg/Xorg                          167MiB |\n",
      "|    0   N/A  N/A   3983842      G   /usr/bin/gnome-shell                         35MiB |\n",
      "|    0   N/A  N/A   3990989      G   ...seed-version=20240229-080131.021000       51MiB |\n",
      "|    0   N/A  N/A   3991805      G   ...sion,SpareRendererForSitePerProcess       64MiB |\n",
      "+---------------------------------------------------------------------------------------+\n"
     ]
    }
   ],
   "source": [
    "!nvidia-smi"
   ]
  },
  {
   "cell_type": "code",
   "execution_count": 2,
   "id": "081efcc4-6f8b-4a3c-aa42-098bae7af9e2",
   "metadata": {},
   "outputs": [],
   "source": [
    "%load_ext autoreload\n",
    "%autoreload 2"
   ]
  },
  {
   "cell_type": "code",
   "execution_count": 3,
   "id": "38156aa5-ac38-4485-bc1a-1dae6d25f12e",
   "metadata": {},
   "outputs": [
    {
     "data": {
      "text/plain": [
       "'/home/linh/projects/IConNet'"
      ]
     },
     "execution_count": 3,
     "metadata": {},
     "output_type": "execute_result"
    }
   ],
   "source": [
    "import os\n",
    "os.chdir('..')\n",
    "os.getcwd()"
   ]
  },
  {
   "cell_type": "code",
   "execution_count": 4,
   "id": "7d12836d-0cc1-420a-b29c-31b7950d4d74",
   "metadata": {},
   "outputs": [
    {
     "name": "stdout",
     "output_type": "stream",
     "text": [
      "cuda\n"
     ]
    }
   ],
   "source": [
    "os.environ[\"PYTORCH_CUDA_ALLOC_CONF\"] = \"max_split_size_mb:512\"\n",
    "import gc\n",
    "import torch\n",
    "import torch.nn as nn\n",
    "import torch.nn.functional as F\n",
    "import torch.optim as optim\n",
    "import sys\n",
    "device = torch.device(\"cuda\" if torch.cuda.is_available() else \"cpu\")\n",
    "print(device)"
   ]
  },
  {
   "cell_type": "code",
   "execution_count": 5,
   "id": "0b123705-8e87-4e02-bda0-f82a298edb73",
   "metadata": {},
   "outputs": [],
   "source": [
    "import numpy as np\n",
    "from tqdm import tqdm\n",
    "import matplotlib.pyplot as plt\n",
    "from sklearn.model_selection import train_test_split\n",
    "\n",
    "import warnings\n",
    "warnings.filterwarnings('ignore', category=FutureWarning)"
   ]
  },
  {
   "cell_type": "code",
   "execution_count": 6,
   "id": "e8a982c8-8a83-4092-94b7-07170f4a9950",
   "metadata": {},
   "outputs": [],
   "source": [
    "data_dir = '../data/data_preprocessed/esd/features_4balanced/'\n",
    "\n",
    "sr = 16000\n",
    "\n",
    "data_x = np.load(f'{data_dir}esd.audio16k.npy', \n",
    "                 allow_pickle=True)\n",
    "data_y = np.load(f'{data_dir}esd.label_emotion.npy', \n",
    "                 allow_pickle=True)"
   ]
  },
  {
   "cell_type": "code",
   "execution_count": 7,
   "id": "324169be-2f5d-4740-aa48-9f6a06050401",
   "metadata": {},
   "outputs": [
    {
     "name": "stdout",
     "output_type": "stream",
     "text": [
      "Train: 22400\n",
      "Test: 5600\n"
     ]
    }
   ],
   "source": [
    "x_train, x_test, y_train, y_test = train_test_split(\n",
    "    data_x, data_y, test_size=0.2, \n",
    "    random_state=42, stratify=data_y)\n",
    "print(\"Train: %i\" % len(x_train))\n",
    "print(\"Test: %i\" % len(x_test))"
   ]
  },
  {
   "cell_type": "code",
   "execution_count": 8,
   "id": "2d05e4e3-7a03-4f74-bc67-2551e0b1767c",
   "metadata": {},
   "outputs": [],
   "source": [
    "train_set = list(zip(x_train, y_train))\n",
    "test_set = list(zip(x_test, y_test))"
   ]
  },
  {
   "cell_type": "code",
   "execution_count": 9,
   "id": "f0081d3b-427a-4e12-bb60-2c31e291c09c",
   "metadata": {},
   "outputs": [],
   "source": [
    "labels = ['ang', 'neu', 'sad', 'hap']\n",
    "def label_to_index(word):\n",
    "    return labels.index(word[:3])\n",
    "\n",
    "def pad_sequence(batch):\n",
    "    # Make all tensor in a batch the same length by padding with zeros\n",
    "    batch = [item.t() for item in batch]\n",
    "    batch = torch.nn.utils.rnn.pad_sequence(\n",
    "        batch, batch_first=True, padding_value=0.)\n",
    "    return batch.permute(0, 2, 1)\n",
    "\n",
    "\n",
    "def collate_fn(batch, max_duration_in_second=4, sample_rate=sr):\n",
    "    tensors, targets = [], []\n",
    "\n",
    "    # Gather in lists, and encode labels as indices\n",
    "    for waveform, label in batch:\n",
    "        if max_duration_in_second is not None:\n",
    "            length = len(waveform)\n",
    "            max_length = sample_rate * max_duration_in_second\n",
    "            offset = max(0, (length - max_length) // 2)\n",
    "            waveform = waveform[offset: length-offset]\n",
    "        tensors += [torch.tensor(\n",
    "            np.array(waveform, dtype=float), \n",
    "            dtype=torch.float32)[None,:]]\n",
    "        targets += [torch.tensor(label_to_index(label), \n",
    "                                 dtype=torch.long)]\n",
    "\n",
    "    # Group the list of tensors into a batched tensor\n",
    "    tensors = pad_sequence(tensors)\n",
    "    targets = torch.stack(targets)\n",
    "\n",
    "    return tensors, targets\n",
    "\n",
    "batch_size = 16\n",
    "\n",
    "if device == \"cuda\":\n",
    "    num_workers = 1\n",
    "    pin_memory = True\n",
    "else:\n",
    "    num_workers = 0\n",
    "    pin_memory = False\n",
    "\n",
    "train_loader = torch.utils.data.DataLoader(\n",
    "    train_set,\n",
    "    batch_size=batch_size,\n",
    "    shuffle=True,\n",
    "    collate_fn=collate_fn,\n",
    "    num_workers=num_workers,\n",
    "    pin_memory=pin_memory, \n",
    "    drop_last=True\n",
    ")\n",
    "test_loader = torch.utils.data.DataLoader(\n",
    "    test_set,\n",
    "    batch_size=batch_size,\n",
    "    shuffle=False,\n",
    "    drop_last=True,\n",
    "    collate_fn=collate_fn,\n",
    "    num_workers=num_workers,\n",
    "    pin_memory=pin_memory\n",
    ")"
   ]
  },
  {
   "cell_type": "code",
   "execution_count": 10,
   "id": "7df1b402-569d-4f81-9a55-a1ed9219f659",
   "metadata": {},
   "outputs": [
    {
     "name": "stdout",
     "output_type": "stream",
     "text": [
      "{'name': 'M13mfcc', 'description': 'FirConv with fftconv', 'mfcc': {'n_mfcc': 40, 'n_fft': 512, 'hop_length': 128, 'n_mels': 64, 'sample_rate': 16000}, 'pooling': 'mean', 'cls': {'n_block': 2, 'n_hidden_dim': [512, 512], 'norm_type': 'LayerNorm'}}\n"
     ]
    },
    {
     "data": {
      "text/plain": [
       "M13mfcc(\n",
       "  (mfcc): MFCC(\n",
       "    (amplitude_to_DB): AmplitudeToDB()\n",
       "    (MelSpectrogram): MelSpectrogram(\n",
       "      (spectrogram): Spectrogram()\n",
       "      (mel_scale): MelScale()\n",
       "    )\n",
       "  )\n",
       "  (cls_head): Classifier(\n",
       "    (blocks): ModuleList(\n",
       "      (0): Sequential(\n",
       "        (norm): LayerNorm((40,), eps=1e-05, elementwise_affine=True)\n",
       "        (layer): Linear(in_features=40, out_features=512, bias=True)\n",
       "      )\n",
       "      (1): Sequential(\n",
       "        (norm): LayerNorm((512,), eps=1e-05, elementwise_affine=True)\n",
       "        (layer): Linear(in_features=512, out_features=512, bias=True)\n",
       "      )\n",
       "    )\n",
       "    (act): LeakyReLU(negative_slope=0.01)\n",
       "    (output_layer): Linear(in_features=512, out_features=4, bias=True)\n",
       "  )\n",
       ")"
      ]
     },
     "execution_count": 10,
     "metadata": {},
     "output_type": "execute_result"
    }
   ],
   "source": [
    "import traceback\n",
    "from IConNet.nn.model import M13mfcc as M13\n",
    "from omegaconf import OmegaConf as ocf\n",
    "\n",
    "model_config_path = 'config/model/m13mfcc.yaml'\n",
    "model_config = ocf.load(model_config_path)\n",
    "print(model_config)\n",
    "model = M13(config=model_config,\n",
    "           n_input=1, n_output=len(labels))\n",
    "model"
   ]
  },
  {
   "cell_type": "code",
   "execution_count": 11,
   "id": "49594e69-869c-4ea7-bfdc-e4981ec3c45a",
   "metadata": {},
   "outputs": [],
   "source": [
    "n_epoch = 10\n",
    "train_losses = []\n",
    "test_accuracy = []\n",
    "optimizer = optim.RAdam(model.parameters(), lr=0.001)\n",
    "scheduler = optim.lr_scheduler.OneCycleLR(\n",
    "    optimizer, max_lr=0.1,\n",
    "    steps_per_epoch=len(train_loader), epochs=n_epoch)"
   ]
  },
  {
   "cell_type": "code",
   "execution_count": 12,
   "id": "bad47e72-fe3b-4dfb-ae71-cfbde97e2c8e",
   "metadata": {},
   "outputs": [],
   "source": [
    "train_loader_length = len(train_loader.dataset)\n",
    "test_loader_length = len(test_loader.dataset)\n",
    "\n",
    "def train(model, epoch, log_interval, \n",
    "          train_losses=train_losses):\n",
    "    model.train()\n",
    "    for batch_idx, (data, target) in enumerate(train_loader):\n",
    "        try:\n",
    "            _mem_before = torch.cuda.memory_allocated()\n",
    "            data = data.to(device)\n",
    "            target = target.to(device)\n",
    "            output = model(data)\n",
    "            del data\n",
    "            gc.collect()\n",
    "            torch.cuda.empty_cache()\n",
    "            loss = F.cross_entropy(output.squeeze(), target)\n",
    "            _mem_during = torch.cuda.memory_allocated()\n",
    "            del target\n",
    "            gc.collect()\n",
    "            torch.cuda.empty_cache()\n",
    "            optimizer.zero_grad()\n",
    "            loss.backward()\n",
    "            nn.utils.clip_grad.clip_grad_norm_(\n",
    "                model.parameters(), 1.0)\n",
    "            optimizer.step()\n",
    "            _mem_after = torch.cuda.memory_allocated()\n",
    "            # print training stats\n",
    "            if batch_idx % log_interval == 0:\n",
    "                print(f\"Train Epoch: {epoch} [{batch_idx * batch_size}/{train_loader_length} ({100. * batch_idx / len(train_loader):.0f}%)]\\tLoss: {loss.item():.6f}\")\n",
    "                print(f'Mem before-during-after: {_mem_before} {_mem_during} {_mem_after}')\n",
    "            # update progress bar\n",
    "            pbar.update(pbar_update)\n",
    "            # record loss\n",
    "            train_losses.append(loss.item())\n",
    "        except Exception as e:\n",
    "            print(f'data: {data.shape} => output: {output.shape} | target: {target.shape}')\n",
    "            traceback.print_exc()\n",
    "\n",
    "@torch.no_grad\n",
    "def test(model, epoch, test_loader=test_loader, device=device):\n",
    "    model.eval()\n",
    "    correct = 0\n",
    "    total = 0\n",
    "    for data, target in test_loader:\n",
    "        total += len(target)\n",
    "        data = data.to(device)\n",
    "        target = target.to(device)\n",
    "        output = model(data).squeeze()\n",
    "        del data\n",
    "        gc.collect()\n",
    "        torch.cuda.empty_cache()\n",
    "        probs = F.softmax(output, dim=-1)\n",
    "        pred = probs.argmax(dim=-1)\n",
    "        correct += pred.eq(target).sum().item()\n",
    "        del target\n",
    "        gc.collect()\n",
    "        torch.cuda.empty_cache()\n",
    "        pbar.update(pbar_update)\n",
    "    acc = correct / test_loader_length\n",
    "    print(f\"\\nTest Epoch: {epoch}\\tAccuracy: {correct}/{total} ({100. * acc:.0f}%)\\n\")\n",
    "    return acc"
   ]
  },
  {
   "cell_type": "code",
   "execution_count": 13,
   "id": "07c82633-3b41-48aa-a423-5f2609646f51",
   "metadata": {
    "scrolled": true
   },
   "outputs": [
    {
     "name": "stderr",
     "output_type": "stream",
     "text": [
      "  0%|                                                                                                       | 0.001142857142857143/10 [00:00<1:24:11, 505.25s/it]"
     ]
    },
    {
     "name": "stdout",
     "output_type": "stream",
     "text": [
      "Train Epoch: 1 [0/22400 (0%)]\tLoss: 1.597154\n",
      "Mem before-during-after: 1226752 9887232 21712384\n"
     ]
    },
    {
     "name": "stderr",
     "output_type": "stream",
     "text": [
      "  0%|▎                                                                                                        | 0.023999999999999983/10 [00:06<42:52, 257.85s/it]"
     ]
    },
    {
     "name": "stdout",
     "output_type": "stream",
     "text": [
      "Train Epoch: 1 [640/22400 (3%)]\tLoss: 1.344232\n",
      "Mem before-during-after: 21712384 21852160 21712384\n"
     ]
    },
    {
     "name": "stderr",
     "output_type": "stream",
     "text": [
      "  0%|▍                                                                                                        | 0.046285714285714215/10 [00:12<42:25, 255.72s/it]"
     ]
    },
    {
     "name": "stdout",
     "output_type": "stream",
     "text": [
      "Train Epoch: 1 [1280/22400 (6%)]\tLoss: 1.462362\n",
      "Mem before-during-after: 21712384 21852160 21712384\n"
     ]
    },
    {
     "name": "stderr",
     "output_type": "stream",
     "text": [
      "  1%|▋                                                                                                         | 0.06971428571428559/10 [00:18<46:05, 278.47s/it]"
     ]
    },
    {
     "name": "stdout",
     "output_type": "stream",
     "text": [
      "Train Epoch: 1 [1920/22400 (9%)]\tLoss: 1.231245\n",
      "Mem before-during-after: 21712384 21852160 21712384\n"
     ]
    },
    {
     "name": "stderr",
     "output_type": "stream",
     "text": [
      "  1%|▉                                                                                                         | 0.09257142857142839/10 [00:25<44:37, 270.23s/it]"
     ]
    },
    {
     "name": "stdout",
     "output_type": "stream",
     "text": [
      "Train Epoch: 1 [2560/22400 (11%)]\tLoss: 1.355483\n",
      "Mem before-during-after: 21712384 21852160 21712384\n"
     ]
    },
    {
     "name": "stderr",
     "output_type": "stream",
     "text": [
      "  1%|█▏                                                                                                        | 0.11542857142857119/10 [00:31<44:53, 272.51s/it]"
     ]
    },
    {
     "name": "stdout",
     "output_type": "stream",
     "text": [
      "Train Epoch: 1 [3200/22400 (14%)]\tLoss: 1.130401\n",
      "Mem before-during-after: 21712384 21852160 21712384\n"
     ]
    },
    {
     "name": "stderr",
     "output_type": "stream",
     "text": [
      "  1%|█▍                                                                                                        | 0.13828571428571432/10 [00:37<44:10, 268.77s/it]"
     ]
    },
    {
     "name": "stdout",
     "output_type": "stream",
     "text": [
      "Train Epoch: 1 [3840/22400 (17%)]\tLoss: 1.054540\n",
      "Mem before-during-after: 21712384 21852160 21712384\n"
     ]
    },
    {
     "name": "stderr",
     "output_type": "stream",
     "text": [
      "  2%|█▋                                                                                                        | 0.16114285714285767/10 [00:43<43:12, 263.48s/it]"
     ]
    },
    {
     "name": "stdout",
     "output_type": "stream",
     "text": [
      "Train Epoch: 1 [4480/22400 (20%)]\tLoss: 0.965139\n",
      "Mem before-during-after: 21712384 21852160 21712384\n"
     ]
    },
    {
     "name": "stderr",
     "output_type": "stream",
     "text": [
      "  2%|█▉                                                                                                        | 0.18400000000000102/10 [00:49<41:42, 254.97s/it]"
     ]
    },
    {
     "name": "stdout",
     "output_type": "stream",
     "text": [
      "Train Epoch: 1 [5120/22400 (23%)]\tLoss: 1.018991\n",
      "Mem before-during-after: 21712384 21852160 21712384\n"
     ]
    },
    {
     "name": "stderr",
     "output_type": "stream",
     "text": [
      "  2%|██▏                                                                                                       | 0.20685714285714438/10 [00:55<42:25, 259.93s/it]"
     ]
    },
    {
     "name": "stdout",
     "output_type": "stream",
     "text": [
      "Train Epoch: 1 [5760/22400 (26%)]\tLoss: 0.950468\n",
      "Mem before-during-after: 21712384 21852160 21712384\n"
     ]
    },
    {
     "name": "stderr",
     "output_type": "stream",
     "text": [
      "  2%|██▍                                                                                                       | 0.22971428571428773/10 [01:01<42:43, 262.36s/it]"
     ]
    },
    {
     "name": "stdout",
     "output_type": "stream",
     "text": [
      "Train Epoch: 1 [6400/22400 (29%)]\tLoss: 1.057405\n",
      "Mem before-during-after: 21712384 21852160 21712384\n"
     ]
    },
    {
     "name": "stderr",
     "output_type": "stream",
     "text": [
      "  3%|██▋                                                                                                       | 0.25257142857143094/10 [01:08<43:33, 268.08s/it]"
     ]
    },
    {
     "name": "stdout",
     "output_type": "stream",
     "text": [
      "Train Epoch: 1 [7040/22400 (31%)]\tLoss: 1.452343\n",
      "Mem before-during-after: 21712384 21852160 21712384\n"
     ]
    },
    {
     "name": "stderr",
     "output_type": "stream",
     "text": [
      "  3%|██▉                                                                                                        | 0.2754285714285732/10 [01:14<42:57, 265.07s/it]"
     ]
    },
    {
     "name": "stdout",
     "output_type": "stream",
     "text": [
      "Train Epoch: 1 [7680/22400 (34%)]\tLoss: 1.368638\n",
      "Mem before-during-after: 21712384 21852160 21712384\n"
     ]
    },
    {
     "name": "stderr",
     "output_type": "stream",
     "text": [
      "  3%|███▏                                                                                                      | 0.29828571428571543/10 [01:20<43:52, 271.31s/it]"
     ]
    },
    {
     "name": "stdout",
     "output_type": "stream",
     "text": [
      "Train Epoch: 1 [8320/22400 (37%)]\tLoss: 0.860218\n",
      "Mem before-during-after: 21712384 21852160 21712384\n"
     ]
    },
    {
     "name": "stderr",
     "output_type": "stream",
     "text": [
      "  3%|███▍                                                                                                       | 0.3211428571428577/10 [01:26<41:22, 256.45s/it]"
     ]
    },
    {
     "name": "stdout",
     "output_type": "stream",
     "text": [
      "Train Epoch: 1 [8960/22400 (40%)]\tLoss: 1.681261\n",
      "Mem before-during-after: 21712384 21852160 21712384\n"
     ]
    },
    {
     "name": "stderr",
     "output_type": "stream",
     "text": [
      "  3%|███▋                                                                                                       | 0.3439999999999999/10 [01:32<41:35, 258.41s/it]"
     ]
    },
    {
     "name": "stdout",
     "output_type": "stream",
     "text": [
      "Train Epoch: 1 [9600/22400 (43%)]\tLoss: 0.980512\n",
      "Mem before-during-after: 21712384 21852160 21712384\n"
     ]
    },
    {
     "name": "stderr",
     "output_type": "stream",
     "text": [
      "  4%|███▉                                                                                                      | 0.36685714285714216/10 [01:38<42:37, 265.50s/it]"
     ]
    },
    {
     "name": "stdout",
     "output_type": "stream",
     "text": [
      "Train Epoch: 1 [10240/22400 (46%)]\tLoss: 1.088319\n",
      "Mem before-during-after: 21712384 21852160 21712384\n"
     ]
    },
    {
     "name": "stderr",
     "output_type": "stream",
     "text": [
      "  4%|████▏                                                                                                      | 0.3897142857142844/10 [01:44<42:32, 265.55s/it]"
     ]
    },
    {
     "name": "stdout",
     "output_type": "stream",
     "text": [
      "Train Epoch: 1 [10880/22400 (49%)]\tLoss: 1.080753\n",
      "Mem before-during-after: 21712384 21852160 21712384\n"
     ]
    },
    {
     "name": "stderr",
     "output_type": "stream",
     "text": [
      "  4%|████▎                                                                                                     | 0.41257142857142665/10 [01:50<43:16, 270.86s/it]"
     ]
    },
    {
     "name": "stdout",
     "output_type": "stream",
     "text": [
      "Train Epoch: 1 [11520/22400 (51%)]\tLoss: 0.965254\n",
      "Mem before-during-after: 21712384 21852160 21712384\n"
     ]
    },
    {
     "name": "stderr",
     "output_type": "stream",
     "text": [
      "  4%|████▋                                                                                                      | 0.4354285714285689/10 [01:57<41:35, 260.87s/it]"
     ]
    },
    {
     "name": "stdout",
     "output_type": "stream",
     "text": [
      "Train Epoch: 1 [12160/22400 (54%)]\tLoss: 0.868609\n",
      "Mem before-during-after: 21712384 21852160 21712384\n"
     ]
    },
    {
     "name": "stderr",
     "output_type": "stream",
     "text": [
      "  5%|████▊                                                                                                     | 0.45828571428571113/10 [02:03<41:43, 262.40s/it]"
     ]
    },
    {
     "name": "stdout",
     "output_type": "stream",
     "text": [
      "Train Epoch: 1 [12800/22400 (57%)]\tLoss: 0.872969\n",
      "Mem before-during-after: 21712384 21852160 21712384\n"
     ]
    },
    {
     "name": "stderr",
     "output_type": "stream",
     "text": [
      "  5%|█████▏                                                                                                     | 0.4811428571428534/10 [02:09<41:38, 262.48s/it]"
     ]
    },
    {
     "name": "stdout",
     "output_type": "stream",
     "text": [
      "Train Epoch: 1 [13440/22400 (60%)]\tLoss: 1.056390\n",
      "Mem before-during-after: 21712384 21852160 21712384\n"
     ]
    },
    {
     "name": "stderr",
     "output_type": "stream",
     "text": [
      "  5%|█████▍                                                                                                     | 0.5039999999999957/10 [02:15<41:43, 263.66s/it]"
     ]
    },
    {
     "name": "stdout",
     "output_type": "stream",
     "text": [
      "Train Epoch: 1 [14080/22400 (63%)]\tLoss: 1.056141\n",
      "Mem before-during-after: 21712384 21852160 21712384\n"
     ]
    },
    {
     "name": "stderr",
     "output_type": "stream",
     "text": [
      "  5%|█████▋                                                                                                     | 0.5268571428571379/10 [02:21<42:06, 266.71s/it]"
     ]
    },
    {
     "name": "stdout",
     "output_type": "stream",
     "text": [
      "Train Epoch: 1 [14720/22400 (66%)]\tLoss: 1.038865\n",
      "Mem before-during-after: 21712384 21852160 21712384\n"
     ]
    },
    {
     "name": "stderr",
     "output_type": "stream",
     "text": [
      "  5%|█████▉                                                                                                     | 0.5497142857142802/10 [02:27<41:16, 262.06s/it]"
     ]
    },
    {
     "name": "stdout",
     "output_type": "stream",
     "text": [
      "Train Epoch: 1 [15360/22400 (69%)]\tLoss: 0.738310\n",
      "Mem before-during-after: 21712384 21852160 21712384\n"
     ]
    },
    {
     "name": "stderr",
     "output_type": "stream",
     "text": [
      "  6%|██████▏                                                                                                    | 0.5725714285714224/10 [02:33<42:03, 267.63s/it]"
     ]
    },
    {
     "name": "stdout",
     "output_type": "stream",
     "text": [
      "Train Epoch: 1 [16000/22400 (71%)]\tLoss: 0.833405\n",
      "Mem before-during-after: 21712384 21852160 21712384\n"
     ]
    },
    {
     "name": "stderr",
     "output_type": "stream",
     "text": [
      "  6%|██████▎                                                                                                    | 0.5954285714285646/10 [02:39<42:28, 270.93s/it]"
     ]
    },
    {
     "name": "stdout",
     "output_type": "stream",
     "text": [
      "Train Epoch: 1 [16640/22400 (74%)]\tLoss: 0.741377\n",
      "Mem before-during-after: 21712384 21852160 21712384\n"
     ]
    },
    {
     "name": "stderr",
     "output_type": "stream",
     "text": [
      "  6%|██████▌                                                                                                    | 0.6182857142857069/10 [02:46<41:32, 265.64s/it]"
     ]
    },
    {
     "name": "stdout",
     "output_type": "stream",
     "text": [
      "Train Epoch: 1 [17280/22400 (77%)]\tLoss: 0.668216\n",
      "Mem before-during-after: 21712384 21852160 21712384\n"
     ]
    },
    {
     "name": "stderr",
     "output_type": "stream",
     "text": [
      "  6%|██████▊                                                                                                    | 0.6411428571428491/10 [02:52<40:53, 262.11s/it]"
     ]
    },
    {
     "name": "stdout",
     "output_type": "stream",
     "text": [
      "Train Epoch: 1 [17920/22400 (80%)]\tLoss: 0.688198\n",
      "Mem before-during-after: 21712384 21852160 21712384\n"
     ]
    },
    {
     "name": "stderr",
     "output_type": "stream",
     "text": [
      "  7%|███████                                                                                                    | 0.6639999999999914/10 [02:58<41:26, 266.36s/it]"
     ]
    },
    {
     "name": "stdout",
     "output_type": "stream",
     "text": [
      "Train Epoch: 1 [18560/22400 (83%)]\tLoss: 0.943008\n",
      "Mem before-during-after: 21712384 21852160 21712384\n"
     ]
    },
    {
     "name": "stderr",
     "output_type": "stream",
     "text": [
      "  7%|███████▎                                                                                                   | 0.6868571428571336/10 [03:04<39:53, 256.99s/it]"
     ]
    },
    {
     "name": "stdout",
     "output_type": "stream",
     "text": [
      "Train Epoch: 1 [19200/22400 (86%)]\tLoss: 0.913139\n",
      "Mem before-during-after: 21712384 21852160 21712384\n"
     ]
    },
    {
     "name": "stderr",
     "output_type": "stream",
     "text": [
      "  7%|███████▌                                                                                                   | 0.7097142857142759/10 [03:10<41:17, 266.69s/it]"
     ]
    },
    {
     "name": "stdout",
     "output_type": "stream",
     "text": [
      "Train Epoch: 1 [19840/22400 (89%)]\tLoss: 0.950548\n",
      "Mem before-during-after: 21712384 21852160 21712384\n"
     ]
    },
    {
     "name": "stderr",
     "output_type": "stream",
     "text": [
      "  7%|███████▊                                                                                                   | 0.7325714285714181/10 [03:16<41:43, 270.14s/it]"
     ]
    },
    {
     "name": "stdout",
     "output_type": "stream",
     "text": [
      "Train Epoch: 1 [20480/22400 (91%)]\tLoss: 0.720686\n",
      "Mem before-during-after: 21712384 21852160 21712384\n"
     ]
    },
    {
     "name": "stderr",
     "output_type": "stream",
     "text": [
      "  8%|████████                                                                                                   | 0.7554285714285603/10 [03:22<40:09, 260.66s/it]"
     ]
    },
    {
     "name": "stdout",
     "output_type": "stream",
     "text": [
      "Train Epoch: 1 [21120/22400 (94%)]\tLoss: 0.924667\n",
      "Mem before-during-after: 21712384 21852160 21712384\n"
     ]
    },
    {
     "name": "stderr",
     "output_type": "stream",
     "text": [
      "  8%|████████▎                                                                                                  | 0.7782857142857026/10 [03:29<41:22, 269.15s/it]"
     ]
    },
    {
     "name": "stdout",
     "output_type": "stream",
     "text": [
      "Train Epoch: 1 [21760/22400 (97%)]\tLoss: 0.982250\n",
      "Mem before-during-after: 21712384 21852160 21712384\n"
     ]
    },
    {
     "name": "stderr",
     "output_type": "stream",
     "text": [
      " 10%|██████████▊                                                                                                 | 1.000571428571411/10 [04:28<38:40, 257.88s/it]"
     ]
    },
    {
     "name": "stdout",
     "output_type": "stream",
     "text": [
      "\n",
      "Test Epoch: 1\tAccuracy: 3597/5600 (64%)\n",
      "\n",
      "Train Epoch: 2 [0/22400 (0%)]\tLoss: 0.504272\n",
      "Mem before-during-after: 21711360 21852160 21712384\n"
     ]
    },
    {
     "name": "stderr",
     "output_type": "stream",
     "text": [
      " 10%|██████████▉                                                                                                | 1.0239999999999863/10 [04:34<40:19, 269.56s/it]"
     ]
    },
    {
     "name": "stdout",
     "output_type": "stream",
     "text": [
      "Train Epoch: 2 [640/22400 (3%)]\tLoss: 0.989050\n",
      "Mem before-during-after: 21712384 21852160 21712384\n"
     ]
    },
    {
     "name": "stderr",
     "output_type": "stream",
     "text": [
      " 10%|███████████▎                                                                                                | 1.046857142857133/10 [04:40<41:55, 281.00s/it]"
     ]
    },
    {
     "name": "stdout",
     "output_type": "stream",
     "text": [
      "Train Epoch: 2 [1280/22400 (6%)]\tLoss: 0.717309\n",
      "Mem before-during-after: 21712384 21852160 21712384\n"
     ]
    },
    {
     "name": "stderr",
     "output_type": "stream",
     "text": [
      " 11%|███████████▍                                                                                               | 1.0697142857142796/10 [04:46<39:58, 268.62s/it]"
     ]
    },
    {
     "name": "stdout",
     "output_type": "stream",
     "text": [
      "Train Epoch: 2 [1920/22400 (9%)]\tLoss: 0.704490\n",
      "Mem before-during-after: 21712384 21852160 21712384\n"
     ]
    },
    {
     "name": "stderr",
     "output_type": "stream",
     "text": [
      " 11%|███████████▋                                                                                               | 1.0925714285714263/10 [04:52<39:15, 264.46s/it]"
     ]
    },
    {
     "name": "stdout",
     "output_type": "stream",
     "text": [
      "Train Epoch: 2 [2560/22400 (11%)]\tLoss: 0.602844\n",
      "Mem before-during-after: 21712384 21852160 21712384\n"
     ]
    },
    {
     "name": "stderr",
     "output_type": "stream",
     "text": [
      " 11%|████████████                                                                                                | 1.115428571428573/10 [04:59<39:53, 269.44s/it]"
     ]
    },
    {
     "name": "stdout",
     "output_type": "stream",
     "text": [
      "Train Epoch: 2 [3200/22400 (14%)]\tLoss: 0.616111\n",
      "Mem before-during-after: 21712384 21852160 21712384\n"
     ]
    },
    {
     "name": "stderr",
     "output_type": "stream",
     "text": [
      " 11%|████████████▏                                                                                              | 1.1382857142857197/10 [05:05<38:18, 259.34s/it]"
     ]
    },
    {
     "name": "stdout",
     "output_type": "stream",
     "text": [
      "Train Epoch: 2 [3840/22400 (17%)]\tLoss: 0.688020\n",
      "Mem before-during-after: 21712384 21852160 21712384\n"
     ]
    },
    {
     "name": "stderr",
     "output_type": "stream",
     "text": [
      " 12%|████████████▍                                                                                              | 1.1611428571428664/10 [05:11<37:52, 257.15s/it]"
     ]
    },
    {
     "name": "stdout",
     "output_type": "stream",
     "text": [
      "Train Epoch: 2 [4480/22400 (20%)]\tLoss: 0.592431\n",
      "Mem before-during-after: 21712384 21852160 21712384\n"
     ]
    },
    {
     "name": "stderr",
     "output_type": "stream",
     "text": [
      " 12%|████████████▊                                                                                               | 1.184000000000013/10 [05:17<40:19, 274.49s/it]"
     ]
    },
    {
     "name": "stdout",
     "output_type": "stream",
     "text": [
      "Train Epoch: 2 [5120/22400 (23%)]\tLoss: 0.730655\n",
      "Mem before-during-after: 21712384 21852160 21712384\n"
     ]
    },
    {
     "name": "stderr",
     "output_type": "stream",
     "text": [
      " 12%|████████████▉                                                                                              | 1.2068571428571597/10 [05:23<39:24, 268.94s/it]"
     ]
    },
    {
     "name": "stdout",
     "output_type": "stream",
     "text": [
      "Train Epoch: 2 [5760/22400 (26%)]\tLoss: 1.507449\n",
      "Mem before-during-after: 21712384 21852160 21712384\n"
     ]
    },
    {
     "name": "stderr",
     "output_type": "stream",
     "text": [
      " 12%|█████████████▏                                                                                             | 1.2297142857143064/10 [05:29<38:59, 266.71s/it]"
     ]
    },
    {
     "name": "stdout",
     "output_type": "stream",
     "text": [
      "Train Epoch: 2 [6400/22400 (29%)]\tLoss: 0.962402\n",
      "Mem before-during-after: 21712384 21852160 21712384\n"
     ]
    },
    {
     "name": "stderr",
     "output_type": "stream",
     "text": [
      " 13%|█████████████▌                                                                                              | 1.252571428571453/10 [05:35<40:42, 279.24s/it]"
     ]
    },
    {
     "name": "stdout",
     "output_type": "stream",
     "text": [
      "Train Epoch: 2 [7040/22400 (31%)]\tLoss: 0.705016\n",
      "Mem before-during-after: 21712384 21852160 21712384\n"
     ]
    },
    {
     "name": "stderr",
     "output_type": "stream",
     "text": [
      " 13%|█████████████▋                                                                                             | 1.2754285714285998/10 [05:42<40:34, 279.05s/it]"
     ]
    },
    {
     "name": "stdout",
     "output_type": "stream",
     "text": [
      "Train Epoch: 2 [7680/22400 (34%)]\tLoss: 0.498439\n",
      "Mem before-during-after: 21712384 21852160 21712384\n"
     ]
    },
    {
     "name": "stderr",
     "output_type": "stream",
     "text": [
      " 13%|█████████████▉                                                                                             | 1.2982857142857465/10 [05:48<37:18, 257.28s/it]"
     ]
    },
    {
     "name": "stdout",
     "output_type": "stream",
     "text": [
      "Train Epoch: 2 [8320/22400 (37%)]\tLoss: 0.980152\n",
      "Mem before-during-after: 21712384 21852160 21712384\n"
     ]
    },
    {
     "name": "stderr",
     "output_type": "stream",
     "text": [
      " 13%|██████████████▏                                                                                            | 1.3211428571428931/10 [05:54<39:52, 275.67s/it]"
     ]
    },
    {
     "name": "stdout",
     "output_type": "stream",
     "text": [
      "Train Epoch: 2 [8960/22400 (40%)]\tLoss: 1.066170\n",
      "Mem before-during-after: 21712384 21852160 21712384\n"
     ]
    },
    {
     "name": "stderr",
     "output_type": "stream",
     "text": [
      " 13%|██████████████▍                                                                                            | 1.3440000000000398/10 [06:00<38:36, 267.64s/it]"
     ]
    },
    {
     "name": "stdout",
     "output_type": "stream",
     "text": [
      "Train Epoch: 2 [9600/22400 (43%)]\tLoss: 0.452596\n",
      "Mem before-during-after: 21712384 21852160 21712384\n"
     ]
    },
    {
     "name": "stderr",
     "output_type": "stream",
     "text": [
      " 14%|██████████████▋                                                                                            | 1.3668571428571865/10 [06:06<37:31, 260.83s/it]"
     ]
    },
    {
     "name": "stdout",
     "output_type": "stream",
     "text": [
      "Train Epoch: 2 [10240/22400 (46%)]\tLoss: 0.825751\n",
      "Mem before-during-after: 21712384 21852160 21712384\n"
     ]
    },
    {
     "name": "stderr",
     "output_type": "stream",
     "text": [
      " 14%|██████████████▊                                                                                            | 1.3897142857143332/10 [06:12<37:44, 262.99s/it]"
     ]
    },
    {
     "name": "stdout",
     "output_type": "stream",
     "text": [
      "Train Epoch: 2 [10880/22400 (49%)]\tLoss: 0.865931\n",
      "Mem before-during-after: 21712384 21852160 21712384\n"
     ]
    },
    {
     "name": "stderr",
     "output_type": "stream",
     "text": [
      " 14%|███████████████                                                                                            | 1.4125714285714799/10 [06:18<37:22, 261.13s/it]"
     ]
    },
    {
     "name": "stdout",
     "output_type": "stream",
     "text": [
      "Train Epoch: 2 [11520/22400 (51%)]\tLoss: 0.898826\n",
      "Mem before-during-after: 21712384 21852160 21712384\n"
     ]
    },
    {
     "name": "stderr",
     "output_type": "stream",
     "text": [
      " 14%|███████████████▎                                                                                           | 1.4354285714286266/10 [06:24<39:12, 274.64s/it]"
     ]
    },
    {
     "name": "stdout",
     "output_type": "stream",
     "text": [
      "Train Epoch: 2 [12160/22400 (54%)]\tLoss: 0.808927\n",
      "Mem before-during-after: 21712384 21852160 21712384\n"
     ]
    },
    {
     "name": "stderr",
     "output_type": "stream",
     "text": [
      " 15%|███████████████▌                                                                                           | 1.4582857142857732/10 [06:30<39:07, 274.80s/it]"
     ]
    },
    {
     "name": "stdout",
     "output_type": "stream",
     "text": [
      "Train Epoch: 2 [12800/22400 (57%)]\tLoss: 0.718051\n",
      "Mem before-during-after: 21712384 21852160 21712384\n"
     ]
    },
    {
     "name": "stderr",
     "output_type": "stream",
     "text": [
      " 15%|████████████████▏                                                                                            | 1.48114285714292/10 [06:36<39:37, 279.05s/it]"
     ]
    },
    {
     "name": "stdout",
     "output_type": "stream",
     "text": [
      "Train Epoch: 2 [13440/22400 (60%)]\tLoss: 0.672460\n",
      "Mem before-during-after: 21712384 21852160 21712384\n"
     ]
    },
    {
     "name": "stderr",
     "output_type": "stream",
     "text": [
      " 15%|████████████████                                                                                           | 1.5040000000000666/10 [06:43<36:48, 259.96s/it]"
     ]
    },
    {
     "name": "stdout",
     "output_type": "stream",
     "text": [
      "Train Epoch: 2 [14080/22400 (63%)]\tLoss: 0.671422\n",
      "Mem before-during-after: 21712384 21852160 21712384\n"
     ]
    },
    {
     "name": "stderr",
     "output_type": "stream",
     "text": [
      " 15%|████████████████▎                                                                                          | 1.5268571428572133/10 [06:49<39:15, 277.97s/it]"
     ]
    },
    {
     "name": "stdout",
     "output_type": "stream",
     "text": [
      "Train Epoch: 2 [14720/22400 (66%)]\tLoss: 0.756077\n",
      "Mem before-during-after: 21712384 21852160 21712384\n"
     ]
    },
    {
     "name": "stderr",
     "output_type": "stream",
     "text": [
      " 15%|████████████████▉                                                                                            | 1.54971428571436/10 [06:55<37:37, 267.21s/it]"
     ]
    },
    {
     "name": "stdout",
     "output_type": "stream",
     "text": [
      "Train Epoch: 2 [15360/22400 (69%)]\tLoss: 0.874926\n",
      "Mem before-during-after: 21712384 21852160 21712384\n"
     ]
    },
    {
     "name": "stderr",
     "output_type": "stream",
     "text": [
      " 16%|████████████████▊                                                                                          | 1.5725714285715067/10 [07:01<37:38, 267.96s/it]"
     ]
    },
    {
     "name": "stdout",
     "output_type": "stream",
     "text": [
      "Train Epoch: 2 [16000/22400 (71%)]\tLoss: 0.503001\n",
      "Mem before-during-after: 21712384 21852160 21712384\n"
     ]
    },
    {
     "name": "stderr",
     "output_type": "stream",
     "text": [
      " 16%|█████████████████                                                                                          | 1.5954285714286534/10 [07:07<36:35, 261.25s/it]"
     ]
    },
    {
     "name": "stdout",
     "output_type": "stream",
     "text": [
      "Train Epoch: 2 [16640/22400 (74%)]\tLoss: 0.364466\n",
      "Mem before-during-after: 21712384 21852160 21712384\n"
     ]
    },
    {
     "name": "stderr",
     "output_type": "stream",
     "text": [
      " 16%|█████████████████▊                                                                                            | 1.6182857142858/10 [07:13<37:06, 265.67s/it]"
     ]
    },
    {
     "name": "stdout",
     "output_type": "stream",
     "text": [
      "Train Epoch: 2 [17280/22400 (77%)]\tLoss: 0.447932\n",
      "Mem before-during-after: 21712384 21852160 21712384\n"
     ]
    },
    {
     "name": "stderr",
     "output_type": "stream",
     "text": [
      " 16%|█████████████████▌                                                                                         | 1.6411428571429467/10 [07:19<37:13, 267.18s/it]"
     ]
    },
    {
     "name": "stdout",
     "output_type": "stream",
     "text": [
      "Train Epoch: 2 [17920/22400 (80%)]\tLoss: 0.954564\n",
      "Mem before-during-after: 21712384 21852160 21712384\n"
     ]
    },
    {
     "name": "stderr",
     "output_type": "stream",
     "text": [
      " 17%|█████████████████▊                                                                                         | 1.6640000000000934/10 [07:25<35:58, 258.93s/it]"
     ]
    },
    {
     "name": "stdout",
     "output_type": "stream",
     "text": [
      "Train Epoch: 2 [18560/22400 (83%)]\tLoss: 0.848769\n",
      "Mem before-during-after: 21712384 21852160 21712384\n"
     ]
    },
    {
     "name": "stderr",
     "output_type": "stream",
     "text": [
      " 17%|██████████████████▍                                                                                          | 1.68685714285724/10 [07:31<37:30, 270.73s/it]"
     ]
    },
    {
     "name": "stdout",
     "output_type": "stream",
     "text": [
      "Train Epoch: 2 [19200/22400 (86%)]\tLoss: 0.517118\n",
      "Mem before-during-after: 21712384 21852160 21712384\n"
     ]
    },
    {
     "name": "stderr",
     "output_type": "stream",
     "text": [
      " 17%|██████████████████▎                                                                                        | 1.7097142857143868/10 [07:38<36:37, 265.12s/it]"
     ]
    },
    {
     "name": "stdout",
     "output_type": "stream",
     "text": [
      "Train Epoch: 2 [19840/22400 (89%)]\tLoss: 0.817259\n",
      "Mem before-during-after: 21712384 21852160 21712384\n"
     ]
    },
    {
     "name": "stderr",
     "output_type": "stream",
     "text": [
      " 17%|██████████████████▌                                                                                        | 1.7325714285715335/10 [07:44<37:48, 274.38s/it]"
     ]
    },
    {
     "name": "stdout",
     "output_type": "stream",
     "text": [
      "Train Epoch: 2 [20480/22400 (91%)]\tLoss: 0.399837\n",
      "Mem before-during-after: 21712384 21852160 21712384\n"
     ]
    },
    {
     "name": "stderr",
     "output_type": "stream",
     "text": [
      " 18%|██████████████████▊                                                                                        | 1.7554285714286801/10 [07:50<35:49, 260.74s/it]"
     ]
    },
    {
     "name": "stdout",
     "output_type": "stream",
     "text": [
      "Train Epoch: 2 [21120/22400 (94%)]\tLoss: 0.501151\n",
      "Mem before-during-after: 21712384 21852160 21712384\n"
     ]
    },
    {
     "name": "stderr",
     "output_type": "stream",
     "text": [
      " 18%|███████████████████                                                                                        | 1.7782857142858268/10 [07:56<38:02, 277.61s/it]"
     ]
    },
    {
     "name": "stdout",
     "output_type": "stream",
     "text": [
      "Train Epoch: 2 [21760/22400 (97%)]\tLoss: 0.328778\n",
      "Mem before-during-after: 21712384 21852160 21712384\n"
     ]
    },
    {
     "name": "stderr",
     "output_type": "stream",
     "text": [
      " 20%|█████████████████████▌                                                                                      | 2.000571428571578/10 [08:55<37:30, 281.31s/it]"
     ]
    },
    {
     "name": "stdout",
     "output_type": "stream",
     "text": [
      "\n",
      "Test Epoch: 2\tAccuracy: 4033/5600 (72%)\n",
      "\n",
      "Train Epoch: 3 [0/22400 (0%)]\tLoss: 0.506778\n",
      "Mem before-during-after: 21711360 21852160 21712384\n"
     ]
    },
    {
     "name": "stderr",
     "output_type": "stream",
     "text": [
      " 20%|█████████████████████▋                                                                                     | 2.0240000000001444/10 [09:01<34:51, 262.21s/it]"
     ]
    },
    {
     "name": "stdout",
     "output_type": "stream",
     "text": [
      "Train Epoch: 3 [640/22400 (3%)]\tLoss: 0.694007\n",
      "Mem before-during-after: 21712384 21852160 21712384\n"
     ]
    },
    {
     "name": "stderr",
     "output_type": "stream",
     "text": [
      " 20%|██████████████████████                                                                                      | 2.046857142857282/10 [09:07<34:48, 262.64s/it]"
     ]
    },
    {
     "name": "stdout",
     "output_type": "stream",
     "text": [
      "Train Epoch: 3 [1280/22400 (6%)]\tLoss: 0.759243\n",
      "Mem before-during-after: 21712384 21852160 21712384\n"
     ]
    },
    {
     "name": "stderr",
     "output_type": "stream",
     "text": [
      " 21%|██████████████████████▌                                                                                      | 2.06971428571442/10 [09:13<34:31, 261.27s/it]"
     ]
    },
    {
     "name": "stdout",
     "output_type": "stream",
     "text": [
      "Train Epoch: 3 [1920/22400 (9%)]\tLoss: 0.744214\n",
      "Mem before-during-after: 21712384 21852160 21712384\n"
     ]
    },
    {
     "name": "stderr",
     "output_type": "stream",
     "text": [
      " 21%|██████████████████████▍                                                                                    | 2.0925714285715578/10 [09:19<34:45, 263.74s/it]"
     ]
    },
    {
     "name": "stdout",
     "output_type": "stream",
     "text": [
      "Train Epoch: 3 [2560/22400 (11%)]\tLoss: 0.443794\n",
      "Mem before-during-after: 21712384 21852160 21712384\n"
     ]
    },
    {
     "name": "stderr",
     "output_type": "stream",
     "text": [
      " 21%|██████████████████████▋                                                                                    | 2.1154285714286956/10 [09:25<34:08, 259.79s/it]"
     ]
    },
    {
     "name": "stdout",
     "output_type": "stream",
     "text": [
      "Train Epoch: 3 [3200/22400 (14%)]\tLoss: 0.748848\n",
      "Mem before-during-after: 21712384 21852160 21712384\n"
     ]
    },
    {
     "name": "stderr",
     "output_type": "stream",
     "text": [
      " 21%|██████████████████████▉                                                                                    | 2.1382857142858334/10 [09:32<34:22, 262.32s/it]"
     ]
    },
    {
     "name": "stdout",
     "output_type": "stream",
     "text": [
      "Train Epoch: 3 [3840/22400 (17%)]\tLoss: 0.477233\n",
      "Mem before-during-after: 21712384 21852160 21712384\n"
     ]
    },
    {
     "name": "stderr",
     "output_type": "stream",
     "text": [
      " 22%|███████████████████████▎                                                                                    | 2.161142857142971/10 [09:38<33:55, 259.62s/it]"
     ]
    },
    {
     "name": "stdout",
     "output_type": "stream",
     "text": [
      "Train Epoch: 3 [4480/22400 (20%)]\tLoss: 1.214976\n",
      "Mem before-during-after: 21712384 21852160 21712384\n"
     ]
    },
    {
     "name": "stderr",
     "output_type": "stream",
     "text": [
      " 22%|███████████████████████▌                                                                                    | 2.184000000000109/10 [09:44<34:44, 266.64s/it]"
     ]
    },
    {
     "name": "stdout",
     "output_type": "stream",
     "text": [
      "Train Epoch: 3 [5120/22400 (23%)]\tLoss: 0.304519\n",
      "Mem before-during-after: 21712384 21852160 21712384\n"
     ]
    },
    {
     "name": "stderr",
     "output_type": "stream",
     "text": [
      " 22%|███████████████████████▌                                                                                   | 2.2068571428572468/10 [09:50<33:42, 259.51s/it]"
     ]
    },
    {
     "name": "stdout",
     "output_type": "stream",
     "text": [
      "Train Epoch: 3 [5760/22400 (26%)]\tLoss: 0.548511\n",
      "Mem before-during-after: 21712384 21852160 21712384\n"
     ]
    },
    {
     "name": "stderr",
     "output_type": "stream",
     "text": [
      " 22%|███████████████████████▊                                                                                   | 2.2297142857143846/10 [09:56<35:45, 276.11s/it]"
     ]
    },
    {
     "name": "stdout",
     "output_type": "stream",
     "text": [
      "Train Epoch: 3 [6400/22400 (29%)]\tLoss: 0.351192\n",
      "Mem before-during-after: 21712384 21852160 21712384\n"
     ]
    },
    {
     "name": "stderr",
     "output_type": "stream",
     "text": [
      " 23%|████████████████████████                                                                                   | 2.2525714285715224/10 [10:02<34:52, 270.08s/it]"
     ]
    },
    {
     "name": "stdout",
     "output_type": "stream",
     "text": [
      "Train Epoch: 3 [7040/22400 (31%)]\tLoss: 0.093074\n",
      "Mem before-during-after: 21712384 21852160 21712384\n"
     ]
    },
    {
     "name": "stderr",
     "output_type": "stream",
     "text": [
      " 23%|████████████████████████▊                                                                                    | 2.27542857142866/10 [10:08<35:42, 277.37s/it]"
     ]
    },
    {
     "name": "stdout",
     "output_type": "stream",
     "text": [
      "Train Epoch: 3 [7680/22400 (34%)]\tLoss: 0.739190\n",
      "Mem before-during-after: 21712384 21852160 21712384\n"
     ]
    },
    {
     "name": "stderr",
     "output_type": "stream",
     "text": [
      " 23%|████████████████████████▊                                                                                   | 2.298285714285798/10 [10:14<33:08, 258.15s/it]"
     ]
    },
    {
     "name": "stdout",
     "output_type": "stream",
     "text": [
      "Train Epoch: 3 [8320/22400 (37%)]\tLoss: 0.629762\n",
      "Mem before-during-after: 21712384 21852160 21712384\n"
     ]
    },
    {
     "name": "stderr",
     "output_type": "stream",
     "text": [
      " 23%|█████████████████████████                                                                                   | 2.321142857142936/10 [10:20<33:00, 257.90s/it]"
     ]
    },
    {
     "name": "stdout",
     "output_type": "stream",
     "text": [
      "Train Epoch: 3 [8960/22400 (40%)]\tLoss: 0.364486\n",
      "Mem before-during-after: 21712384 21852160 21712384\n"
     ]
    },
    {
     "name": "stderr",
     "output_type": "stream",
     "text": [
      " 23%|█████████████████████████                                                                                  | 2.3440000000000736/10 [10:26<35:09, 275.53s/it]"
     ]
    },
    {
     "name": "stdout",
     "output_type": "stream",
     "text": [
      "Train Epoch: 3 [9600/22400 (43%)]\tLoss: 0.310046\n",
      "Mem before-during-after: 21712384 21852160 21712384\n"
     ]
    },
    {
     "name": "stderr",
     "output_type": "stream",
     "text": [
      " 24%|█████████████████████████▎                                                                                 | 2.3668571428572114/10 [10:33<34:41, 272.65s/it]"
     ]
    },
    {
     "name": "stdout",
     "output_type": "stream",
     "text": [
      "Train Epoch: 3 [10240/22400 (46%)]\tLoss: 0.200392\n",
      "Mem before-during-after: 21712384 21852160 21712384\n"
     ]
    },
    {
     "name": "stderr",
     "output_type": "stream",
     "text": [
      " 24%|█████████████████████████▊                                                                                  | 2.389714285714349/10 [10:39<34:21, 270.93s/it]"
     ]
    },
    {
     "name": "stdout",
     "output_type": "stream",
     "text": [
      "Train Epoch: 3 [10880/22400 (49%)]\tLoss: 0.244855\n",
      "Mem before-during-after: 21712384 21852160 21712384\n"
     ]
    },
    {
     "name": "stderr",
     "output_type": "stream",
     "text": [
      " 24%|██████████████████████████                                                                                  | 2.412571428571487/10 [10:45<33:12, 262.57s/it]"
     ]
    },
    {
     "name": "stdout",
     "output_type": "stream",
     "text": [
      "Train Epoch: 3 [11520/22400 (51%)]\tLoss: 0.609457\n",
      "Mem before-during-after: 21712384 21852160 21712384\n"
     ]
    },
    {
     "name": "stderr",
     "output_type": "stream",
     "text": [
      " 24%|██████████████████████████▎                                                                                 | 2.435428571428625/10 [10:51<35:10, 278.97s/it]"
     ]
    },
    {
     "name": "stdout",
     "output_type": "stream",
     "text": [
      "Train Epoch: 3 [12160/22400 (54%)]\tLoss: 0.203030\n",
      "Mem before-during-after: 21712384 21852160 21712384\n"
     ]
    },
    {
     "name": "stderr",
     "output_type": "stream",
     "text": [
      " 25%|██████████████████████████▎                                                                                | 2.4582857142857626/10 [10:57<33:52, 269.56s/it]"
     ]
    },
    {
     "name": "stdout",
     "output_type": "stream",
     "text": [
      "Train Epoch: 3 [12800/22400 (57%)]\tLoss: 0.644567\n",
      "Mem before-during-after: 21712384 21852160 21712384\n"
     ]
    },
    {
     "name": "stderr",
     "output_type": "stream",
     "text": [
      " 25%|██████████████████████████▌                                                                                | 2.4811428571429004/10 [11:03<33:03, 263.85s/it]"
     ]
    },
    {
     "name": "stdout",
     "output_type": "stream",
     "text": [
      "Train Epoch: 3 [13440/22400 (60%)]\tLoss: 0.360473\n",
      "Mem before-during-after: 21712384 21852160 21712384\n"
     ]
    },
    {
     "name": "stderr",
     "output_type": "stream",
     "text": [
      " 25%|███████████████████████████                                                                                 | 2.504000000000038/10 [11:10<32:50, 262.91s/it]"
     ]
    },
    {
     "name": "stdout",
     "output_type": "stream",
     "text": [
      "Train Epoch: 3 [14080/22400 (63%)]\tLoss: 1.124053\n",
      "Mem before-during-after: 21712384 21852160 21712384\n"
     ]
    },
    {
     "name": "stderr",
     "output_type": "stream",
     "text": [
      " 25%|███████████████████████████▎                                                                                | 2.526857142857176/10 [11:16<34:30, 277.11s/it]"
     ]
    },
    {
     "name": "stdout",
     "output_type": "stream",
     "text": [
      "Train Epoch: 3 [14720/22400 (66%)]\tLoss: 0.506209\n",
      "Mem before-during-after: 21712384 21852160 21712384\n"
     ]
    },
    {
     "name": "stderr",
     "output_type": "stream",
     "text": [
      " 25%|███████████████████████████▌                                                                                | 2.549714285714314/10 [11:22<33:59, 273.75s/it]"
     ]
    },
    {
     "name": "stdout",
     "output_type": "stream",
     "text": [
      "Train Epoch: 3 [15360/22400 (69%)]\tLoss: 0.983833\n",
      "Mem before-during-after: 21712384 21852160 21712384\n"
     ]
    },
    {
     "name": "stderr",
     "output_type": "stream",
     "text": [
      " 26%|███████████████████████████▌                                                                               | 2.5725714285714516/10 [11:28<33:17, 268.97s/it]"
     ]
    },
    {
     "name": "stdout",
     "output_type": "stream",
     "text": [
      "Train Epoch: 3 [16000/22400 (71%)]\tLoss: 0.426353\n",
      "Mem before-during-after: 21712384 21852160 21712384\n"
     ]
    },
    {
     "name": "stderr",
     "output_type": "stream",
     "text": [
      " 26%|███████████████████████████▊                                                                               | 2.5954285714285894/10 [11:34<33:45, 273.58s/it]"
     ]
    },
    {
     "name": "stdout",
     "output_type": "stream",
     "text": [
      "Train Epoch: 3 [16640/22400 (74%)]\tLoss: 0.616285\n",
      "Mem before-during-after: 21712384 21852160 21712384\n"
     ]
    },
    {
     "name": "stderr",
     "output_type": "stream",
     "text": [
      " 26%|████████████████████████████▎                                                                               | 2.618285714285727/10 [11:40<33:51, 275.15s/it]"
     ]
    },
    {
     "name": "stdout",
     "output_type": "stream",
     "text": [
      "Train Epoch: 3 [17280/22400 (77%)]\tLoss: 0.329479\n",
      "Mem before-during-after: 21712384 21852160 21712384\n"
     ]
    },
    {
     "name": "stderr",
     "output_type": "stream",
     "text": [
      " 26%|████████████████████████████▌                                                                               | 2.641142857142865/10 [11:46<31:41, 258.42s/it]"
     ]
    },
    {
     "name": "stdout",
     "output_type": "stream",
     "text": [
      "Train Epoch: 3 [17920/22400 (80%)]\tLoss: 0.384165\n",
      "Mem before-during-after: 21712384 21852160 21712384\n"
     ]
    },
    {
     "name": "stderr",
     "output_type": "stream",
     "text": [
      " 27%|████████████████████████████▊                                                                               | 2.664000000000003/10 [11:53<32:45, 267.89s/it]"
     ]
    },
    {
     "name": "stdout",
     "output_type": "stream",
     "text": [
      "Train Epoch: 3 [18560/22400 (83%)]\tLoss: 0.446404\n",
      "Mem before-during-after: 21712384 21852160 21712384\n"
     ]
    },
    {
     "name": "stderr",
     "output_type": "stream",
     "text": [
      " 27%|████████████████████████████▋                                                                              | 2.6868571428571406/10 [11:59<33:47, 277.18s/it]"
     ]
    },
    {
     "name": "stdout",
     "output_type": "stream",
     "text": [
      "Train Epoch: 3 [19200/22400 (86%)]\tLoss: 0.571961\n",
      "Mem before-during-after: 21712384 21852160 21712384\n"
     ]
    },
    {
     "name": "stderr",
     "output_type": "stream",
     "text": [
      " 27%|████████████████████████████▉                                                                              | 2.7097142857142784/10 [12:05<31:35, 260.01s/it]"
     ]
    },
    {
     "name": "stdout",
     "output_type": "stream",
     "text": [
      "Train Epoch: 3 [19840/22400 (89%)]\tLoss: 0.877851\n",
      "Mem before-during-after: 21712384 21852160 21712384\n"
     ]
    },
    {
     "name": "stderr",
     "output_type": "stream",
     "text": [
      " 27%|█████████████████████████████▌                                                                              | 2.732571428571416/10 [12:11<32:04, 264.75s/it]"
     ]
    },
    {
     "name": "stdout",
     "output_type": "stream",
     "text": [
      "Train Epoch: 3 [20480/22400 (91%)]\tLoss: 0.354597\n",
      "Mem before-during-after: 21712384 21852160 21712384\n"
     ]
    },
    {
     "name": "stderr",
     "output_type": "stream",
     "text": [
      " 28%|█████████████████████████████▊                                                                              | 2.755428571428554/10 [12:17<32:59, 273.22s/it]"
     ]
    },
    {
     "name": "stdout",
     "output_type": "stream",
     "text": [
      "Train Epoch: 3 [21120/22400 (94%)]\tLoss: 0.347013\n",
      "Mem before-during-after: 21712384 21852160 21712384\n"
     ]
    },
    {
     "name": "stderr",
     "output_type": "stream",
     "text": [
      " 28%|██████████████████████████████                                                                              | 2.778285714285692/10 [12:23<32:00, 265.94s/it]"
     ]
    },
    {
     "name": "stdout",
     "output_type": "stream",
     "text": [
      "Train Epoch: 3 [21760/22400 (97%)]\tLoss: 0.900884\n",
      "Mem before-during-after: 21712384 21852160 21712384\n"
     ]
    },
    {
     "name": "stderr",
     "output_type": "stream",
     "text": [
      " 30%|████████████████████████████████▍                                                                           | 3.000571428571357/10 [13:23<30:25, 260.75s/it]"
     ]
    },
    {
     "name": "stdout",
     "output_type": "stream",
     "text": [
      "\n",
      "Test Epoch: 3\tAccuracy: 4503/5600 (80%)\n",
      "\n",
      "Train Epoch: 4 [0/22400 (0%)]\tLoss: 0.311866\n",
      "Mem before-during-after: 21711360 21852160 21712384\n"
     ]
    },
    {
     "name": "stderr",
     "output_type": "stream",
     "text": [
      " 30%|████████████████████████████████▋                                                                           | 3.023999999999923/10 [13:29<30:55, 265.99s/it]"
     ]
    },
    {
     "name": "stdout",
     "output_type": "stream",
     "text": [
      "Train Epoch: 4 [640/22400 (3%)]\tLoss: 0.360512\n",
      "Mem before-during-after: 21712384 21852160 21712384\n"
     ]
    },
    {
     "name": "stderr",
     "output_type": "stream",
     "text": [
      " 30%|████████████████████████████████▉                                                                           | 3.046857142857061/10 [13:35<32:22, 279.42s/it]"
     ]
    },
    {
     "name": "stdout",
     "output_type": "stream",
     "text": [
      "Train Epoch: 4 [1280/22400 (6%)]\tLoss: 0.612707\n",
      "Mem before-during-after: 21712384 21852160 21712384\n"
     ]
    },
    {
     "name": "stderr",
     "output_type": "stream",
     "text": [
      " 31%|█████████████████████████████████▏                                                                          | 3.069714285714199/10 [13:41<30:36, 265.03s/it]"
     ]
    },
    {
     "name": "stdout",
     "output_type": "stream",
     "text": [
      "Train Epoch: 4 [1920/22400 (9%)]\tLoss: 0.835466\n",
      "Mem before-during-after: 21712384 21852160 21712384\n"
     ]
    },
    {
     "name": "stderr",
     "output_type": "stream",
     "text": [
      " 31%|█████████████████████████████████                                                                          | 3.0925714285713366/10 [13:47<30:05, 261.40s/it]"
     ]
    },
    {
     "name": "stdout",
     "output_type": "stream",
     "text": [
      "Train Epoch: 4 [2560/22400 (11%)]\tLoss: 0.341630\n",
      "Mem before-during-after: 21712384 21852160 21712384\n"
     ]
    },
    {
     "name": "stderr",
     "output_type": "stream",
     "text": [
      " 31%|█████████████████████████████████▎                                                                         | 3.1154285714284744/10 [13:53<29:17, 255.21s/it]"
     ]
    },
    {
     "name": "stdout",
     "output_type": "stream",
     "text": [
      "Train Epoch: 4 [3200/22400 (14%)]\tLoss: 0.537740\n",
      "Mem before-during-after: 21712384 21852160 21712384\n"
     ]
    },
    {
     "name": "stderr",
     "output_type": "stream",
     "text": [
      " 31%|█████████████████████████████████▉                                                                          | 3.138285714285612/10 [13:59<29:21, 256.76s/it]"
     ]
    },
    {
     "name": "stdout",
     "output_type": "stream",
     "text": [
      "Train Epoch: 4 [3840/22400 (17%)]\tLoss: 0.653202\n",
      "Mem before-during-after: 21712384 21852160 21712384\n"
     ]
    },
    {
     "name": "stderr",
     "output_type": "stream",
     "text": [
      " 32%|██████████████████████████████████▍                                                                          | 3.16114285714275/10 [14:06<37:16, 326.96s/it]"
     ]
    },
    {
     "name": "stdout",
     "output_type": "stream",
     "text": [
      "Train Epoch: 4 [4480/22400 (20%)]\tLoss: 0.640910\n",
      "Mem before-during-after: 21712384 21852160 21712384\n"
     ]
    },
    {
     "name": "stderr",
     "output_type": "stream",
     "text": [
      " 32%|██████████████████████████████████▍                                                                         | 3.183999999999888/10 [14:12<29:02, 255.63s/it]"
     ]
    },
    {
     "name": "stdout",
     "output_type": "stream",
     "text": [
      "Train Epoch: 4 [5120/22400 (23%)]\tLoss: 1.054513\n",
      "Mem before-during-after: 21712384 21852160 21712384\n"
     ]
    },
    {
     "name": "stderr",
     "output_type": "stream",
     "text": [
      " 32%|██████████████████████████████████▎                                                                        | 3.2068571428570256/10 [14:18<28:59, 256.14s/it]"
     ]
    },
    {
     "name": "stdout",
     "output_type": "stream",
     "text": [
      "Train Epoch: 4 [5760/22400 (26%)]\tLoss: 0.463778\n",
      "Mem before-during-after: 21712384 21852160 21712384\n"
     ]
    },
    {
     "name": "stderr",
     "output_type": "stream",
     "text": [
      " 32%|██████████████████████████████████▌                                                                        | 3.2297142857141634/10 [14:24<28:55, 256.35s/it]"
     ]
    },
    {
     "name": "stdout",
     "output_type": "stream",
     "text": [
      "Train Epoch: 4 [6400/22400 (29%)]\tLoss: 0.462570\n",
      "Mem before-during-after: 21712384 21852160 21712384\n"
     ]
    },
    {
     "name": "stderr",
     "output_type": "stream",
     "text": [
      " 33%|███████████████████████████████████▏                                                                        | 3.252571428571301/10 [14:30<28:53, 256.94s/it]"
     ]
    },
    {
     "name": "stdout",
     "output_type": "stream",
     "text": [
      "Train Epoch: 4 [7040/22400 (31%)]\tLoss: 0.625434\n",
      "Mem before-during-after: 21712384 21852160 21712384\n"
     ]
    },
    {
     "name": "stderr",
     "output_type": "stream",
     "text": [
      " 33%|███████████████████████████████████▎                                                                        | 3.275428571428439/10 [14:36<28:40, 255.80s/it]"
     ]
    },
    {
     "name": "stdout",
     "output_type": "stream",
     "text": [
      "Train Epoch: 4 [7680/22400 (34%)]\tLoss: 0.359934\n",
      "Mem before-during-after: 21712384 21852160 21712384\n"
     ]
    },
    {
     "name": "stderr",
     "output_type": "stream",
     "text": [
      " 33%|███████████████████████████████████▌                                                                        | 3.298285714285577/10 [14:42<28:00, 250.68s/it]"
     ]
    },
    {
     "name": "stdout",
     "output_type": "stream",
     "text": [
      "Train Epoch: 4 [8320/22400 (37%)]\tLoss: 0.146133\n",
      "Mem before-during-after: 21712384 21852160 21712384\n"
     ]
    },
    {
     "name": "stderr",
     "output_type": "stream",
     "text": [
      " 33%|███████████████████████████████████▌                                                                       | 3.3211428571427146/10 [14:48<28:44, 258.14s/it]"
     ]
    },
    {
     "name": "stdout",
     "output_type": "stream",
     "text": [
      "Train Epoch: 4 [8960/22400 (40%)]\tLoss: 0.085173\n",
      "Mem before-during-after: 21712384 21852160 21712384\n"
     ]
    },
    {
     "name": "stderr",
     "output_type": "stream",
     "text": [
      " 33%|███████████████████████████████████▊                                                                       | 3.3439999999998524/10 [14:54<29:31, 266.18s/it]"
     ]
    },
    {
     "name": "stdout",
     "output_type": "stream",
     "text": [
      "Train Epoch: 4 [9600/22400 (43%)]\tLoss: 0.377244\n",
      "Mem before-during-after: 21712384 21852160 21712384\n"
     ]
    },
    {
     "name": "stderr",
     "output_type": "stream",
     "text": [
      " 34%|████████████████████████████████████                                                                       | 3.3668571428569902/10 [14:59<28:23, 256.75s/it]"
     ]
    },
    {
     "name": "stdout",
     "output_type": "stream",
     "text": [
      "Train Epoch: 4 [10240/22400 (46%)]\tLoss: 0.594058\n",
      "Mem before-during-after: 21712384 21852160 21712384\n"
     ]
    },
    {
     "name": "stderr",
     "output_type": "stream",
     "text": [
      " 34%|████████████████████████████████████▌                                                                       | 3.389714285714128/10 [15:05<28:32, 259.09s/it]"
     ]
    },
    {
     "name": "stdout",
     "output_type": "stream",
     "text": [
      "Train Epoch: 4 [10880/22400 (49%)]\tLoss: 0.934955\n",
      "Mem before-during-after: 21712384 21852160 21712384\n"
     ]
    },
    {
     "name": "stderr",
     "output_type": "stream",
     "text": [
      " 34%|████████████████████████████████████▊                                                                       | 3.412571428571266/10 [15:11<28:24, 258.81s/it]"
     ]
    },
    {
     "name": "stdout",
     "output_type": "stream",
     "text": [
      "Train Epoch: 4 [11520/22400 (51%)]\tLoss: 0.381085\n",
      "Mem before-during-after: 21712384 21852160 21712384\n"
     ]
    },
    {
     "name": "stderr",
     "output_type": "stream",
     "text": [
      " 34%|████████████████████████████████████▊                                                                      | 3.4354285714284036/10 [15:17<28:54, 264.16s/it]"
     ]
    },
    {
     "name": "stdout",
     "output_type": "stream",
     "text": [
      "Train Epoch: 4 [12160/22400 (54%)]\tLoss: 0.232236\n",
      "Mem before-during-after: 21712384 21852160 21712384\n"
     ]
    },
    {
     "name": "stderr",
     "output_type": "stream",
     "text": [
      " 35%|█████████████████████████████████████                                                                      | 3.4582857142855414/10 [15:23<28:05, 257.71s/it]"
     ]
    },
    {
     "name": "stdout",
     "output_type": "stream",
     "text": [
      "Train Epoch: 4 [12800/22400 (57%)]\tLoss: 0.381893\n",
      "Mem before-during-after: 21712384 21852160 21712384\n"
     ]
    },
    {
     "name": "stderr",
     "output_type": "stream",
     "text": [
      " 35%|█████████████████████████████████████▏                                                                     | 3.4811428571426792/10 [15:29<27:36, 254.06s/it]"
     ]
    },
    {
     "name": "stdout",
     "output_type": "stream",
     "text": [
      "Train Epoch: 4 [13440/22400 (60%)]\tLoss: 0.342960\n",
      "Mem before-during-after: 21712384 21852160 21712384\n"
     ]
    },
    {
     "name": "stderr",
     "output_type": "stream",
     "text": [
      " 35%|█████████████████████████████████████▊                                                                      | 3.503999999999817/10 [15:35<27:29, 254.00s/it]"
     ]
    },
    {
     "name": "stdout",
     "output_type": "stream",
     "text": [
      "Train Epoch: 4 [14080/22400 (63%)]\tLoss: 0.378309\n",
      "Mem before-during-after: 21712384 21852160 21712384\n"
     ]
    },
    {
     "name": "stderr",
     "output_type": "stream",
     "text": [
      " 35%|██████████████████████████████████████                                                                      | 3.526857142856955/10 [15:41<28:19, 262.62s/it]"
     ]
    },
    {
     "name": "stdout",
     "output_type": "stream",
     "text": [
      "Train Epoch: 4 [14720/22400 (66%)]\tLoss: 0.248625\n",
      "Mem before-during-after: 21712384 21852160 21712384\n"
     ]
    },
    {
     "name": "stderr",
     "output_type": "stream",
     "text": [
      " 35%|█████████████████████████████████████▉                                                                     | 3.5497142857140926/10 [15:47<28:11, 262.20s/it]"
     ]
    },
    {
     "name": "stdout",
     "output_type": "stream",
     "text": [
      "Train Epoch: 4 [15360/22400 (69%)]\tLoss: 0.454568\n",
      "Mem before-during-after: 21712384 21852160 21712384\n"
     ]
    },
    {
     "name": "stderr",
     "output_type": "stream",
     "text": [
      " 36%|██████████████████████████████████████▏                                                                    | 3.5725714285712304/10 [15:53<27:47, 259.43s/it]"
     ]
    },
    {
     "name": "stdout",
     "output_type": "stream",
     "text": [
      "Train Epoch: 4 [16000/22400 (71%)]\tLoss: 0.306280\n",
      "Mem before-during-after: 21712384 21852160 21712384\n"
     ]
    },
    {
     "name": "stderr",
     "output_type": "stream",
     "text": [
      " 36%|██████████████████████████████████████▍                                                                    | 3.5954285714283682/10 [15:59<26:55, 252.18s/it]"
     ]
    },
    {
     "name": "stdout",
     "output_type": "stream",
     "text": [
      "Train Epoch: 4 [16640/22400 (74%)]\tLoss: 0.566106\n",
      "Mem before-during-after: 21712384 21852160 21712384\n"
     ]
    },
    {
     "name": "stderr",
     "output_type": "stream",
     "text": [
      " 36%|███████████████████████████████████████                                                                     | 3.618285714285506/10 [16:05<27:55, 262.50s/it]"
     ]
    },
    {
     "name": "stdout",
     "output_type": "stream",
     "text": [
      "Train Epoch: 4 [17280/22400 (77%)]\tLoss: 0.478935\n",
      "Mem before-during-after: 21712384 21852160 21712384\n"
     ]
    },
    {
     "name": "stderr",
     "output_type": "stream",
     "text": [
      " 36%|███████████████████████████████████████▎                                                                    | 3.641142857142644/10 [16:10<27:13, 256.81s/it]"
     ]
    },
    {
     "name": "stdout",
     "output_type": "stream",
     "text": [
      "Train Epoch: 4 [17920/22400 (80%)]\tLoss: 0.305057\n",
      "Mem before-during-after: 21712384 21852160 21712384\n"
     ]
    },
    {
     "name": "stderr",
     "output_type": "stream",
     "text": [
      " 37%|███████████████████████████████████████▏                                                                   | 3.6639999999997817/10 [16:16<27:21, 259.13s/it]"
     ]
    },
    {
     "name": "stdout",
     "output_type": "stream",
     "text": [
      "Train Epoch: 4 [18560/22400 (83%)]\tLoss: 0.209802\n",
      "Mem before-during-after: 21712384 21852160 21712384\n"
     ]
    },
    {
     "name": "stderr",
     "output_type": "stream",
     "text": [
      " 37%|███████████████████████████████████████▍                                                                   | 3.6868571428569195/10 [16:22<27:09, 258.16s/it]"
     ]
    },
    {
     "name": "stdout",
     "output_type": "stream",
     "text": [
      "Train Epoch: 4 [19200/22400 (86%)]\tLoss: 0.991636\n",
      "Mem before-during-after: 21712384 21852160 21712384\n"
     ]
    },
    {
     "name": "stderr",
     "output_type": "stream",
     "text": [
      " 37%|███████████████████████████████████████▋                                                                   | 3.7097142857140573/10 [16:28<26:27, 252.36s/it]"
     ]
    },
    {
     "name": "stdout",
     "output_type": "stream",
     "text": [
      "Train Epoch: 4 [19840/22400 (89%)]\tLoss: 0.649874\n",
      "Mem before-during-after: 21712384 21852160 21712384\n"
     ]
    },
    {
     "name": "stderr",
     "output_type": "stream",
     "text": [
      " 37%|████████████████████████████████████████▎                                                                   | 3.732571428571195/10 [16:34<26:53, 257.49s/it]"
     ]
    },
    {
     "name": "stdout",
     "output_type": "stream",
     "text": [
      "Train Epoch: 4 [20480/22400 (91%)]\tLoss: 0.563804\n",
      "Mem before-during-after: 21712384 21852160 21712384\n"
     ]
    },
    {
     "name": "stderr",
     "output_type": "stream",
     "text": [
      " 38%|████████████████████████████████████████▌                                                                   | 3.755428571428333/10 [16:40<27:15, 261.85s/it]"
     ]
    },
    {
     "name": "stdout",
     "output_type": "stream",
     "text": [
      "Train Epoch: 4 [21120/22400 (94%)]\tLoss: 0.855905\n",
      "Mem before-during-after: 21712384 21852160 21712384\n"
     ]
    },
    {
     "name": "stderr",
     "output_type": "stream",
     "text": [
      " 38%|████████████████████████████████████████▍                                                                  | 3.7782857142854707/10 [16:46<26:59, 260.31s/it]"
     ]
    },
    {
     "name": "stdout",
     "output_type": "stream",
     "text": [
      "Train Epoch: 4 [21760/22400 (97%)]\tLoss: 0.481858\n",
      "Mem before-during-after: 21712384 21852160 21712384\n"
     ]
    },
    {
     "name": "stderr",
     "output_type": "stream",
     "text": [
      " 40%|███████████████████████████████████████████▏                                                                | 4.000571428571136/10 [17:43<25:40, 256.71s/it]"
     ]
    },
    {
     "name": "stdout",
     "output_type": "stream",
     "text": [
      "\n",
      "Test Epoch: 4\tAccuracy: 4750/5600 (85%)\n",
      "\n",
      "Train Epoch: 5 [0/22400 (0%)]\tLoss: 0.648528\n",
      "Mem before-during-after: 21711360 21852160 21712384\n"
     ]
    },
    {
     "name": "stderr",
     "output_type": "stream",
     "text": [
      " 40%|███████████████████████████████████████████▊                                                                 | 4.02399999999972/10 [17:49<25:55, 260.36s/it]"
     ]
    },
    {
     "name": "stdout",
     "output_type": "stream",
     "text": [
      "Train Epoch: 5 [640/22400 (3%)]\tLoss: 0.547149\n",
      "Mem before-during-after: 21712384 21852160 21712384\n"
     ]
    },
    {
     "name": "stderr",
     "output_type": "stream",
     "text": [
      " 40%|███████████████████████████████████████████▋                                                                | 4.046857142856876/10 [17:55<25:09, 253.61s/it]"
     ]
    },
    {
     "name": "stdout",
     "output_type": "stream",
     "text": [
      "Train Epoch: 5 [1280/22400 (6%)]\tLoss: 0.314340\n",
      "Mem before-during-after: 21712384 21852160 21712384\n"
     ]
    },
    {
     "name": "stderr",
     "output_type": "stream",
     "text": [
      " 41%|███████████████████████████████████████████▉                                                                | 4.069714285714031/10 [18:01<25:37, 259.33s/it]"
     ]
    },
    {
     "name": "stdout",
     "output_type": "stream",
     "text": [
      "Train Epoch: 5 [1920/22400 (9%)]\tLoss: 0.321558\n",
      "Mem before-during-after: 21712384 21852160 21712384\n"
     ]
    },
    {
     "name": "stderr",
     "output_type": "stream",
     "text": [
      " 41%|████████████████████████████████████████████▏                                                               | 4.092571428571187/10 [18:07<25:32, 259.41s/it]"
     ]
    },
    {
     "name": "stdout",
     "output_type": "stream",
     "text": [
      "Train Epoch: 5 [2560/22400 (11%)]\tLoss: 0.560838\n",
      "Mem before-during-after: 21712384 21852160 21712384\n"
     ]
    },
    {
     "name": "stderr",
     "output_type": "stream",
     "text": [
      " 41%|████████████████████████████████████████████                                                               | 4.1154285714283425/10 [18:13<25:13, 257.15s/it]"
     ]
    },
    {
     "name": "stdout",
     "output_type": "stream",
     "text": [
      "Train Epoch: 5 [3200/22400 (14%)]\tLoss: 0.191161\n",
      "Mem before-during-after: 21712384 21852160 21712384\n"
     ]
    },
    {
     "name": "stderr",
     "output_type": "stream",
     "text": [
      " 41%|████████████████████████████████████████████▋                                                               | 4.138285714285498/10 [18:19<24:58, 255.65s/it]"
     ]
    },
    {
     "name": "stdout",
     "output_type": "stream",
     "text": [
      "Train Epoch: 5 [3840/22400 (17%)]\tLoss: 0.640322\n",
      "Mem before-during-after: 21712384 21852160 21712384\n"
     ]
    },
    {
     "name": "stderr",
     "output_type": "stream",
     "text": [
      " 42%|████████████████████████████████████████████▉                                                               | 4.161142857142654/10 [18:25<26:08, 268.71s/it]"
     ]
    },
    {
     "name": "stdout",
     "output_type": "stream",
     "text": [
      "Train Epoch: 5 [4480/22400 (20%)]\tLoss: 0.334752\n",
      "Mem before-during-after: 21712384 21852160 21712384\n"
     ]
    },
    {
     "name": "stderr",
     "output_type": "stream",
     "text": [
      " 42%|█████████████████████████████████████████████▏                                                              | 4.183999999999809/10 [18:30<26:37, 274.65s/it]"
     ]
    },
    {
     "name": "stdout",
     "output_type": "stream",
     "text": [
      "Train Epoch: 5 [5120/22400 (23%)]\tLoss: 0.081259\n",
      "Mem before-during-after: 21712384 21852160 21712384\n"
     ]
    },
    {
     "name": "stderr",
     "output_type": "stream",
     "text": [
      " 42%|█████████████████████████████████████████████▍                                                              | 4.206857142856965/10 [18:36<25:06, 260.04s/it]"
     ]
    },
    {
     "name": "stdout",
     "output_type": "stream",
     "text": [
      "Train Epoch: 5 [5760/22400 (26%)]\tLoss: 0.070561\n",
      "Mem before-during-after: 21712384 21852160 21712384\n"
     ]
    },
    {
     "name": "stderr",
     "output_type": "stream",
     "text": [
      " 42%|██████████████████████████████████████████████                                                               | 4.22971428571412/10 [18:42<24:12, 251.72s/it]"
     ]
    },
    {
     "name": "stdout",
     "output_type": "stream",
     "text": [
      "Train Epoch: 5 [6400/22400 (29%)]\tLoss: 0.194084\n",
      "Mem before-during-after: 21712384 21852160 21712384\n"
     ]
    },
    {
     "name": "stderr",
     "output_type": "stream",
     "text": [
      " 43%|█████████████████████████████████████████████▉                                                              | 4.252571428571276/10 [18:48<24:42, 257.94s/it]"
     ]
    },
    {
     "name": "stdout",
     "output_type": "stream",
     "text": [
      "Train Epoch: 5 [7040/22400 (31%)]\tLoss: 0.378909\n",
      "Mem before-during-after: 21712384 21852160 21712384\n"
     ]
    },
    {
     "name": "stderr",
     "output_type": "stream",
     "text": [
      " 43%|█████████████████████████████████████████████▋                                                             | 4.2754285714284315/10 [18:54<24:37, 258.08s/it]"
     ]
    },
    {
     "name": "stdout",
     "output_type": "stream",
     "text": [
      "Train Epoch: 5 [7680/22400 (34%)]\tLoss: 0.162711\n",
      "Mem before-during-after: 21712384 21852160 21712384\n"
     ]
    },
    {
     "name": "stderr",
     "output_type": "stream",
     "text": [
      " 43%|██████████████████████████████████████████████▍                                                             | 4.298285714285587/10 [19:00<23:53, 251.37s/it]"
     ]
    },
    {
     "name": "stdout",
     "output_type": "stream",
     "text": [
      "Train Epoch: 5 [8320/22400 (37%)]\tLoss: 0.343751\n",
      "Mem before-during-after: 21712384 21852160 21712384\n"
     ]
    },
    {
     "name": "stderr",
     "output_type": "stream",
     "text": [
      " 43%|██████████████████████████████████████████████▋                                                             | 4.321142857142743/10 [19:06<24:09, 255.29s/it]"
     ]
    },
    {
     "name": "stdout",
     "output_type": "stream",
     "text": [
      "Train Epoch: 5 [8960/22400 (40%)]\tLoss: 0.154410\n",
      "Mem before-during-after: 21712384 21852160 21712384\n"
     ]
    },
    {
     "name": "stderr",
     "output_type": "stream",
     "text": [
      " 43%|██████████████████████████████████████████████▉                                                             | 4.343999999999898/10 [19:12<24:17, 257.68s/it]"
     ]
    },
    {
     "name": "stdout",
     "output_type": "stream",
     "text": [
      "Train Epoch: 5 [9600/22400 (43%)]\tLoss: 0.657787\n",
      "Mem before-during-after: 21712384 21852160 21712384\n"
     ]
    },
    {
     "name": "stderr",
     "output_type": "stream",
     "text": [
      " 44%|███████████████████████████████████████████████▏                                                            | 4.366857142857054/10 [19:18<24:20, 259.22s/it]"
     ]
    },
    {
     "name": "stdout",
     "output_type": "stream",
     "text": [
      "Train Epoch: 5 [10240/22400 (46%)]\tLoss: 0.558440\n",
      "Mem before-during-after: 21712384 21852160 21712384\n"
     ]
    },
    {
     "name": "stderr",
     "output_type": "stream",
     "text": [
      " 44%|███████████████████████████████████████████████▍                                                            | 4.389714285714209/10 [19:24<25:30, 272.88s/it]"
     ]
    },
    {
     "name": "stdout",
     "output_type": "stream",
     "text": [
      "Train Epoch: 5 [10880/22400 (49%)]\tLoss: 0.479880\n",
      "Mem before-during-after: 21712384 21852160 21712384\n"
     ]
    },
    {
     "name": "stderr",
     "output_type": "stream",
     "text": [
      " 44%|███████████████████████████████████████████████▋                                                            | 4.412571428571365/10 [19:30<25:30, 273.96s/it]"
     ]
    },
    {
     "name": "stdout",
     "output_type": "stream",
     "text": [
      "Train Epoch: 5 [11520/22400 (51%)]\tLoss: 0.761966\n",
      "Mem before-during-after: 21712384 21852160 21712384\n"
     ]
    },
    {
     "name": "stderr",
     "output_type": "stream",
     "text": [
      " 44%|████████████████████████████████████████████████▎                                                            | 4.43542857142852/10 [19:36<23:57, 258.32s/it]"
     ]
    },
    {
     "name": "stdout",
     "output_type": "stream",
     "text": [
      "Train Epoch: 5 [12160/22400 (54%)]\tLoss: 0.206219\n",
      "Mem before-during-after: 21712384 21852160 21712384\n"
     ]
    },
    {
     "name": "stderr",
     "output_type": "stream",
     "text": [
      " 45%|████████████████████████████████████████████████▏                                                           | 4.458285714285676/10 [19:42<24:08, 261.41s/it]"
     ]
    },
    {
     "name": "stdout",
     "output_type": "stream",
     "text": [
      "Train Epoch: 5 [12800/22400 (57%)]\tLoss: 0.246579\n",
      "Mem before-during-after: 21712384 21852160 21712384\n"
     ]
    },
    {
     "name": "stderr",
     "output_type": "stream",
     "text": [
      " 45%|████████████████████████████████████████████████▍                                                           | 4.481142857142832/10 [19:47<23:29, 255.43s/it]"
     ]
    },
    {
     "name": "stdout",
     "output_type": "stream",
     "text": [
      "Train Epoch: 5 [13440/22400 (60%)]\tLoss: 0.526196\n",
      "Mem before-during-after: 21712384 21852160 21712384\n"
     ]
    },
    {
     "name": "stderr",
     "output_type": "stream",
     "text": [
      " 45%|████████████████████████████████████████████████▋                                                           | 4.503999999999987/10 [19:53<23:49, 260.12s/it]"
     ]
    },
    {
     "name": "stdout",
     "output_type": "stream",
     "text": [
      "Train Epoch: 5 [14080/22400 (63%)]\tLoss: 0.410368\n",
      "Mem before-during-after: 21712384 21852160 21712384\n"
     ]
    },
    {
     "name": "stderr",
     "output_type": "stream",
     "text": [
      " 45%|████████████████████████████████████████████████▉                                                           | 4.526857142857143/10 [19:59<23:42, 259.83s/it]"
     ]
    },
    {
     "name": "stdout",
     "output_type": "stream",
     "text": [
      "Train Epoch: 5 [14720/22400 (66%)]\tLoss: 0.263436\n",
      "Mem before-during-after: 21712384 21852160 21712384\n"
     ]
    },
    {
     "name": "stderr",
     "output_type": "stream",
     "text": [
      " 45%|█████████████████████████████████████████████████▏                                                          | 4.549714285714298/10 [20:05<23:08, 254.79s/it]"
     ]
    },
    {
     "name": "stdout",
     "output_type": "stream",
     "text": [
      "Train Epoch: 5 [15360/22400 (69%)]\tLoss: 0.185933\n",
      "Mem before-during-after: 21712384 21852160 21712384\n"
     ]
    },
    {
     "name": "stderr",
     "output_type": "stream",
     "text": [
      " 46%|█████████████████████████████████████████████████▍                                                          | 4.572571428571454/10 [20:11<23:54, 264.37s/it]"
     ]
    },
    {
     "name": "stdout",
     "output_type": "stream",
     "text": [
      "Train Epoch: 5 [16000/22400 (71%)]\tLoss: 0.433644\n",
      "Mem before-during-after: 21712384 21852160 21712384\n"
     ]
    },
    {
     "name": "stderr",
     "output_type": "stream",
     "text": [
      " 46%|█████████████████████████████████████████████████▋                                                          | 4.595428571428609/10 [20:17<23:52, 265.01s/it]"
     ]
    },
    {
     "name": "stdout",
     "output_type": "stream",
     "text": [
      "Train Epoch: 5 [16640/22400 (74%)]\tLoss: 0.208349\n",
      "Mem before-during-after: 21712384 21852160 21712384\n"
     ]
    },
    {
     "name": "stderr",
     "output_type": "stream",
     "text": [
      " 46%|█████████████████████████████████████████████████▉                                                          | 4.618285714285765/10 [20:23<24:55, 277.81s/it]"
     ]
    },
    {
     "name": "stdout",
     "output_type": "stream",
     "text": [
      "Train Epoch: 5 [17280/22400 (77%)]\tLoss: 0.144803\n",
      "Mem before-during-after: 21712384 21852160 21712384\n"
     ]
    },
    {
     "name": "stderr",
     "output_type": "stream",
     "text": [
      " 46%|█████████████████████████████████████████████████▋                                                         | 4.6411428571429205/10 [20:29<22:59, 257.49s/it]"
     ]
    },
    {
     "name": "stdout",
     "output_type": "stream",
     "text": [
      "Train Epoch: 5 [17920/22400 (80%)]\tLoss: 0.312893\n",
      "Mem before-during-after: 21712384 21852160 21712384\n"
     ]
    },
    {
     "name": "stderr",
     "output_type": "stream",
     "text": [
      " 47%|██████████████████████████████████████████████████▎                                                         | 4.664000000000076/10 [20:35<22:44, 255.78s/it]"
     ]
    },
    {
     "name": "stdout",
     "output_type": "stream",
     "text": [
      "Train Epoch: 5 [18560/22400 (83%)]\tLoss: 0.226767\n",
      "Mem before-during-after: 21712384 21852160 21712384\n"
     ]
    },
    {
     "name": "stderr",
     "output_type": "stream",
     "text": [
      " 47%|██████████████████████████████████████████████████▌                                                         | 4.686857142857232/10 [20:41<23:51, 269.43s/it]"
     ]
    },
    {
     "name": "stdout",
     "output_type": "stream",
     "text": [
      "Train Epoch: 5 [19200/22400 (86%)]\tLoss: 0.067599\n",
      "Mem before-during-after: 21712384 21852160 21712384\n"
     ]
    },
    {
     "name": "stderr",
     "output_type": "stream",
     "text": [
      " 47%|██████████████████████████████████████████████████▊                                                         | 4.709714285714387/10 [20:47<22:54, 259.78s/it]"
     ]
    },
    {
     "name": "stdout",
     "output_type": "stream",
     "text": [
      "Train Epoch: 5 [19840/22400 (89%)]\tLoss: 0.902989\n",
      "Mem before-during-after: 21712384 21852160 21712384\n"
     ]
    },
    {
     "name": "stderr",
     "output_type": "stream",
     "text": [
      " 47%|███████████████████████████████████████████████████                                                         | 4.732571428571543/10 [20:53<22:29, 256.22s/it]"
     ]
    },
    {
     "name": "stdout",
     "output_type": "stream",
     "text": [
      "Train Epoch: 5 [20480/22400 (91%)]\tLoss: 0.435609\n",
      "Mem before-during-after: 21712384 21852160 21712384\n"
     ]
    },
    {
     "name": "stderr",
     "output_type": "stream",
     "text": [
      " 48%|███████████████████████████████████████████████████▎                                                        | 4.755428571428698/10 [20:59<22:29, 257.39s/it]"
     ]
    },
    {
     "name": "stdout",
     "output_type": "stream",
     "text": [
      "Train Epoch: 5 [21120/22400 (94%)]\tLoss: 0.875082\n",
      "Mem before-during-after: 21712384 21852160 21712384\n"
     ]
    },
    {
     "name": "stderr",
     "output_type": "stream",
     "text": [
      " 48%|███████████████████████████████████████████████████▌                                                        | 4.778285714285854/10 [21:05<22:32, 259.09s/it]"
     ]
    },
    {
     "name": "stdout",
     "output_type": "stream",
     "text": [
      "Train Epoch: 5 [21760/22400 (97%)]\tLoss: 0.233305\n",
      "Mem before-during-after: 21712384 21852160 21712384\n"
     ]
    },
    {
     "name": "stderr",
     "output_type": "stream",
     "text": [
      " 50%|██████████████████████████████████████████████████████                                                      | 5.000571428571692/10 [22:02<22:03, 264.80s/it]"
     ]
    },
    {
     "name": "stdout",
     "output_type": "stream",
     "text": [
      "\n",
      "Test Epoch: 5\tAccuracy: 4833/5600 (86%)\n",
      "\n",
      "Train Epoch: 6 [0/22400 (0%)]\tLoss: 0.217588\n",
      "Mem before-during-after: 21711360 21852160 21712384\n"
     ]
    },
    {
     "name": "stderr",
     "output_type": "stream",
     "text": [
      " 50%|██████████████████████████████████████████████████████▎                                                     | 5.024000000000276/10 [22:08<21:42, 261.73s/it]"
     ]
    },
    {
     "name": "stdout",
     "output_type": "stream",
     "text": [
      "Train Epoch: 6 [640/22400 (3%)]\tLoss: 0.309259\n",
      "Mem before-during-after: 21712384 21852160 21712384\n"
     ]
    },
    {
     "name": "stderr",
     "output_type": "stream",
     "text": [
      " 50%|██████████████████████████████████████████████████████▌                                                     | 5.046857142857432/10 [22:14<21:47, 263.90s/it]"
     ]
    },
    {
     "name": "stdout",
     "output_type": "stream",
     "text": [
      "Train Epoch: 6 [1280/22400 (6%)]\tLoss: 0.125817\n",
      "Mem before-during-after: 21712384 21852160 21712384\n"
     ]
    },
    {
     "name": "stderr",
     "output_type": "stream",
     "text": [
      " 51%|██████████████████████████████████████████████████████▊                                                     | 5.069714285714587/10 [22:20<21:02, 256.02s/it]"
     ]
    },
    {
     "name": "stdout",
     "output_type": "stream",
     "text": [
      "Train Epoch: 6 [1920/22400 (9%)]\tLoss: 0.008548\n",
      "Mem before-during-after: 21712384 21852160 21712384\n"
     ]
    },
    {
     "name": "stderr",
     "output_type": "stream",
     "text": [
      " 51%|██████████████████████████████████████████████████████▉                                                     | 5.092571428571743/10 [22:26<21:24, 261.79s/it]"
     ]
    },
    {
     "name": "stdout",
     "output_type": "stream",
     "text": [
      "Train Epoch: 6 [2560/22400 (11%)]\tLoss: 0.329229\n",
      "Mem before-during-after: 21712384 21852160 21712384\n"
     ]
    },
    {
     "name": "stderr",
     "output_type": "stream",
     "text": [
      " 51%|██████████████████████████████████████████████████████▋                                                    | 5.1154285714288985/10 [22:31<20:39, 253.68s/it]"
     ]
    },
    {
     "name": "stdout",
     "output_type": "stream",
     "text": [
      "Train Epoch: 6 [3200/22400 (14%)]\tLoss: 0.122134\n",
      "Mem before-during-after: 21712384 21852160 21712384\n"
     ]
    },
    {
     "name": "stderr",
     "output_type": "stream",
     "text": [
      " 51%|███████████████████████████████████████████████████████▍                                                    | 5.138285714286054/10 [22:37<20:55, 258.20s/it]"
     ]
    },
    {
     "name": "stdout",
     "output_type": "stream",
     "text": [
      "Train Epoch: 6 [3840/22400 (17%)]\tLoss: 0.148480\n",
      "Mem before-during-after: 21712384 21852160 21712384\n"
     ]
    },
    {
     "name": "stderr",
     "output_type": "stream",
     "text": [
      " 52%|████████████████████████████████████████████████████████▎                                                    | 5.16114285714321/10 [22:43<21:05, 261.50s/it]"
     ]
    },
    {
     "name": "stdout",
     "output_type": "stream",
     "text": [
      "Train Epoch: 6 [4480/22400 (20%)]\tLoss: 0.715450\n",
      "Mem before-during-after: 21712384 21852160 21712384\n"
     ]
    },
    {
     "name": "stderr",
     "output_type": "stream",
     "text": [
      " 52%|███████████████████████████████████████████████████████▉                                                    | 5.184000000000365/10 [22:49<21:26, 267.19s/it]"
     ]
    },
    {
     "name": "stdout",
     "output_type": "stream",
     "text": [
      "Train Epoch: 6 [5120/22400 (23%)]\tLoss: 0.417366\n",
      "Mem before-during-after: 21712384 21852160 21712384\n"
     ]
    },
    {
     "name": "stderr",
     "output_type": "stream",
     "text": [
      " 52%|████████████████████████████████████████████████████████▏                                                   | 5.206857142857521/10 [22:55<20:49, 260.72s/it]"
     ]
    },
    {
     "name": "stdout",
     "output_type": "stream",
     "text": [
      "Train Epoch: 6 [5760/22400 (26%)]\tLoss: 0.297306\n",
      "Mem before-during-after: 21712384 21852160 21712384\n"
     ]
    },
    {
     "name": "stderr",
     "output_type": "stream",
     "text": [
      " 52%|████████████████████████████████████████████████████████▍                                                   | 5.229714285714676/10 [23:01<20:43, 260.64s/it]"
     ]
    },
    {
     "name": "stdout",
     "output_type": "stream",
     "text": [
      "Train Epoch: 6 [6400/22400 (29%)]\tLoss: 0.439206\n",
      "Mem before-during-after: 21712384 21852160 21712384\n"
     ]
    },
    {
     "name": "stderr",
     "output_type": "stream",
     "text": [
      " 53%|████████████████████████████████████████████████████████▋                                                   | 5.252571428571832/10 [23:07<21:14, 268.53s/it]"
     ]
    },
    {
     "name": "stdout",
     "output_type": "stream",
     "text": [
      "Train Epoch: 6 [7040/22400 (31%)]\tLoss: 0.203403\n",
      "Mem before-during-after: 21712384 21852160 21712384\n"
     ]
    },
    {
     "name": "stderr",
     "output_type": "stream",
     "text": [
      " 53%|████████████████████████████████████████████████████████▍                                                  | 5.2754285714289875/10 [23:13<20:17, 257.62s/it]"
     ]
    },
    {
     "name": "stdout",
     "output_type": "stream",
     "text": [
      "Train Epoch: 6 [7680/22400 (34%)]\tLoss: 0.289981\n",
      "Mem before-during-after: 21712384 21852160 21712384\n"
     ]
    },
    {
     "name": "stderr",
     "output_type": "stream",
     "text": [
      " 53%|█████████████████████████████████████████████████████████▏                                                  | 5.298285714286143/10 [23:19<19:42, 251.41s/it]"
     ]
    },
    {
     "name": "stdout",
     "output_type": "stream",
     "text": [
      "Train Epoch: 6 [8320/22400 (37%)]\tLoss: 0.669091\n",
      "Mem before-during-after: 21712384 21852160 21712384\n"
     ]
    },
    {
     "name": "stderr",
     "output_type": "stream",
     "text": [
      " 53%|█████████████████████████████████████████████████████████▍                                                  | 5.321142857143299/10 [23:25<19:59, 256.29s/it]"
     ]
    },
    {
     "name": "stdout",
     "output_type": "stream",
     "text": [
      "Train Epoch: 6 [8960/22400 (40%)]\tLoss: 0.377681\n",
      "Mem before-during-after: 21712384 21852160 21712384\n"
     ]
    },
    {
     "name": "stderr",
     "output_type": "stream",
     "text": [
      " 53%|█████████████████████████████████████████████████████████▋                                                  | 5.344000000000454/10 [23:31<19:57, 257.16s/it]"
     ]
    },
    {
     "name": "stdout",
     "output_type": "stream",
     "text": [
      "Train Epoch: 6 [9600/22400 (43%)]\tLoss: 0.480989\n",
      "Mem before-during-after: 21712384 21852160 21712384\n"
     ]
    },
    {
     "name": "stderr",
     "output_type": "stream",
     "text": [
      " 54%|██████████████████████████████████████████████████████████▍                                                  | 5.36685714285761/10 [23:37<20:14, 262.12s/it]"
     ]
    },
    {
     "name": "stdout",
     "output_type": "stream",
     "text": [
      "Train Epoch: 6 [10240/22400 (46%)]\tLoss: 0.238464\n",
      "Mem before-during-after: 21712384 21852160 21712384\n"
     ]
    },
    {
     "name": "stderr",
     "output_type": "stream",
     "text": [
      " 54%|██████████████████████████████████████████████████████████▏                                                 | 5.389714285714765/10 [23:42<19:54, 259.01s/it]"
     ]
    },
    {
     "name": "stdout",
     "output_type": "stream",
     "text": [
      "Train Epoch: 6 [10880/22400 (49%)]\tLoss: 0.595568\n",
      "Mem before-during-after: 21712384 21852160 21712384\n"
     ]
    },
    {
     "name": "stderr",
     "output_type": "stream",
     "text": [
      " 54%|██████████████████████████████████████████████████████████▍                                                 | 5.412571428571921/10 [23:48<20:38, 270.08s/it]"
     ]
    },
    {
     "name": "stdout",
     "output_type": "stream",
     "text": [
      "Train Epoch: 6 [11520/22400 (51%)]\tLoss: 0.719660\n",
      "Mem before-during-after: 21712384 21852160 21712384\n"
     ]
    },
    {
     "name": "stderr",
     "output_type": "stream",
     "text": [
      " 54%|██████████████████████████████████████████████████████████▋                                                 | 5.435428571429076/10 [23:55<20:12, 265.69s/it]"
     ]
    },
    {
     "name": "stdout",
     "output_type": "stream",
     "text": [
      "Train Epoch: 6 [12160/22400 (54%)]\tLoss: 0.428088\n",
      "Mem before-during-after: 21712384 21852160 21712384\n"
     ]
    },
    {
     "name": "stderr",
     "output_type": "stream",
     "text": [
      " 55%|██████████████████████████████████████████████████████████▉                                                 | 5.458285714286232/10 [24:01<20:53, 276.02s/it]"
     ]
    },
    {
     "name": "stdout",
     "output_type": "stream",
     "text": [
      "Train Epoch: 6 [12800/22400 (57%)]\tLoss: 0.835604\n",
      "Mem before-during-after: 21712384 21852160 21712384\n"
     ]
    },
    {
     "name": "stderr",
     "output_type": "stream",
     "text": [
      " 55%|███████████████████████████████████████████████████████████▏                                                | 5.481142857143388/10 [24:06<20:23, 270.66s/it]"
     ]
    },
    {
     "name": "stdout",
     "output_type": "stream",
     "text": [
      "Train Epoch: 6 [13440/22400 (60%)]\tLoss: 0.352960\n",
      "Mem before-during-after: 21712384 21852160 21712384\n"
     ]
    },
    {
     "name": "stderr",
     "output_type": "stream",
     "text": [
      " 55%|███████████████████████████████████████████████████████████▍                                                | 5.504000000000543/10 [24:12<19:26, 259.35s/it]"
     ]
    },
    {
     "name": "stdout",
     "output_type": "stream",
     "text": [
      "Train Epoch: 6 [14080/22400 (63%)]\tLoss: 0.277546\n",
      "Mem before-during-after: 21712384 21852160 21712384\n"
     ]
    },
    {
     "name": "stderr",
     "output_type": "stream",
     "text": [
      " 55%|███████████████████████████████████████████████████████████▋                                                | 5.526857142857699/10 [24:18<19:26, 260.85s/it]"
     ]
    },
    {
     "name": "stdout",
     "output_type": "stream",
     "text": [
      "Train Epoch: 6 [14720/22400 (66%)]\tLoss: 0.995326\n",
      "Mem before-during-after: 21712384 21852160 21712384\n"
     ]
    },
    {
     "name": "stderr",
     "output_type": "stream",
     "text": [
      " 55%|███████████████████████████████████████████████████████████▉                                                | 5.549714285714854/10 [24:24<19:18, 260.31s/it]"
     ]
    },
    {
     "name": "stdout",
     "output_type": "stream",
     "text": [
      "Train Epoch: 6 [15360/22400 (69%)]\tLoss: 0.206914\n",
      "Mem before-during-after: 21712384 21852160 21712384\n"
     ]
    },
    {
     "name": "stderr",
     "output_type": "stream",
     "text": [
      " 56%|████████████████████████████████████████████████████████████▋                                                | 5.57257142857201/10 [24:30<19:00, 257.68s/it]"
     ]
    },
    {
     "name": "stdout",
     "output_type": "stream",
     "text": [
      "Train Epoch: 6 [16000/22400 (71%)]\tLoss: 0.490630\n",
      "Mem before-during-after: 21712384 21852160 21712384\n"
     ]
    },
    {
     "name": "stderr",
     "output_type": "stream",
     "text": [
      " 56%|████████████████████████████████████████████████████████████▍                                               | 5.595428571429165/10 [24:36<18:51, 256.87s/it]"
     ]
    },
    {
     "name": "stdout",
     "output_type": "stream",
     "text": [
      "Train Epoch: 6 [16640/22400 (74%)]\tLoss: 0.196049\n",
      "Mem before-during-after: 21712384 21852160 21712384\n"
     ]
    },
    {
     "name": "stderr",
     "output_type": "stream",
     "text": [
      " 56%|████████████████████████████████████████████████████████████▋                                               | 5.618285714286321/10 [24:42<18:55, 259.19s/it]"
     ]
    },
    {
     "name": "stdout",
     "output_type": "stream",
     "text": [
      "Train Epoch: 6 [17280/22400 (77%)]\tLoss: 0.490554\n",
      "Mem before-during-after: 21712384 21852160 21712384\n"
     ]
    },
    {
     "name": "stderr",
     "output_type": "stream",
     "text": [
      " 56%|████████████████████████████████████████████████████████████▎                                              | 5.6411428571434765/10 [24:48<19:04, 262.68s/it]"
     ]
    },
    {
     "name": "stdout",
     "output_type": "stream",
     "text": [
      "Train Epoch: 6 [17920/22400 (80%)]\tLoss: 0.141307\n",
      "Mem before-during-after: 21712384 21852160 21712384\n"
     ]
    },
    {
     "name": "stderr",
     "output_type": "stream",
     "text": [
      " 57%|█████████████████████████████████████████████████████████████▏                                              | 5.664000000000632/10 [24:54<18:14, 252.41s/it]"
     ]
    },
    {
     "name": "stdout",
     "output_type": "stream",
     "text": [
      "Train Epoch: 6 [18560/22400 (83%)]\tLoss: 0.923808\n",
      "Mem before-during-after: 21712384 21852160 21712384\n"
     ]
    },
    {
     "name": "stderr",
     "output_type": "stream",
     "text": [
      " 57%|█████████████████████████████████████████████████████████████▍                                              | 5.686857142857788/10 [25:00<18:40, 259.88s/it]"
     ]
    },
    {
     "name": "stdout",
     "output_type": "stream",
     "text": [
      "Train Epoch: 6 [19200/22400 (86%)]\tLoss: 0.121636\n",
      "Mem before-during-after: 21712384 21852160 21712384\n"
     ]
    },
    {
     "name": "stderr",
     "output_type": "stream",
     "text": [
      " 57%|█████████████████████████████████████████████████████████████▋                                              | 5.709714285714943/10 [25:06<19:13, 268.77s/it]"
     ]
    },
    {
     "name": "stdout",
     "output_type": "stream",
     "text": [
      "Train Epoch: 6 [19840/22400 (89%)]\tLoss: 0.383343\n",
      "Mem before-during-after: 21712384 21852160 21712384\n"
     ]
    },
    {
     "name": "stderr",
     "output_type": "stream",
     "text": [
      " 57%|█████████████████████████████████████████████████████████████▉                                              | 5.732571428572099/10 [25:12<18:21, 258.03s/it]"
     ]
    },
    {
     "name": "stdout",
     "output_type": "stream",
     "text": [
      "Train Epoch: 6 [20480/22400 (91%)]\tLoss: 0.094230\n",
      "Mem before-during-after: 21712384 21852160 21712384\n"
     ]
    },
    {
     "name": "stderr",
     "output_type": "stream",
     "text": [
      " 58%|██████████████████████████████████████████████████████████████▏                                             | 5.755428571429254/10 [25:17<18:05, 255.73s/it]"
     ]
    },
    {
     "name": "stdout",
     "output_type": "stream",
     "text": [
      "Train Epoch: 6 [21120/22400 (94%)]\tLoss: 0.316484\n",
      "Mem before-during-after: 21712384 21852160 21712384\n"
     ]
    },
    {
     "name": "stderr",
     "output_type": "stream",
     "text": [
      " 58%|██████████████████████████████████████████████████████████████▉                                              | 5.77828571428641/10 [25:23<18:26, 262.12s/it]"
     ]
    },
    {
     "name": "stdout",
     "output_type": "stream",
     "text": [
      "Train Epoch: 6 [21760/22400 (97%)]\tLoss: 0.994245\n",
      "Mem before-during-after: 21712384 21852160 21712384\n"
     ]
    },
    {
     "name": "stderr",
     "output_type": "stream",
     "text": [
      " 60%|████████████████████████████████████████████████████████████████▊                                           | 6.000571428572248/10 [26:21<18:40, 280.19s/it]"
     ]
    },
    {
     "name": "stdout",
     "output_type": "stream",
     "text": [
      "\n",
      "Test Epoch: 6\tAccuracy: 4891/5600 (87%)\n",
      "\n",
      "Train Epoch: 7 [0/22400 (0%)]\tLoss: 0.290647\n",
      "Mem before-during-after: 21711360 21852160 21712384\n"
     ]
    },
    {
     "name": "stderr",
     "output_type": "stream",
     "text": [
      " 60%|█████████████████████████████████████████████████████████████████                                           | 6.024000000000832/10 [26:27<17:37, 266.03s/it]"
     ]
    },
    {
     "name": "stdout",
     "output_type": "stream",
     "text": [
      "Train Epoch: 7 [640/22400 (3%)]\tLoss: 0.510060\n",
      "Mem before-during-after: 21712384 21852160 21712384\n"
     ]
    },
    {
     "name": "stderr",
     "output_type": "stream",
     "text": [
      " 60%|█████████████████████████████████████████████████████████████████▎                                          | 6.046857142857988/10 [26:33<16:50, 255.70s/it]"
     ]
    },
    {
     "name": "stdout",
     "output_type": "stream",
     "text": [
      "Train Epoch: 7 [1280/22400 (6%)]\tLoss: 1.006940\n",
      "Mem before-during-after: 21712384 21852160 21712384\n"
     ]
    },
    {
     "name": "stderr",
     "output_type": "stream",
     "text": [
      " 61%|█████████████████████████████████████████████████████████████████▌                                          | 6.069714285715143/10 [26:38<17:00, 259.78s/it]"
     ]
    },
    {
     "name": "stdout",
     "output_type": "stream",
     "text": [
      "Train Epoch: 7 [1920/22400 (9%)]\tLoss: 0.301780\n",
      "Mem before-during-after: 21712384 21852160 21712384\n"
     ]
    },
    {
     "name": "stderr",
     "output_type": "stream",
     "text": [
      " 61%|█████████████████████████████████████████████████████████████████▊                                          | 6.092571428572299/10 [26:44<16:40, 256.15s/it]"
     ]
    },
    {
     "name": "stdout",
     "output_type": "stream",
     "text": [
      "Train Epoch: 7 [2560/22400 (11%)]\tLoss: 0.827164\n",
      "Mem before-during-after: 21712384 21852160 21712384\n"
     ]
    },
    {
     "name": "stderr",
     "output_type": "stream",
     "text": [
      " 61%|█████████████████████████████████████████████████████████████████▍                                         | 6.1154285714294545/10 [26:50<16:47, 259.24s/it]"
     ]
    },
    {
     "name": "stdout",
     "output_type": "stream",
     "text": [
      "Train Epoch: 7 [3200/22400 (14%)]\tLoss: 0.164619\n",
      "Mem before-during-after: 21712384 21852160 21712384\n"
     ]
    },
    {
     "name": "stderr",
     "output_type": "stream",
     "text": [
      " 61%|██████████████████████████████████████████████████████████████████▉                                          | 6.13828571428661/10 [26:56<16:44, 260.05s/it]"
     ]
    },
    {
     "name": "stdout",
     "output_type": "stream",
     "text": [
      "Train Epoch: 7 [3840/22400 (17%)]\tLoss: 0.331815\n",
      "Mem before-during-after: 21712384 21852160 21712384\n"
     ]
    },
    {
     "name": "stderr",
     "output_type": "stream",
     "text": [
      " 62%|██████████████████████████████████████████████████████████████████▌                                         | 6.161142857143766/10 [27:02<16:24, 256.44s/it]"
     ]
    },
    {
     "name": "stdout",
     "output_type": "stream",
     "text": [
      "Train Epoch: 7 [4480/22400 (20%)]\tLoss: 0.093823\n",
      "Mem before-during-after: 21712384 21852160 21712384\n"
     ]
    },
    {
     "name": "stderr",
     "output_type": "stream",
     "text": [
      " 62%|██████████████████████████████████████████████████████████████████▊                                         | 6.184000000000921/10 [27:08<16:22, 257.43s/it]"
     ]
    },
    {
     "name": "stdout",
     "output_type": "stream",
     "text": [
      "Train Epoch: 7 [5120/22400 (23%)]\tLoss: 0.391044\n",
      "Mem before-during-after: 21712384 21852160 21712384\n"
     ]
    },
    {
     "name": "stderr",
     "output_type": "stream",
     "text": [
      " 62%|███████████████████████████████████████████████████████████████████                                         | 6.206857142858077/10 [27:14<16:09, 255.65s/it]"
     ]
    },
    {
     "name": "stdout",
     "output_type": "stream",
     "text": [
      "Train Epoch: 7 [5760/22400 (26%)]\tLoss: 0.137243\n",
      "Mem before-during-after: 21712384 21852160 21712384\n"
     ]
    },
    {
     "name": "stderr",
     "output_type": "stream",
     "text": [
      " 62%|███████████████████████████████████████████████████████████████████▎                                        | 6.229714285715232/10 [27:20<16:04, 255.84s/it]"
     ]
    },
    {
     "name": "stdout",
     "output_type": "stream",
     "text": [
      "Train Epoch: 7 [6400/22400 (29%)]\tLoss: 0.032691\n",
      "Mem before-during-after: 21712384 21852160 21712384\n"
     ]
    },
    {
     "name": "stderr",
     "output_type": "stream",
     "text": [
      " 63%|███████████████████████████████████████████████████████████████████▌                                        | 6.252571428572388/10 [27:26<16:17, 260.89s/it]"
     ]
    },
    {
     "name": "stdout",
     "output_type": "stream",
     "text": [
      "Train Epoch: 7 [7040/22400 (31%)]\tLoss: 0.036711\n",
      "Mem before-during-after: 21712384 21852160 21712384\n"
     ]
    },
    {
     "name": "stderr",
     "output_type": "stream",
     "text": [
      " 63%|███████████████████████████████████████████████████████████████████▏                                       | 6.2754285714295435/10 [27:32<15:54, 256.36s/it]"
     ]
    },
    {
     "name": "stdout",
     "output_type": "stream",
     "text": [
      "Train Epoch: 7 [7680/22400 (34%)]\tLoss: 0.224312\n",
      "Mem before-during-after: 21712384 21852160 21712384\n"
     ]
    },
    {
     "name": "stderr",
     "output_type": "stream",
     "text": [
      " 63%|████████████████████████████████████████████████████████████████████                                        | 6.298285714286699/10 [27:38<15:52, 257.24s/it]"
     ]
    },
    {
     "name": "stdout",
     "output_type": "stream",
     "text": [
      "Train Epoch: 7 [8320/22400 (37%)]\tLoss: 0.656425\n",
      "Mem before-during-after: 21712384 21852160 21712384\n"
     ]
    },
    {
     "name": "stderr",
     "output_type": "stream",
     "text": [
      " 63%|████████████████████████████████████████████████████████████████████▎                                       | 6.321142857143855/10 [27:44<15:53, 259.27s/it]"
     ]
    },
    {
     "name": "stdout",
     "output_type": "stream",
     "text": [
      "Train Epoch: 7 [8960/22400 (40%)]\tLoss: 0.415412\n",
      "Mem before-during-after: 21712384 21852160 21712384\n"
     ]
    },
    {
     "name": "stderr",
     "output_type": "stream",
     "text": [
      " 63%|█████████████████████████████████████████████████████████████████████▏                                       | 6.34400000000101/10 [27:50<15:48, 259.41s/it]"
     ]
    },
    {
     "name": "stdout",
     "output_type": "stream",
     "text": [
      "Train Epoch: 7 [9600/22400 (43%)]\tLoss: 0.298522\n",
      "Mem before-during-after: 21712384 21852160 21712384\n"
     ]
    },
    {
     "name": "stderr",
     "output_type": "stream",
     "text": [
      " 64%|████████████████████████████████████████████████████████████████████▊                                       | 6.366857142858166/10 [27:55<15:32, 256.74s/it]"
     ]
    },
    {
     "name": "stdout",
     "output_type": "stream",
     "text": [
      "Train Epoch: 7 [10240/22400 (46%)]\tLoss: 0.395829\n",
      "Mem before-during-after: 21712384 21852160 21712384\n"
     ]
    },
    {
     "name": "stderr",
     "output_type": "stream",
     "text": [
      " 64%|█████████████████████████████████████████████████████████████████████                                       | 6.389714285715321/10 [28:01<15:22, 255.41s/it]"
     ]
    },
    {
     "name": "stdout",
     "output_type": "stream",
     "text": [
      "Train Epoch: 7 [10880/22400 (49%)]\tLoss: 0.471835\n",
      "Mem before-during-after: 21712384 21852160 21712384\n"
     ]
    },
    {
     "name": "stderr",
     "output_type": "stream",
     "text": [
      " 64%|█████████████████████████████████████████████████████████████████████▎                                      | 6.412571428572477/10 [28:07<15:36, 261.03s/it]"
     ]
    },
    {
     "name": "stdout",
     "output_type": "stream",
     "text": [
      "Train Epoch: 7 [11520/22400 (51%)]\tLoss: 0.626712\n",
      "Mem before-during-after: 21712384 21852160 21712384\n"
     ]
    },
    {
     "name": "stderr",
     "output_type": "stream",
     "text": [
      " 64%|█████████████████████████████████████████████████████████████████████▌                                      | 6.435428571429632/10 [28:13<15:16, 257.03s/it]"
     ]
    },
    {
     "name": "stdout",
     "output_type": "stream",
     "text": [
      "Train Epoch: 7 [12160/22400 (54%)]\tLoss: 0.126480\n",
      "Mem before-during-after: 21712384 21852160 21712384\n"
     ]
    },
    {
     "name": "stderr",
     "output_type": "stream",
     "text": [
      " 65%|█████████████████████████████████████████████████████████████████████▋                                      | 6.458285714286788/10 [28:19<15:07, 256.23s/it]"
     ]
    },
    {
     "name": "stdout",
     "output_type": "stream",
     "text": [
      "Train Epoch: 7 [12800/22400 (57%)]\tLoss: 0.250260\n",
      "Mem before-during-after: 21712384 21852160 21712384\n"
     ]
    },
    {
     "name": "stderr",
     "output_type": "stream",
     "text": [
      " 65%|█████████████████████████████████████████████████████████████████████▉                                      | 6.481142857143944/10 [28:25<15:06, 257.60s/it]"
     ]
    },
    {
     "name": "stdout",
     "output_type": "stream",
     "text": [
      "Train Epoch: 7 [13440/22400 (60%)]\tLoss: 0.099227\n",
      "Mem before-during-after: 21712384 21852160 21712384\n"
     ]
    },
    {
     "name": "stderr",
     "output_type": "stream",
     "text": [
      " 65%|██████████████████████████████████████████████████████████████████████▏                                     | 6.504000000001099/10 [28:31<14:54, 255.85s/it]"
     ]
    },
    {
     "name": "stdout",
     "output_type": "stream",
     "text": [
      "Train Epoch: 7 [14080/22400 (63%)]\tLoss: 0.686824\n",
      "Mem before-during-after: 21712384 21852160 21712384\n"
     ]
    },
    {
     "name": "stderr",
     "output_type": "stream",
     "text": [
      " 65%|██████████████████████████████████████████████████████████████████████▍                                     | 6.526857142858255/10 [28:37<15:22, 265.73s/it]"
     ]
    },
    {
     "name": "stdout",
     "output_type": "stream",
     "text": [
      "Train Epoch: 7 [14720/22400 (66%)]\tLoss: 0.106823\n",
      "Mem before-during-after: 21712384 21852160 21712384\n"
     ]
    },
    {
     "name": "stderr",
     "output_type": "stream",
     "text": [
      " 65%|███████████████████████████████████████████████████████████████████████▍                                     | 6.54971428571541/10 [28:43<14:51, 258.46s/it]"
     ]
    },
    {
     "name": "stdout",
     "output_type": "stream",
     "text": [
      "Train Epoch: 7 [15360/22400 (69%)]\tLoss: 0.322337\n",
      "Mem before-during-after: 21712384 21852160 21712384\n"
     ]
    },
    {
     "name": "stderr",
     "output_type": "stream",
     "text": [
      " 66%|██████████████████████████████████████████████████████████████████████▉                                     | 6.572571428572566/10 [28:49<14:59, 262.31s/it]"
     ]
    },
    {
     "name": "stdout",
     "output_type": "stream",
     "text": [
      "Train Epoch: 7 [16000/22400 (71%)]\tLoss: 0.436080\n",
      "Mem before-during-after: 21712384 21852160 21712384\n"
     ]
    },
    {
     "name": "stderr",
     "output_type": "stream",
     "text": [
      " 66%|███████████████████████████████████████████████████████████████████████▏                                    | 6.595428571429721/10 [28:55<14:30, 255.72s/it]"
     ]
    },
    {
     "name": "stdout",
     "output_type": "stream",
     "text": [
      "Train Epoch: 7 [16640/22400 (74%)]\tLoss: 0.213639\n",
      "Mem before-during-after: 21712384 21852160 21712384\n"
     ]
    },
    {
     "name": "stderr",
     "output_type": "stream",
     "text": [
      " 66%|███████████████████████████████████████████████████████████████████████▍                                    | 6.618285714286877/10 [29:01<14:27, 256.43s/it]"
     ]
    },
    {
     "name": "stdout",
     "output_type": "stream",
     "text": [
      "Train Epoch: 7 [17280/22400 (77%)]\tLoss: 0.091830\n",
      "Mem before-during-after: 21712384 21852160 21712384\n"
     ]
    },
    {
     "name": "stderr",
     "output_type": "stream",
     "text": [
      " 66%|███████████████████████████████████████████████████████████████████████                                    | 6.6411428571440325/10 [29:07<14:26, 257.94s/it]"
     ]
    },
    {
     "name": "stdout",
     "output_type": "stream",
     "text": [
      "Train Epoch: 7 [17920/22400 (80%)]\tLoss: 0.062906\n",
      "Mem before-during-after: 21712384 21852160 21712384\n"
     ]
    },
    {
     "name": "stderr",
     "output_type": "stream",
     "text": [
      " 67%|███████████████████████████████████████████████████████████████████████▉                                    | 6.664000000001188/10 [29:13<14:06, 253.72s/it]"
     ]
    },
    {
     "name": "stdout",
     "output_type": "stream",
     "text": [
      "Train Epoch: 7 [18560/22400 (83%)]\tLoss: 0.392919\n",
      "Mem before-during-after: 21712384 21852160 21712384\n"
     ]
    },
    {
     "name": "stderr",
     "output_type": "stream",
     "text": [
      " 67%|████████████████████████████████████████████████████████████████████████▏                                   | 6.686857142858344/10 [29:19<14:37, 264.97s/it]"
     ]
    },
    {
     "name": "stdout",
     "output_type": "stream",
     "text": [
      "Train Epoch: 7 [19200/22400 (86%)]\tLoss: 0.374658\n",
      "Mem before-during-after: 21712384 21852160 21712384\n"
     ]
    },
    {
     "name": "stderr",
     "output_type": "stream",
     "text": [
      " 67%|████████████████████████████████████████████████████████████████████████▍                                   | 6.709714285715499/10 [29:25<14:08, 257.75s/it]"
     ]
    },
    {
     "name": "stdout",
     "output_type": "stream",
     "text": [
      "Train Epoch: 7 [19840/22400 (89%)]\tLoss: 0.156912\n",
      "Mem before-during-after: 21712384 21852160 21712384\n"
     ]
    },
    {
     "name": "stderr",
     "output_type": "stream",
     "text": [
      " 67%|████████████████████████████████████████████████████████████████████████▋                                   | 6.732571428572655/10 [29:31<14:14, 261.54s/it]"
     ]
    },
    {
     "name": "stdout",
     "output_type": "stream",
     "text": [
      "Train Epoch: 7 [20480/22400 (91%)]\tLoss: 0.487113\n",
      "Mem before-during-after: 21712384 21852160 21712384\n"
     ]
    },
    {
     "name": "stderr",
     "output_type": "stream",
     "text": [
      " 68%|█████████████████████████████████████████████████████████████████████████▋                                   | 6.75542857142981/10 [29:36<14:03, 260.11s/it]"
     ]
    },
    {
     "name": "stdout",
     "output_type": "stream",
     "text": [
      "Train Epoch: 7 [21120/22400 (94%)]\tLoss: 0.346235\n",
      "Mem before-during-after: 21712384 21852160 21712384\n"
     ]
    },
    {
     "name": "stderr",
     "output_type": "stream",
     "text": [
      " 68%|█████████████████████████████████████████████████████████████████████████▏                                  | 6.778285714286966/10 [29:42<13:57, 259.99s/it]"
     ]
    },
    {
     "name": "stdout",
     "output_type": "stream",
     "text": [
      "Train Epoch: 7 [21760/22400 (97%)]\tLoss: 0.026860\n",
      "Mem before-during-after: 21712384 21852160 21712384\n"
     ]
    },
    {
     "name": "stderr",
     "output_type": "stream",
     "text": [
      " 70%|███████████████████████████████████████████████████████████████████████████▌                                | 7.000571428572804/10 [30:40<13:13, 264.51s/it]"
     ]
    },
    {
     "name": "stdout",
     "output_type": "stream",
     "text": [
      "\n",
      "Test Epoch: 7\tAccuracy: 4983/5600 (89%)\n",
      "\n",
      "Train Epoch: 8 [0/22400 (0%)]\tLoss: 0.062051\n",
      "Mem before-during-after: 21711360 21852160 21712384\n"
     ]
    },
    {
     "name": "stderr",
     "output_type": "stream",
     "text": [
      " 70%|███████████████████████████████████████████████████████████████████████████▊                                | 7.024000000001388/10 [30:46<12:53, 259.98s/it]"
     ]
    },
    {
     "name": "stdout",
     "output_type": "stream",
     "text": [
      "Train Epoch: 8 [640/22400 (3%)]\tLoss: 0.641099\n",
      "Mem before-during-after: 21712384 21852160 21712384\n"
     ]
    },
    {
     "name": "stderr",
     "output_type": "stream",
     "text": [
      " 70%|████████████████████████████████████████████████████████████████████████████                                | 7.046857142858544/10 [30:52<12:59, 264.03s/it]"
     ]
    },
    {
     "name": "stdout",
     "output_type": "stream",
     "text": [
      "Train Epoch: 8 [1280/22400 (6%)]\tLoss: 0.108267\n",
      "Mem before-during-after: 21712384 21852160 21712384\n"
     ]
    },
    {
     "name": "stderr",
     "output_type": "stream",
     "text": [
      " 71%|████████████████████████████████████████████████████████████████████████████▎                               | 7.069714285715699/10 [30:57<12:18, 252.18s/it]"
     ]
    },
    {
     "name": "stdout",
     "output_type": "stream",
     "text": [
      "Train Epoch: 8 [1920/22400 (9%)]\tLoss: 0.576089\n",
      "Mem before-during-after: 21712384 21852160 21712384\n"
     ]
    },
    {
     "name": "stderr",
     "output_type": "stream",
     "text": [
      " 71%|████████████████████████████████████████████████████████████████████████████▌                               | 7.092571428572855/10 [31:03<12:37, 260.41s/it]"
     ]
    },
    {
     "name": "stdout",
     "output_type": "stream",
     "text": [
      "Train Epoch: 8 [2560/22400 (11%)]\tLoss: 0.391784\n",
      "Mem before-during-after: 21712384 21852160 21712384\n"
     ]
    },
    {
     "name": "stderr",
     "output_type": "stream",
     "text": [
      " 71%|████████████████████████████████████████████████████████████████████████████▏                              | 7.1154285714300105/10 [31:09<12:06, 251.98s/it]"
     ]
    },
    {
     "name": "stdout",
     "output_type": "stream",
     "text": [
      "Train Epoch: 8 [3200/22400 (14%)]\tLoss: 0.398399\n",
      "Mem before-during-after: 21712384 21852160 21712384\n"
     ]
    },
    {
     "name": "stderr",
     "output_type": "stream",
     "text": [
      " 71%|█████████████████████████████████████████████████████████████████████████████                               | 7.138285714287166/10 [31:15<12:20, 258.74s/it]"
     ]
    },
    {
     "name": "stdout",
     "output_type": "stream",
     "text": [
      "Train Epoch: 8 [3840/22400 (17%)]\tLoss: 0.949112\n",
      "Mem before-during-after: 21712384 21852160 21712384\n"
     ]
    },
    {
     "name": "stderr",
     "output_type": "stream",
     "text": [
      " 72%|█████████████████████████████████████████████████████████████████████████████▎                              | 7.161142857144322/10 [31:21<12:19, 260.50s/it]"
     ]
    },
    {
     "name": "stdout",
     "output_type": "stream",
     "text": [
      "Train Epoch: 8 [4480/22400 (20%)]\tLoss: 0.297495\n",
      "Mem before-during-after: 21712384 21852160 21712384\n"
     ]
    },
    {
     "name": "stderr",
     "output_type": "stream",
     "text": [
      " 72%|█████████████████████████████████████████████████████████████████████████████▌                              | 7.184000000001477/10 [31:27<12:01, 256.35s/it]"
     ]
    },
    {
     "name": "stdout",
     "output_type": "stream",
     "text": [
      "Train Epoch: 8 [5120/22400 (23%)]\tLoss: 0.011836\n",
      "Mem before-during-after: 21712384 21852160 21712384\n"
     ]
    },
    {
     "name": "stderr",
     "output_type": "stream",
     "text": [
      " 72%|█████████████████████████████████████████████████████████████████████████████▊                              | 7.206857142858633/10 [31:33<11:59, 257.76s/it]"
     ]
    },
    {
     "name": "stdout",
     "output_type": "stream",
     "text": [
      "Train Epoch: 8 [5760/22400 (26%)]\tLoss: 0.010153\n",
      "Mem before-during-after: 21712384 21852160 21712384\n"
     ]
    },
    {
     "name": "stderr",
     "output_type": "stream",
     "text": [
      " 72%|██████████████████████████████████████████████████████████████████████████████                              | 7.229714285715788/10 [31:39<11:37, 251.81s/it]"
     ]
    },
    {
     "name": "stdout",
     "output_type": "stream",
     "text": [
      "Train Epoch: 8 [6400/22400 (29%)]\tLoss: 0.421081\n",
      "Mem before-during-after: 21712384 21852160 21712384\n"
     ]
    },
    {
     "name": "stderr",
     "output_type": "stream",
     "text": [
      " 73%|██████████████████████████████████████████████████████████████████████████████▎                             | 7.252571428572944/10 [31:45<12:23, 270.53s/it]"
     ]
    },
    {
     "name": "stdout",
     "output_type": "stream",
     "text": [
      "Train Epoch: 8 [7040/22400 (31%)]\tLoss: 0.147236\n",
      "Mem before-during-after: 21712384 21852160 21712384\n"
     ]
    },
    {
     "name": "stderr",
     "output_type": "stream",
     "text": [
      " 73%|█████████████████████████████████████████████████████████████████████████████▊                             | 7.2754285714300995/10 [31:51<11:33, 254.38s/it]"
     ]
    },
    {
     "name": "stdout",
     "output_type": "stream",
     "text": [
      "Train Epoch: 8 [7680/22400 (34%)]\tLoss: 0.692087\n",
      "Mem before-during-after: 21712384 21852160 21712384\n"
     ]
    },
    {
     "name": "stderr",
     "output_type": "stream",
     "text": [
      " 73%|██████████████████████████████████████████████████████████████████████████████▊                             | 7.298285714287255/10 [31:57<11:24, 253.40s/it]"
     ]
    },
    {
     "name": "stdout",
     "output_type": "stream",
     "text": [
      "Train Epoch: 8 [8320/22400 (37%)]\tLoss: 0.774999\n",
      "Mem before-during-after: 21712384 21852160 21712384\n"
     ]
    },
    {
     "name": "stderr",
     "output_type": "stream",
     "text": [
      " 73%|███████████████████████████████████████████████████████████████████████████████                             | 7.321142857144411/10 [32:03<11:17, 253.05s/it]"
     ]
    },
    {
     "name": "stdout",
     "output_type": "stream",
     "text": [
      "Train Epoch: 8 [8960/22400 (40%)]\tLoss: 1.157589\n",
      "Mem before-during-after: 21712384 21852160 21712384\n"
     ]
    },
    {
     "name": "stderr",
     "output_type": "stream",
     "text": [
      " 73%|███████████████████████████████████████████████████████████████████████████████▎                            | 7.344000000001566/10 [32:09<11:17, 255.17s/it]"
     ]
    },
    {
     "name": "stdout",
     "output_type": "stream",
     "text": [
      "Train Epoch: 8 [9600/22400 (43%)]\tLoss: 0.420356\n",
      "Mem before-during-after: 21712384 21852160 21712384\n"
     ]
    },
    {
     "name": "stderr",
     "output_type": "stream",
     "text": [
      " 74%|███████████████████████████████████████████████████████████████████████████████▌                            | 7.366857142858722/10 [32:15<11:46, 268.16s/it]"
     ]
    },
    {
     "name": "stdout",
     "output_type": "stream",
     "text": [
      "Train Epoch: 8 [10240/22400 (46%)]\tLoss: 0.577275\n",
      "Mem before-during-after: 21712384 21852160 21712384\n"
     ]
    },
    {
     "name": "stderr",
     "output_type": "stream",
     "text": [
      " 74%|███████████████████████████████████████████████████████████████████████████████▊                            | 7.389714285715877/10 [32:20<11:14, 258.42s/it]"
     ]
    },
    {
     "name": "stdout",
     "output_type": "stream",
     "text": [
      "Train Epoch: 8 [10880/22400 (49%)]\tLoss: 0.206359\n",
      "Mem before-during-after: 21712384 21852160 21712384\n"
     ]
    },
    {
     "name": "stderr",
     "output_type": "stream",
     "text": [
      " 74%|████████████████████████████████████████████████████████████████████████████████                            | 7.412571428573033/10 [32:26<11:00, 255.45s/it]"
     ]
    },
    {
     "name": "stdout",
     "output_type": "stream",
     "text": [
      "Train Epoch: 8 [11520/22400 (51%)]\tLoss: 0.953052\n",
      "Mem before-during-after: 21712384 21852160 21712384\n"
     ]
    },
    {
     "name": "stderr",
     "output_type": "stream",
     "text": [
      " 74%|████████████████████████████████████████████████████████████████████████████████▎                           | 7.435428571430188/10 [32:32<11:19, 264.83s/it]"
     ]
    },
    {
     "name": "stdout",
     "output_type": "stream",
     "text": [
      "Train Epoch: 8 [12160/22400 (54%)]\tLoss: 0.178474\n",
      "Mem before-during-after: 21712384 21852160 21712384\n"
     ]
    },
    {
     "name": "stderr",
     "output_type": "stream",
     "text": [
      " 75%|████████████████████████████████████████████████████████████████████████████████▌                           | 7.458285714287344/10 [32:38<11:16, 266.21s/it]"
     ]
    },
    {
     "name": "stdout",
     "output_type": "stream",
     "text": [
      "Train Epoch: 8 [12800/22400 (57%)]\tLoss: 0.165374\n",
      "Mem before-during-after: 21712384 21852160 21712384\n"
     ]
    },
    {
     "name": "stderr",
     "output_type": "stream",
     "text": [
      " 75%|██████████████████████████████████████████████████████████████████████████████████▎                           | 7.4811428571445/10 [32:44<11:06, 264.53s/it]"
     ]
    },
    {
     "name": "stdout",
     "output_type": "stream",
     "text": [
      "Train Epoch: 8 [13440/22400 (60%)]\tLoss: 0.564300\n",
      "Mem before-during-after: 21712384 21852160 21712384\n"
     ]
    },
    {
     "name": "stderr",
     "output_type": "stream",
     "text": [
      " 75%|█████████████████████████████████████████████████████████████████████████████████                           | 7.504000000001655/10 [32:50<10:48, 259.79s/it]"
     ]
    },
    {
     "name": "stdout",
     "output_type": "stream",
     "text": [
      "Train Epoch: 8 [14080/22400 (63%)]\tLoss: 0.312650\n",
      "Mem before-during-after: 21712384 21852160 21712384\n"
     ]
    },
    {
     "name": "stderr",
     "output_type": "stream",
     "text": [
      " 75%|█████████████████████████████████████████████████████████████████████████████████▎                          | 7.526857142858811/10 [32:56<11:01, 267.32s/it]"
     ]
    },
    {
     "name": "stdout",
     "output_type": "stream",
     "text": [
      "Train Epoch: 8 [14720/22400 (66%)]\tLoss: 0.185582\n",
      "Mem before-during-after: 21712384 21852160 21712384\n"
     ]
    },
    {
     "name": "stderr",
     "output_type": "stream",
     "text": [
      " 75%|█████████████████████████████████████████████████████████████████████████████████▌                          | 7.549714285715966/10 [33:02<10:30, 257.41s/it]"
     ]
    },
    {
     "name": "stdout",
     "output_type": "stream",
     "text": [
      "Train Epoch: 8 [15360/22400 (69%)]\tLoss: 0.195477\n",
      "Mem before-during-after: 21712384 21852160 21712384\n"
     ]
    },
    {
     "name": "stderr",
     "output_type": "stream",
     "text": [
      " 76%|█████████████████████████████████████████████████████████████████████████████████▊                          | 7.572571428573122/10 [33:08<10:25, 257.76s/it]"
     ]
    },
    {
     "name": "stdout",
     "output_type": "stream",
     "text": [
      "Train Epoch: 8 [16000/22400 (71%)]\tLoss: 0.089294\n",
      "Mem before-during-after: 21712384 21852160 21712384\n"
     ]
    },
    {
     "name": "stderr",
     "output_type": "stream",
     "text": [
      " 76%|██████████████████████████████████████████████████████████████████████████████████                          | 7.595428571430277/10 [33:14<10:19, 257.61s/it]"
     ]
    },
    {
     "name": "stdout",
     "output_type": "stream",
     "text": [
      "Train Epoch: 8 [16640/22400 (74%)]\tLoss: 0.060662\n",
      "Mem before-during-after: 21712384 21852160 21712384\n"
     ]
    },
    {
     "name": "stderr",
     "output_type": "stream",
     "text": [
      " 76%|██████████████████████████████████████████████████████████████████████████████████▎                         | 7.618285714287433/10 [33:20<10:58, 276.64s/it]"
     ]
    },
    {
     "name": "stdout",
     "output_type": "stream",
     "text": [
      "Train Epoch: 8 [17280/22400 (77%)]\tLoss: 0.290096\n",
      "Mem before-during-after: 21712384 21852160 21712384\n"
     ]
    },
    {
     "name": "stderr",
     "output_type": "stream",
     "text": [
      " 76%|█████████████████████████████████████████████████████████████████████████████████▊                         | 7.6411428571445885/10 [33:26<10:18, 262.15s/it]"
     ]
    },
    {
     "name": "stdout",
     "output_type": "stream",
     "text": [
      "Train Epoch: 8 [17920/22400 (80%)]\tLoss: 0.175609\n",
      "Mem before-during-after: 21712384 21852160 21712384\n"
     ]
    },
    {
     "name": "stderr",
     "output_type": "stream",
     "text": [
      " 77%|██████████████████████████████████████████████████████████████████████████████████▊                         | 7.664000000001744/10 [33:32<10:09, 261.00s/it]"
     ]
    },
    {
     "name": "stdout",
     "output_type": "stream",
     "text": [
      "Train Epoch: 8 [18560/22400 (83%)]\tLoss: 0.238739\n",
      "Mem before-during-after: 21712384 21852160 21712384\n"
     ]
    },
    {
     "name": "stderr",
     "output_type": "stream",
     "text": [
      " 77%|████████████████████████████████████████████████████████████████████████████████████▌                         | 7.6868571428589/10 [33:38<09:51, 255.88s/it]"
     ]
    },
    {
     "name": "stdout",
     "output_type": "stream",
     "text": [
      "Train Epoch: 8 [19200/22400 (86%)]\tLoss: 1.260904\n",
      "Mem before-during-after: 21712384 21852160 21712384\n"
     ]
    },
    {
     "name": "stderr",
     "output_type": "stream",
     "text": [
      " 77%|███████████████████████████████████████████████████████████████████████████████████▎                        | 7.709714285716055/10 [33:44<09:58, 261.14s/it]"
     ]
    },
    {
     "name": "stdout",
     "output_type": "stream",
     "text": [
      "Train Epoch: 8 [19840/22400 (89%)]\tLoss: 0.035200\n",
      "Mem before-during-after: 21712384 21852160 21712384\n"
     ]
    },
    {
     "name": "stderr",
     "output_type": "stream",
     "text": [
      " 77%|███████████████████████████████████████████████████████████████████████████████████▌                        | 7.732571428573211/10 [33:50<09:45, 258.37s/it]"
     ]
    },
    {
     "name": "stdout",
     "output_type": "stream",
     "text": [
      "Train Epoch: 8 [20480/22400 (91%)]\tLoss: 0.672745\n",
      "Mem before-during-after: 21712384 21852160 21712384\n"
     ]
    },
    {
     "name": "stderr",
     "output_type": "stream",
     "text": [
      " 78%|███████████████████████████████████████████████████████████████████████████████████▊                        | 7.755428571430366/10 [33:56<09:33, 255.35s/it]"
     ]
    },
    {
     "name": "stdout",
     "output_type": "stream",
     "text": [
      "Train Epoch: 8 [21120/22400 (94%)]\tLoss: 0.439247\n",
      "Mem before-during-after: 21712384 21852160 21712384\n"
     ]
    },
    {
     "name": "stderr",
     "output_type": "stream",
     "text": [
      " 78%|████████████████████████████████████████████████████████████████████████████████████                        | 7.778285714287522/10 [34:02<10:05, 272.61s/it]"
     ]
    },
    {
     "name": "stdout",
     "output_type": "stream",
     "text": [
      "Train Epoch: 8 [21760/22400 (97%)]\tLoss: 0.243706\n",
      "Mem before-during-after: 21712384 21852160 21712384\n"
     ]
    },
    {
     "name": "stderr",
     "output_type": "stream",
     "text": [
      " 80%|██████████████████████████████████████████████████████████████████████████████████████▍                     | 8.000571428573359/10 [34:59<08:29, 254.76s/it]"
     ]
    },
    {
     "name": "stdout",
     "output_type": "stream",
     "text": [
      "\n",
      "Test Epoch: 8\tAccuracy: 4926/5600 (88%)\n",
      "\n",
      "Train Epoch: 9 [0/22400 (0%)]\tLoss: 0.965235\n",
      "Mem before-during-after: 21711360 21852160 21712384\n"
     ]
    },
    {
     "name": "stderr",
     "output_type": "stream",
     "text": [
      " 80%|██████████████████████████████████████████████████████████████████████████████████████▋                     | 8.024000000001907/10 [35:05<08:29, 257.73s/it]"
     ]
    },
    {
     "name": "stdout",
     "output_type": "stream",
     "text": [
      "Train Epoch: 9 [640/22400 (3%)]\tLoss: 0.070091\n",
      "Mem before-during-after: 21712384 21852160 21712384\n"
     ]
    },
    {
     "name": "stderr",
     "output_type": "stream",
     "text": [
      " 80%|██████████████████████████████████████████████████████████████████████████████████████▉                     | 8.046857142859027/10 [35:11<08:41, 267.05s/it]"
     ]
    },
    {
     "name": "stdout",
     "output_type": "stream",
     "text": [
      "Train Epoch: 9 [1280/22400 (6%)]\tLoss: 0.137524\n",
      "Mem before-during-after: 21712384 21852160 21712384\n"
     ]
    },
    {
     "name": "stderr",
     "output_type": "stream",
     "text": [
      " 81%|███████████████████████████████████████████████████████████████████████████████████████▏                    | 8.069714285716147/10 [35:17<08:37, 267.92s/it]"
     ]
    },
    {
     "name": "stdout",
     "output_type": "stream",
     "text": [
      "Train Epoch: 9 [1920/22400 (9%)]\tLoss: 0.064214\n",
      "Mem before-during-after: 21712384 21852160 21712384\n"
     ]
    },
    {
     "name": "stderr",
     "output_type": "stream",
     "text": [
      " 81%|███████████████████████████████████████████████████████████████████████████████████████▍                    | 8.092571428573267/10 [35:23<08:07, 255.47s/it]"
     ]
    },
    {
     "name": "stdout",
     "output_type": "stream",
     "text": [
      "Train Epoch: 9 [2560/22400 (11%)]\tLoss: 0.610660\n",
      "Mem before-during-after: 21712384 21852160 21712384\n"
     ]
    },
    {
     "name": "stderr",
     "output_type": "stream",
     "text": [
      " 81%|███████████████████████████████████████████████████████████████████████████████████████▋                    | 8.115428571430387/10 [35:29<08:04, 257.10s/it]"
     ]
    },
    {
     "name": "stdout",
     "output_type": "stream",
     "text": [
      "Train Epoch: 9 [3200/22400 (14%)]\tLoss: 0.011259\n",
      "Mem before-during-after: 21712384 21852160 21712384\n"
     ]
    },
    {
     "name": "stderr",
     "output_type": "stream",
     "text": [
      " 81%|███████████████████████████████████████████████████████████████████████████████████████▉                    | 8.138285714287507/10 [35:35<08:42, 280.50s/it]"
     ]
    },
    {
     "name": "stdout",
     "output_type": "stream",
     "text": [
      "Train Epoch: 9 [3840/22400 (17%)]\tLoss: 0.305212\n",
      "Mem before-during-after: 21712384 21852160 21712384\n"
     ]
    },
    {
     "name": "stderr",
     "output_type": "stream",
     "text": [
      " 82%|████████████████████████████████████████████████████████████████████████████████████████▏                   | 8.161142857144627/10 [35:40<07:49, 255.11s/it]"
     ]
    },
    {
     "name": "stdout",
     "output_type": "stream",
     "text": [
      "Train Epoch: 9 [4480/22400 (20%)]\tLoss: 0.312168\n",
      "Mem before-during-after: 21712384 21852160 21712384\n"
     ]
    },
    {
     "name": "stderr",
     "output_type": "stream",
     "text": [
      " 82%|████████████████████████████████████████████████████████████████████████████████████████▍                   | 8.184000000001747/10 [35:46<08:04, 266.55s/it]"
     ]
    },
    {
     "name": "stdout",
     "output_type": "stream",
     "text": [
      "Train Epoch: 9 [5120/22400 (23%)]\tLoss: 0.149355\n",
      "Mem before-during-after: 21712384 21852160 21712384\n"
     ]
    },
    {
     "name": "stderr",
     "output_type": "stream",
     "text": [
      " 82%|████████████████████████████████████████████████████████████████████████████████████████▋                   | 8.206857142858867/10 [35:52<07:50, 262.22s/it]"
     ]
    },
    {
     "name": "stdout",
     "output_type": "stream",
     "text": [
      "Train Epoch: 9 [5760/22400 (26%)]\tLoss: 0.584010\n",
      "Mem before-during-after: 21712384 21852160 21712384\n"
     ]
    },
    {
     "name": "stderr",
     "output_type": "stream",
     "text": [
      " 82%|████████████████████████████████████████████████████████████████████████████████████████▉                   | 8.229714285715987/10 [35:58<07:32, 255.55s/it]"
     ]
    },
    {
     "name": "stdout",
     "output_type": "stream",
     "text": [
      "Train Epoch: 9 [6400/22400 (29%)]\tLoss: 0.804475\n",
      "Mem before-during-after: 21712384 21852160 21712384\n"
     ]
    },
    {
     "name": "stderr",
     "output_type": "stream",
     "text": [
      " 83%|█████████████████████████████████████████████████████████████████████████████████████████▏                  | 8.252571428573107/10 [36:04<07:30, 257.54s/it]"
     ]
    },
    {
     "name": "stdout",
     "output_type": "stream",
     "text": [
      "Train Epoch: 9 [7040/22400 (31%)]\tLoss: 0.487305\n",
      "Mem before-during-after: 21712384 21852160 21712384\n"
     ]
    },
    {
     "name": "stderr",
     "output_type": "stream",
     "text": [
      " 83%|█████████████████████████████████████████████████████████████████████████████████████████▎                  | 8.275428571430227/10 [36:10<07:29, 260.50s/it]"
     ]
    },
    {
     "name": "stdout",
     "output_type": "stream",
     "text": [
      "Train Epoch: 9 [7680/22400 (34%)]\tLoss: 0.438986\n",
      "Mem before-during-after: 21712384 21852160 21712384\n"
     ]
    },
    {
     "name": "stderr",
     "output_type": "stream",
     "text": [
      " 83%|█████████████████████████████████████████████████████████████████████████████████████████▌                  | 8.298285714287347/10 [36:16<07:38, 269.40s/it]"
     ]
    },
    {
     "name": "stdout",
     "output_type": "stream",
     "text": [
      "Train Epoch: 9 [8320/22400 (37%)]\tLoss: 0.204282\n",
      "Mem before-during-after: 21712384 21852160 21712384\n"
     ]
    },
    {
     "name": "stderr",
     "output_type": "stream",
     "text": [
      " 83%|█████████████████████████████████████████████████████████████████████████████████████████▊                  | 8.321142857144467/10 [36:22<07:18, 261.29s/it]"
     ]
    },
    {
     "name": "stdout",
     "output_type": "stream",
     "text": [
      "Train Epoch: 9 [8960/22400 (40%)]\tLoss: 0.125007\n",
      "Mem before-during-after: 21712384 21852160 21712384\n"
     ]
    },
    {
     "name": "stderr",
     "output_type": "stream",
     "text": [
      " 83%|██████████████████████████████████████████████████████████████████████████████████████████                  | 8.344000000001587/10 [36:28<07:08, 259.05s/it]"
     ]
    },
    {
     "name": "stdout",
     "output_type": "stream",
     "text": [
      "Train Epoch: 9 [9600/22400 (43%)]\tLoss: 0.086899\n",
      "Mem before-during-after: 21712384 21852160 21712384\n"
     ]
    },
    {
     "name": "stderr",
     "output_type": "stream",
     "text": [
      " 84%|██████████████████████████████████████████████████████████████████████████████████████████▎                 | 8.366857142858708/10 [36:34<07:10, 263.78s/it]"
     ]
    },
    {
     "name": "stdout",
     "output_type": "stream",
     "text": [
      "Train Epoch: 9 [10240/22400 (46%)]\tLoss: 0.175180\n",
      "Mem before-during-after: 21712384 21852160 21712384\n"
     ]
    },
    {
     "name": "stderr",
     "output_type": "stream",
     "text": [
      " 84%|██████████████████████████████████████████████████████████████████████████████████████████▌                 | 8.389714285715828/10 [36:40<06:43, 250.76s/it]"
     ]
    },
    {
     "name": "stdout",
     "output_type": "stream",
     "text": [
      "Train Epoch: 9 [10880/22400 (49%)]\tLoss: 0.357548\n",
      "Mem before-during-after: 21712384 21852160 21712384\n"
     ]
    },
    {
     "name": "stderr",
     "output_type": "stream",
     "text": [
      " 84%|███████████████████████████████████████████████████████████████████████████████████████████▋                 | 8.41200000000152/10 [36:46<06:49, 258.11s/it]"
     ]
    },
    {
     "name": "stdout",
     "output_type": "stream",
     "text": [
      "Train Epoch: 9 [11520/22400 (51%)]\tLoss: 0.149661\n",
      "Mem before-during-after: 21712384 21852160 21712384\n"
     ]
    },
    {
     "name": "stderr",
     "output_type": "stream",
     "text": [
      " 84%|███████████████████████████████████████████████████████████████████████████████████████████                 | 8.435428571430068/10 [36:52<06:40, 255.89s/it]"
     ]
    },
    {
     "name": "stdout",
     "output_type": "stream",
     "text": [
      "Train Epoch: 9 [12160/22400 (54%)]\tLoss: 0.270575\n",
      "Mem before-during-after: 21712384 21852160 21712384\n"
     ]
    },
    {
     "name": "stderr",
     "output_type": "stream",
     "text": [
      " 85%|███████████████████████████████████████████████████████████████████████████████████████████▎                | 8.458285714287188/10 [36:58<06:38, 258.38s/it]"
     ]
    },
    {
     "name": "stdout",
     "output_type": "stream",
     "text": [
      "Train Epoch: 9 [12800/22400 (57%)]\tLoss: 0.133596\n",
      "Mem before-during-after: 21712384 21852160 21712384\n"
     ]
    },
    {
     "name": "stderr",
     "output_type": "stream",
     "text": [
      " 85%|███████████████████████████████████████████████████████████████████████████████████████████▌                | 8.481142857144308/10 [37:04<06:26, 254.56s/it]"
     ]
    },
    {
     "name": "stdout",
     "output_type": "stream",
     "text": [
      "Train Epoch: 9 [13440/22400 (60%)]\tLoss: 0.175620\n",
      "Mem before-during-after: 21712384 21852160 21712384\n"
     ]
    },
    {
     "name": "stderr",
     "output_type": "stream",
     "text": [
      " 85%|███████████████████████████████████████████████████████████████████████████████████████████▊                | 8.504000000001428/10 [37:10<06:50, 274.55s/it]"
     ]
    },
    {
     "name": "stdout",
     "output_type": "stream",
     "text": [
      "Train Epoch: 9 [14080/22400 (63%)]\tLoss: 0.257027\n",
      "Mem before-during-after: 21712384 21852160 21712384\n"
     ]
    },
    {
     "name": "stderr",
     "output_type": "stream",
     "text": [
      " 85%|████████████████████████████████████████████████████████████████████████████████████████████                | 8.526857142858548/10 [37:15<06:17, 256.07s/it]"
     ]
    },
    {
     "name": "stdout",
     "output_type": "stream",
     "text": [
      "Train Epoch: 9 [14720/22400 (66%)]\tLoss: 0.143976\n",
      "Mem before-during-after: 21712384 21852160 21712384\n"
     ]
    },
    {
     "name": "stderr",
     "output_type": "stream",
     "text": [
      " 85%|████████████████████████████████████████████████████████████████████████████████████████████▎               | 8.549714285715668/10 [37:21<06:18, 260.72s/it]"
     ]
    },
    {
     "name": "stdout",
     "output_type": "stream",
     "text": [
      "Train Epoch: 9 [15360/22400 (69%)]\tLoss: 0.319020\n",
      "Mem before-during-after: 21712384 21852160 21712384\n"
     ]
    },
    {
     "name": "stderr",
     "output_type": "stream",
     "text": [
      " 86%|████████████████████████████████████████████████████████████████████████████████████████████▌               | 8.572571428572788/10 [37:27<06:04, 255.56s/it]"
     ]
    },
    {
     "name": "stdout",
     "output_type": "stream",
     "text": [
      "Train Epoch: 9 [16000/22400 (71%)]\tLoss: 0.043347\n",
      "Mem before-during-after: 21712384 21852160 21712384\n"
     ]
    },
    {
     "name": "stderr",
     "output_type": "stream",
     "text": [
      " 86%|████████████████████████████████████████████████████████████████████████████████████████████▊               | 8.595428571429908/10 [37:33<06:20, 270.62s/it]"
     ]
    },
    {
     "name": "stdout",
     "output_type": "stream",
     "text": [
      "Train Epoch: 9 [16640/22400 (74%)]\tLoss: 0.117262\n",
      "Mem before-during-after: 21712384 21852160 21712384\n"
     ]
    },
    {
     "name": "stderr",
     "output_type": "stream",
     "text": [
      " 86%|██████████████████████████████████████████████████████████████████████████████████████████████▊               | 8.6177142857156/10 [37:39<05:55, 257.19s/it]"
     ]
    },
    {
     "name": "stdout",
     "output_type": "stream",
     "text": [
      "Train Epoch: 9 [17280/22400 (77%)]\tLoss: 1.288477\n",
      "Mem before-during-after: 21712384 21852160 21712384\n"
     ]
    },
    {
     "name": "stderr",
     "output_type": "stream",
     "text": [
      " 86%|█████████████████████████████████████████████████████████████████████████████████████████████▎              | 8.641142857144148/10 [37:45<05:58, 263.73s/it]"
     ]
    },
    {
     "name": "stdout",
     "output_type": "stream",
     "text": [
      "Train Epoch: 9 [17920/22400 (80%)]\tLoss: 0.112592\n",
      "Mem before-during-after: 21712384 21852160 21712384\n"
     ]
    },
    {
     "name": "stderr",
     "output_type": "stream",
     "text": [
      " 87%|█████████████████████████████████████████████████████████████████████████████████████████████▌              | 8.664000000001268/10 [37:51<05:51, 263.01s/it]"
     ]
    },
    {
     "name": "stdout",
     "output_type": "stream",
     "text": [
      "Train Epoch: 9 [18560/22400 (83%)]\tLoss: 0.621795\n",
      "Mem before-during-after: 21712384 21852160 21712384\n"
     ]
    },
    {
     "name": "stderr",
     "output_type": "stream",
     "text": [
      " 87%|█████████████████████████████████████████████████████████████████████████████████████████████▊              | 8.686857142858388/10 [37:57<05:33, 253.92s/it]"
     ]
    },
    {
     "name": "stdout",
     "output_type": "stream",
     "text": [
      "Train Epoch: 9 [19200/22400 (86%)]\tLoss: 0.575630\n",
      "Mem before-during-after: 21712384 21852160 21712384\n"
     ]
    },
    {
     "name": "stderr",
     "output_type": "stream",
     "text": [
      " 87%|██████████████████████████████████████████████████████████████████████████████████████████████              | 8.709714285715508/10 [38:03<05:41, 264.79s/it]"
     ]
    },
    {
     "name": "stdout",
     "output_type": "stream",
     "text": [
      "Train Epoch: 9 [19840/22400 (89%)]\tLoss: 0.009229\n",
      "Mem before-during-after: 21712384 21852160 21712384\n"
     ]
    },
    {
     "name": "stderr",
     "output_type": "stream",
     "text": [
      " 87%|██████████████████████████████████████████████████████████████████████████████████████████████▎             | 8.732571428572628/10 [38:09<05:43, 271.08s/it]"
     ]
    },
    {
     "name": "stdout",
     "output_type": "stream",
     "text": [
      "Train Epoch: 9 [20480/22400 (91%)]\tLoss: 0.202813\n",
      "Mem before-during-after: 21712384 21852160 21712384\n"
     ]
    },
    {
     "name": "stderr",
     "output_type": "stream",
     "text": [
      " 88%|██████████████████████████████████████████████████████████████████████████████████████████████▌             | 8.755428571429748/10 [38:15<05:24, 260.45s/it]"
     ]
    },
    {
     "name": "stdout",
     "output_type": "stream",
     "text": [
      "Train Epoch: 9 [21120/22400 (94%)]\tLoss: 0.203331\n",
      "Mem before-during-after: 21712384 21852160 21712384\n"
     ]
    },
    {
     "name": "stderr",
     "output_type": "stream",
     "text": [
      " 88%|██████████████████████████████████████████████████████████████████████████████████████████████▊             | 8.778285714286868/10 [38:21<05:12, 255.43s/it]"
     ]
    },
    {
     "name": "stdout",
     "output_type": "stream",
     "text": [
      "Train Epoch: 9 [21760/22400 (97%)]\tLoss: 0.392722\n",
      "Mem before-during-after: 21712384 21852160 21712384\n"
     ]
    },
    {
     "name": "stderr",
     "output_type": "stream",
     "text": [
      " 90%|██████████████████████████████████████████████████████████████████████████████████████████████████           | 9.00057142857236/10 [39:18<04:16, 256.91s/it]"
     ]
    },
    {
     "name": "stdout",
     "output_type": "stream",
     "text": [
      "\n",
      "Test Epoch: 9\tAccuracy: 4790/5600 (86%)\n",
      "\n",
      "Train Epoch: 10 [0/22400 (0%)]\tLoss: 0.565310\n",
      "Mem before-during-after: 21711360 21852160 21712384\n"
     ]
    },
    {
     "name": "stderr",
     "output_type": "stream",
     "text": [
      " 90%|█████████████████████████████████████████████████████████████████████████████████████████████████▍          | 9.024000000000909/10 [39:24<04:33, 280.57s/it]"
     ]
    },
    {
     "name": "stdout",
     "output_type": "stream",
     "text": [
      "Train Epoch: 10 [640/22400 (3%)]\tLoss: 0.206170\n",
      "Mem before-during-after: 21712384 21852160 21712384\n"
     ]
    },
    {
     "name": "stderr",
     "output_type": "stream",
     "text": [
      " 90%|█████████████████████████████████████████████████████████████████████████████████████████████████▋          | 9.046857142858029/10 [39:30<04:14, 267.47s/it]"
     ]
    },
    {
     "name": "stdout",
     "output_type": "stream",
     "text": [
      "Train Epoch: 10 [1280/22400 (6%)]\tLoss: 0.058529\n",
      "Mem before-during-after: 21712384 21852160 21712384\n"
     ]
    },
    {
     "name": "stderr",
     "output_type": "stream",
     "text": [
      " 91%|█████████████████████████████████████████████████████████████████████████████████████████████████▉          | 9.069714285715149/10 [39:36<04:00, 259.04s/it]"
     ]
    },
    {
     "name": "stdout",
     "output_type": "stream",
     "text": [
      "Train Epoch: 10 [1920/22400 (9%)]\tLoss: 0.732575\n",
      "Mem before-during-after: 21712384 21852160 21712384\n"
     ]
    },
    {
     "name": "stderr",
     "output_type": "stream",
     "text": [
      " 91%|██████████████████████████████████████████████████████████████████████████████████████████████████▏         | 9.092571428572269/10 [39:42<03:57, 261.96s/it]"
     ]
    },
    {
     "name": "stdout",
     "output_type": "stream",
     "text": [
      "Train Epoch: 10 [2560/22400 (11%)]\tLoss: 0.174485\n",
      "Mem before-during-after: 21712384 21852160 21712384\n"
     ]
    },
    {
     "name": "stderr",
     "output_type": "stream",
     "text": [
      " 91%|██████████████████████████████████████████████████████████████████████████████████████████████████▍         | 9.115428571429389/10 [39:48<03:51, 261.58s/it]"
     ]
    },
    {
     "name": "stdout",
     "output_type": "stream",
     "text": [
      "Train Epoch: 10 [3200/22400 (14%)]\tLoss: 1.733737\n",
      "Mem before-during-after: 21712384 21852160 21712384\n"
     ]
    },
    {
     "name": "stderr",
     "output_type": "stream",
     "text": [
      " 91%|██████████████████████████████████████████████████████████████████████████████████████████████████▋         | 9.138285714286509/10 [39:54<03:48, 265.07s/it]"
     ]
    },
    {
     "name": "stdout",
     "output_type": "stream",
     "text": [
      "Train Epoch: 10 [3840/22400 (17%)]\tLoss: 0.422604\n",
      "Mem before-during-after: 21712384 21852160 21712384\n"
     ]
    },
    {
     "name": "stderr",
     "output_type": "stream",
     "text": [
      " 92%|██████████████████████████████████████████████████████████████████████████████████████████████████▉         | 9.161142857143629/10 [40:00<03:45, 269.23s/it]"
     ]
    },
    {
     "name": "stdout",
     "output_type": "stream",
     "text": [
      "Train Epoch: 10 [4480/22400 (20%)]\tLoss: 1.248636\n",
      "Mem before-during-after: 21712384 21852160 21712384\n"
     ]
    },
    {
     "name": "stderr",
     "output_type": "stream",
     "text": [
      " 92%|███████████████████████████████████████████████████████████████████████████████████████████████████▏        | 9.184000000000749/10 [40:06<03:28, 255.55s/it]"
     ]
    },
    {
     "name": "stdout",
     "output_type": "stream",
     "text": [
      "Train Epoch: 10 [5120/22400 (23%)]\tLoss: 1.010846\n",
      "Mem before-during-after: 21712384 21852160 21712384\n"
     ]
    },
    {
     "name": "stderr",
     "output_type": "stream",
     "text": [
      " 92%|███████████████████████████████████████████████████████████████████████████████████████████████████▍        | 9.206857142857869/10 [40:12<03:38, 275.57s/it]"
     ]
    },
    {
     "name": "stdout",
     "output_type": "stream",
     "text": [
      "Train Epoch: 10 [5760/22400 (26%)]\tLoss: 0.094851\n",
      "Mem before-during-after: 21712384 21852160 21712384\n"
     ]
    },
    {
     "name": "stderr",
     "output_type": "stream",
     "text": [
      " 92%|███████████████████████████████████████████████████████████████████████████████████████████████████▋        | 9.229714285714989/10 [40:18<03:19, 258.39s/it]"
     ]
    },
    {
     "name": "stdout",
     "output_type": "stream",
     "text": [
      "Train Epoch: 10 [6400/22400 (29%)]\tLoss: 0.221940\n",
      "Mem before-during-after: 21712384 21852160 21712384\n"
     ]
    },
    {
     "name": "stderr",
     "output_type": "stream",
     "text": [
      " 93%|███████████████████████████████████████████████████████████████████████████████████████████████████▉        | 9.252571428572109/10 [40:24<03:16, 262.83s/it]"
     ]
    },
    {
     "name": "stdout",
     "output_type": "stream",
     "text": [
      "Train Epoch: 10 [7040/22400 (31%)]\tLoss: 0.142056\n",
      "Mem before-during-after: 21712384 21852160 21712384\n"
     ]
    },
    {
     "name": "stderr",
     "output_type": "stream",
     "text": [
      " 93%|████████████████████████████████████████████████████████████████████████████████████████████████████▏       | 9.275428571429229/10 [40:30<03:06, 257.37s/it]"
     ]
    },
    {
     "name": "stdout",
     "output_type": "stream",
     "text": [
      "Train Epoch: 10 [7680/22400 (34%)]\tLoss: 0.258393\n",
      "Mem before-during-after: 21712384 21852160 21712384\n"
     ]
    },
    {
     "name": "stderr",
     "output_type": "stream",
     "text": [
      " 93%|████████████████████████████████████████████████████████████████████████████████████████████████████▍       | 9.298285714286349/10 [40:36<03:10, 270.77s/it]"
     ]
    },
    {
     "name": "stdout",
     "output_type": "stream",
     "text": [
      "Train Epoch: 10 [8320/22400 (37%)]\tLoss: 0.169197\n",
      "Mem before-during-after: 21712384 21852160 21712384\n"
     ]
    },
    {
     "name": "stderr",
     "output_type": "stream",
     "text": [
      " 93%|█████████████████████████████████████████████████████████████████████████████████████████████████████▌       | 9.32114285714347/10 [40:42<03:04, 271.94s/it]"
     ]
    },
    {
     "name": "stdout",
     "output_type": "stream",
     "text": [
      "Train Epoch: 10 [8960/22400 (40%)]\tLoss: 0.519723\n",
      "Mem before-during-after: 21712384 21852160 21712384\n"
     ]
    },
    {
     "name": "stderr",
     "output_type": "stream",
     "text": [
      " 93%|█████████████████████████████████████████████████████████████████████████████████████████████████████▊       | 9.34400000000059/10 [40:48<02:48, 256.95s/it]"
     ]
    },
    {
     "name": "stdout",
     "output_type": "stream",
     "text": [
      "Train Epoch: 10 [9600/22400 (43%)]\tLoss: 0.564411\n",
      "Mem before-during-after: 21712384 21852160 21712384\n"
     ]
    },
    {
     "name": "stderr",
     "output_type": "stream",
     "text": [
      " 94%|██████████████████████████████████████████████████████████████████████████████████████████████████████       | 9.36685714285771/10 [40:54<02:46, 262.28s/it]"
     ]
    },
    {
     "name": "stdout",
     "output_type": "stream",
     "text": [
      "Train Epoch: 10 [10240/22400 (46%)]\tLoss: 0.085975\n",
      "Mem before-during-after: 21712384 21852160 21712384\n"
     ]
    },
    {
     "name": "stderr",
     "output_type": "stream",
     "text": [
      " 94%|██████████████████████████████████████████████████████████████████████████████████████████████████████▎      | 9.38971428571483/10 [41:00<02:38, 259.85s/it]"
     ]
    },
    {
     "name": "stdout",
     "output_type": "stream",
     "text": [
      "Train Epoch: 10 [10880/22400 (49%)]\tLoss: 0.228274\n",
      "Mem before-during-after: 21712384 21852160 21712384\n"
     ]
    },
    {
     "name": "stderr",
     "output_type": "stream",
     "text": [
      " 94%|██████████████████████████████████████████████████████████████████████████████████████████████████████▌      | 9.41257142857195/10 [41:06<02:35, 265.39s/it]"
     ]
    },
    {
     "name": "stdout",
     "output_type": "stream",
     "text": [
      "Train Epoch: 10 [11520/22400 (51%)]\tLoss: 0.421020\n",
      "Mem before-during-after: 21712384 21852160 21712384\n"
     ]
    },
    {
     "name": "stderr",
     "output_type": "stream",
     "text": [
      " 94%|██████████████████████████████████████████████████████████████████████████████████████████████████████▊      | 9.43542857142907/10 [41:12<02:28, 263.47s/it]"
     ]
    },
    {
     "name": "stdout",
     "output_type": "stream",
     "text": [
      "Train Epoch: 10 [12160/22400 (54%)]\tLoss: 0.374737\n",
      "Mem before-during-after: 21712384 21852160 21712384\n"
     ]
    },
    {
     "name": "stderr",
     "output_type": "stream",
     "text": [
      " 95%|███████████████████████████████████████████████████████████████████████████████████████████████████████      | 9.45828571428619/10 [41:18<02:19, 257.34s/it]"
     ]
    },
    {
     "name": "stdout",
     "output_type": "stream",
     "text": [
      "Train Epoch: 10 [12800/22400 (57%)]\tLoss: 0.024094\n",
      "Mem before-during-after: 21712384 21852160 21712384\n"
     ]
    },
    {
     "name": "stderr",
     "output_type": "stream",
     "text": [
      " 95%|███████████████████████████████████████████████████████████████████████████████████████████████████████▎     | 9.48114285714331/10 [41:24<02:16, 262.26s/it]"
     ]
    },
    {
     "name": "stdout",
     "output_type": "stream",
     "text": [
      "Train Epoch: 10 [13440/22400 (60%)]\tLoss: 0.116217\n",
      "Mem before-during-after: 21712384 21852160 21712384\n"
     ]
    },
    {
     "name": "stderr",
     "output_type": "stream",
     "text": [
      " 95%|███████████████████████████████████████████████████████████████████████████████████████████████████████▌     | 9.50400000000043/10 [41:30<02:20, 283.48s/it]"
     ]
    },
    {
     "name": "stdout",
     "output_type": "stream",
     "text": [
      "Train Epoch: 10 [14080/22400 (63%)]\tLoss: 0.532718\n",
      "Mem before-during-after: 21712384 21852160 21712384\n"
     ]
    },
    {
     "name": "stderr",
     "output_type": "stream",
     "text": [
      " 95%|███████████████████████████████████████████████████████████████████████████████████████████████████████▊     | 9.52685714285755/10 [41:35<02:02, 257.94s/it]"
     ]
    },
    {
     "name": "stdout",
     "output_type": "stream",
     "text": [
      "Train Epoch: 10 [14720/22400 (66%)]\tLoss: 0.308495\n",
      "Mem before-during-after: 21712384 21852160 21712384\n"
     ]
    },
    {
     "name": "stderr",
     "output_type": "stream",
     "text": [
      " 95%|████████████████████████████████████████████████████████████████████████████████████████████████████████     | 9.54971428571467/10 [41:41<02:04, 276.33s/it]"
     ]
    },
    {
     "name": "stdout",
     "output_type": "stream",
     "text": [
      "Train Epoch: 10 [15360/22400 (69%)]\tLoss: 0.322704\n",
      "Mem before-during-after: 21712384 21852160 21712384\n"
     ]
    },
    {
     "name": "stderr",
     "output_type": "stream",
     "text": [
      " 96%|████████████████████████████████████████████████████████████████████████████████████████████████████████▎    | 9.57257142857179/10 [41:47<01:50, 258.56s/it]"
     ]
    },
    {
     "name": "stdout",
     "output_type": "stream",
     "text": [
      "Train Epoch: 10 [16000/22400 (71%)]\tLoss: 0.152164\n",
      "Mem before-during-after: 21712384 21852160 21712384\n"
     ]
    },
    {
     "name": "stderr",
     "output_type": "stream",
     "text": [
      " 96%|████████████████████████████████████████████████████████████████████████████████████████████████████████▌    | 9.59542857142891/10 [41:53<01:47, 265.63s/it]"
     ]
    },
    {
     "name": "stdout",
     "output_type": "stream",
     "text": [
      "Train Epoch: 10 [16640/22400 (74%)]\tLoss: 0.241411\n",
      "Mem before-during-after: 21712384 21852160 21712384\n"
     ]
    },
    {
     "name": "stderr",
     "output_type": "stream",
     "text": [
      " 96%|████████████████████████████████████████████████████████████████████████████████████████████████████████▊    | 9.61828571428603/10 [41:59<01:36, 252.84s/it]"
     ]
    },
    {
     "name": "stdout",
     "output_type": "stream",
     "text": [
      "Train Epoch: 10 [17280/22400 (77%)]\tLoss: 0.243833\n",
      "Mem before-during-after: 21712384 21852160 21712384\n"
     ]
    },
    {
     "name": "stderr",
     "output_type": "stream",
     "text": [
      " 96%|█████████████████████████████████████████████████████████████████████████████████████████████████████████    | 9.64114285714315/10 [42:05<01:31, 253.99s/it]"
     ]
    },
    {
     "name": "stdout",
     "output_type": "stream",
     "text": [
      "Train Epoch: 10 [17920/22400 (80%)]\tLoss: 0.223392\n",
      "Mem before-during-after: 21712384 21852160 21712384\n"
     ]
    },
    {
     "name": "stderr",
     "output_type": "stream",
     "text": [
      " 97%|█████████████████████████████████████████████████████████████████████████████████████████████████████████▎   | 9.66400000000027/10 [42:11<01:28, 262.25s/it]"
     ]
    },
    {
     "name": "stdout",
     "output_type": "stream",
     "text": [
      "Train Epoch: 10 [18560/22400 (83%)]\tLoss: 0.081253\n",
      "Mem before-during-after: 21712384 21852160 21712384\n"
     ]
    },
    {
     "name": "stderr",
     "output_type": "stream",
     "text": [
      " 97%|█████████████████████████████████████████████████████████████████████████████████████████████████████████▌   | 9.68685714285739/10 [42:17<01:19, 254.04s/it]"
     ]
    },
    {
     "name": "stdout",
     "output_type": "stream",
     "text": [
      "Train Epoch: 10 [19200/22400 (86%)]\tLoss: 0.532634\n",
      "Mem before-during-after: 21712384 21852160 21712384\n"
     ]
    },
    {
     "name": "stderr",
     "output_type": "stream",
     "text": [
      " 97%|█████████████████████████████████████████████████████████████████████████████████████████████████████████▊   | 9.70971428571451/10 [42:23<01:14, 257.28s/it]"
     ]
    },
    {
     "name": "stdout",
     "output_type": "stream",
     "text": [
      "Train Epoch: 10 [19840/22400 (89%)]\tLoss: 0.592601\n",
      "Mem before-during-after: 21712384 21852160 21712384\n"
     ]
    },
    {
     "name": "stderr",
     "output_type": "stream",
     "text": [
      " 97%|██████████████████████████████████████████████████████████████████████████████████████████████████████████   | 9.73257142857163/10 [42:29<01:08, 257.43s/it]"
     ]
    },
    {
     "name": "stdout",
     "output_type": "stream",
     "text": [
      "Train Epoch: 10 [20480/22400 (91%)]\tLoss: 0.148142\n",
      "Mem before-during-after: 21712384 21852160 21712384\n"
     ]
    },
    {
     "name": "stderr",
     "output_type": "stream",
     "text": [
      " 98%|██████████████████████████████████████████████████████████████████████████████████████████████████████████▎  | 9.75542857142875/10 [42:35<01:03, 259.00s/it]"
     ]
    },
    {
     "name": "stdout",
     "output_type": "stream",
     "text": [
      "Train Epoch: 10 [21120/22400 (94%)]\tLoss: 0.472483\n",
      "Mem before-during-after: 21712384 21852160 21712384\n"
     ]
    },
    {
     "name": "stderr",
     "output_type": "stream",
     "text": [
      " 98%|██████████████████████████████████████████████████████████████████████████████████████████████████████████▌  | 9.77828571428587/10 [42:41<00:58, 262.31s/it]"
     ]
    },
    {
     "name": "stdout",
     "output_type": "stream",
     "text": [
      "Train Epoch: 10 [21760/22400 (97%)]\tLoss: 0.127504\n",
      "Mem before-during-after: 21712384 21852160 21712384\n"
     ]
    },
    {
     "name": "stderr",
     "output_type": "stream",
     "text": [
      "100%|███████████████████████████████████████████████████████████████████████████████████████████████████████████▉| 9.999999999999934/10 [43:38<00:00, 261.87s/it]"
     ]
    },
    {
     "name": "stdout",
     "output_type": "stream",
     "text": [
      "\n",
      "Test Epoch: 10\tAccuracy: 5047/5600 (90%)\n",
      "\n"
     ]
    },
    {
     "name": "stderr",
     "output_type": "stream",
     "text": [
      "\n"
     ]
    }
   ],
   "source": [
    "log_interval = 40\n",
    "pbar_update = 1 / (len(train_loader) + len(test_loader))\n",
    "model.to(device)\n",
    "with tqdm(total=n_epoch) as pbar:\n",
    "    for epoch in range(1, n_epoch + 1):\n",
    "        train(model, epoch, log_interval, train_losses)\n",
    "        acc = test(model, epoch)\n",
    "        test_accuracy += [acc]\n",
    "        scheduler.step()"
   ]
  },
  {
   "cell_type": "code",
   "execution_count": 14,
   "id": "1da212d1-afc7-40d0-9ed1-84f53e34046d",
   "metadata": {},
   "outputs": [
    {
     "data": {
      "text/plain": [
       "[<matplotlib.lines.Line2D at 0x7f02d41a5280>]"
      ]
     },
     "execution_count": 14,
     "metadata": {},
     "output_type": "execute_result"
    },
    {
     "data": {
      "image/png": "[encoded data removed]",
      "text/plain": [
       "<Figure size 640x480 with 1 Axes>"
      ]
     },
     "metadata": {},
     "output_type": "display_data"
    }
   ],
   "source": [
    "plt.plot(train_losses)"
   ]
  },
  {
   "cell_type": "code",
   "execution_count": 15,
   "id": "4b7da3dd-0a9a-444f-84f7-4844cd316ca3",
   "metadata": {},
   "outputs": [
    {
     "data": {
      "text/plain": [
       "[<matplotlib.lines.Line2D at 0x7f02b40c65e0>]"
      ]
     },
     "execution_count": 15,
     "metadata": {},
     "output_type": "execute_result"
    },
    {
     "data": {
      "image/png": "[encoded data removed]",
      "text/plain": [
       "<Figure size 640x480 with 1 Axes>"
      ]
     },
     "metadata": {},
     "output_type": "display_data"
    }
   ],
   "source": [
    "plt.plot(test_accuracy)"
   ]
  },
  {
   "cell_type": "code",
   "execution_count": 16,
   "id": "e9382b76-4ccb-4005-a2f5-7d8ff97f2362",
   "metadata": {},
   "outputs": [],
   "source": [
    "from torchmetrics.classification import (\n",
    "    MulticlassAccuracy, MulticlassPrecision, \n",
    "    MulticlassRecall, MulticlassF1Score, \n",
    "    MulticlassConfusionMatrix,\n",
    "    MulticlassAUROC\n",
    ")\n",
    "from torchmetrics import MetricCollection\n",
    "from pprint import pprint\n",
    "\n",
    "@torch.no_grad\n",
    "def report_metrics(model, labels=labels, \n",
    "                   test_loader=test_loader, device=device):\n",
    "    n = len(labels)\n",
    "    metrics = MetricCollection({\n",
    "        'acc_unweighted': MulticlassAccuracy(num_classes=n, average='macro'), \n",
    "        'acc_weighted': MulticlassAccuracy(num_classes=n, average='weighted'), \n",
    "        \n",
    "        'f1s_unweighted': MulticlassF1Score(num_classes=n, average='macro'),  \n",
    "        'f1s_weighted': MulticlassF1Score(num_classes=n, average='weighted'),  \n",
    "\n",
    "        'acc_weighted': MulticlassAccuracy(num_classes=n, average='weighted'), \n",
    "        'uar': MulticlassRecall(num_classes=n, average='macro'), \n",
    "        'wap': MulticlassPrecision(num_classes=n, average='weighted'),\n",
    "        'rocauc': MulticlassAUROC(num_classes=n, average='macro', thresholds=None),    \n",
    "        'f1s_detail': MulticlassF1Score(num_classes=n, average=None),  \n",
    "        'acc_detail': MulticlassAccuracy(num_classes=n, average=None), \n",
    "        'precision_detail': MulticlassPrecision(num_classes=n, average=None),\n",
    "        'recall_detail': MulticlassRecall(num_classes=n, average=None), \n",
    "        'rocauc_detail': MulticlassAUROC(num_classes=n, average=None, thresholds=None),\n",
    "    }).to(device)\n",
    "    confusion_matrix = MulticlassConfusionMatrix(num_classes=n).to(device)\n",
    "    model.eval()\n",
    "    correct = 0\n",
    "    total = 0\n",
    "    for data, target in test_loader:\n",
    "        total += len(target)\n",
    "        \n",
    "        data = data.to(device)\n",
    "        target = target.to(device)\n",
    "        output = model(data).squeeze()\n",
    "        del data\n",
    "        gc.collect()\n",
    "        torch.cuda.empty_cache()\n",
    "        probs = F.softmax(output, dim=-1)\n",
    "        pred = probs.argmax(dim=-1)\n",
    "        correct += pred.eq(target).sum().item()\n",
    "        \n",
    "        metrics.update(probs, target)\n",
    "        confusion_matrix.update(pred, target)\n",
    "        \n",
    "        del target\n",
    "        gc.collect()\n",
    "        torch.cuda.empty_cache()\n",
    "        pbar.update(pbar_update)\n",
    "    print(f'Correct: {correct}/{total} ({correct/total:.4f})')\n",
    "    return metrics, confusion_matrix"
   ]
  },
  {
   "cell_type": "code",
   "execution_count": 17,
   "id": "adf9b4ae-6f94-475f-b557-abc9fec66f42",
   "metadata": {},
   "outputs": [
    {
     "name": "stdout",
     "output_type": "stream",
     "text": [
      "Correct: 5047/5600 (0.9012)\n",
      "{'acc_detail': tensor([0.8950, 0.9450, 0.8821, 0.8829], device='cuda:0'),\n",
      " 'acc_unweighted': tensor(0.9013, device='cuda:0'),\n",
      " 'acc_weighted': tensor(0.9013, device='cuda:0'),\n",
      " 'f1s_detail': tensor([0.8808, 0.9096, 0.9230, 0.8924], device='cuda:0'),\n",
      " 'f1s_unweighted': tensor(0.9015, device='cuda:0'),\n",
      " 'f1s_weighted': tensor(0.9015, device='cuda:0'),\n",
      " 'precision_detail': tensor([0.8671, 0.8767, 0.9679, 0.9022], device='cuda:0'),\n",
      " 'recall_detail': tensor([0.8950, 0.9450, 0.8821, 0.8829], device='cuda:0'),\n",
      " 'rocauc': tensor(0.9864, device='cuda:0'),\n",
      " 'rocauc_detail': tensor([0.9800, 0.9889, 0.9920, 0.9846], device='cuda:0'),\n",
      " 'uar': tensor(0.9013, device='cuda:0'),\n",
      " 'wap': tensor(0.9035, device='cuda:0')}\n"
     ]
    },
    {
     "data": {
      "text/plain": [
       "tensor([[1253,   49,    7,   91],\n",
       "        [  33, 1323,   23,   21],\n",
       "        [  33,  110, 1235,   22],\n",
       "        [ 126,   27,   11, 1236]], device='cuda:0')"
      ]
     },
     "execution_count": 17,
     "metadata": {},
     "output_type": "execute_result"
    }
   ],
   "source": [
    "metrics, confusion_matrix = report_metrics(\n",
    "    model, labels=labels, device=device)\n",
    "pprint(metrics.compute())\n",
    "confusion_matrix.compute()"
   ]
  },
  {
   "cell_type": "code",
   "execution_count": 18,
   "id": "bb112e39-8c3a-467b-a7bc-7b116e91e5e1",
   "metadata": {},
   "outputs": [],
   "source": [
    "model_path = '../models_esd4/esd4_m13mfcc_nohop_10epochs.pt' \n",
    "torch.save(model.state_dict(), model_path)"
   ]
  },
  {
   "cell_type": "code",
   "execution_count": null,
   "id": "d8e65aec-30b9-41c0-82f1-f7420fb7628b",
   "metadata": {},
   "outputs": [],
   "source": []
  }
 ],
 "metadata": {
  "kernelspec": {
   "display_name": "Python 3 (ipykernel)",
   "language": "python",
   "name": "python3"
  },
  "language_info": {
   "codemirror_mode": {
    "name": "ipython",
    "version": 3
   },
   "file_extension": ".py",
   "mimetype": "text/x-python",
   "name": "python",
   "nbconvert_exporter": "python",
   "pygments_lexer": "ipython3",
   "version": "3.9.18"
  }
 },
 "nbformat": 4,
 "nbformat_minor": 5
}
