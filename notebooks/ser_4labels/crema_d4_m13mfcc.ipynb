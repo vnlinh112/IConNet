{
 "cells": [
  {
   "cell_type": "code",
   "execution_count": 1,
   "id": "ebeadf44-f268-4ea5-940c-4b8d6c30e824",
   "metadata": {},
   "outputs": [
    {
     "name": "stdout",
     "output_type": "stream",
     "text": [
      "Wed Feb 28 17:00:18 2024       \n",
      "+---------------------------------------------------------------------------------------+\n",
      "| NVIDIA-SMI 545.23.08              Driver Version: 545.23.08    CUDA Version: 12.3     |\n",
      "|-----------------------------------------+----------------------+----------------------+\n",
      "| GPU  Name                 Persistence-M | Bus-Id        Disp.A | Volatile Uncorr. ECC |\n",
      "| Fan  Temp   Perf          Pwr:Usage/Cap |         Memory-Usage | GPU-Util  Compute M. |\n",
      "|                                         |                      |               MIG M. |\n",
      "|=========================================+======================+======================|\n",
      "|   0  NVIDIA GeForce RTX 2080        On  | 00000000:01:00.0  On |                  N/A |\n",
      "| 32%   31C    P8              20W / 215W |    995MiB /  8192MiB |      6%      Default |\n",
      "|                                         |                      |                  N/A |\n",
      "+-----------------------------------------+----------------------+----------------------+\n",
      "                                                                                         \n",
      "+---------------------------------------------------------------------------------------+\n",
      "| Processes:                                                                            |\n",
      "|  GPU   GI   CI        PID   Type   Process name                            GPU Memory |\n",
      "|        ID   ID                                                             Usage      |\n",
      "|=======================================================================================|\n",
      "|    0   N/A  N/A      1887      G   /usr/lib/xorg/Xorg                          184MiB |\n",
      "|    0   N/A  N/A      2033      G   /usr/bin/gnome-shell                         29MiB |\n",
      "|    0   N/A  N/A   1076924      G   /usr/lib/xorg/Xorg                           35MiB |\n",
      "|    0   N/A  N/A   1080394      G   ...sion,SpareRendererForSitePerProcess       42MiB |\n",
      "|    0   N/A  N/A   2303850      C   /opt/anaconda3/envs/audio/bin/python        492MiB |\n",
      "|    0   N/A  N/A   3306740      G   ...seed-version=20240223-130108.897000       70MiB |\n",
      "+---------------------------------------------------------------------------------------+\n"
     ]
    }
   ],
   "source": [
    "!nvidia-smi"
   ]
  },
  {
   "cell_type": "code",
   "execution_count": 2,
   "id": "6c761c9c-d309-4669-9b5c-9e3658bf006a",
   "metadata": {},
   "outputs": [],
   "source": [
    "%load_ext autoreload\n",
    "%autoreload 2"
   ]
  },
  {
   "cell_type": "code",
   "execution_count": 3,
   "id": "08cf1f67-3e13-4f47-b598-ed7bc4cfbd4a",
   "metadata": {},
   "outputs": [
    {
     "data": {
      "text/plain": [
       "'/home/linh/projects/IConNet/notebooks'"
      ]
     },
     "execution_count": 3,
     "metadata": {},
     "output_type": "execute_result"
    }
   ],
   "source": [
    "import os\n",
    "os.getcwd()"
   ]
  },
  {
   "cell_type": "code",
   "execution_count": 4,
   "id": "918ffe29-4a40-4a72-8a5c-94fc2ec53d51",
   "metadata": {},
   "outputs": [],
   "source": [
    "os.chdir('..')"
   ]
  },
  {
   "cell_type": "code",
   "execution_count": 5,
   "id": "d2c64223-82c7-4fe7-a4df-278b26ba60a7",
   "metadata": {},
   "outputs": [
    {
     "name": "stdout",
     "output_type": "stream",
     "text": [
      "cuda\n"
     ]
    }
   ],
   "source": [
    "os.environ[\"PYTORCH_CUDA_ALLOC_CONF\"] = \"max_split_size_mb:512\"\n",
    "import gc\n",
    "import torch\n",
    "import torch.nn as nn\n",
    "import torch.nn.functional as F\n",
    "import torch.optim as optim\n",
    "import sys\n",
    "device = torch.device(\"cuda\" if torch.cuda.is_available() else \"cpu\")\n",
    "print(device)"
   ]
  },
  {
   "cell_type": "code",
   "execution_count": 6,
   "id": "1db98310-7115-45c5-bc6f-c34279a3a50e",
   "metadata": {},
   "outputs": [],
   "source": [
    "import glob\n",
    "import numpy as np\n",
    "from tqdm import tqdm\n",
    "import itertools\n",
    "import matplotlib.pyplot as plt\n",
    "import pandas as pd\n",
    "\n",
    "# Scikit learn\n",
    "from sklearn.model_selection import train_test_split\n",
    "from sklearn.preprocessing import LabelEncoder\n",
    "from sklearn.utils import shuffle\n",
    "\n",
    "import warnings\n",
    "warnings.filterwarnings('ignore', category=FutureWarning)"
   ]
  },
  {
   "cell_type": "code",
   "execution_count": 7,
   "id": "8b265cfc-5bef-46b7-aaa7-955240ad87f1",
   "metadata": {},
   "outputs": [],
   "source": [
    "data_dir = '../data/data_preprocessed/crema_d/preprocessed/'"
   ]
  },
  {
   "cell_type": "code",
   "execution_count": 8,
   "id": "82fb76f6-ade0-4d65-b525-7ff779fc0290",
   "metadata": {},
   "outputs": [
    {
     "name": "stdout",
     "output_type": "stream",
     "text": [
      "(7438,)\n",
      "(7438,)\n"
     ]
    },
    {
     "data": {
      "text/plain": [
       "array([0, 1, 2, 3, 4, 5], dtype=int16)"
      ]
     },
     "execution_count": 8,
     "metadata": {},
     "output_type": "execute_result"
    }
   ],
   "source": [
    "sr = 16000\n",
    "\n",
    "data_x = np.load(f'{data_dir}crema_d.audio16k.npy', allow_pickle=True)\n",
    "data_y = np.load(f'{data_dir}crema_d.label_emotion.npy', allow_pickle=True)\n",
    "classnames = np.load(f'{data_dir}crema_d.classnames.npy', allow_pickle=True)\n",
    "print(data_x.shape)\n",
    "print(data_y.shape)\n",
    "np.unique(data_y)"
   ]
  },
  {
   "cell_type": "code",
   "execution_count": 9,
   "id": "15aa4770-d3ac-44c6-8f42-f6d8fd480c34",
   "metadata": {},
   "outputs": [
    {
     "data": {
      "text/plain": [
       "array(['NEU', 'HAP', 'SAD', 'ANG', 'FEA', 'DIS'], dtype='<U3')"
      ]
     },
     "execution_count": 9,
     "metadata": {},
     "output_type": "execute_result"
    }
   ],
   "source": [
    "classnames"
   ]
  },
  {
   "cell_type": "code",
   "execution_count": 10,
   "id": "cffdd7de-9752-4402-b836-f397dde533c3",
   "metadata": {},
   "outputs": [
    {
     "name": "stdout",
     "output_type": "stream",
     "text": [
      "(4898,)\n"
     ]
    }
   ],
   "source": [
    "labels = ['ANG', 'NEU', 'SAD', 'HAP']\n",
    "\n",
    "def label_filter(idx):\n",
    "    return classnames[idx] in labels\n",
    "\n",
    "def label_to_index(idx):\n",
    "    return labels.index(classnames[idx])\n",
    "    \n",
    "filtered_idx = [label_filter(idx) for idx in data_y]\n",
    "data_x = data_x[filtered_idx]\n",
    "data_y = [label_to_index(idx) for idx in data_y[filtered_idx]]\n",
    "print(data_x.shape)"
   ]
  },
  {
   "cell_type": "code",
   "execution_count": 11,
   "id": "88455c85-66e2-4ba0-a4ed-d89fd65f3d0e",
   "metadata": {},
   "outputs": [
    {
     "name": "stdout",
     "output_type": "stream",
     "text": [
      "Train: 3918\n",
      "Test: 980\n"
     ]
    }
   ],
   "source": [
    "from sklearn.model_selection import train_test_split\n",
    "\n",
    "x_train, x_test, y_train, y_test = train_test_split(\n",
    "    data_x, data_y, test_size=0.2, \n",
    "    random_state=42, stratify=data_y)\n",
    "print(\"Train: %i\" % len(x_train))\n",
    "print(\"Test: %i\" % len(x_test))"
   ]
  },
  {
   "cell_type": "code",
   "execution_count": 12,
   "id": "c55f5684-d1a8-4d8d-b97b-96149b6f8ec6",
   "metadata": {},
   "outputs": [],
   "source": [
    "train_set = list(zip(x_train, y_train))\n",
    "test_set = list(zip(x_test, y_test))"
   ]
  },
  {
   "cell_type": "code",
   "execution_count": 22,
   "id": "d8aadba2-7ff4-4490-94e8-1d7786a98a77",
   "metadata": {},
   "outputs": [],
   "source": [
    "def pad_sequence(batch):\n",
    "    # Make all tensor in a batch the same length by padding with zeros\n",
    "    batch = [item.t() for item in batch]\n",
    "    batch = torch.nn.utils.rnn.pad_sequence(\n",
    "        batch, batch_first=True, padding_value=0.).permute(0, 2, 1)\n",
    "    return batch\n",
    "\n",
    "def collate_fn(batch, max_duration_in_second=3, sample_rate=sr):\n",
    "    tensors, targets = [], []\n",
    "\n",
    "    # Gather in lists, and encode labels as indices\n",
    "    for waveform, label in batch:\n",
    "        if max_duration_in_second is not None:\n",
    "            waveform = np.array(waveform, dtype=float).squeeze()\n",
    "            length = len(waveform)\n",
    "            max_length = sample_rate * max_duration_in_second\n",
    "            offset = max(0, (length - max_length) // 2)\n",
    "            waveform = waveform[offset: length-offset]\n",
    "        tensors += [torch.tensor(waveform, dtype=torch.float32)[None,:]]\n",
    "        targets += [torch.tensor(label, dtype=torch.long)]\n",
    "\n",
    "    # Group the list of tensors into a batched tensor\n",
    "    tensors = pad_sequence(tensors)\n",
    "    targets = torch.stack(targets)\n",
    "    return tensors, targets\n",
    "\n",
    "batch_size = 16\n",
    "\n",
    "if device == \"cuda\":\n",
    "    num_workers = 1\n",
    "    pin_memory = True\n",
    "else:\n",
    "    num_workers = 0\n",
    "    pin_memory = False\n",
    "\n",
    "train_loader = torch.utils.data.DataLoader(\n",
    "    train_set,\n",
    "    batch_size=batch_size,\n",
    "    shuffle=True,\n",
    "    collate_fn=collate_fn,\n",
    "    num_workers=num_workers,\n",
    "    pin_memory=pin_memory, \n",
    "    drop_last=True\n",
    ")\n",
    "test_loader = torch.utils.data.DataLoader(\n",
    "    test_set,\n",
    "    batch_size=batch_size,\n",
    "    shuffle=False,\n",
    "    drop_last=True,\n",
    "    collate_fn=collate_fn,\n",
    "    num_workers=num_workers,\n",
    "    pin_memory=pin_memory\n",
    ")"
   ]
  },
  {
   "cell_type": "code",
   "execution_count": 13,
   "id": "dc039999-3237-4d3b-80f7-a51f8d503145",
   "metadata": {},
   "outputs": [],
   "source": [
    "from IConNet.nn.model import M13mfcc as M13"
   ]
  },
  {
   "cell_type": "code",
   "execution_count": 14,
   "id": "965d9e7c-8057-42d7-a4ae-514fac39ed00",
   "metadata": {},
   "outputs": [],
   "source": [
    "from omegaconf import OmegaConf as ocf"
   ]
  },
  {
   "cell_type": "code",
   "execution_count": 15,
   "id": "41f72901-850d-426c-bf0c-474b9d05e658",
   "metadata": {},
   "outputs": [],
   "source": [
    "import traceback"
   ]
  },
  {
   "cell_type": "code",
   "execution_count": 18,
   "id": "2c32b2a9-2797-4fd1-bd05-f0333f0aaa43",
   "metadata": {},
   "outputs": [
    {
     "data": {
      "text/plain": [
       "{'name': 'M13mfcc', 'description': 'FirConv with fftconv', 'mfcc': {'n_mfcc': 40, 'n_fft': 512, 'hop_length': 128, 'n_mels': 64, 'sample_rate': 16000}, 'pooling': 'mean', 'cls': {'n_block': 2, 'n_hidden_dim': [256, 256], 'norm_type': 'LayerNorm'}}"
      ]
     },
     "execution_count": 18,
     "metadata": {},
     "output_type": "execute_result"
    }
   ],
   "source": [
    "model_config_path = 'config/model/m13mfcc.yaml'\n",
    "model_config = ocf.load(model_config_path)\n",
    "model_config"
   ]
  },
  {
   "cell_type": "code",
   "execution_count": 19,
   "id": "2c6b57a5-edee-400e-807a-fad5e5974026",
   "metadata": {
    "scrolled": true
   },
   "outputs": [
    {
     "data": {
      "text/plain": [
       "M13mfcc(\n",
       "  (mfcc): MFCC(\n",
       "    (amplitude_to_DB): AmplitudeToDB()\n",
       "    (MelSpectrogram): MelSpectrogram(\n",
       "      (spectrogram): Spectrogram()\n",
       "      (mel_scale): MelScale()\n",
       "    )\n",
       "  )\n",
       "  (cls_head): Classifier(\n",
       "    (blocks): ModuleList(\n",
       "      (0): Sequential(\n",
       "        (norm): LayerNorm((40,), eps=1e-05, elementwise_affine=True)\n",
       "        (layer): Linear(in_features=40, out_features=256, bias=True)\n",
       "      )\n",
       "      (1): Sequential(\n",
       "        (norm): LayerNorm((256,), eps=1e-05, elementwise_affine=True)\n",
       "        (layer): Linear(in_features=256, out_features=256, bias=True)\n",
       "      )\n",
       "    )\n",
       "    (act): LeakyReLU(negative_slope=0.01)\n",
       "    (output_layer): Linear(in_features=256, out_features=4, bias=True)\n",
       "  )\n",
       ")"
      ]
     },
     "execution_count": 19,
     "metadata": {},
     "output_type": "execute_result"
    }
   ],
   "source": [
    "model = M13(config=model_config,\n",
    "           n_input=1, n_output=len(labels))\n",
    "model"
   ]
  },
  {
   "cell_type": "code",
   "execution_count": 23,
   "id": "76e4b8a2-6938-4ec7-bad5-fc07fce8e5e1",
   "metadata": {},
   "outputs": [],
   "source": [
    "n_epoch = 10\n",
    "train_losses = []\n",
    "test_accuracy = []\n",
    "optimizer = optim.RAdam(model.parameters(), lr=0.001)\n",
    "scheduler = optim.lr_scheduler.OneCycleLR(\n",
    "    optimizer, max_lr=0.1,\n",
    "    steps_per_epoch=len(train_loader), epochs=n_epoch)"
   ]
  },
  {
   "cell_type": "code",
   "execution_count": 24,
   "id": "a1d06d4a-aad8-4343-a42a-f6504edad907",
   "metadata": {},
   "outputs": [],
   "source": [
    "train_loader_length = len(train_loader.dataset)\n",
    "test_loader_length = len(test_loader.dataset)\n",
    "\n",
    "def train(model, epoch, log_interval, \n",
    "          train_losses=train_losses):\n",
    "    model.train()\n",
    "    for batch_idx, (data, target) in enumerate(train_loader):\n",
    "        try:\n",
    "            _mem_before = torch.cuda.memory_allocated()\n",
    "            data = data.to(device)\n",
    "            target = target.to(device)\n",
    "            output = model(data)\n",
    "            del data\n",
    "            gc.collect()\n",
    "            torch.cuda.empty_cache()\n",
    "            loss = F.cross_entropy(output.squeeze(), target)\n",
    "            _mem_during = torch.cuda.memory_allocated()\n",
    "            del target\n",
    "            gc.collect()\n",
    "            torch.cuda.empty_cache()\n",
    "            optimizer.zero_grad()\n",
    "            loss.backward()\n",
    "            nn.utils.clip_grad.clip_grad_norm_(\n",
    "                model.parameters(), 1.0)\n",
    "            optimizer.step()\n",
    "            _mem_after = torch.cuda.memory_allocated()\n",
    "            # print training stats\n",
    "            if batch_idx % log_interval == 0:\n",
    "                print(f\"Train Epoch: {epoch} [{batch_idx * batch_size}/{train_loader_length} ({100. * batch_idx / len(train_loader):.0f}%)]\\tLoss: {loss.item():.6f}\")\n",
    "                print(f'Mem before-during-after: {_mem_before} {_mem_during} {_mem_after}')\n",
    "            # update progress bar\n",
    "            pbar.update(pbar_update)\n",
    "            # record loss\n",
    "            train_losses.append(loss.item())\n",
    "        except Exception as e:\n",
    "            print(f'data: {data.shape} => output: {output.shape} | target: {target.shape}')\n",
    "            traceback.print_exc()\n",
    "\n",
    "@torch.no_grad\n",
    "def test(model, epoch, test_loader=test_loader, device=device):\n",
    "    model.eval()\n",
    "    correct = 0\n",
    "    total = 0\n",
    "    for data, target in test_loader:\n",
    "        total += len(target)\n",
    "        data = data.to(device)\n",
    "        target = target.to(device)\n",
    "        output = model(data).squeeze()\n",
    "        del data\n",
    "        gc.collect()\n",
    "        torch.cuda.empty_cache()\n",
    "        probs = F.softmax(output, dim=-1)\n",
    "        pred = probs.argmax(dim=-1)\n",
    "        correct += pred.eq(target).sum().item()\n",
    "        del target\n",
    "        gc.collect()\n",
    "        torch.cuda.empty_cache()\n",
    "        pbar.update(pbar_update)\n",
    "    acc = correct / test_loader_length\n",
    "    print(f\"\\nTest Epoch: {epoch}\\tAccuracy: {correct}/{total} ({100. * acc:.0f}%)\\n\")\n",
    "    return acc"
   ]
  },
  {
   "cell_type": "code",
   "execution_count": 26,
   "id": "be5e8f4b-6b3a-47e5-9b73-5ebd9722ab2b",
   "metadata": {
    "scrolled": true
   },
   "outputs": [
    {
     "name": "stderr",
     "output_type": "stream",
     "text": [
      "  0%|                                  | 0.006557377049180328/10 [00:00<11:24, 68.49s/it]"
     ]
    },
    {
     "name": "stdout",
     "output_type": "stream",
     "text": [
      "Train Epoch: 1 [0/3918 (0%)]\tLoss: 1.304469\n",
      "Mem before-during-after: 12935680 13010944 22394880\n"
     ]
    },
    {
     "name": "stderr",
     "output_type": "stream",
     "text": [
      "  1%|▍                                  | 0.13770491803278687/10 [00:07<09:09, 55.75s/it]"
     ]
    },
    {
     "name": "stdout",
     "output_type": "stream",
     "text": [
      "Train Epoch: 1 [640/3918 (16%)]\tLoss: 1.393595\n",
      "Mem before-during-after: 22394880 22469120 22394880\n"
     ]
    },
    {
     "name": "stderr",
     "output_type": "stream",
     "text": [
      "  3%|▉                                  | 0.26885245901639304/10 [00:15<09:41, 59.78s/it]"
     ]
    },
    {
     "name": "stdout",
     "output_type": "stream",
     "text": [
      "Train Epoch: 1 [1280/3918 (33%)]\tLoss: 1.316760\n",
      "Mem before-during-after: 22394880 22469120 22394880\n"
     ]
    },
    {
     "name": "stderr",
     "output_type": "stream",
     "text": [
      "  4%|█▍                                  | 0.4000000000000002/10 [00:22<08:55, 55.82s/it]"
     ]
    },
    {
     "name": "stdout",
     "output_type": "stream",
     "text": [
      "Train Epoch: 1 [1920/3918 (49%)]\tLoss: 1.478699\n",
      "Mem before-during-after: 22394880 22469120 22394880\n"
     ]
    },
    {
     "name": "stderr",
     "output_type": "stream",
     "text": [
      "  5%|█▉                                  | 0.5278688524590167/10 [00:29<08:48, 55.75s/it]"
     ]
    },
    {
     "name": "stdout",
     "output_type": "stream",
     "text": [
      "Train Epoch: 1 [2560/3918 (66%)]\tLoss: 1.302461\n",
      "Mem before-during-after: 22394880 22469120 22394880\n"
     ]
    },
    {
     "name": "stderr",
     "output_type": "stream",
     "text": [
      "  7%|██▍                                 | 0.6622950819672118/10 [00:37<09:39, 62.05s/it]"
     ]
    },
    {
     "name": "stdout",
     "output_type": "stream",
     "text": [
      "Train Epoch: 1 [3200/3918 (82%)]\tLoss: 1.095219\n",
      "Mem before-during-after: 22394880 22469120 22394880\n"
     ]
    },
    {
     "name": "stderr",
     "output_type": "stream",
     "text": [
      "  8%|██▊                                 | 0.7934426229508167/10 [00:44<08:38, 56.34s/it]"
     ]
    },
    {
     "name": "stdout",
     "output_type": "stream",
     "text": [
      "Train Epoch: 1 [3840/3918 (98%)]\tLoss: 1.095748\n",
      "Mem before-during-after: 22394880 22469120 22394880\n"
     ]
    },
    {
     "name": "stderr",
     "output_type": "stream",
     "text": [
      " 10%|███▌                                | 1.0032786885245846/10 [00:56<08:25, 56.18s/it]"
     ]
    },
    {
     "name": "stdout",
     "output_type": "stream",
     "text": [
      "\n",
      "Test Epoch: 1\tAccuracy: 492/976 (50%)\n",
      "\n",
      "Train Epoch: 2 [0/3918 (0%)]\tLoss: 0.689615\n",
      "Mem before-during-after: 22393856 22469120 22394880\n"
     ]
    },
    {
     "name": "stderr",
     "output_type": "stream",
     "text": [
      " 11%|████                                | 1.1377049180327796/10 [01:04<08:29, 57.46s/it]"
     ]
    },
    {
     "name": "stdout",
     "output_type": "stream",
     "text": [
      "Train Epoch: 2 [640/3918 (16%)]\tLoss: 1.110921\n",
      "Mem before-during-after: 22394880 22469120 22394880\n"
     ]
    },
    {
     "name": "stderr",
     "output_type": "stream",
     "text": [
      " 13%|████▌                               | 1.2688524590163845/10 [01:11<08:04, 55.52s/it]"
     ]
    },
    {
     "name": "stdout",
     "output_type": "stream",
     "text": [
      "Train Epoch: 2 [1280/3918 (33%)]\tLoss: 1.175071\n",
      "Mem before-during-after: 22394880 22469120 22394880\n"
     ]
    },
    {
     "name": "stderr",
     "output_type": "stream",
     "text": [
      " 14%|█████                               | 1.3999999999999895/10 [01:19<08:13, 57.36s/it]"
     ]
    },
    {
     "name": "stdout",
     "output_type": "stream",
     "text": [
      "Train Epoch: 2 [1920/3918 (49%)]\tLoss: 0.851007\n",
      "Mem before-during-after: 22394880 22469120 22394880\n"
     ]
    },
    {
     "name": "stderr",
     "output_type": "stream",
     "text": [
      " 15%|█████▌                              | 1.5311475409835944/10 [01:26<07:54, 56.04s/it]"
     ]
    },
    {
     "name": "stdout",
     "output_type": "stream",
     "text": [
      "Train Epoch: 2 [2560/3918 (66%)]\tLoss: 1.208940\n",
      "Mem before-during-after: 22394880 22469120 22394880\n"
     ]
    },
    {
     "name": "stderr",
     "output_type": "stream",
     "text": [
      " 17%|█████▉                              | 1.6622950819671993/10 [01:33<07:41, 55.31s/it]"
     ]
    },
    {
     "name": "stdout",
     "output_type": "stream",
     "text": [
      "Train Epoch: 2 [3200/3918 (82%)]\tLoss: 0.965164\n",
      "Mem before-during-after: 22394880 22469120 22394880\n"
     ]
    },
    {
     "name": "stderr",
     "output_type": "stream",
     "text": [
      " 18%|██████▍                             | 1.7934426229508043/10 [01:41<07:46, 56.85s/it]"
     ]
    },
    {
     "name": "stdout",
     "output_type": "stream",
     "text": [
      "Train Epoch: 2 [3840/3918 (98%)]\tLoss: 1.328905\n",
      "Mem before-during-after: 22394880 22469120 22394880\n"
     ]
    },
    {
     "name": "stderr",
     "output_type": "stream",
     "text": [
      " 20%|███████▏                            | 2.0032786885245724/10 [01:52<07:37, 57.24s/it]"
     ]
    },
    {
     "name": "stdout",
     "output_type": "stream",
     "text": [
      "\n",
      "Test Epoch: 2\tAccuracy: 520/976 (53%)\n",
      "\n",
      "Train Epoch: 3 [0/3918 (0%)]\tLoss: 0.830974\n",
      "Mem before-during-after: 22393856 22469120 22394880\n"
     ]
    },
    {
     "name": "stderr",
     "output_type": "stream",
     "text": [
      " 21%|███████▋                            | 2.1344262295081773/10 [02:00<07:12, 55.03s/it]"
     ]
    },
    {
     "name": "stdout",
     "output_type": "stream",
     "text": [
      "Train Epoch: 3 [640/3918 (16%)]\tLoss: 1.016280\n",
      "Mem before-during-after: 22394880 22469120 22394880\n"
     ]
    },
    {
     "name": "stderr",
     "output_type": "stream",
     "text": [
      " 23%|████████▍                            | 2.265573770491782/10 [02:07<07:09, 55.57s/it]"
     ]
    },
    {
     "name": "stdout",
     "output_type": "stream",
     "text": [
      "Train Epoch: 3 [1280/3918 (33%)]\tLoss: 0.711918\n",
      "Mem before-during-after: 22394880 22469120 22394880\n"
     ]
    },
    {
     "name": "stderr",
     "output_type": "stream",
     "text": [
      " 24%|████████▋                           | 2.3999999999999773/10 [02:15<07:08, 56.35s/it]"
     ]
    },
    {
     "name": "stdout",
     "output_type": "stream",
     "text": [
      "Train Epoch: 3 [1920/3918 (49%)]\tLoss: 1.193525\n",
      "Mem before-during-after: 22394880 22469120 22394880\n"
     ]
    },
    {
     "name": "stderr",
     "output_type": "stream",
     "text": [
      " 25%|█████████▎                           | 2.531147540983582/10 [02:23<06:59, 56.15s/it]"
     ]
    },
    {
     "name": "stdout",
     "output_type": "stream",
     "text": [
      "Train Epoch: 3 [2560/3918 (66%)]\tLoss: 1.087810\n",
      "Mem before-during-after: 22394880 22469120 22394880\n"
     ]
    },
    {
     "name": "stderr",
     "output_type": "stream",
     "text": [
      " 27%|█████████▊                           | 2.662295081967187/10 [02:30<06:57, 56.84s/it]"
     ]
    },
    {
     "name": "stdout",
     "output_type": "stream",
     "text": [
      "Train Epoch: 3 [3200/3918 (82%)]\tLoss: 1.124179\n",
      "Mem before-during-after: 22394880 22469120 22394880\n"
     ]
    },
    {
     "name": "stderr",
     "output_type": "stream",
     "text": [
      " 28%|██████████▎                          | 2.793442622950792/10 [02:37<06:47, 56.52s/it]"
     ]
    },
    {
     "name": "stdout",
     "output_type": "stream",
     "text": [
      "Train Epoch: 3 [3840/3918 (98%)]\tLoss: 0.979252\n",
      "Mem before-during-after: 22394880 22469120 22394880\n"
     ]
    },
    {
     "name": "stderr",
     "output_type": "stream",
     "text": [
      " 30%|███████████▍                          | 3.00327868852456/10 [02:49<06:25, 55.07s/it]"
     ]
    },
    {
     "name": "stdout",
     "output_type": "stream",
     "text": [
      "\n",
      "Test Epoch: 3\tAccuracy: 535/976 (55%)\n",
      "\n",
      "Train Epoch: 4 [0/3918 (0%)]\tLoss: 1.193300\n",
      "Mem before-during-after: 22393856 22469120 22394880\n"
     ]
    },
    {
     "name": "stderr",
     "output_type": "stream",
     "text": [
      " 31%|███████████▌                         | 3.137704918032755/10 [02:57<06:18, 55.19s/it]"
     ]
    },
    {
     "name": "stdout",
     "output_type": "stream",
     "text": [
      "Train Epoch: 4 [640/3918 (16%)]\tLoss: 1.043286\n",
      "Mem before-during-after: 22394880 22469120 22394880\n"
     ]
    },
    {
     "name": "stderr",
     "output_type": "stream",
     "text": [
      " 33%|████████████▍                         | 3.26885245901636/10 [03:05<06:26, 57.49s/it]"
     ]
    },
    {
     "name": "stdout",
     "output_type": "stream",
     "text": [
      "Train Epoch: 4 [1280/3918 (33%)]\tLoss: 0.834109\n",
      "Mem before-during-after: 22394880 22469120 22394880\n"
     ]
    },
    {
     "name": "stderr",
     "output_type": "stream",
     "text": [
      " 34%|████████████▌                        | 3.399999999999965/10 [03:12<06:02, 54.86s/it]"
     ]
    },
    {
     "name": "stdout",
     "output_type": "stream",
     "text": [
      "Train Epoch: 4 [1920/3918 (49%)]\tLoss: 0.862999\n",
      "Mem before-during-after: 22394880 22469120 22394880\n"
     ]
    },
    {
     "name": "stderr",
     "output_type": "stream",
     "text": [
      " 35%|████████████▋                       | 3.5311475409835698/10 [03:20<06:15, 58.10s/it]"
     ]
    },
    {
     "name": "stdout",
     "output_type": "stream",
     "text": [
      "Train Epoch: 4 [2560/3918 (66%)]\tLoss: 1.466436\n",
      "Mem before-during-after: 22394880 22469120 22394880\n"
     ]
    },
    {
     "name": "stderr",
     "output_type": "stream",
     "text": [
      " 37%|█████████████▏                      | 3.6622950819671747/10 [03:27<05:52, 55.60s/it]"
     ]
    },
    {
     "name": "stdout",
     "output_type": "stream",
     "text": [
      "Train Epoch: 4 [3200/3918 (82%)]\tLoss: 1.095163\n",
      "Mem before-during-after: 22394880 22469120 22394880\n"
     ]
    },
    {
     "name": "stderr",
     "output_type": "stream",
     "text": [
      " 38%|█████████████▋                      | 3.7934426229507796/10 [03:34<05:53, 56.95s/it]"
     ]
    },
    {
     "name": "stdout",
     "output_type": "stream",
     "text": [
      "Train Epoch: 4 [3840/3918 (98%)]\tLoss: 1.195317\n",
      "Mem before-during-after: 22394880 22469120 22394880\n"
     ]
    },
    {
     "name": "stderr",
     "output_type": "stream",
     "text": [
      " 40%|██████████████▍                     | 4.0032786885245475/10 [03:46<05:28, 54.79s/it]"
     ]
    },
    {
     "name": "stdout",
     "output_type": "stream",
     "text": [
      "\n",
      "Test Epoch: 4\tAccuracy: 511/976 (52%)\n",
      "\n",
      "Train Epoch: 5 [0/3918 (0%)]\tLoss: 1.137160\n",
      "Mem before-during-after: 22393856 22469120 22394880\n"
     ]
    },
    {
     "name": "stderr",
     "output_type": "stream",
     "text": [
      " 41%|██████████████▉                     | 4.1377049180327425/10 [03:54<05:27, 55.93s/it]"
     ]
    },
    {
     "name": "stdout",
     "output_type": "stream",
     "text": [
      "Train Epoch: 5 [640/3918 (16%)]\tLoss: 0.956247\n",
      "Mem before-during-after: 22394880 22469120 22394880\n"
     ]
    },
    {
     "name": "stderr",
     "output_type": "stream",
     "text": [
      " 43%|███████████████▊                     | 4.265573770491757/10 [04:01<05:20, 55.96s/it]"
     ]
    },
    {
     "name": "stdout",
     "output_type": "stream",
     "text": [
      "Train Epoch: 5 [1280/3918 (33%)]\tLoss: 1.178674\n",
      "Mem before-during-after: 22394880 22469120 22394880\n"
     ]
    },
    {
     "name": "stderr",
     "output_type": "stream",
     "text": [
      " 44%|████████████████▎                    | 4.399999999999952/10 [04:08<05:06, 54.67s/it]"
     ]
    },
    {
     "name": "stdout",
     "output_type": "stream",
     "text": [
      "Train Epoch: 5 [1920/3918 (49%)]\tLoss: 1.196697\n",
      "Mem before-during-after: 22394880 22469120 22394880\n"
     ]
    },
    {
     "name": "stderr",
     "output_type": "stream",
     "text": [
      " 45%|████████████████▊                    | 4.531147540983557/10 [04:16<05:04, 55.63s/it]"
     ]
    },
    {
     "name": "stdout",
     "output_type": "stream",
     "text": [
      "Train Epoch: 5 [2560/3918 (66%)]\tLoss: 0.859480\n",
      "Mem before-during-after: 22394880 22469120 22394880\n"
     ]
    },
    {
     "name": "stderr",
     "output_type": "stream",
     "text": [
      " 47%|█████████████████▎                   | 4.662295081967162/10 [04:23<04:58, 55.84s/it]"
     ]
    },
    {
     "name": "stdout",
     "output_type": "stream",
     "text": [
      "Train Epoch: 5 [3200/3918 (82%)]\tLoss: 1.135194\n",
      "Mem before-during-after: 22394880 22469120 22394880\n"
     ]
    },
    {
     "name": "stderr",
     "output_type": "stream",
     "text": [
      " 48%|█████████████████▋                   | 4.793442622950767/10 [04:30<04:59, 57.44s/it]"
     ]
    },
    {
     "name": "stdout",
     "output_type": "stream",
     "text": [
      "Train Epoch: 5 [3840/3918 (98%)]\tLoss: 0.880038\n",
      "Mem before-during-after: 22394880 22469120 22394880\n"
     ]
    },
    {
     "name": "stderr",
     "output_type": "stream",
     "text": [
      " 50%|██████████████████▌                  | 5.003278688524535/10 [04:42<04:39, 55.88s/it]"
     ]
    },
    {
     "name": "stdout",
     "output_type": "stream",
     "text": [
      "\n",
      "Test Epoch: 5\tAccuracy: 524/976 (53%)\n",
      "\n",
      "Train Epoch: 6 [0/3918 (0%)]\tLoss: 0.904071\n",
      "Mem before-during-after: 22393856 22469120 22394880\n"
     ]
    },
    {
     "name": "stderr",
     "output_type": "stream",
     "text": [
      " 51%|███████████████████▌                  | 5.13770491803273/10 [04:50<04:35, 56.75s/it]"
     ]
    },
    {
     "name": "stdout",
     "output_type": "stream",
     "text": [
      "Train Epoch: 6 [640/3918 (16%)]\tLoss: 0.759816\n",
      "Mem before-during-after: 22394880 22469120 22394880\n"
     ]
    },
    {
     "name": "stderr",
     "output_type": "stream",
     "text": [
      " 53%|███████████████████▍                 | 5.268852459016335/10 [04:57<04:22, 55.40s/it]"
     ]
    },
    {
     "name": "stdout",
     "output_type": "stream",
     "text": [
      "Train Epoch: 6 [1280/3918 (33%)]\tLoss: 0.988800\n",
      "Mem before-during-after: 22394880 22469120 22394880\n"
     ]
    },
    {
     "name": "stderr",
     "output_type": "stream",
     "text": [
      " 54%|████████████████████▌                 | 5.39999999999994/10 [05:04<04:13, 55.13s/it]"
     ]
    },
    {
     "name": "stdout",
     "output_type": "stream",
     "text": [
      "Train Epoch: 6 [1920/3918 (49%)]\tLoss: 1.861554\n",
      "Mem before-during-after: 22394880 22469120 22394880\n"
     ]
    },
    {
     "name": "stderr",
     "output_type": "stream",
     "text": [
      " 55%|████████████████████▍                | 5.527868852458955/10 [05:12<04:10, 56.08s/it]"
     ]
    },
    {
     "name": "stdout",
     "output_type": "stream",
     "text": [
      "Train Epoch: 6 [2560/3918 (66%)]\tLoss: 1.407897\n",
      "Mem before-during-after: 22394880 22469120 22394880\n"
     ]
    },
    {
     "name": "stderr",
     "output_type": "stream",
     "text": [
      " 57%|█████████████████████▌                | 5.66229508196715/10 [05:19<03:59, 55.13s/it]"
     ]
    },
    {
     "name": "stdout",
     "output_type": "stream",
     "text": [
      "Train Epoch: 6 [3200/3918 (82%)]\tLoss: 0.970730\n",
      "Mem before-during-after: 22394880 22469120 22394880\n"
     ]
    },
    {
     "name": "stderr",
     "output_type": "stream",
     "text": [
      " 58%|█████████████████████▍               | 5.793442622950755/10 [05:27<03:54, 55.82s/it]"
     ]
    },
    {
     "name": "stdout",
     "output_type": "stream",
     "text": [
      "Train Epoch: 6 [3840/3918 (98%)]\tLoss: 0.991742\n",
      "Mem before-during-after: 22394880 22469120 22394880\n"
     ]
    },
    {
     "name": "stderr",
     "output_type": "stream",
     "text": [
      " 60%|██████████████████████▏              | 6.003278688524523/10 [05:38<03:42, 55.77s/it]"
     ]
    },
    {
     "name": "stdout",
     "output_type": "stream",
     "text": [
      "\n",
      "Test Epoch: 6\tAccuracy: 512/976 (52%)\n",
      "\n",
      "Train Epoch: 7 [0/3918 (0%)]\tLoss: 1.421834\n",
      "Mem before-during-after: 22393856 22469120 22394880\n"
     ]
    },
    {
     "name": "stderr",
     "output_type": "stream",
     "text": [
      " 61%|██████████████████████▋              | 6.137704918032718/10 [05:46<03:36, 55.95s/it]"
     ]
    },
    {
     "name": "stdout",
     "output_type": "stream",
     "text": [
      "Train Epoch: 7 [640/3918 (16%)]\tLoss: 0.814070\n",
      "Mem before-during-after: 22394880 22469120 22394880\n"
     ]
    },
    {
     "name": "stderr",
     "output_type": "stream",
     "text": [
      " 63%|███████████████████████▏             | 6.268852459016323/10 [05:53<03:30, 56.31s/it]"
     ]
    },
    {
     "name": "stdout",
     "output_type": "stream",
     "text": [
      "Train Epoch: 7 [1280/3918 (33%)]\tLoss: 1.164374\n",
      "Mem before-during-after: 22394880 22469120 22394880\n"
     ]
    },
    {
     "name": "stderr",
     "output_type": "stream",
     "text": [
      " 64%|███████████████████████             | 6.3999999999999275/10 [06:01<03:24, 56.92s/it]"
     ]
    },
    {
     "name": "stdout",
     "output_type": "stream",
     "text": [
      "Train Epoch: 7 [1920/3918 (49%)]\tLoss: 0.841892\n",
      "Mem before-during-after: 22394880 22469120 22394880\n"
     ]
    },
    {
     "name": "stderr",
     "output_type": "stream",
     "text": [
      " 65%|███████████████████████▌            | 6.5311475409835325/10 [06:08<03:13, 55.82s/it]"
     ]
    },
    {
     "name": "stdout",
     "output_type": "stream",
     "text": [
      "Train Epoch: 7 [2560/3918 (66%)]\tLoss: 0.989646\n",
      "Mem before-during-after: 22394880 22469120 22394880\n"
     ]
    },
    {
     "name": "stderr",
     "output_type": "stream",
     "text": [
      " 67%|████████████████████████▋            | 6.662295081967137/10 [06:16<03:13, 57.84s/it]"
     ]
    },
    {
     "name": "stdout",
     "output_type": "stream",
     "text": [
      "Train Epoch: 7 [3200/3918 (82%)]\tLoss: 0.943415\n",
      "Mem before-during-after: 22394880 22469120 22394880\n"
     ]
    },
    {
     "name": "stderr",
     "output_type": "stream",
     "text": [
      " 68%|█████████████████████████▏           | 6.793442622950742/10 [06:23<03:00, 56.20s/it]"
     ]
    },
    {
     "name": "stdout",
     "output_type": "stream",
     "text": [
      "Train Epoch: 7 [3840/3918 (98%)]\tLoss: 0.801561\n",
      "Mem before-during-after: 22394880 22469120 22394880\n"
     ]
    },
    {
     "name": "stderr",
     "output_type": "stream",
     "text": [
      " 70%|██████████████████████████▌           | 7.00327868852451/10 [06:35<02:50, 56.74s/it]"
     ]
    },
    {
     "name": "stdout",
     "output_type": "stream",
     "text": [
      "\n",
      "Test Epoch: 7\tAccuracy: 522/976 (53%)\n",
      "\n",
      "Train Epoch: 8 [0/3918 (0%)]\tLoss: 0.903265\n",
      "Mem before-during-after: 22393856 22469120 22394880\n"
     ]
    },
    {
     "name": "stderr",
     "output_type": "stream",
     "text": [
      " 71%|██████████████████████████▍          | 7.137704918032705/10 [06:43<02:38, 55.40s/it]"
     ]
    },
    {
     "name": "stdout",
     "output_type": "stream",
     "text": [
      "Train Epoch: 8 [640/3918 (16%)]\tLoss: 0.784495\n",
      "Mem before-during-after: 22394880 22469120 22394880\n"
     ]
    },
    {
     "name": "stderr",
     "output_type": "stream",
     "text": [
      " 73%|███████████████████████████▌          | 7.26885245901631/10 [06:50<02:31, 55.54s/it]"
     ]
    },
    {
     "name": "stdout",
     "output_type": "stream",
     "text": [
      "Train Epoch: 8 [1280/3918 (33%)]\tLoss: 0.905193\n",
      "Mem before-during-after: 22394880 22469120 22394880\n"
     ]
    },
    {
     "name": "stderr",
     "output_type": "stream",
     "text": [
      " 74%|███████████████████████████▍         | 7.399999999999915/10 [06:57<02:22, 54.71s/it]"
     ]
    },
    {
     "name": "stdout",
     "output_type": "stream",
     "text": [
      "Train Epoch: 8 [1920/3918 (49%)]\tLoss: 1.069167\n",
      "Mem before-during-after: 22394880 22469120 22394880\n"
     ]
    },
    {
     "name": "stderr",
     "output_type": "stream",
     "text": [
      " 75%|████████████████████████████▌         | 7.53114754098352/10 [07:05<02:19, 56.57s/it]"
     ]
    },
    {
     "name": "stdout",
     "output_type": "stream",
     "text": [
      "Train Epoch: 8 [2560/3918 (66%)]\tLoss: 0.885456\n",
      "Mem before-during-after: 22394880 22469120 22394880\n"
     ]
    },
    {
     "name": "stderr",
     "output_type": "stream",
     "text": [
      " 77%|████████████████████████████▎        | 7.662295081967125/10 [07:12<02:10, 55.79s/it]"
     ]
    },
    {
     "name": "stdout",
     "output_type": "stream",
     "text": [
      "Train Epoch: 8 [3200/3918 (82%)]\tLoss: 1.043753\n",
      "Mem before-during-after: 22394880 22469120 22394880\n"
     ]
    },
    {
     "name": "stderr",
     "output_type": "stream",
     "text": [
      " 78%|█████████████████████████████▌        | 7.79344262295073/10 [07:19<02:01, 55.07s/it]"
     ]
    },
    {
     "name": "stdout",
     "output_type": "stream",
     "text": [
      "Train Epoch: 8 [3840/3918 (98%)]\tLoss: 1.002062\n",
      "Mem before-during-after: 22394880 22469120 22394880\n"
     ]
    },
    {
     "name": "stderr",
     "output_type": "stream",
     "text": [
      " 80%|█████████████████████████████▌       | 8.003278688524498/10 [07:31<01:49, 54.91s/it]"
     ]
    },
    {
     "name": "stdout",
     "output_type": "stream",
     "text": [
      "\n",
      "Test Epoch: 8\tAccuracy: 508/976 (52%)\n",
      "\n",
      "Train Epoch: 9 [0/3918 (0%)]\tLoss: 0.899820\n",
      "Mem before-during-after: 22393856 22469120 22394880\n"
     ]
    },
    {
     "name": "stderr",
     "output_type": "stream",
     "text": [
      " 81%|██████████████████████████████       | 8.134426229508103/10 [07:39<01:45, 56.40s/it]"
     ]
    },
    {
     "name": "stdout",
     "output_type": "stream",
     "text": [
      "Train Epoch: 9 [640/3918 (16%)]\tLoss: 0.906916\n",
      "Mem before-during-after: 22394880 22469120 22394880\n"
     ]
    },
    {
     "name": "stderr",
     "output_type": "stream",
     "text": [
      " 83%|██████████████████████████████▌      | 8.268852459016298/10 [07:46<01:40, 58.07s/it]"
     ]
    },
    {
     "name": "stdout",
     "output_type": "stream",
     "text": [
      "Train Epoch: 9 [1280/3918 (33%)]\tLoss: 0.952329\n",
      "Mem before-during-after: 22394880 22469120 22394880\n"
     ]
    },
    {
     "name": "stderr",
     "output_type": "stream",
     "text": [
      " 84%|███████████████████████████████      | 8.399999999999903/10 [07:54<01:27, 54.69s/it]"
     ]
    },
    {
     "name": "stdout",
     "output_type": "stream",
     "text": [
      "Train Epoch: 9 [1920/3918 (49%)]\tLoss: 1.139510\n",
      "Mem before-during-after: 22394880 22469120 22394880\n"
     ]
    },
    {
     "name": "stderr",
     "output_type": "stream",
     "text": [
      " 85%|███████████████████████████████▌     | 8.531147540983508/10 [08:01<01:21, 55.20s/it]"
     ]
    },
    {
     "name": "stdout",
     "output_type": "stream",
     "text": [
      "Train Epoch: 9 [2560/3918 (66%)]\tLoss: 1.227899\n",
      "Mem before-during-after: 22394880 22469120 22394880\n"
     ]
    },
    {
     "name": "stderr",
     "output_type": "stream",
     "text": [
      " 87%|████████████████████████████████     | 8.662295081967113/10 [08:08<01:13, 54.65s/it]"
     ]
    },
    {
     "name": "stdout",
     "output_type": "stream",
     "text": [
      "Train Epoch: 9 [3200/3918 (82%)]\tLoss: 0.928601\n",
      "Mem before-during-after: 22394880 22469120 22394880\n"
     ]
    },
    {
     "name": "stderr",
     "output_type": "stream",
     "text": [
      " 88%|████████████████████████████████▌    | 8.793442622950717/10 [08:16<01:06, 55.39s/it]"
     ]
    },
    {
     "name": "stdout",
     "output_type": "stream",
     "text": [
      "Train Epoch: 9 [3840/3918 (98%)]\tLoss: 0.936105\n",
      "Mem before-during-after: 22394880 22469120 22394880\n"
     ]
    },
    {
     "name": "stderr",
     "output_type": "stream",
     "text": [
      " 90%|█████████████████████████████████▎   | 9.003278688524485/10 [08:28<00:54, 54.18s/it]"
     ]
    },
    {
     "name": "stdout",
     "output_type": "stream",
     "text": [
      "\n",
      "Test Epoch: 9\tAccuracy: 542/976 (55%)\n",
      "\n",
      "Train Epoch: 10 [0/3918 (0%)]\tLoss: 1.094919\n",
      "Mem before-during-after: 22393856 22469120 22394880\n"
     ]
    },
    {
     "name": "stderr",
     "output_type": "stream",
     "text": [
      " 91%|██████████████████████████████████▋   | 9.13770491803268/10 [08:36<00:50, 58.84s/it]"
     ]
    },
    {
     "name": "stdout",
     "output_type": "stream",
     "text": [
      "Train Epoch: 10 [640/3918 (16%)]\tLoss: 0.793681\n",
      "Mem before-during-after: 22394880 22469120 22394880\n"
     ]
    },
    {
     "name": "stderr",
     "output_type": "stream",
     "text": [
      " 93%|██████████████████████████████████▎  | 9.268852459016285/10 [08:43<00:42, 57.57s/it]"
     ]
    },
    {
     "name": "stdout",
     "output_type": "stream",
     "text": [
      "Train Epoch: 10 [1280/3918 (33%)]\tLoss: 0.912738\n",
      "Mem before-during-after: 22394880 22469120 22394880\n"
     ]
    },
    {
     "name": "stderr",
     "output_type": "stream",
     "text": [
      " 94%|███████████████████████████████████▋  | 9.39999999999989/10 [08:50<00:32, 54.93s/it]"
     ]
    },
    {
     "name": "stdout",
     "output_type": "stream",
     "text": [
      "Train Epoch: 10 [1920/3918 (49%)]\tLoss: 0.862531\n",
      "Mem before-during-after: 22394880 22469120 22394880\n"
     ]
    },
    {
     "name": "stderr",
     "output_type": "stream",
     "text": [
      " 95%|███████████████████████████████████▎ | 9.531147540983495/10 [08:58<00:25, 55.43s/it]"
     ]
    },
    {
     "name": "stdout",
     "output_type": "stream",
     "text": [
      "Train Epoch: 10 [2560/3918 (66%)]\tLoss: 0.950022\n",
      "Mem before-during-after: 22394880 22469120 22394880\n"
     ]
    },
    {
     "name": "stderr",
     "output_type": "stream",
     "text": [
      " 97%|█████████████████████████████████████▋ | 9.6622950819671/10 [09:06<00:18, 55.20s/it]"
     ]
    },
    {
     "name": "stdout",
     "output_type": "stream",
     "text": [
      "Train Epoch: 10 [3200/3918 (82%)]\tLoss: 0.905196\n",
      "Mem before-during-after: 22394880 22469120 22394880\n"
     ]
    },
    {
     "name": "stderr",
     "output_type": "stream",
     "text": [
      " 98%|████████████████████████████████████▏| 9.793442622950705/10 [09:13<00:11, 57.66s/it]"
     ]
    },
    {
     "name": "stdout",
     "output_type": "stream",
     "text": [
      "Train Epoch: 10 [3840/3918 (98%)]\tLoss: 0.859008\n",
      "Mem before-during-after: 22394880 22469120 22394880\n"
     ]
    },
    {
     "name": "stderr",
     "output_type": "stream",
     "text": [
      "100%|████████████████████████████████████▉| 9.999999999999883/10 [09:25<00:00, 56.56s/it]"
     ]
    },
    {
     "name": "stdout",
     "output_type": "stream",
     "text": [
      "\n",
      "Test Epoch: 10\tAccuracy: 550/976 (56%)\n",
      "\n"
     ]
    },
    {
     "name": "stderr",
     "output_type": "stream",
     "text": [
      "\n"
     ]
    }
   ],
   "source": [
    "log_interval = 40\n",
    "pbar_update = 1 / (len(train_loader) + len(test_loader))\n",
    "model.to(device)\n",
    "with tqdm(total=n_epoch) as pbar:\n",
    "    for epoch in range(1, n_epoch + 1):\n",
    "        train(model, epoch, log_interval, train_losses)\n",
    "        acc = test(model, epoch)\n",
    "        test_accuracy += [acc]\n",
    "        scheduler.step()"
   ]
  },
  {
   "cell_type": "code",
   "execution_count": 27,
   "id": "2769c3e9-c591-41b9-aa43-4541db539e87",
   "metadata": {},
   "outputs": [],
   "source": [
    "model_path = '../models_cremad4/cremad_label4_m13mfcc_10epochs.pt' \n",
    "torch.save(model.state_dict(), model_path)"
   ]
  },
  {
   "cell_type": "code",
   "execution_count": 28,
   "id": "51ce01b3-cf27-4894-9bc2-5f795fddecb5",
   "metadata": {
    "scrolled": true
   },
   "outputs": [
    {
     "name": "stderr",
     "output_type": "stream",
     "text": [
      "  0%|                                  | 0.006557377049180328/50 [00:00<47:07, 56.56s/it]"
     ]
    },
    {
     "name": "stdout",
     "output_type": "stream",
     "text": [
      "Train Epoch: 11 [0/3918 (0%)]\tLoss: 1.089001\n",
      "Mem before-during-after: 21768192 21843456 22394880\n"
     ]
    },
    {
     "name": "stderr",
     "output_type": "stream",
     "text": [
      "  0%|                                   | 0.13770491803278687/50 [00:07<47:48, 57.53s/it]"
     ]
    },
    {
     "name": "stdout",
     "output_type": "stream",
     "text": [
      "Train Epoch: 11 [640/3918 (16%)]\tLoss: 1.173814\n",
      "Mem before-during-after: 22394880 22469120 22394880\n"
     ]
    },
    {
     "name": "stderr",
     "output_type": "stream",
     "text": [
      "  1%|▏                                  | 0.26557377049180286/50 [00:15<46:40, 56.30s/it]"
     ]
    },
    {
     "name": "stdout",
     "output_type": "stream",
     "text": [
      "Train Epoch: 11 [1280/3918 (33%)]\tLoss: 0.587219\n",
      "Mem before-during-after: 22394880 22469120 22394880\n"
     ]
    },
    {
     "name": "stderr",
     "output_type": "stream",
     "text": [
      "  1%|▎                                   | 0.4000000000000002/50 [00:22<45:34, 55.13s/it]"
     ]
    },
    {
     "name": "stdout",
     "output_type": "stream",
     "text": [
      "Train Epoch: 11 [1920/3918 (49%)]\tLoss: 1.223045\n",
      "Mem before-during-after: 22394880 22469120 22394880\n"
     ]
    },
    {
     "name": "stderr",
     "output_type": "stream",
     "text": [
      "  1%|▍                                   | 0.5311475409836068/50 [00:30<47:23, 57.48s/it]"
     ]
    },
    {
     "name": "stdout",
     "output_type": "stream",
     "text": [
      "Train Epoch: 11 [2560/3918 (66%)]\tLoss: 0.588456\n",
      "Mem before-during-after: 22394880 22469120 22394880\n"
     ]
    },
    {
     "name": "stderr",
     "output_type": "stream",
     "text": [
      "  1%|▍                                   | 0.6590163934426216/50 [00:37<46:21, 56.37s/it]"
     ]
    },
    {
     "name": "stdout",
     "output_type": "stream",
     "text": [
      "Train Epoch: 11 [3200/3918 (82%)]\tLoss: 1.013638\n",
      "Mem before-during-after: 22394880 22469120 22394880\n"
     ]
    },
    {
     "name": "stderr",
     "output_type": "stream",
     "text": [
      "  2%|▌                                   | 0.7934426229508167/50 [00:45<51:17, 62.55s/it]"
     ]
    },
    {
     "name": "stdout",
     "output_type": "stream",
     "text": [
      "Train Epoch: 11 [3840/3918 (98%)]\tLoss: 1.161793\n",
      "Mem before-during-after: 22394880 22469120 22394880\n"
     ]
    },
    {
     "name": "stderr",
     "output_type": "stream",
     "text": [
      "  2%|▋                                   | 1.0032786885245846/50 [00:56<44:41, 54.73s/it]"
     ]
    },
    {
     "name": "stdout",
     "output_type": "stream",
     "text": [
      "\n",
      "Test Epoch: 11\tAccuracy: 584/976 (60%)\n",
      "\n",
      "saved model: ../models_cremad4/cremad_label4_m13mfcc_best_11epoch.pt\n",
      "Train Epoch: 12 [0/3918 (0%)]\tLoss: 0.701758\n",
      "Mem before-during-after: 22393856 22469120 22394880\n"
     ]
    },
    {
     "name": "stderr",
     "output_type": "stream",
     "text": [
      "  2%|▊                                   | 1.1377049180327796/50 [01:04<46:41, 57.33s/it]"
     ]
    },
    {
     "name": "stdout",
     "output_type": "stream",
     "text": [
      "Train Epoch: 12 [640/3918 (16%)]\tLoss: 0.877066\n",
      "Mem before-during-after: 22394880 22469120 22394880\n"
     ]
    },
    {
     "name": "stderr",
     "output_type": "stream",
     "text": [
      "  3%|▉                                   | 1.2688524590163845/50 [01:12<46:05, 56.75s/it]"
     ]
    },
    {
     "name": "stdout",
     "output_type": "stream",
     "text": [
      "Train Epoch: 12 [1280/3918 (33%)]\tLoss: 0.780285\n",
      "Mem before-during-after: 22394880 22469120 22394880\n"
     ]
    },
    {
     "name": "stderr",
     "output_type": "stream",
     "text": [
      "  3%|█                                   | 1.3999999999999895/50 [01:19<44:13, 54.61s/it]"
     ]
    },
    {
     "name": "stdout",
     "output_type": "stream",
     "text": [
      "Train Epoch: 12 [1920/3918 (49%)]\tLoss: 0.796386\n",
      "Mem before-during-after: 22394880 22469120 22394880\n"
     ]
    },
    {
     "name": "stderr",
     "output_type": "stream",
     "text": [
      "  3%|█                                   | 1.5311475409835944/50 [01:27<44:41, 55.32s/it]"
     ]
    },
    {
     "name": "stdout",
     "output_type": "stream",
     "text": [
      "Train Epoch: 12 [2560/3918 (66%)]\tLoss: 0.897104\n",
      "Mem before-during-after: 22394880 22469120 22394880\n"
     ]
    },
    {
     "name": "stderr",
     "output_type": "stream",
     "text": [
      "  3%|█▏                                  | 1.6590163934426092/50 [01:34<45:14, 56.16s/it]"
     ]
    },
    {
     "name": "stdout",
     "output_type": "stream",
     "text": [
      "Train Epoch: 12 [3200/3918 (82%)]\tLoss: 0.781236\n",
      "Mem before-during-after: 22394880 22469120 22394880\n"
     ]
    },
    {
     "name": "stderr",
     "output_type": "stream",
     "text": [
      "  4%|█▎                                  | 1.7934426229508043/50 [01:41<44:13, 55.04s/it]"
     ]
    },
    {
     "name": "stdout",
     "output_type": "stream",
     "text": [
      "Train Epoch: 12 [3840/3918 (98%)]\tLoss: 1.032441\n",
      "Mem before-during-after: 22394880 22469120 22394880\n"
     ]
    },
    {
     "name": "stderr",
     "output_type": "stream",
     "text": [
      "  4%|█▍                                  | 2.0032786885245724/50 [01:53<45:08, 56.43s/it]"
     ]
    },
    {
     "name": "stdout",
     "output_type": "stream",
     "text": [
      "\n",
      "Test Epoch: 12\tAccuracy: 578/976 (59%)\n",
      "\n",
      "Train Epoch: 13 [0/3918 (0%)]\tLoss: 1.279795\n",
      "Mem before-during-after: 22393856 22469120 22394880\n"
     ]
    },
    {
     "name": "stderr",
     "output_type": "stream",
     "text": [
      "  4%|█▌                                  | 2.1377049180327674/50 [02:01<47:24, 59.43s/it]"
     ]
    },
    {
     "name": "stdout",
     "output_type": "stream",
     "text": [
      "Train Epoch: 13 [640/3918 (16%)]\tLoss: 0.782445\n",
      "Mem before-during-after: 22394880 22469120 22394880\n"
     ]
    },
    {
     "name": "stderr",
     "output_type": "stream",
     "text": [
      "  5%|█▋                                  | 2.2688524590163723/50 [02:08<46:25, 58.36s/it]"
     ]
    },
    {
     "name": "stdout",
     "output_type": "stream",
     "text": [
      "Train Epoch: 13 [1280/3918 (33%)]\tLoss: 0.776710\n",
      "Mem before-during-after: 22394880 22469120 22394880\n"
     ]
    },
    {
     "name": "stderr",
     "output_type": "stream",
     "text": [
      "  5%|█▊                                   | 2.396721311475387/50 [02:15<45:41, 57.60s/it]"
     ]
    },
    {
     "name": "stdout",
     "output_type": "stream",
     "text": [
      "Train Epoch: 13 [1920/3918 (49%)]\tLoss: 0.816993\n",
      "Mem before-during-after: 22394880 22469120 22394880\n"
     ]
    },
    {
     "name": "stderr",
     "output_type": "stream",
     "text": [
      "  5%|█▊                                   | 2.531147540983582/50 [02:23<45:50, 57.94s/it]"
     ]
    },
    {
     "name": "stdout",
     "output_type": "stream",
     "text": [
      "Train Epoch: 13 [2560/3918 (66%)]\tLoss: 0.911014\n",
      "Mem before-during-after: 22394880 22469120 22394880\n"
     ]
    },
    {
     "name": "stderr",
     "output_type": "stream",
     "text": [
      "  5%|█▉                                   | 2.662295081967187/50 [02:31<47:54, 60.73s/it]"
     ]
    },
    {
     "name": "stdout",
     "output_type": "stream",
     "text": [
      "Train Epoch: 13 [3200/3918 (82%)]\tLoss: 0.940028\n",
      "Mem before-during-after: 22394880 22469120 22394880\n"
     ]
    },
    {
     "name": "stderr",
     "output_type": "stream",
     "text": [
      "  6%|██                                   | 2.793442622950792/50 [02:38<43:31, 55.32s/it]"
     ]
    },
    {
     "name": "stdout",
     "output_type": "stream",
     "text": [
      "Train Epoch: 13 [3840/3918 (98%)]\tLoss: 1.039307\n",
      "Mem before-during-after: 22394880 22469120 22394880\n"
     ]
    },
    {
     "name": "stderr",
     "output_type": "stream",
     "text": [
      "  6%|██▎                                   | 3.00327868852456/50 [02:50<44:39, 57.01s/it]"
     ]
    },
    {
     "name": "stdout",
     "output_type": "stream",
     "text": [
      "\n",
      "Test Epoch: 13\tAccuracy: 580/976 (59%)\n",
      "\n",
      "Train Epoch: 14 [0/3918 (0%)]\tLoss: 0.842393\n",
      "Mem before-during-after: 22393856 22469120 22394880\n"
     ]
    },
    {
     "name": "stderr",
     "output_type": "stream",
     "text": [
      "  6%|██▎                                  | 3.137704918032755/50 [02:58<44:35, 57.09s/it]"
     ]
    },
    {
     "name": "stdout",
     "output_type": "stream",
     "text": [
      "Train Epoch: 14 [640/3918 (16%)]\tLoss: 0.806805\n",
      "Mem before-during-after: 22394880 22469120 22394880\n"
     ]
    },
    {
     "name": "stderr",
     "output_type": "stream",
     "text": [
      "  7%|██▍                                   | 3.26557377049177/50 [03:05<43:37, 56.00s/it]"
     ]
    },
    {
     "name": "stdout",
     "output_type": "stream",
     "text": [
      "Train Epoch: 14 [1280/3918 (33%)]\tLoss: 0.778013\n",
      "Mem before-during-after: 22394880 22469120 22394880\n"
     ]
    },
    {
     "name": "stderr",
     "output_type": "stream",
     "text": [
      "  7%|██▌                                  | 3.399999999999965/50 [03:13<44:12, 56.91s/it]"
     ]
    },
    {
     "name": "stdout",
     "output_type": "stream",
     "text": [
      "Train Epoch: 14 [1920/3918 (49%)]\tLoss: 1.287211\n",
      "Mem before-during-after: 22394880 22469120 22394880\n"
     ]
    },
    {
     "name": "stderr",
     "output_type": "stream",
     "text": [
      "  7%|██▌                                 | 3.5311475409835698/50 [03:20<43:13, 55.82s/it]"
     ]
    },
    {
     "name": "stdout",
     "output_type": "stream",
     "text": [
      "Train Epoch: 14 [2560/3918 (66%)]\tLoss: 0.694706\n",
      "Mem before-during-after: 22394880 22469120 22394880\n"
     ]
    },
    {
     "name": "stderr",
     "output_type": "stream",
     "text": [
      "  7%|██▋                                 | 3.6622950819671747/50 [03:28<45:31, 58.95s/it]"
     ]
    },
    {
     "name": "stdout",
     "output_type": "stream",
     "text": [
      "Train Epoch: 14 [3200/3918 (82%)]\tLoss: 0.687721\n",
      "Mem before-during-after: 22394880 22469120 22394880\n"
     ]
    },
    {
     "name": "stderr",
     "output_type": "stream",
     "text": [
      "  8%|██▋                                 | 3.7934426229507796/50 [03:35<42:32, 55.23s/it]"
     ]
    },
    {
     "name": "stdout",
     "output_type": "stream",
     "text": [
      "Train Epoch: 14 [3840/3918 (98%)]\tLoss: 0.923201\n",
      "Mem before-during-after: 22394880 22469120 22394880\n"
     ]
    },
    {
     "name": "stderr",
     "output_type": "stream",
     "text": [
      "  8%|██▉                                 | 4.0032786885245475/50 [03:47<50:41, 66.11s/it]"
     ]
    },
    {
     "name": "stdout",
     "output_type": "stream",
     "text": [
      "\n",
      "Test Epoch: 14\tAccuracy: 582/976 (59%)\n",
      "\n",
      "Train Epoch: 15 [0/3918 (0%)]\tLoss: 0.946154\n",
      "Mem before-during-after: 22393856 22469120 22394880\n"
     ]
    },
    {
     "name": "stderr",
     "output_type": "stream",
     "text": [
      "  8%|██▉                                 | 4.1377049180327425/50 [03:54<42:35, 55.72s/it]"
     ]
    },
    {
     "name": "stdout",
     "output_type": "stream",
     "text": [
      "Train Epoch: 15 [640/3918 (16%)]\tLoss: 1.058401\n",
      "Mem before-during-after: 22394880 22469120 22394880\n"
     ]
    },
    {
     "name": "stderr",
     "output_type": "stream",
     "text": [
      "  9%|███                                 | 4.2688524590163475/50 [04:02<42:03, 55.18s/it]"
     ]
    },
    {
     "name": "stdout",
     "output_type": "stream",
     "text": [
      "Train Epoch: 15 [1280/3918 (33%)]\tLoss: 0.676550\n",
      "Mem before-during-after: 22394880 22469120 22394880\n"
     ]
    },
    {
     "name": "stderr",
     "output_type": "stream",
     "text": [
      "  9%|███▎                                 | 4.399999999999952/50 [04:09<42:23, 55.78s/it]"
     ]
    },
    {
     "name": "stdout",
     "output_type": "stream",
     "text": [
      "Train Epoch: 15 [1920/3918 (49%)]\tLoss: 0.870588\n",
      "Mem before-during-after: 22394880 22469120 22394880\n"
     ]
    },
    {
     "name": "stderr",
     "output_type": "stream",
     "text": [
      "  9%|███▎                                 | 4.527868852458967/50 [04:16<41:30, 54.77s/it]"
     ]
    },
    {
     "name": "stdout",
     "output_type": "stream",
     "text": [
      "Train Epoch: 15 [2560/3918 (66%)]\tLoss: 0.498037\n",
      "Mem before-during-after: 22394880 22469120 22394880\n"
     ]
    },
    {
     "name": "stderr",
     "output_type": "stream",
     "text": [
      "  9%|███▍                                 | 4.662295081967162/50 [04:24<42:19, 56.02s/it]"
     ]
    },
    {
     "name": "stdout",
     "output_type": "stream",
     "text": [
      "Train Epoch: 15 [3200/3918 (82%)]\tLoss: 0.829734\n",
      "Mem before-during-after: 22394880 22469120 22394880\n"
     ]
    },
    {
     "name": "stderr",
     "output_type": "stream",
     "text": [
      " 10%|███▌                                 | 4.793442622950767/50 [04:31<41:51, 55.55s/it]"
     ]
    },
    {
     "name": "stdout",
     "output_type": "stream",
     "text": [
      "Train Epoch: 15 [3840/3918 (98%)]\tLoss: 0.736392\n",
      "Mem before-during-after: 22394880 22469120 22394880\n"
     ]
    },
    {
     "name": "stderr",
     "output_type": "stream",
     "text": [
      " 10%|███▋                                 | 5.003278688524535/50 [04:43<40:53, 54.52s/it]"
     ]
    },
    {
     "name": "stdout",
     "output_type": "stream",
     "text": [
      "\n",
      "Test Epoch: 15\tAccuracy: 580/976 (59%)\n",
      "\n",
      "Train Epoch: 16 [0/3918 (0%)]\tLoss: 0.605175\n",
      "Mem before-during-after: 22393856 22469120 22394880\n"
     ]
    },
    {
     "name": "stderr",
     "output_type": "stream",
     "text": [
      " 10%|███▉                                  | 5.13770491803273/50 [04:51<41:36, 55.65s/it]"
     ]
    },
    {
     "name": "stdout",
     "output_type": "stream",
     "text": [
      "Train Epoch: 16 [640/3918 (16%)]\tLoss: 0.987206\n",
      "Mem before-during-after: 22394880 22469120 22394880\n"
     ]
    },
    {
     "name": "stderr",
     "output_type": "stream",
     "text": [
      " 11%|███▉                                 | 5.268852459016335/50 [04:58<40:37, 54.49s/it]"
     ]
    },
    {
     "name": "stdout",
     "output_type": "stream",
     "text": [
      "Train Epoch: 16 [1280/3918 (33%)]\tLoss: 0.805096\n",
      "Mem before-during-after: 22394880 22469120 22394880\n"
     ]
    },
    {
     "name": "stderr",
     "output_type": "stream",
     "text": [
      " 11%|████                                  | 5.39999999999994/50 [05:05<41:04, 55.26s/it]"
     ]
    },
    {
     "name": "stdout",
     "output_type": "stream",
     "text": [
      "Train Epoch: 16 [1920/3918 (49%)]\tLoss: 1.039627\n",
      "Mem before-during-after: 22394880 22469120 22394880\n"
     ]
    },
    {
     "name": "stderr",
     "output_type": "stream",
     "text": [
      " 11%|████                                 | 5.531147540983545/50 [05:13<41:30, 56.00s/it]"
     ]
    },
    {
     "name": "stdout",
     "output_type": "stream",
     "text": [
      "Train Epoch: 16 [2560/3918 (66%)]\tLoss: 0.751158\n",
      "Mem before-during-after: 22394880 22469120 22394880\n"
     ]
    },
    {
     "name": "stderr",
     "output_type": "stream",
     "text": [
      " 11%|████▎                                 | 5.66229508196715/50 [05:20<40:37, 54.99s/it]"
     ]
    },
    {
     "name": "stdout",
     "output_type": "stream",
     "text": [
      "Train Epoch: 16 [3200/3918 (82%)]\tLoss: 0.980841\n",
      "Mem before-during-after: 22394880 22469120 22394880\n"
     ]
    },
    {
     "name": "stderr",
     "output_type": "stream",
     "text": [
      " 12%|████▎                                | 5.793442622950755/50 [05:27<41:42, 56.60s/it]"
     ]
    },
    {
     "name": "stdout",
     "output_type": "stream",
     "text": [
      "Train Epoch: 16 [3840/3918 (98%)]\tLoss: 0.606213\n",
      "Mem before-during-after: 22394880 22469120 22394880\n"
     ]
    },
    {
     "name": "stderr",
     "output_type": "stream",
     "text": [
      " 12%|████▍                                | 6.003278688524523/50 [05:39<40:29, 55.23s/it]"
     ]
    },
    {
     "name": "stdout",
     "output_type": "stream",
     "text": [
      "\n",
      "Test Epoch: 16\tAccuracy: 596/976 (61%)\n",
      "\n",
      "saved model: ../models_cremad4/cremad_label4_m13mfcc_best_16epoch.pt\n",
      "Train Epoch: 17 [0/3918 (0%)]\tLoss: 0.735491\n",
      "Mem before-during-after: 22393856 22469120 22394880\n"
     ]
    },
    {
     "name": "stderr",
     "output_type": "stream",
     "text": [
      " 12%|████▌                                | 6.137704918032718/50 [05:46<41:04, 56.19s/it]"
     ]
    },
    {
     "name": "stdout",
     "output_type": "stream",
     "text": [
      "Train Epoch: 17 [640/3918 (16%)]\tLoss: 0.856374\n",
      "Mem before-during-after: 22394880 22469120 22394880\n"
     ]
    },
    {
     "name": "stderr",
     "output_type": "stream",
     "text": [
      " 13%|████▋                                | 6.268852459016323/50 [05:54<40:26, 55.49s/it]"
     ]
    },
    {
     "name": "stdout",
     "output_type": "stream",
     "text": [
      "Train Epoch: 17 [1280/3918 (33%)]\tLoss: 1.032383\n",
      "Mem before-during-after: 22394880 22469120 22394880\n"
     ]
    },
    {
     "name": "stderr",
     "output_type": "stream",
     "text": [
      " 13%|████▌                               | 6.3999999999999275/50 [06:01<39:54, 54.93s/it]"
     ]
    },
    {
     "name": "stdout",
     "output_type": "stream",
     "text": [
      "Train Epoch: 17 [1920/3918 (49%)]\tLoss: 0.623923\n",
      "Mem before-during-after: 22394880 22469120 22394880\n"
     ]
    },
    {
     "name": "stderr",
     "output_type": "stream",
     "text": [
      " 13%|████▋                               | 6.5311475409835325/50 [06:08<40:01, 55.25s/it]"
     ]
    },
    {
     "name": "stdout",
     "output_type": "stream",
     "text": [
      "Train Epoch: 17 [2560/3918 (66%)]\tLoss: 1.132018\n",
      "Mem before-during-after: 22394880 22469120 22394880\n"
     ]
    },
    {
     "name": "stderr",
     "output_type": "stream",
     "text": [
      " 13%|████▉                                | 6.662295081967137/50 [06:16<40:18, 55.80s/it]"
     ]
    },
    {
     "name": "stdout",
     "output_type": "stream",
     "text": [
      "Train Epoch: 17 [3200/3918 (82%)]\tLoss: 0.934956\n",
      "Mem before-during-after: 22394880 22469120 22394880\n"
     ]
    },
    {
     "name": "stderr",
     "output_type": "stream",
     "text": [
      " 14%|█████                                | 6.793442622950742/50 [06:23<39:57, 55.48s/it]"
     ]
    },
    {
     "name": "stdout",
     "output_type": "stream",
     "text": [
      "Train Epoch: 17 [3840/3918 (98%)]\tLoss: 0.865913\n",
      "Mem before-during-after: 22394880 22469120 22394880\n"
     ]
    },
    {
     "name": "stderr",
     "output_type": "stream",
     "text": [
      " 14%|█████▎                                | 7.00327868852451/50 [06:35<39:10, 54.66s/it]"
     ]
    },
    {
     "name": "stdout",
     "output_type": "stream",
     "text": [
      "\n",
      "Test Epoch: 17\tAccuracy: 584/976 (60%)\n",
      "\n",
      "Train Epoch: 18 [0/3918 (0%)]\tLoss: 0.790456\n",
      "Mem before-during-after: 22393856 22469120 22394880\n"
     ]
    },
    {
     "name": "stderr",
     "output_type": "stream",
     "text": [
      " 14%|█████▎                               | 7.137704918032705/50 [06:42<40:53, 57.23s/it]"
     ]
    },
    {
     "name": "stdout",
     "output_type": "stream",
     "text": [
      "Train Epoch: 18 [640/3918 (16%)]\tLoss: 1.063969\n",
      "Mem before-during-after: 22394880 22469120 22394880\n"
     ]
    },
    {
     "name": "stderr",
     "output_type": "stream",
     "text": [
      " 15%|█████▌                                | 7.26885245901631/50 [06:50<39:50, 55.94s/it]"
     ]
    },
    {
     "name": "stdout",
     "output_type": "stream",
     "text": [
      "Train Epoch: 18 [1280/3918 (33%)]\tLoss: 1.048339\n",
      "Mem before-during-after: 22394880 22469120 22394880\n"
     ]
    },
    {
     "name": "stderr",
     "output_type": "stream",
     "text": [
      " 15%|█████▍                               | 7.399999999999915/50 [06:57<40:05, 56.47s/it]"
     ]
    },
    {
     "name": "stdout",
     "output_type": "stream",
     "text": [
      "Train Epoch: 18 [1920/3918 (49%)]\tLoss: 1.005204\n",
      "Mem before-during-after: 22394880 22469120 22394880\n"
     ]
    },
    {
     "name": "stderr",
     "output_type": "stream",
     "text": [
      " 15%|█████▋                                | 7.53114754098352/50 [07:05<38:58, 55.07s/it]"
     ]
    },
    {
     "name": "stdout",
     "output_type": "stream",
     "text": [
      "Train Epoch: 18 [2560/3918 (66%)]\tLoss: 0.755731\n",
      "Mem before-during-after: 22394880 22469120 22394880\n"
     ]
    },
    {
     "name": "stderr",
     "output_type": "stream",
     "text": [
      " 15%|█████▋                               | 7.662295081967125/50 [07:12<41:27, 58.75s/it]"
     ]
    },
    {
     "name": "stdout",
     "output_type": "stream",
     "text": [
      "Train Epoch: 18 [3200/3918 (82%)]\tLoss: 0.963570\n",
      "Mem before-during-after: 22394880 22469120 22394880\n"
     ]
    },
    {
     "name": "stderr",
     "output_type": "stream",
     "text": [
      " 16%|█████▉                                | 7.79344262295073/50 [07:19<39:27, 56.09s/it]"
     ]
    },
    {
     "name": "stdout",
     "output_type": "stream",
     "text": [
      "Train Epoch: 18 [3840/3918 (98%)]\tLoss: 0.957772\n",
      "Mem before-during-after: 22394880 22469120 22394880\n"
     ]
    },
    {
     "name": "stderr",
     "output_type": "stream",
     "text": [
      " 16%|█████▉                               | 8.003278688524498/50 [07:31<38:10, 54.54s/it]"
     ]
    },
    {
     "name": "stdout",
     "output_type": "stream",
     "text": [
      "\n",
      "Test Epoch: 18\tAccuracy: 585/976 (60%)\n",
      "\n",
      "Train Epoch: 19 [0/3918 (0%)]\tLoss: 0.981354\n",
      "Mem before-during-after: 22393856 22469120 22394880\n"
     ]
    },
    {
     "name": "stderr",
     "output_type": "stream",
     "text": [
      " 16%|██████                               | 8.137704918032693/50 [07:39<39:44, 56.96s/it]"
     ]
    },
    {
     "name": "stdout",
     "output_type": "stream",
     "text": [
      "Train Epoch: 19 [640/3918 (16%)]\tLoss: 0.970226\n",
      "Mem before-during-after: 22394880 22469120 22394880\n"
     ]
    },
    {
     "name": "stderr",
     "output_type": "stream",
     "text": [
      " 17%|██████                               | 8.268852459016298/50 [07:46<38:44, 55.70s/it]"
     ]
    },
    {
     "name": "stdout",
     "output_type": "stream",
     "text": [
      "Train Epoch: 19 [1280/3918 (33%)]\tLoss: 1.106418\n",
      "Mem before-during-after: 22394880 22469120 22394880\n"
     ]
    },
    {
     "name": "stderr",
     "output_type": "stream",
     "text": [
      " 17%|██████▏                              | 8.396721311475313/50 [07:53<38:05, 54.93s/it]"
     ]
    },
    {
     "name": "stdout",
     "output_type": "stream",
     "text": [
      "Train Epoch: 19 [1920/3918 (49%)]\tLoss: 0.871341\n",
      "Mem before-during-after: 22394880 22469120 22394880\n"
     ]
    },
    {
     "name": "stderr",
     "output_type": "stream",
     "text": [
      " 17%|██████▎                              | 8.531147540983508/50 [08:01<38:36, 55.86s/it]"
     ]
    },
    {
     "name": "stdout",
     "output_type": "stream",
     "text": [
      "Train Epoch: 19 [2560/3918 (66%)]\tLoss: 0.775448\n",
      "Mem before-during-after: 22394880 22469120 22394880\n"
     ]
    },
    {
     "name": "stderr",
     "output_type": "stream",
     "text": [
      " 17%|██████▍                              | 8.662295081967113/50 [08:08<37:51, 54.96s/it]"
     ]
    },
    {
     "name": "stdout",
     "output_type": "stream",
     "text": [
      "Train Epoch: 19 [3200/3918 (82%)]\tLoss: 0.738668\n",
      "Mem before-during-after: 22394880 22469120 22394880\n"
     ]
    },
    {
     "name": "stderr",
     "output_type": "stream",
     "text": [
      " 18%|██████▌                              | 8.793442622950717/50 [08:16<38:48, 56.50s/it]"
     ]
    },
    {
     "name": "stdout",
     "output_type": "stream",
     "text": [
      "Train Epoch: 19 [3840/3918 (98%)]\tLoss: 0.941626\n",
      "Mem before-during-after: 22394880 22469120 22394880\n"
     ]
    },
    {
     "name": "stderr",
     "output_type": "stream",
     "text": [
      " 18%|██████▋                              | 9.003278688524485/50 [08:27<38:56, 57.00s/it]"
     ]
    },
    {
     "name": "stdout",
     "output_type": "stream",
     "text": [
      "\n",
      "Test Epoch: 19\tAccuracy: 594/976 (61%)\n",
      "\n",
      "Train Epoch: 20 [0/3918 (0%)]\tLoss: 0.793627\n",
      "Mem before-during-after: 22393856 22469120 22394880\n"
     ]
    },
    {
     "name": "stderr",
     "output_type": "stream",
     "text": [
      " 18%|██████▉                               | 9.13770491803268/50 [08:35<38:40, 56.80s/it]"
     ]
    },
    {
     "name": "stdout",
     "output_type": "stream",
     "text": [
      "Train Epoch: 20 [640/3918 (16%)]\tLoss: 0.839935\n",
      "Mem before-during-after: 22394880 22469120 22394880\n"
     ]
    },
    {
     "name": "stderr",
     "output_type": "stream",
     "text": [
      " 19%|██████▊                              | 9.268852459016285/50 [08:42<37:57, 55.91s/it]"
     ]
    },
    {
     "name": "stdout",
     "output_type": "stream",
     "text": [
      "Train Epoch: 20 [1280/3918 (33%)]\tLoss: 0.928850\n",
      "Mem before-during-after: 22394880 22469120 22394880\n"
     ]
    },
    {
     "name": "stderr",
     "output_type": "stream",
     "text": [
      " 19%|███████▏                              | 9.39999999999989/50 [08:50<37:54, 56.02s/it]"
     ]
    },
    {
     "name": "stdout",
     "output_type": "stream",
     "text": [
      "Train Epoch: 20 [1920/3918 (49%)]\tLoss: 0.802515\n",
      "Mem before-during-after: 22394880 22469120 22394880\n"
     ]
    },
    {
     "name": "stderr",
     "output_type": "stream",
     "text": [
      " 19%|███████                              | 9.531147540983495/50 [08:57<38:34, 57.20s/it]"
     ]
    },
    {
     "name": "stdout",
     "output_type": "stream",
     "text": [
      "Train Epoch: 20 [2560/3918 (66%)]\tLoss: 0.676570\n",
      "Mem before-during-after: 22394880 22469120 22394880\n"
     ]
    },
    {
     "name": "stderr",
     "output_type": "stream",
     "text": [
      " 19%|███████▌                               | 9.6622950819671/50 [09:04<37:02, 55.10s/it]"
     ]
    },
    {
     "name": "stdout",
     "output_type": "stream",
     "text": [
      "Train Epoch: 20 [3200/3918 (82%)]\tLoss: 0.816253\n",
      "Mem before-during-after: 22394880 22469120 22394880\n"
     ]
    },
    {
     "name": "stderr",
     "output_type": "stream",
     "text": [
      " 20%|███████▏                             | 9.793442622950705/50 [09:12<37:44, 56.31s/it]"
     ]
    },
    {
     "name": "stdout",
     "output_type": "stream",
     "text": [
      "Train Epoch: 20 [3840/3918 (98%)]\tLoss: 1.039247\n",
      "Mem before-during-after: 22394880 22469120 22394880\n"
     ]
    },
    {
     "name": "stderr",
     "output_type": "stream",
     "text": [
      " 20%|███████▍                             | 9.999999999999883/50 [09:23<37:14, 55.86s/it]"
     ]
    },
    {
     "name": "stdout",
     "output_type": "stream",
     "text": [
      "\n",
      "Test Epoch: 20\tAccuracy: 595/976 (61%)\n",
      "\n"
     ]
    },
    {
     "name": "stderr",
     "output_type": "stream",
     "text": [
      " 20%|███████▏                            | 10.006557377049063/50 [09:24<38:12, 57.31s/it]"
     ]
    },
    {
     "name": "stdout",
     "output_type": "stream",
     "text": [
      "Train Epoch: 21 [0/3918 (0%)]\tLoss: 0.828908\n",
      "Mem before-during-after: 22393856 22469120 22394880\n"
     ]
    },
    {
     "name": "stderr",
     "output_type": "stream",
     "text": [
      " 20%|███████▎                            | 10.137704918032668/50 [09:31<36:48, 55.40s/it]"
     ]
    },
    {
     "name": "stdout",
     "output_type": "stream",
     "text": [
      "Train Epoch: 21 [640/3918 (16%)]\tLoss: 1.363454\n",
      "Mem before-during-after: 22394880 22469120 22394880\n"
     ]
    },
    {
     "name": "stderr",
     "output_type": "stream",
     "text": [
      " 21%|███████▍                            | 10.268852459016273/50 [09:39<37:21, 56.42s/it]"
     ]
    },
    {
     "name": "stdout",
     "output_type": "stream",
     "text": [
      "Train Epoch: 21 [1280/3918 (33%)]\tLoss: 0.961371\n",
      "Mem before-during-after: 22394880 22469120 22394880\n"
     ]
    },
    {
     "name": "stderr",
     "output_type": "stream",
     "text": [
      " 21%|███████▍                            | 10.399999999999878/50 [09:46<37:11, 56.36s/it]"
     ]
    },
    {
     "name": "stdout",
     "output_type": "stream",
     "text": [
      "Train Epoch: 21 [1920/3918 (49%)]\tLoss: 0.808898\n",
      "Mem before-during-after: 22394880 22469120 22394880\n"
     ]
    },
    {
     "name": "stderr",
     "output_type": "stream",
     "text": [
      " 21%|███████▌                            | 10.531147540983483/50 [09:53<37:03, 56.35s/it]"
     ]
    },
    {
     "name": "stdout",
     "output_type": "stream",
     "text": [
      "Train Epoch: 21 [2560/3918 (66%)]\tLoss: 0.812453\n",
      "Mem before-during-after: 22394880 22469120 22394880\n"
     ]
    },
    {
     "name": "stderr",
     "output_type": "stream",
     "text": [
      " 21%|███████▋                            | 10.662295081967088/50 [10:01<36:04, 55.02s/it]"
     ]
    },
    {
     "name": "stdout",
     "output_type": "stream",
     "text": [
      "Train Epoch: 21 [3200/3918 (82%)]\tLoss: 1.064004\n",
      "Mem before-during-after: 22394880 22469120 22394880\n"
     ]
    },
    {
     "name": "stderr",
     "output_type": "stream",
     "text": [
      " 22%|███████▊                            | 10.793442622950693/50 [10:08<36:05, 55.23s/it]"
     ]
    },
    {
     "name": "stdout",
     "output_type": "stream",
     "text": [
      "Train Epoch: 21 [3840/3918 (98%)]\tLoss: 1.171176\n",
      "Mem before-during-after: 22394880 22469120 22394880\n"
     ]
    },
    {
     "name": "stderr",
     "output_type": "stream",
     "text": [
      " 22%|████████▏                            | 11.00327868852446/50 [10:20<36:02, 55.46s/it]"
     ]
    },
    {
     "name": "stdout",
     "output_type": "stream",
     "text": [
      "\n",
      "Test Epoch: 21\tAccuracy: 583/976 (59%)\n",
      "\n",
      "Train Epoch: 22 [0/3918 (0%)]\tLoss: 0.578223\n",
      "Mem before-during-after: 22393856 22469120 22394880\n"
     ]
    },
    {
     "name": "stderr",
     "output_type": "stream",
     "text": [
      " 22%|████████                            | 11.137704918032655/50 [10:28<36:26, 56.27s/it]"
     ]
    },
    {
     "name": "stdout",
     "output_type": "stream",
     "text": [
      "Train Epoch: 22 [640/3918 (16%)]\tLoss: 0.855093\n",
      "Mem before-during-after: 22394880 22469120 22394880\n"
     ]
    },
    {
     "name": "stderr",
     "output_type": "stream",
     "text": [
      " 23%|████████▎                            | 11.26885245901626/50 [10:35<35:23, 54.83s/it]"
     ]
    },
    {
     "name": "stdout",
     "output_type": "stream",
     "text": [
      "Train Epoch: 22 [1280/3918 (33%)]\tLoss: 1.016962\n",
      "Mem before-during-after: 22394880 22469120 22394880\n"
     ]
    },
    {
     "name": "stderr",
     "output_type": "stream",
     "text": [
      " 23%|████████▏                           | 11.399999999999865/50 [10:43<35:31, 55.23s/it]"
     ]
    },
    {
     "name": "stdout",
     "output_type": "stream",
     "text": [
      "Train Epoch: 22 [1920/3918 (49%)]\tLoss: 0.676076\n",
      "Mem before-during-after: 22394880 22469120 22394880\n"
     ]
    },
    {
     "name": "stderr",
     "output_type": "stream",
     "text": [
      " 23%|████████▌                            | 11.53114754098347/50 [10:50<34:59, 54.57s/it]"
     ]
    },
    {
     "name": "stdout",
     "output_type": "stream",
     "text": [
      "Train Epoch: 22 [2560/3918 (66%)]\tLoss: 0.318701\n",
      "Mem before-during-after: 22394880 22469120 22394880\n"
     ]
    },
    {
     "name": "stderr",
     "output_type": "stream",
     "text": [
      " 23%|████████▍                           | 11.662295081967075/50 [10:57<35:27, 55.49s/it]"
     ]
    },
    {
     "name": "stdout",
     "output_type": "stream",
     "text": [
      "Train Epoch: 22 [3200/3918 (82%)]\tLoss: 0.974199\n",
      "Mem before-during-after: 22394880 22469120 22394880\n"
     ]
    },
    {
     "name": "stderr",
     "output_type": "stream",
     "text": [
      " 24%|████████▋                            | 11.79344262295068/50 [11:05<35:22, 55.56s/it]"
     ]
    },
    {
     "name": "stdout",
     "output_type": "stream",
     "text": [
      "Train Epoch: 22 [3840/3918 (98%)]\tLoss: 0.798121\n",
      "Mem before-during-after: 22394880 22469120 22394880\n"
     ]
    },
    {
     "name": "stderr",
     "output_type": "stream",
     "text": [
      " 24%|████████▋                           | 12.003278688524448/50 [11:16<35:01, 55.31s/it]"
     ]
    },
    {
     "name": "stdout",
     "output_type": "stream",
     "text": [
      "\n",
      "Test Epoch: 22\tAccuracy: 582/976 (59%)\n",
      "\n",
      "Train Epoch: 23 [0/3918 (0%)]\tLoss: 0.561855\n",
      "Mem before-during-after: 22393856 22469120 22394880\n"
     ]
    },
    {
     "name": "stderr",
     "output_type": "stream",
     "text": [
      " 24%|████████▋                           | 12.137704918032643/50 [11:24<35:04, 55.59s/it]"
     ]
    },
    {
     "name": "stdout",
     "output_type": "stream",
     "text": [
      "Train Epoch: 23 [640/3918 (16%)]\tLoss: 0.643355\n",
      "Mem before-during-after: 22394880 22469120 22394880\n"
     ]
    },
    {
     "name": "stderr",
     "output_type": "stream",
     "text": [
      " 25%|████████▊                           | 12.265573770491658/50 [11:31<35:35, 56.59s/it]"
     ]
    },
    {
     "name": "stdout",
     "output_type": "stream",
     "text": [
      "Train Epoch: 23 [1280/3918 (33%)]\tLoss: 0.740107\n",
      "Mem before-during-after: 22394880 22469120 22394880\n"
     ]
    },
    {
     "name": "stderr",
     "output_type": "stream",
     "text": [
      " 25%|████████▉                           | 12.399999999999853/50 [11:39<36:15, 57.85s/it]"
     ]
    },
    {
     "name": "stdout",
     "output_type": "stream",
     "text": [
      "Train Epoch: 23 [1920/3918 (49%)]\tLoss: 1.017240\n",
      "Mem before-during-after: 22394880 22469120 22394880\n"
     ]
    },
    {
     "name": "stderr",
     "output_type": "stream",
     "text": [
      " 25%|█████████                           | 12.531147540983458/50 [11:46<34:49, 55.76s/it]"
     ]
    },
    {
     "name": "stdout",
     "output_type": "stream",
     "text": [
      "Train Epoch: 23 [2560/3918 (66%)]\tLoss: 0.982387\n",
      "Mem before-during-after: 22394880 22469120 22394880\n"
     ]
    },
    {
     "name": "stderr",
     "output_type": "stream",
     "text": [
      " 25%|█████████                           | 12.662295081967063/50 [11:53<34:18, 55.14s/it]"
     ]
    },
    {
     "name": "stdout",
     "output_type": "stream",
     "text": [
      "Train Epoch: 23 [3200/3918 (82%)]\tLoss: 0.742515\n",
      "Mem before-during-after: 22394880 22469120 22394880\n"
     ]
    },
    {
     "name": "stderr",
     "output_type": "stream",
     "text": [
      " 26%|█████████▏                          | 12.793442622950668/50 [12:01<34:13, 55.20s/it]"
     ]
    },
    {
     "name": "stdout",
     "output_type": "stream",
     "text": [
      "Train Epoch: 23 [3840/3918 (98%)]\tLoss: 0.591462\n",
      "Mem before-during-after: 22394880 22469120 22394880\n"
     ]
    },
    {
     "name": "stderr",
     "output_type": "stream",
     "text": [
      " 26%|█████████▎                          | 13.003278688524436/50 [12:12<33:25, 54.22s/it]"
     ]
    },
    {
     "name": "stdout",
     "output_type": "stream",
     "text": [
      "\n",
      "Test Epoch: 23\tAccuracy: 587/976 (60%)\n",
      "\n",
      "Train Epoch: 24 [0/3918 (0%)]\tLoss: 0.735655\n",
      "Mem before-during-after: 22393856 22469120 22394880\n"
     ]
    },
    {
     "name": "stderr",
     "output_type": "stream",
     "text": [
      " 26%|█████████▋                           | 13.13442622950804/50 [12:20<35:27, 57.70s/it]"
     ]
    },
    {
     "name": "stdout",
     "output_type": "stream",
     "text": [
      "Train Epoch: 24 [640/3918 (16%)]\tLoss: 0.965845\n",
      "Mem before-during-after: 22394880 22469120 22394880\n"
     ]
    },
    {
     "name": "stderr",
     "output_type": "stream",
     "text": [
      " 27%|█████████▌                          | 13.268852459016236/50 [12:27<34:27, 56.28s/it]"
     ]
    },
    {
     "name": "stdout",
     "output_type": "stream",
     "text": [
      "Train Epoch: 24 [1280/3918 (33%)]\tLoss: 0.740237\n",
      "Mem before-during-after: 22394880 22469120 22394880\n"
     ]
    },
    {
     "name": "stderr",
     "output_type": "stream",
     "text": [
      " 27%|█████████▉                           | 13.39999999999984/50 [12:35<34:54, 57.22s/it]"
     ]
    },
    {
     "name": "stdout",
     "output_type": "stream",
     "text": [
      "Train Epoch: 24 [1920/3918 (49%)]\tLoss: 0.646304\n",
      "Mem before-during-after: 22394880 22469120 22394880\n"
     ]
    },
    {
     "name": "stderr",
     "output_type": "stream",
     "text": [
      " 27%|█████████▋                          | 13.531147540983445/50 [12:42<33:41, 55.42s/it]"
     ]
    },
    {
     "name": "stdout",
     "output_type": "stream",
     "text": [
      "Train Epoch: 24 [2560/3918 (66%)]\tLoss: 0.626550\n",
      "Mem before-during-after: 22394880 22469120 22394880\n"
     ]
    },
    {
     "name": "stderr",
     "output_type": "stream",
     "text": [
      " 27%|██████████                           | 13.66229508196705/50 [12:49<34:10, 56.43s/it]"
     ]
    },
    {
     "name": "stdout",
     "output_type": "stream",
     "text": [
      "Train Epoch: 24 [3200/3918 (82%)]\tLoss: 1.269552\n",
      "Mem before-during-after: 22394880 22469120 22394880\n"
     ]
    },
    {
     "name": "stderr",
     "output_type": "stream",
     "text": [
      " 28%|█████████▉                          | 13.793442622950655/50 [12:57<34:20, 56.92s/it]"
     ]
    },
    {
     "name": "stdout",
     "output_type": "stream",
     "text": [
      "Train Epoch: 24 [3840/3918 (98%)]\tLoss: 0.809692\n",
      "Mem before-during-after: 22394880 22469120 22394880\n"
     ]
    },
    {
     "name": "stderr",
     "output_type": "stream",
     "text": [
      " 28%|██████████                          | 14.003278688524423/50 [13:09<33:14, 55.42s/it]"
     ]
    },
    {
     "name": "stdout",
     "output_type": "stream",
     "text": [
      "\n",
      "Test Epoch: 24\tAccuracy: 590/976 (60%)\n",
      "\n",
      "Train Epoch: 25 [0/3918 (0%)]\tLoss: 0.690754\n",
      "Mem before-during-after: 22393856 22469120 22394880\n"
     ]
    },
    {
     "name": "stderr",
     "output_type": "stream",
     "text": [
      " 28%|██████████▏                         | 14.137704918032618/50 [13:16<33:00, 55.22s/it]"
     ]
    },
    {
     "name": "stdout",
     "output_type": "stream",
     "text": [
      "Train Epoch: 25 [640/3918 (16%)]\tLoss: 0.656007\n",
      "Mem before-during-after: 22394880 22469120 22394880\n"
     ]
    },
    {
     "name": "stderr",
     "output_type": "stream",
     "text": [
      " 29%|██████████▎                         | 14.268852459016223/50 [13:23<33:14, 55.81s/it]"
     ]
    },
    {
     "name": "stdout",
     "output_type": "stream",
     "text": [
      "Train Epoch: 25 [1280/3918 (33%)]\tLoss: 0.819781\n",
      "Mem before-during-after: 22394880 22469120 22394880\n"
     ]
    },
    {
     "name": "stderr",
     "output_type": "stream",
     "text": [
      " 29%|██████████▎                         | 14.399999999999828/50 [13:31<33:33, 56.56s/it]"
     ]
    },
    {
     "name": "stdout",
     "output_type": "stream",
     "text": [
      "Train Epoch: 25 [1920/3918 (49%)]\tLoss: 0.932109\n",
      "Mem before-during-after: 22394880 22469120 22394880\n"
     ]
    },
    {
     "name": "stderr",
     "output_type": "stream",
     "text": [
      " 29%|██████████▍                         | 14.531147540983433/50 [13:38<32:32, 55.06s/it]"
     ]
    },
    {
     "name": "stdout",
     "output_type": "stream",
     "text": [
      "Train Epoch: 25 [2560/3918 (66%)]\tLoss: 0.703925\n",
      "Mem before-during-after: 22394880 22469120 22394880\n"
     ]
    },
    {
     "name": "stderr",
     "output_type": "stream",
     "text": [
      " 29%|██████████▌                         | 14.659016393442448/50 [13:46<33:07, 56.24s/it]"
     ]
    },
    {
     "name": "stdout",
     "output_type": "stream",
     "text": [
      "Train Epoch: 25 [3200/3918 (82%)]\tLoss: 0.603725\n",
      "Mem before-during-after: 22394880 22469120 22394880\n"
     ]
    },
    {
     "name": "stderr",
     "output_type": "stream",
     "text": [
      " 30%|██████████▋                         | 14.793442622950643/50 [13:53<32:40, 55.67s/it]"
     ]
    },
    {
     "name": "stdout",
     "output_type": "stream",
     "text": [
      "Train Epoch: 25 [3840/3918 (98%)]\tLoss: 0.946591\n",
      "Mem before-during-after: 22394880 22469120 22394880\n"
     ]
    },
    {
     "name": "stderr",
     "output_type": "stream",
     "text": [
      " 30%|███████████                          | 15.00327868852441/50 [14:05<31:51, 54.63s/it]"
     ]
    },
    {
     "name": "stdout",
     "output_type": "stream",
     "text": [
      "\n",
      "Test Epoch: 25\tAccuracy: 582/976 (59%)\n",
      "\n",
      "Train Epoch: 26 [0/3918 (0%)]\tLoss: 1.203331\n",
      "Mem before-during-after: 22393856 22469120 22394880\n"
     ]
    },
    {
     "name": "stderr",
     "output_type": "stream",
     "text": [
      " 30%|██████████▉                         | 15.137704918032606/50 [14:12<32:09, 55.33s/it]"
     ]
    },
    {
     "name": "stdout",
     "output_type": "stream",
     "text": [
      "Train Epoch: 26 [640/3918 (16%)]\tLoss: 0.583055\n",
      "Mem before-during-after: 22394880 22469120 22394880\n"
     ]
    },
    {
     "name": "stderr",
     "output_type": "stream",
     "text": [
      " 31%|███████████▎                         | 15.26885245901621/50 [14:20<32:47, 56.66s/it]"
     ]
    },
    {
     "name": "stdout",
     "output_type": "stream",
     "text": [
      "Train Epoch: 26 [1280/3918 (33%)]\tLoss: 0.599738\n",
      "Mem before-during-after: 22394880 22469120 22394880\n"
     ]
    },
    {
     "name": "stderr",
     "output_type": "stream",
     "text": [
      " 31%|███████████                         | 15.396721311475225/50 [14:27<31:48, 55.16s/it]"
     ]
    },
    {
     "name": "stdout",
     "output_type": "stream",
     "text": [
      "Train Epoch: 26 [1920/3918 (49%)]\tLoss: 0.803932\n",
      "Mem before-during-after: 22394880 22469120 22394880\n"
     ]
    },
    {
     "name": "stderr",
     "output_type": "stream",
     "text": [
      " 31%|███████████▍                         | 15.53114754098342/50 [14:35<32:34, 56.71s/it]"
     ]
    },
    {
     "name": "stdout",
     "output_type": "stream",
     "text": [
      "Train Epoch: 26 [2560/3918 (66%)]\tLoss: 0.684910\n",
      "Mem before-during-after: 22394880 22469120 22394880\n"
     ]
    },
    {
     "name": "stderr",
     "output_type": "stream",
     "text": [
      " 31%|███████████▎                        | 15.662295081967025/50 [14:42<31:27, 54.98s/it]"
     ]
    },
    {
     "name": "stdout",
     "output_type": "stream",
     "text": [
      "Train Epoch: 26 [3200/3918 (82%)]\tLoss: 0.614896\n",
      "Mem before-during-after: 22394880 22469120 22394880\n"
     ]
    },
    {
     "name": "stderr",
     "output_type": "stream",
     "text": [
      " 32%|███████████▋                         | 15.79344262295063/50 [14:49<32:32, 57.07s/it]"
     ]
    },
    {
     "name": "stdout",
     "output_type": "stream",
     "text": [
      "Train Epoch: 26 [3840/3918 (98%)]\tLoss: 0.610901\n",
      "Mem before-during-after: 22394880 22469120 22394880\n"
     ]
    },
    {
     "name": "stderr",
     "output_type": "stream",
     "text": [
      " 32%|████████████▏                         | 16.0032786885244/50 [15:01<31:55, 56.35s/it]"
     ]
    },
    {
     "name": "stdout",
     "output_type": "stream",
     "text": [
      "\n",
      "Test Epoch: 26\tAccuracy: 601/976 (61%)\n",
      "\n",
      "saved model: ../models_cremad4/cremad_label4_m13mfcc_best_26epoch.pt\n",
      "Train Epoch: 27 [0/3918 (0%)]\tLoss: 0.743288\n",
      "Mem before-during-after: 22393856 22469120 22394880\n"
     ]
    },
    {
     "name": "stderr",
     "output_type": "stream",
     "text": [
      " 32%|███████████▌                        | 16.137704918032668/50 [15:09<32:07, 56.94s/it]"
     ]
    },
    {
     "name": "stdout",
     "output_type": "stream",
     "text": [
      "Train Epoch: 27 [640/3918 (16%)]\tLoss: 0.905396\n",
      "Mem before-during-after: 22394880 22469120 22394880\n"
     ]
    },
    {
     "name": "stderr",
     "output_type": "stream",
     "text": [
      " 33%|███████████▋                        | 16.268852459016344/50 [15:16<30:50, 54.85s/it]"
     ]
    },
    {
     "name": "stdout",
     "output_type": "stream",
     "text": [
      "Train Epoch: 27 [1280/3918 (33%)]\tLoss: 0.789143\n",
      "Mem before-during-after: 22394880 22469120 22394880\n"
     ]
    },
    {
     "name": "stderr",
     "output_type": "stream",
     "text": [
      " 33%|████████████▏                        | 16.40000000000002/50 [15:23<31:10, 55.66s/it]"
     ]
    },
    {
     "name": "stdout",
     "output_type": "stream",
     "text": [
      "Train Epoch: 27 [1920/3918 (49%)]\tLoss: 0.703340\n",
      "Mem before-during-after: 22394880 22469120 22394880\n"
     ]
    },
    {
     "name": "stderr",
     "output_type": "stream",
     "text": [
      " 33%|███████████▉                        | 16.531147540983696/50 [15:31<31:25, 56.32s/it]"
     ]
    },
    {
     "name": "stdout",
     "output_type": "stream",
     "text": [
      "Train Epoch: 27 [2560/3918 (66%)]\tLoss: 0.688481\n",
      "Mem before-during-after: 22394880 22469120 22394880\n"
     ]
    },
    {
     "name": "stderr",
     "output_type": "stream",
     "text": [
      " 33%|███████████▉                        | 16.662295081967372/50 [15:38<30:54, 55.64s/it]"
     ]
    },
    {
     "name": "stdout",
     "output_type": "stream",
     "text": [
      "Train Epoch: 27 [3200/3918 (82%)]\tLoss: 0.842862\n",
      "Mem before-during-after: 22394880 22469120 22394880\n"
     ]
    },
    {
     "name": "stderr",
     "output_type": "stream",
     "text": [
      " 34%|████████████                        | 16.793442622951048/50 [15:46<30:14, 54.64s/it]"
     ]
    },
    {
     "name": "stdout",
     "output_type": "stream",
     "text": [
      "Train Epoch: 27 [3840/3918 (98%)]\tLoss: 1.007978\n",
      "Mem before-during-after: 22394880 22469120 22394880\n"
     ]
    },
    {
     "name": "stderr",
     "output_type": "stream",
     "text": [
      " 34%|████████████▌                        | 17.00327868852493/50 [15:57<30:25, 55.31s/it]"
     ]
    },
    {
     "name": "stdout",
     "output_type": "stream",
     "text": [
      "\n",
      "Test Epoch: 27\tAccuracy: 603/976 (62%)\n",
      "\n",
      "saved model: ../models_cremad4/cremad_label4_m13mfcc_best_27epoch.pt\n",
      "Train Epoch: 28 [0/3918 (0%)]\tLoss: 0.815366\n",
      "Mem before-during-after: 22393856 22469120 22394880\n"
     ]
    },
    {
     "name": "stderr",
     "output_type": "stream",
     "text": [
      " 34%|████████████▎                       | 17.137704918033197/50 [16:05<30:21, 55.44s/it]"
     ]
    },
    {
     "name": "stdout",
     "output_type": "stream",
     "text": [
      "Train Epoch: 28 [640/3918 (16%)]\tLoss: 0.632427\n",
      "Mem before-during-after: 22394880 22469120 22394880\n"
     ]
    },
    {
     "name": "stderr",
     "output_type": "stream",
     "text": [
      " 35%|████████████▍                       | 17.268852459016873/50 [16:12<30:36, 56.11s/it]"
     ]
    },
    {
     "name": "stdout",
     "output_type": "stream",
     "text": [
      "Train Epoch: 28 [1280/3918 (33%)]\tLoss: 0.581041\n",
      "Mem before-during-after: 22394880 22469120 22394880\n"
     ]
    },
    {
     "name": "stderr",
     "output_type": "stream",
     "text": [
      " 35%|████████████▉                        | 17.40000000000055/50 [16:20<30:06, 55.43s/it]"
     ]
    },
    {
     "name": "stdout",
     "output_type": "stream",
     "text": [
      "Train Epoch: 28 [1920/3918 (49%)]\tLoss: 0.523778\n",
      "Mem before-during-after: 22394880 22469120 22394880\n"
     ]
    },
    {
     "name": "stderr",
     "output_type": "stream",
     "text": [
      " 35%|████████████▌                       | 17.531147540984225/50 [16:27<30:11, 55.78s/it]"
     ]
    },
    {
     "name": "stdout",
     "output_type": "stream",
     "text": [
      "Train Epoch: 28 [2560/3918 (66%)]\tLoss: 0.795716\n",
      "Mem before-during-after: 22394880 22469120 22394880\n"
     ]
    },
    {
     "name": "stderr",
     "output_type": "stream",
     "text": [
      " 35%|█████████████                        | 17.65901639344331/50 [16:34<30:09, 55.95s/it]"
     ]
    },
    {
     "name": "stdout",
     "output_type": "stream",
     "text": [
      "Train Epoch: 28 [3200/3918 (82%)]\tLoss: 0.855920\n",
      "Mem before-during-after: 22394880 22469120 22394880\n"
     ]
    },
    {
     "name": "stderr",
     "output_type": "stream",
     "text": [
      " 36%|████████████▊                       | 17.793442622951577/50 [16:42<29:46, 55.49s/it]"
     ]
    },
    {
     "name": "stdout",
     "output_type": "stream",
     "text": [
      "Train Epoch: 28 [3840/3918 (98%)]\tLoss: 0.593611\n",
      "Mem before-during-after: 22394880 22469120 22394880\n"
     ]
    },
    {
     "name": "stderr",
     "output_type": "stream",
     "text": [
      " 36%|█████████████▎                       | 18.00327868852546/50 [16:54<29:28, 55.27s/it]"
     ]
    },
    {
     "name": "stdout",
     "output_type": "stream",
     "text": [
      "\n",
      "Test Epoch: 28\tAccuracy: 606/976 (62%)\n",
      "\n",
      "saved model: ../models_cremad4/cremad_label4_m13mfcc_best_28epoch.pt\n",
      "Train Epoch: 29 [0/3918 (0%)]\tLoss: 0.907691\n",
      "Mem before-during-after: 22393856 22469120 22394880\n"
     ]
    },
    {
     "name": "stderr",
     "output_type": "stream",
     "text": [
      " 36%|█████████████                       | 18.137704918033727/50 [17:01<28:58, 54.55s/it]"
     ]
    },
    {
     "name": "stdout",
     "output_type": "stream",
     "text": [
      "Train Epoch: 29 [640/3918 (16%)]\tLoss: 0.706005\n",
      "Mem before-during-after: 22394880 22469120 22394880\n"
     ]
    },
    {
     "name": "stderr",
     "output_type": "stream",
     "text": [
      " 37%|█████████████▏                      | 18.268852459017403/50 [17:08<29:30, 55.81s/it]"
     ]
    },
    {
     "name": "stdout",
     "output_type": "stream",
     "text": [
      "Train Epoch: 29 [1280/3918 (33%)]\tLoss: 0.797724\n",
      "Mem before-during-after: 22394880 22469120 22394880\n"
     ]
    },
    {
     "name": "stderr",
     "output_type": "stream",
     "text": [
      " 37%|█████████████▏                      | 18.396721311476487/50 [17:16<29:38, 56.29s/it]"
     ]
    },
    {
     "name": "stdout",
     "output_type": "stream",
     "text": [
      "Train Epoch: 29 [1920/3918 (49%)]\tLoss: 0.850295\n",
      "Mem before-during-after: 22394880 22469120 22394880\n"
     ]
    },
    {
     "name": "stderr",
     "output_type": "stream",
     "text": [
      " 37%|█████████████▎                      | 18.531147540984755/50 [17:23<30:31, 58.20s/it]"
     ]
    },
    {
     "name": "stdout",
     "output_type": "stream",
     "text": [
      "Train Epoch: 29 [2560/3918 (66%)]\tLoss: 0.992440\n",
      "Mem before-during-after: 22394880 22469120 22394880\n"
     ]
    },
    {
     "name": "stderr",
     "output_type": "stream",
     "text": [
      " 37%|█████████████▊                       | 18.66229508196843/50 [17:31<29:21, 56.22s/it]"
     ]
    },
    {
     "name": "stdout",
     "output_type": "stream",
     "text": [
      "Train Epoch: 29 [3200/3918 (82%)]\tLoss: 0.950975\n",
      "Mem before-during-after: 22394880 22469120 22394880\n"
     ]
    },
    {
     "name": "stderr",
     "output_type": "stream",
     "text": [
      " 38%|█████████████▌                      | 18.793442622952107/50 [17:38<31:16, 60.12s/it]"
     ]
    },
    {
     "name": "stdout",
     "output_type": "stream",
     "text": [
      "Train Epoch: 29 [3840/3918 (98%)]\tLoss: 0.609593\n",
      "Mem before-during-after: 22394880 22469120 22394880\n"
     ]
    },
    {
     "name": "stderr",
     "output_type": "stream",
     "text": [
      " 38%|█████████████▋                      | 19.003278688525988/50 [17:50<28:25, 55.01s/it]"
     ]
    },
    {
     "name": "stdout",
     "output_type": "stream",
     "text": [
      "\n",
      "Test Epoch: 29\tAccuracy: 604/976 (62%)\n",
      "\n",
      "Train Epoch: 30 [0/3918 (0%)]\tLoss: 0.592815\n",
      "Mem before-during-after: 22393856 22469120 22394880\n"
     ]
    },
    {
     "name": "stderr",
     "output_type": "stream",
     "text": [
      " 38%|█████████████▊                      | 19.137704918034256/50 [17:58<30:13, 58.78s/it]"
     ]
    },
    {
     "name": "stdout",
     "output_type": "stream",
     "text": [
      "Train Epoch: 30 [640/3918 (16%)]\tLoss: 0.760437\n",
      "Mem before-during-after: 22394880 22469120 22394880\n"
     ]
    },
    {
     "name": "stderr",
     "output_type": "stream",
     "text": [
      " 39%|█████████████▊                      | 19.268852459017932/50 [18:05<28:23, 55.43s/it]"
     ]
    },
    {
     "name": "stdout",
     "output_type": "stream",
     "text": [
      "Train Epoch: 30 [1280/3918 (33%)]\tLoss: 1.124041\n",
      "Mem before-during-after: 22394880 22469120 22394880\n"
     ]
    },
    {
     "name": "stderr",
     "output_type": "stream",
     "text": [
      " 39%|█████████████▉                      | 19.400000000001608/50 [18:12<28:28, 55.83s/it]"
     ]
    },
    {
     "name": "stdout",
     "output_type": "stream",
     "text": [
      "Train Epoch: 30 [1920/3918 (49%)]\tLoss: 1.041018\n",
      "Mem before-during-after: 22394880 22469120 22394880\n"
     ]
    },
    {
     "name": "stderr",
     "output_type": "stream",
     "text": [
      " 39%|██████████████                      | 19.531147540985284/50 [18:20<28:31, 56.17s/it]"
     ]
    },
    {
     "name": "stdout",
     "output_type": "stream",
     "text": [
      "Train Epoch: 30 [2560/3918 (66%)]\tLoss: 0.743184\n",
      "Mem before-during-after: 22394880 22469120 22394880\n"
     ]
    },
    {
     "name": "stderr",
     "output_type": "stream",
     "text": [
      " 39%|██████████████▌                      | 19.66229508196896/50 [18:27<28:33, 56.47s/it]"
     ]
    },
    {
     "name": "stdout",
     "output_type": "stream",
     "text": [
      "Train Epoch: 30 [3200/3918 (82%)]\tLoss: 1.047305\n",
      "Mem before-during-after: 22394880 22469120 22394880\n"
     ]
    },
    {
     "name": "stderr",
     "output_type": "stream",
     "text": [
      " 40%|██████████████▎                     | 19.793442622952636/50 [18:35<28:59, 57.60s/it]"
     ]
    },
    {
     "name": "stdout",
     "output_type": "stream",
     "text": [
      "Train Epoch: 30 [3840/3918 (98%)]\tLoss: 0.476315\n",
      "Mem before-during-after: 22394880 22469120 22394880\n"
     ]
    },
    {
     "name": "stderr",
     "output_type": "stream",
     "text": [
      " 40%|██████████████▍                     | 20.003278688526517/50 [18:46<27:57, 55.91s/it]"
     ]
    },
    {
     "name": "stdout",
     "output_type": "stream",
     "text": [
      "\n",
      "Test Epoch: 30\tAccuracy: 606/976 (62%)\n",
      "\n",
      "Train Epoch: 31 [0/3918 (0%)]\tLoss: 0.805118\n",
      "Mem before-during-after: 22393856 22469120 22394880\n"
     ]
    },
    {
     "name": "stderr",
     "output_type": "stream",
     "text": [
      " 40%|██████████████▍                     | 20.137704918034785/50 [18:54<27:27, 55.17s/it]"
     ]
    },
    {
     "name": "stdout",
     "output_type": "stream",
     "text": [
      "Train Epoch: 31 [640/3918 (16%)]\tLoss: 0.773534\n",
      "Mem before-during-after: 22394880 22469120 22394880\n"
     ]
    },
    {
     "name": "stderr",
     "output_type": "stream",
     "text": [
      " 41%|██████████████▉                      | 20.26885245901846/50 [19:01<27:25, 55.33s/it]"
     ]
    },
    {
     "name": "stdout",
     "output_type": "stream",
     "text": [
      "Train Epoch: 31 [1280/3918 (33%)]\tLoss: 1.042295\n",
      "Mem before-during-after: 22394880 22469120 22394880\n"
     ]
    },
    {
     "name": "stderr",
     "output_type": "stream",
     "text": [
      " 41%|██████████████▋                     | 20.400000000002137/50 [19:09<28:01, 56.82s/it]"
     ]
    },
    {
     "name": "stdout",
     "output_type": "stream",
     "text": [
      "Train Epoch: 31 [1920/3918 (49%)]\tLoss: 0.892478\n",
      "Mem before-during-after: 22394880 22469120 22394880\n"
     ]
    },
    {
     "name": "stderr",
     "output_type": "stream",
     "text": [
      " 41%|██████████████▊                     | 20.531147540985813/50 [19:16<27:19, 55.62s/it]"
     ]
    },
    {
     "name": "stdout",
     "output_type": "stream",
     "text": [
      "Train Epoch: 31 [2560/3918 (66%)]\tLoss: 0.834800\n",
      "Mem before-during-after: 22394880 22469120 22394880\n"
     ]
    },
    {
     "name": "stderr",
     "output_type": "stream",
     "text": [
      " 41%|███████████████▎                     | 20.66229508196949/50 [19:24<27:01, 55.26s/it]"
     ]
    },
    {
     "name": "stdout",
     "output_type": "stream",
     "text": [
      "Train Epoch: 31 [3200/3918 (82%)]\tLoss: 0.876191\n",
      "Mem before-during-after: 22394880 22469120 22394880\n"
     ]
    },
    {
     "name": "stderr",
     "output_type": "stream",
     "text": [
      " 42%|██████████████▉                     | 20.793442622953165/50 [19:31<26:20, 54.12s/it]"
     ]
    },
    {
     "name": "stdout",
     "output_type": "stream",
     "text": [
      "Train Epoch: 31 [3840/3918 (98%)]\tLoss: 0.825134\n",
      "Mem before-during-after: 22394880 22469120 22394880\n"
     ]
    },
    {
     "name": "stderr",
     "output_type": "stream",
     "text": [
      " 42%|███████████████                     | 21.003278688527047/50 [19:43<27:05, 56.05s/it]"
     ]
    },
    {
     "name": "stdout",
     "output_type": "stream",
     "text": [
      "\n",
      "Test Epoch: 31\tAccuracy: 604/976 (62%)\n",
      "\n",
      "Train Epoch: 32 [0/3918 (0%)]\tLoss: 0.573055\n",
      "Mem before-during-after: 22393856 22469120 22394880\n"
     ]
    },
    {
     "name": "stderr",
     "output_type": "stream",
     "text": [
      " 42%|███████████████▏                    | 21.137704918035315/50 [19:50<27:12, 56.56s/it]"
     ]
    },
    {
     "name": "stdout",
     "output_type": "stream",
     "text": [
      "Train Epoch: 32 [640/3918 (16%)]\tLoss: 0.705145\n",
      "Mem before-during-after: 22394880 22469120 22394880\n"
     ]
    },
    {
     "name": "stderr",
     "output_type": "stream",
     "text": [
      " 43%|███████████████▋                     | 21.26885245901899/50 [19:58<26:36, 55.56s/it]"
     ]
    },
    {
     "name": "stdout",
     "output_type": "stream",
     "text": [
      "Train Epoch: 32 [1280/3918 (33%)]\tLoss: 0.829147\n",
      "Mem before-during-after: 22394880 22469120 22394880\n"
     ]
    },
    {
     "name": "stderr",
     "output_type": "stream",
     "text": [
      " 43%|███████████████▍                    | 21.400000000002667/50 [20:05<26:13, 55.01s/it]"
     ]
    },
    {
     "name": "stdout",
     "output_type": "stream",
     "text": [
      "Train Epoch: 32 [1920/3918 (49%)]\tLoss: 0.646193\n",
      "Mem before-during-after: 22394880 22469120 22394880\n"
     ]
    },
    {
     "name": "stderr",
     "output_type": "stream",
     "text": [
      " 43%|███████████████▌                    | 21.531147540986343/50 [20:12<26:36, 56.08s/it]"
     ]
    },
    {
     "name": "stdout",
     "output_type": "stream",
     "text": [
      "Train Epoch: 32 [2560/3918 (66%)]\tLoss: 0.479695\n",
      "Mem before-during-after: 22394880 22469120 22394880\n"
     ]
    },
    {
     "name": "stderr",
     "output_type": "stream",
     "text": [
      " 43%|████████████████                     | 21.66229508197002/50 [20:20<26:19, 55.74s/it]"
     ]
    },
    {
     "name": "stdout",
     "output_type": "stream",
     "text": [
      "Train Epoch: 32 [3200/3918 (82%)]\tLoss: 1.180696\n",
      "Mem before-during-after: 22394880 22469120 22394880\n"
     ]
    },
    {
     "name": "stderr",
     "output_type": "stream",
     "text": [
      " 44%|███████████████▋                    | 21.793442622953695/50 [20:27<26:25, 56.20s/it]"
     ]
    },
    {
     "name": "stdout",
     "output_type": "stream",
     "text": [
      "Train Epoch: 32 [3840/3918 (98%)]\tLoss: 0.860803\n",
      "Mem before-during-after: 22394880 22469120 22394880\n"
     ]
    },
    {
     "name": "stderr",
     "output_type": "stream",
     "text": [
      " 44%|███████████████▊                    | 22.003278688527576/50 [20:39<26:23, 56.57s/it]"
     ]
    },
    {
     "name": "stdout",
     "output_type": "stream",
     "text": [
      "\n",
      "Test Epoch: 32\tAccuracy: 599/976 (61%)\n",
      "\n",
      "Train Epoch: 33 [0/3918 (0%)]\tLoss: 0.759474\n",
      "Mem before-during-after: 22393856 22469120 22394880\n"
     ]
    },
    {
     "name": "stderr",
     "output_type": "stream",
     "text": [
      " 44%|███████████████▉                    | 22.137704918035844/50 [20:46<25:40, 55.29s/it]"
     ]
    },
    {
     "name": "stdout",
     "output_type": "stream",
     "text": [
      "Train Epoch: 33 [640/3918 (16%)]\tLoss: 0.519744\n",
      "Mem before-during-after: 22394880 22469120 22394880\n"
     ]
    },
    {
     "name": "stderr",
     "output_type": "stream",
     "text": [
      " 45%|████████████████▍                    | 22.26885245901952/50 [20:54<25:25, 55.01s/it]"
     ]
    },
    {
     "name": "stdout",
     "output_type": "stream",
     "text": [
      "Train Epoch: 33 [1280/3918 (33%)]\tLoss: 0.845518\n",
      "Mem before-during-after: 22394880 22469120 22394880\n"
     ]
    },
    {
     "name": "stderr",
     "output_type": "stream",
     "text": [
      " 45%|████████████████▏                   | 22.400000000003196/50 [21:01<25:32, 55.51s/it]"
     ]
    },
    {
     "name": "stdout",
     "output_type": "stream",
     "text": [
      "Train Epoch: 33 [1920/3918 (49%)]\tLoss: 0.586950\n",
      "Mem before-during-after: 22394880 22469120 22394880\n"
     ]
    },
    {
     "name": "stderr",
     "output_type": "stream",
     "text": [
      " 45%|████████████████▏                   | 22.531147540986872/50 [21:09<25:18, 55.27s/it]"
     ]
    },
    {
     "name": "stdout",
     "output_type": "stream",
     "text": [
      "Train Epoch: 33 [2560/3918 (66%)]\tLoss: 0.701803\n",
      "Mem before-during-after: 22394880 22469120 22394880\n"
     ]
    },
    {
     "name": "stderr",
     "output_type": "stream",
     "text": [
      " 45%|████████████████▎                   | 22.662295081970548/50 [21:16<24:42, 54.21s/it]"
     ]
    },
    {
     "name": "stdout",
     "output_type": "stream",
     "text": [
      "Train Epoch: 33 [3200/3918 (82%)]\tLoss: 0.963360\n",
      "Mem before-during-after: 22394880 22469120 22394880\n"
     ]
    },
    {
     "name": "stderr",
     "output_type": "stream",
     "text": [
      " 46%|████████████████▍                   | 22.793442622954224/50 [21:23<25:18, 55.81s/it]"
     ]
    },
    {
     "name": "stdout",
     "output_type": "stream",
     "text": [
      "Train Epoch: 33 [3840/3918 (98%)]\tLoss: 0.813996\n",
      "Mem before-during-after: 22394880 22469120 22394880\n"
     ]
    },
    {
     "name": "stderr",
     "output_type": "stream",
     "text": [
      " 46%|████████████████▌                   | 23.003278688528106/50 [21:35<24:53, 55.30s/it]"
     ]
    },
    {
     "name": "stdout",
     "output_type": "stream",
     "text": [
      "\n",
      "Test Epoch: 33\tAccuracy: 599/976 (61%)\n",
      "\n",
      "Train Epoch: 34 [0/3918 (0%)]\tLoss: 1.073181\n",
      "Mem before-during-after: 22393856 22469120 22394880\n"
     ]
    },
    {
     "name": "stderr",
     "output_type": "stream",
     "text": [
      " 46%|████████████████▋                   | 23.137704918036373/50 [21:43<24:42, 55.19s/it]"
     ]
    },
    {
     "name": "stdout",
     "output_type": "stream",
     "text": [
      "Train Epoch: 34 [640/3918 (16%)]\tLoss: 0.442563\n",
      "Mem before-during-after: 22394880 22469120 22394880\n"
     ]
    },
    {
     "name": "stderr",
     "output_type": "stream",
     "text": [
      " 47%|█████████████████▏                   | 23.26885245902005/50 [21:50<25:13, 56.62s/it]"
     ]
    },
    {
     "name": "stdout",
     "output_type": "stream",
     "text": [
      "Train Epoch: 34 [1280/3918 (33%)]\tLoss: 0.756888\n",
      "Mem before-during-after: 22394880 22469120 22394880\n"
     ]
    },
    {
     "name": "stderr",
     "output_type": "stream",
     "text": [
      " 47%|████████████████▊                   | 23.400000000003725/50 [21:57<23:55, 53.95s/it]"
     ]
    },
    {
     "name": "stdout",
     "output_type": "stream",
     "text": [
      "Train Epoch: 34 [1920/3918 (49%)]\tLoss: 0.793681\n",
      "Mem before-during-after: 22394880 22469120 22394880\n"
     ]
    },
    {
     "name": "stderr",
     "output_type": "stream",
     "text": [
      " 47%|█████████████████▉                    | 23.5311475409874/50 [22:05<25:04, 56.83s/it]"
     ]
    },
    {
     "name": "stdout",
     "output_type": "stream",
     "text": [
      "Train Epoch: 34 [2560/3918 (66%)]\tLoss: 1.359080\n",
      "Mem before-during-after: 22394880 22469120 22394880\n"
     ]
    },
    {
     "name": "stderr",
     "output_type": "stream",
     "text": [
      " 47%|█████████████████                   | 23.662295081971077/50 [22:12<24:03, 54.80s/it]"
     ]
    },
    {
     "name": "stdout",
     "output_type": "stream",
     "text": [
      "Train Epoch: 34 [3200/3918 (82%)]\tLoss: 0.675617\n",
      "Mem before-during-after: 22394880 22469120 22394880\n"
     ]
    },
    {
     "name": "stderr",
     "output_type": "stream",
     "text": [
      " 48%|█████████████████▏                  | 23.793442622954753/50 [22:19<25:22, 58.11s/it]"
     ]
    },
    {
     "name": "stdout",
     "output_type": "stream",
     "text": [
      "Train Epoch: 34 [3840/3918 (98%)]\tLoss: 0.754650\n",
      "Mem before-during-after: 22394880 22469120 22394880\n"
     ]
    },
    {
     "name": "stderr",
     "output_type": "stream",
     "text": [
      " 48%|█████████████████▎                  | 24.003278688528635/50 [22:31<23:45, 54.82s/it]"
     ]
    },
    {
     "name": "stdout",
     "output_type": "stream",
     "text": [
      "\n",
      "Test Epoch: 34\tAccuracy: 606/976 (62%)\n",
      "\n",
      "Train Epoch: 35 [0/3918 (0%)]\tLoss: 0.613533\n",
      "Mem before-during-after: 22393856 22469120 22394880\n"
     ]
    },
    {
     "name": "stderr",
     "output_type": "stream",
     "text": [
      " 48%|█████████████████▍                  | 24.137704918036903/50 [22:39<24:25, 56.65s/it]"
     ]
    },
    {
     "name": "stdout",
     "output_type": "stream",
     "text": [
      "Train Epoch: 35 [640/3918 (16%)]\tLoss: 0.796681\n",
      "Mem before-during-after: 22394880 22469120 22394880\n"
     ]
    },
    {
     "name": "stderr",
     "output_type": "stream",
     "text": [
      " 49%|█████████████████▉                   | 24.26885245902058/50 [22:46<24:36, 57.39s/it]"
     ]
    },
    {
     "name": "stdout",
     "output_type": "stream",
     "text": [
      "Train Epoch: 35 [1280/3918 (33%)]\tLoss: 0.637127\n",
      "Mem before-during-after: 22394880 22469120 22394880\n"
     ]
    },
    {
     "name": "stderr",
     "output_type": "stream",
     "text": [
      " 49%|█████████████████▌                  | 24.400000000004255/50 [22:54<23:41, 55.53s/it]"
     ]
    },
    {
     "name": "stdout",
     "output_type": "stream",
     "text": [
      "Train Epoch: 35 [1920/3918 (49%)]\tLoss: 0.702850\n",
      "Mem before-during-after: 22394880 22469120 22394880\n"
     ]
    },
    {
     "name": "stderr",
     "output_type": "stream",
     "text": [
      " 49%|██████████████████▏                  | 24.53114754098793/50 [23:01<23:44, 55.95s/it]"
     ]
    },
    {
     "name": "stdout",
     "output_type": "stream",
     "text": [
      "Train Epoch: 35 [2560/3918 (66%)]\tLoss: 0.920124\n",
      "Mem before-during-after: 22394880 22469120 22394880\n"
     ]
    },
    {
     "name": "stderr",
     "output_type": "stream",
     "text": [
      " 49%|█████████████████▊                  | 24.662295081971607/50 [23:09<23:16, 55.11s/it]"
     ]
    },
    {
     "name": "stdout",
     "output_type": "stream",
     "text": [
      "Train Epoch: 35 [3200/3918 (82%)]\tLoss: 0.499445\n",
      "Mem before-during-after: 22394880 22469120 22394880\n"
     ]
    },
    {
     "name": "stderr",
     "output_type": "stream",
     "text": [
      " 50%|█████████████████▊                  | 24.793442622955283/50 [23:16<23:35, 56.15s/it]"
     ]
    },
    {
     "name": "stdout",
     "output_type": "stream",
     "text": [
      "Train Epoch: 35 [3840/3918 (98%)]\tLoss: 0.849672\n",
      "Mem before-during-after: 22394880 22469120 22394880\n"
     ]
    },
    {
     "name": "stderr",
     "output_type": "stream",
     "text": [
      " 50%|██████████████████                  | 25.003278688529164/50 [23:28<24:05, 57.81s/it]"
     ]
    },
    {
     "name": "stdout",
     "output_type": "stream",
     "text": [
      "\n",
      "Test Epoch: 35\tAccuracy: 594/976 (61%)\n",
      "\n",
      "Train Epoch: 36 [0/3918 (0%)]\tLoss: 0.687976\n",
      "Mem before-during-after: 22393856 22469120 22394880\n"
     ]
    },
    {
     "name": "stderr",
     "output_type": "stream",
     "text": [
      " 50%|██████████████████                  | 25.137704918037432/50 [23:36<23:40, 57.14s/it]"
     ]
    },
    {
     "name": "stdout",
     "output_type": "stream",
     "text": [
      "Train Epoch: 36 [640/3918 (16%)]\tLoss: 0.652492\n",
      "Mem before-during-after: 22394880 22469120 22394880\n"
     ]
    },
    {
     "name": "stderr",
     "output_type": "stream",
     "text": [
      " 51%|██████████████████▏                 | 25.268852459021108/50 [23:43<23:22, 56.71s/it]"
     ]
    },
    {
     "name": "stdout",
     "output_type": "stream",
     "text": [
      "Train Epoch: 36 [1280/3918 (33%)]\tLoss: 0.792168\n",
      "Mem before-during-after: 22394880 22469120 22394880\n"
     ]
    },
    {
     "name": "stderr",
     "output_type": "stream",
     "text": [
      " 51%|██████████████████▎                 | 25.400000000004784/50 [23:51<23:01, 56.15s/it]"
     ]
    },
    {
     "name": "stdout",
     "output_type": "stream",
     "text": [
      "Train Epoch: 36 [1920/3918 (49%)]\tLoss: 0.596769\n",
      "Mem before-during-after: 22394880 22469120 22394880\n"
     ]
    },
    {
     "name": "stderr",
     "output_type": "stream",
     "text": [
      " 51%|██████████████████▉                  | 25.53114754098846/50 [23:58<22:46, 55.84s/it]"
     ]
    },
    {
     "name": "stdout",
     "output_type": "stream",
     "text": [
      "Train Epoch: 36 [2560/3918 (66%)]\tLoss: 0.748950\n",
      "Mem before-during-after: 22394880 22469120 22394880\n"
     ]
    },
    {
     "name": "stderr",
     "output_type": "stream",
     "text": [
      " 51%|██████████████████▍                 | 25.662295081972136/50 [24:06<22:36, 55.74s/it]"
     ]
    },
    {
     "name": "stdout",
     "output_type": "stream",
     "text": [
      "Train Epoch: 36 [3200/3918 (82%)]\tLoss: 0.748638\n",
      "Mem before-during-after: 22394880 22469120 22394880\n"
     ]
    },
    {
     "name": "stderr",
     "output_type": "stream",
     "text": [
      " 52%|██████████████████▌                 | 25.793442622955812/50 [24:13<23:06, 57.28s/it]"
     ]
    },
    {
     "name": "stdout",
     "output_type": "stream",
     "text": [
      "Train Epoch: 36 [3840/3918 (98%)]\tLoss: 1.119989\n",
      "Mem before-during-after: 22394880 22469120 22394880\n"
     ]
    },
    {
     "name": "stderr",
     "output_type": "stream",
     "text": [
      " 52%|██████████████████▋                 | 26.003278688529694/50 [24:26<22:07, 55.31s/it]"
     ]
    },
    {
     "name": "stdout",
     "output_type": "stream",
     "text": [
      "\n",
      "Test Epoch: 36\tAccuracy: 592/976 (60%)\n",
      "\n",
      "Train Epoch: 37 [0/3918 (0%)]\tLoss: 0.410162\n",
      "Mem before-during-after: 22393856 22469120 22394880\n"
     ]
    },
    {
     "name": "stderr",
     "output_type": "stream",
     "text": [
      " 52%|███████████████████▎                 | 26.13770491803796/50 [24:33<21:54, 55.09s/it]"
     ]
    },
    {
     "name": "stdout",
     "output_type": "stream",
     "text": [
      "Train Epoch: 37 [640/3918 (16%)]\tLoss: 0.566019\n",
      "Mem before-during-after: 22394880 22469120 22394880\n"
     ]
    },
    {
     "name": "stderr",
     "output_type": "stream",
     "text": [
      " 53%|██████████████████▉                 | 26.268852459021637/50 [24:41<21:59, 55.61s/it]"
     ]
    },
    {
     "name": "stdout",
     "output_type": "stream",
     "text": [
      "Train Epoch: 37 [1280/3918 (33%)]\tLoss: 0.554357\n",
      "Mem before-during-after: 22394880 22469120 22394880\n"
     ]
    },
    {
     "name": "stderr",
     "output_type": "stream",
     "text": [
      " 53%|███████████████████                 | 26.400000000005313/50 [24:48<21:36, 54.93s/it]"
     ]
    },
    {
     "name": "stdout",
     "output_type": "stream",
     "text": [
      "Train Epoch: 37 [1920/3918 (49%)]\tLoss: 1.249899\n",
      "Mem before-during-after: 22394880 22469120 22394880\n"
     ]
    },
    {
     "name": "stderr",
     "output_type": "stream",
     "text": [
      " 53%|███████████████████▋                 | 26.53114754098899/50 [24:55<22:21, 57.15s/it]"
     ]
    },
    {
     "name": "stdout",
     "output_type": "stream",
     "text": [
      "Train Epoch: 37 [2560/3918 (66%)]\tLoss: 0.663776\n",
      "Mem before-during-after: 22394880 22469120 22394880\n"
     ]
    },
    {
     "name": "stderr",
     "output_type": "stream",
     "text": [
      " 53%|███████████████████▏                | 26.662295081972665/50 [25:03<21:53, 56.29s/it]"
     ]
    },
    {
     "name": "stdout",
     "output_type": "stream",
     "text": [
      "Train Epoch: 37 [3200/3918 (82%)]\tLoss: 0.876734\n",
      "Mem before-during-after: 22394880 22469120 22394880\n"
     ]
    },
    {
     "name": "stderr",
     "output_type": "stream",
     "text": [
      " 54%|███████████████████▊                 | 26.79344262295634/50 [25:10<22:35, 58.43s/it]"
     ]
    },
    {
     "name": "stdout",
     "output_type": "stream",
     "text": [
      "Train Epoch: 37 [3840/3918 (98%)]\tLoss: 0.610754\n",
      "Mem before-during-after: 22394880 22469120 22394880\n"
     ]
    },
    {
     "name": "stderr",
     "output_type": "stream",
     "text": [
      " 54%|███████████████████▍                | 27.003278688530223/50 [25:22<21:03, 54.93s/it]"
     ]
    },
    {
     "name": "stdout",
     "output_type": "stream",
     "text": [
      "\n",
      "Test Epoch: 37\tAccuracy: 614/976 (63%)\n",
      "\n",
      "saved model: ../models_cremad4/cremad_label4_m13mfcc_best_37epoch.pt\n",
      "Train Epoch: 38 [0/3918 (0%)]\tLoss: 0.679570\n",
      "Mem before-during-after: 22393856 22469120 22394880\n"
     ]
    },
    {
     "name": "stderr",
     "output_type": "stream",
     "text": [
      " 54%|████████████████████                 | 27.13770491803849/50 [25:29<20:48, 54.62s/it]"
     ]
    },
    {
     "name": "stdout",
     "output_type": "stream",
     "text": [
      "Train Epoch: 38 [640/3918 (16%)]\tLoss: 0.561595\n",
      "Mem before-during-after: 22394880 22469120 22394880\n"
     ]
    },
    {
     "name": "stderr",
     "output_type": "stream",
     "text": [
      " 55%|███████████████████▋                | 27.268852459022167/50 [25:37<21:12, 55.98s/it]"
     ]
    },
    {
     "name": "stdout",
     "output_type": "stream",
     "text": [
      "Train Epoch: 38 [1280/3918 (33%)]\tLoss: 0.691978\n",
      "Mem before-during-after: 22394880 22469120 22394880\n"
     ]
    },
    {
     "name": "stderr",
     "output_type": "stream",
     "text": [
      " 55%|███████████████████▋                | 27.400000000005843/50 [25:44<21:34, 57.27s/it]"
     ]
    },
    {
     "name": "stdout",
     "output_type": "stream",
     "text": [
      "Train Epoch: 38 [1920/3918 (49%)]\tLoss: 1.013223\n",
      "Mem before-during-after: 22394880 22469120 22394880\n"
     ]
    },
    {
     "name": "stderr",
     "output_type": "stream",
     "text": [
      " 55%|████████████████████▎                | 27.53114754098952/50 [25:52<21:14, 56.73s/it]"
     ]
    },
    {
     "name": "stdout",
     "output_type": "stream",
     "text": [
      "Train Epoch: 38 [2560/3918 (66%)]\tLoss: 0.592206\n",
      "Mem before-during-after: 22394880 22469120 22394880\n"
     ]
    },
    {
     "name": "stderr",
     "output_type": "stream",
     "text": [
      " 55%|███████████████████▉                | 27.662295081973195/50 [25:59<20:20, 54.66s/it]"
     ]
    },
    {
     "name": "stdout",
     "output_type": "stream",
     "text": [
      "Train Epoch: 38 [3200/3918 (82%)]\tLoss: 0.643550\n",
      "Mem before-during-after: 22394880 22469120 22394880\n"
     ]
    },
    {
     "name": "stderr",
     "output_type": "stream",
     "text": [
      " 56%|████████████████████▌                | 27.79344262295687/50 [26:07<21:11, 57.26s/it]"
     ]
    },
    {
     "name": "stdout",
     "output_type": "stream",
     "text": [
      "Train Epoch: 38 [3840/3918 (98%)]\tLoss: 0.510255\n",
      "Mem before-during-after: 22394880 22469120 22394880\n"
     ]
    },
    {
     "name": "stderr",
     "output_type": "stream",
     "text": [
      " 56%|████████████████████▏               | 28.003278688530752/50 [26:19<20:48, 56.74s/it]"
     ]
    },
    {
     "name": "stdout",
     "output_type": "stream",
     "text": [
      "\n",
      "Test Epoch: 38\tAccuracy: 611/976 (62%)\n",
      "\n",
      "Train Epoch: 39 [0/3918 (0%)]\tLoss: 0.354525\n",
      "Mem before-during-after: 22393856 22469120 22394880\n"
     ]
    },
    {
     "name": "stderr",
     "output_type": "stream",
     "text": [
      " 56%|████████████████████▊                | 28.13770491803902/50 [26:26<20:26, 56.11s/it]"
     ]
    },
    {
     "name": "stdout",
     "output_type": "stream",
     "text": [
      "Train Epoch: 39 [640/3918 (16%)]\tLoss: 0.677196\n",
      "Mem before-during-after: 22394880 22469120 22394880\n"
     ]
    },
    {
     "name": "stderr",
     "output_type": "stream",
     "text": [
      " 57%|████████████████████▎               | 28.268852459022696/50 [26:34<20:25, 56.38s/it]"
     ]
    },
    {
     "name": "stdout",
     "output_type": "stream",
     "text": [
      "Train Epoch: 39 [1280/3918 (33%)]\tLoss: 0.709346\n",
      "Mem before-during-after: 22394880 22469120 22394880\n"
     ]
    },
    {
     "name": "stderr",
     "output_type": "stream",
     "text": [
      " 57%|████████████████████▍               | 28.400000000006372/50 [26:41<20:42, 57.50s/it]"
     ]
    },
    {
     "name": "stdout",
     "output_type": "stream",
     "text": [
      "Train Epoch: 39 [1920/3918 (49%)]\tLoss: 0.466149\n",
      "Mem before-during-after: 22394880 22469120 22394880\n"
     ]
    },
    {
     "name": "stderr",
     "output_type": "stream",
     "text": [
      " 57%|████████████████████▌               | 28.531147540990048/50 [26:49<19:57, 55.80s/it]"
     ]
    },
    {
     "name": "stdout",
     "output_type": "stream",
     "text": [
      "Train Epoch: 39 [2560/3918 (66%)]\tLoss: 0.645842\n",
      "Mem before-during-after: 22394880 22469120 22394880\n"
     ]
    },
    {
     "name": "stderr",
     "output_type": "stream",
     "text": [
      " 57%|████████████████████▋               | 28.662295081973724/50 [26:56<19:32, 54.95s/it]"
     ]
    },
    {
     "name": "stdout",
     "output_type": "stream",
     "text": [
      "Train Epoch: 39 [3200/3918 (82%)]\tLoss: 0.506709\n",
      "Mem before-during-after: 22394880 22469120 22394880\n"
     ]
    },
    {
     "name": "stderr",
     "output_type": "stream",
     "text": [
      " 58%|█████████████████████▉                | 28.7934426229574/50 [27:04<19:37, 55.50s/it]"
     ]
    },
    {
     "name": "stdout",
     "output_type": "stream",
     "text": [
      "Train Epoch: 39 [3840/3918 (98%)]\tLoss: 0.707675\n",
      "Mem before-during-after: 22394880 22469120 22394880\n"
     ]
    },
    {
     "name": "stderr",
     "output_type": "stream",
     "text": [
      " 58%|█████████████████████▍               | 29.00327868853128/50 [27:16<19:34, 55.94s/it]"
     ]
    },
    {
     "name": "stdout",
     "output_type": "stream",
     "text": [
      "\n",
      "Test Epoch: 39\tAccuracy: 602/976 (61%)\n",
      "\n",
      "Train Epoch: 40 [0/3918 (0%)]\tLoss: 0.536666\n",
      "Mem before-during-after: 22393856 22469120 22394880\n"
     ]
    },
    {
     "name": "stderr",
     "output_type": "stream",
     "text": [
      " 58%|█████████████████████▌               | 29.13770491803955/50 [27:23<19:43, 56.74s/it]"
     ]
    },
    {
     "name": "stdout",
     "output_type": "stream",
     "text": [
      "Train Epoch: 40 [640/3918 (16%)]\tLoss: 0.727104\n",
      "Mem before-during-after: 22394880 22469120 22394880\n"
     ]
    },
    {
     "name": "stderr",
     "output_type": "stream",
     "text": [
      " 59%|█████████████████████               | 29.268852459023226/50 [27:31<19:14, 55.67s/it]"
     ]
    },
    {
     "name": "stdout",
     "output_type": "stream",
     "text": [
      "Train Epoch: 40 [1280/3918 (33%)]\tLoss: 0.760598\n",
      "Mem before-during-after: 22394880 22469120 22394880\n"
     ]
    },
    {
     "name": "stderr",
     "output_type": "stream",
     "text": [
      " 59%|██████████████████████▎               | 29.4000000000069/50 [27:38<22:27, 65.39s/it]"
     ]
    },
    {
     "name": "stdout",
     "output_type": "stream",
     "text": [
      "Train Epoch: 40 [1920/3918 (49%)]\tLoss: 0.563600\n",
      "Mem before-during-after: 22394880 22469120 22394880\n"
     ]
    },
    {
     "name": "stderr",
     "output_type": "stream",
     "text": [
      " 59%|█████████████████████▎              | 29.527868852465986/50 [27:45<18:54, 55.40s/it]"
     ]
    },
    {
     "name": "stdout",
     "output_type": "stream",
     "text": [
      "Train Epoch: 40 [2560/3918 (66%)]\tLoss: 0.806532\n",
      "Mem before-during-after: 22394880 22469120 22394880\n"
     ]
    },
    {
     "name": "stderr",
     "output_type": "stream",
     "text": [
      " 59%|█████████████████████▎              | 29.662295081974253/50 [27:53<18:50, 55.57s/it]"
     ]
    },
    {
     "name": "stdout",
     "output_type": "stream",
     "text": [
      "Train Epoch: 40 [3200/3918 (82%)]\tLoss: 0.540953\n",
      "Mem before-during-after: 22394880 22469120 22394880\n"
     ]
    },
    {
     "name": "stderr",
     "output_type": "stream",
     "text": [
      " 60%|██████████████████████               | 29.79344262295793/50 [28:01<18:29, 54.92s/it]"
     ]
    },
    {
     "name": "stdout",
     "output_type": "stream",
     "text": [
      "Train Epoch: 40 [3840/3918 (98%)]\tLoss: 0.748349\n",
      "Mem before-during-after: 22394880 22469120 22394880\n"
     ]
    },
    {
     "name": "stderr",
     "output_type": "stream",
     "text": [
      " 60%|██████████████████████▏              | 30.00327868853181/50 [28:13<18:34, 55.75s/it]"
     ]
    },
    {
     "name": "stdout",
     "output_type": "stream",
     "text": [
      "\n",
      "Test Epoch: 40\tAccuracy: 607/976 (62%)\n",
      "\n",
      "Train Epoch: 41 [0/3918 (0%)]\tLoss: 0.860648\n",
      "Mem before-during-after: 22393856 22469120 22394880\n"
     ]
    },
    {
     "name": "stderr",
     "output_type": "stream",
     "text": [
      " 60%|██████████████████████▎              | 30.13770491804008/50 [28:20<18:16, 55.20s/it]"
     ]
    },
    {
     "name": "stdout",
     "output_type": "stream",
     "text": [
      "Train Epoch: 41 [640/3918 (16%)]\tLoss: 0.606241\n",
      "Mem before-during-after: 22394880 22469120 22394880\n"
     ]
    },
    {
     "name": "stderr",
     "output_type": "stream",
     "text": [
      " 61%|█████████████████████▊              | 30.268852459023755/50 [28:27<17:51, 54.30s/it]"
     ]
    },
    {
     "name": "stdout",
     "output_type": "stream",
     "text": [
      "Train Epoch: 41 [1280/3918 (33%)]\tLoss: 0.617453\n",
      "Mem before-during-after: 22394880 22469120 22394880\n"
     ]
    },
    {
     "name": "stderr",
     "output_type": "stream",
     "text": [
      " 61%|██████████████████████▍              | 30.40000000000743/50 [28:35<18:28, 56.54s/it]"
     ]
    },
    {
     "name": "stdout",
     "output_type": "stream",
     "text": [
      "Train Epoch: 41 [1920/3918 (49%)]\tLoss: 0.985611\n",
      "Mem before-during-after: 22394880 22469120 22394880\n"
     ]
    },
    {
     "name": "stderr",
     "output_type": "stream",
     "text": [
      " 61%|█████████████████████▉              | 30.531147540991107/50 [28:42<18:26, 56.82s/it]"
     ]
    },
    {
     "name": "stdout",
     "output_type": "stream",
     "text": [
      "Train Epoch: 41 [2560/3918 (66%)]\tLoss: 0.759351\n",
      "Mem before-during-after: 22394880 22469120 22394880\n"
     ]
    },
    {
     "name": "stderr",
     "output_type": "stream",
     "text": [
      " 61%|██████████████████████              | 30.662295081974783/50 [28:49<17:31, 54.36s/it]"
     ]
    },
    {
     "name": "stdout",
     "output_type": "stream",
     "text": [
      "Train Epoch: 41 [3200/3918 (82%)]\tLoss: 0.944816\n",
      "Mem before-during-after: 22394880 22469120 22394880\n"
     ]
    },
    {
     "name": "stderr",
     "output_type": "stream",
     "text": [
      " 62%|██████████████████████▊              | 30.79344262295846/50 [28:57<17:55, 56.00s/it]"
     ]
    },
    {
     "name": "stdout",
     "output_type": "stream",
     "text": [
      "Train Epoch: 41 [3840/3918 (98%)]\tLoss: 0.542202\n",
      "Mem before-during-after: 22394880 22469120 22394880\n"
     ]
    },
    {
     "name": "stderr",
     "output_type": "stream",
     "text": [
      " 62%|██████████████████████▉              | 31.00327868853234/50 [29:08<17:48, 56.24s/it]"
     ]
    },
    {
     "name": "stdout",
     "output_type": "stream",
     "text": [
      "\n",
      "Test Epoch: 41\tAccuracy: 601/976 (61%)\n",
      "\n",
      "Train Epoch: 42 [0/3918 (0%)]\tLoss: 0.417161\n",
      "Mem before-during-after: 22393856 22469120 22394880\n"
     ]
    },
    {
     "name": "stderr",
     "output_type": "stream",
     "text": [
      " 62%|███████████████████████              | 31.13770491804061/50 [29:16<17:32, 55.80s/it]"
     ]
    },
    {
     "name": "stdout",
     "output_type": "stream",
     "text": [
      "Train Epoch: 42 [640/3918 (16%)]\tLoss: 0.532102\n",
      "Mem before-during-after: 22394880 22469120 22394880\n"
     ]
    },
    {
     "name": "stderr",
     "output_type": "stream",
     "text": [
      " 63%|██████████████████████▌             | 31.268852459024284/50 [29:23<17:16, 55.35s/it]"
     ]
    },
    {
     "name": "stdout",
     "output_type": "stream",
     "text": [
      "Train Epoch: 42 [1280/3918 (33%)]\tLoss: 0.836464\n",
      "Mem before-during-after: 22394880 22469120 22394880\n"
     ]
    },
    {
     "name": "stderr",
     "output_type": "stream",
     "text": [
      " 63%|███████████████████████▏             | 31.40000000000796/50 [29:31<17:21, 56.02s/it]"
     ]
    },
    {
     "name": "stdout",
     "output_type": "stream",
     "text": [
      "Train Epoch: 42 [1920/3918 (49%)]\tLoss: 0.880375\n",
      "Mem before-during-after: 22394880 22469120 22394880\n"
     ]
    },
    {
     "name": "stderr",
     "output_type": "stream",
     "text": [
      " 63%|██████████████████████▋             | 31.531147540991636/50 [29:38<18:09, 59.01s/it]"
     ]
    },
    {
     "name": "stdout",
     "output_type": "stream",
     "text": [
      "Train Epoch: 42 [2560/3918 (66%)]\tLoss: 0.685422\n",
      "Mem before-during-after: 22394880 22469120 22394880\n"
     ]
    },
    {
     "name": "stderr",
     "output_type": "stream",
     "text": [
      " 63%|██████████████████████▊             | 31.662295081975312/50 [29:46<17:22, 56.88s/it]"
     ]
    },
    {
     "name": "stdout",
     "output_type": "stream",
     "text": [
      "Train Epoch: 42 [3200/3918 (82%)]\tLoss: 0.471711\n",
      "Mem before-during-after: 22394880 22469120 22394880\n"
     ]
    },
    {
     "name": "stderr",
     "output_type": "stream",
     "text": [
      " 64%|██████████████████████▉             | 31.793442622958988/50 [29:53<17:22, 57.24s/it]"
     ]
    },
    {
     "name": "stdout",
     "output_type": "stream",
     "text": [
      "Train Epoch: 42 [3840/3918 (98%)]\tLoss: 0.557972\n",
      "Mem before-during-after: 22394880 22469120 22394880\n"
     ]
    },
    {
     "name": "stderr",
     "output_type": "stream",
     "text": [
      " 64%|███████████████████████             | 32.003278688532866/50 [30:05<16:32, 55.18s/it]"
     ]
    },
    {
     "name": "stdout",
     "output_type": "stream",
     "text": [
      "\n",
      "Test Epoch: 42\tAccuracy: 603/976 (62%)\n",
      "\n",
      "Train Epoch: 43 [0/3918 (0%)]\tLoss: 0.430629\n",
      "Mem before-during-after: 22393856 22469120 22394880\n"
     ]
    },
    {
     "name": "stderr",
     "output_type": "stream",
     "text": [
      " 64%|███████████████████████▊             | 32.13770491804099/50 [30:12<16:42, 56.11s/it]"
     ]
    },
    {
     "name": "stdout",
     "output_type": "stream",
     "text": [
      "Train Epoch: 43 [640/3918 (16%)]\tLoss: 0.851861\n",
      "Mem before-during-after: 22394880 22469120 22394880\n"
     ]
    },
    {
     "name": "stderr",
     "output_type": "stream",
     "text": [
      " 65%|███████████████████████▉             | 32.26885245902452/50 [30:20<16:31, 55.91s/it]"
     ]
    },
    {
     "name": "stdout",
     "output_type": "stream",
     "text": [
      "Train Epoch: 43 [1280/3918 (33%)]\tLoss: 0.517042\n",
      "Mem before-during-after: 22394880 22469120 22394880\n"
     ]
    },
    {
     "name": "stderr",
     "output_type": "stream",
     "text": [
      " 65%|███████████████████████▎            | 32.400000000008056/50 [30:27<16:17, 55.54s/it]"
     ]
    },
    {
     "name": "stdout",
     "output_type": "stream",
     "text": [
      "Train Epoch: 43 [1920/3918 (49%)]\tLoss: 0.536084\n",
      "Mem before-during-after: 22394880 22469120 22394880\n"
     ]
    },
    {
     "name": "stderr",
     "output_type": "stream",
     "text": [
      " 65%|████████████████████████             | 32.53114754099159/50 [30:34<16:36, 57.06s/it]"
     ]
    },
    {
     "name": "stdout",
     "output_type": "stream",
     "text": [
      "Train Epoch: 43 [2560/3918 (66%)]\tLoss: 0.700684\n",
      "Mem before-during-after: 22394880 22469120 22394880\n"
     ]
    },
    {
     "name": "stderr",
     "output_type": "stream",
     "text": [
      " 65%|███████████████████████▌            | 32.662295081975124/50 [30:42<16:18, 56.43s/it]"
     ]
    },
    {
     "name": "stdout",
     "output_type": "stream",
     "text": [
      "Train Epoch: 43 [3200/3918 (82%)]\tLoss: 0.762728\n",
      "Mem before-during-after: 22394880 22469120 22394880\n"
     ]
    },
    {
     "name": "stderr",
     "output_type": "stream",
     "text": [
      " 66%|████████████████████████▎            | 32.79344262295866/50 [30:49<15:34, 54.32s/it]"
     ]
    },
    {
     "name": "stdout",
     "output_type": "stream",
     "text": [
      "Train Epoch: 43 [3840/3918 (98%)]\tLoss: 0.574438\n",
      "Mem before-during-after: 22394880 22469120 22394880\n"
     ]
    },
    {
     "name": "stderr",
     "output_type": "stream",
     "text": [
      " 66%|████████████████████████▍            | 33.00327868853231/50 [31:01<15:47, 55.74s/it]"
     ]
    },
    {
     "name": "stdout",
     "output_type": "stream",
     "text": [
      "\n",
      "Test Epoch: 43\tAccuracy: 599/976 (61%)\n",
      "\n",
      "Train Epoch: 44 [0/3918 (0%)]\tLoss: 0.704977\n",
      "Mem before-during-after: 22393856 22469120 22394880\n"
     ]
    },
    {
     "name": "stderr",
     "output_type": "stream",
     "text": [
      " 66%|███████████████████████▊            | 33.137704918040434/50 [31:08<15:27, 55.03s/it]"
     ]
    },
    {
     "name": "stdout",
     "output_type": "stream",
     "text": [
      "Train Epoch: 44 [640/3918 (16%)]\tLoss: 0.578220\n",
      "Mem before-during-after: 22394880 22469120 22394880\n"
     ]
    },
    {
     "name": "stderr",
     "output_type": "stream",
     "text": [
      " 67%|████████████████████████▌            | 33.26885245902397/50 [31:15<15:12, 54.54s/it]"
     ]
    },
    {
     "name": "stdout",
     "output_type": "stream",
     "text": [
      "Train Epoch: 44 [1280/3918 (33%)]\tLoss: 1.017726\n",
      "Mem before-during-after: 22394880 22469120 22394880\n"
     ]
    },
    {
     "name": "stderr",
     "output_type": "stream",
     "text": [
      " 67%|█████████████████████████▍            | 33.4000000000075/50 [31:23<15:37, 56.51s/it]"
     ]
    },
    {
     "name": "stdout",
     "output_type": "stream",
     "text": [
      "Train Epoch: 44 [1920/3918 (49%)]\tLoss: 0.484828\n",
      "Mem before-during-after: 22394880 22469120 22394880\n"
     ]
    },
    {
     "name": "stderr",
     "output_type": "stream",
     "text": [
      " 67%|████████████████████████▏           | 33.531147540991036/50 [31:30<15:43, 57.32s/it]"
     ]
    },
    {
     "name": "stdout",
     "output_type": "stream",
     "text": [
      "Train Epoch: 44 [2560/3918 (66%)]\tLoss: 0.629056\n",
      "Mem before-during-after: 22394880 22469120 22394880\n"
     ]
    },
    {
     "name": "stderr",
     "output_type": "stream",
     "text": [
      " 67%|████████████████████████▉            | 33.66229508197457/50 [31:38<16:06, 59.13s/it]"
     ]
    },
    {
     "name": "stdout",
     "output_type": "stream",
     "text": [
      "Train Epoch: 44 [3200/3918 (82%)]\tLoss: 0.608737\n",
      "Mem before-during-after: 22394880 22469120 22394880\n"
     ]
    },
    {
     "name": "stderr",
     "output_type": "stream",
     "text": [
      " 68%|█████████████████████████▋            | 33.7934426229581/50 [31:45<14:33, 53.93s/it]"
     ]
    },
    {
     "name": "stdout",
     "output_type": "stream",
     "text": [
      "Train Epoch: 44 [3840/3918 (98%)]\tLoss: 0.358487\n",
      "Mem before-during-after: 22394880 22469120 22394880\n"
     ]
    },
    {
     "name": "stderr",
     "output_type": "stream",
     "text": [
      " 68%|█████████████████████████▏           | 34.00327868853176/50 [31:57<14:34, 54.69s/it]"
     ]
    },
    {
     "name": "stdout",
     "output_type": "stream",
     "text": [
      "\n",
      "Test Epoch: 44\tAccuracy: 605/976 (62%)\n",
      "\n",
      "Train Epoch: 45 [0/3918 (0%)]\tLoss: 0.546827\n",
      "Mem before-during-after: 22393856 22469120 22394880\n"
     ]
    },
    {
     "name": "stderr",
     "output_type": "stream",
     "text": [
      " 68%|█████████████████████████▎           | 34.13770491803988/50 [32:04<14:33, 55.08s/it]"
     ]
    },
    {
     "name": "stdout",
     "output_type": "stream",
     "text": [
      "Train Epoch: 45 [640/3918 (16%)]\tLoss: 0.395124\n",
      "Mem before-during-after: 22394880 22469120 22394880\n"
     ]
    },
    {
     "name": "stderr",
     "output_type": "stream",
     "text": [
      " 69%|████████████████████████▋           | 34.268852459023414/50 [32:12<14:47, 56.42s/it]"
     ]
    },
    {
     "name": "stdout",
     "output_type": "stream",
     "text": [
      "Train Epoch: 45 [1280/3918 (33%)]\tLoss: 0.848882\n",
      "Mem before-during-after: 22394880 22469120 22394880\n"
     ]
    },
    {
     "name": "stderr",
     "output_type": "stream",
     "text": [
      " 69%|█████████████████████████▍           | 34.40000000000695/50 [32:19<14:29, 55.74s/it]"
     ]
    },
    {
     "name": "stdout",
     "output_type": "stream",
     "text": [
      "Train Epoch: 45 [1920/3918 (49%)]\tLoss: 0.527012\n",
      "Mem before-during-after: 22394880 22469120 22394880\n"
     ]
    },
    {
     "name": "stderr",
     "output_type": "stream",
     "text": [
      " 69%|█████████████████████████▌           | 34.53114754099048/50 [32:26<14:39, 56.87s/it]"
     ]
    },
    {
     "name": "stdout",
     "output_type": "stream",
     "text": [
      "Train Epoch: 45 [2560/3918 (66%)]\tLoss: 1.011882\n",
      "Mem before-during-after: 22394880 22469120 22394880\n"
     ]
    },
    {
     "name": "stderr",
     "output_type": "stream",
     "text": [
      " 69%|████████████████████████▉           | 34.662295081974015/50 [32:34<14:10, 55.43s/it]"
     ]
    },
    {
     "name": "stdout",
     "output_type": "stream",
     "text": [
      "Train Epoch: 45 [3200/3918 (82%)]\tLoss: 0.965688\n",
      "Mem before-during-after: 22394880 22469120 22394880\n"
     ]
    },
    {
     "name": "stderr",
     "output_type": "stream",
     "text": [
      " 70%|█████████████████████████▋           | 34.79344262295755/50 [32:41<13:58, 55.11s/it]"
     ]
    },
    {
     "name": "stdout",
     "output_type": "stream",
     "text": [
      "Train Epoch: 45 [3840/3918 (98%)]\tLoss: 1.370808\n",
      "Mem before-during-after: 22394880 22469120 22394880\n"
     ]
    },
    {
     "name": "stderr",
     "output_type": "stream",
     "text": [
      " 70%|██████████████████████████▌           | 35.0032786885312/50 [32:53<14:08, 56.61s/it]"
     ]
    },
    {
     "name": "stdout",
     "output_type": "stream",
     "text": [
      "\n",
      "Test Epoch: 45\tAccuracy: 591/976 (60%)\n",
      "\n",
      "Train Epoch: 46 [0/3918 (0%)]\tLoss: 0.652553\n",
      "Mem before-during-after: 22393856 22469120 22394880\n"
     ]
    },
    {
     "name": "stderr",
     "output_type": "stream",
     "text": [
      " 70%|█████████████████████████▎          | 35.137704918039326/50 [33:01<14:21, 57.96s/it]"
     ]
    },
    {
     "name": "stdout",
     "output_type": "stream",
     "text": [
      "Train Epoch: 46 [640/3918 (16%)]\tLoss: 0.681895\n",
      "Mem before-during-after: 22394880 22469120 22394880\n"
     ]
    },
    {
     "name": "stderr",
     "output_type": "stream",
     "text": [
      " 71%|██████████████████████████           | 35.26885245902286/50 [33:08<13:26, 54.76s/it]"
     ]
    },
    {
     "name": "stdout",
     "output_type": "stream",
     "text": [
      "Train Epoch: 46 [1280/3918 (33%)]\tLoss: 0.661098\n",
      "Mem before-during-after: 22394880 22469120 22394880\n"
     ]
    },
    {
     "name": "stderr",
     "output_type": "stream",
     "text": [
      " 71%|█████████████████████████▍          | 35.396721311481805/50 [33:15<13:37, 56.00s/it]"
     ]
    },
    {
     "name": "stdout",
     "output_type": "stream",
     "text": [
      "Train Epoch: 46 [1920/3918 (49%)]\tLoss: 0.625165\n",
      "Mem before-during-after: 22394880 22469120 22394880\n"
     ]
    },
    {
     "name": "stderr",
     "output_type": "stream",
     "text": [
      " 71%|██████████████████████████▎          | 35.53114754098993/50 [33:23<13:43, 56.92s/it]"
     ]
    },
    {
     "name": "stdout",
     "output_type": "stream",
     "text": [
      "Train Epoch: 46 [2560/3918 (66%)]\tLoss: 0.927887\n",
      "Mem before-during-after: 22394880 22469120 22394880\n"
     ]
    },
    {
     "name": "stderr",
     "output_type": "stream",
     "text": [
      " 71%|██████████████████████████▍          | 35.66229508197346/50 [33:30<13:10, 55.13s/it]"
     ]
    },
    {
     "name": "stdout",
     "output_type": "stream",
     "text": [
      "Train Epoch: 46 [3200/3918 (82%)]\tLoss: 0.725424\n",
      "Mem before-during-after: 22394880 22469120 22394880\n"
     ]
    },
    {
     "name": "stderr",
     "output_type": "stream",
     "text": [
      " 72%|█████████████████████████▊          | 35.793442622956995/50 [33:37<12:55, 54.59s/it]"
     ]
    },
    {
     "name": "stdout",
     "output_type": "stream",
     "text": [
      "Train Epoch: 46 [3840/3918 (98%)]\tLoss: 0.342028\n",
      "Mem before-during-after: 22394880 22469120 22394880\n"
     ]
    },
    {
     "name": "stderr",
     "output_type": "stream",
     "text": [
      " 72%|██████████████████████████▋          | 36.00327868853065/50 [33:49<12:50, 55.03s/it]"
     ]
    },
    {
     "name": "stdout",
     "output_type": "stream",
     "text": [
      "\n",
      "Test Epoch: 46\tAccuracy: 601/976 (61%)\n",
      "\n",
      "Train Epoch: 47 [0/3918 (0%)]\tLoss: 0.462249\n",
      "Mem before-during-after: 22393856 22469120 22394880\n"
     ]
    },
    {
     "name": "stderr",
     "output_type": "stream",
     "text": [
      " 72%|██████████████████████████▋          | 36.13770491803877/50 [33:57<13:16, 57.49s/it]"
     ]
    },
    {
     "name": "stdout",
     "output_type": "stream",
     "text": [
      "Train Epoch: 47 [640/3918 (16%)]\tLoss: 0.814418\n",
      "Mem before-during-after: 22394880 22469120 22394880\n"
     ]
    },
    {
     "name": "stderr",
     "output_type": "stream",
     "text": [
      " 73%|██████████████████████████          | 36.268852459022305/50 [34:04<13:00, 56.82s/it]"
     ]
    },
    {
     "name": "stdout",
     "output_type": "stream",
     "text": [
      "Train Epoch: 47 [1280/3918 (33%)]\tLoss: 0.475510\n",
      "Mem before-during-after: 22394880 22469120 22394880\n"
     ]
    },
    {
     "name": "stderr",
     "output_type": "stream",
     "text": [
      " 73%|██████████████████████████▉          | 36.40000000000584/50 [34:12<12:41, 55.99s/it]"
     ]
    },
    {
     "name": "stdout",
     "output_type": "stream",
     "text": [
      "Train Epoch: 47 [1920/3918 (49%)]\tLoss: 0.598198\n",
      "Mem before-during-after: 22394880 22469120 22394880\n"
     ]
    },
    {
     "name": "stderr",
     "output_type": "stream",
     "text": [
      " 73%|███████████████████████████          | 36.53114754098937/50 [34:19<13:02, 58.08s/it]"
     ]
    },
    {
     "name": "stdout",
     "output_type": "stream",
     "text": [
      "Train Epoch: 47 [2560/3918 (66%)]\tLoss: 0.631070\n",
      "Mem before-during-after: 22394880 22469120 22394880\n"
     ]
    },
    {
     "name": "stderr",
     "output_type": "stream",
     "text": [
      " 73%|███████████████████████████▏         | 36.66229508197291/50 [34:26<12:19, 55.41s/it]"
     ]
    },
    {
     "name": "stdout",
     "output_type": "stream",
     "text": [
      "Train Epoch: 47 [3200/3918 (82%)]\tLoss: 0.721838\n",
      "Mem before-during-after: 22394880 22469120 22394880\n"
     ]
    },
    {
     "name": "stderr",
     "output_type": "stream",
     "text": [
      " 74%|███████████████████████████▏         | 36.79344262295644/50 [34:34<12:23, 56.31s/it]"
     ]
    },
    {
     "name": "stdout",
     "output_type": "stream",
     "text": [
      "Train Epoch: 47 [3840/3918 (98%)]\tLoss: 0.557651\n",
      "Mem before-during-after: 22394880 22469120 22394880\n"
     ]
    },
    {
     "name": "stderr",
     "output_type": "stream",
     "text": [
      " 74%|██████████████████████████▋         | 37.003278688530095/50 [34:46<12:00, 55.45s/it]"
     ]
    },
    {
     "name": "stdout",
     "output_type": "stream",
     "text": [
      "\n",
      "Test Epoch: 47\tAccuracy: 604/976 (62%)\n",
      "\n",
      "Train Epoch: 48 [0/3918 (0%)]\tLoss: 0.448480\n",
      "Mem before-during-after: 22393856 22469120 22394880\n"
     ]
    },
    {
     "name": "stderr",
     "output_type": "stream",
     "text": [
      " 74%|███████████████████████████▍         | 37.13770491803822/50 [34:53<12:24, 57.91s/it]"
     ]
    },
    {
     "name": "stdout",
     "output_type": "stream",
     "text": [
      "Train Epoch: 48 [640/3918 (16%)]\tLoss: 0.924239\n",
      "Mem before-during-after: 22394880 22469120 22394880\n"
     ]
    },
    {
     "name": "stderr",
     "output_type": "stream",
     "text": [
      " 75%|███████████████████████████▌         | 37.26885245902175/50 [35:01<11:46, 55.49s/it]"
     ]
    },
    {
     "name": "stdout",
     "output_type": "stream",
     "text": [
      "Train Epoch: 48 [1280/3918 (33%)]\tLoss: 0.657017\n",
      "Mem before-during-after: 22394880 22469120 22394880\n"
     ]
    },
    {
     "name": "stderr",
     "output_type": "stream",
     "text": [
      " 75%|██████████████████████████▉         | 37.400000000005285/50 [35:08<12:06, 57.65s/it]"
     ]
    },
    {
     "name": "stdout",
     "output_type": "stream",
     "text": [
      "Train Epoch: 48 [1920/3918 (49%)]\tLoss: 0.508614\n",
      "Mem before-during-after: 22394880 22469120 22394880\n"
     ]
    },
    {
     "name": "stderr",
     "output_type": "stream",
     "text": [
      " 75%|███████████████████████████▊         | 37.53114754098882/50 [35:16<11:47, 56.72s/it]"
     ]
    },
    {
     "name": "stdout",
     "output_type": "stream",
     "text": [
      "Train Epoch: 48 [2560/3918 (66%)]\tLoss: 0.739887\n",
      "Mem before-during-after: 22394880 22469120 22394880\n"
     ]
    },
    {
     "name": "stderr",
     "output_type": "stream",
     "text": [
      " 75%|███████████████████████████▊         | 37.66229508197235/50 [35:23<11:39, 56.70s/it]"
     ]
    },
    {
     "name": "stdout",
     "output_type": "stream",
     "text": [
      "Train Epoch: 48 [3200/3918 (82%)]\tLoss: 0.546437\n",
      "Mem before-during-after: 22394880 22469120 22394880\n"
     ]
    },
    {
     "name": "stderr",
     "output_type": "stream",
     "text": [
      " 76%|███████████████████████████▉         | 37.79344262295589/50 [35:30<11:30, 56.57s/it]"
     ]
    },
    {
     "name": "stdout",
     "output_type": "stream",
     "text": [
      "Train Epoch: 48 [3840/3918 (98%)]\tLoss: 0.822461\n",
      "Mem before-during-after: 22394880 22469120 22394880\n"
     ]
    },
    {
     "name": "stderr",
     "output_type": "stream",
     "text": [
      " 76%|████████████████████████████         | 38.00327868852954/50 [35:42<10:49, 54.17s/it]"
     ]
    },
    {
     "name": "stdout",
     "output_type": "stream",
     "text": [
      "\n",
      "Test Epoch: 48\tAccuracy: 601/976 (61%)\n",
      "\n",
      "Train Epoch: 49 [0/3918 (0%)]\tLoss: 0.578763\n",
      "Mem before-during-after: 22393856 22469120 22394880\n"
     ]
    },
    {
     "name": "stderr",
     "output_type": "stream",
     "text": [
      " 76%|████████████████████████████▏        | 38.13770491803766/50 [35:50<10:52, 55.01s/it]"
     ]
    },
    {
     "name": "stdout",
     "output_type": "stream",
     "text": [
      "Train Epoch: 49 [640/3918 (16%)]\tLoss: 0.584659\n",
      "Mem before-during-after: 22394880 22469120 22394880\n"
     ]
    },
    {
     "name": "stderr",
     "output_type": "stream",
     "text": [
      " 77%|████████████████████████████▎        | 38.26557377049661/50 [35:57<10:45, 55.05s/it]"
     ]
    },
    {
     "name": "stdout",
     "output_type": "stream",
     "text": [
      "Train Epoch: 49 [1280/3918 (33%)]\tLoss: 0.587164\n",
      "Mem before-during-after: 22394880 22469120 22394880\n"
     ]
    },
    {
     "name": "stderr",
     "output_type": "stream",
     "text": [
      " 77%|████████████████████████████▍        | 38.40000000000473/50 [36:04<10:54, 56.42s/it]"
     ]
    },
    {
     "name": "stdout",
     "output_type": "stream",
     "text": [
      "Train Epoch: 49 [1920/3918 (49%)]\tLoss: 0.586305\n",
      "Mem before-during-after: 22394880 22469120 22394880\n"
     ]
    },
    {
     "name": "stderr",
     "output_type": "stream",
     "text": [
      " 77%|███████████████████████████▋        | 38.531147540988265/50 [36:12<10:35, 55.44s/it]"
     ]
    },
    {
     "name": "stdout",
     "output_type": "stream",
     "text": [
      "Train Epoch: 49 [2560/3918 (66%)]\tLoss: 0.349986\n",
      "Mem before-during-after: 22394880 22469120 22394880\n"
     ]
    },
    {
     "name": "stderr",
     "output_type": "stream",
     "text": [
      " 77%|█████████████████████████████▍        | 38.6622950819718/50 [36:19<10:23, 55.01s/it]"
     ]
    },
    {
     "name": "stdout",
     "output_type": "stream",
     "text": [
      "Train Epoch: 49 [3200/3918 (82%)]\tLoss: 0.700580\n",
      "Mem before-during-after: 22394880 22469120 22394880\n"
     ]
    },
    {
     "name": "stderr",
     "output_type": "stream",
     "text": [
      " 78%|████████████████████████████▋        | 38.79344262295533/50 [36:27<10:34, 56.60s/it]"
     ]
    },
    {
     "name": "stdout",
     "output_type": "stream",
     "text": [
      "Train Epoch: 49 [3840/3918 (98%)]\tLoss: 0.497704\n",
      "Mem before-during-after: 22394880 22469120 22394880\n"
     ]
    },
    {
     "name": "stderr",
     "output_type": "stream",
     "text": [
      " 78%|████████████████████████████▊        | 39.00327868852899/50 [36:38<10:22, 56.65s/it]"
     ]
    },
    {
     "name": "stdout",
     "output_type": "stream",
     "text": [
      "\n",
      "Test Epoch: 49\tAccuracy: 592/976 (60%)\n",
      "\n",
      "Train Epoch: 50 [0/3918 (0%)]\tLoss: 0.519829\n",
      "Mem before-during-after: 22393856 22469120 22394880\n"
     ]
    },
    {
     "name": "stderr",
     "output_type": "stream",
     "text": [
      " 78%|████████████████████████████▉        | 39.13770491803711/50 [36:46<10:14, 56.56s/it]"
     ]
    },
    {
     "name": "stdout",
     "output_type": "stream",
     "text": [
      "Train Epoch: 50 [640/3918 (16%)]\tLoss: 0.406248\n",
      "Mem before-during-after: 22394880 22469120 22394880\n"
     ]
    },
    {
     "name": "stderr",
     "output_type": "stream",
     "text": [
      " 79%|█████████████████████████████        | 39.26885245902064/50 [36:54<09:51, 55.11s/it]"
     ]
    },
    {
     "name": "stdout",
     "output_type": "stream",
     "text": [
      "Train Epoch: 50 [1280/3918 (33%)]\tLoss: 0.470103\n",
      "Mem before-during-after: 22394880 22469120 22394880\n"
     ]
    },
    {
     "name": "stderr",
     "output_type": "stream",
     "text": [
      " 79%|█████████████████████████████▏       | 39.40000000000418/50 [37:01<09:43, 55.03s/it]"
     ]
    },
    {
     "name": "stdout",
     "output_type": "stream",
     "text": [
      "Train Epoch: 50 [1920/3918 (49%)]\tLoss: 0.946012\n",
      "Mem before-during-after: 22394880 22469120 22394880\n"
     ]
    },
    {
     "name": "stderr",
     "output_type": "stream",
     "text": [
      " 79%|█████████████████████████████▎       | 39.53114754098771/50 [37:08<09:54, 56.78s/it]"
     ]
    },
    {
     "name": "stdout",
     "output_type": "stream",
     "text": [
      "Train Epoch: 50 [2560/3918 (66%)]\tLoss: 0.317737\n",
      "Mem before-during-after: 22394880 22469120 22394880\n"
     ]
    },
    {
     "name": "stderr",
     "output_type": "stream",
     "text": [
      " 79%|████████████████████████████▌       | 39.662295081971244/50 [37:16<09:47, 56.85s/it]"
     ]
    },
    {
     "name": "stdout",
     "output_type": "stream",
     "text": [
      "Train Epoch: 50 [3200/3918 (82%)]\tLoss: 0.383095\n",
      "Mem before-during-after: 22394880 22469120 22394880\n"
     ]
    },
    {
     "name": "stderr",
     "output_type": "stream",
     "text": [
      " 80%|█████████████████████████████▍       | 39.79344262295478/50 [37:23<09:44, 57.24s/it]"
     ]
    },
    {
     "name": "stdout",
     "output_type": "stream",
     "text": [
      "Train Epoch: 50 [3840/3918 (98%)]\tLoss: 0.417533\n",
      "Mem before-during-after: 22394880 22469120 22394880\n"
     ]
    },
    {
     "name": "stderr",
     "output_type": "stream",
     "text": [
      " 80%|█████████████████████████████▌       | 40.00327868852843/50 [37:35<09:28, 56.91s/it]"
     ]
    },
    {
     "name": "stdout",
     "output_type": "stream",
     "text": [
      "\n",
      "Test Epoch: 50\tAccuracy: 609/976 (62%)\n",
      "\n",
      "Train Epoch: 51 [0/3918 (0%)]\tLoss: 0.489109\n",
      "Mem before-during-after: 22393856 22469120 22394880\n"
     ]
    },
    {
     "name": "stderr",
     "output_type": "stream",
     "text": [
      " 80%|████████████████████████████▉       | 40.137704918036555/50 [37:42<09:05, 55.31s/it]"
     ]
    },
    {
     "name": "stdout",
     "output_type": "stream",
     "text": [
      "Train Epoch: 51 [640/3918 (16%)]\tLoss: 0.645621\n",
      "Mem before-during-after: 22394880 22469120 22394880\n"
     ]
    },
    {
     "name": "stderr",
     "output_type": "stream",
     "text": [
      " 81%|█████████████████████████████▊       | 40.26885245902009/50 [37:50<09:05, 56.11s/it]"
     ]
    },
    {
     "name": "stdout",
     "output_type": "stream",
     "text": [
      "Train Epoch: 51 [1280/3918 (33%)]\tLoss: 0.746584\n",
      "Mem before-during-after: 22394880 22469120 22394880\n"
     ]
    },
    {
     "name": "stderr",
     "output_type": "stream",
     "text": [
      " 81%|█████████████████████████████▉       | 40.40000000000362/50 [37:57<09:03, 56.60s/it]"
     ]
    },
    {
     "name": "stdout",
     "output_type": "stream",
     "text": [
      "Train Epoch: 51 [1920/3918 (49%)]\tLoss: 0.745545\n",
      "Mem before-during-after: 22394880 22469120 22394880\n"
     ]
    },
    {
     "name": "stderr",
     "output_type": "stream",
     "text": [
      " 81%|█████████████████████████████▏      | 40.531147540987156/50 [38:05<09:03, 57.35s/it]"
     ]
    },
    {
     "name": "stdout",
     "output_type": "stream",
     "text": [
      "Train Epoch: 51 [2560/3918 (66%)]\tLoss: 0.544682\n",
      "Mem before-during-after: 22394880 22469120 22394880\n"
     ]
    },
    {
     "name": "stderr",
     "output_type": "stream",
     "text": [
      " 81%|██████████████████████████████       | 40.66229508197069/50 [38:12<08:31, 54.83s/it]"
     ]
    },
    {
     "name": "stdout",
     "output_type": "stream",
     "text": [
      "Train Epoch: 51 [3200/3918 (82%)]\tLoss: 0.530518\n",
      "Mem before-during-after: 22394880 22469120 22394880\n"
     ]
    },
    {
     "name": "stderr",
     "output_type": "stream",
     "text": [
      " 82%|█████████████████████████████▎      | 40.790163934429636/50 [38:19<08:29, 55.33s/it]"
     ]
    },
    {
     "name": "stdout",
     "output_type": "stream",
     "text": [
      "Train Epoch: 51 [3840/3918 (98%)]\tLoss: 0.962654\n",
      "Mem before-during-after: 22394880 22469120 22394880\n"
     ]
    },
    {
     "name": "stderr",
     "output_type": "stream",
     "text": [
      " 82%|██████████████████████████████▎      | 41.00327868852788/50 [38:31<08:57, 59.73s/it]"
     ]
    },
    {
     "name": "stdout",
     "output_type": "stream",
     "text": [
      "\n",
      "Test Epoch: 51\tAccuracy: 604/976 (62%)\n",
      "\n",
      "Train Epoch: 52 [0/3918 (0%)]\tLoss: 1.029075\n",
      "Mem before-during-after: 22393856 22469120 22394880\n"
     ]
    },
    {
     "name": "stderr",
     "output_type": "stream",
     "text": [
      " 82%|████████████████████████████████       | 41.137704918036/50 [38:39<08:30, 57.60s/it]"
     ]
    },
    {
     "name": "stdout",
     "output_type": "stream",
     "text": [
      "Train Epoch: 52 [640/3918 (16%)]\tLoss: 0.524463\n",
      "Mem before-during-after: 22394880 22469120 22394880\n"
     ]
    },
    {
     "name": "stderr",
     "output_type": "stream",
     "text": [
      " 83%|█████████████████████████████▋      | 41.268852459019534/50 [38:46<08:20, 57.36s/it]"
     ]
    },
    {
     "name": "stdout",
     "output_type": "stream",
     "text": [
      "Train Epoch: 52 [1280/3918 (33%)]\tLoss: 0.539367\n",
      "Mem before-during-after: 22394880 22469120 22394880\n"
     ]
    },
    {
     "name": "stderr",
     "output_type": "stream",
     "text": [
      " 83%|██████████████████████████████▋      | 41.40000000000307/50 [38:54<08:00, 55.89s/it]"
     ]
    },
    {
     "name": "stdout",
     "output_type": "stream",
     "text": [
      "Train Epoch: 52 [1920/3918 (49%)]\tLoss: 0.732164\n",
      "Mem before-during-after: 22394880 22469120 22394880\n"
     ]
    },
    {
     "name": "stderr",
     "output_type": "stream",
     "text": [
      " 83%|███████████████████████████████▌      | 41.5311475409866/50 [39:01<07:56, 56.25s/it]"
     ]
    },
    {
     "name": "stdout",
     "output_type": "stream",
     "text": [
      "Train Epoch: 52 [2560/3918 (66%)]\tLoss: 0.442487\n",
      "Mem before-during-after: 22394880 22469120 22394880\n"
     ]
    },
    {
     "name": "stderr",
     "output_type": "stream",
     "text": [
      " 83%|█████████████████████████████▉      | 41.662295081970136/50 [39:09<07:49, 56.25s/it]"
     ]
    },
    {
     "name": "stdout",
     "output_type": "stream",
     "text": [
      "Train Epoch: 52 [3200/3918 (82%)]\tLoss: 0.409386\n",
      "Mem before-during-after: 22394880 22469120 22394880\n"
     ]
    },
    {
     "name": "stderr",
     "output_type": "stream",
     "text": [
      " 84%|██████████████████████████████▉      | 41.79344262295367/50 [39:16<07:40, 56.08s/it]"
     ]
    },
    {
     "name": "stdout",
     "output_type": "stream",
     "text": [
      "Train Epoch: 52 [3840/3918 (98%)]\tLoss: 0.400952\n",
      "Mem before-during-after: 22394880 22469120 22394880\n"
     ]
    },
    {
     "name": "stderr",
     "output_type": "stream",
     "text": [
      " 84%|██████████████████████████████▏     | 42.003278688527324/50 [39:28<07:23, 55.42s/it]"
     ]
    },
    {
     "name": "stdout",
     "output_type": "stream",
     "text": [
      "\n",
      "Test Epoch: 52\tAccuracy: 601/976 (61%)\n",
      "\n",
      "Train Epoch: 53 [0/3918 (0%)]\tLoss: 0.459247\n",
      "Mem before-during-after: 22393856 22469120 22394880\n"
     ]
    },
    {
     "name": "stderr",
     "output_type": "stream",
     "text": [
      " 84%|██████████████████████████████▎     | 42.137704918035446/50 [39:36<07:14, 55.32s/it]"
     ]
    },
    {
     "name": "stdout",
     "output_type": "stream",
     "text": [
      "Train Epoch: 53 [640/3918 (16%)]\tLoss: 0.453440\n",
      "Mem before-during-after: 22394880 22469120 22394880\n"
     ]
    },
    {
     "name": "stderr",
     "output_type": "stream",
     "text": [
      " 85%|███████████████████████████████▎     | 42.26885245901898/50 [39:43<07:19, 56.79s/it]"
     ]
    },
    {
     "name": "stdout",
     "output_type": "stream",
     "text": [
      "Train Epoch: 53 [1280/3918 (33%)]\tLoss: 1.038116\n",
      "Mem before-during-after: 22394880 22469120 22394880\n"
     ]
    },
    {
     "name": "stderr",
     "output_type": "stream",
     "text": [
      " 85%|██████████████████████████████▌     | 42.400000000002514/50 [39:51<07:21, 58.04s/it]"
     ]
    },
    {
     "name": "stdout",
     "output_type": "stream",
     "text": [
      "Train Epoch: 53 [1920/3918 (49%)]\tLoss: 0.358322\n",
      "Mem before-during-after: 22394880 22469120 22394880\n"
     ]
    },
    {
     "name": "stderr",
     "output_type": "stream",
     "text": [
      " 85%|███████████████████████████████▍     | 42.53114754098605/50 [39:58<07:08, 57.42s/it]"
     ]
    },
    {
     "name": "stdout",
     "output_type": "stream",
     "text": [
      "Train Epoch: 53 [2560/3918 (66%)]\tLoss: 0.328719\n",
      "Mem before-during-after: 22394880 22469120 22394880\n"
     ]
    },
    {
     "name": "stderr",
     "output_type": "stream",
     "text": [
      " 85%|███████████████████████████████▌     | 42.66229508196958/50 [40:05<06:50, 55.96s/it]"
     ]
    },
    {
     "name": "stdout",
     "output_type": "stream",
     "text": [
      "Train Epoch: 53 [3200/3918 (82%)]\tLoss: 0.634868\n",
      "Mem before-during-after: 22394880 22469120 22394880\n"
     ]
    },
    {
     "name": "stderr",
     "output_type": "stream",
     "text": [
      " 86%|███████████████████████████████▋     | 42.79016393442853/50 [40:13<07:01, 58.51s/it]"
     ]
    },
    {
     "name": "stdout",
     "output_type": "stream",
     "text": [
      "Train Epoch: 53 [3840/3918 (98%)]\tLoss: 0.829627\n",
      "Mem before-during-after: 22394880 22469120 22394880\n"
     ]
    },
    {
     "name": "stderr",
     "output_type": "stream",
     "text": [
      " 86%|███████████████████████████████▊     | 43.00000000000218/50 [40:25<06:25, 55.05s/it]"
     ]
    },
    {
     "name": "stdout",
     "output_type": "stream",
     "text": [
      "\n",
      "Test Epoch: 53\tAccuracy: 589/976 (60%)\n",
      "\n"
     ]
    },
    {
     "name": "stderr",
     "output_type": "stream",
     "text": [
      " 86%|███████████████████████████████▊     | 43.00655737705136/50 [40:26<06:37, 56.82s/it]"
     ]
    },
    {
     "name": "stdout",
     "output_type": "stream",
     "text": [
      "Train Epoch: 54 [0/3918 (0%)]\tLoss: 0.453221\n",
      "Mem before-during-after: 22393856 22469120 22394880\n"
     ]
    },
    {
     "name": "stderr",
     "output_type": "stream",
     "text": [
      " 86%|███████████████████████████████     | 43.134426229510304/50 [40:33<06:27, 56.49s/it]"
     ]
    },
    {
     "name": "stdout",
     "output_type": "stream",
     "text": [
      "Train Epoch: 54 [640/3918 (16%)]\tLoss: 0.866921\n",
      "Mem before-during-after: 22394880 22469120 22394880\n"
     ]
    },
    {
     "name": "stderr",
     "output_type": "stream",
     "text": [
      " 87%|███████████████████████████████▏    | 43.268852459018426/50 [40:41<06:44, 60.09s/it]"
     ]
    },
    {
     "name": "stdout",
     "output_type": "stream",
     "text": [
      "Train Epoch: 54 [1280/3918 (33%)]\tLoss: 0.382206\n",
      "Mem before-during-after: 22394880 22469120 22394880\n"
     ]
    },
    {
     "name": "stderr",
     "output_type": "stream",
     "text": [
      " 87%|████████████████████████████████     | 43.40000000000196/50 [40:48<06:03, 55.05s/it]"
     ]
    },
    {
     "name": "stdout",
     "output_type": "stream",
     "text": [
      "Train Epoch: 54 [1920/3918 (49%)]\tLoss: 0.663975\n",
      "Mem before-during-after: 22394880 22469120 22394880\n"
     ]
    },
    {
     "name": "stderr",
     "output_type": "stream",
     "text": [
      " 87%|████████████████████████████████▏    | 43.53114754098549/50 [40:56<06:04, 56.29s/it]"
     ]
    },
    {
     "name": "stdout",
     "output_type": "stream",
     "text": [
      "Train Epoch: 54 [2560/3918 (66%)]\tLoss: 0.489106\n",
      "Mem before-during-after: 22394880 22469120 22394880\n"
     ]
    },
    {
     "name": "stderr",
     "output_type": "stream",
     "text": [
      " 87%|████████████████████████████████▎    | 43.65901639344444/50 [41:03<05:58, 56.46s/it]"
     ]
    },
    {
     "name": "stdout",
     "output_type": "stream",
     "text": [
      "Train Epoch: 54 [3200/3918 (82%)]\tLoss: 0.498745\n",
      "Mem before-during-after: 22394880 22469120 22394880\n"
     ]
    },
    {
     "name": "stderr",
     "output_type": "stream",
     "text": [
      " 88%|████████████████████████████████▍    | 43.79344262295256/50 [41:11<05:45, 55.60s/it]"
     ]
    },
    {
     "name": "stdout",
     "output_type": "stream",
     "text": [
      "Train Epoch: 54 [3840/3918 (98%)]\tLoss: 0.743478\n",
      "Mem before-during-after: 22394880 22469120 22394880\n"
     ]
    },
    {
     "name": "stderr",
     "output_type": "stream",
     "text": [
      " 88%|████████████████████████████████▌    | 44.00000000000163/50 [41:23<05:31, 55.28s/it]"
     ]
    },
    {
     "name": "stdout",
     "output_type": "stream",
     "text": [
      "\n",
      "Test Epoch: 54\tAccuracy: 597/976 (61%)\n",
      "\n"
     ]
    },
    {
     "name": "stderr",
     "output_type": "stream",
     "text": [
      " 88%|███████████████████████████████▋    | 44.006557377050804/50 [41:23<05:35, 56.00s/it]"
     ]
    },
    {
     "name": "stdout",
     "output_type": "stream",
     "text": [
      "Train Epoch: 55 [0/3918 (0%)]\tLoss: 0.341983\n",
      "Mem before-during-after: 22393856 22469120 22394880\n"
     ]
    },
    {
     "name": "stderr",
     "output_type": "stream",
     "text": [
      " 88%|████████████████████████████████▋    | 44.13770491803434/50 [41:30<05:26, 55.72s/it]"
     ]
    },
    {
     "name": "stdout",
     "output_type": "stream",
     "text": [
      "Train Epoch: 55 [640/3918 (16%)]\tLoss: 0.531200\n",
      "Mem before-during-after: 22394880 22469120 22394880\n"
     ]
    },
    {
     "name": "stderr",
     "output_type": "stream",
     "text": [
      " 89%|████████████████████████████████▊    | 44.26557377049328/50 [41:38<05:14, 54.91s/it]"
     ]
    },
    {
     "name": "stdout",
     "output_type": "stream",
     "text": [
      "Train Epoch: 55 [1280/3918 (33%)]\tLoss: 0.572995\n",
      "Mem before-during-after: 22394880 22469120 22394880\n"
     ]
    },
    {
     "name": "stderr",
     "output_type": "stream",
     "text": [
      " 89%|███████████████████████████████▉    | 44.400000000001405/50 [41:45<05:11, 55.69s/it]"
     ]
    },
    {
     "name": "stdout",
     "output_type": "stream",
     "text": [
      "Train Epoch: 55 [1920/3918 (49%)]\tLoss: 0.461301\n",
      "Mem before-during-after: 22394880 22469120 22394880\n"
     ]
    },
    {
     "name": "stderr",
     "output_type": "stream",
     "text": [
      " 89%|████████████████████████████████▉    | 44.53114754098494/50 [41:53<05:03, 55.49s/it]"
     ]
    },
    {
     "name": "stdout",
     "output_type": "stream",
     "text": [
      "Train Epoch: 55 [2560/3918 (66%)]\tLoss: 0.420279\n",
      "Mem before-during-after: 22394880 22469120 22394880\n"
     ]
    },
    {
     "name": "stderr",
     "output_type": "stream",
     "text": [
      " 89%|█████████████████████████████████    | 44.66229508196847/50 [42:00<04:58, 55.95s/it]"
     ]
    },
    {
     "name": "stdout",
     "output_type": "stream",
     "text": [
      "Train Epoch: 55 [3200/3918 (82%)]\tLoss: 0.613989\n",
      "Mem before-during-after: 22394880 22469120 22394880\n"
     ]
    },
    {
     "name": "stderr",
     "output_type": "stream",
     "text": [
      " 90%|█████████████████████████████████▏   | 44.79344262295201/50 [42:08<04:54, 56.64s/it]"
     ]
    },
    {
     "name": "stdout",
     "output_type": "stream",
     "text": [
      "Train Epoch: 55 [3840/3918 (98%)]\tLoss: 0.618880\n",
      "Mem before-during-after: 22394880 22469120 22394880\n"
     ]
    },
    {
     "name": "stderr",
     "output_type": "stream",
     "text": [
      " 90%|█████████████████████████████████▎   | 45.00327868852566/50 [42:20<04:48, 57.79s/it]"
     ]
    },
    {
     "name": "stdout",
     "output_type": "stream",
     "text": [
      "\n",
      "Test Epoch: 55\tAccuracy: 592/976 (60%)\n",
      "\n",
      "Train Epoch: 56 [0/3918 (0%)]\tLoss: 0.774542\n",
      "Mem before-during-after: 22393856 22469120 22394880\n"
     ]
    },
    {
     "name": "stderr",
     "output_type": "stream",
     "text": [
      " 90%|█████████████████████████████████▍   | 45.13770491803378/50 [42:28<04:33, 56.21s/it]"
     ]
    },
    {
     "name": "stdout",
     "output_type": "stream",
     "text": [
      "Train Epoch: 56 [640/3918 (16%)]\tLoss: 0.745835\n",
      "Mem before-during-after: 22394880 22469120 22394880\n"
     ]
    },
    {
     "name": "stderr",
     "output_type": "stream",
     "text": [
      " 91%|█████████████████████████████████▍   | 45.26885245901732/50 [42:35<04:21, 55.21s/it]"
     ]
    },
    {
     "name": "stdout",
     "output_type": "stream",
     "text": [
      "Train Epoch: 56 [1280/3918 (33%)]\tLoss: 1.002696\n",
      "Mem before-during-after: 22394880 22469120 22394880\n"
     ]
    },
    {
     "name": "stderr",
     "output_type": "stream",
     "text": [
      " 91%|█████████████████████████████████▌   | 45.39672131147626/50 [42:42<04:19, 56.29s/it]"
     ]
    },
    {
     "name": "stdout",
     "output_type": "stream",
     "text": [
      "Train Epoch: 56 [1920/3918 (49%)]\tLoss: 0.375115\n",
      "Mem before-during-after: 22394880 22469120 22394880\n"
     ]
    },
    {
     "name": "stderr",
     "output_type": "stream",
     "text": [
      " 91%|████████████████████████████████▊   | 45.531147540984385/50 [42:50<04:21, 58.62s/it]"
     ]
    },
    {
     "name": "stdout",
     "output_type": "stream",
     "text": [
      "Train Epoch: 56 [2560/3918 (66%)]\tLoss: 0.564696\n",
      "Mem before-during-after: 22394880 22469120 22394880\n"
     ]
    },
    {
     "name": "stderr",
     "output_type": "stream",
     "text": [
      " 91%|█████████████████████████████████▊   | 45.66229508196792/50 [42:57<03:59, 55.24s/it]"
     ]
    },
    {
     "name": "stdout",
     "output_type": "stream",
     "text": [
      "Train Epoch: 56 [3200/3918 (82%)]\tLoss: 0.797114\n",
      "Mem before-during-after: 22394880 22469120 22394880\n"
     ]
    },
    {
     "name": "stderr",
     "output_type": "stream",
     "text": [
      " 92%|█████████████████████████████████▉   | 45.79344262295145/50 [43:05<03:54, 55.73s/it]"
     ]
    },
    {
     "name": "stdout",
     "output_type": "stream",
     "text": [
      "Train Epoch: 56 [3840/3918 (98%)]\tLoss: 0.470303\n",
      "Mem before-during-after: 22394880 22469120 22394880\n"
     ]
    },
    {
     "name": "stderr",
     "output_type": "stream",
     "text": [
      " 92%|██████████████████████████████████   | 46.00000000000052/50 [43:16<03:43, 55.97s/it]"
     ]
    },
    {
     "name": "stdout",
     "output_type": "stream",
     "text": [
      "\n",
      "Test Epoch: 56\tAccuracy: 601/976 (61%)\n",
      "\n"
     ]
    },
    {
     "name": "stderr",
     "output_type": "stream",
     "text": [
      " 92%|█████████████████████████████████   | 46.006557377049695/50 [43:17<03:54, 58.69s/it]"
     ]
    },
    {
     "name": "stdout",
     "output_type": "stream",
     "text": [
      "Train Epoch: 57 [0/3918 (0%)]\tLoss: 0.493074\n",
      "Mem before-during-after: 22393856 22469120 22394880\n"
     ]
    },
    {
     "name": "stderr",
     "output_type": "stream",
     "text": [
      " 92%|██████████████████████████████████▏  | 46.13770491803323/50 [43:24<03:36, 56.18s/it]"
     ]
    },
    {
     "name": "stdout",
     "output_type": "stream",
     "text": [
      "Train Epoch: 57 [640/3918 (16%)]\tLoss: 0.210079\n",
      "Mem before-during-after: 22394880 22469120 22394880\n"
     ]
    },
    {
     "name": "stderr",
     "output_type": "stream",
     "text": [
      " 93%|██████████████████████████████████▏  | 46.26885245901676/50 [43:31<03:28, 55.76s/it]"
     ]
    },
    {
     "name": "stdout",
     "output_type": "stream",
     "text": [
      "Train Epoch: 57 [1280/3918 (33%)]\tLoss: 0.436923\n",
      "Mem before-during-after: 22394880 22469120 22394880\n"
     ]
    },
    {
     "name": "stderr",
     "output_type": "stream",
     "text": [
      " 93%|███████████████████████████████████▎  | 46.4000000000003/50 [43:39<03:22, 56.31s/it]"
     ]
    },
    {
     "name": "stdout",
     "output_type": "stream",
     "text": [
      "Train Epoch: 57 [1920/3918 (49%)]\tLoss: 0.532727\n",
      "Mem before-during-after: 22394880 22469120 22394880\n"
     ]
    },
    {
     "name": "stderr",
     "output_type": "stream",
     "text": [
      " 93%|██████████████████████████████████▍  | 46.53114754098383/50 [43:46<03:19, 57.58s/it]"
     ]
    },
    {
     "name": "stdout",
     "output_type": "stream",
     "text": [
      "Train Epoch: 57 [2560/3918 (66%)]\tLoss: 0.836052\n",
      "Mem before-during-after: 22394880 22469120 22394880\n"
     ]
    },
    {
     "name": "stderr",
     "output_type": "stream",
     "text": [
      " 93%|█████████████████████████████████▌  | 46.662295081967365/50 [43:54<03:08, 56.53s/it]"
     ]
    },
    {
     "name": "stdout",
     "output_type": "stream",
     "text": [
      "Train Epoch: 57 [3200/3918 (82%)]\tLoss: 0.457591\n",
      "Mem before-during-after: 22394880 22469120 22394880\n"
     ]
    },
    {
     "name": "stderr",
     "output_type": "stream",
     "text": [
      " 94%|███████████████████████████████████▌  | 46.7934426229509/50 [44:01<02:58, 55.74s/it]"
     ]
    },
    {
     "name": "stdout",
     "output_type": "stream",
     "text": [
      "Train Epoch: 57 [3840/3918 (98%)]\tLoss: 0.515414\n",
      "Mem before-during-after: 22394880 22469120 22394880\n"
     ]
    },
    {
     "name": "stderr",
     "output_type": "stream",
     "text": [
      " 94%|██████████████████████████████████▊  | 47.00327868852455/50 [44:13<02:50, 56.93s/it]"
     ]
    },
    {
     "name": "stdout",
     "output_type": "stream",
     "text": [
      "\n",
      "Test Epoch: 57\tAccuracy: 582/976 (59%)\n",
      "\n",
      "Train Epoch: 58 [0/3918 (0%)]\tLoss: 0.365284\n",
      "Mem before-during-after: 22393856 22469120 22394880\n"
     ]
    },
    {
     "name": "stderr",
     "output_type": "stream",
     "text": [
      " 94%|█████████████████████████████████▉  | 47.137704918032675/50 [44:21<02:41, 56.30s/it]"
     ]
    },
    {
     "name": "stdout",
     "output_type": "stream",
     "text": [
      "Train Epoch: 58 [640/3918 (16%)]\tLoss: 0.136232\n",
      "Mem before-during-after: 22394880 22469120 22394880\n"
     ]
    },
    {
     "name": "stderr",
     "output_type": "stream",
     "text": [
      " 95%|██████████████████████████████████▉  | 47.26885245901621/50 [44:28<02:34, 56.55s/it]"
     ]
    },
    {
     "name": "stdout",
     "output_type": "stream",
     "text": [
      "Train Epoch: 58 [1280/3918 (33%)]\tLoss: 0.478170\n",
      "Mem before-during-after: 22394880 22469120 22394880\n"
     ]
    },
    {
     "name": "stderr",
     "output_type": "stream",
     "text": [
      " 95%|██████████████████████████████████▏ | 47.396721311475154/50 [44:36<02:26, 56.32s/it]"
     ]
    },
    {
     "name": "stdout",
     "output_type": "stream",
     "text": [
      "Train Epoch: 58 [1920/3918 (49%)]\tLoss: 0.341755\n",
      "Mem before-during-after: 22394880 22469120 22394880\n"
     ]
    },
    {
     "name": "stderr",
     "output_type": "stream",
     "text": [
      " 95%|███████████████████████████████████▏ | 47.53114754098328/50 [44:43<02:18, 56.02s/it]"
     ]
    },
    {
     "name": "stdout",
     "output_type": "stream",
     "text": [
      "Train Epoch: 58 [2560/3918 (66%)]\tLoss: 0.449871\n",
      "Mem before-during-after: 22394880 22469120 22394880\n"
     ]
    },
    {
     "name": "stderr",
     "output_type": "stream",
     "text": [
      " 95%|███████████████████████████████████▎ | 47.66229508196681/50 [44:51<02:11, 56.14s/it]"
     ]
    },
    {
     "name": "stdout",
     "output_type": "stream",
     "text": [
      "Train Epoch: 58 [3200/3918 (82%)]\tLoss: 0.398055\n",
      "Mem before-during-after: 22394880 22469120 22394880\n"
     ]
    },
    {
     "name": "stderr",
     "output_type": "stream",
     "text": [
      " 96%|██████████████████████████████████▍ | 47.793442622950344/50 [44:58<02:03, 56.01s/it]"
     ]
    },
    {
     "name": "stdout",
     "output_type": "stream",
     "text": [
      "Train Epoch: 58 [3840/3918 (98%)]\tLoss: 0.537779\n",
      "Mem before-during-after: 22394880 22469120 22394880\n"
     ]
    },
    {
     "name": "stderr",
     "output_type": "stream",
     "text": [
      " 96%|█████████████████████████████████████▍ | 48.003278688524/50 [45:10<01:49, 54.68s/it]"
     ]
    },
    {
     "name": "stdout",
     "output_type": "stream",
     "text": [
      "\n",
      "Test Epoch: 58\tAccuracy: 574/976 (59%)\n",
      "\n",
      "Train Epoch: 59 [0/3918 (0%)]\tLoss: 0.250502\n",
      "Mem before-during-after: 22393856 22469120 22394880\n"
     ]
    },
    {
     "name": "stderr",
     "output_type": "stream",
     "text": [
      " 96%|███████████████████████████████████▌ | 48.13770491803212/50 [45:17<01:49, 58.81s/it]"
     ]
    },
    {
     "name": "stdout",
     "output_type": "stream",
     "text": [
      "Train Epoch: 59 [640/3918 (16%)]\tLoss: 0.280411\n",
      "Mem before-during-after: 22394880 22469120 22394880\n"
     ]
    },
    {
     "name": "stderr",
     "output_type": "stream",
     "text": [
      " 97%|██████████████████████████████████▊ | 48.268852459015655/50 [45:25<01:36, 55.86s/it]"
     ]
    },
    {
     "name": "stdout",
     "output_type": "stream",
     "text": [
      "Train Epoch: 59 [1280/3918 (33%)]\tLoss: 0.633634\n",
      "Mem before-during-after: 22394880 22469120 22394880\n"
     ]
    },
    {
     "name": "stderr",
     "output_type": "stream",
     "text": [
      " 97%|███████████████████████████████████▊ | 48.39999999999919/50 [45:32<01:30, 56.26s/it]"
     ]
    },
    {
     "name": "stdout",
     "output_type": "stream",
     "text": [
      "Train Epoch: 59 [1920/3918 (49%)]\tLoss: 0.372555\n",
      "Mem before-during-after: 22394880 22469120 22394880\n"
     ]
    },
    {
     "name": "stderr",
     "output_type": "stream",
     "text": [
      " 97%|███████████████████████████████████▉ | 48.53114754098272/50 [45:40<01:21, 55.33s/it]"
     ]
    },
    {
     "name": "stdout",
     "output_type": "stream",
     "text": [
      "Train Epoch: 59 [2560/3918 (66%)]\tLoss: 0.545226\n",
      "Mem before-during-after: 22394880 22469120 22394880\n"
     ]
    },
    {
     "name": "stderr",
     "output_type": "stream",
     "text": [
      " 97%|███████████████████████████████████ | 48.662295081966256/50 [45:47<01:16, 57.42s/it]"
     ]
    },
    {
     "name": "stdout",
     "output_type": "stream",
     "text": [
      "Train Epoch: 59 [3200/3918 (82%)]\tLoss: 0.579282\n",
      "Mem before-during-after: 22394880 22469120 22394880\n"
     ]
    },
    {
     "name": "stderr",
     "output_type": "stream",
     "text": [
      " 98%|████████████████████████████████████ | 48.79344262294979/50 [45:55<01:09, 57.44s/it]"
     ]
    },
    {
     "name": "stdout",
     "output_type": "stream",
     "text": [
      "Train Epoch: 59 [3840/3918 (98%)]\tLoss: 0.495558\n",
      "Mem before-during-after: 22394880 22469120 22394880\n"
     ]
    },
    {
     "name": "stderr",
     "output_type": "stream",
     "text": [
      " 98%|███████████████████████████████████▎| 49.003278688523444/50 [46:06<00:56, 57.13s/it]"
     ]
    },
    {
     "name": "stdout",
     "output_type": "stream",
     "text": [
      "\n",
      "Test Epoch: 59\tAccuracy: 576/976 (59%)\n",
      "\n",
      "Train Epoch: 60 [0/3918 (0%)]\tLoss: 0.472857\n",
      "Mem before-during-after: 22393856 22469120 22394880\n"
     ]
    },
    {
     "name": "stderr",
     "output_type": "stream",
     "text": [
      " 98%|████████████████████████████████████▎| 49.13442622950698/50 [46:14<00:49, 57.23s/it]"
     ]
    },
    {
     "name": "stdout",
     "output_type": "stream",
     "text": [
      "Train Epoch: 60 [640/3918 (16%)]\tLoss: 0.660035\n",
      "Mem before-during-after: 22394880 22469120 22394880\n"
     ]
    },
    {
     "name": "stderr",
     "output_type": "stream",
     "text": [
      " 99%|█████████████████████████████████████▍| 49.2688524590151/50 [46:22<00:41, 56.45s/it]"
     ]
    },
    {
     "name": "stdout",
     "output_type": "stream",
     "text": [
      "Train Epoch: 60 [1280/3918 (33%)]\tLoss: 0.243204\n",
      "Mem before-during-after: 22394880 22469120 22394880\n"
     ]
    },
    {
     "name": "stderr",
     "output_type": "stream",
     "text": [
      " 99%|███████████████████████████████████▌| 49.399999999998634/50 [46:29<00:34, 57.00s/it]"
     ]
    },
    {
     "name": "stdout",
     "output_type": "stream",
     "text": [
      "Train Epoch: 60 [1920/3918 (49%)]\tLoss: 0.760577\n",
      "Mem before-during-after: 22394880 22469120 22394880\n"
     ]
    },
    {
     "name": "stderr",
     "output_type": "stream",
     "text": [
      " 99%|████████████████████████████████████▋| 49.53114754098217/50 [46:37<00:26, 57.37s/it]"
     ]
    },
    {
     "name": "stdout",
     "output_type": "stream",
     "text": [
      "Train Epoch: 60 [2560/3918 (66%)]\tLoss: 0.564563\n",
      "Mem before-during-after: 22394880 22469120 22394880\n"
     ]
    },
    {
     "name": "stderr",
     "output_type": "stream",
     "text": [
      " 99%|█████████████████████████████████████▋| 49.6622950819657/50 [46:44<00:19, 58.90s/it]"
     ]
    },
    {
     "name": "stdout",
     "output_type": "stream",
     "text": [
      "Train Epoch: 60 [3200/3918 (82%)]\tLoss: 0.646707\n",
      "Mem before-during-after: 22394880 22469120 22394880\n"
     ]
    },
    {
     "name": "stderr",
     "output_type": "stream",
     "text": [
      "100%|███████████████████████████████████▊| 49.793442622949236/50 [46:52<00:11, 56.36s/it]"
     ]
    },
    {
     "name": "stdout",
     "output_type": "stream",
     "text": [
      "Train Epoch: 60 [3840/3918 (98%)]\tLoss: 0.667042\n",
      "Mem before-during-after: 22394880 22469120 22394880\n"
     ]
    },
    {
     "name": "stderr",
     "output_type": "stream",
     "text": [
      "100%|█████████████████████████████████████▉| 49.9999999999983/50 [47:03<00:00, 56.48s/it]"
     ]
    },
    {
     "name": "stdout",
     "output_type": "stream",
     "text": [
      "\n",
      "Test Epoch: 60\tAccuracy: 577/976 (59%)\n",
      "\n"
     ]
    },
    {
     "name": "stderr",
     "output_type": "stream",
     "text": [
      "\n"
     ]
    }
   ],
   "source": [
    "n_epoch = 10\n",
    "n_epoch2 = 50\n",
    "best_accuracy = test_accuracy[-1]\n",
    "best_epoch = n_epoch\n",
    "model_path_prefix = '../models_cremad4/cremad_label4_m13mfcc_best_'\n",
    "\n",
    "optimizer = optim.RAdam(model.parameters(), lr=0.00002)\n",
    "scheduler = optim.lr_scheduler.OneCycleLR(\n",
    "    optimizer, max_lr=0.01,\n",
    "    steps_per_epoch=len(train_loader), epochs=n_epoch2)\n",
    "log_interval = 40\n",
    "pbar_update = 1 / (len(train_loader) + len(test_loader))\n",
    "# model.to(device)\n",
    "with tqdm(total=n_epoch2) as pbar:\n",
    "    for epoch in range(1+n_epoch, n_epoch2 + n_epoch + 1):\n",
    "        train(model, epoch, log_interval, train_losses)\n",
    "        acc = test(model, epoch)\n",
    "        test_accuracy += [acc]\n",
    "        if acc > best_accuracy:\n",
    "            best_accuracy = acc\n",
    "            best_epoch = epoch\n",
    "            bmodel_path = f'{model_path_prefix}{epoch}epoch.pt'\n",
    "            torch.save(model.state_dict(), bmodel_path)\n",
    "            print(f'saved model: {bmodel_path}')\n",
    "        scheduler.step()"
   ]
  },
  {
   "cell_type": "code",
   "execution_count": 32,
   "id": "f49b40ce-bc85-4cf8-8107-030fe87276ef",
   "metadata": {},
   "outputs": [],
   "source": [
    "from torchmetrics.classification import (\n",
    "    MulticlassAccuracy, MulticlassPrecision, \n",
    "    MulticlassRecall, MulticlassF1Score, \n",
    "    MulticlassConfusionMatrix,\n",
    "    MulticlassAUROC\n",
    ")\n",
    "from torchmetrics import MetricCollection\n",
    "from pprint import pprint\n",
    "\n",
    "@torch.no_grad\n",
    "def report_metrics(model, labels=labels, \n",
    "                   test_loader=test_loader, device=device):\n",
    "    n = len(labels)\n",
    "    metrics = MetricCollection({\n",
    "        'acc_unweighted': MulticlassAccuracy(num_classes=n, average='macro'), \n",
    "        'acc_weighted': MulticlassAccuracy(num_classes=n, average='weighted'), \n",
    "        \n",
    "        'f1s_unweighted': MulticlassF1Score(num_classes=n, average='macro'),  \n",
    "        'f1s_weighted': MulticlassF1Score(num_classes=n, average='weighted'),  \n",
    "\n",
    "        'acc_weighted': MulticlassAccuracy(num_classes=n, average='weighted'), \n",
    "        'uar': MulticlassRecall(num_classes=n, average='macro'), \n",
    "        'wap': MulticlassPrecision(num_classes=n, average='weighted'),\n",
    "        'rocauc': MulticlassAUROC(num_classes=n, average='macro', thresholds=None),    \n",
    "        'f1s_detail': MulticlassF1Score(num_classes=n, average=None),  \n",
    "        'acc_detail': MulticlassAccuracy(num_classes=n, average=None), \n",
    "        'precision_detail': MulticlassPrecision(num_classes=n, average=None),\n",
    "        'recall_detail': MulticlassRecall(num_classes=n, average=None), \n",
    "        'rocauc_detail': MulticlassAUROC(num_classes=n, average=None, thresholds=None),\n",
    "    }).to(device)\n",
    "    confusion_matrix = MulticlassConfusionMatrix(num_classes=n).to(device)\n",
    "    model.eval()\n",
    "    correct = 0\n",
    "    total = 0\n",
    "    for data, target in test_loader:\n",
    "        total += len(target)\n",
    "        \n",
    "        data = data.to(device)\n",
    "        target = target.to(device)\n",
    "        output = model(data).squeeze()\n",
    "        del data\n",
    "        gc.collect()\n",
    "        torch.cuda.empty_cache()\n",
    "        probs = F.softmax(output, dim=-1)\n",
    "        pred = probs.argmax(dim=-1)\n",
    "        correct += pred.eq(target).sum().item()\n",
    "        \n",
    "        metrics.update(probs, target)\n",
    "        confusion_matrix.update(pred, target)\n",
    "        \n",
    "        del target\n",
    "        gc.collect()\n",
    "        torch.cuda.empty_cache()\n",
    "        pbar.update(pbar_update)\n",
    "    print(f'Correct: {correct}/{total} ({correct/total:.4f})')\n",
    "    return metrics, confusion_matrix"
   ]
  },
  {
   "cell_type": "code",
   "execution_count": 33,
   "id": "7908fb16-c7f7-41c3-bc27-8ca0ccf98a5e",
   "metadata": {},
   "outputs": [
    {
     "data": {
      "text/plain": [
       "[<matplotlib.lines.Line2D at 0x7f8b38ad7a30>]"
      ]
     },
     "execution_count": 33,
     "metadata": {},
     "output_type": "execute_result"
    },
    {
     "data": {
      "image/png": "[encoded data removed]",
      "text/plain": [
       "<Figure size 640x480 with 1 Axes>"
      ]
     },
     "metadata": {},
     "output_type": "display_data"
    }
   ],
   "source": [
    "plt.plot(train_losses)"
   ]
  },
  {
   "cell_type": "code",
   "execution_count": 34,
   "id": "d6d1bbcd-ae40-4624-9f03-eafbb361ff86",
   "metadata": {},
   "outputs": [
    {
     "data": {
      "text/plain": [
       "[<matplotlib.lines.Line2D at 0x7f8b38a60640>]"
      ]
     },
     "execution_count": 34,
     "metadata": {},
     "output_type": "execute_result"
    },
    {
     "data": {
      "image/png": "[encoded data removed]",
      "text/plain": [
       "<Figure size 640x480 with 1 Axes>"
      ]
     },
     "metadata": {},
     "output_type": "display_data"
    }
   ],
   "source": [
    "plt.plot(test_accuracy)"
   ]
  },
  {
   "cell_type": "code",
   "execution_count": 35,
   "id": "bde77f7a-2403-4cdf-8a17-b417fbaf44b9",
   "metadata": {},
   "outputs": [
    {
     "name": "stdout",
     "output_type": "stream",
     "text": [
      "Correct: 577/976 (0.5912)\n",
      "{'acc_detail': tensor([0.6457, 0.4259, 0.7205, 0.5476], device='cuda:0'),\n",
      " 'acc_unweighted': tensor(0.5849, device='cuda:0'),\n",
      " 'acc_weighted': tensor(0.5912, device='cuda:0'),\n",
      " 'f1s_detail': tensor([0.6708, 0.4444, 0.7079, 0.5188], device='cuda:0'),\n",
      " 'f1s_unweighted': tensor(0.5855, device='cuda:0'),\n",
      " 'f1s_weighted': tensor(0.5911, device='cuda:0'),\n",
      " 'precision_detail': tensor([0.6979, 0.4646, 0.6958, 0.4929], device='cuda:0'),\n",
      " 'recall_detail': tensor([0.6457, 0.4259, 0.7205, 0.5476], device='cuda:0'),\n",
      " 'rocauc': tensor(0.8409, device='cuda:0'),\n",
      " 'rocauc_detail': tensor([0.8913, 0.8034, 0.9072, 0.7618], device='cuda:0'),\n",
      " 'uar': tensor(0.5849, device='cuda:0'),\n",
      " 'wap': tensor(0.5928, device='cuda:0')}\n"
     ]
    },
    {
     "data": {
      "text/plain": [
       "tensor([[164,  12,   6,  72],\n",
       "        [ 19,  92,  52,  53],\n",
       "        [  9,  45, 183,  17],\n",
       "        [ 43,  49,  22, 138]], device='cuda:0')"
      ]
     },
     "execution_count": 35,
     "metadata": {},
     "output_type": "execute_result"
    }
   ],
   "source": [
    "metrics2, confusion_matrix2 = report_metrics(\n",
    "    model, labels=labels, device=device)\n",
    "pprint(metrics2.compute())\n",
    "confusion_matrix2.compute()"
   ]
  },
  {
   "cell_type": "code",
   "execution_count": 36,
   "id": "7ec16dea-9d97-4ba8-8f1a-1a32d5a4cd80",
   "metadata": {},
   "outputs": [
    {
     "name": "stdout",
     "output_type": "stream",
     "text": [
      "../models_cremad4/cremad_label4_m13mfcc_best_37epoch.pt\n",
      "Correct: 614/976 (0.6291)\n",
      "{'acc_detail': tensor([0.7126, 0.5370, 0.7480, 0.5040], device='cuda:0'),\n",
      " 'acc_unweighted': tensor(0.6254, device='cuda:0'),\n",
      " 'acc_weighted': tensor(0.6291, device='cuda:0'),\n",
      " 'f1s_detail': tensor([0.7183, 0.5309, 0.7280, 0.5194], device='cuda:0'),\n",
      " 'f1s_unweighted': tensor(0.6241, device='cuda:0'),\n",
      " 'f1s_weighted': tensor(0.6280, device='cuda:0'),\n",
      " 'precision_detail': tensor([0.7240, 0.5249, 0.7090, 0.5359], device='cuda:0'),\n",
      " 'recall_detail': tensor([0.7126, 0.5370, 0.7480, 0.5040], device='cuda:0'),\n",
      " 'rocauc': tensor(0.8527, device='cuda:0'),\n",
      " 'rocauc_detail': tensor([0.9103, 0.8154, 0.9152, 0.7700], device='cuda:0'),\n",
      " 'uar': tensor(0.6254, device='cuda:0'),\n",
      " 'wap': tensor(0.6274, device='cuda:0')}\n"
     ]
    },
    {
     "data": {
      "text/plain": [
       "tensor([[181,  12,   7,  54],\n",
       "        [ 15, 116,  45,  40],\n",
       "        [  4,  44, 190,  16],\n",
       "        [ 50,  49,  26, 127]], device='cuda:0')"
      ]
     },
     "execution_count": 36,
     "metadata": {},
     "output_type": "execute_result"
    }
   ],
   "source": [
    "model.to('cpu')\n",
    "best_model_path = f'{model_path_prefix}{best_epoch}epoch.pt'\n",
    "print(best_model_path)\n",
    "best_model = M13(config=model_config,\n",
    "           n_input=1, n_output=len(labels))\n",
    "best_model.load_state_dict(torch.load(best_model_path))\n",
    "best_model.to(device)\n",
    "\n",
    "metrics_best, confusion_matrix_best = report_metrics(\n",
    "    best_model, labels=labels, device=device)\n",
    "best_model.to('cpu')\n",
    "pprint(metrics_best.compute())\n",
    "confusion_matrix_best.compute()"
   ]
  },
  {
   "cell_type": "code",
   "execution_count": 37,
   "id": "aca219bb-30e2-49a2-8f73-d01c60b1e756",
   "metadata": {},
   "outputs": [],
   "source": [
    "checkpoint_path = f'../models_cremad4/cremad4_m13mfcc_{epoch}epoch.ckpt'\n",
    "torch.save({\n",
    "    'epoch': epoch,\n",
    "    'model_state_dict': model.state_dict(),\n",
    "    'optimizer_state_dict': optimizer.state_dict(),\n",
    "    'loss': train_losses[-1],\n",
    "    'best_epoch': best_epoch,\n",
    "    'best_accuracy': best_accuracy,\n",
    "    'train_losses': train_losses,\n",
    "    'test_accuracy': test_accuracy,\n",
    "    'log_interval': log_interval,\n",
    "    }, checkpoint_path)"
   ]
  },
  {
   "cell_type": "code",
   "execution_count": 38,
   "id": "b9732a5e-fed3-43fc-8bb6-8d09ce34e8b6",
   "metadata": {
    "scrolled": true
   },
   "outputs": [
    {
     "name": "stderr",
     "output_type": "stream",
     "text": [
      "  0%|                                  | 0.003278688524590164/40 [00:00<39:40, 59.53s/it]"
     ]
    },
    {
     "name": "stdout",
     "output_type": "stream",
     "text": [
      "Train Epoch: 61 [0/3918 (0%)]\tLoss: 0.274467\n",
      "Mem before-during-after: 17917440 17992704 18544128\n"
     ]
    },
    {
     "name": "stderr",
     "output_type": "stream",
     "text": [
      "  0%|                                   | 0.13442622950819672/40 [00:08<41:20, 62.23s/it]"
     ]
    },
    {
     "name": "stdout",
     "output_type": "stream",
     "text": [
      "Train Epoch: 61 [640/3918 (16%)]\tLoss: 0.567479\n",
      "Mem before-during-after: 18544128 18618368 18544128\n"
     ]
    },
    {
     "name": "stderr",
     "output_type": "stream",
     "text": [
      "  1%|▏                                  | 0.26885245901639304/40 [00:17<41:01, 61.95s/it]"
     ]
    },
    {
     "name": "stdout",
     "output_type": "stream",
     "text": [
      "Train Epoch: 61 [1280/3918 (33%)]\tLoss: 0.653448\n",
      "Mem before-during-after: 18544128 18618368 18544128\n"
     ]
    },
    {
     "name": "stderr",
     "output_type": "stream",
     "text": [
      "  1%|▎                                   | 0.4000000000000002/40 [00:25<42:17, 64.09s/it]"
     ]
    },
    {
     "name": "stdout",
     "output_type": "stream",
     "text": [
      "Train Epoch: 61 [1920/3918 (49%)]\tLoss: 0.483590\n",
      "Mem before-during-after: 18544128 18618368 18544128\n"
     ]
    },
    {
     "name": "stderr",
     "output_type": "stream",
     "text": [
      "  1%|▍                                   | 0.5278688524590167/40 [00:33<40:08, 61.03s/it]"
     ]
    },
    {
     "name": "stdout",
     "output_type": "stream",
     "text": [
      "Train Epoch: 61 [2560/3918 (66%)]\tLoss: 0.591114\n",
      "Mem before-during-after: 18544128 18618368 18544128\n"
     ]
    },
    {
     "name": "stderr",
     "output_type": "stream",
     "text": [
      "  2%|▌                                   | 0.6622950819672118/40 [00:42<39:33, 60.33s/it]"
     ]
    },
    {
     "name": "stdout",
     "output_type": "stream",
     "text": [
      "Train Epoch: 61 [3200/3918 (82%)]\tLoss: 0.396376\n",
      "Mem before-during-after: 18544128 18618368 18544128\n"
     ]
    },
    {
     "name": "stderr",
     "output_type": "stream",
     "text": [
      "  2%|▋                                   | 0.7934426229508167/40 [00:50<39:33, 60.53s/it]"
     ]
    },
    {
     "name": "stdout",
     "output_type": "stream",
     "text": [
      "Train Epoch: 61 [3840/3918 (98%)]\tLoss: 0.544510\n",
      "Mem before-during-after: 18544128 18618368 18544128\n"
     ]
    },
    {
     "name": "stderr",
     "output_type": "stream",
     "text": [
      "  3%|▉                                   | 1.0032786885245846/40 [01:03<40:53, 62.90s/it]"
     ]
    },
    {
     "name": "stdout",
     "output_type": "stream",
     "text": [
      "\n",
      "Test Epoch: 61\tAccuracy: 579/976 (59%)\n",
      "\n",
      "Train Epoch: 62 [0/3918 (0%)]\tLoss: 0.861760\n",
      "Mem before-during-after: 18543104 18618368 18544128\n"
     ]
    },
    {
     "name": "stderr",
     "output_type": "stream",
     "text": [
      "  3%|█                                   | 1.1344262295081895/40 [01:11<39:47, 61.44s/it]"
     ]
    },
    {
     "name": "stdout",
     "output_type": "stream",
     "text": [
      "Train Epoch: 62 [640/3918 (16%)]\tLoss: 0.382327\n",
      "Mem before-during-after: 18544128 18618368 18544128\n"
     ]
    },
    {
     "name": "stderr",
     "output_type": "stream",
     "text": [
      "  3%|█▏                                  | 1.2655737704917944/40 [01:19<40:11, 62.27s/it]"
     ]
    },
    {
     "name": "stdout",
     "output_type": "stream",
     "text": [
      "Train Epoch: 62 [1280/3918 (33%)]\tLoss: 0.426897\n",
      "Mem before-during-after: 18544128 18618368 18544128\n"
     ]
    },
    {
     "name": "stderr",
     "output_type": "stream",
     "text": [
      "  3%|█▎                                  | 1.3999999999999895/40 [01:28<38:52, 60.44s/it]"
     ]
    },
    {
     "name": "stdout",
     "output_type": "stream",
     "text": [
      "Train Epoch: 62 [1920/3918 (49%)]\tLoss: 0.210772\n",
      "Mem before-during-after: 18544128 18618368 18544128\n"
     ]
    },
    {
     "name": "stderr",
     "output_type": "stream",
     "text": [
      "  4%|█▍                                  | 1.5311475409835944/40 [01:36<39:20, 61.36s/it]"
     ]
    },
    {
     "name": "stdout",
     "output_type": "stream",
     "text": [
      "Train Epoch: 62 [2560/3918 (66%)]\tLoss: 0.308727\n",
      "Mem before-during-after: 18544128 18618368 18544128\n"
     ]
    },
    {
     "name": "stderr",
     "output_type": "stream",
     "text": [
      "  4%|█▍                                  | 1.6622950819671993/40 [01:44<38:52, 60.83s/it]"
     ]
    },
    {
     "name": "stdout",
     "output_type": "stream",
     "text": [
      "Train Epoch: 62 [3200/3918 (82%)]\tLoss: 0.515143\n",
      "Mem before-during-after: 18544128 18618368 18544128\n"
     ]
    },
    {
     "name": "stderr",
     "output_type": "stream",
     "text": [
      "  4%|█▌                                  | 1.7934426229508043/40 [01:52<39:05, 61.40s/it]"
     ]
    },
    {
     "name": "stdout",
     "output_type": "stream",
     "text": [
      "Train Epoch: 62 [3840/3918 (98%)]\tLoss: 0.390100\n",
      "Mem before-during-after: 18544128 18618368 18544128\n"
     ]
    },
    {
     "name": "stderr",
     "output_type": "stream",
     "text": [
      "  5%|█▊                                   | 1.999999999999982/40 [02:05<39:21, 62.15s/it]"
     ]
    },
    {
     "name": "stdout",
     "output_type": "stream",
     "text": [
      "\n",
      "Test Epoch: 62\tAccuracy: 586/976 (60%)\n",
      "\n"
     ]
    },
    {
     "name": "stderr",
     "output_type": "stream",
     "text": [
      "  5%|█▊                                  | 2.0032786885245724/40 [02:05<39:21, 62.15s/it]"
     ]
    },
    {
     "name": "stdout",
     "output_type": "stream",
     "text": [
      "Train Epoch: 63 [0/3918 (0%)]\tLoss: 0.382223\n",
      "Mem before-during-after: 18543104 18618368 18544128\n"
     ]
    },
    {
     "name": "stderr",
     "output_type": "stream",
     "text": [
      "  5%|█▉                                  | 2.1377049180327674/40 [02:14<38:23, 60.84s/it]"
     ]
    },
    {
     "name": "stdout",
     "output_type": "stream",
     "text": [
      "Train Epoch: 63 [640/3918 (16%)]\tLoss: 0.342940\n",
      "Mem before-during-after: 18544128 18618368 18544128\n"
     ]
    },
    {
     "name": "stderr",
     "output_type": "stream",
     "text": [
      "  6%|██                                  | 2.2688524590163723/40 [02:22<38:08, 60.65s/it]"
     ]
    },
    {
     "name": "stdout",
     "output_type": "stream",
     "text": [
      "Train Epoch: 63 [1280/3918 (33%)]\tLoss: 0.584051\n",
      "Mem before-during-after: 18544128 18618368 18544128\n"
     ]
    },
    {
     "name": "stderr",
     "output_type": "stream",
     "text": [
      "  6%|██▏                                 | 2.3999999999999773/40 [02:30<38:21, 61.22s/it]"
     ]
    },
    {
     "name": "stdout",
     "output_type": "stream",
     "text": [
      "Train Epoch: 63 [1920/3918 (49%)]\tLoss: 0.527848\n",
      "Mem before-during-after: 18544128 18618368 18544128\n"
     ]
    },
    {
     "name": "stderr",
     "output_type": "stream",
     "text": [
      "  6%|██▎                                  | 2.527868852458992/40 [02:38<37:52, 60.65s/it]"
     ]
    },
    {
     "name": "stdout",
     "output_type": "stream",
     "text": [
      "Train Epoch: 63 [2560/3918 (66%)]\tLoss: 0.566161\n",
      "Mem before-during-after: 18544128 18618368 18544128\n"
     ]
    },
    {
     "name": "stderr",
     "output_type": "stream",
     "text": [
      "  7%|██▍                                  | 2.662295081967187/40 [02:46<38:04, 61.19s/it]"
     ]
    },
    {
     "name": "stdout",
     "output_type": "stream",
     "text": [
      "Train Epoch: 63 [3200/3918 (82%)]\tLoss: 0.443913\n",
      "Mem before-during-after: 18544128 18618368 18544128\n"
     ]
    },
    {
     "name": "stderr",
     "output_type": "stream",
     "text": [
      "  7%|██▌                                  | 2.793442622950792/40 [02:54<38:33, 62.19s/it]"
     ]
    },
    {
     "name": "stdout",
     "output_type": "stream",
     "text": [
      "Train Epoch: 63 [3840/3918 (98%)]\tLoss: 0.351814\n",
      "Mem before-during-after: 18544128 18618368 18544128\n"
     ]
    },
    {
     "name": "stderr",
     "output_type": "stream",
     "text": [
      "  7%|██▊                                   | 2.99999999999997/40 [03:07<36:55, 59.88s/it]"
     ]
    },
    {
     "name": "stdout",
     "output_type": "stream",
     "text": [
      "\n",
      "Test Epoch: 63\tAccuracy: 586/976 (60%)\n",
      "\n"
     ]
    },
    {
     "name": "stderr",
     "output_type": "stream",
     "text": [
      "  8%|██▊                                   | 3.00327868852456/40 [03:07<37:21, 60.59s/it]"
     ]
    },
    {
     "name": "stdout",
     "output_type": "stream",
     "text": [
      "Train Epoch: 64 [0/3918 (0%)]\tLoss: 0.571018\n",
      "Mem before-during-after: 18543104 18618368 18544128\n"
     ]
    },
    {
     "name": "stderr",
     "output_type": "stream",
     "text": [
      "  8%|██▉                                  | 3.137704918032755/40 [03:15<37:09, 60.49s/it]"
     ]
    },
    {
     "name": "stdout",
     "output_type": "stream",
     "text": [
      "Train Epoch: 64 [640/3918 (16%)]\tLoss: 0.324483\n",
      "Mem before-during-after: 18544128 18618368 18544128\n"
     ]
    },
    {
     "name": "stderr",
     "output_type": "stream",
     "text": [
      "  8%|███                                   | 3.26557377049177/40 [03:23<37:27, 61.18s/it]"
     ]
    },
    {
     "name": "stdout",
     "output_type": "stream",
     "text": [
      "Train Epoch: 64 [1280/3918 (33%)]\tLoss: 0.699554\n",
      "Mem before-during-after: 18544128 18618368 18544128\n"
     ]
    },
    {
     "name": "stderr",
     "output_type": "stream",
     "text": [
      "  8%|███                                 | 3.3967213114753747/40 [03:31<37:06, 60.83s/it]"
     ]
    },
    {
     "name": "stdout",
     "output_type": "stream",
     "text": [
      "Train Epoch: 64 [1920/3918 (49%)]\tLoss: 0.458807\n",
      "Mem before-during-after: 18544128 18618368 18544128\n"
     ]
    },
    {
     "name": "stderr",
     "output_type": "stream",
     "text": [
      "  9%|███▏                                | 3.5278688524589796/40 [03:39<37:09, 61.13s/it]"
     ]
    },
    {
     "name": "stdout",
     "output_type": "stream",
     "text": [
      "Train Epoch: 64 [2560/3918 (66%)]\tLoss: 0.722134\n",
      "Mem before-during-after: 18544128 18618368 18544128\n"
     ]
    },
    {
     "name": "stderr",
     "output_type": "stream",
     "text": [
      "  9%|███▎                                | 3.6622950819671747/40 [03:47<37:06, 61.29s/it]"
     ]
    },
    {
     "name": "stdout",
     "output_type": "stream",
     "text": [
      "Train Epoch: 64 [3200/3918 (82%)]\tLoss: 0.515691\n",
      "Mem before-during-after: 18544128 18618368 18544128\n"
     ]
    },
    {
     "name": "stderr",
     "output_type": "stream",
     "text": [
      "  9%|███▍                                | 3.7934426229507796/40 [03:55<36:49, 61.02s/it]"
     ]
    },
    {
     "name": "stdout",
     "output_type": "stream",
     "text": [
      "Train Epoch: 64 [3840/3918 (98%)]\tLoss: 0.142019\n",
      "Mem before-during-after: 18544128 18618368 18544128\n"
     ]
    },
    {
     "name": "stderr",
     "output_type": "stream",
     "text": [
      " 10%|███▌                                | 4.0032786885245475/40 [04:08<37:38, 62.74s/it]"
     ]
    },
    {
     "name": "stdout",
     "output_type": "stream",
     "text": [
      "\n",
      "Test Epoch: 64\tAccuracy: 576/976 (59%)\n",
      "\n",
      "Train Epoch: 65 [0/3918 (0%)]\tLoss: 0.620300\n",
      "Mem before-during-after: 18543104 18618368 18544128\n"
     ]
    },
    {
     "name": "stderr",
     "output_type": "stream",
     "text": [
      " 10%|███▋                                | 4.1377049180327425/40 [04:17<36:37, 61.27s/it]"
     ]
    },
    {
     "name": "stdout",
     "output_type": "stream",
     "text": [
      "Train Epoch: 65 [640/3918 (16%)]\tLoss: 0.730032\n",
      "Mem before-during-after: 18544128 18618368 18544128\n"
     ]
    },
    {
     "name": "stderr",
     "output_type": "stream",
     "text": [
      " 11%|███▉                                 | 4.265573770491757/40 [04:24<36:25, 61.16s/it]"
     ]
    },
    {
     "name": "stdout",
     "output_type": "stream",
     "text": [
      "Train Epoch: 65 [1280/3918 (33%)]\tLoss: 0.558162\n",
      "Mem before-during-after: 18544128 18618368 18544128\n"
     ]
    },
    {
     "name": "stderr",
     "output_type": "stream",
     "text": [
      " 11%|████                                 | 4.399999999999952/40 [04:33<36:19, 61.22s/it]"
     ]
    },
    {
     "name": "stdout",
     "output_type": "stream",
     "text": [
      "Train Epoch: 65 [1920/3918 (49%)]\tLoss: 0.703896\n",
      "Mem before-during-after: 18544128 18618368 18544128\n"
     ]
    },
    {
     "name": "stderr",
     "output_type": "stream",
     "text": [
      " 11%|████▏                                | 4.531147540983557/40 [04:41<35:44, 60.47s/it]"
     ]
    },
    {
     "name": "stdout",
     "output_type": "stream",
     "text": [
      "Train Epoch: 65 [2560/3918 (66%)]\tLoss: 0.854349\n",
      "Mem before-during-after: 18544128 18618368 18544128\n"
     ]
    },
    {
     "name": "stderr",
     "output_type": "stream",
     "text": [
      " 12%|████▎                                | 4.659016393442572/40 [04:48<35:58, 61.07s/it]"
     ]
    },
    {
     "name": "stdout",
     "output_type": "stream",
     "text": [
      "Train Epoch: 65 [3200/3918 (82%)]\tLoss: 0.573567\n",
      "Mem before-during-after: 18544128 18618368 18544128\n"
     ]
    },
    {
     "name": "stderr",
     "output_type": "stream",
     "text": [
      " 12%|████▍                                | 4.793442622950767/40 [04:57<35:34, 60.62s/it]"
     ]
    },
    {
     "name": "stdout",
     "output_type": "stream",
     "text": [
      "Train Epoch: 65 [3840/3918 (98%)]\tLoss: 0.580662\n",
      "Mem before-during-after: 18544128 18618368 18544128\n"
     ]
    },
    {
     "name": "stderr",
     "output_type": "stream",
     "text": [
      " 13%|████▋                                | 5.003278688524535/40 [05:09<34:22, 58.93s/it]"
     ]
    },
    {
     "name": "stdout",
     "output_type": "stream",
     "text": [
      "\n",
      "Test Epoch: 65\tAccuracy: 584/976 (60%)\n",
      "\n",
      "Train Epoch: 66 [0/3918 (0%)]\tLoss: 0.658896\n",
      "Mem before-during-after: 18543104 18618368 18544128\n"
     ]
    },
    {
     "name": "stderr",
     "output_type": "stream",
     "text": [
      " 13%|████▉                                 | 5.13770491803273/40 [05:18<35:23, 60.92s/it]"
     ]
    },
    {
     "name": "stdout",
     "output_type": "stream",
     "text": [
      "Train Epoch: 66 [640/3918 (16%)]\tLoss: 0.378449\n",
      "Mem before-during-after: 18544128 18618368 18544128\n"
     ]
    },
    {
     "name": "stderr",
     "output_type": "stream",
     "text": [
      " 13%|████▊                                | 5.268852459016335/40 [05:26<35:31, 61.39s/it]"
     ]
    },
    {
     "name": "stdout",
     "output_type": "stream",
     "text": [
      "Train Epoch: 66 [1280/3918 (33%)]\tLoss: 0.749410\n",
      "Mem before-during-after: 18544128 18618368 18544128\n"
     ]
    },
    {
     "name": "stderr",
     "output_type": "stream",
     "text": [
      " 13%|█████▏                                | 5.39672131147535/40 [05:34<35:04, 60.82s/it]"
     ]
    },
    {
     "name": "stdout",
     "output_type": "stream",
     "text": [
      "Train Epoch: 66 [1920/3918 (49%)]\tLoss: 0.605251\n",
      "Mem before-during-after: 18544128 18618368 18544128\n"
     ]
    },
    {
     "name": "stderr",
     "output_type": "stream",
     "text": [
      " 14%|█████                                | 5.531147540983545/40 [05:42<34:47, 60.56s/it]"
     ]
    },
    {
     "name": "stdout",
     "output_type": "stream",
     "text": [
      "Train Epoch: 66 [2560/3918 (66%)]\tLoss: 0.493831\n",
      "Mem before-during-after: 18544128 18618368 18544128\n"
     ]
    },
    {
     "name": "stderr",
     "output_type": "stream",
     "text": [
      " 14%|█████▍                                | 5.65901639344256/40 [05:50<34:51, 60.91s/it]"
     ]
    },
    {
     "name": "stdout",
     "output_type": "stream",
     "text": [
      "Train Epoch: 66 [3200/3918 (82%)]\tLoss: 0.730937\n",
      "Mem before-during-after: 18544128 18618368 18544128\n"
     ]
    },
    {
     "name": "stderr",
     "output_type": "stream",
     "text": [
      " 14%|█████▎                               | 5.793442622950755/40 [05:59<35:04, 61.53s/it]"
     ]
    },
    {
     "name": "stdout",
     "output_type": "stream",
     "text": [
      "Train Epoch: 66 [3840/3918 (98%)]\tLoss: 0.541034\n",
      "Mem before-during-after: 18544128 18618368 18544128\n"
     ]
    },
    {
     "name": "stderr",
     "output_type": "stream",
     "text": [
      " 15%|█████▌                               | 6.003278688524523/40 [06:12<35:06, 61.95s/it]"
     ]
    },
    {
     "name": "stdout",
     "output_type": "stream",
     "text": [
      "\n",
      "Test Epoch: 66\tAccuracy: 567/976 (58%)\n",
      "\n",
      "Train Epoch: 67 [0/3918 (0%)]\tLoss: 0.509709\n",
      "Mem before-during-after: 18543104 18618368 18544128\n"
     ]
    },
    {
     "name": "stderr",
     "output_type": "stream",
     "text": [
      " 15%|█████▋                               | 6.137704918032718/40 [06:20<36:35, 64.84s/it]"
     ]
    },
    {
     "name": "stdout",
     "output_type": "stream",
     "text": [
      "Train Epoch: 67 [640/3918 (16%)]\tLoss: 0.450620\n",
      "Mem before-during-after: 18544128 18618368 18544128\n"
     ]
    },
    {
     "name": "stderr",
     "output_type": "stream",
     "text": [
      " 16%|█████▋                              | 6.2655737704917325/40 [06:29<35:07, 62.47s/it]"
     ]
    },
    {
     "name": "stdout",
     "output_type": "stream",
     "text": [
      "Train Epoch: 67 [1280/3918 (33%)]\tLoss: 0.433627\n",
      "Mem before-during-after: 18544128 18618368 18544128\n"
     ]
    },
    {
     "name": "stderr",
     "output_type": "stream",
     "text": [
      " 16%|█████▊                              | 6.3999999999999275/40 [06:37<34:12, 61.09s/it]"
     ]
    },
    {
     "name": "stdout",
     "output_type": "stream",
     "text": [
      "Train Epoch: 67 [1920/3918 (49%)]\tLoss: 0.253112\n",
      "Mem before-during-after: 18544128 18618368 18544128\n"
     ]
    },
    {
     "name": "stderr",
     "output_type": "stream",
     "text": [
      " 16%|█████▉                              | 6.5311475409835325/40 [06:45<35:40, 63.94s/it]"
     ]
    },
    {
     "name": "stdout",
     "output_type": "stream",
     "text": [
      "Train Epoch: 67 [2560/3918 (66%)]\tLoss: 0.299789\n",
      "Mem before-during-after: 18544128 18618368 18544128\n"
     ]
    },
    {
     "name": "stderr",
     "output_type": "stream",
     "text": [
      " 17%|██████▏                              | 6.662295081967137/40 [06:53<34:12, 61.55s/it]"
     ]
    },
    {
     "name": "stdout",
     "output_type": "stream",
     "text": [
      "Train Epoch: 67 [3200/3918 (82%)]\tLoss: 0.530343\n",
      "Mem before-during-after: 18544128 18618368 18544128\n"
     ]
    },
    {
     "name": "stderr",
     "output_type": "stream",
     "text": [
      " 17%|██████▎                              | 6.790163934426152/40 [07:02<34:19, 62.00s/it]"
     ]
    },
    {
     "name": "stdout",
     "output_type": "stream",
     "text": [
      "Train Epoch: 67 [3840/3918 (98%)]\tLoss: 0.277769\n",
      "Mem before-during-after: 18544128 18618368 18544128\n"
     ]
    },
    {
     "name": "stderr",
     "output_type": "stream",
     "text": [
      " 17%|██████▋                               | 6.99999999999992/40 [07:15<33:58, 61.76s/it]"
     ]
    },
    {
     "name": "stdout",
     "output_type": "stream",
     "text": [
      "\n",
      "Test Epoch: 67\tAccuracy: 574/976 (59%)\n",
      "\n"
     ]
    },
    {
     "name": "stderr",
     "output_type": "stream",
     "text": [
      " 18%|██████▋                               | 7.00327868852451/40 [07:15<35:31, 64.60s/it]"
     ]
    },
    {
     "name": "stdout",
     "output_type": "stream",
     "text": [
      "Train Epoch: 68 [0/3918 (0%)]\tLoss: 0.320980\n",
      "Mem before-during-after: 18543104 18618368 18544128\n"
     ]
    },
    {
     "name": "stderr",
     "output_type": "stream",
     "text": [
      " 18%|██████▌                              | 7.137704918032705/40 [07:24<34:00, 62.10s/it]"
     ]
    },
    {
     "name": "stdout",
     "output_type": "stream",
     "text": [
      "Train Epoch: 68 [640/3918 (16%)]\tLoss: 0.457882\n",
      "Mem before-during-after: 18544128 18618368 18544128\n"
     ]
    },
    {
     "name": "stderr",
     "output_type": "stream",
     "text": [
      " 18%|██████▉                               | 7.26885245901631/40 [07:32<35:23, 64.89s/it]"
     ]
    },
    {
     "name": "stdout",
     "output_type": "stream",
     "text": [
      "Train Epoch: 68 [1280/3918 (33%)]\tLoss: 0.547534\n",
      "Mem before-during-after: 18544128 18618368 18544128\n"
     ]
    },
    {
     "name": "stderr",
     "output_type": "stream",
     "text": [
      " 18%|██████▊                              | 7.399999999999915/40 [07:41<33:53, 62.37s/it]"
     ]
    },
    {
     "name": "stdout",
     "output_type": "stream",
     "text": [
      "Train Epoch: 68 [1920/3918 (49%)]\tLoss: 0.357140\n",
      "Mem before-during-after: 18544128 18618368 18544128\n"
     ]
    },
    {
     "name": "stderr",
     "output_type": "stream",
     "text": [
      " 19%|███████▏                              | 7.52786885245893/40 [07:49<34:06, 63.03s/it]"
     ]
    },
    {
     "name": "stdout",
     "output_type": "stream",
     "text": [
      "Train Epoch: 68 [2560/3918 (66%)]\tLoss: 0.429339\n",
      "Mem before-during-after: 18544128 18618368 18544128\n"
     ]
    },
    {
     "name": "stderr",
     "output_type": "stream",
     "text": [
      " 19%|███████                              | 7.659016393442535/40 [07:58<33:37, 62.37s/it]"
     ]
    },
    {
     "name": "stdout",
     "output_type": "stream",
     "text": [
      "Train Epoch: 68 [3200/3918 (82%)]\tLoss: 0.292249\n",
      "Mem before-during-after: 18544128 18618368 18544128\n"
     ]
    },
    {
     "name": "stderr",
     "output_type": "stream",
     "text": [
      " 19%|███████▍                              | 7.79344262295073/40 [08:06<33:15, 61.95s/it]"
     ]
    },
    {
     "name": "stdout",
     "output_type": "stream",
     "text": [
      "Train Epoch: 68 [3840/3918 (98%)]\tLoss: 0.429572\n",
      "Mem before-during-after: 18544128 18618368 18544128\n"
     ]
    },
    {
     "name": "stderr",
     "output_type": "stream",
     "text": [
      " 20%|███████▍                             | 8.003278688524498/40 [08:19<32:26, 60.84s/it]"
     ]
    },
    {
     "name": "stdout",
     "output_type": "stream",
     "text": [
      "\n",
      "Test Epoch: 68\tAccuracy: 579/976 (59%)\n",
      "\n",
      "Train Epoch: 69 [0/3918 (0%)]\tLoss: 0.155711\n",
      "Mem before-during-after: 18543104 18618368 18544128\n"
     ]
    },
    {
     "name": "stderr",
     "output_type": "stream",
     "text": [
      " 20%|███████▌                             | 8.134426229508103/40 [08:27<32:18, 60.84s/it]"
     ]
    },
    {
     "name": "stdout",
     "output_type": "stream",
     "text": [
      "Train Epoch: 69 [640/3918 (16%)]\tLoss: 0.530164\n",
      "Mem before-during-after: 18544128 18618368 18544128\n"
     ]
    },
    {
     "name": "stderr",
     "output_type": "stream",
     "text": [
      " 21%|███████▋                             | 8.268852459016298/40 [08:36<32:12, 60.90s/it]"
     ]
    },
    {
     "name": "stdout",
     "output_type": "stream",
     "text": [
      "Train Epoch: 69 [1280/3918 (33%)]\tLoss: 0.423372\n",
      "Mem before-during-after: 18544128 18618368 18544128\n"
     ]
    },
    {
     "name": "stderr",
     "output_type": "stream",
     "text": [
      " 21%|███████▊                             | 8.396721311475313/40 [08:44<32:12, 61.14s/it]"
     ]
    },
    {
     "name": "stdout",
     "output_type": "stream",
     "text": [
      "Train Epoch: 69 [1920/3918 (49%)]\tLoss: 0.343739\n",
      "Mem before-during-after: 18544128 18618368 18544128\n"
     ]
    },
    {
     "name": "stderr",
     "output_type": "stream",
     "text": [
      " 21%|███████▉                             | 8.531147540983508/40 [08:52<33:23, 63.67s/it]"
     ]
    },
    {
     "name": "stdout",
     "output_type": "stream",
     "text": [
      "Train Epoch: 69 [2560/3918 (66%)]\tLoss: 0.464975\n",
      "Mem before-during-after: 18544128 18618368 18544128\n"
     ]
    },
    {
     "name": "stderr",
     "output_type": "stream",
     "text": [
      " 22%|████████                             | 8.662295081967113/40 [09:00<33:03, 63.28s/it]"
     ]
    },
    {
     "name": "stdout",
     "output_type": "stream",
     "text": [
      "Train Epoch: 69 [3200/3918 (82%)]\tLoss: 0.179862\n",
      "Mem before-during-after: 18544128 18618368 18544128\n"
     ]
    },
    {
     "name": "stderr",
     "output_type": "stream",
     "text": [
      " 22%|████████▏                            | 8.793442622950717/40 [09:09<33:00, 63.46s/it]"
     ]
    },
    {
     "name": "stdout",
     "output_type": "stream",
     "text": [
      "Train Epoch: 69 [3840/3918 (98%)]\tLoss: 0.316986\n",
      "Mem before-during-after: 18544128 18618368 18544128\n"
     ]
    },
    {
     "name": "stderr",
     "output_type": "stream",
     "text": [
      " 22%|████████▎                            | 8.999999999999895/40 [09:21<32:03, 62.04s/it]"
     ]
    },
    {
     "name": "stdout",
     "output_type": "stream",
     "text": [
      "\n",
      "Test Epoch: 69\tAccuracy: 562/976 (57%)\n",
      "\n"
     ]
    },
    {
     "name": "stderr",
     "output_type": "stream",
     "text": [
      " 23%|████████▎                            | 9.003278688524485/40 [09:22<33:36, 65.05s/it]"
     ]
    },
    {
     "name": "stdout",
     "output_type": "stream",
     "text": [
      "Train Epoch: 70 [0/3918 (0%)]\tLoss: 0.215525\n",
      "Mem before-during-after: 18543104 18618368 18544128\n"
     ]
    },
    {
     "name": "stderr",
     "output_type": "stream",
     "text": [
      " 23%|████████▋                             | 9.13442622950809/40 [09:30<31:41, 61.60s/it]"
     ]
    },
    {
     "name": "stdout",
     "output_type": "stream",
     "text": [
      "Train Epoch: 70 [640/3918 (16%)]\tLoss: 0.586171\n",
      "Mem before-during-after: 18544128 18618368 18544128\n"
     ]
    },
    {
     "name": "stderr",
     "output_type": "stream",
     "text": [
      " 23%|████████▌                            | 9.268852459016285/40 [09:38<31:06, 60.73s/it]"
     ]
    },
    {
     "name": "stdout",
     "output_type": "stream",
     "text": [
      "Train Epoch: 70 [1280/3918 (33%)]\tLoss: 1.093087\n",
      "Mem before-during-after: 18544128 18618368 18544128\n"
     ]
    },
    {
     "name": "stderr",
     "output_type": "stream",
     "text": [
      " 23%|████████▉                             | 9.39999999999989/40 [09:46<31:21, 61.48s/it]"
     ]
    },
    {
     "name": "stdout",
     "output_type": "stream",
     "text": [
      "Train Epoch: 70 [1920/3918 (49%)]\tLoss: 0.281872\n",
      "Mem before-during-after: 18544128 18618368 18544128\n"
     ]
    },
    {
     "name": "stderr",
     "output_type": "stream",
     "text": [
      " 24%|████████▊                            | 9.531147540983495/40 [09:54<31:06, 61.25s/it]"
     ]
    },
    {
     "name": "stdout",
     "output_type": "stream",
     "text": [
      "Train Epoch: 70 [2560/3918 (66%)]\tLoss: 0.925661\n",
      "Mem before-during-after: 18544128 18618368 18544128\n"
     ]
    },
    {
     "name": "stderr",
     "output_type": "stream",
     "text": [
      " 24%|█████████▍                             | 9.6622950819671/40 [10:02<30:42, 60.72s/it]"
     ]
    },
    {
     "name": "stdout",
     "output_type": "stream",
     "text": [
      "Train Epoch: 70 [3200/3918 (82%)]\tLoss: 0.320470\n",
      "Mem before-during-after: 18544128 18618368 18544128\n"
     ]
    },
    {
     "name": "stderr",
     "output_type": "stream",
     "text": [
      " 24%|█████████                            | 9.790163934426115/40 [10:10<31:04, 61.72s/it]"
     ]
    },
    {
     "name": "stdout",
     "output_type": "stream",
     "text": [
      "Train Epoch: 70 [3840/3918 (98%)]\tLoss: 0.722294\n",
      "Mem before-during-after: 18544128 18618368 18544128\n"
     ]
    },
    {
     "name": "stderr",
     "output_type": "stream",
     "text": [
      " 25%|█████████▏                           | 9.999999999999883/40 [10:23<31:20, 62.68s/it]"
     ]
    },
    {
     "name": "stdout",
     "output_type": "stream",
     "text": [
      "\n",
      "Test Epoch: 70\tAccuracy: 565/976 (58%)\n",
      "\n"
     ]
    },
    {
     "name": "stderr",
     "output_type": "stream",
     "text": [
      " 25%|█████████                           | 10.003278688524473/40 [10:23<31:18, 62.61s/it]"
     ]
    },
    {
     "name": "stdout",
     "output_type": "stream",
     "text": [
      "Train Epoch: 71 [0/3918 (0%)]\tLoss: 0.271884\n",
      "Mem before-during-after: 18543104 18618368 18544128\n"
     ]
    },
    {
     "name": "stderr",
     "output_type": "stream",
     "text": [
      " 25%|█████████                           | 10.137704918032668/40 [10:32<29:43, 59.74s/it]"
     ]
    },
    {
     "name": "stdout",
     "output_type": "stream",
     "text": [
      "Train Epoch: 71 [640/3918 (16%)]\tLoss: 0.454337\n",
      "Mem before-during-after: 18544128 18618368 18544128\n"
     ]
    },
    {
     "name": "stderr",
     "output_type": "stream",
     "text": [
      " 26%|█████████▏                          | 10.268852459016273/40 [10:40<30:44, 62.04s/it]"
     ]
    },
    {
     "name": "stdout",
     "output_type": "stream",
     "text": [
      "Train Epoch: 71 [1280/3918 (33%)]\tLoss: 0.606490\n",
      "Mem before-during-after: 18544128 18618368 18544128\n"
     ]
    },
    {
     "name": "stderr",
     "output_type": "stream",
     "text": [
      " 26%|█████████▎                          | 10.396721311475288/40 [10:48<33:07, 67.15s/it]"
     ]
    },
    {
     "name": "stdout",
     "output_type": "stream",
     "text": [
      "Train Epoch: 71 [1920/3918 (49%)]\tLoss: 0.434504\n",
      "Mem before-during-after: 18544128 18618368 18544128\n"
     ]
    },
    {
     "name": "stderr",
     "output_type": "stream",
     "text": [
      " 26%|█████████▍                          | 10.527868852458893/40 [10:57<31:34, 64.29s/it]"
     ]
    },
    {
     "name": "stdout",
     "output_type": "stream",
     "text": [
      "Train Epoch: 71 [2560/3918 (66%)]\tLoss: 0.826700\n",
      "Mem before-during-after: 18544128 18618368 18544128\n"
     ]
    },
    {
     "name": "stderr",
     "output_type": "stream",
     "text": [
      " 27%|█████████▌                          | 10.659016393442498/40 [11:05<30:05, 61.54s/it]"
     ]
    },
    {
     "name": "stdout",
     "output_type": "stream",
     "text": [
      "Train Epoch: 71 [3200/3918 (82%)]\tLoss: 0.565275\n",
      "Mem before-during-after: 18544128 18618368 18544128\n"
     ]
    },
    {
     "name": "stderr",
     "output_type": "stream",
     "text": [
      " 27%|█████████▋                          | 10.793442622950693/40 [11:14<30:36, 62.89s/it]"
     ]
    },
    {
     "name": "stdout",
     "output_type": "stream",
     "text": [
      "Train Epoch: 71 [3840/3918 (98%)]\tLoss: 0.282518\n",
      "Mem before-during-after: 18544128 18618368 18544128\n"
     ]
    },
    {
     "name": "stderr",
     "output_type": "stream",
     "text": [
      " 28%|██████████▏                          | 11.00327868852446/40 [11:27<29:31, 61.09s/it]"
     ]
    },
    {
     "name": "stdout",
     "output_type": "stream",
     "text": [
      "\n",
      "Test Epoch: 71\tAccuracy: 564/976 (58%)\n",
      "\n",
      "Train Epoch: 72 [0/3918 (0%)]\tLoss: 0.551957\n",
      "Mem before-during-after: 18543104 18618368 18544128\n"
     ]
    },
    {
     "name": "stderr",
     "output_type": "stream",
     "text": [
      " 28%|██████████                          | 11.137704918032655/40 [11:36<29:56, 62.24s/it]"
     ]
    },
    {
     "name": "stdout",
     "output_type": "stream",
     "text": [
      "Train Epoch: 72 [640/3918 (16%)]\tLoss: 0.991751\n",
      "Mem before-during-after: 18544128 18618368 18544128\n"
     ]
    },
    {
     "name": "stderr",
     "output_type": "stream",
     "text": [
      " 28%|██████████▍                          | 11.26885245901626/40 [11:44<29:16, 61.12s/it]"
     ]
    },
    {
     "name": "stdout",
     "output_type": "stream",
     "text": [
      "Train Epoch: 72 [1280/3918 (33%)]\tLoss: 0.633467\n",
      "Mem before-during-after: 18544128 18618368 18544128\n"
     ]
    },
    {
     "name": "stderr",
     "output_type": "stream",
     "text": [
      " 28%|██████████▎                         | 11.396721311475275/40 [11:52<28:58, 60.77s/it]"
     ]
    },
    {
     "name": "stdout",
     "output_type": "stream",
     "text": [
      "Train Epoch: 72 [1920/3918 (49%)]\tLoss: 0.417453\n",
      "Mem before-during-after: 18544128 18618368 18544128\n"
     ]
    },
    {
     "name": "stderr",
     "output_type": "stream",
     "text": [
      " 29%|██████████▋                          | 11.52786885245888/40 [12:00<30:03, 63.34s/it]"
     ]
    },
    {
     "name": "stdout",
     "output_type": "stream",
     "text": [
      "Train Epoch: 72 [2560/3918 (66%)]\tLoss: 0.642621\n",
      "Mem before-during-after: 18544128 18618368 18544128\n"
     ]
    },
    {
     "name": "stderr",
     "output_type": "stream",
     "text": [
      " 29%|██████████▍                         | 11.662295081967075/40 [12:09<29:45, 63.01s/it]"
     ]
    },
    {
     "name": "stdout",
     "output_type": "stream",
     "text": [
      "Train Epoch: 72 [3200/3918 (82%)]\tLoss: 0.635277\n",
      "Mem before-during-after: 18544128 18618368 18544128\n"
     ]
    },
    {
     "name": "stderr",
     "output_type": "stream",
     "text": [
      " 29%|██████████▉                          | 11.79016393442609/40 [12:17<30:15, 64.36s/it]"
     ]
    },
    {
     "name": "stdout",
     "output_type": "stream",
     "text": [
      "Train Epoch: 72 [3840/3918 (98%)]\tLoss: 0.375727\n",
      "Mem before-during-after: 18544128 18618368 18544128\n"
     ]
    },
    {
     "name": "stderr",
     "output_type": "stream",
     "text": [
      " 30%|██████████▊                         | 11.999999999999858/40 [12:31<28:58, 62.09s/it]"
     ]
    },
    {
     "name": "stdout",
     "output_type": "stream",
     "text": [
      "\n",
      "Test Epoch: 72\tAccuracy: 571/976 (58%)\n",
      "\n"
     ]
    },
    {
     "name": "stderr",
     "output_type": "stream",
     "text": [
      " 30%|██████████▊                         | 12.003278688524448/40 [12:31<29:17, 62.78s/it]"
     ]
    },
    {
     "name": "stdout",
     "output_type": "stream",
     "text": [
      "Train Epoch: 73 [0/3918 (0%)]\tLoss: 0.449198\n",
      "Mem before-during-after: 18543104 18618368 18544128\n"
     ]
    },
    {
     "name": "stderr",
     "output_type": "stream",
     "text": [
      " 30%|██████████▉                         | 12.134426229508053/40 [12:39<29:43, 64.00s/it]"
     ]
    },
    {
     "name": "stdout",
     "output_type": "stream",
     "text": [
      "Train Epoch: 73 [640/3918 (16%)]\tLoss: 0.491447\n",
      "Mem before-during-after: 18544128 18618368 18544128\n"
     ]
    },
    {
     "name": "stderr",
     "output_type": "stream",
     "text": [
      " 31%|███████████                         | 12.265573770491658/40 [12:48<28:52, 62.47s/it]"
     ]
    },
    {
     "name": "stdout",
     "output_type": "stream",
     "text": [
      "Train Epoch: 73 [1280/3918 (33%)]\tLoss: 0.123638\n",
      "Mem before-during-after: 18544128 18618368 18544128\n"
     ]
    },
    {
     "name": "stderr",
     "output_type": "stream",
     "text": [
      " 31%|███████████▏                        | 12.396721311475263/40 [12:56<28:03, 61.00s/it]"
     ]
    },
    {
     "name": "stdout",
     "output_type": "stream",
     "text": [
      "Train Epoch: 73 [1920/3918 (49%)]\tLoss: 0.357611\n",
      "Mem before-during-after: 18544128 18618368 18544128\n"
     ]
    },
    {
     "name": "stderr",
     "output_type": "stream",
     "text": [
      " 31%|███████████▎                        | 12.531147540983458/40 [13:04<27:52, 60.90s/it]"
     ]
    },
    {
     "name": "stdout",
     "output_type": "stream",
     "text": [
      "Train Epoch: 73 [2560/3918 (66%)]\tLoss: 0.518575\n",
      "Mem before-during-after: 18544128 18618368 18544128\n"
     ]
    },
    {
     "name": "stderr",
     "output_type": "stream",
     "text": [
      " 32%|███████████▍                        | 12.659016393442473/40 [13:13<29:00, 63.65s/it]"
     ]
    },
    {
     "name": "stdout",
     "output_type": "stream",
     "text": [
      "Train Epoch: 73 [3200/3918 (82%)]\tLoss: 0.555812\n",
      "Mem before-during-after: 18544128 18618368 18544128\n"
     ]
    },
    {
     "name": "stderr",
     "output_type": "stream",
     "text": [
      " 32%|███████████▌                        | 12.790163934426078/40 [13:21<28:47, 63.49s/it]"
     ]
    },
    {
     "name": "stdout",
     "output_type": "stream",
     "text": [
      "Train Epoch: 73 [3840/3918 (98%)]\tLoss: 0.534083\n",
      "Mem before-during-after: 18544128 18618368 18544128\n"
     ]
    },
    {
     "name": "stderr",
     "output_type": "stream",
     "text": [
      " 33%|███████████▋                        | 13.003278688524436/40 [13:35<27:46, 61.74s/it]"
     ]
    },
    {
     "name": "stdout",
     "output_type": "stream",
     "text": [
      "\n",
      "Test Epoch: 73\tAccuracy: 565/976 (58%)\n",
      "\n",
      "Train Epoch: 74 [0/3918 (0%)]\tLoss: 0.349198\n",
      "Mem before-during-after: 18543104 18618368 18544128\n"
     ]
    },
    {
     "name": "stderr",
     "output_type": "stream",
     "text": [
      " 33%|████████████▏                        | 13.13770491803263/40 [13:43<27:33, 61.55s/it]"
     ]
    },
    {
     "name": "stdout",
     "output_type": "stream",
     "text": [
      "Train Epoch: 74 [640/3918 (16%)]\tLoss: 0.557102\n",
      "Mem before-during-after: 18544128 18618368 18544128\n"
     ]
    },
    {
     "name": "stderr",
     "output_type": "stream",
     "text": [
      " 33%|███████████▉                        | 13.268852459016236/40 [13:51<27:10, 60.99s/it]"
     ]
    },
    {
     "name": "stdout",
     "output_type": "stream",
     "text": [
      "Train Epoch: 74 [1280/3918 (33%)]\tLoss: 0.357965\n",
      "Mem before-during-after: 18544128 18618368 18544128\n"
     ]
    },
    {
     "name": "stderr",
     "output_type": "stream",
     "text": [
      " 33%|████████████▍                        | 13.39672131147525/40 [13:59<27:53, 62.92s/it]"
     ]
    },
    {
     "name": "stdout",
     "output_type": "stream",
     "text": [
      "Train Epoch: 74 [1920/3918 (49%)]\tLoss: 0.498229\n",
      "Mem before-during-after: 18544128 18618368 18544128\n"
     ]
    },
    {
     "name": "stderr",
     "output_type": "stream",
     "text": [
      " 34%|████████████▏                       | 13.531147540983445/40 [14:08<27:12, 61.69s/it]"
     ]
    },
    {
     "name": "stdout",
     "output_type": "stream",
     "text": [
      "Train Epoch: 74 [2560/3918 (66%)]\tLoss: 0.682626\n",
      "Mem before-during-after: 18544128 18618368 18544128\n"
     ]
    },
    {
     "name": "stderr",
     "output_type": "stream",
     "text": [
      " 34%|████████████▋                        | 13.66229508196705/40 [14:16<26:43, 60.88s/it]"
     ]
    },
    {
     "name": "stdout",
     "output_type": "stream",
     "text": [
      "Train Epoch: 74 [3200/3918 (82%)]\tLoss: 0.375781\n",
      "Mem before-during-after: 18544128 18618368 18544128\n"
     ]
    },
    {
     "name": "stderr",
     "output_type": "stream",
     "text": [
      " 34%|████████████▍                       | 13.793442622950655/40 [14:24<26:21, 60.34s/it]"
     ]
    },
    {
     "name": "stdout",
     "output_type": "stream",
     "text": [
      "Train Epoch: 74 [3840/3918 (98%)]\tLoss: 0.457116\n",
      "Mem before-during-after: 18544128 18618368 18544128\n"
     ]
    },
    {
     "name": "stderr",
     "output_type": "stream",
     "text": [
      " 35%|████████████▌                       | 14.003278688524423/40 [14:37<28:51, 66.61s/it]"
     ]
    },
    {
     "name": "stdout",
     "output_type": "stream",
     "text": [
      "\n",
      "Test Epoch: 74\tAccuracy: 557/976 (57%)\n",
      "\n",
      "Train Epoch: 75 [0/3918 (0%)]\tLoss: 0.360068\n",
      "Mem before-during-after: 18543104 18618368 18544128\n"
     ]
    },
    {
     "name": "stderr",
     "output_type": "stream",
     "text": [
      " 35%|████████████▋                       | 14.134426229508028/40 [14:45<25:42, 59.63s/it]"
     ]
    },
    {
     "name": "stdout",
     "output_type": "stream",
     "text": [
      "Train Epoch: 75 [640/3918 (16%)]\tLoss: 0.534560\n",
      "Mem before-during-after: 18544128 18618368 18544128\n"
     ]
    },
    {
     "name": "stderr",
     "output_type": "stream",
     "text": [
      " 36%|████████████▊                       | 14.268852459016223/40 [14:53<25:59, 60.60s/it]"
     ]
    },
    {
     "name": "stdout",
     "output_type": "stream",
     "text": [
      "Train Epoch: 75 [1280/3918 (33%)]\tLoss: 0.365180\n",
      "Mem before-during-after: 18544128 18618368 18544128\n"
     ]
    },
    {
     "name": "stderr",
     "output_type": "stream",
     "text": [
      " 36%|████████████▉                       | 14.396721311475238/40 [15:02<26:44, 62.66s/it]"
     ]
    },
    {
     "name": "stdout",
     "output_type": "stream",
     "text": [
      "Train Epoch: 75 [1920/3918 (49%)]\tLoss: 0.689944\n",
      "Mem before-during-after: 18544128 18618368 18544128\n"
     ]
    },
    {
     "name": "stderr",
     "output_type": "stream",
     "text": [
      " 36%|█████████████                       | 14.527868852458843/40 [15:10<26:47, 63.11s/it]"
     ]
    },
    {
     "name": "stdout",
     "output_type": "stream",
     "text": [
      "Train Epoch: 75 [2560/3918 (66%)]\tLoss: 0.424174\n",
      "Mem before-during-after: 18544128 18618368 18544128\n"
     ]
    },
    {
     "name": "stderr",
     "output_type": "stream",
     "text": [
      " 37%|█████████████▏                      | 14.662295081967038/40 [15:19<25:12, 59.71s/it]"
     ]
    },
    {
     "name": "stdout",
     "output_type": "stream",
     "text": [
      "Train Epoch: 75 [3200/3918 (82%)]\tLoss: 0.381212\n",
      "Mem before-during-after: 18544128 18618368 18544128\n"
     ]
    },
    {
     "name": "stderr",
     "output_type": "stream",
     "text": [
      " 37%|█████████████▎                      | 14.793442622950643/40 [15:27<25:23, 60.44s/it]"
     ]
    },
    {
     "name": "stdout",
     "output_type": "stream",
     "text": [
      "Train Epoch: 75 [3840/3918 (98%)]\tLoss: 0.282213\n",
      "Mem before-during-after: 18544128 18618368 18544128\n"
     ]
    },
    {
     "name": "stderr",
     "output_type": "stream",
     "text": [
      " 38%|█████████████▉                       | 15.00327868852441/40 [15:39<24:52, 59.72s/it]"
     ]
    },
    {
     "name": "stdout",
     "output_type": "stream",
     "text": [
      "\n",
      "Test Epoch: 75\tAccuracy: 582/976 (59%)\n",
      "\n",
      "Train Epoch: 76 [0/3918 (0%)]\tLoss: 0.380861\n",
      "Mem before-during-after: 18543104 18618368 18544128\n"
     ]
    },
    {
     "name": "stderr",
     "output_type": "stream",
     "text": [
      " 38%|█████████████▌                      | 15.137704918032606/40 [15:48<25:04, 60.50s/it]"
     ]
    },
    {
     "name": "stdout",
     "output_type": "stream",
     "text": [
      "Train Epoch: 76 [640/3918 (16%)]\tLoss: 0.360527\n",
      "Mem before-during-after: 18544128 18618368 18544128\n"
     ]
    },
    {
     "name": "stderr",
     "output_type": "stream",
     "text": [
      " 38%|██████████████                       | 15.26885245901621/40 [15:56<26:37, 64.58s/it]"
     ]
    },
    {
     "name": "stdout",
     "output_type": "stream",
     "text": [
      "Train Epoch: 76 [1280/3918 (33%)]\tLoss: 0.467980\n",
      "Mem before-during-after: 18544128 18618368 18544128\n"
     ]
    },
    {
     "name": "stderr",
     "output_type": "stream",
     "text": [
      " 38%|█████████████▊                      | 15.399999999999816/40 [16:04<26:13, 63.95s/it]"
     ]
    },
    {
     "name": "stdout",
     "output_type": "stream",
     "text": [
      "Train Epoch: 76 [1920/3918 (49%)]\tLoss: 0.913157\n",
      "Mem before-during-after: 18544128 18618368 18544128\n"
     ]
    },
    {
     "name": "stderr",
     "output_type": "stream",
     "text": [
      " 39%|██████████████▎                      | 15.53114754098342/40 [16:12<24:46, 60.75s/it]"
     ]
    },
    {
     "name": "stdout",
     "output_type": "stream",
     "text": [
      "Train Epoch: 76 [2560/3918 (66%)]\tLoss: 0.524228\n",
      "Mem before-during-after: 18544128 18618368 18544128\n"
     ]
    },
    {
     "name": "stderr",
     "output_type": "stream",
     "text": [
      " 39%|██████████████                      | 15.662295081967025/40 [16:21<24:25, 60.23s/it]"
     ]
    },
    {
     "name": "stdout",
     "output_type": "stream",
     "text": [
      "Train Epoch: 76 [3200/3918 (82%)]\tLoss: 0.591812\n",
      "Mem before-during-after: 18544128 18618368 18544128\n"
     ]
    },
    {
     "name": "stderr",
     "output_type": "stream",
     "text": [
      " 39%|██████████████▌                      | 15.79344262295063/40 [16:28<24:32, 60.83s/it]"
     ]
    },
    {
     "name": "stdout",
     "output_type": "stream",
     "text": [
      "Train Epoch: 76 [3840/3918 (98%)]\tLoss: 0.473030\n",
      "Mem before-during-after: 18544128 18618368 18544128\n"
     ]
    },
    {
     "name": "stderr",
     "output_type": "stream",
     "text": [
      " 40%|███████████████▏                      | 16.0032786885244/40 [16:42<24:13, 60.58s/it]"
     ]
    },
    {
     "name": "stdout",
     "output_type": "stream",
     "text": [
      "\n",
      "Test Epoch: 76\tAccuracy: 585/976 (60%)\n",
      "\n",
      "Train Epoch: 77 [0/3918 (0%)]\tLoss: 1.019477\n",
      "Mem before-during-after: 18543104 18618368 18544128\n"
     ]
    },
    {
     "name": "stderr",
     "output_type": "stream",
     "text": [
      " 40%|██████████████▌                     | 16.134426229508076/40 [16:50<24:59, 62.81s/it]"
     ]
    },
    {
     "name": "stdout",
     "output_type": "stream",
     "text": [
      "Train Epoch: 77 [640/3918 (16%)]\tLoss: 0.348349\n",
      "Mem before-during-after: 18544128 18618368 18544128\n"
     ]
    },
    {
     "name": "stderr",
     "output_type": "stream",
     "text": [
      " 41%|██████████████▋                     | 16.265573770491752/40 [16:58<24:07, 60.98s/it]"
     ]
    },
    {
     "name": "stdout",
     "output_type": "stream",
     "text": [
      "Train Epoch: 77 [1280/3918 (33%)]\tLoss: 0.553699\n",
      "Mem before-during-after: 18544128 18618368 18544128\n"
     ]
    },
    {
     "name": "stderr",
     "output_type": "stream",
     "text": [
      " 41%|███████████████▏                     | 16.40000000000002/40 [17:06<24:01, 61.10s/it]"
     ]
    },
    {
     "name": "stdout",
     "output_type": "stream",
     "text": [
      "Train Epoch: 77 [1920/3918 (49%)]\tLoss: 0.439339\n",
      "Mem before-during-after: 18544128 18618368 18544128\n"
     ]
    },
    {
     "name": "stderr",
     "output_type": "stream",
     "text": [
      " 41%|██████████████▉                     | 16.531147540983696/40 [17:14<25:25, 65.00s/it]"
     ]
    },
    {
     "name": "stdout",
     "output_type": "stream",
     "text": [
      "Train Epoch: 77 [2560/3918 (66%)]\tLoss: 0.523121\n",
      "Mem before-during-after: 18544128 18618368 18544128\n"
     ]
    },
    {
     "name": "stderr",
     "output_type": "stream",
     "text": [
      " 42%|██████████████▉                     | 16.662295081967372/40 [17:22<24:25, 62.80s/it]"
     ]
    },
    {
     "name": "stdout",
     "output_type": "stream",
     "text": [
      "Train Epoch: 77 [3200/3918 (82%)]\tLoss: 0.468308\n",
      "Mem before-during-after: 18544128 18618368 18544128\n"
     ]
    },
    {
     "name": "stderr",
     "output_type": "stream",
     "text": [
      " 42%|███████████████                     | 16.793442622951048/40 [17:30<23:41, 61.24s/it]"
     ]
    },
    {
     "name": "stdout",
     "output_type": "stream",
     "text": [
      "Train Epoch: 77 [3840/3918 (98%)]\tLoss: 0.372865\n",
      "Mem before-during-after: 18544128 18618368 18544128\n"
     ]
    },
    {
     "name": "stderr",
     "output_type": "stream",
     "text": [
      " 43%|███████████████▎                    | 17.000000000000338/40 [17:43<23:12, 60.55s/it]"
     ]
    },
    {
     "name": "stdout",
     "output_type": "stream",
     "text": [
      "\n",
      "Test Epoch: 77\tAccuracy: 551/976 (56%)\n",
      "\n"
     ]
    },
    {
     "name": "stderr",
     "output_type": "stream",
     "text": [
      " 43%|███████████████▋                     | 17.00655737704952/40 [17:44<23:12, 60.57s/it]"
     ]
    },
    {
     "name": "stdout",
     "output_type": "stream",
     "text": [
      "Train Epoch: 78 [0/3918 (0%)]\tLoss: 0.210093\n",
      "Mem before-during-after: 18543104 18618368 18544128\n"
     ]
    },
    {
     "name": "stderr",
     "output_type": "stream",
     "text": [
      " 43%|███████████████▍                    | 17.137704918033197/40 [17:52<23:11, 60.87s/it]"
     ]
    },
    {
     "name": "stdout",
     "output_type": "stream",
     "text": [
      "Train Epoch: 78 [640/3918 (16%)]\tLoss: 0.136688\n",
      "Mem before-during-after: 18544128 18618368 18544128\n"
     ]
    },
    {
     "name": "stderr",
     "output_type": "stream",
     "text": [
      " 43%|███████████████▉                     | 17.26557377049228/40 [17:59<23:53, 63.05s/it]"
     ]
    },
    {
     "name": "stdout",
     "output_type": "stream",
     "text": [
      "Train Epoch: 78 [1280/3918 (33%)]\tLoss: 0.503938\n",
      "Mem before-during-after: 18544128 18618368 18544128\n"
     ]
    },
    {
     "name": "stderr",
     "output_type": "stream",
     "text": [
      " 44%|████████████████                     | 17.40000000000055/40 [18:08<23:26, 62.25s/it]"
     ]
    },
    {
     "name": "stdout",
     "output_type": "stream",
     "text": [
      "Train Epoch: 78 [1920/3918 (49%)]\tLoss: 0.570240\n",
      "Mem before-during-after: 18544128 18618368 18544128\n"
     ]
    },
    {
     "name": "stderr",
     "output_type": "stream",
     "text": [
      " 44%|███████████████▊                    | 17.527868852459633/40 [18:16<22:26, 59.92s/it]"
     ]
    },
    {
     "name": "stdout",
     "output_type": "stream",
     "text": [
      "Train Epoch: 78 [2560/3918 (66%)]\tLoss: 0.309162\n",
      "Mem before-during-after: 18544128 18618368 18544128\n"
     ]
    },
    {
     "name": "stderr",
     "output_type": "stream",
     "text": [
      " 44%|████████████████▊                     | 17.6622950819679/40 [18:24<23:11, 62.28s/it]"
     ]
    },
    {
     "name": "stdout",
     "output_type": "stream",
     "text": [
      "Train Epoch: 78 [3200/3918 (82%)]\tLoss: 0.436844\n",
      "Mem before-during-after: 18544128 18618368 18544128\n"
     ]
    },
    {
     "name": "stderr",
     "output_type": "stream",
     "text": [
      " 44%|████████████████                    | 17.793442622951577/40 [18:32<23:45, 64.21s/it]"
     ]
    },
    {
     "name": "stdout",
     "output_type": "stream",
     "text": [
      "Train Epoch: 78 [3840/3918 (98%)]\tLoss: 0.350954\n",
      "Mem before-during-after: 18544128 18618368 18544128\n"
     ]
    },
    {
     "name": "stderr",
     "output_type": "stream",
     "text": [
      " 45%|████████████████▏                   | 18.000000000000867/40 [18:45<22:55, 62.51s/it]"
     ]
    },
    {
     "name": "stdout",
     "output_type": "stream",
     "text": [
      "\n",
      "Test Epoch: 78\tAccuracy: 571/976 (58%)\n",
      "\n"
     ]
    },
    {
     "name": "stderr",
     "output_type": "stream",
     "text": [
      " 45%|████████████████▋                    | 18.00327868852546/40 [18:45<23:06, 63.04s/it]"
     ]
    },
    {
     "name": "stdout",
     "output_type": "stream",
     "text": [
      "Train Epoch: 79 [0/3918 (0%)]\tLoss: 0.611718\n",
      "Mem before-during-after: 18543104 18618368 18544128\n"
     ]
    },
    {
     "name": "stderr",
     "output_type": "stream",
     "text": [
      " 45%|████████████████▎                   | 18.134426229509135/40 [18:54<25:41, 70.51s/it]"
     ]
    },
    {
     "name": "stdout",
     "output_type": "stream",
     "text": [
      "Train Epoch: 79 [640/3918 (16%)]\tLoss: 0.283785\n",
      "Mem before-during-after: 18544128 18618368 18544128\n"
     ]
    },
    {
     "name": "stderr",
     "output_type": "stream",
     "text": [
      " 46%|████████████████▍                   | 18.268852459017403/40 [19:02<21:38, 59.74s/it]"
     ]
    },
    {
     "name": "stdout",
     "output_type": "stream",
     "text": [
      "Train Epoch: 79 [1280/3918 (33%)]\tLoss: 0.447044\n",
      "Mem before-during-after: 18544128 18618368 18544128\n"
     ]
    },
    {
     "name": "stderr",
     "output_type": "stream",
     "text": [
      " 46%|█████████████████                    | 18.40000000000108/40 [19:10<21:43, 60.33s/it]"
     ]
    },
    {
     "name": "stdout",
     "output_type": "stream",
     "text": [
      "Train Epoch: 79 [1920/3918 (49%)]\tLoss: 0.239732\n",
      "Mem before-during-after: 18544128 18618368 18544128\n"
     ]
    },
    {
     "name": "stderr",
     "output_type": "stream",
     "text": [
      " 46%|████████████████▋                   | 18.527868852460163/40 [19:18<21:41, 60.62s/it]"
     ]
    },
    {
     "name": "stdout",
     "output_type": "stream",
     "text": [
      "Train Epoch: 79 [2560/3918 (66%)]\tLoss: 0.758108\n",
      "Mem before-during-after: 18544128 18618368 18544128\n"
     ]
    },
    {
     "name": "stderr",
     "output_type": "stream",
     "text": [
      " 47%|█████████████████▎                   | 18.66229508196843/40 [19:27<21:33, 60.61s/it]"
     ]
    },
    {
     "name": "stdout",
     "output_type": "stream",
     "text": [
      "Train Epoch: 79 [3200/3918 (82%)]\tLoss: 0.661533\n",
      "Mem before-during-after: 18544128 18618368 18544128\n"
     ]
    },
    {
     "name": "stderr",
     "output_type": "stream",
     "text": [
      " 47%|████████████████▉                   | 18.790163934427515/40 [19:35<21:47, 61.67s/it]"
     ]
    },
    {
     "name": "stdout",
     "output_type": "stream",
     "text": [
      "Train Epoch: 79 [3840/3918 (98%)]\tLoss: 0.432497\n",
      "Mem before-during-after: 18544128 18618368 18544128\n"
     ]
    },
    {
     "name": "stderr",
     "output_type": "stream",
     "text": [
      " 48%|█████████████████                   | 19.000000000001396/40 [19:47<22:11, 63.41s/it]"
     ]
    },
    {
     "name": "stdout",
     "output_type": "stream",
     "text": [
      "\n",
      "Test Epoch: 79\tAccuracy: 551/976 (56%)\n",
      "\n"
     ]
    },
    {
     "name": "stderr",
     "output_type": "stream",
     "text": [
      " 48%|█████████████████                   | 19.003278688525988/40 [19:48<23:13, 66.38s/it]"
     ]
    },
    {
     "name": "stdout",
     "output_type": "stream",
     "text": [
      "Train Epoch: 80 [0/3918 (0%)]\tLoss: 0.534191\n",
      "Mem before-during-after: 18543104 18618368 18544128\n"
     ]
    },
    {
     "name": "stderr",
     "output_type": "stream",
     "text": [
      " 48%|█████████████████▏                  | 19.134426229509664/40 [19:56<22:51, 65.73s/it]"
     ]
    },
    {
     "name": "stdout",
     "output_type": "stream",
     "text": [
      "Train Epoch: 80 [640/3918 (16%)]\tLoss: 0.407318\n",
      "Mem before-during-after: 18544128 18618368 18544128\n"
     ]
    },
    {
     "name": "stderr",
     "output_type": "stream",
     "text": [
      " 48%|█████████████████▎                  | 19.268852459017932/40 [20:04<21:07, 61.15s/it]"
     ]
    },
    {
     "name": "stdout",
     "output_type": "stream",
     "text": [
      "Train Epoch: 80 [1280/3918 (33%)]\tLoss: 0.582045\n",
      "Mem before-during-after: 18544128 18618368 18544128\n"
     ]
    },
    {
     "name": "stderr",
     "output_type": "stream",
     "text": [
      " 49%|█████████████████▍                  | 19.400000000001608/40 [20:13<24:14, 70.60s/it]"
     ]
    },
    {
     "name": "stdout",
     "output_type": "stream",
     "text": [
      "Train Epoch: 80 [1920/3918 (49%)]\tLoss: 0.297018\n",
      "Mem before-during-after: 18544128 18618368 18544128\n"
     ]
    },
    {
     "name": "stderr",
     "output_type": "stream",
     "text": [
      " 49%|█████████████████▌                  | 19.531147540985284/40 [20:21<21:14, 62.25s/it]"
     ]
    },
    {
     "name": "stdout",
     "output_type": "stream",
     "text": [
      "Train Epoch: 80 [2560/3918 (66%)]\tLoss: 0.440422\n",
      "Mem before-during-after: 18544128 18618368 18544128\n"
     ]
    },
    {
     "name": "stderr",
     "output_type": "stream",
     "text": [
      " 49%|██████████████████▏                  | 19.66229508196896/40 [20:29<20:49, 61.43s/it]"
     ]
    },
    {
     "name": "stdout",
     "output_type": "stream",
     "text": [
      "Train Epoch: 80 [3200/3918 (82%)]\tLoss: 0.294565\n",
      "Mem before-during-after: 18544128 18618368 18544128\n"
     ]
    },
    {
     "name": "stderr",
     "output_type": "stream",
     "text": [
      " 49%|█████████████████▊                  | 19.793442622952636/40 [20:37<20:11, 59.96s/it]"
     ]
    },
    {
     "name": "stdout",
     "output_type": "stream",
     "text": [
      "Train Epoch: 80 [3840/3918 (98%)]\tLoss: 0.414379\n",
      "Mem before-during-after: 18544128 18618368 18544128\n"
     ]
    },
    {
     "name": "stderr",
     "output_type": "stream",
     "text": [
      " 50%|██████████████████                  | 20.003278688526517/40 [20:50<20:10, 60.55s/it]"
     ]
    },
    {
     "name": "stdout",
     "output_type": "stream",
     "text": [
      "\n",
      "Test Epoch: 80\tAccuracy: 548/976 (56%)\n",
      "\n",
      "Train Epoch: 81 [0/3918 (0%)]\tLoss: 0.335957\n",
      "Mem before-during-after: 18543104 18618368 18544128\n"
     ]
    },
    {
     "name": "stderr",
     "output_type": "stream",
     "text": [
      " 50%|██████████████████                  | 20.134426229510193/40 [20:58<20:46, 62.73s/it]"
     ]
    },
    {
     "name": "stdout",
     "output_type": "stream",
     "text": [
      "Train Epoch: 81 [640/3918 (16%)]\tLoss: 0.537318\n",
      "Mem before-during-after: 18544128 18618368 18544128\n"
     ]
    },
    {
     "name": "stderr",
     "output_type": "stream",
     "text": [
      " 51%|██████████████████▋                  | 20.26885245901846/40 [21:07<20:14, 61.53s/it]"
     ]
    },
    {
     "name": "stdout",
     "output_type": "stream",
     "text": [
      "Train Epoch: 81 [1280/3918 (33%)]\tLoss: 0.324975\n",
      "Mem before-during-after: 18544128 18618368 18544128\n"
     ]
    },
    {
     "name": "stderr",
     "output_type": "stream",
     "text": [
      " 51%|██████████████████▎                 | 20.396721311477545/40 [21:15<20:19, 62.19s/it]"
     ]
    },
    {
     "name": "stdout",
     "output_type": "stream",
     "text": [
      "Train Epoch: 81 [1920/3918 (49%)]\tLoss: 0.207349\n",
      "Mem before-during-after: 18544128 18618368 18544128\n"
     ]
    },
    {
     "name": "stderr",
     "output_type": "stream",
     "text": [
      " 51%|██████████████████▉                  | 20.52786885246122/40 [21:23<20:23, 62.84s/it]"
     ]
    },
    {
     "name": "stdout",
     "output_type": "stream",
     "text": [
      "Train Epoch: 81 [2560/3918 (66%)]\tLoss: 0.228989\n",
      "Mem before-during-after: 18544128 18618368 18544128\n"
     ]
    },
    {
     "name": "stderr",
     "output_type": "stream",
     "text": [
      " 52%|██████████████████▌                 | 20.659016393444897/40 [21:31<19:51, 61.62s/it]"
     ]
    },
    {
     "name": "stdout",
     "output_type": "stream",
     "text": [
      "Train Epoch: 81 [3200/3918 (82%)]\tLoss: 0.533745\n",
      "Mem before-during-after: 18544128 18618368 18544128\n"
     ]
    },
    {
     "name": "stderr",
     "output_type": "stream",
     "text": [
      " 52%|██████████████████▋                 | 20.793442622953165/40 [21:40<19:33, 61.09s/it]"
     ]
    },
    {
     "name": "stdout",
     "output_type": "stream",
     "text": [
      "Train Epoch: 81 [3840/3918 (98%)]\tLoss: 0.449659\n",
      "Mem before-during-after: 18544128 18618368 18544128\n"
     ]
    },
    {
     "name": "stderr",
     "output_type": "stream",
     "text": [
      " 53%|██████████████████▉                 | 21.000000000002455/40 [21:52<19:05, 60.27s/it]"
     ]
    },
    {
     "name": "stdout",
     "output_type": "stream",
     "text": [
      "\n",
      "Test Epoch: 81\tAccuracy: 546/976 (56%)\n",
      "\n"
     ]
    },
    {
     "name": "stderr",
     "output_type": "stream",
     "text": [
      " 53%|██████████████████▉                 | 21.003278688527047/40 [21:52<19:33, 61.75s/it]"
     ]
    },
    {
     "name": "stdout",
     "output_type": "stream",
     "text": [
      "Train Epoch: 82 [0/3918 (0%)]\tLoss: 0.556342\n",
      "Mem before-during-after: 18543104 18618368 18544128\n"
     ]
    },
    {
     "name": "stderr",
     "output_type": "stream",
     "text": [
      " 53%|███████████████████                 | 21.134426229510723/40 [22:01<19:13, 61.12s/it]"
     ]
    },
    {
     "name": "stdout",
     "output_type": "stream",
     "text": [
      "Train Epoch: 82 [640/3918 (16%)]\tLoss: 0.238580\n",
      "Mem before-during-after: 18544128 18618368 18544128\n"
     ]
    },
    {
     "name": "stderr",
     "output_type": "stream",
     "text": [
      " 53%|███████████████████▋                 | 21.26885245901899/40 [22:09<19:15, 61.68s/it]"
     ]
    },
    {
     "name": "stdout",
     "output_type": "stream",
     "text": [
      "Train Epoch: 82 [1280/3918 (33%)]\tLoss: 0.237980\n",
      "Mem before-during-after: 18544128 18618368 18544128\n"
     ]
    },
    {
     "name": "stderr",
     "output_type": "stream",
     "text": [
      " 53%|███████████████████▎                | 21.396721311478075/40 [22:17<18:54, 60.99s/it]"
     ]
    },
    {
     "name": "stdout",
     "output_type": "stream",
     "text": [
      "Train Epoch: 82 [1920/3918 (49%)]\tLoss: 0.227901\n",
      "Mem before-during-after: 18544128 18618368 18544128\n"
     ]
    },
    {
     "name": "stderr",
     "output_type": "stream",
     "text": [
      " 54%|███████████████████▉                 | 21.52786885246175/40 [22:25<19:04, 61.95s/it]"
     ]
    },
    {
     "name": "stdout",
     "output_type": "stream",
     "text": [
      "Train Epoch: 82 [2560/3918 (66%)]\tLoss: 0.275186\n",
      "Mem before-during-after: 18544128 18618368 18544128\n"
     ]
    },
    {
     "name": "stderr",
     "output_type": "stream",
     "text": [
      " 54%|███████████████████▍                | 21.659016393445427/40 [22:33<19:40, 64.38s/it]"
     ]
    },
    {
     "name": "stdout",
     "output_type": "stream",
     "text": [
      "Train Epoch: 82 [3200/3918 (82%)]\tLoss: 0.563788\n",
      "Mem before-during-after: 18544128 18618368 18544128\n"
     ]
    },
    {
     "name": "stderr",
     "output_type": "stream",
     "text": [
      " 54%|███████████████████▌                | 21.790163934429103/40 [22:41<18:36, 61.33s/it]"
     ]
    },
    {
     "name": "stdout",
     "output_type": "stream",
     "text": [
      "Train Epoch: 82 [3840/3918 (98%)]\tLoss: 0.422613\n",
      "Mem before-during-after: 18544128 18618368 18544128\n"
     ]
    },
    {
     "name": "stderr",
     "output_type": "stream",
     "text": [
      " 55%|███████████████████▊                | 22.000000000002984/40 [22:54<18:20, 61.16s/it]"
     ]
    },
    {
     "name": "stdout",
     "output_type": "stream",
     "text": [
      "\n",
      "Test Epoch: 82\tAccuracy: 565/976 (58%)\n",
      "\n"
     ]
    },
    {
     "name": "stderr",
     "output_type": "stream",
     "text": [
      " 55%|███████████████████▊                | 22.003278688527576/40 [22:55<18:35, 61.99s/it]"
     ]
    },
    {
     "name": "stdout",
     "output_type": "stream",
     "text": [
      "Train Epoch: 83 [0/3918 (0%)]\tLoss: 0.295819\n",
      "Mem before-during-after: 18543104 18618368 18544128\n"
     ]
    },
    {
     "name": "stderr",
     "output_type": "stream",
     "text": [
      " 55%|███████████████████▉                | 22.137704918035844/40 [23:03<18:14, 61.30s/it]"
     ]
    },
    {
     "name": "stdout",
     "output_type": "stream",
     "text": [
      "Train Epoch: 83 [640/3918 (16%)]\tLoss: 0.261122\n",
      "Mem before-during-after: 18544128 18618368 18544128\n"
     ]
    },
    {
     "name": "stderr",
     "output_type": "stream",
     "text": [
      " 56%|████████████████████                | 22.265573770494928/40 [23:11<18:17, 61.91s/it]"
     ]
    },
    {
     "name": "stdout",
     "output_type": "stream",
     "text": [
      "Train Epoch: 83 [1280/3918 (33%)]\tLoss: 0.575142\n",
      "Mem before-during-after: 18544128 18618368 18544128\n"
     ]
    },
    {
     "name": "stderr",
     "output_type": "stream",
     "text": [
      " 56%|████████████████████▏               | 22.396721311478604/40 [23:19<18:04, 61.60s/it]"
     ]
    },
    {
     "name": "stdout",
     "output_type": "stream",
     "text": [
      "Train Epoch: 83 [1920/3918 (49%)]\tLoss: 0.195362\n",
      "Mem before-during-after: 18544128 18618368 18544128\n"
     ]
    },
    {
     "name": "stderr",
     "output_type": "stream",
     "text": [
      " 56%|████████████████████▎               | 22.531147540986872/40 [23:27<17:44, 60.96s/it]"
     ]
    },
    {
     "name": "stdout",
     "output_type": "stream",
     "text": [
      "Train Epoch: 83 [2560/3918 (66%)]\tLoss: 0.368047\n",
      "Mem before-during-after: 18544128 18618368 18544128\n"
     ]
    },
    {
     "name": "stderr",
     "output_type": "stream",
     "text": [
      " 57%|████████████████████▍               | 22.662295081970548/40 [23:35<18:00, 62.34s/it]"
     ]
    },
    {
     "name": "stdout",
     "output_type": "stream",
     "text": [
      "Train Epoch: 83 [3200/3918 (82%)]\tLoss: 0.339953\n",
      "Mem before-during-after: 18544128 18618368 18544128\n"
     ]
    },
    {
     "name": "stderr",
     "output_type": "stream",
     "text": [
      " 57%|████████████████████▌               | 22.790163934429632/40 [23:43<17:41, 61.70s/it]"
     ]
    },
    {
     "name": "stdout",
     "output_type": "stream",
     "text": [
      "Train Epoch: 83 [3840/3918 (98%)]\tLoss: 0.134399\n",
      "Mem before-during-after: 18544128 18618368 18544128\n"
     ]
    },
    {
     "name": "stderr",
     "output_type": "stream",
     "text": [
      " 58%|████████████████████▋               | 23.003278688528106/40 [23:57<17:18, 61.11s/it]"
     ]
    },
    {
     "name": "stdout",
     "output_type": "stream",
     "text": [
      "\n",
      "Test Epoch: 83\tAccuracy: 563/976 (57%)\n",
      "\n",
      "Train Epoch: 84 [0/3918 (0%)]\tLoss: 0.324043\n",
      "Mem before-during-after: 18543104 18618368 18544128\n"
     ]
    },
    {
     "name": "stderr",
     "output_type": "stream",
     "text": [
      " 58%|████████████████████▊               | 23.137704918036373/40 [24:05<17:20, 61.70s/it]"
     ]
    },
    {
     "name": "stdout",
     "output_type": "stream",
     "text": [
      "Train Epoch: 84 [640/3918 (16%)]\tLoss: 0.209915\n",
      "Mem before-during-after: 18544128 18618368 18544128\n"
     ]
    },
    {
     "name": "stderr",
     "output_type": "stream",
     "text": [
      " 58%|████████████████████▉               | 23.265573770495457/40 [24:13<17:18, 62.08s/it]"
     ]
    },
    {
     "name": "stdout",
     "output_type": "stream",
     "text": [
      "Train Epoch: 84 [1280/3918 (33%)]\tLoss: 0.507784\n",
      "Mem before-during-after: 18544128 18618368 18544128\n"
     ]
    },
    {
     "name": "stderr",
     "output_type": "stream",
     "text": [
      " 58%|█████████████████████               | 23.396721311479133/40 [24:21<17:24, 62.92s/it]"
     ]
    },
    {
     "name": "stdout",
     "output_type": "stream",
     "text": [
      "Train Epoch: 84 [1920/3918 (49%)]\tLoss: 0.325831\n",
      "Mem before-during-after: 18544128 18618368 18544128\n"
     ]
    },
    {
     "name": "stderr",
     "output_type": "stream",
     "text": [
      " 59%|██████████████████████▎               | 23.5311475409874/40 [24:29<16:46, 61.14s/it]"
     ]
    },
    {
     "name": "stdout",
     "output_type": "stream",
     "text": [
      "Train Epoch: 84 [2560/3918 (66%)]\tLoss: 0.231358\n",
      "Mem before-during-after: 18544128 18618368 18544128\n"
     ]
    },
    {
     "name": "stderr",
     "output_type": "stream",
     "text": [
      " 59%|█████████████████████▎              | 23.659016393446485/40 [24:37<16:56, 62.22s/it]"
     ]
    },
    {
     "name": "stdout",
     "output_type": "stream",
     "text": [
      "Train Epoch: 84 [3200/3918 (82%)]\tLoss: 0.279387\n",
      "Mem before-during-after: 18544128 18618368 18544128\n"
     ]
    },
    {
     "name": "stderr",
     "output_type": "stream",
     "text": [
      " 59%|██████████████████████               | 23.79016393443016/40 [24:46<16:21, 60.54s/it]"
     ]
    },
    {
     "name": "stdout",
     "output_type": "stream",
     "text": [
      "Train Epoch: 84 [3840/3918 (98%)]\tLoss: 0.612174\n",
      "Mem before-during-after: 18544128 18618368 18544128\n"
     ]
    },
    {
     "name": "stderr",
     "output_type": "stream",
     "text": [
      " 60%|█████████████████████▌              | 24.003278688528635/40 [24:59<16:09, 60.61s/it]"
     ]
    },
    {
     "name": "stdout",
     "output_type": "stream",
     "text": [
      "\n",
      "Test Epoch: 84\tAccuracy: 582/976 (59%)\n",
      "\n",
      "Train Epoch: 85 [0/3918 (0%)]\tLoss: 0.306574\n",
      "Mem before-during-after: 18543104 18618368 18544128\n"
     ]
    },
    {
     "name": "stderr",
     "output_type": "stream",
     "text": [
      " 60%|█████████████████████▋              | 24.137704918036903/40 [25:07<16:08, 61.03s/it]"
     ]
    },
    {
     "name": "stdout",
     "output_type": "stream",
     "text": [
      "Train Epoch: 85 [640/3918 (16%)]\tLoss: 0.267618\n",
      "Mem before-during-after: 18544128 18618368 18544128\n"
     ]
    },
    {
     "name": "stderr",
     "output_type": "stream",
     "text": [
      " 61%|██████████████████████▍              | 24.26885245902058/40 [25:15<16:04, 61.29s/it]"
     ]
    },
    {
     "name": "stdout",
     "output_type": "stream",
     "text": [
      "Train Epoch: 85 [1280/3918 (33%)]\tLoss: 0.069348\n",
      "Mem before-during-after: 18544128 18618368 18544128\n"
     ]
    },
    {
     "name": "stderr",
     "output_type": "stream",
     "text": [
      " 61%|█████████████████████▉              | 24.400000000004255/40 [25:23<15:54, 61.17s/it]"
     ]
    },
    {
     "name": "stdout",
     "output_type": "stream",
     "text": [
      "Train Epoch: 85 [1920/3918 (49%)]\tLoss: 0.460990\n",
      "Mem before-during-after: 18544128 18618368 18544128\n"
     ]
    },
    {
     "name": "stderr",
     "output_type": "stream",
     "text": [
      " 61%|██████████████████████▋              | 24.52786885246334/40 [25:31<16:03, 62.30s/it]"
     ]
    },
    {
     "name": "stdout",
     "output_type": "stream",
     "text": [
      "Train Epoch: 85 [2560/3918 (66%)]\tLoss: 0.432178\n",
      "Mem before-during-after: 18544128 18618368 18544128\n"
     ]
    },
    {
     "name": "stderr",
     "output_type": "stream",
     "text": [
      " 62%|██████████████████████▏             | 24.659016393447015/40 [25:40<16:14, 63.54s/it]"
     ]
    },
    {
     "name": "stdout",
     "output_type": "stream",
     "text": [
      "Train Epoch: 85 [3200/3918 (82%)]\tLoss: 0.775313\n",
      "Mem before-during-after: 18544128 18618368 18544128\n"
     ]
    },
    {
     "name": "stderr",
     "output_type": "stream",
     "text": [
      " 62%|██████████████████████▉              | 24.79016393443069/40 [25:48<16:23, 64.63s/it]"
     ]
    },
    {
     "name": "stdout",
     "output_type": "stream",
     "text": [
      "Train Epoch: 85 [3840/3918 (98%)]\tLoss: 0.335865\n",
      "Mem before-during-after: 18544128 18618368 18544128\n"
     ]
    },
    {
     "name": "stderr",
     "output_type": "stream",
     "text": [
      " 63%|██████████████████████▌             | 25.003278688529164/40 [26:01<15:21, 61.43s/it]"
     ]
    },
    {
     "name": "stdout",
     "output_type": "stream",
     "text": [
      "\n",
      "Test Epoch: 85\tAccuracy: 559/976 (57%)\n",
      "\n",
      "Train Epoch: 86 [0/3918 (0%)]\tLoss: 0.395481\n",
      "Mem before-during-after: 18543104 18618368 18544128\n"
     ]
    },
    {
     "name": "stderr",
     "output_type": "stream",
     "text": [
      " 63%|██████████████████████▌             | 25.137704918037432/40 [26:09<15:37, 63.06s/it]"
     ]
    },
    {
     "name": "stdout",
     "output_type": "stream",
     "text": [
      "Train Epoch: 86 [640/3918 (16%)]\tLoss: 0.051820\n",
      "Mem before-during-after: 18544128 18618368 18544128\n"
     ]
    },
    {
     "name": "stderr",
     "output_type": "stream",
     "text": [
      " 63%|██████████████████████▋             | 25.265573770496516/40 [26:17<15:38, 63.68s/it]"
     ]
    },
    {
     "name": "stdout",
     "output_type": "stream",
     "text": [
      "Train Epoch: 86 [1280/3918 (33%)]\tLoss: 0.418457\n",
      "Mem before-during-after: 18544128 18618368 18544128\n"
     ]
    },
    {
     "name": "stderr",
     "output_type": "stream",
     "text": [
      " 64%|██████████████████████▊             | 25.400000000004784/40 [26:26<14:48, 60.86s/it]"
     ]
    },
    {
     "name": "stdout",
     "output_type": "stream",
     "text": [
      "Train Epoch: 86 [1920/3918 (49%)]\tLoss: 0.184314\n",
      "Mem before-during-after: 18544128 18618368 18544128\n"
     ]
    },
    {
     "name": "stderr",
     "output_type": "stream",
     "text": [
      " 64%|███████████████████████▌             | 25.53114754098846/40 [26:34<15:07, 62.73s/it]"
     ]
    },
    {
     "name": "stdout",
     "output_type": "stream",
     "text": [
      "Train Epoch: 86 [2560/3918 (66%)]\tLoss: 0.361696\n",
      "Mem before-during-after: 18544128 18618368 18544128\n"
     ]
    },
    {
     "name": "stderr",
     "output_type": "stream",
     "text": [
      " 64%|███████████████████████             | 25.659016393447544/40 [26:42<14:47, 61.86s/it]"
     ]
    },
    {
     "name": "stdout",
     "output_type": "stream",
     "text": [
      "Train Epoch: 86 [3200/3918 (82%)]\tLoss: 0.271524\n",
      "Mem before-during-after: 18544128 18618368 18544128\n"
     ]
    },
    {
     "name": "stderr",
     "output_type": "stream",
     "text": [
      " 64%|███████████████████████▏            | 25.793442622955812/40 [26:51<14:28, 61.15s/it]"
     ]
    },
    {
     "name": "stdout",
     "output_type": "stream",
     "text": [
      "Train Epoch: 86 [3840/3918 (98%)]\tLoss: 0.253432\n",
      "Mem before-during-after: 18544128 18618368 18544128\n"
     ]
    },
    {
     "name": "stderr",
     "output_type": "stream",
     "text": [
      " 65%|███████████████████████▍            | 26.003278688529694/40 [27:03<14:01, 60.12s/it]"
     ]
    },
    {
     "name": "stdout",
     "output_type": "stream",
     "text": [
      "\n",
      "Test Epoch: 86\tAccuracy: 542/976 (55%)\n",
      "\n",
      "Train Epoch: 87 [0/3918 (0%)]\tLoss: 0.474036\n",
      "Mem before-during-after: 18543104 18618368 18544128\n"
     ]
    },
    {
     "name": "stderr",
     "output_type": "stream",
     "text": [
      " 65%|████████████████████████▏            | 26.13770491803796/40 [27:12<14:07, 61.17s/it]"
     ]
    },
    {
     "name": "stdout",
     "output_type": "stream",
     "text": [
      "Train Epoch: 87 [640/3918 (16%)]\tLoss: 0.349540\n",
      "Mem before-during-after: 18544128 18618368 18544128\n"
     ]
    },
    {
     "name": "stderr",
     "output_type": "stream",
     "text": [
      " 66%|███████████████████████▋            | 26.265573770497046/40 [27:20<13:56, 60.89s/it]"
     ]
    },
    {
     "name": "stdout",
     "output_type": "stream",
     "text": [
      "Train Epoch: 87 [1280/3918 (33%)]\tLoss: 0.260116\n",
      "Mem before-during-after: 18544128 18618368 18544128\n"
     ]
    },
    {
     "name": "stderr",
     "output_type": "stream",
     "text": [
      " 66%|████████████████████████▍            | 26.39672131148072/40 [27:28<13:56, 61.48s/it]"
     ]
    },
    {
     "name": "stdout",
     "output_type": "stream",
     "text": [
      "Train Epoch: 87 [1920/3918 (49%)]\tLoss: 0.798315\n",
      "Mem before-during-after: 18544128 18618368 18544128\n"
     ]
    },
    {
     "name": "stderr",
     "output_type": "stream",
     "text": [
      " 66%|████████████████████████▌            | 26.53114754098899/40 [27:36<13:36, 60.62s/it]"
     ]
    },
    {
     "name": "stdout",
     "output_type": "stream",
     "text": [
      "Train Epoch: 87 [2560/3918 (66%)]\tLoss: 0.077572\n",
      "Mem before-during-after: 18544128 18618368 18544128\n"
     ]
    },
    {
     "name": "stderr",
     "output_type": "stream",
     "text": [
      " 67%|███████████████████████▉            | 26.662295081972665/40 [27:44<13:30, 60.79s/it]"
     ]
    },
    {
     "name": "stdout",
     "output_type": "stream",
     "text": [
      "Train Epoch: 87 [3200/3918 (82%)]\tLoss: 0.092109\n",
      "Mem before-during-after: 18544128 18618368 18544128\n"
     ]
    },
    {
     "name": "stderr",
     "output_type": "stream",
     "text": [
      " 67%|████████████████████████▊            | 26.79344262295634/40 [27:52<13:32, 61.53s/it]"
     ]
    },
    {
     "name": "stdout",
     "output_type": "stream",
     "text": [
      "Train Epoch: 87 [3840/3918 (98%)]\tLoss: 0.180107\n",
      "Mem before-during-after: 18544128 18618368 18544128\n"
     ]
    },
    {
     "name": "stderr",
     "output_type": "stream",
     "text": [
      " 68%|████████████████████████▉            | 27.00000000000563/40 [28:05<13:21, 61.69s/it]"
     ]
    },
    {
     "name": "stdout",
     "output_type": "stream",
     "text": [
      "\n",
      "Test Epoch: 87\tAccuracy: 557/976 (57%)\n",
      "\n"
     ]
    },
    {
     "name": "stderr",
     "output_type": "stream",
     "text": [
      " 68%|████████████████████████▎           | 27.003278688530223/40 [28:05<13:27, 62.10s/it]"
     ]
    },
    {
     "name": "stdout",
     "output_type": "stream",
     "text": [
      "Train Epoch: 88 [0/3918 (0%)]\tLoss: 0.623546\n",
      "Mem before-during-after: 18543104 18618368 18544128\n"
     ]
    },
    {
     "name": "stderr",
     "output_type": "stream",
     "text": [
      " 68%|█████████████████████████▊            | 27.1344262295139/40 [28:14<13:33, 63.26s/it]"
     ]
    },
    {
     "name": "stdout",
     "output_type": "stream",
     "text": [
      "Train Epoch: 88 [640/3918 (16%)]\tLoss: 0.226563\n",
      "Mem before-during-after: 18544128 18618368 18544128\n"
     ]
    },
    {
     "name": "stderr",
     "output_type": "stream",
     "text": [
      " 68%|████████████████████████▌           | 27.265573770497575/40 [28:22<13:28, 63.49s/it]"
     ]
    },
    {
     "name": "stdout",
     "output_type": "stream",
     "text": [
      "Train Epoch: 88 [1280/3918 (33%)]\tLoss: 0.298847\n",
      "Mem before-during-after: 18544128 18618368 18544128\n"
     ]
    },
    {
     "name": "stderr",
     "output_type": "stream",
     "text": [
      " 68%|█████████████████████████▎           | 27.39672131148125/40 [28:30<12:45, 60.73s/it]"
     ]
    },
    {
     "name": "stdout",
     "output_type": "stream",
     "text": [
      "Train Epoch: 88 [1920/3918 (49%)]\tLoss: 0.243327\n",
      "Mem before-during-after: 18544128 18618368 18544128\n"
     ]
    },
    {
     "name": "stderr",
     "output_type": "stream",
     "text": [
      " 69%|████████████████████████▊           | 27.527868852464927/40 [28:38<13:06, 63.10s/it]"
     ]
    },
    {
     "name": "stdout",
     "output_type": "stream",
     "text": [
      "Train Epoch: 88 [2560/3918 (66%)]\tLoss: 0.597602\n",
      "Mem before-during-after: 18544128 18618368 18544128\n"
     ]
    },
    {
     "name": "stderr",
     "output_type": "stream",
     "text": [
      " 69%|████████████████████████▉           | 27.662295081973195/40 [28:47<12:39, 61.55s/it]"
     ]
    },
    {
     "name": "stdout",
     "output_type": "stream",
     "text": [
      "Train Epoch: 88 [3200/3918 (82%)]\tLoss: 0.214678\n",
      "Mem before-during-after: 18544128 18618368 18544128\n"
     ]
    },
    {
     "name": "stderr",
     "output_type": "stream",
     "text": [
      " 69%|█████████████████████████▋           | 27.79016393443228/40 [28:55<12:47, 62.82s/it]"
     ]
    },
    {
     "name": "stdout",
     "output_type": "stream",
     "text": [
      "Train Epoch: 88 [3840/3918 (98%)]\tLoss: 0.258069\n",
      "Mem before-during-after: 18544128 18618368 18544128\n"
     ]
    },
    {
     "name": "stderr",
     "output_type": "stream",
     "text": [
      " 70%|█████████████████████████▏          | 28.003278688530752/40 [29:08<12:35, 62.99s/it]"
     ]
    },
    {
     "name": "stdout",
     "output_type": "stream",
     "text": [
      "\n",
      "Test Epoch: 88\tAccuracy: 571/976 (58%)\n",
      "\n",
      "Train Epoch: 89 [0/3918 (0%)]\tLoss: 0.496965\n",
      "Mem before-during-after: 18543104 18618368 18544128\n"
     ]
    },
    {
     "name": "stderr",
     "output_type": "stream",
     "text": [
      " 70%|██████████████████████████           | 28.13770491803902/40 [29:16<12:05, 61.14s/it]"
     ]
    },
    {
     "name": "stdout",
     "output_type": "stream",
     "text": [
      "Train Epoch: 89 [640/3918 (16%)]\tLoss: 0.607488\n",
      "Mem before-during-after: 18544128 18618368 18544128\n"
     ]
    },
    {
     "name": "stderr",
     "output_type": "stream",
     "text": [
      " 71%|█████████████████████████▍          | 28.268852459022696/40 [29:24<12:04, 61.72s/it]"
     ]
    },
    {
     "name": "stdout",
     "output_type": "stream",
     "text": [
      "Train Epoch: 89 [1280/3918 (33%)]\tLoss: 0.364250\n",
      "Mem before-during-after: 18544128 18618368 18544128\n"
     ]
    },
    {
     "name": "stderr",
     "output_type": "stream",
     "text": [
      " 71%|█████████████████████████▌          | 28.400000000006372/40 [29:33<11:58, 61.91s/it]"
     ]
    },
    {
     "name": "stdout",
     "output_type": "stream",
     "text": [
      "Train Epoch: 89 [1920/3918 (49%)]\tLoss: 0.248986\n",
      "Mem before-during-after: 18544128 18618368 18544128\n"
     ]
    },
    {
     "name": "stderr",
     "output_type": "stream",
     "text": [
      " 71%|█████████████████████████▋          | 28.527868852465456/40 [29:41<12:10, 63.66s/it]"
     ]
    },
    {
     "name": "stdout",
     "output_type": "stream",
     "text": [
      "Train Epoch: 89 [2560/3918 (66%)]\tLoss: 0.528002\n",
      "Mem before-during-after: 18544128 18618368 18544128\n"
     ]
    },
    {
     "name": "stderr",
     "output_type": "stream",
     "text": [
      " 72%|█████████████████████████▊          | 28.659016393449132/40 [29:49<11:56, 63.17s/it]"
     ]
    },
    {
     "name": "stdout",
     "output_type": "stream",
     "text": [
      "Train Epoch: 89 [3200/3918 (82%)]\tLoss: 0.168036\n",
      "Mem before-during-after: 18544128 18618368 18544128\n"
     ]
    },
    {
     "name": "stderr",
     "output_type": "stream",
     "text": [
      " 72%|███████████████████████████▎          | 28.7934426229574/40 [29:57<11:16, 60.33s/it]"
     ]
    },
    {
     "name": "stdout",
     "output_type": "stream",
     "text": [
      "Train Epoch: 89 [3840/3918 (98%)]\tLoss: 0.262162\n",
      "Mem before-during-after: 18544128 18618368 18544128\n"
     ]
    },
    {
     "name": "stderr",
     "output_type": "stream",
     "text": [
      " 73%|██████████████████████████▊          | 29.00327868853128/40 [30:10<11:19, 61.79s/it]"
     ]
    },
    {
     "name": "stdout",
     "output_type": "stream",
     "text": [
      "\n",
      "Test Epoch: 89\tAccuracy: 573/976 (58%)\n",
      "\n",
      "Train Epoch: 90 [0/3918 (0%)]\tLoss: 0.288454\n",
      "Mem before-during-after: 18543104 18618368 18544128\n"
     ]
    },
    {
     "name": "stderr",
     "output_type": "stream",
     "text": [
      " 73%|██████████████████████████▏         | 29.134426229514958/40 [30:19<11:03, 61.09s/it]"
     ]
    },
    {
     "name": "stdout",
     "output_type": "stream",
     "text": [
      "Train Epoch: 90 [640/3918 (16%)]\tLoss: 0.145813\n",
      "Mem before-during-after: 18544128 18618368 18544128\n"
     ]
    },
    {
     "name": "stderr",
     "output_type": "stream",
     "text": [
      " 73%|██████████████████████████▎         | 29.268852459023226/40 [30:27<10:59, 61.44s/it]"
     ]
    },
    {
     "name": "stdout",
     "output_type": "stream",
     "text": [
      "Train Epoch: 90 [1280/3918 (33%)]\tLoss: 0.303994\n",
      "Mem before-during-after: 18544128 18618368 18544128\n"
     ]
    },
    {
     "name": "stderr",
     "output_type": "stream",
     "text": [
      " 73%|███████████████████████████▏         | 29.39672131148231/40 [30:35<10:59, 62.16s/it]"
     ]
    },
    {
     "name": "stdout",
     "output_type": "stream",
     "text": [
      "Train Epoch: 90 [1920/3918 (49%)]\tLoss: 0.164931\n",
      "Mem before-during-after: 18544128 18618368 18544128\n"
     ]
    },
    {
     "name": "stderr",
     "output_type": "stream",
     "text": [
      " 74%|██████████████████████████▌         | 29.527868852465986/40 [30:43<10:30, 60.18s/it]"
     ]
    },
    {
     "name": "stdout",
     "output_type": "stream",
     "text": [
      "Train Epoch: 90 [2560/3918 (66%)]\tLoss: 0.506869\n",
      "Mem before-during-after: 18544128 18618368 18544128\n"
     ]
    },
    {
     "name": "stderr",
     "output_type": "stream",
     "text": [
      " 74%|███████████████████████████▍         | 29.65901639344966/40 [30:51<10:47, 62.59s/it]"
     ]
    },
    {
     "name": "stdout",
     "output_type": "stream",
     "text": [
      "Train Epoch: 90 [3200/3918 (82%)]\tLoss: 0.144166\n",
      "Mem before-during-after: 18544128 18618368 18544128\n"
     ]
    },
    {
     "name": "stderr",
     "output_type": "stream",
     "text": [
      " 74%|███████████████████████████▌         | 29.79344262295793/40 [31:00<11:07, 65.36s/it]"
     ]
    },
    {
     "name": "stdout",
     "output_type": "stream",
     "text": [
      "Train Epoch: 90 [3840/3918 (98%)]\tLoss: 0.561102\n",
      "Mem before-during-after: 18544128 18618368 18544128\n"
     ]
    },
    {
     "name": "stderr",
     "output_type": "stream",
     "text": [
      " 75%|███████████████████████████▊         | 30.00000000000722/40 [31:12<10:15, 61.58s/it]"
     ]
    },
    {
     "name": "stdout",
     "output_type": "stream",
     "text": [
      "\n",
      "Test Epoch: 90\tAccuracy: 583/976 (59%)\n",
      "\n"
     ]
    },
    {
     "name": "stderr",
     "output_type": "stream",
     "text": [
      " 75%|███████████████████████████▊         | 30.00327868853181/40 [31:13<10:16, 61.68s/it]"
     ]
    },
    {
     "name": "stdout",
     "output_type": "stream",
     "text": [
      "Train Epoch: 91 [0/3918 (0%)]\tLoss: 0.157362\n",
      "Mem before-during-after: 18543104 18618368 18544128\n"
     ]
    },
    {
     "name": "stderr",
     "output_type": "stream",
     "text": [
      " 75%|███████████████████████████▉         | 30.13770491804008/40 [31:21<10:22, 63.11s/it]"
     ]
    },
    {
     "name": "stdout",
     "output_type": "stream",
     "text": [
      "Train Epoch: 91 [640/3918 (16%)]\tLoss: 0.205610\n",
      "Mem before-during-after: 18544128 18618368 18544128\n"
     ]
    },
    {
     "name": "stderr",
     "output_type": "stream",
     "text": [
      " 76%|███████████████████████████▏        | 30.265573770499163/40 [31:29<10:00, 61.68s/it]"
     ]
    },
    {
     "name": "stdout",
     "output_type": "stream",
     "text": [
      "Train Epoch: 91 [1280/3918 (33%)]\tLoss: 0.321355\n",
      "Mem before-during-after: 18544128 18618368 18544128\n"
     ]
    },
    {
     "name": "stderr",
     "output_type": "stream",
     "text": [
      " 76%|████████████████████████████         | 30.39672131148284/40 [31:37<09:49, 61.37s/it]"
     ]
    },
    {
     "name": "stdout",
     "output_type": "stream",
     "text": [
      "Train Epoch: 91 [1920/3918 (49%)]\tLoss: 0.444764\n",
      "Mem before-during-after: 18544128 18618368 18544128\n"
     ]
    },
    {
     "name": "stderr",
     "output_type": "stream",
     "text": [
      " 76%|███████████████████████████▍        | 30.531147540991107/40 [31:45<09:36, 60.93s/it]"
     ]
    },
    {
     "name": "stdout",
     "output_type": "stream",
     "text": [
      "Train Epoch: 91 [2560/3918 (66%)]\tLoss: 0.575343\n",
      "Mem before-during-after: 18544128 18618368 18544128\n"
     ]
    },
    {
     "name": "stderr",
     "output_type": "stream",
     "text": [
      " 77%|███████████████████████████▌        | 30.662295081974783/40 [31:53<09:26, 60.63s/it]"
     ]
    },
    {
     "name": "stdout",
     "output_type": "stream",
     "text": [
      "Train Epoch: 91 [3200/3918 (82%)]\tLoss: 0.577800\n",
      "Mem before-during-after: 18544128 18618368 18544128\n"
     ]
    },
    {
     "name": "stderr",
     "output_type": "stream",
     "text": [
      " 77%|███████████████████████████▋        | 30.790163934433867/40 [32:02<09:32, 62.17s/it]"
     ]
    },
    {
     "name": "stdout",
     "output_type": "stream",
     "text": [
      "Train Epoch: 91 [3840/3918 (98%)]\tLoss: 0.753669\n",
      "Mem before-during-after: 18544128 18618368 18544128\n"
     ]
    },
    {
     "name": "stderr",
     "output_type": "stream",
     "text": [
      " 78%|████████████████████████████▋        | 31.00327868853234/40 [32:15<09:13, 61.48s/it]"
     ]
    },
    {
     "name": "stdout",
     "output_type": "stream",
     "text": [
      "\n",
      "Test Epoch: 91\tAccuracy: 571/976 (58%)\n",
      "\n",
      "Train Epoch: 92 [0/3918 (0%)]\tLoss: 0.507155\n",
      "Mem before-during-after: 18543104 18618368 18544128\n"
     ]
    },
    {
     "name": "stderr",
     "output_type": "stream",
     "text": [
      " 78%|████████████████████████████        | 31.134426229516016/40 [32:23<09:03, 61.31s/it]"
     ]
    },
    {
     "name": "stdout",
     "output_type": "stream",
     "text": [
      "Train Epoch: 92 [640/3918 (16%)]\tLoss: 0.377455\n",
      "Mem before-during-after: 18544128 18618368 18544128\n"
     ]
    },
    {
     "name": "stderr",
     "output_type": "stream",
     "text": [
      " 78%|████████████████████████████▏       | 31.268852459024284/40 [32:31<08:54, 61.19s/it]"
     ]
    },
    {
     "name": "stdout",
     "output_type": "stream",
     "text": [
      "Train Epoch: 92 [1280/3918 (33%)]\tLoss: 0.342544\n",
      "Mem before-during-after: 18544128 18618368 18544128\n"
     ]
    },
    {
     "name": "stderr",
     "output_type": "stream",
     "text": [
      " 78%|█████████████████████████████        | 31.39672131148337/40 [32:39<08:57, 62.45s/it]"
     ]
    },
    {
     "name": "stdout",
     "output_type": "stream",
     "text": [
      "Train Epoch: 92 [1920/3918 (49%)]\tLoss: 0.211432\n",
      "Mem before-during-after: 18544128 18618368 18544128\n"
     ]
    },
    {
     "name": "stderr",
     "output_type": "stream",
     "text": [
      " 79%|████████████████████████████▍       | 31.527868852467044/40 [32:48<08:51, 62.76s/it]"
     ]
    },
    {
     "name": "stdout",
     "output_type": "stream",
     "text": [
      "Train Epoch: 92 [2560/3918 (66%)]\tLoss: 0.627816\n",
      "Mem before-during-after: 18544128 18618368 18544128\n"
     ]
    },
    {
     "name": "stderr",
     "output_type": "stream",
     "text": [
      " 79%|█████████████████████████████▎       | 31.65901639345072/40 [32:56<08:39, 62.23s/it]"
     ]
    },
    {
     "name": "stdout",
     "output_type": "stream",
     "text": [
      "Train Epoch: 92 [3200/3918 (82%)]\tLoss: 0.536789\n",
      "Mem before-during-after: 18544128 18618368 18544128\n"
     ]
    },
    {
     "name": "stderr",
     "output_type": "stream",
     "text": [
      " 79%|████████████████████████████▌       | 31.790163934434396/40 [33:04<08:22, 61.25s/it]"
     ]
    },
    {
     "name": "stdout",
     "output_type": "stream",
     "text": [
      "Train Epoch: 92 [3840/3918 (98%)]\tLoss: 0.426657\n",
      "Mem before-during-after: 18544128 18618368 18544128\n"
     ]
    },
    {
     "name": "stderr",
     "output_type": "stream",
     "text": [
      " 80%|████████████████████████████▊       | 32.003278688532866/40 [33:17<08:12, 61.60s/it]"
     ]
    },
    {
     "name": "stdout",
     "output_type": "stream",
     "text": [
      "\n",
      "Test Epoch: 92\tAccuracy: 551/976 (56%)\n",
      "\n",
      "Train Epoch: 93 [0/3918 (0%)]\tLoss: 0.464693\n",
      "Mem before-during-after: 18543104 18618368 18544128\n"
     ]
    },
    {
     "name": "stderr",
     "output_type": "stream",
     "text": [
      " 80%|█████████████████████████████▋       | 32.13770491804099/40 [33:26<08:01, 61.26s/it]"
     ]
    },
    {
     "name": "stdout",
     "output_type": "stream",
     "text": [
      "Train Epoch: 93 [640/3918 (16%)]\tLoss: 0.351799\n",
      "Mem before-during-after: 18544128 18618368 18544128\n"
     ]
    },
    {
     "name": "stderr",
     "output_type": "stream",
     "text": [
      " 81%|█████████████████████████████       | 32.265573770499934/40 [33:34<08:07, 63.01s/it]"
     ]
    },
    {
     "name": "stdout",
     "output_type": "stream",
     "text": [
      "Train Epoch: 93 [1280/3918 (33%)]\tLoss: 0.148355\n",
      "Mem before-during-after: 18544128 18618368 18544128\n"
     ]
    },
    {
     "name": "stderr",
     "output_type": "stream",
     "text": [
      " 81%|█████████████████████████████▉       | 32.39672131148347/40 [33:42<07:59, 63.12s/it]"
     ]
    },
    {
     "name": "stdout",
     "output_type": "stream",
     "text": [
      "Train Epoch: 93 [1920/3918 (49%)]\tLoss: 0.087685\n",
      "Mem before-during-after: 18544128 18618368 18544128\n"
     ]
    },
    {
     "name": "stderr",
     "output_type": "stream",
     "text": [
      " 81%|███████████████████████████████▋       | 32.527868852467/40 [33:50<07:47, 62.57s/it]"
     ]
    },
    {
     "name": "stdout",
     "output_type": "stream",
     "text": [
      "Train Epoch: 93 [2560/3918 (66%)]\tLoss: 0.454764\n",
      "Mem before-during-after: 18544128 18618368 18544128\n"
     ]
    },
    {
     "name": "stderr",
     "output_type": "stream",
     "text": [
      " 82%|█████████████████████████████▍      | 32.659016393450536/40 [33:58<07:44, 63.22s/it]"
     ]
    },
    {
     "name": "stdout",
     "output_type": "stream",
     "text": [
      "Train Epoch: 93 [3200/3918 (82%)]\tLoss: 0.110225\n",
      "Mem before-during-after: 18544128 18618368 18544128\n"
     ]
    },
    {
     "name": "stderr",
     "output_type": "stream",
     "text": [
      " 82%|██████████████████████████████▎      | 32.79016393443407/40 [34:06<07:22, 61.36s/it]"
     ]
    },
    {
     "name": "stdout",
     "output_type": "stream",
     "text": [
      "Train Epoch: 93 [3840/3918 (98%)]\tLoss: 0.265565\n",
      "Mem before-during-after: 18544128 18618368 18544128\n"
     ]
    },
    {
     "name": "stderr",
     "output_type": "stream",
     "text": [
      " 83%|█████████████████████████████▋      | 33.000000000007724/40 [34:20<07:13, 61.94s/it]"
     ]
    },
    {
     "name": "stdout",
     "output_type": "stream",
     "text": [
      "\n",
      "Test Epoch: 93\tAccuracy: 567/976 (58%)\n",
      "\n"
     ]
    },
    {
     "name": "stderr",
     "output_type": "stream",
     "text": [
      " 83%|███████████████████████████████▎      | 33.0065573770569/40 [34:20<07:11, 61.73s/it]"
     ]
    },
    {
     "name": "stdout",
     "output_type": "stream",
     "text": [
      "Train Epoch: 94 [0/3918 (0%)]\tLoss: 0.558333\n",
      "Mem before-during-after: 18543104 18618368 18544128\n"
     ]
    },
    {
     "name": "stderr",
     "output_type": "stream",
     "text": [
      " 83%|█████████████████████████████▊      | 33.137704918040434/40 [34:28<07:11, 62.86s/it]"
     ]
    },
    {
     "name": "stdout",
     "output_type": "stream",
     "text": [
      "Train Epoch: 94 [640/3918 (16%)]\tLoss: 0.227871\n",
      "Mem before-during-after: 18544128 18618368 18544128\n"
     ]
    },
    {
     "name": "stderr",
     "output_type": "stream",
     "text": [
      " 83%|██████████████████████████████▊      | 33.26557377049938/40 [34:36<06:49, 60.87s/it]"
     ]
    },
    {
     "name": "stdout",
     "output_type": "stream",
     "text": [
      "Train Epoch: 94 [1280/3918 (33%)]\tLoss: 0.146969\n",
      "Mem before-during-after: 18544128 18618368 18544128\n"
     ]
    },
    {
     "name": "stderr",
     "output_type": "stream",
     "text": [
      " 83%|██████████████████████████████      | 33.396721311482914/40 [34:44<06:46, 61.52s/it]"
     ]
    },
    {
     "name": "stdout",
     "output_type": "stream",
     "text": [
      "Train Epoch: 94 [1920/3918 (49%)]\tLoss: 0.275512\n",
      "Mem before-during-after: 18544128 18618368 18544128\n"
     ]
    },
    {
     "name": "stderr",
     "output_type": "stream",
     "text": [
      " 84%|███████████████████████████████      | 33.52786885246645/40 [34:53<06:38, 61.64s/it]"
     ]
    },
    {
     "name": "stdout",
     "output_type": "stream",
     "text": [
      "Train Epoch: 94 [2560/3918 (66%)]\tLoss: 0.104225\n",
      "Mem before-during-after: 18544128 18618368 18544128\n"
     ]
    },
    {
     "name": "stderr",
     "output_type": "stream",
     "text": [
      " 84%|███████████████████████████████▏     | 33.65901639344998/40 [35:01<06:32, 61.94s/it]"
     ]
    },
    {
     "name": "stdout",
     "output_type": "stream",
     "text": [
      "Train Epoch: 94 [3200/3918 (82%)]\tLoss: 1.165861\n",
      "Mem before-during-after: 18544128 18618368 18544128\n"
     ]
    },
    {
     "name": "stderr",
     "output_type": "stream",
     "text": [
      " 84%|██████████████████████████████▍     | 33.790163934433515/40 [35:09<06:24, 61.95s/it]"
     ]
    },
    {
     "name": "stdout",
     "output_type": "stream",
     "text": [
      "Train Epoch: 94 [3840/3918 (98%)]\tLoss: 0.343098\n",
      "Mem before-during-after: 18544128 18618368 18544128\n"
     ]
    },
    {
     "name": "stderr",
     "output_type": "stream",
     "text": [
      " 85%|███████████████████████████████▍     | 34.00327868853176/40 [35:22<06:07, 61.22s/it]"
     ]
    },
    {
     "name": "stdout",
     "output_type": "stream",
     "text": [
      "\n",
      "Test Epoch: 94\tAccuracy: 572/976 (58%)\n",
      "\n",
      "Train Epoch: 95 [0/3918 (0%)]\tLoss: 0.186056\n",
      "Mem before-during-after: 18543104 18618368 18544128\n"
     ]
    },
    {
     "name": "stderr",
     "output_type": "stream",
     "text": [
      " 85%|███████████████████████████████▌     | 34.13442622951529/40 [35:30<06:04, 62.15s/it]"
     ]
    },
    {
     "name": "stdout",
     "output_type": "stream",
     "text": [
      "Train Epoch: 95 [640/3918 (16%)]\tLoss: 0.206971\n",
      "Mem before-during-after: 18544128 18618368 18544128\n"
     ]
    },
    {
     "name": "stderr",
     "output_type": "stream",
     "text": [
      " 86%|██████████████████████████████▊     | 34.265573770498825/40 [35:38<05:54, 61.83s/it]"
     ]
    },
    {
     "name": "stdout",
     "output_type": "stream",
     "text": [
      "Train Epoch: 95 [1280/3918 (33%)]\tLoss: 0.175150\n",
      "Mem before-during-after: 18544128 18618368 18544128\n"
     ]
    },
    {
     "name": "stderr",
     "output_type": "stream",
     "text": [
      " 86%|███████████████████████████████▊     | 34.39672131148236/40 [35:47<05:47, 62.10s/it]"
     ]
    },
    {
     "name": "stdout",
     "output_type": "stream",
     "text": [
      "Train Epoch: 95 [1920/3918 (49%)]\tLoss: 0.277719\n",
      "Mem before-during-after: 18544128 18618368 18544128\n"
     ]
    },
    {
     "name": "stderr",
     "output_type": "stream",
     "text": [
      " 86%|███████████████████████████████▉     | 34.53114754099048/40 [35:55<05:38, 61.86s/it]"
     ]
    },
    {
     "name": "stdout",
     "output_type": "stream",
     "text": [
      "Train Epoch: 95 [2560/3918 (66%)]\tLoss: 0.264170\n",
      "Mem before-during-after: 18544128 18618368 18544128\n"
     ]
    },
    {
     "name": "stderr",
     "output_type": "stream",
     "text": [
      " 87%|███████████████████████████████▏    | 34.662295081974015/40 [36:03<05:28, 61.47s/it]"
     ]
    },
    {
     "name": "stdout",
     "output_type": "stream",
     "text": [
      "Train Epoch: 95 [3200/3918 (82%)]\tLoss: 0.627363\n",
      "Mem before-during-after: 18544128 18618368 18544128\n"
     ]
    },
    {
     "name": "stderr",
     "output_type": "stream",
     "text": [
      " 87%|████████████████████████████████▏    | 34.79344262295755/40 [36:11<05:19, 61.46s/it]"
     ]
    },
    {
     "name": "stdout",
     "output_type": "stream",
     "text": [
      "Train Epoch: 95 [3840/3918 (98%)]\tLoss: 0.117793\n",
      "Mem before-during-after: 18544128 18618368 18544128\n"
     ]
    },
    {
     "name": "stderr",
     "output_type": "stream",
     "text": [
      " 88%|███████████████████████████████▌    | 35.000000000006615/40 [36:24<05:08, 61.62s/it]"
     ]
    },
    {
     "name": "stdout",
     "output_type": "stream",
     "text": [
      "\n",
      "Test Epoch: 95\tAccuracy: 560/976 (57%)\n",
      "\n"
     ]
    },
    {
     "name": "stderr",
     "output_type": "stream",
     "text": [
      " 88%|█████████████████████████████████▎    | 35.0032786885312/40 [36:24<05:15, 63.11s/it]"
     ]
    },
    {
     "name": "stdout",
     "output_type": "stream",
     "text": [
      "Train Epoch: 96 [0/3918 (0%)]\tLoss: 0.603057\n",
      "Mem before-during-after: 18543104 18618368 18544128\n"
     ]
    },
    {
     "name": "stderr",
     "output_type": "stream",
     "text": [
      " 88%|███████████████████████████████▌    | 35.137704918039326/40 [36:33<05:00, 61.89s/it]"
     ]
    },
    {
     "name": "stdout",
     "output_type": "stream",
     "text": [
      "Train Epoch: 96 [640/3918 (16%)]\tLoss: 0.343196\n",
      "Mem before-during-after: 18544128 18618368 18544128\n"
     ]
    },
    {
     "name": "stderr",
     "output_type": "stream",
     "text": [
      " 88%|████████████████████████████████▌    | 35.26885245902286/40 [36:41<04:51, 61.56s/it]"
     ]
    },
    {
     "name": "stdout",
     "output_type": "stream",
     "text": [
      "Train Epoch: 96 [1280/3918 (33%)]\tLoss: 0.189485\n",
      "Mem before-during-after: 18544128 18618368 18544128\n"
     ]
    },
    {
     "name": "stderr",
     "output_type": "stream",
     "text": [
      " 89%|████████████████████████████████▋    | 35.40000000000639/40 [36:49<04:50, 63.15s/it]"
     ]
    },
    {
     "name": "stdout",
     "output_type": "stream",
     "text": [
      "Train Epoch: 96 [1920/3918 (49%)]\tLoss: 0.206376\n",
      "Mem before-during-after: 18544128 18618368 18544128\n"
     ]
    },
    {
     "name": "stderr",
     "output_type": "stream",
     "text": [
      " 89%|████████████████████████████████▊    | 35.52786885246534/40 [36:57<04:47, 64.25s/it]"
     ]
    },
    {
     "name": "stdout",
     "output_type": "stream",
     "text": [
      "Train Epoch: 96 [2560/3918 (66%)]\tLoss: 0.341785\n",
      "Mem before-during-after: 18544128 18618368 18544128\n"
     ]
    },
    {
     "name": "stderr",
     "output_type": "stream",
     "text": [
      " 89%|████████████████████████████████▉    | 35.66229508197346/40 [37:06<04:30, 62.31s/it]"
     ]
    },
    {
     "name": "stdout",
     "output_type": "stream",
     "text": [
      "Train Epoch: 96 [3200/3918 (82%)]\tLoss: 0.661267\n",
      "Mem before-during-after: 18544128 18618368 18544128\n"
     ]
    },
    {
     "name": "stderr",
     "output_type": "stream",
     "text": [
      " 89%|█████████████████████████████████    | 35.79016393443241/40 [37:14<04:17, 61.05s/it]"
     ]
    },
    {
     "name": "stdout",
     "output_type": "stream",
     "text": [
      "Train Epoch: 96 [3840/3918 (98%)]\tLoss: 0.111158\n",
      "Mem before-during-after: 18544128 18618368 18544128\n"
     ]
    },
    {
     "name": "stderr",
     "output_type": "stream",
     "text": [
      " 90%|█████████████████████████████████▎   | 36.00327868853065/40 [37:27<04:04, 61.21s/it]"
     ]
    },
    {
     "name": "stdout",
     "output_type": "stream",
     "text": [
      "\n",
      "Test Epoch: 96\tAccuracy: 555/976 (57%)\n",
      "\n",
      "Train Epoch: 97 [0/3918 (0%)]\tLoss: 0.201468\n",
      "Mem before-during-after: 18543104 18618368 18544128\n"
     ]
    },
    {
     "name": "stderr",
     "output_type": "stream",
     "text": [
      " 90%|█████████████████████████████████▍   | 36.13442622951418/40 [37:35<03:56, 61.26s/it]"
     ]
    },
    {
     "name": "stdout",
     "output_type": "stream",
     "text": [
      "Train Epoch: 97 [640/3918 (16%)]\tLoss: 0.296232\n",
      "Mem before-during-after: 18544128 18618368 18544128\n"
     ]
    },
    {
     "name": "stderr",
     "output_type": "stream",
     "text": [
      " 91%|█████████████████████████████████▌   | 36.26557377049772/40 [37:43<03:46, 60.59s/it]"
     ]
    },
    {
     "name": "stdout",
     "output_type": "stream",
     "text": [
      "Train Epoch: 97 [1280/3918 (33%)]\tLoss: 0.283355\n",
      "Mem before-during-after: 18544128 18618368 18544128\n"
     ]
    },
    {
     "name": "stderr",
     "output_type": "stream",
     "text": [
      " 91%|█████████████████████████████████▋   | 36.39672131148125/40 [37:51<03:40, 61.24s/it]"
     ]
    },
    {
     "name": "stdout",
     "output_type": "stream",
     "text": [
      "Train Epoch: 97 [1920/3918 (49%)]\tLoss: 0.279751\n",
      "Mem before-during-after: 18544128 18618368 18544128\n"
     ]
    },
    {
     "name": "stderr",
     "output_type": "stream",
     "text": [
      " 91%|████████████████████████████████▉   | 36.527868852464785/40 [38:00<03:41, 63.92s/it]"
     ]
    },
    {
     "name": "stdout",
     "output_type": "stream",
     "text": [
      "Train Epoch: 97 [2560/3918 (66%)]\tLoss: 0.209889\n",
      "Mem before-during-after: 18544128 18618368 18544128\n"
     ]
    },
    {
     "name": "stderr",
     "output_type": "stream",
     "text": [
      " 92%|█████████████████████████████████▉   | 36.65901639344832/40 [38:08<03:30, 62.95s/it]"
     ]
    },
    {
     "name": "stdout",
     "output_type": "stream",
     "text": [
      "Train Epoch: 97 [3200/3918 (82%)]\tLoss: 0.137504\n",
      "Mem before-during-after: 18544128 18618368 18544128\n"
     ]
    },
    {
     "name": "stderr",
     "output_type": "stream",
     "text": [
      " 92%|██████████████████████████████████   | 36.79344262295644/40 [38:16<03:20, 62.38s/it]"
     ]
    },
    {
     "name": "stdout",
     "output_type": "stream",
     "text": [
      "Train Epoch: 97 [3840/3918 (98%)]\tLoss: 0.336011\n",
      "Mem before-during-after: 18544128 18618368 18544128\n"
     ]
    },
    {
     "name": "stderr",
     "output_type": "stream",
     "text": [
      " 93%|█████████████████████████████████▎  | 37.003278688530095/40 [38:29<03:00, 60.14s/it]"
     ]
    },
    {
     "name": "stdout",
     "output_type": "stream",
     "text": [
      "\n",
      "Test Epoch: 97\tAccuracy: 570/976 (58%)\n",
      "\n",
      "Train Epoch: 98 [0/3918 (0%)]\tLoss: 0.183089\n",
      "Mem before-during-after: 18543104 18618368 18544128\n"
     ]
    },
    {
     "name": "stderr",
     "output_type": "stream",
     "text": [
      " 93%|██████████████████████████████████▎  | 37.13770491803822/40 [38:38<02:59, 62.74s/it]"
     ]
    },
    {
     "name": "stdout",
     "output_type": "stream",
     "text": [
      "Train Epoch: 98 [640/3918 (16%)]\tLoss: 0.859727\n",
      "Mem before-during-after: 18544128 18618368 18544128\n"
     ]
    },
    {
     "name": "stderr",
     "output_type": "stream",
     "text": [
      " 93%|██████████████████████████████████▍  | 37.26557377049716/40 [38:46<02:49, 61.97s/it]"
     ]
    },
    {
     "name": "stdout",
     "output_type": "stream",
     "text": [
      "Train Epoch: 98 [1280/3918 (33%)]\tLoss: 0.104498\n",
      "Mem before-during-after: 18544128 18618368 18544128\n"
     ]
    },
    {
     "name": "stderr",
     "output_type": "stream",
     "text": [
      " 93%|███████████████████████████████████▌  | 37.3967213114807/40 [38:54<02:43, 62.70s/it]"
     ]
    },
    {
     "name": "stdout",
     "output_type": "stream",
     "text": [
      "Train Epoch: 98 [1920/3918 (49%)]\tLoss: 0.160425\n",
      "Mem before-during-after: 18544128 18618368 18544128\n"
     ]
    },
    {
     "name": "stderr",
     "output_type": "stream",
     "text": [
      " 94%|██████████████████████████████████▋  | 37.53114754098882/40 [39:02<02:31, 61.48s/it]"
     ]
    },
    {
     "name": "stdout",
     "output_type": "stream",
     "text": [
      "Train Epoch: 98 [2560/3918 (66%)]\tLoss: 0.045986\n",
      "Mem before-during-after: 18544128 18618368 18544128\n"
     ]
    },
    {
     "name": "stderr",
     "output_type": "stream",
     "text": [
      " 94%|█████████████████████████████████▉  | 37.659016393447764/40 [39:10<02:24, 61.81s/it]"
     ]
    },
    {
     "name": "stdout",
     "output_type": "stream",
     "text": [
      "Train Epoch: 98 [3200/3918 (82%)]\tLoss: 0.300306\n",
      "Mem before-during-after: 18544128 18618368 18544128\n"
     ]
    },
    {
     "name": "stderr",
     "output_type": "stream",
     "text": [
      " 94%|██████████████████████████████████▉  | 37.79344262295589/40 [39:19<02:16, 61.72s/it]"
     ]
    },
    {
     "name": "stdout",
     "output_type": "stream",
     "text": [
      "Train Epoch: 98 [3840/3918 (98%)]\tLoss: 0.196408\n",
      "Mem before-during-after: 18544128 18618368 18544128\n"
     ]
    },
    {
     "name": "stderr",
     "output_type": "stream",
     "text": [
      " 95%|███████████████████████████████████▏ | 38.00000000000495/40 [39:31<02:02, 61.19s/it]"
     ]
    },
    {
     "name": "stdout",
     "output_type": "stream",
     "text": [
      "\n",
      "Test Epoch: 98\tAccuracy: 574/976 (59%)\n",
      "\n"
     ]
    },
    {
     "name": "stderr",
     "output_type": "stream",
     "text": [
      " 95%|███████████████████████████████████▏ | 38.00327868852954/40 [39:32<02:03, 62.01s/it]"
     ]
    },
    {
     "name": "stdout",
     "output_type": "stream",
     "text": [
      "Train Epoch: 99 [0/3918 (0%)]\tLoss: 0.437165\n",
      "Mem before-during-after: 18543104 18618368 18544128\n"
     ]
    },
    {
     "name": "stderr",
     "output_type": "stream",
     "text": [
      " 95%|███████████████████████████████████▎ | 38.13770491803766/40 [39:40<01:55, 61.92s/it]"
     ]
    },
    {
     "name": "stdout",
     "output_type": "stream",
     "text": [
      "Train Epoch: 99 [640/3918 (16%)]\tLoss: 0.149329\n",
      "Mem before-during-after: 18544128 18618368 18544128\n"
     ]
    },
    {
     "name": "stderr",
     "output_type": "stream",
     "text": [
      " 96%|████████████████████████████████████▎ | 38.2688524590212/40 [39:48<01:47, 62.06s/it]"
     ]
    },
    {
     "name": "stdout",
     "output_type": "stream",
     "text": [
      "Train Epoch: 99 [1280/3918 (33%)]\tLoss: 0.202761\n",
      "Mem before-during-after: 18544128 18618368 18544128\n"
     ]
    },
    {
     "name": "stderr",
     "output_type": "stream",
     "text": [
      " 96%|███████████████████████████████████▌ | 38.39672131148014/40 [39:56<01:39, 62.11s/it]"
     ]
    },
    {
     "name": "stdout",
     "output_type": "stream",
     "text": [
      "Train Epoch: 99 [1920/3918 (49%)]\tLoss: 0.239332\n",
      "Mem before-during-after: 18544128 18618368 18544128\n"
     ]
    },
    {
     "name": "stderr",
     "output_type": "stream",
     "text": [
      " 96%|██████████████████████████████████▋ | 38.527868852463676/40 [40:05<01:31, 62.30s/it]"
     ]
    },
    {
     "name": "stdout",
     "output_type": "stream",
     "text": [
      "Train Epoch: 99 [2560/3918 (66%)]\tLoss: 0.305532\n",
      "Mem before-during-after: 18544128 18618368 18544128\n"
     ]
    },
    {
     "name": "stderr",
     "output_type": "stream",
     "text": [
      " 97%|████████████████████████████████████▋ | 38.6622950819718/40 [40:13<01:23, 62.70s/it]"
     ]
    },
    {
     "name": "stdout",
     "output_type": "stream",
     "text": [
      "Train Epoch: 99 [3200/3918 (82%)]\tLoss: 0.392441\n",
      "Mem before-during-after: 18544128 18618368 18544128\n"
     ]
    },
    {
     "name": "stderr",
     "output_type": "stream",
     "text": [
      " 97%|███████████████████████████████████▉ | 38.79344262295533/40 [40:21<01:14, 61.68s/it]"
     ]
    },
    {
     "name": "stdout",
     "output_type": "stream",
     "text": [
      "Train Epoch: 99 [3840/3918 (98%)]\tLoss: 0.319675\n",
      "Mem before-during-after: 18544128 18618368 18544128\n"
     ]
    },
    {
     "name": "stderr",
     "output_type": "stream",
     "text": [
      " 98%|█████████████████████████████████████ | 39.0000000000044/40 [40:34<01:01, 61.29s/it]"
     ]
    },
    {
     "name": "stdout",
     "output_type": "stream",
     "text": [
      "\n",
      "Test Epoch: 99\tAccuracy: 569/976 (58%)\n",
      "\n"
     ]
    },
    {
     "name": "stderr",
     "output_type": "stream",
     "text": [
      " 98%|████████████████████████████████████ | 39.00327868852899/40 [40:35<01:03, 63.31s/it]"
     ]
    },
    {
     "name": "stdout",
     "output_type": "stream",
     "text": [
      "Train Epoch: 100 [0/3918 (0%)]\tLoss: 0.263529\n",
      "Mem before-during-after: 18543104 18618368 18544128\n"
     ]
    },
    {
     "name": "stderr",
     "output_type": "stream",
     "text": [
      " 98%|████████████████████████████████████▏| 39.13442622951252/40 [40:43<00:52, 61.19s/it]"
     ]
    },
    {
     "name": "stdout",
     "output_type": "stream",
     "text": [
      "Train Epoch: 100 [640/3918 (16%)]\tLoss: 0.055541\n",
      "Mem before-during-after: 18544128 18618368 18544128\n"
     ]
    },
    {
     "name": "stderr",
     "output_type": "stream",
     "text": [
      " 98%|████████████████████████████████████▎| 39.26885245902064/40 [40:51<00:46, 63.41s/it]"
     ]
    },
    {
     "name": "stdout",
     "output_type": "stream",
     "text": [
      "Train Epoch: 100 [1280/3918 (33%)]\tLoss: 0.141165\n",
      "Mem before-during-after: 18544128 18618368 18544128\n"
     ]
    },
    {
     "name": "stderr",
     "output_type": "stream",
     "text": [
      " 99%|████████████████████████████████████▍| 39.40000000000418/40 [40:59<00:40, 67.46s/it]"
     ]
    },
    {
     "name": "stdout",
     "output_type": "stream",
     "text": [
      "Train Epoch: 100 [1920/3918 (49%)]\tLoss: 0.100636\n",
      "Mem before-during-after: 18544128 18618368 18544128\n"
     ]
    },
    {
     "name": "stderr",
     "output_type": "stream",
     "text": [
      " 99%|████████████████████████████████████▌| 39.53114754098771/40 [41:07<00:28, 61.45s/it]"
     ]
    },
    {
     "name": "stdout",
     "output_type": "stream",
     "text": [
      "Train Epoch: 100 [2560/3918 (66%)]\tLoss: 0.185248\n",
      "Mem before-during-after: 18544128 18618368 18544128\n"
     ]
    },
    {
     "name": "stderr",
     "output_type": "stream",
     "text": [
      " 99%|███████████████████████████████████▋| 39.659016393446656/40 [41:15<00:20, 61.45s/it]"
     ]
    },
    {
     "name": "stdout",
     "output_type": "stream",
     "text": [
      "Train Epoch: 100 [3200/3918 (82%)]\tLoss: 0.538364\n",
      "Mem before-during-after: 18544128 18618368 18544128\n"
     ]
    },
    {
     "name": "stderr",
     "output_type": "stream",
     "text": [
      " 99%|████████████████████████████████████▊| 39.79344262295478/40 [41:24<00:12, 61.65s/it]"
     ]
    },
    {
     "name": "stdout",
     "output_type": "stream",
     "text": [
      "Train Epoch: 100 [3840/3918 (98%)]\tLoss: 0.304823\n",
      "Mem before-during-after: 18544128 18618368 18544128\n"
     ]
    },
    {
     "name": "stderr",
     "output_type": "stream",
     "text": [
      "100%|███████████████████████████████████▉| 39.996721311479256/40 [41:37<00:00, 64.05s/it]/opt/anaconda3/envs/audio/lib/python3.9/site-packages/tqdm/std.py:639: TqdmWarning: clamping frac to range [0, 1]\n",
      "  full_bar = Bar(frac,\n",
      "100%|████████████████████████████████████| 40.000000000003844/40 [41:37<00:00, 62.43s/it]"
     ]
    },
    {
     "name": "stdout",
     "output_type": "stream",
     "text": [
      "\n",
      "Test Epoch: 100\tAccuracy: 574/976 (59%)\n",
      "\n"
     ]
    },
    {
     "name": "stderr",
     "output_type": "stream",
     "text": [
      "\n"
     ]
    }
   ],
   "source": [
    "n_epoch = 10\n",
    "n_epoch2 = 50\n",
    "n_epoch3 = 40\n",
    "\n",
    "optimizer = optim.RAdam(model.parameters(), lr=0.00001)\n",
    "scheduler = optim.lr_scheduler.OneCycleLR(\n",
    "    optimizer, max_lr=0.02, pct_start=0.3,\n",
    "    steps_per_epoch=len(train_loader), epochs=n_epoch3)\n",
    "log_interval = 40\n",
    "pbar_update = 1 / (len(train_loader) + len(test_loader))\n",
    "model.to(device)\n",
    "with tqdm(total=n_epoch3) as pbar:\n",
    "    for epoch in range(1+n_epoch+n_epoch2, n_epoch3+n_epoch2 + n_epoch + 1):\n",
    "        train(model, epoch, log_interval, train_losses)\n",
    "        acc = test(model, epoch)\n",
    "        test_accuracy += [acc]\n",
    "        if acc > best_accuracy:\n",
    "            best_accuracy = acc\n",
    "            best_epoch = epoch\n",
    "            bmodel_path = f'{model_path_prefix}{epoch}epoch.pt'\n",
    "            torch.save(model.state_dict(), bmodel_path)\n",
    "            print(f'saved model: {bmodel_path}')\n",
    "        scheduler.step()"
   ]
  },
  {
   "cell_type": "code",
   "execution_count": 39,
   "id": "7ef77346-3959-4699-bc33-7e49754cd179",
   "metadata": {},
   "outputs": [
    {
     "data": {
      "text/plain": [
       "[<matplotlib.lines.Line2D at 0x7f8b38a3cbe0>]"
      ]
     },
     "execution_count": 39,
     "metadata": {},
     "output_type": "execute_result"
    },
    {
     "data": {
      "image/png": "[encoded data removed]",
      "text/plain": [
       "<Figure size 640x480 with 1 Axes>"
      ]
     },
     "metadata": {},
     "output_type": "display_data"
    }
   ],
   "source": [
    "plt.plot(train_losses)"
   ]
  },
  {
   "cell_type": "code",
   "execution_count": 40,
   "id": "c7cff889-2c4a-421e-a684-ebc23f9d4459",
   "metadata": {},
   "outputs": [
    {
     "data": {
      "text/plain": [
       "[<matplotlib.lines.Line2D at 0x7f8b37b02be0>]"
      ]
     },
     "execution_count": 40,
     "metadata": {},
     "output_type": "execute_result"
    },
    {
     "data": {
      "image/png": "[encoded data removed]",
      "text/plain": [
       "<Figure size 640x480 with 1 Axes>"
      ]
     },
     "metadata": {},
     "output_type": "display_data"
    }
   ],
   "source": [
    "plt.plot(test_accuracy)"
   ]
  },
  {
   "cell_type": "code",
   "execution_count": 41,
   "id": "95d7600a-bdeb-4fd1-b95e-8ace24c85b5a",
   "metadata": {},
   "outputs": [
    {
     "name": "stdout",
     "output_type": "stream",
     "text": [
      "../models_cremad4/cremad_label4_m13mfcc_best_37epoch.pt\n",
      "Correct: 614/976 (0.6291)\n",
      "{'acc_detail': tensor([0.7126, 0.5370, 0.7480, 0.5040], device='cuda:0'),\n",
      " 'acc_unweighted': tensor(0.6254, device='cuda:0'),\n",
      " 'acc_weighted': tensor(0.6291, device='cuda:0'),\n",
      " 'f1s_detail': tensor([0.7183, 0.5309, 0.7280, 0.5194], device='cuda:0'),\n",
      " 'f1s_unweighted': tensor(0.6241, device='cuda:0'),\n",
      " 'f1s_weighted': tensor(0.6280, device='cuda:0'),\n",
      " 'precision_detail': tensor([0.7240, 0.5249, 0.7090, 0.5359], device='cuda:0'),\n",
      " 'recall_detail': tensor([0.7126, 0.5370, 0.7480, 0.5040], device='cuda:0'),\n",
      " 'rocauc': tensor(0.8527, device='cuda:0'),\n",
      " 'rocauc_detail': tensor([0.9103, 0.8154, 0.9152, 0.7700], device='cuda:0'),\n",
      " 'uar': tensor(0.6254, device='cuda:0'),\n",
      " 'wap': tensor(0.6274, device='cuda:0')}\n"
     ]
    },
    {
     "data": {
      "text/plain": [
       "tensor([[181,  12,   7,  54],\n",
       "        [ 15, 116,  45,  40],\n",
       "        [  4,  44, 190,  16],\n",
       "        [ 50,  49,  26, 127]], device='cuda:0')"
      ]
     },
     "execution_count": 41,
     "metadata": {},
     "output_type": "execute_result"
    }
   ],
   "source": [
    "model.to('cpu')\n",
    "best_model_path = f'{model_path_prefix}{best_epoch}epoch.pt'\n",
    "print(best_model_path)\n",
    "best_model = M13(config=model_config,\n",
    "           n_input=1, n_output=len(labels))\n",
    "best_model.load_state_dict(torch.load(best_model_path))\n",
    "best_model.to(device)\n",
    "\n",
    "metrics_best, confusion_matrix_best = report_metrics(\n",
    "    best_model, labels=labels, device=device)\n",
    "best_model.to('cpu')\n",
    "pprint(metrics_best.compute())\n",
    "confusion_matrix_best.compute()"
   ]
  },
  {
   "cell_type": "code",
   "execution_count": 42,
   "id": "734e4c6b-9019-405c-8c5c-04e46b288bcd",
   "metadata": {},
   "outputs": [],
   "source": [
    "checkpoint_path = f'../models_cremad4/cremad4_m13mfcc_{epoch}epoch.ckpt'\n",
    "torch.save({\n",
    "    'epoch': epoch,\n",
    "    'model_state_dict': model.state_dict(),\n",
    "    'optimizer_state_dict': optimizer.state_dict(),\n",
    "    'loss': train_losses[-1],\n",
    "    'best_epoch': best_epoch,\n",
    "    'best_accuracy': best_accuracy,\n",
    "    'train_losses': train_losses,\n",
    "    'test_accuracy': test_accuracy,\n",
    "    'log_interval': log_interval,\n",
    "    }, checkpoint_path)"
   ]
  },
  {
   "cell_type": "code",
   "execution_count": 43,
   "id": "ec44c692-00ba-42c8-9c1e-cd86215ed695",
   "metadata": {
    "scrolled": true
   },
   "outputs": [
    {
     "name": "stderr",
     "output_type": "stream",
     "text": [
      "  0%|                                  | 0.006557377049180328/50 [00:00<53:25, 64.12s/it]"
     ]
    },
    {
     "name": "stdout",
     "output_type": "stream",
     "text": [
      "Train Epoch: 101 [0/3918 (0%)]\tLoss: 0.365820\n",
      "Mem before-during-after: 18004480 17993216 18544640\n"
     ]
    },
    {
     "name": "stderr",
     "output_type": "stream",
     "text": [
      "  0%|                                   | 0.13442622950819672/50 [00:08<52:12, 62.82s/it]"
     ]
    },
    {
     "name": "stdout",
     "output_type": "stream",
     "text": [
      "Train Epoch: 101 [640/3918 (16%)]\tLoss: 0.149683\n",
      "Mem before-during-after: 18544640 18618880 18544640\n"
     ]
    },
    {
     "name": "stderr",
     "output_type": "stream",
     "text": [
      "  1%|▏                                  | 0.26557377049180286/50 [00:16<53:00, 63.96s/it]"
     ]
    },
    {
     "name": "stdout",
     "output_type": "stream",
     "text": [
      "Train Epoch: 101 [1280/3918 (33%)]\tLoss: 0.420307\n",
      "Mem before-during-after: 18544640 18618880 18544640\n"
     ]
    },
    {
     "name": "stderr",
     "output_type": "stream",
     "text": [
      "  1%|▎                                     | 0.39672131147541/50 [00:25<52:12, 63.15s/it]"
     ]
    },
    {
     "name": "stdout",
     "output_type": "stream",
     "text": [
      "Train Epoch: 101 [1920/3918 (49%)]\tLoss: 0.184866\n",
      "Mem before-during-after: 18544640 18618880 18544640\n"
     ]
    },
    {
     "name": "stderr",
     "output_type": "stream",
     "text": [
      "  1%|▍                                   | 0.5278688524590167/50 [00:33<51:24, 62.34s/it]"
     ]
    },
    {
     "name": "stdout",
     "output_type": "stream",
     "text": [
      "Train Epoch: 101 [2560/3918 (66%)]\tLoss: 0.258878\n",
      "Mem before-during-after: 18544640 18618880 18544640\n"
     ]
    },
    {
     "name": "stderr",
     "output_type": "stream",
     "text": [
      "  1%|▍                                   | 0.6622950819672118/50 [00:41<52:36, 63.98s/it]"
     ]
    },
    {
     "name": "stdout",
     "output_type": "stream",
     "text": [
      "Train Epoch: 101 [3200/3918 (82%)]\tLoss: 0.107061\n",
      "Mem before-during-after: 18544640 18618880 18544640\n"
     ]
    },
    {
     "name": "stderr",
     "output_type": "stream",
     "text": [
      "  2%|▌                                   | 0.7901639344262266/50 [00:49<52:10, 63.62s/it]"
     ]
    },
    {
     "name": "stdout",
     "output_type": "stream",
     "text": [
      "Train Epoch: 101 [3840/3918 (98%)]\tLoss: 0.045956\n",
      "Mem before-during-after: 18544640 18618880 18544640\n"
     ]
    },
    {
     "name": "stderr",
     "output_type": "stream",
     "text": [
      "  2%|▋                                   | 0.9999999999999944/50 [01:03<50:41, 62.08s/it]"
     ]
    },
    {
     "name": "stdout",
     "output_type": "stream",
     "text": [
      "\n",
      "Test Epoch: 101\tAccuracy: 579/976 (59%)\n",
      "\n"
     ]
    },
    {
     "name": "stderr",
     "output_type": "stream",
     "text": [
      "  2%|▋                                   | 1.0032786885245846/50 [01:03<51:15, 62.77s/it]"
     ]
    },
    {
     "name": "stdout",
     "output_type": "stream",
     "text": [
      "Train Epoch: 102 [0/3918 (0%)]\tLoss: 0.108144\n",
      "Mem before-during-after: 18543616 18618880 18544640\n"
     ]
    },
    {
     "name": "stderr",
     "output_type": "stream",
     "text": [
      "  2%|▊                                   | 1.1344262295081895/50 [01:11<51:05, 62.73s/it]"
     ]
    },
    {
     "name": "stdout",
     "output_type": "stream",
     "text": [
      "Train Epoch: 102 [640/3918 (16%)]\tLoss: 0.092770\n",
      "Mem before-during-after: 18544640 18618880 18544640\n"
     ]
    },
    {
     "name": "stderr",
     "output_type": "stream",
     "text": [
      "  3%|▉                                   | 1.2655737704917944/50 [01:19<50:37, 62.32s/it]"
     ]
    },
    {
     "name": "stdout",
     "output_type": "stream",
     "text": [
      "Train Epoch: 102 [1280/3918 (33%)]\tLoss: 0.185743\n",
      "Mem before-during-after: 18544640 18618880 18544640\n"
     ]
    },
    {
     "name": "stderr",
     "output_type": "stream",
     "text": [
      "  3%|█                                   | 1.3967213114753994/50 [01:28<49:54, 61.61s/it]"
     ]
    },
    {
     "name": "stdout",
     "output_type": "stream",
     "text": [
      "Train Epoch: 102 [1920/3918 (49%)]\tLoss: 0.020073\n",
      "Mem before-during-after: 18544640 18618880 18544640\n"
     ]
    },
    {
     "name": "stderr",
     "output_type": "stream",
     "text": [
      "  3%|█                                   | 1.5278688524590043/50 [01:36<50:31, 62.53s/it]"
     ]
    },
    {
     "name": "stdout",
     "output_type": "stream",
     "text": [
      "Train Epoch: 102 [2560/3918 (66%)]\tLoss: 0.342602\n",
      "Mem before-during-after: 18544640 18618880 18544640\n"
     ]
    },
    {
     "name": "stderr",
     "output_type": "stream",
     "text": [
      "  3%|█▏                                  | 1.6590163934426092/50 [01:44<52:36, 65.29s/it]"
     ]
    },
    {
     "name": "stdout",
     "output_type": "stream",
     "text": [
      "Train Epoch: 102 [3200/3918 (82%)]\tLoss: 0.150809\n",
      "Mem before-during-after: 18544640 18618880 18544640\n"
     ]
    },
    {
     "name": "stderr",
     "output_type": "stream",
     "text": [
      "  4%|█▎                                  | 1.7901639344262141/50 [01:53<51:23, 63.96s/it]"
     ]
    },
    {
     "name": "stdout",
     "output_type": "stream",
     "text": [
      "Train Epoch: 102 [3840/3918 (98%)]\tLoss: 0.169281\n",
      "Mem before-during-after: 18544640 18618880 18544640\n"
     ]
    },
    {
     "name": "stderr",
     "output_type": "stream",
     "text": [
      "  4%|█▍                                   | 1.999999999999982/50 [02:06<47:52, 59.85s/it]"
     ]
    },
    {
     "name": "stdout",
     "output_type": "stream",
     "text": [
      "\n",
      "Test Epoch: 102\tAccuracy: 582/976 (59%)\n",
      "\n"
     ]
    },
    {
     "name": "stderr",
     "output_type": "stream",
     "text": [
      "  4%|█▍                                  | 2.0032786885245724/50 [02:06<50:49, 63.54s/it]"
     ]
    },
    {
     "name": "stdout",
     "output_type": "stream",
     "text": [
      "Train Epoch: 103 [0/3918 (0%)]\tLoss: 0.134070\n",
      "Mem before-during-after: 18543616 18618880 18544640\n"
     ]
    },
    {
     "name": "stderr",
     "output_type": "stream",
     "text": [
      "  4%|█▌                                  | 2.1344262295081773/50 [02:14<49:26, 61.97s/it]"
     ]
    },
    {
     "name": "stdout",
     "output_type": "stream",
     "text": [
      "Train Epoch: 103 [640/3918 (16%)]\tLoss: 0.155304\n",
      "Mem before-during-after: 18544640 18618880 18544640\n"
     ]
    },
    {
     "name": "stderr",
     "output_type": "stream",
     "text": [
      "  5%|█▋                                  | 2.2688524590163723/50 [02:23<49:31, 62.26s/it]"
     ]
    },
    {
     "name": "stdout",
     "output_type": "stream",
     "text": [
      "Train Epoch: 103 [1280/3918 (33%)]\tLoss: 0.128058\n",
      "Mem before-during-after: 18544640 18618880 18544640\n"
     ]
    },
    {
     "name": "stderr",
     "output_type": "stream",
     "text": [
      "  5%|█▊                                   | 2.396721311475387/50 [02:31<49:29, 62.37s/it]"
     ]
    },
    {
     "name": "stdout",
     "output_type": "stream",
     "text": [
      "Train Epoch: 103 [1920/3918 (49%)]\tLoss: 0.061030\n",
      "Mem before-during-after: 18544640 18618880 18544640\n"
     ]
    },
    {
     "name": "stderr",
     "output_type": "stream",
     "text": [
      "  5%|█▊                                   | 2.531147540983582/50 [02:39<48:01, 60.70s/it]"
     ]
    },
    {
     "name": "stdout",
     "output_type": "stream",
     "text": [
      "Train Epoch: 103 [2560/3918 (66%)]\tLoss: 0.136313\n",
      "Mem before-during-after: 18544640 18618880 18544640\n"
     ]
    },
    {
     "name": "stderr",
     "output_type": "stream",
     "text": [
      "  5%|█▉                                   | 2.659016393442597/50 [02:47<48:23, 61.32s/it]"
     ]
    },
    {
     "name": "stdout",
     "output_type": "stream",
     "text": [
      "Train Epoch: 103 [3200/3918 (82%)]\tLoss: 0.106626\n",
      "Mem before-during-after: 18544640 18618880 18544640\n"
     ]
    },
    {
     "name": "stderr",
     "output_type": "stream",
     "text": [
      "  6%|██                                   | 2.793442622950792/50 [02:56<48:47, 62.02s/it]"
     ]
    },
    {
     "name": "stdout",
     "output_type": "stream",
     "text": [
      "Train Epoch: 103 [3840/3918 (98%)]\tLoss: 0.040850\n",
      "Mem before-during-after: 18544640 18618880 18544640\n"
     ]
    },
    {
     "name": "stderr",
     "output_type": "stream",
     "text": [
      "  6%|██▎                                   | 3.00327868852456/50 [03:09<47:30, 60.66s/it]"
     ]
    },
    {
     "name": "stdout",
     "output_type": "stream",
     "text": [
      "\n",
      "Test Epoch: 103\tAccuracy: 583/976 (59%)\n",
      "\n",
      "Train Epoch: 104 [0/3918 (0%)]\tLoss: 0.157404\n",
      "Mem before-during-after: 18543616 18618880 18544640\n"
     ]
    },
    {
     "name": "stderr",
     "output_type": "stream",
     "text": [
      "  6%|██▎                                  | 3.137704918032755/50 [03:17<48:50, 62.54s/it]"
     ]
    },
    {
     "name": "stdout",
     "output_type": "stream",
     "text": [
      "Train Epoch: 104 [640/3918 (16%)]\tLoss: 0.108998\n",
      "Mem before-during-after: 18544640 18618880 18544640\n"
     ]
    },
    {
     "name": "stderr",
     "output_type": "stream",
     "text": [
      "  7%|██▍                                   | 3.26557377049177/50 [03:25<48:22, 62.11s/it]"
     ]
    },
    {
     "name": "stdout",
     "output_type": "stream",
     "text": [
      "Train Epoch: 104 [1280/3918 (33%)]\tLoss: 0.046959\n",
      "Mem before-during-after: 18544640 18618880 18544640\n"
     ]
    },
    {
     "name": "stderr",
     "output_type": "stream",
     "text": [
      "  7%|██▌                                  | 3.399999999999965/50 [03:34<47:42, 61.42s/it]"
     ]
    },
    {
     "name": "stdout",
     "output_type": "stream",
     "text": [
      "Train Epoch: 104 [1920/3918 (49%)]\tLoss: 0.111494\n",
      "Mem before-during-after: 18544640 18618880 18544640\n"
     ]
    },
    {
     "name": "stderr",
     "output_type": "stream",
     "text": [
      "  7%|██▌                                 | 3.5311475409835698/50 [03:42<47:15, 61.02s/it]"
     ]
    },
    {
     "name": "stdout",
     "output_type": "stream",
     "text": [
      "Train Epoch: 104 [2560/3918 (66%)]\tLoss: 0.059236\n",
      "Mem before-during-after: 18544640 18618880 18544640\n"
     ]
    },
    {
     "name": "stderr",
     "output_type": "stream",
     "text": [
      "  7%|██▋                                 | 3.6590163934425846/50 [03:50<47:46, 61.86s/it]"
     ]
    },
    {
     "name": "stdout",
     "output_type": "stream",
     "text": [
      "Train Epoch: 104 [3200/3918 (82%)]\tLoss: 0.029505\n",
      "Mem before-during-after: 18544640 18618880 18544640\n"
     ]
    },
    {
     "name": "stderr",
     "output_type": "stream",
     "text": [
      "  8%|██▋                                 | 3.7934426229507796/50 [03:58<47:51, 62.15s/it]"
     ]
    },
    {
     "name": "stdout",
     "output_type": "stream",
     "text": [
      "Train Epoch: 104 [3840/3918 (98%)]\tLoss: 0.130167\n",
      "Mem before-during-after: 18544640 18618880 18544640\n"
     ]
    },
    {
     "name": "stderr",
     "output_type": "stream",
     "text": [
      "  8%|██▉                                 | 4.0032786885245475/50 [04:11<46:54, 61.19s/it]"
     ]
    },
    {
     "name": "stdout",
     "output_type": "stream",
     "text": [
      "\n",
      "Test Epoch: 104\tAccuracy: 574/976 (59%)\n",
      "\n",
      "Train Epoch: 105 [0/3918 (0%)]\tLoss: 0.292360\n",
      "Mem before-during-after: 18543616 18618880 18544640\n"
     ]
    },
    {
     "name": "stderr",
     "output_type": "stream",
     "text": [
      "  8%|███                                  | 4.134426229508152/50 [04:19<46:02, 60.23s/it]"
     ]
    },
    {
     "name": "stdout",
     "output_type": "stream",
     "text": [
      "Train Epoch: 105 [640/3918 (16%)]\tLoss: 0.045229\n",
      "Mem before-during-after: 18544640 18618880 18544640\n"
     ]
    },
    {
     "name": "stderr",
     "output_type": "stream",
     "text": [
      "  9%|███                                 | 4.2688524590163475/50 [04:28<47:09, 61.87s/it]"
     ]
    },
    {
     "name": "stdout",
     "output_type": "stream",
     "text": [
      "Train Epoch: 105 [1280/3918 (33%)]\tLoss: 0.032510\n",
      "Mem before-during-after: 18544640 18618880 18544640\n"
     ]
    },
    {
     "name": "stderr",
     "output_type": "stream",
     "text": [
      "  9%|███▎                                 | 4.399999999999952/50 [04:36<46:56, 61.76s/it]"
     ]
    },
    {
     "name": "stdout",
     "output_type": "stream",
     "text": [
      "Train Epoch: 105 [1920/3918 (49%)]\tLoss: 0.044656\n",
      "Mem before-during-after: 18544640 18618880 18544640\n"
     ]
    },
    {
     "name": "stderr",
     "output_type": "stream",
     "text": [
      "  9%|███▎                                 | 4.527868852458967/50 [04:44<45:26, 59.96s/it]"
     ]
    },
    {
     "name": "stdout",
     "output_type": "stream",
     "text": [
      "Train Epoch: 105 [2560/3918 (66%)]\tLoss: 0.169063\n",
      "Mem before-during-after: 18544640 18618880 18544640\n"
     ]
    },
    {
     "name": "stderr",
     "output_type": "stream",
     "text": [
      "  9%|███▍                                 | 4.659016393442572/50 [04:52<46:12, 61.15s/it]"
     ]
    },
    {
     "name": "stdout",
     "output_type": "stream",
     "text": [
      "Train Epoch: 105 [3200/3918 (82%)]\tLoss: 0.030912\n",
      "Mem before-during-after: 18544640 18618880 18544640\n"
     ]
    },
    {
     "name": "stderr",
     "output_type": "stream",
     "text": [
      " 10%|███▌                                 | 4.790163934426177/50 [05:00<47:01, 62.41s/it]"
     ]
    },
    {
     "name": "stdout",
     "output_type": "stream",
     "text": [
      "Train Epoch: 105 [3840/3918 (98%)]\tLoss: 0.084721\n",
      "Mem before-during-after: 18544640 18618880 18544640\n"
     ]
    },
    {
     "name": "stderr",
     "output_type": "stream",
     "text": [
      " 10%|███▋                                 | 5.003278688524535/50 [05:13<46:10, 61.57s/it]"
     ]
    },
    {
     "name": "stdout",
     "output_type": "stream",
     "text": [
      "\n",
      "Test Epoch: 105\tAccuracy: 571/976 (58%)\n",
      "\n",
      "Train Epoch: 106 [0/3918 (0%)]\tLoss: 0.122424\n",
      "Mem before-during-after: 18543616 18618880 18544640\n"
     ]
    },
    {
     "name": "stderr",
     "output_type": "stream",
     "text": [
      " 10%|███▉                                  | 5.13442622950814/50 [05:21<45:16, 60.56s/it]"
     ]
    },
    {
     "name": "stdout",
     "output_type": "stream",
     "text": [
      "Train Epoch: 106 [640/3918 (16%)]\tLoss: 0.060976\n",
      "Mem before-during-after: 18544640 18618880 18544640\n"
     ]
    },
    {
     "name": "stderr",
     "output_type": "stream",
     "text": [
      " 11%|███▉                                 | 5.265573770491745/50 [05:29<48:21, 64.85s/it]"
     ]
    },
    {
     "name": "stdout",
     "output_type": "stream",
     "text": [
      "Train Epoch: 106 [1280/3918 (33%)]\tLoss: 0.046216\n",
      "Mem before-during-after: 18544640 18618880 18544640\n"
     ]
    },
    {
     "name": "stderr",
     "output_type": "stream",
     "text": [
      " 11%|████                                  | 5.39999999999994/50 [05:38<45:38, 61.40s/it]"
     ]
    },
    {
     "name": "stdout",
     "output_type": "stream",
     "text": [
      "Train Epoch: 106 [1920/3918 (49%)]\tLoss: 0.042114\n",
      "Mem before-during-after: 18544640 18618880 18544640\n"
     ]
    },
    {
     "name": "stderr",
     "output_type": "stream",
     "text": [
      " 11%|████                                 | 5.527868852458955/50 [05:46<45:51, 61.88s/it]"
     ]
    },
    {
     "name": "stdout",
     "output_type": "stream",
     "text": [
      "Train Epoch: 106 [2560/3918 (66%)]\tLoss: 0.040432\n",
      "Mem before-during-after: 18544640 18618880 18544640\n"
     ]
    },
    {
     "name": "stderr",
     "output_type": "stream",
     "text": [
      " 11%|████▎                                 | 5.65901639344256/50 [05:54<44:52, 60.72s/it]"
     ]
    },
    {
     "name": "stdout",
     "output_type": "stream",
     "text": [
      "Train Epoch: 106 [3200/3918 (82%)]\tLoss: 0.174810\n",
      "Mem before-during-after: 18544640 18618880 18544640\n"
     ]
    },
    {
     "name": "stderr",
     "output_type": "stream",
     "text": [
      " 12%|████▎                                | 5.790163934426165/50 [06:02<44:38, 60.58s/it]"
     ]
    },
    {
     "name": "stdout",
     "output_type": "stream",
     "text": [
      "Train Epoch: 106 [3840/3918 (98%)]\tLoss: 0.022748\n",
      "Mem before-during-after: 18544640 18618880 18544640\n"
     ]
    },
    {
     "name": "stderr",
     "output_type": "stream",
     "text": [
      " 12%|████▎                               | 5.9999999999999325/50 [06:15<44:11, 60.26s/it]"
     ]
    },
    {
     "name": "stdout",
     "output_type": "stream",
     "text": [
      "\n",
      "Test Epoch: 106\tAccuracy: 578/976 (59%)\n",
      "\n"
     ]
    },
    {
     "name": "stderr",
     "output_type": "stream",
     "text": [
      " 12%|████▍                                | 6.003278688524523/50 [06:15<44:41, 60.95s/it]"
     ]
    },
    {
     "name": "stdout",
     "output_type": "stream",
     "text": [
      "Train Epoch: 107 [0/3918 (0%)]\tLoss: 0.098190\n",
      "Mem before-during-after: 18543616 18618880 18544640\n"
     ]
    },
    {
     "name": "stderr",
     "output_type": "stream",
     "text": [
      " 12%|████▍                               | 6.1344262295081275/50 [06:23<44:46, 61.24s/it]"
     ]
    },
    {
     "name": "stdout",
     "output_type": "stream",
     "text": [
      "Train Epoch: 107 [640/3918 (16%)]\tLoss: 0.203820\n",
      "Mem before-during-after: 18544640 18618880 18544640\n"
     ]
    },
    {
     "name": "stderr",
     "output_type": "stream",
     "text": [
      " 13%|████▋                                | 6.268852459016323/50 [06:32<47:06, 64.64s/it]"
     ]
    },
    {
     "name": "stdout",
     "output_type": "stream",
     "text": [
      "Train Epoch: 107 [1280/3918 (33%)]\tLoss: 0.052974\n",
      "Mem before-during-after: 18544640 18618880 18544640\n"
     ]
    },
    {
     "name": "stderr",
     "output_type": "stream",
     "text": [
      " 13%|████▋                                | 6.396721311475337/50 [06:40<44:58, 61.89s/it]"
     ]
    },
    {
     "name": "stdout",
     "output_type": "stream",
     "text": [
      "Train Epoch: 107 [1920/3918 (49%)]\tLoss: 0.161534\n",
      "Mem before-during-after: 18544640 18618880 18544640\n"
     ]
    },
    {
     "name": "stderr",
     "output_type": "stream",
     "text": [
      " 13%|████▊                                | 6.527868852458942/50 [06:48<44:00, 60.75s/it]"
     ]
    },
    {
     "name": "stdout",
     "output_type": "stream",
     "text": [
      "Train Epoch: 107 [2560/3918 (66%)]\tLoss: 0.095145\n",
      "Mem before-during-after: 18544640 18618880 18544640\n"
     ]
    },
    {
     "name": "stderr",
     "output_type": "stream",
     "text": [
      " 13%|████▉                                | 6.659016393442547/50 [06:56<44:02, 60.98s/it]"
     ]
    },
    {
     "name": "stdout",
     "output_type": "stream",
     "text": [
      "Train Epoch: 107 [3200/3918 (82%)]\tLoss: 0.055170\n",
      "Mem before-during-after: 18544640 18618880 18544640\n"
     ]
    },
    {
     "name": "stderr",
     "output_type": "stream",
     "text": [
      " 14%|█████                                | 6.793442622950742/50 [07:05<44:15, 61.46s/it]"
     ]
    },
    {
     "name": "stdout",
     "output_type": "stream",
     "text": [
      "Train Epoch: 107 [3840/3918 (98%)]\tLoss: 0.101385\n",
      "Mem before-during-after: 18544640 18618880 18544640\n"
     ]
    },
    {
     "name": "stderr",
     "output_type": "stream",
     "text": [
      " 14%|█████▎                                | 6.99999999999992/50 [07:17<44:31, 62.13s/it]"
     ]
    },
    {
     "name": "stdout",
     "output_type": "stream",
     "text": [
      "\n",
      "Test Epoch: 107\tAccuracy: 582/976 (59%)\n",
      "\n"
     ]
    },
    {
     "name": "stderr",
     "output_type": "stream",
     "text": [
      " 14%|█████▎                                | 7.00327868852451/50 [07:17<45:43, 63.81s/it]"
     ]
    },
    {
     "name": "stdout",
     "output_type": "stream",
     "text": [
      "Train Epoch: 108 [0/3918 (0%)]\tLoss: 0.272772\n",
      "Mem before-during-after: 18543616 18618880 18544640\n"
     ]
    },
    {
     "name": "stderr",
     "output_type": "stream",
     "text": [
      " 14%|█████▎                               | 7.134426229508115/50 [07:26<43:42, 61.19s/it]"
     ]
    },
    {
     "name": "stdout",
     "output_type": "stream",
     "text": [
      "Train Epoch: 108 [640/3918 (16%)]\tLoss: 0.082683\n",
      "Mem before-during-after: 18544640 18618880 18544640\n"
     ]
    },
    {
     "name": "stderr",
     "output_type": "stream",
     "text": [
      " 15%|█████▌                                | 7.26557377049172/50 [07:34<43:46, 61.45s/it]"
     ]
    },
    {
     "name": "stdout",
     "output_type": "stream",
     "text": [
      "Train Epoch: 108 [1280/3918 (33%)]\tLoss: 0.049938\n",
      "Mem before-during-after: 18544640 18618880 18544640\n"
     ]
    },
    {
     "name": "stderr",
     "output_type": "stream",
     "text": [
      " 15%|█████▍                               | 7.396721311475325/50 [07:42<43:34, 61.37s/it]"
     ]
    },
    {
     "name": "stdout",
     "output_type": "stream",
     "text": [
      "Train Epoch: 108 [1920/3918 (49%)]\tLoss: 0.265443\n",
      "Mem before-during-after: 18544640 18618880 18544640\n"
     ]
    },
    {
     "name": "stderr",
     "output_type": "stream",
     "text": [
      " 15%|█████▋                                | 7.52786885245893/50 [07:50<43:31, 61.50s/it]"
     ]
    },
    {
     "name": "stdout",
     "output_type": "stream",
     "text": [
      "Train Epoch: 108 [2560/3918 (66%)]\tLoss: 0.065129\n",
      "Mem before-during-after: 18544640 18618880 18544640\n"
     ]
    },
    {
     "name": "stderr",
     "output_type": "stream",
     "text": [
      " 15%|█████▋                               | 7.659016393442535/50 [07:59<44:20, 62.84s/it]"
     ]
    },
    {
     "name": "stdout",
     "output_type": "stream",
     "text": [
      "Train Epoch: 108 [3200/3918 (82%)]\tLoss: 0.335891\n",
      "Mem before-during-after: 18544640 18618880 18544640\n"
     ]
    },
    {
     "name": "stderr",
     "output_type": "stream",
     "text": [
      " 16%|█████▉                                | 7.79016393442614/50 [08:07<43:37, 62.01s/it]"
     ]
    },
    {
     "name": "stdout",
     "output_type": "stream",
     "text": [
      "Train Epoch: 108 [3840/3918 (98%)]\tLoss: 0.314572\n",
      "Mem before-during-after: 18544640 18618880 18544640\n"
     ]
    },
    {
     "name": "stderr",
     "output_type": "stream",
     "text": [
      " 16%|█████▉                               | 7.999999999999908/50 [08:20<42:23, 60.56s/it]"
     ]
    },
    {
     "name": "stdout",
     "output_type": "stream",
     "text": [
      "\n",
      "Test Epoch: 108\tAccuracy: 570/976 (58%)\n",
      "\n"
     ]
    },
    {
     "name": "stderr",
     "output_type": "stream",
     "text": [
      " 16%|█████▉                               | 8.006557377049088/50 [08:20<42:37, 60.91s/it]"
     ]
    },
    {
     "name": "stdout",
     "output_type": "stream",
     "text": [
      "Train Epoch: 109 [0/3918 (0%)]\tLoss: 0.030490\n",
      "Mem before-during-after: 18543616 18618880 18544640\n"
     ]
    },
    {
     "name": "stderr",
     "output_type": "stream",
     "text": [
      " 16%|██████                               | 8.137704918032693/50 [08:28<42:58, 61.59s/it]"
     ]
    },
    {
     "name": "stdout",
     "output_type": "stream",
     "text": [
      "Train Epoch: 109 [640/3918 (16%)]\tLoss: 0.127081\n",
      "Mem before-during-after: 18544640 18618880 18544640\n"
     ]
    },
    {
     "name": "stderr",
     "output_type": "stream",
     "text": [
      " 17%|██████                               | 8.268852459016298/50 [08:36<42:34, 61.22s/it]"
     ]
    },
    {
     "name": "stdout",
     "output_type": "stream",
     "text": [
      "Train Epoch: 109 [1280/3918 (33%)]\tLoss: 0.053057\n",
      "Mem before-during-after: 18544640 18618880 18544640\n"
     ]
    },
    {
     "name": "stderr",
     "output_type": "stream",
     "text": [
      " 17%|██████▏                              | 8.396721311475313/50 [08:44<41:37, 60.04s/it]"
     ]
    },
    {
     "name": "stdout",
     "output_type": "stream",
     "text": [
      "Train Epoch: 109 [1920/3918 (49%)]\tLoss: 0.161083\n",
      "Mem before-during-after: 18544640 18618880 18544640\n"
     ]
    },
    {
     "name": "stderr",
     "output_type": "stream",
     "text": [
      " 17%|██████▎                              | 8.527868852458917/50 [08:52<43:51, 63.46s/it]"
     ]
    },
    {
     "name": "stdout",
     "output_type": "stream",
     "text": [
      "Train Epoch: 109 [2560/3918 (66%)]\tLoss: 0.064658\n",
      "Mem before-during-after: 18544640 18618880 18544640\n"
     ]
    },
    {
     "name": "stderr",
     "output_type": "stream",
     "text": [
      " 17%|██████▍                              | 8.662295081967113/50 [09:01<41:30, 60.24s/it]"
     ]
    },
    {
     "name": "stdout",
     "output_type": "stream",
     "text": [
      "Train Epoch: 109 [3200/3918 (82%)]\tLoss: 0.061606\n",
      "Mem before-during-after: 18544640 18618880 18544640\n"
     ]
    },
    {
     "name": "stderr",
     "output_type": "stream",
     "text": [
      " 18%|██████▌                              | 8.790163934426127/50 [09:09<42:17, 61.59s/it]"
     ]
    },
    {
     "name": "stdout",
     "output_type": "stream",
     "text": [
      "Train Epoch: 109 [3840/3918 (98%)]\tLoss: 0.123914\n",
      "Mem before-during-after: 18544640 18618880 18544640\n"
     ]
    },
    {
     "name": "stderr",
     "output_type": "stream",
     "text": [
      " 18%|██████▋                              | 8.999999999999895/50 [09:22<42:11, 61.74s/it]"
     ]
    },
    {
     "name": "stdout",
     "output_type": "stream",
     "text": [
      "\n",
      "Test Epoch: 109\tAccuracy: 578/976 (59%)\n",
      "\n"
     ]
    },
    {
     "name": "stderr",
     "output_type": "stream",
     "text": [
      " 18%|██████▋                              | 9.003278688524485/50 [09:22<42:22, 62.01s/it]"
     ]
    },
    {
     "name": "stdout",
     "output_type": "stream",
     "text": [
      "Train Epoch: 110 [0/3918 (0%)]\tLoss: 0.127966\n",
      "Mem before-during-after: 18543616 18618880 18544640\n"
     ]
    },
    {
     "name": "stderr",
     "output_type": "stream",
     "text": [
      " 18%|██████▉                               | 9.13442622950809/50 [09:30<42:15, 62.05s/it]"
     ]
    },
    {
     "name": "stdout",
     "output_type": "stream",
     "text": [
      "Train Epoch: 110 [640/3918 (16%)]\tLoss: 0.087534\n",
      "Mem before-during-after: 18544640 18618880 18544640\n"
     ]
    },
    {
     "name": "stderr",
     "output_type": "stream",
     "text": [
      " 19%|██████▊                              | 9.268852459016285/50 [09:38<40:51, 60.18s/it]"
     ]
    },
    {
     "name": "stdout",
     "output_type": "stream",
     "text": [
      "Train Epoch: 110 [1280/3918 (33%)]\tLoss: 0.089836\n",
      "Mem before-during-after: 18544640 18618880 18544640\n"
     ]
    },
    {
     "name": "stderr",
     "output_type": "stream",
     "text": [
      " 19%|███████▏                              | 9.39999999999989/50 [09:47<41:16, 60.99s/it]"
     ]
    },
    {
     "name": "stdout",
     "output_type": "stream",
     "text": [
      "Train Epoch: 110 [1920/3918 (49%)]\tLoss: 0.101842\n",
      "Mem before-during-after: 18544640 18618880 18544640\n"
     ]
    },
    {
     "name": "stderr",
     "output_type": "stream",
     "text": [
      " 19%|███████                              | 9.527868852458905/50 [09:55<41:57, 62.20s/it]"
     ]
    },
    {
     "name": "stdout",
     "output_type": "stream",
     "text": [
      "Train Epoch: 110 [2560/3918 (66%)]\tLoss: 0.071862\n",
      "Mem before-during-after: 18544640 18618880 18544640\n"
     ]
    },
    {
     "name": "stderr",
     "output_type": "stream",
     "text": [
      " 19%|███████▌                               | 9.6622950819671/50 [10:03<40:49, 60.73s/it]"
     ]
    },
    {
     "name": "stdout",
     "output_type": "stream",
     "text": [
      "Train Epoch: 110 [3200/3918 (82%)]\tLoss: 0.085359\n",
      "Mem before-during-after: 18544640 18618880 18544640\n"
     ]
    },
    {
     "name": "stderr",
     "output_type": "stream",
     "text": [
      " 20%|███████▏                             | 9.793442622950705/50 [10:11<40:46, 60.84s/it]"
     ]
    },
    {
     "name": "stdout",
     "output_type": "stream",
     "text": [
      "Train Epoch: 110 [3840/3918 (98%)]\tLoss: 0.111558\n",
      "Mem before-during-after: 18544640 18618880 18544640\n"
     ]
    },
    {
     "name": "stderr",
     "output_type": "stream",
     "text": [
      " 20%|███████▏                            | 10.003278688524473/50 [10:24<41:30, 62.27s/it]"
     ]
    },
    {
     "name": "stdout",
     "output_type": "stream",
     "text": [
      "\n",
      "Test Epoch: 110\tAccuracy: 566/976 (58%)\n",
      "\n",
      "Train Epoch: 111 [0/3918 (0%)]\tLoss: 0.038669\n",
      "Mem before-during-after: 18543616 18618880 18544640\n"
     ]
    },
    {
     "name": "stderr",
     "output_type": "stream",
     "text": [
      " 20%|███████▎                            | 10.137704918032668/50 [10:33<40:58, 61.67s/it]"
     ]
    },
    {
     "name": "stdout",
     "output_type": "stream",
     "text": [
      "Train Epoch: 111 [640/3918 (16%)]\tLoss: 0.191286\n",
      "Mem before-during-after: 18544640 18618880 18544640\n"
     ]
    },
    {
     "name": "stderr",
     "output_type": "stream",
     "text": [
      " 21%|███████▍                            | 10.268852459016273/50 [10:41<40:31, 61.21s/it]"
     ]
    },
    {
     "name": "stdout",
     "output_type": "stream",
     "text": [
      "Train Epoch: 111 [1280/3918 (33%)]\tLoss: 0.032060\n",
      "Mem before-during-after: 18544640 18618880 18544640\n"
     ]
    },
    {
     "name": "stderr",
     "output_type": "stream",
     "text": [
      " 21%|███████▍                            | 10.396721311475288/50 [10:49<40:57, 62.05s/it]"
     ]
    },
    {
     "name": "stdout",
     "output_type": "stream",
     "text": [
      "Train Epoch: 111 [1920/3918 (49%)]\tLoss: 0.091495\n",
      "Mem before-during-after: 18544640 18618880 18544640\n"
     ]
    },
    {
     "name": "stderr",
     "output_type": "stream",
     "text": [
      " 21%|███████▌                            | 10.531147540983483/50 [10:57<40:30, 61.58s/it]"
     ]
    },
    {
     "name": "stdout",
     "output_type": "stream",
     "text": [
      "Train Epoch: 111 [2560/3918 (66%)]\tLoss: 0.194026\n",
      "Mem before-during-after: 18544640 18618880 18544640\n"
     ]
    },
    {
     "name": "stderr",
     "output_type": "stream",
     "text": [
      " 21%|███████▋                            | 10.662295081967088/50 [11:05<40:03, 61.09s/it]"
     ]
    },
    {
     "name": "stdout",
     "output_type": "stream",
     "text": [
      "Train Epoch: 111 [3200/3918 (82%)]\tLoss: 0.056897\n",
      "Mem before-during-after: 18544640 18618880 18544640\n"
     ]
    },
    {
     "name": "stderr",
     "output_type": "stream",
     "text": [
      " 22%|███████▊                            | 10.793442622950693/50 [11:14<40:29, 61.97s/it]"
     ]
    },
    {
     "name": "stdout",
     "output_type": "stream",
     "text": [
      "Train Epoch: 111 [3840/3918 (98%)]\tLoss: 0.053098\n",
      "Mem before-during-after: 18544640 18618880 18544640\n"
     ]
    },
    {
     "name": "stderr",
     "output_type": "stream",
     "text": [
      " 22%|████████▏                            | 10.99999999999987/50 [11:26<39:34, 60.90s/it]"
     ]
    },
    {
     "name": "stdout",
     "output_type": "stream",
     "text": [
      "\n",
      "Test Epoch: 111\tAccuracy: 581/976 (59%)\n",
      "\n"
     ]
    },
    {
     "name": "stderr",
     "output_type": "stream",
     "text": [
      " 22%|████████▏                            | 11.00655737704905/50 [11:27<39:46, 61.21s/it]"
     ]
    },
    {
     "name": "stdout",
     "output_type": "stream",
     "text": [
      "Train Epoch: 112 [0/3918 (0%)]\tLoss: 0.035076\n",
      "Mem before-during-after: 18543616 18618880 18544640\n"
     ]
    },
    {
     "name": "stderr",
     "output_type": "stream",
     "text": [
      " 22%|████████                            | 11.137704918032655/50 [11:35<39:23, 60.81s/it]"
     ]
    },
    {
     "name": "stdout",
     "output_type": "stream",
     "text": [
      "Train Epoch: 112 [640/3918 (16%)]\tLoss: 0.327860\n",
      "Mem before-during-after: 18544640 18618880 18544640\n"
     ]
    },
    {
     "name": "stderr",
     "output_type": "stream",
     "text": [
      " 23%|████████▎                            | 11.26557377049167/50 [11:43<39:39, 61.43s/it]"
     ]
    },
    {
     "name": "stdout",
     "output_type": "stream",
     "text": [
      "Train Epoch: 112 [1280/3918 (33%)]\tLoss: 0.020917\n",
      "Mem before-during-after: 18544640 18618880 18544640\n"
     ]
    },
    {
     "name": "stderr",
     "output_type": "stream",
     "text": [
      " 23%|████████▏                           | 11.396721311475275/50 [11:51<43:41, 67.91s/it]"
     ]
    },
    {
     "name": "stdout",
     "output_type": "stream",
     "text": [
      "Train Epoch: 112 [1920/3918 (49%)]\tLoss: 0.038297\n",
      "Mem before-during-after: 18544640 18618880 18544640\n"
     ]
    },
    {
     "name": "stderr",
     "output_type": "stream",
     "text": [
      " 23%|████████▌                            | 11.52786885245888/50 [11:59<38:54, 60.68s/it]"
     ]
    },
    {
     "name": "stdout",
     "output_type": "stream",
     "text": [
      "Train Epoch: 112 [2560/3918 (66%)]\tLoss: 0.035275\n",
      "Mem before-during-after: 18544640 18618880 18544640\n"
     ]
    },
    {
     "name": "stderr",
     "output_type": "stream",
     "text": [
      " 23%|████████▍                           | 11.662295081967075/50 [12:08<39:23, 61.64s/it]"
     ]
    },
    {
     "name": "stdout",
     "output_type": "stream",
     "text": [
      "Train Epoch: 112 [3200/3918 (82%)]\tLoss: 0.061506\n",
      "Mem before-during-after: 18544640 18618880 18544640\n"
     ]
    },
    {
     "name": "stderr",
     "output_type": "stream",
     "text": [
      " 24%|████████▋                            | 11.79016393442609/50 [12:16<39:08, 61.46s/it]"
     ]
    },
    {
     "name": "stdout",
     "output_type": "stream",
     "text": [
      "Train Epoch: 112 [3840/3918 (98%)]\tLoss: 0.203670\n",
      "Mem before-during-after: 18544640 18618880 18544640\n"
     ]
    },
    {
     "name": "stderr",
     "output_type": "stream",
     "text": [
      " 24%|████████▋                           | 11.999999999999858/50 [12:29<39:12, 61.91s/it]"
     ]
    },
    {
     "name": "stdout",
     "output_type": "stream",
     "text": [
      "\n",
      "Test Epoch: 112\tAccuracy: 560/976 (57%)\n",
      "\n"
     ]
    },
    {
     "name": "stderr",
     "output_type": "stream",
     "text": [
      " 24%|████████▋                           | 12.003278688524448/50 [12:29<39:08, 61.81s/it]"
     ]
    },
    {
     "name": "stdout",
     "output_type": "stream",
     "text": [
      "Train Epoch: 113 [0/3918 (0%)]\tLoss: 0.353160\n",
      "Mem before-during-after: 18543616 18618880 18544640\n"
     ]
    },
    {
     "name": "stderr",
     "output_type": "stream",
     "text": [
      " 24%|████████▋                           | 12.137704918032643/50 [12:37<39:37, 62.80s/it]"
     ]
    },
    {
     "name": "stdout",
     "output_type": "stream",
     "text": [
      "Train Epoch: 113 [640/3918 (16%)]\tLoss: 0.033734\n",
      "Mem before-during-after: 18544640 18618880 18544640\n"
     ]
    },
    {
     "name": "stderr",
     "output_type": "stream",
     "text": [
      " 25%|████████▊                           | 12.268852459016248/50 [12:45<38:20, 60.98s/it]"
     ]
    },
    {
     "name": "stdout",
     "output_type": "stream",
     "text": [
      "Train Epoch: 113 [1280/3918 (33%)]\tLoss: 0.037373\n",
      "Mem before-during-after: 18544640 18618880 18544640\n"
     ]
    },
    {
     "name": "stderr",
     "output_type": "stream",
     "text": [
      " 25%|████████▉                           | 12.396721311475263/50 [12:53<38:31, 61.46s/it]"
     ]
    },
    {
     "name": "stdout",
     "output_type": "stream",
     "text": [
      "Train Epoch: 113 [1920/3918 (49%)]\tLoss: 0.150801\n",
      "Mem before-during-after: 18544640 18618880 18544640\n"
     ]
    },
    {
     "name": "stderr",
     "output_type": "stream",
     "text": [
      " 25%|█████████                           | 12.531147540983458/50 [13:02<38:11, 61.16s/it]"
     ]
    },
    {
     "name": "stdout",
     "output_type": "stream",
     "text": [
      "Train Epoch: 113 [2560/3918 (66%)]\tLoss: 0.044641\n",
      "Mem before-during-after: 18544640 18618880 18544640\n"
     ]
    },
    {
     "name": "stderr",
     "output_type": "stream",
     "text": [
      " 25%|█████████                           | 12.659016393442473/50 [13:10<37:50, 60.82s/it]"
     ]
    },
    {
     "name": "stdout",
     "output_type": "stream",
     "text": [
      "Train Epoch: 113 [3200/3918 (82%)]\tLoss: 0.209741\n",
      "Mem before-during-after: 18544640 18618880 18544640\n"
     ]
    },
    {
     "name": "stderr",
     "output_type": "stream",
     "text": [
      " 26%|█████████▏                          | 12.793442622950668/50 [13:18<39:00, 62.90s/it]"
     ]
    },
    {
     "name": "stdout",
     "output_type": "stream",
     "text": [
      "Train Epoch: 113 [3840/3918 (98%)]\tLoss: 0.222991\n",
      "Mem before-during-after: 18544640 18618880 18544640\n"
     ]
    },
    {
     "name": "stderr",
     "output_type": "stream",
     "text": [
      " 26%|█████████▎                          | 12.999999999999845/50 [13:31<37:40, 61.08s/it]"
     ]
    },
    {
     "name": "stdout",
     "output_type": "stream",
     "text": [
      "\n",
      "Test Epoch: 113\tAccuracy: 580/976 (59%)\n",
      "\n"
     ]
    },
    {
     "name": "stderr",
     "output_type": "stream",
     "text": [
      " 26%|█████████▎                          | 13.003278688524436/50 [13:31<37:52, 61.42s/it]"
     ]
    },
    {
     "name": "stdout",
     "output_type": "stream",
     "text": [
      "Train Epoch: 114 [0/3918 (0%)]\tLoss: 0.068858\n",
      "Mem before-during-after: 18543616 18618880 18544640\n"
     ]
    },
    {
     "name": "stderr",
     "output_type": "stream",
     "text": [
      " 26%|█████████▋                           | 13.13442622950804/50 [13:39<37:41, 61.34s/it]"
     ]
    },
    {
     "name": "stdout",
     "output_type": "stream",
     "text": [
      "Train Epoch: 114 [640/3918 (16%)]\tLoss: 0.062108\n",
      "Mem before-during-after: 18544640 18618880 18544640\n"
     ]
    },
    {
     "name": "stderr",
     "output_type": "stream",
     "text": [
      " 27%|█████████▌                          | 13.265573770491645/50 [13:47<37:30, 61.28s/it]"
     ]
    },
    {
     "name": "stdout",
     "output_type": "stream",
     "text": [
      "Train Epoch: 114 [1280/3918 (33%)]\tLoss: 0.100111\n",
      "Mem before-during-after: 18544640 18618880 18544640\n"
     ]
    },
    {
     "name": "stderr",
     "output_type": "stream",
     "text": [
      " 27%|█████████▉                           | 13.39999999999984/50 [13:55<37:16, 61.10s/it]"
     ]
    },
    {
     "name": "stdout",
     "output_type": "stream",
     "text": [
      "Train Epoch: 114 [1920/3918 (49%)]\tLoss: 0.023986\n",
      "Mem before-during-after: 18544640 18618880 18544640\n"
     ]
    },
    {
     "name": "stderr",
     "output_type": "stream",
     "text": [
      " 27%|█████████▋                          | 13.531147540983445/50 [14:04<37:24, 61.54s/it]"
     ]
    },
    {
     "name": "stdout",
     "output_type": "stream",
     "text": [
      "Train Epoch: 114 [2560/3918 (66%)]\tLoss: 0.023410\n",
      "Mem before-during-after: 18544640 18618880 18544640\n"
     ]
    },
    {
     "name": "stderr",
     "output_type": "stream",
     "text": [
      " 27%|██████████                           | 13.65901639344246/50 [14:12<36:56, 61.00s/it]"
     ]
    },
    {
     "name": "stdout",
     "output_type": "stream",
     "text": [
      "Train Epoch: 114 [3200/3918 (82%)]\tLoss: 0.123896\n",
      "Mem before-during-after: 18544640 18618880 18544640\n"
     ]
    },
    {
     "name": "stderr",
     "output_type": "stream",
     "text": [
      " 28%|█████████▉                          | 13.790163934426065/50 [14:20<37:48, 62.65s/it]"
     ]
    },
    {
     "name": "stdout",
     "output_type": "stream",
     "text": [
      "Train Epoch: 114 [3840/3918 (98%)]\tLoss: 0.034891\n",
      "Mem before-during-after: 18544640 18618880 18544640\n"
     ]
    },
    {
     "name": "stderr",
     "output_type": "stream",
     "text": [
      " 28%|██████████                          | 13.999999999999833/50 [14:33<37:25, 62.37s/it]"
     ]
    },
    {
     "name": "stdout",
     "output_type": "stream",
     "text": [
      "\n",
      "Test Epoch: 114\tAccuracy: 571/976 (58%)\n",
      "\n"
     ]
    },
    {
     "name": "stderr",
     "output_type": "stream",
     "text": [
      " 28%|██████████                          | 14.006557377049013/50 [14:33<37:11, 62.01s/it]"
     ]
    },
    {
     "name": "stdout",
     "output_type": "stream",
     "text": [
      "Train Epoch: 115 [0/3918 (0%)]\tLoss: 0.114826\n",
      "Mem before-during-after: 18543616 18618880 18544640\n"
     ]
    },
    {
     "name": "stderr",
     "output_type": "stream",
     "text": [
      " 28%|██████████▏                         | 14.137704918032618/50 [14:41<37:10, 62.19s/it]"
     ]
    },
    {
     "name": "stdout",
     "output_type": "stream",
     "text": [
      "Train Epoch: 115 [640/3918 (16%)]\tLoss: 0.067626\n",
      "Mem before-during-after: 18544640 18618880 18544640\n"
     ]
    },
    {
     "name": "stderr",
     "output_type": "stream",
     "text": [
      " 29%|██████████▎                         | 14.265573770491633/50 [14:50<36:38, 61.53s/it]"
     ]
    },
    {
     "name": "stdout",
     "output_type": "stream",
     "text": [
      "Train Epoch: 115 [1280/3918 (33%)]\tLoss: 0.091041\n",
      "Mem before-during-after: 18544640 18618880 18544640\n"
     ]
    },
    {
     "name": "stderr",
     "output_type": "stream",
     "text": [
      " 29%|██████████▎                         | 14.396721311475238/50 [14:58<37:08, 62.59s/it]"
     ]
    },
    {
     "name": "stdout",
     "output_type": "stream",
     "text": [
      "Train Epoch: 115 [1920/3918 (49%)]\tLoss: 0.022027\n",
      "Mem before-during-after: 18544640 18618880 18544640\n"
     ]
    },
    {
     "name": "stderr",
     "output_type": "stream",
     "text": [
      " 29%|██████████▍                         | 14.527868852458843/50 [15:06<36:30, 61.75s/it]"
     ]
    },
    {
     "name": "stdout",
     "output_type": "stream",
     "text": [
      "Train Epoch: 115 [2560/3918 (66%)]\tLoss: 0.058237\n",
      "Mem before-during-after: 18544640 18618880 18544640\n"
     ]
    },
    {
     "name": "stderr",
     "output_type": "stream",
     "text": [
      " 29%|██████████▌                         | 14.662295081967038/50 [15:14<35:52, 60.92s/it]"
     ]
    },
    {
     "name": "stdout",
     "output_type": "stream",
     "text": [
      "Train Epoch: 115 [3200/3918 (82%)]\tLoss: 0.048430\n",
      "Mem before-during-after: 18544640 18618880 18544640\n"
     ]
    },
    {
     "name": "stderr",
     "output_type": "stream",
     "text": [
      " 30%|██████████▋                         | 14.793442622950643/50 [15:23<35:40, 60.78s/it]"
     ]
    },
    {
     "name": "stdout",
     "output_type": "stream",
     "text": [
      "Train Epoch: 115 [3840/3918 (98%)]\tLoss: 0.169249\n",
      "Mem before-during-after: 18544640 18618880 18544640\n"
     ]
    },
    {
     "name": "stderr",
     "output_type": "stream",
     "text": [
      " 30%|███████████                          | 14.99999999999982/50 [15:35<35:27, 60.80s/it]"
     ]
    },
    {
     "name": "stdout",
     "output_type": "stream",
     "text": [
      "\n",
      "Test Epoch: 115\tAccuracy: 574/976 (59%)\n",
      "\n"
     ]
    },
    {
     "name": "stderr",
     "output_type": "stream",
     "text": [
      " 30%|███████████                          | 15.00327868852441/50 [15:36<35:38, 61.10s/it]"
     ]
    },
    {
     "name": "stdout",
     "output_type": "stream",
     "text": [
      "Train Epoch: 116 [0/3918 (0%)]\tLoss: 0.049732\n",
      "Mem before-during-after: 18543616 18618880 18544640\n"
     ]
    },
    {
     "name": "stderr",
     "output_type": "stream",
     "text": [
      " 30%|██████████▉                         | 15.137704918032606/50 [15:44<35:20, 60.81s/it]"
     ]
    },
    {
     "name": "stdout",
     "output_type": "stream",
     "text": [
      "Train Epoch: 116 [640/3918 (16%)]\tLoss: 0.052602\n",
      "Mem before-during-after: 18544640 18618880 18544640\n"
     ]
    },
    {
     "name": "stderr",
     "output_type": "stream",
     "text": [
      " 31%|███████████▎                         | 15.26885245901621/50 [15:52<36:55, 63.79s/it]"
     ]
    },
    {
     "name": "stdout",
     "output_type": "stream",
     "text": [
      "Train Epoch: 116 [1280/3918 (33%)]\tLoss: 0.020186\n",
      "Mem before-during-after: 18544640 18618880 18544640\n"
     ]
    },
    {
     "name": "stderr",
     "output_type": "stream",
     "text": [
      " 31%|███████████                         | 15.396721311475225/50 [16:00<35:33, 61.66s/it]"
     ]
    },
    {
     "name": "stdout",
     "output_type": "stream",
     "text": [
      "Train Epoch: 116 [1920/3918 (49%)]\tLoss: 0.068045\n",
      "Mem before-during-after: 18544640 18618880 18544640\n"
     ]
    },
    {
     "name": "stderr",
     "output_type": "stream",
     "text": [
      " 31%|███████████▍                         | 15.52786885245883/50 [16:08<35:38, 62.03s/it]"
     ]
    },
    {
     "name": "stdout",
     "output_type": "stream",
     "text": [
      "Train Epoch: 116 [2560/3918 (66%)]\tLoss: 0.021470\n",
      "Mem before-during-after: 18544640 18618880 18544640\n"
     ]
    },
    {
     "name": "stderr",
     "output_type": "stream",
     "text": [
      " 31%|███████████▎                        | 15.659016393442435/50 [16:16<35:12, 61.51s/it]"
     ]
    },
    {
     "name": "stdout",
     "output_type": "stream",
     "text": [
      "Train Epoch: 116 [3200/3918 (82%)]\tLoss: 0.038403\n",
      "Mem before-during-after: 18544640 18618880 18544640\n"
     ]
    },
    {
     "name": "stderr",
     "output_type": "stream",
     "text": [
      " 32%|███████████▋                         | 15.79016393442604/50 [16:24<34:58, 61.34s/it]"
     ]
    },
    {
     "name": "stdout",
     "output_type": "stream",
     "text": [
      "Train Epoch: 116 [3840/3918 (98%)]\tLoss: 0.321451\n",
      "Mem before-during-after: 18544640 18618880 18544640\n"
     ]
    },
    {
     "name": "stderr",
     "output_type": "stream",
     "text": [
      " 32%|████████████▏                         | 16.0032786885244/50 [16:38<36:18, 64.07s/it]"
     ]
    },
    {
     "name": "stdout",
     "output_type": "stream",
     "text": [
      "\n",
      "Test Epoch: 116\tAccuracy: 563/976 (57%)\n",
      "\n",
      "Train Epoch: 117 [0/3918 (0%)]\tLoss: 0.089555\n",
      "Mem before-during-after: 18543616 18618880 18544640\n"
     ]
    },
    {
     "name": "stderr",
     "output_type": "stream",
     "text": [
      " 32%|███████████▌                        | 16.134426229508076/50 [16:46<35:01, 62.05s/it]"
     ]
    },
    {
     "name": "stdout",
     "output_type": "stream",
     "text": [
      "Train Epoch: 117 [640/3918 (16%)]\tLoss: 0.070700\n",
      "Mem before-during-after: 18544640 18618880 18544640\n"
     ]
    },
    {
     "name": "stderr",
     "output_type": "stream",
     "text": [
      " 33%|███████████▋                        | 16.268852459016344/50 [16:54<34:13, 60.86s/it]"
     ]
    },
    {
     "name": "stdout",
     "output_type": "stream",
     "text": [
      "Train Epoch: 117 [1280/3918 (33%)]\tLoss: 0.243285\n",
      "Mem before-during-after: 18544640 18618880 18544640\n"
     ]
    },
    {
     "name": "stderr",
     "output_type": "stream",
     "text": [
      " 33%|███████████▊                        | 16.396721311475428/50 [17:02<34:23, 61.41s/it]"
     ]
    },
    {
     "name": "stdout",
     "output_type": "stream",
     "text": [
      "Train Epoch: 117 [1920/3918 (49%)]\tLoss: 0.055674\n",
      "Mem before-during-after: 18544640 18618880 18544640\n"
     ]
    },
    {
     "name": "stderr",
     "output_type": "stream",
     "text": [
      " 33%|███████████▉                        | 16.527868852459104/50 [17:10<34:18, 61.49s/it]"
     ]
    },
    {
     "name": "stdout",
     "output_type": "stream",
     "text": [
      "Train Epoch: 117 [2560/3918 (66%)]\tLoss: 0.015468\n",
      "Mem before-during-after: 18544640 18618880 18544640\n"
     ]
    },
    {
     "name": "stderr",
     "output_type": "stream",
     "text": [
      " 33%|████████████▎                        | 16.65901639344278/50 [17:19<34:56, 62.88s/it]"
     ]
    },
    {
     "name": "stdout",
     "output_type": "stream",
     "text": [
      "Train Epoch: 117 [3200/3918 (82%)]\tLoss: 0.244471\n",
      "Mem before-during-after: 18544640 18618880 18544640\n"
     ]
    },
    {
     "name": "stderr",
     "output_type": "stream",
     "text": [
      " 34%|████████████                        | 16.790163934426456/50 [17:27<34:09, 61.70s/it]"
     ]
    },
    {
     "name": "stdout",
     "output_type": "stream",
     "text": [
      "Train Epoch: 117 [3840/3918 (98%)]\tLoss: 0.098314\n",
      "Mem before-during-after: 18544640 18618880 18544640\n"
     ]
    },
    {
     "name": "stderr",
     "output_type": "stream",
     "text": [
      " 34%|████████████▌                        | 17.00327868852493/50 [17:40<33:33, 61.03s/it]"
     ]
    },
    {
     "name": "stdout",
     "output_type": "stream",
     "text": [
      "\n",
      "Test Epoch: 117\tAccuracy: 570/976 (58%)\n",
      "\n",
      "Train Epoch: 118 [0/3918 (0%)]\tLoss: 0.025479\n",
      "Mem before-during-after: 18543616 18618880 18544640\n"
     ]
    },
    {
     "name": "stderr",
     "output_type": "stream",
     "text": [
      " 34%|████████████▎                       | 17.134426229508605/50 [17:48<33:10, 60.57s/it]"
     ]
    },
    {
     "name": "stdout",
     "output_type": "stream",
     "text": [
      "Train Epoch: 118 [640/3918 (16%)]\tLoss: 0.289396\n",
      "Mem before-during-after: 18544640 18618880 18544640\n"
     ]
    },
    {
     "name": "stderr",
     "output_type": "stream",
     "text": [
      " 35%|████████████▍                       | 17.268852459016873/50 [17:56<33:23, 61.20s/it]"
     ]
    },
    {
     "name": "stdout",
     "output_type": "stream",
     "text": [
      "Train Epoch: 118 [1280/3918 (33%)]\tLoss: 0.022500\n",
      "Mem before-during-after: 18544640 18618880 18544640\n"
     ]
    },
    {
     "name": "stderr",
     "output_type": "stream",
     "text": [
      " 35%|████████████▌                       | 17.396721311475957/50 [18:04<33:23, 61.45s/it]"
     ]
    },
    {
     "name": "stdout",
     "output_type": "stream",
     "text": [
      "Train Epoch: 118 [1920/3918 (49%)]\tLoss: 0.045136\n",
      "Mem before-during-after: 18544640 18618880 18544640\n"
     ]
    },
    {
     "name": "stderr",
     "output_type": "stream",
     "text": [
      " 35%|████████████▌                       | 17.531147540984225/50 [18:13<32:57, 60.89s/it]"
     ]
    },
    {
     "name": "stdout",
     "output_type": "stream",
     "text": [
      "Train Epoch: 118 [2560/3918 (66%)]\tLoss: 0.067710\n",
      "Mem before-during-after: 18544640 18618880 18544640\n"
     ]
    },
    {
     "name": "stderr",
     "output_type": "stream",
     "text": [
      " 35%|█████████████                        | 17.65901639344331/50 [18:21<33:21, 61.87s/it]"
     ]
    },
    {
     "name": "stdout",
     "output_type": "stream",
     "text": [
      "Train Epoch: 118 [3200/3918 (82%)]\tLoss: 0.026108\n",
      "Mem before-during-after: 18544640 18618880 18544640\n"
     ]
    },
    {
     "name": "stderr",
     "output_type": "stream",
     "text": [
      " 36%|████████████▊                       | 17.790163934426985/50 [18:29<33:18, 62.04s/it]"
     ]
    },
    {
     "name": "stdout",
     "output_type": "stream",
     "text": [
      "Train Epoch: 118 [3840/3918 (98%)]\tLoss: 0.064897\n",
      "Mem before-during-after: 18544640 18618880 18544640\n"
     ]
    },
    {
     "name": "stderr",
     "output_type": "stream",
     "text": [
      " 36%|█████████████▎                       | 18.00327868852546/50 [18:42<32:05, 60.19s/it]"
     ]
    },
    {
     "name": "stdout",
     "output_type": "stream",
     "text": [
      "\n",
      "Test Epoch: 118\tAccuracy: 564/976 (58%)\n",
      "\n",
      "Train Epoch: 119 [0/3918 (0%)]\tLoss: 0.009127\n",
      "Mem before-during-after: 18543616 18618880 18544640\n"
     ]
    },
    {
     "name": "stderr",
     "output_type": "stream",
     "text": [
      " 36%|█████████████                       | 18.137704918033727/50 [18:50<33:12, 62.54s/it]"
     ]
    },
    {
     "name": "stdout",
     "output_type": "stream",
     "text": [
      "Train Epoch: 119 [640/3918 (16%)]\tLoss: 0.041318\n",
      "Mem before-during-after: 18544640 18618880 18544640\n"
     ]
    },
    {
     "name": "stderr",
     "output_type": "stream",
     "text": [
      " 37%|█████████████▏                      | 18.268852459017403/50 [18:58<31:53, 60.29s/it]"
     ]
    },
    {
     "name": "stdout",
     "output_type": "stream",
     "text": [
      "Train Epoch: 119 [1280/3918 (33%)]\tLoss: 0.030788\n",
      "Mem before-during-after: 18544640 18618880 18544640\n"
     ]
    },
    {
     "name": "stderr",
     "output_type": "stream",
     "text": [
      " 37%|█████████████▏                      | 18.396721311476487/50 [19:06<32:45, 62.18s/it]"
     ]
    },
    {
     "name": "stdout",
     "output_type": "stream",
     "text": [
      "Train Epoch: 119 [1920/3918 (49%)]\tLoss: 0.046512\n",
      "Mem before-during-after: 18544640 18618880 18544640\n"
     ]
    },
    {
     "name": "stderr",
     "output_type": "stream",
     "text": [
      " 37%|█████████████▎                      | 18.531147540984755/50 [19:15<32:21, 61.70s/it]"
     ]
    },
    {
     "name": "stdout",
     "output_type": "stream",
     "text": [
      "Train Epoch: 119 [2560/3918 (66%)]\tLoss: 0.015766\n",
      "Mem before-during-after: 18544640 18618880 18544640\n"
     ]
    },
    {
     "name": "stderr",
     "output_type": "stream",
     "text": [
      " 37%|█████████████▊                       | 18.66229508196843/50 [19:23<33:04, 63.33s/it]"
     ]
    },
    {
     "name": "stdout",
     "output_type": "stream",
     "text": [
      "Train Epoch: 119 [3200/3918 (82%)]\tLoss: 0.118282\n",
      "Mem before-during-after: 18544640 18618880 18544640\n"
     ]
    },
    {
     "name": "stderr",
     "output_type": "stream",
     "text": [
      " 38%|█████████████▌                      | 18.790163934427515/50 [19:31<32:05, 61.70s/it]"
     ]
    },
    {
     "name": "stdout",
     "output_type": "stream",
     "text": [
      "Train Epoch: 119 [3840/3918 (98%)]\tLoss: 0.049398\n",
      "Mem before-during-after: 18544640 18618880 18544640\n"
     ]
    },
    {
     "name": "stderr",
     "output_type": "stream",
     "text": [
      " 38%|█████████████▋                      | 19.000000000001396/50 [19:44<31:10, 60.33s/it]"
     ]
    },
    {
     "name": "stdout",
     "output_type": "stream",
     "text": [
      "\n",
      "Test Epoch: 119\tAccuracy: 567/976 (58%)\n",
      "\n"
     ]
    },
    {
     "name": "stderr",
     "output_type": "stream",
     "text": [
      " 38%|█████████████▋                      | 19.003278688525988/50 [19:44<31:47, 61.52s/it]"
     ]
    },
    {
     "name": "stdout",
     "output_type": "stream",
     "text": [
      "Train Epoch: 120 [0/3918 (0%)]\tLoss: 0.008480\n",
      "Mem before-during-after: 18543616 18618880 18544640\n"
     ]
    },
    {
     "name": "stderr",
     "output_type": "stream",
     "text": [
      " 38%|█████████████▊                      | 19.134426229509664/50 [19:52<30:45, 59.79s/it]"
     ]
    },
    {
     "name": "stdout",
     "output_type": "stream",
     "text": [
      "Train Epoch: 120 [640/3918 (16%)]\tLoss: 0.180283\n",
      "Mem before-during-after: 18544640 18618880 18544640\n"
     ]
    },
    {
     "name": "stderr",
     "output_type": "stream",
     "text": [
      " 39%|█████████████▊                      | 19.268852459017932/50 [20:01<31:29, 61.48s/it]"
     ]
    },
    {
     "name": "stdout",
     "output_type": "stream",
     "text": [
      "Train Epoch: 120 [1280/3918 (33%)]\tLoss: 0.079480\n",
      "Mem before-during-after: 18544640 18618880 18544640\n"
     ]
    },
    {
     "name": "stderr",
     "output_type": "stream",
     "text": [
      " 39%|█████████████▉                      | 19.396721311477016/50 [20:09<32:02, 62.82s/it]"
     ]
    },
    {
     "name": "stdout",
     "output_type": "stream",
     "text": [
      "Train Epoch: 120 [1920/3918 (49%)]\tLoss: 0.029386\n",
      "Mem before-during-after: 18544640 18618880 18544640\n"
     ]
    },
    {
     "name": "stderr",
     "output_type": "stream",
     "text": [
      " 39%|██████████████                      | 19.527868852460692/50 [20:17<31:00, 61.06s/it]"
     ]
    },
    {
     "name": "stdout",
     "output_type": "stream",
     "text": [
      "Train Epoch: 120 [2560/3918 (66%)]\tLoss: 0.028438\n",
      "Mem before-during-after: 18544640 18618880 18544640\n"
     ]
    },
    {
     "name": "stderr",
     "output_type": "stream",
     "text": [
      " 39%|██████████████▏                     | 19.659016393444368/50 [20:25<31:29, 62.29s/it]"
     ]
    },
    {
     "name": "stdout",
     "output_type": "stream",
     "text": [
      "Train Epoch: 120 [3200/3918 (82%)]\tLoss: 0.147037\n",
      "Mem before-during-after: 18544640 18618880 18544640\n"
     ]
    },
    {
     "name": "stderr",
     "output_type": "stream",
     "text": [
      " 40%|██████████████▎                     | 19.793442622952636/50 [20:33<31:32, 62.64s/it]"
     ]
    },
    {
     "name": "stdout",
     "output_type": "stream",
     "text": [
      "Train Epoch: 120 [3840/3918 (98%)]\tLoss: 0.052779\n",
      "Mem before-during-after: 18544640 18618880 18544640\n"
     ]
    },
    {
     "name": "stderr",
     "output_type": "stream",
     "text": [
      " 40%|██████████████▍                     | 20.003278688526517/50 [20:46<30:27, 60.92s/it]"
     ]
    },
    {
     "name": "stdout",
     "output_type": "stream",
     "text": [
      "\n",
      "Test Epoch: 120\tAccuracy: 577/976 (59%)\n",
      "\n",
      "Train Epoch: 121 [0/3918 (0%)]\tLoss: 0.032878\n",
      "Mem before-during-after: 18543616 18618880 18544640\n"
     ]
    },
    {
     "name": "stderr",
     "output_type": "stream",
     "text": [
      " 40%|██████████████▍                     | 20.134426229510193/50 [20:55<30:34, 61.41s/it]"
     ]
    },
    {
     "name": "stdout",
     "output_type": "stream",
     "text": [
      "Train Epoch: 121 [640/3918 (16%)]\tLoss: 0.019934\n",
      "Mem before-during-after: 18544640 18618880 18544640\n"
     ]
    },
    {
     "name": "stderr",
     "output_type": "stream",
     "text": [
      " 41%|██████████████▉                      | 20.26885245901846/50 [21:03<38:03, 76.82s/it]"
     ]
    },
    {
     "name": "stdout",
     "output_type": "stream",
     "text": [
      "Train Epoch: 121 [1280/3918 (33%)]\tLoss: 0.050747\n",
      "Mem before-during-after: 18544640 18618880 18544640\n"
     ]
    },
    {
     "name": "stderr",
     "output_type": "stream",
     "text": [
      " 41%|██████████████▋                     | 20.396721311477545/50 [21:11<30:49, 62.46s/it]"
     ]
    },
    {
     "name": "stdout",
     "output_type": "stream",
     "text": [
      "Train Epoch: 121 [1920/3918 (49%)]\tLoss: 0.024624\n",
      "Mem before-during-after: 18544640 18618880 18544640\n"
     ]
    },
    {
     "name": "stderr",
     "output_type": "stream",
     "text": [
      " 41%|███████████████▏                     | 20.52786885246122/50 [21:19<30:33, 62.21s/it]"
     ]
    },
    {
     "name": "stdout",
     "output_type": "stream",
     "text": [
      "Train Epoch: 121 [2560/3918 (66%)]\tLoss: 0.015688\n",
      "Mem before-during-after: 18544640 18618880 18544640\n"
     ]
    },
    {
     "name": "stderr",
     "output_type": "stream",
     "text": [
      " 41%|██████████████▊                     | 20.659016393444897/50 [21:27<30:34, 62.53s/it]"
     ]
    },
    {
     "name": "stdout",
     "output_type": "stream",
     "text": [
      "Train Epoch: 121 [3200/3918 (82%)]\tLoss: 0.162621\n",
      "Mem before-during-after: 18544640 18618880 18544640\n"
     ]
    },
    {
     "name": "stderr",
     "output_type": "stream",
     "text": [
      " 42%|██████████████▉                     | 20.790163934428573/50 [21:36<30:00, 61.63s/it]"
     ]
    },
    {
     "name": "stdout",
     "output_type": "stream",
     "text": [
      "Train Epoch: 121 [3840/3918 (98%)]\tLoss: 0.010830\n",
      "Mem before-during-after: 18544640 18618880 18544640\n"
     ]
    },
    {
     "name": "stderr",
     "output_type": "stream",
     "text": [
      " 42%|███████████████                     | 21.000000000002455/50 [21:49<29:23, 60.80s/it]"
     ]
    },
    {
     "name": "stdout",
     "output_type": "stream",
     "text": [
      "\n",
      "Test Epoch: 121\tAccuracy: 578/976 (59%)\n",
      "\n"
     ]
    },
    {
     "name": "stderr",
     "output_type": "stream",
     "text": [
      " 42%|███████████████▌                     | 21.00655737705164/50 [21:49<29:48, 61.68s/it]"
     ]
    },
    {
     "name": "stdout",
     "output_type": "stream",
     "text": [
      "Train Epoch: 122 [0/3918 (0%)]\tLoss: 0.099314\n",
      "Mem before-during-after: 18543616 18618880 18544640\n"
     ]
    },
    {
     "name": "stderr",
     "output_type": "stream",
     "text": [
      " 42%|███████████████▏                    | 21.137704918035315/50 [21:57<29:35, 61.50s/it]"
     ]
    },
    {
     "name": "stdout",
     "output_type": "stream",
     "text": [
      "Train Epoch: 122 [640/3918 (16%)]\tLoss: 0.018421\n",
      "Mem before-during-after: 18544640 18618880 18544640\n"
     ]
    },
    {
     "name": "stderr",
     "output_type": "stream",
     "text": [
      " 43%|████████████████▏                     | 21.2655737704944/50 [22:05<29:38, 61.91s/it]"
     ]
    },
    {
     "name": "stdout",
     "output_type": "stream",
     "text": [
      "Train Epoch: 122 [1280/3918 (33%)]\tLoss: 0.066216\n",
      "Mem before-during-after: 18544640 18618880 18544640\n"
     ]
    },
    {
     "name": "stderr",
     "output_type": "stream",
     "text": [
      " 43%|███████████████▍                    | 21.396721311478075/50 [22:13<29:20, 61.55s/it]"
     ]
    },
    {
     "name": "stdout",
     "output_type": "stream",
     "text": [
      "Train Epoch: 122 [1920/3918 (49%)]\tLoss: 0.035188\n",
      "Mem before-during-after: 18544640 18618880 18544640\n"
     ]
    },
    {
     "name": "stderr",
     "output_type": "stream",
     "text": [
      " 43%|███████████████▌                    | 21.531147540986343/50 [22:22<29:15, 61.66s/it]"
     ]
    },
    {
     "name": "stdout",
     "output_type": "stream",
     "text": [
      "Train Epoch: 122 [2560/3918 (66%)]\tLoss: 0.019910\n",
      "Mem before-during-after: 18544640 18618880 18544640\n"
     ]
    },
    {
     "name": "stderr",
     "output_type": "stream",
     "text": [
      " 43%|███████████████▌                    | 21.659016393445427/50 [22:30<31:58, 67.69s/it]"
     ]
    },
    {
     "name": "stdout",
     "output_type": "stream",
     "text": [
      "Train Epoch: 122 [3200/3918 (82%)]\tLoss: 0.172297\n",
      "Mem before-during-after: 18544640 18618880 18544640\n"
     ]
    },
    {
     "name": "stderr",
     "output_type": "stream",
     "text": [
      " 44%|███████████████▋                    | 21.790163934429103/50 [22:38<28:48, 61.26s/it]"
     ]
    },
    {
     "name": "stdout",
     "output_type": "stream",
     "text": [
      "Train Epoch: 122 [3840/3918 (98%)]\tLoss: 0.143533\n",
      "Mem before-during-after: 18544640 18618880 18544640\n"
     ]
    },
    {
     "name": "stderr",
     "output_type": "stream",
     "text": [
      " 44%|███████████████▊                    | 22.000000000002984/50 [22:51<28:44, 61.60s/it]"
     ]
    },
    {
     "name": "stdout",
     "output_type": "stream",
     "text": [
      "\n",
      "Test Epoch: 122\tAccuracy: 585/976 (60%)\n",
      "\n"
     ]
    },
    {
     "name": "stderr",
     "output_type": "stream",
     "text": [
      " 44%|███████████████▊                    | 22.006557377052168/50 [22:51<29:16, 62.74s/it]"
     ]
    },
    {
     "name": "stdout",
     "output_type": "stream",
     "text": [
      "Train Epoch: 123 [0/3918 (0%)]\tLoss: 0.186522\n",
      "Mem before-during-after: 18543616 18618880 18544640\n"
     ]
    },
    {
     "name": "stderr",
     "output_type": "stream",
     "text": [
      " 44%|███████████████▉                    | 22.134426229511252/50 [22:59<28:47, 61.98s/it]"
     ]
    },
    {
     "name": "stdout",
     "output_type": "stream",
     "text": [
      "Train Epoch: 123 [640/3918 (16%)]\tLoss: 0.368487\n",
      "Mem before-during-after: 18544640 18618880 18544640\n"
     ]
    },
    {
     "name": "stderr",
     "output_type": "stream",
     "text": [
      " 45%|████████████████                    | 22.265573770494928/50 [23:08<28:16, 61.16s/it]"
     ]
    },
    {
     "name": "stdout",
     "output_type": "stream",
     "text": [
      "Train Epoch: 123 [1280/3918 (33%)]\tLoss: 0.177033\n",
      "Mem before-during-after: 18544640 18618880 18544640\n"
     ]
    },
    {
     "name": "stderr",
     "output_type": "stream",
     "text": [
      " 45%|████████████████▏                   | 22.400000000003196/50 [23:16<28:08, 61.19s/it]"
     ]
    },
    {
     "name": "stdout",
     "output_type": "stream",
     "text": [
      "Train Epoch: 123 [1920/3918 (49%)]\tLoss: 0.142237\n",
      "Mem before-during-after: 18544640 18618880 18544640\n"
     ]
    },
    {
     "name": "stderr",
     "output_type": "stream",
     "text": [
      " 45%|████████████████▏                   | 22.531147540986872/50 [23:24<28:05, 61.36s/it]"
     ]
    },
    {
     "name": "stdout",
     "output_type": "stream",
     "text": [
      "Train Epoch: 123 [2560/3918 (66%)]\tLoss: 0.014415\n",
      "Mem before-during-after: 18544640 18618880 18544640\n"
     ]
    },
    {
     "name": "stderr",
     "output_type": "stream",
     "text": [
      " 45%|████████████████▎                   | 22.659016393445956/50 [23:32<28:50, 63.29s/it]"
     ]
    },
    {
     "name": "stdout",
     "output_type": "stream",
     "text": [
      "Train Epoch: 123 [3200/3918 (82%)]\tLoss: 0.225158\n",
      "Mem before-during-after: 18544640 18618880 18544640\n"
     ]
    },
    {
     "name": "stderr",
     "output_type": "stream",
     "text": [
      " 46%|████████████████▍                   | 22.793442622954224/50 [23:40<27:41, 61.05s/it]"
     ]
    },
    {
     "name": "stdout",
     "output_type": "stream",
     "text": [
      "Train Epoch: 123 [3840/3918 (98%)]\tLoss: 0.069310\n",
      "Mem before-during-after: 18544640 18618880 18544640\n"
     ]
    },
    {
     "name": "stderr",
     "output_type": "stream",
     "text": [
      " 46%|████████████████▌                   | 23.000000000003514/50 [23:53<27:58, 62.16s/it]"
     ]
    },
    {
     "name": "stdout",
     "output_type": "stream",
     "text": [
      "\n",
      "Test Epoch: 123\tAccuracy: 563/976 (57%)\n",
      "\n"
     ]
    },
    {
     "name": "stderr",
     "output_type": "stream",
     "text": [
      " 46%|████████████████▌                   | 23.006557377052697/50 [23:53<27:46, 61.73s/it]"
     ]
    },
    {
     "name": "stdout",
     "output_type": "stream",
     "text": [
      "Train Epoch: 124 [0/3918 (0%)]\tLoss: 0.004302\n",
      "Mem before-during-after: 18543616 18618880 18544640\n"
     ]
    },
    {
     "name": "stderr",
     "output_type": "stream",
     "text": [
      " 46%|█████████████████                    | 23.13442622951178/50 [24:02<27:44, 61.97s/it]"
     ]
    },
    {
     "name": "stdout",
     "output_type": "stream",
     "text": [
      "Train Epoch: 124 [640/3918 (16%)]\tLoss: 0.084846\n",
      "Mem before-during-after: 18544640 18618880 18544640\n"
     ]
    },
    {
     "name": "stderr",
     "output_type": "stream",
     "text": [
      " 47%|████████████████▊                   | 23.265573770495457/50 [24:10<27:55, 62.69s/it]"
     ]
    },
    {
     "name": "stdout",
     "output_type": "stream",
     "text": [
      "Train Epoch: 124 [1280/3918 (33%)]\tLoss: 0.085380\n",
      "Mem before-during-after: 18544640 18618880 18544640\n"
     ]
    },
    {
     "name": "stderr",
     "output_type": "stream",
     "text": [
      " 47%|████████████████▊                   | 23.396721311479133/50 [24:18<27:14, 61.44s/it]"
     ]
    },
    {
     "name": "stdout",
     "output_type": "stream",
     "text": [
      "Train Epoch: 124 [1920/3918 (49%)]\tLoss: 0.032706\n",
      "Mem before-during-after: 18544640 18618880 18544640\n"
     ]
    },
    {
     "name": "stderr",
     "output_type": "stream",
     "text": [
      " 47%|█████████████████▉                    | 23.5311475409874/50 [24:26<27:27, 62.23s/it]"
     ]
    },
    {
     "name": "stdout",
     "output_type": "stream",
     "text": [
      "Train Epoch: 124 [2560/3918 (66%)]\tLoss: 0.038556\n",
      "Mem before-during-after: 18544640 18618880 18544640\n"
     ]
    },
    {
     "name": "stderr",
     "output_type": "stream",
     "text": [
      " 47%|█████████████████                   | 23.659016393446485/50 [24:34<27:07, 61.78s/it]"
     ]
    },
    {
     "name": "stdout",
     "output_type": "stream",
     "text": [
      "Train Epoch: 124 [3200/3918 (82%)]\tLoss: 0.075495\n",
      "Mem before-during-after: 18544640 18618880 18544640\n"
     ]
    },
    {
     "name": "stderr",
     "output_type": "stream",
     "text": [
      " 48%|█████████████████▏                  | 23.793442622954753/50 [24:43<26:58, 61.77s/it]"
     ]
    },
    {
     "name": "stdout",
     "output_type": "stream",
     "text": [
      "Train Epoch: 124 [3840/3918 (98%)]\tLoss: 0.012314\n",
      "Mem before-during-after: 18544640 18618880 18544640\n"
     ]
    },
    {
     "name": "stderr",
     "output_type": "stream",
     "text": [
      " 48%|█████████████████▎                  | 24.000000000004043/50 [24:55<26:30, 61.19s/it]"
     ]
    },
    {
     "name": "stdout",
     "output_type": "stream",
     "text": [
      "\n",
      "Test Epoch: 124\tAccuracy: 575/976 (59%)\n",
      "\n"
     ]
    },
    {
     "name": "stderr",
     "output_type": "stream",
     "text": [
      " 48%|█████████████████▎                  | 24.003278688528635/50 [24:56<26:45, 61.74s/it]"
     ]
    },
    {
     "name": "stdout",
     "output_type": "stream",
     "text": [
      "Train Epoch: 125 [0/3918 (0%)]\tLoss: 0.046948\n",
      "Mem before-during-after: 18543616 18618880 18544640\n"
     ]
    },
    {
     "name": "stderr",
     "output_type": "stream",
     "text": [
      " 48%|█████████████████▊                   | 24.13442622951231/50 [25:04<26:21, 61.14s/it]"
     ]
    },
    {
     "name": "stdout",
     "output_type": "stream",
     "text": [
      "Train Epoch: 125 [640/3918 (16%)]\tLoss: 0.052799\n",
      "Mem before-during-after: 18544640 18618880 18544640\n"
     ]
    },
    {
     "name": "stderr",
     "output_type": "stream",
     "text": [
      " 49%|█████████████████▍                  | 24.265573770495987/50 [25:12<26:28, 61.72s/it]"
     ]
    },
    {
     "name": "stdout",
     "output_type": "stream",
     "text": [
      "Train Epoch: 125 [1280/3918 (33%)]\tLoss: 0.026133\n",
      "Mem before-during-after: 18544640 18618880 18544640\n"
     ]
    },
    {
     "name": "stderr",
     "output_type": "stream",
     "text": [
      " 49%|█████████████████▌                  | 24.396721311479663/50 [25:20<26:25, 61.92s/it]"
     ]
    },
    {
     "name": "stdout",
     "output_type": "stream",
     "text": [
      "Train Epoch: 125 [1920/3918 (49%)]\tLoss: 0.062219\n",
      "Mem before-during-after: 18544640 18618880 18544640\n"
     ]
    },
    {
     "name": "stderr",
     "output_type": "stream",
     "text": [
      " 49%|██████████████████▏                  | 24.53114754098793/50 [25:29<26:05, 61.46s/it]"
     ]
    },
    {
     "name": "stdout",
     "output_type": "stream",
     "text": [
      "Train Epoch: 125 [2560/3918 (66%)]\tLoss: 0.050965\n",
      "Mem before-during-after: 18544640 18618880 18544640\n"
     ]
    },
    {
     "name": "stderr",
     "output_type": "stream",
     "text": [
      " 49%|█████████████████▊                  | 24.659016393447015/50 [25:36<26:09, 61.93s/it]"
     ]
    },
    {
     "name": "stdout",
     "output_type": "stream",
     "text": [
      "Train Epoch: 125 [3200/3918 (82%)]\tLoss: 0.049219\n",
      "Mem before-during-after: 18544640 18618880 18544640\n"
     ]
    },
    {
     "name": "stderr",
     "output_type": "stream",
     "text": [
      " 50%|██████████████████▎                  | 24.79016393443069/50 [25:45<26:04, 62.07s/it]"
     ]
    },
    {
     "name": "stdout",
     "output_type": "stream",
     "text": [
      "Train Epoch: 125 [3840/3918 (98%)]\tLoss: 0.047144\n",
      "Mem before-during-after: 18544640 18618880 18544640\n"
     ]
    },
    {
     "name": "stderr",
     "output_type": "stream",
     "text": [
      " 50%|██████████████████                  | 25.003278688529164/50 [25:58<25:17, 60.73s/it]"
     ]
    },
    {
     "name": "stdout",
     "output_type": "stream",
     "text": [
      "\n",
      "Test Epoch: 125\tAccuracy: 580/976 (59%)\n",
      "\n",
      "Train Epoch: 126 [0/3918 (0%)]\tLoss: 0.019376\n",
      "Mem before-during-after: 18543616 18618880 18544640\n"
     ]
    },
    {
     "name": "stderr",
     "output_type": "stream",
     "text": [
      " 50%|██████████████████                  | 25.137704918037432/50 [26:06<25:35, 61.75s/it]"
     ]
    },
    {
     "name": "stdout",
     "output_type": "stream",
     "text": [
      "Train Epoch: 126 [640/3918 (16%)]\tLoss: 0.315038\n",
      "Mem before-during-after: 18544640 18618880 18544640\n"
     ]
    },
    {
     "name": "stderr",
     "output_type": "stream",
     "text": [
      " 51%|██████████████████▏                 | 25.268852459021108/50 [26:14<25:14, 61.24s/it]"
     ]
    },
    {
     "name": "stdout",
     "output_type": "stream",
     "text": [
      "Train Epoch: 126 [1280/3918 (33%)]\tLoss: 0.013467\n",
      "Mem before-during-after: 18544640 18618880 18544640\n"
     ]
    },
    {
     "name": "stderr",
     "output_type": "stream",
     "text": [
      " 51%|██████████████████▎                 | 25.396721311480192/50 [26:22<27:55, 68.11s/it]"
     ]
    },
    {
     "name": "stdout",
     "output_type": "stream",
     "text": [
      "Train Epoch: 126 [1920/3918 (49%)]\tLoss: 0.038186\n",
      "Mem before-during-after: 18544640 18618880 18544640\n"
     ]
    },
    {
     "name": "stderr",
     "output_type": "stream",
     "text": [
      " 51%|██████████████████▉                  | 25.53114754098846/50 [26:31<24:27, 59.98s/it]"
     ]
    },
    {
     "name": "stdout",
     "output_type": "stream",
     "text": [
      "Train Epoch: 126 [2560/3918 (66%)]\tLoss: 0.054443\n",
      "Mem before-during-after: 18544640 18618880 18544640\n"
     ]
    },
    {
     "name": "stderr",
     "output_type": "stream",
     "text": [
      " 51%|██████████████████▍                 | 25.659016393447544/50 [26:39<25:30, 62.87s/it]"
     ]
    },
    {
     "name": "stdout",
     "output_type": "stream",
     "text": [
      "Train Epoch: 126 [3200/3918 (82%)]\tLoss: 0.132544\n",
      "Mem before-during-after: 18544640 18618880 18544640\n"
     ]
    },
    {
     "name": "stderr",
     "output_type": "stream",
     "text": [
      " 52%|███████████████████                  | 25.79016393443122/50 [26:47<24:29, 60.70s/it]"
     ]
    },
    {
     "name": "stdout",
     "output_type": "stream",
     "text": [
      "Train Epoch: 126 [3840/3918 (98%)]\tLoss: 0.054196\n",
      "Mem before-during-after: 18544640 18618880 18544640\n"
     ]
    },
    {
     "name": "stderr",
     "output_type": "stream",
     "text": [
      " 52%|██████████████████▋                 | 26.003278688529694/50 [27:00<23:55, 59.82s/it]"
     ]
    },
    {
     "name": "stdout",
     "output_type": "stream",
     "text": [
      "\n",
      "Test Epoch: 126\tAccuracy: 578/976 (59%)\n",
      "\n",
      "Train Epoch: 127 [0/3918 (0%)]\tLoss: 0.039468\n",
      "Mem before-during-after: 18543616 18618880 18544640\n"
     ]
    },
    {
     "name": "stderr",
     "output_type": "stream",
     "text": [
      " 52%|███████████████████▎                 | 26.13442622951337/50 [27:08<24:29, 61.59s/it]"
     ]
    },
    {
     "name": "stdout",
     "output_type": "stream",
     "text": [
      "Train Epoch: 127 [640/3918 (16%)]\tLoss: 0.095869\n",
      "Mem before-during-after: 18544640 18618880 18544640\n"
     ]
    },
    {
     "name": "stderr",
     "output_type": "stream",
     "text": [
      " 53%|██████████████████▉                 | 26.265573770497046/50 [27:16<24:18, 61.43s/it]"
     ]
    },
    {
     "name": "stdout",
     "output_type": "stream",
     "text": [
      "Train Epoch: 127 [1280/3918 (33%)]\tLoss: 0.017590\n",
      "Mem before-during-after: 18544640 18618880 18544640\n"
     ]
    },
    {
     "name": "stderr",
     "output_type": "stream",
     "text": [
      " 53%|███████████████████▌                 | 26.39672131148072/50 [27:24<24:27, 62.17s/it]"
     ]
    },
    {
     "name": "stdout",
     "output_type": "stream",
     "text": [
      "Train Epoch: 127 [1920/3918 (49%)]\tLoss: 0.032649\n",
      "Mem before-during-after: 18544640 18618880 18544640\n"
     ]
    },
    {
     "name": "stderr",
     "output_type": "stream",
     "text": [
      " 53%|███████████████████▋                 | 26.53114754098899/50 [27:33<23:40, 60.53s/it]"
     ]
    },
    {
     "name": "stdout",
     "output_type": "stream",
     "text": [
      "Train Epoch: 127 [2560/3918 (66%)]\tLoss: 0.007767\n",
      "Mem before-during-after: 18544640 18618880 18544640\n"
     ]
    },
    {
     "name": "stderr",
     "output_type": "stream",
     "text": [
      " 53%|███████████████████▏                | 26.659016393448074/50 [27:41<24:30, 62.99s/it]"
     ]
    },
    {
     "name": "stdout",
     "output_type": "stream",
     "text": [
      "Train Epoch: 127 [3200/3918 (82%)]\tLoss: 0.062763\n",
      "Mem before-during-after: 18544640 18618880 18544640\n"
     ]
    },
    {
     "name": "stderr",
     "output_type": "stream",
     "text": [
      " 54%|███████████████████▊                 | 26.79344262295634/50 [27:49<26:31, 68.56s/it]"
     ]
    },
    {
     "name": "stdout",
     "output_type": "stream",
     "text": [
      "Train Epoch: 127 [3840/3918 (98%)]\tLoss: 0.123453\n",
      "Mem before-during-after: 18544640 18618880 18544640\n"
     ]
    },
    {
     "name": "stderr",
     "output_type": "stream",
     "text": [
      " 54%|███████████████████▉                 | 27.00000000000563/50 [28:02<23:54, 62.37s/it]"
     ]
    },
    {
     "name": "stdout",
     "output_type": "stream",
     "text": [
      "\n",
      "Test Epoch: 127\tAccuracy: 575/976 (59%)\n",
      "\n"
     ]
    },
    {
     "name": "stderr",
     "output_type": "stream",
     "text": [
      " 54%|███████████████████▍                | 27.003278688530223/50 [28:02<23:58, 62.54s/it]"
     ]
    },
    {
     "name": "stdout",
     "output_type": "stream",
     "text": [
      "Train Epoch: 128 [0/3918 (0%)]\tLoss: 0.069264\n",
      "Mem before-during-after: 18543616 18618880 18544640\n"
     ]
    },
    {
     "name": "stderr",
     "output_type": "stream",
     "text": [
      " 54%|████████████████████                 | 27.13770491803849/50 [28:10<23:35, 61.93s/it]"
     ]
    },
    {
     "name": "stdout",
     "output_type": "stream",
     "text": [
      "Train Epoch: 128 [640/3918 (16%)]\tLoss: 0.197010\n",
      "Mem before-during-after: 18544640 18618880 18544640\n"
     ]
    },
    {
     "name": "stderr",
     "output_type": "stream",
     "text": [
      " 55%|███████████████████▋                | 27.268852459022167/50 [28:19<24:58, 65.93s/it]"
     ]
    },
    {
     "name": "stdout",
     "output_type": "stream",
     "text": [
      "Train Epoch: 128 [1280/3918 (33%)]\tLoss: 0.014887\n",
      "Mem before-during-after: 18544640 18618880 18544640\n"
     ]
    },
    {
     "name": "stderr",
     "output_type": "stream",
     "text": [
      " 55%|████████████████████▎                | 27.39672131148125/50 [28:26<22:55, 60.83s/it]"
     ]
    },
    {
     "name": "stdout",
     "output_type": "stream",
     "text": [
      "Train Epoch: 128 [1920/3918 (49%)]\tLoss: 0.051625\n",
      "Mem before-during-after: 18544640 18618880 18544640\n"
     ]
    },
    {
     "name": "stderr",
     "output_type": "stream",
     "text": [
      " 55%|███████████████████▊                | 27.527868852464927/50 [28:35<23:25, 62.53s/it]"
     ]
    },
    {
     "name": "stdout",
     "output_type": "stream",
     "text": [
      "Train Epoch: 128 [2560/3918 (66%)]\tLoss: 0.037238\n",
      "Mem before-during-after: 18544640 18618880 18544640\n"
     ]
    },
    {
     "name": "stderr",
     "output_type": "stream",
     "text": [
      " 55%|███████████████████▉                | 27.662295081973195/50 [28:43<23:16, 62.53s/it]"
     ]
    },
    {
     "name": "stdout",
     "output_type": "stream",
     "text": [
      "Train Epoch: 128 [3200/3918 (82%)]\tLoss: 0.008125\n",
      "Mem before-during-after: 18544640 18618880 18544640\n"
     ]
    },
    {
     "name": "stderr",
     "output_type": "stream",
     "text": [
      " 56%|████████████████████▌                | 27.79344262295687/50 [28:51<22:38, 61.16s/it]"
     ]
    },
    {
     "name": "stdout",
     "output_type": "stream",
     "text": [
      "Train Epoch: 128 [3840/3918 (98%)]\tLoss: 0.066710\n",
      "Mem before-during-after: 18544640 18618880 18544640\n"
     ]
    },
    {
     "name": "stderr",
     "output_type": "stream",
     "text": [
      " 56%|████████████████████▋                | 28.00000000000616/50 [29:04<22:26, 61.22s/it]"
     ]
    },
    {
     "name": "stdout",
     "output_type": "stream",
     "text": [
      "\n",
      "Test Epoch: 128\tAccuracy: 571/976 (58%)\n",
      "\n"
     ]
    },
    {
     "name": "stderr",
     "output_type": "stream",
     "text": [
      " 56%|████████████████████▏               | 28.006557377055344/50 [29:04<23:03, 62.88s/it]"
     ]
    },
    {
     "name": "stdout",
     "output_type": "stream",
     "text": [
      "Train Epoch: 129 [0/3918 (0%)]\tLoss: 0.017389\n",
      "Mem before-during-after: 18543616 18618880 18544640\n"
     ]
    },
    {
     "name": "stderr",
     "output_type": "stream",
     "text": [
      " 56%|████████████████████▊                | 28.13770491803902/50 [29:12<22:02, 60.50s/it]"
     ]
    },
    {
     "name": "stdout",
     "output_type": "stream",
     "text": [
      "Train Epoch: 129 [640/3918 (16%)]\tLoss: 0.054079\n",
      "Mem before-during-after: 18544640 18618880 18544640\n"
     ]
    },
    {
     "name": "stderr",
     "output_type": "stream",
     "text": [
      " 57%|████████████████████▎               | 28.265573770498104/50 [29:20<22:00, 60.74s/it]"
     ]
    },
    {
     "name": "stdout",
     "output_type": "stream",
     "text": [
      "Train Epoch: 129 [1280/3918 (33%)]\tLoss: 0.055193\n",
      "Mem before-during-after: 18544640 18618880 18544640\n"
     ]
    },
    {
     "name": "stderr",
     "output_type": "stream",
     "text": [
      " 57%|█████████████████████                | 28.39672131148178/50 [29:29<22:47, 63.29s/it]"
     ]
    },
    {
     "name": "stdout",
     "output_type": "stream",
     "text": [
      "Train Epoch: 129 [1920/3918 (49%)]\tLoss: 0.010521\n",
      "Mem before-during-after: 18544640 18618880 18544640\n"
     ]
    },
    {
     "name": "stderr",
     "output_type": "stream",
     "text": [
      " 57%|████████████████████▌               | 28.527868852465456/50 [29:37<21:54, 61.23s/it]"
     ]
    },
    {
     "name": "stdout",
     "output_type": "stream",
     "text": [
      "Train Epoch: 129 [2560/3918 (66%)]\tLoss: 0.042800\n",
      "Mem before-during-after: 18544640 18618880 18544640\n"
     ]
    },
    {
     "name": "stderr",
     "output_type": "stream",
     "text": [
      " 57%|████████████████████▋               | 28.659016393449132/50 [29:45<23:57, 67.37s/it]"
     ]
    },
    {
     "name": "stdout",
     "output_type": "stream",
     "text": [
      "Train Epoch: 129 [3200/3918 (82%)]\tLoss: 0.015102\n",
      "Mem before-during-after: 18544640 18618880 18544640\n"
     ]
    },
    {
     "name": "stderr",
     "output_type": "stream",
     "text": [
      " 58%|████████████████████▋               | 28.790163934432808/50 [29:53<22:12, 62.81s/it]"
     ]
    },
    {
     "name": "stdout",
     "output_type": "stream",
     "text": [
      "Train Epoch: 129 [3840/3918 (98%)]\tLoss: 0.025309\n",
      "Mem before-during-after: 18544640 18618880 18544640\n"
     ]
    },
    {
     "name": "stderr",
     "output_type": "stream",
     "text": [
      " 58%|█████████████████████▍               | 29.00000000000669/50 [30:06<21:41, 61.97s/it]"
     ]
    },
    {
     "name": "stdout",
     "output_type": "stream",
     "text": [
      "\n",
      "Test Epoch: 129\tAccuracy: 569/976 (58%)\n",
      "\n"
     ]
    },
    {
     "name": "stderr",
     "output_type": "stream",
     "text": [
      " 58%|████████████████████▉               | 29.006557377055874/50 [30:07<21:47, 62.26s/it]"
     ]
    },
    {
     "name": "stdout",
     "output_type": "stream",
     "text": [
      "Train Epoch: 130 [0/3918 (0%)]\tLoss: 0.097897\n",
      "Mem before-during-after: 18543616 18618880 18544640\n"
     ]
    },
    {
     "name": "stderr",
     "output_type": "stream",
     "text": [
      " 58%|████████████████████▉               | 29.134426229514958/50 [30:15<22:37, 65.07s/it]"
     ]
    },
    {
     "name": "stdout",
     "output_type": "stream",
     "text": [
      "Train Epoch: 130 [640/3918 (16%)]\tLoss: 0.023401\n",
      "Mem before-during-after: 18544640 18618880 18544640\n"
     ]
    },
    {
     "name": "stderr",
     "output_type": "stream",
     "text": [
      " 59%|█████████████████████               | 29.265573770498634/50 [30:23<21:25, 61.99s/it]"
     ]
    },
    {
     "name": "stdout",
     "output_type": "stream",
     "text": [
      "Train Epoch: 130 [1280/3918 (33%)]\tLoss: 0.014676\n",
      "Mem before-during-after: 18544640 18618880 18544640\n"
     ]
    },
    {
     "name": "stderr",
     "output_type": "stream",
     "text": [
      " 59%|██████████████████████▎               | 29.4000000000069/50 [30:31<21:00, 61.21s/it]"
     ]
    },
    {
     "name": "stdout",
     "output_type": "stream",
     "text": [
      "Train Epoch: 130 [1920/3918 (49%)]\tLoss: 0.004609\n",
      "Mem before-during-after: 18544640 18618880 18544640\n"
     ]
    },
    {
     "name": "stderr",
     "output_type": "stream",
     "text": [
      " 59%|█████████████████████▎              | 29.531147540990577/50 [30:39<21:11, 62.12s/it]"
     ]
    },
    {
     "name": "stdout",
     "output_type": "stream",
     "text": [
      "Train Epoch: 130 [2560/3918 (66%)]\tLoss: 0.038136\n",
      "Mem before-during-after: 18544640 18618880 18544640\n"
     ]
    },
    {
     "name": "stderr",
     "output_type": "stream",
     "text": [
      " 59%|█████████████████████▉               | 29.65901639344966/50 [30:47<21:12, 62.54s/it]"
     ]
    },
    {
     "name": "stdout",
     "output_type": "stream",
     "text": [
      "Train Epoch: 130 [3200/3918 (82%)]\tLoss: 0.247674\n",
      "Mem before-during-after: 18544640 18618880 18544640\n"
     ]
    },
    {
     "name": "stderr",
     "output_type": "stream",
     "text": [
      " 60%|██████████████████████               | 29.79344262295793/50 [30:56<20:53, 62.05s/it]"
     ]
    },
    {
     "name": "stdout",
     "output_type": "stream",
     "text": [
      "Train Epoch: 130 [3840/3918 (98%)]\tLoss: 0.012249\n",
      "Mem before-during-after: 18544640 18618880 18544640\n"
     ]
    },
    {
     "name": "stderr",
     "output_type": "stream",
     "text": [
      " 60%|██████████████████████▏              | 30.00327868853181/50 [31:09<20:27, 61.39s/it]"
     ]
    },
    {
     "name": "stdout",
     "output_type": "stream",
     "text": [
      "\n",
      "Test Epoch: 130\tAccuracy: 575/976 (59%)\n",
      "\n",
      "Train Epoch: 131 [0/3918 (0%)]\tLoss: 0.013692\n",
      "Mem before-during-after: 18543616 18618880 18544640\n"
     ]
    },
    {
     "name": "stderr",
     "output_type": "stream",
     "text": [
      " 60%|█████████████████████▋              | 30.134426229515487/50 [31:17<20:20, 61.45s/it]"
     ]
    },
    {
     "name": "stdout",
     "output_type": "stream",
     "text": [
      "Train Epoch: 131 [640/3918 (16%)]\tLoss: 0.060957\n",
      "Mem before-during-after: 18544640 18618880 18544640\n"
     ]
    },
    {
     "name": "stderr",
     "output_type": "stream",
     "text": [
      " 61%|█████████████████████▊              | 30.268852459023755/50 [31:25<20:03, 61.01s/it]"
     ]
    },
    {
     "name": "stdout",
     "output_type": "stream",
     "text": [
      "Train Epoch: 131 [1280/3918 (33%)]\tLoss: 0.067954\n",
      "Mem before-during-after: 18544640 18618880 18544640\n"
     ]
    },
    {
     "name": "stderr",
     "output_type": "stream",
     "text": [
      " 61%|██████████████████████▍              | 30.40000000000743/50 [31:34<20:04, 61.44s/it]"
     ]
    },
    {
     "name": "stdout",
     "output_type": "stream",
     "text": [
      "Train Epoch: 131 [1920/3918 (49%)]\tLoss: 0.139019\n",
      "Mem before-during-after: 18544640 18618880 18544640\n"
     ]
    },
    {
     "name": "stderr",
     "output_type": "stream",
     "text": [
      " 61%|█████████████████████▉              | 30.527868852466515/50 [31:42<20:31, 63.24s/it]"
     ]
    },
    {
     "name": "stdout",
     "output_type": "stream",
     "text": [
      "Train Epoch: 131 [2560/3918 (66%)]\tLoss: 0.036966\n",
      "Mem before-during-after: 18544640 18618880 18544640\n"
     ]
    },
    {
     "name": "stderr",
     "output_type": "stream",
     "text": [
      " 61%|██████████████████████▋              | 30.65901639345019/50 [31:50<19:47, 61.40s/it]"
     ]
    },
    {
     "name": "stdout",
     "output_type": "stream",
     "text": [
      "Train Epoch: 131 [3200/3918 (82%)]\tLoss: 0.026219\n",
      "Mem before-during-after: 18544640 18618880 18544640\n"
     ]
    },
    {
     "name": "stderr",
     "output_type": "stream",
     "text": [
      " 62%|██████████████████████▏             | 30.790163934433867/50 [31:58<19:22, 60.49s/it]"
     ]
    },
    {
     "name": "stdout",
     "output_type": "stream",
     "text": [
      "Train Epoch: 131 [3840/3918 (98%)]\tLoss: 0.073431\n",
      "Mem before-during-after: 18544640 18618880 18544640\n"
     ]
    },
    {
     "name": "stderr",
     "output_type": "stream",
     "text": [
      " 62%|██████████████████████▉              | 31.00000000000775/50 [32:11<19:29, 61.56s/it]"
     ]
    },
    {
     "name": "stdout",
     "output_type": "stream",
     "text": [
      "\n",
      "Test Epoch: 131\tAccuracy: 577/976 (59%)\n",
      "\n"
     ]
    },
    {
     "name": "stderr",
     "output_type": "stream",
     "text": [
      " 62%|██████████████████████▉              | 31.00327868853234/50 [32:11<19:39, 62.07s/it]"
     ]
    },
    {
     "name": "stdout",
     "output_type": "stream",
     "text": [
      "Train Epoch: 132 [0/3918 (0%)]\tLoss: 0.036562\n",
      "Mem before-during-after: 18543616 18618880 18544640\n"
     ]
    },
    {
     "name": "stderr",
     "output_type": "stream",
     "text": [
      " 62%|██████████████████████▍             | 31.134426229516016/50 [32:19<19:26, 61.81s/it]"
     ]
    },
    {
     "name": "stdout",
     "output_type": "stream",
     "text": [
      "Train Epoch: 132 [640/3918 (16%)]\tLoss: 0.029700\n",
      "Mem before-during-after: 18544640 18618880 18544640\n"
     ]
    },
    {
     "name": "stderr",
     "output_type": "stream",
     "text": [
      " 63%|██████████████████████▌             | 31.268852459024284/50 [32:28<19:30, 62.52s/it]"
     ]
    },
    {
     "name": "stdout",
     "output_type": "stream",
     "text": [
      "Train Epoch: 132 [1280/3918 (33%)]\tLoss: 0.010382\n",
      "Mem before-during-after: 18544640 18618880 18544640\n"
     ]
    },
    {
     "name": "stderr",
     "output_type": "stream",
     "text": [
      " 63%|███████████████████████▏             | 31.39672131148337/50 [32:36<18:58, 61.20s/it]"
     ]
    },
    {
     "name": "stdout",
     "output_type": "stream",
     "text": [
      "Train Epoch: 132 [1920/3918 (49%)]\tLoss: 0.022856\n",
      "Mem before-during-after: 18544640 18618880 18544640\n"
     ]
    },
    {
     "name": "stderr",
     "output_type": "stream",
     "text": [
      " 63%|██████████████████████▋             | 31.531147540991636/50 [32:44<18:53, 61.37s/it]"
     ]
    },
    {
     "name": "stdout",
     "output_type": "stream",
     "text": [
      "Train Epoch: 132 [2560/3918 (66%)]\tLoss: 0.136494\n",
      "Mem before-during-after: 18544640 18618880 18544640\n"
     ]
    },
    {
     "name": "stderr",
     "output_type": "stream",
     "text": [
      " 63%|██████████████████████▊             | 31.662295081975312/50 [32:52<18:52, 61.76s/it]"
     ]
    },
    {
     "name": "stdout",
     "output_type": "stream",
     "text": [
      "Train Epoch: 132 [3200/3918 (82%)]\tLoss: 0.029635\n",
      "Mem before-during-after: 18544640 18618880 18544640\n"
     ]
    },
    {
     "name": "stderr",
     "output_type": "stream",
     "text": [
      " 64%|██████████████████████▉             | 31.793442622958988/50 [33:00<18:51, 62.15s/it]"
     ]
    },
    {
     "name": "stdout",
     "output_type": "stream",
     "text": [
      "Train Epoch: 132 [3840/3918 (98%)]\tLoss: 0.029865\n",
      "Mem before-during-after: 18544640 18618880 18544640\n"
     ]
    },
    {
     "name": "stderr",
     "output_type": "stream",
     "text": [
      " 64%|███████████████████████▋             | 32.00000000000828/50 [33:13<18:19, 61.10s/it]"
     ]
    },
    {
     "name": "stdout",
     "output_type": "stream",
     "text": [
      "\n",
      "Test Epoch: 132\tAccuracy: 570/976 (58%)\n",
      "\n"
     ]
    },
    {
     "name": "stderr",
     "output_type": "stream",
     "text": [
      " 64%|███████████████████████             | 32.003278688532866/50 [33:13<18:24, 61.37s/it]"
     ]
    },
    {
     "name": "stdout",
     "output_type": "stream",
     "text": [
      "Train Epoch: 133 [0/3918 (0%)]\tLoss: 0.003367\n",
      "Mem before-during-after: 18543616 18618880 18544640\n"
     ]
    },
    {
     "name": "stderr",
     "output_type": "stream",
     "text": [
      " 64%|███████████████████████▊             | 32.13770491804099/50 [33:22<18:15, 61.33s/it]"
     ]
    },
    {
     "name": "stdout",
     "output_type": "stream",
     "text": [
      "Train Epoch: 133 [640/3918 (16%)]\tLoss: 0.023482\n",
      "Mem before-during-after: 18544640 18618880 18544640\n"
     ]
    },
    {
     "name": "stderr",
     "output_type": "stream",
     "text": [
      " 65%|███████████████████████▏            | 32.265573770499934/50 [33:30<17:55, 60.67s/it]"
     ]
    },
    {
     "name": "stdout",
     "output_type": "stream",
     "text": [
      "Train Epoch: 133 [1280/3918 (33%)]\tLoss: 0.047783\n",
      "Mem before-during-after: 18544640 18618880 18544640\n"
     ]
    },
    {
     "name": "stderr",
     "output_type": "stream",
     "text": [
      " 65%|███████████████████████▉             | 32.39672131148347/50 [33:38<18:12, 62.03s/it]"
     ]
    },
    {
     "name": "stdout",
     "output_type": "stream",
     "text": [
      "Train Epoch: 133 [1920/3918 (49%)]\tLoss: 0.003126\n",
      "Mem before-during-after: 18544640 18618880 18544640\n"
     ]
    },
    {
     "name": "stderr",
     "output_type": "stream",
     "text": [
      " 65%|█████████████████████████▎             | 32.527868852467/50 [33:46<18:02, 61.96s/it]"
     ]
    },
    {
     "name": "stdout",
     "output_type": "stream",
     "text": [
      "Train Epoch: 133 [2560/3918 (66%)]\tLoss: 0.003386\n",
      "Mem before-during-after: 18544640 18618880 18544640\n"
     ]
    },
    {
     "name": "stderr",
     "output_type": "stream",
     "text": [
      " 65%|███████████████████████▌            | 32.659016393450536/50 [33:54<17:34, 60.80s/it]"
     ]
    },
    {
     "name": "stdout",
     "output_type": "stream",
     "text": [
      "Train Epoch: 133 [3200/3918 (82%)]\tLoss: 0.043131\n",
      "Mem before-during-after: 18544640 18618880 18544640\n"
     ]
    },
    {
     "name": "stderr",
     "output_type": "stream",
     "text": [
      " 66%|████████████████████████▎            | 32.79016393443407/50 [34:02<17:50, 62.19s/it]"
     ]
    },
    {
     "name": "stdout",
     "output_type": "stream",
     "text": [
      "Train Epoch: 133 [3840/3918 (98%)]\tLoss: 0.032816\n",
      "Mem before-during-after: 18544640 18618880 18544640\n"
     ]
    },
    {
     "name": "stderr",
     "output_type": "stream",
     "text": [
      " 66%|███████████████████████▊            | 33.000000000007724/50 [34:15<17:23, 61.40s/it]"
     ]
    },
    {
     "name": "stdout",
     "output_type": "stream",
     "text": [
      "\n",
      "Test Epoch: 133\tAccuracy: 582/976 (59%)\n",
      "\n"
     ]
    },
    {
     "name": "stderr",
     "output_type": "stream",
     "text": [
      " 66%|█████████████████████████             | 33.0065573770569/50 [34:16<17:30, 61.82s/it]"
     ]
    },
    {
     "name": "stdout",
     "output_type": "stream",
     "text": [
      "Train Epoch: 134 [0/3918 (0%)]\tLoss: 0.097094\n",
      "Mem before-during-after: 18543616 18618880 18544640\n"
     ]
    },
    {
     "name": "stderr",
     "output_type": "stream",
     "text": [
      " 66%|███████████████████████▊            | 33.134426229515846/50 [34:24<16:58, 60.37s/it]"
     ]
    },
    {
     "name": "stdout",
     "output_type": "stream",
     "text": [
      "Train Epoch: 134 [640/3918 (16%)]\tLoss: 0.007260\n",
      "Mem before-during-after: 18544640 18618880 18544640\n"
     ]
    },
    {
     "name": "stderr",
     "output_type": "stream",
     "text": [
      " 67%|████████████████████████▌            | 33.26885245902397/50 [34:32<17:19, 62.15s/it]"
     ]
    },
    {
     "name": "stdout",
     "output_type": "stream",
     "text": [
      "Train Epoch: 134 [1280/3918 (33%)]\tLoss: 0.003137\n",
      "Mem before-during-after: 18544640 18618880 18544640\n"
     ]
    },
    {
     "name": "stderr",
     "output_type": "stream",
     "text": [
      " 67%|█████████████████████████▍            | 33.4000000000075/50 [34:40<16:41, 60.32s/it]"
     ]
    },
    {
     "name": "stdout",
     "output_type": "stream",
     "text": [
      "Train Epoch: 134 [1920/3918 (49%)]\tLoss: 0.117370\n",
      "Mem before-during-after: 18544640 18618880 18544640\n"
     ]
    },
    {
     "name": "stderr",
     "output_type": "stream",
     "text": [
      " 67%|████████████████████████▊            | 33.52786885246645/50 [34:48<17:05, 62.26s/it]"
     ]
    },
    {
     "name": "stdout",
     "output_type": "stream",
     "text": [
      "Train Epoch: 134 [2560/3918 (66%)]\tLoss: 0.011216\n",
      "Mem before-during-after: 18544640 18618880 18544640\n"
     ]
    },
    {
     "name": "stderr",
     "output_type": "stream",
     "text": [
      " 67%|████████████████████████▉            | 33.65901639344998/50 [34:56<16:45, 61.53s/it]"
     ]
    },
    {
     "name": "stdout",
     "output_type": "stream",
     "text": [
      "Train Epoch: 134 [3200/3918 (82%)]\tLoss: 0.121150\n",
      "Mem before-during-after: 18544640 18618880 18544640\n"
     ]
    },
    {
     "name": "stderr",
     "output_type": "stream",
     "text": [
      " 68%|█████████████████████████▋            | 33.7934426229581/50 [35:05<16:46, 62.09s/it]"
     ]
    },
    {
     "name": "stdout",
     "output_type": "stream",
     "text": [
      "Train Epoch: 134 [3840/3918 (98%)]\tLoss: 0.060950\n",
      "Mem before-during-after: 18544640 18618880 18544640\n"
     ]
    },
    {
     "name": "stderr",
     "output_type": "stream",
     "text": [
      " 68%|█████████████████████████▏           | 34.00000000000717/50 [35:17<16:04, 60.30s/it]"
     ]
    },
    {
     "name": "stdout",
     "output_type": "stream",
     "text": [
      "\n",
      "Test Epoch: 134\tAccuracy: 575/976 (59%)\n",
      "\n"
     ]
    },
    {
     "name": "stderr",
     "output_type": "stream",
     "text": [
      " 68%|█████████████████████████▏           | 34.00327868853176/50 [35:18<16:12, 60.77s/it]"
     ]
    },
    {
     "name": "stdout",
     "output_type": "stream",
     "text": [
      "Train Epoch: 135 [0/3918 (0%)]\tLoss: 0.005957\n",
      "Mem before-during-after: 18543616 18618880 18544640\n"
     ]
    },
    {
     "name": "stderr",
     "output_type": "stream",
     "text": [
      " 68%|█████████████████████████▎           | 34.13770491803988/50 [35:26<16:07, 61.00s/it]"
     ]
    },
    {
     "name": "stdout",
     "output_type": "stream",
     "text": [
      "Train Epoch: 135 [640/3918 (16%)]\tLoss: 0.016934\n",
      "Mem before-during-after: 18544640 18618880 18544640\n"
     ]
    },
    {
     "name": "stderr",
     "output_type": "stream",
     "text": [
      " 69%|████████████████████████▋           | 34.268852459023414/50 [35:34<16:18, 62.21s/it]"
     ]
    },
    {
     "name": "stdout",
     "output_type": "stream",
     "text": [
      "Train Epoch: 135 [1280/3918 (33%)]\tLoss: 0.026684\n",
      "Mem before-during-after: 18544640 18618880 18544640\n"
     ]
    },
    {
     "name": "stderr",
     "output_type": "stream",
     "text": [
      " 69%|█████████████████████████▍           | 34.40000000000695/50 [35:42<15:53, 61.14s/it]"
     ]
    },
    {
     "name": "stdout",
     "output_type": "stream",
     "text": [
      "Train Epoch: 135 [1920/3918 (49%)]\tLoss: 0.139204\n",
      "Mem before-during-after: 18544640 18618880 18544640\n"
     ]
    },
    {
     "name": "stderr",
     "output_type": "stream",
     "text": [
      " 69%|█████████████████████████▌           | 34.53114754099048/50 [35:51<15:55, 61.77s/it]"
     ]
    },
    {
     "name": "stdout",
     "output_type": "stream",
     "text": [
      "Train Epoch: 135 [2560/3918 (66%)]\tLoss: 0.042222\n",
      "Mem before-during-after: 18544640 18618880 18544640\n"
     ]
    },
    {
     "name": "stderr",
     "output_type": "stream",
     "text": [
      " 69%|████████████████████████▉           | 34.662295081974015/50 [35:59<16:09, 63.20s/it]"
     ]
    },
    {
     "name": "stdout",
     "output_type": "stream",
     "text": [
      "Train Epoch: 135 [3200/3918 (82%)]\tLoss: 0.069995\n",
      "Mem before-during-after: 18544640 18618880 18544640\n"
     ]
    },
    {
     "name": "stderr",
     "output_type": "stream",
     "text": [
      " 70%|█████████████████████████▋           | 34.79344262295755/50 [36:07<15:31, 61.29s/it]"
     ]
    },
    {
     "name": "stdout",
     "output_type": "stream",
     "text": [
      "Train Epoch: 135 [3840/3918 (98%)]\tLoss: 0.024004\n",
      "Mem before-during-after: 18544640 18618880 18544640\n"
     ]
    },
    {
     "name": "stderr",
     "output_type": "stream",
     "text": [
      " 70%|██████████████████████████▌           | 35.0032786885312/50 [36:20<15:10, 60.69s/it]"
     ]
    },
    {
     "name": "stdout",
     "output_type": "stream",
     "text": [
      "\n",
      "Test Epoch: 135\tAccuracy: 574/976 (59%)\n",
      "\n",
      "Train Epoch: 136 [0/3918 (0%)]\tLoss: 0.056849\n",
      "Mem before-during-after: 18543616 18618880 18544640\n"
     ]
    },
    {
     "name": "stderr",
     "output_type": "stream",
     "text": [
      " 70%|█████████████████████████▉           | 35.13442622951474/50 [36:28<15:07, 61.08s/it]"
     ]
    },
    {
     "name": "stdout",
     "output_type": "stream",
     "text": [
      "Train Epoch: 136 [640/3918 (16%)]\tLoss: 0.020414\n",
      "Mem before-during-after: 18544640 18618880 18544640\n"
     ]
    },
    {
     "name": "stderr",
     "output_type": "stream",
     "text": [
      " 71%|██████████████████████████           | 35.26885245902286/50 [36:36<14:45, 60.11s/it]"
     ]
    },
    {
     "name": "stdout",
     "output_type": "stream",
     "text": [
      "Train Epoch: 136 [1280/3918 (33%)]\tLoss: 0.026782\n",
      "Mem before-during-after: 18544640 18618880 18544640\n"
     ]
    },
    {
     "name": "stderr",
     "output_type": "stream",
     "text": [
      " 71%|█████████████████████████▍          | 35.396721311481805/50 [36:44<15:04, 61.92s/it]"
     ]
    },
    {
     "name": "stdout",
     "output_type": "stream",
     "text": [
      "Train Epoch: 136 [1920/3918 (49%)]\tLoss: 0.021978\n",
      "Mem before-during-after: 18544640 18618880 18544640\n"
     ]
    },
    {
     "name": "stderr",
     "output_type": "stream",
     "text": [
      " 71%|██████████████████████████▎          | 35.52786885246534/50 [36:52<14:56, 61.95s/it]"
     ]
    },
    {
     "name": "stdout",
     "output_type": "stream",
     "text": [
      "Train Epoch: 136 [2560/3918 (66%)]\tLoss: 0.010309\n",
      "Mem before-during-after: 18544640 18618880 18544640\n"
     ]
    },
    {
     "name": "stderr",
     "output_type": "stream",
     "text": [
      " 71%|██████████████████████████▍          | 35.65901639344887/50 [37:01<14:38, 61.27s/it]"
     ]
    },
    {
     "name": "stdout",
     "output_type": "stream",
     "text": [
      "Train Epoch: 136 [3200/3918 (82%)]\tLoss: 0.018429\n",
      "Mem before-during-after: 18544640 18618880 18544640\n"
     ]
    },
    {
     "name": "stderr",
     "output_type": "stream",
     "text": [
      " 72%|██████████████████████████▍          | 35.79016393443241/50 [37:09<14:39, 61.88s/it]"
     ]
    },
    {
     "name": "stdout",
     "output_type": "stream",
     "text": [
      "Train Epoch: 136 [3840/3918 (98%)]\tLoss: 0.251245\n",
      "Mem before-during-after: 18544640 18618880 18544640\n"
     ]
    },
    {
     "name": "stderr",
     "output_type": "stream",
     "text": [
      " 72%|██████████████████████████▋          | 36.00327868853065/50 [37:22<14:02, 60.19s/it]"
     ]
    },
    {
     "name": "stdout",
     "output_type": "stream",
     "text": [
      "\n",
      "Test Epoch: 136\tAccuracy: 565/976 (58%)\n",
      "\n",
      "Train Epoch: 137 [0/3918 (0%)]\tLoss: 0.013592\n",
      "Mem before-during-after: 18543616 18618880 18544640\n"
     ]
    },
    {
     "name": "stderr",
     "output_type": "stream",
     "text": [
      " 72%|██████████████████████████▋          | 36.13442622951418/50 [37:31<14:05, 60.95s/it]"
     ]
    },
    {
     "name": "stdout",
     "output_type": "stream",
     "text": [
      "Train Epoch: 137 [640/3918 (16%)]\tLoss: 0.001799\n",
      "Mem before-during-after: 18544640 18618880 18544640\n"
     ]
    },
    {
     "name": "stderr",
     "output_type": "stream",
     "text": [
      " 73%|██████████████████████████          | 36.268852459022305/50 [37:39<13:54, 60.77s/it]"
     ]
    },
    {
     "name": "stdout",
     "output_type": "stream",
     "text": [
      "Train Epoch: 137 [1280/3918 (33%)]\tLoss: 0.022677\n",
      "Mem before-during-after: 18544640 18618880 18544640\n"
     ]
    },
    {
     "name": "stderr",
     "output_type": "stream",
     "text": [
      " 73%|██████████████████████████▉          | 36.40000000000584/50 [37:47<13:50, 61.07s/it]"
     ]
    },
    {
     "name": "stdout",
     "output_type": "stream",
     "text": [
      "Train Epoch: 137 [1920/3918 (49%)]\tLoss: 0.001993\n",
      "Mem before-during-after: 18544640 18618880 18544640\n"
     ]
    },
    {
     "name": "stderr",
     "output_type": "stream",
     "text": [
      " 73%|██████████████████████████▎         | 36.527868852464785/50 [37:55<14:04, 62.68s/it]"
     ]
    },
    {
     "name": "stdout",
     "output_type": "stream",
     "text": [
      "Train Epoch: 137 [2560/3918 (66%)]\tLoss: 0.008463\n",
      "Mem before-during-after: 18544640 18618880 18544640\n"
     ]
    },
    {
     "name": "stderr",
     "output_type": "stream",
     "text": [
      " 73%|███████████████████████████▏         | 36.66229508197291/50 [38:03<14:04, 63.29s/it]"
     ]
    },
    {
     "name": "stdout",
     "output_type": "stream",
     "text": [
      "Train Epoch: 137 [3200/3918 (82%)]\tLoss: 0.003037\n",
      "Mem before-during-after: 18544640 18618880 18544640\n"
     ]
    },
    {
     "name": "stderr",
     "output_type": "stream",
     "text": [
      " 74%|███████████████████████████▏         | 36.79344262295644/50 [38:12<13:22, 60.79s/it]"
     ]
    },
    {
     "name": "stdout",
     "output_type": "stream",
     "text": [
      "Train Epoch: 137 [3840/3918 (98%)]\tLoss: 0.073074\n",
      "Mem before-during-after: 18544640 18618880 18544640\n"
     ]
    },
    {
     "name": "stderr",
     "output_type": "stream",
     "text": [
      " 74%|███████████████████████████▍         | 37.00000000000551/50 [38:24<13:46, 63.59s/it]"
     ]
    },
    {
     "name": "stdout",
     "output_type": "stream",
     "text": [
      "\n",
      "Test Epoch: 137\tAccuracy: 574/976 (59%)\n",
      "\n"
     ]
    },
    {
     "name": "stderr",
     "output_type": "stream",
     "text": [
      " 74%|███████████████████████████▍         | 37.00655737705468/50 [38:25<13:35, 62.77s/it]"
     ]
    },
    {
     "name": "stdout",
     "output_type": "stream",
     "text": [
      "Train Epoch: 138 [0/3918 (0%)]\tLoss: 0.006112\n",
      "Mem before-during-after: 18543616 18618880 18544640\n"
     ]
    },
    {
     "name": "stderr",
     "output_type": "stream",
     "text": [
      " 74%|███████████████████████████▍         | 37.13442622951363/50 [38:33<13:05, 61.09s/it]"
     ]
    },
    {
     "name": "stdout",
     "output_type": "stream",
     "text": [
      "Train Epoch: 138 [640/3918 (16%)]\tLoss: 0.028841\n",
      "Mem before-during-after: 18544640 18618880 18544640\n"
     ]
    },
    {
     "name": "stderr",
     "output_type": "stream",
     "text": [
      " 75%|███████████████████████████▌         | 37.26557377049716/50 [38:41<13:11, 62.17s/it]"
     ]
    },
    {
     "name": "stdout",
     "output_type": "stream",
     "text": [
      "Train Epoch: 138 [1280/3918 (33%)]\tLoss: 0.005610\n",
      "Mem before-during-after: 18544640 18618880 18544640\n"
     ]
    },
    {
     "name": "stderr",
     "output_type": "stream",
     "text": [
      " 75%|████████████████████████████▍         | 37.3967213114807/50 [38:49<13:02, 62.08s/it]"
     ]
    },
    {
     "name": "stdout",
     "output_type": "stream",
     "text": [
      "Train Epoch: 138 [1920/3918 (49%)]\tLoss: 0.003186\n",
      "Mem before-during-after: 18544640 18618880 18544640\n"
     ]
    },
    {
     "name": "stderr",
     "output_type": "stream",
     "text": [
      " 75%|███████████████████████████▊         | 37.52786885246423/50 [38:57<13:01, 62.67s/it]"
     ]
    },
    {
     "name": "stdout",
     "output_type": "stream",
     "text": [
      "Train Epoch: 138 [2560/3918 (66%)]\tLoss: 0.039910\n",
      "Mem before-during-after: 18544640 18618880 18544640\n"
     ]
    },
    {
     "name": "stderr",
     "output_type": "stream",
     "text": [
      " 75%|███████████████████████████         | 37.659016393447764/50 [39:06<12:28, 60.69s/it]"
     ]
    },
    {
     "name": "stdout",
     "output_type": "stream",
     "text": [
      "Train Epoch: 138 [3200/3918 (82%)]\tLoss: 0.009186\n",
      "Mem before-during-after: 18544640 18618880 18544640\n"
     ]
    },
    {
     "name": "stderr",
     "output_type": "stream",
     "text": [
      " 76%|███████████████████████████▉         | 37.79344262295589/50 [39:14<12:20, 60.63s/it]"
     ]
    },
    {
     "name": "stdout",
     "output_type": "stream",
     "text": [
      "Train Epoch: 138 [3840/3918 (98%)]\tLoss: 0.035563\n",
      "Mem before-during-after: 18544640 18618880 18544640\n"
     ]
    },
    {
     "name": "stderr",
     "output_type": "stream",
     "text": [
      " 76%|████████████████████████████         | 38.00000000000495/50 [39:27<12:14, 61.18s/it]"
     ]
    },
    {
     "name": "stdout",
     "output_type": "stream",
     "text": [
      "\n",
      "Test Epoch: 138\tAccuracy: 572/976 (58%)\n",
      "\n"
     ]
    },
    {
     "name": "stderr",
     "output_type": "stream",
     "text": [
      " 76%|████████████████████████████         | 38.00327868852954/50 [39:27<12:21, 61.79s/it]"
     ]
    },
    {
     "name": "stdout",
     "output_type": "stream",
     "text": [
      "Train Epoch: 139 [0/3918 (0%)]\tLoss: 0.002479\n",
      "Mem before-during-after: 18543616 18618880 18544640\n"
     ]
    },
    {
     "name": "stderr",
     "output_type": "stream",
     "text": [
      " 76%|███████████████████████████▍        | 38.134426229513075/50 [39:35<12:06, 61.25s/it]"
     ]
    },
    {
     "name": "stdout",
     "output_type": "stream",
     "text": [
      "Train Epoch: 139 [640/3918 (16%)]\tLoss: 0.002275\n",
      "Mem before-during-after: 18544640 18618880 18544640\n"
     ]
    },
    {
     "name": "stderr",
     "output_type": "stream",
     "text": [
      " 77%|█████████████████████████████         | 38.2688524590212/50 [39:43<12:15, 62.67s/it]"
     ]
    },
    {
     "name": "stdout",
     "output_type": "stream",
     "text": [
      "Train Epoch: 139 [1280/3918 (33%)]\tLoss: 0.003578\n",
      "Mem before-during-after: 18544640 18618880 18544640\n"
     ]
    },
    {
     "name": "stderr",
     "output_type": "stream",
     "text": [
      " 77%|████████████████████████████▍        | 38.40000000000473/50 [39:52<12:23, 64.11s/it]"
     ]
    },
    {
     "name": "stdout",
     "output_type": "stream",
     "text": [
      "Train Epoch: 139 [1920/3918 (49%)]\tLoss: 0.006278\n",
      "Mem before-during-after: 18544640 18618880 18544640\n"
     ]
    },
    {
     "name": "stderr",
     "output_type": "stream",
     "text": [
      " 77%|███████████████████████████▋        | 38.531147540988265/50 [40:00<11:45, 61.51s/it]"
     ]
    },
    {
     "name": "stdout",
     "output_type": "stream",
     "text": [
      "Train Epoch: 139 [2560/3918 (66%)]\tLoss: 0.010736\n",
      "Mem before-during-after: 18544640 18618880 18544640\n"
     ]
    },
    {
     "name": "stderr",
     "output_type": "stream",
     "text": [
      " 77%|████████████████████████████▌        | 38.65901639344721/50 [40:08<11:45, 62.17s/it]"
     ]
    },
    {
     "name": "stdout",
     "output_type": "stream",
     "text": [
      "Train Epoch: 139 [3200/3918 (82%)]\tLoss: 0.062318\n",
      "Mem before-during-after: 18544640 18618880 18544640\n"
     ]
    },
    {
     "name": "stderr",
     "output_type": "stream",
     "text": [
      " 78%|████████████████████████████▋        | 38.79344262295533/50 [40:16<11:53, 63.65s/it]"
     ]
    },
    {
     "name": "stdout",
     "output_type": "stream",
     "text": [
      "Train Epoch: 139 [3840/3918 (98%)]\tLoss: 0.007114\n",
      "Mem before-during-after: 18544640 18618880 18544640\n"
     ]
    },
    {
     "name": "stderr",
     "output_type": "stream",
     "text": [
      " 78%|████████████████████████████▊        | 39.00327868852899/50 [40:29<11:24, 62.24s/it]"
     ]
    },
    {
     "name": "stdout",
     "output_type": "stream",
     "text": [
      "\n",
      "Test Epoch: 139\tAccuracy: 576/976 (59%)\n",
      "\n",
      "Train Epoch: 140 [0/3918 (0%)]\tLoss: 0.026392\n",
      "Mem before-during-after: 18543616 18618880 18544640\n"
     ]
    },
    {
     "name": "stderr",
     "output_type": "stream",
     "text": [
      " 78%|████████████████████████████▉        | 39.13770491803711/50 [40:38<11:14, 62.07s/it]"
     ]
    },
    {
     "name": "stdout",
     "output_type": "stream",
     "text": [
      "Train Epoch: 140 [640/3918 (16%)]\tLoss: 0.062942\n",
      "Mem before-during-after: 18544640 18618880 18544640\n"
     ]
    },
    {
     "name": "stderr",
     "output_type": "stream",
     "text": [
      " 79%|█████████████████████████████        | 39.26885245902064/50 [40:46<11:01, 61.66s/it]"
     ]
    },
    {
     "name": "stdout",
     "output_type": "stream",
     "text": [
      "Train Epoch: 140 [1280/3918 (33%)]\tLoss: 0.002329\n",
      "Mem before-during-after: 18544640 18618880 18544640\n"
     ]
    },
    {
     "name": "stderr",
     "output_type": "stream",
     "text": [
      " 79%|█████████████████████████████▏       | 39.39672131147959/50 [40:54<11:00, 62.34s/it]"
     ]
    },
    {
     "name": "stdout",
     "output_type": "stream",
     "text": [
      "Train Epoch: 140 [1920/3918 (49%)]\tLoss: 0.019584\n",
      "Mem before-during-after: 18544640 18618880 18544640\n"
     ]
    },
    {
     "name": "stderr",
     "output_type": "stream",
     "text": [
      " 79%|█████████████████████████████▎       | 39.52786885246312/50 [41:02<10:42, 61.35s/it]"
     ]
    },
    {
     "name": "stdout",
     "output_type": "stream",
     "text": [
      "Train Epoch: 140 [2560/3918 (66%)]\tLoss: 0.003618\n",
      "Mem before-during-after: 18544640 18618880 18544640\n"
     ]
    },
    {
     "name": "stderr",
     "output_type": "stream",
     "text": [
      " 79%|████████████████████████████▌       | 39.662295081971244/50 [41:10<10:58, 63.74s/it]"
     ]
    },
    {
     "name": "stdout",
     "output_type": "stream",
     "text": [
      "Train Epoch: 140 [3200/3918 (82%)]\tLoss: 0.010764\n",
      "Mem before-during-after: 18544640 18618880 18544640\n"
     ]
    },
    {
     "name": "stderr",
     "output_type": "stream",
     "text": [
      " 80%|█████████████████████████████▍       | 39.79016393443019/50 [41:19<10:53, 63.96s/it]"
     ]
    },
    {
     "name": "stdout",
     "output_type": "stream",
     "text": [
      "Train Epoch: 140 [3840/3918 (98%)]\tLoss: 0.009162\n",
      "Mem before-during-after: 18544640 18618880 18544640\n"
     ]
    },
    {
     "name": "stderr",
     "output_type": "stream",
     "text": [
      " 80%|████████████████████████████▊       | 40.000000000003844/50 [41:32<10:15, 61.53s/it]"
     ]
    },
    {
     "name": "stdout",
     "output_type": "stream",
     "text": [
      "\n",
      "Test Epoch: 140\tAccuracy: 567/976 (58%)\n",
      "\n"
     ]
    },
    {
     "name": "stderr",
     "output_type": "stream",
     "text": [
      " 80%|█████████████████████████████▌       | 40.00327868852843/50 [41:32<10:16, 61.66s/it]"
     ]
    },
    {
     "name": "stdout",
     "output_type": "stream",
     "text": [
      "Train Epoch: 141 [0/3918 (0%)]\tLoss: 0.007324\n",
      "Mem before-during-after: 18543616 18618880 18544640\n"
     ]
    },
    {
     "name": "stderr",
     "output_type": "stream",
     "text": [
      " 80%|████████████████████████████▉       | 40.137704918036555/50 [41:40<10:18, 62.76s/it]"
     ]
    },
    {
     "name": "stdout",
     "output_type": "stream",
     "text": [
      "Train Epoch: 141 [640/3918 (16%)]\tLoss: 0.022501\n",
      "Mem before-during-after: 18544640 18618880 18544640\n"
     ]
    },
    {
     "name": "stderr",
     "output_type": "stream",
     "text": [
      " 81%|██████████████████████████████▌       | 40.2655737704955/50 [41:48<10:05, 62.23s/it]"
     ]
    },
    {
     "name": "stdout",
     "output_type": "stream",
     "text": [
      "Train Epoch: 141 [1280/3918 (33%)]\tLoss: 0.018843\n",
      "Mem before-during-after: 18544640 18618880 18544640\n"
     ]
    },
    {
     "name": "stderr",
     "output_type": "stream",
     "text": [
      " 81%|█████████████████████████████▉       | 40.40000000000362/50 [41:57<09:53, 61.86s/it]"
     ]
    },
    {
     "name": "stdout",
     "output_type": "stream",
     "text": [
      "Train Epoch: 141 [1920/3918 (49%)]\tLoss: 0.008128\n",
      "Mem before-during-after: 18544640 18618880 18544640\n"
     ]
    },
    {
     "name": "stderr",
     "output_type": "stream",
     "text": [
      " 81%|█████████████████████████████▉       | 40.52786885246257/50 [42:04<09:39, 61.14s/it]"
     ]
    },
    {
     "name": "stdout",
     "output_type": "stream",
     "text": [
      "Train Epoch: 141 [2560/3918 (66%)]\tLoss: 0.005963\n",
      "Mem before-during-after: 18544640 18618880 18544640\n"
     ]
    },
    {
     "name": "stderr",
     "output_type": "stream",
     "text": [
      " 81%|██████████████████████████████▉       | 40.6590163934461/50 [42:13<09:21, 60.08s/it]"
     ]
    },
    {
     "name": "stdout",
     "output_type": "stream",
     "text": [
      "Train Epoch: 141 [3200/3918 (82%)]\tLoss: 0.018372\n",
      "Mem before-during-after: 18544640 18618880 18544640\n"
     ]
    },
    {
     "name": "stderr",
     "output_type": "stream",
     "text": [
      " 82%|█████████████████████████████▎      | 40.790163934429636/50 [42:21<09:24, 61.27s/it]"
     ]
    },
    {
     "name": "stdout",
     "output_type": "stream",
     "text": [
      "Train Epoch: 141 [3840/3918 (98%)]\tLoss: 0.037281\n",
      "Mem before-during-after: 18544640 18618880 18544640\n"
     ]
    },
    {
     "name": "stderr",
     "output_type": "stream",
     "text": [
      " 82%|██████████████████████████████▎      | 41.00000000000329/50 [42:34<09:08, 60.94s/it]"
     ]
    },
    {
     "name": "stdout",
     "output_type": "stream",
     "text": [
      "\n",
      "Test Epoch: 141\tAccuracy: 580/976 (59%)\n",
      "\n"
     ]
    },
    {
     "name": "stderr",
     "output_type": "stream",
     "text": [
      " 82%|██████████████████████████████▎      | 41.00655737705247/50 [42:34<09:21, 62.49s/it]"
     ]
    },
    {
     "name": "stdout",
     "output_type": "stream",
     "text": [
      "Train Epoch: 142 [0/3918 (0%)]\tLoss: 0.013919\n",
      "Mem before-during-after: 18543616 18618880 18544640\n"
     ]
    },
    {
     "name": "stderr",
     "output_type": "stream",
     "text": [
      " 82%|██████████████████████████████▍      | 41.13442622951141/50 [42:42<09:05, 61.49s/it]"
     ]
    },
    {
     "name": "stdout",
     "output_type": "stream",
     "text": [
      "Train Epoch: 142 [640/3918 (16%)]\tLoss: 0.039183\n",
      "Mem before-during-after: 18544640 18618880 18544640\n"
     ]
    },
    {
     "name": "stderr",
     "output_type": "stream",
     "text": [
      " 83%|█████████████████████████████▋      | 41.268852459019534/50 [42:51<08:55, 61.38s/it]"
     ]
    },
    {
     "name": "stdout",
     "output_type": "stream",
     "text": [
      "Train Epoch: 142 [1280/3918 (33%)]\tLoss: 0.002507\n",
      "Mem before-during-after: 18544640 18618880 18544640\n"
     ]
    },
    {
     "name": "stderr",
     "output_type": "stream",
     "text": [
      " 83%|██████████████████████████████▋      | 41.40000000000307/50 [42:59<08:38, 60.27s/it]"
     ]
    },
    {
     "name": "stdout",
     "output_type": "stream",
     "text": [
      "Train Epoch: 142 [1920/3918 (49%)]\tLoss: 0.023502\n",
      "Mem before-during-after: 18544640 18618880 18544640\n"
     ]
    },
    {
     "name": "stderr",
     "output_type": "stream",
     "text": [
      " 83%|███████████████████████████████▌      | 41.5311475409866/50 [43:07<08:43, 61.80s/it]"
     ]
    },
    {
     "name": "stdout",
     "output_type": "stream",
     "text": [
      "Train Epoch: 142 [2560/3918 (66%)]\tLoss: 0.006490\n",
      "Mem before-during-after: 18544640 18618880 18544640\n"
     ]
    },
    {
     "name": "stderr",
     "output_type": "stream",
     "text": [
      " 83%|██████████████████████████████▊      | 41.65901639344555/50 [43:15<08:35, 61.83s/it]"
     ]
    },
    {
     "name": "stdout",
     "output_type": "stream",
     "text": [
      "Train Epoch: 142 [3200/3918 (82%)]\tLoss: 0.003162\n",
      "Mem before-during-after: 18544640 18618880 18544640\n"
     ]
    },
    {
     "name": "stderr",
     "output_type": "stream",
     "text": [
      " 84%|██████████████████████████████▉      | 41.79344262295367/50 [43:23<08:20, 61.02s/it]"
     ]
    },
    {
     "name": "stdout",
     "output_type": "stream",
     "text": [
      "Train Epoch: 142 [3840/3918 (98%)]\tLoss: 0.142129\n",
      "Mem before-during-after: 18544640 18618880 18544640\n"
     ]
    },
    {
     "name": "stderr",
     "output_type": "stream",
     "text": [
      " 84%|██████████████████████████████▏     | 42.003278688527324/50 [43:36<08:13, 61.68s/it]"
     ]
    },
    {
     "name": "stdout",
     "output_type": "stream",
     "text": [
      "\n",
      "Test Epoch: 142\tAccuracy: 563/976 (57%)\n",
      "\n",
      "Train Epoch: 143 [0/3918 (0%)]\tLoss: 0.018039\n",
      "Mem before-during-after: 18543616 18618880 18544640\n"
     ]
    },
    {
     "name": "stderr",
     "output_type": "stream",
     "text": [
      " 84%|██████████████████████████████▎     | 42.137704918035446/50 [43:45<08:22, 63.95s/it]"
     ]
    },
    {
     "name": "stdout",
     "output_type": "stream",
     "text": [
      "Train Epoch: 143 [640/3918 (16%)]\tLoss: 0.035666\n",
      "Mem before-during-after: 18544640 18618880 18544640\n"
     ]
    },
    {
     "name": "stderr",
     "output_type": "stream",
     "text": [
      " 85%|███████████████████████████████▎     | 42.26885245901898/50 [43:53<07:56, 61.65s/it]"
     ]
    },
    {
     "name": "stdout",
     "output_type": "stream",
     "text": [
      "Train Epoch: 143 [1280/3918 (33%)]\tLoss: 0.055026\n",
      "Mem before-during-after: 18544640 18618880 18544640\n"
     ]
    },
    {
     "name": "stderr",
     "output_type": "stream",
     "text": [
      " 85%|██████████████████████████████▌     | 42.396721311477926/50 [44:01<07:48, 61.59s/it]"
     ]
    },
    {
     "name": "stdout",
     "output_type": "stream",
     "text": [
      "Train Epoch: 143 [1920/3918 (49%)]\tLoss: 0.040932\n",
      "Mem before-during-after: 18544640 18618880 18544640\n"
     ]
    },
    {
     "name": "stderr",
     "output_type": "stream",
     "text": [
      " 85%|███████████████████████████████▍     | 42.52786885246146/50 [44:09<07:45, 62.26s/it]"
     ]
    },
    {
     "name": "stdout",
     "output_type": "stream",
     "text": [
      "Train Epoch: 143 [2560/3918 (66%)]\tLoss: 0.038490\n",
      "Mem before-during-after: 18544640 18618880 18544640\n"
     ]
    },
    {
     "name": "stderr",
     "output_type": "stream",
     "text": [
      " 85%|███████████████████████████████▌     | 42.66229508196958/50 [44:17<07:29, 61.23s/it]"
     ]
    },
    {
     "name": "stdout",
     "output_type": "stream",
     "text": [
      "Train Epoch: 143 [3200/3918 (82%)]\tLoss: 0.009623\n",
      "Mem before-during-after: 18544640 18618880 18544640\n"
     ]
    },
    {
     "name": "stderr",
     "output_type": "stream",
     "text": [
      " 86%|███████████████████████████████▋     | 42.79016393442853/50 [44:25<07:36, 63.32s/it]"
     ]
    },
    {
     "name": "stdout",
     "output_type": "stream",
     "text": [
      "Train Epoch: 143 [3840/3918 (98%)]\tLoss: 0.012652\n",
      "Mem before-during-after: 18544640 18618880 18544640\n"
     ]
    },
    {
     "name": "stderr",
     "output_type": "stream",
     "text": [
      " 86%|███████████████████████████████▊     | 43.00000000000218/50 [44:38<07:06, 60.93s/it]"
     ]
    },
    {
     "name": "stdout",
     "output_type": "stream",
     "text": [
      "\n",
      "Test Epoch: 143\tAccuracy: 571/976 (58%)\n",
      "\n"
     ]
    },
    {
     "name": "stderr",
     "output_type": "stream",
     "text": [
      " 86%|███████████████████████████████▊     | 43.00655737705136/50 [44:39<07:06, 60.96s/it]"
     ]
    },
    {
     "name": "stdout",
     "output_type": "stream",
     "text": [
      "Train Epoch: 144 [0/3918 (0%)]\tLoss: 0.626081\n",
      "Mem before-during-after: 18543616 18618880 18544640\n"
     ]
    },
    {
     "name": "stderr",
     "output_type": "stream",
     "text": [
      " 86%|███████████████████████████████▉     | 43.13770491803489/50 [44:47<07:09, 62.66s/it]"
     ]
    },
    {
     "name": "stdout",
     "output_type": "stream",
     "text": [
      "Train Epoch: 144 [640/3918 (16%)]\tLoss: 0.010771\n",
      "Mem before-during-after: 18544640 18618880 18544640\n"
     ]
    },
    {
     "name": "stderr",
     "output_type": "stream",
     "text": [
      " 87%|████████████████████████████████     | 43.26557377049384/50 [44:55<06:45, 60.22s/it]"
     ]
    },
    {
     "name": "stdout",
     "output_type": "stream",
     "text": [
      "Train Epoch: 144 [1280/3918 (33%)]\tLoss: 0.012634\n",
      "Mem before-during-after: 18544640 18618880 18544640\n"
     ]
    },
    {
     "name": "stderr",
     "output_type": "stream",
     "text": [
      " 87%|████████████████████████████████     | 43.40000000000196/50 [45:03<06:55, 62.97s/it]"
     ]
    },
    {
     "name": "stdout",
     "output_type": "stream",
     "text": [
      "Train Epoch: 144 [1920/3918 (49%)]\tLoss: 0.048863\n",
      "Mem before-during-after: 18544640 18618880 18544640\n"
     ]
    },
    {
     "name": "stderr",
     "output_type": "stream",
     "text": [
      " 87%|████████████████████████████████▏    | 43.53114754098549/50 [45:12<06:47, 63.00s/it]"
     ]
    },
    {
     "name": "stdout",
     "output_type": "stream",
     "text": [
      "Train Epoch: 144 [2560/3918 (66%)]\tLoss: 0.026953\n",
      "Mem before-during-after: 18544640 18618880 18544640\n"
     ]
    },
    {
     "name": "stderr",
     "output_type": "stream",
     "text": [
      " 87%|████████████████████████████████▎    | 43.66229508196903/50 [45:20<06:37, 62.67s/it]"
     ]
    },
    {
     "name": "stdout",
     "output_type": "stream",
     "text": [
      "Train Epoch: 144 [3200/3918 (82%)]\tLoss: 0.044117\n",
      "Mem before-during-after: 18544640 18618880 18544640\n"
     ]
    },
    {
     "name": "stderr",
     "output_type": "stream",
     "text": [
      " 88%|████████████████████████████████▍    | 43.79344262295256/50 [45:28<06:34, 63.59s/it]"
     ]
    },
    {
     "name": "stdout",
     "output_type": "stream",
     "text": [
      "Train Epoch: 144 [3840/3918 (98%)]\tLoss: 0.007736\n",
      "Mem before-during-after: 18544640 18618880 18544640\n"
     ]
    },
    {
     "name": "stderr",
     "output_type": "stream",
     "text": [
      " 88%|████████████████████████████████▌    | 44.00000000000163/50 [45:41<06:07, 61.20s/it]"
     ]
    },
    {
     "name": "stdout",
     "output_type": "stream",
     "text": [
      "\n",
      "Test Epoch: 144\tAccuracy: 558/976 (57%)\n",
      "\n"
     ]
    },
    {
     "name": "stderr",
     "output_type": "stream",
     "text": [
      " 88%|███████████████████████████████▋    | 44.006557377050804/50 [45:41<06:08, 61.49s/it]"
     ]
    },
    {
     "name": "stdout",
     "output_type": "stream",
     "text": [
      "Train Epoch: 145 [0/3918 (0%)]\tLoss: 0.017337\n",
      "Mem before-during-after: 18543616 18618880 18544640\n"
     ]
    },
    {
     "name": "stderr",
     "output_type": "stream",
     "text": [
      " 88%|████████████████████████████████▋    | 44.13770491803434/50 [45:49<06:01, 61.65s/it]"
     ]
    },
    {
     "name": "stdout",
     "output_type": "stream",
     "text": [
      "Train Epoch: 145 [640/3918 (16%)]\tLoss: 0.005136\n",
      "Mem before-during-after: 18544640 18618880 18544640\n"
     ]
    },
    {
     "name": "stderr",
     "output_type": "stream",
     "text": [
      " 89%|████████████████████████████████▊    | 44.26885245901787/50 [45:58<05:58, 62.57s/it]"
     ]
    },
    {
     "name": "stdout",
     "output_type": "stream",
     "text": [
      "Train Epoch: 145 [1280/3918 (33%)]\tLoss: 0.013875\n",
      "Mem before-during-after: 18544640 18618880 18544640\n"
     ]
    },
    {
     "name": "stderr",
     "output_type": "stream",
     "text": [
      " 89%|████████████████████████████████▊    | 44.39672131147682/50 [46:06<05:49, 62.34s/it]"
     ]
    },
    {
     "name": "stdout",
     "output_type": "stream",
     "text": [
      "Train Epoch: 145 [1920/3918 (49%)]\tLoss: 0.037134\n",
      "Mem before-during-after: 18544640 18618880 18544640\n"
     ]
    },
    {
     "name": "stderr",
     "output_type": "stream",
     "text": [
      " 89%|████████████████████████████████▉    | 44.53114754098494/50 [46:14<05:32, 60.82s/it]"
     ]
    },
    {
     "name": "stdout",
     "output_type": "stream",
     "text": [
      "Train Epoch: 145 [2560/3918 (66%)]\tLoss: 0.018987\n",
      "Mem before-during-after: 18544640 18618880 18544640\n"
     ]
    },
    {
     "name": "stderr",
     "output_type": "stream",
     "text": [
      " 89%|█████████████████████████████████    | 44.66229508196847/50 [46:22<05:33, 62.47s/it]"
     ]
    },
    {
     "name": "stdout",
     "output_type": "stream",
     "text": [
      "Train Epoch: 145 [3200/3918 (82%)]\tLoss: 0.039478\n",
      "Mem before-during-after: 18544640 18618880 18544640\n"
     ]
    },
    {
     "name": "stderr",
     "output_type": "stream",
     "text": [
      " 90%|█████████████████████████████████▏   | 44.79016393442742/50 [46:30<05:17, 60.86s/it]"
     ]
    },
    {
     "name": "stdout",
     "output_type": "stream",
     "text": [
      "Train Epoch: 145 [3840/3918 (98%)]\tLoss: 0.067529\n",
      "Mem before-during-after: 18544640 18618880 18544640\n"
     ]
    },
    {
     "name": "stderr",
     "output_type": "stream",
     "text": [
      " 90%|█████████████████████████████████▎   | 45.00327868852566/50 [46:43<05:06, 61.40s/it]"
     ]
    },
    {
     "name": "stdout",
     "output_type": "stream",
     "text": [
      "\n",
      "Test Epoch: 145\tAccuracy: 572/976 (58%)\n",
      "\n",
      "Train Epoch: 146 [0/3918 (0%)]\tLoss: 0.001329\n",
      "Mem before-during-after: 18543616 18618880 18544640\n"
     ]
    },
    {
     "name": "stderr",
     "output_type": "stream",
     "text": [
      " 90%|████████████████████████████████▍   | 45.134426229509195/50 [46:51<04:54, 60.57s/it]"
     ]
    },
    {
     "name": "stdout",
     "output_type": "stream",
     "text": [
      "Train Epoch: 146 [640/3918 (16%)]\tLoss: 0.008194\n",
      "Mem before-during-after: 18544640 18618880 18544640\n"
     ]
    },
    {
     "name": "stderr",
     "output_type": "stream",
     "text": [
      " 91%|█████████████████████████████████▍   | 45.26557377049273/50 [46:59<04:44, 60.02s/it]"
     ]
    },
    {
     "name": "stdout",
     "output_type": "stream",
     "text": [
      "Train Epoch: 146 [1280/3918 (33%)]\tLoss: 0.052295\n",
      "Mem before-during-after: 18544640 18618880 18544640\n"
     ]
    },
    {
     "name": "stderr",
     "output_type": "stream",
     "text": [
      " 91%|█████████████████████████████████▌   | 45.39672131147626/50 [47:08<04:50, 63.10s/it]"
     ]
    },
    {
     "name": "stdout",
     "output_type": "stream",
     "text": [
      "Train Epoch: 146 [1920/3918 (49%)]\tLoss: 0.021092\n",
      "Mem before-during-after: 18544640 18618880 18544640\n"
     ]
    },
    {
     "name": "stderr",
     "output_type": "stream",
     "text": [
      " 91%|██████████████████████████████████▌   | 45.5278688524598/50 [47:16<04:38, 62.17s/it]"
     ]
    },
    {
     "name": "stdout",
     "output_type": "stream",
     "text": [
      "Train Epoch: 146 [2560/3918 (66%)]\tLoss: 0.038833\n",
      "Mem before-during-after: 18544640 18618880 18544640\n"
     ]
    },
    {
     "name": "stderr",
     "output_type": "stream",
     "text": [
      " 91%|█████████████████████████████████▊   | 45.66229508196792/50 [47:24<04:25, 61.26s/it]"
     ]
    },
    {
     "name": "stdout",
     "output_type": "stream",
     "text": [
      "Train Epoch: 146 [3200/3918 (82%)]\tLoss: 0.188804\n",
      "Mem before-during-after: 18544640 18618880 18544640\n"
     ]
    },
    {
     "name": "stderr",
     "output_type": "stream",
     "text": [
      " 92%|█████████████████████████████████▉   | 45.79344262295145/50 [47:33<04:49, 68.80s/it]"
     ]
    },
    {
     "name": "stdout",
     "output_type": "stream",
     "text": [
      "Train Epoch: 146 [3840/3918 (98%)]\tLoss: 0.010559\n",
      "Mem before-during-after: 18544640 18618880 18544640\n"
     ]
    },
    {
     "name": "stderr",
     "output_type": "stream",
     "text": [
      " 92%|██████████████████████████████████   | 46.00327868852511/50 [47:45<04:05, 61.33s/it]"
     ]
    },
    {
     "name": "stdout",
     "output_type": "stream",
     "text": [
      "\n",
      "Test Epoch: 146\tAccuracy: 576/976 (59%)\n",
      "\n",
      "Train Epoch: 147 [0/3918 (0%)]\tLoss: 0.004239\n",
      "Mem before-during-after: 18543616 18618880 18544640\n"
     ]
    },
    {
     "name": "stderr",
     "output_type": "stream",
     "text": [
      " 92%|██████████████████████████████████▏  | 46.13442622950864/50 [47:54<03:55, 60.84s/it]"
     ]
    },
    {
     "name": "stdout",
     "output_type": "stream",
     "text": [
      "Train Epoch: 147 [640/3918 (16%)]\tLoss: 0.011370\n",
      "Mem before-during-after: 18544640 18618880 18544640\n"
     ]
    },
    {
     "name": "stderr",
     "output_type": "stream",
     "text": [
      " 93%|█████████████████████████████████▎  | 46.265573770492175/50 [48:02<04:02, 64.99s/it]"
     ]
    },
    {
     "name": "stdout",
     "output_type": "stream",
     "text": [
      "Train Epoch: 147 [1280/3918 (33%)]\tLoss: 0.022314\n",
      "Mem before-during-after: 18544640 18618880 18544640\n"
     ]
    },
    {
     "name": "stderr",
     "output_type": "stream",
     "text": [
      " 93%|███████████████████████████████████▎  | 46.4000000000003/50 [48:10<03:40, 61.31s/it]"
     ]
    },
    {
     "name": "stdout",
     "output_type": "stream",
     "text": [
      "Train Epoch: 147 [1920/3918 (49%)]\tLoss: 0.004846\n",
      "Mem before-during-after: 18544640 18618880 18544640\n"
     ]
    },
    {
     "name": "stderr",
     "output_type": "stream",
     "text": [
      " 93%|██████████████████████████████████▍  | 46.53114754098383/50 [48:18<03:29, 60.46s/it]"
     ]
    },
    {
     "name": "stdout",
     "output_type": "stream",
     "text": [
      "Train Epoch: 147 [2560/3918 (66%)]\tLoss: 0.014110\n",
      "Mem before-during-after: 18544640 18618880 18544640\n"
     ]
    },
    {
     "name": "stderr",
     "output_type": "stream",
     "text": [
      " 93%|█████████████████████████████████▌  | 46.662295081967365/50 [48:26<03:25, 61.51s/it]"
     ]
    },
    {
     "name": "stdout",
     "output_type": "stream",
     "text": [
      "Train Epoch: 147 [3200/3918 (82%)]\tLoss: 0.045120\n",
      "Mem before-during-after: 18544640 18618880 18544640\n"
     ]
    },
    {
     "name": "stderr",
     "output_type": "stream",
     "text": [
      " 94%|███████████████████████████████████▌  | 46.7934426229509/50 [48:35<03:17, 61.62s/it]"
     ]
    },
    {
     "name": "stdout",
     "output_type": "stream",
     "text": [
      "Train Epoch: 147 [3840/3918 (98%)]\tLoss: 0.006390\n",
      "Mem before-during-after: 18544640 18618880 18544640\n"
     ]
    },
    {
     "name": "stderr",
     "output_type": "stream",
     "text": [
      " 94%|██████████████████████████████████▊  | 47.00327868852455/50 [48:48<03:00, 60.33s/it]"
     ]
    },
    {
     "name": "stdout",
     "output_type": "stream",
     "text": [
      "\n",
      "Test Epoch: 147\tAccuracy: 575/976 (59%)\n",
      "\n",
      "Train Epoch: 148 [0/3918 (0%)]\tLoss: 0.008619\n",
      "Mem before-during-after: 18543616 18618880 18544640\n"
     ]
    },
    {
     "name": "stderr",
     "output_type": "stream",
     "text": [
      " 94%|█████████████████████████████████▉  | 47.137704918032675/50 [48:56<02:52, 60.10s/it]"
     ]
    },
    {
     "name": "stdout",
     "output_type": "stream",
     "text": [
      "Train Epoch: 148 [640/3918 (16%)]\tLoss: 0.007269\n",
      "Mem before-during-after: 18544640 18618880 18544640\n"
     ]
    },
    {
     "name": "stderr",
     "output_type": "stream",
     "text": [
      " 95%|██████████████████████████████████▉  | 47.26557377049162/50 [49:04<02:48, 61.80s/it]"
     ]
    },
    {
     "name": "stdout",
     "output_type": "stream",
     "text": [
      "Train Epoch: 148 [1280/3918 (33%)]\tLoss: 0.174718\n",
      "Mem before-during-after: 18544640 18618880 18544640\n"
     ]
    },
    {
     "name": "stderr",
     "output_type": "stream",
     "text": [
      " 95%|██████████████████████████████████▏ | 47.396721311475154/50 [49:12<02:41, 61.98s/it]"
     ]
    },
    {
     "name": "stdout",
     "output_type": "stream",
     "text": [
      "Train Epoch: 148 [1920/3918 (49%)]\tLoss: 0.034288\n",
      "Mem before-during-after: 18544640 18618880 18544640\n"
     ]
    },
    {
     "name": "stderr",
     "output_type": "stream",
     "text": [
      " 95%|███████████████████████████████████▏ | 47.53114754098328/50 [49:21<02:32, 61.97s/it]"
     ]
    },
    {
     "name": "stdout",
     "output_type": "stream",
     "text": [
      "Train Epoch: 148 [2560/3918 (66%)]\tLoss: 0.004762\n",
      "Mem before-during-after: 18544640 18618880 18544640\n"
     ]
    },
    {
     "name": "stderr",
     "output_type": "stream",
     "text": [
      " 95%|███████████████████████████████████▎ | 47.65901639344222/50 [49:29<02:26, 62.48s/it]"
     ]
    },
    {
     "name": "stdout",
     "output_type": "stream",
     "text": [
      "Train Epoch: 148 [3200/3918 (82%)]\tLoss: 0.002359\n",
      "Mem before-during-after: 18544640 18618880 18544640\n"
     ]
    },
    {
     "name": "stderr",
     "output_type": "stream",
     "text": [
      " 96%|██████████████████████████████████▍ | 47.790163934425756/50 [49:37<02:15, 61.20s/it]"
     ]
    },
    {
     "name": "stdout",
     "output_type": "stream",
     "text": [
      "Train Epoch: 148 [3840/3918 (98%)]\tLoss: 0.010463\n",
      "Mem before-during-after: 18544640 18618880 18544640\n"
     ]
    },
    {
     "name": "stderr",
     "output_type": "stream",
     "text": [
      " 96%|███████████████████████████████████▌ | 47.99999999999941/50 [49:50<02:02, 61.13s/it]"
     ]
    },
    {
     "name": "stdout",
     "output_type": "stream",
     "text": [
      "\n",
      "Test Epoch: 148\tAccuracy: 574/976 (59%)\n",
      "\n"
     ]
    },
    {
     "name": "stderr",
     "output_type": "stream",
     "text": [
      " 96%|█████████████████████████████████████▍ | 48.003278688524/50 [49:50<02:02, 61.38s/it]"
     ]
    },
    {
     "name": "stdout",
     "output_type": "stream",
     "text": [
      "Train Epoch: 149 [0/3918 (0%)]\tLoss: 0.006089\n",
      "Mem before-during-after: 18543616 18618880 18544640\n"
     ]
    },
    {
     "name": "stderr",
     "output_type": "stream",
     "text": [
      " 96%|███████████████████████████████████▌ | 48.13442622950753/50 [49:58<01:56, 62.47s/it]"
     ]
    },
    {
     "name": "stdout",
     "output_type": "stream",
     "text": [
      "Train Epoch: 149 [640/3918 (16%)]\tLoss: 0.004625\n",
      "Mem before-during-after: 18544640 18618880 18544640\n"
     ]
    },
    {
     "name": "stderr",
     "output_type": "stream",
     "text": [
      " 97%|██████████████████████████████████▊ | 48.268852459015655/50 [50:07<01:44, 60.38s/it]"
     ]
    },
    {
     "name": "stdout",
     "output_type": "stream",
     "text": [
      "Train Epoch: 149 [1280/3918 (33%)]\tLoss: 0.010925\n",
      "Mem before-during-after: 18544640 18618880 18544640\n"
     ]
    },
    {
     "name": "stderr",
     "output_type": "stream",
     "text": [
      " 97%|███████████████████████████████████▊ | 48.39999999999919/50 [50:15<01:41, 63.43s/it]"
     ]
    },
    {
     "name": "stdout",
     "output_type": "stream",
     "text": [
      "Train Epoch: 149 [1920/3918 (49%)]\tLoss: 0.011069\n",
      "Mem before-during-after: 18544640 18618880 18544640\n"
     ]
    },
    {
     "name": "stderr",
     "output_type": "stream",
     "text": [
      " 97%|███████████████████████████████████▉ | 48.53114754098272/50 [50:23<01:29, 60.69s/it]"
     ]
    },
    {
     "name": "stdout",
     "output_type": "stream",
     "text": [
      "Train Epoch: 149 [2560/3918 (66%)]\tLoss: 0.002272\n",
      "Mem before-during-after: 18544640 18618880 18544640\n"
     ]
    },
    {
     "name": "stderr",
     "output_type": "stream",
     "text": [
      " 97%|████████████████████████████████████ | 48.65901639344167/50 [50:31<01:23, 62.00s/it]"
     ]
    },
    {
     "name": "stdout",
     "output_type": "stream",
     "text": [
      "Train Epoch: 149 [3200/3918 (82%)]\tLoss: 0.010882\n",
      "Mem before-during-after: 18544640 18618880 18544640\n"
     ]
    },
    {
     "name": "stderr",
     "output_type": "stream",
     "text": [
      " 98%|█████████████████████████████████████ | 48.7901639344252/50 [50:39<01:14, 61.18s/it]"
     ]
    },
    {
     "name": "stdout",
     "output_type": "stream",
     "text": [
      "Train Epoch: 149 [3840/3918 (98%)]\tLoss: 0.021181\n",
      "Mem before-during-after: 18544640 18618880 18544640\n"
     ]
    },
    {
     "name": "stderr",
     "output_type": "stream",
     "text": [
      " 98%|███████████████████████████████████▎| 49.003278688523444/50 [50:52<01:01, 61.21s/it]"
     ]
    },
    {
     "name": "stdout",
     "output_type": "stream",
     "text": [
      "\n",
      "Test Epoch: 149\tAccuracy: 573/976 (58%)\n",
      "\n",
      "Train Epoch: 150 [0/3918 (0%)]\tLoss: 0.014546\n",
      "Mem before-during-after: 18543616 18618880 18544640\n"
     ]
    },
    {
     "name": "stderr",
     "output_type": "stream",
     "text": [
      " 98%|████████████████████████████████████▎| 49.13442622950698/50 [51:01<00:54, 63.15s/it]"
     ]
    },
    {
     "name": "stdout",
     "output_type": "stream",
     "text": [
      "Train Epoch: 150 [640/3918 (16%)]\tLoss: 0.034217\n",
      "Mem before-during-after: 18544640 18618880 18544640\n"
     ]
    },
    {
     "name": "stderr",
     "output_type": "stream",
     "text": [
      " 99%|████████████████████████████████████▍| 49.26557377049051/50 [51:09<00:45, 61.46s/it]"
     ]
    },
    {
     "name": "stdout",
     "output_type": "stream",
     "text": [
      "Train Epoch: 150 [1280/3918 (33%)]\tLoss: 0.003175\n",
      "Mem before-during-after: 18544640 18618880 18544640\n"
     ]
    },
    {
     "name": "stderr",
     "output_type": "stream",
     "text": [
      " 99%|███████████████████████████████████▌| 49.396721311474046/50 [51:17<00:37, 62.60s/it]"
     ]
    },
    {
     "name": "stdout",
     "output_type": "stream",
     "text": [
      "Train Epoch: 150 [1920/3918 (49%)]\tLoss: 0.025322\n",
      "Mem before-during-after: 18544640 18618880 18544640\n"
     ]
    },
    {
     "name": "stderr",
     "output_type": "stream",
     "text": [
      " 99%|████████████████████████████████████▋| 49.52786885245758/50 [51:25<00:29, 61.48s/it]"
     ]
    },
    {
     "name": "stdout",
     "output_type": "stream",
     "text": [
      "Train Epoch: 150 [2560/3918 (66%)]\tLoss: 0.009850\n",
      "Mem before-during-after: 18544640 18618880 18544640\n"
     ]
    },
    {
     "name": "stderr",
     "output_type": "stream",
     "text": [
      " 99%|███████████████████████████████████▊| 49.659016393441114/50 [51:34<00:20, 61.27s/it]"
     ]
    },
    {
     "name": "stdout",
     "output_type": "stream",
     "text": [
      "Train Epoch: 150 [3200/3918 (82%)]\tLoss: 0.002447\n",
      "Mem before-during-after: 18544640 18618880 18544640\n"
     ]
    },
    {
     "name": "stderr",
     "output_type": "stream",
     "text": [
      "100%|████████████████████████████████████▊| 49.79016393442465/50 [51:42<00:12, 61.66s/it]"
     ]
    },
    {
     "name": "stdout",
     "output_type": "stream",
     "text": [
      "Train Epoch: 150 [3840/3918 (98%)]\tLoss: 0.001697\n",
      "Mem before-during-after: 18544640 18618880 18544640\n"
     ]
    },
    {
     "name": "stderr",
     "output_type": "stream",
     "text": [
      "100%|█████████████████████████████████████▉| 49.9999999999983/50 [51:55<00:00, 62.31s/it]"
     ]
    },
    {
     "name": "stdout",
     "output_type": "stream",
     "text": [
      "\n",
      "Test Epoch: 150\tAccuracy: 569/976 (58%)\n",
      "\n"
     ]
    },
    {
     "name": "stderr",
     "output_type": "stream",
     "text": [
      "\n"
     ]
    }
   ],
   "source": [
    "n_epoch = 10\n",
    "n_epoch2 = 50\n",
    "n_epoch3 = 40\n",
    "n_epoch4 = 50\n",
    "\n",
    "optimizer = optim.RAdam(model.parameters(), lr=0.000005)\n",
    "scheduler = optim.lr_scheduler.OneCycleLR(\n",
    "    optimizer, max_lr=0.01, pct_start=0.3,\n",
    "    steps_per_epoch=len(train_loader), epochs=n_epoch4)\n",
    "log_interval = 40\n",
    "pbar_update = 1 / (len(train_loader) + len(test_loader))\n",
    "model.to(device)\n",
    "with tqdm(total=n_epoch4) as pbar:\n",
    "    for epoch in range(1+n_epoch+n_epoch2+n_epoch3, n_epoch4+n_epoch3+n_epoch2 + n_epoch + 1):\n",
    "        train(model, epoch, log_interval, train_losses)\n",
    "        acc = test(model, epoch)\n",
    "        test_accuracy += [acc]\n",
    "        if acc > best_accuracy:\n",
    "            best_accuracy = acc\n",
    "            best_epoch = epoch\n",
    "            bmodel_path = f'{model_path_prefix}{epoch}epoch.pt'\n",
    "            torch.save(model.state_dict(), bmodel_path)\n",
    "            print(f'saved model: {bmodel_path}')\n",
    "        scheduler.step()"
   ]
  },
  {
   "cell_type": "code",
   "execution_count": 44,
   "id": "807422b2-5252-4db9-b0be-9cb65ea2ae27",
   "metadata": {},
   "outputs": [
    {
     "data": {
      "text/plain": [
       "[<matplotlib.lines.Line2D at 0x7f8b389f61f0>]"
      ]
     },
     "execution_count": 44,
     "metadata": {},
     "output_type": "execute_result"
    },
    {
     "data": {
      "image/png": "[encoded data removed]",
      "text/plain": [
       "<Figure size 640x480 with 1 Axes>"
      ]
     },
     "metadata": {},
     "output_type": "display_data"
    }
   ],
   "source": [
    "plt.plot(train_losses)"
   ]
  },
  {
   "cell_type": "code",
   "execution_count": 45,
   "id": "bd150585-bb0e-4beb-8a1f-fa36b42a3e19",
   "metadata": {},
   "outputs": [
    {
     "data": {
      "text/plain": [
       "[<matplotlib.lines.Line2D at 0x7f8b37160640>]"
      ]
     },
     "execution_count": 45,
     "metadata": {},
     "output_type": "execute_result"
    },
    {
     "data": {
      "image/png": "[encoded data removed]",
      "text/plain": [
       "<Figure size 640x480 with 1 Axes>"
      ]
     },
     "metadata": {},
     "output_type": "display_data"
    }
   ],
   "source": [
    "plt.plot(test_accuracy)"
   ]
  },
  {
   "cell_type": "code",
   "execution_count": 46,
   "id": "41509af8-a93d-4eec-a51b-34a970f2f19b",
   "metadata": {},
   "outputs": [
    {
     "name": "stdout",
     "output_type": "stream",
     "text": [
      "../models_cremad4/cremad_label4_m13mfcc_best_37epoch.pt\n",
      "Correct: 614/976 (0.6291)\n",
      "{'acc_detail': tensor([0.7126, 0.5370, 0.7480, 0.5040], device='cuda:0'),\n",
      " 'acc_unweighted': tensor(0.6254, device='cuda:0'),\n",
      " 'acc_weighted': tensor(0.6291, device='cuda:0'),\n",
      " 'f1s_detail': tensor([0.7183, 0.5309, 0.7280, 0.5194], device='cuda:0'),\n",
      " 'f1s_unweighted': tensor(0.6241, device='cuda:0'),\n",
      " 'f1s_weighted': tensor(0.6280, device='cuda:0'),\n",
      " 'precision_detail': tensor([0.7240, 0.5249, 0.7090, 0.5359], device='cuda:0'),\n",
      " 'recall_detail': tensor([0.7126, 0.5370, 0.7480, 0.5040], device='cuda:0'),\n",
      " 'rocauc': tensor(0.8527, device='cuda:0'),\n",
      " 'rocauc_detail': tensor([0.9103, 0.8154, 0.9152, 0.7700], device='cuda:0'),\n",
      " 'uar': tensor(0.6254, device='cuda:0'),\n",
      " 'wap': tensor(0.6274, device='cuda:0')}\n"
     ]
    },
    {
     "data": {
      "text/plain": [
       "tensor([[181,  12,   7,  54],\n",
       "        [ 15, 116,  45,  40],\n",
       "        [  4,  44, 190,  16],\n",
       "        [ 50,  49,  26, 127]], device='cuda:0')"
      ]
     },
     "execution_count": 46,
     "metadata": {},
     "output_type": "execute_result"
    }
   ],
   "source": [
    "model.to('cpu')\n",
    "best_model_path = f'{model_path_prefix}{best_epoch}epoch.pt'\n",
    "print(best_model_path)\n",
    "best_model = M13(config=model_config,\n",
    "           n_input=1, n_output=len(labels))\n",
    "best_model.load_state_dict(torch.load(best_model_path))\n",
    "best_model.to(device)\n",
    "\n",
    "metrics_best, confusion_matrix_best = report_metrics(\n",
    "    best_model, labels=labels, device=device)\n",
    "best_model.to('cpu')\n",
    "pprint(metrics_best.compute())\n",
    "confusion_matrix_best.compute()"
   ]
  },
  {
   "cell_type": "code",
   "execution_count": 47,
   "id": "90ab40fb-89b6-4c7a-9fe0-b9de3faef410",
   "metadata": {},
   "outputs": [],
   "source": [
    "checkpoint_path = f'../models_cremad4/cremad4_m13mfcc_{epoch}epoch.ckpt'\n",
    "torch.save({\n",
    "    'epoch': epoch,\n",
    "    'model_state_dict': model.state_dict(),\n",
    "    'optimizer_state_dict': optimizer.state_dict(),\n",
    "    'loss': train_losses[-1],\n",
    "    'best_epoch': best_epoch,\n",
    "    'best_accuracy': best_accuracy,\n",
    "    'train_losses': train_losses,\n",
    "    'test_accuracy': test_accuracy,\n",
    "    'log_interval': log_interval,\n",
    "    }, checkpoint_path)"
   ]
  },
  {
   "cell_type": "code",
   "execution_count": 48,
   "id": "9257c9bf-6165-4342-90f6-bf0dcd932d7e",
   "metadata": {},
   "outputs": [
    {
     "data": {
      "text/plain": [
       "M13mfcc(\n",
       "  (mfcc): MFCC(\n",
       "    (amplitude_to_DB): AmplitudeToDB()\n",
       "    (MelSpectrogram): MelSpectrogram(\n",
       "      (spectrogram): Spectrogram()\n",
       "      (mel_scale): MelScale()\n",
       "    )\n",
       "  )\n",
       "  (cls_head): Classifier(\n",
       "    (blocks): ModuleList(\n",
       "      (0): Sequential(\n",
       "        (norm): LayerNorm((40,), eps=1e-05, elementwise_affine=True)\n",
       "        (layer): Linear(in_features=40, out_features=256, bias=True)\n",
       "      )\n",
       "      (1): Sequential(\n",
       "        (norm): LayerNorm((256,), eps=1e-05, elementwise_affine=True)\n",
       "        (layer): Linear(in_features=256, out_features=256, bias=True)\n",
       "      )\n",
       "    )\n",
       "    (act): LeakyReLU(negative_slope=0.01)\n",
       "    (output_layer): Linear(in_features=256, out_features=4, bias=True)\n",
       "  )\n",
       ")"
      ]
     },
     "execution_count": 48,
     "metadata": {},
     "output_type": "execute_result"
    }
   ],
   "source": [
    "model"
   ]
  },
  {
   "cell_type": "code",
   "execution_count": 49,
   "id": "47f16775-c281-4425-9218-07a3d657f68e",
   "metadata": {},
   "outputs": [],
   "source": [
    "from IConNet.visualizer import display_module"
   ]
  },
  {
   "cell_type": "code",
   "execution_count": 50,
   "id": "ac2cb8e3-03bf-4e5e-b68b-90ef391bbf5e",
   "metadata": {},
   "outputs": [
    {
     "name": "stdout",
     "output_type": "stream",
     "text": [
      "aten::mean %x : Float(1, 40, strides=[40, 1], requires_grad=0, device=cuda:0) = aten::mean(%x.7, %197, %198, %199) # /opt/anaconda3/envs/audio/lib/python3.9/site-packages/einops/_backends.py:247:0\n",
      "\n"
     ]
    },
    {
     "data": {
      "image/svg+xml": [
       "<?xml version=\"1.0\" encoding=\"UTF-8\" standalone=\"no\"?>\n",
       "<!DOCTYPE svg PUBLIC \"-//W3C//DTD SVG 1.1//EN\"\n",
       " \"http://www.w3.org/Graphics/SVG/1.1/DTD/svg11.dtd\">\n",
       "<!-- Generated by graphviz version 2.43.0 (0)\n",
       " -->\n",
       "<!-- Title: %3 Pages: 1 -->\n",
       "<svg width=\"167pt\" height=\"355pt\"\n",
       " viewBox=\"0.00 0.00 167.00 355.00\" xmlns=\"http://www.w3.org/2000/svg\" xmlns:xlink=\"http://www.w3.org/1999/xlink\">\n",
       "<g id=\"graph0\" class=\"graph\" transform=\"scale(1 1) rotate(0) translate(4 351)\">\n",
       "<title>%3</title>\n",
       "<polygon fill=\"white\" stroke=\"transparent\" points=\"-4,4 -4,-351 163,-351 163,4 -4,4\"/>\n",
       "<text text-anchor=\"middle\" x=\"79.5\" y=\"-331.8\" font-family=\"Times,serif\" font-size=\"14.00\">M13mfcc</text>\n",
       "<!-- inp_x.1 -->\n",
       "<g id=\"node1\" class=\"node\">\n",
       "<title>inp_x.1</title>\n",
       "<ellipse fill=\"none\" stroke=\"black\" cx=\"79.5\" cy=\"-306\" rx=\"44.39\" ry=\"18\"/>\n",
       "<text text-anchor=\"middle\" x=\"79.5\" y=\"-302.3\" font-family=\"Times,serif\" font-size=\"14.00\">inp_x.1</text>\n",
       "</g>\n",
       "<!-- .279 -->\n",
       "<g id=\"node2\" class=\"node\">\n",
       "<title>.279</title>\n",
       "<polygon fill=\"none\" stroke=\"black\" points=\"134.5,-252 24.5,-252 24.5,-216 134.5,-216 134.5,-252\"/>\n",
       "<text text-anchor=\"middle\" x=\"79.5\" y=\"-230.3\" font-family=\"Times,serif\" font-size=\"14.00\">mfcc (MFCC)</text>\n",
       "</g>\n",
       "<!-- inp_x.1&#45;&gt;.279 -->\n",
       "<g id=\"edge1\" class=\"edge\">\n",
       "<title>inp_x.1&#45;&gt;.279</title>\n",
       "<path fill=\"none\" stroke=\"black\" d=\"M79.5,-287.7C79.5,-279.98 79.5,-270.71 79.5,-262.11\"/>\n",
       "<polygon fill=\"black\" stroke=\"black\" points=\"83,-262.1 79.5,-252.1 76,-262.1 83,-262.1\"/>\n",
       "</g>\n",
       "<!-- x -->\n",
       "<g id=\"node4\" class=\"node\">\n",
       "<title>x</title>\n",
       "<path fill=\"none\" stroke=\"black\" d=\"M95.5,-180C95.5,-180 63.5,-180 63.5,-180 57.5,-180 51.5,-174 51.5,-168 51.5,-168 51.5,-156 51.5,-156 51.5,-150 57.5,-144 63.5,-144 63.5,-144 95.5,-144 95.5,-144 101.5,-144 107.5,-150 107.5,-156 107.5,-156 107.5,-168 107.5,-168 107.5,-174 101.5,-180 95.5,-180\"/>\n",
       "<text text-anchor=\"middle\" x=\"79.5\" y=\"-158.3\" font-family=\"Times,serif\" font-size=\"14.00\">mean</text>\n",
       "</g>\n",
       "<!-- .279&#45;&gt;x -->\n",
       "<g id=\"edge2\" class=\"edge\">\n",
       "<title>.279&#45;&gt;x</title>\n",
       "<path fill=\"none\" stroke=\"black\" d=\"M79.5,-215.7C79.5,-207.98 79.5,-198.71 79.5,-190.11\"/>\n",
       "<polygon fill=\"black\" stroke=\"black\" points=\"83,-190.1 79.5,-180.1 76,-190.1 83,-190.1\"/>\n",
       "</g>\n",
       "<!-- .280 -->\n",
       "<g id=\"node3\" class=\"node\">\n",
       "<title>.280</title>\n",
       "<polygon fill=\"none\" stroke=\"black\" points=\"159,-108 0,-108 0,-72 159,-72 159,-108\"/>\n",
       "<text text-anchor=\"middle\" x=\"79.5\" y=\"-86.3\" font-family=\"Times,serif\" font-size=\"14.00\">cls_head (Classifier)</text>\n",
       "</g>\n",
       "<!-- out_0 -->\n",
       "<g id=\"node5\" class=\"node\">\n",
       "<title>out_0</title>\n",
       "<ellipse fill=\"none\" stroke=\"black\" cx=\"79.5\" cy=\"-18\" rx=\"36.29\" ry=\"18\"/>\n",
       "<text text-anchor=\"middle\" x=\"79.5\" y=\"-14.3\" font-family=\"Times,serif\" font-size=\"14.00\">out_0</text>\n",
       "</g>\n",
       "<!-- .280&#45;&gt;out_0 -->\n",
       "<g id=\"edge4\" class=\"edge\">\n",
       "<title>.280&#45;&gt;out_0</title>\n",
       "<path fill=\"none\" stroke=\"black\" d=\"M79.5,-71.7C79.5,-63.98 79.5,-54.71 79.5,-46.11\"/>\n",
       "<polygon fill=\"black\" stroke=\"black\" points=\"83,-46.1 79.5,-36.1 76,-46.1 83,-46.1\"/>\n",
       "</g>\n",
       "<!-- x&#45;&gt;.280 -->\n",
       "<g id=\"edge3\" class=\"edge\">\n",
       "<title>x&#45;&gt;.280</title>\n",
       "<path fill=\"none\" stroke=\"black\" d=\"M79.5,-143.7C79.5,-135.98 79.5,-126.71 79.5,-118.11\"/>\n",
       "<polygon fill=\"black\" stroke=\"black\" points=\"83,-118.1 79.5,-108.1 76,-118.1 83,-118.1\"/>\n",
       "</g>\n",
       "</g>\n",
       "</svg>\n"
      ],
      "text/plain": [
       "<graphviz.graphs.Digraph at 0x7f8b36d8ed90>"
      ]
     },
     "execution_count": 50,
     "metadata": {},
     "output_type": "execute_result"
    }
   ],
   "source": [
    "input_shape = (1,1,16000)\n",
    "model.to(device)\n",
    "input = torch.rand(input_shape).to(device)\n",
    "display_module(\n",
    "    model, input, \n",
    "    classes_to_visit={})"
   ]
  },
  {
   "cell_type": "code",
   "execution_count": 51,
   "id": "be1a8ea7-cc0a-41f7-9a86-240212e9f840",
   "metadata": {},
   "outputs": [
    {
     "name": "stdout",
     "output_type": "stream",
     "text": [
      "aten::matmul %10 : Float(1, 1, 122, 40, strides=[4880, 4880, 40, 1], requires_grad=0, device=cuda:0) = aten::matmul(%9, %dct_mat), scope: __module.mfcc # /opt/anaconda3/envs/audio/lib/python3.9/site-packages/torchaudio/transforms/_transforms.py:707:0\n",
      "\n",
      "aten::mean %x : Float(1, 40, strides=[40, 1], requires_grad=0, device=cuda:0) = aten::mean(%x.7, %197, %198, %199) # /opt/anaconda3/envs/audio/lib/python3.9/site-packages/einops/_backends.py:247:0\n",
      "\n"
     ]
    },
    {
     "data": {
      "image/svg+xml": [
       "<?xml version=\"1.0\" encoding=\"UTF-8\" standalone=\"no\"?>\n",
       "<!DOCTYPE svg PUBLIC \"-//W3C//DTD SVG 1.1//EN\"\n",
       " \"http://www.w3.org/Graphics/SVG/1.1/DTD/svg11.dtd\">\n",
       "<!-- Generated by graphviz version 2.43.0 (0)\n",
       " -->\n",
       "<!-- Title: %3 Pages: 1 -->\n",
       "<svg width=\"350pt\" height=\"646pt\"\n",
       " viewBox=\"0.00 0.00 350.00 646.00\" xmlns=\"http://www.w3.org/2000/svg\" xmlns:xlink=\"http://www.w3.org/1999/xlink\">\n",
       "<g id=\"graph0\" class=\"graph\" transform=\"scale(1 1) rotate(0) translate(4 642)\">\n",
       "<title>%3</title>\n",
       "<polygon fill=\"white\" stroke=\"transparent\" points=\"-4,4 -4,-642 346,-642 346,4 -4,4\"/>\n",
       "<text text-anchor=\"middle\" x=\"171\" y=\"-622.8\" font-family=\"Times,serif\" font-size=\"14.00\">M13mfcc</text>\n",
       "<g id=\"clust1\" class=\"cluster\">\n",
       "<title>cluster_.279</title>\n",
       "<polygon fill=\"none\" stroke=\"black\" points=\"8,-208 8,-571 334,-571 334,-208 8,-208\"/>\n",
       "<text text-anchor=\"middle\" x=\"171\" y=\"-555.8\" font-family=\"Times,serif\" font-size=\"14.00\">mfcc (MFCC)</text>\n",
       "</g>\n",
       "<!-- inp_x.1 -->\n",
       "<g id=\"node1\" class=\"node\">\n",
       "<title>inp_x.1</title>\n",
       "<ellipse fill=\"none\" stroke=\"black\" cx=\"171\" cy=\"-597\" rx=\"44.39\" ry=\"18\"/>\n",
       "<text text-anchor=\"middle\" x=\"171\" y=\"-593.3\" font-family=\"Times,serif\" font-size=\"14.00\">inp_x.1</text>\n",
       "</g>\n",
       "<!-- mfcc.inp_x.1 -->\n",
       "<g id=\"node2\" class=\"node\">\n",
       "<title>mfcc.inp_x.1</title>\n",
       "<ellipse fill=\"none\" stroke=\"black\" cx=\"171\" cy=\"-522\" rx=\"68.79\" ry=\"18\"/>\n",
       "<text text-anchor=\"middle\" x=\"171\" y=\"-518.3\" font-family=\"Times,serif\" font-size=\"14.00\">mfcc.inp_x.1</text>\n",
       "</g>\n",
       "<!-- inp_x.1&#45;&gt;mfcc.inp_x.1 -->\n",
       "<g id=\"edge1\" class=\"edge\">\n",
       "<title>inp_x.1&#45;&gt;mfcc.inp_x.1</title>\n",
       "<path fill=\"none\" stroke=\"black\" d=\"M171,-578.7C171,-570.25 171,-559.87 171,-550.37\"/>\n",
       "<polygon fill=\"black\" stroke=\"black\" points=\"174.5,-550.18 171,-540.18 167.5,-550.18 174.5,-550.18\"/>\n",
       "</g>\n",
       "<!-- mfcc..14 -->\n",
       "<g id=\"node3\" class=\"node\">\n",
       "<title>mfcc..14</title>\n",
       "<polygon fill=\"none\" stroke=\"black\" points=\"326,-468 16,-468 16,-432 326,-432 326,-468\"/>\n",
       "<text text-anchor=\"middle\" x=\"171\" y=\"-446.3\" font-family=\"Times,serif\" font-size=\"14.00\">mfcc.MelSpectrogram (MelSpectrogram)</text>\n",
       "</g>\n",
       "<!-- mfcc.inp_x.1&#45;&gt;mfcc..14 -->\n",
       "<g id=\"edge2\" class=\"edge\">\n",
       "<title>mfcc.inp_x.1&#45;&gt;mfcc..14</title>\n",
       "<path fill=\"none\" stroke=\"black\" d=\"M171,-503.7C171,-495.98 171,-486.71 171,-478.11\"/>\n",
       "<polygon fill=\"black\" stroke=\"black\" points=\"174.5,-478.1 171,-468.1 167.5,-478.1 174.5,-478.1\"/>\n",
       "</g>\n",
       "<!-- mfcc..15 -->\n",
       "<g id=\"node4\" class=\"node\">\n",
       "<title>mfcc..15</title>\n",
       "<polygon fill=\"none\" stroke=\"black\" points=\"322.5,-396 19.5,-396 19.5,-360 322.5,-360 322.5,-396\"/>\n",
       "<text text-anchor=\"middle\" x=\"171\" y=\"-374.3\" font-family=\"Times,serif\" font-size=\"14.00\">mfcc.amplitude_to_DB (AmplitudeToDB)</text>\n",
       "</g>\n",
       "<!-- mfcc..14&#45;&gt;mfcc..15 -->\n",
       "<g id=\"edge3\" class=\"edge\">\n",
       "<title>mfcc..14&#45;&gt;mfcc..15</title>\n",
       "<path fill=\"none\" stroke=\"black\" d=\"M171,-431.7C171,-423.98 171,-414.71 171,-406.11\"/>\n",
       "<polygon fill=\"black\" stroke=\"black\" points=\"174.5,-406.1 171,-396.1 167.5,-406.1 174.5,-406.1\"/>\n",
       "</g>\n",
       "<!-- inp_mfcc.out_0 -->\n",
       "<g id=\"node6\" class=\"node\">\n",
       "<title>inp_mfcc.out_0</title>\n",
       "<path fill=\"none\" stroke=\"black\" d=\"M194.5,-324C194.5,-324 147.5,-324 147.5,-324 141.5,-324 135.5,-318 135.5,-312 135.5,-312 135.5,-300 135.5,-300 135.5,-294 141.5,-288 147.5,-288 147.5,-288 194.5,-288 194.5,-288 200.5,-288 206.5,-294 206.5,-300 206.5,-300 206.5,-312 206.5,-312 206.5,-318 200.5,-324 194.5,-324\"/>\n",
       "<text text-anchor=\"middle\" x=\"171\" y=\"-302.3\" font-family=\"Times,serif\" font-size=\"14.00\">matmul</text>\n",
       "</g>\n",
       "<!-- mfcc..15&#45;&gt;inp_mfcc.out_0 -->\n",
       "<g id=\"edge4\" class=\"edge\">\n",
       "<title>mfcc..15&#45;&gt;inp_mfcc.out_0</title>\n",
       "<path fill=\"none\" stroke=\"black\" d=\"M171,-359.7C171,-351.98 171,-342.71 171,-334.11\"/>\n",
       "<polygon fill=\"black\" stroke=\"black\" points=\"174.5,-334.1 171,-324.1 167.5,-334.1 174.5,-334.1\"/>\n",
       "</g>\n",
       "<!-- mfcc.out_0 -->\n",
       "<g id=\"node5\" class=\"node\">\n",
       "<title>mfcc.out_0</title>\n",
       "<ellipse fill=\"none\" stroke=\"black\" cx=\"171\" cy=\"-234\" rx=\"61.19\" ry=\"18\"/>\n",
       "<text text-anchor=\"middle\" x=\"171\" y=\"-230.3\" font-family=\"Times,serif\" font-size=\"14.00\">mfcc.out_0</text>\n",
       "</g>\n",
       "<!-- x -->\n",
       "<g id=\"node8\" class=\"node\">\n",
       "<title>x</title>\n",
       "<path fill=\"none\" stroke=\"black\" d=\"M187,-180C187,-180 155,-180 155,-180 149,-180 143,-174 143,-168 143,-168 143,-156 143,-156 143,-150 149,-144 155,-144 155,-144 187,-144 187,-144 193,-144 199,-150 199,-156 199,-156 199,-168 199,-168 199,-174 193,-180 187,-180\"/>\n",
       "<text text-anchor=\"middle\" x=\"171\" y=\"-158.3\" font-family=\"Times,serif\" font-size=\"14.00\">mean</text>\n",
       "</g>\n",
       "<!-- mfcc.out_0&#45;&gt;x -->\n",
       "<g id=\"edge6\" class=\"edge\">\n",
       "<title>mfcc.out_0&#45;&gt;x</title>\n",
       "<path fill=\"none\" stroke=\"black\" d=\"M171,-215.7C171,-207.98 171,-198.71 171,-190.11\"/>\n",
       "<polygon fill=\"black\" stroke=\"black\" points=\"174.5,-190.1 171,-180.1 167.5,-190.1 174.5,-190.1\"/>\n",
       "</g>\n",
       "<!-- inp_mfcc.out_0&#45;&gt;mfcc.out_0 -->\n",
       "<g id=\"edge5\" class=\"edge\">\n",
       "<title>inp_mfcc.out_0&#45;&gt;mfcc.out_0</title>\n",
       "<path fill=\"none\" stroke=\"black\" d=\"M171,-287.7C171,-279.98 171,-270.71 171,-262.11\"/>\n",
       "<polygon fill=\"black\" stroke=\"black\" points=\"174.5,-262.1 171,-252.1 167.5,-262.1 174.5,-262.1\"/>\n",
       "</g>\n",
       "<!-- .280 -->\n",
       "<g id=\"node7\" class=\"node\">\n",
       "<title>.280</title>\n",
       "<polygon fill=\"none\" stroke=\"black\" points=\"250.5,-108 91.5,-108 91.5,-72 250.5,-72 250.5,-108\"/>\n",
       "<text text-anchor=\"middle\" x=\"171\" y=\"-86.3\" font-family=\"Times,serif\" font-size=\"14.00\">cls_head (Classifier)</text>\n",
       "</g>\n",
       "<!-- out_0 -->\n",
       "<g id=\"node9\" class=\"node\">\n",
       "<title>out_0</title>\n",
       "<ellipse fill=\"none\" stroke=\"black\" cx=\"171\" cy=\"-18\" rx=\"36.29\" ry=\"18\"/>\n",
       "<text text-anchor=\"middle\" x=\"171\" y=\"-14.3\" font-family=\"Times,serif\" font-size=\"14.00\">out_0</text>\n",
       "</g>\n",
       "<!-- .280&#45;&gt;out_0 -->\n",
       "<g id=\"edge8\" class=\"edge\">\n",
       "<title>.280&#45;&gt;out_0</title>\n",
       "<path fill=\"none\" stroke=\"black\" d=\"M171,-71.7C171,-63.98 171,-54.71 171,-46.11\"/>\n",
       "<polygon fill=\"black\" stroke=\"black\" points=\"174.5,-46.1 171,-36.1 167.5,-46.1 174.5,-46.1\"/>\n",
       "</g>\n",
       "<!-- x&#45;&gt;.280 -->\n",
       "<g id=\"edge7\" class=\"edge\">\n",
       "<title>x&#45;&gt;.280</title>\n",
       "<path fill=\"none\" stroke=\"black\" d=\"M171,-143.7C171,-135.98 171,-126.71 171,-118.11\"/>\n",
       "<polygon fill=\"black\" stroke=\"black\" points=\"174.5,-118.1 171,-108.1 167.5,-118.1 174.5,-118.1\"/>\n",
       "</g>\n",
       "</g>\n",
       "</svg>\n"
      ],
      "text/plain": [
       "<graphviz.graphs.Digraph at 0x7f8b36de34f0>"
      ]
     },
     "execution_count": 51,
     "metadata": {},
     "output_type": "execute_result"
    }
   ],
   "source": [
    "display_module(\n",
    "    model, input, \n",
    "    classes_to_visit={\"MFCC\"})"
   ]
  },
  {
   "cell_type": "code",
   "execution_count": 52,
   "id": "b65164af-8168-415d-a77c-ed9346e9d921",
   "metadata": {},
   "outputs": [
    {
     "name": "stdout",
     "output_type": "stream",
     "text": [
      "aten::matmul %10 : Float(1, 1, 122, 40, strides=[4880, 4880, 40, 1], requires_grad=0, device=cuda:0) = aten::matmul(%9, %dct_mat), scope: __module.mfcc # /opt/anaconda3/envs/audio/lib/python3.9/site-packages/torchaudio/transforms/_transforms.py:707:0\n",
      "\n",
      "aten::mean %x : Float(1, 40, strides=[40, 1], requires_grad=0, device=cuda:0) = aten::mean(%x.7, %197, %198, %199) # /opt/anaconda3/envs/audio/lib/python3.9/site-packages/einops/_backends.py:247:0\n",
      "\n"
     ]
    },
    {
     "data": {
      "image/svg+xml": [
       "<?xml version=\"1.0\" encoding=\"UTF-8\" standalone=\"no\"?>\n",
       "<!DOCTYPE svg PUBLIC \"-//W3C//DTD SVG 1.1//EN\"\n",
       " \"http://www.w3.org/Graphics/SVG/1.1/DTD/svg11.dtd\">\n",
       "<!-- Generated by graphviz version 2.43.0 (0)\n",
       " -->\n",
       "<!-- Title: %3 Pages: 1 -->\n",
       "<svg width=\"434pt\" height=\"865pt\"\n",
       " viewBox=\"0.00 0.00 434.00 865.00\" xmlns=\"http://www.w3.org/2000/svg\" xmlns:xlink=\"http://www.w3.org/1999/xlink\">\n",
       "<g id=\"graph0\" class=\"graph\" transform=\"scale(1 1) rotate(0) translate(4 861)\">\n",
       "<title>%3</title>\n",
       "<polygon fill=\"white\" stroke=\"transparent\" points=\"-4,4 -4,-861 430,-861 430,4 -4,4\"/>\n",
       "<text text-anchor=\"middle\" x=\"213\" y=\"-841.8\" font-family=\"Times,serif\" font-size=\"14.00\">M13mfcc</text>\n",
       "<g id=\"clust1\" class=\"cluster\">\n",
       "<title>cluster_.279</title>\n",
       "<polygon fill=\"none\" stroke=\"black\" points=\"8,-208 8,-790 418,-790 418,-208 8,-208\"/>\n",
       "<text text-anchor=\"middle\" x=\"213\" y=\"-774.8\" font-family=\"Times,serif\" font-size=\"14.00\">mfcc (MFCC)</text>\n",
       "</g>\n",
       "<g id=\"clust2\" class=\"cluster\">\n",
       "<title>cluster_mfcc..14</title>\n",
       "<polygon fill=\"none\" stroke=\"black\" points=\"16,-424 16,-715 410,-715 410,-424 16,-424\"/>\n",
       "<text text-anchor=\"middle\" x=\"213\" y=\"-699.8\" font-family=\"Times,serif\" font-size=\"14.00\">mfcc.MelSpectrogram (MelSpectrogram)</text>\n",
       "</g>\n",
       "<!-- inp_x.1 -->\n",
       "<g id=\"node1\" class=\"node\">\n",
       "<title>inp_x.1</title>\n",
       "<ellipse fill=\"none\" stroke=\"black\" cx=\"213\" cy=\"-816\" rx=\"44.39\" ry=\"18\"/>\n",
       "<text text-anchor=\"middle\" x=\"213\" y=\"-812.3\" font-family=\"Times,serif\" font-size=\"14.00\">inp_x.1</text>\n",
       "</g>\n",
       "<!-- mfcc.inp_x.1 -->\n",
       "<g id=\"node2\" class=\"node\">\n",
       "<title>mfcc.inp_x.1</title>\n",
       "<ellipse fill=\"none\" stroke=\"black\" cx=\"213\" cy=\"-741\" rx=\"68.79\" ry=\"18\"/>\n",
       "<text text-anchor=\"middle\" x=\"213\" y=\"-737.3\" font-family=\"Times,serif\" font-size=\"14.00\">mfcc.inp_x.1</text>\n",
       "</g>\n",
       "<!-- inp_x.1&#45;&gt;mfcc.inp_x.1 -->\n",
       "<g id=\"edge1\" class=\"edge\">\n",
       "<title>inp_x.1&#45;&gt;mfcc.inp_x.1</title>\n",
       "<path fill=\"none\" stroke=\"black\" d=\"M213,-797.7C213,-789.25 213,-778.87 213,-769.37\"/>\n",
       "<polygon fill=\"black\" stroke=\"black\" points=\"216.5,-769.18 213,-759.18 209.5,-769.18 216.5,-769.18\"/>\n",
       "</g>\n",
       "<!-- mfcc.MelSpectrogram.inp_x.1 -->\n",
       "<g id=\"node3\" class=\"node\">\n",
       "<title>mfcc.MelSpectrogram.inp_x.1</title>\n",
       "<ellipse fill=\"none\" stroke=\"black\" cx=\"213\" cy=\"-666\" rx=\"149.47\" ry=\"18\"/>\n",
       "<text text-anchor=\"middle\" x=\"213\" y=\"-662.3\" font-family=\"Times,serif\" font-size=\"14.00\">mfcc.MelSpectrogram.inp_x.1</text>\n",
       "</g>\n",
       "<!-- mfcc.inp_x.1&#45;&gt;mfcc.MelSpectrogram.inp_x.1 -->\n",
       "<g id=\"edge2\" class=\"edge\">\n",
       "<title>mfcc.inp_x.1&#45;&gt;mfcc.MelSpectrogram.inp_x.1</title>\n",
       "<path fill=\"none\" stroke=\"black\" d=\"M213,-722.7C213,-714.25 213,-703.87 213,-694.37\"/>\n",
       "<polygon fill=\"black\" stroke=\"black\" points=\"216.5,-694.18 213,-684.18 209.5,-694.18 216.5,-694.18\"/>\n",
       "</g>\n",
       "<!-- mfcc.MelSpectrogram..6 -->\n",
       "<g id=\"node4\" class=\"node\">\n",
       "<title>mfcc.MelSpectrogram..6</title>\n",
       "<polygon fill=\"none\" stroke=\"black\" points=\"402,-612 24,-612 24,-576 402,-576 402,-612\"/>\n",
       "<text text-anchor=\"middle\" x=\"213\" y=\"-590.3\" font-family=\"Times,serif\" font-size=\"14.00\">mfcc.MelSpectrogram.spectrogram (Spectrogram)</text>\n",
       "</g>\n",
       "<!-- mfcc.MelSpectrogram.inp_x.1&#45;&gt;mfcc.MelSpectrogram..6 -->\n",
       "<g id=\"edge3\" class=\"edge\">\n",
       "<title>mfcc.MelSpectrogram.inp_x.1&#45;&gt;mfcc.MelSpectrogram..6</title>\n",
       "<path fill=\"none\" stroke=\"black\" d=\"M213,-647.7C213,-639.98 213,-630.71 213,-622.11\"/>\n",
       "<polygon fill=\"black\" stroke=\"black\" points=\"216.5,-622.1 213,-612.1 209.5,-622.1 216.5,-622.1\"/>\n",
       "</g>\n",
       "<!-- mfcc.MelSpectrogram..7 -->\n",
       "<g id=\"node5\" class=\"node\">\n",
       "<title>mfcc.MelSpectrogram..7</title>\n",
       "<polygon fill=\"none\" stroke=\"black\" points=\"377.5,-540 48.5,-540 48.5,-504 377.5,-504 377.5,-540\"/>\n",
       "<text text-anchor=\"middle\" x=\"213\" y=\"-518.3\" font-family=\"Times,serif\" font-size=\"14.00\">mfcc.MelSpectrogram.mel_scale (MelScale)</text>\n",
       "</g>\n",
       "<!-- mfcc.MelSpectrogram..6&#45;&gt;mfcc.MelSpectrogram..7 -->\n",
       "<g id=\"edge4\" class=\"edge\">\n",
       "<title>mfcc.MelSpectrogram..6&#45;&gt;mfcc.MelSpectrogram..7</title>\n",
       "<path fill=\"none\" stroke=\"black\" d=\"M213,-575.7C213,-567.98 213,-558.71 213,-550.11\"/>\n",
       "<polygon fill=\"black\" stroke=\"black\" points=\"216.5,-550.1 213,-540.1 209.5,-550.1 216.5,-550.1\"/>\n",
       "</g>\n",
       "<!-- mfcc.MelSpectrogram.out_0 -->\n",
       "<g id=\"node6\" class=\"node\">\n",
       "<title>mfcc.MelSpectrogram.out_0</title>\n",
       "<ellipse fill=\"none\" stroke=\"black\" cx=\"213\" cy=\"-450\" rx=\"141.88\" ry=\"18\"/>\n",
       "<text text-anchor=\"middle\" x=\"213\" y=\"-446.3\" font-family=\"Times,serif\" font-size=\"14.00\">mfcc.MelSpectrogram.out_0</text>\n",
       "</g>\n",
       "<!-- mfcc.MelSpectrogram..7&#45;&gt;mfcc.MelSpectrogram.out_0 -->\n",
       "<g id=\"edge5\" class=\"edge\">\n",
       "<title>mfcc.MelSpectrogram..7&#45;&gt;mfcc.MelSpectrogram.out_0</title>\n",
       "<path fill=\"none\" stroke=\"black\" d=\"M213,-503.7C213,-495.98 213,-486.71 213,-478.11\"/>\n",
       "<polygon fill=\"black\" stroke=\"black\" points=\"216.5,-478.1 213,-468.1 209.5,-478.1 216.5,-478.1\"/>\n",
       "</g>\n",
       "<!-- mfcc..15 -->\n",
       "<g id=\"node7\" class=\"node\">\n",
       "<title>mfcc..15</title>\n",
       "<polygon fill=\"none\" stroke=\"black\" points=\"364.5,-396 61.5,-396 61.5,-360 364.5,-360 364.5,-396\"/>\n",
       "<text text-anchor=\"middle\" x=\"213\" y=\"-374.3\" font-family=\"Times,serif\" font-size=\"14.00\">mfcc.amplitude_to_DB (AmplitudeToDB)</text>\n",
       "</g>\n",
       "<!-- mfcc.MelSpectrogram.out_0&#45;&gt;mfcc..15 -->\n",
       "<g id=\"edge6\" class=\"edge\">\n",
       "<title>mfcc.MelSpectrogram.out_0&#45;&gt;mfcc..15</title>\n",
       "<path fill=\"none\" stroke=\"black\" d=\"M213,-431.7C213,-423.98 213,-414.71 213,-406.11\"/>\n",
       "<polygon fill=\"black\" stroke=\"black\" points=\"216.5,-406.1 213,-396.1 209.5,-406.1 216.5,-406.1\"/>\n",
       "</g>\n",
       "<!-- inp_mfcc.out_0 -->\n",
       "<g id=\"node9\" class=\"node\">\n",
       "<title>inp_mfcc.out_0</title>\n",
       "<path fill=\"none\" stroke=\"black\" d=\"M236.5,-324C236.5,-324 189.5,-324 189.5,-324 183.5,-324 177.5,-318 177.5,-312 177.5,-312 177.5,-300 177.5,-300 177.5,-294 183.5,-288 189.5,-288 189.5,-288 236.5,-288 236.5,-288 242.5,-288 248.5,-294 248.5,-300 248.5,-300 248.5,-312 248.5,-312 248.5,-318 242.5,-324 236.5,-324\"/>\n",
       "<text text-anchor=\"middle\" x=\"213\" y=\"-302.3\" font-family=\"Times,serif\" font-size=\"14.00\">matmul</text>\n",
       "</g>\n",
       "<!-- mfcc..15&#45;&gt;inp_mfcc.out_0 -->\n",
       "<g id=\"edge7\" class=\"edge\">\n",
       "<title>mfcc..15&#45;&gt;inp_mfcc.out_0</title>\n",
       "<path fill=\"none\" stroke=\"black\" d=\"M213,-359.7C213,-351.98 213,-342.71 213,-334.11\"/>\n",
       "<polygon fill=\"black\" stroke=\"black\" points=\"216.5,-334.1 213,-324.1 209.5,-334.1 216.5,-334.1\"/>\n",
       "</g>\n",
       "<!-- mfcc.out_0 -->\n",
       "<g id=\"node8\" class=\"node\">\n",
       "<title>mfcc.out_0</title>\n",
       "<ellipse fill=\"none\" stroke=\"black\" cx=\"213\" cy=\"-234\" rx=\"61.19\" ry=\"18\"/>\n",
       "<text text-anchor=\"middle\" x=\"213\" y=\"-230.3\" font-family=\"Times,serif\" font-size=\"14.00\">mfcc.out_0</text>\n",
       "</g>\n",
       "<!-- x -->\n",
       "<g id=\"node11\" class=\"node\">\n",
       "<title>x</title>\n",
       "<path fill=\"none\" stroke=\"black\" d=\"M229,-180C229,-180 197,-180 197,-180 191,-180 185,-174 185,-168 185,-168 185,-156 185,-156 185,-150 191,-144 197,-144 197,-144 229,-144 229,-144 235,-144 241,-150 241,-156 241,-156 241,-168 241,-168 241,-174 235,-180 229,-180\"/>\n",
       "<text text-anchor=\"middle\" x=\"213\" y=\"-158.3\" font-family=\"Times,serif\" font-size=\"14.00\">mean</text>\n",
       "</g>\n",
       "<!-- mfcc.out_0&#45;&gt;x -->\n",
       "<g id=\"edge9\" class=\"edge\">\n",
       "<title>mfcc.out_0&#45;&gt;x</title>\n",
       "<path fill=\"none\" stroke=\"black\" d=\"M213,-215.7C213,-207.98 213,-198.71 213,-190.11\"/>\n",
       "<polygon fill=\"black\" stroke=\"black\" points=\"216.5,-190.1 213,-180.1 209.5,-190.1 216.5,-190.1\"/>\n",
       "</g>\n",
       "<!-- inp_mfcc.out_0&#45;&gt;mfcc.out_0 -->\n",
       "<g id=\"edge8\" class=\"edge\">\n",
       "<title>inp_mfcc.out_0&#45;&gt;mfcc.out_0</title>\n",
       "<path fill=\"none\" stroke=\"black\" d=\"M213,-287.7C213,-279.98 213,-270.71 213,-262.11\"/>\n",
       "<polygon fill=\"black\" stroke=\"black\" points=\"216.5,-262.1 213,-252.1 209.5,-262.1 216.5,-262.1\"/>\n",
       "</g>\n",
       "<!-- .280 -->\n",
       "<g id=\"node10\" class=\"node\">\n",
       "<title>.280</title>\n",
       "<polygon fill=\"none\" stroke=\"black\" points=\"292.5,-108 133.5,-108 133.5,-72 292.5,-72 292.5,-108\"/>\n",
       "<text text-anchor=\"middle\" x=\"213\" y=\"-86.3\" font-family=\"Times,serif\" font-size=\"14.00\">cls_head (Classifier)</text>\n",
       "</g>\n",
       "<!-- out_0 -->\n",
       "<g id=\"node12\" class=\"node\">\n",
       "<title>out_0</title>\n",
       "<ellipse fill=\"none\" stroke=\"black\" cx=\"213\" cy=\"-18\" rx=\"36.29\" ry=\"18\"/>\n",
       "<text text-anchor=\"middle\" x=\"213\" y=\"-14.3\" font-family=\"Times,serif\" font-size=\"14.00\">out_0</text>\n",
       "</g>\n",
       "<!-- .280&#45;&gt;out_0 -->\n",
       "<g id=\"edge11\" class=\"edge\">\n",
       "<title>.280&#45;&gt;out_0</title>\n",
       "<path fill=\"none\" stroke=\"black\" d=\"M213,-71.7C213,-63.98 213,-54.71 213,-46.11\"/>\n",
       "<polygon fill=\"black\" stroke=\"black\" points=\"216.5,-46.1 213,-36.1 209.5,-46.1 216.5,-46.1\"/>\n",
       "</g>\n",
       "<!-- x&#45;&gt;.280 -->\n",
       "<g id=\"edge10\" class=\"edge\">\n",
       "<title>x&#45;&gt;.280</title>\n",
       "<path fill=\"none\" stroke=\"black\" d=\"M213,-143.7C213,-135.98 213,-126.71 213,-118.11\"/>\n",
       "<polygon fill=\"black\" stroke=\"black\" points=\"216.5,-118.1 213,-108.1 209.5,-118.1 216.5,-118.1\"/>\n",
       "</g>\n",
       "</g>\n",
       "</svg>\n"
      ],
      "text/plain": [
       "<graphviz.graphs.Digraph at 0x7f8b370c8730>"
      ]
     },
     "execution_count": 52,
     "metadata": {},
     "output_type": "execute_result"
    }
   ],
   "source": [
    "display_module(\n",
    "    model, input, \n",
    "    classes_to_visit={\"MFCC\", \"MelSpectrogram\"})"
   ]
  },
  {
   "cell_type": "code",
   "execution_count": 53,
   "id": "21878074-1ec7-41eb-b1cc-6ca1c332c1c8",
   "metadata": {},
   "outputs": [
    {
     "name": "stdout",
     "output_type": "stream",
     "text": [
      "aten::matmul %10 : Float(1, 1, 122, 40, strides=[4880, 4880, 40, 1], requires_grad=0, device=cuda:0) = aten::matmul(%9, %dct_mat), scope: __module.mfcc # /opt/anaconda3/envs/audio/lib/python3.9/site-packages/torchaudio/transforms/_transforms.py:707:0\n",
      "\n",
      "aten::mean %x : Float(1, 40, strides=[40, 1], requires_grad=0, device=cuda:0) = aten::mean(%x.7, %197, %198, %199) # /opt/anaconda3/envs/audio/lib/python3.9/site-packages/einops/_backends.py:247:0\n",
      "\n"
     ]
    },
    {
     "data": {
      "image/svg+xml": [
       "<?xml version=\"1.0\" encoding=\"UTF-8\" standalone=\"no\"?>\n",
       "<!DOCTYPE svg PUBLIC \"-//W3C//DTD SVG 1.1//EN\"\n",
       " \"http://www.w3.org/Graphics/SVG/1.1/DTD/svg11.dtd\">\n",
       "<!-- Generated by graphviz version 2.43.0 (0)\n",
       " -->\n",
       "<!-- Title: %3 Pages: 1 -->\n",
       "<svg width=\"434pt\" height=\"1228pt\"\n",
       " viewBox=\"0.00 0.00 434.00 1228.00\" xmlns=\"http://www.w3.org/2000/svg\" xmlns:xlink=\"http://www.w3.org/1999/xlink\">\n",
       "<g id=\"graph0\" class=\"graph\" transform=\"scale(1 1) rotate(0) translate(4 1224)\">\n",
       "<title>%3</title>\n",
       "<polygon fill=\"white\" stroke=\"transparent\" points=\"-4,4 -4,-1224 430,-1224 430,4 -4,4\"/>\n",
       "<text text-anchor=\"middle\" x=\"213\" y=\"-1204.8\" font-family=\"Times,serif\" font-size=\"14.00\">M13mfcc</text>\n",
       "<g id=\"clust1\" class=\"cluster\">\n",
       "<title>cluster_.279</title>\n",
       "<polygon fill=\"none\" stroke=\"black\" points=\"8,-571 8,-1153 418,-1153 418,-571 8,-571\"/>\n",
       "<text text-anchor=\"middle\" x=\"213\" y=\"-1137.8\" font-family=\"Times,serif\" font-size=\"14.00\">mfcc (MFCC)</text>\n",
       "</g>\n",
       "<g id=\"clust2\" class=\"cluster\">\n",
       "<title>cluster_mfcc..14</title>\n",
       "<polygon fill=\"none\" stroke=\"black\" points=\"16,-787 16,-1078 410,-1078 410,-787 16,-787\"/>\n",
       "<text text-anchor=\"middle\" x=\"213\" y=\"-1062.8\" font-family=\"Times,serif\" font-size=\"14.00\">mfcc.MelSpectrogram (MelSpectrogram)</text>\n",
       "</g>\n",
       "<g id=\"clust3\" class=\"cluster\">\n",
       "<title>cluster_.280</title>\n",
       "<polygon fill=\"none\" stroke=\"black\" points=\"89,-64 89,-499 337,-499 337,-64 89,-64\"/>\n",
       "<text text-anchor=\"middle\" x=\"213\" y=\"-483.8\" font-family=\"Times,serif\" font-size=\"14.00\">cls_head (Classifier)</text>\n",
       "</g>\n",
       "<!-- inp_x.1 -->\n",
       "<g id=\"node1\" class=\"node\">\n",
       "<title>inp_x.1</title>\n",
       "<ellipse fill=\"none\" stroke=\"black\" cx=\"213\" cy=\"-1179\" rx=\"44.39\" ry=\"18\"/>\n",
       "<text text-anchor=\"middle\" x=\"213\" y=\"-1175.3\" font-family=\"Times,serif\" font-size=\"14.00\">inp_x.1</text>\n",
       "</g>\n",
       "<!-- mfcc.inp_x.1 -->\n",
       "<g id=\"node2\" class=\"node\">\n",
       "<title>mfcc.inp_x.1</title>\n",
       "<ellipse fill=\"none\" stroke=\"black\" cx=\"213\" cy=\"-1104\" rx=\"68.79\" ry=\"18\"/>\n",
       "<text text-anchor=\"middle\" x=\"213\" y=\"-1100.3\" font-family=\"Times,serif\" font-size=\"14.00\">mfcc.inp_x.1</text>\n",
       "</g>\n",
       "<!-- inp_x.1&#45;&gt;mfcc.inp_x.1 -->\n",
       "<g id=\"edge1\" class=\"edge\">\n",
       "<title>inp_x.1&#45;&gt;mfcc.inp_x.1</title>\n",
       "<path fill=\"none\" stroke=\"black\" d=\"M213,-1160.7C213,-1152.25 213,-1141.87 213,-1132.37\"/>\n",
       "<polygon fill=\"black\" stroke=\"black\" points=\"216.5,-1132.18 213,-1122.18 209.5,-1132.18 216.5,-1132.18\"/>\n",
       "</g>\n",
       "<!-- mfcc.MelSpectrogram.inp_x.1 -->\n",
       "<g id=\"node3\" class=\"node\">\n",
       "<title>mfcc.MelSpectrogram.inp_x.1</title>\n",
       "<ellipse fill=\"none\" stroke=\"black\" cx=\"213\" cy=\"-1029\" rx=\"149.47\" ry=\"18\"/>\n",
       "<text text-anchor=\"middle\" x=\"213\" y=\"-1025.3\" font-family=\"Times,serif\" font-size=\"14.00\">mfcc.MelSpectrogram.inp_x.1</text>\n",
       "</g>\n",
       "<!-- mfcc.inp_x.1&#45;&gt;mfcc.MelSpectrogram.inp_x.1 -->\n",
       "<g id=\"edge2\" class=\"edge\">\n",
       "<title>mfcc.inp_x.1&#45;&gt;mfcc.MelSpectrogram.inp_x.1</title>\n",
       "<path fill=\"none\" stroke=\"black\" d=\"M213,-1085.7C213,-1077.25 213,-1066.87 213,-1057.37\"/>\n",
       "<polygon fill=\"black\" stroke=\"black\" points=\"216.5,-1057.18 213,-1047.18 209.5,-1057.18 216.5,-1057.18\"/>\n",
       "</g>\n",
       "<!-- mfcc.MelSpectrogram..6 -->\n",
       "<g id=\"node4\" class=\"node\">\n",
       "<title>mfcc.MelSpectrogram..6</title>\n",
       "<polygon fill=\"none\" stroke=\"black\" points=\"402,-975 24,-975 24,-939 402,-939 402,-975\"/>\n",
       "<text text-anchor=\"middle\" x=\"213\" y=\"-953.3\" font-family=\"Times,serif\" font-size=\"14.00\">mfcc.MelSpectrogram.spectrogram (Spectrogram)</text>\n",
       "</g>\n",
       "<!-- mfcc.MelSpectrogram.inp_x.1&#45;&gt;mfcc.MelSpectrogram..6 -->\n",
       "<g id=\"edge3\" class=\"edge\">\n",
       "<title>mfcc.MelSpectrogram.inp_x.1&#45;&gt;mfcc.MelSpectrogram..6</title>\n",
       "<path fill=\"none\" stroke=\"black\" d=\"M213,-1010.7C213,-1002.98 213,-993.71 213,-985.11\"/>\n",
       "<polygon fill=\"black\" stroke=\"black\" points=\"216.5,-985.1 213,-975.1 209.5,-985.1 216.5,-985.1\"/>\n",
       "</g>\n",
       "<!-- mfcc.MelSpectrogram..7 -->\n",
       "<g id=\"node5\" class=\"node\">\n",
       "<title>mfcc.MelSpectrogram..7</title>\n",
       "<polygon fill=\"none\" stroke=\"black\" points=\"377.5,-903 48.5,-903 48.5,-867 377.5,-867 377.5,-903\"/>\n",
       "<text text-anchor=\"middle\" x=\"213\" y=\"-881.3\" font-family=\"Times,serif\" font-size=\"14.00\">mfcc.MelSpectrogram.mel_scale (MelScale)</text>\n",
       "</g>\n",
       "<!-- mfcc.MelSpectrogram..6&#45;&gt;mfcc.MelSpectrogram..7 -->\n",
       "<g id=\"edge4\" class=\"edge\">\n",
       "<title>mfcc.MelSpectrogram..6&#45;&gt;mfcc.MelSpectrogram..7</title>\n",
       "<path fill=\"none\" stroke=\"black\" d=\"M213,-938.7C213,-930.98 213,-921.71 213,-913.11\"/>\n",
       "<polygon fill=\"black\" stroke=\"black\" points=\"216.5,-913.1 213,-903.1 209.5,-913.1 216.5,-913.1\"/>\n",
       "</g>\n",
       "<!-- mfcc.MelSpectrogram.out_0 -->\n",
       "<g id=\"node6\" class=\"node\">\n",
       "<title>mfcc.MelSpectrogram.out_0</title>\n",
       "<ellipse fill=\"none\" stroke=\"black\" cx=\"213\" cy=\"-813\" rx=\"141.88\" ry=\"18\"/>\n",
       "<text text-anchor=\"middle\" x=\"213\" y=\"-809.3\" font-family=\"Times,serif\" font-size=\"14.00\">mfcc.MelSpectrogram.out_0</text>\n",
       "</g>\n",
       "<!-- mfcc.MelSpectrogram..7&#45;&gt;mfcc.MelSpectrogram.out_0 -->\n",
       "<g id=\"edge5\" class=\"edge\">\n",
       "<title>mfcc.MelSpectrogram..7&#45;&gt;mfcc.MelSpectrogram.out_0</title>\n",
       "<path fill=\"none\" stroke=\"black\" d=\"M213,-866.7C213,-858.98 213,-849.71 213,-841.11\"/>\n",
       "<polygon fill=\"black\" stroke=\"black\" points=\"216.5,-841.1 213,-831.1 209.5,-841.1 216.5,-841.1\"/>\n",
       "</g>\n",
       "<!-- mfcc..15 -->\n",
       "<g id=\"node7\" class=\"node\">\n",
       "<title>mfcc..15</title>\n",
       "<polygon fill=\"none\" stroke=\"black\" points=\"364.5,-759 61.5,-759 61.5,-723 364.5,-723 364.5,-759\"/>\n",
       "<text text-anchor=\"middle\" x=\"213\" y=\"-737.3\" font-family=\"Times,serif\" font-size=\"14.00\">mfcc.amplitude_to_DB (AmplitudeToDB)</text>\n",
       "</g>\n",
       "<!-- mfcc.MelSpectrogram.out_0&#45;&gt;mfcc..15 -->\n",
       "<g id=\"edge6\" class=\"edge\">\n",
       "<title>mfcc.MelSpectrogram.out_0&#45;&gt;mfcc..15</title>\n",
       "<path fill=\"none\" stroke=\"black\" d=\"M213,-794.7C213,-786.98 213,-777.71 213,-769.11\"/>\n",
       "<polygon fill=\"black\" stroke=\"black\" points=\"216.5,-769.1 213,-759.1 209.5,-769.1 216.5,-769.1\"/>\n",
       "</g>\n",
       "<!-- inp_mfcc.out_0 -->\n",
       "<g id=\"node9\" class=\"node\">\n",
       "<title>inp_mfcc.out_0</title>\n",
       "<path fill=\"none\" stroke=\"black\" d=\"M236.5,-687C236.5,-687 189.5,-687 189.5,-687 183.5,-687 177.5,-681 177.5,-675 177.5,-675 177.5,-663 177.5,-663 177.5,-657 183.5,-651 189.5,-651 189.5,-651 236.5,-651 236.5,-651 242.5,-651 248.5,-657 248.5,-663 248.5,-663 248.5,-675 248.5,-675 248.5,-681 242.5,-687 236.5,-687\"/>\n",
       "<text text-anchor=\"middle\" x=\"213\" y=\"-665.3\" font-family=\"Times,serif\" font-size=\"14.00\">matmul</text>\n",
       "</g>\n",
       "<!-- mfcc..15&#45;&gt;inp_mfcc.out_0 -->\n",
       "<g id=\"edge7\" class=\"edge\">\n",
       "<title>mfcc..15&#45;&gt;inp_mfcc.out_0</title>\n",
       "<path fill=\"none\" stroke=\"black\" d=\"M213,-722.7C213,-714.98 213,-705.71 213,-697.11\"/>\n",
       "<polygon fill=\"black\" stroke=\"black\" points=\"216.5,-697.1 213,-687.1 209.5,-697.1 216.5,-697.1\"/>\n",
       "</g>\n",
       "<!-- mfcc.out_0 -->\n",
       "<g id=\"node8\" class=\"node\">\n",
       "<title>mfcc.out_0</title>\n",
       "<ellipse fill=\"none\" stroke=\"black\" cx=\"213\" cy=\"-597\" rx=\"61.19\" ry=\"18\"/>\n",
       "<text text-anchor=\"middle\" x=\"213\" y=\"-593.3\" font-family=\"Times,serif\" font-size=\"14.00\">mfcc.out_0</text>\n",
       "</g>\n",
       "<!-- inp_cls_head.inp_x -->\n",
       "<g id=\"node10\" class=\"node\">\n",
       "<title>inp_cls_head.inp_x</title>\n",
       "<path fill=\"none\" stroke=\"black\" d=\"M229,-543C229,-543 197,-543 197,-543 191,-543 185,-537 185,-531 185,-531 185,-519 185,-519 185,-513 191,-507 197,-507 197,-507 229,-507 229,-507 235,-507 241,-513 241,-519 241,-519 241,-531 241,-531 241,-537 235,-543 229,-543\"/>\n",
       "<text text-anchor=\"middle\" x=\"213\" y=\"-521.3\" font-family=\"Times,serif\" font-size=\"14.00\">mean</text>\n",
       "</g>\n",
       "<!-- mfcc.out_0&#45;&gt;inp_cls_head.inp_x -->\n",
       "<g id=\"edge9\" class=\"edge\">\n",
       "<title>mfcc.out_0&#45;&gt;inp_cls_head.inp_x</title>\n",
       "<path fill=\"none\" stroke=\"black\" d=\"M213,-578.7C213,-570.98 213,-561.71 213,-553.11\"/>\n",
       "<polygon fill=\"black\" stroke=\"black\" points=\"216.5,-553.1 213,-543.1 209.5,-553.1 216.5,-553.1\"/>\n",
       "</g>\n",
       "<!-- inp_mfcc.out_0&#45;&gt;mfcc.out_0 -->\n",
       "<g id=\"edge8\" class=\"edge\">\n",
       "<title>inp_mfcc.out_0&#45;&gt;mfcc.out_0</title>\n",
       "<path fill=\"none\" stroke=\"black\" d=\"M213,-650.7C213,-642.98 213,-633.71 213,-625.11\"/>\n",
       "<polygon fill=\"black\" stroke=\"black\" points=\"216.5,-625.1 213,-615.1 209.5,-625.1 216.5,-625.1\"/>\n",
       "</g>\n",
       "<!-- cls_head.inp_x -->\n",
       "<g id=\"node11\" class=\"node\">\n",
       "<title>cls_head.inp_x</title>\n",
       "<ellipse fill=\"none\" stroke=\"black\" cx=\"213\" cy=\"-450\" rx=\"77.19\" ry=\"18\"/>\n",
       "<text text-anchor=\"middle\" x=\"213\" y=\"-446.3\" font-family=\"Times,serif\" font-size=\"14.00\">cls_head.inp_x</text>\n",
       "</g>\n",
       "<!-- inp_cls_head.inp_x&#45;&gt;cls_head.inp_x -->\n",
       "<g id=\"edge10\" class=\"edge\">\n",
       "<title>inp_cls_head.inp_x&#45;&gt;cls_head.inp_x</title>\n",
       "<path fill=\"none\" stroke=\"black\" d=\"M213,-506.7C213,-498.25 213,-487.87 213,-478.37\"/>\n",
       "<polygon fill=\"black\" stroke=\"black\" points=\"216.5,-478.18 213,-468.18 209.5,-478.18 216.5,-478.18\"/>\n",
       "</g>\n",
       "<!-- cls_head..18 -->\n",
       "<g id=\"node12\" class=\"node\">\n",
       "<title>cls_head..18</title>\n",
       "<polygon fill=\"none\" stroke=\"black\" points=\"329,-396 97,-396 97,-360 329,-360 329,-396\"/>\n",
       "<text text-anchor=\"middle\" x=\"213\" y=\"-374.3\" font-family=\"Times,serif\" font-size=\"14.00\">cls_head.blocks.0 (Sequential)</text>\n",
       "</g>\n",
       "<!-- cls_head.inp_x&#45;&gt;cls_head..18 -->\n",
       "<g id=\"edge11\" class=\"edge\">\n",
       "<title>cls_head.inp_x&#45;&gt;cls_head..18</title>\n",
       "<path fill=\"none\" stroke=\"black\" d=\"M213,-431.7C213,-423.98 213,-414.71 213,-406.11\"/>\n",
       "<polygon fill=\"black\" stroke=\"black\" points=\"216.5,-406.1 213,-396.1 209.5,-406.1 216.5,-406.1\"/>\n",
       "</g>\n",
       "<!-- cls_head..19 -->\n",
       "<g id=\"node13\" class=\"node\">\n",
       "<title>cls_head..19</title>\n",
       "<polygon fill=\"none\" stroke=\"black\" points=\"329,-324 97,-324 97,-288 329,-288 329,-324\"/>\n",
       "<text text-anchor=\"middle\" x=\"213\" y=\"-302.3\" font-family=\"Times,serif\" font-size=\"14.00\">cls_head.blocks.1 (Sequential)</text>\n",
       "</g>\n",
       "<!-- cls_head..18&#45;&gt;cls_head..19 -->\n",
       "<g id=\"edge12\" class=\"edge\">\n",
       "<title>cls_head..18&#45;&gt;cls_head..19</title>\n",
       "<path fill=\"none\" stroke=\"black\" d=\"M213,-359.7C213,-351.98 213,-342.71 213,-334.11\"/>\n",
       "<polygon fill=\"black\" stroke=\"black\" points=\"216.5,-334.1 213,-324.1 209.5,-334.1 216.5,-334.1\"/>\n",
       "</g>\n",
       "<!-- cls_head..20 -->\n",
       "<g id=\"node14\" class=\"node\">\n",
       "<title>cls_head..20</title>\n",
       "<polygon fill=\"none\" stroke=\"black\" points=\"313,-252 113,-252 113,-216 313,-216 313,-252\"/>\n",
       "<text text-anchor=\"middle\" x=\"213\" y=\"-230.3\" font-family=\"Times,serif\" font-size=\"14.00\">cls_head.act (LeakyReLU)</text>\n",
       "</g>\n",
       "<!-- cls_head..19&#45;&gt;cls_head..20 -->\n",
       "<g id=\"edge13\" class=\"edge\">\n",
       "<title>cls_head..19&#45;&gt;cls_head..20</title>\n",
       "<path fill=\"none\" stroke=\"black\" d=\"M213,-287.7C213,-279.98 213,-270.71 213,-262.11\"/>\n",
       "<polygon fill=\"black\" stroke=\"black\" points=\"216.5,-262.1 213,-252.1 209.5,-262.1 216.5,-262.1\"/>\n",
       "</g>\n",
       "<!-- cls_head..21 -->\n",
       "<g id=\"node15\" class=\"node\">\n",
       "<title>cls_head..21</title>\n",
       "<polygon fill=\"none\" stroke=\"black\" points=\"329.5,-180 96.5,-180 96.5,-144 329.5,-144 329.5,-180\"/>\n",
       "<text text-anchor=\"middle\" x=\"213\" y=\"-158.3\" font-family=\"Times,serif\" font-size=\"14.00\">cls_head.output_layer (Linear)</text>\n",
       "</g>\n",
       "<!-- cls_head..20&#45;&gt;cls_head..21 -->\n",
       "<g id=\"edge14\" class=\"edge\">\n",
       "<title>cls_head..20&#45;&gt;cls_head..21</title>\n",
       "<path fill=\"none\" stroke=\"black\" d=\"M213,-215.7C213,-207.98 213,-198.71 213,-190.11\"/>\n",
       "<polygon fill=\"black\" stroke=\"black\" points=\"216.5,-190.1 213,-180.1 209.5,-190.1 216.5,-190.1\"/>\n",
       "</g>\n",
       "<!-- cls_head.out_0 -->\n",
       "<g id=\"node16\" class=\"node\">\n",
       "<title>cls_head.out_0</title>\n",
       "<ellipse fill=\"none\" stroke=\"black\" cx=\"213\" cy=\"-90\" rx=\"78.79\" ry=\"18\"/>\n",
       "<text text-anchor=\"middle\" x=\"213\" y=\"-86.3\" font-family=\"Times,serif\" font-size=\"14.00\">cls_head.out_0</text>\n",
       "</g>\n",
       "<!-- cls_head..21&#45;&gt;cls_head.out_0 -->\n",
       "<g id=\"edge15\" class=\"edge\">\n",
       "<title>cls_head..21&#45;&gt;cls_head.out_0</title>\n",
       "<path fill=\"none\" stroke=\"black\" d=\"M213,-143.7C213,-135.98 213,-126.71 213,-118.11\"/>\n",
       "<polygon fill=\"black\" stroke=\"black\" points=\"216.5,-118.1 213,-108.1 209.5,-118.1 216.5,-118.1\"/>\n",
       "</g>\n",
       "<!-- out_0 -->\n",
       "<g id=\"node17\" class=\"node\">\n",
       "<title>out_0</title>\n",
       "<ellipse fill=\"none\" stroke=\"black\" cx=\"213\" cy=\"-18\" rx=\"36.29\" ry=\"18\"/>\n",
       "<text text-anchor=\"middle\" x=\"213\" y=\"-14.3\" font-family=\"Times,serif\" font-size=\"14.00\">out_0</text>\n",
       "</g>\n",
       "<!-- cls_head.out_0&#45;&gt;out_0 -->\n",
       "<g id=\"edge16\" class=\"edge\">\n",
       "<title>cls_head.out_0&#45;&gt;out_0</title>\n",
       "<path fill=\"none\" stroke=\"black\" d=\"M213,-71.7C213,-63.98 213,-54.71 213,-46.11\"/>\n",
       "<polygon fill=\"black\" stroke=\"black\" points=\"216.5,-46.1 213,-36.1 209.5,-46.1 216.5,-46.1\"/>\n",
       "</g>\n",
       "</g>\n",
       "</svg>\n"
      ],
      "text/plain": [
       "<graphviz.graphs.Digraph at 0x7f8b36de3f70>"
      ]
     },
     "execution_count": 53,
     "metadata": {},
     "output_type": "execute_result"
    }
   ],
   "source": [
    "display_module(\n",
    "    model, input, \n",
    "    classes_to_visit={\"MFCC\", \"MelSpectrogram\", \"Classifier\"})"
   ]
  },
  {
   "cell_type": "code",
   "execution_count": 54,
   "id": "ac037f0f-ebdf-4622-8a6d-bfca35ad7a95",
   "metadata": {},
   "outputs": [
    {
     "data": {
      "text/plain": [
       "737"
      ]
     },
     "execution_count": 54,
     "metadata": {},
     "output_type": "execute_result"
    }
   ],
   "source": [
    "# del model\n",
    "# del best_model\n",
    "# gc.collect()"
   ]
  },
  {
   "cell_type": "code",
   "execution_count": null,
   "id": "372a0fca-eeda-4e0a-87de-d7ef261644fa",
   "metadata": {},
   "outputs": [],
   "source": []
  }
 ],
 "metadata": {
  "kernelspec": {
   "display_name": "Python 3 (ipykernel)",
   "language": "python",
   "name": "python3"
  },
  "language_info": {
   "codemirror_mode": {
    "name": "ipython",
    "version": 3
   },
   "file_extension": ".py",
   "mimetype": "text/x-python",
   "name": "python",
   "nbconvert_exporter": "python",
   "pygments_lexer": "ipython3",
   "version": "3.9.18"
  }
 },
 "nbformat": 4,
 "nbformat_minor": 5
}
