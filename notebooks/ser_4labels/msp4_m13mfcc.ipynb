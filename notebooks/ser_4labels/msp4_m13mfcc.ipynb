{
 "cells": [
  {
   "cell_type": "code",
   "execution_count": 1,
   "id": "c0679af4-cca6-45b4-932a-e8e2ab37956e",
   "metadata": {},
   "outputs": [
    {
     "name": "stdout",
     "output_type": "stream",
     "text": [
      "Fri Mar  1 09:55:58 2024       \n",
      "+---------------------------------------------------------------------------------------+\n",
      "| NVIDIA-SMI 545.23.08              Driver Version: 545.23.08    CUDA Version: 12.3     |\n",
      "|-----------------------------------------+----------------------+----------------------+\n",
      "| GPU  Name                 Persistence-M | Bus-Id        Disp.A | Volatile Uncorr. ECC |\n",
      "| Fan  Temp   Perf          Pwr:Usage/Cap |         Memory-Usage | GPU-Util  Compute M. |\n",
      "|                                         |                      |               MIG M. |\n",
      "|=========================================+======================+======================|\n",
      "|   0  NVIDIA GeForce RTX 2080        On  | 00000000:01:00.0  On |                  N/A |\n",
      "| 32%   34C    P8              20W / 215W |    694MiB /  8192MiB |      7%      Default |\n",
      "|                                         |                      |                  N/A |\n",
      "+-----------------------------------------+----------------------+----------------------+\n",
      "                                                                                         \n",
      "+---------------------------------------------------------------------------------------+\n",
      "| Processes:                                                                            |\n",
      "|  GPU   GI   CI        PID   Type   Process name                            GPU Memory |\n",
      "|        ID   ID                                                             Usage      |\n",
      "|=======================================================================================|\n",
      "|    0   N/A  N/A      1887      G   /usr/lib/xorg/Xorg                          188MiB |\n",
      "|    0   N/A  N/A      2033      G   /usr/bin/gnome-shell                         28MiB |\n",
      "|    0   N/A  N/A   1076924      G   /usr/lib/xorg/Xorg                           35MiB |\n",
      "|    0   N/A  N/A   1080394      G   ...sion,SpareRendererForSitePerProcess       38MiB |\n",
      "|    0   N/A  N/A   3306740      G   ...seed-version=20240223-130108.897000       68MiB |\n",
      "|    0   N/A  N/A   3641716      C   /opt/anaconda3/envs/audio/bin/python        194MiB |\n",
      "+---------------------------------------------------------------------------------------+\n"
     ]
    }
   ],
   "source": [
    "!nvidia-smi"
   ]
  },
  {
   "cell_type": "code",
   "execution_count": 2,
   "id": "dc8bb018-168b-404a-a403-7d0b2b9398e7",
   "metadata": {},
   "outputs": [],
   "source": [
    "%load_ext autoreload\n",
    "%autoreload 2"
   ]
  },
  {
   "cell_type": "code",
   "execution_count": 3,
   "id": "e107b42a-ac0a-4acf-a451-779da84d093a",
   "metadata": {},
   "outputs": [
    {
     "data": {
      "text/plain": [
       "'/home/linh/projects/IConNet'"
      ]
     },
     "execution_count": 3,
     "metadata": {},
     "output_type": "execute_result"
    }
   ],
   "source": [
    "import os\n",
    "os.chdir('..')\n",
    "os.getcwd()"
   ]
  },
  {
   "cell_type": "code",
   "execution_count": 4,
   "id": "2ed417a9-d4c6-4d6e-8a7d-dd76c339414a",
   "metadata": {},
   "outputs": [
    {
     "name": "stdout",
     "output_type": "stream",
     "text": [
      "cuda\n"
     ]
    }
   ],
   "source": [
    "os.environ[\"PYTORCH_CUDA_ALLOC_CONF\"] = \"max_split_size_mb:512\"\n",
    "import gc\n",
    "import torch\n",
    "import torch.nn as nn\n",
    "import torch.nn.functional as F\n",
    "import torch.optim as optim\n",
    "import sys\n",
    "device = torch.device(\"cuda\" if torch.cuda.is_available() else \"cpu\")\n",
    "print(device)"
   ]
  },
  {
   "cell_type": "code",
   "execution_count": 5,
   "id": "2c663b14-6fe4-4086-8154-255dbf51fcf8",
   "metadata": {},
   "outputs": [],
   "source": [
    "import numpy as np\n",
    "from tqdm import tqdm\n",
    "import matplotlib.pyplot as plt\n",
    "import pandas as pd\n",
    "\n",
    "# Scikit learn\n",
    "from sklearn.model_selection import train_test_split\n",
    "from sklearn.preprocessing import LabelEncoder\n",
    "from sklearn.utils import shuffle\n",
    "\n",
    "import warnings\n",
    "warnings.filterwarnings('ignore', category=FutureWarning)"
   ]
  },
  {
   "cell_type": "code",
   "execution_count": 7,
   "id": "423b758e-4a7b-4e2f-b1af-17984d46e197",
   "metadata": {},
   "outputs": [],
   "source": [
    "sr = 16000\n",
    "data_dir = '../data/data_preprocessed/msp_podcast/features_4balanced/'\n",
    "data_x = np.load(f'{data_dir}msp_podcast.audio16k.npy', allow_pickle=True)\n",
    "data_y = np.load(f'{data_dir}msp_podcast.label_emotion.npy', allow_pickle=True)"
   ]
  },
  {
   "cell_type": "code",
   "execution_count": 8,
   "id": "446f6460-b2b5-4f37-ad7f-b237bdb6c489",
   "metadata": {},
   "outputs": [
    {
     "name": "stdout",
     "output_type": "stream",
     "text": [
      "Train: 11092\n",
      "Test: 2774\n"
     ]
    }
   ],
   "source": [
    "x_train, x_test, y_train, y_test = train_test_split(\n",
    "    data_x, data_y, test_size=0.2, random_state=42, stratify=data_y)\n",
    "print(\"Train: %i\" % len(x_train))\n",
    "print(\"Test: %i\" % len(x_test))"
   ]
  },
  {
   "cell_type": "code",
   "execution_count": 8,
   "id": "09d349bf-b5b3-4f2a-9380-3d8ead62aa91",
   "metadata": {},
   "outputs": [
    {
     "data": {
      "text/plain": [
       "'ang'"
      ]
     },
     "execution_count": 8,
     "metadata": {},
     "output_type": "execute_result"
    }
   ],
   "source": [
    "y_train[0]"
   ]
  },
  {
   "cell_type": "code",
   "execution_count": 10,
   "id": "a3f49b38-ea3d-4bcd-94e0-5a965b2b17c8",
   "metadata": {},
   "outputs": [
    {
     "data": {
      "text/plain": [
       "array(['anger', 'happiness', 'neutral', 'sadness'], dtype='<U9')"
      ]
     },
     "execution_count": 10,
     "metadata": {},
     "output_type": "execute_result"
    }
   ],
   "source": [
    "np.unique(y_train)"
   ]
  },
  {
   "cell_type": "code",
   "execution_count": 12,
   "id": "4c4406d9-c654-4363-b21a-a12619dc1586",
   "metadata": {},
   "outputs": [],
   "source": [
    "labels = ['ang', 'neu', 'sad', 'hap']"
   ]
  },
  {
   "cell_type": "code",
   "execution_count": 13,
   "id": "816d08ce-a3f6-4466-a5e1-279615e44814",
   "metadata": {},
   "outputs": [
    {
     "data": {
      "text/plain": [
       "1"
      ]
     },
     "execution_count": 13,
     "metadata": {},
     "output_type": "execute_result"
    }
   ],
   "source": [
    "def label_to_index(word):\n",
    "    return labels.index(word[:3])\n",
    "label_to_index(y_train[0])"
   ]
  },
  {
   "cell_type": "code",
   "execution_count": 14,
   "id": "a0f78512-9222-41be-ae1d-09eca3e30422",
   "metadata": {},
   "outputs": [],
   "source": [
    "train_set = list(zip(x_train, y_train))\n",
    "test_set = list(zip(x_test, y_test))"
   ]
  },
  {
   "cell_type": "code",
   "execution_count": 17,
   "id": "689e3d0a-2bc7-4a47-8991-4a5ae7004c52",
   "metadata": {},
   "outputs": [],
   "source": [
    "def pad_sequence(batch):\n",
    "    # Make all tensor in a batch the same length by padding with zeros\n",
    "    batch = [item.t() for item in batch]\n",
    "    batch = torch.nn.utils.rnn.pad_sequence(\n",
    "        batch, batch_first=True, padding_value=0.)\n",
    "    return batch.permute(0, 2, 1)\n",
    "\n",
    "\n",
    "def collate_fn(batch, max_duration_in_second=4, sample_rate=sr):\n",
    "    tensors, targets = [], []\n",
    "\n",
    "    # Gather in lists, and encode labels as indices\n",
    "    for waveform, label in batch:\n",
    "        if max_duration_in_second is not None:\n",
    "            length = len(waveform)\n",
    "            max_length = sample_rate * max_duration_in_second\n",
    "            offset = max(0, (length - max_length) // 2)\n",
    "            waveform = [waveform[offset: length-offset]]\n",
    "        tensors += [torch.tensor(\n",
    "            np.array(waveform, dtype=float).squeeze(), \n",
    "            dtype=torch.float32)[None,:]]\n",
    "        targets += [torch.tensor(label_to_index(label), \n",
    "                                 dtype=torch.long)]\n",
    "\n",
    "    # Group the list of tensors into a batched tensor\n",
    "    tensors = pad_sequence(tensors)\n",
    "    targets = torch.stack(targets)\n",
    "\n",
    "    return tensors, targets\n",
    "\n",
    "batch_size = 16\n",
    "\n",
    "if device == \"cuda\":\n",
    "    num_workers = 1\n",
    "    pin_memory = True\n",
    "else:\n",
    "    num_workers = 0\n",
    "    pin_memory = False\n",
    "\n",
    "train_loader = torch.utils.data.DataLoader(\n",
    "    train_set,\n",
    "    batch_size=batch_size,\n",
    "    shuffle=True,\n",
    "    collate_fn=collate_fn,\n",
    "    num_workers=num_workers,\n",
    "    pin_memory=pin_memory, \n",
    "    drop_last=True\n",
    ")\n",
    "test_loader = torch.utils.data.DataLoader(\n",
    "    test_set,\n",
    "    batch_size=batch_size,\n",
    "    shuffle=False,\n",
    "    drop_last=True,\n",
    "    collate_fn=collate_fn,\n",
    "    num_workers=num_workers,\n",
    "    pin_memory=pin_memory\n",
    ")"
   ]
  },
  {
   "cell_type": "code",
   "execution_count": 18,
   "id": "bc0d9f76-b2bf-4ff0-8f4d-8b96dc976aeb",
   "metadata": {},
   "outputs": [],
   "source": [
    "import traceback"
   ]
  },
  {
   "cell_type": "code",
   "execution_count": 19,
   "id": "2630593b-19f9-4390-9259-ab6ae28fcc75",
   "metadata": {},
   "outputs": [
    {
     "name": "stdout",
     "output_type": "stream",
     "text": [
      "{'name': 'M13mfcc', 'description': 'FirConv with fftconv', 'mfcc': {'n_mfcc': 40, 'n_fft': 512, 'hop_length': 128, 'n_mels': 64, 'sample_rate': 16000}, 'pooling': 'mean', 'cls': {'n_block': 2, 'n_hidden_dim': [512, 512], 'norm_type': 'LayerNorm'}}\n"
     ]
    },
    {
     "data": {
      "text/plain": [
       "M13mfcc(\n",
       "  (mfcc): MFCC(\n",
       "    (amplitude_to_DB): AmplitudeToDB()\n",
       "    (MelSpectrogram): MelSpectrogram(\n",
       "      (spectrogram): Spectrogram()\n",
       "      (mel_scale): MelScale()\n",
       "    )\n",
       "  )\n",
       "  (cls_head): Classifier(\n",
       "    (blocks): ModuleList(\n",
       "      (0): Sequential(\n",
       "        (norm): LayerNorm((40,), eps=1e-05, elementwise_affine=True)\n",
       "        (layer): Linear(in_features=40, out_features=512, bias=True)\n",
       "      )\n",
       "      (1): Sequential(\n",
       "        (norm): LayerNorm((512,), eps=1e-05, elementwise_affine=True)\n",
       "        (layer): Linear(in_features=512, out_features=512, bias=True)\n",
       "      )\n",
       "    )\n",
       "    (act): LeakyReLU(negative_slope=0.01)\n",
       "    (output_layer): Linear(in_features=512, out_features=4, bias=True)\n",
       "  )\n",
       ")"
      ]
     },
     "execution_count": 19,
     "metadata": {},
     "output_type": "execute_result"
    }
   ],
   "source": [
    "from IConNet.nn.model import M13mfcc as M13\n",
    "from omegaconf import OmegaConf as ocf\n",
    "\n",
    "model_config_path = 'config/model/m13mfcc.yaml'\n",
    "model_config = ocf.load(model_config_path)\n",
    "print(model_config)\n",
    "model = M13(config=model_config,\n",
    "           n_input=1, n_output=len(labels))\n",
    "model"
   ]
  },
  {
   "cell_type": "code",
   "execution_count": 20,
   "id": "04235c6d-cb3e-413a-bca2-474514aa001e",
   "metadata": {},
   "outputs": [],
   "source": [
    "n_epoch = 10\n",
    "train_losses = []\n",
    "test_accuracy = []\n",
    "optimizer = optim.RAdam(model.parameters(), lr=0.001)\n",
    "scheduler = optim.lr_scheduler.OneCycleLR(\n",
    "    optimizer, max_lr=0.1,\n",
    "    steps_per_epoch=len(train_loader), epochs=n_epoch)"
   ]
  },
  {
   "cell_type": "code",
   "execution_count": 21,
   "id": "6d981d06-4d09-4d2d-9228-7832a8cb644d",
   "metadata": {},
   "outputs": [],
   "source": [
    "train_loader_length = len(train_loader.dataset)\n",
    "test_loader_length = len(test_loader.dataset)\n",
    "\n",
    "def train(model, epoch, log_interval, \n",
    "          train_losses=train_losses):\n",
    "    model.train()\n",
    "    for batch_idx, (data, target) in enumerate(train_loader):\n",
    "        try:\n",
    "            _mem_before = torch.cuda.memory_allocated()\n",
    "            data = data.to(device)\n",
    "            target = target.to(device)\n",
    "            output = model(data)\n",
    "            del data\n",
    "            gc.collect()\n",
    "            torch.cuda.empty_cache()\n",
    "            loss = F.cross_entropy(output.squeeze(), target)\n",
    "            _mem_during = torch.cuda.memory_allocated()\n",
    "            del target\n",
    "            gc.collect()\n",
    "            torch.cuda.empty_cache()\n",
    "            optimizer.zero_grad()\n",
    "            loss.backward()\n",
    "            nn.utils.clip_grad.clip_grad_norm_(\n",
    "                model.parameters(), 1.0)\n",
    "            optimizer.step()\n",
    "            _mem_after = torch.cuda.memory_allocated()\n",
    "            # print training stats\n",
    "            if batch_idx % log_interval == 0:\n",
    "                print(f\"Train Epoch: {epoch} [{batch_idx * batch_size}/{train_loader_length} ({100. * batch_idx / len(train_loader):.0f}%)]\\tLoss: {loss.item():.6f}\")\n",
    "                print(f'Mem before-during-after: {_mem_before} {_mem_during} {_mem_after}')\n",
    "            # update progress bar\n",
    "            pbar.update(pbar_update)\n",
    "            # record loss\n",
    "            train_losses.append(loss.item())\n",
    "        except Exception as e:\n",
    "            print(f'data: {data.shape} => output: {output.shape} | target: {target.shape}')\n",
    "            traceback.print_exc()\n",
    "\n",
    "@torch.no_grad\n",
    "def test(model, epoch):\n",
    "    model.eval()\n",
    "    correct = 0\n",
    "    total = 0\n",
    "    for data, target in test_loader:\n",
    "        total += len(target)\n",
    "        data = data.to(device)\n",
    "        target = target.to(device)\n",
    "        output = model(data).squeeze()\n",
    "        del data\n",
    "        gc.collect()\n",
    "        torch.cuda.empty_cache()\n",
    "        probs = F.softmax(output, dim=-1)\n",
    "        pred = probs.argmax(dim=-1)\n",
    "        correct += pred.eq(target).sum().item()\n",
    "        del target\n",
    "        gc.collect()\n",
    "        torch.cuda.empty_cache()\n",
    "        pbar.update(pbar_update)\n",
    "    acc = correct / test_loader_length\n",
    "    print(f\"\\nTest Epoch: {epoch}\\tAccuracy: {correct}/{total} ({100. * acc:.0f}%)\\n\")\n",
    "    return acc"
   ]
  },
  {
   "cell_type": "code",
   "execution_count": 22,
   "id": "60424a10-03db-4f00-8166-4dc9b6956b3e",
   "metadata": {
    "scrolled": true
   },
   "outputs": [
    {
     "name": "stderr",
     "output_type": "stream",
     "text": [
      "  0%|                                | 0.0023094688221709007/10 [00:00<35:11, 211.16s/it]"
     ]
    },
    {
     "name": "stdout",
     "output_type": "stream",
     "text": [
      "Train Epoch: 1 [0/11092 (0%)]\tLoss: 1.578089\n",
      "Mem before-during-after: 1226752 9887232 21712384\n"
     ]
    },
    {
     "name": "stderr",
     "output_type": "stream",
     "text": [
      "  0%|▏                                 | 0.04849884526558889/10 [00:07<25:37, 154.51s/it]"
     ]
    },
    {
     "name": "stdout",
     "output_type": "stream",
     "text": [
      "Train Epoch: 1 [640/11092 (6%)]\tLoss: 1.196749\n",
      "Mem before-during-after: 21712384 21852160 21712384\n"
     ]
    },
    {
     "name": "stderr",
     "output_type": "stream",
     "text": [
      "  1%|▎                                 | 0.09468822170900681/10 [00:14<24:29, 148.36s/it]"
     ]
    },
    {
     "name": "stdout",
     "output_type": "stream",
     "text": [
      "Train Epoch: 1 [1280/11092 (12%)]\tLoss: 1.660291\n",
      "Mem before-during-after: 21712384 21852160 21712384\n"
     ]
    },
    {
     "name": "stderr",
     "output_type": "stream",
     "text": [
      "  1%|▍                                 | 0.14087759815242493/10 [00:21<24:28, 148.96s/it]"
     ]
    },
    {
     "name": "stdout",
     "output_type": "stream",
     "text": [
      "Train Epoch: 1 [1920/11092 (17%)]\tLoss: 1.253682\n",
      "Mem before-during-after: 21712384 21852160 21712384\n"
     ]
    },
    {
     "name": "stderr",
     "output_type": "stream",
     "text": [
      "  2%|▋                                  | 0.1870669745958434/10 [00:28<24:07, 147.48s/it]"
     ]
    },
    {
     "name": "stdout",
     "output_type": "stream",
     "text": [
      "Train Epoch: 1 [2560/11092 (23%)]\tLoss: 1.235597\n",
      "Mem before-during-after: 21712384 21852160 21712384\n"
     ]
    },
    {
     "name": "stderr",
     "output_type": "stream",
     "text": [
      "  2%|▊                                 | 0.23325635103926187/10 [00:35<24:47, 152.28s/it]"
     ]
    },
    {
     "name": "stdout",
     "output_type": "stream",
     "text": [
      "Train Epoch: 1 [3200/11092 (29%)]\tLoss: 1.169391\n",
      "Mem before-during-after: 21712384 21852160 21712384\n"
     ]
    },
    {
     "name": "stderr",
     "output_type": "stream",
     "text": [
      "  3%|▉                                 | 0.27944572748267965/10 [00:42<23:27, 144.80s/it]"
     ]
    },
    {
     "name": "stdout",
     "output_type": "stream",
     "text": [
      "Train Epoch: 1 [3840/11092 (35%)]\tLoss: 1.316562\n",
      "Mem before-during-after: 21712384 21852160 21712384\n"
     ]
    },
    {
     "name": "stderr",
     "output_type": "stream",
     "text": [
      "  3%|█▏                                  | 0.325635103926097/10 [00:49<23:42, 147.08s/it]"
     ]
    },
    {
     "name": "stdout",
     "output_type": "stream",
     "text": [
      "Train Epoch: 1 [4480/11092 (40%)]\tLoss: 0.995629\n",
      "Mem before-during-after: 21712384 21852160 21712384\n"
     ]
    },
    {
     "name": "stderr",
     "output_type": "stream",
     "text": [
      "  4%|█▎                                 | 0.3718244803695144/10 [00:56<23:30, 146.49s/it]"
     ]
    },
    {
     "name": "stdout",
     "output_type": "stream",
     "text": [
      "Train Epoch: 1 [5120/11092 (46%)]\tLoss: 1.680741\n",
      "Mem before-during-after: 21712384 21852160 21712384\n"
     ]
    },
    {
     "name": "stderr",
     "output_type": "stream",
     "text": [
      "  4%|█▍                                | 0.41801385681293174/10 [01:03<23:39, 148.13s/it]"
     ]
    },
    {
     "name": "stdout",
     "output_type": "stream",
     "text": [
      "Train Epoch: 1 [5760/11092 (52%)]\tLoss: 1.234207\n",
      "Mem before-during-after: 21712384 21852160 21712384\n"
     ]
    },
    {
     "name": "stderr",
     "output_type": "stream",
     "text": [
      "  5%|█▌                                 | 0.4642032332563491/10 [01:10<25:06, 158.01s/it]"
     ]
    },
    {
     "name": "stdout",
     "output_type": "stream",
     "text": [
      "Train Epoch: 1 [6400/11092 (58%)]\tLoss: 1.176225\n",
      "Mem before-during-after: 21712384 21852160 21712384\n"
     ]
    },
    {
     "name": "stderr",
     "output_type": "stream",
     "text": [
      "  5%|█▊                                  | 0.510392609699767/10 [01:17<23:40, 149.70s/it]"
     ]
    },
    {
     "name": "stdout",
     "output_type": "stream",
     "text": [
      "Train Epoch: 1 [7040/11092 (63%)]\tLoss: 1.262355\n",
      "Mem before-during-after: 21712384 21852160 21712384\n"
     ]
    },
    {
     "name": "stderr",
     "output_type": "stream",
     "text": [
      "  6%|█▉                                 | 0.5565819861431865/10 [01:24<24:04, 152.98s/it]"
     ]
    },
    {
     "name": "stdout",
     "output_type": "stream",
     "text": [
      "Train Epoch: 1 [7680/11092 (69%)]\tLoss: 1.273780\n",
      "Mem before-during-after: 21712384 21852160 21712384\n"
     ]
    },
    {
     "name": "stderr",
     "output_type": "stream",
     "text": [
      "  6%|██                                 | 0.6027713625866061/10 [01:31<23:34, 150.52s/it]"
     ]
    },
    {
     "name": "stdout",
     "output_type": "stream",
     "text": [
      "Train Epoch: 1 [8320/11092 (75%)]\tLoss: 1.422088\n",
      "Mem before-during-after: 21712384 21852160 21712384\n"
     ]
    },
    {
     "name": "stderr",
     "output_type": "stream",
     "text": [
      "  6%|██▎                                | 0.6489607390300257/10 [01:38<23:07, 148.35s/it]"
     ]
    },
    {
     "name": "stdout",
     "output_type": "stream",
     "text": [
      "Train Epoch: 1 [8960/11092 (81%)]\tLoss: 1.238815\n",
      "Mem before-during-after: 21712384 21852160 21712384\n"
     ]
    },
    {
     "name": "stderr",
     "output_type": "stream",
     "text": [
      "  7%|██▍                                | 0.6951501154734453/10 [01:45<23:29, 151.47s/it]"
     ]
    },
    {
     "name": "stdout",
     "output_type": "stream",
     "text": [
      "Train Epoch: 1 [9600/11092 (87%)]\tLoss: 1.038368\n",
      "Mem before-during-after: 21712384 21852160 21712384\n"
     ]
    },
    {
     "name": "stderr",
     "output_type": "stream",
     "text": [
      "  7%|██▌                                | 0.7401847575057794/10 [01:52<23:56, 155.09s/it]"
     ]
    },
    {
     "name": "stdout",
     "output_type": "stream",
     "text": [
      "Train Epoch: 1 [10240/11092 (92%)]\tLoss: 0.942844\n",
      "Mem before-during-after: 21712384 21852160 21712384\n"
     ]
    },
    {
     "name": "stderr",
     "output_type": "stream",
     "text": [
      "  8%|██▊                                 | 0.786374133949199/10 [01:59<22:44, 148.04s/it]"
     ]
    },
    {
     "name": "stdout",
     "output_type": "stream",
     "text": [
      "Train Epoch: 1 [10880/11092 (98%)]\tLoss: 1.326571\n",
      "Mem before-during-after: 21712384 21852160 21712384\n"
     ]
    },
    {
     "name": "stderr",
     "output_type": "stream",
     "text": [
      " 10%|███▌                               | 1.0011547344110998/10 [02:30<22:27, 149.73s/it]"
     ]
    },
    {
     "name": "stdout",
     "output_type": "stream",
     "text": [
      "\n",
      "Test Epoch: 1\tAccuracy: 1316/2768 (47%)\n",
      "\n",
      "Train Epoch: 2 [0/11092 (0%)]\tLoss: 1.176242\n",
      "Mem before-during-after: 21711360 21852160 21712384\n"
     ]
    },
    {
     "name": "stderr",
     "output_type": "stream",
     "text": [
      " 10%|███▋                               | 1.0484988452656003/10 [02:37<21:56, 147.09s/it]"
     ]
    },
    {
     "name": "stdout",
     "output_type": "stream",
     "text": [
      "Train Epoch: 2 [640/11092 (6%)]\tLoss: 1.090240\n",
      "Mem before-during-after: 21712384 21852160 21712384\n"
     ]
    },
    {
     "name": "stderr",
     "output_type": "stream",
     "text": [
      " 11%|███▊                               | 1.0946882217090155/10 [02:44<21:58, 148.07s/it]"
     ]
    },
    {
     "name": "stdout",
     "output_type": "stream",
     "text": [
      "Train Epoch: 2 [1280/11092 (12%)]\tLoss: 1.068361\n",
      "Mem before-during-after: 21712384 21852160 21712384\n"
     ]
    },
    {
     "name": "stderr",
     "output_type": "stream",
     "text": [
      " 11%|███▉                               | 1.1408775981524306/10 [02:51<22:24, 151.75s/it]"
     ]
    },
    {
     "name": "stdout",
     "output_type": "stream",
     "text": [
      "Train Epoch: 2 [1920/11092 (17%)]\tLoss: 1.093284\n",
      "Mem before-during-after: 21712384 21852160 21712384\n"
     ]
    },
    {
     "name": "stderr",
     "output_type": "stream",
     "text": [
      " 12%|████▏                              | 1.1870669745958458/10 [02:58<22:00, 149.86s/it]"
     ]
    },
    {
     "name": "stdout",
     "output_type": "stream",
     "text": [
      "Train Epoch: 2 [2560/11092 (23%)]\tLoss: 0.806973\n",
      "Mem before-during-after: 21712384 21852160 21712384\n"
     ]
    },
    {
     "name": "stderr",
     "output_type": "stream",
     "text": [
      " 12%|████▍                               | 1.233256351039261/10 [03:05<21:45, 148.86s/it]"
     ]
    },
    {
     "name": "stdout",
     "output_type": "stream",
     "text": [
      "Train Epoch: 2 [3200/11092 (29%)]\tLoss: 1.086544\n",
      "Mem before-during-after: 21712384 21852160 21712384\n"
     ]
    },
    {
     "name": "stderr",
     "output_type": "stream",
     "text": [
      " 13%|████▌                               | 1.279445727482676/10 [03:12<22:40, 156.00s/it]"
     ]
    },
    {
     "name": "stdout",
     "output_type": "stream",
     "text": [
      "Train Epoch: 2 [3840/11092 (35%)]\tLoss: 1.094695\n",
      "Mem before-during-after: 21712384 21852160 21712384\n"
     ]
    },
    {
     "name": "stderr",
     "output_type": "stream",
     "text": [
      " 13%|████▋                              | 1.3256351039260912/10 [03:19<21:18, 147.41s/it]"
     ]
    },
    {
     "name": "stdout",
     "output_type": "stream",
     "text": [
      "Train Epoch: 2 [4480/11092 (40%)]\tLoss: 1.270298\n",
      "Mem before-during-after: 21712384 21852160 21712384\n"
     ]
    },
    {
     "name": "stderr",
     "output_type": "stream",
     "text": [
      " 14%|████▊                              | 1.3718244803695063/10 [03:26<21:35, 150.17s/it]"
     ]
    },
    {
     "name": "stdout",
     "output_type": "stream",
     "text": [
      "Train Epoch: 2 [5120/11092 (46%)]\tLoss: 1.208670\n",
      "Mem before-during-after: 21712384 21852160 21712384\n"
     ]
    },
    {
     "name": "stderr",
     "output_type": "stream",
     "text": [
      " 14%|████▉                              | 1.4180138568129215/10 [03:33<21:17, 148.84s/it]"
     ]
    },
    {
     "name": "stdout",
     "output_type": "stream",
     "text": [
      "Train Epoch: 2 [5760/11092 (52%)]\tLoss: 0.916043\n",
      "Mem before-during-after: 21712384 21852160 21712384\n"
     ]
    },
    {
     "name": "stderr",
     "output_type": "stream",
     "text": [
      " 15%|█████                              | 1.4642032332563366/10 [03:40<21:06, 148.35s/it]"
     ]
    },
    {
     "name": "stdout",
     "output_type": "stream",
     "text": [
      "Train Epoch: 2 [6400/11092 (58%)]\tLoss: 1.174070\n",
      "Mem before-during-after: 21712384 21852160 21712384\n"
     ]
    },
    {
     "name": "stderr",
     "output_type": "stream",
     "text": [
      " 15%|█████▎                             | 1.5103926096997518/10 [03:47<21:03, 148.87s/it]"
     ]
    },
    {
     "name": "stdout",
     "output_type": "stream",
     "text": [
      "Train Epoch: 2 [7040/11092 (63%)]\tLoss: 0.914202\n",
      "Mem before-during-after: 21712384 21852160 21712384\n"
     ]
    },
    {
     "name": "stderr",
     "output_type": "stream",
     "text": [
      " 16%|█████▌                              | 1.556581986143167/10 [03:54<21:55, 155.80s/it]"
     ]
    },
    {
     "name": "stdout",
     "output_type": "stream",
     "text": [
      "Train Epoch: 2 [7680/11092 (69%)]\tLoss: 1.178667\n",
      "Mem before-during-after: 21712384 21852160 21712384\n"
     ]
    },
    {
     "name": "stderr",
     "output_type": "stream",
     "text": [
      " 16%|█████▊                              | 1.602771362586582/10 [04:01<20:57, 149.77s/it]"
     ]
    },
    {
     "name": "stdout",
     "output_type": "stream",
     "text": [
      "Train Epoch: 2 [8320/11092 (75%)]\tLoss: 1.678817\n",
      "Mem before-during-after: 21712384 21852160 21712384\n"
     ]
    },
    {
     "name": "stderr",
     "output_type": "stream",
     "text": [
      " 16%|█████▊                             | 1.6489607390299972/10 [04:08<21:09, 152.00s/it]"
     ]
    },
    {
     "name": "stdout",
     "output_type": "stream",
     "text": [
      "Train Epoch: 2 [8960/11092 (81%)]\tLoss: 1.303959\n",
      "Mem before-during-after: 21712384 21852160 21712384\n"
     ]
    },
    {
     "name": "stderr",
     "output_type": "stream",
     "text": [
      " 17%|█████▉                             | 1.6951501154734123/10 [04:15<20:01, 144.66s/it]"
     ]
    },
    {
     "name": "stdout",
     "output_type": "stream",
     "text": [
      "Train Epoch: 2 [9600/11092 (87%)]\tLoss: 1.258935\n",
      "Mem before-during-after: 21712384 21852160 21712384\n"
     ]
    },
    {
     "name": "stderr",
     "output_type": "stream",
     "text": [
      " 17%|██████                             | 1.7413394919168275/10 [04:22<20:28, 148.74s/it]"
     ]
    },
    {
     "name": "stdout",
     "output_type": "stream",
     "text": [
      "Train Epoch: 2 [10240/11092 (92%)]\tLoss: 1.038812\n",
      "Mem before-during-after: 21712384 21852160 21712384\n"
     ]
    },
    {
     "name": "stderr",
     "output_type": "stream",
     "text": [
      " 18%|██████▎                            | 1.7875288683602426/10 [04:29<20:13, 147.79s/it]"
     ]
    },
    {
     "name": "stdout",
     "output_type": "stream",
     "text": [
      "Train Epoch: 2 [10880/11092 (98%)]\tLoss: 1.274372\n",
      "Mem before-during-after: 21712384 21852160 21712384\n"
     ]
    },
    {
     "name": "stderr",
     "output_type": "stream",
     "text": [
      " 20%|███████▏                            | 2.001154734411038/10 [05:01<20:08, 151.07s/it]"
     ]
    },
    {
     "name": "stdout",
     "output_type": "stream",
     "text": [
      "\n",
      "Test Epoch: 2\tAccuracy: 1412/2768 (51%)\n",
      "\n",
      "Train Epoch: 3 [0/11092 (0%)]\tLoss: 1.006190\n",
      "Mem before-during-after: 21711360 21852160 21712384\n"
     ]
    },
    {
     "name": "stderr",
     "output_type": "stream",
     "text": [
      " 20%|███████▏                           | 2.0484988452655384/10 [05:08<19:28, 146.93s/it]"
     ]
    },
    {
     "name": "stdout",
     "output_type": "stream",
     "text": [
      "Train Epoch: 3 [640/11092 (6%)]\tLoss: 1.259913\n",
      "Mem before-during-after: 21712384 21852160 21712384\n"
     ]
    },
    {
     "name": "stderr",
     "output_type": "stream",
     "text": [
      " 21%|███████▎                           | 2.0946882217089535/10 [05:15<19:20, 146.83s/it]"
     ]
    },
    {
     "name": "stdout",
     "output_type": "stream",
     "text": [
      "Train Epoch: 3 [1280/11092 (12%)]\tLoss: 1.115950\n",
      "Mem before-during-after: 21712384 21852160 21712384\n"
     ]
    },
    {
     "name": "stderr",
     "output_type": "stream",
     "text": [
      " 21%|███████▍                           | 2.1408775981523687/10 [05:22<19:44, 150.75s/it]"
     ]
    },
    {
     "name": "stdout",
     "output_type": "stream",
     "text": [
      "Train Epoch: 3 [1920/11092 (17%)]\tLoss: 1.236320\n",
      "Mem before-during-after: 21712384 21852160 21712384\n"
     ]
    },
    {
     "name": "stderr",
     "output_type": "stream",
     "text": [
      " 22%|███████▊                            | 2.187066974595784/10 [05:29<19:39, 150.92s/it]"
     ]
    },
    {
     "name": "stdout",
     "output_type": "stream",
     "text": [
      "Train Epoch: 3 [2560/11092 (23%)]\tLoss: 1.040712\n",
      "Mem before-during-after: 21712384 21852160 21712384\n"
     ]
    },
    {
     "name": "stderr",
     "output_type": "stream",
     "text": [
      " 22%|████████                            | 2.233256351039199/10 [05:36<19:38, 151.69s/it]"
     ]
    },
    {
     "name": "stdout",
     "output_type": "stream",
     "text": [
      "Train Epoch: 3 [3200/11092 (29%)]\tLoss: 1.237975\n",
      "Mem before-during-after: 21712384 21852160 21712384\n"
     ]
    },
    {
     "name": "stderr",
     "output_type": "stream",
     "text": [
      " 23%|████████▏                           | 2.279445727482614/10 [05:43<20:19, 157.99s/it]"
     ]
    },
    {
     "name": "stdout",
     "output_type": "stream",
     "text": [
      "Train Epoch: 3 [3840/11092 (35%)]\tLoss: 1.180586\n",
      "Mem before-during-after: 21712384 21852160 21712384\n"
     ]
    },
    {
     "name": "stderr",
     "output_type": "stream",
     "text": [
      " 23%|████████▏                          | 2.3256351039260292/10 [05:50<19:01, 148.78s/it]"
     ]
    },
    {
     "name": "stdout",
     "output_type": "stream",
     "text": [
      "Train Epoch: 3 [4480/11092 (40%)]\tLoss: 1.622214\n",
      "Mem before-during-after: 21712384 21852160 21712384\n"
     ]
    },
    {
     "name": "stderr",
     "output_type": "stream",
     "text": [
      " 24%|████████▎                          | 2.3718244803694444/10 [05:57<19:44, 155.27s/it]"
     ]
    },
    {
     "name": "stdout",
     "output_type": "stream",
     "text": [
      "Train Epoch: 3 [5120/11092 (46%)]\tLoss: 1.353977\n",
      "Mem before-during-after: 21712384 21852160 21712384\n"
     ]
    },
    {
     "name": "stderr",
     "output_type": "stream",
     "text": [
      " 24%|████████▍                          | 2.4180138568128595/10 [06:04<18:43, 148.17s/it]"
     ]
    },
    {
     "name": "stdout",
     "output_type": "stream",
     "text": [
      "Train Epoch: 3 [5760/11092 (52%)]\tLoss: 1.102082\n",
      "Mem before-during-after: 21712384 21852160 21712384\n"
     ]
    },
    {
     "name": "stderr",
     "output_type": "stream",
     "text": [
      " 25%|████████▌                          | 2.4642032332562747/10 [06:11<18:14, 145.28s/it]"
     ]
    },
    {
     "name": "stdout",
     "output_type": "stream",
     "text": [
      "Train Epoch: 3 [6400/11092 (58%)]\tLoss: 0.945293\n",
      "Mem before-during-after: 21712384 21852160 21712384\n"
     ]
    },
    {
     "name": "stderr",
     "output_type": "stream",
     "text": [
      " 25%|█████████▎                           | 2.51039260969969/10 [06:19<18:54, 151.52s/it]"
     ]
    },
    {
     "name": "stdout",
     "output_type": "stream",
     "text": [
      "Train Epoch: 3 [7040/11092 (63%)]\tLoss: 1.051409\n",
      "Mem before-during-after: 21712384 21852160 21712384\n"
     ]
    },
    {
     "name": "stderr",
     "output_type": "stream",
     "text": [
      " 26%|█████████▏                          | 2.556581986143105/10 [06:26<18:54, 152.36s/it]"
     ]
    },
    {
     "name": "stdout",
     "output_type": "stream",
     "text": [
      "Train Epoch: 3 [7680/11092 (69%)]\tLoss: 1.274641\n",
      "Mem before-during-after: 21712384 21852160 21712384\n"
     ]
    },
    {
     "name": "stderr",
     "output_type": "stream",
     "text": [
      " 26%|█████████▋                           | 2.60277136258652/10 [06:33<19:28, 157.96s/it]"
     ]
    },
    {
     "name": "stdout",
     "output_type": "stream",
     "text": [
      "Train Epoch: 3 [8320/11092 (75%)]\tLoss: 1.331835\n",
      "Mem before-during-after: 21712384 21852160 21712384\n"
     ]
    },
    {
     "name": "stderr",
     "output_type": "stream",
     "text": [
      " 26%|█████████▎                         | 2.6489607390299352/10 [06:40<18:37, 151.95s/it]"
     ]
    },
    {
     "name": "stdout",
     "output_type": "stream",
     "text": [
      "Train Epoch: 3 [8960/11092 (81%)]\tLoss: 1.160882\n",
      "Mem before-during-after: 21712384 21852160 21712384\n"
     ]
    },
    {
     "name": "stderr",
     "output_type": "stream",
     "text": [
      " 27%|█████████▍                         | 2.6951501154733504/10 [06:47<18:26, 151.44s/it]"
     ]
    },
    {
     "name": "stdout",
     "output_type": "stream",
     "text": [
      "Train Epoch: 3 [9600/11092 (87%)]\tLoss: 1.025762\n",
      "Mem before-during-after: 21712384 21852160 21712384\n"
     ]
    },
    {
     "name": "stderr",
     "output_type": "stream",
     "text": [
      " 27%|█████████▌                         | 2.7413394919167655/10 [06:53<17:51, 147.65s/it]"
     ]
    },
    {
     "name": "stdout",
     "output_type": "stream",
     "text": [
      "Train Epoch: 3 [10240/11092 (92%)]\tLoss: 1.062797\n",
      "Mem before-during-after: 21712384 21852160 21712384\n"
     ]
    },
    {
     "name": "stderr",
     "output_type": "stream",
     "text": [
      " 28%|█████████▊                         | 2.7875288683601807/10 [07:00<18:05, 150.55s/it]"
     ]
    },
    {
     "name": "stdout",
     "output_type": "stream",
     "text": [
      "Train Epoch: 3 [10880/11092 (98%)]\tLoss: 1.215636\n",
      "Mem before-during-after: 21712384 21852160 21712384\n"
     ]
    },
    {
     "name": "stderr",
     "output_type": "stream",
     "text": [
      " 30%|██████████▍                        | 2.9999999999998903/10 [07:32<17:08, 146.98s/it]"
     ]
    },
    {
     "name": "stdout",
     "output_type": "stream",
     "text": [
      "\n",
      "Test Epoch: 3\tAccuracy: 1378/2768 (50%)\n",
      "\n"
     ]
    },
    {
     "name": "stderr",
     "output_type": "stream",
     "text": [
      " 30%|██████████▊                         | 3.002309468822061/10 [07:33<18:06, 155.20s/it]"
     ]
    },
    {
     "name": "stdout",
     "output_type": "stream",
     "text": [
      "Train Epoch: 4 [0/11092 (0%)]\tLoss: 1.264553\n",
      "Mem before-during-after: 21711360 21852160 21712384\n"
     ]
    },
    {
     "name": "stderr",
     "output_type": "stream",
     "text": [
      " 30%|██████████▉                         | 3.048498845265476/10 [07:39<16:52, 145.68s/it]"
     ]
    },
    {
     "name": "stdout",
     "output_type": "stream",
     "text": [
      "Train Epoch: 4 [640/11092 (6%)]\tLoss: 1.088853\n",
      "Mem before-during-after: 21712384 21852160 21712384\n"
     ]
    },
    {
     "name": "stderr",
     "output_type": "stream",
     "text": [
      " 31%|██████████▊                        | 3.0946882217088914/10 [07:46<17:08, 148.89s/it]"
     ]
    },
    {
     "name": "stdout",
     "output_type": "stream",
     "text": [
      "Train Epoch: 4 [1280/11092 (12%)]\tLoss: 1.360160\n",
      "Mem before-during-after: 21712384 21852160 21712384\n"
     ]
    },
    {
     "name": "stderr",
     "output_type": "stream",
     "text": [
      " 31%|██████████▉                        | 3.1408775981523065/10 [07:53<17:13, 150.74s/it]"
     ]
    },
    {
     "name": "stdout",
     "output_type": "stream",
     "text": [
      "Train Epoch: 4 [1920/11092 (17%)]\tLoss: 0.802601\n",
      "Mem before-during-after: 21712384 21852160 21712384\n"
     ]
    },
    {
     "name": "stderr",
     "output_type": "stream",
     "text": [
      " 32%|███████████▏                       | 3.1870669745957216/10 [08:00<16:30, 145.35s/it]"
     ]
    },
    {
     "name": "stdout",
     "output_type": "stream",
     "text": [
      "Train Epoch: 4 [2560/11092 (23%)]\tLoss: 1.519784\n",
      "Mem before-during-after: 21712384 21852160 21712384\n"
     ]
    },
    {
     "name": "stderr",
     "output_type": "stream",
     "text": [
      " 32%|███████████▎                       | 3.2321016166280514/10 [08:07<16:37, 147.41s/it]"
     ]
    },
    {
     "name": "stdout",
     "output_type": "stream",
     "text": [
      "Train Epoch: 4 [3200/11092 (29%)]\tLoss: 1.499906\n",
      "Mem before-during-after: 21712384 21852160 21712384\n"
     ]
    },
    {
     "name": "stderr",
     "output_type": "stream",
     "text": [
      " 33%|███████████▊                        | 3.279445727482552/10 [08:14<16:08, 144.05s/it]"
     ]
    },
    {
     "name": "stdout",
     "output_type": "stream",
     "text": [
      "Train Epoch: 4 [3840/11092 (35%)]\tLoss: 0.927108\n",
      "Mem before-during-after: 21712384 21852160 21712384\n"
     ]
    },
    {
     "name": "stderr",
     "output_type": "stream",
     "text": [
      " 33%|███████████▉                        | 3.325635103925967/10 [08:21<16:06, 144.85s/it]"
     ]
    },
    {
     "name": "stdout",
     "output_type": "stream",
     "text": [
      "Train Epoch: 4 [4480/11092 (40%)]\tLoss: 1.274580\n",
      "Mem before-during-after: 21712384 21852160 21712384\n"
     ]
    },
    {
     "name": "stderr",
     "output_type": "stream",
     "text": [
      " 34%|████████████▏                       | 3.371824480369382/10 [08:28<16:15, 147.16s/it]"
     ]
    },
    {
     "name": "stdout",
     "output_type": "stream",
     "text": [
      "Train Epoch: 4 [5120/11092 (46%)]\tLoss: 0.973618\n",
      "Mem before-during-after: 21712384 21852160 21712384\n"
     ]
    },
    {
     "name": "stderr",
     "output_type": "stream",
     "text": [
      " 34%|███████████▉                       | 3.4180138568127973/10 [08:35<16:09, 147.29s/it]"
     ]
    },
    {
     "name": "stdout",
     "output_type": "stream",
     "text": [
      "Train Epoch: 4 [5760/11092 (52%)]\tLoss: 0.937417\n",
      "Mem before-during-after: 21712384 21852160 21712384\n"
     ]
    },
    {
     "name": "stderr",
     "output_type": "stream",
     "text": [
      " 35%|████████████                       | 3.4642032332562125/10 [08:42<15:55, 146.18s/it]"
     ]
    },
    {
     "name": "stdout",
     "output_type": "stream",
     "text": [
      "Train Epoch: 4 [6400/11092 (58%)]\tLoss: 1.331755\n",
      "Mem before-during-after: 21712384 21852160 21712384\n"
     ]
    },
    {
     "name": "stderr",
     "output_type": "stream",
     "text": [
      " 35%|████████████▎                      | 3.5103926096996276/10 [08:49<15:52, 146.73s/it]"
     ]
    },
    {
     "name": "stdout",
     "output_type": "stream",
     "text": [
      "Train Epoch: 4 [7040/11092 (63%)]\tLoss: 1.197961\n",
      "Mem before-during-after: 21712384 21852160 21712384\n"
     ]
    },
    {
     "name": "stderr",
     "output_type": "stream",
     "text": [
      " 36%|████████████▍                      | 3.5565819861430428/10 [08:56<15:38, 145.64s/it]"
     ]
    },
    {
     "name": "stdout",
     "output_type": "stream",
     "text": [
      "Train Epoch: 4 [7680/11092 (69%)]\tLoss: 1.182577\n",
      "Mem before-during-after: 21712384 21852160 21712384\n"
     ]
    },
    {
     "name": "stderr",
     "output_type": "stream",
     "text": [
      " 36%|████████████▉                       | 3.602771362586458/10 [09:03<16:42, 156.65s/it]"
     ]
    },
    {
     "name": "stdout",
     "output_type": "stream",
     "text": [
      "Train Epoch: 4 [8320/11092 (75%)]\tLoss: 0.970816\n",
      "Mem before-during-after: 21712384 21852160 21712384\n"
     ]
    },
    {
     "name": "stderr",
     "output_type": "stream",
     "text": [
      " 36%|█████████████▏                      | 3.648960739029873/10 [09:10<15:42, 148.43s/it]"
     ]
    },
    {
     "name": "stdout",
     "output_type": "stream",
     "text": [
      "Train Epoch: 4 [8960/11092 (81%)]\tLoss: 0.890239\n",
      "Mem before-during-after: 21712384 21852160 21712384\n"
     ]
    },
    {
     "name": "stderr",
     "output_type": "stream",
     "text": [
      " 37%|█████████████▎                      | 3.695150115473288/10 [09:17<22:43, 216.31s/it]"
     ]
    },
    {
     "name": "stdout",
     "output_type": "stream",
     "text": [
      "Train Epoch: 4 [9600/11092 (87%)]\tLoss: 0.907754\n",
      "Mem before-during-after: 21712384 21852160 21712384\n"
     ]
    },
    {
     "name": "stderr",
     "output_type": "stream",
     "text": [
      " 37%|█████████████                      | 3.7413394919167033/10 [09:24<15:56, 152.82s/it]"
     ]
    },
    {
     "name": "stdout",
     "output_type": "stream",
     "text": [
      "Train Epoch: 4 [10240/11092 (92%)]\tLoss: 1.161965\n",
      "Mem before-during-after: 21712384 21852160 21712384\n"
     ]
    },
    {
     "name": "stderr",
     "output_type": "stream",
     "text": [
      " 38%|█████████████▎                     | 3.7875288683601185/10 [09:31<15:15, 147.35s/it]"
     ]
    },
    {
     "name": "stdout",
     "output_type": "stream",
     "text": [
      "Train Epoch: 4 [10880/11092 (98%)]\tLoss: 1.041266\n",
      "Mem before-during-after: 21712384 21852160 21712384\n"
     ]
    },
    {
     "name": "stderr",
     "output_type": "stream",
     "text": [
      " 40%|██████████████▍                     | 4.001154734410914/10 [10:02<14:25, 144.30s/it]"
     ]
    },
    {
     "name": "stdout",
     "output_type": "stream",
     "text": [
      "\n",
      "Test Epoch: 4\tAccuracy: 1339/2768 (48%)\n",
      "\n",
      "Train Epoch: 5 [0/11092 (0%)]\tLoss: 0.952917\n",
      "Mem before-during-after: 21711360 21852160 21712384\n"
     ]
    },
    {
     "name": "stderr",
     "output_type": "stream",
     "text": [
      " 40%|██████████████▏                    | 4.0484988452654145/10 [10:09<14:10, 142.84s/it]"
     ]
    },
    {
     "name": "stdout",
     "output_type": "stream",
     "text": [
      "Train Epoch: 5 [640/11092 (6%)]\tLoss: 0.950816\n",
      "Mem before-during-after: 21712384 21852160 21712384\n"
     ]
    },
    {
     "name": "stderr",
     "output_type": "stream",
     "text": [
      " 41%|███████████████▏                     | 4.09468822170883/10 [10:16<14:05, 143.17s/it]"
     ]
    },
    {
     "name": "stdout",
     "output_type": "stream",
     "text": [
      "Train Epoch: 5 [1280/11092 (12%)]\tLoss: 0.911738\n",
      "Mem before-during-after: 21712384 21852160 21712384\n"
     ]
    },
    {
     "name": "stderr",
     "output_type": "stream",
     "text": [
      " 41%|██████████████▉                     | 4.139722863741159/10 [10:23<14:05, 144.25s/it]"
     ]
    },
    {
     "name": "stdout",
     "output_type": "stream",
     "text": [
      "Train Epoch: 5 [1920/11092 (17%)]\tLoss: 1.762325\n",
      "Mem before-during-after: 21712384 21852160 21712384\n"
     ]
    },
    {
     "name": "stderr",
     "output_type": "stream",
     "text": [
      " 42%|███████████████▍                     | 4.18706697459566/10 [10:30<14:07, 145.82s/it]"
     ]
    },
    {
     "name": "stdout",
     "output_type": "stream",
     "text": [
      "Train Epoch: 5 [2560/11092 (23%)]\tLoss: 1.301590\n",
      "Mem before-during-after: 21712384 21852160 21712384\n"
     ]
    },
    {
     "name": "stderr",
     "output_type": "stream",
     "text": [
      " 42%|███████████████▏                    | 4.233256351039075/10 [10:37<13:52, 144.30s/it]"
     ]
    },
    {
     "name": "stdout",
     "output_type": "stream",
     "text": [
      "Train Epoch: 5 [3200/11092 (29%)]\tLoss: 1.356134\n",
      "Mem before-during-after: 21712384 21852160 21712384\n"
     ]
    },
    {
     "name": "stderr",
     "output_type": "stream",
     "text": [
      " 43%|███████████████▊                     | 4.27944572748249/10 [10:43<13:51, 145.40s/it]"
     ]
    },
    {
     "name": "stdout",
     "output_type": "stream",
     "text": [
      "Train Epoch: 5 [3840/11092 (35%)]\tLoss: 1.190573\n",
      "Mem before-during-after: 21712384 21852160 21712384\n"
     ]
    },
    {
     "name": "stderr",
     "output_type": "stream",
     "text": [
      " 43%|███████████████▌                    | 4.325635103925905/10 [10:50<13:47, 145.80s/it]"
     ]
    },
    {
     "name": "stdout",
     "output_type": "stream",
     "text": [
      "Train Epoch: 5 [4480/11092 (40%)]\tLoss: 0.942407\n",
      "Mem before-during-after: 21712384 21852160 21712384\n"
     ]
    },
    {
     "name": "stderr",
     "output_type": "stream",
     "text": [
      " 44%|███████████████▋                    | 4.370669745958235/10 [10:57<13:47, 147.02s/it]"
     ]
    },
    {
     "name": "stdout",
     "output_type": "stream",
     "text": [
      "Train Epoch: 5 [5120/11092 (46%)]\tLoss: 0.838468\n",
      "Mem before-during-after: 21712384 21852160 21712384\n"
     ]
    },
    {
     "name": "stderr",
     "output_type": "stream",
     "text": [
      " 44%|███████████████▉                    | 4.418013856812736/10 [11:04<13:14, 142.40s/it]"
     ]
    },
    {
     "name": "stdout",
     "output_type": "stream",
     "text": [
      "Train Epoch: 5 [5760/11092 (52%)]\tLoss: 0.800010\n",
      "Mem before-during-after: 21712384 21852160 21712384\n"
     ]
    },
    {
     "name": "stderr",
     "output_type": "stream",
     "text": [
      " 45%|████████████████                    | 4.464203233256151/10 [11:10<13:49, 149.85s/it]"
     ]
    },
    {
     "name": "stdout",
     "output_type": "stream",
     "text": [
      "Train Epoch: 5 [6400/11092 (58%)]\tLoss: 1.203303\n",
      "Mem before-during-after: 21712384 21852160 21712384\n"
     ]
    },
    {
     "name": "stderr",
     "output_type": "stream",
     "text": [
      " 45%|████████████████▏                   | 4.510392609699566/10 [11:17<13:30, 147.62s/it]"
     ]
    },
    {
     "name": "stdout",
     "output_type": "stream",
     "text": [
      "Train Epoch: 5 [7040/11092 (63%)]\tLoss: 1.132174\n",
      "Mem before-during-after: 21712384 21852160 21712384\n"
     ]
    },
    {
     "name": "stderr",
     "output_type": "stream",
     "text": [
      " 46%|████████████████▍                   | 4.556581986142981/10 [11:24<13:19, 146.92s/it]"
     ]
    },
    {
     "name": "stdout",
     "output_type": "stream",
     "text": [
      "Train Epoch: 5 [7680/11092 (69%)]\tLoss: 1.159764\n",
      "Mem before-during-after: 21712384 21852160 21712384\n"
     ]
    },
    {
     "name": "stderr",
     "output_type": "stream",
     "text": [
      " 46%|████████████████▌                   | 4.602771362586396/10 [11:31<13:00, 144.54s/it]"
     ]
    },
    {
     "name": "stdout",
     "output_type": "stream",
     "text": [
      "Train Epoch: 5 [8320/11092 (75%)]\tLoss: 1.808243\n",
      "Mem before-during-after: 21712384 21852160 21712384\n"
     ]
    },
    {
     "name": "stderr",
     "output_type": "stream",
     "text": [
      " 46%|████████████████▋                   | 4.648960739029811/10 [11:38<12:53, 144.60s/it]"
     ]
    },
    {
     "name": "stdout",
     "output_type": "stream",
     "text": [
      "Train Epoch: 5 [8960/11092 (81%)]\tLoss: 1.094407\n",
      "Mem before-during-after: 21712384 21852160 21712384\n"
     ]
    },
    {
     "name": "stderr",
     "output_type": "stream",
     "text": [
      " 47%|████████████████▍                  | 4.6951501154732265/10 [11:44<12:45, 144.30s/it]"
     ]
    },
    {
     "name": "stdout",
     "output_type": "stream",
     "text": [
      "Train Epoch: 5 [9600/11092 (87%)]\tLoss: 0.865032\n",
      "Mem before-during-after: 21712384 21852160 21712384\n"
     ]
    },
    {
     "name": "stderr",
     "output_type": "stream",
     "text": [
      " 47%|█████████████████                   | 4.741339491916642/10 [11:51<13:10, 150.37s/it]"
     ]
    },
    {
     "name": "stdout",
     "output_type": "stream",
     "text": [
      "Train Epoch: 5 [10240/11092 (92%)]\tLoss: 0.723345\n",
      "Mem before-during-after: 21712384 21852160 21712384\n"
     ]
    },
    {
     "name": "stderr",
     "output_type": "stream",
     "text": [
      " 48%|█████████████████▏                  | 4.787528868360057/10 [11:58<12:44, 146.60s/it]"
     ]
    },
    {
     "name": "stdout",
     "output_type": "stream",
     "text": [
      "Train Epoch: 5 [10880/11092 (98%)]\tLoss: 0.913600\n",
      "Mem before-during-after: 21712384 21852160 21712384\n"
     ]
    },
    {
     "name": "stderr",
     "output_type": "stream",
     "text": [
      " 50%|██████████████████                  | 5.001154734410852/10 [12:29<12:03, 144.71s/it]"
     ]
    },
    {
     "name": "stdout",
     "output_type": "stream",
     "text": [
      "\n",
      "Test Epoch: 5\tAccuracy: 1436/2768 (52%)\n",
      "\n",
      "Train Epoch: 6 [0/11092 (0%)]\tLoss: 0.880267\n",
      "Mem before-during-after: 21711360 21852160 21712384\n"
     ]
    },
    {
     "name": "stderr",
     "output_type": "stream",
     "text": [
      " 50%|██████████████████▏                 | 5.048498845265352/10 [12:36<11:51, 143.73s/it]"
     ]
    },
    {
     "name": "stdout",
     "output_type": "stream",
     "text": [
      "Train Epoch: 6 [640/11092 (6%)]\tLoss: 1.417029\n",
      "Mem before-during-after: 21712384 21852160 21712384\n"
     ]
    },
    {
     "name": "stderr",
     "output_type": "stream",
     "text": [
      " 51%|█████████████████▊                 | 5.0946882217087675/10 [12:43<12:00, 146.86s/it]"
     ]
    },
    {
     "name": "stdout",
     "output_type": "stream",
     "text": [
      "Train Epoch: 6 [1280/11092 (12%)]\tLoss: 1.053423\n",
      "Mem before-during-after: 21712384 21852160 21712384\n"
     ]
    },
    {
     "name": "stderr",
     "output_type": "stream",
     "text": [
      " 51%|██████████████████▌                 | 5.140877598152183/10 [12:49<11:32, 142.55s/it]"
     ]
    },
    {
     "name": "stdout",
     "output_type": "stream",
     "text": [
      "Train Epoch: 6 [1920/11092 (17%)]\tLoss: 1.234962\n",
      "Mem before-during-after: 21712384 21852160 21712384\n"
     ]
    },
    {
     "name": "stderr",
     "output_type": "stream",
     "text": [
      " 52%|██████████████████▋                 | 5.187066974595598/10 [12:56<12:05, 150.76s/it]"
     ]
    },
    {
     "name": "stdout",
     "output_type": "stream",
     "text": [
      "Train Epoch: 6 [2560/11092 (23%)]\tLoss: 1.039384\n",
      "Mem before-during-after: 21712384 21852160 21712384\n"
     ]
    },
    {
     "name": "stderr",
     "output_type": "stream",
     "text": [
      " 52%|██████████████████▊                 | 5.233256351039013/10 [13:03<11:39, 146.76s/it]"
     ]
    },
    {
     "name": "stdout",
     "output_type": "stream",
     "text": [
      "Train Epoch: 6 [3200/11092 (29%)]\tLoss: 0.900891\n",
      "Mem before-during-after: 21712384 21852160 21712384\n"
     ]
    },
    {
     "name": "stderr",
     "output_type": "stream",
     "text": [
      " 53%|███████████████████                 | 5.279445727482428/10 [13:10<11:26, 145.39s/it]"
     ]
    },
    {
     "name": "stdout",
     "output_type": "stream",
     "text": [
      "Train Epoch: 6 [3840/11092 (35%)]\tLoss: 1.305844\n",
      "Mem before-during-after: 21712384 21852160 21712384\n"
     ]
    },
    {
     "name": "stderr",
     "output_type": "stream",
     "text": [
      " 53%|███████████████████▏                | 5.325635103925843/10 [13:16<11:26, 146.86s/it]"
     ]
    },
    {
     "name": "stdout",
     "output_type": "stream",
     "text": [
      "Train Epoch: 6 [4480/11092 (40%)]\tLoss: 1.353625\n",
      "Mem before-during-after: 21712384 21852160 21712384\n"
     ]
    },
    {
     "name": "stderr",
     "output_type": "stream",
     "text": [
      " 54%|███████████████████▎                | 5.371824480369258/10 [13:23<11:14, 145.81s/it]"
     ]
    },
    {
     "name": "stdout",
     "output_type": "stream",
     "text": [
      "Train Epoch: 6 [5120/11092 (46%)]\tLoss: 1.087677\n",
      "Mem before-during-after: 21712384 21852160 21712384\n"
     ]
    },
    {
     "name": "stderr",
     "output_type": "stream",
     "text": [
      " 54%|██████████████████▉                | 5.4180138568126734/10 [13:30<11:10, 146.28s/it]"
     ]
    },
    {
     "name": "stdout",
     "output_type": "stream",
     "text": [
      "Train Epoch: 6 [5760/11092 (52%)]\tLoss: 1.353674\n",
      "Mem before-during-after: 21712384 21852160 21712384\n"
     ]
    },
    {
     "name": "stderr",
     "output_type": "stream",
     "text": [
      " 55%|███████████████████▋                | 5.464203233256089/10 [13:37<10:57, 144.96s/it]"
     ]
    },
    {
     "name": "stdout",
     "output_type": "stream",
     "text": [
      "Train Epoch: 6 [6400/11092 (58%)]\tLoss: 1.114090\n",
      "Mem before-during-after: 21712384 21852160 21712384\n"
     ]
    },
    {
     "name": "stderr",
     "output_type": "stream",
     "text": [
      " 55%|███████████████████▊                | 5.510392609699504/10 [13:43<11:07, 148.77s/it]"
     ]
    },
    {
     "name": "stdout",
     "output_type": "stream",
     "text": [
      "Train Epoch: 6 [7040/11092 (63%)]\tLoss: 1.200373\n",
      "Mem before-during-after: 21712384 21852160 21712384\n"
     ]
    },
    {
     "name": "stderr",
     "output_type": "stream",
     "text": [
      " 56%|████████████████████                | 5.556581986142919/10 [13:50<11:18, 152.78s/it]"
     ]
    },
    {
     "name": "stdout",
     "output_type": "stream",
     "text": [
      "Train Epoch: 6 [7680/11092 (69%)]\tLoss: 1.347783\n",
      "Mem before-during-after: 21712384 21852160 21712384\n"
     ]
    },
    {
     "name": "stderr",
     "output_type": "stream",
     "text": [
      " 56%|████████████████████▏               | 5.602771362586334/10 [13:57<10:30, 143.49s/it]"
     ]
    },
    {
     "name": "stdout",
     "output_type": "stream",
     "text": [
      "Train Epoch: 6 [8320/11092 (75%)]\tLoss: 0.993539\n",
      "Mem before-during-after: 21712384 21852160 21712384\n"
     ]
    },
    {
     "name": "stderr",
     "output_type": "stream",
     "text": [
      " 56%|████████████████████▎               | 5.648960739029749/10 [14:04<10:31, 145.17s/it]"
     ]
    },
    {
     "name": "stdout",
     "output_type": "stream",
     "text": [
      "Train Epoch: 6 [8960/11092 (81%)]\tLoss: 0.990333\n",
      "Mem before-during-after: 21712384 21852160 21712384\n"
     ]
    },
    {
     "name": "stderr",
     "output_type": "stream",
     "text": [
      " 57%|████████████████████▌               | 5.695150115473164/10 [14:11<10:23, 144.84s/it]"
     ]
    },
    {
     "name": "stdout",
     "output_type": "stream",
     "text": [
      "Train Epoch: 6 [9600/11092 (87%)]\tLoss: 1.181973\n",
      "Mem before-during-after: 21712384 21852160 21712384\n"
     ]
    },
    {
     "name": "stderr",
     "output_type": "stream",
     "text": [
      " 57%|████████████████████▋               | 5.741339491916579/10 [14:18<10:17, 144.99s/it]"
     ]
    },
    {
     "name": "stdout",
     "output_type": "stream",
     "text": [
      "Train Epoch: 6 [10240/11092 (92%)]\tLoss: 1.001749\n",
      "Mem before-during-after: 21712384 21852160 21712384\n"
     ]
    },
    {
     "name": "stderr",
     "output_type": "stream",
     "text": [
      " 58%|████████████████████▊               | 5.787528868359995/10 [14:25<10:13, 145.58s/it]"
     ]
    },
    {
     "name": "stdout",
     "output_type": "stream",
     "text": [
      "Train Epoch: 6 [10880/11092 (98%)]\tLoss: 1.168764\n",
      "Mem before-during-after: 21712384 21852160 21712384\n"
     ]
    },
    {
     "name": "stderr",
     "output_type": "stream",
     "text": [
      " 60%|██████████████████████▏              | 6.00115473441079/10 [14:56<09:24, 141.08s/it]"
     ]
    },
    {
     "name": "stdout",
     "output_type": "stream",
     "text": [
      "\n",
      "Test Epoch: 6\tAccuracy: 1410/2768 (51%)\n",
      "\n",
      "Train Epoch: 7 [0/11092 (0%)]\tLoss: 1.027818\n",
      "Mem before-during-after: 21711360 21852160 21712384\n"
     ]
    },
    {
     "name": "stderr",
     "output_type": "stream",
     "text": [
      " 60%|██████████████████████▍              | 6.04849884526529/10 [15:03<09:28, 143.95s/it]"
     ]
    },
    {
     "name": "stdout",
     "output_type": "stream",
     "text": [
      "Train Epoch: 7 [640/11092 (6%)]\tLoss: 1.122777\n",
      "Mem before-during-after: 21712384 21852160 21712384\n"
     ]
    },
    {
     "name": "stderr",
     "output_type": "stream",
     "text": [
      " 61%|█████████████████████▉              | 6.094688221708705/10 [15:09<09:40, 148.62s/it]"
     ]
    },
    {
     "name": "stdout",
     "output_type": "stream",
     "text": [
      "Train Epoch: 7 [1280/11092 (12%)]\tLoss: 1.116350\n",
      "Mem before-during-after: 21712384 21852160 21712384\n"
     ]
    },
    {
     "name": "stderr",
     "output_type": "stream",
     "text": [
      " 61%|██████████████████████▋              | 6.14087759815212/10 [15:16<09:27, 146.98s/it]"
     ]
    },
    {
     "name": "stdout",
     "output_type": "stream",
     "text": [
      "Train Epoch: 7 [1920/11092 (17%)]\tLoss: 0.979798\n",
      "Mem before-during-after: 21712384 21852160 21712384\n"
     ]
    },
    {
     "name": "stderr",
     "output_type": "stream",
     "text": [
      " 62%|██████████████████████▎             | 6.187066974595536/10 [15:23<09:11, 144.72s/it]"
     ]
    },
    {
     "name": "stdout",
     "output_type": "stream",
     "text": [
      "Train Epoch: 7 [2560/11092 (23%)]\tLoss: 1.146531\n",
      "Mem before-during-after: 21712384 21852160 21712384\n"
     ]
    },
    {
     "name": "stderr",
     "output_type": "stream",
     "text": [
      " 62%|██████████████████████▍             | 6.233256351038951/10 [15:30<09:17, 147.89s/it]"
     ]
    },
    {
     "name": "stdout",
     "output_type": "stream",
     "text": [
      "Train Epoch: 7 [3200/11092 (29%)]\tLoss: 1.011552\n",
      "Mem before-during-after: 21712384 21852160 21712384\n"
     ]
    },
    {
     "name": "stderr",
     "output_type": "stream",
     "text": [
      " 63%|██████████████████████▌             | 6.279445727482366/10 [15:37<09:00, 145.19s/it]"
     ]
    },
    {
     "name": "stdout",
     "output_type": "stream",
     "text": [
      "Train Epoch: 7 [3840/11092 (35%)]\tLoss: 0.892519\n",
      "Mem before-during-after: 21712384 21852160 21712384\n"
     ]
    },
    {
     "name": "stderr",
     "output_type": "stream",
     "text": [
      " 63%|██████████████████████▊             | 6.325635103925781/10 [15:43<08:45, 142.97s/it]"
     ]
    },
    {
     "name": "stdout",
     "output_type": "stream",
     "text": [
      "Train Epoch: 7 [4480/11092 (40%)]\tLoss: 0.966568\n",
      "Mem before-during-after: 21712384 21852160 21712384\n"
     ]
    },
    {
     "name": "stderr",
     "output_type": "stream",
     "text": [
      " 64%|██████████████████████▉             | 6.371824480369196/10 [15:50<08:53, 147.16s/it]"
     ]
    },
    {
     "name": "stdout",
     "output_type": "stream",
     "text": [
      "Train Epoch: 7 [5120/11092 (46%)]\tLoss: 1.182804\n",
      "Mem before-during-after: 21712384 21852160 21712384\n"
     ]
    },
    {
     "name": "stderr",
     "output_type": "stream",
     "text": [
      " 64%|███████████████████████             | 6.418013856812611/10 [15:57<08:39, 145.13s/it]"
     ]
    },
    {
     "name": "stdout",
     "output_type": "stream",
     "text": [
      "Train Epoch: 7 [5760/11092 (52%)]\tLoss: 1.186967\n",
      "Mem before-during-after: 21712384 21852160 21712384\n"
     ]
    },
    {
     "name": "stderr",
     "output_type": "stream",
     "text": [
      " 65%|███████████████████████▎            | 6.464203233256026/10 [16:04<08:27, 143.41s/it]"
     ]
    },
    {
     "name": "stdout",
     "output_type": "stream",
     "text": [
      "Train Epoch: 7 [6400/11092 (58%)]\tLoss: 1.022287\n",
      "Mem before-during-after: 21712384 21852160 21712384\n"
     ]
    },
    {
     "name": "stderr",
     "output_type": "stream",
     "text": [
      " 65%|███████████████████████▍            | 6.510392609699442/10 [16:10<08:34, 147.51s/it]"
     ]
    },
    {
     "name": "stdout",
     "output_type": "stream",
     "text": [
      "Train Epoch: 7 [7040/11092 (63%)]\tLoss: 1.376207\n",
      "Mem before-during-after: 21712384 21852160 21712384\n"
     ]
    },
    {
     "name": "stderr",
     "output_type": "stream",
     "text": [
      " 66%|███████████████████████▌            | 6.556581986142857/10 [16:17<08:21, 145.58s/it]"
     ]
    },
    {
     "name": "stdout",
     "output_type": "stream",
     "text": [
      "Train Epoch: 7 [7680/11092 (69%)]\tLoss: 1.185251\n",
      "Mem before-during-after: 21712384 21852160 21712384\n"
     ]
    },
    {
     "name": "stderr",
     "output_type": "stream",
     "text": [
      " 66%|███████████████████████▊            | 6.602771362586272/10 [16:24<08:08, 143.76s/it]"
     ]
    },
    {
     "name": "stdout",
     "output_type": "stream",
     "text": [
      "Train Epoch: 7 [8320/11092 (75%)]\tLoss: 1.176056\n",
      "Mem before-during-after: 21712384 21852160 21712384\n"
     ]
    },
    {
     "name": "stderr",
     "output_type": "stream",
     "text": [
      " 66%|███████████████████████▉            | 6.648960739029687/10 [16:31<08:18, 148.66s/it]"
     ]
    },
    {
     "name": "stdout",
     "output_type": "stream",
     "text": [
      "Train Epoch: 7 [8960/11092 (81%)]\tLoss: 0.952686\n",
      "Mem before-during-after: 21712384 21852160 21712384\n"
     ]
    },
    {
     "name": "stderr",
     "output_type": "stream",
     "text": [
      " 67%|████████████████████████            | 6.695150115473102/10 [16:37<08:01, 145.63s/it]"
     ]
    },
    {
     "name": "stdout",
     "output_type": "stream",
     "text": [
      "Train Epoch: 7 [9600/11092 (87%)]\tLoss: 1.061052\n",
      "Mem before-during-after: 21712384 21852160 21712384\n"
     ]
    },
    {
     "name": "stderr",
     "output_type": "stream",
     "text": [
      " 67%|████████████████████████▎           | 6.741339491916517/10 [16:44<07:47, 143.45s/it]"
     ]
    },
    {
     "name": "stdout",
     "output_type": "stream",
     "text": [
      "Train Epoch: 7 [10240/11092 (92%)]\tLoss: 1.022014\n",
      "Mem before-during-after: 21712384 21852160 21712384\n"
     ]
    },
    {
     "name": "stderr",
     "output_type": "stream",
     "text": [
      " 68%|████████████████████████▍           | 6.787528868359932/10 [16:51<07:45, 145.00s/it]"
     ]
    },
    {
     "name": "stdout",
     "output_type": "stream",
     "text": [
      "Train Epoch: 7 [10880/11092 (98%)]\tLoss: 1.057650\n",
      "Mem before-during-after: 21712384 21852160 21712384\n"
     ]
    },
    {
     "name": "stderr",
     "output_type": "stream",
     "text": [
      " 70%|█████████████████████████▏          | 7.001154734410727/10 [17:23<07:08, 142.82s/it]"
     ]
    },
    {
     "name": "stdout",
     "output_type": "stream",
     "text": [
      "\n",
      "Test Epoch: 7\tAccuracy: 1478/2768 (53%)\n",
      "\n",
      "Train Epoch: 8 [0/11092 (0%)]\tLoss: 0.945719\n",
      "Mem before-during-after: 21711360 21852160 21712384\n"
     ]
    },
    {
     "name": "stderr",
     "output_type": "stream",
     "text": [
      " 70%|█████████████████████████▎          | 7.048498845265228/10 [17:30<07:06, 144.58s/it]"
     ]
    },
    {
     "name": "stdout",
     "output_type": "stream",
     "text": [
      "Train Epoch: 8 [640/11092 (6%)]\tLoss: 1.221235\n",
      "Mem before-during-after: 21712384 21852160 21712384\n"
     ]
    },
    {
     "name": "stderr",
     "output_type": "stream",
     "text": [
      " 71%|█████████████████████████▌          | 7.094688221708643/10 [17:37<06:58, 144.19s/it]"
     ]
    },
    {
     "name": "stdout",
     "output_type": "stream",
     "text": [
      "Train Epoch: 8 [1280/11092 (12%)]\tLoss: 0.991699\n",
      "Mem before-during-after: 21712384 21852160 21712384\n"
     ]
    },
    {
     "name": "stderr",
     "output_type": "stream",
     "text": [
      " 71%|█████████████████████████▋          | 7.140877598152058/10 [17:44<06:51, 144.01s/it]"
     ]
    },
    {
     "name": "stdout",
     "output_type": "stream",
     "text": [
      "Train Epoch: 8 [1920/11092 (17%)]\tLoss: 0.896704\n",
      "Mem before-during-after: 21712384 21852160 21712384\n"
     ]
    },
    {
     "name": "stderr",
     "output_type": "stream",
     "text": [
      " 72%|█████████████████████████▊          | 7.187066974595473/10 [17:50<06:56, 148.19s/it]"
     ]
    },
    {
     "name": "stdout",
     "output_type": "stream",
     "text": [
      "Train Epoch: 8 [2560/11092 (23%)]\tLoss: 1.301641\n",
      "Mem before-during-after: 21712384 21852160 21712384\n"
     ]
    },
    {
     "name": "stderr",
     "output_type": "stream",
     "text": [
      " 72%|█████████████████████████▎         | 7.2332563510388885/10 [17:57<06:45, 146.39s/it]"
     ]
    },
    {
     "name": "stdout",
     "output_type": "stream",
     "text": [
      "Train Epoch: 8 [3200/11092 (29%)]\tLoss: 1.339834\n",
      "Mem before-during-after: 21712384 21852160 21712384\n"
     ]
    },
    {
     "name": "stderr",
     "output_type": "stream",
     "text": [
      " 73%|██████████████████████████▏         | 7.279445727482304/10 [18:04<06:32, 144.34s/it]"
     ]
    },
    {
     "name": "stdout",
     "output_type": "stream",
     "text": [
      "Train Epoch: 8 [3840/11092 (35%)]\tLoss: 1.273226\n",
      "Mem before-during-after: 21712384 21852160 21712384\n"
     ]
    },
    {
     "name": "stderr",
     "output_type": "stream",
     "text": [
      " 73%|██████████████████████████▎         | 7.325635103925719/10 [18:11<06:33, 146.96s/it]"
     ]
    },
    {
     "name": "stdout",
     "output_type": "stream",
     "text": [
      "Train Epoch: 8 [4480/11092 (40%)]\tLoss: 0.697413\n",
      "Mem before-during-after: 21712384 21852160 21712384\n"
     ]
    },
    {
     "name": "stderr",
     "output_type": "stream",
     "text": [
      " 74%|██████████████████████████▌         | 7.371824480369134/10 [18:17<06:30, 148.47s/it]"
     ]
    },
    {
     "name": "stdout",
     "output_type": "stream",
     "text": [
      "Train Epoch: 8 [5120/11092 (46%)]\tLoss: 1.040694\n",
      "Mem before-during-after: 21712384 21852160 21712384\n"
     ]
    },
    {
     "name": "stderr",
     "output_type": "stream",
     "text": [
      " 74%|██████████████████████████▋         | 7.418013856812549/10 [18:24<06:19, 147.16s/it]"
     ]
    },
    {
     "name": "stdout",
     "output_type": "stream",
     "text": [
      "Train Epoch: 8 [5760/11092 (52%)]\tLoss: 1.006060\n",
      "Mem before-during-after: 21712384 21852160 21712384\n"
     ]
    },
    {
     "name": "stderr",
     "output_type": "stream",
     "text": [
      " 75%|██████████████████████████▊         | 7.464203233255964/10 [18:31<06:01, 142.59s/it]"
     ]
    },
    {
     "name": "stdout",
     "output_type": "stream",
     "text": [
      "Train Epoch: 8 [6400/11092 (58%)]\tLoss: 1.135230\n",
      "Mem before-during-after: 21712384 21852160 21712384\n"
     ]
    },
    {
     "name": "stderr",
     "output_type": "stream",
     "text": [
      " 75%|███████████████████████████         | 7.510392609699379/10 [18:38<05:58, 143.82s/it]"
     ]
    },
    {
     "name": "stdout",
     "output_type": "stream",
     "text": [
      "Train Epoch: 8 [7040/11092 (63%)]\tLoss: 0.921414\n",
      "Mem before-during-after: 21712384 21852160 21712384\n"
     ]
    },
    {
     "name": "stderr",
     "output_type": "stream",
     "text": [
      " 76%|██████████████████████████▍        | 7.5565819861427945/10 [18:44<05:56, 145.71s/it]"
     ]
    },
    {
     "name": "stdout",
     "output_type": "stream",
     "text": [
      "Train Epoch: 8 [7680/11092 (69%)]\tLoss: 0.989608\n",
      "Mem before-during-after: 21712384 21852160 21712384\n"
     ]
    },
    {
     "name": "stderr",
     "output_type": "stream",
     "text": [
      " 76%|████████████████████████████▏        | 7.60277136258621/10 [18:52<05:53, 147.36s/it]"
     ]
    },
    {
     "name": "stdout",
     "output_type": "stream",
     "text": [
      "Train Epoch: 8 [8320/11092 (75%)]\tLoss: 1.081052\n",
      "Mem before-during-after: 21712384 21852160 21712384\n"
     ]
    },
    {
     "name": "stderr",
     "output_type": "stream",
     "text": [
      " 76%|███████████████████████████▌        | 7.648960739029625/10 [18:58<05:46, 147.40s/it]"
     ]
    },
    {
     "name": "stdout",
     "output_type": "stream",
     "text": [
      "Train Epoch: 8 [8960/11092 (81%)]\tLoss: 1.399480\n",
      "Mem before-during-after: 21712384 21852160 21712384\n"
     ]
    },
    {
     "name": "stderr",
     "output_type": "stream",
     "text": [
      " 77%|████████████████████████████▍        | 7.69515011547304/10 [19:05<05:33, 144.75s/it]"
     ]
    },
    {
     "name": "stdout",
     "output_type": "stream",
     "text": [
      "Train Epoch: 8 [9600/11092 (87%)]\tLoss: 0.953809\n",
      "Mem before-during-after: 21712384 21852160 21712384\n"
     ]
    },
    {
     "name": "stderr",
     "output_type": "stream",
     "text": [
      " 77%|███████████████████████████▊        | 7.741339491916455/10 [19:12<05:29, 146.02s/it]"
     ]
    },
    {
     "name": "stdout",
     "output_type": "stream",
     "text": [
      "Train Epoch: 8 [10240/11092 (92%)]\tLoss: 1.106871\n",
      "Mem before-during-after: 21712384 21852160 21712384\n"
     ]
    },
    {
     "name": "stderr",
     "output_type": "stream",
     "text": [
      " 78%|████████████████████████████▊        | 7.78752886835987/10 [19:19<05:28, 148.30s/it]"
     ]
    },
    {
     "name": "stdout",
     "output_type": "stream",
     "text": [
      "Train Epoch: 8 [10880/11092 (98%)]\tLoss: 1.127037\n",
      "Mem before-during-after: 21712384 21852160 21712384\n"
     ]
    },
    {
     "name": "stderr",
     "output_type": "stream",
     "text": [
      " 80%|████████████████████████████▊       | 8.001154734410665/10 [19:50<05:00, 150.15s/it]"
     ]
    },
    {
     "name": "stdout",
     "output_type": "stream",
     "text": [
      "\n",
      "Test Epoch: 8\tAccuracy: 1495/2768 (54%)\n",
      "\n",
      "Train Epoch: 9 [0/11092 (0%)]\tLoss: 0.914396\n",
      "Mem before-during-after: 21711360 21852160 21712384\n"
     ]
    },
    {
     "name": "stderr",
     "output_type": "stream",
     "text": [
      " 80%|████████████████████████████▉       | 8.048498845265202/10 [19:57<04:43, 145.34s/it]"
     ]
    },
    {
     "name": "stdout",
     "output_type": "stream",
     "text": [
      "Train Epoch: 9 [640/11092 (6%)]\tLoss: 1.456299\n",
      "Mem before-during-after: 21712384 21852160 21712384\n"
     ]
    },
    {
     "name": "stderr",
     "output_type": "stream",
     "text": [
      " 81%|█████████████████████████████▏      | 8.094688221708653/10 [20:03<04:41, 147.71s/it]"
     ]
    },
    {
     "name": "stdout",
     "output_type": "stream",
     "text": [
      "Train Epoch: 9 [1280/11092 (12%)]\tLoss: 1.048110\n",
      "Mem before-during-after: 21712384 21852160 21712384\n"
     ]
    },
    {
     "name": "stderr",
     "output_type": "stream",
     "text": [
      " 81%|█████████████████████████████▎      | 8.140877598152104/10 [20:10<04:28, 144.67s/it]"
     ]
    },
    {
     "name": "stdout",
     "output_type": "stream",
     "text": [
      "Train Epoch: 9 [1920/11092 (17%)]\tLoss: 1.036835\n",
      "Mem before-during-after: 21712384 21852160 21712384\n"
     ]
    },
    {
     "name": "stderr",
     "output_type": "stream",
     "text": [
      " 82%|█████████████████████████████▍      | 8.187066974595554/10 [20:17<04:20, 143.45s/it]"
     ]
    },
    {
     "name": "stdout",
     "output_type": "stream",
     "text": [
      "Train Epoch: 9 [2560/11092 (23%)]\tLoss: 1.097602\n",
      "Mem before-during-after: 21712384 21852160 21712384\n"
     ]
    },
    {
     "name": "stderr",
     "output_type": "stream",
     "text": [
      " 82%|█████████████████████████████▋      | 8.233256351039005/10 [20:24<04:24, 149.73s/it]"
     ]
    },
    {
     "name": "stdout",
     "output_type": "stream",
     "text": [
      "Train Epoch: 9 [3200/11092 (29%)]\tLoss: 1.059375\n",
      "Mem before-during-after: 21712384 21852160 21712384\n"
     ]
    },
    {
     "name": "stderr",
     "output_type": "stream",
     "text": [
      " 83%|█████████████████████████████▊      | 8.279445727482456/10 [20:31<05:11, 181.01s/it]"
     ]
    },
    {
     "name": "stdout",
     "output_type": "stream",
     "text": [
      "Train Epoch: 9 [3840/11092 (35%)]\tLoss: 0.865512\n",
      "Mem before-during-after: 21712384 21852160 21712384\n"
     ]
    },
    {
     "name": "stderr",
     "output_type": "stream",
     "text": [
      " 83%|█████████████████████████████▉      | 8.325635103925906/10 [20:37<04:05, 146.76s/it]"
     ]
    },
    {
     "name": "stdout",
     "output_type": "stream",
     "text": [
      "Train Epoch: 9 [4480/11092 (40%)]\tLoss: 1.128319\n",
      "Mem before-during-after: 21712384 21852160 21712384\n"
     ]
    },
    {
     "name": "stderr",
     "output_type": "stream",
     "text": [
      " 84%|██████████████████████████████▏     | 8.371824480369357/10 [20:44<03:55, 144.39s/it]"
     ]
    },
    {
     "name": "stdout",
     "output_type": "stream",
     "text": [
      "Train Epoch: 9 [5120/11092 (46%)]\tLoss: 1.258173\n",
      "Mem before-during-after: 21712384 21852160 21712384\n"
     ]
    },
    {
     "name": "stderr",
     "output_type": "stream",
     "text": [
      " 84%|██████████████████████████████▎     | 8.418013856812808/10 [20:51<03:50, 145.54s/it]"
     ]
    },
    {
     "name": "stdout",
     "output_type": "stream",
     "text": [
      "Train Epoch: 9 [5760/11092 (52%)]\tLoss: 1.113259\n",
      "Mem before-during-after: 21712384 21852160 21712384\n"
     ]
    },
    {
     "name": "stderr",
     "output_type": "stream",
     "text": [
      " 85%|██████████████████████████████▍     | 8.464203233256258/10 [20:58<03:45, 146.61s/it]"
     ]
    },
    {
     "name": "stdout",
     "output_type": "stream",
     "text": [
      "Train Epoch: 9 [6400/11092 (58%)]\tLoss: 1.146517\n",
      "Mem before-during-after: 21712384 21852160 21712384\n"
     ]
    },
    {
     "name": "stderr",
     "output_type": "stream",
     "text": [
      " 85%|██████████████████████████████▋     | 8.510392609699709/10 [21:06<05:41, 229.43s/it]"
     ]
    },
    {
     "name": "stdout",
     "output_type": "stream",
     "text": [
      "Train Epoch: 9 [7040/11092 (63%)]\tLoss: 0.738821\n",
      "Mem before-during-after: 21712384 21852160 21712384\n"
     ]
    },
    {
     "name": "stderr",
     "output_type": "stream",
     "text": [
      " 86%|███████████████████████████████▋     | 8.55658198614316/10 [21:13<03:43, 154.52s/it]"
     ]
    },
    {
     "name": "stdout",
     "output_type": "stream",
     "text": [
      "Train Epoch: 9 [7680/11092 (69%)]\tLoss: 1.003902\n",
      "Mem before-during-after: 21712384 21852160 21712384\n"
     ]
    },
    {
     "name": "stderr",
     "output_type": "stream",
     "text": [
      " 86%|███████████████████████████████▊     | 8.60277136258661/10 [21:20<03:36, 154.70s/it]"
     ]
    },
    {
     "name": "stdout",
     "output_type": "stream",
     "text": [
      "Train Epoch: 9 [8320/11092 (75%)]\tLoss: 1.101529\n",
      "Mem before-during-after: 21712384 21852160 21712384\n"
     ]
    },
    {
     "name": "stderr",
     "output_type": "stream",
     "text": [
      " 86%|███████████████████████████████▏    | 8.648960739030061/10 [21:27<03:27, 153.47s/it]"
     ]
    },
    {
     "name": "stdout",
     "output_type": "stream",
     "text": [
      "Train Epoch: 9 [8960/11092 (81%)]\tLoss: 0.849830\n",
      "Mem before-during-after: 21712384 21852160 21712384\n"
     ]
    },
    {
     "name": "stderr",
     "output_type": "stream",
     "text": [
      " 87%|███████████████████████████████▎    | 8.695150115473512/10 [21:34<03:21, 154.29s/it]"
     ]
    },
    {
     "name": "stdout",
     "output_type": "stream",
     "text": [
      "Train Epoch: 9 [9600/11092 (87%)]\tLoss: 1.112705\n",
      "Mem before-during-after: 21712384 21852160 21712384\n"
     ]
    },
    {
     "name": "stderr",
     "output_type": "stream",
     "text": [
      " 87%|███████████████████████████████▍    | 8.741339491916962/10 [21:41<03:05, 147.66s/it]"
     ]
    },
    {
     "name": "stdout",
     "output_type": "stream",
     "text": [
      "Train Epoch: 9 [10240/11092 (92%)]\tLoss: 1.340563\n",
      "Mem before-during-after: 21712384 21852160 21712384\n"
     ]
    },
    {
     "name": "stderr",
     "output_type": "stream",
     "text": [
      " 88%|███████████████████████████████▋    | 8.787528868360413/10 [21:48<03:07, 154.34s/it]"
     ]
    },
    {
     "name": "stdout",
     "output_type": "stream",
     "text": [
      "Train Epoch: 9 [10880/11092 (98%)]\tLoss: 0.899953\n",
      "Mem before-during-after: 21712384 21852160 21712384\n"
     ]
    },
    {
     "name": "stderr",
     "output_type": "stream",
     "text": [
      " 90%|████████████████████████████████▍   | 9.001154734411372/10 [22:20<02:29, 149.27s/it]"
     ]
    },
    {
     "name": "stdout",
     "output_type": "stream",
     "text": [
      "\n",
      "Test Epoch: 9\tAccuracy: 1460/2768 (53%)\n",
      "\n",
      "Train Epoch: 10 [0/11092 (0%)]\tLoss: 1.140074\n",
      "Mem before-during-after: 21711360 21852160 21712384\n"
     ]
    },
    {
     "name": "stderr",
     "output_type": "stream",
     "text": [
      " 90%|█████████████████████████████████▍   | 9.04849884526591/10 [22:28<02:18, 145.44s/it]"
     ]
    },
    {
     "name": "stdout",
     "output_type": "stream",
     "text": [
      "Train Epoch: 10 [640/11092 (6%)]\tLoss: 1.122886\n",
      "Mem before-during-after: 21712384 21852160 21712384\n"
     ]
    },
    {
     "name": "stderr",
     "output_type": "stream",
     "text": [
      " 91%|█████████████████████████████████▋   | 9.09468822170936/10 [22:35<02:14, 148.03s/it]"
     ]
    },
    {
     "name": "stdout",
     "output_type": "stream",
     "text": [
      "Train Epoch: 10 [1280/11092 (12%)]\tLoss: 0.843613\n",
      "Mem before-during-after: 21712384 21852160 21712384\n"
     ]
    },
    {
     "name": "stderr",
     "output_type": "stream",
     "text": [
      " 91%|█████████████████████████████████▊   | 9.14087759815281/10 [22:42<02:06, 147.02s/it]"
     ]
    },
    {
     "name": "stdout",
     "output_type": "stream",
     "text": [
      "Train Epoch: 10 [1920/11092 (17%)]\tLoss: 0.983342\n",
      "Mem before-during-after: 21712384 21852160 21712384\n"
     ]
    },
    {
     "name": "stderr",
     "output_type": "stream",
     "text": [
      " 92%|█████████████████████████████████   | 9.187066974596261/10 [22:49<02:00, 148.48s/it]"
     ]
    },
    {
     "name": "stdout",
     "output_type": "stream",
     "text": [
      "Train Epoch: 10 [2560/11092 (23%)]\tLoss: 0.927381\n",
      "Mem before-during-after: 21712384 21852160 21712384\n"
     ]
    },
    {
     "name": "stderr",
     "output_type": "stream",
     "text": [
      " 92%|█████████████████████████████████▏  | 9.233256351039712/10 [22:56<01:53, 147.81s/it]"
     ]
    },
    {
     "name": "stdout",
     "output_type": "stream",
     "text": [
      "Train Epoch: 10 [3200/11092 (29%)]\tLoss: 1.097278\n",
      "Mem before-during-after: 21712384 21852160 21712384\n"
     ]
    },
    {
     "name": "stderr",
     "output_type": "stream",
     "text": [
      " 93%|█████████████████████████████████▍  | 9.279445727483163/10 [23:03<01:48, 150.08s/it]"
     ]
    },
    {
     "name": "stdout",
     "output_type": "stream",
     "text": [
      "Train Epoch: 10 [3840/11092 (35%)]\tLoss: 1.031072\n",
      "Mem before-during-after: 21712384 21852160 21712384\n"
     ]
    },
    {
     "name": "stderr",
     "output_type": "stream",
     "text": [
      " 93%|█████████████████████████████████▌  | 9.325635103926613/10 [23:10<01:42, 151.41s/it]"
     ]
    },
    {
     "name": "stdout",
     "output_type": "stream",
     "text": [
      "Train Epoch: 10 [4480/11092 (40%)]\tLoss: 1.119188\n",
      "Mem before-during-after: 21712384 21852160 21712384\n"
     ]
    },
    {
     "name": "stderr",
     "output_type": "stream",
     "text": [
      " 94%|█████████████████████████████████▋  | 9.370669745958978/10 [23:16<01:32, 147.72s/it]"
     ]
    },
    {
     "name": "stdout",
     "output_type": "stream",
     "text": [
      "Train Epoch: 10 [5120/11092 (46%)]\tLoss: 1.060699\n",
      "Mem before-during-after: 21712384 21852160 21712384\n"
     ]
    },
    {
     "name": "stderr",
     "output_type": "stream",
     "text": [
      " 94%|█████████████████████████████████▉  | 9.418013856813515/10 [23:24<01:25, 146.62s/it]"
     ]
    },
    {
     "name": "stdout",
     "output_type": "stream",
     "text": [
      "Train Epoch: 10 [5760/11092 (52%)]\tLoss: 1.376491\n",
      "Mem before-during-after: 21712384 21852160 21712384\n"
     ]
    },
    {
     "name": "stderr",
     "output_type": "stream",
     "text": [
      " 95%|██████████████████████████████████  | 9.464203233256965/10 [23:30<01:21, 152.26s/it]"
     ]
    },
    {
     "name": "stdout",
     "output_type": "stream",
     "text": [
      "Train Epoch: 10 [6400/11092 (58%)]\tLoss: 0.894108\n",
      "Mem before-during-after: 21712384 21852160 21712384\n"
     ]
    },
    {
     "name": "stderr",
     "output_type": "stream",
     "text": [
      " 95%|██████████████████████████████████▏ | 9.510392609700416/10 [23:37<01:12, 147.22s/it]"
     ]
    },
    {
     "name": "stdout",
     "output_type": "stream",
     "text": [
      "Train Epoch: 10 [7040/11092 (63%)]\tLoss: 0.931232\n",
      "Mem before-during-after: 21712384 21852160 21712384\n"
     ]
    },
    {
     "name": "stderr",
     "output_type": "stream",
     "text": [
      " 96%|██████████████████████████████████▍ | 9.556581986143867/10 [23:44<01:04, 144.72s/it]"
     ]
    },
    {
     "name": "stdout",
     "output_type": "stream",
     "text": [
      "Train Epoch: 10 [7680/11092 (69%)]\tLoss: 1.120968\n",
      "Mem before-during-after: 21712384 21852160 21712384\n"
     ]
    },
    {
     "name": "stderr",
     "output_type": "stream",
     "text": [
      " 96%|██████████████████████████████████▌ | 9.602771362587317/10 [23:51<00:59, 149.23s/it]"
     ]
    },
    {
     "name": "stdout",
     "output_type": "stream",
     "text": [
      "Train Epoch: 10 [8320/11092 (75%)]\tLoss: 1.305172\n",
      "Mem before-during-after: 21712384 21852160 21712384\n"
     ]
    },
    {
     "name": "stderr",
     "output_type": "stream",
     "text": [
      " 96%|██████████████████████████████████▋ | 9.647806004619682/10 [23:58<00:51, 147.31s/it]"
     ]
    },
    {
     "name": "stdout",
     "output_type": "stream",
     "text": [
      "Train Epoch: 10 [8960/11092 (81%)]\tLoss: 0.995420\n",
      "Mem before-during-after: 21712384 21852160 21712384\n"
     ]
    },
    {
     "name": "stderr",
     "output_type": "stream",
     "text": [
      " 97%|██████████████████████████████████▉ | 9.695150115474219/10 [24:05<00:45, 149.86s/it]"
     ]
    },
    {
     "name": "stdout",
     "output_type": "stream",
     "text": [
      "Train Epoch: 10 [9600/11092 (87%)]\tLoss: 1.114442\n",
      "Mem before-during-after: 21712384 21852160 21712384\n"
     ]
    },
    {
     "name": "stderr",
     "output_type": "stream",
     "text": [
      " 97%|████████████████████████████████████ | 9.74133949191767/10 [24:12<00:37, 146.26s/it]"
     ]
    },
    {
     "name": "stdout",
     "output_type": "stream",
     "text": [
      "Train Epoch: 10 [10240/11092 (92%)]\tLoss: 1.035423\n",
      "Mem before-during-after: 21712384 21852160 21712384\n"
     ]
    },
    {
     "name": "stderr",
     "output_type": "stream",
     "text": [
      " 98%|████████████████████████████████████▏| 9.78752886836112/10 [24:19<00:33, 156.06s/it]"
     ]
    },
    {
     "name": "stdout",
     "output_type": "stream",
     "text": [
      "Train Epoch: 10 [10880/11092 (98%)]\tLoss: 1.018249\n",
      "Mem before-during-after: 21712384 21852160 21712384\n"
     ]
    },
    {
     "name": "stderr",
     "output_type": "stream",
     "text": [
      "100%|███████████████████████████████████▉| 9.998845265589907/10 [24:50<00:00, 150.82s/it]/opt/anaconda3/envs/audio/lib/python3.9/site-packages/tqdm/std.py:639: TqdmWarning: clamping frac to range [0, 1]\n",
      "  full_bar = Bar(frac,\n",
      "100%|███████████████████████████████████| 10.000000000000993/10 [24:50<00:00, 149.10s/it]"
     ]
    },
    {
     "name": "stdout",
     "output_type": "stream",
     "text": [
      "\n",
      "Test Epoch: 10\tAccuracy: 1507/2768 (54%)\n",
      "\n"
     ]
    },
    {
     "name": "stderr",
     "output_type": "stream",
     "text": [
      "\n"
     ]
    }
   ],
   "source": [
    "log_interval = 40\n",
    "pbar_update = 1 / (len(train_loader) + len(test_loader))\n",
    "model.to(device)\n",
    "with tqdm(total=n_epoch) as pbar:\n",
    "    for epoch in range(1, n_epoch + 1):\n",
    "        train(model, epoch, log_interval, train_losses)\n",
    "        acc = test(model, epoch)\n",
    "        test_accuracy += [acc]\n",
    "        scheduler.step()"
   ]
  },
  {
   "cell_type": "code",
   "execution_count": 23,
   "id": "406af037-428e-4f94-98e4-c634aa380efb",
   "metadata": {},
   "outputs": [
    {
     "data": {
      "text/plain": [
       "[<matplotlib.lines.Line2D at 0x7f171ec40160>]"
      ]
     },
     "execution_count": 23,
     "metadata": {},
     "output_type": "execute_result"
    },
    {
     "data": {
      "image/png": "[encoded data removed]",
      "text/plain": [
       "<Figure size 640x480 with 1 Axes>"
      ]
     },
     "metadata": {},
     "output_type": "display_data"
    }
   ],
   "source": [
    "plt.plot(train_losses)"
   ]
  },
  {
   "cell_type": "code",
   "execution_count": 24,
   "id": "9eb01b97-b088-442e-8709-53a9e5726ec0",
   "metadata": {},
   "outputs": [
    {
     "data": {
      "text/plain": [
       "[<matplotlib.lines.Line2D at 0x7f171c0aceb0>]"
      ]
     },
     "execution_count": 24,
     "metadata": {},
     "output_type": "execute_result"
    },
    {
     "data": {
      "image/png": "[encoded data removed]",
      "text/plain": [
       "<Figure size 640x480 with 1 Axes>"
      ]
     },
     "metadata": {},
     "output_type": "display_data"
    }
   ],
   "source": [
    "plt.plot(test_accuracy)"
   ]
  },
  {
   "cell_type": "code",
   "execution_count": 25,
   "id": "081b5f7e-4d26-45ae-8911-dc876caef606",
   "metadata": {},
   "outputs": [],
   "source": [
    "from torchmetrics.classification import (\n",
    "    MulticlassAccuracy, MulticlassPrecision, \n",
    "    MulticlassRecall, MulticlassF1Score, \n",
    "    MulticlassConfusionMatrix,\n",
    "    MulticlassAUROC\n",
    ")\n",
    "from torchmetrics import MetricCollection\n",
    "from pprint import pprint\n",
    "\n",
    "@torch.no_grad\n",
    "def report_metrics(model, labels=labels, \n",
    "                   test_loader=test_loader, device=device):\n",
    "    n = len(labels)\n",
    "    metrics = MetricCollection({\n",
    "        'acc_unweighted': MulticlassAccuracy(num_classes=n, average='macro'), \n",
    "        'acc_weighted': MulticlassAccuracy(num_classes=n, average='weighted'), \n",
    "        \n",
    "        'f1s_unweighted': MulticlassF1Score(num_classes=n, average='macro'),  \n",
    "        'f1s_weighted': MulticlassF1Score(num_classes=n, average='weighted'),  \n",
    "\n",
    "        'acc_weighted': MulticlassAccuracy(num_classes=n, average='weighted'), \n",
    "        'uar': MulticlassRecall(num_classes=n, average='macro'), \n",
    "        'wap': MulticlassPrecision(num_classes=n, average='weighted'),\n",
    "        'rocauc': MulticlassAUROC(num_classes=n, average='macro', thresholds=None),    \n",
    "        'f1s_detail': MulticlassF1Score(num_classes=n, average=None),  \n",
    "        'acc_detail': MulticlassAccuracy(num_classes=n, average=None), \n",
    "        'precision_detail': MulticlassPrecision(num_classes=n, average=None),\n",
    "        'recall_detail': MulticlassRecall(num_classes=n, average=None), \n",
    "        'rocauc_detail': MulticlassAUROC(num_classes=n, average=None, thresholds=None),\n",
    "    }).to(device)\n",
    "    confusion_matrix = MulticlassConfusionMatrix(num_classes=n).to(device)\n",
    "    model.eval()\n",
    "    correct = 0\n",
    "    total = 0\n",
    "    for data, target in test_loader:\n",
    "        total += len(target)\n",
    "        \n",
    "        data = data.to(device)\n",
    "        target = target.to(device)\n",
    "        output = model(data).squeeze()\n",
    "        del data\n",
    "        gc.collect()\n",
    "        torch.cuda.empty_cache()\n",
    "        probs = F.softmax(output, dim=-1)\n",
    "        pred = probs.argmax(dim=-1)\n",
    "        correct += pred.eq(target).sum().item()\n",
    "        \n",
    "        metrics.update(probs, target)\n",
    "        confusion_matrix.update(pred, target)\n",
    "        \n",
    "        del target\n",
    "        gc.collect()\n",
    "        torch.cuda.empty_cache()\n",
    "        pbar.update(pbar_update)\n",
    "    print(f'Correct: {correct}/{total} ({correct/total:.4f})')\n",
    "    return metrics, confusion_matrix"
   ]
  },
  {
   "cell_type": "code",
   "execution_count": 26,
   "id": "7a7cfee9-601e-4d33-9bac-ad9779bfc6ba",
   "metadata": {},
   "outputs": [
    {
     "name": "stdout",
     "output_type": "stream",
     "text": [
      "Correct: 1507/2768 (0.5444)\n",
      "{'acc_detail': tensor([0.4377, 0.7009, 0.5377, 0.4780], device='cuda:0'),\n",
      " 'acc_unweighted': tensor(0.5386, device='cuda:0'),\n",
      " 'acc_weighted': tensor(0.5444, device='cuda:0'),\n",
      " 'f1s_detail': tensor([0.5004, 0.6212, 0.5149, 0.5070], device='cuda:0'),\n",
      " 'f1s_unweighted': tensor(0.5359, device='cuda:0'),\n",
      " 'f1s_weighted': tensor(0.5400, device='cuda:0'),\n",
      " 'precision_detail': tensor([0.5842, 0.5578, 0.4939, 0.5397], device='cuda:0'),\n",
      " 'recall_detail': tensor([0.4377, 0.7009, 0.5377, 0.4780], device='cuda:0'),\n",
      " 'rocauc': tensor(0.7887, device='cuda:0'),\n",
      " 'rocauc_detail': tensor([0.7848, 0.8161, 0.8064, 0.7475], device='cuda:0'),\n",
      " 'uar': tensor(0.5386, device='cuda:0'),\n",
      " 'wap': tensor(0.5465, device='cuda:0')}\n"
     ]
    },
    {
     "data": {
      "text/plain": [
       "tensor([[281,  81, 126, 154],\n",
       "        [ 40, 560,  82, 117],\n",
       "        [ 71, 120, 285,  54],\n",
       "        [ 89, 243,  84, 381]], device='cuda:0')"
      ]
     },
     "execution_count": 26,
     "metadata": {},
     "output_type": "execute_result"
    }
   ],
   "source": [
    "metrics, confusion_matrix = report_metrics(\n",
    "    model, labels=labels, device=device)\n",
    "pprint(metrics.compute())\n",
    "confusion_matrix.compute()"
   ]
  },
  {
   "cell_type": "code",
   "execution_count": 27,
   "id": "af6b947b-b4d0-4331-bc7a-b631dd250462",
   "metadata": {},
   "outputs": [],
   "source": [
    "model_path = '../models_msp4/msp4_m13mfcc_10epochs.pt' \n",
    "torch.save(model.state_dict(), model_path)"
   ]
  },
  {
   "cell_type": "code",
   "execution_count": 28,
   "id": "f2d6ec5e-4f69-43bf-b14d-39d65db769c1",
   "metadata": {},
   "outputs": [
    {
     "data": {
      "text/plain": [
       "M13mfcc(\n",
       "  (mfcc): MFCC(\n",
       "    (amplitude_to_DB): AmplitudeToDB()\n",
       "    (MelSpectrogram): MelSpectrogram(\n",
       "      (spectrogram): Spectrogram()\n",
       "      (mel_scale): MelScale()\n",
       "    )\n",
       "  )\n",
       "  (cls_head): Classifier(\n",
       "    (blocks): ModuleList(\n",
       "      (0): Sequential(\n",
       "        (norm): LayerNorm((40,), eps=1e-05, elementwise_affine=True)\n",
       "        (layer): Linear(in_features=40, out_features=512, bias=True)\n",
       "      )\n",
       "      (1): Sequential(\n",
       "        (norm): LayerNorm((512,), eps=1e-05, elementwise_affine=True)\n",
       "        (layer): Linear(in_features=512, out_features=512, bias=True)\n",
       "      )\n",
       "    )\n",
       "    (act): LeakyReLU(negative_slope=0.01)\n",
       "    (output_layer): Linear(in_features=512, out_features=4, bias=True)\n",
       "  )\n",
       ")"
      ]
     },
     "execution_count": 28,
     "metadata": {},
     "output_type": "execute_result"
    }
   ],
   "source": [
    "model.to('cpu')"
   ]
  },
  {
   "cell_type": "code",
   "execution_count": 29,
   "id": "2ac83822-50cb-4ed3-933e-caa4eddeb025",
   "metadata": {},
   "outputs": [
    {
     "name": "stdout",
     "output_type": "stream",
     "text": [
      "Fri Mar  1 10:28:35 2024       \n",
      "+---------------------------------------------------------------------------------------+\n",
      "| NVIDIA-SMI 545.23.08              Driver Version: 545.23.08    CUDA Version: 12.3     |\n",
      "|-----------------------------------------+----------------------+----------------------+\n",
      "| GPU  Name                 Persistence-M | Bus-Id        Disp.A | Volatile Uncorr. ECC |\n",
      "| Fan  Temp   Perf          Pwr:Usage/Cap |         Memory-Usage | GPU-Util  Compute M. |\n",
      "|                                         |                      |               MIG M. |\n",
      "|=========================================+======================+======================|\n",
      "|   0  NVIDIA GeForce RTX 2080        On  | 00000000:01:00.0  On |                  N/A |\n",
      "| 32%   35C    P2              44W / 215W |    886MiB /  8192MiB |      1%      Default |\n",
      "|                                         |                      |                  N/A |\n",
      "+-----------------------------------------+----------------------+----------------------+\n",
      "                                                                                         \n",
      "+---------------------------------------------------------------------------------------+\n",
      "| Processes:                                                                            |\n",
      "|  GPU   GI   CI        PID   Type   Process name                            GPU Memory |\n",
      "|        ID   ID                                                             Usage      |\n",
      "|=======================================================================================|\n",
      "|    0   N/A  N/A      1887      G   /usr/lib/xorg/Xorg                          188MiB |\n",
      "|    0   N/A  N/A      2033      G   /usr/bin/gnome-shell                         31MiB |\n",
      "|    0   N/A  N/A   1076924      G   /usr/lib/xorg/Xorg                           35MiB |\n",
      "|    0   N/A  N/A   1080394      G   ...sion,SpareRendererForSitePerProcess       42MiB |\n",
      "|    0   N/A  N/A   3306740      G   ...seed-version=20240223-130108.897000       60MiB |\n",
      "|    0   N/A  N/A   3641716      C   /opt/anaconda3/envs/audio/bin/python        194MiB |\n",
      "|    0   N/A  N/A   3961745      C   /opt/anaconda3/envs/audio/bin/python        194MiB |\n",
      "+---------------------------------------------------------------------------------------+\n"
     ]
    }
   ],
   "source": [
    "!nvidia-smi"
   ]
  },
  {
   "cell_type": "code",
   "execution_count": null,
   "id": "3a7478e5-3c3f-4942-834d-cd40ce870136",
   "metadata": {},
   "outputs": [],
   "source": []
  }
 ],
 "metadata": {
  "kernelspec": {
   "display_name": "Python 3 (ipykernel)",
   "language": "python",
   "name": "python3"
  },
  "language_info": {
   "codemirror_mode": {
    "name": "ipython",
    "version": 3
   },
   "file_extension": ".py",
   "mimetype": "text/x-python",
   "name": "python",
   "nbconvert_exporter": "python",
   "pygments_lexer": "ipython3",
   "version": "3.9.18"
  }
 },
 "nbformat": 4,
 "nbformat_minor": 5
}
