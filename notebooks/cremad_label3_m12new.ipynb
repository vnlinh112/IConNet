{
 "cells": [
  {
   "cell_type": "code",
   "execution_count": 1,
   "id": "25fd6fe1-9f12-4c8b-88da-cdcb8d1eb481",
   "metadata": {},
   "outputs": [],
   "source": [
    "import torch\n",
    "import torch.nn as nn\n",
    "from torch.nn import  functional as F\n",
    "from torch.nn.parameter import Parameter\n",
    "from tqdm import tqdm\n",
    "import pandas as pd\n",
    "import numpy as np\n",
    "import seaborn as sns\n",
    "import matplotlib.pyplot as plt\n",
    "from mamba_ssm import Mamba"
   ]
  },
  {
   "cell_type": "code",
   "execution_count": 36,
   "id": "57d9dd6a-4609-4490-a2e5-2f2835912304",
   "metadata": {},
   "outputs": [
    {
     "name": "stdout",
     "output_type": "stream",
     "text": [
      "Wed Feb 21 16:05:45 2024       \n",
      "+---------------------------------------------------------------------------------------+\n",
      "| NVIDIA-SMI 545.23.08              Driver Version: 545.23.08    CUDA Version: 12.3     |\n",
      "|-----------------------------------------+----------------------+----------------------+\n",
      "| GPU  Name                 Persistence-M | Bus-Id        Disp.A | Volatile Uncorr. ECC |\n",
      "| Fan  Temp   Perf          Pwr:Usage/Cap |         Memory-Usage | GPU-Util  Compute M. |\n",
      "|                                         |                      |               MIG M. |\n",
      "|=========================================+======================+======================|\n",
      "|   0  NVIDIA GeForce RTX 2080        On  | 00000000:01:00.0  On |                  N/A |\n",
      "| 32%   29C    P8              20W / 215W |   2015MiB /  8192MiB |     13%      Default |\n",
      "|                                         |                      |                  N/A |\n",
      "+-----------------------------------------+----------------------+----------------------+\n",
      "                                                                                         \n",
      "+---------------------------------------------------------------------------------------+\n",
      "| Processes:                                                                            |\n",
      "|  GPU   GI   CI        PID   Type   Process name                            GPU Memory |\n",
      "|        ID   ID                                                             Usage      |\n",
      "|=======================================================================================|\n",
      "|    0   N/A  N/A      1887      G   /usr/lib/xorg/Xorg                          181MiB |\n",
      "|    0   N/A  N/A      2033      G   /usr/bin/gnome-shell                         28MiB |\n",
      "|    0   N/A  N/A      6241      G   ...seed-version=20240215-080116.052000       70MiB |\n",
      "|    0   N/A  N/A      6688      G   ...sion,SpareRendererForSitePerProcess       11MiB |\n",
      "|    0   N/A  N/A     94151      C   /opt/anaconda3/envs/audio/bin/python        340MiB |\n",
      "|    0   N/A  N/A    299969      C   /opt/anaconda3/envs/audio/bin/python        270MiB |\n",
      "|    0   N/A  N/A   2546595      C   /opt/anaconda3/envs/audio/bin/python        268MiB |\n",
      "|    0   N/A  N/A   3766717      C   /opt/anaconda3/envs/audio/bin/python        310MiB |\n",
      "|    0   N/A  N/A   3883531      C   /opt/anaconda3/envs/audio/bin/python        528MiB |\n",
      "+---------------------------------------------------------------------------------------+\n"
     ]
    }
   ],
   "source": [
    "!nvidia-smi"
   ]
  },
  {
   "cell_type": "code",
   "execution_count": 2,
   "id": "b25406a1-e19d-4872-819f-3a12a7e7357e",
   "metadata": {},
   "outputs": [],
   "source": [
    "%load_ext autoreload\n",
    "%autoreload 2"
   ]
  },
  {
   "cell_type": "code",
   "execution_count": 3,
   "id": "5c14e1e7-8f89-41a4-93f2-69852b508efc",
   "metadata": {},
   "outputs": [
    {
     "data": {
      "text/plain": [
       "'/home/linh/projects/IConNet'"
      ]
     },
     "execution_count": 3,
     "metadata": {},
     "output_type": "execute_result"
    }
   ],
   "source": [
    "import os\n",
    "os.chdir('..')\n",
    "os.getcwd()"
   ]
  },
  {
   "cell_type": "code",
   "execution_count": 5,
   "id": "9b78b30e-8403-4a57-9700-f9fd275f385b",
   "metadata": {},
   "outputs": [
    {
     "name": "stdout",
     "output_type": "stream",
     "text": [
      "cuda\n"
     ]
    }
   ],
   "source": [
    "os.environ[\"PYTORCH_CUDA_ALLOC_CONF\"] = \"max_split_size_mb:256\"\n",
    "import gc\n",
    "import torch\n",
    "import torch.nn as nn\n",
    "import torch.nn.functional as F\n",
    "import torch.optim as optim\n",
    "import sys\n",
    "import traceback\n",
    "device = torch.device(\"cuda\" if torch.cuda.is_available() else \"cpu\")\n",
    "print(device)"
   ]
  },
  {
   "cell_type": "code",
   "execution_count": 6,
   "id": "643e47f1-abe6-40b0-a8e9-9c433fbf6f1d",
   "metadata": {},
   "outputs": [],
   "source": [
    "from torch.nn.utils.rnn import pad_sequence"
   ]
  },
  {
   "cell_type": "code",
   "execution_count": 16,
   "id": "86c2d105-b231-41c5-9eb3-9a346eaea66e",
   "metadata": {},
   "outputs": [
    {
     "data": {
      "text/plain": [
       "(5144, 2048)"
      ]
     },
     "execution_count": 16,
     "metadata": {},
     "output_type": "execute_result"
    }
   ],
   "source": [
    "data_dir = \"../data/data_preprocessed/crema_d/preprocessed/\" \n",
    "data_x = np.load(f\"{data_dir}crema_d.trill_embedding.train.npy\", allow_pickle=True)\n",
    "data_x.shape"
   ]
  },
  {
   "cell_type": "code",
   "execution_count": 17,
   "id": "5c2ecef3-d1a8-457f-a8a5-81aeb591f230",
   "metadata": {},
   "outputs": [
    {
     "data": {
      "text/plain": [
       "torch.Size([5144, 2048])"
      ]
     },
     "execution_count": 17,
     "metadata": {},
     "output_type": "execute_result"
    }
   ],
   "source": [
    "x_train = [torch.tensor(d.T.real, dtype=torch.float) for d in data_x]\n",
    "x_train = pad_sequence(x_train, batch_first=True)\n",
    "x_train.shape"
   ]
  },
  {
   "cell_type": "code",
   "execution_count": 18,
   "id": "f868c40a-0af1-422f-8353-3959cf113532",
   "metadata": {},
   "outputs": [
    {
     "data": {
      "text/plain": [
       "torch.Size([1556, 2048])"
      ]
     },
     "execution_count": 18,
     "metadata": {},
     "output_type": "execute_result"
    }
   ],
   "source": [
    "data_x = np.load(f\"{data_dir}crema_d.trill_embedding.test.npy\", allow_pickle=True)\n",
    "x_test = [torch.tensor(d.T.real, dtype=torch.float) for d in data_x]\n",
    "x_test = pad_sequence(x_test, batch_first=True)\n",
    "x_test.shape"
   ]
  },
  {
   "cell_type": "code",
   "execution_count": 19,
   "id": "27eab318-8636-46d3-9fa6-08f421f91cbb",
   "metadata": {},
   "outputs": [
    {
     "name": "stdout",
     "output_type": "stream",
     "text": [
      "['NEU' 'HAP' 'SAD' 'ANG' 'FEA' 'DIS']\n"
     ]
    }
   ],
   "source": [
    "classnames = np.load(f'{data_dir}crema_d.classnames.npy', allow_pickle=True)\n",
    "y_train = np.load(f'{data_dir}crema_d.labels.train.npy', allow_pickle=True)\n",
    "y_test = np.load(f'{data_dir}crema_d.labels.test.npy', allow_pickle=True)\n",
    "print(classnames)"
   ]
  },
  {
   "cell_type": "code",
   "execution_count": 20,
   "id": "72878f2e-1340-411a-a8ad-c64a63a241c7",
   "metadata": {},
   "outputs": [
    {
     "data": {
      "text/plain": [
       "array([0, 1, 2, 3, 4, 5], dtype=int16)"
      ]
     },
     "execution_count": 20,
     "metadata": {},
     "output_type": "execute_result"
    }
   ],
   "source": [
    "np.unique(y_test)"
   ]
  },
  {
   "cell_type": "code",
   "execution_count": 21,
   "id": "92a461d1-7026-433e-b13e-c5c7046007c7",
   "metadata": {},
   "outputs": [
    {
     "name": "stdout",
     "output_type": "stream",
     "text": [
      "torch.Size([2508, 2048])\n",
      "torch.Size([759, 2048])\n"
     ]
    }
   ],
   "source": [
    "labels = ['ANG', 'NEU', 'SAD']\n",
    "\n",
    "def label_filter(idx):\n",
    "    return classnames[idx] in labels\n",
    "\n",
    "def label_to_index(idx):\n",
    "    return labels.index(classnames[idx])\n",
    "    \n",
    "filtered_idx = [label_filter(idx) for idx in y_train]\n",
    "x_train = x_train[filtered_idx]\n",
    "y_train = [label_to_index(idx) for idx in y_train[filtered_idx]]\n",
    "print(x_train.shape)\n",
    "\n",
    "filtered_idx = [label_filter(idx) for idx in y_test]\n",
    "x_test = x_test[filtered_idx]\n",
    "y_test = [label_to_index(idx) for idx in y_test[filtered_idx]]\n",
    "print(x_test.shape)"
   ]
  },
  {
   "cell_type": "code",
   "execution_count": 22,
   "id": "baa3e677-a2f7-487a-84ff-e3da1759a4c2",
   "metadata": {},
   "outputs": [],
   "source": [
    "from torch.utils.data import TensorDataset, DataLoader\n",
    "\n",
    "def create_data_loader(x_train, y_train, \n",
    "                       x_test, y_test, batch_size=32):\n",
    "    x_train = x_train[:, None ,:]\n",
    "    y_train = torch.tensor(y_train, dtype=torch.int64)\n",
    "    x_test = x_test[:, None, :]\n",
    "    y_test = torch.tensor(y_test, dtype=torch.int64)\n",
    "    train_data = TensorDataset(x_train, y_train)\n",
    "    test_data = TensorDataset(x_test, y_test)\n",
    "    \n",
    "    train_loader = DataLoader(train_data, shuffle=True, batch_size=batch_size, drop_last=True)\n",
    "    test_loader = DataLoader(test_data, shuffle=True, batch_size=batch_size, drop_last=True)\n",
    "    return train_loader, test_loader"
   ]
  },
  {
   "cell_type": "code",
   "execution_count": 24,
   "id": "5cbb4205-e090-451e-a0e3-b3be9029740c",
   "metadata": {},
   "outputs": [],
   "source": [
    "batch_size = 32\n",
    "train_loader, test_loader = create_data_loader(x_train, y_train, \n",
    "                       x_test, y_test, batch_size=batch_size)"
   ]
  },
  {
   "cell_type": "code",
   "execution_count": 25,
   "id": "3ee92af0-34eb-4d49-abd3-4c8270084c72",
   "metadata": {},
   "outputs": [
    {
     "name": "stdout",
     "output_type": "stream",
     "text": [
      "name: M12_debug\n",
      "description: FirConv sequential for iemocap\n",
      "fe:\n",
      "  n_block: 2\n",
      "  n_channel:\n",
      "  - 64\n",
      "  - 32\n",
      "  kernel_size:\n",
      "  - 63\n",
      "  - 31\n",
      "  stride:\n",
      "  - 4\n",
      "  - 4\n",
      "  window_k:\n",
      "  - 5\n",
      "  - 9\n",
      "  residual_connection_type: stack\n",
      "  pooling: false\n",
      "  filter_type: firwin\n",
      "  conv_mode: fftconv\n",
      "  norm_type: LocalResponseNorm\n",
      "seq:\n",
      "  n_block: 1\n",
      "  n_channel: 48\n",
      "  pooling: max\n",
      "  use_context: false\n",
      "  bidirectional: false\n",
      "cls:\n",
      "  n_block: 2\n",
      "  n_hidden_dim:\n",
      "  - 256\n",
      "  - 256\n",
      "  norm_type: LayerNorm\n",
      "\n",
      "M12(\n",
      "  (fe_blocks): FeBlocks(\n",
      "    (blocks): ModuleList(\n",
      "      (0-1): 2 x FrontEndBlock(\n",
      "        (block): ModuleDict(\n",
      "          (layer): FirConvLayer(\n",
      "            (conv_layer): ResidualConv1d(\n",
      "              (pad_layer): PadForConv()\n",
      "              (stride_layer): DownsampleLayer(\n",
      "                (pad_right): PadForConv()\n",
      "              )\n",
      "              (norm_layer): CustomNormLayer(\n",
      "                (layer): LocalResponseNorm(2, alpha=0.0001, beta=0.75, k=1.0)\n",
      "              )\n",
      "              (act): NLReLU()\n",
      "            )\n",
      "          )\n",
      "          (downsample): ResidualConv1d(\n",
      "            (pad_layer): PadForConv()\n",
      "            (stride_layer): DownsampleLayer(\n",
      "              (pad_right): PadForConv()\n",
      "            )\n",
      "            (norm_layer): CustomNormLayer(\n",
      "              (layer): LocalResponseNorm(2, alpha=0.0001, beta=0.75, k=1.0)\n",
      "            )\n",
      "            (act): NLReLU()\n",
      "          )\n",
      "        )\n",
      "      )\n",
      "    )\n",
      "  )\n",
      "  (seq_blocks): Seq2OneBlocks(\n",
      "    (blocks): LSTM(97, 48, batch_first=True)\n",
      "  )\n",
      "  (cls_head): Classifier(\n",
      "    (blocks): ModuleList(\n",
      "      (0): Sequential(\n",
      "        (norm): LayerNorm((48,), eps=1e-05, elementwise_affine=True)\n",
      "        (layer): Linear(in_features=48, out_features=256, bias=True)\n",
      "      )\n",
      "      (1): Sequential(\n",
      "        (norm): LayerNorm((256,), eps=1e-05, elementwise_affine=True)\n",
      "        (layer): Linear(in_features=256, out_features=256, bias=True)\n",
      "      )\n",
      "    )\n",
      "    (act): LeakyReLU(negative_slope=0.01)\n",
      "    (output_layer): Linear(in_features=256, out_features=3, bias=True)\n",
      "  )\n",
      ")\n",
      "total parameters: 130915\n",
      "FE parameters: 22976\n"
     ]
    }
   ],
   "source": [
    "from IConNet.nn.model import M12\n",
    "from omegaconf import OmegaConf as ocf\n",
    "from IConNet.visualizer import visualize_model\n",
    "\n",
    "model_config_path = 'config/model/m12_debug.yaml'\n",
    "model_config = ocf.load(model_config_path)\n",
    "print(ocf.to_yaml(model_config))\n",
    "model = M12(config=model_config,\n",
    "           n_input=1, n_output=len(labels))\n",
    "print(model)\n",
    "\n",
    "print(f'total parameters: {visualize_model.count_parameters(model)}')\n",
    "print(f'FE parameters: {visualize_model.count_parameters(model.fe_blocks)}')"
   ]
  },
  {
   "cell_type": "code",
   "execution_count": 26,
   "id": "51668b8a-0ae1-44c6-bbac-026db0ab0129",
   "metadata": {},
   "outputs": [],
   "source": [
    "n_epoch = 10\n",
    "train_losses = []\n",
    "test_accuracy = []\n",
    "optimizer = optim.RAdam(model.parameters(), lr=0.0001)\n",
    "scheduler = optim.lr_scheduler.OneCycleLR(\n",
    "    optimizer, max_lr=0.01,\n",
    "    steps_per_epoch=len(train_loader), epochs=n_epoch)"
   ]
  },
  {
   "cell_type": "code",
   "execution_count": 27,
   "id": "9bd6cc53-2ea7-460f-a953-f1b7a0e746a1",
   "metadata": {},
   "outputs": [],
   "source": [
    "train_loader_length = len(train_loader.dataset)\n",
    "test_loader_length = len(test_loader.dataset)\n",
    "\n",
    "def train(model, epoch, log_interval, \n",
    "          train_losses=train_losses):\n",
    "    model.train()\n",
    "    for batch_idx, (data, target) in enumerate(train_loader):\n",
    "        try:\n",
    "            _mem_before = torch.cuda.memory_allocated()\n",
    "            data = data.to(device)\n",
    "            target = target.to(device)\n",
    "            output = model(data)\n",
    "            del data\n",
    "            gc.collect()\n",
    "            torch.cuda.empty_cache()\n",
    "            loss = F.cross_entropy(output.squeeze(), target)\n",
    "            _mem_during = torch.cuda.memory_allocated()\n",
    "            del target\n",
    "            gc.collect()\n",
    "            torch.cuda.empty_cache()\n",
    "            optimizer.zero_grad()\n",
    "            loss.backward()\n",
    "            nn.utils.clip_grad.clip_grad_norm_(\n",
    "                model.parameters(), 1.0)\n",
    "            optimizer.step()\n",
    "            _mem_after = torch.cuda.memory_allocated()\n",
    "            # print training stats\n",
    "            if batch_idx % log_interval == 0:\n",
    "                print(f\"Train Epoch: {epoch} [{batch_idx * batch_size}/{train_loader_length} ({100. * batch_idx / len(train_loader):.0f}%)]\\tLoss: {loss.item():.6f}\")\n",
    "                print(f'Mem before-during-after: {_mem_before} {_mem_during} {_mem_after}')\n",
    "            # update progress bar\n",
    "            pbar.update(pbar_update)\n",
    "            # record loss\n",
    "            train_losses.append(loss.item())\n",
    "        except Exception as e:\n",
    "            print(f'data: {data.shape} => output: {output.shape} | target: {target.shape}')\n",
    "            traceback.print_exc()\n",
    "\n",
    "@torch.no_grad\n",
    "def test(model, epoch):\n",
    "    model.eval()\n",
    "    correct = 0\n",
    "    total = 0\n",
    "    for data, target in test_loader:\n",
    "        total += len(target)\n",
    "        data = data.to(device)\n",
    "        target = target.to(device)\n",
    "        output = model(data).squeeze()\n",
    "        del data\n",
    "        gc.collect()\n",
    "        torch.cuda.empty_cache()\n",
    "        probs = F.softmax(output, dim=-1)\n",
    "        pred = probs.argmax(dim=-1)\n",
    "        correct += pred.eq(target).sum().item()\n",
    "        del target\n",
    "        gc.collect()\n",
    "        torch.cuda.empty_cache()\n",
    "        pbar.update(pbar_update)\n",
    "    acc = correct / test_loader_length\n",
    "    print(f\"\\nTest Epoch: {epoch}\\tAccuracy: {correct}/{total} ({100. * acc:.0f}%)\\n\")\n",
    "    return acc"
   ]
  },
  {
   "cell_type": "code",
   "execution_count": 28,
   "id": "5b603579-adcb-4716-bbda-bc97a2178bf0",
   "metadata": {
    "scrolled": true
   },
   "outputs": [
    {
     "name": "stderr",
     "output_type": "stream",
     "text": [
      "  0%|▎                                                                                                                                                                             | 0.019801980198019802/10 [00:00<04:27, 26.82s/it]"
     ]
    },
    {
     "name": "stdout",
     "output_type": "stream",
     "text": [
      "Train Epoch: 1 [0/2508 (0%)]\tLoss: 1.103801\n",
      "Mem before-during-after: 528384 98276352 20809216\n"
     ]
    },
    {
     "name": "stderr",
     "output_type": "stream",
     "text": [
      "  4%|███████▎                                                                                                                                                                       | 0.41584158415841604/10 [00:07<02:39, 16.63s/it]"
     ]
    },
    {
     "name": "stdout",
     "output_type": "stream",
     "text": [
      "Train Epoch: 1 [1280/2508 (51%)]\tLoss: 1.050875\n",
      "Mem before-during-after: 20809216 108751360 20809216\n"
     ]
    },
    {
     "name": "stderr",
     "output_type": "stream",
     "text": [
      " 10%|█████████████████▊                                                                                                                                                              | 1.0099009900990106/10 [00:16<02:24, 16.10s/it]"
     ]
    },
    {
     "name": "stdout",
     "output_type": "stream",
     "text": [
      "\n",
      "Test Epoch: 1\tAccuracy: 221/736 (29%)\n",
      "\n",
      "Train Epoch: 2 [0/2508 (0%)]\tLoss: 1.108380\n",
      "Mem before-during-after: 20805120 108751360 20809216\n"
     ]
    },
    {
     "name": "stderr",
     "output_type": "stream",
     "text": [
      " 14%|████████████████████████▉                                                                                                                                                       | 1.4158415841584169/10 [00:23<02:19, 16.27s/it]"
     ]
    },
    {
     "name": "stdout",
     "output_type": "stream",
     "text": [
      "Train Epoch: 2 [1280/2508 (51%)]\tLoss: 1.093361\n",
      "Mem before-during-after: 20809216 108751360 20809216\n"
     ]
    },
    {
     "name": "stderr",
     "output_type": "stream",
     "text": [
      " 20%|███████████████████████████████████▎                                                                                                                                            | 2.0099009900990112/10 [00:33<02:07, 15.92s/it]"
     ]
    },
    {
     "name": "stdout",
     "output_type": "stream",
     "text": [
      "\n",
      "Test Epoch: 2\tAccuracy: 261/736 (34%)\n",
      "\n",
      "Train Epoch: 3 [0/2508 (0%)]\tLoss: 1.079923\n",
      "Mem before-during-after: 20805120 108751360 20809216\n"
     ]
    },
    {
     "name": "stderr",
     "output_type": "stream",
     "text": [
      " 24%|██████████████████████████████████████████▌                                                                                                                                     | 2.4158415841584175/10 [00:39<02:04, 16.44s/it]"
     ]
    },
    {
     "name": "stdout",
     "output_type": "stream",
     "text": [
      "Train Epoch: 3 [1280/2508 (51%)]\tLoss: 1.049655\n",
      "Mem before-during-after: 20809216 108751360 20809216\n"
     ]
    },
    {
     "name": "stderr",
     "output_type": "stream",
     "text": [
      " 30%|█████████████████████████████████████████████████████▎                                                                                                                           | 3.009900990099012/10 [00:49<01:53, 16.23s/it]"
     ]
    },
    {
     "name": "stdout",
     "output_type": "stream",
     "text": [
      "\n",
      "Test Epoch: 3\tAccuracy: 462/736 (61%)\n",
      "\n",
      "Train Epoch: 4 [0/2508 (0%)]\tLoss: 0.955922\n",
      "Mem before-during-after: 20805120 108751360 20809216\n"
     ]
    },
    {
     "name": "stderr",
     "output_type": "stream",
     "text": [
      " 34%|████████████████████████████████████████████████████████████                                                                                                                    | 3.4158415841584184/10 [00:56<01:50, 16.74s/it]"
     ]
    },
    {
     "name": "stdout",
     "output_type": "stream",
     "text": [
      "Train Epoch: 4 [1280/2508 (51%)]\tLoss: 1.105965\n",
      "Mem before-during-after: 20809216 108751360 20809216\n"
     ]
    },
    {
     "name": "stderr",
     "output_type": "stream",
     "text": [
      " 40%|██████████████████████████████████████████████████████████████████████▉                                                                                                          | 4.009900990099013/10 [01:06<01:36, 16.13s/it]"
     ]
    },
    {
     "name": "stdout",
     "output_type": "stream",
     "text": [
      "\n",
      "Test Epoch: 4\tAccuracy: 372/736 (49%)\n",
      "\n",
      "Train Epoch: 5 [0/2508 (0%)]\tLoss: 1.113236\n",
      "Mem before-during-after: 20805120 108751360 20809216\n"
     ]
    },
    {
     "name": "stderr",
     "output_type": "stream",
     "text": [
      " 44%|██████████████████████████████████████████████████████████████████████████████▏                                                                                                  | 4.415841584158419/10 [01:12<01:31, 16.44s/it]"
     ]
    },
    {
     "name": "stdout",
     "output_type": "stream",
     "text": [
      "Train Epoch: 5 [1280/2508 (51%)]\tLoss: 0.656649\n",
      "Mem before-during-after: 20809216 108751360 20809216\n"
     ]
    },
    {
     "name": "stderr",
     "output_type": "stream",
     "text": [
      " 50%|████████████████████████████████████████████████████████████████████████████████████████▏                                                                                       | 5.0099009900990135/10 [01:22<01:21, 16.38s/it]"
     ]
    },
    {
     "name": "stdout",
     "output_type": "stream",
     "text": [
      "\n",
      "Test Epoch: 5\tAccuracy: 471/736 (62%)\n",
      "\n",
      "Train Epoch: 6 [0/2508 (0%)]\tLoss: 0.774232\n",
      "Mem before-during-after: 20805120 108751360 20809216\n"
     ]
    },
    {
     "name": "stderr",
     "output_type": "stream",
     "text": [
      " 54%|████████████████████████████████████████████████████████████████████████████████████████████████▍                                                                                 | 5.41584158415842/10 [01:29<01:15, 16.44s/it]"
     ]
    },
    {
     "name": "stdout",
     "output_type": "stream",
     "text": [
      "Train Epoch: 6 [1280/2508 (51%)]\tLoss: 1.115410\n",
      "Mem before-during-after: 20809216 108751360 20809216\n"
     ]
    },
    {
     "name": "stderr",
     "output_type": "stream",
     "text": [
      " 60%|██████████████████████████████████████████████████████████████████████████████████████████████████████████▍                                                                      | 6.009900990099014/10 [01:38<01:04, 16.12s/it]"
     ]
    },
    {
     "name": "stdout",
     "output_type": "stream",
     "text": [
      "\n",
      "Test Epoch: 6\tAccuracy: 318/736 (42%)\n",
      "\n",
      "Train Epoch: 7 [0/2508 (0%)]\tLoss: 1.083469\n",
      "Mem before-during-after: 20805120 108751360 20809216\n"
     ]
    },
    {
     "name": "stderr",
     "output_type": "stream",
     "text": [
      " 64%|█████████████████████████████████████████████████████████████████████████████████████████████████████████████████▌                                                               | 6.415841584158421/10 [01:45<00:59, 16.48s/it]"
     ]
    },
    {
     "name": "stdout",
     "output_type": "stream",
     "text": [
      "Train Epoch: 7 [1280/2508 (51%)]\tLoss: 0.712610\n",
      "Mem before-during-after: 20809216 108751360 20809216\n"
     ]
    },
    {
     "name": "stderr",
     "output_type": "stream",
     "text": [
      " 70%|████████████████████████████████████████████████████████████████████████████████████████████████████████████████████████████                                                     | 7.009900990099015/10 [01:55<00:47, 15.94s/it]"
     ]
    },
    {
     "name": "stdout",
     "output_type": "stream",
     "text": [
      "\n",
      "Test Epoch: 7\tAccuracy: 481/736 (63%)\n",
      "\n",
      "Train Epoch: 8 [0/2508 (0%)]\tLoss: 0.732566\n",
      "Mem before-during-after: 20805120 108751360 20809216\n"
     ]
    },
    {
     "name": "stderr",
     "output_type": "stream",
     "text": [
      " 74%|██████████████████████████████████████████████████████████████████████████████████████████████████████████████████████████████████▌                                             | 7.4158415841584215/10 [02:01<00:41, 16.12s/it]"
     ]
    },
    {
     "name": "stdout",
     "output_type": "stream",
     "text": [
      "Train Epoch: 8 [1280/2508 (51%)]\tLoss: 0.900686\n",
      "Mem before-during-after: 20809216 108751360 20809216\n"
     ]
    },
    {
     "name": "stderr",
     "output_type": "stream",
     "text": [
      " 80%|█████████████████████████████████████████████████████████████████████████████████████████████████████████████████████████████████████████████▊                                   | 8.009900990099014/10 [02:11<00:31, 15.95s/it]"
     ]
    },
    {
     "name": "stdout",
     "output_type": "stream",
     "text": [
      "\n",
      "Test Epoch: 8\tAccuracy: 525/736 (69%)\n",
      "\n",
      "Train Epoch: 9 [0/2508 (0%)]\tLoss: 0.775951\n",
      "Mem before-during-after: 20805120 108751360 20809216\n"
     ]
    },
    {
     "name": "stderr",
     "output_type": "stream",
     "text": [
      " 84%|████████████████████████████████████████████████████████████████████████████████████████████████████████████████████████████████████████████████████▉                            | 8.415841584158384/10 [02:18<00:26, 16.50s/it]"
     ]
    },
    {
     "name": "stdout",
     "output_type": "stream",
     "text": [
      "Train Epoch: 9 [1280/2508 (51%)]\tLoss: 1.098814\n",
      "Mem before-during-after: 20809216 108751360 20809216\n"
     ]
    },
    {
     "name": "stderr",
     "output_type": "stream",
     "text": [
      " 90%|███████████████████████████████████████████████████████████████████████████████████████████████████████████████████████████████████████████████████████████████▍                 | 9.009900990098926/10 [02:27<00:15, 16.10s/it]"
     ]
    },
    {
     "name": "stdout",
     "output_type": "stream",
     "text": [
      "\n",
      "Test Epoch: 9\tAccuracy: 449/736 (59%)\n",
      "\n",
      "Train Epoch: 10 [0/2508 (0%)]\tLoss: 0.851085\n",
      "Mem before-during-after: 20805120 108751360 20809216\n"
     ]
    },
    {
     "name": "stderr",
     "output_type": "stream",
     "text": [
      " 94%|██████████████████████████████████████████████████████████████████████████████████████████████████████████████████████████████████████████████████████████████████████▋          | 9.415841584158295/10 [02:34<00:09, 16.66s/it]"
     ]
    },
    {
     "name": "stdout",
     "output_type": "stream",
     "text": [
      "Train Epoch: 10 [1280/2508 (51%)]\tLoss: 0.715603\n",
      "Mem before-during-after: 20809216 108751360 20809216\n"
     ]
    },
    {
     "name": "stderr",
     "output_type": "stream",
     "text": [
      "100%|████████████████████████████████████████████████████████████████████████████████████████████████████████████████████████████████████████████████████████████████████████████████▉| 9.999999999999828/10 [02:44<00:00, 16.42s/it]"
     ]
    },
    {
     "name": "stdout",
     "output_type": "stream",
     "text": [
      "\n",
      "Test Epoch: 10\tAccuracy: 511/736 (67%)\n",
      "\n"
     ]
    },
    {
     "name": "stderr",
     "output_type": "stream",
     "text": [
      "\n"
     ]
    }
   ],
   "source": [
    "log_interval = 40\n",
    "pbar_update = 1 / (len(train_loader) + len(test_loader))\n",
    "model.to(device)\n",
    "with tqdm(total=n_epoch) as pbar:\n",
    "    for epoch in range(1, n_epoch + 1):\n",
    "        train(model, epoch, log_interval, train_losses)\n",
    "        acc = test(model, epoch)\n",
    "        test_accuracy += [acc]\n",
    "        scheduler.step()"
   ]
  },
  {
   "cell_type": "code",
   "execution_count": 29,
   "id": "1fa1ecac-3026-4018-a3c8-520eeee6b391",
   "metadata": {},
   "outputs": [
    {
     "data": {
      "text/plain": [
       "[<matplotlib.lines.Line2D at 0x7fb7ab2b2970>]"
      ]
     },
     "execution_count": 29,
     "metadata": {},
     "output_type": "execute_result"
    },
    {
     "data": {
      "image/png": "[encoded data removed]",
      "text/plain": [
       "<Figure size 640x480 with 1 Axes>"
      ]
     },
     "metadata": {},
     "output_type": "display_data"
    }
   ],
   "source": [
    "plt.plot(train_losses)"
   ]
  },
  {
   "cell_type": "code",
   "execution_count": 30,
   "id": "9ed3d4fc-aae8-4c7b-961b-33f7d98c5768",
   "metadata": {},
   "outputs": [
    {
     "data": {
      "text/plain": [
       "[<matplotlib.lines.Line2D at 0x7fb7ab1ae6d0>]"
      ]
     },
     "execution_count": 30,
     "metadata": {},
     "output_type": "execute_result"
    },
    {
     "data": {
      "image/png": "[encoded data removed]",
      "text/plain": [
       "<Figure size 640x480 with 1 Axes>"
      ]
     },
     "metadata": {},
     "output_type": "display_data"
    }
   ],
   "source": [
    "plt.plot(test_accuracy)"
   ]
  },
  {
   "cell_type": "code",
   "execution_count": 31,
   "id": "bc41ed22-000d-43b8-beaf-f19ada14d45b",
   "metadata": {},
   "outputs": [],
   "source": [
    "from torchmetrics.classification import (\n",
    "    MulticlassAccuracy, MulticlassPrecision, \n",
    "    MulticlassRecall, MulticlassF1Score, \n",
    "    MulticlassConfusionMatrix,\n",
    "    MulticlassAUROC\n",
    ")\n",
    "from torchmetrics import MetricCollection\n",
    "from pprint import pprint\n",
    "\n",
    "@torch.no_grad\n",
    "def report_metrics(model, labels=labels, \n",
    "                   test_loader=test_loader, device=device):\n",
    "    n = len(labels)\n",
    "    metrics = MetricCollection({\n",
    "        'acc_unweighted': MulticlassAccuracy(num_classes=n), \n",
    "        'acc_weighted': MulticlassAccuracy(num_classes=n, average='weighted'), \n",
    "        \n",
    "        'f1s': MulticlassF1Score(num_classes=n),  \n",
    "        'uar': MulticlassRecall(num_classes=n, average='macro'), \n",
    "        'wap': MulticlassPrecision(num_classes=n, average='weighted'),\n",
    "        \n",
    "        'f1s_detail': MulticlassF1Score(num_classes=n, average=None),  \n",
    "        'acc_detail': MulticlassAccuracy(num_classes=n, average=None), \n",
    "        'precision_detail': MulticlassPrecision(num_classes=n, average=None),\n",
    "        'recall_detail': MulticlassRecall(num_classes=n, average=None), \n",
    "        'rocauc': MulticlassAUROC(num_classes=n, average=None, thresholds=None)\n",
    "    }\n",
    "    # , compute_groups=[['acc', 'f1s', 'wap'], ['uap', 'uar']]\n",
    "                              ).to(device)\n",
    "    confusion_matrix = MulticlassConfusionMatrix(num_classes=n).to(device)\n",
    "    model.eval()\n",
    "    correct = 0\n",
    "    total = 0\n",
    "    for data, target in test_loader:\n",
    "        total += len(target)\n",
    "        \n",
    "        data = data.to(device)\n",
    "        target = target.to(device)\n",
    "        output = model(data).squeeze()\n",
    "        del data\n",
    "        gc.collect()\n",
    "        torch.cuda.empty_cache()\n",
    "        probs = F.softmax(output, dim=-1)\n",
    "        pred = probs.argmax(dim=-1)\n",
    "        correct += pred.eq(target).sum().item()\n",
    "        \n",
    "        metrics.update(probs, target)\n",
    "        confusion_matrix.update(pred, target)\n",
    "        \n",
    "        del target\n",
    "        gc.collect()\n",
    "        torch.cuda.empty_cache()\n",
    "        pbar.update(pbar_update)\n",
    "    print(f'Correct: {correct}/{total} ({correct/total:.4f})')\n",
    "    return metrics, confusion_matrix"
   ]
  },
  {
   "cell_type": "code",
   "execution_count": 32,
   "id": "b9d716e4-f0e0-49a4-82df-fbece96b0ab4",
   "metadata": {},
   "outputs": [
    {
     "name": "stdout",
     "output_type": "stream",
     "text": [
      "Correct: 514/736 (0.6984)\n",
      "{'acc_detail': tensor([0.9308, 0.4864, 0.6445], device='cuda:0'),\n",
      " 'acc_unweighted': tensor(0.6872, device='cuda:0'),\n",
      " 'acc_weighted': tensor(0.6984, device='cuda:0'),\n",
      " 'f1s': tensor(0.6811, device='cuda:0'),\n",
      " 'f1s_detail': tensor([0.7961, 0.5284, 0.7190], device='cuda:0'),\n",
      " 'precision_detail': tensor([0.6954, 0.5784, 0.8128], device='cuda:0'),\n",
      " 'recall_detail': tensor([0.9308, 0.4864, 0.6445], device='cuda:0'),\n",
      " 'rocauc': tensor([0.9457, 0.7429, 0.8904], device='cuda:0'),\n",
      " 'uar': tensor(0.6872, device='cuda:0'),\n",
      " 'wap': tensor(0.7013, device='cuda:0')}\n"
     ]
    },
    {
     "data": {
      "text/plain": [
       "tensor([[242,  18,   0],\n",
       "        [ 75, 107,  38],\n",
       "        [ 31,  60, 165]], device='cuda:0')"
      ]
     },
     "execution_count": 32,
     "metadata": {},
     "output_type": "execute_result"
    }
   ],
   "source": [
    "metrics, confusion_matrix = report_metrics(\n",
    "    model, labels=labels, device=device)\n",
    "pprint(metrics.compute())\n",
    "confusion_matrix.compute()"
   ]
  },
  {
   "cell_type": "code",
   "execution_count": 34,
   "id": "66c3b02f-d05b-42b5-a250-ef26a35713c7",
   "metadata": {},
   "outputs": [],
   "source": [
    "model_path = '../models_cremad3/cremad_label3_m12new_10epochs.pt' \n",
    "torch.save(model.state_dict(), model_path)"
   ]
  },
  {
   "cell_type": "code",
   "execution_count": 35,
   "id": "8d309044-8e20-4cb5-b96e-2a0e97c5d08c",
   "metadata": {
    "scrolled": true
   },
   "outputs": [
    {
     "name": "stderr",
     "output_type": "stream",
     "text": [
      "  0%|                                                                                                                                                                              | 0.019801980198019802/50 [00:00<16:08, 19.39s/it]"
     ]
    },
    {
     "name": "stdout",
     "output_type": "stream",
     "text": [
      "Train Epoch: 11 [0/2508 (0%)]\tLoss: 0.832731\n",
      "Mem before-during-after: 19798528 107744768 20855296\n"
     ]
    },
    {
     "name": "stderr",
     "output_type": "stream",
     "text": [
      "  1%|█▍                                                                                                                                                                             | 0.41584158415841604/50 [00:07<15:29, 18.76s/it]"
     ]
    },
    {
     "name": "stdout",
     "output_type": "stream",
     "text": [
      "Train Epoch: 11 [1280/2508 (51%)]\tLoss: 0.583193\n",
      "Mem before-during-after: 20855296 108797440 20855296\n"
     ]
    },
    {
     "name": "stderr",
     "output_type": "stream",
     "text": [
      "  2%|███▌                                                                                                                                                                            | 1.0099009900990106/50 [00:18<15:00, 18.38s/it]"
     ]
    },
    {
     "name": "stdout",
     "output_type": "stream",
     "text": [
      "\n",
      "Test Epoch: 11\tAccuracy: 517/736 (68%)\n",
      "\n",
      "saved model: ../models_cremad3/cremad_label3_m12new_best_11epoch.pt\n",
      "Train Epoch: 12 [0/2508 (0%)]\tLoss: 0.783334\n",
      "Mem before-during-after: 20851200 108797440 20855296\n"
     ]
    },
    {
     "name": "stderr",
     "output_type": "stream",
     "text": [
      "  3%|████▉                                                                                                                                                                           | 1.4158415841584169/50 [00:26<15:12, 18.79s/it]"
     ]
    },
    {
     "name": "stdout",
     "output_type": "stream",
     "text": [
      "Train Epoch: 12 [1280/2508 (51%)]\tLoss: 0.795652\n",
      "Mem before-during-after: 20855296 108797440 20855296\n"
     ]
    },
    {
     "name": "stderr",
     "output_type": "stream",
     "text": [
      "  4%|███████                                                                                                                                                                         | 2.0099009900990112/50 [00:37<14:46, 18.48s/it]"
     ]
    },
    {
     "name": "stdout",
     "output_type": "stream",
     "text": [
      "\n",
      "Test Epoch: 12\tAccuracy: 522/736 (69%)\n",
      "\n",
      "saved model: ../models_cremad3/cremad_label3_m12new_best_12epoch.pt\n",
      "Train Epoch: 13 [0/2508 (0%)]\tLoss: 0.668745\n",
      "Mem before-during-after: 20851200 108797440 20855296\n"
     ]
    },
    {
     "name": "stderr",
     "output_type": "stream",
     "text": [
      "  5%|████████▌                                                                                                                                                                       | 2.4158415841584175/50 [00:45<15:02, 18.97s/it]"
     ]
    },
    {
     "name": "stdout",
     "output_type": "stream",
     "text": [
      "Train Epoch: 13 [1280/2508 (51%)]\tLoss: 0.583069\n",
      "Mem before-during-after: 20855296 108797440 20855296\n"
     ]
    },
    {
     "name": "stderr",
     "output_type": "stream",
     "text": [
      "  6%|██████████▋                                                                                                                                                                      | 3.009900990099012/50 [00:56<14:25, 18.41s/it]"
     ]
    },
    {
     "name": "stdout",
     "output_type": "stream",
     "text": [
      "\n",
      "Test Epoch: 13\tAccuracy: 522/736 (69%)\n",
      "\n",
      "Train Epoch: 14 [0/2508 (0%)]\tLoss: 0.762520\n",
      "Mem before-during-after: 20851200 108797440 20855296\n"
     ]
    },
    {
     "name": "stderr",
     "output_type": "stream",
     "text": [
      "  7%|████████████                                                                                                                                                                    | 3.4158415841584184/50 [01:03<14:39, 18.87s/it]"
     ]
    },
    {
     "name": "stdout",
     "output_type": "stream",
     "text": [
      "Train Epoch: 14 [1280/2508 (51%)]\tLoss: 0.876204\n",
      "Mem before-during-after: 20855296 108797440 20855296\n"
     ]
    },
    {
     "name": "stderr",
     "output_type": "stream",
     "text": [
      "  8%|██████████████▏                                                                                                                                                                  | 4.009900990099013/50 [01:14<14:05, 18.39s/it]"
     ]
    },
    {
     "name": "stdout",
     "output_type": "stream",
     "text": [
      "\n",
      "Test Epoch: 14\tAccuracy: 507/736 (67%)\n",
      "\n",
      "Train Epoch: 15 [0/2508 (0%)]\tLoss: 0.636749\n",
      "Mem before-during-after: 20851200 108797440 20855296\n"
     ]
    },
    {
     "name": "stderr",
     "output_type": "stream",
     "text": [
      "  9%|███████████████▋                                                                                                                                                                 | 4.415841584158419/50 [01:22<14:19, 18.85s/it]"
     ]
    },
    {
     "name": "stdout",
     "output_type": "stream",
     "text": [
      "Train Epoch: 15 [1280/2508 (51%)]\tLoss: 0.799123\n",
      "Mem before-during-after: 20855296 108797440 20855296\n"
     ]
    },
    {
     "name": "stderr",
     "output_type": "stream",
     "text": [
      " 10%|█████████████████▋                                                                                                                                                              | 5.0099009900990135/50 [01:33<13:42, 18.29s/it]"
     ]
    },
    {
     "name": "stdout",
     "output_type": "stream",
     "text": [
      "\n",
      "Test Epoch: 15\tAccuracy: 491/736 (65%)\n",
      "\n",
      "Train Epoch: 16 [0/2508 (0%)]\tLoss: 0.773857\n",
      "Mem before-during-after: 20851200 108797440 20855296\n"
     ]
    },
    {
     "name": "stderr",
     "output_type": "stream",
     "text": [
      " 11%|███████████████████▎                                                                                                                                                              | 5.41584158415842/50 [01:40<13:37, 18.34s/it]"
     ]
    },
    {
     "name": "stdout",
     "output_type": "stream",
     "text": [
      "Train Epoch: 16 [1280/2508 (51%)]\tLoss: 1.129833\n",
      "Mem before-during-after: 20855296 108797440 20855296\n"
     ]
    },
    {
     "name": "stderr",
     "output_type": "stream",
     "text": [
      " 12%|█████████████████████▎                                                                                                                                                           | 6.009900990099014/50 [01:51<13:14, 18.06s/it]"
     ]
    },
    {
     "name": "stdout",
     "output_type": "stream",
     "text": [
      "\n",
      "Test Epoch: 16\tAccuracy: 460/736 (61%)\n",
      "\n",
      "Train Epoch: 17 [0/2508 (0%)]\tLoss: 0.610411\n",
      "Mem before-during-after: 20851200 108797440 20855296\n"
     ]
    },
    {
     "name": "stderr",
     "output_type": "stream",
     "text": [
      " 13%|██████████████████████▋                                                                                                                                                          | 6.415841584158421/50 [01:59<13:26, 18.51s/it]"
     ]
    },
    {
     "name": "stdout",
     "output_type": "stream",
     "text": [
      "Train Epoch: 17 [1280/2508 (51%)]\tLoss: 0.833390\n",
      "Mem before-during-after: 20855296 108797440 20855296\n"
     ]
    },
    {
     "name": "stderr",
     "output_type": "stream",
     "text": [
      " 14%|████████████████████████▊                                                                                                                                                        | 7.009900990099015/50 [02:10<13:10, 18.40s/it]"
     ]
    },
    {
     "name": "stdout",
     "output_type": "stream",
     "text": [
      "\n",
      "Test Epoch: 17\tAccuracy: 510/736 (67%)\n",
      "\n",
      "Train Epoch: 18 [0/2508 (0%)]\tLoss: 0.642170\n",
      "Mem before-during-after: 20851200 108797440 20855296\n"
     ]
    },
    {
     "name": "stderr",
     "output_type": "stream",
     "text": [
      " 15%|██████████████████████████                                                                                                                                                      | 7.4158415841584215/50 [02:17<13:29, 19.02s/it]"
     ]
    },
    {
     "name": "stdout",
     "output_type": "stream",
     "text": [
      "Train Epoch: 18 [1280/2508 (51%)]\tLoss: 0.761274\n",
      "Mem before-during-after: 20855296 108797440 20855296\n"
     ]
    },
    {
     "name": "stderr",
     "output_type": "stream",
     "text": [
      " 16%|████████████████████████████▎                                                                                                                                                    | 8.009900990099014/50 [02:28<12:43, 18.17s/it]"
     ]
    },
    {
     "name": "stdout",
     "output_type": "stream",
     "text": [
      "\n",
      "Test Epoch: 18\tAccuracy: 491/736 (65%)\n",
      "\n",
      "Train Epoch: 19 [0/2508 (0%)]\tLoss: 1.003650\n",
      "Mem before-during-after: 20851200 108797440 20855296\n"
     ]
    },
    {
     "name": "stderr",
     "output_type": "stream",
     "text": [
      " 17%|█████████████████████████████▊                                                                                                                                                   | 8.415841584158384/50 [02:36<12:59, 18.75s/it]"
     ]
    },
    {
     "name": "stdout",
     "output_type": "stream",
     "text": [
      "Train Epoch: 19 [1280/2508 (51%)]\tLoss: 0.916530\n",
      "Mem before-during-after: 20855296 108797440 20855296\n"
     ]
    },
    {
     "name": "stderr",
     "output_type": "stream",
     "text": [
      " 18%|███████████████████████████████▉                                                                                                                                                 | 9.009900990098926/50 [02:47<12:31, 18.32s/it]"
     ]
    },
    {
     "name": "stdout",
     "output_type": "stream",
     "text": [
      "\n",
      "Test Epoch: 19\tAccuracy: 514/736 (68%)\n",
      "\n",
      "Train Epoch: 20 [0/2508 (0%)]\tLoss: 0.654644\n",
      "Mem before-during-after: 20851200 108797440 20855296\n"
     ]
    },
    {
     "name": "stderr",
     "output_type": "stream",
     "text": [
      " 19%|█████████████████████████████████▎                                                                                                                                               | 9.415841584158295/50 [02:55<12:21, 18.28s/it]"
     ]
    },
    {
     "name": "stdout",
     "output_type": "stream",
     "text": [
      "Train Epoch: 20 [1280/2508 (51%)]\tLoss: 0.796694\n",
      "Mem before-during-after: 20855296 108797440 20855296\n"
     ]
    },
    {
     "name": "stderr",
     "output_type": "stream",
     "text": [
      " 20%|███████████████████████████████████▏                                                                                                                                            | 10.009900990098837/50 [03:06<11:56, 17.92s/it]"
     ]
    },
    {
     "name": "stdout",
     "output_type": "stream",
     "text": [
      "\n",
      "Test Epoch: 20\tAccuracy: 402/736 (53%)\n",
      "\n",
      "Train Epoch: 21 [0/2508 (0%)]\tLoss: 0.879086\n",
      "Mem before-during-after: 20851200 108797440 20855296\n"
     ]
    },
    {
     "name": "stderr",
     "output_type": "stream",
     "text": [
      " 21%|████████████████████████████████████▋                                                                                                                                           | 10.415841584158207/50 [03:13<12:30, 18.97s/it]"
     ]
    },
    {
     "name": "stdout",
     "output_type": "stream",
     "text": [
      "Train Epoch: 21 [1280/2508 (51%)]\tLoss: 0.782279\n",
      "Mem before-during-after: 20855296 108797440 20855296\n"
     ]
    },
    {
     "name": "stderr",
     "output_type": "stream",
     "text": [
      " 22%|██████████████████████████████████████▊                                                                                                                                         | 11.009900990098748/50 [03:24<12:11, 18.76s/it]"
     ]
    },
    {
     "name": "stdout",
     "output_type": "stream",
     "text": [
      "\n",
      "Test Epoch: 21\tAccuracy: 487/736 (64%)\n",
      "\n",
      "Train Epoch: 22 [0/2508 (0%)]\tLoss: 0.708266\n",
      "Mem before-during-after: 20851200 108797440 20855296\n"
     ]
    },
    {
     "name": "stderr",
     "output_type": "stream",
     "text": [
      " 23%|████████████████████████████████████████▏                                                                                                                                       | 11.415841584158118/50 [03:32<12:14, 19.04s/it]"
     ]
    },
    {
     "name": "stdout",
     "output_type": "stream",
     "text": [
      "Train Epoch: 22 [1280/2508 (51%)]\tLoss: 0.747288\n",
      "Mem before-during-after: 20855296 108797440 20855296\n"
     ]
    },
    {
     "name": "stderr",
     "output_type": "stream",
     "text": [
      " 24%|██████████████████████████████████████████▎                                                                                                                                     | 12.009900990098659/50 [03:43<11:27, 18.09s/it]"
     ]
    },
    {
     "name": "stdout",
     "output_type": "stream",
     "text": [
      "\n",
      "Test Epoch: 22\tAccuracy: 518/736 (68%)\n",
      "\n",
      "Train Epoch: 23 [0/2508 (0%)]\tLoss: 0.691820\n",
      "Mem before-during-after: 20851200 108797440 20855296\n"
     ]
    },
    {
     "name": "stderr",
     "output_type": "stream",
     "text": [
      " 25%|███████████████████████████████████████████▋                                                                                                                                    | 12.415841584158029/50 [03:51<11:45, 18.78s/it]"
     ]
    },
    {
     "name": "stdout",
     "output_type": "stream",
     "text": [
      "Train Epoch: 23 [1280/2508 (51%)]\tLoss: 0.773212\n",
      "Mem before-during-after: 20855296 108797440 20855296\n"
     ]
    },
    {
     "name": "stderr",
     "output_type": "stream",
     "text": [
      " 26%|██████████████████████████████████████████████                                                                                                                                   | 13.00990099009857/50 [04:02<11:06, 18.02s/it]"
     ]
    },
    {
     "name": "stdout",
     "output_type": "stream",
     "text": [
      "\n",
      "Test Epoch: 23\tAccuracy: 387/736 (51%)\n",
      "\n",
      "Train Epoch: 24 [0/2508 (0%)]\tLoss: 0.894540\n",
      "Mem before-during-after: 20851200 108797440 20855296\n"
     ]
    },
    {
     "name": "stderr",
     "output_type": "stream",
     "text": [
      " 27%|███████████████████████████████████████████████▍                                                                                                                                 | 13.41584158415794/50 [04:09<11:31, 18.91s/it]"
     ]
    },
    {
     "name": "stdout",
     "output_type": "stream",
     "text": [
      "Train Epoch: 24 [1280/2508 (51%)]\tLoss: 0.794119\n",
      "Mem before-during-after: 20855296 108797440 20855296\n"
     ]
    },
    {
     "name": "stderr",
     "output_type": "stream",
     "text": [
      " 28%|█████████████████████████████████████████████████▎                                                                                                                              | 14.009900990098481/50 [04:20<11:17, 18.82s/it]"
     ]
    },
    {
     "name": "stdout",
     "output_type": "stream",
     "text": [
      "\n",
      "Test Epoch: 24\tAccuracy: 508/736 (67%)\n",
      "\n",
      "Train Epoch: 25 [0/2508 (0%)]\tLoss: 0.746269\n",
      "Mem before-during-after: 20851200 108797440 20855296\n"
     ]
    },
    {
     "name": "stderr",
     "output_type": "stream",
     "text": [
      " 29%|██████████████████████████████████████████████████▋                                                                                                                             | 14.415841584157851/50 [04:28<11:21, 19.14s/it]"
     ]
    },
    {
     "name": "stdout",
     "output_type": "stream",
     "text": [
      "Train Epoch: 25 [1280/2508 (51%)]\tLoss: 0.586990\n",
      "Mem before-during-after: 20855296 108797440 20855296\n"
     ]
    },
    {
     "name": "stderr",
     "output_type": "stream",
     "text": [
      " 30%|████████████████████████████████████████████████████▊                                                                                                                           | 15.009900990098393/50 [04:39<10:57, 18.79s/it]"
     ]
    },
    {
     "name": "stdout",
     "output_type": "stream",
     "text": [
      "\n",
      "Test Epoch: 25\tAccuracy: 484/736 (64%)\n",
      "\n",
      "Train Epoch: 26 [0/2508 (0%)]\tLoss: 0.661686\n",
      "Mem before-during-after: 20851200 108797440 20855296\n"
     ]
    },
    {
     "name": "stderr",
     "output_type": "stream",
     "text": [
      " 31%|██████████████████████████████████████████████████████▎                                                                                                                         | 15.415841584157763/50 [04:47<10:51, 18.84s/it]"
     ]
    },
    {
     "name": "stdout",
     "output_type": "stream",
     "text": [
      "Train Epoch: 26 [1280/2508 (51%)]\tLoss: 0.561061\n",
      "Mem before-during-after: 20855296 108797440 20855296\n"
     ]
    },
    {
     "name": "stderr",
     "output_type": "stream",
     "text": [
      " 32%|████████████████████████████████████████████████████████▎                                                                                                                       | 16.009900990098306/50 [04:58<10:22, 18.32s/it]"
     ]
    },
    {
     "name": "stdout",
     "output_type": "stream",
     "text": [
      "\n",
      "Test Epoch: 26\tAccuracy: 486/736 (64%)\n",
      "\n",
      "Train Epoch: 27 [0/2508 (0%)]\tLoss: 0.680844\n",
      "Mem before-during-after: 20851200 108797440 20855296\n"
     ]
    },
    {
     "name": "stderr",
     "output_type": "stream",
     "text": [
      " 33%|█████████████████████████████████████████████████████████▊                                                                                                                      | 16.415841584157675/50 [05:06<10:43, 19.15s/it]"
     ]
    },
    {
     "name": "stdout",
     "output_type": "stream",
     "text": [
      "Train Epoch: 27 [1280/2508 (51%)]\tLoss: 0.581544\n",
      "Mem before-during-after: 20855296 108797440 20855296\n"
     ]
    },
    {
     "name": "stderr",
     "output_type": "stream",
     "text": [
      " 34%|███████████████████████████████████████████████████████████▊                                                                                                                    | 17.009900990098217/50 [05:17<10:18, 18.75s/it]"
     ]
    },
    {
     "name": "stdout",
     "output_type": "stream",
     "text": [
      "\n",
      "Test Epoch: 27\tAccuracy: 490/736 (65%)\n",
      "\n",
      "Train Epoch: 28 [0/2508 (0%)]\tLoss: 0.773919\n",
      "Mem before-during-after: 20851200 108797440 20855296\n"
     ]
    },
    {
     "name": "stderr",
     "output_type": "stream",
     "text": [
      " 35%|█████████████████████████████████████████████████████████████▎                                                                                                                  | 17.415841584157587/50 [05:25<10:03, 18.52s/it]"
     ]
    },
    {
     "name": "stdout",
     "output_type": "stream",
     "text": [
      "Train Epoch: 28 [1280/2508 (51%)]\tLoss: 0.684477\n",
      "Mem before-during-after: 20855296 108797440 20855296\n"
     ]
    },
    {
     "name": "stderr",
     "output_type": "stream",
     "text": [
      " 36%|███████████████████████████████████████████████████████████████▍                                                                                                                | 18.009900990098128/50 [05:36<09:41, 18.17s/it]"
     ]
    },
    {
     "name": "stdout",
     "output_type": "stream",
     "text": [
      "\n",
      "Test Epoch: 28\tAccuracy: 445/736 (59%)\n",
      "\n",
      "Train Epoch: 29 [0/2508 (0%)]\tLoss: 0.733355\n",
      "Mem before-during-after: 20851200 108797440 20855296\n"
     ]
    },
    {
     "name": "stderr",
     "output_type": "stream",
     "text": [
      " 37%|████████████████████████████████████████████████████████████████▊                                                                                                               | 18.415841584157498/50 [05:43<09:56, 18.89s/it]"
     ]
    },
    {
     "name": "stdout",
     "output_type": "stream",
     "text": [
      "Train Epoch: 29 [1280/2508 (51%)]\tLoss: 0.852159\n",
      "Mem before-during-after: 20855296 108797440 20855296\n"
     ]
    },
    {
     "name": "stderr",
     "output_type": "stream",
     "text": [
      " 38%|███████████████████████████████████████████████████████████████████▎                                                                                                             | 19.00990099009804/50 [05:55<09:50, 19.07s/it]"
     ]
    },
    {
     "name": "stdout",
     "output_type": "stream",
     "text": [
      "\n",
      "Test Epoch: 29\tAccuracy: 422/736 (56%)\n",
      "\n",
      "Train Epoch: 30 [0/2508 (0%)]\tLoss: 1.351773\n",
      "Mem before-during-after: 20851200 108797440 20855296\n"
     ]
    },
    {
     "name": "stderr",
     "output_type": "stream",
     "text": [
      " 39%|████████████████████████████████████████████████████████████████████▋                                                                                                            | 19.41584158415741/50 [06:02<09:32, 18.72s/it]"
     ]
    },
    {
     "name": "stdout",
     "output_type": "stream",
     "text": [
      "Train Epoch: 30 [1280/2508 (51%)]\tLoss: 0.588068\n",
      "Mem before-during-after: 20855296 108797440 20855296\n"
     ]
    },
    {
     "name": "stderr",
     "output_type": "stream",
     "text": [
      " 40%|██████████████████████████████████████████████████████████████████████▊                                                                                                          | 20.00990099009795/50 [06:13<08:56, 17.90s/it]"
     ]
    },
    {
     "name": "stdout",
     "output_type": "stream",
     "text": [
      "\n",
      "Test Epoch: 30\tAccuracy: 485/736 (64%)\n",
      "\n",
      "Train Epoch: 31 [0/2508 (0%)]\tLoss: 0.887058\n",
      "Mem before-during-after: 20851200 108797440 20855296\n"
     ]
    },
    {
     "name": "stderr",
     "output_type": "stream",
     "text": [
      " 41%|████████████████████████████████████████████████████████████████████████▎                                                                                                        | 20.41584158415732/50 [06:21<08:59, 18.25s/it]"
     ]
    },
    {
     "name": "stdout",
     "output_type": "stream",
     "text": [
      "Train Epoch: 31 [1280/2508 (51%)]\tLoss: 1.177021\n",
      "Mem before-during-after: 20855296 108797440 20855296\n"
     ]
    },
    {
     "name": "stderr",
     "output_type": "stream",
     "text": [
      " 42%|██████████████████████████████████████████████████████████████████████████▍                                                                                                      | 21.00990099009786/50 [06:31<08:40, 17.96s/it]"
     ]
    },
    {
     "name": "stdout",
     "output_type": "stream",
     "text": [
      "\n",
      "Test Epoch: 31\tAccuracy: 514/736 (68%)\n",
      "\n",
      "Train Epoch: 32 [0/2508 (0%)]\tLoss: 0.771378\n",
      "Mem before-during-after: 20851200 108797440 20855296\n"
     ]
    },
    {
     "name": "stderr",
     "output_type": "stream",
     "text": [
      " 43%|███████████████████████████████████████████████████████████████████████████▊                                                                                                     | 21.41584158415723/50 [06:39<08:44, 18.33s/it]"
     ]
    },
    {
     "name": "stdout",
     "output_type": "stream",
     "text": [
      "Train Epoch: 32 [1280/2508 (51%)]\tLoss: 1.228065\n",
      "Mem before-during-after: 20855296 108797440 20855296\n"
     ]
    },
    {
     "name": "stderr",
     "output_type": "stream",
     "text": [
      " 44%|█████████████████████████████████████████████████████████████████████████████▍                                                                                                  | 22.009900990097773/50 [06:50<08:22, 17.95s/it]"
     ]
    },
    {
     "name": "stdout",
     "output_type": "stream",
     "text": [
      "\n",
      "Test Epoch: 32\tAccuracy: 494/736 (65%)\n",
      "\n",
      "Train Epoch: 33 [0/2508 (0%)]\tLoss: 0.735050\n",
      "Mem before-during-after: 20851200 108797440 20855296\n"
     ]
    },
    {
     "name": "stderr",
     "output_type": "stream",
     "text": [
      " 45%|██████████████████████████████████████████████████████████████████████████████▉                                                                                                 | 22.415841584157143/50 [06:57<08:26, 18.37s/it]"
     ]
    },
    {
     "name": "stdout",
     "output_type": "stream",
     "text": [
      "Train Epoch: 33 [1280/2508 (51%)]\tLoss: 0.983063\n",
      "Mem before-during-after: 20855296 108797440 20855296\n"
     ]
    },
    {
     "name": "stderr",
     "output_type": "stream",
     "text": [
      " 46%|████████████████████████████████████████████████████████████████████████████████▉                                                                                               | 23.009900990097684/50 [07:08<08:18, 18.45s/it]"
     ]
    },
    {
     "name": "stdout",
     "output_type": "stream",
     "text": [
      "\n",
      "Test Epoch: 33\tAccuracy: 453/736 (60%)\n",
      "\n",
      "Train Epoch: 34 [0/2508 (0%)]\tLoss: 1.181239\n",
      "Mem before-during-after: 20851200 108797440 20855296\n"
     ]
    },
    {
     "name": "stderr",
     "output_type": "stream",
     "text": [
      " 47%|██████████████████████████████████████████████████████████████████████████████████▍                                                                                             | 23.415841584157054/50 [07:16<08:24, 18.96s/it]"
     ]
    },
    {
     "name": "stdout",
     "output_type": "stream",
     "text": [
      "Train Epoch: 34 [1280/2508 (51%)]\tLoss: 0.553761\n",
      "Mem before-during-after: 20855296 108797440 20855296\n"
     ]
    },
    {
     "name": "stderr",
     "output_type": "stream",
     "text": [
      " 48%|████████████████████████████████████████████████████████████████████████████████████▌                                                                                           | 24.009900990097595/50 [07:27<08:05, 18.70s/it]"
     ]
    },
    {
     "name": "stdout",
     "output_type": "stream",
     "text": [
      "\n",
      "Test Epoch: 34\tAccuracy: 490/736 (65%)\n",
      "\n",
      "Train Epoch: 35 [0/2508 (0%)]\tLoss: 0.732094\n",
      "Mem before-during-after: 20851200 108797440 20855296\n"
     ]
    },
    {
     "name": "stderr",
     "output_type": "stream",
     "text": [
      " 49%|█████████████████████████████████████████████████████████████████████████████████████▉                                                                                          | 24.415841584156965/50 [07:35<08:04, 18.92s/it]"
     ]
    },
    {
     "name": "stdout",
     "output_type": "stream",
     "text": [
      "Train Epoch: 35 [1280/2508 (51%)]\tLoss: 1.086162\n",
      "Mem before-during-after: 20855296 108797440 20855296\n"
     ]
    },
    {
     "name": "stderr",
     "output_type": "stream",
     "text": [
      " 50%|████████████████████████████████████████████████████████████████████████████████████████                                                                                        | 25.009900990097506/50 [07:46<07:33, 18.14s/it]"
     ]
    },
    {
     "name": "stdout",
     "output_type": "stream",
     "text": [
      "\n",
      "Test Epoch: 35\tAccuracy: 532/736 (70%)\n",
      "\n",
      "saved model: ../models_cremad3/cremad_label3_m12new_best_35epoch.pt\n",
      "Train Epoch: 36 [0/2508 (0%)]\tLoss: 0.656243\n",
      "Mem before-during-after: 20851200 108797440 20855296\n"
     ]
    },
    {
     "name": "stderr",
     "output_type": "stream",
     "text": [
      " 51%|█████████████████████████████████████████████████████████████████████████████████████████▍                                                                                      | 25.415841584156876/50 [07:53<07:32, 18.40s/it]"
     ]
    },
    {
     "name": "stdout",
     "output_type": "stream",
     "text": [
      "Train Epoch: 36 [1280/2508 (51%)]\tLoss: 0.938398\n",
      "Mem before-during-after: 20855296 108797440 20855296\n"
     ]
    },
    {
     "name": "stderr",
     "output_type": "stream",
     "text": [
      " 52%|███████████████████████████████████████████████████████████████████████████████████████████▌                                                                                    | 26.009900990097417/50 [08:04<07:13, 18.06s/it]"
     ]
    },
    {
     "name": "stdout",
     "output_type": "stream",
     "text": [
      "\n",
      "Test Epoch: 36\tAccuracy: 484/736 (64%)\n",
      "\n",
      "Train Epoch: 37 [0/2508 (0%)]\tLoss: 0.605116\n",
      "Mem before-during-after: 20851200 108797440 20855296\n"
     ]
    },
    {
     "name": "stderr",
     "output_type": "stream",
     "text": [
      " 53%|████████████████████████████████████████████████████████████████████████████████████████████▉                                                                                   | 26.415841584156787/50 [08:12<07:23, 18.81s/it]"
     ]
    },
    {
     "name": "stdout",
     "output_type": "stream",
     "text": [
      "Train Epoch: 37 [1280/2508 (51%)]\tLoss: 0.580581\n",
      "Mem before-during-after: 20855296 108797440 20855296\n"
     ]
    },
    {
     "name": "stderr",
     "output_type": "stream",
     "text": [
      " 54%|███████████████████████████████████████████████████████████████████████████████████████████████▌                                                                                 | 27.00990099009733/50 [08:23<06:57, 18.17s/it]"
     ]
    },
    {
     "name": "stdout",
     "output_type": "stream",
     "text": [
      "\n",
      "Test Epoch: 37\tAccuracy: 499/736 (66%)\n",
      "\n",
      "Train Epoch: 38 [0/2508 (0%)]\tLoss: 0.891295\n",
      "Mem before-during-after: 20851200 108797440 20855296\n"
     ]
    },
    {
     "name": "stderr",
     "output_type": "stream",
     "text": [
      " 55%|█████████████████████████████████████████████████████████████████████████████████████████████████▌                                                                                | 27.4158415841567/50 [08:30<07:15, 19.30s/it]"
     ]
    },
    {
     "name": "stdout",
     "output_type": "stream",
     "text": [
      "Train Epoch: 38 [1280/2508 (51%)]\tLoss: 0.841971\n",
      "Mem before-during-after: 20855296 108797440 20855296\n"
     ]
    },
    {
     "name": "stderr",
     "output_type": "stream",
     "text": [
      " 56%|███████████████████████████████████████████████████████████████████████████████████████████████████▏                                                                             | 28.00990099009724/50 [08:41<06:42, 18.29s/it]"
     ]
    },
    {
     "name": "stdout",
     "output_type": "stream",
     "text": [
      "\n",
      "Test Epoch: 38\tAccuracy: 525/736 (69%)\n",
      "\n",
      "Train Epoch: 39 [0/2508 (0%)]\tLoss: 0.649933\n",
      "Mem before-during-after: 20851200 108797440 20855296\n"
     ]
    },
    {
     "name": "stderr",
     "output_type": "stream",
     "text": [
      " 57%|████████████████████████████████████████████████████████████████████████████████████████████████████▌                                                                            | 28.41584158415661/50 [08:49<06:33, 18.21s/it]"
     ]
    },
    {
     "name": "stdout",
     "output_type": "stream",
     "text": [
      "Train Epoch: 39 [1280/2508 (51%)]\tLoss: 0.537323\n",
      "Mem before-during-after: 20855296 108797440 20855296\n"
     ]
    },
    {
     "name": "stderr",
     "output_type": "stream",
     "text": [
      " 58%|██████████████████████████████████████████████████████████████████████████████████████████████████████▋                                                                          | 29.00990099009715/50 [08:59<06:13, 17.81s/it]"
     ]
    },
    {
     "name": "stdout",
     "output_type": "stream",
     "text": [
      "\n",
      "Test Epoch: 39\tAccuracy: 523/736 (69%)\n",
      "\n",
      "Train Epoch: 40 [0/2508 (0%)]\tLoss: 0.738714\n",
      "Mem before-during-after: 20851200 108797440 20855296\n"
     ]
    },
    {
     "name": "stderr",
     "output_type": "stream",
     "text": [
      " 59%|████████████████████████████████████████████████████████████████████████████████████████████████████████▏                                                                        | 29.41584158415652/50 [09:07<06:15, 18.24s/it]"
     ]
    },
    {
     "name": "stdout",
     "output_type": "stream",
     "text": [
      "Train Epoch: 40 [1280/2508 (51%)]\tLoss: 0.563042\n",
      "Mem before-during-after: 20855296 108797440 20855296\n"
     ]
    },
    {
     "name": "stderr",
     "output_type": "stream",
     "text": [
      " 60%|█████████████████████████████████████████████████████████████████████████████████████████████████████████▋                                                                      | 30.009900990097062/50 [09:17<05:56, 17.85s/it]"
     ]
    },
    {
     "name": "stdout",
     "output_type": "stream",
     "text": [
      "\n",
      "Test Epoch: 40\tAccuracy: 417/736 (55%)\n",
      "\n",
      "Train Epoch: 41 [0/2508 (0%)]\tLoss: 1.128240\n",
      "Mem before-during-after: 20851200 108797440 20855296\n"
     ]
    },
    {
     "name": "stderr",
     "output_type": "stream",
     "text": [
      " 61%|███████████████████████████████████████████████████████████████████████████████████████████████████████████                                                                     | 30.415841584156432/50 [09:25<06:01, 18.48s/it]"
     ]
    },
    {
     "name": "stdout",
     "output_type": "stream",
     "text": [
      "Train Epoch: 41 [1280/2508 (51%)]\tLoss: 0.678123\n",
      "Mem before-during-after: 20855296 108797440 20855296\n"
     ]
    },
    {
     "name": "stderr",
     "output_type": "stream",
     "text": [
      " 62%|█████████████████████████████████████████████████████████████████████████████████████████████████████████████▏                                                                  | 31.009900990096973/50 [09:36<05:52, 18.55s/it]"
     ]
    },
    {
     "name": "stdout",
     "output_type": "stream",
     "text": [
      "\n",
      "Test Epoch: 41\tAccuracy: 506/736 (67%)\n",
      "\n",
      "Train Epoch: 42 [0/2508 (0%)]\tLoss: 0.661813\n",
      "Mem before-during-after: 20851200 108797440 20855296\n"
     ]
    },
    {
     "name": "stderr",
     "output_type": "stream",
     "text": [
      " 63%|██████████████████████████████████████████████████████████████████████████████████████████████████████████████▌                                                                 | 31.415841584156343/50 [09:43<05:53, 19.01s/it]"
     ]
    },
    {
     "name": "stdout",
     "output_type": "stream",
     "text": [
      "Train Epoch: 42 [1280/2508 (51%)]\tLoss: 0.855830\n",
      "Mem before-during-after: 20855296 108797440 20855296\n"
     ]
    },
    {
     "name": "stderr",
     "output_type": "stream",
     "text": [
      " 64%|█████████████████████████████████████████████████████████████████████████████████████████████████████████████████▎                                                               | 32.00990099009689/50 [09:55<05:27, 18.20s/it]"
     ]
    },
    {
     "name": "stdout",
     "output_type": "stream",
     "text": [
      "\n",
      "Test Epoch: 42\tAccuracy: 520/736 (69%)\n",
      "\n",
      "Train Epoch: 43 [0/2508 (0%)]\tLoss: 0.635841\n",
      "Mem before-during-after: 20851200 108797440 20855296\n"
     ]
    },
    {
     "name": "stderr",
     "output_type": "stream",
     "text": [
      " 65%|██████████████████████████████████████████████████████████████████████████████████████████████████████████████████                                                              | 32.415841584156404/50 [10:02<05:31, 18.84s/it]"
     ]
    },
    {
     "name": "stdout",
     "output_type": "stream",
     "text": [
      "Train Epoch: 43 [1280/2508 (51%)]\tLoss: 1.080383\n",
      "Mem before-during-after: 20855296 108797440 20855296\n"
     ]
    },
    {
     "name": "stderr",
     "output_type": "stream",
     "text": [
      " 66%|████████████████████████████████████████████████████████████████████████████████████████████████████████████████████▊                                                            | 33.00990099009716/50 [10:13<05:04, 17.95s/it]"
     ]
    },
    {
     "name": "stdout",
     "output_type": "stream",
     "text": [
      "\n",
      "Test Epoch: 43\tAccuracy: 522/736 (69%)\n",
      "\n",
      "Train Epoch: 44 [0/2508 (0%)]\tLoss: 0.695346\n",
      "Mem before-during-after: 20851200 108797440 20855296\n"
     ]
    },
    {
     "name": "stderr",
     "output_type": "stream",
     "text": [
      " 67%|█████████████████████████████████████████████████████████████████████████████████████████████████████████████████████▌                                                          | 33.415841584156674/50 [10:21<05:09, 18.65s/it]"
     ]
    },
    {
     "name": "stdout",
     "output_type": "stream",
     "text": [
      "Train Epoch: 44 [1280/2508 (51%)]\tLoss: 0.549478\n",
      "Mem before-during-after: 20855296 108797440 20855296\n"
     ]
    },
    {
     "name": "stderr",
     "output_type": "stream",
     "text": [
      " 68%|████████████████████████████████████████████████████████████████████████████████████████████████████████████████████████▍                                                        | 34.00990099009743/50 [10:31<04:52, 18.27s/it]"
     ]
    },
    {
     "name": "stdout",
     "output_type": "stream",
     "text": [
      "\n",
      "Test Epoch: 44\tAccuracy: 464/736 (61%)\n",
      "\n",
      "Train Epoch: 45 [0/2508 (0%)]\tLoss: 0.706734\n",
      "Mem before-during-after: 20851200 108797440 20855296\n"
     ]
    },
    {
     "name": "stderr",
     "output_type": "stream",
     "text": [
      " 69%|█████████████████████████████████████████████████████████████████████████████████████████████████████████████████████████▏                                                      | 34.415841584156944/50 [10:39<04:51, 18.69s/it]"
     ]
    },
    {
     "name": "stdout",
     "output_type": "stream",
     "text": [
      "Train Epoch: 45 [1280/2508 (51%)]\tLoss: 0.989222\n",
      "Mem before-during-after: 20855296 108797440 20855296\n"
     ]
    },
    {
     "name": "stderr",
     "output_type": "stream",
     "text": [
      " 70%|████████████████████████████████████████████████████████████████████████████████████████████████████████████████████████████▋                                                     | 35.0099009900977/50 [10:50<04:32, 18.16s/it]"
     ]
    },
    {
     "name": "stdout",
     "output_type": "stream",
     "text": [
      "\n",
      "Test Epoch: 45\tAccuracy: 500/736 (66%)\n",
      "\n",
      "Train Epoch: 46 [0/2508 (0%)]\tLoss: 0.791415\n",
      "Mem before-during-after: 20851200 108797440 20855296\n"
     ]
    },
    {
     "name": "stderr",
     "output_type": "stream",
     "text": [
      " 71%|████████████████████████████████████████████████████████████████████████████████████████████████████████████████████████████▋                                                   | 35.415841584157214/50 [10:58<04:28, 18.40s/it]"
     ]
    },
    {
     "name": "stdout",
     "output_type": "stream",
     "text": [
      "Train Epoch: 46 [1280/2508 (51%)]\tLoss: 1.023922\n",
      "Mem before-during-after: 20855296 108797440 20855296\n"
     ]
    },
    {
     "name": "stderr",
     "output_type": "stream",
     "text": [
      " 72%|███████████████████████████████████████████████████████████████████████████████████████████████████████████████████████████████▍                                                 | 36.00990099009797/50 [11:08<04:18, 18.48s/it]"
     ]
    },
    {
     "name": "stdout",
     "output_type": "stream",
     "text": [
      "\n",
      "Test Epoch: 46\tAccuracy: 383/736 (50%)\n",
      "\n",
      "Train Epoch: 47 [0/2508 (0%)]\tLoss: 0.908448\n",
      "Mem before-during-after: 20851200 108797440 20855296\n"
     ]
    },
    {
     "name": "stderr",
     "output_type": "stream",
     "text": [
      " 73%|████████████████████████████████████████████████████████████████████████████████████████████████████████████████████████████████▏                                               | 36.415841584157484/50 [11:16<04:10, 18.47s/it]"
     ]
    },
    {
     "name": "stdout",
     "output_type": "stream",
     "text": [
      "Train Epoch: 47 [1280/2508 (51%)]\tLoss: 0.711141\n",
      "Mem before-during-after: 20855296 108797440 20855296\n"
     ]
    },
    {
     "name": "stderr",
     "output_type": "stream",
     "text": [
      " 74%|███████████████████████████████████████████████████████████████████████████████████████████████████████████████████████████████████                                              | 37.00990099009824/50 [11:27<03:58, 18.35s/it]"
     ]
    },
    {
     "name": "stdout",
     "output_type": "stream",
     "text": [
      "\n",
      "Test Epoch: 47\tAccuracy: 530/736 (70%)\n",
      "\n",
      "Train Epoch: 48 [0/2508 (0%)]\tLoss: 0.490690\n",
      "Mem before-during-after: 20851200 108797440 20855296\n"
     ]
    },
    {
     "name": "stderr",
     "output_type": "stream",
     "text": [
      " 75%|███████████████████████████████████████████████████████████████████████████████████████████████████████████████████████████████████▋                                            | 37.415841584157754/50 [11:35<03:57, 18.90s/it]"
     ]
    },
    {
     "name": "stdout",
     "output_type": "stream",
     "text": [
      "Train Epoch: 48 [1280/2508 (51%)]\tLoss: 0.654215\n",
      "Mem before-during-after: 20855296 108797440 20855296\n"
     ]
    },
    {
     "name": "stderr",
     "output_type": "stream",
     "text": [
      " 76%|██████████████████████████████████████████████████████████████████████████████████████████████████████████████████████████████████████▌                                          | 38.00990099009851/50 [11:46<03:44, 18.71s/it]"
     ]
    },
    {
     "name": "stdout",
     "output_type": "stream",
     "text": [
      "\n",
      "Test Epoch: 48\tAccuracy: 532/736 (70%)\n",
      "\n",
      "Train Epoch: 49 [0/2508 (0%)]\tLoss: 0.693253\n",
      "Mem before-during-after: 20851200 108797440 20855296\n"
     ]
    },
    {
     "name": "stderr",
     "output_type": "stream",
     "text": [
      " 77%|███████████████████████████████████████████████████████████████████████████████████████████████████████████████████████████████████████▏                                        | 38.415841584158024/50 [11:54<03:39, 18.95s/it]"
     ]
    },
    {
     "name": "stdout",
     "output_type": "stream",
     "text": [
      "Train Epoch: 49 [1280/2508 (51%)]\tLoss: 0.817557\n",
      "Mem before-during-after: 20855296 108797440 20855296\n"
     ]
    },
    {
     "name": "stderr",
     "output_type": "stream",
     "text": [
      " 78%|██████████████████████████████████████████████████████████████████████████████████████████████████████████████████████████████████████████                                       | 39.00990099009878/50 [12:05<03:17, 17.94s/it]"
     ]
    },
    {
     "name": "stdout",
     "output_type": "stream",
     "text": [
      "\n",
      "Test Epoch: 49\tAccuracy: 519/736 (68%)\n",
      "\n",
      "Train Epoch: 50 [0/2508 (0%)]\tLoss: 0.870135\n",
      "Mem before-during-after: 20851200 108797440 20855296\n"
     ]
    },
    {
     "name": "stderr",
     "output_type": "stream",
     "text": [
      " 79%|██████████████████████████████████████████████████████████████████████████████████████████████████████████████████████████████████████████▋                                     | 39.415841584158294/50 [12:12<03:13, 18.32s/it]"
     ]
    },
    {
     "name": "stdout",
     "output_type": "stream",
     "text": [
      "Train Epoch: 50 [1280/2508 (51%)]\tLoss: 0.542196\n",
      "Mem before-during-after: 20855296 108797440 20855296\n"
     ]
    },
    {
     "name": "stderr",
     "output_type": "stream",
     "text": [
      " 80%|█████████████████████████████████████████████████████████████████████████████████████████████████████████████████████████████████████████████▋                                   | 40.00990099009905/50 [12:23<03:02, 18.22s/it]"
     ]
    },
    {
     "name": "stdout",
     "output_type": "stream",
     "text": [
      "\n",
      "Test Epoch: 50\tAccuracy: 487/736 (64%)\n",
      "\n",
      "Train Epoch: 51 [0/2508 (0%)]\tLoss: 0.713064\n",
      "Mem before-during-after: 20851200 108797440 20855296\n"
     ]
    },
    {
     "name": "stderr",
     "output_type": "stream",
     "text": [
      " 81%|██████████████████████████████████████████████████████████████████████████████████████████████████████████████████████████████████████████████▎                                 | 40.415841584158564/50 [12:31<02:57, 18.52s/it]"
     ]
    },
    {
     "name": "stdout",
     "output_type": "stream",
     "text": [
      "Train Epoch: 51 [1280/2508 (51%)]\tLoss: 0.981983\n",
      "Mem before-during-after: 20855296 108797440 20855296\n"
     ]
    },
    {
     "name": "stderr",
     "output_type": "stream",
     "text": [
      " 82%|█████████████████████████████████████████████████████████████████████████████████████████████████████████████████████████████████████████████████▏                               | 41.00990099009932/50 [12:42<02:42, 18.08s/it]"
     ]
    },
    {
     "name": "stdout",
     "output_type": "stream",
     "text": [
      "\n",
      "Test Epoch: 51\tAccuracy: 520/736 (69%)\n",
      "\n",
      "Train Epoch: 52 [0/2508 (0%)]\tLoss: 0.620505\n",
      "Mem before-during-after: 20851200 108797440 20855296\n"
     ]
    },
    {
     "name": "stderr",
     "output_type": "stream",
     "text": [
      " 83%|█████████████████████████████████████████████████████████████████████████████████████████████████████████████████████████████████████████████████▊                              | 41.415841584158834/50 [12:49<02:40, 18.67s/it]"
     ]
    },
    {
     "name": "stdout",
     "output_type": "stream",
     "text": [
      "Train Epoch: 52 [1280/2508 (51%)]\tLoss: 0.656505\n",
      "Mem before-during-after: 20855296 108797440 20855296\n"
     ]
    },
    {
     "name": "stderr",
     "output_type": "stream",
     "text": [
      " 84%|████████████████████████████████████████████████████████████████████████████████████████████████████████████████████████████████████████████████████▋                            | 42.00990099009959/50 [13:00<02:26, 18.32s/it]"
     ]
    },
    {
     "name": "stdout",
     "output_type": "stream",
     "text": [
      "\n",
      "Test Epoch: 52\tAccuracy: 538/736 (71%)\n",
      "\n",
      "saved model: ../models_cremad3/cremad_label3_m12new_best_52epoch.pt\n",
      "Train Epoch: 53 [0/2508 (0%)]\tLoss: 0.411114\n",
      "Mem before-during-after: 20851200 108797440 20855296\n"
     ]
    },
    {
     "name": "stderr",
     "output_type": "stream",
     "text": [
      " 85%|█████████████████████████████████████████████████████████████████████████████████████████████████████████████████████████████████████████████████████▎                          | 42.415841584159104/50 [13:08<02:35, 20.45s/it]"
     ]
    },
    {
     "name": "stdout",
     "output_type": "stream",
     "text": [
      "Train Epoch: 53 [1280/2508 (51%)]\tLoss: 0.566776\n",
      "Mem before-during-after: 20855296 108797440 20855296\n"
     ]
    },
    {
     "name": "stderr",
     "output_type": "stream",
     "text": [
      " 86%|████████████████████████████████████████████████████████████████████████████████████████████████████████████████████████████████████████████████████████▎                        | 43.00990099009986/50 [13:19<02:09, 18.52s/it]"
     ]
    },
    {
     "name": "stdout",
     "output_type": "stream",
     "text": [
      "\n",
      "Test Epoch: 53\tAccuracy: 506/736 (67%)\n",
      "\n",
      "Train Epoch: 54 [0/2508 (0%)]\tLoss: 0.903012\n",
      "Mem before-during-after: 20851200 108797440 20855296\n"
     ]
    },
    {
     "name": "stderr",
     "output_type": "stream",
     "text": [
      " 87%|████████████████████████████████████████████████████████████████████████████████████████████████████████████████████████████████████████████████████████▊                       | 43.415841584159374/50 [13:27<02:05, 19.06s/it]"
     ]
    },
    {
     "name": "stdout",
     "output_type": "stream",
     "text": [
      "Train Epoch: 54 [1280/2508 (51%)]\tLoss: 0.726770\n",
      "Mem before-during-after: 20855296 108797440 20855296\n"
     ]
    },
    {
     "name": "stderr",
     "output_type": "stream",
     "text": [
      " 88%|███████████████████████████████████████████████████████████████████████████████████████████████████████████████████████████████████████████████████████████▊                     | 44.00990099010013/50 [13:38<01:49, 18.29s/it]"
     ]
    },
    {
     "name": "stdout",
     "output_type": "stream",
     "text": [
      "\n",
      "Test Epoch: 54\tAccuracy: 512/736 (67%)\n",
      "\n",
      "Train Epoch: 55 [0/2508 (0%)]\tLoss: 0.594101\n",
      "Mem before-during-after: 20851200 108797440 20855296\n"
     ]
    },
    {
     "name": "stderr",
     "output_type": "stream",
     "text": [
      " 89%|████████████████████████████████████████████████████████████████████████████████████████████████████████████████████████████████████████████████████████████▎                   | 44.415841584159644/50 [13:46<01:46, 19.04s/it]"
     ]
    },
    {
     "name": "stdout",
     "output_type": "stream",
     "text": [
      "Train Epoch: 55 [1280/2508 (51%)]\tLoss: 0.916305\n",
      "Mem before-during-after: 20855296 108797440 20855296\n"
     ]
    },
    {
     "name": "stderr",
     "output_type": "stream",
     "text": [
      " 90%|████████████████████████████████████████████████████████████████████████████████████████████████████████████████████████████████████████████████████████████████▏                 | 45.0099009901004/50 [13:57<01:29, 18.03s/it]"
     ]
    },
    {
     "name": "stdout",
     "output_type": "stream",
     "text": [
      "\n",
      "Test Epoch: 55\tAccuracy: 532/736 (70%)\n",
      "\n",
      "Train Epoch: 56 [0/2508 (0%)]\tLoss: 0.908237\n",
      "Mem before-during-after: 20851200 108797440 20855296\n"
     ]
    },
    {
     "name": "stderr",
     "output_type": "stream",
     "text": [
      " 91%|███████████████████████████████████████████████████████████████████████████████████████████████████████████████████████████████████████████████████████████████▊                | 45.415841584159914/50 [14:04<01:24, 18.33s/it]"
     ]
    },
    {
     "name": "stdout",
     "output_type": "stream",
     "text": [
      "Train Epoch: 56 [1280/2508 (51%)]\tLoss: 0.830296\n",
      "Mem before-during-after: 20855296 108797440 20855296\n"
     ]
    },
    {
     "name": "stderr",
     "output_type": "stream",
     "text": [
      " 92%|██████████████████████████████████████████████████████████████████████████████████████████████████████████████████████████████████████████████████████████████████▉              | 46.00990099010067/50 [14:15<01:11, 17.99s/it]"
     ]
    },
    {
     "name": "stdout",
     "output_type": "stream",
     "text": [
      "\n",
      "Test Epoch: 56\tAccuracy: 527/736 (69%)\n",
      "\n",
      "Train Epoch: 57 [0/2508 (0%)]\tLoss: 0.748840\n",
      "Mem before-during-after: 20851200 108797440 20855296\n"
     ]
    },
    {
     "name": "stderr",
     "output_type": "stream",
     "text": [
      " 93%|███████████████████████████████████████████████████████████████████████████████████████████████████████████████████████████████████████████████████████████████████▍            | 46.415841584160184/50 [14:23<01:05, 18.35s/it]"
     ]
    },
    {
     "name": "stdout",
     "output_type": "stream",
     "text": [
      "Train Epoch: 57 [1280/2508 (51%)]\tLoss: 0.666896\n",
      "Mem before-during-after: 20855296 108797440 20855296\n"
     ]
    },
    {
     "name": "stderr",
     "output_type": "stream",
     "text": [
      " 94%|██████████████████████████████████████████████████████████████████████████████████████████████████████████████████████████████████████████████████████████████████████▍          | 47.00990099010094/50 [14:34<00:54, 18.30s/it]"
     ]
    },
    {
     "name": "stdout",
     "output_type": "stream",
     "text": [
      "\n",
      "Test Epoch: 57\tAccuracy: 532/736 (70%)\n",
      "\n",
      "Train Epoch: 58 [0/2508 (0%)]\tLoss: 0.835039\n",
      "Mem before-during-after: 20851200 108797440 20855296\n"
     ]
    },
    {
     "name": "stderr",
     "output_type": "stream",
     "text": [
      " 95%|██████████████████████████████████████████████████████████████████████████████████████████████████████████████████████████████████████████████████████████████████████▉         | 47.415841584160454/50 [14:41<00:48, 18.60s/it]"
     ]
    },
    {
     "name": "stdout",
     "output_type": "stream",
     "text": [
      "Train Epoch: 58 [1280/2508 (51%)]\tLoss: 0.700074\n",
      "Mem before-during-after: 20855296 108797440 20855296\n"
     ]
    },
    {
     "name": "stderr",
     "output_type": "stream",
     "text": [
      " 96%|█████████████████████████████████████████████████████████████████████████████████████████████████████████████████████████████████████████████████████████████████████████▉       | 48.00990099010121/50 [14:52<00:35, 18.00s/it]"
     ]
    },
    {
     "name": "stdout",
     "output_type": "stream",
     "text": [
      "\n",
      "Test Epoch: 58\tAccuracy: 533/736 (70%)\n",
      "\n",
      "Train Epoch: 59 [0/2508 (0%)]\tLoss: 0.589135\n",
      "Mem before-during-after: 20851200 108797440 20855296\n"
     ]
    },
    {
     "name": "stderr",
     "output_type": "stream",
     "text": [
      " 97%|██████████████████████████████████████████████████████████████████████████████████████████████████████████████████████████████████████████████████████████████████████████▍     | 48.415841584160724/50 [14:59<00:29, 18.47s/it]"
     ]
    },
    {
     "name": "stdout",
     "output_type": "stream",
     "text": [
      "Train Epoch: 59 [1280/2508 (51%)]\tLoss: 0.470031\n",
      "Mem before-during-after: 20855296 108797440 20855296\n"
     ]
    },
    {
     "name": "stderr",
     "output_type": "stream",
     "text": [
      " 98%|█████████████████████████████████████████████████████████████████████████████████████████████████████████████████████████████████████████████████████████████████████████████▍   | 49.00990099010148/50 [15:11<00:18, 18.58s/it]"
     ]
    },
    {
     "name": "stdout",
     "output_type": "stream",
     "text": [
      "\n",
      "Test Epoch: 59\tAccuracy: 515/736 (68%)\n",
      "\n",
      "Train Epoch: 60 [0/2508 (0%)]\tLoss: 0.713073\n",
      "Mem before-during-after: 20851200 108797440 20855296\n"
     ]
    },
    {
     "name": "stderr",
     "output_type": "stream",
     "text": [
      " 99%|██████████████████████████████████████████████████████████████████████████████████████████████████████████████████████████████████████████████████████████████████████████████▉  | 49.40594059406198/50 [15:18<00:11, 19.22s/it]"
     ]
    },
    {
     "name": "stdout",
     "output_type": "stream",
     "text": [
      "Train Epoch: 60 [1280/2508 (51%)]\tLoss: 0.702387\n",
      "Mem before-during-after: 20855296 108797440 20855296\n"
     ]
    },
    {
     "name": "stderr",
     "output_type": "stream",
     "text": [
      "100%|████████████████████████████████████████████████████████████████████████████████████████████████████████████████████████████████████████████████████████████████████████████████▉| 49.99009900990372/50 [15:29<00:00, 19.77s/it]/opt/anaconda3/envs/audio/lib/python3.9/site-packages/tqdm/std.py:639: TqdmWarning: clamping frac to range [0, 1]\n",
      "  full_bar = Bar(frac,\n",
      "100%|████████████████████████████████████████████████████████████████████████████████████████████████████████████████████████████████████████████████████████████████████████████████| 50.000000000002736/50 [15:29<00:00, 18.60s/it]"
     ]
    },
    {
     "name": "stdout",
     "output_type": "stream",
     "text": [
      "\n",
      "Test Epoch: 60\tAccuracy: 460/736 (61%)\n",
      "\n"
     ]
    },
    {
     "name": "stderr",
     "output_type": "stream",
     "text": [
      "\n"
     ]
    }
   ],
   "source": [
    "n_epoch = 10\n",
    "n_epoch2 = 50\n",
    "# train_losses = []\n",
    "# test_accuracy = []\n",
    "best_accuracy = min(test_accuracy)\n",
    "model_path_prefix = '../models_cremad3/cremad_label3_m12new_best_'\n",
    "\n",
    "optimizer = optim.RAdam(model.parameters(), lr=0.00005)\n",
    "scheduler = optim.lr_scheduler.OneCycleLR(\n",
    "    optimizer, max_lr=0.01,\n",
    "    steps_per_epoch=len(train_loader), epochs=n_epoch2)\n",
    "log_interval = 40\n",
    "pbar_update = 1 / (len(train_loader) + len(test_loader))\n",
    "# model.to(device)\n",
    "with tqdm(total=n_epoch2) as pbar:\n",
    "    for epoch in range(1+n_epoch, n_epoch2 + n_epoch + 1):\n",
    "        train(model, epoch, log_interval, train_losses)\n",
    "        acc = test(model, epoch)\n",
    "        test_accuracy += [acc]\n",
    "        if acc > best_accuracy:\n",
    "            best_accuracy = acc\n",
    "            bmodel_path = f'{model_path_prefix}{epoch}epoch.pt'\n",
    "            torch.save(model.state_dict(), bmodel_path)\n",
    "            print(f'saved model: {bmodel_path}')\n",
    "        scheduler.step()"
   ]
  },
  {
   "cell_type": "code",
   "execution_count": 36,
   "id": "871b2bbc-7132-4772-88d5-bb2205b0069e",
   "metadata": {},
   "outputs": [
    {
     "data": {
      "text/plain": [
       "[<matplotlib.lines.Line2D at 0x7fb798edba60>]"
      ]
     },
     "execution_count": 36,
     "metadata": {},
     "output_type": "execute_result"
    },
    {
     "data": {
      "image/png": "[encoded data removed]",
      "text/plain": [
       "<Figure size 640x480 with 1 Axes>"
      ]
     },
     "metadata": {},
     "output_type": "display_data"
    }
   ],
   "source": [
    "plt.plot(train_losses)"
   ]
  },
  {
   "cell_type": "code",
   "execution_count": 37,
   "id": "b84769c6-123a-4e64-a5bc-9965db404d8b",
   "metadata": {},
   "outputs": [
    {
     "data": {
      "text/plain": [
       "[<matplotlib.lines.Line2D at 0x7fb798eadf70>]"
      ]
     },
     "execution_count": 37,
     "metadata": {},
     "output_type": "execute_result"
    },
    {
     "data": {
      "image/png": "[encoded data removed]",
      "text/plain": [
       "<Figure size 640x480 with 1 Axes>"
      ]
     },
     "metadata": {},
     "output_type": "display_data"
    }
   ],
   "source": [
    "plt.plot(test_accuracy)"
   ]
  },
  {
   "cell_type": "code",
   "execution_count": 38,
   "id": "e9f58008-d41d-4864-922b-a4710f612616",
   "metadata": {},
   "outputs": [
    {
     "name": "stdout",
     "output_type": "stream",
     "text": [
      "Correct: 461/736 (0.6264)\n",
      "{'acc_detail': tensor([0.6500, 0.2318, 0.9414], device='cuda:0'),\n",
      " 'acc_unweighted': tensor(0.6077, device='cuda:0'),\n",
      " 'acc_weighted': tensor(0.6264, device='cuda:0'),\n",
      " 'f1s': tensor(0.5897, device='cuda:0'),\n",
      " 'f1s_detail': tensor([0.7735, 0.2890, 0.7067], device='cuda:0'),\n",
      " 'precision_detail': tensor([0.9548, 0.3835, 0.5657], device='cuda:0'),\n",
      " 'recall_detail': tensor([0.6500, 0.2318, 0.9414], device='cuda:0'),\n",
      " 'rocauc': tensor([0.9618, 0.7266, 0.9080], device='cuda:0'),\n",
      " 'uar': tensor(0.6077, device='cuda:0'),\n",
      " 'wap': tensor(0.6487, device='cuda:0')}\n"
     ]
    },
    {
     "data": {
      "text/plain": [
       "tensor([[169,  69,  22],\n",
       "        [  6,  51, 163],\n",
       "        [  2,  13, 241]], device='cuda:0')"
      ]
     },
     "execution_count": 38,
     "metadata": {},
     "output_type": "execute_result"
    }
   ],
   "source": [
    "metrics2, confusion_matrix2 = report_metrics(\n",
    "    model, labels=labels, device=device)\n",
    "pprint(metrics2.compute())\n",
    "confusion_matrix2.compute()"
   ]
  },
  {
   "cell_type": "code",
   "execution_count": 39,
   "id": "b89bbf73-8820-41f8-b1f9-7e289a2e0108",
   "metadata": {},
   "outputs": [
    {
     "data": {
      "text/plain": [
       "M12(\n",
       "  (fe_blocks): FeBlocks(\n",
       "    (blocks): ModuleList(\n",
       "      (0-1): 2 x FrontEndBlock(\n",
       "        (block): ModuleDict(\n",
       "          (layer): FirConvLayer(\n",
       "            (conv_layer): ResidualConv1d(\n",
       "              (pad_layer): PadForConv()\n",
       "              (stride_layer): DownsampleLayer(\n",
       "                (pad_right): PadForConv()\n",
       "              )\n",
       "              (norm_layer): CustomNormLayer(\n",
       "                (layer): LocalResponseNorm(2, alpha=0.0001, beta=0.75, k=1.0)\n",
       "              )\n",
       "              (act): NLReLU()\n",
       "            )\n",
       "          )\n",
       "          (downsample): ResidualConv1d(\n",
       "            (pad_layer): PadForConv()\n",
       "            (stride_layer): DownsampleLayer(\n",
       "              (pad_right): PadForConv()\n",
       "            )\n",
       "            (norm_layer): CustomNormLayer(\n",
       "              (layer): LocalResponseNorm(2, alpha=0.0001, beta=0.75, k=1.0)\n",
       "            )\n",
       "            (act): NLReLU()\n",
       "          )\n",
       "        )\n",
       "      )\n",
       "    )\n",
       "  )\n",
       "  (seq_blocks): Seq2OneBlocks(\n",
       "    (blocks): LSTM(97, 48, batch_first=True)\n",
       "  )\n",
       "  (cls_head): Classifier(\n",
       "    (blocks): ModuleList(\n",
       "      (0): Sequential(\n",
       "        (norm): LayerNorm((48,), eps=1e-05, elementwise_affine=True)\n",
       "        (layer): Linear(in_features=48, out_features=256, bias=True)\n",
       "      )\n",
       "      (1): Sequential(\n",
       "        (norm): LayerNorm((256,), eps=1e-05, elementwise_affine=True)\n",
       "        (layer): Linear(in_features=256, out_features=256, bias=True)\n",
       "      )\n",
       "    )\n",
       "    (act): LeakyReLU(negative_slope=0.01)\n",
       "    (output_layer): Linear(in_features=256, out_features=3, bias=True)\n",
       "  )\n",
       ")"
      ]
     },
     "execution_count": 39,
     "metadata": {},
     "output_type": "execute_result"
    }
   ],
   "source": [
    "model.to(\"cpu\")"
   ]
  },
  {
   "cell_type": "code",
   "execution_count": 40,
   "id": "c7dadd2a-3a63-4be7-bccf-c59df145b2f0",
   "metadata": {},
   "outputs": [
    {
     "name": "stdout",
     "output_type": "stream",
     "text": [
      "Correct: 538/736 (0.7310)\n",
      "{'acc_detail': tensor([0.8417, 0.5324, 0.7854], device='cuda:0'),\n",
      " 'acc_unweighted': tensor(0.7198, device='cuda:0'),\n",
      " 'acc_weighted': tensor(0.7310, device='cuda:0'),\n",
      " 'f1s': tensor(0.7187, device='cuda:0'),\n",
      " 'f1s_detail': tensor([0.8385, 0.5542, 0.7635], device='cuda:0'),\n",
      " 'precision_detail': tensor([0.8352, 0.5779, 0.7428], device='cuda:0'),\n",
      " 'recall_detail': tensor([0.8417, 0.5324, 0.7854], device='cuda:0'),\n",
      " 'rocauc': tensor([0.9578, 0.8043, 0.9028], device='cuda:0'),\n",
      " 'uar': tensor(0.7198, device='cuda:0'),\n",
      " 'wap': tensor(0.7269, device='cuda:0')}\n"
     ]
    },
    {
     "data": {
      "text/plain": [
       "tensor([[218,  39,   2],\n",
       "        [ 32, 115,  69],\n",
       "        [ 11,  45, 205]], device='cuda:0')"
      ]
     },
     "execution_count": 40,
     "metadata": {},
     "output_type": "execute_result"
    }
   ],
   "source": [
    "best_epoch = 52\n",
    "best_model_path = f'{model_path_prefix}{best_epoch}epoch.pt'\n",
    "best_model = M12(config=model_config,\n",
    "           n_input=1, n_output=len(labels))\n",
    "best_model.load_state_dict(torch.load(best_model_path))\n",
    "best_model.to(device)\n",
    "\n",
    "metrics_best, confusion_matrix_best = report_metrics(\n",
    "    best_model, labels=labels, device=device)\n",
    "pprint(metrics_best.compute())\n",
    "confusion_matrix_best.compute()"
   ]
  },
  {
   "cell_type": "code",
   "execution_count": 41,
   "id": "3f7e88df-636e-4824-94bd-3937fa4cb6f6",
   "metadata": {},
   "outputs": [
    {
     "data": {
      "text/plain": [
       "M12(\n",
       "  (fe_blocks): FeBlocks(\n",
       "    (blocks): ModuleList(\n",
       "      (0-1): 2 x FrontEndBlock(\n",
       "        (block): ModuleDict(\n",
       "          (layer): FirConvLayer(\n",
       "            (conv_layer): ResidualConv1d(\n",
       "              (pad_layer): PadForConv()\n",
       "              (stride_layer): DownsampleLayer(\n",
       "                (pad_right): PadForConv()\n",
       "              )\n",
       "              (norm_layer): CustomNormLayer(\n",
       "                (layer): LocalResponseNorm(2, alpha=0.0001, beta=0.75, k=1.0)\n",
       "              )\n",
       "              (act): NLReLU()\n",
       "            )\n",
       "          )\n",
       "          (downsample): ResidualConv1d(\n",
       "            (pad_layer): PadForConv()\n",
       "            (stride_layer): DownsampleLayer(\n",
       "              (pad_right): PadForConv()\n",
       "            )\n",
       "            (norm_layer): CustomNormLayer(\n",
       "              (layer): LocalResponseNorm(2, alpha=0.0001, beta=0.75, k=1.0)\n",
       "            )\n",
       "            (act): NLReLU()\n",
       "          )\n",
       "        )\n",
       "      )\n",
       "    )\n",
       "  )\n",
       "  (seq_blocks): Seq2OneBlocks(\n",
       "    (blocks): LSTM(97, 48, batch_first=True)\n",
       "  )\n",
       "  (cls_head): Classifier(\n",
       "    (blocks): ModuleList(\n",
       "      (0): Sequential(\n",
       "        (norm): LayerNorm((48,), eps=1e-05, elementwise_affine=True)\n",
       "        (layer): Linear(in_features=48, out_features=256, bias=True)\n",
       "      )\n",
       "      (1): Sequential(\n",
       "        (norm): LayerNorm((256,), eps=1e-05, elementwise_affine=True)\n",
       "        (layer): Linear(in_features=256, out_features=256, bias=True)\n",
       "      )\n",
       "    )\n",
       "    (act): LeakyReLU(negative_slope=0.01)\n",
       "    (output_layer): Linear(in_features=256, out_features=3, bias=True)\n",
       "  )\n",
       ")"
      ]
     },
     "execution_count": 41,
     "metadata": {},
     "output_type": "execute_result"
    }
   ],
   "source": [
    "best_model.to('cpu')"
   ]
  },
  {
   "cell_type": "code",
   "execution_count": 42,
   "id": "e7c216b1-0d50-4ee6-a68f-ef8218ffb428",
   "metadata": {
    "scrolled": true
   },
   "outputs": [
    {
     "name": "stderr",
     "output_type": "stream",
     "text": [
      "  0%|                                                                                                                                                                              | 0.019801980198019802/40 [00:00<12:54, 19.36s/it]"
     ]
    },
    {
     "name": "stdout",
     "output_type": "stream",
     "text": [
      "Train Epoch: 61 [0/2508 (0%)]\tLoss: 0.716139\n",
      "Mem before-during-after: 22078464 110024704 23134720\n"
     ]
    },
    {
     "name": "stderr",
     "output_type": "stream",
     "text": [
      "  1%|█▊                                                                                                                                                                             | 0.41584158415841604/40 [00:07<12:32, 19.00s/it]"
     ]
    },
    {
     "name": "stdout",
     "output_type": "stream",
     "text": [
      "Train Epoch: 61 [1280/2508 (51%)]\tLoss: 0.762267\n",
      "Mem before-during-after: 23134720 111076864 23134720\n"
     ]
    },
    {
     "name": "stderr",
     "output_type": "stream",
     "text": [
      "  3%|████▍                                                                                                                                                                           | 1.0099009900990106/40 [00:18<12:01, 18.51s/it]"
     ]
    },
    {
     "name": "stdout",
     "output_type": "stream",
     "text": [
      "\n",
      "Test Epoch: 61\tAccuracy: 540/736 (71%)\n",
      "\n",
      "saved model: ../models_cremad3/cremad_label3_m12new_best_61epoch.pt\n",
      "Train Epoch: 62 [0/2508 (0%)]\tLoss: 0.649303\n",
      "Mem before-during-after: 23130624 111076864 23134720\n"
     ]
    },
    {
     "name": "stderr",
     "output_type": "stream",
     "text": [
      "  4%|██████▏                                                                                                                                                                         | 1.4158415841584169/40 [00:26<12:04, 18.79s/it]"
     ]
    },
    {
     "name": "stdout",
     "output_type": "stream",
     "text": [
      "Train Epoch: 62 [1280/2508 (51%)]\tLoss: 0.587402\n",
      "Mem before-during-after: 23134720 111076864 23134720\n"
     ]
    },
    {
     "name": "stderr",
     "output_type": "stream",
     "text": [
      "  5%|████████▊                                                                                                                                                                       | 2.0099009900990112/40 [00:37<11:52, 18.76s/it]"
     ]
    },
    {
     "name": "stdout",
     "output_type": "stream",
     "text": [
      "\n",
      "Test Epoch: 62\tAccuracy: 531/736 (70%)\n",
      "\n",
      "Train Epoch: 63 [0/2508 (0%)]\tLoss: 0.517664\n",
      "Mem before-during-after: 23130624 111076864 23134720\n"
     ]
    },
    {
     "name": "stderr",
     "output_type": "stream",
     "text": [
      "  6%|██████████▋                                                                                                                                                                     | 2.4158415841584175/40 [00:45<11:45, 18.76s/it]"
     ]
    },
    {
     "name": "stdout",
     "output_type": "stream",
     "text": [
      "Train Epoch: 63 [1280/2508 (51%)]\tLoss: 0.478880\n",
      "Mem before-during-after: 23134720 111076864 23134720\n"
     ]
    },
    {
     "name": "stderr",
     "output_type": "stream",
     "text": [
      "  8%|█████████████▎                                                                                                                                                                   | 3.009900990099012/40 [00:56<11:28, 18.61s/it]"
     ]
    },
    {
     "name": "stdout",
     "output_type": "stream",
     "text": [
      "\n",
      "Test Epoch: 63\tAccuracy: 547/736 (72%)\n",
      "\n",
      "saved model: ../models_cremad3/cremad_label3_m12new_best_63epoch.pt\n",
      "Train Epoch: 64 [0/2508 (0%)]\tLoss: 1.138748\n",
      "Mem before-during-after: 23130624 111076864 23134720\n"
     ]
    },
    {
     "name": "stderr",
     "output_type": "stream",
     "text": [
      "  9%|███████████████                                                                                                                                                                 | 3.4158415841584184/40 [01:04<11:31, 18.90s/it]"
     ]
    },
    {
     "name": "stdout",
     "output_type": "stream",
     "text": [
      "Train Epoch: 64 [1280/2508 (51%)]\tLoss: 0.690801\n",
      "Mem before-during-after: 23134720 111076864 23134720\n"
     ]
    },
    {
     "name": "stderr",
     "output_type": "stream",
     "text": [
      " 10%|█████████████████▋                                                                                                                                                               | 4.009900990099013/40 [01:15<11:23, 18.98s/it]"
     ]
    },
    {
     "name": "stdout",
     "output_type": "stream",
     "text": [
      "\n",
      "Test Epoch: 64\tAccuracy: 543/736 (72%)\n",
      "\n",
      "Train Epoch: 65 [0/2508 (0%)]\tLoss: 0.543197\n",
      "Mem before-during-after: 23130624 111076864 23134720\n"
     ]
    },
    {
     "name": "stderr",
     "output_type": "stream",
     "text": [
      " 11%|███████████████████▌                                                                                                                                                             | 4.415841584158419/40 [01:23<11:22, 19.18s/it]"
     ]
    },
    {
     "name": "stdout",
     "output_type": "stream",
     "text": [
      "Train Epoch: 65 [1280/2508 (51%)]\tLoss: 0.567969\n",
      "Mem before-during-after: 23134720 111076864 23134720\n"
     ]
    },
    {
     "name": "stderr",
     "output_type": "stream",
     "text": [
      " 13%|██████████████████████                                                                                                                                                          | 5.0099009900990135/40 [01:34<10:56, 18.76s/it]"
     ]
    },
    {
     "name": "stdout",
     "output_type": "stream",
     "text": [
      "\n",
      "Test Epoch: 65\tAccuracy: 541/736 (71%)\n",
      "\n",
      "Train Epoch: 66 [0/2508 (0%)]\tLoss: 0.481901\n",
      "Mem before-during-after: 23130624 111076864 23134720\n"
     ]
    },
    {
     "name": "stderr",
     "output_type": "stream",
     "text": [
      " 14%|████████████████████████                                                                                                                                                          | 5.41584158415842/40 [01:42<10:56, 18.98s/it]"
     ]
    },
    {
     "name": "stdout",
     "output_type": "stream",
     "text": [
      "Train Epoch: 66 [1280/2508 (51%)]\tLoss: 0.486773\n",
      "Mem before-during-after: 23134720 111076864 23134720\n"
     ]
    },
    {
     "name": "stderr",
     "output_type": "stream",
     "text": [
      " 15%|██████████████████████████▌                                                                                                                                                      | 6.009900990099014/40 [01:53<10:22, 18.31s/it]"
     ]
    },
    {
     "name": "stdout",
     "output_type": "stream",
     "text": [
      "\n",
      "Test Epoch: 66\tAccuracy: 525/736 (69%)\n",
      "\n",
      "Train Epoch: 67 [0/2508 (0%)]\tLoss: 0.686670\n",
      "Mem before-during-after: 23130624 111076864 23134720\n"
     ]
    },
    {
     "name": "stderr",
     "output_type": "stream",
     "text": [
      " 16%|████████████████████████████▍                                                                                                                                                    | 6.415841584158421/40 [02:00<10:25, 18.64s/it]"
     ]
    },
    {
     "name": "stdout",
     "output_type": "stream",
     "text": [
      "Train Epoch: 67 [1280/2508 (51%)]\tLoss: 0.658368\n",
      "Mem before-during-after: 23134720 111076864 23134720\n"
     ]
    },
    {
     "name": "stderr",
     "output_type": "stream",
     "text": [
      " 18%|███████████████████████████████                                                                                                                                                  | 7.009900990099015/40 [02:12<10:16, 18.70s/it]"
     ]
    },
    {
     "name": "stdout",
     "output_type": "stream",
     "text": [
      "\n",
      "Test Epoch: 67\tAccuracy: 537/736 (71%)\n",
      "\n",
      "Train Epoch: 68 [0/2508 (0%)]\tLoss: 0.638185\n",
      "Mem before-during-after: 23130624 111076864 23134720\n"
     ]
    },
    {
     "name": "stderr",
     "output_type": "stream",
     "text": [
      " 19%|████████████████████████████████▋                                                                                                                                               | 7.4158415841584215/40 [02:19<10:18, 18.97s/it]"
     ]
    },
    {
     "name": "stdout",
     "output_type": "stream",
     "text": [
      "Train Epoch: 68 [1280/2508 (51%)]\tLoss: 0.665604\n",
      "Mem before-during-after: 23134720 111076864 23134720\n"
     ]
    },
    {
     "name": "stderr",
     "output_type": "stream",
     "text": [
      " 20%|███████████████████████████████████▍                                                                                                                                             | 8.009900990099014/40 [02:30<09:44, 18.26s/it]"
     ]
    },
    {
     "name": "stdout",
     "output_type": "stream",
     "text": [
      "\n",
      "Test Epoch: 68\tAccuracy: 541/736 (71%)\n",
      "\n",
      "Train Epoch: 69 [0/2508 (0%)]\tLoss: 0.638031\n",
      "Mem before-during-after: 23130624 111076864 23134720\n"
     ]
    },
    {
     "name": "stderr",
     "output_type": "stream",
     "text": [
      " 21%|█████████████████████████████████████▏                                                                                                                                           | 8.415841584158384/40 [02:38<09:46, 18.58s/it]"
     ]
    },
    {
     "name": "stdout",
     "output_type": "stream",
     "text": [
      "Train Epoch: 69 [1280/2508 (51%)]\tLoss: 0.628147\n",
      "Mem before-during-after: 23134720 111076864 23134720\n"
     ]
    },
    {
     "name": "stderr",
     "output_type": "stream",
     "text": [
      " 23%|███████████████████████████████████████▊                                                                                                                                         | 9.009900990098926/40 [02:49<09:29, 18.39s/it]"
     ]
    },
    {
     "name": "stdout",
     "output_type": "stream",
     "text": [
      "\n",
      "Test Epoch: 69\tAccuracy: 532/736 (70%)\n",
      "\n",
      "Train Epoch: 70 [0/2508 (0%)]\tLoss: 0.680129\n",
      "Mem before-during-after: 23130624 111076864 23134720\n"
     ]
    },
    {
     "name": "stderr",
     "output_type": "stream",
     "text": [
      " 24%|█████████████████████████████████████████▋                                                                                                                                       | 9.415841584158295/40 [02:57<10:22, 20.36s/it]"
     ]
    },
    {
     "name": "stdout",
     "output_type": "stream",
     "text": [
      "Train Epoch: 70 [1280/2508 (51%)]\tLoss: 0.834217\n",
      "Mem before-during-after: 23134720 111076864 23134720\n"
     ]
    },
    {
     "name": "stderr",
     "output_type": "stream",
     "text": [
      " 25%|████████████████████████████████████████████                                                                                                                                    | 10.009900990098837/40 [03:08<09:11, 18.40s/it]"
     ]
    },
    {
     "name": "stdout",
     "output_type": "stream",
     "text": [
      "\n",
      "Test Epoch: 70\tAccuracy: 549/736 (72%)\n",
      "\n",
      "saved model: ../models_cremad3/cremad_label3_m12new_best_70epoch.pt\n",
      "Train Epoch: 71 [0/2508 (0%)]\tLoss: 0.624322\n",
      "Mem before-during-after: 23130624 111076864 23134720\n"
     ]
    },
    {
     "name": "stderr",
     "output_type": "stream",
     "text": [
      " 26%|█████████████████████████████████████████████▊                                                                                                                                  | 10.415841584158207/40 [03:16<09:30, 19.27s/it]"
     ]
    },
    {
     "name": "stdout",
     "output_type": "stream",
     "text": [
      "Train Epoch: 71 [1280/2508 (51%)]\tLoss: 0.719387\n",
      "Mem before-during-after: 23134720 111076864 23134720\n"
     ]
    },
    {
     "name": "stderr",
     "output_type": "stream",
     "text": [
      " 27%|████████████████████████████████████████████████▍                                                                                                                               | 10.999999999999739/40 [03:27<08:48, 18.21s/it]"
     ]
    },
    {
     "name": "stdout",
     "output_type": "stream",
     "text": [
      "\n",
      "Test Epoch: 71\tAccuracy: 543/736 (72%)\n",
      "\n"
     ]
    },
    {
     "name": "stderr",
     "output_type": "stream",
     "text": [
      " 28%|████████████████████████████████████████████████▍                                                                                                                               | 11.019801980197757/40 [03:28<09:12, 19.06s/it]"
     ]
    },
    {
     "name": "stdout",
     "output_type": "stream",
     "text": [
      "Train Epoch: 72 [0/2508 (0%)]\tLoss: 0.865911\n",
      "Mem before-during-after: 23130624 111076864 23134720\n"
     ]
    },
    {
     "name": "stderr",
     "output_type": "stream",
     "text": [
      " 29%|██████████████████████████████████████████████████▏                                                                                                                             | 11.415841584158118/40 [03:35<09:18, 19.55s/it]"
     ]
    },
    {
     "name": "stdout",
     "output_type": "stream",
     "text": [
      "Train Epoch: 72 [1280/2508 (51%)]\tLoss: 0.705216\n",
      "Mem before-during-after: 23134720 111076864 23134720\n"
     ]
    },
    {
     "name": "stderr",
     "output_type": "stream",
     "text": [
      " 30%|████████████████████████████████████████████████████▊                                                                                                                           | 12.009900990098659/40 [03:47<08:49, 18.92s/it]"
     ]
    },
    {
     "name": "stdout",
     "output_type": "stream",
     "text": [
      "\n",
      "Test Epoch: 72\tAccuracy: 554/736 (73%)\n",
      "\n",
      "saved model: ../models_cremad3/cremad_label3_m12new_best_72epoch.pt\n",
      "Train Epoch: 73 [0/2508 (0%)]\tLoss: 0.469865\n",
      "Mem before-during-after: 23130624 111076864 23134720\n"
     ]
    },
    {
     "name": "stderr",
     "output_type": "stream",
     "text": [
      " 31%|██████████████████████████████████████████████████████▋                                                                                                                         | 12.415841584158029/40 [03:55<08:43, 19.00s/it]"
     ]
    },
    {
     "name": "stdout",
     "output_type": "stream",
     "text": [
      "Train Epoch: 73 [1280/2508 (51%)]\tLoss: 0.711585\n",
      "Mem before-during-after: 23134720 111076864 23134720\n"
     ]
    },
    {
     "name": "stderr",
     "output_type": "stream",
     "text": [
      " 33%|█████████████████████████████████████████████████████████▌                                                                                                                       | 13.00990099009857/40 [04:06<08:16, 18.40s/it]"
     ]
    },
    {
     "name": "stdout",
     "output_type": "stream",
     "text": [
      "\n",
      "Test Epoch: 73\tAccuracy: 548/736 (72%)\n",
      "\n",
      "Train Epoch: 74 [0/2508 (0%)]\tLoss: 0.831413\n",
      "Mem before-during-after: 23130624 111076864 23134720\n"
     ]
    },
    {
     "name": "stderr",
     "output_type": "stream",
     "text": [
      " 34%|███████████████████████████████████████████████████████████▎                                                                                                                     | 13.41584158415794/40 [04:13<08:16, 18.69s/it]"
     ]
    },
    {
     "name": "stdout",
     "output_type": "stream",
     "text": [
      "Train Epoch: 74 [1280/2508 (51%)]\tLoss: 0.632441\n",
      "Mem before-during-after: 23134720 111076864 23134720\n"
     ]
    },
    {
     "name": "stderr",
     "output_type": "stream",
     "text": [
      " 35%|█████████████████████████████████████████████████████████████▋                                                                                                                  | 14.009900990098481/40 [04:24<08:02, 18.57s/it]"
     ]
    },
    {
     "name": "stdout",
     "output_type": "stream",
     "text": [
      "\n",
      "Test Epoch: 74\tAccuracy: 540/736 (71%)\n",
      "\n",
      "Train Epoch: 75 [0/2508 (0%)]\tLoss: 0.845903\n",
      "Mem before-during-after: 23130624 111076864 23134720\n"
     ]
    },
    {
     "name": "stderr",
     "output_type": "stream",
     "text": [
      " 36%|███████████████████████████████████████████████████████████████▍                                                                                                                | 14.415841584157851/40 [04:32<08:41, 20.38s/it]"
     ]
    },
    {
     "name": "stdout",
     "output_type": "stream",
     "text": [
      "Train Epoch: 75 [1280/2508 (51%)]\tLoss: 0.511249\n",
      "Mem before-during-after: 23134720 111076864 23134720\n"
     ]
    },
    {
     "name": "stderr",
     "output_type": "stream",
     "text": [
      " 38%|██████████████████████████████████████████████████████████████████                                                                                                              | 15.009900990098393/40 [04:43<07:45, 18.61s/it]"
     ]
    },
    {
     "name": "stdout",
     "output_type": "stream",
     "text": [
      "\n",
      "Test Epoch: 75\tAccuracy: 557/736 (73%)\n",
      "\n",
      "saved model: ../models_cremad3/cremad_label3_m12new_best_75epoch.pt\n",
      "Train Epoch: 76 [0/2508 (0%)]\tLoss: 0.542143\n",
      "Mem before-during-after: 23130624 111076864 23134720\n"
     ]
    },
    {
     "name": "stderr",
     "output_type": "stream",
     "text": [
      " 39%|███████████████████████████████████████████████████████████████████▊                                                                                                            | 15.415841584157763/40 [04:51<07:45, 18.94s/it]"
     ]
    },
    {
     "name": "stdout",
     "output_type": "stream",
     "text": [
      "Train Epoch: 76 [1280/2508 (51%)]\tLoss: 0.651880\n",
      "Mem before-during-after: 23134720 111076864 23134720\n"
     ]
    },
    {
     "name": "stderr",
     "output_type": "stream",
     "text": [
      " 40%|██████████████████████████████████████████████████████████████████████▍                                                                                                         | 16.009900990098306/40 [05:02<07:28, 18.71s/it]"
     ]
    },
    {
     "name": "stdout",
     "output_type": "stream",
     "text": [
      "\n",
      "Test Epoch: 76\tAccuracy: 556/736 (73%)\n",
      "\n",
      "Train Epoch: 77 [0/2508 (0%)]\tLoss: 0.614529\n",
      "Mem before-during-after: 23130624 111076864 23134720\n"
     ]
    },
    {
     "name": "stderr",
     "output_type": "stream",
     "text": [
      " 41%|████████████████████████████████████████████████████████████████████████▏                                                                                                       | 16.415841584157675/40 [05:10<07:31, 19.13s/it]"
     ]
    },
    {
     "name": "stdout",
     "output_type": "stream",
     "text": [
      "Train Epoch: 77 [1280/2508 (51%)]\tLoss: 0.837084\n",
      "Mem before-during-after: 23134720 111076864 23134720\n"
     ]
    },
    {
     "name": "stderr",
     "output_type": "stream",
     "text": [
      " 43%|██████████████████████████████████████████████████████████████████████████▊                                                                                                     | 17.009900990098217/40 [05:21<07:05, 18.51s/it]"
     ]
    },
    {
     "name": "stdout",
     "output_type": "stream",
     "text": [
      "\n",
      "Test Epoch: 77\tAccuracy: 544/736 (72%)\n",
      "\n",
      "Train Epoch: 78 [0/2508 (0%)]\tLoss: 0.722958\n",
      "Mem before-during-after: 23130624 111076864 23134720\n"
     ]
    },
    {
     "name": "stderr",
     "output_type": "stream",
     "text": [
      " 44%|████████████████████████████████████████████████████████████████████████████▋                                                                                                   | 17.415841584157587/40 [05:29<07:03, 18.75s/it]"
     ]
    },
    {
     "name": "stdout",
     "output_type": "stream",
     "text": [
      "Train Epoch: 78 [1280/2508 (51%)]\tLoss: 0.806699\n",
      "Mem before-during-after: 23134720 111076864 23134720\n"
     ]
    },
    {
     "name": "stderr",
     "output_type": "stream",
     "text": [
      " 45%|███████████████████████████████████████████████████████████████████████████████▏                                                                                                | 18.009900990098128/40 [05:40<06:47, 18.54s/it]"
     ]
    },
    {
     "name": "stdout",
     "output_type": "stream",
     "text": [
      "\n",
      "Test Epoch: 78\tAccuracy: 546/736 (72%)\n",
      "\n",
      "Train Epoch: 79 [0/2508 (0%)]\tLoss: 0.739316\n",
      "Mem before-during-after: 23130624 111076864 23134720\n"
     ]
    },
    {
     "name": "stderr",
     "output_type": "stream",
     "text": [
      " 46%|█████████████████████████████████████████████████████████████████████████████████                                                                                               | 18.415841584157498/40 [05:47<06:45, 18.77s/it]"
     ]
    },
    {
     "name": "stdout",
     "output_type": "stream",
     "text": [
      "Train Epoch: 79 [1280/2508 (51%)]\tLoss: 0.766909\n",
      "Mem before-during-after: 23134720 111076864 23134720\n"
     ]
    },
    {
     "name": "stderr",
     "output_type": "stream",
     "text": [
      " 48%|████████████████████████████████████████████████████████████████████████████████████                                                                                             | 19.00990099009804/40 [05:59<06:27, 18.46s/it]"
     ]
    },
    {
     "name": "stdout",
     "output_type": "stream",
     "text": [
      "\n",
      "Test Epoch: 79\tAccuracy: 550/736 (72%)\n",
      "\n",
      "Train Epoch: 80 [0/2508 (0%)]\tLoss: 0.669831\n",
      "Mem before-during-after: 23130624 111076864 23134720\n"
     ]
    },
    {
     "name": "stderr",
     "output_type": "stream",
     "text": [
      " 49%|█████████████████████████████████████████████████████████████████████████████████████▉                                                                                           | 19.41584158415741/40 [06:06<06:25, 18.74s/it]"
     ]
    },
    {
     "name": "stdout",
     "output_type": "stream",
     "text": [
      "Train Epoch: 80 [1280/2508 (51%)]\tLoss: 0.789747\n",
      "Mem before-during-after: 23134720 111076864 23134720\n"
     ]
    },
    {
     "name": "stderr",
     "output_type": "stream",
     "text": [
      " 50%|████████████████████████████████████████████████████████████████████████████████████████▌                                                                                        | 20.00990099009795/40 [06:17<06:10, 18.52s/it]"
     ]
    },
    {
     "name": "stdout",
     "output_type": "stream",
     "text": [
      "\n",
      "Test Epoch: 80\tAccuracy: 542/736 (71%)\n",
      "\n",
      "Train Epoch: 81 [0/2508 (0%)]\tLoss: 0.632968\n",
      "Mem before-during-after: 23130624 111076864 23134720\n"
     ]
    },
    {
     "name": "stderr",
     "output_type": "stream",
     "text": [
      " 51%|██████████████████████████████████████████████████████████████████████████████████████████▎                                                                                      | 20.41584158415732/40 [06:25<06:08, 18.81s/it]"
     ]
    },
    {
     "name": "stdout",
     "output_type": "stream",
     "text": [
      "Train Epoch: 81 [1280/2508 (51%)]\tLoss: 0.709161\n",
      "Mem before-during-after: 23134720 111076864 23134720\n"
     ]
    },
    {
     "name": "stderr",
     "output_type": "stream",
     "text": [
      " 53%|████████████████████████████████████████████████████████████████████████████████████████████▉                                                                                    | 21.00990099009786/40 [06:36<05:49, 18.42s/it]"
     ]
    },
    {
     "name": "stdout",
     "output_type": "stream",
     "text": [
      "\n",
      "Test Epoch: 81\tAccuracy: 555/736 (73%)\n",
      "\n",
      "Train Epoch: 82 [0/2508 (0%)]\tLoss: 0.565492\n",
      "Mem before-during-after: 23130624 111076864 23134720\n"
     ]
    },
    {
     "name": "stderr",
     "output_type": "stream",
     "text": [
      " 54%|██████████████████████████████████████████████████████████████████████████████████████████████▏                                                                                 | 21.405940594058222/40 [06:44<05:56, 19.17s/it]"
     ]
    },
    {
     "name": "stdout",
     "output_type": "stream",
     "text": [
      "Train Epoch: 82 [1280/2508 (51%)]\tLoss: 0.747143\n",
      "Mem before-during-after: 23134720 111076864 23134720\n"
     ]
    },
    {
     "name": "stderr",
     "output_type": "stream",
     "text": [
      " 55%|████████████████████████████████████████████████████████████████████████████████████████████████▊                                                                               | 21.999999999998764/40 [06:55<06:23, 21.30s/it]"
     ]
    },
    {
     "name": "stdout",
     "output_type": "stream",
     "text": [
      "\n",
      "Test Epoch: 82\tAccuracy: 532/736 (70%)\n",
      "\n"
     ]
    },
    {
     "name": "stderr",
     "output_type": "stream",
     "text": [
      " 55%|█████████████████████████████████████████████████████████████████████████████████████████████████▍                                                                               | 22.01980198019678/40 [06:55<06:10, 20.62s/it]"
     ]
    },
    {
     "name": "stdout",
     "output_type": "stream",
     "text": [
      "Train Epoch: 83 [0/2508 (0%)]\tLoss: 0.487905\n",
      "Mem before-during-after: 23130624 111076864 23134720\n"
     ]
    },
    {
     "name": "stderr",
     "output_type": "stream",
     "text": [
      " 56%|██████████████████████████████████████████████████████████████████████████████████████████████████▋                                                                             | 22.415841584157143/40 [07:03<05:44, 19.60s/it]"
     ]
    },
    {
     "name": "stdout",
     "output_type": "stream",
     "text": [
      "Train Epoch: 83 [1280/2508 (51%)]\tLoss: 0.526132\n",
      "Mem before-during-after: 23134720 111076864 23134720\n"
     ]
    },
    {
     "name": "stderr",
     "output_type": "stream",
     "text": [
      " 58%|█████████████████████████████████████████████████████████████████████████████████████████████████████▏                                                                          | 23.009900990097684/40 [07:14<05:11, 18.36s/it]"
     ]
    },
    {
     "name": "stdout",
     "output_type": "stream",
     "text": [
      "\n",
      "Test Epoch: 83\tAccuracy: 346/736 (46%)\n",
      "\n",
      "Train Epoch: 84 [0/2508 (0%)]\tLoss: 1.228601\n",
      "Mem before-during-after: 23130624 111076864 23134720\n"
     ]
    },
    {
     "name": "stderr",
     "output_type": "stream",
     "text": [
      " 59%|███████████████████████████████████████████████████████████████████████████████████████████████████████                                                                         | 23.415841584157054/40 [07:22<05:09, 18.66s/it]"
     ]
    },
    {
     "name": "stdout",
     "output_type": "stream",
     "text": [
      "Train Epoch: 84 [1280/2508 (51%)]\tLoss: 0.632097\n",
      "Mem before-during-after: 23134720 111076864 23134720\n"
     ]
    },
    {
     "name": "stderr",
     "output_type": "stream",
     "text": [
      " 60%|█████████████████████████████████████████████████████████████████████████████████████████████████████████▋                                                                      | 24.009900990097595/40 [07:33<04:52, 18.30s/it]"
     ]
    },
    {
     "name": "stdout",
     "output_type": "stream",
     "text": [
      "\n",
      "Test Epoch: 84\tAccuracy: 545/736 (72%)\n",
      "\n",
      "Train Epoch: 85 [0/2508 (0%)]\tLoss: 0.668109\n",
      "Mem before-during-after: 23130624 111076864 23134720\n"
     ]
    },
    {
     "name": "stderr",
     "output_type": "stream",
     "text": [
      " 61%|███████████████████████████████████████████████████████████████████████████████████████████████████████████▍                                                                    | 24.415841584156965/40 [07:40<04:52, 18.77s/it]"
     ]
    },
    {
     "name": "stdout",
     "output_type": "stream",
     "text": [
      "Train Epoch: 85 [1280/2508 (51%)]\tLoss: 0.532847\n",
      "Mem before-during-after: 23134720 111076864 23134720\n"
     ]
    },
    {
     "name": "stderr",
     "output_type": "stream",
     "text": [
      " 63%|██████████████████████████████████████████████████████████████████████████████████████████████████████████████                                                                  | 25.009900990097506/40 [07:51<04:35, 18.37s/it]"
     ]
    },
    {
     "name": "stdout",
     "output_type": "stream",
     "text": [
      "\n",
      "Test Epoch: 85\tAccuracy: 545/736 (72%)\n",
      "\n",
      "Train Epoch: 86 [0/2508 (0%)]\tLoss: 0.559078\n",
      "Mem before-during-after: 23130624 111076864 23134720\n"
     ]
    },
    {
     "name": "stderr",
     "output_type": "stream",
     "text": [
      " 64%|███████████████████████████████████████████████████████████████████████████████████████████████████████████████▊                                                                | 25.415841584156876/40 [07:59<04:35, 18.86s/it]"
     ]
    },
    {
     "name": "stdout",
     "output_type": "stream",
     "text": [
      "Train Epoch: 86 [1280/2508 (51%)]\tLoss: 0.753537\n",
      "Mem before-during-after: 23134720 111076864 23134720\n"
     ]
    },
    {
     "name": "stderr",
     "output_type": "stream",
     "text": [
      " 65%|██████████████████████████████████████████████████████████████████████████████████████████████████████████████████▍                                                             | 26.009900990097417/40 [08:10<04:19, 18.54s/it]"
     ]
    },
    {
     "name": "stdout",
     "output_type": "stream",
     "text": [
      "\n",
      "Test Epoch: 86\tAccuracy: 565/736 (74%)\n",
      "\n",
      "saved model: ../models_cremad3/cremad_label3_m12new_best_86epoch.pt\n",
      "Train Epoch: 87 [0/2508 (0%)]\tLoss: 0.742895\n",
      "Mem before-during-after: 23130624 111076864 23134720\n"
     ]
    },
    {
     "name": "stderr",
     "output_type": "stream",
     "text": [
      " 66%|████████████████████████████████████████████████████████████████████████████████████████████████████████████████████▏                                                           | 26.415841584156787/40 [08:18<04:23, 19.37s/it]"
     ]
    },
    {
     "name": "stdout",
     "output_type": "stream",
     "text": [
      "Train Epoch: 87 [1280/2508 (51%)]\tLoss: 0.490701\n",
      "Mem before-during-after: 23134720 111076864 23134720\n"
     ]
    },
    {
     "name": "stderr",
     "output_type": "stream",
     "text": [
      " 68%|███████████████████████████████████████████████████████████████████████████████████████████████████████████████████████▌                                                         | 27.00990099009733/40 [08:29<04:13, 19.52s/it]"
     ]
    },
    {
     "name": "stdout",
     "output_type": "stream",
     "text": [
      "\n",
      "Test Epoch: 87\tAccuracy: 543/736 (72%)\n",
      "\n",
      "Train Epoch: 88 [0/2508 (0%)]\tLoss: 0.677279\n",
      "Mem before-during-after: 23130624 111076864 23134720\n"
     ]
    },
    {
     "name": "stderr",
     "output_type": "stream",
     "text": [
      " 69%|██████████████████████████████████████████████████████████████████████████████████████████████████████████████████████████                                                        | 27.4158415841567/40 [08:37<03:59, 19.02s/it]"
     ]
    },
    {
     "name": "stdout",
     "output_type": "stream",
     "text": [
      "Train Epoch: 88 [1280/2508 (51%)]\tLoss: 0.721291\n",
      "Mem before-during-after: 23134720 111076864 23134720\n"
     ]
    },
    {
     "name": "stderr",
     "output_type": "stream",
     "text": [
      " 70%|███████████████████████████████████████████████████████████████████████████████████████████████████████████████████████████▉                                                     | 28.00990099009724/40 [08:48<03:41, 18.50s/it]"
     ]
    },
    {
     "name": "stdout",
     "output_type": "stream",
     "text": [
      "\n",
      "Test Epoch: 88\tAccuracy: 528/736 (70%)\n",
      "\n",
      "Train Epoch: 89 [0/2508 (0%)]\tLoss: 0.984187\n",
      "Mem before-during-after: 23130624 111076864 23134720\n"
     ]
    },
    {
     "name": "stderr",
     "output_type": "stream",
     "text": [
      " 71%|█████████████████████████████████████████████████████████████████████████████████████████████████████████████████████████████▋                                                   | 28.41584158415661/40 [08:56<03:35, 18.63s/it]"
     ]
    },
    {
     "name": "stdout",
     "output_type": "stream",
     "text": [
      "Train Epoch: 89 [1280/2508 (51%)]\tLoss: 0.655802\n",
      "Mem before-during-after: 23134720 111076864 23134720\n"
     ]
    },
    {
     "name": "stderr",
     "output_type": "stream",
     "text": [
      " 73%|████████████████████████████████████████████████████████████████████████████████████████████████████████████████████████████████▎                                                | 29.00990099009715/40 [09:07<03:29, 19.09s/it]"
     ]
    },
    {
     "name": "stdout",
     "output_type": "stream",
     "text": [
      "\n",
      "Test Epoch: 89\tAccuracy: 572/736 (75%)\n",
      "\n",
      "saved model: ../models_cremad3/cremad_label3_m12new_best_89epoch.pt\n",
      "Train Epoch: 90 [0/2508 (0%)]\tLoss: 0.677357\n",
      "Mem before-during-after: 23130624 111076864 23134720\n"
     ]
    },
    {
     "name": "stderr",
     "output_type": "stream",
     "text": [
      " 74%|██████████████████████████████████████████████████████████████████████████████████████████████████████████████████████████████████▏                                              | 29.41584158415652/40 [09:15<03:24, 19.33s/it]"
     ]
    },
    {
     "name": "stdout",
     "output_type": "stream",
     "text": [
      "Train Epoch: 90 [1280/2508 (51%)]\tLoss: 0.846446\n",
      "Mem before-during-after: 23134720 111076864 23134720\n"
     ]
    },
    {
     "name": "stderr",
     "output_type": "stream",
     "text": [
      " 75%|████████████████████████████████████████████████████████████████████████████████████████████████████████████████████████████████████                                            | 30.009900990097062/40 [09:26<03:03, 18.35s/it]"
     ]
    },
    {
     "name": "stdout",
     "output_type": "stream",
     "text": [
      "\n",
      "Test Epoch: 90\tAccuracy: 568/736 (75%)\n",
      "\n",
      "Train Epoch: 91 [0/2508 (0%)]\tLoss: 0.652382\n",
      "Mem before-during-after: 23130624 111076864 23134720\n"
     ]
    },
    {
     "name": "stderr",
     "output_type": "stream",
     "text": [
      " 76%|█████████████████████████████████████████████████████████████████████████████████████████████████████████████████████████████████████▊                                          | 30.415841584156432/40 [09:34<02:59, 18.70s/it]"
     ]
    },
    {
     "name": "stdout",
     "output_type": "stream",
     "text": [
      "Train Epoch: 91 [1280/2508 (51%)]\tLoss: 0.872756\n",
      "Mem before-during-after: 23134720 111076864 23134720\n"
     ]
    },
    {
     "name": "stderr",
     "output_type": "stream",
     "text": [
      " 78%|████████████████████████████████████████████████████████████████████████████████████████████████████████████████████████████████████████▍                                       | 31.009900990096973/40 [09:45<02:43, 18.17s/it]"
     ]
    },
    {
     "name": "stdout",
     "output_type": "stream",
     "text": [
      "\n",
      "Test Epoch: 91\tAccuracy: 473/736 (62%)\n",
      "\n",
      "Train Epoch: 92 [0/2508 (0%)]\tLoss: 0.944045\n",
      "Mem before-during-after: 23130624 111076864 23134720\n"
     ]
    },
    {
     "name": "stderr",
     "output_type": "stream",
     "text": [
      " 79%|██████████████████████████████████████████████████████████████████████████████████████████████████████████████████████████████████████████▏                                     | 31.415841584156343/40 [09:53<02:42, 18.93s/it]"
     ]
    },
    {
     "name": "stdout",
     "output_type": "stream",
     "text": [
      "Train Epoch: 92 [1280/2508 (51%)]\tLoss: 0.546809\n",
      "Mem before-during-after: 23134720 111076864 23134720\n"
     ]
    },
    {
     "name": "stderr",
     "output_type": "stream",
     "text": [
      " 80%|█████████████████████████████████████████████████████████████████████████████████████████████████████████████████████████████████████████████▋                                   | 32.00990099009689/40 [10:04<02:27, 18.51s/it]"
     ]
    },
    {
     "name": "stdout",
     "output_type": "stream",
     "text": [
      "\n",
      "Test Epoch: 92\tAccuracy: 429/736 (57%)\n",
      "\n",
      "Train Epoch: 93 [0/2508 (0%)]\tLoss: 0.894315\n",
      "Mem before-during-after: 23130624 111076864 23134720\n"
     ]
    },
    {
     "name": "stderr",
     "output_type": "stream",
     "text": [
      " 81%|██████████████████████████████████████████████████████████████████████████████████████████████████████████████████████████████████████████████▋                                 | 32.415841584156404/40 [10:12<02:23, 18.90s/it]"
     ]
    },
    {
     "name": "stdout",
     "output_type": "stream",
     "text": [
      "Train Epoch: 93 [1280/2508 (51%)]\tLoss: 0.733317\n",
      "Mem before-during-after: 23134720 111076864 23134720\n"
     ]
    },
    {
     "name": "stderr",
     "output_type": "stream",
     "text": [
      " 83%|██████████████████████████████████████████████████████████████████████████████████████████████████████████████████████████████████████████████████                               | 33.00990099009716/40 [10:23<02:10, 18.71s/it]"
     ]
    },
    {
     "name": "stdout",
     "output_type": "stream",
     "text": [
      "\n",
      "Test Epoch: 93\tAccuracy: 573/736 (75%)\n",
      "\n",
      "saved model: ../models_cremad3/cremad_label3_m12new_best_93epoch.pt\n",
      "Train Epoch: 94 [0/2508 (0%)]\tLoss: 0.647143\n",
      "Mem before-during-after: 23130624 111076864 23134720\n"
     ]
    },
    {
     "name": "stderr",
     "output_type": "stream",
     "text": [
      " 84%|███████████████████████████████████████████████████████████████████████████████████████████████████████████████████████████████████████████████████                             | 33.415841584156674/40 [10:31<02:01, 18.50s/it]"
     ]
    },
    {
     "name": "stdout",
     "output_type": "stream",
     "text": [
      "Train Epoch: 94 [1280/2508 (51%)]\tLoss: 0.866478\n",
      "Mem before-during-after: 23134720 111076864 23134720\n"
     ]
    },
    {
     "name": "stderr",
     "output_type": "stream",
     "text": [
      " 85%|██████████████████████████████████████████████████████████████████████████████████████████████████████████████████████████████████████████████████████▍                          | 34.00990099009743/40 [10:42<01:53, 18.95s/it]"
     ]
    },
    {
     "name": "stdout",
     "output_type": "stream",
     "text": [
      "\n",
      "Test Epoch: 94\tAccuracy: 560/736 (74%)\n",
      "\n",
      "Train Epoch: 95 [0/2508 (0%)]\tLoss: 0.368914\n",
      "Mem before-during-after: 23130624 111076864 23134720\n"
     ]
    },
    {
     "name": "stderr",
     "output_type": "stream",
     "text": [
      " 86%|███████████████████████████████████████████████████████████████████████████████████████████████████████████████████████████████████████████████████████▍                        | 34.415841584156944/40 [10:50<01:47, 19.30s/it]"
     ]
    },
    {
     "name": "stdout",
     "output_type": "stream",
     "text": [
      "Train Epoch: 95 [1280/2508 (51%)]\tLoss: 0.764152\n",
      "Mem before-during-after: 23134720 111076864 23134720\n"
     ]
    },
    {
     "name": "stderr",
     "output_type": "stream",
     "text": [
      " 88%|███████████████████████████████████████████████████████████████████████████████████████████████████████████████████████████████████████████████████████████▊                      | 35.0099009900977/40 [11:01<01:33, 18.74s/it]"
     ]
    },
    {
     "name": "stdout",
     "output_type": "stream",
     "text": [
      "\n",
      "Test Epoch: 95\tAccuracy: 554/736 (73%)\n",
      "\n",
      "Train Epoch: 96 [0/2508 (0%)]\tLoss: 0.577912\n",
      "Mem before-during-after: 23130624 111076864 23134720\n"
     ]
    },
    {
     "name": "stderr",
     "output_type": "stream",
     "text": [
      " 89%|███████████████████████████████████████████████████████████████████████████████████████████████████████████████████████████████████████████████████████████▊                    | 35.415841584157214/40 [11:09<01:27, 19.07s/it]"
     ]
    },
    {
     "name": "stdout",
     "output_type": "stream",
     "text": [
      "Train Epoch: 96 [1280/2508 (51%)]\tLoss: 1.222388\n",
      "Mem before-during-after: 23134720 111076864 23134720\n"
     ]
    },
    {
     "name": "stderr",
     "output_type": "stream",
     "text": [
      " 90%|███████████████████████████████████████████████████████████████████████████████████████████████████████████████████████████████████████████████████████████████▎                 | 36.00990099009797/40 [11:20<01:15, 18.87s/it]"
     ]
    },
    {
     "name": "stdout",
     "output_type": "stream",
     "text": [
      "\n",
      "Test Epoch: 96\tAccuracy: 558/736 (74%)\n",
      "\n",
      "Train Epoch: 97 [0/2508 (0%)]\tLoss: 0.827938\n",
      "Mem before-during-after: 23130624 111076864 23134720\n"
     ]
    },
    {
     "name": "stderr",
     "output_type": "stream",
     "text": [
      " 91%|████████████████████████████████████████████████████████████████████████████████████████████████████████████████████████████████████████████████████████████████▏               | 36.415841584157484/40 [11:28<01:07, 18.71s/it]"
     ]
    },
    {
     "name": "stdout",
     "output_type": "stream",
     "text": [
      "Train Epoch: 97 [1280/2508 (51%)]\tLoss: 0.381909\n",
      "Mem before-during-after: 23134720 111076864 23134720\n"
     ]
    },
    {
     "name": "stderr",
     "output_type": "stream",
     "text": [
      " 93%|███████████████████████████████████████████████████████████████████████████████████████████████████████████████████████████████████████████████████████████████████▊             | 37.00990099009824/40 [11:39<00:54, 18.31s/it]"
     ]
    },
    {
     "name": "stdout",
     "output_type": "stream",
     "text": [
      "\n",
      "Test Epoch: 97\tAccuracy: 566/736 (75%)\n",
      "\n",
      "Train Epoch: 98 [0/2508 (0%)]\tLoss: 0.654213\n",
      "Mem before-during-after: 23130624 111076864 23134720\n"
     ]
    },
    {
     "name": "stderr",
     "output_type": "stream",
     "text": [
      " 94%|████████████████████████████████████████████████████████████████████████████████████████████████████████████████████████████████████████████████████████████████████▋           | 37.415841584157754/40 [11:46<00:48, 18.87s/it]"
     ]
    },
    {
     "name": "stdout",
     "output_type": "stream",
     "text": [
      "Train Epoch: 98 [1280/2508 (51%)]\tLoss: 0.537651\n",
      "Mem before-during-after: 23134720 111076864 23134720\n"
     ]
    },
    {
     "name": "stderr",
     "output_type": "stream",
     "text": [
      " 95%|████████████████████████████████████████████████████████████████████████████████████████████████████████████████████████████████████████████████████████████████████████▏        | 38.00990099009851/40 [11:57<00:36, 18.48s/it]"
     ]
    },
    {
     "name": "stdout",
     "output_type": "stream",
     "text": [
      "\n",
      "Test Epoch: 98\tAccuracy: 551/736 (73%)\n",
      "\n",
      "Train Epoch: 99 [0/2508 (0%)]\tLoss: 0.679407\n",
      "Mem before-during-after: 23130624 111076864 23134720\n"
     ]
    },
    {
     "name": "stderr",
     "output_type": "stream",
     "text": [
      " 96%|█████████████████████████████████████████████████████████████████████████████████████████████████████████████████████████████████████████████████████████████████████████       | 38.415841584158024/40 [12:05<00:30, 19.05s/it]"
     ]
    },
    {
     "name": "stdout",
     "output_type": "stream",
     "text": [
      "Train Epoch: 99 [1280/2508 (51%)]\tLoss: 0.856407\n",
      "Mem before-during-after: 23134720 111076864 23134720\n"
     ]
    },
    {
     "name": "stderr",
     "output_type": "stream",
     "text": [
      " 98%|████████████████████████████████████████████████████████████████████████████████████████████████████████████████████████████████████████████████████████████████████████████▌    | 39.00990099009878/40 [12:16<00:18, 18.72s/it]"
     ]
    },
    {
     "name": "stdout",
     "output_type": "stream",
     "text": [
      "\n",
      "Test Epoch: 99\tAccuracy: 578/736 (76%)\n",
      "\n",
      "saved model: ../models_cremad3/cremad_label3_m12new_best_99epoch.pt\n",
      "Train Epoch: 100 [0/2508 (0%)]\tLoss: 0.688722\n",
      "Mem before-during-after: 23130624 111076864 23134720\n"
     ]
    },
    {
     "name": "stderr",
     "output_type": "stream",
     "text": [
      " 99%|█████████████████████████████████████████████████████████████████████████████████████████████████████████████████████████████████████████████████████████████████████████████▍  | 39.415841584158294/40 [12:24<00:11, 19.03s/it]"
     ]
    },
    {
     "name": "stdout",
     "output_type": "stream",
     "text": [
      "Train Epoch: 100 [1280/2508 (51%)]\tLoss: 0.669510\n",
      "Mem before-during-after: 23134720 111076864 23134720\n"
     ]
    },
    {
     "name": "stderr",
     "output_type": "stream",
     "text": [
      "100%|████████████████████████████████████████████████████████████████████████████████████████████████████████████████████████████████████████████████████████████████████████████████| 40.000000000000036/40 [12:35<00:00, 18.89s/it]"
     ]
    },
    {
     "name": "stdout",
     "output_type": "stream",
     "text": [
      "\n",
      "Test Epoch: 100\tAccuracy: 527/736 (69%)\n",
      "\n"
     ]
    },
    {
     "name": "stderr",
     "output_type": "stream",
     "text": [
      "\n"
     ]
    }
   ],
   "source": [
    "n_epoch = 10\n",
    "n_epoch2 = 50\n",
    "n_epoch3 = 40\n",
    "# train_losses = []\n",
    "# test_accuracy = []\n",
    "best_accuracy = min(test_accuracy)\n",
    "model_path_prefix = '../models_cremad3/cremad_label3_m12new_best_'\n",
    "\n",
    "optimizer = optim.RAdam(model.parameters(), lr=0.00002)\n",
    "scheduler = optim.lr_scheduler.OneCycleLR(\n",
    "    optimizer, max_lr=0.01,\n",
    "    steps_per_epoch=len(train_loader), epochs=n_epoch3)\n",
    "log_interval = 40\n",
    "pbar_update = 1 / (len(train_loader) + len(test_loader))\n",
    "model.to(device)\n",
    "with tqdm(total=n_epoch3) as pbar:\n",
    "    for epoch in range(1+n_epoch+n_epoch2, n_epoch3+n_epoch2 + n_epoch + 1):\n",
    "        train(model, epoch, log_interval, train_losses)\n",
    "        acc = test(model, epoch)\n",
    "        test_accuracy += [acc]\n",
    "        if acc > best_accuracy:\n",
    "            best_accuracy = acc\n",
    "            bmodel_path = f'{model_path_prefix}{epoch}epoch.pt'\n",
    "            torch.save(model.state_dict(), bmodel_path)\n",
    "            print(f'saved model: {bmodel_path}')\n",
    "        scheduler.step()"
   ]
  },
  {
   "cell_type": "code",
   "execution_count": 44,
   "id": "f1aacf41-c0db-4a9b-9a8e-e2ab859d43c0",
   "metadata": {},
   "outputs": [
    {
     "data": {
      "text/plain": [
       "[<matplotlib.lines.Line2D at 0x7fb798d44d60>]"
      ]
     },
     "execution_count": 44,
     "metadata": {},
     "output_type": "execute_result"
    },
    {
     "data": {
      "image/png": "[encoded data removed]",
      "text/plain": [
       "<Figure size 640x480 with 1 Axes>"
      ]
     },
     "metadata": {},
     "output_type": "display_data"
    }
   ],
   "source": [
    "plt.plot(train_losses)"
   ]
  },
  {
   "cell_type": "code",
   "execution_count": 45,
   "id": "ec4391b9-4e8b-48bb-be0b-bc232ac2a9ca",
   "metadata": {},
   "outputs": [
    {
     "data": {
      "text/plain": [
       "[<matplotlib.lines.Line2D at 0x7fb798d38160>]"
      ]
     },
     "execution_count": 45,
     "metadata": {},
     "output_type": "execute_result"
    },
    {
     "data": {
      "image/png": "[encoded data removed]",
      "text/plain": [
       "<Figure size 640x480 with 1 Axes>"
      ]
     },
     "metadata": {},
     "output_type": "display_data"
    }
   ],
   "source": [
    "plt.plot(test_accuracy)"
   ]
  },
  {
   "cell_type": "code",
   "execution_count": 46,
   "id": "127e626c-7eca-47ba-ba54-ed1dd8d9f616",
   "metadata": {},
   "outputs": [
    {
     "name": "stdout",
     "output_type": "stream",
     "text": [
      "Correct: 527/736 (0.7160)\n",
      "{'acc_detail': tensor([0.8378, 0.3455, 0.9105], device='cuda:0'),\n",
      " 'acc_unweighted': tensor(0.6979, device='cuda:0'),\n",
      " 'acc_weighted': tensor(0.7160, device='cuda:0'),\n",
      " 'f1s': tensor(0.6859, device='cuda:0'),\n",
      " 'f1s_detail': tensor([0.8768, 0.4380, 0.7429], device='cuda:0'),\n",
      " 'precision_detail': tensor([0.9195, 0.5984, 0.6273], device='cuda:0'),\n",
      " 'recall_detail': tensor([0.8378, 0.3455, 0.9105], device='cuda:0'),\n",
      " 'rocauc': tensor([0.9735, 0.8312, 0.9196], device='cuda:0'),\n",
      " 'uar': tensor(0.6979, device='cuda:0'),\n",
      " 'wap': tensor(0.7215, device='cuda:0')}\n"
     ]
    },
    {
     "data": {
      "text/plain": [
       "tensor([[217,  33,   9],\n",
       "        [ 14,  76, 130],\n",
       "        [  5,  18, 234]], device='cuda:0')"
      ]
     },
     "execution_count": 46,
     "metadata": {},
     "output_type": "execute_result"
    }
   ],
   "source": [
    "metrics3, confusion_matrix3 = report_metrics(\n",
    "    model, labels=labels, device=device)\n",
    "pprint(metrics3.compute())\n",
    "confusion_matrix3.compute()"
   ]
  },
  {
   "cell_type": "code",
   "execution_count": 47,
   "id": "faf7e55d-d9b9-4783-9fa3-cdeaa9d5cfea",
   "metadata": {},
   "outputs": [
    {
     "data": {
      "text/plain": [
       "M12(\n",
       "  (fe_blocks): FeBlocks(\n",
       "    (blocks): ModuleList(\n",
       "      (0-1): 2 x FrontEndBlock(\n",
       "        (block): ModuleDict(\n",
       "          (layer): FirConvLayer(\n",
       "            (conv_layer): ResidualConv1d(\n",
       "              (pad_layer): PadForConv()\n",
       "              (stride_layer): DownsampleLayer(\n",
       "                (pad_right): PadForConv()\n",
       "              )\n",
       "              (norm_layer): CustomNormLayer(\n",
       "                (layer): LocalResponseNorm(2, alpha=0.0001, beta=0.75, k=1.0)\n",
       "              )\n",
       "              (act): NLReLU()\n",
       "            )\n",
       "          )\n",
       "          (downsample): ResidualConv1d(\n",
       "            (pad_layer): PadForConv()\n",
       "            (stride_layer): DownsampleLayer(\n",
       "              (pad_right): PadForConv()\n",
       "            )\n",
       "            (norm_layer): CustomNormLayer(\n",
       "              (layer): LocalResponseNorm(2, alpha=0.0001, beta=0.75, k=1.0)\n",
       "            )\n",
       "            (act): NLReLU()\n",
       "          )\n",
       "        )\n",
       "      )\n",
       "    )\n",
       "  )\n",
       "  (seq_blocks): Seq2OneBlocks(\n",
       "    (blocks): LSTM(97, 48, batch_first=True)\n",
       "  )\n",
       "  (cls_head): Classifier(\n",
       "    (blocks): ModuleList(\n",
       "      (0): Sequential(\n",
       "        (norm): LayerNorm((48,), eps=1e-05, elementwise_affine=True)\n",
       "        (layer): Linear(in_features=48, out_features=256, bias=True)\n",
       "      )\n",
       "      (1): Sequential(\n",
       "        (norm): LayerNorm((256,), eps=1e-05, elementwise_affine=True)\n",
       "        (layer): Linear(in_features=256, out_features=256, bias=True)\n",
       "      )\n",
       "    )\n",
       "    (act): LeakyReLU(negative_slope=0.01)\n",
       "    (output_layer): Linear(in_features=256, out_features=3, bias=True)\n",
       "  )\n",
       ")"
      ]
     },
     "execution_count": 47,
     "metadata": {},
     "output_type": "execute_result"
    }
   ],
   "source": [
    "model.to('cpu')"
   ]
  },
  {
   "cell_type": "code",
   "execution_count": 48,
   "id": "dfd98ee9-be2f-43e4-b542-e5001e207401",
   "metadata": {},
   "outputs": [
    {
     "name": "stdout",
     "output_type": "stream",
     "text": [
      "Correct: 578/736 (0.7853)\n",
      "{'acc_detail': tensor([0.8889, 0.7222, 0.7336], device='cuda:0'),\n",
      " 'acc_unweighted': tensor(0.7816, device='cuda:0'),\n",
      " 'acc_weighted': tensor(0.7853, device='cuda:0'),\n",
      " 'f1s': tensor(0.7806, device='cuda:0'),\n",
      " 'f1s_detail': tensor([0.8738, 0.6797, 0.7884], device='cuda:0'),\n",
      " 'precision_detail': tensor([0.8593, 0.6420, 0.8520], device='cuda:0'),\n",
      " 'recall_detail': tensor([0.8889, 0.7222, 0.7336], device='cuda:0'),\n",
      " 'rocauc': tensor([0.9752, 0.8625, 0.9229], device='cuda:0'),\n",
      " 'uar': tensor(0.7816, device='cuda:0'),\n",
      " 'wap': tensor(0.7929, device='cuda:0')}\n"
     ]
    },
    {
     "data": {
      "text/plain": [
       "tensor([[232,  29,   0],\n",
       "        [ 27, 156,  33],\n",
       "        [ 11,  58, 190]], device='cuda:0')"
      ]
     },
     "execution_count": 48,
     "metadata": {},
     "output_type": "execute_result"
    }
   ],
   "source": [
    "best_epoch = 99\n",
    "best_model_path = f'{model_path_prefix}{best_epoch}epoch.pt'\n",
    "best_model = M12(config=model_config,\n",
    "           n_input=1, n_output=len(labels))\n",
    "best_model.load_state_dict(torch.load(best_model_path))\n",
    "best_model.to(device)\n",
    "\n",
    "metrics_best, confusion_matrix_best = report_metrics(\n",
    "    best_model, labels=labels, device=device)\n",
    "pprint(metrics_best.compute())\n",
    "confusion_matrix_best.compute()"
   ]
  },
  {
   "cell_type": "code",
   "execution_count": 49,
   "id": "a75dfbe6-3704-4d79-98ff-933e057c39dc",
   "metadata": {},
   "outputs": [
    {
     "data": {
      "text/plain": [
       "M12(\n",
       "  (fe_blocks): FeBlocks(\n",
       "    (blocks): ModuleList(\n",
       "      (0-1): 2 x FrontEndBlock(\n",
       "        (block): ModuleDict(\n",
       "          (layer): FirConvLayer(\n",
       "            (conv_layer): ResidualConv1d(\n",
       "              (pad_layer): PadForConv()\n",
       "              (stride_layer): DownsampleLayer(\n",
       "                (pad_right): PadForConv()\n",
       "              )\n",
       "              (norm_layer): CustomNormLayer(\n",
       "                (layer): LocalResponseNorm(2, alpha=0.0001, beta=0.75, k=1.0)\n",
       "              )\n",
       "              (act): NLReLU()\n",
       "            )\n",
       "          )\n",
       "          (downsample): ResidualConv1d(\n",
       "            (pad_layer): PadForConv()\n",
       "            (stride_layer): DownsampleLayer(\n",
       "              (pad_right): PadForConv()\n",
       "            )\n",
       "            (norm_layer): CustomNormLayer(\n",
       "              (layer): LocalResponseNorm(2, alpha=0.0001, beta=0.75, k=1.0)\n",
       "            )\n",
       "            (act): NLReLU()\n",
       "          )\n",
       "        )\n",
       "      )\n",
       "    )\n",
       "  )\n",
       "  (seq_blocks): Seq2OneBlocks(\n",
       "    (blocks): LSTM(97, 48, batch_first=True)\n",
       "  )\n",
       "  (cls_head): Classifier(\n",
       "    (blocks): ModuleList(\n",
       "      (0): Sequential(\n",
       "        (norm): LayerNorm((48,), eps=1e-05, elementwise_affine=True)\n",
       "        (layer): Linear(in_features=48, out_features=256, bias=True)\n",
       "      )\n",
       "      (1): Sequential(\n",
       "        (norm): LayerNorm((256,), eps=1e-05, elementwise_affine=True)\n",
       "        (layer): Linear(in_features=256, out_features=256, bias=True)\n",
       "      )\n",
       "    )\n",
       "    (act): LeakyReLU(negative_slope=0.01)\n",
       "    (output_layer): Linear(in_features=256, out_features=3, bias=True)\n",
       "  )\n",
       ")"
      ]
     },
     "execution_count": 49,
     "metadata": {},
     "output_type": "execute_result"
    }
   ],
   "source": [
    "best_model.to('cpu')"
   ]
  },
  {
   "cell_type": "code",
   "execution_count": 50,
   "id": "578e0242-4ff0-47e8-b723-4411472e7976",
   "metadata": {},
   "outputs": [],
   "source": [
    "np.save('../cremad3_m12new_100epochs_train_losses.npy', train_losses, allow_pickle=True)\n",
    "np.save('../cremad3_m12new_100epochs_test_accuracy.npy', test_accuracy, allow_pickle=True)"
   ]
  },
  {
   "cell_type": "code",
   "execution_count": 51,
   "id": "65cd923e-7e4e-44b0-be38-52bdddbd41d5",
   "metadata": {
    "scrolled": true
   },
   "outputs": [
    {
     "name": "stderr",
     "output_type": "stream",
     "text": [
      "  0%|                                                                                                                                                                              | 0.019801980198019802/50 [00:00<16:19, 19.59s/it]"
     ]
    },
    {
     "name": "stdout",
     "output_type": "stream",
     "text": [
      "Train Epoch: 101 [0/2508 (0%)]\tLoss: 0.443376\n",
      "Mem before-during-after: 23301120 111201792 24311808\n"
     ]
    },
    {
     "name": "stderr",
     "output_type": "stream",
     "text": [
      "  1%|█▍                                                                                                                                                                             | 0.41584158415841604/50 [00:08<15:44, 19.06s/it]"
     ]
    },
    {
     "name": "stdout",
     "output_type": "stream",
     "text": [
      "Train Epoch: 101 [1280/2508 (51%)]\tLoss: 0.764125\n",
      "Mem before-during-after: 24311808 112253952 24311808\n"
     ]
    },
    {
     "name": "stderr",
     "output_type": "stream",
     "text": [
      "  2%|███▌                                                                                                                                                                            | 1.0099009900990106/50 [00:19<15:20, 18.78s/it]"
     ]
    },
    {
     "name": "stdout",
     "output_type": "stream",
     "text": [
      "\n",
      "Test Epoch: 101\tAccuracy: 559/736 (74%)\n",
      "\n",
      "saved model: ../models_cremad3/cremad_label3_m12new_best_101epoch.pt\n",
      "Train Epoch: 102 [0/2508 (0%)]\tLoss: 0.833322\n",
      "Mem before-during-after: 24307712 112253952 24311808\n"
     ]
    },
    {
     "name": "stderr",
     "output_type": "stream",
     "text": [
      "  3%|████▉                                                                                                                                                                           | 1.4158415841584169/50 [00:27<15:22, 19.00s/it]"
     ]
    },
    {
     "name": "stdout",
     "output_type": "stream",
     "text": [
      "Train Epoch: 102 [1280/2508 (51%)]\tLoss: 0.682465\n",
      "Mem before-during-after: 24311808 112253952 24311808\n"
     ]
    },
    {
     "name": "stderr",
     "output_type": "stream",
     "text": [
      "  4%|███████                                                                                                                                                                         | 2.0099009900990112/50 [00:38<15:02, 18.81s/it]"
     ]
    },
    {
     "name": "stdout",
     "output_type": "stream",
     "text": [
      "\n",
      "Test Epoch: 102\tAccuracy: 564/736 (74%)\n",
      "\n",
      "saved model: ../models_cremad3/cremad_label3_m12new_best_102epoch.pt\n",
      "Train Epoch: 103 [0/2508 (0%)]\tLoss: 0.610006\n",
      "Mem before-during-after: 24307712 112253952 24311808\n"
     ]
    },
    {
     "name": "stderr",
     "output_type": "stream",
     "text": [
      "  5%|████████▌                                                                                                                                                                       | 2.4158415841584175/50 [00:45<14:57, 18.87s/it]"
     ]
    },
    {
     "name": "stdout",
     "output_type": "stream",
     "text": [
      "Train Epoch: 103 [1280/2508 (51%)]\tLoss: 0.624826\n",
      "Mem before-during-after: 24311808 112253952 24311808\n"
     ]
    },
    {
     "name": "stderr",
     "output_type": "stream",
     "text": [
      "  6%|██████████▋                                                                                                                                                                      | 3.009900990099012/50 [00:57<14:43, 18.81s/it]"
     ]
    },
    {
     "name": "stdout",
     "output_type": "stream",
     "text": [
      "\n",
      "Test Epoch: 103\tAccuracy: 571/736 (75%)\n",
      "\n",
      "saved model: ../models_cremad3/cremad_label3_m12new_best_103epoch.pt\n",
      "Train Epoch: 104 [0/2508 (0%)]\tLoss: 0.816531\n",
      "Mem before-during-after: 24307712 112253952 24311808\n"
     ]
    },
    {
     "name": "stderr",
     "output_type": "stream",
     "text": [
      "  7%|████████████                                                                                                                                                                    | 3.4158415841584184/50 [01:04<14:49, 19.10s/it]"
     ]
    },
    {
     "name": "stdout",
     "output_type": "stream",
     "text": [
      "Train Epoch: 104 [1280/2508 (51%)]\tLoss: 0.637527\n",
      "Mem before-during-after: 24311808 112253952 24311808\n"
     ]
    },
    {
     "name": "stderr",
     "output_type": "stream",
     "text": [
      "  8%|██████████████▏                                                                                                                                                                  | 4.009900990099013/50 [01:16<14:25, 18.81s/it]"
     ]
    },
    {
     "name": "stdout",
     "output_type": "stream",
     "text": [
      "\n",
      "Test Epoch: 104\tAccuracy: 580/736 (76%)\n",
      "\n",
      "saved model: ../models_cremad3/cremad_label3_m12new_best_104epoch.pt\n",
      "Train Epoch: 105 [0/2508 (0%)]\tLoss: 0.510634\n",
      "Mem before-during-after: 24307712 112253952 24311808\n"
     ]
    },
    {
     "name": "stderr",
     "output_type": "stream",
     "text": [
      "  9%|███████████████▋                                                                                                                                                                 | 4.415841584158419/50 [01:23<14:34, 19.19s/it]"
     ]
    },
    {
     "name": "stdout",
     "output_type": "stream",
     "text": [
      "Train Epoch: 105 [1280/2508 (51%)]\tLoss: 0.618109\n",
      "Mem before-during-after: 24311808 112253952 24311808\n"
     ]
    },
    {
     "name": "stderr",
     "output_type": "stream",
     "text": [
      " 10%|█████████████████▋                                                                                                                                                              | 5.0099009900990135/50 [01:35<14:00, 18.69s/it]"
     ]
    },
    {
     "name": "stdout",
     "output_type": "stream",
     "text": [
      "\n",
      "Test Epoch: 105\tAccuracy: 559/736 (74%)\n",
      "\n",
      "Train Epoch: 106 [0/2508 (0%)]\tLoss: 0.417429\n",
      "Mem before-during-after: 24307712 112253952 24311808\n"
     ]
    },
    {
     "name": "stderr",
     "output_type": "stream",
     "text": [
      " 11%|███████████████████▎                                                                                                                                                              | 5.41584158415842/50 [01:42<13:58, 18.80s/it]"
     ]
    },
    {
     "name": "stdout",
     "output_type": "stream",
     "text": [
      "Train Epoch: 106 [1280/2508 (51%)]\tLoss: 0.445509\n",
      "Mem before-during-after: 24311808 112253952 24311808\n"
     ]
    },
    {
     "name": "stderr",
     "output_type": "stream",
     "text": [
      " 12%|█████████████████████▎                                                                                                                                                           | 6.009900990099014/50 [01:53<13:41, 18.67s/it]"
     ]
    },
    {
     "name": "stdout",
     "output_type": "stream",
     "text": [
      "\n",
      "Test Epoch: 106\tAccuracy: 567/736 (75%)\n",
      "\n",
      "Train Epoch: 107 [0/2508 (0%)]\tLoss: 0.403998\n",
      "Mem before-during-after: 24307712 112253952 24311808\n"
     ]
    },
    {
     "name": "stderr",
     "output_type": "stream",
     "text": [
      " 13%|██████████████████████▋                                                                                                                                                          | 6.415841584158421/50 [02:01<14:31, 19.99s/it]"
     ]
    },
    {
     "name": "stdout",
     "output_type": "stream",
     "text": [
      "Train Epoch: 107 [1280/2508 (51%)]\tLoss: 0.633545\n",
      "Mem before-during-after: 24311808 112253952 24311808\n"
     ]
    },
    {
     "name": "stderr",
     "output_type": "stream",
     "text": [
      " 14%|████████████████████████▊                                                                                                                                                        | 7.009900990099015/50 [02:13<14:13, 19.86s/it]"
     ]
    },
    {
     "name": "stdout",
     "output_type": "stream",
     "text": [
      "\n",
      "Test Epoch: 107\tAccuracy: 568/736 (75%)\n",
      "\n",
      "Train Epoch: 108 [0/2508 (0%)]\tLoss: 0.651252\n",
      "Mem before-during-after: 24307712 112253952 24311808\n"
     ]
    },
    {
     "name": "stderr",
     "output_type": "stream",
     "text": [
      " 15%|██████████████████████████                                                                                                                                                      | 7.4158415841584215/50 [02:20<13:22, 18.84s/it]"
     ]
    },
    {
     "name": "stdout",
     "output_type": "stream",
     "text": [
      "Train Epoch: 108 [1280/2508 (51%)]\tLoss: 0.457032\n",
      "Mem before-during-after: 24311808 112253952 24311808\n"
     ]
    },
    {
     "name": "stderr",
     "output_type": "stream",
     "text": [
      " 16%|████████████████████████████▎                                                                                                                                                    | 8.009900990099014/50 [02:31<13:01, 18.62s/it]"
     ]
    },
    {
     "name": "stdout",
     "output_type": "stream",
     "text": [
      "\n",
      "Test Epoch: 108\tAccuracy: 579/736 (76%)\n",
      "\n",
      "Train Epoch: 109 [0/2508 (0%)]\tLoss: 0.418294\n",
      "Mem before-during-after: 24307712 112253952 24311808\n"
     ]
    },
    {
     "name": "stderr",
     "output_type": "stream",
     "text": [
      " 17%|█████████████████████████████▊                                                                                                                                                   | 8.415841584158384/50 [02:39<13:01, 18.80s/it]"
     ]
    },
    {
     "name": "stdout",
     "output_type": "stream",
     "text": [
      "Train Epoch: 109 [1280/2508 (51%)]\tLoss: 0.742227\n",
      "Mem before-during-after: 24311808 112253952 24311808\n"
     ]
    },
    {
     "name": "stderr",
     "output_type": "stream",
     "text": [
      " 18%|███████████████████████████████▉                                                                                                                                                 | 9.009900990098926/50 [02:50<12:42, 18.59s/it]"
     ]
    },
    {
     "name": "stdout",
     "output_type": "stream",
     "text": [
      "\n",
      "Test Epoch: 109\tAccuracy: 571/736 (75%)\n",
      "\n",
      "Train Epoch: 110 [0/2508 (0%)]\tLoss: 0.566043\n",
      "Mem before-during-after: 24307712 112253952 24311808\n"
     ]
    },
    {
     "name": "stderr",
     "output_type": "stream",
     "text": [
      " 19%|█████████████████████████████████▎                                                                                                                                               | 9.415841584158295/50 [02:58<12:53, 19.07s/it]"
     ]
    },
    {
     "name": "stdout",
     "output_type": "stream",
     "text": [
      "Train Epoch: 110 [1280/2508 (51%)]\tLoss: 0.492904\n",
      "Mem before-during-after: 24311808 112253952 24311808\n"
     ]
    },
    {
     "name": "stderr",
     "output_type": "stream",
     "text": [
      " 20%|███████████████████████████████████▏                                                                                                                                            | 10.009900990098837/50 [03:09<12:19, 18.50s/it]"
     ]
    },
    {
     "name": "stdout",
     "output_type": "stream",
     "text": [
      "\n",
      "Test Epoch: 110\tAccuracy: 554/736 (73%)\n",
      "\n",
      "Train Epoch: 111 [0/2508 (0%)]\tLoss: 0.855940\n",
      "Mem before-during-after: 24307712 112253952 24311808\n"
     ]
    },
    {
     "name": "stderr",
     "output_type": "stream",
     "text": [
      " 21%|████████████████████████████████████▋                                                                                                                                           | 10.415841584158207/50 [03:17<12:29, 18.93s/it]"
     ]
    },
    {
     "name": "stdout",
     "output_type": "stream",
     "text": [
      "Train Epoch: 111 [1280/2508 (51%)]\tLoss: 0.535085\n",
      "Mem before-during-after: 24311808 112253952 24311808\n"
     ]
    },
    {
     "name": "stderr",
     "output_type": "stream",
     "text": [
      " 22%|██████████████████████████████████████▊                                                                                                                                         | 11.009900990098748/50 [03:28<12:05, 18.60s/it]"
     ]
    },
    {
     "name": "stdout",
     "output_type": "stream",
     "text": [
      "\n",
      "Test Epoch: 111\tAccuracy: 581/736 (77%)\n",
      "\n",
      "saved model: ../models_cremad3/cremad_label3_m12new_best_111epoch.pt\n",
      "Train Epoch: 112 [0/2508 (0%)]\tLoss: 0.630263\n",
      "Mem before-during-after: 24307712 112253952 24311808\n"
     ]
    },
    {
     "name": "stderr",
     "output_type": "stream",
     "text": [
      " 23%|████████████████████████████████████████▏                                                                                                                                       | 11.415841584158118/50 [03:36<12:05, 18.79s/it]"
     ]
    },
    {
     "name": "stdout",
     "output_type": "stream",
     "text": [
      "Train Epoch: 112 [1280/2508 (51%)]\tLoss: 0.506490\n",
      "Mem before-during-after: 24311808 112253952 24311808\n"
     ]
    },
    {
     "name": "stderr",
     "output_type": "stream",
     "text": [
      " 24%|██████████████████████████████████████████▎                                                                                                                                     | 12.009900990098659/50 [03:47<11:55, 18.83s/it]"
     ]
    },
    {
     "name": "stdout",
     "output_type": "stream",
     "text": [
      "\n",
      "Test Epoch: 112\tAccuracy: 584/736 (77%)\n",
      "\n",
      "saved model: ../models_cremad3/cremad_label3_m12new_best_112epoch.pt\n",
      "Train Epoch: 113 [0/2508 (0%)]\tLoss: 0.810287\n",
      "Mem before-during-after: 24307712 112253952 24311808\n"
     ]
    },
    {
     "name": "stderr",
     "output_type": "stream",
     "text": [
      " 25%|███████████████████████████████████████████▋                                                                                                                                    | 12.415841584158029/50 [03:54<11:49, 18.87s/it]"
     ]
    },
    {
     "name": "stdout",
     "output_type": "stream",
     "text": [
      "Train Epoch: 113 [1280/2508 (51%)]\tLoss: 0.835069\n",
      "Mem before-during-after: 24311808 112253952 24311808\n"
     ]
    },
    {
     "name": "stderr",
     "output_type": "stream",
     "text": [
      " 26%|██████████████████████████████████████████████                                                                                                                                   | 13.00990099009857/50 [04:06<11:36, 18.83s/it]"
     ]
    },
    {
     "name": "stdout",
     "output_type": "stream",
     "text": [
      "\n",
      "Test Epoch: 113\tAccuracy: 578/736 (76%)\n",
      "\n",
      "Train Epoch: 114 [0/2508 (0%)]\tLoss: 0.581174\n",
      "Mem before-during-after: 24307712 112253952 24311808\n"
     ]
    },
    {
     "name": "stderr",
     "output_type": "stream",
     "text": [
      " 27%|███████████████████████████████████████████████▍                                                                                                                                 | 13.41584158415794/50 [04:13<11:35, 19.02s/it]"
     ]
    },
    {
     "name": "stdout",
     "output_type": "stream",
     "text": [
      "Train Epoch: 114 [1280/2508 (51%)]\tLoss: 0.455329\n",
      "Mem before-during-after: 24311808 112253952 24311808\n"
     ]
    },
    {
     "name": "stderr",
     "output_type": "stream",
     "text": [
      " 28%|█████████████████████████████████████████████████▎                                                                                                                              | 14.009900990098481/50 [04:25<11:24, 19.02s/it]"
     ]
    },
    {
     "name": "stdout",
     "output_type": "stream",
     "text": [
      "\n",
      "Test Epoch: 114\tAccuracy: 575/736 (76%)\n",
      "\n",
      "Train Epoch: 115 [0/2508 (0%)]\tLoss: 0.642556\n",
      "Mem before-during-after: 24307712 112253952 24311808\n"
     ]
    },
    {
     "name": "stderr",
     "output_type": "stream",
     "text": [
      " 29%|██████████████████████████████████████████████████▋                                                                                                                             | 14.415841584157851/50 [04:33<11:25, 19.26s/it]"
     ]
    },
    {
     "name": "stdout",
     "output_type": "stream",
     "text": [
      "Train Epoch: 115 [1280/2508 (51%)]\tLoss: 0.591005\n",
      "Mem before-during-after: 24311808 112253952 24311808\n"
     ]
    },
    {
     "name": "stderr",
     "output_type": "stream",
     "text": [
      " 30%|████████████████████████████████████████████████████▊                                                                                                                           | 15.009900990098393/50 [04:44<10:54, 18.70s/it]"
     ]
    },
    {
     "name": "stdout",
     "output_type": "stream",
     "text": [
      "\n",
      "Test Epoch: 115\tAccuracy: 584/736 (77%)\n",
      "\n",
      "Train Epoch: 116 [0/2508 (0%)]\tLoss: 0.535062\n",
      "Mem before-during-after: 24307712 112253952 24311808\n"
     ]
    },
    {
     "name": "stderr",
     "output_type": "stream",
     "text": [
      " 31%|██████████████████████████████████████████████████████▎                                                                                                                         | 15.415841584157763/50 [04:52<11:05, 19.26s/it]"
     ]
    },
    {
     "name": "stdout",
     "output_type": "stream",
     "text": [
      "Train Epoch: 116 [1280/2508 (51%)]\tLoss: 0.666716\n",
      "Mem before-during-after: 24311808 112253952 24311808\n"
     ]
    },
    {
     "name": "stderr",
     "output_type": "stream",
     "text": [
      " 32%|████████████████████████████████████████████████████████▎                                                                                                                       | 16.009900990098306/50 [05:03<10:53, 19.22s/it]"
     ]
    },
    {
     "name": "stdout",
     "output_type": "stream",
     "text": [
      "\n",
      "Test Epoch: 116\tAccuracy: 562/736 (74%)\n",
      "\n",
      "Train Epoch: 117 [0/2508 (0%)]\tLoss: 0.792804\n",
      "Mem before-during-after: 24307712 112253952 24311808\n"
     ]
    },
    {
     "name": "stderr",
     "output_type": "stream",
     "text": [
      " 33%|█████████████████████████████████████████████████████████▊                                                                                                                      | 16.415841584157675/50 [05:11<10:51, 19.41s/it]"
     ]
    },
    {
     "name": "stdout",
     "output_type": "stream",
     "text": [
      "Train Epoch: 117 [1280/2508 (51%)]\tLoss: 0.848423\n",
      "Mem before-during-after: 24311808 112253952 24311808\n"
     ]
    },
    {
     "name": "stderr",
     "output_type": "stream",
     "text": [
      " 34%|███████████████████████████████████████████████████████████▊                                                                                                                    | 17.009900990098217/50 [05:22<10:19, 18.78s/it]"
     ]
    },
    {
     "name": "stdout",
     "output_type": "stream",
     "text": [
      "\n",
      "Test Epoch: 117\tAccuracy: 585/736 (77%)\n",
      "\n",
      "saved model: ../models_cremad3/cremad_label3_m12new_best_117epoch.pt\n",
      "Train Epoch: 118 [0/2508 (0%)]\tLoss: 0.375847\n",
      "Mem before-during-after: 24307712 112253952 24311808\n"
     ]
    },
    {
     "name": "stderr",
     "output_type": "stream",
     "text": [
      " 35%|█████████████████████████████████████████████████████████████▎                                                                                                                  | 17.415841584157587/50 [05:30<10:17, 18.95s/it]"
     ]
    },
    {
     "name": "stdout",
     "output_type": "stream",
     "text": [
      "Train Epoch: 118 [1280/2508 (51%)]\tLoss: 0.483957\n",
      "Mem before-during-after: 24311808 112253952 24311808\n"
     ]
    },
    {
     "name": "stderr",
     "output_type": "stream",
     "text": [
      " 36%|███████████████████████████████████████████████████████████████▍                                                                                                                | 18.009900990098128/50 [05:41<10:03, 18.88s/it]"
     ]
    },
    {
     "name": "stdout",
     "output_type": "stream",
     "text": [
      "\n",
      "Test Epoch: 118\tAccuracy: 557/736 (73%)\n",
      "\n",
      "Train Epoch: 119 [0/2508 (0%)]\tLoss: 0.548672\n",
      "Mem before-during-after: 24307712 112253952 24311808\n"
     ]
    },
    {
     "name": "stderr",
     "output_type": "stream",
     "text": [
      " 37%|████████████████████████████████████████████████████████████████▊                                                                                                               | 18.415841584157498/50 [05:49<10:04, 19.15s/it]"
     ]
    },
    {
     "name": "stdout",
     "output_type": "stream",
     "text": [
      "Train Epoch: 119 [1280/2508 (51%)]\tLoss: 0.780865\n",
      "Mem before-during-after: 24311808 112253952 24311808\n"
     ]
    },
    {
     "name": "stderr",
     "output_type": "stream",
     "text": [
      " 38%|███████████████████████████████████████████████████████████████████▎                                                                                                             | 19.00990099009804/50 [06:00<09:44, 18.87s/it]"
     ]
    },
    {
     "name": "stdout",
     "output_type": "stream",
     "text": [
      "\n",
      "Test Epoch: 119\tAccuracy: 564/736 (74%)\n",
      "\n",
      "Train Epoch: 120 [0/2508 (0%)]\tLoss: 0.820638\n",
      "Mem before-during-after: 24307712 112253952 24311808\n"
     ]
    },
    {
     "name": "stderr",
     "output_type": "stream",
     "text": [
      " 39%|████████████████████████████████████████████████████████████████████▋                                                                                                            | 19.41584158415741/50 [06:08<09:46, 19.18s/it]"
     ]
    },
    {
     "name": "stdout",
     "output_type": "stream",
     "text": [
      "Train Epoch: 120 [1280/2508 (51%)]\tLoss: 0.691490\n",
      "Mem before-during-after: 24311808 112253952 24311808\n"
     ]
    },
    {
     "name": "stderr",
     "output_type": "stream",
     "text": [
      " 40%|██████████████████████████████████████████████████████████████████████▊                                                                                                          | 20.00990099009795/50 [06:19<09:29, 19.00s/it]"
     ]
    },
    {
     "name": "stdout",
     "output_type": "stream",
     "text": [
      "\n",
      "Test Epoch: 120\tAccuracy: 591/736 (78%)\n",
      "\n",
      "saved model: ../models_cremad3/cremad_label3_m12new_best_120epoch.pt\n",
      "Train Epoch: 121 [0/2508 (0%)]\tLoss: 0.692176\n",
      "Mem before-during-after: 24307712 112253952 24311808\n"
     ]
    },
    {
     "name": "stderr",
     "output_type": "stream",
     "text": [
      " 41%|████████████████████████████████████████████████████████████████████████▎                                                                                                        | 20.41584158415732/50 [06:27<09:29, 19.26s/it]"
     ]
    },
    {
     "name": "stdout",
     "output_type": "stream",
     "text": [
      "Train Epoch: 121 [1280/2508 (51%)]\tLoss: 0.799134\n",
      "Mem before-during-after: 24311808 112253952 24311808\n"
     ]
    },
    {
     "name": "stderr",
     "output_type": "stream",
     "text": [
      " 42%|██████████████████████████████████████████████████████████████████████████▍                                                                                                      | 21.00990099009786/50 [06:39<09:21, 19.38s/it]"
     ]
    },
    {
     "name": "stdout",
     "output_type": "stream",
     "text": [
      "\n",
      "Test Epoch: 121\tAccuracy: 595/736 (78%)\n",
      "\n",
      "saved model: ../models_cremad3/cremad_label3_m12new_best_121epoch.pt\n",
      "Train Epoch: 122 [0/2508 (0%)]\tLoss: 0.493729\n",
      "Mem before-during-after: 24307712 112253952 24311808\n"
     ]
    },
    {
     "name": "stderr",
     "output_type": "stream",
     "text": [
      " 43%|███████████████████████████████████████████████████████████████████████████▊                                                                                                     | 21.41584158415723/50 [06:47<09:13, 19.36s/it]"
     ]
    },
    {
     "name": "stdout",
     "output_type": "stream",
     "text": [
      "Train Epoch: 122 [1280/2508 (51%)]\tLoss: 0.714004\n",
      "Mem before-during-after: 24311808 112253952 24311808\n"
     ]
    },
    {
     "name": "stderr",
     "output_type": "stream",
     "text": [
      " 44%|█████████████████████████████████████████████████████████████████████████████▍                                                                                                  | 22.009900990097773/50 [06:58<08:49, 18.93s/it]"
     ]
    },
    {
     "name": "stdout",
     "output_type": "stream",
     "text": [
      "\n",
      "Test Epoch: 122\tAccuracy: 561/736 (74%)\n",
      "\n",
      "Train Epoch: 123 [0/2508 (0%)]\tLoss: 0.488029\n",
      "Mem before-during-after: 24307712 112253952 24311808\n"
     ]
    },
    {
     "name": "stderr",
     "output_type": "stream",
     "text": [
      " 45%|██████████████████████████████████████████████████████████████████████████████▉                                                                                                 | 22.415841584157143/50 [07:06<08:52, 19.32s/it]"
     ]
    },
    {
     "name": "stdout",
     "output_type": "stream",
     "text": [
      "Train Epoch: 123 [1280/2508 (51%)]\tLoss: 0.666481\n",
      "Mem before-during-after: 24311808 112253952 24311808\n"
     ]
    },
    {
     "name": "stderr",
     "output_type": "stream",
     "text": [
      " 46%|████████████████████████████████████████████████████████████████████████████████▉                                                                                               | 23.009900990097684/50 [07:17<08:21, 18.57s/it]"
     ]
    },
    {
     "name": "stdout",
     "output_type": "stream",
     "text": [
      "\n",
      "Test Epoch: 123\tAccuracy: 565/736 (74%)\n",
      "\n",
      "Train Epoch: 124 [0/2508 (0%)]\tLoss: 0.445771\n",
      "Mem before-during-after: 24307712 112253952 24311808\n"
     ]
    },
    {
     "name": "stderr",
     "output_type": "stream",
     "text": [
      " 47%|██████████████████████████████████████████████████████████████████████████████████▍                                                                                             | 23.415841584157054/50 [07:25<08:19, 18.80s/it]"
     ]
    },
    {
     "name": "stdout",
     "output_type": "stream",
     "text": [
      "Train Epoch: 124 [1280/2508 (51%)]\tLoss: 0.559292\n",
      "Mem before-during-after: 24311808 112253952 24311808\n"
     ]
    },
    {
     "name": "stderr",
     "output_type": "stream",
     "text": [
      " 48%|████████████████████████████████████████████████████████████████████████████████████▌                                                                                           | 24.009900990097595/50 [07:36<08:13, 18.98s/it]"
     ]
    },
    {
     "name": "stdout",
     "output_type": "stream",
     "text": [
      "\n",
      "Test Epoch: 124\tAccuracy: 588/736 (77%)\n",
      "\n",
      "Train Epoch: 125 [0/2508 (0%)]\tLoss: 0.540088\n",
      "Mem before-during-after: 24307712 112253952 24311808\n"
     ]
    },
    {
     "name": "stderr",
     "output_type": "stream",
     "text": [
      " 49%|█████████████████████████████████████████████████████████████████████████████████████▉                                                                                          | 24.415841584156965/50 [07:44<08:04, 18.92s/it]"
     ]
    },
    {
     "name": "stdout",
     "output_type": "stream",
     "text": [
      "Train Epoch: 125 [1280/2508 (51%)]\tLoss: 0.402825\n",
      "Mem before-during-after: 24311808 112253952 24311808\n"
     ]
    },
    {
     "name": "stderr",
     "output_type": "stream",
     "text": [
      " 50%|████████████████████████████████████████████████████████████████████████████████████████                                                                                        | 25.009900990097506/50 [07:55<07:43, 18.56s/it]"
     ]
    },
    {
     "name": "stdout",
     "output_type": "stream",
     "text": [
      "\n",
      "Test Epoch: 125\tAccuracy: 578/736 (76%)\n",
      "\n",
      "Train Epoch: 126 [0/2508 (0%)]\tLoss: 0.577709\n",
      "Mem before-during-after: 24307712 112253952 24311808\n"
     ]
    },
    {
     "name": "stderr",
     "output_type": "stream",
     "text": [
      " 51%|█████████████████████████████████████████████████████████████████████████████████████████▍                                                                                      | 25.415841584156876/50 [08:03<07:42, 18.82s/it]"
     ]
    },
    {
     "name": "stdout",
     "output_type": "stream",
     "text": [
      "Train Epoch: 126 [1280/2508 (51%)]\tLoss: 0.445457\n",
      "Mem before-during-after: 24311808 112253952 24311808\n"
     ]
    },
    {
     "name": "stderr",
     "output_type": "stream",
     "text": [
      " 52%|███████████████████████████████████████████████████████████████████████████████████████████▌                                                                                    | 26.009900990097417/50 [08:14<07:26, 18.60s/it]"
     ]
    },
    {
     "name": "stdout",
     "output_type": "stream",
     "text": [
      "\n",
      "Test Epoch: 126\tAccuracy: 546/736 (72%)\n",
      "\n",
      "Train Epoch: 127 [0/2508 (0%)]\tLoss: 0.584876\n",
      "Mem before-during-after: 24307712 112253952 24311808\n"
     ]
    },
    {
     "name": "stderr",
     "output_type": "stream",
     "text": [
      " 53%|████████████████████████████████████████████████████████████████████████████████████████████▉                                                                                   | 26.415841584156787/50 [08:21<07:25, 18.90s/it]"
     ]
    },
    {
     "name": "stdout",
     "output_type": "stream",
     "text": [
      "Train Epoch: 127 [1280/2508 (51%)]\tLoss: 0.777377\n",
      "Mem before-during-after: 24311808 112253952 24311808\n"
     ]
    },
    {
     "name": "stderr",
     "output_type": "stream",
     "text": [
      " 54%|███████████████████████████████████████████████████████████████████████████████████████████████▌                                                                                 | 27.00990099009733/50 [08:33<07:10, 18.71s/it]"
     ]
    },
    {
     "name": "stdout",
     "output_type": "stream",
     "text": [
      "\n",
      "Test Epoch: 127\tAccuracy: 524/736 (69%)\n",
      "\n",
      "Train Epoch: 128 [0/2508 (0%)]\tLoss: 0.722819\n",
      "Mem before-during-after: 24307712 112253952 24311808\n"
     ]
    },
    {
     "name": "stderr",
     "output_type": "stream",
     "text": [
      " 55%|█████████████████████████████████████████████████████████████████████████████████████████████████▌                                                                                | 27.4158415841567/50 [08:40<07:09, 19.02s/it]"
     ]
    },
    {
     "name": "stdout",
     "output_type": "stream",
     "text": [
      "Train Epoch: 128 [1280/2508 (51%)]\tLoss: 0.499707\n",
      "Mem before-during-after: 24311808 112253952 24311808\n"
     ]
    },
    {
     "name": "stderr",
     "output_type": "stream",
     "text": [
      " 56%|███████████████████████████████████████████████████████████████████████████████████████████████████▏                                                                             | 28.00990099009724/50 [08:51<06:48, 18.56s/it]"
     ]
    },
    {
     "name": "stdout",
     "output_type": "stream",
     "text": [
      "\n",
      "Test Epoch: 128\tAccuracy: 578/736 (76%)\n",
      "\n",
      "Train Epoch: 129 [0/2508 (0%)]\tLoss: 0.455099\n",
      "Mem before-during-after: 24307712 112253952 24311808\n"
     ]
    },
    {
     "name": "stderr",
     "output_type": "stream",
     "text": [
      " 57%|████████████████████████████████████████████████████████████████████████████████████████████████████▌                                                                            | 28.41584158415661/50 [08:59<06:46, 18.85s/it]"
     ]
    },
    {
     "name": "stdout",
     "output_type": "stream",
     "text": [
      "Train Epoch: 129 [1280/2508 (51%)]\tLoss: 0.628037\n",
      "Mem before-during-after: 24311808 112253952 24311808\n"
     ]
    },
    {
     "name": "stderr",
     "output_type": "stream",
     "text": [
      " 58%|██████████████████████████████████████████████████████████████████████████████████████████████████████▋                                                                          | 29.00990099009715/50 [09:10<06:27, 18.47s/it]"
     ]
    },
    {
     "name": "stdout",
     "output_type": "stream",
     "text": [
      "\n",
      "Test Epoch: 129\tAccuracy: 589/736 (78%)\n",
      "\n",
      "Train Epoch: 130 [0/2508 (0%)]\tLoss: 0.635295\n",
      "Mem before-during-after: 24307712 112253952 24311808\n"
     ]
    },
    {
     "name": "stderr",
     "output_type": "stream",
     "text": [
      " 59%|████████████████████████████████████████████████████████████████████████████████████████████████████████▏                                                                        | 29.41584158415652/50 [09:18<06:28, 18.90s/it]"
     ]
    },
    {
     "name": "stdout",
     "output_type": "stream",
     "text": [
      "Train Epoch: 130 [1280/2508 (51%)]\tLoss: 0.669534\n",
      "Mem before-during-after: 24311808 112253952 24311808\n"
     ]
    },
    {
     "name": "stderr",
     "output_type": "stream",
     "text": [
      " 60%|█████████████████████████████████████████████████████████████████████████████████████████████████████████▋                                                                      | 30.009900990097062/50 [09:29<06:11, 18.61s/it]"
     ]
    },
    {
     "name": "stdout",
     "output_type": "stream",
     "text": [
      "\n",
      "Test Epoch: 130\tAccuracy: 576/736 (76%)\n",
      "\n",
      "Train Epoch: 131 [0/2508 (0%)]\tLoss: 0.651317\n",
      "Mem before-during-after: 24307712 112253952 24311808\n"
     ]
    },
    {
     "name": "stderr",
     "output_type": "stream",
     "text": [
      " 61%|███████████████████████████████████████████████████████████████████████████████████████████████████████████                                                                     | 30.415841584156432/50 [09:37<06:07, 18.77s/it]"
     ]
    },
    {
     "name": "stdout",
     "output_type": "stream",
     "text": [
      "Train Epoch: 131 [1280/2508 (51%)]\tLoss: 0.766011\n",
      "Mem before-during-after: 24311808 112253952 24311808\n"
     ]
    },
    {
     "name": "stderr",
     "output_type": "stream",
     "text": [
      " 62%|█████████████████████████████████████████████████████████████████████████████████████████████████████████████▏                                                                  | 31.009900990096973/50 [09:48<05:52, 18.56s/it]"
     ]
    },
    {
     "name": "stdout",
     "output_type": "stream",
     "text": [
      "\n",
      "Test Epoch: 131\tAccuracy: 564/736 (74%)\n",
      "\n",
      "Train Epoch: 132 [0/2508 (0%)]\tLoss: 0.555794\n",
      "Mem before-during-after: 24307712 112253952 24311808\n"
     ]
    },
    {
     "name": "stderr",
     "output_type": "stream",
     "text": [
      " 63%|██████████████████████████████████████████████████████████████████████████████████████████████████████████████▌                                                                 | 31.415841584156343/50 [09:56<05:50, 18.87s/it]"
     ]
    },
    {
     "name": "stdout",
     "output_type": "stream",
     "text": [
      "Train Epoch: 132 [1280/2508 (51%)]\tLoss: 0.618597\n",
      "Mem before-during-after: 24311808 112253952 24311808\n"
     ]
    },
    {
     "name": "stderr",
     "output_type": "stream",
     "text": [
      " 64%|█████████████████████████████████████████████████████████████████████████████████████████████████████████████████▎                                                               | 32.00990099009689/50 [10:07<05:33, 18.55s/it]"
     ]
    },
    {
     "name": "stdout",
     "output_type": "stream",
     "text": [
      "\n",
      "Test Epoch: 132\tAccuracy: 589/736 (78%)\n",
      "\n",
      "Train Epoch: 133 [0/2508 (0%)]\tLoss: 0.641639\n",
      "Mem before-during-after: 24307712 112253952 24311808\n"
     ]
    },
    {
     "name": "stderr",
     "output_type": "stream",
     "text": [
      " 65%|██████████████████████████████████████████████████████████████████████████████████████████████████████████████████                                                              | 32.415841584156404/50 [10:14<05:31, 18.87s/it]"
     ]
    },
    {
     "name": "stdout",
     "output_type": "stream",
     "text": [
      "Train Epoch: 133 [1280/2508 (51%)]\tLoss: 0.666150\n",
      "Mem before-during-after: 24311808 112253952 24311808\n"
     ]
    },
    {
     "name": "stderr",
     "output_type": "stream",
     "text": [
      " 66%|████████████████████████████████████████████████████████████████████████████████████████████████████████████████████▊                                                            | 33.00990099009716/50 [10:26<05:21, 18.90s/it]"
     ]
    },
    {
     "name": "stdout",
     "output_type": "stream",
     "text": [
      "\n",
      "Test Epoch: 133\tAccuracy: 542/736 (71%)\n",
      "\n",
      "Train Epoch: 134 [0/2508 (0%)]\tLoss: 0.550149\n",
      "Mem before-during-after: 24307712 112253952 24311808\n"
     ]
    },
    {
     "name": "stderr",
     "output_type": "stream",
     "text": [
      " 67%|█████████████████████████████████████████████████████████████████████████████████████████████████████████████████████▌                                                          | 33.415841584156674/50 [10:33<05:19, 19.29s/it]"
     ]
    },
    {
     "name": "stdout",
     "output_type": "stream",
     "text": [
      "Train Epoch: 134 [1280/2508 (51%)]\tLoss: 0.586425\n",
      "Mem before-during-after: 24311808 112253952 24311808\n"
     ]
    },
    {
     "name": "stderr",
     "output_type": "stream",
     "text": [
      " 68%|████████████████████████████████████████████████████████████████████████████████████████████████████████████████████████▍                                                        | 34.00990099009743/50 [10:45<05:05, 19.09s/it]"
     ]
    },
    {
     "name": "stdout",
     "output_type": "stream",
     "text": [
      "\n",
      "Test Epoch: 134\tAccuracy: 592/736 (78%)\n",
      "\n",
      "Train Epoch: 135 [0/2508 (0%)]\tLoss: 0.581693\n",
      "Mem before-during-after: 24307712 112253952 24311808\n"
     ]
    },
    {
     "name": "stderr",
     "output_type": "stream",
     "text": [
      " 69%|█████████████████████████████████████████████████████████████████████████████████████████████████████████████████████████▏                                                      | 34.415841584156944/50 [10:52<04:52, 18.79s/it]"
     ]
    },
    {
     "name": "stdout",
     "output_type": "stream",
     "text": [
      "Train Epoch: 135 [1280/2508 (51%)]\tLoss: 0.766222\n",
      "Mem before-during-after: 24311808 112253952 24311808\n"
     ]
    },
    {
     "name": "stderr",
     "output_type": "stream",
     "text": [
      " 70%|████████████████████████████████████████████████████████████████████████████████████████████████████████████████████████████▋                                                     | 35.0099009900977/50 [11:04<04:39, 18.62s/it]"
     ]
    },
    {
     "name": "stdout",
     "output_type": "stream",
     "text": [
      "\n",
      "Test Epoch: 135\tAccuracy: 575/736 (76%)\n",
      "\n",
      "Train Epoch: 136 [0/2508 (0%)]\tLoss: 0.689408\n",
      "Mem before-during-after: 24307712 112253952 24311808\n"
     ]
    },
    {
     "name": "stderr",
     "output_type": "stream",
     "text": [
      " 71%|████████████████████████████████████████████████████████████████████████████████████████████████████████████████████████████▋                                                   | 35.415841584157214/50 [11:11<04:35, 18.90s/it]"
     ]
    },
    {
     "name": "stdout",
     "output_type": "stream",
     "text": [
      "Train Epoch: 136 [1280/2508 (51%)]\tLoss: 0.739461\n",
      "Mem before-during-after: 24311808 112253952 24311808\n"
     ]
    },
    {
     "name": "stderr",
     "output_type": "stream",
     "text": [
      " 72%|███████████████████████████████████████████████████████████████████████████████████████████████████████████████████████████████▍                                                 | 36.00990099009797/50 [11:22<04:18, 18.50s/it]"
     ]
    },
    {
     "name": "stdout",
     "output_type": "stream",
     "text": [
      "\n",
      "Test Epoch: 136\tAccuracy: 593/736 (78%)\n",
      "\n",
      "Train Epoch: 137 [0/2508 (0%)]\tLoss: 0.351289\n",
      "Mem before-during-after: 24307712 112253952 24311808\n"
     ]
    },
    {
     "name": "stderr",
     "output_type": "stream",
     "text": [
      " 73%|████████████████████████████████████████████████████████████████████████████████████████████████████████████████████████████████▏                                               | 36.415841584157484/50 [11:30<04:15, 18.82s/it]"
     ]
    },
    {
     "name": "stdout",
     "output_type": "stream",
     "text": [
      "Train Epoch: 137 [1280/2508 (51%)]\tLoss: 0.956881\n",
      "Mem before-during-after: 24311808 112253952 24311808\n"
     ]
    },
    {
     "name": "stderr",
     "output_type": "stream",
     "text": [
      " 74%|██████████████████████████████████████████████████████████████████████████████████████████████████████████████████████████████████▏                                             | 36.999999999999226/50 [11:41<04:02, 18.62s/it]"
     ]
    },
    {
     "name": "stdout",
     "output_type": "stream",
     "text": [
      "\n",
      "Test Epoch: 137\tAccuracy: 559/736 (74%)\n",
      "\n"
     ]
    },
    {
     "name": "stderr",
     "output_type": "stream",
     "text": [
      " 74%|███████████████████████████████████████████████████████████████████████████████████████████████████████████████████████████████████                                              | 37.01980198019725/50 [11:41<04:10, 19.32s/it]"
     ]
    },
    {
     "name": "stdout",
     "output_type": "stream",
     "text": [
      "Train Epoch: 138 [0/2508 (0%)]\tLoss: 0.582721\n",
      "Mem before-during-after: 24307712 112253952 24311808\n"
     ]
    },
    {
     "name": "stderr",
     "output_type": "stream",
     "text": [
      " 75%|███████████████████████████████████████████████████████████████████████████████████████████████████████████████████████████████████▋                                            | 37.415841584157754/50 [11:49<03:56, 18.78s/it]"
     ]
    },
    {
     "name": "stdout",
     "output_type": "stream",
     "text": [
      "Train Epoch: 138 [1280/2508 (51%)]\tLoss: 0.664251\n",
      "Mem before-during-after: 24311808 112253952 24311808\n"
     ]
    },
    {
     "name": "stderr",
     "output_type": "stream",
     "text": [
      " 76%|██████████████████████████████████████████████████████████████████████████████████████████████████████████████████████████████████████▌                                          | 38.00990099009851/50 [12:00<03:45, 18.77s/it]"
     ]
    },
    {
     "name": "stdout",
     "output_type": "stream",
     "text": [
      "\n",
      "Test Epoch: 138\tAccuracy: 575/736 (76%)\n",
      "\n",
      "Train Epoch: 139 [0/2508 (0%)]\tLoss: 0.632224\n",
      "Mem before-during-after: 24307712 112253952 24311808\n"
     ]
    },
    {
     "name": "stderr",
     "output_type": "stream",
     "text": [
      " 77%|███████████████████████████████████████████████████████████████████████████████████████████████████████████████████████████████████████▏                                        | 38.415841584158024/50 [12:08<03:39, 18.93s/it]"
     ]
    },
    {
     "name": "stdout",
     "output_type": "stream",
     "text": [
      "Train Epoch: 139 [1280/2508 (51%)]\tLoss: 0.401719\n",
      "Mem before-during-after: 24311808 112253952 24311808\n"
     ]
    },
    {
     "name": "stderr",
     "output_type": "stream",
     "text": [
      " 78%|██████████████████████████████████████████████████████████████████████████████████████████████████████████████████████████████████████████                                       | 39.00990099009878/50 [12:19<03:27, 18.88s/it]"
     ]
    },
    {
     "name": "stdout",
     "output_type": "stream",
     "text": [
      "\n",
      "Test Epoch: 139\tAccuracy: 584/736 (77%)\n",
      "\n",
      "Train Epoch: 140 [0/2508 (0%)]\tLoss: 0.460509\n",
      "Mem before-during-after: 24307712 112253952 24311808\n"
     ]
    },
    {
     "name": "stderr",
     "output_type": "stream",
     "text": [
      " 79%|██████████████████████████████████████████████████████████████████████████████████████████████████████████████████████████████████████████▋                                     | 39.415841584158294/50 [12:27<03:24, 19.35s/it]"
     ]
    },
    {
     "name": "stdout",
     "output_type": "stream",
     "text": [
      "Train Epoch: 140 [1280/2508 (51%)]\tLoss: 0.524006\n",
      "Mem before-during-after: 24311808 112253952 24311808\n"
     ]
    },
    {
     "name": "stderr",
     "output_type": "stream",
     "text": [
      " 80%|█████████████████████████████████████████████████████████████████████████████████████████████████████████████████████████████████████████████▋                                   | 40.00990099009905/50 [12:38<03:09, 18.96s/it]"
     ]
    },
    {
     "name": "stdout",
     "output_type": "stream",
     "text": [
      "\n",
      "Test Epoch: 140\tAccuracy: 594/736 (78%)\n",
      "\n",
      "Train Epoch: 141 [0/2508 (0%)]\tLoss: 0.425816\n",
      "Mem before-during-after: 24307712 112253952 24311808\n"
     ]
    },
    {
     "name": "stderr",
     "output_type": "stream",
     "text": [
      " 81%|██████████████████████████████████████████████████████████████████████████████████████████████████████████████████████████████████████████████▎                                 | 40.415841584158564/50 [12:46<03:04, 19.30s/it]"
     ]
    },
    {
     "name": "stdout",
     "output_type": "stream",
     "text": [
      "Train Epoch: 141 [1280/2508 (51%)]\tLoss: 0.488288\n",
      "Mem before-during-after: 24311808 112253952 24311808\n"
     ]
    },
    {
     "name": "stderr",
     "output_type": "stream",
     "text": [
      " 82%|█████████████████████████████████████████████████████████████████████████████████████████████████████████████████████████████████████████████████▏                               | 41.00990099009932/50 [12:58<02:50, 19.00s/it]"
     ]
    },
    {
     "name": "stdout",
     "output_type": "stream",
     "text": [
      "\n",
      "Test Epoch: 141\tAccuracy: 449/736 (59%)\n",
      "\n",
      "Train Epoch: 142 [0/2508 (0%)]\tLoss: 1.023144\n",
      "Mem before-during-after: 24307712 112253952 24311808\n"
     ]
    },
    {
     "name": "stderr",
     "output_type": "stream",
     "text": [
      " 83%|█████████████████████████████████████████████████████████████████████████████████████████████████████████████████████████████████████████████████▊                              | 41.415841584158834/50 [13:05<02:45, 19.33s/it]"
     ]
    },
    {
     "name": "stdout",
     "output_type": "stream",
     "text": [
      "Train Epoch: 142 [1280/2508 (51%)]\tLoss: 0.581728\n",
      "Mem before-during-after: 24311808 112253952 24311808\n"
     ]
    },
    {
     "name": "stderr",
     "output_type": "stream",
     "text": [
      " 84%|████████████████████████████████████████████████████████████████████████████████████████████████████████████████████████████████████████████████████▋                            | 42.00990099009959/50 [13:17<02:27, 18.52s/it]"
     ]
    },
    {
     "name": "stdout",
     "output_type": "stream",
     "text": [
      "\n",
      "Test Epoch: 142\tAccuracy: 558/736 (74%)\n",
      "\n",
      "Train Epoch: 143 [0/2508 (0%)]\tLoss: 0.605373\n",
      "Mem before-during-after: 24307712 112253952 24311808\n"
     ]
    },
    {
     "name": "stderr",
     "output_type": "stream",
     "text": [
      " 85%|█████████████████████████████████████████████████████████████████████████████████████████████████████████████████████████████████████████████████████▎                          | 42.415841584159104/50 [13:24<02:22, 18.81s/it]"
     ]
    },
    {
     "name": "stdout",
     "output_type": "stream",
     "text": [
      "Train Epoch: 143 [1280/2508 (51%)]\tLoss: 0.537351\n",
      "Mem before-during-after: 24311808 112253952 24311808\n"
     ]
    },
    {
     "name": "stderr",
     "output_type": "stream",
     "text": [
      " 86%|████████████████████████████████████████████████████████████████████████████████████████████████████████████████████████████████████████████████████████▎                        | 43.00990099009986/50 [13:35<02:09, 18.47s/it]"
     ]
    },
    {
     "name": "stdout",
     "output_type": "stream",
     "text": [
      "\n",
      "Test Epoch: 143\tAccuracy: 579/736 (76%)\n",
      "\n",
      "Train Epoch: 144 [0/2508 (0%)]\tLoss: 0.547147\n",
      "Mem before-during-after: 24307712 112253952 24311808\n"
     ]
    },
    {
     "name": "stderr",
     "output_type": "stream",
     "text": [
      " 87%|████████████████████████████████████████████████████████████████████████████████████████████████████████████████████████████████████████████████████████▊                       | 43.415841584159374/50 [13:43<02:03, 18.77s/it]"
     ]
    },
    {
     "name": "stdout",
     "output_type": "stream",
     "text": [
      "Train Epoch: 144 [1280/2508 (51%)]\tLoss: 0.386642\n",
      "Mem before-during-after: 24311808 112253952 24311808\n"
     ]
    },
    {
     "name": "stderr",
     "output_type": "stream",
     "text": [
      " 88%|███████████████████████████████████████████████████████████████████████████████████████████████████████████████████████████████████████████████████████████▊                     | 44.00990099010013/50 [13:54<01:51, 18.70s/it]"
     ]
    },
    {
     "name": "stdout",
     "output_type": "stream",
     "text": [
      "\n",
      "Test Epoch: 144\tAccuracy: 550/736 (72%)\n",
      "\n",
      "Train Epoch: 145 [0/2508 (0%)]\tLoss: 0.558385\n",
      "Mem before-during-after: 24307712 112253952 24311808\n"
     ]
    },
    {
     "name": "stderr",
     "output_type": "stream",
     "text": [
      " 89%|████████████████████████████████████████████████████████████████████████████████████████████████████████████████████████████████████████████████████████████▎                   | 44.415841584159644/50 [14:02<01:44, 18.78s/it]"
     ]
    },
    {
     "name": "stdout",
     "output_type": "stream",
     "text": [
      "Train Epoch: 145 [1280/2508 (51%)]\tLoss: 0.611928\n",
      "Mem before-during-after: 24311808 112253952 24311808\n"
     ]
    },
    {
     "name": "stderr",
     "output_type": "stream",
     "text": [
      " 90%|████████████████████████████████████████████████████████████████████████████████████████████████████████████████████████████████████████████████████████████████▏                 | 45.0099009901004/50 [14:13<01:34, 18.89s/it]"
     ]
    },
    {
     "name": "stdout",
     "output_type": "stream",
     "text": [
      "\n",
      "Test Epoch: 145\tAccuracy: 541/736 (71%)\n",
      "\n",
      "Train Epoch: 146 [0/2508 (0%)]\tLoss: 0.997126\n",
      "Mem before-during-after: 24307712 112253952 24311808\n"
     ]
    },
    {
     "name": "stderr",
     "output_type": "stream",
     "text": [
      " 91%|███████████████████████████████████████████████████████████████████████████████████████████████████████████████████████████████████████████████████████████████▊                | 45.415841584159914/50 [14:21<01:26, 18.87s/it]"
     ]
    },
    {
     "name": "stdout",
     "output_type": "stream",
     "text": [
      "Train Epoch: 146 [1280/2508 (51%)]\tLoss: 0.316960\n",
      "Mem before-during-after: 24311808 112253952 24311808\n"
     ]
    },
    {
     "name": "stderr",
     "output_type": "stream",
     "text": [
      " 92%|██████████████████████████████████████████████████████████████████████████████████████████████████████████████████████████████████████████████████████████████████▉              | 46.00990099010067/50 [14:32<01:14, 18.57s/it]"
     ]
    },
    {
     "name": "stdout",
     "output_type": "stream",
     "text": [
      "\n",
      "Test Epoch: 146\tAccuracy: 590/736 (78%)\n",
      "\n",
      "Train Epoch: 147 [0/2508 (0%)]\tLoss: 0.385800\n",
      "Mem before-during-after: 24307712 112253952 24311808\n"
     ]
    },
    {
     "name": "stderr",
     "output_type": "stream",
     "text": [
      " 93%|███████████████████████████████████████████████████████████████████████████████████████████████████████████████████████████████████████████████████████████████████▍            | 46.415841584160184/50 [14:40<01:07, 18.81s/it]"
     ]
    },
    {
     "name": "stdout",
     "output_type": "stream",
     "text": [
      "Train Epoch: 147 [1280/2508 (51%)]\tLoss: 0.467509\n",
      "Mem before-during-after: 24311808 112253952 24311808\n"
     ]
    },
    {
     "name": "stderr",
     "output_type": "stream",
     "text": [
      " 94%|██████████████████████████████████████████████████████████████████████████████████████████████████████████████████████████████████████████████████████████████████████▍          | 47.00990099010094/50 [14:51<00:55, 18.54s/it]"
     ]
    },
    {
     "name": "stdout",
     "output_type": "stream",
     "text": [
      "\n",
      "Test Epoch: 147\tAccuracy: 533/736 (70%)\n",
      "\n",
      "Train Epoch: 148 [0/2508 (0%)]\tLoss: 0.840884\n",
      "Mem before-during-after: 24307712 112253952 24311808\n"
     ]
    },
    {
     "name": "stderr",
     "output_type": "stream",
     "text": [
      " 95%|██████████████████████████████████████████████████████████████████████████████████████████████████████████████████████████████████████████████████████████████████████▉         | 47.415841584160454/50 [14:58<00:48, 18.80s/it]"
     ]
    },
    {
     "name": "stdout",
     "output_type": "stream",
     "text": [
      "Train Epoch: 148 [1280/2508 (51%)]\tLoss: 0.479978\n",
      "Mem before-during-after: 24311808 112253952 24311808\n"
     ]
    },
    {
     "name": "stderr",
     "output_type": "stream",
     "text": [
      " 96%|█████████████████████████████████████████████████████████████████████████████████████████████████████████████████████████████████████████████████████████████████████████▉       | 48.00990099010121/50 [15:10<00:37, 18.62s/it]"
     ]
    },
    {
     "name": "stdout",
     "output_type": "stream",
     "text": [
      "\n",
      "Test Epoch: 148\tAccuracy: 573/736 (75%)\n",
      "\n",
      "Train Epoch: 149 [0/2508 (0%)]\tLoss: 0.723167\n",
      "Mem before-during-after: 24307712 112253952 24311808\n"
     ]
    },
    {
     "name": "stderr",
     "output_type": "stream",
     "text": [
      " 97%|██████████████████████████████████████████████████████████████████████████████████████████████████████████████████████████████████████████████████████████████████████████▍     | 48.415841584160724/50 [15:17<00:29, 18.81s/it]"
     ]
    },
    {
     "name": "stdout",
     "output_type": "stream",
     "text": [
      "Train Epoch: 149 [1280/2508 (51%)]\tLoss: 0.518579\n",
      "Mem before-during-after: 24311808 112253952 24311808\n"
     ]
    },
    {
     "name": "stderr",
     "output_type": "stream",
     "text": [
      " 98%|█████████████████████████████████████████████████████████████████████████████████████████████████████████████████████████████████████████████████████████████████████████████▍   | 49.00990099010148/50 [15:29<00:18, 18.91s/it]"
     ]
    },
    {
     "name": "stdout",
     "output_type": "stream",
     "text": [
      "\n",
      "Test Epoch: 149\tAccuracy: 594/736 (78%)\n",
      "\n",
      "Train Epoch: 150 [0/2508 (0%)]\tLoss: 0.550022\n",
      "Mem before-during-after: 24307712 112253952 24311808\n"
     ]
    },
    {
     "name": "stderr",
     "output_type": "stream",
     "text": [
      " 99%|█████████████████████████████████████████████████████████████████████████████████████████████████████████████████████████████████████████████████████████████████████████████▉  | 49.415841584160994/50 [15:36<00:11, 19.21s/it]"
     ]
    },
    {
     "name": "stdout",
     "output_type": "stream",
     "text": [
      "Train Epoch: 150 [1280/2508 (51%)]\tLoss: 0.464932\n",
      "Mem before-during-after: 24311808 112253952 24311808\n"
     ]
    },
    {
     "name": "stderr",
     "output_type": "stream",
     "text": [
      "100%|████████████████████████████████████████████████████████████████████████████████████████████████████████████████████████████████████████████████████████████████████████████████| 50.000000000002736/50 [15:48<00:00, 18.96s/it]"
     ]
    },
    {
     "name": "stdout",
     "output_type": "stream",
     "text": [
      "\n",
      "Test Epoch: 150\tAccuracy: 573/736 (75%)\n",
      "\n"
     ]
    },
    {
     "name": "stderr",
     "output_type": "stream",
     "text": [
      "\n"
     ]
    }
   ],
   "source": [
    "n_epoch = 10\n",
    "n_epoch2 = 50\n",
    "n_epoch3 = 40\n",
    "n_epoch4 = 50\n",
    "# train_losses = []\n",
    "# test_accuracy = []\n",
    "best_accuracy = min(test_accuracy)\n",
    "model_path_prefix = '../models_cremad3/cremad_label3_m12new_best_'\n",
    "\n",
    "optimizer = optim.RAdam(model.parameters(), lr=0.00001)\n",
    "scheduler = optim.lr_scheduler.OneCycleLR(\n",
    "    optimizer, max_lr=0.005,\n",
    "    steps_per_epoch=len(train_loader), epochs=n_epoch4)\n",
    "log_interval = 40\n",
    "pbar_update = 1 / (len(train_loader) + len(test_loader))\n",
    "model.to(device)\n",
    "with tqdm(total=n_epoch4) as pbar:\n",
    "    for epoch in range(1+100, n_epoch4+100 + 1):\n",
    "        train(model, epoch, log_interval, train_losses)\n",
    "        acc = test(model, epoch)\n",
    "        test_accuracy += [acc]\n",
    "        if acc > best_accuracy:\n",
    "            best_accuracy = acc\n",
    "            bmodel_path = f'{model_path_prefix}{epoch}epoch.pt'\n",
    "            torch.save(model.state_dict(), bmodel_path)\n",
    "            print(f'saved model: {bmodel_path}')\n",
    "        scheduler.step()"
   ]
  },
  {
   "cell_type": "code",
   "execution_count": 52,
   "id": "d4a0b4c1-f4b7-4d72-bae0-482f1b6b85fa",
   "metadata": {},
   "outputs": [
    {
     "data": {
      "text/plain": [
       "[<matplotlib.lines.Line2D at 0x7fb798cdd5e0>]"
      ]
     },
     "execution_count": 52,
     "metadata": {},
     "output_type": "execute_result"
    },
    {
     "data": {
      "image/png": "[encoded data removed]",
      "text/plain": [
       "<Figure size 640x480 with 1 Axes>"
      ]
     },
     "metadata": {},
     "output_type": "display_data"
    }
   ],
   "source": [
    "plt.plot(train_losses)"
   ]
  },
  {
   "cell_type": "code",
   "execution_count": 53,
   "id": "0cb935bd-e0e5-4dfe-9a15-73efed8f7ead",
   "metadata": {},
   "outputs": [
    {
     "data": {
      "text/plain": [
       "[<matplotlib.lines.Line2D at 0x7fb798bd7a60>]"
      ]
     },
     "execution_count": 53,
     "metadata": {},
     "output_type": "execute_result"
    },
    {
     "data": {
      "image/png": "[encoded data removed]",
      "text/plain": [
       "<Figure size 640x480 with 1 Axes>"
      ]
     },
     "metadata": {},
     "output_type": "display_data"
    }
   ],
   "source": [
    "plt.plot(test_accuracy)"
   ]
  },
  {
   "cell_type": "code",
   "execution_count": 54,
   "id": "3ee0ae2f-8c61-44a2-8584-8bdf2fd50997",
   "metadata": {},
   "outputs": [
    {
     "name": "stdout",
     "output_type": "stream",
     "text": [
      "Correct: 573/736 (0.7785)\n",
      "{'acc_detail': tensor([0.8161, 0.7285, 0.7835], device='cuda:0'),\n",
      " 'acc_unweighted': tensor(0.7760, device='cuda:0'),\n",
      " 'acc_weighted': tensor(0.7785, device='cuda:0'),\n",
      " 'f1s': tensor(0.7787, device='cuda:0'),\n",
      " 'f1s_detail': tensor([0.8875, 0.6667, 0.7819], device='cuda:0'),\n",
      " 'precision_detail': tensor([0.9726, 0.6145, 0.7804], device='cuda:0'),\n",
      " 'recall_detail': tensor([0.8161, 0.7285, 0.7835], device='cuda:0'),\n",
      " 'rocauc': tensor([0.9824, 0.8696, 0.9279], device='cuda:0'),\n",
      " 'uar': tensor(0.7760, device='cuda:0'),\n",
      " 'wap': tensor(0.7987, device='cuda:0')}\n"
     ]
    },
    {
     "data": {
      "text/plain": [
       "tensor([[213,  48,   0],\n",
       "        [  4, 161,  56],\n",
       "        [  2,  53, 199]], device='cuda:0')"
      ]
     },
     "execution_count": 54,
     "metadata": {},
     "output_type": "execute_result"
    }
   ],
   "source": [
    "metrics4, confusion_matrix4 = report_metrics(\n",
    "    model, labels=labels, device=device)\n",
    "pprint(metrics4.compute())\n",
    "confusion_matrix4.compute()"
   ]
  },
  {
   "cell_type": "code",
   "execution_count": 55,
   "id": "714ebd7a-64d6-45d4-ab87-9fa94a1c4560",
   "metadata": {},
   "outputs": [],
   "source": [
    "np.save('../cremad3_m12new_150epochs_train_losses.npy', train_losses, allow_pickle=True)\n",
    "np.save('../cremad3_m12new_150epochs_test_accuracy.npy', test_accuracy, allow_pickle=True)"
   ]
  },
  {
   "cell_type": "code",
   "execution_count": 56,
   "id": "7149c965-400a-44ca-b638-af9a58d8fb37",
   "metadata": {},
   "outputs": [
    {
     "data": {
      "text/plain": [
       "M12(\n",
       "  (fe_blocks): FeBlocks(\n",
       "    (blocks): ModuleList(\n",
       "      (0-1): 2 x FrontEndBlock(\n",
       "        (block): ModuleDict(\n",
       "          (layer): FirConvLayer(\n",
       "            (conv_layer): ResidualConv1d(\n",
       "              (pad_layer): PadForConv()\n",
       "              (stride_layer): DownsampleLayer(\n",
       "                (pad_right): PadForConv()\n",
       "              )\n",
       "              (norm_layer): CustomNormLayer(\n",
       "                (layer): LocalResponseNorm(2, alpha=0.0001, beta=0.75, k=1.0)\n",
       "              )\n",
       "              (act): NLReLU()\n",
       "            )\n",
       "          )\n",
       "          (downsample): ResidualConv1d(\n",
       "            (pad_layer): PadForConv()\n",
       "            (stride_layer): DownsampleLayer(\n",
       "              (pad_right): PadForConv()\n",
       "            )\n",
       "            (norm_layer): CustomNormLayer(\n",
       "              (layer): LocalResponseNorm(2, alpha=0.0001, beta=0.75, k=1.0)\n",
       "            )\n",
       "            (act): NLReLU()\n",
       "          )\n",
       "        )\n",
       "      )\n",
       "    )\n",
       "  )\n",
       "  (seq_blocks): Seq2OneBlocks(\n",
       "    (blocks): LSTM(97, 48, batch_first=True)\n",
       "  )\n",
       "  (cls_head): Classifier(\n",
       "    (blocks): ModuleList(\n",
       "      (0): Sequential(\n",
       "        (norm): LayerNorm((48,), eps=1e-05, elementwise_affine=True)\n",
       "        (layer): Linear(in_features=48, out_features=256, bias=True)\n",
       "      )\n",
       "      (1): Sequential(\n",
       "        (norm): LayerNorm((256,), eps=1e-05, elementwise_affine=True)\n",
       "        (layer): Linear(in_features=256, out_features=256, bias=True)\n",
       "      )\n",
       "    )\n",
       "    (act): LeakyReLU(negative_slope=0.01)\n",
       "    (output_layer): Linear(in_features=256, out_features=3, bias=True)\n",
       "  )\n",
       ")"
      ]
     },
     "execution_count": 56,
     "metadata": {},
     "output_type": "execute_result"
    }
   ],
   "source": [
    "model.to('cpu')"
   ]
  },
  {
   "cell_type": "code",
   "execution_count": 57,
   "id": "40f89f36-c418-48b2-ac5f-3a5d987e20bc",
   "metadata": {},
   "outputs": [
    {
     "name": "stdout",
     "output_type": "stream",
     "text": [
      "Correct: 596/736 (0.8098)\n",
      "{'acc_detail': tensor([0.9186, 0.7376, 0.7626], device='cuda:0'),\n",
      " 'acc_unweighted': tensor(0.8063, device='cuda:0'),\n",
      " 'acc_weighted': tensor(0.8098, device='cuda:0'),\n",
      " 'f1s': tensor(0.8055, device='cuda:0'),\n",
      " 'f1s_detail': tensor([0.9063, 0.7102, 0.8000], device='cuda:0'),\n",
      " 'precision_detail': tensor([0.8943, 0.6849, 0.8412], device='cuda:0'),\n",
      " 'recall_detail': tensor([0.9186, 0.7376, 0.7626], device='cuda:0'),\n",
      " 'rocauc': tensor([0.9794, 0.8740, 0.9258], device='cuda:0'),\n",
      " 'uar': tensor(0.8063, device='cuda:0'),\n",
      " 'wap': tensor(0.8129, device='cuda:0')}\n"
     ]
    },
    {
     "data": {
      "text/plain": [
       "tensor([[237,  21,   0],\n",
       "        [ 21, 163,  37],\n",
       "        [  7,  54, 196]], device='cuda:0')"
      ]
     },
     "execution_count": 57,
     "metadata": {},
     "output_type": "execute_result"
    }
   ],
   "source": [
    "best_epoch = 121\n",
    "best_model_path = f'{model_path_prefix}{best_epoch}epoch.pt'\n",
    "best_model = M12(config=model_config,\n",
    "           n_input=1, n_output=len(labels))\n",
    "best_model.load_state_dict(torch.load(best_model_path))\n",
    "best_model.to(device)\n",
    "\n",
    "metrics_best, confusion_matrix_best = report_metrics(\n",
    "    best_model, labels=labels, device=device)\n",
    "pprint(metrics_best.compute())\n",
    "confusion_matrix_best.compute()"
   ]
  },
  {
   "cell_type": "code",
   "execution_count": 58,
   "id": "4d96d740-8d96-4596-9305-bcf7b093a414",
   "metadata": {},
   "outputs": [
    {
     "data": {
      "text/plain": [
       "M12(\n",
       "  (fe_blocks): FeBlocks(\n",
       "    (blocks): ModuleList(\n",
       "      (0-1): 2 x FrontEndBlock(\n",
       "        (block): ModuleDict(\n",
       "          (layer): FirConvLayer(\n",
       "            (conv_layer): ResidualConv1d(\n",
       "              (pad_layer): PadForConv()\n",
       "              (stride_layer): DownsampleLayer(\n",
       "                (pad_right): PadForConv()\n",
       "              )\n",
       "              (norm_layer): CustomNormLayer(\n",
       "                (layer): LocalResponseNorm(2, alpha=0.0001, beta=0.75, k=1.0)\n",
       "              )\n",
       "              (act): NLReLU()\n",
       "            )\n",
       "          )\n",
       "          (downsample): ResidualConv1d(\n",
       "            (pad_layer): PadForConv()\n",
       "            (stride_layer): DownsampleLayer(\n",
       "              (pad_right): PadForConv()\n",
       "            )\n",
       "            (norm_layer): CustomNormLayer(\n",
       "              (layer): LocalResponseNorm(2, alpha=0.0001, beta=0.75, k=1.0)\n",
       "            )\n",
       "            (act): NLReLU()\n",
       "          )\n",
       "        )\n",
       "      )\n",
       "    )\n",
       "  )\n",
       "  (seq_blocks): Seq2OneBlocks(\n",
       "    (blocks): LSTM(97, 48, batch_first=True)\n",
       "  )\n",
       "  (cls_head): Classifier(\n",
       "    (blocks): ModuleList(\n",
       "      (0): Sequential(\n",
       "        (norm): LayerNorm((48,), eps=1e-05, elementwise_affine=True)\n",
       "        (layer): Linear(in_features=48, out_features=256, bias=True)\n",
       "      )\n",
       "      (1): Sequential(\n",
       "        (norm): LayerNorm((256,), eps=1e-05, elementwise_affine=True)\n",
       "        (layer): Linear(in_features=256, out_features=256, bias=True)\n",
       "      )\n",
       "    )\n",
       "    (act): LeakyReLU(negative_slope=0.01)\n",
       "    (output_layer): Linear(in_features=256, out_features=3, bias=True)\n",
       "  )\n",
       ")"
      ]
     },
     "execution_count": 58,
     "metadata": {},
     "output_type": "execute_result"
    }
   ],
   "source": [
    "best_model.to('cpu')"
   ]
  },
  {
   "cell_type": "code",
   "execution_count": null,
   "id": "2533383e-5005-45a3-9b02-834d99886a21",
   "metadata": {},
   "outputs": [
    {
     "name": "stderr",
     "output_type": "stream",
     "text": [
      "  0%|                                                                                                                                                                           | 0.019801980198019802/200 [00:00<1:06:20, 19.90s/it]"
     ]
    },
    {
     "name": "stdout",
     "output_type": "stream",
     "text": [
      "Train Epoch: 151 [0/2508 (0%)]\tLoss: 0.636784\n",
      "Mem before-during-after: 25006592 112907264 26017280\n"
     ]
    },
    {
     "name": "stderr",
     "output_type": "stream",
     "text": [
      "  0%|▎                                                                                                                                                                           | 0.41584158415841604/200 [00:08<1:03:51, 19.20s/it]"
     ]
    },
    {
     "name": "stdout",
     "output_type": "stream",
     "text": [
      "Train Epoch: 151 [1280/2508 (51%)]\tLoss: 0.807599\n",
      "Mem before-during-after: 26017280 113959424 26017280\n"
     ]
    },
    {
     "name": "stderr",
     "output_type": "stream",
     "text": [
      "  1%|▊                                                                                                                                                                            | 1.0099009900990106/200 [00:19<1:03:24, 19.12s/it]"
     ]
    },
    {
     "name": "stdout",
     "output_type": "stream",
     "text": [
      "\n",
      "Test Epoch: 151\tAccuracy: 591/736 (78%)\n",
      "\n",
      "Train Epoch: 152 [0/2508 (0%)]\tLoss: 0.489771\n",
      "Mem before-during-after: 26013184 113959424 26017280\n"
     ]
    },
    {
     "name": "stderr",
     "output_type": "stream",
     "text": [
      "  1%|█▏                                                                                                                                                                           | 1.4158415841584169/200 [00:27<1:04:05, 19.36s/it]"
     ]
    },
    {
     "name": "stdout",
     "output_type": "stream",
     "text": [
      "Train Epoch: 152 [1280/2508 (51%)]\tLoss: 0.537895\n",
      "Mem before-during-after: 26017280 113959424 26017280\n"
     ]
    },
    {
     "name": "stderr",
     "output_type": "stream",
     "text": [
      "  1%|█▋                                                                                                                                                                           | 2.0099009900990112/200 [00:38<1:02:34, 18.97s/it]"
     ]
    },
    {
     "name": "stdout",
     "output_type": "stream",
     "text": [
      "\n",
      "Test Epoch: 152\tAccuracy: 591/736 (78%)\n",
      "\n",
      "Train Epoch: 153 [0/2508 (0%)]\tLoss: 0.609196\n",
      "Mem before-during-after: 26013184 113959424 26017280\n"
     ]
    },
    {
     "name": "stderr",
     "output_type": "stream",
     "text": [
      "  1%|██                                                                                                                                                                           | 2.4158415841584175/200 [00:46<1:03:39, 19.33s/it]"
     ]
    },
    {
     "name": "stdout",
     "output_type": "stream",
     "text": [
      "Train Epoch: 153 [1280/2508 (51%)]\tLoss: 0.577257\n",
      "Mem before-during-after: 26017280 113959424 26017280\n"
     ]
    },
    {
     "name": "stderr",
     "output_type": "stream",
     "text": [
      "  2%|██▌                                                                                                                                                                           | 3.009900990099012/200 [00:58<1:02:50, 19.14s/it]"
     ]
    },
    {
     "name": "stdout",
     "output_type": "stream",
     "text": [
      "\n",
      "Test Epoch: 153\tAccuracy: 594/736 (78%)\n",
      "\n",
      "Train Epoch: 154 [0/2508 (0%)]\tLoss: 0.837878\n",
      "Mem before-during-after: 26013184 113959424 26017280\n"
     ]
    },
    {
     "name": "stderr",
     "output_type": "stream",
     "text": [
      "  2%|██▉                                                                                                                                                                          | 3.4158415841584184/200 [01:06<1:04:34, 19.71s/it]"
     ]
    },
    {
     "name": "stdout",
     "output_type": "stream",
     "text": [
      "Train Epoch: 154 [1280/2508 (51%)]\tLoss: 0.524418\n",
      "Mem before-during-after: 26017280 113959424 26017280\n"
     ]
    },
    {
     "name": "stderr",
     "output_type": "stream",
     "text": [
      "  2%|███▍                                                                                                                                                                          | 4.009900990099013/200 [01:17<1:02:23, 19.10s/it]"
     ]
    },
    {
     "name": "stdout",
     "output_type": "stream",
     "text": [
      "\n",
      "Test Epoch: 154\tAccuracy: 548/736 (72%)\n",
      "\n",
      "Train Epoch: 155 [0/2508 (0%)]\tLoss: 0.540950\n",
      "Mem before-during-after: 26013184 113959424 26017280\n"
     ]
    },
    {
     "name": "stderr",
     "output_type": "stream",
     "text": [
      "  2%|███▊                                                                                                                                                                          | 4.415841584158419/200 [01:25<1:03:12, 19.39s/it]"
     ]
    },
    {
     "name": "stdout",
     "output_type": "stream",
     "text": [
      "Train Epoch: 155 [1280/2508 (51%)]\tLoss: 0.752632\n",
      "Mem before-during-after: 26017280 113959424 26017280\n"
     ]
    },
    {
     "name": "stderr",
     "output_type": "stream",
     "text": [
      "  3%|████▎                                                                                                                                                                        | 5.0099009900990135/200 [01:37<1:02:04, 19.10s/it]"
     ]
    },
    {
     "name": "stdout",
     "output_type": "stream",
     "text": [
      "\n",
      "Test Epoch: 155\tAccuracy: 581/736 (77%)\n",
      "\n",
      "Train Epoch: 156 [0/2508 (0%)]\tLoss: 0.662718\n",
      "Mem before-during-after: 26013184 113959424 26017280\n"
     ]
    },
    {
     "name": "stderr",
     "output_type": "stream",
     "text": [
      "  3%|████▋                                                                                                                                                                          | 5.41584158415842/200 [01:45<1:03:12, 19.49s/it]"
     ]
    },
    {
     "name": "stdout",
     "output_type": "stream",
     "text": [
      "Train Epoch: 156 [1280/2508 (51%)]\tLoss: 0.592645\n",
      "Mem before-during-after: 26017280 113959424 26017280\n"
     ]
    },
    {
     "name": "stderr",
     "output_type": "stream",
     "text": [
      "  3%|█████▏                                                                                                                                                                        | 6.009900990099014/200 [01:56<1:01:42, 19.09s/it]"
     ]
    },
    {
     "name": "stdout",
     "output_type": "stream",
     "text": [
      "\n",
      "Test Epoch: 156\tAccuracy: 591/736 (78%)\n",
      "\n",
      "Train Epoch: 157 [0/2508 (0%)]\tLoss: 0.662396\n",
      "Mem before-during-after: 26013184 113959424 26017280\n"
     ]
    },
    {
     "name": "stderr",
     "output_type": "stream",
     "text": [
      "  3%|█████▍                                                                                                                                                                       | 6.3267326732673315/200 [02:02<1:02:29, 19.36s/it]"
     ]
    }
   ],
   "source": [
    "n_epoch = 10\n",
    "n_epoch2 = 50\n",
    "n_epoch3 = 40\n",
    "n_epoch4 = 50\n",
    "n_epoch5 = 200\n",
    "# train_losses = []\n",
    "# test_accuracy = []\n",
    "# best_accuracy = max(test_accuracy)\n",
    "model_path_prefix = '../models_cremad3/cremad_label3_m12new_best_'\n",
    "\n",
    "optimizer = optim.RAdam(model.parameters(), lr=0.000005)\n",
    "scheduler = optim.lr_scheduler.OneCycleLR(\n",
    "    optimizer, max_lr=0.005,\n",
    "    steps_per_epoch=len(train_loader), epochs=n_epoch5)\n",
    "log_interval = 40\n",
    "pbar_update = 1 / (len(train_loader) + len(test_loader))\n",
    "model.to(device)\n",
    "with tqdm(total=n_epoch5) as pbar:\n",
    "    for epoch in range(1+150, n_epoch5+150 + 1):\n",
    "        train(model, epoch, log_interval, train_losses)\n",
    "        acc = test(model, epoch)\n",
    "        test_accuracy += [acc]\n",
    "        if acc > best_accuracy:\n",
    "            best_accuracy = acc\n",
    "            bmodel_path = f'{model_path_prefix}{epoch}epoch.pt'\n",
    "            torch.save(model.state_dict(), bmodel_path)\n",
    "            print(f'saved model: {bmodel_path}')\n",
    "        scheduler.step()"
   ]
  },
  {
   "cell_type": "code",
   "execution_count": null,
   "id": "975349dd-04e5-4121-af22-5b85556877cf",
   "metadata": {},
   "outputs": [],
   "source": []
  }
 ],
 "metadata": {
  "kernelspec": {
   "display_name": "Python 3 (ipykernel)",
   "language": "python",
   "name": "python3"
  },
  "language_info": {
   "codemirror_mode": {
    "name": "ipython",
    "version": 3
   },
   "file_extension": ".py",
   "mimetype": "text/x-python",
   "name": "python",
   "nbconvert_exporter": "python",
   "pygments_lexer": "ipython3",
   "version": "3.9.18"
  }
 },
 "nbformat": 4,
 "nbformat_minor": 5
}
