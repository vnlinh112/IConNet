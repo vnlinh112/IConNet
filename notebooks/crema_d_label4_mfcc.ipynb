{
 "cells": [
  {
   "cell_type": "code",
   "execution_count": 1,
   "id": "7e98e54f-4a2d-49b8-94fc-c80f2ffa7b66",
   "metadata": {},
   "outputs": [
    {
     "name": "stdout",
     "output_type": "stream",
     "text": [
      "Mon Feb 26 16:04:01 2024       \n",
      "+-----------------------------------------------------------------------------+\n",
      "| NVIDIA-SMI 525.147.05   Driver Version: 525.147.05   CUDA Version: 12.0     |\n",
      "|-------------------------------+----------------------+----------------------+\n",
      "| GPU  Name        Persistence-M| Bus-Id        Disp.A | Volatile Uncorr. ECC |\n",
      "| Fan  Temp  Perf  Pwr:Usage/Cap|         Memory-Usage | GPU-Util  Compute M. |\n",
      "|                               |                      |               MIG M. |\n",
      "|===============================+======================+======================|\n",
      "|   0  NVIDIA GeForce ...  Off  | 00000000:2D:00.0  On |                  N/A |\n",
      "|  0%   47C    P8    18W / 170W |    362MiB / 12288MiB |      3%      Default |\n",
      "|                               |                      |                  N/A |\n",
      "+-------------------------------+----------------------+----------------------+\n",
      "                                                                               \n",
      "+-----------------------------------------------------------------------------+\n",
      "| Processes:                                                                  |\n",
      "|  GPU   GI   CI        PID   Type   Process name                  GPU Memory |\n",
      "|        ID   ID                                                   Usage      |\n",
      "|=============================================================================|\n",
      "|    0   N/A  N/A      2030      G   /usr/lib/xorg/Xorg                176MiB |\n",
      "|    0   N/A  N/A      2199      G   /usr/bin/gnome-shell               79MiB |\n",
      "|    0   N/A  N/A      5326      G   ...on=20240223-130108.897000       74MiB |\n",
      "|    0   N/A  N/A      7000      G   ...RendererForSitePerProcess       29MiB |\n",
      "+-----------------------------------------------------------------------------+\n"
     ]
    }
   ],
   "source": [
    "!nvidia-smi"
   ]
  },
  {
   "cell_type": "code",
   "execution_count": 2,
   "id": "89fd140c-1f24-4769-97cb-909c33126d45",
   "metadata": {},
   "outputs": [],
   "source": [
    "%load_ext autoreload\n",
    "%autoreload 2"
   ]
  },
  {
   "cell_type": "code",
   "execution_count": 3,
   "id": "4d6efc2f-1f5b-4934-a001-a55f46616046",
   "metadata": {},
   "outputs": [
    {
     "data": {
      "text/plain": [
       "'/home/bunny/projects/IConNet/notebooks'"
      ]
     },
     "execution_count": 3,
     "metadata": {},
     "output_type": "execute_result"
    }
   ],
   "source": [
    "import os\n",
    "os.getcwd()"
   ]
  },
  {
   "cell_type": "code",
   "execution_count": 4,
   "id": "4dbeef20-b0b4-4bbb-a6b7-5442c62d180d",
   "metadata": {},
   "outputs": [],
   "source": [
    "os.chdir('..')"
   ]
  },
  {
   "cell_type": "code",
   "execution_count": 5,
   "id": "917b454a-be4d-4af1-8c42-75935d9a9ebd",
   "metadata": {},
   "outputs": [
    {
     "name": "stdout",
     "output_type": "stream",
     "text": [
      "cuda\n"
     ]
    }
   ],
   "source": [
    "os.environ[\"PYTORCH_CUDA_ALLOC_CONF\"] = \"max_split_size_mb:512\"\n",
    "import gc\n",
    "import torch\n",
    "import torch.nn as nn\n",
    "import torch.nn.functional as F\n",
    "import torch.optim as optim\n",
    "import sys\n",
    "device = torch.device(\"cuda\" if torch.cuda.is_available() else \"cpu\")\n",
    "print(device)"
   ]
  },
  {
   "cell_type": "code",
   "execution_count": 6,
   "id": "b2ab929f-d460-47d9-ba6f-51efe68bd5a6",
   "metadata": {},
   "outputs": [],
   "source": [
    "import numpy as np\n",
    "from tqdm import tqdm\n",
    "import matplotlib.pyplot as plt\n",
    "import pandas as pd\n",
    "\n",
    "# Scikit learn\n",
    "from sklearn.model_selection import train_test_split\n",
    "\n",
    "import warnings\n",
    "warnings.filterwarnings('ignore', category=FutureWarning)"
   ]
  },
  {
   "cell_type": "code",
   "execution_count": 7,
   "id": "d56491e9-ac40-4578-97c1-4971b695c1a1",
   "metadata": {},
   "outputs": [],
   "source": [
    "data_dir = '../data/crema_d/features/'"
   ]
  },
  {
   "cell_type": "code",
   "execution_count": 9,
   "id": "00b4f293-fa8d-4e78-ba4a-939f93da08e5",
   "metadata": {},
   "outputs": [
    {
     "data": {
      "text/plain": [
       "array(['ang', 'dis', 'fea', 'hap', 'neu', 'sad'], dtype=object)"
      ]
     },
     "execution_count": 9,
     "metadata": {},
     "output_type": "execute_result"
    }
   ],
   "source": [
    "data_y = np.load(f'{data_dir}crema_d.label_emotion_key.npy', allow_pickle=True)\n",
    "np.unique(data_y)"
   ]
  },
  {
   "cell_type": "code",
   "execution_count": 10,
   "id": "c3025af5-459c-4ea4-8137-27d1ef99b8ec",
   "metadata": {},
   "outputs": [
    {
     "data": {
      "text/plain": [
       "7442"
      ]
     },
     "execution_count": 10,
     "metadata": {},
     "output_type": "execute_result"
    }
   ],
   "source": [
    "len(data_y)"
   ]
  },
  {
   "cell_type": "code",
   "execution_count": 13,
   "id": "0264a957-bc0c-4686-b8d5-0d9b4903edbb",
   "metadata": {},
   "outputs": [
    {
     "data": {
      "text/plain": [
       "7442"
      ]
     },
     "execution_count": 13,
     "metadata": {},
     "output_type": "execute_result"
    }
   ],
   "source": [
    "data_x = np.load(f'{data_dir}crema_d.feature.mfcc128.npy', allow_pickle=True)\n",
    "len(data_x)"
   ]
  },
  {
   "cell_type": "code",
   "execution_count": 37,
   "id": "203e6b9a-4570-4cde-89dc-5c30abf3d862",
   "metadata": {},
   "outputs": [
    {
     "name": "stdout",
     "output_type": "stream",
     "text": [
      "(4900,)\n"
     ]
    }
   ],
   "source": [
    "labels = ['ang', 'neu', 'sad', 'hap']\n",
    "\n",
    "def label_filter(label):\n",
    "    return label in labels\n",
    "\n",
    "def label_to_index(label):\n",
    "    return labels.index(label)\n",
    "    \n",
    "filtered_idx = [label_filter(idx) for idx in data_y]\n",
    "data_x = data_x[filtered_idx]\n",
    "data_y = [label_to_index(w) for w in data_y[filtered_idx]]\n",
    "print(data_x.shape)"
   ]
  },
  {
   "cell_type": "code",
   "execution_count": 38,
   "id": "5616ffbe-f57e-46c9-8823-83d693bb560e",
   "metadata": {},
   "outputs": [
    {
     "data": {
      "text/plain": [
       "[2, 3, 3, 2, 3, 3, 3, 2, 0, 0]"
      ]
     },
     "execution_count": 38,
     "metadata": {},
     "output_type": "execute_result"
    }
   ],
   "source": [
    "data_y[:10]"
   ]
  },
  {
   "cell_type": "code",
   "execution_count": 39,
   "id": "82c5a603-74fc-4509-a23f-f9ca41404901",
   "metadata": {},
   "outputs": [
    {
     "name": "stdout",
     "output_type": "stream",
     "text": [
      "Train: 3920\n",
      "Test: 980\n"
     ]
    }
   ],
   "source": [
    "x_train, x_test, y_train, y_test = train_test_split(\n",
    "    data_x, data_y, test_size=0.2, \n",
    "    random_state=42, stratify=data_y)\n",
    "print(\"Train: %i\" % len(x_train))\n",
    "print(\"Test: %i\" % len(x_test))"
   ]
  },
  {
   "cell_type": "code",
   "execution_count": 40,
   "id": "bbade1e5-a742-41a0-85e1-0d33d1a89f50",
   "metadata": {},
   "outputs": [
    {
     "data": {
      "text/plain": [
       "(128, 73)"
      ]
     },
     "execution_count": 40,
     "metadata": {},
     "output_type": "execute_result"
    }
   ],
   "source": [
    "x_train[0].shape"
   ]
  },
  {
   "cell_type": "code",
   "execution_count": 41,
   "id": "9b71d5e6-d783-4422-99ef-0c31a39a6c41",
   "metadata": {},
   "outputs": [],
   "source": [
    "train_set = list(zip(x_train, y_train))\n",
    "test_set = list(zip(x_test, y_test))"
   ]
  },
  {
   "cell_type": "code",
   "execution_count": 42,
   "id": "e3a673d6-aea4-4131-b774-b55f344b1ca0",
   "metadata": {},
   "outputs": [],
   "source": [
    "def label_to_index(word):\n",
    "    return labels.index(word[:3])\n",
    "\n",
    "def pad_sequence(batch):\n",
    "    # Make all tensor in a batch the same length by padding with zeros\n",
    "    batch = [item.t() for item in batch]\n",
    "    batch = torch.nn.utils.rnn.pad_sequence(\n",
    "        batch, batch_first=True, padding_value=0.)\n",
    "    return batch.permute(0, 2, 1)\n",
    "\n",
    "\n",
    "def collate_fn(batch):\n",
    "    tensors, targets = [], []\n",
    "\n",
    "    # Gather in lists, and encode labels as indices\n",
    "    for mfcc, label in batch:\n",
    "        tensors += [torch.tensor(\n",
    "            np.array(mfcc, dtype=float), \n",
    "            dtype=torch.float32)]\n",
    "        targets += [torch.tensor(label, \n",
    "                                 dtype=torch.long)]\n",
    "\n",
    "    # Group the list of tensors into a batched tensor\n",
    "    tensors = pad_sequence(tensors)\n",
    "    targets = torch.stack(targets)\n",
    "\n",
    "    return tensors, targets\n",
    "\n",
    "batch_size = 16\n",
    "\n",
    "if device == \"cuda\":\n",
    "    num_workers = 1\n",
    "    pin_memory = True\n",
    "else:\n",
    "    num_workers = 0\n",
    "    pin_memory = False\n",
    "\n",
    "train_loader = torch.utils.data.DataLoader(\n",
    "    train_set,\n",
    "    batch_size=batch_size,\n",
    "    shuffle=True,\n",
    "    collate_fn=collate_fn,\n",
    "    num_workers=num_workers,\n",
    "    pin_memory=pin_memory, \n",
    "    drop_last=True\n",
    ")\n",
    "test_loader = torch.utils.data.DataLoader(\n",
    "    test_set,\n",
    "    batch_size=batch_size,\n",
    "    shuffle=False,\n",
    "    drop_last=True,\n",
    "    collate_fn=collate_fn,\n",
    "    num_workers=num_workers,\n",
    "    pin_memory=pin_memory\n",
    ")"
   ]
  },
  {
   "cell_type": "code",
   "execution_count": 43,
   "id": "3d770f92-f2cb-4a70-8c52-98a5facb48cd",
   "metadata": {},
   "outputs": [],
   "source": [
    "from omegaconf import OmegaConf as ocf\n",
    "import traceback"
   ]
  },
  {
   "cell_type": "code",
   "execution_count": 44,
   "id": "e1410962-1e41-4c80-abe1-ab8fdc64c50b",
   "metadata": {},
   "outputs": [],
   "source": [
    "from IConNet.nn.model import M18mfcc as M18"
   ]
  },
  {
   "cell_type": "code",
   "execution_count": 61,
   "id": "48d8a9cc-f5cd-4e11-acc4-455bed774684",
   "metadata": {},
   "outputs": [
    {
     "name": "stdout",
     "output_type": "stream",
     "text": [
      "{'name': 'M18', 'description': 'FirConv sequential for speech emotion', 'fe': {'n_block': 2, 'n_channel': [129, 30], 'kernel_size': [127, 63], 'stride': [2, 8], 'window_k': [5, 9], 'mel_resolution': 3, 'residual_connection_type': 'stack', 'pooling': False, 'filter_type': 'firwin', 'conv_mode': 'fftconv', 'norm_type': 'LocalResponseNorm'}, 'seq': {'n_block': 1, 'n_channel': 32, 'out_seq_length': 8, 'use_context': True, 'bidirectional': False}, 'cls': {'n_block': 2, 'n_hidden_dim': [512, 512], 'norm_type': 'LayerNorm', 'dropout': 0.1}}\n"
     ]
    },
    {
     "data": {
      "text/plain": [
       "M18mfcc(\n",
       "  (seq_blocks): Seq2MBlocks(\n",
       "    (blocks): LSTM(128, 32, batch_first=True)\n",
       "    (pad_layer): PadForConv()\n",
       "  )\n",
       "  (cls_head): Classifier(\n",
       "    (blocks): ModuleList(\n",
       "      (0): Sequential(\n",
       "        (norm): LayerNorm((928,), eps=1e-05, elementwise_affine=True)\n",
       "        (layer): Linear(in_features=928, out_features=512, bias=True)\n",
       "      )\n",
       "      (1): Sequential(\n",
       "        (norm): LayerNorm((512,), eps=1e-05, elementwise_affine=True)\n",
       "        (layer): Linear(in_features=512, out_features=512, bias=True)\n",
       "      )\n",
       "    )\n",
       "    (act): LeakyReLU(negative_slope=0.01)\n",
       "    (output_layer): Linear(in_features=512, out_features=4, bias=True)\n",
       "    (dropout): Dropout(p=0.1, inplace=False)\n",
       "  )\n",
       ")"
      ]
     },
     "execution_count": 61,
     "metadata": {},
     "output_type": "execute_result"
    }
   ],
   "source": [
    "model_config_path = 'config/model/m18.yaml'\n",
    "model_config = ocf.load(model_config_path)\n",
    "print(model_config)\n",
    "model = M18(config=model_config,\n",
    "           n_input=x_train[0].shape[0], \n",
    "            n_output=len(labels))\n",
    "model"
   ]
  },
  {
   "cell_type": "code",
   "execution_count": 62,
   "id": "18715351-e4a7-472f-8264-d1701679f495",
   "metadata": {},
   "outputs": [],
   "source": [
    "n_epoch = 10\n",
    "train_losses = []\n",
    "test_accuracy = []\n",
    "optimizer = optim.RAdam(model.parameters(), lr=0.001)\n",
    "scheduler = optim.lr_scheduler.OneCycleLR(\n",
    "    optimizer, max_lr=0.1,\n",
    "    steps_per_epoch=len(train_loader), epochs=n_epoch)"
   ]
  },
  {
   "cell_type": "code",
   "execution_count": 63,
   "id": "f511e115-0a06-474a-9ec9-37c9bbccadf7",
   "metadata": {},
   "outputs": [],
   "source": [
    "train_loader_length = len(train_loader.dataset)\n",
    "test_loader_length = len(test_loader.dataset)\n",
    "\n",
    "def train(model, epoch, log_interval, \n",
    "          train_losses=train_losses):\n",
    "    model.train()\n",
    "    for batch_idx, (data, target) in enumerate(train_loader):\n",
    "        try:\n",
    "            _mem_before = torch.cuda.memory_allocated()\n",
    "            data = data.to(device)\n",
    "            target = target.to(device)\n",
    "            output = model(data)\n",
    "            del data\n",
    "            gc.collect()\n",
    "            torch.cuda.empty_cache()\n",
    "            loss = F.cross_entropy(output.squeeze(), target)\n",
    "            _mem_during = torch.cuda.memory_allocated()\n",
    "            del target\n",
    "            gc.collect()\n",
    "            torch.cuda.empty_cache()\n",
    "            optimizer.zero_grad()\n",
    "            loss.backward()\n",
    "            nn.utils.clip_grad.clip_grad_norm_(\n",
    "                model.parameters(), 1.0)\n",
    "            optimizer.step()\n",
    "            _mem_after = torch.cuda.memory_allocated()\n",
    "            # print training stats\n",
    "            if batch_idx % log_interval == 0:\n",
    "                print(f\"Train Epoch: {epoch} [{batch_idx * batch_size}/{train_loader_length} ({100. * batch_idx / len(train_loader):.0f}%)]\\tLoss: {loss.item():.6f}\")\n",
    "                print(f'Mem before-during-after: {_mem_before} {_mem_during} {_mem_after}')\n",
    "            # update progress bar\n",
    "            pbar.update(pbar_update)\n",
    "            # record loss\n",
    "            train_losses.append(loss.item())\n",
    "        except Exception as e:\n",
    "            print(f'data: {data.shape} => output: {output.shape} | target: {target.shape}')\n",
    "            traceback.print_exc()\n",
    "\n",
    "@torch.no_grad\n",
    "def test(model, epoch):\n",
    "    model.eval()\n",
    "    correct = 0\n",
    "    total = 0\n",
    "    for data, target in test_loader:\n",
    "        total += len(target)\n",
    "        data = data.to(device)\n",
    "        target = target.to(device)\n",
    "        output = model(data).squeeze()\n",
    "        del data\n",
    "        gc.collect()\n",
    "        torch.cuda.empty_cache()\n",
    "        probs = F.softmax(output, dim=-1)\n",
    "        pred = probs.argmax(dim=-1)\n",
    "        correct += pred.eq(target).sum().item()\n",
    "        del target\n",
    "        gc.collect()\n",
    "        torch.cuda.empty_cache()\n",
    "        pbar.update(pbar_update)\n",
    "    acc = correct / test_loader_length\n",
    "    print(f\"\\nTest Epoch: {epoch}\\tAccuracy: {correct}/{total} ({100. * acc:.0f}%)\\n\")\n",
    "    return acc"
   ]
  },
  {
   "cell_type": "code",
   "execution_count": 64,
   "id": "b481cd08-26d7-4a86-ba99-604b97a517f3",
   "metadata": {
    "scrolled": true
   },
   "outputs": [
    {
     "name": "stderr",
     "output_type": "stream",
     "text": [
      "  0%|                                                              | 0.0032679738562091504/10 [00:00<25:10, 151.12s/it]"
     ]
    },
    {
     "name": "stdout",
     "output_type": "stream",
     "text": [
      "Train Epoch: 1 [0/3920 (0%)]\tLoss: 1.922141\n",
      "Mem before-during-after: 18377728 30148608 45048320\n"
     ]
    },
    {
     "name": "stderr",
     "output_type": "stream",
     "text": [
      "  1%|▉                                                                 | 0.1339869281045752/10 [00:09<11:05, 67.48s/it]"
     ]
    },
    {
     "name": "stdout",
     "output_type": "stream",
     "text": [
      "Train Epoch: 1 [640/3920 (16%)]\tLoss: 1.241237\n",
      "Mem before-during-after: 45048320 47448576 45048320\n"
     ]
    },
    {
     "name": "stderr",
     "output_type": "stream",
     "text": [
      "  3%|█▋                                                               | 0.26470588235294074/10 [00:18<10:49, 66.73s/it]"
     ]
    },
    {
     "name": "stdout",
     "output_type": "stream",
     "text": [
      "Train Epoch: 1 [1280/3920 (33%)]\tLoss: 1.528367\n",
      "Mem before-during-after: 45048320 48517120 45048320\n"
     ]
    },
    {
     "name": "stderr",
     "output_type": "stream",
     "text": [
      "  4%|██▌                                                               | 0.3954248366013063/10 [00:26<10:41, 66.78s/it]"
     ]
    },
    {
     "name": "stdout",
     "output_type": "stream",
     "text": [
      "Train Epoch: 1 [1920/3920 (49%)]\tLoss: 0.972771\n",
      "Mem before-during-after: 45048320 48140800 45048320\n"
     ]
    },
    {
     "name": "stderr",
     "output_type": "stream",
     "text": [
      "  5%|███▍                                                              | 0.5261437908496719/10 [00:35<10:31, 66.66s/it]"
     ]
    },
    {
     "name": "stdout",
     "output_type": "stream",
     "text": [
      "Train Epoch: 1 [2560/3920 (65%)]\tLoss: 1.053367\n",
      "Mem before-during-after: 45048320 48099840 45048320\n"
     ]
    },
    {
     "name": "stderr",
     "output_type": "stream",
     "text": [
      "  7%|████▎                                                             | 0.6568627450980374/10 [00:44<10:22, 66.60s/it]"
     ]
    },
    {
     "name": "stdout",
     "output_type": "stream",
     "text": [
      "Train Epoch: 1 [3200/3920 (82%)]\tLoss: 0.968301\n",
      "Mem before-during-after: 45048320 48099840 45048320\n"
     ]
    },
    {
     "name": "stderr",
     "output_type": "stream",
     "text": [
      "  8%|█████▎                                                             | 0.787581699346403/10 [00:53<10:13, 66.61s/it]"
     ]
    },
    {
     "name": "stdout",
     "output_type": "stream",
     "text": [
      "Train Epoch: 1 [3840/3920 (98%)]\tLoss: 1.137628\n",
      "Mem before-during-after: 45048320 47510016 45048320\n"
     ]
    },
    {
     "name": "stderr",
     "output_type": "stream",
     "text": [
      " 10%|██████▋                                                            | 0.999999999999997/10 [01:06<09:51, 65.74s/it]"
     ]
    },
    {
     "name": "stdout",
     "output_type": "stream",
     "text": [
      "\n",
      "Test Epoch: 1\tAccuracy: 578/976 (59%)\n",
      "\n"
     ]
    },
    {
     "name": "stderr",
     "output_type": "stream",
     "text": [
      " 10%|██████▌                                                           | 1.0032679738562063/10 [01:07<09:55, 66.16s/it]"
     ]
    },
    {
     "name": "stdout",
     "output_type": "stream",
     "text": [
      "Train Epoch: 2 [0/3920 (0%)]\tLoss: 0.972434\n",
      "Mem before-during-after: 45047296 48564224 45048320\n"
     ]
    },
    {
     "name": "stderr",
     "output_type": "stream",
     "text": [
      " 11%|███████▍                                                          | 1.1339869281045718/10 [01:15<09:50, 66.60s/it]"
     ]
    },
    {
     "name": "stdout",
     "output_type": "stream",
     "text": [
      "Train Epoch: 2 [640/3920 (16%)]\tLoss: 0.552246\n",
      "Mem before-during-after: 45048320 47469056 45048320\n"
     ]
    },
    {
     "name": "stderr",
     "output_type": "stream",
     "text": [
      " 13%|████████▎                                                         | 1.2647058823529373/10 [01:24<09:45, 67.02s/it]"
     ]
    },
    {
     "name": "stdout",
     "output_type": "stream",
     "text": [
      "Train Epoch: 2 [1280/3920 (33%)]\tLoss: 0.894736\n",
      "Mem before-during-after: 45048320 48564224 45048320\n"
     ]
    },
    {
     "name": "stderr",
     "output_type": "stream",
     "text": [
      " 14%|█████████▎                                                         | 1.395424836601303/10 [01:33<09:53, 68.92s/it]"
     ]
    },
    {
     "name": "stdout",
     "output_type": "stream",
     "text": [
      "Train Epoch: 2 [1920/3920 (49%)]\tLoss: 1.087321\n",
      "Mem before-during-after: 45048320 47448576 45048320\n"
     ]
    },
    {
     "name": "stderr",
     "output_type": "stream",
     "text": [
      " 15%|██████████                                                        | 1.5261437908496684/10 [01:42<09:28, 67.13s/it]"
     ]
    },
    {
     "name": "stdout",
     "output_type": "stream",
     "text": [
      "Train Epoch: 2 [2560/3920 (65%)]\tLoss: 1.083997\n",
      "Mem before-during-after: 45048320 48564224 45048320\n"
     ]
    },
    {
     "name": "stderr",
     "output_type": "stream",
     "text": [
      " 17%|███████████                                                        | 1.656862745098034/10 [01:51<09:22, 67.41s/it]"
     ]
    },
    {
     "name": "stdout",
     "output_type": "stream",
     "text": [
      "Train Epoch: 2 [3200/3920 (82%)]\tLoss: 0.779641\n",
      "Mem before-during-after: 45048320 47510016 45048320\n"
     ]
    },
    {
     "name": "stderr",
     "output_type": "stream",
     "text": [
      " 18%|███████████▊                                                      | 1.7875816993463995/10 [01:59<09:14, 67.47s/it]"
     ]
    },
    {
     "name": "stdout",
     "output_type": "stream",
     "text": [
      "Train Epoch: 2 [3840/3920 (98%)]\tLoss: 1.232813\n",
      "Mem before-during-after: 45048320 47530496 45048320\n"
     ]
    },
    {
     "name": "stderr",
     "output_type": "stream",
     "text": [
      " 20%|█████████████▏                                                    | 1.9999999999999936/10 [02:14<08:43, 65.42s/it]"
     ]
    },
    {
     "name": "stdout",
     "output_type": "stream",
     "text": [
      "\n",
      "Test Epoch: 2\tAccuracy: 618/976 (63%)\n",
      "\n"
     ]
    },
    {
     "name": "stderr",
     "output_type": "stream",
     "text": [
      " 20%|█████████████▍                                                     | 2.003267973856203/10 [02:14<08:45, 65.74s/it]"
     ]
    },
    {
     "name": "stdout",
     "output_type": "stream",
     "text": [
      "Train Epoch: 3 [0/3920 (0%)]\tLoss: 0.737930\n",
      "Mem before-during-after: 45047296 47489536 45048320\n"
     ]
    },
    {
     "name": "stderr",
     "output_type": "stream",
     "text": [
      " 21%|██████████████                                                    | 2.1339869281045685/10 [02:22<08:48, 67.15s/it]"
     ]
    },
    {
     "name": "stdout",
     "output_type": "stream",
     "text": [
      "Train Epoch: 3 [640/3920 (16%)]\tLoss: 0.920530\n",
      "Mem before-during-after: 45048320 48363520 45048320\n"
     ]
    },
    {
     "name": "stderr",
     "output_type": "stream",
     "text": [
      " 23%|███████████████▏                                                   | 2.264705882352934/10 [02:31<08:39, 67.12s/it]"
     ]
    },
    {
     "name": "stdout",
     "output_type": "stream",
     "text": [
      "Train Epoch: 3 [1280/3920 (33%)]\tLoss: 0.689262\n",
      "Mem before-during-after: 45048320 48593408 45048320\n"
     ]
    },
    {
     "name": "stderr",
     "output_type": "stream",
     "text": [
      " 24%|███████████████▊                                                  | 2.3954248366012996/10 [02:40<08:32, 67.45s/it]"
     ]
    },
    {
     "name": "stdout",
     "output_type": "stream",
     "text": [
      "Train Epoch: 3 [1920/3920 (49%)]\tLoss: 0.647991\n",
      "Mem before-during-after: 45048320 48084992 45048320\n"
     ]
    },
    {
     "name": "stderr",
     "output_type": "stream",
     "text": [
      " 25%|████████████████▉                                                  | 2.526143790849665/10 [02:49<08:22, 67.25s/it]"
     ]
    },
    {
     "name": "stdout",
     "output_type": "stream",
     "text": [
      "Train Epoch: 3 [2560/3920 (65%)]\tLoss: 0.823177\n",
      "Mem before-during-after: 45048320 48517120 45048320\n"
     ]
    },
    {
     "name": "stderr",
     "output_type": "stream",
     "text": [
      " 27%|█████████████████▌                                                | 2.6568627450980307/10 [02:58<08:12, 67.13s/it]"
     ]
    },
    {
     "name": "stdout",
     "output_type": "stream",
     "text": [
      "Train Epoch: 3 [3200/3920 (82%)]\tLoss: 0.434062\n",
      "Mem before-during-after: 45048320 48115712 45048320\n"
     ]
    },
    {
     "name": "stderr",
     "output_type": "stream",
     "text": [
      " 28%|██████████████████▋                                                | 2.787581699346396/10 [03:06<08:02, 66.91s/it]"
     ]
    },
    {
     "name": "stdout",
     "output_type": "stream",
     "text": [
      "Train Epoch: 3 [3840/3920 (98%)]\tLoss: 0.717873\n",
      "Mem before-during-after: 45048320 47585792 45048320\n"
     ]
    },
    {
     "name": "stderr",
     "output_type": "stream",
     "text": [
      " 30%|███████████████████▊                                              | 2.9999999999999902/10 [03:21<07:46, 66.68s/it]"
     ]
    },
    {
     "name": "stdout",
     "output_type": "stream",
     "text": [
      "\n",
      "Test Epoch: 3\tAccuracy: 637/976 (65%)\n",
      "\n"
     ]
    },
    {
     "name": "stderr",
     "output_type": "stream",
     "text": [
      " 30%|███████████████████▊                                              | 3.0032679738561994/10 [03:21<07:49, 67.10s/it]"
     ]
    },
    {
     "name": "stdout",
     "output_type": "stream",
     "text": [
      "Train Epoch: 4 [0/3920 (0%)]\tLoss: 0.509449\n",
      "Mem before-during-after: 45047296 48140800 45048320\n"
     ]
    },
    {
     "name": "stderr",
     "output_type": "stream",
     "text": [
      " 31%|████████████████████▉                                              | 3.133986928104565/10 [03:30<07:45, 67.84s/it]"
     ]
    },
    {
     "name": "stdout",
     "output_type": "stream",
     "text": [
      "Train Epoch: 4 [640/3920 (16%)]\tLoss: 0.997530\n",
      "Mem before-during-after: 45048320 48517120 45048320\n"
     ]
    },
    {
     "name": "stderr",
     "output_type": "stream",
     "text": [
      " 33%|█████████████████████▌                                            | 3.2647058823529305/10 [03:39<07:40, 68.33s/it]"
     ]
    },
    {
     "name": "stdout",
     "output_type": "stream",
     "text": [
      "Train Epoch: 4 [1280/3920 (33%)]\tLoss: 1.131039\n",
      "Mem before-during-after: 45048320 47585792 45048320\n"
     ]
    },
    {
     "name": "stderr",
     "output_type": "stream",
     "text": [
      " 34%|██████████████████████▋                                            | 3.395424836601296/10 [03:47<07:26, 67.59s/it]"
     ]
    },
    {
     "name": "stdout",
     "output_type": "stream",
     "text": [
      "Train Epoch: 4 [1920/3920 (49%)]\tLoss: 0.757698\n",
      "Mem before-during-after: 45048320 48162816 45048320\n"
     ]
    },
    {
     "name": "stderr",
     "output_type": "stream",
     "text": [
      " 35%|███████████████████████▎                                          | 3.5261437908496616/10 [03:56<07:24, 68.64s/it]"
     ]
    },
    {
     "name": "stdout",
     "output_type": "stream",
     "text": [
      "Train Epoch: 4 [2560/3920 (65%)]\tLoss: 1.234622\n",
      "Mem before-during-after: 45048320 48455680 45048320\n"
     ]
    },
    {
     "name": "stderr",
     "output_type": "stream",
     "text": [
      " 37%|████████████████████████▌                                          | 3.656862745098027/10 [04:05<07:05, 67.06s/it]"
     ]
    },
    {
     "name": "stdout",
     "output_type": "stream",
     "text": [
      "Train Epoch: 4 [3200/3920 (82%)]\tLoss: 1.116774\n",
      "Mem before-during-after: 45048320 47647232 45048320\n"
     ]
    },
    {
     "name": "stderr",
     "output_type": "stream",
     "text": [
      " 38%|████████████████████████▉                                         | 3.7875816993463927/10 [04:14<06:58, 67.31s/it]"
     ]
    },
    {
     "name": "stdout",
     "output_type": "stream",
     "text": [
      "Train Epoch: 4 [3840/3920 (98%)]\tLoss: 0.455899\n",
      "Mem before-during-after: 45048320 48394240 45048320\n"
     ]
    },
    {
     "name": "stderr",
     "output_type": "stream",
     "text": [
      " 40%|██████████████████████████▍                                       | 3.9999999999999867/10 [04:28<06:46, 67.83s/it]"
     ]
    },
    {
     "name": "stdout",
     "output_type": "stream",
     "text": [
      "\n",
      "Test Epoch: 4\tAccuracy: 617/976 (63%)\n",
      "\n"
     ]
    },
    {
     "name": "stderr",
     "output_type": "stream",
     "text": [
      " 40%|██████████████████████████▊                                        | 4.003267973856196/10 [04:28<06:50, 68.39s/it]"
     ]
    },
    {
     "name": "stdout",
     "output_type": "stream",
     "text": [
      "Train Epoch: 5 [0/3920 (0%)]\tLoss: 0.650198\n",
      "Mem before-during-after: 45047296 47923712 45048320\n"
     ]
    },
    {
     "name": "stderr",
     "output_type": "stream",
     "text": [
      " 41%|███████████████████████████▋                                       | 4.133986928104561/10 [04:37<06:36, 67.57s/it]"
     ]
    },
    {
     "name": "stdout",
     "output_type": "stream",
     "text": [
      "Train Epoch: 5 [640/3920 (16%)]\tLoss: 0.639918\n",
      "Mem before-during-after: 45048320 47489536 45048320\n"
     ]
    },
    {
     "name": "stderr",
     "output_type": "stream",
     "text": [
      " 43%|████████████████████████████▌                                      | 4.264705882352927/10 [04:46<06:30, 68.15s/it]"
     ]
    },
    {
     "name": "stdout",
     "output_type": "stream",
     "text": [
      "Train Epoch: 5 [1280/3920 (33%)]\tLoss: 0.517012\n",
      "Mem before-during-after: 45048320 47626752 45048320\n"
     ]
    },
    {
     "name": "stderr",
     "output_type": "stream",
     "text": [
      " 44%|█████████████████████████████                                     | 4.3954248366012925/10 [04:55<06:16, 67.14s/it]"
     ]
    },
    {
     "name": "stdout",
     "output_type": "stream",
     "text": [
      "Train Epoch: 5 [1920/3920 (49%)]\tLoss: 0.792443\n",
      "Mem before-during-after: 45048320 47626752 45048320\n"
     ]
    },
    {
     "name": "stderr",
     "output_type": "stream",
     "text": [
      " 45%|██████████████████████████████▎                                    | 4.526143790849658/10 [05:04<06:04, 66.63s/it]"
     ]
    },
    {
     "name": "stdout",
     "output_type": "stream",
     "text": [
      "Train Epoch: 5 [2560/3920 (65%)]\tLoss: 0.588360\n",
      "Mem before-during-after: 45048320 47428096 45048320\n"
     ]
    },
    {
     "name": "stderr",
     "output_type": "stream",
     "text": [
      " 47%|███████████████████████████████▏                                   | 4.656862745098024/10 [05:12<06:01, 67.64s/it]"
     ]
    },
    {
     "name": "stdout",
     "output_type": "stream",
     "text": [
      "Train Epoch: 5 [3200/3920 (82%)]\tLoss: 0.659190\n",
      "Mem before-during-after: 45048320 48254976 45048320\n"
     ]
    },
    {
     "name": "stderr",
     "output_type": "stream",
     "text": [
      " 48%|████████████████████████████████                                   | 4.787581699346389/10 [05:22<06:02, 69.58s/it]"
     ]
    },
    {
     "name": "stdout",
     "output_type": "stream",
     "text": [
      "Train Epoch: 5 [3840/3920 (98%)]\tLoss: 0.933997\n",
      "Mem before-during-after: 45048320 48162816 45048320\n"
     ]
    },
    {
     "name": "stderr",
     "output_type": "stream",
     "text": [
      " 50%|█████████████████████████████████▍                                 | 4.999999999999983/10 [05:36<05:32, 66.42s/it]"
     ]
    },
    {
     "name": "stdout",
     "output_type": "stream",
     "text": [
      "\n",
      "Test Epoch: 5\tAccuracy: 629/976 (64%)\n",
      "\n"
     ]
    },
    {
     "name": "stderr",
     "output_type": "stream",
     "text": [
      " 50%|█████████████████████████████████▌                                 | 5.003267973856192/10 [05:36<05:34, 66.90s/it]"
     ]
    },
    {
     "name": "stdout",
     "output_type": "stream",
     "text": [
      "Train Epoch: 6 [0/3920 (0%)]\tLoss: 0.499343\n",
      "Mem before-during-after: 45047296 48424960 45048320\n"
     ]
    },
    {
     "name": "stderr",
     "output_type": "stream",
     "text": [
      " 51%|██████████████████████████████████▍                                | 5.133986928104558/10 [05:45<05:26, 67.15s/it]"
     ]
    },
    {
     "name": "stdout",
     "output_type": "stream",
     "text": [
      "Train Epoch: 6 [640/3920 (16%)]\tLoss: 0.956137\n",
      "Mem before-during-after: 45048320 47489536 45048320\n"
     ]
    },
    {
     "name": "stderr",
     "output_type": "stream",
     "text": [
      " 53%|███████████████████████████████████▎                               | 5.264705882352923/10 [05:54<05:16, 66.82s/it]"
     ]
    },
    {
     "name": "stdout",
     "output_type": "stream",
     "text": [
      "Train Epoch: 6 [1280/3920 (33%)]\tLoss: 0.362875\n",
      "Mem before-during-after: 45048320 48486400 45048320\n"
     ]
    },
    {
     "name": "stderr",
     "output_type": "stream",
     "text": [
      " 54%|████████████████████████████████████▏                              | 5.395424836601289/10 [06:03<05:11, 67.68s/it]"
     ]
    },
    {
     "name": "stdout",
     "output_type": "stream",
     "text": [
      "Train Epoch: 6 [1920/3920 (49%)]\tLoss: 0.583083\n",
      "Mem before-during-after: 45048320 47469056 45048320\n"
     ]
    },
    {
     "name": "stderr",
     "output_type": "stream",
     "text": [
      " 55%|████████████████████████████████████▍                             | 5.5261437908496545/10 [06:11<04:58, 66.69s/it]"
     ]
    },
    {
     "name": "stdout",
     "output_type": "stream",
     "text": [
      "Train Epoch: 6 [2560/3920 (65%)]\tLoss: 0.876732\n",
      "Mem before-during-after: 45048320 47469056 45048320\n"
     ]
    },
    {
     "name": "stderr",
     "output_type": "stream",
     "text": [
      " 57%|██████████████████████████████████████▍                             | 5.65686274509802/10 [06:20<05:01, 69.46s/it]"
     ]
    },
    {
     "name": "stdout",
     "output_type": "stream",
     "text": [
      "Train Epoch: 6 [3200/3920 (82%)]\tLoss: 1.442302\n",
      "Mem before-during-after: 45048320 47606272 45048320\n"
     ]
    },
    {
     "name": "stderr",
     "output_type": "stream",
     "text": [
      " 58%|██████████████████████████████████████▏                           | 5.7875816993463856/10 [06:29<04:44, 67.64s/it]"
     ]
    },
    {
     "name": "stdout",
     "output_type": "stream",
     "text": [
      "Train Epoch: 6 [3840/3920 (98%)]\tLoss: 0.646770\n",
      "Mem before-during-after: 45048320 47585792 45048320\n"
     ]
    },
    {
     "name": "stderr",
     "output_type": "stream",
     "text": [
      " 60%|████████████████████████████████████████▊                           | 5.99999999999998/10 [06:43<04:30, 67.67s/it]"
     ]
    },
    {
     "name": "stdout",
     "output_type": "stream",
     "text": [
      "\n",
      "Test Epoch: 6\tAccuracy: 595/976 (61%)\n",
      "\n"
     ]
    },
    {
     "name": "stderr",
     "output_type": "stream",
     "text": [
      " 60%|████████████████████████████████████████▏                          | 6.003267973856189/10 [06:44<04:32, 68.19s/it]"
     ]
    },
    {
     "name": "stdout",
     "output_type": "stream",
     "text": [
      "Train Epoch: 7 [0/3920 (0%)]\tLoss: 0.659063\n",
      "Mem before-during-after: 45047296 48594944 45048320\n"
     ]
    },
    {
     "name": "stderr",
     "output_type": "stream",
     "text": [
      " 61%|█████████████████████████████████████████                          | 6.133986928104554/10 [06:52<04:17, 66.63s/it]"
     ]
    },
    {
     "name": "stdout",
     "output_type": "stream",
     "text": [
      "Train Epoch: 7 [640/3920 (16%)]\tLoss: 0.462994\n",
      "Mem before-during-after: 45048320 47530496 45048320\n"
     ]
    },
    {
     "name": "stderr",
     "output_type": "stream",
     "text": [
      " 63%|██████████████████████████████████████████▌                         | 6.26470588235292/10 [07:01<04:10, 67.05s/it]"
     ]
    },
    {
     "name": "stdout",
     "output_type": "stream",
     "text": [
      "Train Epoch: 7 [1280/3920 (33%)]\tLoss: 0.572905\n",
      "Mem before-during-after: 45048320 47489536 45048320\n"
     ]
    },
    {
     "name": "stderr",
     "output_type": "stream",
     "text": [
      " 64%|██████████████████████████████████████████▊                        | 6.395424836601285/10 [07:10<04:01, 67.10s/it]"
     ]
    },
    {
     "name": "stdout",
     "output_type": "stream",
     "text": [
      "Train Epoch: 7 [1920/3920 (49%)]\tLoss: 0.702833\n",
      "Mem before-during-after: 45048320 48099840 45048320\n"
     ]
    },
    {
     "name": "stderr",
     "output_type": "stream",
     "text": [
      " 65%|███████████████████████████████████████████▋                       | 6.526143790849651/10 [07:19<03:53, 67.21s/it]"
     ]
    },
    {
     "name": "stdout",
     "output_type": "stream",
     "text": [
      "Train Epoch: 7 [2560/3920 (65%)]\tLoss: 0.824436\n",
      "Mem before-during-after: 45048320 48455680 45048320\n"
     ]
    },
    {
     "name": "stderr",
     "output_type": "stream",
     "text": [
      " 67%|███████████████████████████████████████████▉                      | 6.6568627450980165/10 [07:28<03:48, 68.23s/it]"
     ]
    },
    {
     "name": "stdout",
     "output_type": "stream",
     "text": [
      "Train Epoch: 7 [3200/3920 (82%)]\tLoss: 0.986453\n",
      "Mem before-during-after: 45048320 48486400 45048320\n"
     ]
    },
    {
     "name": "stderr",
     "output_type": "stream",
     "text": [
      " 68%|█████████████████████████████████████████████▍                     | 6.787581699346382/10 [07:36<03:36, 67.38s/it]"
     ]
    },
    {
     "name": "stdout",
     "output_type": "stream",
     "text": [
      "Train Epoch: 7 [3840/3920 (98%)]\tLoss: 0.462726\n",
      "Mem before-during-after: 45048320 48224256 45048320\n"
     ]
    },
    {
     "name": "stderr",
     "output_type": "stream",
     "text": [
      " 70%|██████████████████████████████████████████████▉                    | 6.999999999999976/10 [07:51<03:21, 67.27s/it]"
     ]
    },
    {
     "name": "stdout",
     "output_type": "stream",
     "text": [
      "\n",
      "Test Epoch: 7\tAccuracy: 637/976 (65%)\n",
      "\n"
     ]
    },
    {
     "name": "stderr",
     "output_type": "stream",
     "text": [
      " 70%|██████████████████████████████████████████████▉                    | 7.003267973856185/10 [07:51<03:23, 67.85s/it]"
     ]
    },
    {
     "name": "stdout",
     "output_type": "stream",
     "text": [
      "Train Epoch: 8 [0/3920 (0%)]\tLoss: 0.620126\n",
      "Mem before-during-after: 45047296 48564224 45048320\n"
     ]
    },
    {
     "name": "stderr",
     "output_type": "stream",
     "text": [
      " 71%|███████████████████████████████████████████████▊                   | 7.133986928104551/10 [08:00<03:15, 68.21s/it]"
     ]
    },
    {
     "name": "stdout",
     "output_type": "stream",
     "text": [
      "Train Epoch: 8 [640/3920 (16%)]\tLoss: 1.406471\n",
      "Mem before-during-after: 45048320 48564224 45048320\n"
     ]
    },
    {
     "name": "stderr",
     "output_type": "stream",
     "text": [
      " 73%|████████████████████████████████████████████████▋                  | 7.264705882352916/10 [08:09<03:05, 67.82s/it]"
     ]
    },
    {
     "name": "stdout",
     "output_type": "stream",
     "text": [
      "Train Epoch: 8 [1280/3920 (33%)]\tLoss: 0.777696\n",
      "Mem before-during-after: 45048320 47063552 45048320\n"
     ]
    },
    {
     "name": "stderr",
     "output_type": "stream",
     "text": [
      " 74%|█████████████████████████████████████████████████▌                 | 7.395424836601282/10 [08:18<02:56, 67.75s/it]"
     ]
    },
    {
     "name": "stdout",
     "output_type": "stream",
     "text": [
      "Train Epoch: 8 [1920/3920 (49%)]\tLoss: 1.291991\n",
      "Mem before-during-after: 45048320 48486400 45048320\n"
     ]
    },
    {
     "name": "stderr",
     "output_type": "stream",
     "text": [
      " 75%|██████████████████████████████████████████████████▍                | 7.526143790849647/10 [08:27<02:48, 68.11s/it]"
     ]
    },
    {
     "name": "stdout",
     "output_type": "stream",
     "text": [
      "Train Epoch: 8 [2560/3920 (65%)]\tLoss: 0.458743\n",
      "Mem before-during-after: 45048320 48394240 45048320\n"
     ]
    },
    {
     "name": "stderr",
     "output_type": "stream",
     "text": [
      " 77%|███████████████████████████████████████████████████▎               | 7.656862745098013/10 [08:35<02:38, 67.58s/it]"
     ]
    },
    {
     "name": "stdout",
     "output_type": "stream",
     "text": [
      "Train Epoch: 8 [3200/3920 (82%)]\tLoss: 1.004765\n",
      "Mem before-during-after: 45048320 48394240 45048320\n"
     ]
    },
    {
     "name": "stderr",
     "output_type": "stream",
     "text": [
      " 78%|███████████████████████████████████████████████████▍              | 7.7875816993463784/10 [08:44<02:29, 67.80s/it]"
     ]
    },
    {
     "name": "stdout",
     "output_type": "stream",
     "text": [
      "Train Epoch: 8 [3840/3920 (98%)]\tLoss: 0.869949\n",
      "Mem before-during-after: 45048320 48394240 45048320\n"
     ]
    },
    {
     "name": "stderr",
     "output_type": "stream",
     "text": [
      " 80%|████████████████████████████████████████████████████▊             | 7.9999999999999725/10 [08:59<02:14, 67.06s/it]"
     ]
    },
    {
     "name": "stdout",
     "output_type": "stream",
     "text": [
      "\n",
      "Test Epoch: 8\tAccuracy: 639/976 (65%)\n",
      "\n"
     ]
    },
    {
     "name": "stderr",
     "output_type": "stream",
     "text": [
      " 80%|█████████████████████████████████████████████████████▌             | 8.003267973856182/10 [08:59<02:15, 67.65s/it]"
     ]
    },
    {
     "name": "stdout",
     "output_type": "stream",
     "text": [
      "Train Epoch: 9 [0/3920 (0%)]\tLoss: 0.487371\n",
      "Mem before-during-after: 45047296 47606272 45048320\n"
     ]
    },
    {
     "name": "stderr",
     "output_type": "stream",
     "text": [
      " 81%|██████████████████████████████████████████████████████▍            | 8.133986928104548/10 [09:08<02:06, 67.71s/it]"
     ]
    },
    {
     "name": "stdout",
     "output_type": "stream",
     "text": [
      "Train Epoch: 9 [640/3920 (16%)]\tLoss: 0.987913\n",
      "Mem before-during-after: 45048320 47372800 45048320\n"
     ]
    },
    {
     "name": "stderr",
     "output_type": "stream",
     "text": [
      " 83%|███████████████████████████████████████████████████████▎           | 8.264705882352914/10 [09:17<01:56, 67.27s/it]"
     ]
    },
    {
     "name": "stdout",
     "output_type": "stream",
     "text": [
      "Train Epoch: 9 [1280/3920 (33%)]\tLoss: 0.612516\n",
      "Mem before-during-after: 45048320 48486400 45048320\n"
     ]
    },
    {
     "name": "stderr",
     "output_type": "stream",
     "text": [
      " 84%|█████████████████████████████████████████████████████████           | 8.39542483660128/10 [09:25<01:47, 66.96s/it]"
     ]
    },
    {
     "name": "stdout",
     "output_type": "stream",
     "text": [
      "Train Epoch: 9 [1920/3920 (49%)]\tLoss: 0.331742\n",
      "Mem before-during-after: 45048320 47510016 45048320\n"
     ]
    },
    {
     "name": "stderr",
     "output_type": "stream",
     "text": [
      " 85%|█████████████████████████████████████████████████████████▏         | 8.526143790849645/10 [09:34<01:38, 67.06s/it]"
     ]
    },
    {
     "name": "stdout",
     "output_type": "stream",
     "text": [
      "Train Epoch: 9 [2560/3920 (65%)]\tLoss: 0.625973\n",
      "Mem before-during-after: 45048320 48084992 45048320\n"
     ]
    },
    {
     "name": "stderr",
     "output_type": "stream",
     "text": [
      " 87%|██████████████████████████████████████████████████████████▊         | 8.65686274509801/10 [09:43<01:30, 67.29s/it]"
     ]
    },
    {
     "name": "stdout",
     "output_type": "stream",
     "text": [
      "Train Epoch: 9 [3200/3920 (82%)]\tLoss: 0.235606\n",
      "Mem before-during-after: 45048320 47626752 45048320\n"
     ]
    },
    {
     "name": "stderr",
     "output_type": "stream",
     "text": [
      " 88%|██████████████████████████████████████████████████████████▉        | 8.787581699346376/10 [09:52<01:20, 66.60s/it]"
     ]
    },
    {
     "name": "stdout",
     "output_type": "stream",
     "text": [
      "Train Epoch: 9 [3840/3920 (98%)]\tLoss: 0.519076\n",
      "Mem before-during-after: 45048320 47606272 45048320\n"
     ]
    },
    {
     "name": "stderr",
     "output_type": "stream",
     "text": [
      " 90%|█████████████████████████████████████████████████████████████▏      | 8.99999999999997/10 [10:06<01:06, 66.19s/it]"
     ]
    },
    {
     "name": "stdout",
     "output_type": "stream",
     "text": [
      "\n",
      "Test Epoch: 9\tAccuracy: 650/976 (66%)\n",
      "\n"
     ]
    },
    {
     "name": "stderr",
     "output_type": "stream",
     "text": [
      " 90%|████████████████████████████████████████████████████████████▎      | 9.003267973856179/10 [10:06<01:06, 66.46s/it]"
     ]
    },
    {
     "name": "stdout",
     "output_type": "stream",
     "text": [
      "Train Epoch: 10 [0/3920 (0%)]\tLoss: 0.709640\n",
      "Mem before-during-after: 45047296 47469056 45048320\n"
     ]
    },
    {
     "name": "stderr",
     "output_type": "stream",
     "text": [
      " 91%|█████████████████████████████████████████████████████████████▏     | 9.133986928104544/10 [10:15<00:58, 67.32s/it]"
     ]
    },
    {
     "name": "stdout",
     "output_type": "stream",
     "text": [
      "Train Epoch: 10 [640/3920 (16%)]\tLoss: 0.499709\n",
      "Mem before-during-after: 45048320 48237056 45048320\n"
     ]
    },
    {
     "name": "stderr",
     "output_type": "stream",
     "text": [
      " 93%|██████████████████████████████████████████████████████████████▉     | 9.26470588235291/10 [10:24<00:50, 68.27s/it]"
     ]
    },
    {
     "name": "stdout",
     "output_type": "stream",
     "text": [
      "Train Epoch: 10 [1280/3920 (33%)]\tLoss: 0.828876\n",
      "Mem before-during-after: 45048320 48210432 45048320\n"
     ]
    },
    {
     "name": "stderr",
     "output_type": "stream",
     "text": [
      " 94%|██████████████████████████████████████████████████████████████▉    | 9.395424836601276/10 [10:32<00:40, 66.46s/it]"
     ]
    },
    {
     "name": "stdout",
     "output_type": "stream",
     "text": [
      "Train Epoch: 10 [1920/3920 (49%)]\tLoss: 0.931513\n",
      "Mem before-during-after: 45048320 47647232 45048320\n"
     ]
    },
    {
     "name": "stderr",
     "output_type": "stream",
     "text": [
      " 95%|███████████████████████████████████████████████████████████████▊   | 9.526143790849641/10 [10:41<00:31, 67.13s/it]"
     ]
    },
    {
     "name": "stdout",
     "output_type": "stream",
     "text": [
      "Train Epoch: 10 [2560/3920 (65%)]\tLoss: 0.819510\n",
      "Mem before-during-after: 45048320 47626752 45048320\n"
     ]
    },
    {
     "name": "stderr",
     "output_type": "stream",
     "text": [
      " 97%|████████████████████████████████████████████████████████████████▋  | 9.656862745098007/10 [10:50<00:23, 67.24s/it]"
     ]
    },
    {
     "name": "stdout",
     "output_type": "stream",
     "text": [
      "Train Epoch: 10 [3200/3920 (82%)]\tLoss: 0.975154\n",
      "Mem before-during-after: 45048320 47352320 45048320\n"
     ]
    },
    {
     "name": "stderr",
     "output_type": "stream",
     "text": [
      " 98%|█████████████████████████████████████████████████████████████████▌ | 9.787581699346372/10 [10:59<00:14, 67.81s/it]"
     ]
    },
    {
     "name": "stdout",
     "output_type": "stream",
     "text": [
      "Train Epoch: 10 [3840/3920 (98%)]\tLoss: 0.509461\n",
      "Mem before-during-after: 45048320 47647232 45048320\n"
     ]
    },
    {
     "name": "stderr",
     "output_type": "stream",
     "text": [
      "100%|██████████████████████████████████████████████████████████████████▉| 9.999999999999966/10 [11:13<00:00, 67.34s/it]"
     ]
    },
    {
     "name": "stdout",
     "output_type": "stream",
     "text": [
      "\n",
      "Test Epoch: 10\tAccuracy: 635/976 (65%)\n",
      "\n"
     ]
    },
    {
     "name": "stderr",
     "output_type": "stream",
     "text": [
      "\n"
     ]
    }
   ],
   "source": [
    "log_interval = 40\n",
    "pbar_update = 1 / (len(train_loader) + len(test_loader))\n",
    "model.to(device)\n",
    "with tqdm(total=n_epoch) as pbar:\n",
    "    for epoch in range(1, n_epoch + 1):\n",
    "        train(model, epoch, log_interval, train_losses)\n",
    "        acc = test(model, epoch)\n",
    "        test_accuracy += [acc]\n",
    "        scheduler.step()"
   ]
  },
  {
   "cell_type": "code",
   "execution_count": 65,
   "id": "65dd496a-4c39-44ad-a9d2-8cd29417edd7",
   "metadata": {},
   "outputs": [
    {
     "data": {
      "text/plain": [
       "[<matplotlib.lines.Line2D at 0x7f466ae25eb0>]"
      ]
     },
     "execution_count": 65,
     "metadata": {},
     "output_type": "execute_result"
    },
    {
     "data": {
      "image/png": "[encoded data removed]",
      "text/plain": [
       "<Figure size 640x480 with 1 Axes>"
      ]
     },
     "metadata": {},
     "output_type": "display_data"
    }
   ],
   "source": [
    "plt.plot(train_losses)"
   ]
  },
  {
   "cell_type": "code",
   "execution_count": 66,
   "id": "e069a037-6b76-412a-9644-c43472ba6355",
   "metadata": {},
   "outputs": [
    {
     "data": {
      "text/plain": [
       "[<matplotlib.lines.Line2D at 0x7f466a691bb0>]"
      ]
     },
     "execution_count": 66,
     "metadata": {},
     "output_type": "execute_result"
    },
    {
     "data": {
      "image/png": "[encoded data removed]",
      "text/plain": [
       "<Figure size 640x480 with 1 Axes>"
      ]
     },
     "metadata": {},
     "output_type": "display_data"
    }
   ],
   "source": [
    "plt.plot(test_accuracy)"
   ]
  },
  {
   "cell_type": "code",
   "execution_count": 67,
   "id": "8edb33f9-a93d-4e4c-b478-84d49902f208",
   "metadata": {},
   "outputs": [],
   "source": [
    "from torchmetrics.classification import (\n",
    "    MulticlassAccuracy, MulticlassPrecision, \n",
    "    MulticlassRecall, MulticlassF1Score, \n",
    "    MulticlassConfusionMatrix,\n",
    "    MulticlassAUROC\n",
    ")\n",
    "from torchmetrics import MetricCollection\n",
    "from pprint import pprint\n",
    "\n",
    "@torch.no_grad\n",
    "def report_metrics(model, labels=labels, \n",
    "                   test_loader=test_loader, device=device):\n",
    "    n = len(labels)\n",
    "    metrics = MetricCollection({\n",
    "        'acc_unweighted': MulticlassAccuracy(num_classes=n), \n",
    "        'acc_weighted': MulticlassAccuracy(num_classes=n, average='weighted'), \n",
    "        \n",
    "        'f1s': MulticlassF1Score(num_classes=n),  \n",
    "        'uar': MulticlassRecall(num_classes=n, average='macro'), \n",
    "        'wap': MulticlassPrecision(num_classes=n, average='weighted'),\n",
    "        \n",
    "        'f1s_detail': MulticlassF1Score(num_classes=n, average=None),  \n",
    "        'acc_detail': MulticlassAccuracy(num_classes=n, average=None), \n",
    "        'precision_detail': MulticlassPrecision(num_classes=n, average=None),\n",
    "        'recall_detail': MulticlassRecall(num_classes=n, average=None), \n",
    "        'rocauc': MulticlassAUROC(num_classes=n, average=None, thresholds=None)\n",
    "    }\n",
    "    # , compute_groups=[['acc', 'f1s', 'wap'], ['uap', 'uar']]\n",
    "                              ).to(device)\n",
    "    confusion_matrix = MulticlassConfusionMatrix(num_classes=n).to(device)\n",
    "    model.eval()\n",
    "    correct = 0\n",
    "    total = 0\n",
    "    for data, target in test_loader:\n",
    "        total += len(target)\n",
    "        \n",
    "        data = data.to(device)\n",
    "        target = target.to(device)\n",
    "        output = model(data).squeeze()\n",
    "        del data\n",
    "        gc.collect()\n",
    "        torch.cuda.empty_cache()\n",
    "        probs = F.softmax(output, dim=-1)\n",
    "        pred = probs.argmax(dim=-1)\n",
    "        correct += pred.eq(target).sum().item()\n",
    "        \n",
    "        metrics.update(probs, target)\n",
    "        confusion_matrix.update(pred, target)\n",
    "        \n",
    "        del target\n",
    "        gc.collect()\n",
    "        torch.cuda.empty_cache()\n",
    "        pbar.update(pbar_update)\n",
    "    print(f'Correct: {correct}/{total} ({correct/total:.4f})')\n",
    "    return metrics, confusion_matrix"
   ]
  },
  {
   "cell_type": "code",
   "execution_count": 68,
   "id": "f3ee7d39-db85-4851-a1c9-24bdb51da5cd",
   "metadata": {},
   "outputs": [
    {
     "name": "stdout",
     "output_type": "stream",
     "text": [
      "Correct: 635/976 (0.6506)\n",
      "{'acc_detail': tensor([0.5138, 0.7143, 0.6457, 0.7381], device='cuda:0'),\n",
      " 'acc_unweighted': tensor(0.6530, device='cuda:0'),\n",
      " 'acc_weighted': tensor(0.6506, device='cuda:0'),\n",
      " 'f1s': tensor(0.6542, device='cuda:0'),\n",
      " 'f1s_detail': tensor([0.6468, 0.6418, 0.7193, 0.6088], device='cuda:0'),\n",
      " 'precision_detail': tensor([0.8725, 0.5827, 0.8119, 0.5181], device='cuda:0'),\n",
      " 'recall_detail': tensor([0.5138, 0.7143, 0.6457, 0.7381], device='cuda:0'),\n",
      " 'rocauc': tensor([0.9255, 0.8774, 0.9225, 0.8362], device='cuda:0'),\n",
      " 'uar': tensor(0.6530, device='cuda:0'),\n",
      " 'wap': tensor(0.7008, device='cuda:0')}\n"
     ]
    },
    {
     "data": {
      "text/plain": [
       "tensor([[130,   7,   1, 115],\n",
       "        [  0, 155,  28,  34],\n",
       "        [  0,  66, 164,  24],\n",
       "        [ 19,  38,   9, 186]], device='cuda:0')"
      ]
     },
     "execution_count": 68,
     "metadata": {},
     "output_type": "execute_result"
    }
   ],
   "source": [
    "metrics, confusion_matrix = report_metrics(\n",
    "    model, labels=labels, device=device)\n",
    "pprint(metrics.compute())\n",
    "confusion_matrix.compute()"
   ]
  },
  {
   "cell_type": "code",
   "execution_count": 71,
   "id": "84ea3beb-c4a2-42cf-b14a-78d3b50196b0",
   "metadata": {},
   "outputs": [],
   "source": [
    "model_path = '../models_cremad4_mfcc/cremad_label4_m18mfcc_10epochs.pt' \n",
    "torch.save(model.state_dict(), model_path)"
   ]
  },
  {
   "cell_type": "code",
   "execution_count": 72,
   "id": "60683b6f-2be9-4152-98f1-954a63d6cd47",
   "metadata": {
    "scrolled": true
   },
   "outputs": [
    {
     "name": "stderr",
     "output_type": "stream",
     "text": [
      "  0%|                                                             | 0.0032679738562091504/50 [00:00<1:02:03, 74.48s/it]"
     ]
    },
    {
     "name": "stdout",
     "output_type": "stream",
     "text": [
      "Train Epoch: 11 [0/3920 (0%)]\tLoss: 0.541975\n",
      "Mem before-during-after: 38642176 41257472 44314624\n"
     ]
    },
    {
     "name": "stderr",
     "output_type": "stream",
     "text": [
      "  0%|▏                                                               | 0.1339869281045752/50 [00:09<1:00:31, 72.82s/it]"
     ]
    },
    {
     "name": "stdout",
     "output_type": "stream",
     "text": [
      "Train Epoch: 11 [640/3920 (16%)]\tLoss: 0.887251\n",
      "Mem before-during-after: 44314624 47503360 44314624\n"
     ]
    },
    {
     "name": "stderr",
     "output_type": "stream",
     "text": [
      "  1%|▎                                                              | 0.26470588235294074/50 [00:19<1:00:27, 72.94s/it]"
     ]
    },
    {
     "name": "stdout",
     "output_type": "stream",
     "text": [
      "Train Epoch: 11 [1280/3920 (33%)]\tLoss: 0.400396\n",
      "Mem before-during-after: 44314624 46913536 44314624\n"
     ]
    },
    {
     "name": "stderr",
     "output_type": "stream",
     "text": [
      "  1%|▌                                                               | 0.3954248366013063/50 [00:28<1:00:29, 73.16s/it]"
     ]
    },
    {
     "name": "stdout",
     "output_type": "stream",
     "text": [
      "Train Epoch: 11 [1920/3920 (49%)]\tLoss: 0.427747\n",
      "Mem before-during-after: 44314624 47154688 44314624\n"
     ]
    },
    {
     "name": "stderr",
     "output_type": "stream",
     "text": [
      "  1%|▋                                                               | 0.5261437908496719/50 [00:38<1:00:50, 73.79s/it]"
     ]
    },
    {
     "name": "stdout",
     "output_type": "stream",
     "text": [
      "Train Epoch: 11 [2560/3920 (65%)]\tLoss: 1.206517\n",
      "Mem before-during-after: 44314624 46694400 44314624\n"
     ]
    },
    {
     "name": "stderr",
     "output_type": "stream",
     "text": [
      "  1%|▊                                                                 | 0.6568627450980374/50 [00:48<59:56, 72.88s/it]"
     ]
    },
    {
     "name": "stdout",
     "output_type": "stream",
     "text": [
      "Train Epoch: 11 [3200/3920 (82%)]\tLoss: 0.589487\n",
      "Mem before-during-after: 44314624 47582720 44314624\n"
     ]
    },
    {
     "name": "stderr",
     "output_type": "stream",
     "text": [
      "  2%|█                                                                  | 0.787581699346403/50 [00:57<59:26, 72.48s/it]"
     ]
    },
    {
     "name": "stdout",
     "output_type": "stream",
     "text": [
      "Train Epoch: 11 [3840/3920 (98%)]\tLoss: 0.769257\n",
      "Mem before-during-after: 44314624 46714880 44314624\n"
     ]
    },
    {
     "name": "stderr",
     "output_type": "stream",
     "text": [
      "  2%|█▎                                                                 | 0.999999999999997/50 [01:12<58:10, 71.23s/it]"
     ]
    },
    {
     "name": "stdout",
     "output_type": "stream",
     "text": [
      "\n",
      "Test Epoch: 11\tAccuracy: 653/976 (67%)\n",
      "\n",
      "saved model: ../models_cremad4_mfcc/cremad_label4_m18mfcc_best_11epoch.pt\n"
     ]
    },
    {
     "name": "stderr",
     "output_type": "stream",
     "text": [
      "  2%|█▎                                                                | 1.0032679738562063/50 [01:13<59:02, 72.31s/it]"
     ]
    },
    {
     "name": "stdout",
     "output_type": "stream",
     "text": [
      "Train Epoch: 12 [0/3920 (0%)]\tLoss: 0.689700\n",
      "Mem before-during-after: 44313600 47190016 44314624\n"
     ]
    },
    {
     "name": "stderr",
     "output_type": "stream",
     "text": [
      "  2%|█▍                                                                | 1.1339869281045718/50 [01:22<58:52, 72.29s/it]"
     ]
    },
    {
     "name": "stdout",
     "output_type": "stream",
     "text": [
      "Train Epoch: 12 [640/3920 (16%)]\tLoss: 0.579270\n",
      "Mem before-during-after: 44314624 47830528 44314624\n"
     ]
    },
    {
     "name": "stderr",
     "output_type": "stream",
     "text": [
      "  3%|█▌                                                              | 1.2647058823529373/50 [01:32<1:00:09, 74.07s/it]"
     ]
    },
    {
     "name": "stdout",
     "output_type": "stream",
     "text": [
      "Train Epoch: 12 [1280/3920 (33%)]\tLoss: 0.624853\n",
      "Mem before-during-after: 44314624 47459840 44314624\n"
     ]
    },
    {
     "name": "stderr",
     "output_type": "stream",
     "text": [
      "  3%|█▊                                                                 | 1.395424836601303/50 [01:41<59:24, 73.33s/it]"
     ]
    },
    {
     "name": "stdout",
     "output_type": "stream",
     "text": [
      "Train Epoch: 12 [1920/3920 (49%)]\tLoss: 0.660604\n",
      "Mem before-during-after: 44314624 47407104 44314624\n"
     ]
    },
    {
     "name": "stderr",
     "output_type": "stream",
     "text": [
      "  3%|██                                                                | 1.5261437908496684/50 [01:51<58:50, 72.84s/it]"
     ]
    },
    {
     "name": "stdout",
     "output_type": "stream",
     "text": [
      "Train Epoch: 12 [2560/3920 (65%)]\tLoss: 0.516156\n",
      "Mem before-during-after: 44314624 46598144 44314624\n"
     ]
    },
    {
     "name": "stderr",
     "output_type": "stream",
     "text": [
      "  3%|██▏                                                                | 1.656862745098034/50 [02:01<59:10, 73.45s/it]"
     ]
    },
    {
     "name": "stdout",
     "output_type": "stream",
     "text": [
      "Train Epoch: 12 [3200/3920 (82%)]\tLoss: 0.816909\n",
      "Mem before-during-after: 44314624 47721984 44314624\n"
     ]
    },
    {
     "name": "stderr",
     "output_type": "stream",
     "text": [
      "  4%|██▎                                                               | 1.7875816993463995/50 [02:10<58:59, 73.42s/it]"
     ]
    },
    {
     "name": "stdout",
     "output_type": "stream",
     "text": [
      "Train Epoch: 12 [3840/3920 (98%)]\tLoss: 0.567581\n",
      "Mem before-during-after: 44314624 47721984 44314624\n"
     ]
    },
    {
     "name": "stderr",
     "output_type": "stream",
     "text": [
      "  4%|██▋                                                               | 1.9999999999999936/50 [02:26<59:11, 73.99s/it]"
     ]
    },
    {
     "name": "stdout",
     "output_type": "stream",
     "text": [
      "\n",
      "Test Epoch: 12\tAccuracy: 656/976 (67%)\n",
      "\n",
      "saved model: ../models_cremad4_mfcc/cremad_label4_m18mfcc_best_12epoch.pt\n"
     ]
    },
    {
     "name": "stderr",
     "output_type": "stream",
     "text": [
      "  4%|██▋                                                                | 2.003267973856203/50 [02:26<59:20, 74.18s/it]"
     ]
    },
    {
     "name": "stdout",
     "output_type": "stream",
     "text": [
      "Train Epoch: 13 [0/3920 (0%)]\tLoss: 0.520457\n",
      "Mem before-during-after: 44313600 47490560 44314624\n"
     ]
    },
    {
     "name": "stderr",
     "output_type": "stream",
     "text": [
      "  4%|██▊                                                               | 2.1339869281045685/50 [02:36<58:58, 73.92s/it]"
     ]
    },
    {
     "name": "stdout",
     "output_type": "stream",
     "text": [
      "Train Epoch: 13 [640/3920 (16%)]\tLoss: 0.663793\n",
      "Mem before-during-after: 44314624 47429120 44314624\n"
     ]
    },
    {
     "name": "stderr",
     "output_type": "stream",
     "text": [
      "  5%|███                                                                | 2.264705882352934/50 [02:45<58:10, 73.11s/it]"
     ]
    },
    {
     "name": "stdout",
     "output_type": "stream",
     "text": [
      "Train Epoch: 13 [1280/3920 (33%)]\tLoss: 0.539325\n",
      "Mem before-during-after: 44314624 47783424 44314624\n"
     ]
    },
    {
     "name": "stderr",
     "output_type": "stream",
     "text": [
      "  5%|███▏                                                              | 2.3954248366012996/50 [02:55<58:05, 73.22s/it]"
     ]
    },
    {
     "name": "stdout",
     "output_type": "stream",
     "text": [
      "Train Epoch: 13 [1920/3920 (49%)]\tLoss: 0.539106\n",
      "Mem before-during-after: 44314624 47071232 44314624\n"
     ]
    },
    {
     "name": "stderr",
     "output_type": "stream",
     "text": [
      "  5%|███▍                                                               | 2.526143790849665/50 [03:04<57:40, 72.89s/it]"
     ]
    },
    {
     "name": "stdout",
     "output_type": "stream",
     "text": [
      "Train Epoch: 13 [2560/3920 (65%)]\tLoss: 0.309677\n",
      "Mem before-during-after: 44314624 46755840 44314624\n"
     ]
    },
    {
     "name": "stderr",
     "output_type": "stream",
     "text": [
      "  5%|███▌                                                              | 2.6568627450980307/50 [03:14<57:15, 72.57s/it]"
     ]
    },
    {
     "name": "stdout",
     "output_type": "stream",
     "text": [
      "Train Epoch: 13 [3200/3920 (82%)]\tLoss: 0.414046\n",
      "Mem before-during-after: 44314624 46796800 44314624\n"
     ]
    },
    {
     "name": "stderr",
     "output_type": "stream",
     "text": [
      "  6%|███▋                                                               | 2.787581699346396/50 [03:23<57:27, 73.03s/it]"
     ]
    },
    {
     "name": "stdout",
     "output_type": "stream",
     "text": [
      "Train Epoch: 13 [3840/3920 (98%)]\tLoss: 0.358860\n",
      "Mem before-during-after: 44314624 47660544 44314624\n"
     ]
    },
    {
     "name": "stderr",
     "output_type": "stream",
     "text": [
      "  6%|███▉                                                              | 2.9999999999999902/50 [03:39<56:33, 72.21s/it]"
     ]
    },
    {
     "name": "stdout",
     "output_type": "stream",
     "text": [
      "\n",
      "Test Epoch: 13\tAccuracy: 658/976 (67%)\n",
      "\n",
      "saved model: ../models_cremad4_mfcc/cremad_label4_m18mfcc_best_13epoch.pt\n"
     ]
    },
    {
     "name": "stderr",
     "output_type": "stream",
     "text": [
      "  6%|███▉                                                              | 3.0032679738561994/50 [03:39<57:06, 72.91s/it]"
     ]
    },
    {
     "name": "stdout",
     "output_type": "stream",
     "text": [
      "Train Epoch: 14 [0/3920 (0%)]\tLoss: 0.511011\n",
      "Mem before-during-after: 44313600 47691264 44314624\n"
     ]
    },
    {
     "name": "stderr",
     "output_type": "stream",
     "text": [
      "  6%|████▏                                                              | 3.133986928104565/50 [03:49<58:29, 74.88s/it]"
     ]
    },
    {
     "name": "stdout",
     "output_type": "stream",
     "text": [
      "Train Epoch: 14 [640/3920 (16%)]\tLoss: 0.707525\n",
      "Mem before-during-after: 44314624 47582720 44314624\n"
     ]
    },
    {
     "name": "stderr",
     "output_type": "stream",
     "text": [
      "  7%|████▎                                                             | 3.2647058823529305/50 [03:58<57:20, 73.62s/it]"
     ]
    },
    {
     "name": "stdout",
     "output_type": "stream",
     "text": [
      "Train Epoch: 14 [1280/3920 (33%)]\tLoss: 0.515298\n",
      "Mem before-during-after: 44314624 46694400 44314624\n"
     ]
    },
    {
     "name": "stderr",
     "output_type": "stream",
     "text": [
      "  7%|████▌                                                              | 3.395424836601296/50 [04:08<57:07, 73.53s/it]"
     ]
    },
    {
     "name": "stdout",
     "output_type": "stream",
     "text": [
      "Train Epoch: 14 [1920/3920 (49%)]\tLoss: 0.729087\n",
      "Mem before-during-after: 44314624 46893056 44314624\n"
     ]
    },
    {
     "name": "stderr",
     "output_type": "stream",
     "text": [
      "  7%|████▋                                                             | 3.5261437908496616/50 [04:18<57:02, 73.64s/it]"
     ]
    },
    {
     "name": "stdout",
     "output_type": "stream",
     "text": [
      "Train Epoch: 14 [2560/3920 (65%)]\tLoss: 0.427532\n",
      "Mem before-during-after: 44314624 46577664 44314624\n"
     ]
    },
    {
     "name": "stderr",
     "output_type": "stream",
     "text": [
      "  7%|████▉                                                              | 3.656862745098027/50 [04:27<56:39, 73.36s/it]"
     ]
    },
    {
     "name": "stdout",
     "output_type": "stream",
     "text": [
      "Train Epoch: 14 [3200/3920 (82%)]\tLoss: 0.407802\n",
      "Mem before-during-after: 44314624 47861248 44314624\n"
     ]
    },
    {
     "name": "stderr",
     "output_type": "stream",
     "text": [
      "  8%|████▉                                                             | 3.7875816993463927/50 [04:37<56:23, 73.22s/it]"
     ]
    },
    {
     "name": "stdout",
     "output_type": "stream",
     "text": [
      "Train Epoch: 14 [3840/3920 (98%)]\tLoss: 0.522997\n",
      "Mem before-during-after: 44314624 46893056 44314624\n"
     ]
    },
    {
     "name": "stderr",
     "output_type": "stream",
     "text": [
      "  8%|█████▎                                                            | 3.9999999999999867/50 [04:52<54:47, 71.48s/it]"
     ]
    },
    {
     "name": "stdout",
     "output_type": "stream",
     "text": [
      "\n",
      "Test Epoch: 14\tAccuracy: 672/976 (69%)\n",
      "\n",
      "saved model: ../models_cremad4_mfcc/cremad_label4_m18mfcc_best_14epoch.pt\n"
     ]
    },
    {
     "name": "stderr",
     "output_type": "stream",
     "text": [
      "  8%|█████▎                                                             | 4.003267973856196/50 [04:52<55:37, 72.55s/it]"
     ]
    },
    {
     "name": "stdout",
     "output_type": "stream",
     "text": [
      "Train Epoch: 15 [0/3920 (0%)]\tLoss: 0.426921\n",
      "Mem before-during-after: 44313600 47783424 44314624\n"
     ]
    },
    {
     "name": "stderr",
     "output_type": "stream",
     "text": [
      "  8%|█████▌                                                             | 4.133986928104561/50 [05:02<56:46, 74.26s/it]"
     ]
    },
    {
     "name": "stdout",
     "output_type": "stream",
     "text": [
      "Train Epoch: 15 [640/3920 (16%)]\tLoss: 0.560481\n",
      "Mem before-during-after: 44314624 46618624 44314624\n"
     ]
    },
    {
     "name": "stderr",
     "output_type": "stream",
     "text": [
      "  9%|█████▋                                                             | 4.264705882352927/50 [05:12<55:52, 73.30s/it]"
     ]
    },
    {
     "name": "stdout",
     "output_type": "stream",
     "text": [
      "Train Epoch: 15 [1280/3920 (33%)]\tLoss: 0.385672\n",
      "Mem before-during-after: 44314624 46796800 44314624\n"
     ]
    },
    {
     "name": "stderr",
     "output_type": "stream",
     "text": [
      "  9%|█████▊                                                            | 4.3954248366012925/50 [05:21<57:00, 75.01s/it]"
     ]
    },
    {
     "name": "stdout",
     "output_type": "stream",
     "text": [
      "Train Epoch: 15 [1920/3920 (49%)]\tLoss: 0.280954\n",
      "Mem before-during-after: 44314624 47429120 44314624\n"
     ]
    },
    {
     "name": "stderr",
     "output_type": "stream",
     "text": [
      "  9%|██████                                                             | 4.526143790849658/50 [05:31<55:01, 72.59s/it]"
     ]
    },
    {
     "name": "stdout",
     "output_type": "stream",
     "text": [
      "Train Epoch: 15 [2560/3920 (65%)]\tLoss: 0.334803\n",
      "Mem before-during-after: 44314624 47955968 44314624\n"
     ]
    },
    {
     "name": "stderr",
     "output_type": "stream",
     "text": [
      "  9%|██████▏                                                            | 4.656862745098024/50 [05:41<54:43, 72.41s/it]"
     ]
    },
    {
     "name": "stdout",
     "output_type": "stream",
     "text": [
      "Train Epoch: 15 [3200/3920 (82%)]\tLoss: 0.555135\n",
      "Mem before-during-after: 44314624 47490560 44314624\n"
     ]
    },
    {
     "name": "stderr",
     "output_type": "stream",
     "text": [
      " 10%|██████▍                                                            | 4.787581699346389/50 [05:50<54:56, 72.92s/it]"
     ]
    },
    {
     "name": "stdout",
     "output_type": "stream",
     "text": [
      "Train Epoch: 15 [3840/3920 (98%)]\tLoss: 0.519798\n",
      "Mem before-during-after: 44314624 47564800 44314624\n"
     ]
    },
    {
     "name": "stderr",
     "output_type": "stream",
     "text": [
      " 10%|██████▋                                                            | 4.999999999999983/50 [06:06<53:56, 71.92s/it]"
     ]
    },
    {
     "name": "stdout",
     "output_type": "stream",
     "text": [
      "\n",
      "Test Epoch: 15\tAccuracy: 672/976 (69%)\n",
      "\n"
     ]
    },
    {
     "name": "stderr",
     "output_type": "stream",
     "text": [
      " 10%|██████▋                                                            | 5.003267973856192/50 [06:06<54:11, 72.25s/it]"
     ]
    },
    {
     "name": "stdout",
     "output_type": "stream",
     "text": [
      "Train Epoch: 16 [0/3920 (0%)]\tLoss: 0.414616\n",
      "Mem before-during-after: 44313600 46694400 44314624\n"
     ]
    },
    {
     "name": "stderr",
     "output_type": "stream",
     "text": [
      " 10%|██████▉                                                            | 5.133986928104558/50 [06:15<54:42, 73.16s/it]"
     ]
    },
    {
     "name": "stdout",
     "output_type": "stream",
     "text": [
      "Train Epoch: 16 [640/3920 (16%)]\tLoss: 0.538946\n",
      "Mem before-during-after: 44314624 46913536 44314624\n"
     ]
    },
    {
     "name": "stderr",
     "output_type": "stream",
     "text": [
      " 11%|███████                                                            | 5.264705882352923/50 [06:25<54:33, 73.17s/it]"
     ]
    },
    {
     "name": "stdout",
     "output_type": "stream",
     "text": [
      "Train Epoch: 16 [1280/3920 (33%)]\tLoss: 0.255315\n",
      "Mem before-during-after: 44314624 47154688 44314624\n"
     ]
    },
    {
     "name": "stderr",
     "output_type": "stream",
     "text": [
      " 11%|███████▏                                                           | 5.395424836601289/50 [06:35<54:28, 73.28s/it]"
     ]
    },
    {
     "name": "stdout",
     "output_type": "stream",
     "text": [
      "Train Epoch: 16 [1920/3920 (49%)]\tLoss: 0.211747\n",
      "Mem before-during-after: 44314624 47783424 44314624\n"
     ]
    },
    {
     "name": "stderr",
     "output_type": "stream",
     "text": [
      " 11%|███████▎                                                          | 5.5261437908496545/50 [06:44<56:09, 75.77s/it]"
     ]
    },
    {
     "name": "stdout",
     "output_type": "stream",
     "text": [
      "Train Epoch: 16 [2560/3920 (65%)]\tLoss: 0.790367\n",
      "Mem before-during-after: 44314624 47521280 44314624\n"
     ]
    },
    {
     "name": "stderr",
     "output_type": "stream",
     "text": [
      " 11%|███████▋                                                            | 5.65686274509802/50 [06:54<53:30, 72.40s/it]"
     ]
    },
    {
     "name": "stdout",
     "output_type": "stream",
     "text": [
      "Train Epoch: 16 [3200/3920 (82%)]\tLoss: 0.424181\n",
      "Mem before-during-after: 44314624 47861248 44314624\n"
     ]
    },
    {
     "name": "stderr",
     "output_type": "stream",
     "text": [
      " 12%|███████▋                                                          | 5.7875816993463856/50 [07:03<53:30, 72.61s/it]"
     ]
    },
    {
     "name": "stdout",
     "output_type": "stream",
     "text": [
      "Train Epoch: 16 [3840/3920 (98%)]\tLoss: 0.778874\n",
      "Mem before-during-after: 44314624 47482880 44314624\n"
     ]
    },
    {
     "name": "stderr",
     "output_type": "stream",
     "text": [
      " 12%|████████▏                                                           | 5.99999999999998/50 [07:19<52:49, 72.04s/it]"
     ]
    },
    {
     "name": "stdout",
     "output_type": "stream",
     "text": [
      "\n",
      "Test Epoch: 16\tAccuracy: 664/976 (68%)\n",
      "\n"
     ]
    },
    {
     "name": "stderr",
     "output_type": "stream",
     "text": [
      " 12%|████████                                                           | 6.003267973856189/50 [07:19<53:03, 72.36s/it]"
     ]
    },
    {
     "name": "stdout",
     "output_type": "stream",
     "text": [
      "Train Epoch: 17 [0/3920 (0%)]\tLoss: 0.273227\n",
      "Mem before-during-after: 44313600 46872576 44314624\n"
     ]
    },
    {
     "name": "stderr",
     "output_type": "stream",
     "text": [
      " 12%|████████▏                                                          | 6.133986928104554/50 [07:28<53:28, 73.15s/it]"
     ]
    },
    {
     "name": "stdout",
     "output_type": "stream",
     "text": [
      "Train Epoch: 17 [640/3920 (16%)]\tLoss: 0.341648\n",
      "Mem before-during-after: 44314624 46872576 44314624\n"
     ]
    },
    {
     "name": "stderr",
     "output_type": "stream",
     "text": [
      " 13%|████████▌                                                           | 6.26470588235292/50 [07:38<53:06, 72.85s/it]"
     ]
    },
    {
     "name": "stdout",
     "output_type": "stream",
     "text": [
      "Train Epoch: 17 [1280/3920 (33%)]\tLoss: 0.409648\n",
      "Mem before-during-after: 44314624 46694400 44314624\n"
     ]
    },
    {
     "name": "stderr",
     "output_type": "stream",
     "text": [
      " 13%|████████▌                                                          | 6.395424836601285/50 [07:48<53:10, 73.18s/it]"
     ]
    },
    {
     "name": "stdout",
     "output_type": "stream",
     "text": [
      "Train Epoch: 17 [1920/3920 (49%)]\tLoss: 0.697451\n",
      "Mem before-during-after: 44314624 47582720 44314624\n"
     ]
    },
    {
     "name": "stderr",
     "output_type": "stream",
     "text": [
      " 13%|████████▋                                                          | 6.526143790849651/50 [07:57<52:31, 72.50s/it]"
     ]
    },
    {
     "name": "stdout",
     "output_type": "stream",
     "text": [
      "Train Epoch: 17 [2560/3920 (65%)]\tLoss: 0.323851\n",
      "Mem before-during-after: 44314624 47830528 44314624\n"
     ]
    },
    {
     "name": "stderr",
     "output_type": "stream",
     "text": [
      " 13%|████████▊                                                         | 6.6568627450980165/50 [08:07<52:16, 72.35s/it]"
     ]
    },
    {
     "name": "stdout",
     "output_type": "stream",
     "text": [
      "Train Epoch: 17 [3200/3920 (82%)]\tLoss: 0.630313\n",
      "Mem before-during-after: 44314624 48017408 44314624\n"
     ]
    },
    {
     "name": "stderr",
     "output_type": "stream",
     "text": [
      " 14%|█████████                                                          | 6.787581699346382/50 [08:16<52:10, 72.45s/it]"
     ]
    },
    {
     "name": "stdout",
     "output_type": "stream",
     "text": [
      "Train Epoch: 17 [3840/3920 (98%)]\tLoss: 0.514152\n",
      "Mem before-during-after: 44314624 47564800 44314624\n"
     ]
    },
    {
     "name": "stderr",
     "output_type": "stream",
     "text": [
      " 14%|█████████▍                                                         | 6.999999999999976/50 [08:31<51:31, 71.89s/it]"
     ]
    },
    {
     "name": "stdout",
     "output_type": "stream",
     "text": [
      "\n",
      "Test Epoch: 17\tAccuracy: 668/976 (68%)\n",
      "\n"
     ]
    },
    {
     "name": "stderr",
     "output_type": "stream",
     "text": [
      " 14%|█████████▍                                                         | 7.003267973856185/50 [08:32<51:51, 72.36s/it]"
     ]
    },
    {
     "name": "stdout",
     "output_type": "stream",
     "text": [
      "Train Epoch: 18 [0/3920 (0%)]\tLoss: 0.401292\n",
      "Mem before-during-after: 44313600 47582720 44314624\n"
     ]
    },
    {
     "name": "stderr",
     "output_type": "stream",
     "text": [
      " 14%|█████████▌                                                         | 7.133986928104551/50 [08:41<53:11, 74.46s/it]"
     ]
    },
    {
     "name": "stdout",
     "output_type": "stream",
     "text": [
      "Train Epoch: 18 [640/3920 (16%)]\tLoss: 0.283366\n",
      "Mem before-during-after: 44314624 46557184 44314624\n"
     ]
    },
    {
     "name": "stderr",
     "output_type": "stream",
     "text": [
      " 15%|█████████▋                                                         | 7.264705882352916/50 [08:51<52:00, 73.02s/it]"
     ]
    },
    {
     "name": "stdout",
     "output_type": "stream",
     "text": [
      "Train Epoch: 18 [1280/3920 (33%)]\tLoss: 0.473732\n",
      "Mem before-during-after: 44314624 47660544 44314624\n"
     ]
    },
    {
     "name": "stderr",
     "output_type": "stream",
     "text": [
      " 15%|█████████▉                                                         | 7.395424836601282/50 [09:00<51:51, 73.03s/it]"
     ]
    },
    {
     "name": "stdout",
     "output_type": "stream",
     "text": [
      "Train Epoch: 18 [1920/3920 (49%)]\tLoss: 0.267495\n",
      "Mem before-during-after: 44314624 46893056 44314624\n"
     ]
    },
    {
     "name": "stderr",
     "output_type": "stream",
     "text": [
      " 15%|██████████                                                         | 7.526143790849647/50 [09:10<51:49, 73.21s/it]"
     ]
    },
    {
     "name": "stdout",
     "output_type": "stream",
     "text": [
      "Train Epoch: 18 [2560/3920 (65%)]\tLoss: 0.247935\n",
      "Mem before-during-after: 44314624 47721984 44314624\n"
     ]
    },
    {
     "name": "stderr",
     "output_type": "stream",
     "text": [
      " 15%|██████████▎                                                        | 7.656862745098013/50 [09:20<51:41, 73.25s/it]"
     ]
    },
    {
     "name": "stdout",
     "output_type": "stream",
     "text": [
      "Train Epoch: 18 [3200/3920 (82%)]\tLoss: 0.720326\n",
      "Mem before-during-after: 44314624 47490560 44314624\n"
     ]
    },
    {
     "name": "stderr",
     "output_type": "stream",
     "text": [
      " 16%|██████████▎                                                       | 7.7875816993463784/50 [09:29<51:24, 73.06s/it]"
     ]
    },
    {
     "name": "stdout",
     "output_type": "stream",
     "text": [
      "Train Epoch: 18 [3840/3920 (98%)]\tLoss: 0.307353\n",
      "Mem before-during-after: 44314624 47482880 44314624\n"
     ]
    },
    {
     "name": "stderr",
     "output_type": "stream",
     "text": [
      " 16%|██████████▌                                                       | 7.9999999999999725/50 [09:45<50:32, 72.20s/it]"
     ]
    },
    {
     "name": "stdout",
     "output_type": "stream",
     "text": [
      "\n",
      "Test Epoch: 18\tAccuracy: 670/976 (68%)\n",
      "\n"
     ]
    },
    {
     "name": "stderr",
     "output_type": "stream",
     "text": [
      " 16%|██████████▋                                                        | 8.003267973856182/50 [09:45<50:43, 72.48s/it]"
     ]
    },
    {
     "name": "stdout",
     "output_type": "stream",
     "text": [
      "Train Epoch: 19 [0/3920 (0%)]\tLoss: 0.225064\n",
      "Mem before-during-after: 44313600 47752704 44314624\n"
     ]
    },
    {
     "name": "stderr",
     "output_type": "stream",
     "text": [
      " 16%|██████████▉                                                        | 8.133986928104548/50 [09:54<51:01, 73.12s/it]"
     ]
    },
    {
     "name": "stdout",
     "output_type": "stream",
     "text": [
      "Train Epoch: 19 [640/3920 (16%)]\tLoss: 0.575934\n",
      "Mem before-during-after: 44314624 47660544 44314624\n"
     ]
    },
    {
     "name": "stderr",
     "output_type": "stream",
     "text": [
      " 17%|███████████                                                        | 8.264705882352914/50 [10:04<50:54, 73.20s/it]"
     ]
    },
    {
     "name": "stdout",
     "output_type": "stream",
     "text": [
      "Train Epoch: 19 [1280/3920 (33%)]\tLoss: 0.206233\n",
      "Mem before-during-after: 44314624 47521280 44314624\n"
     ]
    },
    {
     "name": "stderr",
     "output_type": "stream",
     "text": [
      " 17%|███████████▍                                                        | 8.39542483660128/50 [10:13<50:39, 73.07s/it]"
     ]
    },
    {
     "name": "stdout",
     "output_type": "stream",
     "text": [
      "Train Epoch: 19 [1920/3920 (49%)]\tLoss: 0.371350\n",
      "Mem before-during-after: 44314624 47861248 44314624\n"
     ]
    },
    {
     "name": "stderr",
     "output_type": "stream",
     "text": [
      " 17%|███████████▍                                                       | 8.526143790849645/50 [10:23<50:32, 73.13s/it]"
     ]
    },
    {
     "name": "stdout",
     "output_type": "stream",
     "text": [
      "Train Epoch: 19 [2560/3920 (65%)]\tLoss: 0.231132\n",
      "Mem before-during-after: 44314624 47861248 44314624\n"
     ]
    },
    {
     "name": "stderr",
     "output_type": "stream",
     "text": [
      " 17%|███████████▊                                                        | 8.65686274509801/50 [10:33<50:18, 73.02s/it]"
     ]
    },
    {
     "name": "stdout",
     "output_type": "stream",
     "text": [
      "Train Epoch: 19 [3200/3920 (82%)]\tLoss: 0.778323\n",
      "Mem before-during-after: 44314624 47154688 44314624\n"
     ]
    },
    {
     "name": "stderr",
     "output_type": "stream",
     "text": [
      " 18%|███████████▊                                                       | 8.787581699346376/50 [10:42<50:12, 73.10s/it]"
     ]
    },
    {
     "name": "stdout",
     "output_type": "stream",
     "text": [
      "Train Epoch: 19 [3840/3920 (98%)]\tLoss: 0.574897\n",
      "Mem before-during-after: 44314624 47861248 44314624\n"
     ]
    },
    {
     "name": "stderr",
     "output_type": "stream",
     "text": [
      " 18%|████████████▏                                                       | 8.99999999999997/50 [10:57<49:22, 72.26s/it]"
     ]
    },
    {
     "name": "stdout",
     "output_type": "stream",
     "text": [
      "\n",
      "Test Epoch: 19\tAccuracy: 671/976 (68%)\n",
      "\n"
     ]
    },
    {
     "name": "stderr",
     "output_type": "stream",
     "text": [
      " 18%|████████████                                                       | 9.003267973856179/50 [10:58<49:39, 72.67s/it]"
     ]
    },
    {
     "name": "stdout",
     "output_type": "stream",
     "text": [
      "Train Epoch: 20 [0/3920 (0%)]\tLoss: 0.488663\n",
      "Mem before-during-after: 44313600 47830528 44314624\n"
     ]
    },
    {
     "name": "stderr",
     "output_type": "stream",
     "text": [
      " 18%|████████████▏                                                      | 9.133986928104544/50 [11:07<49:49, 73.16s/it]"
     ]
    },
    {
     "name": "stdout",
     "output_type": "stream",
     "text": [
      "Train Epoch: 20 [640/3920 (16%)]\tLoss: 0.438303\n",
      "Mem before-during-after: 44314624 46913536 44314624\n"
     ]
    },
    {
     "name": "stderr",
     "output_type": "stream",
     "text": [
      " 19%|████████████▌                                                       | 9.26470588235291/50 [11:17<49:38, 73.13s/it]"
     ]
    },
    {
     "name": "stdout",
     "output_type": "stream",
     "text": [
      "Train Epoch: 20 [1280/3920 (33%)]\tLoss: 0.317725\n",
      "Mem before-during-after: 44314624 47154688 44314624\n"
     ]
    },
    {
     "name": "stderr",
     "output_type": "stream",
     "text": [
      " 19%|████████████▌                                                      | 9.395424836601276/50 [11:26<49:29, 73.12s/it]"
     ]
    },
    {
     "name": "stdout",
     "output_type": "stream",
     "text": [
      "Train Epoch: 20 [1920/3920 (49%)]\tLoss: 0.334760\n",
      "Mem before-during-after: 44314624 47369728 44314624\n"
     ]
    },
    {
     "name": "stderr",
     "output_type": "stream",
     "text": [
      " 19%|████████████▊                                                      | 9.526143790849641/50 [11:36<49:51, 73.92s/it]"
     ]
    },
    {
     "name": "stdout",
     "output_type": "stream",
     "text": [
      "Train Epoch: 20 [2560/3920 (65%)]\tLoss: 0.219115\n",
      "Mem before-during-after: 44314624 46755840 44314624\n"
     ]
    },
    {
     "name": "stderr",
     "output_type": "stream",
     "text": [
      " 19%|████████████▉                                                      | 9.656862745098007/50 [11:46<49:14, 73.24s/it]"
     ]
    },
    {
     "name": "stdout",
     "output_type": "stream",
     "text": [
      "Train Epoch: 20 [3200/3920 (82%)]\tLoss: 0.674800\n",
      "Mem before-during-after: 44314624 47691264 44314624\n"
     ]
    },
    {
     "name": "stderr",
     "output_type": "stream",
     "text": [
      " 20%|█████████████                                                      | 9.787581699346372/50 [11:55<49:01, 73.14s/it]"
     ]
    },
    {
     "name": "stdout",
     "output_type": "stream",
     "text": [
      "Train Epoch: 20 [3840/3920 (98%)]\tLoss: 0.809356\n",
      "Mem before-during-after: 44314624 46714880 44314624\n"
     ]
    },
    {
     "name": "stderr",
     "output_type": "stream",
     "text": [
      " 20%|█████████████▍                                                     | 9.999999999999966/50 [12:11<48:06, 72.16s/it]"
     ]
    },
    {
     "name": "stdout",
     "output_type": "stream",
     "text": [
      "\n",
      "Test Epoch: 20\tAccuracy: 668/976 (68%)\n",
      "\n"
     ]
    },
    {
     "name": "stderr",
     "output_type": "stream",
     "text": [
      " 20%|█████████████▏                                                    | 10.003267973856175/50 [12:11<48:22, 72.58s/it]"
     ]
    },
    {
     "name": "stdout",
     "output_type": "stream",
     "text": [
      "Train Epoch: 21 [0/3920 (0%)]\tLoss: 0.286334\n",
      "Mem before-during-after: 44313600 46755840 44314624\n"
     ]
    },
    {
     "name": "stderr",
     "output_type": "stream",
     "text": [
      " 20%|█████████████▍                                                    | 10.133986928104541/50 [12:20<48:25, 72.89s/it]"
     ]
    },
    {
     "name": "stdout",
     "output_type": "stream",
     "text": [
      "Train Epoch: 21 [640/3920 (16%)]\tLoss: 0.563386\n",
      "Mem before-during-after: 44314624 47482880 44314624\n"
     ]
    },
    {
     "name": "stderr",
     "output_type": "stream",
     "text": [
      " 21%|█████████████▌                                                    | 10.264705882352906/50 [12:30<48:33, 73.31s/it]"
     ]
    },
    {
     "name": "stdout",
     "output_type": "stream",
     "text": [
      "Train Epoch: 21 [1280/3920 (33%)]\tLoss: 0.217857\n",
      "Mem before-during-after: 44314624 47427584 44314624\n"
     ]
    },
    {
     "name": "stderr",
     "output_type": "stream",
     "text": [
      " 21%|█████████████▋                                                    | 10.395424836601272/50 [12:39<48:34, 73.58s/it]"
     ]
    },
    {
     "name": "stdout",
     "output_type": "stream",
     "text": [
      "Train Epoch: 21 [1920/3920 (49%)]\tLoss: 0.350594\n",
      "Mem before-during-after: 44314624 46714880 44314624\n"
     ]
    },
    {
     "name": "stderr",
     "output_type": "stream",
     "text": [
      " 21%|█████████████▉                                                    | 10.526143790849638/50 [12:49<48:06, 73.12s/it]"
     ]
    },
    {
     "name": "stdout",
     "output_type": "stream",
     "text": [
      "Train Epoch: 21 [2560/3920 (65%)]\tLoss: 0.261662\n",
      "Mem before-during-after: 44314624 47629824 44314624\n"
     ]
    },
    {
     "name": "stderr",
     "output_type": "stream",
     "text": [
      " 21%|██████████████                                                    | 10.656862745098003/50 [12:59<47:57, 73.15s/it]"
     ]
    },
    {
     "name": "stdout",
     "output_type": "stream",
     "text": [
      "Train Epoch: 21 [3200/3920 (82%)]\tLoss: 0.361825\n",
      "Mem before-during-after: 44314624 47721984 44314624\n"
     ]
    },
    {
     "name": "stderr",
     "output_type": "stream",
     "text": [
      " 22%|██████████████▏                                                   | 10.787581699346369/50 [13:08<47:46, 73.10s/it]"
     ]
    },
    {
     "name": "stdout",
     "output_type": "stream",
     "text": [
      "Train Epoch: 21 [3840/3920 (98%)]\tLoss: 0.320722\n",
      "Mem before-during-after: 44314624 47369728 44314624\n"
     ]
    },
    {
     "name": "stderr",
     "output_type": "stream",
     "text": [
      " 22%|██████████████▌                                                   | 10.999999999999963/50 [13:24<46:52, 72.10s/it]"
     ]
    },
    {
     "name": "stdout",
     "output_type": "stream",
     "text": [
      "\n",
      "Test Epoch: 21\tAccuracy: 671/976 (68%)\n",
      "\n"
     ]
    },
    {
     "name": "stderr",
     "output_type": "stream",
     "text": [
      " 22%|██████████████▌                                                   | 11.003267973856172/50 [13:24<47:13, 72.65s/it]"
     ]
    },
    {
     "name": "stdout",
     "output_type": "stream",
     "text": [
      "Train Epoch: 22 [0/3920 (0%)]\tLoss: 0.257619\n",
      "Mem before-during-after: 44313600 47721984 44314624\n"
     ]
    },
    {
     "name": "stderr",
     "output_type": "stream",
     "text": [
      " 22%|██████████████▋                                                   | 11.133986928104537/50 [13:33<47:27, 73.27s/it]"
     ]
    },
    {
     "name": "stdout",
     "output_type": "stream",
     "text": [
      "Train Epoch: 22 [640/3920 (16%)]\tLoss: 0.270535\n",
      "Mem before-during-after: 44314624 47629824 44314624\n"
     ]
    },
    {
     "name": "stderr",
     "output_type": "stream",
     "text": [
      " 23%|██████████████▊                                                   | 11.264705882352903/50 [13:43<47:22, 73.38s/it]"
     ]
    },
    {
     "name": "stdout",
     "output_type": "stream",
     "text": [
      "Train Epoch: 22 [1280/3920 (33%)]\tLoss: 0.953115\n",
      "Mem before-during-after: 44314624 47190016 44314624\n"
     ]
    },
    {
     "name": "stderr",
     "output_type": "stream",
     "text": [
      " 23%|███████████████                                                   | 11.395424836601268/50 [13:53<47:09, 73.31s/it]"
     ]
    },
    {
     "name": "stdout",
     "output_type": "stream",
     "text": [
      "Train Epoch: 22 [1920/3920 (49%)]\tLoss: 0.780459\n",
      "Mem before-during-after: 44314624 47490560 44314624\n"
     ]
    },
    {
     "name": "stderr",
     "output_type": "stream",
     "text": [
      " 23%|███████████████▏                                                  | 11.526143790849634/50 [14:02<46:54, 73.14s/it]"
     ]
    },
    {
     "name": "stdout",
     "output_type": "stream",
     "text": [
      "Train Epoch: 22 [2560/3920 (65%)]\tLoss: 0.548860\n",
      "Mem before-during-after: 44314624 47752704 44314624\n"
     ]
    },
    {
     "name": "stderr",
     "output_type": "stream",
     "text": [
      " 23%|████████████████                                                     | 11.656862745098/50 [14:12<46:46, 73.18s/it]"
     ]
    },
    {
     "name": "stdout",
     "output_type": "stream",
     "text": [
      "Train Epoch: 22 [3200/3920 (82%)]\tLoss: 0.371617\n",
      "Mem before-during-after: 44314624 47691264 44314624\n"
     ]
    },
    {
     "name": "stderr",
     "output_type": "stream",
     "text": [
      " 24%|███████████████▌                                                  | 11.787581699346365/50 [14:21<46:35, 73.15s/it]"
     ]
    },
    {
     "name": "stdout",
     "output_type": "stream",
     "text": [
      "Train Epoch: 22 [3840/3920 (98%)]\tLoss: 0.822244\n",
      "Mem before-during-after: 44314624 46735360 44314624\n"
     ]
    },
    {
     "name": "stderr",
     "output_type": "stream",
     "text": [
      " 24%|████████████████                                                   | 11.99999999999996/50 [14:37<45:37, 72.05s/it]"
     ]
    },
    {
     "name": "stdout",
     "output_type": "stream",
     "text": [
      "\n",
      "Test Epoch: 22\tAccuracy: 672/976 (69%)\n",
      "\n"
     ]
    },
    {
     "name": "stderr",
     "output_type": "stream",
     "text": [
      " 24%|███████████████▊                                                  | 12.003267973856168/50 [14:37<45:58, 72.60s/it]"
     ]
    },
    {
     "name": "stdout",
     "output_type": "stream",
     "text": [
      "Train Epoch: 23 [0/3920 (0%)]\tLoss: 0.181020\n",
      "Mem before-during-after: 44313600 47585280 44314624\n"
     ]
    },
    {
     "name": "stderr",
     "output_type": "stream",
     "text": [
      " 24%|████████████████                                                  | 12.133986928104534/50 [14:46<46:01, 72.93s/it]"
     ]
    },
    {
     "name": "stdout",
     "output_type": "stream",
     "text": [
      "Train Epoch: 23 [640/3920 (16%)]\tLoss: 0.154339\n",
      "Mem before-during-after: 44314624 46913536 44314624\n"
     ]
    },
    {
     "name": "stderr",
     "output_type": "stream",
     "text": [
      " 25%|████████████████▋                                                   | 12.2647058823529/50 [14:56<46:06, 73.32s/it]"
     ]
    },
    {
     "name": "stdout",
     "output_type": "stream",
     "text": [
      "Train Epoch: 23 [1280/3920 (33%)]\tLoss: 0.834633\n",
      "Mem before-during-after: 44314624 47190016 44314624\n"
     ]
    },
    {
     "name": "stderr",
     "output_type": "stream",
     "text": [
      " 25%|████████████████▎                                                 | 12.395424836601265/50 [15:06<45:55, 73.29s/it]"
     ]
    },
    {
     "name": "stdout",
     "output_type": "stream",
     "text": [
      "Train Epoch: 23 [1920/3920 (49%)]\tLoss: 0.307051\n",
      "Mem before-during-after: 44314624 46872576 44314624\n"
     ]
    },
    {
     "name": "stderr",
     "output_type": "stream",
     "text": [
      " 25%|████████████████▊                                                  | 12.52614379084963/50 [15:15<45:59, 73.63s/it]"
     ]
    },
    {
     "name": "stdout",
     "output_type": "stream",
     "text": [
      "Train Epoch: 23 [2560/3920 (65%)]\tLoss: 0.488503\n",
      "Mem before-during-after: 44314624 47721984 44314624\n"
     ]
    },
    {
     "name": "stderr",
     "output_type": "stream",
     "text": [
      " 25%|████████████████▋                                                 | 12.656862745097996/50 [15:25<45:29, 73.09s/it]"
     ]
    },
    {
     "name": "stdout",
     "output_type": "stream",
     "text": [
      "Train Epoch: 23 [3200/3920 (82%)]\tLoss: 0.209572\n",
      "Mem before-during-after: 44314624 47721984 44314624\n"
     ]
    },
    {
     "name": "stderr",
     "output_type": "stream",
     "text": [
      " 26%|████████████████▉                                                 | 12.787581699346362/50 [15:34<45:22, 73.17s/it]"
     ]
    },
    {
     "name": "stdout",
     "output_type": "stream",
     "text": [
      "Train Epoch: 23 [3840/3920 (98%)]\tLoss: 0.202973\n",
      "Mem before-during-after: 44314624 47660544 44314624\n"
     ]
    },
    {
     "name": "stderr",
     "output_type": "stream",
     "text": [
      " 26%|█████████████████▏                                                | 12.999999999999956/50 [15:50<44:43, 72.52s/it]"
     ]
    },
    {
     "name": "stdout",
     "output_type": "stream",
     "text": [
      "\n",
      "Test Epoch: 23\tAccuracy: 668/976 (68%)\n",
      "\n"
     ]
    },
    {
     "name": "stderr",
     "output_type": "stream",
     "text": [
      " 26%|█████████████████▏                                                | 13.003267973856165/50 [15:50<44:50, 72.74s/it]"
     ]
    },
    {
     "name": "stdout",
     "output_type": "stream",
     "text": [
      "Train Epoch: 24 [0/3920 (0%)]\tLoss: 0.355448\n",
      "Mem before-during-after: 44313600 46776320 44314624\n"
     ]
    },
    {
     "name": "stderr",
     "output_type": "stream",
     "text": [
      " 26%|█████████████████▌                                                 | 13.13398692810453/50 [15:59<44:55, 73.11s/it]"
     ]
    },
    {
     "name": "stdout",
     "output_type": "stream",
     "text": [
      "Train Epoch: 24 [640/3920 (16%)]\tLoss: 0.202025\n",
      "Mem before-during-after: 44314624 46852096 44314624\n"
     ]
    },
    {
     "name": "stderr",
     "output_type": "stream",
     "text": [
      " 27%|█████████████████▌                                                | 13.264705882352896/50 [16:09<44:38, 72.91s/it]"
     ]
    },
    {
     "name": "stdout",
     "output_type": "stream",
     "text": [
      "Train Epoch: 24 [1280/3920 (33%)]\tLoss: 0.412110\n",
      "Mem before-during-after: 44314624 46913536 44314624\n"
     ]
    },
    {
     "name": "stderr",
     "output_type": "stream",
     "text": [
      " 27%|█████████████████▋                                                | 13.395424836601261/50 [16:19<44:43, 73.32s/it]"
     ]
    },
    {
     "name": "stdout",
     "output_type": "stream",
     "text": [
      "Train Epoch: 24 [1920/3920 (49%)]\tLoss: 0.396337\n",
      "Mem before-during-after: 44314624 46776320 44314624\n"
     ]
    },
    {
     "name": "stderr",
     "output_type": "stream",
     "text": [
      " 27%|█████████████████▊                                                | 13.526143790849627/50 [16:28<44:33, 73.31s/it]"
     ]
    },
    {
     "name": "stdout",
     "output_type": "stream",
     "text": [
      "Train Epoch: 24 [2560/3920 (65%)]\tLoss: 0.146848\n",
      "Mem before-during-after: 44314624 46852096 44314624\n"
     ]
    },
    {
     "name": "stderr",
     "output_type": "stream",
     "text": [
      " 27%|██████████████████                                                | 13.656862745097992/50 [16:38<44:14, 73.04s/it]"
     ]
    },
    {
     "name": "stdout",
     "output_type": "stream",
     "text": [
      "Train Epoch: 24 [3200/3920 (82%)]\tLoss: 0.832637\n",
      "Mem before-during-after: 44314624 47861248 44314624\n"
     ]
    },
    {
     "name": "stderr",
     "output_type": "stream",
     "text": [
      " 28%|██████████████████▏                                               | 13.787581699346358/50 [16:47<44:23, 73.54s/it]"
     ]
    },
    {
     "name": "stdout",
     "output_type": "stream",
     "text": [
      "Train Epoch: 24 [3840/3920 (98%)]\tLoss: 0.789445\n",
      "Mem before-during-after: 44314624 46735360 44314624\n"
     ]
    },
    {
     "name": "stderr",
     "output_type": "stream",
     "text": [
      " 28%|██████████████████▍                                               | 13.999999999999952/50 [17:03<43:12, 72.00s/it]"
     ]
    },
    {
     "name": "stdout",
     "output_type": "stream",
     "text": [
      "\n",
      "Test Epoch: 24\tAccuracy: 662/976 (68%)\n",
      "\n"
     ]
    },
    {
     "name": "stderr",
     "output_type": "stream",
     "text": [
      " 28%|██████████████████▍                                               | 14.003267973856161/50 [17:03<43:26, 72.40s/it]"
     ]
    },
    {
     "name": "stdout",
     "output_type": "stream",
     "text": [
      "Train Epoch: 25 [0/3920 (0%)]\tLoss: 0.634217\n",
      "Mem before-during-after: 44313600 46577664 44314624\n"
     ]
    },
    {
     "name": "stderr",
     "output_type": "stream",
     "text": [
      " 28%|██████████████████▋                                               | 14.133986928104527/50 [17:12<43:34, 72.91s/it]"
     ]
    },
    {
     "name": "stdout",
     "output_type": "stream",
     "text": [
      "Train Epoch: 25 [640/3920 (16%)]\tLoss: 0.282739\n",
      "Mem before-during-after: 44314624 47721984 44314624\n"
     ]
    },
    {
     "name": "stderr",
     "output_type": "stream",
     "text": [
      " 29%|██████████████████▊                                               | 14.264705882352892/50 [17:22<43:44, 73.43s/it]"
     ]
    },
    {
     "name": "stdout",
     "output_type": "stream",
     "text": [
      "Train Epoch: 25 [1280/3920 (33%)]\tLoss: 0.249540\n",
      "Mem before-during-after: 44314624 47629824 44314624\n"
     ]
    },
    {
     "name": "stderr",
     "output_type": "stream",
     "text": [
      " 29%|███████████████████                                               | 14.395424836601258/50 [17:32<43:34, 73.43s/it]"
     ]
    },
    {
     "name": "stdout",
     "output_type": "stream",
     "text": [
      "Train Epoch: 25 [1920/3920 (49%)]\tLoss: 0.119989\n",
      "Mem before-during-after: 44314624 46852096 44314624\n"
     ]
    },
    {
     "name": "stderr",
     "output_type": "stream",
     "text": [
      " 29%|███████████████████▏                                              | 14.526143790849623/50 [17:41<43:04, 72.87s/it]"
     ]
    },
    {
     "name": "stdout",
     "output_type": "stream",
     "text": [
      "Train Epoch: 25 [2560/3920 (65%)]\tLoss: 0.782646\n",
      "Mem before-during-after: 44314624 47427584 44314624\n"
     ]
    },
    {
     "name": "stderr",
     "output_type": "stream",
     "text": [
      " 29%|███████████████████▎                                              | 14.656862745097989/50 [17:51<43:13, 73.39s/it]"
     ]
    },
    {
     "name": "stdout",
     "output_type": "stream",
     "text": [
      "Train Epoch: 25 [3200/3920 (82%)]\tLoss: 0.260045\n",
      "Mem before-during-after: 44314624 47552000 44314624\n"
     ]
    },
    {
     "name": "stderr",
     "output_type": "stream",
     "text": [
      " 30%|███████████████████▌                                              | 14.787581699346354/50 [18:00<43:03, 73.36s/it]"
     ]
    },
    {
     "name": "stdout",
     "output_type": "stream",
     "text": [
      "Train Epoch: 25 [3840/3920 (98%)]\tLoss: 0.151198\n",
      "Mem before-during-after: 44314624 47190016 44314624\n"
     ]
    },
    {
     "name": "stderr",
     "output_type": "stream",
     "text": [
      " 30%|███████████████████▊                                              | 14.999999999999948/50 [18:16<42:11, 72.34s/it]"
     ]
    },
    {
     "name": "stdout",
     "output_type": "stream",
     "text": [
      "\n",
      "Test Epoch: 25\tAccuracy: 667/976 (68%)\n",
      "\n"
     ]
    },
    {
     "name": "stderr",
     "output_type": "stream",
     "text": [
      " 30%|███████████████████▊                                              | 15.003267973856158/50 [18:16<42:22, 72.65s/it]"
     ]
    },
    {
     "name": "stdout",
     "output_type": "stream",
     "text": [
      "Train Epoch: 26 [0/3920 (0%)]\tLoss: 0.410407\n",
      "Mem before-during-after: 44313600 46776320 44314624\n"
     ]
    },
    {
     "name": "stderr",
     "output_type": "stream",
     "text": [
      " 30%|███████████████████▉                                              | 15.133986928104523/50 [18:26<42:27, 73.07s/it]"
     ]
    },
    {
     "name": "stdout",
     "output_type": "stream",
     "text": [
      "Train Epoch: 26 [640/3920 (16%)]\tLoss: 0.189140\n",
      "Mem before-during-after: 44314624 46872576 44314624\n"
     ]
    },
    {
     "name": "stderr",
     "output_type": "stream",
     "text": [
      " 31%|████████████████████▏                                             | 15.264705882352889/50 [18:35<42:16, 73.04s/it]"
     ]
    },
    {
     "name": "stdout",
     "output_type": "stream",
     "text": [
      "Train Epoch: 26 [1280/3920 (33%)]\tLoss: 0.540101\n",
      "Mem before-during-after: 44314624 47482880 44314624\n"
     ]
    },
    {
     "name": "stderr",
     "output_type": "stream",
     "text": [
      " 31%|████████████████████▎                                             | 15.395424836601254/50 [18:45<42:02, 72.88s/it]"
     ]
    },
    {
     "name": "stdout",
     "output_type": "stream",
     "text": [
      "Train Epoch: 26 [1920/3920 (49%)]\tLoss: 0.245603\n",
      "Mem before-during-after: 44314624 46796800 44314624\n"
     ]
    },
    {
     "name": "stderr",
     "output_type": "stream",
     "text": [
      " 31%|████████████████████▊                                              | 15.52614379084962/50 [18:54<41:52, 72.88s/it]"
     ]
    },
    {
     "name": "stdout",
     "output_type": "stream",
     "text": [
      "Train Epoch: 26 [2560/3920 (65%)]\tLoss: 0.187430\n",
      "Mem before-during-after: 44314624 47861248 44314624\n"
     ]
    },
    {
     "name": "stderr",
     "output_type": "stream",
     "text": [
      " 31%|████████████████████▋                                             | 15.656862745097985/50 [19:04<41:44, 72.92s/it]"
     ]
    },
    {
     "name": "stdout",
     "output_type": "stream",
     "text": [
      "Train Epoch: 26 [3200/3920 (82%)]\tLoss: 0.377955\n",
      "Mem before-during-after: 44314624 47861248 44314624\n"
     ]
    },
    {
     "name": "stderr",
     "output_type": "stream",
     "text": [
      " 32%|████████████████████▊                                             | 15.787581699346351/50 [19:13<41:46, 73.26s/it]"
     ]
    },
    {
     "name": "stdout",
     "output_type": "stream",
     "text": [
      "Train Epoch: 26 [3840/3920 (98%)]\tLoss: 0.255579\n",
      "Mem before-during-after: 44314624 47521280 44314624\n"
     ]
    },
    {
     "name": "stderr",
     "output_type": "stream",
     "text": [
      " 32%|█████████████████████                                             | 15.999999999999945/50 [19:29<40:45, 71.94s/it]"
     ]
    },
    {
     "name": "stdout",
     "output_type": "stream",
     "text": [
      "\n",
      "Test Epoch: 26\tAccuracy: 671/976 (68%)\n",
      "\n"
     ]
    },
    {
     "name": "stderr",
     "output_type": "stream",
     "text": [
      " 32%|█████████████████████                                             | 16.003267973856154/50 [19:29<40:57, 72.27s/it]"
     ]
    },
    {
     "name": "stdout",
     "output_type": "stream",
     "text": [
      "Train Epoch: 27 [0/3920 (0%)]\tLoss: 0.398062\n",
      "Mem before-during-after: 44313600 46694400 44314624\n"
     ]
    },
    {
     "name": "stderr",
     "output_type": "stream",
     "text": [
      " 32%|█████████████████████▌                                             | 16.13398692810459/50 [19:38<41:13, 73.03s/it]"
     ]
    },
    {
     "name": "stdout",
     "output_type": "stream",
     "text": [
      "Train Epoch: 27 [640/3920 (16%)]\tLoss: 0.255635\n",
      "Mem before-during-after: 44314624 46639104 44314624\n"
     ]
    },
    {
     "name": "stderr",
     "output_type": "stream",
     "text": [
      " 33%|█████████████████████▍                                            | 16.264705882353027/50 [19:48<40:52, 72.70s/it]"
     ]
    },
    {
     "name": "stdout",
     "output_type": "stream",
     "text": [
      "Train Epoch: 27 [1280/3920 (33%)]\tLoss: 0.772797\n",
      "Mem before-during-after: 44314624 46755840 44314624\n"
     ]
    },
    {
     "name": "stderr",
     "output_type": "stream",
     "text": [
      " 33%|█████████████████████▋                                            | 16.395424836601464/50 [19:58<40:52, 72.99s/it]"
     ]
    },
    {
     "name": "stdout",
     "output_type": "stream",
     "text": [
      "Train Epoch: 27 [1920/3920 (49%)]\tLoss: 0.728120\n",
      "Mem before-during-after: 44314624 47459840 44314624\n"
     ]
    },
    {
     "name": "stderr",
     "output_type": "stream",
     "text": [
      " 33%|██████████████████████▍                                             | 16.5261437908499/50 [20:07<40:34, 72.72s/it]"
     ]
    },
    {
     "name": "stdout",
     "output_type": "stream",
     "text": [
      "Train Epoch: 27 [2560/3920 (65%)]\tLoss: 0.215142\n",
      "Mem before-during-after: 44314624 46913536 44314624\n"
     ]
    },
    {
     "name": "stderr",
     "output_type": "stream",
     "text": [
      " 33%|█████████████████████▉                                            | 16.656862745098337/50 [20:17<40:36, 73.08s/it]"
     ]
    },
    {
     "name": "stdout",
     "output_type": "stream",
     "text": [
      "Train Epoch: 27 [3200/3920 (82%)]\tLoss: 0.225479\n",
      "Mem before-during-after: 44314624 47861248 44314624\n"
     ]
    },
    {
     "name": "stderr",
     "output_type": "stream",
     "text": [
      " 34%|██████████████████████▏                                           | 16.787581699346774/50 [20:26<40:21, 72.90s/it]"
     ]
    },
    {
     "name": "stdout",
     "output_type": "stream",
     "text": [
      "Train Epoch: 27 [3840/3920 (98%)]\tLoss: 0.243579\n",
      "Mem before-during-after: 44314624 46893056 44314624\n"
     ]
    },
    {
     "name": "stderr",
     "output_type": "stream",
     "text": [
      " 34%|██████████████████████▍                                           | 17.000000000000483/50 [20:41<39:37, 72.05s/it]"
     ]
    },
    {
     "name": "stdout",
     "output_type": "stream",
     "text": [
      "\n",
      "Test Epoch: 27\tAccuracy: 667/976 (68%)\n",
      "\n"
     ]
    },
    {
     "name": "stderr",
     "output_type": "stream",
     "text": [
      " 34%|██████████████████████▍                                           | 17.003267973856694/50 [20:42<39:52, 72.51s/it]"
     ]
    },
    {
     "name": "stdout",
     "output_type": "stream",
     "text": [
      "Train Epoch: 28 [0/3920 (0%)]\tLoss: 0.237323\n",
      "Mem before-during-after: 44313600 47521280 44314624\n"
     ]
    },
    {
     "name": "stderr",
     "output_type": "stream",
     "text": [
      " 34%|██████████████████████▉                                            | 17.13398692810513/50 [20:51<40:03, 73.13s/it]"
     ]
    },
    {
     "name": "stdout",
     "output_type": "stream",
     "text": [
      "Train Epoch: 28 [640/3920 (16%)]\tLoss: 0.467575\n",
      "Mem before-during-after: 44314624 46735360 44314624\n"
     ]
    },
    {
     "name": "stderr",
     "output_type": "stream",
     "text": [
      " 35%|██████████████████████▊                                           | 17.264705882353567/50 [21:01<39:56, 73.21s/it]"
     ]
    },
    {
     "name": "stdout",
     "output_type": "stream",
     "text": [
      "Train Epoch: 28 [1280/3920 (33%)]\tLoss: 0.448980\n",
      "Mem before-during-after: 44314624 46735360 44314624\n"
     ]
    },
    {
     "name": "stderr",
     "output_type": "stream",
     "text": [
      " 35%|██████████████████████▉                                           | 17.395424836602004/50 [21:10<39:42, 73.07s/it]"
     ]
    },
    {
     "name": "stdout",
     "output_type": "stream",
     "text": [
      "Train Epoch: 28 [1920/3920 (49%)]\tLoss: 0.748805\n",
      "Mem before-during-after: 44314624 46852096 44314624\n"
     ]
    },
    {
     "name": "stderr",
     "output_type": "stream",
     "text": [
      " 35%|███████████████████████▍                                           | 17.52614379085044/50 [21:20<39:36, 73.17s/it]"
     ]
    },
    {
     "name": "stdout",
     "output_type": "stream",
     "text": [
      "Train Epoch: 28 [2560/3920 (65%)]\tLoss: 0.460871\n",
      "Mem before-during-after: 44314624 47154688 44314624\n"
     ]
    },
    {
     "name": "stderr",
     "output_type": "stream",
     "text": [
      " 35%|███████████████████████▎                                          | 17.656862745098877/50 [21:30<39:21, 73.02s/it]"
     ]
    },
    {
     "name": "stdout",
     "output_type": "stream",
     "text": [
      "Train Epoch: 28 [3200/3920 (82%)]\tLoss: 0.186863\n",
      "Mem before-during-after: 44314624 47691264 44314624\n"
     ]
    },
    {
     "name": "stderr",
     "output_type": "stream",
     "text": [
      " 36%|███████████████████████▍                                          | 17.787581699347314/50 [21:39<39:11, 73.01s/it]"
     ]
    },
    {
     "name": "stdout",
     "output_type": "stream",
     "text": [
      "Train Epoch: 28 [3840/3920 (98%)]\tLoss: 0.228001\n",
      "Mem before-during-after: 44314624 47333376 44314624\n"
     ]
    },
    {
     "name": "stderr",
     "output_type": "stream",
     "text": [
      " 36%|███████████████████████▊                                          | 18.000000000001023/50 [21:55<38:35, 72.36s/it]"
     ]
    },
    {
     "name": "stdout",
     "output_type": "stream",
     "text": [
      "\n",
      "Test Epoch: 28\tAccuracy: 675/976 (69%)\n",
      "\n",
      "saved model: ../models_cremad4_mfcc/cremad_label4_m18mfcc_best_28epoch.pt\n"
     ]
    },
    {
     "name": "stderr",
     "output_type": "stream",
     "text": [
      " 36%|███████████████████████▊                                          | 18.003267973857234/50 [21:55<39:05, 73.29s/it]"
     ]
    },
    {
     "name": "stdout",
     "output_type": "stream",
     "text": [
      "Train Epoch: 29 [0/3920 (0%)]\tLoss: 0.226255\n",
      "Mem before-during-after: 44313600 47660544 44314624\n"
     ]
    },
    {
     "name": "stderr",
     "output_type": "stream",
     "text": [
      " 36%|████████████████████████▎                                          | 18.13398692810567/50 [22:04<39:01, 73.49s/it]"
     ]
    },
    {
     "name": "stdout",
     "output_type": "stream",
     "text": [
      "Train Epoch: 29 [640/3920 (16%)]\tLoss: 0.173899\n",
      "Mem before-during-after: 44314624 47861248 44314624\n"
     ]
    },
    {
     "name": "stderr",
     "output_type": "stream",
     "text": [
      " 37%|████████████████████████                                          | 18.264705882354107/50 [22:14<38:52, 73.51s/it]"
     ]
    },
    {
     "name": "stdout",
     "output_type": "stream",
     "text": [
      "Train Epoch: 29 [1280/3920 (33%)]\tLoss: 0.258030\n",
      "Mem before-during-after: 44314624 46473216 44314624\n"
     ]
    },
    {
     "name": "stderr",
     "output_type": "stream",
     "text": [
      " 37%|████████████████████████▎                                         | 18.395424836602544/50 [22:24<38:30, 73.11s/it]"
     ]
    },
    {
     "name": "stdout",
     "output_type": "stream",
     "text": [
      "Train Epoch: 29 [1920/3920 (49%)]\tLoss: 0.150261\n",
      "Mem before-during-after: 44314624 47459840 44314624\n"
     ]
    },
    {
     "name": "stderr",
     "output_type": "stream",
     "text": [
      " 37%|████████████████████████▊                                          | 18.52614379085098/50 [22:33<39:00, 74.36s/it]"
     ]
    },
    {
     "name": "stdout",
     "output_type": "stream",
     "text": [
      "Train Epoch: 29 [2560/3920 (65%)]\tLoss: 0.244329\n",
      "Mem before-during-after: 44314624 47721984 44314624\n"
     ]
    },
    {
     "name": "stderr",
     "output_type": "stream",
     "text": [
      " 37%|████████████████████████▋                                         | 18.656862745099417/50 [22:43<38:19, 73.37s/it]"
     ]
    },
    {
     "name": "stdout",
     "output_type": "stream",
     "text": [
      "Train Epoch: 29 [3200/3920 (82%)]\tLoss: 0.423394\n",
      "Mem before-during-after: 44314624 46755840 44314624\n"
     ]
    },
    {
     "name": "stderr",
     "output_type": "stream",
     "text": [
      " 38%|████████████████████████▊                                         | 18.787581699347854/50 [22:52<37:50, 72.74s/it]"
     ]
    },
    {
     "name": "stdout",
     "output_type": "stream",
     "text": [
      "Train Epoch: 29 [3840/3920 (98%)]\tLoss: 0.233306\n",
      "Mem before-during-after: 44314624 47830528 44314624\n"
     ]
    },
    {
     "name": "stderr",
     "output_type": "stream",
     "text": [
      " 38%|█████████████████████████                                         | 19.000000000001563/50 [23:08<37:11, 71.99s/it]"
     ]
    },
    {
     "name": "stdout",
     "output_type": "stream",
     "text": [
      "\n",
      "Test Epoch: 29\tAccuracy: 668/976 (68%)\n",
      "\n"
     ]
    },
    {
     "name": "stderr",
     "output_type": "stream",
     "text": [
      " 38%|█████████████████████████                                         | 19.003267973857774/50 [23:08<37:20, 72.27s/it]"
     ]
    },
    {
     "name": "stdout",
     "output_type": "stream",
     "text": [
      "Train Epoch: 30 [0/3920 (0%)]\tLoss: 0.533049\n",
      "Mem before-during-after: 44313600 46639104 44314624\n"
     ]
    },
    {
     "name": "stderr",
     "output_type": "stream",
     "text": [
      " 38%|█████████████████████████▋                                         | 19.13398692810621/50 [23:17<37:59, 73.85s/it]"
     ]
    },
    {
     "name": "stdout",
     "output_type": "stream",
     "text": [
      "Train Epoch: 30 [640/3920 (16%)]\tLoss: 0.599043\n",
      "Mem before-during-after: 44314624 47521280 44314624\n"
     ]
    },
    {
     "name": "stderr",
     "output_type": "stream",
     "text": [
      " 39%|█████████████████████████▍                                        | 19.264705882354647/50 [23:27<37:24, 73.02s/it]"
     ]
    },
    {
     "name": "stdout",
     "output_type": "stream",
     "text": [
      "Train Epoch: 30 [1280/3920 (33%)]\tLoss: 0.624581\n",
      "Mem before-during-after: 44314624 47585280 44314624\n"
     ]
    },
    {
     "name": "stderr",
     "output_type": "stream",
     "text": [
      " 39%|█████████████████████████▌                                        | 19.395424836603084/50 [23:36<37:13, 72.99s/it]"
     ]
    },
    {
     "name": "stdout",
     "output_type": "stream",
     "text": [
      "Train Epoch: 30 [1920/3920 (49%)]\tLoss: 0.139155\n",
      "Mem before-during-after: 44314624 47366144 44314624\n"
     ]
    },
    {
     "name": "stderr",
     "output_type": "stream",
     "text": [
      " 39%|██████████████████████████▏                                        | 19.52614379085152/50 [23:46<37:05, 73.03s/it]"
     ]
    },
    {
     "name": "stdout",
     "output_type": "stream",
     "text": [
      "Train Epoch: 30 [2560/3920 (65%)]\tLoss: 0.055726\n",
      "Mem before-during-after: 44314624 47490560 44314624\n"
     ]
    },
    {
     "name": "stderr",
     "output_type": "stream",
     "text": [
      " 39%|█████████████████████████▉                                        | 19.656862745099957/50 [23:56<36:48, 72.77s/it]"
     ]
    },
    {
     "name": "stdout",
     "output_type": "stream",
     "text": [
      "Train Epoch: 30 [3200/3920 (82%)]\tLoss: 0.284360\n",
      "Mem before-during-after: 44314624 47366144 44314624\n"
     ]
    },
    {
     "name": "stderr",
     "output_type": "stream",
     "text": [
      " 40%|██████████████████████████                                        | 19.787581699348394/50 [24:05<36:43, 72.93s/it]"
     ]
    },
    {
     "name": "stdout",
     "output_type": "stream",
     "text": [
      "Train Epoch: 30 [3840/3920 (98%)]\tLoss: 0.369490\n",
      "Mem before-during-after: 44314624 47861248 44314624\n"
     ]
    },
    {
     "name": "stderr",
     "output_type": "stream",
     "text": [
      " 40%|██████████████████████████▍                                       | 20.000000000002103/50 [24:20<36:08, 72.27s/it]"
     ]
    },
    {
     "name": "stdout",
     "output_type": "stream",
     "text": [
      "\n",
      "Test Epoch: 30\tAccuracy: 661/976 (67%)\n",
      "\n"
     ]
    },
    {
     "name": "stderr",
     "output_type": "stream",
     "text": [
      " 40%|██████████████████████████▍                                       | 20.003267973858314/50 [24:21<36:23, 72.79s/it]"
     ]
    },
    {
     "name": "stdout",
     "output_type": "stream",
     "text": [
      "Train Epoch: 31 [0/3920 (0%)]\tLoss: 0.350248\n",
      "Mem before-during-after: 44313600 47366144 44314624\n"
     ]
    },
    {
     "name": "stderr",
     "output_type": "stream",
     "text": [
      " 40%|██████████████████████████▉                                        | 20.13398692810675/50 [24:30<36:36, 73.54s/it]"
     ]
    },
    {
     "name": "stdout",
     "output_type": "stream",
     "text": [
      "Train Epoch: 31 [640/3920 (16%)]\tLoss: 0.293499\n",
      "Mem before-during-after: 44314624 46796800 44314624\n"
     ]
    },
    {
     "name": "stderr",
     "output_type": "stream",
     "text": [
      " 41%|██████████████████████████▋                                       | 20.264705882355187/50 [24:40<36:27, 73.56s/it]"
     ]
    },
    {
     "name": "stdout",
     "output_type": "stream",
     "text": [
      "Train Epoch: 31 [1280/3920 (33%)]\tLoss: 0.120966\n",
      "Mem before-during-after: 44314624 47691264 44314624\n"
     ]
    },
    {
     "name": "stderr",
     "output_type": "stream",
     "text": [
      " 41%|██████████████████████████▉                                       | 20.395424836603624/50 [24:50<36:03, 73.09s/it]"
     ]
    },
    {
     "name": "stdout",
     "output_type": "stream",
     "text": [
      "Train Epoch: 31 [1920/3920 (49%)]\tLoss: 0.184736\n",
      "Mem before-during-after: 44314624 46893056 44314624\n"
     ]
    },
    {
     "name": "stderr",
     "output_type": "stream",
     "text": [
      " 41%|███████████████████████████▌                                       | 20.52614379085206/50 [24:59<36:02, 73.37s/it]"
     ]
    },
    {
     "name": "stdout",
     "output_type": "stream",
     "text": [
      "Train Epoch: 31 [2560/3920 (65%)]\tLoss: 0.298049\n",
      "Mem before-during-after: 44314624 47721984 44314624\n"
     ]
    },
    {
     "name": "stderr",
     "output_type": "stream",
     "text": [
      " 41%|███████████████████████████▎                                      | 20.656862745100497/50 [25:09<35:45, 73.13s/it]"
     ]
    },
    {
     "name": "stdout",
     "output_type": "stream",
     "text": [
      "Train Epoch: 31 [3200/3920 (82%)]\tLoss: 0.238076\n",
      "Mem before-during-after: 44314624 47629824 44314624\n"
     ]
    },
    {
     "name": "stderr",
     "output_type": "stream",
     "text": [
      " 42%|███████████████████████████▍                                      | 20.787581699348934/50 [25:18<35:32, 73.02s/it]"
     ]
    },
    {
     "name": "stdout",
     "output_type": "stream",
     "text": [
      "Train Epoch: 31 [3840/3920 (98%)]\tLoss: 0.204508\n",
      "Mem before-during-after: 44314624 46913536 44314624\n"
     ]
    },
    {
     "name": "stderr",
     "output_type": "stream",
     "text": [
      " 42%|███████████████████████████▋                                      | 21.000000000002643/50 [25:34<35:02, 72.50s/it]"
     ]
    },
    {
     "name": "stdout",
     "output_type": "stream",
     "text": [
      "\n",
      "Test Epoch: 31\tAccuracy: 677/976 (69%)\n",
      "\n",
      "saved model: ../models_cremad4_mfcc/cremad_label4_m18mfcc_best_31epoch.pt\n"
     ]
    },
    {
     "name": "stderr",
     "output_type": "stream",
     "text": [
      " 42%|███████████████████████████▋                                      | 21.003267973858854/50 [25:34<35:25, 73.29s/it]"
     ]
    },
    {
     "name": "stdout",
     "output_type": "stream",
     "text": [
      "Train Epoch: 32 [0/3920 (0%)]\tLoss: 0.081167\n",
      "Mem before-during-after: 44313600 47366144 44314624\n"
     ]
    },
    {
     "name": "stderr",
     "output_type": "stream",
     "text": [
      " 42%|████████████████████████████▎                                      | 21.13398692810729/50 [25:43<35:15, 73.28s/it]"
     ]
    },
    {
     "name": "stdout",
     "output_type": "stream",
     "text": [
      "Train Epoch: 32 [640/3920 (16%)]\tLoss: 0.884354\n",
      "Mem before-during-after: 44314624 47996928 44314624\n"
     ]
    },
    {
     "name": "stderr",
     "output_type": "stream",
     "text": [
      " 43%|████████████████████████████                                      | 21.264705882355727/50 [25:53<35:06, 73.30s/it]"
     ]
    },
    {
     "name": "stdout",
     "output_type": "stream",
     "text": [
      "Train Epoch: 32 [1280/3920 (33%)]\tLoss: 0.439904\n",
      "Mem before-during-after: 44314624 47629824 44314624\n"
     ]
    },
    {
     "name": "stderr",
     "output_type": "stream",
     "text": [
      " 43%|████████████████████████████▏                                     | 21.395424836604164/50 [26:03<34:59, 73.40s/it]"
     ]
    },
    {
     "name": "stdout",
     "output_type": "stream",
     "text": [
      "Train Epoch: 32 [1920/3920 (49%)]\tLoss: 0.267121\n",
      "Mem before-during-after: 44314624 47482880 44314624\n"
     ]
    },
    {
     "name": "stderr",
     "output_type": "stream",
     "text": [
      " 43%|█████████████████████████████▎                                      | 21.5261437908526/50 [26:12<34:54, 73.56s/it]"
     ]
    },
    {
     "name": "stdout",
     "output_type": "stream",
     "text": [
      "Train Epoch: 32 [2560/3920 (65%)]\tLoss: 0.500150\n",
      "Mem before-during-after: 44314624 47459840 44314624\n"
     ]
    },
    {
     "name": "stderr",
     "output_type": "stream",
     "text": [
      " 43%|████████████████████████████▌                                     | 21.656862745101037/50 [26:22<34:34, 73.20s/it]"
     ]
    },
    {
     "name": "stdout",
     "output_type": "stream",
     "text": [
      "Train Epoch: 32 [3200/3920 (82%)]\tLoss: 0.283872\n",
      "Mem before-during-after: 44314624 46618624 44314624\n"
     ]
    },
    {
     "name": "stderr",
     "output_type": "stream",
     "text": [
      " 44%|████████████████████████████▊                                     | 21.787581699349474/50 [26:31<34:30, 73.38s/it]"
     ]
    },
    {
     "name": "stdout",
     "output_type": "stream",
     "text": [
      "Train Epoch: 32 [3840/3920 (98%)]\tLoss: 0.643788\n",
      "Mem before-during-after: 44314624 47544320 44314624\n"
     ]
    },
    {
     "name": "stderr",
     "output_type": "stream",
     "text": [
      " 44%|█████████████████████████████                                     | 22.000000000003183/50 [26:47<34:13, 73.35s/it]"
     ]
    },
    {
     "name": "stdout",
     "output_type": "stream",
     "text": [
      "\n",
      "Test Epoch: 32\tAccuracy: 660/976 (67%)\n",
      "\n"
     ]
    },
    {
     "name": "stderr",
     "output_type": "stream",
     "text": [
      " 44%|█████████████████████████████                                     | 22.003267973859394/50 [26:47<34:11, 73.28s/it]"
     ]
    },
    {
     "name": "stdout",
     "output_type": "stream",
     "text": [
      "Train Epoch: 33 [0/3920 (0%)]\tLoss: 0.138492\n",
      "Mem before-during-after: 44313600 46893056 44314624\n"
     ]
    },
    {
     "name": "stderr",
     "output_type": "stream",
     "text": [
      " 44%|█████████████████████████████▋                                     | 22.13398692810783/50 [26:57<34:58, 75.32s/it]"
     ]
    },
    {
     "name": "stdout",
     "output_type": "stream",
     "text": [
      "Train Epoch: 33 [640/3920 (16%)]\tLoss: 0.334268\n",
      "Mem before-during-after: 44314624 47660544 44314624\n"
     ]
    },
    {
     "name": "stderr",
     "output_type": "stream",
     "text": [
      " 45%|█████████████████████████████▍                                    | 22.264705882356267/50 [27:06<34:05, 73.76s/it]"
     ]
    },
    {
     "name": "stdout",
     "output_type": "stream",
     "text": [
      "Train Epoch: 33 [1280/3920 (33%)]\tLoss: 0.311463\n",
      "Mem before-during-after: 44314624 46755840 44314624\n"
     ]
    },
    {
     "name": "stderr",
     "output_type": "stream",
     "text": [
      " 45%|█████████████████████████████▌                                    | 22.395424836604704/50 [27:16<33:42, 73.27s/it]"
     ]
    },
    {
     "name": "stdout",
     "output_type": "stream",
     "text": [
      "Train Epoch: 33 [1920/3920 (49%)]\tLoss: 0.443428\n",
      "Mem before-during-after: 44314624 46577664 44314624\n"
     ]
    },
    {
     "name": "stderr",
     "output_type": "stream",
     "text": [
      " 45%|██████████████████████████████▏                                    | 22.52614379085314/50 [27:26<33:36, 73.39s/it]"
     ]
    },
    {
     "name": "stdout",
     "output_type": "stream",
     "text": [
      "Train Epoch: 33 [2560/3920 (65%)]\tLoss: 0.019766\n",
      "Mem before-during-after: 44314624 47752704 44314624\n"
     ]
    },
    {
     "name": "stderr",
     "output_type": "stream",
     "text": [
      " 45%|█████████████████████████████▉                                    | 22.656862745101577/50 [27:35<33:30, 73.52s/it]"
     ]
    },
    {
     "name": "stdout",
     "output_type": "stream",
     "text": [
      "Train Epoch: 33 [3200/3920 (82%)]\tLoss: 0.115677\n",
      "Mem before-during-after: 44314624 46913536 44314624\n"
     ]
    },
    {
     "name": "stderr",
     "output_type": "stream",
     "text": [
      " 46%|██████████████████████████████                                    | 22.787581699350014/50 [27:45<33:17, 73.39s/it]"
     ]
    },
    {
     "name": "stdout",
     "output_type": "stream",
     "text": [
      "Train Epoch: 33 [3840/3920 (98%)]\tLoss: 0.218502\n",
      "Mem before-during-after: 44314624 47382016 44314624\n"
     ]
    },
    {
     "name": "stderr",
     "output_type": "stream",
     "text": [
      " 46%|██████████████████████████████▎                                   | 23.000000000003723/50 [28:00<32:32, 72.33s/it]"
     ]
    },
    {
     "name": "stdout",
     "output_type": "stream",
     "text": [
      "\n",
      "Test Epoch: 33\tAccuracy: 656/976 (67%)\n",
      "\n"
     ]
    },
    {
     "name": "stderr",
     "output_type": "stream",
     "text": [
      " 46%|██████████████████████████████▎                                   | 23.003267973859934/50 [28:00<32:44, 72.78s/it]"
     ]
    },
    {
     "name": "stdout",
     "output_type": "stream",
     "text": [
      "Train Epoch: 34 [0/3920 (0%)]\tLoss: 0.034353\n",
      "Mem before-during-after: 44313600 46714880 44314624\n"
     ]
    },
    {
     "name": "stderr",
     "output_type": "stream",
     "text": [
      " 46%|██████████████████████████████▉                                    | 23.13398692810837/50 [28:10<33:08, 74.00s/it]"
     ]
    },
    {
     "name": "stdout",
     "output_type": "stream",
     "text": [
      "Train Epoch: 34 [640/3920 (16%)]\tLoss: 0.231956\n",
      "Mem before-during-after: 44314624 47382016 44314624\n"
     ]
    },
    {
     "name": "stderr",
     "output_type": "stream",
     "text": [
      " 47%|██████████████████████████████▋                                   | 23.264705882356807/50 [28:20<32:36, 73.17s/it]"
     ]
    },
    {
     "name": "stdout",
     "output_type": "stream",
     "text": [
      "Train Epoch: 34 [1280/3920 (33%)]\tLoss: 0.038198\n",
      "Mem before-during-after: 44314624 46852096 44314624\n"
     ]
    },
    {
     "name": "stderr",
     "output_type": "stream",
     "text": [
      " 47%|██████████████████████████████▉                                   | 23.395424836605244/50 [28:29<32:29, 73.27s/it]"
     ]
    },
    {
     "name": "stdout",
     "output_type": "stream",
     "text": [
      "Train Epoch: 34 [1920/3920 (49%)]\tLoss: 1.325806\n",
      "Mem before-during-after: 44314624 46796800 44314624\n"
     ]
    },
    {
     "name": "stderr",
     "output_type": "stream",
     "text": [
      " 47%|███████████████████████████████▌                                   | 23.52614379085368/50 [28:39<32:14, 73.08s/it]"
     ]
    },
    {
     "name": "stdout",
     "output_type": "stream",
     "text": [
      "Train Epoch: 34 [2560/3920 (65%)]\tLoss: 0.639032\n",
      "Mem before-during-after: 44314624 46694400 44314624\n"
     ]
    },
    {
     "name": "stderr",
     "output_type": "stream",
     "text": [
      " 47%|███████████████████████████████▏                                  | 23.656862745102117/50 [28:48<32:14, 73.44s/it]"
     ]
    },
    {
     "name": "stdout",
     "output_type": "stream",
     "text": [
      "Train Epoch: 34 [3200/3920 (82%)]\tLoss: 0.408202\n",
      "Mem before-during-after: 44314624 47629824 44314624\n"
     ]
    },
    {
     "name": "stderr",
     "output_type": "stream",
     "text": [
      " 48%|███████████████████████████████▍                                  | 23.787581699350554/50 [28:58<32:04, 73.42s/it]"
     ]
    },
    {
     "name": "stdout",
     "output_type": "stream",
     "text": [
      "Train Epoch: 34 [3840/3920 (98%)]\tLoss: 0.483397\n",
      "Mem before-during-after: 44314624 46913536 44314624\n"
     ]
    },
    {
     "name": "stderr",
     "output_type": "stream",
     "text": [
      " 48%|███████████████████████████████▋                                  | 24.000000000004263/50 [29:13<31:12, 72.01s/it]"
     ]
    },
    {
     "name": "stdout",
     "output_type": "stream",
     "text": [
      "\n",
      "Test Epoch: 34\tAccuracy: 654/976 (67%)\n",
      "\n"
     ]
    },
    {
     "name": "stderr",
     "output_type": "stream",
     "text": [
      " 48%|███████████████████████████████▋                                  | 24.003267973860474/50 [29:14<31:24, 72.49s/it]"
     ]
    },
    {
     "name": "stdout",
     "output_type": "stream",
     "text": [
      "Train Epoch: 35 [0/3920 (0%)]\tLoss: 0.334523\n",
      "Mem before-during-after: 44313600 47552000 44314624\n"
     ]
    },
    {
     "name": "stderr",
     "output_type": "stream",
     "text": [
      " 48%|████████████████████████████████▎                                  | 24.13398692810891/50 [29:23<31:39, 73.45s/it]"
     ]
    },
    {
     "name": "stdout",
     "output_type": "stream",
     "text": [
      "Train Epoch: 35 [640/3920 (16%)]\tLoss: 0.096741\n",
      "Mem before-during-after: 44314624 47459840 44314624\n"
     ]
    },
    {
     "name": "stderr",
     "output_type": "stream",
     "text": [
      " 49%|████████████████████████████████                                  | 24.264705882357347/50 [29:33<31:22, 73.14s/it]"
     ]
    },
    {
     "name": "stdout",
     "output_type": "stream",
     "text": [
      "Train Epoch: 35 [1280/3920 (33%)]\tLoss: 0.200422\n",
      "Mem before-during-after: 44314624 46913536 44314624\n"
     ]
    },
    {
     "name": "stderr",
     "output_type": "stream",
     "text": [
      " 49%|████████████████████████████████▏                                 | 24.395424836605784/50 [29:42<31:11, 73.11s/it]"
     ]
    },
    {
     "name": "stdout",
     "output_type": "stream",
     "text": [
      "Train Epoch: 35 [1920/3920 (49%)]\tLoss: 0.486220\n",
      "Mem before-during-after: 44314624 47476736 44314624\n"
     ]
    },
    {
     "name": "stderr",
     "output_type": "stream",
     "text": [
      " 49%|████████████████████████████████▊                                  | 24.52614379085422/50 [29:52<31:18, 73.75s/it]"
     ]
    },
    {
     "name": "stdout",
     "output_type": "stream",
     "text": [
      "Train Epoch: 35 [2560/3920 (65%)]\tLoss: 0.364711\n",
      "Mem before-during-after: 44314624 47427584 44314624\n"
     ]
    },
    {
     "name": "stderr",
     "output_type": "stream",
     "text": [
      " 49%|████████████████████████████████▌                                 | 24.656862745102657/50 [30:01<30:55, 73.21s/it]"
     ]
    },
    {
     "name": "stdout",
     "output_type": "stream",
     "text": [
      "Train Epoch: 35 [3200/3920 (82%)]\tLoss: 0.239065\n",
      "Mem before-during-after: 44314624 47691264 44314624\n"
     ]
    },
    {
     "name": "stderr",
     "output_type": "stream",
     "text": [
      " 50%|████████████████████████████████▋                                 | 24.787581699351094/50 [30:11<30:48, 73.32s/it]"
     ]
    },
    {
     "name": "stdout",
     "output_type": "stream",
     "text": [
      "Train Epoch: 35 [3840/3920 (98%)]\tLoss: 0.608911\n",
      "Mem before-during-after: 44314624 46481408 44314624\n"
     ]
    },
    {
     "name": "stderr",
     "output_type": "stream",
     "text": [
      " 50%|█████████████████████████████████                                 | 25.000000000004803/50 [30:26<30:06, 72.26s/it]"
     ]
    },
    {
     "name": "stdout",
     "output_type": "stream",
     "text": [
      "\n",
      "Test Epoch: 35\tAccuracy: 656/976 (67%)\n",
      "\n"
     ]
    },
    {
     "name": "stderr",
     "output_type": "stream",
     "text": [
      " 50%|█████████████████████████████████                                 | 25.003267973861014/50 [30:27<30:18, 72.75s/it]"
     ]
    },
    {
     "name": "stdout",
     "output_type": "stream",
     "text": [
      "Train Epoch: 36 [0/3920 (0%)]\tLoss: 0.190889\n",
      "Mem before-during-after: 44313600 47459840 44314624\n"
     ]
    },
    {
     "name": "stderr",
     "output_type": "stream",
     "text": [
      " 50%|█████████████████████████████████▋                                 | 25.13398692810945/50 [30:36<30:20, 73.20s/it]"
     ]
    },
    {
     "name": "stdout",
     "output_type": "stream",
     "text": [
      "Train Epoch: 36 [640/3920 (16%)]\tLoss: 0.361170\n",
      "Mem before-during-after: 44314624 47429120 44314624\n"
     ]
    },
    {
     "name": "stderr",
     "output_type": "stream",
     "text": [
      " 51%|█████████████████████████████████▎                                | 25.264705882357887/50 [30:46<30:03, 72.92s/it]"
     ]
    },
    {
     "name": "stdout",
     "output_type": "stream",
     "text": [
      "Train Epoch: 36 [1280/3920 (33%)]\tLoss: 0.314609\n",
      "Mem before-during-after: 44314624 47552000 44314624\n"
     ]
    },
    {
     "name": "stderr",
     "output_type": "stream",
     "text": [
      " 51%|█████████████████████████████████▌                                | 25.395424836606324/50 [30:55<29:56, 73.00s/it]"
     ]
    },
    {
     "name": "stdout",
     "output_type": "stream",
     "text": [
      "Train Epoch: 36 [1920/3920 (49%)]\tLoss: 0.338588\n",
      "Mem before-during-after: 44314624 47721984 44314624\n"
     ]
    },
    {
     "name": "stderr",
     "output_type": "stream",
     "text": [
      " 51%|██████████████████████████████████▏                                | 25.52614379085476/50 [31:05<29:50, 73.16s/it]"
     ]
    },
    {
     "name": "stdout",
     "output_type": "stream",
     "text": [
      "Train Epoch: 36 [2560/3920 (65%)]\tLoss: 0.083964\n",
      "Mem before-during-after: 44314624 47783424 44314624\n"
     ]
    },
    {
     "name": "stderr",
     "output_type": "stream",
     "text": [
      " 51%|█████████████████████████████████▊                                | 25.656862745103197/50 [31:14<29:37, 73.01s/it]"
     ]
    },
    {
     "name": "stdout",
     "output_type": "stream",
     "text": [
      "Train Epoch: 36 [3200/3920 (82%)]\tLoss: 0.096644\n",
      "Mem before-during-after: 44314624 47830528 44314624\n"
     ]
    },
    {
     "name": "stderr",
     "output_type": "stream",
     "text": [
      " 52%|██████████████████████████████████                                | 25.787581699351634/50 [31:24<29:27, 72.99s/it]"
     ]
    },
    {
     "name": "stdout",
     "output_type": "stream",
     "text": [
      "Train Epoch: 36 [3840/3920 (98%)]\tLoss: 0.075343\n",
      "Mem before-during-after: 44314624 46557184 44314624\n"
     ]
    },
    {
     "name": "stderr",
     "output_type": "stream",
     "text": [
      " 52%|██████████████████████████████████▎                               | 26.000000000005343/50 [31:39<28:49, 72.05s/it]"
     ]
    },
    {
     "name": "stdout",
     "output_type": "stream",
     "text": [
      "\n",
      "Test Epoch: 36\tAccuracy: 652/976 (67%)\n",
      "\n"
     ]
    },
    {
     "name": "stderr",
     "output_type": "stream",
     "text": [
      " 52%|██████████████████████████████████▎                               | 26.003267973861554/50 [31:39<28:58, 72.44s/it]"
     ]
    },
    {
     "name": "stdout",
     "output_type": "stream",
     "text": [
      "Train Epoch: 37 [0/3920 (0%)]\tLoss: 0.542894\n",
      "Mem before-during-after: 44313600 46852096 44314624\n"
     ]
    },
    {
     "name": "stderr",
     "output_type": "stream",
     "text": [
      " 52%|███████████████████████████████████                                | 26.13398692810999/50 [31:49<29:08, 73.26s/it]"
     ]
    },
    {
     "name": "stdout",
     "output_type": "stream",
     "text": [
      "Train Epoch: 37 [640/3920 (16%)]\tLoss: 0.130789\n",
      "Mem before-during-after: 44314624 46872576 44314624\n"
     ]
    },
    {
     "name": "stderr",
     "output_type": "stream",
     "text": [
      " 53%|██████████████████████████████████▋                               | 26.264705882358427/50 [31:59<28:52, 72.99s/it]"
     ]
    },
    {
     "name": "stdout",
     "output_type": "stream",
     "text": [
      "Train Epoch: 37 [1280/3920 (33%)]\tLoss: 0.466660\n",
      "Mem before-during-after: 44314624 47702016 44314624\n"
     ]
    },
    {
     "name": "stderr",
     "output_type": "stream",
     "text": [
      " 53%|██████████████████████████████████▊                               | 26.395424836606864/50 [32:08<28:58, 73.65s/it]"
     ]
    },
    {
     "name": "stdout",
     "output_type": "stream",
     "text": [
      "Train Epoch: 37 [1920/3920 (49%)]\tLoss: 0.177368\n",
      "Mem before-during-after: 44314624 46735360 44314624\n"
     ]
    },
    {
     "name": "stderr",
     "output_type": "stream",
     "text": [
      " 53%|████████████████████████████████████                                | 26.5261437908553/50 [32:18<28:43, 73.44s/it]"
     ]
    },
    {
     "name": "stdout",
     "output_type": "stream",
     "text": [
      "Train Epoch: 37 [2560/3920 (65%)]\tLoss: 0.060260\n",
      "Mem before-during-after: 44314624 47429120 44314624\n"
     ]
    },
    {
     "name": "stderr",
     "output_type": "stream",
     "text": [
      " 53%|███████████████████████████████████▏                              | 26.656862745103737/50 [32:27<28:35, 73.51s/it]"
     ]
    },
    {
     "name": "stdout",
     "output_type": "stream",
     "text": [
      "Train Epoch: 37 [3200/3920 (82%)]\tLoss: 0.203157\n",
      "Mem before-during-after: 44314624 46852096 44314624\n"
     ]
    },
    {
     "name": "stderr",
     "output_type": "stream",
     "text": [
      " 54%|███████████████████████████████████▎                              | 26.787581699352174/50 [32:37<28:22, 73.33s/it]"
     ]
    },
    {
     "name": "stdout",
     "output_type": "stream",
     "text": [
      "Train Epoch: 37 [3840/3920 (98%)]\tLoss: 0.339423\n",
      "Mem before-during-after: 44314624 47382016 44314624\n"
     ]
    },
    {
     "name": "stderr",
     "output_type": "stream",
     "text": [
      " 54%|███████████████████████████████████▋                              | 27.000000000005883/50 [32:52<27:42, 72.28s/it]"
     ]
    },
    {
     "name": "stdout",
     "output_type": "stream",
     "text": [
      "\n",
      "Test Epoch: 37\tAccuracy: 656/976 (67%)\n",
      "\n"
     ]
    },
    {
     "name": "stderr",
     "output_type": "stream",
     "text": [
      " 54%|███████████████████████████████████▋                              | 27.003267973862094/50 [32:53<27:52, 72.74s/it]"
     ]
    },
    {
     "name": "stdout",
     "output_type": "stream",
     "text": [
      "Train Epoch: 38 [0/3920 (0%)]\tLoss: 0.222809\n",
      "Mem before-during-after: 44313600 47351296 44314624\n"
     ]
    },
    {
     "name": "stderr",
     "output_type": "stream",
     "text": [
      " 54%|████████████████████████████████████▎                              | 27.13398692811053/50 [33:02<27:57, 73.37s/it]"
     ]
    },
    {
     "name": "stdout",
     "output_type": "stream",
     "text": [
      "Train Epoch: 38 [640/3920 (16%)]\tLoss: 0.409646\n",
      "Mem before-during-after: 44314624 47521280 44314624\n"
     ]
    },
    {
     "name": "stderr",
     "output_type": "stream",
     "text": [
      " 55%|███████████████████████████████████▉                              | 27.264705882358967/50 [33:12<27:53, 73.63s/it]"
     ]
    },
    {
     "name": "stdout",
     "output_type": "stream",
     "text": [
      "Train Epoch: 38 [1280/3920 (33%)]\tLoss: 0.670036\n",
      "Mem before-during-after: 44314624 46776320 44314624\n"
     ]
    },
    {
     "name": "stderr",
     "output_type": "stream",
     "text": [
      " 55%|████████████████████████████████████▏                             | 27.395424836607404/50 [33:21<27:37, 73.33s/it]"
     ]
    },
    {
     "name": "stdout",
     "output_type": "stream",
     "text": [
      "Train Epoch: 38 [1920/3920 (49%)]\tLoss: 0.069672\n",
      "Mem before-during-after: 44314624 47429120 44314624\n"
     ]
    },
    {
     "name": "stderr",
     "output_type": "stream",
     "text": [
      " 55%|████████████████████████████████████▉                              | 27.52614379085584/50 [33:31<27:27, 73.29s/it]"
     ]
    },
    {
     "name": "stdout",
     "output_type": "stream",
     "text": [
      "Train Epoch: 38 [2560/3920 (65%)]\tLoss: 0.446128\n",
      "Mem before-during-after: 44314624 46694400 44314624\n"
     ]
    },
    {
     "name": "stderr",
     "output_type": "stream",
     "text": [
      " 55%|████████████████████████████████████▌                             | 27.656862745104277/50 [33:41<27:15, 73.21s/it]"
     ]
    },
    {
     "name": "stdout",
     "output_type": "stream",
     "text": [
      "Train Epoch: 38 [3200/3920 (82%)]\tLoss: 0.407893\n",
      "Mem before-during-after: 44314624 46893056 44314624\n"
     ]
    },
    {
     "name": "stderr",
     "output_type": "stream",
     "text": [
      " 56%|████████████████████████████████████▋                             | 27.787581699352714/50 [33:50<27:00, 72.95s/it]"
     ]
    },
    {
     "name": "stdout",
     "output_type": "stream",
     "text": [
      "Train Epoch: 38 [3840/3920 (98%)]\tLoss: 0.192556\n",
      "Mem before-during-after: 44314624 47154688 44314624\n"
     ]
    },
    {
     "name": "stderr",
     "output_type": "stream",
     "text": [
      " 56%|████████████████████████████████████▉                             | 28.000000000006423/50 [34:05<26:25, 72.07s/it]"
     ]
    },
    {
     "name": "stdout",
     "output_type": "stream",
     "text": [
      "\n",
      "Test Epoch: 38\tAccuracy: 662/976 (68%)\n",
      "\n"
     ]
    },
    {
     "name": "stderr",
     "output_type": "stream",
     "text": [
      " 56%|████████████████████████████████████▉                             | 28.003267973862634/50 [34:06<26:34, 72.49s/it]"
     ]
    },
    {
     "name": "stdout",
     "output_type": "stream",
     "text": [
      "Train Epoch: 39 [0/3920 (0%)]\tLoss: 0.384775\n",
      "Mem before-during-after: 44313600 46852096 44314624\n"
     ]
    },
    {
     "name": "stderr",
     "output_type": "stream",
     "text": [
      " 56%|█████████████████████████████████████▋                             | 28.13398692811107/50 [34:15<26:44, 73.39s/it]"
     ]
    },
    {
     "name": "stdout",
     "output_type": "stream",
     "text": [
      "Train Epoch: 39 [640/3920 (16%)]\tLoss: 0.239350\n",
      "Mem before-during-after: 44314624 46913536 44314624\n"
     ]
    },
    {
     "name": "stderr",
     "output_type": "stream",
     "text": [
      " 57%|█████████████████████████████████████▎                            | 28.264705882359507/50 [34:25<26:31, 73.23s/it]"
     ]
    },
    {
     "name": "stdout",
     "output_type": "stream",
     "text": [
      "Train Epoch: 39 [1280/3920 (33%)]\tLoss: 0.825645\n",
      "Mem before-during-after: 44314624 48414208 44314624\n"
     ]
    },
    {
     "name": "stderr",
     "output_type": "stream",
     "text": [
      " 57%|█████████████████████████████████████▍                            | 28.395424836607944/50 [34:34<26:17, 73.00s/it]"
     ]
    },
    {
     "name": "stdout",
     "output_type": "stream",
     "text": [
      "Train Epoch: 39 [1920/3920 (49%)]\tLoss: 0.190019\n",
      "Mem before-during-after: 44314624 47351296 44314624\n"
     ]
    },
    {
     "name": "stderr",
     "output_type": "stream",
     "text": [
      " 57%|██████████████████████████████████████▏                            | 28.52614379085638/50 [34:44<26:05, 72.91s/it]"
     ]
    },
    {
     "name": "stdout",
     "output_type": "stream",
     "text": [
      "Train Epoch: 39 [2560/3920 (65%)]\tLoss: 0.099936\n",
      "Mem before-during-after: 44314624 47490560 44314624\n"
     ]
    },
    {
     "name": "stderr",
     "output_type": "stream",
     "text": [
      " 57%|█████████████████████████████████████▊                            | 28.656862745104817/50 [34:54<26:06, 73.38s/it]"
     ]
    },
    {
     "name": "stdout",
     "output_type": "stream",
     "text": [
      "Train Epoch: 39 [3200/3920 (82%)]\tLoss: 0.228829\n",
      "Mem before-during-after: 44314624 46473216 44314624\n"
     ]
    },
    {
     "name": "stderr",
     "output_type": "stream",
     "text": [
      " 58%|█████████████████████████████████████▉                            | 28.787581699353254/50 [35:03<25:48, 72.99s/it]"
     ]
    },
    {
     "name": "stdout",
     "output_type": "stream",
     "text": [
      "Train Epoch: 39 [3840/3920 (98%)]\tLoss: 0.401317\n",
      "Mem before-during-after: 44314624 46913536 44314624\n"
     ]
    },
    {
     "name": "stderr",
     "output_type": "stream",
     "text": [
      " 58%|██████████████████████████████████████▎                           | 29.000000000006963/50 [35:18<25:17, 72.25s/it]"
     ]
    },
    {
     "name": "stdout",
     "output_type": "stream",
     "text": [
      "\n",
      "Test Epoch: 39\tAccuracy: 663/976 (68%)\n",
      "\n"
     ]
    },
    {
     "name": "stderr",
     "output_type": "stream",
     "text": [
      " 58%|██████████████████████████████████████▎                           | 29.003267973863174/50 [35:19<25:22, 72.52s/it]"
     ]
    },
    {
     "name": "stdout",
     "output_type": "stream",
     "text": [
      "Train Epoch: 40 [0/3920 (0%)]\tLoss: 0.320935\n",
      "Mem before-during-after: 44313600 47482880 44314624\n"
     ]
    },
    {
     "name": "stderr",
     "output_type": "stream",
     "text": [
      " 58%|███████████████████████████████████████                            | 29.13398692811161/50 [35:28<25:21, 72.93s/it]"
     ]
    },
    {
     "name": "stdout",
     "output_type": "stream",
     "text": [
      "Train Epoch: 40 [640/3920 (16%)]\tLoss: 0.066929\n",
      "Mem before-during-after: 44314624 47429120 44314624\n"
     ]
    },
    {
     "name": "stderr",
     "output_type": "stream",
     "text": [
      " 59%|██████████████████████████████████████▋                           | 29.264705882360047/50 [35:38<25:09, 72.82s/it]"
     ]
    },
    {
     "name": "stdout",
     "output_type": "stream",
     "text": [
      "Train Epoch: 40 [1280/3920 (33%)]\tLoss: 0.148629\n",
      "Mem before-during-after: 44314624 47490560 44314624\n"
     ]
    },
    {
     "name": "stderr",
     "output_type": "stream",
     "text": [
      " 59%|██████████████████████████████████████▊                           | 29.395424836608484/50 [35:47<25:15, 73.53s/it]"
     ]
    },
    {
     "name": "stdout",
     "output_type": "stream",
     "text": [
      "Train Epoch: 40 [1920/3920 (49%)]\tLoss: 0.063644\n",
      "Mem before-during-after: 44314624 47154688 44314624\n"
     ]
    },
    {
     "name": "stderr",
     "output_type": "stream",
     "text": [
      " 59%|███████████████████████████████████████▌                           | 29.52614379085692/50 [35:57<24:58, 73.17s/it]"
     ]
    },
    {
     "name": "stdout",
     "output_type": "stream",
     "text": [
      "Train Epoch: 40 [2560/3920 (65%)]\tLoss: 0.204328\n",
      "Mem before-during-after: 44314624 47521280 44314624\n"
     ]
    },
    {
     "name": "stderr",
     "output_type": "stream",
     "text": [
      " 59%|███████████████████████████████████████▏                          | 29.656862745105357/50 [36:06<24:55, 73.51s/it]"
     ]
    },
    {
     "name": "stdout",
     "output_type": "stream",
     "text": [
      "Train Epoch: 40 [3200/3920 (82%)]\tLoss: 0.086250\n",
      "Mem before-during-after: 44314624 47366144 44314624\n"
     ]
    },
    {
     "name": "stderr",
     "output_type": "stream",
     "text": [
      " 60%|███████████████████████████████████████▎                          | 29.787581699353794/50 [36:16<24:50, 73.72s/it]"
     ]
    },
    {
     "name": "stdout",
     "output_type": "stream",
     "text": [
      "Train Epoch: 40 [3840/3920 (98%)]\tLoss: 0.210185\n",
      "Mem before-during-after: 44314624 47861248 44314624\n"
     ]
    },
    {
     "name": "stderr",
     "output_type": "stream",
     "text": [
      " 60%|███████████████████████████████████████▌                          | 30.000000000007503/50 [36:31<23:57, 71.89s/it]"
     ]
    },
    {
     "name": "stdout",
     "output_type": "stream",
     "text": [
      "\n",
      "Test Epoch: 40\tAccuracy: 656/976 (67%)\n",
      "\n"
     ]
    },
    {
     "name": "stderr",
     "output_type": "stream",
     "text": [
      " 60%|███████████████████████████████████████▌                          | 30.003267973863714/50 [36:32<24:06, 72.34s/it]"
     ]
    },
    {
     "name": "stdout",
     "output_type": "stream",
     "text": [
      "Train Epoch: 41 [0/3920 (0%)]\tLoss: 0.032316\n",
      "Mem before-during-after: 44313600 46872576 44314624\n"
     ]
    },
    {
     "name": "stderr",
     "output_type": "stream",
     "text": [
      " 60%|████████████████████████████████████████▍                          | 30.13398692811215/50 [36:41<24:12, 73.13s/it]"
     ]
    },
    {
     "name": "stdout",
     "output_type": "stream",
     "text": [
      "Train Epoch: 41 [640/3920 (16%)]\tLoss: 0.081036\n",
      "Mem before-during-after: 44314624 47721984 44314624\n"
     ]
    },
    {
     "name": "stderr",
     "output_type": "stream",
     "text": [
      " 61%|███████████████████████████████████████▉                          | 30.264705882360587/50 [36:51<24:03, 73.15s/it]"
     ]
    },
    {
     "name": "stdout",
     "output_type": "stream",
     "text": [
      "Train Epoch: 41 [1280/3920 (33%)]\tLoss: 0.079966\n",
      "Mem before-during-after: 44314624 47830528 44314624\n"
     ]
    },
    {
     "name": "stderr",
     "output_type": "stream",
     "text": [
      " 61%|████████████████████████████████████████                          | 30.395424836609024/50 [37:00<23:51, 73.02s/it]"
     ]
    },
    {
     "name": "stdout",
     "output_type": "stream",
     "text": [
      "Train Epoch: 41 [1920/3920 (49%)]\tLoss: 0.220757\n",
      "Mem before-during-after: 44314624 47552000 44314624\n"
     ]
    },
    {
     "name": "stderr",
     "output_type": "stream",
     "text": [
      " 61%|████████████████████████████████████████▉                          | 30.52614379085746/50 [37:10<23:41, 72.99s/it]"
     ]
    },
    {
     "name": "stdout",
     "output_type": "stream",
     "text": [
      "Train Epoch: 41 [2560/3920 (65%)]\tLoss: 0.428497\n",
      "Mem before-during-after: 44314624 47629824 44314624\n"
     ]
    },
    {
     "name": "stderr",
     "output_type": "stream",
     "text": [
      " 61%|████████████████████████████████████████▍                         | 30.656862745105897/50 [37:19<23:34, 73.13s/it]"
     ]
    },
    {
     "name": "stdout",
     "output_type": "stream",
     "text": [
      "Train Epoch: 41 [3200/3920 (82%)]\tLoss: 0.012481\n",
      "Mem before-during-after: 44314624 48017408 44314624\n"
     ]
    },
    {
     "name": "stderr",
     "output_type": "stream",
     "text": [
      " 62%|████████████████████████████████████████▋                         | 30.787581699354334/50 [37:29<23:37, 73.79s/it]"
     ]
    },
    {
     "name": "stdout",
     "output_type": "stream",
     "text": [
      "Train Epoch: 41 [3840/3920 (98%)]\tLoss: 0.303344\n",
      "Mem before-during-after: 44314624 47333376 44314624\n"
     ]
    },
    {
     "name": "stderr",
     "output_type": "stream",
     "text": [
      " 62%|████████████████████████████████████████▉                         | 31.000000000008043/50 [37:44<22:45, 71.89s/it]"
     ]
    },
    {
     "name": "stdout",
     "output_type": "stream",
     "text": [
      "\n",
      "Test Epoch: 41\tAccuracy: 662/976 (68%)\n",
      "\n"
     ]
    },
    {
     "name": "stderr",
     "output_type": "stream",
     "text": [
      " 62%|████████████████████████████████████████▉                         | 31.003267973864254/50 [37:45<22:54, 72.37s/it]"
     ]
    },
    {
     "name": "stdout",
     "output_type": "stream",
     "text": [
      "Train Epoch: 42 [0/3920 (0%)]\tLoss: 0.211517\n",
      "Mem before-during-after: 44313600 46872576 44314624\n"
     ]
    },
    {
     "name": "stderr",
     "output_type": "stream",
     "text": [
      " 62%|█████████████████████████████████████████▋                         | 31.13398692811269/50 [37:54<22:57, 73.03s/it]"
     ]
    },
    {
     "name": "stdout",
     "output_type": "stream",
     "text": [
      "Train Epoch: 42 [640/3920 (16%)]\tLoss: 0.098648\n",
      "Mem before-during-after: 44314624 46913536 44314624\n"
     ]
    },
    {
     "name": "stderr",
     "output_type": "stream",
     "text": [
      " 63%|█████████████████████████████████████████▎                        | 31.264705882361127/50 [38:04<22:48, 73.07s/it]"
     ]
    },
    {
     "name": "stdout",
     "output_type": "stream",
     "text": [
      "Train Epoch: 42 [1280/3920 (33%)]\tLoss: 0.887481\n",
      "Mem before-during-after: 44314624 47955968 44314624\n"
     ]
    },
    {
     "name": "stderr",
     "output_type": "stream",
     "text": [
      " 63%|█████████████████████████████████████████▍                        | 31.395424836609564/50 [38:13<22:40, 73.13s/it]"
     ]
    },
    {
     "name": "stdout",
     "output_type": "stream",
     "text": [
      "Train Epoch: 42 [1920/3920 (49%)]\tLoss: 0.635044\n",
      "Mem before-during-after: 44314624 47660544 44314624\n"
     ]
    },
    {
     "name": "stderr",
     "output_type": "stream",
     "text": [
      " 63%|███████████████████████████████████████████▌                         | 31.526143790858/50 [38:23<22:36, 73.42s/it]"
     ]
    },
    {
     "name": "stdout",
     "output_type": "stream",
     "text": [
      "Train Epoch: 42 [2560/3920 (65%)]\tLoss: 0.491712\n",
      "Mem before-during-after: 44314624 47830528 44314624\n"
     ]
    },
    {
     "name": "stderr",
     "output_type": "stream",
     "text": [
      " 63%|█████████████████████████████████████████▊                        | 31.656862745106437/50 [38:33<22:19, 73.01s/it]"
     ]
    },
    {
     "name": "stdout",
     "output_type": "stream",
     "text": [
      "Train Epoch: 42 [3200/3920 (82%)]\tLoss: 0.401671\n",
      "Mem before-during-after: 44314624 47351296 44314624\n"
     ]
    },
    {
     "name": "stderr",
     "output_type": "stream",
     "text": [
      " 64%|█████████████████████████████████████████▉                        | 31.787581699354874/50 [38:42<22:08, 72.95s/it]"
     ]
    },
    {
     "name": "stdout",
     "output_type": "stream",
     "text": [
      "Train Epoch: 42 [3840/3920 (98%)]\tLoss: 0.346375\n",
      "Mem before-during-after: 44314624 46694400 44314624\n"
     ]
    },
    {
     "name": "stderr",
     "output_type": "stream",
     "text": [
      " 64%|██████████████████████████████████████████▉                        | 32.00000000000858/50 [38:57<21:44, 72.46s/it]"
     ]
    },
    {
     "name": "stdout",
     "output_type": "stream",
     "text": [
      "\n",
      "Test Epoch: 42\tAccuracy: 659/976 (67%)\n",
      "\n"
     ]
    },
    {
     "name": "stderr",
     "output_type": "stream",
     "text": [
      " 64%|██████████████████████████████████████████▏                       | 32.003267973864794/50 [38:58<21:54, 73.02s/it]"
     ]
    },
    {
     "name": "stdout",
     "output_type": "stream",
     "text": [
      "Train Epoch: 43 [0/3920 (0%)]\tLoss: 0.241095\n",
      "Mem before-during-after: 44313600 46852096 44314624\n"
     ]
    },
    {
     "name": "stderr",
     "output_type": "stream",
     "text": [
      " 64%|███████████████████████████████████████████                        | 32.13398692811323/50 [39:07<21:51, 73.41s/it]"
     ]
    },
    {
     "name": "stdout",
     "output_type": "stream",
     "text": [
      "Train Epoch: 43 [640/3920 (16%)]\tLoss: 0.048598\n",
      "Mem before-during-after: 44314624 46852096 44314624\n"
     ]
    },
    {
     "name": "stderr",
     "output_type": "stream",
     "text": [
      " 65%|███████████████████████████████████████████▏                       | 32.26470588236167/50 [39:17<21:44, 73.56s/it]"
     ]
    },
    {
     "name": "stdout",
     "output_type": "stream",
     "text": [
      "Train Epoch: 43 [1280/3920 (33%)]\tLoss: 0.109047\n",
      "Mem before-during-after: 44314624 46755840 44314624\n"
     ]
    },
    {
     "name": "stderr",
     "output_type": "stream",
     "text": [
      " 65%|██████████████████████████████████████████▊                       | 32.395424836610104/50 [39:26<21:31, 73.38s/it]"
     ]
    },
    {
     "name": "stdout",
     "output_type": "stream",
     "text": [
      "Train Epoch: 43 [1920/3920 (49%)]\tLoss: 0.347728\n",
      "Mem before-during-after: 44314624 47521280 44314624\n"
     ]
    },
    {
     "name": "stderr",
     "output_type": "stream",
     "text": [
      " 65%|███████████████████████████████████████████▌                       | 32.52614379085854/50 [39:36<21:22, 73.42s/it]"
     ]
    },
    {
     "name": "stdout",
     "output_type": "stream",
     "text": [
      "Train Epoch: 43 [2560/3920 (65%)]\tLoss: 0.184093\n",
      "Mem before-during-after: 44314624 47190016 44314624\n"
     ]
    },
    {
     "name": "stderr",
     "output_type": "stream",
     "text": [
      " 65%|███████████████████████████████████████████▊                       | 32.65686274510698/50 [39:46<21:13, 73.41s/it]"
     ]
    },
    {
     "name": "stdout",
     "output_type": "stream",
     "text": [
      "Train Epoch: 43 [3200/3920 (82%)]\tLoss: 0.223313\n",
      "Mem before-during-after: 44314624 47721984 44314624\n"
     ]
    },
    {
     "name": "stderr",
     "output_type": "stream",
     "text": [
      " 66%|███████████████████████████████████████████▎                      | 32.787581699355414/50 [39:55<21:02, 73.35s/it]"
     ]
    },
    {
     "name": "stdout",
     "output_type": "stream",
     "text": [
      "Train Epoch: 43 [3840/3920 (98%)]\tLoss: 0.068823\n",
      "Mem before-during-after: 44314624 47830528 44314624\n"
     ]
    },
    {
     "name": "stderr",
     "output_type": "stream",
     "text": [
      " 66%|████████████████████████████████████████████▏                      | 33.00000000000912/50 [40:11<20:34, 72.61s/it]"
     ]
    },
    {
     "name": "stdout",
     "output_type": "stream",
     "text": [
      "\n",
      "Test Epoch: 43\tAccuracy: 656/976 (67%)\n",
      "\n"
     ]
    },
    {
     "name": "stderr",
     "output_type": "stream",
     "text": [
      " 66%|███████████████████████████████████████████▌                      | 33.003267973865334/50 [40:11<20:39, 72.93s/it]"
     ]
    },
    {
     "name": "stdout",
     "output_type": "stream",
     "text": [
      "Train Epoch: 44 [0/3920 (0%)]\tLoss: 0.272533\n",
      "Mem before-during-after: 44313600 47490560 44314624\n"
     ]
    },
    {
     "name": "stderr",
     "output_type": "stream",
     "text": [
      " 66%|████████████████████████████████████████████▍                      | 33.13398692811377/50 [40:21<20:38, 73.41s/it]"
     ]
    },
    {
     "name": "stdout",
     "output_type": "stream",
     "text": [
      "Train Epoch: 44 [640/3920 (16%)]\tLoss: 0.195709\n",
      "Mem before-during-after: 44314624 46893056 44314624\n"
     ]
    },
    {
     "name": "stderr",
     "output_type": "stream",
     "text": [
      " 67%|████████████████████████████████████████████▌                      | 33.26470588236221/50 [40:30<20:27, 73.34s/it]"
     ]
    },
    {
     "name": "stdout",
     "output_type": "stream",
     "text": [
      "Train Epoch: 44 [1280/3920 (33%)]\tLoss: 0.077501\n",
      "Mem before-during-after: 44314624 46714880 44314624\n"
     ]
    },
    {
     "name": "stderr",
     "output_type": "stream",
     "text": [
      " 67%|████████████████████████████████████████████                      | 33.395424836610644/50 [40:40<20:21, 73.56s/it]"
     ]
    },
    {
     "name": "stdout",
     "output_type": "stream",
     "text": [
      "Train Epoch: 44 [1920/3920 (49%)]\tLoss: 0.197546\n",
      "Mem before-during-after: 44314624 47427584 44314624\n"
     ]
    },
    {
     "name": "stderr",
     "output_type": "stream",
     "text": [
      " 67%|████████████████████████████████████████████▉                      | 33.52614379085908/50 [40:49<20:11, 73.54s/it]"
     ]
    },
    {
     "name": "stdout",
     "output_type": "stream",
     "text": [
      "Train Epoch: 44 [2560/3920 (65%)]\tLoss: 0.132240\n",
      "Mem before-during-after: 44314624 46872576 44314624\n"
     ]
    },
    {
     "name": "stderr",
     "output_type": "stream",
     "text": [
      " 67%|█████████████████████████████████████████████                      | 33.65686274510752/50 [40:59<19:57, 73.28s/it]"
     ]
    },
    {
     "name": "stdout",
     "output_type": "stream",
     "text": [
      "Train Epoch: 44 [3200/3920 (82%)]\tLoss: 0.178847\n",
      "Mem before-during-after: 44314624 47721984 44314624\n"
     ]
    },
    {
     "name": "stderr",
     "output_type": "stream",
     "text": [
      " 68%|████████████████████████████████████████████▌                     | 33.787581699355954/50 [41:09<19:50, 73.42s/it]"
     ]
    },
    {
     "name": "stdout",
     "output_type": "stream",
     "text": [
      "Train Epoch: 44 [3840/3920 (98%)]\tLoss: 0.165691\n",
      "Mem before-during-after: 44314624 47721984 44314624\n"
     ]
    },
    {
     "name": "stderr",
     "output_type": "stream",
     "text": [
      " 68%|█████████████████████████████████████████████▌                     | 34.00000000000966/50 [41:24<19:18, 72.42s/it]"
     ]
    },
    {
     "name": "stdout",
     "output_type": "stream",
     "text": [
      "\n",
      "Test Epoch: 44\tAccuracy: 640/976 (65%)\n",
      "\n"
     ]
    },
    {
     "name": "stderr",
     "output_type": "stream",
     "text": [
      " 68%|████████████████████████████████████████████▉                     | 34.003267973865874/50 [41:24<19:22, 72.67s/it]"
     ]
    },
    {
     "name": "stdout",
     "output_type": "stream",
     "text": [
      "Train Epoch: 45 [0/3920 (0%)]\tLoss: 0.044870\n",
      "Mem before-during-after: 44313600 47721984 44314624\n"
     ]
    },
    {
     "name": "stderr",
     "output_type": "stream",
     "text": [
      " 68%|█████████████████████████████████████████████▋                     | 34.13398692811431/50 [41:34<19:24, 73.41s/it]"
     ]
    },
    {
     "name": "stdout",
     "output_type": "stream",
     "text": [
      "Train Epoch: 45 [640/3920 (16%)]\tLoss: 0.065596\n",
      "Mem before-during-after: 44314624 47521280 44314624\n"
     ]
    },
    {
     "name": "stderr",
     "output_type": "stream",
     "text": [
      " 69%|█████████████████████████████████████████████▉                     | 34.26470588236275/50 [41:43<19:15, 73.43s/it]"
     ]
    },
    {
     "name": "stdout",
     "output_type": "stream",
     "text": [
      "Train Epoch: 45 [1280/3920 (33%)]\tLoss: 0.204200\n",
      "Mem before-during-after: 44314624 46776320 44314624\n"
     ]
    },
    {
     "name": "stderr",
     "output_type": "stream",
     "text": [
      " 69%|█████████████████████████████████████████████▍                    | 34.395424836611184/50 [41:53<19:08, 73.58s/it]"
     ]
    },
    {
     "name": "stdout",
     "output_type": "stream",
     "text": [
      "Train Epoch: 45 [1920/3920 (49%)]\tLoss: 0.320329\n",
      "Mem before-during-after: 44314624 46598144 44314624\n"
     ]
    },
    {
     "name": "stderr",
     "output_type": "stream",
     "text": [
      " 69%|██████████████████████████████████████████████▎                    | 34.52614379085962/50 [42:03<18:55, 73.41s/it]"
     ]
    },
    {
     "name": "stdout",
     "output_type": "stream",
     "text": [
      "Train Epoch: 45 [2560/3920 (65%)]\tLoss: 0.025459\n",
      "Mem before-during-after: 44314624 47582720 44314624\n"
     ]
    },
    {
     "name": "stderr",
     "output_type": "stream",
     "text": [
      " 69%|██████████████████████████████████████████████▍                    | 34.65686274510806/50 [42:12<19:02, 74.49s/it]"
     ]
    },
    {
     "name": "stdout",
     "output_type": "stream",
     "text": [
      "Train Epoch: 45 [3200/3920 (82%)]\tLoss: 0.093362\n",
      "Mem before-during-after: 44314624 46913536 44314624\n"
     ]
    },
    {
     "name": "stderr",
     "output_type": "stream",
     "text": [
      " 70%|█████████████████████████████████████████████▉                    | 34.787581699356494/50 [42:22<18:42, 73.79s/it]"
     ]
    },
    {
     "name": "stdout",
     "output_type": "stream",
     "text": [
      "Train Epoch: 45 [3840/3920 (98%)]\tLoss: 0.287925\n",
      "Mem before-during-after: 44314624 47366144 44314624\n"
     ]
    },
    {
     "name": "stderr",
     "output_type": "stream",
     "text": [
      " 70%|███████████████████████████████████████████████▌                    | 35.0000000000102/50 [42:37<18:05, 72.38s/it]"
     ]
    },
    {
     "name": "stdout",
     "output_type": "stream",
     "text": [
      "\n",
      "Test Epoch: 45\tAccuracy: 645/976 (66%)\n",
      "\n"
     ]
    },
    {
     "name": "stderr",
     "output_type": "stream",
     "text": [
      " 70%|██████████████████████████████████████████████▏                   | 35.003267973866414/50 [42:38<18:12, 72.84s/it]"
     ]
    },
    {
     "name": "stdout",
     "output_type": "stream",
     "text": [
      "Train Epoch: 46 [0/3920 (0%)]\tLoss: 0.111940\n",
      "Mem before-during-after: 44313600 47190016 44314624\n"
     ]
    },
    {
     "name": "stderr",
     "output_type": "stream",
     "text": [
      " 70%|███████████████████████████████████████████████                    | 35.13398692811485/50 [42:47<18:16, 73.78s/it]"
     ]
    },
    {
     "name": "stdout",
     "output_type": "stream",
     "text": [
      "Train Epoch: 46 [640/3920 (16%)]\tLoss: 0.951047\n",
      "Mem before-during-after: 44314624 46598144 44314624\n"
     ]
    },
    {
     "name": "stderr",
     "output_type": "stream",
     "text": [
      " 71%|███████████████████████████████████████████████▎                   | 35.26470588236329/50 [42:57<17:59, 73.25s/it]"
     ]
    },
    {
     "name": "stdout",
     "output_type": "stream",
     "text": [
      "Train Epoch: 46 [1280/3920 (33%)]\tLoss: 0.032129\n",
      "Mem before-during-after: 44314624 46913536 44314624\n"
     ]
    },
    {
     "name": "stderr",
     "output_type": "stream",
     "text": [
      " 71%|██████████████████████████████████████████████▋                   | 35.395424836611724/50 [43:06<17:54, 73.55s/it]"
     ]
    },
    {
     "name": "stdout",
     "output_type": "stream",
     "text": [
      "Train Epoch: 46 [1920/3920 (49%)]\tLoss: 0.231454\n",
      "Mem before-during-after: 44314624 46473216 44314624\n"
     ]
    },
    {
     "name": "stderr",
     "output_type": "stream",
     "text": [
      " 71%|███████████████████████████████████████████████▌                   | 35.52614379086016/50 [43:16<17:43, 73.46s/it]"
     ]
    },
    {
     "name": "stdout",
     "output_type": "stream",
     "text": [
      "Train Epoch: 46 [2560/3920 (65%)]\tLoss: 0.080597\n",
      "Mem before-during-after: 44314624 46893056 44314624\n"
     ]
    },
    {
     "name": "stderr",
     "output_type": "stream",
     "text": [
      " 71%|████████████████████████████████████████████████▍                   | 35.6568627451086/50 [43:26<17:37, 73.72s/it]"
     ]
    },
    {
     "name": "stdout",
     "output_type": "stream",
     "text": [
      "Train Epoch: 46 [3200/3920 (82%)]\tLoss: 0.799132\n",
      "Mem before-during-after: 44314624 48414208 44314624\n"
     ]
    },
    {
     "name": "stderr",
     "output_type": "stream",
     "text": [
      " 72%|███████████████████████████████████████████████▏                  | 35.787581699357034/50 [43:35<17:26, 73.62s/it]"
     ]
    },
    {
     "name": "stdout",
     "output_type": "stream",
     "text": [
      "Train Epoch: 46 [3840/3920 (98%)]\tLoss: 0.112226\n",
      "Mem before-during-after: 44314624 47333376 44314624\n"
     ]
    },
    {
     "name": "stderr",
     "output_type": "stream",
     "text": [
      " 72%|████████████████████████████████████████████████▏                  | 36.00000000001074/50 [43:50<16:46, 71.90s/it]"
     ]
    },
    {
     "name": "stdout",
     "output_type": "stream",
     "text": [
      "\n",
      "Test Epoch: 46\tAccuracy: 658/976 (67%)\n",
      "\n"
     ]
    },
    {
     "name": "stderr",
     "output_type": "stream",
     "text": [
      " 72%|███████████████████████████████████████████████▌                  | 36.003267973866954/50 [43:51<16:50, 72.23s/it]"
     ]
    },
    {
     "name": "stdout",
     "output_type": "stream",
     "text": [
      "Train Epoch: 47 [0/3920 (0%)]\tLoss: 0.179947\n",
      "Mem before-during-after: 44313600 47752704 44314624\n"
     ]
    },
    {
     "name": "stderr",
     "output_type": "stream",
     "text": [
      " 72%|████████████████████████████████████████████████▍                  | 36.13398692811539/50 [44:00<16:55, 73.25s/it]"
     ]
    },
    {
     "name": "stdout",
     "output_type": "stream",
     "text": [
      "Train Epoch: 47 [640/3920 (16%)]\tLoss: 0.058447\n",
      "Mem before-during-after: 44314624 46852096 44314624\n"
     ]
    },
    {
     "name": "stderr",
     "output_type": "stream",
     "text": [
      " 73%|████████████████████████████████████████████████▌                  | 36.26470588236383/50 [44:10<16:50, 73.56s/it]"
     ]
    },
    {
     "name": "stdout",
     "output_type": "stream",
     "text": [
      "Train Epoch: 47 [1280/3920 (33%)]\tLoss: 0.039318\n",
      "Mem before-during-after: 44314624 46776320 44314624\n"
     ]
    },
    {
     "name": "stderr",
     "output_type": "stream",
     "text": [
      " 73%|████████████████████████████████████████████████                  | 36.395424836612264/50 [44:20<16:37, 73.32s/it]"
     ]
    },
    {
     "name": "stdout",
     "output_type": "stream",
     "text": [
      "Train Epoch: 47 [1920/3920 (49%)]\tLoss: 0.675814\n",
      "Mem before-during-after: 44314624 46329856 44314624\n"
     ]
    },
    {
     "name": "stderr",
     "output_type": "stream",
     "text": [
      " 73%|█████████████████████████████████████████████████▋                  | 36.5261437908607/50 [44:29<16:22, 72.89s/it]"
     ]
    },
    {
     "name": "stdout",
     "output_type": "stream",
     "text": [
      "Train Epoch: 47 [2560/3920 (65%)]\tLoss: 0.767729\n",
      "Mem before-during-after: 44314624 47369728 44314624\n"
     ]
    },
    {
     "name": "stderr",
     "output_type": "stream",
     "text": [
      " 73%|█████████████████████████████████████████████████                  | 36.65686274510914/50 [44:39<16:34, 74.50s/it]"
     ]
    },
    {
     "name": "stdout",
     "output_type": "stream",
     "text": [
      "Train Epoch: 47 [3200/3920 (82%)]\tLoss: 0.025628\n",
      "Mem before-during-after: 44314624 47691264 44314624\n"
     ]
    },
    {
     "name": "stderr",
     "output_type": "stream",
     "text": [
      " 74%|████████████████████████████████████████████████▌                 | 36.787581699357574/50 [44:48<16:07, 73.26s/it]"
     ]
    },
    {
     "name": "stdout",
     "output_type": "stream",
     "text": [
      "Train Epoch: 47 [3840/3920 (98%)]\tLoss: 0.184943\n",
      "Mem before-during-after: 44314624 47752704 44314624\n"
     ]
    },
    {
     "name": "stderr",
     "output_type": "stream",
     "text": [
      " 74%|█████████████████████████████████████████████████▌                 | 37.00000000001128/50 [45:04<15:34, 71.91s/it]"
     ]
    },
    {
     "name": "stdout",
     "output_type": "stream",
     "text": [
      "\n",
      "Test Epoch: 47\tAccuracy: 653/976 (67%)\n",
      "\n"
     ]
    },
    {
     "name": "stderr",
     "output_type": "stream",
     "text": [
      " 74%|████████████████████████████████████████████████▊                 | 37.003267973867494/50 [45:04<15:42, 72.48s/it]"
     ]
    },
    {
     "name": "stdout",
     "output_type": "stream",
     "text": [
      "Train Epoch: 48 [0/3920 (0%)]\tLoss: 0.104831\n",
      "Mem before-during-after: 44313600 46694400 44314624\n"
     ]
    },
    {
     "name": "stderr",
     "output_type": "stream",
     "text": [
      " 74%|█████████████████████████████████████████████████▊                 | 37.13398692811593/50 [45:13<15:41, 73.21s/it]"
     ]
    },
    {
     "name": "stdout",
     "output_type": "stream",
     "text": [
      "Train Epoch: 48 [640/3920 (16%)]\tLoss: 0.092408\n",
      "Mem before-during-after: 44314624 46872576 44314624\n"
     ]
    },
    {
     "name": "stderr",
     "output_type": "stream",
     "text": [
      " 75%|█████████████████████████████████████████████████▉                 | 37.26470588236437/50 [45:23<15:32, 73.20s/it]"
     ]
    },
    {
     "name": "stdout",
     "output_type": "stream",
     "text": [
      "Train Epoch: 48 [1280/3920 (33%)]\tLoss: 0.203086\n",
      "Mem before-during-after: 44314624 47490560 44314624\n"
     ]
    },
    {
     "name": "stderr",
     "output_type": "stream",
     "text": [
      " 75%|█████████████████████████████████████████████████▎                | 37.395424836612804/50 [45:33<15:20, 73.04s/it]"
     ]
    },
    {
     "name": "stdout",
     "output_type": "stream",
     "text": [
      "Train Epoch: 48 [1920/3920 (49%)]\tLoss: 0.002789\n",
      "Mem before-during-after: 44314624 47752704 44314624\n"
     ]
    },
    {
     "name": "stderr",
     "output_type": "stream",
     "text": [
      " 75%|██████████████████████████████████████████████████▎                | 37.52614379086124/50 [45:42<15:06, 72.70s/it]"
     ]
    },
    {
     "name": "stdout",
     "output_type": "stream",
     "text": [
      "Train Epoch: 48 [2560/3920 (65%)]\tLoss: 0.479784\n",
      "Mem before-during-after: 44314624 46735360 44314624\n"
     ]
    },
    {
     "name": "stderr",
     "output_type": "stream",
     "text": [
      " 75%|██████████████████████████████████████████████████▍                | 37.65686274510968/50 [45:52<15:05, 73.33s/it]"
     ]
    },
    {
     "name": "stdout",
     "output_type": "stream",
     "text": [
      "Train Epoch: 48 [3200/3920 (82%)]\tLoss: 0.130518\n",
      "Mem before-during-after: 44314624 47544320 44314624\n"
     ]
    },
    {
     "name": "stderr",
     "output_type": "stream",
     "text": [
      " 76%|█████████████████████████████████████████████████▉                | 37.787581699358114/50 [46:01<14:53, 73.16s/it]"
     ]
    },
    {
     "name": "stdout",
     "output_type": "stream",
     "text": [
      "Train Epoch: 48 [3840/3920 (98%)]\tLoss: 0.006936\n",
      "Mem before-during-after: 44314624 47582720 44314624\n"
     ]
    },
    {
     "name": "stderr",
     "output_type": "stream",
     "text": [
      " 76%|██████████████████████████████████████████████████▉                | 38.00000000001182/50 [46:17<14:24, 72.05s/it]"
     ]
    },
    {
     "name": "stdout",
     "output_type": "stream",
     "text": [
      "\n",
      "Test Epoch: 48\tAccuracy: 648/976 (66%)\n",
      "\n"
     ]
    },
    {
     "name": "stderr",
     "output_type": "stream",
     "text": [
      " 76%|██████████████████████████████████████████████████▏               | 38.003267973868034/50 [46:17<14:27, 72.27s/it]"
     ]
    },
    {
     "name": "stdout",
     "output_type": "stream",
     "text": [
      "Train Epoch: 49 [0/3920 (0%)]\tLoss: 0.101490\n",
      "Mem before-during-after: 44313600 46776320 44314624\n"
     ]
    },
    {
     "name": "stderr",
     "output_type": "stream",
     "text": [
      " 76%|███████████████████████████████████████████████████                | 38.13398692811647/50 [46:26<14:31, 73.46s/it]"
     ]
    },
    {
     "name": "stdout",
     "output_type": "stream",
     "text": [
      "Train Epoch: 49 [640/3920 (16%)]\tLoss: 0.011980\n",
      "Mem before-during-after: 44314624 46872576 44314624\n"
     ]
    },
    {
     "name": "stderr",
     "output_type": "stream",
     "text": [
      " 77%|███████████████████████████████████████████████████▎               | 38.26470588236491/50 [46:36<14:20, 73.35s/it]"
     ]
    },
    {
     "name": "stdout",
     "output_type": "stream",
     "text": [
      "Train Epoch: 49 [1280/3920 (33%)]\tLoss: 0.267243\n",
      "Mem before-during-after: 44314624 46639104 44314624\n"
     ]
    },
    {
     "name": "stderr",
     "output_type": "stream",
     "text": [
      " 77%|██████████████████████████████████████████████████▋               | 38.395424836613344/50 [46:46<14:12, 73.44s/it]"
     ]
    },
    {
     "name": "stdout",
     "output_type": "stream",
     "text": [
      "Train Epoch: 49 [1920/3920 (49%)]\tLoss: 0.064706\n",
      "Mem before-during-after: 44314624 46852096 44314624\n"
     ]
    },
    {
     "name": "stderr",
     "output_type": "stream",
     "text": [
      " 77%|███████████████████████████████████████████████████▋               | 38.52614379086178/50 [46:55<13:58, 73.10s/it]"
     ]
    },
    {
     "name": "stdout",
     "output_type": "stream",
     "text": [
      "Train Epoch: 49 [2560/3920 (65%)]\tLoss: 0.033147\n",
      "Mem before-during-after: 44314624 47629824 44314624\n"
     ]
    },
    {
     "name": "stderr",
     "output_type": "stream",
     "text": [
      " 77%|███████████████████████████████████████████████████▊               | 38.65686274511022/50 [47:05<13:49, 73.10s/it]"
     ]
    },
    {
     "name": "stdout",
     "output_type": "stream",
     "text": [
      "Train Epoch: 49 [3200/3920 (82%)]\tLoss: 0.497944\n",
      "Mem before-during-after: 44314624 47333376 44314624\n"
     ]
    },
    {
     "name": "stderr",
     "output_type": "stream",
     "text": [
      " 78%|███████████████████████████████████████████████████▏              | 38.787581699358654/50 [47:14<13:41, 73.28s/it]"
     ]
    },
    {
     "name": "stdout",
     "output_type": "stream",
     "text": [
      "Train Epoch: 49 [3840/3920 (98%)]\tLoss: 0.034342\n",
      "Mem before-during-after: 44314624 46755840 44314624\n"
     ]
    },
    {
     "name": "stderr",
     "output_type": "stream",
     "text": [
      " 78%|████████████████████████████████████████████████████▎              | 39.00000000001236/50 [47:30<13:14, 72.25s/it]"
     ]
    },
    {
     "name": "stdout",
     "output_type": "stream",
     "text": [
      "\n",
      "Test Epoch: 49\tAccuracy: 651/976 (66%)\n",
      "\n"
     ]
    },
    {
     "name": "stderr",
     "output_type": "stream",
     "text": [
      " 78%|███████████████████████████████████████████████████▍              | 39.003267973868574/50 [47:30<13:19, 72.73s/it]"
     ]
    },
    {
     "name": "stdout",
     "output_type": "stream",
     "text": [
      "Train Epoch: 50 [0/3920 (0%)]\tLoss: 0.619386\n",
      "Mem before-during-after: 44313600 47490560 44314624\n"
     ]
    },
    {
     "name": "stderr",
     "output_type": "stream",
     "text": [
      " 78%|████████████████████████████████████████████████████▍              | 39.13398692811701/50 [47:40<13:15, 73.20s/it]"
     ]
    },
    {
     "name": "stdout",
     "output_type": "stream",
     "text": [
      "Train Epoch: 50 [640/3920 (16%)]\tLoss: 0.187504\n",
      "Mem before-during-after: 44314624 47721984 44314624\n"
     ]
    },
    {
     "name": "stderr",
     "output_type": "stream",
     "text": [
      " 79%|████████████████████████████████████████████████████▌              | 39.26470588236545/50 [47:49<13:03, 73.01s/it]"
     ]
    },
    {
     "name": "stdout",
     "output_type": "stream",
     "text": [
      "Train Epoch: 50 [1280/3920 (33%)]\tLoss: 0.080444\n",
      "Mem before-during-after: 44314624 46913536 44314624\n"
     ]
    },
    {
     "name": "stderr",
     "output_type": "stream",
     "text": [
      " 79%|████████████████████████████████████████████████████              | 39.395424836613884/50 [47:59<12:52, 72.84s/it]"
     ]
    },
    {
     "name": "stdout",
     "output_type": "stream",
     "text": [
      "Train Epoch: 50 [1920/3920 (49%)]\tLoss: 0.044948\n",
      "Mem before-during-after: 44314624 47721984 44314624\n"
     ]
    },
    {
     "name": "stderr",
     "output_type": "stream",
     "text": [
      " 79%|████████████████████████████████████████████████████▉              | 39.52614379086232/50 [48:08<12:47, 73.31s/it]"
     ]
    },
    {
     "name": "stdout",
     "output_type": "stream",
     "text": [
      "Train Epoch: 50 [2560/3920 (65%)]\tLoss: 0.088620\n",
      "Mem before-during-after: 44314624 46755840 44314624\n"
     ]
    },
    {
     "name": "stderr",
     "output_type": "stream",
     "text": [
      " 79%|█████████████████████████████████████████████████████▏             | 39.65686274511076/50 [48:18<12:35, 73.02s/it]"
     ]
    },
    {
     "name": "stdout",
     "output_type": "stream",
     "text": [
      "Train Epoch: 50 [3200/3920 (82%)]\tLoss: 0.398716\n",
      "Mem before-during-after: 44314624 47366144 44314624\n"
     ]
    },
    {
     "name": "stderr",
     "output_type": "stream",
     "text": [
      " 80%|████████████████████████████████████████████████████▌             | 39.787581699359194/50 [48:27<12:25, 73.01s/it]"
     ]
    },
    {
     "name": "stdout",
     "output_type": "stream",
     "text": [
      "Train Epoch: 50 [3840/3920 (98%)]\tLoss: 0.322748\n",
      "Mem before-during-after: 44314624 47752704 44314624\n"
     ]
    },
    {
     "name": "stderr",
     "output_type": "stream",
     "text": [
      " 80%|██████████████████████████████████████████████████████▍             | 40.0000000000129/50 [48:43<12:01, 72.16s/it]"
     ]
    },
    {
     "name": "stdout",
     "output_type": "stream",
     "text": [
      "\n",
      "Test Epoch: 50\tAccuracy: 658/976 (67%)\n",
      "\n"
     ]
    },
    {
     "name": "stderr",
     "output_type": "stream",
     "text": [
      " 80%|████████████████████████████████████████████████████▊             | 40.003267973869114/50 [48:43<12:05, 72.59s/it]"
     ]
    },
    {
     "name": "stdout",
     "output_type": "stream",
     "text": [
      "Train Epoch: 51 [0/3920 (0%)]\tLoss: 0.088750\n",
      "Mem before-during-after: 44313600 47721984 44314624\n"
     ]
    },
    {
     "name": "stderr",
     "output_type": "stream",
     "text": [
      " 80%|█████████████████████████████████████████████████████▊             | 40.13398692811755/50 [48:52<12:00, 72.99s/it]"
     ]
    },
    {
     "name": "stdout",
     "output_type": "stream",
     "text": [
      "Train Epoch: 51 [640/3920 (16%)]\tLoss: 0.238722\n",
      "Mem before-during-after: 44314624 47503360 44314624\n"
     ]
    },
    {
     "name": "stderr",
     "output_type": "stream",
     "text": [
      " 81%|█████████████████████████████████████████████████████▉             | 40.26470588236599/50 [49:02<11:49, 72.90s/it]"
     ]
    },
    {
     "name": "stdout",
     "output_type": "stream",
     "text": [
      "Train Epoch: 51 [1280/3920 (33%)]\tLoss: 0.122552\n",
      "Mem before-during-after: 44314624 46893056 44314624\n"
     ]
    },
    {
     "name": "stderr",
     "output_type": "stream",
     "text": [
      " 81%|█████████████████████████████████████████████████████▎            | 40.395424836614424/50 [49:12<11:42, 73.12s/it]"
     ]
    },
    {
     "name": "stdout",
     "output_type": "stream",
     "text": [
      "Train Epoch: 51 [1920/3920 (49%)]\tLoss: 0.679128\n",
      "Mem before-during-after: 44314624 47783424 44314624\n"
     ]
    },
    {
     "name": "stderr",
     "output_type": "stream",
     "text": [
      " 81%|██████████████████████████████████████████████████████▎            | 40.52614379086286/50 [49:21<11:30, 72.89s/it]"
     ]
    },
    {
     "name": "stdout",
     "output_type": "stream",
     "text": [
      "Train Epoch: 51 [2560/3920 (65%)]\tLoss: 0.560110\n",
      "Mem before-during-after: 44314624 47154688 44314624\n"
     ]
    },
    {
     "name": "stderr",
     "output_type": "stream",
     "text": [
      " 81%|███████████████████████████████████████████████████████▎            | 40.6568627451113/50 [49:31<11:24, 73.31s/it]"
     ]
    },
    {
     "name": "stdout",
     "output_type": "stream",
     "text": [
      "Train Epoch: 51 [3200/3920 (82%)]\tLoss: 0.334374\n",
      "Mem before-during-after: 44314624 47490560 44314624\n"
     ]
    },
    {
     "name": "stderr",
     "output_type": "stream",
     "text": [
      " 82%|█████████████████████████████████████████████████████▊            | 40.787581699359734/50 [49:40<11:11, 72.90s/it]"
     ]
    },
    {
     "name": "stdout",
     "output_type": "stream",
     "text": [
      "Train Epoch: 51 [3840/3920 (98%)]\tLoss: 0.083233\n",
      "Mem before-during-after: 44314624 46776320 44314624\n"
     ]
    },
    {
     "name": "stderr",
     "output_type": "stream",
     "text": [
      " 82%|██████████████████████████████████████████████████████▉            | 41.00000000001344/50 [49:56<10:48, 72.07s/it]"
     ]
    },
    {
     "name": "stdout",
     "output_type": "stream",
     "text": [
      "\n",
      "Test Epoch: 51\tAccuracy: 657/976 (67%)\n",
      "\n"
     ]
    },
    {
     "name": "stderr",
     "output_type": "stream",
     "text": [
      " 82%|██████████████████████████████████████████████████████            | 41.003267973869654/50 [49:56<10:51, 72.42s/it]"
     ]
    },
    {
     "name": "stdout",
     "output_type": "stream",
     "text": [
      "Train Epoch: 52 [0/3920 (0%)]\tLoss: 0.030019\n",
      "Mem before-during-after: 44313600 47721984 44314624\n"
     ]
    },
    {
     "name": "stderr",
     "output_type": "stream",
     "text": [
      " 82%|███████████████████████████████████████████████████████            | 41.13398692811809/50 [50:05<10:53, 73.67s/it]"
     ]
    },
    {
     "name": "stdout",
     "output_type": "stream",
     "text": [
      "Train Epoch: 52 [640/3920 (16%)]\tLoss: 0.709868\n",
      "Mem before-during-after: 44314624 47691264 44314624\n"
     ]
    },
    {
     "name": "stderr",
     "output_type": "stream",
     "text": [
      " 83%|███████████████████████████████████████████████████████▎           | 41.26470588236653/50 [50:15<10:36, 72.87s/it]"
     ]
    },
    {
     "name": "stdout",
     "output_type": "stream",
     "text": [
      "Train Epoch: 52 [1280/3920 (33%)]\tLoss: 0.300998\n",
      "Mem before-during-after: 44314624 47459840 44314624\n"
     ]
    },
    {
     "name": "stderr",
     "output_type": "stream",
     "text": [
      " 83%|██████████████████████████████████████████████████████▋           | 41.395424836614964/50 [50:24<10:30, 73.28s/it]"
     ]
    },
    {
     "name": "stdout",
     "output_type": "stream",
     "text": [
      "Train Epoch: 52 [1920/3920 (49%)]\tLoss: 0.046709\n",
      "Mem before-during-after: 44314624 46714880 44314624\n"
     ]
    },
    {
     "name": "stderr",
     "output_type": "stream",
     "text": [
      " 83%|████████████████████████████████████████████████████████▍           | 41.5261437908634/50 [50:34<10:19, 73.07s/it]"
     ]
    },
    {
     "name": "stdout",
     "output_type": "stream",
     "text": [
      "Train Epoch: 52 [2560/3920 (65%)]\tLoss: 0.111529\n",
      "Mem before-during-after: 44314624 47382016 44314624\n"
     ]
    },
    {
     "name": "stderr",
     "output_type": "stream",
     "text": [
      " 83%|███████████████████████████████████████████████████████▊           | 41.65686274511184/50 [50:44<10:07, 72.78s/it]"
     ]
    },
    {
     "name": "stdout",
     "output_type": "stream",
     "text": [
      "Train Epoch: 52 [3200/3920 (82%)]\tLoss: 0.202088\n",
      "Mem before-during-after: 44314624 47861248 44314624\n"
     ]
    },
    {
     "name": "stderr",
     "output_type": "stream",
     "text": [
      " 84%|███████████████████████████████████████████████████████▏          | 41.787581699360274/50 [50:53<10:04, 73.56s/it]"
     ]
    },
    {
     "name": "stdout",
     "output_type": "stream",
     "text": [
      "Train Epoch: 52 [3840/3920 (98%)]\tLoss: 0.315906\n",
      "Mem before-during-after: 44314624 47366144 44314624\n"
     ]
    },
    {
     "name": "stderr",
     "output_type": "stream",
     "text": [
      " 84%|████████████████████████████████████████████████████████▎          | 42.00000000001398/50 [51:09<09:38, 72.35s/it]"
     ]
    },
    {
     "name": "stdout",
     "output_type": "stream",
     "text": [
      "\n",
      "Test Epoch: 52\tAccuracy: 653/976 (67%)\n",
      "\n"
     ]
    },
    {
     "name": "stderr",
     "output_type": "stream",
     "text": [
      " 84%|███████████████████████████████████████████████████████▍          | 42.003267973870194/50 [51:09<09:42, 72.81s/it]"
     ]
    },
    {
     "name": "stdout",
     "output_type": "stream",
     "text": [
      "Train Epoch: 53 [0/3920 (0%)]\tLoss: 0.239290\n",
      "Mem before-during-after: 44313600 47190016 44314624\n"
     ]
    },
    {
     "name": "stderr",
     "output_type": "stream",
     "text": [
      " 84%|████████████████████████████████████████████████████████▍          | 42.13398692811863/50 [51:18<09:38, 73.49s/it]"
     ]
    },
    {
     "name": "stdout",
     "output_type": "stream",
     "text": [
      "Train Epoch: 53 [640/3920 (16%)]\tLoss: 0.053509\n",
      "Mem before-during-after: 44314624 47691264 44314624\n"
     ]
    },
    {
     "name": "stderr",
     "output_type": "stream",
     "text": [
      " 85%|████████████████████████████████████████████████████████▋          | 42.26470588236707/50 [51:28<09:27, 73.31s/it]"
     ]
    },
    {
     "name": "stdout",
     "output_type": "stream",
     "text": [
      "Train Epoch: 53 [1280/3920 (33%)]\tLoss: 0.447834\n",
      "Mem before-during-after: 44314624 46913536 44314624\n"
     ]
    },
    {
     "name": "stderr",
     "output_type": "stream",
     "text": [
      " 85%|███████████████████████████████████████████████████████▉          | 42.395424836615504/50 [51:38<09:16, 73.21s/it]"
     ]
    },
    {
     "name": "stdout",
     "output_type": "stream",
     "text": [
      "Train Epoch: 53 [1920/3920 (49%)]\tLoss: 0.022760\n",
      "Mem before-during-after: 44314624 47351296 44314624\n"
     ]
    },
    {
     "name": "stderr",
     "output_type": "stream",
     "text": [
      " 85%|████████████████████████████████████████████████████████▉          | 42.52614379086394/50 [51:47<09:14, 74.25s/it]"
     ]
    },
    {
     "name": "stdout",
     "output_type": "stream",
     "text": [
      "Train Epoch: 53 [2560/3920 (65%)]\tLoss: 0.307285\n",
      "Mem before-during-after: 44314624 46694400 44314624\n"
     ]
    },
    {
     "name": "stderr",
     "output_type": "stream",
     "text": [
      " 85%|█████████████████████████████████████████████████████████▏         | 42.65686274511238/50 [51:57<08:58, 73.29s/it]"
     ]
    },
    {
     "name": "stdout",
     "output_type": "stream",
     "text": [
      "Train Epoch: 53 [3200/3920 (82%)]\tLoss: 0.022901\n",
      "Mem before-during-after: 44314624 47503360 44314624\n"
     ]
    },
    {
     "name": "stderr",
     "output_type": "stream",
     "text": [
      " 86%|████████████████████████████████████████████████████████▍         | 42.787581699360814/50 [52:06<08:49, 73.40s/it]"
     ]
    },
    {
     "name": "stdout",
     "output_type": "stream",
     "text": [
      "Train Epoch: 53 [3840/3920 (98%)]\tLoss: 0.221665\n",
      "Mem before-during-after: 44314624 47427584 44314624\n"
     ]
    },
    {
     "name": "stderr",
     "output_type": "stream",
     "text": [
      " 86%|█████████████████████████████████████████████████████████▌         | 43.00000000001452/50 [52:22<08:26, 72.37s/it]"
     ]
    },
    {
     "name": "stdout",
     "output_type": "stream",
     "text": [
      "\n",
      "Test Epoch: 53\tAccuracy: 663/976 (68%)\n",
      "\n"
     ]
    },
    {
     "name": "stderr",
     "output_type": "stream",
     "text": [
      " 86%|████████████████████████████████████████████████████████▊         | 43.003267973870734/50 [52:22<08:29, 72.79s/it]"
     ]
    },
    {
     "name": "stdout",
     "output_type": "stream",
     "text": [
      "Train Epoch: 54 [0/3920 (0%)]\tLoss: 0.179575\n",
      "Mem before-during-after: 44313600 47830528 44314624\n"
     ]
    },
    {
     "name": "stderr",
     "output_type": "stream",
     "text": [
      " 86%|█████████████████████████████████████████████████████████▊         | 43.13398692811917/50 [52:32<08:22, 73.21s/it]"
     ]
    },
    {
     "name": "stdout",
     "output_type": "stream",
     "text": [
      "Train Epoch: 54 [640/3920 (16%)]\tLoss: 0.048147\n",
      "Mem before-during-after: 44314624 46694400 44314624\n"
     ]
    },
    {
     "name": "stderr",
     "output_type": "stream",
     "text": [
      " 87%|█████████████████████████████████████████████████████████▉         | 43.26470588236761/50 [52:41<08:12, 73.17s/it]"
     ]
    },
    {
     "name": "stdout",
     "output_type": "stream",
     "text": [
      "Train Epoch: 54 [1280/3920 (33%)]\tLoss: 0.006066\n",
      "Mem before-during-after: 44314624 47351296 44314624\n"
     ]
    },
    {
     "name": "stderr",
     "output_type": "stream",
     "text": [
      " 87%|█████████████████████████████████████████████████████████▎        | 43.395424836616044/50 [52:51<08:01, 72.89s/it]"
     ]
    },
    {
     "name": "stdout",
     "output_type": "stream",
     "text": [
      "Train Epoch: 54 [1920/3920 (49%)]\tLoss: 0.203006\n",
      "Mem before-during-after: 44314624 47629824 44314624\n"
     ]
    },
    {
     "name": "stderr",
     "output_type": "stream",
     "text": [
      " 87%|██████████████████████████████████████████████████████████▎        | 43.52614379086448/50 [53:00<07:54, 73.22s/it]"
     ]
    },
    {
     "name": "stdout",
     "output_type": "stream",
     "text": [
      "Train Epoch: 54 [2560/3920 (65%)]\tLoss: 0.179325\n",
      "Mem before-during-after: 44314624 46735360 44314624\n"
     ]
    },
    {
     "name": "stderr",
     "output_type": "stream",
     "text": [
      " 87%|██████████████████████████████████████████████████████████▌        | 43.65686274511292/50 [53:10<07:43, 73.11s/it]"
     ]
    },
    {
     "name": "stdout",
     "output_type": "stream",
     "text": [
      "Train Epoch: 54 [3200/3920 (82%)]\tLoss: 0.120105\n",
      "Mem before-during-after: 44314624 47490560 44314624\n"
     ]
    },
    {
     "name": "stderr",
     "output_type": "stream",
     "text": [
      " 88%|█████████████████████████████████████████████████████████▊        | 43.787581699361354/50 [53:19<07:36, 73.42s/it]"
     ]
    },
    {
     "name": "stdout",
     "output_type": "stream",
     "text": [
      "Train Epoch: 54 [3840/3920 (98%)]\tLoss: 0.134062\n",
      "Mem before-during-after: 44314624 47564800 44314624\n"
     ]
    },
    {
     "name": "stderr",
     "output_type": "stream",
     "text": [
      " 88%|██████████████████████████████████████████████████████████▉        | 44.00000000001506/50 [53:35<07:14, 72.36s/it]"
     ]
    },
    {
     "name": "stdout",
     "output_type": "stream",
     "text": [
      "\n",
      "Test Epoch: 54\tAccuracy: 644/976 (66%)\n",
      "\n"
     ]
    },
    {
     "name": "stderr",
     "output_type": "stream",
     "text": [
      " 88%|██████████████████████████████████████████████████████████        | 44.003267973871274/50 [53:35<07:16, 72.71s/it]"
     ]
    },
    {
     "name": "stdout",
     "output_type": "stream",
     "text": [
      "Train Epoch: 55 [0/3920 (0%)]\tLoss: 0.046777\n",
      "Mem before-during-after: 44313600 47490560 44314624\n"
     ]
    },
    {
     "name": "stderr",
     "output_type": "stream",
     "text": [
      " 88%|███████████████████████████████████████████████████████████▏       | 44.13398692811971/50 [53:45<07:08, 73.10s/it]"
     ]
    },
    {
     "name": "stdout",
     "output_type": "stream",
     "text": [
      "Train Epoch: 55 [640/3920 (16%)]\tLoss: 0.042751\n",
      "Mem before-during-after: 44314624 47783424 44314624\n"
     ]
    },
    {
     "name": "stderr",
     "output_type": "stream",
     "text": [
      " 89%|███████████████████████████████████████████████████████████▎       | 44.26470588236815/50 [53:54<07:00, 73.25s/it]"
     ]
    },
    {
     "name": "stdout",
     "output_type": "stream",
     "text": [
      "Train Epoch: 55 [1280/3920 (33%)]\tLoss: 0.474704\n",
      "Mem before-during-after: 44314624 46735360 44314624\n"
     ]
    },
    {
     "name": "stderr",
     "output_type": "stream",
     "text": [
      " 89%|██████████████████████████████████████████████████████████▌       | 44.395424836616584/50 [54:04<06:52, 73.58s/it]"
     ]
    },
    {
     "name": "stdout",
     "output_type": "stream",
     "text": [
      "Train Epoch: 55 [1920/3920 (49%)]\tLoss: 0.235647\n",
      "Mem before-during-after: 44314624 46735360 44314624\n"
     ]
    },
    {
     "name": "stderr",
     "output_type": "stream",
     "text": [
      " 89%|███████████████████████████████████████████████████████████▋       | 44.52614379086502/50 [54:13<06:41, 73.31s/it]"
     ]
    },
    {
     "name": "stdout",
     "output_type": "stream",
     "text": [
      "Train Epoch: 55 [2560/3920 (65%)]\tLoss: 0.253025\n",
      "Mem before-during-after: 44314624 46852096 44314624\n"
     ]
    },
    {
     "name": "stderr",
     "output_type": "stream",
     "text": [
      " 89%|███████████████████████████████████████████████████████████▊       | 44.65686274511346/50 [54:23<06:29, 72.93s/it]"
     ]
    },
    {
     "name": "stdout",
     "output_type": "stream",
     "text": [
      "Train Epoch: 55 [3200/3920 (82%)]\tLoss: 0.188028\n",
      "Mem before-during-after: 44314624 47552000 44314624\n"
     ]
    },
    {
     "name": "stderr",
     "output_type": "stream",
     "text": [
      " 90%|███████████████████████████████████████████████████████████       | 44.787581699361894/50 [54:32<06:28, 74.57s/it]"
     ]
    },
    {
     "name": "stdout",
     "output_type": "stream",
     "text": [
      "Train Epoch: 55 [3840/3920 (98%)]\tLoss: 0.035344\n",
      "Mem before-during-after: 44314624 46776320 44314624\n"
     ]
    },
    {
     "name": "stderr",
     "output_type": "stream",
     "text": [
      " 90%|█████████████████████████████████████████████████████████████▏      | 45.0000000000156/50 [54:48<06:04, 72.95s/it]"
     ]
    },
    {
     "name": "stdout",
     "output_type": "stream",
     "text": [
      "\n",
      "Test Epoch: 55\tAccuracy: 658/976 (67%)\n",
      "\n"
     ]
    },
    {
     "name": "stderr",
     "output_type": "stream",
     "text": [
      " 90%|███████████████████████████████████████████████████████████▍      | 45.003267973871814/50 [54:48<06:04, 72.90s/it]"
     ]
    },
    {
     "name": "stdout",
     "output_type": "stream",
     "text": [
      "Train Epoch: 56 [0/3920 (0%)]\tLoss: 0.024347\n",
      "Mem before-during-after: 44313600 46796800 44314624\n"
     ]
    },
    {
     "name": "stderr",
     "output_type": "stream",
     "text": [
      " 90%|████████████████████████████████████████████████████████████▍      | 45.13398692812025/50 [54:58<05:57, 73.51s/it]"
     ]
    },
    {
     "name": "stdout",
     "output_type": "stream",
     "text": [
      "Train Epoch: 56 [640/3920 (16%)]\tLoss: 0.034552\n",
      "Mem before-during-after: 44314624 46872576 44314624\n"
     ]
    },
    {
     "name": "stderr",
     "output_type": "stream",
     "text": [
      " 91%|████████████████████████████████████████████████████████████▋      | 45.26470588236869/50 [55:07<05:48, 73.49s/it]"
     ]
    },
    {
     "name": "stdout",
     "output_type": "stream",
     "text": [
      "Train Epoch: 56 [1280/3920 (33%)]\tLoss: 0.309315\n",
      "Mem before-during-after: 44314624 47702016 44314624\n"
     ]
    },
    {
     "name": "stderr",
     "output_type": "stream",
     "text": [
      " 91%|███████████████████████████████████████████████████████████▉      | 45.395424836617124/50 [55:17<05:39, 73.82s/it]"
     ]
    },
    {
     "name": "stdout",
     "output_type": "stream",
     "text": [
      "Train Epoch: 56 [1920/3920 (49%)]\tLoss: 0.303521\n",
      "Mem before-during-after: 44314624 47861248 44314624\n"
     ]
    },
    {
     "name": "stderr",
     "output_type": "stream",
     "text": [
      " 91%|█████████████████████████████████████████████████████████████      | 45.52614379086556/50 [55:26<05:28, 73.47s/it]"
     ]
    },
    {
     "name": "stdout",
     "output_type": "stream",
     "text": [
      "Train Epoch: 56 [2560/3920 (65%)]\tLoss: 0.246818\n",
      "Mem before-during-after: 44314624 46639104 44314624\n"
     ]
    },
    {
     "name": "stderr",
     "output_type": "stream",
     "text": [
      " 91%|███████████████████████████████████████████████████████████████      | 45.656862745114/50 [55:36<05:19, 73.54s/it]"
     ]
    },
    {
     "name": "stdout",
     "output_type": "stream",
     "text": [
      "Train Epoch: 56 [3200/3920 (82%)]\tLoss: 0.239512\n",
      "Mem before-during-after: 44314624 47783424 44314624\n"
     ]
    },
    {
     "name": "stderr",
     "output_type": "stream",
     "text": [
      " 92%|████████████████████████████████████████████████████████████▍     | 45.787581699362434/50 [55:46<05:08, 73.35s/it]"
     ]
    },
    {
     "name": "stdout",
     "output_type": "stream",
     "text": [
      "Train Epoch: 56 [3840/3920 (98%)]\tLoss: 0.165588\n",
      "Mem before-during-after: 44314624 47366144 44314624\n"
     ]
    },
    {
     "name": "stderr",
     "output_type": "stream",
     "text": [
      " 92%|█████████████████████████████████████████████████████████████▋     | 46.00000000001614/50 [56:01<04:50, 72.59s/it]"
     ]
    },
    {
     "name": "stdout",
     "output_type": "stream",
     "text": [
      "\n",
      "Test Epoch: 56\tAccuracy: 651/976 (66%)\n",
      "\n"
     ]
    },
    {
     "name": "stderr",
     "output_type": "stream",
     "text": [
      " 92%|████████████████████████████████████████████████████████████▋     | 46.003267973872354/50 [56:01<04:51, 73.01s/it]"
     ]
    },
    {
     "name": "stdout",
     "output_type": "stream",
     "text": [
      "Train Epoch: 57 [0/3920 (0%)]\tLoss: 0.051496\n",
      "Mem before-during-after: 44313600 46776320 44314624\n"
     ]
    },
    {
     "name": "stderr",
     "output_type": "stream",
     "text": [
      " 92%|█████████████████████████████████████████████████████████████▊     | 46.13398692812079/50 [56:11<04:44, 73.67s/it]"
     ]
    },
    {
     "name": "stdout",
     "output_type": "stream",
     "text": [
      "Train Epoch: 57 [640/3920 (16%)]\tLoss: 0.617057\n",
      "Mem before-during-after: 44314624 46776320 44314624\n"
     ]
    },
    {
     "name": "stderr",
     "output_type": "stream",
     "text": [
      " 93%|█████████████████████████████████████████████████████████████▉     | 46.26470588236923/50 [56:21<04:33, 73.29s/it]"
     ]
    },
    {
     "name": "stdout",
     "output_type": "stream",
     "text": [
      "Train Epoch: 57 [1280/3920 (33%)]\tLoss: 0.155731\n",
      "Mem before-during-after: 44314624 47351296 44314624\n"
     ]
    },
    {
     "name": "stderr",
     "output_type": "stream",
     "text": [
      " 93%|█████████████████████████████████████████████████████████████▏    | 46.395424836617664/50 [56:30<04:24, 73.25s/it]"
     ]
    },
    {
     "name": "stdout",
     "output_type": "stream",
     "text": [
      "Train Epoch: 57 [1920/3920 (49%)]\tLoss: 0.247182\n",
      "Mem before-during-after: 44314624 47564800 44314624\n"
     ]
    },
    {
     "name": "stderr",
     "output_type": "stream",
     "text": [
      " 93%|███████████████████████████████████████████████████████████████▎    | 46.5261437908661/50 [56:40<04:14, 73.17s/it]"
     ]
    },
    {
     "name": "stdout",
     "output_type": "stream",
     "text": [
      "Train Epoch: 57 [2560/3920 (65%)]\tLoss: 0.333040\n",
      "Mem before-during-after: 44314624 47482880 44314624\n"
     ]
    },
    {
     "name": "stderr",
     "output_type": "stream",
     "text": [
      " 93%|██████████████████████████████████████████████████████████████▌    | 46.65686274511454/50 [56:49<04:06, 73.64s/it]"
     ]
    },
    {
     "name": "stdout",
     "output_type": "stream",
     "text": [
      "Train Epoch: 57 [3200/3920 (82%)]\tLoss: 0.191028\n",
      "Mem before-during-after: 44314624 47366144 44314624\n"
     ]
    },
    {
     "name": "stderr",
     "output_type": "stream",
     "text": [
      " 94%|█████████████████████████████████████████████████████████████▊    | 46.787581699362974/50 [56:59<03:55, 73.19s/it]"
     ]
    },
    {
     "name": "stdout",
     "output_type": "stream",
     "text": [
      "Train Epoch: 57 [3840/3920 (98%)]\tLoss: 0.041234\n",
      "Mem before-during-after: 44314624 47721984 44314624\n"
     ]
    },
    {
     "name": "stderr",
     "output_type": "stream",
     "text": [
      " 94%|██████████████████████████████████████████████████████████████▉    | 47.00000000001668/50 [57:14<03:36, 72.20s/it]"
     ]
    },
    {
     "name": "stdout",
     "output_type": "stream",
     "text": [
      "\n",
      "Test Epoch: 57\tAccuracy: 641/976 (65%)\n",
      "\n"
     ]
    },
    {
     "name": "stderr",
     "output_type": "stream",
     "text": [
      " 94%|██████████████████████████████████████████████████████████████    | 47.003267973872894/50 [57:15<03:39, 73.34s/it]"
     ]
    },
    {
     "name": "stdout",
     "output_type": "stream",
     "text": [
      "Train Epoch: 58 [0/3920 (0%)]\tLoss: 0.044979\n",
      "Mem before-during-after: 44313600 47660544 44314624\n"
     ]
    },
    {
     "name": "stderr",
     "output_type": "stream",
     "text": [
      " 94%|███████████████████████████████████████████████████████████████▏   | 47.13398692812133/50 [57:24<03:29, 73.23s/it]"
     ]
    },
    {
     "name": "stdout",
     "output_type": "stream",
     "text": [
      "Train Epoch: 58 [640/3920 (16%)]\tLoss: 0.245979\n",
      "Mem before-during-after: 44314624 46755840 44314624\n"
     ]
    },
    {
     "name": "stderr",
     "output_type": "stream",
     "text": [
      " 95%|███████████████████████████████████████████████████████████████▎   | 47.26470588236977/50 [57:34<03:20, 73.36s/it]"
     ]
    },
    {
     "name": "stdout",
     "output_type": "stream",
     "text": [
      "Train Epoch: 58 [1280/3920 (33%)]\tLoss: 0.249626\n",
      "Mem before-during-after: 44314624 47427584 44314624\n"
     ]
    },
    {
     "name": "stderr",
     "output_type": "stream",
     "text": [
      " 95%|██████████████████████████████████████████████████████████████▌   | 47.395424836618204/50 [57:43<03:11, 73.40s/it]"
     ]
    },
    {
     "name": "stdout",
     "output_type": "stream",
     "text": [
      "Train Epoch: 58 [1920/3920 (49%)]\tLoss: 0.005370\n",
      "Mem before-during-after: 44314624 47721984 44314624\n"
     ]
    },
    {
     "name": "stderr",
     "output_type": "stream",
     "text": [
      " 95%|███████████████████████████████████████████████████████████████▋   | 47.52614379086664/50 [57:53<03:01, 73.33s/it]"
     ]
    },
    {
     "name": "stdout",
     "output_type": "stream",
     "text": [
      "Train Epoch: 58 [2560/3920 (65%)]\tLoss: 0.005391\n",
      "Mem before-during-after: 44314624 46776320 44314624\n"
     ]
    },
    {
     "name": "stderr",
     "output_type": "stream",
     "text": [
      " 95%|███████████████████████████████████████████████████████████████▊   | 47.65686274511508/50 [58:03<02:51, 73.33s/it]"
     ]
    },
    {
     "name": "stdout",
     "output_type": "stream",
     "text": [
      "Train Epoch: 58 [3200/3920 (82%)]\tLoss: 0.002355\n",
      "Mem before-during-after: 44314624 46893056 44314624\n"
     ]
    },
    {
     "name": "stderr",
     "output_type": "stream",
     "text": [
      " 96%|███████████████████████████████████████████████████████████████   | 47.787581699363514/50 [58:12<02:42, 73.28s/it]"
     ]
    },
    {
     "name": "stdout",
     "output_type": "stream",
     "text": [
      "Train Epoch: 58 [3840/3920 (98%)]\tLoss: 0.013958\n",
      "Mem before-during-after: 44314624 46735360 44314624\n"
     ]
    },
    {
     "name": "stderr",
     "output_type": "stream",
     "text": [
      " 96%|███████████████████████████████████████████████████████████████▎  | 48.000000000017224/50 [58:27<02:24, 72.14s/it]"
     ]
    },
    {
     "name": "stdout",
     "output_type": "stream",
     "text": [
      "\n",
      "Test Epoch: 58\tAccuracy: 647/976 (66%)\n",
      "\n"
     ]
    },
    {
     "name": "stderr",
     "output_type": "stream",
     "text": [
      " 96%|███████████████████████████████████████████████████████████████▎  | 48.003267973873434/50 [58:28<02:24, 72.45s/it]"
     ]
    },
    {
     "name": "stdout",
     "output_type": "stream",
     "text": [
      "Train Epoch: 59 [0/3920 (0%)]\tLoss: 0.005403\n",
      "Mem before-during-after: 44313600 47660544 44314624\n"
     ]
    },
    {
     "name": "stderr",
     "output_type": "stream",
     "text": [
      " 96%|████████████████████████████████████████████████████████████████▍  | 48.13398692812187/50 [58:37<02:15, 72.87s/it]"
     ]
    },
    {
     "name": "stdout",
     "output_type": "stream",
     "text": [
      "Train Epoch: 59 [640/3920 (16%)]\tLoss: 0.005072\n",
      "Mem before-during-after: 44314624 47552000 44314624\n"
     ]
    },
    {
     "name": "stderr",
     "output_type": "stream",
     "text": [
      " 97%|████████████████████████████████████████████████████████████████▋  | 48.26470588237031/50 [58:47<02:07, 73.22s/it]"
     ]
    },
    {
     "name": "stdout",
     "output_type": "stream",
     "text": [
      "Train Epoch: 59 [1280/3920 (33%)]\tLoss: 0.000540\n",
      "Mem before-during-after: 44314624 47629824 44314624\n"
     ]
    },
    {
     "name": "stderr",
     "output_type": "stream",
     "text": [
      " 97%|███████████████████████████████████████████████████████████████▉  | 48.395424836618744/50 [58:56<01:57, 73.33s/it]"
     ]
    },
    {
     "name": "stdout",
     "output_type": "stream",
     "text": [
      "Train Epoch: 59 [1920/3920 (49%)]\tLoss: 0.021101\n",
      "Mem before-during-after: 44314624 47721984 44314624\n"
     ]
    },
    {
     "name": "stderr",
     "output_type": "stream",
     "text": [
      " 97%|█████████████████████████████████████████████████████████████████  | 48.52614379086718/50 [59:06<01:48, 73.45s/it]"
     ]
    },
    {
     "name": "stdout",
     "output_type": "stream",
     "text": [
      "Train Epoch: 59 [2560/3920 (65%)]\tLoss: 0.223253\n",
      "Mem before-during-after: 44314624 47660544 44314624\n"
     ]
    },
    {
     "name": "stderr",
     "output_type": "stream",
     "text": [
      " 97%|█████████████████████████████████████████████████████████████████▏ | 48.65686274511562/50 [59:16<01:38, 73.31s/it]"
     ]
    },
    {
     "name": "stdout",
     "output_type": "stream",
     "text": [
      "Train Epoch: 59 [3200/3920 (82%)]\tLoss: 0.221721\n",
      "Mem before-during-after: 44314624 47544320 44314624\n"
     ]
    },
    {
     "name": "stderr",
     "output_type": "stream",
     "text": [
      " 98%|████████████████████████████████████████████████████████████████▍ | 48.787581699364054/50 [59:25<01:29, 73.46s/it]"
     ]
    },
    {
     "name": "stdout",
     "output_type": "stream",
     "text": [
      "Train Epoch: 59 [3840/3920 (98%)]\tLoss: 0.339367\n",
      "Mem before-during-after: 44314624 46913536 44314624\n"
     ]
    },
    {
     "name": "stderr",
     "output_type": "stream",
     "text": [
      " 98%|████████████████████████████████████████████████████████████████▋ | 49.000000000017764/50 [59:41<01:12, 72.41s/it]"
     ]
    },
    {
     "name": "stdout",
     "output_type": "stream",
     "text": [
      "\n",
      "Test Epoch: 59\tAccuracy: 645/976 (66%)\n",
      "\n"
     ]
    },
    {
     "name": "stderr",
     "output_type": "stream",
     "text": [
      " 98%|████████████████████████████████████████████████████████████████▋ | 49.003267973873974/50 [59:41<01:12, 72.56s/it]"
     ]
    },
    {
     "name": "stdout",
     "output_type": "stream",
     "text": [
      "Train Epoch: 60 [0/3920 (0%)]\tLoss: 0.032271\n",
      "Mem before-during-after: 44313600 46913536 44314624\n"
     ]
    },
    {
     "name": "stderr",
     "output_type": "stream",
     "text": [
      " 98%|█████████████████████████████████████████████████████████████████▊ | 49.13398692812241/50 [59:50<01:03, 73.23s/it]"
     ]
    },
    {
     "name": "stdout",
     "output_type": "stream",
     "text": [
      "Train Epoch: 60 [640/3920 (16%)]\tLoss: 0.013395\n",
      "Mem before-during-after: 44314624 47552000 44314624\n"
     ]
    },
    {
     "name": "stderr",
     "output_type": "stream",
     "text": [
      " 99%|████████████████████████████████████████████████████████████████ | 49.26470588237085/50 [1:00:00<00:53, 73.36s/it]"
     ]
    },
    {
     "name": "stdout",
     "output_type": "stream",
     "text": [
      "Train Epoch: 60 [1280/3920 (33%)]\tLoss: 0.060757\n",
      "Mem before-during-after: 44314624 46755840 44314624\n"
     ]
    },
    {
     "name": "stderr",
     "output_type": "stream",
     "text": [
      " 99%|███████████████████████████████████████████████████████████████▏| 49.395424836619284/50 [1:00:10<00:44, 73.13s/it]"
     ]
    },
    {
     "name": "stdout",
     "output_type": "stream",
     "text": [
      "Train Epoch: 60 [1920/3920 (49%)]\tLoss: 0.156991\n",
      "Mem before-during-after: 44314624 47552000 44314624\n"
     ]
    },
    {
     "name": "stderr",
     "output_type": "stream",
     "text": [
      " 99%|████████████████████████████████████████████████████████████████▍| 49.52614379086772/50 [1:00:19<00:34, 72.95s/it]"
     ]
    },
    {
     "name": "stdout",
     "output_type": "stream",
     "text": [
      "Train Epoch: 60 [2560/3920 (65%)]\tLoss: 0.043697\n",
      "Mem before-during-after: 44314624 46913536 44314624\n"
     ]
    },
    {
     "name": "stderr",
     "output_type": "stream",
     "text": [
      " 99%|████████████████████████████████████████████████████████████████▌| 49.65686274511616/50 [1:00:29<00:24, 72.80s/it]"
     ]
    },
    {
     "name": "stdout",
     "output_type": "stream",
     "text": [
      "Train Epoch: 60 [3200/3920 (82%)]\tLoss: 0.078270\n",
      "Mem before-during-after: 44314624 47351296 44314624\n"
     ]
    },
    {
     "name": "stderr",
     "output_type": "stream",
     "text": [
      "100%|███████████████████████████████████████████████████████████████▋| 49.787581699364594/50 [1:00:38<00:15, 73.27s/it]"
     ]
    },
    {
     "name": "stdout",
     "output_type": "stream",
     "text": [
      "Train Epoch: 60 [3840/3920 (98%)]\tLoss: 0.002112\n",
      "Mem before-during-after: 44314624 46893056 44314624\n"
     ]
    },
    {
     "name": "stderr",
     "output_type": "stream",
     "text": [
      "100%|████████████████████████████████████████████████████████████████▉| 49.99673202616209/50 [1:00:53<00:00, 72.12s/it]/home/bunny/anaconda3/envs/audio/lib/python3.9/site-packages/tqdm/std.py:639: TqdmWarning: clamping frac to range [0, 1]\n",
      "  full_bar = Bar(frac,\n",
      "100%|████████████████████████████████████████████████████████████████| 50.000000000018304/50 [1:00:54<00:00, 73.08s/it]"
     ]
    },
    {
     "name": "stdout",
     "output_type": "stream",
     "text": [
      "\n",
      "Test Epoch: 60\tAccuracy: 639/976 (65%)\n",
      "\n"
     ]
    },
    {
     "name": "stderr",
     "output_type": "stream",
     "text": [
      "\n"
     ]
    }
   ],
   "source": [
    "n_epoch = 10\n",
    "n_epoch2 = 50\n",
    "# train_losses = []\n",
    "# test_accuracy = []\n",
    "best_accuracy = test_accuracy[-1]\n",
    "best_epoch = n_epoch\n",
    "model_path_prefix = '../models_cremad4_mfcc/cremad_label4_m18mfcc_best_'\n",
    "\n",
    "optimizer = optim.RAdam(model.parameters(), lr=0.00002)\n",
    "scheduler = optim.lr_scheduler.OneCycleLR(\n",
    "    optimizer, max_lr=0.01,\n",
    "    steps_per_epoch=len(train_loader), epochs=n_epoch2)\n",
    "log_interval = 40\n",
    "pbar_update = 1 / (len(train_loader) + len(test_loader))\n",
    "model.to(device)\n",
    "with tqdm(total=n_epoch2) as pbar:\n",
    "    for epoch in range(1+n_epoch, n_epoch2 + n_epoch + 1):\n",
    "        train(model, epoch, log_interval, train_losses)\n",
    "        acc = test(model, epoch)\n",
    "        test_accuracy += [acc]\n",
    "        if acc > best_accuracy:\n",
    "            best_accuracy = acc\n",
    "            best_epoch = epoch\n",
    "            bmodel_path = f'{model_path_prefix}{epoch}epoch.pt'\n",
    "            torch.save(model.state_dict(), bmodel_path)\n",
    "            print(f'saved model: {bmodel_path}')\n",
    "        scheduler.step()"
   ]
  },
  {
   "cell_type": "code",
   "execution_count": 73,
   "id": "41eeef4f-fe24-44bc-b2b6-a52debfe52f2",
   "metadata": {},
   "outputs": [
    {
     "data": {
      "text/plain": [
       "[<matplotlib.lines.Line2D at 0x7f466a731490>]"
      ]
     },
     "execution_count": 73,
     "metadata": {},
     "output_type": "execute_result"
    },
    {
     "data": {
      "image/png": "[encoded data removed]",
      "text/plain": [
       "<Figure size 640x480 with 1 Axes>"
      ]
     },
     "metadata": {},
     "output_type": "display_data"
    }
   ],
   "source": [
    "plt.plot(train_losses)"
   ]
  },
  {
   "cell_type": "code",
   "execution_count": 74,
   "id": "863cc414-9ea7-4d61-bab3-cad008520262",
   "metadata": {},
   "outputs": [
    {
     "data": {
      "text/plain": [
       "[<matplotlib.lines.Line2D at 0x7f46698ceb20>]"
      ]
     },
     "execution_count": 74,
     "metadata": {},
     "output_type": "execute_result"
    },
    {
     "data": {
      "image/png": "[encoded data removed]",
      "text/plain": [
       "<Figure size 640x480 with 1 Axes>"
      ]
     },
     "metadata": {},
     "output_type": "display_data"
    }
   ],
   "source": [
    "plt.plot(test_accuracy)"
   ]
  },
  {
   "cell_type": "code",
   "execution_count": 75,
   "id": "ca51abea-f8bc-4953-8545-fb8d685005e6",
   "metadata": {},
   "outputs": [
    {
     "name": "stdout",
     "output_type": "stream",
     "text": [
      "../models_cremad4_mfcc/cremad_label4_m18mfcc_best_31epoch.pt\n",
      "Correct: 677/976 (0.6936)\n",
      "{'acc_detail': tensor([0.7787, 0.6590, 0.7205, 0.6111], device='cuda:0'),\n",
      " 'acc_unweighted': tensor(0.6923, device='cuda:0'),\n",
      " 'acc_weighted': tensor(0.6936, device='cuda:0'),\n",
      " 'f1s': tensor(0.6913, device='cuda:0'),\n",
      " 'f1s_detail': tensor([0.7665, 0.6398, 0.7291, 0.6299], device='cuda:0'),\n",
      " 'precision_detail': tensor([0.7548, 0.6217, 0.7379, 0.6498], device='cuda:0'),\n",
      " 'recall_detail': tensor([0.7787, 0.6590, 0.7205, 0.6111], device='cuda:0'),\n",
      " 'rocauc': tensor([0.8934, 0.8786, 0.9147, 0.8209], device='cuda:0'),\n",
      " 'uar': tensor(0.6923, device='cuda:0'),\n",
      " 'wap': tensor(0.6937, device='cuda:0')}\n"
     ]
    },
    {
     "data": {
      "text/plain": [
       "tensor([[197,   9,   2,  45],\n",
       "        [  8, 143,  47,  19],\n",
       "        [  8,  44, 183,  19],\n",
       "        [ 48,  34,  16, 154]], device='cuda:0')"
      ]
     },
     "execution_count": 75,
     "metadata": {},
     "output_type": "execute_result"
    }
   ],
   "source": [
    "model.to('cpu')\n",
    "best_model_path = f'{model_path_prefix}{best_epoch}epoch.pt'\n",
    "print(best_model_path)\n",
    "best_model = M18(config=model_config,\n",
    "           n_input=x_train[0].shape[0], n_output=len(labels))\n",
    "best_model.load_state_dict(torch.load(best_model_path))\n",
    "best_model.to(device)\n",
    "\n",
    "metrics_best, confusion_matrix_best = report_metrics(\n",
    "    best_model, labels=labels, device=device)\n",
    "best_model.to('cpu')\n",
    "pprint(metrics_best.compute())\n",
    "confusion_matrix_best.compute()"
   ]
  },
  {
   "cell_type": "code",
   "execution_count": 76,
   "id": "69dce590-c866-4d65-8477-16e0573b144b",
   "metadata": {},
   "outputs": [
    {
     "name": "stderr",
     "output_type": "stream",
     "text": [
      "  0%|                                                               | 0.0032679738562091504/40 [00:00<50:14, 75.37s/it]"
     ]
    },
    {
     "name": "stdout",
     "output_type": "stream",
     "text": [
      "Train Epoch: 61 [0/3920 (0%)]\tLoss: 0.367598\n",
      "Mem before-during-after: 40799744 44007424 47373824\n"
     ]
    },
    {
     "name": "stderr",
     "output_type": "stream",
     "text": [
      "  0%|▏                                                                 | 0.1339869281045752/40 [00:09<49:32, 74.56s/it]"
     ]
    },
    {
     "name": "stdout",
     "output_type": "stream",
     "text": [
      "Train Epoch: 61 [640/3920 (16%)]\tLoss: 0.008036\n",
      "Mem before-during-after: 47373824 49657344 47373824\n"
     ]
    },
    {
     "name": "stderr",
     "output_type": "stream",
     "text": [
      "  1%|▍                                                                | 0.26470588235294074/40 [00:19<49:01, 74.02s/it]"
     ]
    },
    {
     "name": "stdout",
     "output_type": "stream",
     "text": [
      "Train Epoch: 61 [1280/3920 (33%)]\tLoss: 0.004075\n",
      "Mem before-during-after: 47373824 49856000 47373824\n"
     ]
    },
    {
     "name": "stderr",
     "output_type": "stream",
     "text": [
      "  1%|▋                                                                 | 0.3954248366013063/40 [00:29<49:05, 74.38s/it]"
     ]
    },
    {
     "name": "stdout",
     "output_type": "stream",
     "text": [
      "Train Epoch: 61 [1920/3920 (49%)]\tLoss: 0.016324\n",
      "Mem before-during-after: 47373824 50781184 47373824\n"
     ]
    },
    {
     "name": "stderr",
     "output_type": "stream",
     "text": [
      "  1%|▊                                                                 | 0.5261437908496719/40 [00:39<49:06, 74.64s/it]"
     ]
    },
    {
     "name": "stdout",
     "output_type": "stream",
     "text": [
      "Train Epoch: 61 [2560/3920 (65%)]\tLoss: 0.054595\n",
      "Mem before-during-after: 47373824 49856000 47373824\n"
     ]
    },
    {
     "name": "stderr",
     "output_type": "stream",
     "text": [
      "  2%|█                                                                 | 0.6568627450980374/40 [00:48<48:39, 74.22s/it]"
     ]
    },
    {
     "name": "stdout",
     "output_type": "stream",
     "text": [
      "Train Epoch: 61 [3200/3920 (82%)]\tLoss: 0.009171\n",
      "Mem before-during-after: 47373824 50428928 47373824\n"
     ]
    },
    {
     "name": "stderr",
     "output_type": "stream",
     "text": [
      "  2%|█▎                                                                 | 0.787581699346403/40 [00:58<48:29, 74.19s/it]"
     ]
    },
    {
     "name": "stdout",
     "output_type": "stream",
     "text": [
      "Train Epoch: 61 [3840/3920 (98%)]\tLoss: 0.590847\n",
      "Mem before-during-after: 47373824 49698304 47373824\n"
     ]
    },
    {
     "name": "stderr",
     "output_type": "stream",
     "text": [
      "  2%|█▋                                                                 | 0.999999999999997/40 [01:14<47:48, 73.54s/it]"
     ]
    },
    {
     "name": "stdout",
     "output_type": "stream",
     "text": [
      "\n",
      "Test Epoch: 61\tAccuracy: 649/976 (66%)\n",
      "\n"
     ]
    },
    {
     "name": "stderr",
     "output_type": "stream",
     "text": [
      "  3%|█▋                                                                | 1.0032679738562063/40 [01:14<48:04, 73.97s/it]"
     ]
    },
    {
     "name": "stdout",
     "output_type": "stream",
     "text": [
      "Train Epoch: 62 [0/3920 (0%)]\tLoss: 0.013828\n",
      "Mem before-during-after: 47372800 49815040 47373824\n"
     ]
    },
    {
     "name": "stderr",
     "output_type": "stream",
     "text": [
      "  3%|█▊                                                                | 1.1339869281045718/40 [01:24<48:12, 74.42s/it]"
     ]
    },
    {
     "name": "stdout",
     "output_type": "stream",
     "text": [
      "Train Epoch: 62 [640/3920 (16%)]\tLoss: 0.000150\n",
      "Mem before-during-after: 47373824 50781184 47373824\n"
     ]
    },
    {
     "name": "stderr",
     "output_type": "stream",
     "text": [
      "  3%|██                                                                | 1.2647058823529373/40 [01:33<47:59, 74.33s/it]"
     ]
    },
    {
     "name": "stdout",
     "output_type": "stream",
     "text": [
      "Train Epoch: 62 [1280/3920 (33%)]\tLoss: 0.128747\n",
      "Mem before-during-after: 47373824 50580480 47373824\n"
     ]
    },
    {
     "name": "stderr",
     "output_type": "stream",
     "text": [
      "  3%|██▎                                                                | 1.395424836601303/40 [01:43<47:51, 74.38s/it]"
     ]
    },
    {
     "name": "stdout",
     "output_type": "stream",
     "text": [
      "Train Epoch: 62 [1920/3920 (49%)]\tLoss: 0.225276\n",
      "Mem before-during-after: 47373824 50624000 47373824\n"
     ]
    },
    {
     "name": "stderr",
     "output_type": "stream",
     "text": [
      "  4%|██▌                                                               | 1.5261437908496684/40 [01:53<47:42, 74.39s/it]"
     ]
    },
    {
     "name": "stdout",
     "output_type": "stream",
     "text": [
      "Train Epoch: 62 [2560/3920 (65%)]\tLoss: 0.262092\n",
      "Mem before-during-after: 47373824 50889728 47373824\n"
     ]
    },
    {
     "name": "stderr",
     "output_type": "stream",
     "text": [
      "  4%|██▊                                                                | 1.656862745098034/40 [02:03<47:34, 74.46s/it]"
     ]
    },
    {
     "name": "stdout",
     "output_type": "stream",
     "text": [
      "Train Epoch: 62 [3200/3920 (82%)]\tLoss: 0.014040\n",
      "Mem before-during-after: 47373824 50410496 47373824\n"
     ]
    },
    {
     "name": "stderr",
     "output_type": "stream",
     "text": [
      "  4%|██▉                                                               | 1.7875816993463995/40 [02:12<47:19, 74.30s/it]"
     ]
    },
    {
     "name": "stdout",
     "output_type": "stream",
     "text": [
      "Train Epoch: 62 [3840/3920 (98%)]\tLoss: 0.021395\n",
      "Mem before-during-after: 47373824 50689024 47373824\n"
     ]
    },
    {
     "name": "stderr",
     "output_type": "stream",
     "text": [
      "  5%|███▎                                                              | 1.9999999999999936/40 [02:28<46:21, 73.21s/it]"
     ]
    },
    {
     "name": "stdout",
     "output_type": "stream",
     "text": [
      "\n",
      "Test Epoch: 62\tAccuracy: 645/976 (66%)\n",
      "\n"
     ]
    },
    {
     "name": "stderr",
     "output_type": "stream",
     "text": [
      "  5%|███▎                                                               | 2.003267973856203/40 [02:28<46:39, 73.68s/it]"
     ]
    },
    {
     "name": "stdout",
     "output_type": "stream",
     "text": [
      "Train Epoch: 63 [0/3920 (0%)]\tLoss: 0.022744\n",
      "Mem before-during-after: 47372800 49931776 47373824\n"
     ]
    },
    {
     "name": "stderr",
     "output_type": "stream",
     "text": [
      "  5%|███▌                                                              | 2.1339869281045685/40 [02:38<47:33, 75.35s/it]"
     ]
    },
    {
     "name": "stdout",
     "output_type": "stream",
     "text": [
      "Train Epoch: 63 [640/3920 (16%)]\tLoss: 0.045310\n",
      "Mem before-during-after: 47373824 50428928 47373824\n"
     ]
    },
    {
     "name": "stderr",
     "output_type": "stream",
     "text": [
      "  6%|███▊                                                               | 2.264705882352934/40 [02:48<46:51, 74.52s/it]"
     ]
    },
    {
     "name": "stdout",
     "output_type": "stream",
     "text": [
      "Train Epoch: 63 [1280/3920 (33%)]\tLoss: 0.509364\n",
      "Mem before-during-after: 47373824 51473408 47373824\n"
     ]
    },
    {
     "name": "stderr",
     "output_type": "stream",
     "text": [
      "  6%|███▉                                                              | 2.3954248366012996/40 [02:57<46:59, 74.97s/it]"
     ]
    },
    {
     "name": "stdout",
     "output_type": "stream",
     "text": [
      "Train Epoch: 63 [1920/3920 (49%)]\tLoss: 0.396751\n",
      "Mem before-during-after: 47373824 50519040 47373824\n"
     ]
    },
    {
     "name": "stderr",
     "output_type": "stream",
     "text": [
      "  6%|████▏                                                              | 2.526143790849665/40 [03:07<46:23, 74.27s/it]"
     ]
    },
    {
     "name": "stdout",
     "output_type": "stream",
     "text": [
      "Train Epoch: 63 [2560/3920 (65%)]\tLoss: 0.020228\n",
      "Mem before-during-after: 47373824 50889728 47373824\n"
     ]
    },
    {
     "name": "stderr",
     "output_type": "stream",
     "text": [
      "  7%|████▍                                                             | 2.6568627450980307/40 [03:17<46:18, 74.40s/it]"
     ]
    },
    {
     "name": "stdout",
     "output_type": "stream",
     "text": [
      "Train Epoch: 63 [3200/3920 (82%)]\tLoss: 0.347098\n",
      "Mem before-during-after: 47373824 50920448 47373824\n"
     ]
    },
    {
     "name": "stderr",
     "output_type": "stream",
     "text": [
      "  7%|████▋                                                              | 2.787581699346396/40 [03:27<46:20, 74.72s/it]"
     ]
    },
    {
     "name": "stdout",
     "output_type": "stream",
     "text": [
      "Train Epoch: 63 [3840/3920 (98%)]\tLoss: 0.186765\n",
      "Mem before-during-after: 47373824 50750464 47373824\n"
     ]
    },
    {
     "name": "stderr",
     "output_type": "stream",
     "text": [
      "  7%|████▉                                                             | 2.9999999999999902/40 [03:42<45:35, 73.92s/it]"
     ]
    },
    {
     "name": "stdout",
     "output_type": "stream",
     "text": [
      "\n",
      "Test Epoch: 63\tAccuracy: 643/976 (66%)\n",
      "\n"
     ]
    },
    {
     "name": "stderr",
     "output_type": "stream",
     "text": [
      "  8%|████▉                                                             | 3.0032679738561994/40 [03:43<45:49, 74.32s/it]"
     ]
    },
    {
     "name": "stdout",
     "output_type": "stream",
     "text": [
      "Train Epoch: 64 [0/3920 (0%)]\tLoss: 0.273961\n",
      "Mem before-during-after: 47372800 50750464 47373824\n"
     ]
    },
    {
     "name": "stderr",
     "output_type": "stream",
     "text": [
      "  8%|█████▏                                                             | 3.133986928104565/40 [03:52<45:32, 74.11s/it]"
     ]
    },
    {
     "name": "stdout",
     "output_type": "stream",
     "text": [
      "Train Epoch: 64 [640/3920 (16%)]\tLoss: 0.122097\n",
      "Mem before-during-after: 47373824 49815040 47373824\n"
     ]
    },
    {
     "name": "stderr",
     "output_type": "stream",
     "text": [
      "  8%|█████▍                                                            | 3.2647058823529305/40 [04:02<45:26, 74.22s/it]"
     ]
    },
    {
     "name": "stdout",
     "output_type": "stream",
     "text": [
      "Train Epoch: 64 [1280/3920 (33%)]\tLoss: 0.161253\n",
      "Mem before-during-after: 47373824 50603520 47373824\n"
     ]
    },
    {
     "name": "stderr",
     "output_type": "stream",
     "text": [
      "  8%|█████▋                                                             | 3.395424836601296/40 [04:12<45:09, 74.02s/it]"
     ]
    },
    {
     "name": "stdout",
     "output_type": "stream",
     "text": [
      "Train Epoch: 64 [1920/3920 (49%)]\tLoss: 0.334727\n",
      "Mem before-during-after: 47373824 50249216 47373824\n"
     ]
    },
    {
     "name": "stderr",
     "output_type": "stream",
     "text": [
      "  9%|█████▊                                                            | 3.5261437908496616/40 [04:21<45:06, 74.21s/it]"
     ]
    },
    {
     "name": "stdout",
     "output_type": "stream",
     "text": [
      "Train Epoch: 64 [2560/3920 (65%)]\tLoss: 1.060337\n",
      "Mem before-during-after: 47373824 50466304 47373824\n"
     ]
    },
    {
     "name": "stderr",
     "output_type": "stream",
     "text": [
      "  9%|██████▏                                                            | 3.656862745098027/40 [04:31<44:49, 74.01s/it]"
     ]
    },
    {
     "name": "stdout",
     "output_type": "stream",
     "text": [
      "Train Epoch: 64 [3200/3920 (82%)]\tLoss: 0.106628\n",
      "Mem before-during-after: 47373824 50410496 47373824\n"
     ]
    },
    {
     "name": "stderr",
     "output_type": "stream",
     "text": [
      "  9%|██████▏                                                           | 3.7875816993463927/40 [04:41<44:43, 74.12s/it]"
     ]
    },
    {
     "name": "stdout",
     "output_type": "stream",
     "text": [
      "Train Epoch: 64 [3840/3920 (98%)]\tLoss: 0.041896\n",
      "Mem before-during-after: 47373824 50611200 47373824\n"
     ]
    },
    {
     "name": "stderr",
     "output_type": "stream",
     "text": [
      " 10%|██████▌                                                           | 3.9999999999999867/40 [04:56<43:51, 73.09s/it]"
     ]
    },
    {
     "name": "stdout",
     "output_type": "stream",
     "text": [
      "\n",
      "Test Epoch: 64\tAccuracy: 650/976 (66%)\n",
      "\n"
     ]
    },
    {
     "name": "stderr",
     "output_type": "stream",
     "text": [
      " 10%|██████▋                                                            | 4.003267973856196/40 [04:56<44:07, 73.56s/it]"
     ]
    },
    {
     "name": "stdout",
     "output_type": "stream",
     "text": [
      "Train Epoch: 65 [0/3920 (0%)]\tLoss: 0.152539\n",
      "Mem before-during-after: 47372800 50750464 47373824\n"
     ]
    },
    {
     "name": "stderr",
     "output_type": "stream",
     "text": [
      " 10%|██████▉                                                            | 4.133986928104561/40 [05:06<44:13, 74.00s/it]"
     ]
    },
    {
     "name": "stdout",
     "output_type": "stream",
     "text": [
      "Train Epoch: 65 [640/3920 (16%)]\tLoss: 0.033812\n",
      "Mem before-during-after: 47373824 49931776 47373824\n"
     ]
    },
    {
     "name": "stderr",
     "output_type": "stream",
     "text": [
      " 11%|███████▏                                                           | 4.264705882352927/40 [05:16<44:19, 74.43s/it]"
     ]
    },
    {
     "name": "stdout",
     "output_type": "stream",
     "text": [
      "Train Epoch: 65 [1280/3920 (33%)]\tLoss: 0.266083\n",
      "Mem before-during-after: 47373824 50425344 47373824\n"
     ]
    },
    {
     "name": "stderr",
     "output_type": "stream",
     "text": [
      " 11%|███████▎                                                          | 4.3954248366012925/40 [05:26<44:14, 74.55s/it]"
     ]
    },
    {
     "name": "stdout",
     "output_type": "stream",
     "text": [
      "Train Epoch: 65 [1920/3920 (49%)]\tLoss: 0.013750\n",
      "Mem before-during-after: 47373824 49815040 47373824\n"
     ]
    },
    {
     "name": "stderr",
     "output_type": "stream",
     "text": [
      " 11%|███████▌                                                           | 4.526143790849658/40 [05:35<46:09, 78.06s/it]"
     ]
    },
    {
     "name": "stdout",
     "output_type": "stream",
     "text": [
      "Train Epoch: 65 [2560/3920 (65%)]\tLoss: 0.054320\n",
      "Mem before-during-after: 47373824 50488320 47373824\n"
     ]
    },
    {
     "name": "stderr",
     "output_type": "stream",
     "text": [
      " 12%|███████▊                                                           | 4.656862745098024/40 [05:45<43:41, 74.17s/it]"
     ]
    },
    {
     "name": "stdout",
     "output_type": "stream",
     "text": [
      "Train Epoch: 65 [3200/3920 (82%)]\tLoss: 0.007970\n",
      "Mem before-during-after: 47373824 49972736 47373824\n"
     ]
    },
    {
     "name": "stderr",
     "output_type": "stream",
     "text": [
      " 12%|████████                                                           | 4.787581699346389/40 [05:55<43:38, 74.36s/it]"
     ]
    },
    {
     "name": "stdout",
     "output_type": "stream",
     "text": [
      "Train Epoch: 65 [3840/3920 (98%)]\tLoss: 0.130082\n",
      "Mem before-during-after: 47373824 50920448 47373824\n"
     ]
    },
    {
     "name": "stderr",
     "output_type": "stream",
     "text": [
      " 12%|████████▎                                                          | 4.999999999999983/40 [06:10<42:39, 73.12s/it]"
     ]
    },
    {
     "name": "stdout",
     "output_type": "stream",
     "text": [
      "\n",
      "Test Epoch: 65\tAccuracy: 625/976 (64%)\n",
      "\n"
     ]
    },
    {
     "name": "stderr",
     "output_type": "stream",
     "text": [
      " 13%|████████▍                                                          | 5.003267973856192/40 [06:11<42:54, 73.58s/it]"
     ]
    },
    {
     "name": "stdout",
     "output_type": "stream",
     "text": [
      "Train Epoch: 66 [0/3920 (0%)]\tLoss: 0.168240\n",
      "Mem before-during-after: 47372800 50624000 47373824\n"
     ]
    },
    {
     "name": "stderr",
     "output_type": "stream",
     "text": [
      " 13%|████████▌                                                          | 5.133986928104558/40 [06:20<43:16, 74.48s/it]"
     ]
    },
    {
     "name": "stdout",
     "output_type": "stream",
     "text": [
      "Train Epoch: 66 [640/3920 (16%)]\tLoss: 0.027211\n",
      "Mem before-during-after: 47373824 50761216 47373824\n"
     ]
    },
    {
     "name": "stderr",
     "output_type": "stream",
     "text": [
      " 13%|████████▊                                                          | 5.264705882352923/40 [06:30<43:16, 74.74s/it]"
     ]
    },
    {
     "name": "stdout",
     "output_type": "stream",
     "text": [
      "Train Epoch: 66 [1280/3920 (33%)]\tLoss: 0.376886\n",
      "Mem before-during-after: 47373824 50562560 47373824\n"
     ]
    },
    {
     "name": "stderr",
     "output_type": "stream",
     "text": [
      " 13%|█████████                                                          | 5.395424836601289/40 [06:40<42:48, 74.24s/it]"
     ]
    },
    {
     "name": "stdout",
     "output_type": "stream",
     "text": [
      "Train Epoch: 66 [1920/3920 (49%)]\tLoss: 0.046926\n",
      "Mem before-during-after: 47373824 49952256 47373824\n"
     ]
    },
    {
     "name": "stderr",
     "output_type": "stream",
     "text": [
      " 14%|█████████                                                         | 5.5261437908496545/40 [06:50<42:35, 74.12s/it]"
     ]
    },
    {
     "name": "stdout",
     "output_type": "stream",
     "text": [
      "Train Epoch: 66 [2560/3920 (65%)]\tLoss: 0.026074\n",
      "Mem before-during-after: 47373824 50428928 47373824\n"
     ]
    },
    {
     "name": "stderr",
     "output_type": "stream",
     "text": [
      " 14%|█████████▌                                                          | 5.65686274509802/40 [06:59<42:31, 74.31s/it]"
     ]
    },
    {
     "name": "stdout",
     "output_type": "stream",
     "text": [
      "Train Epoch: 66 [3200/3920 (82%)]\tLoss: 0.026893\n",
      "Mem before-during-after: 47373824 50842624 47373824\n"
     ]
    },
    {
     "name": "stderr",
     "output_type": "stream",
     "text": [
      " 14%|█████████▌                                                        | 5.7875816993463856/40 [07:09<42:10, 73.97s/it]"
     ]
    },
    {
     "name": "stdout",
     "output_type": "stream",
     "text": [
      "Train Epoch: 66 [3840/3920 (98%)]\tLoss: 0.075443\n",
      "Mem before-during-after: 47373824 49532416 47373824\n"
     ]
    },
    {
     "name": "stderr",
     "output_type": "stream",
     "text": [
      " 15%|██████████▏                                                         | 5.99999999999998/40 [07:25<41:26, 73.14s/it]"
     ]
    },
    {
     "name": "stdout",
     "output_type": "stream",
     "text": [
      "\n",
      "Test Epoch: 66\tAccuracy: 636/976 (65%)\n",
      "\n"
     ]
    },
    {
     "name": "stderr",
     "output_type": "stream",
     "text": [
      " 15%|██████████                                                         | 6.003267973856189/40 [07:25<41:47, 73.75s/it]"
     ]
    },
    {
     "name": "stdout",
     "output_type": "stream",
     "text": [
      "Train Epoch: 67 [0/3920 (0%)]\tLoss: 0.002950\n",
      "Mem before-during-after: 47372800 50249216 47373824\n"
     ]
    },
    {
     "name": "stderr",
     "output_type": "stream",
     "text": [
      " 15%|██████████▎                                                        | 6.133986928104554/40 [07:35<41:56, 74.32s/it]"
     ]
    },
    {
     "name": "stdout",
     "output_type": "stream",
     "text": [
      "Train Epoch: 67 [640/3920 (16%)]\tLoss: 0.312862\n",
      "Mem before-during-after: 47373824 50920448 47373824\n"
     ]
    },
    {
     "name": "stderr",
     "output_type": "stream",
     "text": [
      " 16%|██████████▋                                                         | 6.26470588235292/40 [07:44<41:45, 74.28s/it]"
     ]
    },
    {
     "name": "stdout",
     "output_type": "stream",
     "text": [
      "Train Epoch: 67 [1280/3920 (33%)]\tLoss: 0.673703\n",
      "Mem before-during-after: 47373824 50562560 47373824\n"
     ]
    },
    {
     "name": "stderr",
     "output_type": "stream",
     "text": [
      " 16%|██████████▋                                                        | 6.395424836601285/40 [07:54<41:41, 74.45s/it]"
     ]
    },
    {
     "name": "stdout",
     "output_type": "stream",
     "text": [
      "Train Epoch: 67 [1920/3920 (49%)]\tLoss: 0.096257\n",
      "Mem before-during-after: 47373824 50562560 47373824\n"
     ]
    },
    {
     "name": "stderr",
     "output_type": "stream",
     "text": [
      " 16%|██████████▉                                                        | 6.526143790849651/40 [08:04<41:37, 74.61s/it]"
     ]
    },
    {
     "name": "stdout",
     "output_type": "stream",
     "text": [
      "Train Epoch: 67 [2560/3920 (65%)]\tLoss: 0.079747\n",
      "Mem before-during-after: 47373824 49972736 47373824\n"
     ]
    },
    {
     "name": "stderr",
     "output_type": "stream",
     "text": [
      " 17%|██████████▉                                                       | 6.6568627450980165/40 [08:13<41:10, 74.09s/it]"
     ]
    },
    {
     "name": "stdout",
     "output_type": "stream",
     "text": [
      "Train Epoch: 67 [3200/3920 (82%)]\tLoss: 0.056436\n",
      "Mem before-during-after: 47373824 50842624 47373824\n"
     ]
    },
    {
     "name": "stderr",
     "output_type": "stream",
     "text": [
      " 17%|███████████▎                                                       | 6.787581699346382/40 [08:23<41:14, 74.49s/it]"
     ]
    },
    {
     "name": "stdout",
     "output_type": "stream",
     "text": [
      "Train Epoch: 67 [3840/3920 (98%)]\tLoss: 0.566824\n",
      "Mem before-during-after: 47373824 50329088 47373824\n"
     ]
    },
    {
     "name": "stderr",
     "output_type": "stream",
     "text": [
      " 17%|███████████▋                                                       | 6.999999999999976/40 [08:39<40:29, 73.62s/it]"
     ]
    },
    {
     "name": "stdout",
     "output_type": "stream",
     "text": [
      "\n",
      "Test Epoch: 67\tAccuracy: 649/976 (66%)\n",
      "\n"
     ]
    },
    {
     "name": "stderr",
     "output_type": "stream",
     "text": [
      " 18%|███████████▋                                                       | 7.003267973856185/40 [08:39<40:50, 74.27s/it]"
     ]
    },
    {
     "name": "stdout",
     "output_type": "stream",
     "text": [
      "Train Epoch: 68 [0/3920 (0%)]\tLoss: 0.007502\n",
      "Mem before-during-after: 47372800 50425344 47373824\n"
     ]
    },
    {
     "name": "stderr",
     "output_type": "stream",
     "text": [
      " 18%|███████████▉                                                       | 7.133986928104551/40 [08:49<41:01, 74.90s/it]"
     ]
    },
    {
     "name": "stdout",
     "output_type": "stream",
     "text": [
      "Train Epoch: 68 [640/3920 (16%)]\tLoss: 0.088597\n",
      "Mem before-during-after: 47373824 50641920 47373824\n"
     ]
    },
    {
     "name": "stderr",
     "output_type": "stream",
     "text": [
      " 18%|████████████▏                                                      | 7.264705882352916/40 [08:58<40:36, 74.43s/it]"
     ]
    },
    {
     "name": "stdout",
     "output_type": "stream",
     "text": [
      "Train Epoch: 68 [1280/3920 (33%)]\tLoss: 0.002753\n",
      "Mem before-during-after: 47373824 50842624 47373824\n"
     ]
    },
    {
     "name": "stderr",
     "output_type": "stream",
     "text": [
      " 18%|████████████▍                                                      | 7.395424836601282/40 [09:08<40:28, 74.47s/it]"
     ]
    },
    {
     "name": "stdout",
     "output_type": "stream",
     "text": [
      "Train Epoch: 68 [1920/3920 (49%)]\tLoss: 0.026643\n",
      "Mem before-during-after: 47373824 50750464 47373824\n"
     ]
    },
    {
     "name": "stderr",
     "output_type": "stream",
     "text": [
      " 19%|████████████▌                                                      | 7.526143790849647/40 [09:18<40:17, 74.45s/it]"
     ]
    },
    {
     "name": "stdout",
     "output_type": "stream",
     "text": [
      "Train Epoch: 68 [2560/3920 (65%)]\tLoss: 0.396408\n",
      "Mem before-during-after: 47373824 49972736 47373824\n"
     ]
    },
    {
     "name": "stderr",
     "output_type": "stream",
     "text": [
      " 19%|████████████▊                                                      | 7.656862745098013/40 [09:28<40:11, 74.55s/it]"
     ]
    },
    {
     "name": "stdout",
     "output_type": "stream",
     "text": [
      "Train Epoch: 68 [3200/3920 (82%)]\tLoss: 0.856189\n",
      "Mem before-during-after: 47373824 49698304 47373824\n"
     ]
    },
    {
     "name": "stderr",
     "output_type": "stream",
     "text": [
      " 19%|████████████▊                                                     | 7.7875816993463784/40 [09:37<39:49, 74.19s/it]"
     ]
    },
    {
     "name": "stdout",
     "output_type": "stream",
     "text": [
      "Train Epoch: 68 [3840/3920 (98%)]\tLoss: 0.282321\n",
      "Mem before-during-after: 47373824 49835520 47373824\n"
     ]
    },
    {
     "name": "stderr",
     "output_type": "stream",
     "text": [
      " 20%|█████████████▏                                                    | 7.9999999999999725/40 [09:53<39:09, 73.44s/it]"
     ]
    },
    {
     "name": "stdout",
     "output_type": "stream",
     "text": [
      "\n",
      "Test Epoch: 68\tAccuracy: 656/976 (67%)\n",
      "\n"
     ]
    },
    {
     "name": "stderr",
     "output_type": "stream",
     "text": [
      " 20%|█████████████▍                                                     | 8.003267973856182/40 [09:53<39:21, 73.80s/it]"
     ]
    },
    {
     "name": "stdout",
     "output_type": "stream",
     "text": [
      "Train Epoch: 69 [0/3920 (0%)]\tLoss: 0.723308\n",
      "Mem before-during-after: 47372800 49532416 47373824\n"
     ]
    },
    {
     "name": "stderr",
     "output_type": "stream",
     "text": [
      " 20%|█████████████▌                                                     | 8.133986928104548/40 [10:03<39:25, 74.22s/it]"
     ]
    },
    {
     "name": "stdout",
     "output_type": "stream",
     "text": [
      "Train Epoch: 69 [640/3920 (16%)]\tLoss: 0.080788\n",
      "Mem before-during-after: 47373824 49911296 47373824\n"
     ]
    },
    {
     "name": "stderr",
     "output_type": "stream",
     "text": [
      " 21%|█████████████▊                                                     | 8.264705882352914/40 [10:13<39:14, 74.18s/it]"
     ]
    },
    {
     "name": "stdout",
     "output_type": "stream",
     "text": [
      "Train Epoch: 69 [1280/3920 (33%)]\tLoss: 0.000794\n",
      "Mem before-during-after: 47373824 50811904 47373824\n"
     ]
    },
    {
     "name": "stderr",
     "output_type": "stream",
     "text": [
      " 21%|██████████████▎                                                     | 8.39542483660128/40 [10:22<39:02, 74.11s/it]"
     ]
    },
    {
     "name": "stdout",
     "output_type": "stream",
     "text": [
      "Train Epoch: 69 [1920/3920 (49%)]\tLoss: 0.000528\n",
      "Mem before-during-after: 47373824 49774080 47373824\n"
     ]
    },
    {
     "name": "stderr",
     "output_type": "stream",
     "text": [
      " 21%|██████████████▎                                                    | 8.526143790849645/40 [10:32<38:55, 74.22s/it]"
     ]
    },
    {
     "name": "stdout",
     "output_type": "stream",
     "text": [
      "Train Epoch: 69 [2560/3920 (65%)]\tLoss: 0.142694\n",
      "Mem before-during-after: 47373824 50781184 47373824\n"
     ]
    },
    {
     "name": "stderr",
     "output_type": "stream",
     "text": [
      " 22%|██████████████▋                                                     | 8.65686274509801/40 [10:42<38:52, 74.41s/it]"
     ]
    },
    {
     "name": "stdout",
     "output_type": "stream",
     "text": [
      "Train Epoch: 69 [3200/3920 (82%)]\tLoss: 0.075188\n",
      "Mem before-during-after: 47373824 50920448 47373824\n"
     ]
    },
    {
     "name": "stderr",
     "output_type": "stream",
     "text": [
      " 22%|██████████████▋                                                    | 8.787581699346376/40 [10:52<38:41, 74.39s/it]"
     ]
    },
    {
     "name": "stdout",
     "output_type": "stream",
     "text": [
      "Train Epoch: 69 [3840/3920 (98%)]\tLoss: 0.116010\n",
      "Mem before-during-after: 47373824 49794560 47373824\n"
     ]
    },
    {
     "name": "stderr",
     "output_type": "stream",
     "text": [
      " 22%|███████████████▎                                                    | 8.99999999999997/40 [11:07<37:50, 73.25s/it]"
     ]
    },
    {
     "name": "stdout",
     "output_type": "stream",
     "text": [
      "\n",
      "Test Epoch: 69\tAccuracy: 641/976 (65%)\n",
      "\n"
     ]
    },
    {
     "name": "stderr",
     "output_type": "stream",
     "text": [
      " 23%|███████████████                                                    | 9.003267973856179/40 [11:07<38:04, 73.71s/it]"
     ]
    },
    {
     "name": "stdout",
     "output_type": "stream",
     "text": [
      "Train Epoch: 70 [0/3920 (0%)]\tLoss: 0.073888\n",
      "Mem before-during-after: 47372800 50920448 47373824\n"
     ]
    },
    {
     "name": "stderr",
     "output_type": "stream",
     "text": [
      " 23%|███████████████▎                                                   | 9.133986928104544/40 [11:17<38:09, 74.16s/it]"
     ]
    },
    {
     "name": "stdout",
     "output_type": "stream",
     "text": [
      "Train Epoch: 70 [640/3920 (16%)]\tLoss: 0.234720\n",
      "Mem before-during-after: 47373824 50811904 47373824\n"
     ]
    },
    {
     "name": "stderr",
     "output_type": "stream",
     "text": [
      " 23%|███████████████▋                                                    | 9.26470588235291/40 [11:27<38:01, 74.23s/it]"
     ]
    },
    {
     "name": "stdout",
     "output_type": "stream",
     "text": [
      "Train Epoch: 70 [1280/3920 (33%)]\tLoss: 0.121658\n",
      "Mem before-during-after: 47373824 50889728 47373824\n"
     ]
    },
    {
     "name": "stderr",
     "output_type": "stream",
     "text": [
      " 23%|███████████████▋                                                   | 9.395424836601276/40 [11:37<37:48, 74.14s/it]"
     ]
    },
    {
     "name": "stdout",
     "output_type": "stream",
     "text": [
      "Train Epoch: 70 [1920/3920 (49%)]\tLoss: 0.581221\n",
      "Mem before-during-after: 47373824 49856000 47373824\n"
     ]
    },
    {
     "name": "stderr",
     "output_type": "stream",
     "text": [
      " 24%|███████████████▉                                                   | 9.526143790849641/40 [11:46<37:52, 74.59s/it]"
     ]
    },
    {
     "name": "stdout",
     "output_type": "stream",
     "text": [
      "Train Epoch: 70 [2560/3920 (65%)]\tLoss: 0.607181\n",
      "Mem before-during-after: 47373824 49835520 47373824\n"
     ]
    },
    {
     "name": "stderr",
     "output_type": "stream",
     "text": [
      " 24%|████████████████▏                                                  | 9.656862745098007/40 [11:56<37:38, 74.42s/it]"
     ]
    },
    {
     "name": "stdout",
     "output_type": "stream",
     "text": [
      "Train Epoch: 70 [3200/3920 (82%)]\tLoss: 0.307309\n",
      "Mem before-during-after: 47373824 50811904 47373824\n"
     ]
    },
    {
     "name": "stderr",
     "output_type": "stream",
     "text": [
      " 24%|████████████████▍                                                  | 9.787581699346372/40 [12:06<37:34, 74.63s/it]"
     ]
    },
    {
     "name": "stdout",
     "output_type": "stream",
     "text": [
      "Train Epoch: 70 [3840/3920 (98%)]\tLoss: 0.029754\n",
      "Mem before-during-after: 47373824 50213888 47373824\n"
     ]
    },
    {
     "name": "stderr",
     "output_type": "stream",
     "text": [
      " 25%|████████████████▋                                                  | 9.999999999999966/40 [12:21<36:37, 73.27s/it]"
     ]
    },
    {
     "name": "stdout",
     "output_type": "stream",
     "text": [
      "\n",
      "Test Epoch: 70\tAccuracy: 616/976 (63%)\n",
      "\n"
     ]
    },
    {
     "name": "stderr",
     "output_type": "stream",
     "text": [
      " 25%|████████████████▌                                                 | 10.003267973856175/40 [12:22<36:50, 73.70s/it]"
     ]
    },
    {
     "name": "stdout",
     "output_type": "stream",
     "text": [
      "Train Epoch: 71 [0/3920 (0%)]\tLoss: 0.286745\n",
      "Mem before-during-after: 47372800 50425344 47373824\n"
     ]
    },
    {
     "name": "stderr",
     "output_type": "stream",
     "text": [
      " 25%|████████████████▋                                                 | 10.133986928104541/40 [12:31<36:59, 74.33s/it]"
     ]
    },
    {
     "name": "stdout",
     "output_type": "stream",
     "text": [
      "Train Epoch: 71 [640/3920 (16%)]\tLoss: 0.070906\n",
      "Mem before-during-after: 47373824 49856000 47373824\n"
     ]
    },
    {
     "name": "stderr",
     "output_type": "stream",
     "text": [
      " 26%|████████████████▉                                                 | 10.264705882352906/40 [12:41<36:48, 74.26s/it]"
     ]
    },
    {
     "name": "stdout",
     "output_type": "stream",
     "text": [
      "Train Epoch: 71 [1280/3920 (33%)]\tLoss: 0.017885\n",
      "Mem before-during-after: 47373824 50811904 47373824\n"
     ]
    },
    {
     "name": "stderr",
     "output_type": "stream",
     "text": [
      " 26%|█████████████████▏                                                | 10.395424836601272/40 [12:51<36:41, 74.36s/it]"
     ]
    },
    {
     "name": "stdout",
     "output_type": "stream",
     "text": [
      "Train Epoch: 71 [1920/3920 (49%)]\tLoss: 0.005735\n",
      "Mem before-during-after: 47373824 49835520 47373824\n"
     ]
    },
    {
     "name": "stderr",
     "output_type": "stream",
     "text": [
      " 26%|█████████████████▎                                                | 10.526143790849638/40 [13:01<36:28, 74.26s/it]"
     ]
    },
    {
     "name": "stdout",
     "output_type": "stream",
     "text": [
      "Train Epoch: 71 [2560/3920 (65%)]\tLoss: 0.025907\n",
      "Mem before-during-after: 47373824 50488320 47373824\n"
     ]
    },
    {
     "name": "stderr",
     "output_type": "stream",
     "text": [
      " 27%|█████████████████▌                                                | 10.656862745098003/40 [13:10<36:18, 74.23s/it]"
     ]
    },
    {
     "name": "stdout",
     "output_type": "stream",
     "text": [
      "Train Epoch: 71 [3200/3920 (82%)]\tLoss: 0.000740\n",
      "Mem before-during-after: 47373824 50425344 47373824\n"
     ]
    },
    {
     "name": "stderr",
     "output_type": "stream",
     "text": [
      " 27%|█████████████████▊                                                | 10.787581699346369/40 [13:20<35:54, 73.76s/it]"
     ]
    },
    {
     "name": "stdout",
     "output_type": "stream",
     "text": [
      "Train Epoch: 71 [3840/3920 (98%)]\tLoss: 0.011409\n",
      "Mem before-during-after: 47373824 50781184 47373824\n"
     ]
    },
    {
     "name": "stderr",
     "output_type": "stream",
     "text": [
      " 27%|██████████████████▏                                               | 10.999999999999963/40 [13:35<35:16, 72.98s/it]"
     ]
    },
    {
     "name": "stdout",
     "output_type": "stream",
     "text": [
      "\n",
      "Test Epoch: 71\tAccuracy: 647/976 (66%)\n",
      "\n"
     ]
    },
    {
     "name": "stderr",
     "output_type": "stream",
     "text": [
      " 28%|██████████████████▏                                               | 11.003267973856172/40 [13:36<35:26, 73.32s/it]"
     ]
    },
    {
     "name": "stdout",
     "output_type": "stream",
     "text": [
      "Train Epoch: 72 [0/3920 (0%)]\tLoss: 0.018856\n",
      "Mem before-during-after: 47372800 50719744 47373824\n"
     ]
    },
    {
     "name": "stderr",
     "output_type": "stream",
     "text": [
      " 28%|██████████████████▎                                               | 11.133986928104537/40 [13:45<35:37, 74.04s/it]"
     ]
    },
    {
     "name": "stdout",
     "output_type": "stream",
     "text": [
      "Train Epoch: 72 [640/3920 (16%)]\tLoss: 0.090857\n",
      "Mem before-during-after: 47373824 50410496 47373824\n"
     ]
    },
    {
     "name": "stderr",
     "output_type": "stream",
     "text": [
      " 28%|██████████████████▌                                               | 11.264705882352903/40 [13:55<35:22, 73.87s/it]"
     ]
    },
    {
     "name": "stdout",
     "output_type": "stream",
     "text": [
      "Train Epoch: 72 [1280/3920 (33%)]\tLoss: 0.001191\n",
      "Mem before-during-after: 47373824 50889728 47373824\n"
     ]
    },
    {
     "name": "stderr",
     "output_type": "stream",
     "text": [
      " 28%|██████████████████▊                                               | 11.395424836601268/40 [14:05<35:23, 74.24s/it]"
     ]
    },
    {
     "name": "stdout",
     "output_type": "stream",
     "text": [
      "Train Epoch: 72 [1920/3920 (49%)]\tLoss: 0.418772\n",
      "Mem before-during-after: 47373824 50689024 47373824\n"
     ]
    },
    {
     "name": "stderr",
     "output_type": "stream",
     "text": [
      " 29%|███████████████████                                               | 11.526143790849634/40 [14:15<35:04, 73.91s/it]"
     ]
    },
    {
     "name": "stdout",
     "output_type": "stream",
     "text": [
      "Train Epoch: 72 [2560/3920 (65%)]\tLoss: 0.003403\n",
      "Mem before-during-after: 47373824 50781184 47373824\n"
     ]
    },
    {
     "name": "stderr",
     "output_type": "stream",
     "text": [
      " 29%|████████████████████                                                 | 11.656862745098/40 [14:24<35:14, 74.62s/it]"
     ]
    },
    {
     "name": "stdout",
     "output_type": "stream",
     "text": [
      "Train Epoch: 72 [3200/3920 (82%)]\tLoss: 0.039058\n",
      "Mem before-during-after: 47373824 50580480 47373824\n"
     ]
    },
    {
     "name": "stderr",
     "output_type": "stream",
     "text": [
      " 29%|███████████████████▍                                              | 11.787581699346365/40 [14:34<34:51, 74.14s/it]"
     ]
    },
    {
     "name": "stdout",
     "output_type": "stream",
     "text": [
      "Train Epoch: 72 [3840/3920 (98%)]\tLoss: 0.032159\n",
      "Mem before-during-after: 47373824 50488320 47373824\n"
     ]
    },
    {
     "name": "stderr",
     "output_type": "stream",
     "text": [
      " 30%|████████████████████                                               | 11.99999999999996/40 [14:49<34:14, 73.38s/it]"
     ]
    },
    {
     "name": "stdout",
     "output_type": "stream",
     "text": [
      "\n",
      "Test Epoch: 72\tAccuracy: 633/976 (65%)\n",
      "\n"
     ]
    },
    {
     "name": "stderr",
     "output_type": "stream",
     "text": [
      " 30%|███████████████████▊                                              | 12.003267973856168/40 [14:50<34:24, 73.73s/it]"
     ]
    },
    {
     "name": "stdout",
     "output_type": "stream",
     "text": [
      "Train Epoch: 73 [0/3920 (0%)]\tLoss: 0.042572\n",
      "Mem before-during-after: 47372800 50689024 47373824\n"
     ]
    },
    {
     "name": "stderr",
     "output_type": "stream",
     "text": [
      " 30%|████████████████████                                              | 12.133986928104534/40 [14:59<34:26, 74.17s/it]"
     ]
    },
    {
     "name": "stdout",
     "output_type": "stream",
     "text": [
      "Train Epoch: 73 [640/3920 (16%)]\tLoss: 0.014100\n",
      "Mem before-during-after: 47373824 49972736 47373824\n"
     ]
    },
    {
     "name": "stderr",
     "output_type": "stream",
     "text": [
      " 31%|████████████████████▊                                               | 12.2647058823529/40 [15:09<34:18, 74.23s/it]"
     ]
    },
    {
     "name": "stdout",
     "output_type": "stream",
     "text": [
      "Train Epoch: 73 [1280/3920 (33%)]\tLoss: 0.099096\n",
      "Mem before-during-after: 47373824 50750464 47373824\n"
     ]
    },
    {
     "name": "stderr",
     "output_type": "stream",
     "text": [
      " 31%|████████████████████▍                                             | 12.395424836601265/40 [15:19<33:52, 73.62s/it]"
     ]
    },
    {
     "name": "stdout",
     "output_type": "stream",
     "text": [
      "Train Epoch: 73 [1920/3920 (49%)]\tLoss: 0.142332\n",
      "Mem before-during-after: 47373824 49815040 47373824\n"
     ]
    },
    {
     "name": "stderr",
     "output_type": "stream",
     "text": [
      " 31%|████████████████████▉                                              | 12.52614379084963/40 [15:28<33:49, 73.86s/it]"
     ]
    },
    {
     "name": "stdout",
     "output_type": "stream",
     "text": [
      "Train Epoch: 73 [2560/3920 (65%)]\tLoss: 0.794409\n",
      "Mem before-during-after: 47373824 50549760 47373824\n"
     ]
    },
    {
     "name": "stderr",
     "output_type": "stream",
     "text": [
      " 32%|████████████████████▉                                             | 12.656862745097996/40 [15:38<33:47, 74.16s/it]"
     ]
    },
    {
     "name": "stdout",
     "output_type": "stream",
     "text": [
      "Train Epoch: 73 [3200/3920 (82%)]\tLoss: 0.385914\n",
      "Mem before-during-after: 47373824 50562560 47373824\n"
     ]
    },
    {
     "name": "stderr",
     "output_type": "stream",
     "text": [
      " 32%|█████████████████████                                             | 12.787581699346362/40 [15:48<33:28, 73.80s/it]"
     ]
    },
    {
     "name": "stdout",
     "output_type": "stream",
     "text": [
      "Train Epoch: 73 [3840/3920 (98%)]\tLoss: 0.038676\n",
      "Mem before-during-after: 47373824 49815040 47373824\n"
     ]
    },
    {
     "name": "stderr",
     "output_type": "stream",
     "text": [
      " 32%|█████████████████████▍                                            | 12.999999999999956/40 [16:03<32:53, 73.08s/it]"
     ]
    },
    {
     "name": "stdout",
     "output_type": "stream",
     "text": [
      "\n",
      "Test Epoch: 73\tAccuracy: 639/976 (65%)\n",
      "\n"
     ]
    },
    {
     "name": "stderr",
     "output_type": "stream",
     "text": [
      " 33%|█████████████████████▍                                            | 13.003267973856165/40 [16:04<33:05, 73.56s/it]"
     ]
    },
    {
     "name": "stdout",
     "output_type": "stream",
     "text": [
      "Train Epoch: 74 [0/3920 (0%)]\tLoss: 0.165712\n",
      "Mem before-during-after: 47372800 50750464 47373824\n"
     ]
    },
    {
     "name": "stderr",
     "output_type": "stream",
     "text": [
      " 33%|█████████████████████▉                                             | 13.13398692810453/40 [16:13<33:14, 74.24s/it]"
     ]
    },
    {
     "name": "stdout",
     "output_type": "stream",
     "text": [
      "Train Epoch: 74 [640/3920 (16%)]\tLoss: 0.011828\n",
      "Mem before-during-after: 47373824 49972736 47373824\n"
     ]
    },
    {
     "name": "stderr",
     "output_type": "stream",
     "text": [
      " 33%|█████████████████████▉                                            | 13.264705882352896/40 [16:23<32:56, 73.94s/it]"
     ]
    },
    {
     "name": "stdout",
     "output_type": "stream",
     "text": [
      "Train Epoch: 74 [1280/3920 (33%)]\tLoss: 0.000328\n",
      "Mem before-during-after: 47373824 50920448 47373824\n"
     ]
    },
    {
     "name": "stderr",
     "output_type": "stream",
     "text": [
      " 33%|██████████████████████                                            | 13.395424836601261/40 [16:33<32:53, 74.16s/it]"
     ]
    },
    {
     "name": "stdout",
     "output_type": "stream",
     "text": [
      "Train Epoch: 74 [1920/3920 (49%)]\tLoss: 0.395429\n",
      "Mem before-during-after: 47373824 49794560 47373824\n"
     ]
    },
    {
     "name": "stderr",
     "output_type": "stream",
     "text": [
      " 34%|██████████████████████▎                                           | 13.526143790849627/40 [16:42<32:38, 73.98s/it]"
     ]
    },
    {
     "name": "stdout",
     "output_type": "stream",
     "text": [
      "Train Epoch: 74 [2560/3920 (65%)]\tLoss: 0.004632\n",
      "Mem before-during-after: 47373824 49532416 47373824\n"
     ]
    },
    {
     "name": "stderr",
     "output_type": "stream",
     "text": [
      " 34%|██████████████████████▌                                           | 13.656862745097992/40 [16:52<32:23, 73.77s/it]"
     ]
    },
    {
     "name": "stdout",
     "output_type": "stream",
     "text": [
      "Train Epoch: 74 [3200/3920 (82%)]\tLoss: 0.096074\n",
      "Mem before-during-after: 47373824 50519040 47373824\n"
     ]
    },
    {
     "name": "stderr",
     "output_type": "stream",
     "text": [
      " 34%|██████████████████████▋                                           | 13.787581699346358/40 [17:02<32:11, 73.70s/it]"
     ]
    },
    {
     "name": "stdout",
     "output_type": "stream",
     "text": [
      "Train Epoch: 74 [3840/3920 (98%)]\tLoss: 0.093238\n",
      "Mem before-during-after: 47373824 49911296 47373824\n"
     ]
    },
    {
     "name": "stderr",
     "output_type": "stream",
     "text": [
      " 35%|███████████████████████                                           | 13.999999999999952/40 [17:17<31:39, 73.06s/it]"
     ]
    },
    {
     "name": "stdout",
     "output_type": "stream",
     "text": [
      "\n",
      "Test Epoch: 74\tAccuracy: 654/976 (67%)\n",
      "\n"
     ]
    },
    {
     "name": "stderr",
     "output_type": "stream",
     "text": [
      " 35%|███████████████████████                                           | 14.003267973856161/40 [17:17<31:54, 73.64s/it]"
     ]
    },
    {
     "name": "stdout",
     "output_type": "stream",
     "text": [
      "Train Epoch: 75 [0/3920 (0%)]\tLoss: 0.272854\n",
      "Mem before-during-after: 47372800 50562560 47373824\n"
     ]
    },
    {
     "name": "stderr",
     "output_type": "stream",
     "text": [
      " 35%|███████████████████████▎                                          | 14.133986928104527/40 [17:27<31:57, 74.15s/it]"
     ]
    },
    {
     "name": "stdout",
     "output_type": "stream",
     "text": [
      "Train Epoch: 75 [640/3920 (16%)]\tLoss: 0.025051\n",
      "Mem before-during-after: 47373824 50842624 47373824\n"
     ]
    },
    {
     "name": "stderr",
     "output_type": "stream",
     "text": [
      " 36%|███████████████████████▌                                          | 14.264705882352892/40 [17:37<32:08, 74.94s/it]"
     ]
    },
    {
     "name": "stdout",
     "output_type": "stream",
     "text": [
      "Train Epoch: 75 [1280/3920 (33%)]\tLoss: 0.374782\n",
      "Mem before-during-after: 47373824 49815040 47373824\n"
     ]
    },
    {
     "name": "stderr",
     "output_type": "stream",
     "text": [
      " 36%|███████████████████████▊                                          | 14.395424836601258/40 [17:47<31:35, 74.05s/it]"
     ]
    },
    {
     "name": "stdout",
     "output_type": "stream",
     "text": [
      "Train Epoch: 75 [1920/3920 (49%)]\tLoss: 0.004408\n",
      "Mem before-during-after: 47373824 50842624 47373824\n"
     ]
    },
    {
     "name": "stderr",
     "output_type": "stream",
     "text": [
      " 36%|███████████████████████▉                                          | 14.526143790849623/40 [17:56<31:22, 73.90s/it]"
     ]
    },
    {
     "name": "stdout",
     "output_type": "stream",
     "text": [
      "Train Epoch: 75 [2560/3920 (65%)]\tLoss: 0.102348\n",
      "Mem before-during-after: 47373824 49815040 47373824\n"
     ]
    },
    {
     "name": "stderr",
     "output_type": "stream",
     "text": [
      " 37%|████████████████████████▏                                         | 14.656862745097989/40 [18:06<31:07, 73.69s/it]"
     ]
    },
    {
     "name": "stdout",
     "output_type": "stream",
     "text": [
      "Train Epoch: 75 [3200/3920 (82%)]\tLoss: 0.076254\n",
      "Mem before-during-after: 47373824 50750464 47373824\n"
     ]
    },
    {
     "name": "stderr",
     "output_type": "stream",
     "text": [
      " 37%|████████████████████████▍                                         | 14.787581699346354/40 [18:16<31:06, 74.04s/it]"
     ]
    },
    {
     "name": "stdout",
     "output_type": "stream",
     "text": [
      "Train Epoch: 75 [3840/3920 (98%)]\tLoss: 0.064186\n",
      "Mem before-during-after: 47373824 50920448 47373824\n"
     ]
    },
    {
     "name": "stderr",
     "output_type": "stream",
     "text": [
      " 37%|████████████████████████▋                                         | 14.999999999999948/40 [18:31<30:28, 73.13s/it]"
     ]
    },
    {
     "name": "stdout",
     "output_type": "stream",
     "text": [
      "\n",
      "Test Epoch: 75\tAccuracy: 649/976 (66%)\n",
      "\n"
     ]
    },
    {
     "name": "stderr",
     "output_type": "stream",
     "text": [
      " 38%|████████████████████████▊                                         | 15.003267973856158/40 [18:31<30:37, 73.50s/it]"
     ]
    },
    {
     "name": "stdout",
     "output_type": "stream",
     "text": [
      "Train Epoch: 76 [0/3920 (0%)]\tLoss: 0.009922\n",
      "Mem before-during-after: 47372800 49636864 47373824\n"
     ]
    },
    {
     "name": "stderr",
     "output_type": "stream",
     "text": [
      " 38%|████████████████████████▉                                         | 15.133986928104523/40 [18:41<30:39, 73.98s/it]"
     ]
    },
    {
     "name": "stdout",
     "output_type": "stream",
     "text": [
      "Train Epoch: 76 [640/3920 (16%)]\tLoss: 0.081466\n",
      "Mem before-during-after: 47373824 50689024 47373824\n"
     ]
    },
    {
     "name": "stderr",
     "output_type": "stream",
     "text": [
      " 38%|█████████████████████████▏                                        | 15.264705882352889/40 [18:51<30:29, 73.97s/it]"
     ]
    },
    {
     "name": "stdout",
     "output_type": "stream",
     "text": [
      "Train Epoch: 76 [1280/3920 (33%)]\tLoss: 0.046300\n",
      "Mem before-during-after: 47373824 50466304 47373824\n"
     ]
    },
    {
     "name": "stderr",
     "output_type": "stream",
     "text": [
      " 38%|█████████████████████████▍                                        | 15.395424836601254/40 [19:00<30:21, 74.02s/it]"
     ]
    },
    {
     "name": "stdout",
     "output_type": "stream",
     "text": [
      "Train Epoch: 76 [1920/3920 (49%)]\tLoss: 0.007802\n",
      "Mem before-during-after: 47373824 50488320 47373824\n"
     ]
    },
    {
     "name": "stderr",
     "output_type": "stream",
     "text": [
      " 39%|██████████████████████████                                         | 15.52614379084962/40 [19:10<30:10, 73.98s/it]"
     ]
    },
    {
     "name": "stdout",
     "output_type": "stream",
     "text": [
      "Train Epoch: 76 [2560/3920 (65%)]\tLoss: 0.038688\n",
      "Mem before-during-after: 47373824 49972736 47373824\n"
     ]
    },
    {
     "name": "stderr",
     "output_type": "stream",
     "text": [
      " 39%|█████████████████████████▊                                        | 15.656862745097985/40 [19:20<29:54, 73.72s/it]"
     ]
    },
    {
     "name": "stdout",
     "output_type": "stream",
     "text": [
      "Train Epoch: 76 [3200/3920 (82%)]\tLoss: 0.168787\n",
      "Mem before-during-after: 47373824 49931776 47373824\n"
     ]
    },
    {
     "name": "stderr",
     "output_type": "stream",
     "text": [
      " 39%|██████████████████████████                                        | 15.787581699346351/40 [19:29<29:48, 73.88s/it]"
     ]
    },
    {
     "name": "stdout",
     "output_type": "stream",
     "text": [
      "Train Epoch: 76 [3840/3920 (98%)]\tLoss: 0.202303\n",
      "Mem before-during-after: 47373824 49677824 47373824\n"
     ]
    },
    {
     "name": "stderr",
     "output_type": "stream",
     "text": [
      " 40%|██████████████████████████▍                                       | 15.999999999999945/40 [19:45<29:11, 72.97s/it]"
     ]
    },
    {
     "name": "stdout",
     "output_type": "stream",
     "text": [
      "\n",
      "Test Epoch: 76\tAccuracy: 652/976 (67%)\n",
      "\n"
     ]
    },
    {
     "name": "stderr",
     "output_type": "stream",
     "text": [
      " 40%|██████████████████████████▍                                       | 16.003267973856154/40 [19:45<29:20, 73.38s/it]"
     ]
    },
    {
     "name": "stdout",
     "output_type": "stream",
     "text": [
      "Train Epoch: 77 [0/3920 (0%)]\tLoss: 0.024636\n",
      "Mem before-during-after: 47372800 49794560 47373824\n"
     ]
    },
    {
     "name": "stderr",
     "output_type": "stream",
     "text": [
      " 40%|███████████████████████████                                        | 16.13398692810459/40 [19:55<29:24, 73.92s/it]"
     ]
    },
    {
     "name": "stdout",
     "output_type": "stream",
     "text": [
      "Train Epoch: 77 [640/3920 (16%)]\tLoss: 0.009559\n",
      "Mem before-during-after: 47373824 50719744 47373824\n"
     ]
    },
    {
     "name": "stderr",
     "output_type": "stream",
     "text": [
      " 41%|██████████████████████████▊                                       | 16.264705882353027/40 [20:05<29:17, 74.06s/it]"
     ]
    },
    {
     "name": "stdout",
     "output_type": "stream",
     "text": [
      "Train Epoch: 77 [1280/3920 (33%)]\tLoss: 0.281356\n",
      "Mem before-during-after: 47373824 50842624 47373824\n"
     ]
    },
    {
     "name": "stderr",
     "output_type": "stream",
     "text": [
      " 41%|███████████████████████████                                       | 16.395424836601464/40 [20:14<29:24, 74.76s/it]"
     ]
    },
    {
     "name": "stdout",
     "output_type": "stream",
     "text": [
      "Train Epoch: 77 [1920/3920 (49%)]\tLoss: 0.408085\n",
      "Mem before-during-after: 47373824 49753600 47373824\n"
     ]
    },
    {
     "name": "stderr",
     "output_type": "stream",
     "text": [
      " 41%|████████████████████████████                                        | 16.5261437908499/40 [20:24<29:01, 74.19s/it]"
     ]
    },
    {
     "name": "stdout",
     "output_type": "stream",
     "text": [
      "Train Epoch: 77 [2560/3920 (65%)]\tLoss: 0.001406\n",
      "Mem before-during-after: 47373824 49774080 47373824\n"
     ]
    },
    {
     "name": "stderr",
     "output_type": "stream",
     "text": [
      " 42%|███████████████████████████▍                                      | 16.656862745098337/40 [20:34<28:54, 74.32s/it]"
     ]
    },
    {
     "name": "stdout",
     "output_type": "stream",
     "text": [
      "Train Epoch: 77 [3200/3920 (82%)]\tLoss: 0.352934\n",
      "Mem before-during-after: 47373824 49911296 47373824\n"
     ]
    },
    {
     "name": "stderr",
     "output_type": "stream",
     "text": [
      " 42%|███████████████████████████▋                                      | 16.787581699346774/40 [20:43<28:47, 74.42s/it]"
     ]
    },
    {
     "name": "stdout",
     "output_type": "stream",
     "text": [
      "Train Epoch: 77 [3840/3920 (98%)]\tLoss: 0.872915\n",
      "Mem before-during-after: 47373824 49815040 47373824\n"
     ]
    },
    {
     "name": "stderr",
     "output_type": "stream",
     "text": [
      " 43%|████████████████████████████                                      | 17.000000000000483/40 [20:59<28:02, 73.17s/it]"
     ]
    },
    {
     "name": "stdout",
     "output_type": "stream",
     "text": [
      "\n",
      "Test Epoch: 77\tAccuracy: 639/976 (65%)\n",
      "\n"
     ]
    },
    {
     "name": "stderr",
     "output_type": "stream",
     "text": [
      " 43%|████████████████████████████                                      | 17.003267973856694/40 [20:59<28:13, 73.63s/it]"
     ]
    },
    {
     "name": "stdout",
     "output_type": "stream",
     "text": [
      "Train Epoch: 78 [0/3920 (0%)]\tLoss: 0.571481\n",
      "Mem before-during-after: 47372800 49595904 47373824\n"
     ]
    },
    {
     "name": "stderr",
     "output_type": "stream",
     "text": [
      " 43%|████████████████████████████▋                                      | 17.13398692810513/40 [21:09<28:09, 73.91s/it]"
     ]
    },
    {
     "name": "stdout",
     "output_type": "stream",
     "text": [
      "Train Epoch: 78 [640/3920 (16%)]\tLoss: 0.267563\n",
      "Mem before-during-after: 47373824 49677824 47373824\n"
     ]
    },
    {
     "name": "stderr",
     "output_type": "stream",
     "text": [
      " 43%|████████████████████████████▍                                     | 17.264705882353567/40 [21:19<28:09, 74.32s/it]"
     ]
    },
    {
     "name": "stdout",
     "output_type": "stream",
     "text": [
      "Train Epoch: 78 [1280/3920 (33%)]\tLoss: 0.336564\n",
      "Mem before-during-after: 47373824 49856000 47373824\n"
     ]
    },
    {
     "name": "stderr",
     "output_type": "stream",
     "text": [
      " 43%|████████████████████████████▋                                     | 17.395424836602004/40 [21:28<28:07, 74.66s/it]"
     ]
    },
    {
     "name": "stdout",
     "output_type": "stream",
     "text": [
      "Train Epoch: 78 [1920/3920 (49%)]\tLoss: 0.054972\n",
      "Mem before-during-after: 47373824 50486784 47373824\n"
     ]
    },
    {
     "name": "stderr",
     "output_type": "stream",
     "text": [
      " 44%|█████████████████████████████▎                                     | 17.52614379085044/40 [21:38<27:50, 74.32s/it]"
     ]
    },
    {
     "name": "stdout",
     "output_type": "stream",
     "text": [
      "Train Epoch: 78 [2560/3920 (65%)]\tLoss: 0.071587\n",
      "Mem before-during-after: 47373824 49794560 47373824\n"
     ]
    },
    {
     "name": "stderr",
     "output_type": "stream",
     "text": [
      " 44%|█████████████████████████████▏                                    | 17.656862745098877/40 [21:48<27:54, 74.93s/it]"
     ]
    },
    {
     "name": "stdout",
     "output_type": "stream",
     "text": [
      "Train Epoch: 78 [3200/3920 (82%)]\tLoss: 0.020110\n",
      "Mem before-during-after: 47373824 49794560 47373824\n"
     ]
    },
    {
     "name": "stderr",
     "output_type": "stream",
     "text": [
      " 44%|█████████████████████████████▎                                    | 17.787581699347314/40 [21:57<27:28, 74.22s/it]"
     ]
    },
    {
     "name": "stdout",
     "output_type": "stream",
     "text": [
      "Train Epoch: 78 [3840/3920 (98%)]\tLoss: 0.108339\n",
      "Mem before-during-after: 47373824 50488320 47373824\n"
     ]
    },
    {
     "name": "stderr",
     "output_type": "stream",
     "text": [
      " 45%|█████████████████████████████▋                                    | 18.000000000001023/40 [22:13<26:55, 73.43s/it]"
     ]
    },
    {
     "name": "stdout",
     "output_type": "stream",
     "text": [
      "\n",
      "Test Epoch: 78\tAccuracy: 653/976 (67%)\n",
      "\n"
     ]
    },
    {
     "name": "stderr",
     "output_type": "stream",
     "text": [
      " 45%|█████████████████████████████▋                                    | 18.003267973857234/40 [22:13<27:01, 73.70s/it]"
     ]
    },
    {
     "name": "stdout",
     "output_type": "stream",
     "text": [
      "Train Epoch: 79 [0/3920 (0%)]\tLoss: 0.946977\n",
      "Mem before-during-after: 47372800 50624000 47373824\n"
     ]
    },
    {
     "name": "stderr",
     "output_type": "stream",
     "text": [
      " 45%|██████████████████████████████▎                                    | 18.13398692810567/40 [22:23<27:10, 74.57s/it]"
     ]
    },
    {
     "name": "stdout",
     "output_type": "stream",
     "text": [
      "Train Epoch: 79 [640/3920 (16%)]\tLoss: 0.005663\n",
      "Mem before-during-after: 47373824 50811904 47373824\n"
     ]
    },
    {
     "name": "stderr",
     "output_type": "stream",
     "text": [
      " 46%|██████████████████████████████▏                                   | 18.264705882354107/40 [22:33<26:54, 74.26s/it]"
     ]
    },
    {
     "name": "stdout",
     "output_type": "stream",
     "text": [
      "Train Epoch: 79 [1280/3920 (33%)]\tLoss: 0.132330\n",
      "Mem before-during-after: 47373824 50425344 47373824\n"
     ]
    },
    {
     "name": "stderr",
     "output_type": "stream",
     "text": [
      " 46%|██████████████████████████████▎                                   | 18.395424836602544/40 [22:42<26:40, 74.07s/it]"
     ]
    },
    {
     "name": "stdout",
     "output_type": "stream",
     "text": [
      "Train Epoch: 79 [1920/3920 (49%)]\tLoss: 0.002296\n",
      "Mem before-during-after: 47373824 49794560 47373824\n"
     ]
    },
    {
     "name": "stderr",
     "output_type": "stream",
     "text": [
      " 46%|███████████████████████████████                                    | 18.52614379085098/40 [22:52<26:27, 73.92s/it]"
     ]
    },
    {
     "name": "stdout",
     "output_type": "stream",
     "text": [
      "Train Epoch: 79 [2560/3920 (65%)]\tLoss: 0.343649\n",
      "Mem before-during-after: 47373824 50603520 47373824\n"
     ]
    },
    {
     "name": "stderr",
     "output_type": "stream",
     "text": [
      " 47%|██████████████████████████████▊                                   | 18.656862745099417/40 [23:02<26:26, 74.32s/it]"
     ]
    },
    {
     "name": "stdout",
     "output_type": "stream",
     "text": [
      "Train Epoch: 79 [3200/3920 (82%)]\tLoss: 0.859881\n",
      "Mem before-during-after: 47373824 49520128 47373824\n"
     ]
    },
    {
     "name": "stderr",
     "output_type": "stream",
     "text": [
      " 47%|██████████████████████████████▉                                   | 18.787581699347854/40 [23:12<26:19, 74.46s/it]"
     ]
    },
    {
     "name": "stdout",
     "output_type": "stream",
     "text": [
      "Train Epoch: 79 [3840/3920 (98%)]\tLoss: 0.170106\n",
      "Mem before-during-after: 47373824 49794560 47373824\n"
     ]
    },
    {
     "name": "stderr",
     "output_type": "stream",
     "text": [
      " 48%|███████████████████████████████▎                                  | 19.000000000001563/40 [23:27<25:34, 73.09s/it]"
     ]
    },
    {
     "name": "stdout",
     "output_type": "stream",
     "text": [
      "\n",
      "Test Epoch: 79\tAccuracy: 638/976 (65%)\n",
      "\n"
     ]
    },
    {
     "name": "stderr",
     "output_type": "stream",
     "text": [
      " 48%|███████████████████████████████▎                                  | 19.003267973857774/40 [23:27<25:46, 73.64s/it]"
     ]
    },
    {
     "name": "stdout",
     "output_type": "stream",
     "text": [
      "Train Epoch: 80 [0/3920 (0%)]\tLoss: 0.272662\n",
      "Mem before-during-after: 47372800 50410496 47373824\n"
     ]
    },
    {
     "name": "stderr",
     "output_type": "stream",
     "text": [
      " 48%|████████████████████████████████                                   | 19.13398692810621/40 [23:37<25:46, 74.11s/it]"
     ]
    },
    {
     "name": "stdout",
     "output_type": "stream",
     "text": [
      "Train Epoch: 80 [640/3920 (16%)]\tLoss: 0.733299\n",
      "Mem before-during-after: 47373824 50611200 47373824\n"
     ]
    },
    {
     "name": "stderr",
     "output_type": "stream",
     "text": [
      " 48%|███████████████████████████████▊                                  | 19.264705882354647/40 [23:47<25:36, 74.08s/it]"
     ]
    },
    {
     "name": "stdout",
     "output_type": "stream",
     "text": [
      "Train Epoch: 80 [1280/3920 (33%)]\tLoss: 0.003952\n",
      "Mem before-during-after: 47373824 50750464 47373824\n"
     ]
    },
    {
     "name": "stderr",
     "output_type": "stream",
     "text": [
      " 48%|████████████████████████████████                                  | 19.395424836603084/40 [23:57<25:34, 74.49s/it]"
     ]
    },
    {
     "name": "stdout",
     "output_type": "stream",
     "text": [
      "Train Epoch: 80 [1920/3920 (49%)]\tLoss: 0.012405\n",
      "Mem before-during-after: 47373824 50519040 47373824\n"
     ]
    },
    {
     "name": "stderr",
     "output_type": "stream",
     "text": [
      " 49%|████████████████████████████████▋                                  | 19.52614379085152/40 [24:06<25:23, 74.43s/it]"
     ]
    },
    {
     "name": "stdout",
     "output_type": "stream",
     "text": [
      "Train Epoch: 80 [2560/3920 (65%)]\tLoss: 0.986767\n",
      "Mem before-during-after: 47373824 51015168 47373824\n"
     ]
    },
    {
     "name": "stderr",
     "output_type": "stream",
     "text": [
      " 49%|████████████████████████████████▍                                 | 19.656862745099957/40 [24:16<25:13, 74.40s/it]"
     ]
    },
    {
     "name": "stdout",
     "output_type": "stream",
     "text": [
      "Train Epoch: 80 [3200/3920 (82%)]\tLoss: 0.143567\n",
      "Mem before-during-after: 47373824 49911296 47373824\n"
     ]
    },
    {
     "name": "stderr",
     "output_type": "stream",
     "text": [
      " 49%|████████████████████████████████▋                                 | 19.787581699348394/40 [24:26<25:06, 74.53s/it]"
     ]
    },
    {
     "name": "stdout",
     "output_type": "stream",
     "text": [
      "Train Epoch: 80 [3840/3920 (98%)]\tLoss: 0.060877\n",
      "Mem before-during-after: 47373824 50488320 47373824\n"
     ]
    },
    {
     "name": "stderr",
     "output_type": "stream",
     "text": [
      " 50%|█████████████████████████████████                                 | 20.000000000002103/40 [24:41<24:29, 73.48s/it]"
     ]
    },
    {
     "name": "stdout",
     "output_type": "stream",
     "text": [
      "\n",
      "Test Epoch: 80\tAccuracy: 650/976 (66%)\n",
      "\n"
     ]
    },
    {
     "name": "stderr",
     "output_type": "stream",
     "text": [
      " 50%|█████████████████████████████████                                 | 20.003267973858314/40 [24:42<24:37, 73.88s/it]"
     ]
    },
    {
     "name": "stdout",
     "output_type": "stream",
     "text": [
      "Train Epoch: 81 [0/3920 (0%)]\tLoss: 0.008900\n",
      "Mem before-during-after: 47372800 50920448 47373824\n"
     ]
    },
    {
     "name": "stderr",
     "output_type": "stream",
     "text": [
      " 50%|█████████████████████████████████▋                                 | 20.13398692810675/40 [24:51<24:38, 74.43s/it]"
     ]
    },
    {
     "name": "stdout",
     "output_type": "stream",
     "text": [
      "Train Epoch: 81 [640/3920 (16%)]\tLoss: 0.370364\n",
      "Mem before-during-after: 47373824 50580480 47373824\n"
     ]
    },
    {
     "name": "stderr",
     "output_type": "stream",
     "text": [
      " 51%|█████████████████████████████████▍                                | 20.264705882355187/40 [25:01<24:30, 74.53s/it]"
     ]
    },
    {
     "name": "stdout",
     "output_type": "stream",
     "text": [
      "Train Epoch: 81 [1280/3920 (33%)]\tLoss: 0.001406\n",
      "Mem before-during-after: 47373824 50750464 47373824\n"
     ]
    },
    {
     "name": "stderr",
     "output_type": "stream",
     "text": [
      " 51%|█████████████████████████████████▋                                | 20.395424836603624/40 [25:11<24:59, 76.50s/it]"
     ]
    },
    {
     "name": "stdout",
     "output_type": "stream",
     "text": [
      "Train Epoch: 81 [1920/3920 (49%)]\tLoss: 0.059896\n",
      "Mem before-during-after: 47373824 49911296 47373824\n"
     ]
    },
    {
     "name": "stderr",
     "output_type": "stream",
     "text": [
      " 51%|██████████████████████████████████▍                                | 20.52614379085206/40 [25:21<24:09, 74.41s/it]"
     ]
    },
    {
     "name": "stdout",
     "output_type": "stream",
     "text": [
      "Train Epoch: 81 [2560/3920 (65%)]\tLoss: 0.627513\n",
      "Mem before-during-after: 47373824 49856000 47373824\n"
     ]
    },
    {
     "name": "stderr",
     "output_type": "stream",
     "text": [
      " 52%|██████████████████████████████████                                | 20.656862745100497/40 [25:30<24:02, 74.55s/it]"
     ]
    },
    {
     "name": "stdout",
     "output_type": "stream",
     "text": [
      "Train Epoch: 81 [3200/3920 (82%)]\tLoss: 0.000251\n",
      "Mem before-during-after: 47373824 49794560 47373824\n"
     ]
    },
    {
     "name": "stderr",
     "output_type": "stream",
     "text": [
      " 52%|██████████████████████████████████▎                               | 20.787581699348934/40 [25:40<23:58, 74.89s/it]"
     ]
    },
    {
     "name": "stdout",
     "output_type": "stream",
     "text": [
      "Train Epoch: 81 [3840/3920 (98%)]\tLoss: 0.094642\n",
      "Mem before-during-after: 47373824 50441216 47373824\n"
     ]
    },
    {
     "name": "stderr",
     "output_type": "stream",
     "text": [
      " 53%|██████████████████████████████████▋                               | 21.000000000002643/40 [25:56<23:10, 73.17s/it]"
     ]
    },
    {
     "name": "stdout",
     "output_type": "stream",
     "text": [
      "\n",
      "Test Epoch: 81\tAccuracy: 651/976 (66%)\n",
      "\n"
     ]
    },
    {
     "name": "stderr",
     "output_type": "stream",
     "text": [
      " 53%|██████████████████████████████████▋                               | 21.003267973858854/40 [25:56<23:18, 73.61s/it]"
     ]
    },
    {
     "name": "stdout",
     "output_type": "stream",
     "text": [
      "Train Epoch: 82 [0/3920 (0%)]\tLoss: 0.050563\n",
      "Mem before-during-after: 47372800 50920448 47373824\n"
     ]
    },
    {
     "name": "stderr",
     "output_type": "stream",
     "text": [
      " 53%|███████████████████████████████████▍                               | 21.13398692810729/40 [26:06<23:25, 74.48s/it]"
     ]
    },
    {
     "name": "stdout",
     "output_type": "stream",
     "text": [
      "Train Epoch: 82 [640/3920 (16%)]\tLoss: 0.165099\n",
      "Mem before-during-after: 47373824 50249216 47373824\n"
     ]
    },
    {
     "name": "stderr",
     "output_type": "stream",
     "text": [
      " 53%|███████████████████████████████████                               | 21.264705882355727/40 [26:16<23:19, 74.72s/it]"
     ]
    },
    {
     "name": "stdout",
     "output_type": "stream",
     "text": [
      "Train Epoch: 82 [1280/3920 (33%)]\tLoss: 0.388777\n",
      "Mem before-during-after: 47373824 49835520 47373824\n"
     ]
    },
    {
     "name": "stderr",
     "output_type": "stream",
     "text": [
      " 53%|███████████████████████████████████▎                              | 21.395424836604164/40 [26:25<23:03, 74.39s/it]"
     ]
    },
    {
     "name": "stdout",
     "output_type": "stream",
     "text": [
      "Train Epoch: 82 [1920/3920 (49%)]\tLoss: 0.313312\n",
      "Mem before-during-after: 47373824 50519040 47373824\n"
     ]
    },
    {
     "name": "stderr",
     "output_type": "stream",
     "text": [
      " 54%|████████████████████████████████████▌                               | 21.5261437908526/40 [26:35<22:54, 74.38s/it]"
     ]
    },
    {
     "name": "stdout",
     "output_type": "stream",
     "text": [
      "Train Epoch: 82 [2560/3920 (65%)]\tLoss: 0.520967\n",
      "Mem before-during-after: 47373824 50842624 47373824\n"
     ]
    },
    {
     "name": "stderr",
     "output_type": "stream",
     "text": [
      " 54%|███████████████████████████████████▋                              | 21.656862745101037/40 [26:45<22:58, 75.16s/it]"
     ]
    },
    {
     "name": "stdout",
     "output_type": "stream",
     "text": [
      "Train Epoch: 82 [3200/3920 (82%)]\tLoss: 0.200153\n",
      "Mem before-during-after: 47373824 50889728 47373824\n"
     ]
    },
    {
     "name": "stderr",
     "output_type": "stream",
     "text": [
      " 54%|███████████████████████████████████▉                              | 21.787581699349474/40 [26:55<22:35, 74.42s/it]"
     ]
    },
    {
     "name": "stdout",
     "output_type": "stream",
     "text": [
      "Train Epoch: 82 [3840/3920 (98%)]\tLoss: 0.470369\n",
      "Mem before-during-after: 47373824 50719744 47373824\n"
     ]
    },
    {
     "name": "stderr",
     "output_type": "stream",
     "text": [
      " 55%|████████████████████████████████████▎                             | 22.000000000003183/40 [27:10<22:08, 73.82s/it]"
     ]
    },
    {
     "name": "stdout",
     "output_type": "stream",
     "text": [
      "\n",
      "Test Epoch: 82\tAccuracy: 644/976 (66%)\n",
      "\n"
     ]
    },
    {
     "name": "stderr",
     "output_type": "stream",
     "text": [
      " 55%|████████████████████████████████████▎                             | 22.003267973859394/40 [27:10<22:16, 74.29s/it]"
     ]
    },
    {
     "name": "stdout",
     "output_type": "stream",
     "text": [
      "Train Epoch: 83 [0/3920 (0%)]\tLoss: 0.375382\n",
      "Mem before-during-after: 47372800 50425344 47373824\n"
     ]
    },
    {
     "name": "stderr",
     "output_type": "stream",
     "text": [
      " 55%|█████████████████████████████████████                              | 22.13398692810783/40 [27:20<22:12, 74.56s/it]"
     ]
    },
    {
     "name": "stdout",
     "output_type": "stream",
     "text": [
      "Train Epoch: 83 [640/3920 (16%)]\tLoss: 0.007688\n",
      "Mem before-during-after: 47373824 49952256 47373824\n"
     ]
    },
    {
     "name": "stderr",
     "output_type": "stream",
     "text": [
      " 56%|████████████████████████████████████▋                             | 22.264705882356267/40 [27:30<22:02, 74.56s/it]"
     ]
    },
    {
     "name": "stdout",
     "output_type": "stream",
     "text": [
      "Train Epoch: 83 [1280/3920 (33%)]\tLoss: 0.010922\n",
      "Mem before-during-after: 47373824 49856000 47373824\n"
     ]
    },
    {
     "name": "stderr",
     "output_type": "stream",
     "text": [
      " 56%|████████████████████████████████████▉                             | 22.395424836604704/40 [27:40<21:51, 74.49s/it]"
     ]
    },
    {
     "name": "stdout",
     "output_type": "stream",
     "text": [
      "Train Epoch: 83 [1920/3920 (49%)]\tLoss: 0.008325\n",
      "Mem before-during-after: 47373824 50811904 47373824\n"
     ]
    },
    {
     "name": "stderr",
     "output_type": "stream",
     "text": [
      " 56%|█████████████████████████████████████▋                             | 22.52614379085314/40 [27:49<21:36, 74.21s/it]"
     ]
    },
    {
     "name": "stdout",
     "output_type": "stream",
     "text": [
      "Train Epoch: 83 [2560/3920 (65%)]\tLoss: 0.210122\n",
      "Mem before-during-after: 47373824 49815040 47373824\n"
     ]
    },
    {
     "name": "stderr",
     "output_type": "stream",
     "text": [
      " 57%|█████████████████████████████████████▍                            | 22.656862745101577/40 [27:59<21:34, 74.62s/it]"
     ]
    },
    {
     "name": "stdout",
     "output_type": "stream",
     "text": [
      "Train Epoch: 83 [3200/3920 (82%)]\tLoss: 0.026395\n",
      "Mem before-during-after: 47373824 50611200 47373824\n"
     ]
    },
    {
     "name": "stderr",
     "output_type": "stream",
     "text": [
      " 57%|█████████████████████████████████████▌                            | 22.787581699350014/40 [28:09<21:16, 74.18s/it]"
     ]
    },
    {
     "name": "stdout",
     "output_type": "stream",
     "text": [
      "Train Epoch: 83 [3840/3920 (98%)]\tLoss: 0.329659\n",
      "Mem before-during-after: 47373824 50580480 47373824\n"
     ]
    },
    {
     "name": "stderr",
     "output_type": "stream",
     "text": [
      " 58%|█████████████████████████████████████▉                            | 23.000000000003723/40 [28:24<20:47, 73.40s/it]"
     ]
    },
    {
     "name": "stdout",
     "output_type": "stream",
     "text": [
      "\n",
      "Test Epoch: 83\tAccuracy: 660/976 (67%)\n",
      "\n"
     ]
    },
    {
     "name": "stderr",
     "output_type": "stream",
     "text": [
      " 58%|█████████████████████████████████████▉                            | 23.003267973859934/40 [28:25<20:53, 73.76s/it]"
     ]
    },
    {
     "name": "stdout",
     "output_type": "stream",
     "text": [
      "Train Epoch: 84 [0/3920 (0%)]\tLoss: 0.914583\n",
      "Mem before-during-after: 47372800 49753600 47373824\n"
     ]
    },
    {
     "name": "stderr",
     "output_type": "stream",
     "text": [
      " 58%|██████████████████████████████████████▋                            | 23.13398692810837/40 [28:34<20:54, 74.41s/it]"
     ]
    },
    {
     "name": "stdout",
     "output_type": "stream",
     "text": [
      "Train Epoch: 84 [640/3920 (16%)]\tLoss: 0.004306\n",
      "Mem before-during-after: 47373824 50519040 47373824\n"
     ]
    },
    {
     "name": "stderr",
     "output_type": "stream",
     "text": [
      " 58%|██████████████████████████████████████▍                           | 23.264705882356807/40 [28:44<20:47, 74.55s/it]"
     ]
    },
    {
     "name": "stdout",
     "output_type": "stream",
     "text": [
      "Train Epoch: 84 [1280/3920 (33%)]\tLoss: 0.004596\n",
      "Mem before-during-after: 47373824 50920448 47373824\n"
     ]
    },
    {
     "name": "stderr",
     "output_type": "stream",
     "text": [
      " 58%|██████████████████████████████████████▌                           | 23.395424836605244/40 [28:54<20:27, 73.91s/it]"
     ]
    },
    {
     "name": "stdout",
     "output_type": "stream",
     "text": [
      "Train Epoch: 84 [1920/3920 (49%)]\tLoss: 0.000738\n",
      "Mem before-during-after: 47373824 50213888 47373824\n"
     ]
    },
    {
     "name": "stderr",
     "output_type": "stream",
     "text": [
      " 59%|███████████████████████████████████████▍                           | 23.52614379085368/40 [29:04<20:19, 74.04s/it]"
     ]
    },
    {
     "name": "stdout",
     "output_type": "stream",
     "text": [
      "Train Epoch: 84 [2560/3920 (65%)]\tLoss: 0.138721\n",
      "Mem before-during-after: 47373824 50410496 47373824\n"
     ]
    },
    {
     "name": "stderr",
     "output_type": "stream",
     "text": [
      " 59%|███████████████████████████████████████                           | 23.656862745102117/40 [29:13<20:07, 73.91s/it]"
     ]
    },
    {
     "name": "stdout",
     "output_type": "stream",
     "text": [
      "Train Epoch: 84 [3200/3920 (82%)]\tLoss: 0.077702\n",
      "Mem before-during-after: 47373824 49952256 47373824\n"
     ]
    },
    {
     "name": "stderr",
     "output_type": "stream",
     "text": [
      " 59%|███████████████████████████████████████▏                          | 23.787581699350554/40 [29:23<19:53, 73.64s/it]"
     ]
    },
    {
     "name": "stdout",
     "output_type": "stream",
     "text": [
      "Train Epoch: 84 [3840/3920 (98%)]\tLoss: 0.160919\n",
      "Mem before-during-after: 47373824 50486784 47373824\n"
     ]
    },
    {
     "name": "stderr",
     "output_type": "stream",
     "text": [
      " 60%|███████████████████████████████████████▌                          | 24.000000000004263/40 [29:38<19:30, 73.13s/it]"
     ]
    },
    {
     "name": "stdout",
     "output_type": "stream",
     "text": [
      "\n",
      "Test Epoch: 84\tAccuracy: 633/976 (65%)\n",
      "\n"
     ]
    },
    {
     "name": "stderr",
     "output_type": "stream",
     "text": [
      " 60%|███████████████████████████████████████▌                          | 24.003267973860474/40 [29:39<19:41, 73.88s/it]"
     ]
    },
    {
     "name": "stdout",
     "output_type": "stream",
     "text": [
      "Train Epoch: 85 [0/3920 (0%)]\tLoss: 1.096822\n",
      "Mem before-during-after: 47372800 49931776 47373824\n"
     ]
    },
    {
     "name": "stderr",
     "output_type": "stream",
     "text": [
      " 60%|████████████████████████████████████████▍                          | 24.13398692810891/40 [29:48<19:45, 74.70s/it]"
     ]
    },
    {
     "name": "stdout",
     "output_type": "stream",
     "text": [
      "Train Epoch: 85 [640/3920 (16%)]\tLoss: 0.270700\n",
      "Mem before-during-after: 47373824 50392576 47373824\n"
     ]
    },
    {
     "name": "stderr",
     "output_type": "stream",
     "text": [
      " 61%|████████████████████████████████████████                          | 24.264705882357347/40 [29:58<19:22, 73.87s/it]"
     ]
    },
    {
     "name": "stdout",
     "output_type": "stream",
     "text": [
      "Train Epoch: 85 [1280/3920 (33%)]\tLoss: 0.000061\n",
      "Mem before-during-after: 47373824 50486784 47373824\n"
     ]
    },
    {
     "name": "stderr",
     "output_type": "stream",
     "text": [
      " 61%|████████████████████████████████████████▎                         | 24.395424836605784/40 [30:08<19:21, 74.41s/it]"
     ]
    },
    {
     "name": "stdout",
     "output_type": "stream",
     "text": [
      "Train Epoch: 85 [1920/3920 (49%)]\tLoss: 0.005164\n",
      "Mem before-during-after: 47373824 49911296 47373824\n"
     ]
    },
    {
     "name": "stderr",
     "output_type": "stream",
     "text": [
      " 61%|█████████████████████████████████████████                          | 24.52614379085422/40 [30:17<19:03, 73.92s/it]"
     ]
    },
    {
     "name": "stdout",
     "output_type": "stream",
     "text": [
      "Train Epoch: 85 [2560/3920 (65%)]\tLoss: 0.038114\n",
      "Mem before-during-after: 47373824 50811904 47373824\n"
     ]
    },
    {
     "name": "stderr",
     "output_type": "stream",
     "text": [
      " 62%|████████████████████████████████████████▋                         | 24.656862745102657/40 [30:27<18:52, 73.82s/it]"
     ]
    },
    {
     "name": "stdout",
     "output_type": "stream",
     "text": [
      "Train Epoch: 85 [3200/3920 (82%)]\tLoss: 0.108222\n",
      "Mem before-during-after: 47373824 50781184 47373824\n"
     ]
    },
    {
     "name": "stderr",
     "output_type": "stream",
     "text": [
      " 62%|████████████████████████████████████████▉                         | 24.787581699351094/40 [30:37<18:49, 74.25s/it]"
     ]
    },
    {
     "name": "stdout",
     "output_type": "stream",
     "text": [
      "Train Epoch: 85 [3840/3920 (98%)]\tLoss: 0.537411\n",
      "Mem before-during-after: 47373824 49815040 47373824\n"
     ]
    },
    {
     "name": "stderr",
     "output_type": "stream",
     "text": [
      " 63%|█████████████████████████████████████████▎                        | 25.000000000004803/40 [30:52<18:13, 72.88s/it]"
     ]
    },
    {
     "name": "stdout",
     "output_type": "stream",
     "text": [
      "\n",
      "Test Epoch: 85\tAccuracy: 649/976 (66%)\n",
      "\n"
     ]
    },
    {
     "name": "stderr",
     "output_type": "stream",
     "text": [
      " 63%|█████████████████████████████████████████▎                        | 25.003267973861014/40 [30:53<18:20, 73.40s/it]"
     ]
    },
    {
     "name": "stdout",
     "output_type": "stream",
     "text": [
      "Train Epoch: 86 [0/3920 (0%)]\tLoss: 0.075153\n",
      "Mem before-during-after: 47372800 49952256 47373824\n"
     ]
    },
    {
     "name": "stderr",
     "output_type": "stream",
     "text": [
      " 63%|██████████████████████████████████████████                         | 25.13398692810945/40 [31:02<18:17, 73.83s/it]"
     ]
    },
    {
     "name": "stdout",
     "output_type": "stream",
     "text": [
      "Train Epoch: 86 [640/3920 (16%)]\tLoss: 0.030134\n",
      "Mem before-during-after: 47373824 49835520 47373824\n"
     ]
    },
    {
     "name": "stderr",
     "output_type": "stream",
     "text": [
      " 63%|█████████████████████████████████████████▋                        | 25.264705882357887/40 [31:12<18:08, 73.87s/it]"
     ]
    },
    {
     "name": "stdout",
     "output_type": "stream",
     "text": [
      "Train Epoch: 86 [1280/3920 (33%)]\tLoss: 1.003396\n",
      "Mem before-during-after: 47373824 49774080 47373824\n"
     ]
    },
    {
     "name": "stderr",
     "output_type": "stream",
     "text": [
      " 63%|█████████████████████████████████████████▉                        | 25.395424836606324/40 [31:22<18:02, 74.11s/it]"
     ]
    },
    {
     "name": "stdout",
     "output_type": "stream",
     "text": [
      "Train Epoch: 86 [1920/3920 (49%)]\tLoss: 0.040399\n",
      "Mem before-during-after: 47373824 50781184 47373824\n"
     ]
    },
    {
     "name": "stderr",
     "output_type": "stream",
     "text": [
      " 64%|██████████████████████████████████████████▊                        | 25.52614379085476/40 [31:31<17:50, 73.98s/it]"
     ]
    },
    {
     "name": "stdout",
     "output_type": "stream",
     "text": [
      "Train Epoch: 86 [2560/3920 (65%)]\tLoss: 0.000060\n",
      "Mem before-during-after: 47373824 50781184 47373824\n"
     ]
    },
    {
     "name": "stderr",
     "output_type": "stream",
     "text": [
      " 64%|██████████████████████████████████████████▎                       | 25.656862745103197/40 [31:41<17:44, 74.25s/it]"
     ]
    },
    {
     "name": "stdout",
     "output_type": "stream",
     "text": [
      "Train Epoch: 86 [3200/3920 (82%)]\tLoss: 0.441883\n",
      "Mem before-during-after: 47373824 50549760 47373824\n"
     ]
    },
    {
     "name": "stderr",
     "output_type": "stream",
     "text": [
      " 64%|██████████████████████████████████████████▌                       | 25.787581699351634/40 [31:51<17:32, 74.08s/it]"
     ]
    },
    {
     "name": "stdout",
     "output_type": "stream",
     "text": [
      "Train Epoch: 86 [3840/3920 (98%)]\tLoss: 0.009764\n",
      "Mem before-during-after: 47373824 49774080 47373824\n"
     ]
    },
    {
     "name": "stderr",
     "output_type": "stream",
     "text": [
      " 65%|██████████████████████████████████████████▉                       | 26.000000000005343/40 [32:06<17:00, 72.93s/it]"
     ]
    },
    {
     "name": "stdout",
     "output_type": "stream",
     "text": [
      "\n",
      "Test Epoch: 86\tAccuracy: 642/976 (66%)\n",
      "\n"
     ]
    },
    {
     "name": "stderr",
     "output_type": "stream",
     "text": [
      " 65%|██████████████████████████████████████████▉                       | 26.003267973861554/40 [32:07<17:08, 73.49s/it]"
     ]
    },
    {
     "name": "stdout",
     "output_type": "stream",
     "text": [
      "Train Epoch: 87 [0/3920 (0%)]\tLoss: 0.014864\n",
      "Mem before-during-after: 47372800 50425344 47373824\n"
     ]
    },
    {
     "name": "stderr",
     "output_type": "stream",
     "text": [
      " 65%|███████████████████████████████████████████▊                       | 26.13398692810999/40 [32:16<17:04, 73.90s/it]"
     ]
    },
    {
     "name": "stdout",
     "output_type": "stream",
     "text": [
      "Train Epoch: 87 [640/3920 (16%)]\tLoss: 0.653349\n",
      "Mem before-during-after: 47373824 50580480 47373824\n"
     ]
    },
    {
     "name": "stderr",
     "output_type": "stream",
     "text": [
      " 66%|███████████████████████████████████████████▎                      | 26.264705882358427/40 [32:26<16:54, 73.89s/it]"
     ]
    },
    {
     "name": "stdout",
     "output_type": "stream",
     "text": [
      "Train Epoch: 87 [1280/3920 (33%)]\tLoss: 0.078309\n",
      "Mem before-during-after: 47373824 50750464 47373824\n"
     ]
    },
    {
     "name": "stderr",
     "output_type": "stream",
     "text": [
      " 66%|███████████████████████████████████████████▌                      | 26.395424836606864/40 [32:36<16:54, 74.54s/it]"
     ]
    },
    {
     "name": "stdout",
     "output_type": "stream",
     "text": [
      "Train Epoch: 87 [1920/3920 (49%)]\tLoss: 0.312136\n",
      "Mem before-during-after: 47373824 50611200 47373824\n"
     ]
    },
    {
     "name": "stderr",
     "output_type": "stream",
     "text": [
      " 66%|█████████████████████████████████████████████                       | 26.5261437908553/40 [32:45<16:39, 74.17s/it]"
     ]
    },
    {
     "name": "stdout",
     "output_type": "stream",
     "text": [
      "Train Epoch: 87 [2560/3920 (65%)]\tLoss: 0.000271\n",
      "Mem before-during-after: 47373824 50428928 47373824\n"
     ]
    },
    {
     "name": "stderr",
     "output_type": "stream",
     "text": [
      " 67%|███████████████████████████████████████████▉                      | 26.656862745103737/40 [32:55<16:27, 74.03s/it]"
     ]
    },
    {
     "name": "stdout",
     "output_type": "stream",
     "text": [
      "Train Epoch: 87 [3200/3920 (82%)]\tLoss: 0.094649\n",
      "Mem before-during-after: 47373824 50611200 47373824\n"
     ]
    },
    {
     "name": "stderr",
     "output_type": "stream",
     "text": [
      " 67%|████████████████████████████████████████████▏                     | 26.787581699352174/40 [33:05<16:22, 74.38s/it]"
     ]
    },
    {
     "name": "stdout",
     "output_type": "stream",
     "text": [
      "Train Epoch: 87 [3840/3920 (98%)]\tLoss: 0.043140\n",
      "Mem before-during-after: 47373824 49952256 47373824\n"
     ]
    },
    {
     "name": "stderr",
     "output_type": "stream",
     "text": [
      " 68%|████████████████████████████████████████████▌                     | 27.000000000005883/40 [33:20<15:50, 73.09s/it]"
     ]
    },
    {
     "name": "stdout",
     "output_type": "stream",
     "text": [
      "\n",
      "Test Epoch: 87\tAccuracy: 628/976 (64%)\n",
      "\n"
     ]
    },
    {
     "name": "stderr",
     "output_type": "stream",
     "text": [
      " 68%|████████████████████████████████████████████▌                     | 27.003267973862094/40 [33:21<15:55, 73.54s/it]"
     ]
    },
    {
     "name": "stdout",
     "output_type": "stream",
     "text": [
      "Train Epoch: 88 [0/3920 (0%)]\tLoss: 0.188735\n",
      "Mem before-during-after: 47372800 50719744 47373824\n"
     ]
    },
    {
     "name": "stderr",
     "output_type": "stream",
     "text": [
      " 68%|█████████████████████████████████████████████▍                     | 27.13398692811053/40 [33:30<15:56, 74.31s/it]"
     ]
    },
    {
     "name": "stdout",
     "output_type": "stream",
     "text": [
      "Train Epoch: 88 [640/3920 (16%)]\tLoss: 0.000331\n",
      "Mem before-during-after: 47373824 50562560 47373824\n"
     ]
    },
    {
     "name": "stderr",
     "output_type": "stream",
     "text": [
      " 68%|████████████████████████████████████████████▉                     | 27.264705882358967/40 [33:40<15:46, 74.29s/it]"
     ]
    },
    {
     "name": "stdout",
     "output_type": "stream",
     "text": [
      "Train Epoch: 88 [1280/3920 (33%)]\tLoss: 0.007870\n",
      "Mem before-during-after: 47373824 50643968 47373824\n"
     ]
    },
    {
     "name": "stderr",
     "output_type": "stream",
     "text": [
      " 68%|█████████████████████████████████████████████▏                    | 27.395424836607404/40 [33:50<15:34, 74.11s/it]"
     ]
    },
    {
     "name": "stdout",
     "output_type": "stream",
     "text": [
      "Train Epoch: 88 [1920/3920 (49%)]\tLoss: 0.162412\n",
      "Mem before-during-after: 47373824 49677824 47373824\n"
     ]
    },
    {
     "name": "stderr",
     "output_type": "stream",
     "text": [
      " 69%|██████████████████████████████████████████████                     | 27.52614379085584/40 [33:59<15:27, 74.37s/it]"
     ]
    },
    {
     "name": "stdout",
     "output_type": "stream",
     "text": [
      "Train Epoch: 88 [2560/3920 (65%)]\tLoss: 0.024259\n",
      "Mem before-during-after: 47373824 50719744 47373824\n"
     ]
    },
    {
     "name": "stderr",
     "output_type": "stream",
     "text": [
      " 69%|█████████████████████████████████████████████▋                    | 27.656862745104277/40 [34:09<15:20, 74.55s/it]"
     ]
    },
    {
     "name": "stdout",
     "output_type": "stream",
     "text": [
      "Train Epoch: 88 [3200/3920 (82%)]\tLoss: 0.473792\n",
      "Mem before-during-after: 47373824 50920448 47373824\n"
     ]
    },
    {
     "name": "stderr",
     "output_type": "stream",
     "text": [
      " 69%|█████████████████████████████████████████████▊                    | 27.787581699352714/40 [34:19<15:05, 74.15s/it]"
     ]
    },
    {
     "name": "stdout",
     "output_type": "stream",
     "text": [
      "Train Epoch: 88 [3840/3920 (98%)]\tLoss: 0.000781\n",
      "Mem before-during-after: 47373824 50519040 47373824\n"
     ]
    },
    {
     "name": "stderr",
     "output_type": "stream",
     "text": [
      " 70%|██████████████████████████████████████████████▏                   | 28.000000000006423/40 [34:34<14:42, 73.50s/it]"
     ]
    },
    {
     "name": "stdout",
     "output_type": "stream",
     "text": [
      "\n",
      "Test Epoch: 88\tAccuracy: 644/976 (66%)\n",
      "\n"
     ]
    },
    {
     "name": "stderr",
     "output_type": "stream",
     "text": [
      " 70%|██████████████████████████████████████████████▏                   | 28.003267973862634/40 [34:35<14:46, 73.91s/it]"
     ]
    },
    {
     "name": "stdout",
     "output_type": "stream",
     "text": [
      "Train Epoch: 89 [0/3920 (0%)]\tLoss: 0.132712\n",
      "Mem before-during-after: 47372800 50519040 47373824\n"
     ]
    },
    {
     "name": "stderr",
     "output_type": "stream",
     "text": [
      " 70%|███████████████████████████████████████████████                    | 28.13398692811107/40 [34:44<14:40, 74.23s/it]"
     ]
    },
    {
     "name": "stdout",
     "output_type": "stream",
     "text": [
      "Train Epoch: 89 [640/3920 (16%)]\tLoss: 0.119035\n",
      "Mem before-during-after: 47373824 50542080 47373824\n"
     ]
    },
    {
     "name": "stderr",
     "output_type": "stream",
     "text": [
      " 71%|██████████████████████████████████████████████▋                   | 28.264705882359507/40 [34:54<14:29, 74.10s/it]"
     ]
    },
    {
     "name": "stdout",
     "output_type": "stream",
     "text": [
      "Train Epoch: 89 [1280/3920 (33%)]\tLoss: 0.024199\n",
      "Mem before-during-after: 47373824 50920448 47373824\n"
     ]
    },
    {
     "name": "stderr",
     "output_type": "stream",
     "text": [
      " 71%|██████████████████████████████████████████████▊                   | 28.395424836607944/40 [35:04<14:20, 74.14s/it]"
     ]
    },
    {
     "name": "stdout",
     "output_type": "stream",
     "text": [
      "Train Epoch: 89 [1920/3920 (49%)]\tLoss: 0.301978\n",
      "Mem before-during-after: 47373824 50410496 47373824\n"
     ]
    },
    {
     "name": "stderr",
     "output_type": "stream",
     "text": [
      " 71%|███████████████████████████████████████████████▊                   | 28.52614379085638/40 [35:14<14:11, 74.20s/it]"
     ]
    },
    {
     "name": "stdout",
     "output_type": "stream",
     "text": [
      "Train Epoch: 89 [2560/3920 (65%)]\tLoss: 0.001336\n",
      "Mem before-during-after: 47373824 50842624 47373824\n"
     ]
    },
    {
     "name": "stderr",
     "output_type": "stream",
     "text": [
      " 72%|███████████████████████████████████████████████▎                  | 28.656862745104817/40 [35:23<13:58, 73.96s/it]"
     ]
    },
    {
     "name": "stdout",
     "output_type": "stream",
     "text": [
      "Train Epoch: 89 [3200/3920 (82%)]\tLoss: 0.000254\n",
      "Mem before-during-after: 47373824 49911296 47373824\n"
     ]
    },
    {
     "name": "stderr",
     "output_type": "stream",
     "text": [
      " 72%|███████████████████████████████████████████████▍                  | 28.787581699353254/40 [35:33<13:51, 74.17s/it]"
     ]
    },
    {
     "name": "stdout",
     "output_type": "stream",
     "text": [
      "Train Epoch: 89 [3840/3920 (98%)]\tLoss: 0.179168\n",
      "Mem before-during-after: 47373824 50781184 47373824\n"
     ]
    },
    {
     "name": "stderr",
     "output_type": "stream",
     "text": [
      " 73%|███████████████████████████████████████████████▊                  | 29.000000000006963/40 [35:49<13:26, 73.32s/it]"
     ]
    },
    {
     "name": "stdout",
     "output_type": "stream",
     "text": [
      "\n",
      "Test Epoch: 89\tAccuracy: 637/976 (65%)\n",
      "\n"
     ]
    },
    {
     "name": "stderr",
     "output_type": "stream",
     "text": [
      " 73%|███████████████████████████████████████████████▊                  | 29.003267973863174/40 [35:49<13:31, 73.84s/it]"
     ]
    },
    {
     "name": "stdout",
     "output_type": "stream",
     "text": [
      "Train Epoch: 90 [0/3920 (0%)]\tLoss: 0.000974\n",
      "Mem before-during-after: 47372800 49815040 47373824\n"
     ]
    },
    {
     "name": "stderr",
     "output_type": "stream",
     "text": [
      " 73%|████████████████████████████████████████████████▊                  | 29.13398692811161/40 [35:59<13:31, 74.64s/it]"
     ]
    },
    {
     "name": "stdout",
     "output_type": "stream",
     "text": [
      "Train Epoch: 90 [640/3920 (16%)]\tLoss: 0.000101\n",
      "Mem before-during-after: 47373824 49952256 47373824\n"
     ]
    },
    {
     "name": "stderr",
     "output_type": "stream",
     "text": [
      " 73%|████████████████████████████████████████████████▎                 | 29.264705882360047/40 [36:08<13:18, 74.40s/it]"
     ]
    },
    {
     "name": "stdout",
     "output_type": "stream",
     "text": [
      "Train Epoch: 90 [1280/3920 (33%)]\tLoss: 0.530528\n",
      "Mem before-during-after: 47373824 49911296 47373824\n"
     ]
    },
    {
     "name": "stderr",
     "output_type": "stream",
     "text": [
      " 73%|████████████████████████████████████████████████▌                 | 29.395424836608484/40 [36:18<13:11, 74.60s/it]"
     ]
    },
    {
     "name": "stdout",
     "output_type": "stream",
     "text": [
      "Train Epoch: 90 [1920/3920 (49%)]\tLoss: 0.014200\n",
      "Mem before-during-after: 47373824 50603520 47373824\n"
     ]
    },
    {
     "name": "stderr",
     "output_type": "stream",
     "text": [
      " 74%|█████████████████████████████████████████████████▍                 | 29.52614379085692/40 [36:28<13:03, 74.78s/it]"
     ]
    },
    {
     "name": "stdout",
     "output_type": "stream",
     "text": [
      "Train Epoch: 90 [2560/3920 (65%)]\tLoss: 0.041113\n",
      "Mem before-during-after: 47373824 50920448 47373824\n"
     ]
    },
    {
     "name": "stderr",
     "output_type": "stream",
     "text": [
      " 74%|████████████████████████████████████████████████▉                 | 29.656862745105357/40 [36:38<12:51, 74.61s/it]"
     ]
    },
    {
     "name": "stdout",
     "output_type": "stream",
     "text": [
      "Train Epoch: 90 [3200/3920 (82%)]\tLoss: 0.001274\n",
      "Mem before-during-after: 47373824 50611200 47373824\n"
     ]
    },
    {
     "name": "stderr",
     "output_type": "stream",
     "text": [
      " 74%|█████████████████████████████████████████████████▏                | 29.787581699353794/40 [36:47<12:43, 74.73s/it]"
     ]
    },
    {
     "name": "stdout",
     "output_type": "stream",
     "text": [
      "Train Epoch: 90 [3840/3920 (98%)]\tLoss: 0.040841\n",
      "Mem before-during-after: 47373824 50150912 47373824\n"
     ]
    },
    {
     "name": "stderr",
     "output_type": "stream",
     "text": [
      " 75%|█████████████████████████████████████████████████▌                | 30.000000000007503/40 [37:03<12:13, 73.37s/it]"
     ]
    },
    {
     "name": "stdout",
     "output_type": "stream",
     "text": [
      "\n",
      "Test Epoch: 90\tAccuracy: 664/976 (68%)\n",
      "\n"
     ]
    },
    {
     "name": "stderr",
     "output_type": "stream",
     "text": [
      " 75%|█████████████████████████████████████████████████▌                | 30.003267973863714/40 [37:03<12:17, 73.82s/it]"
     ]
    },
    {
     "name": "stdout",
     "output_type": "stream",
     "text": [
      "Train Epoch: 91 [0/3920 (0%)]\tLoss: 0.071930\n",
      "Mem before-during-after: 47372800 49794560 47373824\n"
     ]
    },
    {
     "name": "stderr",
     "output_type": "stream",
     "text": [
      " 75%|██████████████████████████████████████████████████▍                | 30.13398692811215/40 [37:13<12:28, 75.85s/it]"
     ]
    },
    {
     "name": "stdout",
     "output_type": "stream",
     "text": [
      "Train Epoch: 91 [640/3920 (16%)]\tLoss: 0.009656\n",
      "Mem before-during-after: 47373824 50719744 47373824\n"
     ]
    },
    {
     "name": "stderr",
     "output_type": "stream",
     "text": [
      " 76%|█████████████████████████████████████████████████▉                | 30.264705882360587/40 [37:23<12:05, 74.55s/it]"
     ]
    },
    {
     "name": "stdout",
     "output_type": "stream",
     "text": [
      "Train Epoch: 91 [1280/3920 (33%)]\tLoss: 0.022502\n",
      "Mem before-during-after: 47373824 50719744 47373824\n"
     ]
    },
    {
     "name": "stderr",
     "output_type": "stream",
     "text": [
      " 76%|██████████████████████████████████████████████████▏               | 30.395424836609024/40 [37:33<11:55, 74.51s/it]"
     ]
    },
    {
     "name": "stdout",
     "output_type": "stream",
     "text": [
      "Train Epoch: 91 [1920/3920 (49%)]\tLoss: 0.001330\n",
      "Mem before-during-after: 47373824 49815040 47373824\n"
     ]
    },
    {
     "name": "stderr",
     "output_type": "stream",
     "text": [
      " 76%|███████████████████████████████████████████████████▏               | 30.52614379085746/40 [37:42<11:59, 75.90s/it]"
     ]
    },
    {
     "name": "stdout",
     "output_type": "stream",
     "text": [
      "Train Epoch: 91 [2560/3920 (65%)]\tLoss: 0.901172\n",
      "Mem before-during-after: 47373824 49774080 47373824\n"
     ]
    },
    {
     "name": "stderr",
     "output_type": "stream",
     "text": [
      " 77%|██████████████████████████████████████████████████▌               | 30.656862745105897/40 [37:52<11:36, 74.55s/it]"
     ]
    },
    {
     "name": "stdout",
     "output_type": "stream",
     "text": [
      "Train Epoch: 91 [3200/3920 (82%)]\tLoss: 0.023516\n",
      "Mem before-during-after: 47373824 49815040 47373824\n"
     ]
    },
    {
     "name": "stderr",
     "output_type": "stream",
     "text": [
      " 77%|██████████████████████████████████████████████████▊               | 30.787581699354334/40 [38:02<11:26, 74.56s/it]"
     ]
    },
    {
     "name": "stdout",
     "output_type": "stream",
     "text": [
      "Train Epoch: 91 [3840/3920 (98%)]\tLoss: 0.013230\n",
      "Mem before-during-after: 47373824 50811904 47373824\n"
     ]
    },
    {
     "name": "stderr",
     "output_type": "stream",
     "text": [
      " 78%|███████████████████████████████████████████████████▏              | 31.000000000008043/40 [38:18<11:02, 73.62s/it]"
     ]
    },
    {
     "name": "stdout",
     "output_type": "stream",
     "text": [
      "\n",
      "Test Epoch: 91\tAccuracy: 635/976 (65%)\n",
      "\n"
     ]
    },
    {
     "name": "stderr",
     "output_type": "stream",
     "text": [
      " 78%|███████████████████████████████████████████████████▏              | 31.003267973864254/40 [38:18<11:04, 73.90s/it]"
     ]
    },
    {
     "name": "stdout",
     "output_type": "stream",
     "text": [
      "Train Epoch: 92 [0/3920 (0%)]\tLoss: 0.000287\n",
      "Mem before-during-after: 47372800 49835520 47373824\n"
     ]
    },
    {
     "name": "stderr",
     "output_type": "stream",
     "text": [
      " 78%|████████████████████████████████████████████████████▏              | 31.13398692811269/40 [38:28<10:57, 74.16s/it]"
     ]
    },
    {
     "name": "stdout",
     "output_type": "stream",
     "text": [
      "Train Epoch: 92 [640/3920 (16%)]\tLoss: 0.347252\n",
      "Mem before-during-after: 47373824 49794560 47373824\n"
     ]
    },
    {
     "name": "stderr",
     "output_type": "stream",
     "text": [
      " 78%|███████████████████████████████████████████████████▌              | 31.264705882361127/40 [38:37<10:46, 74.07s/it]"
     ]
    },
    {
     "name": "stdout",
     "output_type": "stream",
     "text": [
      "Train Epoch: 92 [1280/3920 (33%)]\tLoss: 0.414282\n",
      "Mem before-during-after: 47373824 50811904 47373824\n"
     ]
    },
    {
     "name": "stderr",
     "output_type": "stream",
     "text": [
      " 78%|███████████████████████████████████████████████████▊              | 31.395424836609564/40 [38:47<10:37, 74.05s/it]"
     ]
    },
    {
     "name": "stdout",
     "output_type": "stream",
     "text": [
      "Train Epoch: 92 [1920/3920 (49%)]\tLoss: 0.003705\n",
      "Mem before-during-after: 47373824 50392576 47373824\n"
     ]
    },
    {
     "name": "stderr",
     "output_type": "stream",
     "text": [
      " 79%|██████████████████████████████████████████████████████▍              | 31.526143790858/40 [38:57<10:26, 73.92s/it]"
     ]
    },
    {
     "name": "stdout",
     "output_type": "stream",
     "text": [
      "Train Epoch: 92 [2560/3920 (65%)]\tLoss: 0.259881\n",
      "Mem before-during-after: 47373824 49835520 47373824\n"
     ]
    },
    {
     "name": "stderr",
     "output_type": "stream",
     "text": [
      " 79%|████████████████████████████████████████████████████▏             | 31.656862745106437/40 [39:06<10:16, 73.93s/it]"
     ]
    },
    {
     "name": "stdout",
     "output_type": "stream",
     "text": [
      "Train Epoch: 92 [3200/3920 (82%)]\tLoss: 0.690825\n",
      "Mem before-during-after: 47373824 50611200 47373824\n"
     ]
    },
    {
     "name": "stderr",
     "output_type": "stream",
     "text": [
      " 79%|████████████████████████████████████████████████████▍             | 31.787581699354874/40 [39:16<10:08, 74.14s/it]"
     ]
    },
    {
     "name": "stdout",
     "output_type": "stream",
     "text": [
      "Train Epoch: 92 [3840/3920 (98%)]\tLoss: 0.002287\n",
      "Mem before-during-after: 47373824 50750464 47373824\n"
     ]
    },
    {
     "name": "stderr",
     "output_type": "stream",
     "text": [
      " 80%|█████████████████████████████████████████████████████▌             | 32.00000000000858/40 [39:32<09:45, 73.19s/it]"
     ]
    },
    {
     "name": "stdout",
     "output_type": "stream",
     "text": [
      "\n",
      "Test Epoch: 92\tAccuracy: 633/976 (65%)\n",
      "\n"
     ]
    },
    {
     "name": "stderr",
     "output_type": "stream",
     "text": [
      " 80%|████████████████████████████████████████████████████▊             | 32.003267973864794/40 [39:32<09:49, 73.71s/it]"
     ]
    },
    {
     "name": "stdout",
     "output_type": "stream",
     "text": [
      "Train Epoch: 93 [0/3920 (0%)]\tLoss: 0.019488\n",
      "Mem before-during-after: 47372800 50580480 47373824\n"
     ]
    },
    {
     "name": "stderr",
     "output_type": "stream",
     "text": [
      " 80%|█████████████████████████████████████████████████████▊             | 32.13398692811323/40 [39:42<09:48, 74.79s/it]"
     ]
    },
    {
     "name": "stdout",
     "output_type": "stream",
     "text": [
      "Train Epoch: 93 [640/3920 (16%)]\tLoss: 0.178134\n",
      "Mem before-during-after: 47373824 50781184 47373824\n"
     ]
    },
    {
     "name": "stderr",
     "output_type": "stream",
     "text": [
      " 81%|██████████████████████████████████████████████████████             | 32.26470588236167/40 [39:51<09:38, 74.80s/it]"
     ]
    },
    {
     "name": "stdout",
     "output_type": "stream",
     "text": [
      "Train Epoch: 93 [1280/3920 (33%)]\tLoss: 0.002325\n",
      "Mem before-during-after: 47373824 50842624 47373824\n"
     ]
    },
    {
     "name": "stderr",
     "output_type": "stream",
     "text": [
      " 81%|█████████████████████████████████████████████████████▍            | 32.395424836610104/40 [40:01<09:22, 74.01s/it]"
     ]
    },
    {
     "name": "stdout",
     "output_type": "stream",
     "text": [
      "Train Epoch: 93 [1920/3920 (49%)]\tLoss: 0.018578\n",
      "Mem before-during-after: 47373824 50549760 47373824\n"
     ]
    },
    {
     "name": "stderr",
     "output_type": "stream",
     "text": [
      " 81%|██████████████████████████████████████████████████████▍            | 32.52614379085854/40 [40:11<09:17, 74.53s/it]"
     ]
    },
    {
     "name": "stdout",
     "output_type": "stream",
     "text": [
      "Train Epoch: 93 [2560/3920 (65%)]\tLoss: 0.246240\n",
      "Mem before-during-after: 47373824 50549760 47373824\n"
     ]
    },
    {
     "name": "stderr",
     "output_type": "stream",
     "text": [
      " 82%|██████████████████████████████████████████████████████▋            | 32.65686274510698/40 [40:20<09:10, 74.97s/it]"
     ]
    },
    {
     "name": "stdout",
     "output_type": "stream",
     "text": [
      "Train Epoch: 93 [3200/3920 (82%)]\tLoss: 0.019597\n",
      "Mem before-during-after: 47373824 49753600 47373824\n"
     ]
    },
    {
     "name": "stderr",
     "output_type": "stream",
     "text": [
      " 82%|██████████████████████████████████████████████████████            | 32.787581699355414/40 [40:30<08:54, 74.07s/it]"
     ]
    },
    {
     "name": "stdout",
     "output_type": "stream",
     "text": [
      "Train Epoch: 93 [3840/3920 (98%)]\tLoss: 1.447846\n",
      "Mem before-during-after: 47373824 51473408 47373824\n"
     ]
    },
    {
     "name": "stderr",
     "output_type": "stream",
     "text": [
      " 83%|███████████████████████████████████████████████████████▎           | 33.00000000000912/40 [40:46<08:34, 73.57s/it]"
     ]
    },
    {
     "name": "stdout",
     "output_type": "stream",
     "text": [
      "\n",
      "Test Epoch: 93\tAccuracy: 626/976 (64%)\n",
      "\n"
     ]
    },
    {
     "name": "stderr",
     "output_type": "stream",
     "text": [
      " 83%|██████████████████████████████████████████████████████▍           | 33.003267973865334/40 [40:46<08:37, 74.03s/it]"
     ]
    },
    {
     "name": "stdout",
     "output_type": "stream",
     "text": [
      "Train Epoch: 94 [0/3920 (0%)]\tLoss: 0.014837\n",
      "Mem before-during-after: 47372800 49911296 47373824\n"
     ]
    },
    {
     "name": "stderr",
     "output_type": "stream",
     "text": [
      " 83%|███████████████████████████████████████████████████████▍           | 33.13398692811377/40 [40:56<08:31, 74.43s/it]"
     ]
    },
    {
     "name": "stdout",
     "output_type": "stream",
     "text": [
      "Train Epoch: 94 [640/3920 (16%)]\tLoss: 0.351835\n",
      "Mem before-during-after: 47373824 50441216 47373824\n"
     ]
    },
    {
     "name": "stderr",
     "output_type": "stream",
     "text": [
      " 83%|███████████████████████████████████████████████████████▋           | 33.26470588236221/40 [41:06<08:21, 74.50s/it]"
     ]
    },
    {
     "name": "stdout",
     "output_type": "stream",
     "text": [
      "Train Epoch: 94 [1280/3920 (33%)]\tLoss: 0.427383\n",
      "Mem before-during-after: 47373824 50428928 47373824\n"
     ]
    },
    {
     "name": "stderr",
     "output_type": "stream",
     "text": [
      " 83%|███████████████████████████████████████████████████████           | 33.395424836610644/40 [41:15<08:11, 74.37s/it]"
     ]
    },
    {
     "name": "stdout",
     "output_type": "stream",
     "text": [
      "Train Epoch: 94 [1920/3920 (49%)]\tLoss: 0.236416\n",
      "Mem before-during-after: 47373824 50719744 47373824\n"
     ]
    },
    {
     "name": "stderr",
     "output_type": "stream",
     "text": [
      " 84%|████████████████████████████████████████████████████████▏          | 33.52614379085908/40 [41:25<07:59, 74.14s/it]"
     ]
    },
    {
     "name": "stdout",
     "output_type": "stream",
     "text": [
      "Train Epoch: 94 [2560/3920 (65%)]\tLoss: 0.230395\n",
      "Mem before-during-after: 47373824 50249216 47373824\n"
     ]
    },
    {
     "name": "stderr",
     "output_type": "stream",
     "text": [
      " 84%|████████████████████████████████████████████████████████▍          | 33.65686274510752/40 [41:35<07:51, 74.27s/it]"
     ]
    },
    {
     "name": "stdout",
     "output_type": "stream",
     "text": [
      "Train Epoch: 94 [3200/3920 (82%)]\tLoss: 0.774588\n",
      "Mem before-during-after: 47373824 50761216 47373824\n"
     ]
    },
    {
     "name": "stderr",
     "output_type": "stream",
     "text": [
      " 84%|███████████████████████████████████████████████████████▋          | 33.787581699355954/40 [41:45<07:41, 74.24s/it]"
     ]
    },
    {
     "name": "stdout",
     "output_type": "stream",
     "text": [
      "Train Epoch: 94 [3840/3920 (98%)]\tLoss: 0.008954\n",
      "Mem before-during-after: 47373824 50486784 47373824\n"
     ]
    },
    {
     "name": "stderr",
     "output_type": "stream",
     "text": [
      " 85%|████████████████████████████████████████████████████████▉          | 34.00000000000966/40 [42:00<07:20, 73.36s/it]"
     ]
    },
    {
     "name": "stdout",
     "output_type": "stream",
     "text": [
      "\n",
      "Test Epoch: 94\tAccuracy: 636/976 (65%)\n",
      "\n"
     ]
    },
    {
     "name": "stderr",
     "output_type": "stream",
     "text": [
      " 85%|████████████████████████████████████████████████████████          | 34.003267973865874/40 [42:00<07:32, 75.52s/it]"
     ]
    },
    {
     "name": "stdout",
     "output_type": "stream",
     "text": [
      "Train Epoch: 95 [0/3920 (0%)]\tLoss: 0.517707\n",
      "Mem before-during-after: 47372800 50488320 47373824\n"
     ]
    },
    {
     "name": "stderr",
     "output_type": "stream",
     "text": [
      " 85%|█████████████████████████████████████████████████████████▏         | 34.13398692811431/40 [42:10<07:16, 74.37s/it]"
     ]
    },
    {
     "name": "stdout",
     "output_type": "stream",
     "text": [
      "Train Epoch: 95 [640/3920 (16%)]\tLoss: 0.406678\n",
      "Mem before-during-after: 47373824 49931776 47373824\n"
     ]
    },
    {
     "name": "stderr",
     "output_type": "stream",
     "text": [
      " 86%|█████████████████████████████████████████████████████████▍         | 34.26470588236275/40 [42:20<07:06, 74.44s/it]"
     ]
    },
    {
     "name": "stdout",
     "output_type": "stream",
     "text": [
      "Train Epoch: 95 [1280/3920 (33%)]\tLoss: 1.314299\n",
      "Mem before-during-after: 47373824 50761216 47373824\n"
     ]
    },
    {
     "name": "stderr",
     "output_type": "stream",
     "text": [
      " 86%|████████████████████████████████████████████████████████▊         | 34.395424836611184/40 [42:30<07:04, 75.70s/it]"
     ]
    },
    {
     "name": "stdout",
     "output_type": "stream",
     "text": [
      "Train Epoch: 95 [1920/3920 (49%)]\tLoss: 0.034214\n",
      "Mem before-during-after: 47373824 50580480 47373824\n"
     ]
    },
    {
     "name": "stderr",
     "output_type": "stream",
     "text": [
      " 86%|█████████████████████████████████████████████████████████▊         | 34.52614379085962/40 [42:39<06:46, 74.31s/it]"
     ]
    },
    {
     "name": "stdout",
     "output_type": "stream",
     "text": [
      "Train Epoch: 95 [2560/3920 (65%)]\tLoss: 2.701872\n",
      "Mem before-during-after: 47373824 51056128 47373824\n"
     ]
    },
    {
     "name": "stderr",
     "output_type": "stream",
     "text": [
      " 87%|██████████████████████████████████████████████████████████         | 34.65686274510806/40 [42:49<06:36, 74.18s/it]"
     ]
    },
    {
     "name": "stdout",
     "output_type": "stream",
     "text": [
      "Train Epoch: 95 [3200/3920 (82%)]\tLoss: 0.460346\n",
      "Mem before-during-after: 47373824 49856000 47373824\n"
     ]
    },
    {
     "name": "stderr",
     "output_type": "stream",
     "text": [
      " 87%|█████████████████████████████████████████████████████████▍        | 34.787581699356494/40 [42:59<06:30, 74.86s/it]"
     ]
    },
    {
     "name": "stdout",
     "output_type": "stream",
     "text": [
      "Train Epoch: 95 [3840/3920 (98%)]\tLoss: 0.008163\n",
      "Mem before-during-after: 47373824 50109952 47373824\n"
     ]
    },
    {
     "name": "stderr",
     "output_type": "stream",
     "text": [
      " 88%|███████████████████████████████████████████████████████████▌        | 35.0000000000102/40 [43:14<06:07, 73.47s/it]"
     ]
    },
    {
     "name": "stdout",
     "output_type": "stream",
     "text": [
      "\n",
      "Test Epoch: 95\tAccuracy: 646/976 (66%)\n",
      "\n"
     ]
    },
    {
     "name": "stderr",
     "output_type": "stream",
     "text": [
      " 88%|█████████████████████████████████████████████████████████▊        | 35.003267973866414/40 [43:15<06:09, 73.93s/it]"
     ]
    },
    {
     "name": "stdout",
     "output_type": "stream",
     "text": [
      "Train Epoch: 96 [0/3920 (0%)]\tLoss: 0.295495\n",
      "Mem before-during-after: 47372800 50842624 47373824\n"
     ]
    },
    {
     "name": "stderr",
     "output_type": "stream",
     "text": [
      " 88%|██████████████████████████████████████████████████████████▊        | 35.13398692811485/40 [43:24<06:05, 75.05s/it]"
     ]
    },
    {
     "name": "stdout",
     "output_type": "stream",
     "text": [
      "Train Epoch: 96 [640/3920 (16%)]\tLoss: 0.292547\n",
      "Mem before-during-after: 47373824 50811904 47373824\n"
     ]
    },
    {
     "name": "stderr",
     "output_type": "stream",
     "text": [
      " 88%|███████████████████████████████████████████████████████████        | 35.26470588236329/40 [43:34<05:50, 73.99s/it]"
     ]
    },
    {
     "name": "stdout",
     "output_type": "stream",
     "text": [
      "Train Epoch: 96 [1280/3920 (33%)]\tLoss: 0.174780\n",
      "Mem before-during-after: 47373824 50889728 47373824\n"
     ]
    },
    {
     "name": "stderr",
     "output_type": "stream",
     "text": [
      " 88%|██████████████████████████████████████████████████████████▍       | 35.395424836611724/40 [43:44<05:44, 74.87s/it]"
     ]
    },
    {
     "name": "stdout",
     "output_type": "stream",
     "text": [
      "Train Epoch: 96 [1920/3920 (49%)]\tLoss: 0.232823\n",
      "Mem before-during-after: 47373824 50549760 47373824\n"
     ]
    },
    {
     "name": "stderr",
     "output_type": "stream",
     "text": [
      " 89%|███████████████████████████████████████████████████████████▌       | 35.52614379086016/40 [43:54<05:34, 74.66s/it]"
     ]
    },
    {
     "name": "stdout",
     "output_type": "stream",
     "text": [
      "Train Epoch: 96 [2560/3920 (65%)]\tLoss: 0.057994\n",
      "Mem before-during-after: 47373824 50719744 47373824\n"
     ]
    },
    {
     "name": "stderr",
     "output_type": "stream",
     "text": [
      " 89%|████████████████████████████████████████████████████████████▌       | 35.6568627451086/40 [44:03<05:22, 74.19s/it]"
     ]
    },
    {
     "name": "stdout",
     "output_type": "stream",
     "text": [
      "Train Epoch: 96 [3200/3920 (82%)]\tLoss: 0.020567\n",
      "Mem before-during-after: 47373824 49911296 47373824\n"
     ]
    },
    {
     "name": "stderr",
     "output_type": "stream",
     "text": [
      " 89%|███████████████████████████████████████████████████████████       | 35.787581699357034/40 [44:13<05:13, 74.49s/it]"
     ]
    },
    {
     "name": "stdout",
     "output_type": "stream",
     "text": [
      "Train Epoch: 96 [3840/3920 (98%)]\tLoss: 0.088470\n",
      "Mem before-during-after: 47373824 50410496 47373824\n"
     ]
    },
    {
     "name": "stderr",
     "output_type": "stream",
     "text": [
      " 90%|████████████████████████████████████████████████████████████▎      | 36.00000000001074/40 [44:29<04:54, 73.55s/it]"
     ]
    },
    {
     "name": "stdout",
     "output_type": "stream",
     "text": [
      "\n",
      "Test Epoch: 96\tAccuracy: 628/976 (64%)\n",
      "\n"
     ]
    },
    {
     "name": "stderr",
     "output_type": "stream",
     "text": [
      " 90%|███████████████████████████████████████████████████████████▍      | 36.003267973866954/40 [44:29<04:55, 73.97s/it]"
     ]
    },
    {
     "name": "stdout",
     "output_type": "stream",
     "text": [
      "Train Epoch: 97 [0/3920 (0%)]\tLoss: 0.008898\n",
      "Mem before-during-after: 47372800 50425344 47373824\n"
     ]
    },
    {
     "name": "stderr",
     "output_type": "stream",
     "text": [
      " 90%|████████████████████████████████████████████████████████████▌      | 36.13398692811539/40 [44:39<04:47, 74.26s/it]"
     ]
    },
    {
     "name": "stdout",
     "output_type": "stream",
     "text": [
      "Train Epoch: 97 [640/3920 (16%)]\tLoss: 0.535213\n",
      "Mem before-during-after: 47373824 49856000 47373824\n"
     ]
    },
    {
     "name": "stderr",
     "output_type": "stream",
     "text": [
      " 91%|████████████████████████████████████████████████████████████▋      | 36.26470588236383/40 [44:48<04:36, 74.14s/it]"
     ]
    },
    {
     "name": "stdout",
     "output_type": "stream",
     "text": [
      "Train Epoch: 97 [1280/3920 (33%)]\tLoss: 1.005742\n",
      "Mem before-during-after: 47373824 51015168 47373824\n"
     ]
    },
    {
     "name": "stderr",
     "output_type": "stream",
     "text": [
      " 91%|████████████████████████████████████████████████████████████      | 36.395424836612264/40 [44:58<04:26, 74.02s/it]"
     ]
    },
    {
     "name": "stdout",
     "output_type": "stream",
     "text": [
      "Train Epoch: 97 [1920/3920 (49%)]\tLoss: 0.001953\n",
      "Mem before-during-after: 47373824 49636864 47373824\n"
     ]
    },
    {
     "name": "stderr",
     "output_type": "stream",
     "text": [
      " 91%|██████████████████████████████████████████████████████████████      | 36.5261437908607/40 [45:08<04:17, 74.13s/it]"
     ]
    },
    {
     "name": "stdout",
     "output_type": "stream",
     "text": [
      "Train Epoch: 97 [2560/3920 (65%)]\tLoss: 0.369618\n",
      "Mem before-during-after: 47373824 50535936 47373824\n"
     ]
    },
    {
     "name": "stderr",
     "output_type": "stream",
     "text": [
      " 92%|█████████████████████████████████████████████████████████████▍     | 36.65686274510914/40 [45:17<04:07, 74.04s/it]"
     ]
    },
    {
     "name": "stdout",
     "output_type": "stream",
     "text": [
      "Train Epoch: 97 [3200/3920 (82%)]\tLoss: 0.784469\n",
      "Mem before-during-after: 47373824 50488320 47373824\n"
     ]
    },
    {
     "name": "stderr",
     "output_type": "stream",
     "text": [
      " 92%|████████████████████████████████████████████████████████████▋     | 36.787581699357574/40 [45:27<03:57, 73.96s/it]"
     ]
    },
    {
     "name": "stdout",
     "output_type": "stream",
     "text": [
      "Train Epoch: 97 [3840/3920 (98%)]\tLoss: 0.108204\n",
      "Mem before-during-after: 47373824 49794560 47373824\n"
     ]
    },
    {
     "name": "stderr",
     "output_type": "stream",
     "text": [
      " 93%|█████████████████████████████████████████████████████████████▉     | 37.00000000001128/40 [45:43<03:38, 72.91s/it]"
     ]
    },
    {
     "name": "stdout",
     "output_type": "stream",
     "text": [
      "\n",
      "Test Epoch: 97\tAccuracy: 627/976 (64%)\n",
      "\n"
     ]
    },
    {
     "name": "stderr",
     "output_type": "stream",
     "text": [
      " 93%|█████████████████████████████████████████████████████████████     | 37.003267973867494/40 [45:43<03:39, 73.38s/it]"
     ]
    },
    {
     "name": "stdout",
     "output_type": "stream",
     "text": [
      "Train Epoch: 98 [0/3920 (0%)]\tLoss: 0.010334\n",
      "Mem before-during-after: 47372800 49753600 47373824\n"
     ]
    },
    {
     "name": "stderr",
     "output_type": "stream",
     "text": [
      " 93%|██████████████████████████████████████████████████████████████▏    | 37.13398692811593/40 [45:53<03:33, 74.47s/it]"
     ]
    },
    {
     "name": "stdout",
     "output_type": "stream",
     "text": [
      "Train Epoch: 98 [640/3920 (16%)]\tLoss: 0.006228\n",
      "Mem before-during-after: 47373824 49911296 47373824\n"
     ]
    },
    {
     "name": "stderr",
     "output_type": "stream",
     "text": [
      " 93%|██████████████████████████████████████████████████████████████▍    | 37.26470588236437/40 [46:02<03:23, 74.38s/it]"
     ]
    },
    {
     "name": "stdout",
     "output_type": "stream",
     "text": [
      "Train Epoch: 98 [1280/3920 (33%)]\tLoss: 0.024285\n",
      "Mem before-during-after: 47373824 50689024 47373824\n"
     ]
    },
    {
     "name": "stderr",
     "output_type": "stream",
     "text": [
      " 93%|█████████████████████████████████████████████████████████████▋    | 37.395424836612804/40 [46:12<03:13, 74.40s/it]"
     ]
    },
    {
     "name": "stdout",
     "output_type": "stream",
     "text": [
      "Train Epoch: 98 [1920/3920 (49%)]\tLoss: 0.702653\n",
      "Mem before-during-after: 47373824 50624000 47373824\n"
     ]
    },
    {
     "name": "stderr",
     "output_type": "stream",
     "text": [
      " 94%|██████████████████████████████████████████████████████████████▊    | 37.52614379086124/40 [46:22<03:05, 74.84s/it]"
     ]
    },
    {
     "name": "stdout",
     "output_type": "stream",
     "text": [
      "Train Epoch: 98 [2560/3920 (65%)]\tLoss: 0.002049\n",
      "Mem before-during-after: 47373824 50641920 47373824\n"
     ]
    },
    {
     "name": "stderr",
     "output_type": "stream",
     "text": [
      " 94%|███████████████████████████████████████████████████████████████    | 37.65686274510968/40 [46:31<02:54, 74.67s/it]"
     ]
    },
    {
     "name": "stdout",
     "output_type": "stream",
     "text": [
      "Train Epoch: 98 [3200/3920 (82%)]\tLoss: 0.000428\n",
      "Mem before-during-after: 47373824 49616384 47373824\n"
     ]
    },
    {
     "name": "stderr",
     "output_type": "stream",
     "text": [
      " 94%|██████████████████████████████████████████████████████████████▎   | 37.787581699358114/40 [46:41<02:44, 74.40s/it]"
     ]
    },
    {
     "name": "stdout",
     "output_type": "stream",
     "text": [
      "Train Epoch: 98 [3840/3920 (98%)]\tLoss: 0.207003\n",
      "Mem before-during-after: 47373824 50750464 47373824\n"
     ]
    },
    {
     "name": "stderr",
     "output_type": "stream",
     "text": [
      " 95%|███████████████████████████████████████████████████████████████▋   | 38.00000000001182/40 [46:57<02:26, 73.13s/it]"
     ]
    },
    {
     "name": "stdout",
     "output_type": "stream",
     "text": [
      "\n",
      "Test Epoch: 98\tAccuracy: 639/976 (65%)\n",
      "\n"
     ]
    },
    {
     "name": "stderr",
     "output_type": "stream",
     "text": [
      " 95%|██████████████████████████████████████████████████████████████▋   | 38.003267973868034/40 [46:57<02:26, 73.56s/it]"
     ]
    },
    {
     "name": "stdout",
     "output_type": "stream",
     "text": [
      "Train Epoch: 99 [0/3920 (0%)]\tLoss: 0.139605\n",
      "Mem before-during-after: 47372800 49774080 47373824\n"
     ]
    },
    {
     "name": "stderr",
     "output_type": "stream",
     "text": [
      " 95%|███████████████████████████████████████████████████████████████▊   | 38.13398692811647/40 [47:07<02:18, 74.43s/it]"
     ]
    },
    {
     "name": "stdout",
     "output_type": "stream",
     "text": [
      "Train Epoch: 99 [640/3920 (16%)]\tLoss: 0.009072\n",
      "Mem before-during-after: 47373824 49931776 47373824\n"
     ]
    },
    {
     "name": "stderr",
     "output_type": "stream",
     "text": [
      " 96%|████████████████████████████████████████████████████████████████   | 38.26470588236491/40 [47:17<02:08, 74.20s/it]"
     ]
    },
    {
     "name": "stdout",
     "output_type": "stream",
     "text": [
      "Train Epoch: 99 [1280/3920 (33%)]\tLoss: 0.144824\n",
      "Mem before-during-after: 47373824 49677824 47373824\n"
     ]
    },
    {
     "name": "stderr",
     "output_type": "stream",
     "text": [
      " 96%|███████████████████████████████████████████████████████████████▎  | 38.395424836613344/40 [47:26<02:00, 74.80s/it]"
     ]
    },
    {
     "name": "stdout",
     "output_type": "stream",
     "text": [
      "Train Epoch: 99 [1920/3920 (49%)]\tLoss: 0.340540\n",
      "Mem before-during-after: 47373824 50542080 47373824\n"
     ]
    },
    {
     "name": "stderr",
     "output_type": "stream",
     "text": [
      " 96%|████████████████████████████████████████████████████████████████▌  | 38.52614379086178/40 [47:36<01:50, 74.86s/it]"
     ]
    },
    {
     "name": "stdout",
     "output_type": "stream",
     "text": [
      "Train Epoch: 99 [2560/3920 (65%)]\tLoss: 0.009205\n",
      "Mem before-during-after: 47373824 50811904 47373824\n"
     ]
    },
    {
     "name": "stderr",
     "output_type": "stream",
     "text": [
      " 97%|████████████████████████████████████████████████████████████████▊  | 38.65686274511022/40 [47:46<01:39, 74.02s/it]"
     ]
    },
    {
     "name": "stdout",
     "output_type": "stream",
     "text": [
      "Train Epoch: 99 [3200/3920 (82%)]\tLoss: 0.683410\n",
      "Mem before-during-after: 47373824 49774080 47373824\n"
     ]
    },
    {
     "name": "stderr",
     "output_type": "stream",
     "text": [
      " 97%|███████████████████████████████████████████████████████████████▉  | 38.787581699358654/40 [47:55<01:29, 74.15s/it]"
     ]
    },
    {
     "name": "stdout",
     "output_type": "stream",
     "text": [
      "Train Epoch: 99 [3840/3920 (98%)]\tLoss: 0.815395\n",
      "Mem before-during-after: 47373824 49911296 47373824\n"
     ]
    },
    {
     "name": "stderr",
     "output_type": "stream",
     "text": [
      " 98%|█████████████████████████████████████████████████████████████████▎ | 39.00000000001236/40 [48:11<01:13, 73.39s/it]"
     ]
    },
    {
     "name": "stdout",
     "output_type": "stream",
     "text": [
      "\n",
      "Test Epoch: 99\tAccuracy: 652/976 (67%)\n",
      "\n"
     ]
    },
    {
     "name": "stderr",
     "output_type": "stream",
     "text": [
      " 98%|████████████████████████████████████████████████████████████████▎ | 39.003267973868574/40 [48:11<01:13, 73.83s/it]"
     ]
    },
    {
     "name": "stdout",
     "output_type": "stream",
     "text": [
      "Train Epoch: 100 [0/3920 (0%)]\tLoss: 0.034067\n",
      "Mem before-during-after: 47372800 49952256 47373824\n"
     ]
    },
    {
     "name": "stderr",
     "output_type": "stream",
     "text": [
      " 98%|█████████████████████████████████████████████████████████████████▌ | 39.13398692811701/40 [48:21<01:04, 73.91s/it]"
     ]
    },
    {
     "name": "stdout",
     "output_type": "stream",
     "text": [
      "Train Epoch: 100 [640/3920 (16%)]\tLoss: 0.034799\n",
      "Mem before-during-after: 47373824 50920448 47373824\n"
     ]
    },
    {
     "name": "stderr",
     "output_type": "stream",
     "text": [
      " 98%|█████████████████████████████████████████████████████████████████▊ | 39.26470588236545/40 [48:31<00:54, 74.08s/it]"
     ]
    },
    {
     "name": "stdout",
     "output_type": "stream",
     "text": [
      "Train Epoch: 100 [1280/3920 (33%)]\tLoss: 0.254987\n",
      "Mem before-during-after: 47373824 49698304 47373824\n"
     ]
    },
    {
     "name": "stderr",
     "output_type": "stream",
     "text": [
      " 98%|█████████████████████████████████████████████████████████████████ | 39.395424836613884/40 [48:40<00:44, 74.07s/it]"
     ]
    },
    {
     "name": "stdout",
     "output_type": "stream",
     "text": [
      "Train Epoch: 100 [1920/3920 (49%)]\tLoss: 0.590253\n",
      "Mem before-during-after: 47373824 49815040 47373824\n"
     ]
    },
    {
     "name": "stderr",
     "output_type": "stream",
     "text": [
      " 99%|██████████████████████████████████████████████████████████████████▏| 39.52614379086232/40 [48:50<00:35, 74.06s/it]"
     ]
    },
    {
     "name": "stdout",
     "output_type": "stream",
     "text": [
      "Train Epoch: 100 [2560/3920 (65%)]\tLoss: 0.096580\n",
      "Mem before-during-after: 47373824 49774080 47373824\n"
     ]
    },
    {
     "name": "stderr",
     "output_type": "stream",
     "text": [
      " 99%|██████████████████████████████████████████████████████████████████▍| 39.65686274511076/40 [49:00<00:25, 74.18s/it]"
     ]
    },
    {
     "name": "stdout",
     "output_type": "stream",
     "text": [
      "Train Epoch: 100 [3200/3920 (82%)]\tLoss: 0.617178\n",
      "Mem before-during-after: 47373824 49835520 47373824\n"
     ]
    },
    {
     "name": "stderr",
     "output_type": "stream",
     "text": [
      " 99%|█████████████████████████████████████████████████████████████████▋| 39.787581699359194/40 [49:09<00:15, 74.20s/it]"
     ]
    },
    {
     "name": "stdout",
     "output_type": "stream",
     "text": [
      "Train Epoch: 100 [3840/3920 (98%)]\tLoss: 0.668711\n",
      "Mem before-during-after: 47373824 50425344 47373824\n"
     ]
    },
    {
     "name": "stderr",
     "output_type": "stream",
     "text": [
      "100%|████████████████████████████████████████████████████████████████████| 40.0000000000129/40 [49:25<00:00, 74.14s/it]"
     ]
    },
    {
     "name": "stdout",
     "output_type": "stream",
     "text": [
      "\n",
      "Test Epoch: 100\tAccuracy: 639/976 (65%)\n",
      "\n"
     ]
    },
    {
     "name": "stderr",
     "output_type": "stream",
     "text": [
      "\n"
     ]
    }
   ],
   "source": [
    "n_epoch = 10\n",
    "n_epoch2 = 50\n",
    "n_epoch3 = 40\n",
    "# train_losses = []\n",
    "# test_accuracy = []\n",
    "\n",
    "optimizer = optim.RAdam(model.parameters(), lr=0.00001)\n",
    "scheduler = optim.lr_scheduler.OneCycleLR(\n",
    "    optimizer, max_lr=0.02, pct_start=0.3,\n",
    "    steps_per_epoch=len(train_loader), epochs=n_epoch3)\n",
    "log_interval = 40\n",
    "pbar_update = 1 / (len(train_loader) + len(test_loader))\n",
    "model.to(device)\n",
    "with tqdm(total=n_epoch3) as pbar:\n",
    "    for epoch in range(1+n_epoch+n_epoch2, n_epoch3+n_epoch2 + n_epoch + 1):\n",
    "        train(model, epoch, log_interval, train_losses)\n",
    "        acc = test(model, epoch)\n",
    "        test_accuracy += [acc]\n",
    "        if acc > best_accuracy:\n",
    "            best_accuracy = acc\n",
    "            best_epoch = epoch\n",
    "            bmodel_path = f'{model_path_prefix}{epoch}epoch.pt'\n",
    "            torch.save(model.state_dict(), bmodel_path)\n",
    "            print(f'saved model: {bmodel_path}')\n",
    "        scheduler.step()"
   ]
  },
  {
   "cell_type": "code",
   "execution_count": 77,
   "id": "53258c0f-1e35-4779-87d9-3521aaf149e0",
   "metadata": {},
   "outputs": [
    {
     "data": {
      "text/plain": [
       "[<matplotlib.lines.Line2D at 0x7f46697cd340>]"
      ]
     },
     "execution_count": 77,
     "metadata": {},
     "output_type": "execute_result"
    },
    {
     "data": {
      "image/png": "[encoded data removed]",
      "text/plain": [
       "<Figure size 640x480 with 1 Axes>"
      ]
     },
     "metadata": {},
     "output_type": "display_data"
    }
   ],
   "source": [
    "plt.plot(train_losses)"
   ]
  },
  {
   "cell_type": "code",
   "execution_count": 78,
   "id": "aa39c280-ade0-4e6e-8e56-eb4864b0984a",
   "metadata": {},
   "outputs": [
    {
     "data": {
      "text/plain": [
       "[<matplotlib.lines.Line2D at 0x7f46697b6ee0>]"
      ]
     },
     "execution_count": 78,
     "metadata": {},
     "output_type": "execute_result"
    },
    {
     "data": {
      "image/png": "[encoded data removed]",
      "text/plain": [
       "<Figure size 640x480 with 1 Axes>"
      ]
     },
     "metadata": {},
     "output_type": "display_data"
    }
   ],
   "source": [
    "plt.plot(test_accuracy)"
   ]
  },
  {
   "cell_type": "code",
   "execution_count": 79,
   "id": "4265438e-865a-45be-9dd4-ffc361823eb8",
   "metadata": {},
   "outputs": [
    {
     "name": "stdout",
     "output_type": "stream",
     "text": [
      "../models_cremad4_mfcc/cremad_label4_m18mfcc_best_31epoch.pt\n",
      "Correct: 677/976 (0.6936)\n",
      "{'acc_detail': tensor([0.7787, 0.6590, 0.7205, 0.6111], device='cuda:0'),\n",
      " 'acc_unweighted': tensor(0.6923, device='cuda:0'),\n",
      " 'acc_weighted': tensor(0.6936, device='cuda:0'),\n",
      " 'f1s': tensor(0.6913, device='cuda:0'),\n",
      " 'f1s_detail': tensor([0.7665, 0.6398, 0.7291, 0.6299], device='cuda:0'),\n",
      " 'precision_detail': tensor([0.7548, 0.6217, 0.7379, 0.6498], device='cuda:0'),\n",
      " 'recall_detail': tensor([0.7787, 0.6590, 0.7205, 0.6111], device='cuda:0'),\n",
      " 'rocauc': tensor([0.8934, 0.8786, 0.9147, 0.8209], device='cuda:0'),\n",
      " 'uar': tensor(0.6923, device='cuda:0'),\n",
      " 'wap': tensor(0.6937, device='cuda:0')}\n"
     ]
    },
    {
     "data": {
      "text/plain": [
       "tensor([[197,   9,   2,  45],\n",
       "        [  8, 143,  47,  19],\n",
       "        [  8,  44, 183,  19],\n",
       "        [ 48,  34,  16, 154]], device='cuda:0')"
      ]
     },
     "execution_count": 79,
     "metadata": {},
     "output_type": "execute_result"
    }
   ],
   "source": [
    "model.to('cpu')\n",
    "best_model_path = f'{model_path_prefix}{best_epoch}epoch.pt'\n",
    "print(best_model_path)\n",
    "best_model = M18(config=model_config,\n",
    "           n_input=x_train[0].shape[0], n_output=len(labels))\n",
    "best_model.load_state_dict(torch.load(best_model_path))\n",
    "best_model.to(device)\n",
    "\n",
    "metrics_best, confusion_matrix_best = report_metrics(\n",
    "    best_model, labels=labels, device=device)\n",
    "best_model.to('cpu')\n",
    "pprint(metrics_best.compute())\n",
    "confusion_matrix_best.compute()"
   ]
  },
  {
   "cell_type": "code",
   "execution_count": 80,
   "id": "a7cbb452-0145-4e87-b86c-b0af3412b8d0",
   "metadata": {
    "scrolled": true
   },
   "outputs": [
    {
     "name": "stderr",
     "output_type": "stream",
     "text": [
      "  0%|                                                            | 0.0032679738562091504/200 [00:00<4:12:34, 75.77s/it]"
     ]
    },
    {
     "name": "stdout",
     "output_type": "stream",
     "text": [
      "Train Epoch: 101 [0/3920 (0%)]\tLoss: 0.000005\n",
      "Mem before-during-after: 40884736 44239360 47374336\n"
     ]
    },
    {
     "name": "stderr",
     "output_type": "stream",
     "text": [
      "  0%|                                                               | 0.1339869281045752/200 [00:10<4:16:36, 77.03s/it]"
     ]
    },
    {
     "name": "stdout",
     "output_type": "stream",
     "text": [
      "Train Epoch: 101 [640/3920 (16%)]\tLoss: 0.020947\n",
      "Mem before-during-after: 47374336 50487296 47374336\n"
     ]
    },
    {
     "name": "stderr",
     "output_type": "stream",
     "text": [
      "  0%|                                                              | 0.26470588235294074/200 [00:19<4:11:17, 75.49s/it]"
     ]
    },
    {
     "name": "stdout",
     "output_type": "stream",
     "text": [
      "Train Epoch: 101 [1280/3920 (33%)]\tLoss: 0.004280\n",
      "Mem before-during-after: 47374336 49815552 47374336\n"
     ]
    },
    {
     "name": "stderr",
     "output_type": "stream",
     "text": [
      "  0%|                                                               | 0.3954248366013063/200 [00:29<4:10:20, 75.25s/it]"
     ]
    },
    {
     "name": "stdout",
     "output_type": "stream",
     "text": [
      "Train Epoch: 101 [1920/3920 (49%)]\tLoss: 0.197312\n",
      "Mem before-during-after: 47374336 50550272 47374336\n"
     ]
    },
    {
     "name": "stderr",
     "output_type": "stream",
     "text": [
      "  0%|▏                                                              | 0.5261437908496719/200 [00:39<4:12:20, 75.90s/it]"
     ]
    },
    {
     "name": "stdout",
     "output_type": "stream",
     "text": [
      "Train Epoch: 101 [2560/3920 (65%)]\tLoss: 0.000766\n",
      "Mem before-during-after: 47374336 49973248 47374336\n"
     ]
    },
    {
     "name": "stderr",
     "output_type": "stream",
     "text": [
      "  0%|▏                                                              | 0.6568627450980374/200 [00:49<4:10:40, 75.45s/it]"
     ]
    },
    {
     "name": "stdout",
     "output_type": "stream",
     "text": [
      "Train Epoch: 101 [3200/3920 (82%)]\tLoss: 0.014271\n",
      "Mem before-during-after: 47374336 50642432 47374336\n"
     ]
    },
    {
     "name": "stderr",
     "output_type": "stream",
     "text": [
      "  0%|▎                                                               | 0.787581699346403/200 [00:59<4:09:58, 75.29s/it]"
     ]
    },
    {
     "name": "stdout",
     "output_type": "stream",
     "text": [
      "Train Epoch: 101 [3840/3920 (98%)]\tLoss: 0.122115\n",
      "Mem before-during-after: 47374336 49795072 47374336\n"
     ]
    },
    {
     "name": "stderr",
     "output_type": "stream",
     "text": [
      "  0%|▎                                                               | 0.999999999999997/200 [01:15<4:06:07, 74.21s/it]"
     ]
    },
    {
     "name": "stdout",
     "output_type": "stream",
     "text": [
      "\n",
      "Test Epoch: 101\tAccuracy: 626/976 (64%)\n",
      "\n"
     ]
    },
    {
     "name": "stderr",
     "output_type": "stream",
     "text": [
      "  1%|▎                                                              | 1.0032679738562063/200 [01:15<4:07:33, 74.64s/it]"
     ]
    },
    {
     "name": "stdout",
     "output_type": "stream",
     "text": [
      "Train Epoch: 102 [0/3920 (0%)]\tLoss: 0.191266\n",
      "Mem before-during-after: 47373312 49657856 47374336\n"
     ]
    },
    {
     "name": "stderr",
     "output_type": "stream",
     "text": [
      "  1%|▎                                                              | 1.1339869281045718/200 [01:25<4:10:04, 75.45s/it]"
     ]
    },
    {
     "name": "stdout",
     "output_type": "stream",
     "text": [
      "Train Epoch: 102 [640/3920 (16%)]\tLoss: 0.000148\n",
      "Mem before-during-after: 47374336 50781696 47374336\n"
     ]
    },
    {
     "name": "stderr",
     "output_type": "stream",
     "text": [
      "  1%|▍                                                              | 1.2647058823529373/200 [01:35<4:10:31, 75.63s/it]"
     ]
    },
    {
     "name": "stdout",
     "output_type": "stream",
     "text": [
      "Train Epoch: 102 [1280/3920 (33%)]\tLoss: 0.030246\n",
      "Mem before-during-after: 47374336 50781696 47374336\n"
     ]
    },
    {
     "name": "stderr",
     "output_type": "stream",
     "text": [
      "  1%|▍                                                               | 1.395424836601303/200 [01:45<4:09:19, 75.32s/it]"
     ]
    },
    {
     "name": "stdout",
     "output_type": "stream",
     "text": [
      "Train Epoch: 102 [1920/3920 (49%)]\tLoss: 0.000125\n",
      "Mem before-during-after: 47374336 50812416 47374336\n"
     ]
    },
    {
     "name": "stderr",
     "output_type": "stream",
     "text": [
      "  1%|▍                                                              | 1.5261437908496684/200 [01:54<4:08:03, 74.99s/it]"
     ]
    },
    {
     "name": "stdout",
     "output_type": "stream",
     "text": [
      "Train Epoch: 102 [2560/3920 (65%)]\tLoss: 0.003253\n",
      "Mem before-during-after: 47374336 50920960 47374336\n"
     ]
    },
    {
     "name": "stderr",
     "output_type": "stream",
     "text": [
      "  1%|▌                                                               | 1.656862745098034/200 [02:04<4:08:31, 75.18s/it]"
     ]
    },
    {
     "name": "stdout",
     "output_type": "stream",
     "text": [
      "Train Epoch: 102 [3200/3920 (82%)]\tLoss: 0.628556\n",
      "Mem before-during-after: 47374336 50642432 47374336\n"
     ]
    },
    {
     "name": "stderr",
     "output_type": "stream",
     "text": [
      "  1%|▌                                                              | 1.7875816993463995/200 [02:14<4:08:38, 75.26s/it]"
     ]
    },
    {
     "name": "stdout",
     "output_type": "stream",
     "text": [
      "Train Epoch: 102 [3840/3920 (98%)]\tLoss: 0.155522\n",
      "Mem before-during-after: 47374336 50519552 47374336\n"
     ]
    },
    {
     "name": "stderr",
     "output_type": "stream",
     "text": [
      "  1%|▋                                                              | 1.9999999999999936/200 [02:30<4:04:16, 74.02s/it]"
     ]
    },
    {
     "name": "stdout",
     "output_type": "stream",
     "text": [
      "\n",
      "Test Epoch: 102\tAccuracy: 630/976 (64%)\n",
      "\n"
     ]
    },
    {
     "name": "stderr",
     "output_type": "stream",
     "text": [
      "  1%|▋                                                               | 2.003267973856203/200 [02:30<4:05:27, 74.38s/it]"
     ]
    },
    {
     "name": "stdout",
     "output_type": "stream",
     "text": [
      "Train Epoch: 103 [0/3920 (0%)]\tLoss: 0.006958\n",
      "Mem before-during-after: 47373312 49856512 47374336\n"
     ]
    },
    {
     "name": "stderr",
     "output_type": "stream",
     "text": [
      "  1%|▋                                                              | 2.1339869281045685/200 [02:40<4:07:12, 74.96s/it]"
     ]
    },
    {
     "name": "stdout",
     "output_type": "stream",
     "text": [
      "Train Epoch: 103 [640/3920 (16%)]\tLoss: 0.000021\n",
      "Mem before-during-after: 47374336 50890240 47374336\n"
     ]
    },
    {
     "name": "stderr",
     "output_type": "stream",
     "text": [
      "  1%|▋                                                               | 2.264705882352934/200 [02:50<4:07:05, 74.98s/it]"
     ]
    },
    {
     "name": "stdout",
     "output_type": "stream",
     "text": [
      "Train Epoch: 103 [1280/3920 (33%)]\tLoss: 0.024436\n",
      "Mem before-during-after: 47374336 49754112 47374336\n"
     ]
    },
    {
     "name": "stderr",
     "output_type": "stream",
     "text": [
      "  1%|▊                                                              | 2.3954248366012996/200 [03:00<4:07:53, 75.27s/it]"
     ]
    },
    {
     "name": "stdout",
     "output_type": "stream",
     "text": [
      "Train Epoch: 103 [1920/3920 (49%)]\tLoss: 0.003716\n",
      "Mem before-during-after: 47374336 49911808 47374336\n"
     ]
    },
    {
     "name": "stderr",
     "output_type": "stream",
     "text": [
      "  1%|▊                                                               | 2.526143790849665/200 [03:09<4:06:46, 74.98s/it]"
     ]
    },
    {
     "name": "stdout",
     "output_type": "stream",
     "text": [
      "Train Epoch: 103 [2560/3920 (65%)]\tLoss: 0.000285\n",
      "Mem before-during-after: 47374336 49952768 47374336\n"
     ]
    },
    {
     "name": "stderr",
     "output_type": "stream",
     "text": [
      "  1%|▊                                                              | 2.6568627450980307/200 [03:19<4:07:48, 75.34s/it]"
     ]
    },
    {
     "name": "stdout",
     "output_type": "stream",
     "text": [
      "Train Epoch: 103 [3200/3920 (82%)]\tLoss: 0.640705\n",
      "Mem before-during-after: 47374336 49836032 47374336\n"
     ]
    },
    {
     "name": "stderr",
     "output_type": "stream",
     "text": [
      "  1%|▉                                                               | 2.787581699346396/200 [03:29<4:08:27, 75.59s/it]"
     ]
    },
    {
     "name": "stdout",
     "output_type": "stream",
     "text": [
      "Train Epoch: 103 [3840/3920 (98%)]\tLoss: 0.001897\n",
      "Mem before-during-after: 47374336 50720256 47374336\n"
     ]
    },
    {
     "name": "stderr",
     "output_type": "stream",
     "text": [
      "  1%|▉                                                              | 2.9999999999999902/200 [03:45<4:03:58, 74.31s/it]"
     ]
    },
    {
     "name": "stdout",
     "output_type": "stream",
     "text": [
      "\n",
      "Test Epoch: 103\tAccuracy: 633/976 (65%)\n",
      "\n"
     ]
    },
    {
     "name": "stderr",
     "output_type": "stream",
     "text": [
      "  2%|▉                                                              | 3.0032679738561994/200 [03:45<4:05:30, 74.78s/it]"
     ]
    },
    {
     "name": "stdout",
     "output_type": "stream",
     "text": [
      "Train Epoch: 104 [0/3920 (0%)]\tLoss: 0.001136\n",
      "Mem before-during-after: 47373312 49911808 47374336\n"
     ]
    },
    {
     "name": "stderr",
     "output_type": "stream",
     "text": [
      "  2%|█                                                               | 3.133986928104565/200 [03:55<4:07:46, 75.51s/it]"
     ]
    },
    {
     "name": "stdout",
     "output_type": "stream",
     "text": [
      "Train Epoch: 104 [640/3920 (16%)]\tLoss: 0.005434\n",
      "Mem before-during-after: 47374336 50580992 47374336\n"
     ]
    },
    {
     "name": "stderr",
     "output_type": "stream",
     "text": [
      "  2%|█                                                              | 3.2647058823529305/200 [04:05<4:07:15, 75.41s/it]"
     ]
    },
    {
     "name": "stdout",
     "output_type": "stream",
     "text": [
      "Train Epoch: 104 [1280/3920 (33%)]\tLoss: 0.008528\n",
      "Mem before-during-after: 47374336 50890240 47374336\n"
     ]
    },
    {
     "name": "stderr",
     "output_type": "stream",
     "text": [
      "  2%|█                                                               | 3.395424836601296/200 [04:15<4:07:18, 75.47s/it]"
     ]
    },
    {
     "name": "stdout",
     "output_type": "stream",
     "text": [
      "Train Epoch: 104 [1920/3920 (49%)]\tLoss: 1.211492\n",
      "Mem before-during-after: 47374336 51056640 47374336\n"
     ]
    },
    {
     "name": "stderr",
     "output_type": "stream",
     "text": [
      "  2%|█                                                              | 3.5261437908496616/200 [04:25<4:09:43, 76.26s/it]"
     ]
    },
    {
     "name": "stdout",
     "output_type": "stream",
     "text": [
      "Train Epoch: 104 [2560/3920 (65%)]\tLoss: 0.103047\n",
      "Mem before-during-after: 47374336 50487296 47374336\n"
     ]
    },
    {
     "name": "stderr",
     "output_type": "stream",
     "text": [
      "  2%|█▏                                                              | 3.656862745098027/200 [04:35<4:07:05, 75.51s/it]"
     ]
    },
    {
     "name": "stdout",
     "output_type": "stream",
     "text": [
      "Train Epoch: 104 [3200/3920 (82%)]\tLoss: 0.000005\n",
      "Mem before-during-after: 47374336 50781696 47374336\n"
     ]
    },
    {
     "name": "stderr",
     "output_type": "stream",
     "text": [
      "  2%|█▏                                                             | 3.7875816993463927/200 [04:44<4:08:10, 75.89s/it]"
     ]
    },
    {
     "name": "stdout",
     "output_type": "stream",
     "text": [
      "Train Epoch: 104 [3840/3920 (98%)]\tLoss: 0.000603\n",
      "Mem before-during-after: 47374336 50919424 47374336\n"
     ]
    },
    {
     "name": "stderr",
     "output_type": "stream",
     "text": [
      "  2%|█▎                                                             | 3.9999999999999867/200 [05:00<4:03:13, 74.46s/it]"
     ]
    },
    {
     "name": "stdout",
     "output_type": "stream",
     "text": [
      "\n",
      "Test Epoch: 104\tAccuracy: 642/976 (66%)\n",
      "\n"
     ]
    },
    {
     "name": "stderr",
     "output_type": "stream",
     "text": [
      "  2%|█▎                                                              | 4.003267973856196/200 [05:01<4:04:54, 74.97s/it]"
     ]
    },
    {
     "name": "stdout",
     "output_type": "stream",
     "text": [
      "Train Epoch: 105 [0/3920 (0%)]\tLoss: 0.000303\n",
      "Mem before-during-after: 47373312 50466816 47374336\n"
     ]
    },
    {
     "name": "stderr",
     "output_type": "stream",
     "text": [
      "  2%|█▎                                                              | 4.133986928104561/200 [05:11<4:07:50, 75.92s/it]"
     ]
    },
    {
     "name": "stdout",
     "output_type": "stream",
     "text": [
      "Train Epoch: 105 [640/3920 (16%)]\tLoss: 0.000013\n",
      "Mem before-during-after: 47374336 50689536 47374336\n"
     ]
    },
    {
     "name": "stderr",
     "output_type": "stream",
     "text": [
      "  2%|█▎                                                              | 4.264705882352927/200 [05:20<4:06:23, 75.53s/it]"
     ]
    },
    {
     "name": "stdout",
     "output_type": "stream",
     "text": [
      "Train Epoch: 105 [1280/3920 (33%)]\tLoss: 0.002829\n",
      "Mem before-during-after: 47374336 50642432 47374336\n"
     ]
    },
    {
     "name": "stderr",
     "output_type": "stream",
     "text": [
      "  2%|█▍                                                             | 4.3954248366012925/200 [05:30<4:06:04, 75.48s/it]"
     ]
    },
    {
     "name": "stdout",
     "output_type": "stream",
     "text": [
      "Train Epoch: 105 [1920/3920 (49%)]\tLoss: 0.294394\n",
      "Mem before-during-after: 47374336 50781696 47374336\n"
     ]
    },
    {
     "name": "stderr",
     "output_type": "stream",
     "text": [
      "  2%|█▍                                                              | 4.526143790849658/200 [05:40<4:06:27, 75.65s/it]"
     ]
    },
    {
     "name": "stdout",
     "output_type": "stream",
     "text": [
      "Train Epoch: 105 [2560/3920 (65%)]\tLoss: 0.002993\n",
      "Mem before-during-after: 47374336 50519552 47374336\n"
     ]
    },
    {
     "name": "stderr",
     "output_type": "stream",
     "text": [
      "  2%|█▍                                                              | 4.656862745098024/200 [05:50<4:06:35, 75.74s/it]"
     ]
    },
    {
     "name": "stdout",
     "output_type": "stream",
     "text": [
      "Train Epoch: 105 [3200/3920 (82%)]\tLoss: 0.003426\n",
      "Mem before-during-after: 47374336 50488832 47374336\n"
     ]
    },
    {
     "name": "stderr",
     "output_type": "stream",
     "text": [
      "  2%|█▌                                                              | 4.787581699346389/200 [06:00<4:07:40, 76.13s/it]"
     ]
    },
    {
     "name": "stdout",
     "output_type": "stream",
     "text": [
      "Train Epoch: 105 [3840/3920 (98%)]\tLoss: 0.002638\n",
      "Mem before-during-after: 47374336 50890240 47374336\n"
     ]
    },
    {
     "name": "stderr",
     "output_type": "stream",
     "text": [
      "  2%|█▌                                                              | 4.999999999999983/200 [06:16<4:00:57, 74.14s/it]"
     ]
    },
    {
     "name": "stdout",
     "output_type": "stream",
     "text": [
      "\n",
      "Test Epoch: 105\tAccuracy: 638/976 (65%)\n",
      "\n"
     ]
    },
    {
     "name": "stderr",
     "output_type": "stream",
     "text": [
      "  3%|█▌                                                              | 5.003267973856192/200 [06:16<4:02:20, 74.57s/it]"
     ]
    },
    {
     "name": "stdout",
     "output_type": "stream",
     "text": [
      "Train Epoch: 106 [0/3920 (0%)]\tLoss: 0.000408\n",
      "Mem before-during-after: 47373312 50214400 47374336\n"
     ]
    },
    {
     "name": "stderr",
     "output_type": "stream",
     "text": [
      "  3%|█▋                                                              | 5.133986928104558/200 [06:26<4:04:26, 75.27s/it]"
     ]
    },
    {
     "name": "stdout",
     "output_type": "stream",
     "text": [
      "Train Epoch: 106 [640/3920 (16%)]\tLoss: 0.891155\n",
      "Mem before-during-after: 47374336 49952768 47374336\n"
     ]
    },
    {
     "name": "stderr",
     "output_type": "stream",
     "text": [
      "  3%|█▋                                                              | 5.264705882352923/200 [06:36<4:01:49, 74.51s/it]"
     ]
    },
    {
     "name": "stdout",
     "output_type": "stream",
     "text": [
      "Train Epoch: 106 [1280/3920 (33%)]\tLoss: 0.016518\n",
      "Mem before-during-after: 47374336 50843136 47374336\n"
     ]
    },
    {
     "name": "stderr",
     "output_type": "stream",
     "text": [
      "  3%|█▋                                                              | 5.395424836601289/200 [06:46<4:16:39, 79.13s/it]"
     ]
    },
    {
     "name": "stdout",
     "output_type": "stream",
     "text": [
      "Train Epoch: 106 [1920/3920 (49%)]\tLoss: 0.608440\n",
      "Mem before-during-after: 47374336 49973248 47374336\n"
     ]
    },
    {
     "name": "stderr",
     "output_type": "stream",
     "text": [
      "  3%|█▋                                                             | 5.5261437908496545/200 [06:56<4:08:25, 76.64s/it]"
     ]
    },
    {
     "name": "stdout",
     "output_type": "stream",
     "text": [
      "Train Epoch: 106 [2560/3920 (65%)]\tLoss: 0.000410\n",
      "Mem before-during-after: 47374336 50214400 47374336\n"
     ]
    },
    {
     "name": "stderr",
     "output_type": "stream",
     "text": [
      "  3%|█▊                                                               | 5.65686274509802/200 [07:06<4:08:52, 76.84s/it]"
     ]
    },
    {
     "name": "stdout",
     "output_type": "stream",
     "text": [
      "Train Epoch: 106 [3200/3920 (82%)]\tLoss: 0.030997\n",
      "Mem before-during-after: 47374336 50429440 47374336\n"
     ]
    },
    {
     "name": "stderr",
     "output_type": "stream",
     "text": [
      "  3%|█▊                                                             | 5.7875816993463856/200 [07:16<4:03:37, 75.27s/it]"
     ]
    },
    {
     "name": "stdout",
     "output_type": "stream",
     "text": [
      "Train Epoch: 106 [3840/3920 (98%)]\tLoss: 0.178925\n",
      "Mem before-during-after: 47374336 50425856 47374336\n"
     ]
    },
    {
     "name": "stderr",
     "output_type": "stream",
     "text": [
      "  3%|█▉                                                               | 5.99999999999998/200 [07:32<3:57:56, 73.59s/it]"
     ]
    },
    {
     "name": "stdout",
     "output_type": "stream",
     "text": [
      "\n",
      "Test Epoch: 106\tAccuracy: 627/976 (64%)\n",
      "\n"
     ]
    },
    {
     "name": "stderr",
     "output_type": "stream",
     "text": [
      "  3%|█▉                                                              | 6.003267973856189/200 [07:32<3:58:57, 73.91s/it]"
     ]
    },
    {
     "name": "stdout",
     "output_type": "stream",
     "text": [
      "Train Epoch: 107 [0/3920 (0%)]\tLoss: 0.000937\n",
      "Mem before-during-after: 47373312 50750976 47374336\n"
     ]
    },
    {
     "name": "stderr",
     "output_type": "stream",
     "text": [
      "  3%|█▉                                                              | 6.133986928104554/200 [07:42<4:01:23, 74.71s/it]"
     ]
    },
    {
     "name": "stdout",
     "output_type": "stream",
     "text": [
      "Train Epoch: 107 [640/3920 (16%)]\tLoss: 0.357188\n",
      "Mem before-during-after: 47374336 50550272 47374336\n"
     ]
    },
    {
     "name": "stderr",
     "output_type": "stream",
     "text": [
      "  3%|██                                                               | 6.26470588235292/200 [07:52<4:05:30, 76.03s/it]"
     ]
    },
    {
     "name": "stdout",
     "output_type": "stream",
     "text": [
      "Train Epoch: 107 [1280/3920 (33%)]\tLoss: 0.000091\n",
      "Mem before-during-after: 47374336 50550272 47374336\n"
     ]
    },
    {
     "name": "stderr",
     "output_type": "stream",
     "text": [
      "  3%|██                                                              | 6.395424836601285/200 [08:02<4:12:32, 78.27s/it]"
     ]
    },
    {
     "name": "stdout",
     "output_type": "stream",
     "text": [
      "Train Epoch: 107 [1920/3920 (49%)]\tLoss: 0.000008\n",
      "Mem before-during-after: 47374336 50519552 47374336\n"
     ]
    },
    {
     "name": "stderr",
     "output_type": "stream",
     "text": [
      "  3%|██                                                              | 6.526143790849651/200 [08:12<4:04:23, 75.79s/it]"
     ]
    },
    {
     "name": "stdout",
     "output_type": "stream",
     "text": [
      "Train Epoch: 107 [2560/3920 (65%)]\tLoss: 0.000006\n",
      "Mem before-during-after: 47374336 50214400 47374336\n"
     ]
    },
    {
     "name": "stderr",
     "output_type": "stream",
     "text": [
      "  3%|██                                                             | 6.6568627450980165/200 [08:21<4:03:53, 75.69s/it]"
     ]
    },
    {
     "name": "stdout",
     "output_type": "stream",
     "text": [
      "Train Epoch: 107 [3200/3920 (82%)]\tLoss: 0.011322\n",
      "Mem before-during-after: 47374336 49774592 47374336\n"
     ]
    },
    {
     "name": "stderr",
     "output_type": "stream",
     "text": [
      "  3%|██▏                                                             | 6.787581699346382/200 [08:31<4:00:57, 74.83s/it]"
     ]
    },
    {
     "name": "stdout",
     "output_type": "stream",
     "text": [
      "Train Epoch: 107 [3840/3920 (98%)]\tLoss: 0.201117\n",
      "Mem before-during-after: 47374336 49836032 47374336\n"
     ]
    },
    {
     "name": "stderr",
     "output_type": "stream",
     "text": [
      "  3%|██▏                                                             | 6.999999999999976/200 [08:47<4:04:31, 76.02s/it]"
     ]
    },
    {
     "name": "stdout",
     "output_type": "stream",
     "text": [
      "\n",
      "Test Epoch: 107\tAccuracy: 634/976 (65%)\n",
      "\n"
     ]
    },
    {
     "name": "stderr",
     "output_type": "stream",
     "text": [
      "  4%|██▏                                                             | 7.003267973856185/200 [08:48<4:04:56, 76.15s/it]"
     ]
    },
    {
     "name": "stdout",
     "output_type": "stream",
     "text": [
      "Train Epoch: 108 [0/3920 (0%)]\tLoss: 0.014837\n",
      "Mem before-during-after: 47373312 49678336 47374336\n"
     ]
    },
    {
     "name": "stderr",
     "output_type": "stream",
     "text": [
      "  4%|██▎                                                             | 7.133986928104551/200 [08:57<3:59:30, 74.51s/it]"
     ]
    },
    {
     "name": "stdout",
     "output_type": "stream",
     "text": [
      "Train Epoch: 108 [640/3920 (16%)]\tLoss: 0.195175\n",
      "Mem before-during-after: 47374336 49911808 47374336\n"
     ]
    },
    {
     "name": "stderr",
     "output_type": "stream",
     "text": [
      "  4%|██▎                                                             | 7.264705882352916/200 [09:07<3:59:29, 74.55s/it]"
     ]
    },
    {
     "name": "stdout",
     "output_type": "stream",
     "text": [
      "Train Epoch: 108 [1280/3920 (33%)]\tLoss: 0.060036\n",
      "Mem before-during-after: 47374336 49973248 47374336\n"
     ]
    },
    {
     "name": "stderr",
     "output_type": "stream",
     "text": [
      "  4%|██▎                                                             | 7.395424836601282/200 [09:17<4:02:23, 75.51s/it]"
     ]
    },
    {
     "name": "stdout",
     "output_type": "stream",
     "text": [
      "Train Epoch: 108 [1920/3920 (49%)]\tLoss: 0.021347\n",
      "Mem before-during-after: 47374336 50425856 47374336\n"
     ]
    },
    {
     "name": "stderr",
     "output_type": "stream",
     "text": [
      "  4%|██▍                                                             | 7.526143790849647/200 [09:27<4:05:49, 76.63s/it]"
     ]
    },
    {
     "name": "stdout",
     "output_type": "stream",
     "text": [
      "Train Epoch: 108 [2560/3920 (65%)]\tLoss: 0.000328\n",
      "Mem before-during-after: 47374336 50519552 47374336\n"
     ]
    },
    {
     "name": "stderr",
     "output_type": "stream",
     "text": [
      "  4%|██▍                                                             | 7.656862745098013/200 [09:37<4:04:11, 76.17s/it]"
     ]
    },
    {
     "name": "stdout",
     "output_type": "stream",
     "text": [
      "Train Epoch: 108 [3200/3920 (82%)]\tLoss: 0.023243\n",
      "Mem before-during-after: 47374336 50441728 47374336\n"
     ]
    },
    {
     "name": "stderr",
     "output_type": "stream",
     "text": [
      "  4%|██▍                                                            | 7.7875816993463784/200 [09:47<4:03:20, 75.96s/it]"
     ]
    },
    {
     "name": "stdout",
     "output_type": "stream",
     "text": [
      "Train Epoch: 108 [3840/3920 (98%)]\tLoss: 0.003266\n",
      "Mem before-during-after: 47374336 50890240 47374336\n"
     ]
    },
    {
     "name": "stderr",
     "output_type": "stream",
     "text": [
      "  4%|██▌                                                            | 7.9999999999999725/200 [10:03<4:01:03, 75.33s/it]"
     ]
    },
    {
     "name": "stdout",
     "output_type": "stream",
     "text": [
      "\n",
      "Test Epoch: 108\tAccuracy: 640/976 (65%)\n",
      "\n"
     ]
    },
    {
     "name": "stderr",
     "output_type": "stream",
     "text": [
      "  4%|██▌                                                             | 8.003267973856182/200 [10:03<4:02:56, 75.92s/it]"
     ]
    },
    {
     "name": "stdout",
     "output_type": "stream",
     "text": [
      "Train Epoch: 109 [0/3920 (0%)]\tLoss: 0.001315\n",
      "Mem before-during-after: 47373312 49911808 47374336\n"
     ]
    },
    {
     "name": "stderr",
     "output_type": "stream",
     "text": [
      "  4%|██▌                                                             | 8.133986928104548/200 [10:13<4:03:25, 76.12s/it]"
     ]
    },
    {
     "name": "stdout",
     "output_type": "stream",
     "text": [
      "Train Epoch: 109 [640/3920 (16%)]\tLoss: 0.022069\n",
      "Mem before-during-after: 47374336 49815552 47374336\n"
     ]
    },
    {
     "name": "stderr",
     "output_type": "stream",
     "text": [
      "  4%|██▋                                                             | 8.264705882352914/200 [10:23<4:03:54, 76.32s/it]"
     ]
    },
    {
     "name": "stdout",
     "output_type": "stream",
     "text": [
      "Train Epoch: 109 [1280/3920 (33%)]\tLoss: 0.000192\n",
      "Mem before-during-after: 47374336 50843136 47374336\n"
     ]
    },
    {
     "name": "stderr",
     "output_type": "stream",
     "text": [
      "  4%|██▋                                                              | 8.39542483660128/200 [10:33<4:03:44, 76.33s/it]"
     ]
    },
    {
     "name": "stdout",
     "output_type": "stream",
     "text": [
      "Train Epoch: 109 [1920/3920 (49%)]\tLoss: 1.603631\n",
      "Mem before-during-after: 47374336 50611712 47374336\n"
     ]
    },
    {
     "name": "stderr",
     "output_type": "stream",
     "text": [
      "  4%|██▋                                                             | 8.526143790849645/200 [10:43<4:04:08, 76.50s/it]"
     ]
    },
    {
     "name": "stdout",
     "output_type": "stream",
     "text": [
      "Train Epoch: 109 [2560/3920 (65%)]\tLoss: 0.159333\n",
      "Mem before-during-after: 47374336 49532928 47374336\n"
     ]
    },
    {
     "name": "stderr",
     "output_type": "stream",
     "text": [
      "  4%|██▊                                                              | 8.65686274509801/200 [10:53<4:00:41, 75.48s/it]"
     ]
    },
    {
     "name": "stdout",
     "output_type": "stream",
     "text": [
      "Train Epoch: 109 [3200/3920 (82%)]\tLoss: 0.023891\n",
      "Mem before-during-after: 47374336 50890240 47374336\n"
     ]
    },
    {
     "name": "stderr",
     "output_type": "stream",
     "text": [
      "  4%|██▊                                                             | 8.787581699346376/200 [11:03<4:02:14, 76.01s/it]"
     ]
    },
    {
     "name": "stdout",
     "output_type": "stream",
     "text": [
      "Train Epoch: 109 [3840/3920 (98%)]\tLoss: 1.219113\n",
      "Mem before-during-after: 47374336 50425856 47374336\n"
     ]
    },
    {
     "name": "stderr",
     "output_type": "stream",
     "text": [
      "  4%|██▉                                                              | 8.99999999999997/200 [11:19<3:55:09, 73.87s/it]"
     ]
    },
    {
     "name": "stdout",
     "output_type": "stream",
     "text": [
      "\n",
      "Test Epoch: 109\tAccuracy: 637/976 (65%)\n",
      "\n"
     ]
    },
    {
     "name": "stderr",
     "output_type": "stream",
     "text": [
      "  5%|██▉                                                             | 9.003267973856179/200 [11:19<3:56:15, 74.22s/it]"
     ]
    },
    {
     "name": "stdout",
     "output_type": "stream",
     "text": [
      "Train Epoch: 110 [0/3920 (0%)]\tLoss: 0.486652\n",
      "Mem before-during-after: 47373312 49815552 47374336\n"
     ]
    },
    {
     "name": "stderr",
     "output_type": "stream",
     "text": [
      "  5%|██▉                                                             | 9.133986928104544/200 [11:29<3:58:27, 74.96s/it]"
     ]
    },
    {
     "name": "stdout",
     "output_type": "stream",
     "text": [
      "Train Epoch: 110 [640/3920 (16%)]\tLoss: 0.006863\n",
      "Mem before-during-after: 47374336 50441728 47374336\n"
     ]
    },
    {
     "name": "stderr",
     "output_type": "stream",
     "text": [
      "  5%|███                                                              | 9.26470588235291/200 [11:39<3:58:08, 74.91s/it]"
     ]
    },
    {
     "name": "stdout",
     "output_type": "stream",
     "text": [
      "Train Epoch: 110 [1280/3920 (33%)]\tLoss: 0.555027\n",
      "Mem before-during-after: 47374336 50843136 47374336\n"
     ]
    },
    {
     "name": "stderr",
     "output_type": "stream",
     "text": [
      "  5%|███                                                             | 9.395424836601276/200 [11:49<3:59:14, 75.31s/it]"
     ]
    },
    {
     "name": "stdout",
     "output_type": "stream",
     "text": [
      "Train Epoch: 110 [1920/3920 (49%)]\tLoss: 0.169972\n",
      "Mem before-during-after: 47374336 49932288 47374336\n"
     ]
    },
    {
     "name": "stderr",
     "output_type": "stream",
     "text": [
      "  5%|███                                                             | 9.526143790849641/200 [11:58<3:59:06, 75.32s/it]"
     ]
    },
    {
     "name": "stdout",
     "output_type": "stream",
     "text": [
      "Train Epoch: 110 [2560/3920 (65%)]\tLoss: 0.554287\n",
      "Mem before-during-after: 47374336 49678336 47374336\n"
     ]
    },
    {
     "name": "stderr",
     "output_type": "stream",
     "text": [
      "  5%|███                                                             | 9.656862745098007/200 [12:08<4:02:42, 76.51s/it]"
     ]
    },
    {
     "name": "stdout",
     "output_type": "stream",
     "text": [
      "Train Epoch: 110 [3200/3920 (82%)]\tLoss: 0.118795\n",
      "Mem before-during-after: 47374336 50411008 47374336\n"
     ]
    },
    {
     "name": "stderr",
     "output_type": "stream",
     "text": [
      "  5%|███▏                                                            | 9.787581699346372/200 [12:18<4:04:13, 77.04s/it]"
     ]
    },
    {
     "name": "stdout",
     "output_type": "stream",
     "text": [
      "Train Epoch: 110 [3840/3920 (98%)]\tLoss: 0.000031\n",
      "Mem before-during-after: 47374336 49952768 47374336\n"
     ]
    },
    {
     "name": "stderr",
     "output_type": "stream",
     "text": [
      "  5%|███▏                                                            | 9.999999999999966/200 [12:34<3:57:53, 75.12s/it]"
     ]
    },
    {
     "name": "stdout",
     "output_type": "stream",
     "text": [
      "\n",
      "Test Epoch: 110\tAccuracy: 625/976 (64%)\n",
      "\n"
     ]
    },
    {
     "name": "stderr",
     "output_type": "stream",
     "text": [
      "  5%|███▏                                                           | 10.003267973856175/200 [12:35<3:58:54, 75.45s/it]"
     ]
    },
    {
     "name": "stdout",
     "output_type": "stream",
     "text": [
      "Train Epoch: 111 [0/3920 (0%)]\tLoss: 0.735851\n",
      "Mem before-during-after: 47373312 50580992 47374336\n"
     ]
    },
    {
     "name": "stderr",
     "output_type": "stream",
     "text": [
      "  5%|███▏                                                           | 10.133986928104541/200 [12:45<4:05:37, 77.62s/it]"
     ]
    },
    {
     "name": "stdout",
     "output_type": "stream",
     "text": [
      "Train Epoch: 111 [640/3920 (16%)]\tLoss: 0.001983\n",
      "Mem before-during-after: 47374336 50393088 47374336\n"
     ]
    },
    {
     "name": "stderr",
     "output_type": "stream",
     "text": [
      "  5%|███▏                                                           | 10.264705882352906/200 [12:55<3:55:59, 74.63s/it]"
     ]
    },
    {
     "name": "stdout",
     "output_type": "stream",
     "text": [
      "Train Epoch: 111 [1280/3920 (33%)]\tLoss: 0.038689\n",
      "Mem before-during-after: 47374336 49856512 47374336\n"
     ]
    },
    {
     "name": "stderr",
     "output_type": "stream",
     "text": [
      "  5%|███▎                                                           | 10.395424836601272/200 [13:04<3:56:08, 74.73s/it]"
     ]
    },
    {
     "name": "stdout",
     "output_type": "stream",
     "text": [
      "Train Epoch: 111 [1920/3920 (49%)]\tLoss: 0.020925\n",
      "Mem before-during-after: 47374336 49836032 47374336\n"
     ]
    },
    {
     "name": "stderr",
     "output_type": "stream",
     "text": [
      "  5%|███▎                                                           | 10.526143790849638/200 [13:14<4:01:54, 76.61s/it]"
     ]
    },
    {
     "name": "stdout",
     "output_type": "stream",
     "text": [
      "Train Epoch: 111 [2560/3920 (65%)]\tLoss: 0.000064\n",
      "Mem before-during-after: 47374336 49532928 47374336\n"
     ]
    },
    {
     "name": "stderr",
     "output_type": "stream",
     "text": [
      "  5%|███▎                                                           | 10.656862745098003/200 [13:24<3:56:43, 75.02s/it]"
     ]
    },
    {
     "name": "stdout",
     "output_type": "stream",
     "text": [
      "Train Epoch: 111 [3200/3920 (82%)]\tLoss: 0.011352\n",
      "Mem before-during-after: 47374336 49795072 47374336\n"
     ]
    },
    {
     "name": "stderr",
     "output_type": "stream",
     "text": [
      "  5%|███▍                                                           | 10.787581699346369/200 [13:34<3:55:44, 74.75s/it]"
     ]
    },
    {
     "name": "stdout",
     "output_type": "stream",
     "text": [
      "Train Epoch: 111 [3840/3920 (98%)]\tLoss: 0.000003\n",
      "Mem before-during-after: 47374336 50611712 47374336\n"
     ]
    },
    {
     "name": "stderr",
     "output_type": "stream",
     "text": [
      "  5%|███▍                                                           | 10.999999999999963/200 [13:50<3:53:06, 74.00s/it]"
     ]
    },
    {
     "name": "stdout",
     "output_type": "stream",
     "text": [
      "\n",
      "Test Epoch: 111\tAccuracy: 628/976 (64%)\n",
      "\n"
     ]
    },
    {
     "name": "stderr",
     "output_type": "stream",
     "text": [
      "  6%|███▍                                                           | 11.003267973856172/200 [13:50<3:59:18, 75.97s/it]"
     ]
    },
    {
     "name": "stdout",
     "output_type": "stream",
     "text": [
      "Train Epoch: 112 [0/3920 (0%)]\tLoss: 0.027101\n",
      "Mem before-during-after: 47373312 50689536 47374336\n"
     ]
    },
    {
     "name": "stderr",
     "output_type": "stream",
     "text": [
      "  6%|███▌                                                           | 11.133986928104537/200 [14:00<4:00:15, 76.33s/it]"
     ]
    },
    {
     "name": "stdout",
     "output_type": "stream",
     "text": [
      "Train Epoch: 112 [640/3920 (16%)]\tLoss: 0.082184\n",
      "Mem before-during-after: 47374336 49678336 47374336\n"
     ]
    },
    {
     "name": "stderr",
     "output_type": "stream",
     "text": [
      "  6%|███▌                                                           | 11.264705882352903/200 [14:10<4:01:23, 76.74s/it]"
     ]
    },
    {
     "name": "stdout",
     "output_type": "stream",
     "text": [
      "Train Epoch: 112 [1280/3920 (33%)]\tLoss: 0.000360\n",
      "Mem before-during-after: 47374336 49911808 47374336\n"
     ]
    },
    {
     "name": "stderr",
     "output_type": "stream",
     "text": [
      "  6%|███▌                                                           | 11.395424836601268/200 [14:20<3:55:26, 74.90s/it]"
     ]
    },
    {
     "name": "stdout",
     "output_type": "stream",
     "text": [
      "Train Epoch: 112 [1920/3920 (49%)]\tLoss: 0.000061\n",
      "Mem before-during-after: 47374336 50488832 47374336\n"
     ]
    },
    {
     "name": "stderr",
     "output_type": "stream",
     "text": [
      "  6%|███▋                                                           | 11.526143790849634/200 [14:30<3:57:28, 75.60s/it]"
     ]
    },
    {
     "name": "stdout",
     "output_type": "stream",
     "text": [
      "Train Epoch: 112 [2560/3920 (65%)]\tLoss: 0.000042\n",
      "Mem before-during-after: 47374336 50843136 47374336\n"
     ]
    },
    {
     "name": "stderr",
     "output_type": "stream",
     "text": [
      "  6%|███▊                                                              | 11.656862745098/200 [14:39<3:55:04, 74.89s/it]"
     ]
    },
    {
     "name": "stdout",
     "output_type": "stream",
     "text": [
      "Train Epoch: 112 [3200/3920 (82%)]\tLoss: 0.000340\n",
      "Mem before-during-after: 47374336 49973248 47374336\n"
     ]
    },
    {
     "name": "stderr",
     "output_type": "stream",
     "text": [
      "  6%|███▋                                                           | 11.787581699346365/200 [14:49<3:53:19, 74.38s/it]"
     ]
    },
    {
     "name": "stdout",
     "output_type": "stream",
     "text": [
      "Train Epoch: 112 [3840/3920 (98%)]\tLoss: 0.203058\n",
      "Mem before-during-after: 47374336 49856512 47374336\n"
     ]
    },
    {
     "name": "stderr",
     "output_type": "stream",
     "text": [
      "  6%|███▊                                                            | 11.99999999999996/200 [15:05<3:49:46, 73.33s/it]"
     ]
    },
    {
     "name": "stdout",
     "output_type": "stream",
     "text": [
      "\n",
      "Test Epoch: 112\tAccuracy: 615/976 (63%)\n",
      "\n"
     ]
    },
    {
     "name": "stderr",
     "output_type": "stream",
     "text": [
      "  6%|███▊                                                           | 12.003267973856168/200 [15:05<3:50:57, 73.71s/it]"
     ]
    },
    {
     "name": "stdout",
     "output_type": "stream",
     "text": [
      "Train Epoch: 113 [0/3920 (0%)]\tLoss: 0.025040\n",
      "Mem before-during-after: 47373312 49856512 47374336\n"
     ]
    },
    {
     "name": "stderr",
     "output_type": "stream",
     "text": [
      "  6%|███▊                                                           | 12.133986928104534/200 [15:15<3:54:24, 74.86s/it]"
     ]
    },
    {
     "name": "stdout",
     "output_type": "stream",
     "text": [
      "Train Epoch: 113 [640/3920 (16%)]\tLoss: 0.004577\n",
      "Mem before-during-after: 47374336 49795072 47374336\n"
     ]
    },
    {
     "name": "stderr",
     "output_type": "stream",
     "text": [
      "  6%|███▉                                                             | 12.2647058823529/200 [15:25<3:54:16, 74.87s/it]"
     ]
    },
    {
     "name": "stdout",
     "output_type": "stream",
     "text": [
      "Train Epoch: 113 [1280/3920 (33%)]\tLoss: 0.039009\n",
      "Mem before-during-after: 47374336 50890240 47374336\n"
     ]
    },
    {
     "name": "stderr",
     "output_type": "stream",
     "text": [
      "  6%|███▉                                                           | 12.395424836601265/200 [15:35<4:00:12, 76.82s/it]"
     ]
    },
    {
     "name": "stdout",
     "output_type": "stream",
     "text": [
      "Train Epoch: 113 [1920/3920 (49%)]\tLoss: 0.000126\n",
      "Mem before-during-after: 47374336 50781696 47374336\n"
     ]
    },
    {
     "name": "stderr",
     "output_type": "stream",
     "text": [
      "  6%|████                                                            | 12.52614379084963/200 [15:45<3:52:22, 74.37s/it]"
     ]
    },
    {
     "name": "stdout",
     "output_type": "stream",
     "text": [
      "Train Epoch: 113 [2560/3920 (65%)]\tLoss: 0.079840\n",
      "Mem before-during-after: 47374336 50488832 47374336\n"
     ]
    },
    {
     "name": "stderr",
     "output_type": "stream",
     "text": [
      "  6%|███▉                                                           | 12.656862745097996/200 [15:55<4:12:03, 80.72s/it]"
     ]
    },
    {
     "name": "stdout",
     "output_type": "stream",
     "text": [
      "Train Epoch: 113 [3200/3920 (82%)]\tLoss: 0.031712\n",
      "Mem before-during-after: 47374336 49973248 47374336\n"
     ]
    },
    {
     "name": "stderr",
     "output_type": "stream",
     "text": [
      "  6%|████                                                           | 12.787581699346362/200 [16:05<3:55:00, 75.32s/it]"
     ]
    },
    {
     "name": "stdout",
     "output_type": "stream",
     "text": [
      "Train Epoch: 113 [3840/3920 (98%)]\tLoss: 0.407051\n",
      "Mem before-during-after: 47374336 51015680 47374336\n"
     ]
    },
    {
     "name": "stderr",
     "output_type": "stream",
     "text": [
      "  6%|████                                                           | 12.849673202614335/200 [16:10<3:52:56, 74.68s/it]Exception ignored in: <bound method IPythonKernel._clean_thread_parent_frames of <ipykernel.ipkernel.IPythonKernel object at 0x7f47cab07af0>>\n",
      "Traceback (most recent call last):\n",
      "  File \"/home/bunny/anaconda3/envs/audio/lib/python3.9/site-packages/ipykernel/ipkernel.py\", line 770, in _clean_thread_parent_frames\n",
      "    def _clean_thread_parent_frames(\n",
      "KeyboardInterrupt: \n",
      "Exception ignored in: <bound method IPythonKernel._clean_thread_parent_frames of <ipykernel.ipkernel.IPythonKernel object at 0x7f47cab07af0>>\n",
      "Traceback (most recent call last):\n",
      "  File \"/home/bunny/anaconda3/envs/audio/lib/python3.9/site-packages/ipykernel/ipkernel.py\", line 770, in _clean_thread_parent_frames\n",
      "    def _clean_thread_parent_frames(\n",
      "KeyboardInterrupt: \n",
      "  6%|████                                                           | 12.852941176470544/200 [16:10<3:55:33, 75.52s/it]Exception ignored in: <bound method IPythonKernel._clean_thread_parent_frames of <ipykernel.ipkernel.IPythonKernel object at 0x7f47cab07af0>>\n",
      "Traceback (most recent call last):\n",
      "  File \"/home/bunny/anaconda3/envs/audio/lib/python3.9/site-packages/ipykernel/ipkernel.py\", line 770, in _clean_thread_parent_frames\n",
      "    def _clean_thread_parent_frames(\n",
      "KeyboardInterrupt: \n",
      "  6%|████                                                           | 12.856209150326753/200 [16:10<3:55:57, 75.65s/it]Exception ignored in: <bound method IPythonKernel._clean_thread_parent_frames of <ipykernel.ipkernel.IPythonKernel object at 0x7f47cab07af0>>\n",
      "Traceback (most recent call last):\n",
      "  File \"/home/bunny/anaconda3/envs/audio/lib/python3.9/site-packages/ipykernel/ipkernel.py\", line 770, in _clean_thread_parent_frames\n",
      "    def _clean_thread_parent_frames(\n",
      "KeyboardInterrupt: \n",
      "  6%|████                                                           | 12.859477124182963/200 [16:10<3:57:50, 76.26s/it]Exception ignored in: <bound method IPythonKernel._clean_thread_parent_frames of <ipykernel.ipkernel.IPythonKernel object at 0x7f47cab07af0>>\n",
      "Traceback (most recent call last):\n",
      "  File \"/home/bunny/anaconda3/envs/audio/lib/python3.9/site-packages/ipykernel/ipkernel.py\", line 770, in _clean_thread_parent_frames\n",
      "    def _clean_thread_parent_frames(\n",
      "KeyboardInterrupt: \n",
      "  6%|████                                                           | 12.892156862745054/200 [16:13<3:50:56, 74.06s/it]Exception ignored in: <bound method IPythonKernel._clean_thread_parent_frames of <ipykernel.ipkernel.IPythonKernel object at 0x7f47cab07af0>>\n",
      "Traceback (most recent call last):\n",
      "  File \"/home/bunny/anaconda3/envs/audio/lib/python3.9/site-packages/ipykernel/ipkernel.py\", line 770, in _clean_thread_parent_frames\n",
      "    def _clean_thread_parent_frames(\n",
      "KeyboardInterrupt: \n",
      "Exception ignored in: <bound method IPythonKernel._clean_thread_parent_frames of <ipykernel.ipkernel.IPythonKernel object at 0x7f47cab07af0>>\n",
      "Traceback (most recent call last):\n",
      "  File \"/home/bunny/anaconda3/envs/audio/lib/python3.9/site-packages/ipykernel/ipkernel.py\", line 770, in _clean_thread_parent_frames\n",
      "    def _clean_thread_parent_frames(\n",
      "KeyboardInterrupt: \n",
      "  6%|████                                                           | 12.895424836601263/200 [16:13<3:54:53, 75.32s/it]Exception ignored in: <bound method IPythonKernel._clean_thread_parent_frames of <ipykernel.ipkernel.IPythonKernel object at 0x7f47cab07af0>>\n",
      "Traceback (most recent call last):\n",
      "  File \"/home/bunny/anaconda3/envs/audio/lib/python3.9/site-packages/ipykernel/ipkernel.py\", line 770, in _clean_thread_parent_frames\n",
      "    def _clean_thread_parent_frames(\n",
      "KeyboardInterrupt: \n",
      "  6%|████                                                           | 12.898692810457472/200 [16:13<3:56:57, 75.99s/it]Exception ignored in: <bound method IPythonKernel._clean_thread_parent_frames of <ipykernel.ipkernel.IPythonKernel object at 0x7f47cab07af0>>\n",
      "Traceback (most recent call last):\n",
      "  File \"/home/bunny/anaconda3/envs/audio/lib/python3.9/site-packages/ipykernel/ipkernel.py\", line 770, in _clean_thread_parent_frames\n",
      "    def _clean_thread_parent_frames(\n",
      "KeyboardInterrupt: \n",
      "Exception ignored in: <bound method IPythonKernel._clean_thread_parent_frames of <ipykernel.ipkernel.IPythonKernel object at 0x7f47cab07af0>>\n",
      "Traceback (most recent call last):\n",
      "  File \"/home/bunny/anaconda3/envs/audio/lib/python3.9/site-packages/ipykernel/ipkernel.py\", line 770, in _clean_thread_parent_frames\n",
      "    def _clean_thread_parent_frames(\n",
      "KeyboardInterrupt: \n",
      "  6%|████▏                                                           | 12.90522875816989/200 [16:14<4:01:45, 77.53s/it]Exception ignored in: <bound method IPythonKernel._clean_thread_parent_frames of <ipykernel.ipkernel.IPythonKernel object at 0x7f47cab07af0>>\n",
      "Traceback (most recent call last):\n",
      "  File \"/home/bunny/anaconda3/envs/audio/lib/python3.9/site-packages/ipykernel/ipkernel.py\", line 770, in _clean_thread_parent_frames\n",
      "    def _clean_thread_parent_frames(\n",
      "KeyboardInterrupt: \n",
      "  6%|████▏                                                            | 12.9084967320261/200 [16:14<3:59:04, 76.67s/it]Exception ignored in: <bound method IPythonKernel._clean_thread_parent_frames of <ipykernel.ipkernel.IPythonKernel object at 0x7f47cab07af0>>\n",
      "Traceback (most recent call last):\n",
      "  File \"/home/bunny/anaconda3/envs/audio/lib/python3.9/site-packages/ipykernel/ipkernel.py\", line 770, in _clean_thread_parent_frames\n",
      "    def _clean_thread_parent_frames(\n",
      "KeyboardInterrupt: \n",
      "  6%|████                                                           | 12.911764705882309/200 [16:14<3:59:02, 76.66s/it]Exception ignored in: <bound method IPythonKernel._clean_thread_parent_frames of <ipykernel.ipkernel.IPythonKernel object at 0x7f47cab07af0>>\n",
      "Traceback (most recent call last):\n",
      "  File \"/home/bunny/anaconda3/envs/audio/lib/python3.9/site-packages/ipykernel/ipkernel.py\", line 770, in _clean_thread_parent_frames\n",
      "    def _clean_thread_parent_frames(\n",
      "KeyboardInterrupt: \n",
      "  6%|████                                                           | 12.915032679738518/200 [16:15<3:59:45, 76.89s/it]Exception ignored in: <bound method IPythonKernel._clean_thread_parent_frames of <ipykernel.ipkernel.IPythonKernel object at 0x7f47cab07af0>>\n",
      "Traceback (most recent call last):\n",
      "  File \"/home/bunny/anaconda3/envs/audio/lib/python3.9/site-packages/ipykernel/ipkernel.py\", line 770, in _clean_thread_parent_frames\n",
      "    def _clean_thread_parent_frames(\n",
      "KeyboardInterrupt: \n",
      "Exception ignored in: <bound method IPythonKernel._clean_thread_parent_frames of <ipykernel.ipkernel.IPythonKernel object at 0x7f47cab07af0>>\n",
      "Traceback (most recent call last):\n",
      "  File \"/home/bunny/anaconda3/envs/audio/lib/python3.9/site-packages/ipykernel/ipkernel.py\", line 770, in _clean_thread_parent_frames\n",
      "    def _clean_thread_parent_frames(\n",
      "KeyboardInterrupt: \n",
      "  6%|████                                                           | 12.937908496731982/200 [16:16<3:52:08, 74.46s/it]Exception ignored in: <bound method IPythonKernel._clean_thread_parent_frames of <ipykernel.ipkernel.IPythonKernel object at 0x7f47cab07af0>>\n",
      "Traceback (most recent call last):\n",
      "  File \"/home/bunny/anaconda3/envs/audio/lib/python3.9/site-packages/ipykernel/ipkernel.py\", line 770, in _clean_thread_parent_frames\n",
      "    def _clean_thread_parent_frames(\n",
      "KeyboardInterrupt: \n",
      "  6%|████▏                                                            | 12.9444444444444/200 [16:17<3:54:13, 75.13s/it]Exception ignored in: <bound method IPythonKernel._clean_thread_parent_frames of <ipykernel.ipkernel.IPythonKernel object at 0x7f47cab07af0>>\n",
      "Traceback (most recent call last):\n",
      "  File \"/home/bunny/anaconda3/envs/audio/lib/python3.9/site-packages/ipykernel/ipkernel.py\", line 770, in _clean_thread_parent_frames\n",
      "    def _clean_thread_parent_frames(\n",
      "KeyboardInterrupt: \n",
      "  6%|████▏                                                           | 12.94771241830061/200 [16:17<3:54:13, 75.13s/it]Exception ignored in: <bound method IPythonKernel._clean_thread_parent_frames of <ipykernel.ipkernel.IPythonKernel object at 0x7f47cab07af0>>\n",
      "Traceback (most recent call last):\n",
      "  File \"/home/bunny/anaconda3/envs/audio/lib/python3.9/site-packages/ipykernel/ipkernel.py\", line 770, in _clean_thread_parent_frames\n",
      "    def _clean_thread_parent_frames(\n",
      "KeyboardInterrupt: \n",
      "  6%|████                                                           | 12.950980392156819/200 [16:17<3:56:29, 75.86s/it]Exception ignored in: <bound method IPythonKernel._clean_thread_parent_frames of <ipykernel.ipkernel.IPythonKernel object at 0x7f47cab07af0>>\n",
      "Traceback (most recent call last):\n",
      "  File \"/home/bunny/anaconda3/envs/audio/lib/python3.9/site-packages/ipykernel/ipkernel.py\", line 770, in _clean_thread_parent_frames\n",
      "    def _clean_thread_parent_frames(\n",
      "KeyboardInterrupt: \n",
      "  6%|████                                                           | 12.954248366013028/200 [16:18<3:58:04, 76.37s/it]Exception ignored in: <bound method IPythonKernel._clean_thread_parent_frames of <ipykernel.ipkernel.IPythonKernel object at 0x7f47cab07af0>>\n",
      "Traceback (most recent call last):\n",
      "  File \"/home/bunny/anaconda3/envs/audio/lib/python3.9/site-packages/ipykernel/ipkernel.py\", line 770, in _clean_thread_parent_frames\n",
      "    def _clean_thread_parent_frames(\n",
      "KeyboardInterrupt: \n",
      "Exception ignored in: <bound method IPythonKernel._clean_thread_parent_frames of <ipykernel.ipkernel.IPythonKernel object at 0x7f47cab07af0>>\n",
      "Traceback (most recent call last):\n",
      "  File \"/home/bunny/anaconda3/envs/audio/lib/python3.9/site-packages/ipykernel/ipkernel.py\", line 770, in _clean_thread_parent_frames\n",
      "    def _clean_thread_parent_frames(\n",
      "KeyboardInterrupt: \n",
      "  6%|████                                                           | 12.957516339869237/200 [16:18<4:01:49, 77.57s/it]Exception ignored in: <bound method IPythonKernel._clean_thread_parent_frames of <ipykernel.ipkernel.IPythonKernel object at 0x7f47cab07af0>>\n",
      "Traceback (most recent call last):\n",
      "  File \"/home/bunny/anaconda3/envs/audio/lib/python3.9/site-packages/ipykernel/ipkernel.py\", line 770, in _clean_thread_parent_frames\n",
      "    def _clean_thread_parent_frames(\n",
      "KeyboardInterrupt: \n",
      "  6%|████                                                           | 12.960784313725446/200 [16:18<4:04:51, 78.55s/it]Exception ignored in: <bound method IPythonKernel._clean_thread_parent_frames of <ipykernel.ipkernel.IPythonKernel object at 0x7f47cab07af0>>\n",
      "Traceback (most recent call last):\n",
      "  File \"/home/bunny/anaconda3/envs/audio/lib/python3.9/site-packages/ipykernel/ipkernel.py\", line 770, in _clean_thread_parent_frames\n",
      "    def _clean_thread_parent_frames(\n",
      "KeyboardInterrupt: \n",
      "  6%|████                                                           | 12.964052287581655/200 [16:18<4:03:55, 78.25s/it]Exception ignored in: <bound method IPythonKernel._clean_thread_parent_frames of <ipykernel.ipkernel.IPythonKernel object at 0x7f47cab07af0>>\n",
      "Traceback (most recent call last):\n",
      "  File \"/home/bunny/anaconda3/envs/audio/lib/python3.9/site-packages/ipykernel/ipkernel.py\", line 770, in _clean_thread_parent_frames\n",
      "    def _clean_thread_parent_frames(\n",
      "KeyboardInterrupt: \n",
      "  6%|████                                                           | 12.967320261437864/200 [16:19<4:02:38, 77.84s/it]Exception ignored in: <bound method IPythonKernel._clean_thread_parent_frames of <ipykernel.ipkernel.IPythonKernel object at 0x7f47cab07af0>>\n",
      "Traceback (most recent call last):\n",
      "  File \"/home/bunny/anaconda3/envs/audio/lib/python3.9/site-packages/ipykernel/ipkernel.py\", line 770, in _clean_thread_parent_frames\n",
      "    def _clean_thread_parent_frames(\n",
      "KeyboardInterrupt: \n",
      "Exception ignored in: <bound method IPythonKernel._clean_thread_parent_frames of <ipykernel.ipkernel.IPythonKernel object at 0x7f47cab07af0>>\n",
      "Traceback (most recent call last):\n",
      "  File \"/home/bunny/anaconda3/envs/audio/lib/python3.9/site-packages/ipykernel/ipkernel.py\", line 770, in _clean_thread_parent_frames\n",
      "    def _clean_thread_parent_frames(\n",
      "KeyboardInterrupt: \n",
      "  6%|████                                                           | 12.970588235294073/200 [16:19<4:01:55, 77.61s/it]Exception ignored in: <bound method IPythonKernel._clean_thread_parent_frames of <ipykernel.ipkernel.IPythonKernel object at 0x7f47cab07af0>>\n",
      "Traceback (most recent call last):\n",
      "  File \"/home/bunny/anaconda3/envs/audio/lib/python3.9/site-packages/ipykernel/ipkernel.py\", line 770, in _clean_thread_parent_frames\n",
      "    def _clean_thread_parent_frames(\n",
      "KeyboardInterrupt: \n",
      "  6%|████                                                           | 12.973856209150282/200 [16:19<4:11:36, 80.72s/it]Exception ignored in: <bound method IPythonKernel._clean_thread_parent_frames of <ipykernel.ipkernel.IPythonKernel object at 0x7f47cab07af0>>\n",
      "Traceback (most recent call last):\n",
      "  File \"/home/bunny/anaconda3/envs/audio/lib/python3.9/site-packages/ipykernel/ipkernel.py\", line 770, in _clean_thread_parent_frames\n",
      "    def _clean_thread_parent_frames(\n",
      "KeyboardInterrupt: \n",
      "  6%|████                                                           | 12.977124183006492/200 [16:19<4:09:06, 79.92s/it]Exception ignored in: <bound method IPythonKernel._clean_thread_parent_frames of <ipykernel.ipkernel.IPythonKernel object at 0x7f47cab07af0>>\n",
      "Traceback (most recent call last):\n",
      "  File \"/home/bunny/anaconda3/envs/audio/lib/python3.9/site-packages/ipykernel/ipkernel.py\", line 770, in _clean_thread_parent_frames\n",
      "    def _clean_thread_parent_frames(\n",
      "KeyboardInterrupt: \n",
      "  6%|████▏                                                            | 12.9803921568627/200 [16:20<4:06:51, 79.20s/it]Exception ignored in: <bound method IPythonKernel._clean_thread_parent_frames of <ipykernel.ipkernel.IPythonKernel object at 0x7f47cab07af0>>\n",
      "Traceback (most recent call last):\n",
      "  File \"/home/bunny/anaconda3/envs/audio/lib/python3.9/site-packages/ipykernel/ipkernel.py\", line 770, in _clean_thread_parent_frames\n",
      "    def _clean_thread_parent_frames(\n",
      "KeyboardInterrupt: \n",
      "Exception ignored in: <bound method IPythonKernel._clean_thread_parent_frames of <ipykernel.ipkernel.IPythonKernel object at 0x7f47cab07af0>>\n",
      "Traceback (most recent call last):\n",
      "  File \"/home/bunny/anaconda3/envs/audio/lib/python3.9/site-packages/ipykernel/ipkernel.py\", line 770, in _clean_thread_parent_frames\n",
      "    def _clean_thread_parent_frames(\n",
      "KeyboardInterrupt: \n",
      "  6%|████▏                                                           | 12.98366013071891/200 [16:20<4:06:02, 78.94s/it]Exception ignored in: <bound method IPythonKernel._clean_thread_parent_frames of <ipykernel.ipkernel.IPythonKernel object at 0x7f47cab07af0>>\n",
      "Traceback (most recent call last):\n",
      "  File \"/home/bunny/anaconda3/envs/audio/lib/python3.9/site-packages/ipykernel/ipkernel.py\", line 770, in _clean_thread_parent_frames\n",
      "    def _clean_thread_parent_frames(\n",
      "KeyboardInterrupt: \n",
      "  6%|████                                                           | 12.986928104575119/200 [16:20<4:04:19, 78.39s/it]Exception ignored in: <bound method IPythonKernel._clean_thread_parent_frames of <ipykernel.ipkernel.IPythonKernel object at 0x7f47cab07af0>>\n",
      "Traceback (most recent call last):\n",
      "  File \"/home/bunny/anaconda3/envs/audio/lib/python3.9/site-packages/ipykernel/ipkernel.py\", line 770, in _clean_thread_parent_frames\n",
      "    def _clean_thread_parent_frames(\n",
      "KeyboardInterrupt: \n",
      "  6%|████                                                           | 12.990196078431328/200 [16:20<4:04:20, 78.39s/it]Exception ignored in: <bound method IPythonKernel._clean_thread_parent_frames of <ipykernel.ipkernel.IPythonKernel object at 0x7f47cab07af0>>\n",
      "Traceback (most recent call last):\n",
      "  File \"/home/bunny/anaconda3/envs/audio/lib/python3.9/site-packages/ipykernel/ipkernel.py\", line 770, in _clean_thread_parent_frames\n",
      "    def _clean_thread_parent_frames(\n",
      "KeyboardInterrupt: \n",
      "  6%|████                                                           | 12.993464052287537/200 [16:21<4:02:58, 77.96s/it]Exception ignored in: <bound method IPythonKernel._clean_thread_parent_frames of <ipykernel.ipkernel.IPythonKernel object at 0x7f47cab07af0>>\n",
      "Traceback (most recent call last):\n",
      "  File \"/home/bunny/anaconda3/envs/audio/lib/python3.9/site-packages/ipykernel/ipkernel.py\", line 770, in _clean_thread_parent_frames\n",
      "    def _clean_thread_parent_frames(\n",
      "KeyboardInterrupt: \n",
      "  6%|████                                                           | 12.996732026143746/200 [16:21<4:02:06, 77.68s/it]Exception ignored in: <bound method IPythonKernel._clean_thread_parent_frames of <ipykernel.ipkernel.IPythonKernel object at 0x7f47cab07af0>>\n",
      "Traceback (most recent call last):\n",
      "  File \"/home/bunny/anaconda3/envs/audio/lib/python3.9/site-packages/ipykernel/ipkernel.py\", line 770, in _clean_thread_parent_frames\n",
      "    def _clean_thread_parent_frames(\n",
      "KeyboardInterrupt: \n",
      "  6%|████                                                           | 12.999999999999956/200 [16:21<4:02:31, 77.81s/it]"
     ]
    },
    {
     "name": "stdout",
     "output_type": "stream",
     "text": [
      "\n",
      "Test Epoch: 113\tAccuracy: 634/976 (65%)\n",
      "\n"
     ]
    },
    {
     "name": "stderr",
     "output_type": "stream",
     "text": [
      "Exception ignored in: <bound method IPythonKernel._clean_thread_parent_frames of <ipykernel.ipkernel.IPythonKernel object at 0x7f47cab07af0>>\n",
      "Traceback (most recent call last):\n",
      "  File \"/home/bunny/anaconda3/envs/audio/lib/python3.9/site-packages/ipykernel/ipkernel.py\", line 770, in _clean_thread_parent_frames\n",
      "    def _clean_thread_parent_frames(\n",
      "KeyboardInterrupt: \n",
      "  7%|████                                                           | 13.003267973856165/200 [16:21<4:04:33, 78.47s/it]Exception ignored in: <bound method IPythonKernel._clean_thread_parent_frames of <ipykernel.ipkernel.IPythonKernel object at 0x7f47cab07af0>>\n",
      "Traceback (most recent call last):\n",
      "  File \"/home/bunny/anaconda3/envs/audio/lib/python3.9/site-packages/ipykernel/ipkernel.py\", line 770, in _clean_thread_parent_frames\n",
      "    def _clean_thread_parent_frames(\n",
      "KeyboardInterrupt: \n"
     ]
    },
    {
     "name": "stdout",
     "output_type": "stream",
     "text": [
      "Train Epoch: 114 [0/3920 (0%)]\tLoss: 0.000652\n",
      "Mem before-during-after: 47373312 50580992 47374336\n"
     ]
    },
    {
     "name": "stderr",
     "output_type": "stream",
     "text": [
      "  7%|████                                                           | 13.006535947712374/200 [16:22<4:05:55, 78.91s/it]Exception ignored in: <bound method IPythonKernel._clean_thread_parent_frames of <ipykernel.ipkernel.IPythonKernel object at 0x7f47cab07af0>>\n",
      "Traceback (most recent call last):\n",
      "  File \"/home/bunny/anaconda3/envs/audio/lib/python3.9/site-packages/ipykernel/ipkernel.py\", line 770, in _clean_thread_parent_frames\n",
      "    def _clean_thread_parent_frames(\n",
      "KeyboardInterrupt: \n",
      "  7%|████                                                           | 13.009803921568583/200 [16:22<4:07:26, 79.40s/it]Exception ignored in: <bound method IPythonKernel._clean_thread_parent_frames of <ipykernel.ipkernel.IPythonKernel object at 0x7f47cab07af0>>\n",
      "Traceback (most recent call last):\n",
      "  File \"/home/bunny/anaconda3/envs/audio/lib/python3.9/site-packages/ipykernel/ipkernel.py\", line 770, in _clean_thread_parent_frames\n",
      "    def _clean_thread_parent_frames(\n",
      "KeyboardInterrupt: \n",
      "  7%|████                                                           | 13.009803921568583/200 [16:22<3:55:24, 75.53s/it]\n"
     ]
    },
    {
     "ename": "KeyboardInterrupt",
     "evalue": "",
     "output_type": "error",
     "traceback": [
      "\u001b[0;31m---------------------------------------------------------------------------\u001b[0m",
      "\u001b[0;31mKeyboardInterrupt\u001b[0m                         Traceback (most recent call last)",
      "Cell \u001b[0;32mIn[80], line 14\u001b[0m\n\u001b[1;32m     12\u001b[0m \u001b[38;5;28;01mwith\u001b[39;00m tqdm(total\u001b[38;5;241m=\u001b[39mn_epoch4) \u001b[38;5;28;01mas\u001b[39;00m pbar:\n\u001b[1;32m     13\u001b[0m     \u001b[38;5;28;01mfor\u001b[39;00m epoch \u001b[38;5;129;01min\u001b[39;00m \u001b[38;5;28mrange\u001b[39m(\u001b[38;5;241m1\u001b[39m\u001b[38;5;241m+\u001b[39mn_epoch\u001b[38;5;241m+\u001b[39mn_epoch2\u001b[38;5;241m+\u001b[39mn_epoch3, n_epoch4\u001b[38;5;241m+\u001b[39mn_epoch3\u001b[38;5;241m+\u001b[39mn_epoch2 \u001b[38;5;241m+\u001b[39m n_epoch \u001b[38;5;241m+\u001b[39m \u001b[38;5;241m1\u001b[39m):\n\u001b[0;32m---> 14\u001b[0m         \u001b[43mtrain\u001b[49m\u001b[43m(\u001b[49m\u001b[43mmodel\u001b[49m\u001b[43m,\u001b[49m\u001b[43m \u001b[49m\u001b[43mepoch\u001b[49m\u001b[43m,\u001b[49m\u001b[43m \u001b[49m\u001b[43mlog_interval\u001b[49m\u001b[43m,\u001b[49m\u001b[43m \u001b[49m\u001b[43mtrain_losses\u001b[49m\u001b[43m)\u001b[49m\n\u001b[1;32m     15\u001b[0m         acc \u001b[38;5;241m=\u001b[39m test(model, epoch)\n\u001b[1;32m     16\u001b[0m         test_accuracy \u001b[38;5;241m+\u001b[39m\u001b[38;5;241m=\u001b[39m [acc]\n",
      "Cell \u001b[0;32mIn[63], line 22\u001b[0m, in \u001b[0;36mtrain\u001b[0;34m(model, epoch, log_interval, train_losses)\u001b[0m\n\u001b[1;32m     20\u001b[0m torch\u001b[38;5;241m.\u001b[39mcuda\u001b[38;5;241m.\u001b[39mempty_cache()\n\u001b[1;32m     21\u001b[0m optimizer\u001b[38;5;241m.\u001b[39mzero_grad()\n\u001b[0;32m---> 22\u001b[0m \u001b[43mloss\u001b[49m\u001b[38;5;241;43m.\u001b[39;49m\u001b[43mbackward\u001b[49m\u001b[43m(\u001b[49m\u001b[43m)\u001b[49m\n\u001b[1;32m     23\u001b[0m nn\u001b[38;5;241m.\u001b[39mutils\u001b[38;5;241m.\u001b[39mclip_grad\u001b[38;5;241m.\u001b[39mclip_grad_norm_(\n\u001b[1;32m     24\u001b[0m     model\u001b[38;5;241m.\u001b[39mparameters(), \u001b[38;5;241m1.0\u001b[39m)\n\u001b[1;32m     25\u001b[0m optimizer\u001b[38;5;241m.\u001b[39mstep()\n",
      "File \u001b[0;32m~/anaconda3/envs/audio/lib/python3.9/site-packages/torch/_tensor.py:492\u001b[0m, in \u001b[0;36mTensor.backward\u001b[0;34m(self, gradient, retain_graph, create_graph, inputs)\u001b[0m\n\u001b[1;32m    482\u001b[0m \u001b[38;5;28;01mif\u001b[39;00m has_torch_function_unary(\u001b[38;5;28mself\u001b[39m):\n\u001b[1;32m    483\u001b[0m     \u001b[38;5;28;01mreturn\u001b[39;00m handle_torch_function(\n\u001b[1;32m    484\u001b[0m         Tensor\u001b[38;5;241m.\u001b[39mbackward,\n\u001b[1;32m    485\u001b[0m         (\u001b[38;5;28mself\u001b[39m,),\n\u001b[0;32m   (...)\u001b[0m\n\u001b[1;32m    490\u001b[0m         inputs\u001b[38;5;241m=\u001b[39minputs,\n\u001b[1;32m    491\u001b[0m     )\n\u001b[0;32m--> 492\u001b[0m \u001b[43mtorch\u001b[49m\u001b[38;5;241;43m.\u001b[39;49m\u001b[43mautograd\u001b[49m\u001b[38;5;241;43m.\u001b[39;49m\u001b[43mbackward\u001b[49m\u001b[43m(\u001b[49m\n\u001b[1;32m    493\u001b[0m \u001b[43m    \u001b[49m\u001b[38;5;28;43mself\u001b[39;49m\u001b[43m,\u001b[49m\u001b[43m \u001b[49m\u001b[43mgradient\u001b[49m\u001b[43m,\u001b[49m\u001b[43m \u001b[49m\u001b[43mretain_graph\u001b[49m\u001b[43m,\u001b[49m\u001b[43m \u001b[49m\u001b[43mcreate_graph\u001b[49m\u001b[43m,\u001b[49m\u001b[43m \u001b[49m\u001b[43minputs\u001b[49m\u001b[38;5;241;43m=\u001b[39;49m\u001b[43minputs\u001b[49m\n\u001b[1;32m    494\u001b[0m \u001b[43m\u001b[49m\u001b[43m)\u001b[49m\n",
      "File \u001b[0;32m~/anaconda3/envs/audio/lib/python3.9/site-packages/torch/autograd/__init__.py:251\u001b[0m, in \u001b[0;36mbackward\u001b[0;34m(tensors, grad_tensors, retain_graph, create_graph, grad_variables, inputs)\u001b[0m\n\u001b[1;32m    246\u001b[0m     retain_graph \u001b[38;5;241m=\u001b[39m create_graph\n\u001b[1;32m    248\u001b[0m \u001b[38;5;66;03m# The reason we repeat the same comment below is that\u001b[39;00m\n\u001b[1;32m    249\u001b[0m \u001b[38;5;66;03m# some Python versions print out the first line of a multi-line function\u001b[39;00m\n\u001b[1;32m    250\u001b[0m \u001b[38;5;66;03m# calls in the traceback and some print out the last line\u001b[39;00m\n\u001b[0;32m--> 251\u001b[0m \u001b[43mVariable\u001b[49m\u001b[38;5;241;43m.\u001b[39;49m\u001b[43m_execution_engine\u001b[49m\u001b[38;5;241;43m.\u001b[39;49m\u001b[43mrun_backward\u001b[49m\u001b[43m(\u001b[49m\u001b[43m  \u001b[49m\u001b[38;5;66;43;03m# Calls into the C++ engine to run the backward pass\u001b[39;49;00m\n\u001b[1;32m    252\u001b[0m \u001b[43m    \u001b[49m\u001b[43mtensors\u001b[49m\u001b[43m,\u001b[49m\n\u001b[1;32m    253\u001b[0m \u001b[43m    \u001b[49m\u001b[43mgrad_tensors_\u001b[49m\u001b[43m,\u001b[49m\n\u001b[1;32m    254\u001b[0m \u001b[43m    \u001b[49m\u001b[43mretain_graph\u001b[49m\u001b[43m,\u001b[49m\n\u001b[1;32m    255\u001b[0m \u001b[43m    \u001b[49m\u001b[43mcreate_graph\u001b[49m\u001b[43m,\u001b[49m\n\u001b[1;32m    256\u001b[0m \u001b[43m    \u001b[49m\u001b[43minputs\u001b[49m\u001b[43m,\u001b[49m\n\u001b[1;32m    257\u001b[0m \u001b[43m    \u001b[49m\u001b[43mallow_unreachable\u001b[49m\u001b[38;5;241;43m=\u001b[39;49m\u001b[38;5;28;43;01mTrue\u001b[39;49;00m\u001b[43m,\u001b[49m\n\u001b[1;32m    258\u001b[0m \u001b[43m    \u001b[49m\u001b[43maccumulate_grad\u001b[49m\u001b[38;5;241;43m=\u001b[39;49m\u001b[38;5;28;43;01mTrue\u001b[39;49;00m\u001b[43m,\u001b[49m\n\u001b[1;32m    259\u001b[0m \u001b[43m\u001b[49m\u001b[43m)\u001b[49m\n",
      "\u001b[0;31mKeyboardInterrupt\u001b[0m: "
     ]
    }
   ],
   "source": [
    "n_epoch = 10\n",
    "n_epoch2 = 50\n",
    "n_epoch3 = 40\n",
    "n_epoch4 = 200\n",
    "optimizer = optim.RAdam(model.parameters(), lr=0.00001)\n",
    "scheduler = optim.lr_scheduler.OneCycleLR(\n",
    "    optimizer, max_lr=0.02, pct_start=0.3,\n",
    "    steps_per_epoch=len(train_loader), epochs=n_epoch4)\n",
    "log_interval = 40\n",
    "pbar_update = 1 / (len(train_loader) + len(test_loader))\n",
    "model.to(device)\n",
    "with tqdm(total=n_epoch4) as pbar:\n",
    "    for epoch in range(1+n_epoch+n_epoch2+n_epoch3, n_epoch4+n_epoch3+n_epoch2 + n_epoch + 1):\n",
    "        train(model, epoch, log_interval, train_losses)\n",
    "        acc = test(model, epoch)\n",
    "        test_accuracy += [acc]\n",
    "        if acc > best_accuracy:\n",
    "            best_accuracy = acc\n",
    "            best_epoch = epoch\n",
    "            bmodel_path = f'{model_path_prefix}{epoch}epoch.pt'\n",
    "            torch.save(model.state_dict(), bmodel_path)\n",
    "            print(f'saved model: {bmodel_path}')\n",
    "        scheduler.step()"
   ]
  },
  {
   "cell_type": "code",
   "execution_count": 81,
   "id": "1d0c270f-f680-4ddb-871b-fd069002f820",
   "metadata": {},
   "outputs": [
    {
     "data": {
      "text/plain": [
       "[<matplotlib.lines.Line2D at 0x7f46694514f0>]"
      ]
     },
     "execution_count": 81,
     "metadata": {},
     "output_type": "execute_result"
    },
    {
     "data": {
      "image/png": "[encoded data removed]",
      "text/plain": [
       "<Figure size 640x480 with 1 Axes>"
      ]
     },
     "metadata": {},
     "output_type": "display_data"
    }
   ],
   "source": [
    "plt.plot(train_losses)"
   ]
  },
  {
   "cell_type": "code",
   "execution_count": 82,
   "id": "06c25f8b-da26-484b-88dd-5809f063c1d8",
   "metadata": {},
   "outputs": [
    {
     "data": {
      "text/plain": [
       "[<matplotlib.lines.Line2D at 0x7f466942d850>]"
      ]
     },
     "execution_count": 82,
     "metadata": {},
     "output_type": "execute_result"
    },
    {
     "data": {
      "image/png": "[encoded data removed]",
      "text/plain": [
       "<Figure size 640x480 with 1 Axes>"
      ]
     },
     "metadata": {},
     "output_type": "display_data"
    }
   ],
   "source": [
    "plt.plot(test_accuracy)"
   ]
  },
  {
   "cell_type": "code",
   "execution_count": 83,
   "id": "56fe5fc5-52db-4dda-a246-6efa8cb59f69",
   "metadata": {},
   "outputs": [
    {
     "data": {
      "text/plain": [
       "31"
      ]
     },
     "execution_count": 83,
     "metadata": {},
     "output_type": "execute_result"
    }
   ],
   "source": [
    "best_epoch"
   ]
  },
  {
   "cell_type": "code",
   "execution_count": null,
   "id": "7dcc149f-6800-46e6-adcf-0170404a93b4",
   "metadata": {},
   "outputs": [],
   "source": []
  }
 ],
 "metadata": {
  "kernelspec": {
   "display_name": "Python 3 (ipykernel)",
   "language": "python",
   "name": "python3"
  },
  "language_info": {
   "codemirror_mode": {
    "name": "ipython",
    "version": 3
   },
   "file_extension": ".py",
   "mimetype": "text/x-python",
   "name": "python",
   "nbconvert_exporter": "python",
   "pygments_lexer": "ipython3",
   "version": "3.9.18"
  }
 },
 "nbformat": 4,
 "nbformat_minor": 5
}
