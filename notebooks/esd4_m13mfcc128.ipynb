{
 "cells": [
  {
   "cell_type": "code",
   "execution_count": 1,
   "id": "369f8a59-d3cc-45b7-bbe6-64fa252b9810",
   "metadata": {},
   "outputs": [
    {
     "name": "stdout",
     "output_type": "stream",
     "text": [
      "Thu Feb 29 23:25:56 2024       \n",
      "+---------------------------------------------------------------------------------------+\n",
      "| NVIDIA-SMI 545.23.08              Driver Version: 545.23.08    CUDA Version: 12.3     |\n",
      "|-----------------------------------------+----------------------+----------------------+\n",
      "| GPU  Name                 Persistence-M | Bus-Id        Disp.A | Volatile Uncorr. ECC |\n",
      "| Fan  Temp   Perf          Pwr:Usage/Cap |         Memory-Usage | GPU-Util  Compute M. |\n",
      "|                                         |                      |               MIG M. |\n",
      "|=========================================+======================+======================|\n",
      "|   0  NVIDIA GeForce RTX 2080        On  | 00000000:01:00.0  On |                  N/A |\n",
      "| 32%   38C    P8              21W / 215W |    509MiB /  8192MiB |      6%      Default |\n",
      "|                                         |                      |                  N/A |\n",
      "+-----------------------------------------+----------------------+----------------------+\n",
      "                                                                                         \n",
      "+---------------------------------------------------------------------------------------+\n",
      "| Processes:                                                                            |\n",
      "|  GPU   GI   CI        PID   Type   Process name                            GPU Memory |\n",
      "|        ID   ID                                                             Usage      |\n",
      "|=======================================================================================|\n",
      "|    0   N/A  N/A      1887      G   /usr/lib/xorg/Xorg                          188MiB |\n",
      "|    0   N/A  N/A      2033      G   /usr/bin/gnome-shell                         59MiB |\n",
      "|    0   N/A  N/A   1076924      G   /usr/lib/xorg/Xorg                           35MiB |\n",
      "|    0   N/A  N/A   1080394      G   ...sion,SpareRendererForSitePerProcess       39MiB |\n",
      "|    0   N/A  N/A   3306740      G   ...seed-version=20240223-130108.897000       47MiB |\n",
      "+---------------------------------------------------------------------------------------+\n"
     ]
    }
   ],
   "source": [
    "!nvidia-smi"
   ]
  },
  {
   "cell_type": "code",
   "execution_count": 2,
   "id": "081efcc4-6f8b-4a3c-aa42-098bae7af9e2",
   "metadata": {},
   "outputs": [],
   "source": [
    "%load_ext autoreload\n",
    "%autoreload 2"
   ]
  },
  {
   "cell_type": "code",
   "execution_count": 3,
   "id": "38156aa5-ac38-4485-bc1a-1dae6d25f12e",
   "metadata": {},
   "outputs": [
    {
     "data": {
      "text/plain": [
       "'/home/linh/projects/IConNet'"
      ]
     },
     "execution_count": 3,
     "metadata": {},
     "output_type": "execute_result"
    }
   ],
   "source": [
    "import os\n",
    "os.chdir('..')\n",
    "os.getcwd()"
   ]
  },
  {
   "cell_type": "code",
   "execution_count": 4,
   "id": "7d12836d-0cc1-420a-b29c-31b7950d4d74",
   "metadata": {},
   "outputs": [
    {
     "name": "stdout",
     "output_type": "stream",
     "text": [
      "cuda\n"
     ]
    }
   ],
   "source": [
    "os.environ[\"PYTORCH_CUDA_ALLOC_CONF\"] = \"max_split_size_mb:512\"\n",
    "import gc\n",
    "import torch\n",
    "import torch.nn as nn\n",
    "import torch.nn.functional as F\n",
    "import torch.optim as optim\n",
    "import sys\n",
    "device = torch.device(\"cuda\" if torch.cuda.is_available() else \"cpu\")\n",
    "print(device)"
   ]
  },
  {
   "cell_type": "code",
   "execution_count": 5,
   "id": "0b123705-8e87-4e02-bda0-f82a298edb73",
   "metadata": {},
   "outputs": [],
   "source": [
    "import numpy as np\n",
    "from tqdm import tqdm\n",
    "import matplotlib.pyplot as plt\n",
    "from sklearn.model_selection import train_test_split\n",
    "\n",
    "import warnings\n",
    "warnings.filterwarnings('ignore', category=FutureWarning)"
   ]
  },
  {
   "cell_type": "code",
   "execution_count": 6,
   "id": "e8a982c8-8a83-4092-94b7-07170f4a9950",
   "metadata": {},
   "outputs": [],
   "source": [
    "data_dir = '../data/data_preprocessed/esd/features_4balanced/'\n",
    "\n",
    "sr = 16000\n",
    "\n",
    "data_x = np.load(f'{data_dir}esd.audio16k.npy', \n",
    "                 allow_pickle=True)\n",
    "data_y = np.load(f'{data_dir}esd.label_emotion.npy', \n",
    "                 allow_pickle=True)"
   ]
  },
  {
   "cell_type": "code",
   "execution_count": 7,
   "id": "324169be-2f5d-4740-aa48-9f6a06050401",
   "metadata": {},
   "outputs": [
    {
     "name": "stdout",
     "output_type": "stream",
     "text": [
      "Train: 22400\n",
      "Test: 5600\n"
     ]
    }
   ],
   "source": [
    "x_train, x_test, y_train, y_test = train_test_split(\n",
    "    data_x, data_y, test_size=0.2, \n",
    "    random_state=42, stratify=data_y)\n",
    "print(\"Train: %i\" % len(x_train))\n",
    "print(\"Test: %i\" % len(x_test))"
   ]
  },
  {
   "cell_type": "code",
   "execution_count": 8,
   "id": "2d05e4e3-7a03-4f74-bc67-2551e0b1767c",
   "metadata": {},
   "outputs": [],
   "source": [
    "train_set = list(zip(x_train, y_train))\n",
    "test_set = list(zip(x_test, y_test))"
   ]
  },
  {
   "cell_type": "code",
   "execution_count": 11,
   "id": "f0081d3b-427a-4e12-bb60-2c31e291c09c",
   "metadata": {},
   "outputs": [],
   "source": [
    "labels = ['ang', 'neu', 'sad', 'hap']\n",
    "def label_to_index(word):\n",
    "    return labels.index(word[:3])\n",
    "\n",
    "def pad_sequence(batch):\n",
    "    # Make all tensor in a batch the same length by padding with zeros\n",
    "    batch = [item.t() for item in batch]\n",
    "    batch = torch.nn.utils.rnn.pad_sequence(\n",
    "        batch, batch_first=True, padding_value=0.)\n",
    "    return batch.permute(0, 2, 1)\n",
    "\n",
    "\n",
    "def collate_fn(batch, max_duration_in_second=4, sample_rate=sr):\n",
    "    tensors, targets = [], []\n",
    "\n",
    "    # Gather in lists, and encode labels as indices\n",
    "    for waveform, label in batch:\n",
    "        if max_duration_in_second is not None:\n",
    "            length = len(waveform)\n",
    "            max_length = sample_rate * max_duration_in_second\n",
    "            offset = max(0, (length - max_length) // 2)\n",
    "            waveform = waveform[offset: length-offset]\n",
    "        tensors += [torch.tensor(\n",
    "            np.array(waveform, dtype=float), \n",
    "            dtype=torch.float32)[None,:]]\n",
    "        targets += [torch.tensor(label_to_index(label), \n",
    "                                 dtype=torch.long)]\n",
    "\n",
    "    # Group the list of tensors into a batched tensor\n",
    "    tensors = pad_sequence(tensors)\n",
    "    targets = torch.stack(targets)\n",
    "\n",
    "    return tensors, targets\n",
    "\n",
    "batch_size = 16\n",
    "\n",
    "if device == \"cuda\":\n",
    "    num_workers = 1\n",
    "    pin_memory = True\n",
    "else:\n",
    "    num_workers = 0\n",
    "    pin_memory = False\n",
    "\n",
    "train_loader = torch.utils.data.DataLoader(\n",
    "    train_set,\n",
    "    batch_size=batch_size,\n",
    "    shuffle=True,\n",
    "    collate_fn=collate_fn,\n",
    "    num_workers=num_workers,\n",
    "    pin_memory=pin_memory, \n",
    "    drop_last=True\n",
    ")\n",
    "test_loader = torch.utils.data.DataLoader(\n",
    "    test_set,\n",
    "    batch_size=batch_size,\n",
    "    shuffle=False,\n",
    "    drop_last=True,\n",
    "    collate_fn=collate_fn,\n",
    "    num_workers=num_workers,\n",
    "    pin_memory=pin_memory\n",
    ")"
   ]
  },
  {
   "cell_type": "code",
   "execution_count": 10,
   "id": "7df1b402-569d-4f81-9a55-a1ed9219f659",
   "metadata": {},
   "outputs": [
    {
     "name": "stdout",
     "output_type": "stream",
     "text": [
      "{'name': 'M13mfcc', 'description': 'FirConv with fftconv', 'mfcc': {'n_mfcc': 128, 'n_fft': 1024, 'hop_length': 128, 'n_mels': 128, 'sample_rate': 16000}, 'pooling': 'mean', 'cls': {'n_block': 2, 'n_hidden_dim': [512, 512], 'norm_type': 'LayerNorm'}}\n"
     ]
    },
    {
     "data": {
      "text/plain": [
       "M13mfcc(\n",
       "  (mfcc): MFCC(\n",
       "    (amplitude_to_DB): AmplitudeToDB()\n",
       "    (MelSpectrogram): MelSpectrogram(\n",
       "      (spectrogram): Spectrogram()\n",
       "      (mel_scale): MelScale()\n",
       "    )\n",
       "  )\n",
       "  (cls_head): Classifier(\n",
       "    (blocks): ModuleList(\n",
       "      (0): Sequential(\n",
       "        (norm): LayerNorm((128,), eps=1e-05, elementwise_affine=True)\n",
       "        (layer): Linear(in_features=128, out_features=512, bias=True)\n",
       "      )\n",
       "      (1): Sequential(\n",
       "        (norm): LayerNorm((512,), eps=1e-05, elementwise_affine=True)\n",
       "        (layer): Linear(in_features=512, out_features=512, bias=True)\n",
       "      )\n",
       "    )\n",
       "    (act): LeakyReLU(negative_slope=0.01)\n",
       "    (output_layer): Linear(in_features=512, out_features=4, bias=True)\n",
       "  )\n",
       ")"
      ]
     },
     "execution_count": 10,
     "metadata": {},
     "output_type": "execute_result"
    }
   ],
   "source": [
    "import traceback\n",
    "from IConNet.nn.model import M13mfcc as M13\n",
    "from omegaconf import OmegaConf as ocf\n",
    "\n",
    "model_config_path = 'config/model/m13mfcc128.yaml'\n",
    "model_config = ocf.load(model_config_path)\n",
    "print(model_config)\n",
    "model = M13(config=model_config,\n",
    "           n_input=1, n_output=len(labels))\n",
    "model"
   ]
  },
  {
   "cell_type": "code",
   "execution_count": 12,
   "id": "49594e69-869c-4ea7-bfdc-e4981ec3c45a",
   "metadata": {},
   "outputs": [],
   "source": [
    "n_epoch = 10\n",
    "train_losses = []\n",
    "test_accuracy = []\n",
    "optimizer = optim.RAdam(model.parameters(), lr=0.001)\n",
    "scheduler = optim.lr_scheduler.OneCycleLR(\n",
    "    optimizer, max_lr=0.1,\n",
    "    steps_per_epoch=len(train_loader), epochs=n_epoch)"
   ]
  },
  {
   "cell_type": "code",
   "execution_count": 13,
   "id": "bad47e72-fe3b-4dfb-ae71-cfbde97e2c8e",
   "metadata": {},
   "outputs": [],
   "source": [
    "train_loader_length = len(train_loader.dataset)\n",
    "test_loader_length = len(test_loader.dataset)\n",
    "\n",
    "def train(model, epoch, log_interval, \n",
    "          train_losses=train_losses):\n",
    "    model.train()\n",
    "    for batch_idx, (data, target) in enumerate(train_loader):\n",
    "        try:\n",
    "            _mem_before = torch.cuda.memory_allocated()\n",
    "            data = data.to(device)\n",
    "            target = target.to(device)\n",
    "            output = model(data)\n",
    "            del data\n",
    "            gc.collect()\n",
    "            torch.cuda.empty_cache()\n",
    "            loss = F.cross_entropy(output.squeeze(), target)\n",
    "            _mem_during = torch.cuda.memory_allocated()\n",
    "            del target\n",
    "            gc.collect()\n",
    "            torch.cuda.empty_cache()\n",
    "            optimizer.zero_grad()\n",
    "            loss.backward()\n",
    "            nn.utils.clip_grad.clip_grad_norm_(\n",
    "                model.parameters(), 1.0)\n",
    "            optimizer.step()\n",
    "            _mem_after = torch.cuda.memory_allocated()\n",
    "            # print training stats\n",
    "            if batch_idx % log_interval == 0:\n",
    "                print(f\"Train Epoch: {epoch} [{batch_idx * batch_size}/{train_loader_length} ({100. * batch_idx / len(train_loader):.0f}%)]\\tLoss: {loss.item():.6f}\")\n",
    "                print(f'Mem before-during-after: {_mem_before} {_mem_during} {_mem_after}')\n",
    "            # update progress bar\n",
    "            pbar.update(pbar_update)\n",
    "            # record loss\n",
    "            train_losses.append(loss.item())\n",
    "        except Exception as e:\n",
    "            print(f'data: {data.shape} => output: {output.shape} | target: {target.shape}')\n",
    "            traceback.print_exc()\n",
    "\n",
    "@torch.no_grad\n",
    "def test(model, epoch, test_loader=test_loader, device=device):\n",
    "    model.eval()\n",
    "    correct = 0\n",
    "    total = 0\n",
    "    for data, target in test_loader:\n",
    "        total += len(target)\n",
    "        data = data.to(device)\n",
    "        target = target.to(device)\n",
    "        output = model(data).squeeze()\n",
    "        del data\n",
    "        gc.collect()\n",
    "        torch.cuda.empty_cache()\n",
    "        probs = F.softmax(output, dim=-1)\n",
    "        pred = probs.argmax(dim=-1)\n",
    "        correct += pred.eq(target).sum().item()\n",
    "        del target\n",
    "        gc.collect()\n",
    "        torch.cuda.empty_cache()\n",
    "        pbar.update(pbar_update)\n",
    "    acc = correct / test_loader_length\n",
    "    print(f\"\\nTest Epoch: {epoch}\\tAccuracy: {correct}/{total} ({100. * acc:.0f}%)\\n\")\n",
    "    return acc"
   ]
  },
  {
   "cell_type": "code",
   "execution_count": 14,
   "id": "07c82633-3b41-48aa-a423-5f2609646f51",
   "metadata": {
    "scrolled": true
   },
   "outputs": [
    {
     "name": "stderr",
     "output_type": "stream",
     "text": [
      "  0%|                               | 0.001142857142857143/10 [00:00<1:11:51, 431.16s/it]"
     ]
    },
    {
     "name": "stdout",
     "output_type": "stream",
     "text": [
      "Train Epoch: 1 [0/22400 (0%)]\tLoss: 1.741649\n",
      "Mem before-during-after: 1660928 10332672 22687232\n"
     ]
    },
    {
     "name": "stderr",
     "output_type": "stream",
     "text": [
      "  0%|                                 | 0.023999999999999983/10 [00:07<48:50, 293.75s/it]"
     ]
    },
    {
     "name": "stdout",
     "output_type": "stream",
     "text": [
      "Train Epoch: 1 [640/22400 (3%)]\tLoss: 1.412265\n",
      "Mem before-during-after: 22687232 22838272 22687232\n"
     ]
    },
    {
     "name": "stderr",
     "output_type": "stream",
     "text": [
      "  0%|▏                                | 0.046857142857142785/10 [00:13<45:21, 273.48s/it]"
     ]
    },
    {
     "name": "stdout",
     "output_type": "stream",
     "text": [
      "Train Epoch: 1 [1280/22400 (6%)]\tLoss: 1.214767\n",
      "Mem before-during-after: 22687232 22838272 22687232\n"
     ]
    },
    {
     "name": "stderr",
     "output_type": "stream",
     "text": [
      "  1%|▏                                 | 0.06971428571428559/10 [00:19<46:34, 281.38s/it]"
     ]
    },
    {
     "name": "stdout",
     "output_type": "stream",
     "text": [
      "Train Epoch: 1 [1920/22400 (9%)]\tLoss: 0.995145\n",
      "Mem before-during-after: 22687232 22838272 22687232\n"
     ]
    },
    {
     "name": "stderr",
     "output_type": "stream",
     "text": [
      "  1%|▎                                 | 0.09257142857142839/10 [00:25<45:28, 275.42s/it]"
     ]
    },
    {
     "name": "stdout",
     "output_type": "stream",
     "text": [
      "Train Epoch: 1 [2560/22400 (11%)]\tLoss: 1.262530\n",
      "Mem before-during-after: 22687232 22838272 22687232\n"
     ]
    },
    {
     "name": "stderr",
     "output_type": "stream",
     "text": [
      "  1%|▍                                 | 0.11542857142857119/10 [00:32<44:52, 272.38s/it]"
     ]
    },
    {
     "name": "stdout",
     "output_type": "stream",
     "text": [
      "Train Epoch: 1 [3200/22400 (14%)]\tLoss: 0.963087\n",
      "Mem before-during-after: 22687232 22838272 22687232\n"
     ]
    },
    {
     "name": "stderr",
     "output_type": "stream",
     "text": [
      "  1%|▍                                 | 0.13828571428571432/10 [00:38<45:40, 277.85s/it]"
     ]
    },
    {
     "name": "stdout",
     "output_type": "stream",
     "text": [
      "Train Epoch: 1 [3840/22400 (17%)]\tLoss: 1.131410\n",
      "Mem before-during-after: 22687232 22838272 22687232\n"
     ]
    },
    {
     "name": "stderr",
     "output_type": "stream",
     "text": [
      "  2%|▌                                 | 0.16114285714285767/10 [00:44<44:12, 269.57s/it]"
     ]
    },
    {
     "name": "stdout",
     "output_type": "stream",
     "text": [
      "Train Epoch: 1 [4480/22400 (20%)]\tLoss: 0.861433\n",
      "Mem before-during-after: 22687232 22838272 22687232\n"
     ]
    },
    {
     "name": "stderr",
     "output_type": "stream",
     "text": [
      "  2%|▋                                 | 0.18400000000000102/10 [00:51<47:01, 287.43s/it]"
     ]
    },
    {
     "name": "stdout",
     "output_type": "stream",
     "text": [
      "Train Epoch: 1 [5120/22400 (23%)]\tLoss: 1.055699\n",
      "Mem before-during-after: 22687232 22838272 22687232\n"
     ]
    },
    {
     "name": "stderr",
     "output_type": "stream",
     "text": [
      "  2%|▋                                 | 0.20685714285714438/10 [00:57<46:56, 287.64s/it]"
     ]
    },
    {
     "name": "stdout",
     "output_type": "stream",
     "text": [
      "Train Epoch: 1 [5760/22400 (26%)]\tLoss: 0.963959\n",
      "Mem before-during-after: 22687232 22838272 22687232\n"
     ]
    },
    {
     "name": "stderr",
     "output_type": "stream",
     "text": [
      "  2%|▊                                 | 0.22971428571428773/10 [01:03<42:11, 259.07s/it]"
     ]
    },
    {
     "name": "stdout",
     "output_type": "stream",
     "text": [
      "Train Epoch: 1 [6400/22400 (29%)]\tLoss: 0.983898\n",
      "Mem before-during-after: 22687232 22838272 22687232\n"
     ]
    },
    {
     "name": "stderr",
     "output_type": "stream",
     "text": [
      "  3%|▊                                 | 0.25257142857143094/10 [01:10<44:01, 271.02s/it]"
     ]
    },
    {
     "name": "stdout",
     "output_type": "stream",
     "text": [
      "Train Epoch: 1 [7040/22400 (31%)]\tLoss: 1.191399\n",
      "Mem before-during-after: 22687232 22838272 22687232\n"
     ]
    },
    {
     "name": "stderr",
     "output_type": "stream",
     "text": [
      "  3%|▉                                  | 0.2754285714285732/10 [01:16<45:26, 280.39s/it]"
     ]
    },
    {
     "name": "stdout",
     "output_type": "stream",
     "text": [
      "Train Epoch: 1 [7680/22400 (34%)]\tLoss: 1.042503\n",
      "Mem before-during-after: 22687232 22838272 22687232\n"
     ]
    },
    {
     "name": "stderr",
     "output_type": "stream",
     "text": [
      "  3%|█                                 | 0.29828571428571543/10 [01:22<44:12, 273.38s/it]"
     ]
    },
    {
     "name": "stdout",
     "output_type": "stream",
     "text": [
      "Train Epoch: 1 [8320/22400 (37%)]\tLoss: 1.260522\n",
      "Mem before-during-after: 22687232 22838272 22687232\n"
     ]
    },
    {
     "name": "stderr",
     "output_type": "stream",
     "text": [
      "  3%|█                                  | 0.3211428571428577/10 [01:29<46:31, 288.41s/it]"
     ]
    },
    {
     "name": "stdout",
     "output_type": "stream",
     "text": [
      "Train Epoch: 1 [8960/22400 (40%)]\tLoss: 0.788855\n",
      "Mem before-during-after: 22687232 22838272 22687232\n"
     ]
    },
    {
     "name": "stderr",
     "output_type": "stream",
     "text": [
      "  3%|█▏                                 | 0.3439999999999999/10 [01:35<44:06, 274.13s/it]"
     ]
    },
    {
     "name": "stdout",
     "output_type": "stream",
     "text": [
      "Train Epoch: 1 [9600/22400 (43%)]\tLoss: 1.052420\n",
      "Mem before-during-after: 22687232 22838272 22687232\n"
     ]
    },
    {
     "name": "stderr",
     "output_type": "stream",
     "text": [
      "  4%|█▏                                | 0.36685714285714216/10 [01:42<47:19, 294.78s/it]"
     ]
    },
    {
     "name": "stdout",
     "output_type": "stream",
     "text": [
      "Train Epoch: 1 [10240/22400 (46%)]\tLoss: 0.749025\n",
      "Mem before-during-after: 22687232 22838272 22687232\n"
     ]
    },
    {
     "name": "stderr",
     "output_type": "stream",
     "text": [
      "  4%|█▎                                 | 0.3897142857142844/10 [01:48<44:54, 280.33s/it]"
     ]
    },
    {
     "name": "stdout",
     "output_type": "stream",
     "text": [
      "Train Epoch: 1 [10880/22400 (49%)]\tLoss: 0.662832\n",
      "Mem before-during-after: 22687232 22838272 22687232\n"
     ]
    },
    {
     "name": "stderr",
     "output_type": "stream",
     "text": [
      "  4%|█▍                                | 0.41257142857142665/10 [01:54<42:53, 268.38s/it]"
     ]
    },
    {
     "name": "stdout",
     "output_type": "stream",
     "text": [
      "Train Epoch: 1 [11520/22400 (51%)]\tLoss: 0.685314\n",
      "Mem before-during-after: 22687232 22838272 22687232\n"
     ]
    },
    {
     "name": "stderr",
     "output_type": "stream",
     "text": [
      "  4%|█▌                                 | 0.4354285714285689/10 [02:01<43:35, 273.50s/it]"
     ]
    },
    {
     "name": "stdout",
     "output_type": "stream",
     "text": [
      "Train Epoch: 1 [12160/22400 (54%)]\tLoss: 1.271330\n",
      "Mem before-during-after: 22687232 22838272 22687232\n"
     ]
    },
    {
     "name": "stderr",
     "output_type": "stream",
     "text": [
      "  5%|█▌                                | 0.45828571428571113/10 [02:07<45:22, 285.30s/it]"
     ]
    },
    {
     "name": "stdout",
     "output_type": "stream",
     "text": [
      "Train Epoch: 1 [12800/22400 (57%)]\tLoss: 0.838813\n",
      "Mem before-during-after: 22687232 22838272 22687232\n"
     ]
    },
    {
     "name": "stderr",
     "output_type": "stream",
     "text": [
      "  5%|█▋                                 | 0.4811428571428534/10 [02:13<42:52, 270.26s/it]"
     ]
    },
    {
     "name": "stdout",
     "output_type": "stream",
     "text": [
      "Train Epoch: 1 [13440/22400 (60%)]\tLoss: 0.688421\n",
      "Mem before-during-after: 22687232 22838272 22687232\n"
     ]
    },
    {
     "name": "stderr",
     "output_type": "stream",
     "text": [
      "  5%|█▊                                 | 0.5039999999999957/10 [02:20<43:29, 274.83s/it]"
     ]
    },
    {
     "name": "stdout",
     "output_type": "stream",
     "text": [
      "Train Epoch: 1 [14080/22400 (63%)]\tLoss: 1.419376\n",
      "Mem before-during-after: 22687232 22838272 22687232\n"
     ]
    },
    {
     "name": "stderr",
     "output_type": "stream",
     "text": [
      "  5%|█▊                                 | 0.5268571428571379/10 [02:26<43:35, 276.12s/it]"
     ]
    },
    {
     "name": "stdout",
     "output_type": "stream",
     "text": [
      "Train Epoch: 1 [14720/22400 (66%)]\tLoss: 1.095944\n",
      "Mem before-during-after: 22687232 22838272 22687232\n"
     ]
    },
    {
     "name": "stderr",
     "output_type": "stream",
     "text": [
      "  5%|█▉                                 | 0.5497142857142802/10 [02:33<43:06, 273.73s/it]"
     ]
    },
    {
     "name": "stdout",
     "output_type": "stream",
     "text": [
      "Train Epoch: 1 [15360/22400 (69%)]\tLoss: 0.751008\n",
      "Mem before-during-after: 22687232 22838272 22687232\n"
     ]
    },
    {
     "name": "stderr",
     "output_type": "stream",
     "text": [
      "  6%|█▉                               | 0.5719999999999938/10 [02:41<1:27:21, 555.92s/it]"
     ]
    },
    {
     "name": "stdout",
     "output_type": "stream",
     "text": [
      "Train Epoch: 1 [16000/22400 (71%)]\tLoss: 1.051973\n",
      "Mem before-during-after: 22687232 22838272 22687232\n"
     ]
    },
    {
     "name": "stderr",
     "output_type": "stream",
     "text": [
      "  6%|██                                 | 0.5954285714285646/10 [02:47<43:19, 276.37s/it]"
     ]
    },
    {
     "name": "stdout",
     "output_type": "stream",
     "text": [
      "Train Epoch: 1 [16640/22400 (74%)]\tLoss: 0.490873\n",
      "Mem before-during-after: 22687232 22838272 22687232\n"
     ]
    },
    {
     "name": "stderr",
     "output_type": "stream",
     "text": [
      "  6%|██▏                                | 0.6182857142857069/10 [02:54<43:10, 276.12s/it]"
     ]
    },
    {
     "name": "stdout",
     "output_type": "stream",
     "text": [
      "Train Epoch: 1 [17280/22400 (77%)]\tLoss: 0.784766\n",
      "Mem before-during-after: 22687232 22838272 22687232\n"
     ]
    },
    {
     "name": "stderr",
     "output_type": "stream",
     "text": [
      "  6%|██▏                                | 0.6411428571428491/10 [03:00<42:11, 270.44s/it]"
     ]
    },
    {
     "name": "stdout",
     "output_type": "stream",
     "text": [
      "Train Epoch: 1 [17920/22400 (80%)]\tLoss: 0.568159\n",
      "Mem before-during-after: 22687232 22838272 22687232\n"
     ]
    },
    {
     "name": "stderr",
     "output_type": "stream",
     "text": [
      "  7%|██▎                                | 0.6639999999999914/10 [03:06<43:55, 282.30s/it]"
     ]
    },
    {
     "name": "stdout",
     "output_type": "stream",
     "text": [
      "Train Epoch: 1 [18560/22400 (83%)]\tLoss: 0.724451\n",
      "Mem before-during-after: 22687232 22838272 22687232\n"
     ]
    },
    {
     "name": "stderr",
     "output_type": "stream",
     "text": [
      "  7%|██▍                                | 0.6868571428571336/10 [03:12<41:56, 270.20s/it]"
     ]
    },
    {
     "name": "stdout",
     "output_type": "stream",
     "text": [
      "Train Epoch: 1 [19200/22400 (86%)]\tLoss: 0.632790\n",
      "Mem before-during-after: 22687232 22838272 22687232\n"
     ]
    },
    {
     "name": "stderr",
     "output_type": "stream",
     "text": [
      "  7%|██▍                                | 0.7097142857142759/10 [03:19<45:38, 294.79s/it]"
     ]
    },
    {
     "name": "stdout",
     "output_type": "stream",
     "text": [
      "Train Epoch: 1 [19840/22400 (89%)]\tLoss: 0.424723\n",
      "Mem before-during-after: 22687232 22838272 22687232\n"
     ]
    },
    {
     "name": "stderr",
     "output_type": "stream",
     "text": [
      "  7%|██▌                                | 0.7325714285714181/10 [03:25<41:02, 265.73s/it]"
     ]
    },
    {
     "name": "stdout",
     "output_type": "stream",
     "text": [
      "Train Epoch: 1 [20480/22400 (91%)]\tLoss: 1.436105\n",
      "Mem before-during-after: 22687232 22838272 22687232\n"
     ]
    },
    {
     "name": "stderr",
     "output_type": "stream",
     "text": [
      "  8%|██▋                                | 0.7554285714285603/10 [03:31<40:46, 264.62s/it]"
     ]
    },
    {
     "name": "stdout",
     "output_type": "stream",
     "text": [
      "Train Epoch: 1 [21120/22400 (94%)]\tLoss: 0.498640\n",
      "Mem before-during-after: 22687232 22838272 22687232\n"
     ]
    },
    {
     "name": "stderr",
     "output_type": "stream",
     "text": [
      "  8%|██▋                                | 0.7782857142857026/10 [03:37<47:39, 310.03s/it]"
     ]
    },
    {
     "name": "stdout",
     "output_type": "stream",
     "text": [
      "Train Epoch: 1 [21760/22400 (97%)]\tLoss: 0.735917\n",
      "Mem before-during-after: 22687232 22838272 22687232\n"
     ]
    },
    {
     "name": "stderr",
     "output_type": "stream",
     "text": [
      " 10%|███▌                                | 1.000571428571411/10 [04:39<40:26, 269.59s/it]"
     ]
    },
    {
     "name": "stdout",
     "output_type": "stream",
     "text": [
      "\n",
      "Test Epoch: 1\tAccuracy: 4510/5600 (81%)\n",
      "\n",
      "Train Epoch: 2 [0/22400 (0%)]\tLoss: 0.319928\n",
      "Mem before-during-after: 22686208 22838272 22687232\n"
     ]
    },
    {
     "name": "stderr",
     "output_type": "stream",
     "text": [
      " 10%|███▌                               | 1.0239999999999863/10 [04:45<42:43, 285.63s/it]"
     ]
    },
    {
     "name": "stdout",
     "output_type": "stream",
     "text": [
      "Train Epoch: 2 [640/22400 (3%)]\tLoss: 0.433840\n",
      "Mem before-during-after: 22687232 22838272 22687232\n"
     ]
    },
    {
     "name": "stderr",
     "output_type": "stream",
     "text": [
      " 10%|███▊                                | 1.046857142857133/10 [04:52<39:59, 267.99s/it]"
     ]
    },
    {
     "name": "stdout",
     "output_type": "stream",
     "text": [
      "Train Epoch: 2 [1280/22400 (6%)]\tLoss: 0.560765\n",
      "Mem before-during-after: 22687232 22838272 22687232\n"
     ]
    },
    {
     "name": "stderr",
     "output_type": "stream",
     "text": [
      " 11%|███▋                               | 1.0697142857142796/10 [04:58<39:59, 268.68s/it]"
     ]
    },
    {
     "name": "stdout",
     "output_type": "stream",
     "text": [
      "Train Epoch: 2 [1920/22400 (9%)]\tLoss: 0.211744\n",
      "Mem before-during-after: 22687232 22838272 22687232\n"
     ]
    },
    {
     "name": "stderr",
     "output_type": "stream",
     "text": [
      " 11%|███▊                               | 1.0925714285714263/10 [05:04<39:13, 264.20s/it]"
     ]
    },
    {
     "name": "stdout",
     "output_type": "stream",
     "text": [
      "Train Epoch: 2 [2560/22400 (11%)]\tLoss: 0.207409\n",
      "Mem before-during-after: 22687232 22838272 22687232\n"
     ]
    },
    {
     "name": "stderr",
     "output_type": "stream",
     "text": [
      " 11%|████                                | 1.115428571428573/10 [05:11<40:49, 275.73s/it]"
     ]
    },
    {
     "name": "stdout",
     "output_type": "stream",
     "text": [
      "Train Epoch: 2 [3200/22400 (14%)]\tLoss: 0.390615\n",
      "Mem before-during-after: 22687232 22838272 22687232\n"
     ]
    },
    {
     "name": "stderr",
     "output_type": "stream",
     "text": [
      " 11%|███▉                               | 1.1382857142857197/10 [05:17<39:13, 265.56s/it]"
     ]
    },
    {
     "name": "stdout",
     "output_type": "stream",
     "text": [
      "Train Epoch: 2 [3840/22400 (17%)]\tLoss: 0.736050\n",
      "Mem before-during-after: 22687232 22838272 22687232\n"
     ]
    },
    {
     "name": "stderr",
     "output_type": "stream",
     "text": [
      " 12%|████                               | 1.1611428571428664/10 [05:23<40:49, 277.14s/it]"
     ]
    },
    {
     "name": "stdout",
     "output_type": "stream",
     "text": [
      "Train Epoch: 2 [4480/22400 (20%)]\tLoss: 0.587124\n",
      "Mem before-during-after: 22687232 22838272 22687232\n"
     ]
    },
    {
     "name": "stderr",
     "output_type": "stream",
     "text": [
      " 12%|████▎                               | 1.184000000000013/10 [05:30<39:20, 267.73s/it]"
     ]
    },
    {
     "name": "stdout",
     "output_type": "stream",
     "text": [
      "Train Epoch: 2 [5120/22400 (23%)]\tLoss: 0.357630\n",
      "Mem before-during-after: 22687232 22838272 22687232\n"
     ]
    },
    {
     "name": "stderr",
     "output_type": "stream",
     "text": [
      " 12%|████▏                              | 1.2068571428571597/10 [05:36<39:14, 267.74s/it]"
     ]
    },
    {
     "name": "stdout",
     "output_type": "stream",
     "text": [
      "Train Epoch: 2 [5760/22400 (26%)]\tLoss: 0.247464\n",
      "Mem before-during-after: 22687232 22838272 22687232\n"
     ]
    },
    {
     "name": "stderr",
     "output_type": "stream",
     "text": [
      " 12%|████▎                              | 1.2297142857143064/10 [05:42<39:37, 271.10s/it]"
     ]
    },
    {
     "name": "stdout",
     "output_type": "stream",
     "text": [
      "Train Epoch: 2 [6400/22400 (29%)]\tLoss: 0.202037\n",
      "Mem before-during-after: 22687232 22838272 22687232\n"
     ]
    },
    {
     "name": "stderr",
     "output_type": "stream",
     "text": [
      " 13%|████▌                               | 1.252571428571453/10 [05:49<40:23, 277.10s/it]"
     ]
    },
    {
     "name": "stdout",
     "output_type": "stream",
     "text": [
      "Train Epoch: 2 [7040/22400 (31%)]\tLoss: 0.481767\n",
      "Mem before-during-after: 22687232 22838272 22687232\n"
     ]
    },
    {
     "name": "stderr",
     "output_type": "stream",
     "text": [
      " 13%|████▍                              | 1.2754285714285998/10 [05:55<43:33, 299.52s/it]"
     ]
    },
    {
     "name": "stdout",
     "output_type": "stream",
     "text": [
      "Train Epoch: 2 [7680/22400 (34%)]\tLoss: 0.466539\n",
      "Mem before-during-after: 22687232 22838272 22687232\n"
     ]
    },
    {
     "name": "stderr",
     "output_type": "stream",
     "text": [
      " 13%|████▌                              | 1.2982857142857465/10 [06:01<39:05, 269.53s/it]"
     ]
    },
    {
     "name": "stdout",
     "output_type": "stream",
     "text": [
      "Train Epoch: 2 [8320/22400 (37%)]\tLoss: 0.399740\n",
      "Mem before-during-after: 22687232 22838272 22687232\n"
     ]
    },
    {
     "name": "stderr",
     "output_type": "stream",
     "text": [
      " 13%|████▌                              | 1.3211428571428931/10 [06:08<39:05, 270.29s/it]"
     ]
    },
    {
     "name": "stdout",
     "output_type": "stream",
     "text": [
      "Train Epoch: 2 [8960/22400 (40%)]\tLoss: 0.777891\n",
      "Mem before-during-after: 22687232 22838272 22687232\n"
     ]
    },
    {
     "name": "stderr",
     "output_type": "stream",
     "text": [
      " 13%|████▋                              | 1.3440000000000398/10 [06:14<39:22, 272.95s/it]"
     ]
    },
    {
     "name": "stdout",
     "output_type": "stream",
     "text": [
      "Train Epoch: 2 [9600/22400 (43%)]\tLoss: 0.253300\n",
      "Mem before-during-after: 22687232 22838272 22687232\n"
     ]
    },
    {
     "name": "stderr",
     "output_type": "stream",
     "text": [
      " 14%|████▊                              | 1.3668571428571865/10 [06:20<38:51, 270.02s/it]"
     ]
    },
    {
     "name": "stdout",
     "output_type": "stream",
     "text": [
      "Train Epoch: 2 [10240/22400 (46%)]\tLoss: 0.213084\n",
      "Mem before-during-after: 22687232 22838272 22687232\n"
     ]
    },
    {
     "name": "stderr",
     "output_type": "stream",
     "text": [
      " 14%|████▊                              | 1.3897142857143332/10 [06:27<38:59, 271.73s/it]"
     ]
    },
    {
     "name": "stdout",
     "output_type": "stream",
     "text": [
      "Train Epoch: 2 [10880/22400 (49%)]\tLoss: 0.504393\n",
      "Mem before-during-after: 22687232 22838272 22687232\n"
     ]
    },
    {
     "name": "stderr",
     "output_type": "stream",
     "text": [
      " 14%|████▉                              | 1.4125714285714799/10 [06:33<38:57, 272.20s/it]"
     ]
    },
    {
     "name": "stdout",
     "output_type": "stream",
     "text": [
      "Train Epoch: 2 [11520/22400 (51%)]\tLoss: 0.262692\n",
      "Mem before-during-after: 22687232 22838272 22687232\n"
     ]
    },
    {
     "name": "stderr",
     "output_type": "stream",
     "text": [
      " 14%|█████                              | 1.4354285714286266/10 [06:39<38:00, 266.30s/it]"
     ]
    },
    {
     "name": "stdout",
     "output_type": "stream",
     "text": [
      "Train Epoch: 2 [12160/22400 (54%)]\tLoss: 0.344990\n",
      "Mem before-during-after: 22687232 22838272 22687232\n"
     ]
    },
    {
     "name": "stderr",
     "output_type": "stream",
     "text": [
      " 15%|█████                              | 1.4582857142857732/10 [06:46<37:13, 261.52s/it]"
     ]
    },
    {
     "name": "stdout",
     "output_type": "stream",
     "text": [
      "Train Epoch: 2 [12800/22400 (57%)]\tLoss: 0.411120\n",
      "Mem before-during-after: 22687232 22838272 22687232\n"
     ]
    },
    {
     "name": "stderr",
     "output_type": "stream",
     "text": [
      " 15%|█████▍                               | 1.48114285714292/10 [06:52<38:38, 272.20s/it]"
     ]
    },
    {
     "name": "stdout",
     "output_type": "stream",
     "text": [
      "Train Epoch: 2 [13440/22400 (60%)]\tLoss: 0.346010\n",
      "Mem before-during-after: 22687232 22838272 22687232\n"
     ]
    },
    {
     "name": "stderr",
     "output_type": "stream",
     "text": [
      " 15%|█████▍                              | 1.503428571428638/10 [06:58<40:22, 285.06s/it]"
     ]
    },
    {
     "name": "stdout",
     "output_type": "stream",
     "text": [
      "Train Epoch: 2 [14080/22400 (63%)]\tLoss: 0.364746\n",
      "Mem before-during-after: 22687232 22838272 22687232\n"
     ]
    },
    {
     "name": "stderr",
     "output_type": "stream",
     "text": [
      " 15%|█████▎                             | 1.5268571428572133/10 [07:05<37:43, 267.15s/it]"
     ]
    },
    {
     "name": "stdout",
     "output_type": "stream",
     "text": [
      "Train Epoch: 2 [14720/22400 (66%)]\tLoss: 0.337342\n",
      "Mem before-during-after: 22687232 22838272 22687232\n"
     ]
    },
    {
     "name": "stderr",
     "output_type": "stream",
     "text": [
      " 15%|█████▋                               | 1.54971428571436/10 [07:11<39:45, 282.25s/it]"
     ]
    },
    {
     "name": "stdout",
     "output_type": "stream",
     "text": [
      "Train Epoch: 2 [15360/22400 (69%)]\tLoss: 0.683066\n",
      "Mem before-during-after: 22687232 22838272 22687232\n"
     ]
    },
    {
     "name": "stderr",
     "output_type": "stream",
     "text": [
      " 16%|█████▌                             | 1.5725714285715067/10 [07:18<44:49, 319.15s/it]"
     ]
    },
    {
     "name": "stdout",
     "output_type": "stream",
     "text": [
      "Train Epoch: 2 [16000/22400 (71%)]\tLoss: 0.060542\n",
      "Mem before-during-after: 22687232 22838272 22687232\n"
     ]
    },
    {
     "name": "stderr",
     "output_type": "stream",
     "text": [
      " 16%|█████▌                             | 1.5954285714286534/10 [07:24<37:35, 268.37s/it]"
     ]
    },
    {
     "name": "stdout",
     "output_type": "stream",
     "text": [
      "Train Epoch: 2 [16640/22400 (74%)]\tLoss: 0.654287\n",
      "Mem before-during-after: 22687232 22838272 22687232\n"
     ]
    },
    {
     "name": "stderr",
     "output_type": "stream",
     "text": [
      " 16%|██████▏                               | 1.6182857142858/10 [07:30<37:04, 265.44s/it]"
     ]
    },
    {
     "name": "stdout",
     "output_type": "stream",
     "text": [
      "Train Epoch: 2 [17280/22400 (77%)]\tLoss: 0.248761\n",
      "Mem before-during-after: 22687232 22838272 22687232\n"
     ]
    },
    {
     "name": "stderr",
     "output_type": "stream",
     "text": [
      " 16%|█████▋                             | 1.6411428571429467/10 [07:37<39:38, 284.60s/it]"
     ]
    },
    {
     "name": "stdout",
     "output_type": "stream",
     "text": [
      "Train Epoch: 2 [17920/22400 (80%)]\tLoss: 0.823699\n",
      "Mem before-during-after: 22687232 22838272 22687232\n"
     ]
    },
    {
     "name": "stderr",
     "output_type": "stream",
     "text": [
      " 17%|█████▊                             | 1.6640000000000934/10 [07:43<37:12, 267.77s/it]"
     ]
    },
    {
     "name": "stdout",
     "output_type": "stream",
     "text": [
      "Train Epoch: 2 [18560/22400 (83%)]\tLoss: 0.516002\n",
      "Mem before-during-after: 22687232 22838272 22687232\n"
     ]
    },
    {
     "name": "stderr",
     "output_type": "stream",
     "text": [
      " 17%|██████▏                              | 1.68685714285724/10 [07:49<36:39, 264.61s/it]"
     ]
    },
    {
     "name": "stdout",
     "output_type": "stream",
     "text": [
      "Train Epoch: 2 [19200/22400 (86%)]\tLoss: 0.311251\n",
      "Mem before-during-after: 22687232 22838272 22687232\n"
     ]
    },
    {
     "name": "stderr",
     "output_type": "stream",
     "text": [
      " 17%|█████▉                             | 1.7097142857143868/10 [07:56<38:31, 278.78s/it]"
     ]
    },
    {
     "name": "stdout",
     "output_type": "stream",
     "text": [
      "Train Epoch: 2 [19840/22400 (89%)]\tLoss: 0.253063\n",
      "Mem before-during-after: 22687232 22838272 22687232\n"
     ]
    },
    {
     "name": "stderr",
     "output_type": "stream",
     "text": [
      " 17%|██████                             | 1.7320000000001048/10 [08:02<38:06, 276.59s/it]"
     ]
    },
    {
     "name": "stdout",
     "output_type": "stream",
     "text": [
      "Train Epoch: 2 [20480/22400 (91%)]\tLoss: 0.530760\n",
      "Mem before-during-after: 22687232 22838272 22687232\n"
     ]
    },
    {
     "name": "stderr",
     "output_type": "stream",
     "text": [
      " 18%|██████▏                            | 1.7554285714286801/10 [08:08<37:34, 273.40s/it]"
     ]
    },
    {
     "name": "stdout",
     "output_type": "stream",
     "text": [
      "Train Epoch: 2 [21120/22400 (94%)]\tLoss: 0.213546\n",
      "Mem before-during-after: 22687232 22838272 22687232\n"
     ]
    },
    {
     "name": "stderr",
     "output_type": "stream",
     "text": [
      " 18%|██████▏                            | 1.7782857142858268/10 [08:15<37:21, 272.60s/it]"
     ]
    },
    {
     "name": "stdout",
     "output_type": "stream",
     "text": [
      "Train Epoch: 2 [21760/22400 (97%)]\tLoss: 0.406254\n",
      "Mem before-during-after: 22687232 22838272 22687232\n"
     ]
    },
    {
     "name": "stderr",
     "output_type": "stream",
     "text": [
      " 20%|███████▏                            | 2.000571428571578/10 [09:17<37:07, 278.44s/it]"
     ]
    },
    {
     "name": "stdout",
     "output_type": "stream",
     "text": [
      "\n",
      "Test Epoch: 2\tAccuracy: 4890/5600 (87%)\n",
      "\n",
      "Train Epoch: 3 [0/22400 (0%)]\tLoss: 0.496041\n",
      "Mem before-during-after: 22686208 22838272 22687232\n"
     ]
    },
    {
     "name": "stderr",
     "output_type": "stream",
     "text": [
      " 20%|███████                            | 2.0240000000001444/10 [09:23<36:24, 273.90s/it]"
     ]
    },
    {
     "name": "stdout",
     "output_type": "stream",
     "text": [
      "Train Epoch: 3 [640/22400 (3%)]\tLoss: 0.165039\n",
      "Mem before-during-after: 22687232 22838272 22687232\n"
     ]
    },
    {
     "name": "stderr",
     "output_type": "stream",
     "text": [
      " 20%|███████▎                            | 2.046857142857282/10 [09:29<37:06, 279.89s/it]"
     ]
    },
    {
     "name": "stdout",
     "output_type": "stream",
     "text": [
      "Train Epoch: 3 [1280/22400 (6%)]\tLoss: 0.220505\n",
      "Mem before-during-after: 22687232 22838272 22687232\n"
     ]
    },
    {
     "name": "stderr",
     "output_type": "stream",
     "text": [
      " 21%|███████▋                             | 2.06971428571442/10 [09:35<35:38, 269.66s/it]"
     ]
    },
    {
     "name": "stdout",
     "output_type": "stream",
     "text": [
      "Train Epoch: 3 [1920/22400 (9%)]\tLoss: 0.142234\n",
      "Mem before-during-after: 22687232 22838272 22687232\n"
     ]
    },
    {
     "name": "stderr",
     "output_type": "stream",
     "text": [
      " 21%|███████▎                           | 2.0925714285715578/10 [09:42<36:19, 275.67s/it]"
     ]
    },
    {
     "name": "stdout",
     "output_type": "stream",
     "text": [
      "Train Epoch: 3 [2560/22400 (11%)]\tLoss: 0.258961\n",
      "Mem before-during-after: 22687232 22838272 22687232\n"
     ]
    },
    {
     "name": "stderr",
     "output_type": "stream",
     "text": [
      " 21%|███████▍                           | 2.1154285714286956/10 [09:48<37:45, 287.38s/it]"
     ]
    },
    {
     "name": "stdout",
     "output_type": "stream",
     "text": [
      "Train Epoch: 3 [3200/22400 (14%)]\tLoss: 0.210915\n",
      "Mem before-during-after: 22687232 22838272 22687232\n"
     ]
    },
    {
     "name": "stderr",
     "output_type": "stream",
     "text": [
      " 21%|███████▍                           | 2.1382857142858334/10 [09:55<37:25, 285.67s/it]"
     ]
    },
    {
     "name": "stdout",
     "output_type": "stream",
     "text": [
      "Train Epoch: 3 [3840/22400 (17%)]\tLoss: 0.200823\n",
      "Mem before-during-after: 22687232 22838272 22687232\n"
     ]
    },
    {
     "name": "stderr",
     "output_type": "stream",
     "text": [
      " 22%|███████▊                            | 2.161142857142971/10 [10:01<35:18, 270.23s/it]"
     ]
    },
    {
     "name": "stdout",
     "output_type": "stream",
     "text": [
      "Train Epoch: 3 [4480/22400 (20%)]\tLoss: 0.533078\n",
      "Mem before-during-after: 22687232 22838272 22687232\n"
     ]
    },
    {
     "name": "stderr",
     "output_type": "stream",
     "text": [
      " 22%|███████▊                            | 2.184000000000109/10 [10:07<36:20, 278.93s/it]"
     ]
    },
    {
     "name": "stdout",
     "output_type": "stream",
     "text": [
      "Train Epoch: 3 [5120/22400 (23%)]\tLoss: 0.504791\n",
      "Mem before-during-after: 22687232 22838272 22687232\n"
     ]
    },
    {
     "name": "stderr",
     "output_type": "stream",
     "text": [
      " 22%|███████▋                           | 2.2068571428572468/10 [10:14<35:16, 271.54s/it]"
     ]
    },
    {
     "name": "stdout",
     "output_type": "stream",
     "text": [
      "Train Epoch: 3 [5760/22400 (26%)]\tLoss: 0.669283\n",
      "Mem before-during-after: 22687232 22838272 22687232\n"
     ]
    },
    {
     "name": "stderr",
     "output_type": "stream",
     "text": [
      " 22%|███████▊                           | 2.2297142857143846/10 [10:20<35:07, 271.28s/it]"
     ]
    },
    {
     "name": "stdout",
     "output_type": "stream",
     "text": [
      "Train Epoch: 3 [6400/22400 (29%)]\tLoss: 0.119271\n",
      "Mem before-during-after: 22687232 22838272 22687232\n"
     ]
    },
    {
     "name": "stderr",
     "output_type": "stream",
     "text": [
      " 23%|███████▉                           | 2.2525714285715224/10 [10:26<36:43, 284.48s/it]"
     ]
    },
    {
     "name": "stdout",
     "output_type": "stream",
     "text": [
      "Train Epoch: 3 [7040/22400 (31%)]\tLoss: 0.062295\n",
      "Mem before-during-after: 22687232 22838272 22687232\n"
     ]
    },
    {
     "name": "stderr",
     "output_type": "stream",
     "text": [
      " 23%|████████▍                            | 2.27542857142866/10 [10:33<36:51, 286.26s/it]"
     ]
    },
    {
     "name": "stdout",
     "output_type": "stream",
     "text": [
      "Train Epoch: 3 [7680/22400 (34%)]\tLoss: 0.670080\n",
      "Mem before-during-after: 22687232 22838272 22687232\n"
     ]
    },
    {
     "name": "stderr",
     "output_type": "stream",
     "text": [
      " 23%|████████▎                           | 2.298285714285798/10 [10:39<36:27, 284.01s/it]"
     ]
    },
    {
     "name": "stdout",
     "output_type": "stream",
     "text": [
      "Train Epoch: 3 [8320/22400 (37%)]\tLoss: 0.103244\n",
      "Mem before-during-after: 22687232 22838272 22687232\n"
     ]
    },
    {
     "name": "stderr",
     "output_type": "stream",
     "text": [
      " 23%|████████▎                           | 2.321142857142936/10 [10:45<36:42, 286.84s/it]"
     ]
    },
    {
     "name": "stdout",
     "output_type": "stream",
     "text": [
      "Train Epoch: 3 [8960/22400 (40%)]\tLoss: 0.294202\n",
      "Mem before-during-after: 22687232 22838272 22687232\n"
     ]
    },
    {
     "name": "stderr",
     "output_type": "stream",
     "text": [
      " 23%|████████▏                          | 2.3440000000000736/10 [10:52<35:45, 280.25s/it]"
     ]
    },
    {
     "name": "stdout",
     "output_type": "stream",
     "text": [
      "Train Epoch: 3 [9600/22400 (43%)]\tLoss: 0.126487\n",
      "Mem before-during-after: 22687232 22838272 22687232\n"
     ]
    },
    {
     "name": "stderr",
     "output_type": "stream",
     "text": [
      " 24%|████████▎                          | 2.3668571428572114/10 [10:58<35:57, 282.59s/it]"
     ]
    },
    {
     "name": "stdout",
     "output_type": "stream",
     "text": [
      "Train Epoch: 3 [10240/22400 (46%)]\tLoss: 0.138655\n",
      "Mem before-during-after: 22687232 22838272 22687232\n"
     ]
    },
    {
     "name": "stderr",
     "output_type": "stream",
     "text": [
      " 24%|████████▌                           | 2.389714285714349/10 [11:05<39:57, 315.09s/it]"
     ]
    },
    {
     "name": "stdout",
     "output_type": "stream",
     "text": [
      "Train Epoch: 3 [10880/22400 (49%)]\tLoss: 0.203103\n",
      "Mem before-during-after: 22687232 22838272 22687232\n"
     ]
    },
    {
     "name": "stderr",
     "output_type": "stream",
     "text": [
      " 24%|████████▋                           | 2.412571428571487/10 [11:11<34:16, 271.10s/it]"
     ]
    },
    {
     "name": "stdout",
     "output_type": "stream",
     "text": [
      "Train Epoch: 3 [11520/22400 (51%)]\tLoss: 0.128519\n",
      "Mem before-during-after: 22687232 22838272 22687232\n"
     ]
    },
    {
     "name": "stderr",
     "output_type": "stream",
     "text": [
      " 24%|████████▊                           | 2.435428571428625/10 [11:17<33:42, 267.35s/it]"
     ]
    },
    {
     "name": "stdout",
     "output_type": "stream",
     "text": [
      "Train Epoch: 3 [12160/22400 (54%)]\tLoss: 0.077783\n",
      "Mem before-during-after: 22687232 22838272 22687232\n"
     ]
    },
    {
     "name": "stderr",
     "output_type": "stream",
     "text": [
      " 25%|████████▌                          | 2.4582857142857626/10 [11:24<46:26, 369.42s/it]"
     ]
    },
    {
     "name": "stdout",
     "output_type": "stream",
     "text": [
      "Train Epoch: 3 [12800/22400 (57%)]\tLoss: 0.357522\n",
      "Mem before-during-after: 22687232 22838272 22687232\n"
     ]
    },
    {
     "name": "stderr",
     "output_type": "stream",
     "text": [
      " 25%|████████▋                          | 2.4811428571429004/10 [11:30<34:15, 273.40s/it]"
     ]
    },
    {
     "name": "stdout",
     "output_type": "stream",
     "text": [
      "Train Epoch: 3 [13440/22400 (60%)]\tLoss: 1.638530\n",
      "Mem before-during-after: 22687232 22838272 22687232\n"
     ]
    },
    {
     "name": "stderr",
     "output_type": "stream",
     "text": [
      " 25%|█████████                           | 2.504000000000038/10 [11:37<34:09, 273.47s/it]"
     ]
    },
    {
     "name": "stdout",
     "output_type": "stream",
     "text": [
      "Train Epoch: 3 [14080/22400 (63%)]\tLoss: 0.520958\n",
      "Mem before-during-after: 22687232 22838272 22687232\n"
     ]
    },
    {
     "name": "stderr",
     "output_type": "stream",
     "text": [
      " 25%|█████████                           | 2.526857142857176/10 [11:43<37:32, 301.40s/it]"
     ]
    },
    {
     "name": "stdout",
     "output_type": "stream",
     "text": [
      "Train Epoch: 3 [14720/22400 (66%)]\tLoss: 0.338827\n",
      "Mem before-during-after: 22687232 22838272 22687232\n"
     ]
    },
    {
     "name": "stderr",
     "output_type": "stream",
     "text": [
      " 25%|█████████▏                          | 2.549714285714314/10 [11:49<34:41, 279.44s/it]"
     ]
    },
    {
     "name": "stdout",
     "output_type": "stream",
     "text": [
      "Train Epoch: 3 [15360/22400 (69%)]\tLoss: 1.187087\n",
      "Mem before-during-after: 22687232 22838272 22687232\n"
     ]
    },
    {
     "name": "stderr",
     "output_type": "stream",
     "text": [
      " 26%|█████████                          | 2.5725714285714516/10 [11:56<34:28, 278.48s/it]"
     ]
    },
    {
     "name": "stdout",
     "output_type": "stream",
     "text": [
      "Train Epoch: 3 [16000/22400 (71%)]\tLoss: 0.199959\n",
      "Mem before-during-after: 22687232 22838272 22687232\n"
     ]
    },
    {
     "name": "stderr",
     "output_type": "stream",
     "text": [
      " 26%|█████████                          | 2.5954285714285894/10 [12:02<38:03, 308.41s/it]"
     ]
    },
    {
     "name": "stdout",
     "output_type": "stream",
     "text": [
      "Train Epoch: 3 [16640/22400 (74%)]\tLoss: 0.359842\n",
      "Mem before-during-after: 22687232 22838272 22687232\n"
     ]
    },
    {
     "name": "stderr",
     "output_type": "stream",
     "text": [
      " 26%|█████████▍                          | 2.618285714285727/10 [12:08<33:20, 271.08s/it]"
     ]
    },
    {
     "name": "stdout",
     "output_type": "stream",
     "text": [
      "Train Epoch: 3 [17280/22400 (77%)]\tLoss: 0.470015\n",
      "Mem before-during-after: 22687232 22838272 22687232\n"
     ]
    },
    {
     "name": "stderr",
     "output_type": "stream",
     "text": [
      " 26%|█████████▌                          | 2.641142857142865/10 [12:15<34:13, 279.01s/it]"
     ]
    },
    {
     "name": "stdout",
     "output_type": "stream",
     "text": [
      "Train Epoch: 3 [17920/22400 (80%)]\tLoss: 0.616304\n",
      "Mem before-during-after: 22687232 22838272 22687232\n"
     ]
    },
    {
     "name": "stderr",
     "output_type": "stream",
     "text": [
      " 27%|█████████▎                         | 2.6634285714285744/10 [12:21<33:34, 274.57s/it]"
     ]
    },
    {
     "name": "stdout",
     "output_type": "stream",
     "text": [
      "Train Epoch: 3 [18560/22400 (83%)]\tLoss: 0.093861\n",
      "Mem before-during-after: 22687232 22838272 22687232\n"
     ]
    },
    {
     "name": "stderr",
     "output_type": "stream",
     "text": [
      " 27%|█████████▍                         | 2.6868571428571406/10 [12:28<34:30, 283.10s/it]"
     ]
    },
    {
     "name": "stdout",
     "output_type": "stream",
     "text": [
      "Train Epoch: 3 [19200/22400 (86%)]\tLoss: 0.142697\n",
      "Mem before-during-after: 22687232 22838272 22687232\n"
     ]
    },
    {
     "name": "stderr",
     "output_type": "stream",
     "text": [
      " 27%|█████████▍                         | 2.7097142857142784/10 [12:34<34:59, 287.94s/it]"
     ]
    },
    {
     "name": "stdout",
     "output_type": "stream",
     "text": [
      "Train Epoch: 3 [19840/22400 (89%)]\tLoss: 0.222497\n",
      "Mem before-during-after: 22687232 22838272 22687232\n"
     ]
    },
    {
     "name": "stderr",
     "output_type": "stream",
     "text": [
      " 27%|█████████▊                          | 2.732571428571416/10 [12:41<34:26, 284.37s/it]"
     ]
    },
    {
     "name": "stdout",
     "output_type": "stream",
     "text": [
      "Train Epoch: 3 [20480/22400 (91%)]\tLoss: 0.219686\n",
      "Mem before-during-after: 22687232 22838272 22687232\n"
     ]
    },
    {
     "name": "stderr",
     "output_type": "stream",
     "text": [
      " 28%|█████████▉                          | 2.755428571428554/10 [12:47<32:57, 272.92s/it]"
     ]
    },
    {
     "name": "stdout",
     "output_type": "stream",
     "text": [
      "Train Epoch: 3 [21120/22400 (94%)]\tLoss: 0.194220\n",
      "Mem before-during-after: 22687232 22838272 22687232\n"
     ]
    },
    {
     "name": "stderr",
     "output_type": "stream",
     "text": [
      " 28%|██████████                          | 2.778285714285692/10 [12:53<32:44, 271.96s/it]"
     ]
    },
    {
     "name": "stdout",
     "output_type": "stream",
     "text": [
      "Train Epoch: 3 [21760/22400 (97%)]\tLoss: 0.100678\n",
      "Mem before-during-after: 22687232 22838272 22687232\n"
     ]
    },
    {
     "name": "stderr",
     "output_type": "stream",
     "text": [
      " 30%|██████████▊                         | 3.000571428571357/10 [13:54<31:08, 266.92s/it]"
     ]
    },
    {
     "name": "stdout",
     "output_type": "stream",
     "text": [
      "\n",
      "Test Epoch: 3\tAccuracy: 5122/5600 (91%)\n",
      "\n",
      "Train Epoch: 4 [0/22400 (0%)]\tLoss: 0.132306\n",
      "Mem before-during-after: 22686208 22838272 22687232\n"
     ]
    },
    {
     "name": "stderr",
     "output_type": "stream",
     "text": [
      " 30%|██████████▉                         | 3.023999999999923/10 [14:01<31:29, 270.93s/it]"
     ]
    },
    {
     "name": "stdout",
     "output_type": "stream",
     "text": [
      "Train Epoch: 4 [640/22400 (3%)]\tLoss: 0.025578\n",
      "Mem before-during-after: 22687232 22838272 22687232\n"
     ]
    },
    {
     "name": "stderr",
     "output_type": "stream",
     "text": [
      " 30%|██████████▉                         | 3.046857142857061/10 [14:07<33:18, 287.44s/it]"
     ]
    },
    {
     "name": "stdout",
     "output_type": "stream",
     "text": [
      "Train Epoch: 4 [1280/22400 (6%)]\tLoss: 0.683674\n",
      "Mem before-during-after: 22687232 22838272 22687232\n"
     ]
    },
    {
     "name": "stderr",
     "output_type": "stream",
     "text": [
      " 31%|███████████                         | 3.069714285714199/10 [14:13<31:32, 273.08s/it]"
     ]
    },
    {
     "name": "stdout",
     "output_type": "stream",
     "text": [
      "Train Epoch: 4 [1920/22400 (9%)]\tLoss: 0.107976\n",
      "Mem before-during-after: 22687232 22838272 22687232\n"
     ]
    },
    {
     "name": "stderr",
     "output_type": "stream",
     "text": [
      " 31%|██████████▊                        | 3.0925714285713366/10 [14:20<30:46, 267.36s/it]"
     ]
    },
    {
     "name": "stdout",
     "output_type": "stream",
     "text": [
      "Train Epoch: 4 [2560/22400 (11%)]\tLoss: 0.312042\n",
      "Mem before-during-after: 22687232 22838272 22687232\n"
     ]
    },
    {
     "name": "stderr",
     "output_type": "stream",
     "text": [
      " 31%|██████████▉                        | 3.1154285714284744/10 [14:26<33:39, 293.34s/it]"
     ]
    },
    {
     "name": "stdout",
     "output_type": "stream",
     "text": [
      "Train Epoch: 4 [3200/22400 (14%)]\tLoss: 0.466500\n",
      "Mem before-during-after: 22687232 22838272 22687232\n"
     ]
    },
    {
     "name": "stderr",
     "output_type": "stream",
     "text": [
      " 31%|███████████▎                        | 3.138285714285612/10 [14:32<30:52, 269.98s/it]"
     ]
    },
    {
     "name": "stdout",
     "output_type": "stream",
     "text": [
      "Train Epoch: 4 [3840/22400 (17%)]\tLoss: 0.254689\n",
      "Mem before-during-after: 22687232 22838272 22687232\n"
     ]
    },
    {
     "name": "stderr",
     "output_type": "stream",
     "text": [
      " 32%|███████████▋                         | 3.16114285714275/10 [14:39<30:31, 267.77s/it]"
     ]
    },
    {
     "name": "stdout",
     "output_type": "stream",
     "text": [
      "Train Epoch: 4 [4480/22400 (20%)]\tLoss: 0.464914\n",
      "Mem before-during-after: 22687232 22838272 22687232\n"
     ]
    },
    {
     "name": "stderr",
     "output_type": "stream",
     "text": [
      " 32%|███████████▍                        | 3.183999999999888/10 [14:45<32:14, 283.79s/it]"
     ]
    },
    {
     "name": "stdout",
     "output_type": "stream",
     "text": [
      "Train Epoch: 4 [5120/22400 (23%)]\tLoss: 0.143410\n",
      "Mem before-during-after: 22687232 22838272 22687232\n"
     ]
    },
    {
     "name": "stderr",
     "output_type": "stream",
     "text": [
      " 32%|███████████▏                       | 3.2068571428570256/10 [14:51<31:22, 277.07s/it]"
     ]
    },
    {
     "name": "stdout",
     "output_type": "stream",
     "text": [
      "Train Epoch: 4 [5760/22400 (26%)]\tLoss: 0.320125\n",
      "Mem before-during-after: 22687232 22838272 22687232\n"
     ]
    },
    {
     "name": "stderr",
     "output_type": "stream",
     "text": [
      " 32%|███████████▎                       | 3.2297142857141634/10 [14:58<30:31, 270.52s/it]"
     ]
    },
    {
     "name": "stdout",
     "output_type": "stream",
     "text": [
      "Train Epoch: 4 [6400/22400 (29%)]\tLoss: 0.444783\n",
      "Mem before-during-after: 22687232 22838272 22687232\n"
     ]
    },
    {
     "name": "stderr",
     "output_type": "stream",
     "text": [
      " 33%|███████████▋                        | 3.252571428571301/10 [15:04<31:20, 278.69s/it]"
     ]
    },
    {
     "name": "stdout",
     "output_type": "stream",
     "text": [
      "Train Epoch: 4 [7040/22400 (31%)]\tLoss: 0.144973\n",
      "Mem before-during-after: 22687232 22838272 22687232\n"
     ]
    },
    {
     "name": "stderr",
     "output_type": "stream",
     "text": [
      " 33%|███████████▊                        | 3.275428571428439/10 [15:10<31:22, 280.00s/it]"
     ]
    },
    {
     "name": "stdout",
     "output_type": "stream",
     "text": [
      "Train Epoch: 4 [7680/22400 (34%)]\tLoss: 0.220906\n",
      "Mem before-during-after: 22687232 22838272 22687232\n"
     ]
    },
    {
     "name": "stderr",
     "output_type": "stream",
     "text": [
      " 33%|███████████▊                        | 3.298285714285577/10 [15:17<30:43, 275.12s/it]"
     ]
    },
    {
     "name": "stdout",
     "output_type": "stream",
     "text": [
      "Train Epoch: 4 [8320/22400 (37%)]\tLoss: 0.709411\n",
      "Mem before-during-after: 22687232 22838272 22687232\n"
     ]
    },
    {
     "name": "stderr",
     "output_type": "stream",
     "text": [
      " 33%|███████████▌                       | 3.3211428571427146/10 [15:23<31:20, 281.58s/it]"
     ]
    },
    {
     "name": "stdout",
     "output_type": "stream",
     "text": [
      "Train Epoch: 4 [8960/22400 (40%)]\tLoss: 0.068310\n",
      "Mem before-during-after: 22687232 22838272 22687232\n"
     ]
    },
    {
     "name": "stderr",
     "output_type": "stream",
     "text": [
      " 33%|███████████▋                       | 3.3439999999998524/10 [15:30<31:00, 279.58s/it]"
     ]
    },
    {
     "name": "stdout",
     "output_type": "stream",
     "text": [
      "Train Epoch: 4 [9600/22400 (43%)]\tLoss: 0.337170\n",
      "Mem before-during-after: 22687232 22838272 22687232\n"
     ]
    },
    {
     "name": "stderr",
     "output_type": "stream",
     "text": [
      " 34%|███████████▊                       | 3.3668571428569902/10 [15:36<29:39, 268.21s/it]"
     ]
    },
    {
     "name": "stdout",
     "output_type": "stream",
     "text": [
      "Train Epoch: 4 [10240/22400 (46%)]\tLoss: 0.172358\n",
      "Mem before-during-after: 22687232 22838272 22687232\n"
     ]
    },
    {
     "name": "stderr",
     "output_type": "stream",
     "text": [
      " 34%|███████████▊                       | 3.3891428571426996/10 [15:42<30:17, 274.91s/it]"
     ]
    },
    {
     "name": "stdout",
     "output_type": "stream",
     "text": [
      "Train Epoch: 4 [10880/22400 (49%)]\tLoss: 0.067241\n",
      "Mem before-during-after: 22687232 22838272 22687232\n"
     ]
    },
    {
     "name": "stderr",
     "output_type": "stream",
     "text": [
      " 34%|████████████▎                       | 3.412571428571266/10 [15:49<30:29, 277.80s/it]"
     ]
    },
    {
     "name": "stdout",
     "output_type": "stream",
     "text": [
      "Train Epoch: 4 [11520/22400 (51%)]\tLoss: 0.518534\n",
      "Mem before-during-after: 22687232 22838272 22687232\n"
     ]
    },
    {
     "name": "stderr",
     "output_type": "stream",
     "text": [
      " 34%|████████████                       | 3.4354285714284036/10 [15:55<29:32, 269.95s/it]"
     ]
    },
    {
     "name": "stdout",
     "output_type": "stream",
     "text": [
      "Train Epoch: 4 [12160/22400 (54%)]\tLoss: 0.255851\n",
      "Mem before-during-after: 22687232 22838272 22687232\n"
     ]
    },
    {
     "name": "stderr",
     "output_type": "stream",
     "text": [
      " 35%|████████████                       | 3.4582857142855414/10 [16:02<31:18, 287.18s/it]"
     ]
    },
    {
     "name": "stdout",
     "output_type": "stream",
     "text": [
      "Train Epoch: 4 [12800/22400 (57%)]\tLoss: 0.580022\n",
      "Mem before-during-after: 22687232 22838272 22687232\n"
     ]
    },
    {
     "name": "stderr",
     "output_type": "stream",
     "text": [
      " 35%|████████████▏                      | 3.4811428571426792/10 [16:08<29:55, 275.43s/it]"
     ]
    },
    {
     "name": "stdout",
     "output_type": "stream",
     "text": [
      "Train Epoch: 4 [13440/22400 (60%)]\tLoss: 0.562881\n",
      "Mem before-during-after: 22687232 22838272 22687232\n"
     ]
    },
    {
     "name": "stderr",
     "output_type": "stream",
     "text": [
      " 35%|████████████▌                       | 3.503999999999817/10 [16:14<30:20, 280.21s/it]"
     ]
    },
    {
     "name": "stdout",
     "output_type": "stream",
     "text": [
      "Train Epoch: 4 [14080/22400 (63%)]\tLoss: 0.226479\n",
      "Mem before-during-after: 22687232 22838272 22687232\n"
     ]
    },
    {
     "name": "stderr",
     "output_type": "stream",
     "text": [
      " 35%|████████████▋                       | 3.526857142856955/10 [16:21<29:22, 272.32s/it]"
     ]
    },
    {
     "name": "stdout",
     "output_type": "stream",
     "text": [
      "Train Epoch: 4 [14720/22400 (66%)]\tLoss: 0.295951\n",
      "Mem before-during-after: 22687232 22838272 22687232\n"
     ]
    },
    {
     "name": "stderr",
     "output_type": "stream",
     "text": [
      " 35%|████████████▍                      | 3.5497142857140926/10 [16:27<29:14, 272.02s/it]"
     ]
    },
    {
     "name": "stdout",
     "output_type": "stream",
     "text": [
      "Train Epoch: 4 [15360/22400 (69%)]\tLoss: 0.613167\n",
      "Mem before-during-after: 22687232 22838272 22687232\n"
     ]
    },
    {
     "name": "stderr",
     "output_type": "stream",
     "text": [
      " 36%|████████████▌                      | 3.5725714285712304/10 [16:33<31:12, 291.36s/it]"
     ]
    },
    {
     "name": "stdout",
     "output_type": "stream",
     "text": [
      "Train Epoch: 4 [16000/22400 (71%)]\tLoss: 0.315641\n",
      "Mem before-during-after: 22687232 22838272 22687232\n"
     ]
    },
    {
     "name": "stderr",
     "output_type": "stream",
     "text": [
      " 36%|████████████▌                      | 3.5954285714283682/10 [16:39<28:45, 269.44s/it]"
     ]
    },
    {
     "name": "stdout",
     "output_type": "stream",
     "text": [
      "Train Epoch: 4 [16640/22400 (74%)]\tLoss: 0.804038\n",
      "Mem before-during-after: 22687232 22838272 22687232\n"
     ]
    },
    {
     "name": "stderr",
     "output_type": "stream",
     "text": [
      " 36%|█████████████                       | 3.618285714285506/10 [16:46<28:52, 271.45s/it]"
     ]
    },
    {
     "name": "stdout",
     "output_type": "stream",
     "text": [
      "Train Epoch: 4 [17280/22400 (77%)]\tLoss: 0.054233\n",
      "Mem before-during-after: 22687232 22838272 22687232\n"
     ]
    },
    {
     "name": "stderr",
     "output_type": "stream",
     "text": [
      " 36%|█████████████                       | 3.641142857142644/10 [16:52<28:04, 264.96s/it]"
     ]
    },
    {
     "name": "stdout",
     "output_type": "stream",
     "text": [
      "Train Epoch: 4 [17920/22400 (80%)]\tLoss: 0.414424\n",
      "Mem before-during-after: 22687232 22838272 22687232\n"
     ]
    },
    {
     "name": "stderr",
     "output_type": "stream",
     "text": [
      " 37%|████████████▊                      | 3.6639999999997817/10 [16:58<28:07, 266.36s/it]"
     ]
    },
    {
     "name": "stdout",
     "output_type": "stream",
     "text": [
      "Train Epoch: 4 [18560/22400 (83%)]\tLoss: 0.047291\n",
      "Mem before-during-after: 22687232 22838272 22687232\n"
     ]
    },
    {
     "name": "stderr",
     "output_type": "stream",
     "text": [
      " 37%|████████████▉                      | 3.6868571428569195/10 [17:05<28:51, 274.25s/it]"
     ]
    },
    {
     "name": "stdout",
     "output_type": "stream",
     "text": [
      "Train Epoch: 4 [19200/22400 (86%)]\tLoss: 0.362301\n",
      "Mem before-during-after: 22687232 22838272 22687232\n"
     ]
    },
    {
     "name": "stderr",
     "output_type": "stream",
     "text": [
      " 37%|████████████▉                      | 3.7097142857140573/10 [17:11<28:09, 268.60s/it]"
     ]
    },
    {
     "name": "stdout",
     "output_type": "stream",
     "text": [
      "Train Epoch: 4 [19840/22400 (89%)]\tLoss: 0.545290\n",
      "Mem before-during-after: 22687232 22838272 22687232\n"
     ]
    },
    {
     "name": "stderr",
     "output_type": "stream",
     "text": [
      " 37%|█████████████▍                      | 3.732571428571195/10 [17:18<28:21, 271.47s/it]"
     ]
    },
    {
     "name": "stdout",
     "output_type": "stream",
     "text": [
      "Train Epoch: 4 [20480/22400 (91%)]\tLoss: 0.226764\n",
      "Mem before-during-after: 22687232 22838272 22687232\n"
     ]
    },
    {
     "name": "stderr",
     "output_type": "stream",
     "text": [
      " 38%|█████████████▌                      | 3.755428571428333/10 [17:24<28:59, 278.56s/it]"
     ]
    },
    {
     "name": "stdout",
     "output_type": "stream",
     "text": [
      "Train Epoch: 4 [21120/22400 (94%)]\tLoss: 0.109384\n",
      "Mem before-during-after: 22687232 22838272 22687232\n"
     ]
    },
    {
     "name": "stderr",
     "output_type": "stream",
     "text": [
      " 38%|█████████████▏                     | 3.7782857142854707/10 [17:30<28:08, 271.42s/it]"
     ]
    },
    {
     "name": "stdout",
     "output_type": "stream",
     "text": [
      "Train Epoch: 4 [21760/22400 (97%)]\tLoss: 0.934934\n",
      "Mem before-during-after: 22687232 22838272 22687232\n"
     ]
    },
    {
     "name": "stderr",
     "output_type": "stream",
     "text": [
      " 40%|██████████████▍                     | 4.000571428571136/10 [18:32<27:16, 272.85s/it]"
     ]
    },
    {
     "name": "stdout",
     "output_type": "stream",
     "text": [
      "\n",
      "Test Epoch: 4\tAccuracy: 4998/5600 (89%)\n",
      "\n",
      "Train Epoch: 5 [0/22400 (0%)]\tLoss: 0.333681\n",
      "Mem before-during-after: 22686208 22838272 22687232\n"
     ]
    },
    {
     "name": "stderr",
     "output_type": "stream",
     "text": [
      " 40%|██████████████▉                      | 4.02399999999972/10 [18:39<26:57, 270.71s/it]"
     ]
    },
    {
     "name": "stdout",
     "output_type": "stream",
     "text": [
      "Train Epoch: 5 [640/22400 (3%)]\tLoss: 0.052781\n",
      "Mem before-during-after: 22687232 22838272 22687232\n"
     ]
    },
    {
     "name": "stderr",
     "output_type": "stream",
     "text": [
      " 40%|██████████████▌                     | 4.046857142856876/10 [18:45<27:02, 272.49s/it]"
     ]
    },
    {
     "name": "stdout",
     "output_type": "stream",
     "text": [
      "Train Epoch: 5 [1280/22400 (6%)]\tLoss: 0.452525\n",
      "Mem before-during-after: 22687232 22838272 22687232\n"
     ]
    },
    {
     "name": "stderr",
     "output_type": "stream",
     "text": [
      " 41%|██████████████▋                     | 4.069714285714031/10 [18:51<27:40, 279.99s/it]"
     ]
    },
    {
     "name": "stdout",
     "output_type": "stream",
     "text": [
      "Train Epoch: 5 [1920/22400 (9%)]\tLoss: 0.054240\n",
      "Mem before-during-after: 22687232 22838272 22687232\n"
     ]
    },
    {
     "name": "stderr",
     "output_type": "stream",
     "text": [
      " 41%|██████████████▋                     | 4.092571428571187/10 [18:58<26:23, 268.11s/it]"
     ]
    },
    {
     "name": "stdout",
     "output_type": "stream",
     "text": [
      "Train Epoch: 5 [2560/22400 (11%)]\tLoss: 0.097267\n",
      "Mem before-during-after: 22687232 22838272 22687232\n"
     ]
    },
    {
     "name": "stderr",
     "output_type": "stream",
     "text": [
      " 41%|██████████████▍                    | 4.1154285714283425/10 [19:04<26:52, 273.95s/it]"
     ]
    },
    {
     "name": "stdout",
     "output_type": "stream",
     "text": [
      "Train Epoch: 5 [3200/22400 (14%)]\tLoss: 0.286918\n",
      "Mem before-during-after: 22687232 22838272 22687232\n"
     ]
    },
    {
     "name": "stderr",
     "output_type": "stream",
     "text": [
      " 41%|██████████████▉                     | 4.138285714285498/10 [19:11<26:39, 272.81s/it]"
     ]
    },
    {
     "name": "stdout",
     "output_type": "stream",
     "text": [
      "Train Epoch: 5 [3840/22400 (17%)]\tLoss: 0.108193\n",
      "Mem before-during-after: 22687232 22838272 22687232\n"
     ]
    },
    {
     "name": "stderr",
     "output_type": "stream",
     "text": [
      " 42%|██████████████▉                     | 4.161142857142654/10 [19:17<26:17, 270.24s/it]"
     ]
    },
    {
     "name": "stdout",
     "output_type": "stream",
     "text": [
      "Train Epoch: 5 [4480/22400 (20%)]\tLoss: 0.330644\n",
      "Mem before-during-after: 22687232 22838272 22687232\n"
     ]
    },
    {
     "name": "stderr",
     "output_type": "stream",
     "text": [
      " 42%|███████████████                     | 4.183999999999809/10 [19:23<26:14, 270.66s/it]"
     ]
    },
    {
     "name": "stdout",
     "output_type": "stream",
     "text": [
      "Train Epoch: 5 [5120/22400 (23%)]\tLoss: 0.805146\n",
      "Mem before-during-after: 22687232 22838272 22687232\n"
     ]
    },
    {
     "name": "stderr",
     "output_type": "stream",
     "text": [
      " 42%|███████████████▏                    | 4.206857142856965/10 [19:30<26:34, 275.19s/it]"
     ]
    },
    {
     "name": "stdout",
     "output_type": "stream",
     "text": [
      "Train Epoch: 5 [5760/22400 (26%)]\tLoss: 0.006156\n",
      "Mem before-during-after: 22687232 22838272 22687232\n"
     ]
    },
    {
     "name": "stderr",
     "output_type": "stream",
     "text": [
      " 42%|██████████████▊                    | 4.2291428571426914/10 [19:36<26:11, 272.36s/it]"
     ]
    },
    {
     "name": "stdout",
     "output_type": "stream",
     "text": [
      "Train Epoch: 5 [6400/22400 (29%)]\tLoss: 0.263307\n",
      "Mem before-during-after: 22687232 22838272 22687232\n"
     ]
    },
    {
     "name": "stderr",
     "output_type": "stream",
     "text": [
      " 43%|███████████████▎                    | 4.252571428571276/10 [19:42<26:50, 280.24s/it]"
     ]
    },
    {
     "name": "stdout",
     "output_type": "stream",
     "text": [
      "Train Epoch: 5 [7040/22400 (31%)]\tLoss: 0.388295\n",
      "Mem before-during-after: 22687232 22838272 22687232\n"
     ]
    },
    {
     "name": "stderr",
     "output_type": "stream",
     "text": [
      " 43%|██████████████▉                    | 4.2754285714284315/10 [19:48<25:54, 271.62s/it]"
     ]
    },
    {
     "name": "stdout",
     "output_type": "stream",
     "text": [
      "Train Epoch: 5 [7680/22400 (34%)]\tLoss: 0.028247\n",
      "Mem before-during-after: 22687232 22838272 22687232\n"
     ]
    },
    {
     "name": "stderr",
     "output_type": "stream",
     "text": [
      " 43%|███████████████▍                    | 4.298285714285587/10 [19:55<28:53, 304.07s/it]"
     ]
    },
    {
     "name": "stdout",
     "output_type": "stream",
     "text": [
      "Train Epoch: 5 [8320/22400 (37%)]\tLoss: 0.426971\n",
      "Mem before-during-after: 22687232 22838272 22687232\n"
     ]
    },
    {
     "name": "stderr",
     "output_type": "stream",
     "text": [
      " 43%|███████████████▌                    | 4.321142857142743/10 [20:01<26:24, 278.98s/it]"
     ]
    },
    {
     "name": "stdout",
     "output_type": "stream",
     "text": [
      "Train Epoch: 5 [8960/22400 (40%)]\tLoss: 0.376024\n",
      "Mem before-during-after: 22687232 22838272 22687232\n"
     ]
    },
    {
     "name": "stderr",
     "output_type": "stream",
     "text": [
      " 43%|███████████████▋                    | 4.343999999999898/10 [20:08<26:50, 284.65s/it]"
     ]
    },
    {
     "name": "stdout",
     "output_type": "stream",
     "text": [
      "Train Epoch: 5 [9600/22400 (43%)]\tLoss: 0.226348\n",
      "Mem before-during-after: 22687232 22838272 22687232\n"
     ]
    },
    {
     "name": "stderr",
     "output_type": "stream",
     "text": [
      " 44%|███████████████▋                    | 4.366857142857054/10 [20:14<27:15, 290.40s/it]"
     ]
    },
    {
     "name": "stdout",
     "output_type": "stream",
     "text": [
      "Train Epoch: 5 [10240/22400 (46%)]\tLoss: 0.324938\n",
      "Mem before-during-after: 22687232 22838272 22687232\n"
     ]
    },
    {
     "name": "stderr",
     "output_type": "stream",
     "text": [
      " 44%|███████████████▊                    | 4.389714285714209/10 [20:20<25:25, 271.99s/it]"
     ]
    },
    {
     "name": "stdout",
     "output_type": "stream",
     "text": [
      "Train Epoch: 5 [10880/22400 (49%)]\tLoss: 0.050302\n",
      "Mem before-during-after: 22687232 22838272 22687232\n"
     ]
    },
    {
     "name": "stderr",
     "output_type": "stream",
     "text": [
      " 44%|███████████████▉                    | 4.412571428571365/10 [20:27<25:02, 268.96s/it]"
     ]
    },
    {
     "name": "stdout",
     "output_type": "stream",
     "text": [
      "Train Epoch: 5 [11520/22400 (51%)]\tLoss: 0.149476\n",
      "Mem before-during-after: 22687232 22838272 22687232\n"
     ]
    },
    {
     "name": "stderr",
     "output_type": "stream",
     "text": [
      " 44%|████████████████▍                    | 4.43542857142852/10 [20:33<24:34, 264.95s/it]"
     ]
    },
    {
     "name": "stdout",
     "output_type": "stream",
     "text": [
      "Train Epoch: 5 [12160/22400 (54%)]\tLoss: 0.080584\n",
      "Mem before-during-after: 22687232 22838272 22687232\n"
     ]
    },
    {
     "name": "stderr",
     "output_type": "stream",
     "text": [
      " 45%|████████████████                    | 4.458285714285676/10 [20:39<25:19, 274.26s/it]"
     ]
    },
    {
     "name": "stdout",
     "output_type": "stream",
     "text": [
      "Train Epoch: 5 [12800/22400 (57%)]\tLoss: 0.236561\n",
      "Mem before-during-after: 22687232 22838272 22687232\n"
     ]
    },
    {
     "name": "stderr",
     "output_type": "stream",
     "text": [
      " 45%|████████████████▏                   | 4.481142857142832/10 [20:46<24:41, 268.44s/it]"
     ]
    },
    {
     "name": "stdout",
     "output_type": "stream",
     "text": [
      "Train Epoch: 5 [13440/22400 (60%)]\tLoss: 0.535613\n",
      "Mem before-during-after: 22687232 22838272 22687232\n"
     ]
    },
    {
     "name": "stderr",
     "output_type": "stream",
     "text": [
      " 45%|████████████████▏                   | 4.503428571428558/10 [20:52<24:46, 270.44s/it]"
     ]
    },
    {
     "name": "stdout",
     "output_type": "stream",
     "text": [
      "Train Epoch: 5 [14080/22400 (63%)]\tLoss: 0.043517\n",
      "Mem before-during-after: 22687232 22838272 22687232\n"
     ]
    },
    {
     "name": "stderr",
     "output_type": "stream",
     "text": [
      " 45%|████████████████▎                   | 4.526857142857143/10 [20:59<25:50, 283.38s/it]"
     ]
    },
    {
     "name": "stdout",
     "output_type": "stream",
     "text": [
      "Train Epoch: 5 [14720/22400 (66%)]\tLoss: 0.009191\n",
      "Mem before-during-after: 22687232 22838272 22687232\n"
     ]
    },
    {
     "name": "stderr",
     "output_type": "stream",
     "text": [
      " 45%|████████████████▍                   | 4.549714285714298/10 [21:05<25:03, 275.79s/it]"
     ]
    },
    {
     "name": "stdout",
     "output_type": "stream",
     "text": [
      "Train Epoch: 5 [15360/22400 (69%)]\tLoss: 0.136885\n",
      "Mem before-during-after: 22687232 22838272 22687232\n"
     ]
    },
    {
     "name": "stderr",
     "output_type": "stream",
     "text": [
      " 46%|████████████████▍                   | 4.572571428571454/10 [21:11<24:39, 272.54s/it]"
     ]
    },
    {
     "name": "stdout",
     "output_type": "stream",
     "text": [
      "Train Epoch: 5 [16000/22400 (71%)]\tLoss: 0.920927\n",
      "Mem before-during-after: 22687232 22838272 22687232\n"
     ]
    },
    {
     "name": "stderr",
     "output_type": "stream",
     "text": [
      " 46%|████████████████▌                   | 4.595428571428609/10 [21:18<25:27, 282.69s/it]"
     ]
    },
    {
     "name": "stdout",
     "output_type": "stream",
     "text": [
      "Train Epoch: 5 [16640/22400 (74%)]\tLoss: 0.108774\n",
      "Mem before-during-after: 22687232 22838272 22687232\n"
     ]
    },
    {
     "name": "stderr",
     "output_type": "stream",
     "text": [
      " 46%|████████████████▋                   | 4.618285714285765/10 [21:24<24:30, 273.20s/it]"
     ]
    },
    {
     "name": "stdout",
     "output_type": "stream",
     "text": [
      "Train Epoch: 5 [17280/22400 (77%)]\tLoss: 0.464060\n",
      "Mem before-during-after: 22687232 22838272 22687232\n"
     ]
    },
    {
     "name": "stderr",
     "output_type": "stream",
     "text": [
      " 46%|████████████████▏                  | 4.6411428571429205/10 [21:31<24:19, 272.41s/it]"
     ]
    },
    {
     "name": "stdout",
     "output_type": "stream",
     "text": [
      "Train Epoch: 5 [17920/22400 (80%)]\tLoss: 0.219616\n",
      "Mem before-during-after: 22687232 22838272 22687232\n"
     ]
    },
    {
     "name": "stderr",
     "output_type": "stream",
     "text": [
      " 47%|████████████████▊                   | 4.664000000000076/10 [21:37<24:31, 275.78s/it]"
     ]
    },
    {
     "name": "stdout",
     "output_type": "stream",
     "text": [
      "Train Epoch: 5 [18560/22400 (83%)]\tLoss: 0.539291\n",
      "Mem before-during-after: 22687232 22838272 22687232\n"
     ]
    },
    {
     "name": "stderr",
     "output_type": "stream",
     "text": [
      " 47%|████████████████▊                   | 4.686857142857232/10 [21:43<24:38, 278.26s/it]"
     ]
    },
    {
     "name": "stdout",
     "output_type": "stream",
     "text": [
      "Train Epoch: 5 [19200/22400 (86%)]\tLoss: 0.500309\n",
      "Mem before-during-after: 22687232 22838272 22687232\n"
     ]
    },
    {
     "name": "stderr",
     "output_type": "stream",
     "text": [
      " 47%|████████████████▉                   | 4.709714285714387/10 [21:50<25:14, 286.34s/it]"
     ]
    },
    {
     "name": "stdout",
     "output_type": "stream",
     "text": [
      "Train Epoch: 5 [19840/22400 (89%)]\tLoss: 0.277438\n",
      "Mem before-during-after: 22687232 22838272 22687232\n"
     ]
    },
    {
     "name": "stderr",
     "output_type": "stream",
     "text": [
      " 47%|█████████████████                   | 4.732571428571543/10 [21:56<23:33, 268.31s/it]"
     ]
    },
    {
     "name": "stdout",
     "output_type": "stream",
     "text": [
      "Train Epoch: 5 [20480/22400 (91%)]\tLoss: 0.105901\n",
      "Mem before-during-after: 22687232 22838272 22687232\n"
     ]
    },
    {
     "name": "stderr",
     "output_type": "stream",
     "text": [
      " 48%|█████████████████                   | 4.755428571428698/10 [22:02<25:50, 295.65s/it]"
     ]
    },
    {
     "name": "stdout",
     "output_type": "stream",
     "text": [
      "Train Epoch: 5 [21120/22400 (94%)]\tLoss: 0.218669\n",
      "Mem before-during-after: 22687232 22838272 22687232\n"
     ]
    },
    {
     "name": "stderr",
     "output_type": "stream",
     "text": [
      " 48%|█████████████████▏                  | 4.778285714285854/10 [22:09<24:26, 280.80s/it]"
     ]
    },
    {
     "name": "stdout",
     "output_type": "stream",
     "text": [
      "Train Epoch: 5 [21760/22400 (97%)]\tLoss: 0.200607\n",
      "Mem before-during-after: 22687232 22838272 22687232\n"
     ]
    },
    {
     "name": "stderr",
     "output_type": "stream",
     "text": [
      " 50%|██████████████████                  | 5.000571428571692/10 [23:11<23:18, 279.72s/it]"
     ]
    },
    {
     "name": "stdout",
     "output_type": "stream",
     "text": [
      "\n",
      "Test Epoch: 5\tAccuracy: 5155/5600 (92%)\n",
      "\n",
      "Train Epoch: 6 [0/22400 (0%)]\tLoss: 0.343784\n",
      "Mem before-during-after: 22686208 22838272 22687232\n"
     ]
    },
    {
     "name": "stderr",
     "output_type": "stream",
     "text": [
      " 50%|██████████████████                  | 5.024000000000276/10 [23:17<23:05, 278.34s/it]"
     ]
    },
    {
     "name": "stdout",
     "output_type": "stream",
     "text": [
      "Train Epoch: 6 [640/22400 (3%)]\tLoss: 0.123608\n",
      "Mem before-during-after: 22687232 22838272 22687232\n"
     ]
    },
    {
     "name": "stderr",
     "output_type": "stream",
     "text": [
      " 50%|██████████████████▏                 | 5.046857142857432/10 [23:24<23:27, 284.12s/it]"
     ]
    },
    {
     "name": "stdout",
     "output_type": "stream",
     "text": [
      "Train Epoch: 6 [1280/22400 (6%)]\tLoss: 0.113435\n",
      "Mem before-during-after: 22687232 22838272 22687232\n"
     ]
    },
    {
     "name": "stderr",
     "output_type": "stream",
     "text": [
      " 51%|██████████████████▎                 | 5.069714285714587/10 [23:30<22:56, 279.26s/it]"
     ]
    },
    {
     "name": "stdout",
     "output_type": "stream",
     "text": [
      "Train Epoch: 6 [1920/22400 (9%)]\tLoss: 0.404867\n",
      "Mem before-during-after: 22687232 22838272 22687232\n"
     ]
    },
    {
     "name": "stderr",
     "output_type": "stream",
     "text": [
      " 51%|██████████████████▎                 | 5.092571428571743/10 [23:36<22:09, 270.93s/it]"
     ]
    },
    {
     "name": "stdout",
     "output_type": "stream",
     "text": [
      "Train Epoch: 6 [2560/22400 (11%)]\tLoss: 0.101018\n",
      "Mem before-during-after: 22687232 22838272 22687232\n"
     ]
    },
    {
     "name": "stderr",
     "output_type": "stream",
     "text": [
      " 51%|█████████████████▉                 | 5.1154285714288985/10 [23:43<23:23, 287.39s/it]"
     ]
    },
    {
     "name": "stdout",
     "output_type": "stream",
     "text": [
      "Train Epoch: 6 [3200/22400 (14%)]\tLoss: 0.119064\n",
      "Mem before-during-after: 22687232 22838272 22687232\n"
     ]
    },
    {
     "name": "stderr",
     "output_type": "stream",
     "text": [
      " 51%|██████████████████▍                 | 5.138285714286054/10 [23:49<22:05, 272.66s/it]"
     ]
    },
    {
     "name": "stdout",
     "output_type": "stream",
     "text": [
      "Train Epoch: 6 [3840/22400 (17%)]\tLoss: 0.023631\n",
      "Mem before-during-after: 22687232 22838272 22687232\n"
     ]
    },
    {
     "name": "stderr",
     "output_type": "stream",
     "text": [
      " 52%|███████████████████                  | 5.16114285714321/10 [23:56<22:04, 273.65s/it]"
     ]
    },
    {
     "name": "stdout",
     "output_type": "stream",
     "text": [
      "Train Epoch: 6 [4480/22400 (20%)]\tLoss: 0.169703\n",
      "Mem before-during-after: 22687232 22838272 22687232\n"
     ]
    },
    {
     "name": "stderr",
     "output_type": "stream",
     "text": [
      " 52%|██████████████████▋                 | 5.184000000000365/10 [24:02<24:44, 308.21s/it]"
     ]
    },
    {
     "name": "stdout",
     "output_type": "stream",
     "text": [
      "Train Epoch: 6 [5120/22400 (23%)]\tLoss: 0.285350\n",
      "Mem before-during-after: 22687232 22838272 22687232\n"
     ]
    },
    {
     "name": "stderr",
     "output_type": "stream",
     "text": [
      " 52%|██████████████████▋                 | 5.206857142857521/10 [24:09<21:59, 275.34s/it]"
     ]
    },
    {
     "name": "stdout",
     "output_type": "stream",
     "text": [
      "Train Epoch: 6 [5760/22400 (26%)]\tLoss: 0.338374\n",
      "Mem before-during-after: 22687232 22838272 22687232\n"
     ]
    },
    {
     "name": "stderr",
     "output_type": "stream",
     "text": [
      " 52%|██████████████████▊                 | 5.229714285714676/10 [24:15<21:22, 268.95s/it]"
     ]
    },
    {
     "name": "stdout",
     "output_type": "stream",
     "text": [
      "Train Epoch: 6 [6400/22400 (29%)]\tLoss: 0.215517\n",
      "Mem before-during-after: 22687232 22838272 22687232\n"
     ]
    },
    {
     "name": "stderr",
     "output_type": "stream",
     "text": [
      " 53%|██████████████████▉                 | 5.252571428571832/10 [24:21<21:42, 274.35s/it]"
     ]
    },
    {
     "name": "stdout",
     "output_type": "stream",
     "text": [
      "Train Epoch: 6 [7040/22400 (31%)]\tLoss: 0.230027\n",
      "Mem before-during-after: 22687232 22838272 22687232\n"
     ]
    },
    {
     "name": "stderr",
     "output_type": "stream",
     "text": [
      " 53%|██████████████████▍                | 5.2754285714289875/10 [24:28<21:29, 272.94s/it]"
     ]
    },
    {
     "name": "stdout",
     "output_type": "stream",
     "text": [
      "Train Epoch: 6 [7680/22400 (34%)]\tLoss: 0.100437\n",
      "Mem before-during-after: 22687232 22838272 22687232\n"
     ]
    },
    {
     "name": "stderr",
     "output_type": "stream",
     "text": [
      " 53%|███████████████████                 | 5.298285714286143/10 [24:35<23:14, 296.67s/it]"
     ]
    },
    {
     "name": "stdout",
     "output_type": "stream",
     "text": [
      "Train Epoch: 6 [8320/22400 (37%)]\tLoss: 0.231462\n",
      "Mem before-during-after: 22687232 22838272 22687232\n"
     ]
    },
    {
     "name": "stderr",
     "output_type": "stream",
     "text": [
      " 53%|███████████████████▏                | 5.321142857143299/10 [24:41<21:14, 272.33s/it]"
     ]
    },
    {
     "name": "stdout",
     "output_type": "stream",
     "text": [
      "Train Epoch: 6 [8960/22400 (40%)]\tLoss: 0.187723\n",
      "Mem before-during-after: 22687232 22838272 22687232\n"
     ]
    },
    {
     "name": "stderr",
     "output_type": "stream",
     "text": [
      " 53%|███████████████████▏                | 5.344000000000454/10 [24:47<20:23, 262.74s/it]"
     ]
    },
    {
     "name": "stdout",
     "output_type": "stream",
     "text": [
      "Train Epoch: 6 [9600/22400 (43%)]\tLoss: 0.078142\n",
      "Mem before-during-after: 22687232 22838272 22687232\n"
     ]
    },
    {
     "name": "stderr",
     "output_type": "stream",
     "text": [
      " 54%|███████████████████▊                 | 5.36685714285761/10 [24:53<20:50, 269.97s/it]"
     ]
    },
    {
     "name": "stdout",
     "output_type": "stream",
     "text": [
      "Train Epoch: 6 [10240/22400 (46%)]\tLoss: 0.353468\n",
      "Mem before-during-after: 22687232 22838272 22687232\n"
     ]
    },
    {
     "name": "stderr",
     "output_type": "stream",
     "text": [
      " 54%|███████████████████▍                | 5.389714285714765/10 [24:59<20:37, 268.32s/it]"
     ]
    },
    {
     "name": "stdout",
     "output_type": "stream",
     "text": [
      "Train Epoch: 6 [10880/22400 (49%)]\tLoss: 0.309334\n",
      "Mem before-during-after: 22687232 22838272 22687232\n"
     ]
    },
    {
     "name": "stderr",
     "output_type": "stream",
     "text": [
      " 54%|███████████████████▍                | 5.412571428571921/10 [25:05<20:45, 271.50s/it]"
     ]
    },
    {
     "name": "stdout",
     "output_type": "stream",
     "text": [
      "Train Epoch: 6 [11520/22400 (51%)]\tLoss: 0.382758\n",
      "Mem before-during-after: 22687232 22838272 22687232\n"
     ]
    },
    {
     "name": "stderr",
     "output_type": "stream",
     "text": [
      " 54%|███████████████████▌                | 5.435428571429076/10 [25:12<21:24, 281.38s/it]"
     ]
    },
    {
     "name": "stdout",
     "output_type": "stream",
     "text": [
      "Train Epoch: 6 [12160/22400 (54%)]\tLoss: 0.197694\n",
      "Mem before-during-after: 22687232 22838272 22687232\n"
     ]
    },
    {
     "name": "stderr",
     "output_type": "stream",
     "text": [
      " 55%|███████████████████▋                | 5.458285714286232/10 [25:18<21:14, 280.64s/it]"
     ]
    },
    {
     "name": "stdout",
     "output_type": "stream",
     "text": [
      "Train Epoch: 6 [12800/22400 (57%)]\tLoss: 0.108500\n",
      "Mem before-during-after: 22687232 22838272 22687232\n"
     ]
    },
    {
     "name": "stderr",
     "output_type": "stream",
     "text": [
      " 55%|███████████████████▋                | 5.481142857143388/10 [25:24<19:48, 262.95s/it]"
     ]
    },
    {
     "name": "stdout",
     "output_type": "stream",
     "text": [
      "Train Epoch: 6 [13440/22400 (60%)]\tLoss: 0.095972\n",
      "Mem before-during-after: 22687232 22838272 22687232\n"
     ]
    },
    {
     "name": "stderr",
     "output_type": "stream",
     "text": [
      " 55%|███████████████████▊                | 5.504000000000543/10 [25:30<19:33, 261.08s/it]"
     ]
    },
    {
     "name": "stdout",
     "output_type": "stream",
     "text": [
      "Train Epoch: 6 [14080/22400 (63%)]\tLoss: 0.081994\n",
      "Mem before-during-after: 22687232 22838272 22687232\n"
     ]
    },
    {
     "name": "stderr",
     "output_type": "stream",
     "text": [
      " 55%|███████████████████▉                | 5.526857142857699/10 [25:37<20:51, 279.87s/it]"
     ]
    },
    {
     "name": "stdout",
     "output_type": "stream",
     "text": [
      "Train Epoch: 6 [14720/22400 (66%)]\tLoss: 0.254087\n",
      "Mem before-during-after: 22687232 22838272 22687232\n"
     ]
    },
    {
     "name": "stderr",
     "output_type": "stream",
     "text": [
      " 55%|███████████████████▉                | 5.549714285714854/10 [25:43<19:39, 265.00s/it]"
     ]
    },
    {
     "name": "stdout",
     "output_type": "stream",
     "text": [
      "Train Epoch: 6 [15360/22400 (69%)]\tLoss: 0.000594\n",
      "Mem before-during-after: 22687232 22838272 22687232\n"
     ]
    },
    {
     "name": "stderr",
     "output_type": "stream",
     "text": [
      " 56%|████████████████████▌                | 5.57257142857201/10 [25:49<19:28, 263.93s/it]"
     ]
    },
    {
     "name": "stdout",
     "output_type": "stream",
     "text": [
      "Train Epoch: 6 [16000/22400 (71%)]\tLoss: 0.011291\n",
      "Mem before-during-after: 22687232 22838272 22687232\n"
     ]
    },
    {
     "name": "stderr",
     "output_type": "stream",
     "text": [
      " 56%|████████████████████▏               | 5.595428571429165/10 [25:55<19:19, 263.28s/it]"
     ]
    },
    {
     "name": "stdout",
     "output_type": "stream",
     "text": [
      "Train Epoch: 6 [16640/22400 (74%)]\tLoss: 0.318187\n",
      "Mem before-during-after: 22687232 22838272 22687232\n"
     ]
    },
    {
     "name": "stderr",
     "output_type": "stream",
     "text": [
      " 56%|████████████████████▏               | 5.618285714286321/10 [26:01<19:32, 267.56s/it]"
     ]
    },
    {
     "name": "stdout",
     "output_type": "stream",
     "text": [
      "Train Epoch: 6 [17280/22400 (77%)]\tLoss: 0.239995\n",
      "Mem before-during-after: 22687232 22838272 22687232\n"
     ]
    },
    {
     "name": "stderr",
     "output_type": "stream",
     "text": [
      " 56%|███████████████████▋               | 5.6411428571434765/10 [26:07<19:34, 269.50s/it]"
     ]
    },
    {
     "name": "stdout",
     "output_type": "stream",
     "text": [
      "Train Epoch: 6 [17920/22400 (80%)]\tLoss: 0.149873\n",
      "Mem before-during-after: 22687232 22838272 22687232\n"
     ]
    },
    {
     "name": "stderr",
     "output_type": "stream",
     "text": [
      " 57%|████████████████████▍               | 5.664000000000632/10 [26:13<19:44, 273.09s/it]"
     ]
    },
    {
     "name": "stdout",
     "output_type": "stream",
     "text": [
      "Train Epoch: 6 [18560/22400 (83%)]\tLoss: 0.182331\n",
      "Mem before-during-after: 22687232 22838272 22687232\n"
     ]
    },
    {
     "name": "stderr",
     "output_type": "stream",
     "text": [
      " 57%|████████████████████▍               | 5.686857142857788/10 [26:19<19:21, 269.35s/it]"
     ]
    },
    {
     "name": "stdout",
     "output_type": "stream",
     "text": [
      "Train Epoch: 6 [19200/22400 (86%)]\tLoss: 0.103161\n",
      "Mem before-during-after: 22687232 22838272 22687232\n"
     ]
    },
    {
     "name": "stderr",
     "output_type": "stream",
     "text": [
      " 57%|████████████████████▌               | 5.709714285714943/10 [26:26<18:44, 262.18s/it]"
     ]
    },
    {
     "name": "stdout",
     "output_type": "stream",
     "text": [
      "Train Epoch: 6 [19840/22400 (89%)]\tLoss: 0.553222\n",
      "Mem before-during-after: 22687232 22838272 22687232\n"
     ]
    },
    {
     "name": "stderr",
     "output_type": "stream",
     "text": [
      " 57%|████████████████████▋               | 5.732571428572099/10 [26:32<19:25, 273.16s/it]"
     ]
    },
    {
     "name": "stdout",
     "output_type": "stream",
     "text": [
      "Train Epoch: 6 [20480/22400 (91%)]\tLoss: 0.412939\n",
      "Mem before-during-after: 22687232 22838272 22687232\n"
     ]
    },
    {
     "name": "stderr",
     "output_type": "stream",
     "text": [
      " 58%|████████████████████▋               | 5.755428571429254/10 [26:38<18:38, 263.50s/it]"
     ]
    },
    {
     "name": "stdout",
     "output_type": "stream",
     "text": [
      "Train Epoch: 6 [21120/22400 (94%)]\tLoss: 0.058790\n",
      "Mem before-during-after: 22687232 22838272 22687232\n"
     ]
    },
    {
     "name": "stderr",
     "output_type": "stream",
     "text": [
      " 58%|█████████████████████▍               | 5.77828571428641/10 [26:44<18:27, 262.30s/it]"
     ]
    },
    {
     "name": "stdout",
     "output_type": "stream",
     "text": [
      "Train Epoch: 6 [21760/22400 (97%)]\tLoss: 0.023587\n",
      "Mem before-during-after: 22687232 22838272 22687232\n"
     ]
    },
    {
     "name": "stderr",
     "output_type": "stream",
     "text": [
      " 60%|█████████████████████▌              | 6.000571428572248/10 [27:43<17:49, 267.54s/it]"
     ]
    },
    {
     "name": "stdout",
     "output_type": "stream",
     "text": [
      "\n",
      "Test Epoch: 6\tAccuracy: 5201/5600 (93%)\n",
      "\n",
      "Train Epoch: 7 [0/22400 (0%)]\tLoss: 0.048682\n",
      "Mem before-during-after: 22686208 22838272 22687232\n"
     ]
    },
    {
     "name": "stderr",
     "output_type": "stream",
     "text": [
      " 60%|█████████████████████▋              | 6.024000000000832/10 [27:50<17:31, 264.47s/it]"
     ]
    },
    {
     "name": "stdout",
     "output_type": "stream",
     "text": [
      "Train Epoch: 7 [640/22400 (3%)]\tLoss: 0.062963\n",
      "Mem before-during-after: 22687232 22838272 22687232\n"
     ]
    },
    {
     "name": "stderr",
     "output_type": "stream",
     "text": [
      " 60%|█████████████████████▊              | 6.046857142857988/10 [27:56<17:21, 263.52s/it]"
     ]
    },
    {
     "name": "stdout",
     "output_type": "stream",
     "text": [
      "Train Epoch: 7 [1280/22400 (6%)]\tLoss: 0.108756\n",
      "Mem before-during-after: 22687232 22838272 22687232\n"
     ]
    },
    {
     "name": "stderr",
     "output_type": "stream",
     "text": [
      " 61%|█████████████████████▊              | 6.069714285715143/10 [28:02<17:22, 265.20s/it]"
     ]
    },
    {
     "name": "stdout",
     "output_type": "stream",
     "text": [
      "Train Epoch: 7 [1920/22400 (9%)]\tLoss: 0.092421\n",
      "Mem before-during-after: 22687232 22838272 22687232\n"
     ]
    },
    {
     "name": "stderr",
     "output_type": "stream",
     "text": [
      " 61%|█████████████████████▉              | 6.092571428572299/10 [28:08<17:34, 269.81s/it]"
     ]
    },
    {
     "name": "stdout",
     "output_type": "stream",
     "text": [
      "Train Epoch: 7 [2560/22400 (11%)]\tLoss: 0.383275\n",
      "Mem before-during-after: 22687232 22838272 22687232\n"
     ]
    },
    {
     "name": "stderr",
     "output_type": "stream",
     "text": [
      " 61%|█████████████████████▍             | 6.1154285714294545/10 [28:14<17:32, 270.95s/it]"
     ]
    },
    {
     "name": "stdout",
     "output_type": "stream",
     "text": [
      "Train Epoch: 7 [3200/22400 (14%)]\tLoss: 0.092800\n",
      "Mem before-during-after: 22687232 22838272 22687232\n"
     ]
    },
    {
     "name": "stderr",
     "output_type": "stream",
     "text": [
      " 61%|██████████████████████▋              | 6.13828571428661/10 [28:21<17:25, 270.74s/it]"
     ]
    },
    {
     "name": "stdout",
     "output_type": "stream",
     "text": [
      "Train Epoch: 7 [3840/22400 (17%)]\tLoss: 0.037798\n",
      "Mem before-during-after: 22687232 22838272 22687232\n"
     ]
    },
    {
     "name": "stderr",
     "output_type": "stream",
     "text": [
      " 62%|██████████████████████▏             | 6.161142857143766/10 [28:27<17:11, 268.79s/it]"
     ]
    },
    {
     "name": "stdout",
     "output_type": "stream",
     "text": [
      "Train Epoch: 7 [4480/22400 (20%)]\tLoss: 0.114630\n",
      "Mem before-during-after: 22687232 22838272 22687232\n"
     ]
    },
    {
     "name": "stderr",
     "output_type": "stream",
     "text": [
      " 62%|██████████████████████▎             | 6.184000000000921/10 [28:33<17:08, 269.49s/it]"
     ]
    },
    {
     "name": "stdout",
     "output_type": "stream",
     "text": [
      "Train Epoch: 7 [5120/22400 (23%)]\tLoss: 0.001311\n",
      "Mem before-during-after: 22687232 22838272 22687232\n"
     ]
    },
    {
     "name": "stderr",
     "output_type": "stream",
     "text": [
      " 62%|██████████████████████▎             | 6.206857142858077/10 [28:39<17:06, 270.49s/it]"
     ]
    },
    {
     "name": "stdout",
     "output_type": "stream",
     "text": [
      "Train Epoch: 7 [5760/22400 (26%)]\tLoss: 0.010813\n",
      "Mem before-during-after: 22687232 22838272 22687232\n"
     ]
    },
    {
     "name": "stderr",
     "output_type": "stream",
     "text": [
      " 62%|██████████████████████▍             | 6.229714285715232/10 [28:46<16:32, 263.26s/it]"
     ]
    },
    {
     "name": "stdout",
     "output_type": "stream",
     "text": [
      "Train Epoch: 7 [6400/22400 (29%)]\tLoss: 0.302926\n",
      "Mem before-during-after: 22687232 22838272 22687232\n"
     ]
    },
    {
     "name": "stderr",
     "output_type": "stream",
     "text": [
      " 63%|██████████████████████▌             | 6.252571428572388/10 [28:52<16:43, 267.84s/it]"
     ]
    },
    {
     "name": "stdout",
     "output_type": "stream",
     "text": [
      "Train Epoch: 7 [7040/22400 (31%)]\tLoss: 0.073647\n",
      "Mem before-during-after: 22687232 22838272 22687232\n"
     ]
    },
    {
     "name": "stderr",
     "output_type": "stream",
     "text": [
      " 63%|█████████████████████▉             | 6.2754285714295435/10 [28:58<17:20, 279.37s/it]"
     ]
    },
    {
     "name": "stdout",
     "output_type": "stream",
     "text": [
      "Train Epoch: 7 [7680/22400 (34%)]\tLoss: 0.178223\n",
      "Mem before-during-after: 22687232 22838272 22687232\n"
     ]
    },
    {
     "name": "stderr",
     "output_type": "stream",
     "text": [
      " 63%|██████████████████████▋             | 6.298285714286699/10 [29:04<17:03, 276.54s/it]"
     ]
    },
    {
     "name": "stdout",
     "output_type": "stream",
     "text": [
      "Train Epoch: 7 [8320/22400 (37%)]\tLoss: 0.175900\n",
      "Mem before-during-after: 22687232 22838272 22687232\n"
     ]
    },
    {
     "name": "stderr",
     "output_type": "stream",
     "text": [
      " 63%|██████████████████████▊             | 6.321142857143855/10 [29:10<16:44, 273.07s/it]"
     ]
    },
    {
     "name": "stdout",
     "output_type": "stream",
     "text": [
      "Train Epoch: 7 [8960/22400 (40%)]\tLoss: 0.872872\n",
      "Mem before-during-after: 22687232 22838272 22687232\n"
     ]
    },
    {
     "name": "stderr",
     "output_type": "stream",
     "text": [
      " 63%|███████████████████████▍             | 6.34400000000101/10 [29:17<16:18, 267.66s/it]"
     ]
    },
    {
     "name": "stdout",
     "output_type": "stream",
     "text": [
      "Train Epoch: 7 [9600/22400 (43%)]\tLoss: 0.079701\n",
      "Mem before-during-after: 22687232 22838272 22687232\n"
     ]
    },
    {
     "name": "stderr",
     "output_type": "stream",
     "text": [
      " 64%|██████████████████████▉             | 6.366857142858166/10 [29:23<16:41, 275.73s/it]"
     ]
    },
    {
     "name": "stdout",
     "output_type": "stream",
     "text": [
      "Train Epoch: 7 [10240/22400 (46%)]\tLoss: 0.008258\n",
      "Mem before-during-after: 22687232 22838272 22687232\n"
     ]
    },
    {
     "name": "stderr",
     "output_type": "stream",
     "text": [
      " 64%|███████████████████████             | 6.389714285715321/10 [29:29<16:48, 279.35s/it]"
     ]
    },
    {
     "name": "stdout",
     "output_type": "stream",
     "text": [
      "Train Epoch: 7 [10880/22400 (49%)]\tLoss: 0.429748\n",
      "Mem before-during-after: 22687232 22838272 22687232\n"
     ]
    },
    {
     "name": "stderr",
     "output_type": "stream",
     "text": [
      " 64%|███████████████████████             | 6.412571428572477/10 [29:35<16:10, 270.45s/it]"
     ]
    },
    {
     "name": "stdout",
     "output_type": "stream",
     "text": [
      "Train Epoch: 7 [11520/22400 (51%)]\tLoss: 0.283159\n",
      "Mem before-during-after: 22687232 22838272 22687232\n"
     ]
    },
    {
     "name": "stderr",
     "output_type": "stream",
     "text": [
      " 64%|███████████████████████▏            | 6.435428571429632/10 [29:41<15:51, 267.06s/it]"
     ]
    },
    {
     "name": "stdout",
     "output_type": "stream",
     "text": [
      "Train Epoch: 7 [12160/22400 (54%)]\tLoss: 0.003516\n",
      "Mem before-during-after: 22687232 22838272 22687232\n"
     ]
    },
    {
     "name": "stderr",
     "output_type": "stream",
     "text": [
      " 65%|███████████████████████▏            | 6.458285714286788/10 [29:47<15:45, 266.90s/it]"
     ]
    },
    {
     "name": "stdout",
     "output_type": "stream",
     "text": [
      "Train Epoch: 7 [12800/22400 (57%)]\tLoss: 0.084127\n",
      "Mem before-during-after: 22687232 22838272 22687232\n"
     ]
    },
    {
     "name": "stderr",
     "output_type": "stream",
     "text": [
      " 65%|███████████████████████▎            | 6.481142857143944/10 [29:53<15:53, 270.95s/it]"
     ]
    },
    {
     "name": "stdout",
     "output_type": "stream",
     "text": [
      "Train Epoch: 7 [13440/22400 (60%)]\tLoss: 0.034056\n",
      "Mem before-during-after: 22687232 22838272 22687232\n"
     ]
    },
    {
     "name": "stderr",
     "output_type": "stream",
     "text": [
      " 65%|███████████████████████▍            | 6.504000000001099/10 [30:00<15:49, 271.47s/it]"
     ]
    },
    {
     "name": "stdout",
     "output_type": "stream",
     "text": [
      "Train Epoch: 7 [14080/22400 (63%)]\tLoss: 0.149553\n",
      "Mem before-during-after: 22687232 22838272 22687232\n"
     ]
    },
    {
     "name": "stderr",
     "output_type": "stream",
     "text": [
      " 65%|███████████████████████▍            | 6.526857142858255/10 [30:06<15:17, 264.04s/it]"
     ]
    },
    {
     "name": "stdout",
     "output_type": "stream",
     "text": [
      "Train Epoch: 7 [14720/22400 (66%)]\tLoss: 0.122298\n",
      "Mem before-during-after: 22687232 22838272 22687232\n"
     ]
    },
    {
     "name": "stderr",
     "output_type": "stream",
     "text": [
      " 65%|████████████████████████▏            | 6.54971428571541/10 [30:12<15:19, 266.39s/it]"
     ]
    },
    {
     "name": "stdout",
     "output_type": "stream",
     "text": [
      "Train Epoch: 7 [15360/22400 (69%)]\tLoss: 0.001489\n",
      "Mem before-during-after: 22687232 22838272 22687232\n"
     ]
    },
    {
     "name": "stderr",
     "output_type": "stream",
     "text": [
      " 66%|███████████████████████▋            | 6.572571428572566/10 [30:18<15:08, 265.10s/it]"
     ]
    },
    {
     "name": "stdout",
     "output_type": "stream",
     "text": [
      "Train Epoch: 7 [16000/22400 (71%)]\tLoss: 0.432994\n",
      "Mem before-during-after: 22687232 22838272 22687232\n"
     ]
    },
    {
     "name": "stderr",
     "output_type": "stream",
     "text": [
      " 66%|███████████████████████▋            | 6.595428571429721/10 [30:24<14:59, 264.07s/it]"
     ]
    },
    {
     "name": "stdout",
     "output_type": "stream",
     "text": [
      "Train Epoch: 7 [16640/22400 (74%)]\tLoss: 0.078046\n",
      "Mem before-during-after: 22687232 22838272 22687232\n"
     ]
    },
    {
     "name": "stderr",
     "output_type": "stream",
     "text": [
      " 66%|███████████████████████▊            | 6.618285714286877/10 [30:30<16:26, 291.66s/it]"
     ]
    },
    {
     "name": "stdout",
     "output_type": "stream",
     "text": [
      "Train Epoch: 7 [17280/22400 (77%)]\tLoss: 0.083250\n",
      "Mem before-during-after: 22687232 22838272 22687232\n"
     ]
    },
    {
     "name": "stderr",
     "output_type": "stream",
     "text": [
      " 66%|███████████████████████▏           | 6.6411428571440325/10 [30:37<15:18, 273.40s/it]"
     ]
    },
    {
     "name": "stdout",
     "output_type": "stream",
     "text": [
      "Train Epoch: 7 [17920/22400 (80%)]\tLoss: 0.189662\n",
      "Mem before-during-after: 22687232 22838272 22687232\n"
     ]
    },
    {
     "name": "stderr",
     "output_type": "stream",
     "text": [
      " 67%|███████████████████████▉            | 6.664000000001188/10 [30:43<14:53, 267.81s/it]"
     ]
    },
    {
     "name": "stdout",
     "output_type": "stream",
     "text": [
      "Train Epoch: 7 [18560/22400 (83%)]\tLoss: 0.280143\n",
      "Mem before-during-after: 22687232 22838272 22687232\n"
     ]
    },
    {
     "name": "stderr",
     "output_type": "stream",
     "text": [
      " 67%|████████████████████████            | 6.686857142858344/10 [30:49<18:09, 328.83s/it]"
     ]
    },
    {
     "name": "stdout",
     "output_type": "stream",
     "text": [
      "Train Epoch: 7 [19200/22400 (86%)]\tLoss: 0.291269\n",
      "Mem before-during-after: 22687232 22838272 22687232\n"
     ]
    },
    {
     "name": "stderr",
     "output_type": "stream",
     "text": [
      " 67%|████████████████████████▏           | 6.709714285715499/10 [30:55<14:45, 269.00s/it]"
     ]
    },
    {
     "name": "stdout",
     "output_type": "stream",
     "text": [
      "Train Epoch: 7 [19840/22400 (89%)]\tLoss: 0.028364\n",
      "Mem before-during-after: 22687232 22838272 22687232\n"
     ]
    },
    {
     "name": "stderr",
     "output_type": "stream",
     "text": [
      " 67%|████████████████████████▏           | 6.732571428572655/10 [31:01<14:28, 265.76s/it]"
     ]
    },
    {
     "name": "stdout",
     "output_type": "stream",
     "text": [
      "Train Epoch: 7 [20480/22400 (91%)]\tLoss: 0.016761\n",
      "Mem before-during-after: 22687232 22838272 22687232\n"
     ]
    },
    {
     "name": "stderr",
     "output_type": "stream",
     "text": [
      " 68%|████████████████████████▉            | 6.75542857142981/10 [31:08<15:32, 287.34s/it]"
     ]
    },
    {
     "name": "stdout",
     "output_type": "stream",
     "text": [
      "Train Epoch: 7 [21120/22400 (94%)]\tLoss: 0.468720\n",
      "Mem before-during-after: 22687232 22838272 22687232\n"
     ]
    },
    {
     "name": "stderr",
     "output_type": "stream",
     "text": [
      " 68%|████████████████████████▍           | 6.778285714286966/10 [31:14<14:33, 271.23s/it]"
     ]
    },
    {
     "name": "stdout",
     "output_type": "stream",
     "text": [
      "Train Epoch: 7 [21760/22400 (97%)]\tLoss: 0.157590\n",
      "Mem before-during-after: 22687232 22838272 22687232\n"
     ]
    },
    {
     "name": "stderr",
     "output_type": "stream",
     "text": [
      " 70%|█████████████████████████▏          | 7.000571428572804/10 [32:15<14:26, 289.05s/it]"
     ]
    },
    {
     "name": "stdout",
     "output_type": "stream",
     "text": [
      "\n",
      "Test Epoch: 7\tAccuracy: 5235/5600 (93%)\n",
      "\n",
      "Train Epoch: 8 [0/22400 (0%)]\tLoss: 0.359900\n",
      "Mem before-during-after: 22686208 22838272 22687232\n"
     ]
    },
    {
     "name": "stderr",
     "output_type": "stream",
     "text": [
      " 70%|█████████████████████████▎          | 7.024000000001388/10 [32:22<16:18, 328.74s/it]"
     ]
    },
    {
     "name": "stdout",
     "output_type": "stream",
     "text": [
      "Train Epoch: 8 [640/22400 (3%)]\tLoss: 0.348388\n",
      "Mem before-during-after: 22687232 22838272 22687232\n"
     ]
    },
    {
     "name": "stderr",
     "output_type": "stream",
     "text": [
      " 70%|█████████████████████████▎          | 7.046857142858544/10 [32:28<13:25, 272.85s/it]"
     ]
    },
    {
     "name": "stdout",
     "output_type": "stream",
     "text": [
      "Train Epoch: 8 [1280/22400 (6%)]\tLoss: 0.051158\n",
      "Mem before-during-after: 22687232 22838272 22687232\n"
     ]
    },
    {
     "name": "stderr",
     "output_type": "stream",
     "text": [
      " 71%|█████████████████████████▍          | 7.069714285715699/10 [32:34<13:31, 276.96s/it]"
     ]
    },
    {
     "name": "stdout",
     "output_type": "stream",
     "text": [
      "Train Epoch: 8 [1920/22400 (9%)]\tLoss: 0.117890\n",
      "Mem before-during-after: 22687232 22838272 22687232\n"
     ]
    },
    {
     "name": "stderr",
     "output_type": "stream",
     "text": [
      " 71%|█████████████████████████▌          | 7.092571428572855/10 [32:41<14:08, 291.82s/it]"
     ]
    },
    {
     "name": "stdout",
     "output_type": "stream",
     "text": [
      "Train Epoch: 8 [2560/22400 (11%)]\tLoss: 0.357356\n",
      "Mem before-during-after: 22687232 22838272 22687232\n"
     ]
    },
    {
     "name": "stderr",
     "output_type": "stream",
     "text": [
      " 71%|████████████████████████▉          | 7.1154285714300105/10 [32:47<14:15, 296.52s/it]"
     ]
    },
    {
     "name": "stdout",
     "output_type": "stream",
     "text": [
      "Train Epoch: 8 [3200/22400 (14%)]\tLoss: 1.407678\n",
      "Mem before-during-after: 22687232 22838272 22687232\n"
     ]
    },
    {
     "name": "stderr",
     "output_type": "stream",
     "text": [
      " 71%|█████████████████████████▋          | 7.138285714287166/10 [32:53<13:10, 276.31s/it]"
     ]
    },
    {
     "name": "stdout",
     "output_type": "stream",
     "text": [
      "Train Epoch: 8 [3840/22400 (17%)]\tLoss: 0.362290\n",
      "Mem before-during-after: 22687232 22838272 22687232\n"
     ]
    },
    {
     "name": "stderr",
     "output_type": "stream",
     "text": [
      " 72%|█████████████████████████▊          | 7.161142857144322/10 [33:00<12:57, 273.93s/it]"
     ]
    },
    {
     "name": "stdout",
     "output_type": "stream",
     "text": [
      "Train Epoch: 8 [4480/22400 (20%)]\tLoss: 0.031692\n",
      "Mem before-during-after: 22687232 22838272 22687232\n"
     ]
    },
    {
     "name": "stderr",
     "output_type": "stream",
     "text": [
      " 72%|█████████████████████████▊          | 7.184000000001477/10 [33:06<13:21, 284.77s/it]"
     ]
    },
    {
     "name": "stdout",
     "output_type": "stream",
     "text": [
      "Train Epoch: 8 [5120/22400 (23%)]\tLoss: 0.026983\n",
      "Mem before-during-after: 22687232 22838272 22687232\n"
     ]
    },
    {
     "name": "stderr",
     "output_type": "stream",
     "text": [
      " 72%|█████████████████████████▉          | 7.206285714287204/10 [33:12<12:50, 275.63s/it]"
     ]
    },
    {
     "name": "stdout",
     "output_type": "stream",
     "text": [
      "Train Epoch: 8 [5760/22400 (26%)]\tLoss: 0.060889\n",
      "Mem before-during-after: 22687232 22838272 22687232\n"
     ]
    },
    {
     "name": "stderr",
     "output_type": "stream",
     "text": [
      " 72%|██████████████████████████          | 7.229714285715788/10 [33:19<13:05, 283.59s/it]"
     ]
    },
    {
     "name": "stdout",
     "output_type": "stream",
     "text": [
      "Train Epoch: 8 [6400/22400 (29%)]\tLoss: 0.427827\n",
      "Mem before-during-after: 22687232 22838272 22687232\n"
     ]
    },
    {
     "name": "stderr",
     "output_type": "stream",
     "text": [
      " 73%|██████████████████████████          | 7.252571428572944/10 [33:26<12:30, 273.23s/it]"
     ]
    },
    {
     "name": "stdout",
     "output_type": "stream",
     "text": [
      "Train Epoch: 8 [7040/22400 (31%)]\tLoss: 0.003894\n",
      "Mem before-during-after: 22687232 22838272 22687232\n"
     ]
    },
    {
     "name": "stderr",
     "output_type": "stream",
     "text": [
      " 73%|█████████████████████████▍         | 7.2754285714300995/10 [33:32<12:49, 282.29s/it]"
     ]
    },
    {
     "name": "stdout",
     "output_type": "stream",
     "text": [
      "Train Epoch: 8 [7680/22400 (34%)]\tLoss: 0.307416\n",
      "Mem before-during-after: 22687232 22838272 22687232\n"
     ]
    },
    {
     "name": "stderr",
     "output_type": "stream",
     "text": [
      " 73%|██████████████████████████▎         | 7.298285714287255/10 [33:38<13:14, 293.98s/it]"
     ]
    },
    {
     "name": "stdout",
     "output_type": "stream",
     "text": [
      "Train Epoch: 8 [8320/22400 (37%)]\tLoss: 0.019259\n",
      "Mem before-during-after: 22687232 22838272 22687232\n"
     ]
    },
    {
     "name": "stderr",
     "output_type": "stream",
     "text": [
      " 73%|██████████████████████████▎         | 7.321142857144411/10 [33:45<12:55, 289.44s/it]"
     ]
    },
    {
     "name": "stdout",
     "output_type": "stream",
     "text": [
      "Train Epoch: 8 [8960/22400 (40%)]\tLoss: 0.758569\n",
      "Mem before-during-after: 22687232 22838272 22687232\n"
     ]
    },
    {
     "name": "stderr",
     "output_type": "stream",
     "text": [
      " 73%|██████████████████████████▍         | 7.344000000001566/10 [33:51<11:53, 268.70s/it]"
     ]
    },
    {
     "name": "stdout",
     "output_type": "stream",
     "text": [
      "Train Epoch: 8 [9600/22400 (43%)]\tLoss: 0.051308\n",
      "Mem before-during-after: 22687232 22838272 22687232\n"
     ]
    },
    {
     "name": "stderr",
     "output_type": "stream",
     "text": [
      " 74%|██████████████████████████▌         | 7.366857142858722/10 [33:58<12:24, 282.79s/it]"
     ]
    },
    {
     "name": "stdout",
     "output_type": "stream",
     "text": [
      "Train Epoch: 8 [10240/22400 (46%)]\tLoss: 0.156507\n",
      "Mem before-during-after: 22687232 22838272 22687232\n"
     ]
    },
    {
     "name": "stderr",
     "output_type": "stream",
     "text": [
      " 74%|██████████████████████████▌         | 7.389714285715877/10 [34:04<11:53, 273.44s/it]"
     ]
    },
    {
     "name": "stdout",
     "output_type": "stream",
     "text": [
      "Train Epoch: 8 [10880/22400 (49%)]\tLoss: 0.026166\n",
      "Mem before-during-after: 22687232 22838272 22687232\n"
     ]
    },
    {
     "name": "stderr",
     "output_type": "stream",
     "text": [
      " 74%|██████████████████████████▋         | 7.412571428573033/10 [34:10<12:26, 288.58s/it]"
     ]
    },
    {
     "name": "stdout",
     "output_type": "stream",
     "text": [
      "Train Epoch: 8 [11520/22400 (51%)]\tLoss: 0.199760\n",
      "Mem before-during-after: 22687232 22838272 22687232\n"
     ]
    },
    {
     "name": "stderr",
     "output_type": "stream",
     "text": [
      " 74%|██████████████████████████▊         | 7.435428571430188/10 [34:17<11:31, 269.60s/it]"
     ]
    },
    {
     "name": "stdout",
     "output_type": "stream",
     "text": [
      "Train Epoch: 8 [12160/22400 (54%)]\tLoss: 0.077532\n",
      "Mem before-during-after: 22687232 22838272 22687232\n"
     ]
    },
    {
     "name": "stderr",
     "output_type": "stream",
     "text": [
      " 75%|██████████████████████████▊         | 7.458285714287344/10 [34:23<11:41, 276.08s/it]"
     ]
    },
    {
     "name": "stdout",
     "output_type": "stream",
     "text": [
      "Train Epoch: 8 [12800/22400 (57%)]\tLoss: 0.107910\n",
      "Mem before-during-after: 22687232 22838272 22687232\n"
     ]
    },
    {
     "name": "stderr",
     "output_type": "stream",
     "text": [
      " 75%|████████████████████████████▍         | 7.4811428571445/10 [34:29<11:32, 275.02s/it]"
     ]
    },
    {
     "name": "stdout",
     "output_type": "stream",
     "text": [
      "Train Epoch: 8 [13440/22400 (60%)]\tLoss: 0.303820\n",
      "Mem before-during-after: 22687232 22838272 22687232\n"
     ]
    },
    {
     "name": "stderr",
     "output_type": "stream",
     "text": [
      " 75%|███████████████████████████         | 7.504000000001655/10 [34:36<10:57, 263.24s/it]"
     ]
    },
    {
     "name": "stdout",
     "output_type": "stream",
     "text": [
      "Train Epoch: 8 [14080/22400 (63%)]\tLoss: 0.328653\n",
      "Mem before-during-after: 22687232 22838272 22687232\n"
     ]
    },
    {
     "name": "stderr",
     "output_type": "stream",
     "text": [
      " 75%|███████████████████████████         | 7.526857142858811/10 [34:42<11:18, 274.38s/it]"
     ]
    },
    {
     "name": "stdout",
     "output_type": "stream",
     "text": [
      "Train Epoch: 8 [14720/22400 (66%)]\tLoss: 0.002511\n",
      "Mem before-during-after: 22687232 22838272 22687232\n"
     ]
    },
    {
     "name": "stderr",
     "output_type": "stream",
     "text": [
      " 75%|███████████████████████████▏        | 7.549714285715966/10 [34:48<11:18, 276.78s/it]"
     ]
    },
    {
     "name": "stdout",
     "output_type": "stream",
     "text": [
      "Train Epoch: 8 [15360/22400 (69%)]\tLoss: 0.001177\n",
      "Mem before-during-after: 22687232 22838272 22687232\n"
     ]
    },
    {
     "name": "stderr",
     "output_type": "stream",
     "text": [
      " 76%|███████████████████████████▎        | 7.572571428573122/10 [34:55<11:09, 275.60s/it]"
     ]
    },
    {
     "name": "stdout",
     "output_type": "stream",
     "text": [
      "Train Epoch: 8 [16000/22400 (71%)]\tLoss: 0.836195\n",
      "Mem before-during-after: 22687232 22838272 22687232\n"
     ]
    },
    {
     "name": "stderr",
     "output_type": "stream",
     "text": [
      " 76%|███████████████████████████▎        | 7.595428571430277/10 [35:01<11:17, 281.73s/it]"
     ]
    },
    {
     "name": "stdout",
     "output_type": "stream",
     "text": [
      "Train Epoch: 8 [16640/22400 (74%)]\tLoss: 0.086680\n",
      "Mem before-during-after: 22687232 22838272 22687232\n"
     ]
    },
    {
     "name": "stderr",
     "output_type": "stream",
     "text": [
      " 76%|███████████████████████████▍        | 7.618285714287433/10 [35:08<11:43, 295.26s/it]"
     ]
    },
    {
     "name": "stdout",
     "output_type": "stream",
     "text": [
      "Train Epoch: 8 [17280/22400 (77%)]\tLoss: 0.004606\n",
      "Mem before-during-after: 22687232 22838272 22687232\n"
     ]
    },
    {
     "name": "stderr",
     "output_type": "stream",
     "text": [
      " 76%|██████████████████████████▋        | 7.6411428571445885/10 [35:14<11:06, 282.67s/it]"
     ]
    },
    {
     "name": "stdout",
     "output_type": "stream",
     "text": [
      "Train Epoch: 8 [17920/22400 (80%)]\tLoss: 0.059742\n",
      "Mem before-during-after: 22687232 22838272 22687232\n"
     ]
    },
    {
     "name": "stderr",
     "output_type": "stream",
     "text": [
      " 77%|███████████████████████████▌        | 7.664000000001744/10 [35:21<10:51, 278.98s/it]"
     ]
    },
    {
     "name": "stdout",
     "output_type": "stream",
     "text": [
      "Train Epoch: 8 [18560/22400 (83%)]\tLoss: 0.148988\n",
      "Mem before-during-after: 22687232 22838272 22687232\n"
     ]
    },
    {
     "name": "stderr",
     "output_type": "stream",
     "text": [
      " 77%|█████████████████████████████▏        | 7.6868571428589/10 [35:27<11:24, 296.02s/it]"
     ]
    },
    {
     "name": "stdout",
     "output_type": "stream",
     "text": [
      "Train Epoch: 8 [19200/22400 (86%)]\tLoss: 0.277949\n",
      "Mem before-during-after: 22687232 22838272 22687232\n"
     ]
    },
    {
     "name": "stderr",
     "output_type": "stream",
     "text": [
      " 77%|███████████████████████████▊        | 7.709142857144626/10 [35:34<11:23, 298.50s/it]"
     ]
    },
    {
     "name": "stdout",
     "output_type": "stream",
     "text": [
      "Train Epoch: 8 [19840/22400 (89%)]\tLoss: 0.307859\n",
      "Mem before-during-after: 22687232 22838272 22687232\n"
     ]
    },
    {
     "name": "stderr",
     "output_type": "stream",
     "text": [
      " 77%|███████████████████████████▊        | 7.732571428573211/10 [35:40<10:30, 278.12s/it]"
     ]
    },
    {
     "name": "stdout",
     "output_type": "stream",
     "text": [
      "Train Epoch: 8 [20480/22400 (91%)]\tLoss: 0.162800\n",
      "Mem before-during-after: 22687232 22838272 22687232\n"
     ]
    },
    {
     "name": "stderr",
     "output_type": "stream",
     "text": [
      " 78%|███████████████████████████▉        | 7.755428571430366/10 [35:47<10:22, 277.23s/it]"
     ]
    },
    {
     "name": "stdout",
     "output_type": "stream",
     "text": [
      "Train Epoch: 8 [21120/22400 (94%)]\tLoss: 0.062466\n",
      "Mem before-during-after: 22687232 22838272 22687232\n"
     ]
    },
    {
     "name": "stderr",
     "output_type": "stream",
     "text": [
      " 78%|████████████████████████████        | 7.778285714287522/10 [35:53<10:09, 274.17s/it]"
     ]
    },
    {
     "name": "stdout",
     "output_type": "stream",
     "text": [
      "Train Epoch: 8 [21760/22400 (97%)]\tLoss: 0.066367\n",
      "Mem before-during-after: 22687232 22838272 22687232\n"
     ]
    },
    {
     "name": "stderr",
     "output_type": "stream",
     "text": [
      " 80%|████████████████████████████▊       | 8.000571428573359/10 [36:55<09:30, 285.12s/it]"
     ]
    },
    {
     "name": "stdout",
     "output_type": "stream",
     "text": [
      "\n",
      "Test Epoch: 8\tAccuracy: 5089/5600 (91%)\n",
      "\n",
      "Train Epoch: 9 [0/22400 (0%)]\tLoss: 0.003702\n",
      "Mem before-during-after: 22686208 22838272 22687232\n"
     ]
    },
    {
     "name": "stderr",
     "output_type": "stream",
     "text": [
      " 80%|████████████████████████████▉       | 8.024000000001907/10 [37:02<09:29, 288.00s/it]"
     ]
    },
    {
     "name": "stdout",
     "output_type": "stream",
     "text": [
      "Train Epoch: 9 [640/22400 (3%)]\tLoss: 1.331390\n",
      "Mem before-during-after: 22687232 22838272 22687232\n"
     ]
    },
    {
     "name": "stderr",
     "output_type": "stream",
     "text": [
      " 80%|████████████████████████████▉       | 8.046857142859027/10 [37:08<08:58, 275.75s/it]"
     ]
    },
    {
     "name": "stdout",
     "output_type": "stream",
     "text": [
      "Train Epoch: 9 [1280/22400 (6%)]\tLoss: 0.076066\n",
      "Mem before-during-after: 22687232 22838272 22687232\n"
     ]
    },
    {
     "name": "stderr",
     "output_type": "stream",
     "text": [
      " 81%|█████████████████████████████       | 8.069714285716147/10 [37:15<08:46, 272.67s/it]"
     ]
    },
    {
     "name": "stdout",
     "output_type": "stream",
     "text": [
      "Train Epoch: 9 [1920/22400 (9%)]\tLoss: 0.217666\n",
      "Mem before-during-after: 22687232 22838272 22687232\n"
     ]
    },
    {
     "name": "stderr",
     "output_type": "stream",
     "text": [
      " 81%|█████████████████████████████▏      | 8.092571428573267/10 [37:21<08:50, 278.04s/it]"
     ]
    },
    {
     "name": "stdout",
     "output_type": "stream",
     "text": [
      "Train Epoch: 9 [2560/22400 (11%)]\tLoss: 0.282371\n",
      "Mem before-during-after: 22687232 22838272 22687232\n"
     ]
    },
    {
     "name": "stderr",
     "output_type": "stream",
     "text": [
      " 81%|█████████████████████████████▏      | 8.115428571430387/10 [37:27<08:36, 273.86s/it]"
     ]
    },
    {
     "name": "stdout",
     "output_type": "stream",
     "text": [
      "Train Epoch: 9 [3200/22400 (14%)]\tLoss: 0.080477\n",
      "Mem before-during-after: 22687232 22838272 22687232\n"
     ]
    },
    {
     "name": "stderr",
     "output_type": "stream",
     "text": [
      " 81%|█████████████████████████████▎      | 8.138285714287507/10 [37:34<08:20, 268.92s/it]"
     ]
    },
    {
     "name": "stdout",
     "output_type": "stream",
     "text": [
      "Train Epoch: 9 [3840/22400 (17%)]\tLoss: 0.012745\n",
      "Mem before-during-after: 22687232 22838272 22687232\n"
     ]
    },
    {
     "name": "stderr",
     "output_type": "stream",
     "text": [
      " 82%|█████████████████████████████▍      | 8.161142857144627/10 [37:40<08:58, 293.00s/it]"
     ]
    },
    {
     "name": "stdout",
     "output_type": "stream",
     "text": [
      "Train Epoch: 9 [4480/22400 (20%)]\tLoss: 0.293309\n",
      "Mem before-during-after: 22687232 22838272 22687232\n"
     ]
    },
    {
     "name": "stderr",
     "output_type": "stream",
     "text": [
      " 82%|█████████████████████████████▍      | 8.184000000001747/10 [37:47<08:03, 266.09s/it]"
     ]
    },
    {
     "name": "stdout",
     "output_type": "stream",
     "text": [
      "Train Epoch: 9 [5120/22400 (23%)]\tLoss: 0.047304\n",
      "Mem before-during-after: 22687232 22838272 22687232\n"
     ]
    },
    {
     "name": "stderr",
     "output_type": "stream",
     "text": [
      " 82%|█████████████████████████████▌      | 8.206857142858867/10 [37:53<08:08, 272.18s/it]"
     ]
    },
    {
     "name": "stdout",
     "output_type": "stream",
     "text": [
      "Train Epoch: 9 [5760/22400 (26%)]\tLoss: 0.005146\n",
      "Mem before-during-after: 22687232 22838272 22687232\n"
     ]
    },
    {
     "name": "stderr",
     "output_type": "stream",
     "text": [
      " 82%|█████████████████████████████▋      | 8.229714285715987/10 [37:59<08:40, 293.99s/it]"
     ]
    },
    {
     "name": "stdout",
     "output_type": "stream",
     "text": [
      "Train Epoch: 9 [6400/22400 (29%)]\tLoss: 0.306914\n",
      "Mem before-during-after: 22687232 22838272 22687232\n"
     ]
    },
    {
     "name": "stderr",
     "output_type": "stream",
     "text": [
      " 83%|█████████████████████████████▋      | 8.252571428573107/10 [38:06<07:56, 272.67s/it]"
     ]
    },
    {
     "name": "stdout",
     "output_type": "stream",
     "text": [
      "Train Epoch: 9 [7040/22400 (31%)]\tLoss: 0.010505\n",
      "Mem before-during-after: 22687232 22838272 22687232\n"
     ]
    },
    {
     "name": "stderr",
     "output_type": "stream",
     "text": [
      " 83%|█████████████████████████████▊      | 8.275428571430227/10 [38:13<08:23, 291.91s/it]"
     ]
    },
    {
     "name": "stdout",
     "output_type": "stream",
     "text": [
      "Train Epoch: 9 [7680/22400 (34%)]\tLoss: 0.002317\n",
      "Mem before-during-after: 22687232 22838272 22687232\n"
     ]
    },
    {
     "name": "stderr",
     "output_type": "stream",
     "text": [
      " 83%|█████████████████████████████▊      | 8.298285714287347/10 [38:19<07:53, 278.54s/it]"
     ]
    },
    {
     "name": "stdout",
     "output_type": "stream",
     "text": [
      "Train Epoch: 9 [8320/22400 (37%)]\tLoss: 0.601435\n",
      "Mem before-during-after: 22687232 22838272 22687232\n"
     ]
    },
    {
     "name": "stderr",
     "output_type": "stream",
     "text": [
      " 83%|█████████████████████████████▉      | 8.321142857144467/10 [38:26<08:19, 297.50s/it]"
     ]
    },
    {
     "name": "stdout",
     "output_type": "stream",
     "text": [
      "Train Epoch: 9 [8960/22400 (40%)]\tLoss: 0.039567\n",
      "Mem before-during-after: 22687232 22838272 22687232\n"
     ]
    },
    {
     "name": "stderr",
     "output_type": "stream",
     "text": [
      " 83%|██████████████████████████████      | 8.344000000001587/10 [38:32<07:59, 289.39s/it]"
     ]
    },
    {
     "name": "stdout",
     "output_type": "stream",
     "text": [
      "Train Epoch: 9 [9600/22400 (43%)]\tLoss: 0.130881\n",
      "Mem before-during-after: 22687232 22838272 22687232\n"
     ]
    },
    {
     "name": "stderr",
     "output_type": "stream",
     "text": [
      " 84%|██████████████████████████████      | 8.366857142858708/10 [38:39<07:55, 290.88s/it]"
     ]
    },
    {
     "name": "stdout",
     "output_type": "stream",
     "text": [
      "Train Epoch: 9 [10240/22400 (46%)]\tLoss: 0.002645\n",
      "Mem before-during-after: 22687232 22838272 22687232\n"
     ]
    },
    {
     "name": "stderr",
     "output_type": "stream",
     "text": [
      " 84%|██████████████████████████████▏     | 8.389714285715828/10 [38:45<07:22, 274.70s/it]"
     ]
    },
    {
     "name": "stdout",
     "output_type": "stream",
     "text": [
      "Train Epoch: 9 [10880/22400 (49%)]\tLoss: 0.011295\n",
      "Mem before-during-after: 22687232 22838272 22687232\n"
     ]
    },
    {
     "name": "stderr",
     "output_type": "stream",
     "text": [
      " 84%|██████████████████████████████▎     | 8.412571428572948/10 [38:52<07:25, 280.47s/it]"
     ]
    },
    {
     "name": "stdout",
     "output_type": "stream",
     "text": [
      "Train Epoch: 9 [11520/22400 (51%)]\tLoss: 0.132843\n",
      "Mem before-during-after: 22687232 22838272 22687232\n"
     ]
    },
    {
     "name": "stderr",
     "output_type": "stream",
     "text": [
      " 84%|██████████████████████████████▎     | 8.435428571430068/10 [38:58<07:36, 291.71s/it]"
     ]
    },
    {
     "name": "stdout",
     "output_type": "stream",
     "text": [
      "Train Epoch: 9 [12160/22400 (54%)]\tLoss: 0.008807\n",
      "Mem before-during-after: 22687232 22838272 22687232\n"
     ]
    },
    {
     "name": "stderr",
     "output_type": "stream",
     "text": [
      " 85%|██████████████████████████████▍     | 8.458285714287188/10 [39:05<07:22, 287.29s/it]"
     ]
    },
    {
     "name": "stdout",
     "output_type": "stream",
     "text": [
      "Train Epoch: 9 [12800/22400 (57%)]\tLoss: 0.325018\n",
      "Mem before-during-after: 22687232 22838272 22687232\n"
     ]
    },
    {
     "name": "stderr",
     "output_type": "stream",
     "text": [
      " 85%|██████████████████████████████▌     | 8.481142857144308/10 [39:11<06:55, 273.41s/it]"
     ]
    },
    {
     "name": "stdout",
     "output_type": "stream",
     "text": [
      "Train Epoch: 9 [13440/22400 (60%)]\tLoss: 0.105417\n",
      "Mem before-during-after: 22687232 22838272 22687232\n"
     ]
    },
    {
     "name": "stderr",
     "output_type": "stream",
     "text": [
      " 85%|██████████████████████████████▌     | 8.504000000001428/10 [39:17<06:44, 270.24s/it]"
     ]
    },
    {
     "name": "stdout",
     "output_type": "stream",
     "text": [
      "Train Epoch: 9 [14080/22400 (63%)]\tLoss: 0.197202\n",
      "Mem before-during-after: 22687232 22838272 22687232\n"
     ]
    },
    {
     "name": "stderr",
     "output_type": "stream",
     "text": [
      " 85%|██████████████████████████████▋     | 8.526857142858548/10 [39:24<07:02, 286.89s/it]"
     ]
    },
    {
     "name": "stdout",
     "output_type": "stream",
     "text": [
      "Train Epoch: 9 [14720/22400 (66%)]\tLoss: 0.175713\n",
      "Mem before-during-after: 22687232 22838272 22687232\n"
     ]
    },
    {
     "name": "stderr",
     "output_type": "stream",
     "text": [
      " 85%|██████████████████████████████▊     | 8.549714285715668/10 [39:31<06:25, 265.85s/it]"
     ]
    },
    {
     "name": "stdout",
     "output_type": "stream",
     "text": [
      "Train Epoch: 9 [15360/22400 (69%)]\tLoss: 0.077053\n",
      "Mem before-during-after: 22687232 22838272 22687232\n"
     ]
    },
    {
     "name": "stderr",
     "output_type": "stream",
     "text": [
      " 86%|██████████████████████████████▊     | 8.572571428572788/10 [39:37<06:40, 280.68s/it]"
     ]
    },
    {
     "name": "stdout",
     "output_type": "stream",
     "text": [
      "Train Epoch: 9 [16000/22400 (71%)]\tLoss: 0.039532\n",
      "Mem before-during-after: 22687232 22838272 22687232\n"
     ]
    },
    {
     "name": "stderr",
     "output_type": "stream",
     "text": [
      " 86%|██████████████████████████████▉     | 8.595428571429908/10 [39:44<06:35, 281.82s/it]"
     ]
    },
    {
     "name": "stdout",
     "output_type": "stream",
     "text": [
      "Train Epoch: 9 [16640/22400 (74%)]\tLoss: 0.258140\n",
      "Mem before-during-after: 22687232 22838272 22687232\n"
     ]
    },
    {
     "name": "stderr",
     "output_type": "stream",
     "text": [
      " 86%|███████████████████████████████     | 8.618285714287028/10 [39:50<06:25, 278.89s/it]"
     ]
    },
    {
     "name": "stdout",
     "output_type": "stream",
     "text": [
      "Train Epoch: 9 [17280/22400 (77%)]\tLoss: 0.002677\n",
      "Mem before-during-after: 22687232 22838272 22687232\n"
     ]
    },
    {
     "name": "stderr",
     "output_type": "stream",
     "text": [
      " 86%|███████████████████████████████     | 8.641142857144148/10 [39:57<06:17, 278.13s/it]"
     ]
    },
    {
     "name": "stdout",
     "output_type": "stream",
     "text": [
      "Train Epoch: 9 [17920/22400 (80%)]\tLoss: 0.339357\n",
      "Mem before-during-after: 22687232 22838272 22687232\n"
     ]
    },
    {
     "name": "stderr",
     "output_type": "stream",
     "text": [
      " 87%|███████████████████████████████▏    | 8.664000000001268/10 [40:03<06:06, 274.61s/it]"
     ]
    },
    {
     "name": "stdout",
     "output_type": "stream",
     "text": [
      "Train Epoch: 9 [18560/22400 (83%)]\tLoss: 0.143330\n",
      "Mem before-during-after: 22687232 22838272 22687232\n"
     ]
    },
    {
     "name": "stderr",
     "output_type": "stream",
     "text": [
      " 87%|███████████████████████████████▎    | 8.686857142858388/10 [40:10<06:07, 280.20s/it]"
     ]
    },
    {
     "name": "stdout",
     "output_type": "stream",
     "text": [
      "Train Epoch: 9 [19200/22400 (86%)]\tLoss: 0.047607\n",
      "Mem before-during-after: 22687232 22838272 22687232\n"
     ]
    },
    {
     "name": "stderr",
     "output_type": "stream",
     "text": [
      " 87%|███████████████████████████████▎    | 8.709714285715508/10 [40:16<05:58, 277.78s/it]"
     ]
    },
    {
     "name": "stdout",
     "output_type": "stream",
     "text": [
      "Train Epoch: 9 [19840/22400 (89%)]\tLoss: 0.163843\n",
      "Mem before-during-after: 22687232 22838272 22687232\n"
     ]
    },
    {
     "name": "stderr",
     "output_type": "stream",
     "text": [
      " 87%|███████████████████████████████▍    | 8.732571428572628/10 [40:22<05:41, 269.62s/it]"
     ]
    },
    {
     "name": "stdout",
     "output_type": "stream",
     "text": [
      "Train Epoch: 9 [20480/22400 (91%)]\tLoss: 0.652994\n",
      "Mem before-during-after: 22687232 22838272 22687232\n"
     ]
    },
    {
     "name": "stderr",
     "output_type": "stream",
     "text": [
      " 88%|███████████████████████████████▌    | 8.755428571429748/10 [40:29<05:36, 270.59s/it]"
     ]
    },
    {
     "name": "stdout",
     "output_type": "stream",
     "text": [
      "Train Epoch: 9 [21120/22400 (94%)]\tLoss: 0.000886\n",
      "Mem before-during-after: 22687232 22838272 22687232\n"
     ]
    },
    {
     "name": "stderr",
     "output_type": "stream",
     "text": [
      " 88%|███████████████████████████████▌    | 8.778285714286868/10 [40:35<05:28, 269.29s/it]"
     ]
    },
    {
     "name": "stdout",
     "output_type": "stream",
     "text": [
      "Train Epoch: 9 [21760/22400 (97%)]\tLoss: 0.083300\n",
      "Mem before-during-after: 22687232 22838272 22687232\n"
     ]
    },
    {
     "name": "stderr",
     "output_type": "stream",
     "text": [
      " 90%|█████████████████████████████████▎   | 9.00057142857236/10 [41:37<04:29, 269.40s/it]"
     ]
    },
    {
     "name": "stdout",
     "output_type": "stream",
     "text": [
      "\n",
      "Test Epoch: 9\tAccuracy: 5225/5600 (93%)\n",
      "\n",
      "Train Epoch: 10 [0/22400 (0%)]\tLoss: 0.003829\n",
      "Mem before-during-after: 22686208 22838272 22687232\n"
     ]
    },
    {
     "name": "stderr",
     "output_type": "stream",
     "text": [
      " 90%|████████████████████████████████▍   | 9.024000000000909/10 [41:43<04:42, 289.32s/it]"
     ]
    },
    {
     "name": "stdout",
     "output_type": "stream",
     "text": [
      "Train Epoch: 10 [640/22400 (3%)]\tLoss: 0.241033\n",
      "Mem before-during-after: 22687232 22838272 22687232\n"
     ]
    },
    {
     "name": "stderr",
     "output_type": "stream",
     "text": [
      " 90%|████████████████████████████████▌   | 9.046857142858029/10 [41:50<04:26, 279.74s/it]"
     ]
    },
    {
     "name": "stdout",
     "output_type": "stream",
     "text": [
      "Train Epoch: 10 [1280/22400 (6%)]\tLoss: 0.006452\n",
      "Mem before-during-after: 22687232 22838272 22687232\n"
     ]
    },
    {
     "name": "stderr",
     "output_type": "stream",
     "text": [
      " 91%|████████████████████████████████▋   | 9.069714285715149/10 [41:56<04:21, 280.83s/it]"
     ]
    },
    {
     "name": "stdout",
     "output_type": "stream",
     "text": [
      "Train Epoch: 10 [1920/22400 (9%)]\tLoss: 0.797327\n",
      "Mem before-during-after: 22687232 22838272 22687232\n"
     ]
    },
    {
     "name": "stderr",
     "output_type": "stream",
     "text": [
      " 91%|████████████████████████████████▋   | 9.092571428572269/10 [42:03<04:03, 267.81s/it]"
     ]
    },
    {
     "name": "stdout",
     "output_type": "stream",
     "text": [
      "Train Epoch: 10 [2560/22400 (11%)]\tLoss: 0.136897\n",
      "Mem before-during-after: 22687232 22838272 22687232\n"
     ]
    },
    {
     "name": "stderr",
     "output_type": "stream",
     "text": [
      " 91%|█████████████████████████████████▋   | 9.11485714285796/10 [42:09<04:11, 284.22s/it]"
     ]
    },
    {
     "name": "stdout",
     "output_type": "stream",
     "text": [
      "Train Epoch: 10 [3200/22400 (14%)]\tLoss: 0.000975\n",
      "Mem before-during-after: 22687232 22838272 22687232\n"
     ]
    },
    {
     "name": "stderr",
     "output_type": "stream",
     "text": [
      " 91%|████████████████████████████████▉   | 9.138285714286509/10 [42:16<04:02, 281.15s/it]"
     ]
    },
    {
     "name": "stdout",
     "output_type": "stream",
     "text": [
      "Train Epoch: 10 [3840/22400 (17%)]\tLoss: 0.009446\n",
      "Mem before-during-after: 22687232 22838272 22687232\n"
     ]
    },
    {
     "name": "stderr",
     "output_type": "stream",
     "text": [
      " 92%|████████████████████████████████▉   | 9.161142857143629/10 [42:23<03:53, 278.05s/it]"
     ]
    },
    {
     "name": "stdout",
     "output_type": "stream",
     "text": [
      "Train Epoch: 10 [4480/22400 (20%)]\tLoss: 0.146131\n",
      "Mem before-during-after: 22687232 22838272 22687232\n"
     ]
    },
    {
     "name": "stderr",
     "output_type": "stream",
     "text": [
      " 92%|█████████████████████████████████   | 9.184000000000749/10 [42:29<03:41, 271.20s/it]"
     ]
    },
    {
     "name": "stdout",
     "output_type": "stream",
     "text": [
      "Train Epoch: 10 [5120/22400 (23%)]\tLoss: 0.010061\n",
      "Mem before-during-after: 22687232 22838272 22687232\n"
     ]
    },
    {
     "name": "stderr",
     "output_type": "stream",
     "text": [
      " 92%|█████████████████████████████████▏  | 9.206857142857869/10 [42:35<03:37, 273.89s/it]"
     ]
    },
    {
     "name": "stdout",
     "output_type": "stream",
     "text": [
      "Train Epoch: 10 [5760/22400 (26%)]\tLoss: 0.002701\n",
      "Mem before-during-after: 22687232 22838272 22687232\n"
     ]
    },
    {
     "name": "stderr",
     "output_type": "stream",
     "text": [
      " 92%|█████████████████████████████████▏  | 9.229714285714989/10 [42:42<03:27, 269.25s/it]"
     ]
    },
    {
     "name": "stdout",
     "output_type": "stream",
     "text": [
      "Train Epoch: 10 [6400/22400 (29%)]\tLoss: 0.038119\n",
      "Mem before-during-after: 22687232 22838272 22687232\n"
     ]
    },
    {
     "name": "stderr",
     "output_type": "stream",
     "text": [
      " 93%|█████████████████████████████████▎  | 9.252571428572109/10 [42:48<03:23, 272.10s/it]"
     ]
    },
    {
     "name": "stdout",
     "output_type": "stream",
     "text": [
      "Train Epoch: 10 [7040/22400 (31%)]\tLoss: 0.339707\n",
      "Mem before-during-after: 22687232 22838272 22687232\n"
     ]
    },
    {
     "name": "stderr",
     "output_type": "stream",
     "text": [
      " 93%|█████████████████████████████████▍  | 9.275428571429229/10 [42:54<03:26, 284.83s/it]"
     ]
    },
    {
     "name": "stdout",
     "output_type": "stream",
     "text": [
      "Train Epoch: 10 [7680/22400 (34%)]\tLoss: 0.173308\n",
      "Mem before-during-after: 22687232 22838272 22687232\n"
     ]
    },
    {
     "name": "stderr",
     "output_type": "stream",
     "text": [
      " 93%|█████████████████████████████████▍  | 9.298285714286349/10 [43:01<03:11, 273.51s/it]"
     ]
    },
    {
     "name": "stdout",
     "output_type": "stream",
     "text": [
      "Train Epoch: 10 [8320/22400 (37%)]\tLoss: 0.016716\n",
      "Mem before-during-after: 22687232 22838272 22687232\n"
     ]
    },
    {
     "name": "stderr",
     "output_type": "stream",
     "text": [
      " 93%|██████████████████████████████████▍  | 9.32114285714347/10 [43:07<03:03, 270.62s/it]"
     ]
    },
    {
     "name": "stdout",
     "output_type": "stream",
     "text": [
      "Train Epoch: 10 [8960/22400 (40%)]\tLoss: 0.095434\n",
      "Mem before-during-after: 22687232 22838272 22687232\n"
     ]
    },
    {
     "name": "stderr",
     "output_type": "stream",
     "text": [
      " 93%|██████████████████████████████████▌  | 9.34400000000059/10 [43:14<03:02, 278.43s/it]"
     ]
    },
    {
     "name": "stdout",
     "output_type": "stream",
     "text": [
      "Train Epoch: 10 [9600/22400 (43%)]\tLoss: 0.000051\n",
      "Mem before-during-after: 22687232 22838272 22687232\n"
     ]
    },
    {
     "name": "stderr",
     "output_type": "stream",
     "text": [
      " 94%|██████████████████████████████████▋  | 9.36685714285771/10 [43:20<02:49, 267.06s/it]"
     ]
    },
    {
     "name": "stdout",
     "output_type": "stream",
     "text": [
      "Train Epoch: 10 [10240/22400 (46%)]\tLoss: 1.187967\n",
      "Mem before-during-after: 22687232 22838272 22687232\n"
     ]
    },
    {
     "name": "stderr",
     "output_type": "stream",
     "text": [
      " 94%|██████████████████████████████████▋  | 9.38971428571483/10 [43:26<02:47, 274.67s/it]"
     ]
    },
    {
     "name": "stdout",
     "output_type": "stream",
     "text": [
      "Train Epoch: 10 [10880/22400 (49%)]\tLoss: 0.000474\n",
      "Mem before-during-after: 22687232 22838272 22687232\n"
     ]
    },
    {
     "name": "stderr",
     "output_type": "stream",
     "text": [
      " 94%|██████████████████████████████████▊  | 9.41257142857195/10 [43:33<02:42, 276.03s/it]"
     ]
    },
    {
     "name": "stdout",
     "output_type": "stream",
     "text": [
      "Train Epoch: 10 [11520/22400 (51%)]\tLoss: 0.000033\n",
      "Mem before-during-after: 22687232 22838272 22687232\n"
     ]
    },
    {
     "name": "stderr",
     "output_type": "stream",
     "text": [
      " 94%|██████████████████████████████████▉  | 9.43542857142907/10 [43:39<02:41, 285.77s/it]"
     ]
    },
    {
     "name": "stdout",
     "output_type": "stream",
     "text": [
      "Train Epoch: 10 [12160/22400 (54%)]\tLoss: 0.343223\n",
      "Mem before-during-after: 22687232 22838272 22687232\n"
     ]
    },
    {
     "name": "stderr",
     "output_type": "stream",
     "text": [
      " 95%|██████████████████████████████████▉  | 9.45828571428619/10 [43:46<02:29, 275.98s/it]"
     ]
    },
    {
     "name": "stdout",
     "output_type": "stream",
     "text": [
      "Train Epoch: 10 [12800/22400 (57%)]\tLoss: 0.122501\n",
      "Mem before-during-after: 22687232 22838272 22687232\n"
     ]
    },
    {
     "name": "stderr",
     "output_type": "stream",
     "text": [
      " 95%|███████████████████████████████████  | 9.48114285714331/10 [43:52<02:29, 287.20s/it]"
     ]
    },
    {
     "name": "stdout",
     "output_type": "stream",
     "text": [
      "Train Epoch: 10 [13440/22400 (60%)]\tLoss: 0.314991\n",
      "Mem before-during-after: 22687232 22838272 22687232\n"
     ]
    },
    {
     "name": "stderr",
     "output_type": "stream",
     "text": [
      " 95%|███████████████████████████████████▏ | 9.50400000000043/10 [43:59<02:34, 310.92s/it]"
     ]
    },
    {
     "name": "stdout",
     "output_type": "stream",
     "text": [
      "Train Epoch: 10 [14080/22400 (63%)]\tLoss: 0.035312\n",
      "Mem before-during-after: 22687232 22838272 22687232\n"
     ]
    },
    {
     "name": "stderr",
     "output_type": "stream",
     "text": [
      " 95%|███████████████████████████████████▏ | 9.52685714285755/10 [44:05<02:06, 267.65s/it]"
     ]
    },
    {
     "name": "stdout",
     "output_type": "stream",
     "text": [
      "Train Epoch: 10 [14720/22400 (66%)]\tLoss: 0.330441\n",
      "Mem before-during-after: 22687232 22838272 22687232\n"
     ]
    },
    {
     "name": "stderr",
     "output_type": "stream",
     "text": [
      " 95%|███████████████████████████████████▎ | 9.54971428571467/10 [44:12<01:58, 262.53s/it]"
     ]
    },
    {
     "name": "stdout",
     "output_type": "stream",
     "text": [
      "Train Epoch: 10 [15360/22400 (69%)]\tLoss: 0.002829\n",
      "Mem before-during-after: 22687232 22838272 22687232\n"
     ]
    },
    {
     "name": "stderr",
     "output_type": "stream",
     "text": [
      " 96%|███████████████████████████████████▍ | 9.57257142857179/10 [44:18<02:10, 305.84s/it]"
     ]
    },
    {
     "name": "stdout",
     "output_type": "stream",
     "text": [
      "Train Epoch: 10 [16000/22400 (71%)]\tLoss: 0.046839\n",
      "Mem before-during-after: 22687232 22838272 22687232\n"
     ]
    },
    {
     "name": "stderr",
     "output_type": "stream",
     "text": [
      " 96%|███████████████████████████████████▌ | 9.59542857142891/10 [44:25<01:55, 286.23s/it]"
     ]
    },
    {
     "name": "stdout",
     "output_type": "stream",
     "text": [
      "Train Epoch: 10 [16640/22400 (74%)]\tLoss: 0.000551\n",
      "Mem before-during-after: 22687232 22838272 22687232\n"
     ]
    },
    {
     "name": "stderr",
     "output_type": "stream",
     "text": [
      " 96%|███████████████████████████████████▌ | 9.61828571428603/10 [44:31<01:50, 289.80s/it]"
     ]
    },
    {
     "name": "stdout",
     "output_type": "stream",
     "text": [
      "Train Epoch: 10 [17280/22400 (77%)]\tLoss: 0.136877\n",
      "Mem before-during-after: 22687232 22838272 22687232\n"
     ]
    },
    {
     "name": "stderr",
     "output_type": "stream",
     "text": [
      " 96%|███████████████████████████████████▋ | 9.64114285714315/10 [44:38<01:43, 288.61s/it]"
     ]
    },
    {
     "name": "stdout",
     "output_type": "stream",
     "text": [
      "Train Epoch: 10 [17920/22400 (80%)]\tLoss: 0.744953\n",
      "Mem before-during-after: 22687232 22838272 22687232\n"
     ]
    },
    {
     "name": "stderr",
     "output_type": "stream",
     "text": [
      " 97%|███████████████████████████████████▊ | 9.66400000000027/10 [44:44<01:32, 274.56s/it]"
     ]
    },
    {
     "name": "stdout",
     "output_type": "stream",
     "text": [
      "Train Epoch: 10 [18560/22400 (83%)]\tLoss: 0.206545\n",
      "Mem before-during-after: 22687232 22838272 22687232\n"
     ]
    },
    {
     "name": "stderr",
     "output_type": "stream",
     "text": [
      " 97%|███████████████████████████████████▊ | 9.68685714285739/10 [44:51<01:25, 273.42s/it]"
     ]
    },
    {
     "name": "stdout",
     "output_type": "stream",
     "text": [
      "Train Epoch: 10 [19200/22400 (86%)]\tLoss: 0.263095\n",
      "Mem before-during-after: 22687232 22838272 22687232\n"
     ]
    },
    {
     "name": "stderr",
     "output_type": "stream",
     "text": [
      " 97%|███████████████████████████████████▉ | 9.70971428571451/10 [44:57<01:18, 270.71s/it]"
     ]
    },
    {
     "name": "stdout",
     "output_type": "stream",
     "text": [
      "Train Epoch: 10 [19840/22400 (89%)]\tLoss: 0.269463\n",
      "Mem before-during-after: 22687232 22838272 22687232\n"
     ]
    },
    {
     "name": "stderr",
     "output_type": "stream",
     "text": [
      " 97%|████████████████████████████████████ | 9.73257142857163/10 [45:04<01:12, 272.80s/it]"
     ]
    },
    {
     "name": "stdout",
     "output_type": "stream",
     "text": [
      "Train Epoch: 10 [20480/22400 (91%)]\tLoss: 0.094723\n",
      "Mem before-during-after: 22687232 22838272 22687232\n"
     ]
    },
    {
     "name": "stderr",
     "output_type": "stream",
     "text": [
      " 98%|████████████████████████████████████ | 9.75542857142875/10 [45:10<01:05, 267.00s/it]"
     ]
    },
    {
     "name": "stdout",
     "output_type": "stream",
     "text": [
      "Train Epoch: 10 [21120/22400 (94%)]\tLoss: 0.171444\n",
      "Mem before-during-after: 22687232 22838272 22687232\n"
     ]
    },
    {
     "name": "stderr",
     "output_type": "stream",
     "text": [
      " 98%|████████████████████████████████████▏| 9.77828571428587/10 [45:16<01:01, 276.29s/it]"
     ]
    },
    {
     "name": "stdout",
     "output_type": "stream",
     "text": [
      "Train Epoch: 10 [21760/22400 (97%)]\tLoss: 0.625730\n",
      "Mem before-during-after: 22687232 22838272 22687232\n"
     ]
    },
    {
     "name": "stderr",
     "output_type": "stream",
     "text": [
      "100%|███████████████████████████████████▉| 9.999999999999934/10 [46:18<00:00, 277.89s/it]"
     ]
    },
    {
     "name": "stdout",
     "output_type": "stream",
     "text": [
      "\n",
      "Test Epoch: 10\tAccuracy: 5239/5600 (94%)\n",
      "\n"
     ]
    },
    {
     "name": "stderr",
     "output_type": "stream",
     "text": [
      "\n"
     ]
    }
   ],
   "source": [
    "log_interval = 40\n",
    "pbar_update = 1 / (len(train_loader) + len(test_loader))\n",
    "model.to(device)\n",
    "with tqdm(total=n_epoch) as pbar:\n",
    "    for epoch in range(1, n_epoch + 1):\n",
    "        train(model, epoch, log_interval, train_losses)\n",
    "        acc = test(model, epoch)\n",
    "        test_accuracy += [acc]\n",
    "        scheduler.step()"
   ]
  },
  {
   "cell_type": "code",
   "execution_count": 15,
   "id": "1da212d1-afc7-40d0-9ed1-84f53e34046d",
   "metadata": {},
   "outputs": [
    {
     "data": {
      "text/plain": [
       "[<matplotlib.lines.Line2D at 0x7feca40f30a0>]"
      ]
     },
     "execution_count": 15,
     "metadata": {},
     "output_type": "execute_result"
    },
    {
     "data": {
      "image/png": "[encoded data removed]",
      "text/plain": [
       "<Figure size 640x480 with 1 Axes>"
      ]
     },
     "metadata": {},
     "output_type": "display_data"
    }
   ],
   "source": [
    "plt.plot(train_losses)"
   ]
  },
  {
   "cell_type": "code",
   "execution_count": 16,
   "id": "4b7da3dd-0a9a-444f-84f7-4844cd316ca3",
   "metadata": {},
   "outputs": [
    {
     "data": {
      "text/plain": [
       "[<matplotlib.lines.Line2D at 0x7fec9d464490>]"
      ]
     },
     "execution_count": 16,
     "metadata": {},
     "output_type": "execute_result"
    },
    {
     "data": {
      "image/png": "[encoded data removed]",
      "text/plain": [
       "<Figure size 640x480 with 1 Axes>"
      ]
     },
     "metadata": {},
     "output_type": "display_data"
    }
   ],
   "source": [
    "plt.plot(test_accuracy)"
   ]
  },
  {
   "cell_type": "code",
   "execution_count": 17,
   "id": "e9382b76-4ccb-4005-a2f5-7d8ff97f2362",
   "metadata": {},
   "outputs": [],
   "source": [
    "from torchmetrics.classification import (\n",
    "    MulticlassAccuracy, MulticlassPrecision, \n",
    "    MulticlassRecall, MulticlassF1Score, \n",
    "    MulticlassConfusionMatrix,\n",
    "    MulticlassAUROC\n",
    ")\n",
    "from torchmetrics import MetricCollection\n",
    "from pprint import pprint\n",
    "\n",
    "@torch.no_grad\n",
    "def report_metrics(model, labels=labels, \n",
    "                   test_loader=test_loader, device=device):\n",
    "    n = len(labels)\n",
    "    metrics = MetricCollection({\n",
    "        'acc_unweighted': MulticlassAccuracy(num_classes=n, average='macro'), \n",
    "        'acc_weighted': MulticlassAccuracy(num_classes=n, average='weighted'), \n",
    "        \n",
    "        'f1s_unweighted': MulticlassF1Score(num_classes=n, average='macro'),  \n",
    "        'f1s_weighted': MulticlassF1Score(num_classes=n, average='weighted'),  \n",
    "\n",
    "        'acc_weighted': MulticlassAccuracy(num_classes=n, average='weighted'), \n",
    "        'uar': MulticlassRecall(num_classes=n, average='macro'), \n",
    "        'wap': MulticlassPrecision(num_classes=n, average='weighted'),\n",
    "        'rocauc': MulticlassAUROC(num_classes=n, average='macro', thresholds=None),    \n",
    "        'f1s_detail': MulticlassF1Score(num_classes=n, average=None),  \n",
    "        'acc_detail': MulticlassAccuracy(num_classes=n, average=None), \n",
    "        'precision_detail': MulticlassPrecision(num_classes=n, average=None),\n",
    "        'recall_detail': MulticlassRecall(num_classes=n, average=None), \n",
    "        'rocauc_detail': MulticlassAUROC(num_classes=n, average=None, thresholds=None),\n",
    "    }).to(device)\n",
    "    confusion_matrix = MulticlassConfusionMatrix(num_classes=n).to(device)\n",
    "    model.eval()\n",
    "    correct = 0\n",
    "    total = 0\n",
    "    for data, target in test_loader:\n",
    "        total += len(target)\n",
    "        \n",
    "        data = data.to(device)\n",
    "        target = target.to(device)\n",
    "        output = model(data).squeeze()\n",
    "        del data\n",
    "        gc.collect()\n",
    "        torch.cuda.empty_cache()\n",
    "        probs = F.softmax(output, dim=-1)\n",
    "        pred = probs.argmax(dim=-1)\n",
    "        correct += pred.eq(target).sum().item()\n",
    "        \n",
    "        metrics.update(probs, target)\n",
    "        confusion_matrix.update(pred, target)\n",
    "        \n",
    "        del target\n",
    "        gc.collect()\n",
    "        torch.cuda.empty_cache()\n",
    "        pbar.update(pbar_update)\n",
    "    print(f'Correct: {correct}/{total} ({correct/total:.4f})')\n",
    "    return metrics, confusion_matrix"
   ]
  },
  {
   "cell_type": "code",
   "execution_count": 18,
   "id": "adf9b4ae-6f94-475f-b557-abc9fec66f42",
   "metadata": {},
   "outputs": [
    {
     "name": "stdout",
     "output_type": "stream",
     "text": [
      "Correct: 5239/5600 (0.9355)\n",
      "{'acc_detail': tensor([0.9307, 0.9164, 0.9821, 0.9129], device='cuda:0'),\n",
      " 'acc_unweighted': tensor(0.9355, device='cuda:0'),\n",
      " 'acc_weighted': tensor(0.9355, device='cuda:0'),\n",
      " 'f1s_detail': tensor([0.9208, 0.9396, 0.9493, 0.9322], device='cuda:0'),\n",
      " 'f1s_unweighted': tensor(0.9355, device='cuda:0'),\n",
      " 'f1s_weighted': tensor(0.9355, device='cuda:0'),\n",
      " 'precision_detail': tensor([0.9112, 0.9639, 0.9185, 0.9523], device='cuda:0'),\n",
      " 'recall_detail': tensor([0.9307, 0.9164, 0.9821, 0.9129], device='cuda:0'),\n",
      " 'rocauc': tensor(0.9945, device='cuda:0'),\n",
      " 'rocauc_detail': tensor([0.9911, 0.9956, 0.9974, 0.9939], device='cuda:0'),\n",
      " 'uar': tensor(0.9355, device='cuda:0'),\n",
      " 'wap': tensor(0.9365, device='cuda:0')}\n"
     ]
    },
    {
     "data": {
      "text/plain": [
       "tensor([[1303,   22,   21,   54],\n",
       "        [  35, 1283,   76,    6],\n",
       "        [   8,   13, 1375,    4],\n",
       "        [  84,   13,   25, 1278]], device='cuda:0')"
      ]
     },
     "execution_count": 18,
     "metadata": {},
     "output_type": "execute_result"
    }
   ],
   "source": [
    "metrics, confusion_matrix = report_metrics(\n",
    "    model, labels=labels, device=device)\n",
    "pprint(metrics.compute())\n",
    "confusion_matrix.compute()"
   ]
  },
  {
   "cell_type": "code",
   "execution_count": 19,
   "id": "bb112e39-8c3a-467b-a7bc-7b116e91e5e1",
   "metadata": {},
   "outputs": [],
   "source": [
    "model_path = '../models_esd4/esd4_m13mfcc128_10epochs.pt' \n",
    "torch.save(model.state_dict(), model_path)"
   ]
  },
  {
   "cell_type": "code",
   "execution_count": null,
   "id": "f00108b7-528f-421d-966b-a5399ae7807c",
   "metadata": {
    "scrolled": true
   },
   "outputs": [],
   "source": [
    "n_epoch = 10\n",
    "n_epoch2 = 50\n",
    "\n",
    "best_accuracy = test_accuracy[-1]\n",
    "best_epoch = n_epoch\n",
    "model_path_prefix = '../models_esd4/esd4_m13mfcc128_best_'\n",
    "\n",
    "optimizer = optim.RAdam(model.parameters(), lr=0.0001)\n",
    "scheduler = optim.lr_scheduler.OneCycleLR(\n",
    "    optimizer, max_lr=0.01,\n",
    "    steps_per_epoch=len(train_loader), epochs=n_epoch2)\n",
    "log_interval = 40\n",
    "pbar_update = 1 / (len(train_loader) + len(test_loader))\n",
    "# model.to(device)\n",
    "with tqdm(total=n_epoch2) as pbar:\n",
    "    for epoch in range(1+n_epoch, n_epoch2 + n_epoch + 1):\n",
    "        train(model, epoch, log_interval, train_losses)\n",
    "        acc = test(model, epoch)\n",
    "        test_accuracy += [acc]\n",
    "        if acc > best_accuracy:\n",
    "            best_accuracy = acc\n",
    "            best_epoch = epoch\n",
    "            bmodel_path = f'{model_path_prefix}{epoch}epoch.pt'\n",
    "            torch.save(model.state_dict(), bmodel_path)\n",
    "            print(f'saved model: {bmodel_path}')\n",
    "        scheduler.step()"
   ]
  },
  {
   "cell_type": "code",
   "execution_count": null,
   "id": "98cd3ae7-f556-47c6-aed8-3da6e86b03a0",
   "metadata": {},
   "outputs": [],
   "source": [
    "plt.plot(train_losses)"
   ]
  },
  {
   "cell_type": "code",
   "execution_count": null,
   "id": "16dc50c4-89e3-4fc6-9be5-d854381a8f55",
   "metadata": {},
   "outputs": [],
   "source": [
    "plt.plot(test_accuracy)"
   ]
  },
  {
   "cell_type": "code",
   "execution_count": null,
   "id": "284e602e-2806-46a3-bb2f-0de430912a0c",
   "metadata": {},
   "outputs": [],
   "source": [
    "metrics2, confusion_matrix2 = report_metrics(\n",
    "    model, labels=labels, device=device)\n",
    "pprint(metrics2.compute())\n",
    "confusion_matrix2.compute()"
   ]
  },
  {
   "cell_type": "code",
   "execution_count": null,
   "id": "06328264-8cb5-490f-9577-854e116d9863",
   "metadata": {},
   "outputs": [],
   "source": [
    "model.to('cpu')\n",
    "best_model_path = f'{model_path_prefix}{best_epoch}epoch.pt'\n",
    "print(best_model_path)\n",
    "best_model = M13(config=model_config,\n",
    "           n_input=1, n_output=len(labels))\n",
    "best_model.load_state_dict(torch.load(best_model_path))\n",
    "best_model.to(device)\n",
    "\n",
    "metrics_best, confusion_matrix_best = report_metrics(\n",
    "    best_model, labels=labels, device=device)\n",
    "best_model.to('cpu')\n",
    "pprint(metrics_best.compute())\n",
    "confusion_matrix_best.compute()"
   ]
  },
  {
   "cell_type": "code",
   "execution_count": 26,
   "id": "2fcae9af-dc12-4855-baf6-0788161ad443",
   "metadata": {},
   "outputs": [],
   "source": [
    "checkpoint_path = f'../models_esd4/esd4_m13mfcc128_{epoch}epoch.ckpt'\n",
    "torch.save({\n",
    "    'epoch': epoch,\n",
    "    'model_state_dict': model.state_dict(),\n",
    "    'optimizer_state_dict': optimizer.state_dict(),\n",
    "    'loss': train_losses[-1],\n",
    "    'best_epoch': best_epoch,\n",
    "    'best_accuracy': best_accuracy,\n",
    "    'train_losses': train_losses,\n",
    "    'test_accuracy': test_accuracy,\n",
    "    'log_interval': log_interval,\n",
    "    }, checkpoint_path)"
   ]
  },
  {
   "cell_type": "code",
   "execution_count": null,
   "id": "a7400fd3-a858-4ea4-9425-384e0e1a493f",
   "metadata": {
    "scrolled": true
   },
   "outputs": [],
   "source": [
    "n_epoch = 10\n",
    "n_epoch2 = 50\n",
    "n_epoch3 = 40\n",
    "\n",
    "optimizer = optim.RAdam(model.parameters(), lr=0.00001)\n",
    "scheduler = optim.lr_scheduler.OneCycleLR(\n",
    "    optimizer, max_lr=0.02, pct_start=0.3,\n",
    "    steps_per_epoch=len(train_loader), epochs=n_epoch3)\n",
    "log_interval = 40\n",
    "pbar_update = 1 / (len(train_loader) + len(test_loader))\n",
    "model.to(device)\n",
    "with tqdm(total=n_epoch3) as pbar:\n",
    "    for epoch in range(1+n_epoch+n_epoch2, n_epoch3+n_epoch2 + n_epoch + 1):\n",
    "        train(model, epoch, log_interval, train_losses)\n",
    "        acc = test(model, epoch)\n",
    "        test_accuracy += [acc]\n",
    "        if acc > best_accuracy:\n",
    "            best_accuracy = acc\n",
    "            best_epoch = epoch\n",
    "            bmodel_path = f'{model_path_prefix}{epoch}epoch.pt'\n",
    "            torch.save(model.state_dict(), bmodel_path)\n",
    "            print(f'saved model: {bmodel_path}')\n",
    "        scheduler.step()"
   ]
  },
  {
   "cell_type": "code",
   "execution_count": null,
   "id": "e9a38920-d2eb-4cd4-a422-7a438fd86204",
   "metadata": {},
   "outputs": [],
   "source": [
    "plt.plot(train_losses)"
   ]
  },
  {
   "cell_type": "code",
   "execution_count": null,
   "id": "62f51495-7c32-4a72-b72d-3a648f214a3d",
   "metadata": {},
   "outputs": [],
   "source": [
    "plt.plot(test_accuracy)"
   ]
  },
  {
   "cell_type": "code",
   "execution_count": null,
   "id": "e66aadf3-1ca0-4e4a-8195-6a65656fcd74",
   "metadata": {},
   "outputs": [],
   "source": [
    "model.to('cpu')\n",
    "best_model_path = f'{model_path_prefix}{best_epoch}epoch.pt'\n",
    "print(best_model_path)\n",
    "best_model = M13(config=model_config,\n",
    "           n_input=1, n_output=len(labels))\n",
    "best_model.load_state_dict(torch.load(best_model_path))\n",
    "best_model.to(device)\n",
    "\n",
    "metrics_best, confusion_matrix_best = report_metrics(\n",
    "    best_model, labels=labels, device=device)\n",
    "best_model.to('cpu')\n",
    "pprint(metrics_best.compute())\n",
    "confusion_matrix_best.compute()"
   ]
  },
  {
   "cell_type": "code",
   "execution_count": null,
   "id": "b9e22b1b-0343-42c6-8c40-4636a533360d",
   "metadata": {},
   "outputs": [],
   "source": [
    "from IConNet.visualizer import visualize_model\n",
    "\n",
    "layer = best_model.fe_blocks.blocks[0].block.layer\n",
    "\n",
    "filtviz = visualize_model.FilterVisualizer(\n",
    "    lowcut_bands = layer.lowcut_bands, \n",
    "    bandwidths = layer.bandwidths,\n",
    "    window_params = layer.window_params, \n",
    "    window_length = 64,\n",
    "    sample_rate = sr\n",
    ")\n",
    "filtviz.visualize_filters(filter_domain='time')"
   ]
  },
  {
   "cell_type": "code",
   "execution_count": null,
   "id": "76a88516-b362-43f0-9c88-24c9cfdbe2cf",
   "metadata": {},
   "outputs": [],
   "source": [
    "filtviz.visualize_filters(filter_domain='freq')"
   ]
  },
  {
   "cell_type": "code",
   "execution_count": null,
   "id": "c9ced314-af89-4218-b2fc-606fb47526a2",
   "metadata": {},
   "outputs": [],
   "source": [
    "filtviz.visualize_one_window(n_out=10)"
   ]
  },
  {
   "cell_type": "code",
   "execution_count": null,
   "id": "fe6484d2-5790-4181-a2bc-b99e767c1c11",
   "metadata": {},
   "outputs": [],
   "source": [
    "filtviz.visualize_one_window(n_out=50)"
   ]
  },
  {
   "cell_type": "code",
   "execution_count": null,
   "id": "bdc85027-c6c1-42d0-b107-13ff23aa21db",
   "metadata": {},
   "outputs": [],
   "source": [
    "filtviz.visualize_window_params()"
   ]
  },
  {
   "cell_type": "code",
   "execution_count": null,
   "id": "eb6b82b2-0fd6-4144-8bd7-1377966a758e",
   "metadata": {},
   "outputs": [],
   "source": [
    "n_epoch = 10\n",
    "n_epoch2 = 50\n",
    "n_epoch3 = 40\n",
    "n_epoch4 = 50\n",
    "\n",
    "optimizer = optim.RAdam(model.parameters(), lr=0.000005)\n",
    "scheduler = optim.lr_scheduler.OneCycleLR(\n",
    "    optimizer, max_lr=0.01, pct_start=0.3,\n",
    "    steps_per_epoch=len(train_loader), epochs=n_epoch4)\n",
    "log_interval = 40\n",
    "pbar_update = 1 / (len(train_loader) + len(test_loader))\n",
    "model.to(device)\n",
    "with tqdm(total=n_epoch4) as pbar:\n",
    "    for epoch in range(1+n_epoch+n_epoch2+n_epoch3, n_epoch4+n_epoch3+n_epoch2 + n_epoch + 1):\n",
    "        train(model, epoch, log_interval, train_losses)\n",
    "        acc = test(model, epoch)\n",
    "        test_accuracy += [acc]\n",
    "        if acc > best_accuracy:\n",
    "            best_accuracy = acc\n",
    "            best_epoch = epoch\n",
    "            bmodel_path = f'{model_path_prefix}{epoch}epoch.pt'\n",
    "            torch.save(model.state_dict(), bmodel_path)\n",
    "            print(f'saved model: {bmodel_path}')\n",
    "        scheduler.step()"
   ]
  },
  {
   "cell_type": "code",
   "execution_count": null,
   "id": "bab57490-9b36-4790-ac0a-26a68b9dc09d",
   "metadata": {},
   "outputs": [],
   "source": [
    "plt.plot(train_losses)"
   ]
  },
  {
   "cell_type": "code",
   "execution_count": null,
   "id": "f6c9fe36-115a-4188-a210-d8027c41c716",
   "metadata": {},
   "outputs": [],
   "source": [
    "plt.plot(test_accuracy)"
   ]
  },
  {
   "cell_type": "code",
   "execution_count": null,
   "id": "9143bab5-394f-4003-a9dd-87c459a02ade",
   "metadata": {},
   "outputs": [],
   "source": [
    "model.to('cpu')\n",
    "best_model_path = f'{model_path_prefix}{best_epoch}epoch.pt'\n",
    "print(best_model_path)\n",
    "best_model = M13(config=model_config,\n",
    "           n_input=1, n_output=len(labels))\n",
    "best_model.load_state_dict(torch.load(best_model_path))\n",
    "best_model.to(device)\n",
    "\n",
    "metrics_best, confusion_matrix_best = report_metrics(\n",
    "    best_model, labels=labels, device=device)\n",
    "best_model.to('cpu')\n",
    "pprint(metrics_best.compute())\n",
    "confusion_matrix_best.compute()"
   ]
  },
  {
   "cell_type": "code",
   "execution_count": null,
   "id": "b3956041-12ab-4473-b9bc-37bd8b136591",
   "metadata": {},
   "outputs": [],
   "source": [
    "checkpoint_path = f'../models_esd4/esd4_m13mfcc128_{epoch}epoch.ckpt'\n",
    "torch.save({\n",
    "    'epoch': epoch,\n",
    "    'model_state_dict': model.state_dict(),\n",
    "    'optimizer_state_dict': optimizer.state_dict(),\n",
    "    'loss': train_losses[-1],\n",
    "    'best_epoch': best_epoch,\n",
    "    'best_accuracy': best_accuracy,\n",
    "    'train_losses': train_losses,\n",
    "    'test_accuracy': test_accuracy,\n",
    "    'log_interval': log_interval,\n",
    "    }, checkpoint_path)"
   ]
  },
  {
   "cell_type": "code",
   "execution_count": null,
   "id": "d5f1da12-4530-483e-84cb-21f85a6e01d3",
   "metadata": {},
   "outputs": [],
   "source": [
    "start_epoch = 151\n",
    "n_epoch = 50\n",
    "\n",
    "optimizer = optim.RAdam(model.parameters(), lr=0.000002)\n",
    "scheduler = optim.lr_scheduler.OneCycleLR(\n",
    "    optimizer, max_lr=0.01, pct_start=0.3,\n",
    "    steps_per_epoch=len(train_loader), epochs=n_epoch)\n",
    "log_interval = 40\n",
    "pbar_update = 1 / (len(train_loader) + len(test_loader))\n",
    "model.to(device)\n",
    "with tqdm(total=n_epoch) as pbar:\n",
    "    for epoch in range(start_epoch, start_epoch+n_epoch):\n",
    "        train(model, epoch, log_interval, train_losses)\n",
    "        acc = test(model, epoch)\n",
    "        test_accuracy += [acc]\n",
    "        if acc > best_accuracy:\n",
    "            best_accuracy = acc\n",
    "            best_epoch = epoch\n",
    "            bmodel_path = f'{model_path_prefix}{epoch}epoch.pt'\n",
    "            torch.save(model.state_dict(), bmodel_path)\n",
    "            print(f'saved model: {bmodel_path}')\n",
    "        scheduler.step()"
   ]
  },
  {
   "cell_type": "code",
   "execution_count": null,
   "id": "38c42227-7b29-414f-95fd-8b0a9e36153f",
   "metadata": {},
   "outputs": [],
   "source": [
    "plt.plot(train_losses)"
   ]
  },
  {
   "cell_type": "code",
   "execution_count": null,
   "id": "adb82fb0-daa7-417e-bf01-18c08cb7b281",
   "metadata": {},
   "outputs": [],
   "source": [
    "plt.plot(test_accuracy)"
   ]
  },
  {
   "cell_type": "code",
   "execution_count": null,
   "id": "52fb2b18-5064-488e-87d4-81ddb3f953ce",
   "metadata": {},
   "outputs": [],
   "source": [
    "metrics3, confusion_matrix3 = report_metrics(\n",
    "    model, labels=labels, device=device)\n",
    "pprint(metrics3.compute())\n",
    "confusion_matrix3.compute()"
   ]
  },
  {
   "cell_type": "code",
   "execution_count": null,
   "id": "0bb5790a-6788-4baa-b1b6-241d7bec26ab",
   "metadata": {},
   "outputs": [],
   "source": [
    "checkpoint_path = f'../models_esd4/esd4_m13ser_{epoch}epoch.ckpt'\n",
    "torch.save({\n",
    "    'epoch': epoch,\n",
    "    'model_state_dict': model.state_dict(),\n",
    "    'optimizer_state_dict': optimizer.state_dict(),\n",
    "    'loss': train_losses[-1],\n",
    "    'best_epoch': best_epoch,\n",
    "    'best_accuracy': best_accuracy,\n",
    "    'train_losses': train_losses,\n",
    "    'test_accuracy': test_accuracy,\n",
    "    'log_interval': log_interval,\n",
    "    }, checkpoint_path)"
   ]
  },
  {
   "cell_type": "code",
   "execution_count": null,
   "id": "a2c556d9-7220-4a3c-a4a3-694d58d67eeb",
   "metadata": {},
   "outputs": [],
   "source": [
    "start_epoch = 201\n",
    "n_epoch = 300\n",
    "\n",
    "optimizer = optim.RAdam(model.parameters(), lr=0.000001)\n",
    "scheduler = optim.lr_scheduler.OneCycleLR(\n",
    "    optimizer, max_lr=0.005, pct_start=0.3,\n",
    "    steps_per_epoch=len(train_loader), epochs=n_epoch)\n",
    "log_interval = 40\n",
    "pbar_update = 1 / (len(train_loader) + len(test_loader))\n",
    "model.to(device)\n",
    "with tqdm(total=n_epoch) as pbar:\n",
    "    for epoch in range(start_epoch, start_epoch+n_epoch):\n",
    "        train(model, epoch, log_interval, train_losses)\n",
    "        acc = test(model, epoch)\n",
    "        test_accuracy += [acc]\n",
    "        if acc > best_accuracy:\n",
    "            best_accuracy = acc\n",
    "            best_epoch = epoch\n",
    "            bmodel_path = f'{model_path_prefix}{epoch}epoch.pt'\n",
    "            torch.save(model.state_dict(), bmodel_path)\n",
    "            print(f'saved model: {bmodel_path}')\n",
    "        scheduler.step()"
   ]
  },
  {
   "cell_type": "code",
   "execution_count": null,
   "id": "0a04695b-2ce6-464a-9d6b-5d25140f6b8d",
   "metadata": {},
   "outputs": [],
   "source": [
    "plt.plot(train_losses)"
   ]
  },
  {
   "cell_type": "code",
   "execution_count": null,
   "id": "68ba101e-ff9e-4ac6-a798-b201177bdd31",
   "metadata": {},
   "outputs": [],
   "source": [
    "plt.plot(test_accuracy)"
   ]
  },
  {
   "cell_type": "code",
   "execution_count": null,
   "id": "42b0cae7-3b15-42b0-a812-abba7f6162ff",
   "metadata": {},
   "outputs": [],
   "source": [
    "model.to('cpu')\n",
    "best_model_path = f'{model_path_prefix}{best_epoch}epoch.pt'\n",
    "print(best_model_path)\n",
    "best_model = M13(config=model_config,\n",
    "           n_input=1, n_output=len(labels))\n",
    "best_model.load_state_dict(torch.load(best_model_path))\n",
    "best_model.to(device)\n",
    "\n",
    "metrics_best, confusion_matrix_best = report_metrics(\n",
    "    best_model, labels=labels, device=device)\n",
    "best_model.to('cpu')\n",
    "pprint(metrics_best.compute())\n",
    "confusion_matrix_best.compute()"
   ]
  },
  {
   "cell_type": "code",
   "execution_count": null,
   "id": "b865aeaf-75b3-4390-8a16-ef64bafe08f0",
   "metadata": {},
   "outputs": [],
   "source": [
    "checkpoint_path = f'../models_esd4/esd4_m13mfcc128_{epoch}epoch.ckpt'\n",
    "torch.save({\n",
    "    'epoch': epoch,\n",
    "    'model_state_dict': model.state_dict(),\n",
    "    'optimizer_state_dict': optimizer.state_dict(),\n",
    "    'loss': train_losses[-1],\n",
    "    'best_epoch': best_epoch,\n",
    "    'best_accuracy': best_accuracy,\n",
    "    'train_losses': train_losses,\n",
    "    'test_accuracy': test_accuracy,\n",
    "    'log_interval': log_interval,\n",
    "    }, checkpoint_path)"
   ]
  },
  {
   "cell_type": "code",
   "execution_count": null,
   "id": "d8e65aec-30b9-41c0-82f1-f7420fb7628b",
   "metadata": {},
   "outputs": [],
   "source": []
  }
 ],
 "metadata": {
  "kernelspec": {
   "display_name": "Python 3 (ipykernel)",
   "language": "python",
   "name": "python3"
  },
  "language_info": {
   "codemirror_mode": {
    "name": "ipython",
    "version": 3
   },
   "file_extension": ".py",
   "mimetype": "text/x-python",
   "name": "python",
   "nbconvert_exporter": "python",
   "pygments_lexer": "ipython3",
   "version": "3.9.18"
  }
 },
 "nbformat": 4,
 "nbformat_minor": 5
}
