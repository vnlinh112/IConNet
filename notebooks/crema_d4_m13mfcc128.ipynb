{
 "cells": [
  {
   "cell_type": "code",
   "execution_count": 1,
   "id": "ebeadf44-f268-4ea5-940c-4b8d6c30e824",
   "metadata": {},
   "outputs": [
    {
     "name": "stdout",
     "output_type": "stream",
     "text": [
      "Thu Feb 29 11:10:56 2024       \n",
      "+---------------------------------------------------------------------------------------+\n",
      "| NVIDIA-SMI 545.23.08              Driver Version: 545.23.08    CUDA Version: 12.3     |\n",
      "|-----------------------------------------+----------------------+----------------------+\n",
      "| GPU  Name                 Persistence-M | Bus-Id        Disp.A | Volatile Uncorr. ECC |\n",
      "| Fan  Temp   Perf          Pwr:Usage/Cap |         Memory-Usage | GPU-Util  Compute M. |\n",
      "|                                         |                      |               MIG M. |\n",
      "|=========================================+======================+======================|\n",
      "|   0  NVIDIA GeForce RTX 2080        On  | 00000000:01:00.0  On |                  N/A |\n",
      "| 32%   29C    P8              20W / 215W |    982MiB /  8192MiB |      9%      Default |\n",
      "|                                         |                      |                  N/A |\n",
      "+-----------------------------------------+----------------------+----------------------+\n",
      "                                                                                         \n",
      "+---------------------------------------------------------------------------------------+\n",
      "| Processes:                                                                            |\n",
      "|  GPU   GI   CI        PID   Type   Process name                            GPU Memory |\n",
      "|        ID   ID                                                             Usage      |\n",
      "|=======================================================================================|\n",
      "|    0   N/A  N/A      1887      G   /usr/lib/xorg/Xorg                          204MiB |\n",
      "|    0   N/A  N/A      2033      G   /usr/bin/gnome-shell                         30MiB |\n",
      "|    0   N/A  N/A   1076924      G   /usr/lib/xorg/Xorg                           35MiB |\n",
      "|    0   N/A  N/A   1080394      G   ...sion,SpareRendererForSitePerProcess       37MiB |\n",
      "|    0   N/A  N/A   2303850      C   /opt/anaconda3/envs/audio/bin/python        474MiB |\n",
      "|    0   N/A  N/A   3306740      G   ...seed-version=20240223-130108.897000       60MiB |\n",
      "+---------------------------------------------------------------------------------------+\n"
     ]
    }
   ],
   "source": [
    "!nvidia-smi"
   ]
  },
  {
   "cell_type": "code",
   "execution_count": 2,
   "id": "6c761c9c-d309-4669-9b5c-9e3658bf006a",
   "metadata": {},
   "outputs": [],
   "source": [
    "%load_ext autoreload\n",
    "%autoreload 2"
   ]
  },
  {
   "cell_type": "code",
   "execution_count": 3,
   "id": "08cf1f67-3e13-4f47-b598-ed7bc4cfbd4a",
   "metadata": {},
   "outputs": [
    {
     "data": {
      "text/plain": [
       "'/home/linh/projects/IConNet/notebooks'"
      ]
     },
     "execution_count": 3,
     "metadata": {},
     "output_type": "execute_result"
    }
   ],
   "source": [
    "import os\n",
    "os.getcwd()"
   ]
  },
  {
   "cell_type": "code",
   "execution_count": 4,
   "id": "918ffe29-4a40-4a72-8a5c-94fc2ec53d51",
   "metadata": {},
   "outputs": [],
   "source": [
    "os.chdir('..')"
   ]
  },
  {
   "cell_type": "code",
   "execution_count": 5,
   "id": "d2c64223-82c7-4fe7-a4df-278b26ba60a7",
   "metadata": {},
   "outputs": [
    {
     "name": "stdout",
     "output_type": "stream",
     "text": [
      "cuda\n"
     ]
    }
   ],
   "source": [
    "os.environ[\"PYTORCH_CUDA_ALLOC_CONF\"] = \"max_split_size_mb:512\"\n",
    "import gc\n",
    "import torch\n",
    "import torch.nn as nn\n",
    "import torch.nn.functional as F\n",
    "import torch.optim as optim\n",
    "import sys\n",
    "device = torch.device(\"cuda\" if torch.cuda.is_available() else \"cpu\")\n",
    "print(device)"
   ]
  },
  {
   "cell_type": "code",
   "execution_count": 6,
   "id": "1db98310-7115-45c5-bc6f-c34279a3a50e",
   "metadata": {},
   "outputs": [],
   "source": [
    "import glob\n",
    "import numpy as np\n",
    "from tqdm import tqdm\n",
    "import itertools\n",
    "import matplotlib.pyplot as plt\n",
    "import pandas as pd\n",
    "\n",
    "# Scikit learn\n",
    "from sklearn.model_selection import train_test_split\n",
    "from sklearn.preprocessing import LabelEncoder\n",
    "from sklearn.utils import shuffle\n",
    "\n",
    "import warnings\n",
    "warnings.filterwarnings('ignore', category=FutureWarning)"
   ]
  },
  {
   "cell_type": "code",
   "execution_count": 7,
   "id": "8b265cfc-5bef-46b7-aaa7-955240ad87f1",
   "metadata": {},
   "outputs": [],
   "source": [
    "data_dir = '../data/data_preprocessed/crema_d/preprocessed/'"
   ]
  },
  {
   "cell_type": "code",
   "execution_count": 8,
   "id": "82fb76f6-ade0-4d65-b525-7ff779fc0290",
   "metadata": {},
   "outputs": [
    {
     "name": "stdout",
     "output_type": "stream",
     "text": [
      "(7438,)\n",
      "(7438,)\n"
     ]
    },
    {
     "data": {
      "text/plain": [
       "array([0, 1, 2, 3, 4, 5], dtype=int16)"
      ]
     },
     "execution_count": 8,
     "metadata": {},
     "output_type": "execute_result"
    }
   ],
   "source": [
    "sr = 16000\n",
    "\n",
    "data_x = np.load(f'{data_dir}crema_d.audio16k.npy', allow_pickle=True)\n",
    "data_y = np.load(f'{data_dir}crema_d.label_emotion.npy', allow_pickle=True)\n",
    "classnames = np.load(f'{data_dir}crema_d.classnames.npy', allow_pickle=True)\n",
    "print(data_x.shape)\n",
    "print(data_y.shape)\n",
    "np.unique(data_y)"
   ]
  },
  {
   "cell_type": "code",
   "execution_count": 9,
   "id": "15aa4770-d3ac-44c6-8f42-f6d8fd480c34",
   "metadata": {},
   "outputs": [
    {
     "data": {
      "text/plain": [
       "array(['NEU', 'HAP', 'SAD', 'ANG', 'FEA', 'DIS'], dtype='<U3')"
      ]
     },
     "execution_count": 9,
     "metadata": {},
     "output_type": "execute_result"
    }
   ],
   "source": [
    "classnames"
   ]
  },
  {
   "cell_type": "code",
   "execution_count": 10,
   "id": "cffdd7de-9752-4402-b836-f397dde533c3",
   "metadata": {},
   "outputs": [
    {
     "name": "stdout",
     "output_type": "stream",
     "text": [
      "(4898,)\n"
     ]
    }
   ],
   "source": [
    "labels = ['ANG', 'NEU', 'SAD', 'HAP']\n",
    "\n",
    "def label_filter(idx):\n",
    "    return classnames[idx] in labels\n",
    "\n",
    "def label_to_index(idx):\n",
    "    return labels.index(classnames[idx])\n",
    "    \n",
    "filtered_idx = [label_filter(idx) for idx in data_y]\n",
    "data_x = data_x[filtered_idx]\n",
    "data_y = [label_to_index(idx) for idx in data_y[filtered_idx]]\n",
    "print(data_x.shape)"
   ]
  },
  {
   "cell_type": "code",
   "execution_count": 11,
   "id": "88455c85-66e2-4ba0-a4ed-d89fd65f3d0e",
   "metadata": {},
   "outputs": [
    {
     "name": "stdout",
     "output_type": "stream",
     "text": [
      "Train: 3918\n",
      "Test: 980\n"
     ]
    }
   ],
   "source": [
    "from sklearn.model_selection import train_test_split\n",
    "\n",
    "x_train, x_test, y_train, y_test = train_test_split(\n",
    "    data_x, data_y, test_size=0.2, \n",
    "    random_state=42, stratify=data_y)\n",
    "print(\"Train: %i\" % len(x_train))\n",
    "print(\"Test: %i\" % len(x_test))"
   ]
  },
  {
   "cell_type": "code",
   "execution_count": 12,
   "id": "c55f5684-d1a8-4d8d-b97b-96149b6f8ec6",
   "metadata": {},
   "outputs": [],
   "source": [
    "train_set = list(zip(x_train, y_train))\n",
    "test_set = list(zip(x_test, y_test))"
   ]
  },
  {
   "cell_type": "code",
   "execution_count": 13,
   "id": "d8aadba2-7ff4-4490-94e8-1d7786a98a77",
   "metadata": {},
   "outputs": [],
   "source": [
    "def pad_sequence(batch):\n",
    "    # Make all tensor in a batch the same length by padding with zeros\n",
    "    batch = [item.t() for item in batch]\n",
    "    batch = torch.nn.utils.rnn.pad_sequence(\n",
    "        batch, batch_first=True, padding_value=0.).permute(0, 2, 1)\n",
    "    return batch\n",
    "\n",
    "def collate_fn(batch, max_duration_in_second=3, sample_rate=sr):\n",
    "    tensors, targets = [], []\n",
    "\n",
    "    # Gather in lists, and encode labels as indices\n",
    "    for waveform, label in batch:\n",
    "        if max_duration_in_second is not None:\n",
    "            waveform = np.array(waveform, dtype=float).squeeze()\n",
    "            length = len(waveform)\n",
    "            max_length = sample_rate * max_duration_in_second\n",
    "            offset = max(0, (length - max_length) // 2)\n",
    "            waveform = waveform[offset: length-offset]\n",
    "        tensors += [torch.tensor(waveform, dtype=torch.float32)[None,:]]\n",
    "        targets += [torch.tensor(label, dtype=torch.long)]\n",
    "\n",
    "    # Group the list of tensors into a batched tensor\n",
    "    tensors = pad_sequence(tensors)\n",
    "    targets = torch.stack(targets)\n",
    "    return tensors, targets\n",
    "\n",
    "batch_size = 16\n",
    "\n",
    "if device == \"cuda\":\n",
    "    num_workers = 1\n",
    "    pin_memory = True\n",
    "else:\n",
    "    num_workers = 0\n",
    "    pin_memory = False\n",
    "\n",
    "train_loader = torch.utils.data.DataLoader(\n",
    "    train_set,\n",
    "    batch_size=batch_size,\n",
    "    shuffle=True,\n",
    "    collate_fn=collate_fn,\n",
    "    num_workers=num_workers,\n",
    "    pin_memory=pin_memory, \n",
    "    drop_last=True\n",
    ")\n",
    "test_loader = torch.utils.data.DataLoader(\n",
    "    test_set,\n",
    "    batch_size=batch_size,\n",
    "    shuffle=False,\n",
    "    drop_last=True,\n",
    "    collate_fn=collate_fn,\n",
    "    num_workers=num_workers,\n",
    "    pin_memory=pin_memory\n",
    ")"
   ]
  },
  {
   "cell_type": "code",
   "execution_count": 14,
   "id": "dc039999-3237-4d3b-80f7-a51f8d503145",
   "metadata": {},
   "outputs": [],
   "source": [
    "from IConNet.nn.model import M13mfcc as M13"
   ]
  },
  {
   "cell_type": "code",
   "execution_count": 15,
   "id": "965d9e7c-8057-42d7-a4ae-514fac39ed00",
   "metadata": {},
   "outputs": [],
   "source": [
    "from omegaconf import OmegaConf as ocf"
   ]
  },
  {
   "cell_type": "code",
   "execution_count": 16,
   "id": "41f72901-850d-426c-bf0c-474b9d05e658",
   "metadata": {},
   "outputs": [],
   "source": [
    "import traceback"
   ]
  },
  {
   "cell_type": "code",
   "execution_count": 17,
   "id": "2c32b2a9-2797-4fd1-bd05-f0333f0aaa43",
   "metadata": {},
   "outputs": [
    {
     "data": {
      "text/plain": [
       "{'name': 'M13mfcc', 'description': 'FirConv with fftconv', 'mfcc': {'n_mfcc': 128, 'n_fft': 1024, 'hop_length': 128, 'n_mels': 128, 'sample_rate': 16000}, 'pooling': 'mean', 'cls': {'n_block': 2, 'n_hidden_dim': [512, 512], 'norm_type': 'LayerNorm'}}"
      ]
     },
     "execution_count": 17,
     "metadata": {},
     "output_type": "execute_result"
    }
   ],
   "source": [
    "model_config_path = 'config/model/m13mfcc128.yaml'\n",
    "model_config = ocf.load(model_config_path)\n",
    "model_config"
   ]
  },
  {
   "cell_type": "code",
   "execution_count": 18,
   "id": "2c6b57a5-edee-400e-807a-fad5e5974026",
   "metadata": {
    "scrolled": true
   },
   "outputs": [
    {
     "data": {
      "text/plain": [
       "M13mfcc(\n",
       "  (mfcc): MFCC(\n",
       "    (amplitude_to_DB): AmplitudeToDB()\n",
       "    (MelSpectrogram): MelSpectrogram(\n",
       "      (spectrogram): Spectrogram()\n",
       "      (mel_scale): MelScale()\n",
       "    )\n",
       "  )\n",
       "  (cls_head): Classifier(\n",
       "    (blocks): ModuleList(\n",
       "      (0): Sequential(\n",
       "        (norm): LayerNorm((128,), eps=1e-05, elementwise_affine=True)\n",
       "        (layer): Linear(in_features=128, out_features=512, bias=True)\n",
       "      )\n",
       "      (1): Sequential(\n",
       "        (norm): LayerNorm((512,), eps=1e-05, elementwise_affine=True)\n",
       "        (layer): Linear(in_features=512, out_features=512, bias=True)\n",
       "      )\n",
       "    )\n",
       "    (act): LeakyReLU(negative_slope=0.01)\n",
       "    (output_layer): Linear(in_features=512, out_features=4, bias=True)\n",
       "  )\n",
       ")"
      ]
     },
     "execution_count": 18,
     "metadata": {},
     "output_type": "execute_result"
    }
   ],
   "source": [
    "model = M13(config=model_config,\n",
    "           n_input=1, n_output=len(labels))\n",
    "model"
   ]
  },
  {
   "cell_type": "code",
   "execution_count": 19,
   "id": "76e4b8a2-6938-4ec7-bad5-fc07fce8e5e1",
   "metadata": {},
   "outputs": [],
   "source": [
    "n_epoch = 10\n",
    "train_losses = []\n",
    "test_accuracy = []\n",
    "optimizer = optim.RAdam(model.parameters(), lr=0.001)\n",
    "scheduler = optim.lr_scheduler.OneCycleLR(\n",
    "    optimizer, max_lr=0.1,\n",
    "    steps_per_epoch=len(train_loader), epochs=n_epoch)"
   ]
  },
  {
   "cell_type": "code",
   "execution_count": 20,
   "id": "a1d06d4a-aad8-4343-a42a-f6504edad907",
   "metadata": {},
   "outputs": [],
   "source": [
    "train_loader_length = len(train_loader.dataset)\n",
    "test_loader_length = len(test_loader.dataset)\n",
    "\n",
    "def train(model, epoch, log_interval, \n",
    "          train_losses=train_losses):\n",
    "    model.train()\n",
    "    for batch_idx, (data, target) in enumerate(train_loader):\n",
    "        try:\n",
    "            _mem_before = torch.cuda.memory_allocated()\n",
    "            data = data.to(device)\n",
    "            target = target.to(device)\n",
    "            output = model(data)\n",
    "            del data\n",
    "            gc.collect()\n",
    "            torch.cuda.empty_cache()\n",
    "            loss = F.cross_entropy(output.squeeze(), target)\n",
    "            _mem_during = torch.cuda.memory_allocated()\n",
    "            del target\n",
    "            gc.collect()\n",
    "            torch.cuda.empty_cache()\n",
    "            optimizer.zero_grad()\n",
    "            loss.backward()\n",
    "            nn.utils.clip_grad.clip_grad_norm_(\n",
    "                model.parameters(), 1.0)\n",
    "            optimizer.step()\n",
    "            _mem_after = torch.cuda.memory_allocated()\n",
    "            # print training stats\n",
    "            if batch_idx % log_interval == 0:\n",
    "                print(f\"Train Epoch: {epoch} [{batch_idx * batch_size}/{train_loader_length} ({100. * batch_idx / len(train_loader):.0f}%)]\\tLoss: {loss.item():.6f}\")\n",
    "                print(f'Mem before-during-after: {_mem_before} {_mem_during} {_mem_after}')\n",
    "            # update progress bar\n",
    "            pbar.update(pbar_update)\n",
    "            # record loss\n",
    "            train_losses.append(loss.item())\n",
    "        except Exception as e:\n",
    "            print(f'data: {data.shape} => output: {output.shape} | target: {target.shape}')\n",
    "            traceback.print_exc()\n",
    "\n",
    "@torch.no_grad\n",
    "def test(model, epoch, test_loader=test_loader, device=device):\n",
    "    model.eval()\n",
    "    correct = 0\n",
    "    total = 0\n",
    "    for data, target in test_loader:\n",
    "        total += len(target)\n",
    "        data = data.to(device)\n",
    "        target = target.to(device)\n",
    "        output = model(data).squeeze()\n",
    "        del data\n",
    "        gc.collect()\n",
    "        torch.cuda.empty_cache()\n",
    "        probs = F.softmax(output, dim=-1)\n",
    "        pred = probs.argmax(dim=-1)\n",
    "        correct += pred.eq(target).sum().item()\n",
    "        del target\n",
    "        gc.collect()\n",
    "        torch.cuda.empty_cache()\n",
    "        pbar.update(pbar_update)\n",
    "    acc = correct / test_loader_length\n",
    "    print(f\"\\nTest Epoch: {epoch}\\tAccuracy: {correct}/{total} ({100. * acc:.0f}%)\\n\")\n",
    "    return acc"
   ]
  },
  {
   "cell_type": "code",
   "execution_count": null,
   "id": "be5e8f4b-6b3a-47e5-9b73-5ebd9722ab2b",
   "metadata": {
    "scrolled": true
   },
   "outputs": [
    {
     "name": "stderr",
     "output_type": "stream",
     "text": [
      "  0%|                                  | 0.006557377049180328/10 [00:00<12:33, 75.36s/it]"
     ]
    },
    {
     "name": "stdout",
     "output_type": "stream",
     "text": [
      "Train Epoch: 1 [0/3918 (0%)]\tLoss: 1.334363\n",
      "Mem before-during-after: 1660928 10332672 22687232\n"
     ]
    },
    {
     "name": "stderr",
     "output_type": "stream",
     "text": [
      "  1%|▍                                  | 0.13770491803278687/10 [00:07<08:15, 50.27s/it]"
     ]
    },
    {
     "name": "stdout",
     "output_type": "stream",
     "text": [
      "Train Epoch: 1 [640/3918 (16%)]\tLoss: 1.396143\n",
      "Mem before-during-after: 22687232 22838272 22687232\n"
     ]
    },
    {
     "name": "stderr",
     "output_type": "stream",
     "text": [
      "  3%|▉                                  | 0.26885245901639304/10 [00:14<08:30, 52.48s/it]"
     ]
    },
    {
     "name": "stdout",
     "output_type": "stream",
     "text": [
      "Train Epoch: 1 [1280/3918 (33%)]\tLoss: 1.089031\n",
      "Mem before-during-after: 22687232 22838272 22687232\n"
     ]
    },
    {
     "name": "stderr",
     "output_type": "stream",
     "text": [
      "  4%|█▌                                    | 0.39672131147541/10 [00:21<08:11, 51.16s/it]"
     ]
    },
    {
     "name": "stdout",
     "output_type": "stream",
     "text": [
      "Train Epoch: 1 [1920/3918 (49%)]\tLoss: 1.092434\n",
      "Mem before-during-after: 22687232 22838272 22687232\n"
     ]
    },
    {
     "name": "stderr",
     "output_type": "stream",
     "text": [
      "  5%|█▉                                  | 0.5311475409836068/10 [00:28<08:37, 54.64s/it]"
     ]
    },
    {
     "name": "stdout",
     "output_type": "stream",
     "text": [
      "Train Epoch: 1 [2560/3918 (66%)]\tLoss: 1.474794\n",
      "Mem before-during-after: 22687232 22838272 22687232\n"
     ]
    },
    {
     "name": "stderr",
     "output_type": "stream",
     "text": [
      "  7%|██▍                                 | 0.6622950819672118/10 [00:35<08:03, 51.81s/it]"
     ]
    },
    {
     "name": "stdout",
     "output_type": "stream",
     "text": [
      "Train Epoch: 1 [3200/3918 (82%)]\tLoss: 1.207385\n",
      "Mem before-during-after: 22687232 22838272 22687232\n"
     ]
    },
    {
     "name": "stderr",
     "output_type": "stream",
     "text": [
      "  8%|██▊                                 | 0.7934426229508167/10 [00:41<07:54, 51.56s/it]"
     ]
    },
    {
     "name": "stdout",
     "output_type": "stream",
     "text": [
      "Train Epoch: 1 [3840/3918 (98%)]\tLoss: 1.973476\n",
      "Mem before-during-after: 22687232 22838272 22687232\n"
     ]
    },
    {
     "name": "stderr",
     "output_type": "stream",
     "text": [
      " 10%|███▌                                | 1.0032786885245846/10 [00:52<07:38, 51.01s/it]"
     ]
    },
    {
     "name": "stdout",
     "output_type": "stream",
     "text": [
      "\n",
      "Test Epoch: 1\tAccuracy: 465/976 (47%)\n",
      "\n",
      "Train Epoch: 2 [0/3918 (0%)]\tLoss: 1.104145\n",
      "Mem before-during-after: 22686208 22838272 22687232\n"
     ]
    },
    {
     "name": "stderr",
     "output_type": "stream",
     "text": [
      " 11%|████                                | 1.1377049180327796/10 [00:59<07:22, 49.94s/it]"
     ]
    },
    {
     "name": "stdout",
     "output_type": "stream",
     "text": [
      "Train Epoch: 2 [640/3918 (16%)]\tLoss: 1.034490\n",
      "Mem before-during-after: 22687232 22838272 22687232\n"
     ]
    },
    {
     "name": "stderr",
     "output_type": "stream",
     "text": [
      " 13%|████▌                               | 1.2688524590163845/10 [01:06<07:08, 49.11s/it]"
     ]
    },
    {
     "name": "stdout",
     "output_type": "stream",
     "text": [
      "Train Epoch: 2 [1280/3918 (33%)]\tLoss: 1.030220\n",
      "Mem before-during-after: 22687232 22838272 22687232\n"
     ]
    },
    {
     "name": "stderr",
     "output_type": "stream",
     "text": [
      " 14%|█████                               | 1.3999999999999895/10 [01:13<07:21, 51.38s/it]"
     ]
    },
    {
     "name": "stdout",
     "output_type": "stream",
     "text": [
      "Train Epoch: 2 [1920/3918 (49%)]\tLoss: 0.996787\n",
      "Mem before-during-after: 22687232 22838272 22687232\n"
     ]
    },
    {
     "name": "stderr",
     "output_type": "stream",
     "text": [
      " 15%|█████▌                              | 1.5311475409835944/10 [01:20<06:56, 49.24s/it]"
     ]
    },
    {
     "name": "stdout",
     "output_type": "stream",
     "text": [
      "Train Epoch: 2 [2560/3918 (66%)]\tLoss: 1.043928\n",
      "Mem before-during-after: 22687232 22838272 22687232\n"
     ]
    },
    {
     "name": "stderr",
     "output_type": "stream",
     "text": [
      " 17%|█████▉                              | 1.6622950819671993/10 [01:26<07:08, 51.41s/it]"
     ]
    },
    {
     "name": "stdout",
     "output_type": "stream",
     "text": [
      "Train Epoch: 2 [3200/3918 (82%)]\tLoss: 0.802484\n",
      "Mem before-during-after: 22687232 22838272 22687232\n"
     ]
    },
    {
     "name": "stderr",
     "output_type": "stream",
     "text": [
      " 18%|██████▍                             | 1.7934426229508043/10 [01:33<07:31, 54.96s/it]"
     ]
    },
    {
     "name": "stdout",
     "output_type": "stream",
     "text": [
      "Train Epoch: 2 [3840/3918 (98%)]\tLoss: 1.220492\n",
      "Mem before-during-after: 22687232 22838272 22687232\n"
     ]
    },
    {
     "name": "stderr",
     "output_type": "stream",
     "text": [
      " 20%|███████▏                            | 2.0032786885245724/10 [01:44<06:48, 51.08s/it]"
     ]
    },
    {
     "name": "stdout",
     "output_type": "stream",
     "text": [
      "\n",
      "Test Epoch: 2\tAccuracy: 521/976 (53%)\n",
      "\n",
      "Train Epoch: 3 [0/3918 (0%)]\tLoss: 1.336824\n",
      "Mem before-during-after: 22686208 22838272 22687232\n"
     ]
    },
    {
     "name": "stderr",
     "output_type": "stream",
     "text": [
      " 21%|███████▋                            | 2.1377049180327674/10 [01:51<06:38, 50.73s/it]"
     ]
    },
    {
     "name": "stdout",
     "output_type": "stream",
     "text": [
      "Train Epoch: 3 [640/3918 (16%)]\tLoss: 0.867724\n",
      "Mem before-during-after: 22687232 22838272 22687232\n"
     ]
    },
    {
     "name": "stderr",
     "output_type": "stream",
     "text": [
      " 23%|████████▏                           | 2.2688524590163723/10 [01:58<06:41, 51.96s/it]"
     ]
    },
    {
     "name": "stdout",
     "output_type": "stream",
     "text": [
      "Train Epoch: 3 [1280/3918 (33%)]\tLoss: 0.911795\n",
      "Mem before-during-after: 22687232 22838272 22687232\n"
     ]
    },
    {
     "name": "stderr",
     "output_type": "stream",
     "text": [
      " 24%|████████▋                           | 2.3999999999999773/10 [02:04<06:57, 54.97s/it]"
     ]
    },
    {
     "name": "stdout",
     "output_type": "stream",
     "text": [
      "Train Epoch: 3 [1920/3918 (49%)]\tLoss: 0.898289\n",
      "Mem before-during-after: 22687232 22838272 22687232\n"
     ]
    },
    {
     "name": "stderr",
     "output_type": "stream",
     "text": [
      " 25%|█████████▎                           | 2.531147540983582/10 [02:11<06:12, 49.89s/it]"
     ]
    },
    {
     "name": "stdout",
     "output_type": "stream",
     "text": [
      "Train Epoch: 3 [2560/3918 (66%)]\tLoss: 0.725931\n",
      "Mem before-during-after: 22687232 22838272 22687232\n"
     ]
    },
    {
     "name": "stderr",
     "output_type": "stream",
     "text": [
      " 27%|█████████▊                           | 2.662295081967187/10 [02:18<06:03, 49.56s/it]"
     ]
    },
    {
     "name": "stdout",
     "output_type": "stream",
     "text": [
      "Train Epoch: 3 [3200/3918 (82%)]\tLoss: 1.264799\n",
      "Mem before-during-after: 22687232 22838272 22687232\n"
     ]
    },
    {
     "name": "stderr",
     "output_type": "stream",
     "text": [
      " 28%|██████████▎                          | 2.793442622950792/10 [02:25<06:26, 53.62s/it]"
     ]
    },
    {
     "name": "stdout",
     "output_type": "stream",
     "text": [
      "Train Epoch: 3 [3840/3918 (98%)]\tLoss: 0.886820\n",
      "Mem before-during-after: 22687232 22838272 22687232\n"
     ]
    },
    {
     "name": "stderr",
     "output_type": "stream",
     "text": [
      " 30%|███████████▍                          | 3.00327868852456/10 [02:35<06:06, 52.38s/it]"
     ]
    },
    {
     "name": "stdout",
     "output_type": "stream",
     "text": [
      "\n",
      "Test Epoch: 3\tAccuracy: 498/976 (51%)\n",
      "\n",
      "Train Epoch: 4 [0/3918 (0%)]\tLoss: 0.982903\n",
      "Mem before-during-after: 22686208 22838272 22687232\n"
     ]
    },
    {
     "name": "stderr",
     "output_type": "stream",
     "text": [
      " 31%|███████████▌                         | 3.137704918032755/10 [02:42<06:09, 53.83s/it]"
     ]
    },
    {
     "name": "stdout",
     "output_type": "stream",
     "text": [
      "Train Epoch: 4 [640/3918 (16%)]\tLoss: 0.952071\n",
      "Mem before-during-after: 22687232 22838272 22687232\n"
     ]
    },
    {
     "name": "stderr",
     "output_type": "stream",
     "text": [
      " 33%|████████████▍                         | 3.26885245901636/10 [02:49<05:58, 53.32s/it]"
     ]
    },
    {
     "name": "stdout",
     "output_type": "stream",
     "text": [
      "Train Epoch: 4 [1280/3918 (33%)]\tLoss: 1.061004\n",
      "Mem before-during-after: 22687232 22838272 22687232\n"
     ]
    },
    {
     "name": "stderr",
     "output_type": "stream",
     "text": [
      " 34%|████████████▌                        | 3.399999999999965/10 [02:56<05:31, 50.27s/it]"
     ]
    },
    {
     "name": "stdout",
     "output_type": "stream",
     "text": [
      "Train Epoch: 4 [1920/3918 (49%)]\tLoss: 1.026925\n",
      "Mem before-during-after: 22687232 22838272 22687232\n"
     ]
    },
    {
     "name": "stderr",
     "output_type": "stream",
     "text": [
      " 35%|████████████▋                       | 3.5311475409835698/10 [03:02<05:25, 50.37s/it]"
     ]
    },
    {
     "name": "stdout",
     "output_type": "stream",
     "text": [
      "Train Epoch: 4 [2560/3918 (66%)]\tLoss: 1.044252\n",
      "Mem before-during-after: 22687232 22838272 22687232\n"
     ]
    },
    {
     "name": "stderr",
     "output_type": "stream",
     "text": [
      " 37%|█████████████▏                      | 3.6622950819671747/10 [03:09<05:12, 49.32s/it]"
     ]
    },
    {
     "name": "stdout",
     "output_type": "stream",
     "text": [
      "Train Epoch: 4 [3200/3918 (82%)]\tLoss: 1.112298\n",
      "Mem before-during-after: 22687232 22838272 22687232\n"
     ]
    },
    {
     "name": "stderr",
     "output_type": "stream",
     "text": [
      " 38%|█████████████▋                      | 3.7934426229507796/10 [03:16<05:09, 49.87s/it]"
     ]
    },
    {
     "name": "stdout",
     "output_type": "stream",
     "text": [
      "Train Epoch: 4 [3840/3918 (98%)]\tLoss: 0.900223\n",
      "Mem before-during-after: 22687232 22838272 22687232\n"
     ]
    },
    {
     "name": "stderr",
     "output_type": "stream",
     "text": [
      " 40%|██████████████▍                     | 3.9999999999999574/10 [03:26<05:05, 50.89s/it]"
     ]
    },
    {
     "name": "stdout",
     "output_type": "stream",
     "text": [
      "\n",
      "Test Epoch: 4\tAccuracy: 517/976 (53%)\n",
      "\n",
      "Train Epoch: 5 [0/3918 (0%)]\tLoss: 0.734502\n",
      "Mem before-during-after: 22686208 22838272 22687232\n"
     ]
    },
    {
     "name": "stderr",
     "output_type": "stream",
     "text": [
      " 41%|███████████████▏                     | 4.114754098360612/10 [03:33<04:58, 50.74s/it]"
     ]
    }
   ],
   "source": [
    "log_interval = 40\n",
    "pbar_update = 1 / (len(train_loader) + len(test_loader))\n",
    "model.to(device)\n",
    "with tqdm(total=n_epoch) as pbar:\n",
    "    for epoch in range(1, n_epoch + 1):\n",
    "        train(model, epoch, log_interval, train_losses)\n",
    "        acc = test(model, epoch)\n",
    "        test_accuracy += [acc]\n",
    "        scheduler.step()"
   ]
  },
  {
   "cell_type": "code",
   "execution_count": null,
   "id": "2769c3e9-c591-41b9-aa43-4541db539e87",
   "metadata": {},
   "outputs": [],
   "source": [
    "model_path = '../models_cremad4/cremad_label4_m13mfcc128_10epochs.pt' \n",
    "torch.save(model.state_dict(), model_path)"
   ]
  },
  {
   "cell_type": "code",
   "execution_count": null,
   "id": "51ce01b3-cf27-4894-9bc2-5f795fddecb5",
   "metadata": {
    "scrolled": true
   },
   "outputs": [],
   "source": [
    "n_epoch = 10\n",
    "n_epoch2 = 50\n",
    "best_accuracy = test_accuracy[-1]\n",
    "best_epoch = n_epoch\n",
    "model_path_prefix = '../models_cremad4/cremad_label4_m13mfcc128_best_'\n",
    "\n",
    "optimizer = optim.RAdam(model.parameters(), lr=0.00002)\n",
    "scheduler = optim.lr_scheduler.OneCycleLR(\n",
    "    optimizer, max_lr=0.01,\n",
    "    steps_per_epoch=len(train_loader), epochs=n_epoch2)\n",
    "log_interval = 40\n",
    "pbar_update = 1 / (len(train_loader) + len(test_loader))\n",
    "# model.to(device)\n",
    "with tqdm(total=n_epoch2) as pbar:\n",
    "    for epoch in range(1+n_epoch, n_epoch2 + n_epoch + 1):\n",
    "        train(model, epoch, log_interval, train_losses)\n",
    "        acc = test(model, epoch)\n",
    "        test_accuracy += [acc]\n",
    "        if acc > best_accuracy:\n",
    "            best_accuracy = acc\n",
    "            best_epoch = epoch\n",
    "            bmodel_path = f'{model_path_prefix}{epoch}epoch.pt'\n",
    "            torch.save(model.state_dict(), bmodel_path)\n",
    "            print(f'saved model: {bmodel_path}')\n",
    "        scheduler.step()"
   ]
  },
  {
   "cell_type": "code",
   "execution_count": null,
   "id": "f49b40ce-bc85-4cf8-8107-030fe87276ef",
   "metadata": {},
   "outputs": [],
   "source": [
    "from torchmetrics.classification import (\n",
    "    MulticlassAccuracy, MulticlassPrecision, \n",
    "    MulticlassRecall, MulticlassF1Score, \n",
    "    MulticlassConfusionMatrix,\n",
    "    MulticlassAUROC\n",
    ")\n",
    "from torchmetrics import MetricCollection\n",
    "from pprint import pprint\n",
    "\n",
    "@torch.no_grad\n",
    "def report_metrics(model, labels=labels, \n",
    "                   test_loader=test_loader, device=device):\n",
    "    n = len(labels)\n",
    "    metrics = MetricCollection({\n",
    "        'acc_unweighted': MulticlassAccuracy(num_classes=n, average='macro'), \n",
    "        'acc_weighted': MulticlassAccuracy(num_classes=n, average='weighted'), \n",
    "        \n",
    "        'f1s_unweighted': MulticlassF1Score(num_classes=n, average='macro'),  \n",
    "        'f1s_weighted': MulticlassF1Score(num_classes=n, average='weighted'),  \n",
    "\n",
    "        'acc_weighted': MulticlassAccuracy(num_classes=n, average='weighted'), \n",
    "        'uar': MulticlassRecall(num_classes=n, average='macro'), \n",
    "        'wap': MulticlassPrecision(num_classes=n, average='weighted'),\n",
    "        'rocauc': MulticlassAUROC(num_classes=n, average='macro', thresholds=None),    \n",
    "        'f1s_detail': MulticlassF1Score(num_classes=n, average=None),  \n",
    "        'acc_detail': MulticlassAccuracy(num_classes=n, average=None), \n",
    "        'precision_detail': MulticlassPrecision(num_classes=n, average=None),\n",
    "        'recall_detail': MulticlassRecall(num_classes=n, average=None), \n",
    "        'rocauc_detail': MulticlassAUROC(num_classes=n, average=None, thresholds=None),\n",
    "    }).to(device)\n",
    "    confusion_matrix = MulticlassConfusionMatrix(num_classes=n).to(device)\n",
    "    model.eval()\n",
    "    correct = 0\n",
    "    total = 0\n",
    "    for data, target in test_loader:\n",
    "        total += len(target)\n",
    "        \n",
    "        data = data.to(device)\n",
    "        target = target.to(device)\n",
    "        output = model(data).squeeze()\n",
    "        del data\n",
    "        gc.collect()\n",
    "        torch.cuda.empty_cache()\n",
    "        probs = F.softmax(output, dim=-1)\n",
    "        pred = probs.argmax(dim=-1)\n",
    "        correct += pred.eq(target).sum().item()\n",
    "        \n",
    "        metrics.update(probs, target)\n",
    "        confusion_matrix.update(pred, target)\n",
    "        \n",
    "        del target\n",
    "        gc.collect()\n",
    "        torch.cuda.empty_cache()\n",
    "        pbar.update(pbar_update)\n",
    "    print(f'Correct: {correct}/{total} ({correct/total:.4f})')\n",
    "    return metrics, confusion_matrix"
   ]
  },
  {
   "cell_type": "code",
   "execution_count": null,
   "id": "7908fb16-c7f7-41c3-bc27-8ca0ccf98a5e",
   "metadata": {},
   "outputs": [],
   "source": [
    "plt.plot(train_losses)"
   ]
  },
  {
   "cell_type": "code",
   "execution_count": null,
   "id": "d6d1bbcd-ae40-4624-9f03-eafbb361ff86",
   "metadata": {},
   "outputs": [],
   "source": [
    "plt.plot(test_accuracy)"
   ]
  },
  {
   "cell_type": "code",
   "execution_count": null,
   "id": "bde77f7a-2403-4cdf-8a17-b417fbaf44b9",
   "metadata": {},
   "outputs": [],
   "source": [
    "metrics2, confusion_matrix2 = report_metrics(\n",
    "    model, labels=labels, device=device)\n",
    "pprint(metrics2.compute())\n",
    "confusion_matrix2.compute()"
   ]
  },
  {
   "cell_type": "code",
   "execution_count": null,
   "id": "7ec16dea-9d97-4ba8-8f1a-1a32d5a4cd80",
   "metadata": {},
   "outputs": [],
   "source": [
    "model.to('cpu')\n",
    "best_model_path = f'{model_path_prefix}{best_epoch}epoch.pt'\n",
    "print(best_model_path)\n",
    "best_model = M13(config=model_config,\n",
    "           n_input=1, n_output=len(labels))\n",
    "best_model.load_state_dict(torch.load(best_model_path))\n",
    "best_model.to(device)\n",
    "\n",
    "metrics_best, confusion_matrix_best = report_metrics(\n",
    "    best_model, labels=labels, device=device)\n",
    "best_model.to('cpu')\n",
    "pprint(metrics_best.compute())\n",
    "confusion_matrix_best.compute()"
   ]
  },
  {
   "cell_type": "code",
   "execution_count": null,
   "id": "aca219bb-30e2-49a2-8f73-d01c60b1e756",
   "metadata": {},
   "outputs": [],
   "source": [
    "checkpoint_path = f'../models_cremad4/cremad4_m13mfcc128_{epoch}epoch.ckpt'\n",
    "torch.save({\n",
    "    'epoch': epoch,\n",
    "    'model_state_dict': model.state_dict(),\n",
    "    'optimizer_state_dict': optimizer.state_dict(),\n",
    "    'loss': train_losses[-1],\n",
    "    'best_epoch': best_epoch,\n",
    "    'best_accuracy': best_accuracy,\n",
    "    'train_losses': train_losses,\n",
    "    'test_accuracy': test_accuracy,\n",
    "    'log_interval': log_interval,\n",
    "    }, checkpoint_path)"
   ]
  },
  {
   "cell_type": "code",
   "execution_count": null,
   "id": "b9732a5e-fed3-43fc-8bb6-8d09ce34e8b6",
   "metadata": {
    "scrolled": true
   },
   "outputs": [],
   "source": [
    "n_epoch = 10\n",
    "n_epoch2 = 50\n",
    "n_epoch3 = 40\n",
    "\n",
    "optimizer = optim.RAdam(model.parameters(), lr=0.00001)\n",
    "scheduler = optim.lr_scheduler.OneCycleLR(\n",
    "    optimizer, max_lr=0.02, pct_start=0.3,\n",
    "    steps_per_epoch=len(train_loader), epochs=n_epoch3)\n",
    "log_interval = 40\n",
    "pbar_update = 1 / (len(train_loader) + len(test_loader))\n",
    "model.to(device)\n",
    "with tqdm(total=n_epoch3) as pbar:\n",
    "    for epoch in range(1+n_epoch+n_epoch2, n_epoch3+n_epoch2 + n_epoch + 1):\n",
    "        train(model, epoch, log_interval, train_losses)\n",
    "        acc = test(model, epoch)\n",
    "        test_accuracy += [acc]\n",
    "        if acc > best_accuracy:\n",
    "            best_accuracy = acc\n",
    "            best_epoch = epoch\n",
    "            bmodel_path = f'{model_path_prefix}{epoch}epoch.pt'\n",
    "            torch.save(model.state_dict(), bmodel_path)\n",
    "            print(f'saved model: {bmodel_path}')\n",
    "        scheduler.step()"
   ]
  },
  {
   "cell_type": "code",
   "execution_count": null,
   "id": "7ef77346-3959-4699-bc33-7e49754cd179",
   "metadata": {},
   "outputs": [],
   "source": [
    "plt.plot(train_losses)"
   ]
  },
  {
   "cell_type": "code",
   "execution_count": null,
   "id": "c7cff889-2c4a-421e-a684-ebc23f9d4459",
   "metadata": {},
   "outputs": [],
   "source": [
    "plt.plot(test_accuracy)"
   ]
  },
  {
   "cell_type": "code",
   "execution_count": null,
   "id": "95d7600a-bdeb-4fd1-b95e-8ace24c85b5a",
   "metadata": {},
   "outputs": [],
   "source": [
    "model.to('cpu')\n",
    "best_model_path = f'{model_path_prefix}{best_epoch}epoch.pt'\n",
    "print(best_model_path)\n",
    "best_model = M13(config=model_config,\n",
    "           n_input=1, n_output=len(labels))\n",
    "best_model.load_state_dict(torch.load(best_model_path))\n",
    "best_model.to(device)\n",
    "\n",
    "metrics_best, confusion_matrix_best = report_metrics(\n",
    "    best_model, labels=labels, device=device)\n",
    "best_model.to('cpu')\n",
    "pprint(metrics_best.compute())\n",
    "confusion_matrix_best.compute()"
   ]
  },
  {
   "cell_type": "code",
   "execution_count": null,
   "id": "734e4c6b-9019-405c-8c5c-04e46b288bcd",
   "metadata": {},
   "outputs": [],
   "source": [
    "checkpoint_path = f'../models_cremad4/cremad4_m13mfcc128_{epoch}epoch.ckpt'\n",
    "torch.save({\n",
    "    'epoch': epoch,\n",
    "    'model_state_dict': model.state_dict(),\n",
    "    'optimizer_state_dict': optimizer.state_dict(),\n",
    "    'loss': train_losses[-1],\n",
    "    'best_epoch': best_epoch,\n",
    "    'best_accuracy': best_accuracy,\n",
    "    'train_losses': train_losses,\n",
    "    'test_accuracy': test_accuracy,\n",
    "    'log_interval': log_interval,\n",
    "    }, checkpoint_path)"
   ]
  },
  {
   "cell_type": "code",
   "execution_count": null,
   "id": "ec44c692-00ba-42c8-9c1e-cd86215ed695",
   "metadata": {
    "scrolled": true
   },
   "outputs": [],
   "source": [
    "n_epoch = 10\n",
    "n_epoch2 = 50\n",
    "n_epoch3 = 40\n",
    "n_epoch4 = 50\n",
    "\n",
    "optimizer = optim.RAdam(model.parameters(), lr=0.000005)\n",
    "scheduler = optim.lr_scheduler.OneCycleLR(\n",
    "    optimizer, max_lr=0.01, pct_start=0.3,\n",
    "    steps_per_epoch=len(train_loader), epochs=n_epoch4)\n",
    "log_interval = 40\n",
    "pbar_update = 1 / (len(train_loader) + len(test_loader))\n",
    "model.to(device)\n",
    "with tqdm(total=n_epoch4) as pbar:\n",
    "    for epoch in range(1+n_epoch+n_epoch2+n_epoch3, n_epoch4+n_epoch3+n_epoch2 + n_epoch + 1):\n",
    "        train(model, epoch, log_interval, train_losses)\n",
    "        acc = test(model, epoch)\n",
    "        test_accuracy += [acc]\n",
    "        if acc > best_accuracy:\n",
    "            best_accuracy = acc\n",
    "            best_epoch = epoch\n",
    "            bmodel_path = f'{model_path_prefix}{epoch}epoch.pt'\n",
    "            torch.save(model.state_dict(), bmodel_path)\n",
    "            print(f'saved model: {bmodel_path}')\n",
    "        scheduler.step()"
   ]
  },
  {
   "cell_type": "code",
   "execution_count": null,
   "id": "807422b2-5252-4db9-b0be-9cb65ea2ae27",
   "metadata": {},
   "outputs": [],
   "source": [
    "plt.plot(train_losses)"
   ]
  },
  {
   "cell_type": "code",
   "execution_count": null,
   "id": "bd150585-bb0e-4beb-8a1f-fa36b42a3e19",
   "metadata": {},
   "outputs": [],
   "source": [
    "plt.plot(test_accuracy)"
   ]
  },
  {
   "cell_type": "code",
   "execution_count": null,
   "id": "41509af8-a93d-4eec-a51b-34a970f2f19b",
   "metadata": {},
   "outputs": [],
   "source": [
    "model.to('cpu')\n",
    "best_model_path = f'{model_path_prefix}{best_epoch}epoch.pt'\n",
    "print(best_model_path)\n",
    "best_model = M13(config=model_config,\n",
    "           n_input=1, n_output=len(labels))\n",
    "best_model.load_state_dict(torch.load(best_model_path))\n",
    "best_model.to(device)\n",
    "\n",
    "metrics_best, confusion_matrix_best = report_metrics(\n",
    "    best_model, labels=labels, device=device)\n",
    "best_model.to('cpu')\n",
    "pprint(metrics_best.compute())\n",
    "confusion_matrix_best.compute()"
   ]
  },
  {
   "cell_type": "code",
   "execution_count": null,
   "id": "90ab40fb-89b6-4c7a-9fe0-b9de3faef410",
   "metadata": {},
   "outputs": [],
   "source": [
    "checkpoint_path = f'../models_cremad4/cremad4_m13mfcc128_{epoch}epoch.ckpt'\n",
    "torch.save({\n",
    "    'epoch': epoch,\n",
    "    'model_state_dict': model.state_dict(),\n",
    "    'optimizer_state_dict': optimizer.state_dict(),\n",
    "    'loss': train_losses[-1],\n",
    "    'best_epoch': best_epoch,\n",
    "    'best_accuracy': best_accuracy,\n",
    "    'train_losses': train_losses,\n",
    "    'test_accuracy': test_accuracy,\n",
    "    'log_interval': log_interval,\n",
    "    }, checkpoint_path)"
   ]
  },
  {
   "cell_type": "code",
   "execution_count": 48,
   "id": "9257c9bf-6165-4342-90f6-bf0dcd932d7e",
   "metadata": {},
   "outputs": [
    {
     "data": {
      "text/plain": [
       "M13mfcc(\n",
       "  (mfcc): MFCC(\n",
       "    (amplitude_to_DB): AmplitudeToDB()\n",
       "    (MelSpectrogram): MelSpectrogram(\n",
       "      (spectrogram): Spectrogram()\n",
       "      (mel_scale): MelScale()\n",
       "    )\n",
       "  )\n",
       "  (cls_head): Classifier(\n",
       "    (blocks): ModuleList(\n",
       "      (0): Sequential(\n",
       "        (norm): LayerNorm((40,), eps=1e-05, elementwise_affine=True)\n",
       "        (layer): Linear(in_features=40, out_features=256, bias=True)\n",
       "      )\n",
       "      (1): Sequential(\n",
       "        (norm): LayerNorm((256,), eps=1e-05, elementwise_affine=True)\n",
       "        (layer): Linear(in_features=256, out_features=256, bias=True)\n",
       "      )\n",
       "    )\n",
       "    (act): LeakyReLU(negative_slope=0.01)\n",
       "    (output_layer): Linear(in_features=256, out_features=4, bias=True)\n",
       "  )\n",
       ")"
      ]
     },
     "execution_count": 48,
     "metadata": {},
     "output_type": "execute_result"
    }
   ],
   "source": [
    "model"
   ]
  },
  {
   "cell_type": "code",
   "execution_count": 49,
   "id": "47f16775-c281-4425-9218-07a3d657f68e",
   "metadata": {},
   "outputs": [],
   "source": [
    "from IConNet.visualizer import display_module"
   ]
  },
  {
   "cell_type": "code",
   "execution_count": 50,
   "id": "ac2cb8e3-03bf-4e5e-b68b-90ef391bbf5e",
   "metadata": {},
   "outputs": [
    {
     "name": "stdout",
     "output_type": "stream",
     "text": [
      "aten::mean %x : Float(1, 40, strides=[40, 1], requires_grad=0, device=cuda:0) = aten::mean(%x.7, %197, %198, %199) # /opt/anaconda3/envs/audio/lib/python3.9/site-packages/einops/_backends.py:247:0\n",
      "\n"
     ]
    },
    {
     "data": {
      "image/svg+xml": [
       "<?xml version=\"1.0\" encoding=\"UTF-8\" standalone=\"no\"?>\n",
       "<!DOCTYPE svg PUBLIC \"-//W3C//DTD SVG 1.1//EN\"\n",
       " \"http://www.w3.org/Graphics/SVG/1.1/DTD/svg11.dtd\">\n",
       "<!-- Generated by graphviz version 2.43.0 (0)\n",
       " -->\n",
       "<!-- Title: %3 Pages: 1 -->\n",
       "<svg width=\"167pt\" height=\"355pt\"\n",
       " viewBox=\"0.00 0.00 167.00 355.00\" xmlns=\"http://www.w3.org/2000/svg\" xmlns:xlink=\"http://www.w3.org/1999/xlink\">\n",
       "<g id=\"graph0\" class=\"graph\" transform=\"scale(1 1) rotate(0) translate(4 351)\">\n",
       "<title>%3</title>\n",
       "<polygon fill=\"white\" stroke=\"transparent\" points=\"-4,4 -4,-351 163,-351 163,4 -4,4\"/>\n",
       "<text text-anchor=\"middle\" x=\"79.5\" y=\"-331.8\" font-family=\"Times,serif\" font-size=\"14.00\">M13mfcc</text>\n",
       "<!-- inp_x.1 -->\n",
       "<g id=\"node1\" class=\"node\">\n",
       "<title>inp_x.1</title>\n",
       "<ellipse fill=\"none\" stroke=\"black\" cx=\"79.5\" cy=\"-306\" rx=\"44.39\" ry=\"18\"/>\n",
       "<text text-anchor=\"middle\" x=\"79.5\" y=\"-302.3\" font-family=\"Times,serif\" font-size=\"14.00\">inp_x.1</text>\n",
       "</g>\n",
       "<!-- .279 -->\n",
       "<g id=\"node2\" class=\"node\">\n",
       "<title>.279</title>\n",
       "<polygon fill=\"none\" stroke=\"black\" points=\"134.5,-252 24.5,-252 24.5,-216 134.5,-216 134.5,-252\"/>\n",
       "<text text-anchor=\"middle\" x=\"79.5\" y=\"-230.3\" font-family=\"Times,serif\" font-size=\"14.00\">mfcc (MFCC)</text>\n",
       "</g>\n",
       "<!-- inp_x.1&#45;&gt;.279 -->\n",
       "<g id=\"edge1\" class=\"edge\">\n",
       "<title>inp_x.1&#45;&gt;.279</title>\n",
       "<path fill=\"none\" stroke=\"black\" d=\"M79.5,-287.7C79.5,-279.98 79.5,-270.71 79.5,-262.11\"/>\n",
       "<polygon fill=\"black\" stroke=\"black\" points=\"83,-262.1 79.5,-252.1 76,-262.1 83,-262.1\"/>\n",
       "</g>\n",
       "<!-- x -->\n",
       "<g id=\"node4\" class=\"node\">\n",
       "<title>x</title>\n",
       "<path fill=\"none\" stroke=\"black\" d=\"M95.5,-180C95.5,-180 63.5,-180 63.5,-180 57.5,-180 51.5,-174 51.5,-168 51.5,-168 51.5,-156 51.5,-156 51.5,-150 57.5,-144 63.5,-144 63.5,-144 95.5,-144 95.5,-144 101.5,-144 107.5,-150 107.5,-156 107.5,-156 107.5,-168 107.5,-168 107.5,-174 101.5,-180 95.5,-180\"/>\n",
       "<text text-anchor=\"middle\" x=\"79.5\" y=\"-158.3\" font-family=\"Times,serif\" font-size=\"14.00\">mean</text>\n",
       "</g>\n",
       "<!-- .279&#45;&gt;x -->\n",
       "<g id=\"edge2\" class=\"edge\">\n",
       "<title>.279&#45;&gt;x</title>\n",
       "<path fill=\"none\" stroke=\"black\" d=\"M79.5,-215.7C79.5,-207.98 79.5,-198.71 79.5,-190.11\"/>\n",
       "<polygon fill=\"black\" stroke=\"black\" points=\"83,-190.1 79.5,-180.1 76,-190.1 83,-190.1\"/>\n",
       "</g>\n",
       "<!-- .280 -->\n",
       "<g id=\"node3\" class=\"node\">\n",
       "<title>.280</title>\n",
       "<polygon fill=\"none\" stroke=\"black\" points=\"159,-108 0,-108 0,-72 159,-72 159,-108\"/>\n",
       "<text text-anchor=\"middle\" x=\"79.5\" y=\"-86.3\" font-family=\"Times,serif\" font-size=\"14.00\">cls_head (Classifier)</text>\n",
       "</g>\n",
       "<!-- out_0 -->\n",
       "<g id=\"node5\" class=\"node\">\n",
       "<title>out_0</title>\n",
       "<ellipse fill=\"none\" stroke=\"black\" cx=\"79.5\" cy=\"-18\" rx=\"36.29\" ry=\"18\"/>\n",
       "<text text-anchor=\"middle\" x=\"79.5\" y=\"-14.3\" font-family=\"Times,serif\" font-size=\"14.00\">out_0</text>\n",
       "</g>\n",
       "<!-- .280&#45;&gt;out_0 -->\n",
       "<g id=\"edge4\" class=\"edge\">\n",
       "<title>.280&#45;&gt;out_0</title>\n",
       "<path fill=\"none\" stroke=\"black\" d=\"M79.5,-71.7C79.5,-63.98 79.5,-54.71 79.5,-46.11\"/>\n",
       "<polygon fill=\"black\" stroke=\"black\" points=\"83,-46.1 79.5,-36.1 76,-46.1 83,-46.1\"/>\n",
       "</g>\n",
       "<!-- x&#45;&gt;.280 -->\n",
       "<g id=\"edge3\" class=\"edge\">\n",
       "<title>x&#45;&gt;.280</title>\n",
       "<path fill=\"none\" stroke=\"black\" d=\"M79.5,-143.7C79.5,-135.98 79.5,-126.71 79.5,-118.11\"/>\n",
       "<polygon fill=\"black\" stroke=\"black\" points=\"83,-118.1 79.5,-108.1 76,-118.1 83,-118.1\"/>\n",
       "</g>\n",
       "</g>\n",
       "</svg>\n"
      ],
      "text/plain": [
       "<graphviz.graphs.Digraph at 0x7f8b36d8ed90>"
      ]
     },
     "execution_count": 50,
     "metadata": {},
     "output_type": "execute_result"
    }
   ],
   "source": [
    "input_shape = (1,1,16000)\n",
    "model.to(device)\n",
    "input = torch.rand(input_shape).to(device)\n",
    "display_module(\n",
    "    model, input, \n",
    "    classes_to_visit={})"
   ]
  },
  {
   "cell_type": "code",
   "execution_count": 51,
   "id": "be1a8ea7-cc0a-41f7-9a86-240212e9f840",
   "metadata": {},
   "outputs": [
    {
     "name": "stdout",
     "output_type": "stream",
     "text": [
      "aten::matmul %10 : Float(1, 1, 122, 40, strides=[4880, 4880, 40, 1], requires_grad=0, device=cuda:0) = aten::matmul(%9, %dct_mat), scope: __module.mfcc # /opt/anaconda3/envs/audio/lib/python3.9/site-packages/torchaudio/transforms/_transforms.py:707:0\n",
      "\n",
      "aten::mean %x : Float(1, 40, strides=[40, 1], requires_grad=0, device=cuda:0) = aten::mean(%x.7, %197, %198, %199) # /opt/anaconda3/envs/audio/lib/python3.9/site-packages/einops/_backends.py:247:0\n",
      "\n"
     ]
    },
    {
     "data": {
      "image/svg+xml": [
       "<?xml version=\"1.0\" encoding=\"UTF-8\" standalone=\"no\"?>\n",
       "<!DOCTYPE svg PUBLIC \"-//W3C//DTD SVG 1.1//EN\"\n",
       " \"http://www.w3.org/Graphics/SVG/1.1/DTD/svg11.dtd\">\n",
       "<!-- Generated by graphviz version 2.43.0 (0)\n",
       " -->\n",
       "<!-- Title: %3 Pages: 1 -->\n",
       "<svg width=\"350pt\" height=\"646pt\"\n",
       " viewBox=\"0.00 0.00 350.00 646.00\" xmlns=\"http://www.w3.org/2000/svg\" xmlns:xlink=\"http://www.w3.org/1999/xlink\">\n",
       "<g id=\"graph0\" class=\"graph\" transform=\"scale(1 1) rotate(0) translate(4 642)\">\n",
       "<title>%3</title>\n",
       "<polygon fill=\"white\" stroke=\"transparent\" points=\"-4,4 -4,-642 346,-642 346,4 -4,4\"/>\n",
       "<text text-anchor=\"middle\" x=\"171\" y=\"-622.8\" font-family=\"Times,serif\" font-size=\"14.00\">M13mfcc</text>\n",
       "<g id=\"clust1\" class=\"cluster\">\n",
       "<title>cluster_.279</title>\n",
       "<polygon fill=\"none\" stroke=\"black\" points=\"8,-208 8,-571 334,-571 334,-208 8,-208\"/>\n",
       "<text text-anchor=\"middle\" x=\"171\" y=\"-555.8\" font-family=\"Times,serif\" font-size=\"14.00\">mfcc (MFCC)</text>\n",
       "</g>\n",
       "<!-- inp_x.1 -->\n",
       "<g id=\"node1\" class=\"node\">\n",
       "<title>inp_x.1</title>\n",
       "<ellipse fill=\"none\" stroke=\"black\" cx=\"171\" cy=\"-597\" rx=\"44.39\" ry=\"18\"/>\n",
       "<text text-anchor=\"middle\" x=\"171\" y=\"-593.3\" font-family=\"Times,serif\" font-size=\"14.00\">inp_x.1</text>\n",
       "</g>\n",
       "<!-- mfcc.inp_x.1 -->\n",
       "<g id=\"node2\" class=\"node\">\n",
       "<title>mfcc.inp_x.1</title>\n",
       "<ellipse fill=\"none\" stroke=\"black\" cx=\"171\" cy=\"-522\" rx=\"68.79\" ry=\"18\"/>\n",
       "<text text-anchor=\"middle\" x=\"171\" y=\"-518.3\" font-family=\"Times,serif\" font-size=\"14.00\">mfcc.inp_x.1</text>\n",
       "</g>\n",
       "<!-- inp_x.1&#45;&gt;mfcc.inp_x.1 -->\n",
       "<g id=\"edge1\" class=\"edge\">\n",
       "<title>inp_x.1&#45;&gt;mfcc.inp_x.1</title>\n",
       "<path fill=\"none\" stroke=\"black\" d=\"M171,-578.7C171,-570.25 171,-559.87 171,-550.37\"/>\n",
       "<polygon fill=\"black\" stroke=\"black\" points=\"174.5,-550.18 171,-540.18 167.5,-550.18 174.5,-550.18\"/>\n",
       "</g>\n",
       "<!-- mfcc..14 -->\n",
       "<g id=\"node3\" class=\"node\">\n",
       "<title>mfcc..14</title>\n",
       "<polygon fill=\"none\" stroke=\"black\" points=\"326,-468 16,-468 16,-432 326,-432 326,-468\"/>\n",
       "<text text-anchor=\"middle\" x=\"171\" y=\"-446.3\" font-family=\"Times,serif\" font-size=\"14.00\">mfcc.MelSpectrogram (MelSpectrogram)</text>\n",
       "</g>\n",
       "<!-- mfcc.inp_x.1&#45;&gt;mfcc..14 -->\n",
       "<g id=\"edge2\" class=\"edge\">\n",
       "<title>mfcc.inp_x.1&#45;&gt;mfcc..14</title>\n",
       "<path fill=\"none\" stroke=\"black\" d=\"M171,-503.7C171,-495.98 171,-486.71 171,-478.11\"/>\n",
       "<polygon fill=\"black\" stroke=\"black\" points=\"174.5,-478.1 171,-468.1 167.5,-478.1 174.5,-478.1\"/>\n",
       "</g>\n",
       "<!-- mfcc..15 -->\n",
       "<g id=\"node4\" class=\"node\">\n",
       "<title>mfcc..15</title>\n",
       "<polygon fill=\"none\" stroke=\"black\" points=\"322.5,-396 19.5,-396 19.5,-360 322.5,-360 322.5,-396\"/>\n",
       "<text text-anchor=\"middle\" x=\"171\" y=\"-374.3\" font-family=\"Times,serif\" font-size=\"14.00\">mfcc.amplitude_to_DB (AmplitudeToDB)</text>\n",
       "</g>\n",
       "<!-- mfcc..14&#45;&gt;mfcc..15 -->\n",
       "<g id=\"edge3\" class=\"edge\">\n",
       "<title>mfcc..14&#45;&gt;mfcc..15</title>\n",
       "<path fill=\"none\" stroke=\"black\" d=\"M171,-431.7C171,-423.98 171,-414.71 171,-406.11\"/>\n",
       "<polygon fill=\"black\" stroke=\"black\" points=\"174.5,-406.1 171,-396.1 167.5,-406.1 174.5,-406.1\"/>\n",
       "</g>\n",
       "<!-- inp_mfcc.out_0 -->\n",
       "<g id=\"node6\" class=\"node\">\n",
       "<title>inp_mfcc.out_0</title>\n",
       "<path fill=\"none\" stroke=\"black\" d=\"M194.5,-324C194.5,-324 147.5,-324 147.5,-324 141.5,-324 135.5,-318 135.5,-312 135.5,-312 135.5,-300 135.5,-300 135.5,-294 141.5,-288 147.5,-288 147.5,-288 194.5,-288 194.5,-288 200.5,-288 206.5,-294 206.5,-300 206.5,-300 206.5,-312 206.5,-312 206.5,-318 200.5,-324 194.5,-324\"/>\n",
       "<text text-anchor=\"middle\" x=\"171\" y=\"-302.3\" font-family=\"Times,serif\" font-size=\"14.00\">matmul</text>\n",
       "</g>\n",
       "<!-- mfcc..15&#45;&gt;inp_mfcc.out_0 -->\n",
       "<g id=\"edge4\" class=\"edge\">\n",
       "<title>mfcc..15&#45;&gt;inp_mfcc.out_0</title>\n",
       "<path fill=\"none\" stroke=\"black\" d=\"M171,-359.7C171,-351.98 171,-342.71 171,-334.11\"/>\n",
       "<polygon fill=\"black\" stroke=\"black\" points=\"174.5,-334.1 171,-324.1 167.5,-334.1 174.5,-334.1\"/>\n",
       "</g>\n",
       "<!-- mfcc.out_0 -->\n",
       "<g id=\"node5\" class=\"node\">\n",
       "<title>mfcc.out_0</title>\n",
       "<ellipse fill=\"none\" stroke=\"black\" cx=\"171\" cy=\"-234\" rx=\"61.19\" ry=\"18\"/>\n",
       "<text text-anchor=\"middle\" x=\"171\" y=\"-230.3\" font-family=\"Times,serif\" font-size=\"14.00\">mfcc.out_0</text>\n",
       "</g>\n",
       "<!-- x -->\n",
       "<g id=\"node8\" class=\"node\">\n",
       "<title>x</title>\n",
       "<path fill=\"none\" stroke=\"black\" d=\"M187,-180C187,-180 155,-180 155,-180 149,-180 143,-174 143,-168 143,-168 143,-156 143,-156 143,-150 149,-144 155,-144 155,-144 187,-144 187,-144 193,-144 199,-150 199,-156 199,-156 199,-168 199,-168 199,-174 193,-180 187,-180\"/>\n",
       "<text text-anchor=\"middle\" x=\"171\" y=\"-158.3\" font-family=\"Times,serif\" font-size=\"14.00\">mean</text>\n",
       "</g>\n",
       "<!-- mfcc.out_0&#45;&gt;x -->\n",
       "<g id=\"edge6\" class=\"edge\">\n",
       "<title>mfcc.out_0&#45;&gt;x</title>\n",
       "<path fill=\"none\" stroke=\"black\" d=\"M171,-215.7C171,-207.98 171,-198.71 171,-190.11\"/>\n",
       "<polygon fill=\"black\" stroke=\"black\" points=\"174.5,-190.1 171,-180.1 167.5,-190.1 174.5,-190.1\"/>\n",
       "</g>\n",
       "<!-- inp_mfcc.out_0&#45;&gt;mfcc.out_0 -->\n",
       "<g id=\"edge5\" class=\"edge\">\n",
       "<title>inp_mfcc.out_0&#45;&gt;mfcc.out_0</title>\n",
       "<path fill=\"none\" stroke=\"black\" d=\"M171,-287.7C171,-279.98 171,-270.71 171,-262.11\"/>\n",
       "<polygon fill=\"black\" stroke=\"black\" points=\"174.5,-262.1 171,-252.1 167.5,-262.1 174.5,-262.1\"/>\n",
       "</g>\n",
       "<!-- .280 -->\n",
       "<g id=\"node7\" class=\"node\">\n",
       "<title>.280</title>\n",
       "<polygon fill=\"none\" stroke=\"black\" points=\"250.5,-108 91.5,-108 91.5,-72 250.5,-72 250.5,-108\"/>\n",
       "<text text-anchor=\"middle\" x=\"171\" y=\"-86.3\" font-family=\"Times,serif\" font-size=\"14.00\">cls_head (Classifier)</text>\n",
       "</g>\n",
       "<!-- out_0 -->\n",
       "<g id=\"node9\" class=\"node\">\n",
       "<title>out_0</title>\n",
       "<ellipse fill=\"none\" stroke=\"black\" cx=\"171\" cy=\"-18\" rx=\"36.29\" ry=\"18\"/>\n",
       "<text text-anchor=\"middle\" x=\"171\" y=\"-14.3\" font-family=\"Times,serif\" font-size=\"14.00\">out_0</text>\n",
       "</g>\n",
       "<!-- .280&#45;&gt;out_0 -->\n",
       "<g id=\"edge8\" class=\"edge\">\n",
       "<title>.280&#45;&gt;out_0</title>\n",
       "<path fill=\"none\" stroke=\"black\" d=\"M171,-71.7C171,-63.98 171,-54.71 171,-46.11\"/>\n",
       "<polygon fill=\"black\" stroke=\"black\" points=\"174.5,-46.1 171,-36.1 167.5,-46.1 174.5,-46.1\"/>\n",
       "</g>\n",
       "<!-- x&#45;&gt;.280 -->\n",
       "<g id=\"edge7\" class=\"edge\">\n",
       "<title>x&#45;&gt;.280</title>\n",
       "<path fill=\"none\" stroke=\"black\" d=\"M171,-143.7C171,-135.98 171,-126.71 171,-118.11\"/>\n",
       "<polygon fill=\"black\" stroke=\"black\" points=\"174.5,-118.1 171,-108.1 167.5,-118.1 174.5,-118.1\"/>\n",
       "</g>\n",
       "</g>\n",
       "</svg>\n"
      ],
      "text/plain": [
       "<graphviz.graphs.Digraph at 0x7f8b36de34f0>"
      ]
     },
     "execution_count": 51,
     "metadata": {},
     "output_type": "execute_result"
    }
   ],
   "source": [
    "display_module(\n",
    "    model, input, \n",
    "    classes_to_visit={\"MFCC\"})"
   ]
  },
  {
   "cell_type": "code",
   "execution_count": 52,
   "id": "b65164af-8168-415d-a77c-ed9346e9d921",
   "metadata": {},
   "outputs": [
    {
     "name": "stdout",
     "output_type": "stream",
     "text": [
      "aten::matmul %10 : Float(1, 1, 122, 40, strides=[4880, 4880, 40, 1], requires_grad=0, device=cuda:0) = aten::matmul(%9, %dct_mat), scope: __module.mfcc # /opt/anaconda3/envs/audio/lib/python3.9/site-packages/torchaudio/transforms/_transforms.py:707:0\n",
      "\n",
      "aten::mean %x : Float(1, 40, strides=[40, 1], requires_grad=0, device=cuda:0) = aten::mean(%x.7, %197, %198, %199) # /opt/anaconda3/envs/audio/lib/python3.9/site-packages/einops/_backends.py:247:0\n",
      "\n"
     ]
    },
    {
     "data": {
      "image/svg+xml": [
       "<?xml version=\"1.0\" encoding=\"UTF-8\" standalone=\"no\"?>\n",
       "<!DOCTYPE svg PUBLIC \"-//W3C//DTD SVG 1.1//EN\"\n",
       " \"http://www.w3.org/Graphics/SVG/1.1/DTD/svg11.dtd\">\n",
       "<!-- Generated by graphviz version 2.43.0 (0)\n",
       " -->\n",
       "<!-- Title: %3 Pages: 1 -->\n",
       "<svg width=\"434pt\" height=\"865pt\"\n",
       " viewBox=\"0.00 0.00 434.00 865.00\" xmlns=\"http://www.w3.org/2000/svg\" xmlns:xlink=\"http://www.w3.org/1999/xlink\">\n",
       "<g id=\"graph0\" class=\"graph\" transform=\"scale(1 1) rotate(0) translate(4 861)\">\n",
       "<title>%3</title>\n",
       "<polygon fill=\"white\" stroke=\"transparent\" points=\"-4,4 -4,-861 430,-861 430,4 -4,4\"/>\n",
       "<text text-anchor=\"middle\" x=\"213\" y=\"-841.8\" font-family=\"Times,serif\" font-size=\"14.00\">M13mfcc</text>\n",
       "<g id=\"clust1\" class=\"cluster\">\n",
       "<title>cluster_.279</title>\n",
       "<polygon fill=\"none\" stroke=\"black\" points=\"8,-208 8,-790 418,-790 418,-208 8,-208\"/>\n",
       "<text text-anchor=\"middle\" x=\"213\" y=\"-774.8\" font-family=\"Times,serif\" font-size=\"14.00\">mfcc (MFCC)</text>\n",
       "</g>\n",
       "<g id=\"clust2\" class=\"cluster\">\n",
       "<title>cluster_mfcc..14</title>\n",
       "<polygon fill=\"none\" stroke=\"black\" points=\"16,-424 16,-715 410,-715 410,-424 16,-424\"/>\n",
       "<text text-anchor=\"middle\" x=\"213\" y=\"-699.8\" font-family=\"Times,serif\" font-size=\"14.00\">mfcc.MelSpectrogram (MelSpectrogram)</text>\n",
       "</g>\n",
       "<!-- inp_x.1 -->\n",
       "<g id=\"node1\" class=\"node\">\n",
       "<title>inp_x.1</title>\n",
       "<ellipse fill=\"none\" stroke=\"black\" cx=\"213\" cy=\"-816\" rx=\"44.39\" ry=\"18\"/>\n",
       "<text text-anchor=\"middle\" x=\"213\" y=\"-812.3\" font-family=\"Times,serif\" font-size=\"14.00\">inp_x.1</text>\n",
       "</g>\n",
       "<!-- mfcc.inp_x.1 -->\n",
       "<g id=\"node2\" class=\"node\">\n",
       "<title>mfcc.inp_x.1</title>\n",
       "<ellipse fill=\"none\" stroke=\"black\" cx=\"213\" cy=\"-741\" rx=\"68.79\" ry=\"18\"/>\n",
       "<text text-anchor=\"middle\" x=\"213\" y=\"-737.3\" font-family=\"Times,serif\" font-size=\"14.00\">mfcc.inp_x.1</text>\n",
       "</g>\n",
       "<!-- inp_x.1&#45;&gt;mfcc.inp_x.1 -->\n",
       "<g id=\"edge1\" class=\"edge\">\n",
       "<title>inp_x.1&#45;&gt;mfcc.inp_x.1</title>\n",
       "<path fill=\"none\" stroke=\"black\" d=\"M213,-797.7C213,-789.25 213,-778.87 213,-769.37\"/>\n",
       "<polygon fill=\"black\" stroke=\"black\" points=\"216.5,-769.18 213,-759.18 209.5,-769.18 216.5,-769.18\"/>\n",
       "</g>\n",
       "<!-- mfcc.MelSpectrogram.inp_x.1 -->\n",
       "<g id=\"node3\" class=\"node\">\n",
       "<title>mfcc.MelSpectrogram.inp_x.1</title>\n",
       "<ellipse fill=\"none\" stroke=\"black\" cx=\"213\" cy=\"-666\" rx=\"149.47\" ry=\"18\"/>\n",
       "<text text-anchor=\"middle\" x=\"213\" y=\"-662.3\" font-family=\"Times,serif\" font-size=\"14.00\">mfcc.MelSpectrogram.inp_x.1</text>\n",
       "</g>\n",
       "<!-- mfcc.inp_x.1&#45;&gt;mfcc.MelSpectrogram.inp_x.1 -->\n",
       "<g id=\"edge2\" class=\"edge\">\n",
       "<title>mfcc.inp_x.1&#45;&gt;mfcc.MelSpectrogram.inp_x.1</title>\n",
       "<path fill=\"none\" stroke=\"black\" d=\"M213,-722.7C213,-714.25 213,-703.87 213,-694.37\"/>\n",
       "<polygon fill=\"black\" stroke=\"black\" points=\"216.5,-694.18 213,-684.18 209.5,-694.18 216.5,-694.18\"/>\n",
       "</g>\n",
       "<!-- mfcc.MelSpectrogram..6 -->\n",
       "<g id=\"node4\" class=\"node\">\n",
       "<title>mfcc.MelSpectrogram..6</title>\n",
       "<polygon fill=\"none\" stroke=\"black\" points=\"402,-612 24,-612 24,-576 402,-576 402,-612\"/>\n",
       "<text text-anchor=\"middle\" x=\"213\" y=\"-590.3\" font-family=\"Times,serif\" font-size=\"14.00\">mfcc.MelSpectrogram.spectrogram (Spectrogram)</text>\n",
       "</g>\n",
       "<!-- mfcc.MelSpectrogram.inp_x.1&#45;&gt;mfcc.MelSpectrogram..6 -->\n",
       "<g id=\"edge3\" class=\"edge\">\n",
       "<title>mfcc.MelSpectrogram.inp_x.1&#45;&gt;mfcc.MelSpectrogram..6</title>\n",
       "<path fill=\"none\" stroke=\"black\" d=\"M213,-647.7C213,-639.98 213,-630.71 213,-622.11\"/>\n",
       "<polygon fill=\"black\" stroke=\"black\" points=\"216.5,-622.1 213,-612.1 209.5,-622.1 216.5,-622.1\"/>\n",
       "</g>\n",
       "<!-- mfcc.MelSpectrogram..7 -->\n",
       "<g id=\"node5\" class=\"node\">\n",
       "<title>mfcc.MelSpectrogram..7</title>\n",
       "<polygon fill=\"none\" stroke=\"black\" points=\"377.5,-540 48.5,-540 48.5,-504 377.5,-504 377.5,-540\"/>\n",
       "<text text-anchor=\"middle\" x=\"213\" y=\"-518.3\" font-family=\"Times,serif\" font-size=\"14.00\">mfcc.MelSpectrogram.mel_scale (MelScale)</text>\n",
       "</g>\n",
       "<!-- mfcc.MelSpectrogram..6&#45;&gt;mfcc.MelSpectrogram..7 -->\n",
       "<g id=\"edge4\" class=\"edge\">\n",
       "<title>mfcc.MelSpectrogram..6&#45;&gt;mfcc.MelSpectrogram..7</title>\n",
       "<path fill=\"none\" stroke=\"black\" d=\"M213,-575.7C213,-567.98 213,-558.71 213,-550.11\"/>\n",
       "<polygon fill=\"black\" stroke=\"black\" points=\"216.5,-550.1 213,-540.1 209.5,-550.1 216.5,-550.1\"/>\n",
       "</g>\n",
       "<!-- mfcc.MelSpectrogram.out_0 -->\n",
       "<g id=\"node6\" class=\"node\">\n",
       "<title>mfcc.MelSpectrogram.out_0</title>\n",
       "<ellipse fill=\"none\" stroke=\"black\" cx=\"213\" cy=\"-450\" rx=\"141.88\" ry=\"18\"/>\n",
       "<text text-anchor=\"middle\" x=\"213\" y=\"-446.3\" font-family=\"Times,serif\" font-size=\"14.00\">mfcc.MelSpectrogram.out_0</text>\n",
       "</g>\n",
       "<!-- mfcc.MelSpectrogram..7&#45;&gt;mfcc.MelSpectrogram.out_0 -->\n",
       "<g id=\"edge5\" class=\"edge\">\n",
       "<title>mfcc.MelSpectrogram..7&#45;&gt;mfcc.MelSpectrogram.out_0</title>\n",
       "<path fill=\"none\" stroke=\"black\" d=\"M213,-503.7C213,-495.98 213,-486.71 213,-478.11\"/>\n",
       "<polygon fill=\"black\" stroke=\"black\" points=\"216.5,-478.1 213,-468.1 209.5,-478.1 216.5,-478.1\"/>\n",
       "</g>\n",
       "<!-- mfcc..15 -->\n",
       "<g id=\"node7\" class=\"node\">\n",
       "<title>mfcc..15</title>\n",
       "<polygon fill=\"none\" stroke=\"black\" points=\"364.5,-396 61.5,-396 61.5,-360 364.5,-360 364.5,-396\"/>\n",
       "<text text-anchor=\"middle\" x=\"213\" y=\"-374.3\" font-family=\"Times,serif\" font-size=\"14.00\">mfcc.amplitude_to_DB (AmplitudeToDB)</text>\n",
       "</g>\n",
       "<!-- mfcc.MelSpectrogram.out_0&#45;&gt;mfcc..15 -->\n",
       "<g id=\"edge6\" class=\"edge\">\n",
       "<title>mfcc.MelSpectrogram.out_0&#45;&gt;mfcc..15</title>\n",
       "<path fill=\"none\" stroke=\"black\" d=\"M213,-431.7C213,-423.98 213,-414.71 213,-406.11\"/>\n",
       "<polygon fill=\"black\" stroke=\"black\" points=\"216.5,-406.1 213,-396.1 209.5,-406.1 216.5,-406.1\"/>\n",
       "</g>\n",
       "<!-- inp_mfcc.out_0 -->\n",
       "<g id=\"node9\" class=\"node\">\n",
       "<title>inp_mfcc.out_0</title>\n",
       "<path fill=\"none\" stroke=\"black\" d=\"M236.5,-324C236.5,-324 189.5,-324 189.5,-324 183.5,-324 177.5,-318 177.5,-312 177.5,-312 177.5,-300 177.5,-300 177.5,-294 183.5,-288 189.5,-288 189.5,-288 236.5,-288 236.5,-288 242.5,-288 248.5,-294 248.5,-300 248.5,-300 248.5,-312 248.5,-312 248.5,-318 242.5,-324 236.5,-324\"/>\n",
       "<text text-anchor=\"middle\" x=\"213\" y=\"-302.3\" font-family=\"Times,serif\" font-size=\"14.00\">matmul</text>\n",
       "</g>\n",
       "<!-- mfcc..15&#45;&gt;inp_mfcc.out_0 -->\n",
       "<g id=\"edge7\" class=\"edge\">\n",
       "<title>mfcc..15&#45;&gt;inp_mfcc.out_0</title>\n",
       "<path fill=\"none\" stroke=\"black\" d=\"M213,-359.7C213,-351.98 213,-342.71 213,-334.11\"/>\n",
       "<polygon fill=\"black\" stroke=\"black\" points=\"216.5,-334.1 213,-324.1 209.5,-334.1 216.5,-334.1\"/>\n",
       "</g>\n",
       "<!-- mfcc.out_0 -->\n",
       "<g id=\"node8\" class=\"node\">\n",
       "<title>mfcc.out_0</title>\n",
       "<ellipse fill=\"none\" stroke=\"black\" cx=\"213\" cy=\"-234\" rx=\"61.19\" ry=\"18\"/>\n",
       "<text text-anchor=\"middle\" x=\"213\" y=\"-230.3\" font-family=\"Times,serif\" font-size=\"14.00\">mfcc.out_0</text>\n",
       "</g>\n",
       "<!-- x -->\n",
       "<g id=\"node11\" class=\"node\">\n",
       "<title>x</title>\n",
       "<path fill=\"none\" stroke=\"black\" d=\"M229,-180C229,-180 197,-180 197,-180 191,-180 185,-174 185,-168 185,-168 185,-156 185,-156 185,-150 191,-144 197,-144 197,-144 229,-144 229,-144 235,-144 241,-150 241,-156 241,-156 241,-168 241,-168 241,-174 235,-180 229,-180\"/>\n",
       "<text text-anchor=\"middle\" x=\"213\" y=\"-158.3\" font-family=\"Times,serif\" font-size=\"14.00\">mean</text>\n",
       "</g>\n",
       "<!-- mfcc.out_0&#45;&gt;x -->\n",
       "<g id=\"edge9\" class=\"edge\">\n",
       "<title>mfcc.out_0&#45;&gt;x</title>\n",
       "<path fill=\"none\" stroke=\"black\" d=\"M213,-215.7C213,-207.98 213,-198.71 213,-190.11\"/>\n",
       "<polygon fill=\"black\" stroke=\"black\" points=\"216.5,-190.1 213,-180.1 209.5,-190.1 216.5,-190.1\"/>\n",
       "</g>\n",
       "<!-- inp_mfcc.out_0&#45;&gt;mfcc.out_0 -->\n",
       "<g id=\"edge8\" class=\"edge\">\n",
       "<title>inp_mfcc.out_0&#45;&gt;mfcc.out_0</title>\n",
       "<path fill=\"none\" stroke=\"black\" d=\"M213,-287.7C213,-279.98 213,-270.71 213,-262.11\"/>\n",
       "<polygon fill=\"black\" stroke=\"black\" points=\"216.5,-262.1 213,-252.1 209.5,-262.1 216.5,-262.1\"/>\n",
       "</g>\n",
       "<!-- .280 -->\n",
       "<g id=\"node10\" class=\"node\">\n",
       "<title>.280</title>\n",
       "<polygon fill=\"none\" stroke=\"black\" points=\"292.5,-108 133.5,-108 133.5,-72 292.5,-72 292.5,-108\"/>\n",
       "<text text-anchor=\"middle\" x=\"213\" y=\"-86.3\" font-family=\"Times,serif\" font-size=\"14.00\">cls_head (Classifier)</text>\n",
       "</g>\n",
       "<!-- out_0 -->\n",
       "<g id=\"node12\" class=\"node\">\n",
       "<title>out_0</title>\n",
       "<ellipse fill=\"none\" stroke=\"black\" cx=\"213\" cy=\"-18\" rx=\"36.29\" ry=\"18\"/>\n",
       "<text text-anchor=\"middle\" x=\"213\" y=\"-14.3\" font-family=\"Times,serif\" font-size=\"14.00\">out_0</text>\n",
       "</g>\n",
       "<!-- .280&#45;&gt;out_0 -->\n",
       "<g id=\"edge11\" class=\"edge\">\n",
       "<title>.280&#45;&gt;out_0</title>\n",
       "<path fill=\"none\" stroke=\"black\" d=\"M213,-71.7C213,-63.98 213,-54.71 213,-46.11\"/>\n",
       "<polygon fill=\"black\" stroke=\"black\" points=\"216.5,-46.1 213,-36.1 209.5,-46.1 216.5,-46.1\"/>\n",
       "</g>\n",
       "<!-- x&#45;&gt;.280 -->\n",
       "<g id=\"edge10\" class=\"edge\">\n",
       "<title>x&#45;&gt;.280</title>\n",
       "<path fill=\"none\" stroke=\"black\" d=\"M213,-143.7C213,-135.98 213,-126.71 213,-118.11\"/>\n",
       "<polygon fill=\"black\" stroke=\"black\" points=\"216.5,-118.1 213,-108.1 209.5,-118.1 216.5,-118.1\"/>\n",
       "</g>\n",
       "</g>\n",
       "</svg>\n"
      ],
      "text/plain": [
       "<graphviz.graphs.Digraph at 0x7f8b370c8730>"
      ]
     },
     "execution_count": 52,
     "metadata": {},
     "output_type": "execute_result"
    }
   ],
   "source": [
    "display_module(\n",
    "    model, input, \n",
    "    classes_to_visit={\"MFCC\", \"MelSpectrogram\"})"
   ]
  },
  {
   "cell_type": "code",
   "execution_count": 53,
   "id": "21878074-1ec7-41eb-b1cc-6ca1c332c1c8",
   "metadata": {},
   "outputs": [
    {
     "name": "stdout",
     "output_type": "stream",
     "text": [
      "aten::matmul %10 : Float(1, 1, 122, 40, strides=[4880, 4880, 40, 1], requires_grad=0, device=cuda:0) = aten::matmul(%9, %dct_mat), scope: __module.mfcc # /opt/anaconda3/envs/audio/lib/python3.9/site-packages/torchaudio/transforms/_transforms.py:707:0\n",
      "\n",
      "aten::mean %x : Float(1, 40, strides=[40, 1], requires_grad=0, device=cuda:0) = aten::mean(%x.7, %197, %198, %199) # /opt/anaconda3/envs/audio/lib/python3.9/site-packages/einops/_backends.py:247:0\n",
      "\n"
     ]
    },
    {
     "data": {
      "image/svg+xml": [
       "<?xml version=\"1.0\" encoding=\"UTF-8\" standalone=\"no\"?>\n",
       "<!DOCTYPE svg PUBLIC \"-//W3C//DTD SVG 1.1//EN\"\n",
       " \"http://www.w3.org/Graphics/SVG/1.1/DTD/svg11.dtd\">\n",
       "<!-- Generated by graphviz version 2.43.0 (0)\n",
       " -->\n",
       "<!-- Title: %3 Pages: 1 -->\n",
       "<svg width=\"434pt\" height=\"1228pt\"\n",
       " viewBox=\"0.00 0.00 434.00 1228.00\" xmlns=\"http://www.w3.org/2000/svg\" xmlns:xlink=\"http://www.w3.org/1999/xlink\">\n",
       "<g id=\"graph0\" class=\"graph\" transform=\"scale(1 1) rotate(0) translate(4 1224)\">\n",
       "<title>%3</title>\n",
       "<polygon fill=\"white\" stroke=\"transparent\" points=\"-4,4 -4,-1224 430,-1224 430,4 -4,4\"/>\n",
       "<text text-anchor=\"middle\" x=\"213\" y=\"-1204.8\" font-family=\"Times,serif\" font-size=\"14.00\">M13mfcc</text>\n",
       "<g id=\"clust1\" class=\"cluster\">\n",
       "<title>cluster_.279</title>\n",
       "<polygon fill=\"none\" stroke=\"black\" points=\"8,-571 8,-1153 418,-1153 418,-571 8,-571\"/>\n",
       "<text text-anchor=\"middle\" x=\"213\" y=\"-1137.8\" font-family=\"Times,serif\" font-size=\"14.00\">mfcc (MFCC)</text>\n",
       "</g>\n",
       "<g id=\"clust2\" class=\"cluster\">\n",
       "<title>cluster_mfcc..14</title>\n",
       "<polygon fill=\"none\" stroke=\"black\" points=\"16,-787 16,-1078 410,-1078 410,-787 16,-787\"/>\n",
       "<text text-anchor=\"middle\" x=\"213\" y=\"-1062.8\" font-family=\"Times,serif\" font-size=\"14.00\">mfcc.MelSpectrogram (MelSpectrogram)</text>\n",
       "</g>\n",
       "<g id=\"clust3\" class=\"cluster\">\n",
       "<title>cluster_.280</title>\n",
       "<polygon fill=\"none\" stroke=\"black\" points=\"89,-64 89,-499 337,-499 337,-64 89,-64\"/>\n",
       "<text text-anchor=\"middle\" x=\"213\" y=\"-483.8\" font-family=\"Times,serif\" font-size=\"14.00\">cls_head (Classifier)</text>\n",
       "</g>\n",
       "<!-- inp_x.1 -->\n",
       "<g id=\"node1\" class=\"node\">\n",
       "<title>inp_x.1</title>\n",
       "<ellipse fill=\"none\" stroke=\"black\" cx=\"213\" cy=\"-1179\" rx=\"44.39\" ry=\"18\"/>\n",
       "<text text-anchor=\"middle\" x=\"213\" y=\"-1175.3\" font-family=\"Times,serif\" font-size=\"14.00\">inp_x.1</text>\n",
       "</g>\n",
       "<!-- mfcc.inp_x.1 -->\n",
       "<g id=\"node2\" class=\"node\">\n",
       "<title>mfcc.inp_x.1</title>\n",
       "<ellipse fill=\"none\" stroke=\"black\" cx=\"213\" cy=\"-1104\" rx=\"68.79\" ry=\"18\"/>\n",
       "<text text-anchor=\"middle\" x=\"213\" y=\"-1100.3\" font-family=\"Times,serif\" font-size=\"14.00\">mfcc.inp_x.1</text>\n",
       "</g>\n",
       "<!-- inp_x.1&#45;&gt;mfcc.inp_x.1 -->\n",
       "<g id=\"edge1\" class=\"edge\">\n",
       "<title>inp_x.1&#45;&gt;mfcc.inp_x.1</title>\n",
       "<path fill=\"none\" stroke=\"black\" d=\"M213,-1160.7C213,-1152.25 213,-1141.87 213,-1132.37\"/>\n",
       "<polygon fill=\"black\" stroke=\"black\" points=\"216.5,-1132.18 213,-1122.18 209.5,-1132.18 216.5,-1132.18\"/>\n",
       "</g>\n",
       "<!-- mfcc.MelSpectrogram.inp_x.1 -->\n",
       "<g id=\"node3\" class=\"node\">\n",
       "<title>mfcc.MelSpectrogram.inp_x.1</title>\n",
       "<ellipse fill=\"none\" stroke=\"black\" cx=\"213\" cy=\"-1029\" rx=\"149.47\" ry=\"18\"/>\n",
       "<text text-anchor=\"middle\" x=\"213\" y=\"-1025.3\" font-family=\"Times,serif\" font-size=\"14.00\">mfcc.MelSpectrogram.inp_x.1</text>\n",
       "</g>\n",
       "<!-- mfcc.inp_x.1&#45;&gt;mfcc.MelSpectrogram.inp_x.1 -->\n",
       "<g id=\"edge2\" class=\"edge\">\n",
       "<title>mfcc.inp_x.1&#45;&gt;mfcc.MelSpectrogram.inp_x.1</title>\n",
       "<path fill=\"none\" stroke=\"black\" d=\"M213,-1085.7C213,-1077.25 213,-1066.87 213,-1057.37\"/>\n",
       "<polygon fill=\"black\" stroke=\"black\" points=\"216.5,-1057.18 213,-1047.18 209.5,-1057.18 216.5,-1057.18\"/>\n",
       "</g>\n",
       "<!-- mfcc.MelSpectrogram..6 -->\n",
       "<g id=\"node4\" class=\"node\">\n",
       "<title>mfcc.MelSpectrogram..6</title>\n",
       "<polygon fill=\"none\" stroke=\"black\" points=\"402,-975 24,-975 24,-939 402,-939 402,-975\"/>\n",
       "<text text-anchor=\"middle\" x=\"213\" y=\"-953.3\" font-family=\"Times,serif\" font-size=\"14.00\">mfcc.MelSpectrogram.spectrogram (Spectrogram)</text>\n",
       "</g>\n",
       "<!-- mfcc.MelSpectrogram.inp_x.1&#45;&gt;mfcc.MelSpectrogram..6 -->\n",
       "<g id=\"edge3\" class=\"edge\">\n",
       "<title>mfcc.MelSpectrogram.inp_x.1&#45;&gt;mfcc.MelSpectrogram..6</title>\n",
       "<path fill=\"none\" stroke=\"black\" d=\"M213,-1010.7C213,-1002.98 213,-993.71 213,-985.11\"/>\n",
       "<polygon fill=\"black\" stroke=\"black\" points=\"216.5,-985.1 213,-975.1 209.5,-985.1 216.5,-985.1\"/>\n",
       "</g>\n",
       "<!-- mfcc.MelSpectrogram..7 -->\n",
       "<g id=\"node5\" class=\"node\">\n",
       "<title>mfcc.MelSpectrogram..7</title>\n",
       "<polygon fill=\"none\" stroke=\"black\" points=\"377.5,-903 48.5,-903 48.5,-867 377.5,-867 377.5,-903\"/>\n",
       "<text text-anchor=\"middle\" x=\"213\" y=\"-881.3\" font-family=\"Times,serif\" font-size=\"14.00\">mfcc.MelSpectrogram.mel_scale (MelScale)</text>\n",
       "</g>\n",
       "<!-- mfcc.MelSpectrogram..6&#45;&gt;mfcc.MelSpectrogram..7 -->\n",
       "<g id=\"edge4\" class=\"edge\">\n",
       "<title>mfcc.MelSpectrogram..6&#45;&gt;mfcc.MelSpectrogram..7</title>\n",
       "<path fill=\"none\" stroke=\"black\" d=\"M213,-938.7C213,-930.98 213,-921.71 213,-913.11\"/>\n",
       "<polygon fill=\"black\" stroke=\"black\" points=\"216.5,-913.1 213,-903.1 209.5,-913.1 216.5,-913.1\"/>\n",
       "</g>\n",
       "<!-- mfcc.MelSpectrogram.out_0 -->\n",
       "<g id=\"node6\" class=\"node\">\n",
       "<title>mfcc.MelSpectrogram.out_0</title>\n",
       "<ellipse fill=\"none\" stroke=\"black\" cx=\"213\" cy=\"-813\" rx=\"141.88\" ry=\"18\"/>\n",
       "<text text-anchor=\"middle\" x=\"213\" y=\"-809.3\" font-family=\"Times,serif\" font-size=\"14.00\">mfcc.MelSpectrogram.out_0</text>\n",
       "</g>\n",
       "<!-- mfcc.MelSpectrogram..7&#45;&gt;mfcc.MelSpectrogram.out_0 -->\n",
       "<g id=\"edge5\" class=\"edge\">\n",
       "<title>mfcc.MelSpectrogram..7&#45;&gt;mfcc.MelSpectrogram.out_0</title>\n",
       "<path fill=\"none\" stroke=\"black\" d=\"M213,-866.7C213,-858.98 213,-849.71 213,-841.11\"/>\n",
       "<polygon fill=\"black\" stroke=\"black\" points=\"216.5,-841.1 213,-831.1 209.5,-841.1 216.5,-841.1\"/>\n",
       "</g>\n",
       "<!-- mfcc..15 -->\n",
       "<g id=\"node7\" class=\"node\">\n",
       "<title>mfcc..15</title>\n",
       "<polygon fill=\"none\" stroke=\"black\" points=\"364.5,-759 61.5,-759 61.5,-723 364.5,-723 364.5,-759\"/>\n",
       "<text text-anchor=\"middle\" x=\"213\" y=\"-737.3\" font-family=\"Times,serif\" font-size=\"14.00\">mfcc.amplitude_to_DB (AmplitudeToDB)</text>\n",
       "</g>\n",
       "<!-- mfcc.MelSpectrogram.out_0&#45;&gt;mfcc..15 -->\n",
       "<g id=\"edge6\" class=\"edge\">\n",
       "<title>mfcc.MelSpectrogram.out_0&#45;&gt;mfcc..15</title>\n",
       "<path fill=\"none\" stroke=\"black\" d=\"M213,-794.7C213,-786.98 213,-777.71 213,-769.11\"/>\n",
       "<polygon fill=\"black\" stroke=\"black\" points=\"216.5,-769.1 213,-759.1 209.5,-769.1 216.5,-769.1\"/>\n",
       "</g>\n",
       "<!-- inp_mfcc.out_0 -->\n",
       "<g id=\"node9\" class=\"node\">\n",
       "<title>inp_mfcc.out_0</title>\n",
       "<path fill=\"none\" stroke=\"black\" d=\"M236.5,-687C236.5,-687 189.5,-687 189.5,-687 183.5,-687 177.5,-681 177.5,-675 177.5,-675 177.5,-663 177.5,-663 177.5,-657 183.5,-651 189.5,-651 189.5,-651 236.5,-651 236.5,-651 242.5,-651 248.5,-657 248.5,-663 248.5,-663 248.5,-675 248.5,-675 248.5,-681 242.5,-687 236.5,-687\"/>\n",
       "<text text-anchor=\"middle\" x=\"213\" y=\"-665.3\" font-family=\"Times,serif\" font-size=\"14.00\">matmul</text>\n",
       "</g>\n",
       "<!-- mfcc..15&#45;&gt;inp_mfcc.out_0 -->\n",
       "<g id=\"edge7\" class=\"edge\">\n",
       "<title>mfcc..15&#45;&gt;inp_mfcc.out_0</title>\n",
       "<path fill=\"none\" stroke=\"black\" d=\"M213,-722.7C213,-714.98 213,-705.71 213,-697.11\"/>\n",
       "<polygon fill=\"black\" stroke=\"black\" points=\"216.5,-697.1 213,-687.1 209.5,-697.1 216.5,-697.1\"/>\n",
       "</g>\n",
       "<!-- mfcc.out_0 -->\n",
       "<g id=\"node8\" class=\"node\">\n",
       "<title>mfcc.out_0</title>\n",
       "<ellipse fill=\"none\" stroke=\"black\" cx=\"213\" cy=\"-597\" rx=\"61.19\" ry=\"18\"/>\n",
       "<text text-anchor=\"middle\" x=\"213\" y=\"-593.3\" font-family=\"Times,serif\" font-size=\"14.00\">mfcc.out_0</text>\n",
       "</g>\n",
       "<!-- inp_cls_head.inp_x -->\n",
       "<g id=\"node10\" class=\"node\">\n",
       "<title>inp_cls_head.inp_x</title>\n",
       "<path fill=\"none\" stroke=\"black\" d=\"M229,-543C229,-543 197,-543 197,-543 191,-543 185,-537 185,-531 185,-531 185,-519 185,-519 185,-513 191,-507 197,-507 197,-507 229,-507 229,-507 235,-507 241,-513 241,-519 241,-519 241,-531 241,-531 241,-537 235,-543 229,-543\"/>\n",
       "<text text-anchor=\"middle\" x=\"213\" y=\"-521.3\" font-family=\"Times,serif\" font-size=\"14.00\">mean</text>\n",
       "</g>\n",
       "<!-- mfcc.out_0&#45;&gt;inp_cls_head.inp_x -->\n",
       "<g id=\"edge9\" class=\"edge\">\n",
       "<title>mfcc.out_0&#45;&gt;inp_cls_head.inp_x</title>\n",
       "<path fill=\"none\" stroke=\"black\" d=\"M213,-578.7C213,-570.98 213,-561.71 213,-553.11\"/>\n",
       "<polygon fill=\"black\" stroke=\"black\" points=\"216.5,-553.1 213,-543.1 209.5,-553.1 216.5,-553.1\"/>\n",
       "</g>\n",
       "<!-- inp_mfcc.out_0&#45;&gt;mfcc.out_0 -->\n",
       "<g id=\"edge8\" class=\"edge\">\n",
       "<title>inp_mfcc.out_0&#45;&gt;mfcc.out_0</title>\n",
       "<path fill=\"none\" stroke=\"black\" d=\"M213,-650.7C213,-642.98 213,-633.71 213,-625.11\"/>\n",
       "<polygon fill=\"black\" stroke=\"black\" points=\"216.5,-625.1 213,-615.1 209.5,-625.1 216.5,-625.1\"/>\n",
       "</g>\n",
       "<!-- cls_head.inp_x -->\n",
       "<g id=\"node11\" class=\"node\">\n",
       "<title>cls_head.inp_x</title>\n",
       "<ellipse fill=\"none\" stroke=\"black\" cx=\"213\" cy=\"-450\" rx=\"77.19\" ry=\"18\"/>\n",
       "<text text-anchor=\"middle\" x=\"213\" y=\"-446.3\" font-family=\"Times,serif\" font-size=\"14.00\">cls_head.inp_x</text>\n",
       "</g>\n",
       "<!-- inp_cls_head.inp_x&#45;&gt;cls_head.inp_x -->\n",
       "<g id=\"edge10\" class=\"edge\">\n",
       "<title>inp_cls_head.inp_x&#45;&gt;cls_head.inp_x</title>\n",
       "<path fill=\"none\" stroke=\"black\" d=\"M213,-506.7C213,-498.25 213,-487.87 213,-478.37\"/>\n",
       "<polygon fill=\"black\" stroke=\"black\" points=\"216.5,-478.18 213,-468.18 209.5,-478.18 216.5,-478.18\"/>\n",
       "</g>\n",
       "<!-- cls_head..18 -->\n",
       "<g id=\"node12\" class=\"node\">\n",
       "<title>cls_head..18</title>\n",
       "<polygon fill=\"none\" stroke=\"black\" points=\"329,-396 97,-396 97,-360 329,-360 329,-396\"/>\n",
       "<text text-anchor=\"middle\" x=\"213\" y=\"-374.3\" font-family=\"Times,serif\" font-size=\"14.00\">cls_head.blocks.0 (Sequential)</text>\n",
       "</g>\n",
       "<!-- cls_head.inp_x&#45;&gt;cls_head..18 -->\n",
       "<g id=\"edge11\" class=\"edge\">\n",
       "<title>cls_head.inp_x&#45;&gt;cls_head..18</title>\n",
       "<path fill=\"none\" stroke=\"black\" d=\"M213,-431.7C213,-423.98 213,-414.71 213,-406.11\"/>\n",
       "<polygon fill=\"black\" stroke=\"black\" points=\"216.5,-406.1 213,-396.1 209.5,-406.1 216.5,-406.1\"/>\n",
       "</g>\n",
       "<!-- cls_head..19 -->\n",
       "<g id=\"node13\" class=\"node\">\n",
       "<title>cls_head..19</title>\n",
       "<polygon fill=\"none\" stroke=\"black\" points=\"329,-324 97,-324 97,-288 329,-288 329,-324\"/>\n",
       "<text text-anchor=\"middle\" x=\"213\" y=\"-302.3\" font-family=\"Times,serif\" font-size=\"14.00\">cls_head.blocks.1 (Sequential)</text>\n",
       "</g>\n",
       "<!-- cls_head..18&#45;&gt;cls_head..19 -->\n",
       "<g id=\"edge12\" class=\"edge\">\n",
       "<title>cls_head..18&#45;&gt;cls_head..19</title>\n",
       "<path fill=\"none\" stroke=\"black\" d=\"M213,-359.7C213,-351.98 213,-342.71 213,-334.11\"/>\n",
       "<polygon fill=\"black\" stroke=\"black\" points=\"216.5,-334.1 213,-324.1 209.5,-334.1 216.5,-334.1\"/>\n",
       "</g>\n",
       "<!-- cls_head..20 -->\n",
       "<g id=\"node14\" class=\"node\">\n",
       "<title>cls_head..20</title>\n",
       "<polygon fill=\"none\" stroke=\"black\" points=\"313,-252 113,-252 113,-216 313,-216 313,-252\"/>\n",
       "<text text-anchor=\"middle\" x=\"213\" y=\"-230.3\" font-family=\"Times,serif\" font-size=\"14.00\">cls_head.act (LeakyReLU)</text>\n",
       "</g>\n",
       "<!-- cls_head..19&#45;&gt;cls_head..20 -->\n",
       "<g id=\"edge13\" class=\"edge\">\n",
       "<title>cls_head..19&#45;&gt;cls_head..20</title>\n",
       "<path fill=\"none\" stroke=\"black\" d=\"M213,-287.7C213,-279.98 213,-270.71 213,-262.11\"/>\n",
       "<polygon fill=\"black\" stroke=\"black\" points=\"216.5,-262.1 213,-252.1 209.5,-262.1 216.5,-262.1\"/>\n",
       "</g>\n",
       "<!-- cls_head..21 -->\n",
       "<g id=\"node15\" class=\"node\">\n",
       "<title>cls_head..21</title>\n",
       "<polygon fill=\"none\" stroke=\"black\" points=\"329.5,-180 96.5,-180 96.5,-144 329.5,-144 329.5,-180\"/>\n",
       "<text text-anchor=\"middle\" x=\"213\" y=\"-158.3\" font-family=\"Times,serif\" font-size=\"14.00\">cls_head.output_layer (Linear)</text>\n",
       "</g>\n",
       "<!-- cls_head..20&#45;&gt;cls_head..21 -->\n",
       "<g id=\"edge14\" class=\"edge\">\n",
       "<title>cls_head..20&#45;&gt;cls_head..21</title>\n",
       "<path fill=\"none\" stroke=\"black\" d=\"M213,-215.7C213,-207.98 213,-198.71 213,-190.11\"/>\n",
       "<polygon fill=\"black\" stroke=\"black\" points=\"216.5,-190.1 213,-180.1 209.5,-190.1 216.5,-190.1\"/>\n",
       "</g>\n",
       "<!-- cls_head.out_0 -->\n",
       "<g id=\"node16\" class=\"node\">\n",
       "<title>cls_head.out_0</title>\n",
       "<ellipse fill=\"none\" stroke=\"black\" cx=\"213\" cy=\"-90\" rx=\"78.79\" ry=\"18\"/>\n",
       "<text text-anchor=\"middle\" x=\"213\" y=\"-86.3\" font-family=\"Times,serif\" font-size=\"14.00\">cls_head.out_0</text>\n",
       "</g>\n",
       "<!-- cls_head..21&#45;&gt;cls_head.out_0 -->\n",
       "<g id=\"edge15\" class=\"edge\">\n",
       "<title>cls_head..21&#45;&gt;cls_head.out_0</title>\n",
       "<path fill=\"none\" stroke=\"black\" d=\"M213,-143.7C213,-135.98 213,-126.71 213,-118.11\"/>\n",
       "<polygon fill=\"black\" stroke=\"black\" points=\"216.5,-118.1 213,-108.1 209.5,-118.1 216.5,-118.1\"/>\n",
       "</g>\n",
       "<!-- out_0 -->\n",
       "<g id=\"node17\" class=\"node\">\n",
       "<title>out_0</title>\n",
       "<ellipse fill=\"none\" stroke=\"black\" cx=\"213\" cy=\"-18\" rx=\"36.29\" ry=\"18\"/>\n",
       "<text text-anchor=\"middle\" x=\"213\" y=\"-14.3\" font-family=\"Times,serif\" font-size=\"14.00\">out_0</text>\n",
       "</g>\n",
       "<!-- cls_head.out_0&#45;&gt;out_0 -->\n",
       "<g id=\"edge16\" class=\"edge\">\n",
       "<title>cls_head.out_0&#45;&gt;out_0</title>\n",
       "<path fill=\"none\" stroke=\"black\" d=\"M213,-71.7C213,-63.98 213,-54.71 213,-46.11\"/>\n",
       "<polygon fill=\"black\" stroke=\"black\" points=\"216.5,-46.1 213,-36.1 209.5,-46.1 216.5,-46.1\"/>\n",
       "</g>\n",
       "</g>\n",
       "</svg>\n"
      ],
      "text/plain": [
       "<graphviz.graphs.Digraph at 0x7f8b36de3f70>"
      ]
     },
     "execution_count": 53,
     "metadata": {},
     "output_type": "execute_result"
    }
   ],
   "source": [
    "display_module(\n",
    "    model, input, \n",
    "    classes_to_visit={\"MFCC\", \"MelSpectrogram\", \"Classifier\"})"
   ]
  },
  {
   "cell_type": "code",
   "execution_count": 54,
   "id": "ac037f0f-ebdf-4622-8a6d-bfca35ad7a95",
   "metadata": {},
   "outputs": [
    {
     "data": {
      "text/plain": [
       "737"
      ]
     },
     "execution_count": 54,
     "metadata": {},
     "output_type": "execute_result"
    }
   ],
   "source": [
    "# del model\n",
    "# del best_model\n",
    "# gc.collect()"
   ]
  },
  {
   "cell_type": "code",
   "execution_count": null,
   "id": "372a0fca-eeda-4e0a-87de-d7ef261644fa",
   "metadata": {},
   "outputs": [],
   "source": []
  }
 ],
 "metadata": {
  "kernelspec": {
   "display_name": "Python 3 (ipykernel)",
   "language": "python",
   "name": "python3"
  },
  "language_info": {
   "codemirror_mode": {
    "name": "ipython",
    "version": 3
   },
   "file_extension": ".py",
   "mimetype": "text/x-python",
   "name": "python",
   "nbconvert_exporter": "python",
   "pygments_lexer": "ipython3",
   "version": "3.9.18"
  }
 },
 "nbformat": 4,
 "nbformat_minor": 5
}
