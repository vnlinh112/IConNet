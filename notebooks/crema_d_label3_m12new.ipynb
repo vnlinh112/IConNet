{
 "cells": [
  {
   "cell_type": "code",
   "execution_count": 1,
   "id": "ebeadf44-f268-4ea5-940c-4b8d6c30e824",
   "metadata": {},
   "outputs": [
    {
     "name": "stdout",
     "output_type": "stream",
     "text": [
      "Thu Feb 22 19:31:02 2024       \n",
      "+---------------------------------------------------------------------------------------+\n",
      "| NVIDIA-SMI 545.23.08              Driver Version: 545.23.08    CUDA Version: 12.3     |\n",
      "|-----------------------------------------+----------------------+----------------------+\n",
      "| GPU  Name                 Persistence-M | Bus-Id        Disp.A | Volatile Uncorr. ECC |\n",
      "| Fan  Temp   Perf          Pwr:Usage/Cap |         Memory-Usage | GPU-Util  Compute M. |\n",
      "|                                         |                      |               MIG M. |\n",
      "|=========================================+======================+======================|\n",
      "|   0  NVIDIA GeForce RTX 2080        On  | 00000000:01:00.0  On |                  N/A |\n",
      "| 32%   36C    P5              23W / 215W |    774MiB /  8192MiB |      2%      Default |\n",
      "|                                         |                      |                  N/A |\n",
      "+-----------------------------------------+----------------------+----------------------+\n",
      "                                                                                         \n",
      "+---------------------------------------------------------------------------------------+\n",
      "| Processes:                                                                            |\n",
      "|  GPU   GI   CI        PID   Type   Process name                            GPU Memory |\n",
      "|        ID   ID                                                             Usage      |\n",
      "|=======================================================================================|\n",
      "|    0   N/A  N/A      1887      G   /usr/lib/xorg/Xorg                          192MiB |\n",
      "|    0   N/A  N/A      2033      G   /usr/bin/gnome-shell                         28MiB |\n",
      "|    0   N/A  N/A   1076924      G   /usr/lib/xorg/Xorg                           35MiB |\n",
      "|    0   N/A  N/A   1080375      G   ...seed-version=20240215-080116.052000       71MiB |\n",
      "|    0   N/A  N/A   1080394      G   ...sion,SpareRendererForSitePerProcess       37MiB |\n",
      "|    0   N/A  N/A   2546595      C   /opt/anaconda3/envs/audio/bin/python        268MiB |\n",
      "+---------------------------------------------------------------------------------------+\n"
     ]
    }
   ],
   "source": [
    "!nvidia-smi"
   ]
  },
  {
   "cell_type": "code",
   "execution_count": 2,
   "id": "8a250661-b9f6-4716-ae35-d38b7eecec25",
   "metadata": {},
   "outputs": [],
   "source": [
    "%load_ext autoreload\n",
    "%autoreload 2"
   ]
  },
  {
   "cell_type": "code",
   "execution_count": 3,
   "id": "08cf1f67-3e13-4f47-b598-ed7bc4cfbd4a",
   "metadata": {},
   "outputs": [
    {
     "data": {
      "text/plain": [
       "'/home/linh/projects/IConNet/notebooks'"
      ]
     },
     "execution_count": 3,
     "metadata": {},
     "output_type": "execute_result"
    }
   ],
   "source": [
    "import os\n",
    "os.getcwd()"
   ]
  },
  {
   "cell_type": "code",
   "execution_count": 4,
   "id": "918ffe29-4a40-4a72-8a5c-94fc2ec53d51",
   "metadata": {},
   "outputs": [],
   "source": [
    "os.chdir('..')"
   ]
  },
  {
   "cell_type": "code",
   "execution_count": 5,
   "id": "d2c64223-82c7-4fe7-a4df-278b26ba60a7",
   "metadata": {},
   "outputs": [
    {
     "name": "stdout",
     "output_type": "stream",
     "text": [
      "cuda\n"
     ]
    }
   ],
   "source": [
    "os.environ[\"PYTORCH_CUDA_ALLOC_CONF\"] = \"max_split_size_mb:512\"\n",
    "import gc\n",
    "import torch\n",
    "import torch.nn as nn\n",
    "import torch.nn.functional as F\n",
    "import torch.optim as optim\n",
    "import sys\n",
    "device = torch.device(\"cuda\" if torch.cuda.is_available() else \"cpu\")\n",
    "print(device)"
   ]
  },
  {
   "cell_type": "code",
   "execution_count": 6,
   "id": "1db98310-7115-45c5-bc6f-c34279a3a50e",
   "metadata": {},
   "outputs": [],
   "source": [
    "import glob\n",
    "import numpy as np\n",
    "from tqdm import tqdm\n",
    "import itertools\n",
    "import matplotlib.pyplot as plt\n",
    "import pandas as pd\n",
    "\n",
    "# Scikit learn\n",
    "from sklearn.model_selection import train_test_split\n",
    "from sklearn.preprocessing import LabelEncoder\n",
    "from sklearn.utils import shuffle\n",
    "\n",
    "import warnings\n",
    "warnings.filterwarnings('ignore', category=FutureWarning)"
   ]
  },
  {
   "cell_type": "code",
   "execution_count": 7,
   "id": "8b265cfc-5bef-46b7-aaa7-955240ad87f1",
   "metadata": {},
   "outputs": [],
   "source": [
    "data_dir = '../data/CREMA-D/'"
   ]
  },
  {
   "cell_type": "code",
   "execution_count": 8,
   "id": "82fb76f6-ade0-4d65-b525-7ff779fc0290",
   "metadata": {},
   "outputs": [],
   "source": [
    "sr = 16000\n",
    "\n",
    "x_train = np.load(f'{data_dir}crema_d.audio16k.train.npy', allow_pickle=True)\n",
    "x_test = np.load(f'{data_dir}crema_d.audio16k.test.npy', allow_pickle=True)\n",
    "classnames = np.load(f'{data_dir}crema_d.classnames.npy', allow_pickle=True)\n",
    "y_train = np.load(f'{data_dir}crema_d.labels.train.npy', allow_pickle=True)\n",
    "y_test = np.load(f'{data_dir}crema_d.labels.test.npy', allow_pickle=True)"
   ]
  },
  {
   "cell_type": "code",
   "execution_count": 9,
   "id": "cffdd7de-9752-4402-b836-f397dde533c3",
   "metadata": {},
   "outputs": [
    {
     "name": "stdout",
     "output_type": "stream",
     "text": [
      "(2508,)\n",
      "(759,)\n"
     ]
    }
   ],
   "source": [
    "labels = ['ANG', 'NEU', 'SAD']\n",
    "\n",
    "def label_filter(idx):\n",
    "    return classnames[idx] in labels\n",
    "\n",
    "def label_to_index(idx):\n",
    "    return labels.index(classnames[idx])\n",
    "    \n",
    "filtered_idx = [label_filter(idx) for idx in y_train]\n",
    "x_train = x_train[filtered_idx]\n",
    "y_train = [label_to_index(idx) for idx in y_train[filtered_idx]]\n",
    "print(x_train.shape)\n",
    "\n",
    "filtered_idx = [label_filter(idx) for idx in y_test]\n",
    "x_test = x_test[filtered_idx]\n",
    "y_test = [label_to_index(idx) for idx in y_test[filtered_idx]]\n",
    "print(x_test.shape)"
   ]
  },
  {
   "cell_type": "code",
   "execution_count": 10,
   "id": "b70a70e3-6232-4c58-9f4f-a94a97e90908",
   "metadata": {},
   "outputs": [
    {
     "name": "stdout",
     "output_type": "stream",
     "text": [
      "21355\n",
      "80080\n"
     ]
    },
    {
     "data": {
      "text/plain": [
       "40594.362041467306"
      ]
     },
     "execution_count": 10,
     "metadata": {},
     "output_type": "execute_result"
    }
   ],
   "source": [
    "l = [len(i) for i in x_train]\n",
    "print(min(l))\n",
    "print(max(l))\n",
    "sum(l) / len(l)"
   ]
  },
  {
   "cell_type": "code",
   "execution_count": 11,
   "id": "c55f5684-d1a8-4d8d-b97b-96149b6f8ec6",
   "metadata": {},
   "outputs": [],
   "source": [
    "train_set = list(zip(x_train, y_train))\n",
    "test_set = list(zip(x_test, y_test))"
   ]
  },
  {
   "cell_type": "code",
   "execution_count": 12,
   "id": "a9254a4f-f9c2-4d6d-9338-c3283941f6fe",
   "metadata": {},
   "outputs": [],
   "source": [
    "sample_rate=16000"
   ]
  },
  {
   "cell_type": "code",
   "execution_count": 13,
   "id": "d8aadba2-7ff4-4490-94e8-1d7786a98a77",
   "metadata": {},
   "outputs": [],
   "source": [
    "def pad_sequence(batch):\n",
    "    # Make all tensor in a batch the same length by padding with zeros\n",
    "    batch = [item.t() for item in batch]\n",
    "    batch = torch.nn.utils.rnn.pad_sequence(\n",
    "        batch, batch_first=True, padding_value=0.)\n",
    "    return batch.permute(0, 2, 1)\n",
    "\n",
    "\n",
    "def collate_fn(batch, max_duration_in_second=3, sample_rate=16000):\n",
    "    tensors, targets = [], []\n",
    "\n",
    "    # Gather in lists, and encode labels as indices\n",
    "    for waveform, label in batch:\n",
    "        if max_duration_in_second is not None:\n",
    "            length = len(waveform)\n",
    "            max_length = sample_rate * max_duration_in_second\n",
    "            offset = max(0, (length - max_length) // 2)\n",
    "            waveform = [waveform[offset: length-offset]]\n",
    "        tensors += [torch.tensor(\n",
    "            np.array(waveform, dtype=float).squeeze(), \n",
    "            dtype=torch.float32)[None,:]]\n",
    "        targets += [torch.tensor(label, dtype=torch.long)]\n",
    "\n",
    "    # Group the list of tensors into a batched tensor\n",
    "    tensors = pad_sequence(tensors)\n",
    "    targets = torch.stack(targets)\n",
    "\n",
    "    return tensors, targets\n",
    "\n",
    "batch_size = 32\n",
    "\n",
    "if device == \"cuda\":\n",
    "    num_workers = 1\n",
    "    pin_memory = True\n",
    "else:\n",
    "    num_workers = 0\n",
    "    pin_memory = False\n",
    "\n",
    "train_loader = torch.utils.data.DataLoader(\n",
    "    train_set,\n",
    "    batch_size=batch_size,\n",
    "    shuffle=True,\n",
    "    collate_fn=collate_fn,\n",
    "    num_workers=num_workers,\n",
    "    pin_memory=pin_memory, \n",
    "    drop_last=True\n",
    ")\n",
    "test_loader = torch.utils.data.DataLoader(\n",
    "    test_set,\n",
    "    batch_size=batch_size,\n",
    "    shuffle=False,\n",
    "    drop_last=True,\n",
    "    collate_fn=collate_fn,\n",
    "    num_workers=num_workers,\n",
    "    pin_memory=pin_memory\n",
    ")"
   ]
  },
  {
   "cell_type": "code",
   "execution_count": 14,
   "id": "dc039999-3237-4d3b-80f7-a51f8d503145",
   "metadata": {},
   "outputs": [],
   "source": [
    "from IConNet.nn.model import M12"
   ]
  },
  {
   "cell_type": "code",
   "execution_count": 15,
   "id": "965d9e7c-8057-42d7-a4ae-514fac39ed00",
   "metadata": {},
   "outputs": [],
   "source": [
    "from omegaconf import OmegaConf as ocf"
   ]
  },
  {
   "cell_type": "code",
   "execution_count": 16,
   "id": "41f72901-850d-426c-bf0c-474b9d05e658",
   "metadata": {},
   "outputs": [],
   "source": [
    "import traceback"
   ]
  },
  {
   "cell_type": "code",
   "execution_count": 17,
   "id": "2c32b2a9-2797-4fd1-bd05-f0333f0aaa43",
   "metadata": {},
   "outputs": [
    {
     "data": {
      "text/plain": [
       "{'name': 'M12_debug', 'description': 'FirConv sequential for iemocap', 'fe': {'n_block': 2, 'n_channel': [64, 32], 'kernel_size': [63, 31], 'stride': [4, 4], 'window_k': [5, 9], 'residual_connection_type': 'stack', 'pooling': False, 'filter_type': 'firwin', 'conv_mode': 'fftconv', 'norm_type': 'LocalResponseNorm'}, 'seq': {'n_block': 1, 'n_channel': 48, 'pooling': 'max', 'use_context': False, 'bidirectional': False}, 'cls': {'n_block': 2, 'n_hidden_dim': [256, 256], 'norm_type': 'LayerNorm'}}"
      ]
     },
     "execution_count": 17,
     "metadata": {},
     "output_type": "execute_result"
    }
   ],
   "source": [
    "model_config_path = 'config/model/m12_debug.yaml'\n",
    "model_config = ocf.load(model_config_path)\n",
    "model_config"
   ]
  },
  {
   "cell_type": "code",
   "execution_count": 18,
   "id": "2c6b57a5-edee-400e-807a-fad5e5974026",
   "metadata": {},
   "outputs": [
    {
     "data": {
      "text/plain": [
       "M12(\n",
       "  (fe_blocks): FeBlocks(\n",
       "    (blocks): ModuleList(\n",
       "      (0-1): 2 x FrontEndBlock(\n",
       "        (block): ModuleDict(\n",
       "          (layer): FirConvLayer(\n",
       "            (conv_layer): ResidualConv1d(\n",
       "              (pad_layer): PadForConv()\n",
       "              (stride_layer): DownsampleLayer(\n",
       "                (pad_right): PadForConv()\n",
       "              )\n",
       "              (norm_layer): CustomNormLayer(\n",
       "                (layer): LocalResponseNorm(2, alpha=0.0001, beta=0.75, k=1.0)\n",
       "              )\n",
       "              (act): NLReLU()\n",
       "            )\n",
       "          )\n",
       "          (downsample): ResidualConv1d(\n",
       "            (pad_layer): PadForConv()\n",
       "            (stride_layer): DownsampleLayer(\n",
       "              (pad_right): PadForConv()\n",
       "            )\n",
       "            (norm_layer): CustomNormLayer(\n",
       "              (layer): LocalResponseNorm(2, alpha=0.0001, beta=0.75, k=1.0)\n",
       "            )\n",
       "            (act): NLReLU()\n",
       "          )\n",
       "        )\n",
       "      )\n",
       "    )\n",
       "  )\n",
       "  (seq_blocks): Seq2OneBlocks(\n",
       "    (blocks): LSTM(97, 48, batch_first=True)\n",
       "  )\n",
       "  (cls_head): Classifier(\n",
       "    (blocks): ModuleList(\n",
       "      (0): Sequential(\n",
       "        (norm): LayerNorm((48,), eps=1e-05, elementwise_affine=True)\n",
       "        (layer): Linear(in_features=48, out_features=256, bias=True)\n",
       "      )\n",
       "      (1): Sequential(\n",
       "        (norm): LayerNorm((256,), eps=1e-05, elementwise_affine=True)\n",
       "        (layer): Linear(in_features=256, out_features=256, bias=True)\n",
       "      )\n",
       "    )\n",
       "    (act): LeakyReLU(negative_slope=0.01)\n",
       "    (output_layer): Linear(in_features=256, out_features=3, bias=True)\n",
       "  )\n",
       ")"
      ]
     },
     "execution_count": 18,
     "metadata": {},
     "output_type": "execute_result"
    }
   ],
   "source": [
    "model = M12(config=model_config,\n",
    "           n_input=1, n_output=len(labels))\n",
    "model"
   ]
  },
  {
   "cell_type": "code",
   "execution_count": 19,
   "id": "76e4b8a2-6938-4ec7-bad5-fc07fce8e5e1",
   "metadata": {},
   "outputs": [],
   "source": [
    "n_epoch = 10\n",
    "train_losses = []\n",
    "test_accuracy = []\n",
    "optimizer = optim.RAdam(model.parameters(), lr=0.001)\n",
    "scheduler = optim.lr_scheduler.OneCycleLR(\n",
    "    optimizer, max_lr=0.1,\n",
    "    steps_per_epoch=len(train_loader), epochs=n_epoch)"
   ]
  },
  {
   "cell_type": "code",
   "execution_count": 20,
   "id": "a1d06d4a-aad8-4343-a42a-f6504edad907",
   "metadata": {},
   "outputs": [],
   "source": [
    "train_loader_length = len(train_loader.dataset)\n",
    "test_loader_length = len(test_loader.dataset)\n",
    "\n",
    "def train(model, epoch, log_interval, \n",
    "          train_losses=train_losses):\n",
    "    model.train()\n",
    "    for batch_idx, (data, target) in enumerate(train_loader):\n",
    "        try:\n",
    "            _mem_before = torch.cuda.memory_allocated()\n",
    "            data = data.to(device)\n",
    "            target = target.to(device)\n",
    "            output = model(data)\n",
    "            del data\n",
    "            gc.collect()\n",
    "            torch.cuda.empty_cache()\n",
    "            loss = F.cross_entropy(output.squeeze(), target)\n",
    "            _mem_during = torch.cuda.memory_allocated()\n",
    "            del target\n",
    "            gc.collect()\n",
    "            torch.cuda.empty_cache()\n",
    "            optimizer.zero_grad()\n",
    "            loss.backward()\n",
    "            nn.utils.clip_grad.clip_grad_norm_(\n",
    "                model.parameters(), 1.0)\n",
    "            optimizer.step()\n",
    "            _mem_after = torch.cuda.memory_allocated()\n",
    "            # print training stats\n",
    "            if batch_idx % log_interval == 0:\n",
    "                print(f\"Train Epoch: {epoch} [{batch_idx * batch_size}/{train_loader_length} ({100. * batch_idx / len(train_loader):.0f}%)]\\tLoss: {loss.item():.6f}\")\n",
    "                print(f'Mem before-during-after: {_mem_before} {_mem_during} {_mem_after}')\n",
    "            # update progress bar\n",
    "            pbar.update(pbar_update)\n",
    "            # record loss\n",
    "            train_losses.append(loss.item())\n",
    "        except Exception as e:\n",
    "            print(f'data: {data.shape} => output: {output.shape} | target: {target.shape}')\n",
    "            traceback.print_exc()\n",
    "\n",
    "@torch.no_grad\n",
    "def test(model, epoch):\n",
    "    model.eval()\n",
    "    correct = 0\n",
    "    total = 0\n",
    "    for data, target in test_loader:\n",
    "        total += len(target)\n",
    "        data = data.to(device)\n",
    "        target = target.to(device)\n",
    "        output = model(data).squeeze()\n",
    "        del data\n",
    "        gc.collect()\n",
    "        torch.cuda.empty_cache()\n",
    "        probs = F.softmax(output, dim=-1)\n",
    "        pred = probs.argmax(dim=-1)\n",
    "        correct += pred.eq(target).sum().item()\n",
    "        del target\n",
    "        gc.collect()\n",
    "        torch.cuda.empty_cache()\n",
    "        pbar.update(pbar_update)\n",
    "    acc = correct / test_loader_length\n",
    "    print(f\"\\nTest Epoch: {epoch}\\tAccuracy: {correct}/{total} ({100. * acc:.0f}%)\\n\")\n",
    "    return acc"
   ]
  },
  {
   "cell_type": "code",
   "execution_count": 21,
   "id": "be5e8f4b-6b3a-47e5-9b73-5ebd9722ab2b",
   "metadata": {
    "scrolled": true
   },
   "outputs": [
    {
     "name": "stderr",
     "output_type": "stream",
     "text": [
      "  0%|▎                                                                                                                                                                             | 0.019801980198019802/10 [00:00<05:11, 31.19s/it]"
     ]
    },
    {
     "name": "stdout",
     "output_type": "stream",
     "text": [
      "Train Epoch: 1 [0/2508 (0%)]\tLoss: 1.145589\n",
      "Mem before-during-after: 528384 1929975296 21014016\n"
     ]
    },
    {
     "name": "stderr",
     "output_type": "stream",
     "text": [
      "  4%|███████▎                                                                                                                                                                       | 0.41584158415841604/10 [00:10<03:52, 24.23s/it]"
     ]
    },
    {
     "name": "stdout",
     "output_type": "stream",
     "text": [
      "Train Epoch: 1 [1280/2508 (51%)]\tLoss: 0.887716\n",
      "Mem before-during-after: 21014016 1940225024 21014016\n"
     ]
    },
    {
     "name": "stderr",
     "output_type": "stream",
     "text": [
      " 10%|█████████████████▌                                                                                                                                                              | 1.0000000000000007/10 [00:23<02:38, 17.61s/it]"
     ]
    },
    {
     "name": "stdout",
     "output_type": "stream",
     "text": [
      "\n",
      "Test Epoch: 1\tAccuracy: 557/736 (73%)\n",
      "\n"
     ]
    },
    {
     "name": "stderr",
     "output_type": "stream",
     "text": [
      " 10%|█████████████████▉                                                                                                                                                              | 1.0198019801980205/10 [00:23<02:54, 19.43s/it]"
     ]
    },
    {
     "name": "stdout",
     "output_type": "stream",
     "text": [
      "Train Epoch: 2 [0/2508 (0%)]\tLoss: 0.689239\n",
      "Mem before-during-after: 21009920 1941396480 21014016\n"
     ]
    },
    {
     "name": "stderr",
     "output_type": "stream",
     "text": [
      " 14%|████████████████████████▉                                                                                                                                                       | 1.4158415841584169/10 [00:33<03:30, 24.52s/it]"
     ]
    },
    {
     "name": "stdout",
     "output_type": "stream",
     "text": [
      "Train Epoch: 2 [1280/2508 (51%)]\tLoss: 0.456255\n",
      "Mem before-during-after: 21014016 1939457024 21014016\n"
     ]
    },
    {
     "name": "stderr",
     "output_type": "stream",
     "text": [
      " 20%|███████████████████████████████████▏                                                                                                                                            | 2.0000000000000013/10 [00:46<02:35, 19.42s/it]"
     ]
    },
    {
     "name": "stdout",
     "output_type": "stream",
     "text": [
      "\n",
      "Test Epoch: 2\tAccuracy: 575/736 (76%)\n",
      "\n"
     ]
    },
    {
     "name": "stderr",
     "output_type": "stream",
     "text": [
      " 20%|███████████████████████████████████▎                                                                                                                                            | 2.0099009900990112/10 [00:46<02:47, 21.01s/it]"
     ]
    },
    {
     "name": "stdout",
     "output_type": "stream",
     "text": [
      "Train Epoch: 3 [0/2508 (0%)]\tLoss: 0.645834\n",
      "Mem before-during-after: 21009920 1941396480 21014016\n"
     ]
    },
    {
     "name": "stderr",
     "output_type": "stream",
     "text": [
      " 24%|██████████████████████████████████████████▎                                                                                                                                     | 2.4059405940594076/10 [00:56<03:15, 25.76s/it]"
     ]
    },
    {
     "name": "stdout",
     "output_type": "stream",
     "text": [
      "Train Epoch: 3 [1280/2508 (51%)]\tLoss: 0.538253\n",
      "Mem before-during-after: 21014016 1940235264 21014016\n"
     ]
    },
    {
     "name": "stderr",
     "output_type": "stream",
     "text": [
      " 30%|█████████████████████████████████████████████████████                                                                                                                            | 3.000000000000002/10 [01:09<02:03, 17.64s/it]"
     ]
    },
    {
     "name": "stdout",
     "output_type": "stream",
     "text": [
      "\n",
      "Test Epoch: 3\tAccuracy: 564/736 (74%)\n",
      "\n"
     ]
    },
    {
     "name": "stderr",
     "output_type": "stream",
     "text": [
      " 30%|█████████████████████████████████████████████████████▍                                                                                                                           | 3.019801980198022/10 [01:10<02:15, 19.35s/it]"
     ]
    },
    {
     "name": "stdout",
     "output_type": "stream",
     "text": [
      "Train Epoch: 4 [0/2508 (0%)]\tLoss: 0.592789\n",
      "Mem before-during-after: 21009920 1941396480 21014016\n"
     ]
    },
    {
     "name": "stderr",
     "output_type": "stream",
     "text": [
      " 34%|████████████████████████████████████████████████████████████                                                                                                                    | 3.4158415841584184/10 [01:19<02:40, 24.40s/it]"
     ]
    },
    {
     "name": "stdout",
     "output_type": "stream",
     "text": [
      "Train Epoch: 4 [1280/2508 (51%)]\tLoss: 0.642460\n",
      "Mem before-during-after: 21014016 1939457024 21014016\n"
     ]
    },
    {
     "name": "stderr",
     "output_type": "stream",
     "text": [
      " 40%|██████████████████████████████████████████████████████████████████████▊                                                                                                          | 4.000000000000003/10 [01:32<02:01, 20.30s/it]"
     ]
    },
    {
     "name": "stdout",
     "output_type": "stream",
     "text": [
      "\n",
      "Test Epoch: 4\tAccuracy: 534/736 (70%)\n",
      "\n"
     ]
    },
    {
     "name": "stderr",
     "output_type": "stream",
     "text": [
      " 40%|██████████████████████████████████████████████████████████████████████▋                                                                                                         | 4.0198019801980225/10 [01:33<02:02, 20.43s/it]"
     ]
    },
    {
     "name": "stdout",
     "output_type": "stream",
     "text": [
      "Train Epoch: 5 [0/2508 (0%)]\tLoss: 0.410104\n",
      "Mem before-during-after: 21009920 1941396480 21014016\n"
     ]
    },
    {
     "name": "stderr",
     "output_type": "stream",
     "text": [
      " 44%|██████████████████████████████████████████████████████████████████████████████▏                                                                                                  | 4.415841584158419/10 [01:43<02:16, 24.47s/it]"
     ]
    },
    {
     "name": "stdout",
     "output_type": "stream",
     "text": [
      "Train Epoch: 5 [1280/2508 (51%)]\tLoss: 0.590933\n",
      "Mem before-during-after: 21014016 1940145152 21014016\n"
     ]
    },
    {
     "name": "stderr",
     "output_type": "stream",
     "text": [
      " 50%|████████████████████████████████████████████████████████████████████████████████████████                                                                                        | 5.0000000000000036/10 [01:56<01:33, 18.77s/it]"
     ]
    },
    {
     "name": "stdout",
     "output_type": "stream",
     "text": [
      "\n",
      "Test Epoch: 5\tAccuracy: 561/736 (74%)\n",
      "\n"
     ]
    },
    {
     "name": "stderr",
     "output_type": "stream",
     "text": [
      " 50%|████████████████████████████████████████████████████████████████████████████████████████▊                                                                                        | 5.019801980198023/10 [01:56<01:37, 19.58s/it]"
     ]
    },
    {
     "name": "stdout",
     "output_type": "stream",
     "text": [
      "Train Epoch: 6 [0/2508 (0%)]\tLoss: 0.634561\n",
      "Mem before-during-after: 21009920 1941396480 21014016\n"
     ]
    },
    {
     "name": "stderr",
     "output_type": "stream",
     "text": [
      " 54%|████████████████████████████████████████████████████████████████████████████████████████████████▏                                                                                 | 5.40594059405941/10 [02:06<01:56, 25.36s/it]"
     ]
    },
    {
     "name": "stdout",
     "output_type": "stream",
     "text": [
      "Train Epoch: 6 [1280/2508 (51%)]\tLoss: 0.399815\n",
      "Mem before-during-after: 21014016 1940235264 21014016\n"
     ]
    },
    {
     "name": "stderr",
     "output_type": "stream",
     "text": [
      " 60%|██████████████████████████████████████████████████████████████████████████████████████████████████████████▏                                                                      | 6.000000000000004/10 [02:19<01:10, 17.68s/it]"
     ]
    },
    {
     "name": "stdout",
     "output_type": "stream",
     "text": [
      "\n",
      "Test Epoch: 6\tAccuracy: 567/736 (75%)\n",
      "\n"
     ]
    },
    {
     "name": "stderr",
     "output_type": "stream",
     "text": [
      " 60%|██████████████████████████████████████████████████████████████████████████████████████████████████████████▌                                                                      | 6.019801980198024/10 [02:19<01:16, 19.30s/it]"
     ]
    },
    {
     "name": "stdout",
     "output_type": "stream",
     "text": [
      "Train Epoch: 7 [0/2508 (0%)]\tLoss: 0.556609\n",
      "Mem before-during-after: 21009920 1941396480 21014016\n"
     ]
    },
    {
     "name": "stderr",
     "output_type": "stream",
     "text": [
      " 64%|█████████████████████████████████████████████████████████████████████████████████████████████████████████████████▌                                                               | 6.415841584158421/10 [02:29<01:27, 24.46s/it]"
     ]
    },
    {
     "name": "stdout",
     "output_type": "stream",
     "text": [
      "Train Epoch: 7 [1280/2508 (51%)]\tLoss: 0.581864\n",
      "Mem before-during-after: 21014016 1940235264 21014016\n"
     ]
    },
    {
     "name": "stderr",
     "output_type": "stream",
     "text": [
      " 70%|███████████████████████████████████████████████████████████████████████████████████████████████████████████████████████████▉                                                     | 7.000000000000005/10 [02:42<00:52, 17.57s/it]"
     ]
    },
    {
     "name": "stdout",
     "output_type": "stream",
     "text": [
      "\n",
      "Test Epoch: 7\tAccuracy: 572/736 (75%)\n",
      "\n"
     ]
    },
    {
     "name": "stderr",
     "output_type": "stream",
     "text": [
      " 70%|████████████████████████████████████████████████████████████████████████████████████████████████████████████████████████████▎                                                    | 7.019801980198025/10 [02:42<00:56, 18.98s/it]"
     ]
    },
    {
     "name": "stdout",
     "output_type": "stream",
     "text": [
      "Train Epoch: 8 [0/2508 (0%)]\tLoss: 0.406566\n",
      "Mem before-during-after: 21009920 1941396480 21014016\n"
     ]
    },
    {
     "name": "stderr",
     "output_type": "stream",
     "text": [
      " 74%|██████████████████████████████████████████████████████████████████████████████████████████████████████████████████████████████████▌                                             | 7.4158415841584215/10 [02:52<01:01, 23.77s/it]"
     ]
    },
    {
     "name": "stdout",
     "output_type": "stream",
     "text": [
      "Train Epoch: 8 [1280/2508 (51%)]\tLoss: 0.645310\n",
      "Mem before-during-after: 21014016 1939457024 21014016\n"
     ]
    },
    {
     "name": "stderr",
     "output_type": "stream",
     "text": [
      " 80%|█████████████████████████████████████████████████████████████████████████████████████████████████████████████████████████████████████████████▌                                   | 8.000000000000005/10 [03:04<00:34, 17.49s/it]"
     ]
    },
    {
     "name": "stdout",
     "output_type": "stream",
     "text": [
      "\n",
      "Test Epoch: 8\tAccuracy: 566/736 (75%)\n",
      "\n"
     ]
    },
    {
     "name": "stderr",
     "output_type": "stream",
     "text": [
      " 80%|█████████████████████████████████████████████████████████████████████████████████████████████████████████████████████████████████████████████▉                                   | 8.019801980198023/10 [03:05<00:38, 19.38s/it]"
     ]
    },
    {
     "name": "stdout",
     "output_type": "stream",
     "text": [
      "Train Epoch: 9 [0/2508 (0%)]\tLoss: 0.619100\n",
      "Mem before-during-after: 21009920 1936208384 21014016\n"
     ]
    },
    {
     "name": "stderr",
     "output_type": "stream",
     "text": [
      " 84%|████████████████████████████████████████████████████████████████████████████████████████████████████████████████████████████████████████████████████▉                            | 8.415841584158384/10 [03:15<00:42, 26.94s/it]"
     ]
    },
    {
     "name": "stdout",
     "output_type": "stream",
     "text": [
      "Train Epoch: 9 [1280/2508 (51%)]\tLoss: 0.895559\n",
      "Mem before-during-after: 21014016 1940145152 21014016\n"
     ]
    },
    {
     "name": "stderr",
     "output_type": "stream",
     "text": [
      " 90%|███████████████████████████████████████████████████████████████████████████████████████████████████████████████████████████████████████████████████████████████▎                 | 8.999999999999917/10 [03:28<00:17, 17.96s/it]"
     ]
    },
    {
     "name": "stdout",
     "output_type": "stream",
     "text": [
      "\n",
      "Test Epoch: 9\tAccuracy: 571/736 (75%)\n",
      "\n"
     ]
    },
    {
     "name": "stderr",
     "output_type": "stream",
     "text": [
      " 90%|███████████████████████████████████████████████████████████████████████████████████████████████████████████████████████████████████████████████████████████████▋                 | 9.019801980197935/10 [03:28<00:18, 19.33s/it]"
     ]
    },
    {
     "name": "stdout",
     "output_type": "stream",
     "text": [
      "Train Epoch: 10 [0/2508 (0%)]\tLoss: 0.684581\n",
      "Mem before-during-after: 21009920 1941396480 21014016\n"
     ]
    },
    {
     "name": "stderr",
     "output_type": "stream",
     "text": [
      " 94%|██████████████████████████████████████████████████████████████████████████████████████████████████████████████████████████████████████████████████████████████████████▋          | 9.415841584158295/10 [03:37<00:13, 23.55s/it]"
     ]
    },
    {
     "name": "stdout",
     "output_type": "stream",
     "text": [
      "Train Epoch: 10 [1280/2508 (51%)]\tLoss: 0.707989\n",
      "Mem before-during-after: 21014016 1940235264 21014016\n"
     ]
    },
    {
     "name": "stderr",
     "output_type": "stream",
     "text": [
      "100%|████████████████████████████████████████████████████████████████████████████████████████████████████████████████████████████████████████████████████████████████████████████████▉| 9.999999999999828/10 [03:50<00:00, 23.07s/it]"
     ]
    },
    {
     "name": "stdout",
     "output_type": "stream",
     "text": [
      "\n",
      "Test Epoch: 10\tAccuracy: 572/736 (75%)\n",
      "\n"
     ]
    },
    {
     "name": "stderr",
     "output_type": "stream",
     "text": [
      "\n"
     ]
    }
   ],
   "source": [
    "log_interval = 40\n",
    "pbar_update = 1 / (len(train_loader) + len(test_loader))\n",
    "model.to(device)\n",
    "with tqdm(total=n_epoch) as pbar:\n",
    "    for epoch in range(1, n_epoch + 1):\n",
    "        train(model, epoch, log_interval, train_losses)\n",
    "        acc = test(model, epoch)\n",
    "        test_accuracy += [acc]\n",
    "        scheduler.step()"
   ]
  },
  {
   "cell_type": "code",
   "execution_count": 22,
   "id": "a4682162-37b0-40cc-82e2-0c0b6b4c02ef",
   "metadata": {},
   "outputs": [
    {
     "data": {
      "text/plain": [
       "[<matplotlib.lines.Line2D at 0x7fda400dda90>]"
      ]
     },
     "execution_count": 22,
     "metadata": {},
     "output_type": "execute_result"
    },
    {
     "data": {
      "image/png": "[encoded data removed]",
      "text/plain": [
       "<Figure size 640x480 with 1 Axes>"
      ]
     },
     "metadata": {},
     "output_type": "display_data"
    }
   ],
   "source": [
    "plt.plot(train_losses)"
   ]
  },
  {
   "cell_type": "code",
   "execution_count": 23,
   "id": "cd1b2222-4b0c-4cca-97c3-5bc814050086",
   "metadata": {},
   "outputs": [
    {
     "data": {
      "text/plain": [
       "[<matplotlib.lines.Line2D at 0x7fda3c175eb0>]"
      ]
     },
     "execution_count": 23,
     "metadata": {},
     "output_type": "execute_result"
    },
    {
     "data": {
      "image/png": "[encoded data removed]",
      "text/plain": [
       "<Figure size 640x480 with 1 Axes>"
      ]
     },
     "metadata": {},
     "output_type": "display_data"
    }
   ],
   "source": [
    "plt.plot(test_accuracy)"
   ]
  },
  {
   "cell_type": "code",
   "execution_count": 24,
   "id": "f49b40ce-bc85-4cf8-8107-030fe87276ef",
   "metadata": {},
   "outputs": [],
   "source": [
    "from torchmetrics.classification import (\n",
    "    MulticlassAccuracy, MulticlassPrecision, \n",
    "    MulticlassRecall, MulticlassF1Score, \n",
    "    MulticlassConfusionMatrix,\n",
    "    MulticlassAUROC\n",
    ")\n",
    "from torchmetrics import MetricCollection\n",
    "from pprint import pprint\n",
    "\n",
    "@torch.no_grad\n",
    "def report_metrics(model, labels=labels, \n",
    "                   test_loader=test_loader, device=device):\n",
    "    n = len(labels)\n",
    "    metrics = MetricCollection({\n",
    "        'acc_unweighted': MulticlassAccuracy(num_classes=n), \n",
    "        'acc_weighted': MulticlassAccuracy(num_classes=n, average='weighted'), \n",
    "        \n",
    "        'f1s': MulticlassF1Score(num_classes=n),  \n",
    "        'uar': MulticlassRecall(num_classes=n, average='macro'), \n",
    "        'wap': MulticlassPrecision(num_classes=n, average='weighted'),\n",
    "        \n",
    "        'f1s_detail': MulticlassF1Score(num_classes=n, average=None),  \n",
    "        'acc_detail': MulticlassAccuracy(num_classes=n, average=None), \n",
    "        'precision_detail': MulticlassPrecision(num_classes=n, average=None),\n",
    "        'recall_detail': MulticlassRecall(num_classes=n, average=None), \n",
    "        'rocauc': MulticlassAUROC(num_classes=n, average=None, thresholds=None)\n",
    "    }\n",
    "    # , compute_groups=[['acc', 'f1s', 'wap'], ['uap', 'uar']]\n",
    "                              ).to(device)\n",
    "    confusion_matrix = MulticlassConfusionMatrix(num_classes=n).to(device)\n",
    "    model.eval()\n",
    "    correct = 0\n",
    "    total = 0\n",
    "    for data, target in test_loader:\n",
    "        total += len(target)\n",
    "        \n",
    "        data = data.to(device)\n",
    "        target = target.to(device)\n",
    "        output = model(data).squeeze()\n",
    "        del data\n",
    "        gc.collect()\n",
    "        torch.cuda.empty_cache()\n",
    "        probs = F.softmax(output, dim=-1)\n",
    "        pred = probs.argmax(dim=-1)\n",
    "        correct += pred.eq(target).sum().item()\n",
    "        \n",
    "        metrics.update(probs, target)\n",
    "        confusion_matrix.update(pred, target)\n",
    "        \n",
    "        del target\n",
    "        gc.collect()\n",
    "        torch.cuda.empty_cache()\n",
    "        pbar.update(pbar_update)\n",
    "    print(f'Correct: {correct}/{total} ({correct/total:.4f})')\n",
    "    return metrics, confusion_matrix"
   ]
  },
  {
   "cell_type": "code",
   "execution_count": 25,
   "id": "8e44f8fe-b2ef-4ec3-b1a9-4ebf9834c33c",
   "metadata": {},
   "outputs": [
    {
     "name": "stdout",
     "output_type": "stream",
     "text": [
      "Correct: 572/736 (0.7772)\n",
      "{'acc_detail': tensor([0.8479, 0.6335, 0.8294], device='cuda:0'),\n",
      " 'acc_unweighted': tensor(0.7703, device='cuda:0'),\n",
      " 'acc_weighted': tensor(0.7772, device='cuda:0'),\n",
      " 'f1s': tensor(0.7706, device='cuda:0'),\n",
      " 'f1s_detail': tensor([0.8780, 0.6437, 0.7902], device='cuda:0'),\n",
      " 'precision_detail': tensor([0.9102, 0.6542, 0.7545], device='cuda:0'),\n",
      " 'recall_detail': tensor([0.8479, 0.6335, 0.8294], device='cuda:0'),\n",
      " 'rocauc': tensor([0.9728, 0.8702, 0.9273], device='cuda:0'),\n",
      " 'uar': tensor(0.7703, device='cuda:0'),\n",
      " 'wap': tensor(0.7800, device='cuda:0')}\n"
     ]
    },
    {
     "data": {
      "text/plain": [
       "tensor([[223,  37,   3],\n",
       "        [ 16, 140,  65],\n",
       "        [  6,  37, 209]], device='cuda:0')"
      ]
     },
     "execution_count": 25,
     "metadata": {},
     "output_type": "execute_result"
    }
   ],
   "source": [
    "metrics, confusion_matrix = report_metrics(\n",
    "    model, labels=labels, device=device)\n",
    "pprint(metrics.compute())\n",
    "confusion_matrix.compute()"
   ]
  },
  {
   "cell_type": "code",
   "execution_count": 27,
   "id": "2769c3e9-c591-41b9-aa43-4541db539e87",
   "metadata": {},
   "outputs": [],
   "source": [
    "model_path = '../models_cremad3/cremad_label3_m12new_10epochs.pt' \n",
    "torch.save(model.state_dict(), model_path)"
   ]
  },
  {
   "cell_type": "code",
   "execution_count": 28,
   "id": "51ce01b3-cf27-4894-9bc2-5f795fddecb5",
   "metadata": {
    "scrolled": true
   },
   "outputs": [
    {
     "name": "stderr",
     "output_type": "stream",
     "text": [
      "  0%|                                                                                                                                                                              | 0.019801980198019802/50 [00:00<18:35, 22.31s/it]"
     ]
    },
    {
     "name": "stdout",
     "output_type": "stream",
     "text": [
      "Train Epoch: 11 [0/2508 (0%)]\tLoss: 0.967925\n",
      "Mem before-during-after: 20003328 1940389888 21060096\n"
     ]
    },
    {
     "name": "stderr",
     "output_type": "stream",
     "text": [
      "  1%|█▍                                                                                                                                                                             | 0.41584158415841604/50 [00:11<21:47, 26.37s/it]"
     ]
    },
    {
     "name": "stdout",
     "output_type": "stream",
     "text": [
      "Train Epoch: 11 [1280/2508 (51%)]\tLoss: 0.742339\n",
      "Mem before-during-after: 21060096 1940281344 21060096\n"
     ]
    },
    {
     "name": "stderr",
     "output_type": "stream",
     "text": [
      "  2%|███▌                                                                                                                                                                            | 1.0000000000000007/50 [00:25<16:56, 20.75s/it]"
     ]
    },
    {
     "name": "stdout",
     "output_type": "stream",
     "text": [
      "\n",
      "Test Epoch: 11\tAccuracy: 579/736 (76%)\n",
      "\n",
      "saved model: ../models_cremad3/cremad_label3_m12new_best_11epoch.pt\n"
     ]
    },
    {
     "name": "stderr",
     "output_type": "stream",
     "text": [
      "  2%|███▌                                                                                                                                                                            | 1.0198019801980205/50 [00:25<17:43, 21.72s/it]"
     ]
    },
    {
     "name": "stdout",
     "output_type": "stream",
     "text": [
      "Train Epoch: 12 [0/2508 (0%)]\tLoss: 0.704264\n",
      "Mem before-during-after: 21056000 1941442560 21060096\n"
     ]
    },
    {
     "name": "stderr",
     "output_type": "stream",
     "text": [
      "  3%|████▉                                                                                                                                                                           | 1.4158415841584169/50 [00:36<22:04, 27.27s/it]"
     ]
    },
    {
     "name": "stdout",
     "output_type": "stream",
     "text": [
      "Train Epoch: 12 [1280/2508 (51%)]\tLoss: 0.566800\n",
      "Mem before-during-after: 21060096 1939503104 21060096\n"
     ]
    },
    {
     "name": "stderr",
     "output_type": "stream",
     "text": [
      "  4%|███████                                                                                                                                                                         | 2.0000000000000013/50 [00:50<15:40, 19.60s/it]"
     ]
    },
    {
     "name": "stdout",
     "output_type": "stream",
     "text": [
      "\n",
      "Test Epoch: 12\tAccuracy: 581/736 (77%)\n",
      "\n",
      "saved model: ../models_cremad3/cremad_label3_m12new_best_12epoch.pt\n"
     ]
    },
    {
     "name": "stderr",
     "output_type": "stream",
     "text": [
      "  4%|███████▏                                                                                                                                                                         | 2.019801980198021/50 [00:50<16:43, 20.92s/it]"
     ]
    },
    {
     "name": "stdout",
     "output_type": "stream",
     "text": [
      "Train Epoch: 13 [0/2508 (0%)]\tLoss: 0.783985\n",
      "Mem before-during-after: 21056000 1941442560 21060096\n"
     ]
    },
    {
     "name": "stderr",
     "output_type": "stream",
     "text": [
      "  5%|████████▍                                                                                                                                                                       | 2.4059405940594076/50 [01:00<21:49, 27.51s/it]"
     ]
    },
    {
     "name": "stdout",
     "output_type": "stream",
     "text": [
      "Train Epoch: 13 [1280/2508 (51%)]\tLoss: 0.492851\n",
      "Mem before-during-after: 21060096 1940281344 21060096\n"
     ]
    },
    {
     "name": "stderr",
     "output_type": "stream",
     "text": [
      "  6%|██████████▌                                                                                                                                                                      | 3.000000000000002/50 [01:15<16:14, 20.73s/it]"
     ]
    },
    {
     "name": "stdout",
     "output_type": "stream",
     "text": [
      "\n",
      "Test Epoch: 13\tAccuracy: 579/736 (76%)\n",
      "\n"
     ]
    },
    {
     "name": "stderr",
     "output_type": "stream",
     "text": [
      "  6%|██████████▋                                                                                                                                                                      | 3.009900990099012/50 [01:15<17:58, 22.96s/it]"
     ]
    },
    {
     "name": "stdout",
     "output_type": "stream",
     "text": [
      "Train Epoch: 14 [0/2508 (0%)]\tLoss: 0.438624\n",
      "Mem before-during-after: 21056000 1941442560 21060096\n"
     ]
    },
    {
     "name": "stderr",
     "output_type": "stream",
     "text": [
      "  7%|███████████▉                                                                                                                                                                    | 3.4059405940594085/50 [01:25<23:05, 29.74s/it]"
     ]
    },
    {
     "name": "stdout",
     "output_type": "stream",
     "text": [
      "Train Epoch: 14 [1280/2508 (51%)]\tLoss: 0.468595\n",
      "Mem before-during-after: 21060096 1940281344 21060096\n"
     ]
    },
    {
     "name": "stderr",
     "output_type": "stream",
     "text": [
      "  8%|██████████████▏                                                                                                                                                                  | 4.000000000000003/50 [01:39<14:48, 19.32s/it]"
     ]
    },
    {
     "name": "stdout",
     "output_type": "stream",
     "text": [
      "\n",
      "Test Epoch: 14\tAccuracy: 581/736 (77%)\n",
      "\n"
     ]
    },
    {
     "name": "stderr",
     "output_type": "stream",
     "text": [
      "  8%|██████████████▏                                                                                                                                                                 | 4.0198019801980225/50 [01:40<15:54, 20.76s/it]"
     ]
    },
    {
     "name": "stdout",
     "output_type": "stream",
     "text": [
      "Train Epoch: 15 [0/2508 (0%)]\tLoss: 0.738144\n",
      "Mem before-during-after: 21056000 1941442560 21060096\n"
     ]
    },
    {
     "name": "stderr",
     "output_type": "stream",
     "text": [
      "  9%|███████████████▌                                                                                                                                                                 | 4.405940594059409/50 [01:50<21:20, 28.08s/it]"
     ]
    },
    {
     "name": "stdout",
     "output_type": "stream",
     "text": [
      "Train Epoch: 15 [1280/2508 (51%)]\tLoss: 0.501296\n",
      "Mem before-during-after: 21060096 1940281344 21060096\n"
     ]
    },
    {
     "name": "stderr",
     "output_type": "stream",
     "text": [
      " 10%|█████████████████▌                                                                                                                                                              | 5.0000000000000036/50 [02:04<14:34, 19.44s/it]"
     ]
    },
    {
     "name": "stdout",
     "output_type": "stream",
     "text": [
      "\n",
      "Test Epoch: 15\tAccuracy: 578/736 (76%)\n",
      "\n"
     ]
    },
    {
     "name": "stderr",
     "output_type": "stream",
     "text": [
      " 10%|█████████████████▊                                                                                                                                                               | 5.019801980198023/50 [02:04<15:28, 20.65s/it]"
     ]
    },
    {
     "name": "stdout",
     "output_type": "stream",
     "text": [
      "Train Epoch: 16 [0/2508 (0%)]\tLoss: 0.555987\n",
      "Mem before-during-after: 21056000 1941442560 21060096\n"
     ]
    },
    {
     "name": "stderr",
     "output_type": "stream",
     "text": [
      " 11%|███████████████████▏                                                                                                                                                              | 5.40594059405941/50 [02:14<20:27, 27.53s/it]"
     ]
    },
    {
     "name": "stdout",
     "output_type": "stream",
     "text": [
      "Train Epoch: 16 [1280/2508 (51%)]\tLoss: 0.541986\n",
      "Mem before-during-after: 21060096 1940281344 21060096\n"
     ]
    },
    {
     "name": "stderr",
     "output_type": "stream",
     "text": [
      " 12%|█████████████████████▏                                                                                                                                                           | 6.000000000000004/50 [02:28<14:52, 20.28s/it]"
     ]
    },
    {
     "name": "stdout",
     "output_type": "stream",
     "text": [
      "\n",
      "Test Epoch: 16\tAccuracy: 582/736 (77%)\n",
      "\n",
      "saved model: ../models_cremad3/cremad_label3_m12new_best_16epoch.pt\n"
     ]
    },
    {
     "name": "stderr",
     "output_type": "stream",
     "text": [
      " 12%|█████████████████████▎                                                                                                                                                           | 6.019801980198024/50 [02:29<16:09, 22.04s/it]"
     ]
    },
    {
     "name": "stdout",
     "output_type": "stream",
     "text": [
      "Train Epoch: 17 [0/2508 (0%)]\tLoss: 0.644156\n",
      "Mem before-during-after: 21056000 1941442560 21060096\n"
     ]
    },
    {
     "name": "stderr",
     "output_type": "stream",
     "text": [
      " 13%|██████████████████████▋                                                                                                                                                          | 6.415841584158421/50 [02:39<18:21, 25.28s/it]"
     ]
    },
    {
     "name": "stdout",
     "output_type": "stream",
     "text": [
      "Train Epoch: 17 [1280/2508 (51%)]\tLoss: 0.643811\n",
      "Mem before-during-after: 21060096 1939503104 21060096\n"
     ]
    },
    {
     "name": "stderr",
     "output_type": "stream",
     "text": [
      " 14%|████████████████████████▊                                                                                                                                                        | 7.000000000000005/50 [02:53<13:41, 19.11s/it]"
     ]
    },
    {
     "name": "stdout",
     "output_type": "stream",
     "text": [
      "\n",
      "Test Epoch: 17\tAccuracy: 579/736 (76%)\n",
      "\n"
     ]
    },
    {
     "name": "stderr",
     "output_type": "stream",
     "text": [
      " 14%|████████████████████████▊                                                                                                                                                        | 7.009900990099015/50 [02:53<15:12, 21.23s/it]"
     ]
    },
    {
     "name": "stdout",
     "output_type": "stream",
     "text": [
      "Train Epoch: 18 [0/2508 (0%)]\tLoss: 0.607492\n",
      "Mem before-during-after: 21056000 1941442560 21060096\n"
     ]
    },
    {
     "name": "stderr",
     "output_type": "stream",
     "text": [
      " 15%|██████████████████████████▏                                                                                                                                                      | 7.405940594059412/50 [03:03<19:37, 27.64s/it]"
     ]
    },
    {
     "name": "stdout",
     "output_type": "stream",
     "text": [
      "Train Epoch: 18 [1280/2508 (51%)]\tLoss: 0.754397\n",
      "Mem before-during-after: 21060096 1938351616 21060096\n"
     ]
    },
    {
     "name": "stderr",
     "output_type": "stream",
     "text": [
      " 16%|████████████████████████████▎                                                                                                                                                    | 8.000000000000005/50 [03:17<13:55, 19.90s/it]"
     ]
    },
    {
     "name": "stdout",
     "output_type": "stream",
     "text": [
      "\n",
      "Test Epoch: 18\tAccuracy: 588/736 (77%)\n",
      "\n",
      "saved model: ../models_cremad3/cremad_label3_m12new_best_18epoch.pt\n"
     ]
    },
    {
     "name": "stderr",
     "output_type": "stream",
     "text": [
      " 16%|████████████████████████████▎                                                                                                                                                    | 8.009900990099014/50 [03:18<15:16, 21.83s/it]"
     ]
    },
    {
     "name": "stdout",
     "output_type": "stream",
     "text": [
      "Train Epoch: 19 [0/2508 (0%)]\tLoss: 0.510151\n",
      "Mem before-during-after: 21056000 1941442560 21060096\n"
     ]
    },
    {
     "name": "stderr",
     "output_type": "stream",
     "text": [
      " 17%|█████████████████████████████▊                                                                                                                                                   | 8.415841584158384/50 [03:28<17:25, 25.15s/it]"
     ]
    },
    {
     "name": "stdout",
     "output_type": "stream",
     "text": [
      "Train Epoch: 19 [1280/2508 (51%)]\tLoss: 0.450139\n",
      "Mem before-during-after: 21060096 1940281344 21060096\n"
     ]
    },
    {
     "name": "stderr",
     "output_type": "stream",
     "text": [
      " 18%|███████████████████████████████▊                                                                                                                                                 | 8.999999999999917/50 [03:42<13:07, 19.21s/it]"
     ]
    },
    {
     "name": "stdout",
     "output_type": "stream",
     "text": [
      "\n",
      "Test Epoch: 19\tAccuracy: 582/736 (77%)\n",
      "\n"
     ]
    },
    {
     "name": "stderr",
     "output_type": "stream",
     "text": [
      " 18%|███████████████████████████████▉                                                                                                                                                 | 9.019801980197935/50 [03:43<14:14, 20.85s/it]"
     ]
    },
    {
     "name": "stdout",
     "output_type": "stream",
     "text": [
      "Train Epoch: 20 [0/2508 (0%)]\tLoss: 0.453713\n",
      "Mem before-during-after: 21056000 1941442560 21060096\n"
     ]
    },
    {
     "name": "stderr",
     "output_type": "stream",
     "text": [
      " 19%|█████████████████████████████████▎                                                                                                                                               | 9.405940594059286/50 [03:53<18:25, 27.22s/it]"
     ]
    },
    {
     "name": "stdout",
     "output_type": "stream",
     "text": [
      "Train Epoch: 20 [1280/2508 (51%)]\tLoss: 0.515461\n",
      "Mem before-during-after: 21060096 1940281344 21060096\n"
     ]
    },
    {
     "name": "stderr",
     "output_type": "stream",
     "text": [
      " 20%|███████████████████████████████████▍                                                                                                                                             | 9.999999999999828/50 [04:07<13:34, 20.37s/it]"
     ]
    },
    {
     "name": "stdout",
     "output_type": "stream",
     "text": [
      "\n",
      "Test Epoch: 20\tAccuracy: 584/736 (77%)\n",
      "\n"
     ]
    },
    {
     "name": "stderr",
     "output_type": "stream",
     "text": [
      " 20%|███████████████████████████████████▏                                                                                                                                            | 10.009900990098837/50 [04:07<14:50, 22.26s/it]"
     ]
    },
    {
     "name": "stdout",
     "output_type": "stream",
     "text": [
      "Train Epoch: 21 [0/2508 (0%)]\tLoss: 0.352268\n",
      "Mem before-during-after: 21056000 1941442560 21060096\n"
     ]
    },
    {
     "name": "stderr",
     "output_type": "stream",
     "text": [
      " 21%|████████████████████████████████████▋                                                                                                                                           | 10.405940594059198/50 [04:17<18:38, 28.25s/it]"
     ]
    },
    {
     "name": "stdout",
     "output_type": "stream",
     "text": [
      "Train Epoch: 21 [1280/2508 (51%)]\tLoss: 0.627884\n",
      "Mem before-during-after: 21060096 1939503104 21060096\n"
     ]
    },
    {
     "name": "stderr",
     "output_type": "stream",
     "text": [
      " 22%|██████████████████████████████████████▋                                                                                                                                         | 10.999999999999739/50 [04:31<12:53, 19.83s/it]"
     ]
    },
    {
     "name": "stdout",
     "output_type": "stream",
     "text": [
      "\n",
      "Test Epoch: 21\tAccuracy: 586/736 (77%)\n",
      "\n"
     ]
    },
    {
     "name": "stderr",
     "output_type": "stream",
     "text": [
      " 22%|██████████████████████████████████████▊                                                                                                                                         | 11.009900990098748/50 [04:32<13:59, 21.52s/it]"
     ]
    },
    {
     "name": "stdout",
     "output_type": "stream",
     "text": [
      "Train Epoch: 22 [0/2508 (0%)]\tLoss: 0.639618\n",
      "Mem before-during-after: 21056000 1941442560 21060096\n"
     ]
    },
    {
     "name": "stderr",
     "output_type": "stream",
     "text": [
      " 23%|████████████████████████████████████████▏                                                                                                                                       | 11.405940594059109/50 [04:42<17:42, 27.52s/it]"
     ]
    },
    {
     "name": "stdout",
     "output_type": "stream",
     "text": [
      "Train Epoch: 22 [1280/2508 (51%)]\tLoss: 0.623801\n",
      "Mem before-during-after: 21060096 1940281344 21060096\n"
     ]
    },
    {
     "name": "stderr",
     "output_type": "stream",
     "text": [
      " 24%|██████████████████████████████████████████▍                                                                                                                                      | 11.99999999999965/50 [04:56<12:14, 19.34s/it]"
     ]
    },
    {
     "name": "stdout",
     "output_type": "stream",
     "text": [
      "\n",
      "Test Epoch: 22\tAccuracy: 584/736 (77%)\n",
      "\n"
     ]
    },
    {
     "name": "stderr",
     "output_type": "stream",
     "text": [
      " 24%|██████████████████████████████████████████▎                                                                                                                                     | 12.009900990098659/50 [04:57<13:24, 21.17s/it]"
     ]
    },
    {
     "name": "stdout",
     "output_type": "stream",
     "text": [
      "Train Epoch: 23 [0/2508 (0%)]\tLoss: 0.342155\n",
      "Mem before-during-after: 21056000 1941442560 21060096\n"
     ]
    },
    {
     "name": "stderr",
     "output_type": "stream",
     "text": [
      " 25%|███████████████████████████████████████████▉                                                                                                                                     | 12.40594059405902/50 [05:07<17:08, 27.37s/it]"
     ]
    },
    {
     "name": "stdout",
     "output_type": "stream",
     "text": [
      "Train Epoch: 23 [1280/2508 (51%)]\tLoss: 0.518526\n",
      "Mem before-during-after: 21060096 1940191232 21060096\n"
     ]
    },
    {
     "name": "stderr",
     "output_type": "stream",
     "text": [
      " 26%|█████████████████████████████████████████████▊                                                                                                                                  | 12.999999999999561/50 [05:21<12:18, 19.95s/it]"
     ]
    },
    {
     "name": "stdout",
     "output_type": "stream",
     "text": [
      "\n",
      "Test Epoch: 23\tAccuracy: 583/736 (77%)\n",
      "\n"
     ]
    },
    {
     "name": "stderr",
     "output_type": "stream",
     "text": [
      " 26%|██████████████████████████████████████████████                                                                                                                                   | 13.01980198019758/50 [05:22<12:48, 20.79s/it]"
     ]
    },
    {
     "name": "stdout",
     "output_type": "stream",
     "text": [
      "Train Epoch: 24 [0/2508 (0%)]\tLoss: 0.569771\n",
      "Mem before-during-after: 21056000 1941442560 21060096\n"
     ]
    },
    {
     "name": "stderr",
     "output_type": "stream",
     "text": [
      " 27%|███████████████████████████████████████████████▏                                                                                                                                | 13.405940594058931/50 [05:32<16:58, 27.83s/it]"
     ]
    },
    {
     "name": "stdout",
     "output_type": "stream",
     "text": [
      "Train Epoch: 24 [1280/2508 (51%)]\tLoss: 0.601049\n",
      "Mem before-during-after: 21060096 1940281344 21060096\n"
     ]
    },
    {
     "name": "stderr",
     "output_type": "stream",
     "text": [
      " 28%|█████████████████████████████████████████████████▎                                                                                                                              | 13.999999999999472/50 [05:46<11:49, 19.71s/it]"
     ]
    },
    {
     "name": "stdout",
     "output_type": "stream",
     "text": [
      "\n",
      "Test Epoch: 24\tAccuracy: 592/736 (78%)\n",
      "\n",
      "saved model: ../models_cremad3/cremad_label3_m12new_best_24epoch.pt\n"
     ]
    },
    {
     "name": "stderr",
     "output_type": "stream",
     "text": [
      " 28%|█████████████████████████████████████████████████▋                                                                                                                               | 14.01980198019749/50 [05:47<12:34, 20.97s/it]"
     ]
    },
    {
     "name": "stdout",
     "output_type": "stream",
     "text": [
      "Train Epoch: 25 [0/2508 (0%)]\tLoss: 0.615991\n",
      "Mem before-during-after: 21056000 1941442560 21060096\n"
     ]
    },
    {
     "name": "stderr",
     "output_type": "stream",
     "text": [
      " 29%|██████████████████████████████████████████████████▋                                                                                                                             | 14.405940594058842/50 [05:57<16:14, 27.38s/it]"
     ]
    },
    {
     "name": "stdout",
     "output_type": "stream",
     "text": [
      "Train Epoch: 25 [1280/2508 (51%)]\tLoss: 0.585479\n",
      "Mem before-during-after: 21060096 1940281344 21060096\n"
     ]
    },
    {
     "name": "stderr",
     "output_type": "stream",
     "text": [
      " 30%|████████████████████████████████████████████████████▊                                                                                                                           | 14.999999999999384/50 [06:11<11:13, 19.24s/it]"
     ]
    },
    {
     "name": "stdout",
     "output_type": "stream",
     "text": [
      "\n",
      "Test Epoch: 25\tAccuracy: 581/736 (77%)\n",
      "\n"
     ]
    },
    {
     "name": "stderr",
     "output_type": "stream",
     "text": [
      " 30%|████████████████████████████████████████████████████▊                                                                                                                           | 15.019801980197402/50 [06:12<12:06, 20.77s/it]"
     ]
    },
    {
     "name": "stdout",
     "output_type": "stream",
     "text": [
      "Train Epoch: 26 [0/2508 (0%)]\tLoss: 0.670046\n",
      "Mem before-during-after: 21056000 1941442560 21060096\n"
     ]
    },
    {
     "name": "stderr",
     "output_type": "stream",
     "text": [
      " 31%|██████████████████████████████████████████████████████▏                                                                                                                         | 15.405940594058753/50 [06:22<15:46, 27.36s/it]"
     ]
    },
    {
     "name": "stdout",
     "output_type": "stream",
     "text": [
      "Train Epoch: 26 [1280/2508 (51%)]\tLoss: 0.382613\n",
      "Mem before-during-after: 21060096 1940281344 21060096\n"
     ]
    },
    {
     "name": "stderr",
     "output_type": "stream",
     "text": [
      " 32%|████████████████████████████████████████████████████████▎                                                                                                                       | 15.999999999999295/50 [06:36<11:17, 19.93s/it]"
     ]
    },
    {
     "name": "stdout",
     "output_type": "stream",
     "text": [
      "\n",
      "Test Epoch: 26\tAccuracy: 596/736 (79%)\n",
      "\n",
      "saved model: ../models_cremad3/cremad_label3_m12new_best_26epoch.pt\n"
     ]
    },
    {
     "name": "stderr",
     "output_type": "stream",
     "text": [
      " 32%|████████████████████████████████████████████████████████▎                                                                                                                       | 16.009900990098306/50 [06:36<12:15, 21.64s/it]"
     ]
    },
    {
     "name": "stdout",
     "output_type": "stream",
     "text": [
      "Train Epoch: 27 [0/2508 (0%)]\tLoss: 0.420001\n",
      "Mem before-during-after: 21056000 1936254464 21060096\n"
     ]
    },
    {
     "name": "stderr",
     "output_type": "stream",
     "text": [
      " 33%|█████████████████████████████████████████████████████████▋                                                                                                                      | 16.405940594058666/50 [06:46<15:31, 27.74s/it]"
     ]
    },
    {
     "name": "stdout",
     "output_type": "stream",
     "text": [
      "Train Epoch: 27 [1280/2508 (51%)]\tLoss: 0.546197\n",
      "Mem before-during-after: 21060096 1939765248 21060096\n"
     ]
    },
    {
     "name": "stderr",
     "output_type": "stream",
     "text": [
      " 34%|███████████████████████████████████████████████████████████▊                                                                                                                    | 16.999999999999208/50 [07:00<10:29, 19.09s/it]"
     ]
    },
    {
     "name": "stdout",
     "output_type": "stream",
     "text": [
      "\n",
      "Test Epoch: 27\tAccuracy: 587/736 (77%)\n",
      "\n"
     ]
    },
    {
     "name": "stderr",
     "output_type": "stream",
     "text": [
      " 34%|███████████████████████████████████████████████████████████▊                                                                                                                    | 17.009900990098217/50 [07:01<11:31, 20.96s/it]"
     ]
    },
    {
     "name": "stdout",
     "output_type": "stream",
     "text": [
      "Train Epoch: 28 [0/2508 (0%)]\tLoss: 0.456843\n",
      "Mem before-during-after: 21056000 1941442560 21060096\n"
     ]
    },
    {
     "name": "stderr",
     "output_type": "stream",
     "text": [
      " 35%|█████████████████████████████████████████████████████████████▎                                                                                                                  | 17.405940594058578/50 [07:11<15:35, 28.70s/it]"
     ]
    },
    {
     "name": "stdout",
     "output_type": "stream",
     "text": [
      "Train Epoch: 28 [1280/2508 (51%)]\tLoss: 0.542243\n",
      "Mem before-during-after: 21060096 1940281344 21060096\n"
     ]
    },
    {
     "name": "stderr",
     "output_type": "stream",
     "text": [
      " 36%|███████████████████████████████████████████████████████████████▋                                                                                                                 | 17.99999999999912/50 [07:25<10:25, 19.55s/it]"
     ]
    },
    {
     "name": "stdout",
     "output_type": "stream",
     "text": [
      "\n",
      "Test Epoch: 28\tAccuracy: 598/736 (79%)\n",
      "\n",
      "saved model: ../models_cremad3/cremad_label3_m12new_best_28epoch.pt\n"
     ]
    },
    {
     "name": "stderr",
     "output_type": "stream",
     "text": [
      " 36%|███████████████████████████████████████████████████████████████▍                                                                                                                | 18.019801980197137/50 [07:26<11:14, 21.10s/it]"
     ]
    },
    {
     "name": "stdout",
     "output_type": "stream",
     "text": [
      "Train Epoch: 29 [0/2508 (0%)]\tLoss: 0.455695\n",
      "Mem before-during-after: 21056000 1941442560 21060096\n"
     ]
    },
    {
     "name": "stderr",
     "output_type": "stream",
     "text": [
      " 37%|█████████████████████████████████████████████████████████████████▏                                                                                                               | 18.40594059405849/50 [07:36<14:36, 27.75s/it]"
     ]
    },
    {
     "name": "stdout",
     "output_type": "stream",
     "text": [
      "Train Epoch: 29 [1280/2508 (51%)]\tLoss: 0.875559\n",
      "Mem before-during-after: 21060096 1940281344 21060096\n"
     ]
    },
    {
     "name": "stderr",
     "output_type": "stream",
     "text": [
      " 38%|███████████████████████████████████████████████████████████████████▎                                                                                                             | 18.99999999999903/50 [07:50<10:05, 19.54s/it]"
     ]
    },
    {
     "name": "stdout",
     "output_type": "stream",
     "text": [
      "\n",
      "Test Epoch: 29\tAccuracy: 590/736 (78%)\n",
      "\n"
     ]
    },
    {
     "name": "stderr",
     "output_type": "stream",
     "text": [
      " 38%|██████████████████████████████████████████████████████████████████▉                                                                                                             | 19.019801980197048/50 [07:51<10:53, 21.08s/it]"
     ]
    },
    {
     "name": "stdout",
     "output_type": "stream",
     "text": [
      "Train Epoch: 30 [0/2508 (0%)]\tLoss: 0.643866\n",
      "Mem before-during-after: 21056000 1941442560 21060096\n"
     ]
    },
    {
     "name": "stderr",
     "output_type": "stream",
     "text": [
      " 39%|█████████████████████████████████████████████████████████████████████                                                                                                             | 19.4059405940584/50 [08:01<14:53, 29.19s/it]"
     ]
    },
    {
     "name": "stdout",
     "output_type": "stream",
     "text": [
      "Train Epoch: 30 [1280/2508 (51%)]\tLoss: 0.430609\n",
      "Mem before-during-after: 21060096 1940281344 21060096\n"
     ]
    },
    {
     "name": "stderr",
     "output_type": "stream",
     "text": [
      " 40%|██████████████████████████████████████████████████████████████████████▊                                                                                                          | 19.99999999999894/50 [08:15<09:35, 19.18s/it]"
     ]
    },
    {
     "name": "stdout",
     "output_type": "stream",
     "text": [
      "\n",
      "Test Epoch: 30\tAccuracy: 598/736 (79%)\n",
      "\n"
     ]
    },
    {
     "name": "stderr",
     "output_type": "stream",
     "text": [
      " 40%|██████████████████████████████████████████████████████████████████████▊                                                                                                          | 20.01980198019696/50 [08:16<10:26, 20.91s/it]"
     ]
    },
    {
     "name": "stdout",
     "output_type": "stream",
     "text": [
      "Train Epoch: 31 [0/2508 (0%)]\tLoss: 0.606744\n",
      "Mem before-during-after: 21056000 1941442560 21060096\n"
     ]
    },
    {
     "name": "stderr",
     "output_type": "stream",
     "text": [
      " 41%|████████████████████████████████████████████████████████████████████████▏                                                                                                        | 20.40594059405831/50 [08:26<15:09, 30.73s/it]"
     ]
    },
    {
     "name": "stdout",
     "output_type": "stream",
     "text": [
      "Train Epoch: 31 [1280/2508 (51%)]\tLoss: 0.456326\n",
      "Mem before-during-after: 21060096 1940281344 21060096\n"
     ]
    },
    {
     "name": "stderr",
     "output_type": "stream",
     "text": [
      " 42%|█████████████████████████████████████████████████████████████████████████▉                                                                                                      | 20.999999999998852/50 [08:40<09:21, 19.37s/it]"
     ]
    },
    {
     "name": "stdout",
     "output_type": "stream",
     "text": [
      "\n",
      "Test Epoch: 31\tAccuracy: 591/736 (78%)\n",
      "\n"
     ]
    },
    {
     "name": "stderr",
     "output_type": "stream",
     "text": [
      " 42%|██████████████████████████████████████████████████████████████████████████▍                                                                                                      | 21.00990099009786/50 [08:40<10:26, 21.61s/it]"
     ]
    },
    {
     "name": "stdout",
     "output_type": "stream",
     "text": [
      "Train Epoch: 32 [0/2508 (0%)]\tLoss: 0.531876\n",
      "Mem before-during-after: 21056000 1941442560 21060096\n"
     ]
    },
    {
     "name": "stderr",
     "output_type": "stream",
     "text": [
      " 43%|███████████████████████████████████████████████████████████████████████████▎                                                                                                    | 21.405940594058222/50 [08:50<12:52, 27.03s/it]"
     ]
    },
    {
     "name": "stdout",
     "output_type": "stream",
     "text": [
      "Train Epoch: 32 [1280/2508 (51%)]\tLoss: 0.499696\n",
      "Mem before-during-after: 21060096 1940281344 21060096\n"
     ]
    },
    {
     "name": "stderr",
     "output_type": "stream",
     "text": [
      " 44%|█████████████████████████████████████████████████████████████████████████████▍                                                                                                  | 21.999999999998764/50 [09:04<08:49, 18.90s/it]"
     ]
    },
    {
     "name": "stdout",
     "output_type": "stream",
     "text": [
      "\n",
      "Test Epoch: 32\tAccuracy: 588/736 (77%)\n",
      "\n"
     ]
    },
    {
     "name": "stderr",
     "output_type": "stream",
     "text": [
      " 44%|█████████████████████████████████████████████████████████████████████████████▉                                                                                                   | 22.01980198019678/50 [09:05<09:41, 20.78s/it]"
     ]
    },
    {
     "name": "stdout",
     "output_type": "stream",
     "text": [
      "Train Epoch: 33 [0/2508 (0%)]\tLoss: 0.511493\n",
      "Mem before-during-after: 21056000 1941442560 21060096\n"
     ]
    },
    {
     "name": "stderr",
     "output_type": "stream",
     "text": [
      " 45%|██████████████████████████████████████████████████████████████████████████████▊                                                                                                 | 22.405940594058134/50 [09:15<12:49, 27.90s/it]"
     ]
    },
    {
     "name": "stdout",
     "output_type": "stream",
     "text": [
      "Train Epoch: 33 [1280/2508 (51%)]\tLoss: 0.519942\n",
      "Mem before-during-after: 21060096 1940281344 21060096\n"
     ]
    },
    {
     "name": "stderr",
     "output_type": "stream",
     "text": [
      " 46%|████████████████████████████████████████████████████████████████████████████████▉                                                                                               | 22.999999999998675/50 [09:29<08:46, 19.51s/it]"
     ]
    },
    {
     "name": "stdout",
     "output_type": "stream",
     "text": [
      "\n",
      "Test Epoch: 33\tAccuracy: 595/736 (78%)\n",
      "\n"
     ]
    },
    {
     "name": "stderr",
     "output_type": "stream",
     "text": [
      " 46%|█████████████████████████████████████████████████████████████████████████████████                                                                                               | 23.019801980196693/50 [09:29<09:13, 20.51s/it]"
     ]
    },
    {
     "name": "stdout",
     "output_type": "stream",
     "text": [
      "Train Epoch: 34 [0/2508 (0%)]\tLoss: 0.507361\n",
      "Mem before-during-after: 21056000 1936254464 21060096\n"
     ]
    },
    {
     "name": "stderr",
     "output_type": "stream",
     "text": [
      " 47%|██████████████████████████████████████████████████████████████████████████████████▍                                                                                             | 23.405940594058045/50 [09:39<12:03, 27.22s/it]"
     ]
    },
    {
     "name": "stdout",
     "output_type": "stream",
     "text": [
      "Train Epoch: 34 [1280/2508 (51%)]\tLoss: 0.551797\n",
      "Mem before-during-after: 21060096 1939765248 21060096\n"
     ]
    },
    {
     "name": "stderr",
     "output_type": "stream",
     "text": [
      " 48%|████████████████████████████████████████████████████████████████████████████████████▍                                                                                           | 23.999999999998586/50 [09:53<08:32, 19.70s/it]"
     ]
    },
    {
     "name": "stdout",
     "output_type": "stream",
     "text": [
      "\n",
      "Test Epoch: 34\tAccuracy: 588/736 (77%)\n",
      "\n"
     ]
    },
    {
     "name": "stderr",
     "output_type": "stream",
     "text": [
      " 48%|████████████████████████████████████████████████████████████████████████████████████▌                                                                                           | 24.019801980196604/50 [09:54<09:04, 20.95s/it]"
     ]
    },
    {
     "name": "stdout",
     "output_type": "stream",
     "text": [
      "Train Epoch: 35 [0/2508 (0%)]\tLoss: 0.694638\n",
      "Mem before-during-after: 21056000 1941442560 21060096\n"
     ]
    },
    {
     "name": "stderr",
     "output_type": "stream",
     "text": [
      " 49%|█████████████████████████████████████████████████████████████████████████████████████▉                                                                                          | 24.405940594057956/50 [10:04<12:30, 29.32s/it]"
     ]
    },
    {
     "name": "stdout",
     "output_type": "stream",
     "text": [
      "Train Epoch: 35 [1280/2508 (51%)]\tLoss: 0.343827\n",
      "Mem before-during-after: 21060096 1939503104 21060096\n"
     ]
    },
    {
     "name": "stderr",
     "output_type": "stream",
     "text": [
      " 50%|███████████████████████████████████████████████████████████████████████████████████████▉                                                                                        | 24.999999999998497/50 [10:18<08:06, 19.46s/it]"
     ]
    },
    {
     "name": "stdout",
     "output_type": "stream",
     "text": [
      "\n",
      "Test Epoch: 35\tAccuracy: 560/736 (74%)\n",
      "\n"
     ]
    },
    {
     "name": "stderr",
     "output_type": "stream",
     "text": [
      " 50%|████████████████████████████████████████████████████████████████████████████████████████                                                                                        | 25.019801980196515/50 [10:18<08:56, 21.48s/it]"
     ]
    },
    {
     "name": "stdout",
     "output_type": "stream",
     "text": [
      "Train Epoch: 36 [0/2508 (0%)]\tLoss: 0.677446\n",
      "Mem before-during-after: 21056000 1941442560 21060096\n"
     ]
    },
    {
     "name": "stderr",
     "output_type": "stream",
     "text": [
      " 51%|█████████████████████████████████████████████████████████████████████████████████████████▍                                                                                      | 25.405940594057867/50 [10:29<11:57, 29.18s/it]"
     ]
    },
    {
     "name": "stdout",
     "output_type": "stream",
     "text": [
      "Train Epoch: 36 [1280/2508 (51%)]\tLoss: 0.540364\n",
      "Mem before-during-after: 21060096 1939503104 21060096\n"
     ]
    },
    {
     "name": "stderr",
     "output_type": "stream",
     "text": [
      " 52%|████████████████████████████████████████████████████████████████████████████████████████████                                                                                     | 25.99999999999841/50 [10:43<07:35, 18.98s/it]"
     ]
    },
    {
     "name": "stdout",
     "output_type": "stream",
     "text": [
      "\n",
      "Test Epoch: 36\tAccuracy: 576/736 (76%)\n",
      "\n"
     ]
    },
    {
     "name": "stderr",
     "output_type": "stream",
     "text": [
      " 52%|███████████████████████████████████████████████████████████████████████████████████████████▌                                                                                    | 26.019801980196426/50 [10:43<08:19, 20.84s/it]"
     ]
    },
    {
     "name": "stdout",
     "output_type": "stream",
     "text": [
      "Train Epoch: 37 [0/2508 (0%)]\tLoss: 0.443275\n",
      "Mem before-during-after: 21056000 1941442560 21060096\n"
     ]
    },
    {
     "name": "stderr",
     "output_type": "stream",
     "text": [
      " 53%|█████████████████████████████████████████████████████████████████████████████████████████████▍                                                                                   | 26.40594059405778/50 [10:53<10:44, 27.33s/it]"
     ]
    },
    {
     "name": "stdout",
     "output_type": "stream",
     "text": [
      "Train Epoch: 37 [1280/2508 (51%)]\tLoss: 0.610449\n",
      "Mem before-during-after: 21060096 1940281344 21060096\n"
     ]
    },
    {
     "name": "stderr",
     "output_type": "stream",
     "text": [
      " 54%|███████████████████████████████████████████████████████████████████████████████████████████████▌                                                                                 | 26.99999999999832/50 [11:07<07:13, 18.87s/it]"
     ]
    },
    {
     "name": "stdout",
     "output_type": "stream",
     "text": [
      "\n",
      "Test Epoch: 37\tAccuracy: 588/736 (77%)\n",
      "\n"
     ]
    },
    {
     "name": "stderr",
     "output_type": "stream",
     "text": [
      " 54%|███████████████████████████████████████████████████████████████████████████████████████████████▌                                                                                 | 27.00990099009733/50 [11:08<08:05, 21.13s/it]"
     ]
    },
    {
     "name": "stdout",
     "output_type": "stream",
     "text": [
      "Train Epoch: 38 [0/2508 (0%)]\tLoss: 0.632808\n",
      "Mem before-during-after: 21056000 1941442560 21060096\n"
     ]
    },
    {
     "name": "stderr",
     "output_type": "stream",
     "text": [
      " 55%|█████████████████████████████████████████████████████████████████████████████████████████████████                                                                                | 27.40594059405769/50 [11:18<10:25, 27.69s/it]"
     ]
    },
    {
     "name": "stdout",
     "output_type": "stream",
     "text": [
      "Train Epoch: 38 [1280/2508 (51%)]\tLoss: 0.618044\n",
      "Mem before-during-after: 21060096 1940281344 21060096\n"
     ]
    },
    {
     "name": "stderr",
     "output_type": "stream",
     "text": [
      " 56%|███████████████████████████████████████████████████████████████████████████████████████████████████                                                                              | 27.99999999999823/50 [11:32<07:07, 19.45s/it]"
     ]
    },
    {
     "name": "stdout",
     "output_type": "stream",
     "text": [
      "\n",
      "Test Epoch: 38\tAccuracy: 580/736 (76%)\n",
      "\n"
     ]
    },
    {
     "name": "stderr",
     "output_type": "stream",
     "text": [
      " 56%|███████████████████████████████████████████████████████████████████████████████████████████████████▏                                                                             | 28.00990099009724/50 [11:33<07:56, 21.66s/it]"
     ]
    },
    {
     "name": "stdout",
     "output_type": "stream",
     "text": [
      "Train Epoch: 39 [0/2508 (0%)]\tLoss: 0.448962\n",
      "Mem before-during-after: 21056000 1941442560 21060096\n"
     ]
    },
    {
     "name": "stderr",
     "output_type": "stream",
     "text": [
      " 57%|█████████████████████████████████████████████████████████████████████████████████████████████████████▏                                                                            | 28.4059405940576/50 [11:43<10:04, 27.98s/it]"
     ]
    },
    {
     "name": "stdout",
     "output_type": "stream",
     "text": [
      "Train Epoch: 39 [1280/2508 (51%)]\tLoss: 0.744586\n",
      "Mem before-during-after: 21060096 1940281344 21060096\n"
     ]
    },
    {
     "name": "stderr",
     "output_type": "stream",
     "text": [
      " 58%|██████████████████████████████████████████████████████████████████████████████████████████████████████                                                                          | 28.999999999998142/50 [11:58<07:10, 20.51s/it]"
     ]
    },
    {
     "name": "stdout",
     "output_type": "stream",
     "text": [
      "\n",
      "Test Epoch: 39\tAccuracy: 590/736 (78%)\n",
      "\n"
     ]
    },
    {
     "name": "stderr",
     "output_type": "stream",
     "text": [
      " 58%|██████████████████████████████████████████████████████████████████████████████████████████████████████▋                                                                          | 29.01980198019616/50 [11:58<07:31, 21.50s/it]"
     ]
    },
    {
     "name": "stdout",
     "output_type": "stream",
     "text": [
      "Train Epoch: 40 [0/2508 (0%)]\tLoss: 0.676621\n",
      "Mem before-during-after: 21056000 1941442560 21060096\n"
     ]
    },
    {
     "name": "stderr",
     "output_type": "stream",
     "text": [
      " 59%|███████████████████████████████████████████████████████████████████████████████████████████████████████▌                                                                        | 29.405940594057512/50 [12:09<09:27, 27.57s/it]"
     ]
    },
    {
     "name": "stdout",
     "output_type": "stream",
     "text": [
      "Train Epoch: 40 [1280/2508 (51%)]\tLoss: 0.597314\n",
      "Mem before-during-after: 21060096 1940281344 21060096\n"
     ]
    },
    {
     "name": "stderr",
     "output_type": "stream",
     "text": [
      " 60%|█████████████████████████████████████████████████████████████████████████████████████████████████████████▌                                                                      | 29.999999999998053/50 [12:23<06:24, 19.25s/it]"
     ]
    },
    {
     "name": "stdout",
     "output_type": "stream",
     "text": [
      "\n",
      "Test Epoch: 40\tAccuracy: 587/736 (77%)\n",
      "\n"
     ]
    },
    {
     "name": "stderr",
     "output_type": "stream",
     "text": [
      " 60%|██████████████████████████████████████████████████████████████████████████████████████████████████████████▎                                                                      | 30.01980198019607/50 [12:23<06:56, 20.86s/it]"
     ]
    },
    {
     "name": "stdout",
     "output_type": "stream",
     "text": [
      "Train Epoch: 41 [0/2508 (0%)]\tLoss: 0.771528\n",
      "Mem before-during-after: 21056000 1941442560 21060096\n"
     ]
    },
    {
     "name": "stderr",
     "output_type": "stream",
     "text": [
      " 61%|███████████████████████████████████████████████████████████████████████████████████████████████████████████                                                                     | 30.405940594057423/50 [12:33<08:59, 27.51s/it]"
     ]
    },
    {
     "name": "stdout",
     "output_type": "stream",
     "text": [
      "Train Epoch: 41 [1280/2508 (51%)]\tLoss: 0.575098\n",
      "Mem before-during-after: 21060096 1939503104 21060096\n"
     ]
    },
    {
     "name": "stderr",
     "output_type": "stream",
     "text": [
      " 62%|█████████████████████████████████████████████████████████████████████████████████████████████████████████████                                                                   | 30.999999999997964/50 [12:47<05:55, 18.74s/it]"
     ]
    },
    {
     "name": "stdout",
     "output_type": "stream",
     "text": [
      "\n",
      "Test Epoch: 41\tAccuracy: 571/736 (75%)\n",
      "\n"
     ]
    },
    {
     "name": "stderr",
     "output_type": "stream",
     "text": [
      " 62%|█████████████████████████████████████████████████████████████████████████████████████████████████████████████▏                                                                  | 31.019801980195982/50 [12:47<06:31, 20.63s/it]"
     ]
    },
    {
     "name": "stdout",
     "output_type": "stream",
     "text": [
      "Train Epoch: 42 [0/2508 (0%)]\tLoss: 0.313831\n",
      "Mem before-during-after: 21056000 1941442560 21060096\n"
     ]
    },
    {
     "name": "stderr",
     "output_type": "stream",
     "text": [
      " 63%|██████████████████████████████████████████████████████████████████████████████████████████████████████████████▌                                                                 | 31.405940594057334/50 [12:58<08:35, 27.73s/it]"
     ]
    },
    {
     "name": "stdout",
     "output_type": "stream",
     "text": [
      "Train Epoch: 42 [1280/2508 (51%)]\tLoss: 0.667098\n",
      "Mem before-during-after: 21060096 1940281344 21060096\n"
     ]
    },
    {
     "name": "stderr",
     "output_type": "stream",
     "text": [
      " 64%|████████████████████████████████████████████████████████████████████████████████████████████████████████████████▋                                                               | 31.999999999997875/50 [13:12<06:06, 20.37s/it]"
     ]
    },
    {
     "name": "stdout",
     "output_type": "stream",
     "text": [
      "\n",
      "Test Epoch: 42\tAccuracy: 598/736 (79%)\n",
      "\n"
     ]
    },
    {
     "name": "stderr",
     "output_type": "stream",
     "text": [
      " 64%|█████████████████████████████████████████████████████████████████████████████████████████████████████████████████▉                                                                | 32.0198019801959/50 [13:13<06:22, 21.29s/it]"
     ]
    },
    {
     "name": "stdout",
     "output_type": "stream",
     "text": [
      "Train Epoch: 43 [0/2508 (0%)]\tLoss: 0.501622\n",
      "Mem before-during-after: 21056000 1941442560 21060096\n"
     ]
    },
    {
     "name": "stderr",
     "output_type": "stream",
     "text": [
      " 65%|██████████████████████████████████████████████████████████████████████████████████████████████████████████████████▋                                                              | 32.40594059405739/50 [13:23<08:16, 28.19s/it]"
     ]
    },
    {
     "name": "stdout",
     "output_type": "stream",
     "text": [
      "Train Epoch: 43 [1280/2508 (51%)]\tLoss: 0.522634\n",
      "Mem before-during-after: 21060096 1940281344 21060096\n"
     ]
    },
    {
     "name": "stderr",
     "output_type": "stream",
     "text": [
      " 66%|████████████████████████████████████████████████████████████████████████████████████████████████████████████████████▏                                                           | 32.999999999998145/50 [13:37<05:38, 19.91s/it]"
     ]
    },
    {
     "name": "stdout",
     "output_type": "stream",
     "text": [
      "\n",
      "Test Epoch: 43\tAccuracy: 595/736 (78%)\n",
      "\n"
     ]
    },
    {
     "name": "stderr",
     "output_type": "stream",
     "text": [
      " 66%|████████████████████████████████████████████████████████████████████████████████████████████████████████████████████▉                                                            | 33.01980198019617/50 [13:37<06:08, 21.71s/it]"
     ]
    },
    {
     "name": "stdout",
     "output_type": "stream",
     "text": [
      "Train Epoch: 44 [0/2508 (0%)]\tLoss: 0.567857\n",
      "Mem before-during-after: 21056000 1941442560 21060096\n"
     ]
    },
    {
     "name": "stderr",
     "output_type": "stream",
     "text": [
      " 67%|██████████████████████████████████████████████████████████████████████████████████████████████████████████████████████▎                                                          | 33.40594059405766/50 [13:48<07:40, 27.77s/it]"
     ]
    },
    {
     "name": "stdout",
     "output_type": "stream",
     "text": [
      "Train Epoch: 44 [1280/2508 (51%)]\tLoss: 0.466336\n",
      "Mem before-during-after: 21060096 1940281344 21060096\n"
     ]
    },
    {
     "name": "stderr",
     "output_type": "stream",
     "text": [
      " 68%|███████████████████████████████████████████████████████████████████████████████████████████████████████████████████████▋                                                        | 33.999999999998415/50 [14:02<05:14, 19.64s/it]"
     ]
    },
    {
     "name": "stdout",
     "output_type": "stream",
     "text": [
      "\n",
      "Test Epoch: 44\tAccuracy: 592/736 (78%)\n",
      "\n"
     ]
    },
    {
     "name": "stderr",
     "output_type": "stream",
     "text": [
      " 68%|████████████████████████████████████████████████████████████████████████████████████████████████████████████████████████▍                                                        | 34.01980198019644/50 [14:02<05:36, 21.03s/it]"
     ]
    },
    {
     "name": "stdout",
     "output_type": "stream",
     "text": [
      "Train Epoch: 45 [0/2508 (0%)]\tLoss: 0.360945\n",
      "Mem before-during-after: 21056000 1941442560 21060096\n"
     ]
    },
    {
     "name": "stderr",
     "output_type": "stream",
     "text": [
      " 69%|█████████████████████████████████████████████████████████████████████████████████████████████████████████████████████████▊                                                       | 34.40594059405793/50 [14:12<07:12, 27.76s/it]"
     ]
    },
    {
     "name": "stdout",
     "output_type": "stream",
     "text": [
      "Train Epoch: 45 [1280/2508 (51%)]\tLoss: 0.438139\n",
      "Mem before-during-after: 21060096 1939503104 21060096\n"
     ]
    },
    {
     "name": "stderr",
     "output_type": "stream",
     "text": [
      " 70%|███████████████████████████████████████████████████████████████████████████████████████████████████████████████████████████▏                                                    | 34.999999999998685/50 [14:26<05:27, 21.84s/it]"
     ]
    },
    {
     "name": "stdout",
     "output_type": "stream",
     "text": [
      "\n",
      "Test Epoch: 45\tAccuracy: 594/736 (78%)\n",
      "\n"
     ]
    },
    {
     "name": "stderr",
     "output_type": "stream",
     "text": [
      " 70%|████████████████████████████████████████████████████████████████████████████████████████████████████████████████████████████▋                                                     | 35.0099009900977/50 [14:27<05:45, 23.02s/it]"
     ]
    },
    {
     "name": "stdout",
     "output_type": "stream",
     "text": [
      "Train Epoch: 46 [0/2508 (0%)]\tLoss: 0.461787\n",
      "Mem before-during-after: 21056000 1941442560 21060096\n"
     ]
    },
    {
     "name": "stderr",
     "output_type": "stream",
     "text": [
      " 71%|██████████████████████████████████████████████████████████████████████████████████████████████████████████████████████████████                                                    | 35.4059405940582/50 [14:37<06:37, 27.22s/it]"
     ]
    },
    {
     "name": "stdout",
     "output_type": "stream",
     "text": [
      "Train Epoch: 46 [1280/2508 (51%)]\tLoss: 0.437588\n",
      "Mem before-during-after: 21060096 1940191232 21060096\n"
     ]
    },
    {
     "name": "stderr",
     "output_type": "stream",
     "text": [
      " 72%|██████████████████████████████████████████████████████████████████████████████████████████████████████████████████████████████▋                                                 | 35.999999999998956/50 [14:51<04:45, 20.37s/it]"
     ]
    },
    {
     "name": "stdout",
     "output_type": "stream",
     "text": [
      "\n",
      "Test Epoch: 46\tAccuracy: 596/736 (79%)\n",
      "\n"
     ]
    },
    {
     "name": "stderr",
     "output_type": "stream",
     "text": [
      " 72%|███████████████████████████████████████████████████████████████████████████████████████████████████████████████████████████████▌                                                 | 36.01980198019698/50 [14:51<04:51, 20.83s/it]"
     ]
    },
    {
     "name": "stdout",
     "output_type": "stream",
     "text": [
      "Train Epoch: 47 [0/2508 (0%)]\tLoss: 0.552199\n",
      "Mem before-during-after: 21056000 1941442560 21060096\n"
     ]
    },
    {
     "name": "stderr",
     "output_type": "stream",
     "text": [
      " 73%|████████████████████████████████████████████████████████████████████████████████████████████████████████████████████████████████▉                                                | 36.40594059405847/50 [15:01<06:08, 27.14s/it]"
     ]
    },
    {
     "name": "stdout",
     "output_type": "stream",
     "text": [
      "Train Epoch: 47 [1280/2508 (51%)]\tLoss: 0.565945\n",
      "Mem before-during-after: 21060096 1940281344 21060096\n"
     ]
    },
    {
     "name": "stderr",
     "output_type": "stream",
     "text": [
      " 74%|██████████████████████████████████████████████████████████████████████████████████████████████████████████████████████████████████▏                                             | 36.999999999999226/50 [15:15<04:19, 19.98s/it]"
     ]
    },
    {
     "name": "stdout",
     "output_type": "stream",
     "text": [
      "\n",
      "Test Epoch: 47\tAccuracy: 599/736 (79%)\n",
      "\n",
      "saved model: ../models_cremad3/cremad_label3_m12new_best_47epoch.pt\n"
     ]
    },
    {
     "name": "stderr",
     "output_type": "stream",
     "text": [
      " 74%|███████████████████████████████████████████████████████████████████████████████████████████████████████████████████████████████████                                              | 37.01980198019725/50 [15:16<04:35, 21.22s/it]"
     ]
    },
    {
     "name": "stdout",
     "output_type": "stream",
     "text": [
      "Train Epoch: 48 [0/2508 (0%)]\tLoss: 0.386920\n",
      "Mem before-during-after: 21056000 1941442560 21060096\n"
     ]
    },
    {
     "name": "stderr",
     "output_type": "stream",
     "text": [
      " 75%|████████████████████████████████████████████████████████████████████████████████████████████████████████████████████████████████████▍                                            | 37.40594059405874/50 [15:26<05:52, 27.99s/it]"
     ]
    },
    {
     "name": "stdout",
     "output_type": "stream",
     "text": [
      "Train Epoch: 48 [1280/2508 (51%)]\tLoss: 0.583836\n",
      "Mem before-during-after: 21060096 1939503104 21060096\n"
     ]
    },
    {
     "name": "stderr",
     "output_type": "stream",
     "text": [
      " 76%|█████████████████████████████████████████████████████████████████████████████████████████████████████████████████████████████████████▊                                          | 37.999999999999496/50 [15:40<04:02, 20.23s/it]"
     ]
    },
    {
     "name": "stdout",
     "output_type": "stream",
     "text": [
      "\n",
      "Test Epoch: 48\tAccuracy: 593/736 (78%)\n",
      "\n"
     ]
    },
    {
     "name": "stderr",
     "output_type": "stream",
     "text": [
      " 76%|██████████████████████████████████████████████████████████████████████████████████████████████████████████████████████████████████████▌                                          | 38.01980198019752/50 [15:40<04:11, 21.02s/it]"
     ]
    },
    {
     "name": "stdout",
     "output_type": "stream",
     "text": [
      "Train Epoch: 49 [0/2508 (0%)]\tLoss: 0.504085\n",
      "Mem before-during-after: 21056000 1941442560 21060096\n"
     ]
    },
    {
     "name": "stderr",
     "output_type": "stream",
     "text": [
      " 77%|███████████████████████████████████████████████████████████████████████████████████████████████████████████████████████████████████████▉                                         | 38.40594059405901/50 [15:50<05:09, 26.67s/it]"
     ]
    },
    {
     "name": "stdout",
     "output_type": "stream",
     "text": [
      "Train Epoch: 49 [1280/2508 (51%)]\tLoss: 0.463395\n",
      "Mem before-during-after: 21060096 1940281344 21060096\n"
     ]
    },
    {
     "name": "stderr",
     "output_type": "stream",
     "text": [
      " 78%|█████████████████████████████████████████████████████████████████████████████████████████████████████████████████████████████████████████▎                                      | 38.999999999999766/50 [16:04<03:33, 19.38s/it]"
     ]
    },
    {
     "name": "stdout",
     "output_type": "stream",
     "text": [
      "\n",
      "Test Epoch: 49\tAccuracy: 587/736 (77%)\n",
      "\n"
     ]
    },
    {
     "name": "stderr",
     "output_type": "stream",
     "text": [
      " 78%|██████████████████████████████████████████████████████████████████████████████████████████████████████████████████████████████████████████                                       | 39.00990099009878/50 [16:04<03:58, 21.73s/it]"
     ]
    },
    {
     "name": "stdout",
     "output_type": "stream",
     "text": [
      "Train Epoch: 50 [0/2508 (0%)]\tLoss: 0.308044\n",
      "Mem before-during-after: 21056000 1941442560 21060096\n"
     ]
    },
    {
     "name": "stderr",
     "output_type": "stream",
     "text": [
      " 79%|███████████████████████████████████████████████████████████████████████████████████████████████████████████████████████████████████████████▍                                     | 39.40594059405928/50 [16:15<04:54, 27.80s/it]"
     ]
    },
    {
     "name": "stdout",
     "output_type": "stream",
     "text": [
      "Train Epoch: 50 [1280/2508 (51%)]\tLoss: 0.495577\n",
      "Mem before-during-after: 21060096 1940281344 21060096\n"
     ]
    },
    {
     "name": "stderr",
     "output_type": "stream",
     "text": [
      " 80%|████████████████████████████████████████████████████████████████████████████████████████████████████████████████████████████████████████████▊                                   | 40.000000000000036/50 [16:28<03:19, 19.99s/it]"
     ]
    },
    {
     "name": "stdout",
     "output_type": "stream",
     "text": [
      "\n",
      "Test Epoch: 50\tAccuracy: 586/736 (77%)\n",
      "\n"
     ]
    },
    {
     "name": "stderr",
     "output_type": "stream",
     "text": [
      " 80%|█████████████████████████████████████████████████████████████████████████████████████████████████████████████████████████████████████████████▋                                   | 40.01980198019806/50 [16:29<03:29, 20.98s/it]"
     ]
    },
    {
     "name": "stdout",
     "output_type": "stream",
     "text": [
      "Train Epoch: 51 [0/2508 (0%)]\tLoss: 0.617582\n",
      "Mem before-during-after: 21056000 1936254464 21060096\n"
     ]
    },
    {
     "name": "stderr",
     "output_type": "stream",
     "text": [
      " 81%|███████████████████████████████████████████████████████████████████████████████████████████████████████████████████████████████████████████████                                  | 40.40594059405955/50 [16:39<04:29, 28.04s/it]"
     ]
    },
    {
     "name": "stdout",
     "output_type": "stream",
     "text": [
      "Train Epoch: 51 [1280/2508 (51%)]\tLoss: 0.563241\n",
      "Mem before-during-after: 21060096 1939765248 21060096\n"
     ]
    },
    {
     "name": "stderr",
     "output_type": "stream",
     "text": [
      " 82%|████████████████████████████████████████████████████████████████████████████████████████████████████████████████████████████████████████████████▎                               | 41.000000000000306/50 [16:53<02:59, 19.99s/it]"
     ]
    },
    {
     "name": "stdout",
     "output_type": "stream",
     "text": [
      "\n",
      "Test Epoch: 51\tAccuracy: 580/736 (76%)\n",
      "\n"
     ]
    },
    {
     "name": "stderr",
     "output_type": "stream",
     "text": [
      " 82%|█████████████████████████████████████████████████████████████████████████████████████████████████████████████████████████████████████████████████▏                               | 41.00990099009932/50 [16:54<03:18, 22.03s/it]"
     ]
    },
    {
     "name": "stdout",
     "output_type": "stream",
     "text": [
      "Train Epoch: 52 [0/2508 (0%)]\tLoss: 0.708606\n",
      "Mem before-during-after: 21056000 1941442560 21060096\n"
     ]
    },
    {
     "name": "stderr",
     "output_type": "stream",
     "text": [
      " 83%|██████████████████████████████████████████████████████████████████████████████████████████████████████████████████████████████████████████████████▌                              | 41.40594059405982/50 [17:04<03:56, 27.56s/it]"
     ]
    },
    {
     "name": "stdout",
     "output_type": "stream",
     "text": [
      "Train Epoch: 52 [1280/2508 (51%)]\tLoss: 0.511496\n",
      "Mem before-during-after: 21060096 1940281344 21060096\n"
     ]
    },
    {
     "name": "stderr",
     "output_type": "stream",
     "text": [
      " 84%|███████████████████████████████████████████████████████████████████████████████████████████████████████████████████████████████████████████████████▊                            | 42.000000000000576/50 [17:18<02:34, 19.36s/it]"
     ]
    },
    {
     "name": "stdout",
     "output_type": "stream",
     "text": [
      "\n",
      "Test Epoch: 52\tAccuracy: 573/736 (75%)\n",
      "\n"
     ]
    },
    {
     "name": "stderr",
     "output_type": "stream",
     "text": [
      " 84%|█████████████████████████████████████████████████████████████████████████████████████████████████████████████████████████████████████████████████████▌                            | 42.0198019801986/50 [17:18<02:46, 20.84s/it]"
     ]
    },
    {
     "name": "stdout",
     "output_type": "stream",
     "text": [
      "Train Epoch: 53 [0/2508 (0%)]\tLoss: 0.545610\n",
      "Mem before-during-after: 21056000 1941442560 21060096\n"
     ]
    },
    {
     "name": "stderr",
     "output_type": "stream",
     "text": [
      " 85%|██████████████████████████████████████████████████████████████████████████████████████████████████████████████████████████████████████████████████████                           | 42.40594059406009/50 [17:28<03:27, 27.37s/it]"
     ]
    },
    {
     "name": "stdout",
     "output_type": "stream",
     "text": [
      "Train Epoch: 53 [1280/2508 (51%)]\tLoss: 0.744595\n",
      "Mem before-during-after: 21060096 1940281344 21060096\n"
     ]
    },
    {
     "name": "stderr",
     "output_type": "stream",
     "text": [
      " 86%|███████████████████████████████████████████████████████████████████████████████████████████████████████████████████████████████████████████████████████▎                        | 43.000000000000846/50 [17:43<02:18, 19.81s/it]"
     ]
    },
    {
     "name": "stdout",
     "output_type": "stream",
     "text": [
      "\n",
      "Test Epoch: 53\tAccuracy: 593/736 (78%)\n",
      "\n"
     ]
    },
    {
     "name": "stderr",
     "output_type": "stream",
     "text": [
      " 86%|████████████████████████████████████████████████████████████████████████████████████████████████████████████████████████████████████████████████████████▎                        | 43.00990099009986/50 [17:43<02:32, 21.82s/it]"
     ]
    },
    {
     "name": "stdout",
     "output_type": "stream",
     "text": [
      "Train Epoch: 54 [0/2508 (0%)]\tLoss: 0.504597\n",
      "Mem before-during-after: 21056000 1941442560 21060096\n"
     ]
    },
    {
     "name": "stderr",
     "output_type": "stream",
     "text": [
      " 87%|█████████████████████████████████████████████████████████████████████████████████████████████████████████████████████████████████████████████████████████▋                       | 43.40594059406036/50 [17:53<03:06, 28.34s/it]"
     ]
    },
    {
     "name": "stdout",
     "output_type": "stream",
     "text": [
      "Train Epoch: 54 [1280/2508 (51%)]\tLoss: 0.455887\n",
      "Mem before-during-after: 21060096 1940281344 21060096\n"
     ]
    },
    {
     "name": "stderr",
     "output_type": "stream",
     "text": [
      " 88%|██████████████████████████████████████████████████████████████████████████████████████████████████████████████████████████████████████████████████████████▉                     | 44.000000000001116/50 [18:07<01:58, 19.68s/it]"
     ]
    },
    {
     "name": "stdout",
     "output_type": "stream",
     "text": [
      "\n",
      "Test Epoch: 54\tAccuracy: 591/736 (78%)\n",
      "\n"
     ]
    },
    {
     "name": "stderr",
     "output_type": "stream",
     "text": [
      " 88%|███████████████████████████████████████████████████████████████████████████████████████████████████████████████████████████████████████████████████████████▊                     | 44.01980198019914/50 [18:08<02:05, 20.93s/it]"
     ]
    },
    {
     "name": "stdout",
     "output_type": "stream",
     "text": [
      "Train Epoch: 55 [0/2508 (0%)]\tLoss: 0.511945\n",
      "Mem before-during-after: 21056000 1941442560 21060096\n"
     ]
    },
    {
     "name": "stderr",
     "output_type": "stream",
     "text": [
      " 89%|█████████████████████████████████████████████████████████████████████████████████████████████████████████████████████████████████████████████████████████████▏                   | 44.40594059406063/50 [18:18<02:32, 27.28s/it]"
     ]
    },
    {
     "name": "stdout",
     "output_type": "stream",
     "text": [
      "Train Epoch: 55 [1280/2508 (51%)]\tLoss: 0.477985\n",
      "Mem before-during-after: 21060096 1940281344 21060096\n"
     ]
    },
    {
     "name": "stderr",
     "output_type": "stream",
     "text": [
      " 90%|██████████████████████████████████████████████████████████████████████████████████████████████████████████████████████████████████████████████████████████████▍                 | 45.000000000001386/50 [18:31<01:37, 19.40s/it]"
     ]
    },
    {
     "name": "stdout",
     "output_type": "stream",
     "text": [
      "\n",
      "Test Epoch: 55\tAccuracy: 593/736 (78%)\n",
      "\n"
     ]
    },
    {
     "name": "stderr",
     "output_type": "stream",
     "text": [
      " 90%|███████████████████████████████████████████████████████████████████████████████████████████████████████████████████████████████████████████████████████████████▎                 | 45.01980198019941/50 [18:32<01:43, 20.88s/it]"
     ]
    },
    {
     "name": "stdout",
     "output_type": "stream",
     "text": [
      "Train Epoch: 56 [0/2508 (0%)]\tLoss: 0.299437\n",
      "Mem before-during-after: 21056000 1941442560 21060096\n"
     ]
    },
    {
     "name": "stderr",
     "output_type": "stream",
     "text": [
      " 91%|█████████████████████████████████████████████████████████████████████████████████████████████████████████████████████████████████████████████████████████████████▋                | 45.4059405940609/50 [18:42<02:06, 27.48s/it]"
     ]
    },
    {
     "name": "stdout",
     "output_type": "stream",
     "text": [
      "Train Epoch: 56 [1280/2508 (51%)]\tLoss: 0.548434\n",
      "Mem before-during-after: 21060096 1940281344 21060096\n"
     ]
    },
    {
     "name": "stderr",
     "output_type": "stream",
     "text": [
      " 92%|█████████████████████████████████████████████████████████████████████████████████████████████████████████████████████████████████████████████████████████████████▉              | 46.000000000001656/50 [18:56<01:18, 19.55s/it]"
     ]
    },
    {
     "name": "stdout",
     "output_type": "stream",
     "text": [
      "\n",
      "Test Epoch: 56\tAccuracy: 607/736 (80%)\n",
      "\n",
      "saved model: ../models_cremad3/cremad_label3_m12new_best_56epoch.pt\n"
     ]
    },
    {
     "name": "stderr",
     "output_type": "stream",
     "text": [
      " 92%|██████████████████████████████████████████████████████████████████████████████████████████████████████████████████████████████████████████████████████████████████▉              | 46.01980198019968/50 [18:57<01:22, 20.79s/it]"
     ]
    },
    {
     "name": "stdout",
     "output_type": "stream",
     "text": [
      "Train Epoch: 57 [0/2508 (0%)]\tLoss: 0.355096\n",
      "Mem before-during-after: 21056000 1941442560 21060096\n"
     ]
    },
    {
     "name": "stderr",
     "output_type": "stream",
     "text": [
      " 93%|████████████████████████████████████████████████████████████████████████████████████████████████████████████████████████████████████████████████████████████████████▎            | 46.40594059406117/50 [19:07<01:38, 27.51s/it]"
     ]
    },
    {
     "name": "stdout",
     "output_type": "stream",
     "text": [
      "Train Epoch: 57 [1280/2508 (51%)]\tLoss: 0.584555\n",
      "Mem before-during-after: 21060096 1940191232 21060096\n"
     ]
    },
    {
     "name": "stderr",
     "output_type": "stream",
     "text": [
      " 94%|█████████████████████████████████████████████████████████████████████████████████████████████████████████████████████████████████████████████████████████████████████▍          | 47.000000000001926/50 [19:21<00:59, 19.76s/it]"
     ]
    },
    {
     "name": "stdout",
     "output_type": "stream",
     "text": [
      "\n",
      "Test Epoch: 57\tAccuracy: 580/736 (76%)\n",
      "\n"
     ]
    },
    {
     "name": "stderr",
     "output_type": "stream",
     "text": [
      " 94%|██████████████████████████████████████████████████████████████████████████████████████████████████████████████████████████████████████████████████████████████████████▍          | 47.01980198019995/50 [19:21<01:01, 20.73s/it]"
     ]
    },
    {
     "name": "stdout",
     "output_type": "stream",
     "text": [
      "Train Epoch: 58 [0/2508 (0%)]\tLoss: 0.762256\n",
      "Mem before-during-after: 21056000 1941442560 21060096\n"
     ]
    },
    {
     "name": "stderr",
     "output_type": "stream",
     "text": [
      " 95%|███████████████████████████████████████████████████████████████████████████████████████████████████████████████████████████████████████████████████████████████████████▊         | 47.40594059406144/50 [19:31<01:12, 27.90s/it]"
     ]
    },
    {
     "name": "stdout",
     "output_type": "stream",
     "text": [
      "Train Epoch: 58 [1280/2508 (51%)]\tLoss: 0.387111\n",
      "Mem before-during-after: 21060096 1940281344 21060096\n"
     ]
    },
    {
     "name": "stderr",
     "output_type": "stream",
     "text": [
      " 96%|████████████████████████████████████████████████████████████████████████████████████████████████████████████████████████████████████████████████████████████████████████▉       | 48.000000000002196/50 [19:46<00:39, 19.52s/it]"
     ]
    },
    {
     "name": "stdout",
     "output_type": "stream",
     "text": [
      "\n",
      "Test Epoch: 58\tAccuracy: 601/736 (79%)\n",
      "\n"
     ]
    },
    {
     "name": "stderr",
     "output_type": "stream",
     "text": [
      " 96%|█████████████████████████████████████████████████████████████████████████████████████████████████████████████████████████████████████████████████████████████████████████▉       | 48.01980198020022/50 [19:46<00:41, 20.85s/it]"
     ]
    },
    {
     "name": "stdout",
     "output_type": "stream",
     "text": [
      "Train Epoch: 59 [0/2508 (0%)]\tLoss: 0.456676\n",
      "Mem before-during-after: 21056000 1941442560 21060096\n"
     ]
    },
    {
     "name": "stderr",
     "output_type": "stream",
     "text": [
      " 97%|███████████████████████████████████████████████████████████████████████████████████████████████████████████████████████████████████████████████████████████████████████████▎     | 48.40594059406171/50 [19:57<00:44, 28.23s/it]"
     ]
    },
    {
     "name": "stdout",
     "output_type": "stream",
     "text": [
      "Train Epoch: 59 [1280/2508 (51%)]\tLoss: 0.234947\n",
      "Mem before-during-after: 21060096 1939503104 21060096\n"
     ]
    },
    {
     "name": "stderr",
     "output_type": "stream",
     "text": [
      " 98%|████████████████████████████████████████████████████████████████████████████████████████████████████████████████████████████████████████████████████████████████████████████▍   | 49.000000000002466/50 [20:11<00:19, 19.60s/it]"
     ]
    },
    {
     "name": "stdout",
     "output_type": "stream",
     "text": [
      "\n",
      "Test Epoch: 59\tAccuracy: 586/736 (77%)\n",
      "\n"
     ]
    },
    {
     "name": "stderr",
     "output_type": "stream",
     "text": [
      " 98%|█████████████████████████████████████████████████████████████████████████████████████████████████████████████████████████████████████████████████████████████████████████████▌   | 49.01980198020049/50 [20:11<00:20, 21.01s/it]"
     ]
    },
    {
     "name": "stdout",
     "output_type": "stream",
     "text": [
      "Train Epoch: 60 [0/2508 (0%)]\tLoss: 0.423119\n",
      "Mem before-during-after: 21056000 1941442560 21060096\n"
     ]
    },
    {
     "name": "stderr",
     "output_type": "stream",
     "text": [
      " 99%|██████████████████████████████████████████████████████████████████████████████████████████████████████████████████████████████████████████████████████████████████████████████▉  | 49.40594059406198/50 [20:21<00:16, 27.59s/it]"
     ]
    },
    {
     "name": "stdout",
     "output_type": "stream",
     "text": [
      "Train Epoch: 60 [1280/2508 (51%)]\tLoss: 0.595399\n",
      "Mem before-during-after: 21060096 1940281344 21060096\n"
     ]
    },
    {
     "name": "stderr",
     "output_type": "stream",
     "text": [
      "100%|████████████████████████████████████████████████████████████████████████████████████████████████████████████████████████████████████████████████████████████████████████████████▉| 49.99009900990372/50 [20:35<00:00, 19.80s/it]/opt/anaconda3/envs/audio/lib/python3.9/site-packages/tqdm/std.py:639: TqdmWarning: clamping frac to range [0, 1]\n",
      "  full_bar = Bar(frac,\n",
      "100%|████████████████████████████████████████████████████████████████████████████████████████████████████████████████████████████████████████████████████████████████████████████████| 50.000000000002736/50 [20:35<00:00, 24.72s/it]"
     ]
    },
    {
     "name": "stdout",
     "output_type": "stream",
     "text": [
      "\n",
      "Test Epoch: 60\tAccuracy: 593/736 (78%)\n",
      "\n"
     ]
    },
    {
     "name": "stderr",
     "output_type": "stream",
     "text": [
      "\n"
     ]
    }
   ],
   "source": [
    "n_epoch = 10\n",
    "n_epoch2 = 50\n",
    "# train_losses = []\n",
    "# test_accuracy = []\n",
    "best_accuracy = min(test_accuracy)\n",
    "model_path_prefix = '../models_cremad3/cremad_label3_m12new_best_'\n",
    "\n",
    "optimizer = optim.RAdam(model.parameters(), lr=0.00005)\n",
    "scheduler = optim.lr_scheduler.OneCycleLR(\n",
    "    optimizer, max_lr=0.01,\n",
    "    steps_per_epoch=len(train_loader), epochs=n_epoch2)\n",
    "log_interval = 40\n",
    "pbar_update = 1 / (len(train_loader) + len(test_loader))\n",
    "# model.to(device)\n",
    "with tqdm(total=n_epoch2) as pbar:\n",
    "    for epoch in range(1+n_epoch, n_epoch2 + n_epoch + 1):\n",
    "        train(model, epoch, log_interval, train_losses)\n",
    "        acc = test(model, epoch)\n",
    "        test_accuracy += [acc]\n",
    "        if acc > best_accuracy:\n",
    "            best_accuracy = acc\n",
    "            bmodel_path = f'{model_path_prefix}{epoch}epoch.pt'\n",
    "            torch.save(model.state_dict(), bmodel_path)\n",
    "            print(f'saved model: {bmodel_path}')\n",
    "        scheduler.step()"
   ]
  },
  {
   "cell_type": "code",
   "execution_count": 29,
   "id": "7908fb16-c7f7-41c3-bc27-8ca0ccf98a5e",
   "metadata": {},
   "outputs": [
    {
     "data": {
      "text/plain": [
       "[<matplotlib.lines.Line2D at 0x7fd9df9ffb20>]"
      ]
     },
     "execution_count": 29,
     "metadata": {},
     "output_type": "execute_result"
    },
    {
     "data": {
      "image/png": "[encoded data removed]",
      "text/plain": [
       "<Figure size 640x480 with 1 Axes>"
      ]
     },
     "metadata": {},
     "output_type": "display_data"
    }
   ],
   "source": [
    "plt.plot(train_losses)"
   ]
  },
  {
   "cell_type": "code",
   "execution_count": 30,
   "id": "d6d1bbcd-ae40-4624-9f03-eafbb361ff86",
   "metadata": {},
   "outputs": [
    {
     "data": {
      "text/plain": [
       "[<matplotlib.lines.Line2D at 0x7fd9de16dc10>]"
      ]
     },
     "execution_count": 30,
     "metadata": {},
     "output_type": "execute_result"
    },
    {
     "data": {
      "image/png": "[encoded data removed]",
      "text/plain": [
       "<Figure size 640x480 with 1 Axes>"
      ]
     },
     "metadata": {},
     "output_type": "display_data"
    }
   ],
   "source": [
    "plt.plot(test_accuracy)"
   ]
  },
  {
   "cell_type": "code",
   "execution_count": 31,
   "id": "bde77f7a-2403-4cdf-8a17-b417fbaf44b9",
   "metadata": {},
   "outputs": [
    {
     "name": "stdout",
     "output_type": "stream",
     "text": [
      "Correct: 593/736 (0.8057)\n",
      "{'acc_detail': tensor([0.8897, 0.7919, 0.7302], device='cuda:0'),\n",
      " 'acc_unweighted': tensor(0.8039, device='cuda:0'),\n",
      " 'acc_weighted': tensor(0.8057, device='cuda:0'),\n",
      " 'f1s': tensor(0.8034, device='cuda:0'),\n",
      " 'f1s_detail': tensor([0.8948, 0.7187, 0.7965], device='cuda:0'),\n",
      " 'precision_detail': tensor([0.9000, 0.6579, 0.8762], device='cuda:0'),\n",
      " 'recall_detail': tensor([0.8897, 0.7919, 0.7302], device='cuda:0'),\n",
      " 'rocauc': tensor([0.9769, 0.9041, 0.9440], device='cuda:0'),\n",
      " 'uar': tensor(0.8039, device='cuda:0'),\n",
      " 'wap': tensor(0.8192, device='cuda:0')}\n"
     ]
    },
    {
     "data": {
      "text/plain": [
       "tensor([[234,  28,   1],\n",
       "        [ 21, 175,  25],\n",
       "        [  5,  63, 184]], device='cuda:0')"
      ]
     },
     "execution_count": 31,
     "metadata": {},
     "output_type": "execute_result"
    }
   ],
   "source": [
    "metrics2, confusion_matrix2 = report_metrics(\n",
    "    model, labels=labels, device=device)\n",
    "pprint(metrics2.compute())\n",
    "confusion_matrix2.compute()"
   ]
  },
  {
   "cell_type": "code",
   "execution_count": 32,
   "id": "7ec16dea-9d97-4ba8-8f1a-1a32d5a4cd80",
   "metadata": {},
   "outputs": [
    {
     "name": "stdout",
     "output_type": "stream",
     "text": [
      "Correct: 607/736 (0.8247)\n",
      "{'acc_detail': tensor([0.9049, 0.7330, 0.8214], device='cuda:0'),\n",
      " 'acc_unweighted': tensor(0.8198, device='cuda:0'),\n",
      " 'acc_weighted': tensor(0.8247, device='cuda:0'),\n",
      " 'f1s': tensor(0.8197, device='cuda:0'),\n",
      " 'f1s_detail': tensor([0.8964, 0.7281, 0.8347], device='cuda:0'),\n",
      " 'precision_detail': tensor([0.8881, 0.7232, 0.8484], device='cuda:0'),\n",
      " 'recall_detail': tensor([0.9049, 0.7330, 0.8214], device='cuda:0'),\n",
      " 'rocauc': tensor([0.9771, 0.9029, 0.9421], device='cuda:0'),\n",
      " 'uar': tensor(0.8198, device='cuda:0'),\n",
      " 'wap': tensor(0.8250, device='cuda:0')}\n"
     ]
    },
    {
     "data": {
      "text/plain": [
       "tensor([[238,  23,   2],\n",
       "        [ 24, 162,  35],\n",
       "        [  6,  39, 207]], device='cuda:0')"
      ]
     },
     "execution_count": 32,
     "metadata": {},
     "output_type": "execute_result"
    }
   ],
   "source": [
    "best_epoch = 56\n",
    "model.to('cpu')\n",
    "best_model_path = f'{model_path_prefix}{best_epoch}epoch.pt'\n",
    "best_model = M12(config=model_config,\n",
    "           n_input=1, n_output=len(labels))\n",
    "best_model.load_state_dict(torch.load(best_model_path))\n",
    "best_model.to(device)\n",
    "\n",
    "metrics_best, confusion_matrix_best = report_metrics(\n",
    "    best_model, labels=labels, device=device)\n",
    "best_model.to('cpu')\n",
    "pprint(metrics_best.compute())\n",
    "confusion_matrix_best.compute()"
   ]
  },
  {
   "cell_type": "code",
   "execution_count": null,
   "id": "b9732a5e-fed3-43fc-8bb6-8d09ce34e8b6",
   "metadata": {
    "scrolled": true
   },
   "outputs": [
    {
     "name": "stderr",
     "output_type": "stream",
     "text": [
      "  0%|                                                                                                                                                                           | 0.009900990099009901/440 [00:00<3:10:41, 26.00s/it]"
     ]
    },
    {
     "name": "stdout",
     "output_type": "stream",
     "text": [
      "Train Epoch: 61 [0/2508 (0%)]\tLoss: 0.434723\n",
      "Mem before-during-after: 21754880 1942141440 22811136\n"
     ]
    },
    {
     "name": "stderr",
     "output_type": "stream",
     "text": [
      "  0%|▏                                                                                                                                                                           | 0.40594059405940613/440 [00:10<3:29:09, 28.55s/it]"
     ]
    },
    {
     "name": "stdout",
     "output_type": "stream",
     "text": [
      "Train Epoch: 61 [1280/2508 (51%)]\tLoss: 0.582526\n",
      "Mem before-during-after: 22811136 1941254144 22811136\n"
     ]
    },
    {
     "name": "stderr",
     "output_type": "stream",
     "text": [
      "  0%|▍                                                                                                                                                                            | 1.0000000000000007/440 [00:24<2:24:01, 19.68s/it]"
     ]
    },
    {
     "name": "stdout",
     "output_type": "stream",
     "text": [
      "\n",
      "Test Epoch: 61\tAccuracy: 596/736 (79%)\n",
      "\n"
     ]
    },
    {
     "name": "stderr",
     "output_type": "stream",
     "text": [
      "  0%|▍                                                                                                                                                                            | 1.0198019801980205/440 [00:25<2:38:45, 21.70s/it]"
     ]
    },
    {
     "name": "stdout",
     "output_type": "stream",
     "text": [
      "Train Epoch: 62 [0/2508 (0%)]\tLoss: 0.496696\n",
      "Mem before-during-after: 22807040 1943193600 22811136\n"
     ]
    },
    {
     "name": "stderr",
     "output_type": "stream",
     "text": [
      "  0%|▌                                                                                                                                                                             | 1.405940594059407/440 [00:35<3:20:36, 27.44s/it]"
     ]
    },
    {
     "name": "stdout",
     "output_type": "stream",
     "text": [
      "Train Epoch: 62 [1280/2508 (51%)]\tLoss: 0.536091\n",
      "Mem before-during-after: 22811136 1942032384 22811136\n"
     ]
    },
    {
     "name": "stderr",
     "output_type": "stream",
     "text": [
      "  0%|▊                                                                                                                                                                            | 2.0000000000000013/440 [00:49<2:31:17, 20.73s/it]"
     ]
    },
    {
     "name": "stdout",
     "output_type": "stream",
     "text": [
      "\n",
      "Test Epoch: 62\tAccuracy: 606/736 (80%)\n",
      "\n"
     ]
    },
    {
     "name": "stderr",
     "output_type": "stream",
     "text": [
      "  0%|▊                                                                                                                                                                             | 2.019801980198021/440 [00:50<2:37:58, 21.64s/it]"
     ]
    },
    {
     "name": "stdout",
     "output_type": "stream",
     "text": [
      "Train Epoch: 63 [0/2508 (0%)]\tLoss: 0.425441\n",
      "Mem before-during-after: 22807040 1943193600 22811136\n"
     ]
    },
    {
     "name": "stderr",
     "output_type": "stream",
     "text": [
      "  1%|▉                                                                                                                                                                            | 2.4059405940594076/440 [01:00<3:25:36, 28.19s/it]"
     ]
    },
    {
     "name": "stdout",
     "output_type": "stream",
     "text": [
      "Train Epoch: 63 [1280/2508 (51%)]\tLoss: 0.674731\n",
      "Mem before-during-after: 22811136 1942032384 22811136\n"
     ]
    },
    {
     "name": "stderr",
     "output_type": "stream",
     "text": [
      "  1%|█▏                                                                                                                                                                            | 3.000000000000002/440 [01:15<2:36:21, 21.47s/it]"
     ]
    },
    {
     "name": "stdout",
     "output_type": "stream",
     "text": [
      "\n",
      "Test Epoch: 63\tAccuracy: 584/736 (77%)\n",
      "\n"
     ]
    },
    {
     "name": "stderr",
     "output_type": "stream",
     "text": [
      "  1%|█▏                                                                                                                                                                            | 3.019801980198022/440 [01:15<2:37:28, 21.62s/it]"
     ]
    },
    {
     "name": "stdout",
     "output_type": "stream",
     "text": [
      "Train Epoch: 64 [0/2508 (0%)]\tLoss: 0.442073\n",
      "Mem before-during-after: 22807040 1943193600 22811136\n"
     ]
    },
    {
     "name": "stderr",
     "output_type": "stream",
     "text": [
      "  1%|█▎                                                                                                                                                                           | 3.4059405940594085/440 [01:25<3:26:28, 28.38s/it]"
     ]
    },
    {
     "name": "stdout",
     "output_type": "stream",
     "text": [
      "Train Epoch: 64 [1280/2508 (51%)]\tLoss: 0.458862\n",
      "Mem before-during-after: 22811136 1942032384 22811136\n"
     ]
    },
    {
     "name": "stderr",
     "output_type": "stream",
     "text": [
      "  1%|█▌                                                                                                                                                                            | 4.000000000000003/440 [01:40<2:25:39, 20.05s/it]"
     ]
    },
    {
     "name": "stdout",
     "output_type": "stream",
     "text": [
      "\n",
      "Test Epoch: 64\tAccuracy: 568/736 (75%)\n",
      "\n"
     ]
    },
    {
     "name": "stderr",
     "output_type": "stream",
     "text": [
      "  1%|█▌                                                                                                                                                                            | 4.009900990099013/440 [01:40<2:38:07, 21.76s/it]"
     ]
    },
    {
     "name": "stdout",
     "output_type": "stream",
     "text": [
      "Train Epoch: 65 [0/2508 (0%)]\tLoss: 0.390502\n",
      "Mem before-during-after: 22807040 1943193600 22811136\n"
     ]
    },
    {
     "name": "stderr",
     "output_type": "stream",
     "text": [
      "  1%|█▋                                                                                                                                                                            | 4.405940594059409/440 [01:50<3:19:39, 27.50s/it]"
     ]
    },
    {
     "name": "stdout",
     "output_type": "stream",
     "text": [
      "Train Epoch: 65 [1280/2508 (51%)]\tLoss: 0.511165\n",
      "Mem before-during-after: 22811136 1942032384 22811136\n"
     ]
    },
    {
     "name": "stderr",
     "output_type": "stream",
     "text": [
      "  1%|█▉                                                                                                                                                                           | 5.0000000000000036/440 [02:05<2:24:15, 19.90s/it]"
     ]
    },
    {
     "name": "stdout",
     "output_type": "stream",
     "text": [
      "\n",
      "Test Epoch: 65\tAccuracy: 591/736 (78%)\n",
      "\n"
     ]
    },
    {
     "name": "stderr",
     "output_type": "stream",
     "text": [
      "  1%|█▉                                                                                                                                                                            | 5.019801980198023/440 [02:05<2:36:38, 21.61s/it]"
     ]
    },
    {
     "name": "stdout",
     "output_type": "stream",
     "text": [
      "Train Epoch: 66 [0/2508 (0%)]\tLoss: 0.569011\n",
      "Mem before-during-after: 22807040 1943193600 22811136\n"
     ]
    },
    {
     "name": "stderr",
     "output_type": "stream",
     "text": [
      "  1%|██▏                                                                                                                                                                            | 5.40594059405941/440 [02:16<3:24:49, 28.28s/it]"
     ]
    },
    {
     "name": "stdout",
     "output_type": "stream",
     "text": [
      "Train Epoch: 66 [1280/2508 (51%)]\tLoss: 0.402471\n",
      "Mem before-during-after: 22811136 1942032384 22811136\n"
     ]
    },
    {
     "name": "stderr",
     "output_type": "stream",
     "text": [
      "  1%|██▎                                                                                                                                                                           | 6.000000000000004/440 [02:30<2:24:46, 20.02s/it]"
     ]
    },
    {
     "name": "stdout",
     "output_type": "stream",
     "text": [
      "\n",
      "Test Epoch: 66\tAccuracy: 587/736 (77%)\n",
      "\n"
     ]
    },
    {
     "name": "stderr",
     "output_type": "stream",
     "text": [
      "  1%|██▍                                                                                                                                                                           | 6.019801980198024/440 [02:30<2:36:50, 21.68s/it]"
     ]
    },
    {
     "name": "stdout",
     "output_type": "stream",
     "text": [
      "Train Epoch: 67 [0/2508 (0%)]\tLoss: 0.703362\n",
      "Mem before-during-after: 22807040 1943193600 22811136\n"
     ]
    },
    {
     "name": "stderr",
     "output_type": "stream",
     "text": [
      "  1%|██▌                                                                                                                                                                           | 6.405940594059411/440 [02:40<3:25:20, 28.41s/it]"
     ]
    },
    {
     "name": "stdout",
     "output_type": "stream",
     "text": [
      "Train Epoch: 67 [1280/2508 (51%)]\tLoss: 0.587296\n",
      "Mem before-during-after: 22811136 1942032384 22811136\n"
     ]
    },
    {
     "name": "stderr",
     "output_type": "stream",
     "text": [
      "  2%|██▋                                                                                                                                                                           | 6.881188118811886/440 [02:52<2:23:25, 19.87s/it]"
     ]
    }
   ],
   "source": [
    "n_epoch = 10\n",
    "n_epoch2 = 50\n",
    "n_epoch3 = 440\n",
    "# train_losses = []\n",
    "# test_accuracy = []\n",
    "\n",
    "optimizer = optim.RAdam(model.parameters(), lr=0.00001)\n",
    "scheduler = optim.lr_scheduler.OneCycleLR(\n",
    "    optimizer, max_lr=0.05, pct_start=0.3,\n",
    "    steps_per_epoch=len(train_loader), epochs=n_epoch3)\n",
    "log_interval = 40\n",
    "pbar_update = 1 / (len(train_loader) + len(test_loader))\n",
    "model.to(device)\n",
    "with tqdm(total=n_epoch3) as pbar:\n",
    "    for epoch in range(1+n_epoch+n_epoch2, n_epoch3+n_epoch2 + n_epoch + 1):\n",
    "        train(model, epoch, log_interval, train_losses)\n",
    "        acc = test(model, epoch)\n",
    "        test_accuracy += [acc]\n",
    "        if acc > best_accuracy:\n",
    "            best_accuracy = acc\n",
    "            bmodel_path = f'{model_path_prefix}{epoch}epoch.pt'\n",
    "            torch.save(model.state_dict(), bmodel_path)\n",
    "            print(f'saved model: {bmodel_path}')\n",
    "        scheduler.step()"
   ]
  },
  {
   "cell_type": "code",
   "execution_count": null,
   "id": "3b498fed-941f-4e07-aab8-4a36e23ae5ad",
   "metadata": {},
   "outputs": [],
   "source": [
    "np.save('../models_cremad3/cremad3_m12new_500epochs_train_losses.npy', train_losses, allow_pickle=True)\n",
    "np.save('../models_cremad3/cremad3_m12new_500epochs_test_accuracy.npy', test_accuracy, allow_pickle=True)"
   ]
  },
  {
   "cell_type": "code",
   "execution_count": null,
   "id": "7ef77346-3959-4699-bc33-7e49754cd179",
   "metadata": {},
   "outputs": [],
   "source": [
    "plt.plot(train_losses)"
   ]
  },
  {
   "cell_type": "code",
   "execution_count": null,
   "id": "c7cff889-2c4a-421e-a684-ebc23f9d4459",
   "metadata": {},
   "outputs": [],
   "source": [
    "plt.plot(test_accuracy)"
   ]
  },
  {
   "cell_type": "code",
   "execution_count": null,
   "id": "27c51821-0100-47b1-ba9d-78e64f5c7075",
   "metadata": {},
   "outputs": [],
   "source": [
    "metrics3, confusion_matrix3 = report_metrics(\n",
    "    model, labels=labels, device=device)\n",
    "pprint(metrics3.compute())\n",
    "confusion_matrix3.compute()"
   ]
  },
  {
   "cell_type": "code",
   "execution_count": null,
   "id": "95d7600a-bdeb-4fd1-b95e-8ace24c85b5a",
   "metadata": {},
   "outputs": [],
   "source": [
    "best_epoch = \n",
    "model.to('cpu')\n",
    "best_model_path = f'{model_path_prefix}{best_epoch}epoch.pt'\n",
    "best_model = M12(config=model_config,\n",
    "           n_input=1, n_output=len(labels))\n",
    "best_model.load_state_dict(torch.load(best_model_path))\n",
    "best_model.to(device)\n",
    "\n",
    "metrics_best, confusion_matrix_best = report_metrics(\n",
    "    best_model, labels=labels, device=device)\n",
    "best_model.to('cpu')\n",
    "pprint(metrics_best.compute())\n",
    "confusion_matrix_best.compute()"
   ]
  },
  {
   "cell_type": "code",
   "execution_count": null,
   "id": "ec44c692-00ba-42c8-9c1e-cd86215ed695",
   "metadata": {},
   "outputs": [],
   "source": []
  },
  {
   "cell_type": "code",
   "execution_count": null,
   "id": "734e4c6b-9019-405c-8c5c-04e46b288bcd",
   "metadata": {},
   "outputs": [],
   "source": []
  },
  {
   "cell_type": "code",
   "execution_count": null,
   "id": "bd150585-bb0e-4beb-8a1f-fa36b42a3e19",
   "metadata": {},
   "outputs": [],
   "source": []
  },
  {
   "cell_type": "code",
   "execution_count": null,
   "id": "807422b2-5252-4db9-b0be-9cb65ea2ae27",
   "metadata": {},
   "outputs": [],
   "source": []
  },
  {
   "cell_type": "code",
   "execution_count": null,
   "id": "f6249f5c-e025-4a05-8f41-a847047c15d3",
   "metadata": {},
   "outputs": [],
   "source": []
  },
  {
   "cell_type": "code",
   "execution_count": null,
   "id": "1f4b8746-a12c-44f7-81ac-a2936668e274",
   "metadata": {},
   "outputs": [],
   "source": []
  },
  {
   "cell_type": "code",
   "execution_count": null,
   "id": "0b814e02-01f7-41fd-8cd6-ab5f71323626",
   "metadata": {},
   "outputs": [],
   "source": []
  },
  {
   "cell_type": "code",
   "execution_count": 125,
   "id": "3c092754-8012-414d-92ac-df08105eb489",
   "metadata": {},
   "outputs": [
    {
     "data": {
      "text/plain": [
       "895"
      ]
     },
     "execution_count": 125,
     "metadata": {},
     "output_type": "execute_result"
    }
   ],
   "source": [
    "# del model\n",
    "# gc.collect()"
   ]
  },
  {
   "cell_type": "code",
   "execution_count": null,
   "id": "eac7ae60-cddd-4cd4-8f53-1eeee6b1c674",
   "metadata": {},
   "outputs": [],
   "source": []
  },
  {
   "cell_type": "code",
   "execution_count": null,
   "id": "c4d622bb-171a-413f-843c-546b9cc6023a",
   "metadata": {},
   "outputs": [],
   "source": []
  },
  {
   "cell_type": "code",
   "execution_count": null,
   "id": "c57bf603-cf18-4809-a876-764bafedf747",
   "metadata": {},
   "outputs": [],
   "source": []
  },
  {
   "cell_type": "code",
   "execution_count": null,
   "id": "65fc12a6-a8b3-47ca-bd2e-4027f1258f6a",
   "metadata": {},
   "outputs": [],
   "source": []
  }
 ],
 "metadata": {
  "kernelspec": {
   "display_name": "Python 3 (ipykernel)",
   "language": "python",
   "name": "python3"
  },
  "language_info": {
   "codemirror_mode": {
    "name": "ipython",
    "version": 3
   },
   "file_extension": ".py",
   "mimetype": "text/x-python",
   "name": "python",
   "nbconvert_exporter": "python",
   "pygments_lexer": "ipython3",
   "version": "3.9.18"
  }
 },
 "nbformat": 4,
 "nbformat_minor": 5
}
