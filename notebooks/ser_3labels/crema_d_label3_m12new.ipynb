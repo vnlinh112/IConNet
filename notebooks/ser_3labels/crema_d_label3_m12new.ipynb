{
 "cells": [
  {
   "cell_type": "code",
   "execution_count": 1,
   "id": "ebeadf44-f268-4ea5-940c-4b8d6c30e824",
   "metadata": {},
   "outputs": [
    {
     "name": "stdout",
     "output_type": "stream",
     "text": [
      "Thu Feb 22 19:31:02 2024       \n",
      "+---------------------------------------------------------------------------------------+\n",
      "| NVIDIA-SMI 545.23.08              Driver Version: 545.23.08    CUDA Version: 12.3     |\n",
      "|-----------------------------------------+----------------------+----------------------+\n",
      "| GPU  Name                 Persistence-M | Bus-Id        Disp.A | Volatile Uncorr. ECC |\n",
      "| Fan  Temp   Perf          Pwr:Usage/Cap |         Memory-Usage | GPU-Util  Compute M. |\n",
      "|                                         |                      |               MIG M. |\n",
      "|=========================================+======================+======================|\n",
      "|   0  NVIDIA GeForce RTX 2080        On  | 00000000:01:00.0  On |                  N/A |\n",
      "| 32%   36C    P5              23W / 215W |    774MiB /  8192MiB |      2%      Default |\n",
      "|                                         |                      |                  N/A |\n",
      "+-----------------------------------------+----------------------+----------------------+\n",
      "                                                                                         \n",
      "+---------------------------------------------------------------------------------------+\n",
      "| Processes:                                                                            |\n",
      "|  GPU   GI   CI        PID   Type   Process name                            GPU Memory |\n",
      "|        ID   ID                                                             Usage      |\n",
      "|=======================================================================================|\n",
      "|    0   N/A  N/A      1887      G   /usr/lib/xorg/Xorg                          192MiB |\n",
      "|    0   N/A  N/A      2033      G   /usr/bin/gnome-shell                         28MiB |\n",
      "|    0   N/A  N/A   1076924      G   /usr/lib/xorg/Xorg                           35MiB |\n",
      "|    0   N/A  N/A   1080375      G   ...seed-version=20240215-080116.052000       71MiB |\n",
      "|    0   N/A  N/A   1080394      G   ...sion,SpareRendererForSitePerProcess       37MiB |\n",
      "|    0   N/A  N/A   2546595      C   /opt/anaconda3/envs/audio/bin/python        268MiB |\n",
      "+---------------------------------------------------------------------------------------+\n"
     ]
    }
   ],
   "source": [
    "!nvidia-smi"
   ]
  },
  {
   "cell_type": "code",
   "execution_count": 2,
   "id": "8a250661-b9f6-4716-ae35-d38b7eecec25",
   "metadata": {},
   "outputs": [],
   "source": [
    "%load_ext autoreload\n",
    "%autoreload 2"
   ]
  },
  {
   "cell_type": "code",
   "execution_count": 3,
   "id": "08cf1f67-3e13-4f47-b598-ed7bc4cfbd4a",
   "metadata": {},
   "outputs": [
    {
     "data": {
      "text/plain": [
       "'/home/linh/projects/IConNet/notebooks'"
      ]
     },
     "execution_count": 3,
     "metadata": {},
     "output_type": "execute_result"
    }
   ],
   "source": [
    "import os\n",
    "os.getcwd()"
   ]
  },
  {
   "cell_type": "code",
   "execution_count": 4,
   "id": "918ffe29-4a40-4a72-8a5c-94fc2ec53d51",
   "metadata": {},
   "outputs": [],
   "source": [
    "os.chdir('..')"
   ]
  },
  {
   "cell_type": "code",
   "execution_count": 5,
   "id": "d2c64223-82c7-4fe7-a4df-278b26ba60a7",
   "metadata": {},
   "outputs": [
    {
     "name": "stdout",
     "output_type": "stream",
     "text": [
      "cuda\n"
     ]
    }
   ],
   "source": [
    "os.environ[\"PYTORCH_CUDA_ALLOC_CONF\"] = \"max_split_size_mb:512\"\n",
    "import gc\n",
    "import torch\n",
    "import torch.nn as nn\n",
    "import torch.nn.functional as F\n",
    "import torch.optim as optim\n",
    "import sys\n",
    "device = torch.device(\"cuda\" if torch.cuda.is_available() else \"cpu\")\n",
    "print(device)"
   ]
  },
  {
   "cell_type": "code",
   "execution_count": 6,
   "id": "1db98310-7115-45c5-bc6f-c34279a3a50e",
   "metadata": {},
   "outputs": [],
   "source": [
    "import glob\n",
    "import numpy as np\n",
    "from tqdm import tqdm\n",
    "import itertools\n",
    "import matplotlib.pyplot as plt\n",
    "import pandas as pd\n",
    "\n",
    "# Scikit learn\n",
    "from sklearn.model_selection import train_test_split\n",
    "from sklearn.preprocessing import LabelEncoder\n",
    "from sklearn.utils import shuffle\n",
    "\n",
    "import warnings\n",
    "warnings.filterwarnings('ignore', category=FutureWarning)"
   ]
  },
  {
   "cell_type": "code",
   "execution_count": 7,
   "id": "8b265cfc-5bef-46b7-aaa7-955240ad87f1",
   "metadata": {},
   "outputs": [],
   "source": [
    "data_dir = '../data/CREMA-D/'"
   ]
  },
  {
   "cell_type": "code",
   "execution_count": 8,
   "id": "82fb76f6-ade0-4d65-b525-7ff779fc0290",
   "metadata": {},
   "outputs": [],
   "source": [
    "sr = 16000\n",
    "\n",
    "x_train = np.load(f'{data_dir}crema_d.audio16k.train.npy', allow_pickle=True)\n",
    "x_test = np.load(f'{data_dir}crema_d.audio16k.test.npy', allow_pickle=True)\n",
    "classnames = np.load(f'{data_dir}crema_d.classnames.npy', allow_pickle=True)\n",
    "y_train = np.load(f'{data_dir}crema_d.labels.train.npy', allow_pickle=True)\n",
    "y_test = np.load(f'{data_dir}crema_d.labels.test.npy', allow_pickle=True)"
   ]
  },
  {
   "cell_type": "code",
   "execution_count": 9,
   "id": "cffdd7de-9752-4402-b836-f397dde533c3",
   "metadata": {},
   "outputs": [
    {
     "name": "stdout",
     "output_type": "stream",
     "text": [
      "(2508,)\n",
      "(759,)\n"
     ]
    }
   ],
   "source": [
    "labels = ['ANG', 'NEU', 'SAD']\n",
    "\n",
    "def label_filter(idx):\n",
    "    return classnames[idx] in labels\n",
    "\n",
    "def label_to_index(idx):\n",
    "    return labels.index(classnames[idx])\n",
    "    \n",
    "filtered_idx = [label_filter(idx) for idx in y_train]\n",
    "x_train = x_train[filtered_idx]\n",
    "y_train = [label_to_index(idx) for idx in y_train[filtered_idx]]\n",
    "print(x_train.shape)\n",
    "\n",
    "filtered_idx = [label_filter(idx) for idx in y_test]\n",
    "x_test = x_test[filtered_idx]\n",
    "y_test = [label_to_index(idx) for idx in y_test[filtered_idx]]\n",
    "print(x_test.shape)"
   ]
  },
  {
   "cell_type": "code",
   "execution_count": 10,
   "id": "b70a70e3-6232-4c58-9f4f-a94a97e90908",
   "metadata": {},
   "outputs": [
    {
     "name": "stdout",
     "output_type": "stream",
     "text": [
      "21355\n",
      "80080\n"
     ]
    },
    {
     "data": {
      "text/plain": [
       "40594.362041467306"
      ]
     },
     "execution_count": 10,
     "metadata": {},
     "output_type": "execute_result"
    }
   ],
   "source": [
    "l = [len(i) for i in x_train]\n",
    "print(min(l))\n",
    "print(max(l))\n",
    "sum(l) / len(l)"
   ]
  },
  {
   "cell_type": "code",
   "execution_count": 11,
   "id": "c55f5684-d1a8-4d8d-b97b-96149b6f8ec6",
   "metadata": {},
   "outputs": [],
   "source": [
    "train_set = list(zip(x_train, y_train))\n",
    "test_set = list(zip(x_test, y_test))"
   ]
  },
  {
   "cell_type": "code",
   "execution_count": 12,
   "id": "a9254a4f-f9c2-4d6d-9338-c3283941f6fe",
   "metadata": {},
   "outputs": [],
   "source": [
    "sample_rate=16000"
   ]
  },
  {
   "cell_type": "code",
   "execution_count": 13,
   "id": "d8aadba2-7ff4-4490-94e8-1d7786a98a77",
   "metadata": {},
   "outputs": [],
   "source": [
    "def pad_sequence(batch):\n",
    "    # Make all tensor in a batch the same length by padding with zeros\n",
    "    batch = [item.t() for item in batch]\n",
    "    batch = torch.nn.utils.rnn.pad_sequence(\n",
    "        batch, batch_first=True, padding_value=0.)\n",
    "    return batch.permute(0, 2, 1)\n",
    "\n",
    "\n",
    "def collate_fn(batch, max_duration_in_second=3, sample_rate=16000):\n",
    "    tensors, targets = [], []\n",
    "\n",
    "    # Gather in lists, and encode labels as indices\n",
    "    for waveform, label in batch:\n",
    "        if max_duration_in_second is not None:\n",
    "            length = len(waveform)\n",
    "            max_length = sample_rate * max_duration_in_second\n",
    "            offset = max(0, (length - max_length) // 2)\n",
    "            waveform = [waveform[offset: length-offset]]\n",
    "        tensors += [torch.tensor(\n",
    "            np.array(waveform, dtype=float).squeeze(), \n",
    "            dtype=torch.float32)[None,:]]\n",
    "        targets += [torch.tensor(label, dtype=torch.long)]\n",
    "\n",
    "    # Group the list of tensors into a batched tensor\n",
    "    tensors = pad_sequence(tensors)\n",
    "    targets = torch.stack(targets)\n",
    "\n",
    "    return tensors, targets\n",
    "\n",
    "batch_size = 32\n",
    "\n",
    "if device == \"cuda\":\n",
    "    num_workers = 1\n",
    "    pin_memory = True\n",
    "else:\n",
    "    num_workers = 0\n",
    "    pin_memory = False\n",
    "\n",
    "train_loader = torch.utils.data.DataLoader(\n",
    "    train_set,\n",
    "    batch_size=batch_size,\n",
    "    shuffle=True,\n",
    "    collate_fn=collate_fn,\n",
    "    num_workers=num_workers,\n",
    "    pin_memory=pin_memory, \n",
    "    drop_last=True\n",
    ")\n",
    "test_loader = torch.utils.data.DataLoader(\n",
    "    test_set,\n",
    "    batch_size=batch_size,\n",
    "    shuffle=False,\n",
    "    drop_last=True,\n",
    "    collate_fn=collate_fn,\n",
    "    num_workers=num_workers,\n",
    "    pin_memory=pin_memory\n",
    ")"
   ]
  },
  {
   "cell_type": "code",
   "execution_count": 14,
   "id": "dc039999-3237-4d3b-80f7-a51f8d503145",
   "metadata": {},
   "outputs": [],
   "source": [
    "from IConNet.nn.model import M12"
   ]
  },
  {
   "cell_type": "code",
   "execution_count": 15,
   "id": "965d9e7c-8057-42d7-a4ae-514fac39ed00",
   "metadata": {},
   "outputs": [],
   "source": [
    "from omegaconf import OmegaConf as ocf"
   ]
  },
  {
   "cell_type": "code",
   "execution_count": 16,
   "id": "41f72901-850d-426c-bf0c-474b9d05e658",
   "metadata": {},
   "outputs": [],
   "source": [
    "import traceback"
   ]
  },
  {
   "cell_type": "code",
   "execution_count": 17,
   "id": "2c32b2a9-2797-4fd1-bd05-f0333f0aaa43",
   "metadata": {},
   "outputs": [
    {
     "data": {
      "text/plain": [
       "{'name': 'M12_debug', 'description': 'FirConv sequential for iemocap', 'fe': {'n_block': 2, 'n_channel': [64, 32], 'kernel_size': [63, 31], 'stride': [4, 4], 'window_k': [5, 9], 'residual_connection_type': 'stack', 'pooling': False, 'filter_type': 'firwin', 'conv_mode': 'fftconv', 'norm_type': 'LocalResponseNorm'}, 'seq': {'n_block': 1, 'n_channel': 48, 'pooling': 'max', 'use_context': False, 'bidirectional': False}, 'cls': {'n_block': 2, 'n_hidden_dim': [256, 256], 'norm_type': 'LayerNorm'}}"
      ]
     },
     "execution_count": 17,
     "metadata": {},
     "output_type": "execute_result"
    }
   ],
   "source": [
    "model_config_path = 'config/model/m12_debug.yaml'\n",
    "model_config = ocf.load(model_config_path)\n",
    "model_config"
   ]
  },
  {
   "cell_type": "code",
   "execution_count": 18,
   "id": "2c6b57a5-edee-400e-807a-fad5e5974026",
   "metadata": {},
   "outputs": [
    {
     "data": {
      "text/plain": [
       "M12(\n",
       "  (fe_blocks): FeBlocks(\n",
       "    (blocks): ModuleList(\n",
       "      (0-1): 2 x FrontEndBlock(\n",
       "        (block): ModuleDict(\n",
       "          (layer): FirConvLayer(\n",
       "            (conv_layer): ResidualConv1d(\n",
       "              (pad_layer): PadForConv()\n",
       "              (stride_layer): DownsampleLayer(\n",
       "                (pad_right): PadForConv()\n",
       "              )\n",
       "              (norm_layer): CustomNormLayer(\n",
       "                (layer): LocalResponseNorm(2, alpha=0.0001, beta=0.75, k=1.0)\n",
       "              )\n",
       "              (act): NLReLU()\n",
       "            )\n",
       "          )\n",
       "          (downsample): ResidualConv1d(\n",
       "            (pad_layer): PadForConv()\n",
       "            (stride_layer): DownsampleLayer(\n",
       "              (pad_right): PadForConv()\n",
       "            )\n",
       "            (norm_layer): CustomNormLayer(\n",
       "              (layer): LocalResponseNorm(2, alpha=0.0001, beta=0.75, k=1.0)\n",
       "            )\n",
       "            (act): NLReLU()\n",
       "          )\n",
       "        )\n",
       "      )\n",
       "    )\n",
       "  )\n",
       "  (seq_blocks): Seq2OneBlocks(\n",
       "    (blocks): LSTM(97, 48, batch_first=True)\n",
       "  )\n",
       "  (cls_head): Classifier(\n",
       "    (blocks): ModuleList(\n",
       "      (0): Sequential(\n",
       "        (norm): LayerNorm((48,), eps=1e-05, elementwise_affine=True)\n",
       "        (layer): Linear(in_features=48, out_features=256, bias=True)\n",
       "      )\n",
       "      (1): Sequential(\n",
       "        (norm): LayerNorm((256,), eps=1e-05, elementwise_affine=True)\n",
       "        (layer): Linear(in_features=256, out_features=256, bias=True)\n",
       "      )\n",
       "    )\n",
       "    (act): LeakyReLU(negative_slope=0.01)\n",
       "    (output_layer): Linear(in_features=256, out_features=3, bias=True)\n",
       "  )\n",
       ")"
      ]
     },
     "execution_count": 18,
     "metadata": {},
     "output_type": "execute_result"
    }
   ],
   "source": [
    "model = M12(config=model_config,\n",
    "           n_input=1, n_output=len(labels))\n",
    "model"
   ]
  },
  {
   "cell_type": "code",
   "execution_count": 19,
   "id": "76e4b8a2-6938-4ec7-bad5-fc07fce8e5e1",
   "metadata": {},
   "outputs": [],
   "source": [
    "n_epoch = 10\n",
    "train_losses = []\n",
    "test_accuracy = []\n",
    "optimizer = optim.RAdam(model.parameters(), lr=0.001)\n",
    "scheduler = optim.lr_scheduler.OneCycleLR(\n",
    "    optimizer, max_lr=0.1,\n",
    "    steps_per_epoch=len(train_loader), epochs=n_epoch)"
   ]
  },
  {
   "cell_type": "code",
   "execution_count": 20,
   "id": "a1d06d4a-aad8-4343-a42a-f6504edad907",
   "metadata": {},
   "outputs": [],
   "source": [
    "train_loader_length = len(train_loader.dataset)\n",
    "test_loader_length = len(test_loader.dataset)\n",
    "\n",
    "def train(model, epoch, log_interval, \n",
    "          train_losses=train_losses):\n",
    "    model.train()\n",
    "    for batch_idx, (data, target) in enumerate(train_loader):\n",
    "        try:\n",
    "            _mem_before = torch.cuda.memory_allocated()\n",
    "            data = data.to(device)\n",
    "            target = target.to(device)\n",
    "            output = model(data)\n",
    "            del data\n",
    "            gc.collect()\n",
    "            torch.cuda.empty_cache()\n",
    "            loss = F.cross_entropy(output.squeeze(), target)\n",
    "            _mem_during = torch.cuda.memory_allocated()\n",
    "            del target\n",
    "            gc.collect()\n",
    "            torch.cuda.empty_cache()\n",
    "            optimizer.zero_grad()\n",
    "            loss.backward()\n",
    "            nn.utils.clip_grad.clip_grad_norm_(\n",
    "                model.parameters(), 1.0)\n",
    "            optimizer.step()\n",
    "            _mem_after = torch.cuda.memory_allocated()\n",
    "            # print training stats\n",
    "            if batch_idx % log_interval == 0:\n",
    "                print(f\"Train Epoch: {epoch} [{batch_idx * batch_size}/{train_loader_length} ({100. * batch_idx / len(train_loader):.0f}%)]\\tLoss: {loss.item():.6f}\")\n",
    "                print(f'Mem before-during-after: {_mem_before} {_mem_during} {_mem_after}')\n",
    "            # update progress bar\n",
    "            pbar.update(pbar_update)\n",
    "            # record loss\n",
    "            train_losses.append(loss.item())\n",
    "        except Exception as e:\n",
    "            print(f'data: {data.shape} => output: {output.shape} | target: {target.shape}')\n",
    "            traceback.print_exc()\n",
    "\n",
    "@torch.no_grad\n",
    "def test(model, epoch):\n",
    "    model.eval()\n",
    "    correct = 0\n",
    "    total = 0\n",
    "    for data, target in test_loader:\n",
    "        total += len(target)\n",
    "        data = data.to(device)\n",
    "        target = target.to(device)\n",
    "        output = model(data).squeeze()\n",
    "        del data\n",
    "        gc.collect()\n",
    "        torch.cuda.empty_cache()\n",
    "        probs = F.softmax(output, dim=-1)\n",
    "        pred = probs.argmax(dim=-1)\n",
    "        correct += pred.eq(target).sum().item()\n",
    "        del target\n",
    "        gc.collect()\n",
    "        torch.cuda.empty_cache()\n",
    "        pbar.update(pbar_update)\n",
    "    acc = correct / test_loader_length\n",
    "    print(f\"\\nTest Epoch: {epoch}\\tAccuracy: {correct}/{total} ({100. * acc:.0f}%)\\n\")\n",
    "    return acc"
   ]
  },
  {
   "cell_type": "code",
   "execution_count": 21,
   "id": "be5e8f4b-6b3a-47e5-9b73-5ebd9722ab2b",
   "metadata": {
    "scrolled": true
   },
   "outputs": [
    {
     "name": "stderr",
     "output_type": "stream",
     "text": [
      "  0%|▎                                                                                                                                                                             | 0.019801980198019802/10 [00:00<05:11, 31.19s/it]"
     ]
    },
    {
     "name": "stdout",
     "output_type": "stream",
     "text": [
      "Train Epoch: 1 [0/2508 (0%)]\tLoss: 1.145589\n",
      "Mem before-during-after: 528384 1929975296 21014016\n"
     ]
    },
    {
     "name": "stderr",
     "output_type": "stream",
     "text": [
      "  4%|███████▎                                                                                                                                                                       | 0.41584158415841604/10 [00:10<03:52, 24.23s/it]"
     ]
    },
    {
     "name": "stdout",
     "output_type": "stream",
     "text": [
      "Train Epoch: 1 [1280/2508 (51%)]\tLoss: 0.887716\n",
      "Mem before-during-after: 21014016 1940225024 21014016\n"
     ]
    },
    {
     "name": "stderr",
     "output_type": "stream",
     "text": [
      " 10%|█████████████████▌                                                                                                                                                              | 1.0000000000000007/10 [00:23<02:38, 17.61s/it]"
     ]
    },
    {
     "name": "stdout",
     "output_type": "stream",
     "text": [
      "\n",
      "Test Epoch: 1\tAccuracy: 557/736 (73%)\n",
      "\n"
     ]
    },
    {
     "name": "stderr",
     "output_type": "stream",
     "text": [
      " 10%|█████████████████▉                                                                                                                                                              | 1.0198019801980205/10 [00:23<02:54, 19.43s/it]"
     ]
    },
    {
     "name": "stdout",
     "output_type": "stream",
     "text": [
      "Train Epoch: 2 [0/2508 (0%)]\tLoss: 0.689239\n",
      "Mem before-during-after: 21009920 1941396480 21014016\n"
     ]
    },
    {
     "name": "stderr",
     "output_type": "stream",
     "text": [
      " 14%|████████████████████████▉                                                                                                                                                       | 1.4158415841584169/10 [00:33<03:30, 24.52s/it]"
     ]
    },
    {
     "name": "stdout",
     "output_type": "stream",
     "text": [
      "Train Epoch: 2 [1280/2508 (51%)]\tLoss: 0.456255\n",
      "Mem before-during-after: 21014016 1939457024 21014016\n"
     ]
    },
    {
     "name": "stderr",
     "output_type": "stream",
     "text": [
      " 20%|███████████████████████████████████▏                                                                                                                                            | 2.0000000000000013/10 [00:46<02:35, 19.42s/it]"
     ]
    },
    {
     "name": "stdout",
     "output_type": "stream",
     "text": [
      "\n",
      "Test Epoch: 2\tAccuracy: 575/736 (76%)\n",
      "\n"
     ]
    },
    {
     "name": "stderr",
     "output_type": "stream",
     "text": [
      " 20%|███████████████████████████████████▎                                                                                                                                            | 2.0099009900990112/10 [00:46<02:47, 21.01s/it]"
     ]
    },
    {
     "name": "stdout",
     "output_type": "stream",
     "text": [
      "Train Epoch: 3 [0/2508 (0%)]\tLoss: 0.645834\n",
      "Mem before-during-after: 21009920 1941396480 21014016\n"
     ]
    },
    {
     "name": "stderr",
     "output_type": "stream",
     "text": [
      " 24%|██████████████████████████████████████████▎                                                                                                                                     | 2.4059405940594076/10 [00:56<03:15, 25.76s/it]"
     ]
    },
    {
     "name": "stdout",
     "output_type": "stream",
     "text": [
      "Train Epoch: 3 [1280/2508 (51%)]\tLoss: 0.538253\n",
      "Mem before-during-after: 21014016 1940235264 21014016\n"
     ]
    },
    {
     "name": "stderr",
     "output_type": "stream",
     "text": [
      " 30%|█████████████████████████████████████████████████████                                                                                                                            | 3.000000000000002/10 [01:09<02:03, 17.64s/it]"
     ]
    },
    {
     "name": "stdout",
     "output_type": "stream",
     "text": [
      "\n",
      "Test Epoch: 3\tAccuracy: 564/736 (74%)\n",
      "\n"
     ]
    },
    {
     "name": "stderr",
     "output_type": "stream",
     "text": [
      " 30%|█████████████████████████████████████████████████████▍                                                                                                                           | 3.019801980198022/10 [01:10<02:15, 19.35s/it]"
     ]
    },
    {
     "name": "stdout",
     "output_type": "stream",
     "text": [
      "Train Epoch: 4 [0/2508 (0%)]\tLoss: 0.592789\n",
      "Mem before-during-after: 21009920 1941396480 21014016\n"
     ]
    },
    {
     "name": "stderr",
     "output_type": "stream",
     "text": [
      " 34%|████████████████████████████████████████████████████████████                                                                                                                    | 3.4158415841584184/10 [01:19<02:40, 24.40s/it]"
     ]
    },
    {
     "name": "stdout",
     "output_type": "stream",
     "text": [
      "Train Epoch: 4 [1280/2508 (51%)]\tLoss: 0.642460\n",
      "Mem before-during-after: 21014016 1939457024 21014016\n"
     ]
    },
    {
     "name": "stderr",
     "output_type": "stream",
     "text": [
      " 40%|██████████████████████████████████████████████████████████████████████▊                                                                                                          | 4.000000000000003/10 [01:32<02:01, 20.30s/it]"
     ]
    },
    {
     "name": "stdout",
     "output_type": "stream",
     "text": [
      "\n",
      "Test Epoch: 4\tAccuracy: 534/736 (70%)\n",
      "\n"
     ]
    },
    {
     "name": "stderr",
     "output_type": "stream",
     "text": [
      " 40%|██████████████████████████████████████████████████████████████████████▋                                                                                                         | 4.0198019801980225/10 [01:33<02:02, 20.43s/it]"
     ]
    },
    {
     "name": "stdout",
     "output_type": "stream",
     "text": [
      "Train Epoch: 5 [0/2508 (0%)]\tLoss: 0.410104\n",
      "Mem before-during-after: 21009920 1941396480 21014016\n"
     ]
    },
    {
     "name": "stderr",
     "output_type": "stream",
     "text": [
      " 44%|██████████████████████████████████████████████████████████████████████████████▏                                                                                                  | 4.415841584158419/10 [01:43<02:16, 24.47s/it]"
     ]
    },
    {
     "name": "stdout",
     "output_type": "stream",
     "text": [
      "Train Epoch: 5 [1280/2508 (51%)]\tLoss: 0.590933\n",
      "Mem before-during-after: 21014016 1940145152 21014016\n"
     ]
    },
    {
     "name": "stderr",
     "output_type": "stream",
     "text": [
      " 50%|████████████████████████████████████████████████████████████████████████████████████████                                                                                        | 5.0000000000000036/10 [01:56<01:33, 18.77s/it]"
     ]
    },
    {
     "name": "stdout",
     "output_type": "stream",
     "text": [
      "\n",
      "Test Epoch: 5\tAccuracy: 561/736 (74%)\n",
      "\n"
     ]
    },
    {
     "name": "stderr",
     "output_type": "stream",
     "text": [
      " 50%|████████████████████████████████████████████████████████████████████████████████████████▊                                                                                        | 5.019801980198023/10 [01:56<01:37, 19.58s/it]"
     ]
    },
    {
     "name": "stdout",
     "output_type": "stream",
     "text": [
      "Train Epoch: 6 [0/2508 (0%)]\tLoss: 0.634561\n",
      "Mem before-during-after: 21009920 1941396480 21014016\n"
     ]
    },
    {
     "name": "stderr",
     "output_type": "stream",
     "text": [
      " 54%|████████████████████████████████████████████████████████████████████████████████████████████████▏                                                                                 | 5.40594059405941/10 [02:06<01:56, 25.36s/it]"
     ]
    },
    {
     "name": "stdout",
     "output_type": "stream",
     "text": [
      "Train Epoch: 6 [1280/2508 (51%)]\tLoss: 0.399815\n",
      "Mem before-during-after: 21014016 1940235264 21014016\n"
     ]
    },
    {
     "name": "stderr",
     "output_type": "stream",
     "text": [
      " 60%|██████████████████████████████████████████████████████████████████████████████████████████████████████████▏                                                                      | 6.000000000000004/10 [02:19<01:10, 17.68s/it]"
     ]
    },
    {
     "name": "stdout",
     "output_type": "stream",
     "text": [
      "\n",
      "Test Epoch: 6\tAccuracy: 567/736 (75%)\n",
      "\n"
     ]
    },
    {
     "name": "stderr",
     "output_type": "stream",
     "text": [
      " 60%|██████████████████████████████████████████████████████████████████████████████████████████████████████████▌                                                                      | 6.019801980198024/10 [02:19<01:16, 19.30s/it]"
     ]
    },
    {
     "name": "stdout",
     "output_type": "stream",
     "text": [
      "Train Epoch: 7 [0/2508 (0%)]\tLoss: 0.556609\n",
      "Mem before-during-after: 21009920 1941396480 21014016\n"
     ]
    },
    {
     "name": "stderr",
     "output_type": "stream",
     "text": [
      " 64%|█████████████████████████████████████████████████████████████████████████████████████████████████████████████████▌                                                               | 6.415841584158421/10 [02:29<01:27, 24.46s/it]"
     ]
    },
    {
     "name": "stdout",
     "output_type": "stream",
     "text": [
      "Train Epoch: 7 [1280/2508 (51%)]\tLoss: 0.581864\n",
      "Mem before-during-after: 21014016 1940235264 21014016\n"
     ]
    },
    {
     "name": "stderr",
     "output_type": "stream",
     "text": [
      " 70%|███████████████████████████████████████████████████████████████████████████████████████████████████████████████████████████▉                                                     | 7.000000000000005/10 [02:42<00:52, 17.57s/it]"
     ]
    },
    {
     "name": "stdout",
     "output_type": "stream",
     "text": [
      "\n",
      "Test Epoch: 7\tAccuracy: 572/736 (75%)\n",
      "\n"
     ]
    },
    {
     "name": "stderr",
     "output_type": "stream",
     "text": [
      " 70%|████████████████████████████████████████████████████████████████████████████████████████████████████████████████████████████▎                                                    | 7.019801980198025/10 [02:42<00:56, 18.98s/it]"
     ]
    },
    {
     "name": "stdout",
     "output_type": "stream",
     "text": [
      "Train Epoch: 8 [0/2508 (0%)]\tLoss: 0.406566\n",
      "Mem before-during-after: 21009920 1941396480 21014016\n"
     ]
    },
    {
     "name": "stderr",
     "output_type": "stream",
     "text": [
      " 74%|██████████████████████████████████████████████████████████████████████████████████████████████████████████████████████████████████▌                                             | 7.4158415841584215/10 [02:52<01:01, 23.77s/it]"
     ]
    },
    {
     "name": "stdout",
     "output_type": "stream",
     "text": [
      "Train Epoch: 8 [1280/2508 (51%)]\tLoss: 0.645310\n",
      "Mem before-during-after: 21014016 1939457024 21014016\n"
     ]
    },
    {
     "name": "stderr",
     "output_type": "stream",
     "text": [
      " 80%|█████████████████████████████████████████████████████████████████████████████████████████████████████████████████████████████████████████████▌                                   | 8.000000000000005/10 [03:04<00:34, 17.49s/it]"
     ]
    },
    {
     "name": "stdout",
     "output_type": "stream",
     "text": [
      "\n",
      "Test Epoch: 8\tAccuracy: 566/736 (75%)\n",
      "\n"
     ]
    },
    {
     "name": "stderr",
     "output_type": "stream",
     "text": [
      " 80%|█████████████████████████████████████████████████████████████████████████████████████████████████████████████████████████████████████████████▉                                   | 8.019801980198023/10 [03:05<00:38, 19.38s/it]"
     ]
    },
    {
     "name": "stdout",
     "output_type": "stream",
     "text": [
      "Train Epoch: 9 [0/2508 (0%)]\tLoss: 0.619100\n",
      "Mem before-during-after: 21009920 1936208384 21014016\n"
     ]
    },
    {
     "name": "stderr",
     "output_type": "stream",
     "text": [
      " 84%|████████████████████████████████████████████████████████████████████████████████████████████████████████████████████████████████████████████████████▉                            | 8.415841584158384/10 [03:15<00:42, 26.94s/it]"
     ]
    },
    {
     "name": "stdout",
     "output_type": "stream",
     "text": [
      "Train Epoch: 9 [1280/2508 (51%)]\tLoss: 0.895559\n",
      "Mem before-during-after: 21014016 1940145152 21014016\n"
     ]
    },
    {
     "name": "stderr",
     "output_type": "stream",
     "text": [
      " 90%|███████████████████████████████████████████████████████████████████████████████████████████████████████████████████████████████████████████████████████████████▎                 | 8.999999999999917/10 [03:28<00:17, 17.96s/it]"
     ]
    },
    {
     "name": "stdout",
     "output_type": "stream",
     "text": [
      "\n",
      "Test Epoch: 9\tAccuracy: 571/736 (75%)\n",
      "\n"
     ]
    },
    {
     "name": "stderr",
     "output_type": "stream",
     "text": [
      " 90%|███████████████████████████████████████████████████████████████████████████████████████████████████████████████████████████████████████████████████████████████▋                 | 9.019801980197935/10 [03:28<00:18, 19.33s/it]"
     ]
    },
    {
     "name": "stdout",
     "output_type": "stream",
     "text": [
      "Train Epoch: 10 [0/2508 (0%)]\tLoss: 0.684581\n",
      "Mem before-during-after: 21009920 1941396480 21014016\n"
     ]
    },
    {
     "name": "stderr",
     "output_type": "stream",
     "text": [
      " 94%|██████████████████████████████████████████████████████████████████████████████████████████████████████████████████████████████████████████████████████████████████████▋          | 9.415841584158295/10 [03:37<00:13, 23.55s/it]"
     ]
    },
    {
     "name": "stdout",
     "output_type": "stream",
     "text": [
      "Train Epoch: 10 [1280/2508 (51%)]\tLoss: 0.707989\n",
      "Mem before-during-after: 21014016 1940235264 21014016\n"
     ]
    },
    {
     "name": "stderr",
     "output_type": "stream",
     "text": [
      "100%|████████████████████████████████████████████████████████████████████████████████████████████████████████████████████████████████████████████████████████████████████████████████▉| 9.999999999999828/10 [03:50<00:00, 23.07s/it]"
     ]
    },
    {
     "name": "stdout",
     "output_type": "stream",
     "text": [
      "\n",
      "Test Epoch: 10\tAccuracy: 572/736 (75%)\n",
      "\n"
     ]
    },
    {
     "name": "stderr",
     "output_type": "stream",
     "text": [
      "\n"
     ]
    }
   ],
   "source": [
    "log_interval = 40\n",
    "pbar_update = 1 / (len(train_loader) + len(test_loader))\n",
    "model.to(device)\n",
    "with tqdm(total=n_epoch) as pbar:\n",
    "    for epoch in range(1, n_epoch + 1):\n",
    "        train(model, epoch, log_interval, train_losses)\n",
    "        acc = test(model, epoch)\n",
    "        test_accuracy += [acc]\n",
    "        scheduler.step()"
   ]
  },
  {
   "cell_type": "code",
   "execution_count": 22,
   "id": "a4682162-37b0-40cc-82e2-0c0b6b4c02ef",
   "metadata": {},
   "outputs": [
    {
     "data": {
      "text/plain": [
       "[<matplotlib.lines.Line2D at 0x7fda400dda90>]"
      ]
     },
     "execution_count": 22,
     "metadata": {},
     "output_type": "execute_result"
    },
    {
     "data": {
      "image/png": "[encoded data removed]",
      "text/plain": [
       "<Figure size 640x480 with 1 Axes>"
      ]
     },
     "metadata": {},
     "output_type": "display_data"
    }
   ],
   "source": [
    "plt.plot(train_losses)"
   ]
  },
  {
   "cell_type": "code",
   "execution_count": 23,
   "id": "cd1b2222-4b0c-4cca-97c3-5bc814050086",
   "metadata": {},
   "outputs": [
    {
     "data": {
      "text/plain": [
       "[<matplotlib.lines.Line2D at 0x7fda3c175eb0>]"
      ]
     },
     "execution_count": 23,
     "metadata": {},
     "output_type": "execute_result"
    },
    {
     "data": {
      "image/png": "[encoded data removed]",
      "text/plain": [
       "<Figure size 640x480 with 1 Axes>"
      ]
     },
     "metadata": {},
     "output_type": "display_data"
    }
   ],
   "source": [
    "plt.plot(test_accuracy)"
   ]
  },
  {
   "cell_type": "code",
   "execution_count": 24,
   "id": "f49b40ce-bc85-4cf8-8107-030fe87276ef",
   "metadata": {},
   "outputs": [],
   "source": [
    "from torchmetrics.classification import (\n",
    "    MulticlassAccuracy, MulticlassPrecision, \n",
    "    MulticlassRecall, MulticlassF1Score, \n",
    "    MulticlassConfusionMatrix,\n",
    "    MulticlassAUROC\n",
    ")\n",
    "from torchmetrics import MetricCollection\n",
    "from pprint import pprint\n",
    "\n",
    "@torch.no_grad\n",
    "def report_metrics(model, labels=labels, \n",
    "                   test_loader=test_loader, device=device):\n",
    "    n = len(labels)\n",
    "    metrics = MetricCollection({\n",
    "        'acc_unweighted': MulticlassAccuracy(num_classes=n), \n",
    "        'acc_weighted': MulticlassAccuracy(num_classes=n, average='weighted'), \n",
    "        \n",
    "        'f1s': MulticlassF1Score(num_classes=n),  \n",
    "        'uar': MulticlassRecall(num_classes=n, average='macro'), \n",
    "        'wap': MulticlassPrecision(num_classes=n, average='weighted'),\n",
    "        \n",
    "        'f1s_detail': MulticlassF1Score(num_classes=n, average=None),  \n",
    "        'acc_detail': MulticlassAccuracy(num_classes=n, average=None), \n",
    "        'precision_detail': MulticlassPrecision(num_classes=n, average=None),\n",
    "        'recall_detail': MulticlassRecall(num_classes=n, average=None), \n",
    "        'rocauc': MulticlassAUROC(num_classes=n, average=None, thresholds=None)\n",
    "    }\n",
    "    # , compute_groups=[['acc', 'f1s', 'wap'], ['uap', 'uar']]\n",
    "                              ).to(device)\n",
    "    confusion_matrix = MulticlassConfusionMatrix(num_classes=n).to(device)\n",
    "    model.eval()\n",
    "    correct = 0\n",
    "    total = 0\n",
    "    for data, target in test_loader:\n",
    "        total += len(target)\n",
    "        \n",
    "        data = data.to(device)\n",
    "        target = target.to(device)\n",
    "        output = model(data).squeeze()\n",
    "        del data\n",
    "        gc.collect()\n",
    "        torch.cuda.empty_cache()\n",
    "        probs = F.softmax(output, dim=-1)\n",
    "        pred = probs.argmax(dim=-1)\n",
    "        correct += pred.eq(target).sum().item()\n",
    "        \n",
    "        metrics.update(probs, target)\n",
    "        confusion_matrix.update(pred, target)\n",
    "        \n",
    "        del target\n",
    "        gc.collect()\n",
    "        torch.cuda.empty_cache()\n",
    "        pbar.update(pbar_update)\n",
    "    print(f'Correct: {correct}/{total} ({correct/total:.4f})')\n",
    "    return metrics, confusion_matrix"
   ]
  },
  {
   "cell_type": "code",
   "execution_count": 25,
   "id": "8e44f8fe-b2ef-4ec3-b1a9-4ebf9834c33c",
   "metadata": {},
   "outputs": [
    {
     "name": "stdout",
     "output_type": "stream",
     "text": [
      "Correct: 572/736 (0.7772)\n",
      "{'acc_detail': tensor([0.8479, 0.6335, 0.8294], device='cuda:0'),\n",
      " 'acc_unweighted': tensor(0.7703, device='cuda:0'),\n",
      " 'acc_weighted': tensor(0.7772, device='cuda:0'),\n",
      " 'f1s': tensor(0.7706, device='cuda:0'),\n",
      " 'f1s_detail': tensor([0.8780, 0.6437, 0.7902], device='cuda:0'),\n",
      " 'precision_detail': tensor([0.9102, 0.6542, 0.7545], device='cuda:0'),\n",
      " 'recall_detail': tensor([0.8479, 0.6335, 0.8294], device='cuda:0'),\n",
      " 'rocauc': tensor([0.9728, 0.8702, 0.9273], device='cuda:0'),\n",
      " 'uar': tensor(0.7703, device='cuda:0'),\n",
      " 'wap': tensor(0.7800, device='cuda:0')}\n"
     ]
    },
    {
     "data": {
      "text/plain": [
       "tensor([[223,  37,   3],\n",
       "        [ 16, 140,  65],\n",
       "        [  6,  37, 209]], device='cuda:0')"
      ]
     },
     "execution_count": 25,
     "metadata": {},
     "output_type": "execute_result"
    }
   ],
   "source": [
    "metrics, confusion_matrix = report_metrics(\n",
    "    model, labels=labels, device=device)\n",
    "pprint(metrics.compute())\n",
    "confusion_matrix.compute()"
   ]
  },
  {
   "cell_type": "code",
   "execution_count": 27,
   "id": "2769c3e9-c591-41b9-aa43-4541db539e87",
   "metadata": {},
   "outputs": [],
   "source": [
    "model_path = '../models_cremad3/cremad_label3_m12new_10epochs.pt' \n",
    "torch.save(model.state_dict(), model_path)"
   ]
  },
  {
   "cell_type": "code",
   "execution_count": 28,
   "id": "51ce01b3-cf27-4894-9bc2-5f795fddecb5",
   "metadata": {
    "scrolled": true
   },
   "outputs": [
    {
     "name": "stderr",
     "output_type": "stream",
     "text": [
      "  0%|                                                                                                                                                                              | 0.019801980198019802/50 [00:00<18:35, 22.31s/it]"
     ]
    },
    {
     "name": "stdout",
     "output_type": "stream",
     "text": [
      "Train Epoch: 11 [0/2508 (0%)]\tLoss: 0.967925\n",
      "Mem before-during-after: 20003328 1940389888 21060096\n"
     ]
    },
    {
     "name": "stderr",
     "output_type": "stream",
     "text": [
      "  1%|█▍                                                                                                                                                                             | 0.41584158415841604/50 [00:11<21:47, 26.37s/it]"
     ]
    },
    {
     "name": "stdout",
     "output_type": "stream",
     "text": [
      "Train Epoch: 11 [1280/2508 (51%)]\tLoss: 0.742339\n",
      "Mem before-during-after: 21060096 1940281344 21060096\n"
     ]
    },
    {
     "name": "stderr",
     "output_type": "stream",
     "text": [
      "  2%|███▌                                                                                                                                                                            | 1.0000000000000007/50 [00:25<16:56, 20.75s/it]"
     ]
    },
    {
     "name": "stdout",
     "output_type": "stream",
     "text": [
      "\n",
      "Test Epoch: 11\tAccuracy: 579/736 (76%)\n",
      "\n",
      "saved model: ../models_cremad3/cremad_label3_m12new_best_11epoch.pt\n"
     ]
    },
    {
     "name": "stderr",
     "output_type": "stream",
     "text": [
      "  2%|███▌                                                                                                                                                                            | 1.0198019801980205/50 [00:25<17:43, 21.72s/it]"
     ]
    },
    {
     "name": "stdout",
     "output_type": "stream",
     "text": [
      "Train Epoch: 12 [0/2508 (0%)]\tLoss: 0.704264\n",
      "Mem before-during-after: 21056000 1941442560 21060096\n"
     ]
    },
    {
     "name": "stderr",
     "output_type": "stream",
     "text": [
      "  3%|████▉                                                                                                                                                                           | 1.4158415841584169/50 [00:36<22:04, 27.27s/it]"
     ]
    },
    {
     "name": "stdout",
     "output_type": "stream",
     "text": [
      "Train Epoch: 12 [1280/2508 (51%)]\tLoss: 0.566800\n",
      "Mem before-during-after: 21060096 1939503104 21060096\n"
     ]
    },
    {
     "name": "stderr",
     "output_type": "stream",
     "text": [
      "  4%|███████                                                                                                                                                                         | 2.0000000000000013/50 [00:50<15:40, 19.60s/it]"
     ]
    },
    {
     "name": "stdout",
     "output_type": "stream",
     "text": [
      "\n",
      "Test Epoch: 12\tAccuracy: 581/736 (77%)\n",
      "\n",
      "saved model: ../models_cremad3/cremad_label3_m12new_best_12epoch.pt\n"
     ]
    },
    {
     "name": "stderr",
     "output_type": "stream",
     "text": [
      "  4%|███████▏                                                                                                                                                                         | 2.019801980198021/50 [00:50<16:43, 20.92s/it]"
     ]
    },
    {
     "name": "stdout",
     "output_type": "stream",
     "text": [
      "Train Epoch: 13 [0/2508 (0%)]\tLoss: 0.783985\n",
      "Mem before-during-after: 21056000 1941442560 21060096\n"
     ]
    },
    {
     "name": "stderr",
     "output_type": "stream",
     "text": [
      "  5%|████████▍                                                                                                                                                                       | 2.4059405940594076/50 [01:00<21:49, 27.51s/it]"
     ]
    },
    {
     "name": "stdout",
     "output_type": "stream",
     "text": [
      "Train Epoch: 13 [1280/2508 (51%)]\tLoss: 0.492851\n",
      "Mem before-during-after: 21060096 1940281344 21060096\n"
     ]
    },
    {
     "name": "stderr",
     "output_type": "stream",
     "text": [
      "  6%|██████████▌                                                                                                                                                                      | 3.000000000000002/50 [01:15<16:14, 20.73s/it]"
     ]
    },
    {
     "name": "stdout",
     "output_type": "stream",
     "text": [
      "\n",
      "Test Epoch: 13\tAccuracy: 579/736 (76%)\n",
      "\n"
     ]
    },
    {
     "name": "stderr",
     "output_type": "stream",
     "text": [
      "  6%|██████████▋                                                                                                                                                                      | 3.009900990099012/50 [01:15<17:58, 22.96s/it]"
     ]
    },
    {
     "name": "stdout",
     "output_type": "stream",
     "text": [
      "Train Epoch: 14 [0/2508 (0%)]\tLoss: 0.438624\n",
      "Mem before-during-after: 21056000 1941442560 21060096\n"
     ]
    },
    {
     "name": "stderr",
     "output_type": "stream",
     "text": [
      "  7%|███████████▉                                                                                                                                                                    | 3.4059405940594085/50 [01:25<23:05, 29.74s/it]"
     ]
    },
    {
     "name": "stdout",
     "output_type": "stream",
     "text": [
      "Train Epoch: 14 [1280/2508 (51%)]\tLoss: 0.468595\n",
      "Mem before-during-after: 21060096 1940281344 21060096\n"
     ]
    },
    {
     "name": "stderr",
     "output_type": "stream",
     "text": [
      "  8%|██████████████▏                                                                                                                                                                  | 4.000000000000003/50 [01:39<14:48, 19.32s/it]"
     ]
    },
    {
     "name": "stdout",
     "output_type": "stream",
     "text": [
      "\n",
      "Test Epoch: 14\tAccuracy: 581/736 (77%)\n",
      "\n"
     ]
    },
    {
     "name": "stderr",
     "output_type": "stream",
     "text": [
      "  8%|██████████████▏                                                                                                                                                                 | 4.0198019801980225/50 [01:40<15:54, 20.76s/it]"
     ]
    },
    {
     "name": "stdout",
     "output_type": "stream",
     "text": [
      "Train Epoch: 15 [0/2508 (0%)]\tLoss: 0.738144\n",
      "Mem before-during-after: 21056000 1941442560 21060096\n"
     ]
    },
    {
     "name": "stderr",
     "output_type": "stream",
     "text": [
      "  9%|███████████████▌                                                                                                                                                                 | 4.405940594059409/50 [01:50<21:20, 28.08s/it]"
     ]
    },
    {
     "name": "stdout",
     "output_type": "stream",
     "text": [
      "Train Epoch: 15 [1280/2508 (51%)]\tLoss: 0.501296\n",
      "Mem before-during-after: 21060096 1940281344 21060096\n"
     ]
    },
    {
     "name": "stderr",
     "output_type": "stream",
     "text": [
      " 10%|█████████████████▌                                                                                                                                                              | 5.0000000000000036/50 [02:04<14:34, 19.44s/it]"
     ]
    },
    {
     "name": "stdout",
     "output_type": "stream",
     "text": [
      "\n",
      "Test Epoch: 15\tAccuracy: 578/736 (76%)\n",
      "\n"
     ]
    },
    {
     "name": "stderr",
     "output_type": "stream",
     "text": [
      " 10%|█████████████████▊                                                                                                                                                               | 5.019801980198023/50 [02:04<15:28, 20.65s/it]"
     ]
    },
    {
     "name": "stdout",
     "output_type": "stream",
     "text": [
      "Train Epoch: 16 [0/2508 (0%)]\tLoss: 0.555987\n",
      "Mem before-during-after: 21056000 1941442560 21060096\n"
     ]
    },
    {
     "name": "stderr",
     "output_type": "stream",
     "text": [
      " 11%|███████████████████▏                                                                                                                                                              | 5.40594059405941/50 [02:14<20:27, 27.53s/it]"
     ]
    },
    {
     "name": "stdout",
     "output_type": "stream",
     "text": [
      "Train Epoch: 16 [1280/2508 (51%)]\tLoss: 0.541986\n",
      "Mem before-during-after: 21060096 1940281344 21060096\n"
     ]
    },
    {
     "name": "stderr",
     "output_type": "stream",
     "text": [
      " 12%|█████████████████████▏                                                                                                                                                           | 6.000000000000004/50 [02:28<14:52, 20.28s/it]"
     ]
    },
    {
     "name": "stdout",
     "output_type": "stream",
     "text": [
      "\n",
      "Test Epoch: 16\tAccuracy: 582/736 (77%)\n",
      "\n",
      "saved model: ../models_cremad3/cremad_label3_m12new_best_16epoch.pt\n"
     ]
    },
    {
     "name": "stderr",
     "output_type": "stream",
     "text": [
      " 12%|█████████████████████▎                                                                                                                                                           | 6.019801980198024/50 [02:29<16:09, 22.04s/it]"
     ]
    },
    {
     "name": "stdout",
     "output_type": "stream",
     "text": [
      "Train Epoch: 17 [0/2508 (0%)]\tLoss: 0.644156\n",
      "Mem before-during-after: 21056000 1941442560 21060096\n"
     ]
    },
    {
     "name": "stderr",
     "output_type": "stream",
     "text": [
      " 13%|██████████████████████▋                                                                                                                                                          | 6.415841584158421/50 [02:39<18:21, 25.28s/it]"
     ]
    },
    {
     "name": "stdout",
     "output_type": "stream",
     "text": [
      "Train Epoch: 17 [1280/2508 (51%)]\tLoss: 0.643811\n",
      "Mem before-during-after: 21060096 1939503104 21060096\n"
     ]
    },
    {
     "name": "stderr",
     "output_type": "stream",
     "text": [
      " 14%|████████████████████████▊                                                                                                                                                        | 7.000000000000005/50 [02:53<13:41, 19.11s/it]"
     ]
    },
    {
     "name": "stdout",
     "output_type": "stream",
     "text": [
      "\n",
      "Test Epoch: 17\tAccuracy: 579/736 (76%)\n",
      "\n"
     ]
    },
    {
     "name": "stderr",
     "output_type": "stream",
     "text": [
      " 14%|████████████████████████▊                                                                                                                                                        | 7.009900990099015/50 [02:53<15:12, 21.23s/it]"
     ]
    },
    {
     "name": "stdout",
     "output_type": "stream",
     "text": [
      "Train Epoch: 18 [0/2508 (0%)]\tLoss: 0.607492\n",
      "Mem before-during-after: 21056000 1941442560 21060096\n"
     ]
    },
    {
     "name": "stderr",
     "output_type": "stream",
     "text": [
      " 15%|██████████████████████████▏                                                                                                                                                      | 7.405940594059412/50 [03:03<19:37, 27.64s/it]"
     ]
    },
    {
     "name": "stdout",
     "output_type": "stream",
     "text": [
      "Train Epoch: 18 [1280/2508 (51%)]\tLoss: 0.754397\n",
      "Mem before-during-after: 21060096 1938351616 21060096\n"
     ]
    },
    {
     "name": "stderr",
     "output_type": "stream",
     "text": [
      " 16%|████████████████████████████▎                                                                                                                                                    | 8.000000000000005/50 [03:17<13:55, 19.90s/it]"
     ]
    },
    {
     "name": "stdout",
     "output_type": "stream",
     "text": [
      "\n",
      "Test Epoch: 18\tAccuracy: 588/736 (77%)\n",
      "\n",
      "saved model: ../models_cremad3/cremad_label3_m12new_best_18epoch.pt\n"
     ]
    },
    {
     "name": "stderr",
     "output_type": "stream",
     "text": [
      " 16%|████████████████████████████▎                                                                                                                                                    | 8.009900990099014/50 [03:18<15:16, 21.83s/it]"
     ]
    },
    {
     "name": "stdout",
     "output_type": "stream",
     "text": [
      "Train Epoch: 19 [0/2508 (0%)]\tLoss: 0.510151\n",
      "Mem before-during-after: 21056000 1941442560 21060096\n"
     ]
    },
    {
     "name": "stderr",
     "output_type": "stream",
     "text": [
      " 17%|█████████████████████████████▊                                                                                                                                                   | 8.415841584158384/50 [03:28<17:25, 25.15s/it]"
     ]
    },
    {
     "name": "stdout",
     "output_type": "stream",
     "text": [
      "Train Epoch: 19 [1280/2508 (51%)]\tLoss: 0.450139\n",
      "Mem before-during-after: 21060096 1940281344 21060096\n"
     ]
    },
    {
     "name": "stderr",
     "output_type": "stream",
     "text": [
      " 18%|███████████████████████████████▊                                                                                                                                                 | 8.999999999999917/50 [03:42<13:07, 19.21s/it]"
     ]
    },
    {
     "name": "stdout",
     "output_type": "stream",
     "text": [
      "\n",
      "Test Epoch: 19\tAccuracy: 582/736 (77%)\n",
      "\n"
     ]
    },
    {
     "name": "stderr",
     "output_type": "stream",
     "text": [
      " 18%|███████████████████████████████▉                                                                                                                                                 | 9.019801980197935/50 [03:43<14:14, 20.85s/it]"
     ]
    },
    {
     "name": "stdout",
     "output_type": "stream",
     "text": [
      "Train Epoch: 20 [0/2508 (0%)]\tLoss: 0.453713\n",
      "Mem before-during-after: 21056000 1941442560 21060096\n"
     ]
    },
    {
     "name": "stderr",
     "output_type": "stream",
     "text": [
      " 19%|█████████████████████████████████▎                                                                                                                                               | 9.405940594059286/50 [03:53<18:25, 27.22s/it]"
     ]
    },
    {
     "name": "stdout",
     "output_type": "stream",
     "text": [
      "Train Epoch: 20 [1280/2508 (51%)]\tLoss: 0.515461\n",
      "Mem before-during-after: 21060096 1940281344 21060096\n"
     ]
    },
    {
     "name": "stderr",
     "output_type": "stream",
     "text": [
      " 20%|███████████████████████████████████▍                                                                                                                                             | 9.999999999999828/50 [04:07<13:34, 20.37s/it]"
     ]
    },
    {
     "name": "stdout",
     "output_type": "stream",
     "text": [
      "\n",
      "Test Epoch: 20\tAccuracy: 584/736 (77%)\n",
      "\n"
     ]
    },
    {
     "name": "stderr",
     "output_type": "stream",
     "text": [
      " 20%|███████████████████████████████████▏                                                                                                                                            | 10.009900990098837/50 [04:07<14:50, 22.26s/it]"
     ]
    },
    {
     "name": "stdout",
     "output_type": "stream",
     "text": [
      "Train Epoch: 21 [0/2508 (0%)]\tLoss: 0.352268\n",
      "Mem before-during-after: 21056000 1941442560 21060096\n"
     ]
    },
    {
     "name": "stderr",
     "output_type": "stream",
     "text": [
      " 21%|████████████████████████████████████▋                                                                                                                                           | 10.405940594059198/50 [04:17<18:38, 28.25s/it]"
     ]
    },
    {
     "name": "stdout",
     "output_type": "stream",
     "text": [
      "Train Epoch: 21 [1280/2508 (51%)]\tLoss: 0.627884\n",
      "Mem before-during-after: 21060096 1939503104 21060096\n"
     ]
    },
    {
     "name": "stderr",
     "output_type": "stream",
     "text": [
      " 22%|██████████████████████████████████████▋                                                                                                                                         | 10.999999999999739/50 [04:31<12:53, 19.83s/it]"
     ]
    },
    {
     "name": "stdout",
     "output_type": "stream",
     "text": [
      "\n",
      "Test Epoch: 21\tAccuracy: 586/736 (77%)\n",
      "\n"
     ]
    },
    {
     "name": "stderr",
     "output_type": "stream",
     "text": [
      " 22%|██████████████████████████████████████▊                                                                                                                                         | 11.009900990098748/50 [04:32<13:59, 21.52s/it]"
     ]
    },
    {
     "name": "stdout",
     "output_type": "stream",
     "text": [
      "Train Epoch: 22 [0/2508 (0%)]\tLoss: 0.639618\n",
      "Mem before-during-after: 21056000 1941442560 21060096\n"
     ]
    },
    {
     "name": "stderr",
     "output_type": "stream",
     "text": [
      " 23%|████████████████████████████████████████▏                                                                                                                                       | 11.405940594059109/50 [04:42<17:42, 27.52s/it]"
     ]
    },
    {
     "name": "stdout",
     "output_type": "stream",
     "text": [
      "Train Epoch: 22 [1280/2508 (51%)]\tLoss: 0.623801\n",
      "Mem before-during-after: 21060096 1940281344 21060096\n"
     ]
    },
    {
     "name": "stderr",
     "output_type": "stream",
     "text": [
      " 24%|██████████████████████████████████████████▍                                                                                                                                      | 11.99999999999965/50 [04:56<12:14, 19.34s/it]"
     ]
    },
    {
     "name": "stdout",
     "output_type": "stream",
     "text": [
      "\n",
      "Test Epoch: 22\tAccuracy: 584/736 (77%)\n",
      "\n"
     ]
    },
    {
     "name": "stderr",
     "output_type": "stream",
     "text": [
      " 24%|██████████████████████████████████████████▎                                                                                                                                     | 12.009900990098659/50 [04:57<13:24, 21.17s/it]"
     ]
    },
    {
     "name": "stdout",
     "output_type": "stream",
     "text": [
      "Train Epoch: 23 [0/2508 (0%)]\tLoss: 0.342155\n",
      "Mem before-during-after: 21056000 1941442560 21060096\n"
     ]
    },
    {
     "name": "stderr",
     "output_type": "stream",
     "text": [
      " 25%|███████████████████████████████████████████▉                                                                                                                                     | 12.40594059405902/50 [05:07<17:08, 27.37s/it]"
     ]
    },
    {
     "name": "stdout",
     "output_type": "stream",
     "text": [
      "Train Epoch: 23 [1280/2508 (51%)]\tLoss: 0.518526\n",
      "Mem before-during-after: 21060096 1940191232 21060096\n"
     ]
    },
    {
     "name": "stderr",
     "output_type": "stream",
     "text": [
      " 26%|█████████████████████████████████████████████▊                                                                                                                                  | 12.999999999999561/50 [05:21<12:18, 19.95s/it]"
     ]
    },
    {
     "name": "stdout",
     "output_type": "stream",
     "text": [
      "\n",
      "Test Epoch: 23\tAccuracy: 583/736 (77%)\n",
      "\n"
     ]
    },
    {
     "name": "stderr",
     "output_type": "stream",
     "text": [
      " 26%|██████████████████████████████████████████████                                                                                                                                   | 13.01980198019758/50 [05:22<12:48, 20.79s/it]"
     ]
    },
    {
     "name": "stdout",
     "output_type": "stream",
     "text": [
      "Train Epoch: 24 [0/2508 (0%)]\tLoss: 0.569771\n",
      "Mem before-during-after: 21056000 1941442560 21060096\n"
     ]
    },
    {
     "name": "stderr",
     "output_type": "stream",
     "text": [
      " 27%|███████████████████████████████████████████████▏                                                                                                                                | 13.405940594058931/50 [05:32<16:58, 27.83s/it]"
     ]
    },
    {
     "name": "stdout",
     "output_type": "stream",
     "text": [
      "Train Epoch: 24 [1280/2508 (51%)]\tLoss: 0.601049\n",
      "Mem before-during-after: 21060096 1940281344 21060096\n"
     ]
    },
    {
     "name": "stderr",
     "output_type": "stream",
     "text": [
      " 28%|█████████████████████████████████████████████████▎                                                                                                                              | 13.999999999999472/50 [05:46<11:49, 19.71s/it]"
     ]
    },
    {
     "name": "stdout",
     "output_type": "stream",
     "text": [
      "\n",
      "Test Epoch: 24\tAccuracy: 592/736 (78%)\n",
      "\n",
      "saved model: ../models_cremad3/cremad_label3_m12new_best_24epoch.pt\n"
     ]
    },
    {
     "name": "stderr",
     "output_type": "stream",
     "text": [
      " 28%|█████████████████████████████████████████████████▋                                                                                                                               | 14.01980198019749/50 [05:47<12:34, 20.97s/it]"
     ]
    },
    {
     "name": "stdout",
     "output_type": "stream",
     "text": [
      "Train Epoch: 25 [0/2508 (0%)]\tLoss: 0.615991\n",
      "Mem before-during-after: 21056000 1941442560 21060096\n"
     ]
    },
    {
     "name": "stderr",
     "output_type": "stream",
     "text": [
      " 29%|██████████████████████████████████████████████████▋                                                                                                                             | 14.405940594058842/50 [05:57<16:14, 27.38s/it]"
     ]
    },
    {
     "name": "stdout",
     "output_type": "stream",
     "text": [
      "Train Epoch: 25 [1280/2508 (51%)]\tLoss: 0.585479\n",
      "Mem before-during-after: 21060096 1940281344 21060096\n"
     ]
    },
    {
     "name": "stderr",
     "output_type": "stream",
     "text": [
      " 30%|████████████████████████████████████████████████████▊                                                                                                                           | 14.999999999999384/50 [06:11<11:13, 19.24s/it]"
     ]
    },
    {
     "name": "stdout",
     "output_type": "stream",
     "text": [
      "\n",
      "Test Epoch: 25\tAccuracy: 581/736 (77%)\n",
      "\n"
     ]
    },
    {
     "name": "stderr",
     "output_type": "stream",
     "text": [
      " 30%|████████████████████████████████████████████████████▊                                                                                                                           | 15.019801980197402/50 [06:12<12:06, 20.77s/it]"
     ]
    },
    {
     "name": "stdout",
     "output_type": "stream",
     "text": [
      "Train Epoch: 26 [0/2508 (0%)]\tLoss: 0.670046\n",
      "Mem before-during-after: 21056000 1941442560 21060096\n"
     ]
    },
    {
     "name": "stderr",
     "output_type": "stream",
     "text": [
      " 31%|██████████████████████████████████████████████████████▏                                                                                                                         | 15.405940594058753/50 [06:22<15:46, 27.36s/it]"
     ]
    },
    {
     "name": "stdout",
     "output_type": "stream",
     "text": [
      "Train Epoch: 26 [1280/2508 (51%)]\tLoss: 0.382613\n",
      "Mem before-during-after: 21060096 1940281344 21060096\n"
     ]
    },
    {
     "name": "stderr",
     "output_type": "stream",
     "text": [
      " 32%|████████████████████████████████████████████████████████▎                                                                                                                       | 15.999999999999295/50 [06:36<11:17, 19.93s/it]"
     ]
    },
    {
     "name": "stdout",
     "output_type": "stream",
     "text": [
      "\n",
      "Test Epoch: 26\tAccuracy: 596/736 (79%)\n",
      "\n",
      "saved model: ../models_cremad3/cremad_label3_m12new_best_26epoch.pt\n"
     ]
    },
    {
     "name": "stderr",
     "output_type": "stream",
     "text": [
      " 32%|████████████████████████████████████████████████████████▎                                                                                                                       | 16.009900990098306/50 [06:36<12:15, 21.64s/it]"
     ]
    },
    {
     "name": "stdout",
     "output_type": "stream",
     "text": [
      "Train Epoch: 27 [0/2508 (0%)]\tLoss: 0.420001\n",
      "Mem before-during-after: 21056000 1936254464 21060096\n"
     ]
    },
    {
     "name": "stderr",
     "output_type": "stream",
     "text": [
      " 33%|█████████████████████████████████████████████████████████▋                                                                                                                      | 16.405940594058666/50 [06:46<15:31, 27.74s/it]"
     ]
    },
    {
     "name": "stdout",
     "output_type": "stream",
     "text": [
      "Train Epoch: 27 [1280/2508 (51%)]\tLoss: 0.546197\n",
      "Mem before-during-after: 21060096 1939765248 21060096\n"
     ]
    },
    {
     "name": "stderr",
     "output_type": "stream",
     "text": [
      " 34%|███████████████████████████████████████████████████████████▊                                                                                                                    | 16.999999999999208/50 [07:00<10:29, 19.09s/it]"
     ]
    },
    {
     "name": "stdout",
     "output_type": "stream",
     "text": [
      "\n",
      "Test Epoch: 27\tAccuracy: 587/736 (77%)\n",
      "\n"
     ]
    },
    {
     "name": "stderr",
     "output_type": "stream",
     "text": [
      " 34%|███████████████████████████████████████████████████████████▊                                                                                                                    | 17.009900990098217/50 [07:01<11:31, 20.96s/it]"
     ]
    },
    {
     "name": "stdout",
     "output_type": "stream",
     "text": [
      "Train Epoch: 28 [0/2508 (0%)]\tLoss: 0.456843\n",
      "Mem before-during-after: 21056000 1941442560 21060096\n"
     ]
    },
    {
     "name": "stderr",
     "output_type": "stream",
     "text": [
      " 35%|█████████████████████████████████████████████████████████████▎                                                                                                                  | 17.405940594058578/50 [07:11<15:35, 28.70s/it]"
     ]
    },
    {
     "name": "stdout",
     "output_type": "stream",
     "text": [
      "Train Epoch: 28 [1280/2508 (51%)]\tLoss: 0.542243\n",
      "Mem before-during-after: 21060096 1940281344 21060096\n"
     ]
    },
    {
     "name": "stderr",
     "output_type": "stream",
     "text": [
      " 36%|███████████████████████████████████████████████████████████████▋                                                                                                                 | 17.99999999999912/50 [07:25<10:25, 19.55s/it]"
     ]
    },
    {
     "name": "stdout",
     "output_type": "stream",
     "text": [
      "\n",
      "Test Epoch: 28\tAccuracy: 598/736 (79%)\n",
      "\n",
      "saved model: ../models_cremad3/cremad_label3_m12new_best_28epoch.pt\n"
     ]
    },
    {
     "name": "stderr",
     "output_type": "stream",
     "text": [
      " 36%|███████████████████████████████████████████████████████████████▍                                                                                                                | 18.019801980197137/50 [07:26<11:14, 21.10s/it]"
     ]
    },
    {
     "name": "stdout",
     "output_type": "stream",
     "text": [
      "Train Epoch: 29 [0/2508 (0%)]\tLoss: 0.455695\n",
      "Mem before-during-after: 21056000 1941442560 21060096\n"
     ]
    },
    {
     "name": "stderr",
     "output_type": "stream",
     "text": [
      " 37%|█████████████████████████████████████████████████████████████████▏                                                                                                               | 18.40594059405849/50 [07:36<14:36, 27.75s/it]"
     ]
    },
    {
     "name": "stdout",
     "output_type": "stream",
     "text": [
      "Train Epoch: 29 [1280/2508 (51%)]\tLoss: 0.875559\n",
      "Mem before-during-after: 21060096 1940281344 21060096\n"
     ]
    },
    {
     "name": "stderr",
     "output_type": "stream",
     "text": [
      " 38%|███████████████████████████████████████████████████████████████████▎                                                                                                             | 18.99999999999903/50 [07:50<10:05, 19.54s/it]"
     ]
    },
    {
     "name": "stdout",
     "output_type": "stream",
     "text": [
      "\n",
      "Test Epoch: 29\tAccuracy: 590/736 (78%)\n",
      "\n"
     ]
    },
    {
     "name": "stderr",
     "output_type": "stream",
     "text": [
      " 38%|██████████████████████████████████████████████████████████████████▉                                                                                                             | 19.019801980197048/50 [07:51<10:53, 21.08s/it]"
     ]
    },
    {
     "name": "stdout",
     "output_type": "stream",
     "text": [
      "Train Epoch: 30 [0/2508 (0%)]\tLoss: 0.643866\n",
      "Mem before-during-after: 21056000 1941442560 21060096\n"
     ]
    },
    {
     "name": "stderr",
     "output_type": "stream",
     "text": [
      " 39%|█████████████████████████████████████████████████████████████████████                                                                                                             | 19.4059405940584/50 [08:01<14:53, 29.19s/it]"
     ]
    },
    {
     "name": "stdout",
     "output_type": "stream",
     "text": [
      "Train Epoch: 30 [1280/2508 (51%)]\tLoss: 0.430609\n",
      "Mem before-during-after: 21060096 1940281344 21060096\n"
     ]
    },
    {
     "name": "stderr",
     "output_type": "stream",
     "text": [
      " 40%|██████████████████████████████████████████████████████████████████████▊                                                                                                          | 19.99999999999894/50 [08:15<09:35, 19.18s/it]"
     ]
    },
    {
     "name": "stdout",
     "output_type": "stream",
     "text": [
      "\n",
      "Test Epoch: 30\tAccuracy: 598/736 (79%)\n",
      "\n"
     ]
    },
    {
     "name": "stderr",
     "output_type": "stream",
     "text": [
      " 40%|██████████████████████████████████████████████████████████████████████▊                                                                                                          | 20.01980198019696/50 [08:16<10:26, 20.91s/it]"
     ]
    },
    {
     "name": "stdout",
     "output_type": "stream",
     "text": [
      "Train Epoch: 31 [0/2508 (0%)]\tLoss: 0.606744\n",
      "Mem before-during-after: 21056000 1941442560 21060096\n"
     ]
    },
    {
     "name": "stderr",
     "output_type": "stream",
     "text": [
      " 41%|████████████████████████████████████████████████████████████████████████▏                                                                                                        | 20.40594059405831/50 [08:26<15:09, 30.73s/it]"
     ]
    },
    {
     "name": "stdout",
     "output_type": "stream",
     "text": [
      "Train Epoch: 31 [1280/2508 (51%)]\tLoss: 0.456326\n",
      "Mem before-during-after: 21060096 1940281344 21060096\n"
     ]
    },
    {
     "name": "stderr",
     "output_type": "stream",
     "text": [
      " 42%|█████████████████████████████████████████████████████████████████████████▉                                                                                                      | 20.999999999998852/50 [08:40<09:21, 19.37s/it]"
     ]
    },
    {
     "name": "stdout",
     "output_type": "stream",
     "text": [
      "\n",
      "Test Epoch: 31\tAccuracy: 591/736 (78%)\n",
      "\n"
     ]
    },
    {
     "name": "stderr",
     "output_type": "stream",
     "text": [
      " 42%|██████████████████████████████████████████████████████████████████████████▍                                                                                                      | 21.00990099009786/50 [08:40<10:26, 21.61s/it]"
     ]
    },
    {
     "name": "stdout",
     "output_type": "stream",
     "text": [
      "Train Epoch: 32 [0/2508 (0%)]\tLoss: 0.531876\n",
      "Mem before-during-after: 21056000 1941442560 21060096\n"
     ]
    },
    {
     "name": "stderr",
     "output_type": "stream",
     "text": [
      " 43%|███████████████████████████████████████████████████████████████████████████▎                                                                                                    | 21.405940594058222/50 [08:50<12:52, 27.03s/it]"
     ]
    },
    {
     "name": "stdout",
     "output_type": "stream",
     "text": [
      "Train Epoch: 32 [1280/2508 (51%)]\tLoss: 0.499696\n",
      "Mem before-during-after: 21060096 1940281344 21060096\n"
     ]
    },
    {
     "name": "stderr",
     "output_type": "stream",
     "text": [
      " 44%|█████████████████████████████████████████████████████████████████████████████▍                                                                                                  | 21.999999999998764/50 [09:04<08:49, 18.90s/it]"
     ]
    },
    {
     "name": "stdout",
     "output_type": "stream",
     "text": [
      "\n",
      "Test Epoch: 32\tAccuracy: 588/736 (77%)\n",
      "\n"
     ]
    },
    {
     "name": "stderr",
     "output_type": "stream",
     "text": [
      " 44%|█████████████████████████████████████████████████████████████████████████████▉                                                                                                   | 22.01980198019678/50 [09:05<09:41, 20.78s/it]"
     ]
    },
    {
     "name": "stdout",
     "output_type": "stream",
     "text": [
      "Train Epoch: 33 [0/2508 (0%)]\tLoss: 0.511493\n",
      "Mem before-during-after: 21056000 1941442560 21060096\n"
     ]
    },
    {
     "name": "stderr",
     "output_type": "stream",
     "text": [
      " 45%|██████████████████████████████████████████████████████████████████████████████▊                                                                                                 | 22.405940594058134/50 [09:15<12:49, 27.90s/it]"
     ]
    },
    {
     "name": "stdout",
     "output_type": "stream",
     "text": [
      "Train Epoch: 33 [1280/2508 (51%)]\tLoss: 0.519942\n",
      "Mem before-during-after: 21060096 1940281344 21060096\n"
     ]
    },
    {
     "name": "stderr",
     "output_type": "stream",
     "text": [
      " 46%|████████████████████████████████████████████████████████████████████████████████▉                                                                                               | 22.999999999998675/50 [09:29<08:46, 19.51s/it]"
     ]
    },
    {
     "name": "stdout",
     "output_type": "stream",
     "text": [
      "\n",
      "Test Epoch: 33\tAccuracy: 595/736 (78%)\n",
      "\n"
     ]
    },
    {
     "name": "stderr",
     "output_type": "stream",
     "text": [
      " 46%|█████████████████████████████████████████████████████████████████████████████████                                                                                               | 23.019801980196693/50 [09:29<09:13, 20.51s/it]"
     ]
    },
    {
     "name": "stdout",
     "output_type": "stream",
     "text": [
      "Train Epoch: 34 [0/2508 (0%)]\tLoss: 0.507361\n",
      "Mem before-during-after: 21056000 1936254464 21060096\n"
     ]
    },
    {
     "name": "stderr",
     "output_type": "stream",
     "text": [
      " 47%|██████████████████████████████████████████████████████████████████████████████████▍                                                                                             | 23.405940594058045/50 [09:39<12:03, 27.22s/it]"
     ]
    },
    {
     "name": "stdout",
     "output_type": "stream",
     "text": [
      "Train Epoch: 34 [1280/2508 (51%)]\tLoss: 0.551797\n",
      "Mem before-during-after: 21060096 1939765248 21060096\n"
     ]
    },
    {
     "name": "stderr",
     "output_type": "stream",
     "text": [
      " 48%|████████████████████████████████████████████████████████████████████████████████████▍                                                                                           | 23.999999999998586/50 [09:53<08:32, 19.70s/it]"
     ]
    },
    {
     "name": "stdout",
     "output_type": "stream",
     "text": [
      "\n",
      "Test Epoch: 34\tAccuracy: 588/736 (77%)\n",
      "\n"
     ]
    },
    {
     "name": "stderr",
     "output_type": "stream",
     "text": [
      " 48%|████████████████████████████████████████████████████████████████████████████████████▌                                                                                           | 24.019801980196604/50 [09:54<09:04, 20.95s/it]"
     ]
    },
    {
     "name": "stdout",
     "output_type": "stream",
     "text": [
      "Train Epoch: 35 [0/2508 (0%)]\tLoss: 0.694638\n",
      "Mem before-during-after: 21056000 1941442560 21060096\n"
     ]
    },
    {
     "name": "stderr",
     "output_type": "stream",
     "text": [
      " 49%|█████████████████████████████████████████████████████████████████████████████████████▉                                                                                          | 24.405940594057956/50 [10:04<12:30, 29.32s/it]"
     ]
    },
    {
     "name": "stdout",
     "output_type": "stream",
     "text": [
      "Train Epoch: 35 [1280/2508 (51%)]\tLoss: 0.343827\n",
      "Mem before-during-after: 21060096 1939503104 21060096\n"
     ]
    },
    {
     "name": "stderr",
     "output_type": "stream",
     "text": [
      " 50%|███████████████████████████████████████████████████████████████████████████████████████▉                                                                                        | 24.999999999998497/50 [10:18<08:06, 19.46s/it]"
     ]
    },
    {
     "name": "stdout",
     "output_type": "stream",
     "text": [
      "\n",
      "Test Epoch: 35\tAccuracy: 560/736 (74%)\n",
      "\n"
     ]
    },
    {
     "name": "stderr",
     "output_type": "stream",
     "text": [
      " 50%|████████████████████████████████████████████████████████████████████████████████████████                                                                                        | 25.019801980196515/50 [10:18<08:56, 21.48s/it]"
     ]
    },
    {
     "name": "stdout",
     "output_type": "stream",
     "text": [
      "Train Epoch: 36 [0/2508 (0%)]\tLoss: 0.677446\n",
      "Mem before-during-after: 21056000 1941442560 21060096\n"
     ]
    },
    {
     "name": "stderr",
     "output_type": "stream",
     "text": [
      " 51%|█████████████████████████████████████████████████████████████████████████████████████████▍                                                                                      | 25.405940594057867/50 [10:29<11:57, 29.18s/it]"
     ]
    },
    {
     "name": "stdout",
     "output_type": "stream",
     "text": [
      "Train Epoch: 36 [1280/2508 (51%)]\tLoss: 0.540364\n",
      "Mem before-during-after: 21060096 1939503104 21060096\n"
     ]
    },
    {
     "name": "stderr",
     "output_type": "stream",
     "text": [
      " 52%|████████████████████████████████████████████████████████████████████████████████████████████                                                                                     | 25.99999999999841/50 [10:43<07:35, 18.98s/it]"
     ]
    },
    {
     "name": "stdout",
     "output_type": "stream",
     "text": [
      "\n",
      "Test Epoch: 36\tAccuracy: 576/736 (76%)\n",
      "\n"
     ]
    },
    {
     "name": "stderr",
     "output_type": "stream",
     "text": [
      " 52%|███████████████████████████████████████████████████████████████████████████████████████████▌                                                                                    | 26.019801980196426/50 [10:43<08:19, 20.84s/it]"
     ]
    },
    {
     "name": "stdout",
     "output_type": "stream",
     "text": [
      "Train Epoch: 37 [0/2508 (0%)]\tLoss: 0.443275\n",
      "Mem before-during-after: 21056000 1941442560 21060096\n"
     ]
    },
    {
     "name": "stderr",
     "output_type": "stream",
     "text": [
      " 53%|█████████████████████████████████████████████████████████████████████████████████████████████▍                                                                                   | 26.40594059405778/50 [10:53<10:44, 27.33s/it]"
     ]
    },
    {
     "name": "stdout",
     "output_type": "stream",
     "text": [
      "Train Epoch: 37 [1280/2508 (51%)]\tLoss: 0.610449\n",
      "Mem before-during-after: 21060096 1940281344 21060096\n"
     ]
    },
    {
     "name": "stderr",
     "output_type": "stream",
     "text": [
      " 54%|███████████████████████████████████████████████████████████████████████████████████████████████▌                                                                                 | 26.99999999999832/50 [11:07<07:13, 18.87s/it]"
     ]
    },
    {
     "name": "stdout",
     "output_type": "stream",
     "text": [
      "\n",
      "Test Epoch: 37\tAccuracy: 588/736 (77%)\n",
      "\n"
     ]
    },
    {
     "name": "stderr",
     "output_type": "stream",
     "text": [
      " 54%|███████████████████████████████████████████████████████████████████████████████████████████████▌                                                                                 | 27.00990099009733/50 [11:08<08:05, 21.13s/it]"
     ]
    },
    {
     "name": "stdout",
     "output_type": "stream",
     "text": [
      "Train Epoch: 38 [0/2508 (0%)]\tLoss: 0.632808\n",
      "Mem before-during-after: 21056000 1941442560 21060096\n"
     ]
    },
    {
     "name": "stderr",
     "output_type": "stream",
     "text": [
      " 55%|█████████████████████████████████████████████████████████████████████████████████████████████████                                                                                | 27.40594059405769/50 [11:18<10:25, 27.69s/it]"
     ]
    },
    {
     "name": "stdout",
     "output_type": "stream",
     "text": [
      "Train Epoch: 38 [1280/2508 (51%)]\tLoss: 0.618044\n",
      "Mem before-during-after: 21060096 1940281344 21060096\n"
     ]
    },
    {
     "name": "stderr",
     "output_type": "stream",
     "text": [
      " 56%|███████████████████████████████████████████████████████████████████████████████████████████████████                                                                              | 27.99999999999823/50 [11:32<07:07, 19.45s/it]"
     ]
    },
    {
     "name": "stdout",
     "output_type": "stream",
     "text": [
      "\n",
      "Test Epoch: 38\tAccuracy: 580/736 (76%)\n",
      "\n"
     ]
    },
    {
     "name": "stderr",
     "output_type": "stream",
     "text": [
      " 56%|███████████████████████████████████████████████████████████████████████████████████████████████████▏                                                                             | 28.00990099009724/50 [11:33<07:56, 21.66s/it]"
     ]
    },
    {
     "name": "stdout",
     "output_type": "stream",
     "text": [
      "Train Epoch: 39 [0/2508 (0%)]\tLoss: 0.448962\n",
      "Mem before-during-after: 21056000 1941442560 21060096\n"
     ]
    },
    {
     "name": "stderr",
     "output_type": "stream",
     "text": [
      " 57%|█████████████████████████████████████████████████████████████████████████████████████████████████████▏                                                                            | 28.4059405940576/50 [11:43<10:04, 27.98s/it]"
     ]
    },
    {
     "name": "stdout",
     "output_type": "stream",
     "text": [
      "Train Epoch: 39 [1280/2508 (51%)]\tLoss: 0.744586\n",
      "Mem before-during-after: 21060096 1940281344 21060096\n"
     ]
    },
    {
     "name": "stderr",
     "output_type": "stream",
     "text": [
      " 58%|██████████████████████████████████████████████████████████████████████████████████████████████████████                                                                          | 28.999999999998142/50 [11:58<07:10, 20.51s/it]"
     ]
    },
    {
     "name": "stdout",
     "output_type": "stream",
     "text": [
      "\n",
      "Test Epoch: 39\tAccuracy: 590/736 (78%)\n",
      "\n"
     ]
    },
    {
     "name": "stderr",
     "output_type": "stream",
     "text": [
      " 58%|██████████████████████████████████████████████████████████████████████████████████████████████████████▋                                                                          | 29.01980198019616/50 [11:58<07:31, 21.50s/it]"
     ]
    },
    {
     "name": "stdout",
     "output_type": "stream",
     "text": [
      "Train Epoch: 40 [0/2508 (0%)]\tLoss: 0.676621\n",
      "Mem before-during-after: 21056000 1941442560 21060096\n"
     ]
    },
    {
     "name": "stderr",
     "output_type": "stream",
     "text": [
      " 59%|███████████████████████████████████████████████████████████████████████████████████████████████████████▌                                                                        | 29.405940594057512/50 [12:09<09:27, 27.57s/it]"
     ]
    },
    {
     "name": "stdout",
     "output_type": "stream",
     "text": [
      "Train Epoch: 40 [1280/2508 (51%)]\tLoss: 0.597314\n",
      "Mem before-during-after: 21060096 1940281344 21060096\n"
     ]
    },
    {
     "name": "stderr",
     "output_type": "stream",
     "text": [
      " 60%|█████████████████████████████████████████████████████████████████████████████████████████████████████████▌                                                                      | 29.999999999998053/50 [12:23<06:24, 19.25s/it]"
     ]
    },
    {
     "name": "stdout",
     "output_type": "stream",
     "text": [
      "\n",
      "Test Epoch: 40\tAccuracy: 587/736 (77%)\n",
      "\n"
     ]
    },
    {
     "name": "stderr",
     "output_type": "stream",
     "text": [
      " 60%|██████████████████████████████████████████████████████████████████████████████████████████████████████████▎                                                                      | 30.01980198019607/50 [12:23<06:56, 20.86s/it]"
     ]
    },
    {
     "name": "stdout",
     "output_type": "stream",
     "text": [
      "Train Epoch: 41 [0/2508 (0%)]\tLoss: 0.771528\n",
      "Mem before-during-after: 21056000 1941442560 21060096\n"
     ]
    },
    {
     "name": "stderr",
     "output_type": "stream",
     "text": [
      " 61%|███████████████████████████████████████████████████████████████████████████████████████████████████████████                                                                     | 30.405940594057423/50 [12:33<08:59, 27.51s/it]"
     ]
    },
    {
     "name": "stdout",
     "output_type": "stream",
     "text": [
      "Train Epoch: 41 [1280/2508 (51%)]\tLoss: 0.575098\n",
      "Mem before-during-after: 21060096 1939503104 21060096\n"
     ]
    },
    {
     "name": "stderr",
     "output_type": "stream",
     "text": [
      " 62%|█████████████████████████████████████████████████████████████████████████████████████████████████████████████                                                                   | 30.999999999997964/50 [12:47<05:55, 18.74s/it]"
     ]
    },
    {
     "name": "stdout",
     "output_type": "stream",
     "text": [
      "\n",
      "Test Epoch: 41\tAccuracy: 571/736 (75%)\n",
      "\n"
     ]
    },
    {
     "name": "stderr",
     "output_type": "stream",
     "text": [
      " 62%|█████████████████████████████████████████████████████████████████████████████████████████████████████████████▏                                                                  | 31.019801980195982/50 [12:47<06:31, 20.63s/it]"
     ]
    },
    {
     "name": "stdout",
     "output_type": "stream",
     "text": [
      "Train Epoch: 42 [0/2508 (0%)]\tLoss: 0.313831\n",
      "Mem before-during-after: 21056000 1941442560 21060096\n"
     ]
    },
    {
     "name": "stderr",
     "output_type": "stream",
     "text": [
      " 63%|██████████████████████████████████████████████████████████████████████████████████████████████████████████████▌                                                                 | 31.405940594057334/50 [12:58<08:35, 27.73s/it]"
     ]
    },
    {
     "name": "stdout",
     "output_type": "stream",
     "text": [
      "Train Epoch: 42 [1280/2508 (51%)]\tLoss: 0.667098\n",
      "Mem before-during-after: 21060096 1940281344 21060096\n"
     ]
    },
    {
     "name": "stderr",
     "output_type": "stream",
     "text": [
      " 64%|████████████████████████████████████████████████████████████████████████████████████████████████████████████████▋                                                               | 31.999999999997875/50 [13:12<06:06, 20.37s/it]"
     ]
    },
    {
     "name": "stdout",
     "output_type": "stream",
     "text": [
      "\n",
      "Test Epoch: 42\tAccuracy: 598/736 (79%)\n",
      "\n"
     ]
    },
    {
     "name": "stderr",
     "output_type": "stream",
     "text": [
      " 64%|█████████████████████████████████████████████████████████████████████████████████████████████████████████████████▉                                                                | 32.0198019801959/50 [13:13<06:22, 21.29s/it]"
     ]
    },
    {
     "name": "stdout",
     "output_type": "stream",
     "text": [
      "Train Epoch: 43 [0/2508 (0%)]\tLoss: 0.501622\n",
      "Mem before-during-after: 21056000 1941442560 21060096\n"
     ]
    },
    {
     "name": "stderr",
     "output_type": "stream",
     "text": [
      " 65%|██████████████████████████████████████████████████████████████████████████████████████████████████████████████████▋                                                              | 32.40594059405739/50 [13:23<08:16, 28.19s/it]"
     ]
    },
    {
     "name": "stdout",
     "output_type": "stream",
     "text": [
      "Train Epoch: 43 [1280/2508 (51%)]\tLoss: 0.522634\n",
      "Mem before-during-after: 21060096 1940281344 21060096\n"
     ]
    },
    {
     "name": "stderr",
     "output_type": "stream",
     "text": [
      " 66%|████████████████████████████████████████████████████████████████████████████████████████████████████████████████████▏                                                           | 32.999999999998145/50 [13:37<05:38, 19.91s/it]"
     ]
    },
    {
     "name": "stdout",
     "output_type": "stream",
     "text": [
      "\n",
      "Test Epoch: 43\tAccuracy: 595/736 (78%)\n",
      "\n"
     ]
    },
    {
     "name": "stderr",
     "output_type": "stream",
     "text": [
      " 66%|████████████████████████████████████████████████████████████████████████████████████████████████████████████████████▉                                                            | 33.01980198019617/50 [13:37<06:08, 21.71s/it]"
     ]
    },
    {
     "name": "stdout",
     "output_type": "stream",
     "text": [
      "Train Epoch: 44 [0/2508 (0%)]\tLoss: 0.567857\n",
      "Mem before-during-after: 21056000 1941442560 21060096\n"
     ]
    },
    {
     "name": "stderr",
     "output_type": "stream",
     "text": [
      " 67%|██████████████████████████████████████████████████████████████████████████████████████████████████████████████████████▎                                                          | 33.40594059405766/50 [13:48<07:40, 27.77s/it]"
     ]
    },
    {
     "name": "stdout",
     "output_type": "stream",
     "text": [
      "Train Epoch: 44 [1280/2508 (51%)]\tLoss: 0.466336\n",
      "Mem before-during-after: 21060096 1940281344 21060096\n"
     ]
    },
    {
     "name": "stderr",
     "output_type": "stream",
     "text": [
      " 68%|███████████████████████████████████████████████████████████████████████████████████████████████████████████████████████▋                                                        | 33.999999999998415/50 [14:02<05:14, 19.64s/it]"
     ]
    },
    {
     "name": "stdout",
     "output_type": "stream",
     "text": [
      "\n",
      "Test Epoch: 44\tAccuracy: 592/736 (78%)\n",
      "\n"
     ]
    },
    {
     "name": "stderr",
     "output_type": "stream",
     "text": [
      " 68%|████████████████████████████████████████████████████████████████████████████████████████████████████████████████████████▍                                                        | 34.01980198019644/50 [14:02<05:36, 21.03s/it]"
     ]
    },
    {
     "name": "stdout",
     "output_type": "stream",
     "text": [
      "Train Epoch: 45 [0/2508 (0%)]\tLoss: 0.360945\n",
      "Mem before-during-after: 21056000 1941442560 21060096\n"
     ]
    },
    {
     "name": "stderr",
     "output_type": "stream",
     "text": [
      " 69%|█████████████████████████████████████████████████████████████████████████████████████████████████████████████████████████▊                                                       | 34.40594059405793/50 [14:12<07:12, 27.76s/it]"
     ]
    },
    {
     "name": "stdout",
     "output_type": "stream",
     "text": [
      "Train Epoch: 45 [1280/2508 (51%)]\tLoss: 0.438139\n",
      "Mem before-during-after: 21060096 1939503104 21060096\n"
     ]
    },
    {
     "name": "stderr",
     "output_type": "stream",
     "text": [
      " 70%|███████████████████████████████████████████████████████████████████████████████████████████████████████████████████████████▏                                                    | 34.999999999998685/50 [14:26<05:27, 21.84s/it]"
     ]
    },
    {
     "name": "stdout",
     "output_type": "stream",
     "text": [
      "\n",
      "Test Epoch: 45\tAccuracy: 594/736 (78%)\n",
      "\n"
     ]
    },
    {
     "name": "stderr",
     "output_type": "stream",
     "text": [
      " 70%|████████████████████████████████████████████████████████████████████████████████████████████████████████████████████████████▋                                                     | 35.0099009900977/50 [14:27<05:45, 23.02s/it]"
     ]
    },
    {
     "name": "stdout",
     "output_type": "stream",
     "text": [
      "Train Epoch: 46 [0/2508 (0%)]\tLoss: 0.461787\n",
      "Mem before-during-after: 21056000 1941442560 21060096\n"
     ]
    },
    {
     "name": "stderr",
     "output_type": "stream",
     "text": [
      " 71%|██████████████████████████████████████████████████████████████████████████████████████████████████████████████████████████████                                                    | 35.4059405940582/50 [14:37<06:37, 27.22s/it]"
     ]
    },
    {
     "name": "stdout",
     "output_type": "stream",
     "text": [
      "Train Epoch: 46 [1280/2508 (51%)]\tLoss: 0.437588\n",
      "Mem before-during-after: 21060096 1940191232 21060096\n"
     ]
    },
    {
     "name": "stderr",
     "output_type": "stream",
     "text": [
      " 72%|██████████████████████████████████████████████████████████████████████████████████████████████████████████████████████████████▋                                                 | 35.999999999998956/50 [14:51<04:45, 20.37s/it]"
     ]
    },
    {
     "name": "stdout",
     "output_type": "stream",
     "text": [
      "\n",
      "Test Epoch: 46\tAccuracy: 596/736 (79%)\n",
      "\n"
     ]
    },
    {
     "name": "stderr",
     "output_type": "stream",
     "text": [
      " 72%|███████████████████████████████████████████████████████████████████████████████████████████████████████████████████████████████▌                                                 | 36.01980198019698/50 [14:51<04:51, 20.83s/it]"
     ]
    },
    {
     "name": "stdout",
     "output_type": "stream",
     "text": [
      "Train Epoch: 47 [0/2508 (0%)]\tLoss: 0.552199\n",
      "Mem before-during-after: 21056000 1941442560 21060096\n"
     ]
    },
    {
     "name": "stderr",
     "output_type": "stream",
     "text": [
      " 73%|████████████████████████████████████████████████████████████████████████████████████████████████████████████████████████████████▉                                                | 36.40594059405847/50 [15:01<06:08, 27.14s/it]"
     ]
    },
    {
     "name": "stdout",
     "output_type": "stream",
     "text": [
      "Train Epoch: 47 [1280/2508 (51%)]\tLoss: 0.565945\n",
      "Mem before-during-after: 21060096 1940281344 21060096\n"
     ]
    },
    {
     "name": "stderr",
     "output_type": "stream",
     "text": [
      " 74%|██████████████████████████████████████████████████████████████████████████████████████████████████████████████████████████████████▏                                             | 36.999999999999226/50 [15:15<04:19, 19.98s/it]"
     ]
    },
    {
     "name": "stdout",
     "output_type": "stream",
     "text": [
      "\n",
      "Test Epoch: 47\tAccuracy: 599/736 (79%)\n",
      "\n",
      "saved model: ../models_cremad3/cremad_label3_m12new_best_47epoch.pt\n"
     ]
    },
    {
     "name": "stderr",
     "output_type": "stream",
     "text": [
      " 74%|███████████████████████████████████████████████████████████████████████████████████████████████████████████████████████████████████                                              | 37.01980198019725/50 [15:16<04:35, 21.22s/it]"
     ]
    },
    {
     "name": "stdout",
     "output_type": "stream",
     "text": [
      "Train Epoch: 48 [0/2508 (0%)]\tLoss: 0.386920\n",
      "Mem before-during-after: 21056000 1941442560 21060096\n"
     ]
    },
    {
     "name": "stderr",
     "output_type": "stream",
     "text": [
      " 75%|████████████████████████████████████████████████████████████████████████████████████████████████████████████████████████████████████▍                                            | 37.40594059405874/50 [15:26<05:52, 27.99s/it]"
     ]
    },
    {
     "name": "stdout",
     "output_type": "stream",
     "text": [
      "Train Epoch: 48 [1280/2508 (51%)]\tLoss: 0.583836\n",
      "Mem before-during-after: 21060096 1939503104 21060096\n"
     ]
    },
    {
     "name": "stderr",
     "output_type": "stream",
     "text": [
      " 76%|█████████████████████████████████████████████████████████████████████████████████████████████████████████████████████████████████████▊                                          | 37.999999999999496/50 [15:40<04:02, 20.23s/it]"
     ]
    },
    {
     "name": "stdout",
     "output_type": "stream",
     "text": [
      "\n",
      "Test Epoch: 48\tAccuracy: 593/736 (78%)\n",
      "\n"
     ]
    },
    {
     "name": "stderr",
     "output_type": "stream",
     "text": [
      " 76%|██████████████████████████████████████████████████████████████████████████████████████████████████████████████████████████████████████▌                                          | 38.01980198019752/50 [15:40<04:11, 21.02s/it]"
     ]
    },
    {
     "name": "stdout",
     "output_type": "stream",
     "text": [
      "Train Epoch: 49 [0/2508 (0%)]\tLoss: 0.504085\n",
      "Mem before-during-after: 21056000 1941442560 21060096\n"
     ]
    },
    {
     "name": "stderr",
     "output_type": "stream",
     "text": [
      " 77%|███████████████████████████████████████████████████████████████████████████████████████████████████████████████████████████████████████▉                                         | 38.40594059405901/50 [15:50<05:09, 26.67s/it]"
     ]
    },
    {
     "name": "stdout",
     "output_type": "stream",
     "text": [
      "Train Epoch: 49 [1280/2508 (51%)]\tLoss: 0.463395\n",
      "Mem before-during-after: 21060096 1940281344 21060096\n"
     ]
    },
    {
     "name": "stderr",
     "output_type": "stream",
     "text": [
      " 78%|█████████████████████████████████████████████████████████████████████████████████████████████████████████████████████████████████████████▎                                      | 38.999999999999766/50 [16:04<03:33, 19.38s/it]"
     ]
    },
    {
     "name": "stdout",
     "output_type": "stream",
     "text": [
      "\n",
      "Test Epoch: 49\tAccuracy: 587/736 (77%)\n",
      "\n"
     ]
    },
    {
     "name": "stderr",
     "output_type": "stream",
     "text": [
      " 78%|██████████████████████████████████████████████████████████████████████████████████████████████████████████████████████████████████████████                                       | 39.00990099009878/50 [16:04<03:58, 21.73s/it]"
     ]
    },
    {
     "name": "stdout",
     "output_type": "stream",
     "text": [
      "Train Epoch: 50 [0/2508 (0%)]\tLoss: 0.308044\n",
      "Mem before-during-after: 21056000 1941442560 21060096\n"
     ]
    },
    {
     "name": "stderr",
     "output_type": "stream",
     "text": [
      " 79%|███████████████████████████████████████████████████████████████████████████████████████████████████████████████████████████████████████████▍                                     | 39.40594059405928/50 [16:15<04:54, 27.80s/it]"
     ]
    },
    {
     "name": "stdout",
     "output_type": "stream",
     "text": [
      "Train Epoch: 50 [1280/2508 (51%)]\tLoss: 0.495577\n",
      "Mem before-during-after: 21060096 1940281344 21060096\n"
     ]
    },
    {
     "name": "stderr",
     "output_type": "stream",
     "text": [
      " 80%|████████████████████████████████████████████████████████████████████████████████████████████████████████████████████████████████████████████▊                                   | 40.000000000000036/50 [16:28<03:19, 19.99s/it]"
     ]
    },
    {
     "name": "stdout",
     "output_type": "stream",
     "text": [
      "\n",
      "Test Epoch: 50\tAccuracy: 586/736 (77%)\n",
      "\n"
     ]
    },
    {
     "name": "stderr",
     "output_type": "stream",
     "text": [
      " 80%|█████████████████████████████████████████████████████████████████████████████████████████████████████████████████████████████████████████████▋                                   | 40.01980198019806/50 [16:29<03:29, 20.98s/it]"
     ]
    },
    {
     "name": "stdout",
     "output_type": "stream",
     "text": [
      "Train Epoch: 51 [0/2508 (0%)]\tLoss: 0.617582\n",
      "Mem before-during-after: 21056000 1936254464 21060096\n"
     ]
    },
    {
     "name": "stderr",
     "output_type": "stream",
     "text": [
      " 81%|███████████████████████████████████████████████████████████████████████████████████████████████████████████████████████████████████████████████                                  | 40.40594059405955/50 [16:39<04:29, 28.04s/it]"
     ]
    },
    {
     "name": "stdout",
     "output_type": "stream",
     "text": [
      "Train Epoch: 51 [1280/2508 (51%)]\tLoss: 0.563241\n",
      "Mem before-during-after: 21060096 1939765248 21060096\n"
     ]
    },
    {
     "name": "stderr",
     "output_type": "stream",
     "text": [
      " 82%|████████████████████████████████████████████████████████████████████████████████████████████████████████████████████████████████████████████████▎                               | 41.000000000000306/50 [16:53<02:59, 19.99s/it]"
     ]
    },
    {
     "name": "stdout",
     "output_type": "stream",
     "text": [
      "\n",
      "Test Epoch: 51\tAccuracy: 580/736 (76%)\n",
      "\n"
     ]
    },
    {
     "name": "stderr",
     "output_type": "stream",
     "text": [
      " 82%|█████████████████████████████████████████████████████████████████████████████████████████████████████████████████████████████████████████████████▏                               | 41.00990099009932/50 [16:54<03:18, 22.03s/it]"
     ]
    },
    {
     "name": "stdout",
     "output_type": "stream",
     "text": [
      "Train Epoch: 52 [0/2508 (0%)]\tLoss: 0.708606\n",
      "Mem before-during-after: 21056000 1941442560 21060096\n"
     ]
    },
    {
     "name": "stderr",
     "output_type": "stream",
     "text": [
      " 83%|██████████████████████████████████████████████████████████████████████████████████████████████████████████████████████████████████████████████████▌                              | 41.40594059405982/50 [17:04<03:56, 27.56s/it]"
     ]
    },
    {
     "name": "stdout",
     "output_type": "stream",
     "text": [
      "Train Epoch: 52 [1280/2508 (51%)]\tLoss: 0.511496\n",
      "Mem before-during-after: 21060096 1940281344 21060096\n"
     ]
    },
    {
     "name": "stderr",
     "output_type": "stream",
     "text": [
      " 84%|███████████████████████████████████████████████████████████████████████████████████████████████████████████████████████████████████████████████████▊                            | 42.000000000000576/50 [17:18<02:34, 19.36s/it]"
     ]
    },
    {
     "name": "stdout",
     "output_type": "stream",
     "text": [
      "\n",
      "Test Epoch: 52\tAccuracy: 573/736 (75%)\n",
      "\n"
     ]
    },
    {
     "name": "stderr",
     "output_type": "stream",
     "text": [
      " 84%|█████████████████████████████████████████████████████████████████████████████████████████████████████████████████████████████████████████████████████▌                            | 42.0198019801986/50 [17:18<02:46, 20.84s/it]"
     ]
    },
    {
     "name": "stdout",
     "output_type": "stream",
     "text": [
      "Train Epoch: 53 [0/2508 (0%)]\tLoss: 0.545610\n",
      "Mem before-during-after: 21056000 1941442560 21060096\n"
     ]
    },
    {
     "name": "stderr",
     "output_type": "stream",
     "text": [
      " 85%|██████████████████████████████████████████████████████████████████████████████████████████████████████████████████████████████████████████████████████                           | 42.40594059406009/50 [17:28<03:27, 27.37s/it]"
     ]
    },
    {
     "name": "stdout",
     "output_type": "stream",
     "text": [
      "Train Epoch: 53 [1280/2508 (51%)]\tLoss: 0.744595\n",
      "Mem before-during-after: 21060096 1940281344 21060096\n"
     ]
    },
    {
     "name": "stderr",
     "output_type": "stream",
     "text": [
      " 86%|███████████████████████████████████████████████████████████████████████████████████████████████████████████████████████████████████████████████████████▎                        | 43.000000000000846/50 [17:43<02:18, 19.81s/it]"
     ]
    },
    {
     "name": "stdout",
     "output_type": "stream",
     "text": [
      "\n",
      "Test Epoch: 53\tAccuracy: 593/736 (78%)\n",
      "\n"
     ]
    },
    {
     "name": "stderr",
     "output_type": "stream",
     "text": [
      " 86%|████████████████████████████████████████████████████████████████████████████████████████████████████████████████████████████████████████████████████████▎                        | 43.00990099009986/50 [17:43<02:32, 21.82s/it]"
     ]
    },
    {
     "name": "stdout",
     "output_type": "stream",
     "text": [
      "Train Epoch: 54 [0/2508 (0%)]\tLoss: 0.504597\n",
      "Mem before-during-after: 21056000 1941442560 21060096\n"
     ]
    },
    {
     "name": "stderr",
     "output_type": "stream",
     "text": [
      " 87%|█████████████████████████████████████████████████████████████████████████████████████████████████████████████████████████████████████████████████████████▋                       | 43.40594059406036/50 [17:53<03:06, 28.34s/it]"
     ]
    },
    {
     "name": "stdout",
     "output_type": "stream",
     "text": [
      "Train Epoch: 54 [1280/2508 (51%)]\tLoss: 0.455887\n",
      "Mem before-during-after: 21060096 1940281344 21060096\n"
     ]
    },
    {
     "name": "stderr",
     "output_type": "stream",
     "text": [
      " 88%|██████████████████████████████████████████████████████████████████████████████████████████████████████████████████████████████████████████████████████████▉                     | 44.000000000001116/50 [18:07<01:58, 19.68s/it]"
     ]
    },
    {
     "name": "stdout",
     "output_type": "stream",
     "text": [
      "\n",
      "Test Epoch: 54\tAccuracy: 591/736 (78%)\n",
      "\n"
     ]
    },
    {
     "name": "stderr",
     "output_type": "stream",
     "text": [
      " 88%|███████████████████████████████████████████████████████████████████████████████████████████████████████████████████████████████████████████████████████████▊                     | 44.01980198019914/50 [18:08<02:05, 20.93s/it]"
     ]
    },
    {
     "name": "stdout",
     "output_type": "stream",
     "text": [
      "Train Epoch: 55 [0/2508 (0%)]\tLoss: 0.511945\n",
      "Mem before-during-after: 21056000 1941442560 21060096\n"
     ]
    },
    {
     "name": "stderr",
     "output_type": "stream",
     "text": [
      " 89%|█████████████████████████████████████████████████████████████████████████████████████████████████████████████████████████████████████████████████████████████▏                   | 44.40594059406063/50 [18:18<02:32, 27.28s/it]"
     ]
    },
    {
     "name": "stdout",
     "output_type": "stream",
     "text": [
      "Train Epoch: 55 [1280/2508 (51%)]\tLoss: 0.477985\n",
      "Mem before-during-after: 21060096 1940281344 21060096\n"
     ]
    },
    {
     "name": "stderr",
     "output_type": "stream",
     "text": [
      " 90%|██████████████████████████████████████████████████████████████████████████████████████████████████████████████████████████████████████████████████████████████▍                 | 45.000000000001386/50 [18:31<01:37, 19.40s/it]"
     ]
    },
    {
     "name": "stdout",
     "output_type": "stream",
     "text": [
      "\n",
      "Test Epoch: 55\tAccuracy: 593/736 (78%)\n",
      "\n"
     ]
    },
    {
     "name": "stderr",
     "output_type": "stream",
     "text": [
      " 90%|███████████████████████████████████████████████████████████████████████████████████████████████████████████████████████████████████████████████████████████████▎                 | 45.01980198019941/50 [18:32<01:43, 20.88s/it]"
     ]
    },
    {
     "name": "stdout",
     "output_type": "stream",
     "text": [
      "Train Epoch: 56 [0/2508 (0%)]\tLoss: 0.299437\n",
      "Mem before-during-after: 21056000 1941442560 21060096\n"
     ]
    },
    {
     "name": "stderr",
     "output_type": "stream",
     "text": [
      " 91%|█████████████████████████████████████████████████████████████████████████████████████████████████████████████████████████████████████████████████████████████████▋                | 45.4059405940609/50 [18:42<02:06, 27.48s/it]"
     ]
    },
    {
     "name": "stdout",
     "output_type": "stream",
     "text": [
      "Train Epoch: 56 [1280/2508 (51%)]\tLoss: 0.548434\n",
      "Mem before-during-after: 21060096 1940281344 21060096\n"
     ]
    },
    {
     "name": "stderr",
     "output_type": "stream",
     "text": [
      " 92%|█████████████████████████████████████████████████████████████████████████████████████████████████████████████████████████████████████████████████████████████████▉              | 46.000000000001656/50 [18:56<01:18, 19.55s/it]"
     ]
    },
    {
     "name": "stdout",
     "output_type": "stream",
     "text": [
      "\n",
      "Test Epoch: 56\tAccuracy: 607/736 (80%)\n",
      "\n",
      "saved model: ../models_cremad3/cremad_label3_m12new_best_56epoch.pt\n"
     ]
    },
    {
     "name": "stderr",
     "output_type": "stream",
     "text": [
      " 92%|██████████████████████████████████████████████████████████████████████████████████████████████████████████████████████████████████████████████████████████████████▉              | 46.01980198019968/50 [18:57<01:22, 20.79s/it]"
     ]
    },
    {
     "name": "stdout",
     "output_type": "stream",
     "text": [
      "Train Epoch: 57 [0/2508 (0%)]\tLoss: 0.355096\n",
      "Mem before-during-after: 21056000 1941442560 21060096\n"
     ]
    },
    {
     "name": "stderr",
     "output_type": "stream",
     "text": [
      " 93%|████████████████████████████████████████████████████████████████████████████████████████████████████████████████████████████████████████████████████████████████████▎            | 46.40594059406117/50 [19:07<01:38, 27.51s/it]"
     ]
    },
    {
     "name": "stdout",
     "output_type": "stream",
     "text": [
      "Train Epoch: 57 [1280/2508 (51%)]\tLoss: 0.584555\n",
      "Mem before-during-after: 21060096 1940191232 21060096\n"
     ]
    },
    {
     "name": "stderr",
     "output_type": "stream",
     "text": [
      " 94%|█████████████████████████████████████████████████████████████████████████████████████████████████████████████████████████████████████████████████████████████████████▍          | 47.000000000001926/50 [19:21<00:59, 19.76s/it]"
     ]
    },
    {
     "name": "stdout",
     "output_type": "stream",
     "text": [
      "\n",
      "Test Epoch: 57\tAccuracy: 580/736 (76%)\n",
      "\n"
     ]
    },
    {
     "name": "stderr",
     "output_type": "stream",
     "text": [
      " 94%|██████████████████████████████████████████████████████████████████████████████████████████████████████████████████████████████████████████████████████████████████████▍          | 47.01980198019995/50 [19:21<01:01, 20.73s/it]"
     ]
    },
    {
     "name": "stdout",
     "output_type": "stream",
     "text": [
      "Train Epoch: 58 [0/2508 (0%)]\tLoss: 0.762256\n",
      "Mem before-during-after: 21056000 1941442560 21060096\n"
     ]
    },
    {
     "name": "stderr",
     "output_type": "stream",
     "text": [
      " 95%|███████████████████████████████████████████████████████████████████████████████████████████████████████████████████████████████████████████████████████████████████████▊         | 47.40594059406144/50 [19:31<01:12, 27.90s/it]"
     ]
    },
    {
     "name": "stdout",
     "output_type": "stream",
     "text": [
      "Train Epoch: 58 [1280/2508 (51%)]\tLoss: 0.387111\n",
      "Mem before-during-after: 21060096 1940281344 21060096\n"
     ]
    },
    {
     "name": "stderr",
     "output_type": "stream",
     "text": [
      " 96%|████████████████████████████████████████████████████████████████████████████████████████████████████████████████████████████████████████████████████████████████████████▉       | 48.000000000002196/50 [19:46<00:39, 19.52s/it]"
     ]
    },
    {
     "name": "stdout",
     "output_type": "stream",
     "text": [
      "\n",
      "Test Epoch: 58\tAccuracy: 601/736 (79%)\n",
      "\n"
     ]
    },
    {
     "name": "stderr",
     "output_type": "stream",
     "text": [
      " 96%|█████████████████████████████████████████████████████████████████████████████████████████████████████████████████████████████████████████████████████████████████████████▉       | 48.01980198020022/50 [19:46<00:41, 20.85s/it]"
     ]
    },
    {
     "name": "stdout",
     "output_type": "stream",
     "text": [
      "Train Epoch: 59 [0/2508 (0%)]\tLoss: 0.456676\n",
      "Mem before-during-after: 21056000 1941442560 21060096\n"
     ]
    },
    {
     "name": "stderr",
     "output_type": "stream",
     "text": [
      " 97%|███████████████████████████████████████████████████████████████████████████████████████████████████████████████████████████████████████████████████████████████████████████▎     | 48.40594059406171/50 [19:57<00:44, 28.23s/it]"
     ]
    },
    {
     "name": "stdout",
     "output_type": "stream",
     "text": [
      "Train Epoch: 59 [1280/2508 (51%)]\tLoss: 0.234947\n",
      "Mem before-during-after: 21060096 1939503104 21060096\n"
     ]
    },
    {
     "name": "stderr",
     "output_type": "stream",
     "text": [
      " 98%|████████████████████████████████████████████████████████████████████████████████████████████████████████████████████████████████████████████████████████████████████████████▍   | 49.000000000002466/50 [20:11<00:19, 19.60s/it]"
     ]
    },
    {
     "name": "stdout",
     "output_type": "stream",
     "text": [
      "\n",
      "Test Epoch: 59\tAccuracy: 586/736 (77%)\n",
      "\n"
     ]
    },
    {
     "name": "stderr",
     "output_type": "stream",
     "text": [
      " 98%|█████████████████████████████████████████████████████████████████████████████████████████████████████████████████████████████████████████████████████████████████████████████▌   | 49.01980198020049/50 [20:11<00:20, 21.01s/it]"
     ]
    },
    {
     "name": "stdout",
     "output_type": "stream",
     "text": [
      "Train Epoch: 60 [0/2508 (0%)]\tLoss: 0.423119\n",
      "Mem before-during-after: 21056000 1941442560 21060096\n"
     ]
    },
    {
     "name": "stderr",
     "output_type": "stream",
     "text": [
      " 99%|██████████████████████████████████████████████████████████████████████████████████████████████████████████████████████████████████████████████████████████████████████████████▉  | 49.40594059406198/50 [20:21<00:16, 27.59s/it]"
     ]
    },
    {
     "name": "stdout",
     "output_type": "stream",
     "text": [
      "Train Epoch: 60 [1280/2508 (51%)]\tLoss: 0.595399\n",
      "Mem before-during-after: 21060096 1940281344 21060096\n"
     ]
    },
    {
     "name": "stderr",
     "output_type": "stream",
     "text": [
      "100%|████████████████████████████████████████████████████████████████████████████████████████████████████████████████████████████████████████████████████████████████████████████████▉| 49.99009900990372/50 [20:35<00:00, 19.80s/it]/opt/anaconda3/envs/audio/lib/python3.9/site-packages/tqdm/std.py:639: TqdmWarning: clamping frac to range [0, 1]\n",
      "  full_bar = Bar(frac,\n",
      "100%|████████████████████████████████████████████████████████████████████████████████████████████████████████████████████████████████████████████████████████████████████████████████| 50.000000000002736/50 [20:35<00:00, 24.72s/it]"
     ]
    },
    {
     "name": "stdout",
     "output_type": "stream",
     "text": [
      "\n",
      "Test Epoch: 60\tAccuracy: 593/736 (78%)\n",
      "\n"
     ]
    },
    {
     "name": "stderr",
     "output_type": "stream",
     "text": [
      "\n"
     ]
    }
   ],
   "source": [
    "n_epoch = 10\n",
    "n_epoch2 = 50\n",
    "# train_losses = []\n",
    "# test_accuracy = []\n",
    "best_accuracy = min(test_accuracy)\n",
    "model_path_prefix = '../models_cremad3/cremad_label3_m12new_best_'\n",
    "\n",
    "optimizer = optim.RAdam(model.parameters(), lr=0.00005)\n",
    "scheduler = optim.lr_scheduler.OneCycleLR(\n",
    "    optimizer, max_lr=0.01,\n",
    "    steps_per_epoch=len(train_loader), epochs=n_epoch2)\n",
    "log_interval = 40\n",
    "pbar_update = 1 / (len(train_loader) + len(test_loader))\n",
    "# model.to(device)\n",
    "with tqdm(total=n_epoch2) as pbar:\n",
    "    for epoch in range(1+n_epoch, n_epoch2 + n_epoch + 1):\n",
    "        train(model, epoch, log_interval, train_losses)\n",
    "        acc = test(model, epoch)\n",
    "        test_accuracy += [acc]\n",
    "        if acc > best_accuracy:\n",
    "            best_accuracy = acc\n",
    "            bmodel_path = f'{model_path_prefix}{epoch}epoch.pt'\n",
    "            torch.save(model.state_dict(), bmodel_path)\n",
    "            print(f'saved model: {bmodel_path}')\n",
    "        scheduler.step()"
   ]
  },
  {
   "cell_type": "code",
   "execution_count": 29,
   "id": "7908fb16-c7f7-41c3-bc27-8ca0ccf98a5e",
   "metadata": {},
   "outputs": [
    {
     "data": {
      "text/plain": [
       "[<matplotlib.lines.Line2D at 0x7fd9df9ffb20>]"
      ]
     },
     "execution_count": 29,
     "metadata": {},
     "output_type": "execute_result"
    },
    {
     "data": {
      "image/png": "[encoded data removed]",
      "text/plain": [
       "<Figure size 640x480 with 1 Axes>"
      ]
     },
     "metadata": {},
     "output_type": "display_data"
    }
   ],
   "source": [
    "plt.plot(train_losses)"
   ]
  },
  {
   "cell_type": "code",
   "execution_count": 30,
   "id": "d6d1bbcd-ae40-4624-9f03-eafbb361ff86",
   "metadata": {},
   "outputs": [
    {
     "data": {
      "text/plain": [
       "[<matplotlib.lines.Line2D at 0x7fd9de16dc10>]"
      ]
     },
     "execution_count": 30,
     "metadata": {},
     "output_type": "execute_result"
    },
    {
     "data": {
      "image/png": "[encoded data removed]",
      "text/plain": [
       "<Figure size 640x480 with 1 Axes>"
      ]
     },
     "metadata": {},
     "output_type": "display_data"
    }
   ],
   "source": [
    "plt.plot(test_accuracy)"
   ]
  },
  {
   "cell_type": "code",
   "execution_count": 31,
   "id": "bde77f7a-2403-4cdf-8a17-b417fbaf44b9",
   "metadata": {},
   "outputs": [
    {
     "name": "stdout",
     "output_type": "stream",
     "text": [
      "Correct: 593/736 (0.8057)\n",
      "{'acc_detail': tensor([0.8897, 0.7919, 0.7302], device='cuda:0'),\n",
      " 'acc_unweighted': tensor(0.8039, device='cuda:0'),\n",
      " 'acc_weighted': tensor(0.8057, device='cuda:0'),\n",
      " 'f1s': tensor(0.8034, device='cuda:0'),\n",
      " 'f1s_detail': tensor([0.8948, 0.7187, 0.7965], device='cuda:0'),\n",
      " 'precision_detail': tensor([0.9000, 0.6579, 0.8762], device='cuda:0'),\n",
      " 'recall_detail': tensor([0.8897, 0.7919, 0.7302], device='cuda:0'),\n",
      " 'rocauc': tensor([0.9769, 0.9041, 0.9440], device='cuda:0'),\n",
      " 'uar': tensor(0.8039, device='cuda:0'),\n",
      " 'wap': tensor(0.8192, device='cuda:0')}\n"
     ]
    },
    {
     "data": {
      "text/plain": [
       "tensor([[234,  28,   1],\n",
       "        [ 21, 175,  25],\n",
       "        [  5,  63, 184]], device='cuda:0')"
      ]
     },
     "execution_count": 31,
     "metadata": {},
     "output_type": "execute_result"
    }
   ],
   "source": [
    "metrics2, confusion_matrix2 = report_metrics(\n",
    "    model, labels=labels, device=device)\n",
    "pprint(metrics2.compute())\n",
    "confusion_matrix2.compute()"
   ]
  },
  {
   "cell_type": "code",
   "execution_count": 32,
   "id": "7ec16dea-9d97-4ba8-8f1a-1a32d5a4cd80",
   "metadata": {},
   "outputs": [
    {
     "name": "stdout",
     "output_type": "stream",
     "text": [
      "Correct: 607/736 (0.8247)\n",
      "{'acc_detail': tensor([0.9049, 0.7330, 0.8214], device='cuda:0'),\n",
      " 'acc_unweighted': tensor(0.8198, device='cuda:0'),\n",
      " 'acc_weighted': tensor(0.8247, device='cuda:0'),\n",
      " 'f1s': tensor(0.8197, device='cuda:0'),\n",
      " 'f1s_detail': tensor([0.8964, 0.7281, 0.8347], device='cuda:0'),\n",
      " 'precision_detail': tensor([0.8881, 0.7232, 0.8484], device='cuda:0'),\n",
      " 'recall_detail': tensor([0.9049, 0.7330, 0.8214], device='cuda:0'),\n",
      " 'rocauc': tensor([0.9771, 0.9029, 0.9421], device='cuda:0'),\n",
      " 'uar': tensor(0.8198, device='cuda:0'),\n",
      " 'wap': tensor(0.8250, device='cuda:0')}\n"
     ]
    },
    {
     "data": {
      "text/plain": [
       "tensor([[238,  23,   2],\n",
       "        [ 24, 162,  35],\n",
       "        [  6,  39, 207]], device='cuda:0')"
      ]
     },
     "execution_count": 32,
     "metadata": {},
     "output_type": "execute_result"
    }
   ],
   "source": [
    "best_epoch = 56\n",
    "model.to('cpu')\n",
    "best_model_path = f'{model_path_prefix}{best_epoch}epoch.pt'\n",
    "best_model = M12(config=model_config,\n",
    "           n_input=1, n_output=len(labels))\n",
    "best_model.load_state_dict(torch.load(best_model_path))\n",
    "best_model.to(device)\n",
    "\n",
    "metrics_best, confusion_matrix_best = report_metrics(\n",
    "    best_model, labels=labels, device=device)\n",
    "best_model.to('cpu')\n",
    "pprint(metrics_best.compute())\n",
    "confusion_matrix_best.compute()"
   ]
  },
  {
   "cell_type": "code",
   "execution_count": 33,
   "id": "b9732a5e-fed3-43fc-8bb6-8d09ce34e8b6",
   "metadata": {
    "scrolled": true
   },
   "outputs": [
    {
     "name": "stderr",
     "output_type": "stream",
     "text": [
      "  0%|                                                                                                                                                                           | 0.009900990099009901/440 [00:00<3:10:41, 26.00s/it]"
     ]
    },
    {
     "name": "stdout",
     "output_type": "stream",
     "text": [
      "Train Epoch: 61 [0/2508 (0%)]\tLoss: 0.434723\n",
      "Mem before-during-after: 21754880 1942141440 22811136\n"
     ]
    },
    {
     "name": "stderr",
     "output_type": "stream",
     "text": [
      "  0%|▏                                                                                                                                                                           | 0.40594059405940613/440 [00:10<3:29:09, 28.55s/it]"
     ]
    },
    {
     "name": "stdout",
     "output_type": "stream",
     "text": [
      "Train Epoch: 61 [1280/2508 (51%)]\tLoss: 0.582526\n",
      "Mem before-during-after: 22811136 1941254144 22811136\n"
     ]
    },
    {
     "name": "stderr",
     "output_type": "stream",
     "text": [
      "  0%|▍                                                                                                                                                                            | 1.0000000000000007/440 [00:24<2:24:01, 19.68s/it]"
     ]
    },
    {
     "name": "stdout",
     "output_type": "stream",
     "text": [
      "\n",
      "Test Epoch: 61\tAccuracy: 596/736 (79%)\n",
      "\n"
     ]
    },
    {
     "name": "stderr",
     "output_type": "stream",
     "text": [
      "  0%|▍                                                                                                                                                                            | 1.0198019801980205/440 [00:25<2:38:45, 21.70s/it]"
     ]
    },
    {
     "name": "stdout",
     "output_type": "stream",
     "text": [
      "Train Epoch: 62 [0/2508 (0%)]\tLoss: 0.496696\n",
      "Mem before-during-after: 22807040 1943193600 22811136\n"
     ]
    },
    {
     "name": "stderr",
     "output_type": "stream",
     "text": [
      "  0%|▌                                                                                                                                                                             | 1.405940594059407/440 [00:35<3:20:36, 27.44s/it]"
     ]
    },
    {
     "name": "stdout",
     "output_type": "stream",
     "text": [
      "Train Epoch: 62 [1280/2508 (51%)]\tLoss: 0.536091\n",
      "Mem before-during-after: 22811136 1942032384 22811136\n"
     ]
    },
    {
     "name": "stderr",
     "output_type": "stream",
     "text": [
      "  0%|▊                                                                                                                                                                            | 2.0000000000000013/440 [00:49<2:31:17, 20.73s/it]"
     ]
    },
    {
     "name": "stdout",
     "output_type": "stream",
     "text": [
      "\n",
      "Test Epoch: 62\tAccuracy: 606/736 (80%)\n",
      "\n"
     ]
    },
    {
     "name": "stderr",
     "output_type": "stream",
     "text": [
      "  0%|▊                                                                                                                                                                             | 2.019801980198021/440 [00:50<2:37:58, 21.64s/it]"
     ]
    },
    {
     "name": "stdout",
     "output_type": "stream",
     "text": [
      "Train Epoch: 63 [0/2508 (0%)]\tLoss: 0.425441\n",
      "Mem before-during-after: 22807040 1943193600 22811136\n"
     ]
    },
    {
     "name": "stderr",
     "output_type": "stream",
     "text": [
      "  1%|▉                                                                                                                                                                            | 2.4059405940594076/440 [01:00<3:25:36, 28.19s/it]"
     ]
    },
    {
     "name": "stdout",
     "output_type": "stream",
     "text": [
      "Train Epoch: 63 [1280/2508 (51%)]\tLoss: 0.674731\n",
      "Mem before-during-after: 22811136 1942032384 22811136\n"
     ]
    },
    {
     "name": "stderr",
     "output_type": "stream",
     "text": [
      "  1%|█▏                                                                                                                                                                            | 3.000000000000002/440 [01:15<2:36:21, 21.47s/it]"
     ]
    },
    {
     "name": "stdout",
     "output_type": "stream",
     "text": [
      "\n",
      "Test Epoch: 63\tAccuracy: 584/736 (77%)\n",
      "\n"
     ]
    },
    {
     "name": "stderr",
     "output_type": "stream",
     "text": [
      "  1%|█▏                                                                                                                                                                            | 3.019801980198022/440 [01:15<2:37:28, 21.62s/it]"
     ]
    },
    {
     "name": "stdout",
     "output_type": "stream",
     "text": [
      "Train Epoch: 64 [0/2508 (0%)]\tLoss: 0.442073\n",
      "Mem before-during-after: 22807040 1943193600 22811136\n"
     ]
    },
    {
     "name": "stderr",
     "output_type": "stream",
     "text": [
      "  1%|█▎                                                                                                                                                                           | 3.4059405940594085/440 [01:25<3:26:28, 28.38s/it]"
     ]
    },
    {
     "name": "stdout",
     "output_type": "stream",
     "text": [
      "Train Epoch: 64 [1280/2508 (51%)]\tLoss: 0.458862\n",
      "Mem before-during-after: 22811136 1942032384 22811136\n"
     ]
    },
    {
     "name": "stderr",
     "output_type": "stream",
     "text": [
      "  1%|█▌                                                                                                                                                                            | 4.000000000000003/440 [01:40<2:25:39, 20.05s/it]"
     ]
    },
    {
     "name": "stdout",
     "output_type": "stream",
     "text": [
      "\n",
      "Test Epoch: 64\tAccuracy: 568/736 (75%)\n",
      "\n"
     ]
    },
    {
     "name": "stderr",
     "output_type": "stream",
     "text": [
      "  1%|█▌                                                                                                                                                                            | 4.009900990099013/440 [01:40<2:38:07, 21.76s/it]"
     ]
    },
    {
     "name": "stdout",
     "output_type": "stream",
     "text": [
      "Train Epoch: 65 [0/2508 (0%)]\tLoss: 0.390502\n",
      "Mem before-during-after: 22807040 1943193600 22811136\n"
     ]
    },
    {
     "name": "stderr",
     "output_type": "stream",
     "text": [
      "  1%|█▋                                                                                                                                                                            | 4.405940594059409/440 [01:50<3:19:39, 27.50s/it]"
     ]
    },
    {
     "name": "stdout",
     "output_type": "stream",
     "text": [
      "Train Epoch: 65 [1280/2508 (51%)]\tLoss: 0.511165\n",
      "Mem before-during-after: 22811136 1942032384 22811136\n"
     ]
    },
    {
     "name": "stderr",
     "output_type": "stream",
     "text": [
      "  1%|█▉                                                                                                                                                                           | 5.0000000000000036/440 [02:05<2:24:15, 19.90s/it]"
     ]
    },
    {
     "name": "stdout",
     "output_type": "stream",
     "text": [
      "\n",
      "Test Epoch: 65\tAccuracy: 591/736 (78%)\n",
      "\n"
     ]
    },
    {
     "name": "stderr",
     "output_type": "stream",
     "text": [
      "  1%|█▉                                                                                                                                                                            | 5.019801980198023/440 [02:05<2:36:38, 21.61s/it]"
     ]
    },
    {
     "name": "stdout",
     "output_type": "stream",
     "text": [
      "Train Epoch: 66 [0/2508 (0%)]\tLoss: 0.569011\n",
      "Mem before-during-after: 22807040 1943193600 22811136\n"
     ]
    },
    {
     "name": "stderr",
     "output_type": "stream",
     "text": [
      "  1%|██▏                                                                                                                                                                            | 5.40594059405941/440 [02:16<3:24:49, 28.28s/it]"
     ]
    },
    {
     "name": "stdout",
     "output_type": "stream",
     "text": [
      "Train Epoch: 66 [1280/2508 (51%)]\tLoss: 0.402471\n",
      "Mem before-during-after: 22811136 1942032384 22811136\n"
     ]
    },
    {
     "name": "stderr",
     "output_type": "stream",
     "text": [
      "  1%|██▎                                                                                                                                                                           | 6.000000000000004/440 [02:30<2:24:46, 20.02s/it]"
     ]
    },
    {
     "name": "stdout",
     "output_type": "stream",
     "text": [
      "\n",
      "Test Epoch: 66\tAccuracy: 587/736 (77%)\n",
      "\n"
     ]
    },
    {
     "name": "stderr",
     "output_type": "stream",
     "text": [
      "  1%|██▍                                                                                                                                                                           | 6.019801980198024/440 [02:30<2:36:50, 21.68s/it]"
     ]
    },
    {
     "name": "stdout",
     "output_type": "stream",
     "text": [
      "Train Epoch: 67 [0/2508 (0%)]\tLoss: 0.703362\n",
      "Mem before-during-after: 22807040 1943193600 22811136\n"
     ]
    },
    {
     "name": "stderr",
     "output_type": "stream",
     "text": [
      "  1%|██▌                                                                                                                                                                           | 6.405940594059411/440 [02:40<3:25:20, 28.41s/it]"
     ]
    },
    {
     "name": "stdout",
     "output_type": "stream",
     "text": [
      "Train Epoch: 67 [1280/2508 (51%)]\tLoss: 0.587296\n",
      "Mem before-during-after: 22811136 1942032384 22811136\n"
     ]
    },
    {
     "name": "stderr",
     "output_type": "stream",
     "text": [
      "  2%|██▊                                                                                                                                                                           | 7.000000000000005/440 [02:55<2:24:26, 20.01s/it]"
     ]
    },
    {
     "name": "stdout",
     "output_type": "stream",
     "text": [
      "\n",
      "Test Epoch: 67\tAccuracy: 591/736 (78%)\n",
      "\n"
     ]
    },
    {
     "name": "stderr",
     "output_type": "stream",
     "text": [
      "  2%|██▊                                                                                                                                                                           | 7.019801980198025/440 [02:55<2:33:36, 21.29s/it]"
     ]
    },
    {
     "name": "stdout",
     "output_type": "stream",
     "text": [
      "Train Epoch: 68 [0/2508 (0%)]\tLoss: 0.354412\n",
      "Mem before-during-after: 22807040 1943193600 22811136\n"
     ]
    },
    {
     "name": "stderr",
     "output_type": "stream",
     "text": [
      "  2%|██▉                                                                                                                                                                           | 7.405940594059412/440 [03:05<3:19:46, 27.71s/it]"
     ]
    },
    {
     "name": "stdout",
     "output_type": "stream",
     "text": [
      "Train Epoch: 68 [1280/2508 (51%)]\tLoss: 0.543546\n",
      "Mem before-during-after: 22811136 1942032384 22811136\n"
     ]
    },
    {
     "name": "stderr",
     "output_type": "stream",
     "text": [
      "  2%|███▏                                                                                                                                                                          | 8.000000000000005/440 [03:20<2:26:11, 20.30s/it]"
     ]
    },
    {
     "name": "stdout",
     "output_type": "stream",
     "text": [
      "\n",
      "Test Epoch: 68\tAccuracy: 579/736 (76%)\n",
      "\n"
     ]
    },
    {
     "name": "stderr",
     "output_type": "stream",
     "text": [
      "  2%|███▏                                                                                                                                                                          | 8.019801980198023/440 [03:20<2:35:03, 21.54s/it]"
     ]
    },
    {
     "name": "stdout",
     "output_type": "stream",
     "text": [
      "Train Epoch: 69 [0/2508 (0%)]\tLoss: 0.510915\n",
      "Mem before-during-after: 22807040 1943193600 22811136\n"
     ]
    },
    {
     "name": "stderr",
     "output_type": "stream",
     "text": [
      "  2%|███▎                                                                                                                                                                          | 8.405940594059375/440 [03:30<3:22:35, 28.16s/it]"
     ]
    },
    {
     "name": "stdout",
     "output_type": "stream",
     "text": [
      "Train Epoch: 69 [1280/2508 (51%)]\tLoss: 0.468095\n",
      "Mem before-during-after: 22811136 1942032384 22811136\n"
     ]
    },
    {
     "name": "stderr",
     "output_type": "stream",
     "text": [
      "  2%|███▌                                                                                                                                                                          | 8.999999999999917/440 [03:45<2:19:48, 19.46s/it]"
     ]
    },
    {
     "name": "stdout",
     "output_type": "stream",
     "text": [
      "\n",
      "Test Epoch: 69\tAccuracy: 581/736 (77%)\n",
      "\n"
     ]
    },
    {
     "name": "stderr",
     "output_type": "stream",
     "text": [
      "  2%|███▌                                                                                                                                                                          | 9.019801980197935/440 [03:45<2:32:29, 21.23s/it]"
     ]
    },
    {
     "name": "stdout",
     "output_type": "stream",
     "text": [
      "Train Epoch: 70 [0/2508 (0%)]\tLoss: 0.472492\n",
      "Mem before-during-after: 22807040 1943193600 22811136\n"
     ]
    },
    {
     "name": "stderr",
     "output_type": "stream",
     "text": [
      "  2%|███▋                                                                                                                                                                          | 9.405940594059286/440 [03:55<3:20:19, 27.91s/it]"
     ]
    },
    {
     "name": "stdout",
     "output_type": "stream",
     "text": [
      "Train Epoch: 70 [1280/2508 (51%)]\tLoss: 0.818349\n",
      "Mem before-during-after: 22811136 1942032384 22811136\n"
     ]
    },
    {
     "name": "stderr",
     "output_type": "stream",
     "text": [
      "  2%|███▉                                                                                                                                                                          | 9.999999999999828/440 [04:09<2:17:34, 19.20s/it]"
     ]
    },
    {
     "name": "stdout",
     "output_type": "stream",
     "text": [
      "\n",
      "Test Epoch: 70\tAccuracy: 594/736 (78%)\n",
      "\n"
     ]
    },
    {
     "name": "stderr",
     "output_type": "stream",
     "text": [
      "  2%|███▉                                                                                                                                                                         | 10.009900990098837/440 [04:10<2:33:33, 21.43s/it]"
     ]
    },
    {
     "name": "stdout",
     "output_type": "stream",
     "text": [
      "Train Epoch: 71 [0/2508 (0%)]\tLoss: 0.444011\n",
      "Mem before-during-after: 22807040 1943193600 22811136\n"
     ]
    },
    {
     "name": "stderr",
     "output_type": "stream",
     "text": [
      "  2%|████                                                                                                                                                                         | 10.405940594059198/440 [04:20<3:20:31, 28.01s/it]"
     ]
    },
    {
     "name": "stdout",
     "output_type": "stream",
     "text": [
      "Train Epoch: 71 [1280/2508 (51%)]\tLoss: 0.841040\n",
      "Mem before-during-after: 22811136 1942032384 22811136\n"
     ]
    },
    {
     "name": "stderr",
     "output_type": "stream",
     "text": [
      "  2%|████▎                                                                                                                                                                        | 10.999999999999739/440 [04:34<2:25:05, 20.29s/it]"
     ]
    },
    {
     "name": "stdout",
     "output_type": "stream",
     "text": [
      "\n",
      "Test Epoch: 71\tAccuracy: 601/736 (79%)\n",
      "\n"
     ]
    },
    {
     "name": "stderr",
     "output_type": "stream",
     "text": [
      "  3%|████▎                                                                                                                                                                        | 11.019801980197757/440 [04:35<2:31:17, 21.16s/it]"
     ]
    },
    {
     "name": "stdout",
     "output_type": "stream",
     "text": [
      "Train Epoch: 72 [0/2508 (0%)]\tLoss: 0.590224\n",
      "Mem before-during-after: 22807040 1943193600 22811136\n"
     ]
    },
    {
     "name": "stderr",
     "output_type": "stream",
     "text": [
      "  3%|████▍                                                                                                                                                                        | 11.405940594059109/440 [04:45<3:19:04, 27.87s/it]"
     ]
    },
    {
     "name": "stdout",
     "output_type": "stream",
     "text": [
      "Train Epoch: 72 [1280/2508 (51%)]\tLoss: 0.554263\n",
      "Mem before-during-after: 22811136 1941254144 22811136\n"
     ]
    },
    {
     "name": "stderr",
     "output_type": "stream",
     "text": [
      "  3%|████▋                                                                                                                                                                         | 11.99999999999965/440 [04:59<2:21:21, 19.82s/it]"
     ]
    },
    {
     "name": "stdout",
     "output_type": "stream",
     "text": [
      "\n",
      "Test Epoch: 72\tAccuracy: 586/736 (77%)\n",
      "\n"
     ]
    },
    {
     "name": "stderr",
     "output_type": "stream",
     "text": [
      "  3%|████▋                                                                                                                                                                        | 12.019801980197668/440 [05:00<2:29:42, 20.99s/it]"
     ]
    },
    {
     "name": "stdout",
     "output_type": "stream",
     "text": [
      "Train Epoch: 73 [0/2508 (0%)]\tLoss: 0.733393\n",
      "Mem before-during-after: 22807040 1943193600 22811136\n"
     ]
    },
    {
     "name": "stderr",
     "output_type": "stream",
     "text": [
      "  3%|████▉                                                                                                                                                                         | 12.40594059405902/440 [05:10<3:27:19, 29.09s/it]"
     ]
    },
    {
     "name": "stdout",
     "output_type": "stream",
     "text": [
      "Train Epoch: 73 [1280/2508 (51%)]\tLoss: 0.534575\n",
      "Mem before-during-after: 22811136 1942032384 22811136\n"
     ]
    },
    {
     "name": "stderr",
     "output_type": "stream",
     "text": [
      "  3%|█████                                                                                                                                                                        | 12.999999999999561/440 [05:25<2:26:01, 20.52s/it]"
     ]
    },
    {
     "name": "stdout",
     "output_type": "stream",
     "text": [
      "\n",
      "Test Epoch: 73\tAccuracy: 602/736 (79%)\n",
      "\n"
     ]
    },
    {
     "name": "stderr",
     "output_type": "stream",
     "text": [
      "  3%|█████▏                                                                                                                                                                        | 13.01980198019758/440 [05:25<2:33:34, 21.58s/it]"
     ]
    },
    {
     "name": "stdout",
     "output_type": "stream",
     "text": [
      "Train Epoch: 74 [0/2508 (0%)]\tLoss: 0.455664\n",
      "Mem before-during-after: 22807040 1943193600 22811136\n"
     ]
    },
    {
     "name": "stderr",
     "output_type": "stream",
     "text": [
      "  3%|█████▎                                                                                                                                                                       | 13.405940594058931/440 [05:35<3:17:14, 27.74s/it]"
     ]
    },
    {
     "name": "stdout",
     "output_type": "stream",
     "text": [
      "Train Epoch: 74 [1280/2508 (51%)]\tLoss: 0.733052\n",
      "Mem before-during-after: 22811136 1942032384 22811136\n"
     ]
    },
    {
     "name": "stderr",
     "output_type": "stream",
     "text": [
      "  3%|█████▌                                                                                                                                                                       | 13.999999999999472/440 [05:50<2:20:58, 19.86s/it]"
     ]
    },
    {
     "name": "stdout",
     "output_type": "stream",
     "text": [
      "\n",
      "Test Epoch: 74\tAccuracy: 596/736 (79%)\n",
      "\n"
     ]
    },
    {
     "name": "stderr",
     "output_type": "stream",
     "text": [
      "  3%|█████▌                                                                                                                                                                        | 14.01980198019749/440 [05:50<2:29:13, 21.02s/it]"
     ]
    },
    {
     "name": "stdout",
     "output_type": "stream",
     "text": [
      "Train Epoch: 75 [0/2508 (0%)]\tLoss: 0.552095\n",
      "Mem before-during-after: 22807040 1943193600 22811136\n"
     ]
    },
    {
     "name": "stderr",
     "output_type": "stream",
     "text": [
      "  3%|█████▋                                                                                                                                                                       | 14.405940594058842/440 [06:00<3:19:08, 28.07s/it]"
     ]
    },
    {
     "name": "stdout",
     "output_type": "stream",
     "text": [
      "Train Epoch: 75 [1280/2508 (51%)]\tLoss: 0.475070\n",
      "Mem before-during-after: 22811136 1942032384 22811136\n"
     ]
    },
    {
     "name": "stderr",
     "output_type": "stream",
     "text": [
      "  3%|█████▉                                                                                                                                                                       | 14.999999999999384/440 [06:14<2:22:12, 20.08s/it]"
     ]
    },
    {
     "name": "stdout",
     "output_type": "stream",
     "text": [
      "\n",
      "Test Epoch: 75\tAccuracy: 605/736 (80%)\n",
      "\n"
     ]
    },
    {
     "name": "stderr",
     "output_type": "stream",
     "text": [
      "  3%|█████▉                                                                                                                                                                       | 15.009900990098393/440 [06:15<2:36:04, 22.03s/it]"
     ]
    },
    {
     "name": "stdout",
     "output_type": "stream",
     "text": [
      "Train Epoch: 76 [0/2508 (0%)]\tLoss: 0.656314\n",
      "Mem before-during-after: 22807040 1943193600 22811136\n"
     ]
    },
    {
     "name": "stderr",
     "output_type": "stream",
     "text": [
      "  4%|██████                                                                                                                                                                       | 15.405940594058753/440 [06:25<3:23:51, 28.81s/it]"
     ]
    },
    {
     "name": "stdout",
     "output_type": "stream",
     "text": [
      "Train Epoch: 76 [1280/2508 (51%)]\tLoss: 0.515549\n",
      "Mem before-during-after: 22811136 1942032384 22811136\n"
     ]
    },
    {
     "name": "stderr",
     "output_type": "stream",
     "text": [
      "  4%|██████▎                                                                                                                                                                      | 15.999999999999295/440 [06:40<2:20:16, 19.85s/it]"
     ]
    },
    {
     "name": "stdout",
     "output_type": "stream",
     "text": [
      "\n",
      "Test Epoch: 76\tAccuracy: 587/736 (77%)\n",
      "\n"
     ]
    },
    {
     "name": "stderr",
     "output_type": "stream",
     "text": [
      "  4%|██████▎                                                                                                                                                                      | 16.019801980197315/440 [06:40<2:32:17, 21.55s/it]"
     ]
    },
    {
     "name": "stdout",
     "output_type": "stream",
     "text": [
      "Train Epoch: 77 [0/2508 (0%)]\tLoss: 0.749567\n",
      "Mem before-during-after: 22807040 1943193600 22811136\n"
     ]
    },
    {
     "name": "stderr",
     "output_type": "stream",
     "text": [
      "  4%|██████▍                                                                                                                                                                      | 16.405940594058666/440 [06:51<3:21:41, 28.57s/it]"
     ]
    },
    {
     "name": "stdout",
     "output_type": "stream",
     "text": [
      "Train Epoch: 77 [1280/2508 (51%)]\tLoss: 0.496707\n",
      "Mem before-during-after: 22811136 1942032384 22811136\n"
     ]
    },
    {
     "name": "stderr",
     "output_type": "stream",
     "text": [
      "  4%|██████▋                                                                                                                                                                      | 16.999999999999208/440 [07:05<2:16:55, 19.42s/it]"
     ]
    },
    {
     "name": "stdout",
     "output_type": "stream",
     "text": [
      "\n",
      "Test Epoch: 77\tAccuracy: 587/736 (77%)\n",
      "\n"
     ]
    },
    {
     "name": "stderr",
     "output_type": "stream",
     "text": [
      "  4%|██████▋                                                                                                                                                                      | 17.009900990098217/440 [07:05<2:31:38, 21.51s/it]"
     ]
    },
    {
     "name": "stdout",
     "output_type": "stream",
     "text": [
      "Train Epoch: 78 [0/2508 (0%)]\tLoss: 0.757445\n",
      "Mem before-during-after: 22807040 1943193600 22811136\n"
     ]
    },
    {
     "name": "stderr",
     "output_type": "stream",
     "text": [
      "  4%|██████▊                                                                                                                                                                      | 17.405940594058578/440 [07:16<3:14:24, 27.60s/it]"
     ]
    },
    {
     "name": "stdout",
     "output_type": "stream",
     "text": [
      "Train Epoch: 78 [1280/2508 (51%)]\tLoss: 0.926614\n",
      "Mem before-during-after: 22811136 1942032384 22811136\n"
     ]
    },
    {
     "name": "stderr",
     "output_type": "stream",
     "text": [
      "  4%|███████                                                                                                                                                                       | 17.99999999999912/440 [07:30<2:32:20, 21.66s/it]"
     ]
    },
    {
     "name": "stdout",
     "output_type": "stream",
     "text": [
      "\n",
      "Test Epoch: 78\tAccuracy: 593/736 (78%)\n",
      "\n"
     ]
    },
    {
     "name": "stderr",
     "output_type": "stream",
     "text": [
      "  4%|███████                                                                                                                                                                      | 18.009900990098128/440 [07:30<2:40:07, 22.77s/it]"
     ]
    },
    {
     "name": "stdout",
     "output_type": "stream",
     "text": [
      "Train Epoch: 79 [0/2508 (0%)]\tLoss: 0.700819\n",
      "Mem before-during-after: 22807040 1943193600 22811136\n"
     ]
    },
    {
     "name": "stderr",
     "output_type": "stream",
     "text": [
      "  4%|███████▎                                                                                                                                                                      | 18.40594059405849/440 [07:41<3:15:20, 27.80s/it]"
     ]
    },
    {
     "name": "stdout",
     "output_type": "stream",
     "text": [
      "Train Epoch: 79 [1280/2508 (51%)]\tLoss: 0.500157\n",
      "Mem before-during-after: 22811136 1941254144 22811136\n"
     ]
    },
    {
     "name": "stderr",
     "output_type": "stream",
     "text": [
      "  4%|███████▌                                                                                                                                                                      | 18.99999999999903/440 [07:55<2:18:06, 19.68s/it]"
     ]
    },
    {
     "name": "stdout",
     "output_type": "stream",
     "text": [
      "\n",
      "Test Epoch: 79\tAccuracy: 594/736 (78%)\n",
      "\n"
     ]
    },
    {
     "name": "stderr",
     "output_type": "stream",
     "text": [
      "  4%|███████▌                                                                                                                                                                      | 19.00990099009804/440 [07:55<2:30:08, 21.40s/it]"
     ]
    },
    {
     "name": "stdout",
     "output_type": "stream",
     "text": [
      "Train Epoch: 80 [0/2508 (0%)]\tLoss: 0.638573\n",
      "Mem before-during-after: 22807040 1943193600 22811136\n"
     ]
    },
    {
     "name": "stderr",
     "output_type": "stream",
     "text": [
      "  4%|███████▋                                                                                                                                                                       | 19.4059405940584/440 [08:05<3:12:57, 27.53s/it]"
     ]
    },
    {
     "name": "stdout",
     "output_type": "stream",
     "text": [
      "Train Epoch: 80 [1280/2508 (51%)]\tLoss: 0.467376\n",
      "Mem before-during-after: 22811136 1942032384 22811136\n"
     ]
    },
    {
     "name": "stderr",
     "output_type": "stream",
     "text": [
      "  5%|███████▉                                                                                                                                                                      | 19.99999999999894/440 [08:20<2:19:42, 19.96s/it]"
     ]
    },
    {
     "name": "stdout",
     "output_type": "stream",
     "text": [
      "\n",
      "Test Epoch: 80\tAccuracy: 579/736 (76%)\n",
      "\n"
     ]
    },
    {
     "name": "stderr",
     "output_type": "stream",
     "text": [
      "  5%|███████▉                                                                                                                                                                      | 20.01980198019696/440 [08:20<2:32:27, 21.78s/it]"
     ]
    },
    {
     "name": "stdout",
     "output_type": "stream",
     "text": [
      "Train Epoch: 81 [0/2508 (0%)]\tLoss: 1.037330\n",
      "Mem before-during-after: 22807040 1943193600 22811136\n"
     ]
    },
    {
     "name": "stderr",
     "output_type": "stream",
     "text": [
      "  5%|████████                                                                                                                                                                      | 20.40594059405831/440 [08:30<3:11:17, 27.35s/it]"
     ]
    },
    {
     "name": "stdout",
     "output_type": "stream",
     "text": [
      "Train Epoch: 81 [1280/2508 (51%)]\tLoss: 0.595484\n",
      "Mem before-during-after: 22811136 1942032384 22811136\n"
     ]
    },
    {
     "name": "stderr",
     "output_type": "stream",
     "text": [
      "  5%|████████▎                                                                                                                                                                    | 20.999999999998852/440 [08:44<2:20:06, 20.06s/it]"
     ]
    },
    {
     "name": "stdout",
     "output_type": "stream",
     "text": [
      "\n",
      "Test Epoch: 81\tAccuracy: 602/736 (79%)\n",
      "\n"
     ]
    },
    {
     "name": "stderr",
     "output_type": "stream",
     "text": [
      "  5%|████████▎                                                                                                                                                                     | 21.01980198019687/440 [08:45<2:26:54, 21.04s/it]"
     ]
    },
    {
     "name": "stdout",
     "output_type": "stream",
     "text": [
      "Train Epoch: 82 [0/2508 (0%)]\tLoss: 0.432284\n",
      "Mem before-during-after: 22807040 1943193600 22811136\n"
     ]
    },
    {
     "name": "stderr",
     "output_type": "stream",
     "text": [
      "  5%|████████▍                                                                                                                                                                    | 21.405940594058222/440 [08:55<3:20:10, 28.69s/it]"
     ]
    },
    {
     "name": "stdout",
     "output_type": "stream",
     "text": [
      "Train Epoch: 82 [1280/2508 (51%)]\tLoss: 0.382877\n",
      "Mem before-during-after: 22811136 1942032384 22811136\n"
     ]
    },
    {
     "name": "stderr",
     "output_type": "stream",
     "text": [
      "  5%|████████▋                                                                                                                                                                    | 21.999999999998764/440 [09:09<2:17:53, 19.79s/it]"
     ]
    },
    {
     "name": "stdout",
     "output_type": "stream",
     "text": [
      "\n",
      "Test Epoch: 82\tAccuracy: 583/736 (77%)\n",
      "\n"
     ]
    },
    {
     "name": "stderr",
     "output_type": "stream",
     "text": [
      "  5%|████████▋                                                                                                                                                                     | 22.01980198019678/440 [09:09<2:28:31, 21.32s/it]"
     ]
    },
    {
     "name": "stdout",
     "output_type": "stream",
     "text": [
      "Train Epoch: 83 [0/2508 (0%)]\tLoss: 0.691286\n",
      "Mem before-during-after: 22807040 1943193600 22811136\n"
     ]
    },
    {
     "name": "stderr",
     "output_type": "stream",
     "text": [
      "  5%|████████▊                                                                                                                                                                    | 22.405940594058134/440 [09:19<3:11:44, 27.55s/it]"
     ]
    },
    {
     "name": "stdout",
     "output_type": "stream",
     "text": [
      "Train Epoch: 83 [1280/2508 (51%)]\tLoss: 0.571183\n",
      "Mem before-during-after: 22811136 1942032384 22811136\n"
     ]
    },
    {
     "name": "stderr",
     "output_type": "stream",
     "text": [
      "  5%|█████████                                                                                                                                                                    | 22.999999999998675/440 [09:34<2:16:35, 19.65s/it]"
     ]
    },
    {
     "name": "stdout",
     "output_type": "stream",
     "text": [
      "\n",
      "Test Epoch: 83\tAccuracy: 601/736 (79%)\n",
      "\n"
     ]
    },
    {
     "name": "stderr",
     "output_type": "stream",
     "text": [
      "  5%|█████████                                                                                                                                                                    | 23.019801980196693/440 [09:34<2:26:32, 21.09s/it]"
     ]
    },
    {
     "name": "stdout",
     "output_type": "stream",
     "text": [
      "Train Epoch: 84 [0/2508 (0%)]\tLoss: 0.531208\n",
      "Mem before-during-after: 22807040 1943193600 22811136\n"
     ]
    },
    {
     "name": "stderr",
     "output_type": "stream",
     "text": [
      "  5%|█████████▏                                                                                                                                                                   | 23.405940594058045/440 [09:44<3:13:22, 27.85s/it]"
     ]
    },
    {
     "name": "stdout",
     "output_type": "stream",
     "text": [
      "Train Epoch: 84 [1280/2508 (51%)]\tLoss: 0.488677\n",
      "Mem before-during-after: 22811136 1942032384 22811136\n"
     ]
    },
    {
     "name": "stderr",
     "output_type": "stream",
     "text": [
      "  5%|█████████▍                                                                                                                                                                   | 23.999999999998586/440 [09:58<2:17:43, 19.86s/it]"
     ]
    },
    {
     "name": "stdout",
     "output_type": "stream",
     "text": [
      "\n",
      "Test Epoch: 84\tAccuracy: 591/736 (78%)\n",
      "\n"
     ]
    },
    {
     "name": "stderr",
     "output_type": "stream",
     "text": [
      "  5%|█████████▍                                                                                                                                                                   | 24.019801980196604/440 [09:59<2:29:37, 21.58s/it]"
     ]
    },
    {
     "name": "stdout",
     "output_type": "stream",
     "text": [
      "Train Epoch: 85 [0/2508 (0%)]\tLoss: 0.380922\n",
      "Mem before-during-after: 22807040 1943193600 22811136\n"
     ]
    },
    {
     "name": "stderr",
     "output_type": "stream",
     "text": [
      "  6%|█████████▌                                                                                                                                                                   | 24.405940594057956/440 [10:09<3:14:54, 28.14s/it]"
     ]
    },
    {
     "name": "stdout",
     "output_type": "stream",
     "text": [
      "Train Epoch: 85 [1280/2508 (51%)]\tLoss: 0.568437\n",
      "Mem before-during-after: 22811136 1941254144 22811136\n"
     ]
    },
    {
     "name": "stderr",
     "output_type": "stream",
     "text": [
      "  6%|█████████▊                                                                                                                                                                   | 24.999999999998497/440 [10:23<2:18:12, 19.98s/it]"
     ]
    },
    {
     "name": "stdout",
     "output_type": "stream",
     "text": [
      "\n",
      "Test Epoch: 85\tAccuracy: 591/736 (78%)\n",
      "\n"
     ]
    },
    {
     "name": "stderr",
     "output_type": "stream",
     "text": [
      "  6%|█████████▊                                                                                                                                                                   | 25.019801980196515/440 [10:24<2:25:21, 21.02s/it]"
     ]
    },
    {
     "name": "stdout",
     "output_type": "stream",
     "text": [
      "Train Epoch: 86 [0/2508 (0%)]\tLoss: 0.473219\n",
      "Mem before-during-after: 22807040 1943193600 22811136\n"
     ]
    },
    {
     "name": "stderr",
     "output_type": "stream",
     "text": [
      "  6%|█████████▉                                                                                                                                                                   | 25.405940594057867/440 [10:34<3:10:07, 27.51s/it]"
     ]
    },
    {
     "name": "stdout",
     "output_type": "stream",
     "text": [
      "Train Epoch: 86 [1280/2508 (51%)]\tLoss: 0.466897\n",
      "Mem before-during-after: 22811136 1941254144 22811136\n"
     ]
    },
    {
     "name": "stderr",
     "output_type": "stream",
     "text": [
      "  6%|██████████▎                                                                                                                                                                   | 25.99999999999841/440 [10:48<2:14:59, 19.56s/it]"
     ]
    },
    {
     "name": "stdout",
     "output_type": "stream",
     "text": [
      "\n",
      "Test Epoch: 86\tAccuracy: 577/736 (76%)\n",
      "\n"
     ]
    },
    {
     "name": "stderr",
     "output_type": "stream",
     "text": [
      "  6%|██████████▏                                                                                                                                                                  | 26.019801980196426/440 [10:49<2:47:40, 24.30s/it]"
     ]
    },
    {
     "name": "stdout",
     "output_type": "stream",
     "text": [
      "Train Epoch: 87 [0/2508 (0%)]\tLoss: 0.450821\n",
      "Mem before-during-after: 22807040 1943193600 22811136\n"
     ]
    },
    {
     "name": "stderr",
     "output_type": "stream",
     "text": [
      "  6%|██████████▍                                                                                                                                                                   | 26.40594059405778/440 [10:59<3:13:51, 28.12s/it]"
     ]
    },
    {
     "name": "stdout",
     "output_type": "stream",
     "text": [
      "Train Epoch: 87 [1280/2508 (51%)]\tLoss: 0.578732\n",
      "Mem before-during-after: 22811136 1942032384 22811136\n"
     ]
    },
    {
     "name": "stderr",
     "output_type": "stream",
     "text": [
      "  6%|██████████▋                                                                                                                                                                   | 26.99999999999832/440 [11:13<2:16:41, 19.86s/it]"
     ]
    },
    {
     "name": "stdout",
     "output_type": "stream",
     "text": [
      "\n",
      "Test Epoch: 87\tAccuracy: 556/736 (73%)\n",
      "\n"
     ]
    },
    {
     "name": "stderr",
     "output_type": "stream",
     "text": [
      "  6%|██████████▋                                                                                                                                                                   | 27.00990099009733/440 [11:13<2:32:02, 22.09s/it]"
     ]
    },
    {
     "name": "stdout",
     "output_type": "stream",
     "text": [
      "Train Epoch: 88 [0/2508 (0%)]\tLoss: 0.912455\n",
      "Mem before-during-after: 22807040 1943193600 22811136\n"
     ]
    },
    {
     "name": "stderr",
     "output_type": "stream",
     "text": [
      "  6%|██████████▊                                                                                                                                                                   | 27.40594059405769/440 [11:24<3:14:17, 28.25s/it]"
     ]
    },
    {
     "name": "stdout",
     "output_type": "stream",
     "text": [
      "Train Epoch: 88 [1280/2508 (51%)]\tLoss: 0.592305\n",
      "Mem before-during-after: 22811136 1941254144 22811136\n"
     ]
    },
    {
     "name": "stderr",
     "output_type": "stream",
     "text": [
      "  6%|███████████                                                                                                                                                                   | 27.99999999999823/440 [11:38<2:17:49, 20.07s/it]"
     ]
    },
    {
     "name": "stdout",
     "output_type": "stream",
     "text": [
      "\n",
      "Test Epoch: 88\tAccuracy: 606/736 (80%)\n",
      "\n"
     ]
    },
    {
     "name": "stderr",
     "output_type": "stream",
     "text": [
      "  6%|███████████                                                                                                                                                                   | 28.01980198019625/440 [11:38<2:27:30, 21.48s/it]"
     ]
    },
    {
     "name": "stdout",
     "output_type": "stream",
     "text": [
      "Train Epoch: 89 [0/2508 (0%)]\tLoss: 0.575191\n",
      "Mem before-during-after: 22807040 1943193600 22811136\n"
     ]
    },
    {
     "name": "stderr",
     "output_type": "stream",
     "text": [
      "  6%|███████████▎                                                                                                                                                                   | 28.4059405940576/440 [11:49<3:12:45, 28.10s/it]"
     ]
    },
    {
     "name": "stdout",
     "output_type": "stream",
     "text": [
      "Train Epoch: 89 [1280/2508 (51%)]\tLoss: 0.581109\n",
      "Mem before-during-after: 22811136 1942032384 22811136\n"
     ]
    },
    {
     "name": "stderr",
     "output_type": "stream",
     "text": [
      "  7%|███████████▍                                                                                                                                                                 | 28.999999999998142/440 [12:03<2:16:03, 19.86s/it]"
     ]
    },
    {
     "name": "stdout",
     "output_type": "stream",
     "text": [
      "\n",
      "Test Epoch: 89\tAccuracy: 606/736 (80%)\n",
      "\n"
     ]
    },
    {
     "name": "stderr",
     "output_type": "stream",
     "text": [
      "  7%|███████████▍                                                                                                                                                                  | 29.01980198019616/440 [12:03<2:26:26, 21.38s/it]"
     ]
    },
    {
     "name": "stdout",
     "output_type": "stream",
     "text": [
      "Train Epoch: 90 [0/2508 (0%)]\tLoss: 0.373437\n",
      "Mem before-during-after: 22807040 1943193600 22811136\n"
     ]
    },
    {
     "name": "stderr",
     "output_type": "stream",
     "text": [
      "  7%|███████████▌                                                                                                                                                                 | 29.405940594057512/440 [12:13<3:12:05, 28.07s/it]"
     ]
    },
    {
     "name": "stdout",
     "output_type": "stream",
     "text": [
      "Train Epoch: 90 [1280/2508 (51%)]\tLoss: 0.313482\n",
      "Mem before-during-after: 22811136 1942032384 22811136\n"
     ]
    },
    {
     "name": "stderr",
     "output_type": "stream",
     "text": [
      "  7%|███████████▊                                                                                                                                                                 | 29.999999999998053/440 [12:27<2:17:35, 20.14s/it]"
     ]
    },
    {
     "name": "stdout",
     "output_type": "stream",
     "text": [
      "\n",
      "Test Epoch: 90\tAccuracy: 602/736 (79%)\n",
      "\n"
     ]
    },
    {
     "name": "stderr",
     "output_type": "stream",
     "text": [
      "  7%|███████████▊                                                                                                                                                                  | 30.01980198019607/440 [12:28<2:26:53, 21.50s/it]"
     ]
    },
    {
     "name": "stdout",
     "output_type": "stream",
     "text": [
      "Train Epoch: 91 [0/2508 (0%)]\tLoss: 0.691593\n",
      "Mem before-during-after: 22807040 1943193600 22811136\n"
     ]
    },
    {
     "name": "stderr",
     "output_type": "stream",
     "text": [
      "  7%|███████████▉                                                                                                                                                                 | 30.405940594057423/440 [12:38<3:08:07, 27.56s/it]"
     ]
    },
    {
     "name": "stdout",
     "output_type": "stream",
     "text": [
      "Train Epoch: 91 [1280/2508 (51%)]\tLoss: 0.301101\n",
      "Mem before-during-after: 22811136 1941254144 22811136\n"
     ]
    },
    {
     "name": "stderr",
     "output_type": "stream",
     "text": [
      "  7%|████████████▏                                                                                                                                                                | 30.999999999997964/440 [12:52<2:16:22, 20.01s/it]"
     ]
    },
    {
     "name": "stdout",
     "output_type": "stream",
     "text": [
      "\n",
      "Test Epoch: 91\tAccuracy: 607/736 (80%)\n",
      "\n"
     ]
    },
    {
     "name": "stderr",
     "output_type": "stream",
     "text": [
      "  7%|████████████▏                                                                                                                                                                | 31.009900990096973/440 [12:52<2:31:03, 22.16s/it]"
     ]
    },
    {
     "name": "stdout",
     "output_type": "stream",
     "text": [
      "Train Epoch: 92 [0/2508 (0%)]\tLoss: 0.612614\n",
      "Mem before-during-after: 22807040 1943193600 22811136\n"
     ]
    },
    {
     "name": "stderr",
     "output_type": "stream",
     "text": [
      "  7%|████████████▎                                                                                                                                                                | 31.405940594057334/440 [13:03<3:11:53, 28.18s/it]"
     ]
    },
    {
     "name": "stdout",
     "output_type": "stream",
     "text": [
      "Train Epoch: 92 [1280/2508 (51%)]\tLoss: 0.539322\n",
      "Mem before-during-after: 22811136 1941254144 22811136\n"
     ]
    },
    {
     "name": "stderr",
     "output_type": "stream",
     "text": [
      "  7%|████████████▌                                                                                                                                                                | 31.999999999997875/440 [13:17<2:14:05, 19.72s/it]"
     ]
    },
    {
     "name": "stdout",
     "output_type": "stream",
     "text": [
      "\n",
      "Test Epoch: 92\tAccuracy: 602/736 (79%)\n",
      "\n"
     ]
    },
    {
     "name": "stderr",
     "output_type": "stream",
     "text": [
      "  7%|████████████▋                                                                                                                                                                  | 32.0198019801959/440 [13:18<2:22:08, 20.90s/it]"
     ]
    },
    {
     "name": "stdout",
     "output_type": "stream",
     "text": [
      "Train Epoch: 93 [0/2508 (0%)]\tLoss: 0.448198\n",
      "Mem before-during-after: 22807040 1943193600 22811136\n"
     ]
    },
    {
     "name": "stderr",
     "output_type": "stream",
     "text": [
      "  7%|████████████▊                                                                                                                                                                 | 32.40594059405739/440 [13:28<3:13:43, 28.52s/it]"
     ]
    },
    {
     "name": "stdout",
     "output_type": "stream",
     "text": [
      "Train Epoch: 93 [1280/2508 (51%)]\tLoss: 0.603185\n",
      "Mem before-during-after: 22811136 1942032384 22811136\n"
     ]
    },
    {
     "name": "stderr",
     "output_type": "stream",
     "text": [
      "  7%|████████████▉                                                                                                                                                                | 32.999999999998145/440 [13:42<2:13:17, 19.65s/it]"
     ]
    },
    {
     "name": "stdout",
     "output_type": "stream",
     "text": [
      "\n",
      "Test Epoch: 93\tAccuracy: 604/736 (80%)\n",
      "\n"
     ]
    },
    {
     "name": "stderr",
     "output_type": "stream",
     "text": [
      "  8%|█████████████                                                                                                                                                                 | 33.01980198019617/440 [13:43<2:24:04, 21.24s/it]"
     ]
    },
    {
     "name": "stdout",
     "output_type": "stream",
     "text": [
      "Train Epoch: 94 [0/2508 (0%)]\tLoss: 0.965356\n",
      "Mem before-during-after: 22807040 1943193600 22811136\n"
     ]
    },
    {
     "name": "stderr",
     "output_type": "stream",
     "text": [
      "  8%|█████████████▏                                                                                                                                                                | 33.40594059405766/440 [13:53<3:08:31, 27.82s/it]"
     ]
    },
    {
     "name": "stdout",
     "output_type": "stream",
     "text": [
      "Train Epoch: 94 [1280/2508 (51%)]\tLoss: 0.574557\n",
      "Mem before-during-after: 22811136 1941254144 22811136\n"
     ]
    },
    {
     "name": "stderr",
     "output_type": "stream",
     "text": [
      "  8%|█████████████▎                                                                                                                                                               | 33.999999999998415/440 [14:07<2:15:29, 20.02s/it]"
     ]
    },
    {
     "name": "stdout",
     "output_type": "stream",
     "text": [
      "\n",
      "Test Epoch: 94\tAccuracy: 603/736 (79%)\n",
      "\n"
     ]
    },
    {
     "name": "stderr",
     "output_type": "stream",
     "text": [
      "  8%|█████████████▍                                                                                                                                                                | 34.00990099009743/440 [14:07<2:27:54, 21.86s/it]"
     ]
    },
    {
     "name": "stdout",
     "output_type": "stream",
     "text": [
      "Train Epoch: 95 [0/2508 (0%)]\tLoss: 0.569120\n",
      "Mem before-during-after: 22807040 1943193600 22811136\n"
     ]
    },
    {
     "name": "stderr",
     "output_type": "stream",
     "text": [
      "  8%|█████████████▌                                                                                                                                                                | 34.40594059405793/440 [14:18<3:07:36, 27.75s/it]"
     ]
    },
    {
     "name": "stdout",
     "output_type": "stream",
     "text": [
      "Train Epoch: 95 [1280/2508 (51%)]\tLoss: 0.452047\n",
      "Mem before-during-after: 22811136 1942032384 22811136\n"
     ]
    },
    {
     "name": "stderr",
     "output_type": "stream",
     "text": [
      "  8%|█████████████▊                                                                                                                                                               | 34.999999999998685/440 [14:32<2:15:31, 20.08s/it]"
     ]
    },
    {
     "name": "stdout",
     "output_type": "stream",
     "text": [
      "\n",
      "Test Epoch: 95\tAccuracy: 586/736 (77%)\n",
      "\n"
     ]
    },
    {
     "name": "stderr",
     "output_type": "stream",
     "text": [
      "  8%|█████████████▉                                                                                                                                                                 | 35.0099009900977/440 [14:32<2:28:50, 22.05s/it]"
     ]
    },
    {
     "name": "stdout",
     "output_type": "stream",
     "text": [
      "Train Epoch: 96 [0/2508 (0%)]\tLoss: 0.422623\n",
      "Mem before-during-after: 22807040 1943193600 22811136\n"
     ]
    },
    {
     "name": "stderr",
     "output_type": "stream",
     "text": [
      "  8%|██████████████                                                                                                                                                                 | 35.4059405940582/440 [14:42<3:06:36, 27.67s/it]"
     ]
    },
    {
     "name": "stdout",
     "output_type": "stream",
     "text": [
      "Train Epoch: 96 [1280/2508 (51%)]\tLoss: 0.348849\n",
      "Mem before-during-after: 22811136 1942032384 22811136\n"
     ]
    },
    {
     "name": "stderr",
     "output_type": "stream",
     "text": [
      "  8%|██████████████▏                                                                                                                                                              | 35.999999999998956/440 [14:56<2:14:51, 20.03s/it]"
     ]
    },
    {
     "name": "stdout",
     "output_type": "stream",
     "text": [
      "\n",
      "Test Epoch: 96\tAccuracy: 609/736 (80%)\n",
      "\n",
      "saved model: ../models_cremad3/cremad_label3_m12new_best_96epoch.pt\n"
     ]
    },
    {
     "name": "stderr",
     "output_type": "stream",
     "text": [
      "  8%|██████████████▏                                                                                                                                                               | 36.00990099009797/440 [14:57<2:27:11, 21.86s/it]"
     ]
    },
    {
     "name": "stdout",
     "output_type": "stream",
     "text": [
      "Train Epoch: 97 [0/2508 (0%)]\tLoss: 0.601822\n",
      "Mem before-during-after: 22807040 1943193600 22811136\n"
     ]
    },
    {
     "name": "stderr",
     "output_type": "stream",
     "text": [
      "  8%|██████████████▍                                                                                                                                                               | 36.40594059405847/440 [15:07<3:05:57, 27.65s/it]"
     ]
    },
    {
     "name": "stdout",
     "output_type": "stream",
     "text": [
      "Train Epoch: 97 [1280/2508 (51%)]\tLoss: 0.582234\n",
      "Mem before-during-after: 22811136 1942032384 22811136\n"
     ]
    },
    {
     "name": "stderr",
     "output_type": "stream",
     "text": [
      "  8%|██████████████▌                                                                                                                                                              | 36.999999999999226/440 [15:21<2:16:45, 20.36s/it]"
     ]
    },
    {
     "name": "stdout",
     "output_type": "stream",
     "text": [
      "\n",
      "Test Epoch: 97\tAccuracy: 601/736 (79%)\n",
      "\n"
     ]
    },
    {
     "name": "stderr",
     "output_type": "stream",
     "text": [
      "  8%|██████████████▋                                                                                                                                                               | 37.01980198019725/440 [15:22<2:24:25, 21.50s/it]"
     ]
    },
    {
     "name": "stdout",
     "output_type": "stream",
     "text": [
      "Train Epoch: 98 [0/2508 (0%)]\tLoss: 0.490983\n",
      "Mem before-during-after: 22807040 1943193600 22811136\n"
     ]
    },
    {
     "name": "stderr",
     "output_type": "stream",
     "text": [
      "  9%|██████████████▊                                                                                                                                                               | 37.40594059405874/440 [15:32<3:06:02, 27.73s/it]"
     ]
    },
    {
     "name": "stdout",
     "output_type": "stream",
     "text": [
      "Train Epoch: 98 [1280/2508 (51%)]\tLoss: 0.529669\n",
      "Mem before-during-after: 22811136 1941254144 22811136\n"
     ]
    },
    {
     "name": "stderr",
     "output_type": "stream",
     "text": [
      "  9%|██████████████▉                                                                                                                                                              | 37.999999999999496/440 [15:46<2:15:27, 20.22s/it]"
     ]
    },
    {
     "name": "stdout",
     "output_type": "stream",
     "text": [
      "\n",
      "Test Epoch: 98\tAccuracy: 588/736 (77%)\n",
      "\n"
     ]
    },
    {
     "name": "stderr",
     "output_type": "stream",
     "text": [
      "  9%|███████████████                                                                                                                                                               | 38.01980198019752/440 [15:47<2:23:42, 21.45s/it]"
     ]
    },
    {
     "name": "stdout",
     "output_type": "stream",
     "text": [
      "Train Epoch: 99 [0/2508 (0%)]\tLoss: 0.415254\n",
      "Mem before-during-after: 22807040 1943193600 22811136\n"
     ]
    },
    {
     "name": "stderr",
     "output_type": "stream",
     "text": [
      "  9%|███████████████▏                                                                                                                                                              | 38.40594059405901/440 [15:57<3:07:06, 27.95s/it]"
     ]
    },
    {
     "name": "stdout",
     "output_type": "stream",
     "text": [
      "Train Epoch: 99 [1280/2508 (51%)]\tLoss: 0.595455\n",
      "Mem before-during-after: 22811136 1941254144 22811136\n"
     ]
    },
    {
     "name": "stderr",
     "output_type": "stream",
     "text": [
      "  9%|███████████████▎                                                                                                                                                             | 38.999999999999766/440 [16:11<2:16:22, 20.41s/it]"
     ]
    },
    {
     "name": "stdout",
     "output_type": "stream",
     "text": [
      "\n",
      "Test Epoch: 99\tAccuracy: 596/736 (79%)\n",
      "\n"
     ]
    },
    {
     "name": "stderr",
     "output_type": "stream",
     "text": [
      "  9%|███████████████▍                                                                                                                                                              | 39.00990099009878/440 [16:11<2:27:09, 22.02s/it]"
     ]
    },
    {
     "name": "stdout",
     "output_type": "stream",
     "text": [
      "Train Epoch: 100 [0/2508 (0%)]\tLoss: 0.384256\n",
      "Mem before-during-after: 22807040 1943193600 22811136\n"
     ]
    },
    {
     "name": "stderr",
     "output_type": "stream",
     "text": [
      "  9%|███████████████▌                                                                                                                                                              | 39.40594059405928/440 [16:22<3:06:55, 28.00s/it]"
     ]
    },
    {
     "name": "stdout",
     "output_type": "stream",
     "text": [
      "Train Epoch: 100 [1280/2508 (51%)]\tLoss: 0.502011\n",
      "Mem before-during-after: 22811136 1941516288 22811136\n"
     ]
    },
    {
     "name": "stderr",
     "output_type": "stream",
     "text": [
      "  9%|███████████████▋                                                                                                                                                             | 40.000000000000036/440 [16:36<2:14:20, 20.15s/it]"
     ]
    },
    {
     "name": "stdout",
     "output_type": "stream",
     "text": [
      "\n",
      "Test Epoch: 100\tAccuracy: 578/736 (76%)\n",
      "\n"
     ]
    },
    {
     "name": "stderr",
     "output_type": "stream",
     "text": [
      "  9%|███████████████▊                                                                                                                                                              | 40.00990099009905/440 [16:36<2:27:39, 22.15s/it]"
     ]
    },
    {
     "name": "stdout",
     "output_type": "stream",
     "text": [
      "Train Epoch: 101 [0/2508 (0%)]\tLoss: 0.795359\n",
      "Mem before-during-after: 22807040 1943193600 22811136\n"
     ]
    },
    {
     "name": "stderr",
     "output_type": "stream",
     "text": [
      "  9%|███████████████▉                                                                                                                                                              | 40.40594059405955/440 [16:47<3:20:31, 30.11s/it]"
     ]
    },
    {
     "name": "stdout",
     "output_type": "stream",
     "text": [
      "Train Epoch: 101 [1280/2508 (51%)]\tLoss: 0.561622\n",
      "Mem before-during-after: 22811136 1942032384 22811136\n"
     ]
    },
    {
     "name": "stderr",
     "output_type": "stream",
     "text": [
      "  9%|████████████████                                                                                                                                                             | 41.000000000000306/440 [17:01<2:12:37, 19.94s/it]"
     ]
    },
    {
     "name": "stdout",
     "output_type": "stream",
     "text": [
      "\n",
      "Test Epoch: 101\tAccuracy: 574/736 (76%)\n",
      "\n"
     ]
    },
    {
     "name": "stderr",
     "output_type": "stream",
     "text": [
      "  9%|████████████████▏                                                                                                                                                             | 41.01980198019833/440 [17:01<2:21:36, 21.30s/it]"
     ]
    },
    {
     "name": "stdout",
     "output_type": "stream",
     "text": [
      "Train Epoch: 102 [0/2508 (0%)]\tLoss: 0.500941\n",
      "Mem before-during-after: 22807040 1943193600 22811136\n"
     ]
    },
    {
     "name": "stderr",
     "output_type": "stream",
     "text": [
      "  9%|████████████████▎                                                                                                                                                             | 41.40594059405982/440 [17:11<3:03:50, 27.67s/it]"
     ]
    },
    {
     "name": "stdout",
     "output_type": "stream",
     "text": [
      "Train Epoch: 102 [1280/2508 (51%)]\tLoss: 0.533566\n",
      "Mem before-during-after: 22811136 1942032384 22811136\n"
     ]
    },
    {
     "name": "stderr",
     "output_type": "stream",
     "text": [
      " 10%|████████████████▌                                                                                                                                                            | 42.000000000000576/440 [17:26<2:14:25, 20.26s/it]"
     ]
    },
    {
     "name": "stdout",
     "output_type": "stream",
     "text": [
      "\n",
      "Test Epoch: 102\tAccuracy: 602/736 (79%)\n",
      "\n"
     ]
    },
    {
     "name": "stderr",
     "output_type": "stream",
     "text": [
      " 10%|████████████████▌                                                                                                                                                             | 42.00990099009959/440 [17:26<2:28:55, 22.45s/it]"
     ]
    },
    {
     "name": "stdout",
     "output_type": "stream",
     "text": [
      "Train Epoch: 103 [0/2508 (0%)]\tLoss: 0.380792\n",
      "Mem before-during-after: 22807040 1943193600 22811136\n"
     ]
    },
    {
     "name": "stderr",
     "output_type": "stream",
     "text": [
      " 10%|████████████████▊                                                                                                                                                             | 42.40594059406009/440 [17:36<3:06:26, 28.14s/it]"
     ]
    },
    {
     "name": "stdout",
     "output_type": "stream",
     "text": [
      "Train Epoch: 103 [1280/2508 (51%)]\tLoss: 0.483267\n",
      "Mem before-during-after: 22811136 1942032384 22811136\n"
     ]
    },
    {
     "name": "stderr",
     "output_type": "stream",
     "text": [
      " 10%|████████████████▉                                                                                                                                                            | 43.000000000000846/440 [17:51<2:13:48, 20.22s/it]"
     ]
    },
    {
     "name": "stdout",
     "output_type": "stream",
     "text": [
      "\n",
      "Test Epoch: 103\tAccuracy: 608/736 (80%)\n",
      "\n"
     ]
    },
    {
     "name": "stderr",
     "output_type": "stream",
     "text": [
      " 10%|█████████████████                                                                                                                                                             | 43.00990099009986/440 [17:51<2:26:00, 22.07s/it]"
     ]
    },
    {
     "name": "stdout",
     "output_type": "stream",
     "text": [
      "Train Epoch: 104 [0/2508 (0%)]\tLoss: 0.267467\n",
      "Mem before-during-after: 22807040 1943193600 22811136\n"
     ]
    },
    {
     "name": "stderr",
     "output_type": "stream",
     "text": [
      " 10%|█████████████████▏                                                                                                                                                            | 43.40594059406036/440 [18:01<3:04:25, 27.90s/it]"
     ]
    },
    {
     "name": "stdout",
     "output_type": "stream",
     "text": [
      "Train Epoch: 104 [1280/2508 (51%)]\tLoss: 0.433555\n",
      "Mem before-during-after: 22811136 1942032384 22811136\n"
     ]
    },
    {
     "name": "stderr",
     "output_type": "stream",
     "text": [
      " 10%|█████████████████▎                                                                                                                                                           | 44.000000000001116/440 [18:16<2:21:34, 21.45s/it]"
     ]
    },
    {
     "name": "stdout",
     "output_type": "stream",
     "text": [
      "\n",
      "Test Epoch: 104\tAccuracy: 599/736 (79%)\n",
      "\n"
     ]
    },
    {
     "name": "stderr",
     "output_type": "stream",
     "text": [
      " 10%|█████████████████▍                                                                                                                                                            | 44.00990099010013/440 [18:16<2:29:39, 22.68s/it]"
     ]
    },
    {
     "name": "stdout",
     "output_type": "stream",
     "text": [
      "Train Epoch: 105 [0/2508 (0%)]\tLoss: 0.586547\n",
      "Mem before-during-after: 22807040 1943193600 22811136\n"
     ]
    },
    {
     "name": "stderr",
     "output_type": "stream",
     "text": [
      " 10%|█████████████████▌                                                                                                                                                            | 44.40594059406063/440 [18:26<3:02:59, 27.75s/it]"
     ]
    },
    {
     "name": "stdout",
     "output_type": "stream",
     "text": [
      "Train Epoch: 105 [1280/2508 (51%)]\tLoss: 0.331978\n",
      "Mem before-during-after: 22811136 1942032384 22811136\n"
     ]
    },
    {
     "name": "stderr",
     "output_type": "stream",
     "text": [
      " 10%|█████████████████▋                                                                                                                                                           | 45.000000000001386/440 [18:40<2:13:30, 20.28s/it]"
     ]
    },
    {
     "name": "stdout",
     "output_type": "stream",
     "text": [
      "\n",
      "Test Epoch: 105\tAccuracy: 535/736 (70%)\n",
      "\n"
     ]
    },
    {
     "name": "stderr",
     "output_type": "stream",
     "text": [
      " 10%|█████████████████▊                                                                                                                                                            | 45.01980198019941/440 [18:41<2:19:26, 21.18s/it]"
     ]
    },
    {
     "name": "stdout",
     "output_type": "stream",
     "text": [
      "Train Epoch: 106 [0/2508 (0%)]\tLoss: 0.709835\n",
      "Mem before-during-after: 22807040 1943193600 22811136\n"
     ]
    },
    {
     "name": "stderr",
     "output_type": "stream",
     "text": [
      " 10%|██████████████████                                                                                                                                                             | 45.4059405940609/440 [18:51<3:06:24, 28.35s/it]"
     ]
    },
    {
     "name": "stdout",
     "output_type": "stream",
     "text": [
      "Train Epoch: 106 [1280/2508 (51%)]\tLoss: 0.746912\n",
      "Mem before-during-after: 22811136 1942032384 22811136\n"
     ]
    },
    {
     "name": "stderr",
     "output_type": "stream",
     "text": [
      " 10%|██████████████████                                                                                                                                                           | 46.000000000001656/440 [19:05<2:10:31, 19.88s/it]"
     ]
    },
    {
     "name": "stdout",
     "output_type": "stream",
     "text": [
      "\n",
      "Test Epoch: 106\tAccuracy: 603/736 (79%)\n",
      "\n"
     ]
    },
    {
     "name": "stderr",
     "output_type": "stream",
     "text": [
      " 10%|██████████████████▏                                                                                                                                                           | 46.01980198019968/440 [19:06<2:19:37, 21.26s/it]"
     ]
    },
    {
     "name": "stdout",
     "output_type": "stream",
     "text": [
      "Train Epoch: 107 [0/2508 (0%)]\tLoss: 0.812307\n",
      "Mem before-during-after: 22807040 1943193600 22811136\n"
     ]
    },
    {
     "name": "stderr",
     "output_type": "stream",
     "text": [
      " 11%|██████████████████▎                                                                                                                                                           | 46.40594059406117/440 [19:16<3:02:57, 27.89s/it]"
     ]
    },
    {
     "name": "stdout",
     "output_type": "stream",
     "text": [
      "Train Epoch: 107 [1280/2508 (51%)]\tLoss: 0.435590\n",
      "Mem before-during-after: 22811136 1942032384 22811136\n"
     ]
    },
    {
     "name": "stderr",
     "output_type": "stream",
     "text": [
      " 11%|██████████████████▍                                                                                                                                                          | 47.000000000001926/440 [19:30<2:09:24, 19.76s/it]"
     ]
    },
    {
     "name": "stdout",
     "output_type": "stream",
     "text": [
      "\n",
      "Test Epoch: 107\tAccuracy: 595/736 (78%)\n",
      "\n"
     ]
    },
    {
     "name": "stderr",
     "output_type": "stream",
     "text": [
      " 11%|██████████████████▌                                                                                                                                                           | 47.01980198019995/440 [19:30<2:16:58, 20.91s/it]"
     ]
    },
    {
     "name": "stdout",
     "output_type": "stream",
     "text": [
      "Train Epoch: 108 [0/2508 (0%)]\tLoss: 0.487986\n",
      "Mem before-during-after: 22807040 1943193600 22811136\n"
     ]
    },
    {
     "name": "stderr",
     "output_type": "stream",
     "text": [
      " 11%|██████████████████▋                                                                                                                                                           | 47.40594059406144/440 [19:40<3:00:07, 27.53s/it]"
     ]
    },
    {
     "name": "stdout",
     "output_type": "stream",
     "text": [
      "Train Epoch: 108 [1280/2508 (51%)]\tLoss: 0.532072\n",
      "Mem before-during-after: 22811136 1941942272 22811136\n"
     ]
    },
    {
     "name": "stderr",
     "output_type": "stream",
     "text": [
      " 11%|██████████████████▊                                                                                                                                                          | 48.000000000002196/440 [19:55<2:11:14, 20.09s/it]"
     ]
    },
    {
     "name": "stdout",
     "output_type": "stream",
     "text": [
      "\n",
      "Test Epoch: 108\tAccuracy: 590/736 (78%)\n",
      "\n"
     ]
    },
    {
     "name": "stderr",
     "output_type": "stream",
     "text": [
      " 11%|██████████████████▉                                                                                                                                                           | 48.01980198020022/440 [19:55<2:18:38, 21.22s/it]"
     ]
    },
    {
     "name": "stdout",
     "output_type": "stream",
     "text": [
      "Train Epoch: 109 [0/2508 (0%)]\tLoss: 0.393122\n",
      "Mem before-during-after: 22807040 1943193600 22811136\n"
     ]
    },
    {
     "name": "stderr",
     "output_type": "stream",
     "text": [
      " 11%|███████████████████▏                                                                                                                                                          | 48.40594059406171/440 [20:06<3:01:52, 27.87s/it]"
     ]
    },
    {
     "name": "stdout",
     "output_type": "stream",
     "text": [
      "Train Epoch: 109 [1280/2508 (51%)]\tLoss: 0.408858\n",
      "Mem before-during-after: 22811136 1942032384 22811136\n"
     ]
    },
    {
     "name": "stderr",
     "output_type": "stream",
     "text": [
      " 11%|███████████████████▎                                                                                                                                                         | 49.000000000002466/440 [20:20<2:07:56, 19.63s/it]"
     ]
    },
    {
     "name": "stdout",
     "output_type": "stream",
     "text": [
      "\n",
      "Test Epoch: 109\tAccuracy: 575/736 (76%)\n",
      "\n"
     ]
    },
    {
     "name": "stderr",
     "output_type": "stream",
     "text": [
      " 11%|███████████████████▍                                                                                                                                                          | 49.00990099010148/440 [20:20<2:21:41, 21.74s/it]"
     ]
    },
    {
     "name": "stdout",
     "output_type": "stream",
     "text": [
      "Train Epoch: 110 [0/2508 (0%)]\tLoss: 0.632593\n",
      "Mem before-during-after: 22807040 1943193600 22811136\n"
     ]
    },
    {
     "name": "stderr",
     "output_type": "stream",
     "text": [
      " 11%|███████████████████▌                                                                                                                                                          | 49.40594059406198/440 [20:30<2:59:44, 27.61s/it]"
     ]
    },
    {
     "name": "stdout",
     "output_type": "stream",
     "text": [
      "Train Epoch: 110 [1280/2508 (51%)]\tLoss: 0.633104\n",
      "Mem before-during-after: 22811136 1942032384 22811136\n"
     ]
    },
    {
     "name": "stderr",
     "output_type": "stream",
     "text": [
      " 11%|███████████████████▋                                                                                                                                                         | 50.000000000002736/440 [20:44<2:11:25, 20.22s/it]"
     ]
    },
    {
     "name": "stdout",
     "output_type": "stream",
     "text": [
      "\n",
      "Test Epoch: 110\tAccuracy: 587/736 (77%)\n",
      "\n"
     ]
    },
    {
     "name": "stderr",
     "output_type": "stream",
     "text": [
      " 11%|███████████████████▊                                                                                                                                                          | 50.01980198020076/440 [20:45<2:17:54, 21.22s/it]"
     ]
    },
    {
     "name": "stdout",
     "output_type": "stream",
     "text": [
      "Train Epoch: 111 [0/2508 (0%)]\tLoss: 0.693863\n",
      "Mem before-during-after: 22807040 1943193600 22811136\n"
     ]
    },
    {
     "name": "stderr",
     "output_type": "stream",
     "text": [
      " 11%|███████████████████▉                                                                                                                                                          | 50.40594059406225/440 [20:55<3:02:27, 28.10s/it]"
     ]
    },
    {
     "name": "stdout",
     "output_type": "stream",
     "text": [
      "Train Epoch: 111 [1280/2508 (51%)]\tLoss: 0.516739\n",
      "Mem before-during-after: 22811136 1941254144 22811136\n"
     ]
    },
    {
     "name": "stderr",
     "output_type": "stream",
     "text": [
      " 12%|████████████████████                                                                                                                                                         | 51.000000000003006/440 [21:09<2:12:24, 20.42s/it]"
     ]
    },
    {
     "name": "stdout",
     "output_type": "stream",
     "text": [
      "\n",
      "Test Epoch: 111\tAccuracy: 593/736 (78%)\n",
      "\n"
     ]
    },
    {
     "name": "stderr",
     "output_type": "stream",
     "text": [
      " 12%|████████████████████▏                                                                                                                                                         | 51.01980198020103/440 [21:10<2:18:36, 21.38s/it]"
     ]
    },
    {
     "name": "stdout",
     "output_type": "stream",
     "text": [
      "Train Epoch: 112 [0/2508 (0%)]\tLoss: 0.521775\n",
      "Mem before-during-after: 22807040 1943193600 22811136\n"
     ]
    },
    {
     "name": "stderr",
     "output_type": "stream",
     "text": [
      " 12%|████████████████████▎                                                                                                                                                         | 51.40594059406252/440 [21:20<2:58:35, 27.58s/it]"
     ]
    },
    {
     "name": "stdout",
     "output_type": "stream",
     "text": [
      "Train Epoch: 112 [1280/2508 (51%)]\tLoss: 0.459417\n",
      "Mem before-during-after: 22811136 1943613440 22811136\n"
     ]
    },
    {
     "name": "stderr",
     "output_type": "stream",
     "text": [
      " 12%|████████████████████▍                                                                                                                                                        | 52.000000000003276/440 [21:34<2:11:05, 20.27s/it]"
     ]
    },
    {
     "name": "stdout",
     "output_type": "stream",
     "text": [
      "\n",
      "Test Epoch: 112\tAccuracy: 562/736 (74%)\n",
      "\n"
     ]
    },
    {
     "name": "stderr",
     "output_type": "stream",
     "text": [
      " 12%|████████████████████▌                                                                                                                                                         | 52.00990099010229/440 [21:34<2:23:04, 22.12s/it]"
     ]
    },
    {
     "name": "stdout",
     "output_type": "stream",
     "text": [
      "Train Epoch: 113 [0/2508 (0%)]\tLoss: 0.571334\n",
      "Mem before-during-after: 22807040 1943193600 22811136\n"
     ]
    },
    {
     "name": "stderr",
     "output_type": "stream",
     "text": [
      " 12%|████████████████████▋                                                                                                                                                         | 52.40594059406279/440 [21:45<3:01:32, 28.10s/it]"
     ]
    },
    {
     "name": "stdout",
     "output_type": "stream",
     "text": [
      "Train Epoch: 113 [1280/2508 (51%)]\tLoss: 0.381036\n",
      "Mem before-during-after: 22811136 1942032384 22811136\n"
     ]
    },
    {
     "name": "stderr",
     "output_type": "stream",
     "text": [
      " 12%|████████████████████▊                                                                                                                                                        | 53.000000000003546/440 [21:59<2:11:03, 20.32s/it]"
     ]
    },
    {
     "name": "stdout",
     "output_type": "stream",
     "text": [
      "\n",
      "Test Epoch: 113\tAccuracy: 590/736 (78%)\n",
      "\n"
     ]
    },
    {
     "name": "stderr",
     "output_type": "stream",
     "text": [
      " 12%|████████████████████▉                                                                                                                                                         | 53.01980198020157/440 [22:00<2:16:30, 21.16s/it]"
     ]
    },
    {
     "name": "stdout",
     "output_type": "stream",
     "text": [
      "Train Epoch: 114 [0/2508 (0%)]\tLoss: 0.440258\n",
      "Mem before-during-after: 22807040 1943193600 22811136\n"
     ]
    },
    {
     "name": "stderr",
     "output_type": "stream",
     "text": [
      " 12%|█████████████████████                                                                                                                                                         | 53.40594059406306/440 [22:10<2:59:16, 27.82s/it]"
     ]
    },
    {
     "name": "stdout",
     "output_type": "stream",
     "text": [
      "Train Epoch: 114 [1280/2508 (51%)]\tLoss: 0.691788\n",
      "Mem before-during-after: 22811136 1942032384 22811136\n"
     ]
    },
    {
     "name": "stderr",
     "output_type": "stream",
     "text": [
      " 12%|█████████████████████▏                                                                                                                                                       | 54.000000000003816/440 [22:24<2:05:21, 19.49s/it]"
     ]
    },
    {
     "name": "stdout",
     "output_type": "stream",
     "text": [
      "\n",
      "Test Epoch: 114\tAccuracy: 597/736 (79%)\n",
      "\n"
     ]
    },
    {
     "name": "stderr",
     "output_type": "stream",
     "text": [
      " 12%|█████████████████████▎                                                                                                                                                        | 54.01980198020184/440 [22:24<2:16:01, 21.15s/it]"
     ]
    },
    {
     "name": "stdout",
     "output_type": "stream",
     "text": [
      "Train Epoch: 115 [0/2508 (0%)]\tLoss: 0.482577\n",
      "Mem before-during-after: 22807040 1943193600 22811136\n"
     ]
    },
    {
     "name": "stderr",
     "output_type": "stream",
     "text": [
      " 12%|█████████████████████▌                                                                                                                                                        | 54.40594059406333/440 [22:35<2:58:35, 27.79s/it]"
     ]
    },
    {
     "name": "stdout",
     "output_type": "stream",
     "text": [
      "Train Epoch: 115 [1280/2508 (51%)]\tLoss: 1.061594\n",
      "Mem before-during-after: 22811136 1941254144 22811136\n"
     ]
    },
    {
     "name": "stderr",
     "output_type": "stream",
     "text": [
      " 13%|█████████████████████▋                                                                                                                                                       | 55.000000000004086/440 [22:49<2:06:34, 19.73s/it]"
     ]
    },
    {
     "name": "stdout",
     "output_type": "stream",
     "text": [
      "\n",
      "Test Epoch: 115\tAccuracy: 565/736 (74%)\n",
      "\n"
     ]
    },
    {
     "name": "stderr",
     "output_type": "stream",
     "text": [
      " 13%|█████████████████████▉                                                                                                                                                         | 55.0099009901031/440 [22:49<2:21:51, 22.11s/it]"
     ]
    },
    {
     "name": "stdout",
     "output_type": "stream",
     "text": [
      "Train Epoch: 116 [0/2508 (0%)]\tLoss: 0.366455\n",
      "Mem before-during-after: 22807040 1943193600 22811136\n"
     ]
    },
    {
     "name": "stderr",
     "output_type": "stream",
     "text": [
      " 13%|██████████████████████                                                                                                                                                         | 55.4059405940636/440 [23:00<3:00:41, 28.19s/it]"
     ]
    },
    {
     "name": "stdout",
     "output_type": "stream",
     "text": [
      "Train Epoch: 116 [1280/2508 (51%)]\tLoss: 0.454791\n",
      "Mem before-during-after: 22811136 1941254144 22811136\n"
     ]
    },
    {
     "name": "stderr",
     "output_type": "stream",
     "text": [
      " 13%|██████████████████████                                                                                                                                                       | 56.000000000004356/440 [23:14<2:07:55, 19.99s/it]"
     ]
    },
    {
     "name": "stdout",
     "output_type": "stream",
     "text": [
      "\n",
      "Test Epoch: 116\tAccuracy: 573/736 (75%)\n",
      "\n"
     ]
    },
    {
     "name": "stderr",
     "output_type": "stream",
     "text": [
      " 13%|██████████████████████▏                                                                                                                                                       | 56.01980198020238/440 [23:14<2:16:30, 21.33s/it]"
     ]
    },
    {
     "name": "stdout",
     "output_type": "stream",
     "text": [
      "Train Epoch: 117 [0/2508 (0%)]\tLoss: 0.463248\n",
      "Mem before-during-after: 22807040 1943193600 22811136\n"
     ]
    },
    {
     "name": "stderr",
     "output_type": "stream",
     "text": [
      " 13%|██████████████████████▎                                                                                                                                                       | 56.40594059406387/440 [23:24<2:56:46, 27.65s/it]"
     ]
    },
    {
     "name": "stdout",
     "output_type": "stream",
     "text": [
      "Train Epoch: 117 [1280/2508 (51%)]\tLoss: 0.706565\n",
      "Mem before-during-after: 22811136 1941942272 22811136\n"
     ]
    },
    {
     "name": "stderr",
     "output_type": "stream",
     "text": [
      " 13%|██████████████████████▍                                                                                                                                                      | 57.000000000004626/440 [23:39<2:05:27, 19.65s/it]"
     ]
    },
    {
     "name": "stdout",
     "output_type": "stream",
     "text": [
      "\n",
      "Test Epoch: 117\tAccuracy: 600/736 (79%)\n",
      "\n"
     ]
    },
    {
     "name": "stderr",
     "output_type": "stream",
     "text": [
      " 13%|██████████████████████▌                                                                                                                                                       | 57.00990099010364/440 [23:39<2:17:39, 21.57s/it]"
     ]
    },
    {
     "name": "stdout",
     "output_type": "stream",
     "text": [
      "Train Epoch: 118 [0/2508 (0%)]\tLoss: 0.385340\n",
      "Mem before-during-after: 22807040 1938005504 22811136\n"
     ]
    },
    {
     "name": "stderr",
     "output_type": "stream",
     "text": [
      " 13%|██████████████████████▋                                                                                                                                                       | 57.40594059406414/440 [23:49<3:01:41, 28.49s/it]"
     ]
    },
    {
     "name": "stdout",
     "output_type": "stream",
     "text": [
      "Train Epoch: 118 [1280/2508 (51%)]\tLoss: 0.354951\n",
      "Mem before-during-after: 22811136 1941516288 22811136\n"
     ]
    },
    {
     "name": "stderr",
     "output_type": "stream",
     "text": [
      " 13%|██████████████████████▊                                                                                                                                                      | 58.000000000004896/440 [24:04<2:04:56, 19.62s/it]"
     ]
    },
    {
     "name": "stdout",
     "output_type": "stream",
     "text": [
      "\n",
      "Test Epoch: 118\tAccuracy: 600/736 (79%)\n",
      "\n"
     ]
    },
    {
     "name": "stderr",
     "output_type": "stream",
     "text": [
      " 13%|██████████████████████▉                                                                                                                                                       | 58.00990099010391/440 [24:04<2:15:42, 21.32s/it]"
     ]
    },
    {
     "name": "stdout",
     "output_type": "stream",
     "text": [
      "Train Epoch: 119 [0/2508 (0%)]\tLoss: 0.510034\n",
      "Mem before-during-after: 22807040 1943193600 22811136\n"
     ]
    },
    {
     "name": "stderr",
     "output_type": "stream",
     "text": [
      " 13%|███████████████████████                                                                                                                                                       | 58.40594059406441/440 [24:14<2:57:47, 27.96s/it]"
     ]
    },
    {
     "name": "stdout",
     "output_type": "stream",
     "text": [
      "Train Epoch: 119 [1280/2508 (51%)]\tLoss: 0.449624\n",
      "Mem before-during-after: 22811136 1942032384 22811136\n"
     ]
    },
    {
     "name": "stderr",
     "output_type": "stream",
     "text": [
      " 13%|███████████████████████▏                                                                                                                                                     | 59.000000000005166/440 [24:28<2:04:00, 19.53s/it]"
     ]
    },
    {
     "name": "stdout",
     "output_type": "stream",
     "text": [
      "\n",
      "Test Epoch: 119\tAccuracy: 579/736 (76%)\n",
      "\n"
     ]
    },
    {
     "name": "stderr",
     "output_type": "stream",
     "text": [
      " 13%|███████████████████████▎                                                                                                                                                      | 59.01980198020319/440 [24:29<2:16:17, 21.46s/it]"
     ]
    },
    {
     "name": "stdout",
     "output_type": "stream",
     "text": [
      "Train Epoch: 120 [0/2508 (0%)]\tLoss: 0.489113\n",
      "Mem before-during-after: 22807040 1943193600 22811136\n"
     ]
    },
    {
     "name": "stderr",
     "output_type": "stream",
     "text": [
      " 14%|███████████████████████▍                                                                                                                                                      | 59.40594059406468/440 [24:39<2:55:20, 27.64s/it]"
     ]
    },
    {
     "name": "stdout",
     "output_type": "stream",
     "text": [
      "Train Epoch: 120 [1280/2508 (51%)]\tLoss: 0.487228\n",
      "Mem before-during-after: 22811136 1941942272 22811136\n"
     ]
    },
    {
     "name": "stderr",
     "output_type": "stream",
     "text": [
      " 14%|███████████████████████▌                                                                                                                                                     | 60.000000000005436/440 [24:53<2:07:52, 20.19s/it]"
     ]
    },
    {
     "name": "stdout",
     "output_type": "stream",
     "text": [
      "\n",
      "Test Epoch: 120\tAccuracy: 595/736 (78%)\n",
      "\n"
     ]
    },
    {
     "name": "stderr",
     "output_type": "stream",
     "text": [
      " 14%|███████████████████████▋                                                                                                                                                      | 60.01980198020346/440 [24:54<2:20:01, 22.11s/it]"
     ]
    },
    {
     "name": "stdout",
     "output_type": "stream",
     "text": [
      "Train Epoch: 121 [0/2508 (0%)]\tLoss: 0.335252\n",
      "Mem before-during-after: 22807040 1943193600 22811136\n"
     ]
    },
    {
     "name": "stderr",
     "output_type": "stream",
     "text": [
      " 14%|███████████████████████▉                                                                                                                                                      | 60.40594059406495/440 [25:04<2:56:20, 27.87s/it]"
     ]
    },
    {
     "name": "stdout",
     "output_type": "stream",
     "text": [
      "Train Epoch: 121 [1280/2508 (51%)]\tLoss: 0.244486\n",
      "Mem before-during-after: 22811136 1942032384 22811136\n"
     ]
    },
    {
     "name": "stderr",
     "output_type": "stream",
     "text": [
      " 14%|███████████████████████▉                                                                                                                                                     | 61.000000000005706/440 [25:18<2:09:49, 20.55s/it]"
     ]
    },
    {
     "name": "stdout",
     "output_type": "stream",
     "text": [
      "\n",
      "Test Epoch: 121\tAccuracy: 611/736 (81%)\n",
      "\n",
      "saved model: ../models_cremad3/cremad_label3_m12new_best_121epoch.pt\n"
     ]
    },
    {
     "name": "stderr",
     "output_type": "stream",
     "text": [
      " 14%|████████████████████████▏                                                                                                                                                     | 61.01980198020373/440 [25:19<2:15:12, 21.41s/it]"
     ]
    },
    {
     "name": "stdout",
     "output_type": "stream",
     "text": [
      "Train Epoch: 122 [0/2508 (0%)]\tLoss: 0.399501\n",
      "Mem before-during-after: 22807040 1943193600 22811136\n"
     ]
    },
    {
     "name": "stderr",
     "output_type": "stream",
     "text": [
      " 14%|████████████████████████▎                                                                                                                                                     | 61.40594059406522/440 [25:29<2:57:38, 28.15s/it]"
     ]
    },
    {
     "name": "stdout",
     "output_type": "stream",
     "text": [
      "Train Epoch: 122 [1280/2508 (51%)]\tLoss: 0.467328\n",
      "Mem before-during-after: 22811136 1942032384 22811136\n"
     ]
    },
    {
     "name": "stderr",
     "output_type": "stream",
     "text": [
      " 14%|████████████████████████▍                                                                                                                                                    | 62.000000000005976/440 [25:43<2:07:10, 20.19s/it]"
     ]
    },
    {
     "name": "stdout",
     "output_type": "stream",
     "text": [
      "\n",
      "Test Epoch: 122\tAccuracy: 601/736 (79%)\n",
      "\n"
     ]
    },
    {
     "name": "stderr",
     "output_type": "stream",
     "text": [
      " 14%|████████████████████████▌                                                                                                                                                     | 62.00990099010499/440 [25:43<2:17:16, 21.79s/it]"
     ]
    },
    {
     "name": "stdout",
     "output_type": "stream",
     "text": [
      "Train Epoch: 123 [0/2508 (0%)]\tLoss: 0.459621\n",
      "Mem before-during-after: 22807040 1943193600 22811136\n"
     ]
    },
    {
     "name": "stderr",
     "output_type": "stream",
     "text": [
      " 14%|████████████████████████▋                                                                                                                                                     | 62.40594059406549/440 [25:54<2:59:56, 28.59s/it]"
     ]
    },
    {
     "name": "stdout",
     "output_type": "stream",
     "text": [
      "Train Epoch: 123 [1280/2508 (51%)]\tLoss: 0.712498\n",
      "Mem before-during-after: 22811136 1942032384 22811136\n"
     ]
    },
    {
     "name": "stderr",
     "output_type": "stream",
     "text": [
      " 14%|████████████████████████▊                                                                                                                                                    | 63.000000000006246/440 [26:08<2:04:02, 19.74s/it]"
     ]
    },
    {
     "name": "stdout",
     "output_type": "stream",
     "text": [
      "\n",
      "Test Epoch: 123\tAccuracy: 604/736 (80%)\n",
      "\n"
     ]
    },
    {
     "name": "stderr",
     "output_type": "stream",
     "text": [
      " 14%|████████████████████████▉                                                                                                                                                     | 63.00990099010526/440 [26:08<2:18:05, 21.98s/it]"
     ]
    },
    {
     "name": "stdout",
     "output_type": "stream",
     "text": [
      "Train Epoch: 124 [0/2508 (0%)]\tLoss: 0.264848\n",
      "Mem before-during-after: 22807040 1943193600 22811136\n"
     ]
    },
    {
     "name": "stderr",
     "output_type": "stream",
     "text": [
      " 14%|█████████████████████████                                                                                                                                                     | 63.40594059406576/440 [26:19<2:54:52, 27.86s/it]"
     ]
    },
    {
     "name": "stdout",
     "output_type": "stream",
     "text": [
      "Train Epoch: 124 [1280/2508 (51%)]\tLoss: 0.509752\n",
      "Mem before-during-after: 22811136 1942032384 22811136\n"
     ]
    },
    {
     "name": "stderr",
     "output_type": "stream",
     "text": [
      " 15%|█████████████████████████▎                                                                                                                                                    | 64.00000000000651/440 [26:33<2:06:09, 20.13s/it]"
     ]
    },
    {
     "name": "stdout",
     "output_type": "stream",
     "text": [
      "\n",
      "Test Epoch: 124\tAccuracy: 587/736 (77%)\n",
      "\n"
     ]
    },
    {
     "name": "stderr",
     "output_type": "stream",
     "text": [
      " 15%|█████████████████████████▎                                                                                                                                                    | 64.01980198020453/440 [26:33<2:12:54, 21.21s/it]"
     ]
    },
    {
     "name": "stdout",
     "output_type": "stream",
     "text": [
      "Train Epoch: 125 [0/2508 (0%)]\tLoss: 0.427132\n",
      "Mem before-during-after: 22807040 1943193600 22811136\n"
     ]
    },
    {
     "name": "stderr",
     "output_type": "stream",
     "text": [
      " 15%|█████████████████████████▍                                                                                                                                                    | 64.40594059406602/440 [26:44<2:53:21, 27.69s/it]"
     ]
    },
    {
     "name": "stdout",
     "output_type": "stream",
     "text": [
      "Train Epoch: 125 [1280/2508 (51%)]\tLoss: 0.235102\n",
      "Mem before-during-after: 22811136 1941254144 22811136\n"
     ]
    },
    {
     "name": "stderr",
     "output_type": "stream",
     "text": [
      " 15%|█████████████████████████▋                                                                                                                                                    | 65.00000000000678/440 [26:58<2:04:01, 19.84s/it]"
     ]
    },
    {
     "name": "stdout",
     "output_type": "stream",
     "text": [
      "\n",
      "Test Epoch: 125\tAccuracy: 601/736 (79%)\n",
      "\n"
     ]
    },
    {
     "name": "stderr",
     "output_type": "stream",
     "text": [
      " 15%|█████████████████████████▊                                                                                                                                                     | 65.0198019802048/440 [26:58<2:12:48, 21.25s/it]"
     ]
    },
    {
     "name": "stdout",
     "output_type": "stream",
     "text": [
      "Train Epoch: 126 [0/2508 (0%)]\tLoss: 0.246061\n",
      "Mem before-during-after: 22807040 1943193600 22811136\n"
     ]
    },
    {
     "name": "stderr",
     "output_type": "stream",
     "text": [
      " 15%|██████████████████████████                                                                                                                                                     | 65.4059405940663/440 [27:08<2:53:03, 27.72s/it]"
     ]
    },
    {
     "name": "stdout",
     "output_type": "stream",
     "text": [
      "Train Epoch: 126 [1280/2508 (51%)]\tLoss: 0.434971\n",
      "Mem before-during-after: 22811136 1942032384 22811136\n"
     ]
    },
    {
     "name": "stderr",
     "output_type": "stream",
     "text": [
      " 15%|██████████████████████████                                                                                                                                                    | 66.00000000000705/440 [27:23<2:04:27, 19.97s/it]"
     ]
    },
    {
     "name": "stdout",
     "output_type": "stream",
     "text": [
      "\n",
      "Test Epoch: 126\tAccuracy: 595/736 (78%)\n",
      "\n"
     ]
    },
    {
     "name": "stderr",
     "output_type": "stream",
     "text": [
      " 15%|██████████████████████████                                                                                                                                                    | 66.00990099010606/440 [27:23<2:17:08, 22.00s/it]"
     ]
    },
    {
     "name": "stdout",
     "output_type": "stream",
     "text": [
      "Train Epoch: 127 [0/2508 (0%)]\tLoss: 0.606175\n",
      "Mem before-during-after: 22807040 1943193600 22811136\n"
     ]
    },
    {
     "name": "stderr",
     "output_type": "stream",
     "text": [
      " 15%|██████████████████████████▎                                                                                                                                                   | 66.40594059406656/440 [27:33<2:53:19, 27.84s/it]"
     ]
    },
    {
     "name": "stdout",
     "output_type": "stream",
     "text": [
      "Train Epoch: 127 [1280/2508 (51%)]\tLoss: 0.458807\n",
      "Mem before-during-after: 22811136 1941254144 22811136\n"
     ]
    },
    {
     "name": "stderr",
     "output_type": "stream",
     "text": [
      " 15%|██████████████████████████▍                                                                                                                                                   | 67.00000000000732/440 [27:48<2:01:20, 19.52s/it]"
     ]
    },
    {
     "name": "stdout",
     "output_type": "stream",
     "text": [
      "\n",
      "Test Epoch: 127\tAccuracy: 590/736 (78%)\n",
      "\n"
     ]
    },
    {
     "name": "stderr",
     "output_type": "stream",
     "text": [
      " 15%|██████████████████████████▍                                                                                                                                                   | 67.00990099010633/440 [27:48<2:12:00, 21.23s/it]"
     ]
    },
    {
     "name": "stdout",
     "output_type": "stream",
     "text": [
      "Train Epoch: 128 [0/2508 (0%)]\tLoss: 0.297745\n",
      "Mem before-during-after: 22807040 1943193600 22811136\n"
     ]
    },
    {
     "name": "stderr",
     "output_type": "stream",
     "text": [
      " 15%|██████████████████████████▋                                                                                                                                                   | 67.40594059406683/440 [27:58<2:54:42, 28.13s/it]"
     ]
    },
    {
     "name": "stdout",
     "output_type": "stream",
     "text": [
      "Train Epoch: 128 [1280/2508 (51%)]\tLoss: 0.667805\n",
      "Mem before-during-after: 22811136 1942032384 22811136\n"
     ]
    },
    {
     "name": "stderr",
     "output_type": "stream",
     "text": [
      " 15%|██████████████████████████▉                                                                                                                                                   | 68.00000000000759/440 [28:12<2:03:38, 19.94s/it]"
     ]
    },
    {
     "name": "stdout",
     "output_type": "stream",
     "text": [
      "\n",
      "Test Epoch: 128\tAccuracy: 587/736 (77%)\n",
      "\n"
     ]
    },
    {
     "name": "stderr",
     "output_type": "stream",
     "text": [
      " 15%|██████████████████████████▉                                                                                                                                                   | 68.01980198020561/440 [28:13<2:10:47, 21.10s/it]"
     ]
    },
    {
     "name": "stdout",
     "output_type": "stream",
     "text": [
      "Train Epoch: 129 [0/2508 (0%)]\tLoss: 0.225125\n",
      "Mem before-during-after: 22807040 1943193600 22811136\n"
     ]
    },
    {
     "name": "stderr",
     "output_type": "stream",
     "text": [
      " 16%|███████████████████████████▏                                                                                                                                                   | 68.4059405940671/440 [28:23<2:51:54, 27.76s/it]"
     ]
    },
    {
     "name": "stdout",
     "output_type": "stream",
     "text": [
      "Train Epoch: 129 [1280/2508 (51%)]\tLoss: 0.509787\n",
      "Mem before-during-after: 22811136 1942032384 22811136\n"
     ]
    },
    {
     "name": "stderr",
     "output_type": "stream",
     "text": [
      " 16%|███████████████████████████▎                                                                                                                                                  | 69.00000000000786/440 [28:37<2:03:49, 20.03s/it]"
     ]
    },
    {
     "name": "stdout",
     "output_type": "stream",
     "text": [
      "\n",
      "Test Epoch: 129\tAccuracy: 579/736 (76%)\n",
      "\n"
     ]
    },
    {
     "name": "stderr",
     "output_type": "stream",
     "text": [
      " 16%|███████████████████████████▎                                                                                                                                                  | 69.00990099010687/440 [28:37<2:15:31, 21.92s/it]"
     ]
    },
    {
     "name": "stdout",
     "output_type": "stream",
     "text": [
      "Train Epoch: 130 [0/2508 (0%)]\tLoss: 0.409528\n",
      "Mem before-during-after: 22807040 1943193600 22811136\n"
     ]
    },
    {
     "name": "stderr",
     "output_type": "stream",
     "text": [
      " 16%|███████████████████████████▍                                                                                                                                                  | 69.40594059406737/440 [28:48<2:50:45, 27.65s/it]"
     ]
    },
    {
     "name": "stdout",
     "output_type": "stream",
     "text": [
      "Train Epoch: 130 [1280/2508 (51%)]\tLoss: 0.331419\n",
      "Mem before-during-after: 22811136 1942032384 22811136\n"
     ]
    },
    {
     "name": "stderr",
     "output_type": "stream",
     "text": [
      " 16%|███████████████████████████▋                                                                                                                                                  | 70.00000000000813/440 [29:02<2:00:29, 19.54s/it]"
     ]
    },
    {
     "name": "stdout",
     "output_type": "stream",
     "text": [
      "\n",
      "Test Epoch: 130\tAccuracy: 588/736 (77%)\n",
      "\n"
     ]
    },
    {
     "name": "stderr",
     "output_type": "stream",
     "text": [
      " 16%|███████████████████████████▋                                                                                                                                                  | 70.00990099010714/440 [29:02<2:12:43, 21.52s/it]"
     ]
    },
    {
     "name": "stdout",
     "output_type": "stream",
     "text": [
      "Train Epoch: 131 [0/2508 (0%)]\tLoss: 0.245075\n",
      "Mem before-during-after: 22807040 1943193600 22811136\n"
     ]
    },
    {
     "name": "stderr",
     "output_type": "stream",
     "text": [
      " 16%|███████████████████████████▊                                                                                                                                                  | 70.40594059406764/440 [29:13<2:50:30, 27.68s/it]"
     ]
    },
    {
     "name": "stdout",
     "output_type": "stream",
     "text": [
      "Train Epoch: 131 [1280/2508 (51%)]\tLoss: 0.508567\n",
      "Mem before-during-after: 22811136 1942032384 22811136\n"
     ]
    },
    {
     "name": "stderr",
     "output_type": "stream",
     "text": [
      " 16%|████████████████████████████▏                                                                                                                                                  | 71.0000000000084/440 [29:27<2:06:58, 20.65s/it]"
     ]
    },
    {
     "name": "stdout",
     "output_type": "stream",
     "text": [
      "\n",
      "Test Epoch: 131\tAccuracy: 578/736 (76%)\n",
      "\n"
     ]
    },
    {
     "name": "stderr",
     "output_type": "stream",
     "text": [
      " 16%|████████████████████████████                                                                                                                                                  | 71.01980198020642/440 [29:28<2:13:24, 21.69s/it]"
     ]
    },
    {
     "name": "stdout",
     "output_type": "stream",
     "text": [
      "Train Epoch: 132 [0/2508 (0%)]\tLoss: 0.285037\n",
      "Mem before-during-after: 22807040 1943193600 22811136\n"
     ]
    },
    {
     "name": "stderr",
     "output_type": "stream",
     "text": [
      " 16%|████████████████████████████▏                                                                                                                                                 | 71.40594059406791/440 [29:38<2:53:09, 28.19s/it]"
     ]
    },
    {
     "name": "stdout",
     "output_type": "stream",
     "text": [
      "Train Epoch: 132 [1280/2508 (51%)]\tLoss: 0.407703\n",
      "Mem before-during-after: 22811136 1942032384 22811136\n"
     ]
    },
    {
     "name": "stderr",
     "output_type": "stream",
     "text": [
      " 16%|████████████████████████████▍                                                                                                                                                 | 72.00000000000867/440 [29:52<2:02:08, 19.91s/it]"
     ]
    },
    {
     "name": "stdout",
     "output_type": "stream",
     "text": [
      "\n",
      "Test Epoch: 132\tAccuracy: 585/736 (77%)\n",
      "\n"
     ]
    },
    {
     "name": "stderr",
     "output_type": "stream",
     "text": [
      " 16%|████████████████████████████▋                                                                                                                                                  | 72.0198019802067/440 [29:53<2:11:40, 21.47s/it]"
     ]
    },
    {
     "name": "stdout",
     "output_type": "stream",
     "text": [
      "Train Epoch: 133 [0/2508 (0%)]\tLoss: 0.517913\n",
      "Mem before-during-after: 22807040 1943193600 22811136\n"
     ]
    },
    {
     "name": "stderr",
     "output_type": "stream",
     "text": [
      " 16%|████████████████████████████▋                                                                                                                                                 | 72.40594059406818/440 [30:03<2:50:32, 27.84s/it]"
     ]
    },
    {
     "name": "stdout",
     "output_type": "stream",
     "text": [
      "Train Epoch: 133 [1280/2508 (51%)]\tLoss: 0.586143\n",
      "Mem before-during-after: 22811136 1941254144 22811136\n"
     ]
    },
    {
     "name": "stderr",
     "output_type": "stream",
     "text": [
      " 17%|████████████████████████████▊                                                                                                                                                 | 73.00000000000894/440 [30:17<1:57:13, 19.17s/it]"
     ]
    },
    {
     "name": "stdout",
     "output_type": "stream",
     "text": [
      "\n",
      "Test Epoch: 133\tAccuracy: 600/736 (79%)\n",
      "\n"
     ]
    },
    {
     "name": "stderr",
     "output_type": "stream",
     "text": [
      " 17%|████████████████████████████▊                                                                                                                                                 | 73.00990099010795/440 [30:17<2:09:47, 21.22s/it]"
     ]
    },
    {
     "name": "stdout",
     "output_type": "stream",
     "text": [
      "Train Epoch: 134 [0/2508 (0%)]\tLoss: 0.348350\n",
      "Mem before-during-after: 22807040 1943193600 22811136\n"
     ]
    },
    {
     "name": "stderr",
     "output_type": "stream",
     "text": [
      " 17%|█████████████████████████████                                                                                                                                                 | 73.40594059406845/440 [30:28<2:48:57, 27.65s/it]"
     ]
    },
    {
     "name": "stdout",
     "output_type": "stream",
     "text": [
      "Train Epoch: 134 [1280/2508 (51%)]\tLoss: 0.323176\n",
      "Mem before-during-after: 22811136 1942032384 22811136\n"
     ]
    },
    {
     "name": "stderr",
     "output_type": "stream",
     "text": [
      " 17%|█████████████████████████████▎                                                                                                                                                | 74.00000000000921/440 [30:42<2:11:23, 21.54s/it]"
     ]
    },
    {
     "name": "stdout",
     "output_type": "stream",
     "text": [
      "\n",
      "Test Epoch: 134\tAccuracy: 597/736 (79%)\n",
      "\n"
     ]
    },
    {
     "name": "stderr",
     "output_type": "stream",
     "text": [
      " 17%|█████████████████████████████▎                                                                                                                                                | 74.01980198020723/440 [30:42<2:12:31, 21.73s/it]"
     ]
    },
    {
     "name": "stdout",
     "output_type": "stream",
     "text": [
      "Train Epoch: 135 [0/2508 (0%)]\tLoss: 0.298520\n",
      "Mem before-during-after: 22807040 1943193600 22811136\n"
     ]
    },
    {
     "name": "stderr",
     "output_type": "stream",
     "text": [
      " 17%|█████████████████████████████▍                                                                                                                                                | 74.40594059406872/440 [30:53<2:49:39, 27.84s/it]"
     ]
    },
    {
     "name": "stdout",
     "output_type": "stream",
     "text": [
      "Train Epoch: 135 [1280/2508 (51%)]\tLoss: 0.412016\n",
      "Mem before-during-after: 22811136 1942032384 22811136\n"
     ]
    },
    {
     "name": "stderr",
     "output_type": "stream",
     "text": [
      " 17%|█████████████████████████████▋                                                                                                                                                | 75.00000000000948/440 [31:07<1:59:12, 19.60s/it]"
     ]
    },
    {
     "name": "stdout",
     "output_type": "stream",
     "text": [
      "\n",
      "Test Epoch: 135\tAccuracy: 590/736 (78%)\n",
      "\n"
     ]
    },
    {
     "name": "stderr",
     "output_type": "stream",
     "text": [
      " 17%|█████████████████████████████▋                                                                                                                                                | 75.00990099010849/440 [31:07<2:14:20, 22.08s/it]"
     ]
    },
    {
     "name": "stdout",
     "output_type": "stream",
     "text": [
      "Train Epoch: 136 [0/2508 (0%)]\tLoss: 0.262570\n",
      "Mem before-during-after: 22807040 1943193600 22811136\n"
     ]
    },
    {
     "name": "stderr",
     "output_type": "stream",
     "text": [
      " 17%|██████████████████████████████▏                                                                                                                                                 | 75.405940594069/440 [31:18<2:48:08, 27.67s/it]"
     ]
    },
    {
     "name": "stdout",
     "output_type": "stream",
     "text": [
      "Train Epoch: 136 [1280/2508 (51%)]\tLoss: 0.423533\n",
      "Mem before-during-after: 22811136 1941942272 22811136\n"
     ]
    },
    {
     "name": "stderr",
     "output_type": "stream",
     "text": [
      " 17%|██████████████████████████████                                                                                                                                                | 76.00000000000975/440 [31:32<1:58:22, 19.51s/it]"
     ]
    },
    {
     "name": "stdout",
     "output_type": "stream",
     "text": [
      "\n",
      "Test Epoch: 136\tAccuracy: 569/736 (75%)\n",
      "\n"
     ]
    },
    {
     "name": "stderr",
     "output_type": "stream",
     "text": [
      " 17%|██████████████████████████████                                                                                                                                                | 76.00990099010876/440 [31:32<2:11:58, 21.76s/it]"
     ]
    },
    {
     "name": "stdout",
     "output_type": "stream",
     "text": [
      "Train Epoch: 137 [0/2508 (0%)]\tLoss: 0.307515\n",
      "Mem before-during-after: 22807040 1943193600 22811136\n"
     ]
    },
    {
     "name": "stderr",
     "output_type": "stream",
     "text": [
      " 17%|██████████████████████████████▏                                                                                                                                               | 76.40594059406926/440 [31:42<2:49:44, 28.01s/it]"
     ]
    },
    {
     "name": "stdout",
     "output_type": "stream",
     "text": [
      "Train Epoch: 137 [1280/2508 (51%)]\tLoss: 0.611776\n",
      "Mem before-during-after: 22811136 1942032384 22811136\n"
     ]
    },
    {
     "name": "stderr",
     "output_type": "stream",
     "text": [
      " 18%|██████████████████████████████▍                                                                                                                                               | 77.00000000001002/440 [31:57<2:00:37, 19.94s/it]"
     ]
    },
    {
     "name": "stdout",
     "output_type": "stream",
     "text": [
      "\n",
      "Test Epoch: 137\tAccuracy: 575/736 (76%)\n",
      "\n"
     ]
    },
    {
     "name": "stderr",
     "output_type": "stream",
     "text": [
      " 18%|██████████████████████████████▍                                                                                                                                               | 77.01980198020804/440 [31:57<2:08:57, 21.32s/it]"
     ]
    },
    {
     "name": "stdout",
     "output_type": "stream",
     "text": [
      "Train Epoch: 138 [0/2508 (0%)]\tLoss: 0.404283\n",
      "Mem before-during-after: 22807040 1943193600 22811136\n"
     ]
    },
    {
     "name": "stderr",
     "output_type": "stream",
     "text": [
      " 18%|██████████████████████████████▌                                                                                                                                               | 77.40594059406953/440 [32:07<2:48:00, 27.80s/it]"
     ]
    },
    {
     "name": "stdout",
     "output_type": "stream",
     "text": [
      "Train Epoch: 138 [1280/2508 (51%)]\tLoss: 0.616633\n",
      "Mem before-during-after: 22811136 1942032384 22811136\n"
     ]
    },
    {
     "name": "stderr",
     "output_type": "stream",
     "text": [
      " 18%|██████████████████████████████▊                                                                                                                                               | 78.00000000001029/440 [32:22<1:59:49, 19.86s/it]"
     ]
    },
    {
     "name": "stdout",
     "output_type": "stream",
     "text": [
      "\n",
      "Test Epoch: 138\tAccuracy: 589/736 (78%)\n",
      "\n"
     ]
    },
    {
     "name": "stderr",
     "output_type": "stream",
     "text": [
      " 18%|███████████████████████████████                                                                                                                                                | 78.0099009901093/440 [32:22<2:10:17, 21.60s/it]"
     ]
    },
    {
     "name": "stdout",
     "output_type": "stream",
     "text": [
      "Train Epoch: 139 [0/2508 (0%)]\tLoss: 0.243784\n",
      "Mem before-during-after: 22807040 1943193600 22811136\n"
     ]
    },
    {
     "name": "stderr",
     "output_type": "stream",
     "text": [
      " 18%|███████████████████████████████▏                                                                                                                                               | 78.4059405940698/440 [32:32<2:47:13, 27.75s/it]"
     ]
    },
    {
     "name": "stdout",
     "output_type": "stream",
     "text": [
      "Train Epoch: 139 [1280/2508 (51%)]\tLoss: 0.555630\n",
      "Mem before-during-after: 22811136 1941254144 22811136\n"
     ]
    },
    {
     "name": "stderr",
     "output_type": "stream",
     "text": [
      " 18%|███████████████████████████████▏                                                                                                                                              | 79.00000000001056/440 [32:46<1:59:28, 19.86s/it]"
     ]
    },
    {
     "name": "stdout",
     "output_type": "stream",
     "text": [
      "\n",
      "Test Epoch: 139\tAccuracy: 584/736 (77%)\n",
      "\n"
     ]
    },
    {
     "name": "stderr",
     "output_type": "stream",
     "text": [
      " 18%|███████████████████████████████▏                                                                                                                                              | 79.01980198020858/440 [32:47<2:08:02, 21.28s/it]"
     ]
    },
    {
     "name": "stdout",
     "output_type": "stream",
     "text": [
      "Train Epoch: 140 [0/2508 (0%)]\tLoss: 0.325240\n",
      "Mem before-during-after: 22807040 1943193600 22811136\n"
     ]
    },
    {
     "name": "stderr",
     "output_type": "stream",
     "text": [
      " 18%|███████████████████████████████▍                                                                                                                                              | 79.40594059407007/440 [32:57<2:45:55, 27.61s/it]"
     ]
    },
    {
     "name": "stdout",
     "output_type": "stream",
     "text": [
      "Train Epoch: 140 [1280/2508 (51%)]\tLoss: 0.425119\n",
      "Mem before-during-after: 22811136 1941901312 22811136\n"
     ]
    },
    {
     "name": "stderr",
     "output_type": "stream",
     "text": [
      " 18%|███████████████████████████████▋                                                                                                                                              | 80.00000000001083/440 [33:11<2:00:42, 20.12s/it]"
     ]
    },
    {
     "name": "stdout",
     "output_type": "stream",
     "text": [
      "\n",
      "Test Epoch: 140\tAccuracy: 600/736 (79%)\n",
      "\n"
     ]
    },
    {
     "name": "stderr",
     "output_type": "stream",
     "text": [
      " 18%|███████████████████████████████▋                                                                                                                                              | 80.00990099010984/440 [33:11<2:12:37, 22.11s/it]"
     ]
    },
    {
     "name": "stdout",
     "output_type": "stream",
     "text": [
      "Train Epoch: 141 [0/2508 (0%)]\tLoss: 0.247351\n",
      "Mem before-during-after: 22807040 1943193600 22811136\n"
     ]
    },
    {
     "name": "stderr",
     "output_type": "stream",
     "text": [
      " 18%|███████████████████████████████▊                                                                                                                                              | 80.40594059407034/440 [33:22<2:46:59, 27.86s/it]"
     ]
    },
    {
     "name": "stdout",
     "output_type": "stream",
     "text": [
      "Train Epoch: 141 [1280/2508 (51%)]\tLoss: 0.559268\n",
      "Mem before-during-after: 22811136 1942032384 22811136\n"
     ]
    },
    {
     "name": "stderr",
     "output_type": "stream",
     "text": [
      " 18%|████████████████████████████████▏                                                                                                                                              | 81.0000000000111/440 [33:36<1:58:50, 19.86s/it]"
     ]
    },
    {
     "name": "stdout",
     "output_type": "stream",
     "text": [
      "\n",
      "Test Epoch: 141\tAccuracy: 594/736 (78%)\n",
      "\n"
     ]
    },
    {
     "name": "stderr",
     "output_type": "stream",
     "text": [
      " 18%|████████████████████████████████                                                                                                                                              | 81.01980198020912/440 [33:36<2:05:49, 21.03s/it]"
     ]
    },
    {
     "name": "stdout",
     "output_type": "stream",
     "text": [
      "Train Epoch: 142 [0/2508 (0%)]\tLoss: 0.392529\n",
      "Mem before-during-after: 22807040 1943193600 22811136\n"
     ]
    },
    {
     "name": "stderr",
     "output_type": "stream",
     "text": [
      " 19%|████████████████████████████████▏                                                                                                                                             | 81.40594059407061/440 [33:47<2:46:44, 27.90s/it]"
     ]
    },
    {
     "name": "stdout",
     "output_type": "stream",
     "text": [
      "Train Epoch: 142 [1280/2508 (51%)]\tLoss: 0.210042\n",
      "Mem before-during-after: 22811136 1942032384 22811136\n"
     ]
    },
    {
     "name": "stderr",
     "output_type": "stream",
     "text": [
      " 19%|████████████████████████████████▍                                                                                                                                             | 82.00000000001137/440 [34:01<1:57:26, 19.68s/it]"
     ]
    },
    {
     "name": "stdout",
     "output_type": "stream",
     "text": [
      "\n",
      "Test Epoch: 142\tAccuracy: 574/736 (76%)\n",
      "\n"
     ]
    },
    {
     "name": "stderr",
     "output_type": "stream",
     "text": [
      " 19%|████████████████████████████████▍                                                                                                                                             | 82.00990099011038/440 [34:01<2:10:12, 21.82s/it]"
     ]
    },
    {
     "name": "stdout",
     "output_type": "stream",
     "text": [
      "Train Epoch: 143 [0/2508 (0%)]\tLoss: 0.342177\n",
      "Mem before-during-after: 22807040 1943193600 22811136\n"
     ]
    },
    {
     "name": "stderr",
     "output_type": "stream",
     "text": [
      " 19%|████████████████████████████████▌                                                                                                                                             | 82.40594059407088/440 [34:11<2:47:51, 28.16s/it]"
     ]
    },
    {
     "name": "stdout",
     "output_type": "stream",
     "text": [
      "Train Epoch: 143 [1280/2508 (51%)]\tLoss: 0.488356\n",
      "Mem before-during-after: 22811136 1942032384 22811136\n"
     ]
    },
    {
     "name": "stderr",
     "output_type": "stream",
     "text": [
      " 19%|████████████████████████████████▊                                                                                                                                             | 83.00000000001164/440 [34:26<1:57:22, 19.73s/it]"
     ]
    },
    {
     "name": "stdout",
     "output_type": "stream",
     "text": [
      "\n",
      "Test Epoch: 143\tAccuracy: 593/736 (78%)\n",
      "\n"
     ]
    },
    {
     "name": "stderr",
     "output_type": "stream",
     "text": [
      " 19%|████████████████████████████████▊                                                                                                                                             | 83.00990099011065/440 [34:26<2:10:14, 21.89s/it]"
     ]
    },
    {
     "name": "stdout",
     "output_type": "stream",
     "text": [
      "Train Epoch: 144 [0/2508 (0%)]\tLoss: 0.382687\n",
      "Mem before-during-after: 22807040 1943193600 22811136\n"
     ]
    },
    {
     "name": "stderr",
     "output_type": "stream",
     "text": [
      " 19%|████████████████████████████████▉                                                                                                                                             | 83.40594059407115/440 [34:36<2:44:56, 27.75s/it]"
     ]
    },
    {
     "name": "stdout",
     "output_type": "stream",
     "text": [
      "Train Epoch: 144 [1280/2508 (51%)]\tLoss: 0.421964\n",
      "Mem before-during-after: 22811136 1942032384 22811136\n"
     ]
    },
    {
     "name": "stderr",
     "output_type": "stream",
     "text": [
      " 19%|█████████████████████████████████▏                                                                                                                                            | 84.00000000001191/440 [34:51<2:00:05, 20.24s/it]"
     ]
    },
    {
     "name": "stdout",
     "output_type": "stream",
     "text": [
      "\n",
      "Test Epoch: 144\tAccuracy: 592/736 (78%)\n",
      "\n"
     ]
    },
    {
     "name": "stderr",
     "output_type": "stream",
     "text": [
      " 19%|█████████████████████████████████▏                                                                                                                                            | 84.01980198020993/440 [34:51<2:06:58, 21.40s/it]"
     ]
    },
    {
     "name": "stdout",
     "output_type": "stream",
     "text": [
      "Train Epoch: 145 [0/2508 (0%)]\tLoss: 0.142527\n",
      "Mem before-during-after: 22807040 1943193600 22811136\n"
     ]
    },
    {
     "name": "stderr",
     "output_type": "stream",
     "text": [
      " 19%|█████████████████████████████████▍                                                                                                                                            | 84.40594059407142/440 [35:01<2:42:52, 27.48s/it]"
     ]
    },
    {
     "name": "stdout",
     "output_type": "stream",
     "text": [
      "Train Epoch: 145 [1280/2508 (51%)]\tLoss: 0.121476\n",
      "Mem before-during-after: 22811136 1942032384 22811136\n"
     ]
    },
    {
     "name": "stderr",
     "output_type": "stream",
     "text": [
      " 19%|█████████████████████████████████▌                                                                                                                                            | 85.00000000001218/440 [35:16<1:57:59, 19.94s/it]"
     ]
    },
    {
     "name": "stdout",
     "output_type": "stream",
     "text": [
      "\n",
      "Test Epoch: 145\tAccuracy: 600/736 (79%)\n",
      "\n"
     ]
    },
    {
     "name": "stderr",
     "output_type": "stream",
     "text": [
      " 19%|█████████████████████████████████▌                                                                                                                                            | 85.00990099011119/440 [35:16<2:08:56, 21.79s/it]"
     ]
    },
    {
     "name": "stdout",
     "output_type": "stream",
     "text": [
      "Train Epoch: 146 [0/2508 (0%)]\tLoss: 0.301987\n",
      "Mem before-during-after: 22807040 1938005504 22811136\n"
     ]
    },
    {
     "name": "stderr",
     "output_type": "stream",
     "text": [
      " 19%|█████████████████████████████████▉                                                                                                                                             | 85.4059405940717/440 [35:26<2:48:13, 28.46s/it]"
     ]
    },
    {
     "name": "stdout",
     "output_type": "stream",
     "text": [
      "Train Epoch: 146 [1280/2508 (51%)]\tLoss: 0.448021\n",
      "Mem before-during-after: 22811136 1941516288 22811136\n"
     ]
    },
    {
     "name": "stderr",
     "output_type": "stream",
     "text": [
      " 20%|██████████████████████████████████                                                                                                                                            | 86.00000000001245/440 [35:40<1:57:28, 19.91s/it]"
     ]
    },
    {
     "name": "stdout",
     "output_type": "stream",
     "text": [
      "\n",
      "Test Epoch: 146\tAccuracy: 592/736 (78%)\n",
      "\n"
     ]
    },
    {
     "name": "stderr",
     "output_type": "stream",
     "text": [
      " 20%|██████████████████████████████████                                                                                                                                            | 86.01980198021047/440 [35:41<2:04:00, 21.02s/it]"
     ]
    },
    {
     "name": "stdout",
     "output_type": "stream",
     "text": [
      "Train Epoch: 147 [0/2508 (0%)]\tLoss: 0.348553\n",
      "Mem before-during-after: 22807040 1943193600 22811136\n"
     ]
    },
    {
     "name": "stderr",
     "output_type": "stream",
     "text": [
      " 20%|██████████████████████████████████▏                                                                                                                                           | 86.40594059407196/440 [35:51<2:43:22, 27.72s/it]"
     ]
    },
    {
     "name": "stdout",
     "output_type": "stream",
     "text": [
      "Train Epoch: 147 [1280/2508 (51%)]\tLoss: 0.310325\n",
      "Mem before-during-after: 22811136 1942032384 22811136\n"
     ]
    },
    {
     "name": "stderr",
     "output_type": "stream",
     "text": [
      " 20%|██████████████████████████████████▍                                                                                                                                           | 87.00000000001272/440 [36:05<2:01:54, 20.72s/it]"
     ]
    },
    {
     "name": "stdout",
     "output_type": "stream",
     "text": [
      "\n",
      "Test Epoch: 147\tAccuracy: 572/736 (75%)\n",
      "\n"
     ]
    },
    {
     "name": "stderr",
     "output_type": "stream",
     "text": [
      " 20%|██████████████████████████████████▍                                                                                                                                           | 87.01980198021074/440 [36:06<2:06:14, 21.46s/it]"
     ]
    },
    {
     "name": "stdout",
     "output_type": "stream",
     "text": [
      "Train Epoch: 148 [0/2508 (0%)]\tLoss: 0.301965\n",
      "Mem before-during-after: 22807040 1943193600 22811136\n"
     ]
    },
    {
     "name": "stderr",
     "output_type": "stream",
     "text": [
      " 20%|██████████████████████████████████▌                                                                                                                                           | 87.40594059407223/440 [36:16<2:45:36, 28.18s/it]"
     ]
    },
    {
     "name": "stdout",
     "output_type": "stream",
     "text": [
      "Train Epoch: 148 [1280/2508 (51%)]\tLoss: 0.332772\n",
      "Mem before-during-after: 22811136 1941254144 22811136\n"
     ]
    },
    {
     "name": "stderr",
     "output_type": "stream",
     "text": [
      " 20%|██████████████████████████████████▊                                                                                                                                           | 88.00000000001299/440 [36:30<1:57:26, 20.02s/it]"
     ]
    },
    {
     "name": "stdout",
     "output_type": "stream",
     "text": [
      "\n",
      "Test Epoch: 148\tAccuracy: 604/736 (80%)\n",
      "\n"
     ]
    },
    {
     "name": "stderr",
     "output_type": "stream",
     "text": [
      " 20%|███████████████████████████████████▏                                                                                                                                            | 88.009900990112/440 [36:30<2:08:22, 21.88s/it]"
     ]
    },
    {
     "name": "stdout",
     "output_type": "stream",
     "text": [
      "Train Epoch: 149 [0/2508 (0%)]\tLoss: 0.294025\n",
      "Mem before-during-after: 22807040 1943193600 22811136\n"
     ]
    },
    {
     "name": "stderr",
     "output_type": "stream",
     "text": [
      " 20%|███████████████████████████████████▏                                                                                                                                           | 88.4059405940725/440 [36:40<2:41:17, 27.52s/it]"
     ]
    },
    {
     "name": "stdout",
     "output_type": "stream",
     "text": [
      "Train Epoch: 149 [1280/2508 (51%)]\tLoss: 0.757407\n",
      "Mem before-during-after: 22811136 1941942272 22811136\n"
     ]
    },
    {
     "name": "stderr",
     "output_type": "stream",
     "text": [
      " 20%|███████████████████████████████████▏                                                                                                                                          | 89.00000000001326/440 [36:55<2:16:08, 23.27s/it]"
     ]
    },
    {
     "name": "stdout",
     "output_type": "stream",
     "text": [
      "\n",
      "Test Epoch: 149\tAccuracy: 581/736 (77%)\n",
      "\n"
     ]
    },
    {
     "name": "stderr",
     "output_type": "stream",
     "text": [
      " 20%|███████████████████████████████████▏                                                                                                                                          | 89.01980198021128/440 [36:55<2:11:18, 22.45s/it]"
     ]
    },
    {
     "name": "stdout",
     "output_type": "stream",
     "text": [
      "Train Epoch: 150 [0/2508 (0%)]\tLoss: 0.389261\n",
      "Mem before-during-after: 22807040 1943193600 22811136\n"
     ]
    },
    {
     "name": "stderr",
     "output_type": "stream",
     "text": [
      " 20%|███████████████████████████████████▎                                                                                                                                          | 89.40594059407277/440 [37:06<2:42:19, 27.78s/it]"
     ]
    },
    {
     "name": "stdout",
     "output_type": "stream",
     "text": [
      "Train Epoch: 150 [1280/2508 (51%)]\tLoss: 0.197450\n",
      "Mem before-during-after: 22811136 1942032384 22811136\n"
     ]
    },
    {
     "name": "stderr",
     "output_type": "stream",
     "text": [
      " 20%|███████████████████████████████████▌                                                                                                                                          | 90.00000000001353/440 [37:20<1:56:23, 19.95s/it]"
     ]
    },
    {
     "name": "stdout",
     "output_type": "stream",
     "text": [
      "\n",
      "Test Epoch: 150\tAccuracy: 576/736 (76%)\n",
      "\n"
     ]
    },
    {
     "name": "stderr",
     "output_type": "stream",
     "text": [
      " 20%|███████████████████████████████████▌                                                                                                                                          | 90.01980198021155/440 [37:20<2:04:38, 21.37s/it]"
     ]
    },
    {
     "name": "stdout",
     "output_type": "stream",
     "text": [
      "Train Epoch: 151 [0/2508 (0%)]\tLoss: 0.294315\n",
      "Mem before-during-after: 22807040 1943193600 22811136\n"
     ]
    },
    {
     "name": "stderr",
     "output_type": "stream",
     "text": [
      " 21%|███████████████████████████████████▊                                                                                                                                          | 90.40594059407304/440 [37:30<2:42:42, 27.92s/it]"
     ]
    },
    {
     "name": "stdout",
     "output_type": "stream",
     "text": [
      "Train Epoch: 151 [1280/2508 (51%)]\tLoss: 0.151135\n",
      "Mem before-during-after: 22811136 1941254144 22811136\n"
     ]
    },
    {
     "name": "stderr",
     "output_type": "stream",
     "text": [
      " 21%|████████████████████████████████████▏                                                                                                                                          | 91.0000000000138/440 [37:45<1:59:27, 20.54s/it]"
     ]
    },
    {
     "name": "stdout",
     "output_type": "stream",
     "text": [
      "\n",
      "Test Epoch: 151\tAccuracy: 584/736 (77%)\n",
      "\n"
     ]
    },
    {
     "name": "stderr",
     "output_type": "stream",
     "text": [
      " 21%|███████████████████████████████████▉                                                                                                                                          | 91.01980198021182/440 [37:45<2:05:49, 21.63s/it]"
     ]
    },
    {
     "name": "stdout",
     "output_type": "stream",
     "text": [
      "Train Epoch: 152 [0/2508 (0%)]\tLoss: 0.232726\n",
      "Mem before-during-after: 22807040 1943193600 22811136\n"
     ]
    },
    {
     "name": "stderr",
     "output_type": "stream",
     "text": [
      " 21%|████████████████████████████████████▏                                                                                                                                         | 91.40594059407331/440 [37:55<2:42:38, 27.99s/it]"
     ]
    },
    {
     "name": "stdout",
     "output_type": "stream",
     "text": [
      "Train Epoch: 152 [1280/2508 (51%)]\tLoss: 0.182153\n",
      "Mem before-during-after: 22811136 1942032384 22811136\n"
     ]
    },
    {
     "name": "stderr",
     "output_type": "stream",
     "text": [
      " 21%|████████████████████████████████████▍                                                                                                                                         | 92.00000000001407/440 [38:09<1:56:46, 20.13s/it]"
     ]
    },
    {
     "name": "stdout",
     "output_type": "stream",
     "text": [
      "\n",
      "Test Epoch: 152\tAccuracy: 576/736 (76%)\n",
      "\n"
     ]
    },
    {
     "name": "stderr",
     "output_type": "stream",
     "text": [
      " 21%|████████████████████████████████████▍                                                                                                                                         | 92.00990099011308/440 [38:10<2:07:31, 21.99s/it]"
     ]
    },
    {
     "name": "stdout",
     "output_type": "stream",
     "text": [
      "Train Epoch: 153 [0/2508 (0%)]\tLoss: 0.891185\n",
      "Mem before-during-after: 22807040 1938005504 22811136\n"
     ]
    },
    {
     "name": "stderr",
     "output_type": "stream",
     "text": [
      " 21%|████████████████████████████████████▌                                                                                                                                         | 92.40594059407358/440 [38:20<2:39:45, 27.58s/it]"
     ]
    },
    {
     "name": "stdout",
     "output_type": "stream",
     "text": [
      "Train Epoch: 153 [1280/2508 (51%)]\tLoss: 0.406224\n",
      "Mem before-during-after: 22811136 1940102656 22811136\n"
     ]
    },
    {
     "name": "stderr",
     "output_type": "stream",
     "text": [
      " 21%|████████████████████████████████████▊                                                                                                                                         | 93.00000000001434/440 [38:34<1:53:04, 19.55s/it]"
     ]
    },
    {
     "name": "stdout",
     "output_type": "stream",
     "text": [
      "\n",
      "Test Epoch: 153\tAccuracy: 584/736 (77%)\n",
      "\n"
     ]
    },
    {
     "name": "stderr",
     "output_type": "stream",
     "text": [
      " 21%|████████████████████████████████████▊                                                                                                                                         | 93.01980198021236/440 [38:35<2:03:39, 21.38s/it]"
     ]
    },
    {
     "name": "stdout",
     "output_type": "stream",
     "text": [
      "Train Epoch: 154 [0/2508 (0%)]\tLoss: 0.205866\n",
      "Mem before-during-after: 22807040 1943193600 22811136\n"
     ]
    },
    {
     "name": "stderr",
     "output_type": "stream",
     "text": [
      " 21%|████████████████████████████████████▉                                                                                                                                         | 93.40594059407385/440 [38:45<2:40:49, 27.84s/it]"
     ]
    },
    {
     "name": "stdout",
     "output_type": "stream",
     "text": [
      "Train Epoch: 154 [1280/2508 (51%)]\tLoss: 0.177815\n",
      "Mem before-during-after: 22811136 1942032384 22811136\n"
     ]
    },
    {
     "name": "stderr",
     "output_type": "stream",
     "text": [
      " 21%|█████████████████████████████████████▏                                                                                                                                        | 94.00000000001461/440 [38:59<1:55:05, 19.96s/it]"
     ]
    },
    {
     "name": "stdout",
     "output_type": "stream",
     "text": [
      "\n",
      "Test Epoch: 154\tAccuracy: 579/736 (76%)\n",
      "\n"
     ]
    },
    {
     "name": "stderr",
     "output_type": "stream",
     "text": [
      " 21%|█████████████████████████████████████▏                                                                                                                                        | 94.01980198021263/440 [38:59<2:02:54, 21.32s/it]"
     ]
    },
    {
     "name": "stdout",
     "output_type": "stream",
     "text": [
      "Train Epoch: 155 [0/2508 (0%)]\tLoss: 0.400610\n",
      "Mem before-during-after: 22807040 1943193600 22811136\n"
     ]
    },
    {
     "name": "stderr",
     "output_type": "stream",
     "text": [
      " 21%|█████████████████████████████████████▎                                                                                                                                        | 94.40594059407412/440 [39:10<2:41:55, 28.11s/it]"
     ]
    },
    {
     "name": "stdout",
     "output_type": "stream",
     "text": [
      "Train Epoch: 155 [1280/2508 (51%)]\tLoss: 0.189406\n",
      "Mem before-during-after: 22811136 1942032384 22811136\n"
     ]
    },
    {
     "name": "stderr",
     "output_type": "stream",
     "text": [
      " 22%|█████████████████████████████████████▌                                                                                                                                        | 95.00000000001488/440 [39:24<1:55:48, 20.14s/it]"
     ]
    },
    {
     "name": "stdout",
     "output_type": "stream",
     "text": [
      "\n",
      "Test Epoch: 155\tAccuracy: 587/736 (77%)\n",
      "\n"
     ]
    },
    {
     "name": "stderr",
     "output_type": "stream",
     "text": [
      " 22%|█████████████████████████████████████▊                                                                                                                                         | 95.0198019802129/440 [39:24<2:03:29, 21.48s/it]"
     ]
    },
    {
     "name": "stdout",
     "output_type": "stream",
     "text": [
      "Train Epoch: 156 [0/2508 (0%)]\tLoss: 0.168719\n",
      "Mem before-during-after: 22807040 1943193600 22811136\n"
     ]
    },
    {
     "name": "stderr",
     "output_type": "stream",
     "text": [
      " 22%|█████████████████████████████████████▉                                                                                                                                         | 95.4059405940744/440 [39:35<2:42:52, 28.36s/it]"
     ]
    },
    {
     "name": "stdout",
     "output_type": "stream",
     "text": [
      "Train Epoch: 156 [1280/2508 (51%)]\tLoss: 0.260409\n",
      "Mem before-during-after: 22811136 1942032384 22811136\n"
     ]
    },
    {
     "name": "stderr",
     "output_type": "stream",
     "text": [
      " 22%|█████████████████████████████████████▉                                                                                                                                        | 96.00000000001515/440 [39:49<1:54:43, 20.01s/it]"
     ]
    },
    {
     "name": "stdout",
     "output_type": "stream",
     "text": [
      "\n",
      "Test Epoch: 156\tAccuracy: 575/736 (76%)\n",
      "\n"
     ]
    },
    {
     "name": "stderr",
     "output_type": "stream",
     "text": [
      " 22%|█████████████████████████████████████▉                                                                                                                                        | 96.00990099011416/440 [39:49<2:07:30, 22.24s/it]"
     ]
    },
    {
     "name": "stdout",
     "output_type": "stream",
     "text": [
      "Train Epoch: 157 [0/2508 (0%)]\tLoss: 0.566647\n",
      "Mem before-during-after: 22807040 1943193600 22811136\n"
     ]
    },
    {
     "name": "stderr",
     "output_type": "stream",
     "text": [
      " 22%|██████████████████████████████████████                                                                                                                                        | 96.40594059407466/440 [39:59<2:39:04, 27.78s/it]"
     ]
    },
    {
     "name": "stdout",
     "output_type": "stream",
     "text": [
      "Train Epoch: 157 [1280/2508 (51%)]\tLoss: 0.283842\n",
      "Mem before-during-after: 22811136 1942032384 22811136\n"
     ]
    },
    {
     "name": "stderr",
     "output_type": "stream",
     "text": [
      " 22%|██████████████████████████████████████▎                                                                                                                                       | 97.00000000001542/440 [40:14<1:59:50, 20.96s/it]"
     ]
    },
    {
     "name": "stdout",
     "output_type": "stream",
     "text": [
      "\n",
      "Test Epoch: 157\tAccuracy: 605/736 (80%)\n",
      "\n"
     ]
    },
    {
     "name": "stderr",
     "output_type": "stream",
     "text": [
      " 22%|██████████████████████████████████████▎                                                                                                                                       | 97.01980198021344/440 [40:14<2:03:27, 21.60s/it]"
     ]
    },
    {
     "name": "stdout",
     "output_type": "stream",
     "text": [
      "Train Epoch: 158 [0/2508 (0%)]\tLoss: 0.432803\n",
      "Mem before-during-after: 22807040 1938005504 22811136\n"
     ]
    },
    {
     "name": "stderr",
     "output_type": "stream",
     "text": [
      " 22%|██████████████████████████████████████▌                                                                                                                                       | 97.40594059407493/440 [40:24<2:38:44, 27.80s/it]"
     ]
    },
    {
     "name": "stdout",
     "output_type": "stream",
     "text": [
      "Train Epoch: 158 [1280/2508 (51%)]\tLoss: 0.305221\n",
      "Mem before-during-after: 22811136 1941516288 22811136\n"
     ]
    },
    {
     "name": "stderr",
     "output_type": "stream",
     "text": [
      " 22%|██████████████████████████████████████▊                                                                                                                                       | 98.00000000001569/440 [40:38<1:54:00, 20.00s/it]"
     ]
    },
    {
     "name": "stdout",
     "output_type": "stream",
     "text": [
      "\n",
      "Test Epoch: 158\tAccuracy: 588/736 (77%)\n",
      "\n"
     ]
    },
    {
     "name": "stderr",
     "output_type": "stream",
     "text": [
      " 22%|██████████████████████████████████████▊                                                                                                                                       | 98.01980198021371/440 [40:39<2:01:20, 21.29s/it]"
     ]
    },
    {
     "name": "stdout",
     "output_type": "stream",
     "text": [
      "Train Epoch: 159 [0/2508 (0%)]\tLoss: 0.109686\n",
      "Mem before-during-after: 22807040 1943193600 22811136\n"
     ]
    },
    {
     "name": "stderr",
     "output_type": "stream",
     "text": [
      " 22%|███████████████████████████████████████▏                                                                                                                                       | 98.4059405940752/440 [40:49<2:39:54, 28.09s/it]"
     ]
    },
    {
     "name": "stdout",
     "output_type": "stream",
     "text": [
      "Train Epoch: 159 [1280/2508 (51%)]\tLoss: 0.226726\n",
      "Mem before-during-after: 22811136 1942032384 22811136\n"
     ]
    },
    {
     "name": "stderr",
     "output_type": "stream",
     "text": [
      " 23%|███████████████████████████████████████▏                                                                                                                                      | 99.00000000001596/440 [41:03<1:55:33, 20.33s/it]"
     ]
    },
    {
     "name": "stdout",
     "output_type": "stream",
     "text": [
      "\n",
      "Test Epoch: 159\tAccuracy: 570/736 (75%)\n",
      "\n"
     ]
    },
    {
     "name": "stderr",
     "output_type": "stream",
     "text": [
      " 23%|███████████████████████████████████████▏                                                                                                                                      | 99.01980198021398/440 [41:04<2:00:51, 21.27s/it]"
     ]
    },
    {
     "name": "stdout",
     "output_type": "stream",
     "text": [
      "Train Epoch: 160 [0/2508 (0%)]\tLoss: 0.369060\n",
      "Mem before-during-after: 22807040 1943193600 22811136\n"
     ]
    },
    {
     "name": "stderr",
     "output_type": "stream",
     "text": [
      " 23%|███████████████████████████████████████▎                                                                                                                                      | 99.40594059407547/440 [41:14<2:38:48, 27.98s/it]"
     ]
    },
    {
     "name": "stdout",
     "output_type": "stream",
     "text": [
      "Train Epoch: 160 [1280/2508 (51%)]\tLoss: 0.433993\n",
      "Mem before-during-after: 22811136 1942032384 22811136\n"
     ]
    },
    {
     "name": "stderr",
     "output_type": "stream",
     "text": [
      " 23%|███████████████████████████████████████▎                                                                                                                                     | 100.00000000001623/440 [41:28<1:54:21, 20.18s/it]"
     ]
    },
    {
     "name": "stdout",
     "output_type": "stream",
     "text": [
      "\n",
      "Test Epoch: 160\tAccuracy: 573/736 (75%)\n",
      "\n"
     ]
    },
    {
     "name": "stderr",
     "output_type": "stream",
     "text": [
      " 23%|███████████████████████████████████████▎                                                                                                                                     | 100.01980198021425/440 [41:28<1:59:31, 21.09s/it]"
     ]
    },
    {
     "name": "stdout",
     "output_type": "stream",
     "text": [
      "Train Epoch: 161 [0/2508 (0%)]\tLoss: 0.162217\n",
      "Mem before-during-after: 22807040 1943193600 22811136\n"
     ]
    },
    {
     "name": "stderr",
     "output_type": "stream",
     "text": [
      " 23%|███████████████████████████████████████▍                                                                                                                                     | 100.40594059407574/440 [41:39<2:37:33, 27.84s/it]"
     ]
    },
    {
     "name": "stdout",
     "output_type": "stream",
     "text": [
      "Train Epoch: 161 [1280/2508 (51%)]\tLoss: 0.283336\n",
      "Mem before-during-after: 22811136 1942032384 22811136\n"
     ]
    },
    {
     "name": "stderr",
     "output_type": "stream",
     "text": [
      " 23%|███████████████████████████████████████▉                                                                                                                                      | 101.0000000000165/440 [41:53<1:53:45, 20.13s/it]"
     ]
    },
    {
     "name": "stdout",
     "output_type": "stream",
     "text": [
      "\n",
      "Test Epoch: 161\tAccuracy: 538/736 (71%)\n",
      "\n"
     ]
    },
    {
     "name": "stderr",
     "output_type": "stream",
     "text": [
      " 23%|███████████████████████████████████████▋                                                                                                                                     | 101.01980198021452/440 [41:53<2:01:02, 21.42s/it]"
     ]
    },
    {
     "name": "stdout",
     "output_type": "stream",
     "text": [
      "Train Epoch: 162 [0/2508 (0%)]\tLoss: 0.255849\n",
      "Mem before-during-after: 22807040 1943193600 22811136\n"
     ]
    },
    {
     "name": "stderr",
     "output_type": "stream",
     "text": [
      " 23%|███████████████████████████████████████▊                                                                                                                                     | 101.40594059407601/440 [42:03<2:35:45, 27.60s/it]"
     ]
    },
    {
     "name": "stdout",
     "output_type": "stream",
     "text": [
      "Train Epoch: 162 [1280/2508 (51%)]\tLoss: 0.571843\n",
      "Mem before-during-after: 22811136 1941942272 22811136\n"
     ]
    },
    {
     "name": "stderr",
     "output_type": "stream",
     "text": [
      " 23%|████████████████████████████████████████                                                                                                                                     | 102.00000000001677/440 [42:18<1:51:58, 19.88s/it]"
     ]
    },
    {
     "name": "stdout",
     "output_type": "stream",
     "text": [
      "\n",
      "Test Epoch: 162\tAccuracy: 579/736 (76%)\n",
      "\n"
     ]
    },
    {
     "name": "stderr",
     "output_type": "stream",
     "text": [
      " 23%|████████████████████████████████████████▎                                                                                                                                     | 102.0198019802148/440 [42:18<1:58:48, 21.09s/it]"
     ]
    },
    {
     "name": "stdout",
     "output_type": "stream",
     "text": [
      "Train Epoch: 163 [0/2508 (0%)]\tLoss: 0.189637\n",
      "Mem before-during-after: 22807040 1943193600 22811136\n"
     ]
    },
    {
     "name": "stderr",
     "output_type": "stream",
     "text": [
      " 23%|████████████████████████████████████████▎                                                                                                                                    | 102.40594059407628/440 [42:28<2:34:55, 27.54s/it]"
     ]
    },
    {
     "name": "stdout",
     "output_type": "stream",
     "text": [
      "Train Epoch: 163 [1280/2508 (51%)]\tLoss: 0.148424\n",
      "Mem before-during-after: 22811136 1941254144 22811136\n"
     ]
    },
    {
     "name": "stderr",
     "output_type": "stream",
     "text": [
      " 23%|████████████████████████████████████████▍                                                                                                                                    | 103.00000000001704/440 [42:42<1:54:32, 20.39s/it]"
     ]
    },
    {
     "name": "stdout",
     "output_type": "stream",
     "text": [
      "\n",
      "Test Epoch: 163\tAccuracy: 569/736 (75%)\n",
      "\n"
     ]
    },
    {
     "name": "stderr",
     "output_type": "stream",
     "text": [
      " 23%|████████████████████████████████████████▌                                                                                                                                    | 103.01980198021506/440 [42:43<1:59:57, 21.36s/it]"
     ]
    },
    {
     "name": "stdout",
     "output_type": "stream",
     "text": [
      "Train Epoch: 164 [0/2508 (0%)]\tLoss: 0.157189\n",
      "Mem before-during-after: 22807040 1943193600 22811136\n"
     ]
    },
    {
     "name": "stderr",
     "output_type": "stream",
     "text": [
      " 24%|████████████████████████████████████████▋                                                                                                                                    | 103.40594059407655/440 [42:53<2:35:47, 27.77s/it]"
     ]
    },
    {
     "name": "stdout",
     "output_type": "stream",
     "text": [
      "Train Epoch: 164 [1280/2508 (51%)]\tLoss: 0.154419\n",
      "Mem before-during-after: 22811136 1942032384 22811136\n"
     ]
    },
    {
     "name": "stderr",
     "output_type": "stream",
     "text": [
      " 24%|████████████████████████████████████████▉                                                                                                                                    | 104.00000000001731/440 [43:07<1:51:50, 19.97s/it]"
     ]
    },
    {
     "name": "stdout",
     "output_type": "stream",
     "text": [
      "\n",
      "Test Epoch: 164\tAccuracy: 584/736 (77%)\n",
      "\n"
     ]
    },
    {
     "name": "stderr",
     "output_type": "stream",
     "text": [
      " 24%|████████████████████████████████████████▉                                                                                                                                    | 104.00990099011632/440 [43:07<2:03:20, 22.03s/it]"
     ]
    },
    {
     "name": "stdout",
     "output_type": "stream",
     "text": [
      "Train Epoch: 165 [0/2508 (0%)]\tLoss: 0.163073\n",
      "Mem before-during-after: 22807040 1943193600 22811136\n"
     ]
    },
    {
     "name": "stderr",
     "output_type": "stream",
     "text": [
      " 24%|█████████████████████████████████████████                                                                                                                                    | 104.40594059407682/440 [43:18<2:36:30, 27.98s/it]"
     ]
    },
    {
     "name": "stdout",
     "output_type": "stream",
     "text": [
      "Train Epoch: 165 [1280/2508 (51%)]\tLoss: 0.368196\n",
      "Mem before-during-after: 22811136 1941254144 22811136\n"
     ]
    },
    {
     "name": "stderr",
     "output_type": "stream",
     "text": [
      " 24%|█████████████████████████████████████████▎                                                                                                                                   | 105.00000000001758/440 [43:32<2:22:21, 25.50s/it]"
     ]
    },
    {
     "name": "stdout",
     "output_type": "stream",
     "text": [
      "\n",
      "Test Epoch: 165\tAccuracy: 564/736 (74%)\n",
      "\n"
     ]
    },
    {
     "name": "stderr",
     "output_type": "stream",
     "text": [
      " 24%|█████████████████████████████████████████▌                                                                                                                                    | 105.0198019802156/440 [43:33<2:14:11, 24.03s/it]"
     ]
    },
    {
     "name": "stdout",
     "output_type": "stream",
     "text": [
      "Train Epoch: 166 [0/2508 (0%)]\tLoss: 0.115152\n",
      "Mem before-during-after: 22807040 1943193600 22811136\n"
     ]
    },
    {
     "name": "stderr",
     "output_type": "stream",
     "text": [
      " 24%|█████████████████████████████████████████▋                                                                                                                                    | 105.4059405940771/440 [43:43<2:34:12, 27.65s/it]"
     ]
    },
    {
     "name": "stdout",
     "output_type": "stream",
     "text": [
      "Train Epoch: 166 [1280/2508 (51%)]\tLoss: 0.471994\n",
      "Mem before-during-after: 22811136 1941254144 22811136\n"
     ]
    },
    {
     "name": "stderr",
     "output_type": "stream",
     "text": [
      " 24%|█████████████████████████████████████████▋                                                                                                                                   | 106.00000000001785/440 [43:57<1:50:07, 19.78s/it]"
     ]
    },
    {
     "name": "stdout",
     "output_type": "stream",
     "text": [
      "\n",
      "Test Epoch: 166\tAccuracy: 554/736 (73%)\n",
      "\n"
     ]
    },
    {
     "name": "stderr",
     "output_type": "stream",
     "text": [
      " 24%|█████████████████████████████████████████▋                                                                                                                                   | 106.00990099011686/440 [43:57<2:01:17, 21.79s/it]"
     ]
    },
    {
     "name": "stdout",
     "output_type": "stream",
     "text": [
      "Train Epoch: 167 [0/2508 (0%)]\tLoss: 0.167313\n",
      "Mem before-during-after: 22807040 1943193600 22811136\n"
     ]
    },
    {
     "name": "stderr",
     "output_type": "stream",
     "text": [
      " 24%|█████████████████████████████████████████▊                                                                                                                                   | 106.40594059407736/440 [44:08<2:34:36, 27.81s/it]"
     ]
    },
    {
     "name": "stdout",
     "output_type": "stream",
     "text": [
      "Train Epoch: 167 [1280/2508 (51%)]\tLoss: 0.329015\n",
      "Mem before-during-after: 22811136 1942032384 22811136\n"
     ]
    },
    {
     "name": "stderr",
     "output_type": "stream",
     "text": [
      " 24%|██████████████████████████████████████████                                                                                                                                   | 107.00000000001812/440 [44:22<1:52:28, 20.26s/it]"
     ]
    },
    {
     "name": "stdout",
     "output_type": "stream",
     "text": [
      "\n",
      "Test Epoch: 167\tAccuracy: 582/736 (77%)\n",
      "\n"
     ]
    },
    {
     "name": "stderr",
     "output_type": "stream",
     "text": [
      " 24%|██████████████████████████████████████████                                                                                                                                   | 107.01980198021614/440 [44:22<1:59:02, 21.45s/it]"
     ]
    },
    {
     "name": "stdout",
     "output_type": "stream",
     "text": [
      "Train Epoch: 168 [0/2508 (0%)]\tLoss: 0.237678\n",
      "Mem before-during-after: 22807040 1943193600 22811136\n"
     ]
    },
    {
     "name": "stderr",
     "output_type": "stream",
     "text": [
      " 24%|██████████████████████████████████████████▏                                                                                                                                  | 107.40594059407763/440 [44:33<2:36:29, 28.23s/it]"
     ]
    },
    {
     "name": "stdout",
     "output_type": "stream",
     "text": [
      "Train Epoch: 168 [1280/2508 (51%)]\tLoss: 0.190465\n",
      "Mem before-during-after: 22811136 1942032384 22811136\n"
     ]
    },
    {
     "name": "stderr",
     "output_type": "stream",
     "text": [
      " 25%|██████████████████████████████████████████▍                                                                                                                                  | 108.00000000001839/440 [44:47<1:56:31, 21.06s/it]"
     ]
    },
    {
     "name": "stdout",
     "output_type": "stream",
     "text": [
      "\n",
      "Test Epoch: 168\tAccuracy: 587/736 (77%)\n",
      "\n"
     ]
    },
    {
     "name": "stderr",
     "output_type": "stream",
     "text": [
      " 25%|██████████████████████████████████████████▍                                                                                                                                  | 108.01980198021641/440 [44:47<1:58:49, 21.48s/it]"
     ]
    },
    {
     "name": "stdout",
     "output_type": "stream",
     "text": [
      "Train Epoch: 169 [0/2508 (0%)]\tLoss: 0.052944\n",
      "Mem before-during-after: 22807040 1943193600 22811136\n"
     ]
    },
    {
     "name": "stderr",
     "output_type": "stream",
     "text": [
      " 25%|██████████████████████████████████████████▊                                                                                                                                   | 108.4059405940779/440 [44:58<2:34:51, 28.02s/it]"
     ]
    },
    {
     "name": "stdout",
     "output_type": "stream",
     "text": [
      "Train Epoch: 169 [1280/2508 (51%)]\tLoss: 0.099102\n",
      "Mem before-during-after: 22811136 1942032384 22811136\n"
     ]
    },
    {
     "name": "stderr",
     "output_type": "stream",
     "text": [
      " 25%|██████████████████████████████████████████▊                                                                                                                                  | 109.00000000001866/440 [45:12<1:59:50, 21.72s/it]"
     ]
    },
    {
     "name": "stdout",
     "output_type": "stream",
     "text": [
      "\n",
      "Test Epoch: 169\tAccuracy: 564/736 (74%)\n",
      "\n"
     ]
    },
    {
     "name": "stderr",
     "output_type": "stream",
     "text": [
      " 25%|██████████████████████████████████████████▊                                                                                                                                  | 109.01980198021668/440 [45:12<2:01:20, 22.00s/it]"
     ]
    },
    {
     "name": "stdout",
     "output_type": "stream",
     "text": [
      "Train Epoch: 170 [0/2508 (0%)]\tLoss: 0.204095\n",
      "Mem before-during-after: 22807040 1943193600 22811136\n"
     ]
    },
    {
     "name": "stderr",
     "output_type": "stream",
     "text": [
      " 25%|███████████████████████████████████████████                                                                                                                                  | 109.40594059407817/440 [45:23<2:35:38, 28.25s/it]"
     ]
    },
    {
     "name": "stdout",
     "output_type": "stream",
     "text": [
      "Train Epoch: 170 [1280/2508 (51%)]\tLoss: 0.124159\n",
      "Mem before-during-after: 22811136 1942032384 22811136\n"
     ]
    },
    {
     "name": "stderr",
     "output_type": "stream",
     "text": [
      " 25%|███████████████████████████████████████████▎                                                                                                                                 | 110.00000000001893/440 [45:37<1:51:50, 20.34s/it]"
     ]
    },
    {
     "name": "stdout",
     "output_type": "stream",
     "text": [
      "\n",
      "Test Epoch: 170\tAccuracy: 586/736 (77%)\n",
      "\n"
     ]
    },
    {
     "name": "stderr",
     "output_type": "stream",
     "text": [
      " 25%|███████████████████████████████████████████▎                                                                                                                                 | 110.01980198021695/440 [45:37<1:58:14, 21.50s/it]"
     ]
    },
    {
     "name": "stdout",
     "output_type": "stream",
     "text": [
      "Train Epoch: 171 [0/2508 (0%)]\tLoss: 0.147363\n",
      "Mem before-during-after: 22807040 1943193600 22811136\n"
     ]
    },
    {
     "name": "stderr",
     "output_type": "stream",
     "text": [
      " 25%|███████████████████████████████████████████▍                                                                                                                                 | 110.40594059407844/440 [45:48<2:32:08, 27.69s/it]"
     ]
    },
    {
     "name": "stdout",
     "output_type": "stream",
     "text": [
      "Train Epoch: 171 [1280/2508 (51%)]\tLoss: 0.258696\n",
      "Mem before-during-after: 22811136 1942032384 22811136\n"
     ]
    },
    {
     "name": "stderr",
     "output_type": "stream",
     "text": [
      " 25%|███████████████████████████████████████████▉                                                                                                                                  | 111.0000000000192/440 [46:02<1:48:14, 19.74s/it]"
     ]
    },
    {
     "name": "stdout",
     "output_type": "stream",
     "text": [
      "\n",
      "Test Epoch: 171\tAccuracy: 582/736 (77%)\n",
      "\n"
     ]
    },
    {
     "name": "stderr",
     "output_type": "stream",
     "text": [
      " 25%|███████████████████████████████████████████▋                                                                                                                                 | 111.01980198021722/440 [46:02<1:54:36, 20.90s/it]"
     ]
    },
    {
     "name": "stdout",
     "output_type": "stream",
     "text": [
      "Train Epoch: 172 [0/2508 (0%)]\tLoss: 0.141146\n",
      "Mem before-during-after: 22807040 1943193600 22811136\n"
     ]
    },
    {
     "name": "stderr",
     "output_type": "stream",
     "text": [
      " 25%|███████████████████████████████████████████▊                                                                                                                                 | 111.40594059407871/440 [46:12<2:30:50, 27.54s/it]"
     ]
    },
    {
     "name": "stdout",
     "output_type": "stream",
     "text": [
      "Train Epoch: 172 [1280/2508 (51%)]\tLoss: 0.204494\n",
      "Mem before-during-after: 22811136 1942032384 22811136\n"
     ]
    },
    {
     "name": "stderr",
     "output_type": "stream",
     "text": [
      " 25%|████████████████████████████████████████████                                                                                                                                 | 112.00000000001947/440 [46:26<1:49:58, 20.12s/it]"
     ]
    },
    {
     "name": "stdout",
     "output_type": "stream",
     "text": [
      "\n",
      "Test Epoch: 172\tAccuracy: 585/736 (77%)\n",
      "\n"
     ]
    },
    {
     "name": "stderr",
     "output_type": "stream",
     "text": [
      " 25%|████████████████████████████████████████████▎                                                                                                                                 | 112.0198019802175/440 [46:27<1:55:18, 21.09s/it]"
     ]
    },
    {
     "name": "stdout",
     "output_type": "stream",
     "text": [
      "Train Epoch: 173 [0/2508 (0%)]\tLoss: 0.094670\n",
      "Mem before-during-after: 22807040 1943193600 22811136\n"
     ]
    },
    {
     "name": "stderr",
     "output_type": "stream",
     "text": [
      " 26%|████████████████████████████████████████████▏                                                                                                                                | 112.40594059407898/440 [46:37<2:31:11, 27.69s/it]"
     ]
    },
    {
     "name": "stdout",
     "output_type": "stream",
     "text": [
      "Train Epoch: 173 [1280/2508 (51%)]\tLoss: 0.205899\n",
      "Mem before-during-after: 22811136 1942032384 22811136\n"
     ]
    },
    {
     "name": "stderr",
     "output_type": "stream",
     "text": [
      " 26%|████████████████████████████████████████████▍                                                                                                                                | 113.00000000001974/440 [46:51<1:45:37, 19.38s/it]"
     ]
    },
    {
     "name": "stdout",
     "output_type": "stream",
     "text": [
      "\n",
      "Test Epoch: 173\tAccuracy: 563/736 (74%)\n",
      "\n"
     ]
    },
    {
     "name": "stderr",
     "output_type": "stream",
     "text": [
      " 26%|████████████████████████████████████████████▍                                                                                                                                | 113.00990099011875/440 [46:51<1:55:40, 21.23s/it]"
     ]
    },
    {
     "name": "stdout",
     "output_type": "stream",
     "text": [
      "Train Epoch: 174 [0/2508 (0%)]\tLoss: 0.190057\n",
      "Mem before-during-after: 22807040 1943193600 22811136\n"
     ]
    },
    {
     "name": "stderr",
     "output_type": "stream",
     "text": [
      " 26%|████████████████████████████████████████████▌                                                                                                                                | 113.40594059407925/440 [47:02<2:31:34, 27.85s/it]"
     ]
    },
    {
     "name": "stdout",
     "output_type": "stream",
     "text": [
      "Train Epoch: 174 [1280/2508 (51%)]\tLoss: 0.409473\n",
      "Mem before-during-after: 22811136 1942032384 22811136\n"
     ]
    },
    {
     "name": "stderr",
     "output_type": "stream",
     "text": [
      " 26%|████████████████████████████████████████████▊                                                                                                                                | 114.00000000002001/440 [47:16<1:51:26, 20.51s/it]"
     ]
    },
    {
     "name": "stdout",
     "output_type": "stream",
     "text": [
      "\n",
      "Test Epoch: 174\tAccuracy: 547/736 (72%)\n",
      "\n"
     ]
    },
    {
     "name": "stderr",
     "output_type": "stream",
     "text": [
      " 26%|████████████████████████████████████████████▊                                                                                                                                | 114.01980198021803/440 [47:16<1:57:36, 21.65s/it]"
     ]
    },
    {
     "name": "stdout",
     "output_type": "stream",
     "text": [
      "Train Epoch: 175 [0/2508 (0%)]\tLoss: 0.489158\n",
      "Mem before-during-after: 22807040 1943193600 22811136\n"
     ]
    },
    {
     "name": "stderr",
     "output_type": "stream",
     "text": [
      " 26%|████████████████████████████████████████████▉                                                                                                                                | 114.40594059407952/440 [47:27<2:30:03, 27.65s/it]"
     ]
    },
    {
     "name": "stdout",
     "output_type": "stream",
     "text": [
      "Train Epoch: 175 [1280/2508 (51%)]\tLoss: 0.263821\n",
      "Mem before-during-after: 22811136 1942032384 22811136\n"
     ]
    },
    {
     "name": "stderr",
     "output_type": "stream",
     "text": [
      " 26%|█████████████████████████████████████████████▏                                                                                                                               | 115.00000000002028/440 [47:41<1:47:14, 19.80s/it]"
     ]
    },
    {
     "name": "stdout",
     "output_type": "stream",
     "text": [
      "\n",
      "Test Epoch: 175\tAccuracy: 513/736 (68%)\n",
      "\n"
     ]
    },
    {
     "name": "stderr",
     "output_type": "stream",
     "text": [
      " 26%|█████████████████████████████████████████████▍                                                                                                                                | 115.0198019802183/440 [47:41<1:56:22, 21.48s/it]"
     ]
    },
    {
     "name": "stdout",
     "output_type": "stream",
     "text": [
      "Train Epoch: 176 [0/2508 (0%)]\tLoss: 0.865942\n",
      "Mem before-during-after: 22807040 1943193600 22811136\n"
     ]
    },
    {
     "name": "stderr",
     "output_type": "stream",
     "text": [
      " 26%|█████████████████████████████████████████████▋                                                                                                                                | 115.4059405940798/440 [47:51<2:31:26, 27.99s/it]"
     ]
    },
    {
     "name": "stdout",
     "output_type": "stream",
     "text": [
      "Train Epoch: 176 [1280/2508 (51%)]\tLoss: 0.336858\n",
      "Mem before-during-after: 22811136 1941254144 22811136\n"
     ]
    },
    {
     "name": "stderr",
     "output_type": "stream",
     "text": [
      " 26%|█████████████████████████████████████████████▌                                                                                                                               | 116.00000000002055/440 [48:06<1:45:37, 19.56s/it]"
     ]
    },
    {
     "name": "stdout",
     "output_type": "stream",
     "text": [
      "\n",
      "Test Epoch: 176\tAccuracy: 570/736 (75%)\n",
      "\n"
     ]
    },
    {
     "name": "stderr",
     "output_type": "stream",
     "text": [
      " 26%|█████████████████████████████████████████████▌                                                                                                                               | 116.00990099011956/440 [48:06<1:57:01, 21.67s/it]"
     ]
    },
    {
     "name": "stdout",
     "output_type": "stream",
     "text": [
      "Train Epoch: 177 [0/2508 (0%)]\tLoss: 0.176997\n",
      "Mem before-during-after: 22807040 1943193600 22811136\n"
     ]
    },
    {
     "name": "stderr",
     "output_type": "stream",
     "text": [
      " 26%|█████████████████████████████████████████████▊                                                                                                                               | 116.40594059408006/440 [48:16<2:31:11, 28.03s/it]"
     ]
    },
    {
     "name": "stdout",
     "output_type": "stream",
     "text": [
      "Train Epoch: 177 [1280/2508 (51%)]\tLoss: 0.278219\n",
      "Mem before-during-after: 22811136 1942032384 22811136\n"
     ]
    },
    {
     "name": "stderr",
     "output_type": "stream",
     "text": [
      " 27%|██████████████████████████████████████████████                                                                                                                               | 117.00000000002082/440 [48:31<1:47:47, 20.02s/it]"
     ]
    },
    {
     "name": "stdout",
     "output_type": "stream",
     "text": [
      "\n",
      "Test Epoch: 177\tAccuracy: 574/736 (76%)\n",
      "\n"
     ]
    },
    {
     "name": "stderr",
     "output_type": "stream",
     "text": [
      " 27%|██████████████████████████████████████████████                                                                                                                               | 117.00990099011983/440 [48:31<2:00:03, 22.30s/it]"
     ]
    },
    {
     "name": "stdout",
     "output_type": "stream",
     "text": [
      "Train Epoch: 178 [0/2508 (0%)]\tLoss: 0.105769\n",
      "Mem before-during-after: 22807040 1943193600 22811136\n"
     ]
    },
    {
     "name": "stderr",
     "output_type": "stream",
     "text": [
      " 27%|██████████████████████████████████████████████▏                                                                                                                              | 117.40594059408033/440 [48:41<2:28:44, 27.66s/it]"
     ]
    },
    {
     "name": "stdout",
     "output_type": "stream",
     "text": [
      "Train Epoch: 178 [1280/2508 (51%)]\tLoss: 0.133606\n",
      "Mem before-during-after: 22811136 1942032384 22811136\n"
     ]
    },
    {
     "name": "stderr",
     "output_type": "stream",
     "text": [
      " 27%|██████████████████████████████████████████████▍                                                                                                                              | 118.00000000002109/440 [48:56<1:49:02, 20.32s/it]"
     ]
    },
    {
     "name": "stdout",
     "output_type": "stream",
     "text": [
      "\n",
      "Test Epoch: 178\tAccuracy: 566/736 (75%)\n",
      "\n"
     ]
    },
    {
     "name": "stderr",
     "output_type": "stream",
     "text": [
      " 27%|██████████████████████████████████████████████▍                                                                                                                              | 118.01980198021911/440 [48:56<1:53:19, 21.12s/it]"
     ]
    },
    {
     "name": "stdout",
     "output_type": "stream",
     "text": [
      "Train Epoch: 179 [0/2508 (0%)]\tLoss: 0.175626\n",
      "Mem before-during-after: 22807040 1943193600 22811136\n"
     ]
    },
    {
     "name": "stderr",
     "output_type": "stream",
     "text": [
      " 27%|██████████████████████████████████████████████▊                                                                                                                               | 118.4059405940806/440 [49:06<2:29:33, 27.90s/it]"
     ]
    },
    {
     "name": "stdout",
     "output_type": "stream",
     "text": [
      "Train Epoch: 179 [1280/2508 (51%)]\tLoss: 0.241776\n",
      "Mem before-during-after: 22811136 1942032384 22811136\n"
     ]
    },
    {
     "name": "stderr",
     "output_type": "stream",
     "text": [
      " 27%|██████████████████████████████████████████████▊                                                                                                                              | 119.00000000002136/440 [49:20<1:45:27, 19.71s/it]"
     ]
    },
    {
     "name": "stdout",
     "output_type": "stream",
     "text": [
      "\n",
      "Test Epoch: 179\tAccuracy: 571/736 (75%)\n",
      "\n"
     ]
    },
    {
     "name": "stderr",
     "output_type": "stream",
     "text": [
      " 27%|██████████████████████████████████████████████▊                                                                                                                              | 119.00990099012037/440 [49:21<1:58:26, 22.14s/it]"
     ]
    },
    {
     "name": "stdout",
     "output_type": "stream",
     "text": [
      "Train Epoch: 180 [0/2508 (0%)]\tLoss: 0.054205\n",
      "Mem before-during-after: 22807040 1943193600 22811136\n"
     ]
    },
    {
     "name": "stderr",
     "output_type": "stream",
     "text": [
      " 27%|██████████████████████████████████████████████▉                                                                                                                              | 119.40594059408087/440 [49:31<2:33:01, 28.64s/it]"
     ]
    },
    {
     "name": "stdout",
     "output_type": "stream",
     "text": [
      "Train Epoch: 180 [1280/2508 (51%)]\tLoss: 0.035919\n",
      "Mem before-during-after: 22811136 1942032384 22811136\n"
     ]
    },
    {
     "name": "stderr",
     "output_type": "stream",
     "text": [
      " 27%|███████████████████████████████████████████████▏                                                                                                                             | 120.00000000002163/440 [49:45<1:48:07, 20.27s/it]"
     ]
    },
    {
     "name": "stdout",
     "output_type": "stream",
     "text": [
      "\n",
      "Test Epoch: 180\tAccuracy: 560/736 (74%)\n",
      "\n"
     ]
    },
    {
     "name": "stderr",
     "output_type": "stream",
     "text": [
      " 27%|███████████████████████████████████████████████▏                                                                                                                             | 120.00990099012064/440 [49:46<1:58:17, 22.18s/it]"
     ]
    },
    {
     "name": "stdout",
     "output_type": "stream",
     "text": [
      "Train Epoch: 181 [0/2508 (0%)]\tLoss: 0.086665\n",
      "Mem before-during-after: 22807040 1943193600 22811136\n"
     ]
    },
    {
     "name": "stderr",
     "output_type": "stream",
     "text": [
      " 27%|███████████████████████████████████████████████▎                                                                                                                             | 120.40594059408114/440 [49:56<2:32:47, 28.68s/it]"
     ]
    },
    {
     "name": "stdout",
     "output_type": "stream",
     "text": [
      "Train Epoch: 181 [1280/2508 (51%)]\tLoss: 0.037837\n",
      "Mem before-during-after: 22811136 1942032384 22811136\n"
     ]
    },
    {
     "name": "stderr",
     "output_type": "stream",
     "text": [
      " 28%|███████████████████████████████████████████████▊                                                                                                                              | 121.0000000000219/440 [50:10<1:46:27, 20.02s/it]"
     ]
    },
    {
     "name": "stdout",
     "output_type": "stream",
     "text": [
      "\n",
      "Test Epoch: 181\tAccuracy: 583/736 (77%)\n",
      "\n"
     ]
    },
    {
     "name": "stderr",
     "output_type": "stream",
     "text": [
      " 28%|███████████████████████████████████████████████▌                                                                                                                             | 121.01980198021992/440 [50:11<1:51:57, 21.06s/it]"
     ]
    },
    {
     "name": "stdout",
     "output_type": "stream",
     "text": [
      "Train Epoch: 182 [0/2508 (0%)]\tLoss: 0.095066\n",
      "Mem before-during-after: 22807040 1943193600 22811136\n"
     ]
    },
    {
     "name": "stderr",
     "output_type": "stream",
     "text": [
      " 28%|███████████████████████████████████████████████▋                                                                                                                             | 121.40594059408141/440 [50:21<2:26:51, 27.66s/it]"
     ]
    },
    {
     "name": "stdout",
     "output_type": "stream",
     "text": [
      "Train Epoch: 182 [1280/2508 (51%)]\tLoss: 0.290597\n",
      "Mem before-during-after: 22811136 1942032384 22811136\n"
     ]
    },
    {
     "name": "stderr",
     "output_type": "stream",
     "text": [
      " 28%|███████████████████████████████████████████████▉                                                                                                                             | 122.00000000002217/440 [50:35<1:48:40, 20.51s/it]"
     ]
    },
    {
     "name": "stdout",
     "output_type": "stream",
     "text": [
      "\n",
      "Test Epoch: 182\tAccuracy: 579/736 (76%)\n",
      "\n"
     ]
    },
    {
     "name": "stderr",
     "output_type": "stream",
     "text": [
      " 28%|████████████████████████████████████████████████▎                                                                                                                             | 122.0198019802202/440 [50:36<1:54:10, 21.54s/it]"
     ]
    },
    {
     "name": "stdout",
     "output_type": "stream",
     "text": [
      "Train Epoch: 183 [0/2508 (0%)]\tLoss: 0.067531\n",
      "Mem before-during-after: 22807040 1943193600 22811136\n"
     ]
    },
    {
     "name": "stderr",
     "output_type": "stream",
     "text": [
      " 28%|████████████████████████████████████████████████▏                                                                                                                            | 122.40594059408168/440 [50:46<2:29:47, 28.30s/it]"
     ]
    },
    {
     "name": "stdout",
     "output_type": "stream",
     "text": [
      "Train Epoch: 183 [1280/2508 (51%)]\tLoss: 0.106916\n",
      "Mem before-during-after: 22811136 1942032384 22811136\n"
     ]
    },
    {
     "name": "stderr",
     "output_type": "stream",
     "text": [
      " 28%|████████████████████████████████████████████████▎                                                                                                                            | 123.00000000002244/440 [51:00<1:44:43, 19.82s/it]"
     ]
    },
    {
     "name": "stdout",
     "output_type": "stream",
     "text": [
      "\n",
      "Test Epoch: 183\tAccuracy: 570/736 (75%)\n",
      "\n"
     ]
    },
    {
     "name": "stderr",
     "output_type": "stream",
     "text": [
      " 28%|████████████████████████████████████████████████▎                                                                                                                            | 123.01980198022046/440 [51:01<1:52:37, 21.32s/it]"
     ]
    },
    {
     "name": "stdout",
     "output_type": "stream",
     "text": [
      "Train Epoch: 184 [0/2508 (0%)]\tLoss: 0.075569\n",
      "Mem before-during-after: 22807040 1943193600 22811136\n"
     ]
    },
    {
     "name": "stderr",
     "output_type": "stream",
     "text": [
      " 28%|████████████████████████████████████████████████▌                                                                                                                            | 123.40594059408195/440 [51:11<2:27:30, 27.95s/it]"
     ]
    },
    {
     "name": "stdout",
     "output_type": "stream",
     "text": [
      "Train Epoch: 184 [1280/2508 (51%)]\tLoss: 0.171380\n",
      "Mem before-during-after: 22811136 1942032384 22811136\n"
     ]
    },
    {
     "name": "stderr",
     "output_type": "stream",
     "text": [
      " 28%|████████████████████████████████████████████████▊                                                                                                                            | 124.00000000002271/440 [51:25<1:46:36, 20.24s/it]"
     ]
    },
    {
     "name": "stdout",
     "output_type": "stream",
     "text": [
      "\n",
      "Test Epoch: 184\tAccuracy: 546/736 (72%)\n",
      "\n"
     ]
    },
    {
     "name": "stderr",
     "output_type": "stream",
     "text": [
      " 28%|████████████████████████████████████████████████▊                                                                                                                            | 124.01980198022073/440 [51:26<1:52:31, 21.37s/it]"
     ]
    },
    {
     "name": "stdout",
     "output_type": "stream",
     "text": [
      "Train Epoch: 185 [0/2508 (0%)]\tLoss: 0.028562\n",
      "Mem before-during-after: 22807040 1943193600 22811136\n"
     ]
    },
    {
     "name": "stderr",
     "output_type": "stream",
     "text": [
      " 28%|████████████████████████████████████████████████▉                                                                                                                            | 124.40594059408222/440 [51:36<2:25:24, 27.65s/it]"
     ]
    },
    {
     "name": "stdout",
     "output_type": "stream",
     "text": [
      "Train Epoch: 185 [1280/2508 (51%)]\tLoss: 0.069089\n",
      "Mem before-during-after: 22811136 1942032384 22811136\n"
     ]
    },
    {
     "name": "stderr",
     "output_type": "stream",
     "text": [
      " 28%|█████████████████████████████████████████████████▏                                                                                                                           | 125.00000000002298/440 [51:50<1:47:24, 20.46s/it]"
     ]
    },
    {
     "name": "stdout",
     "output_type": "stream",
     "text": [
      "\n",
      "Test Epoch: 185\tAccuracy: 571/736 (75%)\n",
      "\n"
     ]
    },
    {
     "name": "stderr",
     "output_type": "stream",
     "text": [
      " 28%|█████████████████████████████████████████████████▋                                                                                                                             | 125.019801980221/440 [51:51<1:53:52, 21.69s/it]"
     ]
    },
    {
     "name": "stdout",
     "output_type": "stream",
     "text": [
      "Train Epoch: 186 [0/2508 (0%)]\tLoss: 0.054321\n",
      "Mem before-during-after: 22807040 1943193600 22811136\n"
     ]
    },
    {
     "name": "stderr",
     "output_type": "stream",
     "text": [
      " 29%|█████████████████████████████████████████████████▌                                                                                                                            | 125.4059405940825/440 [52:01<2:26:07, 27.87s/it]"
     ]
    },
    {
     "name": "stdout",
     "output_type": "stream",
     "text": [
      "Train Epoch: 186 [1280/2508 (51%)]\tLoss: 0.161601\n",
      "Mem before-during-after: 22811136 1942032384 22811136\n"
     ]
    },
    {
     "name": "stderr",
     "output_type": "stream",
     "text": [
      " 29%|█████████████████████████████████████████████████▌                                                                                                                           | 126.00000000002325/440 [52:15<1:42:50, 19.65s/it]"
     ]
    },
    {
     "name": "stdout",
     "output_type": "stream",
     "text": [
      "\n",
      "Test Epoch: 186\tAccuracy: 575/736 (76%)\n",
      "\n"
     ]
    },
    {
     "name": "stderr",
     "output_type": "stream",
     "text": [
      " 29%|█████████████████████████████████████████████████▌                                                                                                                           | 126.01980198022127/440 [52:16<1:51:49, 21.37s/it]"
     ]
    },
    {
     "name": "stdout",
     "output_type": "stream",
     "text": [
      "Train Epoch: 187 [0/2508 (0%)]\tLoss: 0.177128\n",
      "Mem before-during-after: 22807040 1943193600 22811136\n"
     ]
    },
    {
     "name": "stderr",
     "output_type": "stream",
     "text": [
      " 29%|█████████████████████████████████████████████████▋                                                                                                                           | 126.40594059408276/440 [52:26<2:26:15, 27.98s/it]"
     ]
    },
    {
     "name": "stdout",
     "output_type": "stream",
     "text": [
      "Train Epoch: 187 [1280/2508 (51%)]\tLoss: 0.129707\n",
      "Mem before-during-after: 22811136 1942032384 22811136\n"
     ]
    },
    {
     "name": "stderr",
     "output_type": "stream",
     "text": [
      " 29%|█████████████████████████████████████████████████▉                                                                                                                           | 127.00000000002352/440 [52:40<1:42:59, 19.74s/it]"
     ]
    },
    {
     "name": "stdout",
     "output_type": "stream",
     "text": [
      "\n",
      "Test Epoch: 187\tAccuracy: 567/736 (75%)\n",
      "\n"
     ]
    },
    {
     "name": "stderr",
     "output_type": "stream",
     "text": [
      " 29%|█████████████████████████████████████████████████▉                                                                                                                           | 127.01980198022154/440 [52:41<1:50:39, 21.21s/it]"
     ]
    },
    {
     "name": "stdout",
     "output_type": "stream",
     "text": [
      "Train Epoch: 188 [0/2508 (0%)]\tLoss: 0.191269\n",
      "Mem before-during-after: 22807040 1943193600 22811136\n"
     ]
    },
    {
     "name": "stderr",
     "output_type": "stream",
     "text": [
      " 29%|██████████████████████████████████████████████████                                                                                                                           | 127.40594059408303/440 [52:51<2:24:21, 27.71s/it]"
     ]
    },
    {
     "name": "stdout",
     "output_type": "stream",
     "text": [
      "Train Epoch: 188 [1280/2508 (51%)]\tLoss: 0.421296\n",
      "Mem before-during-after: 22811136 1942032384 22811136\n"
     ]
    },
    {
     "name": "stderr",
     "output_type": "stream",
     "text": [
      " 29%|██████████████████████████████████████████████████▌                                                                                                                           | 128.0000000000238/440 [53:05<1:48:09, 20.80s/it]"
     ]
    },
    {
     "name": "stdout",
     "output_type": "stream",
     "text": [
      "\n",
      "Test Epoch: 188\tAccuracy: 573/736 (75%)\n",
      "\n"
     ]
    },
    {
     "name": "stderr",
     "output_type": "stream",
     "text": [
      " 29%|██████████████████████████████████████████████████▎                                                                                                                          | 128.01980198022179/440 [53:05<1:52:07, 21.56s/it]"
     ]
    },
    {
     "name": "stdout",
     "output_type": "stream",
     "text": [
      "Train Epoch: 189 [0/2508 (0%)]\tLoss: 0.056721\n",
      "Mem before-during-after: 22807040 1943193600 22811136\n"
     ]
    },
    {
     "name": "stderr",
     "output_type": "stream",
     "text": [
      " 29%|██████████████████████████████████████████████████▍                                                                                                                          | 128.40594059408272/440 [53:16<2:24:34, 27.84s/it]"
     ]
    },
    {
     "name": "stdout",
     "output_type": "stream",
     "text": [
      "Train Epoch: 189 [1280/2508 (51%)]\tLoss: 0.279551\n",
      "Mem before-during-after: 22811136 1942032384 22811136\n"
     ]
    },
    {
     "name": "stderr",
     "output_type": "stream",
     "text": [
      " 29%|██████████████████████████████████████████████████▋                                                                                                                          | 129.00000000002262/440 [53:30<1:44:21, 20.13s/it]"
     ]
    },
    {
     "name": "stdout",
     "output_type": "stream",
     "text": [
      "\n",
      "Test Epoch: 189\tAccuracy: 550/736 (72%)\n",
      "\n"
     ]
    },
    {
     "name": "stderr",
     "output_type": "stream",
     "text": [
      " 29%|██████████████████████████████████████████████████▋                                                                                                                          | 129.01980198022062/440 [53:30<1:52:30, 21.71s/it]"
     ]
    },
    {
     "name": "stdout",
     "output_type": "stream",
     "text": [
      "Train Epoch: 190 [0/2508 (0%)]\tLoss: 0.211537\n",
      "Mem before-during-after: 22807040 1943193600 22811136\n"
     ]
    },
    {
     "name": "stderr",
     "output_type": "stream",
     "text": [
      " 29%|██████████████████████████████████████████████████▉                                                                                                                          | 129.40594059408156/440 [53:40<2:24:49, 27.98s/it]"
     ]
    },
    {
     "name": "stdout",
     "output_type": "stream",
     "text": [
      "Train Epoch: 190 [1280/2508 (51%)]\tLoss: 0.257218\n",
      "Mem before-during-after: 22811136 1942032384 22811136\n"
     ]
    },
    {
     "name": "stderr",
     "output_type": "stream",
     "text": [
      " 30%|███████████████████████████████████████████████████                                                                                                                          | 130.00000000002146/440 [53:55<1:48:12, 20.94s/it]"
     ]
    },
    {
     "name": "stdout",
     "output_type": "stream",
     "text": [
      "\n",
      "Test Epoch: 190\tAccuracy: 571/736 (75%)\n",
      "\n"
     ]
    },
    {
     "name": "stderr",
     "output_type": "stream",
     "text": [
      " 30%|███████████████████████████████████████████████████                                                                                                                          | 130.01980198021946/440 [53:55<1:53:18, 21.93s/it]"
     ]
    },
    {
     "name": "stdout",
     "output_type": "stream",
     "text": [
      "Train Epoch: 191 [0/2508 (0%)]\tLoss: 0.185409\n",
      "Mem before-during-after: 22807040 1943193600 22811136\n"
     ]
    },
    {
     "name": "stderr",
     "output_type": "stream",
     "text": [
      " 30%|███████████████████████████████████████████████████▌                                                                                                                          | 130.4059405940804/440 [54:05<2:22:41, 27.65s/it]"
     ]
    },
    {
     "name": "stdout",
     "output_type": "stream",
     "text": [
      "Train Epoch: 191 [1280/2508 (51%)]\tLoss: 1.012568\n",
      "Mem before-during-after: 22811136 1941942272 22811136\n"
     ]
    },
    {
     "name": "stderr",
     "output_type": "stream",
     "text": [
      " 30%|███████████████████████████████████████████████████▊                                                                                                                          | 131.0000000000203/440 [54:20<1:42:03, 19.82s/it]"
     ]
    },
    {
     "name": "stdout",
     "output_type": "stream",
     "text": [
      "\n",
      "Test Epoch: 191\tAccuracy: 546/736 (72%)\n",
      "\n"
     ]
    },
    {
     "name": "stderr",
     "output_type": "stream",
     "text": [
      " 30%|███████████████████████████████████████████████████▊                                                                                                                          | 131.0198019802183/440 [54:20<1:47:44, 20.92s/it]"
     ]
    },
    {
     "name": "stdout",
     "output_type": "stream",
     "text": [
      "Train Epoch: 192 [0/2508 (0%)]\tLoss: 0.070139\n",
      "Mem before-during-after: 22807040 1943193600 22811136\n"
     ]
    },
    {
     "name": "stderr",
     "output_type": "stream",
     "text": [
      " 30%|███████████████████████████████████████████████████▋                                                                                                                         | 131.40594059407923/440 [54:30<2:23:52, 27.97s/it]"
     ]
    },
    {
     "name": "stdout",
     "output_type": "stream",
     "text": [
      "Train Epoch: 192 [1280/2508 (51%)]\tLoss: 0.508492\n",
      "Mem before-during-after: 22811136 1942032384 22811136\n"
     ]
    },
    {
     "name": "stderr",
     "output_type": "stream",
     "text": [
      " 30%|███████████████████████████████████████████████████▉                                                                                                                         | 132.00000000001913/440 [54:44<1:44:38, 20.38s/it]"
     ]
    },
    {
     "name": "stdout",
     "output_type": "stream",
     "text": [
      "\n",
      "Test Epoch: 192\tAccuracy: 571/736 (75%)\n",
      "\n"
     ]
    },
    {
     "name": "stderr",
     "output_type": "stream",
     "text": [
      " 30%|███████████████████████████████████████████████████▉                                                                                                                         | 132.01980198021712/440 [54:45<1:50:15, 21.48s/it]"
     ]
    },
    {
     "name": "stdout",
     "output_type": "stream",
     "text": [
      "Train Epoch: 193 [0/2508 (0%)]\tLoss: 0.162995\n",
      "Mem before-during-after: 22807040 1943193600 22811136\n"
     ]
    },
    {
     "name": "stderr",
     "output_type": "stream",
     "text": [
      " 30%|████████████████████████████████████████████████████                                                                                                                         | 132.40594059407806/440 [54:55<2:23:23, 27.97s/it]"
     ]
    },
    {
     "name": "stdout",
     "output_type": "stream",
     "text": [
      "Train Epoch: 193 [1280/2508 (51%)]\tLoss: 0.416158\n",
      "Mem before-during-after: 22811136 1942032384 22811136\n"
     ]
    },
    {
     "name": "stderr",
     "output_type": "stream",
     "text": [
      " 30%|████████████████████████████████████████████████████▎                                                                                                                        | 133.00000000001796/440 [55:09<1:45:38, 20.65s/it]"
     ]
    },
    {
     "name": "stdout",
     "output_type": "stream",
     "text": [
      "\n",
      "Test Epoch: 193\tAccuracy: 571/736 (75%)\n",
      "\n"
     ]
    },
    {
     "name": "stderr",
     "output_type": "stream",
     "text": [
      " 30%|████████████████████████████████████████████████████▎                                                                                                                        | 133.01980198021596/440 [55:10<1:49:11, 21.34s/it]"
     ]
    },
    {
     "name": "stdout",
     "output_type": "stream",
     "text": [
      "Train Epoch: 194 [0/2508 (0%)]\tLoss: 0.138958\n",
      "Mem before-during-after: 22807040 1943193600 22811136\n"
     ]
    },
    {
     "name": "stderr",
     "output_type": "stream",
     "text": [
      " 30%|████████████████████████████████████████████████████▊                                                                                                                         | 133.4059405940769/440 [55:20<2:21:02, 27.60s/it]"
     ]
    },
    {
     "name": "stdout",
     "output_type": "stream",
     "text": [
      "Train Epoch: 194 [1280/2508 (51%)]\tLoss: 0.301674\n",
      "Mem before-during-after: 22811136 1942032384 22811136\n"
     ]
    },
    {
     "name": "stderr",
     "output_type": "stream",
     "text": [
      " 30%|████████████████████████████████████████████████████▉                                                                                                                         | 134.0000000000168/440 [55:34<1:40:52, 19.78s/it]"
     ]
    },
    {
     "name": "stdout",
     "output_type": "stream",
     "text": [
      "\n",
      "Test Epoch: 194\tAccuracy: 556/736 (73%)\n",
      "\n"
     ]
    },
    {
     "name": "stderr",
     "output_type": "stream",
     "text": [
      " 30%|████████████████████████████████████████████████████▉                                                                                                                         | 134.0198019802148/440 [55:35<1:47:09, 21.01s/it]"
     ]
    },
    {
     "name": "stdout",
     "output_type": "stream",
     "text": [
      "Train Epoch: 195 [0/2508 (0%)]\tLoss: 0.052881\n",
      "Mem before-during-after: 22807040 1943193600 22811136\n"
     ]
    },
    {
     "name": "stderr",
     "output_type": "stream",
     "text": [
      " 31%|████████████████████████████████████████████████████▊                                                                                                                        | 134.40594059407573/440 [55:45<2:20:21, 27.56s/it]"
     ]
    },
    {
     "name": "stdout",
     "output_type": "stream",
     "text": [
      "Train Epoch: 195 [1280/2508 (51%)]\tLoss: 0.392341\n",
      "Mem before-during-after: 22811136 1942032384 22811136\n"
     ]
    },
    {
     "name": "stderr",
     "output_type": "stream",
     "text": [
      " 31%|█████████████████████████████████████████████████████                                                                                                                        | 135.00000000001563/440 [55:59<1:41:53, 20.04s/it]"
     ]
    },
    {
     "name": "stdout",
     "output_type": "stream",
     "text": [
      "\n",
      "Test Epoch: 195\tAccuracy: 583/736 (77%)\n",
      "\n"
     ]
    },
    {
     "name": "stderr",
     "output_type": "stream",
     "text": [
      " 31%|█████████████████████████████████████████████████████                                                                                                                        | 135.01980198021363/440 [55:59<1:46:51, 21.02s/it]"
     ]
    },
    {
     "name": "stdout",
     "output_type": "stream",
     "text": [
      "Train Epoch: 196 [0/2508 (0%)]\tLoss: 0.201287\n",
      "Mem before-during-after: 22807040 1943193600 22811136\n"
     ]
    },
    {
     "name": "stderr",
     "output_type": "stream",
     "text": [
      " 31%|█████████████████████████████████████████████████████▏                                                                                                                       | 135.40594059407456/440 [56:09<2:20:21, 27.65s/it]"
     ]
    },
    {
     "name": "stdout",
     "output_type": "stream",
     "text": [
      "Train Epoch: 196 [1280/2508 (51%)]\tLoss: 0.223049\n",
      "Mem before-during-after: 22811136 1941516288 22811136\n"
     ]
    },
    {
     "name": "stderr",
     "output_type": "stream",
     "text": [
      " 31%|█████████████████████████████████████████████████████▍                                                                                                                       | 136.00000000001447/440 [56:24<1:41:12, 19.98s/it]"
     ]
    },
    {
     "name": "stdout",
     "output_type": "stream",
     "text": [
      "\n",
      "Test Epoch: 196\tAccuracy: 565/736 (74%)\n",
      "\n"
     ]
    },
    {
     "name": "stderr",
     "output_type": "stream",
     "text": [
      " 31%|█████████████████████████████████████████████████████▍                                                                                                                       | 136.00990099011347/440 [56:24<1:52:18, 22.17s/it]"
     ]
    },
    {
     "name": "stdout",
     "output_type": "stream",
     "text": [
      "Train Epoch: 197 [0/2508 (0%)]\tLoss: 0.030384\n",
      "Mem before-during-after: 22807040 1943193600 22811136\n"
     ]
    },
    {
     "name": "stderr",
     "output_type": "stream",
     "text": [
      " 31%|█████████████████████████████████████████████████████▉                                                                                                                        | 136.4059405940734/440 [56:34<2:22:05, 28.08s/it]"
     ]
    },
    {
     "name": "stdout",
     "output_type": "stream",
     "text": [
      "Train Epoch: 197 [1280/2508 (51%)]\tLoss: 0.192601\n",
      "Mem before-during-after: 22811136 1942032384 22811136\n"
     ]
    },
    {
     "name": "stderr",
     "output_type": "stream",
     "text": [
      " 31%|██████████████████████████████████████████████████████▏                                                                                                                       | 137.0000000000133/440 [56:48<1:44:54, 20.77s/it]"
     ]
    },
    {
     "name": "stdout",
     "output_type": "stream",
     "text": [
      "\n",
      "Test Epoch: 197\tAccuracy: 563/736 (74%)\n",
      "\n"
     ]
    },
    {
     "name": "stderr",
     "output_type": "stream",
     "text": [
      " 31%|██████████████████████████████████████████████████████▏                                                                                                                       | 137.0198019802113/440 [56:49<1:48:23, 21.47s/it]"
     ]
    },
    {
     "name": "stdout",
     "output_type": "stream",
     "text": [
      "Train Epoch: 198 [0/2508 (0%)]\tLoss: 0.340507\n",
      "Mem before-during-after: 22807040 1943193600 22811136\n"
     ]
    },
    {
     "name": "stderr",
     "output_type": "stream",
     "text": [
      " 31%|██████████████████████████████████████████████████████                                                                                                                       | 137.40594059407223/440 [56:59<2:22:41, 28.29s/it]"
     ]
    },
    {
     "name": "stdout",
     "output_type": "stream",
     "text": [
      "Train Epoch: 198 [1280/2508 (51%)]\tLoss: 0.058583\n",
      "Mem before-during-after: 22811136 1942032384 22811136\n"
     ]
    },
    {
     "name": "stderr",
     "output_type": "stream",
     "text": [
      " 31%|██████████████████████████████████████████████████████▎                                                                                                                      | 138.00000000001214/440 [57:13<1:38:33, 19.58s/it]"
     ]
    },
    {
     "name": "stdout",
     "output_type": "stream",
     "text": [
      "\n",
      "Test Epoch: 198\tAccuracy: 562/736 (74%)\n",
      "\n"
     ]
    },
    {
     "name": "stderr",
     "output_type": "stream",
     "text": [
      " 31%|██████████████████████████████████████████████████████▎                                                                                                                      | 138.01980198021013/440 [57:14<1:45:05, 20.88s/it]"
     ]
    },
    {
     "name": "stdout",
     "output_type": "stream",
     "text": [
      "Train Epoch: 199 [0/2508 (0%)]\tLoss: 0.267435\n",
      "Mem before-during-after: 22807040 1943193600 22811136\n"
     ]
    },
    {
     "name": "stderr",
     "output_type": "stream",
     "text": [
      " 31%|██████████████████████████████████████████████████████▍                                                                                                                      | 138.40594059407107/440 [57:24<2:19:01, 27.66s/it]"
     ]
    },
    {
     "name": "stdout",
     "output_type": "stream",
     "text": [
      "Train Epoch: 199 [1280/2508 (51%)]\tLoss: 0.875652\n",
      "Mem before-during-after: 22811136 1941942272 22811136\n"
     ]
    },
    {
     "name": "stderr",
     "output_type": "stream",
     "text": [
      " 32%|██████████████████████████████████████████████████████▋                                                                                                                      | 139.00000000001097/440 [57:38<1:40:40, 20.07s/it]"
     ]
    },
    {
     "name": "stdout",
     "output_type": "stream",
     "text": [
      "\n",
      "Test Epoch: 199\tAccuracy: 561/736 (74%)\n",
      "\n"
     ]
    },
    {
     "name": "stderr",
     "output_type": "stream",
     "text": [
      " 32%|██████████████████████████████████████████████████████▋                                                                                                                      | 139.01980198020897/440 [57:39<1:47:18, 21.39s/it]"
     ]
    },
    {
     "name": "stdout",
     "output_type": "stream",
     "text": [
      "Train Epoch: 200 [0/2508 (0%)]\tLoss: 0.218760\n",
      "Mem before-during-after: 22807040 1943193600 22811136\n"
     ]
    },
    {
     "name": "stderr",
     "output_type": "stream",
     "text": [
      " 32%|███████████████████████████████████████████████████████▏                                                                                                                      | 139.4059405940699/440 [57:49<2:18:24, 27.63s/it]"
     ]
    },
    {
     "name": "stdout",
     "output_type": "stream",
     "text": [
      "Train Epoch: 200 [1280/2508 (51%)]\tLoss: 0.033454\n",
      "Mem before-during-after: 22811136 1942032384 22811136\n"
     ]
    },
    {
     "name": "stderr",
     "output_type": "stream",
     "text": [
      " 32%|███████████████████████████████████████████████████████▎                                                                                                                      | 140.0000000000098/440 [58:03<1:40:30, 20.10s/it]"
     ]
    },
    {
     "name": "stdout",
     "output_type": "stream",
     "text": [
      "\n",
      "Test Epoch: 200\tAccuracy: 581/736 (77%)\n",
      "\n"
     ]
    },
    {
     "name": "stderr",
     "output_type": "stream",
     "text": [
      " 32%|███████████████████████████████████████████████████████▎                                                                                                                      | 140.0198019802078/440 [58:04<1:46:11, 21.24s/it]"
     ]
    },
    {
     "name": "stdout",
     "output_type": "stream",
     "text": [
      "Train Epoch: 201 [0/2508 (0%)]\tLoss: 0.026746\n",
      "Mem before-during-after: 22807040 1943193600 22811136\n"
     ]
    },
    {
     "name": "stderr",
     "output_type": "stream",
     "text": [
      " 32%|███████████████████████████████████████████████████████▏                                                                                                                     | 140.40594059406874/440 [58:14<2:20:22, 28.11s/it]"
     ]
    },
    {
     "name": "stdout",
     "output_type": "stream",
     "text": [
      "Train Epoch: 201 [1280/2508 (51%)]\tLoss: 1.094581\n",
      "Mem before-during-after: 22811136 1941942272 22811136\n"
     ]
    },
    {
     "name": "stderr",
     "output_type": "stream",
     "text": [
      " 32%|███████████████████████████████████████████████████████▍                                                                                                                     | 141.00000000000864/440 [58:28<1:45:14, 21.12s/it]"
     ]
    },
    {
     "name": "stdout",
     "output_type": "stream",
     "text": [
      "\n",
      "Test Epoch: 201\tAccuracy: 561/736 (74%)\n",
      "\n"
     ]
    },
    {
     "name": "stderr",
     "output_type": "stream",
     "text": [
      " 32%|███████████████████████████████████████████████████████▍                                                                                                                     | 141.01980198020664/440 [58:29<1:48:55, 21.86s/it]"
     ]
    },
    {
     "name": "stdout",
     "output_type": "stream",
     "text": [
      "Train Epoch: 202 [0/2508 (0%)]\tLoss: 0.042705\n",
      "Mem before-during-after: 22807040 1943193600 22811136\n"
     ]
    },
    {
     "name": "stderr",
     "output_type": "stream",
     "text": [
      " 32%|███████████████████████████████████████████████████████▌                                                                                                                     | 141.40594059406757/440 [58:39<2:18:02, 27.74s/it]"
     ]
    },
    {
     "name": "stdout",
     "output_type": "stream",
     "text": [
      "Train Epoch: 202 [1280/2508 (51%)]\tLoss: 0.075544\n",
      "Mem before-during-after: 22811136 1942032384 22811136\n"
     ]
    },
    {
     "name": "stderr",
     "output_type": "stream",
     "text": [
      " 32%|███████████████████████████████████████████████████████▊                                                                                                                     | 142.00000000000747/440 [58:53<1:39:36, 20.05s/it]"
     ]
    },
    {
     "name": "stdout",
     "output_type": "stream",
     "text": [
      "\n",
      "Test Epoch: 202\tAccuracy: 584/736 (77%)\n",
      "\n"
     ]
    },
    {
     "name": "stderr",
     "output_type": "stream",
     "text": [
      " 32%|███████████████████████████████████████████████████████▊                                                                                                                     | 142.00990099010647/440 [58:53<1:49:12, 21.99s/it]"
     ]
    },
    {
     "name": "stdout",
     "output_type": "stream",
     "text": [
      "Train Epoch: 203 [0/2508 (0%)]\tLoss: 0.255074\n",
      "Mem before-during-after: 22807040 1943193600 22811136\n"
     ]
    },
    {
     "name": "stderr",
     "output_type": "stream",
     "text": [
      " 32%|████████████████████████████████████████████████████████▎                                                                                                                     | 142.4059405940664/440 [59:04<2:19:41, 28.16s/it]"
     ]
    },
    {
     "name": "stdout",
     "output_type": "stream",
     "text": [
      "Train Epoch: 203 [1280/2508 (51%)]\tLoss: 0.135068\n",
      "Mem before-during-after: 22811136 1942032384 22811136\n"
     ]
    },
    {
     "name": "stderr",
     "output_type": "stream",
     "text": [
      " 33%|████████████████████████████████████████████████████████▌                                                                                                                     | 143.0000000000063/440 [59:18<1:40:10, 20.24s/it]"
     ]
    },
    {
     "name": "stdout",
     "output_type": "stream",
     "text": [
      "\n",
      "Test Epoch: 203\tAccuracy: 563/736 (74%)\n",
      "\n"
     ]
    },
    {
     "name": "stderr",
     "output_type": "stream",
     "text": [
      " 33%|████████████████████████████████████████████████████████▌                                                                                                                     | 143.0099009901053/440 [59:18<1:49:21, 22.09s/it]"
     ]
    },
    {
     "name": "stdout",
     "output_type": "stream",
     "text": [
      "Train Epoch: 204 [0/2508 (0%)]\tLoss: 0.150193\n",
      "Mem before-during-after: 22807040 1943193600 22811136\n"
     ]
    },
    {
     "name": "stderr",
     "output_type": "stream",
     "text": [
      " 33%|████████████████████████████████████████████████████████▍                                                                                                                    | 143.40594059406524/440 [59:29<2:16:17, 27.57s/it]"
     ]
    },
    {
     "name": "stdout",
     "output_type": "stream",
     "text": [
      "Train Epoch: 204 [1280/2508 (51%)]\tLoss: 0.031900\n",
      "Mem before-during-after: 22811136 1941254144 22811136\n"
     ]
    },
    {
     "name": "stderr",
     "output_type": "stream",
     "text": [
      " 33%|████████████████████████████████████████████████████████▌                                                                                                                    | 144.00000000000514/440 [59:43<1:39:45, 20.22s/it]"
     ]
    },
    {
     "name": "stdout",
     "output_type": "stream",
     "text": [
      "\n",
      "Test Epoch: 204\tAccuracy: 573/736 (75%)\n",
      "\n"
     ]
    },
    {
     "name": "stderr",
     "output_type": "stream",
     "text": [
      " 33%|████████████████████████████████████████████████████████▋                                                                                                                    | 144.01980198020314/440 [59:43<1:45:49, 21.45s/it]"
     ]
    },
    {
     "name": "stdout",
     "output_type": "stream",
     "text": [
      "Train Epoch: 205 [0/2508 (0%)]\tLoss: 0.862646\n",
      "Mem before-during-after: 22807040 1938005504 22811136\n"
     ]
    },
    {
     "name": "stderr",
     "output_type": "stream",
     "text": [
      " 33%|████████████████████████████████████████████████████████▊                                                                                                                    | 144.40594059406408/440 [59:53<2:16:06, 27.63s/it]"
     ]
    },
    {
     "name": "stdout",
     "output_type": "stream",
     "text": [
      "Train Epoch: 205 [1280/2508 (51%)]\tLoss: 0.018195\n",
      "Mem before-during-after: 22811136 1941516288 22811136\n"
     ]
    },
    {
     "name": "stderr",
     "output_type": "stream",
     "text": [
      " 33%|████████████████████████████████████████████████████████▎                                                                                                                  | 145.00000000000398/440 [1:00:08<1:39:29, 20.24s/it]"
     ]
    },
    {
     "name": "stdout",
     "output_type": "stream",
     "text": [
      "\n",
      "Test Epoch: 205\tAccuracy: 557/736 (73%)\n",
      "\n"
     ]
    },
    {
     "name": "stderr",
     "output_type": "stream",
     "text": [
      " 33%|████████████████████████████████████████████████████████▎                                                                                                                  | 145.01980198020198/440 [1:00:08<1:44:21, 21.23s/it]"
     ]
    },
    {
     "name": "stdout",
     "output_type": "stream",
     "text": [
      "Train Epoch: 206 [0/2508 (0%)]\tLoss: 0.093215\n",
      "Mem before-during-after: 22807040 1943193600 22811136\n"
     ]
    },
    {
     "name": "stderr",
     "output_type": "stream",
     "text": [
      " 33%|████████████████████████████████████████████████████████▊                                                                                                                   | 145.4059405940629/440 [1:00:18<2:17:26, 27.99s/it]"
     ]
    },
    {
     "name": "stdout",
     "output_type": "stream",
     "text": [
      "Train Epoch: 206 [1280/2508 (51%)]\tLoss: 0.187424\n",
      "Mem before-during-after: 22811136 1942032384 22811136\n"
     ]
    },
    {
     "name": "stderr",
     "output_type": "stream",
     "text": [
      " 33%|█████████████████████████████████████████████████████████                                                                                                                   | 146.0000000000028/440 [1:00:33<1:37:05, 19.81s/it]"
     ]
    },
    {
     "name": "stdout",
     "output_type": "stream",
     "text": [
      "\n",
      "Test Epoch: 206\tAccuracy: 570/736 (75%)\n",
      "\n"
     ]
    },
    {
     "name": "stderr",
     "output_type": "stream",
     "text": [
      " 33%|█████████████████████████████████████████████████████████                                                                                                                   | 146.0099009901018/440 [1:00:33<1:48:16, 22.10s/it]"
     ]
    },
    {
     "name": "stdout",
     "output_type": "stream",
     "text": [
      "Train Epoch: 207 [0/2508 (0%)]\tLoss: 0.128521\n",
      "Mem before-during-after: 22807040 1943193600 22811136\n"
     ]
    },
    {
     "name": "stderr",
     "output_type": "stream",
     "text": [
      " 33%|████████████████████████████████████████████████████████▉                                                                                                                  | 146.40594059406175/440 [1:00:43<2:15:05, 27.61s/it]"
     ]
    },
    {
     "name": "stdout",
     "output_type": "stream",
     "text": [
      "Train Epoch: 207 [1280/2508 (51%)]\tLoss: 0.187059\n",
      "Mem before-during-after: 22811136 1942032384 22811136\n"
     ]
    },
    {
     "name": "stderr",
     "output_type": "stream",
     "text": [
      " 33%|█████████████████████████████████████████████████████████▏                                                                                                                 | 147.00000000000165/440 [1:00:57<1:35:10, 19.49s/it]"
     ]
    },
    {
     "name": "stdout",
     "output_type": "stream",
     "text": [
      "\n",
      "Test Epoch: 207\tAccuracy: 578/736 (76%)\n",
      "\n"
     ]
    },
    {
     "name": "stderr",
     "output_type": "stream",
     "text": [
      " 33%|█████████████████████████████████████████████████████████▏                                                                                                                 | 147.00990099010065/440 [1:00:58<1:43:32, 21.21s/it]"
     ]
    },
    {
     "name": "stdout",
     "output_type": "stream",
     "text": [
      "Train Epoch: 208 [0/2508 (0%)]\tLoss: 0.028466\n",
      "Mem before-during-after: 22807040 1943193600 22811136\n"
     ]
    },
    {
     "name": "stderr",
     "output_type": "stream",
     "text": [
      " 34%|█████████████████████████████████████████████████████████▎                                                                                                                 | 147.40594059406058/440 [1:01:08<2:16:06, 27.91s/it]"
     ]
    },
    {
     "name": "stdout",
     "output_type": "stream",
     "text": [
      "Train Epoch: 208 [1280/2508 (51%)]\tLoss: 1.131169\n",
      "Mem before-during-after: 22811136 1940102656 22811136\n"
     ]
    },
    {
     "name": "stderr",
     "output_type": "stream",
     "text": [
      " 34%|█████████████████████████████████████████████████████████▌                                                                                                                 | 148.00000000000048/440 [1:01:22<1:33:39, 19.24s/it]"
     ]
    },
    {
     "name": "stdout",
     "output_type": "stream",
     "text": [
      "\n",
      "Test Epoch: 208\tAccuracy: 550/736 (72%)\n",
      "\n"
     ]
    },
    {
     "name": "stderr",
     "output_type": "stream",
     "text": [
      " 34%|█████████████████████████████████████████████████████████▌                                                                                                                 | 148.00990099009948/440 [1:01:22<1:44:04, 21.39s/it]"
     ]
    },
    {
     "name": "stdout",
     "output_type": "stream",
     "text": [
      "Train Epoch: 209 [0/2508 (0%)]\tLoss: 0.042939\n",
      "Mem before-during-after: 22807040 1943193600 22811136\n"
     ]
    },
    {
     "name": "stderr",
     "output_type": "stream",
     "text": [
      " 34%|█████████████████████████████████████████████████████████▋                                                                                                                 | 148.40594059405942/440 [1:01:33<2:14:25, 27.66s/it]"
     ]
    },
    {
     "name": "stdout",
     "output_type": "stream",
     "text": [
      "Train Epoch: 209 [1280/2508 (51%)]\tLoss: 0.050005\n",
      "Mem before-during-after: 22811136 1942032384 22811136\n"
     ]
    },
    {
     "name": "stderr",
     "output_type": "stream",
     "text": [
      " 34%|█████████████████████████████████████████████████████████▉                                                                                                                 | 148.99999999999932/440 [1:01:47<1:36:18, 19.86s/it]"
     ]
    },
    {
     "name": "stdout",
     "output_type": "stream",
     "text": [
      "\n",
      "Test Epoch: 209\tAccuracy: 573/736 (75%)\n",
      "\n"
     ]
    },
    {
     "name": "stderr",
     "output_type": "stream",
     "text": [
      " 34%|█████████████████████████████████████████████████████████▉                                                                                                                 | 149.01980198019731/440 [1:01:47<1:43:12, 21.28s/it]"
     ]
    },
    {
     "name": "stdout",
     "output_type": "stream",
     "text": [
      "Train Epoch: 210 [0/2508 (0%)]\tLoss: 0.067571\n",
      "Mem before-during-after: 22807040 1943193600 22811136\n"
     ]
    },
    {
     "name": "stderr",
     "output_type": "stream",
     "text": [
      " 34%|██████████████████████████████████████████████████████████                                                                                                                 | 149.40594059405825/440 [1:01:58<2:16:17, 28.14s/it]"
     ]
    },
    {
     "name": "stdout",
     "output_type": "stream",
     "text": [
      "Train Epoch: 210 [1280/2508 (51%)]\tLoss: 0.545642\n",
      "Mem before-during-after: 22811136 1942032384 22811136\n"
     ]
    },
    {
     "name": "stderr",
     "output_type": "stream",
     "text": [
      " 34%|██████████████████████████████████████████████████████████▎                                                                                                                | 149.99999999999815/440 [1:02:12<1:36:36, 19.99s/it]"
     ]
    },
    {
     "name": "stdout",
     "output_type": "stream",
     "text": [
      "\n",
      "Test Epoch: 210\tAccuracy: 563/736 (74%)\n",
      "\n"
     ]
    },
    {
     "name": "stderr",
     "output_type": "stream",
     "text": [
      " 34%|██████████████████████████████████████████████████████████▎                                                                                                                | 150.01980198019615/440 [1:02:12<1:44:06, 21.54s/it]"
     ]
    },
    {
     "name": "stdout",
     "output_type": "stream",
     "text": [
      "Train Epoch: 211 [0/2508 (0%)]\tLoss: 0.666101\n",
      "Mem before-during-after: 22807040 1938005504 22811136\n"
     ]
    },
    {
     "name": "stderr",
     "output_type": "stream",
     "text": [
      " 34%|██████████████████████████████████████████████████████████▍                                                                                                                | 150.40594059405709/440 [1:02:22<2:14:19, 27.83s/it]"
     ]
    },
    {
     "name": "stdout",
     "output_type": "stream",
     "text": [
      "Train Epoch: 211 [1280/2508 (51%)]\tLoss: 0.016605\n",
      "Mem before-during-after: 22811136 1941516288 22811136\n"
     ]
    },
    {
     "name": "stderr",
     "output_type": "stream",
     "text": [
      " 34%|███████████████████████████████████████████████████████████▎                                                                                                                 | 150.999999999997/440 [1:02:37<1:37:35, 20.26s/it]"
     ]
    },
    {
     "name": "stdout",
     "output_type": "stream",
     "text": [
      "\n",
      "Test Epoch: 211\tAccuracy: 566/736 (75%)\n",
      "\n"
     ]
    },
    {
     "name": "stderr",
     "output_type": "stream",
     "text": [
      " 34%|██████████████████████████████████████████████████████████▋                                                                                                                | 151.01980198019498/440 [1:02:37<1:42:19, 21.24s/it]"
     ]
    },
    {
     "name": "stdout",
     "output_type": "stream",
     "text": [
      "Train Epoch: 212 [0/2508 (0%)]\tLoss: 0.064065\n",
      "Mem before-during-after: 22807040 1943193600 22811136\n"
     ]
    },
    {
     "name": "stderr",
     "output_type": "stream",
     "text": [
      " 34%|██████████████████████████████████████████████████████████▊                                                                                                                | 151.40594059405592/440 [1:02:47<2:13:16, 27.71s/it]"
     ]
    },
    {
     "name": "stdout",
     "output_type": "stream",
     "text": [
      "Train Epoch: 212 [1280/2508 (51%)]\tLoss: 0.042453\n",
      "Mem before-during-after: 22811136 1941254144 22811136\n"
     ]
    },
    {
     "name": "stderr",
     "output_type": "stream",
     "text": [
      " 35%|███████████████████████████████████████████████████████████                                                                                                                | 151.99999999999582/440 [1:03:01<1:34:52, 19.77s/it]"
     ]
    },
    {
     "name": "stdout",
     "output_type": "stream",
     "text": [
      "\n",
      "Test Epoch: 212\tAccuracy: 562/736 (74%)\n",
      "\n"
     ]
    },
    {
     "name": "stderr",
     "output_type": "stream",
     "text": [
      " 35%|███████████████████████████████████████████████████████████                                                                                                                | 152.00990099009482/440 [1:03:02<1:49:44, 22.86s/it]"
     ]
    },
    {
     "name": "stdout",
     "output_type": "stream",
     "text": [
      "Train Epoch: 213 [0/2508 (0%)]\tLoss: 0.083907\n",
      "Mem before-during-after: 22807040 1943193600 22811136\n"
     ]
    },
    {
     "name": "stderr",
     "output_type": "stream",
     "text": [
      " 35%|███████████████████████████████████████████████████████████▏                                                                                                               | 152.40594059405475/440 [1:03:12<2:14:48, 28.13s/it]"
     ]
    },
    {
     "name": "stdout",
     "output_type": "stream",
     "text": [
      "Train Epoch: 213 [1280/2508 (51%)]\tLoss: 0.109442\n",
      "Mem before-during-after: 22811136 1942032384 22811136\n"
     ]
    },
    {
     "name": "stderr",
     "output_type": "stream",
     "text": [
      " 35%|███████████████████████████████████████████████████████████▍                                                                                                               | 152.99999999999466/440 [1:03:26<1:40:08, 20.94s/it]"
     ]
    },
    {
     "name": "stdout",
     "output_type": "stream",
     "text": [
      "\n",
      "Test Epoch: 213\tAccuracy: 574/736 (76%)\n",
      "\n"
     ]
    },
    {
     "name": "stderr",
     "output_type": "stream",
     "text": [
      " 35%|███████████████████████████████████████████████████████████▍                                                                                                               | 153.01980198019265/440 [1:03:27<1:42:19, 21.39s/it]"
     ]
    },
    {
     "name": "stdout",
     "output_type": "stream",
     "text": [
      "Train Epoch: 214 [0/2508 (0%)]\tLoss: 0.074126\n",
      "Mem before-during-after: 22807040 1943193600 22811136\n"
     ]
    },
    {
     "name": "stderr",
     "output_type": "stream",
     "text": [
      " 35%|███████████████████████████████████████████████████████████▉                                                                                                                | 153.4059405940536/440 [1:03:37<2:13:28, 27.94s/it]"
     ]
    },
    {
     "name": "stdout",
     "output_type": "stream",
     "text": [
      "Train Epoch: 214 [1280/2508 (51%)]\tLoss: 0.017374\n",
      "Mem before-during-after: 22811136 1942032384 22811136\n"
     ]
    },
    {
     "name": "stderr",
     "output_type": "stream",
     "text": [
      " 35%|████████████████████████████████████████████████████████████▏                                                                                                               | 153.9999999999935/440 [1:03:51<1:37:34, 20.47s/it]"
     ]
    },
    {
     "name": "stdout",
     "output_type": "stream",
     "text": [
      "\n",
      "Test Epoch: 214\tAccuracy: 558/736 (74%)\n",
      "\n"
     ]
    },
    {
     "name": "stderr",
     "output_type": "stream",
     "text": [
      " 35%|████████████████████████████████████████████████████████████▏                                                                                                               | 154.0198019801915/440 [1:03:52<1:41:36, 21.32s/it]"
     ]
    },
    {
     "name": "stdout",
     "output_type": "stream",
     "text": [
      "Train Epoch: 215 [0/2508 (0%)]\tLoss: 0.016380\n",
      "Mem before-during-after: 22807040 1943193600 22811136\n"
     ]
    },
    {
     "name": "stderr",
     "output_type": "stream",
     "text": [
      " 35%|████████████████████████████████████████████████████████████                                                                                                               | 154.40594059405242/440 [1:04:02<2:12:17, 27.79s/it]"
     ]
    },
    {
     "name": "stdout",
     "output_type": "stream",
     "text": [
      "Train Epoch: 215 [1280/2508 (51%)]\tLoss: 0.054697\n",
      "Mem before-during-after: 22811136 1942032384 22811136\n"
     ]
    },
    {
     "name": "stderr",
     "output_type": "stream",
     "text": [
      " 35%|████████████████████████████████████████████████████████████▏                                                                                                              | 154.99999999999233/440 [1:04:16<1:35:24, 20.08s/it]"
     ]
    },
    {
     "name": "stdout",
     "output_type": "stream",
     "text": [
      "\n",
      "Test Epoch: 215\tAccuracy: 560/736 (74%)\n",
      "\n"
     ]
    },
    {
     "name": "stderr",
     "output_type": "stream",
     "text": [
      " 35%|████████████████████████████████████████████████████████████▏                                                                                                              | 155.00990099009132/440 [1:04:17<1:44:13, 21.94s/it]"
     ]
    },
    {
     "name": "stdout",
     "output_type": "stream",
     "text": [
      "Train Epoch: 216 [0/2508 (0%)]\tLoss: 0.071792\n",
      "Mem before-during-after: 22807040 1943193600 22811136\n"
     ]
    },
    {
     "name": "stderr",
     "output_type": "stream",
     "text": [
      " 35%|████████████████████████████████████████████████████████████▍                                                                                                              | 155.40594059405126/440 [1:04:27<2:11:11, 27.66s/it]"
     ]
    },
    {
     "name": "stdout",
     "output_type": "stream",
     "text": [
      "Train Epoch: 216 [1280/2508 (51%)]\tLoss: 0.085306\n",
      "Mem before-during-after: 22811136 1942032384 22811136\n"
     ]
    },
    {
     "name": "stderr",
     "output_type": "stream",
     "text": [
      " 35%|████████████████████████████████████████████████████████████▋                                                                                                              | 155.99999999999116/440 [1:04:41<1:38:27, 20.80s/it]"
     ]
    },
    {
     "name": "stdout",
     "output_type": "stream",
     "text": [
      "\n",
      "Test Epoch: 216\tAccuracy: 565/736 (74%)\n",
      "\n"
     ]
    },
    {
     "name": "stderr",
     "output_type": "stream",
     "text": [
      " 35%|████████████████████████████████████████████████████████████▋                                                                                                              | 156.01980198018916/440 [1:04:42<1:42:01, 21.56s/it]"
     ]
    },
    {
     "name": "stdout",
     "output_type": "stream",
     "text": [
      "Train Epoch: 217 [0/2508 (0%)]\tLoss: 0.082958\n",
      "Mem before-during-after: 22807040 1943193600 22811136\n"
     ]
    },
    {
     "name": "stderr",
     "output_type": "stream",
     "text": [
      " 36%|█████████████████████████████████████████████████████████████▏                                                                                                              | 156.4059405940501/440 [1:04:52<2:11:28, 27.82s/it]"
     ]
    },
    {
     "name": "stdout",
     "output_type": "stream",
     "text": [
      "Train Epoch: 217 [1280/2508 (51%)]\tLoss: 0.210789\n",
      "Mem before-during-after: 22811136 1942032384 22811136\n"
     ]
    },
    {
     "name": "stderr",
     "output_type": "stream",
     "text": [
      " 36%|██████████████████████████████████████████████████████████████                                                                                                                | 156.99999999999/440 [1:05:06<1:33:59, 19.93s/it]"
     ]
    },
    {
     "name": "stdout",
     "output_type": "stream",
     "text": [
      "\n",
      "Test Epoch: 217\tAccuracy: 571/736 (75%)\n",
      "\n"
     ]
    },
    {
     "name": "stderr",
     "output_type": "stream",
     "text": [
      " 36%|█████████████████████████████████████████████████████████████▋                                                                                                               | 157.019801980188/440 [1:05:07<1:39:08, 21.02s/it]"
     ]
    },
    {
     "name": "stdout",
     "output_type": "stream",
     "text": [
      "Train Epoch: 218 [0/2508 (0%)]\tLoss: 0.182918\n",
      "Mem before-during-after: 22807040 1943193600 22811136\n"
     ]
    },
    {
     "name": "stderr",
     "output_type": "stream",
     "text": [
      " 36%|█████████████████████████████████████████████████████████████▏                                                                                                             | 157.40594059404893/440 [1:05:17<2:12:46, 28.19s/it]"
     ]
    },
    {
     "name": "stdout",
     "output_type": "stream",
     "text": [
      "Train Epoch: 218 [1280/2508 (51%)]\tLoss: 0.080008\n",
      "Mem before-during-after: 22811136 1942032384 22811136\n"
     ]
    },
    {
     "name": "stderr",
     "output_type": "stream",
     "text": [
      " 36%|█████████████████████████████████████████████████████████████▍                                                                                                             | 157.99999999998883/440 [1:05:31<1:32:22, 19.66s/it]"
     ]
    },
    {
     "name": "stdout",
     "output_type": "stream",
     "text": [
      "\n",
      "Test Epoch: 218\tAccuracy: 558/736 (74%)\n",
      "\n"
     ]
    },
    {
     "name": "stderr",
     "output_type": "stream",
     "text": [
      " 36%|█████████████████████████████████████████████████████████████▍                                                                                                             | 158.01980198018683/440 [1:05:32<1:39:18, 21.13s/it]"
     ]
    },
    {
     "name": "stdout",
     "output_type": "stream",
     "text": [
      "Train Epoch: 219 [0/2508 (0%)]\tLoss: 0.063618\n",
      "Mem before-during-after: 22807040 1943193600 22811136\n"
     ]
    },
    {
     "name": "stderr",
     "output_type": "stream",
     "text": [
      " 36%|█████████████████████████████████████████████████████████████▌                                                                                                             | 158.40594059404776/440 [1:05:42<2:11:13, 27.96s/it]"
     ]
    },
    {
     "name": "stdout",
     "output_type": "stream",
     "text": [
      "Train Epoch: 219 [1280/2508 (51%)]\tLoss: 0.458544\n",
      "Mem before-during-after: 22811136 1942032384 22811136\n"
     ]
    },
    {
     "name": "stderr",
     "output_type": "stream",
     "text": [
      " 36%|█████████████████████████████████████████████████████████████▊                                                                                                             | 158.99999999998766/440 [1:05:56<1:34:26, 20.16s/it]"
     ]
    },
    {
     "name": "stdout",
     "output_type": "stream",
     "text": [
      "\n",
      "Test Epoch: 219\tAccuracy: 547/736 (72%)\n",
      "\n"
     ]
    },
    {
     "name": "stderr",
     "output_type": "stream",
     "text": [
      " 36%|█████████████████████████████████████████████████████████████▊                                                                                                             | 159.00990099008666/440 [1:05:56<1:46:24, 22.72s/it]"
     ]
    },
    {
     "name": "stdout",
     "output_type": "stream",
     "text": [
      "Train Epoch: 220 [0/2508 (0%)]\tLoss: 0.016079\n",
      "Mem before-during-after: 22807040 1943193600 22811136\n"
     ]
    },
    {
     "name": "stderr",
     "output_type": "stream",
     "text": [
      " 36%|██████████████████████████████████████████████████████████████▎                                                                                                             | 159.4059405940466/440 [1:06:07<2:10:52, 27.98s/it]"
     ]
    },
    {
     "name": "stdout",
     "output_type": "stream",
     "text": [
      "Train Epoch: 220 [1280/2508 (51%)]\tLoss: 0.014507\n",
      "Mem before-during-after: 22811136 1942032384 22811136\n"
     ]
    },
    {
     "name": "stderr",
     "output_type": "stream",
     "text": [
      " 36%|██████████████████████████████████████████████████████████████▌                                                                                                             | 159.9999999999865/440 [1:06:21<1:33:03, 19.94s/it]"
     ]
    },
    {
     "name": "stdout",
     "output_type": "stream",
     "text": [
      "\n",
      "Test Epoch: 220\tAccuracy: 561/736 (74%)\n",
      "\n"
     ]
    },
    {
     "name": "stderr",
     "output_type": "stream",
     "text": [
      " 36%|██████████████████████████████████████████████████████████████▌                                                                                                             | 160.0198019801845/440 [1:06:21<1:38:29, 21.11s/it]"
     ]
    },
    {
     "name": "stdout",
     "output_type": "stream",
     "text": [
      "Train Epoch: 221 [0/2508 (0%)]\tLoss: 0.154663\n",
      "Mem before-during-after: 22807040 1943193600 22811136\n"
     ]
    },
    {
     "name": "stderr",
     "output_type": "stream",
     "text": [
      " 36%|██████████████████████████████████████████████████████████████▎                                                                                                            | 160.40594059404543/440 [1:06:32<2:09:41, 27.83s/it]"
     ]
    },
    {
     "name": "stdout",
     "output_type": "stream",
     "text": [
      "Train Epoch: 221 [1280/2508 (51%)]\tLoss: 0.008004\n",
      "Mem before-during-after: 22811136 1942032384 22811136\n"
     ]
    },
    {
     "name": "stderr",
     "output_type": "stream",
     "text": [
      " 37%|██████████████████████████████████████████████████████████████▌                                                                                                            | 160.99999999998533/440 [1:06:46<1:32:38, 19.92s/it]"
     ]
    },
    {
     "name": "stdout",
     "output_type": "stream",
     "text": [
      "\n",
      "Test Epoch: 221\tAccuracy: 567/736 (75%)\n",
      "\n"
     ]
    },
    {
     "name": "stderr",
     "output_type": "stream",
     "text": [
      " 37%|██████████████████████████████████████████████████████████████▌                                                                                                            | 161.01980198018333/440 [1:06:46<1:40:41, 21.66s/it]"
     ]
    },
    {
     "name": "stdout",
     "output_type": "stream",
     "text": [
      "Train Epoch: 222 [0/2508 (0%)]\tLoss: 0.043402\n",
      "Mem before-during-after: 22807040 1943193600 22811136\n"
     ]
    },
    {
     "name": "stderr",
     "output_type": "stream",
     "text": [
      " 37%|██████████████████████████████████████████████████████████████▋                                                                                                            | 161.40594059404427/440 [1:06:57<2:13:01, 28.65s/it]"
     ]
    },
    {
     "name": "stdout",
     "output_type": "stream",
     "text": [
      "Train Epoch: 222 [1280/2508 (51%)]\tLoss: 0.000601\n",
      "Mem before-during-after: 22811136 1941254144 22811136\n"
     ]
    },
    {
     "name": "stderr",
     "output_type": "stream",
     "text": [
      " 37%|██████████████████████████████████████████████████████████████▉                                                                                                            | 161.99999999998417/440 [1:07:11<1:32:21, 19.94s/it]"
     ]
    },
    {
     "name": "stdout",
     "output_type": "stream",
     "text": [
      "\n",
      "Test Epoch: 222\tAccuracy: 580/736 (76%)\n",
      "\n"
     ]
    },
    {
     "name": "stderr",
     "output_type": "stream",
     "text": [
      " 37%|██████████████████████████████████████████████████████████████▉                                                                                                            | 162.00990099008317/440 [1:07:11<1:42:52, 22.21s/it]"
     ]
    },
    {
     "name": "stdout",
     "output_type": "stream",
     "text": [
      "Train Epoch: 223 [0/2508 (0%)]\tLoss: 0.166482\n",
      "Mem before-during-after: 22807040 1943193600 22811136\n"
     ]
    },
    {
     "name": "stderr",
     "output_type": "stream",
     "text": [
      " 37%|███████████████████████████████████████████████████████████████▍                                                                                                            | 162.4059405940431/440 [1:07:21<2:08:14, 27.72s/it]"
     ]
    },
    {
     "name": "stdout",
     "output_type": "stream",
     "text": [
      "Train Epoch: 223 [1280/2508 (51%)]\tLoss: 0.072127\n",
      "Mem before-during-after: 22811136 1942032384 22811136\n"
     ]
    },
    {
     "name": "stderr",
     "output_type": "stream",
     "text": [
      " 37%|████████████████████████████████████████████████████████████████                                                                                                             | 162.999999999983/440 [1:07:36<1:35:00, 20.58s/it]"
     ]
    },
    {
     "name": "stdout",
     "output_type": "stream",
     "text": [
      "\n",
      "Test Epoch: 223\tAccuracy: 531/736 (70%)\n",
      "\n"
     ]
    },
    {
     "name": "stderr",
     "output_type": "stream",
     "text": [
      " 37%|████████████████████████████████████████████████████████████████                                                                                                             | 163.019801980181/440 [1:07:36<1:37:29, 21.12s/it]"
     ]
    },
    {
     "name": "stdout",
     "output_type": "stream",
     "text": [
      "Train Epoch: 224 [0/2508 (0%)]\tLoss: 0.473291\n",
      "Mem before-during-after: 22807040 1943193600 22811136\n"
     ]
    },
    {
     "name": "stderr",
     "output_type": "stream",
     "text": [
      " 37%|███████████████████████████████████████████████████████████████▌                                                                                                           | 163.40594059404194/440 [1:07:46<2:08:47, 27.94s/it]"
     ]
    },
    {
     "name": "stdout",
     "output_type": "stream",
     "text": [
      "Train Epoch: 224 [1280/2508 (51%)]\tLoss: 0.008115\n",
      "Mem before-during-after: 22811136 1942032384 22811136\n"
     ]
    },
    {
     "name": "stderr",
     "output_type": "stream",
     "text": [
      " 37%|███████████████████████████████████████████████████████████████▋                                                                                                           | 163.99999999998184/440 [1:08:00<1:34:28, 20.54s/it]"
     ]
    },
    {
     "name": "stdout",
     "output_type": "stream",
     "text": [
      "\n",
      "Test Epoch: 224\tAccuracy: 562/736 (74%)\n",
      "\n"
     ]
    },
    {
     "name": "stderr",
     "output_type": "stream",
     "text": [
      " 37%|███████████████████████████████████████████████████████████████▋                                                                                                           | 164.01980198017984/440 [1:08:01<1:38:22, 21.39s/it]"
     ]
    },
    {
     "name": "stdout",
     "output_type": "stream",
     "text": [
      "Train Epoch: 225 [0/2508 (0%)]\tLoss: 0.017016\n",
      "Mem before-during-after: 22807040 1943193600 22811136\n"
     ]
    },
    {
     "name": "stderr",
     "output_type": "stream",
     "text": [
      " 37%|███████████████████████████████████████████████████████████████▉                                                                                                           | 164.40594059404077/440 [1:08:11<2:08:20, 27.94s/it]"
     ]
    },
    {
     "name": "stdout",
     "output_type": "stream",
     "text": [
      "Train Epoch: 225 [1280/2508 (51%)]\tLoss: 0.220424\n",
      "Mem before-during-after: 22811136 1942032384 22811136\n"
     ]
    },
    {
     "name": "stderr",
     "output_type": "stream",
     "text": [
      " 37%|████████████████████████████████████████████████████████████████                                                                                                           | 164.99999999998067/440 [1:08:25<1:46:31, 23.24s/it]"
     ]
    },
    {
     "name": "stdout",
     "output_type": "stream",
     "text": [
      "\n",
      "Test Epoch: 225\tAccuracy: 567/736 (75%)\n",
      "\n"
     ]
    },
    {
     "name": "stderr",
     "output_type": "stream",
     "text": [
      " 38%|████████████████████████████████████████████████████████████████▏                                                                                                          | 165.01980198017867/440 [1:08:26<1:44:30, 22.80s/it]"
     ]
    },
    {
     "name": "stdout",
     "output_type": "stream",
     "text": [
      "Train Epoch: 226 [0/2508 (0%)]\tLoss: 0.016560\n",
      "Mem before-during-after: 22807040 1943193600 22811136\n"
     ]
    },
    {
     "name": "stderr",
     "output_type": "stream",
     "text": [
      " 38%|████████████████████████████████████████████████████████████████▋                                                                                                           | 165.4059405940396/440 [1:08:36<2:13:01, 29.07s/it]"
     ]
    },
    {
     "name": "stdout",
     "output_type": "stream",
     "text": [
      "Train Epoch: 226 [1280/2508 (51%)]\tLoss: 0.275538\n",
      "Mem before-during-after: 22811136 1942032384 22811136\n"
     ]
    },
    {
     "name": "stderr",
     "output_type": "stream",
     "text": [
      " 38%|████████████████████████████████████████████████████████████████▉                                                                                                           | 165.9999999999795/440 [1:08:51<1:32:15, 20.20s/it]"
     ]
    },
    {
     "name": "stdout",
     "output_type": "stream",
     "text": [
      "\n",
      "Test Epoch: 226\tAccuracy: 582/736 (77%)\n",
      "\n"
     ]
    },
    {
     "name": "stderr",
     "output_type": "stream",
     "text": [
      " 38%|████████████████████████████████████████████████████████████████▉                                                                                                           | 166.0198019801775/440 [1:08:51<1:38:10, 21.50s/it]"
     ]
    },
    {
     "name": "stdout",
     "output_type": "stream",
     "text": [
      "Train Epoch: 227 [0/2508 (0%)]\tLoss: 0.032054\n",
      "Mem before-during-after: 22807040 1943193600 22811136\n"
     ]
    },
    {
     "name": "stderr",
     "output_type": "stream",
     "text": [
      " 38%|████████████████████████████████████████████████████████████████▋                                                                                                          | 166.40594059403844/440 [1:09:02<2:10:05, 28.53s/it]"
     ]
    },
    {
     "name": "stdout",
     "output_type": "stream",
     "text": [
      "Train Epoch: 227 [1280/2508 (51%)]\tLoss: 0.087902\n",
      "Mem before-during-after: 22811136 1942032384 22811136\n"
     ]
    },
    {
     "name": "stderr",
     "output_type": "stream",
     "text": [
      " 38%|████████████████████████████████████████████████████████████████▉                                                                                                          | 166.99999999997834/440 [1:09:16<1:32:34, 20.35s/it]"
     ]
    },
    {
     "name": "stdout",
     "output_type": "stream",
     "text": [
      "\n",
      "Test Epoch: 227\tAccuracy: 556/736 (73%)\n",
      "\n"
     ]
    },
    {
     "name": "stderr",
     "output_type": "stream",
     "text": [
      " 38%|████████████████████████████████████████████████████████████████▉                                                                                                          | 167.01980198017634/440 [1:09:16<1:35:58, 21.10s/it]"
     ]
    },
    {
     "name": "stdout",
     "output_type": "stream",
     "text": [
      "Train Epoch: 228 [0/2508 (0%)]\tLoss: 0.580852\n",
      "Mem before-during-after: 22807040 1943193600 22811136\n"
     ]
    },
    {
     "name": "stderr",
     "output_type": "stream",
     "text": [
      " 38%|█████████████████████████████████████████████████████████████████                                                                                                          | 167.40594059403728/440 [1:09:27<2:06:48, 27.91s/it]"
     ]
    },
    {
     "name": "stdout",
     "output_type": "stream",
     "text": [
      "Train Epoch: 228 [1280/2508 (51%)]\tLoss: 0.271401\n",
      "Mem before-during-after: 22811136 1942032384 22811136\n"
     ]
    },
    {
     "name": "stderr",
     "output_type": "stream",
     "text": [
      " 38%|█████████████████████████████████████████████████████████████████▎                                                                                                         | 167.99999999997718/440 [1:09:41<1:30:10, 19.89s/it]"
     ]
    },
    {
     "name": "stdout",
     "output_type": "stream",
     "text": [
      "\n",
      "Test Epoch: 228\tAccuracy: 568/736 (75%)\n",
      "\n"
     ]
    },
    {
     "name": "stderr",
     "output_type": "stream",
     "text": [
      " 38%|█████████████████████████████████████████████████████████████████▎                                                                                                         | 168.01980198017517/440 [1:09:41<1:36:36, 21.31s/it]"
     ]
    },
    {
     "name": "stdout",
     "output_type": "stream",
     "text": [
      "Train Epoch: 229 [0/2508 (0%)]\tLoss: 0.200527\n",
      "Mem before-during-after: 22807040 1943193600 22811136\n"
     ]
    },
    {
     "name": "stderr",
     "output_type": "stream",
     "text": [
      " 38%|█████████████████████████████████████████████████████████████████▊                                                                                                          | 168.4059405940361/440 [1:09:51<2:05:27, 27.71s/it]"
     ]
    },
    {
     "name": "stdout",
     "output_type": "stream",
     "text": [
      "Train Epoch: 229 [1280/2508 (51%)]\tLoss: 0.003225\n",
      "Mem before-during-after: 22811136 1941254144 22811136\n"
     ]
    },
    {
     "name": "stderr",
     "output_type": "stream",
     "text": [
      " 38%|██████████████████████████████████████████████████████████████████▍                                                                                                          | 168.999999999976/440 [1:10:06<1:35:00, 21.04s/it]"
     ]
    },
    {
     "name": "stdout",
     "output_type": "stream",
     "text": [
      "\n",
      "Test Epoch: 229\tAccuracy: 554/736 (73%)\n",
      "\n"
     ]
    },
    {
     "name": "stderr",
     "output_type": "stream",
     "text": [
      " 38%|██████████████████████████████████████████████████████████████████▍                                                                                                          | 169.019801980174/440 [1:10:06<1:37:28, 21.58s/it]"
     ]
    },
    {
     "name": "stdout",
     "output_type": "stream",
     "text": [
      "Train Epoch: 230 [0/2508 (0%)]\tLoss: 0.068850\n",
      "Mem before-during-after: 22807040 1943193600 22811136\n"
     ]
    },
    {
     "name": "stderr",
     "output_type": "stream",
     "text": [
      " 39%|█████████████████████████████████████████████████████████████████▊                                                                                                         | 169.40594059403494/440 [1:10:16<2:05:12, 27.76s/it]"
     ]
    },
    {
     "name": "stdout",
     "output_type": "stream",
     "text": [
      "Train Epoch: 230 [1280/2508 (51%)]\tLoss: 1.107734\n",
      "Mem before-during-after: 22811136 1940102656 22811136\n"
     ]
    },
    {
     "name": "stderr",
     "output_type": "stream",
     "text": [
      " 39%|██████████████████████████████████████████████████████████████████                                                                                                         | 169.99999999997485/440 [1:10:31<1:31:24, 20.31s/it]"
     ]
    },
    {
     "name": "stdout",
     "output_type": "stream",
     "text": [
      "\n",
      "Test Epoch: 230\tAccuracy: 569/736 (75%)\n",
      "\n"
     ]
    },
    {
     "name": "stderr",
     "output_type": "stream",
     "text": [
      " 39%|██████████████████████████████████████████████████████████████████                                                                                                         | 170.01980198017284/440 [1:10:31<1:37:23, 21.65s/it]"
     ]
    },
    {
     "name": "stdout",
     "output_type": "stream",
     "text": [
      "Train Epoch: 231 [0/2508 (0%)]\tLoss: 0.010805\n",
      "Mem before-during-after: 22807040 1943193600 22811136\n"
     ]
    },
    {
     "name": "stderr",
     "output_type": "stream",
     "text": [
      " 39%|██████████████████████████████████████████████████████████████████▏                                                                                                        | 170.40594059403378/440 [1:10:41<2:05:09, 27.86s/it]"
     ]
    },
    {
     "name": "stdout",
     "output_type": "stream",
     "text": [
      "Train Epoch: 231 [1280/2508 (51%)]\tLoss: 0.155576\n",
      "Mem before-during-after: 22811136 1942032384 22811136\n"
     ]
    },
    {
     "name": "stderr",
     "output_type": "stream",
     "text": [
      " 39%|██████████████████████████████████████████████████████████████████▍                                                                                                        | 170.99999999997368/440 [1:10:55<1:32:14, 20.57s/it]"
     ]
    },
    {
     "name": "stdout",
     "output_type": "stream",
     "text": [
      "\n",
      "Test Epoch: 231\tAccuracy: 583/736 (77%)\n",
      "\n"
     ]
    },
    {
     "name": "stderr",
     "output_type": "stream",
     "text": [
      " 39%|██████████████████████████████████████████████████████████████████▍                                                                                                        | 171.01980198017168/440 [1:10:56<1:36:06, 21.44s/it]"
     ]
    },
    {
     "name": "stdout",
     "output_type": "stream",
     "text": [
      "Train Epoch: 232 [0/2508 (0%)]\tLoss: 0.046334\n",
      "Mem before-during-after: 22807040 1943193600 22811136\n"
     ]
    },
    {
     "name": "stderr",
     "output_type": "stream",
     "text": [
      " 39%|██████████████████████████████████████████████████████████████████▌                                                                                                        | 171.40594059403261/440 [1:11:06<2:05:34, 28.05s/it]"
     ]
    },
    {
     "name": "stdout",
     "output_type": "stream",
     "text": [
      "Train Epoch: 232 [1280/2508 (51%)]\tLoss: 0.049170\n",
      "Mem before-during-after: 22811136 1942032384 22811136\n"
     ]
    },
    {
     "name": "stderr",
     "output_type": "stream",
     "text": [
      " 39%|██████████████████████████████████████████████████████████████████▊                                                                                                        | 171.99999999997252/440 [1:11:20<1:31:49, 20.56s/it]"
     ]
    },
    {
     "name": "stdout",
     "output_type": "stream",
     "text": [
      "\n",
      "Test Epoch: 232\tAccuracy: 566/736 (75%)\n",
      "\n"
     ]
    },
    {
     "name": "stderr",
     "output_type": "stream",
     "text": [
      " 39%|███████████████████████████████████████████████████████████████████▏                                                                                                        | 172.0198019801705/440 [1:11:21<1:35:15, 21.33s/it]"
     ]
    },
    {
     "name": "stdout",
     "output_type": "stream",
     "text": [
      "Train Epoch: 233 [0/2508 (0%)]\tLoss: 0.156148\n",
      "Mem before-during-after: 22807040 1943193600 22811136\n"
     ]
    },
    {
     "name": "stderr",
     "output_type": "stream",
     "text": [
      " 39%|███████████████████████████████████████████████████████████████████                                                                                                        | 172.40594059403145/440 [1:11:31<2:03:36, 27.72s/it]"
     ]
    },
    {
     "name": "stdout",
     "output_type": "stream",
     "text": [
      "Train Epoch: 233 [1280/2508 (51%)]\tLoss: 0.123336\n",
      "Mem before-during-after: 22811136 1942032384 22811136\n"
     ]
    },
    {
     "name": "stderr",
     "output_type": "stream",
     "text": [
      " 39%|███████████████████████████████████████████████████████████████████▏                                                                                                       | 172.99999999997135/440 [1:11:45<1:27:09, 19.58s/it]"
     ]
    },
    {
     "name": "stdout",
     "output_type": "stream",
     "text": [
      "\n",
      "Test Epoch: 233\tAccuracy: 579/736 (76%)\n",
      "\n"
     ]
    },
    {
     "name": "stderr",
     "output_type": "stream",
     "text": [
      " 39%|███████████████████████████████████████████████████████████████████▏                                                                                                       | 173.00990099007035/440 [1:11:45<1:36:15, 21.63s/it]"
     ]
    },
    {
     "name": "stdout",
     "output_type": "stream",
     "text": [
      "Train Epoch: 234 [0/2508 (0%)]\tLoss: 0.030347\n",
      "Mem before-during-after: 22807040 1943193600 22811136\n"
     ]
    },
    {
     "name": "stderr",
     "output_type": "stream",
     "text": [
      " 39%|███████████████████████████████████████████████████████████████████▍                                                                                                       | 173.40594059403028/440 [1:11:56<2:05:42, 28.29s/it]"
     ]
    },
    {
     "name": "stdout",
     "output_type": "stream",
     "text": [
      "Train Epoch: 234 [1280/2508 (51%)]\tLoss: 0.090558\n",
      "Mem before-during-after: 22811136 1942032384 22811136\n"
     ]
    },
    {
     "name": "stderr",
     "output_type": "stream",
     "text": [
      " 40%|███████████████████████████████████████████████████████████████████▌                                                                                                       | 173.99999999997019/440 [1:12:10<1:34:15, 21.26s/it]"
     ]
    },
    {
     "name": "stdout",
     "output_type": "stream",
     "text": [
      "\n",
      "Test Epoch: 234\tAccuracy: 571/736 (75%)\n",
      "\n"
     ]
    },
    {
     "name": "stderr",
     "output_type": "stream",
     "text": [
      " 40%|███████████████████████████████████████████████████████████████████▋                                                                                                       | 174.01980198016818/440 [1:12:11<1:36:44, 21.82s/it]"
     ]
    },
    {
     "name": "stdout",
     "output_type": "stream",
     "text": [
      "Train Epoch: 235 [0/2508 (0%)]\tLoss: 0.537313\n",
      "Mem before-during-after: 22807040 1938005504 22811136\n"
     ]
    },
    {
     "name": "stderr",
     "output_type": "stream",
     "text": [
      " 40%|███████████████████████████████████████████████████████████████████▊                                                                                                       | 174.40594059402912/440 [1:12:21<2:02:11, 27.61s/it]"
     ]
    },
    {
     "name": "stdout",
     "output_type": "stream",
     "text": [
      "Train Epoch: 235 [1280/2508 (51%)]\tLoss: 0.790372\n",
      "Mem before-during-after: 22811136 1940102656 22811136\n"
     ]
    },
    {
     "name": "stderr",
     "output_type": "stream",
     "text": [
      " 40%|████████████████████████████████████████████████████████████████████                                                                                                       | 174.99999999996902/440 [1:12:35<1:28:06, 19.95s/it]"
     ]
    },
    {
     "name": "stdout",
     "output_type": "stream",
     "text": [
      "\n",
      "Test Epoch: 235\tAccuracy: 567/736 (75%)\n",
      "\n"
     ]
    },
    {
     "name": "stderr",
     "output_type": "stream",
     "text": [
      " 40%|████████████████████████████████████████████████████████████████████                                                                                                       | 175.00990099006802/440 [1:12:36<1:36:59, 21.96s/it]"
     ]
    },
    {
     "name": "stdout",
     "output_type": "stream",
     "text": [
      "Train Epoch: 236 [0/2508 (0%)]\tLoss: 0.062968\n",
      "Mem before-during-after: 22807040 1943193600 22811136\n"
     ]
    },
    {
     "name": "stderr",
     "output_type": "stream",
     "text": [
      " 40%|████████████████████████████████████████████████████████████████████▏                                                                                                      | 175.40594059402795/440 [1:12:46<2:03:32, 28.02s/it]"
     ]
    },
    {
     "name": "stdout",
     "output_type": "stream",
     "text": [
      "Train Epoch: 236 [1280/2508 (51%)]\tLoss: 0.008078\n",
      "Mem before-during-after: 22811136 1941254144 22811136\n"
     ]
    },
    {
     "name": "stderr",
     "output_type": "stream",
     "text": [
      " 40%|████████████████████████████████████████████████████████████████████▍                                                                                                      | 175.99999999996786/440 [1:13:00<1:28:35, 20.14s/it]"
     ]
    },
    {
     "name": "stdout",
     "output_type": "stream",
     "text": [
      "\n",
      "Test Epoch: 236\tAccuracy: 593/736 (78%)\n",
      "\n"
     ]
    },
    {
     "name": "stderr",
     "output_type": "stream",
     "text": [
      " 40%|████████████████████████████████████████████████████████████████████▍                                                                                                      | 176.00990099006685/440 [1:13:00<1:37:06, 22.07s/it]"
     ]
    },
    {
     "name": "stdout",
     "output_type": "stream",
     "text": [
      "Train Epoch: 237 [0/2508 (0%)]\tLoss: 0.092743\n",
      "Mem before-during-after: 22807040 1943193600 22811136\n"
     ]
    },
    {
     "name": "stderr",
     "output_type": "stream",
     "text": [
      " 40%|████████████████████████████████████████████████████████████████████▉                                                                                                       | 176.4059405940268/440 [1:13:11<2:02:10, 27.81s/it]"
     ]
    },
    {
     "name": "stdout",
     "output_type": "stream",
     "text": [
      "Train Epoch: 237 [1280/2508 (51%)]\tLoss: 0.006309\n",
      "Mem before-during-after: 22811136 1942032384 22811136\n"
     ]
    },
    {
     "name": "stderr",
     "output_type": "stream",
     "text": [
      " 40%|█████████████████████████████████████████████████████████████████████▏                                                                                                      | 176.9999999999667/440 [1:13:26<1:28:30, 20.19s/it]"
     ]
    },
    {
     "name": "stdout",
     "output_type": "stream",
     "text": [
      "\n",
      "Test Epoch: 237\tAccuracy: 573/736 (75%)\n",
      "\n"
     ]
    },
    {
     "name": "stderr",
     "output_type": "stream",
     "text": [
      " 40%|█████████████████████████████████████████████████████████████████████▏                                                                                                      | 177.0198019801647/440 [1:13:26<1:32:43, 21.15s/it]"
     ]
    },
    {
     "name": "stdout",
     "output_type": "stream",
     "text": [
      "Train Epoch: 238 [0/2508 (0%)]\tLoss: 0.027767\n",
      "Mem before-during-after: 22807040 1943193600 22811136\n"
     ]
    },
    {
     "name": "stderr",
     "output_type": "stream",
     "text": [
      " 40%|████████████████████████████████████████████████████████████████████▉                                                                                                      | 177.40594059402562/440 [1:13:36<2:01:30, 27.76s/it]"
     ]
    },
    {
     "name": "stdout",
     "output_type": "stream",
     "text": [
      "Train Epoch: 238 [1280/2508 (51%)]\tLoss: 0.288164\n",
      "Mem before-during-after: 22811136 1942032384 22811136\n"
     ]
    },
    {
     "name": "stderr",
     "output_type": "stream",
     "text": [
      " 40%|█████████████████████████████████████████████████████████████████████▏                                                                                                     | 177.99999999996552/440 [1:13:51<1:27:23, 20.01s/it]"
     ]
    },
    {
     "name": "stdout",
     "output_type": "stream",
     "text": [
      "\n",
      "Test Epoch: 238\tAccuracy: 569/736 (75%)\n",
      "\n"
     ]
    },
    {
     "name": "stderr",
     "output_type": "stream",
     "text": [
      " 40%|█████████████████████████████████████████████████████████████████████▏                                                                                                     | 178.00990099006452/440 [1:13:51<1:35:46, 21.93s/it]"
     ]
    },
    {
     "name": "stdout",
     "output_type": "stream",
     "text": [
      "Train Epoch: 239 [0/2508 (0%)]\tLoss: 0.027720\n",
      "Mem before-during-after: 22807040 1943193600 22811136\n"
     ]
    },
    {
     "name": "stderr",
     "output_type": "stream",
     "text": [
      " 41%|█████████████████████████████████████████████████████████████████████▎                                                                                                     | 178.40594059402446/440 [1:14:01<2:01:09, 27.79s/it]"
     ]
    },
    {
     "name": "stdout",
     "output_type": "stream",
     "text": [
      "Train Epoch: 239 [1280/2508 (51%)]\tLoss: 0.724940\n",
      "Mem before-during-after: 22811136 1941942272 22811136\n"
     ]
    },
    {
     "name": "stderr",
     "output_type": "stream",
     "text": [
      " 41%|█████████████████████████████████████████████████████████████████████▌                                                                                                     | 178.99999999996436/440 [1:14:16<1:28:00, 20.23s/it]"
     ]
    },
    {
     "name": "stdout",
     "output_type": "stream",
     "text": [
      "\n",
      "Test Epoch: 239\tAccuracy: 582/736 (77%)\n",
      "\n"
     ]
    },
    {
     "name": "stderr",
     "output_type": "stream",
     "text": [
      " 41%|█████████████████████████████████████████████████████████████████████▌                                                                                                     | 179.01980198016236/440 [1:14:16<1:32:29, 21.26s/it]"
     ]
    },
    {
     "name": "stdout",
     "output_type": "stream",
     "text": [
      "Train Epoch: 240 [0/2508 (0%)]\tLoss: 0.001890\n",
      "Mem before-during-after: 22807040 1943193600 22811136\n"
     ]
    },
    {
     "name": "stderr",
     "output_type": "stream",
     "text": [
      " 41%|██████████████████████████████████████████████████████████████████████▏                                                                                                     | 179.4059405940233/440 [1:14:26<2:01:45, 28.04s/it]"
     ]
    },
    {
     "name": "stdout",
     "output_type": "stream",
     "text": [
      "Train Epoch: 240 [1280/2508 (51%)]\tLoss: 0.023281\n",
      "Mem before-during-after: 22811136 1941254144 22811136\n"
     ]
    },
    {
     "name": "stderr",
     "output_type": "stream",
     "text": [
      " 41%|██████████████████████████████████████████████████████████████████████▎                                                                                                     | 179.9999999999632/440 [1:14:41<1:26:28, 19.96s/it]"
     ]
    },
    {
     "name": "stdout",
     "output_type": "stream",
     "text": [
      "\n",
      "Test Epoch: 240\tAccuracy: 584/736 (77%)\n",
      "\n"
     ]
    },
    {
     "name": "stderr",
     "output_type": "stream",
     "text": [
      " 41%|██████████████████████████████████████████████████████████████████████▎                                                                                                     | 180.0198019801612/440 [1:14:41<1:31:08, 21.03s/it]"
     ]
    },
    {
     "name": "stdout",
     "output_type": "stream",
     "text": [
      "Train Epoch: 241 [0/2508 (0%)]\tLoss: 0.003299\n",
      "Mem before-during-after: 22807040 1943193600 22811136\n"
     ]
    },
    {
     "name": "stderr",
     "output_type": "stream",
     "text": [
      " 41%|██████████████████████████████████████████████████████████████████████                                                                                                     | 180.40594059402213/440 [1:14:51<2:00:46, 27.91s/it]"
     ]
    },
    {
     "name": "stdout",
     "output_type": "stream",
     "text": [
      "Train Epoch: 241 [1280/2508 (51%)]\tLoss: 1.017394\n",
      "Mem before-during-after: 22811136 1940361728 22811136\n"
     ]
    },
    {
     "name": "stderr",
     "output_type": "stream",
     "text": [
      " 41%|██████████████████████████████████████████████████████████████████████▎                                                                                                    | 180.99999999996203/440 [1:15:06<1:29:24, 20.71s/it]"
     ]
    },
    {
     "name": "stdout",
     "output_type": "stream",
     "text": [
      "\n",
      "Test Epoch: 241\tAccuracy: 577/736 (76%)\n",
      "\n"
     ]
    },
    {
     "name": "stderr",
     "output_type": "stream",
     "text": [
      " 41%|██████████████████████████████████████████████████████████████████████▎                                                                                                    | 181.00990099006103/440 [1:15:06<1:35:42, 22.17s/it]"
     ]
    },
    {
     "name": "stdout",
     "output_type": "stream",
     "text": [
      "Train Epoch: 242 [0/2508 (0%)]\tLoss: 0.001977\n",
      "Mem before-during-after: 22807040 1943193600 22811136\n"
     ]
    },
    {
     "name": "stderr",
     "output_type": "stream",
     "text": [
      " 41%|██████████████████████████████████████████████████████████████████████▌                                                                                                    | 181.40594059402096/440 [1:15:16<2:01:56, 28.29s/it]"
     ]
    },
    {
     "name": "stdout",
     "output_type": "stream",
     "text": [
      "Train Epoch: 242 [1280/2508 (51%)]\tLoss: 0.068701\n",
      "Mem before-during-after: 22811136 1942032384 22811136\n"
     ]
    },
    {
     "name": "stderr",
     "output_type": "stream",
     "text": [
      " 41%|██████████████████████████████████████████████████████████████████████▋                                                                                                    | 181.99999999996086/440 [1:15:31<1:25:33, 19.90s/it]"
     ]
    },
    {
     "name": "stdout",
     "output_type": "stream",
     "text": [
      "\n",
      "Test Epoch: 242\tAccuracy: 566/736 (75%)\n",
      "\n"
     ]
    },
    {
     "name": "stderr",
     "output_type": "stream",
     "text": [
      " 41%|██████████████████████████████████████████████████████████████████████▋                                                                                                    | 182.00990099005986/440 [1:15:31<1:35:18, 22.17s/it]"
     ]
    },
    {
     "name": "stdout",
     "output_type": "stream",
     "text": [
      "Train Epoch: 243 [0/2508 (0%)]\tLoss: 0.004656\n",
      "Mem before-during-after: 22807040 1943193600 22811136\n"
     ]
    },
    {
     "name": "stderr",
     "output_type": "stream",
     "text": [
      " 41%|███████████████████████████████████████████████████████████████████████▎                                                                                                    | 182.4059405940198/440 [1:15:41<1:58:45, 27.66s/it]"
     ]
    },
    {
     "name": "stdout",
     "output_type": "stream",
     "text": [
      "Train Epoch: 243 [1280/2508 (51%)]\tLoss: 0.056032\n",
      "Mem before-during-after: 22811136 1941254144 22811136\n"
     ]
    },
    {
     "name": "stderr",
     "output_type": "stream",
     "text": [
      " 42%|███████████████████████████████████████████████████████████████████████▌                                                                                                    | 182.9999999999597/440 [1:15:56<1:27:35, 20.45s/it]"
     ]
    },
    {
     "name": "stdout",
     "output_type": "stream",
     "text": [
      "\n",
      "Test Epoch: 243\tAccuracy: 577/736 (76%)\n",
      "\n"
     ]
    },
    {
     "name": "stderr",
     "output_type": "stream",
     "text": [
      " 42%|███████████████████████████████████████████████████████████████████████▌                                                                                                    | 183.0198019801577/440 [1:15:56<1:30:52, 21.22s/it]"
     ]
    },
    {
     "name": "stdout",
     "output_type": "stream",
     "text": [
      "Train Epoch: 244 [0/2508 (0%)]\tLoss: 0.059642\n",
      "Mem before-during-after: 22807040 1943193600 22811136\n"
     ]
    },
    {
     "name": "stderr",
     "output_type": "stream",
     "text": [
      " 42%|███████████████████████████████████████████████████████████████████████▎                                                                                                   | 183.40594059401863/440 [1:16:06<1:59:20, 27.91s/it]"
     ]
    },
    {
     "name": "stdout",
     "output_type": "stream",
     "text": [
      "Train Epoch: 244 [1280/2508 (51%)]\tLoss: 0.002971\n",
      "Mem before-during-after: 22811136 1942032384 22811136\n"
     ]
    },
    {
     "name": "stderr",
     "output_type": "stream",
     "text": [
      " 42%|███████████████████████████████████████████████████████████████████████▌                                                                                                   | 183.99999999995853/440 [1:16:21<1:24:21, 19.77s/it]"
     ]
    },
    {
     "name": "stdout",
     "output_type": "stream",
     "text": [
      "\n",
      "Test Epoch: 244\tAccuracy: 574/736 (76%)\n",
      "\n"
     ]
    },
    {
     "name": "stderr",
     "output_type": "stream",
     "text": [
      " 42%|███████████████████████████████████████████████████████████████████████▌                                                                                                   | 184.00990099005753/440 [1:16:21<1:32:53, 21.77s/it]"
     ]
    },
    {
     "name": "stdout",
     "output_type": "stream",
     "text": [
      "Train Epoch: 245 [0/2508 (0%)]\tLoss: 0.001122\n",
      "Mem before-during-after: 22807040 1943193600 22811136\n"
     ]
    },
    {
     "name": "stderr",
     "output_type": "stream",
     "text": [
      " 42%|███████████████████████████████████████████████████████████████████████▋                                                                                                   | 184.40594059401747/440 [1:16:31<1:59:47, 28.12s/it]"
     ]
    },
    {
     "name": "stdout",
     "output_type": "stream",
     "text": [
      "Train Epoch: 245 [1280/2508 (51%)]\tLoss: 0.023006\n",
      "Mem before-during-after: 22811136 1942032384 22811136\n"
     ]
    },
    {
     "name": "stderr",
     "output_type": "stream",
     "text": [
      " 42%|███████████████████████████████████████████████████████████████████████▉                                                                                                   | 184.99999999995737/440 [1:16:46<1:27:03, 20.48s/it]"
     ]
    },
    {
     "name": "stdout",
     "output_type": "stream",
     "text": [
      "\n",
      "Test Epoch: 245\tAccuracy: 585/736 (77%)\n",
      "\n"
     ]
    },
    {
     "name": "stderr",
     "output_type": "stream",
     "text": [
      " 42%|███████████████████████████████████████████████████████████████████████▉                                                                                                   | 185.00990099005637/440 [1:16:46<1:36:39, 22.74s/it]"
     ]
    },
    {
     "name": "stdout",
     "output_type": "stream",
     "text": [
      "Train Epoch: 246 [0/2508 (0%)]\tLoss: 0.001804\n",
      "Mem before-during-after: 22807040 1943193600 22811136\n"
     ]
    },
    {
     "name": "stderr",
     "output_type": "stream",
     "text": [
      " 42%|████████████████████████████████████████████████████████████████████████▍                                                                                                   | 185.4059405940163/440 [1:16:57<2:00:18, 28.35s/it]"
     ]
    },
    {
     "name": "stdout",
     "output_type": "stream",
     "text": [
      "Train Epoch: 246 [1280/2508 (51%)]\tLoss: 0.172255\n",
      "Mem before-during-after: 22811136 1942032384 22811136\n"
     ]
    },
    {
     "name": "stderr",
     "output_type": "stream",
     "text": [
      " 42%|████████████████████████████████████████████████████████████████████████▋                                                                                                   | 185.9999999999562/440 [1:17:11<1:26:41, 20.48s/it]"
     ]
    },
    {
     "name": "stdout",
     "output_type": "stream",
     "text": [
      "\n",
      "Test Epoch: 246\tAccuracy: 568/736 (75%)\n",
      "\n"
     ]
    },
    {
     "name": "stderr",
     "output_type": "stream",
     "text": [
      " 42%|████████████████████████████████████████████████████████████████████████▋                                                                                                   | 186.0198019801542/440 [1:17:11<1:31:21, 21.58s/it]"
     ]
    },
    {
     "name": "stdout",
     "output_type": "stream",
     "text": [
      "Train Epoch: 247 [0/2508 (0%)]\tLoss: 0.002730\n",
      "Mem before-during-after: 22807040 1943193600 22811136\n"
     ]
    },
    {
     "name": "stderr",
     "output_type": "stream",
     "text": [
      " 42%|████████████████████████████████████████████████████████████████████████▍                                                                                                  | 186.40594059401514/440 [1:17:22<1:58:26, 28.02s/it]"
     ]
    },
    {
     "name": "stdout",
     "output_type": "stream",
     "text": [
      "Train Epoch: 247 [1280/2508 (51%)]\tLoss: 0.074741\n",
      "Mem before-during-after: 22811136 1941254144 22811136\n"
     ]
    },
    {
     "name": "stderr",
     "output_type": "stream",
     "text": [
      " 42%|████████████████████████████████████████████████████████████████████████▋                                                                                                  | 186.99999999995504/440 [1:17:36<1:26:59, 20.63s/it]"
     ]
    },
    {
     "name": "stdout",
     "output_type": "stream",
     "text": [
      "\n",
      "Test Epoch: 247\tAccuracy: 572/736 (75%)\n",
      "\n"
     ]
    },
    {
     "name": "stderr",
     "output_type": "stream",
     "text": [
      " 43%|████████████████████████████████████████████████████████████████████████▋                                                                                                  | 187.00990099005404/440 [1:17:36<1:33:18, 22.13s/it]"
     ]
    },
    {
     "name": "stdout",
     "output_type": "stream",
     "text": [
      "Train Epoch: 248 [0/2508 (0%)]\tLoss: 0.055410\n",
      "Mem before-during-after: 22807040 1943193600 22811136\n"
     ]
    },
    {
     "name": "stderr",
     "output_type": "stream",
     "text": [
      " 43%|████████████████████████████████████████████████████████████████████████▊                                                                                                  | 187.40594059401397/440 [1:17:47<1:57:49, 27.99s/it]"
     ]
    },
    {
     "name": "stdout",
     "output_type": "stream",
     "text": [
      "Train Epoch: 248 [1280/2508 (51%)]\tLoss: 0.264493\n",
      "Mem before-during-after: 22811136 1942032384 22811136\n"
     ]
    },
    {
     "name": "stderr",
     "output_type": "stream",
     "text": [
      " 43%|█████████████████████████████████████████████████████████████████████████                                                                                                  | 187.99999999995387/440 [1:18:01<1:25:32, 20.37s/it]"
     ]
    },
    {
     "name": "stdout",
     "output_type": "stream",
     "text": [
      "\n",
      "Test Epoch: 248\tAccuracy: 588/736 (77%)\n",
      "\n"
     ]
    },
    {
     "name": "stderr",
     "output_type": "stream",
     "text": [
      " 43%|█████████████████████████████████████████████████████████████████████████                                                                                                  | 188.01980198015187/440 [1:18:01<1:29:22, 21.28s/it]"
     ]
    },
    {
     "name": "stdout",
     "output_type": "stream",
     "text": [
      "Train Epoch: 249 [0/2508 (0%)]\tLoss: 0.018451\n",
      "Mem before-during-after: 22807040 1943193600 22811136\n"
     ]
    },
    {
     "name": "stderr",
     "output_type": "stream",
     "text": [
      " 43%|█████████████████████████████████████████████████████████████████████████▋                                                                                                  | 188.4059405940128/440 [1:18:11<1:55:59, 27.66s/it]"
     ]
    },
    {
     "name": "stdout",
     "output_type": "stream",
     "text": [
      "Train Epoch: 249 [1280/2508 (51%)]\tLoss: 0.091092\n",
      "Mem before-during-after: 22811136 1941254144 22811136\n"
     ]
    },
    {
     "name": "stderr",
     "output_type": "stream",
     "text": [
      " 43%|█████████████████████████████████████████████████████████████████████████▉                                                                                                  | 188.9999999999527/440 [1:18:26<1:26:19, 20.63s/it]"
     ]
    },
    {
     "name": "stdout",
     "output_type": "stream",
     "text": [
      "\n",
      "Test Epoch: 249\tAccuracy: 580/736 (76%)\n",
      "\n"
     ]
    },
    {
     "name": "stderr",
     "output_type": "stream",
     "text": [
      " 43%|█████████████████████████████████████████████████████████████████████████▉                                                                                                  | 189.0198019801507/440 [1:18:26<1:31:07, 21.79s/it]"
     ]
    },
    {
     "name": "stdout",
     "output_type": "stream",
     "text": [
      "Train Epoch: 250 [0/2508 (0%)]\tLoss: 0.033263\n",
      "Mem before-during-after: 22807040 1943193600 22811136\n"
     ]
    },
    {
     "name": "stderr",
     "output_type": "stream",
     "text": [
      " 43%|█████████████████████████████████████████████████████████████████████████▌                                                                                                 | 189.40594059401164/440 [1:18:37<1:56:17, 27.85s/it]"
     ]
    },
    {
     "name": "stdout",
     "output_type": "stream",
     "text": [
      "Train Epoch: 250 [1280/2508 (51%)]\tLoss: 0.023278\n",
      "Mem before-during-after: 22811136 1941254144 22811136\n"
     ]
    },
    {
     "name": "stderr",
     "output_type": "stream",
     "text": [
      " 43%|█████████████████████████████████████████████████████████████████████████▊                                                                                                 | 189.99999999995154/440 [1:18:51<1:23:26, 20.02s/it]"
     ]
    },
    {
     "name": "stdout",
     "output_type": "stream",
     "text": [
      "\n",
      "Test Epoch: 250\tAccuracy: 573/736 (75%)\n",
      "\n"
     ]
    },
    {
     "name": "stderr",
     "output_type": "stream",
     "text": [
      " 43%|█████████████████████████████████████████████████████████████████████████▊                                                                                                 | 190.01980198014954/440 [1:18:52<1:31:20, 21.92s/it]"
     ]
    },
    {
     "name": "stdout",
     "output_type": "stream",
     "text": [
      "Train Epoch: 251 [0/2508 (0%)]\tLoss: 0.020754\n",
      "Mem before-during-after: 22807040 1943193600 22811136\n"
     ]
    },
    {
     "name": "stderr",
     "output_type": "stream",
     "text": [
      " 43%|█████████████████████████████████████████████████████████████████████████▉                                                                                                 | 190.40594059401047/440 [1:19:02<1:56:55, 28.11s/it]"
     ]
    },
    {
     "name": "stdout",
     "output_type": "stream",
     "text": [
      "Train Epoch: 251 [1280/2508 (51%)]\tLoss: 0.096872\n",
      "Mem before-during-after: 22811136 1942032384 22811136\n"
     ]
    },
    {
     "name": "stderr",
     "output_type": "stream",
     "text": [
      " 43%|██████████████████████████████████████████████████████████████████████████▏                                                                                                | 190.99999999995038/440 [1:19:16<1:25:15, 20.54s/it]"
     ]
    },
    {
     "name": "stdout",
     "output_type": "stream",
     "text": [
      "\n",
      "Test Epoch: 251\tAccuracy: 594/736 (78%)\n",
      "\n"
     ]
    },
    {
     "name": "stderr",
     "output_type": "stream",
     "text": [
      " 43%|██████████████████████████████████████████████████████████████████████████▏                                                                                                | 191.00990099004937/440 [1:19:16<1:32:38, 22.32s/it]"
     ]
    },
    {
     "name": "stdout",
     "output_type": "stream",
     "text": [
      "Train Epoch: 252 [0/2508 (0%)]\tLoss: 0.039951\n",
      "Mem before-during-after: 22807040 1943193600 22811136\n"
     ]
    },
    {
     "name": "stderr",
     "output_type": "stream",
     "text": [
      " 44%|██████████████████████████████████████████████████████████████████████████▊                                                                                                 | 191.4059405940093/440 [1:19:27<1:56:44, 28.18s/it]"
     ]
    },
    {
     "name": "stdout",
     "output_type": "stream",
     "text": [
      "Train Epoch: 252 [1280/2508 (51%)]\tLoss: 0.167754\n",
      "Mem before-during-after: 22811136 1942032384 22811136\n"
     ]
    },
    {
     "name": "stderr",
     "output_type": "stream",
     "text": [
      " 44%|███████████████████████████████████████████████████████████████████████████                                                                                                 | 191.9999999999492/440 [1:19:41<1:22:46, 20.02s/it]"
     ]
    },
    {
     "name": "stdout",
     "output_type": "stream",
     "text": [
      "\n",
      "Test Epoch: 252\tAccuracy: 560/736 (74%)\n",
      "\n"
     ]
    },
    {
     "name": "stderr",
     "output_type": "stream",
     "text": [
      " 44%|███████████████████████████████████████████████████████████████████████████                                                                                                 | 192.0198019801472/440 [1:19:41<1:27:15, 21.11s/it]"
     ]
    },
    {
     "name": "stdout",
     "output_type": "stream",
     "text": [
      "Train Epoch: 253 [0/2508 (0%)]\tLoss: 0.013556\n",
      "Mem before-during-after: 22807040 1943193600 22811136\n"
     ]
    },
    {
     "name": "stderr",
     "output_type": "stream",
     "text": [
      " 44%|██████████████████████████████████████████████████████████████████████████▊                                                                                                | 192.40594059400814/440 [1:19:51<1:54:25, 27.73s/it]"
     ]
    },
    {
     "name": "stdout",
     "output_type": "stream",
     "text": [
      "Train Epoch: 253 [1280/2508 (51%)]\tLoss: 0.003410\n",
      "Mem before-during-after: 22811136 1942032384 22811136\n"
     ]
    },
    {
     "name": "stderr",
     "output_type": "stream",
     "text": [
      " 44%|███████████████████████████████████████████████████████████████████████████                                                                                                | 192.99999999994805/440 [1:20:06<1:22:24, 20.02s/it]"
     ]
    },
    {
     "name": "stdout",
     "output_type": "stream",
     "text": [
      "\n",
      "Test Epoch: 253\tAccuracy: 571/736 (75%)\n",
      "\n"
     ]
    },
    {
     "name": "stderr",
     "output_type": "stream",
     "text": [
      " 44%|███████████████████████████████████████████████████████████████████████████                                                                                                | 193.00990099004704/440 [1:20:06<1:29:52, 21.83s/it]"
     ]
    },
    {
     "name": "stdout",
     "output_type": "stream",
     "text": [
      "Train Epoch: 254 [0/2508 (0%)]\tLoss: 0.569802\n",
      "Mem before-during-after: 22807040 1938005504 22811136\n"
     ]
    },
    {
     "name": "stderr",
     "output_type": "stream",
     "text": [
      " 44%|███████████████████████████████████████████████████████████████████████████▏                                                                                               | 193.40594059400698/440 [1:20:16<1:53:45, 27.68s/it]"
     ]
    },
    {
     "name": "stdout",
     "output_type": "stream",
     "text": [
      "Train Epoch: 254 [1280/2508 (51%)]\tLoss: 0.022564\n",
      "Mem before-during-after: 22811136 1941516288 22811136\n"
     ]
    },
    {
     "name": "stderr",
     "output_type": "stream",
     "text": [
      " 44%|███████████████████████████████████████████████████████████████████████████▍                                                                                               | 193.99999999994688/440 [1:20:30<1:22:48, 20.20s/it]"
     ]
    },
    {
     "name": "stdout",
     "output_type": "stream",
     "text": [
      "\n",
      "Test Epoch: 254\tAccuracy: 584/736 (77%)\n",
      "\n"
     ]
    },
    {
     "name": "stderr",
     "output_type": "stream",
     "text": [
      " 44%|███████████████████████████████████████████████████████████████████████████▍                                                                                               | 194.00990099004588/440 [1:20:31<1:30:33, 22.09s/it]"
     ]
    },
    {
     "name": "stdout",
     "output_type": "stream",
     "text": [
      "Train Epoch: 255 [0/2508 (0%)]\tLoss: 0.038096\n",
      "Mem before-during-after: 22807040 1943193600 22811136\n"
     ]
    },
    {
     "name": "stderr",
     "output_type": "stream",
     "text": [
      " 44%|███████████████████████████████████████████████████████████████████████████▉                                                                                                | 194.4059405940058/440 [1:20:41<1:55:45, 28.28s/it]"
     ]
    },
    {
     "name": "stdout",
     "output_type": "stream",
     "text": [
      "Train Epoch: 255 [1280/2508 (51%)]\tLoss: 0.042061\n",
      "Mem before-during-after: 22811136 1942032384 22811136\n"
     ]
    },
    {
     "name": "stderr",
     "output_type": "stream",
     "text": [
      " 44%|███████████████████████████████████████████████████████████████████████████▊                                                                                               | 194.99999999994571/440 [1:20:55<1:22:53, 20.30s/it]"
     ]
    },
    {
     "name": "stdout",
     "output_type": "stream",
     "text": [
      "\n",
      "Test Epoch: 255\tAccuracy: 557/736 (73%)\n",
      "\n"
     ]
    },
    {
     "name": "stderr",
     "output_type": "stream",
     "text": [
      " 44%|████████████████████████████████████████████████████████████████████████████▏                                                                                               | 195.0099009900447/440 [1:20:56<1:30:59, 22.28s/it]"
     ]
    },
    {
     "name": "stdout",
     "output_type": "stream",
     "text": [
      "Train Epoch: 256 [0/2508 (0%)]\tLoss: 0.000115\n",
      "Mem before-during-after: 22807040 1943193600 22811136\n"
     ]
    },
    {
     "name": "stderr",
     "output_type": "stream",
     "text": [
      " 44%|███████████████████████████████████████████████████████████████████████████▉                                                                                               | 195.40594059400465/440 [1:21:06<1:55:06, 28.24s/it]"
     ]
    },
    {
     "name": "stdout",
     "output_type": "stream",
     "text": [
      "Train Epoch: 256 [1280/2508 (51%)]\tLoss: 0.084573\n",
      "Mem before-during-after: 22811136 1942032384 22811136\n"
     ]
    },
    {
     "name": "stderr",
     "output_type": "stream",
     "text": [
      " 45%|████████████████████████████████████████████████████████████████████████████▏                                                                                              | 195.99999999994455/440 [1:21:20<1:21:30, 20.04s/it]"
     ]
    },
    {
     "name": "stdout",
     "output_type": "stream",
     "text": [
      "\n",
      "Test Epoch: 256\tAccuracy: 583/736 (77%)\n",
      "\n"
     ]
    },
    {
     "name": "stderr",
     "output_type": "stream",
     "text": [
      " 45%|████████████████████████████████████████████████████████████████████████████▏                                                                                              | 196.01980198014255/440 [1:21:21<1:28:58, 21.88s/it]"
     ]
    },
    {
     "name": "stdout",
     "output_type": "stream",
     "text": [
      "Train Epoch: 257 [0/2508 (0%)]\tLoss: 0.076089\n",
      "Mem before-during-after: 22807040 1943193600 22811136\n"
     ]
    },
    {
     "name": "stderr",
     "output_type": "stream",
     "text": [
      " 45%|████████████████████████████████████████████████████████████████████████████▎                                                                                              | 196.40594059400348/440 [1:21:31<1:52:22, 27.68s/it]"
     ]
    },
    {
     "name": "stdout",
     "output_type": "stream",
     "text": [
      "Train Epoch: 257 [1280/2508 (51%)]\tLoss: 0.789232\n",
      "Mem before-during-after: 22811136 1941942272 22811136\n"
     ]
    },
    {
     "name": "stderr",
     "output_type": "stream",
     "text": [
      " 45%|████████████████████████████████████████████████████████████████████████████▌                                                                                              | 196.99999999994338/440 [1:21:45<1:23:27, 20.61s/it]"
     ]
    },
    {
     "name": "stdout",
     "output_type": "stream",
     "text": [
      "\n",
      "Test Epoch: 257\tAccuracy: 579/736 (76%)\n",
      "\n"
     ]
    },
    {
     "name": "stderr",
     "output_type": "stream",
     "text": [
      " 45%|████████████████████████████████████████████████████████████████████████████▌                                                                                              | 197.01980198014138/440 [1:21:46<1:29:16, 22.04s/it]"
     ]
    },
    {
     "name": "stdout",
     "output_type": "stream",
     "text": [
      "Train Epoch: 258 [0/2508 (0%)]\tLoss: 0.021021\n",
      "Mem before-during-after: 22807040 1943193600 22811136\n"
     ]
    },
    {
     "name": "stderr",
     "output_type": "stream",
     "text": [
      " 45%|████████████████████████████████████████████████████████████████████████████▋                                                                                              | 197.40594059400232/440 [1:21:56<1:54:32, 28.33s/it]"
     ]
    },
    {
     "name": "stdout",
     "output_type": "stream",
     "text": [
      "Train Epoch: 258 [1280/2508 (51%)]\tLoss: 0.707978\n",
      "Mem before-during-after: 22811136 1940102656 22811136\n"
     ]
    },
    {
     "name": "stderr",
     "output_type": "stream",
     "text": [
      " 45%|████████████████████████████████████████████████████████████████████████████▉                                                                                              | 197.99999999994222/440 [1:22:10<1:21:51, 20.29s/it]"
     ]
    },
    {
     "name": "stdout",
     "output_type": "stream",
     "text": [
      "\n",
      "Test Epoch: 258\tAccuracy: 564/736 (74%)\n",
      "\n"
     ]
    },
    {
     "name": "stderr",
     "output_type": "stream",
     "text": [
      " 45%|████████████████████████████████████████████████████████████████████████████▉                                                                                              | 198.01980198014022/440 [1:22:11<1:26:34, 21.46s/it]"
     ]
    },
    {
     "name": "stdout",
     "output_type": "stream",
     "text": [
      "Train Epoch: 259 [0/2508 (0%)]\tLoss: 0.002143\n",
      "Mem before-during-after: 22807040 1943193600 22811136\n"
     ]
    },
    {
     "name": "stderr",
     "output_type": "stream",
     "text": [
      " 45%|█████████████████████████████████████████████████████████████████████████████                                                                                              | 198.40594059400115/440 [1:22:21<1:53:35, 28.21s/it]"
     ]
    },
    {
     "name": "stdout",
     "output_type": "stream",
     "text": [
      "Train Epoch: 259 [1280/2508 (51%)]\tLoss: 0.099716\n",
      "Mem before-during-after: 22811136 1942032384 22811136\n"
     ]
    },
    {
     "name": "stderr",
     "output_type": "stream",
     "text": [
      " 45%|█████████████████████████████████████████████████████████████████████████████▎                                                                                             | 198.99999999994105/440 [1:22:35<1:20:31, 20.05s/it]"
     ]
    },
    {
     "name": "stdout",
     "output_type": "stream",
     "text": [
      "\n",
      "Test Epoch: 259\tAccuracy: 573/736 (75%)\n",
      "\n"
     ]
    },
    {
     "name": "stderr",
     "output_type": "stream",
     "text": [
      " 45%|█████████████████████████████████████████████████████████████████████████████▎                                                                                             | 199.01980198013905/440 [1:22:35<1:26:22, 21.50s/it]"
     ]
    },
    {
     "name": "stdout",
     "output_type": "stream",
     "text": [
      "Train Epoch: 260 [0/2508 (0%)]\tLoss: 0.018016\n",
      "Mem before-during-after: 22807040 1943193600 22811136\n"
     ]
    },
    {
     "name": "stderr",
     "output_type": "stream",
     "text": [
      " 45%|███████████████████████████████████████████████████████████████████████████████▊                                                                                                | 199.405940594/440 [1:22:46<1:53:07, 28.21s/it]"
     ]
    },
    {
     "name": "stdout",
     "output_type": "stream",
     "text": [
      "Train Epoch: 260 [1280/2508 (51%)]\tLoss: 0.061196\n",
      "Mem before-during-after: 22811136 1942032384 22811136\n"
     ]
    },
    {
     "name": "stderr",
     "output_type": "stream",
     "text": [
      " 45%|██████████████████████████████████████████████████████████████████████████████▏                                                                                             | 199.9999999999399/440 [1:23:00<1:20:12, 20.05s/it]"
     ]
    },
    {
     "name": "stdout",
     "output_type": "stream",
     "text": [
      "\n",
      "Test Epoch: 260\tAccuracy: 560/736 (74%)\n",
      "\n"
     ]
    },
    {
     "name": "stderr",
     "output_type": "stream",
     "text": [
      " 45%|█████████████████████████████████████████████████████████████████████████████▋                                                                                             | 200.01980198013788/440 [1:23:00<1:25:10, 21.30s/it]"
     ]
    },
    {
     "name": "stdout",
     "output_type": "stream",
     "text": [
      "Train Epoch: 261 [0/2508 (0%)]\tLoss: 0.017159\n",
      "Mem before-during-after: 22807040 1943193600 22811136\n"
     ]
    },
    {
     "name": "stderr",
     "output_type": "stream",
     "text": [
      " 46%|█████████████████████████████████████████████████████████████████████████████▉                                                                                             | 200.40594059399882/440 [1:23:10<1:51:47, 27.99s/it]"
     ]
    },
    {
     "name": "stdout",
     "output_type": "stream",
     "text": [
      "Train Epoch: 261 [1280/2508 (51%)]\tLoss: 0.002128\n",
      "Mem before-during-after: 22811136 1942032384 22811136\n"
     ]
    },
    {
     "name": "stderr",
     "output_type": "stream",
     "text": [
      " 46%|██████████████████████████████████████████████████████████████████████████████                                                                                             | 200.99999999993872/440 [1:23:25<1:20:10, 20.13s/it]"
     ]
    },
    {
     "name": "stdout",
     "output_type": "stream",
     "text": [
      "\n",
      "Test Epoch: 261\tAccuracy: 560/736 (74%)\n",
      "\n"
     ]
    },
    {
     "name": "stderr",
     "output_type": "stream",
     "text": [
      " 46%|██████████████████████████████████████████████████████████████████████████████                                                                                             | 201.01980198013672/440 [1:23:25<1:24:49, 21.30s/it]"
     ]
    },
    {
     "name": "stdout",
     "output_type": "stream",
     "text": [
      "Train Epoch: 262 [0/2508 (0%)]\tLoss: 0.044760\n",
      "Mem before-during-after: 22807040 1943193600 22811136\n"
     ]
    },
    {
     "name": "stderr",
     "output_type": "stream",
     "text": [
      " 46%|██████████████████████████████████████████████████████████████████████████████▎                                                                                            | 201.40594059399766/440 [1:23:35<1:51:18, 27.99s/it]"
     ]
    },
    {
     "name": "stdout",
     "output_type": "stream",
     "text": [
      "Train Epoch: 262 [1280/2508 (51%)]\tLoss: 0.010521\n",
      "Mem before-during-after: 22811136 1942032384 22811136\n"
     ]
    },
    {
     "name": "stderr",
     "output_type": "stream",
     "text": [
      " 46%|██████████████████████████████████████████████████████████████████████████████▌                                                                                            | 201.99999999993756/440 [1:23:50<1:20:36, 20.32s/it]"
     ]
    },
    {
     "name": "stdout",
     "output_type": "stream",
     "text": [
      "\n",
      "Test Epoch: 262\tAccuracy: 565/736 (74%)\n",
      "\n"
     ]
    },
    {
     "name": "stderr",
     "output_type": "stream",
     "text": [
      " 46%|██████████████████████████████████████████████████████████████████████████████▌                                                                                            | 202.01980198013555/440 [1:23:50<1:27:03, 21.95s/it]"
     ]
    },
    {
     "name": "stdout",
     "output_type": "stream",
     "text": [
      "Train Epoch: 263 [0/2508 (0%)]\tLoss: 0.000319\n",
      "Mem before-during-after: 22807040 1943193600 22811136\n"
     ]
    },
    {
     "name": "stderr",
     "output_type": "stream",
     "text": [
      " 46%|███████████████████████████████████████████████████████████████████████████████                                                                                             | 202.4059405939965/440 [1:24:00<1:49:54, 27.75s/it]"
     ]
    },
    {
     "name": "stdout",
     "output_type": "stream",
     "text": [
      "Train Epoch: 263 [1280/2508 (51%)]\tLoss: 0.408571\n",
      "Mem before-during-after: 22811136 1943613440 22811136\n"
     ]
    },
    {
     "name": "stderr",
     "output_type": "stream",
     "text": [
      " 46%|███████████████████████████████████████████████████████████████████████████████▎                                                                                            | 202.9999999999364/440 [1:24:15<1:20:23, 20.35s/it]"
     ]
    },
    {
     "name": "stdout",
     "output_type": "stream",
     "text": [
      "\n",
      "Test Epoch: 263\tAccuracy: 548/736 (72%)\n",
      "\n"
     ]
    },
    {
     "name": "stderr",
     "output_type": "stream",
     "text": [
      " 46%|███████████████████████████████████████████████████████████████████████████████▎                                                                                            | 203.0198019801344/440 [1:24:15<1:24:34, 21.41s/it]"
     ]
    },
    {
     "name": "stdout",
     "output_type": "stream",
     "text": [
      "Train Epoch: 264 [0/2508 (0%)]\tLoss: 0.005045\n",
      "Mem before-during-after: 22807040 1943193600 22811136\n"
     ]
    },
    {
     "name": "stderr",
     "output_type": "stream",
     "text": [
      " 46%|███████████████████████████████████████████████████████████████████████████████                                                                                            | 203.40594059399533/440 [1:24:25<1:49:53, 27.87s/it]"
     ]
    },
    {
     "name": "stdout",
     "output_type": "stream",
     "text": [
      "Train Epoch: 264 [1280/2508 (51%)]\tLoss: 0.008819\n",
      "Mem before-during-after: 22811136 1942032384 22811136\n"
     ]
    },
    {
     "name": "stderr",
     "output_type": "stream",
     "text": [
      " 46%|███████████████████████████████████████████████████████████████████████████████▎                                                                                           | 203.99999999993523/440 [1:24:39<1:19:10, 20.13s/it]"
     ]
    },
    {
     "name": "stdout",
     "output_type": "stream",
     "text": [
      "\n",
      "Test Epoch: 264\tAccuracy: 562/736 (74%)\n",
      "\n"
     ]
    },
    {
     "name": "stderr",
     "output_type": "stream",
     "text": [
      " 46%|███████████████████████████████████████████████████████████████████████████████▎                                                                                           | 204.01980198013322/440 [1:24:40<1:23:22, 21.20s/it]"
     ]
    },
    {
     "name": "stdout",
     "output_type": "stream",
     "text": [
      "Train Epoch: 265 [0/2508 (0%)]\tLoss: 0.049716\n",
      "Mem before-during-after: 22807040 1943193600 22811136\n"
     ]
    },
    {
     "name": "stderr",
     "output_type": "stream",
     "text": [
      " 46%|███████████████████████████████████████████████████████████████████████████████▍                                                                                           | 204.40594059399416/440 [1:24:50<1:50:31, 28.15s/it]"
     ]
    },
    {
     "name": "stdout",
     "output_type": "stream",
     "text": [
      "Train Epoch: 265 [1280/2508 (51%)]\tLoss: 0.007790\n",
      "Mem before-during-after: 22811136 1941254144 22811136\n"
     ]
    },
    {
     "name": "stderr",
     "output_type": "stream",
     "text": [
      " 47%|███████████████████████████████████████████████████████████████████████████████▋                                                                                           | 204.99999999993406/440 [1:25:04<1:22:14, 21.00s/it]"
     ]
    },
    {
     "name": "stdout",
     "output_type": "stream",
     "text": [
      "\n",
      "Test Epoch: 265\tAccuracy: 578/736 (76%)\n",
      "\n"
     ]
    },
    {
     "name": "stderr",
     "output_type": "stream",
     "text": [
      " 47%|███████████████████████████████████████████████████████████████████████████████▋                                                                                           | 205.01980198013206/440 [1:25:05<1:24:48, 21.65s/it]"
     ]
    },
    {
     "name": "stdout",
     "output_type": "stream",
     "text": [
      "Train Epoch: 266 [0/2508 (0%)]\tLoss: 0.001540\n",
      "Mem before-during-after: 22807040 1943193600 22811136\n"
     ]
    },
    {
     "name": "stderr",
     "output_type": "stream",
     "text": [
      " 47%|████████████████████████████████████████████████████████████████████████████████▊                                                                                            | 205.405940593993/440 [1:25:15<1:50:52, 28.36s/it]"
     ]
    },
    {
     "name": "stdout",
     "output_type": "stream",
     "text": [
      "Train Epoch: 266 [1280/2508 (51%)]\tLoss: 0.295876\n",
      "Mem before-during-after: 22811136 1942032384 22811136\n"
     ]
    },
    {
     "name": "stderr",
     "output_type": "stream",
     "text": [
      " 47%|████████████████████████████████████████████████████████████████████████████████▌                                                                                           | 205.9999999999329/440 [1:25:30<1:23:00, 21.28s/it]"
     ]
    },
    {
     "name": "stdout",
     "output_type": "stream",
     "text": [
      "\n",
      "Test Epoch: 266\tAccuracy: 568/736 (75%)\n",
      "\n"
     ]
    },
    {
     "name": "stderr",
     "output_type": "stream",
     "text": [
      " 47%|████████████████████████████████████████████████████████████████████████████████▌                                                                                           | 206.0099009900319/440 [1:25:30<1:28:21, 22.66s/it]"
     ]
    },
    {
     "name": "stdout",
     "output_type": "stream",
     "text": [
      "Train Epoch: 267 [0/2508 (0%)]\tLoss: 0.013863\n",
      "Mem before-during-after: 22807040 1943193600 22811136\n"
     ]
    },
    {
     "name": "stderr",
     "output_type": "stream",
     "text": [
      " 47%|████████████████████████████████████████████████████████████████████████████████▏                                                                                          | 206.40594059399183/440 [1:25:40<1:47:36, 27.64s/it]"
     ]
    },
    {
     "name": "stdout",
     "output_type": "stream",
     "text": [
      "Train Epoch: 267 [1280/2508 (51%)]\tLoss: 0.002064\n",
      "Mem before-during-after: 22811136 1942032384 22811136\n"
     ]
    },
    {
     "name": "stderr",
     "output_type": "stream",
     "text": [
      " 47%|████████████████████████████████████████████████████████████████████████████████▍                                                                                          | 206.99999999993173/440 [1:25:54<1:18:52, 20.31s/it]"
     ]
    },
    {
     "name": "stdout",
     "output_type": "stream",
     "text": [
      "\n",
      "Test Epoch: 267\tAccuracy: 550/736 (72%)\n",
      "\n"
     ]
    },
    {
     "name": "stderr",
     "output_type": "stream",
     "text": [
      " 47%|████████████████████████████████████████████████████████████████████████████████▍                                                                                          | 207.01980198012973/440 [1:25:55<1:22:52, 21.34s/it]"
     ]
    },
    {
     "name": "stdout",
     "output_type": "stream",
     "text": [
      "Train Epoch: 268 [0/2508 (0%)]\tLoss: 0.037228\n",
      "Mem before-during-after: 22807040 1943193600 22811136\n"
     ]
    },
    {
     "name": "stderr",
     "output_type": "stream",
     "text": [
      " 47%|████████████████████████████████████████████████████████████████████████████████▌                                                                                          | 207.40594059399066/440 [1:26:05<1:47:28, 27.72s/it]"
     ]
    },
    {
     "name": "stdout",
     "output_type": "stream",
     "text": [
      "Train Epoch: 268 [1280/2508 (51%)]\tLoss: 0.128650\n",
      "Mem before-during-after: 22811136 1942032384 22811136\n"
     ]
    },
    {
     "name": "stderr",
     "output_type": "stream",
     "text": [
      " 47%|████████████████████████████████████████████████████████████████████████████████▊                                                                                          | 207.99999999993057/440 [1:26:19<1:16:58, 19.91s/it]"
     ]
    },
    {
     "name": "stdout",
     "output_type": "stream",
     "text": [
      "\n",
      "Test Epoch: 268\tAccuracy: 556/736 (73%)\n",
      "\n"
     ]
    },
    {
     "name": "stderr",
     "output_type": "stream",
     "text": [
      " 47%|████████████████████████████████████████████████████████████████████████████████▊                                                                                          | 208.00990099002956/440 [1:26:20<1:25:57, 22.23s/it]"
     ]
    },
    {
     "name": "stdout",
     "output_type": "stream",
     "text": [
      "Train Epoch: 269 [0/2508 (0%)]\tLoss: 0.054379\n",
      "Mem before-during-after: 22807040 1943193600 22811136\n"
     ]
    },
    {
     "name": "stderr",
     "output_type": "stream",
     "text": [
      " 47%|█████████████████████████████████████████████████████████████████████████████████▍                                                                                          | 208.4059405939895/440 [1:26:30<1:47:49, 27.94s/it]"
     ]
    },
    {
     "name": "stdout",
     "output_type": "stream",
     "text": [
      "Train Epoch: 269 [1280/2508 (51%)]\tLoss: 0.510805\n",
      "Mem before-during-after: 22811136 1940102656 22811136\n"
     ]
    },
    {
     "name": "stderr",
     "output_type": "stream",
     "text": [
      " 47%|█████████████████████████████████████████████████████████████████████████████████▋                                                                                          | 208.9999999999294/440 [1:26:45<1:18:09, 20.30s/it]"
     ]
    },
    {
     "name": "stdout",
     "output_type": "stream",
     "text": [
      "\n",
      "Test Epoch: 269\tAccuracy: 566/736 (75%)\n",
      "\n"
     ]
    },
    {
     "name": "stderr",
     "output_type": "stream",
     "text": [
      " 48%|█████████████████████████████████████████████████████████████████████████████████▋                                                                                          | 209.0198019801274/440 [1:26:45<1:22:28, 21.42s/it]"
     ]
    },
    {
     "name": "stdout",
     "output_type": "stream",
     "text": [
      "Train Epoch: 270 [0/2508 (0%)]\tLoss: 0.380077\n",
      "Mem before-during-after: 22807040 1938005504 22811136\n"
     ]
    },
    {
     "name": "stderr",
     "output_type": "stream",
     "text": [
      " 48%|█████████████████████████████████████████████████████████████████████████████████▍                                                                                         | 209.40594059398833/440 [1:26:55<1:46:03, 27.60s/it]"
     ]
    },
    {
     "name": "stdout",
     "output_type": "stream",
     "text": [
      "Train Epoch: 270 [1280/2508 (51%)]\tLoss: 0.009348\n",
      "Mem before-during-after: 22811136 1941516288 22811136\n"
     ]
    },
    {
     "name": "stderr",
     "output_type": "stream",
     "text": [
      " 48%|█████████████████████████████████████████████████████████████████████████████████▌                                                                                         | 209.99999999992824/440 [1:27:09<1:17:45, 20.29s/it]"
     ]
    },
    {
     "name": "stdout",
     "output_type": "stream",
     "text": [
      "\n",
      "Test Epoch: 270\tAccuracy: 581/736 (77%)\n",
      "\n"
     ]
    },
    {
     "name": "stderr",
     "output_type": "stream",
     "text": [
      " 48%|█████████████████████████████████████████████████████████████████████████████████▌                                                                                         | 210.01980198012623/440 [1:27:10<1:23:37, 21.82s/it]"
     ]
    },
    {
     "name": "stdout",
     "output_type": "stream",
     "text": [
      "Train Epoch: 271 [0/2508 (0%)]\tLoss: 0.005240\n",
      "Mem before-during-after: 22807040 1943193600 22811136\n"
     ]
    },
    {
     "name": "stderr",
     "output_type": "stream",
     "text": [
      " 48%|█████████████████████████████████████████████████████████████████████████████████▊                                                                                         | 210.40594059398717/440 [1:27:20<1:46:29, 27.83s/it]"
     ]
    },
    {
     "name": "stdout",
     "output_type": "stream",
     "text": [
      "Train Epoch: 271 [1280/2508 (51%)]\tLoss: 0.000865\n",
      "Mem before-during-after: 22811136 1941254144 22811136\n"
     ]
    },
    {
     "name": "stderr",
     "output_type": "stream",
     "text": [
      " 48%|██████████████████████████████████████████████████████████████████████████████████                                                                                         | 210.99999999992707/440 [1:27:34<1:18:05, 20.46s/it]"
     ]
    },
    {
     "name": "stdout",
     "output_type": "stream",
     "text": [
      "\n",
      "Test Epoch: 271\tAccuracy: 576/736 (76%)\n",
      "\n"
     ]
    },
    {
     "name": "stderr",
     "output_type": "stream",
     "text": [
      " 48%|██████████████████████████████████████████████████████████████████████████████████                                                                                         | 211.00990099002607/440 [1:27:35<1:24:01, 22.02s/it]"
     ]
    },
    {
     "name": "stdout",
     "output_type": "stream",
     "text": [
      "Train Epoch: 272 [0/2508 (0%)]\tLoss: 0.155176\n",
      "Mem before-during-after: 22807040 1943193600 22811136\n"
     ]
    },
    {
     "name": "stderr",
     "output_type": "stream",
     "text": [
      " 48%|███████████████████████████████████████████████████████████████████████████████████                                                                                          | 211.405940593986/440 [1:27:45<1:45:39, 27.73s/it]"
     ]
    },
    {
     "name": "stdout",
     "output_type": "stream",
     "text": [
      "Train Epoch: 272 [1280/2508 (51%)]\tLoss: 0.005501\n",
      "Mem before-during-after: 22811136 1942032384 22811136\n"
     ]
    },
    {
     "name": "stderr",
     "output_type": "stream",
     "text": [
      " 48%|██████████████████████████████████████████████████████████████████████████████████▊                                                                                         | 211.9999999999259/440 [1:27:59<1:16:46, 20.21s/it]"
     ]
    },
    {
     "name": "stdout",
     "output_type": "stream",
     "text": [
      "\n",
      "Test Epoch: 272\tAccuracy: 575/736 (76%)\n",
      "\n"
     ]
    },
    {
     "name": "stderr",
     "output_type": "stream",
     "text": [
      " 48%|██████████████████████████████████████████████████████████████████████████████████▉                                                                                         | 212.0198019801239/440 [1:28:00<1:20:34, 21.21s/it]"
     ]
    },
    {
     "name": "stdout",
     "output_type": "stream",
     "text": [
      "Train Epoch: 273 [0/2508 (0%)]\tLoss: 0.038042\n",
      "Mem before-during-after: 22807040 1943193600 22811136\n"
     ]
    },
    {
     "name": "stderr",
     "output_type": "stream",
     "text": [
      " 48%|██████████████████████████████████████████████████████████████████████████████████▌                                                                                        | 212.40594059398484/440 [1:28:10<1:45:06, 27.71s/it]"
     ]
    },
    {
     "name": "stdout",
     "output_type": "stream",
     "text": [
      "Train Epoch: 273 [1280/2508 (51%)]\tLoss: 0.014035\n",
      "Mem before-during-after: 22811136 1941254144 22811136\n"
     ]
    },
    {
     "name": "stderr",
     "output_type": "stream",
     "text": [
      " 48%|██████████████████████████████████████████████████████████████████████████████████▊                                                                                        | 212.99999999992474/440 [1:28:24<1:15:14, 19.89s/it]"
     ]
    },
    {
     "name": "stdout",
     "output_type": "stream",
     "text": [
      "\n",
      "Test Epoch: 273\tAccuracy: 579/736 (76%)\n",
      "\n"
     ]
    },
    {
     "name": "stderr",
     "output_type": "stream",
     "text": [
      " 48%|██████████████████████████████████████████████████████████████████████████████████▊                                                                                        | 213.01980198012274/440 [1:28:24<1:21:30, 21.55s/it]"
     ]
    },
    {
     "name": "stdout",
     "output_type": "stream",
     "text": [
      "Train Epoch: 274 [0/2508 (0%)]\tLoss: 0.049968\n",
      "Mem before-during-after: 22807040 1943193600 22811136\n"
     ]
    },
    {
     "name": "stderr",
     "output_type": "stream",
     "text": [
      " 49%|██████████████████████████████████████████████████████████████████████████████████▉                                                                                        | 213.40594059398367/440 [1:28:35<1:46:20, 28.16s/it]"
     ]
    },
    {
     "name": "stdout",
     "output_type": "stream",
     "text": [
      "Train Epoch: 274 [1280/2508 (51%)]\tLoss: 0.051493\n",
      "Mem before-during-after: 22811136 1942032384 22811136\n"
     ]
    },
    {
     "name": "stderr",
     "output_type": "stream",
     "text": [
      " 49%|███████████████████████████████████████████████████████████████████████████████████▏                                                                                       | 213.99999999992357/440 [1:28:49<1:16:25, 20.29s/it]"
     ]
    },
    {
     "name": "stdout",
     "output_type": "stream",
     "text": [
      "\n",
      "Test Epoch: 274\tAccuracy: 573/736 (75%)\n",
      "\n"
     ]
    },
    {
     "name": "stderr",
     "output_type": "stream",
     "text": [
      " 49%|███████████████████████████████████████████████████████████████████████████████████▏                                                                                       | 214.00990099002257/440 [1:28:49<1:23:17, 22.12s/it]"
     ]
    },
    {
     "name": "stdout",
     "output_type": "stream",
     "text": [
      "Train Epoch: 275 [0/2508 (0%)]\tLoss: 0.020925\n",
      "Mem before-during-after: 22807040 1943193600 22811136\n"
     ]
    },
    {
     "name": "stderr",
     "output_type": "stream",
     "text": [
      " 49%|███████████████████████████████████████████████████████████████████████████████████▊                                                                                        | 214.4059405939825/440 [1:29:00<1:48:00, 28.73s/it]"
     ]
    },
    {
     "name": "stdout",
     "output_type": "stream",
     "text": [
      "Train Epoch: 275 [1280/2508 (51%)]\tLoss: 0.009160\n",
      "Mem before-during-after: 22811136 1942032384 22811136\n"
     ]
    },
    {
     "name": "stderr",
     "output_type": "stream",
     "text": [
      " 49%|████████████████████████████████████████████████████████████████████████████████████                                                                                        | 214.9999999999224/440 [1:29:14<1:16:31, 20.41s/it]"
     ]
    },
    {
     "name": "stdout",
     "output_type": "stream",
     "text": [
      "\n",
      "Test Epoch: 275\tAccuracy: 549/736 (72%)\n",
      "\n"
     ]
    },
    {
     "name": "stderr",
     "output_type": "stream",
     "text": [
      " 49%|████████████████████████████████████████████████████████████████████████████████████                                                                                        | 215.0099009900214/440 [1:29:14<1:24:14, 22.46s/it]"
     ]
    },
    {
     "name": "stdout",
     "output_type": "stream",
     "text": [
      "Train Epoch: 276 [0/2508 (0%)]\tLoss: 0.866386\n",
      "Mem before-during-after: 22807040 1877665280 22811136\n"
     ]
    },
    {
     "name": "stderr",
     "output_type": "stream",
     "text": [
      " 49%|███████████████████████████████████████████████████████████████████████████████████▋                                                                                       | 215.40594059398134/440 [1:29:25<1:44:39, 27.96s/it]"
     ]
    },
    {
     "name": "stdout",
     "output_type": "stream",
     "text": [
      "Train Epoch: 276 [1280/2508 (51%)]\tLoss: 0.222616\n",
      "Mem before-during-after: 22811136 1941516288 22811136\n"
     ]
    },
    {
     "name": "stderr",
     "output_type": "stream",
     "text": [
      " 49%|███████████████████████████████████████████████████████████████████████████████████▉                                                                                       | 215.99999999992124/440 [1:29:39<1:15:40, 20.27s/it]"
     ]
    },
    {
     "name": "stdout",
     "output_type": "stream",
     "text": [
      "\n",
      "Test Epoch: 276\tAccuracy: 565/736 (74%)\n",
      "\n"
     ]
    },
    {
     "name": "stderr",
     "output_type": "stream",
     "text": [
      " 49%|███████████████████████████████████████████████████████████████████████████████████▉                                                                                       | 216.00990099002024/440 [1:29:39<1:24:51, 22.73s/it]"
     ]
    },
    {
     "name": "stdout",
     "output_type": "stream",
     "text": [
      "Train Epoch: 277 [0/2508 (0%)]\tLoss: 1.211428\n",
      "Mem before-during-after: 22807040 1938005504 22811136\n"
     ]
    },
    {
     "name": "stderr",
     "output_type": "stream",
     "text": [
      " 49%|████████████████████████████████████████████████████████████████████████████████████                                                                                       | 216.40594059398018/440 [1:29:50<1:43:18, 27.72s/it]"
     ]
    },
    {
     "name": "stdout",
     "output_type": "stream",
     "text": [
      "Train Epoch: 277 [1280/2508 (51%)]\tLoss: 0.846209\n",
      "Mem before-during-after: 22811136 1940102656 22811136\n"
     ]
    },
    {
     "name": "stderr",
     "output_type": "stream",
     "text": [
      " 49%|████████████████████████████████████████████████████████████████████████████████████▎                                                                                      | 216.99999999992008/440 [1:30:04<1:13:27, 19.76s/it]"
     ]
    },
    {
     "name": "stdout",
     "output_type": "stream",
     "text": [
      "\n",
      "Test Epoch: 277\tAccuracy: 589/736 (78%)\n",
      "\n"
     ]
    },
    {
     "name": "stderr",
     "output_type": "stream",
     "text": [
      " 49%|████████████████████████████████████████████████████████████████████████████████████▎                                                                                      | 217.00990099001908/440 [1:30:04<1:21:01, 21.80s/it]"
     ]
    },
    {
     "name": "stdout",
     "output_type": "stream",
     "text": [
      "Train Epoch: 278 [0/2508 (0%)]\tLoss: 0.011500\n",
      "Mem before-during-after: 22807040 1943193600 22811136\n"
     ]
    },
    {
     "name": "stderr",
     "output_type": "stream",
     "text": [
      " 49%|█████████████████████████████████████████████████████████████████████████████████████▍                                                                                       | 217.405940593979/440 [1:30:15<1:42:52, 27.73s/it]"
     ]
    },
    {
     "name": "stdout",
     "output_type": "stream",
     "text": [
      "Train Epoch: 278 [1280/2508 (51%)]\tLoss: 0.000845\n",
      "Mem before-during-after: 22811136 1942032384 22811136\n"
     ]
    },
    {
     "name": "stderr",
     "output_type": "stream",
     "text": [
      " 50%|█████████████████████████████████████████████████████████████████████████████████████▏                                                                                      | 217.9999999999189/440 [1:30:29<1:12:51, 19.69s/it]"
     ]
    },
    {
     "name": "stdout",
     "output_type": "stream",
     "text": [
      "\n",
      "Test Epoch: 278\tAccuracy: 584/736 (77%)\n",
      "\n"
     ]
    },
    {
     "name": "stderr",
     "output_type": "stream",
     "text": [
      " 50%|█████████████████████████████████████████████████████████████████████████████████████▏                                                                                      | 218.0198019801169/440 [1:30:29<1:19:10, 21.40s/it]"
     ]
    },
    {
     "name": "stdout",
     "output_type": "stream",
     "text": [
      "Train Epoch: 279 [0/2508 (0%)]\tLoss: 0.770301\n",
      "Mem before-during-after: 22807040 1938005504 22811136\n"
     ]
    },
    {
     "name": "stderr",
     "output_type": "stream",
     "text": [
      " 50%|████████████████████████████████████████████████████████████████████████████████████▉                                                                                      | 218.40594059397785/440 [1:30:39<1:43:11, 27.94s/it]"
     ]
    },
    {
     "name": "stdout",
     "output_type": "stream",
     "text": [
      "Train Epoch: 279 [1280/2508 (51%)]\tLoss: 0.778698\n",
      "Mem before-during-after: 22811136 1940102656 22811136\n"
     ]
    },
    {
     "name": "stderr",
     "output_type": "stream",
     "text": [
      " 50%|█████████████████████████████████████████████████████████████████████████████████████                                                                                      | 218.99999999991775/440 [1:30:54<1:13:36, 19.98s/it]"
     ]
    },
    {
     "name": "stdout",
     "output_type": "stream",
     "text": [
      "\n",
      "Test Epoch: 279\tAccuracy: 551/736 (73%)\n",
      "\n"
     ]
    },
    {
     "name": "stderr",
     "output_type": "stream",
     "text": [
      " 50%|█████████████████████████████████████████████████████████████████████████████████████                                                                                      | 219.00990099001675/440 [1:30:54<1:20:56, 21.98s/it]"
     ]
    },
    {
     "name": "stdout",
     "output_type": "stream",
     "text": [
      "Train Epoch: 280 [0/2508 (0%)]\tLoss: 0.427086\n",
      "Mem before-during-after: 22807040 1943193600 22811136\n"
     ]
    },
    {
     "name": "stderr",
     "output_type": "stream",
     "text": [
      " 50%|█████████████████████████████████████████████████████████████████████████████████████▎                                                                                     | 219.40594059397668/440 [1:31:05<1:43:35, 28.17s/it]"
     ]
    },
    {
     "name": "stdout",
     "output_type": "stream",
     "text": [
      "Train Epoch: 280 [1280/2508 (51%)]\tLoss: 0.054753\n",
      "Mem before-during-after: 22811136 1941254144 22811136\n"
     ]
    },
    {
     "name": "stderr",
     "output_type": "stream",
     "text": [
      " 50%|█████████████████████████████████████████████████████████████████████████████████████▍                                                                                     | 219.99999999991658/440 [1:31:20<1:13:43, 20.11s/it]"
     ]
    },
    {
     "name": "stdout",
     "output_type": "stream",
     "text": [
      "\n",
      "Test Epoch: 280\tAccuracy: 585/736 (77%)\n",
      "\n"
     ]
    },
    {
     "name": "stderr",
     "output_type": "stream",
     "text": [
      " 50%|█████████████████████████████████████████████████████████████████████████████████████▌                                                                                     | 220.00990099001558/440 [1:31:20<1:24:35, 23.07s/it]"
     ]
    },
    {
     "name": "stdout",
     "output_type": "stream",
     "text": [
      "Train Epoch: 281 [0/2508 (0%)]\tLoss: 0.014309\n",
      "Mem before-during-after: 22807040 1943193600 22811136\n"
     ]
    },
    {
     "name": "stderr",
     "output_type": "stream",
     "text": [
      " 50%|█████████████████████████████████████████████████████████████████████████████████████▋                                                                                     | 220.40594059397552/440 [1:31:30<1:44:44, 28.62s/it]"
     ]
    },
    {
     "name": "stdout",
     "output_type": "stream",
     "text": [
      "Train Epoch: 281 [1280/2508 (51%)]\tLoss: 0.000508\n",
      "Mem before-during-after: 22811136 1942032384 22811136\n"
     ]
    },
    {
     "name": "stderr",
     "output_type": "stream",
     "text": [
      " 50%|█████████████████████████████████████████████████████████████████████████████████████▉                                                                                     | 220.99999999991542/440 [1:31:45<1:11:43, 19.65s/it]"
     ]
    },
    {
     "name": "stdout",
     "output_type": "stream",
     "text": [
      "\n",
      "Test Epoch: 281\tAccuracy: 566/736 (75%)\n",
      "\n"
     ]
    },
    {
     "name": "stderr",
     "output_type": "stream",
     "text": [
      " 50%|█████████████████████████████████████████████████████████████████████████████████████▉                                                                                     | 221.00990099001442/440 [1:31:45<1:20:29, 22.06s/it]"
     ]
    },
    {
     "name": "stdout",
     "output_type": "stream",
     "text": [
      "Train Epoch: 282 [0/2508 (0%)]\tLoss: 0.012787\n",
      "Mem before-during-after: 22807040 1943193600 22811136\n"
     ]
    },
    {
     "name": "stderr",
     "output_type": "stream",
     "text": [
      " 50%|██████████████████████████████████████████████████████████████████████████████████████                                                                                     | 221.40594059397435/440 [1:31:56<1:48:25, 29.76s/it]"
     ]
    },
    {
     "name": "stdout",
     "output_type": "stream",
     "text": [
      "Train Epoch: 282 [1280/2508 (51%)]\tLoss: 0.142519\n",
      "Mem before-during-after: 22811136 1942032384 22811136\n"
     ]
    },
    {
     "name": "stderr",
     "output_type": "stream",
     "text": [
      " 50%|██████████████████████████████████████████████████████████████████████████████████████▎                                                                                    | 221.99999999991425/440 [1:32:10<1:13:46, 20.31s/it]"
     ]
    },
    {
     "name": "stdout",
     "output_type": "stream",
     "text": [
      "\n",
      "Test Epoch: 282\tAccuracy: 580/736 (76%)\n",
      "\n"
     ]
    },
    {
     "name": "stderr",
     "output_type": "stream",
     "text": [
      " 50%|██████████████████████████████████████████████████████████████████████████████████████▎                                                                                    | 222.01980198011225/440 [1:32:11<1:20:57, 22.29s/it]"
     ]
    },
    {
     "name": "stdout",
     "output_type": "stream",
     "text": [
      "Train Epoch: 283 [0/2508 (0%)]\tLoss: 0.462762\n",
      "Mem before-during-after: 22807040 1938005504 22811136\n"
     ]
    },
    {
     "name": "stderr",
     "output_type": "stream",
     "text": [
      " 51%|██████████████████████████████████████████████████████████████████████████████████████▍                                                                                    | 222.40594059397318/440 [1:32:21<1:43:33, 28.56s/it]"
     ]
    },
    {
     "name": "stdout",
     "output_type": "stream",
     "text": [
      "Train Epoch: 283 [1280/2508 (51%)]\tLoss: 0.015966\n",
      "Mem before-during-after: 22811136 1941516288 22811136\n"
     ]
    },
    {
     "name": "stderr",
     "output_type": "stream",
     "text": [
      " 51%|███████████████████████████████████████████████████████████████████████████████████████▏                                                                                    | 222.9999999999131/440 [1:32:35<1:11:49, 19.86s/it]"
     ]
    },
    {
     "name": "stdout",
     "output_type": "stream",
     "text": [
      "\n",
      "Test Epoch: 283\tAccuracy: 579/736 (76%)\n",
      "\n"
     ]
    },
    {
     "name": "stderr",
     "output_type": "stream",
     "text": [
      " 51%|██████████████████████████████████████████████████████████████████████████████████████▋                                                                                    | 223.01980198011108/440 [1:32:36<1:17:03, 21.31s/it]"
     ]
    },
    {
     "name": "stdout",
     "output_type": "stream",
     "text": [
      "Train Epoch: 284 [0/2508 (0%)]\tLoss: 0.002900\n",
      "Mem before-during-after: 22807040 1943193600 22811136\n"
     ]
    },
    {
     "name": "stderr",
     "output_type": "stream",
     "text": [
      " 51%|██████████████████████████████████████████████████████████████████████████████████████▊                                                                                    | 223.40594059397202/440 [1:32:46<1:42:07, 28.29s/it]"
     ]
    },
    {
     "name": "stdout",
     "output_type": "stream",
     "text": [
      "Train Epoch: 284 [1280/2508 (51%)]\tLoss: 0.057067\n",
      "Mem before-during-after: 22811136 1941254144 22811136\n"
     ]
    },
    {
     "name": "stderr",
     "output_type": "stream",
     "text": [
      " 51%|███████████████████████████████████████████████████████████████████████████████████████                                                                                    | 223.99999999991192/440 [1:33:01<1:12:34, 20.16s/it]"
     ]
    },
    {
     "name": "stdout",
     "output_type": "stream",
     "text": [
      "\n",
      "Test Epoch: 284\tAccuracy: 580/736 (76%)\n",
      "\n"
     ]
    },
    {
     "name": "stderr",
     "output_type": "stream",
     "text": [
      " 51%|███████████████████████████████████████████████████████████████████████████████████████                                                                                    | 224.01980198010992/440 [1:33:01<1:16:13, 21.18s/it]"
     ]
    },
    {
     "name": "stdout",
     "output_type": "stream",
     "text": [
      "Train Epoch: 285 [0/2508 (0%)]\tLoss: 0.097547\n",
      "Mem before-during-after: 22807040 1943193600 22811136\n"
     ]
    },
    {
     "name": "stderr",
     "output_type": "stream",
     "text": [
      " 51%|███████████████████████████████████████████████████████████████████████████████████████▏                                                                                   | 224.40594059397085/440 [1:33:11<1:43:08, 28.70s/it]"
     ]
    },
    {
     "name": "stdout",
     "output_type": "stream",
     "text": [
      "Train Epoch: 285 [1280/2508 (51%)]\tLoss: 0.006567\n",
      "Mem before-during-after: 22811136 1942032384 22811136\n"
     ]
    },
    {
     "name": "stderr",
     "output_type": "stream",
     "text": [
      " 51%|███████████████████████████████████████████████████████████████████████████████████████▍                                                                                   | 224.99999999991076/440 [1:33:26<1:12:14, 20.16s/it]"
     ]
    },
    {
     "name": "stdout",
     "output_type": "stream",
     "text": [
      "\n",
      "Test Epoch: 285\tAccuracy: 580/736 (76%)\n",
      "\n"
     ]
    },
    {
     "name": "stderr",
     "output_type": "stream",
     "text": [
      " 51%|███████████████████████████████████████████████████████████████████████████████████████▍                                                                                   | 225.00990099000975/440 [1:33:26<1:18:39, 21.95s/it]"
     ]
    },
    {
     "name": "stdout",
     "output_type": "stream",
     "text": [
      "Train Epoch: 286 [0/2508 (0%)]\tLoss: 0.006750\n",
      "Mem before-during-after: 22807040 1943193600 22811136\n"
     ]
    },
    {
     "name": "stderr",
     "output_type": "stream",
     "text": [
      " 51%|████████████████████████████████████████████████████████████████████████████████████████                                                                                    | 225.4059405939697/440 [1:33:37<1:40:52, 28.21s/it]"
     ]
    },
    {
     "name": "stdout",
     "output_type": "stream",
     "text": [
      "Train Epoch: 286 [1280/2508 (51%)]\tLoss: 0.098065\n",
      "Mem before-during-after: 22811136 1941254144 22811136\n"
     ]
    },
    {
     "name": "stderr",
     "output_type": "stream",
     "text": [
      " 51%|████████████████████████████████████████████████████████████████████████████████████████▎                                                                                   | 225.9999999999096/440 [1:33:51<1:10:23, 19.74s/it]"
     ]
    },
    {
     "name": "stdout",
     "output_type": "stream",
     "text": [
      "\n",
      "Test Epoch: 286\tAccuracy: 575/736 (76%)\n",
      "\n"
     ]
    },
    {
     "name": "stderr",
     "output_type": "stream",
     "text": [
      " 51%|████████████████████████████████████████████████████████████████████████████████████████▎                                                                                   | 226.0099009900086/440 [1:33:52<1:17:26, 21.72s/it]"
     ]
    },
    {
     "name": "stdout",
     "output_type": "stream",
     "text": [
      "Train Epoch: 287 [0/2508 (0%)]\tLoss: 0.296371\n",
      "Mem before-during-after: 22807040 1943193600 22811136\n"
     ]
    },
    {
     "name": "stderr",
     "output_type": "stream",
     "text": [
      " 51%|███████████████████████████████████████████████████████████████████████████████████████▉                                                                                   | 226.40594059396852/440 [1:34:02<1:39:43, 28.01s/it]"
     ]
    },
    {
     "name": "stdout",
     "output_type": "stream",
     "text": [
      "Train Epoch: 287 [1280/2508 (51%)]\tLoss: 0.453892\n",
      "Mem before-during-after: 22811136 1941942272 22811136\n"
     ]
    },
    {
     "name": "stderr",
     "output_type": "stream",
     "text": [
      " 52%|████████████████████████████████████████████████████████████████████████████████████████▏                                                                                  | 226.99999999990843/440 [1:34:17<1:16:28, 21.54s/it]"
     ]
    },
    {
     "name": "stdout",
     "output_type": "stream",
     "text": [
      "\n",
      "Test Epoch: 287\tAccuracy: 568/736 (75%)\n",
      "\n"
     ]
    },
    {
     "name": "stderr",
     "output_type": "stream",
     "text": [
      " 52%|████████████████████████████████████████████████████████████████████████████████████████▏                                                                                  | 227.01980198010642/440 [1:34:17<1:16:59, 21.69s/it]"
     ]
    },
    {
     "name": "stdout",
     "output_type": "stream",
     "text": [
      "Train Epoch: 288 [0/2508 (0%)]\tLoss: 0.083588\n",
      "Mem before-during-after: 22807040 1943193600 22811136\n"
     ]
    },
    {
     "name": "stderr",
     "output_type": "stream",
     "text": [
      " 52%|████████████████████████████████████████████████████████████████████████████████████████▍                                                                                  | 227.40594059396736/440 [1:34:27<1:38:15, 27.73s/it]"
     ]
    },
    {
     "name": "stdout",
     "output_type": "stream",
     "text": [
      "Train Epoch: 288 [1280/2508 (51%)]\tLoss: 0.323852\n",
      "Mem before-during-after: 22811136 1942032384 22811136\n"
     ]
    },
    {
     "name": "stderr",
     "output_type": "stream",
     "text": [
      " 52%|████████████████████████████████████████████████████████████████████████████████████████▌                                                                                  | 227.99999999990726/440 [1:34:42<1:10:35, 19.98s/it]"
     ]
    },
    {
     "name": "stdout",
     "output_type": "stream",
     "text": [
      "\n",
      "Test Epoch: 288\tAccuracy: 558/736 (74%)\n",
      "\n"
     ]
    },
    {
     "name": "stderr",
     "output_type": "stream",
     "text": [
      " 52%|████████████████████████████████████████████████████████████████████████████████████████▌                                                                                  | 228.00990099000626/440 [1:34:42<1:16:19, 21.60s/it]"
     ]
    },
    {
     "name": "stdout",
     "output_type": "stream",
     "text": [
      "Train Epoch: 289 [0/2508 (0%)]\tLoss: 0.049129\n",
      "Mem before-during-after: 22807040 1943193600 22811136\n"
     ]
    },
    {
     "name": "stderr",
     "output_type": "stream",
     "text": [
      " 52%|█████████████████████████████████████████████████████████████████████████████████████████▎                                                                                  | 228.4059405939662/440 [1:34:52<1:41:05, 28.67s/it]"
     ]
    },
    {
     "name": "stdout",
     "output_type": "stream",
     "text": [
      "Train Epoch: 289 [1280/2508 (51%)]\tLoss: 0.431441\n",
      "Mem before-during-after: 22811136 1942032384 22811136\n"
     ]
    },
    {
     "name": "stderr",
     "output_type": "stream",
     "text": [
      " 52%|█████████████████████████████████████████████████████████████████████████████████████████▌                                                                                  | 228.9999999999061/440 [1:35:07<1:10:11, 19.96s/it]"
     ]
    },
    {
     "name": "stdout",
     "output_type": "stream",
     "text": [
      "\n",
      "Test Epoch: 289\tAccuracy: 565/736 (74%)\n",
      "\n"
     ]
    },
    {
     "name": "stderr",
     "output_type": "stream",
     "text": [
      " 52%|█████████████████████████████████████████████████████████████████████████████████████████▌                                                                                  | 229.0099009900051/440 [1:35:07<1:16:45, 21.83s/it]"
     ]
    },
    {
     "name": "stdout",
     "output_type": "stream",
     "text": [
      "Train Epoch: 290 [0/2508 (0%)]\tLoss: 0.190955\n",
      "Mem before-during-after: 22807040 1943193600 22811136\n"
     ]
    },
    {
     "name": "stderr",
     "output_type": "stream",
     "text": [
      " 52%|█████████████████████████████████████████████████████████████████████████████████████████▏                                                                                 | 229.40594059396503/440 [1:35:18<1:39:03, 28.22s/it]"
     ]
    },
    {
     "name": "stdout",
     "output_type": "stream",
     "text": [
      "Train Epoch: 290 [1280/2508 (51%)]\tLoss: 0.004248\n",
      "Mem before-during-after: 22811136 1942032384 22811136\n"
     ]
    },
    {
     "name": "stderr",
     "output_type": "stream",
     "text": [
      " 52%|█████████████████████████████████████████████████████████████████████████████████████████▍                                                                                 | 229.99999999990493/440 [1:35:32<1:09:10, 19.76s/it]"
     ]
    },
    {
     "name": "stdout",
     "output_type": "stream",
     "text": [
      "\n",
      "Test Epoch: 290\tAccuracy: 565/736 (74%)\n",
      "\n"
     ]
    },
    {
     "name": "stderr",
     "output_type": "stream",
     "text": [
      " 52%|█████████████████████████████████████████████████████████████████████████████████████████▍                                                                                 | 230.01980198010293/440 [1:35:33<1:14:05, 21.17s/it]"
     ]
    },
    {
     "name": "stdout",
     "output_type": "stream",
     "text": [
      "Train Epoch: 291 [0/2508 (0%)]\tLoss: 0.002814\n",
      "Mem before-during-after: 22807040 1943193600 22811136\n"
     ]
    },
    {
     "name": "stderr",
     "output_type": "stream",
     "text": [
      " 52%|█████████████████████████████████████████████████████████████████████████████████████████▌                                                                                 | 230.40594059396386/440 [1:35:43<1:38:35, 28.23s/it]"
     ]
    },
    {
     "name": "stdout",
     "output_type": "stream",
     "text": [
      "Train Epoch: 291 [1280/2508 (51%)]\tLoss: 0.225326\n",
      "Mem before-during-after: 22811136 1942032384 22811136\n"
     ]
    },
    {
     "name": "stderr",
     "output_type": "stream",
     "text": [
      " 52%|█████████████████████████████████████████████████████████████████████████████████████████▊                                                                                 | 230.99999999990376/440 [1:35:58<1:16:07, 21.85s/it]"
     ]
    },
    {
     "name": "stdout",
     "output_type": "stream",
     "text": [
      "\n",
      "Test Epoch: 291\tAccuracy: 569/736 (75%)\n",
      "\n"
     ]
    },
    {
     "name": "stderr",
     "output_type": "stream",
     "text": [
      " 53%|█████████████████████████████████████████████████████████████████████████████████████████▊                                                                                 | 231.01980198010176/440 [1:35:58<1:17:16, 22.19s/it]"
     ]
    },
    {
     "name": "stdout",
     "output_type": "stream",
     "text": [
      "Train Epoch: 292 [0/2508 (0%)]\tLoss: 1.146020\n",
      "Mem before-during-after: 22807040 1938005504 22811136\n"
     ]
    },
    {
     "name": "stderr",
     "output_type": "stream",
     "text": [
      " 53%|██████████████████████████████████████████████████████████████████████████████████████████▍                                                                                 | 231.4059405939627/440 [1:36:09<1:40:13, 28.83s/it]"
     ]
    },
    {
     "name": "stdout",
     "output_type": "stream",
     "text": [
      "Train Epoch: 292 [1280/2508 (51%)]\tLoss: 0.005859\n",
      "Mem before-during-after: 22811136 1941516288 22811136\n"
     ]
    },
    {
     "name": "stderr",
     "output_type": "stream",
     "text": [
      " 53%|██████████████████████████████████████████████████████████████████████████████████████████▋                                                                                 | 231.9999999999026/440 [1:36:23<1:12:54, 21.03s/it]"
     ]
    },
    {
     "name": "stdout",
     "output_type": "stream",
     "text": [
      "\n",
      "Test Epoch: 292\tAccuracy: 580/736 (76%)\n",
      "\n"
     ]
    },
    {
     "name": "stderr",
     "output_type": "stream",
     "text": [
      " 53%|██████████████████████████████████████████████████████████████████████████████████████████▋                                                                                 | 232.0099009900016/440 [1:36:24<1:17:59, 22.50s/it]"
     ]
    },
    {
     "name": "stdout",
     "output_type": "stream",
     "text": [
      "Train Epoch: 293 [0/2508 (0%)]\tLoss: 0.028497\n",
      "Mem before-during-after: 22807040 1943193600 22811136\n"
     ]
    },
    {
     "name": "stderr",
     "output_type": "stream",
     "text": [
      " 53%|██████████████████████████████████████████████████████████████████████████████████████████▎                                                                                | 232.40594059396153/440 [1:36:34<1:41:55, 29.46s/it]"
     ]
    },
    {
     "name": "stdout",
     "output_type": "stream",
     "text": [
      "Train Epoch: 293 [1280/2508 (51%)]\tLoss: 0.013191\n",
      "Mem before-during-after: 22811136 1942032384 22811136\n"
     ]
    },
    {
     "name": "stderr",
     "output_type": "stream",
     "text": [
      " 53%|██████████████████████████████████████████████████████████████████████████████████████████▌                                                                                | 232.99999999990143/440 [1:36:50<1:15:40, 21.94s/it]"
     ]
    },
    {
     "name": "stdout",
     "output_type": "stream",
     "text": [
      "\n",
      "Test Epoch: 293\tAccuracy: 593/736 (78%)\n",
      "\n"
     ]
    },
    {
     "name": "stderr",
     "output_type": "stream",
     "text": [
      " 53%|██████████████████████████████████████████████████████████████████████████████████████████▌                                                                                | 233.00990099000043/440 [1:36:50<1:21:59, 23.77s/it]"
     ]
    },
    {
     "name": "stdout",
     "output_type": "stream",
     "text": [
      "Train Epoch: 294 [0/2508 (0%)]\tLoss: 0.028408\n",
      "Mem before-during-after: 22807040 1943193600 22811136\n"
     ]
    },
    {
     "name": "stderr",
     "output_type": "stream",
     "text": [
      " 53%|██████████████████████████████████████████████████████████████████████████████████████████▋                                                                                | 233.40594059396037/440 [1:37:01<1:38:50, 28.71s/it]"
     ]
    },
    {
     "name": "stdout",
     "output_type": "stream",
     "text": [
      "Train Epoch: 294 [1280/2508 (51%)]\tLoss: 0.104298\n",
      "Mem before-during-after: 22811136 1941254144 22811136\n"
     ]
    },
    {
     "name": "stderr",
     "output_type": "stream",
     "text": [
      " 53%|██████████████████████████████████████████████████████████████████████████████████████████▉                                                                                | 233.99999999990027/440 [1:37:16<1:09:13, 20.16s/it]"
     ]
    },
    {
     "name": "stdout",
     "output_type": "stream",
     "text": [
      "\n",
      "Test Epoch: 294\tAccuracy: 565/736 (74%)\n",
      "\n"
     ]
    },
    {
     "name": "stderr",
     "output_type": "stream",
     "text": [
      " 53%|██████████████████████████████████████████████████████████████████████████████████████████▉                                                                                | 234.00990098999927/440 [1:37:17<1:19:56, 23.28s/it]"
     ]
    },
    {
     "name": "stdout",
     "output_type": "stream",
     "text": [
      "Train Epoch: 295 [0/2508 (0%)]\tLoss: 0.117653\n",
      "Mem before-during-after: 22807040 1943193600 22811136\n"
     ]
    },
    {
     "name": "stderr",
     "output_type": "stream",
     "text": [
      " 53%|███████████████████████████████████████████████████████████████████████████████████████████▋                                                                                | 234.4059405939592/440 [1:37:27<1:37:33, 28.47s/it]"
     ]
    },
    {
     "name": "stdout",
     "output_type": "stream",
     "text": [
      "Train Epoch: 295 [1280/2508 (51%)]\tLoss: 0.000116\n",
      "Mem before-during-after: 22811136 1942032384 22811136\n"
     ]
    },
    {
     "name": "stderr",
     "output_type": "stream",
     "text": [
      " 53%|███████████████████████████████████████████████████████████████████████████████████████████▊                                                                                | 234.9999999998991/440 [1:37:42<1:10:39, 20.68s/it]"
     ]
    },
    {
     "name": "stdout",
     "output_type": "stream",
     "text": [
      "\n",
      "Test Epoch: 295\tAccuracy: 571/736 (75%)\n",
      "\n"
     ]
    },
    {
     "name": "stderr",
     "output_type": "stream",
     "text": [
      " 53%|███████████████████████████████████████████████████████████████████████████████████████████▊                                                                                | 235.0099009899981/440 [1:37:42<1:15:48, 22.19s/it]"
     ]
    },
    {
     "name": "stdout",
     "output_type": "stream",
     "text": [
      "Train Epoch: 296 [0/2508 (0%)]\tLoss: 0.217584\n",
      "Mem before-during-after: 22807040 1943193600 22811136\n"
     ]
    },
    {
     "name": "stderr",
     "output_type": "stream",
     "text": [
      " 54%|███████████████████████████████████████████████████████████████████████████████████████████▍                                                                               | 235.40594059395804/440 [1:37:53<1:35:16, 27.94s/it]"
     ]
    },
    {
     "name": "stdout",
     "output_type": "stream",
     "text": [
      "Train Epoch: 296 [1280/2508 (51%)]\tLoss: 0.007062\n",
      "Mem before-during-after: 22811136 1941254144 22811136\n"
     ]
    },
    {
     "name": "stderr",
     "output_type": "stream",
     "text": [
      " 54%|███████████████████████████████████████████████████████████████████████████████████████████▋                                                                               | 235.99999999989794/440 [1:38:07<1:08:57, 20.28s/it]"
     ]
    },
    {
     "name": "stdout",
     "output_type": "stream",
     "text": [
      "\n",
      "Test Epoch: 296\tAccuracy: 565/736 (74%)\n",
      "\n"
     ]
    },
    {
     "name": "stderr",
     "output_type": "stream",
     "text": [
      " 54%|███████████████████████████████████████████████████████████████████████████████████████████▋                                                                               | 236.01980198009593/440 [1:38:08<1:12:27, 21.31s/it]"
     ]
    },
    {
     "name": "stdout",
     "output_type": "stream",
     "text": [
      "Train Epoch: 297 [0/2508 (0%)]\tLoss: 0.119111\n",
      "Mem before-during-after: 22807040 1943193600 22811136\n"
     ]
    },
    {
     "name": "stderr",
     "output_type": "stream",
     "text": [
      " 54%|███████████████████████████████████████████████████████████████████████████████████████████▉                                                                               | 236.40594059395687/440 [1:38:18<1:37:06, 28.62s/it]"
     ]
    },
    {
     "name": "stdout",
     "output_type": "stream",
     "text": [
      "Train Epoch: 297 [1280/2508 (51%)]\tLoss: 0.001263\n",
      "Mem before-during-after: 22811136 1942032384 22811136\n"
     ]
    },
    {
     "name": "stderr",
     "output_type": "stream",
     "text": [
      " 54%|████████████████████████████████████████████████████████████████████████████████████████████                                                                               | 236.99999999989677/440 [1:38:33<1:07:16, 19.89s/it]"
     ]
    },
    {
     "name": "stdout",
     "output_type": "stream",
     "text": [
      "\n",
      "Test Epoch: 297\tAccuracy: 576/736 (76%)\n",
      "\n"
     ]
    },
    {
     "name": "stderr",
     "output_type": "stream",
     "text": [
      " 54%|████████████████████████████████████████████████████████████████████████████████████████████                                                                               | 237.01980198009477/440 [1:38:33<1:13:08, 21.62s/it]"
     ]
    },
    {
     "name": "stdout",
     "output_type": "stream",
     "text": [
      "Train Epoch: 298 [0/2508 (0%)]\tLoss: 0.003583\n",
      "Mem before-during-after: 22807040 1943193600 22811136\n"
     ]
    },
    {
     "name": "stderr",
     "output_type": "stream",
     "text": [
      " 54%|████████████████████████████████████████████████████████████████████████████████████████████▊                                                                               | 237.4059405939557/440 [1:38:44<1:35:53, 28.40s/it]"
     ]
    },
    {
     "name": "stdout",
     "output_type": "stream",
     "text": [
      "Train Epoch: 298 [1280/2508 (51%)]\tLoss: 0.463749\n",
      "Mem before-during-after: 22811136 1941942272 22811136\n"
     ]
    },
    {
     "name": "stderr",
     "output_type": "stream",
     "text": [
      " 54%|█████████████████████████████████████████████████████████████████████████████████████████████                                                                               | 237.9999999998956/440 [1:38:59<1:09:58, 20.78s/it]"
     ]
    },
    {
     "name": "stdout",
     "output_type": "stream",
     "text": [
      "\n",
      "Test Epoch: 298\tAccuracy: 578/736 (76%)\n",
      "\n"
     ]
    },
    {
     "name": "stderr",
     "output_type": "stream",
     "text": [
      " 54%|█████████████████████████████████████████████████████████████████████████████████████████████                                                                               | 238.0099009899946/440 [1:38:59<1:18:03, 23.19s/it]"
     ]
    },
    {
     "name": "stdout",
     "output_type": "stream",
     "text": [
      "Train Epoch: 299 [0/2508 (0%)]\tLoss: 0.380144\n",
      "Mem before-during-after: 22807040 1943193600 22811136\n"
     ]
    },
    {
     "name": "stderr",
     "output_type": "stream",
     "text": [
      " 54%|████████████████████████████████████████████████████████████████████████████████████████████▋                                                                              | 238.40594059395454/440 [1:39:10<1:36:17, 28.66s/it]"
     ]
    },
    {
     "name": "stdout",
     "output_type": "stream",
     "text": [
      "Train Epoch: 299 [1280/2508 (51%)]\tLoss: 0.057201\n",
      "Mem before-during-after: 22811136 1942032384 22811136\n"
     ]
    },
    {
     "name": "stderr",
     "output_type": "stream",
     "text": [
      " 54%|████████████████████████████████████████████████████████████████████████████████████████████▉                                                                              | 238.99999999989444/440 [1:39:25<1:24:13, 25.14s/it]"
     ]
    },
    {
     "name": "stdout",
     "output_type": "stream",
     "text": [
      "\n",
      "Test Epoch: 299\tAccuracy: 579/736 (76%)\n",
      "\n"
     ]
    },
    {
     "name": "stderr",
     "output_type": "stream",
     "text": [
      " 54%|████████████████████████████████████████████████████████████████████████████████████████████▉                                                                              | 239.01980198009244/440 [1:39:25<1:19:02, 23.60s/it]"
     ]
    },
    {
     "name": "stdout",
     "output_type": "stream",
     "text": [
      "Train Epoch: 300 [0/2508 (0%)]\tLoss: 0.049855\n",
      "Mem before-during-after: 22807040 1943193600 22811136\n"
     ]
    },
    {
     "name": "stderr",
     "output_type": "stream",
     "text": [
      " 54%|█████████████████████████████████████████████████████████████████████████████████████████████                                                                              | 239.40594059395337/440 [1:39:35<1:33:56, 28.10s/it]"
     ]
    },
    {
     "name": "stdout",
     "output_type": "stream",
     "text": [
      "Train Epoch: 300 [1280/2508 (51%)]\tLoss: 0.002933\n",
      "Mem before-during-after: 22811136 1941254144 22811136\n"
     ]
    },
    {
     "name": "stderr",
     "output_type": "stream",
     "text": [
      " 55%|█████████████████████████████████████████████████████████████████████████████████████████████▎                                                                             | 239.99999999989328/440 [1:39:50<1:08:07, 20.44s/it]"
     ]
    },
    {
     "name": "stdout",
     "output_type": "stream",
     "text": [
      "\n",
      "Test Epoch: 300\tAccuracy: 559/736 (74%)\n",
      "\n"
     ]
    },
    {
     "name": "stderr",
     "output_type": "stream",
     "text": [
      " 55%|█████████████████████████████████████████████████████████████████████████████████████████████▎                                                                             | 240.01980198009127/440 [1:39:50<1:19:27, 23.84s/it]"
     ]
    },
    {
     "name": "stdout",
     "output_type": "stream",
     "text": [
      "Train Epoch: 301 [0/2508 (0%)]\tLoss: 0.008960\n",
      "Mem before-during-after: 22807040 1943193600 22811136\n"
     ]
    },
    {
     "name": "stderr",
     "output_type": "stream",
     "text": [
      " 55%|█████████████████████████████████████████████████████████████████████████████████████████████▉                                                                              | 240.4059405939522/440 [1:40:01<1:33:32, 28.12s/it]"
     ]
    },
    {
     "name": "stdout",
     "output_type": "stream",
     "text": [
      "Train Epoch: 301 [1280/2508 (51%)]\tLoss: 0.049968\n",
      "Mem before-during-after: 22811136 1942032384 22811136\n"
     ]
    },
    {
     "name": "stderr",
     "output_type": "stream",
     "text": [
      " 55%|██████████████████████████████████████████████████████████████████████████████████████████████▏                                                                             | 240.9999999998921/440 [1:40:15<1:07:36, 20.38s/it]"
     ]
    },
    {
     "name": "stdout",
     "output_type": "stream",
     "text": [
      "\n",
      "Test Epoch: 301\tAccuracy: 578/736 (76%)\n",
      "\n"
     ]
    },
    {
     "name": "stderr",
     "output_type": "stream",
     "text": [
      " 55%|██████████████████████████████████████████████████████████████████████████████████████████████▏                                                                             | 241.0099009899911/440 [1:40:15<1:16:22, 23.03s/it]"
     ]
    },
    {
     "name": "stdout",
     "output_type": "stream",
     "text": [
      "Train Epoch: 302 [0/2508 (0%)]\tLoss: 0.008073\n",
      "Mem before-during-after: 22807040 1943193600 22811136\n"
     ]
    },
    {
     "name": "stderr",
     "output_type": "stream",
     "text": [
      " 55%|█████████████████████████████████████████████████████████████████████████████████████████████▊                                                                             | 241.40594059395104/440 [1:40:27<1:33:20, 28.20s/it]"
     ]
    },
    {
     "name": "stdout",
     "output_type": "stream",
     "text": [
      "Train Epoch: 302 [1280/2508 (51%)]\tLoss: 0.233271\n",
      "Mem before-during-after: 22811136 1941942272 22811136\n"
     ]
    },
    {
     "name": "stderr",
     "output_type": "stream",
     "text": [
      " 55%|██████████████████████████████████████████████████████████████████████████████████████████████                                                                             | 241.99999999989095/440 [1:40:41<1:08:18, 20.70s/it]"
     ]
    },
    {
     "name": "stdout",
     "output_type": "stream",
     "text": [
      "\n",
      "Test Epoch: 302\tAccuracy: 578/736 (76%)\n",
      "\n"
     ]
    },
    {
     "name": "stderr",
     "output_type": "stream",
     "text": [
      " 55%|██████████████████████████████████████████████████████████████████████████████████████████████                                                                             | 242.01980198008894/440 [1:40:42<1:11:12, 21.58s/it]"
     ]
    },
    {
     "name": "stdout",
     "output_type": "stream",
     "text": [
      "Train Epoch: 303 [0/2508 (0%)]\tLoss: 0.007982\n",
      "Mem before-during-after: 22807040 1943193600 22811136\n"
     ]
    },
    {
     "name": "stderr",
     "output_type": "stream",
     "text": [
      " 55%|██████████████████████████████████████████████████████████████████████████████████████████████▏                                                                            | 242.40594059394988/440 [1:40:52<1:32:28, 28.08s/it]"
     ]
    },
    {
     "name": "stdout",
     "output_type": "stream",
     "text": [
      "Train Epoch: 303 [1280/2508 (51%)]\tLoss: 0.307883\n",
      "Mem before-during-after: 22811136 1941942272 22811136\n"
     ]
    },
    {
     "name": "stderr",
     "output_type": "stream",
     "text": [
      " 55%|██████████████████████████████████████████████████████████████████████████████████████████████▍                                                                            | 242.99999999988978/440 [1:41:07<1:05:26, 19.93s/it]"
     ]
    },
    {
     "name": "stdout",
     "output_type": "stream",
     "text": [
      "\n",
      "Test Epoch: 303\tAccuracy: 567/736 (75%)\n",
      "\n"
     ]
    },
    {
     "name": "stderr",
     "output_type": "stream",
     "text": [
      " 55%|██████████████████████████████████████████████████████████████████████████████████████████████▍                                                                            | 243.01980198008778/440 [1:41:07<1:12:53, 22.20s/it]"
     ]
    },
    {
     "name": "stdout",
     "output_type": "stream",
     "text": [
      "Train Epoch: 304 [0/2508 (0%)]\tLoss: 0.015021\n",
      "Mem before-during-after: 22807040 1943193600 22811136\n"
     ]
    },
    {
     "name": "stderr",
     "output_type": "stream",
     "text": [
      " 55%|███████████████████████████████████████████████████████████████████████████████████████████████▏                                                                            | 243.4059405939487/440 [1:41:18<1:32:21, 28.19s/it]"
     ]
    },
    {
     "name": "stdout",
     "output_type": "stream",
     "text": [
      "Train Epoch: 304 [1280/2508 (51%)]\tLoss: 0.044092\n",
      "Mem before-during-after: 22811136 1941254144 22811136\n"
     ]
    },
    {
     "name": "stderr",
     "output_type": "stream",
     "text": [
      " 55%|██████████████████████████████████████████████████████████████████████████████████████████████▊                                                                            | 243.99999999988862/440 [1:41:32<1:08:43, 21.04s/it]"
     ]
    },
    {
     "name": "stdout",
     "output_type": "stream",
     "text": [
      "\n",
      "Test Epoch: 304\tAccuracy: 553/736 (73%)\n",
      "\n"
     ]
    },
    {
     "name": "stderr",
     "output_type": "stream",
     "text": [
      " 55%|███████████████████████████████████████████████████████████████████████████████████████████████▍                                                                            | 244.0198019800866/440 [1:41:32<1:10:55, 21.71s/it]"
     ]
    },
    {
     "name": "stdout",
     "output_type": "stream",
     "text": [
      "Train Epoch: 305 [0/2508 (0%)]\tLoss: 0.111135\n",
      "Mem before-during-after: 22807040 1943193600 22811136\n"
     ]
    },
    {
     "name": "stderr",
     "output_type": "stream",
     "text": [
      " 56%|██████████████████████████████████████████████████████████████████████████████████████████████▉                                                                            | 244.40594059394755/440 [1:41:43<1:34:55, 29.12s/it]"
     ]
    },
    {
     "name": "stdout",
     "output_type": "stream",
     "text": [
      "Train Epoch: 305 [1280/2508 (51%)]\tLoss: 0.001277\n",
      "Mem before-during-after: 22811136 1942032384 22811136\n"
     ]
    },
    {
     "name": "stderr",
     "output_type": "stream",
     "text": [
      " 56%|███████████████████████████████████████████████████████████████████████████████████████████████▏                                                                           | 244.99999999988745/440 [1:41:58<1:09:37, 21.42s/it]"
     ]
    },
    {
     "name": "stdout",
     "output_type": "stream",
     "text": [
      "\n",
      "Test Epoch: 305\tAccuracy: 566/736 (75%)\n",
      "\n"
     ]
    },
    {
     "name": "stderr",
     "output_type": "stream",
     "text": [
      " 56%|███████████████████████████████████████████████████████████████████████████████████████████████▏                                                                           | 245.01980198008545/440 [1:41:59<1:11:13, 21.92s/it]"
     ]
    },
    {
     "name": "stdout",
     "output_type": "stream",
     "text": [
      "Train Epoch: 306 [0/2508 (0%)]\tLoss: 0.498288\n",
      "Mem before-during-after: 22807040 1938005504 22811136\n"
     ]
    },
    {
     "name": "stderr",
     "output_type": "stream",
     "text": [
      " 56%|███████████████████████████████████████████████████████████████████████████████████████████████▎                                                                           | 245.40594059394638/440 [1:42:10<1:32:34, 28.54s/it]"
     ]
    },
    {
     "name": "stdout",
     "output_type": "stream",
     "text": [
      "Train Epoch: 306 [1280/2508 (51%)]\tLoss: 0.000305\n",
      "Mem before-during-after: 22811136 1941516288 22811136\n"
     ]
    },
    {
     "name": "stderr",
     "output_type": "stream",
     "text": [
      " 56%|███████████████████████████████████████████████████████████████████████████████████████████████▌                                                                           | 245.99999999988628/440 [1:42:25<1:07:43, 20.95s/it]"
     ]
    },
    {
     "name": "stdout",
     "output_type": "stream",
     "text": [
      "\n",
      "Test Epoch: 306\tAccuracy: 585/736 (77%)\n",
      "\n"
     ]
    },
    {
     "name": "stderr",
     "output_type": "stream",
     "text": [
      " 56%|███████████████████████████████████████████████████████████████████████████████████████████████▌                                                                           | 246.01980198008428/440 [1:42:25<1:11:02, 21.97s/it]"
     ]
    },
    {
     "name": "stdout",
     "output_type": "stream",
     "text": [
      "Train Epoch: 307 [0/2508 (0%)]\tLoss: 0.009212\n",
      "Mem before-during-after: 22807040 1943193600 22811136\n"
     ]
    },
    {
     "name": "stderr",
     "output_type": "stream",
     "text": [
      " 56%|███████████████████████████████████████████████████████████████████████████████████████████████▋                                                                           | 246.12871287117326/440 [1:42:28<1:25:53, 26.58s/it]Exception ignored in: <bound method IPythonKernel._clean_thread_parent_frames of <ipykernel.ipkernel.IPythonKernel object at 0x7fdb747510a0>>\n",
      "Traceback (most recent call last):\n",
      "  File \"/opt/anaconda3/envs/audio/lib/python3.9/site-packages/ipykernel/ipkernel.py\", line 770, in _clean_thread_parent_frames\n",
      "    def _clean_thread_parent_frames(\n",
      "KeyboardInterrupt: \n",
      " 56%|███████████████████████████████████████████████████████████████████████████████████████████████▋                                                                           | 246.17821782166826/440 [1:42:29<1:20:42, 24.98s/it]\n",
      "\n",
      "KeyboardInterrupt\n",
      "\n"
     ]
    }
   ],
   "source": [
    "n_epoch = 10\n",
    "n_epoch2 = 50\n",
    "n_epoch3 = 440\n",
    "# train_losses = []\n",
    "# test_accuracy = []\n",
    "\n",
    "optimizer = optim.RAdam(model.parameters(), lr=0.00001)\n",
    "scheduler = optim.lr_scheduler.OneCycleLR(\n",
    "    optimizer, max_lr=0.05, pct_start=0.3,\n",
    "    steps_per_epoch=len(train_loader), epochs=n_epoch3)\n",
    "log_interval = 40\n",
    "pbar_update = 1 / (len(train_loader) + len(test_loader))\n",
    "model.to(device)\n",
    "with tqdm(total=n_epoch3) as pbar:\n",
    "    for epoch in range(1+n_epoch+n_epoch2, n_epoch3+n_epoch2 + n_epoch + 1):\n",
    "        train(model, epoch, log_interval, train_losses)\n",
    "        acc = test(model, epoch)\n",
    "        test_accuracy += [acc]\n",
    "        if acc > best_accuracy:\n",
    "            best_accuracy = acc\n",
    "            bmodel_path = f'{model_path_prefix}{epoch}epoch.pt'\n",
    "            torch.save(model.state_dict(), bmodel_path)\n",
    "            print(f'saved model: {bmodel_path}')\n",
    "        scheduler.step()"
   ]
  },
  {
   "cell_type": "code",
   "execution_count": 34,
   "id": "3b498fed-941f-4e07-aab8-4a36e23ae5ad",
   "metadata": {},
   "outputs": [],
   "source": [
    "np.save('../models_cremad3/cremad3_m12new_306epochs_train_losses.npy', train_losses, allow_pickle=True)\n",
    "np.save('../models_cremad3/cremad3_m12new_306epochs_test_accuracy.npy', test_accuracy, allow_pickle=True)"
   ]
  },
  {
   "cell_type": "code",
   "execution_count": 35,
   "id": "7ef77346-3959-4699-bc33-7e49754cd179",
   "metadata": {},
   "outputs": [
    {
     "data": {
      "text/plain": [
       "[<matplotlib.lines.Line2D at 0x7fd9d5bed310>]"
      ]
     },
     "execution_count": 35,
     "metadata": {},
     "output_type": "execute_result"
    },
    {
     "data": {
      "image/png": "[encoded data removed]",
      "text/plain": [
       "<Figure size 640x480 with 1 Axes>"
      ]
     },
     "metadata": {},
     "output_type": "display_data"
    }
   ],
   "source": [
    "plt.plot(train_losses)"
   ]
  },
  {
   "cell_type": "code",
   "execution_count": 36,
   "id": "c7cff889-2c4a-421e-a684-ebc23f9d4459",
   "metadata": {},
   "outputs": [
    {
     "data": {
      "text/plain": [
       "[<matplotlib.lines.Line2D at 0x7fd9d5b61580>]"
      ]
     },
     "execution_count": 36,
     "metadata": {},
     "output_type": "execute_result"
    },
    {
     "data": {
      "image/png": "[encoded data removed]",
      "text/plain": [
       "<Figure size 640x480 with 1 Axes>"
      ]
     },
     "metadata": {},
     "output_type": "display_data"
    }
   ],
   "source": [
    "plt.plot(test_accuracy)"
   ]
  },
  {
   "cell_type": "code",
   "execution_count": 37,
   "id": "27c51821-0100-47b1-ba9d-78e64f5c7075",
   "metadata": {},
   "outputs": [
    {
     "name": "stdout",
     "output_type": "stream",
     "text": [
      "Correct: 534/736 (0.7255)\n",
      "{'acc_detail': tensor([0.9087, 0.5113, 0.7222], device='cuda:0'),\n",
      " 'acc_unweighted': tensor(0.7141, device='cuda:0'),\n",
      " 'acc_weighted': tensor(0.7255, device='cuda:0'),\n",
      " 'f1s': tensor(0.7103, device='cuda:0'),\n",
      " 'f1s_detail': tensor([0.7993, 0.5780, 0.7536], device='cuda:0'),\n",
      " 'precision_detail': tensor([0.7134, 0.6647, 0.7879], device='cuda:0'),\n",
      " 'recall_detail': tensor([0.9087, 0.5113, 0.7222], device='cuda:0'),\n",
      " 'rocauc': tensor([0.9392, 0.8445, 0.8891], device='cuda:0'),\n",
      " 'uar': tensor(0.7141, device='cuda:0'),\n",
      " 'wap': tensor(0.7243, device='cuda:0')}\n"
     ]
    },
    {
     "data": {
      "text/plain": [
       "tensor([[239,  19,   5],\n",
       "        [ 64, 113,  44],\n",
       "        [ 32,  38, 182]], device='cuda:0')"
      ]
     },
     "execution_count": 37,
     "metadata": {},
     "output_type": "execute_result"
    }
   ],
   "source": [
    "metrics3, confusion_matrix3 = report_metrics(\n",
    "    model, labels=labels, device=device)\n",
    "pprint(metrics3.compute())\n",
    "confusion_matrix3.compute()"
   ]
  },
  {
   "cell_type": "code",
   "execution_count": 38,
   "id": "95d7600a-bdeb-4fd1-b95e-8ace24c85b5a",
   "metadata": {},
   "outputs": [
    {
     "name": "stdout",
     "output_type": "stream",
     "text": [
      "Correct: 611/736 (0.8302)\n",
      "{'acc_detail': tensor([0.8365, 0.8462, 0.8095], device='cuda:0'),\n",
      " 'acc_unweighted': tensor(0.8307, device='cuda:0'),\n",
      " 'acc_weighted': tensor(0.8302, device='cuda:0'),\n",
      " 'f1s': tensor(0.8304, device='cuda:0'),\n",
      " 'f1s_detail': tensor([0.8980, 0.7556, 0.8378], device='cuda:0'),\n",
      " 'precision_detail': tensor([0.9692, 0.6825, 0.8681], device='cuda:0'),\n",
      " 'recall_detail': tensor([0.8365, 0.8462, 0.8095], device='cuda:0'),\n",
      " 'rocauc': tensor([0.9729, 0.8999, 0.9437], device='cuda:0'),\n",
      " 'uar': tensor(0.8307, device='cuda:0'),\n",
      " 'wap': tensor(0.8485, device='cuda:0')}\n"
     ]
    },
    {
     "data": {
      "text/plain": [
       "tensor([[220,  41,   2],\n",
       "        [  5, 187,  29],\n",
       "        [  2,  46, 204]], device='cuda:0')"
      ]
     },
     "execution_count": 38,
     "metadata": {},
     "output_type": "execute_result"
    }
   ],
   "source": [
    "best_epoch = 121\n",
    "model.to('cpu')\n",
    "best_model_path = f'{model_path_prefix}{best_epoch}epoch.pt'\n",
    "best_model = M12(config=model_config,\n",
    "           n_input=1, n_output=len(labels))\n",
    "best_model.load_state_dict(torch.load(best_model_path))\n",
    "best_model.to(device)\n",
    "\n",
    "metrics_best, confusion_matrix_best = report_metrics(\n",
    "    best_model, labels=labels, device=device)\n",
    "best_model.to('cpu')\n",
    "pprint(metrics_best.compute())\n",
    "confusion_matrix_best.compute()"
   ]
  },
  {
   "cell_type": "code",
   "execution_count": null,
   "id": "1f4b8746-a12c-44f7-81ac-a2936668e274",
   "metadata": {},
   "outputs": [],
   "source": []
  },
  {
   "cell_type": "code",
   "execution_count": null,
   "id": "0b814e02-01f7-41fd-8cd6-ab5f71323626",
   "metadata": {},
   "outputs": [],
   "source": []
  }
 ],
 "metadata": {
  "kernelspec": {
   "display_name": "Python 3 (ipykernel)",
   "language": "python",
   "name": "python3"
  },
  "language_info": {
   "codemirror_mode": {
    "name": "ipython",
    "version": 3
   },
   "file_extension": ".py",
   "mimetype": "text/x-python",
   "name": "python",
   "nbconvert_exporter": "python",
   "pygments_lexer": "ipython3",
   "version": "3.9.18"
  }
 },
 "nbformat": 4,
 "nbformat_minor": 5
}
