{
 "cells": [
  {
   "cell_type": "code",
   "execution_count": 1,
   "id": "c0679af4-cca6-45b4-932a-e8e2ab37956e",
   "metadata": {},
   "outputs": [
    {
     "name": "stdout",
     "output_type": "stream",
     "text": [
      "Sat Feb 24 22:42:39 2024       \n",
      "+---------------------------------------------------------------------------------------+\n",
      "| NVIDIA-SMI 545.23.08              Driver Version: 545.23.08    CUDA Version: 12.3     |\n",
      "|-----------------------------------------+----------------------+----------------------+\n",
      "| GPU  Name                 Persistence-M | Bus-Id        Disp.A | Volatile Uncorr. ECC |\n",
      "| Fan  Temp   Perf          Pwr:Usage/Cap |         Memory-Usage | GPU-Util  Compute M. |\n",
      "|                                         |                      |               MIG M. |\n",
      "|=========================================+======================+======================|\n",
      "|   0  NVIDIA GeForce RTX 2080        On  | 00000000:01:00.0  On |                  N/A |\n",
      "| 32%   49C    P8              22W / 215W |   1519MiB /  8192MiB |      3%      Default |\n",
      "|                                         |                      |                  N/A |\n",
      "+-----------------------------------------+----------------------+----------------------+\n",
      "                                                                                         \n",
      "+---------------------------------------------------------------------------------------+\n",
      "| Processes:                                                                            |\n",
      "|  GPU   GI   CI        PID   Type   Process name                            GPU Memory |\n",
      "|        ID   ID                                                             Usage      |\n",
      "|=======================================================================================|\n",
      "|    0   N/A  N/A      1887      G   /usr/lib/xorg/Xorg                          188MiB |\n",
      "|    0   N/A  N/A      2033      G   /usr/bin/gnome-shell                         29MiB |\n",
      "|    0   N/A  N/A   1076924      G   /usr/lib/xorg/Xorg                           35MiB |\n",
      "|    0   N/A  N/A   1080375      G   ...seed-version=20240215-080116.052000       73MiB |\n",
      "|    0   N/A  N/A   1080394      G   ...sion,SpareRendererForSitePerProcess       47MiB |\n",
      "|    0   N/A  N/A   2546595      C   /opt/anaconda3/envs/audio/bin/python        268MiB |\n",
      "|    0   N/A  N/A   3012655      C   /opt/anaconda3/envs/audio/bin/python        736MiB |\n",
      "+---------------------------------------------------------------------------------------+\n"
     ]
    }
   ],
   "source": [
    "!nvidia-smi"
   ]
  },
  {
   "cell_type": "code",
   "execution_count": 2,
   "id": "dc8bb018-168b-404a-a403-7d0b2b9398e7",
   "metadata": {},
   "outputs": [],
   "source": [
    "%load_ext autoreload\n",
    "%autoreload 2"
   ]
  },
  {
   "cell_type": "code",
   "execution_count": 3,
   "id": "e107b42a-ac0a-4acf-a451-779da84d093a",
   "metadata": {},
   "outputs": [
    {
     "data": {
      "text/plain": [
       "'/home/linh/projects/IConNet'"
      ]
     },
     "execution_count": 3,
     "metadata": {},
     "output_type": "execute_result"
    }
   ],
   "source": [
    "import os\n",
    "os.chdir('..')\n",
    "os.getcwd()"
   ]
  },
  {
   "cell_type": "code",
   "execution_count": 4,
   "id": "2ed417a9-d4c6-4d6e-8a7d-dd76c339414a",
   "metadata": {},
   "outputs": [
    {
     "name": "stdout",
     "output_type": "stream",
     "text": [
      "cuda\n"
     ]
    }
   ],
   "source": [
    "os.environ[\"PYTORCH_CUDA_ALLOC_CONF\"] = \"max_split_size_mb:512\"\n",
    "import gc\n",
    "import torch\n",
    "import torch.nn as nn\n",
    "import torch.nn.functional as F\n",
    "import torch.optim as optim\n",
    "import sys\n",
    "device = torch.device(\"cuda\" if torch.cuda.is_available() else \"cpu\")\n",
    "print(device)"
   ]
  },
  {
   "cell_type": "code",
   "execution_count": 5,
   "id": "2c663b14-6fe4-4086-8154-255dbf51fcf8",
   "metadata": {},
   "outputs": [],
   "source": [
    "import numpy as np\n",
    "from tqdm import tqdm\n",
    "import matplotlib.pyplot as plt\n",
    "import pandas as pd\n",
    "\n",
    "# Scikit learn\n",
    "from sklearn.model_selection import train_test_split\n",
    "from sklearn.preprocessing import LabelEncoder\n",
    "from sklearn.utils import shuffle\n",
    "\n",
    "import warnings\n",
    "warnings.filterwarnings('ignore', category=FutureWarning)"
   ]
  },
  {
   "cell_type": "code",
   "execution_count": 6,
   "id": "423b758e-4a7b-4e2f-b1af-17984d46e197",
   "metadata": {},
   "outputs": [],
   "source": [
    "sr = 16000\n",
    "data_dir = '../data/data_preprocessed/meld/features_4balanced/'\n",
    "data_x = np.load(f'{data_dir}meld.audio16k.npy', allow_pickle=True)\n",
    "data_y = np.load(f'{data_dir}meld.label_emotion.npy', allow_pickle=True)"
   ]
  },
  {
   "cell_type": "code",
   "execution_count": 7,
   "id": "0f6f42fc-de0d-4400-b7c0-1f28870ae77b",
   "metadata": {},
   "outputs": [
    {
     "name": "stdout",
     "output_type": "stream",
     "text": [
      "8499\n",
      "8499\n"
     ]
    }
   ],
   "source": [
    "print(len(data_x))\n",
    "print(len(data_y))"
   ]
  },
  {
   "cell_type": "code",
   "execution_count": 8,
   "id": "416a13c1-589c-43c1-b18f-522e03879b16",
   "metadata": {},
   "outputs": [
    {
     "data": {
      "text/plain": [
       "[0, 1, 2, 3]"
      ]
     },
     "execution_count": 8,
     "metadata": {},
     "output_type": "execute_result"
    }
   ],
   "source": [
    "labels = list(np.unique(data_y))\n",
    "labels"
   ]
  },
  {
   "cell_type": "code",
   "execution_count": 9,
   "id": "bc812773-08dd-43a8-8bcb-071f2b21f793",
   "metadata": {},
   "outputs": [
    {
     "name": "stdout",
     "output_type": "stream",
     "text": [
      "(6776,)\n"
     ]
    }
   ],
   "source": [
    "classnames = ['ang', 'hap', 'neu', 'sad']\n",
    "emo3_labels = ['ang', 'neu', 'sad']\n",
    "\n",
    "def label_filter(idx):\n",
    "    return classnames[idx] in emo3_labels\n",
    "\n",
    "def label_to_index(idx):\n",
    "    return emo3_labels.index(classnames[idx])\n",
    "    \n",
    "filtered_idx = [label_filter(idx) for idx in data_y]\n",
    "data_x = data_x[filtered_idx]\n",
    "data_y = [label_to_index(idx) for idx in data_y[filtered_idx]]\n",
    "print(data_x.shape)"
   ]
  },
  {
   "cell_type": "code",
   "execution_count": 10,
   "id": "446f6460-b2b5-4f37-ad7f-b237bdb6c489",
   "metadata": {},
   "outputs": [
    {
     "name": "stdout",
     "output_type": "stream",
     "text": [
      "Train: 5420\n",
      "Test: 1356\n"
     ]
    }
   ],
   "source": [
    "x_train, x_test, y_train, y_test = train_test_split(\n",
    "    data_x, data_y, test_size=0.2, random_state=42, stratify=data_y)\n",
    "print(\"Train: %i\" % len(x_train))\n",
    "print(\"Test: %i\" % len(x_test))"
   ]
  },
  {
   "cell_type": "code",
   "execution_count": 11,
   "id": "a0f78512-9222-41be-ae1d-09eca3e30422",
   "metadata": {},
   "outputs": [],
   "source": [
    "train_set = list(zip(x_train, y_train))\n",
    "test_set = list(zip(x_test, y_test))"
   ]
  },
  {
   "cell_type": "code",
   "execution_count": 12,
   "id": "b055b1e3-4133-468e-9c74-9612787a6294",
   "metadata": {},
   "outputs": [],
   "source": [
    "labels = emo3_labels"
   ]
  },
  {
   "cell_type": "code",
   "execution_count": 13,
   "id": "689e3d0a-2bc7-4a47-8991-4a5ae7004c52",
   "metadata": {},
   "outputs": [],
   "source": [
    "def pad_sequence(batch):\n",
    "    # Make all tensor in a batch the same length by padding with zeros\n",
    "    batch = [item.t() for item in batch]\n",
    "    batch = torch.nn.utils.rnn.pad_sequence(\n",
    "        batch, batch_first=True, padding_value=0.)\n",
    "    return batch.permute(0, 2, 1)\n",
    "\n",
    "\n",
    "def collate_fn(batch, max_duration_in_second=3, sample_rate=sr):\n",
    "    tensors, targets = [], []\n",
    "\n",
    "    # Gather in lists, and encode labels as indices\n",
    "    for waveform, label in batch:\n",
    "        if max_duration_in_second is not None:\n",
    "            length = len(waveform)\n",
    "            max_length = sample_rate * max_duration_in_second\n",
    "            offset = max(0, (length - max_length) // 2)\n",
    "            waveform = [waveform[offset: length-offset]]\n",
    "        tensors += [torch.tensor(\n",
    "            np.array(waveform, dtype=float).squeeze(), \n",
    "            dtype=torch.float32)[None,:]]\n",
    "        targets += [torch.tensor(label, \n",
    "                                 dtype=torch.long)]\n",
    "\n",
    "    # Group the list of tensors into a batched tensor\n",
    "    tensors = pad_sequence(tensors)\n",
    "    targets = torch.stack(targets)\n",
    "\n",
    "    return tensors, targets\n",
    "\n",
    "batch_size = 8\n",
    "\n",
    "if device == \"cuda\":\n",
    "    num_workers = 1\n",
    "    pin_memory = True\n",
    "else:\n",
    "    num_workers = 0\n",
    "    pin_memory = False\n",
    "\n",
    "train_loader = torch.utils.data.DataLoader(\n",
    "    train_set,\n",
    "    batch_size=batch_size,\n",
    "    shuffle=True,\n",
    "    collate_fn=collate_fn,\n",
    "    num_workers=num_workers,\n",
    "    pin_memory=pin_memory, \n",
    "    drop_last=True\n",
    ")\n",
    "test_loader = torch.utils.data.DataLoader(\n",
    "    test_set,\n",
    "    batch_size=batch_size,\n",
    "    shuffle=False,\n",
    "    drop_last=True,\n",
    "    collate_fn=collate_fn,\n",
    "    num_workers=num_workers,\n",
    "    pin_memory=pin_memory\n",
    ")"
   ]
  },
  {
   "cell_type": "code",
   "execution_count": 14,
   "id": "bc0d9f76-b2bf-4ff0-8f4d-8b96dc976aeb",
   "metadata": {},
   "outputs": [],
   "source": [
    "import traceback"
   ]
  },
  {
   "cell_type": "code",
   "execution_count": 15,
   "id": "2630593b-19f9-4390-9259-ab6ae28fcc75",
   "metadata": {},
   "outputs": [
    {
     "name": "stdout",
     "output_type": "stream",
     "text": [
      "{'name': 'M18', 'description': 'FirConv sequential for speech emotion', 'fe': {'n_block': 1, 'n_channel': [512], 'kernel_size': [127], 'stride': [16], 'window_k': [9], 'mel_resolution': 4, 'residual_connection_type': 'concat', 'pooling': False, 'filter_type': 'firwin', 'conv_mode': 'fftconv', 'norm_type': 'LocalResponseNorm'}, 'seq': {'n_block': 1, 'n_channel': 48, 'out_seq_length': 16, 'use_context': False, 'bidirectional': False}, 'cls': {'n_block': 2, 'n_hidden_dim': [128, 128], 'norm_type': 'LayerNorm', 'dropout': 0.05}}\n"
     ]
    },
    {
     "data": {
      "text/plain": [
       "M18(\n",
       "  (fe_blocks): FeBlocks(\n",
       "    (blocks): ModuleList(\n",
       "      (0): FrontEndBlock(\n",
       "        (block): ModuleDict(\n",
       "          (layer): FirConvLayer(\n",
       "            (conv_layer): ResidualConv1d(\n",
       "              (pad_layer): PadForConv()\n",
       "              (stride_layer): DownsampleLayer(\n",
       "                (pad_right): PadForConv()\n",
       "              )\n",
       "              (norm_layer): CustomNormLayer(\n",
       "                (layer): LocalResponseNorm(2, alpha=0.0001, beta=0.75, k=1.0)\n",
       "              )\n",
       "              (act): NLReLU()\n",
       "            )\n",
       "          )\n",
       "          (downsample): ResidualConv1d(\n",
       "            (pad_layer): PadForConv()\n",
       "            (stride_layer): DownsampleLayer(\n",
       "              (pad_right): PadForConv()\n",
       "            )\n",
       "            (norm_layer): CustomNormLayer(\n",
       "              (layer): LocalResponseNorm(2, alpha=0.0001, beta=0.75, k=1.0)\n",
       "            )\n",
       "            (act): NLReLU()\n",
       "          )\n",
       "        )\n",
       "      )\n",
       "    )\n",
       "  )\n",
       "  (seq_blocks): Seq2MBlocks(\n",
       "    (blocks): LSTM(512, 48, batch_first=True)\n",
       "    (pad_layer): PadForConv()\n",
       "  )\n",
       "  (cls_head): Classifier(\n",
       "    (blocks): ModuleList(\n",
       "      (0): Sequential(\n",
       "        (norm): LayerNorm((3072,), eps=1e-05, elementwise_affine=True)\n",
       "        (layer): Linear(in_features=3072, out_features=128, bias=True)\n",
       "      )\n",
       "      (1): Sequential(\n",
       "        (norm): LayerNorm((128,), eps=1e-05, elementwise_affine=True)\n",
       "        (layer): Linear(in_features=128, out_features=128, bias=True)\n",
       "      )\n",
       "    )\n",
       "    (act): LeakyReLU(negative_slope=0.01)\n",
       "    (output_layer): Linear(in_features=128, out_features=3, bias=True)\n",
       "    (dropout): Dropout(p=0.05, inplace=False)\n",
       "  )\n",
       ")"
      ]
     },
     "execution_count": 15,
     "metadata": {},
     "output_type": "execute_result"
    }
   ],
   "source": [
    "from IConNet.nn.model import M18\n",
    "from omegaconf import OmegaConf as ocf\n",
    "\n",
    "model_config_path = 'config/model/m18_cqt.yaml'\n",
    "model_config = ocf.load(model_config_path)\n",
    "print(model_config)\n",
    "model = M18(config=model_config,\n",
    "           n_input=1, n_output=len(labels))\n",
    "model"
   ]
  },
  {
   "cell_type": "code",
   "execution_count": 16,
   "id": "04235c6d-cb3e-413a-bca2-474514aa001e",
   "metadata": {},
   "outputs": [],
   "source": [
    "n_epoch = 10\n",
    "train_losses = []\n",
    "test_accuracy = []\n",
    "optimizer = optim.RAdam(model.parameters(), lr=0.01)\n",
    "scheduler = optim.lr_scheduler.OneCycleLR(\n",
    "    optimizer, max_lr=0.1,\n",
    "    steps_per_epoch=len(train_loader), epochs=n_epoch)"
   ]
  },
  {
   "cell_type": "code",
   "execution_count": 17,
   "id": "6d981d06-4d09-4d2d-9228-7832a8cb644d",
   "metadata": {},
   "outputs": [],
   "source": [
    "train_loader_length = len(train_loader.dataset)\n",
    "test_loader_length = len(test_loader.dataset)\n",
    "\n",
    "def train(model, epoch, log_interval, \n",
    "          train_losses=train_losses):\n",
    "    model.train()\n",
    "    for batch_idx, (data, target) in enumerate(train_loader):\n",
    "        try:\n",
    "            _mem_before = torch.cuda.memory_allocated()\n",
    "            data = data.to(device)\n",
    "            target = target.to(device)\n",
    "            output = model(data)\n",
    "            del data\n",
    "            gc.collect()\n",
    "            torch.cuda.empty_cache()\n",
    "            loss = F.cross_entropy(output.squeeze(), target)\n",
    "            _mem_during = torch.cuda.memory_allocated()\n",
    "            del target\n",
    "            gc.collect()\n",
    "            torch.cuda.empty_cache()\n",
    "            optimizer.zero_grad()\n",
    "            loss.backward()\n",
    "            nn.utils.clip_grad.clip_grad_norm_(\n",
    "                model.parameters(), 1.0)\n",
    "            optimizer.step()\n",
    "            _mem_after = torch.cuda.memory_allocated()\n",
    "            # print training stats\n",
    "            if batch_idx % log_interval == 0:\n",
    "                print(f\"Train Epoch: {epoch} [{batch_idx * batch_size}/{train_loader_length} ({100. * batch_idx / len(train_loader):.0f}%)]\\tLoss: {loss.item():.6f}\")\n",
    "                print(f'Mem before-during-after: {_mem_before} {_mem_during} {_mem_after}')\n",
    "            # update progress bar\n",
    "            pbar.update(pbar_update)\n",
    "            # record loss\n",
    "            train_losses.append(loss.item())\n",
    "        except Exception as e:\n",
    "            print(f'data: {data.shape} => output: {output.shape} | target: {target.shape}')\n",
    "            traceback.print_exc()\n",
    "\n",
    "@torch.no_grad\n",
    "def test(model, epoch):\n",
    "    model.eval()\n",
    "    correct = 0\n",
    "    total = 0\n",
    "    for data, target in test_loader:\n",
    "        total += len(target)\n",
    "        data = data.to(device)\n",
    "        target = target.to(device)\n",
    "        output = model(data).squeeze()\n",
    "        del data\n",
    "        gc.collect()\n",
    "        torch.cuda.empty_cache()\n",
    "        probs = F.softmax(output, dim=-1)\n",
    "        pred = probs.argmax(dim=-1)\n",
    "        correct += pred.eq(target).sum().item()\n",
    "        del target\n",
    "        gc.collect()\n",
    "        torch.cuda.empty_cache()\n",
    "        pbar.update(pbar_update)\n",
    "    acc = correct / test_loader_length\n",
    "    print(f\"\\nTest Epoch: {epoch}\\tAccuracy: {correct}/{total} ({100. * acc:.0f}%)\\n\")\n",
    "    return acc"
   ]
  },
  {
   "cell_type": "code",
   "execution_count": 17,
   "id": "60424a10-03db-4f00-8166-4dc9b6956b3e",
   "metadata": {
    "scrolled": true
   },
   "outputs": [
    {
     "name": "stderr",
     "output_type": "stream",
     "text": [
      "  0%|                              | 0.002364066193853428/10 [00:00<40:54, 245.46s/it]"
     ]
    },
    {
     "name": "stdout",
     "output_type": "stream",
     "text": [
      "Train Epoch: 1 [0/5420 (0%)]\tLoss: 0.979267\n",
      "Mem before-during-after: 2124288 1993563648 27947008\n"
     ]
    },
    {
     "name": "stderr",
     "output_type": "stream",
     "text": [
      "  0%|▏                              | 0.04964539007092203/10 [00:08<28:16, 170.51s/it]"
     ]
    },
    {
     "name": "stdout",
     "output_type": "stream",
     "text": [
      "Train Epoch: 1 [320/5420 (6%)]\tLoss: 0.474919\n",
      "Mem before-during-after: 27947008 1996707328 27947008\n"
     ]
    },
    {
     "name": "stderr",
     "output_type": "stream",
     "text": [
      "  1%|▎                              | 0.09574468085106394/10 [00:17<31:38, 191.66s/it]"
     ]
    },
    {
     "name": "stdout",
     "output_type": "stream",
     "text": [
      "Train Epoch: 1 [640/5420 (12%)]\tLoss: 0.855158\n",
      "Mem before-during-after: 27947008 1988540416 27947008\n"
     ]
    },
    {
     "name": "stderr",
     "output_type": "stream",
     "text": [
      "  1%|▍                              | 0.14420803782505928/10 [00:26<29:08, 177.37s/it]"
     ]
    },
    {
     "name": "stdout",
     "output_type": "stream",
     "text": [
      "Train Epoch: 1 [960/5420 (18%)]\tLoss: 1.071928\n",
      "Mem before-during-after: 27947008 1995658752 27947008\n"
     ]
    },
    {
     "name": "stderr",
     "output_type": "stream",
     "text": [
      "  2%|▌                               | 0.1914893617021279/10 [00:34<29:26, 180.12s/it]"
     ]
    },
    {
     "name": "stdout",
     "output_type": "stream",
     "text": [
      "Train Epoch: 1 [1280/5420 (24%)]\tLoss: 0.614521\n",
      "Mem before-during-after: 27947008 1995658752 27947008\n"
     ]
    },
    {
     "name": "stderr",
     "output_type": "stream",
     "text": [
      "  2%|▋                              | 0.23877068557919653/10 [00:43<28:32, 175.42s/it]"
     ]
    },
    {
     "name": "stdout",
     "output_type": "stream",
     "text": [
      "Train Epoch: 1 [1600/5420 (30%)]\tLoss: 0.983383\n",
      "Mem before-during-after: 27947008 1995658752 27947008\n"
     ]
    },
    {
     "name": "stderr",
     "output_type": "stream",
     "text": [
      "  3%|▉                              | 0.28605200945626513/10 [00:51<28:14, 174.40s/it]"
     ]
    },
    {
     "name": "stdout",
     "output_type": "stream",
     "text": [
      "Train Epoch: 1 [1920/5420 (35%)]\tLoss: 0.735115\n",
      "Mem before-during-after: 27947008 1995658752 27947008\n"
     ]
    },
    {
     "name": "stderr",
     "output_type": "stream",
     "text": [
      "  3%|█                              | 0.33333333333333376/10 [01:00<28:51, 179.11s/it]"
     ]
    },
    {
     "name": "stdout",
     "output_type": "stream",
     "text": [
      "Train Epoch: 1 [2240/5420 (41%)]\tLoss: 1.038381\n",
      "Mem before-during-after: 27947008 1993561600 27947008\n"
     ]
    },
    {
     "name": "stderr",
     "output_type": "stream",
     "text": [
      "  4%|█▏                              | 0.3806146572104024/10 [01:09<28:13, 176.02s/it]"
     ]
    },
    {
     "name": "stdout",
     "output_type": "stream",
     "text": [
      "Train Epoch: 1 [2560/5420 (47%)]\tLoss: 0.518595\n",
      "Mem before-during-after: 27947008 1993561600 27947008\n"
     ]
    },
    {
     "name": "stderr",
     "output_type": "stream",
     "text": [
      "  4%|█▍                               | 0.427895981087471/10 [01:17<27:59, 175.42s/it]"
     ]
    },
    {
     "name": "stdout",
     "output_type": "stream",
     "text": [
      "Train Epoch: 1 [2880/5420 (53%)]\tLoss: 0.787527\n",
      "Mem before-during-after: 27947008 1993561600 27947008\n"
     ]
    },
    {
     "name": "stderr",
     "output_type": "stream",
     "text": [
      "  5%|█▍                             | 0.47517730496453964/10 [01:25<27:11, 171.30s/it]"
     ]
    },
    {
     "name": "stdout",
     "output_type": "stream",
     "text": [
      "Train Epoch: 1 [3200/5420 (59%)]\tLoss: 0.990957\n",
      "Mem before-during-after: 27947008 1993561600 27947008\n"
     ]
    },
    {
     "name": "stderr",
     "output_type": "stream",
     "text": [
      "  5%|█▋                              | 0.5224586288416072/10 [01:34<27:50, 176.23s/it]"
     ]
    },
    {
     "name": "stdout",
     "output_type": "stream",
     "text": [
      "Train Epoch: 1 [3520/5420 (65%)]\tLoss: 0.292365\n",
      "Mem before-during-after: 27947008 1991560704 27947008\n"
     ]
    },
    {
     "name": "stderr",
     "output_type": "stream",
     "text": [
      "  6%|█▊                              | 0.5697399527186736/10 [01:42<27:59, 178.07s/it]"
     ]
    },
    {
     "name": "stdout",
     "output_type": "stream",
     "text": [
      "Train Epoch: 1 [3840/5420 (71%)]\tLoss: 0.842764\n",
      "Mem before-during-after: 27947008 1991560704 27947008\n"
     ]
    },
    {
     "name": "stderr",
     "output_type": "stream",
     "text": [
      "  6%|██                                | 0.61702127659574/10 [01:51<28:12, 180.41s/it]"
     ]
    },
    {
     "name": "stdout",
     "output_type": "stream",
     "text": [
      "Train Epoch: 1 [4160/5420 (77%)]\tLoss: 0.589119\n",
      "Mem before-during-after: 27947008 1991560704 27947008\n"
     ]
    },
    {
     "name": "stderr",
     "output_type": "stream",
     "text": [
      "  7%|██▏                             | 0.6643026004728064/10 [01:59<27:20, 175.72s/it]"
     ]
    },
    {
     "name": "stdout",
     "output_type": "stream",
     "text": [
      "Train Epoch: 1 [4480/5420 (83%)]\tLoss: 0.790951\n",
      "Mem before-during-after: 27947008 1991560704 27947008\n"
     ]
    },
    {
     "name": "stderr",
     "output_type": "stream",
     "text": [
      "  7%|██▎                             | 0.7115839243498728/10 [02:08<29:10, 188.47s/it]"
     ]
    },
    {
     "name": "stdout",
     "output_type": "stream",
     "text": [
      "Train Epoch: 1 [4800/5420 (89%)]\tLoss: 1.383428\n",
      "Mem before-during-after: 27947008 1991540224 27947008\n"
     ]
    },
    {
     "name": "stderr",
     "output_type": "stream",
     "text": [
      "  8%|██▍                             | 0.7588652482269392/10 [02:17<28:25, 184.61s/it]"
     ]
    },
    {
     "name": "stdout",
     "output_type": "stream",
     "text": [
      "Train Epoch: 1 [5120/5420 (95%)]\tLoss: 0.592290\n",
      "Mem before-during-after: 27959808 1991553024 27959808\n"
     ]
    },
    {
     "name": "stderr",
     "output_type": "stream",
     "text": [
      " 10%|███▏                            | 0.9999999999999779/10 [02:53<21:47, 145.22s/it]"
     ]
    },
    {
     "name": "stdout",
     "output_type": "stream",
     "text": [
      "\n",
      "Test Epoch: 1\tAccuracy: 934/1352 (69%)\n",
      "\n"
     ]
    },
    {
     "name": "stderr",
     "output_type": "stream",
     "text": [
      " 10%|███▏                            | 1.0023640661938313/10 [02:54<23:22, 155.89s/it]"
     ]
    },
    {
     "name": "stdout",
     "output_type": "stream",
     "text": [
      "Train Epoch: 2 [0/5420 (0%)]\tLoss: 0.729934\n",
      "Mem before-during-after: 27957248 2008330240 27959808\n"
     ]
    },
    {
     "name": "stderr",
     "output_type": "stream",
     "text": [
      " 10%|███▎                            | 1.0496453900709022/10 [03:02<26:41, 178.90s/it]"
     ]
    },
    {
     "name": "stdout",
     "output_type": "stream",
     "text": [
      "Train Epoch: 2 [320/5420 (6%)]\tLoss: 1.088012\n",
      "Mem before-during-after: 27947008 1995638272 27947008\n"
     ]
    },
    {
     "name": "stderr",
     "output_type": "stream",
     "text": [
      " 11%|███▌                             | 1.096926713947973/10 [03:11<26:06, 175.99s/it]"
     ]
    },
    {
     "name": "stdout",
     "output_type": "stream",
     "text": [
      "Train Epoch: 2 [640/5420 (12%)]\tLoss: 1.113067\n",
      "Mem before-during-after: 27947008 1995638272 27947008\n"
     ]
    },
    {
     "name": "stderr",
     "output_type": "stream",
     "text": [
      " 11%|███▋                            | 1.1442080378250439/10 [03:19<26:55, 182.46s/it]"
     ]
    },
    {
     "name": "stdout",
     "output_type": "stream",
     "text": [
      "Train Epoch: 2 [960/5420 (18%)]\tLoss: 1.076583\n",
      "Mem before-during-after: 27947008 1995638272 27947008\n"
     ]
    },
    {
     "name": "stderr",
     "output_type": "stream",
     "text": [
      " 12%|███▊                            | 1.1914893617021147/10 [03:28<26:00, 177.17s/it]"
     ]
    },
    {
     "name": "stdout",
     "output_type": "stream",
     "text": [
      "Train Epoch: 2 [1280/5420 (24%)]\tLoss: 0.577712\n",
      "Mem before-during-after: 27947008 1995638272 27947008\n"
     ]
    },
    {
     "name": "stderr",
     "output_type": "stream",
     "text": [
      " 12%|███▉                            | 1.2387706855791856/10 [03:36<26:01, 178.22s/it]"
     ]
    },
    {
     "name": "stdout",
     "output_type": "stream",
     "text": [
      "Train Epoch: 2 [1600/5420 (30%)]\tLoss: 0.659253\n",
      "Mem before-during-after: 27947008 1995638272 27947008\n"
     ]
    },
    {
     "name": "stderr",
     "output_type": "stream",
     "text": [
      " 13%|████                            | 1.2848699763593296/10 [03:45<27:49, 191.55s/it]"
     ]
    },
    {
     "name": "stdout",
     "output_type": "stream",
     "text": [
      "Train Epoch: 2 [1920/5420 (35%)]\tLoss: 0.354310\n",
      "Mem before-during-after: 27947008 1995638272 27947008\n"
     ]
    },
    {
     "name": "stderr",
     "output_type": "stream",
     "text": [
      " 13%|████▍                             | 1.28841607565011/10 [03:45<26:23, 181.80s/it]Exception ignored in: <bound method IPythonKernel._clean_thread_parent_frames of <ipykernel.ipkernel.IPythonKernel object at 0x7f09a97921c0>>\n",
      "Traceback (most recent call last):\n",
      "  File \"/opt/anaconda3/envs/audio/lib/python3.9/site-packages/ipykernel/ipkernel.py\", line 770, in _clean_thread_parent_frames\n",
      "    def _clean_thread_parent_frames(\n",
      "KeyboardInterrupt: \n",
      " 13%|████▏                           | 1.2895981087470367/10 [03:46<25:27, 175.38s/it]\n"
     ]
    },
    {
     "ename": "KeyboardInterrupt",
     "evalue": "",
     "output_type": "error",
     "traceback": [
      "\u001b[0;31m---------------------------------------------------------------------------\u001b[0m",
      "\u001b[0;31mKeyboardInterrupt\u001b[0m                         Traceback (most recent call last)",
      "Cell \u001b[0;32mIn[18], line 6\u001b[0m\n\u001b[1;32m      4\u001b[0m \u001b[38;5;28;01mwith\u001b[39;00m tqdm(total\u001b[38;5;241m=\u001b[39mn_epoch) \u001b[38;5;28;01mas\u001b[39;00m pbar:\n\u001b[1;32m      5\u001b[0m     \u001b[38;5;28;01mfor\u001b[39;00m epoch \u001b[38;5;129;01min\u001b[39;00m \u001b[38;5;28mrange\u001b[39m(\u001b[38;5;241m1\u001b[39m, n_epoch \u001b[38;5;241m+\u001b[39m \u001b[38;5;241m1\u001b[39m):\n\u001b[0;32m----> 6\u001b[0m         \u001b[43mtrain\u001b[49m\u001b[43m(\u001b[49m\u001b[43mmodel\u001b[49m\u001b[43m,\u001b[49m\u001b[43m \u001b[49m\u001b[43mepoch\u001b[49m\u001b[43m,\u001b[49m\u001b[43m \u001b[49m\u001b[43mlog_interval\u001b[49m\u001b[43m,\u001b[49m\u001b[43m \u001b[49m\u001b[43mtrain_losses\u001b[49m\u001b[43m)\u001b[49m\n\u001b[1;32m      7\u001b[0m         acc \u001b[38;5;241m=\u001b[39m test(model, epoch)\n\u001b[1;32m      8\u001b[0m         test_accuracy \u001b[38;5;241m+\u001b[39m\u001b[38;5;241m=\u001b[39m [acc]\n",
      "Cell \u001b[0;32mIn[17], line 15\u001b[0m, in \u001b[0;36mtrain\u001b[0;34m(model, epoch, log_interval, train_losses)\u001b[0m\n\u001b[1;32m     13\u001b[0m \u001b[38;5;28;01mdel\u001b[39;00m data\n\u001b[1;32m     14\u001b[0m gc\u001b[38;5;241m.\u001b[39mcollect()\n\u001b[0;32m---> 15\u001b[0m \u001b[43mtorch\u001b[49m\u001b[38;5;241;43m.\u001b[39;49m\u001b[43mcuda\u001b[49m\u001b[38;5;241;43m.\u001b[39;49m\u001b[43mempty_cache\u001b[49m\u001b[43m(\u001b[49m\u001b[43m)\u001b[49m\n\u001b[1;32m     16\u001b[0m loss \u001b[38;5;241m=\u001b[39m F\u001b[38;5;241m.\u001b[39mcross_entropy(output\u001b[38;5;241m.\u001b[39msqueeze(), target)\n\u001b[1;32m     17\u001b[0m _mem_during \u001b[38;5;241m=\u001b[39m torch\u001b[38;5;241m.\u001b[39mcuda\u001b[38;5;241m.\u001b[39mmemory_allocated()\n",
      "File \u001b[0;32m/opt/anaconda3/envs/audio/lib/python3.9/site-packages/torch/cuda/memory.py:159\u001b[0m, in \u001b[0;36mempty_cache\u001b[0;34m()\u001b[0m\n\u001b[1;32m    148\u001b[0m \u001b[38;5;250m\u001b[39m\u001b[38;5;124mr\u001b[39m\u001b[38;5;124;03m\"\"\"Releases all unoccupied cached memory currently held by the caching\u001b[39;00m\n\u001b[1;32m    149\u001b[0m \u001b[38;5;124;03mallocator so that those can be used in other GPU application and visible in\u001b[39;00m\n\u001b[1;32m    150\u001b[0m \u001b[38;5;124;03m`nvidia-smi`.\u001b[39;00m\n\u001b[0;32m   (...)\u001b[0m\n\u001b[1;32m    156\u001b[0m \u001b[38;5;124;03m    more details about GPU memory management.\u001b[39;00m\n\u001b[1;32m    157\u001b[0m \u001b[38;5;124;03m\"\"\"\u001b[39;00m\n\u001b[1;32m    158\u001b[0m \u001b[38;5;28;01mif\u001b[39;00m is_initialized():\n\u001b[0;32m--> 159\u001b[0m     \u001b[43mtorch\u001b[49m\u001b[38;5;241;43m.\u001b[39;49m\u001b[43m_C\u001b[49m\u001b[38;5;241;43m.\u001b[39;49m\u001b[43m_cuda_emptyCache\u001b[49m\u001b[43m(\u001b[49m\u001b[43m)\u001b[49m\n",
      "\u001b[0;31mKeyboardInterrupt\u001b[0m: "
     ]
    },
    {
     "name": "stderr",
     "output_type": "stream",
     "text": [
      "\n",
      "KeyboardInterrupt\n",
      "\n"
     ]
    }
   ],
   "source": [
    "log_interval = 40\n",
    "pbar_update = 1 / (len(train_loader) + len(test_loader))\n",
    "model.to(device)\n",
    "with tqdm(total=n_epoch) as pbar:\n",
    "    for epoch in range(1, n_epoch + 1):\n",
    "        train(model, epoch, log_interval, train_losses)\n",
    "        acc = test(model, epoch)\n",
    "        test_accuracy += [acc]\n",
    "        scheduler.step()"
   ]
  },
  {
   "cell_type": "code",
   "execution_count": 18,
   "id": "406af037-428e-4f94-98e4-c634aa380efb",
   "metadata": {},
   "outputs": [
    {
     "data": {
      "text/plain": [
       "[<matplotlib.lines.Line2D at 0x7f08400a4400>]"
      ]
     },
     "execution_count": 18,
     "metadata": {},
     "output_type": "execute_result"
    },
    {
     "name": "stdout",
     "output_type": "stream",
     "text": [
      "ERROR! Session/line number was not unique in database. History logging moved to new session 312\n"
     ]
    },
    {
     "data": {
      "image/png": "[encoded data removed]",
      "text/plain": [
       "<Figure size 640x480 with 1 Axes>"
      ]
     },
     "metadata": {},
     "output_type": "display_data"
    }
   ],
   "source": [
    "plt.plot(train_losses)"
   ]
  },
  {
   "cell_type": "code",
   "execution_count": 19,
   "id": "9eb01b97-b088-442e-8709-53a9e5726ec0",
   "metadata": {},
   "outputs": [
    {
     "data": {
      "text/plain": [
       "[<matplotlib.lines.Line2D at 0x7f08387d1220>]"
      ]
     },
     "execution_count": 19,
     "metadata": {},
     "output_type": "execute_result"
    },
    {
     "data": {
      "image/png": "[encoded data removed]",
      "text/plain": [
       "<Figure size 640x480 with 1 Axes>"
      ]
     },
     "metadata": {},
     "output_type": "display_data"
    }
   ],
   "source": [
    "plt.plot(test_accuracy)"
   ]
  },
  {
   "cell_type": "code",
   "execution_count": 20,
   "id": "081b5f7e-4d26-45ae-8911-dc876caef606",
   "metadata": {},
   "outputs": [],
   "source": [
    "from torchmetrics.classification import (\n",
    "    MulticlassAccuracy, MulticlassPrecision, \n",
    "    MulticlassRecall, MulticlassF1Score, \n",
    "    MulticlassConfusionMatrix,\n",
    "    MulticlassAUROC\n",
    ")\n",
    "from torchmetrics import MetricCollection\n",
    "from pprint import pprint\n",
    "\n",
    "@torch.no_grad\n",
    "def report_metrics(model, labels=labels, \n",
    "                   test_loader=test_loader, device=device):\n",
    "    n = len(labels)\n",
    "    metrics = MetricCollection({\n",
    "        'acc_unweighted': MulticlassAccuracy(num_classes=n), \n",
    "        'acc_weighted': MulticlassAccuracy(num_classes=n, average='weighted'), \n",
    "        \n",
    "        'f1s': MulticlassF1Score(num_classes=n),  \n",
    "        'uar': MulticlassRecall(num_classes=n, average='macro'), \n",
    "        'wap': MulticlassPrecision(num_classes=n, average='weighted'),\n",
    "        \n",
    "        'f1s_detail': MulticlassF1Score(num_classes=n, average=None),  \n",
    "        'acc_detail': MulticlassAccuracy(num_classes=n, average=None), \n",
    "        'precision_detail': MulticlassPrecision(num_classes=n, average=None),\n",
    "        'recall_detail': MulticlassRecall(num_classes=n, average=None), \n",
    "        'rocauc': MulticlassAUROC(num_classes=n, average=None, thresholds=None)\n",
    "    }\n",
    "    # , compute_groups=[['acc', 'f1s', 'wap'], ['uap', 'uar']]\n",
    "                              ).to(device)\n",
    "    confusion_matrix = MulticlassConfusionMatrix(num_classes=n).to(device)\n",
    "    model.eval()\n",
    "    correct = 0\n",
    "    total = 0\n",
    "    for data, target in test_loader:\n",
    "        total += len(target)\n",
    "        \n",
    "        data = data.to(device)\n",
    "        target = target.to(device)\n",
    "        output = model(data).squeeze()\n",
    "        del data\n",
    "        gc.collect()\n",
    "        torch.cuda.empty_cache()\n",
    "        probs = F.softmax(output, dim=-1)\n",
    "        pred = probs.argmax(dim=-1)\n",
    "        correct += pred.eq(target).sum().item()\n",
    "        \n",
    "        metrics.update(probs, target)\n",
    "        confusion_matrix.update(pred, target)\n",
    "        \n",
    "        del target\n",
    "        gc.collect()\n",
    "        torch.cuda.empty_cache()\n",
    "        pbar.update(pbar_update)\n",
    "    print(f'Correct: {correct}/{total} ({correct/total:.4f})')\n",
    "    return metrics, confusion_matrix"
   ]
  },
  {
   "cell_type": "code",
   "execution_count": 21,
   "id": "7a7cfee9-601e-4d33-9bac-ad9779bfc6ba",
   "metadata": {},
   "outputs": [
    {
     "name": "stdout",
     "output_type": "stream",
     "text": [
      "Correct: 934/1352 (0.6908)\n",
      "{'acc_detail': tensor([1., 0., 0.], device='cuda:0'),\n",
      " 'acc_unweighted': tensor(0.3333, device='cuda:0'),\n",
      " 'acc_weighted': tensor(0.6908, device='cuda:0'),\n",
      " 'f1s': tensor(0.2724, device='cuda:0'),\n",
      " 'f1s_detail': tensor([0.8171, 0.0000, 0.0000], device='cuda:0'),\n",
      " 'precision_detail': tensor([0.6908, 0.0000, 0.0000], device='cuda:0'),\n",
      " 'recall_detail': tensor([1., 0., 0.], device='cuda:0'),\n",
      " 'rocauc': tensor([0.5524, 0.5273, 0.5701], device='cuda:0'),\n",
      " 'uar': tensor(0.3333, device='cuda:0'),\n",
      " 'wap': tensor(0.4772, device='cuda:0')}\n"
     ]
    },
    {
     "data": {
      "text/plain": [
       "tensor([[934,   0,   0],\n",
       "        [160,   0,   0],\n",
       "        [258,   0,   0]], device='cuda:0')"
      ]
     },
     "execution_count": 21,
     "metadata": {},
     "output_type": "execute_result"
    }
   ],
   "source": [
    "metrics, confusion_matrix = report_metrics(\n",
    "    model, labels=labels, device=device)\n",
    "pprint(metrics.compute())\n",
    "confusion_matrix.compute()"
   ]
  },
  {
   "cell_type": "code",
   "execution_count": 23,
   "id": "ca267cde-6921-432e-95ca-c7b39fe6a9a4",
   "metadata": {
    "scrolled": true
   },
   "outputs": [
    {
     "name": "stderr",
     "output_type": "stream",
     "text": [
      "  0%|                              | 0.001182033096926714/10 [00:00<35:38, 213.91s/it]"
     ]
    },
    {
     "name": "stdout",
     "output_type": "stream",
     "text": [
      "Train Epoch: 11 [0/5420 (0%)]\tLoss: 0.615261\n",
      "Mem before-during-after: 34658816 2016107520 50489344\n"
     ]
    },
    {
     "name": "stderr",
     "output_type": "stream",
     "text": [
      "  0%|▏                             | 0.048463356973995314/10 [00:09<34:20, 207.06s/it]"
     ]
    },
    {
     "name": "stdout",
     "output_type": "stream",
     "text": [
      "Train Epoch: 11 [320/5420 (6%)]\tLoss: 1.475656\n",
      "Mem before-during-after: 50489344 2020324864 50489344\n"
     ]
    },
    {
     "name": "stderr",
     "output_type": "stream",
     "text": [
      "  1%|▎                              | 0.09692671394799066/10 [00:19<32:28, 196.74s/it]"
     ]
    },
    {
     "name": "stdout",
     "output_type": "stream",
     "text": [
      "Train Epoch: 11 [640/5420 (12%)]\tLoss: 0.979842\n",
      "Mem before-during-after: 50489344 2020324864 50489344\n"
     ]
    },
    {
     "name": "stderr",
     "output_type": "stream",
     "text": [
      "  1%|▍                              | 0.14302600472813257/10 [00:28<33:43, 205.25s/it]"
     ]
    },
    {
     "name": "stdout",
     "output_type": "stream",
     "text": [
      "Train Epoch: 11 [960/5420 (18%)]\tLoss: 0.575979\n",
      "Mem before-during-after: 50489344 2020324864 50489344\n"
     ]
    },
    {
     "name": "stderr",
     "output_type": "stream",
     "text": [
      "  2%|▌                               | 0.1903073286052012/10 [00:37<34:00, 208.05s/it]"
     ]
    },
    {
     "name": "stdout",
     "output_type": "stream",
     "text": [
      "Train Epoch: 11 [1280/5420 (24%)]\tLoss: 1.034655\n",
      "Mem before-during-after: 50489344 2020324864 50489344\n"
     ]
    },
    {
     "name": "stderr",
     "output_type": "stream",
     "text": [
      "  2%|▋                              | 0.23758865248226982/10 [00:47<33:39, 206.89s/it]"
     ]
    },
    {
     "name": "stdout",
     "output_type": "stream",
     "text": [
      "Train Epoch: 11 [1600/5420 (30%)]\tLoss: 0.821762\n",
      "Mem before-during-after: 50489344 2019276288 50489344\n"
     ]
    },
    {
     "name": "stderr",
     "output_type": "stream",
     "text": [
      "  3%|▉                               | 0.2848699763593384/10 [00:56<33:43, 208.32s/it]"
     ]
    },
    {
     "name": "stdout",
     "output_type": "stream",
     "text": [
      "Train Epoch: 11 [1920/5420 (35%)]\tLoss: 0.799971\n",
      "Mem before-during-after: 50489344 2019287040 50489344\n"
     ]
    },
    {
     "name": "stderr",
     "output_type": "stream",
     "text": [
      "  3%|█                              | 0.33215130023640704/10 [01:06<32:37, 202.50s/it]"
     ]
    },
    {
     "name": "stdout",
     "output_type": "stream",
     "text": [
      "Train Epoch: 11 [2240/5420 (41%)]\tLoss: 1.001457\n",
      "Mem before-during-after: 50489344 2019287040 50489344\n"
     ]
    },
    {
     "name": "stderr",
     "output_type": "stream",
     "text": [
      "  4%|█▏                             | 0.37943262411347567/10 [01:15<32:46, 204.46s/it]"
     ]
    },
    {
     "name": "stdout",
     "output_type": "stream",
     "text": [
      "Train Epoch: 11 [2560/5420 (47%)]\tLoss: 0.623884\n",
      "Mem before-during-after: 50489344 2019287040 50489344\n"
     ]
    },
    {
     "name": "stderr",
     "output_type": "stream",
     "text": [
      "  4%|█▍                               | 0.427895981087471/10 [01:25<31:23, 196.80s/it]"
     ]
    },
    {
     "name": "stdout",
     "output_type": "stream",
     "text": [
      "Train Epoch: 11 [2880/5420 (53%)]\tLoss: 1.000046\n",
      "Mem before-during-after: 50489344 2019287040 50489344\n"
     ]
    },
    {
     "name": "stderr",
     "output_type": "stream",
     "text": [
      "  5%|█▌                              | 0.4739952718676129/10 [01:34<32:51, 206.92s/it]"
     ]
    },
    {
     "name": "stdout",
     "output_type": "stream",
     "text": [
      "Train Epoch: 11 [3200/5420 (59%)]\tLoss: 0.862162\n",
      "Mem before-during-after: 50489344 2018227712 50489344\n"
     ]
    },
    {
     "name": "stderr",
     "output_type": "stream",
     "text": [
      "  5%|█▋                              | 0.5224586288416072/10 [01:43<30:18, 191.84s/it]"
     ]
    },
    {
     "name": "stdout",
     "output_type": "stream",
     "text": [
      "Train Epoch: 11 [3520/5420 (65%)]\tLoss: 0.981545\n",
      "Mem before-during-after: 50489344 2018227712 50489344\n"
     ]
    },
    {
     "name": "stderr",
     "output_type": "stream",
     "text": [
      "  6%|█▉                               | 0.568557919621747/10 [01:53<33:27, 212.85s/it]"
     ]
    },
    {
     "name": "stdout",
     "output_type": "stream",
     "text": [
      "Train Epoch: 11 [3840/5420 (71%)]\tLoss: 1.002122\n",
      "Mem before-during-after: 50489344 2018227712 50489344\n"
     ]
    },
    {
     "name": "stderr",
     "output_type": "stream",
     "text": [
      "  6%|█▉                              | 0.6158392434988134/10 [02:02<32:22, 206.95s/it]"
     ]
    },
    {
     "name": "stdout",
     "output_type": "stream",
     "text": [
      "Train Epoch: 11 [4160/5420 (77%)]\tLoss: 0.482565\n",
      "Mem before-during-after: 50489344 2018227712 50489344\n"
     ]
    },
    {
     "name": "stderr",
     "output_type": "stream",
     "text": [
      "  7%|██                              | 0.6631205673758798/10 [02:11<32:00, 205.67s/it]"
     ]
    },
    {
     "name": "stdout",
     "output_type": "stream",
     "text": [
      "Train Epoch: 11 [4480/5420 (83%)]\tLoss: 0.908782\n",
      "Mem before-during-after: 50489344 2018227712 50489344\n"
     ]
    },
    {
     "name": "stderr",
     "output_type": "stream",
     "text": [
      "  7%|██▎                             | 0.7104018912529462/10 [02:21<31:47, 205.31s/it]"
     ]
    },
    {
     "name": "stdout",
     "output_type": "stream",
     "text": [
      "Train Epoch: 11 [4800/5420 (89%)]\tLoss: 0.755751\n",
      "Mem before-during-after: 50489344 2018227712 50489344\n"
     ]
    },
    {
     "name": "stderr",
     "output_type": "stream",
     "text": [
      "  8%|██▍                             | 0.7576832151300126/10 [02:30<34:58, 227.09s/it]"
     ]
    },
    {
     "name": "stdout",
     "output_type": "stream",
     "text": [
      "Train Epoch: 11 [5120/5420 (95%)]\tLoss: 1.277495\n",
      "Mem before-during-after: 50489344 2018227712 50489344\n"
     ]
    },
    {
     "name": "stderr",
     "output_type": "stream",
     "text": [
      " 10%|███▏                            | 0.9999999999999779/10 [03:12<25:02, 167.00s/it]"
     ]
    },
    {
     "name": "stdout",
     "output_type": "stream",
     "text": [
      "\n",
      "Test Epoch: 11\tAccuracy: 934/1352 (69%)\n",
      "\n"
     ]
    },
    {
     "name": "stderr",
     "output_type": "stream",
     "text": [
      " 10%|███▏                            | 1.0011820330969046/10 [03:12<27:15, 181.79s/it]"
     ]
    },
    {
     "name": "stdout",
     "output_type": "stream",
     "text": [
      "Train Epoch: 12 [0/5420 (0%)]\tLoss: 0.599434\n",
      "Mem before-during-after: 50486784 2020546560 50489344\n"
     ]
    },
    {
     "name": "stderr",
     "output_type": "stream",
     "text": [
      " 10%|███▎                            | 1.0496453900709022/10 [03:22<28:49, 193.23s/it]"
     ]
    },
    {
     "name": "stdout",
     "output_type": "stream",
     "text": [
      "Train Epoch: 12 [320/5420 (6%)]\tLoss: 0.920657\n",
      "Mem before-during-after: 50489344 2019276288 50489344\n"
     ]
    },
    {
     "name": "stderr",
     "output_type": "stream",
     "text": [
      " 11%|███▌                            | 1.0957446808510463/10 [03:31<30:21, 204.52s/it]"
     ]
    },
    {
     "name": "stdout",
     "output_type": "stream",
     "text": [
      "Train Epoch: 12 [640/5420 (12%)]\tLoss: 0.905017\n",
      "Mem before-during-after: 50489344 2019276288 50489344\n"
     ]
    },
    {
     "name": "stderr",
     "output_type": "stream",
     "text": [
      " 11%|███▊                             | 1.143026004728117/10 [03:41<29:48, 201.94s/it]"
     ]
    },
    {
     "name": "stdout",
     "output_type": "stream",
     "text": [
      "Train Epoch: 12 [960/5420 (18%)]\tLoss: 0.316416\n",
      "Mem before-during-after: 50489344 2019276288 50489344\n"
     ]
    },
    {
     "name": "stderr",
     "output_type": "stream",
     "text": [
      " 12%|███▉                             | 1.190307328605188/10 [03:50<29:22, 200.07s/it]"
     ]
    },
    {
     "name": "stdout",
     "output_type": "stream",
     "text": [
      "Train Epoch: 12 [1280/5420 (24%)]\tLoss: 0.354027\n",
      "Mem before-during-after: 50489344 2018227712 50489344\n"
     ]
    },
    {
     "name": "stderr",
     "output_type": "stream",
     "text": [
      " 12%|███▉                            | 1.2387706855791856/10 [04:00<28:05, 192.40s/it]"
     ]
    },
    {
     "name": "stdout",
     "output_type": "stream",
     "text": [
      "Train Epoch: 12 [1600/5420 (30%)]\tLoss: 0.504291\n",
      "Mem before-during-after: 50489344 2018227712 50489344\n"
     ]
    },
    {
     "name": "stderr",
     "output_type": "stream",
     "text": [
      " 13%|████                            | 1.2848699763593296/10 [04:09<29:03, 200.08s/it]"
     ]
    },
    {
     "name": "stdout",
     "output_type": "stream",
     "text": [
      "Train Epoch: 12 [1920/5420 (35%)]\tLoss: 0.519567\n",
      "Mem before-during-after: 50489344 2018227712 50489344\n"
     ]
    },
    {
     "name": "stderr",
     "output_type": "stream",
     "text": [
      " 13%|████▎                           | 1.3321513002364005/10 [04:18<29:40, 205.46s/it]"
     ]
    },
    {
     "name": "stdout",
     "output_type": "stream",
     "text": [
      "Train Epoch: 12 [2240/5420 (41%)]\tLoss: 0.672742\n",
      "Mem before-during-after: 50489344 2018227712 50489344\n"
     ]
    },
    {
     "name": "stderr",
     "output_type": "stream",
     "text": [
      " 14%|████▍                           | 1.3794326241134713/10 [04:27<29:56, 208.37s/it]"
     ]
    },
    {
     "name": "stdout",
     "output_type": "stream",
     "text": [
      "Train Epoch: 12 [2560/5420 (47%)]\tLoss: 1.115227\n",
      "Mem before-during-after: 50489344 2018227712 50489344\n"
     ]
    },
    {
     "name": "stderr",
     "output_type": "stream",
     "text": [
      " 14%|████▋                            | 1.427895981087469/10 [04:37<27:24, 191.80s/it]"
     ]
    },
    {
     "name": "stdout",
     "output_type": "stream",
     "text": [
      "Train Epoch: 12 [2880/5420 (53%)]\tLoss: 0.657056\n",
      "Mem before-during-after: 50489344 2018227712 50489344\n"
     ]
    },
    {
     "name": "stderr",
     "output_type": "stream",
     "text": [
      " 15%|████▋                           | 1.4751773049645398/10 [04:46<27:22, 192.65s/it]"
     ]
    },
    {
     "name": "stdout",
     "output_type": "stream",
     "text": [
      "Train Epoch: 12 [3200/5420 (59%)]\tLoss: 0.894541\n",
      "Mem before-during-after: 50489344 2018227712 50489344\n"
     ]
    },
    {
     "name": "stderr",
     "output_type": "stream",
     "text": [
      " 15%|████▊                           | 1.5224586288416107/10 [04:55<26:55, 190.51s/it]"
     ]
    },
    {
     "name": "stdout",
     "output_type": "stream",
     "text": [
      "Train Epoch: 12 [3520/5420 (65%)]\tLoss: 1.009863\n",
      "Mem before-during-after: 50489344 2018227712 50489344\n"
     ]
    },
    {
     "name": "stderr",
     "output_type": "stream",
     "text": [
      " 16%|█████                           | 1.5697399527186815/10 [05:04<27:57, 198.94s/it]"
     ]
    },
    {
     "name": "stdout",
     "output_type": "stream",
     "text": [
      "Train Epoch: 12 [3840/5420 (71%)]\tLoss: 0.702233\n",
      "Mem before-during-after: 50489344 2018227712 50489344\n"
     ]
    },
    {
     "name": "stderr",
     "output_type": "stream",
     "text": [
      " 16%|█████▏                          | 1.6170212765957523/10 [05:14<26:35, 190.28s/it]"
     ]
    },
    {
     "name": "stdout",
     "output_type": "stream",
     "text": [
      "Train Epoch: 12 [4160/5420 (77%)]\tLoss: 0.947813\n",
      "Mem before-during-after: 50489344 2018227712 50489344\n"
     ]
    },
    {
     "name": "stderr",
     "output_type": "stream",
     "text": [
      " 17%|█████▎                          | 1.6631205673758964/10 [05:23<28:27, 204.78s/it]"
     ]
    },
    {
     "name": "stdout",
     "output_type": "stream",
     "text": [
      "Train Epoch: 12 [4480/5420 (83%)]\tLoss: 0.998948\n",
      "Mem before-during-after: 50489344 2018227712 50489344\n"
     ]
    },
    {
     "name": "stderr",
     "output_type": "stream",
     "text": [
      " 17%|█████▋                           | 1.711583924349894/10 [05:32<26:25, 191.34s/it]"
     ]
    },
    {
     "name": "stdout",
     "output_type": "stream",
     "text": [
      "Train Epoch: 12 [4800/5420 (89%)]\tLoss: 0.813578\n",
      "Mem before-during-after: 50489344 2018227712 50489344\n"
     ]
    },
    {
     "name": "stderr",
     "output_type": "stream",
     "text": [
      " 18%|█████▌                          | 1.7576832151300381/10 [05:41<27:26, 199.73s/it]"
     ]
    },
    {
     "name": "stdout",
     "output_type": "stream",
     "text": [
      "Train Epoch: 12 [5120/5420 (95%)]\tLoss: 1.174946\n",
      "Mem before-during-after: 50489344 2018227712 50489344\n"
     ]
    },
    {
     "name": "stderr",
     "output_type": "stream",
     "text": [
      " 20%|██████▌                          | 2.000000000000026/10 [06:22<21:38, 162.28s/it]"
     ]
    },
    {
     "name": "stdout",
     "output_type": "stream",
     "text": [
      "\n",
      "Test Epoch: 12\tAccuracy: 934/1352 (69%)\n",
      "\n"
     ]
    },
    {
     "name": "stderr",
     "output_type": "stream",
     "text": [
      " 20%|██████▍                         | 2.0011820330969528/10 [06:23<23:03, 172.94s/it]"
     ]
    },
    {
     "name": "stdout",
     "output_type": "stream",
     "text": [
      "Train Epoch: 13 [0/5420 (0%)]\tLoss: 0.781040\n",
      "Mem before-during-after: 50486784 2032907776 50489344\n"
     ]
    },
    {
     "name": "stderr",
     "output_type": "stream",
     "text": [
      " 20%|██████▌                         | 2.0484633569740147/10 [06:32<28:07, 212.16s/it]"
     ]
    },
    {
     "name": "stdout",
     "output_type": "stream",
     "text": [
      "Train Epoch: 13 [320/5420 (6%)]\tLoss: 1.017276\n",
      "Mem before-during-after: 50489344 2020324864 50489344\n"
     ]
    },
    {
     "name": "stderr",
     "output_type": "stream",
     "text": [
      " 21%|██████▋                         | 2.0969267139480032/10 [06:42<25:13, 191.57s/it]"
     ]
    },
    {
     "name": "stdout",
     "output_type": "stream",
     "text": [
      "Train Epoch: 13 [640/5420 (12%)]\tLoss: 1.089907\n",
      "Mem before-during-after: 50489344 2019276288 50489344\n"
     ]
    },
    {
     "name": "stderr",
     "output_type": "stream",
     "text": [
      " 21%|██████▊                         | 2.1430260047281386/10 [06:51<26:56, 205.80s/it]"
     ]
    },
    {
     "name": "stdout",
     "output_type": "stream",
     "text": [
      "Train Epoch: 13 [960/5420 (18%)]\tLoss: 1.125280\n",
      "Mem before-during-after: 50489344 2019276288 50489344\n"
     ]
    },
    {
     "name": "stderr",
     "output_type": "stream",
     "text": [
      " 22%|███████                         | 2.1903073286052006/10 [07:00<26:39, 204.78s/it]"
     ]
    },
    {
     "name": "stdout",
     "output_type": "stream",
     "text": [
      "Train Epoch: 13 [1280/5420 (24%)]\tLoss: 1.028116\n",
      "Mem before-during-after: 50489344 2019276288 50489344\n"
     ]
    },
    {
     "name": "stderr",
     "output_type": "stream",
     "text": [
      " 22%|███████▏                        | 2.2375886524822626/10 [07:09<26:27, 204.46s/it]"
     ]
    },
    {
     "name": "stdout",
     "output_type": "stream",
     "text": [
      "Train Epoch: 13 [1600/5420 (30%)]\tLoss: 0.810475\n",
      "Mem before-during-after: 50489344 2019276288 50489344\n"
     ]
    },
    {
     "name": "stderr",
     "output_type": "stream",
     "text": [
      " 23%|███████▎                        | 2.2848699763593245/10 [07:19<25:58, 201.95s/it]"
     ]
    },
    {
     "name": "stdout",
     "output_type": "stream",
     "text": [
      "Train Epoch: 13 [1920/5420 (35%)]\tLoss: 1.029175\n",
      "Mem before-during-after: 50489344 2019276288 50489344\n"
     ]
    },
    {
     "name": "stderr",
     "output_type": "stream",
     "text": [
      " 23%|███████▍                        | 2.3321513002363865/10 [07:28<27:50, 217.92s/it]"
     ]
    },
    {
     "name": "stdout",
     "output_type": "stream",
     "text": [
      "Train Epoch: 13 [2240/5420 (41%)]\tLoss: 1.043787\n",
      "Mem before-during-after: 50489344 2019276288 50489344\n"
     ]
    },
    {
     "name": "stderr",
     "output_type": "stream",
     "text": [
      " 24%|███████▊                         | 2.380614657210375/10 [07:38<25:41, 202.31s/it]"
     ]
    },
    {
     "name": "stdout",
     "output_type": "stream",
     "text": [
      "Train Epoch: 13 [2560/5420 (47%)]\tLoss: 0.789960\n",
      "Mem before-during-after: 50489344 2012157952 50489344\n"
     ]
    },
    {
     "name": "stderr",
     "output_type": "stream",
     "text": [
      " 24%|███████▊                        | 2.4267139479905104/10 [07:47<25:49, 204.60s/it]"
     ]
    },
    {
     "name": "stdout",
     "output_type": "stream",
     "text": [
      "Train Epoch: 13 [2880/5420 (53%)]\tLoss: 0.438031\n",
      "Mem before-during-after: 50489344 2019276288 50489344\n"
     ]
    },
    {
     "name": "stderr",
     "output_type": "stream",
     "text": [
      " 25%|███████▉                        | 2.4739952718675724/10 [07:57<25:20, 202.02s/it]"
     ]
    },
    {
     "name": "stdout",
     "output_type": "stream",
     "text": [
      "Train Epoch: 13 [3200/5420 (59%)]\tLoss: 1.297334\n",
      "Mem before-during-after: 50489344 2019276288 50489344\n"
     ]
    },
    {
     "name": "stderr",
     "output_type": "stream",
     "text": [
      " 25%|████████                        | 2.5212765957446344/10 [08:06<25:23, 203.74s/it]"
     ]
    },
    {
     "name": "stdout",
     "output_type": "stream",
     "text": [
      "Train Epoch: 13 [3520/5420 (65%)]\tLoss: 1.026646\n",
      "Mem before-during-after: 50489344 2019276288 50489344\n"
     ]
    },
    {
     "name": "stderr",
     "output_type": "stream",
     "text": [
      " 26%|████████▏                       | 2.5685579196216963/10 [08:15<25:15, 203.90s/it]"
     ]
    },
    {
     "name": "stdout",
     "output_type": "stream",
     "text": [
      "Train Epoch: 13 [3840/5420 (71%)]\tLoss: 0.675367\n",
      "Mem before-during-after: 50489344 2019276288 50489344\n"
     ]
    },
    {
     "name": "stderr",
     "output_type": "stream",
     "text": [
      " 26%|████████▎                       | 2.6158392434987583/10 [08:24<27:31, 223.71s/it]"
     ]
    },
    {
     "name": "stdout",
     "output_type": "stream",
     "text": [
      "Train Epoch: 13 [4160/5420 (77%)]\tLoss: 0.594298\n",
      "Mem before-during-after: 50489344 2007963648 50489344\n"
     ]
    },
    {
     "name": "stderr",
     "output_type": "stream",
     "text": [
      " 27%|████████▌                       | 2.6631205673758203/10 [08:34<25:14, 206.44s/it]"
     ]
    },
    {
     "name": "stdout",
     "output_type": "stream",
     "text": [
      "Train Epoch: 13 [4480/5420 (83%)]\tLoss: 0.770670\n",
      "Mem before-during-after: 50489344 2012157952 50489344\n"
     ]
    },
    {
     "name": "stderr",
     "output_type": "stream",
     "text": [
      " 27%|████████▋                       | 2.7104018912528822/10 [08:43<24:58, 205.54s/it]"
     ]
    },
    {
     "name": "stdout",
     "output_type": "stream",
     "text": [
      "Train Epoch: 13 [4800/5420 (89%)]\tLoss: 0.221871\n",
      "Mem before-during-after: 50489344 2019276288 50489344\n"
     ]
    },
    {
     "name": "stderr",
     "output_type": "stream",
     "text": [
      " 28%|█████████                        | 2.757683215129944/10 [08:52<24:33, 203.43s/it]"
     ]
    },
    {
     "name": "stdout",
     "output_type": "stream",
     "text": [
      "Train Epoch: 13 [5120/5420 (95%)]\tLoss: 0.408994\n",
      "Mem before-during-after: 50489344 2019276288 50489344\n"
     ]
    },
    {
     "name": "stderr",
     "output_type": "stream",
     "text": [
      " 30%|█████████▌                      | 2.9999999999998868/10 [09:34<19:29, 167.11s/it]"
     ]
    },
    {
     "name": "stdout",
     "output_type": "stream",
     "text": [
      "\n",
      "Test Epoch: 13\tAccuracy: 932/1352 (69%)\n",
      "\n"
     ]
    },
    {
     "name": "stderr",
     "output_type": "stream",
     "text": [
      " 30%|█████████▌                      | 3.0011820330968133/10 [09:34<20:23, 174.88s/it]"
     ]
    },
    {
     "name": "stdout",
     "output_type": "stream",
     "text": [
      "Train Epoch: 14 [0/5420 (0%)]\tLoss: 0.666422\n",
      "Mem before-during-after: 50486784 2020546560 50489344\n"
     ]
    },
    {
     "name": "stderr",
     "output_type": "stream",
     "text": [
      " 30%|██████████                       | 3.049645390070802/10 [09:44<22:39, 195.66s/it]"
     ]
    },
    {
     "name": "stdout",
     "output_type": "stream",
     "text": [
      "Train Epoch: 14 [320/5420 (6%)]\tLoss: 0.448206\n",
      "Mem before-during-after: 50489344 2020324864 50489344\n"
     ]
    },
    {
     "name": "stderr",
     "output_type": "stream",
     "text": [
      " 31%|█████████▉                      | 3.0957446808509372/10 [09:53<24:11, 210.16s/it]"
     ]
    },
    {
     "name": "stdout",
     "output_type": "stream",
     "text": [
      "Train Epoch: 14 [640/5420 (12%)]\tLoss: 0.870963\n",
      "Mem before-during-after: 50489344 2019276288 50489344\n"
     ]
    },
    {
     "name": "stderr",
     "output_type": "stream",
     "text": [
      " 31%|██████████▎                      | 3.143026004727999/10 [10:03<23:16, 203.68s/it]"
     ]
    },
    {
     "name": "stdout",
     "output_type": "stream",
     "text": [
      "Train Epoch: 14 [960/5420 (18%)]\tLoss: 0.776129\n",
      "Mem before-during-after: 50489344 2019276288 50489344\n"
     ]
    },
    {
     "name": "stderr",
     "output_type": "stream",
     "text": [
      " 32%|██████████▌                      | 3.190307328605061/10 [10:12<24:18, 214.22s/it]"
     ]
    },
    {
     "name": "stdout",
     "output_type": "stream",
     "text": [
      "Train Epoch: 14 [1280/5420 (24%)]\tLoss: 0.959219\n",
      "Mem before-during-after: 50489344 2019276288 50489344\n"
     ]
    },
    {
     "name": "stderr",
     "output_type": "stream",
     "text": [
      " 32%|██████████▎                     | 3.2387706855790497/10 [10:22<22:17, 197.79s/it]"
     ]
    },
    {
     "name": "stdout",
     "output_type": "stream",
     "text": [
      "Train Epoch: 14 [1600/5420 (30%)]\tLoss: 0.667859\n",
      "Mem before-during-after: 50489344 2019276288 50489344\n"
     ]
    },
    {
     "name": "stderr",
     "output_type": "stream",
     "text": [
      " 33%|██████████▊                      | 3.284869976359185/10 [10:31<23:38, 211.25s/it]"
     ]
    },
    {
     "name": "stdout",
     "output_type": "stream",
     "text": [
      "Train Epoch: 14 [1920/5420 (35%)]\tLoss: 1.253950\n",
      "Mem before-during-after: 50489344 2019276288 50489344\n"
     ]
    },
    {
     "name": "stderr",
     "output_type": "stream",
     "text": [
      " 33%|██████████▋                     | 3.3333333333331736/10 [10:41<22:08, 199.26s/it]"
     ]
    },
    {
     "name": "stdout",
     "output_type": "stream",
     "text": [
      "Train Epoch: 14 [2240/5420 (41%)]\tLoss: 1.018905\n",
      "Mem before-during-after: 50489344 2019276288 50489344\n"
     ]
    },
    {
     "name": "stderr",
     "output_type": "stream",
     "text": [
      " 34%|███████████▏                     | 3.379432624113309/10 [10:50<22:31, 204.12s/it]"
     ]
    },
    {
     "name": "stdout",
     "output_type": "stream",
     "text": [
      "Train Epoch: 14 [2560/5420 (47%)]\tLoss: 0.420073\n",
      "Mem before-during-after: 50489344 2019276288 50489344\n"
     ]
    },
    {
     "name": "stderr",
     "output_type": "stream",
     "text": [
      " 34%|██████████▉                     | 3.4278959810872975/10 [11:00<22:13, 202.95s/it]"
     ]
    },
    {
     "name": "stdout",
     "output_type": "stream",
     "text": [
      "Train Epoch: 14 [2880/5420 (53%)]\tLoss: 0.891124\n",
      "Mem before-during-after: 50489344 2019276288 50489344\n"
     ]
    },
    {
     "name": "stderr",
     "output_type": "stream",
     "text": [
      " 35%|███████████▍                     | 3.473995271867433/10 [11:10<22:48, 209.66s/it]"
     ]
    },
    {
     "name": "stdout",
     "output_type": "stream",
     "text": [
      "Train Epoch: 14 [3200/5420 (59%)]\tLoss: 0.767701\n",
      "Mem before-during-after: 50489344 2019276288 50489344\n"
     ]
    },
    {
     "name": "stderr",
     "output_type": "stream",
     "text": [
      " 35%|███████████▎                    | 3.5224586288414215/10 [11:20<21:47, 201.84s/it]"
     ]
    },
    {
     "name": "stdout",
     "output_type": "stream",
     "text": [
      "Train Epoch: 14 [3520/5420 (65%)]\tLoss: 0.780130\n",
      "Mem before-during-after: 50489344 2019276288 50489344\n"
     ]
    },
    {
     "name": "stderr",
     "output_type": "stream",
     "text": [
      " 36%|███████████▍                    | 3.5697399527184834/10 [11:29<20:37, 192.38s/it]"
     ]
    },
    {
     "name": "stdout",
     "output_type": "stream",
     "text": [
      "Train Epoch: 14 [3840/5420 (71%)]\tLoss: 0.567317\n",
      "Mem before-during-after: 50489344 2019276288 50489344\n"
     ]
    },
    {
     "name": "stderr",
     "output_type": "stream",
     "text": [
      " 36%|███████████▉                     | 3.615839243498619/10 [11:38<21:22, 200.95s/it]"
     ]
    },
    {
     "name": "stdout",
     "output_type": "stream",
     "text": [
      "Train Epoch: 14 [4160/5420 (77%)]\tLoss: 0.814032\n",
      "Mem before-during-after: 50489344 2012157952 50489344\n"
     ]
    },
    {
     "name": "stderr",
     "output_type": "stream",
     "text": [
      " 37%|███████████▋                    | 3.6643026004726074/10 [11:47<20:07, 190.52s/it]"
     ]
    },
    {
     "name": "stdout",
     "output_type": "stream",
     "text": [
      "Train Epoch: 14 [4480/5420 (83%)]\tLoss: 0.756569\n",
      "Mem before-during-after: 50489344 2019276288 50489344\n"
     ]
    },
    {
     "name": "stderr",
     "output_type": "stream",
     "text": [
      " 37%|███████████▉                    | 3.7115839243496693/10 [11:57<20:12, 192.78s/it]"
     ]
    },
    {
     "name": "stdout",
     "output_type": "stream",
     "text": [
      "Train Epoch: 14 [4800/5420 (89%)]\tLoss: 0.839670\n",
      "Mem before-during-after: 50489344 2019276288 50489344\n"
     ]
    },
    {
     "name": "stderr",
     "output_type": "stream",
     "text": [
      " 38%|████████████                    | 3.7576832151298047/10 [12:06<21:47, 209.49s/it]"
     ]
    },
    {
     "name": "stdout",
     "output_type": "stream",
     "text": [
      "Train Epoch: 14 [5120/5420 (95%)]\tLoss: 0.388158\n",
      "Mem before-during-after: 50489344 2019276288 50489344\n"
     ]
    },
    {
     "name": "stderr",
     "output_type": "stream",
     "text": [
      " 40%|████████████▊                   | 3.9999999999997473/10 [12:47<16:02, 160.38s/it]"
     ]
    },
    {
     "name": "stdout",
     "output_type": "stream",
     "text": [
      "\n",
      "Test Epoch: 14\tAccuracy: 935/1352 (69%)\n",
      "\n",
      "saved model: ../models_meld4/meld3_m18emo4_best_14epoch.pt\n"
     ]
    },
    {
     "name": "stderr",
     "output_type": "stream",
     "text": [
      " 40%|█████████████▏                   | 4.002364066193601/10 [12:48<17:03, 170.70s/it]"
     ]
    },
    {
     "name": "stdout",
     "output_type": "stream",
     "text": [
      "Train Epoch: 15 [0/5420 (0%)]\tLoss: 0.661350\n",
      "Mem before-during-after: 50486784 2032907776 50489344\n"
     ]
    },
    {
     "name": "stderr",
     "output_type": "stream",
     "text": [
      " 40%|█████████████▎                   | 4.048463356973754/10 [12:57<20:07, 202.87s/it]"
     ]
    },
    {
     "name": "stdout",
     "output_type": "stream",
     "text": [
      "Train Epoch: 15 [320/5420 (6%)]\tLoss: 0.706382\n",
      "Mem before-during-after: 50489344 2012157952 50489344\n"
     ]
    },
    {
     "name": "stderr",
     "output_type": "stream",
     "text": [
      " 41%|█████████████▌                   | 4.095744680850833/10 [13:06<19:50, 201.63s/it]"
     ]
    },
    {
     "name": "stdout",
     "output_type": "stream",
     "text": [
      "Train Epoch: 15 [640/5420 (12%)]\tLoss: 1.094114\n",
      "Mem before-during-after: 50489344 2019276288 50489344\n"
     ]
    },
    {
     "name": "stderr",
     "output_type": "stream",
     "text": [
      " 41%|█████████████▋                   | 4.143026004727913/10 [13:15<20:18, 208.06s/it]"
     ]
    },
    {
     "name": "stdout",
     "output_type": "stream",
     "text": [
      "Train Epoch: 15 [960/5420 (18%)]\tLoss: 0.314056\n",
      "Mem before-during-after: 50489344 2012157952 50489344\n"
     ]
    },
    {
     "name": "stderr",
     "output_type": "stream",
     "text": [
      " 42%|██████████████▎                   | 4.19148936170192/10 [13:25<18:40, 192.96s/it]"
     ]
    },
    {
     "name": "stdout",
     "output_type": "stream",
     "text": [
      "Train Epoch: 15 [1280/5420 (24%)]\tLoss: 0.581475\n",
      "Mem before-during-after: 50489344 2018227712 50489344\n"
     ]
    },
    {
     "name": "stderr",
     "output_type": "stream",
     "text": [
      " 42%|█████████████▌                  | 4.2387706855789995/10 [13:34<18:20, 190.96s/it]"
     ]
    },
    {
     "name": "stdout",
     "output_type": "stream",
     "text": [
      "Train Epoch: 15 [1600/5420 (30%)]\tLoss: 1.030792\n",
      "Mem before-during-after: 50489344 2018227712 50489344\n"
     ]
    },
    {
     "name": "stderr",
     "output_type": "stream",
     "text": [
      " 43%|██████████████▏                  | 4.286052009456079/10 [13:44<18:19, 192.50s/it]"
     ]
    },
    {
     "name": "stdout",
     "output_type": "stream",
     "text": [
      "Train Epoch: 15 [1920/5420 (35%)]\tLoss: 0.669579\n",
      "Mem before-during-after: 50489344 2018227712 50489344\n"
     ]
    },
    {
     "name": "stderr",
     "output_type": "stream",
     "text": [
      " 43%|██████████████▎                  | 4.332151300236232/10 [13:53<18:56, 200.51s/it]"
     ]
    },
    {
     "name": "stdout",
     "output_type": "stream",
     "text": [
      "Train Epoch: 15 [2240/5420 (41%)]\tLoss: 1.143627\n",
      "Mem before-during-after: 50489344 2010117120 50489344\n"
     ]
    },
    {
     "name": "stderr",
     "output_type": "stream",
     "text": [
      " 44%|██████████████▍                  | 4.380614657210239/10 [14:02<17:47, 190.00s/it]"
     ]
    },
    {
     "name": "stdout",
     "output_type": "stream",
     "text": [
      "Train Epoch: 15 [2560/5420 (47%)]\tLoss: 0.950604\n",
      "Mem before-during-after: 50489344 2018227712 50489344\n"
     ]
    },
    {
     "name": "stderr",
     "output_type": "stream",
     "text": [
      " 44%|██████████████▌                  | 4.426713947990391/10 [14:11<18:57, 204.08s/it]"
     ]
    },
    {
     "name": "stdout",
     "output_type": "stream",
     "text": [
      "Train Epoch: 15 [2880/5420 (53%)]\tLoss: 0.720996\n",
      "Mem before-during-after: 50489344 2018227712 50489344\n"
     ]
    },
    {
     "name": "stderr",
     "output_type": "stream",
     "text": [
      " 45%|██████████████▊                  | 4.473995271867471/10 [14:20<20:01, 217.48s/it]"
     ]
    },
    {
     "name": "stdout",
     "output_type": "stream",
     "text": [
      "Train Epoch: 15 [3200/5420 (59%)]\tLoss: 1.010216\n",
      "Mem before-during-after: 50489344 2012157952 50489344\n"
     ]
    },
    {
     "name": "stderr",
     "output_type": "stream",
     "text": [
      " 45%|██████████████▉                  | 4.522458628841478/10 [14:30<18:48, 206.02s/it]"
     ]
    },
    {
     "name": "stdout",
     "output_type": "stream",
     "text": [
      "Train Epoch: 15 [3520/5420 (65%)]\tLoss: 0.643371\n",
      "Mem before-during-after: 50489344 2018227712 50489344\n"
     ]
    },
    {
     "name": "stderr",
     "output_type": "stream",
     "text": [
      " 46%|███████████████                  | 4.569739952718558/10 [14:39<18:07, 200.19s/it]"
     ]
    },
    {
     "name": "stdout",
     "output_type": "stream",
     "text": [
      "Train Epoch: 15 [3840/5420 (71%)]\tLoss: 1.124419\n",
      "Mem before-during-after: 50489344 2018227712 50489344\n"
     ]
    },
    {
     "name": "stderr",
     "output_type": "stream",
     "text": [
      " 46%|███████████████▋                  | 4.61583924349871/10 [14:48<19:11, 213.87s/it]"
     ]
    },
    {
     "name": "stdout",
     "output_type": "stream",
     "text": [
      "Train Epoch: 15 [4160/5420 (77%)]\tLoss: 0.604085\n",
      "Mem before-during-after: 50489344 2012157952 50489344\n"
     ]
    },
    {
     "name": "stderr",
     "output_type": "stream",
     "text": [
      " 47%|███████████████▊                  | 4.66312056737579/10 [14:58<19:27, 218.80s/it]"
     ]
    },
    {
     "name": "stdout",
     "output_type": "stream",
     "text": [
      "Train Epoch: 15 [4480/5420 (83%)]\tLoss: 0.529684\n",
      "Mem before-during-after: 50489344 2018227712 50489344\n"
     ]
    },
    {
     "name": "stderr",
     "output_type": "stream",
     "text": [
      " 47%|████████████████                  | 4.71040189125287/10 [15:08<18:13, 206.77s/it]"
     ]
    },
    {
     "name": "stdout",
     "output_type": "stream",
     "text": [
      "Train Epoch: 15 [4800/5420 (89%)]\tLoss: 0.984520\n",
      "Mem before-during-after: 50489344 2018227712 50489344\n"
     ]
    },
    {
     "name": "stderr",
     "output_type": "stream",
     "text": [
      " 48%|███████████████▏                | 4.7576832151299495/10 [15:17<17:57, 205.49s/it]"
     ]
    },
    {
     "name": "stdout",
     "output_type": "stream",
     "text": [
      "Train Epoch: 15 [5120/5420 (95%)]\tLoss: 0.563203\n",
      "Mem before-during-after: 50489344 2018227712 50489344\n"
     ]
    },
    {
     "name": "stderr",
     "output_type": "stream",
     "text": [
      " 50%|████████████████▍                | 4.999999999999983/10 [15:59<14:20, 172.04s/it]"
     ]
    },
    {
     "name": "stdout",
     "output_type": "stream",
     "text": [
      "\n",
      "Test Epoch: 15\tAccuracy: 935/1352 (69%)\n",
      "\n"
     ]
    },
    {
     "name": "stderr",
     "output_type": "stream",
     "text": [
      " 50%|████████████████▌                | 5.002364066193837/10 [15:59<15:15, 183.10s/it]"
     ]
    },
    {
     "name": "stdout",
     "output_type": "stream",
     "text": [
      "Train Epoch: 16 [0/5420 (0%)]\tLoss: 0.984417\n",
      "Mem before-during-after: 50486784 2032907776 50489344\n"
     ]
    },
    {
     "name": "stderr",
     "output_type": "stream",
     "text": [
      " 50%|█████████████████▏                | 5.04846335697399/10 [16:09<17:00, 206.13s/it]"
     ]
    },
    {
     "name": "stdout",
     "output_type": "stream",
     "text": [
      "Train Epoch: 16 [320/5420 (6%)]\tLoss: 0.254793\n",
      "Mem before-during-after: 50489344 2020324864 50489344\n"
     ]
    },
    {
     "name": "stderr",
     "output_type": "stream",
     "text": [
      " 51%|█████████████████▎                | 5.09574468085107/10 [16:18<16:43, 204.68s/it]"
     ]
    },
    {
     "name": "stdout",
     "output_type": "stream",
     "text": [
      "Train Epoch: 16 [640/5420 (12%)]\tLoss: 0.613972\n",
      "Mem before-during-after: 50489344 2020324864 50489344\n"
     ]
    },
    {
     "name": "stderr",
     "output_type": "stream",
     "text": [
      " 51%|████████████████▉                | 5.143026004728149/10 [16:28<16:39, 205.83s/it]"
     ]
    },
    {
     "name": "stdout",
     "output_type": "stream",
     "text": [
      "Train Epoch: 16 [960/5420 (18%)]\tLoss: 0.797936\n",
      "Mem before-during-after: 50489344 2019276288 50489344\n"
     ]
    },
    {
     "name": "stderr",
     "output_type": "stream",
     "text": [
      " 52%|█████████████████▏               | 5.190307328605229/10 [16:37<16:43, 208.62s/it]"
     ]
    },
    {
     "name": "stdout",
     "output_type": "stream",
     "text": [
      "Train Epoch: 16 [1280/5420 (24%)]\tLoss: 0.563858\n",
      "Mem before-during-after: 50489344 2019276288 50489344\n"
     ]
    },
    {
     "name": "stderr",
     "output_type": "stream",
     "text": [
      " 52%|█████████████████▎               | 5.237588652482309/10 [16:47<17:41, 222.91s/it]"
     ]
    },
    {
     "name": "stdout",
     "output_type": "stream",
     "text": [
      "Train Epoch: 16 [1600/5420 (30%)]\tLoss: 0.584991\n",
      "Mem before-during-after: 50489344 2019276288 50489344\n"
     ]
    },
    {
     "name": "stderr",
     "output_type": "stream",
     "text": [
      " 53%|████████████████▉               | 5.2860520094563155/10 [16:57<15:20, 195.29s/it]"
     ]
    },
    {
     "name": "stdout",
     "output_type": "stream",
     "text": [
      "Train Epoch: 16 [1920/5420 (35%)]\tLoss: 0.378451\n",
      "Mem before-during-after: 50489344 2019276288 50489344\n"
     ]
    },
    {
     "name": "stderr",
     "output_type": "stream",
     "text": [
      " 53%|█████████████████▌               | 5.332151300236468/10 [17:06<16:04, 206.58s/it]"
     ]
    },
    {
     "name": "stdout",
     "output_type": "stream",
     "text": [
      "Train Epoch: 16 [2240/5420 (41%)]\tLoss: 1.047081\n",
      "Mem before-during-after: 50489344 2019276288 50489344\n"
     ]
    },
    {
     "name": "stderr",
     "output_type": "stream",
     "text": [
      " 54%|█████████████████▊               | 5.379432624113548/10 [17:15<15:55, 206.69s/it]"
     ]
    },
    {
     "name": "stdout",
     "output_type": "stream",
     "text": [
      "Train Epoch: 16 [2560/5420 (47%)]\tLoss: 0.627170\n",
      "Mem before-during-after: 50489344 2019276288 50489344\n"
     ]
    },
    {
     "name": "stderr",
     "output_type": "stream",
     "text": [
      " 54%|█████████████████▉               | 5.427895981087555/10 [17:25<14:30, 190.34s/it]"
     ]
    },
    {
     "name": "stdout",
     "output_type": "stream",
     "text": [
      "Train Epoch: 16 [2880/5420 (53%)]\tLoss: 0.946917\n",
      "Mem before-during-after: 50489344 2019276288 50489344\n"
     ]
    },
    {
     "name": "stderr",
     "output_type": "stream",
     "text": [
      " 55%|██████████████████               | 5.473995271867707/10 [17:34<15:29, 205.43s/it]"
     ]
    },
    {
     "name": "stdout",
     "output_type": "stream",
     "text": [
      "Train Epoch: 16 [3200/5420 (59%)]\tLoss: 0.664468\n",
      "Mem before-during-after: 50489344 2018227712 50489344\n"
     ]
    },
    {
     "name": "stderr",
     "output_type": "stream",
     "text": [
      " 55%|██████████████████▏              | 5.522458628841714/10 [17:44<14:26, 193.41s/it]"
     ]
    },
    {
     "name": "stdout",
     "output_type": "stream",
     "text": [
      "Train Epoch: 16 [3520/5420 (65%)]\tLoss: 0.799807\n",
      "Mem before-during-after: 50489344 2018227712 50489344\n"
     ]
    },
    {
     "name": "stderr",
     "output_type": "stream",
     "text": [
      " 56%|██████████████████▍              | 5.568557919621867/10 [17:53<15:04, 204.20s/it]"
     ]
    },
    {
     "name": "stdout",
     "output_type": "stream",
     "text": [
      "Train Epoch: 16 [3840/5420 (71%)]\tLoss: 0.624199\n",
      "Mem before-during-after: 50489344 2018227712 50489344\n"
     ]
    },
    {
     "name": "stderr",
     "output_type": "stream",
     "text": [
      " 56%|██████████████████▌              | 5.617021276595874/10 [18:02<14:12, 194.42s/it]"
     ]
    },
    {
     "name": "stdout",
     "output_type": "stream",
     "text": [
      "Train Epoch: 16 [4160/5420 (77%)]\tLoss: 0.838612\n",
      "Mem before-during-after: 50489344 2018227712 50489344\n"
     ]
    },
    {
     "name": "stderr",
     "output_type": "stream",
     "text": [
      " 57%|██████████████████▋              | 5.663120567376026/10 [18:12<15:38, 216.29s/it]"
     ]
    },
    {
     "name": "stdout",
     "output_type": "stream",
     "text": [
      "Train Epoch: 16 [4480/5420 (83%)]\tLoss: 0.846137\n",
      "Mem before-during-after: 50489344 2018227712 50489344\n"
     ]
    },
    {
     "name": "stderr",
     "output_type": "stream",
     "text": [
      " 57%|██████████████████▊              | 5.710401891253106/10 [18:21<14:34, 203.91s/it]"
     ]
    },
    {
     "name": "stdout",
     "output_type": "stream",
     "text": [
      "Train Epoch: 16 [4800/5420 (89%)]\tLoss: 0.883397\n",
      "Mem before-during-after: 50489344 2018227712 50489344\n"
     ]
    },
    {
     "name": "stderr",
     "output_type": "stream",
     "text": [
      " 58%|███████████████████              | 5.757683215130186/10 [18:30<14:10, 200.52s/it]"
     ]
    },
    {
     "name": "stdout",
     "output_type": "stream",
     "text": [
      "Train Epoch: 16 [5120/5420 (95%)]\tLoss: 1.029202\n",
      "Mem before-during-after: 50489344 2018227712 50489344\n"
     ]
    },
    {
     "name": "stderr",
     "output_type": "stream",
     "text": [
      " 60%|███████████████████▊             | 6.000000000000219/10 [19:12<11:00, 165.21s/it]"
     ]
    },
    {
     "name": "stdout",
     "output_type": "stream",
     "text": [
      "\n",
      "Test Epoch: 16\tAccuracy: 935/1352 (69%)\n",
      "\n"
     ]
    },
    {
     "name": "stderr",
     "output_type": "stream",
     "text": [
      " 60%|███████████████████▊             | 6.001182033097146/10 [19:12<11:58, 179.76s/it]"
     ]
    },
    {
     "name": "stdout",
     "output_type": "stream",
     "text": [
      "Train Epoch: 17 [0/5420 (0%)]\tLoss: 1.115021\n",
      "Mem before-during-after: 50486784 2032907776 50489344\n"
     ]
    },
    {
     "name": "stderr",
     "output_type": "stream",
     "text": [
      " 60%|███████████████████▉             | 6.048463356974226/10 [19:21<13:20, 202.49s/it]"
     ]
    },
    {
     "name": "stdout",
     "output_type": "stream",
     "text": [
      "Train Epoch: 17 [320/5420 (6%)]\tLoss: 0.902947\n",
      "Mem before-during-after: 50489344 2019276288 50489344\n"
     ]
    },
    {
     "name": "stderr",
     "output_type": "stream",
     "text": [
      " 61%|████████████████████             | 6.095744680851306/10 [19:31<13:21, 205.41s/it]"
     ]
    },
    {
     "name": "stdout",
     "output_type": "stream",
     "text": [
      "Train Epoch: 17 [640/5420 (12%)]\tLoss: 0.373671\n",
      "Mem before-during-after: 50489344 2019276288 50489344\n"
     ]
    },
    {
     "name": "stderr",
     "output_type": "stream",
     "text": [
      " 61%|███████████████████▋            | 6.1442080378253126/10 [19:41<12:24, 193.18s/it]"
     ]
    },
    {
     "name": "stdout",
     "output_type": "stream",
     "text": [
      "Train Epoch: 17 [960/5420 (18%)]\tLoss: 0.619920\n",
      "Mem before-during-after: 50489344 2018227712 50489344\n"
     ]
    },
    {
     "name": "stderr",
     "output_type": "stream",
     "text": [
      " 62%|████████████████████▍            | 6.191489361702392/10 [19:50<12:32, 197.46s/it]"
     ]
    },
    {
     "name": "stdout",
     "output_type": "stream",
     "text": [
      "Train Epoch: 17 [1280/5420 (24%)]\tLoss: 0.765751\n",
      "Mem before-during-after: 50489344 2018227712 50489344\n"
     ]
    },
    {
     "name": "stderr",
     "output_type": "stream",
     "text": [
      " 62%|████████████████████▌            | 6.237588652482545/10 [19:59<13:07, 209.37s/it]"
     ]
    },
    {
     "name": "stdout",
     "output_type": "stream",
     "text": [
      "Train Epoch: 17 [1600/5420 (30%)]\tLoss: 0.929374\n",
      "Mem before-during-after: 50489344 2018227712 50489344\n"
     ]
    },
    {
     "name": "stderr",
     "output_type": "stream",
     "text": [
      " 63%|████████████████████▋            | 6.286052009456552/10 [20:09<12:39, 204.45s/it]"
     ]
    },
    {
     "name": "stdout",
     "output_type": "stream",
     "text": [
      "Train Epoch: 17 [1920/5420 (35%)]\tLoss: 0.968358\n",
      "Mem before-during-after: 50489344 2018227712 50489344\n"
     ]
    },
    {
     "name": "stderr",
     "output_type": "stream",
     "text": [
      " 63%|████████████████████▎           | 6.3321513002367045/10 [20:18<12:31, 204.78s/it]"
     ]
    },
    {
     "name": "stdout",
     "output_type": "stream",
     "text": [
      "Train Epoch: 17 [2240/5420 (41%)]\tLoss: 0.812666\n",
      "Mem before-during-after: 50489344 2018227712 50489344\n"
     ]
    },
    {
     "name": "stderr",
     "output_type": "stream",
     "text": [
      " 64%|█████████████████████            | 6.380614657210711/10 [20:28<11:55, 197.82s/it]"
     ]
    },
    {
     "name": "stdout",
     "output_type": "stream",
     "text": [
      "Train Epoch: 17 [2560/5420 (47%)]\tLoss: 0.969522\n",
      "Mem before-during-after: 50489344 2018227712 50489344\n"
     ]
    },
    {
     "name": "stderr",
     "output_type": "stream",
     "text": [
      " 64%|█████████████████████▏           | 6.426713947990864/10 [20:38<12:38, 212.35s/it]"
     ]
    },
    {
     "name": "stdout",
     "output_type": "stream",
     "text": [
      "Train Epoch: 17 [2880/5420 (53%)]\tLoss: 1.009760\n",
      "Mem before-during-after: 50489344 2018227712 50489344\n"
     ]
    },
    {
     "name": "stderr",
     "output_type": "stream",
     "text": [
      " 65%|█████████████████████▎           | 6.473995271867944/10 [20:47<13:29, 229.49s/it]"
     ]
    },
    {
     "name": "stdout",
     "output_type": "stream",
     "text": [
      "Train Epoch: 17 [3200/5420 (59%)]\tLoss: 0.628889\n",
      "Mem before-during-after: 50489344 2012157952 50489344\n"
     ]
    },
    {
     "name": "stderr",
     "output_type": "stream",
     "text": [
      " 65%|█████████████████████▌           | 6.521276595745023/10 [20:57<12:34, 216.90s/it]"
     ]
    },
    {
     "name": "stdout",
     "output_type": "stream",
     "text": [
      "Train Epoch: 17 [3520/5420 (65%)]\tLoss: 0.693723\n",
      "Mem before-during-after: 50489344 2018227712 50489344\n"
     ]
    },
    {
     "name": "stderr",
     "output_type": "stream",
     "text": [
      " 66%|██████████████████████▎           | 6.56973995271903/10 [21:06<11:08, 194.87s/it]"
     ]
    },
    {
     "name": "stdout",
     "output_type": "stream",
     "text": [
      "Train Epoch: 17 [3840/5420 (71%)]\tLoss: 0.809190\n",
      "Mem before-during-after: 50489344 2018227712 50489344\n"
     ]
    },
    {
     "name": "stderr",
     "output_type": "stream",
     "text": [
      " 66%|█████████████████████▊           | 6.615839243499183/10 [21:15<11:32, 204.69s/it]"
     ]
    },
    {
     "name": "stdout",
     "output_type": "stream",
     "text": [
      "Train Epoch: 17 [4160/5420 (77%)]\tLoss: 0.665375\n",
      "Mem before-during-after: 50489344 2018227712 50489344\n"
     ]
    },
    {
     "name": "stderr",
     "output_type": "stream",
     "text": [
      " 67%|█████████████████████▉           | 6.663120567376263/10 [21:25<11:24, 205.11s/it]"
     ]
    },
    {
     "name": "stdout",
     "output_type": "stream",
     "text": [
      "Train Epoch: 17 [4480/5420 (83%)]\tLoss: 0.446602\n",
      "Mem before-during-after: 50489344 2018227712 50489344\n"
     ]
    },
    {
     "name": "stderr",
     "output_type": "stream",
     "text": [
      " 67%|██████████████████████▏          | 6.710401891253342/10 [21:34<11:41, 213.39s/it]"
     ]
    },
    {
     "name": "stdout",
     "output_type": "stream",
     "text": [
      "Train Epoch: 17 [4800/5420 (89%)]\tLoss: 0.690977\n",
      "Mem before-during-after: 50489344 2018227712 50489344\n"
     ]
    },
    {
     "name": "stderr",
     "output_type": "stream",
     "text": [
      " 68%|██████████████████████▎          | 6.757683215130422/10 [21:44<11:03, 204.74s/it]"
     ]
    },
    {
     "name": "stdout",
     "output_type": "stream",
     "text": [
      "Train Epoch: 17 [5120/5420 (95%)]\tLoss: 0.984520\n",
      "Mem before-during-after: 50489344 2018227712 50489344\n"
     ]
    },
    {
     "name": "stderr",
     "output_type": "stream",
     "text": [
      " 70%|███████████████████████          | 7.000000000000456/10 [22:26<08:25, 168.39s/it]"
     ]
    },
    {
     "name": "stdout",
     "output_type": "stream",
     "text": [
      "\n",
      "Test Epoch: 17\tAccuracy: 933/1352 (69%)\n",
      "\n"
     ]
    },
    {
     "name": "stderr",
     "output_type": "stream",
     "text": [
      " 70%|███████████████████████▊          | 7.00236406619431/10 [22:26<08:38, 173.07s/it]"
     ]
    },
    {
     "name": "stdout",
     "output_type": "stream",
     "text": [
      "Train Epoch: 18 [0/5420 (0%)]\tLoss: 1.157750\n",
      "Mem before-during-after: 50486784 2032907776 50489344\n"
     ]
    },
    {
     "name": "stderr",
     "output_type": "stream",
     "text": [
      " 70%|███████████████████████▎         | 7.048463356974462/10 [22:36<10:03, 204.42s/it]"
     ]
    },
    {
     "name": "stdout",
     "output_type": "stream",
     "text": [
      "Train Epoch: 18 [320/5420 (6%)]\tLoss: 0.654612\n",
      "Mem before-during-after: 50489344 2019276288 50489344\n"
     ]
    },
    {
     "name": "stderr",
     "output_type": "stream",
     "text": [
      " 71%|███████████████████████▍         | 7.095744680851542/10 [22:45<10:01, 207.25s/it]"
     ]
    },
    {
     "name": "stdout",
     "output_type": "stream",
     "text": [
      "Train Epoch: 18 [640/5420 (12%)]\tLoss: 1.175374\n",
      "Mem before-during-after: 50489344 2019276288 50489344\n"
     ]
    },
    {
     "name": "stderr",
     "output_type": "stream",
     "text": [
      " 71%|███████████████████████▌         | 7.143026004728622/10 [22:55<09:41, 203.47s/it]"
     ]
    },
    {
     "name": "stdout",
     "output_type": "stream",
     "text": [
      "Train Epoch: 18 [960/5420 (18%)]\tLoss: 0.947227\n",
      "Mem before-during-after: 50489344 2019276288 50489344\n"
     ]
    },
    {
     "name": "stderr",
     "output_type": "stream",
     "text": [
      " 72%|███████████████████████         | 7.1903073286057015/10 [23:04<09:45, 208.46s/it]"
     ]
    },
    {
     "name": "stdout",
     "output_type": "stream",
     "text": [
      "Train Epoch: 18 [1280/5420 (24%)]\tLoss: 0.659958\n",
      "Mem before-during-after: 50489344 2019276288 50489344\n"
     ]
    },
    {
     "name": "stderr",
     "output_type": "stream",
     "text": [
      " 72%|███████████████████████▉         | 7.237588652482781/10 [23:14<09:13, 200.30s/it]"
     ]
    },
    {
     "name": "stdout",
     "output_type": "stream",
     "text": [
      "Train Epoch: 18 [1600/5420 (30%)]\tLoss: 0.630958\n",
      "Mem before-during-after: 50489344 2018227712 50489344\n"
     ]
    },
    {
     "name": "stderr",
     "output_type": "stream",
     "text": [
      " 73%|████████████████████████         | 7.284869976359861/10 [23:23<10:39, 235.35s/it]"
     ]
    },
    {
     "name": "stdout",
     "output_type": "stream",
     "text": [
      "Train Epoch: 18 [1920/5420 (35%)]\tLoss: 0.927889\n",
      "Mem before-during-after: 50489344 2018227712 50489344\n"
     ]
    },
    {
     "name": "stderr",
     "output_type": "stream",
     "text": [
      " 73%|████████████████████████▏        | 7.332151300236941/10 [23:33<09:05, 204.38s/it]"
     ]
    },
    {
     "name": "stdout",
     "output_type": "stream",
     "text": [
      "Train Epoch: 18 [2240/5420 (41%)]\tLoss: 0.413827\n",
      "Mem before-during-after: 50489344 2018238464 50489344\n"
     ]
    },
    {
     "name": "stderr",
     "output_type": "stream",
     "text": [
      " 74%|███████████████████████▌        | 7.3806146572109474/10 [23:43<09:33, 218.78s/it]"
     ]
    },
    {
     "name": "stdout",
     "output_type": "stream",
     "text": [
      "Train Epoch: 18 [2560/5420 (47%)]\tLoss: 0.746140\n",
      "Mem before-during-after: 50489344 2018238464 50489344\n"
     ]
    },
    {
     "name": "stderr",
     "output_type": "stream",
     "text": [
      " 74%|█████████████████████████▉         | 7.4267139479911/10 [23:52<08:58, 209.26s/it]"
     ]
    },
    {
     "name": "stdout",
     "output_type": "stream",
     "text": [
      "Train Epoch: 18 [2880/5420 (53%)]\tLoss: 0.672528\n",
      "Mem before-during-after: 50489344 2018238464 50489344\n"
     ]
    },
    {
     "name": "stderr",
     "output_type": "stream",
     "text": [
      " 75%|█████████████████████████▍        | 7.47399527186818/10 [24:02<08:47, 208.76s/it]"
     ]
    },
    {
     "name": "stdout",
     "output_type": "stream",
     "text": [
      "Train Epoch: 18 [3200/5420 (59%)]\tLoss: 0.317745\n",
      "Mem before-during-after: 50489344 2018238464 50489344\n"
     ]
    },
    {
     "name": "stderr",
     "output_type": "stream",
     "text": [
      " 75%|█████████████████████████▌        | 7.52127659574526/10 [24:11<08:36, 208.39s/it]"
     ]
    },
    {
     "name": "stdout",
     "output_type": "stream",
     "text": [
      "Train Epoch: 18 [3520/5420 (65%)]\tLoss: 0.720167\n",
      "Mem before-during-after: 50489344 2012170240 50489344\n"
     ]
    },
    {
     "name": "stderr",
     "output_type": "stream",
     "text": [
      " 76%|████████████████████████▉        | 7.568557919622339/10 [24:21<08:28, 209.14s/it]"
     ]
    },
    {
     "name": "stdout",
     "output_type": "stream",
     "text": [
      "Train Epoch: 18 [3840/5420 (71%)]\tLoss: 1.019346\n",
      "Mem before-during-after: 50489344 2018238464 50489344\n"
     ]
    },
    {
     "name": "stderr",
     "output_type": "stream",
     "text": [
      " 76%|█████████████████████████▏       | 7.615839243499419/10 [24:30<08:11, 206.36s/it]"
     ]
    },
    {
     "name": "stdout",
     "output_type": "stream",
     "text": [
      "Train Epoch: 18 [4160/5420 (77%)]\tLoss: 1.123968\n",
      "Mem before-during-after: 50489344 2018238464 50489344\n"
     ]
    },
    {
     "name": "stderr",
     "output_type": "stream",
     "text": [
      " 77%|█████████████████████████▎       | 7.663120567376499/10 [24:40<08:07, 208.79s/it]"
     ]
    },
    {
     "name": "stdout",
     "output_type": "stream",
     "text": [
      "Train Epoch: 18 [4480/5420 (83%)]\tLoss: 1.027210\n",
      "Mem before-during-after: 50489344 2018238464 50489344\n"
     ]
    },
    {
     "name": "stderr",
     "output_type": "stream",
     "text": [
      " 77%|████████████████████████▋       | 7.7104018912535786/10 [24:50<08:07, 212.99s/it]"
     ]
    },
    {
     "name": "stdout",
     "output_type": "stream",
     "text": [
      "Train Epoch: 18 [4800/5420 (89%)]\tLoss: 1.044822\n",
      "Mem before-during-after: 50489344 2017189888 50489344\n"
     ]
    },
    {
     "name": "stderr",
     "output_type": "stream",
     "text": [
      " 78%|█████████████████████████▌       | 7.757683215130658/10 [24:59<07:37, 204.04s/it]"
     ]
    },
    {
     "name": "stdout",
     "output_type": "stream",
     "text": [
      "Train Epoch: 18 [5120/5420 (95%)]\tLoss: 1.063941\n",
      "Mem before-during-after: 50489344 2017189888 50489344\n"
     ]
    },
    {
     "name": "stderr",
     "output_type": "stream",
     "text": [
      " 80%|██████████████████████████▍      | 8.000000000000691/10 [25:41<05:31, 165.54s/it]"
     ]
    },
    {
     "name": "stdout",
     "output_type": "stream",
     "text": [
      "\n",
      "Test Epoch: 18\tAccuracy: 933/1352 (69%)\n",
      "\n"
     ]
    },
    {
     "name": "stderr",
     "output_type": "stream",
     "text": [
      " 80%|██████████████████████████▍      | 8.002364066194543/10 [25:41<05:44, 172.59s/it]"
     ]
    },
    {
     "name": "stdout",
     "output_type": "stream",
     "text": [
      "Train Epoch: 19 [0/5420 (0%)]\tLoss: 0.841645\n",
      "Mem before-during-after: 50486784 2020546560 50489344\n"
     ]
    },
    {
     "name": "stderr",
     "output_type": "stream",
     "text": [
      " 80%|██████████████████████████▌      | 8.048463356974661/10 [25:51<06:33, 201.89s/it]"
     ]
    },
    {
     "name": "stdout",
     "output_type": "stream",
     "text": [
      "Train Epoch: 19 [320/5420 (6%)]\tLoss: 0.858452\n",
      "Mem before-during-after: 50489344 2019276288 50489344\n"
     ]
    },
    {
     "name": "stderr",
     "output_type": "stream",
     "text": [
      " 81%|██████████████████████████▋      | 8.095744680851706/10 [26:00<06:28, 204.22s/it]"
     ]
    },
    {
     "name": "stdout",
     "output_type": "stream",
     "text": [
      "Train Epoch: 19 [640/5420 (12%)]\tLoss: 1.127219\n",
      "Mem before-during-after: 50489344 2012157952 50489344\n"
     ]
    },
    {
     "name": "stderr",
     "output_type": "stream",
     "text": [
      " 81%|███████████████████████████▋      | 8.14302600472875/10 [26:09<06:12, 200.54s/it]"
     ]
    },
    {
     "name": "stdout",
     "output_type": "stream",
     "text": [
      "Train Epoch: 19 [960/5420 (18%)]\tLoss: 0.679341\n",
      "Mem before-during-after: 50489344 2019276288 50489344\n"
     ]
    },
    {
     "name": "stderr",
     "output_type": "stream",
     "text": [
      " 82%|███████████████████████████▊      | 8.19148936170272/10 [26:19<05:50, 193.65s/it]"
     ]
    },
    {
     "name": "stdout",
     "output_type": "stream",
     "text": [
      "Train Epoch: 19 [1280/5420 (24%)]\tLoss: 0.735758\n",
      "Mem before-during-after: 50489344 2019276288 50489344\n"
     ]
    },
    {
     "name": "stderr",
     "output_type": "stream",
     "text": [
      " 82%|███████████████████████████▏     | 8.237588652482838/10 [26:28<05:55, 201.63s/it]"
     ]
    },
    {
     "name": "stdout",
     "output_type": "stream",
     "text": [
      "Train Epoch: 19 [1600/5420 (30%)]\tLoss: 0.300154\n",
      "Mem before-during-after: 50489344 2019276288 50489344\n"
     ]
    },
    {
     "name": "stderr",
     "output_type": "stream",
     "text": [
      " 83%|███████████████████████████▎     | 8.286052009456808/10 [26:37<05:29, 192.06s/it]"
     ]
    },
    {
     "name": "stdout",
     "output_type": "stream",
     "text": [
      "Train Epoch: 19 [1920/5420 (35%)]\tLoss: 0.697729\n",
      "Mem before-during-after: 50489344 2019276288 50489344\n"
     ]
    },
    {
     "name": "stderr",
     "output_type": "stream",
     "text": [
      " 83%|███████████████████████████▍     | 8.332151300236927/10 [26:47<05:47, 208.15s/it]"
     ]
    },
    {
     "name": "stdout",
     "output_type": "stream",
     "text": [
      "Train Epoch: 19 [2240/5420 (41%)]\tLoss: 0.731972\n",
      "Mem before-during-after: 50489344 2012157952 50489344\n"
     ]
    },
    {
     "name": "stderr",
     "output_type": "stream",
     "text": [
      " 84%|████████████████████████████▍     | 8.37943262411397/10 [26:56<05:26, 201.21s/it]"
     ]
    },
    {
     "name": "stdout",
     "output_type": "stream",
     "text": [
      "Train Epoch: 19 [2560/5420 (47%)]\tLoss: 1.304452\n",
      "Mem before-during-after: 50489344 2019276288 50489344\n"
     ]
    },
    {
     "name": "stderr",
     "output_type": "stream",
     "text": [
      " 84%|███████████████████████████▊     | 8.427895981087941/10 [27:05<05:01, 191.76s/it]"
     ]
    },
    {
     "name": "stdout",
     "output_type": "stream",
     "text": [
      "Train Epoch: 19 [2880/5420 (53%)]\tLoss: 1.018875\n",
      "Mem before-during-after: 50489344 2019276288 50489344\n"
     ]
    },
    {
     "name": "stderr",
     "output_type": "stream",
     "text": [
      " 85%|███████████████████████████▉     | 8.475177304964985/10 [27:15<05:04, 199.64s/it]"
     ]
    },
    {
     "name": "stdout",
     "output_type": "stream",
     "text": [
      "Train Epoch: 19 [3200/5420 (59%)]\tLoss: 0.829535\n",
      "Mem before-during-after: 50489344 2019276288 50489344\n"
     ]
    },
    {
     "name": "stderr",
     "output_type": "stream",
     "text": [
      " 85%|████████████████████████████▉     | 8.52245862884203/10 [27:24<04:45, 193.08s/it]"
     ]
    },
    {
     "name": "stdout",
     "output_type": "stream",
     "text": [
      "Train Epoch: 19 [3520/5420 (65%)]\tLoss: 0.939225\n",
      "Mem before-during-after: 50489344 2019276288 50489344\n"
     ]
    },
    {
     "name": "stderr",
     "output_type": "stream",
     "text": [
      " 86%|████████████████████████████▎    | 8.568557919622148/10 [27:33<04:56, 207.32s/it]"
     ]
    },
    {
     "name": "stdout",
     "output_type": "stream",
     "text": [
      "Train Epoch: 19 [3840/5420 (71%)]\tLoss: 0.907809\n",
      "Mem before-during-after: 50489344 2019276288 50489344\n"
     ]
    },
    {
     "name": "stderr",
     "output_type": "stream",
     "text": [
      " 86%|████████████████████████████▍    | 8.617021276596118/10 [27:42<04:24, 191.59s/it]"
     ]
    },
    {
     "name": "stdout",
     "output_type": "stream",
     "text": [
      "Train Epoch: 19 [4160/5420 (77%)]\tLoss: 0.737443\n",
      "Mem before-during-after: 50489344 2019276288 50489344\n"
     ]
    },
    {
     "name": "stderr",
     "output_type": "stream",
     "text": [
      " 87%|████████████████████████████▌    | 8.664302600473162/10 [27:52<04:16, 191.83s/it]"
     ]
    },
    {
     "name": "stdout",
     "output_type": "stream",
     "text": [
      "Train Epoch: 19 [4480/5420 (83%)]\tLoss: 0.728326\n",
      "Mem before-during-after: 50489344 2019276288 50489344\n"
     ]
    },
    {
     "name": "stderr",
     "output_type": "stream",
     "text": [
      " 87%|████████████████████████████▋    | 8.711583924350206/10 [28:01<04:07, 191.96s/it]"
     ]
    },
    {
     "name": "stdout",
     "output_type": "stream",
     "text": [
      "Train Epoch: 19 [4800/5420 (89%)]\tLoss: 1.150519\n",
      "Mem before-during-after: 50489344 2019276288 50489344\n"
     ]
    },
    {
     "name": "stderr",
     "output_type": "stream",
     "text": [
      " 88%|█████████████████████████████▊    | 8.75886524822725/10 [28:10<04:01, 194.23s/it]"
     ]
    },
    {
     "name": "stdout",
     "output_type": "stream",
     "text": [
      "Train Epoch: 19 [5120/5420 (95%)]\tLoss: 0.551040\n",
      "Mem before-during-after: 50489344 2019276288 50489344\n"
     ]
    },
    {
     "name": "stderr",
     "output_type": "stream",
     "text": [
      " 90%|█████████████████████████████▋   | 9.000000000000176/10 [28:52<02:45, 165.60s/it]"
     ]
    },
    {
     "name": "stdout",
     "output_type": "stream",
     "text": [
      "\n",
      "Test Epoch: 19\tAccuracy: 934/1352 (69%)\n",
      "\n"
     ]
    },
    {
     "name": "stderr",
     "output_type": "stream",
     "text": [
      " 90%|█████████████████████████████▋   | 9.002364066194028/10 [28:52<02:54, 175.39s/it]"
     ]
    },
    {
     "name": "stdout",
     "output_type": "stream",
     "text": [
      "Train Epoch: 20 [0/5420 (0%)]\tLoss: 1.027923\n",
      "Mem before-during-after: 50486784 2032907776 50489344\n"
     ]
    },
    {
     "name": "stderr",
     "output_type": "stream",
     "text": [
      " 90%|█████████████████████████████▊   | 9.048463356974146/10 [29:01<03:15, 205.85s/it]"
     ]
    },
    {
     "name": "stdout",
     "output_type": "stream",
     "text": [
      "Train Epoch: 20 [320/5420 (6%)]\tLoss: 0.563658\n",
      "Mem before-during-after: 50489344 2019276288 50489344\n"
     ]
    },
    {
     "name": "stderr",
     "output_type": "stream",
     "text": [
      " 91%|██████████████████████████████   | 9.096926713948116/10 [29:11<02:52, 191.38s/it]"
     ]
    },
    {
     "name": "stdout",
     "output_type": "stream",
     "text": [
      "Train Epoch: 20 [640/5420 (12%)]\tLoss: 1.149357\n",
      "Mem before-during-after: 50489344 2019276288 50489344\n"
     ]
    },
    {
     "name": "stderr",
     "output_type": "stream",
     "text": [
      " 91%|███████████████████████████████   | 9.14420803782516/10 [29:20<02:44, 192.78s/it]"
     ]
    },
    {
     "name": "stdout",
     "output_type": "stream",
     "text": [
      "Train Epoch: 20 [960/5420 (18%)]\tLoss: 0.891509\n",
      "Mem before-during-after: 50489344 2019276288 50489344\n"
     ]
    },
    {
     "name": "stderr",
     "output_type": "stream",
     "text": [
      " 92%|██████████████████████████████▎  | 9.191489361702205/10 [29:30<02:42, 200.63s/it]"
     ]
    },
    {
     "name": "stdout",
     "output_type": "stream",
     "text": [
      "Train Epoch: 20 [1280/5420 (24%)]\tLoss: 0.795562\n",
      "Mem before-during-after: 50489344 2019276288 50489344\n"
     ]
    },
    {
     "name": "stderr",
     "output_type": "stream",
     "text": [
      " 92%|██████████████████████████████▍  | 9.238770685579249/10 [29:39<02:25, 191.75s/it]"
     ]
    },
    {
     "name": "stdout",
     "output_type": "stream",
     "text": [
      "Train Epoch: 20 [1600/5420 (30%)]\tLoss: 0.736829\n",
      "Mem before-during-after: 50489344 2019276288 50489344\n"
     ]
    },
    {
     "name": "stderr",
     "output_type": "stream",
     "text": [
      " 93%|██████████████████████████████▋  | 9.284869976359367/10 [29:48<02:25, 203.82s/it]"
     ]
    },
    {
     "name": "stdout",
     "output_type": "stream",
     "text": [
      "Train Epoch: 20 [1920/5420 (35%)]\tLoss: 0.402676\n",
      "Mem before-during-after: 50489344 2019276288 50489344\n"
     ]
    },
    {
     "name": "stderr",
     "output_type": "stream",
     "text": [
      " 93%|██████████████████████████████▊  | 9.332151300236411/10 [29:58<02:17, 206.38s/it]"
     ]
    },
    {
     "name": "stdout",
     "output_type": "stream",
     "text": [
      "Train Epoch: 20 [2240/5420 (41%)]\tLoss: 0.913809\n",
      "Mem before-during-after: 50489344 2019276288 50489344\n"
     ]
    },
    {
     "name": "stderr",
     "output_type": "stream",
     "text": [
      " 94%|██████████████████████████████▉  | 9.379432624113456/10 [30:07<02:07, 205.99s/it]"
     ]
    },
    {
     "name": "stdout",
     "output_type": "stream",
     "text": [
      "Train Epoch: 20 [2560/5420 (47%)]\tLoss: 0.723839\n",
      "Mem before-during-after: 50489344 2019276288 50489344\n"
     ]
    },
    {
     "name": "stderr",
     "output_type": "stream",
     "text": [
      " 94%|███████████████████████████████  | 9.427895981087426/10 [30:16<01:48, 190.16s/it]"
     ]
    },
    {
     "name": "stdout",
     "output_type": "stream",
     "text": [
      "Train Epoch: 20 [2880/5420 (53%)]\tLoss: 0.755729\n",
      "Mem before-during-after: 50489344 2019276288 50489344\n"
     ]
    },
    {
     "name": "stderr",
     "output_type": "stream",
     "text": [
      " 95%|████████████████████████████████▏ | 9.47517730496447/10 [30:26<01:41, 194.20s/it]"
     ]
    },
    {
     "name": "stdout",
     "output_type": "stream",
     "text": [
      "Train Epoch: 20 [3200/5420 (59%)]\tLoss: 0.726074\n",
      "Mem before-during-after: 50489344 2019276288 50489344\n"
     ]
    },
    {
     "name": "stderr",
     "output_type": "stream",
     "text": [
      " 95%|███████████████████████████████▍ | 9.522458628841514/10 [30:35<01:31, 192.49s/it]"
     ]
    },
    {
     "name": "stdout",
     "output_type": "stream",
     "text": [
      "Train Epoch: 20 [3520/5420 (65%)]\tLoss: 0.698484\n",
      "Mem before-during-after: 50489344 2019276288 50489344\n"
     ]
    },
    {
     "name": "stderr",
     "output_type": "stream",
     "text": [
      " 96%|███████████████████████████████▌ | 9.568557919621632/10 [30:44<01:28, 205.09s/it]"
     ]
    },
    {
     "name": "stdout",
     "output_type": "stream",
     "text": [
      "Train Epoch: 20 [3840/5420 (71%)]\tLoss: 0.814444\n",
      "Mem before-during-after: 50489344 2019276288 50489344\n"
     ]
    },
    {
     "name": "stderr",
     "output_type": "stream",
     "text": [
      " 96%|███████████████████████████████▋ | 9.615839243498677/10 [30:54<01:18, 203.43s/it]"
     ]
    },
    {
     "name": "stdout",
     "output_type": "stream",
     "text": [
      "Train Epoch: 20 [4160/5420 (77%)]\tLoss: 0.537358\n",
      "Mem before-during-after: 50489344 2019276288 50489344\n"
     ]
    },
    {
     "name": "stderr",
     "output_type": "stream",
     "text": [
      " 97%|███████████████████████████████▉ | 9.664302600472647/10 [31:03<01:04, 192.10s/it]"
     ]
    },
    {
     "name": "stdout",
     "output_type": "stream",
     "text": [
      "Train Epoch: 20 [4480/5420 (83%)]\tLoss: 0.875915\n",
      "Mem before-during-after: 50489344 2019276288 50489344\n"
     ]
    },
    {
     "name": "stderr",
     "output_type": "stream",
     "text": [
      " 97%|████████████████████████████████ | 9.710401891252765/10 [31:12<01:00, 209.10s/it]"
     ]
    },
    {
     "name": "stdout",
     "output_type": "stream",
     "text": [
      "Train Epoch: 20 [4800/5420 (89%)]\tLoss: 0.927952\n",
      "Mem before-during-after: 50489344 2019276288 50489344\n"
     ]
    },
    {
     "name": "stderr",
     "output_type": "stream",
     "text": [
      " 98%|█████████████████████████████████▏| 9.75768321512981/10 [31:22<00:49, 202.76s/it]"
     ]
    },
    {
     "name": "stdout",
     "output_type": "stream",
     "text": [
      "Train Epoch: 20 [5120/5420 (95%)]\tLoss: 0.511323\n",
      "Mem before-during-after: 50489344 2019276288 50489344\n"
     ]
    },
    {
     "name": "stderr",
     "output_type": "stream",
     "text": [
      "100%|█████████████████████████████████▉| 9.99999999999966/10 [32:04<00:00, 192.45s/it]"
     ]
    },
    {
     "name": "stdout",
     "output_type": "stream",
     "text": [
      "\n",
      "Test Epoch: 20\tAccuracy: 934/1352 (69%)\n",
      "\n"
     ]
    },
    {
     "name": "stderr",
     "output_type": "stream",
     "text": [
      "\n"
     ]
    }
   ],
   "source": [
    "n_epoch = 10\n",
    "n_epoch2 = 10\n",
    "# train_losses = []\n",
    "# test_accuracy = []\n",
    "best_accuracy = test_accuracy[-1]\n",
    "best_epoch = n_epoch\n",
    "model_path_prefix = '../models_meld4/meld3_m18emo4_best_'\n",
    "\n",
    "optimizer = optim.RAdam(model.parameters(), lr=0.01)\n",
    "scheduler = optim.lr_scheduler.OneCycleLR(\n",
    "    optimizer, max_lr=0.01,\n",
    "    steps_per_epoch=len(train_loader), epochs=n_epoch2)\n",
    "log_interval = 40\n",
    "pbar_update = 1 / (len(train_loader) + len(test_loader))\n",
    "# model.to(device)\n",
    "with tqdm(total=n_epoch2) as pbar:\n",
    "    for epoch in range(1+n_epoch, n_epoch2 + n_epoch + 1):\n",
    "        train(model, epoch, log_interval, train_losses)\n",
    "        acc = test(model, epoch)\n",
    "        test_accuracy += [acc]\n",
    "        if acc > best_accuracy:\n",
    "            best_accuracy = acc\n",
    "            best_epoch = epoch\n",
    "            bmodel_path = f'{model_path_prefix}{epoch}epoch.pt'\n",
    "            torch.save(model.state_dict(), bmodel_path)\n",
    "            print(f'saved model: {bmodel_path}')\n",
    "        scheduler.step()"
   ]
  },
  {
   "cell_type": "code",
   "execution_count": 24,
   "id": "08e9baf6-e4ee-43c0-801b-7469ccf8f5c1",
   "metadata": {},
   "outputs": [
    {
     "data": {
      "text/plain": [
       "[<matplotlib.lines.Line2D at 0x7f9eeb20b3a0>]"
      ]
     },
     "execution_count": 24,
     "metadata": {},
     "output_type": "execute_result"
    },
    {
     "data": {
      "image/png": "[encoded data removed]",
      "text/plain": [
       "<Figure size 640x480 with 1 Axes>"
      ]
     },
     "metadata": {},
     "output_type": "display_data"
    }
   ],
   "source": [
    "plt.plot(train_losses)"
   ]
  },
  {
   "cell_type": "code",
   "execution_count": 25,
   "id": "91c58002-ce70-40f5-90ee-6cb006471bd8",
   "metadata": {},
   "outputs": [
    {
     "data": {
      "text/plain": [
       "[<matplotlib.lines.Line2D at 0x7f9eea987400>]"
      ]
     },
     "execution_count": 25,
     "metadata": {},
     "output_type": "execute_result"
    },
    {
     "data": {
      "image/png": "[encoded data removed]",
      "text/plain": [
       "<Figure size 640x480 with 1 Axes>"
      ]
     },
     "metadata": {},
     "output_type": "display_data"
    }
   ],
   "source": [
    "plt.plot(test_accuracy)"
   ]
  },
  {
   "cell_type": "code",
   "execution_count": 26,
   "id": "b2fbb4ea-5a21-4f93-9079-b9033ccc6323",
   "metadata": {},
   "outputs": [
    {
     "name": "stdout",
     "output_type": "stream",
     "text": [
      "Correct: 934/1352 (0.6908)\n",
      "{'acc_detail': tensor([0.9968, 0.0000, 0.0116], device='cuda:0'),\n",
      " 'acc_unweighted': tensor(0.3361, device='cuda:0'),\n",
      " 'acc_weighted': tensor(0.6908, device='cuda:0'),\n",
      " 'f1s': tensor(0.2800, device='cuda:0'),\n",
      " 'f1s_detail': tensor([0.8174, 0.0000, 0.0226], device='cuda:0'),\n",
      " 'precision_detail': tensor([0.6927, 0.0000, 0.4286], device='cuda:0'),\n",
      " 'recall_detail': tensor([0.9968, 0.0000, 0.0116], device='cuda:0'),\n",
      " 'rocauc': tensor([0.5813, 0.5589, 0.6318], device='cuda:0'),\n",
      " 'uar': tensor(0.3361, device='cuda:0'),\n",
      " 'wap': tensor(0.5603, device='cuda:0')}\n"
     ]
    },
    {
     "data": {
      "text/plain": [
       "tensor([[931,   1,   2],\n",
       "        [158,   0,   2],\n",
       "        [255,   0,   3]], device='cuda:0')"
      ]
     },
     "execution_count": 26,
     "metadata": {},
     "output_type": "execute_result"
    }
   ],
   "source": [
    "metrics2, confusion_matrix2 = report_metrics(\n",
    "    model, labels=labels, device=device)\n",
    "pprint(metrics2.compute())\n",
    "confusion_matrix2.compute()"
   ]
  },
  {
   "cell_type": "code",
   "execution_count": 27,
   "id": "0031c32c-cf4d-47ad-bf40-05d2613a0374",
   "metadata": {},
   "outputs": [
    {
     "name": "stdout",
     "output_type": "stream",
     "text": [
      "../models_meld4/meld3_m18emo4_best_14epoch.pt\n",
      "Correct: 935/1352 (0.6916)\n",
      "{'acc_detail': tensor([0.9979, 0.0063, 0.0078], device='cuda:0'),\n",
      " 'acc_unweighted': tensor(0.3373, device='cuda:0'),\n",
      " 'acc_weighted': tensor(0.6916, device='cuda:0'),\n",
      " 'f1s': tensor(0.2819, device='cuda:0'),\n",
      " 'f1s_detail': tensor([0.8183, 0.0124, 0.0151], device='cuda:0'),\n",
      " 'precision_detail': tensor([0.6935, 1.0000, 0.2857], device='cuda:0'),\n",
      " 'recall_detail': tensor([0.9979, 0.0063, 0.0078], device='cuda:0'),\n",
      " 'rocauc': tensor([0.5798, 0.5606, 0.6291], device='cuda:0'),\n",
      " 'uar': tensor(0.3373, device='cuda:0'),\n",
      " 'wap': tensor(0.6519, device='cuda:0')}\n"
     ]
    },
    {
     "data": {
      "text/plain": [
       "tensor([[932,   0,   2],\n",
       "        [156,   1,   3],\n",
       "        [256,   0,   2]], device='cuda:0')"
      ]
     },
     "execution_count": 27,
     "metadata": {},
     "output_type": "execute_result"
    }
   ],
   "source": [
    "model.to('cpu')\n",
    "best_model_path = f'{model_path_prefix}{best_epoch}epoch.pt'\n",
    "print(best_model_path)\n",
    "best_model = M18(config=model_config,\n",
    "           n_input=1, n_output=len(labels))\n",
    "best_model.load_state_dict(torch.load(best_model_path))\n",
    "best_model.to(device)\n",
    "\n",
    "metrics_best, confusion_matrix_best = report_metrics(\n",
    "    best_model, labels=labels, device=device)\n",
    "best_model.to('cpu')\n",
    "pprint(metrics_best.compute())\n",
    "confusion_matrix_best.compute()"
   ]
  },
  {
   "cell_type": "code",
   "execution_count": 28,
   "id": "dd8c191e-8834-4b24-b6e3-5b0af42c8fb7",
   "metadata": {
    "scrolled": true
   },
   "outputs": [
    {
     "name": "stdout",
     "output_type": "stream",
     "text": [
      "('lowcut_bands', Parameter containing:\n",
      "tensor([[0.0000],\n",
      "        [0.0009],\n",
      "        [0.0018],\n",
      "        [0.0027],\n",
      "        [0.0036],\n",
      "        [0.0045],\n",
      "        [0.0055],\n",
      "        [0.0065],\n",
      "        [0.0075],\n",
      "        [0.0085],\n",
      "        [0.0095],\n",
      "        [0.0106],\n",
      "        [0.0117],\n",
      "        [0.0128],\n",
      "        [0.0139],\n",
      "        [0.0150],\n",
      "        [0.0162],\n",
      "        [0.0174],\n",
      "        [0.0186],\n",
      "        [0.0198],\n",
      "        [0.0211],\n",
      "        [0.0224],\n",
      "        [0.0237],\n",
      "        [0.0251],\n",
      "        [0.0264],\n",
      "        [0.0278],\n",
      "        [0.0292],\n",
      "        [0.0307],\n",
      "        [0.0322],\n",
      "        [0.0337],\n",
      "        [0.0352],\n",
      "        [0.0368],\n",
      "        [0.0384],\n",
      "        [0.0400],\n",
      "        [0.0417],\n",
      "        [0.0434],\n",
      "        [0.0451],\n",
      "        [0.0469],\n",
      "        [0.0487],\n",
      "        [0.0505],\n",
      "        [0.0524],\n",
      "        [0.0543],\n",
      "        [0.0563],\n",
      "        [0.0583],\n",
      "        [0.0603],\n",
      "        [0.0624],\n",
      "        [0.0645],\n",
      "        [0.0666],\n",
      "        [0.0688],\n",
      "        [0.0710],\n",
      "        [0.0733],\n",
      "        [0.0757],\n",
      "        [0.0780],\n",
      "        [0.0805],\n",
      "        [0.0829],\n",
      "        [0.0854],\n",
      "        [0.0880],\n",
      "        [0.0906],\n",
      "        [0.0933],\n",
      "        [0.0960],\n",
      "        [0.0988],\n",
      "        [0.1016],\n",
      "        [0.1045],\n",
      "        [0.1075],\n",
      "        [0.1105],\n",
      "        [0.1136],\n",
      "        [0.1167],\n",
      "        [0.1199],\n",
      "        [0.1231],\n",
      "        [0.1264],\n",
      "        [0.1298],\n",
      "        [0.1333],\n",
      "        [0.1368],\n",
      "        [0.1404],\n",
      "        [0.1440],\n",
      "        [0.1478],\n",
      "        [0.1516],\n",
      "        [0.1555],\n",
      "        [0.1594],\n",
      "        [0.1635],\n",
      "        [0.1676],\n",
      "        [0.1718],\n",
      "        [0.1761],\n",
      "        [0.1805],\n",
      "        [0.1849],\n",
      "        [0.1895],\n",
      "        [0.1941],\n",
      "        [0.1988],\n",
      "        [0.2036],\n",
      "        [0.2086],\n",
      "        [0.2136],\n",
      "        [0.2187],\n",
      "        [0.2239],\n",
      "        [0.2292],\n",
      "        [0.2347],\n",
      "        [0.2402],\n",
      "        [0.2458],\n",
      "        [0.2516],\n",
      "        [0.2575],\n",
      "        [0.2635],\n",
      "        [0.2696],\n",
      "        [0.2758],\n",
      "        [0.2822],\n",
      "        [0.2886],\n",
      "        [0.2952],\n",
      "        [0.3020],\n",
      "        [0.3089],\n",
      "        [0.3159],\n",
      "        [0.3230],\n",
      "        [0.3303],\n",
      "        [0.3378],\n",
      "        [0.3453],\n",
      "        [0.3531],\n",
      "        [0.3610],\n",
      "        [0.3690],\n",
      "        [0.3772],\n",
      "        [0.3856],\n",
      "        [0.3941],\n",
      "        [0.4028],\n",
      "        [0.4117],\n",
      "        [0.4208],\n",
      "        [0.4300],\n",
      "        [0.4394],\n",
      "        [0.4490],\n",
      "        [0.4588],\n",
      "        [0.4688],\n",
      "        [0.4790],\n",
      "        [0.4894],\n",
      "        [0.0000],\n",
      "        [0.0013],\n",
      "        [0.0026],\n",
      "        [0.0040],\n",
      "        [0.0054],\n",
      "        [0.0068],\n",
      "        [0.0082],\n",
      "        [0.0096],\n",
      "        [0.0111],\n",
      "        [0.0125],\n",
      "        [0.0140],\n",
      "        [0.0156],\n",
      "        [0.0171],\n",
      "        [0.0187],\n",
      "        [0.0203],\n",
      "        [0.0219],\n",
      "        [0.0235],\n",
      "        [0.0252],\n",
      "        [0.0269],\n",
      "        [0.0286],\n",
      "        [0.0303],\n",
      "        [0.0321],\n",
      "        [0.0339],\n",
      "        [0.0357],\n",
      "        [0.0375],\n",
      "        [0.0394],\n",
      "        [0.0413],\n",
      "        [0.0433],\n",
      "        [0.0452],\n",
      "        [0.0472],\n",
      "        [0.0492],\n",
      "        [0.0513],\n",
      "        [0.0534],\n",
      "        [0.0555],\n",
      "        [0.0576],\n",
      "        [0.0598],\n",
      "        [0.0620],\n",
      "        [0.0642],\n",
      "        [0.0665],\n",
      "        [0.0688],\n",
      "        [0.0712],\n",
      "        [0.0735],\n",
      "        [0.0759],\n",
      "        [0.0784],\n",
      "        [0.0809],\n",
      "        [0.0834],\n",
      "        [0.0860],\n",
      "        [0.0886],\n",
      "        [0.0912],\n",
      "        [0.0939],\n",
      "        [0.0966],\n",
      "        [0.0994],\n",
      "        [0.1022],\n",
      "        [0.1050],\n",
      "        [0.1079],\n",
      "        [0.1108],\n",
      "        [0.1138],\n",
      "        [0.1168],\n",
      "        [0.1199],\n",
      "        [0.1230],\n",
      "        [0.1261],\n",
      "        [0.1293],\n",
      "        [0.1326],\n",
      "        [0.1359],\n",
      "        [0.1392],\n",
      "        [0.1426],\n",
      "        [0.1461],\n",
      "        [0.1496],\n",
      "        [0.1531],\n",
      "        [0.1567],\n",
      "        [0.1604],\n",
      "        [0.1641],\n",
      "        [0.1679],\n",
      "        [0.1717],\n",
      "        [0.1756],\n",
      "        [0.1795],\n",
      "        [0.1835],\n",
      "        [0.1876],\n",
      "        [0.1917],\n",
      "        [0.1959],\n",
      "        [0.2002],\n",
      "        [0.2045],\n",
      "        [0.2088],\n",
      "        [0.2133],\n",
      "        [0.2178],\n",
      "        [0.2224],\n",
      "        [0.2270],\n",
      "        [0.2317],\n",
      "        [0.2365],\n",
      "        [0.2414],\n",
      "        [0.2463],\n",
      "        [0.2513],\n",
      "        [0.2564],\n",
      "        [0.2615],\n",
      "        [0.2668],\n",
      "        [0.2721],\n",
      "        [0.2775],\n",
      "        [0.2829],\n",
      "        [0.2885],\n",
      "        [0.2941],\n",
      "        [0.2998],\n",
      "        [0.3057],\n",
      "        [0.3115],\n",
      "        [0.3175],\n",
      "        [0.3236],\n",
      "        [0.3298],\n",
      "        [0.3360],\n",
      "        [0.3424],\n",
      "        [0.3488],\n",
      "        [0.3553],\n",
      "        [0.3620],\n",
      "        [0.3687],\n",
      "        [0.3756],\n",
      "        [0.3825],\n",
      "        [0.3895],\n",
      "        [0.3967],\n",
      "        [0.4039],\n",
      "        [0.4113],\n",
      "        [0.4188],\n",
      "        [0.4264],\n",
      "        [0.4341],\n",
      "        [0.4419],\n",
      "        [0.4498],\n",
      "        [0.4579],\n",
      "        [0.4661],\n",
      "        [0.4744],\n",
      "        [0.4828],\n",
      "        [0.4913],\n",
      "        [0.0000],\n",
      "        [0.0019],\n",
      "        [0.0037],\n",
      "        [0.0056],\n",
      "        [0.0075],\n",
      "        [0.0095],\n",
      "        [0.0114],\n",
      "        [0.0134],\n",
      "        [0.0154],\n",
      "        [0.0174],\n",
      "        [0.0195],\n",
      "        [0.0215],\n",
      "        [0.0236],\n",
      "        [0.0257],\n",
      "        [0.0278],\n",
      "        [0.0300],\n",
      "        [0.0322],\n",
      "        [0.0344],\n",
      "        [0.0366],\n",
      "        [0.0388],\n",
      "        [0.0411],\n",
      "        [0.0434],\n",
      "        [0.0457],\n",
      "        [0.0480],\n",
      "        [0.0504],\n",
      "        [0.0528],\n",
      "        [0.0552],\n",
      "        [0.0577],\n",
      "        [0.0601],\n",
      "        [0.0626],\n",
      "        [0.0651],\n",
      "        [0.0677],\n",
      "        [0.0702],\n",
      "        [0.0728],\n",
      "        [0.0755],\n",
      "        [0.0781],\n",
      "        [0.0808],\n",
      "        [0.0835],\n",
      "        [0.0863],\n",
      "        [0.0890],\n",
      "        [0.0918],\n",
      "        [0.0947],\n",
      "        [0.0975],\n",
      "        [0.1004],\n",
      "        [0.1033],\n",
      "        [0.1063],\n",
      "        [0.1093],\n",
      "        [0.1123],\n",
      "        [0.1153],\n",
      "        [0.1184],\n",
      "        [0.1215],\n",
      "        [0.1247],\n",
      "        [0.1278],\n",
      "        [0.1310],\n",
      "        [0.1343],\n",
      "        [0.1376],\n",
      "        [0.1409],\n",
      "        [0.1442],\n",
      "        [0.1476],\n",
      "        [0.1510],\n",
      "        [0.1545],\n",
      "        [0.1580],\n",
      "        [0.1615],\n",
      "        [0.1651],\n",
      "        [0.1687],\n",
      "        [0.1723],\n",
      "        [0.1760],\n",
      "        [0.1797],\n",
      "        [0.1835],\n",
      "        [0.1873],\n",
      "        [0.1911],\n",
      "        [0.1950],\n",
      "        [0.1989],\n",
      "        [0.2029],\n",
      "        [0.2069],\n",
      "        [0.2110],\n",
      "        [0.2151],\n",
      "        [0.2192],\n",
      "        [0.2234],\n",
      "        [0.2276],\n",
      "        [0.2319],\n",
      "        [0.2362],\n",
      "        [0.2405],\n",
      "        [0.2449],\n",
      "        [0.2494],\n",
      "        [0.2539],\n",
      "        [0.2584],\n",
      "        [0.2630],\n",
      "        [0.2677],\n",
      "        [0.2724],\n",
      "        [0.2771],\n",
      "        [0.2819],\n",
      "        [0.2868],\n",
      "        [0.2917],\n",
      "        [0.2966],\n",
      "        [0.3016],\n",
      "        [0.3067],\n",
      "        [0.3118],\n",
      "        [0.3169],\n",
      "        [0.3221],\n",
      "        [0.3274],\n",
      "        [0.3327],\n",
      "        [0.3381],\n",
      "        [0.3436],\n",
      "        [0.3491],\n",
      "        [0.3546],\n",
      "        [0.3602],\n",
      "        [0.3659],\n",
      "        [0.3716],\n",
      "        [0.3774],\n",
      "        [0.3833],\n",
      "        [0.3892],\n",
      "        [0.3952],\n",
      "        [0.4012],\n",
      "        [0.4073],\n",
      "        [0.4135],\n",
      "        [0.4198],\n",
      "        [0.4261],\n",
      "        [0.4324],\n",
      "        [0.4389],\n",
      "        [0.4454],\n",
      "        [0.4520],\n",
      "        [0.4586],\n",
      "        [0.4653],\n",
      "        [0.4721],\n",
      "        [0.4790],\n",
      "        [0.4859],\n",
      "        [0.4929],\n",
      "        [0.0000],\n",
      "        [0.0024],\n",
      "        [0.0049],\n",
      "        [0.0074],\n",
      "        [0.0098],\n",
      "        [0.0123],\n",
      "        [0.0149],\n",
      "        [0.0174],\n",
      "        [0.0200],\n",
      "        [0.0225],\n",
      "        [0.0251],\n",
      "        [0.0277],\n",
      "        [0.0304],\n",
      "        [0.0330],\n",
      "        [0.0357],\n",
      "        [0.0384],\n",
      "        [0.0411],\n",
      "        [0.0438],\n",
      "        [0.0465],\n",
      "        [0.0493],\n",
      "        [0.0520],\n",
      "        [0.0548],\n",
      "        [0.0577],\n",
      "        [0.0605],\n",
      "        [0.0634],\n",
      "        [0.0662],\n",
      "        [0.0691],\n",
      "        [0.0720],\n",
      "        [0.0750],\n",
      "        [0.0779],\n",
      "        [0.0809],\n",
      "        [0.0839],\n",
      "        [0.0869],\n",
      "        [0.0900],\n",
      "        [0.0930],\n",
      "        [0.0961],\n",
      "        [0.0992],\n",
      "        [0.1023],\n",
      "        [0.1055],\n",
      "        [0.1086],\n",
      "        [0.1118],\n",
      "        [0.1151],\n",
      "        [0.1183],\n",
      "        [0.1215],\n",
      "        [0.1248],\n",
      "        [0.1281],\n",
      "        [0.1315],\n",
      "        [0.1348],\n",
      "        [0.1382],\n",
      "        [0.1416],\n",
      "        [0.1450],\n",
      "        [0.1484],\n",
      "        [0.1519],\n",
      "        [0.1554],\n",
      "        [0.1589],\n",
      "        [0.1624],\n",
      "        [0.1660],\n",
      "        [0.1696],\n",
      "        [0.1732],\n",
      "        [0.1769],\n",
      "        [0.1805],\n",
      "        [0.1842],\n",
      "        [0.1879],\n",
      "        [0.1917],\n",
      "        [0.1954],\n",
      "        [0.1992],\n",
      "        [0.2031],\n",
      "        [0.2069],\n",
      "        [0.2108],\n",
      "        [0.2147],\n",
      "        [0.2186],\n",
      "        [0.2226],\n",
      "        [0.2265],\n",
      "        [0.2305],\n",
      "        [0.2346],\n",
      "        [0.2387],\n",
      "        [0.2427],\n",
      "        [0.2469],\n",
      "        [0.2510],\n",
      "        [0.2552],\n",
      "        [0.2594],\n",
      "        [0.2637],\n",
      "        [0.2679],\n",
      "        [0.2722],\n",
      "        [0.2765],\n",
      "        [0.2809],\n",
      "        [0.2853],\n",
      "        [0.2897],\n",
      "        [0.2942],\n",
      "        [0.2986],\n",
      "        [0.3032],\n",
      "        [0.3077],\n",
      "        [0.3123],\n",
      "        [0.3169],\n",
      "        [0.3215],\n",
      "        [0.3262],\n",
      "        [0.3309],\n",
      "        [0.3356],\n",
      "        [0.3404],\n",
      "        [0.3452],\n",
      "        [0.3500],\n",
      "        [0.3549],\n",
      "        [0.3598],\n",
      "        [0.3648],\n",
      "        [0.3697],\n",
      "        [0.3747],\n",
      "        [0.3798],\n",
      "        [0.3848],\n",
      "        [0.3900],\n",
      "        [0.3951],\n",
      "        [0.4003],\n",
      "        [0.4055],\n",
      "        [0.4108],\n",
      "        [0.4161],\n",
      "        [0.4214],\n",
      "        [0.4268],\n",
      "        [0.4322],\n",
      "        [0.4376],\n",
      "        [0.4431],\n",
      "        [0.4486],\n",
      "        [0.4541],\n",
      "        [0.4597],\n",
      "        [0.4654],\n",
      "        [0.4710],\n",
      "        [0.4768],\n",
      "        [0.4825],\n",
      "        [0.4883],\n",
      "        [0.4941]], requires_grad=True))\n",
      "('bandwidths', Parameter containing:\n",
      "tensor([[0.0009],\n",
      "        [0.0009],\n",
      "        [0.0009],\n",
      "        [0.0009],\n",
      "        [0.0009],\n",
      "        [0.0010],\n",
      "        [0.0010],\n",
      "        [0.0010],\n",
      "        [0.0010],\n",
      "        [0.0010],\n",
      "        [0.0011],\n",
      "        [0.0011],\n",
      "        [0.0011],\n",
      "        [0.0011],\n",
      "        [0.0011],\n",
      "        [0.0012],\n",
      "        [0.0012],\n",
      "        [0.0012],\n",
      "        [0.0012],\n",
      "        [0.0013],\n",
      "        [0.0013],\n",
      "        [0.0013],\n",
      "        [0.0013],\n",
      "        [0.0014],\n",
      "        [0.0014],\n",
      "        [0.0014],\n",
      "        [0.0015],\n",
      "        [0.0015],\n",
      "        [0.0015],\n",
      "        [0.0015],\n",
      "        [0.0016],\n",
      "        [0.0016],\n",
      "        [0.0016],\n",
      "        [0.0017],\n",
      "        [0.0017],\n",
      "        [0.0017],\n",
      "        [0.0018],\n",
      "        [0.0018],\n",
      "        [0.0018],\n",
      "        [0.0019],\n",
      "        [0.0019],\n",
      "        [0.0019],\n",
      "        [0.0020],\n",
      "        [0.0020],\n",
      "        [0.0021],\n",
      "        [0.0021],\n",
      "        [0.0022],\n",
      "        [0.0022],\n",
      "        [0.0022],\n",
      "        [0.0023],\n",
      "        [0.0023],\n",
      "        [0.0024],\n",
      "        [0.0024],\n",
      "        [0.0025],\n",
      "        [0.0025],\n",
      "        [0.0026],\n",
      "        [0.0026],\n",
      "        [0.0027],\n",
      "        [0.0027],\n",
      "        [0.0028],\n",
      "        [0.0028],\n",
      "        [0.0029],\n",
      "        [0.0029],\n",
      "        [0.0030],\n",
      "        [0.0031],\n",
      "        [0.0031],\n",
      "        [0.0032],\n",
      "        [0.0033],\n",
      "        [0.0033],\n",
      "        [0.0034],\n",
      "        [0.0035],\n",
      "        [0.0035],\n",
      "        [0.0036],\n",
      "        [0.0037],\n",
      "        [0.0037],\n",
      "        [0.0038],\n",
      "        [0.0039],\n",
      "        [0.0040],\n",
      "        [0.0040],\n",
      "        [0.0041],\n",
      "        [0.0042],\n",
      "        [0.0043],\n",
      "        [0.0044],\n",
      "        [0.0045],\n",
      "        [0.0045],\n",
      "        [0.0046],\n",
      "        [0.0047],\n",
      "        [0.0048],\n",
      "        [0.0049],\n",
      "        [0.0050],\n",
      "        [0.0051],\n",
      "        [0.0052],\n",
      "        [0.0053],\n",
      "        [0.0054],\n",
      "        [0.0055],\n",
      "        [0.0056],\n",
      "        [0.0058],\n",
      "        [0.0059],\n",
      "        [0.0060],\n",
      "        [0.0061],\n",
      "        [0.0062],\n",
      "        [0.0064],\n",
      "        [0.0065],\n",
      "        [0.0066],\n",
      "        [0.0067],\n",
      "        [0.0069],\n",
      "        [0.0070],\n",
      "        [0.0072],\n",
      "        [0.0073],\n",
      "        [0.0074],\n",
      "        [0.0076],\n",
      "        [0.0077],\n",
      "        [0.0079],\n",
      "        [0.0080],\n",
      "        [0.0082],\n",
      "        [0.0084],\n",
      "        [0.0085],\n",
      "        [0.0087],\n",
      "        [0.0089],\n",
      "        [0.0091],\n",
      "        [0.0092],\n",
      "        [0.0094],\n",
      "        [0.0096],\n",
      "        [0.0098],\n",
      "        [0.0100],\n",
      "        [0.0102],\n",
      "        [0.0104],\n",
      "        [0.0106],\n",
      "        [0.0013],\n",
      "        [0.0013],\n",
      "        [0.0014],\n",
      "        [0.0014],\n",
      "        [0.0014],\n",
      "        [0.0014],\n",
      "        [0.0014],\n",
      "        [0.0015],\n",
      "        [0.0015],\n",
      "        [0.0015],\n",
      "        [0.0015],\n",
      "        [0.0015],\n",
      "        [0.0016],\n",
      "        [0.0016],\n",
      "        [0.0016],\n",
      "        [0.0016],\n",
      "        [0.0017],\n",
      "        [0.0017],\n",
      "        [0.0017],\n",
      "        [0.0017],\n",
      "        [0.0018],\n",
      "        [0.0018],\n",
      "        [0.0018],\n",
      "        [0.0018],\n",
      "        [0.0019],\n",
      "        [0.0019],\n",
      "        [0.0019],\n",
      "        [0.0020],\n",
      "        [0.0020],\n",
      "        [0.0020],\n",
      "        [0.0020],\n",
      "        [0.0021],\n",
      "        [0.0021],\n",
      "        [0.0021],\n",
      "        [0.0022],\n",
      "        [0.0022],\n",
      "        [0.0022],\n",
      "        [0.0023],\n",
      "        [0.0023],\n",
      "        [0.0023],\n",
      "        [0.0024],\n",
      "        [0.0024],\n",
      "        [0.0024],\n",
      "        [0.0025],\n",
      "        [0.0025],\n",
      "        [0.0026],\n",
      "        [0.0026],\n",
      "        [0.0026],\n",
      "        [0.0027],\n",
      "        [0.0027],\n",
      "        [0.0028],\n",
      "        [0.0028],\n",
      "        [0.0028],\n",
      "        [0.0029],\n",
      "        [0.0029],\n",
      "        [0.0030],\n",
      "        [0.0030],\n",
      "        [0.0031],\n",
      "        [0.0031],\n",
      "        [0.0032],\n",
      "        [0.0032],\n",
      "        [0.0032],\n",
      "        [0.0033],\n",
      "        [0.0033],\n",
      "        [0.0034],\n",
      "        [0.0034],\n",
      "        [0.0035],\n",
      "        [0.0036],\n",
      "        [0.0036],\n",
      "        [0.0037],\n",
      "        [0.0037],\n",
      "        [0.0038],\n",
      "        [0.0038],\n",
      "        [0.0039],\n",
      "        [0.0039],\n",
      "        [0.0040],\n",
      "        [0.0041],\n",
      "        [0.0041],\n",
      "        [0.0042],\n",
      "        [0.0042],\n",
      "        [0.0043],\n",
      "        [0.0044],\n",
      "        [0.0044],\n",
      "        [0.0045],\n",
      "        [0.0046],\n",
      "        [0.0046],\n",
      "        [0.0047],\n",
      "        [0.0048],\n",
      "        [0.0049],\n",
      "        [0.0049],\n",
      "        [0.0050],\n",
      "        [0.0051],\n",
      "        [0.0052],\n",
      "        [0.0052],\n",
      "        [0.0053],\n",
      "        [0.0054],\n",
      "        [0.0055],\n",
      "        [0.0056],\n",
      "        [0.0056],\n",
      "        [0.0057],\n",
      "        [0.0058],\n",
      "        [0.0059],\n",
      "        [0.0060],\n",
      "        [0.0061],\n",
      "        [0.0062],\n",
      "        [0.0063],\n",
      "        [0.0063],\n",
      "        [0.0064],\n",
      "        [0.0065],\n",
      "        [0.0066],\n",
      "        [0.0067],\n",
      "        [0.0068],\n",
      "        [0.0069],\n",
      "        [0.0070],\n",
      "        [0.0071],\n",
      "        [0.0073],\n",
      "        [0.0074],\n",
      "        [0.0075],\n",
      "        [0.0076],\n",
      "        [0.0077],\n",
      "        [0.0078],\n",
      "        [0.0079],\n",
      "        [0.0081],\n",
      "        [0.0082],\n",
      "        [0.0083],\n",
      "        [0.0084],\n",
      "        [0.0085],\n",
      "        [0.0087],\n",
      "        [0.0019],\n",
      "        [0.0019],\n",
      "        [0.0019],\n",
      "        [0.0019],\n",
      "        [0.0019],\n",
      "        [0.0020],\n",
      "        [0.0020],\n",
      "        [0.0020],\n",
      "        [0.0020],\n",
      "        [0.0020],\n",
      "        [0.0021],\n",
      "        [0.0021],\n",
      "        [0.0021],\n",
      "        [0.0021],\n",
      "        [0.0022],\n",
      "        [0.0022],\n",
      "        [0.0022],\n",
      "        [0.0022],\n",
      "        [0.0022],\n",
      "        [0.0023],\n",
      "        [0.0023],\n",
      "        [0.0023],\n",
      "        [0.0023],\n",
      "        [0.0024],\n",
      "        [0.0024],\n",
      "        [0.0024],\n",
      "        [0.0024],\n",
      "        [0.0025],\n",
      "        [0.0025],\n",
      "        [0.0025],\n",
      "        [0.0025],\n",
      "        [0.0026],\n",
      "        [0.0026],\n",
      "        [0.0026],\n",
      "        [0.0027],\n",
      "        [0.0027],\n",
      "        [0.0027],\n",
      "        [0.0027],\n",
      "        [0.0028],\n",
      "        [0.0028],\n",
      "        [0.0028],\n",
      "        [0.0029],\n",
      "        [0.0029],\n",
      "        [0.0029],\n",
      "        [0.0030],\n",
      "        [0.0030],\n",
      "        [0.0030],\n",
      "        [0.0030],\n",
      "        [0.0031],\n",
      "        [0.0031],\n",
      "        [0.0031],\n",
      "        [0.0032],\n",
      "        [0.0032],\n",
      "        [0.0032],\n",
      "        [0.0033],\n",
      "        [0.0033],\n",
      "        [0.0033],\n",
      "        [0.0034],\n",
      "        [0.0034],\n",
      "        [0.0035],\n",
      "        [0.0035],\n",
      "        [0.0035],\n",
      "        [0.0036],\n",
      "        [0.0036],\n",
      "        [0.0036],\n",
      "        [0.0037],\n",
      "        [0.0037],\n",
      "        [0.0038],\n",
      "        [0.0038],\n",
      "        [0.0038],\n",
      "        [0.0039],\n",
      "        [0.0039],\n",
      "        [0.0040],\n",
      "        [0.0040],\n",
      "        [0.0040],\n",
      "        [0.0041],\n",
      "        [0.0041],\n",
      "        [0.0042],\n",
      "        [0.0042],\n",
      "        [0.0043],\n",
      "        [0.0043],\n",
      "        [0.0044],\n",
      "        [0.0044],\n",
      "        [0.0045],\n",
      "        [0.0045],\n",
      "        [0.0045],\n",
      "        [0.0046],\n",
      "        [0.0046],\n",
      "        [0.0047],\n",
      "        [0.0047],\n",
      "        [0.0048],\n",
      "        [0.0048],\n",
      "        [0.0049],\n",
      "        [0.0049],\n",
      "        [0.0050],\n",
      "        [0.0051],\n",
      "        [0.0051],\n",
      "        [0.0052],\n",
      "        [0.0052],\n",
      "        [0.0053],\n",
      "        [0.0053],\n",
      "        [0.0054],\n",
      "        [0.0054],\n",
      "        [0.0055],\n",
      "        [0.0056],\n",
      "        [0.0056],\n",
      "        [0.0057],\n",
      "        [0.0057],\n",
      "        [0.0058],\n",
      "        [0.0059],\n",
      "        [0.0059],\n",
      "        [0.0060],\n",
      "        [0.0060],\n",
      "        [0.0061],\n",
      "        [0.0062],\n",
      "        [0.0062],\n",
      "        [0.0063],\n",
      "        [0.0064],\n",
      "        [0.0064],\n",
      "        [0.0065],\n",
      "        [0.0066],\n",
      "        [0.0066],\n",
      "        [0.0067],\n",
      "        [0.0068],\n",
      "        [0.0069],\n",
      "        [0.0069],\n",
      "        [0.0070],\n",
      "        [0.0071],\n",
      "        [0.0024],\n",
      "        [0.0025],\n",
      "        [0.0025],\n",
      "        [0.0025],\n",
      "        [0.0025],\n",
      "        [0.0025],\n",
      "        [0.0025],\n",
      "        [0.0026],\n",
      "        [0.0026],\n",
      "        [0.0026],\n",
      "        [0.0026],\n",
      "        [0.0026],\n",
      "        [0.0026],\n",
      "        [0.0027],\n",
      "        [0.0027],\n",
      "        [0.0027],\n",
      "        [0.0027],\n",
      "        [0.0027],\n",
      "        [0.0028],\n",
      "        [0.0028],\n",
      "        [0.0028],\n",
      "        [0.0028],\n",
      "        [0.0028],\n",
      "        [0.0029],\n",
      "        [0.0029],\n",
      "        [0.0029],\n",
      "        [0.0029],\n",
      "        [0.0029],\n",
      "        [0.0030],\n",
      "        [0.0030],\n",
      "        [0.0030],\n",
      "        [0.0030],\n",
      "        [0.0030],\n",
      "        [0.0031],\n",
      "        [0.0031],\n",
      "        [0.0031],\n",
      "        [0.0031],\n",
      "        [0.0031],\n",
      "        [0.0032],\n",
      "        [0.0032],\n",
      "        [0.0032],\n",
      "        [0.0032],\n",
      "        [0.0033],\n",
      "        [0.0033],\n",
      "        [0.0033],\n",
      "        [0.0033],\n",
      "        [0.0033],\n",
      "        [0.0034],\n",
      "        [0.0034],\n",
      "        [0.0034],\n",
      "        [0.0034],\n",
      "        [0.0035],\n",
      "        [0.0035],\n",
      "        [0.0035],\n",
      "        [0.0035],\n",
      "        [0.0036],\n",
      "        [0.0036],\n",
      "        [0.0036],\n",
      "        [0.0036],\n",
      "        [0.0037],\n",
      "        [0.0037],\n",
      "        [0.0037],\n",
      "        [0.0037],\n",
      "        [0.0038],\n",
      "        [0.0038],\n",
      "        [0.0038],\n",
      "        [0.0038],\n",
      "        [0.0039],\n",
      "        [0.0039],\n",
      "        [0.0039],\n",
      "        [0.0040],\n",
      "        [0.0040],\n",
      "        [0.0040],\n",
      "        [0.0040],\n",
      "        [0.0041],\n",
      "        [0.0041],\n",
      "        [0.0041],\n",
      "        [0.0042],\n",
      "        [0.0042],\n",
      "        [0.0042],\n",
      "        [0.0042],\n",
      "        [0.0043],\n",
      "        [0.0043],\n",
      "        [0.0043],\n",
      "        [0.0044],\n",
      "        [0.0044],\n",
      "        [0.0044],\n",
      "        [0.0044],\n",
      "        [0.0045],\n",
      "        [0.0045],\n",
      "        [0.0045],\n",
      "        [0.0046],\n",
      "        [0.0046],\n",
      "        [0.0046],\n",
      "        [0.0047],\n",
      "        [0.0047],\n",
      "        [0.0047],\n",
      "        [0.0048],\n",
      "        [0.0048],\n",
      "        [0.0048],\n",
      "        [0.0049],\n",
      "        [0.0049],\n",
      "        [0.0049],\n",
      "        [0.0050],\n",
      "        [0.0050],\n",
      "        [0.0050],\n",
      "        [0.0051],\n",
      "        [0.0051],\n",
      "        [0.0051],\n",
      "        [0.0052],\n",
      "        [0.0052],\n",
      "        [0.0053],\n",
      "        [0.0053],\n",
      "        [0.0053],\n",
      "        [0.0054],\n",
      "        [0.0054],\n",
      "        [0.0054],\n",
      "        [0.0055],\n",
      "        [0.0055],\n",
      "        [0.0056],\n",
      "        [0.0056],\n",
      "        [0.0056],\n",
      "        [0.0057],\n",
      "        [0.0057],\n",
      "        [0.0058],\n",
      "        [0.0058],\n",
      "        [0.0058],\n",
      "        [0.0059]], requires_grad=True))\n",
      "('window_params', Parameter containing:\n",
      "tensor([[[ 0.7059,  0.2666,  0.1323,  ...,  0.6325,  0.7004,  0.0914]],\n",
      "\n",
      "        [[ 0.5514, -0.0405,  0.6985,  ...,  0.3396,  0.4262,  0.1694]],\n",
      "\n",
      "        [[ 0.3947,  0.0505,  0.5189,  ...,  0.3218,  0.3683,  0.0520]],\n",
      "\n",
      "        ...,\n",
      "\n",
      "        [[ 0.5732, -0.1288,  0.2276,  ...,  0.6330,  0.9724,  0.0477]],\n",
      "\n",
      "        [[ 0.6869,  0.2375,  0.0912,  ...,  0.7255,  1.1465,  0.0161]],\n",
      "\n",
      "        [[ 0.5217,  0.0410,  0.2507,  ...,  0.6288,  0.8488,  0.0510]]],\n",
      "       requires_grad=True))\n"
     ]
    }
   ],
   "source": [
    "from IConNet.visualizer import visualize_model\n",
    "\n",
    "layer = model.fe_blocks.blocks[0].block.layer\n",
    "visualize_model.print_parameters(layer)"
   ]
  },
  {
   "cell_type": "code",
   "execution_count": 29,
   "id": "4d0298a4-ed5d-4b3b-b36f-af5e56243902",
   "metadata": {},
   "outputs": [
    {
     "data": {
      "text/plain": [
       "(array([35., 28., 27., 24., 20., 21., 19., 17., 17., 16., 15., 14., 14.,\n",
       "        13., 13., 11., 12., 10., 13., 11., 10.,  8., 11.,  9.,  9.,  8.,\n",
       "        10.,  9.,  7.,  9.,  7.,  9.,  7.,  7.,  7.,  7.,  6.,  8.,  6.,\n",
       "         8.]),\n",
       " array([0.        , 0.0123532 , 0.02470641, 0.03705961, 0.04941281,\n",
       "        0.06176602, 0.07411922, 0.08647242, 0.09882563, 0.11117883,\n",
       "        0.12353203, 0.13588524, 0.14823844, 0.16059165, 0.17294484,\n",
       "        0.18529806, 0.19765125, 0.21000446, 0.22235766, 0.23471087,\n",
       "        0.24706407, 0.25941727, 0.27177048, 0.28412369, 0.29647687,\n",
       "        0.30883008, 0.32118329, 0.33353651, 0.34588969, 0.3582429 ,\n",
       "        0.37059611, 0.38294929, 0.3953025 , 0.40765572, 0.42000893,\n",
       "        0.43236211, 0.44471532, 0.45706853, 0.46942174, 0.48177493,\n",
       "        0.49412814]),\n",
       " <BarContainer object of 40 artists>)"
      ]
     },
     "execution_count": 29,
     "metadata": {},
     "output_type": "execute_result"
    },
    {
     "data": {
      "image/png": "[encoded data removed]",
      "text/plain": [
       "<Figure size 640x480 with 1 Axes>"
      ]
     },
     "metadata": {},
     "output_type": "display_data"
    }
   ],
   "source": [
    "named_params = [p for p in layer.named_parameters()]\n",
    "lowbands = named_params[0][1].detach().cpu().numpy()\n",
    "plt.hist(lowbands.flatten(), bins=40)"
   ]
  },
  {
   "cell_type": "code",
   "execution_count": 30,
   "id": "9747921f-3a3a-4402-abe3-b30dc33cea0d",
   "metadata": {},
   "outputs": [
    {
     "data": {
      "text/plain": [
       "(array([  1.,   1.,   0.,   0.,   0.,   0.,   0.,   0.,   0.,   0.,   0.,\n",
       "          0.,   0.,   0.,   0.,   0.,   0.,   0.,   0.,   0.,   0.,   0.,\n",
       "          0.,   0.,   0.,   0.,   2.,   0.,   2.,  15., 483.,   2.,   1.,\n",
       "          1.,   0.,   1.,   0.,   1.,   1.,   1.]),\n",
       " array([-6.59407560e-14, -6.37541303e-14, -6.15675113e-14, -5.93808856e-14,\n",
       "        -5.71942667e-14, -5.50076444e-14, -5.28210186e-14, -5.06343963e-14,\n",
       "        -4.84477740e-14, -4.62611516e-14, -4.40745293e-14, -4.18879070e-14,\n",
       "        -3.97012847e-14, -3.75146623e-14, -3.53280400e-14, -3.31414177e-14,\n",
       "        -3.09547953e-14, -2.87681730e-14, -2.65815490e-14, -2.43949267e-14,\n",
       "        -2.22083026e-14, -2.00216803e-14, -1.78350580e-14, -1.56484356e-14,\n",
       "        -1.34618133e-14, -1.12751901e-14, -9.08856781e-15, -6.90194506e-15,\n",
       "        -4.71532230e-15, -2.52869976e-15, -3.42077220e-16,  1.84454532e-15,\n",
       "         4.03116786e-15,  6.21779062e-15,  8.40441337e-15,  1.05910357e-14,\n",
       "         1.27776589e-14,  1.49642804e-14,  1.71509044e-14,  1.93375267e-14,\n",
       "         2.15241490e-14]),\n",
       " <BarContainer object of 40 artists>)"
      ]
     },
     "execution_count": 30,
     "metadata": {},
     "output_type": "execute_result"
    },
    {
     "data": {
      "image/png": "[encoded data removed]",
      "text/plain": [
       "<Figure size 640x480 with 1 Axes>"
      ]
     },
     "metadata": {},
     "output_type": "display_data"
    }
   ],
   "source": [
    "lowbands = named_params[0][1].grad.detach().cpu().numpy()\n",
    "plt.hist(lowbands.flatten(), bins=40)"
   ]
  },
  {
   "cell_type": "code",
   "execution_count": 31,
   "id": "14a5eba9-f6f0-4d10-9daa-7b40aa50c112",
   "metadata": {},
   "outputs": [
    {
     "name": "stderr",
     "output_type": "stream",
     "text": [
      "/tmp/ipykernel_3247522/1402059949.py:1: RuntimeWarning: divide by zero encountered in log\n",
      "  grad_log = np.log(lowbands.flatten())\n",
      "/tmp/ipykernel_3247522/1402059949.py:1: RuntimeWarning: invalid value encountered in log\n",
      "  grad_log = np.log(lowbands.flatten())\n"
     ]
    },
    {
     "data": {
      "text/plain": [
       "(array([ 1.,  0.,  0.,  0.,  0.,  1.,  0.,  0.,  0.,  3.,  4.,  4.,  1.,\n",
       "         4., 13.,  5., 12., 25., 16., 14., 13.,  9.,  8.,  9.,  7.,  7.,\n",
       "         2.,  6.,  3.,  4.,  2.,  2.,  1.,  0.,  1.,  1.,  1.,  1.,  1.,\n",
       "         3.]),\n",
       " array([-47.45703506, -47.05735016, -46.65766144, -46.25797653,\n",
       "        -45.85829163, -45.45860672, -45.05892181, -44.65923309,\n",
       "        -44.25954819, -43.85986328, -43.46017456, -43.06048965,\n",
       "        -42.66080475, -42.26111984, -41.86143494, -41.46174622,\n",
       "        -41.06206131, -40.6623764 , -40.26268768, -39.86300278,\n",
       "        -39.46331787, -39.06363297, -38.66394806, -38.26425934,\n",
       "        -37.86457443, -37.46488953, -37.06520081, -36.6655159 ,\n",
       "        -36.26583099, -35.86614609, -35.46646118, -35.06677246,\n",
       "        -34.66708755, -34.26740265, -33.86771393, -33.46802902,\n",
       "        -33.06834412, -32.66865921, -32.2689743 , -31.86928558,\n",
       "        -31.46960068]),\n",
       " <BarContainer object of 40 artists>)"
      ]
     },
     "execution_count": 31,
     "metadata": {},
     "output_type": "execute_result"
    },
    {
     "data": {
      "image/png": "[encoded data removed]",
      "text/plain": [
       "<Figure size 640x480 with 1 Axes>"
      ]
     },
     "metadata": {},
     "output_type": "display_data"
    }
   ],
   "source": [
    "grad_log = np.log(lowbands.flatten())\n",
    "grad_log = grad_log[grad_log > float('-inf')]\n",
    "plt.hist(grad_log, bins=40)"
   ]
  },
  {
   "cell_type": "code",
   "execution_count": 32,
   "id": "1451c908-b735-4e38-b21f-e00457bab4bc",
   "metadata": {},
   "outputs": [
    {
     "data": {
      "text/plain": [
       "(array([13., 13., 19., 17., 27., 23., 29., 32., 29., 28., 26., 23., 22.,\n",
       "        22., 20., 18., 18., 17., 16., 16., 11.,  9.,  9.,  7.,  9.,  6.,\n",
       "         4.,  3.,  4.,  3.,  4.,  3.,  3.,  1.,  1.,  2.,  1.,  1.,  1.,\n",
       "         2.]),\n",
       " array([0.00086986, 0.00111313, 0.00135639, 0.00159965, 0.00184291,\n",
       "        0.00208618, 0.00232944, 0.0025727 , 0.00281597, 0.00305923,\n",
       "        0.00330249, 0.00354575, 0.00378902, 0.00403228, 0.00427554,\n",
       "        0.00451881, 0.00476207, 0.00500533, 0.0052486 , 0.00549186,\n",
       "        0.00573512, 0.00597838, 0.00622165, 0.00646491, 0.00670817,\n",
       "        0.00695144, 0.0071947 , 0.00743796, 0.00768122, 0.00792449,\n",
       "        0.00816775, 0.00841101, 0.00865428, 0.00889754, 0.0091408 ,\n",
       "        0.00938406, 0.00962733, 0.00987059, 0.01011385, 0.01035712,\n",
       "        0.01060038]),\n",
       " <BarContainer object of 40 artists>)"
      ]
     },
     "execution_count": 32,
     "metadata": {},
     "output_type": "execute_result"
    },
    {
     "data": {
      "image/png": "[encoded data removed]",
      "text/plain": [
       "<Figure size 640x480 with 1 Axes>"
      ]
     },
     "metadata": {},
     "output_type": "display_data"
    }
   ],
   "source": [
    "bandwidths = named_params[1][1].detach().cpu().numpy()\n",
    "plt.hist(bandwidths.flatten(), bins=40)"
   ]
  },
  {
   "cell_type": "code",
   "execution_count": 33,
   "id": "10a9472e-4a1b-4783-b3c8-d7fbf2ac48b7",
   "metadata": {},
   "outputs": [
    {
     "data": {
      "text/plain": [
       "(array([  1.,   0.,   0.,   0.,   0.,   0.,   0.,   0.,   0.,   0.,   0.,\n",
       "          0.,   0.,   0.,   0.,   0.,   0.,   0.,   0.,   0.,   0.,   0.,\n",
       "          0.,   0.,   0.,   0.,   0.,   0.,   0.,   0.,   0.,   0.,   1.,\n",
       "          1.,   1.,   0.,   0., 504.,   2.,   2.]),\n",
       " array([-6.59396921e-14, -6.41795577e-14, -6.24194164e-14, -6.06592820e-14,\n",
       "        -5.88991407e-14, -5.71390063e-14, -5.53788650e-14, -5.36187272e-14,\n",
       "        -5.18585893e-14, -5.00984548e-14, -4.83383170e-14, -4.65781791e-14,\n",
       "        -4.48180413e-14, -4.30579034e-14, -4.12977656e-14, -3.95376277e-14,\n",
       "        -3.77774899e-14, -3.60173520e-14, -3.42572142e-14, -3.24970763e-14,\n",
       "        -3.07369385e-14, -2.89768006e-14, -2.72166628e-14, -2.54565266e-14,\n",
       "        -2.36963888e-14, -2.19362509e-14, -2.01761130e-14, -1.84159752e-14,\n",
       "        -1.66558373e-14, -1.48956995e-14, -1.31355625e-14, -1.13754246e-14,\n",
       "        -9.61528678e-15, -7.85514892e-15, -6.09501150e-15, -4.33487407e-15,\n",
       "        -2.57473621e-15, -8.14598626e-16,  9.45539067e-16,  2.70567671e-15,\n",
       "         4.46581435e-15]),\n",
       " <BarContainer object of 40 artists>)"
      ]
     },
     "execution_count": 33,
     "metadata": {},
     "output_type": "execute_result"
    },
    {
     "data": {
      "image/png": "[encoded data removed]",
      "text/plain": [
       "<Figure size 640x480 with 1 Axes>"
      ]
     },
     "metadata": {},
     "output_type": "display_data"
    }
   ],
   "source": [
    "bandwidths = named_params[1][1].grad.detach().cpu().numpy()\n",
    "plt.hist(bandwidths.flatten(), bins=40)"
   ]
  },
  {
   "cell_type": "code",
   "execution_count": 34,
   "id": "6ce1691a-9570-4d4d-9d4b-5b96ccba8eb8",
   "metadata": {},
   "outputs": [
    {
     "name": "stderr",
     "output_type": "stream",
     "text": [
      "/tmp/ipykernel_3247522/1421197636.py:1: RuntimeWarning: invalid value encountered in log\n",
      "  plt.hist(np.log(bandwidths.flatten()), bins=40)\n"
     ]
    },
    {
     "data": {
      "text/plain": [
       "(array([ 2.,  2.,  0.,  1.,  0.,  1.,  3.,  0.,  2.,  5.,  1., 13.,  7.,\n",
       "         6.,  7.,  3.,  5.,  3.,  5.,  2.,  1.,  2.,  0.,  0.,  0.,  1.,\n",
       "         0.,  0.,  0.,  0.,  1.,  1.,  0.,  1.,  0.,  1.,  0.,  1.,  1.,\n",
       "         1.]),\n",
       " array([-45.81519699, -45.49587631, -45.17655182, -44.85723114,\n",
       "        -44.53791046, -44.21858978, -43.89926529, -43.57994461,\n",
       "        -43.26062393, -42.94129944, -42.62197876, -42.30265808,\n",
       "        -41.98333359, -41.66401291, -41.34469223, -41.02536774,\n",
       "        -40.70604706, -40.38672638, -40.0674057 , -39.74808121,\n",
       "        -39.42876053, -39.10943985, -38.79011536, -38.47079468,\n",
       "        -38.151474  , -37.83215332, -37.51282883, -37.19350815,\n",
       "        -36.87418747, -36.55486298, -36.2355423 , -35.91622162,\n",
       "        -35.59689713, -35.27757645, -34.95825577, -34.63893127,\n",
       "        -34.3196106 , -34.00028992, -33.68096924, -33.36164474,\n",
       "        -33.04232407]),\n",
       " <BarContainer object of 40 artists>)"
      ]
     },
     "execution_count": 34,
     "metadata": {},
     "output_type": "execute_result"
    },
    {
     "data": {
      "image/png": "[encoded data removed]",
      "text/plain": [
       "<Figure size 640x480 with 1 Axes>"
      ]
     },
     "metadata": {},
     "output_type": "display_data"
    }
   ],
   "source": [
    "plt.hist(np.log(bandwidths.flatten()), bins=40)"
   ]
  },
  {
   "cell_type": "code",
   "execution_count": 35,
   "id": "bfa24a90-b09a-4d51-b47c-87b34ca5e6d8",
   "metadata": {},
   "outputs": [
    {
     "data": {
      "text/plain": [
       "(array([   9.,   18.,   30.,   46.,  109.,  116.,  160.,  214.,  280.,\n",
       "         348.,  496.,  661.,  747.,  747.,  764.,  909.,  955., 1038.,\n",
       "        1083., 1164., 1297., 1452., 1687., 1638., 1552., 1358., 1301.,\n",
       "        1191., 1005.,  740.,  543.,  370.,  242.,  135.,   64.,   45.,\n",
       "          34.,   16.,    9.,    3.]),\n",
       " array([-0.71349466, -0.65257198, -0.59164923, -0.53072655, -0.46980381,\n",
       "        -0.40888113, -0.34795842, -0.2870357 , -0.22611299, -0.16519028,\n",
       "        -0.10426757, -0.04334486,  0.01757785,  0.07850056,  0.13942327,\n",
       "         0.20034598,  0.26126868,  0.32219139,  0.3831141 ,  0.44403681,\n",
       "         0.50495952,  0.56588221,  0.62680495,  0.68772763,  0.74865037,\n",
       "         0.80957305,  0.8704958 ,  0.93141848,  0.99234122,  1.0532639 ,\n",
       "         1.11418664,  1.17510927,  1.23603201,  1.29695475,  1.35787749,\n",
       "         1.41880012,  1.47972286,  1.5406456 ,  1.60156834,  1.66249096,\n",
       "         1.72341371]),\n",
       " <BarContainer object of 40 artists>)"
      ]
     },
     "execution_count": 35,
     "metadata": {},
     "output_type": "execute_result"
    },
    {
     "data": {
      "image/png": "[encoded data removed]",
      "text/plain": [
       "<Figure size 640x480 with 1 Axes>"
      ]
     },
     "metadata": {},
     "output_type": "display_data"
    }
   ],
   "source": [
    "window_params = named_params[2][1].detach().cpu().numpy()\n",
    "plt.hist(window_params.flatten(), bins=40)"
   ]
  },
  {
   "cell_type": "code",
   "execution_count": 36,
   "id": "dcf395c6-d848-4365-883a-ad3aec77ca95",
   "metadata": {},
   "outputs": [
    {
     "data": {
      "text/plain": [
       "(array([1.000e+00, 2.000e+00, 0.000e+00, 1.000e+00, 7.000e+00, 9.000e+00,\n",
       "        2.200e+01, 2.800e+01, 4.900e+01, 7.100e+01, 1.120e+02, 1.510e+02,\n",
       "        2.830e+02, 4.460e+02, 6.450e+02, 9.280e+02, 1.225e+03, 1.801e+03,\n",
       "        2.660e+03, 5.104e+03, 4.041e+03, 2.465e+03, 1.462e+03, 1.106e+03,\n",
       "        7.020e+02, 4.190e+02, 2.850e+02, 1.920e+02, 1.050e+02, 9.200e+01,\n",
       "        6.000e+01, 4.700e+01, 2.400e+01, 1.300e+01, 7.000e+00, 5.000e+00,\n",
       "        2.000e+00, 1.000e+00, 1.000e+00, 2.000e+00]),\n",
       " array([-4.84676973e-04, -4.60232754e-04, -4.35788534e-04, -4.11344285e-04,\n",
       "        -3.86900065e-04, -3.62455845e-04, -3.38011596e-04, -3.13567376e-04,\n",
       "        -2.89123156e-04, -2.64678936e-04, -2.40234702e-04, -2.15790467e-04,\n",
       "        -1.91346247e-04, -1.66902028e-04, -1.42457793e-04, -1.18013566e-04,\n",
       "        -9.35693388e-05, -6.91251116e-05, -4.46808845e-05, -2.02366573e-05,\n",
       "         4.20756987e-06,  2.86517970e-05,  5.30960242e-05,  7.75402514e-05,\n",
       "         1.01984479e-04,  1.26428698e-04,  1.50872933e-04,  1.75317167e-04,\n",
       "         1.99761387e-04,  2.24205607e-04,  2.48649856e-04,  2.73094076e-04,\n",
       "         2.97538296e-04,  3.21982516e-04,  3.46426736e-04,  3.70870985e-04,\n",
       "         3.95315205e-04,  4.19759424e-04,  4.44203673e-04,  4.68647893e-04,\n",
       "         4.93092113e-04]),\n",
       " <BarContainer object of 40 artists>)"
      ]
     },
     "execution_count": 36,
     "metadata": {},
     "output_type": "execute_result"
    },
    {
     "data": {
      "image/png": "[encoded data removed]",
      "text/plain": [
       "<Figure size 640x480 with 1 Axes>"
      ]
     },
     "metadata": {},
     "output_type": "display_data"
    }
   ],
   "source": [
    "window_params = named_params[2][1].grad.detach().cpu().numpy()\n",
    "plt.hist(window_params.flatten(), bins=40)"
   ]
  },
  {
   "cell_type": "code",
   "execution_count": 37,
   "id": "0b751d95-b50f-4a95-8bbb-f2411984609c",
   "metadata": {},
   "outputs": [
    {
     "data": {
      "image/png": "[encoded data removed]",
      "text/plain": [
       "<Figure size 1200x600 with 2 Axes>"
      ]
     },
     "metadata": {},
     "output_type": "display_data"
    }
   ],
   "source": [
    "filtviz = visualize_model.FilterVisualizer(\n",
    "    lowcut_bands = layer.lowcut_bands, \n",
    "    bandwidths = layer.bandwidths,\n",
    "    window_params = layer.window_params, \n",
    "    window_length = 64,\n",
    "    sample_rate = sr\n",
    ")\n",
    "filtviz.visualize_bands()"
   ]
  },
  {
   "cell_type": "code",
   "execution_count": 38,
   "id": "3c202e07-50e0-48fd-b1ef-fbf3d38e9d1c",
   "metadata": {},
   "outputs": [
    {
     "name": "stdout",
     "output_type": "stream",
     "text": [
      "Time domain: Filters' shapes vary by frequency bins\n"
     ]
    },
    {
     "data": {
      "image/png": "[encoded data removed]",
      "text/plain": [
       "<Figure size 600x800 with 8 Axes>"
      ]
     },
     "metadata": {},
     "output_type": "display_data"
    }
   ],
   "source": [
    "filtviz.visualize_filters(filter_domain='time')"
   ]
  },
  {
   "cell_type": "code",
   "execution_count": 39,
   "id": "99d5144f-bca4-4514-a440-f58ba3d53ec3",
   "metadata": {},
   "outputs": [
    {
     "name": "stdout",
     "output_type": "stream",
     "text": [
      "Frequency domain: Filters' shapes vary by frequency bins\n"
     ]
    },
    {
     "data": {
      "image/png": "[encoded data removed]",
      "text/plain": [
       "<Figure size 600x800 with 8 Axes>"
      ]
     },
     "metadata": {},
     "output_type": "display_data"
    }
   ],
   "source": [
    "filtviz.visualize_filters(filter_domain='freq')"
   ]
  },
  {
   "cell_type": "code",
   "execution_count": 40,
   "id": "a30990c6-3ff9-41a2-967c-34a4b3c9e44d",
   "metadata": {},
   "outputs": [
    {
     "data": {
      "image/png": "[encoded data removed]",
      "text/plain": [
       "<Figure size 1200x600 with 1 Axes>"
      ]
     },
     "metadata": {},
     "output_type": "display_data"
    }
   ],
   "source": [
    "filtviz.visualize_window_params()"
   ]
  },
  {
   "cell_type": "code",
   "execution_count": null,
   "id": "f97c77c1-e632-4a9f-8838-71cbd0f49dec",
   "metadata": {},
   "outputs": [],
   "source": []
  }
 ],
 "metadata": {
  "kernelspec": {
   "display_name": "Python 3 (ipykernel)",
   "language": "python",
   "name": "python3"
  },
  "language_info": {
   "codemirror_mode": {
    "name": "ipython",
    "version": 3
   },
   "file_extension": ".py",
   "mimetype": "text/x-python",
   "name": "python",
   "nbconvert_exporter": "python",
   "pygments_lexer": "ipython3",
   "version": "3.9.18"
  }
 },
 "nbformat": 4,
 "nbformat_minor": 5
}
