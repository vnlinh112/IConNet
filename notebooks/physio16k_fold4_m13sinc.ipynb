{
 "cells": [
  {
   "cell_type": "code",
   "execution_count": 1,
   "id": "b1524d0d-ea58-4da6-b7bc-ff31d36696ad",
   "metadata": {},
   "outputs": [],
   "source": [
    "import glob\n",
    "import numpy as np\n",
    "from tqdm import tqdm\n",
    "import matplotlib.pyplot as plt\n",
    "\n",
    "# Scikit learn\n",
    "from sklearn.model_selection import train_test_split\n",
    "from sklearn.preprocessing import LabelEncoder\n",
    "from sklearn.utils import shuffle\n",
    "\n",
    "import warnings\n",
    "warnings.filterwarnings('ignore', category=FutureWarning)"
   ]
  },
  {
   "cell_type": "code",
   "execution_count": 2,
   "id": "fbaa4626-2d50-4348-b6c6-79b1295deebd",
   "metadata": {},
   "outputs": [
    {
     "name": "stdout",
     "output_type": "stream",
     "text": [
      "Mon Feb 19 14:38:39 2024       \n",
      "+---------------------------------------------------------------------------------------+\n",
      "| NVIDIA-SMI 545.23.08              Driver Version: 545.23.08    CUDA Version: 12.3     |\n",
      "|-----------------------------------------+----------------------+----------------------+\n",
      "| GPU  Name                 Persistence-M | Bus-Id        Disp.A | Volatile Uncorr. ECC |\n",
      "| Fan  Temp   Perf          Pwr:Usage/Cap |         Memory-Usage | GPU-Util  Compute M. |\n",
      "|                                         |                      |               MIG M. |\n",
      "|=========================================+======================+======================|\n",
      "|   0  NVIDIA GeForce RTX 2080        On  | 00000000:01:00.0  On |                  N/A |\n",
      "| 32%   30C    P8              21W / 215W |    614MiB /  8192MiB |      8%      Default |\n",
      "|                                         |                      |                  N/A |\n",
      "+-----------------------------------------+----------------------+----------------------+\n",
      "                                                                                         \n",
      "+---------------------------------------------------------------------------------------+\n",
      "| Processes:                                                                            |\n",
      "|  GPU   GI   CI        PID   Type   Process name                            GPU Memory |\n",
      "|        ID   ID                                                             Usage      |\n",
      "|=======================================================================================|\n",
      "|    0   N/A  N/A      1887      G   /usr/lib/xorg/Xorg                          185MiB |\n",
      "|    0   N/A  N/A      2033      G   /usr/bin/gnome-shell                         28MiB |\n",
      "|    0   N/A  N/A      6241      G   ...seed-version=20240215-080116.052000       54MiB |\n",
      "|    0   N/A  N/A      6688      G   ...sion,SpareRendererForSitePerProcess       71MiB |\n",
      "|    0   N/A  N/A   2546595      C   /opt/anaconda3/envs/audio/bin/python        268MiB |\n",
      "+---------------------------------------------------------------------------------------+\n"
     ]
    }
   ],
   "source": [
    "!nvidia-smi"
   ]
  },
  {
   "cell_type": "code",
   "execution_count": 3,
   "id": "265e2adc-f67b-4796-bf95-49e720470559",
   "metadata": {},
   "outputs": [],
   "source": [
    "%load_ext autoreload\n",
    "%autoreload 2"
   ]
  },
  {
   "cell_type": "code",
   "execution_count": 4,
   "id": "b7f2059e-1f26-43df-af1b-fbba16207004",
   "metadata": {},
   "outputs": [
    {
     "data": {
      "text/plain": [
       "'/home/linh/projects/IConNet'"
      ]
     },
     "execution_count": 4,
     "metadata": {},
     "output_type": "execute_result"
    }
   ],
   "source": [
    "import os\n",
    "os.chdir('..')\n",
    "os.getcwd()"
   ]
  },
  {
   "cell_type": "code",
   "execution_count": 5,
   "id": "c16a3fd5-f808-48b7-9c9b-f6f9b34dc260",
   "metadata": {},
   "outputs": [
    {
     "name": "stdout",
     "output_type": "stream",
     "text": [
      "cuda\n"
     ]
    }
   ],
   "source": [
    "os.environ[\"PYTORCH_CUDA_ALLOC_CONF\"] = \"max_split_size_mb:512\"\n",
    "import gc\n",
    "import torch\n",
    "import torch.nn as nn\n",
    "import torch.nn.functional as F\n",
    "import torch.optim as optim\n",
    "import sys\n",
    "import traceback\n",
    "device = torch.device(\"cuda\" if torch.cuda.is_available() else \"cpu\")\n",
    "print(device)\n",
    "\n",
    "data_dir = '../data/physionet/fold4/'"
   ]
  },
  {
   "cell_type": "code",
   "execution_count": 6,
   "id": "caf60ee8-8e29-43d8-9a6f-ba7a4188c3c0",
   "metadata": {},
   "outputs": [],
   "source": [
    "sr = 16000\n",
    "\n",
    "x_train = np.load(f'{data_dir}heartsound.audio16k.train.npy', allow_pickle=True)\n",
    "x_test = np.load(f'{data_dir}heartsound.audio16k.test.npy', allow_pickle=True)\n",
    "classnames = np.load(f'{data_dir}heartsound.classnames.npy', allow_pickle=True)\n",
    "y_train = np.load(f'{data_dir}heartsound.labels_binary.train.npy', allow_pickle=True)\n",
    "y_test = np.load(f'{data_dir}heartsound.labels_binary.test.npy', allow_pickle=True)"
   ]
  },
  {
   "cell_type": "code",
   "execution_count": 7,
   "id": "b73dde81-5bdb-44fb-b1e2-319a92827a34",
   "metadata": {},
   "outputs": [],
   "source": [
    "from einops import rearrange, reduce, repeat\n",
    "from torch.utils.data import TensorDataset, DataLoader\n",
    "\n",
    "def create_data_loader(x_train, y_train, \n",
    "                       x_test, y_test, batch_size=32):\n",
    "    x_train = torch.tensor(x_train)[:, None ,:]\n",
    "    y_train = torch.tensor(y_train)\n",
    "    x_test = torch.tensor(x_test)[:, None, :]\n",
    "    y_test = torch.tensor(y_test)\n",
    "    train_data = TensorDataset(x_train, y_train)\n",
    "    test_data = TensorDataset(x_test, y_test)\n",
    "    \n",
    "    train_loader = DataLoader(train_data, shuffle=False, \n",
    "                              batch_size=batch_size, drop_last=True)\n",
    "    test_loader = DataLoader(test_data, shuffle=True, \n",
    "                             batch_size=batch_size, drop_last=True)\n",
    "    return train_loader, test_loader"
   ]
  },
  {
   "cell_type": "code",
   "execution_count": 8,
   "id": "7f964a4b-8406-4dce-a549-2b59431e57b2",
   "metadata": {},
   "outputs": [],
   "source": [
    "batch_size = 32\n",
    "train_loader, test_loader = create_data_loader(x_train, y_train, \n",
    "                       x_test, y_test, batch_size=batch_size)\n",
    "labels = classnames"
   ]
  },
  {
   "cell_type": "code",
   "execution_count": 10,
   "id": "cca4971a-3723-4db2-8dba-44b82bea6e2c",
   "metadata": {
    "scrolled": true
   },
   "outputs": [
    {
     "name": "stdout",
     "output_type": "stream",
     "text": [
      "name: M13sinc\n",
      "description: SincNet with fftconv\n",
      "fe:\n",
      "  n_block: 2\n",
      "  n_channel:\n",
      "  - 128\n",
      "  - 32\n",
      "  kernel_size:\n",
      "  - 511\n",
      "  - 127\n",
      "  stride:\n",
      "  - 8\n",
      "  - 2\n",
      "  window_k:\n",
      "  - 2\n",
      "  - 9\n",
      "  residual_connection_type: stack\n",
      "  pooling: mean\n",
      "  filter_type: sinc\n",
      "  learnable_bands: true\n",
      "  learnable_windows: false\n",
      "  shared_window: true\n",
      "  window_func: hamming\n",
      "  mel_resolution: 1\n",
      "  conv_mode: fftconv\n",
      "  norm_type: LocalResponseNorm\n",
      "cls:\n",
      "  n_block: 2\n",
      "  n_hidden_dim:\n",
      "  - 256\n",
      "  - 256\n",
      "  norm_type: LayerNorm\n",
      "\n",
      "M13sinc(\n",
      "  (fe_blocks): FeBlocks(\n",
      "    (blocks): ModuleList(\n",
      "      (0-1): 2 x FrontEndBlock(\n",
      "        (block): ModuleDict(\n",
      "          (layer): FirConvLayer(\n",
      "            (conv_layer): ResidualConv1d(\n",
      "              (pad_layer): PadForConv()\n",
      "              (stride_layer): DownsampleLayer(\n",
      "                (pad_right): PadForConv()\n",
      "              )\n",
      "              (norm_layer): CustomNormLayer(\n",
      "                (layer): LocalResponseNorm(2, alpha=0.0001, beta=0.75, k=1.0)\n",
      "              )\n",
      "              (act): NLReLU()\n",
      "            )\n",
      "          )\n",
      "          (downsample): ResidualConv1d(\n",
      "            (pad_layer): PadForConv()\n",
      "            (stride_layer): DownsampleLayer(\n",
      "              (pad_right): PadForConv()\n",
      "            )\n",
      "            (norm_layer): CustomNormLayer(\n",
      "              (layer): LocalResponseNorm(2, alpha=0.0001, beta=0.75, k=1.0)\n",
      "            )\n",
      "            (act): NLReLU()\n",
      "          )\n",
      "        )\n",
      "      )\n",
      "    )\n",
      "  )\n",
      "  (cls_head): Classifier(\n",
      "    (blocks): ModuleList(\n",
      "      (0): Sequential(\n",
      "        (norm): LayerNorm((161,), eps=1e-05, elementwise_affine=True)\n",
      "        (layer): Linear(in_features=161, out_features=256, bias=True)\n",
      "      )\n",
      "      (1): Sequential(\n",
      "        (norm): LayerNorm((256,), eps=1e-05, elementwise_affine=True)\n",
      "        (layer): Linear(in_features=256, out_features=256, bias=True)\n",
      "      )\n",
      "    )\n",
      "    (act): LeakyReLU(negative_slope=0.01)\n",
      "    (output_layer): Linear(in_features=256, out_features=2, bias=True)\n",
      "  )\n",
      ")\n",
      "total parameters: 117060\n",
      "FE parameters: 8448\n"
     ]
    }
   ],
   "source": [
    "from IConNet.nn.model import M13sinc as M13\n",
    "from omegaconf import OmegaConf as ocf\n",
    "from IConNet.visualizer import visualize_model\n",
    "\n",
    "model_config_path = 'config/model/m13sinc.yaml'\n",
    "model_config = ocf.load(model_config_path)\n",
    "print(ocf.to_yaml(model_config))\n",
    "model = M13(config=model_config,\n",
    "           n_input=1, n_output=2)\n",
    "print(model)\n",
    "\n",
    "print(f'total parameters: {visualize_model.count_parameters(model)}')\n",
    "print(f'FE parameters: {visualize_model.count_parameters(model.fe_blocks)}')"
   ]
  },
  {
   "cell_type": "code",
   "execution_count": 11,
   "id": "c6809a2d-1127-4d3e-b5e1-d7acf7419a0c",
   "metadata": {},
   "outputs": [],
   "source": [
    "n_epoch = 10\n",
    "train_losses = []\n",
    "test_accuracy = []\n",
    "optimizer = optim.RAdam(model.parameters(), lr=0.001)\n",
    "scheduler = optim.lr_scheduler.OneCycleLR(\n",
    "    optimizer, max_lr=0.1,\n",
    "    steps_per_epoch=len(train_loader), epochs=n_epoch)"
   ]
  },
  {
   "cell_type": "code",
   "execution_count": 12,
   "id": "ef9c130a-6512-4549-9eb9-b94291f562b3",
   "metadata": {},
   "outputs": [],
   "source": [
    "train_loader_length = len(train_loader.dataset)\n",
    "test_loader_length = len(test_loader.dataset)\n",
    "\n",
    "def train(model, epoch, log_interval, \n",
    "          train_losses=train_losses):\n",
    "    # print(f'Mem before training: {torch.cuda.memory_allocated()}')\n",
    "    model.train()\n",
    "    for batch_idx, (data, target) in enumerate(train_loader):\n",
    "        try:\n",
    "            _mem_before = torch.cuda.memory_allocated()\n",
    "            data = data.to(device)\n",
    "            target = target.to(device)\n",
    "            output = model(data)\n",
    "            del data\n",
    "            gc.collect()\n",
    "            torch.cuda.empty_cache()\n",
    "            loss = F.cross_entropy(output.squeeze(), target)\n",
    "            _mem_during = torch.cuda.memory_allocated()\n",
    "            del target\n",
    "            gc.collect()\n",
    "            torch.cuda.empty_cache()\n",
    "            optimizer.zero_grad()\n",
    "            loss.backward()\n",
    "            nn.utils.clip_grad.clip_grad_norm_(\n",
    "                model.parameters(), 1.0)\n",
    "            optimizer.step()\n",
    "            _mem_after = torch.cuda.memory_allocated()\n",
    "            # print training stats\n",
    "            if batch_idx % log_interval == 0:\n",
    "                print(f\"Train Epoch: {epoch} [{batch_idx * batch_size}/{train_loader_length} ({100. * batch_idx / len(train_loader):.0f}%)]\\tLoss: {loss.item():.6f}\")\n",
    "                print(f'Mem before-during-after: {_mem_before} {_mem_during} {_mem_after}')\n",
    "            # update progress bar\n",
    "            pbar.update(pbar_update)\n",
    "            # record loss\n",
    "            train_losses.append(loss.item())\n",
    "        except Exception as e:\n",
    "            print(f'data: {data.shape} => output: {output.shape} | target: {target.shape}')\n",
    "            traceback.print_exc()\n",
    "\n",
    "@torch.no_grad\n",
    "def test(model, epoch):\n",
    "    model.eval()\n",
    "    correct = 0\n",
    "    total = 0\n",
    "    for data, target in test_loader:\n",
    "        total += len(target)\n",
    "        data = data.to(device)\n",
    "        target = target.to(device)\n",
    "        output = model(data).squeeze()\n",
    "        del data\n",
    "        gc.collect()\n",
    "        torch.cuda.empty_cache()\n",
    "        probs = F.softmax(output, dim=-1)\n",
    "        pred = probs.argmax(dim=-1)\n",
    "        correct += pred.eq(target).sum().item()\n",
    "        del target\n",
    "        gc.collect()\n",
    "        torch.cuda.empty_cache()\n",
    "        pbar.update(pbar_update)\n",
    "    acc = correct / test_loader_length\n",
    "    print(f\"\\nTest Epoch: {epoch}\\tAccuracy: {correct}/{total} ({100. * acc:.0f}%)\\n\")\n",
    "    return acc"
   ]
  },
  {
   "cell_type": "code",
   "execution_count": 13,
   "id": "86126dd5-f5b0-4abd-87c1-7d2d8b4d0faf",
   "metadata": {
    "scrolled": true
   },
   "outputs": [
    {
     "name": "stderr",
     "output_type": "stream",
     "text": [
      "  0%|                                                                                                                        | 0.002061855670103093/10 [00:00<55:30, 333.13s/it]"
     ]
    },
    {
     "name": "stdout",
     "output_type": "stream",
     "text": [
      "Train Epoch: 1 [0/11481 (0%)]\tLoss: 0.742010\n",
      "Mem before-during-after: 539136 4324419584 21330432\n"
     ]
    },
    {
     "name": "stderr",
     "output_type": "stream",
     "text": [
      "  1%|█                                                                                                                        | 0.08453608247422686/10 [00:19<38:15, 231.56s/it]"
     ]
    },
    {
     "name": "stdout",
     "output_type": "stream",
     "text": [
      "Train Epoch: 1 [1280/11481 (11%)]\tLoss: 0.385342\n",
      "Mem before-during-after: 21330432 4332184576 21330432\n"
     ]
    },
    {
     "name": "stderr",
     "output_type": "stream",
     "text": [
      "  2%|██                                                                                                                       | 0.16701030927835056/10 [00:38<39:22, 240.30s/it]"
     ]
    },
    {
     "name": "stdout",
     "output_type": "stream",
     "text": [
      "Train Epoch: 1 [2560/11481 (22%)]\tLoss: 0.402692\n",
      "Mem before-during-after: 21330432 4332184576 21330432\n"
     ]
    },
    {
     "name": "stderr",
     "output_type": "stream",
     "text": [
      "  2%|███                                                                                                                      | 0.24948453608247398/10 [00:56<37:18, 229.54s/it]"
     ]
    },
    {
     "name": "stdout",
     "output_type": "stream",
     "text": [
      "Train Epoch: 1 [3840/11481 (34%)]\tLoss: 0.050983\n",
      "Mem before-during-after: 21330432 4332184576 21330432\n"
     ]
    },
    {
     "name": "stderr",
     "output_type": "stream",
     "text": [
      "  3%|████                                                                                                                      | 0.3319587628865974/10 [01:15<36:51, 228.71s/it]"
     ]
    },
    {
     "name": "stdout",
     "output_type": "stream",
     "text": [
      "Train Epoch: 1 [5120/11481 (45%)]\tLoss: 0.964391\n",
      "Mem before-during-after: 21330432 4332184576 21330432\n"
     ]
    },
    {
     "name": "stderr",
     "output_type": "stream",
     "text": [
      "  4%|█████                                                                                                                    | 0.41443298969072084/10 [01:34<37:45, 236.30s/it]"
     ]
    },
    {
     "name": "stdout",
     "output_type": "stream",
     "text": [
      "Train Epoch: 1 [6400/11481 (56%)]\tLoss: 0.246365\n",
      "Mem before-during-after: 21330432 4332184576 21330432\n"
     ]
    },
    {
     "name": "stderr",
     "output_type": "stream",
     "text": [
      "  5%|██████                                                                                                                   | 0.49690721649484426/10 [01:53<36:17, 229.15s/it]"
     ]
    },
    {
     "name": "stdout",
     "output_type": "stream",
     "text": [
      "Train Epoch: 1 [7680/11481 (67%)]\tLoss: 0.293338\n",
      "Mem before-during-after: 21330432 4332184576 21330432\n"
     ]
    },
    {
     "name": "stderr",
     "output_type": "stream",
     "text": [
      "  6%|███████                                                                                                                   | 0.5793814432989677/10 [02:11<36:17, 231.10s/it]"
     ]
    },
    {
     "name": "stdout",
     "output_type": "stream",
     "text": [
      "Train Epoch: 1 [8960/11481 (78%)]\tLoss: 0.161160\n",
      "Mem before-during-after: 21330432 4332184576 21330432\n"
     ]
    },
    {
     "name": "stderr",
     "output_type": "stream",
     "text": [
      "  7%|████████                                                                                                                  | 0.6618556701030911/10 [02:30<36:17, 233.20s/it]"
     ]
    },
    {
     "name": "stdout",
     "output_type": "stream",
     "text": [
      "Train Epoch: 1 [10240/11481 (89%)]\tLoss: 0.705797\n",
      "Mem before-during-after: 21330432 4332184576 21330432\n"
     ]
    },
    {
     "name": "stderr",
     "output_type": "stream",
     "text": [
      " 10%|████████████▏                                                                                                             | 0.9999999999999971/10 [03:15<15:16, 101.78s/it]"
     ]
    },
    {
     "name": "stdout",
     "output_type": "stream",
     "text": [
      "\n",
      "Test Epoch: 1\tAccuracy: 3427/4064 (84%)\n",
      "\n"
     ]
    },
    {
     "name": "stderr",
     "output_type": "stream",
     "text": [
      " 10%|████████████▏                                                                                                             | 1.0020618556701002/10 [03:16<21:15, 141.77s/it]"
     ]
    },
    {
     "name": "stdout",
     "output_type": "stream",
     "text": [
      "Train Epoch: 2 [0/11481 (0%)]\tLoss: 0.019650\n",
      "Mem before-during-after: 21444096 4333847552 21330432\n"
     ]
    },
    {
     "name": "stderr",
     "output_type": "stream",
     "text": [
      " 11%|█████████████▏                                                                                                            | 1.0845360824742236/10 [03:35<34:35, 232.84s/it]"
     ]
    },
    {
     "name": "stdout",
     "output_type": "stream",
     "text": [
      "Train Epoch: 2 [1280/11481 (11%)]\tLoss: 0.008145\n",
      "Mem before-during-after: 21330432 4332184576 21330432\n"
     ]
    },
    {
     "name": "stderr",
     "output_type": "stream",
     "text": [
      " 12%|██████████████▎                                                                                                            | 1.167010309278347/10 [03:54<35:55, 243.99s/it]"
     ]
    },
    {
     "name": "stdout",
     "output_type": "stream",
     "text": [
      "Train Epoch: 2 [2560/11481 (22%)]\tLoss: 0.494140\n",
      "Mem before-during-after: 21330432 4332184576 21330432\n"
     ]
    },
    {
     "name": "stderr",
     "output_type": "stream",
     "text": [
      " 12%|███████████████▏                                                                                                          | 1.2494845360824705/10 [04:13<34:28, 236.33s/it]"
     ]
    },
    {
     "name": "stdout",
     "output_type": "stream",
     "text": [
      "Train Epoch: 2 [3840/11481 (34%)]\tLoss: 0.099208\n",
      "Mem before-during-after: 21330432 4332184576 21330432\n"
     ]
    },
    {
     "name": "stderr",
     "output_type": "stream",
     "text": [
      " 13%|████████████████▏                                                                                                         | 1.3319587628865939/10 [04:31<33:50, 234.28s/it]"
     ]
    },
    {
     "name": "stdout",
     "output_type": "stream",
     "text": [
      "Train Epoch: 2 [5120/11481 (45%)]\tLoss: 0.966404\n",
      "Mem before-during-after: 21330432 4332184576 21330432\n"
     ]
    },
    {
     "name": "stderr",
     "output_type": "stream",
     "text": [
      " 14%|█████████████████▎                                                                                                        | 1.4144329896907173/10 [04:50<33:37, 234.93s/it]"
     ]
    },
    {
     "name": "stdout",
     "output_type": "stream",
     "text": [
      "Train Epoch: 2 [6400/11481 (56%)]\tLoss: 0.331934\n",
      "Mem before-during-after: 21330432 4332184576 21330432\n"
     ]
    },
    {
     "name": "stderr",
     "output_type": "stream",
     "text": [
      " 15%|██████████████████▎                                                                                                       | 1.4969072164948407/10 [05:10<34:34, 243.97s/it]"
     ]
    },
    {
     "name": "stdout",
     "output_type": "stream",
     "text": [
      "Train Epoch: 2 [7680/11481 (67%)]\tLoss: 0.230968\n",
      "Mem before-during-after: 21330432 4332184576 21330432\n"
     ]
    },
    {
     "name": "stderr",
     "output_type": "stream",
     "text": [
      " 16%|███████████████████▎                                                                                                      | 1.5793814432989641/10 [05:29<34:12, 243.70s/it]"
     ]
    },
    {
     "name": "stdout",
     "output_type": "stream",
     "text": [
      "Train Epoch: 2 [8960/11481 (78%)]\tLoss: 0.139268\n",
      "Mem before-during-after: 21330432 4332184576 21330432\n"
     ]
    },
    {
     "name": "stderr",
     "output_type": "stream",
     "text": [
      " 17%|████████████████████▎                                                                                                     | 1.6618556701030875/10 [05:49<32:49, 236.21s/it]"
     ]
    },
    {
     "name": "stdout",
     "output_type": "stream",
     "text": [
      "Train Epoch: 2 [10240/11481 (89%)]\tLoss: 0.896561\n",
      "Mem before-during-after: 21330432 4332184576 21330432\n"
     ]
    },
    {
     "name": "stderr",
     "output_type": "stream",
     "text": [
      " 20%|████████████████████████▍                                                                                                 | 1.9999999999999936/10 [06:33<13:50, 103.80s/it]"
     ]
    },
    {
     "name": "stdout",
     "output_type": "stream",
     "text": [
      "\n",
      "Test Epoch: 2\tAccuracy: 3496/4064 (85%)\n",
      "\n"
     ]
    },
    {
     "name": "stderr",
     "output_type": "stream",
     "text": [
      " 20%|████████████████████████▋                                                                                                  | 2.002061855670097/10 [06:34<18:47, 141.02s/it]"
     ]
    },
    {
     "name": "stdout",
     "output_type": "stream",
     "text": [
      "Train Epoch: 3 [0/11481 (0%)]\tLoss: 0.016716\n",
      "Mem before-during-after: 21444096 4333847552 21330432\n"
     ]
    },
    {
     "name": "stderr",
     "output_type": "stream",
     "text": [
      " 21%|█████████████████████████▍                                                                                                | 2.0845360824742203/10 [06:53<30:59, 234.90s/it]"
     ]
    },
    {
     "name": "stdout",
     "output_type": "stream",
     "text": [
      "Train Epoch: 3 [1280/11481 (11%)]\tLoss: 0.002716\n",
      "Mem before-during-after: 21330432 4332184576 21330432\n"
     ]
    },
    {
     "name": "stderr",
     "output_type": "stream",
     "text": [
      " 22%|██████████████████████████▍                                                                                               | 2.1670103092783437/10 [07:12<31:49, 243.74s/it]"
     ]
    },
    {
     "name": "stdout",
     "output_type": "stream",
     "text": [
      "Train Epoch: 3 [2560/11481 (22%)]\tLoss: 0.361765\n",
      "Mem before-during-after: 21330432 4332184576 21330432\n"
     ]
    },
    {
     "name": "stderr",
     "output_type": "stream",
     "text": [
      " 22%|███████████████████████████▋                                                                                               | 2.249484536082467/10 [07:31<30:39, 237.33s/it]"
     ]
    },
    {
     "name": "stdout",
     "output_type": "stream",
     "text": [
      "Train Epoch: 3 [3840/11481 (34%)]\tLoss: 0.093981\n",
      "Mem before-during-after: 21330432 4332184576 21330432\n"
     ]
    },
    {
     "name": "stderr",
     "output_type": "stream",
     "text": [
      " 23%|████████████████████████████▍                                                                                             | 2.3319587628865905/10 [07:50<30:05, 235.48s/it]"
     ]
    },
    {
     "name": "stdout",
     "output_type": "stream",
     "text": [
      "Train Epoch: 3 [5120/11481 (45%)]\tLoss: 0.949539\n",
      "Mem before-during-after: 21330432 4332184576 21330432\n"
     ]
    },
    {
     "name": "stderr",
     "output_type": "stream",
     "text": [
      " 24%|█████████████████████████████▋                                                                                             | 2.414432989690714/10 [08:09<29:39, 234.54s/it]"
     ]
    },
    {
     "name": "stdout",
     "output_type": "stream",
     "text": [
      "Train Epoch: 3 [6400/11481 (56%)]\tLoss: 0.314985\n",
      "Mem before-during-after: 21330432 4332184576 21330432\n"
     ]
    },
    {
     "name": "stderr",
     "output_type": "stream",
     "text": [
      " 25%|██████████████████████████████▍                                                                                           | 2.4969072164948374/10 [08:28<29:39, 237.12s/it]"
     ]
    },
    {
     "name": "stdout",
     "output_type": "stream",
     "text": [
      "Train Epoch: 3 [7680/11481 (67%)]\tLoss: 0.250485\n",
      "Mem before-during-after: 21330432 4332184576 21330432\n"
     ]
    },
    {
     "name": "stderr",
     "output_type": "stream",
     "text": [
      " 26%|███████████████████████████████▋                                                                                           | 2.579381443298961/10 [08:47<29:33, 239.01s/it]"
     ]
    },
    {
     "name": "stdout",
     "output_type": "stream",
     "text": [
      "Train Epoch: 3 [8960/11481 (78%)]\tLoss: 0.117046\n",
      "Mem before-during-after: 21330432 4332184576 21330432\n"
     ]
    },
    {
     "name": "stderr",
     "output_type": "stream",
     "text": [
      " 27%|████████████████████████████████▋                                                                                          | 2.661855670103084/10 [09:06<28:37, 234.07s/it]"
     ]
    },
    {
     "name": "stdout",
     "output_type": "stream",
     "text": [
      "Train Epoch: 3 [10240/11481 (89%)]\tLoss: 1.007278\n",
      "Mem before-during-after: 21330432 4332184576 21330432\n"
     ]
    },
    {
     "name": "stderr",
     "output_type": "stream",
     "text": [
      " 30%|████████████████████████████████████▌                                                                                     | 2.9999999999999902/10 [09:50<12:02, 103.20s/it]"
     ]
    },
    {
     "name": "stdout",
     "output_type": "stream",
     "text": [
      "\n",
      "Test Epoch: 3\tAccuracy: 3509/4064 (86%)\n",
      "\n"
     ]
    },
    {
     "name": "stderr",
     "output_type": "stream",
     "text": [
      " 30%|████████████████████████████████████▋                                                                                     | 3.0020618556700933/10 [09:51<16:24, 140.70s/it]"
     ]
    },
    {
     "name": "stdout",
     "output_type": "stream",
     "text": [
      "Train Epoch: 4 [0/11481 (0%)]\tLoss: 0.001673\n",
      "Mem before-during-after: 21444096 4333847552 21330432\n"
     ]
    },
    {
     "name": "stderr",
     "output_type": "stream",
     "text": [
      " 31%|█████████████████████████████████████▋                                                                                    | 3.0845360824742167/10 [10:09<28:10, 244.50s/it]"
     ]
    },
    {
     "name": "stdout",
     "output_type": "stream",
     "text": [
      "Train Epoch: 4 [1280/11481 (11%)]\tLoss: 0.028764\n",
      "Mem before-during-after: 21330432 4332184576 21330432\n"
     ]
    },
    {
     "name": "stderr",
     "output_type": "stream",
     "text": [
      " 32%|███████████████████████████████████████▎                                                                                    | 3.16701030927834/10 [10:29<26:46, 235.07s/it]"
     ]
    },
    {
     "name": "stdout",
     "output_type": "stream",
     "text": [
      "Train Epoch: 4 [2560/11481 (22%)]\tLoss: 0.529505\n",
      "Mem before-during-after: 21330432 4332184576 21330432\n"
     ]
    },
    {
     "name": "stderr",
     "output_type": "stream",
     "text": [
      " 32%|███████████████████████████████████████▋                                                                                  | 3.2494845360824636/10 [10:47<26:22, 234.37s/it]"
     ]
    },
    {
     "name": "stdout",
     "output_type": "stream",
     "text": [
      "Train Epoch: 4 [3840/11481 (34%)]\tLoss: 0.324321\n",
      "Mem before-during-after: 21330432 4332184576 21330432\n"
     ]
    },
    {
     "name": "stderr",
     "output_type": "stream",
     "text": [
      " 33%|████████████████████████████████████████▉                                                                                  | 3.331958762886587/10 [11:07<26:21, 237.19s/it]"
     ]
    },
    {
     "name": "stdout",
     "output_type": "stream",
     "text": [
      "Train Epoch: 4 [5120/11481 (45%)]\tLoss: 1.018823\n",
      "Mem before-during-after: 21330432 4332184576 21330432\n"
     ]
    },
    {
     "name": "stderr",
     "output_type": "stream",
     "text": [
      " 34%|█████████████████████████████████████████▋                                                                                | 3.4144329896907104/10 [11:26<25:40, 233.91s/it]"
     ]
    },
    {
     "name": "stdout",
     "output_type": "stream",
     "text": [
      "Train Epoch: 4 [6400/11481 (56%)]\tLoss: 0.312219\n",
      "Mem before-during-after: 21330432 4332184576 21330432\n"
     ]
    },
    {
     "name": "stderr",
     "output_type": "stream",
     "text": [
      " 35%|███████████████████████████████████████████                                                                                | 3.496907216494834/10 [11:45<24:53, 229.60s/it]"
     ]
    },
    {
     "name": "stdout",
     "output_type": "stream",
     "text": [
      "Train Epoch: 4 [7680/11481 (67%)]\tLoss: 0.173893\n",
      "Mem before-during-after: 21330432 4332184576 21330432\n"
     ]
    },
    {
     "name": "stderr",
     "output_type": "stream",
     "text": [
      " 36%|███████████████████████████████████████████▋                                                                              | 3.5793814432989572/10 [12:03<24:41, 230.73s/it]"
     ]
    },
    {
     "name": "stdout",
     "output_type": "stream",
     "text": [
      "Train Epoch: 4 [8960/11481 (78%)]\tLoss: 0.112499\n",
      "Mem before-during-after: 21330432 4332184576 21330432\n"
     ]
    },
    {
     "name": "stderr",
     "output_type": "stream",
     "text": [
      " 37%|████████████████████████████████████████████▋                                                                             | 3.6618556701030807/10 [12:22<25:00, 236.67s/it]"
     ]
    },
    {
     "name": "stdout",
     "output_type": "stream",
     "text": [
      "Train Epoch: 4 [10240/11481 (89%)]\tLoss: 1.838254\n",
      "Mem before-during-after: 21330432 4332184576 21330432\n"
     ]
    },
    {
     "name": "stderr",
     "output_type": "stream",
     "text": [
      " 40%|████████████████████████████████████████████████▊                                                                         | 3.9999999999999867/10 [13:07<10:18, 103.02s/it]"
     ]
    },
    {
     "name": "stdout",
     "output_type": "stream",
     "text": [
      "\n",
      "Test Epoch: 4\tAccuracy: 3521/4064 (86%)\n",
      "\n"
     ]
    },
    {
     "name": "stderr",
     "output_type": "stream",
     "text": [
      " 40%|█████████████████████████████████████████████████▋                                                                          | 4.00206185567009/10 [13:07<14:09, 141.62s/it]"
     ]
    },
    {
     "name": "stdout",
     "output_type": "stream",
     "text": [
      "Train Epoch: 5 [0/11481 (0%)]\tLoss: 0.038853\n",
      "Mem before-during-after: 21444096 4333847552 21330432\n"
     ]
    },
    {
     "name": "stderr",
     "output_type": "stream",
     "text": [
      " 41%|██████████████████████████████████████████████████▏                                                                        | 4.084536082474213/10 [13:26<23:38, 239.84s/it]"
     ]
    },
    {
     "name": "stdout",
     "output_type": "stream",
     "text": [
      "Train Epoch: 5 [1280/11481 (11%)]\tLoss: 0.525787\n",
      "Mem before-during-after: 21330432 4332184576 21330432\n"
     ]
    },
    {
     "name": "stderr",
     "output_type": "stream",
     "text": [
      " 42%|███████████████████████████████████████████████████▎                                                                       | 4.167010309278337/10 [13:45<23:13, 238.89s/it]"
     ]
    },
    {
     "name": "stdout",
     "output_type": "stream",
     "text": [
      "Train Epoch: 5 [2560/11481 (22%)]\tLoss: 0.310571\n",
      "Mem before-during-after: 21330432 4332184576 21330432\n"
     ]
    },
    {
     "name": "stderr",
     "output_type": "stream",
     "text": [
      " 42%|████████████████████████████████████████████████████▋                                                                       | 4.24948453608246/10 [14:05<22:50, 238.25s/it]"
     ]
    },
    {
     "name": "stdout",
     "output_type": "stream",
     "text": [
      "Train Epoch: 5 [3840/11481 (34%)]\tLoss: 0.131772\n",
      "Mem before-during-after: 21330432 4332184576 21330432\n"
     ]
    },
    {
     "name": "stderr",
     "output_type": "stream",
     "text": [
      " 43%|█████████████████████████████████████████████████████▎                                                                     | 4.331958762886583/10 [14:24<22:52, 242.23s/it]"
     ]
    },
    {
     "name": "stdout",
     "output_type": "stream",
     "text": [
      "Train Epoch: 5 [5120/11481 (45%)]\tLoss: 1.206272\n",
      "Mem before-during-after: 21330432 4332184576 21330432\n"
     ]
    },
    {
     "name": "stderr",
     "output_type": "stream",
     "text": [
      " 44%|██████████████████████████████████████████████████████▎                                                                    | 4.414432989690707/10 [14:43<21:58, 236.01s/it]"
     ]
    },
    {
     "name": "stdout",
     "output_type": "stream",
     "text": [
      "Train Epoch: 5 [6400/11481 (56%)]\tLoss: 0.392953\n",
      "Mem before-during-after: 21330432 4332184576 21330432\n"
     ]
    },
    {
     "name": "stderr",
     "output_type": "stream",
     "text": [
      " 45%|███████████████████████████████████████████████████████▊                                                                    | 4.49690721649483/10 [15:03<21:40, 236.36s/it]"
     ]
    },
    {
     "name": "stdout",
     "output_type": "stream",
     "text": [
      "Train Epoch: 5 [7680/11481 (67%)]\tLoss: 0.173414\n",
      "Mem before-during-after: 21330432 4332184576 21330432\n"
     ]
    },
    {
     "name": "stderr",
     "output_type": "stream",
     "text": [
      " 46%|████████████████████████████████████████████████████████▎                                                                  | 4.579381443298954/10 [15:22<21:39, 239.76s/it]"
     ]
    },
    {
     "name": "stdout",
     "output_type": "stream",
     "text": [
      "Train Epoch: 5 [8960/11481 (78%)]\tLoss: 0.121190\n",
      "Mem before-during-after: 21330432 4332184576 21330432\n"
     ]
    },
    {
     "name": "stderr",
     "output_type": "stream",
     "text": [
      " 47%|█████████████████████████████████████████████████████████▎                                                                 | 4.661855670103077/10 [15:41<21:04, 236.92s/it]"
     ]
    },
    {
     "name": "stdout",
     "output_type": "stream",
     "text": [
      "Train Epoch: 5 [10240/11481 (89%)]\tLoss: 0.592355\n",
      "Mem before-during-after: 21330432 4332184576 21330432\n"
     ]
    },
    {
     "name": "stderr",
     "output_type": "stream",
     "text": [
      " 50%|█████████████████████████████████████████████████████████████▍                                                             | 4.999999999999983/10 [16:26<08:50, 106.13s/it]"
     ]
    },
    {
     "name": "stdout",
     "output_type": "stream",
     "text": [
      "\n",
      "Test Epoch: 5\tAccuracy: 3393/4064 (83%)\n",
      "\n"
     ]
    },
    {
     "name": "stderr",
     "output_type": "stream",
     "text": [
      " 50%|█████████████████████████████████████████████████████████████▌                                                             | 5.002061855670086/10 [16:26<11:51, 142.32s/it]"
     ]
    },
    {
     "name": "stdout",
     "output_type": "stream",
     "text": [
      "Train Epoch: 6 [0/11481 (0%)]\tLoss: 0.008154\n",
      "Mem before-during-after: 21444096 4333847552 21330432\n"
     ]
    },
    {
     "name": "stderr",
     "output_type": "stream",
     "text": [
      " 51%|███████████████████████████████████████████████████████████████                                                             | 5.08453608247421/10 [16:46<19:21, 236.21s/it]"
     ]
    },
    {
     "name": "stdout",
     "output_type": "stream",
     "text": [
      "Train Epoch: 6 [1280/11481 (11%)]\tLoss: 0.142042\n",
      "Mem before-during-after: 21330432 4332184576 21330432\n"
     ]
    },
    {
     "name": "stderr",
     "output_type": "stream",
     "text": [
      " 52%|███████████████████████████████████████████████████████████████▌                                                           | 5.167010309278333/10 [17:05<19:05, 237.05s/it]"
     ]
    },
    {
     "name": "stdout",
     "output_type": "stream",
     "text": [
      "Train Epoch: 6 [2560/11481 (22%)]\tLoss: 0.415979\n",
      "Mem before-during-after: 21330432 4332184576 21330432\n"
     ]
    },
    {
     "name": "stderr",
     "output_type": "stream",
     "text": [
      " 52%|████████████████████████████████████████████████████████████████                                                          | 5.2494845360824565/10 [17:24<19:24, 245.11s/it]"
     ]
    },
    {
     "name": "stdout",
     "output_type": "stream",
     "text": [
      "Train Epoch: 6 [3840/11481 (34%)]\tLoss: 0.039928\n",
      "Mem before-during-after: 21330432 4332184576 21330432\n"
     ]
    },
    {
     "name": "stderr",
     "output_type": "stream",
     "text": [
      " 53%|██████████████████████████████████████████████████████████████████                                                          | 5.33195876288658/10 [17:43<18:15, 234.74s/it]"
     ]
    },
    {
     "name": "stdout",
     "output_type": "stream",
     "text": [
      "Train Epoch: 6 [5120/11481 (45%)]\tLoss: 1.622463\n",
      "Mem before-during-after: 21330432 4332184576 21330432\n"
     ]
    },
    {
     "name": "stderr",
     "output_type": "stream",
     "text": [
      " 54%|██████████████████████████████████████████████████████████████████▌                                                        | 5.414432989690703/10 [18:01<17:34, 229.87s/it]"
     ]
    },
    {
     "name": "stdout",
     "output_type": "stream",
     "text": [
      "Train Epoch: 6 [6400/11481 (56%)]\tLoss: 0.380060\n",
      "Mem before-during-after: 21330432 4332184576 21330432\n"
     ]
    },
    {
     "name": "stderr",
     "output_type": "stream",
     "text": [
      " 55%|███████████████████████████████████████████████████████████████████▌                                                       | 5.496907216494827/10 [18:20<18:05, 240.99s/it]"
     ]
    },
    {
     "name": "stdout",
     "output_type": "stream",
     "text": [
      "Train Epoch: 6 [7680/11481 (67%)]\tLoss: 0.233572\n",
      "Mem before-during-after: 21330432 4332184576 21330432\n"
     ]
    },
    {
     "name": "stderr",
     "output_type": "stream",
     "text": [
      " 56%|█████████████████████████████████████████████████████████████████████▏                                                      | 5.57938144329895/10 [18:39<17:06, 232.15s/it]"
     ]
    },
    {
     "name": "stdout",
     "output_type": "stream",
     "text": [
      "Train Epoch: 6 [8960/11481 (78%)]\tLoss: 0.116998\n",
      "Mem before-during-after: 21330432 4332184576 21330432\n"
     ]
    },
    {
     "name": "stderr",
     "output_type": "stream",
     "text": [
      " 57%|█████████████████████████████████████████████████████████████████████▋                                                     | 5.661855670103074/10 [18:58<16:38, 230.27s/it]"
     ]
    },
    {
     "name": "stdout",
     "output_type": "stream",
     "text": [
      "Train Epoch: 6 [10240/11481 (89%)]\tLoss: 1.027704\n",
      "Mem before-during-after: 21330432 4332184576 21330432\n"
     ]
    },
    {
     "name": "stderr",
     "output_type": "stream",
     "text": [
      " 60%|██████████████████████████████████████████████████████████████████████████▍                                                 | 5.99999999999998/10 [19:43<06:51, 102.94s/it]"
     ]
    },
    {
     "name": "stdout",
     "output_type": "stream",
     "text": [
      "\n",
      "Test Epoch: 6\tAccuracy: 3514/4064 (86%)\n",
      "\n"
     ]
    },
    {
     "name": "stderr",
     "output_type": "stream",
     "text": [
      " 60%|█████████████████████████████████████████████████████████████████████████▊                                                 | 6.002061855670083/10 [19:43<09:25, 141.33s/it]"
     ]
    },
    {
     "name": "stdout",
     "output_type": "stream",
     "text": [
      "Train Epoch: 7 [0/11481 (0%)]\tLoss: 0.024353\n",
      "Mem before-during-after: 21444096 4333847552 21330432\n"
     ]
    },
    {
     "name": "stderr",
     "output_type": "stream",
     "text": [
      " 61%|██████████████████████████████████████████████████████████████████████████▊                                                | 6.084536082474206/10 [20:02<15:06, 231.54s/it]"
     ]
    },
    {
     "name": "stdout",
     "output_type": "stream",
     "text": [
      "Train Epoch: 7 [1280/11481 (11%)]\tLoss: 0.014770\n",
      "Mem before-during-after: 21330432 4332184576 21330432\n"
     ]
    },
    {
     "name": "stderr",
     "output_type": "stream",
     "text": [
      " 62%|███████████████████████████████████████████████████████████████████████████▏                                              | 6.1670103092783295/10 [20:21<14:48, 231.82s/it]"
     ]
    },
    {
     "name": "stdout",
     "output_type": "stream",
     "text": [
      "Train Epoch: 7 [2560/11481 (22%)]\tLoss: 0.365955\n",
      "Mem before-during-after: 21330432 4332184576 21330432\n"
     ]
    },
    {
     "name": "stderr",
     "output_type": "stream",
     "text": [
      " 62%|████████████████████████████████████████████████████████████████████████████▊                                              | 6.249484536082453/10 [20:39<14:41, 234.95s/it]"
     ]
    },
    {
     "name": "stdout",
     "output_type": "stream",
     "text": [
      "Train Epoch: 7 [3840/11481 (34%)]\tLoss: 0.061883\n",
      "Mem before-during-after: 21330432 4332184576 21330432\n"
     ]
    },
    {
     "name": "stderr",
     "output_type": "stream",
     "text": [
      " 63%|█████████████████████████████████████████████████████████████████████████████▉                                             | 6.331958762886576/10 [20:59<14:31, 237.71s/it]"
     ]
    },
    {
     "name": "stdout",
     "output_type": "stream",
     "text": [
      "Train Epoch: 7 [5120/11481 (45%)]\tLoss: 1.128979\n",
      "Mem before-during-after: 21330432 4332184576 21330432\n"
     ]
    },
    {
     "name": "stderr",
     "output_type": "stream",
     "text": [
      " 64%|████████████████████████████████████████████████████████████████████████████████▏                                            | 6.4144329896907/10 [21:18<14:10, 237.34s/it]"
     ]
    },
    {
     "name": "stdout",
     "output_type": "stream",
     "text": [
      "Train Epoch: 7 [6400/11481 (56%)]\tLoss: 0.275485\n",
      "Mem before-during-after: 21330432 4332184576 21330432\n"
     ]
    },
    {
     "name": "stderr",
     "output_type": "stream",
     "text": [
      " 65%|███████████████████████████████████████████████████████████████████████████████▉                                           | 6.496907216494823/10 [21:37<13:49, 236.76s/it]"
     ]
    },
    {
     "name": "stdout",
     "output_type": "stream",
     "text": [
      "Train Epoch: 7 [7680/11481 (67%)]\tLoss: 0.133272\n",
      "Mem before-during-after: 21330432 4332184576 21330432\n"
     ]
    },
    {
     "name": "stderr",
     "output_type": "stream",
     "text": [
      " 66%|████████████████████████████████████████████████████████████████████████████████▉                                          | 6.579381443298947/10 [21:56<13:45, 241.30s/it]"
     ]
    },
    {
     "name": "stdout",
     "output_type": "stream",
     "text": [
      "Train Epoch: 7 [8960/11481 (78%)]\tLoss: 0.144027\n",
      "Mem before-during-after: 21330432 4332184576 21330432\n"
     ]
    },
    {
     "name": "stderr",
     "output_type": "stream",
     "text": [
      " 67%|██████████████████████████████████████████████████████████████████████████████████▌                                         | 6.66185567010307/10 [22:15<13:09, 236.51s/it]"
     ]
    },
    {
     "name": "stdout",
     "output_type": "stream",
     "text": [
      "Train Epoch: 7 [10240/11481 (89%)]\tLoss: 0.872432\n",
      "Mem before-during-after: 21330432 4332184576 21330432\n"
     ]
    },
    {
     "name": "stderr",
     "output_type": "stream",
     "text": [
      " 70%|██████████████████████████████████████████████████████████████████████████████████████                                     | 6.999999999999976/10 [23:01<05:27, 109.03s/it]"
     ]
    },
    {
     "name": "stdout",
     "output_type": "stream",
     "text": [
      "\n",
      "Test Epoch: 7\tAccuracy: 3533/4064 (86%)\n",
      "\n"
     ]
    },
    {
     "name": "stderr",
     "output_type": "stream",
     "text": [
      " 70%|██████████████████████████████████████████████████████████████████████████████████████▏                                    | 7.002061855670079/10 [23:01<07:22, 147.56s/it]"
     ]
    },
    {
     "name": "stdout",
     "output_type": "stream",
     "text": [
      "Train Epoch: 8 [0/11481 (0%)]\tLoss: 0.060469\n",
      "Mem before-during-after: 21444096 4333847552 21330432\n"
     ]
    },
    {
     "name": "stderr",
     "output_type": "stream",
     "text": [
      " 71%|██████████████████████████████████████████████████████████████████████████████████████▍                                   | 7.0845360824742025/10 [23:20<11:22, 234.13s/it]"
     ]
    },
    {
     "name": "stdout",
     "output_type": "stream",
     "text": [
      "Train Epoch: 8 [1280/11481 (11%)]\tLoss: 0.015186\n",
      "Mem before-during-after: 21330432 4332184576 21330432\n"
     ]
    },
    {
     "name": "stderr",
     "output_type": "stream",
     "text": [
      " 72%|████████████████████████████████████████████████████████████████████████████████████████▏                                  | 7.167010309278326/10 [23:39<11:10, 236.76s/it]"
     ]
    },
    {
     "name": "stdout",
     "output_type": "stream",
     "text": [
      "Train Epoch: 8 [2560/11481 (22%)]\tLoss: 0.459540\n",
      "Mem before-during-after: 21330432 4332184576 21330432\n"
     ]
    },
    {
     "name": "stderr",
     "output_type": "stream",
     "text": [
      " 72%|█████████████████████████████████████████████████████████████████████████████████████████▏                                 | 7.249484536082449/10 [23:58<10:29, 228.92s/it]"
     ]
    },
    {
     "name": "stdout",
     "output_type": "stream",
     "text": [
      "Train Epoch: 8 [3840/11481 (34%)]\tLoss: 0.160261\n",
      "Mem before-during-after: 21330432 4332184576 21330432\n"
     ]
    },
    {
     "name": "stderr",
     "output_type": "stream",
     "text": [
      " 73%|██████████████████████████████████████████████████████████████████████████████████████████▏                                | 7.331958762886573/10 [24:17<10:16, 230.97s/it]"
     ]
    },
    {
     "name": "stdout",
     "output_type": "stream",
     "text": [
      "Train Epoch: 8 [5120/11481 (45%)]\tLoss: 1.222161\n",
      "Mem before-during-after: 21330432 4332184576 21330432\n"
     ]
    },
    {
     "name": "stderr",
     "output_type": "stream",
     "text": [
      " 74%|███████████████████████████████████████████████████████████████████████████████████████████▏                               | 7.414432989690696/10 [24:35<09:57, 231.07s/it]"
     ]
    },
    {
     "name": "stdout",
     "output_type": "stream",
     "text": [
      "Train Epoch: 8 [6400/11481 (56%)]\tLoss: 0.256349\n",
      "Mem before-during-after: 21330432 4332184576 21330432\n"
     ]
    },
    {
     "name": "stderr",
     "output_type": "stream",
     "text": [
      " 75%|████████████████████████████████████████████████████████████████████████████████████████████▉                               | 7.49690721649482/10 [24:54<09:36, 230.25s/it]"
     ]
    },
    {
     "name": "stdout",
     "output_type": "stream",
     "text": [
      "Train Epoch: 8 [7680/11481 (67%)]\tLoss: 0.205474\n",
      "Mem before-during-after: 21330432 4332184576 21330432\n"
     ]
    },
    {
     "name": "stderr",
     "output_type": "stream",
     "text": [
      " 76%|█████████████████████████████████████████████████████████████████████████████████████████████▏                             | 7.579381443298943/10 [25:13<09:28, 234.66s/it]"
     ]
    },
    {
     "name": "stdout",
     "output_type": "stream",
     "text": [
      "Train Epoch: 8 [8960/11481 (78%)]\tLoss: 0.218653\n",
      "Mem before-during-after: 21330432 4332184576 21330432\n"
     ]
    },
    {
     "name": "stderr",
     "output_type": "stream",
     "text": [
      " 77%|█████████████████████████████████████████████████████████████████████████████████████████████▍                            | 7.6618556701030665/10 [25:33<09:21, 239.94s/it]"
     ]
    },
    {
     "name": "stdout",
     "output_type": "stream",
     "text": [
      "Train Epoch: 8 [10240/11481 (89%)]\tLoss: 0.578776\n",
      "Mem before-during-after: 21330432 4332184576 21330432\n"
     ]
    },
    {
     "name": "stderr",
     "output_type": "stream",
     "text": [
      " 80%|█████████████████████████████████████████████████████████████████████████████████████████████████▌                        | 7.9999999999999725/10 [26:18<03:22, 101.31s/it]"
     ]
    },
    {
     "name": "stdout",
     "output_type": "stream",
     "text": [
      "\n",
      "Test Epoch: 8\tAccuracy: 3552/4064 (87%)\n",
      "\n"
     ]
    },
    {
     "name": "stderr",
     "output_type": "stream",
     "text": [
      " 80%|██████████████████████████████████████████████████████████████████████████████████████████████████▍                        | 8.002061855670076/10 [26:18<04:37, 138.84s/it]"
     ]
    },
    {
     "name": "stdout",
     "output_type": "stream",
     "text": [
      "Train Epoch: 9 [0/11481 (0%)]\tLoss: 0.035476\n",
      "Mem before-during-after: 21444096 4333847552 21330432\n"
     ]
    },
    {
     "name": "stderr",
     "output_type": "stream",
     "text": [
      " 81%|█████████████████████████████████████████████████████████████████████████████████████████████████████                        | 8.0845360824742/10 [26:37<07:26, 232.99s/it]"
     ]
    },
    {
     "name": "stdout",
     "output_type": "stream",
     "text": [
      "Train Epoch: 9 [1280/11481 (11%)]\tLoss: 0.012592\n",
      "Mem before-during-after: 21330432 4332184576 21330432\n"
     ]
    },
    {
     "name": "stderr",
     "output_type": "stream",
     "text": [
      " 82%|████████████████████████████████████████████████████████████████████████████████████████████████████▍                      | 8.167010309278323/10 [26:56<07:05, 232.21s/it]"
     ]
    },
    {
     "name": "stdout",
     "output_type": "stream",
     "text": [
      "Train Epoch: 9 [2560/11481 (22%)]\tLoss: 0.365333\n",
      "Mem before-during-after: 21330432 4332184576 21330432\n"
     ]
    },
    {
     "name": "stderr",
     "output_type": "stream",
     "text": [
      " 82%|█████████████████████████████████████████████████████████████████████████████████████████████████████▍                     | 8.249484536082447/10 [27:15<06:50, 234.31s/it]"
     ]
    },
    {
     "name": "stdout",
     "output_type": "stream",
     "text": [
      "Train Epoch: 9 [3840/11481 (34%)]\tLoss: 0.035045\n",
      "Mem before-during-after: 21330432 4332184576 21330432\n"
     ]
    },
    {
     "name": "stderr",
     "output_type": "stream",
     "text": [
      " 83%|███████████████████████████████████████████████████████████████████████████████████████████████████████▎                    | 8.33195876288657/10 [27:34<06:28, 232.62s/it]"
     ]
    },
    {
     "name": "stdout",
     "output_type": "stream",
     "text": [
      "Train Epoch: 9 [5120/11481 (45%)]\tLoss: 0.914929\n",
      "Mem before-during-after: 21330432 4332184576 21330432\n"
     ]
    },
    {
     "name": "stderr",
     "output_type": "stream",
     "text": [
      " 84%|███████████████████████████████████████████████████████████████████████████████████████████████████████▍                   | 8.414432989690694/10 [27:53<06:15, 236.79s/it]"
     ]
    },
    {
     "name": "stdout",
     "output_type": "stream",
     "text": [
      "Train Epoch: 9 [6400/11481 (56%)]\tLoss: 0.325784\n",
      "Mem before-during-after: 21330432 4332184576 21330432\n"
     ]
    },
    {
     "name": "stderr",
     "output_type": "stream",
     "text": [
      " 85%|████████████████████████████████████████████████████████████████████████████████████████████████████████▌                  | 8.496907216494817/10 [28:12<05:51, 234.05s/it]"
     ]
    },
    {
     "name": "stdout",
     "output_type": "stream",
     "text": [
      "Train Epoch: 9 [7680/11481 (67%)]\tLoss: 0.112059\n",
      "Mem before-during-after: 21330432 4332184576 21330432\n"
     ]
    },
    {
     "name": "stderr",
     "output_type": "stream",
     "text": [
      " 86%|██████████████████████████████████████████████████████████████████████████████████████████████████████████▍                 | 8.57938144329894/10 [28:31<05:35, 236.33s/it]"
     ]
    },
    {
     "name": "stdout",
     "output_type": "stream",
     "text": [
      "Train Epoch: 9 [8960/11481 (78%)]\tLoss: 0.171224\n",
      "Mem before-during-after: 21330432 4332184576 21330432\n"
     ]
    },
    {
     "name": "stderr",
     "output_type": "stream",
     "text": [
      " 87%|██████████████████████████████████████████████████████████████████████████████████████████████████████████▌                | 8.661855670103064/10 [28:50<05:11, 232.98s/it]"
     ]
    },
    {
     "name": "stdout",
     "output_type": "stream",
     "text": [
      "Train Epoch: 9 [10240/11481 (89%)]\tLoss: 0.852839\n",
      "Mem before-during-after: 21330432 4332184576 21330432\n"
     ]
    },
    {
     "name": "stderr",
     "output_type": "stream",
     "text": [
      " 90%|███████████████████████████████████████████████████████████████████████████████████████████████████████████████▌            | 8.99999999999997/10 [29:35<01:43, 103.63s/it]"
     ]
    },
    {
     "name": "stdout",
     "output_type": "stream",
     "text": [
      "\n",
      "Test Epoch: 9\tAccuracy: 3256/4064 (80%)\n",
      "\n"
     ]
    },
    {
     "name": "stderr",
     "output_type": "stream",
     "text": [
      " 90%|██████████████████████████████████████████████████████████████████████████████████████████████████████████████▋            | 9.002061855670073/10 [29:36<02:18, 139.11s/it]"
     ]
    },
    {
     "name": "stdout",
     "output_type": "stream",
     "text": [
      "Train Epoch: 10 [0/11481 (0%)]\tLoss: 0.133125\n",
      "Mem before-during-after: 21444096 4333847552 21330432\n"
     ]
    },
    {
     "name": "stderr",
     "output_type": "stream",
     "text": [
      " 91%|███████████████████████████████████████████████████████████████████████████████████████████████████████████████▋           | 9.084536082474196/10 [29:54<03:31, 230.61s/it]"
     ]
    },
    {
     "name": "stdout",
     "output_type": "stream",
     "text": [
      "Train Epoch: 10 [1280/11481 (11%)]\tLoss: 0.009056\n",
      "Mem before-during-after: 21330432 4332184576 21330432\n"
     ]
    },
    {
     "name": "stderr",
     "output_type": "stream",
     "text": [
      " 92%|█████████████████████████████████████████████████████████████████████████████████████████████████████████████████▋          | 9.16701030927832/10 [30:13<03:14, 233.58s/it]"
     ]
    },
    {
     "name": "stdout",
     "output_type": "stream",
     "text": [
      "Train Epoch: 10 [2560/11481 (22%)]\tLoss: 0.351270\n",
      "Mem before-during-after: 21330432 4332184576 21330432\n"
     ]
    },
    {
     "name": "stderr",
     "output_type": "stream",
     "text": [
      " 92%|█████████████████████████████████████████████████████████████████████████████████████████████████████████████████▊         | 9.249484536082443/10 [30:32<02:55, 233.95s/it]"
     ]
    },
    {
     "name": "stdout",
     "output_type": "stream",
     "text": [
      "Train Epoch: 10 [3840/11481 (34%)]\tLoss: 0.029226\n",
      "Mem before-during-after: 21330432 4332184576 21330432\n"
     ]
    },
    {
     "name": "stderr",
     "output_type": "stream",
     "text": [
      " 93%|██████████████████████████████████████████████████████████████████████████████████████████████████████████████████▊        | 9.331958762886567/10 [30:51<02:39, 238.35s/it]"
     ]
    },
    {
     "name": "stdout",
     "output_type": "stream",
     "text": [
      "Train Epoch: 10 [5120/11481 (45%)]\tLoss: 0.911101\n",
      "Mem before-during-after: 21330432 4332184576 21330432\n"
     ]
    },
    {
     "name": "stderr",
     "output_type": "stream",
     "text": [
      " 94%|████████████████████████████████████████████████████████████████████████████████████████████████████████████████████▋       | 9.41443298969069/10 [31:10<02:16, 233.50s/it]"
     ]
    },
    {
     "name": "stdout",
     "output_type": "stream",
     "text": [
      "Train Epoch: 10 [6400/11481 (56%)]\tLoss: 0.266297\n",
      "Mem before-during-after: 21330432 4332184576 21330432\n"
     ]
    },
    {
     "name": "stderr",
     "output_type": "stream",
     "text": [
      " 95%|████████████████████████████████████████████████████████████████████████████████████████████████████████████████████▊      | 9.496907216494813/10 [31:28<01:57, 233.12s/it]"
     ]
    },
    {
     "name": "stdout",
     "output_type": "stream",
     "text": [
      "Train Epoch: 10 [7680/11481 (67%)]\tLoss: 0.108206\n",
      "Mem before-during-after: 21330432 4332184576 21330432\n"
     ]
    },
    {
     "name": "stderr",
     "output_type": "stream",
     "text": [
      " 96%|█████████████████████████████████████████████████████████████████████████████████████████████████████████████████████▊     | 9.579381443298937/10 [31:47<01:38, 235.27s/it]"
     ]
    },
    {
     "name": "stdout",
     "output_type": "stream",
     "text": [
      "Train Epoch: 10 [8960/11481 (78%)]\tLoss: 0.150916\n",
      "Mem before-during-after: 21330432 4332184576 21330432\n"
     ]
    },
    {
     "name": "stderr",
     "output_type": "stream",
     "text": [
      " 97%|███████████████████████████████████████████████████████████████████████████████████████████████████████████████████████▊    | 9.66185567010306/10 [32:06<01:19, 235.16s/it]"
     ]
    },
    {
     "name": "stdout",
     "output_type": "stream",
     "text": [
      "Train Epoch: 10 [10240/11481 (89%)]\tLoss: 0.719096\n",
      "Mem before-during-after: 21330432 4332184576 21330432\n"
     ]
    },
    {
     "name": "stderr",
     "output_type": "stream",
     "text": [
      "100%|██████████████████████████████████████████████████████████████████████████████████████████████████████████████████████████▉| 9.999999999999966/10 [32:51<00:00, 197.17s/it]"
     ]
    },
    {
     "name": "stdout",
     "output_type": "stream",
     "text": [
      "\n",
      "Test Epoch: 10\tAccuracy: 3468/4064 (85%)\n",
      "\n"
     ]
    },
    {
     "name": "stderr",
     "output_type": "stream",
     "text": [
      "\n"
     ]
    }
   ],
   "source": [
    "log_interval = 40\n",
    "pbar_update = 1 / (len(train_loader) + len(test_loader))\n",
    "model.to(device)\n",
    "with tqdm(total=n_epoch) as pbar:\n",
    "    for epoch in range(1, n_epoch + 1):\n",
    "        train(model, epoch, log_interval, train_losses)\n",
    "        acc = test(model, epoch)\n",
    "        test_accuracy += [acc]\n",
    "        scheduler.step()"
   ]
  },
  {
   "cell_type": "code",
   "execution_count": 14,
   "id": "9ce77726-a765-4569-898e-e5d81b849d38",
   "metadata": {},
   "outputs": [
    {
     "data": {
      "text/plain": [
       "[<matplotlib.lines.Line2D at 0x7ff188176a00>]"
      ]
     },
     "execution_count": 14,
     "metadata": {},
     "output_type": "execute_result"
    },
    {
     "data": {
      "image/png": "[encoded data removed]",
      "text/plain": [
       "<Figure size 640x480 with 1 Axes>"
      ]
     },
     "metadata": {},
     "output_type": "display_data"
    }
   ],
   "source": [
    "plt.plot(train_losses)"
   ]
  },
  {
   "cell_type": "code",
   "execution_count": 15,
   "id": "7b4b5dfb-d20f-4b36-a398-57e9944f5971",
   "metadata": {},
   "outputs": [
    {
     "data": {
      "text/plain": [
       "[<matplotlib.lines.Line2D at 0x7ff1880da0a0>]"
      ]
     },
     "execution_count": 15,
     "metadata": {},
     "output_type": "execute_result"
    },
    {
     "data": {
      "image/png": "[encoded data removed]",
      "text/plain": [
       "<Figure size 640x480 with 1 Axes>"
      ]
     },
     "metadata": {},
     "output_type": "display_data"
    }
   ],
   "source": [
    "plt.plot(test_accuracy)"
   ]
  },
  {
   "cell_type": "code",
   "execution_count": 16,
   "id": "05b83f13-f433-4201-ac1e-fb15c409a0b3",
   "metadata": {},
   "outputs": [],
   "source": [
    "model_path = '../physio16k_fold4_m13sinc_10epochs.pt' \n",
    "torch.save(model.state_dict(), model_path)"
   ]
  },
  {
   "cell_type": "code",
   "execution_count": 17,
   "id": "1911d843-0ddd-4570-a746-602f55ae55e2",
   "metadata": {},
   "outputs": [],
   "source": [
    "from torchmetrics.classification import (\n",
    "    MulticlassAccuracy, MulticlassPrecision, \n",
    "    MulticlassRecall, MulticlassF1Score, \n",
    "    MulticlassConfusionMatrix,\n",
    "    MulticlassAUROC\n",
    ")\n",
    "from torchmetrics import MetricCollection\n",
    "from torchmetrics.wrappers import ClasswiseWrapper\n",
    "from pprint import pprint\n",
    "\n",
    "@torch.no_grad\n",
    "def report_metrics(model, labels=labels):\n",
    "    n = len(labels)\n",
    "    metrics = MetricCollection({\n",
    "        'acc_unweighted': MulticlassAccuracy(num_classes=n), \n",
    "        'acc_weighted': MulticlassAccuracy(num_classes=n, average='weighted'), \n",
    "        \n",
    "        'f1s': MulticlassF1Score(num_classes=n),  \n",
    "        'uar': MulticlassRecall(num_classes=n, average='macro'), \n",
    "        'wap': MulticlassPrecision(num_classes=n, average='weighted'),\n",
    "        \n",
    "        'f1s_detail': MulticlassF1Score(num_classes=n, average=None),  \n",
    "        'acc_detail': MulticlassAccuracy(num_classes=n, average=None), \n",
    "        'precision_detail': MulticlassPrecision(num_classes=n, average=None),\n",
    "        'recall_detail': MulticlassRecall(num_classes=n, average=None), \n",
    "        'rocauc': MulticlassAUROC(num_classes=n, average=None, thresholds=None)\n",
    "    }\n",
    "    # , compute_groups=[['acc', 'f1s', 'wap'], ['uap', 'uar']]\n",
    "                              ).to(device)\n",
    "    confusion_matrix = MulticlassConfusionMatrix(num_classes=n).to(device)\n",
    "    model.eval()\n",
    "    correct = 0\n",
    "    total = 0\n",
    "    for data, target in test_loader:\n",
    "        total += len(target)\n",
    "        \n",
    "        data = data.to(device)\n",
    "        target = target.to(device)\n",
    "        output = model(data).squeeze()\n",
    "        del data\n",
    "        gc.collect()\n",
    "        torch.cuda.empty_cache()\n",
    "        probs = F.softmax(output, dim=-1)\n",
    "        pred = probs.argmax(dim=-1)\n",
    "        correct += pred.eq(target).sum().item()\n",
    "        \n",
    "        metrics.update(probs, target)\n",
    "        confusion_matrix.update(pred, target)\n",
    "        \n",
    "        del target\n",
    "        gc.collect()\n",
    "        torch.cuda.empty_cache()\n",
    "        pbar.update(pbar_update)\n",
    "    print(f'Correct: {correct}/{total} ({correct/total:.4f})')\n",
    "    return metrics, confusion_matrix"
   ]
  },
  {
   "cell_type": "code",
   "execution_count": 18,
   "id": "dbe18a0c-c79d-4657-ad8f-01a823a7d90c",
   "metadata": {},
   "outputs": [
    {
     "name": "stdout",
     "output_type": "stream",
     "text": [
      "Correct: 3468/4064 (0.8533)\n",
      "{'acc_detail': tensor([0.4483, 0.9800], device='cuda:0'),\n",
      " 'acc_unweighted': tensor(0.7142, device='cuda:0'),\n",
      " 'acc_weighted': tensor(0.8533, device='cuda:0'),\n",
      " 'f1s': tensor(0.7517, device='cuda:0'),\n",
      " 'f1s_detail': tensor([0.5929, 0.9106], device='cuda:0'),\n",
      " 'precision_detail': tensor([0.8750, 0.8503], device='cuda:0'),\n",
      " 'recall_detail': tensor([0.4483, 0.9800], device='cuda:0'),\n",
      " 'rocauc': tensor([0.8967, 0.8967], device='cuda:0'),\n",
      " 'uar': tensor(0.7142, device='cuda:0'),\n",
      " 'wap': tensor(0.8562, device='cuda:0')}\n"
     ]
    },
    {
     "data": {
      "text/plain": [
       "tensor([[ 434,  534],\n",
       "        [  62, 3034]], device='cuda:0')"
      ]
     },
     "execution_count": 18,
     "metadata": {},
     "output_type": "execute_result"
    }
   ],
   "source": [
    "metrics, confusion_matrix = report_metrics(model)\n",
    "pprint(metrics.compute())\n",
    "confusion_matrix.compute()"
   ]
  },
  {
   "cell_type": "code",
   "execution_count": 19,
   "id": "f749e410-8fd7-4cc0-904b-8eab1db8a474",
   "metadata": {
    "scrolled": true
   },
   "outputs": [
    {
     "name": "stdout",
     "output_type": "stream",
     "text": [
      "('lowcut_bands', Parameter containing:\n",
      "tensor([[ 0.0000],\n",
      "        [ 0.1565],\n",
      "        [ 0.0294],\n",
      "        [-0.1687],\n",
      "        [ 0.1131],\n",
      "        [ 0.0495],\n",
      "        [ 0.0610],\n",
      "        [-0.0560],\n",
      "        [-0.0395],\n",
      "        [-0.0379],\n",
      "        [-0.0401],\n",
      "        [-0.0904],\n",
      "        [ 0.1492],\n",
      "        [ 0.1706],\n",
      "        [-0.1282],\n",
      "        [-0.0292],\n",
      "        [-0.0406],\n",
      "        [ 0.0849],\n",
      "        [-0.0920],\n",
      "        [ 0.0161],\n",
      "        [ 0.1231],\n",
      "        [-0.1167],\n",
      "        [ 0.0980],\n",
      "        [-0.0828],\n",
      "        [ 0.1179],\n",
      "        [ 0.0712],\n",
      "        [-0.1262],\n",
      "        [ 0.0213],\n",
      "        [ 0.1202],\n",
      "        [-0.0341],\n",
      "        [ 0.0998],\n",
      "        [-0.0532],\n",
      "        [-0.0291],\n",
      "        [ 0.0520],\n",
      "        [-0.0411],\n",
      "        [ 0.0065],\n",
      "        [ 0.0774],\n",
      "        [-0.0322],\n",
      "        [ 0.0680],\n",
      "        [-0.0235],\n",
      "        [-0.1552],\n",
      "        [-0.2017],\n",
      "        [-0.0913],\n",
      "        [ 0.1230],\n",
      "        [ 0.0296],\n",
      "        [-0.0480],\n",
      "        [ 0.1273],\n",
      "        [ 0.0115],\n",
      "        [ 0.1842],\n",
      "        [ 0.0236],\n",
      "        [ 0.2260],\n",
      "        [ 0.0520],\n",
      "        [-0.0085],\n",
      "        [ 0.1056],\n",
      "        [ 0.1267],\n",
      "        [-0.0248],\n",
      "        [ 0.1000],\n",
      "        [ 0.0963],\n",
      "        [ 0.2015],\n",
      "        [ 0.1262],\n",
      "        [ 0.1106],\n",
      "        [ 0.0870],\n",
      "        [ 0.1205],\n",
      "        [ 0.1146],\n",
      "        [-0.0332],\n",
      "        [ 0.1070],\n",
      "        [ 0.1189],\n",
      "        [ 0.2257],\n",
      "        [ 0.1122],\n",
      "        [ 0.0113],\n",
      "        [ 0.1098],\n",
      "        [-0.1016],\n",
      "        [ 0.1874],\n",
      "        [ 0.1118],\n",
      "        [ 0.0445],\n",
      "        [ 0.0830],\n",
      "        [ 0.2523],\n",
      "        [ 0.1409],\n",
      "        [ 0.1078],\n",
      "        [ 0.1027],\n",
      "        [ 0.1229],\n",
      "        [ 0.0587],\n",
      "        [ 0.0949],\n",
      "        [-0.0968],\n",
      "        [ 0.0226],\n",
      "        [ 0.0761],\n",
      "        [ 0.1114],\n",
      "        [ 0.1145],\n",
      "        [-0.0849],\n",
      "        [ 0.0892],\n",
      "        [-0.0530],\n",
      "        [-0.0750],\n",
      "        [ 0.2504],\n",
      "        [ 0.2796],\n",
      "        [ 0.1622],\n",
      "        [ 0.1737],\n",
      "        [ 0.2199],\n",
      "        [ 0.0665],\n",
      "        [ 0.2063],\n",
      "        [ 0.0834],\n",
      "        [ 0.2245],\n",
      "        [ 0.0259],\n",
      "        [ 0.1461],\n",
      "        [ 0.1565],\n",
      "        [ 0.1843],\n",
      "        [ 0.3302],\n",
      "        [ 0.3567],\n",
      "        [ 0.0442],\n",
      "        [ 0.5239],\n",
      "        [ 0.2380],\n",
      "        [ 0.4429],\n",
      "        [ 0.5650],\n",
      "        [ 0.3706],\n",
      "        [ 0.5834],\n",
      "        [ 0.5795],\n",
      "        [ 0.5536],\n",
      "        [ 0.6569],\n",
      "        [ 0.4873],\n",
      "        [ 0.1611],\n",
      "        [ 0.5386],\n",
      "        [ 0.1693],\n",
      "        [ 0.1578],\n",
      "        [ 0.3838],\n",
      "        [ 0.3720],\n",
      "        [ 0.1037],\n",
      "        [ 0.3885],\n",
      "        [ 0.3832],\n",
      "        [ 0.6096]], device='cuda:0', requires_grad=True))\n",
      "('bandwidths', Parameter containing:\n",
      "tensor([[ 0.0577],\n",
      "        [-0.0703],\n",
      "        [ 0.0302],\n",
      "        [ 0.0708],\n",
      "        [ 0.1388],\n",
      "        [ 0.0250],\n",
      "        [-0.1179],\n",
      "        [ 0.0451],\n",
      "        [ 0.0473],\n",
      "        [-0.0513],\n",
      "        [-0.0508],\n",
      "        [-0.0651],\n",
      "        [-0.0597],\n",
      "        [ 0.0418],\n",
      "        [-0.0735],\n",
      "        [ 0.0460],\n",
      "        [ 0.0478],\n",
      "        [ 0.1947],\n",
      "        [-0.0932],\n",
      "        [-0.0217],\n",
      "        [ 0.1046],\n",
      "        [-0.0815],\n",
      "        [ 0.0337],\n",
      "        [-0.0627],\n",
      "        [ 0.0781],\n",
      "        [ 0.0898],\n",
      "        [-0.0959],\n",
      "        [ 0.0551],\n",
      "        [-0.1181],\n",
      "        [-0.0105],\n",
      "        [ 0.1124],\n",
      "        [-0.0586],\n",
      "        [-0.0335],\n",
      "        [-0.0573],\n",
      "        [-0.0494],\n",
      "        [ 0.0166],\n",
      "        [-0.1403],\n",
      "        [-0.0548],\n",
      "        [ 0.0400],\n",
      "        [-0.0303],\n",
      "        [-0.1393],\n",
      "        [-0.1595],\n",
      "        [-0.0979],\n",
      "        [-0.0575],\n",
      "        [ 0.0734],\n",
      "        [ 0.0597],\n",
      "        [ 0.0962],\n",
      "        [-0.0496],\n",
      "        [ 0.1623],\n",
      "        [-0.0508],\n",
      "        [-0.1077],\n",
      "        [-0.0931],\n",
      "        [ 0.0517],\n",
      "        [ 0.0396],\n",
      "        [-0.1264],\n",
      "        [-0.0308],\n",
      "        [ 0.0768],\n",
      "        [ 0.0587],\n",
      "        [-0.1730],\n",
      "        [-0.0589],\n",
      "        [ 0.1460],\n",
      "        [ 0.0761],\n",
      "        [ 0.0680],\n",
      "        [ 0.0615],\n",
      "        [-0.0425],\n",
      "        [-0.1667],\n",
      "        [ 0.0976],\n",
      "        [ 0.1578],\n",
      "        [ 0.0664],\n",
      "        [-0.0072],\n",
      "        [-0.0622],\n",
      "        [ 0.0646],\n",
      "        [ 0.0547],\n",
      "        [ 0.1383],\n",
      "        [ 0.0463],\n",
      "        [ 0.0416],\n",
      "        [ 0.0872],\n",
      "        [ 0.1179],\n",
      "        [-0.1441],\n",
      "        [-0.1224],\n",
      "        [ 0.0865],\n",
      "        [ 0.0603],\n",
      "        [-0.1654],\n",
      "        [-0.0596],\n",
      "        [ 0.0679],\n",
      "        [-0.0958],\n",
      "        [ 0.0699],\n",
      "        [-0.1149],\n",
      "        [-0.1474],\n",
      "        [ 0.1913],\n",
      "        [ 0.0950],\n",
      "        [-0.1610],\n",
      "        [-0.0883],\n",
      "        [-0.1729],\n",
      "        [ 0.0558],\n",
      "        [ 0.0304],\n",
      "        [-0.0979],\n",
      "        [-0.0556],\n",
      "        [-0.0827],\n",
      "        [-0.0601],\n",
      "        [-0.0117],\n",
      "        [ 0.0325],\n",
      "        [-0.1647],\n",
      "        [ 0.0846],\n",
      "        [-0.2171],\n",
      "        [-0.0251],\n",
      "        [-0.1216],\n",
      "        [ 0.0186],\n",
      "        [-0.1216],\n",
      "        [-0.1143],\n",
      "        [ 0.0611],\n",
      "        [ 0.1502],\n",
      "        [-0.0694],\n",
      "        [-0.0590],\n",
      "        [-0.0340],\n",
      "        [-0.1161],\n",
      "        [-0.0649],\n",
      "        [ 0.0897],\n",
      "        [ 0.0800],\n",
      "        [-0.1342],\n",
      "        [ 0.1588],\n",
      "        [ 0.0355],\n",
      "        [ 0.1224],\n",
      "        [ 0.0736],\n",
      "        [-0.0221],\n",
      "        [ 0.0663],\n",
      "        [-0.1063],\n",
      "        [-0.0793]], device='cuda:0', requires_grad=True))\n"
     ]
    }
   ],
   "source": [
    "layer = model.fe_blocks.blocks[0].block.layer\n",
    "visualize_model.print_parameters(layer)"
   ]
  },
  {
   "cell_type": "code",
   "execution_count": 20,
   "id": "f8b79cc6-0a62-4bbd-8865-e25ce955e919",
   "metadata": {
    "scrolled": true
   },
   "outputs": [
    {
     "name": "stdout",
     "output_type": "stream",
     "text": [
      "tensor([[ 0.0000],\n",
      "        [ 0.0166],\n",
      "        [ 0.0200],\n",
      "        [-0.0545],\n",
      "        [ 0.0665],\n",
      "        [ 0.0115],\n",
      "        [ 0.0106],\n",
      "        [-0.0663],\n",
      "        [-0.1271],\n",
      "        [-0.0308],\n",
      "        [-0.0304],\n",
      "        [-0.0240],\n",
      "        [ 0.0155],\n",
      "        [ 0.0588],\n",
      "        [-0.0701],\n",
      "        [-0.0071],\n",
      "        [-0.0393],\n",
      "        [ 0.0140],\n",
      "        [-0.0458],\n",
      "        [-0.1242],\n",
      "        [-0.0721],\n",
      "        [-0.1098],\n",
      "        [ 0.0128],\n",
      "        [-0.0233],\n",
      "        [ 0.0452],\n",
      "        [ 0.0089],\n",
      "        [-0.0256],\n",
      "        [-0.0110],\n",
      "        [-0.0028],\n",
      "        [ 0.0083],\n",
      "        [-0.0011],\n",
      "        [-0.0049],\n",
      "        [-0.0619],\n",
      "        [ 0.0084],\n",
      "        [-0.0607],\n",
      "        [ 0.0288],\n",
      "        [ 0.0155],\n",
      "        [-0.0402],\n",
      "        [ 0.0127],\n",
      "        [-0.0007],\n",
      "        [-0.0721],\n",
      "        [-0.0346],\n",
      "        [-0.0199],\n",
      "        [-0.0408],\n",
      "        [ 0.0171],\n",
      "        [-0.0367],\n",
      "        [ 0.0108],\n",
      "        [ 0.0566],\n",
      "        [ 0.0069],\n",
      "        [ 0.0191],\n",
      "        [ 0.0644],\n",
      "        [-0.0048],\n",
      "        [-0.0253],\n",
      "        [ 0.0122],\n",
      "        [-0.0702],\n",
      "        [ 0.0263],\n",
      "        [-0.0243],\n",
      "        [-0.0674],\n",
      "        [-0.0442],\n",
      "        [ 0.0325],\n",
      "        [ 0.0004],\n",
      "        [ 0.0290],\n",
      "        [-0.0684],\n",
      "        [-0.0332],\n",
      "        [ 0.0065],\n",
      "        [ 0.0054],\n",
      "        [-0.0061],\n",
      "        [-0.0535],\n",
      "        [-0.0260],\n",
      "        [ 0.2209],\n",
      "        [-0.0670],\n",
      "        [ 0.0894],\n",
      "        [ 0.0214],\n",
      "        [-0.0668],\n",
      "        [-0.0373],\n",
      "        [-0.1026],\n",
      "        [-0.1408],\n",
      "        [-0.0175],\n",
      "        [-0.1175],\n",
      "        [-0.0136],\n",
      "        [-0.0197],\n",
      "        [-0.0686],\n",
      "        [ 0.0310],\n",
      "        [ 0.0401],\n",
      "        [-0.0326],\n",
      "        [-0.0421],\n",
      "        [-0.0057],\n",
      "        [-0.0432],\n",
      "        [ 0.0609],\n",
      "        [-0.0529],\n",
      "        [-0.0029],\n",
      "        [-0.0143],\n",
      "        [-0.0195],\n",
      "        [ 0.0671],\n",
      "        [-0.1122],\n",
      "        [ 0.0142],\n",
      "        [-0.0264],\n",
      "        [-0.0373],\n",
      "        [ 0.0660],\n",
      "        [-0.0157],\n",
      "        [ 0.2925],\n",
      "        [-0.0109],\n",
      "        [ 0.0265],\n",
      "        [-0.0465],\n",
      "        [-0.0353],\n",
      "        [-0.0703],\n",
      "        [ 0.0178],\n",
      "        [ 0.0270],\n",
      "        [-0.0197],\n",
      "        [ 0.0055],\n",
      "        [-0.0912],\n",
      "        [-0.0442],\n",
      "        [ 0.0359],\n",
      "        [-0.3001],\n",
      "        [ 0.0250],\n",
      "        [ 0.0425],\n",
      "        [-0.0526],\n",
      "        [-0.0890],\n",
      "        [ 0.0050],\n",
      "        [ 0.0735],\n",
      "        [ 0.0285],\n",
      "        [ 0.0025],\n",
      "        [ 0.0419],\n",
      "        [-0.0156],\n",
      "        [-0.0177],\n",
      "        [-0.0470],\n",
      "        [ 0.0832],\n",
      "        [-0.0650]], device='cuda:0')\n",
      "tensor([[-3.7730e-03],\n",
      "        [-8.0520e-03],\n",
      "        [-3.8962e-03],\n",
      "        [ 3.8764e-02],\n",
      "        [ 3.8278e-02],\n",
      "        [-1.3558e-02],\n",
      "        [ 6.7735e-04],\n",
      "        [ 1.9659e-02],\n",
      "        [ 6.4904e-02],\n",
      "        [-1.1316e-02],\n",
      "        [ 7.9561e-03],\n",
      "        [-3.3687e-02],\n",
      "        [ 1.1153e-02],\n",
      "        [ 4.1963e-02],\n",
      "        [-3.2432e-02],\n",
      "        [-5.2906e-03],\n",
      "        [ 1.7121e-02],\n",
      "        [ 1.2972e-02],\n",
      "        [-3.0194e-02],\n",
      "        [ 8.8211e-02],\n",
      "        [-4.1884e-02],\n",
      "        [-6.1697e-02],\n",
      "        [ 2.2711e-02],\n",
      "        [-2.4247e-02],\n",
      "        [ 4.3173e-02],\n",
      "        [ 4.9925e-02],\n",
      "        [-2.1651e-02],\n",
      "        [ 5.5064e-03],\n",
      "        [ 7.7935e-04],\n",
      "        [ 5.6458e-02],\n",
      "        [-2.6711e-02],\n",
      "        [-5.1711e-03],\n",
      "        [-3.1476e-02],\n",
      "        [ 3.8715e-02],\n",
      "        [-1.3808e-02],\n",
      "        [-4.2842e-02],\n",
      "        [ 3.3010e-03],\n",
      "        [-3.2744e-02],\n",
      "        [ 3.2334e-02],\n",
      "        [ 1.4875e-02],\n",
      "        [-3.2910e-02],\n",
      "        [-3.2133e-03],\n",
      "        [-1.0875e-02],\n",
      "        [ 2.8547e-03],\n",
      "        [ 1.0509e-02],\n",
      "        [ 1.8000e-02],\n",
      "        [-3.5202e-03],\n",
      "        [-6.4225e-03],\n",
      "        [ 3.1943e-02],\n",
      "        [-6.9960e-03],\n",
      "        [-5.1525e-02],\n",
      "        [ 2.8522e-04],\n",
      "        [ 2.5776e-02],\n",
      "        [ 3.9601e-02],\n",
      "        [ 4.5290e-02],\n",
      "        [ 3.6751e-02],\n",
      "        [ 1.3780e-02],\n",
      "        [ 2.8144e-03],\n",
      "        [-1.3625e-03],\n",
      "        [-8.0791e-02],\n",
      "        [ 3.6436e-02],\n",
      "        [ 8.1949e-02],\n",
      "        [-4.4601e-02],\n",
      "        [ 3.6784e-02],\n",
      "        [-1.0673e-02],\n",
      "        [-3.9238e-02],\n",
      "        [ 9.5087e-03],\n",
      "        [-5.5515e-03],\n",
      "        [ 4.9644e-02],\n",
      "        [-8.8155e-02],\n",
      "        [-6.5790e-02],\n",
      "        [-3.4057e-02],\n",
      "        [ 3.9716e-02],\n",
      "        [-3.0096e-02],\n",
      "        [-6.6086e-03],\n",
      "        [ 1.6842e-04],\n",
      "        [ 4.9951e-02],\n",
      "        [ 5.6946e-02],\n",
      "        [ 9.8328e-02],\n",
      "        [ 1.3068e-02],\n",
      "        [ 4.0109e-03],\n",
      "        [-2.3982e-02],\n",
      "        [-3.6167e-02],\n",
      "        [-3.4852e-03],\n",
      "        [-1.6547e-02],\n",
      "        [ 1.1615e-03],\n",
      "        [ 4.0263e-03],\n",
      "        [ 2.4936e-02],\n",
      "        [ 3.8710e-02],\n",
      "        [-3.4656e-02],\n",
      "        [ 1.9703e-02],\n",
      "        [-1.7487e-02],\n",
      "        [ 3.8307e-03],\n",
      "        [-2.2973e-02],\n",
      "        [ 2.4325e-03],\n",
      "        [-3.6057e-02],\n",
      "        [ 5.1969e-03],\n",
      "        [ 1.4316e-02],\n",
      "        [-4.3025e-02],\n",
      "        [-2.6729e-02],\n",
      "        [-2.4050e-01],\n",
      "        [-7.1271e-03],\n",
      "        [-9.5527e-03],\n",
      "        [ 1.2087e-02],\n",
      "        [ 9.3419e-03],\n",
      "        [ 4.1434e-02],\n",
      "        [ 2.7388e-03],\n",
      "        [-3.5471e-02],\n",
      "        [ 4.7270e-02],\n",
      "        [ 5.3672e-03],\n",
      "        [-6.0395e-02],\n",
      "        [-6.0995e-02],\n",
      "        [ 1.6209e-02],\n",
      "        [ 1.5658e-01],\n",
      "        [-7.2240e-02],\n",
      "        [-2.8554e-04],\n",
      "        [ 8.6262e-02],\n",
      "        [-2.8853e-02],\n",
      "        [-2.5059e-03],\n",
      "        [-5.9052e-02],\n",
      "        [ 9.8964e-03],\n",
      "        [ 6.1833e-03],\n",
      "        [ 3.3475e-03],\n",
      "        [-2.3378e-03],\n",
      "        [-2.1582e-02],\n",
      "        [-6.4397e-02],\n",
      "        [-4.8684e-02],\n",
      "        [ 1.6229e-01]], device='cuda:0')\n"
     ]
    },
    {
     "data": {
      "text/plain": [
       "[None, None]"
      ]
     },
     "execution_count": 20,
     "metadata": {},
     "output_type": "execute_result"
    }
   ],
   "source": [
    "[print(p.grad) for p in layer.parameters() if p.requires_grad]"
   ]
  },
  {
   "cell_type": "code",
   "execution_count": 21,
   "id": "6788f022-cd13-4f45-a5dd-b12d0e617299",
   "metadata": {},
   "outputs": [
    {
     "data": {
      "text/plain": [
       "(array([ 1.,  1.,  1.,  3.,  2.,  6.,  3.,  9.,  4.,  5.,  7.,  5.,  6.,\n",
       "         9., 18.,  8.,  7.,  5.,  2.,  5.,  1.,  2.,  1.,  0.,  1.,  0.,\n",
       "         3.,  3.,  0.,  0.,  1.,  0.,  1.,  1.,  1.,  2.,  2.,  1.,  0.,\n",
       "         1.]),\n",
       " array([-0.20171779, -0.18025231, -0.15878683, -0.13732135, -0.11585587,\n",
       "        -0.09439038, -0.0729249 , -0.05145942, -0.02999394, -0.00852846,\n",
       "         0.01293702,  0.0344025 ,  0.05586799,  0.07733347,  0.09879895,\n",
       "         0.12026443,  0.14172992,  0.1631954 ,  0.18466088,  0.20612636,\n",
       "         0.22759184,  0.24905732,  0.2705228 ,  0.29198828,  0.31345376,\n",
       "         0.33491924,  0.35638472,  0.3778502 ,  0.39931569,  0.42078117,\n",
       "         0.44224668,  0.46371216,  0.48517764,  0.50664312,  0.5281086 ,\n",
       "         0.54957408,  0.57103956,  0.59250504,  0.61397052,  0.635436  ,\n",
       "         0.65690148]),\n",
       " <BarContainer object of 40 artists>)"
      ]
     },
     "execution_count": 21,
     "metadata": {},
     "output_type": "execute_result"
    },
    {
     "data": {
      "image/png": "[encoded data removed]",
      "text/plain": [
       "<Figure size 640x480 with 1 Axes>"
      ]
     },
     "metadata": {},
     "output_type": "display_data"
    }
   ],
   "source": [
    "named_params = [p for p in layer.named_parameters()]\n",
    "lowbands = named_params[0][1].detach().cpu().numpy()\n",
    "plt.hist(lowbands.flatten(), bins=40)"
   ]
  },
  {
   "cell_type": "code",
   "execution_count": 22,
   "id": "1073cf42-5fe4-4f9e-932e-5de92681168a",
   "metadata": {},
   "outputs": [
    {
     "data": {
      "text/plain": [
       "(array([ 1.,  0.,  0.,  0.,  0.,  0.,  0.,  0.,  0.,  0.,  1.,  2.,  3.,\n",
       "         1.,  2., 12.,  6., 15., 15., 13., 17., 15., 10.,  3.,  7.,  2.,\n",
       "         1.,  0.,  0.,  0.,  0.,  0.,  0.,  0.,  0.,  1.,  0.,  0.,  0.,\n",
       "         1.]),\n",
       " array([-0.30007669, -0.28526238, -0.27044809, -0.25563377, -0.24081948,\n",
       "        -0.22600518, -0.21119088, -0.19637658, -0.18156227, -0.16674797,\n",
       "        -0.15193367, -0.13711935, -0.12230506, -0.10749076, -0.09267645,\n",
       "        -0.07786214, -0.06304784, -0.04823354, -0.03341924, -0.01860493,\n",
       "        -0.00379063,  0.01102367,  0.02583797,  0.04065228,  0.05546658,\n",
       "         0.07028088,  0.08509519,  0.09990949,  0.11472379,  0.12953809,\n",
       "         0.14435241,  0.15916671,  0.17398101,  0.18879531,  0.20360962,\n",
       "         0.21842392,  0.23323822,  0.24805252,  0.26286682,  0.27768111,\n",
       "         0.29249543]),\n",
       " <BarContainer object of 40 artists>)"
      ]
     },
     "execution_count": 22,
     "metadata": {},
     "output_type": "execute_result"
    },
    {
     "data": {
      "image/png": "[encoded data removed]",
      "text/plain": [
       "<Figure size 640x480 with 1 Axes>"
      ]
     },
     "metadata": {},
     "output_type": "display_data"
    }
   ],
   "source": [
    "lowbands = named_params[0][1].grad.detach().cpu().numpy()\n",
    "plt.hist(lowbands.flatten(), bins=40)"
   ]
  },
  {
   "cell_type": "code",
   "execution_count": 23,
   "id": "5f3993de-2edc-4ab0-a69f-24713f78c328",
   "metadata": {},
   "outputs": [
    {
     "data": {
      "text/plain": [
       "(array([ 1.,  0.,  0.,  0.,  3.,  4.,  1.,  3.,  2.,  8.,  2.,  4.,  3.,\n",
       "         4.,  5., 11.,  6.,  2.,  5.,  1.,  2.,  0.,  2.,  1.,  7.,  7.,\n",
       "         8.,  9.,  6.,  5.,  3.,  1.,  3.,  0.,  2.,  2.,  3.,  0.,  0.,\n",
       "         2.]),\n",
       " array([-0.21713081, -0.20683476, -0.19653872, -0.18624267, -0.17594662,\n",
       "        -0.16565058, -0.15535451, -0.14505847, -0.13476242, -0.12446637,\n",
       "        -0.11417033, -0.10387428, -0.09357823, -0.08328218, -0.07298613,\n",
       "        -0.06269009, -0.05239404, -0.04209799, -0.03180194, -0.02150589,\n",
       "        -0.01120985, -0.0009138 ,  0.00938225,  0.0196783 ,  0.02997435,\n",
       "         0.0402704 ,  0.05056644,  0.06086249,  0.07115854,  0.08145459,\n",
       "         0.09175064,  0.10204668,  0.11234273,  0.12263878,  0.13293482,\n",
       "         0.14323089,  0.15352693,  0.16382298,  0.17411903,  0.18441507,\n",
       "         0.19471112]),\n",
       " <BarContainer object of 40 artists>)"
      ]
     },
     "execution_count": 23,
     "metadata": {},
     "output_type": "execute_result"
    },
    {
     "data": {
      "image/png": "[encoded data removed]",
      "text/plain": [
       "<Figure size 640x480 with 1 Axes>"
      ]
     },
     "metadata": {},
     "output_type": "display_data"
    }
   ],
   "source": [
    "bandwidths = named_params[1][1].detach().cpu().numpy()\n",
    "plt.hist(bandwidths.flatten(), bins=40)"
   ]
  },
  {
   "cell_type": "code",
   "execution_count": 24,
   "id": "5fb6f8c4-8f7a-41db-92b3-78b197570d8c",
   "metadata": {},
   "outputs": [
    {
     "data": {
      "text/plain": [
       "(array([ 1.,  0.,  0.,  0.,  0.,  0.,  0.,  0.,  0.,  0.,  0.,  0.,  0.,\n",
       "         0.,  0.,  2.,  1.,  5.,  2.,  6., 12.,  8.,  8., 22., 19., 11.,\n",
       "         3., 12.,  7.,  2.,  1.,  0.,  3.,  1.,  0.,  0.,  0.,  0.,  0.,\n",
       "         2.]),\n",
       " array([-0.24049541, -0.23042567, -0.22035593, -0.21028619, -0.20021644,\n",
       "        -0.19014668, -0.18007694, -0.1700072 , -0.15993746, -0.14986771,\n",
       "        -0.13979797, -0.12972823, -0.11965848, -0.10958873, -0.09951898,\n",
       "        -0.08944924, -0.0793795 , -0.06930976, -0.05924001, -0.04917026,\n",
       "        -0.03910052, -0.02903078, -0.01896103, -0.00889129,  0.00117846,\n",
       "         0.0112482 ,  0.02131795,  0.03138769,  0.04145744,  0.05152718,\n",
       "         0.06159693,  0.07166667,  0.08173642,  0.09180616,  0.1018759 ,\n",
       "         0.11194565,  0.12201539,  0.13208514,  0.14215489,  0.15222463,\n",
       "         0.16229437]),\n",
       " <BarContainer object of 40 artists>)"
      ]
     },
     "execution_count": 24,
     "metadata": {},
     "output_type": "execute_result"
    },
    {
     "data": {
      "image/png": "[encoded data removed]",
      "text/plain": [
       "<Figure size 640x480 with 1 Axes>"
      ]
     },
     "metadata": {},
     "output_type": "display_data"
    }
   ],
   "source": [
    "bandwidths = named_params[1][1].grad.detach().cpu().numpy()\n",
    "plt.hist(bandwidths.flatten(), bins=40)"
   ]
  },
  {
   "cell_type": "code",
   "execution_count": 27,
   "id": "1c79b397-7d57-4cff-bd5c-50115bb9afd1",
   "metadata": {},
   "outputs": [
    {
     "data": {
      "image/png": "[encoded data removed]",
      "text/plain": [
       "<Figure size 1200x600 with 2 Axes>"
      ]
     },
     "metadata": {},
     "output_type": "display_data"
    }
   ],
   "source": [
    "filtviz = visualize_model.FilterVisualizer(\n",
    "    lowcut_bands = layer.lowcut_bands, \n",
    "    bandwidths = layer.bandwidths,\n",
    "    window_params = None, \n",
    "    window_length = 64,\n",
    "    sample_rate = sr\n",
    ")\n",
    "filtviz.visualize_bands()"
   ]
  },
  {
   "cell_type": "code",
   "execution_count": 28,
   "id": "cf266f2d-87a7-422f-bf28-23534f41b4a8",
   "metadata": {
    "scrolled": true
   },
   "outputs": [
    {
     "name": "stdout",
     "output_type": "stream",
     "text": [
      "('lowcut_bands', Parameter containing:\n",
      "tensor([[ 0.0000,  0.0000,  0.0000,  ...,  0.0000,  0.0000,  0.0000],\n",
      "        [ 0.0212, -0.2065,  0.1420,  ...,  0.1608,  0.2251,  0.1839],\n",
      "        [ 0.1520, -0.1882,  0.2284,  ...,  0.2377, -0.0859,  0.0201],\n",
      "        ...,\n",
      "        [ 0.4683,  0.2689,  0.4730,  ...,  0.1648,  0.1561,  0.4594],\n",
      "        [ 0.4875,  0.1887,  0.2106,  ...,  0.3427,  0.3264,  0.2364],\n",
      "        [ 0.3576,  0.6140,  0.3535,  ...,  0.4236,  0.5007,  0.4877]],\n",
      "       device='cuda:0', requires_grad=True))\n",
      "('bandwidths', Parameter containing:\n",
      "tensor([[ 0.4120,  0.2048,  0.3295,  ...,  0.2653,  0.1730,  0.2150],\n",
      "        [ 0.0109,  0.1440, -0.1100,  ..., -0.1774,  0.0847, -0.1323],\n",
      "        [ 0.0496,  0.1623,  0.2235,  ...,  0.1003, -0.1660, -0.0485],\n",
      "        ...,\n",
      "        [-0.4359, -0.0771,  0.2497,  ...,  0.1140, -0.1471,  0.2933],\n",
      "        [ 0.4316,  0.1405,  0.0924,  ...,  0.1070,  0.1166, -0.1075],\n",
      "        [-0.0548,  0.1058,  0.2538,  ...,  0.3565,  0.2399, -0.3339]],\n",
      "       device='cuda:0', requires_grad=True))\n"
     ]
    }
   ],
   "source": [
    "layer2 = model.fe_blocks.blocks[1].block.layer\n",
    "visualize_model.print_parameters(layer2)"
   ]
  },
  {
   "cell_type": "code",
   "execution_count": 29,
   "id": "d50f5088-a516-4571-8b37-360cba4cb31e",
   "metadata": {},
   "outputs": [
    {
     "name": "stdout",
     "output_type": "stream",
     "text": [
      "downsample_factor: 8 => new_sample_rate: 2000\n"
     ]
    },
    {
     "data": {
      "image/png": "[encoded data removed]",
      "text/plain": [
       "<Figure size 1200x600 with 2 Axes>"
      ]
     },
     "metadata": {},
     "output_type": "display_data"
    }
   ],
   "source": [
    "downsample_factor = model.fe_blocks.blocks[0].stride\n",
    "new_sample_rate = sr // downsample_factor\n",
    "print(f'downsample_factor: {downsample_factor} => new_sample_rate: {new_sample_rate}')\n",
    "\n",
    "filtviz2 = visualize_model.FilterVisualizer(\n",
    "    lowcut_bands = layer2.lowcut_bands, \n",
    "    bandwidths = layer2.bandwidths,\n",
    "    window_params = None, \n",
    "    window_length = 64,\n",
    "    sample_rate = new_sample_rate\n",
    ")\n",
    "filtviz2.visualize_bands()"
   ]
  },
  {
   "cell_type": "code",
   "execution_count": 30,
   "id": "9b197c18-6705-44e7-8d70-47aacecb2bf8",
   "metadata": {
    "scrolled": true
   },
   "outputs": [
    {
     "name": "stderr",
     "output_type": "stream",
     "text": [
      "  0%|                                                                                                                      | 0.002061855670103093/50 [00:00<3:17:32, 237.06s/it]"
     ]
    },
    {
     "name": "stdout",
     "output_type": "stream",
     "text": [
      "Train Epoch: 11 [0/11481 (0%)]\tLoss: 0.037031\n",
      "Mem before-during-after: 20657664 4333061120 21483008\n"
     ]
    },
    {
     "name": "stderr",
     "output_type": "stream",
     "text": [
      "  0%|▏                                                                                                                      | 0.08453608247422686/50 [00:20<3:33:30, 256.65s/it]"
     ]
    },
    {
     "name": "stdout",
     "output_type": "stream",
     "text": [
      "Train Epoch: 11 [1280/11481 (11%)]\tLoss: 0.096893\n",
      "Mem before-during-after: 21483008 4332337152 21483008\n"
     ]
    },
    {
     "name": "stderr",
     "output_type": "stream",
     "text": [
      "  0%|▍                                                                                                                      | 0.16701030927835056/50 [00:41<3:32:18, 255.62s/it]"
     ]
    },
    {
     "name": "stdout",
     "output_type": "stream",
     "text": [
      "Train Epoch: 11 [2560/11481 (22%)]\tLoss: 0.438635\n",
      "Mem before-during-after: 21483008 4332337152 21483008\n"
     ]
    },
    {
     "name": "stderr",
     "output_type": "stream",
     "text": [
      "  0%|▌                                                                                                                      | 0.24948453608247398/50 [01:01<3:29:37, 252.82s/it]"
     ]
    },
    {
     "name": "stdout",
     "output_type": "stream",
     "text": [
      "Train Epoch: 11 [3840/11481 (34%)]\tLoss: 0.030565\n",
      "Mem before-during-after: 21483008 4332337152 21483008\n"
     ]
    },
    {
     "name": "stderr",
     "output_type": "stream",
     "text": [
      "  1%|▊                                                                                                                       | 0.3319587628865974/50 [01:22<3:29:32, 253.13s/it]"
     ]
    },
    {
     "name": "stdout",
     "output_type": "stream",
     "text": [
      "Train Epoch: 11 [5120/11481 (45%)]\tLoss: 0.735297\n",
      "Mem before-during-after: 21483008 4332337152 21483008\n"
     ]
    },
    {
     "name": "stderr",
     "output_type": "stream",
     "text": [
      "  1%|▉                                                                                                                      | 0.41443298969072084/50 [01:43<3:32:50, 257.55s/it]"
     ]
    },
    {
     "name": "stdout",
     "output_type": "stream",
     "text": [
      "Train Epoch: 11 [6400/11481 (56%)]\tLoss: 0.250217\n",
      "Mem before-during-after: 21483008 4332337152 21483008\n"
     ]
    },
    {
     "name": "stderr",
     "output_type": "stream",
     "text": [
      "  1%|█▏                                                                                                                     | 0.49690721649484426/50 [02:03<3:33:46, 259.10s/it]"
     ]
    },
    {
     "name": "stdout",
     "output_type": "stream",
     "text": [
      "Train Epoch: 11 [7680/11481 (67%)]\tLoss: 0.094701\n",
      "Mem before-during-after: 21483008 4332337152 21483008\n"
     ]
    },
    {
     "name": "stderr",
     "output_type": "stream",
     "text": [
      "  1%|█▍                                                                                                                      | 0.5793814432989677/50 [02:23<3:28:11, 252.76s/it]"
     ]
    },
    {
     "name": "stdout",
     "output_type": "stream",
     "text": [
      "Train Epoch: 11 [8960/11481 (78%)]\tLoss: 0.093689\n",
      "Mem before-during-after: 21483008 4332337152 21483008\n"
     ]
    },
    {
     "name": "stderr",
     "output_type": "stream",
     "text": [
      "  1%|█▌                                                                                                                      | 0.6618556701030911/50 [02:44<3:28:19, 253.35s/it]"
     ]
    },
    {
     "name": "stdout",
     "output_type": "stream",
     "text": [
      "Train Epoch: 11 [10240/11481 (89%)]\tLoss: 0.205038\n",
      "Mem before-during-after: 21483008 4332337152 21483008\n"
     ]
    },
    {
     "name": "stderr",
     "output_type": "stream",
     "text": [
      "  2%|██▍                                                                                                                     | 0.9999999999999971/50 [03:33<1:31:49, 112.45s/it]"
     ]
    },
    {
     "name": "stdout",
     "output_type": "stream",
     "text": [
      "\n",
      "Test Epoch: 11\tAccuracy: 3560/4064 (87%)\n",
      "\n"
     ]
    },
    {
     "name": "stderr",
     "output_type": "stream",
     "text": [
      "  2%|██▍                                                                                                                     | 1.0020618556701002/50 [03:33<2:03:27, 151.18s/it]"
     ]
    },
    {
     "name": "stdout",
     "output_type": "stream",
     "text": [
      "Train Epoch: 12 [0/11481 (0%)]\tLoss: 0.054293\n",
      "Mem before-during-after: 21596672 4334000128 21483008\n"
     ]
    },
    {
     "name": "stderr",
     "output_type": "stream",
     "text": [
      "  2%|██▌                                                                                                                     | 1.0845360824742236/50 [03:54<3:37:28, 266.75s/it]"
     ]
    },
    {
     "name": "stdout",
     "output_type": "stream",
     "text": [
      "Train Epoch: 12 [1280/11481 (11%)]\tLoss: 0.017028\n",
      "Mem before-during-after: 21483008 4332337152 21483008\n"
     ]
    },
    {
     "name": "stderr",
     "output_type": "stream",
     "text": [
      "  2%|██▊                                                                                                                      | 1.167010309278347/50 [04:14<3:27:26, 254.88s/it]"
     ]
    },
    {
     "name": "stdout",
     "output_type": "stream",
     "text": [
      "Train Epoch: 12 [2560/11481 (22%)]\tLoss: 0.285876\n",
      "Mem before-during-after: 21483008 4332337152 21483008\n"
     ]
    },
    {
     "name": "stderr",
     "output_type": "stream",
     "text": [
      "  2%|██▉                                                                                                                     | 1.2494845360824705/50 [04:35<3:28:27, 256.57s/it]"
     ]
    },
    {
     "name": "stdout",
     "output_type": "stream",
     "text": [
      "Train Epoch: 12 [3840/11481 (34%)]\tLoss: 0.004744\n",
      "Mem before-during-after: 21483008 4332337152 21483008\n"
     ]
    },
    {
     "name": "stderr",
     "output_type": "stream",
     "text": [
      "  3%|███▏                                                                                                                    | 1.3319587628865939/50 [04:55<3:26:13, 254.25s/it]"
     ]
    },
    {
     "name": "stdout",
     "output_type": "stream",
     "text": [
      "Train Epoch: 12 [5120/11481 (45%)]\tLoss: 0.692617\n",
      "Mem before-during-after: 21483008 4332337152 21483008\n"
     ]
    },
    {
     "name": "stderr",
     "output_type": "stream",
     "text": [
      "  3%|███▍                                                                                                                    | 1.4144329896907173/50 [05:16<3:22:29, 250.07s/it]"
     ]
    },
    {
     "name": "stdout",
     "output_type": "stream",
     "text": [
      "Train Epoch: 12 [6400/11481 (56%)]\tLoss: 0.201152\n",
      "Mem before-during-after: 21483008 4332337152 21483008\n"
     ]
    },
    {
     "name": "stderr",
     "output_type": "stream",
     "text": [
      "  3%|███▌                                                                                                                    | 1.4969072164948407/50 [05:36<3:23:37, 251.90s/it]"
     ]
    },
    {
     "name": "stdout",
     "output_type": "stream",
     "text": [
      "Train Epoch: 12 [7680/11481 (67%)]\tLoss: 0.074582\n",
      "Mem before-during-after: 21483008 4332337152 21483008\n"
     ]
    },
    {
     "name": "stderr",
     "output_type": "stream",
     "text": [
      "  3%|███▊                                                                                                                    | 1.5793814432989641/50 [05:57<3:21:11, 249.30s/it]"
     ]
    },
    {
     "name": "stdout",
     "output_type": "stream",
     "text": [
      "Train Epoch: 12 [8960/11481 (78%)]\tLoss: 0.087197\n",
      "Mem before-during-after: 21483008 4332337152 21483008\n"
     ]
    },
    {
     "name": "stderr",
     "output_type": "stream",
     "text": [
      "  3%|███▉                                                                                                                    | 1.6618556701030875/50 [06:16<3:18:56, 246.93s/it]"
     ]
    },
    {
     "name": "stdout",
     "output_type": "stream",
     "text": [
      "Train Epoch: 12 [10240/11481 (89%)]\tLoss: 0.493886\n",
      "Mem before-during-after: 21483008 4332337152 21483008\n"
     ]
    },
    {
     "name": "stderr",
     "output_type": "stream",
     "text": [
      "  4%|████▊                                                                                                                   | 1.9999999999999936/50 [07:05<1:29:12, 111.51s/it]"
     ]
    },
    {
     "name": "stdout",
     "output_type": "stream",
     "text": [
      "\n",
      "Test Epoch: 12\tAccuracy: 3580/4064 (87%)\n",
      "\n"
     ]
    },
    {
     "name": "stderr",
     "output_type": "stream",
     "text": [
      "  4%|████▊                                                                                                                    | 2.002061855670097/50 [07:05<1:59:17, 149.11s/it]"
     ]
    },
    {
     "name": "stdout",
     "output_type": "stream",
     "text": [
      "Train Epoch: 13 [0/11481 (0%)]\tLoss: 0.035424\n",
      "Mem before-during-after: 21596672 4334000128 21483008\n"
     ]
    },
    {
     "name": "stderr",
     "output_type": "stream",
     "text": [
      "  4%|█████                                                                                                                   | 2.0845360824742203/50 [07:25<3:21:05, 251.80s/it]"
     ]
    },
    {
     "name": "stdout",
     "output_type": "stream",
     "text": [
      "Train Epoch: 13 [1280/11481 (11%)]\tLoss: 0.030100\n",
      "Mem before-during-after: 21483008 4332337152 21483008\n"
     ]
    },
    {
     "name": "stderr",
     "output_type": "stream",
     "text": [
      "  4%|█████▏                                                                                                                  | 2.1670103092783437/50 [07:46<3:22:43, 254.30s/it]"
     ]
    },
    {
     "name": "stdout",
     "output_type": "stream",
     "text": [
      "Train Epoch: 13 [2560/11481 (22%)]\tLoss: 0.199875\n",
      "Mem before-during-after: 21483008 4332337152 21483008\n"
     ]
    },
    {
     "name": "stderr",
     "output_type": "stream",
     "text": [
      "  4%|█████▍                                                                                                                   | 2.249484536082467/50 [08:06<3:21:28, 253.16s/it]"
     ]
    },
    {
     "name": "stdout",
     "output_type": "stream",
     "text": [
      "Train Epoch: 13 [3840/11481 (34%)]\tLoss: 0.007856\n",
      "Mem before-during-after: 21483008 4332337152 21483008\n"
     ]
    },
    {
     "name": "stderr",
     "output_type": "stream",
     "text": [
      "  5%|█████▌                                                                                                                  | 2.3319587628865905/50 [08:27<3:27:19, 260.96s/it]"
     ]
    },
    {
     "name": "stdout",
     "output_type": "stream",
     "text": [
      "Train Epoch: 13 [5120/11481 (45%)]\tLoss: 0.812270\n",
      "Mem before-during-after: 21483008 4332337152 21483008\n"
     ]
    },
    {
     "name": "stderr",
     "output_type": "stream",
     "text": [
      "  5%|█████▊                                                                                                                   | 2.414432989690714/50 [08:47<3:22:11, 254.94s/it]"
     ]
    },
    {
     "name": "stdout",
     "output_type": "stream",
     "text": [
      "Train Epoch: 13 [6400/11481 (56%)]\tLoss: 0.172510\n",
      "Mem before-during-after: 21483008 4332337152 21483008\n"
     ]
    },
    {
     "name": "stderr",
     "output_type": "stream",
     "text": [
      "  5%|█████▉                                                                                                                  | 2.4969072164948374/50 [09:08<3:19:14, 251.66s/it]"
     ]
    },
    {
     "name": "stdout",
     "output_type": "stream",
     "text": [
      "Train Epoch: 13 [7680/11481 (67%)]\tLoss: 0.098996\n",
      "Mem before-during-after: 21483008 4332337152 21483008\n"
     ]
    },
    {
     "name": "stderr",
     "output_type": "stream",
     "text": [
      "  5%|██████▏                                                                                                                  | 2.579381443298961/50 [09:28<3:15:41, 247.60s/it]"
     ]
    },
    {
     "name": "stdout",
     "output_type": "stream",
     "text": [
      "Train Epoch: 13 [8960/11481 (78%)]\tLoss: 0.089928\n",
      "Mem before-during-after: 21483008 4332337152 21483008\n"
     ]
    },
    {
     "name": "stderr",
     "output_type": "stream",
     "text": [
      "  5%|██████▍                                                                                                                  | 2.661855670103084/50 [09:48<3:20:15, 253.82s/it]"
     ]
    },
    {
     "name": "stdout",
     "output_type": "stream",
     "text": [
      "Train Epoch: 13 [10240/11481 (89%)]\tLoss: 0.448549\n",
      "Mem before-during-after: 21483008 4332337152 21483008\n"
     ]
    },
    {
     "name": "stderr",
     "output_type": "stream",
     "text": [
      "  6%|███████▏                                                                                                                | 2.9999999999999902/50 [10:37<1:27:02, 111.11s/it]"
     ]
    },
    {
     "name": "stdout",
     "output_type": "stream",
     "text": [
      "\n",
      "Test Epoch: 13\tAccuracy: 3580/4064 (87%)\n",
      "\n"
     ]
    },
    {
     "name": "stderr",
     "output_type": "stream",
     "text": [
      "  6%|███████▏                                                                                                                | 3.0020618556700933/50 [10:37<1:56:58, 149.34s/it]"
     ]
    },
    {
     "name": "stdout",
     "output_type": "stream",
     "text": [
      "Train Epoch: 14 [0/11481 (0%)]\tLoss: 0.040248\n",
      "Mem before-during-after: 21596672 4334000128 21483008\n"
     ]
    },
    {
     "name": "stderr",
     "output_type": "stream",
     "text": [
      "  6%|███████▍                                                                                                                | 3.0845360824742167/50 [10:58<3:17:26, 252.51s/it]"
     ]
    },
    {
     "name": "stdout",
     "output_type": "stream",
     "text": [
      "Train Epoch: 14 [1280/11481 (11%)]\tLoss: 0.089087\n",
      "Mem before-during-after: 21483008 4332337152 21483008\n"
     ]
    },
    {
     "name": "stderr",
     "output_type": "stream",
     "text": [
      "  6%|███████▋                                                                                                                  | 3.16701030927834/50 [11:18<3:14:25, 249.09s/it]"
     ]
    },
    {
     "name": "stdout",
     "output_type": "stream",
     "text": [
      "Train Epoch: 14 [2560/11481 (22%)]\tLoss: 0.311855\n",
      "Mem before-during-after: 21483008 4332337152 21483008\n"
     ]
    },
    {
     "name": "stderr",
     "output_type": "stream",
     "text": [
      "  6%|███████▊                                                                                                                | 3.2494845360824636/50 [11:38<3:15:24, 250.79s/it]"
     ]
    },
    {
     "name": "stdout",
     "output_type": "stream",
     "text": [
      "Train Epoch: 14 [3840/11481 (34%)]\tLoss: 0.004908\n",
      "Mem before-during-after: 21483008 4332337152 21483008\n"
     ]
    },
    {
     "name": "stderr",
     "output_type": "stream",
     "text": [
      "  7%|████████                                                                                                                 | 3.331958762886587/50 [11:58<3:13:31, 248.80s/it]"
     ]
    },
    {
     "name": "stdout",
     "output_type": "stream",
     "text": [
      "Train Epoch: 14 [5120/11481 (45%)]\tLoss: 0.849340\n",
      "Mem before-during-after: 21483008 4332337152 21483008\n"
     ]
    },
    {
     "name": "stderr",
     "output_type": "stream",
     "text": [
      "  7%|████████▏                                                                                                               | 3.4144329896907104/50 [12:19<3:13:41, 249.47s/it]"
     ]
    },
    {
     "name": "stdout",
     "output_type": "stream",
     "text": [
      "Train Epoch: 14 [6400/11481 (56%)]\tLoss: 0.178647\n",
      "Mem before-during-after: 21483008 4332337152 21483008\n"
     ]
    },
    {
     "name": "stderr",
     "output_type": "stream",
     "text": [
      "  7%|████████▍                                                                                                                | 3.496907216494834/50 [12:39<3:15:02, 251.65s/it]"
     ]
    },
    {
     "name": "stdout",
     "output_type": "stream",
     "text": [
      "Train Epoch: 14 [7680/11481 (67%)]\tLoss: 0.084415\n",
      "Mem before-during-after: 21483008 4332337152 21483008\n"
     ]
    },
    {
     "name": "stderr",
     "output_type": "stream",
     "text": [
      "  7%|████████▌                                                                                                               | 3.5793814432989572/50 [12:59<3:11:38, 247.70s/it]"
     ]
    },
    {
     "name": "stdout",
     "output_type": "stream",
     "text": [
      "Train Epoch: 14 [8960/11481 (78%)]\tLoss: 0.094435\n",
      "Mem before-during-after: 21483008 4332337152 21483008\n"
     ]
    },
    {
     "name": "stderr",
     "output_type": "stream",
     "text": [
      "  7%|████████▊                                                                                                               | 3.6618556701030807/50 [13:19<3:13:07, 250.07s/it]"
     ]
    },
    {
     "name": "stdout",
     "output_type": "stream",
     "text": [
      "Train Epoch: 14 [10240/11481 (89%)]\tLoss: 0.408223\n",
      "Mem before-during-after: 21483008 4332337152 21483008\n"
     ]
    },
    {
     "name": "stderr",
     "output_type": "stream",
     "text": [
      "  8%|█████████▌                                                                                                              | 3.9999999999999867/50 [14:08<1:27:09, 113.68s/it]"
     ]
    },
    {
     "name": "stdout",
     "output_type": "stream",
     "text": [
      "\n",
      "Test Epoch: 14\tAccuracy: 3574/4064 (87%)\n",
      "\n"
     ]
    },
    {
     "name": "stderr",
     "output_type": "stream",
     "text": [
      "  8%|█████████▊                                                                                                                | 4.00206185567009/50 [14:08<1:55:36, 150.79s/it]"
     ]
    },
    {
     "name": "stdout",
     "output_type": "stream",
     "text": [
      "Train Epoch: 15 [0/11481 (0%)]\tLoss: 0.073131\n",
      "Mem before-during-after: 21596672 4334000128 21483008\n"
     ]
    },
    {
     "name": "stderr",
     "output_type": "stream",
     "text": [
      "  8%|█████████▉                                                                                                               | 4.084536082474213/50 [14:29<3:16:04, 256.23s/it]"
     ]
    },
    {
     "name": "stdout",
     "output_type": "stream",
     "text": [
      "Train Epoch: 15 [1280/11481 (11%)]\tLoss: 0.015276\n",
      "Mem before-during-after: 21483008 4332337152 21483008\n"
     ]
    },
    {
     "name": "stderr",
     "output_type": "stream",
     "text": [
      "  8%|██████████                                                                                                               | 4.167010309278337/50 [14:49<3:14:54, 255.16s/it]"
     ]
    },
    {
     "name": "stdout",
     "output_type": "stream",
     "text": [
      "Train Epoch: 15 [2560/11481 (22%)]\tLoss: 0.375426\n",
      "Mem before-during-after: 21483008 4332337152 21483008\n"
     ]
    },
    {
     "name": "stderr",
     "output_type": "stream",
     "text": [
      "  8%|██████████▎                                                                                                               | 4.24948453608246/50 [15:10<3:13:27, 253.71s/it]"
     ]
    },
    {
     "name": "stdout",
     "output_type": "stream",
     "text": [
      "Train Epoch: 15 [3840/11481 (34%)]\tLoss: 0.004467\n",
      "Mem before-during-after: 21483008 4332337152 21483008\n"
     ]
    },
    {
     "name": "stderr",
     "output_type": "stream",
     "text": [
      "  9%|██████████▍                                                                                                              | 4.331958762886583/50 [15:30<3:11:48, 252.00s/it]"
     ]
    },
    {
     "name": "stdout",
     "output_type": "stream",
     "text": [
      "Train Epoch: 15 [5120/11481 (45%)]\tLoss: 0.837265\n",
      "Mem before-during-after: 21483008 4332337152 21483008\n"
     ]
    },
    {
     "name": "stderr",
     "output_type": "stream",
     "text": [
      "  9%|██████████▋                                                                                                              | 4.414432989690707/50 [15:51<3:12:26, 253.29s/it]"
     ]
    },
    {
     "name": "stdout",
     "output_type": "stream",
     "text": [
      "Train Epoch: 15 [6400/11481 (56%)]\tLoss: 0.185020\n",
      "Mem before-during-after: 21483008 4332337152 21483008\n"
     ]
    },
    {
     "name": "stderr",
     "output_type": "stream",
     "text": [
      "  9%|██████████▉                                                                                                               | 4.49690721649483/50 [16:11<3:13:39, 255.35s/it]"
     ]
    },
    {
     "name": "stdout",
     "output_type": "stream",
     "text": [
      "Train Epoch: 15 [7680/11481 (67%)]\tLoss: 0.098444\n",
      "Mem before-during-after: 21483008 4332337152 21483008\n"
     ]
    },
    {
     "name": "stderr",
     "output_type": "stream",
     "text": [
      "  9%|███████████                                                                                                              | 4.579381443298954/50 [16:32<3:11:50, 253.42s/it]"
     ]
    },
    {
     "name": "stdout",
     "output_type": "stream",
     "text": [
      "Train Epoch: 15 [8960/11481 (78%)]\tLoss: 0.088382\n",
      "Mem before-during-after: 21483008 4332337152 21483008\n"
     ]
    },
    {
     "name": "stderr",
     "output_type": "stream",
     "text": [
      "  9%|███████████▎                                                                                                             | 4.661855670103077/50 [16:53<3:13:50, 256.54s/it]"
     ]
    },
    {
     "name": "stdout",
     "output_type": "stream",
     "text": [
      "Train Epoch: 15 [10240/11481 (89%)]\tLoss: 0.756241\n",
      "Mem before-during-after: 21483008 4332337152 21483008\n"
     ]
    },
    {
     "name": "stderr",
     "output_type": "stream",
     "text": [
      " 10%|████████████                                                                                                             | 4.999999999999983/50 [17:41<1:21:55, 109.23s/it]"
     ]
    },
    {
     "name": "stdout",
     "output_type": "stream",
     "text": [
      "\n",
      "Test Epoch: 15\tAccuracy: 3563/4064 (87%)\n",
      "\n"
     ]
    },
    {
     "name": "stderr",
     "output_type": "stream",
     "text": [
      " 10%|████████████                                                                                                             | 5.002061855670086/50 [17:41<1:51:53, 149.20s/it]"
     ]
    },
    {
     "name": "stdout",
     "output_type": "stream",
     "text": [
      "Train Epoch: 16 [0/11481 (0%)]\tLoss: 0.038432\n",
      "Mem before-during-after: 21596672 4334000128 21483008\n"
     ]
    },
    {
     "name": "stderr",
     "output_type": "stream",
     "text": [
      " 10%|████████████▍                                                                                                             | 5.08453608247421/50 [18:01<3:06:01, 248.49s/it]"
     ]
    },
    {
     "name": "stdout",
     "output_type": "stream",
     "text": [
      "Train Epoch: 16 [1280/11481 (11%)]\tLoss: 0.035013\n",
      "Mem before-during-after: 21483008 4332337152 21483008\n"
     ]
    },
    {
     "name": "stderr",
     "output_type": "stream",
     "text": [
      " 10%|████████████▌                                                                                                            | 5.167010309278333/50 [18:22<3:05:27, 248.19s/it]"
     ]
    },
    {
     "name": "stdout",
     "output_type": "stream",
     "text": [
      "Train Epoch: 16 [2560/11481 (22%)]\tLoss: 0.167058\n",
      "Mem before-during-after: 21483008 4332337152 21483008\n"
     ]
    },
    {
     "name": "stderr",
     "output_type": "stream",
     "text": [
      " 10%|████████████▌                                                                                                           | 5.2494845360824565/50 [18:42<3:07:07, 250.88s/it]"
     ]
    },
    {
     "name": "stdout",
     "output_type": "stream",
     "text": [
      "Train Epoch: 16 [3840/11481 (34%)]\tLoss: 0.005457\n",
      "Mem before-during-after: 21483008 4332337152 21483008\n"
     ]
    },
    {
     "name": "stderr",
     "output_type": "stream",
     "text": [
      " 11%|█████████████                                                                                                             | 5.33195876288658/50 [19:02<3:07:11, 251.44s/it]"
     ]
    },
    {
     "name": "stdout",
     "output_type": "stream",
     "text": [
      "Train Epoch: 16 [5120/11481 (45%)]\tLoss: 0.805120\n",
      "Mem before-during-after: 21483008 4332337152 21483008\n"
     ]
    },
    {
     "name": "stderr",
     "output_type": "stream",
     "text": [
      " 11%|█████████████                                                                                                            | 5.414432989690703/50 [19:22<3:07:09, 251.87s/it]"
     ]
    },
    {
     "name": "stdout",
     "output_type": "stream",
     "text": [
      "Train Epoch: 16 [6400/11481 (56%)]\tLoss: 0.187904\n",
      "Mem before-during-after: 21483008 4332337152 21483008\n"
     ]
    },
    {
     "name": "stderr",
     "output_type": "stream",
     "text": [
      " 11%|█████████████▎                                                                                                           | 5.496907216494827/50 [19:43<3:06:54, 252.00s/it]"
     ]
    },
    {
     "name": "stdout",
     "output_type": "stream",
     "text": [
      "Train Epoch: 16 [7680/11481 (67%)]\tLoss: 0.122649\n",
      "Mem before-during-after: 21483008 4332337152 21483008\n"
     ]
    },
    {
     "name": "stderr",
     "output_type": "stream",
     "text": [
      " 11%|█████████████▌                                                                                                            | 5.57938144329895/50 [20:03<3:04:09, 248.75s/it]"
     ]
    },
    {
     "name": "stdout",
     "output_type": "stream",
     "text": [
      "Train Epoch: 16 [8960/11481 (78%)]\tLoss: 0.083121\n",
      "Mem before-during-after: 21483008 4332337152 21483008\n"
     ]
    },
    {
     "name": "stderr",
     "output_type": "stream",
     "text": [
      " 11%|█████████████▋                                                                                                           | 5.661855670103074/50 [20:23<3:05:44, 251.36s/it]"
     ]
    },
    {
     "name": "stdout",
     "output_type": "stream",
     "text": [
      "Train Epoch: 16 [10240/11481 (89%)]\tLoss: 0.644543\n",
      "Mem before-during-after: 21483008 4332337152 21483008\n"
     ]
    },
    {
     "name": "stderr",
     "output_type": "stream",
     "text": [
      " 12%|██████████████▋                                                                                                           | 5.99999999999998/50 [21:11<1:22:52, 113.02s/it]"
     ]
    },
    {
     "name": "stdout",
     "output_type": "stream",
     "text": [
      "\n",
      "Test Epoch: 16\tAccuracy: 3550/4064 (87%)\n",
      "\n"
     ]
    },
    {
     "name": "stderr",
     "output_type": "stream",
     "text": [
      " 12%|██████████████▌                                                                                                          | 6.002061855670083/50 [21:12<1:49:33, 149.39s/it]"
     ]
    },
    {
     "name": "stdout",
     "output_type": "stream",
     "text": [
      "Train Epoch: 17 [0/11481 (0%)]\tLoss: 0.052308\n",
      "Mem before-during-after: 21596672 4334000128 21483008\n"
     ]
    },
    {
     "name": "stderr",
     "output_type": "stream",
     "text": [
      " 12%|██████████████▋                                                                                                          | 6.084536082474206/50 [21:32<3:04:32, 252.12s/it]"
     ]
    },
    {
     "name": "stdout",
     "output_type": "stream",
     "text": [
      "Train Epoch: 17 [1280/11481 (11%)]\tLoss: 0.150426\n",
      "Mem before-during-after: 21483008 4332337152 21483008\n"
     ]
    },
    {
     "name": "stderr",
     "output_type": "stream",
     "text": [
      " 12%|██████████████▊                                                                                                         | 6.1670103092783295/50 [21:53<3:05:15, 253.58s/it]"
     ]
    },
    {
     "name": "stdout",
     "output_type": "stream",
     "text": [
      "Train Epoch: 17 [2560/11481 (22%)]\tLoss: 0.196108\n",
      "Mem before-during-after: 21483008 4332337152 21483008\n"
     ]
    },
    {
     "name": "stderr",
     "output_type": "stream",
     "text": [
      " 12%|███████████████                                                                                                          | 6.249484536082453/50 [22:14<3:14:00, 266.08s/it]"
     ]
    },
    {
     "name": "stdout",
     "output_type": "stream",
     "text": [
      "Train Epoch: 17 [3840/11481 (34%)]\tLoss: 0.005206\n",
      "Mem before-during-after: 21483008 4332337152 21483008\n"
     ]
    },
    {
     "name": "stderr",
     "output_type": "stream",
     "text": [
      " 13%|███████████████▎                                                                                                         | 6.331958762886576/50 [22:34<3:04:29, 253.48s/it]"
     ]
    },
    {
     "name": "stdout",
     "output_type": "stream",
     "text": [
      "Train Epoch: 17 [5120/11481 (45%)]\tLoss: 0.814012\n",
      "Mem before-during-after: 21483008 4332337152 21483008\n"
     ]
    },
    {
     "name": "stderr",
     "output_type": "stream",
     "text": [
      " 13%|███████████████▊                                                                                                           | 6.4144329896907/50 [22:54<3:02:27, 251.16s/it]"
     ]
    },
    {
     "name": "stdout",
     "output_type": "stream",
     "text": [
      "Train Epoch: 17 [6400/11481 (56%)]\tLoss: 0.238394\n",
      "Mem before-during-after: 21483008 4332337152 21483008\n"
     ]
    },
    {
     "name": "stderr",
     "output_type": "stream",
     "text": [
      " 13%|███████████████▋                                                                                                         | 6.496907216494823/50 [23:15<3:04:18, 254.20s/it]"
     ]
    },
    {
     "name": "stdout",
     "output_type": "stream",
     "text": [
      "Train Epoch: 17 [7680/11481 (67%)]\tLoss: 0.089573\n",
      "Mem before-during-after: 21483008 4332337152 21483008\n"
     ]
    },
    {
     "name": "stderr",
     "output_type": "stream",
     "text": [
      " 13%|███████████████▉                                                                                                         | 6.579381443298947/50 [23:35<3:01:20, 250.59s/it]"
     ]
    },
    {
     "name": "stdout",
     "output_type": "stream",
     "text": [
      "Train Epoch: 17 [8960/11481 (78%)]\tLoss: 0.103607\n",
      "Mem before-during-after: 21483008 4332337152 21483008\n"
     ]
    },
    {
     "name": "stderr",
     "output_type": "stream",
     "text": [
      " 13%|████████████████▎                                                                                                         | 6.66185567010307/50 [23:55<3:00:29, 249.89s/it]"
     ]
    },
    {
     "name": "stdout",
     "output_type": "stream",
     "text": [
      "Train Epoch: 17 [10240/11481 (89%)]\tLoss: 0.677990\n",
      "Mem before-during-after: 21483008 4332337152 21483008\n"
     ]
    },
    {
     "name": "stderr",
     "output_type": "stream",
     "text": [
      " 14%|████████████████▉                                                                                                        | 6.999999999999976/50 [24:43<1:18:43, 109.86s/it]"
     ]
    },
    {
     "name": "stdout",
     "output_type": "stream",
     "text": [
      "\n",
      "Test Epoch: 17\tAccuracy: 3538/4064 (86%)\n",
      "\n"
     ]
    },
    {
     "name": "stderr",
     "output_type": "stream",
     "text": [
      " 14%|████████████████▉                                                                                                        | 7.002061855670079/50 [24:43<1:45:46, 147.60s/it]"
     ]
    },
    {
     "name": "stdout",
     "output_type": "stream",
     "text": [
      "Train Epoch: 18 [0/11481 (0%)]\tLoss: 0.102512\n",
      "Mem before-during-after: 21596672 4334000128 21483008\n"
     ]
    },
    {
     "name": "stderr",
     "output_type": "stream",
     "text": [
      " 14%|█████████████████                                                                                                       | 7.0845360824742025/50 [25:04<2:59:33, 251.03s/it]"
     ]
    },
    {
     "name": "stdout",
     "output_type": "stream",
     "text": [
      "Train Epoch: 18 [1280/11481 (11%)]\tLoss: 0.070359\n",
      "Mem before-during-after: 21483008 4332337152 21483008\n"
     ]
    },
    {
     "name": "stderr",
     "output_type": "stream",
     "text": [
      " 14%|█████████████████▎                                                                                                       | 7.167010309278326/50 [25:24<2:58:40, 250.29s/it]"
     ]
    },
    {
     "name": "stdout",
     "output_type": "stream",
     "text": [
      "Train Epoch: 18 [2560/11481 (22%)]\tLoss: 0.199785\n",
      "Mem before-during-after: 21483008 4332337152 21483008\n"
     ]
    },
    {
     "name": "stderr",
     "output_type": "stream",
     "text": [
      " 14%|█████████████████▌                                                                                                       | 7.249484536082449/50 [25:44<2:57:15, 248.79s/it]"
     ]
    },
    {
     "name": "stdout",
     "output_type": "stream",
     "text": [
      "Train Epoch: 18 [3840/11481 (34%)]\tLoss: 0.007419\n",
      "Mem before-during-after: 21483008 4332337152 21483008\n"
     ]
    },
    {
     "name": "stderr",
     "output_type": "stream",
     "text": [
      " 15%|█████████████████▋                                                                                                       | 7.331958762886573/50 [26:05<2:57:44, 249.94s/it]"
     ]
    },
    {
     "name": "stdout",
     "output_type": "stream",
     "text": [
      "Train Epoch: 18 [5120/11481 (45%)]\tLoss: 0.863784\n",
      "Mem before-during-after: 21483008 4332337152 21483008\n"
     ]
    },
    {
     "name": "stderr",
     "output_type": "stream",
     "text": [
      " 15%|█████████████████▉                                                                                                       | 7.414432989690696/50 [26:25<3:09:06, 266.45s/it]"
     ]
    },
    {
     "name": "stdout",
     "output_type": "stream",
     "text": [
      "Train Epoch: 18 [6400/11481 (56%)]\tLoss: 0.163511\n",
      "Mem before-during-after: 21483008 4332337152 21483008\n"
     ]
    },
    {
     "name": "stderr",
     "output_type": "stream",
     "text": [
      " 15%|██████████████████▎                                                                                                       | 7.49690721649482/50 [26:45<2:56:45, 249.51s/it]"
     ]
    },
    {
     "name": "stdout",
     "output_type": "stream",
     "text": [
      "Train Epoch: 18 [7680/11481 (67%)]\tLoss: 0.106601\n",
      "Mem before-during-after: 21483008 4332337152 21483008\n"
     ]
    },
    {
     "name": "stderr",
     "output_type": "stream",
     "text": [
      " 15%|██████████████████▎                                                                                                      | 7.579381443298943/50 [27:05<2:56:12, 249.24s/it]"
     ]
    },
    {
     "name": "stdout",
     "output_type": "stream",
     "text": [
      "Train Epoch: 18 [8960/11481 (78%)]\tLoss: 0.081721\n",
      "Mem before-during-after: 21483008 4332337152 21483008\n"
     ]
    },
    {
     "name": "stderr",
     "output_type": "stream",
     "text": [
      " 15%|██████████████████▍                                                                                                     | 7.6618556701030665/50 [27:26<2:53:32, 245.93s/it]"
     ]
    },
    {
     "name": "stdout",
     "output_type": "stream",
     "text": [
      "Train Epoch: 18 [10240/11481 (89%)]\tLoss: 0.282498\n",
      "Mem before-during-after: 21483008 4332337152 21483008\n"
     ]
    },
    {
     "name": "stderr",
     "output_type": "stream",
     "text": [
      " 16%|███████████████████▏                                                                                                    | 7.9999999999999725/50 [28:14<1:23:57, 119.94s/it]"
     ]
    },
    {
     "name": "stdout",
     "output_type": "stream",
     "text": [
      "\n",
      "Test Epoch: 18\tAccuracy: 3561/4064 (87%)\n",
      "\n"
     ]
    },
    {
     "name": "stderr",
     "output_type": "stream",
     "text": [
      " 16%|███████████████████▎                                                                                                     | 8.002061855670076/50 [28:14<1:49:51, 156.95s/it]"
     ]
    },
    {
     "name": "stdout",
     "output_type": "stream",
     "text": [
      "Train Epoch: 19 [0/11481 (0%)]\tLoss: 0.018868\n",
      "Mem before-during-after: 21596672 4334000128 21483008\n"
     ]
    },
    {
     "name": "stderr",
     "output_type": "stream",
     "text": [
      " 16%|███████████████████▉                                                                                                       | 8.0845360824742/50 [28:35<2:55:35, 251.34s/it]"
     ]
    },
    {
     "name": "stdout",
     "output_type": "stream",
     "text": [
      "Train Epoch: 19 [1280/11481 (11%)]\tLoss: 0.063385\n",
      "Mem before-during-after: 21483008 4332337152 21483008\n"
     ]
    },
    {
     "name": "stderr",
     "output_type": "stream",
     "text": [
      " 16%|███████████████████▊                                                                                                     | 8.167010309278323/50 [28:55<2:57:39, 254.81s/it]"
     ]
    },
    {
     "name": "stdout",
     "output_type": "stream",
     "text": [
      "Train Epoch: 19 [2560/11481 (22%)]\tLoss: 0.157796\n",
      "Mem before-during-after: 21483008 4332337152 21483008\n"
     ]
    },
    {
     "name": "stderr",
     "output_type": "stream",
     "text": [
      " 16%|███████████████████▉                                                                                                     | 8.249484536082447/50 [29:16<2:58:57, 257.17s/it]"
     ]
    },
    {
     "name": "stdout",
     "output_type": "stream",
     "text": [
      "Train Epoch: 19 [3840/11481 (34%)]\tLoss: 0.008408\n",
      "Mem before-during-after: 21483008 4332337152 21483008\n"
     ]
    },
    {
     "name": "stderr",
     "output_type": "stream",
     "text": [
      " 17%|████████████████████▎                                                                                                     | 8.33195876288657/50 [29:37<2:56:29, 254.13s/it]"
     ]
    },
    {
     "name": "stdout",
     "output_type": "stream",
     "text": [
      "Train Epoch: 19 [5120/11481 (45%)]\tLoss: 0.916085\n",
      "Mem before-during-after: 21483008 4332337152 21483008\n"
     ]
    },
    {
     "name": "stderr",
     "output_type": "stream",
     "text": [
      " 17%|████████████████████▎                                                                                                    | 8.414432989690694/50 [29:58<2:55:55, 253.81s/it]"
     ]
    },
    {
     "name": "stdout",
     "output_type": "stream",
     "text": [
      "Train Epoch: 19 [6400/11481 (56%)]\tLoss: 0.219158\n",
      "Mem before-during-after: 21483008 4332337152 21483008\n"
     ]
    },
    {
     "name": "stderr",
     "output_type": "stream",
     "text": [
      " 17%|████████████████████▌                                                                                                    | 8.496907216494817/50 [30:18<2:56:49, 255.63s/it]"
     ]
    },
    {
     "name": "stdout",
     "output_type": "stream",
     "text": [
      "Train Epoch: 19 [7680/11481 (67%)]\tLoss: 0.092289\n",
      "Mem before-during-after: 21483008 4332337152 21483008\n"
     ]
    },
    {
     "name": "stderr",
     "output_type": "stream",
     "text": [
      " 17%|████████████████████▉                                                                                                     | 8.57938144329894/50 [30:39<2:57:15, 256.76s/it]"
     ]
    },
    {
     "name": "stdout",
     "output_type": "stream",
     "text": [
      "Train Epoch: 19 [8960/11481 (78%)]\tLoss: 0.075188\n",
      "Mem before-during-after: 21483008 4332337152 21483008\n"
     ]
    },
    {
     "name": "stderr",
     "output_type": "stream",
     "text": [
      " 17%|████████████████████▉                                                                                                    | 8.661855670103064/50 [31:00<2:57:22, 257.46s/it]"
     ]
    },
    {
     "name": "stdout",
     "output_type": "stream",
     "text": [
      "Train Epoch: 19 [10240/11481 (89%)]\tLoss: 1.024253\n",
      "Mem before-during-after: 21483008 4332337152 21483008\n"
     ]
    },
    {
     "name": "stderr",
     "output_type": "stream",
     "text": [
      " 18%|█████████████████████▉                                                                                                    | 8.99999999999997/50 [31:49<1:17:26, 113.33s/it]"
     ]
    },
    {
     "name": "stdout",
     "output_type": "stream",
     "text": [
      "\n",
      "Test Epoch: 19\tAccuracy: 3557/4064 (87%)\n",
      "\n"
     ]
    },
    {
     "name": "stderr",
     "output_type": "stream",
     "text": [
      " 18%|█████████████████████▊                                                                                                   | 9.002061855670073/50 [31:49<1:46:21, 155.64s/it]"
     ]
    },
    {
     "name": "stdout",
     "output_type": "stream",
     "text": [
      "Train Epoch: 20 [0/11481 (0%)]\tLoss: 0.041981\n",
      "Mem before-during-after: 21596672 4334000128 21483008\n"
     ]
    },
    {
     "name": "stderr",
     "output_type": "stream",
     "text": [
      " 18%|█████████████████████▉                                                                                                   | 9.084536082474196/50 [32:10<2:51:31, 251.54s/it]"
     ]
    },
    {
     "name": "stdout",
     "output_type": "stream",
     "text": [
      "Train Epoch: 20 [1280/11481 (11%)]\tLoss: 0.141832\n",
      "Mem before-during-after: 21483008 4332337152 21483008\n"
     ]
    },
    {
     "name": "stderr",
     "output_type": "stream",
     "text": [
      " 18%|██████████████████████▎                                                                                                   | 9.16701030927832/50 [32:30<2:49:53, 249.63s/it]"
     ]
    },
    {
     "name": "stdout",
     "output_type": "stream",
     "text": [
      "Train Epoch: 20 [2560/11481 (22%)]\tLoss: 0.192657\n",
      "Mem before-during-after: 21483008 4332337152 21483008\n"
     ]
    },
    {
     "name": "stderr",
     "output_type": "stream",
     "text": [
      " 18%|██████████████████████▍                                                                                                  | 9.249484536082443/50 [32:51<2:51:50, 253.02s/it]"
     ]
    },
    {
     "name": "stdout",
     "output_type": "stream",
     "text": [
      "Train Epoch: 20 [3840/11481 (34%)]\tLoss: 0.010378\n",
      "Mem before-during-after: 21483008 4332337152 21483008\n"
     ]
    },
    {
     "name": "stderr",
     "output_type": "stream",
     "text": [
      " 19%|██████████████████████▌                                                                                                  | 9.331958762886567/50 [33:11<2:50:55, 252.18s/it]"
     ]
    },
    {
     "name": "stdout",
     "output_type": "stream",
     "text": [
      "Train Epoch: 20 [5120/11481 (45%)]\tLoss: 0.897745\n",
      "Mem before-during-after: 21483008 4332337152 21483008\n"
     ]
    },
    {
     "name": "stderr",
     "output_type": "stream",
     "text": [
      " 19%|██████████████████████▉                                                                                                   | 9.41443298969069/50 [33:31<2:48:22, 248.93s/it]"
     ]
    },
    {
     "name": "stdout",
     "output_type": "stream",
     "text": [
      "Train Epoch: 20 [6400/11481 (56%)]\tLoss: 0.236596\n",
      "Mem before-during-after: 21483008 4332337152 21483008\n"
     ]
    },
    {
     "name": "stderr",
     "output_type": "stream",
     "text": [
      " 19%|██████████████████████▉                                                                                                  | 9.496907216494813/50 [33:52<2:51:23, 253.90s/it]"
     ]
    },
    {
     "name": "stdout",
     "output_type": "stream",
     "text": [
      "Train Epoch: 20 [7680/11481 (67%)]\tLoss: 0.086129\n",
      "Mem before-during-after: 21483008 4332337152 21483008\n"
     ]
    },
    {
     "name": "stderr",
     "output_type": "stream",
     "text": [
      " 19%|███████████████████████▏                                                                                                 | 9.579381443298937/50 [34:12<2:47:24, 248.50s/it]"
     ]
    },
    {
     "name": "stdout",
     "output_type": "stream",
     "text": [
      "Train Epoch: 20 [8960/11481 (78%)]\tLoss: 0.075695\n",
      "Mem before-during-after: 21483008 4332337152 21483008\n"
     ]
    },
    {
     "name": "stderr",
     "output_type": "stream",
     "text": [
      " 19%|███████████████████████▌                                                                                                  | 9.66185567010306/50 [34:32<2:48:12, 250.19s/it]"
     ]
    },
    {
     "name": "stdout",
     "output_type": "stream",
     "text": [
      "Train Epoch: 20 [10240/11481 (89%)]\tLoss: 0.976042\n",
      "Mem before-during-after: 21483008 4332337152 21483008\n"
     ]
    },
    {
     "name": "stderr",
     "output_type": "stream",
     "text": [
      " 20%|████████████████████████▏                                                                                                | 9.999999999999966/50 [35:21<1:16:29, 114.74s/it]"
     ]
    },
    {
     "name": "stdout",
     "output_type": "stream",
     "text": [
      "\n",
      "Test Epoch: 20\tAccuracy: 3550/4064 (87%)\n",
      "\n"
     ]
    },
    {
     "name": "stderr",
     "output_type": "stream",
     "text": [
      " 20%|████████████████████████▏                                                                                                | 10.00206185567007/50 [35:21<1:44:33, 156.85s/it]"
     ]
    },
    {
     "name": "stdout",
     "output_type": "stream",
     "text": [
      "Train Epoch: 21 [0/11481 (0%)]\tLoss: 0.039986\n",
      "Mem before-during-after: 21596672 4334000128 21483008\n"
     ]
    },
    {
     "name": "stderr",
     "output_type": "stream",
     "text": [
      " 20%|████████████████████████▏                                                                                               | 10.084536082474193/50 [35:42<2:56:02, 264.63s/it]"
     ]
    },
    {
     "name": "stdout",
     "output_type": "stream",
     "text": [
      "Train Epoch: 21 [1280/11481 (11%)]\tLoss: 0.030917\n",
      "Mem before-during-after: 21483008 4332337152 21483008\n"
     ]
    },
    {
     "name": "stderr",
     "output_type": "stream",
     "text": [
      " 20%|████████████████████████▍                                                                                               | 10.167010309278316/50 [36:03<2:47:04, 251.67s/it]"
     ]
    },
    {
     "name": "stdout",
     "output_type": "stream",
     "text": [
      "Train Epoch: 21 [2560/11481 (22%)]\tLoss: 0.158761\n",
      "Mem before-during-after: 21483008 4332337152 21483008\n"
     ]
    },
    {
     "name": "stderr",
     "output_type": "stream",
     "text": [
      " 20%|████████████████████████▊                                                                                                | 10.24948453608244/50 [36:23<2:47:16, 252.49s/it]"
     ]
    },
    {
     "name": "stdout",
     "output_type": "stream",
     "text": [
      "Train Epoch: 21 [3840/11481 (34%)]\tLoss: 0.010905\n",
      "Mem before-during-after: 21483008 4332337152 21483008\n"
     ]
    },
    {
     "name": "stderr",
     "output_type": "stream",
     "text": [
      " 21%|████████████████████████▊                                                                                               | 10.331958762886563/50 [36:44<2:46:57, 252.53s/it]"
     ]
    },
    {
     "name": "stdout",
     "output_type": "stream",
     "text": [
      "Train Epoch: 21 [5120/11481 (45%)]\tLoss: 0.941380\n",
      "Mem before-during-after: 21483008 4332337152 21483008\n"
     ]
    },
    {
     "name": "stderr",
     "output_type": "stream",
     "text": [
      " 21%|████████████████████████▉                                                                                               | 10.414432989690686/50 [37:05<3:17:38, 299.57s/it]"
     ]
    },
    {
     "name": "stdout",
     "output_type": "stream",
     "text": [
      "Train Epoch: 21 [6400/11481 (56%)]\tLoss: 0.203788\n",
      "Mem before-during-after: 21483008 4332337152 21483008\n"
     ]
    },
    {
     "name": "stderr",
     "output_type": "stream",
     "text": [
      " 21%|█████████████████████████▍                                                                                               | 10.49690721649481/50 [37:25<2:45:18, 251.08s/it]"
     ]
    },
    {
     "name": "stdout",
     "output_type": "stream",
     "text": [
      "Train Epoch: 21 [7680/11481 (67%)]\tLoss: 0.145877\n",
      "Mem before-during-after: 21483008 4332337152 21483008\n"
     ]
    },
    {
     "name": "stderr",
     "output_type": "stream",
     "text": [
      " 21%|█████████████████████████▍                                                                                              | 10.579381443298933/50 [37:45<2:46:55, 254.08s/it]"
     ]
    },
    {
     "name": "stdout",
     "output_type": "stream",
     "text": [
      "Train Epoch: 21 [8960/11481 (78%)]\tLoss: 0.090644\n",
      "Mem before-during-after: 21483008 4332337152 21483008\n"
     ]
    },
    {
     "name": "stderr",
     "output_type": "stream",
     "text": [
      " 21%|█████████████████████████▌                                                                                              | 10.661855670103057/50 [38:06<2:46:41, 254.25s/it]"
     ]
    },
    {
     "name": "stdout",
     "output_type": "stream",
     "text": [
      "Train Epoch: 21 [10240/11481 (89%)]\tLoss: 0.362371\n",
      "Mem before-during-after: 21483008 4332337152 21483008\n"
     ]
    },
    {
     "name": "stderr",
     "output_type": "stream",
     "text": [
      " 22%|██████████████████████████▍                                                                                             | 10.999999999999963/50 [38:55<1:13:22, 112.89s/it]"
     ]
    },
    {
     "name": "stdout",
     "output_type": "stream",
     "text": [
      "\n",
      "Test Epoch: 21\tAccuracy: 3543/4064 (87%)\n",
      "\n"
     ]
    },
    {
     "name": "stderr",
     "output_type": "stream",
     "text": [
      " 22%|██████████████████████████▍                                                                                             | 11.002061855670066/50 [38:55<1:38:58, 152.27s/it]"
     ]
    },
    {
     "name": "stdout",
     "output_type": "stream",
     "text": [
      "Train Epoch: 22 [0/11481 (0%)]\tLoss: 0.073388\n",
      "Mem before-during-after: 21596672 4334000128 21483008\n"
     ]
    },
    {
     "name": "stderr",
     "output_type": "stream",
     "text": [
      " 22%|██████████████████████████▊                                                                                              | 11.08453608247419/50 [39:16<2:43:30, 252.10s/it]"
     ]
    },
    {
     "name": "stdout",
     "output_type": "stream",
     "text": [
      "Train Epoch: 22 [1280/11481 (11%)]\tLoss: 0.091980\n",
      "Mem before-during-after: 21483008 4332337152 21483008\n"
     ]
    },
    {
     "name": "stderr",
     "output_type": "stream",
     "text": [
      " 22%|██████████████████████████▊                                                                                             | 11.167010309278313/50 [39:36<2:43:37, 252.80s/it]"
     ]
    },
    {
     "name": "stdout",
     "output_type": "stream",
     "text": [
      "Train Epoch: 22 [2560/11481 (22%)]\tLoss: 0.195859\n",
      "Mem before-during-after: 21483008 4332337152 21483008\n"
     ]
    },
    {
     "name": "stderr",
     "output_type": "stream",
     "text": [
      " 22%|██████████████████████████▉                                                                                             | 11.249484536082436/50 [39:56<2:41:34, 250.19s/it]"
     ]
    },
    {
     "name": "stdout",
     "output_type": "stream",
     "text": [
      "Train Epoch: 22 [3840/11481 (34%)]\tLoss: 0.008262\n",
      "Mem before-during-after: 21483008 4332337152 21483008\n"
     ]
    },
    {
     "name": "stderr",
     "output_type": "stream",
     "text": [
      " 23%|███████████████████████████▍                                                                                             | 11.33195876288656/50 [40:17<2:41:53, 251.21s/it]"
     ]
    },
    {
     "name": "stdout",
     "output_type": "stream",
     "text": [
      "Train Epoch: 22 [5120/11481 (45%)]\tLoss: 0.865080\n",
      "Mem before-during-after: 21483008 4332337152 21483008\n"
     ]
    },
    {
     "name": "stderr",
     "output_type": "stream",
     "text": [
      " 23%|███████████████████████████▍                                                                                            | 11.414432989690683/50 [40:37<2:40:34, 249.70s/it]"
     ]
    },
    {
     "name": "stdout",
     "output_type": "stream",
     "text": [
      "Train Epoch: 22 [6400/11481 (56%)]\tLoss: 0.239790\n",
      "Mem before-during-after: 21483008 4332337152 21483008\n"
     ]
    },
    {
     "name": "stderr",
     "output_type": "stream",
     "text": [
      " 23%|███████████████████████████▌                                                                                            | 11.496907216494806/50 [40:59<2:50:32, 265.75s/it]"
     ]
    },
    {
     "name": "stdout",
     "output_type": "stream",
     "text": [
      "Train Epoch: 22 [7680/11481 (67%)]\tLoss: 0.078207\n",
      "Mem before-during-after: 21483008 4332337152 21483008\n"
     ]
    },
    {
     "name": "stderr",
     "output_type": "stream",
     "text": [
      " 23%|████████████████████████████                                                                                             | 11.57938144329893/50 [41:20<2:50:21, 266.05s/it]"
     ]
    },
    {
     "name": "stdout",
     "output_type": "stream",
     "text": [
      "Train Epoch: 22 [8960/11481 (78%)]\tLoss: 0.083910\n",
      "Mem before-during-after: 21483008 4332337152 21483008\n"
     ]
    },
    {
     "name": "stderr",
     "output_type": "stream",
     "text": [
      " 23%|███████████████████████████▉                                                                                            | 11.661855670103053/50 [41:42<2:50:06, 266.21s/it]"
     ]
    },
    {
     "name": "stdout",
     "output_type": "stream",
     "text": [
      "Train Epoch: 22 [10240/11481 (89%)]\tLoss: 0.255468\n",
      "Mem before-during-after: 21483008 4332337152 21483008\n"
     ]
    },
    {
     "name": "stderr",
     "output_type": "stream",
     "text": [
      " 24%|█████████████████████████████                                                                                            | 11.99999999999996/50 [42:35<1:21:55, 129.37s/it]"
     ]
    },
    {
     "name": "stdout",
     "output_type": "stream",
     "text": [
      "\n",
      "Test Epoch: 22\tAccuracy: 3579/4064 (87%)\n",
      "\n"
     ]
    },
    {
     "name": "stderr",
     "output_type": "stream",
     "text": [
      " 24%|████████████████████████████▊                                                                                           | 12.002061855670062/50 [42:36<1:46:39, 168.42s/it]"
     ]
    },
    {
     "name": "stdout",
     "output_type": "stream",
     "text": [
      "Train Epoch: 23 [0/11481 (0%)]\tLoss: 0.050548\n",
      "Mem before-during-after: 21596672 4334000128 21483008\n"
     ]
    },
    {
     "name": "stderr",
     "output_type": "stream",
     "text": [
      " 24%|█████████████████████████████                                                                                           | 12.084536082474186/50 [42:57<2:44:54, 260.95s/it]"
     ]
    },
    {
     "name": "stdout",
     "output_type": "stream",
     "text": [
      "Train Epoch: 23 [1280/11481 (11%)]\tLoss: 0.040375\n",
      "Mem before-during-after: 21483008 4332337152 21483008\n"
     ]
    },
    {
     "name": "stderr",
     "output_type": "stream",
     "text": [
      " 24%|█████████████████████████████▏                                                                                          | 12.167010309278309/50 [43:18<2:45:28, 262.43s/it]"
     ]
    },
    {
     "name": "stdout",
     "output_type": "stream",
     "text": [
      "Train Epoch: 23 [2560/11481 (22%)]\tLoss: 0.325364\n",
      "Mem before-during-after: 21483008 4332337152 21483008\n"
     ]
    },
    {
     "name": "stderr",
     "output_type": "stream",
     "text": [
      " 24%|█████████████████████████████▍                                                                                          | 12.249484536082432/50 [43:39<2:46:34, 264.76s/it]"
     ]
    },
    {
     "name": "stdout",
     "output_type": "stream",
     "text": [
      "Train Epoch: 23 [3840/11481 (34%)]\tLoss: 0.008385\n",
      "Mem before-during-after: 21483008 4332337152 21483008\n"
     ]
    },
    {
     "name": "stderr",
     "output_type": "stream",
     "text": [
      " 25%|█████████████████████████████▌                                                                                          | 12.331958762886556/50 [44:01<2:47:32, 266.87s/it]"
     ]
    },
    {
     "name": "stdout",
     "output_type": "stream",
     "text": [
      "Train Epoch: 23 [5120/11481 (45%)]\tLoss: 0.734361\n",
      "Mem before-during-after: 21483008 4332337152 21483008\n"
     ]
    },
    {
     "name": "stderr",
     "output_type": "stream",
     "text": [
      " 25%|██████████████████████████████                                                                                           | 12.41443298969068/50 [44:22<2:43:21, 260.79s/it]"
     ]
    },
    {
     "name": "stdout",
     "output_type": "stream",
     "text": [
      "Train Epoch: 23 [6400/11481 (56%)]\tLoss: 0.231319\n",
      "Mem before-during-after: 21483008 4332337152 21483008\n"
     ]
    },
    {
     "name": "stderr",
     "output_type": "stream",
     "text": [
      " 25%|█████████████████████████████▉                                                                                          | 12.496907216494803/50 [44:43<2:44:44, 263.56s/it]"
     ]
    },
    {
     "name": "stdout",
     "output_type": "stream",
     "text": [
      "Train Epoch: 23 [7680/11481 (67%)]\tLoss: 0.078194\n",
      "Mem before-during-after: 21483008 4332337152 21483008\n"
     ]
    },
    {
     "name": "stderr",
     "output_type": "stream",
     "text": [
      " 25%|██████████████████████████████▏                                                                                         | 12.579381443298926/50 [45:05<2:43:05, 261.49s/it]"
     ]
    },
    {
     "name": "stdout",
     "output_type": "stream",
     "text": [
      "Train Epoch: 23 [8960/11481 (78%)]\tLoss: 0.075685\n",
      "Mem before-during-after: 21483008 4332337152 21483008\n"
     ]
    },
    {
     "name": "stderr",
     "output_type": "stream",
     "text": [
      " 25%|██████████████████████████████▋                                                                                          | 12.66185567010305/50 [45:26<2:42:13, 260.67s/it]"
     ]
    },
    {
     "name": "stdout",
     "output_type": "stream",
     "text": [
      "Train Epoch: 23 [10240/11481 (89%)]\tLoss: 0.535543\n",
      "Mem before-during-after: 21483008 4332337152 21483008\n"
     ]
    },
    {
     "name": "stderr",
     "output_type": "stream",
     "text": [
      " 26%|███████████████████████████████▏                                                                                        | 12.999999999999956/50 [46:19<1:18:27, 127.22s/it]"
     ]
    },
    {
     "name": "stdout",
     "output_type": "stream",
     "text": [
      "\n",
      "Test Epoch: 23\tAccuracy: 3542/4064 (87%)\n",
      "\n"
     ]
    },
    {
     "name": "stderr",
     "output_type": "stream",
     "text": [
      " 26%|███████████████████████████████▏                                                                                        | 13.002061855670059/50 [46:19<1:43:30, 167.86s/it]"
     ]
    },
    {
     "name": "stdout",
     "output_type": "stream",
     "text": [
      "Train Epoch: 24 [0/11481 (0%)]\tLoss: 0.061375\n",
      "Mem before-during-after: 21596672 4334000128 21483008\n"
     ]
    },
    {
     "name": "stderr",
     "output_type": "stream",
     "text": [
      " 26%|███████████████████████████████▍                                                                                        | 13.084536082474182/50 [46:40<2:40:18, 260.55s/it]"
     ]
    },
    {
     "name": "stdout",
     "output_type": "stream",
     "text": [
      "Train Epoch: 24 [1280/11481 (11%)]\tLoss: 0.095156\n",
      "Mem before-during-after: 21483008 4332337152 21483008\n"
     ]
    },
    {
     "name": "stderr",
     "output_type": "stream",
     "text": [
      " 26%|███████████████████████████████▌                                                                                        | 13.167010309278306/50 [47:02<2:41:22, 262.87s/it]"
     ]
    },
    {
     "name": "stdout",
     "output_type": "stream",
     "text": [
      "Train Epoch: 24 [2560/11481 (22%)]\tLoss: 0.178381\n",
      "Mem before-during-after: 21483008 4332337152 21483008\n"
     ]
    },
    {
     "name": "stderr",
     "output_type": "stream",
     "text": [
      " 26%|███████████████████████████████▊                                                                                        | 13.249484536082429/50 [47:23<2:41:45, 264.09s/it]"
     ]
    },
    {
     "name": "stdout",
     "output_type": "stream",
     "text": [
      "Train Epoch: 24 [3840/11481 (34%)]\tLoss: 0.006498\n",
      "Mem before-during-after: 21483008 4332337152 21483008\n"
     ]
    },
    {
     "name": "stderr",
     "output_type": "stream",
     "text": [
      " 27%|███████████████████████████████▉                                                                                        | 13.331958762886552/50 [47:44<2:45:04, 270.11s/it]"
     ]
    },
    {
     "name": "stdout",
     "output_type": "stream",
     "text": [
      "Train Epoch: 24 [5120/11481 (45%)]\tLoss: 0.785511\n",
      "Mem before-during-after: 21483008 4332337152 21483008\n"
     ]
    },
    {
     "name": "stderr",
     "output_type": "stream",
     "text": [
      " 27%|████████████████████████████████▏                                                                                       | 13.414432989690676/50 [48:05<2:39:49, 262.11s/it]"
     ]
    },
    {
     "name": "stdout",
     "output_type": "stream",
     "text": [
      "Train Epoch: 24 [6400/11481 (56%)]\tLoss: 0.289369\n",
      "Mem before-during-after: 21483008 4332337152 21483008\n"
     ]
    },
    {
     "name": "stderr",
     "output_type": "stream",
     "text": [
      " 27%|████████████████████████████████▉                                                                                         | 13.4969072164948/50 [48:26<2:37:57, 259.62s/it]"
     ]
    },
    {
     "name": "stdout",
     "output_type": "stream",
     "text": [
      "Train Epoch: 24 [7680/11481 (67%)]\tLoss: 0.131717\n",
      "Mem before-during-after: 21483008 4332337152 21483008\n"
     ]
    },
    {
     "name": "stderr",
     "output_type": "stream",
     "text": [
      " 27%|████████████████████████████████▌                                                                                       | 13.579381443298923/50 [48:48<2:39:12, 262.29s/it]"
     ]
    },
    {
     "name": "stdout",
     "output_type": "stream",
     "text": [
      "Train Epoch: 24 [8960/11481 (78%)]\tLoss: 0.095484\n",
      "Mem before-during-after: 21483008 4332337152 21483008\n"
     ]
    },
    {
     "name": "stderr",
     "output_type": "stream",
     "text": [
      " 27%|████████████████████████████████▊                                                                                       | 13.661855670103046/50 [49:09<2:39:21, 263.13s/it]"
     ]
    },
    {
     "name": "stdout",
     "output_type": "stream",
     "text": [
      "Train Epoch: 24 [10240/11481 (89%)]\tLoss: 0.494087\n",
      "Mem before-during-after: 21483008 4332337152 21483008\n"
     ]
    },
    {
     "name": "stderr",
     "output_type": "stream",
     "text": [
      " 28%|█████████████████████████████████▌                                                                                      | 13.999999999999952/50 [50:02<1:16:39, 127.76s/it]"
     ]
    },
    {
     "name": "stdout",
     "output_type": "stream",
     "text": [
      "\n",
      "Test Epoch: 24\tAccuracy: 3571/4064 (87%)\n",
      "\n"
     ]
    },
    {
     "name": "stderr",
     "output_type": "stream",
     "text": [
      " 28%|█████████████████████████████████▌                                                                                      | 14.002061855670055/50 [50:03<1:41:44, 169.58s/it]"
     ]
    },
    {
     "name": "stdout",
     "output_type": "stream",
     "text": [
      "Train Epoch: 25 [0/11481 (0%)]\tLoss: 0.047083\n",
      "Mem before-during-after: 21596672 4334000128 21483008\n"
     ]
    },
    {
     "name": "stderr",
     "output_type": "stream",
     "text": [
      " 28%|█████████████████████████████████▊                                                                                      | 14.084536082474179/50 [50:24<2:35:14, 259.34s/it]"
     ]
    },
    {
     "name": "stdout",
     "output_type": "stream",
     "text": [
      "Train Epoch: 25 [1280/11481 (11%)]\tLoss: 0.044416\n",
      "Mem before-during-after: 21483008 4332337152 21483008\n"
     ]
    },
    {
     "name": "stderr",
     "output_type": "stream",
     "text": [
      " 28%|██████████████████████████████████                                                                                      | 14.167010309278302/50 [50:45<2:36:45, 262.49s/it]"
     ]
    },
    {
     "name": "stdout",
     "output_type": "stream",
     "text": [
      "Train Epoch: 25 [2560/11481 (22%)]\tLoss: 0.303855\n",
      "Mem before-during-after: 21483008 4332337152 21483008\n"
     ]
    },
    {
     "name": "stderr",
     "output_type": "stream",
     "text": [
      " 28%|██████████████████████████████████▏                                                                                     | 14.249484536082425/50 [51:06<2:35:14, 260.53s/it]"
     ]
    },
    {
     "name": "stdout",
     "output_type": "stream",
     "text": [
      "Train Epoch: 25 [3840/11481 (34%)]\tLoss: 0.006984\n",
      "Mem before-during-after: 21483008 4332337152 21483008\n"
     ]
    },
    {
     "name": "stderr",
     "output_type": "stream",
     "text": [
      " 29%|██████████████████████████████████▍                                                                                     | 14.331958762886549/50 [51:27<2:34:45, 260.34s/it]"
     ]
    },
    {
     "name": "stdout",
     "output_type": "stream",
     "text": [
      "Train Epoch: 25 [5120/11481 (45%)]\tLoss: 0.847082\n",
      "Mem before-during-after: 21483008 4332337152 21483008\n"
     ]
    },
    {
     "name": "stderr",
     "output_type": "stream",
     "text": [
      " 29%|██████████████████████████████████▌                                                                                     | 14.414432989690672/50 [51:49<2:34:52, 261.14s/it]"
     ]
    },
    {
     "name": "stdout",
     "output_type": "stream",
     "text": [
      "Train Epoch: 25 [6400/11481 (56%)]\tLoss: 0.171914\n",
      "Mem before-during-after: 21483008 4332337152 21483008\n"
     ]
    },
    {
     "name": "stderr",
     "output_type": "stream",
     "text": [
      " 29%|██████████████████████████████████▊                                                                                     | 14.496907216494796/50 [52:10<2:34:18, 260.77s/it]"
     ]
    },
    {
     "name": "stdout",
     "output_type": "stream",
     "text": [
      "Train Epoch: 25 [7680/11481 (67%)]\tLoss: 0.099873\n",
      "Mem before-during-after: 21483008 4332337152 21483008\n"
     ]
    },
    {
     "name": "stderr",
     "output_type": "stream",
     "text": [
      " 29%|██████████████████████████████████▉                                                                                     | 14.579381443298919/50 [52:31<2:34:12, 261.22s/it]"
     ]
    },
    {
     "name": "stdout",
     "output_type": "stream",
     "text": [
      "Train Epoch: 25 [8960/11481 (78%)]\tLoss: 0.083753\n",
      "Mem before-during-after: 21483008 4332337152 21483008\n"
     ]
    },
    {
     "name": "stderr",
     "output_type": "stream",
     "text": [
      " 29%|███████████████████████████████████▏                                                                                    | 14.661855670103042/50 [52:52<2:32:53, 259.59s/it]"
     ]
    },
    {
     "name": "stdout",
     "output_type": "stream",
     "text": [
      "Train Epoch: 25 [10240/11481 (89%)]\tLoss: 0.847721\n",
      "Mem before-during-after: 21483008 4332337152 21483008\n"
     ]
    },
    {
     "name": "stderr",
     "output_type": "stream",
     "text": [
      " 30%|███████████████████████████████████▉                                                                                    | 14.999999999999948/50 [53:45<1:16:40, 131.46s/it]"
     ]
    },
    {
     "name": "stdout",
     "output_type": "stream",
     "text": [
      "\n",
      "Test Epoch: 25\tAccuracy: 3550/4064 (87%)\n",
      "\n"
     ]
    },
    {
     "name": "stderr",
     "output_type": "stream",
     "text": [
      " 30%|████████████████████████████████████                                                                                    | 15.002061855670052/50 [53:45<1:39:08, 169.97s/it]"
     ]
    },
    {
     "name": "stdout",
     "output_type": "stream",
     "text": [
      "Train Epoch: 26 [0/11481 (0%)]\tLoss: 0.043215\n",
      "Mem before-during-after: 21596672 4334000128 21483008\n"
     ]
    },
    {
     "name": "stderr",
     "output_type": "stream",
     "text": [
      " 30%|████████████████████████████████████▏                                                                                   | 15.084536082474175/50 [54:07<2:32:09, 261.48s/it]"
     ]
    },
    {
     "name": "stdout",
     "output_type": "stream",
     "text": [
      "Train Epoch: 26 [1280/11481 (11%)]\tLoss: 0.130217\n",
      "Mem before-during-after: 21483008 4332337152 21483008\n"
     ]
    },
    {
     "name": "stderr",
     "output_type": "stream",
     "text": [
      " 30%|████████████████████████████████████▍                                                                                   | 15.167010309278298/50 [54:28<2:31:00, 260.11s/it]"
     ]
    },
    {
     "name": "stdout",
     "output_type": "stream",
     "text": [
      "Train Epoch: 26 [2560/11481 (22%)]\tLoss: 0.227423\n",
      "Mem before-during-after: 21483008 4332337152 21483008\n"
     ]
    },
    {
     "name": "stderr",
     "output_type": "stream",
     "text": [
      " 30%|████████████████████████████████████▌                                                                                   | 15.249484536082422/50 [54:49<2:42:18, 280.25s/it]"
     ]
    },
    {
     "name": "stdout",
     "output_type": "stream",
     "text": [
      "Train Epoch: 26 [3840/11481 (34%)]\tLoss: 0.007179\n",
      "Mem before-during-after: 21483008 4332337152 21483008\n"
     ]
    },
    {
     "name": "stderr",
     "output_type": "stream",
     "text": [
      " 31%|████████████████████████████████████▊                                                                                   | 15.331958762886545/50 [55:10<2:30:54, 261.18s/it]"
     ]
    },
    {
     "name": "stdout",
     "output_type": "stream",
     "text": [
      "Train Epoch: 26 [5120/11481 (45%)]\tLoss: 0.754619\n",
      "Mem before-during-after: 21483008 4332337152 21483008\n"
     ]
    },
    {
     "name": "stderr",
     "output_type": "stream",
     "text": [
      " 31%|████████████████████████████████████▉                                                                                   | 15.414432989690669/50 [55:31<2:31:18, 262.48s/it]"
     ]
    },
    {
     "name": "stdout",
     "output_type": "stream",
     "text": [
      "Train Epoch: 26 [6400/11481 (56%)]\tLoss: 0.193987\n",
      "Mem before-during-after: 21483008 4332337152 21483008\n"
     ]
    },
    {
     "name": "stderr",
     "output_type": "stream",
     "text": [
      " 31%|█████████████████████████████████████▏                                                                                  | 15.496907216494792/50 [55:53<2:31:36, 263.66s/it]"
     ]
    },
    {
     "name": "stdout",
     "output_type": "stream",
     "text": [
      "Train Epoch: 26 [7680/11481 (67%)]\tLoss: 0.131986\n",
      "Mem before-during-after: 21483008 4332337152 21483008\n"
     ]
    },
    {
     "name": "stderr",
     "output_type": "stream",
     "text": [
      " 31%|█████████████████████████████████████▍                                                                                  | 15.579381443298915/50 [56:14<2:30:35, 262.52s/it]"
     ]
    },
    {
     "name": "stdout",
     "output_type": "stream",
     "text": [
      "Train Epoch: 26 [8960/11481 (78%)]\tLoss: 0.077799\n",
      "Mem before-during-after: 21483008 4332337152 21483008\n"
     ]
    },
    {
     "name": "stderr",
     "output_type": "stream",
     "text": [
      " 31%|█████████████████████████████████████▌                                                                                  | 15.661855670103039/50 [56:35<2:28:45, 259.93s/it]"
     ]
    },
    {
     "name": "stdout",
     "output_type": "stream",
     "text": [
      "Train Epoch: 26 [10240/11481 (89%)]\tLoss: 0.454294\n",
      "Mem before-during-after: 21483008 4332337152 21483008\n"
     ]
    },
    {
     "name": "stderr",
     "output_type": "stream",
     "text": [
      " 32%|██████████████████████████████████████▍                                                                                 | 15.999999999999945/50 [57:28<1:10:52, 125.08s/it]"
     ]
    },
    {
     "name": "stdout",
     "output_type": "stream",
     "text": [
      "\n",
      "Test Epoch: 26\tAccuracy: 3552/4064 (87%)\n",
      "\n"
     ]
    },
    {
     "name": "stderr",
     "output_type": "stream",
     "text": [
      " 32%|██████████████████████████████████████▋                                                                                  | 16.00206185567005/50 [57:28<1:33:31, 165.04s/it]"
     ]
    },
    {
     "name": "stdout",
     "output_type": "stream",
     "text": [
      "Train Epoch: 27 [0/11481 (0%)]\tLoss: 0.040000\n",
      "Mem before-during-after: 21596672 4334000128 21483008\n"
     ]
    },
    {
     "name": "stderr",
     "output_type": "stream",
     "text": [
      " 32%|██████████████████████████████████████▌                                                                                 | 16.084536082474173/50 [57:50<2:32:07, 269.12s/it]"
     ]
    },
    {
     "name": "stdout",
     "output_type": "stream",
     "text": [
      "Train Epoch: 27 [1280/11481 (11%)]\tLoss: 0.029235\n",
      "Mem before-during-after: 21483008 4332337152 21483008\n"
     ]
    },
    {
     "name": "stderr",
     "output_type": "stream",
     "text": [
      " 32%|██████████████████████████████████████▊                                                                                 | 16.167010309278297/50 [58:11<2:27:56, 262.36s/it]"
     ]
    },
    {
     "name": "stdout",
     "output_type": "stream",
     "text": [
      "Train Epoch: 27 [2560/11481 (22%)]\tLoss: 0.266759\n",
      "Mem before-during-after: 21483008 4332337152 21483008\n"
     ]
    },
    {
     "name": "stderr",
     "output_type": "stream",
     "text": [
      " 32%|███████████████████████████████████████▎                                                                                 | 16.24948453608242/50 [58:33<2:28:50, 264.59s/it]"
     ]
    },
    {
     "name": "stdout",
     "output_type": "stream",
     "text": [
      "Train Epoch: 27 [3840/11481 (34%)]\tLoss: 0.007087\n",
      "Mem before-during-after: 21483008 4332337152 21483008\n"
     ]
    },
    {
     "name": "stderr",
     "output_type": "stream",
     "text": [
      " 33%|███████████████████████████████████████▏                                                                                | 16.331958762886543/50 [58:54<2:28:19, 264.33s/it]"
     ]
    },
    {
     "name": "stdout",
     "output_type": "stream",
     "text": [
      "Train Epoch: 27 [5120/11481 (45%)]\tLoss: 0.747939\n",
      "Mem before-during-after: 21483008 4332337152 21483008\n"
     ]
    },
    {
     "name": "stderr",
     "output_type": "stream",
     "text": [
      " 33%|███████████████████████████████████████▍                                                                                | 16.414432989690667/50 [59:16<2:29:16, 266.67s/it]"
     ]
    },
    {
     "name": "stdout",
     "output_type": "stream",
     "text": [
      "Train Epoch: 27 [6400/11481 (56%)]\tLoss: 0.200596\n",
      "Mem before-during-after: 21483008 4332337152 21483008\n"
     ]
    },
    {
     "name": "stderr",
     "output_type": "stream",
     "text": [
      " 33%|███████████████████████████████████████▉                                                                                 | 16.49690721649479/50 [59:37<2:28:20, 265.66s/it]"
     ]
    },
    {
     "name": "stdout",
     "output_type": "stream",
     "text": [
      "Train Epoch: 27 [7680/11481 (67%)]\tLoss: 0.101364\n",
      "Mem before-during-after: 21483008 4332337152 21483008\n"
     ]
    },
    {
     "name": "stderr",
     "output_type": "stream",
     "text": [
      " 33%|███████████████████████████████████████▊                                                                                | 16.579381443298914/50 [59:58<2:28:08, 265.95s/it]"
     ]
    },
    {
     "name": "stdout",
     "output_type": "stream",
     "text": [
      "Train Epoch: 27 [8960/11481 (78%)]\tLoss: 0.078317\n",
      "Mem before-during-after: 21483008 4332337152 21483008\n"
     ]
    },
    {
     "name": "stderr",
     "output_type": "stream",
     "text": [
      " 33%|███████████████████████████████████████▎                                                                              | 16.661855670103037/50 [1:00:20<2:26:27, 263.57s/it]"
     ]
    },
    {
     "name": "stdout",
     "output_type": "stream",
     "text": [
      "Train Epoch: 27 [10240/11481 (89%)]\tLoss: 0.205100\n",
      "Mem before-during-after: 21483008 4332337152 21483008\n"
     ]
    },
    {
     "name": "stderr",
     "output_type": "stream",
     "text": [
      " 34%|████████████████████████████████████████                                                                              | 16.999999999999943/50 [1:01:13<1:09:34, 126.49s/it]"
     ]
    },
    {
     "name": "stdout",
     "output_type": "stream",
     "text": [
      "\n",
      "Test Epoch: 27\tAccuracy: 3558/4064 (87%)\n",
      "\n"
     ]
    },
    {
     "name": "stderr",
     "output_type": "stream",
     "text": [
      " 34%|████████████████████████████████████████                                                                              | 17.002061855670046/50 [1:01:14<1:32:39, 168.47s/it]"
     ]
    },
    {
     "name": "stdout",
     "output_type": "stream",
     "text": [
      "Train Epoch: 28 [0/11481 (0%)]\tLoss: 0.059990\n",
      "Mem before-during-after: 21596672 4334000128 21483008\n"
     ]
    },
    {
     "name": "stderr",
     "output_type": "stream",
     "text": [
      " 34%|████████████████████████████████████████▋                                                                              | 17.08453608247417/50 [1:01:35<2:25:20, 264.93s/it]"
     ]
    },
    {
     "name": "stdout",
     "output_type": "stream",
     "text": [
      "Train Epoch: 28 [1280/11481 (11%)]\tLoss: 0.133134\n",
      "Mem before-during-after: 21483008 4332337152 21483008\n"
     ]
    },
    {
     "name": "stderr",
     "output_type": "stream",
     "text": [
      " 34%|████████████████████████████████████████▌                                                                             | 17.167010309278293/50 [1:01:57<2:25:41, 266.23s/it]"
     ]
    },
    {
     "name": "stdout",
     "output_type": "stream",
     "text": [
      "Train Epoch: 28 [2560/11481 (22%)]\tLoss: 0.168970\n",
      "Mem before-during-after: 21483008 4332337152 21483008\n"
     ]
    },
    {
     "name": "stderr",
     "output_type": "stream",
     "text": [
      " 34%|████████████████████████████████████████▋                                                                             | 17.249484536082416/50 [1:02:18<2:24:14, 264.25s/it]"
     ]
    },
    {
     "name": "stdout",
     "output_type": "stream",
     "text": [
      "Train Epoch: 28 [3840/11481 (34%)]\tLoss: 0.009743\n",
      "Mem before-during-after: 21483008 4332337152 21483008\n"
     ]
    },
    {
     "name": "stderr",
     "output_type": "stream",
     "text": [
      " 35%|█████████████████████████████████████████▎                                                                             | 17.33195876288654/50 [1:02:40<2:25:01, 266.36s/it]"
     ]
    },
    {
     "name": "stdout",
     "output_type": "stream",
     "text": [
      "Train Epoch: 28 [5120/11481 (45%)]\tLoss: 0.661368\n",
      "Mem before-during-after: 21483008 4332337152 21483008\n"
     ]
    },
    {
     "name": "stderr",
     "output_type": "stream",
     "text": [
      " 35%|█████████████████████████████████████████                                                                             | 17.414432989690663/50 [1:03:01<2:22:37, 262.63s/it]"
     ]
    },
    {
     "name": "stdout",
     "output_type": "stream",
     "text": [
      "Train Epoch: 28 [6400/11481 (56%)]\tLoss: 0.195845\n",
      "Mem before-during-after: 21483008 4332337152 21483008\n"
     ]
    },
    {
     "name": "stderr",
     "output_type": "stream",
     "text": [
      " 35%|█████████████████████████████████████████▎                                                                            | 17.496907216494787/50 [1:03:23<2:22:12, 262.52s/it]"
     ]
    },
    {
     "name": "stdout",
     "output_type": "stream",
     "text": [
      "Train Epoch: 28 [7680/11481 (67%)]\tLoss: 0.076720\n",
      "Mem before-during-after: 21483008 4332337152 21483008\n"
     ]
    },
    {
     "name": "stderr",
     "output_type": "stream",
     "text": [
      " 35%|█████████████████████████████████████████▊                                                                             | 17.57938144329891/50 [1:03:44<2:22:46, 264.22s/it]"
     ]
    },
    {
     "name": "stdout",
     "output_type": "stream",
     "text": [
      "Train Epoch: 28 [8960/11481 (78%)]\tLoss: 0.085320\n",
      "Mem before-during-after: 21483008 4332337152 21483008\n"
     ]
    },
    {
     "name": "stderr",
     "output_type": "stream",
     "text": [
      " 35%|█████████████████████████████████████████▋                                                                            | 17.661855670103034/50 [1:04:05<2:21:48, 263.11s/it]"
     ]
    },
    {
     "name": "stdout",
     "output_type": "stream",
     "text": [
      "Train Epoch: 28 [10240/11481 (89%)]\tLoss: 0.328972\n",
      "Mem before-during-after: 21483008 4332337152 21483008\n"
     ]
    },
    {
     "name": "stderr",
     "output_type": "stream",
     "text": [
      " 36%|██████████████████████████████████████████▊                                                                            | 17.99999999999994/50 [1:04:59<1:06:51, 125.36s/it]"
     ]
    },
    {
     "name": "stdout",
     "output_type": "stream",
     "text": [
      "\n",
      "Test Epoch: 28\tAccuracy: 3562/4064 (87%)\n",
      "\n"
     ]
    },
    {
     "name": "stderr",
     "output_type": "stream",
     "text": [
      " 36%|██████████████████████████████████████████▍                                                                           | 18.002061855670043/50 [1:04:59<1:28:30, 165.95s/it]"
     ]
    },
    {
     "name": "stdout",
     "output_type": "stream",
     "text": [
      "Train Epoch: 29 [0/11481 (0%)]\tLoss: 0.035287\n",
      "Mem before-during-after: 21596672 4334000128 21483008\n"
     ]
    },
    {
     "name": "stderr",
     "output_type": "stream",
     "text": [
      " 36%|██████████████████████████████████████████▋                                                                           | 18.084536082474166/50 [1:05:21<2:19:13, 261.73s/it]"
     ]
    },
    {
     "name": "stdout",
     "output_type": "stream",
     "text": [
      "Train Epoch: 29 [1280/11481 (11%)]\tLoss: 0.087393\n",
      "Mem before-during-after: 21483008 4332337152 21483008\n"
     ]
    },
    {
     "name": "stderr",
     "output_type": "stream",
     "text": [
      " 36%|███████████████████████████████████████████▏                                                                           | 18.16701030927829/50 [1:05:42<2:19:27, 262.84s/it]"
     ]
    },
    {
     "name": "stdout",
     "output_type": "stream",
     "text": [
      "Train Epoch: 29 [2560/11481 (22%)]\tLoss: 0.193083\n",
      "Mem before-during-after: 21483008 4332337152 21483008\n"
     ]
    },
    {
     "name": "stderr",
     "output_type": "stream",
     "text": [
      " 36%|███████████████████████████████████████████                                                                           | 18.249484536082413/50 [1:06:03<2:18:24, 261.57s/it]"
     ]
    },
    {
     "name": "stdout",
     "output_type": "stream",
     "text": [
      "Train Epoch: 29 [3840/11481 (34%)]\tLoss: 0.008009\n",
      "Mem before-during-after: 21483008 4332337152 21483008\n"
     ]
    },
    {
     "name": "stderr",
     "output_type": "stream",
     "text": [
      " 37%|███████████████████████████████████████████▎                                                                          | 18.331958762886536/50 [1:06:24<2:19:00, 263.37s/it]"
     ]
    },
    {
     "name": "stdout",
     "output_type": "stream",
     "text": [
      "Train Epoch: 29 [5120/11481 (45%)]\tLoss: 0.871878\n",
      "Mem before-during-after: 21483008 4332337152 21483008\n"
     ]
    },
    {
     "name": "stderr",
     "output_type": "stream",
     "text": [
      " 37%|███████████████████████████████████████████▊                                                                           | 18.41443298969066/50 [1:06:46<2:20:04, 266.10s/it]"
     ]
    },
    {
     "name": "stdout",
     "output_type": "stream",
     "text": [
      "Train Epoch: 29 [6400/11481 (56%)]\tLoss: 0.269507\n",
      "Mem before-during-after: 21483008 4332337152 21483008\n"
     ]
    },
    {
     "name": "stderr",
     "output_type": "stream",
     "text": [
      " 37%|███████████████████████████████████████████▋                                                                          | 18.496907216494783/50 [1:07:07<2:17:16, 261.45s/it]"
     ]
    },
    {
     "name": "stdout",
     "output_type": "stream",
     "text": [
      "Train Epoch: 29 [7680/11481 (67%)]\tLoss: 0.079083\n",
      "Mem before-during-after: 21483008 4332337152 21483008\n"
     ]
    },
    {
     "name": "stderr",
     "output_type": "stream",
     "text": [
      " 37%|███████████████████████████████████████████▊                                                                          | 18.579381443298907/50 [1:07:28<2:17:51, 263.24s/it]"
     ]
    },
    {
     "name": "stdout",
     "output_type": "stream",
     "text": [
      "Train Epoch: 29 [8960/11481 (78%)]\tLoss: 0.079775\n",
      "Mem before-during-after: 21483008 4332337152 21483008\n"
     ]
    },
    {
     "name": "stderr",
     "output_type": "stream",
     "text": [
      " 37%|████████████████████████████████████████████▍                                                                          | 18.66185567010303/50 [1:07:49<2:18:14, 264.69s/it]"
     ]
    },
    {
     "name": "stdout",
     "output_type": "stream",
     "text": [
      "Train Epoch: 29 [10240/11481 (89%)]\tLoss: 0.595953\n",
      "Mem before-during-after: 21483008 4332337152 21483008\n"
     ]
    },
    {
     "name": "stderr",
     "output_type": "stream",
     "text": [
      " 38%|████████████████████████████████████████████▊                                                                         | 18.999999999999936/50 [1:08:42<1:05:13, 126.26s/it]"
     ]
    },
    {
     "name": "stdout",
     "output_type": "stream",
     "text": [
      "\n",
      "Test Epoch: 29\tAccuracy: 3567/4064 (87%)\n",
      "\n"
     ]
    },
    {
     "name": "stderr",
     "output_type": "stream",
     "text": [
      " 38%|█████████████████████████████████████████████▏                                                                         | 19.00206185567004/50 [1:08:43<1:26:24, 167.27s/it]"
     ]
    },
    {
     "name": "stdout",
     "output_type": "stream",
     "text": [
      "Train Epoch: 30 [0/11481 (0%)]\tLoss: 0.039664\n",
      "Mem before-during-after: 21596672 4334000128 21483008\n"
     ]
    },
    {
     "name": "stderr",
     "output_type": "stream",
     "text": [
      " 38%|█████████████████████████████████████████████                                                                         | 19.084536082474163/50 [1:09:04<2:14:54, 261.81s/it]"
     ]
    },
    {
     "name": "stdout",
     "output_type": "stream",
     "text": [
      "Train Epoch: 30 [1280/11481 (11%)]\tLoss: 0.025392\n",
      "Mem before-during-after: 21483008 4332337152 21483008\n"
     ]
    },
    {
     "name": "stderr",
     "output_type": "stream",
     "text": [
      " 38%|█████████████████████████████████████████████▏                                                                        | 19.167010309278286/50 [1:09:25<2:14:42, 262.15s/it]"
     ]
    },
    {
     "name": "stdout",
     "output_type": "stream",
     "text": [
      "Train Epoch: 30 [2560/11481 (22%)]\tLoss: 0.261256\n",
      "Mem before-during-after: 21483008 4332337152 21483008\n"
     ]
    },
    {
     "name": "stderr",
     "output_type": "stream",
     "text": [
      " 38%|█████████████████████████████████████████████▊                                                                         | 19.24948453608241/50 [1:09:47<2:14:16, 262.00s/it]"
     ]
    },
    {
     "name": "stdout",
     "output_type": "stream",
     "text": [
      "Train Epoch: 30 [3840/11481 (34%)]\tLoss: 0.002527\n",
      "Mem before-during-after: 21483008 4332337152 21483008\n"
     ]
    },
    {
     "name": "stderr",
     "output_type": "stream",
     "text": [
      " 39%|█████████████████████████████████████████████▌                                                                        | 19.331958762886533/50 [1:10:08<2:14:21, 262.87s/it]"
     ]
    },
    {
     "name": "stdout",
     "output_type": "stream",
     "text": [
      "Train Epoch: 30 [5120/11481 (45%)]\tLoss: 0.794561\n",
      "Mem before-during-after: 21483008 4332337152 21483008\n"
     ]
    },
    {
     "name": "stderr",
     "output_type": "stream",
     "text": [
      " 39%|█████████████████████████████████████████████▊                                                                        | 19.414432989690656/50 [1:10:29<2:14:06, 263.09s/it]"
     ]
    },
    {
     "name": "stdout",
     "output_type": "stream",
     "text": [
      "Train Epoch: 30 [6400/11481 (56%)]\tLoss: 0.183179\n",
      "Mem before-during-after: 21483008 4332337152 21483008\n"
     ]
    },
    {
     "name": "stderr",
     "output_type": "stream",
     "text": [
      " 39%|██████████████████████████████████████████████▍                                                                        | 19.49690721649478/50 [1:10:50<2:13:32, 262.68s/it]"
     ]
    },
    {
     "name": "stdout",
     "output_type": "stream",
     "text": [
      "Train Epoch: 30 [7680/11481 (67%)]\tLoss: 0.109363\n",
      "Mem before-during-after: 21483008 4332337152 21483008\n"
     ]
    },
    {
     "name": "stderr",
     "output_type": "stream",
     "text": [
      " 39%|██████████████████████████████████████████████▏                                                                       | 19.579381443298903/50 [1:11:12<2:13:17, 262.90s/it]"
     ]
    },
    {
     "name": "stdout",
     "output_type": "stream",
     "text": [
      "Train Epoch: 30 [8960/11481 (78%)]\tLoss: 0.073881\n",
      "Mem before-during-after: 21483008 4332337152 21483008\n"
     ]
    },
    {
     "name": "stderr",
     "output_type": "stream",
     "text": [
      " 39%|██████████████████████████████████████████████▍                                                                       | 19.661855670103026/50 [1:11:33<2:12:57, 262.95s/it]"
     ]
    },
    {
     "name": "stdout",
     "output_type": "stream",
     "text": [
      "Train Epoch: 30 [10240/11481 (89%)]\tLoss: 0.702320\n",
      "Mem before-during-after: 21483008 4332337152 21483008\n"
     ]
    },
    {
     "name": "stderr",
     "output_type": "stream",
     "text": [
      " 40%|███████████████████████████████████████████████▏                                                                      | 19.999999999999932/50 [1:12:26<1:03:02, 126.09s/it]"
     ]
    },
    {
     "name": "stdout",
     "output_type": "stream",
     "text": [
      "\n",
      "Test Epoch: 30\tAccuracy: 3502/4064 (86%)\n",
      "\n"
     ]
    },
    {
     "name": "stderr",
     "output_type": "stream",
     "text": [
      " 40%|███████████████████████████████████████████████▏                                                                      | 20.002061855670036/50 [1:12:27<1:24:48, 169.64s/it]"
     ]
    },
    {
     "name": "stdout",
     "output_type": "stream",
     "text": [
      "Train Epoch: 31 [0/11481 (0%)]\tLoss: 0.098617\n",
      "Mem before-during-after: 21596672 4334000128 21483008\n"
     ]
    },
    {
     "name": "stderr",
     "output_type": "stream",
     "text": [
      " 40%|███████████████████████████████████████████████▊                                                                       | 20.08453608247416/50 [1:12:48<2:11:15, 263.25s/it]"
     ]
    },
    {
     "name": "stdout",
     "output_type": "stream",
     "text": [
      "Train Epoch: 31 [1280/11481 (11%)]\tLoss: 0.064084\n",
      "Mem before-during-after: 21483008 4332337152 21483008\n"
     ]
    },
    {
     "name": "stderr",
     "output_type": "stream",
     "text": [
      " 40%|███████████████████████████████████████████████▌                                                                      | 20.167010309278282/50 [1:13:10<2:11:28, 264.41s/it]"
     ]
    },
    {
     "name": "stdout",
     "output_type": "stream",
     "text": [
      "Train Epoch: 31 [2560/11481 (22%)]\tLoss: 0.236867\n",
      "Mem before-during-after: 21483008 4332337152 21483008\n"
     ]
    },
    {
     "name": "stderr",
     "output_type": "stream",
     "text": [
      " 40%|███████████████████████████████████████████████▊                                                                      | 20.249484536082406/50 [1:13:31<2:10:58, 264.15s/it]"
     ]
    },
    {
     "name": "stdout",
     "output_type": "stream",
     "text": [
      "Train Epoch: 31 [3840/11481 (34%)]\tLoss: 0.011583\n",
      "Mem before-during-after: 21483008 4332337152 21483008\n"
     ]
    },
    {
     "name": "stderr",
     "output_type": "stream",
     "text": [
      " 41%|████████████████████████████████████████████████▍                                                                      | 20.33195876288653/50 [1:13:52<2:09:39, 262.20s/it]"
     ]
    },
    {
     "name": "stdout",
     "output_type": "stream",
     "text": [
      "Train Epoch: 31 [5120/11481 (45%)]\tLoss: 0.861331\n",
      "Mem before-during-after: 21483008 4332337152 21483008\n"
     ]
    },
    {
     "name": "stderr",
     "output_type": "stream",
     "text": [
      " 41%|████████████████████████████████████████████████▏                                                                     | 20.414432989690653/50 [1:14:14<2:10:09, 263.97s/it]"
     ]
    },
    {
     "name": "stdout",
     "output_type": "stream",
     "text": [
      "Train Epoch: 31 [6400/11481 (56%)]\tLoss: 0.188230\n",
      "Mem before-during-after: 21483008 4332337152 21483008\n"
     ]
    },
    {
     "name": "stderr",
     "output_type": "stream",
     "text": [
      " 41%|████████████████████████████████████████████████▎                                                                     | 20.496907216494776/50 [1:14:35<2:10:33, 265.52s/it]"
     ]
    },
    {
     "name": "stdout",
     "output_type": "stream",
     "text": [
      "Train Epoch: 31 [7680/11481 (67%)]\tLoss: 0.078438\n",
      "Mem before-during-after: 21483008 4332337152 21483008\n"
     ]
    },
    {
     "name": "stderr",
     "output_type": "stream",
     "text": [
      " 41%|█████████████████████████████████████████████████▍                                                                      | 20.5793814432989/50 [1:14:57<2:09:41, 264.48s/it]"
     ]
    },
    {
     "name": "stdout",
     "output_type": "stream",
     "text": [
      "Train Epoch: 31 [8960/11481 (78%)]\tLoss: 0.069559\n",
      "Mem before-during-after: 21483008 4332337152 21483008\n"
     ]
    },
    {
     "name": "stderr",
     "output_type": "stream",
     "text": [
      " 41%|████████████████████████████████████████████████▊                                                                     | 20.661855670103023/50 [1:15:18<2:08:27, 262.71s/it]"
     ]
    },
    {
     "name": "stdout",
     "output_type": "stream",
     "text": [
      "Train Epoch: 31 [10240/11481 (89%)]\tLoss: 0.849789\n",
      "Mem before-during-after: 21483008 4332337152 21483008\n"
     ]
    },
    {
     "name": "stderr",
     "output_type": "stream",
     "text": [
      " 42%|█████████████████████████████████████████████████▉                                                                     | 20.99999999999993/50 [1:16:11<1:05:15, 135.01s/it]"
     ]
    },
    {
     "name": "stdout",
     "output_type": "stream",
     "text": [
      "\n",
      "Test Epoch: 31\tAccuracy: 3567/4064 (87%)\n",
      "\n"
     ]
    },
    {
     "name": "stderr",
     "output_type": "stream",
     "text": [
      " 42%|█████████████████████████████████████████████████▌                                                                    | 21.002061855670032/50 [1:16:12<1:23:41, 173.15s/it]"
     ]
    },
    {
     "name": "stdout",
     "output_type": "stream",
     "text": [
      "Train Epoch: 32 [0/11481 (0%)]\tLoss: 0.028459\n",
      "Mem before-during-after: 21596672 4334000128 21483008\n"
     ]
    },
    {
     "name": "stderr",
     "output_type": "stream",
     "text": [
      " 42%|█████████████████████████████████████████████████▊                                                                    | 21.084536082474155/50 [1:16:33<2:04:46, 258.90s/it]"
     ]
    },
    {
     "name": "stdout",
     "output_type": "stream",
     "text": [
      "Train Epoch: 32 [1280/11481 (11%)]\tLoss: 0.117682\n",
      "Mem before-during-after: 21483008 4332337152 21483008\n"
     ]
    },
    {
     "name": "stderr",
     "output_type": "stream",
     "text": [
      " 42%|██████████████████████████████████████████████████▍                                                                    | 21.16701030927828/50 [1:16:54<2:05:25, 260.99s/it]"
     ]
    },
    {
     "name": "stdout",
     "output_type": "stream",
     "text": [
      "Train Epoch: 32 [2560/11481 (22%)]\tLoss: 0.237860\n",
      "Mem before-during-after: 21483008 4332337152 21483008\n"
     ]
    },
    {
     "name": "stderr",
     "output_type": "stream",
     "text": [
      " 42%|██████████████████████████████████████████████████▏                                                                   | 21.249484536082402/50 [1:17:15<2:10:05, 271.49s/it]"
     ]
    },
    {
     "name": "stdout",
     "output_type": "stream",
     "text": [
      "Train Epoch: 32 [3840/11481 (34%)]\tLoss: 0.004760\n",
      "Mem before-during-after: 21483008 4332337152 21483008\n"
     ]
    },
    {
     "name": "stderr",
     "output_type": "stream",
     "text": [
      " 43%|██████████████████████████████████████████████████▎                                                                   | 21.331958762886526/50 [1:17:36<2:05:44, 263.17s/it]"
     ]
    },
    {
     "name": "stdout",
     "output_type": "stream",
     "text": [
      "Train Epoch: 32 [5120/11481 (45%)]\tLoss: 0.843153\n",
      "Mem before-during-after: 21483008 4332337152 21483008\n"
     ]
    },
    {
     "name": "stderr",
     "output_type": "stream",
     "text": [
      " 43%|██████████████████████████████████████████████████▉                                                                    | 21.41443298969065/50 [1:17:57<2:04:19, 260.95s/it]"
     ]
    },
    {
     "name": "stdout",
     "output_type": "stream",
     "text": [
      "Train Epoch: 32 [6400/11481 (56%)]\tLoss: 0.212457\n",
      "Mem before-during-after: 21483008 4332337152 21483008\n"
     ]
    },
    {
     "name": "stderr",
     "output_type": "stream",
     "text": [
      " 43%|██████████████████████████████████████████████████▋                                                                   | 21.496907216494773/50 [1:18:19<2:04:58, 263.06s/it]"
     ]
    },
    {
     "name": "stdout",
     "output_type": "stream",
     "text": [
      "Train Epoch: 32 [7680/11481 (67%)]\tLoss: 0.058990\n",
      "Mem before-during-after: 21483008 4332337152 21483008\n"
     ]
    },
    {
     "name": "stderr",
     "output_type": "stream",
     "text": [
      " 43%|██████████████████████████████████████████████████▉                                                                   | 21.579381443298896/50 [1:18:40<2:04:17, 262.39s/it]"
     ]
    },
    {
     "name": "stdout",
     "output_type": "stream",
     "text": [
      "Train Epoch: 32 [8960/11481 (78%)]\tLoss: 0.068049\n",
      "Mem before-during-after: 21483008 4332337152 21483008\n"
     ]
    },
    {
     "name": "stderr",
     "output_type": "stream",
     "text": [
      " 43%|███████████████████████████████████████████████████▌                                                                   | 21.66185567010302/50 [1:19:01<2:03:20, 261.15s/it]"
     ]
    },
    {
     "name": "stdout",
     "output_type": "stream",
     "text": [
      "Train Epoch: 32 [10240/11481 (89%)]\tLoss: 0.768488\n",
      "Mem before-during-after: 21483008 4332337152 21483008\n"
     ]
    },
    {
     "name": "stderr",
     "output_type": "stream",
     "text": [
      " 44%|████████████████████████████████████████████████████▊                                                                   | 21.999999999999925/50 [1:19:54<59:19, 127.14s/it]"
     ]
    },
    {
     "name": "stdout",
     "output_type": "stream",
     "text": [
      "\n",
      "Test Epoch: 32\tAccuracy: 3545/4064 (87%)\n",
      "\n"
     ]
    },
    {
     "name": "stderr",
     "output_type": "stream",
     "text": [
      " 44%|████████████████████████████████████████████████████▎                                                                  | 22.00206185567003/50 [1:19:55<1:17:53, 166.94s/it]"
     ]
    },
    {
     "name": "stdout",
     "output_type": "stream",
     "text": [
      "Train Epoch: 33 [0/11481 (0%)]\tLoss: 0.022265\n",
      "Mem before-during-after: 21596672 4334000128 21483008\n"
     ]
    },
    {
     "name": "stderr",
     "output_type": "stream",
     "text": [
      " 44%|████████████████████████████████████████████████████                                                                  | 22.084536082474152/50 [1:20:16<2:01:38, 261.46s/it]"
     ]
    },
    {
     "name": "stdout",
     "output_type": "stream",
     "text": [
      "Train Epoch: 33 [1280/11481 (11%)]\tLoss: 0.035164\n",
      "Mem before-during-after: 21483008 4332337152 21483008\n"
     ]
    },
    {
     "name": "stderr",
     "output_type": "stream",
     "text": [
      " 44%|████████████████████████████████████████████████████▎                                                                 | 22.167010309278275/50 [1:20:37<2:00:38, 260.08s/it]"
     ]
    },
    {
     "name": "stdout",
     "output_type": "stream",
     "text": [
      "Train Epoch: 33 [2560/11481 (22%)]\tLoss: 0.215517\n",
      "Mem before-during-after: 21483008 4332337152 21483008\n"
     ]
    },
    {
     "name": "stderr",
     "output_type": "stream",
     "text": [
      " 44%|█████████████████████████████████████████████████████▍                                                                  | 22.2494845360824/50 [1:20:58<2:03:37, 267.28s/it]"
     ]
    },
    {
     "name": "stdout",
     "output_type": "stream",
     "text": [
      "Train Epoch: 33 [3840/11481 (34%)]\tLoss: 0.005227\n",
      "Mem before-during-after: 21483008 4332337152 21483008\n"
     ]
    },
    {
     "name": "stderr",
     "output_type": "stream",
     "text": [
      " 45%|████████████████████████████████████████████████████▋                                                                 | 22.331958762886522/50 [1:21:19<2:00:23, 261.08s/it]"
     ]
    },
    {
     "name": "stdout",
     "output_type": "stream",
     "text": [
      "Train Epoch: 33 [5120/11481 (45%)]\tLoss: 0.893627\n",
      "Mem before-during-after: 21483008 4332337152 21483008\n"
     ]
    },
    {
     "name": "stderr",
     "output_type": "stream",
     "text": [
      " 45%|████████████████████████████████████████████████████▉                                                                 | 22.414432989690646/50 [1:21:40<2:00:38, 262.39s/it]"
     ]
    },
    {
     "name": "stdout",
     "output_type": "stream",
     "text": [
      "Train Epoch: 33 [6400/11481 (56%)]\tLoss: 0.234959\n",
      "Mem before-during-after: 21483008 4332337152 21483008\n"
     ]
    },
    {
     "name": "stderr",
     "output_type": "stream",
     "text": [
      " 45%|█████████████████████████████████████████████████████▌                                                                 | 22.49690721649477/50 [1:22:02<2:02:48, 267.92s/it]"
     ]
    },
    {
     "name": "stdout",
     "output_type": "stream",
     "text": [
      "Train Epoch: 33 [7680/11481 (67%)]\tLoss: 0.069401\n",
      "Mem before-during-after: 21483008 4332337152 21483008\n"
     ]
    },
    {
     "name": "stderr",
     "output_type": "stream",
     "text": [
      " 45%|█████████████████████████████████████████████████████▎                                                                | 22.579381443298892/50 [1:22:23<1:58:52, 260.12s/it]"
     ]
    },
    {
     "name": "stdout",
     "output_type": "stream",
     "text": [
      "Train Epoch: 33 [8960/11481 (78%)]\tLoss: 0.072571\n",
      "Mem before-during-after: 21483008 4332337152 21483008\n"
     ]
    },
    {
     "name": "stderr",
     "output_type": "stream",
     "text": [
      " 45%|█████████████████████████████████████████████████████▍                                                                | 22.661855670103016/50 [1:22:44<1:58:44, 260.61s/it]"
     ]
    },
    {
     "name": "stdout",
     "output_type": "stream",
     "text": [
      "Train Epoch: 33 [10240/11481 (89%)]\tLoss: 0.748836\n",
      "Mem before-during-after: 21483008 4332337152 21483008\n"
     ]
    },
    {
     "name": "stderr",
     "output_type": "stream",
     "text": [
      " 46%|███████████████████████████████████████████████████████▏                                                                | 22.999999999999922/50 [1:23:37<57:07, 126.93s/it]"
     ]
    },
    {
     "name": "stdout",
     "output_type": "stream",
     "text": [
      "\n",
      "Test Epoch: 33\tAccuracy: 3551/4064 (87%)\n",
      "\n"
     ]
    },
    {
     "name": "stderr",
     "output_type": "stream",
     "text": [
      " 46%|██████████████████████████████████████████████████████▎                                                               | 23.002061855670025/50 [1:23:38<1:15:43, 168.27s/it]"
     ]
    },
    {
     "name": "stdout",
     "output_type": "stream",
     "text": [
      "Train Epoch: 34 [0/11481 (0%)]\tLoss: 0.035471\n",
      "Mem before-during-after: 21596672 4334000128 21483008\n"
     ]
    },
    {
     "name": "stderr",
     "output_type": "stream",
     "text": [
      " 46%|██████████████████████████████████████████████████████▉                                                                | 23.08453608247415/50 [1:23:59<1:56:14, 259.14s/it]"
     ]
    },
    {
     "name": "stdout",
     "output_type": "stream",
     "text": [
      "Train Epoch: 34 [1280/11481 (11%)]\tLoss: 0.025340\n",
      "Mem before-during-after: 21483008 4332337152 21483008\n"
     ]
    },
    {
     "name": "stderr",
     "output_type": "stream",
     "text": [
      " 46%|███████████████████████████████████████████████████████▏                                                               | 23.16701030927827/50 [1:24:20<1:56:43, 261.00s/it]"
     ]
    },
    {
     "name": "stdout",
     "output_type": "stream",
     "text": [
      "Train Epoch: 34 [2560/11481 (22%)]\tLoss: 0.268530\n",
      "Mem before-during-after: 21483008 4332337152 21483008\n"
     ]
    },
    {
     "name": "stderr",
     "output_type": "stream",
     "text": [
      " 46%|██████████████████████████████████████████████████████▊                                                               | 23.249484536082395/50 [1:24:41<1:56:28, 261.23s/it]"
     ]
    },
    {
     "name": "stdout",
     "output_type": "stream",
     "text": [
      "Train Epoch: 34 [3840/11481 (34%)]\tLoss: 0.007343\n",
      "Mem before-during-after: 21483008 4332337152 21483008\n"
     ]
    },
    {
     "name": "stderr",
     "output_type": "stream",
     "text": [
      " 47%|███████████████████████████████████████████████████████▌                                                               | 23.33195876288652/50 [1:25:02<1:56:21, 261.80s/it]"
     ]
    },
    {
     "name": "stdout",
     "output_type": "stream",
     "text": [
      "Train Epoch: 34 [5120/11481 (45%)]\tLoss: 0.902604\n",
      "Mem before-during-after: 21483008 4332337152 21483008\n"
     ]
    },
    {
     "name": "stderr",
     "output_type": "stream",
     "text": [
      " 47%|███████████████████████████████████████████████████████▎                                                              | 23.414432989690642/50 [1:25:24<1:55:37, 260.96s/it]"
     ]
    },
    {
     "name": "stdout",
     "output_type": "stream",
     "text": [
      "Train Epoch: 34 [6400/11481 (56%)]\tLoss: 0.235282\n",
      "Mem before-during-after: 21483008 4332337152 21483008\n"
     ]
    },
    {
     "name": "stderr",
     "output_type": "stream",
     "text": [
      " 47%|███████████████████████████████████████████████████████▍                                                              | 23.496907216494765/50 [1:25:45<1:59:03, 269.52s/it]"
     ]
    },
    {
     "name": "stdout",
     "output_type": "stream",
     "text": [
      "Train Epoch: 34 [7680/11481 (67%)]\tLoss: 0.080364\n",
      "Mem before-during-after: 21483008 4332337152 21483008\n"
     ]
    },
    {
     "name": "stderr",
     "output_type": "stream",
     "text": [
      " 47%|████████████████████████████████████████████████████████                                                               | 23.57938144329889/50 [1:26:06<1:54:26, 259.89s/it]"
     ]
    },
    {
     "name": "stdout",
     "output_type": "stream",
     "text": [
      "Train Epoch: 34 [8960/11481 (78%)]\tLoss: 0.078659\n",
      "Mem before-during-after: 21483008 4332337152 21483008\n"
     ]
    },
    {
     "name": "stderr",
     "output_type": "stream",
     "text": [
      " 47%|███████████████████████████████████████████████████████▊                                                              | 23.661855670103012/50 [1:26:27<1:55:04, 262.15s/it]"
     ]
    },
    {
     "name": "stdout",
     "output_type": "stream",
     "text": [
      "Train Epoch: 34 [10240/11481 (89%)]\tLoss: 0.808716\n",
      "Mem before-during-after: 21483008 4332337152 21483008\n"
     ]
    },
    {
     "name": "stderr",
     "output_type": "stream",
     "text": [
      " 48%|██████████████████████████████████████████████████████████                                                               | 23.99999999999992/50 [1:27:21<54:34, 125.95s/it]"
     ]
    },
    {
     "name": "stdout",
     "output_type": "stream",
     "text": [
      "\n",
      "Test Epoch: 34\tAccuracy: 3556/4064 (87%)\n",
      "\n"
     ]
    },
    {
     "name": "stderr",
     "output_type": "stream",
     "text": [
      " 48%|█████████████████████████████████████████████████████████                                                              | 24.00206185567002/50 [1:27:21<1:12:11, 166.63s/it]"
     ]
    },
    {
     "name": "stdout",
     "output_type": "stream",
     "text": [
      "Train Epoch: 35 [0/11481 (0%)]\tLoss: 0.060277\n",
      "Mem before-during-after: 21596672 4334000128 21483008\n"
     ]
    },
    {
     "name": "stderr",
     "output_type": "stream",
     "text": [
      " 48%|████████████████████████████████████████████████████████▊                                                             | 24.084536082474145/50 [1:27:42<1:53:17, 262.29s/it]"
     ]
    },
    {
     "name": "stdout",
     "output_type": "stream",
     "text": [
      "Train Epoch: 35 [1280/11481 (11%)]\tLoss: 0.034097\n",
      "Mem before-during-after: 21483008 4332337152 21483008\n"
     ]
    },
    {
     "name": "stderr",
     "output_type": "stream",
     "text": [
      " 48%|█████████████████████████████████████████████████████████                                                             | 24.167010309278268/50 [1:28:03<1:52:29, 261.27s/it]"
     ]
    },
    {
     "name": "stdout",
     "output_type": "stream",
     "text": [
      "Train Epoch: 35 [2560/11481 (22%)]\tLoss: 0.249740\n",
      "Mem before-during-after: 21483008 4332337152 21483008\n"
     ]
    },
    {
     "name": "stderr",
     "output_type": "stream",
     "text": [
      " 48%|█████████████████████████████████████████████████████████▋                                                             | 24.24948453608239/50 [1:28:25<1:52:09, 261.35s/it]"
     ]
    },
    {
     "name": "stdout",
     "output_type": "stream",
     "text": [
      "Train Epoch: 35 [3840/11481 (34%)]\tLoss: 0.005190\n",
      "Mem before-during-after: 21483008 4332337152 21483008\n"
     ]
    },
    {
     "name": "stderr",
     "output_type": "stream",
     "text": [
      " 49%|█████████████████████████████████████████████████████████▍                                                            | 24.331958762886515/50 [1:28:46<1:51:52, 261.50s/it]"
     ]
    },
    {
     "name": "stdout",
     "output_type": "stream",
     "text": [
      "Train Epoch: 35 [5120/11481 (45%)]\tLoss: 0.821989\n",
      "Mem before-during-after: 21483008 4332337152 21483008\n"
     ]
    },
    {
     "name": "stderr",
     "output_type": "stream",
     "text": [
      " 49%|██████████████████████████████████████████████████████████                                                             | 24.41443298969064/50 [1:29:07<1:50:53, 260.04s/it]"
     ]
    },
    {
     "name": "stdout",
     "output_type": "stream",
     "text": [
      "Train Epoch: 35 [6400/11481 (56%)]\tLoss: 0.192786\n",
      "Mem before-during-after: 21483008 4332337152 21483008\n"
     ]
    },
    {
     "name": "stderr",
     "output_type": "stream",
     "text": [
      " 49%|█████████████████████████████████████████████████████████▊                                                            | 24.496907216494762/50 [1:29:28<1:51:16, 261.80s/it]"
     ]
    },
    {
     "name": "stdout",
     "output_type": "stream",
     "text": [
      "Train Epoch: 35 [7680/11481 (67%)]\tLoss: 0.107965\n",
      "Mem before-during-after: 21483008 4332337152 21483008\n"
     ]
    },
    {
     "name": "stderr",
     "output_type": "stream",
     "text": [
      " 49%|██████████████████████████████████████████████████████████                                                            | 24.579381443298885/50 [1:29:50<1:51:34, 263.36s/it]"
     ]
    },
    {
     "name": "stdout",
     "output_type": "stream",
     "text": [
      "Train Epoch: 35 [8960/11481 (78%)]\tLoss: 0.092718\n",
      "Mem before-during-after: 21483008 4332337152 21483008\n"
     ]
    },
    {
     "name": "stderr",
     "output_type": "stream",
     "text": [
      " 49%|██████████████████████████████████████████████████████████▋                                                            | 24.66185567010301/50 [1:30:11<1:50:15, 261.08s/it]"
     ]
    },
    {
     "name": "stdout",
     "output_type": "stream",
     "text": [
      "Train Epoch: 35 [10240/11481 (89%)]\tLoss: 0.156101\n",
      "Mem before-during-after: 21483008 4332337152 21483008\n"
     ]
    },
    {
     "name": "stderr",
     "output_type": "stream",
     "text": [
      " 50%|███████████████████████████████████████████████████████████▉                                                            | 24.999999999999915/50 [1:31:04<53:02, 127.29s/it]"
     ]
    },
    {
     "name": "stdout",
     "output_type": "stream",
     "text": [
      "\n",
      "Test Epoch: 35\tAccuracy: 3573/4064 (87%)\n",
      "\n"
     ]
    },
    {
     "name": "stderr",
     "output_type": "stream",
     "text": [
      " 50%|███████████████████████████████████████████████████████████                                                           | 25.002061855670018/50 [1:31:04<1:09:21, 166.48s/it]"
     ]
    },
    {
     "name": "stdout",
     "output_type": "stream",
     "text": [
      "Train Epoch: 36 [0/11481 (0%)]\tLoss: 0.030472\n",
      "Mem before-during-after: 21596672 4334000128 21483008\n"
     ]
    },
    {
     "name": "stderr",
     "output_type": "stream",
     "text": [
      " 50%|███████████████████████████████████████████████████████████▋                                                           | 25.08453608247414/50 [1:31:26<1:49:36, 263.96s/it]"
     ]
    },
    {
     "name": "stdout",
     "output_type": "stream",
     "text": [
      "Train Epoch: 36 [1280/11481 (11%)]\tLoss: 0.098718\n",
      "Mem before-during-after: 21483008 4332337152 21483008\n"
     ]
    },
    {
     "name": "stderr",
     "output_type": "stream",
     "text": [
      " 50%|███████████████████████████████████████████████████████████▍                                                          | 25.167010309278265/50 [1:31:47<1:50:49, 267.79s/it]"
     ]
    },
    {
     "name": "stdout",
     "output_type": "stream",
     "text": [
      "Train Epoch: 36 [2560/11481 (22%)]\tLoss: 0.348975\n",
      "Mem before-during-after: 21483008 4332337152 21483008\n"
     ]
    },
    {
     "name": "stderr",
     "output_type": "stream",
     "text": [
      " 50%|███████████████████████████████████████████████████████████▌                                                          | 25.249484536082388/50 [1:32:09<1:48:38, 263.37s/it]"
     ]
    },
    {
     "name": "stdout",
     "output_type": "stream",
     "text": [
      "Train Epoch: 36 [3840/11481 (34%)]\tLoss: 0.004914\n",
      "Mem before-during-after: 21483008 4332337152 21483008\n"
     ]
    },
    {
     "name": "stderr",
     "output_type": "stream",
     "text": [
      " 51%|████████████████████████████████████████████████████████████▎                                                          | 25.33195876288651/50 [1:32:30<1:49:32, 266.44s/it]"
     ]
    },
    {
     "name": "stdout",
     "output_type": "stream",
     "text": [
      "Train Epoch: 36 [5120/11481 (45%)]\tLoss: 0.671016\n",
      "Mem before-during-after: 21483008 4332337152 21483008\n"
     ]
    },
    {
     "name": "stderr",
     "output_type": "stream",
     "text": [
      " 51%|███████████████████████████████████████████████████████████▉                                                          | 25.414432989690635/50 [1:32:52<1:47:55, 263.37s/it]"
     ]
    },
    {
     "name": "stdout",
     "output_type": "stream",
     "text": [
      "Train Epoch: 36 [6400/11481 (56%)]\tLoss: 0.216179\n",
      "Mem before-during-after: 21483008 4332337152 21483008\n"
     ]
    },
    {
     "name": "stderr",
     "output_type": "stream",
     "text": [
      " 51%|████████████████████████████████████████████████████████████▋                                                          | 25.49690721649476/50 [1:33:13<1:47:39, 263.60s/it]"
     ]
    },
    {
     "name": "stdout",
     "output_type": "stream",
     "text": [
      "Train Epoch: 36 [7680/11481 (67%)]\tLoss: 0.084272\n",
      "Mem before-during-after: 21483008 4332337152 21483008\n"
     ]
    },
    {
     "name": "stderr",
     "output_type": "stream",
     "text": [
      " 51%|████████████████████████████████████████████████████████████▉                                                          | 25.57938144329888/50 [1:33:34<1:46:43, 262.20s/it]"
     ]
    },
    {
     "name": "stdout",
     "output_type": "stream",
     "text": [
      "Train Epoch: 36 [8960/11481 (78%)]\tLoss: 0.085556\n",
      "Mem before-during-after: 21483008 4332337152 21483008\n"
     ]
    },
    {
     "name": "stderr",
     "output_type": "stream",
     "text": [
      " 51%|████████████████████████████████████████████████████████████▌                                                         | 25.661855670103005/50 [1:33:56<1:46:52, 263.49s/it]"
     ]
    },
    {
     "name": "stdout",
     "output_type": "stream",
     "text": [
      "Train Epoch: 36 [10240/11481 (89%)]\tLoss: 0.695134\n",
      "Mem before-during-after: 21483008 4332337152 21483008\n"
     ]
    },
    {
     "name": "stderr",
     "output_type": "stream",
     "text": [
      " 52%|██████████████████████████████████████████████████████████████▉                                                          | 25.99999999999991/50 [1:34:49<51:06, 127.77s/it]"
     ]
    },
    {
     "name": "stdout",
     "output_type": "stream",
     "text": [
      "\n",
      "Test Epoch: 36\tAccuracy: 3565/4064 (87%)\n",
      "\n"
     ]
    },
    {
     "name": "stderr",
     "output_type": "stream",
     "text": [
      " 52%|█████████████████████████████████████████████████████████████▎                                                        | 26.002061855670014/50 [1:34:49<1:06:56, 167.36s/it]"
     ]
    },
    {
     "name": "stdout",
     "output_type": "stream",
     "text": [
      "Train Epoch: 37 [0/11481 (0%)]\tLoss: 0.028355\n",
      "Mem before-during-after: 21596672 4334000128 21483008\n"
     ]
    },
    {
     "name": "stderr",
     "output_type": "stream",
     "text": [
      " 52%|█████████████████████████████████████████████████████████████▌                                                        | 26.084536082474138/50 [1:35:11<1:46:03, 266.07s/it]"
     ]
    },
    {
     "name": "stdout",
     "output_type": "stream",
     "text": [
      "Train Epoch: 37 [1280/11481 (11%)]\tLoss: 0.026132\n",
      "Mem before-during-after: 21483008 4332337152 21483008\n"
     ]
    },
    {
     "name": "stderr",
     "output_type": "stream",
     "text": [
      " 52%|██████████████████████████████████████████████████████████████▎                                                        | 26.16701030927826/50 [1:35:32<1:44:35, 263.32s/it]"
     ]
    },
    {
     "name": "stdout",
     "output_type": "stream",
     "text": [
      "Train Epoch: 37 [2560/11481 (22%)]\tLoss: 0.225096\n",
      "Mem before-during-after: 21483008 4332337152 21483008\n"
     ]
    },
    {
     "name": "stderr",
     "output_type": "stream",
     "text": [
      " 52%|█████████████████████████████████████████████████████████████▉                                                        | 26.249484536082385/50 [1:35:54<1:44:31, 264.06s/it]"
     ]
    },
    {
     "name": "stdout",
     "output_type": "stream",
     "text": [
      "Train Epoch: 37 [3840/11481 (34%)]\tLoss: 0.003298\n",
      "Mem before-during-after: 21483008 4332337152 21483008\n"
     ]
    },
    {
     "name": "stderr",
     "output_type": "stream",
     "text": [
      " 53%|██████████████████████████████████████████████████████████████▏                                                       | 26.331958762886508/50 [1:36:15<1:44:05, 263.87s/it]"
     ]
    },
    {
     "name": "stdout",
     "output_type": "stream",
     "text": [
      "Train Epoch: 37 [5120/11481 (45%)]\tLoss: 0.828210\n",
      "Mem before-during-after: 21483008 4332337152 21483008\n"
     ]
    },
    {
     "name": "stderr",
     "output_type": "stream",
     "text": [
      " 53%|██████████████████████████████████████████████████████████████▊                                                        | 26.41443298969063/50 [1:36:37<1:44:21, 265.50s/it]"
     ]
    },
    {
     "name": "stdout",
     "output_type": "stream",
     "text": [
      "Train Epoch: 37 [6400/11481 (56%)]\tLoss: 0.209818\n",
      "Mem before-during-after: 21483008 4332337152 21483008\n"
     ]
    },
    {
     "name": "stderr",
     "output_type": "stream",
     "text": [
      " 53%|██████████████████████████████████████████████████████████████▌                                                       | 26.496907216494755/50 [1:36:58<1:43:41, 264.69s/it]"
     ]
    },
    {
     "name": "stdout",
     "output_type": "stream",
     "text": [
      "Train Epoch: 37 [7680/11481 (67%)]\tLoss: 0.140503\n",
      "Mem before-during-after: 21483008 4332337152 21483008\n"
     ]
    },
    {
     "name": "stderr",
     "output_type": "stream",
     "text": [
      " 53%|██████████████████████████████████████████████████████████████▋                                                       | 26.579381443298878/50 [1:37:20<1:42:56, 263.74s/it]"
     ]
    },
    {
     "name": "stdout",
     "output_type": "stream",
     "text": [
      "Train Epoch: 37 [8960/11481 (78%)]\tLoss: 0.079721\n",
      "Mem before-during-after: 21483008 4332337152 21483008\n"
     ]
    },
    {
     "name": "stderr",
     "output_type": "stream",
     "text": [
      " 53%|████████████████████████████████████████████████████████████████▌                                                        | 26.661855670103/50 [1:37:41<1:42:43, 264.10s/it]"
     ]
    },
    {
     "name": "stdout",
     "output_type": "stream",
     "text": [
      "Train Epoch: 37 [10240/11481 (89%)]\tLoss: 0.297124\n",
      "Mem before-during-after: 21483008 4332337152 21483008\n"
     ]
    },
    {
     "name": "stderr",
     "output_type": "stream",
     "text": [
      " 54%|████████████████████████████████████████████████████████████████▊                                                       | 26.999999999999908/50 [1:38:34<49:16, 128.56s/it]"
     ]
    },
    {
     "name": "stdout",
     "output_type": "stream",
     "text": [
      "\n",
      "Test Epoch: 37\tAccuracy: 3562/4064 (87%)\n",
      "\n"
     ]
    },
    {
     "name": "stderr",
     "output_type": "stream",
     "text": [
      " 54%|████████████████████████████████████████████████████████████████▎                                                      | 27.00206185567001/50 [1:38:35<1:04:27, 168.18s/it]"
     ]
    },
    {
     "name": "stdout",
     "output_type": "stream",
     "text": [
      "Train Epoch: 38 [0/11481 (0%)]\tLoss: 0.049162\n",
      "Mem before-during-after: 21596672 4334000128 21483008\n"
     ]
    },
    {
     "name": "stderr",
     "output_type": "stream",
     "text": [
      " 54%|███████████████████████████████████████████████████████████████▉                                                      | 27.084536082474134/50 [1:38:56<1:40:32, 263.24s/it]"
     ]
    },
    {
     "name": "stdout",
     "output_type": "stream",
     "text": [
      "Train Epoch: 38 [1280/11481 (11%)]\tLoss: 0.054960\n",
      "Mem before-during-after: 21483008 4332337152 21483008\n"
     ]
    },
    {
     "name": "stderr",
     "output_type": "stream",
     "text": [
      " 54%|████████████████████████████████████████████████████████████████                                                      | 27.167010309278258/50 [1:39:18<1:40:29, 264.08s/it]"
     ]
    },
    {
     "name": "stdout",
     "output_type": "stream",
     "text": [
      "Train Epoch: 38 [2560/11481 (22%)]\tLoss: 0.289534\n",
      "Mem before-during-after: 21483008 4332337152 21483008\n"
     ]
    },
    {
     "name": "stderr",
     "output_type": "stream",
     "text": [
      " 54%|████████████████████████████████████████████████████████████████▊                                                      | 27.24948453608238/50 [1:39:39<1:40:31, 265.12s/it]"
     ]
    },
    {
     "name": "stdout",
     "output_type": "stream",
     "text": [
      "Train Epoch: 38 [3840/11481 (34%)]\tLoss: 0.003104\n",
      "Mem before-during-after: 21483008 4332337152 21483008\n"
     ]
    },
    {
     "name": "stderr",
     "output_type": "stream",
     "text": [
      " 55%|████████████████████████████████████████████████████████████████▌                                                     | 27.331958762886504/50 [1:40:00<1:38:58, 261.97s/it]"
     ]
    },
    {
     "name": "stdout",
     "output_type": "stream",
     "text": [
      "Train Epoch: 38 [5120/11481 (45%)]\tLoss: 0.742183\n",
      "Mem before-during-after: 21483008 4332337152 21483008\n"
     ]
    },
    {
     "name": "stderr",
     "output_type": "stream",
     "text": [
      " 55%|████████████████████████████████████████████████████████████████▋                                                     | 27.414432989690628/50 [1:40:22<1:38:19, 261.21s/it]"
     ]
    },
    {
     "name": "stdout",
     "output_type": "stream",
     "text": [
      "Train Epoch: 38 [6400/11481 (56%)]\tLoss: 0.147334\n",
      "Mem before-during-after: 21483008 4332337152 21483008\n"
     ]
    },
    {
     "name": "stderr",
     "output_type": "stream",
     "text": [
      " 55%|█████████████████████████████████████████████████████████████████▍                                                     | 27.49690721649475/50 [1:40:43<1:38:08, 261.70s/it]"
     ]
    },
    {
     "name": "stdout",
     "output_type": "stream",
     "text": [
      "Train Epoch: 38 [7680/11481 (67%)]\tLoss: 0.091133\n",
      "Mem before-during-after: 21483008 4332337152 21483008\n"
     ]
    },
    {
     "name": "stderr",
     "output_type": "stream",
     "text": [
      " 55%|█████████████████████████████████████████████████████████████████                                                     | 27.579381443298875/50 [1:41:04<1:38:09, 262.68s/it]"
     ]
    },
    {
     "name": "stdout",
     "output_type": "stream",
     "text": [
      "Train Epoch: 38 [8960/11481 (78%)]\tLoss: 0.072557\n",
      "Mem before-during-after: 21483008 4332337152 21483008\n"
     ]
    },
    {
     "name": "stderr",
     "output_type": "stream",
     "text": [
      " 55%|█████████████████████████████████████████████████████████████████▎                                                    | 27.661855670102998/50 [1:41:26<1:37:27, 261.77s/it]"
     ]
    },
    {
     "name": "stdout",
     "output_type": "stream",
     "text": [
      "Train Epoch: 38 [10240/11481 (89%)]\tLoss: 0.492578\n",
      "Mem before-during-after: 21483008 4332337152 21483008\n"
     ]
    },
    {
     "name": "stderr",
     "output_type": "stream",
     "text": [
      " 56%|███████████████████████████████████████████████████████████████████▏                                                    | 27.999999999999904/50 [1:42:19<47:15, 128.87s/it]"
     ]
    },
    {
     "name": "stdout",
     "output_type": "stream",
     "text": [
      "\n",
      "Test Epoch: 38\tAccuracy: 3561/4064 (87%)\n",
      "\n"
     ]
    },
    {
     "name": "stderr",
     "output_type": "stream",
     "text": [
      " 56%|██████████████████████████████████████████████████████████████████                                                    | 28.002061855670007/50 [1:42:19<1:01:45, 168.47s/it]"
     ]
    },
    {
     "name": "stdout",
     "output_type": "stream",
     "text": [
      "Train Epoch: 39 [0/11481 (0%)]\tLoss: 0.022986\n",
      "Mem before-during-after: 21596672 4334000128 21483008\n"
     ]
    },
    {
     "name": "stderr",
     "output_type": "stream",
     "text": [
      " 56%|██████████████████████████████████████████████████████████████████▊                                                    | 28.08453608247413/50 [1:42:41<1:36:17, 263.65s/it]"
     ]
    },
    {
     "name": "stdout",
     "output_type": "stream",
     "text": [
      "Train Epoch: 39 [1280/11481 (11%)]\tLoss: 0.042186\n",
      "Mem before-during-after: 21483008 4332337152 21483008\n"
     ]
    },
    {
     "name": "stderr",
     "output_type": "stream",
     "text": [
      " 56%|██████████████████████████████████████████████████████████████████▍                                                   | 28.167010309278254/50 [1:43:02<1:35:11, 261.61s/it]"
     ]
    },
    {
     "name": "stdout",
     "output_type": "stream",
     "text": [
      "Train Epoch: 39 [2560/11481 (22%)]\tLoss: 0.149364\n",
      "Mem before-during-after: 21483008 4332337152 21483008\n"
     ]
    },
    {
     "name": "stderr",
     "output_type": "stream",
     "text": [
      " 56%|██████████████████████████████████████████████████████████████████▋                                                   | 28.249484536082377/50 [1:43:23<1:35:35, 263.72s/it]"
     ]
    },
    {
     "name": "stdout",
     "output_type": "stream",
     "text": [
      "Train Epoch: 39 [3840/11481 (34%)]\tLoss: 0.002461\n",
      "Mem before-during-after: 21483008 4332337152 21483008\n"
     ]
    },
    {
     "name": "stderr",
     "output_type": "stream",
     "text": [
      " 57%|███████████████████████████████████████████████████████████████████▉                                                    | 28.3319587628865/50 [1:43:44<1:34:22, 261.31s/it]"
     ]
    },
    {
     "name": "stdout",
     "output_type": "stream",
     "text": [
      "Train Epoch: 39 [5120/11481 (45%)]\tLoss: 0.650799\n",
      "Mem before-during-after: 21483008 4332337152 21483008\n"
     ]
    },
    {
     "name": "stderr",
     "output_type": "stream",
     "text": [
      " 57%|███████████████████████████████████████████████████████████████████                                                   | 28.414432989690624/50 [1:44:06<1:34:53, 263.77s/it]"
     ]
    },
    {
     "name": "stdout",
     "output_type": "stream",
     "text": [
      "Train Epoch: 39 [6400/11481 (56%)]\tLoss: 0.143459\n",
      "Mem before-during-after: 21483008 4332337152 21483008\n"
     ]
    },
    {
     "name": "stderr",
     "output_type": "stream",
     "text": [
      " 57%|███████████████████████████████████████████████████████████████████▎                                                  | 28.496907216494748/50 [1:44:27<1:34:06, 262.57s/it]"
     ]
    },
    {
     "name": "stdout",
     "output_type": "stream",
     "text": [
      "Train Epoch: 39 [7680/11481 (67%)]\tLoss: 0.120630\n",
      "Mem before-during-after: 21483008 4332337152 21483008\n"
     ]
    },
    {
     "name": "stderr",
     "output_type": "stream",
     "text": [
      " 57%|████████████████████████████████████████████████████████████████████                                                   | 28.57938144329887/50 [1:44:48<1:33:27, 261.77s/it]"
     ]
    },
    {
     "name": "stdout",
     "output_type": "stream",
     "text": [
      "Train Epoch: 39 [8960/11481 (78%)]\tLoss: 0.081133\n",
      "Mem before-during-after: 21483008 4332337152 21483008\n"
     ]
    },
    {
     "name": "stderr",
     "output_type": "stream",
     "text": [
      " 57%|███████████████████████████████████████████████████████████████████▋                                                  | 28.661855670102995/50 [1:45:09<1:33:27, 262.79s/it]"
     ]
    },
    {
     "name": "stdout",
     "output_type": "stream",
     "text": [
      "Train Epoch: 39 [10240/11481 (89%)]\tLoss: 0.654337\n",
      "Mem before-during-after: 21483008 4332337152 21483008\n"
     ]
    },
    {
     "name": "stderr",
     "output_type": "stream",
     "text": [
      " 58%|██████████████████████████████████████████████████████████████████████▊                                                   | 28.9999999999999/50 [1:46:02<44:13, 126.34s/it]"
     ]
    },
    {
     "name": "stdout",
     "output_type": "stream",
     "text": [
      "\n",
      "Test Epoch: 39\tAccuracy: 3548/4064 (87%)\n",
      "\n"
     ]
    },
    {
     "name": "stderr",
     "output_type": "stream",
     "text": [
      " 58%|█████████████████████████████████████████████████████████████████████▌                                                  | 29.002061855670004/50 [1:46:03<58:09, 166.17s/it]"
     ]
    },
    {
     "name": "stdout",
     "output_type": "stream",
     "text": [
      "Train Epoch: 40 [0/11481 (0%)]\tLoss: 0.042481\n",
      "Mem before-during-after: 21596672 4334000128 21483008\n"
     ]
    },
    {
     "name": "stderr",
     "output_type": "stream",
     "text": [
      " 58%|████████████████████████████████████████████████████████████████████▋                                                 | 29.084536082474127/50 [1:46:24<1:31:45, 263.21s/it]"
     ]
    },
    {
     "name": "stdout",
     "output_type": "stream",
     "text": [
      "Train Epoch: 40 [1280/11481 (11%)]\tLoss: 0.021289\n",
      "Mem before-during-after: 21483008 4332337152 21483008\n"
     ]
    },
    {
     "name": "stderr",
     "output_type": "stream",
     "text": [
      " 58%|█████████████████████████████████████████████████████████████████████▍                                                 | 29.16701030927825/50 [1:46:45<1:32:16, 265.74s/it]"
     ]
    },
    {
     "name": "stdout",
     "output_type": "stream",
     "text": [
      "Train Epoch: 40 [2560/11481 (22%)]\tLoss: 0.158071\n",
      "Mem before-during-after: 21483008 4332337152 21483008\n"
     ]
    },
    {
     "name": "stderr",
     "output_type": "stream",
     "text": [
      " 58%|█████████████████████████████████████████████████████████████████████                                                 | 29.249484536082374/50 [1:47:07<1:31:05, 263.39s/it]"
     ]
    },
    {
     "name": "stdout",
     "output_type": "stream",
     "text": [
      "Train Epoch: 40 [3840/11481 (34%)]\tLoss: 0.001543\n",
      "Mem before-during-after: 21483008 4332337152 21483008\n"
     ]
    },
    {
     "name": "stderr",
     "output_type": "stream",
     "text": [
      " 59%|█████████████████████████████████████████████████████████████████████▏                                                | 29.331958762886497/50 [1:47:28<1:31:01, 264.27s/it]"
     ]
    },
    {
     "name": "stdout",
     "output_type": "stream",
     "text": [
      "Train Epoch: 40 [5120/11481 (45%)]\tLoss: 0.649024\n",
      "Mem before-during-after: 21483008 4332337152 21483008\n"
     ]
    },
    {
     "name": "stderr",
     "output_type": "stream",
     "text": [
      " 59%|██████████████████████████████████████████████████████████████████████                                                 | 29.41443298969062/50 [1:47:49<1:29:57, 262.21s/it]"
     ]
    },
    {
     "name": "stdout",
     "output_type": "stream",
     "text": [
      "Train Epoch: 40 [6400/11481 (56%)]\tLoss: 0.147900\n",
      "Mem before-during-after: 21483008 4332337152 21483008\n"
     ]
    },
    {
     "name": "stderr",
     "output_type": "stream",
     "text": [
      " 59%|█████████████████████████████████████████████████████████████████████▌                                                | 29.496907216494744/50 [1:48:10<1:29:35, 262.17s/it]"
     ]
    },
    {
     "name": "stdout",
     "output_type": "stream",
     "text": [
      "Train Epoch: 40 [7680/11481 (67%)]\tLoss: 0.133597\n",
      "Mem before-during-after: 21483008 4332337152 21483008\n"
     ]
    },
    {
     "name": "stderr",
     "output_type": "stream",
     "text": [
      " 59%|█████████████████████████████████████████████████████████████████████▊                                                | 29.579381443298868/50 [1:48:32<1:31:27, 268.71s/it]"
     ]
    },
    {
     "name": "stdout",
     "output_type": "stream",
     "text": [
      "Train Epoch: 40 [8960/11481 (78%)]\tLoss: 0.061162\n",
      "Mem before-during-after: 21483008 4332337152 21483008\n"
     ]
    },
    {
     "name": "stderr",
     "output_type": "stream",
     "text": [
      " 59%|██████████████████████████████████████████████████████████████████████▌                                                | 29.66185567010299/50 [1:48:53<1:28:49, 262.03s/it]"
     ]
    },
    {
     "name": "stdout",
     "output_type": "stream",
     "text": [
      "Train Epoch: 40 [10240/11481 (89%)]\tLoss: 0.458601\n",
      "Mem before-during-after: 21483008 4332337152 21483008\n"
     ]
    },
    {
     "name": "stderr",
     "output_type": "stream",
     "text": [
      " 60%|███████████████████████████████████████████████████████████████████████▉                                                | 29.999999999999897/50 [1:49:46<44:43, 134.19s/it]"
     ]
    },
    {
     "name": "stdout",
     "output_type": "stream",
     "text": [
      "\n",
      "Test Epoch: 40\tAccuracy: 3576/4064 (87%)\n",
      "\n"
     ]
    },
    {
     "name": "stderr",
     "output_type": "stream",
     "text": [
      " 60%|██████████████████████████████████████████████████████████████████████████▍                                                 | 30.00206185567/50 [1:49:47<57:08, 171.46s/it]"
     ]
    },
    {
     "name": "stdout",
     "output_type": "stream",
     "text": [
      "Train Epoch: 41 [0/11481 (0%)]\tLoss: 0.022444\n",
      "Mem before-during-after: 21596672 4334000128 21483008\n"
     ]
    },
    {
     "name": "stderr",
     "output_type": "stream",
     "text": [
      " 60%|██████████████████████████████████████████████████████████████████████▉                                               | 30.084536082474123/50 [1:50:08<1:26:36, 260.94s/it]"
     ]
    },
    {
     "name": "stdout",
     "output_type": "stream",
     "text": [
      "Train Epoch: 41 [1280/11481 (11%)]\tLoss: 0.058860\n",
      "Mem before-during-after: 21483008 4332337152 21483008\n"
     ]
    },
    {
     "name": "stderr",
     "output_type": "stream",
     "text": [
      " 60%|███████████████████████████████████████████████████████████████████████▏                                              | 30.167010309278247/50 [1:50:29<1:26:38, 262.10s/it]"
     ]
    },
    {
     "name": "stdout",
     "output_type": "stream",
     "text": [
      "Train Epoch: 41 [2560/11481 (22%)]\tLoss: 0.199967\n",
      "Mem before-during-after: 21483008 4332337152 21483008\n"
     ]
    },
    {
     "name": "stderr",
     "output_type": "stream",
     "text": [
      " 60%|███████████████████████████████████████████████████████████████████████▉                                               | 30.24948453608237/50 [1:50:50<1:26:11, 261.83s/it]"
     ]
    },
    {
     "name": "stdout",
     "output_type": "stream",
     "text": [
      "Train Epoch: 41 [3840/11481 (34%)]\tLoss: 0.003678\n",
      "Mem before-during-after: 21483008 4332337152 21483008\n"
     ]
    },
    {
     "name": "stderr",
     "output_type": "stream",
     "text": [
      " 61%|███████████████████████████████████████████████████████████████████████▌                                              | 30.331958762886494/50 [1:51:12<1:28:00, 268.50s/it]"
     ]
    },
    {
     "name": "stdout",
     "output_type": "stream",
     "text": [
      "Train Epoch: 41 [5120/11481 (45%)]\tLoss: 0.684393\n",
      "Mem before-during-after: 21483008 4332337152 21483008\n"
     ]
    },
    {
     "name": "stderr",
     "output_type": "stream",
     "text": [
      " 61%|███████████████████████████████████████████████████████████████████████▊                                              | 30.414432989690617/50 [1:51:33<1:25:54, 263.16s/it]"
     ]
    },
    {
     "name": "stdout",
     "output_type": "stream",
     "text": [
      "Train Epoch: 41 [6400/11481 (56%)]\tLoss: 0.157289\n",
      "Mem before-during-after: 21483008 4332337152 21483008\n"
     ]
    },
    {
     "name": "stderr",
     "output_type": "stream",
     "text": [
      " 61%|████████████████████████████████████████████████████████████████████████▌                                              | 30.49690721649474/50 [1:51:54<1:25:52, 264.18s/it]"
     ]
    },
    {
     "name": "stdout",
     "output_type": "stream",
     "text": [
      "Train Epoch: 41 [7680/11481 (67%)]\tLoss: 0.165556\n",
      "Mem before-during-after: 21483008 4332337152 21483008\n"
     ]
    },
    {
     "name": "stderr",
     "output_type": "stream",
     "text": [
      " 61%|████████████████████████████████████████████████████████████████████████▏                                             | 30.579381443298864/50 [1:52:16<1:24:28, 261.00s/it]"
     ]
    },
    {
     "name": "stdout",
     "output_type": "stream",
     "text": [
      "Train Epoch: 41 [8960/11481 (78%)]\tLoss: 0.077731\n",
      "Mem before-during-after: 21483008 4332337152 21483008\n"
     ]
    },
    {
     "name": "stderr",
     "output_type": "stream",
     "text": [
      " 61%|████████████████████████████████████████████████████████████████████████▎                                             | 30.661855670102987/50 [1:52:37<1:24:53, 263.38s/it]"
     ]
    },
    {
     "name": "stdout",
     "output_type": "stream",
     "text": [
      "Train Epoch: 41 [10240/11481 (89%)]\tLoss: 0.485116\n",
      "Mem before-during-after: 21483008 4332337152 21483008\n"
     ]
    },
    {
     "name": "stderr",
     "output_type": "stream",
     "text": [
      " 62%|██████████████████████████████████████████████████████████████████████████▍                                             | 30.999999999999893/50 [1:53:30<39:55, 126.06s/it]"
     ]
    },
    {
     "name": "stdout",
     "output_type": "stream",
     "text": [
      "\n",
      "Test Epoch: 41\tAccuracy: 3576/4064 (87%)\n",
      "\n"
     ]
    },
    {
     "name": "stderr",
     "output_type": "stream",
     "text": [
      " 62%|██████████████████████████████████████████████████████████████████████████▍                                             | 31.002061855669997/50 [1:53:31<52:43, 166.53s/it]"
     ]
    },
    {
     "name": "stdout",
     "output_type": "stream",
     "text": [
      "Train Epoch: 42 [0/11481 (0%)]\tLoss: 0.021409\n",
      "Mem before-during-after: 21596672 4334000128 21483008\n"
     ]
    },
    {
     "name": "stderr",
     "output_type": "stream",
     "text": [
      " 62%|█████████████████████████████████████████████████████████████████████████▉                                             | 31.08453608247412/50 [1:53:52<1:24:30, 268.06s/it]"
     ]
    },
    {
     "name": "stdout",
     "output_type": "stream",
     "text": [
      "Train Epoch: 42 [1280/11481 (11%)]\tLoss: 0.048347\n",
      "Mem before-during-after: 21483008 4332337152 21483008\n"
     ]
    },
    {
     "name": "stderr",
     "output_type": "stream",
     "text": [
      " 62%|█████████████████████████████████████████████████████████████████████████▌                                            | 31.167010309278243/50 [1:54:13<1:22:54, 264.15s/it]"
     ]
    },
    {
     "name": "stdout",
     "output_type": "stream",
     "text": [
      "Train Epoch: 42 [2560/11481 (22%)]\tLoss: 0.224813\n",
      "Mem before-during-after: 21483008 4332337152 21483008\n"
     ]
    },
    {
     "name": "stderr",
     "output_type": "stream",
     "text": [
      " 62%|█████████████████████████████████████████████████████████████████████████▋                                            | 31.249484536082367/50 [1:54:34<1:22:31, 264.07s/it]"
     ]
    },
    {
     "name": "stdout",
     "output_type": "stream",
     "text": [
      "Train Epoch: 42 [3840/11481 (34%)]\tLoss: 0.003435\n",
      "Mem before-during-after: 21483008 4332337152 21483008\n"
     ]
    },
    {
     "name": "stderr",
     "output_type": "stream",
     "text": [
      " 63%|██████████████████████████████████████████████████████████████████████████▌                                            | 31.33195876288649/50 [1:54:56<1:31:47, 295.04s/it]"
     ]
    },
    {
     "name": "stdout",
     "output_type": "stream",
     "text": [
      "Train Epoch: 42 [5120/11481 (45%)]\tLoss: 0.788047\n",
      "Mem before-during-after: 21483008 4332337152 21483008\n"
     ]
    },
    {
     "name": "stderr",
     "output_type": "stream",
     "text": [
      " 63%|██████████████████████████████████████████████████████████████████████████▏                                           | 31.414432989690614/50 [1:55:17<1:21:27, 263.00s/it]"
     ]
    },
    {
     "name": "stdout",
     "output_type": "stream",
     "text": [
      "Train Epoch: 42 [6400/11481 (56%)]\tLoss: 0.143693\n",
      "Mem before-during-after: 21483008 4332337152 21483008\n"
     ]
    },
    {
     "name": "stderr",
     "output_type": "stream",
     "text": [
      " 63%|██████████████████████████████████████████████████████████████████████████▎                                           | 31.496907216494737/50 [1:55:39<1:20:47, 261.97s/it]"
     ]
    },
    {
     "name": "stdout",
     "output_type": "stream",
     "text": [
      "Train Epoch: 42 [7680/11481 (67%)]\tLoss: 0.094343\n",
      "Mem before-during-after: 21483008 4332337152 21483008\n"
     ]
    },
    {
     "name": "stderr",
     "output_type": "stream",
     "text": [
      " 63%|███████████████████████████████████████████████████████████████████████████▏                                           | 31.57938144329886/50 [1:56:00<1:20:29, 262.21s/it]"
     ]
    },
    {
     "name": "stdout",
     "output_type": "stream",
     "text": [
      "Train Epoch: 42 [8960/11481 (78%)]\tLoss: 0.064199\n",
      "Mem before-during-after: 21483008 4332337152 21483008\n"
     ]
    },
    {
     "name": "stderr",
     "output_type": "stream",
     "text": [
      " 63%|██████████████████████████████████████████████████████████████████████████▋                                           | 31.661855670102984/50 [1:56:22<1:20:31, 263.44s/it]"
     ]
    },
    {
     "name": "stdout",
     "output_type": "stream",
     "text": [
      "Train Epoch: 42 [10240/11481 (89%)]\tLoss: 0.385490\n",
      "Mem before-during-after: 21483008 4332337152 21483008\n"
     ]
    },
    {
     "name": "stderr",
     "output_type": "stream",
     "text": [
      " 64%|█████████████████████████████████████████████████████████████████████████████▍                                           | 31.99999999999989/50 [1:57:15<38:07, 127.06s/it]"
     ]
    },
    {
     "name": "stdout",
     "output_type": "stream",
     "text": [
      "\n",
      "Test Epoch: 42\tAccuracy: 3548/4064 (87%)\n",
      "\n"
     ]
    },
    {
     "name": "stderr",
     "output_type": "stream",
     "text": [
      " 64%|█████████████████████████████████████████████████████████████████████████████▍                                           | 32.00206185566999/50 [1:57:15<50:04, 166.94s/it]"
     ]
    },
    {
     "name": "stdout",
     "output_type": "stream",
     "text": [
      "Train Epoch: 43 [0/11481 (0%)]\tLoss: 0.036978\n",
      "Mem before-during-after: 21596672 4334000128 21483008\n"
     ]
    },
    {
     "name": "stderr",
     "output_type": "stream",
     "text": [
      " 64%|████████████████████████████████████████████████████████████████████████████▎                                          | 32.08453608247426/50 [1:57:37<1:18:34, 263.15s/it]"
     ]
    },
    {
     "name": "stdout",
     "output_type": "stream",
     "text": [
      "Train Epoch: 43 [1280/11481 (11%)]\tLoss: 0.026922\n",
      "Mem before-during-after: 21483008 4332337152 21483008\n"
     ]
    },
    {
     "name": "stderr",
     "output_type": "stream",
     "text": [
      " 64%|███████████████████████████████████████████████████████████████████████████▉                                          | 32.167010309278524/50 [1:57:58<1:17:32, 260.88s/it]"
     ]
    },
    {
     "name": "stdout",
     "output_type": "stream",
     "text": [
      "Train Epoch: 43 [2560/11481 (22%)]\tLoss: 0.171886\n",
      "Mem before-during-after: 21483008 4332337152 21483008\n"
     ]
    },
    {
     "name": "stderr",
     "output_type": "stream",
     "text": [
      " 64%|████████████████████████████████████████████████████████████████████████████▊                                          | 32.24948453608279/50 [1:58:19<1:17:16, 261.18s/it]"
     ]
    },
    {
     "name": "stdout",
     "output_type": "stream",
     "text": [
      "Train Epoch: 43 [3840/11481 (34%)]\tLoss: 0.002337\n",
      "Mem before-during-after: 21483008 4332337152 21483008\n"
     ]
    },
    {
     "name": "stderr",
     "output_type": "stream",
     "text": [
      " 65%|████████████████████████████████████████████████████████████████████████████▎                                         | 32.331958762887055/50 [1:58:41<1:19:27, 269.81s/it]"
     ]
    },
    {
     "name": "stdout",
     "output_type": "stream",
     "text": [
      "Train Epoch: 43 [5120/11481 (45%)]\tLoss: 0.619777\n",
      "Mem before-during-after: 21483008 4332337152 21483008\n"
     ]
    },
    {
     "name": "stderr",
     "output_type": "stream",
     "text": [
      " 65%|█████████████████████████████████████████████████████████████████████████████▏                                         | 32.41443298969132/50 [1:59:02<1:16:58, 262.61s/it]"
     ]
    },
    {
     "name": "stdout",
     "output_type": "stream",
     "text": [
      "Train Epoch: 43 [6400/11481 (56%)]\tLoss: 0.155908\n",
      "Mem before-during-after: 21483008 4332337152 21483008\n"
     ]
    },
    {
     "name": "stderr",
     "output_type": "stream",
     "text": [
      " 65%|████████████████████████████████████████████████████████████████████████████▋                                         | 32.496907216495586/50 [1:59:23<1:16:24, 261.91s/it]"
     ]
    },
    {
     "name": "stdout",
     "output_type": "stream",
     "text": [
      "Train Epoch: 43 [7680/11481 (67%)]\tLoss: 0.099482\n",
      "Mem before-during-after: 21483008 4332337152 21483008\n"
     ]
    },
    {
     "name": "stderr",
     "output_type": "stream",
     "text": [
      " 65%|█████████████████████████████████████████████████████████████████████████████▌                                         | 32.57938144329985/50 [1:59:44<1:16:58, 265.14s/it]"
     ]
    },
    {
     "name": "stdout",
     "output_type": "stream",
     "text": [
      "Train Epoch: 43 [8960/11481 (78%)]\tLoss: 0.061318\n",
      "Mem before-during-after: 21483008 4332337152 21483008\n"
     ]
    },
    {
     "name": "stderr",
     "output_type": "stream",
     "text": [
      " 65%|█████████████████████████████████████████████████████████████████████████████▋                                         | 32.66185567010412/50 [2:00:06<1:16:13, 263.77s/it]"
     ]
    },
    {
     "name": "stdout",
     "output_type": "stream",
     "text": [
      "Train Epoch: 43 [10240/11481 (89%)]\tLoss: 0.546742\n",
      "Mem before-during-after: 21483008 4332337152 21483008\n"
     ]
    },
    {
     "name": "stderr",
     "output_type": "stream",
     "text": [
      " 66%|███████████████████████████████████████████████████████████████████████████████▏                                        | 33.000000000001606/50 [2:00:59<39:40, 140.03s/it]"
     ]
    },
    {
     "name": "stdout",
     "output_type": "stream",
     "text": [
      "\n",
      "Test Epoch: 43\tAccuracy: 3561/4064 (87%)\n",
      "\n"
     ]
    },
    {
     "name": "stderr",
     "output_type": "stream",
     "text": [
      " 66%|███████████████████████████████████████████████████████████████████████████████▊                                         | 33.00206185567171/50 [2:00:59<50:04, 176.77s/it]"
     ]
    },
    {
     "name": "stdout",
     "output_type": "stream",
     "text": [
      "Train Epoch: 44 [0/11481 (0%)]\tLoss: 0.019139\n",
      "Mem before-during-after: 21596672 4334000128 21483008\n"
     ]
    },
    {
     "name": "stderr",
     "output_type": "stream",
     "text": [
      " 66%|██████████████████████████████████████████████████████████████████████████████▋                                        | 33.08453608247598/50 [2:01:21<1:14:51, 265.50s/it]"
     ]
    },
    {
     "name": "stdout",
     "output_type": "stream",
     "text": [
      "Train Epoch: 44 [1280/11481 (11%)]\tLoss: 0.054078\n",
      "Mem before-during-after: 21483008 4332337152 21483008\n"
     ]
    },
    {
     "name": "stderr",
     "output_type": "stream",
     "text": [
      " 66%|██████████████████████████████████████████████████████████████████████████████▉                                        | 33.16701030928024/50 [2:01:42<1:13:35, 262.33s/it]"
     ]
    },
    {
     "name": "stdout",
     "output_type": "stream",
     "text": [
      "Train Epoch: 44 [2560/11481 (22%)]\tLoss: 0.218147\n",
      "Mem before-during-after: 21483008 4332337152 21483008\n"
     ]
    },
    {
     "name": "stderr",
     "output_type": "stream",
     "text": [
      " 66%|███████████████████████████████████████████████████████████████████████████████▏                                       | 33.24948453608451/50 [2:02:03<1:13:21, 262.77s/it]"
     ]
    },
    {
     "name": "stdout",
     "output_type": "stream",
     "text": [
      "Train Epoch: 44 [3840/11481 (34%)]\tLoss: 0.003353\n",
      "Mem before-during-after: 21483008 4332337152 21483008\n"
     ]
    },
    {
     "name": "stderr",
     "output_type": "stream",
     "text": [
      " 67%|██████████████████████████████████████████████████████████████████████████████▋                                       | 33.331958762888775/50 [2:02:25<1:13:48, 265.72s/it]"
     ]
    },
    {
     "name": "stdout",
     "output_type": "stream",
     "text": [
      "Train Epoch: 44 [5120/11481 (45%)]\tLoss: 0.618787\n",
      "Mem before-during-after: 21483008 4332337152 21483008\n"
     ]
    },
    {
     "name": "stderr",
     "output_type": "stream",
     "text": [
      " 67%|███████████████████████████████████████████████████████████████████████████████▌                                       | 33.41443298969304/50 [2:02:46<1:12:38, 262.77s/it]"
     ]
    },
    {
     "name": "stdout",
     "output_type": "stream",
     "text": [
      "Train Epoch: 44 [6400/11481 (56%)]\tLoss: 0.136018\n",
      "Mem before-during-after: 21483008 4332337152 21483008\n"
     ]
    },
    {
     "name": "stderr",
     "output_type": "stream",
     "text": [
      " 67%|███████████████████████████████████████████████████████████████████████████████                                       | 33.496907216497306/50 [2:03:07<1:12:32, 263.73s/it]"
     ]
    },
    {
     "name": "stdout",
     "output_type": "stream",
     "text": [
      "Train Epoch: 44 [7680/11481 (67%)]\tLoss: 0.097768\n",
      "Mem before-during-after: 21483008 4332337152 21483008\n"
     ]
    },
    {
     "name": "stderr",
     "output_type": "stream",
     "text": [
      " 67%|███████████████████████████████████████████████████████████████████████████████▉                                       | 33.57938144330157/50 [2:03:29<1:11:29, 261.20s/it]"
     ]
    },
    {
     "name": "stdout",
     "output_type": "stream",
     "text": [
      "Train Epoch: 44 [8960/11481 (78%)]\tLoss: 0.069730\n",
      "Mem before-during-after: 21483008 4332337152 21483008\n"
     ]
    },
    {
     "name": "stderr",
     "output_type": "stream",
     "text": [
      " 67%|████████████████████████████████████████████████████████████████████████████████                                       | 33.66185567010584/50 [2:03:49<1:07:15, 247.00s/it]"
     ]
    },
    {
     "name": "stdout",
     "output_type": "stream",
     "text": [
      "Train Epoch: 44 [10240/11481 (89%)]\tLoss: 0.674260\n",
      "Mem before-during-after: 21483008 4332337152 21483008\n"
     ]
    },
    {
     "name": "stderr",
     "output_type": "stream",
     "text": [
      " 68%|█████████████████████████████████████████████████████████████████████████████████▌                                      | 34.000000000003325/50 [2:04:37<30:35, 114.69s/it]"
     ]
    },
    {
     "name": "stdout",
     "output_type": "stream",
     "text": [
      "\n",
      "Test Epoch: 44\tAccuracy: 3541/4064 (87%)\n",
      "\n"
     ]
    },
    {
     "name": "stderr",
     "output_type": "stream",
     "text": [
      " 68%|██████████████████████████████████████████████████████████████████████████████████▎                                      | 34.00206185567343/50 [2:04:37<40:19, 151.23s/it]"
     ]
    },
    {
     "name": "stdout",
     "output_type": "stream",
     "text": [
      "Train Epoch: 45 [0/11481 (0%)]\tLoss: 0.046185\n",
      "Mem before-during-after: 21596672 4334000128 21483008\n"
     ]
    },
    {
     "name": "stderr",
     "output_type": "stream",
     "text": [
      " 68%|█████████████████████████████████████████████████████████████████████████████████▊                                      | 34.0845360824777/50 [2:04:57<1:05:30, 246.98s/it]"
     ]
    },
    {
     "name": "stdout",
     "output_type": "stream",
     "text": [
      "Train Epoch: 45 [1280/11481 (11%)]\tLoss: 0.040575\n",
      "Mem before-during-after: 21483008 4332337152 21483008\n"
     ]
    },
    {
     "name": "stderr",
     "output_type": "stream",
     "text": [
      " 68%|█████████████████████████████████████████████████████████████████████████████████▎                                     | 34.16701030928196/50 [2:05:17<1:05:14, 247.25s/it]"
     ]
    },
    {
     "name": "stdout",
     "output_type": "stream",
     "text": [
      "Train Epoch: 45 [2560/11481 (22%)]\tLoss: 0.146971\n",
      "Mem before-during-after: 21483008 4332337152 21483008\n"
     ]
    },
    {
     "name": "stderr",
     "output_type": "stream",
     "text": [
      " 68%|█████████████████████████████████████████████████████████████████████████████████▌                                     | 34.24948453608623/50 [2:05:37<1:04:52, 247.16s/it]"
     ]
    },
    {
     "name": "stdout",
     "output_type": "stream",
     "text": [
      "Train Epoch: 45 [3840/11481 (34%)]\tLoss: 0.002988\n",
      "Mem before-during-after: 21483008 4332337152 21483008\n"
     ]
    },
    {
     "name": "stderr",
     "output_type": "stream",
     "text": [
      " 69%|█████████████████████████████████████████████████████████████████████████████████                                     | 34.331958762890494/50 [2:05:57<1:08:23, 261.92s/it]"
     ]
    },
    {
     "name": "stdout",
     "output_type": "stream",
     "text": [
      "Train Epoch: 45 [5120/11481 (45%)]\tLoss: 0.621379\n",
      "Mem before-during-after: 21483008 4332337152 21483008\n"
     ]
    },
    {
     "name": "stderr",
     "output_type": "stream",
     "text": [
      " 69%|█████████████████████████████████████████████████████████████████████████████████▉                                     | 34.41443298969476/50 [2:06:18<1:08:25, 263.43s/it]"
     ]
    },
    {
     "name": "stdout",
     "output_type": "stream",
     "text": [
      "Train Epoch: 45 [6400/11481 (56%)]\tLoss: 0.135934\n",
      "Mem before-during-after: 21483008 4332337152 21483008\n"
     ]
    },
    {
     "name": "stderr",
     "output_type": "stream",
     "text": [
      " 69%|█████████████████████████████████████████████████████████████████████████████████▍                                    | 34.496907216499025/50 [2:06:39<1:07:55, 262.89s/it]"
     ]
    },
    {
     "name": "stdout",
     "output_type": "stream",
     "text": [
      "Train Epoch: 45 [7680/11481 (67%)]\tLoss: 0.102729\n",
      "Mem before-during-after: 21483008 4332337152 21483008\n"
     ]
    },
    {
     "name": "stderr",
     "output_type": "stream",
     "text": [
      " 69%|██████████████████████████████████████████████████████████████████████████████████▎                                    | 34.57938144330329/50 [2:07:01<1:08:09, 265.22s/it]"
     ]
    },
    {
     "name": "stdout",
     "output_type": "stream",
     "text": [
      "Train Epoch: 45 [8960/11481 (78%)]\tLoss: 0.081995\n",
      "Mem before-during-after: 21483008 4332337152 21483008\n"
     ]
    },
    {
     "name": "stderr",
     "output_type": "stream",
     "text": [
      " 69%|█████████████████████████████████████████████████████████████████████████████████▊                                    | 34.661855670107556/50 [2:07:22<1:07:23, 263.61s/it]"
     ]
    },
    {
     "name": "stdout",
     "output_type": "stream",
     "text": [
      "Train Epoch: 45 [10240/11481 (89%)]\tLoss: 0.832434\n",
      "Mem before-during-after: 21483008 4332337152 21483008\n"
     ]
    },
    {
     "name": "stderr",
     "output_type": "stream",
     "text": [
      " 70%|████████████████████████████████████████████████████████████████████████████████████                                    | 35.000000000005045/50 [2:08:16<31:01, 124.08s/it]"
     ]
    },
    {
     "name": "stdout",
     "output_type": "stream",
     "text": [
      "\n",
      "Test Epoch: 45\tAccuracy: 3559/4064 (87%)\n",
      "\n"
     ]
    },
    {
     "name": "stderr",
     "output_type": "stream",
     "text": [
      " 70%|████████████████████████████████████████████████████████████████████████████████████▋                                    | 35.00206185567515/50 [2:08:16<41:17, 165.18s/it]"
     ]
    },
    {
     "name": "stdout",
     "output_type": "stream",
     "text": [
      "Train Epoch: 46 [0/11481 (0%)]\tLoss: 0.010440\n",
      "Mem before-during-after: 21596672 4334000128 21483008\n"
     ]
    },
    {
     "name": "stderr",
     "output_type": "stream",
     "text": [
      " 70%|███████████████████████████████████████████████████████████████████████████████████▌                                   | 35.08453608247942/50 [2:08:38<1:05:33, 263.74s/it]"
     ]
    },
    {
     "name": "stdout",
     "output_type": "stream",
     "text": [
      "Train Epoch: 46 [1280/11481 (11%)]\tLoss: 0.028352\n",
      "Mem before-during-after: 21483008 4332337152 21483008\n"
     ]
    },
    {
     "name": "stderr",
     "output_type": "stream",
     "text": [
      " 70%|███████████████████████████████████████████████████████████████████████████████████▋                                   | 35.16701030928368/50 [2:08:59<1:05:08, 263.51s/it]"
     ]
    },
    {
     "name": "stdout",
     "output_type": "stream",
     "text": [
      "Train Epoch: 46 [2560/11481 (22%)]\tLoss: 0.242382\n",
      "Mem before-during-after: 21483008 4332337152 21483008\n"
     ]
    },
    {
     "name": "stderr",
     "output_type": "stream",
     "text": [
      " 70%|███████████████████████████████████████████████████████████████████████████████████▉                                   | 35.24948453608795/50 [2:09:20<1:05:01, 264.53s/it]"
     ]
    },
    {
     "name": "stdout",
     "output_type": "stream",
     "text": [
      "Train Epoch: 46 [3840/11481 (34%)]\tLoss: 0.002435\n",
      "Mem before-during-after: 21483008 4332337152 21483008\n"
     ]
    },
    {
     "name": "stderr",
     "output_type": "stream",
     "text": [
      " 71%|███████████████████████████████████████████████████████████████████████████████████▍                                  | 35.331958762892214/50 [2:09:42<1:07:24, 275.73s/it]"
     ]
    },
    {
     "name": "stdout",
     "output_type": "stream",
     "text": [
      "Train Epoch: 46 [5120/11481 (45%)]\tLoss: 0.742100\n",
      "Mem before-during-after: 21483008 4332337152 21483008\n"
     ]
    },
    {
     "name": "stderr",
     "output_type": "stream",
     "text": [
      " 71%|████████████████████████████████████████████████████████████████████████████████████▎                                  | 35.41443298969648/50 [2:10:03<1:04:39, 266.01s/it]"
     ]
    },
    {
     "name": "stdout",
     "output_type": "stream",
     "text": [
      "Train Epoch: 46 [6400/11481 (56%)]\tLoss: 0.124685\n",
      "Mem before-during-after: 21483008 4332337152 21483008\n"
     ]
    },
    {
     "name": "stderr",
     "output_type": "stream",
     "text": [
      " 71%|███████████████████████████████████████████████████████████████████████████████████▊                                  | 35.496907216500745/50 [2:10:25<1:03:52, 264.23s/it]"
     ]
    },
    {
     "name": "stdout",
     "output_type": "stream",
     "text": [
      "Train Epoch: 46 [7680/11481 (67%)]\tLoss: 0.092673\n",
      "Mem before-during-after: 21483008 4332337152 21483008\n"
     ]
    },
    {
     "name": "stderr",
     "output_type": "stream",
     "text": [
      " 71%|████████████████████████████████████████████████████████████████████████████████████▋                                  | 35.57938144330501/50 [2:10:46<1:04:09, 266.96s/it]"
     ]
    },
    {
     "name": "stdout",
     "output_type": "stream",
     "text": [
      "Train Epoch: 46 [8960/11481 (78%)]\tLoss: 0.071957\n",
      "Mem before-during-after: 21483008 4332337152 21483008\n"
     ]
    },
    {
     "name": "stderr",
     "output_type": "stream",
     "text": [
      " 71%|████████████████████████████████████████████████████████████████████████████████████▏                                 | 35.661855670109276/50 [2:11:07<1:03:14, 264.68s/it]"
     ]
    },
    {
     "name": "stdout",
     "output_type": "stream",
     "text": [
      "Train Epoch: 46 [10240/11481 (89%)]\tLoss: 0.124788\n",
      "Mem before-during-after: 21483008 4332337152 21483008\n"
     ]
    },
    {
     "name": "stderr",
     "output_type": "stream",
     "text": [
      " 72%|██████████████████████████████████████████████████████████████████████████████████████▍                                 | 36.000000000006764/50 [2:12:01<29:58, 128.48s/it]"
     ]
    },
    {
     "name": "stdout",
     "output_type": "stream",
     "text": [
      "\n",
      "Test Epoch: 46\tAccuracy: 3566/4064 (87%)\n",
      "\n"
     ]
    },
    {
     "name": "stderr",
     "output_type": "stream",
     "text": [
      " 72%|███████████████████████████████████████████████████████████████████████████████████████                                  | 36.00206185567687/50 [2:12:01<39:43, 170.27s/it]"
     ]
    },
    {
     "name": "stdout",
     "output_type": "stream",
     "text": [
      "Train Epoch: 47 [0/11481 (0%)]\tLoss: 0.012505\n",
      "Mem before-during-after: 21596672 4334000128 21483008\n"
     ]
    },
    {
     "name": "stderr",
     "output_type": "stream",
     "text": [
      " 72%|█████████████████████████████████████████████████████████████████████████████████████▉                                 | 36.08453608248114/50 [2:12:23<1:01:02, 263.20s/it]"
     ]
    },
    {
     "name": "stdout",
     "output_type": "stream",
     "text": [
      "Train Epoch: 47 [1280/11481 (11%)]\tLoss: 0.010675\n",
      "Mem before-during-after: 21483008 4332337152 21483008\n"
     ]
    },
    {
     "name": "stderr",
     "output_type": "stream",
     "text": [
      " 72%|██████████████████████████████████████████████████████████████████████████████████████▊                                 | 36.1670103092854/50 [2:12:44<1:00:42, 263.29s/it]"
     ]
    },
    {
     "name": "stdout",
     "output_type": "stream",
     "text": [
      "Train Epoch: 47 [2560/11481 (22%)]\tLoss: 0.196155\n",
      "Mem before-during-after: 21483008 4332337152 21483008\n"
     ]
    },
    {
     "name": "stderr",
     "output_type": "stream",
     "text": [
      " 72%|██████████████████████████████████████████████████████████████████████████████████████▎                                | 36.24948453608967/50 [2:13:05<1:00:02, 262.02s/it]"
     ]
    },
    {
     "name": "stdout",
     "output_type": "stream",
     "text": [
      "Train Epoch: 47 [3840/11481 (34%)]\tLoss: 0.016832\n",
      "Mem before-during-after: 21483008 4332337152 21483008\n"
     ]
    },
    {
     "name": "stderr",
     "output_type": "stream",
     "text": [
      " 73%|██████████████████████████████████████████████████████████████████████████████████████▍                                | 36.33195876289393/50 [2:13:26<1:00:16, 264.63s/it]"
     ]
    },
    {
     "name": "stdout",
     "output_type": "stream",
     "text": [
      "Train Epoch: 47 [5120/11481 (45%)]\tLoss: 0.739446\n",
      "Mem before-during-after: 21483008 4332337152 21483008\n"
     ]
    },
    {
     "name": "stderr",
     "output_type": "stream",
     "text": [
      " 73%|████████████████████████████████████████████████████████████████████████████████████████▊                                 | 36.4144329896982/50 [2:13:48<59:26, 262.53s/it]"
     ]
    },
    {
     "name": "stdout",
     "output_type": "stream",
     "text": [
      "Train Epoch: 47 [6400/11481 (56%)]\tLoss: 0.114514\n",
      "Mem before-during-after: 21483008 4332337152 21483008\n"
     ]
    },
    {
     "name": "stderr",
     "output_type": "stream",
     "text": [
      " 73%|███████████████████████████████████████████████████████████████████████████████████████▌                                | 36.496907216502464/50 [2:14:09<58:43, 260.97s/it]"
     ]
    },
    {
     "name": "stdout",
     "output_type": "stream",
     "text": [
      "Train Epoch: 47 [7680/11481 (67%)]\tLoss: 0.108181\n",
      "Mem before-during-after: 21483008 4332337152 21483008\n"
     ]
    },
    {
     "name": "stderr",
     "output_type": "stream",
     "text": [
      " 73%|████████████████████████████████████████████████████████████████████████████████████████▌                                | 36.57938144330673/50 [2:14:30<58:49, 263.00s/it]"
     ]
    },
    {
     "name": "stdout",
     "output_type": "stream",
     "text": [
      "Train Epoch: 47 [8960/11481 (78%)]\tLoss: 0.062411\n",
      "Mem before-during-after: 21483008 4332337152 21483008\n"
     ]
    },
    {
     "name": "stderr",
     "output_type": "stream",
     "text": [
      " 73%|███████████████████████████████████████████████████████████████████████████████████████▉                                | 36.661855670110995/50 [2:14:51<58:36, 263.62s/it]"
     ]
    },
    {
     "name": "stdout",
     "output_type": "stream",
     "text": [
      "Train Epoch: 47 [10240/11481 (89%)]\tLoss: 0.296122\n",
      "Mem before-during-after: 21483008 4332337152 21483008\n"
     ]
    },
    {
     "name": "stderr",
     "output_type": "stream",
     "text": [
      " 74%|████████████████████████████████████████████████████████████████████████████████████████▊                               | 37.000000000008484/50 [2:15:44<28:01, 129.36s/it]"
     ]
    },
    {
     "name": "stdout",
     "output_type": "stream",
     "text": [
      "\n",
      "Test Epoch: 47\tAccuracy: 3577/4064 (87%)\n",
      "\n"
     ]
    },
    {
     "name": "stderr",
     "output_type": "stream",
     "text": [
      " 74%|█████████████████████████████████████████████████████████████████████████████████████████▌                               | 37.00206185567859/50 [2:15:45<36:55, 170.48s/it]"
     ]
    },
    {
     "name": "stdout",
     "output_type": "stream",
     "text": [
      "Train Epoch: 48 [0/11481 (0%)]\tLoss: 0.013885\n",
      "Mem before-during-after: 21596672 4334000128 21483008\n"
     ]
    },
    {
     "name": "stderr",
     "output_type": "stream",
     "text": [
      " 74%|█████████████████████████████████████████████████████████████████████████████████████████                               | 37.084536082482856/50 [2:16:06<56:10, 260.97s/it]"
     ]
    },
    {
     "name": "stdout",
     "output_type": "stream",
     "text": [
      "Train Epoch: 48 [1280/11481 (11%)]\tLoss: 0.019212\n",
      "Mem before-during-after: 21483008 4332337152 21483008\n"
     ]
    },
    {
     "name": "stderr",
     "output_type": "stream",
     "text": [
      " 74%|█████████████████████████████████████████████████████████████████████████████████████████▉                               | 37.16701030928712/50 [2:16:27<56:07, 262.40s/it]"
     ]
    },
    {
     "name": "stdout",
     "output_type": "stream",
     "text": [
      "Train Epoch: 48 [2560/11481 (22%)]\tLoss: 0.244042\n",
      "Mem before-during-after: 21483008 4332337152 21483008\n"
     ]
    },
    {
     "name": "stderr",
     "output_type": "stream",
     "text": [
      " 74%|██████████████████████████████████████████████████████████████████████████████████████████▏                              | 37.24948453609139/50 [2:16:48<55:27, 260.98s/it]"
     ]
    },
    {
     "name": "stdout",
     "output_type": "stream",
     "text": [
      "Train Epoch: 48 [3840/11481 (34%)]\tLoss: 0.007345\n",
      "Mem before-during-after: 21483008 4332337152 21483008\n"
     ]
    },
    {
     "name": "stderr",
     "output_type": "stream",
     "text": [
      " 75%|██████████████████████████████████████████████████████████████████████████████████████████▎                              | 37.33195876289565/50 [2:17:10<55:36, 263.39s/it]"
     ]
    },
    {
     "name": "stdout",
     "output_type": "stream",
     "text": [
      "Train Epoch: 48 [5120/11481 (45%)]\tLoss: 0.660038\n",
      "Mem before-during-after: 21483008 4332337152 21483008\n"
     ]
    },
    {
     "name": "stderr",
     "output_type": "stream",
     "text": [
      " 75%|██████████████████████████████████████████████████████████████████████████████████████████▌                              | 37.41443298969992/50 [2:17:31<55:08, 262.92s/it]"
     ]
    },
    {
     "name": "stdout",
     "output_type": "stream",
     "text": [
      "Train Epoch: 48 [6400/11481 (56%)]\tLoss: 0.095950\n",
      "Mem before-during-after: 21483008 4332337152 21483008\n"
     ]
    },
    {
     "name": "stderr",
     "output_type": "stream",
     "text": [
      " 75%|█████████████████████████████████████████████████████████████████████████████████████████▉                              | 37.496907216504184/50 [2:17:52<54:59, 263.90s/it]"
     ]
    },
    {
     "name": "stdout",
     "output_type": "stream",
     "text": [
      "Train Epoch: 48 [7680/11481 (67%)]\tLoss: 0.119718\n",
      "Mem before-during-after: 21483008 4332337152 21483008\n"
     ]
    },
    {
     "name": "stderr",
     "output_type": "stream",
     "text": [
      " 75%|██████████████████████████████████████████████████████████████████████████████████████████▉                              | 37.57938144330845/50 [2:18:14<53:48, 259.96s/it]"
     ]
    },
    {
     "name": "stdout",
     "output_type": "stream",
     "text": [
      "Train Epoch: 48 [8960/11481 (78%)]\tLoss: 0.090311\n",
      "Mem before-during-after: 21483008 4332337152 21483008\n"
     ]
    },
    {
     "name": "stderr",
     "output_type": "stream",
     "text": [
      " 75%|██████████████████████████████████████████████████████████████████████████████████████████▍                             | 37.661855670112715/50 [2:18:35<53:44, 261.37s/it]"
     ]
    },
    {
     "name": "stdout",
     "output_type": "stream",
     "text": [
      "Train Epoch: 48 [10240/11481 (89%)]\tLoss: 0.188968\n",
      "Mem before-during-after: 21483008 4332337152 21483008\n"
     ]
    },
    {
     "name": "stderr",
     "output_type": "stream",
     "text": [
      " 76%|████████████████████████████████████████████████████████████████████████████████████████████▋                             | 38.0000000000102/50 [2:19:28<25:15, 126.30s/it]"
     ]
    },
    {
     "name": "stdout",
     "output_type": "stream",
     "text": [
      "\n",
      "Test Epoch: 48\tAccuracy: 3578/4064 (87%)\n",
      "\n"
     ]
    },
    {
     "name": "stderr",
     "output_type": "stream",
     "text": [
      " 76%|███████████████████████████████████████████████████████████████████████████████████████████▉                             | 38.00206185568031/50 [2:19:28<33:11, 166.02s/it]"
     ]
    },
    {
     "name": "stdout",
     "output_type": "stream",
     "text": [
      "Train Epoch: 49 [0/11481 (0%)]\tLoss: 0.024017\n",
      "Mem before-during-after: 21596672 4334000128 21483008\n"
     ]
    },
    {
     "name": "stderr",
     "output_type": "stream",
     "text": [
      " 76%|███████████████████████████████████████████████████████████████████████████████████████████▍                            | 38.084536082484576/50 [2:19:50<51:59, 261.82s/it]"
     ]
    },
    {
     "name": "stdout",
     "output_type": "stream",
     "text": [
      "Train Epoch: 49 [1280/11481 (11%)]\tLoss: 0.012967\n",
      "Mem before-during-after: 21483008 4332337152 21483008\n"
     ]
    },
    {
     "name": "stderr",
     "output_type": "stream",
     "text": [
      " 76%|████████████████████████████████████████████████████████████████████████████████████████████▎                            | 38.16701030928884/50 [2:20:11<52:07, 264.29s/it]"
     ]
    },
    {
     "name": "stdout",
     "output_type": "stream",
     "text": [
      "Train Epoch: 49 [2560/11481 (22%)]\tLoss: 0.230256\n",
      "Mem before-during-after: 21483008 4332337152 21483008\n"
     ]
    },
    {
     "name": "stderr",
     "output_type": "stream",
     "text": [
      " 76%|████████████████████████████████████████████████████████████████████████████████████████████▌                            | 38.24948453609311/50 [2:20:32<51:38, 263.66s/it]"
     ]
    },
    {
     "name": "stdout",
     "output_type": "stream",
     "text": [
      "Train Epoch: 49 [3840/11481 (34%)]\tLoss: 0.002061\n",
      "Mem before-during-after: 21483008 4332337152 21483008\n"
     ]
    },
    {
     "name": "stderr",
     "output_type": "stream",
     "text": [
      " 77%|████████████████████████████████████████████████████████████████████████████████████████████▊                            | 38.33195876289737/50 [2:20:54<52:58, 272.39s/it]"
     ]
    },
    {
     "name": "stdout",
     "output_type": "stream",
     "text": [
      "Train Epoch: 49 [5120/11481 (45%)]\tLoss: 0.666954\n",
      "Mem before-during-after: 21483008 4332337152 21483008\n"
     ]
    },
    {
     "name": "stderr",
     "output_type": "stream",
     "text": [
      " 77%|████████████████████████████████████████████████████████████████████████████████████████████▉                            | 38.41443298970164/50 [2:21:15<50:41, 262.53s/it]"
     ]
    },
    {
     "name": "stdout",
     "output_type": "stream",
     "text": [
      "Train Epoch: 49 [6400/11481 (56%)]\tLoss: 0.178490\n",
      "Mem before-during-after: 21483008 4332337152 21483008\n"
     ]
    },
    {
     "name": "stderr",
     "output_type": "stream",
     "text": [
      " 77%|█████████████████████████████████████████████████████████████████████████████████████████████▉                            | 38.4969072165059/50 [2:21:36<50:11, 261.80s/it]"
     ]
    },
    {
     "name": "stdout",
     "output_type": "stream",
     "text": [
      "Train Epoch: 49 [7680/11481 (67%)]\tLoss: 0.089690\n",
      "Mem before-during-after: 21483008 4332337152 21483008\n"
     ]
    },
    {
     "name": "stderr",
     "output_type": "stream",
     "text": [
      " 77%|█████████████████████████████████████████████████████████████████████████████████████████████▎                           | 38.57938144331017/50 [2:21:58<50:01, 262.78s/it]"
     ]
    },
    {
     "name": "stdout",
     "output_type": "stream",
     "text": [
      "Train Epoch: 49 [8960/11481 (78%)]\tLoss: 0.060016\n",
      "Mem before-during-after: 21483008 4332337152 21483008\n"
     ]
    },
    {
     "name": "stderr",
     "output_type": "stream",
     "text": [
      " 77%|████████████████████████████████████████████████████████████████████████████████████████████▊                           | 38.661855670114434/50 [2:22:19<49:43, 263.17s/it]"
     ]
    },
    {
     "name": "stdout",
     "output_type": "stream",
     "text": [
      "Train Epoch: 49 [10240/11481 (89%)]\tLoss: 0.592547\n",
      "Mem before-during-after: 21483008 4332337152 21483008\n"
     ]
    },
    {
     "name": "stderr",
     "output_type": "stream",
     "text": [
      " 78%|██████████████████████████████████████████████████████████████████████████████████████████████▍                          | 39.00000000001192/50 [2:23:12<23:59, 130.91s/it]"
     ]
    },
    {
     "name": "stdout",
     "output_type": "stream",
     "text": [
      "\n",
      "Test Epoch: 49\tAccuracy: 3572/4064 (87%)\n",
      "\n"
     ]
    },
    {
     "name": "stderr",
     "output_type": "stream",
     "text": [
      " 78%|██████████████████████████████████████████████████████████████████████████████████████████████▍                          | 39.00206185568203/50 [2:23:12<31:59, 174.58s/it]"
     ]
    },
    {
     "name": "stdout",
     "output_type": "stream",
     "text": [
      "Train Epoch: 50 [0/11481 (0%)]\tLoss: 0.016827\n",
      "Mem before-during-after: 21596672 4334000128 21483008\n"
     ]
    },
    {
     "name": "stderr",
     "output_type": "stream",
     "text": [
      " 78%|█████████████████████████████████████████████████████████████████████████████████████████████▊                          | 39.084536082486295/50 [2:23:34<47:38, 261.85s/it]"
     ]
    },
    {
     "name": "stdout",
     "output_type": "stream",
     "text": [
      "Train Epoch: 50 [1280/11481 (11%)]\tLoss: 0.005186\n",
      "Mem before-during-after: 21483008 4332337152 21483008\n"
     ]
    },
    {
     "name": "stderr",
     "output_type": "stream",
     "text": [
      " 78%|██████████████████████████████████████████████████████████████████████████████████████████████▊                          | 39.16701030929056/50 [2:23:55<47:45, 264.49s/it]"
     ]
    },
    {
     "name": "stdout",
     "output_type": "stream",
     "text": [
      "Train Epoch: 50 [2560/11481 (22%)]\tLoss: 0.137271\n",
      "Mem before-during-after: 21483008 4332337152 21483008\n"
     ]
    },
    {
     "name": "stderr",
     "output_type": "stream",
     "text": [
      " 78%|██████████████████████████████████████████████████████████████████████████████████████████████▏                         | 39.249484536094826/50 [2:24:16<47:15, 263.76s/it]"
     ]
    },
    {
     "name": "stdout",
     "output_type": "stream",
     "text": [
      "Train Epoch: 50 [3840/11481 (34%)]\tLoss: 0.003813\n",
      "Mem before-during-after: 21483008 4332337152 21483008\n"
     ]
    },
    {
     "name": "stderr",
     "output_type": "stream",
     "text": [
      " 79%|███████████████████████████████████████████████████████████████████████████████████████████████▏                         | 39.33195876289909/50 [2:24:38<47:16, 265.91s/it]"
     ]
    },
    {
     "name": "stdout",
     "output_type": "stream",
     "text": [
      "Train Epoch: 50 [5120/11481 (45%)]\tLoss: 0.705136\n",
      "Mem before-during-after: 21483008 4332337152 21483008\n"
     ]
    },
    {
     "name": "stderr",
     "output_type": "stream",
     "text": [
      " 79%|███████████████████████████████████████████████████████████████████████████████████████████████▍                         | 39.41443298970336/50 [2:24:59<46:10, 261.68s/it]"
     ]
    },
    {
     "name": "stdout",
     "output_type": "stream",
     "text": [
      "Train Epoch: 50 [6400/11481 (56%)]\tLoss: 0.102259\n",
      "Mem before-during-after: 21483008 4332337152 21483008\n"
     ]
    },
    {
     "name": "stderr",
     "output_type": "stream",
     "text": [
      " 79%|███████████████████████████████████████████████████████████████████████████████████████████████▌                         | 39.49690721650762/50 [2:25:19<43:05, 246.14s/it]"
     ]
    },
    {
     "name": "stdout",
     "output_type": "stream",
     "text": [
      "Train Epoch: 50 [7680/11481 (67%)]\tLoss: 0.103247\n",
      "Mem before-during-after: 21483008 4332337152 21483008\n"
     ]
    },
    {
     "name": "stderr",
     "output_type": "stream",
     "text": [
      " 79%|███████████████████████████████████████████████████████████████████████████████████████████████▊                         | 39.57938144331189/50 [2:25:39<45:43, 263.30s/it]"
     ]
    },
    {
     "name": "stdout",
     "output_type": "stream",
     "text": [
      "Train Epoch: 50 [8960/11481 (78%)]\tLoss: 0.066208\n",
      "Mem before-during-after: 21483008 4332337152 21483008\n"
     ]
    },
    {
     "name": "stderr",
     "output_type": "stream",
     "text": [
      " 79%|███████████████████████████████████████████████████████████████████████████████████████████████▏                        | 39.661855670116154/50 [2:26:00<43:48, 254.27s/it]"
     ]
    },
    {
     "name": "stdout",
     "output_type": "stream",
     "text": [
      "Train Epoch: 50 [10240/11481 (89%)]\tLoss: 0.079394\n",
      "Mem before-during-after: 21483008 4332337152 21483008\n"
     ]
    },
    {
     "name": "stderr",
     "output_type": "stream",
     "text": [
      " 80%|████████████████████████████████████████████████████████████████████████████████████████████████▊                        | 40.00000000001364/50 [2:26:49<18:29, 110.95s/it]"
     ]
    },
    {
     "name": "stdout",
     "output_type": "stream",
     "text": [
      "\n",
      "Test Epoch: 50\tAccuracy: 3601/4064 (88%)\n",
      "\n"
     ]
    },
    {
     "name": "stderr",
     "output_type": "stream",
     "text": [
      " 80%|████████████████████████████████████████████████████████████████████████████████████████████████▊                        | 40.00206185568375/50 [2:26:49<24:37, 147.79s/it]"
     ]
    },
    {
     "name": "stdout",
     "output_type": "stream",
     "text": [
      "Train Epoch: 51 [0/11481 (0%)]\tLoss: 0.011751\n",
      "Mem before-during-after: 21596672 4334000128 21483008\n"
     ]
    },
    {
     "name": "stderr",
     "output_type": "stream",
     "text": [
      " 80%|████████████████████████████████████████████████████████████████████████████████████████████████▏                       | 40.084536082488015/50 [2:27:10<41:37, 251.91s/it]"
     ]
    },
    {
     "name": "stdout",
     "output_type": "stream",
     "text": [
      "Train Epoch: 51 [1280/11481 (11%)]\tLoss: 0.005515\n",
      "Mem before-during-after: 21483008 4332337152 21483008\n"
     ]
    },
    {
     "name": "stderr",
     "output_type": "stream",
     "text": [
      " 80%|█████████████████████████████████████████████████████████████████████████████████████████████████▏                       | 40.16701030929228/50 [2:27:30<41:03, 250.53s/it]"
     ]
    },
    {
     "name": "stdout",
     "output_type": "stream",
     "text": [
      "Train Epoch: 51 [2560/11481 (22%)]\tLoss: 0.156792\n",
      "Mem before-during-after: 21483008 4332337152 21483008\n"
     ]
    },
    {
     "name": "stderr",
     "output_type": "stream",
     "text": [
      " 80%|████████████████████████████████████████████████████████████████████████████████████████████████▌                       | 40.249484536096546/50 [2:27:51<41:21, 254.49s/it]"
     ]
    },
    {
     "name": "stdout",
     "output_type": "stream",
     "text": [
      "Train Epoch: 51 [3840/11481 (34%)]\tLoss: 0.010534\n",
      "Mem before-during-after: 21483008 4332337152 21483008\n"
     ]
    },
    {
     "name": "stderr",
     "output_type": "stream",
     "text": [
      " 81%|█████████████████████████████████████████████████████████████████████████████████████████████████▌                       | 40.33195876290081/50 [2:28:11<40:58, 254.33s/it]"
     ]
    },
    {
     "name": "stdout",
     "output_type": "stream",
     "text": [
      "Train Epoch: 51 [5120/11481 (45%)]\tLoss: 0.541466\n",
      "Mem before-during-after: 21483008 4332337152 21483008\n"
     ]
    },
    {
     "name": "stderr",
     "output_type": "stream",
     "text": [
      " 81%|█████████████████████████████████████████████████████████████████████████████████████████████████▊                       | 40.41443298970508/50 [2:28:32<40:33, 253.85s/it]"
     ]
    },
    {
     "name": "stdout",
     "output_type": "stream",
     "text": [
      "Train Epoch: 51 [6400/11481 (56%)]\tLoss: 0.103089\n",
      "Mem before-during-after: 21483008 4332337152 21483008\n"
     ]
    },
    {
     "name": "stderr",
     "output_type": "stream",
     "text": [
      " 81%|██████████████████████████████████████████████████████████████████████████████████████████████████                       | 40.49690721650934/50 [2:28:52<40:30, 255.77s/it]"
     ]
    },
    {
     "name": "stdout",
     "output_type": "stream",
     "text": [
      "Train Epoch: 51 [7680/11481 (67%)]\tLoss: 0.135939\n",
      "Mem before-during-after: 21483008 4332337152 21483008\n"
     ]
    },
    {
     "name": "stderr",
     "output_type": "stream",
     "text": [
      " 81%|██████████████████████████████████████████████████████████████████████████████████████████████████▏                      | 40.57938144331361/50 [2:29:13<39:48, 253.53s/it]"
     ]
    },
    {
     "name": "stdout",
     "output_type": "stream",
     "text": [
      "Train Epoch: 51 [8960/11481 (78%)]\tLoss: 0.060997\n",
      "Mem before-during-after: 21483008 4332337152 21483008\n"
     ]
    },
    {
     "name": "stderr",
     "output_type": "stream",
     "text": [
      " 81%|██████████████████████████████████████████████████████████████████████████████████████████████████▍                      | 40.66185567011787/50 [2:29:34<39:19, 252.65s/it]"
     ]
    },
    {
     "name": "stdout",
     "output_type": "stream",
     "text": [
      "Train Epoch: 51 [10240/11481 (89%)]\tLoss: 0.207704\n",
      "Mem before-during-after: 21483008 4332337152 21483008\n"
     ]
    },
    {
     "name": "stderr",
     "output_type": "stream",
     "text": [
      " 82%|███████████████████████████████████████████████████████████████████████████████████████████████████▏                     | 41.00000000001536/50 [2:30:22<17:14, 114.89s/it]"
     ]
    },
    {
     "name": "stdout",
     "output_type": "stream",
     "text": [
      "\n",
      "Test Epoch: 51\tAccuracy: 3586/4064 (88%)\n",
      "\n"
     ]
    },
    {
     "name": "stderr",
     "output_type": "stream",
     "text": [
      " 82%|███████████████████████████████████████████████████████████████████████████████████████████████████▏                     | 41.00206185568547/50 [2:30:23<22:33, 150.44s/it]"
     ]
    },
    {
     "name": "stdout",
     "output_type": "stream",
     "text": [
      "Train Epoch: 52 [0/11481 (0%)]\tLoss: 0.018053\n",
      "Mem before-during-after: 21596672 4334000128 21483008\n"
     ]
    },
    {
     "name": "stderr",
     "output_type": "stream",
     "text": [
      " 82%|██████████████████████████████████████████████████████████████████████████████████████████████████▌                     | 41.084536082489734/50 [2:30:43<36:55, 248.49s/it]"
     ]
    },
    {
     "name": "stdout",
     "output_type": "stream",
     "text": [
      "Train Epoch: 52 [1280/11481 (11%)]\tLoss: 0.022005\n",
      "Mem before-during-after: 21483008 4332337152 21483008\n"
     ]
    },
    {
     "name": "stderr",
     "output_type": "stream",
     "text": [
      " 82%|█████████████████████████████████████████████████████████████████████████████████████████████████████▎                     | 41.167010309294/50 [2:31:03<36:31, 248.10s/it]"
     ]
    },
    {
     "name": "stdout",
     "output_type": "stream",
     "text": [
      "Train Epoch: 52 [2560/11481 (22%)]\tLoss: 0.217351\n",
      "Mem before-during-after: 21483008 4332337152 21483008\n"
     ]
    },
    {
     "name": "stderr",
     "output_type": "stream",
     "text": [
      " 82%|██████████████████████████████████████████████████████████████████████████████████████████████████▉                     | 41.249484536098265/50 [2:31:23<36:12, 248.27s/it]"
     ]
    },
    {
     "name": "stdout",
     "output_type": "stream",
     "text": [
      "Train Epoch: 52 [3840/11481 (34%)]\tLoss: 0.001542\n",
      "Mem before-during-after: 21483008 4332337152 21483008\n"
     ]
    },
    {
     "name": "stderr",
     "output_type": "stream",
     "text": [
      " 83%|████████████████████████████████████████████████████████████████████████████████████████████████████                     | 41.33195876290253/50 [2:31:43<36:03, 249.63s/it]"
     ]
    },
    {
     "name": "stdout",
     "output_type": "stream",
     "text": [
      "Train Epoch: 52 [5120/11481 (45%)]\tLoss: 0.732814\n",
      "Mem before-during-after: 21483008 4332337152 21483008\n"
     ]
    },
    {
     "name": "stderr",
     "output_type": "stream",
     "text": [
      " 83%|███████████████████████████████████████████████████████████████████████████████████████████████████▍                    | 41.414432989706796/50 [2:32:04<35:35, 248.76s/it]"
     ]
    },
    {
     "name": "stdout",
     "output_type": "stream",
     "text": [
      "Train Epoch: 52 [6400/11481 (56%)]\tLoss: 0.099388\n",
      "Mem before-during-after: 21483008 4332337152 21483008\n"
     ]
    },
    {
     "name": "stderr",
     "output_type": "stream",
     "text": [
      " 83%|████████████████████████████████████████████████████████████████████████████████████████████████████▍                    | 41.49690721651106/50 [2:32:24<35:00, 247.05s/it]"
     ]
    },
    {
     "name": "stdout",
     "output_type": "stream",
     "text": [
      "Train Epoch: 52 [7680/11481 (67%)]\tLoss: 0.118957\n",
      "Mem before-during-after: 21483008 4332337152 21483008\n"
     ]
    },
    {
     "name": "stderr",
     "output_type": "stream",
     "text": [
      " 83%|████████████████████████████████████████████████████████████████████████████████████████████████████▌                    | 41.57938144331533/50 [2:32:44<34:56, 248.94s/it]"
     ]
    },
    {
     "name": "stdout",
     "output_type": "stream",
     "text": [
      "Train Epoch: 52 [8960/11481 (78%)]\tLoss: 0.065817\n",
      "Mem before-during-after: 21483008 4332337152 21483008\n"
     ]
    },
    {
     "name": "stderr",
     "output_type": "stream",
     "text": [
      " 83%|████████████████████████████████████████████████████████████████████████████████████████████████████▊                    | 41.66185567011959/50 [2:33:04<34:40, 249.46s/it]"
     ]
    },
    {
     "name": "stdout",
     "output_type": "stream",
     "text": [
      "Train Epoch: 52 [10240/11481 (89%)]\tLoss: 0.294544\n",
      "Mem before-during-after: 21483008 4332337152 21483008\n"
     ]
    },
    {
     "name": "stderr",
     "output_type": "stream",
     "text": [
      " 84%|█████████████████████████████████████████████████████████████████████████████████████████████████████▋                   | 42.00000000001708/50 [2:33:52<14:58, 112.37s/it]"
     ]
    },
    {
     "name": "stdout",
     "output_type": "stream",
     "text": [
      "\n",
      "Test Epoch: 52\tAccuracy: 3570/4064 (87%)\n",
      "\n"
     ]
    },
    {
     "name": "stderr",
     "output_type": "stream",
     "text": [
      " 84%|█████████████████████████████████████████████████████████████████████████████████████████████████████▋                   | 42.00206185568719/50 [2:33:52<20:08, 151.09s/it]"
     ]
    },
    {
     "name": "stdout",
     "output_type": "stream",
     "text": [
      "Train Epoch: 53 [0/11481 (0%)]\tLoss: 0.007491\n",
      "Mem before-during-after: 21596672 4334000128 21483008\n"
     ]
    },
    {
     "name": "stderr",
     "output_type": "stream",
     "text": [
      " 84%|█████████████████████████████████████████████████████████████████████████████████████████████████████                   | 42.084536082491454/50 [2:34:13<33:02, 250.49s/it]"
     ]
    },
    {
     "name": "stdout",
     "output_type": "stream",
     "text": [
      "Train Epoch: 53 [1280/11481 (11%)]\tLoss: 0.022986\n",
      "Mem before-during-after: 21483008 4332337152 21483008\n"
     ]
    },
    {
     "name": "stderr",
     "output_type": "stream",
     "text": [
      " 84%|██████████████████████████████████████████████████████████████████████████████████████████████████████                   | 42.16701030929572/50 [2:34:33<32:43, 250.64s/it]"
     ]
    },
    {
     "name": "stdout",
     "output_type": "stream",
     "text": [
      "Train Epoch: 53 [2560/11481 (22%)]\tLoss: 0.247328\n",
      "Mem before-during-after: 21483008 4332337152 21483008\n"
     ]
    },
    {
     "name": "stderr",
     "output_type": "stream",
     "text": [
      " 84%|█████████████████████████████████████████████████████████████████████████████████████████████████████▍                  | 42.249484536099985/50 [2:34:53<32:08, 248.79s/it]"
     ]
    },
    {
     "name": "stdout",
     "output_type": "stream",
     "text": [
      "Train Epoch: 53 [3840/11481 (34%)]\tLoss: 0.001603\n",
      "Mem before-during-after: 21483008 4332337152 21483008\n"
     ]
    },
    {
     "name": "stderr",
     "output_type": "stream",
     "text": [
      " 85%|██████████████████████████████████████████████████████████████████████████████████████████████████████▍                  | 42.33195876290425/50 [2:35:13<32:41, 255.82s/it]"
     ]
    },
    {
     "name": "stdout",
     "output_type": "stream",
     "text": [
      "Train Epoch: 53 [5120/11481 (45%)]\tLoss: 0.743712\n",
      "Mem before-during-after: 21483008 4332337152 21483008\n"
     ]
    },
    {
     "name": "stderr",
     "output_type": "stream",
     "text": [
      " 85%|█████████████████████████████████████████████████████████████████████████████████████████████████████▊                  | 42.414432989708516/50 [2:35:34<31:46, 251.29s/it]"
     ]
    },
    {
     "name": "stdout",
     "output_type": "stream",
     "text": [
      "Train Epoch: 53 [6400/11481 (56%)]\tLoss: 0.114768\n",
      "Mem before-during-after: 21483008 4332337152 21483008\n"
     ]
    },
    {
     "name": "stderr",
     "output_type": "stream",
     "text": [
      " 85%|██████████████████████████████████████████████████████████████████████████████████████████████████████▊                  | 42.49690721651278/50 [2:35:54<31:22, 250.90s/it]"
     ]
    },
    {
     "name": "stdout",
     "output_type": "stream",
     "text": [
      "Train Epoch: 53 [7680/11481 (67%)]\tLoss: 0.080946\n",
      "Mem before-during-after: 21483008 4332337152 21483008\n"
     ]
    },
    {
     "name": "stderr",
     "output_type": "stream",
     "text": [
      " 85%|███████████████████████████████████████████████████████████████████████████████████████████████████████                  | 42.57938144331705/50 [2:36:14<30:45, 248.75s/it]"
     ]
    },
    {
     "name": "stdout",
     "output_type": "stream",
     "text": [
      "Train Epoch: 53 [8960/11481 (78%)]\tLoss: nan\n",
      "Mem before-during-after: 21483008 4332337152 21483008\n"
     ]
    },
    {
     "name": "stderr",
     "output_type": "stream",
     "text": [
      " 85%|███████████████████████████████████████████████████████████████████████████████████████████████████████▏                 | 42.66185567012131/50 [2:36:34<30:23, 248.49s/it]"
     ]
    },
    {
     "name": "stdout",
     "output_type": "stream",
     "text": [
      "Train Epoch: 53 [10240/11481 (89%)]\tLoss: nan\n",
      "Mem before-during-after: 21483008 4332337152 21483008\n"
     ]
    },
    {
     "name": "stderr",
     "output_type": "stream",
     "text": [
      " 86%|████████████████████████████████████████████████████████████████████████████████████████████████████████▉                 | 43.0000000000188/50 [2:37:23<13:15, 113.58s/it]"
     ]
    },
    {
     "name": "stdout",
     "output_type": "stream",
     "text": [
      "\n",
      "Test Epoch: 53\tAccuracy: 974/4064 (24%)\n",
      "\n"
     ]
    },
    {
     "name": "stderr",
     "output_type": "stream",
     "text": [
      " 86%|████████████████████████████████████████████████████████████████████████████████████████████████████████                 | 43.00206185568891/50 [2:37:23<17:26, 149.59s/it]"
     ]
    },
    {
     "name": "stdout",
     "output_type": "stream",
     "text": [
      "Train Epoch: 54 [0/11481 (0%)]\tLoss: nan\n",
      "Mem before-during-after: 21596672 4334000128 21483008\n"
     ]
    },
    {
     "name": "stderr",
     "output_type": "stream",
     "text": [
      " 86%|████████████████████████████████████████████████████████████████████████████████████████████████████████▎                | 43.08453608249317/50 [2:37:44<28:40, 248.86s/it]"
     ]
    },
    {
     "name": "stdout",
     "output_type": "stream",
     "text": [
      "Train Epoch: 54 [1280/11481 (11%)]\tLoss: nan\n",
      "Mem before-during-after: 21483008 4332337152 21483008\n"
     ]
    },
    {
     "name": "stderr",
     "output_type": "stream",
     "text": [
      " 86%|████████████████████████████████████████████████████████████████████████████████████████████████████████▍                | 43.16701030929744/50 [2:38:04<28:31, 250.45s/it]"
     ]
    },
    {
     "name": "stdout",
     "output_type": "stream",
     "text": [
      "Train Epoch: 54 [2560/11481 (22%)]\tLoss: nan\n",
      "Mem before-during-after: 21483008 4332337152 21483008\n"
     ]
    },
    {
     "name": "stderr",
     "output_type": "stream",
     "text": [
      " 86%|███████████████████████████████████████████████████████████████████████████████████████████████████████▊                | 43.249484536101704/50 [2:38:24<28:19, 251.76s/it]"
     ]
    },
    {
     "name": "stdout",
     "output_type": "stream",
     "text": [
      "Train Epoch: 54 [3840/11481 (34%)]\tLoss: nan\n",
      "Mem before-during-after: 21483008 4332337152 21483008\n"
     ]
    },
    {
     "name": "stderr",
     "output_type": "stream",
     "text": [
      " 87%|████████████████████████████████████████████████████████████████████████████████████████████████████████▊                | 43.33195876290597/50 [2:38:45<27:43, 249.42s/it]"
     ]
    },
    {
     "name": "stdout",
     "output_type": "stream",
     "text": [
      "Train Epoch: 54 [5120/11481 (45%)]\tLoss: nan\n",
      "Mem before-during-after: 21483008 4332337152 21483008\n"
     ]
    },
    {
     "name": "stderr",
     "output_type": "stream",
     "text": [
      " 87%|████████████████████████████████████████████████████████████████████████████████████████████████████████▏               | 43.414432989710235/50 [2:39:05<27:26, 249.97s/it]"
     ]
    },
    {
     "name": "stdout",
     "output_type": "stream",
     "text": [
      "Train Epoch: 54 [6400/11481 (56%)]\tLoss: nan\n",
      "Mem before-during-after: 21483008 4332337152 21483008\n"
     ]
    },
    {
     "name": "stderr",
     "output_type": "stream",
     "text": [
      " 87%|██████████████████████████████████████████████████████████████████████████████████████████████████████████▏               | 43.4969072165145/50 [2:39:25<27:20, 252.29s/it]"
     ]
    },
    {
     "name": "stdout",
     "output_type": "stream",
     "text": [
      "Train Epoch: 54 [7680/11481 (67%)]\tLoss: nan\n",
      "Mem before-during-after: 21483008 4332337152 21483008\n"
     ]
    },
    {
     "name": "stderr",
     "output_type": "stream",
     "text": [
      " 87%|████████████████████████████████████████████████████████████████████████████████████████████████████████▌               | 43.579381443318766/50 [2:39:45<27:20, 255.49s/it]"
     ]
    },
    {
     "name": "stdout",
     "output_type": "stream",
     "text": [
      "Train Epoch: 54 [8960/11481 (78%)]\tLoss: nan\n",
      "Mem before-during-after: 21483008 4332337152 21483008\n"
     ]
    },
    {
     "name": "stderr",
     "output_type": "stream",
     "text": [
      " 87%|█████████████████████████████████████████████████████████████████████████████████████████████████████████▋               | 43.66185567012303/50 [2:40:05<26:20, 249.35s/it]"
     ]
    },
    {
     "name": "stdout",
     "output_type": "stream",
     "text": [
      "Train Epoch: 54 [10240/11481 (89%)]\tLoss: nan\n",
      "Mem before-during-after: 21483008 4332337152 21483008\n"
     ]
    },
    {
     "name": "stderr",
     "output_type": "stream",
     "text": [
      " 88%|██████████████████████████████████████████████████████████████████████████████████████████████████████████▍              | 44.00000000002052/50 [2:40:54<11:12, 112.04s/it]"
     ]
    },
    {
     "name": "stdout",
     "output_type": "stream",
     "text": [
      "\n",
      "Test Epoch: 54\tAccuracy: 968/4064 (24%)\n",
      "\n"
     ]
    },
    {
     "name": "stderr",
     "output_type": "stream",
     "text": [
      " 88%|██████████████████████████████████████████████████████████████████████████████████████████████████████████▍              | 44.00206185569063/50 [2:40:54<14:59, 149.94s/it]"
     ]
    },
    {
     "name": "stdout",
     "output_type": "stream",
     "text": [
      "Train Epoch: 55 [0/11481 (0%)]\tLoss: nan\n",
      "Mem before-during-after: 21596672 4334000128 21483008\n"
     ]
    },
    {
     "name": "stderr",
     "output_type": "stream",
     "text": [
      " 88%|██████████████████████████████████████████████████████████████████████████████████████████████████████████▋              | 44.08453608249489/50 [2:41:15<24:53, 252.48s/it]"
     ]
    },
    {
     "name": "stdout",
     "output_type": "stream",
     "text": [
      "Train Epoch: 55 [1280/11481 (11%)]\tLoss: nan\n",
      "Mem before-during-after: 21483008 4332337152 21483008\n"
     ]
    },
    {
     "name": "stderr",
     "output_type": "stream",
     "text": [
      " 88%|██████████████████████████████████████████████████████████████████████████████████████████████████████████▉              | 44.16701030929916/50 [2:41:35<23:57, 246.48s/it]"
     ]
    },
    {
     "name": "stdout",
     "output_type": "stream",
     "text": [
      "Train Epoch: 55 [2560/11481 (22%)]\tLoss: nan\n",
      "Mem before-during-after: 21483008 4332337152 21483008\n"
     ]
    },
    {
     "name": "stderr",
     "output_type": "stream",
     "text": [
      " 88%|██████████████████████████████████████████████████████████████████████████████████████████████████████████▏             | 44.249484536103424/50 [2:41:55<23:53, 249.32s/it]"
     ]
    },
    {
     "name": "stdout",
     "output_type": "stream",
     "text": [
      "Train Epoch: 55 [3840/11481 (34%)]\tLoss: nan\n",
      "Mem before-during-after: 21483008 4332337152 21483008\n"
     ]
    },
    {
     "name": "stderr",
     "output_type": "stream",
     "text": [
      " 89%|███████████████████████████████████████████████████████████████████████████████████████████████████████████▎             | 44.33195876290769/50 [2:42:15<24:13, 256.41s/it]"
     ]
    },
    {
     "name": "stdout",
     "output_type": "stream",
     "text": [
      "Train Epoch: 55 [5120/11481 (45%)]\tLoss: nan\n",
      "Mem before-during-after: 21483008 4332337152 21483008\n"
     ]
    },
    {
     "name": "stderr",
     "output_type": "stream",
     "text": [
      " 89%|██████████████████████████████████████████████████████████████████████████████████████████████████████████▌             | 44.414432989711955/50 [2:42:35<23:05, 248.09s/it]"
     ]
    },
    {
     "name": "stdout",
     "output_type": "stream",
     "text": [
      "Train Epoch: 55 [6400/11481 (56%)]\tLoss: nan\n",
      "Mem before-during-after: 21483008 4332337152 21483008\n"
     ]
    },
    {
     "name": "stderr",
     "output_type": "stream",
     "text": [
      " 89%|███████████████████████████████████████████████████████████████████████████████████████████████████████████▋             | 44.49690721651622/50 [2:42:55<22:49, 248.92s/it]"
     ]
    },
    {
     "name": "stdout",
     "output_type": "stream",
     "text": [
      "Train Epoch: 55 [7680/11481 (67%)]\tLoss: nan\n",
      "Mem before-during-after: 21483008 4332337152 21483008\n"
     ]
    },
    {
     "name": "stderr",
     "output_type": "stream",
     "text": [
      " 89%|██████████████████████████████████████████████████████████████████████████████████████████████████████████▉             | 44.579381443320486/50 [2:43:16<22:36, 250.25s/it]"
     ]
    },
    {
     "name": "stdout",
     "output_type": "stream",
     "text": [
      "Train Epoch: 55 [8960/11481 (78%)]\tLoss: nan\n",
      "Mem before-during-after: 21483008 4332337152 21483008\n"
     ]
    },
    {
     "name": "stderr",
     "output_type": "stream",
     "text": [
      " 89%|████████████████████████████████████████████████████████████████████████████████████████████████████████████             | 44.66185567012475/50 [2:43:36<22:08, 248.82s/it]"
     ]
    },
    {
     "name": "stdout",
     "output_type": "stream",
     "text": [
      "Train Epoch: 55 [10240/11481 (89%)]\tLoss: nan\n",
      "Mem before-during-after: 21483008 4332337152 21483008\n"
     ]
    },
    {
     "name": "stderr",
     "output_type": "stream",
     "text": [
      " 90%|████████████████████████████████████████████████████████████████████████████████████████████████████████████▉            | 45.00000000002224/50 [2:44:25<11:36, 139.35s/it]"
     ]
    },
    {
     "name": "stdout",
     "output_type": "stream",
     "text": [
      "\n",
      "Test Epoch: 55\tAccuracy: 969/4064 (24%)\n",
      "\n"
     ]
    },
    {
     "name": "stderr",
     "output_type": "stream",
     "text": [
      " 90%|████████████████████████████████████████████████████████████████████████████████████████████████████████████▉            | 45.00206185569235/50 [2:44:25<14:08, 169.67s/it]"
     ]
    },
    {
     "name": "stdout",
     "output_type": "stream",
     "text": [
      "Train Epoch: 56 [0/11481 (0%)]\tLoss: nan\n",
      "Mem before-during-after: 21596672 4334000128 21483008\n"
     ]
    },
    {
     "name": "stderr",
     "output_type": "stream",
     "text": [
      " 90%|█████████████████████████████████████████████████████████████████████████████████████████████████████████████            | 45.08453608249661/50 [2:44:45<20:37, 251.70s/it]"
     ]
    },
    {
     "name": "stdout",
     "output_type": "stream",
     "text": [
      "Train Epoch: 56 [1280/11481 (11%)]\tLoss: nan\n",
      "Mem before-during-after: 21483008 4332337152 21483008\n"
     ]
    },
    {
     "name": "stderr",
     "output_type": "stream",
     "text": [
      " 90%|█████████████████████████████████████████████████████████████████████████████████████████████████████████████▎           | 45.16701030930088/50 [2:45:05<19:55, 247.40s/it]"
     ]
    },
    {
     "name": "stdout",
     "output_type": "stream",
     "text": [
      "Train Epoch: 56 [2560/11481 (22%)]\tLoss: nan\n",
      "Mem before-during-after: 21483008 4332337152 21483008\n"
     ]
    },
    {
     "name": "stderr",
     "output_type": "stream",
     "text": [
      " 90%|█████████████████████████████████████████████████████████████████████████████████████████████████████████████▌           | 45.24948453610514/50 [2:45:26<19:41, 248.73s/it]"
     ]
    },
    {
     "name": "stdout",
     "output_type": "stream",
     "text": [
      "Train Epoch: 56 [3840/11481 (34%)]\tLoss: nan\n",
      "Mem before-during-after: 21483008 4332337152 21483008\n"
     ]
    },
    {
     "name": "stderr",
     "output_type": "stream",
     "text": [
      " 91%|█████████████████████████████████████████████████████████████████████████████████████████████████████████████▋           | 45.33195876290941/50 [2:45:46<19:24, 249.51s/it]"
     ]
    },
    {
     "name": "stdout",
     "output_type": "stream",
     "text": [
      "Train Epoch: 56 [5120/11481 (45%)]\tLoss: nan\n",
      "Mem before-during-after: 21483008 4332337152 21483008\n"
     ]
    },
    {
     "name": "stderr",
     "output_type": "stream",
     "text": [
      " 91%|████████████████████████████████████████████████████████████████████████████████████████████████████████████▉           | 45.414432989713674/50 [2:46:06<19:12, 251.34s/it]"
     ]
    },
    {
     "name": "stdout",
     "output_type": "stream",
     "text": [
      "Train Epoch: 56 [6400/11481 (56%)]\tLoss: nan\n",
      "Mem before-during-after: 21483008 4332337152 21483008\n"
     ]
    },
    {
     "name": "stderr",
     "output_type": "stream",
     "text": [
      " 91%|██████████████████████████████████████████████████████████████████████████████████████████████████████████████           | 45.49690721651794/50 [2:46:26<18:44, 249.78s/it]"
     ]
    },
    {
     "name": "stdout",
     "output_type": "stream",
     "text": [
      "Train Epoch: 56 [7680/11481 (67%)]\tLoss: nan\n",
      "Mem before-during-after: 21483008 4332337152 21483008\n"
     ]
    },
    {
     "name": "stderr",
     "output_type": "stream",
     "text": [
      " 91%|█████████████████████████████████████████████████████████████████████████████████████████████████████████████▍          | 45.579381443322205/50 [2:46:46<18:19, 248.81s/it]"
     ]
    },
    {
     "name": "stdout",
     "output_type": "stream",
     "text": [
      "Train Epoch: 56 [8960/11481 (78%)]\tLoss: nan\n",
      "Mem before-during-after: 21483008 4332337152 21483008\n"
     ]
    },
    {
     "name": "stderr",
     "output_type": "stream",
     "text": [
      " 91%|██████████████████████████████████████████████████████████████████████████████████████████████████████████████▌          | 45.66185567012647/50 [2:47:06<17:56, 248.17s/it]"
     ]
    },
    {
     "name": "stdout",
     "output_type": "stream",
     "text": [
      "Train Epoch: 56 [10240/11481 (89%)]\tLoss: nan\n",
      "Mem before-during-after: 21483008 4332337152 21483008\n"
     ]
    },
    {
     "name": "stderr",
     "output_type": "stream",
     "text": [
      " 92%|███████████████████████████████████████████████████████████████████████████████████████████████████████████████▎         | 46.00000000002396/50 [2:47:55<07:30, 112.53s/it]"
     ]
    },
    {
     "name": "stdout",
     "output_type": "stream",
     "text": [
      "\n",
      "Test Epoch: 56\tAccuracy: 973/4064 (24%)\n",
      "\n"
     ]
    },
    {
     "name": "stderr",
     "output_type": "stream",
     "text": [
      " 92%|██████████████████████████████████████████████████████████████████████████████████████████████████████████████▍         | 46.002061855694066/50 [2:47:56<10:00, 150.21s/it]"
     ]
    },
    {
     "name": "stdout",
     "output_type": "stream",
     "text": [
      "Train Epoch: 57 [0/11481 (0%)]\tLoss: nan\n",
      "Mem before-during-after: 21596672 4334000128 21483008\n"
     ]
    },
    {
     "name": "stderr",
     "output_type": "stream",
     "text": [
      " 92%|███████████████████████████████████████████████████████████████████████████████████████████████████████████████▌         | 46.08453608249833/50 [2:48:16<16:08, 247.25s/it]"
     ]
    },
    {
     "name": "stdout",
     "output_type": "stream",
     "text": [
      "Train Epoch: 57 [1280/11481 (11%)]\tLoss: nan\n",
      "Mem before-during-after: 21483008 4332337152 21483008\n"
     ]
    },
    {
     "name": "stderr",
     "output_type": "stream",
     "text": [
      " 92%|████████████████████████████████████████████████████████████████████████████████████████████████████████████████▋         | 46.1670103093026/50 [2:48:36<15:53, 248.78s/it]"
     ]
    },
    {
     "name": "stdout",
     "output_type": "stream",
     "text": [
      "Train Epoch: 57 [2560/11481 (22%)]\tLoss: nan\n",
      "Mem before-during-after: 21483008 4332337152 21483008\n"
     ]
    },
    {
     "name": "stderr",
     "output_type": "stream",
     "text": [
      " 92%|███████████████████████████████████████████████████████████████████████████████████████████████████████████████▉         | 46.24948453610686/50 [2:48:56<15:30, 248.04s/it]"
     ]
    },
    {
     "name": "stdout",
     "output_type": "stream",
     "text": [
      "Train Epoch: 57 [3840/11481 (34%)]\tLoss: nan\n",
      "Mem before-during-after: 21483008 4332337152 21483008\n"
     ]
    },
    {
     "name": "stderr",
     "output_type": "stream",
     "text": [
      " 93%|████████████████████████████████████████████████████████████████████████████████████████████████████████████████         | 46.33195876291113/50 [2:49:16<15:13, 249.08s/it]"
     ]
    },
    {
     "name": "stdout",
     "output_type": "stream",
     "text": [
      "Train Epoch: 57 [5120/11481 (45%)]\tLoss: nan\n",
      "Mem before-during-after: 21483008 4332337152 21483008\n"
     ]
    },
    {
     "name": "stderr",
     "output_type": "stream",
     "text": [
      " 93%|███████████████████████████████████████████████████████████████████████████████████████████████████████████████▍        | 46.414432989715394/50 [2:49:36<14:53, 249.07s/it]"
     ]
    },
    {
     "name": "stdout",
     "output_type": "stream",
     "text": [
      "Train Epoch: 57 [6400/11481 (56%)]\tLoss: nan\n",
      "Mem before-during-after: 21483008 4332337152 21483008\n"
     ]
    },
    {
     "name": "stderr",
     "output_type": "stream",
     "text": [
      " 93%|████████████████████████████████████████████████████████████████████████████████████████████████████████████████▌        | 46.49690721651966/50 [2:49:57<14:43, 252.31s/it]"
     ]
    },
    {
     "name": "stdout",
     "output_type": "stream",
     "text": [
      "Train Epoch: 57 [7680/11481 (67%)]\tLoss: nan\n",
      "Mem before-during-after: 21483008 4332337152 21483008\n"
     ]
    },
    {
     "name": "stderr",
     "output_type": "stream",
     "text": [
      " 93%|███████████████████████████████████████████████████████████████████████████████████████████████████████████████▊        | 46.579381443323925/50 [2:50:17<14:04, 246.87s/it]"
     ]
    },
    {
     "name": "stdout",
     "output_type": "stream",
     "text": [
      "Train Epoch: 57 [8960/11481 (78%)]\tLoss: nan\n",
      "Mem before-during-after: 21483008 4332337152 21483008\n"
     ]
    },
    {
     "name": "stderr",
     "output_type": "stream",
     "text": [
      " 93%|████████████████████████████████████████████████████████████████████████████████████████████████████████████████▉        | 46.66185567012819/50 [2:50:37<13:52, 249.45s/it]"
     ]
    },
    {
     "name": "stdout",
     "output_type": "stream",
     "text": [
      "Train Epoch: 57 [10240/11481 (89%)]\tLoss: nan\n",
      "Mem before-during-after: 21483008 4332337152 21483008\n"
     ]
    },
    {
     "name": "stderr",
     "output_type": "stream",
     "text": [
      " 94%|█████████████████████████████████████████████████████████████████████████████████████████████████████████████████▋       | 47.00000000002568/50 [2:51:25<06:42, 134.31s/it]"
     ]
    },
    {
     "name": "stdout",
     "output_type": "stream",
     "text": [
      "\n",
      "Test Epoch: 57\tAccuracy: 974/4064 (24%)\n",
      "\n"
     ]
    },
    {
     "name": "stderr",
     "output_type": "stream",
     "text": [
      " 94%|████████████████████████████████████████████████████████████████████████████████████████████████████████████████▊       | 47.002061855695786/50 [2:51:26<08:18, 166.29s/it]"
     ]
    },
    {
     "name": "stdout",
     "output_type": "stream",
     "text": [
      "Train Epoch: 58 [0/11481 (0%)]\tLoss: nan\n",
      "Mem before-during-after: 21596672 4334000128 21483008\n"
     ]
    },
    {
     "name": "stderr",
     "output_type": "stream",
     "text": [
      " 94%|█████████████████████████████████████████████████████████████████████████████████████████████████████████████████▉       | 47.08453608250005/50 [2:51:46<12:07, 249.47s/it]"
     ]
    },
    {
     "name": "stdout",
     "output_type": "stream",
     "text": [
      "Train Epoch: 58 [1280/11481 (11%)]\tLoss: nan\n",
      "Mem before-during-after: 21483008 4332337152 21483008\n"
     ]
    },
    {
     "name": "stderr",
     "output_type": "stream",
     "text": [
      " 94%|██████████████████████████████████████████████████████████████████████████████████████████████████████████████████▏      | 47.16701030930432/50 [2:52:06<11:42, 248.04s/it]"
     ]
    },
    {
     "name": "stdout",
     "output_type": "stream",
     "text": [
      "Train Epoch: 58 [2560/11481 (22%)]\tLoss: nan\n",
      "Mem before-during-after: 21483008 4332337152 21483008\n"
     ]
    },
    {
     "name": "stderr",
     "output_type": "stream",
     "text": [
      " 94%|██████████████████████████████████████████████████████████████████████████████████████████████████████████████████▎      | 47.24948453610858/50 [2:52:26<11:27, 250.11s/it]"
     ]
    },
    {
     "name": "stdout",
     "output_type": "stream",
     "text": [
      "Train Epoch: 58 [3840/11481 (34%)]\tLoss: nan\n",
      "Mem before-during-after: 21483008 4332337152 21483008\n"
     ]
    },
    {
     "name": "stderr",
     "output_type": "stream",
     "text": [
      " 95%|██████████████████████████████████████████████████████████████████████████████████████████████████████████████████▌      | 47.33195876291285/50 [2:52:47<11:10, 251.38s/it]"
     ]
    },
    {
     "name": "stdout",
     "output_type": "stream",
     "text": [
      "Train Epoch: 58 [5120/11481 (45%)]\tLoss: nan\n",
      "Mem before-during-after: 21483008 4332337152 21483008\n"
     ]
    },
    {
     "name": "stderr",
     "output_type": "stream",
     "text": [
      " 95%|██████████████████████████████████████████████████████████████████████████████████████████████████████████████████▋      | 47.41443298971711/50 [2:53:07<10:54, 253.23s/it]"
     ]
    },
    {
     "name": "stdout",
     "output_type": "stream",
     "text": [
      "Train Epoch: 58 [6400/11481 (56%)]\tLoss: nan\n",
      "Mem before-during-after: 21483008 4332337152 21483008\n"
     ]
    },
    {
     "name": "stderr",
     "output_type": "stream",
     "text": [
      " 95%|██████████████████████████████████████████████████████████████████████████████████████████████████████████████████▉      | 47.49690721652138/50 [2:53:28<10:31, 252.31s/it]"
     ]
    },
    {
     "name": "stdout",
     "output_type": "stream",
     "text": [
      "Train Epoch: 58 [7680/11481 (67%)]\tLoss: nan\n",
      "Mem before-during-after: 21483008 4332337152 21483008\n"
     ]
    },
    {
     "name": "stderr",
     "output_type": "stream",
     "text": [
      " 95%|██████████████████████████████████████████████████████████████████████████████████████████████████████████████████▏     | 47.579381443325644/50 [2:53:48<10:14, 253.65s/it]"
     ]
    },
    {
     "name": "stdout",
     "output_type": "stream",
     "text": [
      "Train Epoch: 58 [8960/11481 (78%)]\tLoss: nan\n",
      "Mem before-during-after: 21483008 4332337152 21483008\n"
     ]
    },
    {
     "name": "stderr",
     "output_type": "stream",
     "text": [
      " 95%|███████████████████████████████████████████████████████████████████████████████████████████████████████████████████▎     | 47.66185567012991/50 [2:54:08<09:50, 252.62s/it]"
     ]
    },
    {
     "name": "stdout",
     "output_type": "stream",
     "text": [
      "Train Epoch: 58 [10240/11481 (89%)]\tLoss: nan\n",
      "Mem before-during-after: 21483008 4332337152 21483008\n"
     ]
    },
    {
     "name": "stderr",
     "output_type": "stream",
     "text": [
      " 96%|█████████████████████████████████████████████████████████████████████████████████████████████████████████████████████     | 48.0000000000274/50 [2:54:57<03:41, 110.97s/it]"
     ]
    },
    {
     "name": "stdout",
     "output_type": "stream",
     "text": [
      "\n",
      "Test Epoch: 58\tAccuracy: 971/4064 (24%)\n",
      "\n"
     ]
    },
    {
     "name": "stderr",
     "output_type": "stream",
     "text": [
      " 96%|███████████████████████████████████████████████████████████████████████████████████████████████████████████████████▏    | 48.002061855697505/50 [2:54:58<04:57, 148.91s/it]"
     ]
    },
    {
     "name": "stdout",
     "output_type": "stream",
     "text": [
      "Train Epoch: 59 [0/11481 (0%)]\tLoss: nan\n",
      "Mem before-during-after: 21596672 4334000128 21483008\n"
     ]
    },
    {
     "name": "stderr",
     "output_type": "stream",
     "text": [
      " 96%|████████████████████████████████████████████████████████████████████████████████████████████████████████████████████▎    | 48.08453608250177/50 [2:55:18<08:05, 253.33s/it]"
     ]
    },
    {
     "name": "stdout",
     "output_type": "stream",
     "text": [
      "Train Epoch: 59 [1280/11481 (11%)]\tLoss: nan\n",
      "Mem before-during-after: 21483008 4332337152 21483008\n"
     ]
    },
    {
     "name": "stderr",
     "output_type": "stream",
     "text": [
      " 96%|███████████████████████████████████████████████████████████████████████████████████████████████████████████████████▌    | 48.167010309306036/50 [2:55:38<07:43, 252.78s/it]"
     ]
    },
    {
     "name": "stdout",
     "output_type": "stream",
     "text": [
      "Train Epoch: 59 [2560/11481 (22%)]\tLoss: nan\n",
      "Mem before-during-after: 21483008 4332337152 21483008\n"
     ]
    },
    {
     "name": "stderr",
     "output_type": "stream",
     "text": [
      " 96%|█████████████████████████████████████████████████████████████████████████████████████████████████████████████████████▋    | 48.2494845361103/50 [2:55:59<07:18, 250.72s/it]"
     ]
    },
    {
     "name": "stdout",
     "output_type": "stream",
     "text": [
      "Train Epoch: 59 [3840/11481 (34%)]\tLoss: nan\n",
      "Mem before-during-after: 21483008 4332337152 21483008\n"
     ]
    },
    {
     "name": "stderr",
     "output_type": "stream",
     "text": [
      " 97%|████████████████████████████████████████████████████████████████████████████████████████████████████████████████████▉    | 48.33195876291457/50 [2:56:19<06:59, 251.36s/it]"
     ]
    },
    {
     "name": "stdout",
     "output_type": "stream",
     "text": [
      "Train Epoch: 59 [5120/11481 (45%)]\tLoss: nan\n",
      "Mem before-during-after: 21483008 4332337152 21483008\n"
     ]
    },
    {
     "name": "stderr",
     "output_type": "stream",
     "text": [
      " 97%|█████████████████████████████████████████████████████████████████████████████████████████████████████████████████████▏   | 48.41443298971883/50 [2:56:40<06:36, 249.89s/it]"
     ]
    },
    {
     "name": "stdout",
     "output_type": "stream",
     "text": [
      "Train Epoch: 59 [6400/11481 (56%)]\tLoss: nan\n",
      "Mem before-during-after: 21483008 4332337152 21483008\n"
     ]
    },
    {
     "name": "stderr",
     "output_type": "stream",
     "text": [
      " 97%|██████████████████████████████████████████████████████████████████████████████████████████████████████████████████████▎   | 48.4969072165231/50 [2:57:00<06:18, 251.58s/it]"
     ]
    },
    {
     "name": "stdout",
     "output_type": "stream",
     "text": [
      "Train Epoch: 59 [7680/11481 (67%)]\tLoss: nan\n",
      "Mem before-during-after: 21483008 4332337152 21483008\n"
     ]
    },
    {
     "name": "stderr",
     "output_type": "stream",
     "text": [
      " 97%|████████████████████████████████████████████████████████████████████████████████████████████████████████████████████▌   | 48.579381443327364/50 [2:57:20<05:53, 248.69s/it]"
     ]
    },
    {
     "name": "stdout",
     "output_type": "stream",
     "text": [
      "Train Epoch: 59 [8960/11481 (78%)]\tLoss: nan\n",
      "Mem before-during-after: 21483008 4332337152 21483008\n"
     ]
    },
    {
     "name": "stderr",
     "output_type": "stream",
     "text": [
      " 97%|█████████████████████████████████████████████████████████████████████████████████████████████████████████████████████▊   | 48.66185567013163/50 [2:57:41<05:38, 252.96s/it]"
     ]
    },
    {
     "name": "stdout",
     "output_type": "stream",
     "text": [
      "Train Epoch: 59 [10240/11481 (89%)]\tLoss: nan\n",
      "Mem before-during-after: 21483008 4332337152 21483008\n"
     ]
    },
    {
     "name": "stderr",
     "output_type": "stream",
     "text": [
      " 98%|██████████████████████████████████████████████████████████████████████████████████████████████████████████████████████▌  | 49.00000000002912/50 [2:58:29<01:53, 113.93s/it]"
     ]
    },
    {
     "name": "stdout",
     "output_type": "stream",
     "text": [
      "\n",
      "Test Epoch: 59\tAccuracy: 969/4064 (24%)\n",
      "\n"
     ]
    },
    {
     "name": "stderr",
     "output_type": "stream",
     "text": [
      " 98%|█████████████████████████████████████████████████████████████████████████████████████████████████████████████████████▌  | 49.002061855699225/50 [2:58:30<02:32, 152.59s/it]"
     ]
    },
    {
     "name": "stdout",
     "output_type": "stream",
     "text": [
      "Train Epoch: 60 [0/11481 (0%)]\tLoss: nan\n",
      "Mem before-during-after: 21596672 4334000128 21483008\n"
     ]
    },
    {
     "name": "stderr",
     "output_type": "stream",
     "text": [
      " 98%|██████████████████████████████████████████████████████████████████████████████████████████████████████████████████████▊  | 49.08453608250349/50 [2:58:50<03:50, 251.98s/it]"
     ]
    },
    {
     "name": "stdout",
     "output_type": "stream",
     "text": [
      "Train Epoch: 60 [1280/11481 (11%)]\tLoss: nan\n",
      "Mem before-during-after: 21483008 4332337152 21483008\n"
     ]
    },
    {
     "name": "stderr",
     "output_type": "stream",
     "text": [
      " 98%|██████████████████████████████████████████████████████████████████████████████████████████████████████████████████████  | 49.167010309307756/50 [2:59:11<03:30, 253.17s/it]"
     ]
    },
    {
     "name": "stdout",
     "output_type": "stream",
     "text": [
      "Train Epoch: 60 [2560/11481 (22%)]\tLoss: nan\n",
      "Mem before-during-after: 21483008 4332337152 21483008\n"
     ]
    },
    {
     "name": "stderr",
     "output_type": "stream",
     "text": [
      " 98%|███████████████████████████████████████████████████████████████████████████████████████████████████████████████████████▏ | 49.24948453611202/50 [2:59:31<03:08, 250.64s/it]"
     ]
    },
    {
     "name": "stdout",
     "output_type": "stream",
     "text": [
      "Train Epoch: 60 [3840/11481 (34%)]\tLoss: nan\n",
      "Mem before-during-after: 21483008 4332337152 21483008\n"
     ]
    },
    {
     "name": "stderr",
     "output_type": "stream",
     "text": [
      " 99%|███████████████████████████████████████████████████████████████████████████████████████████████████████████████████████▍ | 49.33195876291629/50 [2:59:51<02:47, 251.24s/it]"
     ]
    },
    {
     "name": "stdout",
     "output_type": "stream",
     "text": [
      "Train Epoch: 60 [5120/11481 (45%)]\tLoss: nan\n",
      "Mem before-during-after: 21483008 4332337152 21483008\n"
     ]
    },
    {
     "name": "stderr",
     "output_type": "stream",
     "text": [
      " 99%|███████████████████████████████████████████████████████████████████████████████████████████████████████████████████████▌ | 49.41443298972055/50 [3:00:12<02:28, 254.32s/it]"
     ]
    },
    {
     "name": "stdout",
     "output_type": "stream",
     "text": [
      "Train Epoch: 60 [6400/11481 (56%)]\tLoss: nan\n",
      "Mem before-during-after: 21483008 4332337152 21483008\n"
     ]
    },
    {
     "name": "stderr",
     "output_type": "stream",
     "text": [
      " 99%|███████████████████████████████████████████████████████████████████████████████████████████████████████████████████████▊ | 49.49690721652482/50 [3:00:32<02:05, 250.14s/it]"
     ]
    },
    {
     "name": "stdout",
     "output_type": "stream",
     "text": [
      "Train Epoch: 60 [7680/11481 (67%)]\tLoss: nan\n",
      "Mem before-during-after: 21483008 4332337152 21483008\n"
     ]
    },
    {
     "name": "stderr",
     "output_type": "stream",
     "text": [
      " 99%|███████████████████████████████████████████████████████████████████████████████████████████████████████████████████████▉ | 49.57938144332908/50 [3:00:52<01:44, 248.29s/it]"
     ]
    },
    {
     "name": "stdout",
     "output_type": "stream",
     "text": [
      "Train Epoch: 60 [8960/11481 (78%)]\tLoss: nan\n",
      "Mem before-during-after: 21483008 4332337152 21483008\n"
     ]
    },
    {
     "name": "stderr",
     "output_type": "stream",
     "text": [
      " 99%|████████████████████████████████████████████████████████████████████████████████████████████████████████████████████████▏| 49.66185567013335/50 [3:01:12<01:24, 249.49s/it]"
     ]
    },
    {
     "name": "stdout",
     "output_type": "stream",
     "text": [
      "Train Epoch: 60 [10240/11481 (89%)]\tLoss: nan\n",
      "Mem before-during-after: 21483008 4332337152 21483008\n"
     ]
    },
    {
     "name": "stderr",
     "output_type": "stream",
     "text": [
      "100%|████████████████████████████████████████████████████████████████████████████████████████████████████████████████████████▉| 49.99793814436073/50 [3:02:01<00:00, 113.65s/it]/opt/anaconda3/envs/audio/lib/python3.9/site-packages/tqdm/std.py:639: TqdmWarning: clamping frac to range [0, 1]\n",
      "  full_bar = Bar(frac,\n",
      "100%|█████████████████████████████████████████████████████████████████████████████████████████████████████████████████████████| 50.00000000003084/50 [3:02:01<00:00, 218.43s/it]"
     ]
    },
    {
     "name": "stdout",
     "output_type": "stream",
     "text": [
      "\n",
      "Test Epoch: 60\tAccuracy: 970/4064 (24%)\n",
      "\n"
     ]
    },
    {
     "name": "stderr",
     "output_type": "stream",
     "text": [
      "\n"
     ]
    }
   ],
   "source": [
    "n_epoch = 10\n",
    "n_epoch2 = 50\n",
    "# train_losses = []\n",
    "# test_accuracy = []\n",
    "optimizer = optim.RAdam(model.parameters(), lr=0.0001)\n",
    "scheduler = optim.lr_scheduler.OneCycleLR(\n",
    "    optimizer, max_lr=0.05,\n",
    "    steps_per_epoch=len(train_loader), epochs=n_epoch2)\n",
    "\n",
    "log_interval = 40\n",
    "pbar_update = 1 / (len(train_loader) + len(test_loader))\n",
    "# model.to(device)\n",
    "with tqdm(total=n_epoch2) as pbar:\n",
    "    for epoch in range(1+n_epoch, n_epoch2 + n_epoch + 1):\n",
    "        train(model, epoch, log_interval, train_losses)\n",
    "        acc = test(model, epoch)\n",
    "        test_accuracy += [acc]\n",
    "        scheduler.step()"
   ]
  },
  {
   "cell_type": "code",
   "execution_count": 31,
   "id": "11e9fd9b-3744-4431-9cd5-e992e2cbded0",
   "metadata": {},
   "outputs": [
    {
     "data": {
      "text/plain": [
       "[<matplotlib.lines.Line2D at 0x7ff15af756d0>]"
      ]
     },
     "execution_count": 31,
     "metadata": {},
     "output_type": "execute_result"
    },
    {
     "data": {
      "image/png": "[encoded data removed]",
      "text/plain": [
       "<Figure size 640x480 with 1 Axes>"
      ]
     },
     "metadata": {},
     "output_type": "display_data"
    }
   ],
   "source": [
    "plt.plot(train_losses)"
   ]
  },
  {
   "cell_type": "code",
   "execution_count": 32,
   "id": "a2bc699a-aede-4d92-94c7-e0dd0bdf41cc",
   "metadata": {},
   "outputs": [
    {
     "data": {
      "text/plain": [
       "[<matplotlib.lines.Line2D at 0x7ff1433a7af0>]"
      ]
     },
     "execution_count": 32,
     "metadata": {},
     "output_type": "execute_result"
    },
    {
     "data": {
      "image/png": "[encoded data removed]",
      "text/plain": [
       "<Figure size 640x480 with 1 Axes>"
      ]
     },
     "metadata": {},
     "output_type": "display_data"
    }
   ],
   "source": [
    "plt.plot(test_accuracy)"
   ]
  },
  {
   "cell_type": "code",
   "execution_count": 33,
   "id": "bcb91791-8b55-4bf6-a00c-e45814a31d2b",
   "metadata": {},
   "outputs": [
    {
     "name": "stdout",
     "output_type": "stream",
     "text": [
      "Correct: 971/4064 (0.2389)\n",
      "{'acc_detail': tensor([1., 0.], device='cuda:0'),\n",
      " 'acc_unweighted': tensor(0.5000, device='cuda:0'),\n",
      " 'acc_weighted': tensor(0.2389, device='cuda:0'),\n",
      " 'f1s': tensor(0.1929, device='cuda:0'),\n",
      " 'f1s_detail': tensor([0.3857, 0.0000], device='cuda:0'),\n",
      " 'precision_detail': tensor([0.2389, 0.0000], device='cuda:0'),\n",
      " 'recall_detail': tensor([1., 0.], device='cuda:0'),\n",
      " 'rocauc': tensor([0.4943, 0.5057], device='cuda:0'),\n",
      " 'uar': tensor(0.5000, device='cuda:0'),\n",
      " 'wap': tensor(0.0571, device='cuda:0')}\n"
     ]
    },
    {
     "data": {
      "text/plain": [
       "tensor([[ 971,    0],\n",
       "        [3093,    0]], device='cuda:0')"
      ]
     },
     "execution_count": 33,
     "metadata": {},
     "output_type": "execute_result"
    }
   ],
   "source": [
    "metrics2, confusion_matrix2 = report_metrics(model)\n",
    "pprint(metrics2.compute())\n",
    "confusion_matrix2.compute()"
   ]
  },
  {
   "cell_type": "code",
   "execution_count": 34,
   "id": "20519e48-1dbc-47a9-a884-970a5bc1539b",
   "metadata": {},
   "outputs": [],
   "source": [
    "model_path = '../physio16k_fold4_m13sinc_60epochs.pt' \n",
    "torch.save(model.state_dict(), model_path)"
   ]
  },
  {
   "cell_type": "code",
   "execution_count": 35,
   "id": "5ed497dc-1b6a-456a-81d7-64fbdc027564",
   "metadata": {
    "scrolled": true
   },
   "outputs": [
    {
     "name": "stdout",
     "output_type": "stream",
     "text": [
      "('lowcut_bands', Parameter containing:\n",
      "tensor([[nan],\n",
      "        [nan],\n",
      "        [nan],\n",
      "        [nan],\n",
      "        [nan],\n",
      "        [nan],\n",
      "        [nan],\n",
      "        [nan],\n",
      "        [nan],\n",
      "        [nan],\n",
      "        [nan],\n",
      "        [nan],\n",
      "        [nan],\n",
      "        [nan],\n",
      "        [nan],\n",
      "        [nan],\n",
      "        [nan],\n",
      "        [nan],\n",
      "        [nan],\n",
      "        [nan],\n",
      "        [nan],\n",
      "        [nan],\n",
      "        [nan],\n",
      "        [nan],\n",
      "        [nan],\n",
      "        [nan],\n",
      "        [nan],\n",
      "        [nan],\n",
      "        [nan],\n",
      "        [nan],\n",
      "        [nan],\n",
      "        [nan],\n",
      "        [nan],\n",
      "        [nan],\n",
      "        [nan],\n",
      "        [nan],\n",
      "        [nan],\n",
      "        [nan],\n",
      "        [nan],\n",
      "        [nan],\n",
      "        [nan],\n",
      "        [nan],\n",
      "        [nan],\n",
      "        [nan],\n",
      "        [nan],\n",
      "        [nan],\n",
      "        [nan],\n",
      "        [nan],\n",
      "        [nan],\n",
      "        [nan],\n",
      "        [nan],\n",
      "        [nan],\n",
      "        [nan],\n",
      "        [nan],\n",
      "        [nan],\n",
      "        [nan],\n",
      "        [nan],\n",
      "        [nan],\n",
      "        [nan],\n",
      "        [nan],\n",
      "        [nan],\n",
      "        [nan],\n",
      "        [nan],\n",
      "        [nan],\n",
      "        [nan],\n",
      "        [nan],\n",
      "        [nan],\n",
      "        [nan],\n",
      "        [nan],\n",
      "        [nan],\n",
      "        [nan],\n",
      "        [nan],\n",
      "        [nan],\n",
      "        [nan],\n",
      "        [nan],\n",
      "        [nan],\n",
      "        [nan],\n",
      "        [nan],\n",
      "        [nan],\n",
      "        [nan],\n",
      "        [nan],\n",
      "        [nan],\n",
      "        [nan],\n",
      "        [nan],\n",
      "        [nan],\n",
      "        [nan],\n",
      "        [nan],\n",
      "        [nan],\n",
      "        [nan],\n",
      "        [nan],\n",
      "        [nan],\n",
      "        [nan],\n",
      "        [nan],\n",
      "        [nan],\n",
      "        [nan],\n",
      "        [nan],\n",
      "        [nan],\n",
      "        [nan],\n",
      "        [nan],\n",
      "        [nan],\n",
      "        [nan],\n",
      "        [nan],\n",
      "        [nan],\n",
      "        [nan],\n",
      "        [nan],\n",
      "        [nan],\n",
      "        [nan],\n",
      "        [nan],\n",
      "        [nan],\n",
      "        [nan],\n",
      "        [nan],\n",
      "        [nan],\n",
      "        [nan],\n",
      "        [nan],\n",
      "        [nan],\n",
      "        [nan],\n",
      "        [nan],\n",
      "        [nan],\n",
      "        [nan],\n",
      "        [nan],\n",
      "        [nan],\n",
      "        [nan],\n",
      "        [nan],\n",
      "        [nan],\n",
      "        [nan],\n",
      "        [nan],\n",
      "        [nan],\n",
      "        [nan]], device='cuda:0', requires_grad=True))\n",
      "('bandwidths', Parameter containing:\n",
      "tensor([[nan],\n",
      "        [nan],\n",
      "        [nan],\n",
      "        [nan],\n",
      "        [nan],\n",
      "        [nan],\n",
      "        [nan],\n",
      "        [nan],\n",
      "        [nan],\n",
      "        [nan],\n",
      "        [nan],\n",
      "        [nan],\n",
      "        [nan],\n",
      "        [nan],\n",
      "        [nan],\n",
      "        [nan],\n",
      "        [nan],\n",
      "        [nan],\n",
      "        [nan],\n",
      "        [nan],\n",
      "        [nan],\n",
      "        [nan],\n",
      "        [nan],\n",
      "        [nan],\n",
      "        [nan],\n",
      "        [nan],\n",
      "        [nan],\n",
      "        [nan],\n",
      "        [nan],\n",
      "        [nan],\n",
      "        [nan],\n",
      "        [nan],\n",
      "        [nan],\n",
      "        [nan],\n",
      "        [nan],\n",
      "        [nan],\n",
      "        [nan],\n",
      "        [nan],\n",
      "        [nan],\n",
      "        [nan],\n",
      "        [nan],\n",
      "        [nan],\n",
      "        [nan],\n",
      "        [nan],\n",
      "        [nan],\n",
      "        [nan],\n",
      "        [nan],\n",
      "        [nan],\n",
      "        [nan],\n",
      "        [nan],\n",
      "        [nan],\n",
      "        [nan],\n",
      "        [nan],\n",
      "        [nan],\n",
      "        [nan],\n",
      "        [nan],\n",
      "        [nan],\n",
      "        [nan],\n",
      "        [nan],\n",
      "        [nan],\n",
      "        [nan],\n",
      "        [nan],\n",
      "        [nan],\n",
      "        [nan],\n",
      "        [nan],\n",
      "        [nan],\n",
      "        [nan],\n",
      "        [nan],\n",
      "        [nan],\n",
      "        [nan],\n",
      "        [nan],\n",
      "        [nan],\n",
      "        [nan],\n",
      "        [nan],\n",
      "        [nan],\n",
      "        [nan],\n",
      "        [nan],\n",
      "        [nan],\n",
      "        [nan],\n",
      "        [nan],\n",
      "        [nan],\n",
      "        [nan],\n",
      "        [nan],\n",
      "        [nan],\n",
      "        [nan],\n",
      "        [nan],\n",
      "        [nan],\n",
      "        [nan],\n",
      "        [nan],\n",
      "        [nan],\n",
      "        [nan],\n",
      "        [nan],\n",
      "        [nan],\n",
      "        [nan],\n",
      "        [nan],\n",
      "        [nan],\n",
      "        [nan],\n",
      "        [nan],\n",
      "        [nan],\n",
      "        [nan],\n",
      "        [nan],\n",
      "        [nan],\n",
      "        [nan],\n",
      "        [nan],\n",
      "        [nan],\n",
      "        [nan],\n",
      "        [nan],\n",
      "        [nan],\n",
      "        [nan],\n",
      "        [nan],\n",
      "        [nan],\n",
      "        [nan],\n",
      "        [nan],\n",
      "        [nan],\n",
      "        [nan],\n",
      "        [nan],\n",
      "        [nan],\n",
      "        [nan],\n",
      "        [nan],\n",
      "        [nan],\n",
      "        [nan],\n",
      "        [nan],\n",
      "        [nan],\n",
      "        [nan],\n",
      "        [nan],\n",
      "        [nan],\n",
      "        [nan],\n",
      "        [nan]], device='cuda:0', requires_grad=True))\n"
     ]
    }
   ],
   "source": [
    "layer = model.fe_blocks.blocks[0].block.layer\n",
    "visualize_model.print_parameters(layer)"
   ]
  },
  {
   "cell_type": "code",
   "execution_count": 36,
   "id": "06702656-87ec-40f8-b2e8-8359f390e163",
   "metadata": {
    "scrolled": true
   },
   "outputs": [
    {
     "name": "stdout",
     "output_type": "stream",
     "text": [
      "tensor([[nan],\n",
      "        [nan],\n",
      "        [nan],\n",
      "        [nan],\n",
      "        [nan],\n",
      "        [nan],\n",
      "        [nan],\n",
      "        [nan],\n",
      "        [nan],\n",
      "        [nan],\n",
      "        [nan],\n",
      "        [nan],\n",
      "        [nan],\n",
      "        [nan],\n",
      "        [nan],\n",
      "        [nan],\n",
      "        [nan],\n",
      "        [nan],\n",
      "        [nan],\n",
      "        [nan],\n",
      "        [nan],\n",
      "        [nan],\n",
      "        [nan],\n",
      "        [nan],\n",
      "        [nan],\n",
      "        [nan],\n",
      "        [nan],\n",
      "        [nan],\n",
      "        [nan],\n",
      "        [nan],\n",
      "        [nan],\n",
      "        [nan],\n",
      "        [nan],\n",
      "        [nan],\n",
      "        [nan],\n",
      "        [nan],\n",
      "        [nan],\n",
      "        [nan],\n",
      "        [nan],\n",
      "        [nan],\n",
      "        [nan],\n",
      "        [nan],\n",
      "        [nan],\n",
      "        [nan],\n",
      "        [nan],\n",
      "        [nan],\n",
      "        [nan],\n",
      "        [nan],\n",
      "        [nan],\n",
      "        [nan],\n",
      "        [nan],\n",
      "        [nan],\n",
      "        [nan],\n",
      "        [nan],\n",
      "        [nan],\n",
      "        [nan],\n",
      "        [nan],\n",
      "        [nan],\n",
      "        [nan],\n",
      "        [nan],\n",
      "        [nan],\n",
      "        [nan],\n",
      "        [nan],\n",
      "        [nan],\n",
      "        [nan],\n",
      "        [nan],\n",
      "        [nan],\n",
      "        [nan],\n",
      "        [nan],\n",
      "        [nan],\n",
      "        [nan],\n",
      "        [nan],\n",
      "        [nan],\n",
      "        [nan],\n",
      "        [nan],\n",
      "        [nan],\n",
      "        [nan],\n",
      "        [nan],\n",
      "        [nan],\n",
      "        [nan],\n",
      "        [nan],\n",
      "        [nan],\n",
      "        [nan],\n",
      "        [nan],\n",
      "        [nan],\n",
      "        [nan],\n",
      "        [nan],\n",
      "        [nan],\n",
      "        [nan],\n",
      "        [nan],\n",
      "        [nan],\n",
      "        [nan],\n",
      "        [nan],\n",
      "        [nan],\n",
      "        [nan],\n",
      "        [nan],\n",
      "        [nan],\n",
      "        [nan],\n",
      "        [nan],\n",
      "        [nan],\n",
      "        [nan],\n",
      "        [nan],\n",
      "        [nan],\n",
      "        [nan],\n",
      "        [nan],\n",
      "        [nan],\n",
      "        [nan],\n",
      "        [nan],\n",
      "        [nan],\n",
      "        [nan],\n",
      "        [nan],\n",
      "        [nan],\n",
      "        [nan],\n",
      "        [nan],\n",
      "        [nan],\n",
      "        [nan],\n",
      "        [nan],\n",
      "        [nan],\n",
      "        [nan],\n",
      "        [nan],\n",
      "        [nan],\n",
      "        [nan],\n",
      "        [nan],\n",
      "        [nan],\n",
      "        [nan],\n",
      "        [nan],\n",
      "        [nan],\n",
      "        [nan]], device='cuda:0')\n",
      "tensor([[nan],\n",
      "        [nan],\n",
      "        [nan],\n",
      "        [nan],\n",
      "        [nan],\n",
      "        [nan],\n",
      "        [nan],\n",
      "        [nan],\n",
      "        [nan],\n",
      "        [nan],\n",
      "        [nan],\n",
      "        [nan],\n",
      "        [nan],\n",
      "        [nan],\n",
      "        [nan],\n",
      "        [nan],\n",
      "        [nan],\n",
      "        [nan],\n",
      "        [nan],\n",
      "        [nan],\n",
      "        [nan],\n",
      "        [nan],\n",
      "        [nan],\n",
      "        [nan],\n",
      "        [nan],\n",
      "        [nan],\n",
      "        [nan],\n",
      "        [nan],\n",
      "        [nan],\n",
      "        [nan],\n",
      "        [nan],\n",
      "        [nan],\n",
      "        [nan],\n",
      "        [nan],\n",
      "        [nan],\n",
      "        [nan],\n",
      "        [nan],\n",
      "        [nan],\n",
      "        [nan],\n",
      "        [nan],\n",
      "        [nan],\n",
      "        [nan],\n",
      "        [nan],\n",
      "        [nan],\n",
      "        [nan],\n",
      "        [nan],\n",
      "        [nan],\n",
      "        [nan],\n",
      "        [nan],\n",
      "        [nan],\n",
      "        [nan],\n",
      "        [nan],\n",
      "        [nan],\n",
      "        [nan],\n",
      "        [nan],\n",
      "        [nan],\n",
      "        [nan],\n",
      "        [nan],\n",
      "        [nan],\n",
      "        [nan],\n",
      "        [nan],\n",
      "        [nan],\n",
      "        [nan],\n",
      "        [nan],\n",
      "        [nan],\n",
      "        [nan],\n",
      "        [nan],\n",
      "        [nan],\n",
      "        [nan],\n",
      "        [nan],\n",
      "        [nan],\n",
      "        [nan],\n",
      "        [nan],\n",
      "        [nan],\n",
      "        [nan],\n",
      "        [nan],\n",
      "        [nan],\n",
      "        [nan],\n",
      "        [nan],\n",
      "        [nan],\n",
      "        [nan],\n",
      "        [nan],\n",
      "        [nan],\n",
      "        [nan],\n",
      "        [nan],\n",
      "        [nan],\n",
      "        [nan],\n",
      "        [nan],\n",
      "        [nan],\n",
      "        [nan],\n",
      "        [nan],\n",
      "        [nan],\n",
      "        [nan],\n",
      "        [nan],\n",
      "        [nan],\n",
      "        [nan],\n",
      "        [nan],\n",
      "        [nan],\n",
      "        [nan],\n",
      "        [nan],\n",
      "        [nan],\n",
      "        [nan],\n",
      "        [nan],\n",
      "        [nan],\n",
      "        [nan],\n",
      "        [nan],\n",
      "        [nan],\n",
      "        [nan],\n",
      "        [nan],\n",
      "        [nan],\n",
      "        [nan],\n",
      "        [nan],\n",
      "        [nan],\n",
      "        [nan],\n",
      "        [nan],\n",
      "        [nan],\n",
      "        [nan],\n",
      "        [nan],\n",
      "        [nan],\n",
      "        [nan],\n",
      "        [nan],\n",
      "        [nan],\n",
      "        [nan],\n",
      "        [nan],\n",
      "        [nan],\n",
      "        [nan],\n",
      "        [nan],\n",
      "        [nan]], device='cuda:0')\n"
     ]
    },
    {
     "data": {
      "text/plain": [
       "[None, None]"
      ]
     },
     "execution_count": 36,
     "metadata": {},
     "output_type": "execute_result"
    }
   ],
   "source": [
    "[print(p.grad) for p in layer.parameters() if p.requires_grad]"
   ]
  },
  {
   "cell_type": "code",
   "execution_count": 37,
   "id": "50b22115-aa04-49f9-bf06-581a852a3118",
   "metadata": {
    "scrolled": true
   },
   "outputs": [
    {
     "name": "stderr",
     "output_type": "stream",
     "text": [
      "/opt/anaconda3/envs/audio/lib/python3.9/site-packages/matplotlib/axes/_axes.py:6831: RuntimeWarning: All-NaN slice encountered\n",
      "  xmin = min(xmin, np.nanmin(xi))\n",
      "/opt/anaconda3/envs/audio/lib/python3.9/site-packages/matplotlib/axes/_axes.py:6832: RuntimeWarning: All-NaN slice encountered\n",
      "  xmax = max(xmax, np.nanmax(xi))\n"
     ]
    },
    {
     "ename": "ValueError",
     "evalue": "autodetected range of [nan, nan] is not finite",
     "output_type": "error",
     "traceback": [
      "\u001b[0;31m---------------------------------------------------------------------------\u001b[0m",
      "\u001b[0;31mValueError\u001b[0m                                Traceback (most recent call last)",
      "Cell \u001b[0;32mIn[37], line 3\u001b[0m\n\u001b[1;32m      1\u001b[0m named_params \u001b[38;5;241m=\u001b[39m [p \u001b[38;5;28;01mfor\u001b[39;00m p \u001b[38;5;129;01min\u001b[39;00m layer\u001b[38;5;241m.\u001b[39mnamed_parameters()]\n\u001b[1;32m      2\u001b[0m lowbands \u001b[38;5;241m=\u001b[39m named_params[\u001b[38;5;241m0\u001b[39m][\u001b[38;5;241m1\u001b[39m]\u001b[38;5;241m.\u001b[39mdetach()\u001b[38;5;241m.\u001b[39mcpu()\u001b[38;5;241m.\u001b[39mnumpy()\n\u001b[0;32m----> 3\u001b[0m \u001b[43mplt\u001b[49m\u001b[38;5;241;43m.\u001b[39;49m\u001b[43mhist\u001b[49m\u001b[43m(\u001b[49m\u001b[43mlowbands\u001b[49m\u001b[38;5;241;43m.\u001b[39;49m\u001b[43mflatten\u001b[49m\u001b[43m(\u001b[49m\u001b[43m)\u001b[49m\u001b[43m,\u001b[49m\u001b[43m \u001b[49m\u001b[43mbins\u001b[49m\u001b[38;5;241;43m=\u001b[39;49m\u001b[38;5;241;43m40\u001b[39;49m\u001b[43m)\u001b[49m\n",
      "File \u001b[0;32m/opt/anaconda3/envs/audio/lib/python3.9/site-packages/matplotlib/pyplot.py:3221\u001b[0m, in \u001b[0;36mhist\u001b[0;34m(x, bins, range, density, weights, cumulative, bottom, histtype, align, orientation, rwidth, log, color, label, stacked, data, **kwargs)\u001b[0m\n\u001b[1;32m   3196\u001b[0m \u001b[38;5;129m@_copy_docstring_and_deprecators\u001b[39m(Axes\u001b[38;5;241m.\u001b[39mhist)\n\u001b[1;32m   3197\u001b[0m \u001b[38;5;28;01mdef\u001b[39;00m \u001b[38;5;21mhist\u001b[39m(\n\u001b[1;32m   3198\u001b[0m     x: ArrayLike \u001b[38;5;241m|\u001b[39m Sequence[ArrayLike],\n\u001b[0;32m   (...)\u001b[0m\n\u001b[1;32m   3219\u001b[0m     BarContainer \u001b[38;5;241m|\u001b[39m Polygon \u001b[38;5;241m|\u001b[39m \u001b[38;5;28mlist\u001b[39m[BarContainer \u001b[38;5;241m|\u001b[39m Polygon],\n\u001b[1;32m   3220\u001b[0m ]:\n\u001b[0;32m-> 3221\u001b[0m     \u001b[38;5;28;01mreturn\u001b[39;00m \u001b[43mgca\u001b[49m\u001b[43m(\u001b[49m\u001b[43m)\u001b[49m\u001b[38;5;241;43m.\u001b[39;49m\u001b[43mhist\u001b[49m\u001b[43m(\u001b[49m\n\u001b[1;32m   3222\u001b[0m \u001b[43m        \u001b[49m\u001b[43mx\u001b[49m\u001b[43m,\u001b[49m\n\u001b[1;32m   3223\u001b[0m \u001b[43m        \u001b[49m\u001b[43mbins\u001b[49m\u001b[38;5;241;43m=\u001b[39;49m\u001b[43mbins\u001b[49m\u001b[43m,\u001b[49m\n\u001b[1;32m   3224\u001b[0m \u001b[43m        \u001b[49m\u001b[38;5;28;43mrange\u001b[39;49m\u001b[38;5;241;43m=\u001b[39;49m\u001b[38;5;28;43mrange\u001b[39;49m\u001b[43m,\u001b[49m\n\u001b[1;32m   3225\u001b[0m \u001b[43m        \u001b[49m\u001b[43mdensity\u001b[49m\u001b[38;5;241;43m=\u001b[39;49m\u001b[43mdensity\u001b[49m\u001b[43m,\u001b[49m\n\u001b[1;32m   3226\u001b[0m \u001b[43m        \u001b[49m\u001b[43mweights\u001b[49m\u001b[38;5;241;43m=\u001b[39;49m\u001b[43mweights\u001b[49m\u001b[43m,\u001b[49m\n\u001b[1;32m   3227\u001b[0m \u001b[43m        \u001b[49m\u001b[43mcumulative\u001b[49m\u001b[38;5;241;43m=\u001b[39;49m\u001b[43mcumulative\u001b[49m\u001b[43m,\u001b[49m\n\u001b[1;32m   3228\u001b[0m \u001b[43m        \u001b[49m\u001b[43mbottom\u001b[49m\u001b[38;5;241;43m=\u001b[39;49m\u001b[43mbottom\u001b[49m\u001b[43m,\u001b[49m\n\u001b[1;32m   3229\u001b[0m \u001b[43m        \u001b[49m\u001b[43mhisttype\u001b[49m\u001b[38;5;241;43m=\u001b[39;49m\u001b[43mhisttype\u001b[49m\u001b[43m,\u001b[49m\n\u001b[1;32m   3230\u001b[0m \u001b[43m        \u001b[49m\u001b[43malign\u001b[49m\u001b[38;5;241;43m=\u001b[39;49m\u001b[43malign\u001b[49m\u001b[43m,\u001b[49m\n\u001b[1;32m   3231\u001b[0m \u001b[43m        \u001b[49m\u001b[43morientation\u001b[49m\u001b[38;5;241;43m=\u001b[39;49m\u001b[43morientation\u001b[49m\u001b[43m,\u001b[49m\n\u001b[1;32m   3232\u001b[0m \u001b[43m        \u001b[49m\u001b[43mrwidth\u001b[49m\u001b[38;5;241;43m=\u001b[39;49m\u001b[43mrwidth\u001b[49m\u001b[43m,\u001b[49m\n\u001b[1;32m   3233\u001b[0m \u001b[43m        \u001b[49m\u001b[43mlog\u001b[49m\u001b[38;5;241;43m=\u001b[39;49m\u001b[43mlog\u001b[49m\u001b[43m,\u001b[49m\n\u001b[1;32m   3234\u001b[0m \u001b[43m        \u001b[49m\u001b[43mcolor\u001b[49m\u001b[38;5;241;43m=\u001b[39;49m\u001b[43mcolor\u001b[49m\u001b[43m,\u001b[49m\n\u001b[1;32m   3235\u001b[0m \u001b[43m        \u001b[49m\u001b[43mlabel\u001b[49m\u001b[38;5;241;43m=\u001b[39;49m\u001b[43mlabel\u001b[49m\u001b[43m,\u001b[49m\n\u001b[1;32m   3236\u001b[0m \u001b[43m        \u001b[49m\u001b[43mstacked\u001b[49m\u001b[38;5;241;43m=\u001b[39;49m\u001b[43mstacked\u001b[49m\u001b[43m,\u001b[49m\n\u001b[1;32m   3237\u001b[0m \u001b[43m        \u001b[49m\u001b[38;5;241;43m*\u001b[39;49m\u001b[38;5;241;43m*\u001b[39;49m\u001b[43m(\u001b[49m\u001b[43m{\u001b[49m\u001b[38;5;124;43m\"\u001b[39;49m\u001b[38;5;124;43mdata\u001b[39;49m\u001b[38;5;124;43m\"\u001b[39;49m\u001b[43m:\u001b[49m\u001b[43m \u001b[49m\u001b[43mdata\u001b[49m\u001b[43m}\u001b[49m\u001b[43m \u001b[49m\u001b[38;5;28;43;01mif\u001b[39;49;00m\u001b[43m \u001b[49m\u001b[43mdata\u001b[49m\u001b[43m \u001b[49m\u001b[38;5;129;43;01mis\u001b[39;49;00m\u001b[43m \u001b[49m\u001b[38;5;129;43;01mnot\u001b[39;49;00m\u001b[43m \u001b[49m\u001b[38;5;28;43;01mNone\u001b[39;49;00m\u001b[43m \u001b[49m\u001b[38;5;28;43;01melse\u001b[39;49;00m\u001b[43m \u001b[49m\u001b[43m{\u001b[49m\u001b[43m}\u001b[49m\u001b[43m)\u001b[49m\u001b[43m,\u001b[49m\n\u001b[1;32m   3238\u001b[0m \u001b[43m        \u001b[49m\u001b[38;5;241;43m*\u001b[39;49m\u001b[38;5;241;43m*\u001b[39;49m\u001b[43mkwargs\u001b[49m\u001b[43m,\u001b[49m\n\u001b[1;32m   3239\u001b[0m \u001b[43m    \u001b[49m\u001b[43m)\u001b[49m\n",
      "File \u001b[0;32m/opt/anaconda3/envs/audio/lib/python3.9/site-packages/matplotlib/__init__.py:1465\u001b[0m, in \u001b[0;36m_preprocess_data.<locals>.inner\u001b[0;34m(ax, data, *args, **kwargs)\u001b[0m\n\u001b[1;32m   1462\u001b[0m \u001b[38;5;129m@functools\u001b[39m\u001b[38;5;241m.\u001b[39mwraps(func)\n\u001b[1;32m   1463\u001b[0m \u001b[38;5;28;01mdef\u001b[39;00m \u001b[38;5;21minner\u001b[39m(ax, \u001b[38;5;241m*\u001b[39margs, data\u001b[38;5;241m=\u001b[39m\u001b[38;5;28;01mNone\u001b[39;00m, \u001b[38;5;241m*\u001b[39m\u001b[38;5;241m*\u001b[39mkwargs):\n\u001b[1;32m   1464\u001b[0m     \u001b[38;5;28;01mif\u001b[39;00m data \u001b[38;5;129;01mis\u001b[39;00m \u001b[38;5;28;01mNone\u001b[39;00m:\n\u001b[0;32m-> 1465\u001b[0m         \u001b[38;5;28;01mreturn\u001b[39;00m \u001b[43mfunc\u001b[49m\u001b[43m(\u001b[49m\u001b[43max\u001b[49m\u001b[43m,\u001b[49m\u001b[43m \u001b[49m\u001b[38;5;241;43m*\u001b[39;49m\u001b[38;5;28;43mmap\u001b[39;49m\u001b[43m(\u001b[49m\u001b[43msanitize_sequence\u001b[49m\u001b[43m,\u001b[49m\u001b[43m \u001b[49m\u001b[43margs\u001b[49m\u001b[43m)\u001b[49m\u001b[43m,\u001b[49m\u001b[43m \u001b[49m\u001b[38;5;241;43m*\u001b[39;49m\u001b[38;5;241;43m*\u001b[39;49m\u001b[43mkwargs\u001b[49m\u001b[43m)\u001b[49m\n\u001b[1;32m   1467\u001b[0m     bound \u001b[38;5;241m=\u001b[39m new_sig\u001b[38;5;241m.\u001b[39mbind(ax, \u001b[38;5;241m*\u001b[39margs, \u001b[38;5;241m*\u001b[39m\u001b[38;5;241m*\u001b[39mkwargs)\n\u001b[1;32m   1468\u001b[0m     auto_label \u001b[38;5;241m=\u001b[39m (bound\u001b[38;5;241m.\u001b[39marguments\u001b[38;5;241m.\u001b[39mget(label_namer)\n\u001b[1;32m   1469\u001b[0m                   \u001b[38;5;129;01mor\u001b[39;00m bound\u001b[38;5;241m.\u001b[39mkwargs\u001b[38;5;241m.\u001b[39mget(label_namer))\n",
      "File \u001b[0;32m/opt/anaconda3/envs/audio/lib/python3.9/site-packages/matplotlib/axes/_axes.py:6859\u001b[0m, in \u001b[0;36mAxes.hist\u001b[0;34m(self, x, bins, range, density, weights, cumulative, bottom, histtype, align, orientation, rwidth, log, color, label, stacked, **kwargs)\u001b[0m\n\u001b[1;32m   6855\u001b[0m \u001b[38;5;66;03m# Loop through datasets\u001b[39;00m\n\u001b[1;32m   6856\u001b[0m \u001b[38;5;28;01mfor\u001b[39;00m i \u001b[38;5;129;01min\u001b[39;00m \u001b[38;5;28mrange\u001b[39m(nx):\n\u001b[1;32m   6857\u001b[0m     \u001b[38;5;66;03m# this will automatically overwrite bins,\u001b[39;00m\n\u001b[1;32m   6858\u001b[0m     \u001b[38;5;66;03m# so that each histogram uses the same bins\u001b[39;00m\n\u001b[0;32m-> 6859\u001b[0m     m, bins \u001b[38;5;241m=\u001b[39m \u001b[43mnp\u001b[49m\u001b[38;5;241;43m.\u001b[39;49m\u001b[43mhistogram\u001b[49m\u001b[43m(\u001b[49m\u001b[43mx\u001b[49m\u001b[43m[\u001b[49m\u001b[43mi\u001b[49m\u001b[43m]\u001b[49m\u001b[43m,\u001b[49m\u001b[43m \u001b[49m\u001b[43mbins\u001b[49m\u001b[43m,\u001b[49m\u001b[43m \u001b[49m\u001b[43mweights\u001b[49m\u001b[38;5;241;43m=\u001b[39;49m\u001b[43mw\u001b[49m\u001b[43m[\u001b[49m\u001b[43mi\u001b[49m\u001b[43m]\u001b[49m\u001b[43m,\u001b[49m\u001b[43m \u001b[49m\u001b[38;5;241;43m*\u001b[39;49m\u001b[38;5;241;43m*\u001b[39;49m\u001b[43mhist_kwargs\u001b[49m\u001b[43m)\u001b[49m\n\u001b[1;32m   6860\u001b[0m     tops\u001b[38;5;241m.\u001b[39mappend(m)\n\u001b[1;32m   6861\u001b[0m tops \u001b[38;5;241m=\u001b[39m np\u001b[38;5;241m.\u001b[39marray(tops, \u001b[38;5;28mfloat\u001b[39m)  \u001b[38;5;66;03m# causes problems later if it's an int\u001b[39;00m\n",
      "File \u001b[0;32m/opt/anaconda3/envs/audio/lib/python3.9/site-packages/numpy/lib/histograms.py:780\u001b[0m, in \u001b[0;36mhistogram\u001b[0;34m(a, bins, range, density, weights)\u001b[0m\n\u001b[1;32m    680\u001b[0m \u001b[38;5;250m\u001b[39m\u001b[38;5;124mr\u001b[39m\u001b[38;5;124;03m\"\"\"\u001b[39;00m\n\u001b[1;32m    681\u001b[0m \u001b[38;5;124;03mCompute the histogram of a dataset.\u001b[39;00m\n\u001b[1;32m    682\u001b[0m \n\u001b[0;32m   (...)\u001b[0m\n\u001b[1;32m    776\u001b[0m \n\u001b[1;32m    777\u001b[0m \u001b[38;5;124;03m\"\"\"\u001b[39;00m\n\u001b[1;32m    778\u001b[0m a, weights \u001b[38;5;241m=\u001b[39m _ravel_and_check_weights(a, weights)\n\u001b[0;32m--> 780\u001b[0m bin_edges, uniform_bins \u001b[38;5;241m=\u001b[39m \u001b[43m_get_bin_edges\u001b[49m\u001b[43m(\u001b[49m\u001b[43ma\u001b[49m\u001b[43m,\u001b[49m\u001b[43m \u001b[49m\u001b[43mbins\u001b[49m\u001b[43m,\u001b[49m\u001b[43m \u001b[49m\u001b[38;5;28;43mrange\u001b[39;49m\u001b[43m,\u001b[49m\u001b[43m \u001b[49m\u001b[43mweights\u001b[49m\u001b[43m)\u001b[49m\n\u001b[1;32m    782\u001b[0m \u001b[38;5;66;03m# Histogram is an integer or a float array depending on the weights.\u001b[39;00m\n\u001b[1;32m    783\u001b[0m \u001b[38;5;28;01mif\u001b[39;00m weights \u001b[38;5;129;01mis\u001b[39;00m \u001b[38;5;28;01mNone\u001b[39;00m:\n",
      "File \u001b[0;32m/opt/anaconda3/envs/audio/lib/python3.9/site-packages/numpy/lib/histograms.py:426\u001b[0m, in \u001b[0;36m_get_bin_edges\u001b[0;34m(a, bins, range, weights)\u001b[0m\n\u001b[1;32m    423\u001b[0m     \u001b[38;5;28;01mif\u001b[39;00m n_equal_bins \u001b[38;5;241m<\u001b[39m \u001b[38;5;241m1\u001b[39m:\n\u001b[1;32m    424\u001b[0m         \u001b[38;5;28;01mraise\u001b[39;00m \u001b[38;5;167;01mValueError\u001b[39;00m(\u001b[38;5;124m'\u001b[39m\u001b[38;5;124m`bins` must be positive, when an integer\u001b[39m\u001b[38;5;124m'\u001b[39m)\n\u001b[0;32m--> 426\u001b[0m     first_edge, last_edge \u001b[38;5;241m=\u001b[39m \u001b[43m_get_outer_edges\u001b[49m\u001b[43m(\u001b[49m\u001b[43ma\u001b[49m\u001b[43m,\u001b[49m\u001b[43m \u001b[49m\u001b[38;5;28;43mrange\u001b[39;49m\u001b[43m)\u001b[49m\n\u001b[1;32m    428\u001b[0m \u001b[38;5;28;01melif\u001b[39;00m np\u001b[38;5;241m.\u001b[39mndim(bins) \u001b[38;5;241m==\u001b[39m \u001b[38;5;241m1\u001b[39m:\n\u001b[1;32m    429\u001b[0m     bin_edges \u001b[38;5;241m=\u001b[39m np\u001b[38;5;241m.\u001b[39masarray(bins)\n",
      "File \u001b[0;32m/opt/anaconda3/envs/audio/lib/python3.9/site-packages/numpy/lib/histograms.py:323\u001b[0m, in \u001b[0;36m_get_outer_edges\u001b[0;34m(a, range)\u001b[0m\n\u001b[1;32m    321\u001b[0m     first_edge, last_edge \u001b[38;5;241m=\u001b[39m a\u001b[38;5;241m.\u001b[39mmin(), a\u001b[38;5;241m.\u001b[39mmax()\n\u001b[1;32m    322\u001b[0m     \u001b[38;5;28;01mif\u001b[39;00m \u001b[38;5;129;01mnot\u001b[39;00m (np\u001b[38;5;241m.\u001b[39misfinite(first_edge) \u001b[38;5;129;01mand\u001b[39;00m np\u001b[38;5;241m.\u001b[39misfinite(last_edge)):\n\u001b[0;32m--> 323\u001b[0m         \u001b[38;5;28;01mraise\u001b[39;00m \u001b[38;5;167;01mValueError\u001b[39;00m(\n\u001b[1;32m    324\u001b[0m             \u001b[38;5;124m\"\u001b[39m\u001b[38;5;124mautodetected range of [\u001b[39m\u001b[38;5;132;01m{}\u001b[39;00m\u001b[38;5;124m, \u001b[39m\u001b[38;5;132;01m{}\u001b[39;00m\u001b[38;5;124m] is not finite\u001b[39m\u001b[38;5;124m\"\u001b[39m\u001b[38;5;241m.\u001b[39mformat(first_edge, last_edge))\n\u001b[1;32m    326\u001b[0m \u001b[38;5;66;03m# expand empty range to avoid divide by zero\u001b[39;00m\n\u001b[1;32m    327\u001b[0m \u001b[38;5;28;01mif\u001b[39;00m first_edge \u001b[38;5;241m==\u001b[39m last_edge:\n",
      "\u001b[0;31mValueError\u001b[0m: autodetected range of [nan, nan] is not finite"
     ]
    },
    {
     "data": {
      "image/png": "[encoded data removed]",
      "text/plain": [
       "<Figure size 640x480 with 1 Axes>"
      ]
     },
     "metadata": {},
     "output_type": "display_data"
    }
   ],
   "source": [
    "named_params = [p for p in layer.named_parameters()]\n",
    "lowbands = named_params[0][1].detach().cpu().numpy()\n",
    "plt.hist(lowbands.flatten(), bins=40)"
   ]
  },
  {
   "cell_type": "code",
   "execution_count": null,
   "id": "77415eb7-6d74-4891-a339-410296973213",
   "metadata": {},
   "outputs": [],
   "source": [
    "lowbands = named_params[0][1].grad.detach().cpu().numpy()\n",
    "plt.hist(lowbands.flatten(), bins=40)"
   ]
  },
  {
   "cell_type": "code",
   "execution_count": null,
   "id": "bee83917-40ca-4c11-82fd-d0d6e75a9b78",
   "metadata": {},
   "outputs": [],
   "source": [
    "bandwidths = named_params[1][1].detach().cpu().numpy()\n",
    "plt.hist(bandwidths.flatten(), bins=40)"
   ]
  },
  {
   "cell_type": "code",
   "execution_count": null,
   "id": "25db94a0-c994-4f31-b508-235a53058592",
   "metadata": {},
   "outputs": [],
   "source": [
    "bandwidths = named_params[1][1].grad.detach().cpu().numpy()\n",
    "plt.hist(bandwidths.flatten(), bins=40)"
   ]
  },
  {
   "cell_type": "code",
   "execution_count": null,
   "id": "6d8d54f8-3e0e-4fb8-b3e8-98eb6f269ce2",
   "metadata": {},
   "outputs": [],
   "source": [
    "filtviz = visualize_model.FilterVisualizer(\n",
    "    lowcut_bands = layer.lowcut_bands, \n",
    "    bandwidths = layer.bandwidths,\n",
    "    window_params = None, \n",
    "    window_length = 64,\n",
    "    sample_rate = sr\n",
    ")\n",
    "filtviz.visualize_bands()"
   ]
  },
  {
   "cell_type": "code",
   "execution_count": null,
   "id": "b85a2ed9-7335-4aac-b51e-09bafcd74cf7",
   "metadata": {},
   "outputs": [],
   "source": [
    "named_params12 = [p for p in layer.named_parameters()]\n",
    "lowbands12 = named_params12[0][1].detach().cpu().numpy()\n",
    "plt.hist(lowbands12.flatten(), bins=40)"
   ]
  },
  {
   "cell_type": "code",
   "execution_count": null,
   "id": "f872fbbc-ce78-4af6-8ae7-c6932c4d3c22",
   "metadata": {},
   "outputs": [],
   "source": [
    "lowbands12 = named_params12[0][1].grad.detach().cpu().numpy()\n",
    "plt.hist(lowbands12.flatten(), bins=40)"
   ]
  },
  {
   "cell_type": "code",
   "execution_count": null,
   "id": "61f36990-084d-4f14-bce4-ed421c9e0851",
   "metadata": {},
   "outputs": [],
   "source": [
    "bandwidths12 = named_params12[1][1].detach().cpu().numpy()\n",
    "plt.hist(bandwidths12.flatten(), bins=40)"
   ]
  },
  {
   "cell_type": "code",
   "execution_count": null,
   "id": "75f96aa7-5bf4-4497-b715-052c3761287a",
   "metadata": {},
   "outputs": [],
   "source": [
    "bandwidths12 = named_params12[1][1].grad.detach().cpu().numpy()\n",
    "plt.hist(bandwidths12.flatten(), bins=40)"
   ]
  },
  {
   "cell_type": "code",
   "execution_count": null,
   "id": "f3bcecda-b18f-4681-a37b-ac811e058d9e",
   "metadata": {},
   "outputs": [],
   "source": []
  },
  {
   "cell_type": "code",
   "execution_count": null,
   "id": "9e880138-b091-4a88-977d-54753179e91e",
   "metadata": {},
   "outputs": [],
   "source": []
  },
  {
   "cell_type": "code",
   "execution_count": null,
   "id": "768a5c82-67a3-4ae3-ae5f-fd08e15f2e08",
   "metadata": {
    "scrolled": true
   },
   "outputs": [],
   "source": [
    "layer2 = model.fe_blocks.blocks[1].block.layer\n",
    "visualize_model.print_parameters(layer2)"
   ]
  },
  {
   "cell_type": "code",
   "execution_count": null,
   "id": "b6d18120-fca2-461a-a3eb-8f3cc3ec5c40",
   "metadata": {},
   "outputs": [],
   "source": [
    "named_params22 = [p for p in layer22.named_parameters()]\n",
    "lowbands22 = named_params22[0][1].detach().cpu().numpy()\n",
    "plt.hist(lowbands22.flatten(), bins=40)"
   ]
  },
  {
   "cell_type": "code",
   "execution_count": null,
   "id": "1310f442-98f6-48d2-89f7-b79b4bd19081",
   "metadata": {},
   "outputs": [],
   "source": [
    "lowbands22 = named_params22[0][1].grad.detach().cpu().numpy()\n",
    "plt.hist(lowbands22.flatten(), bins=40)"
   ]
  },
  {
   "cell_type": "code",
   "execution_count": null,
   "id": "bedbc409-1eff-41eb-b72a-6cb7b6d6ad0c",
   "metadata": {},
   "outputs": [],
   "source": [
    "bandwidth22 = named_params22[1][1].detach().cpu().numpy()\n",
    "plt.hist(bandwidths22.flatten(), bins=40)"
   ]
  },
  {
   "cell_type": "code",
   "execution_count": null,
   "id": "faca921a-e869-4f2a-8cfb-e092804f2519",
   "metadata": {},
   "outputs": [],
   "source": [
    "bandwidths22 = named_params22[1][1].grad.detach().cpu().numpy()\n",
    "plt.hist(bandwidths22.flatten(), bins=40)"
   ]
  },
  {
   "cell_type": "code",
   "execution_count": null,
   "id": "2793f953-43d8-4cc5-8f5d-b220b47aa7aa",
   "metadata": {
    "scrolled": true
   },
   "outputs": [],
   "source": [
    "downsample_factor = model.fe_blocks.blocks[0].stride\n",
    "new_sample_rate = sr // downsample_factor\n",
    "print(f'downsample_factor: {downsample_factor} => new_sample_rate: {new_sample_rate}')\n",
    "\n",
    "filtviz2 = visualize_model.FilterVisualizer(\n",
    "    lowcut_bands = layer2.lowcut_bands, \n",
    "    bandwidths = layer2.bandwidths,\n",
    "    window_params = None, \n",
    "    window_length = 64,\n",
    "    sample_rate = new_sample_rate\n",
    ")\n",
    "filtviz2.visualize_bands()"
   ]
  },
  {
   "cell_type": "code",
   "execution_count": 77,
   "id": "0d91c905-fae7-4b20-baa4-1667d0e838af",
   "metadata": {},
   "outputs": [
    {
     "data": {
      "text/plain": [
       "340729"
      ]
     },
     "execution_count": 77,
     "metadata": {},
     "output_type": "execute_result"
    }
   ],
   "source": [
    "# del model\n",
    "# gc.collect()"
   ]
  },
  {
   "cell_type": "code",
   "execution_count": null,
   "id": "b15ed3d1-b5ef-477a-99d2-4cfdd08e069c",
   "metadata": {},
   "outputs": [],
   "source": []
  }
 ],
 "metadata": {
  "kernelspec": {
   "display_name": "Python 3 (ipykernel)",
   "language": "python",
   "name": "python3"
  },
  "language_info": {
   "codemirror_mode": {
    "name": "ipython",
    "version": 3
   },
   "file_extension": ".py",
   "mimetype": "text/x-python",
   "name": "python",
   "nbconvert_exporter": "python",
   "pygments_lexer": "ipython3",
   "version": "3.9.18"
  }
 },
 "nbformat": 4,
 "nbformat_minor": 5
}
