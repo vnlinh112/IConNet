{
 "cells": [
  {
   "cell_type": "code",
   "execution_count": 1,
   "id": "b1524d0d-ea58-4da6-b7bc-ff31d36696ad",
   "metadata": {},
   "outputs": [],
   "source": [
    "import glob\n",
    "import numpy as np\n",
    "from tqdm import tqdm\n",
    "import matplotlib.pyplot as plt\n",
    "\n",
    "# Scikit learn\n",
    "from sklearn.model_selection import train_test_split\n",
    "from sklearn.preprocessing import LabelEncoder\n",
    "from sklearn.utils import shuffle\n",
    "\n",
    "import warnings\n",
    "warnings.filterwarnings('ignore', category=FutureWarning)"
   ]
  },
  {
   "cell_type": "code",
   "execution_count": 2,
   "id": "fbaa4626-2d50-4348-b6c6-79b1295deebd",
   "metadata": {},
   "outputs": [
    {
     "name": "stdout",
     "output_type": "stream",
     "text": [
      "Mon Feb 19 14:38:39 2024       \n",
      "+---------------------------------------------------------------------------------------+\n",
      "| NVIDIA-SMI 545.23.08              Driver Version: 545.23.08    CUDA Version: 12.3     |\n",
      "|-----------------------------------------+----------------------+----------------------+\n",
      "| GPU  Name                 Persistence-M | Bus-Id        Disp.A | Volatile Uncorr. ECC |\n",
      "| Fan  Temp   Perf          Pwr:Usage/Cap |         Memory-Usage | GPU-Util  Compute M. |\n",
      "|                                         |                      |               MIG M. |\n",
      "|=========================================+======================+======================|\n",
      "|   0  NVIDIA GeForce RTX 2080        On  | 00000000:01:00.0  On |                  N/A |\n",
      "| 32%   30C    P8              21W / 215W |    614MiB /  8192MiB |      8%      Default |\n",
      "|                                         |                      |                  N/A |\n",
      "+-----------------------------------------+----------------------+----------------------+\n",
      "                                                                                         \n",
      "+---------------------------------------------------------------------------------------+\n",
      "| Processes:                                                                            |\n",
      "|  GPU   GI   CI        PID   Type   Process name                            GPU Memory |\n",
      "|        ID   ID                                                             Usage      |\n",
      "|=======================================================================================|\n",
      "|    0   N/A  N/A      1887      G   /usr/lib/xorg/Xorg                          185MiB |\n",
      "|    0   N/A  N/A      2033      G   /usr/bin/gnome-shell                         28MiB |\n",
      "|    0   N/A  N/A      6241      G   ...seed-version=20240215-080116.052000       54MiB |\n",
      "|    0   N/A  N/A      6688      G   ...sion,SpareRendererForSitePerProcess       71MiB |\n",
      "|    0   N/A  N/A   2546595      C   /opt/anaconda3/envs/audio/bin/python        268MiB |\n",
      "+---------------------------------------------------------------------------------------+\n"
     ]
    }
   ],
   "source": [
    "!nvidia-smi"
   ]
  },
  {
   "cell_type": "code",
   "execution_count": 3,
   "id": "265e2adc-f67b-4796-bf95-49e720470559",
   "metadata": {},
   "outputs": [],
   "source": [
    "%load_ext autoreload\n",
    "%autoreload 2"
   ]
  },
  {
   "cell_type": "code",
   "execution_count": 4,
   "id": "b7f2059e-1f26-43df-af1b-fbba16207004",
   "metadata": {},
   "outputs": [
    {
     "data": {
      "text/plain": [
       "'/home/linh/projects/IConNet'"
      ]
     },
     "execution_count": 4,
     "metadata": {},
     "output_type": "execute_result"
    }
   ],
   "source": [
    "import os\n",
    "os.chdir('..')\n",
    "os.getcwd()"
   ]
  },
  {
   "cell_type": "code",
   "execution_count": 5,
   "id": "c16a3fd5-f808-48b7-9c9b-f6f9b34dc260",
   "metadata": {},
   "outputs": [
    {
     "name": "stdout",
     "output_type": "stream",
     "text": [
      "cuda\n"
     ]
    }
   ],
   "source": [
    "os.environ[\"PYTORCH_CUDA_ALLOC_CONF\"] = \"max_split_size_mb:512\"\n",
    "import gc\n",
    "import torch\n",
    "import torch.nn as nn\n",
    "import torch.nn.functional as F\n",
    "import torch.optim as optim\n",
    "import sys\n",
    "import traceback\n",
    "device = torch.device(\"cuda\" if torch.cuda.is_available() else \"cpu\")\n",
    "print(device)\n",
    "\n",
    "data_dir = '../data/physionet/fold4/'"
   ]
  },
  {
   "cell_type": "code",
   "execution_count": 6,
   "id": "caf60ee8-8e29-43d8-9a6f-ba7a4188c3c0",
   "metadata": {},
   "outputs": [],
   "source": [
    "sr = 16000\n",
    "\n",
    "x_train = np.load(f'{data_dir}heartsound.audio16k.train.npy', allow_pickle=True)\n",
    "x_test = np.load(f'{data_dir}heartsound.audio16k.test.npy', allow_pickle=True)\n",
    "classnames = np.load(f'{data_dir}heartsound.classnames.npy', allow_pickle=True)\n",
    "y_train = np.load(f'{data_dir}heartsound.labels_binary.train.npy', allow_pickle=True)\n",
    "y_test = np.load(f'{data_dir}heartsound.labels_binary.test.npy', allow_pickle=True)"
   ]
  },
  {
   "cell_type": "code",
   "execution_count": 7,
   "id": "b73dde81-5bdb-44fb-b1e2-319a92827a34",
   "metadata": {},
   "outputs": [],
   "source": [
    "from einops import rearrange, reduce, repeat\n",
    "from torch.utils.data import TensorDataset, DataLoader\n",
    "\n",
    "def create_data_loader(x_train, y_train, \n",
    "                       x_test, y_test, batch_size=32):\n",
    "    x_train = torch.tensor(x_train)[:, None ,:]\n",
    "    y_train = torch.tensor(y_train)\n",
    "    x_test = torch.tensor(x_test)[:, None, :]\n",
    "    y_test = torch.tensor(y_test)\n",
    "    train_data = TensorDataset(x_train, y_train)\n",
    "    test_data = TensorDataset(x_test, y_test)\n",
    "    \n",
    "    train_loader = DataLoader(train_data, shuffle=False, \n",
    "                              batch_size=batch_size, drop_last=True)\n",
    "    test_loader = DataLoader(test_data, shuffle=True, \n",
    "                             batch_size=batch_size, drop_last=True)\n",
    "    return train_loader, test_loader"
   ]
  },
  {
   "cell_type": "code",
   "execution_count": 8,
   "id": "7f964a4b-8406-4dce-a549-2b59431e57b2",
   "metadata": {},
   "outputs": [],
   "source": [
    "batch_size = 32\n",
    "train_loader, test_loader = create_data_loader(x_train, y_train, \n",
    "                       x_test, y_test, batch_size=batch_size)\n",
    "labels = classnames"
   ]
  },
  {
   "cell_type": "code",
   "execution_count": 10,
   "id": "cca4971a-3723-4db2-8dba-44b82bea6e2c",
   "metadata": {
    "scrolled": true
   },
   "outputs": [
    {
     "name": "stdout",
     "output_type": "stream",
     "text": [
      "name: M13sinc\n",
      "description: SincNet with fftconv\n",
      "fe:\n",
      "  n_block: 2\n",
      "  n_channel:\n",
      "  - 128\n",
      "  - 32\n",
      "  kernel_size:\n",
      "  - 511\n",
      "  - 127\n",
      "  stride:\n",
      "  - 8\n",
      "  - 2\n",
      "  window_k:\n",
      "  - 2\n",
      "  - 9\n",
      "  residual_connection_type: stack\n",
      "  pooling: mean\n",
      "  filter_type: sinc\n",
      "  learnable_bands: true\n",
      "  learnable_windows: false\n",
      "  shared_window: true\n",
      "  window_func: hamming\n",
      "  mel_resolution: 1\n",
      "  conv_mode: fftconv\n",
      "  norm_type: LocalResponseNorm\n",
      "cls:\n",
      "  n_block: 2\n",
      "  n_hidden_dim:\n",
      "  - 256\n",
      "  - 256\n",
      "  norm_type: LayerNorm\n",
      "\n",
      "M13sinc(\n",
      "  (fe_blocks): FeBlocks(\n",
      "    (blocks): ModuleList(\n",
      "      (0-1): 2 x FrontEndBlock(\n",
      "        (block): ModuleDict(\n",
      "          (layer): FirConvLayer(\n",
      "            (conv_layer): ResidualConv1d(\n",
      "              (pad_layer): PadForConv()\n",
      "              (stride_layer): DownsampleLayer(\n",
      "                (pad_right): PadForConv()\n",
      "              )\n",
      "              (norm_layer): CustomNormLayer(\n",
      "                (layer): LocalResponseNorm(2, alpha=0.0001, beta=0.75, k=1.0)\n",
      "              )\n",
      "              (act): NLReLU()\n",
      "            )\n",
      "          )\n",
      "          (downsample): ResidualConv1d(\n",
      "            (pad_layer): PadForConv()\n",
      "            (stride_layer): DownsampleLayer(\n",
      "              (pad_right): PadForConv()\n",
      "            )\n",
      "            (norm_layer): CustomNormLayer(\n",
      "              (layer): LocalResponseNorm(2, alpha=0.0001, beta=0.75, k=1.0)\n",
      "            )\n",
      "            (act): NLReLU()\n",
      "          )\n",
      "        )\n",
      "      )\n",
      "    )\n",
      "  )\n",
      "  (cls_head): Classifier(\n",
      "    (blocks): ModuleList(\n",
      "      (0): Sequential(\n",
      "        (norm): LayerNorm((161,), eps=1e-05, elementwise_affine=True)\n",
      "        (layer): Linear(in_features=161, out_features=256, bias=True)\n",
      "      )\n",
      "      (1): Sequential(\n",
      "        (norm): LayerNorm((256,), eps=1e-05, elementwise_affine=True)\n",
      "        (layer): Linear(in_features=256, out_features=256, bias=True)\n",
      "      )\n",
      "    )\n",
      "    (act): LeakyReLU(negative_slope=0.01)\n",
      "    (output_layer): Linear(in_features=256, out_features=2, bias=True)\n",
      "  )\n",
      ")\n",
      "total parameters: 117060\n",
      "FE parameters: 8448\n"
     ]
    }
   ],
   "source": [
    "from IConNet.nn.model import M13sinc as M13\n",
    "from omegaconf import OmegaConf as ocf\n",
    "from IConNet.visualizer import visualize_model\n",
    "\n",
    "model_config_path = 'config/model/m13sinc.yaml'\n",
    "model_config = ocf.load(model_config_path)\n",
    "print(ocf.to_yaml(model_config))\n",
    "model = M13(config=model_config,\n",
    "           n_input=1, n_output=2)\n",
    "print(model)\n",
    "\n",
    "print(f'total parameters: {visualize_model.count_parameters(model)}')\n",
    "print(f'FE parameters: {visualize_model.count_parameters(model.fe_blocks)}')"
   ]
  },
  {
   "cell_type": "code",
   "execution_count": 11,
   "id": "c6809a2d-1127-4d3e-b5e1-d7acf7419a0c",
   "metadata": {},
   "outputs": [],
   "source": [
    "n_epoch = 10\n",
    "train_losses = []\n",
    "test_accuracy = []\n",
    "optimizer = optim.RAdam(model.parameters(), lr=0.001)\n",
    "scheduler = optim.lr_scheduler.OneCycleLR(\n",
    "    optimizer, max_lr=0.1,\n",
    "    steps_per_epoch=len(train_loader), epochs=n_epoch)"
   ]
  },
  {
   "cell_type": "code",
   "execution_count": 12,
   "id": "ef9c130a-6512-4549-9eb9-b94291f562b3",
   "metadata": {},
   "outputs": [],
   "source": [
    "train_loader_length = len(train_loader.dataset)\n",
    "test_loader_length = len(test_loader.dataset)\n",
    "\n",
    "def train(model, epoch, log_interval, \n",
    "          train_losses=train_losses):\n",
    "    # print(f'Mem before training: {torch.cuda.memory_allocated()}')\n",
    "    model.train()\n",
    "    for batch_idx, (data, target) in enumerate(train_loader):\n",
    "        try:\n",
    "            _mem_before = torch.cuda.memory_allocated()\n",
    "            data = data.to(device)\n",
    "            target = target.to(device)\n",
    "            output = model(data)\n",
    "            del data\n",
    "            gc.collect()\n",
    "            torch.cuda.empty_cache()\n",
    "            loss = F.cross_entropy(output.squeeze(), target)\n",
    "            _mem_during = torch.cuda.memory_allocated()\n",
    "            del target\n",
    "            gc.collect()\n",
    "            torch.cuda.empty_cache()\n",
    "            optimizer.zero_grad()\n",
    "            loss.backward()\n",
    "            nn.utils.clip_grad.clip_grad_norm_(\n",
    "                model.parameters(), 1.0)\n",
    "            optimizer.step()\n",
    "            _mem_after = torch.cuda.memory_allocated()\n",
    "            # print training stats\n",
    "            if batch_idx % log_interval == 0:\n",
    "                print(f\"Train Epoch: {epoch} [{batch_idx * batch_size}/{train_loader_length} ({100. * batch_idx / len(train_loader):.0f}%)]\\tLoss: {loss.item():.6f}\")\n",
    "                print(f'Mem before-during-after: {_mem_before} {_mem_during} {_mem_after}')\n",
    "            # update progress bar\n",
    "            pbar.update(pbar_update)\n",
    "            # record loss\n",
    "            train_losses.append(loss.item())\n",
    "        except Exception as e:\n",
    "            print(f'data: {data.shape} => output: {output.shape} | target: {target.shape}')\n",
    "            traceback.print_exc()\n",
    "\n",
    "@torch.no_grad\n",
    "def test(model, epoch):\n",
    "    model.eval()\n",
    "    correct = 0\n",
    "    total = 0\n",
    "    for data, target in test_loader:\n",
    "        total += len(target)\n",
    "        data = data.to(device)\n",
    "        target = target.to(device)\n",
    "        output = model(data).squeeze()\n",
    "        del data\n",
    "        gc.collect()\n",
    "        torch.cuda.empty_cache()\n",
    "        probs = F.softmax(output, dim=-1)\n",
    "        pred = probs.argmax(dim=-1)\n",
    "        correct += pred.eq(target).sum().item()\n",
    "        del target\n",
    "        gc.collect()\n",
    "        torch.cuda.empty_cache()\n",
    "        pbar.update(pbar_update)\n",
    "    acc = correct / test_loader_length\n",
    "    print(f\"\\nTest Epoch: {epoch}\\tAccuracy: {correct}/{total} ({100. * acc:.0f}%)\\n\")\n",
    "    return acc"
   ]
  },
  {
   "cell_type": "code",
   "execution_count": 13,
   "id": "86126dd5-f5b0-4abd-87c1-7d2d8b4d0faf",
   "metadata": {
    "scrolled": true
   },
   "outputs": [
    {
     "name": "stderr",
     "output_type": "stream",
     "text": [
      "  0%|                                                                                                                        | 0.002061855670103093/10 [00:00<55:30, 333.13s/it]"
     ]
    },
    {
     "name": "stdout",
     "output_type": "stream",
     "text": [
      "Train Epoch: 1 [0/11481 (0%)]\tLoss: 0.742010\n",
      "Mem before-during-after: 539136 4324419584 21330432\n"
     ]
    },
    {
     "name": "stderr",
     "output_type": "stream",
     "text": [
      "  1%|█                                                                                                                        | 0.08453608247422686/10 [00:19<38:15, 231.56s/it]"
     ]
    },
    {
     "name": "stdout",
     "output_type": "stream",
     "text": [
      "Train Epoch: 1 [1280/11481 (11%)]\tLoss: 0.385342\n",
      "Mem before-during-after: 21330432 4332184576 21330432\n"
     ]
    },
    {
     "name": "stderr",
     "output_type": "stream",
     "text": [
      "  2%|██                                                                                                                       | 0.16701030927835056/10 [00:38<39:22, 240.30s/it]"
     ]
    },
    {
     "name": "stdout",
     "output_type": "stream",
     "text": [
      "Train Epoch: 1 [2560/11481 (22%)]\tLoss: 0.402692\n",
      "Mem before-during-after: 21330432 4332184576 21330432\n"
     ]
    },
    {
     "name": "stderr",
     "output_type": "stream",
     "text": [
      "  2%|███                                                                                                                      | 0.24948453608247398/10 [00:56<37:18, 229.54s/it]"
     ]
    },
    {
     "name": "stdout",
     "output_type": "stream",
     "text": [
      "Train Epoch: 1 [3840/11481 (34%)]\tLoss: 0.050983\n",
      "Mem before-during-after: 21330432 4332184576 21330432\n"
     ]
    },
    {
     "name": "stderr",
     "output_type": "stream",
     "text": [
      "  3%|████                                                                                                                      | 0.3319587628865974/10 [01:15<36:51, 228.71s/it]"
     ]
    },
    {
     "name": "stdout",
     "output_type": "stream",
     "text": [
      "Train Epoch: 1 [5120/11481 (45%)]\tLoss: 0.964391\n",
      "Mem before-during-after: 21330432 4332184576 21330432\n"
     ]
    },
    {
     "name": "stderr",
     "output_type": "stream",
     "text": [
      "  4%|█████                                                                                                                    | 0.41443298969072084/10 [01:34<37:45, 236.30s/it]"
     ]
    },
    {
     "name": "stdout",
     "output_type": "stream",
     "text": [
      "Train Epoch: 1 [6400/11481 (56%)]\tLoss: 0.246365\n",
      "Mem before-during-after: 21330432 4332184576 21330432\n"
     ]
    },
    {
     "name": "stderr",
     "output_type": "stream",
     "text": [
      "  5%|██████                                                                                                                   | 0.49690721649484426/10 [01:53<36:17, 229.15s/it]"
     ]
    },
    {
     "name": "stdout",
     "output_type": "stream",
     "text": [
      "Train Epoch: 1 [7680/11481 (67%)]\tLoss: 0.293338\n",
      "Mem before-during-after: 21330432 4332184576 21330432\n"
     ]
    },
    {
     "name": "stderr",
     "output_type": "stream",
     "text": [
      "  6%|███████                                                                                                                   | 0.5793814432989677/10 [02:11<36:17, 231.10s/it]"
     ]
    },
    {
     "name": "stdout",
     "output_type": "stream",
     "text": [
      "Train Epoch: 1 [8960/11481 (78%)]\tLoss: 0.161160\n",
      "Mem before-during-after: 21330432 4332184576 21330432\n"
     ]
    },
    {
     "name": "stderr",
     "output_type": "stream",
     "text": [
      "  7%|████████                                                                                                                  | 0.6618556701030911/10 [02:30<36:17, 233.20s/it]"
     ]
    },
    {
     "name": "stdout",
     "output_type": "stream",
     "text": [
      "Train Epoch: 1 [10240/11481 (89%)]\tLoss: 0.705797\n",
      "Mem before-during-after: 21330432 4332184576 21330432\n"
     ]
    },
    {
     "name": "stderr",
     "output_type": "stream",
     "text": [
      " 10%|████████████▏                                                                                                             | 0.9999999999999971/10 [03:15<15:16, 101.78s/it]"
     ]
    },
    {
     "name": "stdout",
     "output_type": "stream",
     "text": [
      "\n",
      "Test Epoch: 1\tAccuracy: 3427/4064 (84%)\n",
      "\n"
     ]
    },
    {
     "name": "stderr",
     "output_type": "stream",
     "text": [
      " 10%|████████████▏                                                                                                             | 1.0020618556701002/10 [03:16<21:15, 141.77s/it]"
     ]
    },
    {
     "name": "stdout",
     "output_type": "stream",
     "text": [
      "Train Epoch: 2 [0/11481 (0%)]\tLoss: 0.019650\n",
      "Mem before-during-after: 21444096 4333847552 21330432\n"
     ]
    },
    {
     "name": "stderr",
     "output_type": "stream",
     "text": [
      " 11%|█████████████▏                                                                                                            | 1.0845360824742236/10 [03:35<34:35, 232.84s/it]"
     ]
    },
    {
     "name": "stdout",
     "output_type": "stream",
     "text": [
      "Train Epoch: 2 [1280/11481 (11%)]\tLoss: 0.008145\n",
      "Mem before-during-after: 21330432 4332184576 21330432\n"
     ]
    },
    {
     "name": "stderr",
     "output_type": "stream",
     "text": [
      " 12%|██████████████▎                                                                                                            | 1.167010309278347/10 [03:54<35:55, 243.99s/it]"
     ]
    },
    {
     "name": "stdout",
     "output_type": "stream",
     "text": [
      "Train Epoch: 2 [2560/11481 (22%)]\tLoss: 0.494140\n",
      "Mem before-during-after: 21330432 4332184576 21330432\n"
     ]
    },
    {
     "name": "stderr",
     "output_type": "stream",
     "text": [
      " 12%|███████████████▏                                                                                                          | 1.2494845360824705/10 [04:13<34:28, 236.33s/it]"
     ]
    },
    {
     "name": "stdout",
     "output_type": "stream",
     "text": [
      "Train Epoch: 2 [3840/11481 (34%)]\tLoss: 0.099208\n",
      "Mem before-during-after: 21330432 4332184576 21330432\n"
     ]
    },
    {
     "name": "stderr",
     "output_type": "stream",
     "text": [
      " 13%|████████████████▏                                                                                                         | 1.3319587628865939/10 [04:31<33:50, 234.28s/it]"
     ]
    },
    {
     "name": "stdout",
     "output_type": "stream",
     "text": [
      "Train Epoch: 2 [5120/11481 (45%)]\tLoss: 0.966404\n",
      "Mem before-during-after: 21330432 4332184576 21330432\n"
     ]
    },
    {
     "name": "stderr",
     "output_type": "stream",
     "text": [
      " 14%|█████████████████▎                                                                                                        | 1.4144329896907173/10 [04:50<33:37, 234.93s/it]"
     ]
    },
    {
     "name": "stdout",
     "output_type": "stream",
     "text": [
      "Train Epoch: 2 [6400/11481 (56%)]\tLoss: 0.331934\n",
      "Mem before-during-after: 21330432 4332184576 21330432\n"
     ]
    },
    {
     "name": "stderr",
     "output_type": "stream",
     "text": [
      " 15%|██████████████████▎                                                                                                       | 1.4969072164948407/10 [05:10<34:34, 243.97s/it]"
     ]
    },
    {
     "name": "stdout",
     "output_type": "stream",
     "text": [
      "Train Epoch: 2 [7680/11481 (67%)]\tLoss: 0.230968\n",
      "Mem before-during-after: 21330432 4332184576 21330432\n"
     ]
    },
    {
     "name": "stderr",
     "output_type": "stream",
     "text": [
      " 16%|███████████████████▎                                                                                                      | 1.5793814432989641/10 [05:29<34:12, 243.70s/it]"
     ]
    },
    {
     "name": "stdout",
     "output_type": "stream",
     "text": [
      "Train Epoch: 2 [8960/11481 (78%)]\tLoss: 0.139268\n",
      "Mem before-during-after: 21330432 4332184576 21330432\n"
     ]
    },
    {
     "name": "stderr",
     "output_type": "stream",
     "text": [
      " 17%|████████████████████▎                                                                                                     | 1.6618556701030875/10 [05:49<32:49, 236.21s/it]"
     ]
    },
    {
     "name": "stdout",
     "output_type": "stream",
     "text": [
      "Train Epoch: 2 [10240/11481 (89%)]\tLoss: 0.896561\n",
      "Mem before-during-after: 21330432 4332184576 21330432\n"
     ]
    },
    {
     "name": "stderr",
     "output_type": "stream",
     "text": [
      " 20%|████████████████████████▍                                                                                                 | 1.9999999999999936/10 [06:33<13:50, 103.80s/it]"
     ]
    },
    {
     "name": "stdout",
     "output_type": "stream",
     "text": [
      "\n",
      "Test Epoch: 2\tAccuracy: 3496/4064 (85%)\n",
      "\n"
     ]
    },
    {
     "name": "stderr",
     "output_type": "stream",
     "text": [
      " 20%|████████████████████████▋                                                                                                  | 2.002061855670097/10 [06:34<18:47, 141.02s/it]"
     ]
    },
    {
     "name": "stdout",
     "output_type": "stream",
     "text": [
      "Train Epoch: 3 [0/11481 (0%)]\tLoss: 0.016716\n",
      "Mem before-during-after: 21444096 4333847552 21330432\n"
     ]
    },
    {
     "name": "stderr",
     "output_type": "stream",
     "text": [
      " 21%|█████████████████████████▍                                                                                                | 2.0845360824742203/10 [06:53<30:59, 234.90s/it]"
     ]
    },
    {
     "name": "stdout",
     "output_type": "stream",
     "text": [
      "Train Epoch: 3 [1280/11481 (11%)]\tLoss: 0.002716\n",
      "Mem before-during-after: 21330432 4332184576 21330432\n"
     ]
    },
    {
     "name": "stderr",
     "output_type": "stream",
     "text": [
      " 22%|██████████████████████████▍                                                                                               | 2.1670103092783437/10 [07:12<31:49, 243.74s/it]"
     ]
    },
    {
     "name": "stdout",
     "output_type": "stream",
     "text": [
      "Train Epoch: 3 [2560/11481 (22%)]\tLoss: 0.361765\n",
      "Mem before-during-after: 21330432 4332184576 21330432\n"
     ]
    },
    {
     "name": "stderr",
     "output_type": "stream",
     "text": [
      " 22%|███████████████████████████▋                                                                                               | 2.249484536082467/10 [07:31<30:39, 237.33s/it]"
     ]
    },
    {
     "name": "stdout",
     "output_type": "stream",
     "text": [
      "Train Epoch: 3 [3840/11481 (34%)]\tLoss: 0.093981\n",
      "Mem before-during-after: 21330432 4332184576 21330432\n"
     ]
    },
    {
     "name": "stderr",
     "output_type": "stream",
     "text": [
      " 23%|████████████████████████████▍                                                                                             | 2.3319587628865905/10 [07:50<30:05, 235.48s/it]"
     ]
    },
    {
     "name": "stdout",
     "output_type": "stream",
     "text": [
      "Train Epoch: 3 [5120/11481 (45%)]\tLoss: 0.949539\n",
      "Mem before-during-after: 21330432 4332184576 21330432\n"
     ]
    },
    {
     "name": "stderr",
     "output_type": "stream",
     "text": [
      " 24%|█████████████████████████████▋                                                                                             | 2.414432989690714/10 [08:09<29:39, 234.54s/it]"
     ]
    },
    {
     "name": "stdout",
     "output_type": "stream",
     "text": [
      "Train Epoch: 3 [6400/11481 (56%)]\tLoss: 0.314985\n",
      "Mem before-during-after: 21330432 4332184576 21330432\n"
     ]
    },
    {
     "name": "stderr",
     "output_type": "stream",
     "text": [
      " 25%|██████████████████████████████▍                                                                                           | 2.4969072164948374/10 [08:28<29:39, 237.12s/it]"
     ]
    },
    {
     "name": "stdout",
     "output_type": "stream",
     "text": [
      "Train Epoch: 3 [7680/11481 (67%)]\tLoss: 0.250485\n",
      "Mem before-during-after: 21330432 4332184576 21330432\n"
     ]
    },
    {
     "name": "stderr",
     "output_type": "stream",
     "text": [
      " 26%|███████████████████████████████▋                                                                                           | 2.579381443298961/10 [08:47<29:33, 239.01s/it]"
     ]
    },
    {
     "name": "stdout",
     "output_type": "stream",
     "text": [
      "Train Epoch: 3 [8960/11481 (78%)]\tLoss: 0.117046\n",
      "Mem before-during-after: 21330432 4332184576 21330432\n"
     ]
    },
    {
     "name": "stderr",
     "output_type": "stream",
     "text": [
      " 27%|████████████████████████████████▋                                                                                          | 2.661855670103084/10 [09:06<28:37, 234.07s/it]"
     ]
    },
    {
     "name": "stdout",
     "output_type": "stream",
     "text": [
      "Train Epoch: 3 [10240/11481 (89%)]\tLoss: 1.007278\n",
      "Mem before-during-after: 21330432 4332184576 21330432\n"
     ]
    },
    {
     "name": "stderr",
     "output_type": "stream",
     "text": [
      " 30%|████████████████████████████████████▌                                                                                     | 2.9999999999999902/10 [09:50<12:02, 103.20s/it]"
     ]
    },
    {
     "name": "stdout",
     "output_type": "stream",
     "text": [
      "\n",
      "Test Epoch: 3\tAccuracy: 3509/4064 (86%)\n",
      "\n"
     ]
    },
    {
     "name": "stderr",
     "output_type": "stream",
     "text": [
      " 30%|████████████████████████████████████▋                                                                                     | 3.0020618556700933/10 [09:51<16:24, 140.70s/it]"
     ]
    },
    {
     "name": "stdout",
     "output_type": "stream",
     "text": [
      "Train Epoch: 4 [0/11481 (0%)]\tLoss: 0.001673\n",
      "Mem before-during-after: 21444096 4333847552 21330432\n"
     ]
    },
    {
     "name": "stderr",
     "output_type": "stream",
     "text": [
      " 31%|█████████████████████████████████████▋                                                                                    | 3.0845360824742167/10 [10:09<28:10, 244.50s/it]"
     ]
    },
    {
     "name": "stdout",
     "output_type": "stream",
     "text": [
      "Train Epoch: 4 [1280/11481 (11%)]\tLoss: 0.028764\n",
      "Mem before-during-after: 21330432 4332184576 21330432\n"
     ]
    },
    {
     "name": "stderr",
     "output_type": "stream",
     "text": [
      " 32%|███████████████████████████████████████▎                                                                                    | 3.16701030927834/10 [10:29<26:46, 235.07s/it]"
     ]
    },
    {
     "name": "stdout",
     "output_type": "stream",
     "text": [
      "Train Epoch: 4 [2560/11481 (22%)]\tLoss: 0.529505\n",
      "Mem before-during-after: 21330432 4332184576 21330432\n"
     ]
    },
    {
     "name": "stderr",
     "output_type": "stream",
     "text": [
      " 32%|███████████████████████████████████████▋                                                                                  | 3.2494845360824636/10 [10:47<26:22, 234.37s/it]"
     ]
    },
    {
     "name": "stdout",
     "output_type": "stream",
     "text": [
      "Train Epoch: 4 [3840/11481 (34%)]\tLoss: 0.324321\n",
      "Mem before-during-after: 21330432 4332184576 21330432\n"
     ]
    },
    {
     "name": "stderr",
     "output_type": "stream",
     "text": [
      " 33%|████████████████████████████████████████▉                                                                                  | 3.331958762886587/10 [11:07<26:21, 237.19s/it]"
     ]
    },
    {
     "name": "stdout",
     "output_type": "stream",
     "text": [
      "Train Epoch: 4 [5120/11481 (45%)]\tLoss: 1.018823\n",
      "Mem before-during-after: 21330432 4332184576 21330432\n"
     ]
    },
    {
     "name": "stderr",
     "output_type": "stream",
     "text": [
      " 34%|█████████████████████████████████████████▋                                                                                | 3.4144329896907104/10 [11:26<25:40, 233.91s/it]"
     ]
    },
    {
     "name": "stdout",
     "output_type": "stream",
     "text": [
      "Train Epoch: 4 [6400/11481 (56%)]\tLoss: 0.312219\n",
      "Mem before-during-after: 21330432 4332184576 21330432\n"
     ]
    },
    {
     "name": "stderr",
     "output_type": "stream",
     "text": [
      " 35%|███████████████████████████████████████████                                                                                | 3.496907216494834/10 [11:45<24:53, 229.60s/it]"
     ]
    },
    {
     "name": "stdout",
     "output_type": "stream",
     "text": [
      "Train Epoch: 4 [7680/11481 (67%)]\tLoss: 0.173893\n",
      "Mem before-during-after: 21330432 4332184576 21330432\n"
     ]
    },
    {
     "name": "stderr",
     "output_type": "stream",
     "text": [
      " 36%|███████████████████████████████████████████▋                                                                              | 3.5793814432989572/10 [12:03<24:41, 230.73s/it]"
     ]
    },
    {
     "name": "stdout",
     "output_type": "stream",
     "text": [
      "Train Epoch: 4 [8960/11481 (78%)]\tLoss: 0.112499\n",
      "Mem before-during-after: 21330432 4332184576 21330432\n"
     ]
    },
    {
     "name": "stderr",
     "output_type": "stream",
     "text": [
      " 37%|████████████████████████████████████████████▋                                                                             | 3.6618556701030807/10 [12:22<25:00, 236.67s/it]"
     ]
    },
    {
     "name": "stdout",
     "output_type": "stream",
     "text": [
      "Train Epoch: 4 [10240/11481 (89%)]\tLoss: 1.838254\n",
      "Mem before-during-after: 21330432 4332184576 21330432\n"
     ]
    },
    {
     "name": "stderr",
     "output_type": "stream",
     "text": [
      " 40%|████████████████████████████████████████████████▊                                                                         | 3.9999999999999867/10 [13:07<10:18, 103.02s/it]"
     ]
    },
    {
     "name": "stdout",
     "output_type": "stream",
     "text": [
      "\n",
      "Test Epoch: 4\tAccuracy: 3521/4064 (86%)\n",
      "\n"
     ]
    },
    {
     "name": "stderr",
     "output_type": "stream",
     "text": [
      " 40%|█████████████████████████████████████████████████▋                                                                          | 4.00206185567009/10 [13:07<14:09, 141.62s/it]"
     ]
    },
    {
     "name": "stdout",
     "output_type": "stream",
     "text": [
      "Train Epoch: 5 [0/11481 (0%)]\tLoss: 0.038853\n",
      "Mem before-during-after: 21444096 4333847552 21330432\n"
     ]
    },
    {
     "name": "stderr",
     "output_type": "stream",
     "text": [
      " 41%|██████████████████████████████████████████████████▏                                                                        | 4.084536082474213/10 [13:26<23:38, 239.84s/it]"
     ]
    },
    {
     "name": "stdout",
     "output_type": "stream",
     "text": [
      "Train Epoch: 5 [1280/11481 (11%)]\tLoss: 0.525787\n",
      "Mem before-during-after: 21330432 4332184576 21330432\n"
     ]
    },
    {
     "name": "stderr",
     "output_type": "stream",
     "text": [
      " 42%|███████████████████████████████████████████████████▎                                                                       | 4.167010309278337/10 [13:45<23:13, 238.89s/it]"
     ]
    },
    {
     "name": "stdout",
     "output_type": "stream",
     "text": [
      "Train Epoch: 5 [2560/11481 (22%)]\tLoss: 0.310571\n",
      "Mem before-during-after: 21330432 4332184576 21330432\n"
     ]
    },
    {
     "name": "stderr",
     "output_type": "stream",
     "text": [
      " 42%|████████████████████████████████████████████████████▋                                                                       | 4.24948453608246/10 [14:05<22:50, 238.25s/it]"
     ]
    },
    {
     "name": "stdout",
     "output_type": "stream",
     "text": [
      "Train Epoch: 5 [3840/11481 (34%)]\tLoss: 0.131772\n",
      "Mem before-during-after: 21330432 4332184576 21330432\n"
     ]
    },
    {
     "name": "stderr",
     "output_type": "stream",
     "text": [
      " 43%|█████████████████████████████████████████████████████▎                                                                     | 4.331958762886583/10 [14:24<22:52, 242.23s/it]"
     ]
    },
    {
     "name": "stdout",
     "output_type": "stream",
     "text": [
      "Train Epoch: 5 [5120/11481 (45%)]\tLoss: 1.206272\n",
      "Mem before-during-after: 21330432 4332184576 21330432\n"
     ]
    },
    {
     "name": "stderr",
     "output_type": "stream",
     "text": [
      " 44%|██████████████████████████████████████████████████████▎                                                                    | 4.414432989690707/10 [14:43<21:58, 236.01s/it]"
     ]
    },
    {
     "name": "stdout",
     "output_type": "stream",
     "text": [
      "Train Epoch: 5 [6400/11481 (56%)]\tLoss: 0.392953\n",
      "Mem before-during-after: 21330432 4332184576 21330432\n"
     ]
    },
    {
     "name": "stderr",
     "output_type": "stream",
     "text": [
      " 45%|███████████████████████████████████████████████████████▊                                                                    | 4.49690721649483/10 [15:03<21:40, 236.36s/it]"
     ]
    },
    {
     "name": "stdout",
     "output_type": "stream",
     "text": [
      "Train Epoch: 5 [7680/11481 (67%)]\tLoss: 0.173414\n",
      "Mem before-during-after: 21330432 4332184576 21330432\n"
     ]
    },
    {
     "name": "stderr",
     "output_type": "stream",
     "text": [
      " 46%|████████████████████████████████████████████████████████▎                                                                  | 4.579381443298954/10 [15:22<21:39, 239.76s/it]"
     ]
    },
    {
     "name": "stdout",
     "output_type": "stream",
     "text": [
      "Train Epoch: 5 [8960/11481 (78%)]\tLoss: 0.121190\n",
      "Mem before-during-after: 21330432 4332184576 21330432\n"
     ]
    },
    {
     "name": "stderr",
     "output_type": "stream",
     "text": [
      " 47%|█████████████████████████████████████████████████████████▎                                                                 | 4.661855670103077/10 [15:41<21:04, 236.92s/it]"
     ]
    },
    {
     "name": "stdout",
     "output_type": "stream",
     "text": [
      "Train Epoch: 5 [10240/11481 (89%)]\tLoss: 0.592355\n",
      "Mem before-during-after: 21330432 4332184576 21330432\n"
     ]
    },
    {
     "name": "stderr",
     "output_type": "stream",
     "text": [
      " 50%|█████████████████████████████████████████████████████████████▍                                                             | 4.999999999999983/10 [16:26<08:50, 106.13s/it]"
     ]
    },
    {
     "name": "stdout",
     "output_type": "stream",
     "text": [
      "\n",
      "Test Epoch: 5\tAccuracy: 3393/4064 (83%)\n",
      "\n"
     ]
    },
    {
     "name": "stderr",
     "output_type": "stream",
     "text": [
      " 50%|█████████████████████████████████████████████████████████████▌                                                             | 5.002061855670086/10 [16:26<11:51, 142.32s/it]"
     ]
    },
    {
     "name": "stdout",
     "output_type": "stream",
     "text": [
      "Train Epoch: 6 [0/11481 (0%)]\tLoss: 0.008154\n",
      "Mem before-during-after: 21444096 4333847552 21330432\n"
     ]
    },
    {
     "name": "stderr",
     "output_type": "stream",
     "text": [
      " 51%|███████████████████████████████████████████████████████████████                                                             | 5.08453608247421/10 [16:46<19:21, 236.21s/it]"
     ]
    },
    {
     "name": "stdout",
     "output_type": "stream",
     "text": [
      "Train Epoch: 6 [1280/11481 (11%)]\tLoss: 0.142042\n",
      "Mem before-during-after: 21330432 4332184576 21330432\n"
     ]
    },
    {
     "name": "stderr",
     "output_type": "stream",
     "text": [
      " 52%|███████████████████████████████████████████████████████████████▌                                                           | 5.167010309278333/10 [17:05<19:05, 237.05s/it]"
     ]
    },
    {
     "name": "stdout",
     "output_type": "stream",
     "text": [
      "Train Epoch: 6 [2560/11481 (22%)]\tLoss: 0.415979\n",
      "Mem before-during-after: 21330432 4332184576 21330432\n"
     ]
    },
    {
     "name": "stderr",
     "output_type": "stream",
     "text": [
      " 52%|████████████████████████████████████████████████████████████████                                                          | 5.2494845360824565/10 [17:24<19:24, 245.11s/it]"
     ]
    },
    {
     "name": "stdout",
     "output_type": "stream",
     "text": [
      "Train Epoch: 6 [3840/11481 (34%)]\tLoss: 0.039928\n",
      "Mem before-during-after: 21330432 4332184576 21330432\n"
     ]
    },
    {
     "name": "stderr",
     "output_type": "stream",
     "text": [
      " 53%|██████████████████████████████████████████████████████████████████                                                          | 5.33195876288658/10 [17:43<18:15, 234.74s/it]"
     ]
    },
    {
     "name": "stdout",
     "output_type": "stream",
     "text": [
      "Train Epoch: 6 [5120/11481 (45%)]\tLoss: 1.622463\n",
      "Mem before-during-after: 21330432 4332184576 21330432\n"
     ]
    },
    {
     "name": "stderr",
     "output_type": "stream",
     "text": [
      " 54%|██████████████████████████████████████████████████████████████████▌                                                        | 5.414432989690703/10 [18:01<17:34, 229.87s/it]"
     ]
    },
    {
     "name": "stdout",
     "output_type": "stream",
     "text": [
      "Train Epoch: 6 [6400/11481 (56%)]\tLoss: 0.380060\n",
      "Mem before-during-after: 21330432 4332184576 21330432\n"
     ]
    },
    {
     "name": "stderr",
     "output_type": "stream",
     "text": [
      " 55%|███████████████████████████████████████████████████████████████████▌                                                       | 5.496907216494827/10 [18:20<18:05, 240.99s/it]"
     ]
    },
    {
     "name": "stdout",
     "output_type": "stream",
     "text": [
      "Train Epoch: 6 [7680/11481 (67%)]\tLoss: 0.233572\n",
      "Mem before-during-after: 21330432 4332184576 21330432\n"
     ]
    },
    {
     "name": "stderr",
     "output_type": "stream",
     "text": [
      " 56%|█████████████████████████████████████████████████████████████████████▏                                                      | 5.57938144329895/10 [18:39<17:06, 232.15s/it]"
     ]
    },
    {
     "name": "stdout",
     "output_type": "stream",
     "text": [
      "Train Epoch: 6 [8960/11481 (78%)]\tLoss: 0.116998\n",
      "Mem before-during-after: 21330432 4332184576 21330432\n"
     ]
    },
    {
     "name": "stderr",
     "output_type": "stream",
     "text": [
      " 57%|█████████████████████████████████████████████████████████████████████▋                                                     | 5.661855670103074/10 [18:58<16:38, 230.27s/it]"
     ]
    },
    {
     "name": "stdout",
     "output_type": "stream",
     "text": [
      "Train Epoch: 6 [10240/11481 (89%)]\tLoss: 1.027704\n",
      "Mem before-during-after: 21330432 4332184576 21330432\n"
     ]
    },
    {
     "name": "stderr",
     "output_type": "stream",
     "text": [
      " 60%|██████████████████████████████████████████████████████████████████████████▍                                                 | 5.99999999999998/10 [19:43<06:51, 102.94s/it]"
     ]
    },
    {
     "name": "stdout",
     "output_type": "stream",
     "text": [
      "\n",
      "Test Epoch: 6\tAccuracy: 3514/4064 (86%)\n",
      "\n"
     ]
    },
    {
     "name": "stderr",
     "output_type": "stream",
     "text": [
      " 60%|█████████████████████████████████████████████████████████████████████████▊                                                 | 6.002061855670083/10 [19:43<09:25, 141.33s/it]"
     ]
    },
    {
     "name": "stdout",
     "output_type": "stream",
     "text": [
      "Train Epoch: 7 [0/11481 (0%)]\tLoss: 0.024353\n",
      "Mem before-during-after: 21444096 4333847552 21330432\n"
     ]
    },
    {
     "name": "stderr",
     "output_type": "stream",
     "text": [
      " 61%|██████████████████████████████████████████████████████████████████████████▊                                                | 6.084536082474206/10 [20:02<15:06, 231.54s/it]"
     ]
    },
    {
     "name": "stdout",
     "output_type": "stream",
     "text": [
      "Train Epoch: 7 [1280/11481 (11%)]\tLoss: 0.014770\n",
      "Mem before-during-after: 21330432 4332184576 21330432\n"
     ]
    },
    {
     "name": "stderr",
     "output_type": "stream",
     "text": [
      " 62%|███████████████████████████████████████████████████████████████████████████▏                                              | 6.1670103092783295/10 [20:21<14:48, 231.82s/it]"
     ]
    },
    {
     "name": "stdout",
     "output_type": "stream",
     "text": [
      "Train Epoch: 7 [2560/11481 (22%)]\tLoss: 0.365955\n",
      "Mem before-during-after: 21330432 4332184576 21330432\n"
     ]
    },
    {
     "name": "stderr",
     "output_type": "stream",
     "text": [
      " 62%|████████████████████████████████████████████████████████████████████████████▊                                              | 6.249484536082453/10 [20:39<14:41, 234.95s/it]"
     ]
    },
    {
     "name": "stdout",
     "output_type": "stream",
     "text": [
      "Train Epoch: 7 [3840/11481 (34%)]\tLoss: 0.061883\n",
      "Mem before-during-after: 21330432 4332184576 21330432\n"
     ]
    },
    {
     "name": "stderr",
     "output_type": "stream",
     "text": [
      " 63%|█████████████████████████████████████████████████████████████████████████████▉                                             | 6.331958762886576/10 [20:59<14:31, 237.71s/it]"
     ]
    },
    {
     "name": "stdout",
     "output_type": "stream",
     "text": [
      "Train Epoch: 7 [5120/11481 (45%)]\tLoss: 1.128979\n",
      "Mem before-during-after: 21330432 4332184576 21330432\n"
     ]
    },
    {
     "name": "stderr",
     "output_type": "stream",
     "text": [
      " 64%|████████████████████████████████████████████████████████████████████████████████▏                                            | 6.4144329896907/10 [21:18<14:10, 237.34s/it]"
     ]
    },
    {
     "name": "stdout",
     "output_type": "stream",
     "text": [
      "Train Epoch: 7 [6400/11481 (56%)]\tLoss: 0.275485\n",
      "Mem before-during-after: 21330432 4332184576 21330432\n"
     ]
    },
    {
     "name": "stderr",
     "output_type": "stream",
     "text": [
      " 65%|███████████████████████████████████████████████████████████████████████████████▉                                           | 6.496907216494823/10 [21:37<13:49, 236.76s/it]"
     ]
    },
    {
     "name": "stdout",
     "output_type": "stream",
     "text": [
      "Train Epoch: 7 [7680/11481 (67%)]\tLoss: 0.133272\n",
      "Mem before-during-after: 21330432 4332184576 21330432\n"
     ]
    },
    {
     "name": "stderr",
     "output_type": "stream",
     "text": [
      " 66%|████████████████████████████████████████████████████████████████████████████████▉                                          | 6.579381443298947/10 [21:56<13:45, 241.30s/it]"
     ]
    },
    {
     "name": "stdout",
     "output_type": "stream",
     "text": [
      "Train Epoch: 7 [8960/11481 (78%)]\tLoss: 0.144027\n",
      "Mem before-during-after: 21330432 4332184576 21330432\n"
     ]
    },
    {
     "name": "stderr",
     "output_type": "stream",
     "text": [
      " 67%|██████████████████████████████████████████████████████████████████████████████████▌                                         | 6.66185567010307/10 [22:15<13:09, 236.51s/it]"
     ]
    },
    {
     "name": "stdout",
     "output_type": "stream",
     "text": [
      "Train Epoch: 7 [10240/11481 (89%)]\tLoss: 0.872432\n",
      "Mem before-during-after: 21330432 4332184576 21330432\n"
     ]
    },
    {
     "name": "stderr",
     "output_type": "stream",
     "text": [
      " 70%|██████████████████████████████████████████████████████████████████████████████████████                                     | 6.999999999999976/10 [23:01<05:27, 109.03s/it]"
     ]
    },
    {
     "name": "stdout",
     "output_type": "stream",
     "text": [
      "\n",
      "Test Epoch: 7\tAccuracy: 3533/4064 (86%)\n",
      "\n"
     ]
    },
    {
     "name": "stderr",
     "output_type": "stream",
     "text": [
      " 70%|██████████████████████████████████████████████████████████████████████████████████████▏                                    | 7.002061855670079/10 [23:01<07:22, 147.56s/it]"
     ]
    },
    {
     "name": "stdout",
     "output_type": "stream",
     "text": [
      "Train Epoch: 8 [0/11481 (0%)]\tLoss: 0.060469\n",
      "Mem before-during-after: 21444096 4333847552 21330432\n"
     ]
    },
    {
     "name": "stderr",
     "output_type": "stream",
     "text": [
      " 71%|██████████████████████████████████████████████████████████████████████████████████████▍                                   | 7.0845360824742025/10 [23:20<11:22, 234.13s/it]"
     ]
    },
    {
     "name": "stdout",
     "output_type": "stream",
     "text": [
      "Train Epoch: 8 [1280/11481 (11%)]\tLoss: 0.015186\n",
      "Mem before-during-after: 21330432 4332184576 21330432\n"
     ]
    },
    {
     "name": "stderr",
     "output_type": "stream",
     "text": [
      " 72%|████████████████████████████████████████████████████████████████████████████████████████▏                                  | 7.167010309278326/10 [23:39<11:10, 236.76s/it]"
     ]
    },
    {
     "name": "stdout",
     "output_type": "stream",
     "text": [
      "Train Epoch: 8 [2560/11481 (22%)]\tLoss: 0.459540\n",
      "Mem before-during-after: 21330432 4332184576 21330432\n"
     ]
    },
    {
     "name": "stderr",
     "output_type": "stream",
     "text": [
      " 72%|█████████████████████████████████████████████████████████████████████████████████████████▏                                 | 7.249484536082449/10 [23:58<10:29, 228.92s/it]"
     ]
    },
    {
     "name": "stdout",
     "output_type": "stream",
     "text": [
      "Train Epoch: 8 [3840/11481 (34%)]\tLoss: 0.160261\n",
      "Mem before-during-after: 21330432 4332184576 21330432\n"
     ]
    },
    {
     "name": "stderr",
     "output_type": "stream",
     "text": [
      " 73%|██████████████████████████████████████████████████████████████████████████████████████████▏                                | 7.331958762886573/10 [24:17<10:16, 230.97s/it]"
     ]
    },
    {
     "name": "stdout",
     "output_type": "stream",
     "text": [
      "Train Epoch: 8 [5120/11481 (45%)]\tLoss: 1.222161\n",
      "Mem before-during-after: 21330432 4332184576 21330432\n"
     ]
    },
    {
     "name": "stderr",
     "output_type": "stream",
     "text": [
      " 74%|███████████████████████████████████████████████████████████████████████████████████████████▏                               | 7.414432989690696/10 [24:35<09:57, 231.07s/it]"
     ]
    },
    {
     "name": "stdout",
     "output_type": "stream",
     "text": [
      "Train Epoch: 8 [6400/11481 (56%)]\tLoss: 0.256349\n",
      "Mem before-during-after: 21330432 4332184576 21330432\n"
     ]
    },
    {
     "name": "stderr",
     "output_type": "stream",
     "text": [
      " 75%|████████████████████████████████████████████████████████████████████████████████████████████▉                               | 7.49690721649482/10 [24:54<09:36, 230.25s/it]"
     ]
    },
    {
     "name": "stdout",
     "output_type": "stream",
     "text": [
      "Train Epoch: 8 [7680/11481 (67%)]\tLoss: 0.205474\n",
      "Mem before-during-after: 21330432 4332184576 21330432\n"
     ]
    },
    {
     "name": "stderr",
     "output_type": "stream",
     "text": [
      " 76%|█████████████████████████████████████████████████████████████████████████████████████████████▏                             | 7.579381443298943/10 [25:13<09:28, 234.66s/it]"
     ]
    },
    {
     "name": "stdout",
     "output_type": "stream",
     "text": [
      "Train Epoch: 8 [8960/11481 (78%)]\tLoss: 0.218653\n",
      "Mem before-during-after: 21330432 4332184576 21330432\n"
     ]
    },
    {
     "name": "stderr",
     "output_type": "stream",
     "text": [
      " 77%|█████████████████████████████████████████████████████████████████████████████████████████████▍                            | 7.6618556701030665/10 [25:33<09:21, 239.94s/it]"
     ]
    },
    {
     "name": "stdout",
     "output_type": "stream",
     "text": [
      "Train Epoch: 8 [10240/11481 (89%)]\tLoss: 0.578776\n",
      "Mem before-during-after: 21330432 4332184576 21330432\n"
     ]
    },
    {
     "name": "stderr",
     "output_type": "stream",
     "text": [
      " 80%|█████████████████████████████████████████████████████████████████████████████████████████████████▌                        | 7.9999999999999725/10 [26:18<03:22, 101.31s/it]"
     ]
    },
    {
     "name": "stdout",
     "output_type": "stream",
     "text": [
      "\n",
      "Test Epoch: 8\tAccuracy: 3552/4064 (87%)\n",
      "\n"
     ]
    },
    {
     "name": "stderr",
     "output_type": "stream",
     "text": [
      " 80%|██████████████████████████████████████████████████████████████████████████████████████████████████▍                        | 8.002061855670076/10 [26:18<04:37, 138.84s/it]"
     ]
    },
    {
     "name": "stdout",
     "output_type": "stream",
     "text": [
      "Train Epoch: 9 [0/11481 (0%)]\tLoss: 0.035476\n",
      "Mem before-during-after: 21444096 4333847552 21330432\n"
     ]
    },
    {
     "name": "stderr",
     "output_type": "stream",
     "text": [
      " 81%|█████████████████████████████████████████████████████████████████████████████████████████████████████                        | 8.0845360824742/10 [26:37<07:26, 232.99s/it]"
     ]
    },
    {
     "name": "stdout",
     "output_type": "stream",
     "text": [
      "Train Epoch: 9 [1280/11481 (11%)]\tLoss: 0.012592\n",
      "Mem before-during-after: 21330432 4332184576 21330432\n"
     ]
    },
    {
     "name": "stderr",
     "output_type": "stream",
     "text": [
      " 82%|████████████████████████████████████████████████████████████████████████████████████████████████████▍                      | 8.167010309278323/10 [26:56<07:05, 232.21s/it]"
     ]
    },
    {
     "name": "stdout",
     "output_type": "stream",
     "text": [
      "Train Epoch: 9 [2560/11481 (22%)]\tLoss: 0.365333\n",
      "Mem before-during-after: 21330432 4332184576 21330432\n"
     ]
    },
    {
     "name": "stderr",
     "output_type": "stream",
     "text": [
      " 82%|█████████████████████████████████████████████████████████████████████████████████████████████████████▍                     | 8.249484536082447/10 [27:15<06:50, 234.31s/it]"
     ]
    },
    {
     "name": "stdout",
     "output_type": "stream",
     "text": [
      "Train Epoch: 9 [3840/11481 (34%)]\tLoss: 0.035045\n",
      "Mem before-during-after: 21330432 4332184576 21330432\n"
     ]
    },
    {
     "name": "stderr",
     "output_type": "stream",
     "text": [
      " 83%|███████████████████████████████████████████████████████████████████████████████████████████████████████▎                    | 8.33195876288657/10 [27:34<06:28, 232.62s/it]"
     ]
    },
    {
     "name": "stdout",
     "output_type": "stream",
     "text": [
      "Train Epoch: 9 [5120/11481 (45%)]\tLoss: 0.914929\n",
      "Mem before-during-after: 21330432 4332184576 21330432\n"
     ]
    },
    {
     "name": "stderr",
     "output_type": "stream",
     "text": [
      " 84%|███████████████████████████████████████████████████████████████████████████████████████████████████████▍                   | 8.414432989690694/10 [27:53<06:15, 236.79s/it]"
     ]
    },
    {
     "name": "stdout",
     "output_type": "stream",
     "text": [
      "Train Epoch: 9 [6400/11481 (56%)]\tLoss: 0.325784\n",
      "Mem before-during-after: 21330432 4332184576 21330432\n"
     ]
    },
    {
     "name": "stderr",
     "output_type": "stream",
     "text": [
      " 85%|████████████████████████████████████████████████████████████████████████████████████████████████████████▌                  | 8.496907216494817/10 [28:12<05:51, 234.05s/it]"
     ]
    },
    {
     "name": "stdout",
     "output_type": "stream",
     "text": [
      "Train Epoch: 9 [7680/11481 (67%)]\tLoss: 0.112059\n",
      "Mem before-during-after: 21330432 4332184576 21330432\n"
     ]
    },
    {
     "name": "stderr",
     "output_type": "stream",
     "text": [
      " 86%|██████████████████████████████████████████████████████████████████████████████████████████████████████████▍                 | 8.57938144329894/10 [28:31<05:35, 236.33s/it]"
     ]
    },
    {
     "name": "stdout",
     "output_type": "stream",
     "text": [
      "Train Epoch: 9 [8960/11481 (78%)]\tLoss: 0.171224\n",
      "Mem before-during-after: 21330432 4332184576 21330432\n"
     ]
    },
    {
     "name": "stderr",
     "output_type": "stream",
     "text": [
      " 87%|██████████████████████████████████████████████████████████████████████████████████████████████████████████▌                | 8.661855670103064/10 [28:50<05:11, 232.98s/it]"
     ]
    },
    {
     "name": "stdout",
     "output_type": "stream",
     "text": [
      "Train Epoch: 9 [10240/11481 (89%)]\tLoss: 0.852839\n",
      "Mem before-during-after: 21330432 4332184576 21330432\n"
     ]
    },
    {
     "name": "stderr",
     "output_type": "stream",
     "text": [
      " 90%|███████████████████████████████████████████████████████████████████████████████████████████████████████████████▌            | 8.99999999999997/10 [29:35<01:43, 103.63s/it]"
     ]
    },
    {
     "name": "stdout",
     "output_type": "stream",
     "text": [
      "\n",
      "Test Epoch: 9\tAccuracy: 3256/4064 (80%)\n",
      "\n"
     ]
    },
    {
     "name": "stderr",
     "output_type": "stream",
     "text": [
      " 90%|██████████████████████████████████████████████████████████████████████████████████████████████████████████████▋            | 9.002061855670073/10 [29:36<02:18, 139.11s/it]"
     ]
    },
    {
     "name": "stdout",
     "output_type": "stream",
     "text": [
      "Train Epoch: 10 [0/11481 (0%)]\tLoss: 0.133125\n",
      "Mem before-during-after: 21444096 4333847552 21330432\n"
     ]
    },
    {
     "name": "stderr",
     "output_type": "stream",
     "text": [
      " 91%|███████████████████████████████████████████████████████████████████████████████████████████████████████████████▋           | 9.084536082474196/10 [29:54<03:31, 230.61s/it]"
     ]
    },
    {
     "name": "stdout",
     "output_type": "stream",
     "text": [
      "Train Epoch: 10 [1280/11481 (11%)]\tLoss: 0.009056\n",
      "Mem before-during-after: 21330432 4332184576 21330432\n"
     ]
    },
    {
     "name": "stderr",
     "output_type": "stream",
     "text": [
      " 92%|█████████████████████████████████████████████████████████████████████████████████████████████████████████████████▋          | 9.16701030927832/10 [30:13<03:14, 233.58s/it]"
     ]
    },
    {
     "name": "stdout",
     "output_type": "stream",
     "text": [
      "Train Epoch: 10 [2560/11481 (22%)]\tLoss: 0.351270\n",
      "Mem before-during-after: 21330432 4332184576 21330432\n"
     ]
    },
    {
     "name": "stderr",
     "output_type": "stream",
     "text": [
      " 92%|█████████████████████████████████████████████████████████████████████████████████████████████████████████████████▊         | 9.249484536082443/10 [30:32<02:55, 233.95s/it]"
     ]
    },
    {
     "name": "stdout",
     "output_type": "stream",
     "text": [
      "Train Epoch: 10 [3840/11481 (34%)]\tLoss: 0.029226\n",
      "Mem before-during-after: 21330432 4332184576 21330432\n"
     ]
    },
    {
     "name": "stderr",
     "output_type": "stream",
     "text": [
      " 93%|██████████████████████████████████████████████████████████████████████████████████████████████████████████████████▊        | 9.331958762886567/10 [30:51<02:39, 238.35s/it]"
     ]
    },
    {
     "name": "stdout",
     "output_type": "stream",
     "text": [
      "Train Epoch: 10 [5120/11481 (45%)]\tLoss: 0.911101\n",
      "Mem before-during-after: 21330432 4332184576 21330432\n"
     ]
    },
    {
     "name": "stderr",
     "output_type": "stream",
     "text": [
      " 94%|████████████████████████████████████████████████████████████████████████████████████████████████████████████████████▋       | 9.41443298969069/10 [31:10<02:16, 233.50s/it]"
     ]
    },
    {
     "name": "stdout",
     "output_type": "stream",
     "text": [
      "Train Epoch: 10 [6400/11481 (56%)]\tLoss: 0.266297\n",
      "Mem before-during-after: 21330432 4332184576 21330432\n"
     ]
    },
    {
     "name": "stderr",
     "output_type": "stream",
     "text": [
      " 95%|████████████████████████████████████████████████████████████████████████████████████████████████████████████████████▊      | 9.496907216494813/10 [31:28<01:57, 233.12s/it]"
     ]
    },
    {
     "name": "stdout",
     "output_type": "stream",
     "text": [
      "Train Epoch: 10 [7680/11481 (67%)]\tLoss: 0.108206\n",
      "Mem before-during-after: 21330432 4332184576 21330432\n"
     ]
    },
    {
     "name": "stderr",
     "output_type": "stream",
     "text": [
      " 96%|█████████████████████████████████████████████████████████████████████████████████████████████████████████████████████▊     | 9.579381443298937/10 [31:47<01:38, 235.27s/it]"
     ]
    },
    {
     "name": "stdout",
     "output_type": "stream",
     "text": [
      "Train Epoch: 10 [8960/11481 (78%)]\tLoss: 0.150916\n",
      "Mem before-during-after: 21330432 4332184576 21330432\n"
     ]
    },
    {
     "name": "stderr",
     "output_type": "stream",
     "text": [
      " 97%|███████████████████████████████████████████████████████████████████████████████████████████████████████████████████████▊    | 9.66185567010306/10 [32:06<01:19, 235.16s/it]"
     ]
    },
    {
     "name": "stdout",
     "output_type": "stream",
     "text": [
      "Train Epoch: 10 [10240/11481 (89%)]\tLoss: 0.719096\n",
      "Mem before-during-after: 21330432 4332184576 21330432\n"
     ]
    },
    {
     "name": "stderr",
     "output_type": "stream",
     "text": [
      "100%|██████████████████████████████████████████████████████████████████████████████████████████████████████████████████████████▉| 9.999999999999966/10 [32:51<00:00, 197.17s/it]"
     ]
    },
    {
     "name": "stdout",
     "output_type": "stream",
     "text": [
      "\n",
      "Test Epoch: 10\tAccuracy: 3468/4064 (85%)\n",
      "\n"
     ]
    },
    {
     "name": "stderr",
     "output_type": "stream",
     "text": [
      "\n"
     ]
    }
   ],
   "source": [
    "log_interval = 40\n",
    "pbar_update = 1 / (len(train_loader) + len(test_loader))\n",
    "model.to(device)\n",
    "with tqdm(total=n_epoch) as pbar:\n",
    "    for epoch in range(1, n_epoch + 1):\n",
    "        train(model, epoch, log_interval, train_losses)\n",
    "        acc = test(model, epoch)\n",
    "        test_accuracy += [acc]\n",
    "        scheduler.step()"
   ]
  },
  {
   "cell_type": "code",
   "execution_count": 14,
   "id": "9ce77726-a765-4569-898e-e5d81b849d38",
   "metadata": {},
   "outputs": [
    {
     "data": {
      "text/plain": [
       "[<matplotlib.lines.Line2D at 0x7ff188176a00>]"
      ]
     },
     "execution_count": 14,
     "metadata": {},
     "output_type": "execute_result"
    },
    {
     "data": {
      "image/png": "[encoded data removed]",
      "text/plain": [
       "<Figure size 640x480 with 1 Axes>"
      ]
     },
     "metadata": {},
     "output_type": "display_data"
    }
   ],
   "source": [
    "plt.plot(train_losses)"
   ]
  },
  {
   "cell_type": "code",
   "execution_count": 15,
   "id": "7b4b5dfb-d20f-4b36-a398-57e9944f5971",
   "metadata": {},
   "outputs": [
    {
     "data": {
      "text/plain": [
       "[<matplotlib.lines.Line2D at 0x7ff1880da0a0>]"
      ]
     },
     "execution_count": 15,
     "metadata": {},
     "output_type": "execute_result"
    },
    {
     "data": {
      "image/png": "[encoded data removed]",
      "text/plain": [
       "<Figure size 640x480 with 1 Axes>"
      ]
     },
     "metadata": {},
     "output_type": "display_data"
    }
   ],
   "source": [
    "plt.plot(test_accuracy)"
   ]
  },
  {
   "cell_type": "code",
   "execution_count": 16,
   "id": "05b83f13-f433-4201-ac1e-fb15c409a0b3",
   "metadata": {},
   "outputs": [],
   "source": [
    "model_path = '../physio16k_fold4_m13sinc_10epochs.pt' \n",
    "torch.save(model.state_dict(), model_path)"
   ]
  },
  {
   "cell_type": "code",
   "execution_count": 17,
   "id": "1911d843-0ddd-4570-a746-602f55ae55e2",
   "metadata": {},
   "outputs": [],
   "source": [
    "from torchmetrics.classification import (\n",
    "    MulticlassAccuracy, MulticlassPrecision, \n",
    "    MulticlassRecall, MulticlassF1Score, \n",
    "    MulticlassConfusionMatrix,\n",
    "    MulticlassAUROC\n",
    ")\n",
    "from torchmetrics import MetricCollection\n",
    "from torchmetrics.wrappers import ClasswiseWrapper\n",
    "from pprint import pprint\n",
    "\n",
    "@torch.no_grad\n",
    "def report_metrics(model, labels=labels):\n",
    "    n = len(labels)\n",
    "    metrics = MetricCollection({\n",
    "        'acc_unweighted': MulticlassAccuracy(num_classes=n), \n",
    "        'acc_weighted': MulticlassAccuracy(num_classes=n, average='weighted'), \n",
    "        \n",
    "        'f1s': MulticlassF1Score(num_classes=n),  \n",
    "        'uar': MulticlassRecall(num_classes=n, average='macro'), \n",
    "        'wap': MulticlassPrecision(num_classes=n, average='weighted'),\n",
    "        \n",
    "        'f1s_detail': MulticlassF1Score(num_classes=n, average=None),  \n",
    "        'acc_detail': MulticlassAccuracy(num_classes=n, average=None), \n",
    "        'precision_detail': MulticlassPrecision(num_classes=n, average=None),\n",
    "        'recall_detail': MulticlassRecall(num_classes=n, average=None), \n",
    "        'rocauc': MulticlassAUROC(num_classes=n, average=None, thresholds=None)\n",
    "    }\n",
    "    # , compute_groups=[['acc', 'f1s', 'wap'], ['uap', 'uar']]\n",
    "                              ).to(device)\n",
    "    confusion_matrix = MulticlassConfusionMatrix(num_classes=n).to(device)\n",
    "    model.eval()\n",
    "    correct = 0\n",
    "    total = 0\n",
    "    for data, target in test_loader:\n",
    "        total += len(target)\n",
    "        \n",
    "        data = data.to(device)\n",
    "        target = target.to(device)\n",
    "        output = model(data).squeeze()\n",
    "        del data\n",
    "        gc.collect()\n",
    "        torch.cuda.empty_cache()\n",
    "        probs = F.softmax(output, dim=-1)\n",
    "        pred = probs.argmax(dim=-1)\n",
    "        correct += pred.eq(target).sum().item()\n",
    "        \n",
    "        metrics.update(probs, target)\n",
    "        confusion_matrix.update(pred, target)\n",
    "        \n",
    "        del target\n",
    "        gc.collect()\n",
    "        torch.cuda.empty_cache()\n",
    "        pbar.update(pbar_update)\n",
    "    print(f'Correct: {correct}/{total} ({correct/total:.4f})')\n",
    "    return metrics, confusion_matrix"
   ]
  },
  {
   "cell_type": "code",
   "execution_count": 18,
   "id": "dbe18a0c-c79d-4657-ad8f-01a823a7d90c",
   "metadata": {},
   "outputs": [
    {
     "name": "stdout",
     "output_type": "stream",
     "text": [
      "Correct: 3468/4064 (0.8533)\n",
      "{'acc_detail': tensor([0.4483, 0.9800], device='cuda:0'),\n",
      " 'acc_unweighted': tensor(0.7142, device='cuda:0'),\n",
      " 'acc_weighted': tensor(0.8533, device='cuda:0'),\n",
      " 'f1s': tensor(0.7517, device='cuda:0'),\n",
      " 'f1s_detail': tensor([0.5929, 0.9106], device='cuda:0'),\n",
      " 'precision_detail': tensor([0.8750, 0.8503], device='cuda:0'),\n",
      " 'recall_detail': tensor([0.4483, 0.9800], device='cuda:0'),\n",
      " 'rocauc': tensor([0.8967, 0.8967], device='cuda:0'),\n",
      " 'uar': tensor(0.7142, device='cuda:0'),\n",
      " 'wap': tensor(0.8562, device='cuda:0')}\n"
     ]
    },
    {
     "data": {
      "text/plain": [
       "tensor([[ 434,  534],\n",
       "        [  62, 3034]], device='cuda:0')"
      ]
     },
     "execution_count": 18,
     "metadata": {},
     "output_type": "execute_result"
    }
   ],
   "source": [
    "metrics, confusion_matrix = report_metrics(model)\n",
    "pprint(metrics.compute())\n",
    "confusion_matrix.compute()"
   ]
  },
  {
   "cell_type": "code",
   "execution_count": 19,
   "id": "f749e410-8fd7-4cc0-904b-8eab1db8a474",
   "metadata": {
    "scrolled": true
   },
   "outputs": [
    {
     "name": "stdout",
     "output_type": "stream",
     "text": [
      "('lowcut_bands', Parameter containing:\n",
      "tensor([[ 0.0000],\n",
      "        [ 0.1565],\n",
      "        [ 0.0294],\n",
      "        [-0.1687],\n",
      "        [ 0.1131],\n",
      "        [ 0.0495],\n",
      "        [ 0.0610],\n",
      "        [-0.0560],\n",
      "        [-0.0395],\n",
      "        [-0.0379],\n",
      "        [-0.0401],\n",
      "        [-0.0904],\n",
      "        [ 0.1492],\n",
      "        [ 0.1706],\n",
      "        [-0.1282],\n",
      "        [-0.0292],\n",
      "        [-0.0406],\n",
      "        [ 0.0849],\n",
      "        [-0.0920],\n",
      "        [ 0.0161],\n",
      "        [ 0.1231],\n",
      "        [-0.1167],\n",
      "        [ 0.0980],\n",
      "        [-0.0828],\n",
      "        [ 0.1179],\n",
      "        [ 0.0712],\n",
      "        [-0.1262],\n",
      "        [ 0.0213],\n",
      "        [ 0.1202],\n",
      "        [-0.0341],\n",
      "        [ 0.0998],\n",
      "        [-0.0532],\n",
      "        [-0.0291],\n",
      "        [ 0.0520],\n",
      "        [-0.0411],\n",
      "        [ 0.0065],\n",
      "        [ 0.0774],\n",
      "        [-0.0322],\n",
      "        [ 0.0680],\n",
      "        [-0.0235],\n",
      "        [-0.1552],\n",
      "        [-0.2017],\n",
      "        [-0.0913],\n",
      "        [ 0.1230],\n",
      "        [ 0.0296],\n",
      "        [-0.0480],\n",
      "        [ 0.1273],\n",
      "        [ 0.0115],\n",
      "        [ 0.1842],\n",
      "        [ 0.0236],\n",
      "        [ 0.2260],\n",
      "        [ 0.0520],\n",
      "        [-0.0085],\n",
      "        [ 0.1056],\n",
      "        [ 0.1267],\n",
      "        [-0.0248],\n",
      "        [ 0.1000],\n",
      "        [ 0.0963],\n",
      "        [ 0.2015],\n",
      "        [ 0.1262],\n",
      "        [ 0.1106],\n",
      "        [ 0.0870],\n",
      "        [ 0.1205],\n",
      "        [ 0.1146],\n",
      "        [-0.0332],\n",
      "        [ 0.1070],\n",
      "        [ 0.1189],\n",
      "        [ 0.2257],\n",
      "        [ 0.1122],\n",
      "        [ 0.0113],\n",
      "        [ 0.1098],\n",
      "        [-0.1016],\n",
      "        [ 0.1874],\n",
      "        [ 0.1118],\n",
      "        [ 0.0445],\n",
      "        [ 0.0830],\n",
      "        [ 0.2523],\n",
      "        [ 0.1409],\n",
      "        [ 0.1078],\n",
      "        [ 0.1027],\n",
      "        [ 0.1229],\n",
      "        [ 0.0587],\n",
      "        [ 0.0949],\n",
      "        [-0.0968],\n",
      "        [ 0.0226],\n",
      "        [ 0.0761],\n",
      "        [ 0.1114],\n",
      "        [ 0.1145],\n",
      "        [-0.0849],\n",
      "        [ 0.0892],\n",
      "        [-0.0530],\n",
      "        [-0.0750],\n",
      "        [ 0.2504],\n",
      "        [ 0.2796],\n",
      "        [ 0.1622],\n",
      "        [ 0.1737],\n",
      "        [ 0.2199],\n",
      "        [ 0.0665],\n",
      "        [ 0.2063],\n",
      "        [ 0.0834],\n",
      "        [ 0.2245],\n",
      "        [ 0.0259],\n",
      "        [ 0.1461],\n",
      "        [ 0.1565],\n",
      "        [ 0.1843],\n",
      "        [ 0.3302],\n",
      "        [ 0.3567],\n",
      "        [ 0.0442],\n",
      "        [ 0.5239],\n",
      "        [ 0.2380],\n",
      "        [ 0.4429],\n",
      "        [ 0.5650],\n",
      "        [ 0.3706],\n",
      "        [ 0.5834],\n",
      "        [ 0.5795],\n",
      "        [ 0.5536],\n",
      "        [ 0.6569],\n",
      "        [ 0.4873],\n",
      "        [ 0.1611],\n",
      "        [ 0.5386],\n",
      "        [ 0.1693],\n",
      "        [ 0.1578],\n",
      "        [ 0.3838],\n",
      "        [ 0.3720],\n",
      "        [ 0.1037],\n",
      "        [ 0.3885],\n",
      "        [ 0.3832],\n",
      "        [ 0.6096]], device='cuda:0', requires_grad=True))\n",
      "('bandwidths', Parameter containing:\n",
      "tensor([[ 0.0577],\n",
      "        [-0.0703],\n",
      "        [ 0.0302],\n",
      "        [ 0.0708],\n",
      "        [ 0.1388],\n",
      "        [ 0.0250],\n",
      "        [-0.1179],\n",
      "        [ 0.0451],\n",
      "        [ 0.0473],\n",
      "        [-0.0513],\n",
      "        [-0.0508],\n",
      "        [-0.0651],\n",
      "        [-0.0597],\n",
      "        [ 0.0418],\n",
      "        [-0.0735],\n",
      "        [ 0.0460],\n",
      "        [ 0.0478],\n",
      "        [ 0.1947],\n",
      "        [-0.0932],\n",
      "        [-0.0217],\n",
      "        [ 0.1046],\n",
      "        [-0.0815],\n",
      "        [ 0.0337],\n",
      "        [-0.0627],\n",
      "        [ 0.0781],\n",
      "        [ 0.0898],\n",
      "        [-0.0959],\n",
      "        [ 0.0551],\n",
      "        [-0.1181],\n",
      "        [-0.0105],\n",
      "        [ 0.1124],\n",
      "        [-0.0586],\n",
      "        [-0.0335],\n",
      "        [-0.0573],\n",
      "        [-0.0494],\n",
      "        [ 0.0166],\n",
      "        [-0.1403],\n",
      "        [-0.0548],\n",
      "        [ 0.0400],\n",
      "        [-0.0303],\n",
      "        [-0.1393],\n",
      "        [-0.1595],\n",
      "        [-0.0979],\n",
      "        [-0.0575],\n",
      "        [ 0.0734],\n",
      "        [ 0.0597],\n",
      "        [ 0.0962],\n",
      "        [-0.0496],\n",
      "        [ 0.1623],\n",
      "        [-0.0508],\n",
      "        [-0.1077],\n",
      "        [-0.0931],\n",
      "        [ 0.0517],\n",
      "        [ 0.0396],\n",
      "        [-0.1264],\n",
      "        [-0.0308],\n",
      "        [ 0.0768],\n",
      "        [ 0.0587],\n",
      "        [-0.1730],\n",
      "        [-0.0589],\n",
      "        [ 0.1460],\n",
      "        [ 0.0761],\n",
      "        [ 0.0680],\n",
      "        [ 0.0615],\n",
      "        [-0.0425],\n",
      "        [-0.1667],\n",
      "        [ 0.0976],\n",
      "        [ 0.1578],\n",
      "        [ 0.0664],\n",
      "        [-0.0072],\n",
      "        [-0.0622],\n",
      "        [ 0.0646],\n",
      "        [ 0.0547],\n",
      "        [ 0.1383],\n",
      "        [ 0.0463],\n",
      "        [ 0.0416],\n",
      "        [ 0.0872],\n",
      "        [ 0.1179],\n",
      "        [-0.1441],\n",
      "        [-0.1224],\n",
      "        [ 0.0865],\n",
      "        [ 0.0603],\n",
      "        [-0.1654],\n",
      "        [-0.0596],\n",
      "        [ 0.0679],\n",
      "        [-0.0958],\n",
      "        [ 0.0699],\n",
      "        [-0.1149],\n",
      "        [-0.1474],\n",
      "        [ 0.1913],\n",
      "        [ 0.0950],\n",
      "        [-0.1610],\n",
      "        [-0.0883],\n",
      "        [-0.1729],\n",
      "        [ 0.0558],\n",
      "        [ 0.0304],\n",
      "        [-0.0979],\n",
      "        [-0.0556],\n",
      "        [-0.0827],\n",
      "        [-0.0601],\n",
      "        [-0.0117],\n",
      "        [ 0.0325],\n",
      "        [-0.1647],\n",
      "        [ 0.0846],\n",
      "        [-0.2171],\n",
      "        [-0.0251],\n",
      "        [-0.1216],\n",
      "        [ 0.0186],\n",
      "        [-0.1216],\n",
      "        [-0.1143],\n",
      "        [ 0.0611],\n",
      "        [ 0.1502],\n",
      "        [-0.0694],\n",
      "        [-0.0590],\n",
      "        [-0.0340],\n",
      "        [-0.1161],\n",
      "        [-0.0649],\n",
      "        [ 0.0897],\n",
      "        [ 0.0800],\n",
      "        [-0.1342],\n",
      "        [ 0.1588],\n",
      "        [ 0.0355],\n",
      "        [ 0.1224],\n",
      "        [ 0.0736],\n",
      "        [-0.0221],\n",
      "        [ 0.0663],\n",
      "        [-0.1063],\n",
      "        [-0.0793]], device='cuda:0', requires_grad=True))\n"
     ]
    }
   ],
   "source": [
    "layer = model.fe_blocks.blocks[0].block.layer\n",
    "visualize_model.print_parameters(layer)"
   ]
  },
  {
   "cell_type": "code",
   "execution_count": 20,
   "id": "f8b79cc6-0a62-4bbd-8865-e25ce955e919",
   "metadata": {
    "scrolled": true
   },
   "outputs": [
    {
     "name": "stdout",
     "output_type": "stream",
     "text": [
      "tensor([[ 0.0000],\n",
      "        [ 0.0166],\n",
      "        [ 0.0200],\n",
      "        [-0.0545],\n",
      "        [ 0.0665],\n",
      "        [ 0.0115],\n",
      "        [ 0.0106],\n",
      "        [-0.0663],\n",
      "        [-0.1271],\n",
      "        [-0.0308],\n",
      "        [-0.0304],\n",
      "        [-0.0240],\n",
      "        [ 0.0155],\n",
      "        [ 0.0588],\n",
      "        [-0.0701],\n",
      "        [-0.0071],\n",
      "        [-0.0393],\n",
      "        [ 0.0140],\n",
      "        [-0.0458],\n",
      "        [-0.1242],\n",
      "        [-0.0721],\n",
      "        [-0.1098],\n",
      "        [ 0.0128],\n",
      "        [-0.0233],\n",
      "        [ 0.0452],\n",
      "        [ 0.0089],\n",
      "        [-0.0256],\n",
      "        [-0.0110],\n",
      "        [-0.0028],\n",
      "        [ 0.0083],\n",
      "        [-0.0011],\n",
      "        [-0.0049],\n",
      "        [-0.0619],\n",
      "        [ 0.0084],\n",
      "        [-0.0607],\n",
      "        [ 0.0288],\n",
      "        [ 0.0155],\n",
      "        [-0.0402],\n",
      "        [ 0.0127],\n",
      "        [-0.0007],\n",
      "        [-0.0721],\n",
      "        [-0.0346],\n",
      "        [-0.0199],\n",
      "        [-0.0408],\n",
      "        [ 0.0171],\n",
      "        [-0.0367],\n",
      "        [ 0.0108],\n",
      "        [ 0.0566],\n",
      "        [ 0.0069],\n",
      "        [ 0.0191],\n",
      "        [ 0.0644],\n",
      "        [-0.0048],\n",
      "        [-0.0253],\n",
      "        [ 0.0122],\n",
      "        [-0.0702],\n",
      "        [ 0.0263],\n",
      "        [-0.0243],\n",
      "        [-0.0674],\n",
      "        [-0.0442],\n",
      "        [ 0.0325],\n",
      "        [ 0.0004],\n",
      "        [ 0.0290],\n",
      "        [-0.0684],\n",
      "        [-0.0332],\n",
      "        [ 0.0065],\n",
      "        [ 0.0054],\n",
      "        [-0.0061],\n",
      "        [-0.0535],\n",
      "        [-0.0260],\n",
      "        [ 0.2209],\n",
      "        [-0.0670],\n",
      "        [ 0.0894],\n",
      "        [ 0.0214],\n",
      "        [-0.0668],\n",
      "        [-0.0373],\n",
      "        [-0.1026],\n",
      "        [-0.1408],\n",
      "        [-0.0175],\n",
      "        [-0.1175],\n",
      "        [-0.0136],\n",
      "        [-0.0197],\n",
      "        [-0.0686],\n",
      "        [ 0.0310],\n",
      "        [ 0.0401],\n",
      "        [-0.0326],\n",
      "        [-0.0421],\n",
      "        [-0.0057],\n",
      "        [-0.0432],\n",
      "        [ 0.0609],\n",
      "        [-0.0529],\n",
      "        [-0.0029],\n",
      "        [-0.0143],\n",
      "        [-0.0195],\n",
      "        [ 0.0671],\n",
      "        [-0.1122],\n",
      "        [ 0.0142],\n",
      "        [-0.0264],\n",
      "        [-0.0373],\n",
      "        [ 0.0660],\n",
      "        [-0.0157],\n",
      "        [ 0.2925],\n",
      "        [-0.0109],\n",
      "        [ 0.0265],\n",
      "        [-0.0465],\n",
      "        [-0.0353],\n",
      "        [-0.0703],\n",
      "        [ 0.0178],\n",
      "        [ 0.0270],\n",
      "        [-0.0197],\n",
      "        [ 0.0055],\n",
      "        [-0.0912],\n",
      "        [-0.0442],\n",
      "        [ 0.0359],\n",
      "        [-0.3001],\n",
      "        [ 0.0250],\n",
      "        [ 0.0425],\n",
      "        [-0.0526],\n",
      "        [-0.0890],\n",
      "        [ 0.0050],\n",
      "        [ 0.0735],\n",
      "        [ 0.0285],\n",
      "        [ 0.0025],\n",
      "        [ 0.0419],\n",
      "        [-0.0156],\n",
      "        [-0.0177],\n",
      "        [-0.0470],\n",
      "        [ 0.0832],\n",
      "        [-0.0650]], device='cuda:0')\n",
      "tensor([[-3.7730e-03],\n",
      "        [-8.0520e-03],\n",
      "        [-3.8962e-03],\n",
      "        [ 3.8764e-02],\n",
      "        [ 3.8278e-02],\n",
      "        [-1.3558e-02],\n",
      "        [ 6.7735e-04],\n",
      "        [ 1.9659e-02],\n",
      "        [ 6.4904e-02],\n",
      "        [-1.1316e-02],\n",
      "        [ 7.9561e-03],\n",
      "        [-3.3687e-02],\n",
      "        [ 1.1153e-02],\n",
      "        [ 4.1963e-02],\n",
      "        [-3.2432e-02],\n",
      "        [-5.2906e-03],\n",
      "        [ 1.7121e-02],\n",
      "        [ 1.2972e-02],\n",
      "        [-3.0194e-02],\n",
      "        [ 8.8211e-02],\n",
      "        [-4.1884e-02],\n",
      "        [-6.1697e-02],\n",
      "        [ 2.2711e-02],\n",
      "        [-2.4247e-02],\n",
      "        [ 4.3173e-02],\n",
      "        [ 4.9925e-02],\n",
      "        [-2.1651e-02],\n",
      "        [ 5.5064e-03],\n",
      "        [ 7.7935e-04],\n",
      "        [ 5.6458e-02],\n",
      "        [-2.6711e-02],\n",
      "        [-5.1711e-03],\n",
      "        [-3.1476e-02],\n",
      "        [ 3.8715e-02],\n",
      "        [-1.3808e-02],\n",
      "        [-4.2842e-02],\n",
      "        [ 3.3010e-03],\n",
      "        [-3.2744e-02],\n",
      "        [ 3.2334e-02],\n",
      "        [ 1.4875e-02],\n",
      "        [-3.2910e-02],\n",
      "        [-3.2133e-03],\n",
      "        [-1.0875e-02],\n",
      "        [ 2.8547e-03],\n",
      "        [ 1.0509e-02],\n",
      "        [ 1.8000e-02],\n",
      "        [-3.5202e-03],\n",
      "        [-6.4225e-03],\n",
      "        [ 3.1943e-02],\n",
      "        [-6.9960e-03],\n",
      "        [-5.1525e-02],\n",
      "        [ 2.8522e-04],\n",
      "        [ 2.5776e-02],\n",
      "        [ 3.9601e-02],\n",
      "        [ 4.5290e-02],\n",
      "        [ 3.6751e-02],\n",
      "        [ 1.3780e-02],\n",
      "        [ 2.8144e-03],\n",
      "        [-1.3625e-03],\n",
      "        [-8.0791e-02],\n",
      "        [ 3.6436e-02],\n",
      "        [ 8.1949e-02],\n",
      "        [-4.4601e-02],\n",
      "        [ 3.6784e-02],\n",
      "        [-1.0673e-02],\n",
      "        [-3.9238e-02],\n",
      "        [ 9.5087e-03],\n",
      "        [-5.5515e-03],\n",
      "        [ 4.9644e-02],\n",
      "        [-8.8155e-02],\n",
      "        [-6.5790e-02],\n",
      "        [-3.4057e-02],\n",
      "        [ 3.9716e-02],\n",
      "        [-3.0096e-02],\n",
      "        [-6.6086e-03],\n",
      "        [ 1.6842e-04],\n",
      "        [ 4.9951e-02],\n",
      "        [ 5.6946e-02],\n",
      "        [ 9.8328e-02],\n",
      "        [ 1.3068e-02],\n",
      "        [ 4.0109e-03],\n",
      "        [-2.3982e-02],\n",
      "        [-3.6167e-02],\n",
      "        [-3.4852e-03],\n",
      "        [-1.6547e-02],\n",
      "        [ 1.1615e-03],\n",
      "        [ 4.0263e-03],\n",
      "        [ 2.4936e-02],\n",
      "        [ 3.8710e-02],\n",
      "        [-3.4656e-02],\n",
      "        [ 1.9703e-02],\n",
      "        [-1.7487e-02],\n",
      "        [ 3.8307e-03],\n",
      "        [-2.2973e-02],\n",
      "        [ 2.4325e-03],\n",
      "        [-3.6057e-02],\n",
      "        [ 5.1969e-03],\n",
      "        [ 1.4316e-02],\n",
      "        [-4.3025e-02],\n",
      "        [-2.6729e-02],\n",
      "        [-2.4050e-01],\n",
      "        [-7.1271e-03],\n",
      "        [-9.5527e-03],\n",
      "        [ 1.2087e-02],\n",
      "        [ 9.3419e-03],\n",
      "        [ 4.1434e-02],\n",
      "        [ 2.7388e-03],\n",
      "        [-3.5471e-02],\n",
      "        [ 4.7270e-02],\n",
      "        [ 5.3672e-03],\n",
      "        [-6.0395e-02],\n",
      "        [-6.0995e-02],\n",
      "        [ 1.6209e-02],\n",
      "        [ 1.5658e-01],\n",
      "        [-7.2240e-02],\n",
      "        [-2.8554e-04],\n",
      "        [ 8.6262e-02],\n",
      "        [-2.8853e-02],\n",
      "        [-2.5059e-03],\n",
      "        [-5.9052e-02],\n",
      "        [ 9.8964e-03],\n",
      "        [ 6.1833e-03],\n",
      "        [ 3.3475e-03],\n",
      "        [-2.3378e-03],\n",
      "        [-2.1582e-02],\n",
      "        [-6.4397e-02],\n",
      "        [-4.8684e-02],\n",
      "        [ 1.6229e-01]], device='cuda:0')\n"
     ]
    },
    {
     "data": {
      "text/plain": [
       "[None, None]"
      ]
     },
     "execution_count": 20,
     "metadata": {},
     "output_type": "execute_result"
    }
   ],
   "source": [
    "[print(p.grad) for p in layer.parameters() if p.requires_grad]"
   ]
  },
  {
   "cell_type": "code",
   "execution_count": 21,
   "id": "6788f022-cd13-4f45-a5dd-b12d0e617299",
   "metadata": {},
   "outputs": [
    {
     "data": {
      "text/plain": [
       "(array([ 1.,  1.,  1.,  3.,  2.,  6.,  3.,  9.,  4.,  5.,  7.,  5.,  6.,\n",
       "         9., 18.,  8.,  7.,  5.,  2.,  5.,  1.,  2.,  1.,  0.,  1.,  0.,\n",
       "         3.,  3.,  0.,  0.,  1.,  0.,  1.,  1.,  1.,  2.,  2.,  1.,  0.,\n",
       "         1.]),\n",
       " array([-0.20171779, -0.18025231, -0.15878683, -0.13732135, -0.11585587,\n",
       "        -0.09439038, -0.0729249 , -0.05145942, -0.02999394, -0.00852846,\n",
       "         0.01293702,  0.0344025 ,  0.05586799,  0.07733347,  0.09879895,\n",
       "         0.12026443,  0.14172992,  0.1631954 ,  0.18466088,  0.20612636,\n",
       "         0.22759184,  0.24905732,  0.2705228 ,  0.29198828,  0.31345376,\n",
       "         0.33491924,  0.35638472,  0.3778502 ,  0.39931569,  0.42078117,\n",
       "         0.44224668,  0.46371216,  0.48517764,  0.50664312,  0.5281086 ,\n",
       "         0.54957408,  0.57103956,  0.59250504,  0.61397052,  0.635436  ,\n",
       "         0.65690148]),\n",
       " <BarContainer object of 40 artists>)"
      ]
     },
     "execution_count": 21,
     "metadata": {},
     "output_type": "execute_result"
    },
    {
     "data": {
      "image/png": "[encoded data removed]",
      "text/plain": [
       "<Figure size 640x480 with 1 Axes>"
      ]
     },
     "metadata": {},
     "output_type": "display_data"
    }
   ],
   "source": [
    "named_params = [p for p in layer.named_parameters()]\n",
    "lowbands = named_params[0][1].detach().cpu().numpy()\n",
    "plt.hist(lowbands.flatten(), bins=40)"
   ]
  },
  {
   "cell_type": "code",
   "execution_count": 22,
   "id": "1073cf42-5fe4-4f9e-932e-5de92681168a",
   "metadata": {},
   "outputs": [
    {
     "data": {
      "text/plain": [
       "(array([ 1.,  0.,  0.,  0.,  0.,  0.,  0.,  0.,  0.,  0.,  1.,  2.,  3.,\n",
       "         1.,  2., 12.,  6., 15., 15., 13., 17., 15., 10.,  3.,  7.,  2.,\n",
       "         1.,  0.,  0.,  0.,  0.,  0.,  0.,  0.,  0.,  1.,  0.,  0.,  0.,\n",
       "         1.]),\n",
       " array([-0.30007669, -0.28526238, -0.27044809, -0.25563377, -0.24081948,\n",
       "        -0.22600518, -0.21119088, -0.19637658, -0.18156227, -0.16674797,\n",
       "        -0.15193367, -0.13711935, -0.12230506, -0.10749076, -0.09267645,\n",
       "        -0.07786214, -0.06304784, -0.04823354, -0.03341924, -0.01860493,\n",
       "        -0.00379063,  0.01102367,  0.02583797,  0.04065228,  0.05546658,\n",
       "         0.07028088,  0.08509519,  0.09990949,  0.11472379,  0.12953809,\n",
       "         0.14435241,  0.15916671,  0.17398101,  0.18879531,  0.20360962,\n",
       "         0.21842392,  0.23323822,  0.24805252,  0.26286682,  0.27768111,\n",
       "         0.29249543]),\n",
       " <BarContainer object of 40 artists>)"
      ]
     },
     "execution_count": 22,
     "metadata": {},
     "output_type": "execute_result"
    },
    {
     "data": {
      "image/png": "[encoded data removed]",
      "text/plain": [
       "<Figure size 640x480 with 1 Axes>"
      ]
     },
     "metadata": {},
     "output_type": "display_data"
    }
   ],
   "source": [
    "lowbands = named_params[0][1].grad.detach().cpu().numpy()\n",
    "plt.hist(lowbands.flatten(), bins=40)"
   ]
  },
  {
   "cell_type": "code",
   "execution_count": 23,
   "id": "5f3993de-2edc-4ab0-a69f-24713f78c328",
   "metadata": {},
   "outputs": [
    {
     "data": {
      "text/plain": [
       "(array([ 1.,  0.,  0.,  0.,  3.,  4.,  1.,  3.,  2.,  8.,  2.,  4.,  3.,\n",
       "         4.,  5., 11.,  6.,  2.,  5.,  1.,  2.,  0.,  2.,  1.,  7.,  7.,\n",
       "         8.,  9.,  6.,  5.,  3.,  1.,  3.,  0.,  2.,  2.,  3.,  0.,  0.,\n",
       "         2.]),\n",
       " array([-0.21713081, -0.20683476, -0.19653872, -0.18624267, -0.17594662,\n",
       "        -0.16565058, -0.15535451, -0.14505847, -0.13476242, -0.12446637,\n",
       "        -0.11417033, -0.10387428, -0.09357823, -0.08328218, -0.07298613,\n",
       "        -0.06269009, -0.05239404, -0.04209799, -0.03180194, -0.02150589,\n",
       "        -0.01120985, -0.0009138 ,  0.00938225,  0.0196783 ,  0.02997435,\n",
       "         0.0402704 ,  0.05056644,  0.06086249,  0.07115854,  0.08145459,\n",
       "         0.09175064,  0.10204668,  0.11234273,  0.12263878,  0.13293482,\n",
       "         0.14323089,  0.15352693,  0.16382298,  0.17411903,  0.18441507,\n",
       "         0.19471112]),\n",
       " <BarContainer object of 40 artists>)"
      ]
     },
     "execution_count": 23,
     "metadata": {},
     "output_type": "execute_result"
    },
    {
     "data": {
      "image/png": "[encoded data removed]",
      "text/plain": [
       "<Figure size 640x480 with 1 Axes>"
      ]
     },
     "metadata": {},
     "output_type": "display_data"
    }
   ],
   "source": [
    "bandwidths = named_params[1][1].detach().cpu().numpy()\n",
    "plt.hist(bandwidths.flatten(), bins=40)"
   ]
  },
  {
   "cell_type": "code",
   "execution_count": 24,
   "id": "5fb6f8c4-8f7a-41db-92b3-78b197570d8c",
   "metadata": {},
   "outputs": [
    {
     "data": {
      "text/plain": [
       "(array([ 1.,  0.,  0.,  0.,  0.,  0.,  0.,  0.,  0.,  0.,  0.,  0.,  0.,\n",
       "         0.,  0.,  2.,  1.,  5.,  2.,  6., 12.,  8.,  8., 22., 19., 11.,\n",
       "         3., 12.,  7.,  2.,  1.,  0.,  3.,  1.,  0.,  0.,  0.,  0.,  0.,\n",
       "         2.]),\n",
       " array([-0.24049541, -0.23042567, -0.22035593, -0.21028619, -0.20021644,\n",
       "        -0.19014668, -0.18007694, -0.1700072 , -0.15993746, -0.14986771,\n",
       "        -0.13979797, -0.12972823, -0.11965848, -0.10958873, -0.09951898,\n",
       "        -0.08944924, -0.0793795 , -0.06930976, -0.05924001, -0.04917026,\n",
       "        -0.03910052, -0.02903078, -0.01896103, -0.00889129,  0.00117846,\n",
       "         0.0112482 ,  0.02131795,  0.03138769,  0.04145744,  0.05152718,\n",
       "         0.06159693,  0.07166667,  0.08173642,  0.09180616,  0.1018759 ,\n",
       "         0.11194565,  0.12201539,  0.13208514,  0.14215489,  0.15222463,\n",
       "         0.16229437]),\n",
       " <BarContainer object of 40 artists>)"
      ]
     },
     "execution_count": 24,
     "metadata": {},
     "output_type": "execute_result"
    },
    {
     "data": {
      "image/png": "[encoded data removed]",
      "text/plain": [
       "<Figure size 640x480 with 1 Axes>"
      ]
     },
     "metadata": {},
     "output_type": "display_data"
    }
   ],
   "source": [
    "bandwidths = named_params[1][1].grad.detach().cpu().numpy()\n",
    "plt.hist(bandwidths.flatten(), bins=40)"
   ]
  },
  {
   "cell_type": "code",
   "execution_count": 27,
   "id": "1c79b397-7d57-4cff-bd5c-50115bb9afd1",
   "metadata": {},
   "outputs": [
    {
     "data": {
      "image/png": "[encoded data removed]",
      "text/plain": [
       "<Figure size 1200x600 with 2 Axes>"
      ]
     },
     "metadata": {},
     "output_type": "display_data"
    }
   ],
   "source": [
    "filtviz = visualize_model.FilterVisualizer(\n",
    "    lowcut_bands = layer.lowcut_bands, \n",
    "    bandwidths = layer.bandwidths,\n",
    "    window_params = None, \n",
    "    window_length = 64,\n",
    "    sample_rate = sr\n",
    ")\n",
    "filtviz.visualize_bands()"
   ]
  },
  {
   "cell_type": "code",
   "execution_count": 28,
   "id": "cf266f2d-87a7-422f-bf28-23534f41b4a8",
   "metadata": {
    "scrolled": true
   },
   "outputs": [
    {
     "name": "stdout",
     "output_type": "stream",
     "text": [
      "('lowcut_bands', Parameter containing:\n",
      "tensor([[ 0.0000,  0.0000,  0.0000,  ...,  0.0000,  0.0000,  0.0000],\n",
      "        [ 0.0212, -0.2065,  0.1420,  ...,  0.1608,  0.2251,  0.1839],\n",
      "        [ 0.1520, -0.1882,  0.2284,  ...,  0.2377, -0.0859,  0.0201],\n",
      "        ...,\n",
      "        [ 0.4683,  0.2689,  0.4730,  ...,  0.1648,  0.1561,  0.4594],\n",
      "        [ 0.4875,  0.1887,  0.2106,  ...,  0.3427,  0.3264,  0.2364],\n",
      "        [ 0.3576,  0.6140,  0.3535,  ...,  0.4236,  0.5007,  0.4877]],\n",
      "       device='cuda:0', requires_grad=True))\n",
      "('bandwidths', Parameter containing:\n",
      "tensor([[ 0.4120,  0.2048,  0.3295,  ...,  0.2653,  0.1730,  0.2150],\n",
      "        [ 0.0109,  0.1440, -0.1100,  ..., -0.1774,  0.0847, -0.1323],\n",
      "        [ 0.0496,  0.1623,  0.2235,  ...,  0.1003, -0.1660, -0.0485],\n",
      "        ...,\n",
      "        [-0.4359, -0.0771,  0.2497,  ...,  0.1140, -0.1471,  0.2933],\n",
      "        [ 0.4316,  0.1405,  0.0924,  ...,  0.1070,  0.1166, -0.1075],\n",
      "        [-0.0548,  0.1058,  0.2538,  ...,  0.3565,  0.2399, -0.3339]],\n",
      "       device='cuda:0', requires_grad=True))\n"
     ]
    }
   ],
   "source": [
    "layer2 = model.fe_blocks.blocks[1].block.layer\n",
    "visualize_model.print_parameters(layer2)"
   ]
  },
  {
   "cell_type": "code",
   "execution_count": 29,
   "id": "d50f5088-a516-4571-8b37-360cba4cb31e",
   "metadata": {},
   "outputs": [
    {
     "name": "stdout",
     "output_type": "stream",
     "text": [
      "downsample_factor: 8 => new_sample_rate: 2000\n"
     ]
    },
    {
     "data": {
      "image/png": "[encoded data removed]",
      "text/plain": [
       "<Figure size 1200x600 with 2 Axes>"
      ]
     },
     "metadata": {},
     "output_type": "display_data"
    }
   ],
   "source": [
    "downsample_factor = model.fe_blocks.blocks[0].stride\n",
    "new_sample_rate = sr // downsample_factor\n",
    "print(f'downsample_factor: {downsample_factor} => new_sample_rate: {new_sample_rate}')\n",
    "\n",
    "filtviz2 = visualize_model.FilterVisualizer(\n",
    "    lowcut_bands = layer2.lowcut_bands, \n",
    "    bandwidths = layer2.bandwidths,\n",
    "    window_params = None, \n",
    "    window_length = 64,\n",
    "    sample_rate = new_sample_rate\n",
    ")\n",
    "filtviz2.visualize_bands()"
   ]
  },
  {
   "cell_type": "code",
   "execution_count": null,
   "id": "9b197c18-6705-44e7-8d70-47aacecb2bf8",
   "metadata": {
    "scrolled": true
   },
   "outputs": [
    {
     "name": "stderr",
     "output_type": "stream",
     "text": [
      "  0%|                                                                                                                      | 0.002061855670103093/50 [00:00<3:17:32, 237.06s/it]"
     ]
    },
    {
     "name": "stdout",
     "output_type": "stream",
     "text": [
      "Train Epoch: 11 [0/11481 (0%)]\tLoss: 0.037031\n",
      "Mem before-during-after: 20657664 4333061120 21483008\n"
     ]
    },
    {
     "name": "stderr",
     "output_type": "stream",
     "text": [
      "  0%|▏                                                                                                                      | 0.08453608247422686/50 [00:20<3:33:30, 256.65s/it]"
     ]
    },
    {
     "name": "stdout",
     "output_type": "stream",
     "text": [
      "Train Epoch: 11 [1280/11481 (11%)]\tLoss: 0.096893\n",
      "Mem before-during-after: 21483008 4332337152 21483008\n"
     ]
    },
    {
     "name": "stderr",
     "output_type": "stream",
     "text": [
      "  0%|▍                                                                                                                      | 0.16701030927835056/50 [00:41<3:32:18, 255.62s/it]"
     ]
    },
    {
     "name": "stdout",
     "output_type": "stream",
     "text": [
      "Train Epoch: 11 [2560/11481 (22%)]\tLoss: 0.438635\n",
      "Mem before-during-after: 21483008 4332337152 21483008\n"
     ]
    },
    {
     "name": "stderr",
     "output_type": "stream",
     "text": [
      "  0%|▌                                                                                                                      | 0.24948453608247398/50 [01:01<3:29:37, 252.82s/it]"
     ]
    },
    {
     "name": "stdout",
     "output_type": "stream",
     "text": [
      "Train Epoch: 11 [3840/11481 (34%)]\tLoss: 0.030565\n",
      "Mem before-during-after: 21483008 4332337152 21483008\n"
     ]
    },
    {
     "name": "stderr",
     "output_type": "stream",
     "text": [
      "  1%|▊                                                                                                                       | 0.3319587628865974/50 [01:22<3:29:32, 253.13s/it]"
     ]
    },
    {
     "name": "stdout",
     "output_type": "stream",
     "text": [
      "Train Epoch: 11 [5120/11481 (45%)]\tLoss: 0.735297\n",
      "Mem before-during-after: 21483008 4332337152 21483008\n"
     ]
    },
    {
     "name": "stderr",
     "output_type": "stream",
     "text": [
      "  1%|▉                                                                                                                      | 0.41443298969072084/50 [01:43<3:32:50, 257.55s/it]"
     ]
    },
    {
     "name": "stdout",
     "output_type": "stream",
     "text": [
      "Train Epoch: 11 [6400/11481 (56%)]\tLoss: 0.250217\n",
      "Mem before-during-after: 21483008 4332337152 21483008\n"
     ]
    },
    {
     "name": "stderr",
     "output_type": "stream",
     "text": [
      "  1%|█▏                                                                                                                     | 0.49690721649484426/50 [02:03<3:33:46, 259.10s/it]"
     ]
    },
    {
     "name": "stdout",
     "output_type": "stream",
     "text": [
      "Train Epoch: 11 [7680/11481 (67%)]\tLoss: 0.094701\n",
      "Mem before-during-after: 21483008 4332337152 21483008\n"
     ]
    },
    {
     "name": "stderr",
     "output_type": "stream",
     "text": [
      "  1%|█▍                                                                                                                      | 0.5793814432989677/50 [02:23<3:28:11, 252.76s/it]"
     ]
    },
    {
     "name": "stdout",
     "output_type": "stream",
     "text": [
      "Train Epoch: 11 [8960/11481 (78%)]\tLoss: 0.093689\n",
      "Mem before-during-after: 21483008 4332337152 21483008\n"
     ]
    },
    {
     "name": "stderr",
     "output_type": "stream",
     "text": [
      "  1%|█▌                                                                                                                      | 0.6618556701030911/50 [02:44<3:28:19, 253.35s/it]"
     ]
    },
    {
     "name": "stdout",
     "output_type": "stream",
     "text": [
      "Train Epoch: 11 [10240/11481 (89%)]\tLoss: 0.205038\n",
      "Mem before-during-after: 21483008 4332337152 21483008\n"
     ]
    },
    {
     "name": "stderr",
     "output_type": "stream",
     "text": [
      "  2%|██▍                                                                                                                     | 0.9999999999999971/50 [03:33<1:31:49, 112.45s/it]"
     ]
    },
    {
     "name": "stdout",
     "output_type": "stream",
     "text": [
      "\n",
      "Test Epoch: 11\tAccuracy: 3560/4064 (87%)\n",
      "\n"
     ]
    },
    {
     "name": "stderr",
     "output_type": "stream",
     "text": [
      "  2%|██▍                                                                                                                     | 1.0020618556701002/50 [03:33<2:03:27, 151.18s/it]"
     ]
    },
    {
     "name": "stdout",
     "output_type": "stream",
     "text": [
      "Train Epoch: 12 [0/11481 (0%)]\tLoss: 0.054293\n",
      "Mem before-during-after: 21596672 4334000128 21483008\n"
     ]
    },
    {
     "name": "stderr",
     "output_type": "stream",
     "text": [
      "  2%|██▌                                                                                                                     | 1.0845360824742236/50 [03:54<3:37:28, 266.75s/it]"
     ]
    },
    {
     "name": "stdout",
     "output_type": "stream",
     "text": [
      "Train Epoch: 12 [1280/11481 (11%)]\tLoss: 0.017028\n",
      "Mem before-during-after: 21483008 4332337152 21483008\n"
     ]
    },
    {
     "name": "stderr",
     "output_type": "stream",
     "text": [
      "  2%|██▊                                                                                                                      | 1.167010309278347/50 [04:14<3:27:26, 254.88s/it]"
     ]
    },
    {
     "name": "stdout",
     "output_type": "stream",
     "text": [
      "Train Epoch: 12 [2560/11481 (22%)]\tLoss: 0.285876\n",
      "Mem before-during-after: 21483008 4332337152 21483008\n"
     ]
    },
    {
     "name": "stderr",
     "output_type": "stream",
     "text": [
      "  2%|██▉                                                                                                                     | 1.2494845360824705/50 [04:35<3:28:27, 256.57s/it]"
     ]
    },
    {
     "name": "stdout",
     "output_type": "stream",
     "text": [
      "Train Epoch: 12 [3840/11481 (34%)]\tLoss: 0.004744\n",
      "Mem before-during-after: 21483008 4332337152 21483008\n"
     ]
    },
    {
     "name": "stderr",
     "output_type": "stream",
     "text": [
      "  3%|███▏                                                                                                                    | 1.3319587628865939/50 [04:55<3:26:13, 254.25s/it]"
     ]
    },
    {
     "name": "stdout",
     "output_type": "stream",
     "text": [
      "Train Epoch: 12 [5120/11481 (45%)]\tLoss: 0.692617\n",
      "Mem before-during-after: 21483008 4332337152 21483008\n"
     ]
    },
    {
     "name": "stderr",
     "output_type": "stream",
     "text": [
      "  3%|███▍                                                                                                                    | 1.4144329896907173/50 [05:16<3:22:29, 250.07s/it]"
     ]
    },
    {
     "name": "stdout",
     "output_type": "stream",
     "text": [
      "Train Epoch: 12 [6400/11481 (56%)]\tLoss: 0.201152\n",
      "Mem before-during-after: 21483008 4332337152 21483008\n"
     ]
    },
    {
     "name": "stderr",
     "output_type": "stream",
     "text": [
      "  3%|███▌                                                                                                                    | 1.4969072164948407/50 [05:36<3:23:37, 251.90s/it]"
     ]
    },
    {
     "name": "stdout",
     "output_type": "stream",
     "text": [
      "Train Epoch: 12 [7680/11481 (67%)]\tLoss: 0.074582\n",
      "Mem before-during-after: 21483008 4332337152 21483008\n"
     ]
    },
    {
     "name": "stderr",
     "output_type": "stream",
     "text": [
      "  3%|███▊                                                                                                                    | 1.5793814432989641/50 [05:57<3:21:11, 249.30s/it]"
     ]
    },
    {
     "name": "stdout",
     "output_type": "stream",
     "text": [
      "Train Epoch: 12 [8960/11481 (78%)]\tLoss: 0.087197\n",
      "Mem before-during-after: 21483008 4332337152 21483008\n"
     ]
    },
    {
     "name": "stderr",
     "output_type": "stream",
     "text": [
      "  3%|███▉                                                                                                                    | 1.6618556701030875/50 [06:16<3:18:56, 246.93s/it]"
     ]
    },
    {
     "name": "stdout",
     "output_type": "stream",
     "text": [
      "Train Epoch: 12 [10240/11481 (89%)]\tLoss: 0.493886\n",
      "Mem before-during-after: 21483008 4332337152 21483008\n"
     ]
    },
    {
     "name": "stderr",
     "output_type": "stream",
     "text": [
      "  4%|████▊                                                                                                                   | 1.9999999999999936/50 [07:05<1:29:12, 111.51s/it]"
     ]
    },
    {
     "name": "stdout",
     "output_type": "stream",
     "text": [
      "\n",
      "Test Epoch: 12\tAccuracy: 3580/4064 (87%)\n",
      "\n"
     ]
    },
    {
     "name": "stderr",
     "output_type": "stream",
     "text": [
      "  4%|████▊                                                                                                                    | 2.002061855670097/50 [07:05<1:59:17, 149.11s/it]"
     ]
    },
    {
     "name": "stdout",
     "output_type": "stream",
     "text": [
      "Train Epoch: 13 [0/11481 (0%)]\tLoss: 0.035424\n",
      "Mem before-during-after: 21596672 4334000128 21483008\n"
     ]
    },
    {
     "name": "stderr",
     "output_type": "stream",
     "text": [
      "  4%|█████                                                                                                                   | 2.0845360824742203/50 [07:25<3:21:05, 251.80s/it]"
     ]
    },
    {
     "name": "stdout",
     "output_type": "stream",
     "text": [
      "Train Epoch: 13 [1280/11481 (11%)]\tLoss: 0.030100\n",
      "Mem before-during-after: 21483008 4332337152 21483008\n"
     ]
    },
    {
     "name": "stderr",
     "output_type": "stream",
     "text": [
      "  4%|█████▏                                                                                                                  | 2.1670103092783437/50 [07:46<3:22:43, 254.30s/it]"
     ]
    },
    {
     "name": "stdout",
     "output_type": "stream",
     "text": [
      "Train Epoch: 13 [2560/11481 (22%)]\tLoss: 0.199875\n",
      "Mem before-during-after: 21483008 4332337152 21483008\n"
     ]
    },
    {
     "name": "stderr",
     "output_type": "stream",
     "text": [
      "  4%|█████▍                                                                                                                   | 2.249484536082467/50 [08:06<3:21:28, 253.16s/it]"
     ]
    },
    {
     "name": "stdout",
     "output_type": "stream",
     "text": [
      "Train Epoch: 13 [3840/11481 (34%)]\tLoss: 0.007856\n",
      "Mem before-during-after: 21483008 4332337152 21483008\n"
     ]
    },
    {
     "name": "stderr",
     "output_type": "stream",
     "text": [
      "  5%|█████▌                                                                                                                  | 2.3319587628865905/50 [08:27<3:27:19, 260.96s/it]"
     ]
    },
    {
     "name": "stdout",
     "output_type": "stream",
     "text": [
      "Train Epoch: 13 [5120/11481 (45%)]\tLoss: 0.812270\n",
      "Mem before-during-after: 21483008 4332337152 21483008\n"
     ]
    },
    {
     "name": "stderr",
     "output_type": "stream",
     "text": [
      "  5%|█████▊                                                                                                                   | 2.414432989690714/50 [08:47<3:22:11, 254.94s/it]"
     ]
    },
    {
     "name": "stdout",
     "output_type": "stream",
     "text": [
      "Train Epoch: 13 [6400/11481 (56%)]\tLoss: 0.172510\n",
      "Mem before-during-after: 21483008 4332337152 21483008\n"
     ]
    },
    {
     "name": "stderr",
     "output_type": "stream",
     "text": [
      "  5%|█████▉                                                                                                                  | 2.4969072164948374/50 [09:08<3:19:14, 251.66s/it]"
     ]
    },
    {
     "name": "stdout",
     "output_type": "stream",
     "text": [
      "Train Epoch: 13 [7680/11481 (67%)]\tLoss: 0.098996\n",
      "Mem before-during-after: 21483008 4332337152 21483008\n"
     ]
    },
    {
     "name": "stderr",
     "output_type": "stream",
     "text": [
      "  5%|██████▏                                                                                                                  | 2.579381443298961/50 [09:28<3:15:41, 247.60s/it]"
     ]
    },
    {
     "name": "stdout",
     "output_type": "stream",
     "text": [
      "Train Epoch: 13 [8960/11481 (78%)]\tLoss: 0.089928\n",
      "Mem before-during-after: 21483008 4332337152 21483008\n"
     ]
    },
    {
     "name": "stderr",
     "output_type": "stream",
     "text": [
      "  5%|██████▍                                                                                                                  | 2.661855670103084/50 [09:48<3:20:15, 253.82s/it]"
     ]
    },
    {
     "name": "stdout",
     "output_type": "stream",
     "text": [
      "Train Epoch: 13 [10240/11481 (89%)]\tLoss: 0.448549\n",
      "Mem before-during-after: 21483008 4332337152 21483008\n"
     ]
    },
    {
     "name": "stderr",
     "output_type": "stream",
     "text": [
      "  6%|███████▏                                                                                                                | 2.9999999999999902/50 [10:37<1:27:02, 111.11s/it]"
     ]
    },
    {
     "name": "stdout",
     "output_type": "stream",
     "text": [
      "\n",
      "Test Epoch: 13\tAccuracy: 3580/4064 (87%)\n",
      "\n"
     ]
    },
    {
     "name": "stderr",
     "output_type": "stream",
     "text": [
      "  6%|███████▏                                                                                                                | 3.0020618556700933/50 [10:37<1:56:58, 149.34s/it]"
     ]
    },
    {
     "name": "stdout",
     "output_type": "stream",
     "text": [
      "Train Epoch: 14 [0/11481 (0%)]\tLoss: 0.040248\n",
      "Mem before-during-after: 21596672 4334000128 21483008\n"
     ]
    },
    {
     "name": "stderr",
     "output_type": "stream",
     "text": [
      "  6%|███████▍                                                                                                                | 3.0845360824742167/50 [10:58<3:17:26, 252.51s/it]"
     ]
    },
    {
     "name": "stdout",
     "output_type": "stream",
     "text": [
      "Train Epoch: 14 [1280/11481 (11%)]\tLoss: 0.089087\n",
      "Mem before-during-after: 21483008 4332337152 21483008\n"
     ]
    },
    {
     "name": "stderr",
     "output_type": "stream",
     "text": [
      "  6%|███████▋                                                                                                                  | 3.16701030927834/50 [11:18<3:14:25, 249.09s/it]"
     ]
    },
    {
     "name": "stdout",
     "output_type": "stream",
     "text": [
      "Train Epoch: 14 [2560/11481 (22%)]\tLoss: 0.311855\n",
      "Mem before-during-after: 21483008 4332337152 21483008\n"
     ]
    },
    {
     "name": "stderr",
     "output_type": "stream",
     "text": [
      "  6%|███████▊                                                                                                                | 3.2494845360824636/50 [11:38<3:15:24, 250.79s/it]"
     ]
    },
    {
     "name": "stdout",
     "output_type": "stream",
     "text": [
      "Train Epoch: 14 [3840/11481 (34%)]\tLoss: 0.004908\n",
      "Mem before-during-after: 21483008 4332337152 21483008\n"
     ]
    },
    {
     "name": "stderr",
     "output_type": "stream",
     "text": [
      "  7%|████████                                                                                                                 | 3.331958762886587/50 [11:58<3:13:31, 248.80s/it]"
     ]
    },
    {
     "name": "stdout",
     "output_type": "stream",
     "text": [
      "Train Epoch: 14 [5120/11481 (45%)]\tLoss: 0.849340\n",
      "Mem before-during-after: 21483008 4332337152 21483008\n"
     ]
    },
    {
     "name": "stderr",
     "output_type": "stream",
     "text": [
      "  7%|████████▏                                                                                                               | 3.4144329896907104/50 [12:19<3:13:41, 249.47s/it]"
     ]
    },
    {
     "name": "stdout",
     "output_type": "stream",
     "text": [
      "Train Epoch: 14 [6400/11481 (56%)]\tLoss: 0.178647\n",
      "Mem before-during-after: 21483008 4332337152 21483008\n"
     ]
    },
    {
     "name": "stderr",
     "output_type": "stream",
     "text": [
      "  7%|████████▍                                                                                                                | 3.496907216494834/50 [12:39<3:15:02, 251.65s/it]"
     ]
    },
    {
     "name": "stdout",
     "output_type": "stream",
     "text": [
      "Train Epoch: 14 [7680/11481 (67%)]\tLoss: 0.084415\n",
      "Mem before-during-after: 21483008 4332337152 21483008\n"
     ]
    },
    {
     "name": "stderr",
     "output_type": "stream",
     "text": [
      "  7%|████████▌                                                                                                               | 3.5793814432989572/50 [12:59<3:11:38, 247.70s/it]"
     ]
    },
    {
     "name": "stdout",
     "output_type": "stream",
     "text": [
      "Train Epoch: 14 [8960/11481 (78%)]\tLoss: 0.094435\n",
      "Mem before-during-after: 21483008 4332337152 21483008\n"
     ]
    },
    {
     "name": "stderr",
     "output_type": "stream",
     "text": [
      "  7%|████████▊                                                                                                               | 3.6618556701030807/50 [13:19<3:13:07, 250.07s/it]"
     ]
    },
    {
     "name": "stdout",
     "output_type": "stream",
     "text": [
      "Train Epoch: 14 [10240/11481 (89%)]\tLoss: 0.408223\n",
      "Mem before-during-after: 21483008 4332337152 21483008\n"
     ]
    },
    {
     "name": "stderr",
     "output_type": "stream",
     "text": [
      "  8%|█████████▌                                                                                                              | 3.9999999999999867/50 [14:08<1:27:09, 113.68s/it]"
     ]
    },
    {
     "name": "stdout",
     "output_type": "stream",
     "text": [
      "\n",
      "Test Epoch: 14\tAccuracy: 3574/4064 (87%)\n",
      "\n"
     ]
    },
    {
     "name": "stderr",
     "output_type": "stream",
     "text": [
      "  8%|█████████▊                                                                                                                | 4.00206185567009/50 [14:08<1:55:36, 150.79s/it]"
     ]
    },
    {
     "name": "stdout",
     "output_type": "stream",
     "text": [
      "Train Epoch: 15 [0/11481 (0%)]\tLoss: 0.073131\n",
      "Mem before-during-after: 21596672 4334000128 21483008\n"
     ]
    },
    {
     "name": "stderr",
     "output_type": "stream",
     "text": [
      "  8%|█████████▉                                                                                                               | 4.084536082474213/50 [14:29<3:16:04, 256.23s/it]"
     ]
    },
    {
     "name": "stdout",
     "output_type": "stream",
     "text": [
      "Train Epoch: 15 [1280/11481 (11%)]\tLoss: 0.015276\n",
      "Mem before-during-after: 21483008 4332337152 21483008\n"
     ]
    },
    {
     "name": "stderr",
     "output_type": "stream",
     "text": [
      "  8%|██████████                                                                                                               | 4.167010309278337/50 [14:49<3:14:54, 255.16s/it]"
     ]
    },
    {
     "name": "stdout",
     "output_type": "stream",
     "text": [
      "Train Epoch: 15 [2560/11481 (22%)]\tLoss: 0.375426\n",
      "Mem before-during-after: 21483008 4332337152 21483008\n"
     ]
    },
    {
     "name": "stderr",
     "output_type": "stream",
     "text": [
      "  8%|██████████▎                                                                                                               | 4.24948453608246/50 [15:10<3:13:27, 253.71s/it]"
     ]
    },
    {
     "name": "stdout",
     "output_type": "stream",
     "text": [
      "Train Epoch: 15 [3840/11481 (34%)]\tLoss: 0.004467\n",
      "Mem before-during-after: 21483008 4332337152 21483008\n"
     ]
    },
    {
     "name": "stderr",
     "output_type": "stream",
     "text": [
      "  9%|██████████▍                                                                                                              | 4.331958762886583/50 [15:30<3:11:48, 252.00s/it]"
     ]
    },
    {
     "name": "stdout",
     "output_type": "stream",
     "text": [
      "Train Epoch: 15 [5120/11481 (45%)]\tLoss: 0.837265\n",
      "Mem before-during-after: 21483008 4332337152 21483008\n"
     ]
    },
    {
     "name": "stderr",
     "output_type": "stream",
     "text": [
      "  9%|██████████▋                                                                                                              | 4.414432989690707/50 [15:51<3:12:26, 253.29s/it]"
     ]
    },
    {
     "name": "stdout",
     "output_type": "stream",
     "text": [
      "Train Epoch: 15 [6400/11481 (56%)]\tLoss: 0.185020\n",
      "Mem before-during-after: 21483008 4332337152 21483008\n"
     ]
    },
    {
     "name": "stderr",
     "output_type": "stream",
     "text": [
      "  9%|██████████▉                                                                                                               | 4.49690721649483/50 [16:11<3:13:39, 255.35s/it]"
     ]
    },
    {
     "name": "stdout",
     "output_type": "stream",
     "text": [
      "Train Epoch: 15 [7680/11481 (67%)]\tLoss: 0.098444\n",
      "Mem before-during-after: 21483008 4332337152 21483008\n"
     ]
    },
    {
     "name": "stderr",
     "output_type": "stream",
     "text": [
      "  9%|███████████                                                                                                              | 4.579381443298954/50 [16:32<3:11:50, 253.42s/it]"
     ]
    },
    {
     "name": "stdout",
     "output_type": "stream",
     "text": [
      "Train Epoch: 15 [8960/11481 (78%)]\tLoss: 0.088382\n",
      "Mem before-during-after: 21483008 4332337152 21483008\n"
     ]
    },
    {
     "name": "stderr",
     "output_type": "stream",
     "text": [
      "  9%|███████████▎                                                                                                             | 4.661855670103077/50 [16:53<3:13:50, 256.54s/it]"
     ]
    },
    {
     "name": "stdout",
     "output_type": "stream",
     "text": [
      "Train Epoch: 15 [10240/11481 (89%)]\tLoss: 0.756241\n",
      "Mem before-during-after: 21483008 4332337152 21483008\n"
     ]
    },
    {
     "name": "stderr",
     "output_type": "stream",
     "text": [
      " 10%|████████████                                                                                                             | 4.999999999999983/50 [17:41<1:21:55, 109.23s/it]"
     ]
    },
    {
     "name": "stdout",
     "output_type": "stream",
     "text": [
      "\n",
      "Test Epoch: 15\tAccuracy: 3563/4064 (87%)\n",
      "\n"
     ]
    },
    {
     "name": "stderr",
     "output_type": "stream",
     "text": [
      " 10%|████████████                                                                                                             | 5.002061855670086/50 [17:41<1:51:53, 149.20s/it]"
     ]
    },
    {
     "name": "stdout",
     "output_type": "stream",
     "text": [
      "Train Epoch: 16 [0/11481 (0%)]\tLoss: 0.038432\n",
      "Mem before-during-after: 21596672 4334000128 21483008\n"
     ]
    },
    {
     "name": "stderr",
     "output_type": "stream",
     "text": [
      " 10%|████████████▍                                                                                                             | 5.08453608247421/50 [18:01<3:06:01, 248.49s/it]"
     ]
    },
    {
     "name": "stdout",
     "output_type": "stream",
     "text": [
      "Train Epoch: 16 [1280/11481 (11%)]\tLoss: 0.035013\n",
      "Mem before-during-after: 21483008 4332337152 21483008\n"
     ]
    },
    {
     "name": "stderr",
     "output_type": "stream",
     "text": [
      " 10%|████████████▌                                                                                                            | 5.167010309278333/50 [18:22<3:05:27, 248.19s/it]"
     ]
    },
    {
     "name": "stdout",
     "output_type": "stream",
     "text": [
      "Train Epoch: 16 [2560/11481 (22%)]\tLoss: 0.167058\n",
      "Mem before-during-after: 21483008 4332337152 21483008\n"
     ]
    },
    {
     "name": "stderr",
     "output_type": "stream",
     "text": [
      " 10%|████████████▌                                                                                                           | 5.2494845360824565/50 [18:42<3:07:07, 250.88s/it]"
     ]
    },
    {
     "name": "stdout",
     "output_type": "stream",
     "text": [
      "Train Epoch: 16 [3840/11481 (34%)]\tLoss: 0.005457\n",
      "Mem before-during-after: 21483008 4332337152 21483008\n"
     ]
    },
    {
     "name": "stderr",
     "output_type": "stream",
     "text": [
      " 11%|█████████████                                                                                                             | 5.33195876288658/50 [19:02<3:07:11, 251.44s/it]"
     ]
    },
    {
     "name": "stdout",
     "output_type": "stream",
     "text": [
      "Train Epoch: 16 [5120/11481 (45%)]\tLoss: 0.805120\n",
      "Mem before-during-after: 21483008 4332337152 21483008\n"
     ]
    },
    {
     "name": "stderr",
     "output_type": "stream",
     "text": [
      " 11%|█████████████                                                                                                            | 5.414432989690703/50 [19:22<3:07:09, 251.87s/it]"
     ]
    },
    {
     "name": "stdout",
     "output_type": "stream",
     "text": [
      "Train Epoch: 16 [6400/11481 (56%)]\tLoss: 0.187904\n",
      "Mem before-during-after: 21483008 4332337152 21483008\n"
     ]
    },
    {
     "name": "stderr",
     "output_type": "stream",
     "text": [
      " 11%|█████████████▎                                                                                                           | 5.496907216494827/50 [19:43<3:06:54, 252.00s/it]"
     ]
    },
    {
     "name": "stdout",
     "output_type": "stream",
     "text": [
      "Train Epoch: 16 [7680/11481 (67%)]\tLoss: 0.122649\n",
      "Mem before-during-after: 21483008 4332337152 21483008\n"
     ]
    },
    {
     "name": "stderr",
     "output_type": "stream",
     "text": [
      " 11%|█████████████▌                                                                                                            | 5.57938144329895/50 [20:03<3:04:09, 248.75s/it]"
     ]
    },
    {
     "name": "stdout",
     "output_type": "stream",
     "text": [
      "Train Epoch: 16 [8960/11481 (78%)]\tLoss: 0.083121\n",
      "Mem before-during-after: 21483008 4332337152 21483008\n"
     ]
    },
    {
     "name": "stderr",
     "output_type": "stream",
     "text": [
      " 11%|█████████████▋                                                                                                           | 5.661855670103074/50 [20:23<3:05:44, 251.36s/it]"
     ]
    },
    {
     "name": "stdout",
     "output_type": "stream",
     "text": [
      "Train Epoch: 16 [10240/11481 (89%)]\tLoss: 0.644543\n",
      "Mem before-during-after: 21483008 4332337152 21483008\n"
     ]
    },
    {
     "name": "stderr",
     "output_type": "stream",
     "text": [
      " 12%|██████████████▋                                                                                                           | 5.99999999999998/50 [21:11<1:22:52, 113.02s/it]"
     ]
    },
    {
     "name": "stdout",
     "output_type": "stream",
     "text": [
      "\n",
      "Test Epoch: 16\tAccuracy: 3550/4064 (87%)\n",
      "\n"
     ]
    },
    {
     "name": "stderr",
     "output_type": "stream",
     "text": [
      " 12%|██████████████▌                                                                                                          | 6.002061855670083/50 [21:12<1:49:33, 149.39s/it]"
     ]
    },
    {
     "name": "stdout",
     "output_type": "stream",
     "text": [
      "Train Epoch: 17 [0/11481 (0%)]\tLoss: 0.052308\n",
      "Mem before-during-after: 21596672 4334000128 21483008\n"
     ]
    },
    {
     "name": "stderr",
     "output_type": "stream",
     "text": [
      " 12%|██████████████▋                                                                                                          | 6.084536082474206/50 [21:32<3:04:32, 252.12s/it]"
     ]
    },
    {
     "name": "stdout",
     "output_type": "stream",
     "text": [
      "Train Epoch: 17 [1280/11481 (11%)]\tLoss: 0.150426\n",
      "Mem before-during-after: 21483008 4332337152 21483008\n"
     ]
    },
    {
     "name": "stderr",
     "output_type": "stream",
     "text": [
      " 12%|██████████████▊                                                                                                         | 6.1670103092783295/50 [21:53<3:05:15, 253.58s/it]"
     ]
    },
    {
     "name": "stdout",
     "output_type": "stream",
     "text": [
      "Train Epoch: 17 [2560/11481 (22%)]\tLoss: 0.196108\n",
      "Mem before-during-after: 21483008 4332337152 21483008\n"
     ]
    },
    {
     "name": "stderr",
     "output_type": "stream",
     "text": [
      " 12%|███████████████                                                                                                          | 6.249484536082453/50 [22:14<3:14:00, 266.08s/it]"
     ]
    },
    {
     "name": "stdout",
     "output_type": "stream",
     "text": [
      "Train Epoch: 17 [3840/11481 (34%)]\tLoss: 0.005206\n",
      "Mem before-during-after: 21483008 4332337152 21483008\n"
     ]
    },
    {
     "name": "stderr",
     "output_type": "stream",
     "text": [
      " 13%|███████████████▎                                                                                                         | 6.331958762886576/50 [22:34<3:04:29, 253.48s/it]"
     ]
    },
    {
     "name": "stdout",
     "output_type": "stream",
     "text": [
      "Train Epoch: 17 [5120/11481 (45%)]\tLoss: 0.814012\n",
      "Mem before-during-after: 21483008 4332337152 21483008\n"
     ]
    },
    {
     "name": "stderr",
     "output_type": "stream",
     "text": [
      " 13%|███████████████▊                                                                                                           | 6.4144329896907/50 [22:54<3:02:27, 251.16s/it]"
     ]
    },
    {
     "name": "stdout",
     "output_type": "stream",
     "text": [
      "Train Epoch: 17 [6400/11481 (56%)]\tLoss: 0.238394\n",
      "Mem before-during-after: 21483008 4332337152 21483008\n"
     ]
    },
    {
     "name": "stderr",
     "output_type": "stream",
     "text": [
      " 13%|███████████████▋                                                                                                         | 6.496907216494823/50 [23:15<3:04:18, 254.20s/it]"
     ]
    },
    {
     "name": "stdout",
     "output_type": "stream",
     "text": [
      "Train Epoch: 17 [7680/11481 (67%)]\tLoss: 0.089573\n",
      "Mem before-during-after: 21483008 4332337152 21483008\n"
     ]
    },
    {
     "name": "stderr",
     "output_type": "stream",
     "text": [
      " 13%|███████████████▉                                                                                                         | 6.579381443298947/50 [23:35<3:01:20, 250.59s/it]"
     ]
    },
    {
     "name": "stdout",
     "output_type": "stream",
     "text": [
      "Train Epoch: 17 [8960/11481 (78%)]\tLoss: 0.103607\n",
      "Mem before-during-after: 21483008 4332337152 21483008\n"
     ]
    },
    {
     "name": "stderr",
     "output_type": "stream",
     "text": [
      " 13%|████████████████▎                                                                                                         | 6.66185567010307/50 [23:55<3:00:29, 249.89s/it]"
     ]
    },
    {
     "name": "stdout",
     "output_type": "stream",
     "text": [
      "Train Epoch: 17 [10240/11481 (89%)]\tLoss: 0.677990\n",
      "Mem before-during-after: 21483008 4332337152 21483008\n"
     ]
    },
    {
     "name": "stderr",
     "output_type": "stream",
     "text": [
      " 14%|████████████████▉                                                                                                        | 6.999999999999976/50 [24:43<1:18:43, 109.86s/it]"
     ]
    },
    {
     "name": "stdout",
     "output_type": "stream",
     "text": [
      "\n",
      "Test Epoch: 17\tAccuracy: 3538/4064 (86%)\n",
      "\n"
     ]
    },
    {
     "name": "stderr",
     "output_type": "stream",
     "text": [
      " 14%|████████████████▉                                                                                                        | 7.002061855670079/50 [24:43<1:45:46, 147.60s/it]"
     ]
    },
    {
     "name": "stdout",
     "output_type": "stream",
     "text": [
      "Train Epoch: 18 [0/11481 (0%)]\tLoss: 0.102512\n",
      "Mem before-during-after: 21596672 4334000128 21483008\n"
     ]
    },
    {
     "name": "stderr",
     "output_type": "stream",
     "text": [
      " 14%|█████████████████                                                                                                       | 7.0845360824742025/50 [25:04<2:59:33, 251.03s/it]"
     ]
    },
    {
     "name": "stdout",
     "output_type": "stream",
     "text": [
      "Train Epoch: 18 [1280/11481 (11%)]\tLoss: 0.070359\n",
      "Mem before-during-after: 21483008 4332337152 21483008\n"
     ]
    },
    {
     "name": "stderr",
     "output_type": "stream",
     "text": [
      " 14%|█████████████████▎                                                                                                       | 7.167010309278326/50 [25:24<2:58:40, 250.29s/it]"
     ]
    },
    {
     "name": "stdout",
     "output_type": "stream",
     "text": [
      "Train Epoch: 18 [2560/11481 (22%)]\tLoss: 0.199785\n",
      "Mem before-during-after: 21483008 4332337152 21483008\n"
     ]
    },
    {
     "name": "stderr",
     "output_type": "stream",
     "text": [
      " 14%|█████████████████▌                                                                                                       | 7.249484536082449/50 [25:44<2:57:15, 248.79s/it]"
     ]
    },
    {
     "name": "stdout",
     "output_type": "stream",
     "text": [
      "Train Epoch: 18 [3840/11481 (34%)]\tLoss: 0.007419\n",
      "Mem before-during-after: 21483008 4332337152 21483008\n"
     ]
    },
    {
     "name": "stderr",
     "output_type": "stream",
     "text": [
      " 15%|█████████████████▋                                                                                                       | 7.331958762886573/50 [26:05<2:57:44, 249.94s/it]"
     ]
    },
    {
     "name": "stdout",
     "output_type": "stream",
     "text": [
      "Train Epoch: 18 [5120/11481 (45%)]\tLoss: 0.863784\n",
      "Mem before-during-after: 21483008 4332337152 21483008\n"
     ]
    },
    {
     "name": "stderr",
     "output_type": "stream",
     "text": [
      " 15%|█████████████████▉                                                                                                       | 7.414432989690696/50 [26:25<3:09:06, 266.45s/it]"
     ]
    },
    {
     "name": "stdout",
     "output_type": "stream",
     "text": [
      "Train Epoch: 18 [6400/11481 (56%)]\tLoss: 0.163511\n",
      "Mem before-during-after: 21483008 4332337152 21483008\n"
     ]
    },
    {
     "name": "stderr",
     "output_type": "stream",
     "text": [
      " 15%|██████████████████▎                                                                                                       | 7.49690721649482/50 [26:45<2:56:45, 249.51s/it]"
     ]
    },
    {
     "name": "stdout",
     "output_type": "stream",
     "text": [
      "Train Epoch: 18 [7680/11481 (67%)]\tLoss: 0.106601\n",
      "Mem before-during-after: 21483008 4332337152 21483008\n"
     ]
    },
    {
     "name": "stderr",
     "output_type": "stream",
     "text": [
      " 15%|██████████████████▎                                                                                                      | 7.579381443298943/50 [27:05<2:56:12, 249.24s/it]"
     ]
    },
    {
     "name": "stdout",
     "output_type": "stream",
     "text": [
      "Train Epoch: 18 [8960/11481 (78%)]\tLoss: 0.081721\n",
      "Mem before-during-after: 21483008 4332337152 21483008\n"
     ]
    },
    {
     "name": "stderr",
     "output_type": "stream",
     "text": [
      " 15%|██████████████████▍                                                                                                     | 7.6618556701030665/50 [27:26<2:53:32, 245.93s/it]"
     ]
    },
    {
     "name": "stdout",
     "output_type": "stream",
     "text": [
      "Train Epoch: 18 [10240/11481 (89%)]\tLoss: 0.282498\n",
      "Mem before-during-after: 21483008 4332337152 21483008\n"
     ]
    },
    {
     "name": "stderr",
     "output_type": "stream",
     "text": [
      " 16%|███████████████████▏                                                                                                    | 7.9999999999999725/50 [28:14<1:23:57, 119.94s/it]"
     ]
    },
    {
     "name": "stdout",
     "output_type": "stream",
     "text": [
      "\n",
      "Test Epoch: 18\tAccuracy: 3561/4064 (87%)\n",
      "\n"
     ]
    },
    {
     "name": "stderr",
     "output_type": "stream",
     "text": [
      " 16%|███████████████████▎                                                                                                     | 8.002061855670076/50 [28:14<1:49:51, 156.95s/it]"
     ]
    },
    {
     "name": "stdout",
     "output_type": "stream",
     "text": [
      "Train Epoch: 19 [0/11481 (0%)]\tLoss: 0.018868\n",
      "Mem before-during-after: 21596672 4334000128 21483008\n"
     ]
    },
    {
     "name": "stderr",
     "output_type": "stream",
     "text": [
      " 16%|███████████████████▉                                                                                                       | 8.0845360824742/50 [28:35<2:55:35, 251.34s/it]"
     ]
    },
    {
     "name": "stdout",
     "output_type": "stream",
     "text": [
      "Train Epoch: 19 [1280/11481 (11%)]\tLoss: 0.063385\n",
      "Mem before-during-after: 21483008 4332337152 21483008\n"
     ]
    },
    {
     "name": "stderr",
     "output_type": "stream",
     "text": [
      " 16%|███████████████████▊                                                                                                     | 8.167010309278323/50 [28:55<2:57:39, 254.81s/it]"
     ]
    },
    {
     "name": "stdout",
     "output_type": "stream",
     "text": [
      "Train Epoch: 19 [2560/11481 (22%)]\tLoss: 0.157796\n",
      "Mem before-during-after: 21483008 4332337152 21483008\n"
     ]
    },
    {
     "name": "stderr",
     "output_type": "stream",
     "text": [
      " 16%|███████████████████▉                                                                                                     | 8.249484536082447/50 [29:16<2:58:57, 257.17s/it]"
     ]
    },
    {
     "name": "stdout",
     "output_type": "stream",
     "text": [
      "Train Epoch: 19 [3840/11481 (34%)]\tLoss: 0.008408\n",
      "Mem before-during-after: 21483008 4332337152 21483008\n"
     ]
    },
    {
     "name": "stderr",
     "output_type": "stream",
     "text": [
      " 17%|████████████████████▎                                                                                                     | 8.33195876288657/50 [29:37<2:56:29, 254.13s/it]"
     ]
    },
    {
     "name": "stdout",
     "output_type": "stream",
     "text": [
      "Train Epoch: 19 [5120/11481 (45%)]\tLoss: 0.916085\n",
      "Mem before-during-after: 21483008 4332337152 21483008\n"
     ]
    },
    {
     "name": "stderr",
     "output_type": "stream",
     "text": [
      " 17%|████████████████████▎                                                                                                    | 8.414432989690694/50 [29:58<2:55:55, 253.81s/it]"
     ]
    },
    {
     "name": "stdout",
     "output_type": "stream",
     "text": [
      "Train Epoch: 19 [6400/11481 (56%)]\tLoss: 0.219158\n",
      "Mem before-during-after: 21483008 4332337152 21483008\n"
     ]
    },
    {
     "name": "stderr",
     "output_type": "stream",
     "text": [
      " 17%|████████████████████▌                                                                                                    | 8.496907216494817/50 [30:18<2:56:49, 255.63s/it]"
     ]
    },
    {
     "name": "stdout",
     "output_type": "stream",
     "text": [
      "Train Epoch: 19 [7680/11481 (67%)]\tLoss: 0.092289\n",
      "Mem before-during-after: 21483008 4332337152 21483008\n"
     ]
    },
    {
     "name": "stderr",
     "output_type": "stream",
     "text": [
      " 17%|████████████████████▉                                                                                                     | 8.57938144329894/50 [30:39<2:57:15, 256.76s/it]"
     ]
    },
    {
     "name": "stdout",
     "output_type": "stream",
     "text": [
      "Train Epoch: 19 [8960/11481 (78%)]\tLoss: 0.075188\n",
      "Mem before-during-after: 21483008 4332337152 21483008\n"
     ]
    },
    {
     "name": "stderr",
     "output_type": "stream",
     "text": [
      " 17%|████████████████████▉                                                                                                    | 8.661855670103064/50 [31:00<2:57:22, 257.46s/it]"
     ]
    },
    {
     "name": "stdout",
     "output_type": "stream",
     "text": [
      "Train Epoch: 19 [10240/11481 (89%)]\tLoss: 1.024253\n",
      "Mem before-during-after: 21483008 4332337152 21483008\n"
     ]
    },
    {
     "name": "stderr",
     "output_type": "stream",
     "text": [
      " 18%|█████████████████████▉                                                                                                    | 8.99999999999997/50 [31:49<1:17:26, 113.33s/it]"
     ]
    },
    {
     "name": "stdout",
     "output_type": "stream",
     "text": [
      "\n",
      "Test Epoch: 19\tAccuracy: 3557/4064 (87%)\n",
      "\n"
     ]
    },
    {
     "name": "stderr",
     "output_type": "stream",
     "text": [
      " 18%|█████████████████████▊                                                                                                   | 9.002061855670073/50 [31:49<1:46:21, 155.64s/it]"
     ]
    },
    {
     "name": "stdout",
     "output_type": "stream",
     "text": [
      "Train Epoch: 20 [0/11481 (0%)]\tLoss: 0.041981\n",
      "Mem before-during-after: 21596672 4334000128 21483008\n"
     ]
    },
    {
     "name": "stderr",
     "output_type": "stream",
     "text": [
      " 18%|█████████████████████▉                                                                                                   | 9.084536082474196/50 [32:10<2:51:31, 251.54s/it]"
     ]
    },
    {
     "name": "stdout",
     "output_type": "stream",
     "text": [
      "Train Epoch: 20 [1280/11481 (11%)]\tLoss: 0.141832\n",
      "Mem before-during-after: 21483008 4332337152 21483008\n"
     ]
    },
    {
     "name": "stderr",
     "output_type": "stream",
     "text": [
      " 18%|██████████████████████▎                                                                                                   | 9.16701030927832/50 [32:30<2:49:53, 249.63s/it]"
     ]
    },
    {
     "name": "stdout",
     "output_type": "stream",
     "text": [
      "Train Epoch: 20 [2560/11481 (22%)]\tLoss: 0.192657\n",
      "Mem before-during-after: 21483008 4332337152 21483008\n"
     ]
    },
    {
     "name": "stderr",
     "output_type": "stream",
     "text": [
      " 18%|██████████████████████▍                                                                                                  | 9.249484536082443/50 [32:51<2:51:50, 253.02s/it]"
     ]
    },
    {
     "name": "stdout",
     "output_type": "stream",
     "text": [
      "Train Epoch: 20 [3840/11481 (34%)]\tLoss: 0.010378\n",
      "Mem before-during-after: 21483008 4332337152 21483008\n"
     ]
    },
    {
     "name": "stderr",
     "output_type": "stream",
     "text": [
      " 19%|██████████████████████▌                                                                                                  | 9.331958762886567/50 [33:11<2:50:55, 252.18s/it]"
     ]
    },
    {
     "name": "stdout",
     "output_type": "stream",
     "text": [
      "Train Epoch: 20 [5120/11481 (45%)]\tLoss: 0.897745\n",
      "Mem before-during-after: 21483008 4332337152 21483008\n"
     ]
    },
    {
     "name": "stderr",
     "output_type": "stream",
     "text": [
      " 19%|██████████████████████▉                                                                                                   | 9.41443298969069/50 [33:31<2:48:22, 248.93s/it]"
     ]
    },
    {
     "name": "stdout",
     "output_type": "stream",
     "text": [
      "Train Epoch: 20 [6400/11481 (56%)]\tLoss: 0.236596\n",
      "Mem before-during-after: 21483008 4332337152 21483008\n"
     ]
    },
    {
     "name": "stderr",
     "output_type": "stream",
     "text": [
      " 19%|███████████████████████                                                                                                   | 9.43505154639172/50 [33:36<2:47:52, 248.32s/it]"
     ]
    }
   ],
   "source": [
    "n_epoch = 10\n",
    "n_epoch2 = 50\n",
    "# train_losses = []\n",
    "# test_accuracy = []\n",
    "optimizer = optim.RAdam(model.parameters(), lr=0.0001)\n",
    "scheduler = optim.lr_scheduler.OneCycleLR(\n",
    "    optimizer, max_lr=0.05,\n",
    "    steps_per_epoch=len(train_loader), epochs=n_epoch2)\n",
    "\n",
    "log_interval = 40\n",
    "pbar_update = 1 / (len(train_loader) + len(test_loader))\n",
    "# model.to(device)\n",
    "with tqdm(total=n_epoch2) as pbar:\n",
    "    for epoch in range(1+n_epoch, n_epoch2 + n_epoch + 1):\n",
    "        train(model, epoch, log_interval, train_losses)\n",
    "        acc = test(model, epoch)\n",
    "        test_accuracy += [acc]\n",
    "        scheduler.step()"
   ]
  },
  {
   "cell_type": "code",
   "execution_count": null,
   "id": "11e9fd9b-3744-4431-9cd5-e992e2cbded0",
   "metadata": {},
   "outputs": [],
   "source": [
    "plt.plot(train_losses)"
   ]
  },
  {
   "cell_type": "code",
   "execution_count": null,
   "id": "a2bc699a-aede-4d92-94c7-e0dd0bdf41cc",
   "metadata": {},
   "outputs": [],
   "source": [
    "plt.plot(test_accuracy)"
   ]
  },
  {
   "cell_type": "code",
   "execution_count": null,
   "id": "bcb91791-8b55-4bf6-a00c-e45814a31d2b",
   "metadata": {},
   "outputs": [],
   "source": [
    "metrics2, confusion_matrix2 = report_metrics(model)\n",
    "pprint(metrics2.compute())\n",
    "confusion_matrix2.compute()"
   ]
  },
  {
   "cell_type": "code",
   "execution_count": null,
   "id": "20519e48-1dbc-47a9-a884-970a5bc1539b",
   "metadata": {},
   "outputs": [],
   "source": [
    "model_path = '../physio16k_fold4_m13sinc_60epochs.pt' \n",
    "torch.save(model.state_dict(), model_path)"
   ]
  },
  {
   "cell_type": "code",
   "execution_count": null,
   "id": "5ed497dc-1b6a-456a-81d7-64fbdc027564",
   "metadata": {
    "scrolled": true
   },
   "outputs": [],
   "source": [
    "layer = model.fe_blocks.blocks[0].block.layer\n",
    "visualize_model.print_parameters(layer)"
   ]
  },
  {
   "cell_type": "code",
   "execution_count": null,
   "id": "06702656-87ec-40f8-b2e8-8359f390e163",
   "metadata": {
    "scrolled": true
   },
   "outputs": [],
   "source": [
    "[print(p.grad) for p in layer.parameters() if p.requires_grad]"
   ]
  },
  {
   "cell_type": "code",
   "execution_count": null,
   "id": "50b22115-aa04-49f9-bf06-581a852a3118",
   "metadata": {
    "scrolled": true
   },
   "outputs": [],
   "source": [
    "named_params = [p for p in layer.named_parameters()]\n",
    "lowbands = named_params[0][1].detach().cpu().numpy()\n",
    "plt.hist(lowbands.flatten(), bins=40)"
   ]
  },
  {
   "cell_type": "code",
   "execution_count": null,
   "id": "77415eb7-6d74-4891-a339-410296973213",
   "metadata": {},
   "outputs": [],
   "source": [
    "lowbands = named_params[0][1].grad.detach().cpu().numpy()\n",
    "plt.hist(lowbands.flatten(), bins=40)"
   ]
  },
  {
   "cell_type": "code",
   "execution_count": null,
   "id": "bee83917-40ca-4c11-82fd-d0d6e75a9b78",
   "metadata": {},
   "outputs": [],
   "source": [
    "bandwidths = named_params[1][1].detach().cpu().numpy()\n",
    "plt.hist(bandwidths.flatten(), bins=40)"
   ]
  },
  {
   "cell_type": "code",
   "execution_count": null,
   "id": "25db94a0-c994-4f31-b508-235a53058592",
   "metadata": {},
   "outputs": [],
   "source": [
    "bandwidths = named_params[1][1].grad.detach().cpu().numpy()\n",
    "plt.hist(bandwidths.flatten(), bins=40)"
   ]
  },
  {
   "cell_type": "code",
   "execution_count": null,
   "id": "6d8d54f8-3e0e-4fb8-b3e8-98eb6f269ce2",
   "metadata": {},
   "outputs": [],
   "source": [
    "filtviz = visualize_model.FilterVisualizer(\n",
    "    lowcut_bands = layer.lowcut_bands, \n",
    "    bandwidths = layer.bandwidths,\n",
    "    window_params = None, \n",
    "    window_length = 64,\n",
    "    sample_rate = sr\n",
    ")\n",
    "filtviz.visualize_bands()"
   ]
  },
  {
   "cell_type": "code",
   "execution_count": null,
   "id": "b85a2ed9-7335-4aac-b51e-09bafcd74cf7",
   "metadata": {},
   "outputs": [],
   "source": [
    "named_params12 = [p for p in layer.named_parameters()]\n",
    "lowbands12 = named_params12[0][1].detach().cpu().numpy()\n",
    "plt.hist(lowbands12.flatten(), bins=40)"
   ]
  },
  {
   "cell_type": "code",
   "execution_count": null,
   "id": "f872fbbc-ce78-4af6-8ae7-c6932c4d3c22",
   "metadata": {},
   "outputs": [],
   "source": [
    "lowbands12 = named_params12[0][1].grad.detach().cpu().numpy()\n",
    "plt.hist(lowbands12.flatten(), bins=40)"
   ]
  },
  {
   "cell_type": "code",
   "execution_count": null,
   "id": "61f36990-084d-4f14-bce4-ed421c9e0851",
   "metadata": {},
   "outputs": [],
   "source": [
    "bandwidths12 = named_params12[1][1].detach().cpu().numpy()\n",
    "plt.hist(bandwidths12.flatten(), bins=40)"
   ]
  },
  {
   "cell_type": "code",
   "execution_count": null,
   "id": "75f96aa7-5bf4-4497-b715-052c3761287a",
   "metadata": {},
   "outputs": [],
   "source": [
    "bandwidths12 = named_params12[1][1].grad.detach().cpu().numpy()\n",
    "plt.hist(bandwidths12.flatten(), bins=40)"
   ]
  },
  {
   "cell_type": "code",
   "execution_count": null,
   "id": "f3bcecda-b18f-4681-a37b-ac811e058d9e",
   "metadata": {},
   "outputs": [],
   "source": []
  },
  {
   "cell_type": "code",
   "execution_count": null,
   "id": "9e880138-b091-4a88-977d-54753179e91e",
   "metadata": {},
   "outputs": [],
   "source": []
  },
  {
   "cell_type": "code",
   "execution_count": null,
   "id": "768a5c82-67a3-4ae3-ae5f-fd08e15f2e08",
   "metadata": {
    "scrolled": true
   },
   "outputs": [],
   "source": [
    "layer2 = model.fe_blocks.blocks[1].block.layer\n",
    "visualize_model.print_parameters(layer2)"
   ]
  },
  {
   "cell_type": "code",
   "execution_count": null,
   "id": "b6d18120-fca2-461a-a3eb-8f3cc3ec5c40",
   "metadata": {},
   "outputs": [],
   "source": [
    "named_params22 = [p for p in layer22.named_parameters()]\n",
    "lowbands22 = named_params22[0][1].detach().cpu().numpy()\n",
    "plt.hist(lowbands22.flatten(), bins=40)"
   ]
  },
  {
   "cell_type": "code",
   "execution_count": null,
   "id": "1310f442-98f6-48d2-89f7-b79b4bd19081",
   "metadata": {},
   "outputs": [],
   "source": [
    "lowbands22 = named_params22[0][1].grad.detach().cpu().numpy()\n",
    "plt.hist(lowbands22.flatten(), bins=40)"
   ]
  },
  {
   "cell_type": "code",
   "execution_count": null,
   "id": "bedbc409-1eff-41eb-b72a-6cb7b6d6ad0c",
   "metadata": {},
   "outputs": [],
   "source": [
    "bandwidth22 = named_params22[1][1].detach().cpu().numpy()\n",
    "plt.hist(bandwidths22.flatten(), bins=40)"
   ]
  },
  {
   "cell_type": "code",
   "execution_count": null,
   "id": "faca921a-e869-4f2a-8cfb-e092804f2519",
   "metadata": {},
   "outputs": [],
   "source": [
    "bandwidths22 = named_params22[1][1].grad.detach().cpu().numpy()\n",
    "plt.hist(bandwidths22.flatten(), bins=40)"
   ]
  },
  {
   "cell_type": "code",
   "execution_count": null,
   "id": "2793f953-43d8-4cc5-8f5d-b220b47aa7aa",
   "metadata": {
    "scrolled": true
   },
   "outputs": [],
   "source": [
    "downsample_factor = model.fe_blocks.blocks[0].stride\n",
    "new_sample_rate = sr // downsample_factor\n",
    "print(f'downsample_factor: {downsample_factor} => new_sample_rate: {new_sample_rate}')\n",
    "\n",
    "filtviz2 = visualize_model.FilterVisualizer(\n",
    "    lowcut_bands = layer2.lowcut_bands, \n",
    "    bandwidths = layer2.bandwidths,\n",
    "    window_params = None, \n",
    "    window_length = 64,\n",
    "    sample_rate = new_sample_rate\n",
    ")\n",
    "filtviz2.visualize_bands()"
   ]
  },
  {
   "cell_type": "code",
   "execution_count": 77,
   "id": "0d91c905-fae7-4b20-baa4-1667d0e838af",
   "metadata": {},
   "outputs": [
    {
     "data": {
      "text/plain": [
       "340729"
      ]
     },
     "execution_count": 77,
     "metadata": {},
     "output_type": "execute_result"
    }
   ],
   "source": [
    "# del model\n",
    "# gc.collect()"
   ]
  },
  {
   "cell_type": "code",
   "execution_count": null,
   "id": "b15ed3d1-b5ef-477a-99d2-4cfdd08e069c",
   "metadata": {},
   "outputs": [],
   "source": []
  }
 ],
 "metadata": {
  "kernelspec": {
   "display_name": "Python 3 (ipykernel)",
   "language": "python",
   "name": "python3"
  },
  "language_info": {
   "codemirror_mode": {
    "name": "ipython",
    "version": 3
   },
   "file_extension": ".py",
   "mimetype": "text/x-python",
   "name": "python",
   "nbconvert_exporter": "python",
   "pygments_lexer": "ipython3",
   "version": "3.9.18"
  }
 },
 "nbformat": 4,
 "nbformat_minor": 5
}
