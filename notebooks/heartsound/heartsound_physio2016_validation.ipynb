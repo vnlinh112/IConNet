{
 "cells": [
  {
   "cell_type": "code",
   "execution_count": 1,
   "id": "78d4320d-fe74-4197-b3be-580441e5e3f3",
   "metadata": {},
   "outputs": [],
   "source": [
    "%load_ext autoreload\n",
    "%autoreload 2"
   ]
  },
  {
   "cell_type": "code",
   "execution_count": 2,
   "id": "f61a34f1-b5b1-4231-a24c-dff72d46a808",
   "metadata": {},
   "outputs": [
    {
     "data": {
      "text/plain": [
       "'/home/linh/projects/IConNet'"
      ]
     },
     "execution_count": 2,
     "metadata": {},
     "output_type": "execute_result"
    }
   ],
   "source": [
    "import os\n",
    "os.chdir('../../')\n",
    "os.getcwd()"
   ]
  },
  {
   "cell_type": "code",
   "execution_count": 3,
   "id": "cf5b79fc-de6b-4244-99e1-1a909c9d2567",
   "metadata": {},
   "outputs": [],
   "source": [
    "import glob\n",
    "import numpy as np\n",
    "import pandas as pd"
   ]
  },
  {
   "cell_type": "code",
   "execution_count": 6,
   "id": "981901ba-3ab7-4bf6-9a40-11d371e8c706",
   "metadata": {},
   "outputs": [],
   "source": [
    "data_dir = '../data/physio2016/validation/'"
   ]
  },
  {
   "cell_type": "code",
   "execution_count": 20,
   "id": "7495e58b-fd81-46b2-9ace-08a31073b374",
   "metadata": {},
   "outputs": [
    {
     "data": {
      "text/html": [
       "<div>\n",
       "<style scoped>\n",
       "    .dataframe tbody tr th:only-of-type {\n",
       "        vertical-align: middle;\n",
       "    }\n",
       "\n",
       "    .dataframe tbody tr th {\n",
       "        vertical-align: top;\n",
       "    }\n",
       "\n",
       "    .dataframe thead th {\n",
       "        text-align: right;\n",
       "    }\n",
       "</style>\n",
       "<table border=\"1\" class=\"dataframe\">\n",
       "  <thead>\n",
       "    <tr style=\"text-align: right;\">\n",
       "      <th></th>\n",
       "      <th>filename</th>\n",
       "      <th>label</th>\n",
       "    </tr>\n",
       "  </thead>\n",
       "  <tbody>\n",
       "    <tr>\n",
       "      <th>0</th>\n",
       "      <td>a0001</td>\n",
       "      <td>1</td>\n",
       "    </tr>\n",
       "    <tr>\n",
       "      <th>1</th>\n",
       "      <td>a0002</td>\n",
       "      <td>1</td>\n",
       "    </tr>\n",
       "    <tr>\n",
       "      <th>2</th>\n",
       "      <td>a0003</td>\n",
       "      <td>1</td>\n",
       "    </tr>\n",
       "    <tr>\n",
       "      <th>3</th>\n",
       "      <td>a0004</td>\n",
       "      <td>1</td>\n",
       "    </tr>\n",
       "    <tr>\n",
       "      <th>4</th>\n",
       "      <td>a0005</td>\n",
       "      <td>1</td>\n",
       "    </tr>\n",
       "    <tr>\n",
       "      <th>...</th>\n",
       "      <td>...</td>\n",
       "      <td>...</td>\n",
       "    </tr>\n",
       "    <tr>\n",
       "      <th>296</th>\n",
       "      <td>e00622</td>\n",
       "      <td>1</td>\n",
       "    </tr>\n",
       "    <tr>\n",
       "      <th>297</th>\n",
       "      <td>e00627</td>\n",
       "      <td>1</td>\n",
       "    </tr>\n",
       "    <tr>\n",
       "      <th>298</th>\n",
       "      <td>e00648</td>\n",
       "      <td>1</td>\n",
       "    </tr>\n",
       "    <tr>\n",
       "      <th>299</th>\n",
       "      <td>e00657</td>\n",
       "      <td>1</td>\n",
       "    </tr>\n",
       "    <tr>\n",
       "      <th>300</th>\n",
       "      <td>e00670</td>\n",
       "      <td>1</td>\n",
       "    </tr>\n",
       "  </tbody>\n",
       "</table>\n",
       "<p>301 rows × 2 columns</p>\n",
       "</div>"
      ],
      "text/plain": [
       "    filename  label\n",
       "0      a0001      1\n",
       "1      a0002      1\n",
       "2      a0003      1\n",
       "3      a0004      1\n",
       "4      a0005      1\n",
       "..       ...    ...\n",
       "296   e00622      1\n",
       "297   e00627      1\n",
       "298   e00648      1\n",
       "299   e00657      1\n",
       "300   e00670      1\n",
       "\n",
       "[301 rows x 2 columns]"
      ]
     },
     "execution_count": 20,
     "metadata": {},
     "output_type": "execute_result"
    }
   ],
   "source": [
    "df = pd.read_csv(\n",
    "    f'{data_dir}REFERENCE.csv', \n",
    "    header=None, \n",
    "    names=['filename', 'label'])\n",
    "df"
   ]
  },
  {
   "cell_type": "code",
   "execution_count": 11,
   "id": "05eed89d-a90f-4047-ab0e-55c1ce0f0c03",
   "metadata": {},
   "outputs": [],
   "source": [
    "import soundfile as sf"
   ]
  },
  {
   "cell_type": "code",
   "execution_count": 21,
   "id": "51284103-f36b-4880-b5f5-e9fbfed0ad46",
   "metadata": {},
   "outputs": [
    {
     "data": {
      "text/plain": [
       "2000"
      ]
     },
     "execution_count": 21,
     "metadata": {},
     "output_type": "execute_result"
    }
   ],
   "source": [
    "y, sr = sf.read(\n",
    "    data_dir + df[\"filename\"].values[0] + '.wav')\n",
    "sr"
   ]
  },
  {
   "cell_type": "code",
   "execution_count": 22,
   "id": "3228f9f6-ec60-4d9b-82b9-a98d24918217",
   "metadata": {},
   "outputs": [],
   "source": [
    "def load_audio(filename):\n",
    "    path = data_dir + filename + '.wav'\n",
    "    y, sr = sf.read(path)\n",
    "    return y"
   ]
  },
  {
   "cell_type": "code",
   "execution_count": 23,
   "id": "a76fcb08-ee29-4660-a29a-b05f1701d226",
   "metadata": {},
   "outputs": [],
   "source": [
    "df['audio'] = df['filename'].apply(load_audio)"
   ]
  },
  {
   "cell_type": "code",
   "execution_count": 24,
   "id": "91b6cd1b-0537-48f6-a692-a17b3e81c255",
   "metadata": {},
   "outputs": [],
   "source": [
    "classname = {1: 'abnormal', -1: 'normal'}"
   ]
  },
  {
   "cell_type": "code",
   "execution_count": 25,
   "id": "e6170652-4f6e-472e-86e7-25f87d88abce",
   "metadata": {},
   "outputs": [],
   "source": [
    "df['classname'] = df['label'].apply(\n",
    "    lambda x: classname[x]\n",
    ")"
   ]
  },
  {
   "cell_type": "code",
   "execution_count": 26,
   "id": "cc560e7b-38bf-4e7c-9c45-080227dfa959",
   "metadata": {},
   "outputs": [
    {
     "data": {
      "text/html": [
       "<div>\n",
       "<style scoped>\n",
       "    .dataframe tbody tr th:only-of-type {\n",
       "        vertical-align: middle;\n",
       "    }\n",
       "\n",
       "    .dataframe tbody tr th {\n",
       "        vertical-align: top;\n",
       "    }\n",
       "\n",
       "    .dataframe thead th {\n",
       "        text-align: right;\n",
       "    }\n",
       "</style>\n",
       "<table border=\"1\" class=\"dataframe\">\n",
       "  <thead>\n",
       "    <tr style=\"text-align: right;\">\n",
       "      <th></th>\n",
       "      <th>filename</th>\n",
       "      <th>label</th>\n",
       "      <th>audio</th>\n",
       "      <th>classname</th>\n",
       "    </tr>\n",
       "  </thead>\n",
       "  <tbody>\n",
       "    <tr>\n",
       "      <th>0</th>\n",
       "      <td>a0001</td>\n",
       "      <td>1</td>\n",
       "      <td>[-0.002105712890625, -0.004119873046875, -0.00...</td>\n",
       "      <td>abnormal</td>\n",
       "    </tr>\n",
       "    <tr>\n",
       "      <th>1</th>\n",
       "      <td>a0002</td>\n",
       "      <td>1</td>\n",
       "      <td>[0.009063720703125, 0.022216796875, 0.02377319...</td>\n",
       "      <td>abnormal</td>\n",
       "    </tr>\n",
       "    <tr>\n",
       "      <th>2</th>\n",
       "      <td>a0003</td>\n",
       "      <td>1</td>\n",
       "      <td>[-0.00384521484375, -0.00933837890625, -0.0080...</td>\n",
       "      <td>abnormal</td>\n",
       "    </tr>\n",
       "    <tr>\n",
       "      <th>3</th>\n",
       "      <td>a0004</td>\n",
       "      <td>1</td>\n",
       "      <td>[0.01068115234375, 0.021453857421875, 0.018280...</td>\n",
       "      <td>abnormal</td>\n",
       "    </tr>\n",
       "    <tr>\n",
       "      <th>4</th>\n",
       "      <td>a0005</td>\n",
       "      <td>1</td>\n",
       "      <td>[-0.001678466796875, -0.002960205078125, -0.00...</td>\n",
       "      <td>abnormal</td>\n",
       "    </tr>\n",
       "    <tr>\n",
       "      <th>...</th>\n",
       "      <td>...</td>\n",
       "      <td>...</td>\n",
       "      <td>...</td>\n",
       "      <td>...</td>\n",
       "    </tr>\n",
       "    <tr>\n",
       "      <th>296</th>\n",
       "      <td>e00622</td>\n",
       "      <td>1</td>\n",
       "      <td>[-0.003143310546875, -0.01483154296875, 0.0204...</td>\n",
       "      <td>abnormal</td>\n",
       "    </tr>\n",
       "    <tr>\n",
       "      <th>297</th>\n",
       "      <td>e00627</td>\n",
       "      <td>1</td>\n",
       "      <td>[-0.0006103515625, -0.0150146484375, 0.0392150...</td>\n",
       "      <td>abnormal</td>\n",
       "    </tr>\n",
       "    <tr>\n",
       "      <th>298</th>\n",
       "      <td>e00648</td>\n",
       "      <td>1</td>\n",
       "      <td>[-0.003814697265625, -0.012908935546875, 0.012...</td>\n",
       "      <td>abnormal</td>\n",
       "    </tr>\n",
       "    <tr>\n",
       "      <th>299</th>\n",
       "      <td>e00657</td>\n",
       "      <td>1</td>\n",
       "      <td>[0.0108642578125, -0.035308837890625, 0.141845...</td>\n",
       "      <td>abnormal</td>\n",
       "    </tr>\n",
       "    <tr>\n",
       "      <th>300</th>\n",
       "      <td>e00670</td>\n",
       "      <td>1</td>\n",
       "      <td>[0.0, 0.0, 0.0, 0.0, 0.0, 0.0, 0.0, 0.0, 0.0, ...</td>\n",
       "      <td>abnormal</td>\n",
       "    </tr>\n",
       "  </tbody>\n",
       "</table>\n",
       "<p>301 rows × 4 columns</p>\n",
       "</div>"
      ],
      "text/plain": [
       "    filename  label                                              audio  \\\n",
       "0      a0001      1  [-0.002105712890625, -0.004119873046875, -0.00...   \n",
       "1      a0002      1  [0.009063720703125, 0.022216796875, 0.02377319...   \n",
       "2      a0003      1  [-0.00384521484375, -0.00933837890625, -0.0080...   \n",
       "3      a0004      1  [0.01068115234375, 0.021453857421875, 0.018280...   \n",
       "4      a0005      1  [-0.001678466796875, -0.002960205078125, -0.00...   \n",
       "..       ...    ...                                                ...   \n",
       "296   e00622      1  [-0.003143310546875, -0.01483154296875, 0.0204...   \n",
       "297   e00627      1  [-0.0006103515625, -0.0150146484375, 0.0392150...   \n",
       "298   e00648      1  [-0.003814697265625, -0.012908935546875, 0.012...   \n",
       "299   e00657      1  [0.0108642578125, -0.035308837890625, 0.141845...   \n",
       "300   e00670      1  [0.0, 0.0, 0.0, 0.0, 0.0, 0.0, 0.0, 0.0, 0.0, ...   \n",
       "\n",
       "    classname  \n",
       "0    abnormal  \n",
       "1    abnormal  \n",
       "2    abnormal  \n",
       "3    abnormal  \n",
       "4    abnormal  \n",
       "..        ...  \n",
       "296  abnormal  \n",
       "297  abnormal  \n",
       "298  abnormal  \n",
       "299  abnormal  \n",
       "300  abnormal  \n",
       "\n",
       "[301 rows x 4 columns]"
      ]
     },
     "execution_count": 26,
     "metadata": {},
     "output_type": "execute_result"
    }
   ],
   "source": [
    "df"
   ]
  },
  {
   "cell_type": "code",
   "execution_count": 30,
   "id": "7540a8a7-74fd-409c-9fd7-ad1b50256d1e",
   "metadata": {},
   "outputs": [
    {
     "data": {
      "text/plain": [
       "array([0.        , 0.        , 0.        , ..., 0.05380249, 0.0574646 ,\n",
       "       0.0456543 ])"
      ]
     },
     "execution_count": 30,
     "metadata": {},
     "output_type": "execute_result"
    }
   ],
   "source": [
    "df['audio'][300]"
   ]
  },
  {
   "cell_type": "code",
   "execution_count": 31,
   "id": "d9085e5a-e1d0-4da1-b6cb-21a4bf84981c",
   "metadata": {},
   "outputs": [],
   "source": [
    "df['length'] = df['audio'].apply(len)"
   ]
  },
  {
   "cell_type": "code",
   "execution_count": 32,
   "id": "b4b57bdd-f8e1-4b6d-9ad4-6545e20a691c",
   "metadata": {},
   "outputs": [
    {
     "data": {
      "text/plain": [
       "count       301.000000\n",
       "mean      42180.355482\n",
       "std       28606.650984\n",
       "min       10611.000000\n",
       "25%       16000.000000\n",
       "50%       41378.000000\n",
       "75%       61998.000000\n",
       "max      243997.000000\n",
       "Name: length, dtype: float64"
      ]
     },
     "execution_count": 32,
     "metadata": {},
     "output_type": "execute_result"
    }
   ],
   "source": [
    "df['length'].describe()"
   ]
  },
  {
   "cell_type": "code",
   "execution_count": 33,
   "id": "0d7c6fc0-1641-4de7-ba66-bd0fa4e409c6",
   "metadata": {},
   "outputs": [],
   "source": [
    "label_transform = {'abnormal': 0, 'normal':1}"
   ]
  },
  {
   "cell_type": "code",
   "execution_count": 34,
   "id": "b9a6bb64-dced-40e7-9017-24d0a668fc03",
   "metadata": {},
   "outputs": [],
   "source": [
    "df['label'] = df['classname'].apply(lambda x: label_transform[x])"
   ]
  },
  {
   "cell_type": "code",
   "execution_count": 35,
   "id": "52cd6260-2cca-47de-9dea-eaedc081ab19",
   "metadata": {},
   "outputs": [],
   "source": [
    "preprocess_dir = '../data/data_preprocessed/heartsound/preprocessing/'"
   ]
  },
  {
   "cell_type": "code",
   "execution_count": 36,
   "id": "807ad690-2a48-4471-a298-78bd27d574d2",
   "metadata": {},
   "outputs": [],
   "source": [
    "np.save(f'{preprocess_dir}heartsound.audio2k.validation.npy', \n",
    "        df['audio'], \n",
    "allow_pickle=True)"
   ]
  },
  {
   "cell_type": "code",
   "execution_count": 37,
   "id": "dfdb7cfc-91ff-439c-91da-7045978614c5",
   "metadata": {},
   "outputs": [],
   "source": [
    "np.save(f'{preprocess_dir}heartsound.label_binary.validation.npy', \n",
    "        df['label'], \n",
    "allow_pickle=True)"
   ]
  },
  {
   "cell_type": "code",
   "execution_count": null,
   "id": "15705dca-d863-485b-80b8-a82916f25c0a",
   "metadata": {},
   "outputs": [],
   "source": []
  }
 ],
 "metadata": {
  "kernelspec": {
   "display_name": "Python 3 (ipykernel)",
   "language": "python",
   "name": "python3"
  },
  "language_info": {
   "codemirror_mode": {
    "name": "ipython",
    "version": 3
   },
   "file_extension": ".py",
   "mimetype": "text/x-python",
   "name": "python",
   "nbconvert_exporter": "python",
   "pygments_lexer": "ipython3",
   "version": "3.9.18"
  }
 },
 "nbformat": 4,
 "nbformat_minor": 5
}
