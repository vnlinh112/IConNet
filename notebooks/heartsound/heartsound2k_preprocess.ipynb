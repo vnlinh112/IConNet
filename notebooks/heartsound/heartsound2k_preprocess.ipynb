{
 "cells": [
  {
   "cell_type": "code",
   "execution_count": 1,
   "id": "985a1578-251b-4c14-a3a3-2589f2d389fd",
   "metadata": {},
   "outputs": [],
   "source": [
    "%load_ext autoreload\n",
    "%autoreload 2"
   ]
  },
  {
   "cell_type": "code",
   "execution_count": 2,
   "id": "5a8ed893-750a-4fdb-b3e7-7e5937d0be65",
   "metadata": {},
   "outputs": [
    {
     "data": {
      "text/plain": [
       "'/home/linh/projects/IConNet'"
      ]
     },
     "execution_count": 2,
     "metadata": {},
     "output_type": "execute_result"
    }
   ],
   "source": [
    "import os\n",
    "os.chdir('../../')\n",
    "os.getcwd()"
   ]
  },
  {
   "cell_type": "code",
   "execution_count": 16,
   "id": "2a6e260b-90dd-4cbb-a136-5446e862c8c5",
   "metadata": {},
   "outputs": [],
   "source": [
    "import glob\n",
    "import numpy as np\n",
    "import pandas as pd\n",
    "import soundfile as sf"
   ]
  },
  {
   "cell_type": "code",
   "execution_count": 4,
   "id": "2ed31c02-0e0d-4ecc-a065-3564e90b2ac8",
   "metadata": {},
   "outputs": [],
   "source": [
    "data_dir = '../data/physio2016/physionet.org/files/challenge-2016/1.0.0/'"
   ]
  },
  {
   "cell_type": "code",
   "execution_count": 23,
   "id": "1b44f7a5-a5e9-45e1-ac1e-9661a2c40e31",
   "metadata": {},
   "outputs": [],
   "source": [
    "def load_audio(filepath):\n",
    "    y, sr = sf.read(filepath)\n",
    "    return y\n",
    "    \n",
    "def read_split(split_code):\n",
    "    split = f'training-{split_code}'\n",
    "    split_path = f'{data_dir}{split}/'\n",
    "    df = pd.read_csv(f'{split_path}REFERENCE.csv', \n",
    "        header=None, \n",
    "        names=['filename', 'label'])\n",
    "    df['audio'] = df['filename'].apply(\n",
    "        lambda x: load_audio(split_path+x+'.wav'))\n",
    "    classname = {1: 'abnormal', -1: 'normal'}\n",
    "    df['classname'] = df['label'].apply(\n",
    "        lambda x: classname[x]\n",
    "    )\n",
    "    label_transform = {'abnormal': 0, 'normal':1}\n",
    "    df['label'] = df['classname'].apply(\n",
    "        lambda x: label_transform[x])\n",
    "    df['length'] = df['audio'].apply(len)\n",
    "    print(df['classname'].value_counts())\n",
    "    return df"
   ]
  },
  {
   "cell_type": "code",
   "execution_count": 21,
   "id": "26ec6285-05cb-498f-89d4-1fcc63b9dcdc",
   "metadata": {},
   "outputs": [
    {
     "name": "stdout",
     "output_type": "stream",
     "text": [
      "classname\n",
      "abnormal    292\n",
      "normal      117\n",
      "Name: count, dtype: int64\n"
     ]
    },
    {
     "data": {
      "text/html": [
       "<div>\n",
       "<style scoped>\n",
       "    .dataframe tbody tr th:only-of-type {\n",
       "        vertical-align: middle;\n",
       "    }\n",
       "\n",
       "    .dataframe tbody tr th {\n",
       "        vertical-align: top;\n",
       "    }\n",
       "\n",
       "    .dataframe thead th {\n",
       "        text-align: right;\n",
       "    }\n",
       "</style>\n",
       "<table border=\"1\" class=\"dataframe\">\n",
       "  <thead>\n",
       "    <tr style=\"text-align: right;\">\n",
       "      <th></th>\n",
       "      <th>filename</th>\n",
       "      <th>label</th>\n",
       "      <th>audio</th>\n",
       "      <th>classname</th>\n",
       "    </tr>\n",
       "  </thead>\n",
       "  <tbody>\n",
       "    <tr>\n",
       "      <th>0</th>\n",
       "      <td>a0001</td>\n",
       "      <td>0</td>\n",
       "      <td>[-0.002105712890625, -0.004119873046875, -0.00...</td>\n",
       "      <td>abnormal</td>\n",
       "    </tr>\n",
       "    <tr>\n",
       "      <th>1</th>\n",
       "      <td>a0002</td>\n",
       "      <td>0</td>\n",
       "      <td>[0.009063720703125, 0.022216796875, 0.02377319...</td>\n",
       "      <td>abnormal</td>\n",
       "    </tr>\n",
       "    <tr>\n",
       "      <th>2</th>\n",
       "      <td>a0003</td>\n",
       "      <td>0</td>\n",
       "      <td>[-0.00384521484375, -0.00933837890625, -0.0080...</td>\n",
       "      <td>abnormal</td>\n",
       "    </tr>\n",
       "    <tr>\n",
       "      <th>3</th>\n",
       "      <td>a0004</td>\n",
       "      <td>0</td>\n",
       "      <td>[0.01068115234375, 0.021453857421875, 0.018280...</td>\n",
       "      <td>abnormal</td>\n",
       "    </tr>\n",
       "    <tr>\n",
       "      <th>4</th>\n",
       "      <td>a0005</td>\n",
       "      <td>0</td>\n",
       "      <td>[-0.001678466796875, -0.002960205078125, -0.00...</td>\n",
       "      <td>abnormal</td>\n",
       "    </tr>\n",
       "    <tr>\n",
       "      <th>...</th>\n",
       "      <td>...</td>\n",
       "      <td>...</td>\n",
       "      <td>...</td>\n",
       "      <td>...</td>\n",
       "    </tr>\n",
       "    <tr>\n",
       "      <th>404</th>\n",
       "      <td>a0405</td>\n",
       "      <td>1</td>\n",
       "      <td>[-0.011016845703125, -0.0216064453125, -0.0177...</td>\n",
       "      <td>normal</td>\n",
       "    </tr>\n",
       "    <tr>\n",
       "      <th>405</th>\n",
       "      <td>a0406</td>\n",
       "      <td>1</td>\n",
       "      <td>[-0.014312744140625, -0.032135009765625, -0.02...</td>\n",
       "      <td>normal</td>\n",
       "    </tr>\n",
       "    <tr>\n",
       "      <th>406</th>\n",
       "      <td>a0407</td>\n",
       "      <td>1</td>\n",
       "      <td>[-0.003631591796875, -0.0062255859375, -0.0024...</td>\n",
       "      <td>normal</td>\n",
       "    </tr>\n",
       "    <tr>\n",
       "      <th>407</th>\n",
       "      <td>a0408</td>\n",
       "      <td>1</td>\n",
       "      <td>[-0.008880615234375, -0.019378662109375, -0.01...</td>\n",
       "      <td>normal</td>\n",
       "    </tr>\n",
       "    <tr>\n",
       "      <th>408</th>\n",
       "      <td>a0409</td>\n",
       "      <td>1</td>\n",
       "      <td>[-0.030609130859375, -0.061737060546875, -0.05...</td>\n",
       "      <td>normal</td>\n",
       "    </tr>\n",
       "  </tbody>\n",
       "</table>\n",
       "<p>409 rows × 4 columns</p>\n",
       "</div>"
      ],
      "text/plain": [
       "    filename  label                                              audio  \\\n",
       "0      a0001      0  [-0.002105712890625, -0.004119873046875, -0.00...   \n",
       "1      a0002      0  [0.009063720703125, 0.022216796875, 0.02377319...   \n",
       "2      a0003      0  [-0.00384521484375, -0.00933837890625, -0.0080...   \n",
       "3      a0004      0  [0.01068115234375, 0.021453857421875, 0.018280...   \n",
       "4      a0005      0  [-0.001678466796875, -0.002960205078125, -0.00...   \n",
       "..       ...    ...                                                ...   \n",
       "404    a0405      1  [-0.011016845703125, -0.0216064453125, -0.0177...   \n",
       "405    a0406      1  [-0.014312744140625, -0.032135009765625, -0.02...   \n",
       "406    a0407      1  [-0.003631591796875, -0.0062255859375, -0.0024...   \n",
       "407    a0408      1  [-0.008880615234375, -0.019378662109375, -0.01...   \n",
       "408    a0409      1  [-0.030609130859375, -0.061737060546875, -0.05...   \n",
       "\n",
       "    classname  \n",
       "0    abnormal  \n",
       "1    abnormal  \n",
       "2    abnormal  \n",
       "3    abnormal  \n",
       "4    abnormal  \n",
       "..        ...  \n",
       "404    normal  \n",
       "405    normal  \n",
       "406    normal  \n",
       "407    normal  \n",
       "408    normal  \n",
       "\n",
       "[409 rows x 4 columns]"
      ]
     },
     "execution_count": 21,
     "metadata": {},
     "output_type": "execute_result"
    }
   ],
   "source": [
    "df = read_split('a')\n",
    "df"
   ]
  },
  {
   "cell_type": "code",
   "execution_count": 22,
   "id": "933e824d-43f4-43a2-bbee-f73e66846b1d",
   "metadata": {},
   "outputs": [
    {
     "data": {
      "text/plain": [
       "count      409.000000\n",
       "mean     65174.122249\n",
       "std      10577.780210\n",
       "min      18530.000000\n",
       "25%      61580.000000\n",
       "50%      71193.000000\n",
       "75%      71472.000000\n",
       "max      73004.000000\n",
       "Name: length, dtype: float64"
      ]
     },
     "execution_count": 22,
     "metadata": {},
     "output_type": "execute_result"
    }
   ],
   "source": [
    "df['length'] = df['audio'].apply(len)\n",
    "df['length'].describe()"
   ]
  },
  {
   "cell_type": "code",
   "execution_count": 24,
   "id": "ce21dacb-c102-4553-8c67-366d105e0623",
   "metadata": {},
   "outputs": [
    {
     "name": "stdout",
     "output_type": "stream",
     "text": [
      "classname\n",
      "normal      386\n",
      "abnormal    104\n",
      "Name: count, dtype: int64\n",
      "classname\n",
      "abnormal    24\n",
      "normal       7\n",
      "Name: count, dtype: int64\n",
      "classname\n",
      "abnormal    28\n",
      "normal      27\n",
      "Name: count, dtype: int64\n",
      "classname\n",
      "normal      1958\n",
      "abnormal     183\n",
      "Name: count, dtype: int64\n",
      "classname\n",
      "normal      80\n",
      "abnormal    34\n",
      "Name: count, dtype: int64\n"
     ]
    },
    {
     "data": {
      "text/html": [
       "<div>\n",
       "<style scoped>\n",
       "    .dataframe tbody tr th:only-of-type {\n",
       "        vertical-align: middle;\n",
       "    }\n",
       "\n",
       "    .dataframe tbody tr th {\n",
       "        vertical-align: top;\n",
       "    }\n",
       "\n",
       "    .dataframe thead th {\n",
       "        text-align: right;\n",
       "    }\n",
       "</style>\n",
       "<table border=\"1\" class=\"dataframe\">\n",
       "  <thead>\n",
       "    <tr style=\"text-align: right;\">\n",
       "      <th></th>\n",
       "      <th>filename</th>\n",
       "      <th>label</th>\n",
       "      <th>audio</th>\n",
       "      <th>classname</th>\n",
       "      <th>length</th>\n",
       "    </tr>\n",
       "  </thead>\n",
       "  <tbody>\n",
       "    <tr>\n",
       "      <th>0</th>\n",
       "      <td>a0001</td>\n",
       "      <td>0</td>\n",
       "      <td>[-0.002105712890625, -0.004119873046875, -0.00...</td>\n",
       "      <td>abnormal</td>\n",
       "      <td>71332</td>\n",
       "    </tr>\n",
       "    <tr>\n",
       "      <th>1</th>\n",
       "      <td>a0002</td>\n",
       "      <td>0</td>\n",
       "      <td>[0.009063720703125, 0.022216796875, 0.02377319...</td>\n",
       "      <td>abnormal</td>\n",
       "      <td>41657</td>\n",
       "    </tr>\n",
       "    <tr>\n",
       "      <th>2</th>\n",
       "      <td>a0003</td>\n",
       "      <td>0</td>\n",
       "      <td>[-0.00384521484375, -0.00933837890625, -0.0080...</td>\n",
       "      <td>abnormal</td>\n",
       "      <td>61440</td>\n",
       "    </tr>\n",
       "    <tr>\n",
       "      <th>3</th>\n",
       "      <td>a0004</td>\n",
       "      <td>0</td>\n",
       "      <td>[0.01068115234375, 0.021453857421875, 0.018280...</td>\n",
       "      <td>abnormal</td>\n",
       "      <td>71193</td>\n",
       "    </tr>\n",
       "    <tr>\n",
       "      <th>4</th>\n",
       "      <td>a0005</td>\n",
       "      <td>0</td>\n",
       "      <td>[-0.001678466796875, -0.002960205078125, -0.00...</td>\n",
       "      <td>abnormal</td>\n",
       "      <td>71332</td>\n",
       "    </tr>\n",
       "    <tr>\n",
       "      <th>...</th>\n",
       "      <td>...</td>\n",
       "      <td>...</td>\n",
       "      <td>...</td>\n",
       "      <td>...</td>\n",
       "      <td>...</td>\n",
       "    </tr>\n",
       "    <tr>\n",
       "      <th>109</th>\n",
       "      <td>f0110</td>\n",
       "      <td>1</td>\n",
       "      <td>[0.0, 0.0, 0.0, 0.0, 0.0, 0.0, 0.0, 0.0, 0.0, ...</td>\n",
       "      <td>normal</td>\n",
       "      <td>61344</td>\n",
       "    </tr>\n",
       "    <tr>\n",
       "      <th>110</th>\n",
       "      <td>f0111</td>\n",
       "      <td>1</td>\n",
       "      <td>[0.0, 0.0, 0.0, 0.0, 0.0, 0.0, 0.0, 0.0, 0.0, ...</td>\n",
       "      <td>normal</td>\n",
       "      <td>58752</td>\n",
       "    </tr>\n",
       "    <tr>\n",
       "      <th>111</th>\n",
       "      <td>f0112</td>\n",
       "      <td>1</td>\n",
       "      <td>[0.0, 0.0, 0.0, 0.0, 0.0, 0.0, 0.0, 0.0, 0.0, ...</td>\n",
       "      <td>normal</td>\n",
       "      <td>60864</td>\n",
       "    </tr>\n",
       "    <tr>\n",
       "      <th>112</th>\n",
       "      <td>f0113</td>\n",
       "      <td>1</td>\n",
       "      <td>[0.0, 0.0, 0.0, 0.0, 0.0, 0.0, 0.0, 0.0, 0.0, ...</td>\n",
       "      <td>normal</td>\n",
       "      <td>65952</td>\n",
       "    </tr>\n",
       "    <tr>\n",
       "      <th>113</th>\n",
       "      <td>f0114</td>\n",
       "      <td>1</td>\n",
       "      <td>[0.0, 0.0, 0.0, 0.0, 0.0, 0.0, 0.0, 0.0, 0.0, ...</td>\n",
       "      <td>normal</td>\n",
       "      <td>62784</td>\n",
       "    </tr>\n",
       "  </tbody>\n",
       "</table>\n",
       "<p>3240 rows × 5 columns</p>\n",
       "</div>"
      ],
      "text/plain": [
       "    filename  label                                              audio  \\\n",
       "0      a0001      0  [-0.002105712890625, -0.004119873046875, -0.00...   \n",
       "1      a0002      0  [0.009063720703125, 0.022216796875, 0.02377319...   \n",
       "2      a0003      0  [-0.00384521484375, -0.00933837890625, -0.0080...   \n",
       "3      a0004      0  [0.01068115234375, 0.021453857421875, 0.018280...   \n",
       "4      a0005      0  [-0.001678466796875, -0.002960205078125, -0.00...   \n",
       "..       ...    ...                                                ...   \n",
       "109    f0110      1  [0.0, 0.0, 0.0, 0.0, 0.0, 0.0, 0.0, 0.0, 0.0, ...   \n",
       "110    f0111      1  [0.0, 0.0, 0.0, 0.0, 0.0, 0.0, 0.0, 0.0, 0.0, ...   \n",
       "111    f0112      1  [0.0, 0.0, 0.0, 0.0, 0.0, 0.0, 0.0, 0.0, 0.0, ...   \n",
       "112    f0113      1  [0.0, 0.0, 0.0, 0.0, 0.0, 0.0, 0.0, 0.0, 0.0, ...   \n",
       "113    f0114      1  [0.0, 0.0, 0.0, 0.0, 0.0, 0.0, 0.0, 0.0, 0.0, ...   \n",
       "\n",
       "    classname  length  \n",
       "0    abnormal   71332  \n",
       "1    abnormal   41657  \n",
       "2    abnormal   61440  \n",
       "3    abnormal   71193  \n",
       "4    abnormal   71332  \n",
       "..        ...     ...  \n",
       "109    normal   61344  \n",
       "110    normal   58752  \n",
       "111    normal   60864  \n",
       "112    normal   65952  \n",
       "113    normal   62784  \n",
       "\n",
       "[3240 rows x 5 columns]"
      ]
     },
     "execution_count": 24,
     "metadata": {},
     "output_type": "execute_result"
    }
   ],
   "source": [
    "splits = ['b','c','d','e','f']\n",
    "for code in splits:\n",
    "    dfa = read_split(code)\n",
    "    df = pd.concat([df, dfa])\n",
    "df"
   ]
  },
  {
   "cell_type": "code",
   "execution_count": 25,
   "id": "3c5ed006-8ecc-4e4c-b4ad-ff6ee56ca170",
   "metadata": {},
   "outputs": [
    {
     "data": {
      "text/plain": [
       "label\n",
       "1    2575\n",
       "0     665\n",
       "Name: count, dtype: int64"
      ]
     },
     "execution_count": 25,
     "metadata": {},
     "output_type": "execute_result"
    }
   ],
   "source": [
    "df['label'].value_counts()"
   ]
  },
  {
   "cell_type": "code",
   "execution_count": 26,
   "id": "6799629c-d432-482a-ad45-4d8f5fa5fd0c",
   "metadata": {},
   "outputs": [
    {
     "data": {
      "text/plain": [
       "count      3240.000000\n",
       "mean      44923.505864\n",
       "std       24772.785120\n",
       "min       10611.000000\n",
       "25%       25798.500000\n",
       "50%       41657.000000\n",
       "75%       61162.000000\n",
       "max      243997.000000\n",
       "Name: length, dtype: float64"
      ]
     },
     "execution_count": 26,
     "metadata": {},
     "output_type": "execute_result"
    }
   ],
   "source": [
    "df['length'].describe()"
   ]
  },
  {
   "cell_type": "code",
   "execution_count": 29,
   "id": "031d992b-8f23-4a92-90e0-f5ba66537846",
   "metadata": {},
   "outputs": [],
   "source": [
    "preprocess_dir = '../data/data_preprocessed/heartsound/preprocessed/'"
   ]
  },
  {
   "cell_type": "code",
   "execution_count": 30,
   "id": "b3e00537-dd90-45a9-bd45-3fddec90820d",
   "metadata": {},
   "outputs": [],
   "source": [
    "np.save(f'{preprocess_dir}heartsound.audio2k.train.npy', \n",
    "        df['audio'], \n",
    "allow_pickle=True)"
   ]
  },
  {
   "cell_type": "code",
   "execution_count": 31,
   "id": "004574d3-d144-4158-bba9-82f064f8406f",
   "metadata": {},
   "outputs": [],
   "source": [
    "np.save(f'{preprocess_dir}heartsound.label_binary.train.npy', \n",
    "        df['label'], \n",
    "allow_pickle=True)"
   ]
  },
  {
   "cell_type": "code",
   "execution_count": null,
   "id": "ed97dcaa-3787-4cb5-9e20-735eb4c24b93",
   "metadata": {},
   "outputs": [],
   "source": []
  }
 ],
 "metadata": {
  "kernelspec": {
   "display_name": "Python 3 (ipykernel)",
   "language": "python",
   "name": "python3"
  },
  "language_info": {
   "codemirror_mode": {
    "name": "ipython",
    "version": 3
   },
   "file_extension": ".py",
   "mimetype": "text/x-python",
   "name": "python",
   "nbconvert_exporter": "python",
   "pygments_lexer": "ipython3",
   "version": "3.9.18"
  }
 },
 "nbformat": 4,
 "nbformat_minor": 5
}
