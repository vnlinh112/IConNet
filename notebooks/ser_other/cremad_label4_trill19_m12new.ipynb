{
 "cells": [
  {
   "cell_type": "code",
   "execution_count": 1,
   "id": "25fd6fe1-9f12-4c8b-88da-cdcb8d1eb481",
   "metadata": {},
   "outputs": [],
   "source": [
    "import torch\n",
    "import torch.nn as nn\n",
    "from torch.nn import  functional as F\n",
    "from torch.nn.parameter import Parameter\n",
    "from tqdm import tqdm\n",
    "import pandas as pd\n",
    "import numpy as np\n",
    "import seaborn as sns\n",
    "import matplotlib.pyplot as plt\n",
    "from mamba_ssm import Mamba"
   ]
  },
  {
   "cell_type": "code",
   "execution_count": 2,
   "id": "57d9dd6a-4609-4490-a2e5-2f2835912304",
   "metadata": {},
   "outputs": [
    {
     "name": "stdout",
     "output_type": "stream",
     "text": [
      "Thu Feb 22 11:46:59 2024       \n",
      "+---------------------------------------------------------------------------------------+\n",
      "| NVIDIA-SMI 545.23.08              Driver Version: 545.23.08    CUDA Version: 12.3     |\n",
      "|-----------------------------------------+----------------------+----------------------+\n",
      "| GPU  Name                 Persistence-M | Bus-Id        Disp.A | Volatile Uncorr. ECC |\n",
      "| Fan  Temp   Perf          Pwr:Usage/Cap |         Memory-Usage | GPU-Util  Compute M. |\n",
      "|                                         |                      |               MIG M. |\n",
      "|=========================================+======================+======================|\n",
      "|   0  NVIDIA GeForce RTX 2080        On  | 00000000:01:00.0  On |                  N/A |\n",
      "| 32%   35C    P8              19W / 215W |   1073MiB /  8192MiB |      3%      Default |\n",
      "|                                         |                      |                  N/A |\n",
      "+-----------------------------------------+----------------------+----------------------+\n",
      "                                                                                         \n",
      "+---------------------------------------------------------------------------------------+\n",
      "| Processes:                                                                            |\n",
      "|  GPU   GI   CI        PID   Type   Process name                            GPU Memory |\n",
      "|        ID   ID                                                             Usage      |\n",
      "|=======================================================================================|\n",
      "|    0   N/A  N/A      1887      G   /usr/lib/xorg/Xorg                          172MiB |\n",
      "|    0   N/A  N/A      2033      G   /usr/bin/gnome-shell                         75MiB |\n",
      "|    0   N/A  N/A   1076924      G   /usr/lib/xorg/Xorg                           35MiB |\n",
      "|    0   N/A  N/A   1080375      G   ...seed-version=20240215-080116.052000       46MiB |\n",
      "|    0   N/A  N/A   1080394      G   ...sion,SpareRendererForSitePerProcess       31MiB |\n",
      "|    0   N/A  N/A   1081577      C   /opt/anaconda3/envs/audio/bin/python        304MiB |\n",
      "|    0   N/A  N/A   2546595      C   /opt/anaconda3/envs/audio/bin/python        268MiB |\n",
      "+---------------------------------------------------------------------------------------+\n"
     ]
    }
   ],
   "source": [
    "!nvidia-smi"
   ]
  },
  {
   "cell_type": "code",
   "execution_count": 3,
   "id": "b25406a1-e19d-4872-819f-3a12a7e7357e",
   "metadata": {},
   "outputs": [],
   "source": [
    "%load_ext autoreload\n",
    "%autoreload 2"
   ]
  },
  {
   "cell_type": "code",
   "execution_count": 4,
   "id": "5c14e1e7-8f89-41a4-93f2-69852b508efc",
   "metadata": {},
   "outputs": [
    {
     "data": {
      "text/plain": [
       "'/home/linh/projects/IConNet'"
      ]
     },
     "execution_count": 4,
     "metadata": {},
     "output_type": "execute_result"
    }
   ],
   "source": [
    "import os\n",
    "os.chdir('..')\n",
    "os.getcwd()"
   ]
  },
  {
   "cell_type": "code",
   "execution_count": 5,
   "id": "9b78b30e-8403-4a57-9700-f9fd275f385b",
   "metadata": {},
   "outputs": [
    {
     "name": "stdout",
     "output_type": "stream",
     "text": [
      "cuda\n"
     ]
    }
   ],
   "source": [
    "os.environ[\"PYTORCH_CUDA_ALLOC_CONF\"] = \"max_split_size_mb:256\"\n",
    "import gc\n",
    "import torch\n",
    "import torch.nn as nn\n",
    "import torch.nn.functional as F\n",
    "import torch.optim as optim\n",
    "import sys\n",
    "import traceback\n",
    "device = torch.device(\"cuda\" if torch.cuda.is_available() else \"cpu\")\n",
    "print(device)"
   ]
  },
  {
   "cell_type": "code",
   "execution_count": 6,
   "id": "643e47f1-abe6-40b0-a8e9-9c433fbf6f1d",
   "metadata": {},
   "outputs": [],
   "source": [
    "from torch.nn.utils.rnn import pad_sequence"
   ]
  },
  {
   "cell_type": "code",
   "execution_count": 7,
   "id": "86c2d105-b231-41c5-9eb3-9a346eaea66e",
   "metadata": {},
   "outputs": [
    {
     "data": {
      "text/plain": [
       "(5144, 12288)"
      ]
     },
     "execution_count": 7,
     "metadata": {},
     "output_type": "execute_result"
    }
   ],
   "source": [
    "data_dir = \"../data/data_preprocessed/crema_d/preprocessed/\" \n",
    "data_x = np.load(f\"{data_dir}crema_d.trill_layer19.train.npy\", allow_pickle=True)\n",
    "data_x.shape"
   ]
  },
  {
   "cell_type": "code",
   "execution_count": 8,
   "id": "5c2ecef3-d1a8-457f-a8a5-81aeb591f230",
   "metadata": {},
   "outputs": [
    {
     "data": {
      "text/plain": [
       "torch.Size([5144, 12288])"
      ]
     },
     "execution_count": 8,
     "metadata": {},
     "output_type": "execute_result"
    }
   ],
   "source": [
    "x_train = [torch.tensor(d.T.real, dtype=torch.float) for d in data_x]\n",
    "x_train = pad_sequence(x_train, batch_first=True)\n",
    "x_train.shape"
   ]
  },
  {
   "cell_type": "code",
   "execution_count": 9,
   "id": "f868c40a-0af1-422f-8353-3959cf113532",
   "metadata": {},
   "outputs": [
    {
     "data": {
      "text/plain": [
       "torch.Size([1556, 12288])"
      ]
     },
     "execution_count": 9,
     "metadata": {},
     "output_type": "execute_result"
    }
   ],
   "source": [
    "data_x = np.load(f\"{data_dir}crema_d.trill_layer19.test.npy\", allow_pickle=True)\n",
    "x_test = [torch.tensor(d.T.real, dtype=torch.float) for d in data_x]\n",
    "x_test = pad_sequence(x_test, batch_first=True)\n",
    "x_test.shape"
   ]
  },
  {
   "cell_type": "code",
   "execution_count": 10,
   "id": "27eab318-8636-46d3-9fa6-08f421f91cbb",
   "metadata": {},
   "outputs": [
    {
     "name": "stdout",
     "output_type": "stream",
     "text": [
      "['NEU' 'HAP' 'SAD' 'ANG' 'FEA' 'DIS']\n"
     ]
    }
   ],
   "source": [
    "classnames = np.load(f'{data_dir}crema_d.classnames.npy', allow_pickle=True)\n",
    "y_train = np.load(f'{data_dir}crema_d.labels.train.npy', allow_pickle=True)\n",
    "y_test = np.load(f'{data_dir}crema_d.labels.test.npy', allow_pickle=True)\n",
    "print(classnames)"
   ]
  },
  {
   "cell_type": "code",
   "execution_count": 11,
   "id": "72878f2e-1340-411a-a8ad-c64a63a241c7",
   "metadata": {},
   "outputs": [
    {
     "data": {
      "text/plain": [
       "array([0, 1, 2, 3, 4, 5], dtype=int16)"
      ]
     },
     "execution_count": 11,
     "metadata": {},
     "output_type": "execute_result"
    }
   ],
   "source": [
    "np.unique(y_test)"
   ]
  },
  {
   "cell_type": "code",
   "execution_count": 12,
   "id": "92a461d1-7026-433e-b13e-c5c7046007c7",
   "metadata": {},
   "outputs": [
    {
     "name": "stdout",
     "output_type": "stream",
     "text": [
      "torch.Size([3387, 12288])\n",
      "torch.Size([1025, 12288])\n"
     ]
    }
   ],
   "source": [
    "labels = ['ANG', 'NEU', 'SAD', 'HAP']\n",
    "\n",
    "def label_filter(idx):\n",
    "    return classnames[idx] in labels\n",
    "\n",
    "def label_to_index(idx):\n",
    "    return labels.index(classnames[idx])\n",
    "    \n",
    "filtered_idx = [label_filter(idx) for idx in y_train]\n",
    "x_train = x_train[filtered_idx]\n",
    "y_train = [label_to_index(idx) for idx in y_train[filtered_idx]]\n",
    "print(x_train.shape)\n",
    "\n",
    "filtered_idx = [label_filter(idx) for idx in y_test]\n",
    "x_test = x_test[filtered_idx]\n",
    "y_test = [label_to_index(idx) for idx in y_test[filtered_idx]]\n",
    "print(x_test.shape)"
   ]
  },
  {
   "cell_type": "code",
   "execution_count": 13,
   "id": "baa3e677-a2f7-487a-84ff-e3da1759a4c2",
   "metadata": {},
   "outputs": [],
   "source": [
    "from torch.utils.data import TensorDataset, DataLoader\n",
    "\n",
    "def create_data_loader(x_train, y_train, \n",
    "                       x_test, y_test, batch_size=32):\n",
    "    x_train = x_train[:, None ,:]\n",
    "    y_train = torch.tensor(y_train, dtype=torch.int64)\n",
    "    x_test = x_test[:, None, :]\n",
    "    y_test = torch.tensor(y_test, dtype=torch.int64)\n",
    "    train_data = TensorDataset(x_train, y_train)\n",
    "    test_data = TensorDataset(x_test, y_test)\n",
    "    \n",
    "    train_loader = DataLoader(train_data, shuffle=True, batch_size=batch_size, drop_last=True)\n",
    "    test_loader = DataLoader(test_data, shuffle=True, batch_size=batch_size, drop_last=True)\n",
    "    return train_loader, test_loader"
   ]
  },
  {
   "cell_type": "code",
   "execution_count": 14,
   "id": "5cbb4205-e090-451e-a0e3-b3be9029740c",
   "metadata": {},
   "outputs": [],
   "source": [
    "batch_size = 32\n",
    "train_loader, test_loader = create_data_loader(x_train, y_train, \n",
    "                       x_test, y_test, batch_size=batch_size)"
   ]
  },
  {
   "cell_type": "code",
   "execution_count": 15,
   "id": "3ee92af0-34eb-4d49-abd3-4c8270084c72",
   "metadata": {},
   "outputs": [
    {
     "name": "stdout",
     "output_type": "stream",
     "text": [
      "name: M12_debug\n",
      "description: FirConv sequential for iemocap\n",
      "fe:\n",
      "  n_block: 2\n",
      "  n_channel:\n",
      "  - 64\n",
      "  - 32\n",
      "  kernel_size:\n",
      "  - 63\n",
      "  - 31\n",
      "  stride:\n",
      "  - 4\n",
      "  - 4\n",
      "  window_k:\n",
      "  - 5\n",
      "  - 9\n",
      "  residual_connection_type: stack\n",
      "  pooling: false\n",
      "  filter_type: firwin\n",
      "  conv_mode: fftconv\n",
      "  norm_type: LocalResponseNorm\n",
      "seq:\n",
      "  n_block: 1\n",
      "  n_channel: 48\n",
      "  pooling: max\n",
      "  use_context: false\n",
      "  bidirectional: false\n",
      "cls:\n",
      "  n_block: 2\n",
      "  n_hidden_dim:\n",
      "  - 256\n",
      "  - 256\n",
      "  norm_type: LayerNorm\n",
      "\n",
      "M12(\n",
      "  (fe_blocks): FeBlocks(\n",
      "    (blocks): ModuleList(\n",
      "      (0-1): 2 x FrontEndBlock(\n",
      "        (block): ModuleDict(\n",
      "          (layer): FirConvLayer(\n",
      "            (conv_layer): ResidualConv1d(\n",
      "              (pad_layer): PadForConv()\n",
      "              (stride_layer): DownsampleLayer(\n",
      "                (pad_right): PadForConv()\n",
      "              )\n",
      "              (norm_layer): CustomNormLayer(\n",
      "                (layer): LocalResponseNorm(2, alpha=0.0001, beta=0.75, k=1.0)\n",
      "              )\n",
      "              (act): NLReLU()\n",
      "            )\n",
      "          )\n",
      "          (downsample): ResidualConv1d(\n",
      "            (pad_layer): PadForConv()\n",
      "            (stride_layer): DownsampleLayer(\n",
      "              (pad_right): PadForConv()\n",
      "            )\n",
      "            (norm_layer): CustomNormLayer(\n",
      "              (layer): LocalResponseNorm(2, alpha=0.0001, beta=0.75, k=1.0)\n",
      "            )\n",
      "            (act): NLReLU()\n",
      "          )\n",
      "        )\n",
      "      )\n",
      "    )\n",
      "  )\n",
      "  (seq_blocks): Seq2OneBlocks(\n",
      "    (blocks): LSTM(97, 48, batch_first=True)\n",
      "  )\n",
      "  (cls_head): Classifier(\n",
      "    (blocks): ModuleList(\n",
      "      (0): Sequential(\n",
      "        (norm): LayerNorm((48,), eps=1e-05, elementwise_affine=True)\n",
      "        (layer): Linear(in_features=48, out_features=256, bias=True)\n",
      "      )\n",
      "      (1): Sequential(\n",
      "        (norm): LayerNorm((256,), eps=1e-05, elementwise_affine=True)\n",
      "        (layer): Linear(in_features=256, out_features=256, bias=True)\n",
      "      )\n",
      "    )\n",
      "    (act): LeakyReLU(negative_slope=0.01)\n",
      "    (output_layer): Linear(in_features=256, out_features=4, bias=True)\n",
      "  )\n",
      ")\n",
      "total parameters: 131172\n",
      "FE parameters: 22976\n"
     ]
    }
   ],
   "source": [
    "from IConNet.nn.model import M12\n",
    "from omegaconf import OmegaConf as ocf\n",
    "from IConNet.visualizer import visualize_model\n",
    "\n",
    "model_config_path = 'config/model/m12_debug.yaml'\n",
    "model_config = ocf.load(model_config_path)\n",
    "print(ocf.to_yaml(model_config))\n",
    "model = M12(config=model_config,\n",
    "           n_input=1, n_output=len(labels))\n",
    "print(model)\n",
    "\n",
    "print(f'total parameters: {visualize_model.count_parameters(model)}')\n",
    "print(f'FE parameters: {visualize_model.count_parameters(model.fe_blocks)}')"
   ]
  },
  {
   "cell_type": "code",
   "execution_count": 16,
   "id": "51668b8a-0ae1-44c6-bbac-026db0ab0129",
   "metadata": {},
   "outputs": [],
   "source": [
    "n_epoch = 10\n",
    "train_losses = []\n",
    "test_accuracy = []\n",
    "optimizer = optim.RAdam(model.parameters(), lr=0.0001)\n",
    "scheduler = optim.lr_scheduler.OneCycleLR(\n",
    "    optimizer, max_lr=0.01,\n",
    "    steps_per_epoch=len(train_loader), epochs=n_epoch)"
   ]
  },
  {
   "cell_type": "code",
   "execution_count": 17,
   "id": "9bd6cc53-2ea7-460f-a953-f1b7a0e746a1",
   "metadata": {},
   "outputs": [],
   "source": [
    "train_loader_length = len(train_loader.dataset)\n",
    "test_loader_length = len(test_loader.dataset)\n",
    "\n",
    "def train(model, epoch, log_interval, \n",
    "          train_losses=train_losses):\n",
    "    model.train()\n",
    "    for batch_idx, (data, target) in enumerate(train_loader):\n",
    "        try:\n",
    "            _mem_before = torch.cuda.memory_allocated()\n",
    "            data = data.to(device)\n",
    "            target = target.to(device)\n",
    "            output = model(data)\n",
    "            del data\n",
    "            gc.collect()\n",
    "            torch.cuda.empty_cache()\n",
    "            loss = F.cross_entropy(output.squeeze(), target)\n",
    "            _mem_during = torch.cuda.memory_allocated()\n",
    "            del target\n",
    "            gc.collect()\n",
    "            torch.cuda.empty_cache()\n",
    "            optimizer.zero_grad()\n",
    "            loss.backward()\n",
    "            nn.utils.clip_grad.clip_grad_norm_(\n",
    "                model.parameters(), 1.0)\n",
    "            optimizer.step()\n",
    "            _mem_after = torch.cuda.memory_allocated()\n",
    "            # print training stats\n",
    "            if batch_idx % log_interval == 0:\n",
    "                print(f\"Train Epoch: {epoch} [{batch_idx * batch_size}/{train_loader_length} ({100. * batch_idx / len(train_loader):.0f}%)]\\tLoss: {loss.item():.6f}\")\n",
    "                print(f'Mem before-during-after: {_mem_before} {_mem_during} {_mem_after}')\n",
    "            # update progress bar\n",
    "            pbar.update(pbar_update)\n",
    "            # record loss\n",
    "            train_losses.append(loss.item())\n",
    "        except Exception as e:\n",
    "            print(f'data: {data.shape} => output: {output.shape} | target: {target.shape}')\n",
    "            traceback.print_exc()\n",
    "\n",
    "@torch.no_grad\n",
    "def test(model, epoch):\n",
    "    model.eval()\n",
    "    correct = 0\n",
    "    total = 0\n",
    "    for data, target in test_loader:\n",
    "        total += len(target)\n",
    "        data = data.to(device)\n",
    "        target = target.to(device)\n",
    "        output = model(data).squeeze()\n",
    "        del data\n",
    "        gc.collect()\n",
    "        torch.cuda.empty_cache()\n",
    "        probs = F.softmax(output, dim=-1)\n",
    "        pred = probs.argmax(dim=-1)\n",
    "        correct += pred.eq(target).sum().item()\n",
    "        del target\n",
    "        gc.collect()\n",
    "        torch.cuda.empty_cache()\n",
    "        pbar.update(pbar_update)\n",
    "    acc = correct / test_loader_length\n",
    "    print(f\"\\nTest Epoch: {epoch}\\tAccuracy: {correct}/{total} ({100. * acc:.0f}%)\\n\")\n",
    "    return acc"
   ]
  },
  {
   "cell_type": "code",
   "execution_count": 18,
   "id": "5b603579-adcb-4716-bbda-bc97a2178bf0",
   "metadata": {
    "scrolled": true
   },
   "outputs": [
    {
     "name": "stderr",
     "output_type": "stream",
     "text": [
      "  0%|▎                                                                                                                                                                             | 0.014598540145985401/10 [00:00<05:45, 34.64s/it]"
     ]
    },
    {
     "name": "stdout",
     "output_type": "stream",
     "text": [
      "Train Epoch: 1 [0/3387 (0%)]\tLoss: 1.430367\n",
      "Mem before-during-after: 529408 507427328 20813312\n"
     ]
    },
    {
     "name": "stderr",
     "output_type": "stream",
     "text": [
      "  3%|█████▍                                                                                                                                                                          | 0.3065693430656933/10 [00:07<03:43, 23.07s/it]"
     ]
    },
    {
     "name": "stdout",
     "output_type": "stream",
     "text": [
      "Train Epoch: 1 [1280/3387 (38%)]\tLoss: 1.378067\n",
      "Mem before-during-after: 20813312 516430848 20813312\n"
     ]
    },
    {
     "name": "stderr",
     "output_type": "stream",
     "text": [
      "  6%|██████████▌                                                                                                                                                                      | 0.598540145985401/10 [00:13<03:37, 23.09s/it]"
     ]
    },
    {
     "name": "stdout",
     "output_type": "stream",
     "text": [
      "Train Epoch: 1 [2560/3387 (76%)]\tLoss: 1.309744\n",
      "Mem before-during-after: 20813312 516430848 20813312\n"
     ]
    },
    {
     "name": "stderr",
     "output_type": "stream",
     "text": [
      " 10%|█████████████████▋                                                                                                                                                              | 1.0072992700729917/10 [00:22<03:11, 21.28s/it]"
     ]
    },
    {
     "name": "stdout",
     "output_type": "stream",
     "text": [
      "\n",
      "Test Epoch: 1\tAccuracy: 449/1024 (44%)\n",
      "\n",
      "Train Epoch: 2 [0/3387 (0%)]\tLoss: 1.329693\n",
      "Mem before-during-after: 20809216 516529152 20813312\n"
     ]
    },
    {
     "name": "stderr",
     "output_type": "stream",
     "text": [
      " 13%|██████████████████████▉                                                                                                                                                         | 1.3065693430656966/10 [00:29<03:16, 22.56s/it]"
     ]
    },
    {
     "name": "stdout",
     "output_type": "stream",
     "text": [
      "Train Epoch: 2 [1280/3387 (38%)]\tLoss: 1.339074\n",
      "Mem before-during-after: 20813312 517053440 20813312\n"
     ]
    },
    {
     "name": "stderr",
     "output_type": "stream",
     "text": [
      " 16%|████████████████████████████▏                                                                                                                                                   | 1.5985401459854087/10 [00:36<03:07, 22.30s/it]"
     ]
    },
    {
     "name": "stdout",
     "output_type": "stream",
     "text": [
      "Train Epoch: 2 [2560/3387 (76%)]\tLoss: 1.220844\n",
      "Mem before-during-after: 20813312 517053440 20813312\n"
     ]
    },
    {
     "name": "stderr",
     "output_type": "stream",
     "text": [
      " 20%|███████████████████████████████████▎                                                                                                                                            | 2.0072992700730055/10 [00:45<02:52, 21.52s/it]"
     ]
    },
    {
     "name": "stdout",
     "output_type": "stream",
     "text": [
      "\n",
      "Test Epoch: 2\tAccuracy: 507/1024 (49%)\n",
      "\n",
      "Train Epoch: 3 [0/3387 (0%)]\tLoss: 1.152749\n",
      "Mem before-during-after: 20809216 516529152 20813312\n"
     ]
    },
    {
     "name": "stderr",
     "output_type": "stream",
     "text": [
      " 23%|████████████████████████████████████████▌                                                                                                                                       | 2.3065693430657013/10 [00:51<02:56, 22.95s/it]"
     ]
    },
    {
     "name": "stdout",
     "output_type": "stream",
     "text": [
      "Train Epoch: 3 [1280/3387 (38%)]\tLoss: 1.144251\n",
      "Mem before-during-after: 20813312 517053440 20813312\n"
     ]
    },
    {
     "name": "stderr",
     "output_type": "stream",
     "text": [
      " 26%|█████████████████████████████████████████████▋                                                                                                                                  | 2.5985401459854045/10 [00:58<02:43, 22.16s/it]"
     ]
    },
    {
     "name": "stdout",
     "output_type": "stream",
     "text": [
      "Train Epoch: 3 [2560/3387 (76%)]\tLoss: 1.042787\n",
      "Mem before-during-after: 20813312 517053440 20813312\n"
     ]
    },
    {
     "name": "stderr",
     "output_type": "stream",
     "text": [
      " 30%|█████████████████████████████████████████████████████▏                                                                                                                           | 3.007299270072989/10 [01:07<02:28, 21.21s/it]"
     ]
    },
    {
     "name": "stdout",
     "output_type": "stream",
     "text": [
      "\n",
      "Test Epoch: 3\tAccuracy: 513/1024 (50%)\n",
      "\n",
      "Train Epoch: 4 [0/3387 (0%)]\tLoss: 1.008220\n",
      "Mem before-during-after: 20809216 516529152 20813312\n"
     ]
    },
    {
     "name": "stderr",
     "output_type": "stream",
     "text": [
      " 33%|██████████████████████████████████████████████████████████▌                                                                                                                      | 3.306569343065685/10 [01:13<02:30, 22.46s/it]"
     ]
    },
    {
     "name": "stdout",
     "output_type": "stream",
     "text": [
      "Train Epoch: 4 [1280/3387 (38%)]\tLoss: 1.144546\n",
      "Mem before-during-after: 20813312 517053440 20813312\n"
     ]
    },
    {
     "name": "stderr",
     "output_type": "stream",
     "text": [
      " 36%|███████████████████████████████████████████████████████████████▋                                                                                                                 | 3.598540145985388/10 [01:20<02:26, 22.84s/it]"
     ]
    },
    {
     "name": "stdout",
     "output_type": "stream",
     "text": [
      "Train Epoch: 4 [2560/3387 (76%)]\tLoss: 1.072496\n",
      "Mem before-during-after: 20813312 517053440 20813312\n"
     ]
    },
    {
     "name": "stderr",
     "output_type": "stream",
     "text": [
      " 40%|██████████████████████████████████████████████████████████████████████▉                                                                                                          | 4.007299270072973/10 [01:29<02:10, 21.82s/it]"
     ]
    },
    {
     "name": "stdout",
     "output_type": "stream",
     "text": [
      "\n",
      "Test Epoch: 4\tAccuracy: 547/1024 (53%)\n",
      "\n",
      "Train Epoch: 5 [0/3387 (0%)]\tLoss: 1.159688\n",
      "Mem before-during-after: 20809216 516529152 20813312\n"
     ]
    },
    {
     "name": "stderr",
     "output_type": "stream",
     "text": [
      " 43%|████████████████████████████████████████████████████████████████████████████▏                                                                                                    | 4.306569343065687/10 [01:35<02:07, 22.43s/it]"
     ]
    },
    {
     "name": "stdout",
     "output_type": "stream",
     "text": [
      "Train Epoch: 5 [1280/3387 (38%)]\tLoss: 1.189128\n",
      "Mem before-during-after: 20813312 517053440 20813312\n"
     ]
    },
    {
     "name": "stderr",
     "output_type": "stream",
     "text": [
      " 46%|█████████████████████████████████████████████████████████████████████████████████▍                                                                                               | 4.598540145985408/10 [01:42<01:59, 22.19s/it]"
     ]
    },
    {
     "name": "stdout",
     "output_type": "stream",
     "text": [
      "Train Epoch: 5 [2560/3387 (76%)]\tLoss: 1.151644\n",
      "Mem before-during-after: 20813312 517053440 20813312\n"
     ]
    },
    {
     "name": "stderr",
     "output_type": "stream",
     "text": [
      " 50%|████████████████████████████████████████████████████████████████████████████████████████▋                                                                                        | 5.007299270073017/10 [01:51<01:45, 21.21s/it]"
     ]
    },
    {
     "name": "stdout",
     "output_type": "stream",
     "text": [
      "\n",
      "Test Epoch: 5\tAccuracy: 516/1024 (50%)\n",
      "\n",
      "Train Epoch: 6 [0/3387 (0%)]\tLoss: 0.880934\n",
      "Mem before-during-after: 20809216 516529152 20813312\n"
     ]
    },
    {
     "name": "stderr",
     "output_type": "stream",
     "text": [
      " 53%|█████████████████████████████████████████████████████████████████████████████████████████████▉                                                                                   | 5.306569343065731/10 [01:57<01:43, 22.10s/it]"
     ]
    },
    {
     "name": "stdout",
     "output_type": "stream",
     "text": [
      "Train Epoch: 6 [1280/3387 (38%)]\tLoss: 1.063957\n",
      "Mem before-during-after: 20813312 517053440 20813312\n"
     ]
    },
    {
     "name": "stderr",
     "output_type": "stream",
     "text": [
      " 56%|███████████████████████████████████████████████████████████████████████████████████████████████████                                                                              | 5.598540145985452/10 [02:04<01:37, 22.14s/it]"
     ]
    },
    {
     "name": "stdout",
     "output_type": "stream",
     "text": [
      "Train Epoch: 6 [2560/3387 (76%)]\tLoss: 0.926676\n",
      "Mem before-during-after: 20813312 517053440 20813312\n"
     ]
    },
    {
     "name": "stderr",
     "output_type": "stream",
     "text": [
      " 60%|██████████████████████████████████████████████████████████████████████████████████████████████████████████▎                                                                      | 6.007299270073061/10 [02:13<01:24, 21.16s/it]"
     ]
    },
    {
     "name": "stdout",
     "output_type": "stream",
     "text": [
      "\n",
      "Test Epoch: 6\tAccuracy: 549/1024 (54%)\n",
      "\n",
      "Train Epoch: 7 [0/3387 (0%)]\tLoss: 0.982103\n",
      "Mem before-during-after: 20809216 516529152 20813312\n"
     ]
    },
    {
     "name": "stderr",
     "output_type": "stream",
     "text": [
      " 63%|███████████████████████████████████████████████████████████████████████████████████████████████████████████████▋                                                                 | 6.306569343065775/10 [02:19<01:23, 22.56s/it]"
     ]
    },
    {
     "name": "stdout",
     "output_type": "stream",
     "text": [
      "Train Epoch: 7 [1280/3387 (38%)]\tLoss: 1.058360\n",
      "Mem before-during-after: 20813312 517053440 20813312\n"
     ]
    },
    {
     "name": "stderr",
     "output_type": "stream",
     "text": [
      " 66%|████████████████████████████████████████████████████████████████████████████████████████████████████████████████████▊                                                            | 6.598540145985496/10 [02:26<01:15, 22.31s/it]"
     ]
    },
    {
     "name": "stdout",
     "output_type": "stream",
     "text": [
      "Train Epoch: 7 [2560/3387 (76%)]\tLoss: 1.141221\n",
      "Mem before-during-after: 20813312 517053440 20813312\n"
     ]
    },
    {
     "name": "stderr",
     "output_type": "stream",
     "text": [
      " 70%|████████████████████████████████████████████████████████████████████████████████████████████████████████████████████████████                                                     | 7.007299270073106/10 [02:35<01:03, 21.12s/it]"
     ]
    },
    {
     "name": "stdout",
     "output_type": "stream",
     "text": [
      "\n",
      "Test Epoch: 7\tAccuracy: 581/1024 (57%)\n",
      "\n",
      "Train Epoch: 8 [0/3387 (0%)]\tLoss: 1.192911\n",
      "Mem before-during-after: 20809216 516529152 20813312\n"
     ]
    },
    {
     "name": "stderr",
     "output_type": "stream",
     "text": [
      " 73%|██████████████████████████████████████████████████████████████████████████████████████████████████████████████████████████████████                                                | 7.30656934306582/10 [02:42<01:01, 22.80s/it]"
     ]
    },
    {
     "name": "stdout",
     "output_type": "stream",
     "text": [
      "Train Epoch: 8 [1280/3387 (38%)]\tLoss: 1.185882\n",
      "Mem before-during-after: 20813312 517053440 20813312\n"
     ]
    },
    {
     "name": "stderr",
     "output_type": "stream",
     "text": [
      " 76%|██████████████████████████████████████████████████████████████████████████████████████████████████████████████████████████████████████▍                                          | 7.598540145985541/10 [02:48<00:54, 22.53s/it]"
     ]
    },
    {
     "name": "stdout",
     "output_type": "stream",
     "text": [
      "Train Epoch: 8 [2560/3387 (76%)]\tLoss: 1.075737\n",
      "Mem before-during-after: 20813312 517053440 20813312\n"
     ]
    },
    {
     "name": "stderr",
     "output_type": "stream",
     "text": [
      " 80%|██████████████████████████████████████████████████████████████████████████████████████████████████████████████████████████████████████████████▌                                   | 8.00729927007315/10 [02:57<00:42, 21.10s/it]"
     ]
    },
    {
     "name": "stdout",
     "output_type": "stream",
     "text": [
      "\n",
      "Test Epoch: 8\tAccuracy: 585/1024 (57%)\n",
      "\n",
      "Train Epoch: 9 [0/3387 (0%)]\tLoss: 0.951369\n",
      "Mem before-during-after: 20809216 516529152 20813312\n"
     ]
    },
    {
     "name": "stderr",
     "output_type": "stream",
     "text": [
      " 83%|███████████████████████████████████████████████████████████████████████████████████████████████████████████████████████████████████████████████████                              | 8.306569343065863/10 [03:04<00:37, 22.13s/it]"
     ]
    },
    {
     "name": "stdout",
     "output_type": "stream",
     "text": [
      "Train Epoch: 9 [1280/3387 (38%)]\tLoss: 1.111013\n",
      "Mem before-during-after: 20813312 517053440 20813312\n"
     ]
    },
    {
     "name": "stderr",
     "output_type": "stream",
     "text": [
      " 86%|████████████████████████████████████████████████████████████████████████████████████████████████████████████████████████████████████████████████████████▏                        | 8.598540145985584/10 [03:10<00:31, 22.22s/it]"
     ]
    },
    {
     "name": "stdout",
     "output_type": "stream",
     "text": [
      "Train Epoch: 9 [2560/3387 (76%)]\tLoss: 0.775665\n",
      "Mem before-during-after: 20813312 517053440 20813312\n"
     ]
    },
    {
     "name": "stderr",
     "output_type": "stream",
     "text": [
      " 90%|███████████████████████████████████████████████████████████████████████████████████████████████████████████████████████████████████████████████████████████████▍                 | 9.007299270073194/10 [03:19<00:21, 21.25s/it]"
     ]
    },
    {
     "name": "stdout",
     "output_type": "stream",
     "text": [
      "\n",
      "Test Epoch: 9\tAccuracy: 592/1024 (58%)\n",
      "\n",
      "Train Epoch: 10 [0/3387 (0%)]\tLoss: 0.850180\n",
      "Mem before-during-after: 20809216 516529152 20813312\n"
     ]
    },
    {
     "name": "stderr",
     "output_type": "stream",
     "text": [
      " 93%|████████████████████████████████████████████████████████████████████████████████████████████████████████████████████████████████████████████████████████████████████▋            | 9.306569343065908/10 [03:26<00:15, 22.99s/it]"
     ]
    },
    {
     "name": "stdout",
     "output_type": "stream",
     "text": [
      "Train Epoch: 10 [1280/3387 (38%)]\tLoss: 0.938752\n",
      "Mem before-during-after: 20813312 517053440 20813312\n"
     ]
    },
    {
     "name": "stderr",
     "output_type": "stream",
     "text": [
      " 96%|█████████████████████████████████████████████████████████████████████████████████████████████████████████████████████████████████████████████████████████████████████████▉       | 9.598540145985629/10 [03:32<00:08, 22.10s/it]"
     ]
    },
    {
     "name": "stdout",
     "output_type": "stream",
     "text": [
      "Train Epoch: 10 [2560/3387 (76%)]\tLoss: 1.277273\n",
      "Mem before-during-after: 20813312 517053440 20813312\n"
     ]
    },
    {
     "name": "stderr",
     "output_type": "stream",
     "text": [
      "100%|████████████████████████████████████████████████████████████████████████████████████████████████████████████████████████████████████████████████████████████████████████████████▊| 9.992700729927252/10 [03:41<00:00, 20.46s/it]/opt/anaconda3/envs/audio/lib/python3.9/site-packages/tqdm/std.py:639: TqdmWarning: clamping frac to range [0, 1]\n",
      "  full_bar = Bar(frac,\n",
      "100%|████████████████████████████████████████████████████████████████████████████████████████████████████████████████████████████████████████████████████████████████████████████████| 10.000000000000245/10 [03:41<00:00, 22.12s/it]"
     ]
    },
    {
     "name": "stdout",
     "output_type": "stream",
     "text": [
      "\n",
      "Test Epoch: 10\tAccuracy: 587/1024 (57%)\n",
      "\n"
     ]
    },
    {
     "name": "stderr",
     "output_type": "stream",
     "text": [
      "\n"
     ]
    }
   ],
   "source": [
    "log_interval = 40\n",
    "pbar_update = 1 / (len(train_loader) + len(test_loader))\n",
    "model.to(device)\n",
    "with tqdm(total=n_epoch) as pbar:\n",
    "    for epoch in range(1, n_epoch + 1):\n",
    "        train(model, epoch, log_interval, train_losses)\n",
    "        acc = test(model, epoch)\n",
    "        test_accuracy += [acc]\n",
    "        scheduler.step()"
   ]
  },
  {
   "cell_type": "code",
   "execution_count": 19,
   "id": "1fa1ecac-3026-4018-a3c8-520eeee6b391",
   "metadata": {},
   "outputs": [
    {
     "data": {
      "text/plain": [
       "[<matplotlib.lines.Line2D at 0x7fd18da48850>]"
      ]
     },
     "execution_count": 19,
     "metadata": {},
     "output_type": "execute_result"
    },
    {
     "data": {
      "image/png": "[encoded data removed]",
      "text/plain": [
       "<Figure size 640x480 with 1 Axes>"
      ]
     },
     "metadata": {},
     "output_type": "display_data"
    }
   ],
   "source": [
    "plt.plot(train_losses)"
   ]
  },
  {
   "cell_type": "code",
   "execution_count": 20,
   "id": "9ed3d4fc-aae8-4c7b-961b-33f7d98c5768",
   "metadata": {},
   "outputs": [
    {
     "data": {
      "text/plain": [
       "[<matplotlib.lines.Line2D at 0x7fd18c176580>]"
      ]
     },
     "execution_count": 20,
     "metadata": {},
     "output_type": "execute_result"
    },
    {
     "data": {
      "image/png": "[encoded data removed]",
      "text/plain": [
       "<Figure size 640x480 with 1 Axes>"
      ]
     },
     "metadata": {},
     "output_type": "display_data"
    }
   ],
   "source": [
    "plt.plot(test_accuracy)"
   ]
  },
  {
   "cell_type": "code",
   "execution_count": 21,
   "id": "bc41ed22-000d-43b8-beaf-f19ada14d45b",
   "metadata": {},
   "outputs": [],
   "source": [
    "from torchmetrics.classification import (\n",
    "    MulticlassAccuracy, MulticlassPrecision, \n",
    "    MulticlassRecall, MulticlassF1Score, \n",
    "    MulticlassConfusionMatrix,\n",
    "    MulticlassAUROC\n",
    ")\n",
    "from torchmetrics import MetricCollection\n",
    "from pprint import pprint\n",
    "\n",
    "@torch.no_grad\n",
    "def report_metrics(model, labels=labels, \n",
    "                   test_loader=test_loader, device=device):\n",
    "    n = len(labels)\n",
    "    metrics = MetricCollection({\n",
    "        'acc_unweighted': MulticlassAccuracy(num_classes=n), \n",
    "        'acc_weighted': MulticlassAccuracy(num_classes=n, average='weighted'), \n",
    "        \n",
    "        'f1s': MulticlassF1Score(num_classes=n),  \n",
    "        'uar': MulticlassRecall(num_classes=n, average='macro'), \n",
    "        'wap': MulticlassPrecision(num_classes=n, average='weighted'),\n",
    "        \n",
    "        'f1s_detail': MulticlassF1Score(num_classes=n, average=None),  \n",
    "        'acc_detail': MulticlassAccuracy(num_classes=n, average=None), \n",
    "        'precision_detail': MulticlassPrecision(num_classes=n, average=None),\n",
    "        'recall_detail': MulticlassRecall(num_classes=n, average=None), \n",
    "        'rocauc': MulticlassAUROC(num_classes=n, average=None, thresholds=None)\n",
    "    }\n",
    "    # , compute_groups=[['acc', 'f1s', 'wap'], ['uap', 'uar']]\n",
    "                              ).to(device)\n",
    "    confusion_matrix = MulticlassConfusionMatrix(num_classes=n).to(device)\n",
    "    model.eval()\n",
    "    correct = 0\n",
    "    total = 0\n",
    "    for data, target in test_loader:\n",
    "        total += len(target)\n",
    "        \n",
    "        data = data.to(device)\n",
    "        target = target.to(device)\n",
    "        output = model(data).squeeze()\n",
    "        del data\n",
    "        gc.collect()\n",
    "        torch.cuda.empty_cache()\n",
    "        probs = F.softmax(output, dim=-1)\n",
    "        pred = probs.argmax(dim=-1)\n",
    "        correct += pred.eq(target).sum().item()\n",
    "        \n",
    "        metrics.update(probs, target)\n",
    "        confusion_matrix.update(pred, target)\n",
    "        \n",
    "        del target\n",
    "        gc.collect()\n",
    "        torch.cuda.empty_cache()\n",
    "        pbar.update(pbar_update)\n",
    "    print(f'Correct: {correct}/{total} ({correct/total:.4f})')\n",
    "    return metrics, confusion_matrix"
   ]
  },
  {
   "cell_type": "code",
   "execution_count": 22,
   "id": "b9d716e4-f0e0-49a4-82df-fbece96b0ab4",
   "metadata": {},
   "outputs": [
    {
     "name": "stdout",
     "output_type": "stream",
     "text": [
      "Correct: 586/1024 (0.5723)\n",
      "{'acc_detail': tensor([0.7481, 0.3904, 0.6642, 0.4604], device='cuda:0'),\n",
      " 'acc_unweighted': tensor(0.5657, device='cuda:0'),\n",
      " 'acc_weighted': tensor(0.5723, device='cuda:0'),\n",
      " 'f1s': tensor(0.5681, device='cuda:0'),\n",
      " 'f1s_detail': tensor([0.7082, 0.4208, 0.7169, 0.4266], device='cuda:0'),\n",
      " 'precision_detail': tensor([0.6723, 0.4564, 0.7788, 0.3974], device='cuda:0'),\n",
      " 'recall_detail': tensor([0.7481, 0.3904, 0.6642, 0.4604], device='cuda:0'),\n",
      " 'rocauc': tensor([0.9132, 0.7510, 0.9196, 0.7287], device='cuda:0'),\n",
      " 'uar': tensor(0.5657, device='cuda:0'),\n",
      " 'wap': tensor(0.5806, device='cuda:0')}\n"
     ]
    },
    {
     "data": {
      "text/plain": [
       "tensor([[199,   5,   0,  62],\n",
       "        [ 10,  89,  34,  95],\n",
       "        [  1,  60, 176,  28],\n",
       "        [ 86,  41,  16, 122]], device='cuda:0')"
      ]
     },
     "execution_count": 22,
     "metadata": {},
     "output_type": "execute_result"
    }
   ],
   "source": [
    "metrics, confusion_matrix = report_metrics(\n",
    "    model, labels=labels, device=device)\n",
    "pprint(metrics.compute())\n",
    "confusion_matrix.compute()"
   ]
  },
  {
   "cell_type": "code",
   "execution_count": 23,
   "id": "66c3b02f-d05b-42b5-a250-ef26a35713c7",
   "metadata": {},
   "outputs": [],
   "source": [
    "model_path = '../models_cremad4_trill19/cremad_label4_trill19_m12new_10epochs.pt' \n",
    "torch.save(model.state_dict(), model_path)"
   ]
  },
  {
   "cell_type": "code",
   "execution_count": 24,
   "id": "8d309044-8e20-4cb5-b96e-2a0e97c5d08c",
   "metadata": {
    "scrolled": true
   },
   "outputs": [
    {
     "name": "stderr",
     "output_type": "stream",
     "text": [
      " 22%|██████████████████████████████████████▋                                                                                                                                         | 11.007299270073283/50 [04:33<15:39, 24.10s/it]"
     ]
    },
    {
     "name": "stdout",
     "output_type": "stream",
     "text": [
      "\n",
      "Test Epoch: 21\tAccuracy: 643/1024 (63%)\n",
      "\n",
      "saved model: ../models_cremad4_trill19/cremad_label4_trill19_m12new_best_21epoch.pt\n",
      "Train Epoch: 22 [0/3387 (0%)]\tLoss: 0.782365\n",
      "Mem before-during-after: 20864512 516584448 20868608\n"
     ]
    },
    {
     "name": "stderr",
     "output_type": "stream",
     "text": [
      " 23%|███████████████████████████████████████▊                                                                                                                                        | 11.306569343065997/50 [04:41<16:18, 25.30s/it]"
     ]
    },
    {
     "name": "stdout",
     "output_type": "stream",
     "text": [
      "Train Epoch: 22 [1280/3387 (38%)]\tLoss: 0.802272\n",
      "Mem before-during-after: 20868608 517108736 20868608\n"
     ]
    },
    {
     "name": "stderr",
     "output_type": "stream",
     "text": [
      " 23%|████████████████████████████████████████▊                                                                                                                                       | 11.598540145985718/50 [04:48<16:17, 25.45s/it]"
     ]
    },
    {
     "name": "stdout",
     "output_type": "stream",
     "text": [
      "Train Epoch: 22 [2560/3387 (76%)]\tLoss: 1.043604\n",
      "Mem before-during-after: 20868608 517108736 20868608\n"
     ]
    },
    {
     "name": "stderr",
     "output_type": "stream",
     "text": [
      " 24%|██████████████████████████████████████████▎                                                                                                                                     | 12.007299270073327/50 [04:58<15:29, 24.46s/it]"
     ]
    },
    {
     "name": "stdout",
     "output_type": "stream",
     "text": [
      "\n",
      "Test Epoch: 22\tAccuracy: 655/1024 (64%)\n",
      "\n",
      "saved model: ../models_cremad4_trill19/cremad_label4_trill19_m12new_best_22epoch.pt\n",
      "Train Epoch: 23 [0/3387 (0%)]\tLoss: 0.996385\n",
      "Mem before-during-after: 20864512 516584448 20868608\n"
     ]
    },
    {
     "name": "stderr",
     "output_type": "stream",
     "text": [
      " 25%|███████████████████████████████████████████▎                                                                                                                                    | 12.306569343066041/50 [05:06<15:54, 25.33s/it]"
     ]
    },
    {
     "name": "stdout",
     "output_type": "stream",
     "text": [
      "Train Epoch: 23 [1280/3387 (38%)]\tLoss: 1.005159\n",
      "Mem before-during-after: 20868608 517108736 20868608\n"
     ]
    },
    {
     "name": "stderr",
     "output_type": "stream",
     "text": [
      " 25%|████████████████████████████████████████████▎                                                                                                                                   | 12.598540145985762/50 [05:13<15:45, 25.28s/it]"
     ]
    },
    {
     "name": "stdout",
     "output_type": "stream",
     "text": [
      "Train Epoch: 23 [2560/3387 (76%)]\tLoss: 0.912285\n",
      "Mem before-during-after: 20868608 517108736 20868608\n"
     ]
    },
    {
     "name": "stderr",
     "output_type": "stream",
     "text": [
      " 26%|█████████████████████████████████████████████▊                                                                                                                                  | 13.007299270073371/50 [05:23<14:50, 24.08s/it]"
     ]
    },
    {
     "name": "stdout",
     "output_type": "stream",
     "text": [
      "\n",
      "Test Epoch: 23\tAccuracy: 605/1024 (59%)\n",
      "\n",
      "Train Epoch: 24 [0/3387 (0%)]\tLoss: 1.195190\n",
      "Mem before-during-after: 20864512 516584448 20868608\n"
     ]
    },
    {
     "name": "stderr",
     "output_type": "stream",
     "text": [
      " 27%|██████████████████████████████████████████████▊                                                                                                                                 | 13.306569343066085/50 [05:31<15:19, 25.06s/it]"
     ]
    },
    {
     "name": "stdout",
     "output_type": "stream",
     "text": [
      "Train Epoch: 24 [1280/3387 (38%)]\tLoss: 0.795774\n",
      "Mem before-during-after: 20868608 517108736 20868608\n"
     ]
    },
    {
     "name": "stderr",
     "output_type": "stream",
     "text": [
      " 27%|███████████████████████████████████████████████▊                                                                                                                                | 13.598540145985806/50 [05:39<15:36, 25.72s/it]"
     ]
    },
    {
     "name": "stdout",
     "output_type": "stream",
     "text": [
      "Train Epoch: 24 [2560/3387 (76%)]\tLoss: 0.825303\n",
      "Mem before-during-after: 20868608 517108736 20868608\n"
     ]
    },
    {
     "name": "stderr",
     "output_type": "stream",
     "text": [
      " 28%|█████████████████████████████████████████████████▎                                                                                                                              | 14.007299270073416/50 [05:49<14:39, 24.44s/it]"
     ]
    },
    {
     "name": "stdout",
     "output_type": "stream",
     "text": [
      "\n",
      "Test Epoch: 24\tAccuracy: 506/1024 (49%)\n",
      "\n",
      "Train Epoch: 25 [0/3387 (0%)]\tLoss: 0.946442\n",
      "Mem before-during-after: 20864512 516584448 20868608\n"
     ]
    },
    {
     "name": "stderr",
     "output_type": "stream",
     "text": [
      " 29%|██████████████████████████████████████████████████▋                                                                                                                              | 14.30656934306613/50 [05:56<15:16, 25.67s/it]"
     ]
    },
    {
     "name": "stdout",
     "output_type": "stream",
     "text": [
      "Train Epoch: 25 [1280/3387 (38%)]\tLoss: 0.776957\n",
      "Mem before-during-after: 20868608 517108736 20868608\n"
     ]
    },
    {
     "name": "stderr",
     "output_type": "stream",
     "text": [
      " 29%|███████████████████████████████████████████████████▋                                                                                                                             | 14.59854014598585/50 [06:04<15:03, 25.51s/it]"
     ]
    },
    {
     "name": "stdout",
     "output_type": "stream",
     "text": [
      "Train Epoch: 25 [2560/3387 (76%)]\tLoss: 0.906307\n",
      "Mem before-during-after: 20868608 517108736 20868608\n"
     ]
    },
    {
     "name": "stderr",
     "output_type": "stream",
     "text": [
      " 30%|█████████████████████████████████████████████████████▏                                                                                                                           | 15.00729927007346/50 [06:14<14:13, 24.39s/it]"
     ]
    },
    {
     "name": "stdout",
     "output_type": "stream",
     "text": [
      "\n",
      "Test Epoch: 25\tAccuracy: 586/1024 (57%)\n",
      "\n",
      "Train Epoch: 26 [0/3387 (0%)]\tLoss: 0.733635\n",
      "Mem before-during-after: 20864512 516584448 20868608\n"
     ]
    },
    {
     "name": "stderr",
     "output_type": "stream",
     "text": [
      " 31%|█████████████████████████████████████████████████████▉                                                                                                                          | 15.306569343066174/50 [06:21<14:50, 25.66s/it]"
     ]
    },
    {
     "name": "stdout",
     "output_type": "stream",
     "text": [
      "Train Epoch: 26 [1280/3387 (38%)]\tLoss: 0.879414\n",
      "Mem before-during-after: 20868608 517108736 20868608\n"
     ]
    },
    {
     "name": "stderr",
     "output_type": "stream",
     "text": [
      " 31%|██████████████████████████████████████████████████████▉                                                                                                                         | 15.598540145985895/50 [06:29<14:32, 25.35s/it]"
     ]
    },
    {
     "name": "stdout",
     "output_type": "stream",
     "text": [
      "Train Epoch: 26 [2560/3387 (76%)]\tLoss: 0.698320\n",
      "Mem before-during-after: 20868608 517108736 20868608\n"
     ]
    },
    {
     "name": "stderr",
     "output_type": "stream",
     "text": [
      " 32%|████████████████████████████████████████████████████████▎                                                                                                                       | 16.007299270073503/50 [06:39<13:26, 23.73s/it]"
     ]
    },
    {
     "name": "stdout",
     "output_type": "stream",
     "text": [
      "\n",
      "Test Epoch: 26\tAccuracy: 605/1024 (59%)\n",
      "\n",
      "Train Epoch: 27 [0/3387 (0%)]\tLoss: 0.878343\n",
      "Mem before-during-after: 20864512 516584448 20868608\n"
     ]
    },
    {
     "name": "stderr",
     "output_type": "stream",
     "text": [
      " 33%|█████████████████████████████████████████████████████████▍                                                                                                                      | 16.306569343066144/50 [06:46<13:58, 24.89s/it]"
     ]
    },
    {
     "name": "stdout",
     "output_type": "stream",
     "text": [
      "Train Epoch: 27 [1280/3387 (38%)]\tLoss: 0.978801\n",
      "Mem before-during-after: 20868608 517108736 20868608\n"
     ]
    },
    {
     "name": "stderr",
     "output_type": "stream",
     "text": [
      " 33%|██████████████████████████████████████████████████████████▍                                                                                                                     | 16.598540145985794/50 [06:54<14:18, 25.69s/it]"
     ]
    },
    {
     "name": "stdout",
     "output_type": "stream",
     "text": [
      "Train Epoch: 27 [2560/3387 (76%)]\tLoss: 1.217775\n",
      "Mem before-during-after: 20868608 517108736 20868608\n"
     ]
    },
    {
     "name": "stderr",
     "output_type": "stream",
     "text": [
      " 34%|███████████████████████████████████████████████████████████▊                                                                                                                    | 17.007299270073304/50 [07:04<13:28, 24.51s/it]"
     ]
    },
    {
     "name": "stdout",
     "output_type": "stream",
     "text": [
      "\n",
      "Test Epoch: 27\tAccuracy: 638/1024 (62%)\n",
      "\n",
      "Train Epoch: 28 [0/3387 (0%)]\tLoss: 0.761524\n",
      "Mem before-during-after: 20864512 516584448 20868608\n"
     ]
    },
    {
     "name": "stderr",
     "output_type": "stream",
     "text": [
      " 35%|████████████████████████████████████████████████████████████▉                                                                                                                   | 17.306569343065945/50 [07:11<13:43, 25.18s/it]"
     ]
    },
    {
     "name": "stdout",
     "output_type": "stream",
     "text": [
      "Train Epoch: 28 [1280/3387 (38%)]\tLoss: 1.023829\n",
      "Mem before-during-after: 20868608 517108736 20868608\n"
     ]
    },
    {
     "name": "stderr",
     "output_type": "stream",
     "text": [
      " 35%|█████████████████████████████████████████████████████████████▉                                                                                                                  | 17.598540145985595/50 [07:19<13:25, 24.86s/it]"
     ]
    },
    {
     "name": "stdout",
     "output_type": "stream",
     "text": [
      "Train Epoch: 28 [2560/3387 (76%)]\tLoss: 0.666140\n",
      "Mem before-during-after: 20868608 517108736 20868608\n"
     ]
    },
    {
     "name": "stderr",
     "output_type": "stream",
     "text": [
      " 36%|███████████████████████████████████████████████████████████████▍                                                                                                                | 18.007299270073105/50 [07:28<12:44, 23.88s/it]"
     ]
    },
    {
     "name": "stdout",
     "output_type": "stream",
     "text": [
      "\n",
      "Test Epoch: 28\tAccuracy: 647/1024 (63%)\n",
      "\n",
      "Train Epoch: 29 [0/3387 (0%)]\tLoss: 0.775436\n",
      "Mem before-during-after: 20864512 516584448 20868608\n"
     ]
    },
    {
     "name": "stderr",
     "output_type": "stream",
     "text": [
      " 37%|████████████████████████████████████████████████████████████████▍                                                                                                               | 18.306569343065746/50 [07:36<13:13, 25.04s/it]"
     ]
    },
    {
     "name": "stdout",
     "output_type": "stream",
     "text": [
      "Train Epoch: 29 [1280/3387 (38%)]\tLoss: 0.935648\n",
      "Mem before-during-after: 20868608 517108736 20868608\n"
     ]
    },
    {
     "name": "stderr",
     "output_type": "stream",
     "text": [
      " 37%|█████████████████████████████████████████████████████████████████▍                                                                                                              | 18.598540145985396/50 [07:43<13:20, 25.50s/it]"
     ]
    },
    {
     "name": "stdout",
     "output_type": "stream",
     "text": [
      "Train Epoch: 29 [2560/3387 (76%)]\tLoss: 0.986236\n",
      "Mem before-during-after: 20868608 517108736 20868608\n"
     ]
    },
    {
     "name": "stderr",
     "output_type": "stream",
     "text": [
      " 38%|██████████████████████████████████████████████████████████████████▉                                                                                                             | 19.007299270072906/50 [07:53<12:27, 24.10s/it]"
     ]
    },
    {
     "name": "stdout",
     "output_type": "stream",
     "text": [
      "\n",
      "Test Epoch: 29\tAccuracy: 614/1024 (60%)\n",
      "\n",
      "Train Epoch: 30 [0/3387 (0%)]\tLoss: 1.014664\n",
      "Mem before-during-after: 20864512 516584448 20868608\n"
     ]
    },
    {
     "name": "stderr",
     "output_type": "stream",
     "text": [
      " 39%|███████████████████████████████████████████████████████████████████▉                                                                                                            | 19.306569343065547/50 [08:01<12:49, 25.08s/it]"
     ]
    },
    {
     "name": "stdout",
     "output_type": "stream",
     "text": [
      "Train Epoch: 30 [1280/3387 (38%)]\tLoss: 0.705876\n",
      "Mem before-during-after: 20868608 517108736 20868608\n"
     ]
    },
    {
     "name": "stderr",
     "output_type": "stream",
     "text": [
      " 39%|████████████████████████████████████████████████████████████████████▉                                                                                                           | 19.598540145985197/50 [08:08<13:04, 25.82s/it]"
     ]
    },
    {
     "name": "stdout",
     "output_type": "stream",
     "text": [
      "Train Epoch: 30 [2560/3387 (76%)]\tLoss: 0.925413\n",
      "Mem before-during-after: 20868608 517108736 20868608\n"
     ]
    },
    {
     "name": "stderr",
     "output_type": "stream",
     "text": [
      " 40%|██████████████████████████████████████████████████████████████████████▍                                                                                                         | 20.007299270072707/50 [08:18<11:56, 23.87s/it]"
     ]
    },
    {
     "name": "stdout",
     "output_type": "stream",
     "text": [
      "\n",
      "Test Epoch: 30\tAccuracy: 643/1024 (63%)\n",
      "\n",
      "Train Epoch: 31 [0/3387 (0%)]\tLoss: 0.882185\n",
      "Mem before-during-after: 20864512 516584448 20868608\n"
     ]
    },
    {
     "name": "stderr",
     "output_type": "stream",
     "text": [
      " 41%|███████████████████████████████████████████████████████████████████████▍                                                                                                        | 20.306569343065348/50 [08:26<12:25, 25.11s/it]"
     ]
    },
    {
     "name": "stdout",
     "output_type": "stream",
     "text": [
      "Train Epoch: 31 [1280/3387 (38%)]\tLoss: 0.774467\n",
      "Mem before-during-after: 20868608 517108736 20868608\n"
     ]
    },
    {
     "name": "stderr",
     "output_type": "stream",
     "text": [
      " 41%|████████████████████████████████████████████████████████████████████████▌                                                                                                       | 20.598540145984998/50 [08:33<12:45, 26.03s/it]"
     ]
    },
    {
     "name": "stdout",
     "output_type": "stream",
     "text": [
      "Train Epoch: 31 [2560/3387 (76%)]\tLoss: 0.902733\n",
      "Mem before-during-after: 20868608 517108736 20868608\n"
     ]
    },
    {
     "name": "stderr",
     "output_type": "stream",
     "text": [
      " 42%|█████████████████████████████████████████████████████████████████████████▉                                                                                                      | 21.007299270072508/50 [08:44<11:57, 24.74s/it]"
     ]
    },
    {
     "name": "stdout",
     "output_type": "stream",
     "text": [
      "\n",
      "Test Epoch: 31\tAccuracy: 633/1024 (62%)\n",
      "\n",
      "Train Epoch: 32 [0/3387 (0%)]\tLoss: 0.777728\n",
      "Mem before-during-after: 20864512 516584448 20868608\n"
     ]
    },
    {
     "name": "stderr",
     "output_type": "stream",
     "text": [
      " 43%|███████████████████████████████████████████████████████████████████████████▍                                                                                                     | 21.30656934306515/50 [08:51<11:56, 24.98s/it]"
     ]
    },
    {
     "name": "stdout",
     "output_type": "stream",
     "text": [
      "Train Epoch: 32 [1280/3387 (38%)]\tLoss: 0.820420\n",
      "Mem before-during-after: 20868608 517108736 20868608\n"
     ]
    },
    {
     "name": "stderr",
     "output_type": "stream",
     "text": [
      " 43%|████████████████████████████████████████████████████████████████████████████▉                                                                                                     | 21.5985401459848/50 [08:58<11:55, 25.19s/it]"
     ]
    },
    {
     "name": "stdout",
     "output_type": "stream",
     "text": [
      "Train Epoch: 32 [2560/3387 (76%)]\tLoss: 0.838287\n",
      "Mem before-during-after: 20868608 517108736 20868608\n"
     ]
    },
    {
     "name": "stderr",
     "output_type": "stream",
     "text": [
      " 44%|█████████████████████████████████████████████████████████████████████████████▉                                                                                                   | 22.00729927007231/50 [09:08<11:12, 24.03s/it]"
     ]
    },
    {
     "name": "stdout",
     "output_type": "stream",
     "text": [
      "\n",
      "Test Epoch: 32\tAccuracy: 641/1024 (63%)\n",
      "\n",
      "Train Epoch: 33 [0/3387 (0%)]\tLoss: 0.886376\n",
      "Mem before-during-after: 20864512 516584448 20868608\n"
     ]
    },
    {
     "name": "stderr",
     "output_type": "stream",
     "text": [
      " 45%|██████████████████████████████████████████████████████████████████████████████▉                                                                                                  | 22.30656934306495/50 [09:16<11:59, 25.98s/it]"
     ]
    },
    {
     "name": "stdout",
     "output_type": "stream",
     "text": [
      "Train Epoch: 33 [1280/3387 (38%)]\tLoss: 0.760069\n",
      "Mem before-during-after: 20868608 517108736 20868608\n"
     ]
    },
    {
     "name": "stderr",
     "output_type": "stream",
     "text": [
      " 45%|████████████████████████████████████████████████████████████████████████████████▍                                                                                                 | 22.5985401459846/50 [09:23<11:31, 25.23s/it]"
     ]
    },
    {
     "name": "stdout",
     "output_type": "stream",
     "text": [
      "Train Epoch: 33 [2560/3387 (76%)]\tLoss: 0.783355\n",
      "Mem before-during-after: 20868608 517108736 20868608\n"
     ]
    },
    {
     "name": "stderr",
     "output_type": "stream",
     "text": [
      " 46%|█████████████████████████████████████████████████████████████████████████████████▍                                                                                               | 23.00729927007211/50 [09:33<10:46, 23.95s/it]"
     ]
    },
    {
     "name": "stdout",
     "output_type": "stream",
     "text": [
      "\n",
      "Test Epoch: 33\tAccuracy: 626/1024 (61%)\n",
      "\n",
      "Train Epoch: 34 [0/3387 (0%)]\tLoss: 0.871098\n",
      "Mem before-during-after: 20864512 516584448 20868608\n"
     ]
    },
    {
     "name": "stderr",
     "output_type": "stream",
     "text": [
      " 47%|██████████████████████████████████████████████████████████████████████████████████▌                                                                                              | 23.30656934306475/50 [09:41<11:13, 25.23s/it]"
     ]
    },
    {
     "name": "stdout",
     "output_type": "stream",
     "text": [
      "Train Epoch: 34 [1280/3387 (38%)]\tLoss: 0.771853\n",
      "Mem before-during-after: 20868608 517108736 20868608\n"
     ]
    },
    {
     "name": "stderr",
     "output_type": "stream",
     "text": [
      " 47%|████████████████████████████████████████████████████████████████████████████████████                                                                                              | 23.5985401459844/50 [09:48<11:03, 25.14s/it]"
     ]
    },
    {
     "name": "stdout",
     "output_type": "stream",
     "text": [
      "Train Epoch: 34 [2560/3387 (76%)]\tLoss: 0.843833\n",
      "Mem before-during-after: 20868608 517108736 20868608\n"
     ]
    },
    {
     "name": "stderr",
     "output_type": "stream",
     "text": [
      " 48%|████████████████████████████████████████████████████████████████████████████████████▉                                                                                            | 24.00729927007191/50 [09:58<10:29, 24.21s/it]"
     ]
    },
    {
     "name": "stdout",
     "output_type": "stream",
     "text": [
      "\n",
      "Test Epoch: 34\tAccuracy: 637/1024 (62%)\n",
      "\n",
      "Train Epoch: 35 [0/3387 (0%)]\tLoss: 1.023746\n",
      "Mem before-during-after: 20864512 516584448 20868608\n"
     ]
    },
    {
     "name": "stderr",
     "output_type": "stream",
     "text": [
      " 49%|█████████████████████████████████████████████████████████████████████████████████████▌                                                                                          | 24.306569343064552/50 [10:05<10:44, 25.09s/it]"
     ]
    },
    {
     "name": "stdout",
     "output_type": "stream",
     "text": [
      "Train Epoch: 35 [1280/3387 (38%)]\tLoss: 0.747802\n",
      "Mem before-during-after: 20868608 517108736 20868608\n"
     ]
    },
    {
     "name": "stderr",
     "output_type": "stream",
     "text": [
      " 49%|██████████████████████████████████████████████████████████████████████████████████████▌                                                                                         | 24.598540145984202/50 [10:13<10:38, 25.12s/it]"
     ]
    },
    {
     "name": "stdout",
     "output_type": "stream",
     "text": [
      "Train Epoch: 35 [2560/3387 (76%)]\tLoss: 0.961935\n",
      "Mem before-during-after: 20868608 517108736 20868608\n"
     ]
    },
    {
     "name": "stderr",
     "output_type": "stream",
     "text": [
      " 50%|████████████████████████████████████████████████████████████████████████████████████████                                                                                        | 25.007299270071712/50 [10:23<10:00, 24.01s/it]"
     ]
    },
    {
     "name": "stdout",
     "output_type": "stream",
     "text": [
      "\n",
      "Test Epoch: 35\tAccuracy: 627/1024 (61%)\n",
      "\n",
      "Train Epoch: 36 [0/3387 (0%)]\tLoss: 0.935951\n",
      "Mem before-during-after: 20864512 516584448 20868608\n"
     ]
    },
    {
     "name": "stderr",
     "output_type": "stream",
     "text": [
      " 51%|█████████████████████████████████████████████████████████████████████████████████████████                                                                                       | 25.306569343064353/50 [10:30<10:23, 25.26s/it]"
     ]
    },
    {
     "name": "stdout",
     "output_type": "stream",
     "text": [
      "Train Epoch: 36 [1280/3387 (38%)]\tLoss: 0.845444\n",
      "Mem before-during-after: 20868608 517108736 20868608\n"
     ]
    },
    {
     "name": "stderr",
     "output_type": "stream",
     "text": [
      " 51%|██████████████████████████████████████████████████████████████████████████████████████████                                                                                      | 25.598540145984003/50 [10:38<10:12, 25.10s/it]"
     ]
    },
    {
     "name": "stdout",
     "output_type": "stream",
     "text": [
      "Train Epoch: 36 [2560/3387 (76%)]\tLoss: 0.827302\n",
      "Mem before-during-after: 20868608 517108736 20868608\n"
     ]
    },
    {
     "name": "stderr",
     "output_type": "stream",
     "text": [
      " 52%|███████████████████████████████████████████████████████████████████████████████████████████▌                                                                                    | 26.007299270071513/50 [10:48<09:37, 24.05s/it]"
     ]
    },
    {
     "name": "stdout",
     "output_type": "stream",
     "text": [
      "\n",
      "Test Epoch: 36\tAccuracy: 663/1024 (65%)\n",
      "\n",
      "saved model: ../models_cremad4_trill19/cremad_label4_trill19_m12new_best_36epoch.pt\n",
      "Train Epoch: 37 [0/3387 (0%)]\tLoss: 0.797324\n",
      "Mem before-during-after: 20864512 516584448 20868608\n"
     ]
    },
    {
     "name": "stderr",
     "output_type": "stream",
     "text": [
      " 53%|████████████████████████████████████████████████████████████████████████████████████████████▌                                                                                   | 26.306569343064155/50 [10:55<09:46, 24.77s/it]"
     ]
    },
    {
     "name": "stdout",
     "output_type": "stream",
     "text": [
      "Train Epoch: 37 [1280/3387 (38%)]\tLoss: 0.719812\n",
      "Mem before-during-after: 20868608 517108736 20868608\n"
     ]
    },
    {
     "name": "stderr",
     "output_type": "stream",
     "text": [
      " 53%|█████████████████████████████████████████████████████████████████████████████████████████████▋                                                                                  | 26.598540145983804/50 [11:02<09:35, 24.61s/it]"
     ]
    },
    {
     "name": "stdout",
     "output_type": "stream",
     "text": [
      "Train Epoch: 37 [2560/3387 (76%)]\tLoss: 0.788241\n",
      "Mem before-during-after: 20868608 517108736 20868608\n"
     ]
    },
    {
     "name": "stderr",
     "output_type": "stream",
     "text": [
      " 54%|███████████████████████████████████████████████████████████████████████████████████████████████                                                                                 | 27.007299270071314/50 [11:12<09:03, 23.63s/it]"
     ]
    },
    {
     "name": "stdout",
     "output_type": "stream",
     "text": [
      "\n",
      "Test Epoch: 37\tAccuracy: 645/1024 (63%)\n",
      "\n",
      "Train Epoch: 38 [0/3387 (0%)]\tLoss: 0.759077\n",
      "Mem before-during-after: 20864512 516584448 20868608\n"
     ]
    },
    {
     "name": "stderr",
     "output_type": "stream",
     "text": [
      " 55%|████████████████████████████████████████████████████████████████████████████████████████████████                                                                                | 27.306569343063956/50 [11:19<09:24, 24.87s/it]"
     ]
    },
    {
     "name": "stdout",
     "output_type": "stream",
     "text": [
      "Train Epoch: 38 [1280/3387 (38%)]\tLoss: 0.698739\n",
      "Mem before-during-after: 20868608 517108736 20868608\n"
     ]
    },
    {
     "name": "stderr",
     "output_type": "stream",
     "text": [
      " 55%|█████████████████████████████████████████████████████████████████████████████████████████████████▏                                                                              | 27.598540145983605/50 [11:27<09:11, 24.63s/it]"
     ]
    },
    {
     "name": "stdout",
     "output_type": "stream",
     "text": [
      "Train Epoch: 38 [2560/3387 (76%)]\tLoss: 0.930247\n",
      "Mem before-during-after: 20868608 517108736 20868608\n"
     ]
    },
    {
     "name": "stderr",
     "output_type": "stream",
     "text": [
      " 56%|██████████████████████████████████████████████████████████████████████████████████████████████████▌                                                                             | 28.007299270071115/50 [11:36<08:36, 23.49s/it]"
     ]
    },
    {
     "name": "stdout",
     "output_type": "stream",
     "text": [
      "\n",
      "Test Epoch: 38\tAccuracy: 650/1024 (63%)\n",
      "\n",
      "Train Epoch: 39 [0/3387 (0%)]\tLoss: 1.001756\n",
      "Mem before-during-after: 20864512 516584448 20868608\n"
     ]
    },
    {
     "name": "stderr",
     "output_type": "stream",
     "text": [
      " 57%|███████████████████████████████████████████████████████████████████████████████████████████████████▋                                                                            | 28.306569343063757/50 [11:44<08:55, 24.67s/it]"
     ]
    },
    {
     "name": "stdout",
     "output_type": "stream",
     "text": [
      "Train Epoch: 39 [1280/3387 (38%)]\tLoss: 0.948907\n",
      "Mem before-during-after: 20868608 517108736 20868608\n"
     ]
    },
    {
     "name": "stderr",
     "output_type": "stream",
     "text": [
      " 57%|████████████████████████████████████████████████████████████████████████████████████████████████████▋                                                                           | 28.598540145983407/50 [11:51<08:47, 24.65s/it]"
     ]
    },
    {
     "name": "stdout",
     "output_type": "stream",
     "text": [
      "Train Epoch: 39 [2560/3387 (76%)]\tLoss: 0.893603\n",
      "Mem before-during-after: 20868608 517108736 20868608\n"
     ]
    },
    {
     "name": "stderr",
     "output_type": "stream",
     "text": [
      " 58%|██████████████████████████████████████████████████████████████████████████████████████████████████████                                                                          | 29.007299270070916/50 [12:01<08:13, 23.53s/it]"
     ]
    },
    {
     "name": "stdout",
     "output_type": "stream",
     "text": [
      "\n",
      "Test Epoch: 39\tAccuracy: 589/1024 (57%)\n",
      "\n",
      "Train Epoch: 40 [0/3387 (0%)]\tLoss: 0.879356\n",
      "Mem before-during-after: 20864512 516584448 20868608\n"
     ]
    },
    {
     "name": "stderr",
     "output_type": "stream",
     "text": [
      " 59%|███████████████████████████████████████████████████████████████████████████████████████████████████████▏                                                                        | 29.306569343063558/50 [12:08<08:31, 24.74s/it]"
     ]
    },
    {
     "name": "stdout",
     "output_type": "stream",
     "text": [
      "Train Epoch: 40 [1280/3387 (38%)]\tLoss: 0.712967\n",
      "Mem before-during-after: 20868608 517108736 20868608\n"
     ]
    },
    {
     "name": "stderr",
     "output_type": "stream",
     "text": [
      " 59%|████████████████████████████████████████████████████████████████████████████████████████████████████████▏                                                                       | 29.598540145983208/50 [12:15<08:22, 24.64s/it]"
     ]
    },
    {
     "name": "stdout",
     "output_type": "stream",
     "text": [
      "Train Epoch: 40 [2560/3387 (76%)]\tLoss: 0.828709\n",
      "Mem before-during-after: 20868608 517108736 20868608\n"
     ]
    },
    {
     "name": "stderr",
     "output_type": "stream",
     "text": [
      " 60%|█████████████████████████████████████████████████████████████████████████████████████████████████████████▋                                                                      | 30.007299270070718/50 [12:25<07:52, 23.62s/it]"
     ]
    },
    {
     "name": "stdout",
     "output_type": "stream",
     "text": [
      "\n",
      "Test Epoch: 40\tAccuracy: 624/1024 (61%)\n",
      "\n",
      "Train Epoch: 41 [0/3387 (0%)]\tLoss: 0.857799\n",
      "Mem before-during-after: 20864512 516584448 20868608\n"
     ]
    },
    {
     "name": "stderr",
     "output_type": "stream",
     "text": [
      " 61%|███████████████████████████████████████████████████████████████████████████████████████████████████████████▎                                                                     | 30.30656934306336/50 [12:33<08:08, 24.83s/it]"
     ]
    },
    {
     "name": "stdout",
     "output_type": "stream",
     "text": [
      "Train Epoch: 41 [1280/3387 (38%)]\tLoss: 0.729068\n",
      "Mem before-during-after: 20868608 517108736 20868608\n"
     ]
    },
    {
     "name": "stderr",
     "output_type": "stream",
     "text": [
      " 61%|████████████████████████████████████████████████████████████████████████████████████████████████████████████▎                                                                    | 30.59854014598301/50 [12:40<08:10, 25.29s/it]"
     ]
    },
    {
     "name": "stdout",
     "output_type": "stream",
     "text": [
      "Train Epoch: 41 [2560/3387 (76%)]\tLoss: 0.985384\n",
      "Mem before-during-after: 20868608 517108736 20868608\n"
     ]
    },
    {
     "name": "stderr",
     "output_type": "stream",
     "text": [
      " 62%|█████████████████████████████████████████████████████████████████████████████████████████████████████████████▊                                                                   | 31.00729927007052/50 [12:50<07:35, 24.01s/it]"
     ]
    },
    {
     "name": "stdout",
     "output_type": "stream",
     "text": [
      "\n",
      "Test Epoch: 41\tAccuracy: 639/1024 (62%)\n",
      "\n",
      "Train Epoch: 42 [0/3387 (0%)]\tLoss: 0.978870\n",
      "Mem before-during-after: 20864512 516584448 20868608\n"
     ]
    },
    {
     "name": "stderr",
     "output_type": "stream",
     "text": [
      " 63%|██████████████████████████████████████████████████████████████████████████████████████████████████████████████▊                                                                  | 31.30656934306316/50 [12:57<07:40, 24.63s/it]"
     ]
    },
    {
     "name": "stdout",
     "output_type": "stream",
     "text": [
      "Train Epoch: 42 [1280/3387 (38%)]\tLoss: 0.735928\n",
      "Mem before-during-after: 20868608 517108736 20868608\n"
     ]
    },
    {
     "name": "stderr",
     "output_type": "stream",
     "text": [
      " 63%|███████████████████████████████████████████████████████████████████████████████████████████████████████████████▊                                                                 | 31.59854014598281/50 [13:04<07:31, 24.51s/it]"
     ]
    },
    {
     "name": "stdout",
     "output_type": "stream",
     "text": [
      "Train Epoch: 42 [2560/3387 (76%)]\tLoss: 0.823259\n",
      "Mem before-during-after: 20868608 517108736 20868608\n"
     ]
    },
    {
     "name": "stderr",
     "output_type": "stream",
     "text": [
      " 64%|█████████████████████████████████████████████████████████████████████████████████████████████████████████████████▎                                                               | 32.00729927007032/50 [13:14<07:05, 23.67s/it]"
     ]
    },
    {
     "name": "stdout",
     "output_type": "stream",
     "text": [
      "\n",
      "Test Epoch: 42\tAccuracy: 622/1024 (61%)\n",
      "\n",
      "Train Epoch: 43 [0/3387 (0%)]\tLoss: 0.912052\n",
      "Mem before-during-after: 20864512 516584448 20868608\n"
     ]
    },
    {
     "name": "stderr",
     "output_type": "stream",
     "text": [
      " 65%|██████████████████████████████████████████████████████████████████████████████████████████████████████████████████▎                                                              | 32.30656934306296/50 [13:21<07:19, 24.85s/it]"
     ]
    },
    {
     "name": "stdout",
     "output_type": "stream",
     "text": [
      "Train Epoch: 43 [1280/3387 (38%)]\tLoss: 1.147936\n",
      "Mem before-during-after: 20868608 517108736 20868608\n"
     ]
    },
    {
     "name": "stderr",
     "output_type": "stream",
     "text": [
      " 65%|███████████████████████████████████████████████████████████████████████████████████████████████████████████████████▍                                                             | 32.59854014598261/50 [13:29<07:08, 24.65s/it]"
     ]
    },
    {
     "name": "stdout",
     "output_type": "stream",
     "text": [
      "Train Epoch: 43 [2560/3387 (76%)]\tLoss: 0.836399\n",
      "Mem before-during-after: 20868608 517108736 20868608\n"
     ]
    },
    {
     "name": "stderr",
     "output_type": "stream",
     "text": [
      " 66%|████████████████████████████████████████████████████████████████████████████████████████████████████████████████████▊                                                            | 33.00729927007012/50 [13:38<06:42, 23.70s/it]"
     ]
    },
    {
     "name": "stdout",
     "output_type": "stream",
     "text": [
      "\n",
      "Test Epoch: 43\tAccuracy: 635/1024 (62%)\n",
      "\n",
      "Train Epoch: 44 [0/3387 (0%)]\tLoss: 0.623416\n",
      "Mem before-during-after: 20864512 516584448 20868608\n"
     ]
    },
    {
     "name": "stderr",
     "output_type": "stream",
     "text": [
      " 67%|█████████████████████████████████████████████████████████████████████████████████████████████████████████████████████▉                                                           | 33.30656934306276/50 [13:46<06:52, 24.72s/it]"
     ]
    },
    {
     "name": "stdout",
     "output_type": "stream",
     "text": [
      "Train Epoch: 44 [1280/3387 (38%)]\tLoss: 0.924424\n",
      "Mem before-during-after: 20868608 517108736 20868608\n"
     ]
    },
    {
     "name": "stderr",
     "output_type": "stream",
     "text": [
      " 67%|██████████████████████████████████████████████████████████████████████████████████████████████████████████████████████▉                                                          | 33.59854014598241/50 [13:53<06:44, 24.68s/it]"
     ]
    },
    {
     "name": "stdout",
     "output_type": "stream",
     "text": [
      "Train Epoch: 44 [2560/3387 (76%)]\tLoss: 1.001472\n",
      "Mem before-during-after: 20868608 517108736 20868608\n"
     ]
    },
    {
     "name": "stderr",
     "output_type": "stream",
     "text": [
      " 68%|████████████████████████████████████████████████████████████████████████████████████████████████████████████████████████▍                                                        | 34.00729927006992/50 [14:03<06:20, 23.81s/it]"
     ]
    },
    {
     "name": "stdout",
     "output_type": "stream",
     "text": [
      "\n",
      "Test Epoch: 44\tAccuracy: 616/1024 (60%)\n",
      "\n",
      "Train Epoch: 45 [0/3387 (0%)]\tLoss: 0.783950\n",
      "Mem before-during-after: 20864512 516584448 20868608\n"
     ]
    },
    {
     "name": "stderr",
     "output_type": "stream",
     "text": [
      " 69%|█████████████████████████████████████████████████████████████████████████████████████████████████████████████████████████▍                                                       | 34.30656934306256/50 [14:10<06:33, 25.08s/it]"
     ]
    },
    {
     "name": "stdout",
     "output_type": "stream",
     "text": [
      "Train Epoch: 45 [1280/3387 (38%)]\tLoss: 0.892770\n",
      "Mem before-during-after: 20868608 517108736 20868608\n"
     ]
    },
    {
     "name": "stderr",
     "output_type": "stream",
     "text": [
      " 69%|██████████████████████████████████████████████████████████████████████████████████████████████████████████████████████████▍                                                      | 34.59854014598221/50 [14:18<06:15, 24.41s/it]"
     ]
    },
    {
     "name": "stdout",
     "output_type": "stream",
     "text": [
      "Train Epoch: 45 [2560/3387 (76%)]\tLoss: 0.926577\n",
      "Mem before-during-after: 20868608 517108736 20868608\n"
     ]
    },
    {
     "name": "stderr",
     "output_type": "stream",
     "text": [
      " 70%|███████████████████████████████████████████████████████████████████████████████████████████████████████████████████████████▉                                                     | 35.00729927006972/50 [14:27<05:52, 23.54s/it]"
     ]
    },
    {
     "name": "stdout",
     "output_type": "stream",
     "text": [
      "\n",
      "Test Epoch: 45\tAccuracy: 645/1024 (63%)\n",
      "\n",
      "Train Epoch: 46 [0/3387 (0%)]\tLoss: 0.940273\n",
      "Mem before-during-after: 20864512 516584448 20868608\n"
     ]
    },
    {
     "name": "stderr",
     "output_type": "stream",
     "text": [
      " 71%|████████████████████████████████████████████████████████████████████████████████████████████████████████████████████████████▎                                                   | 35.306569343062364/50 [14:35<05:59, 24.46s/it]"
     ]
    },
    {
     "name": "stdout",
     "output_type": "stream",
     "text": [
      "Train Epoch: 46 [1280/3387 (38%)]\tLoss: 0.593523\n",
      "Mem before-during-after: 20868608 517108736 20868608\n"
     ]
    },
    {
     "name": "stderr",
     "output_type": "stream",
     "text": [
      " 71%|█████████████████████████████████████████████████████████████████████████████████████████████████████████████████████████████▎                                                  | 35.598540145982014/50 [14:42<05:56, 24.74s/it]"
     ]
    },
    {
     "name": "stdout",
     "output_type": "stream",
     "text": [
      "Train Epoch: 46 [2560/3387 (76%)]\tLoss: 0.642210\n",
      "Mem before-during-after: 20868608 517108736 20868608\n"
     ]
    },
    {
     "name": "stderr",
     "output_type": "stream",
     "text": [
      " 72%|██████████████████████████████████████████████████████████████████████████████████████████████████████████████████████████████▋                                                 | 36.007299270069524/50 [14:52<05:32, 23.74s/it]"
     ]
    },
    {
     "name": "stdout",
     "output_type": "stream",
     "text": [
      "\n",
      "Test Epoch: 46\tAccuracy: 669/1024 (65%)\n",
      "\n",
      "saved model: ../models_cremad4_trill19/cremad_label4_trill19_m12new_best_46epoch.pt\n",
      "Train Epoch: 47 [0/3387 (0%)]\tLoss: 0.742465\n",
      "Mem before-during-after: 20864512 516584448 20868608\n"
     ]
    },
    {
     "name": "stderr",
     "output_type": "stream",
     "text": [
      " 73%|███████████████████████████████████████████████████████████████████████████████████████████████████████████████████████████████▊                                                | 36.306569343062165/50 [14:59<05:41, 24.91s/it]"
     ]
    },
    {
     "name": "stdout",
     "output_type": "stream",
     "text": [
      "Train Epoch: 47 [1280/3387 (38%)]\tLoss: 0.521264\n",
      "Mem before-during-after: 20868608 517108736 20868608\n"
     ]
    },
    {
     "name": "stderr",
     "output_type": "stream",
     "text": [
      " 73%|████████████████████████████████████████████████████████████████████████████████████████████████████████████████████████████████▊                                               | 36.598540145981815/50 [15:06<05:27, 24.46s/it]"
     ]
    },
    {
     "name": "stdout",
     "output_type": "stream",
     "text": [
      "Train Epoch: 47 [2560/3387 (76%)]\tLoss: 0.986169\n",
      "Mem before-during-after: 20868608 517108736 20868608\n"
     ]
    },
    {
     "name": "stderr",
     "output_type": "stream",
     "text": [
      " 74%|██████████████████████████████████████████████████████████████████████████████████████████████████████████████████████████████████▎                                             | 37.007299270069325/50 [15:16<05:06, 23.62s/it]"
     ]
    },
    {
     "name": "stdout",
     "output_type": "stream",
     "text": [
      "\n",
      "Test Epoch: 47\tAccuracy: 667/1024 (65%)\n",
      "\n",
      "Train Epoch: 48 [0/3387 (0%)]\tLoss: 0.915336\n",
      "Mem before-during-after: 20864512 516584448 20868608\n"
     ]
    },
    {
     "name": "stderr",
     "output_type": "stream",
     "text": [
      " 75%|███████████████████████████████████████████████████████████████████████████████████████████████████████████████████████████████████▎                                            | 37.306569343061966/50 [15:24<05:14, 24.80s/it]"
     ]
    },
    {
     "name": "stdout",
     "output_type": "stream",
     "text": [
      "Train Epoch: 48 [1280/3387 (38%)]\tLoss: 0.870228\n",
      "Mem before-during-after: 20868608 517108736 20868608\n"
     ]
    },
    {
     "name": "stderr",
     "output_type": "stream",
     "text": [
      " 75%|████████████████████████████████████████████████████████████████████████████████████████████████████████████████████████████████████▎                                           | 37.598540145981616/50 [15:31<05:07, 24.83s/it]"
     ]
    },
    {
     "name": "stdout",
     "output_type": "stream",
     "text": [
      "Train Epoch: 48 [2560/3387 (76%)]\tLoss: 0.674430\n",
      "Mem before-during-after: 20868608 517108736 20868608\n"
     ]
    },
    {
     "name": "stderr",
     "output_type": "stream",
     "text": [
      " 76%|█████████████████████████████████████████████████████████████████████████████████████████████████████████████████████████████████████▊                                          | 38.007299270069126/50 [15:41<04:48, 24.04s/it]"
     ]
    },
    {
     "name": "stdout",
     "output_type": "stream",
     "text": [
      "\n",
      "Test Epoch: 48\tAccuracy: 609/1024 (59%)\n",
      "\n",
      "Train Epoch: 49 [0/3387 (0%)]\tLoss: 0.821696\n",
      "Mem before-during-after: 20864512 516584448 20868608\n"
     ]
    },
    {
     "name": "stderr",
     "output_type": "stream",
     "text": [
      " 77%|███████████████████████████████████████████████████████████████████████████████████████████████████████████████████████████████████████▌                                         | 38.30656934306177/50 [15:48<04:53, 25.11s/it]"
     ]
    },
    {
     "name": "stdout",
     "output_type": "stream",
     "text": [
      "Train Epoch: 49 [1280/3387 (38%)]\tLoss: 0.865889\n",
      "Mem before-during-after: 20868608 517108736 20868608\n"
     ]
    },
    {
     "name": "stderr",
     "output_type": "stream",
     "text": [
      " 77%|████████████████████████████████████████████████████████████████████████████████████████████████████████████████████████████████████████▋                                        | 38.59854014598142/50 [15:55<04:40, 24.64s/it]"
     ]
    },
    {
     "name": "stdout",
     "output_type": "stream",
     "text": [
      "Train Epoch: 49 [2560/3387 (76%)]\tLoss: 0.809430\n",
      "Mem before-during-after: 20868608 517108736 20868608\n"
     ]
    },
    {
     "name": "stderr",
     "output_type": "stream",
     "text": [
      " 78%|█████████████████████████████████████████████████████████████████████████████████████████████████████████████████████████████████████████▎                                      | 38.999999999995936/50 [16:05<04:12, 22.97s/it]"
     ]
    },
    {
     "name": "stdout",
     "output_type": "stream",
     "text": [
      "\n",
      "Test Epoch: 49\tAccuracy: 655/1024 (64%)\n",
      "\n"
     ]
    },
    {
     "name": "stderr",
     "output_type": "stream",
     "text": [
      " 78%|██████████████████████████████████████████████████████████████████████████████████████████████████████████████████████████████████████████                                       | 39.01459854014192/50 [16:05<04:25, 24.15s/it]"
     ]
    },
    {
     "name": "stdout",
     "output_type": "stream",
     "text": [
      "Train Epoch: 50 [0/3387 (0%)]\tLoss: 0.920712\n",
      "Mem before-during-after: 20864512 516584448 20868608\n"
     ]
    },
    {
     "name": "stderr",
     "output_type": "stream",
     "text": [
      " 79%|███████████████████████████████████████████████████████████████████████████████████████████████████████████████████████████████████████████▏                                     | 39.30656934306157/50 [16:13<04:22, 24.58s/it]"
     ]
    },
    {
     "name": "stdout",
     "output_type": "stream",
     "text": [
      "Train Epoch: 50 [1280/3387 (38%)]\tLoss: 0.683294\n",
      "Mem before-during-after: 20868608 517108736 20868608\n"
     ]
    },
    {
     "name": "stderr",
     "output_type": "stream",
     "text": [
      " 79%|████████████████████████████████████████████████████████████████████████████████████████████████████████████████████████████████████████████▏                                    | 39.59854014598122/50 [16:20<04:17, 24.71s/it]"
     ]
    },
    {
     "name": "stdout",
     "output_type": "stream",
     "text": [
      "Train Epoch: 50 [2560/3387 (76%)]\tLoss: 1.016211\n",
      "Mem before-during-after: 20868608 517108736 20868608\n"
     ]
    },
    {
     "name": "stderr",
     "output_type": "stream",
     "text": [
      " 80%|█████████████████████████████████████████████████████████████████████████████████████████████████████████████████████████████████████████████▋                                   | 40.00729927006873/50 [16:30<03:56, 23.71s/it]"
     ]
    },
    {
     "name": "stdout",
     "output_type": "stream",
     "text": [
      "\n",
      "Test Epoch: 50\tAccuracy: 644/1024 (63%)\n",
      "\n",
      "Train Epoch: 51 [0/3387 (0%)]\tLoss: 0.606303\n",
      "Mem before-during-after: 20864512 516584448 20868608\n"
     ]
    },
    {
     "name": "stderr",
     "output_type": "stream",
     "text": [
      " 81%|██████████████████████████████████████████████████████████████████████████████████████████████████████████████████████████████████████████████▋                                  | 40.30656934306137/50 [16:37<03:56, 24.39s/it]"
     ]
    },
    {
     "name": "stdout",
     "output_type": "stream",
     "text": [
      "Train Epoch: 51 [1280/3387 (38%)]\tLoss: 0.555129\n",
      "Mem before-during-after: 20868608 517108736 20868608\n"
     ]
    },
    {
     "name": "stderr",
     "output_type": "stream",
     "text": [
      " 81%|███████████████████████████████████████████████████████████████████████████████████████████████████████████████████████████████████████████████▋                                 | 40.59854014598102/50 [16:44<03:51, 24.67s/it]"
     ]
    },
    {
     "name": "stdout",
     "output_type": "stream",
     "text": [
      "Train Epoch: 51 [2560/3387 (76%)]\tLoss: 0.753720\n",
      "Mem before-during-after: 20868608 517108736 20868608\n"
     ]
    },
    {
     "name": "stderr",
     "output_type": "stream",
     "text": [
      " 82%|█████████████████████████████████████████████████████████████████████████████████████████████████████████████████████████████████████████████████▏                               | 41.00729927006853/50 [16:54<03:33, 23.79s/it]"
     ]
    },
    {
     "name": "stdout",
     "output_type": "stream",
     "text": [
      "\n",
      "Test Epoch: 51\tAccuracy: 661/1024 (64%)\n",
      "\n",
      "Train Epoch: 52 [0/3387 (0%)]\tLoss: 0.581473\n",
      "Mem before-during-after: 20864512 516584448 20868608\n"
     ]
    },
    {
     "name": "stderr",
     "output_type": "stream",
     "text": [
      " 83%|██████████████████████████████████████████████████████████████████████████████████████████████████████████████████████████████████████████████████▏                              | 41.30656934306117/50 [17:01<03:33, 24.56s/it]"
     ]
    },
    {
     "name": "stdout",
     "output_type": "stream",
     "text": [
      "Train Epoch: 52 [1280/3387 (38%)]\tLoss: 1.052846\n",
      "Mem before-during-after: 20868608 517108736 20868608\n"
     ]
    },
    {
     "name": "stderr",
     "output_type": "stream",
     "text": [
      " 83%|███████████████████████████████████████████████████████████████████████████████████████████████████████████████████████████████████████████████████▎                             | 41.59854014598082/50 [17:08<03:27, 24.73s/it]"
     ]
    },
    {
     "name": "stdout",
     "output_type": "stream",
     "text": [
      "Train Epoch: 52 [2560/3387 (76%)]\tLoss: 0.638360\n",
      "Mem before-during-after: 20868608 517108736 20868608\n"
     ]
    },
    {
     "name": "stderr",
     "output_type": "stream",
     "text": [
      " 84%|████████████████████████████████████████████████████████████████████████████████████████████████████████████████████████████████████████████████████▋                            | 42.00729927006833/50 [17:18<03:10, 23.83s/it]"
     ]
    },
    {
     "name": "stdout",
     "output_type": "stream",
     "text": [
      "\n",
      "Test Epoch: 52\tAccuracy: 648/1024 (63%)\n",
      "\n",
      "Train Epoch: 53 [0/3387 (0%)]\tLoss: 0.837099\n",
      "Mem before-during-after: 20864512 516584448 20868608\n"
     ]
    },
    {
     "name": "stderr",
     "output_type": "stream",
     "text": [
      " 85%|█████████████████████████████████████████████████████████████████████████████████████████████████████████████████████████████████████████████████████▊                           | 42.30656934306097/50 [17:26<03:08, 24.56s/it]"
     ]
    },
    {
     "name": "stdout",
     "output_type": "stream",
     "text": [
      "Train Epoch: 53 [1280/3387 (38%)]\tLoss: 0.994538\n",
      "Mem before-during-after: 20868608 517108736 20868608\n"
     ]
    },
    {
     "name": "stderr",
     "output_type": "stream",
     "text": [
      " 85%|██████████████████████████████████████████████████████████████████████████████████████████████████████████████████████████████████████████████████████▊                          | 42.59854014598062/50 [17:33<03:04, 24.96s/it]"
     ]
    },
    {
     "name": "stdout",
     "output_type": "stream",
     "text": [
      "Train Epoch: 53 [2560/3387 (76%)]\tLoss: 0.651216\n",
      "Mem before-during-after: 20868608 517108736 20868608\n"
     ]
    },
    {
     "name": "stderr",
     "output_type": "stream",
     "text": [
      " 86%|████████████████████████████████████████████████████████████████████████████████████████████████████████████████████████████████████████████████████████▏                        | 43.00729927006813/50 [17:43<02:47, 23.90s/it]"
     ]
    },
    {
     "name": "stdout",
     "output_type": "stream",
     "text": [
      "\n",
      "Test Epoch: 53\tAccuracy: 645/1024 (63%)\n",
      "\n",
      "Train Epoch: 54 [0/3387 (0%)]\tLoss: 0.616527\n",
      "Mem before-during-after: 20864512 516584448 20868608\n"
     ]
    },
    {
     "name": "stderr",
     "output_type": "stream",
     "text": [
      " 87%|█████████████████████████████████████████████████████████████████████████████████████████████████████████████████████████████████████████████████████████▎                       | 43.30656934306077/50 [17:50<02:46, 24.84s/it]"
     ]
    },
    {
     "name": "stdout",
     "output_type": "stream",
     "text": [
      "Train Epoch: 54 [1280/3387 (38%)]\tLoss: 0.830015\n",
      "Mem before-during-after: 20868608 517108736 20868608\n"
     ]
    },
    {
     "name": "stderr",
     "output_type": "stream",
     "text": [
      " 87%|██████████████████████████████████████████████████████████████████████████████████████████████████████████████████████████████████████████████████████████▎                      | 43.59854014598042/50 [17:57<02:37, 24.63s/it]"
     ]
    },
    {
     "name": "stdout",
     "output_type": "stream",
     "text": [
      "Train Epoch: 54 [2560/3387 (76%)]\tLoss: 0.783548\n",
      "Mem before-during-after: 20868608 517108736 20868608\n"
     ]
    },
    {
     "name": "stderr",
     "output_type": "stream",
     "text": [
      " 88%|███████████████████████████████████████████████████████████████████████████████████████████████████████████████████████████████████████████████████████████▊                     | 44.00729927006793/50 [18:07<02:22, 23.82s/it]"
     ]
    },
    {
     "name": "stdout",
     "output_type": "stream",
     "text": [
      "\n",
      "Test Epoch: 54\tAccuracy: 632/1024 (62%)\n",
      "\n",
      "Train Epoch: 55 [0/3387 (0%)]\tLoss: 0.677104\n",
      "Mem before-during-after: 20864512 516584448 20868608\n"
     ]
    },
    {
     "name": "stderr",
     "output_type": "stream",
     "text": [
      " 89%|████████████████████████████████████████████████████████████████████████████████████████████████████████████████████████████████████████████████████████████▊                    | 44.30656934306057/50 [18:15<02:20, 24.66s/it]"
     ]
    },
    {
     "name": "stdout",
     "output_type": "stream",
     "text": [
      "Train Epoch: 55 [1280/3387 (38%)]\tLoss: 0.670104\n",
      "Mem before-during-after: 20868608 517108736 20868608\n"
     ]
    },
    {
     "name": "stderr",
     "output_type": "stream",
     "text": [
      " 89%|█████████████████████████████████████████████████████████████████████████████████████████████████████████████████████████████████████████████████████████████▉                   | 44.59854014598022/50 [18:22<02:13, 24.76s/it]"
     ]
    },
    {
     "name": "stdout",
     "output_type": "stream",
     "text": [
      "Train Epoch: 55 [2560/3387 (76%)]\tLoss: 0.751390\n",
      "Mem before-during-after: 20868608 517108736 20868608\n"
     ]
    },
    {
     "name": "stderr",
     "output_type": "stream",
     "text": [
      " 90%|███████████████████████████████████████████████████████████████████████████████████████████████████████████████████████████████████████████████████████████████▎                 | 45.00729927006773/50 [18:32<01:59, 23.96s/it]"
     ]
    },
    {
     "name": "stdout",
     "output_type": "stream",
     "text": [
      "\n",
      "Test Epoch: 55\tAccuracy: 631/1024 (62%)\n",
      "\n",
      "Train Epoch: 56 [0/3387 (0%)]\tLoss: 0.765170\n",
      "Mem before-during-after: 20864512 516584448 20868608\n"
     ]
    },
    {
     "name": "stderr",
     "output_type": "stream",
     "text": [
      " 91%|███████████████████████████████████████████████████████████████████████████████████████████████████████████████████████████████████████████████████████████████▍                | 45.306569343060374/50 [18:39<01:57, 24.95s/it]"
     ]
    },
    {
     "name": "stdout",
     "output_type": "stream",
     "text": [
      "Train Epoch: 56 [1280/3387 (38%)]\tLoss: 0.656785\n",
      "Mem before-during-after: 20868608 517108736 20868608\n"
     ]
    },
    {
     "name": "stderr",
     "output_type": "stream",
     "text": [
      " 91%|████████████████████████████████████████████████████████████████████████████████████████████████████████████████████████████████████████████████████████████████▌               | 45.598540145980024/50 [18:46<01:48, 24.68s/it]"
     ]
    },
    {
     "name": "stdout",
     "output_type": "stream",
     "text": [
      "Train Epoch: 56 [2560/3387 (76%)]\tLoss: 1.083138\n",
      "Mem before-during-after: 20868608 517108736 20868608\n"
     ]
    },
    {
     "name": "stderr",
     "output_type": "stream",
     "text": [
      " 92%|█████████████████████████████████████████████████████████████████████████████████████████████████████████████████████████████████████████████████████████████████▉              | 46.007299270067534/50 [18:56<01:33, 23.48s/it]"
     ]
    },
    {
     "name": "stdout",
     "output_type": "stream",
     "text": [
      "\n",
      "Test Epoch: 56\tAccuracy: 665/1024 (65%)\n",
      "\n",
      "Train Epoch: 57 [0/3387 (0%)]\tLoss: 0.824002\n",
      "Mem before-during-after: 20864512 516584448 20868608\n"
     ]
    },
    {
     "name": "stderr",
     "output_type": "stream",
     "text": [
      " 93%|██████████████████████████████████████████████████████████████████████████████████████████████████████████████████████████████████████████████████████████████████▉             | 46.306569343060175/50 [19:03<01:30, 24.62s/it]"
     ]
    },
    {
     "name": "stdout",
     "output_type": "stream",
     "text": [
      "Train Epoch: 57 [1280/3387 (38%)]\tLoss: 0.509436\n",
      "Mem before-during-after: 20868608 517108736 20868608\n"
     ]
    },
    {
     "name": "stderr",
     "output_type": "stream",
     "text": [
      " 93%|████████████████████████████████████████████████████████████████████████████████████████████████████████████████████████████████████████████████████████████████████            | 46.598540145979825/50 [19:11<01:24, 24.98s/it]"
     ]
    },
    {
     "name": "stdout",
     "output_type": "stream",
     "text": [
      "Train Epoch: 57 [2560/3387 (76%)]\tLoss: 0.693485\n",
      "Mem before-during-after: 20868608 517108736 20868608\n"
     ]
    },
    {
     "name": "stderr",
     "output_type": "stream",
     "text": [
      " 94%|█████████████████████████████████████████████████████████████████████████████████████████████████████████████████████████████████████████████████████████████████████▍          | 47.007299270067335/50 [19:20<01:10, 23.63s/it]"
     ]
    },
    {
     "name": "stdout",
     "output_type": "stream",
     "text": [
      "\n",
      "Test Epoch: 57\tAccuracy: 618/1024 (60%)\n",
      "\n",
      "Train Epoch: 58 [0/3387 (0%)]\tLoss: 0.897753\n",
      "Mem before-during-after: 20864512 516584448 20868608\n"
     ]
    },
    {
     "name": "stderr",
     "output_type": "stream",
     "text": [
      " 95%|███████████████████████████████████████████████████████████████████████████████████████████████████████████████████████████████████████████████████████████████████████▍         | 47.30656934305998/50 [19:28<01:06, 24.83s/it]"
     ]
    },
    {
     "name": "stdout",
     "output_type": "stream",
     "text": [
      "Train Epoch: 58 [1280/3387 (38%)]\tLoss: 0.751988\n",
      "Mem before-during-after: 20868608 517108736 20868608\n"
     ]
    },
    {
     "name": "stderr",
     "output_type": "stream",
     "text": [
      " 95%|████████████████████████████████████████████████████████████████████████████████████████████████████████████████████████████████████████████████████████████████████████▍        | 47.59854014597963/50 [19:35<00:59, 24.83s/it]"
     ]
    },
    {
     "name": "stdout",
     "output_type": "stream",
     "text": [
      "Train Epoch: 58 [2560/3387 (76%)]\tLoss: 0.521866\n",
      "Mem before-during-after: 20868608 517108736 20868608\n"
     ]
    },
    {
     "name": "stderr",
     "output_type": "stream",
     "text": [
      " 96%|████████████████████████████████████████████████████████████████████████████████████████████████████████████████████████████████████████████████████████████████████████▉       | 48.007299270067136/50 [19:45<00:47, 23.75s/it]"
     ]
    },
    {
     "name": "stdout",
     "output_type": "stream",
     "text": [
      "\n",
      "Test Epoch: 58\tAccuracy: 626/1024 (61%)\n",
      "\n",
      "Train Epoch: 59 [0/3387 (0%)]\tLoss: 1.123690\n",
      "Mem before-during-after: 20864512 516584448 20868608\n"
     ]
    },
    {
     "name": "stderr",
     "output_type": "stream",
     "text": [
      " 97%|███████████████████████████████████████████████████████████████████████████████████████████████████████████████████████████████████████████████████████████████████████████      | 48.30656934305978/50 [19:52<00:41, 24.70s/it]"
     ]
    },
    {
     "name": "stdout",
     "output_type": "stream",
     "text": [
      "Train Epoch: 59 [1280/3387 (38%)]\tLoss: 0.611782\n",
      "Mem before-during-after: 20868608 517108736 20868608\n"
     ]
    },
    {
     "name": "stderr",
     "output_type": "stream",
     "text": [
      " 97%|████████████████████████████████████████████████████████████████████████████████████████████████████████████████████████████████████████████████████████████████████████████     | 48.59854014597943/50 [20:00<00:34, 24.87s/it]"
     ]
    },
    {
     "name": "stdout",
     "output_type": "stream",
     "text": [
      "Train Epoch: 59 [2560/3387 (76%)]\tLoss: 0.706772\n",
      "Mem before-during-after: 20868608 517108736 20868608\n"
     ]
    },
    {
     "name": "stderr",
     "output_type": "stream",
     "text": [
      " 98%|█████████████████████████████████████████████████████████████████████████████████████████████████████████████████████████████████████████████████████████████████████████████▍   | 49.00729927006694/50 [20:09<00:23, 23.56s/it]"
     ]
    },
    {
     "name": "stdout",
     "output_type": "stream",
     "text": [
      "\n",
      "Test Epoch: 59\tAccuracy: 645/1024 (63%)\n",
      "\n",
      "Train Epoch: 60 [0/3387 (0%)]\tLoss: 0.627428\n",
      "Mem before-during-after: 20864512 516584448 20868608\n"
     ]
    },
    {
     "name": "stderr",
     "output_type": "stream",
     "text": [
      " 99%|██████████████████████████████████████████████████████████████████████████████████████████████████████████████████████████████████████████████████████████████████████████████▌  | 49.30656934305958/50 [20:17<00:17, 24.63s/it]"
     ]
    },
    {
     "name": "stdout",
     "output_type": "stream",
     "text": [
      "Train Epoch: 60 [1280/3387 (38%)]\tLoss: 0.658141\n",
      "Mem before-during-after: 20868608 517108736 20868608\n"
     ]
    },
    {
     "name": "stderr",
     "output_type": "stream",
     "text": [
      " 99%|███████████████████████████████████████████████████████████████████████████████████████████████████████████████████████████████████████████████████████████████████████████████▌ | 49.59854014597923/50 [20:24<00:09, 24.83s/it]"
     ]
    },
    {
     "name": "stdout",
     "output_type": "stream",
     "text": [
      "Train Epoch: 60 [2560/3387 (76%)]\tLoss: 0.657113\n",
      "Mem before-during-after: 20868608 517108736 20868608\n"
     ]
    },
    {
     "name": "stderr",
     "output_type": "stream",
     "text": [
      "100%|████████████████████████████████████████████████████████████████████████████████████████████████████████████████████████████████████████████████████████████████████████████████▉| 49.99999999999375/50 [20:33<00:00, 24.68s/it]"
     ]
    },
    {
     "name": "stdout",
     "output_type": "stream",
     "text": [
      "\n",
      "Test Epoch: 60\tAccuracy: 648/1024 (63%)\n",
      "\n"
     ]
    },
    {
     "name": "stderr",
     "output_type": "stream",
     "text": [
      "\n"
     ]
    }
   ],
   "source": [
    "n_epoch = 10\n",
    "n_epoch2 = 50\n",
    "# train_losses = []\n",
    "# test_accuracy = []\n",
    "best_accuracy = min(test_accuracy)\n",
    "model_path_prefix = '../models_cremad4_trill19/cremad_label4_trill19_m12new_best_'\n",
    "\n",
    "optimizer = optim.RAdam(model.parameters(), lr=0.00005)\n",
    "scheduler = optim.lr_scheduler.OneCycleLR(\n",
    "    optimizer, max_lr=0.01,\n",
    "    steps_per_epoch=len(train_loader), epochs=n_epoch2)\n",
    "log_interval = 40\n",
    "pbar_update = 1 / (len(train_loader) + len(test_loader))\n",
    "# model.to(device)\n",
    "with tqdm(total=n_epoch2) as pbar:\n",
    "    for epoch in range(1+n_epoch, n_epoch2 + n_epoch + 1):\n",
    "        train(model, epoch, log_interval, train_losses)\n",
    "        acc = test(model, epoch)\n",
    "        test_accuracy += [acc]\n",
    "        if acc > best_accuracy:\n",
    "            best_accuracy = acc\n",
    "            bmodel_path = f'{model_path_prefix}{epoch}epoch.pt'\n",
    "            torch.save(model.state_dict(), bmodel_path)\n",
    "            print(f'saved model: {bmodel_path}')\n",
    "        scheduler.step()"
   ]
  },
  {
   "cell_type": "code",
   "execution_count": 25,
   "id": "871b2bbc-7132-4772-88d5-bb2205b0069e",
   "metadata": {},
   "outputs": [
    {
     "data": {
      "text/plain": [
       "[<matplotlib.lines.Line2D at 0x7fd14a5de670>]"
      ]
     },
     "execution_count": 25,
     "metadata": {},
     "output_type": "execute_result"
    },
    {
     "data": {
      "image/png": "[encoded data removed]",
      "text/plain": [
       "<Figure size 640x480 with 1 Axes>"
      ]
     },
     "metadata": {},
     "output_type": "display_data"
    }
   ],
   "source": [
    "plt.plot(train_losses)"
   ]
  },
  {
   "cell_type": "code",
   "execution_count": 26,
   "id": "b84769c6-123a-4e64-a5bc-9965db404d8b",
   "metadata": {},
   "outputs": [
    {
     "data": {
      "text/plain": [
       "[<matplotlib.lines.Line2D at 0x7fd11c323b80>]"
      ]
     },
     "execution_count": 26,
     "metadata": {},
     "output_type": "execute_result"
    },
    {
     "data": {
      "image/png": "[encoded data removed]",
      "text/plain": [
       "<Figure size 640x480 with 1 Axes>"
      ]
     },
     "metadata": {},
     "output_type": "display_data"
    }
   ],
   "source": [
    "plt.plot(test_accuracy)"
   ]
  },
  {
   "cell_type": "code",
   "execution_count": 27,
   "id": "e9f58008-d41d-4864-922b-a4710f612616",
   "metadata": {},
   "outputs": [
    {
     "name": "stdout",
     "output_type": "stream",
     "text": [
      "Correct: 649/1024 (0.6338)\n",
      "{'acc_detail': tensor([0.7218, 0.5044, 0.6604, 0.6302], device='cuda:0'),\n",
      " 'acc_unweighted': tensor(0.6292, device='cuda:0'),\n",
      " 'acc_weighted': tensor(0.6338, device='cuda:0'),\n",
      " 'f1s': tensor(0.6341, device='cuda:0'),\n",
      " 'f1s_detail': tensor([0.7245, 0.5361, 0.7246, 0.5512], device='cuda:0'),\n",
      " 'precision_detail': tensor([0.7273, 0.5721, 0.8028, 0.4897], device='cuda:0'),\n",
      " 'recall_detail': tensor([0.7218, 0.5044, 0.6604, 0.6302], device='cuda:0'),\n",
      " 'rocauc': tensor([0.9138, 0.8405, 0.9237, 0.7675], device='cuda:0'),\n",
      " 'uar': tensor(0.6292, device='cuda:0'),\n",
      " 'wap': tensor(0.6508, device='cuda:0')}\n"
     ]
    },
    {
     "data": {
      "text/plain": [
       "tensor([[192,   9,   0,  65],\n",
       "        [ 12, 115,  29,  72],\n",
       "        [  1,  52, 175,  37],\n",
       "        [ 59,  25,  14, 167]], device='cuda:0')"
      ]
     },
     "execution_count": 27,
     "metadata": {},
     "output_type": "execute_result"
    }
   ],
   "source": [
    "metrics2, confusion_matrix2 = report_metrics(\n",
    "    model, labels=labels, device=device)\n",
    "pprint(metrics2.compute())\n",
    "confusion_matrix2.compute()"
   ]
  },
  {
   "cell_type": "code",
   "execution_count": 38,
   "id": "b89bbf73-8820-41f8-b1f9-7e289a2e0108",
   "metadata": {},
   "outputs": [
    {
     "data": {
      "text/plain": [
       "M12(\n",
       "  (fe_blocks): FeBlocks(\n",
       "    (blocks): ModuleList(\n",
       "      (0-1): 2 x FrontEndBlock(\n",
       "        (block): ModuleDict(\n",
       "          (layer): FirConvLayer(\n",
       "            (conv_layer): ResidualConv1d(\n",
       "              (pad_layer): PadForConv()\n",
       "              (stride_layer): DownsampleLayer(\n",
       "                (pad_right): PadForConv()\n",
       "              )\n",
       "              (norm_layer): CustomNormLayer(\n",
       "                (layer): LocalResponseNorm(2, alpha=0.0001, beta=0.75, k=1.0)\n",
       "              )\n",
       "              (act): NLReLU()\n",
       "            )\n",
       "          )\n",
       "          (downsample): ResidualConv1d(\n",
       "            (pad_layer): PadForConv()\n",
       "            (stride_layer): DownsampleLayer(\n",
       "              (pad_right): PadForConv()\n",
       "            )\n",
       "            (norm_layer): CustomNormLayer(\n",
       "              (layer): LocalResponseNorm(2, alpha=0.0001, beta=0.75, k=1.0)\n",
       "            )\n",
       "            (act): NLReLU()\n",
       "          )\n",
       "        )\n",
       "      )\n",
       "    )\n",
       "  )\n",
       "  (seq_blocks): Seq2OneBlocks(\n",
       "    (blocks): LSTM(97, 48, batch_first=True)\n",
       "  )\n",
       "  (cls_head): Classifier(\n",
       "    (blocks): ModuleList(\n",
       "      (0): Sequential(\n",
       "        (norm): LayerNorm((48,), eps=1e-05, elementwise_affine=True)\n",
       "        (layer): Linear(in_features=48, out_features=256, bias=True)\n",
       "      )\n",
       "      (1): Sequential(\n",
       "        (norm): LayerNorm((256,), eps=1e-05, elementwise_affine=True)\n",
       "        (layer): Linear(in_features=256, out_features=256, bias=True)\n",
       "      )\n",
       "    )\n",
       "    (act): LeakyReLU(negative_slope=0.01)\n",
       "    (output_layer): Linear(in_features=256, out_features=4, bias=True)\n",
       "  )\n",
       ")"
      ]
     },
     "execution_count": 38,
     "metadata": {},
     "output_type": "execute_result"
    }
   ],
   "source": [
    "model.to(\"cpu\")"
   ]
  },
  {
   "cell_type": "code",
   "execution_count": 39,
   "id": "c7dadd2a-3a63-4be7-bccf-c59df145b2f0",
   "metadata": {},
   "outputs": [
    {
     "name": "stdout",
     "output_type": "stream",
     "text": [
      "Correct: 669/1024 (0.6533)\n",
      "{'acc_detail': tensor([0.7556, 0.6535, 0.7509, 0.4528], device='cuda:0'),\n",
      " 'acc_unweighted': tensor(0.6532, device='cuda:0'),\n",
      " 'acc_weighted': tensor(0.6533, device='cuda:0'),\n",
      " 'f1s': tensor(0.6483, device='cuda:0'),\n",
      " 'f1s_detail': tensor([0.7336, 0.6032, 0.7552, 0.5010], device='cuda:0'),\n",
      " 'precision_detail': tensor([0.7128, 0.5602, 0.7595, 0.5607], device='cuda:0'),\n",
      " 'recall_detail': tensor([0.7556, 0.6535, 0.7509, 0.4528], device='cuda:0'),\n",
      " 'rocauc': tensor([0.9217, 0.8513, 0.9307, 0.7831], device='cuda:0'),\n",
      " 'uar': tensor(0.6532, device='cuda:0'),\n",
      " 'wap': tensor(0.6515, device='cuda:0')}\n"
     ]
    },
    {
     "data": {
      "text/plain": [
       "tensor([[201,  16,   0,  49],\n",
       "        [  8, 149,  39,  32],\n",
       "        [  0,  53, 199,  13],\n",
       "        [ 73,  48,  24, 120]], device='cuda:0')"
      ]
     },
     "execution_count": 39,
     "metadata": {},
     "output_type": "execute_result"
    }
   ],
   "source": [
    "best_epoch = 46\n",
    "best_model_path = f'{model_path_prefix}{best_epoch}epoch.pt'\n",
    "best_model = M12(config=model_config,\n",
    "           n_input=1, n_output=len(labels))\n",
    "best_model.load_state_dict(torch.load(best_model_path))\n",
    "best_model.to(device)\n",
    "\n",
    "metrics_best, confusion_matrix_best = report_metrics(\n",
    "    best_model, labels=labels, device=device)\n",
    "pprint(metrics_best.compute())\n",
    "confusion_matrix_best.compute()"
   ]
  },
  {
   "cell_type": "code",
   "execution_count": 40,
   "id": "3f7e88df-636e-4824-94bd-3937fa4cb6f6",
   "metadata": {},
   "outputs": [
    {
     "data": {
      "text/plain": [
       "M12(\n",
       "  (fe_blocks): FeBlocks(\n",
       "    (blocks): ModuleList(\n",
       "      (0-1): 2 x FrontEndBlock(\n",
       "        (block): ModuleDict(\n",
       "          (layer): FirConvLayer(\n",
       "            (conv_layer): ResidualConv1d(\n",
       "              (pad_layer): PadForConv()\n",
       "              (stride_layer): DownsampleLayer(\n",
       "                (pad_right): PadForConv()\n",
       "              )\n",
       "              (norm_layer): CustomNormLayer(\n",
       "                (layer): LocalResponseNorm(2, alpha=0.0001, beta=0.75, k=1.0)\n",
       "              )\n",
       "              (act): NLReLU()\n",
       "            )\n",
       "          )\n",
       "          (downsample): ResidualConv1d(\n",
       "            (pad_layer): PadForConv()\n",
       "            (stride_layer): DownsampleLayer(\n",
       "              (pad_right): PadForConv()\n",
       "            )\n",
       "            (norm_layer): CustomNormLayer(\n",
       "              (layer): LocalResponseNorm(2, alpha=0.0001, beta=0.75, k=1.0)\n",
       "            )\n",
       "            (act): NLReLU()\n",
       "          )\n",
       "        )\n",
       "      )\n",
       "    )\n",
       "  )\n",
       "  (seq_blocks): Seq2OneBlocks(\n",
       "    (blocks): LSTM(97, 48, batch_first=True)\n",
       "  )\n",
       "  (cls_head): Classifier(\n",
       "    (blocks): ModuleList(\n",
       "      (0): Sequential(\n",
       "        (norm): LayerNorm((48,), eps=1e-05, elementwise_affine=True)\n",
       "        (layer): Linear(in_features=48, out_features=256, bias=True)\n",
       "      )\n",
       "      (1): Sequential(\n",
       "        (norm): LayerNorm((256,), eps=1e-05, elementwise_affine=True)\n",
       "        (layer): Linear(in_features=256, out_features=256, bias=True)\n",
       "      )\n",
       "    )\n",
       "    (act): LeakyReLU(negative_slope=0.01)\n",
       "    (output_layer): Linear(in_features=256, out_features=4, bias=True)\n",
       "  )\n",
       ")"
      ]
     },
     "execution_count": 40,
     "metadata": {},
     "output_type": "execute_result"
    }
   ],
   "source": [
    "best_model.to('cpu')"
   ]
  },
  {
   "cell_type": "code",
   "execution_count": 28,
   "id": "e7c216b1-0d50-4ee6-a68f-ef8218ffb428",
   "metadata": {
    "scrolled": true
   },
   "outputs": [
    {
     "name": "stderr",
     "output_type": "stream",
     "text": [
      "  0%|                                                                                                                                                                                       | 0.014598540145985401/40 [00:00<16:15, 24.40s/it]"
     ]
    },
    {
     "name": "stdout",
     "output_type": "stream",
     "text": [
      "Train Epoch: 61 [0/3387 (0%)]\tLoss: 0.652863\n",
      "Mem before-during-after: 19865088 515585024 20923904\n"
     ]
    },
    {
     "name": "stderr",
     "output_type": "stream",
     "text": [
      "  1%|█▍                                                                                                                                                                                       | 0.3065693430656933/40 [00:07<16:34, 25.06s/it]"
     ]
    },
    {
     "name": "stdout",
     "output_type": "stream",
     "text": [
      "Train Epoch: 61 [1280/3387 (38%)]\tLoss: 0.438694\n",
      "Mem before-during-after: 20923904 517164032 20923904\n"
     ]
    },
    {
     "name": "stderr",
     "output_type": "stream",
     "text": [
      "  1%|██▊                                                                                                                                                                                       | 0.598540145985401/40 [00:15<16:35, 25.27s/it]"
     ]
    },
    {
     "name": "stdout",
     "output_type": "stream",
     "text": [
      "Train Epoch: 61 [2560/3387 (76%)]\tLoss: 0.512556\n",
      "Mem before-during-after: 20923904 517164032 20923904\n"
     ]
    },
    {
     "name": "stderr",
     "output_type": "stream",
     "text": [
      "  3%|████▋                                                                                                                                                                                    | 1.0072992700729917/40 [00:25<15:34, 23.97s/it]"
     ]
    },
    {
     "name": "stdout",
     "output_type": "stream",
     "text": [
      "\n",
      "Test Epoch: 61\tAccuracy: 669/1024 (65%)\n",
      "\n",
      "Train Epoch: 62 [0/3387 (0%)]\tLoss: 0.706649\n",
      "Mem before-during-after: 20919808 516639744 20923904\n"
     ]
    },
    {
     "name": "stderr",
     "output_type": "stream",
     "text": [
      "  3%|██████                                                                                                                                                                                   | 1.3065693430656966/40 [00:32<16:27, 25.53s/it]"
     ]
    },
    {
     "name": "stdout",
     "output_type": "stream",
     "text": [
      "Train Epoch: 62 [1280/3387 (38%)]\tLoss: 0.398570\n",
      "Mem before-during-after: 20923904 517164032 20923904\n"
     ]
    },
    {
     "name": "stderr",
     "output_type": "stream",
     "text": [
      "  4%|███████▍                                                                                                                                                                                 | 1.5985401459854087/40 [00:40<16:10, 25.27s/it]"
     ]
    },
    {
     "name": "stdout",
     "output_type": "stream",
     "text": [
      "Train Epoch: 62 [2560/3387 (76%)]\tLoss: 0.681982\n",
      "Mem before-during-after: 20923904 517164032 20923904\n"
     ]
    },
    {
     "name": "stderr",
     "output_type": "stream",
     "text": [
      "  5%|█████████▎                                                                                                                                                                               | 2.0072992700730055/40 [00:49<15:13, 24.04s/it]"
     ]
    },
    {
     "name": "stdout",
     "output_type": "stream",
     "text": [
      "\n",
      "Test Epoch: 62\tAccuracy: 654/1024 (64%)\n",
      "\n",
      "Train Epoch: 63 [0/3387 (0%)]\tLoss: 0.758118\n",
      "Mem before-during-after: 20919808 516639744 20923904\n"
     ]
    },
    {
     "name": "stderr",
     "output_type": "stream",
     "text": [
      "  6%|██████████▋                                                                                                                                                                              | 2.3065693430657013/40 [00:57<15:42, 25.00s/it]"
     ]
    },
    {
     "name": "stdout",
     "output_type": "stream",
     "text": [
      "Train Epoch: 63 [1280/3387 (38%)]\tLoss: 0.529607\n",
      "Mem before-during-after: 20923904 517164032 20923904\n"
     ]
    },
    {
     "name": "stderr",
     "output_type": "stream",
     "text": [
      "  6%|████████████                                                                                                                                                                             | 2.5985401459854045/40 [01:04<15:38, 25.10s/it]"
     ]
    },
    {
     "name": "stdout",
     "output_type": "stream",
     "text": [
      "Train Epoch: 63 [2560/3387 (76%)]\tLoss: 0.771726\n",
      "Mem before-during-after: 20923904 517164032 20923904\n"
     ]
    },
    {
     "name": "stderr",
     "output_type": "stream",
     "text": [
      "  8%|█████████████▉                                                                                                                                                                            | 3.007299270072989/40 [01:14<14:50, 24.08s/it]"
     ]
    },
    {
     "name": "stdout",
     "output_type": "stream",
     "text": [
      "\n",
      "Test Epoch: 63\tAccuracy: 665/1024 (65%)\n",
      "\n",
      "Train Epoch: 64 [0/3387 (0%)]\tLoss: 0.637423\n",
      "Mem before-during-after: 20919808 516639744 20923904\n"
     ]
    },
    {
     "name": "stderr",
     "output_type": "stream",
     "text": [
      "  8%|███████████████▍                                                                                                                                                                          | 3.306569343065685/40 [01:22<15:35, 25.50s/it]"
     ]
    },
    {
     "name": "stdout",
     "output_type": "stream",
     "text": [
      "Train Epoch: 64 [1280/3387 (38%)]\tLoss: 0.530255\n",
      "Mem before-during-after: 20923904 517164032 20923904\n"
     ]
    },
    {
     "name": "stderr",
     "output_type": "stream",
     "text": [
      "  9%|████████████████▋                                                                                                                                                                         | 3.598540145985388/40 [01:29<15:26, 25.46s/it]"
     ]
    },
    {
     "name": "stdout",
     "output_type": "stream",
     "text": [
      "Train Epoch: 64 [2560/3387 (76%)]\tLoss: 0.688478\n",
      "Mem before-during-after: 20923904 517164032 20923904\n"
     ]
    },
    {
     "name": "stderr",
     "output_type": "stream",
     "text": [
      " 10%|██████████████████▋                                                                                                                                                                       | 4.007299270072973/40 [01:39<14:34, 24.30s/it]"
     ]
    },
    {
     "name": "stdout",
     "output_type": "stream",
     "text": [
      "\n",
      "Test Epoch: 64\tAccuracy: 657/1024 (64%)\n",
      "\n",
      "Train Epoch: 65 [0/3387 (0%)]\tLoss: 0.885010\n",
      "Mem before-during-after: 20919808 516639744 20923904\n"
     ]
    },
    {
     "name": "stderr",
     "output_type": "stream",
     "text": [
      " 11%|████████████████████                                                                                                                                                                      | 4.306569343065687/40 [01:47<15:01, 25.27s/it]"
     ]
    },
    {
     "name": "stdout",
     "output_type": "stream",
     "text": [
      "Train Epoch: 65 [1280/3387 (38%)]\tLoss: 0.600964\n",
      "Mem before-during-after: 20923904 517164032 20923904\n"
     ]
    },
    {
     "name": "stderr",
     "output_type": "stream",
     "text": [
      " 11%|█████████████████████▍                                                                                                                                                                    | 4.598540145985408/40 [01:54<14:58, 25.39s/it]"
     ]
    },
    {
     "name": "stdout",
     "output_type": "stream",
     "text": [
      "Train Epoch: 65 [2560/3387 (76%)]\tLoss: 0.624231\n",
      "Mem before-during-after: 20923904 517164032 20923904\n"
     ]
    },
    {
     "name": "stderr",
     "output_type": "stream",
     "text": [
      " 13%|███████████████████████▎                                                                                                                                                                  | 5.007299270073017/40 [02:04<14:02, 24.07s/it]"
     ]
    },
    {
     "name": "stdout",
     "output_type": "stream",
     "text": [
      "\n",
      "Test Epoch: 65\tAccuracy: 664/1024 (65%)\n",
      "\n",
      "Train Epoch: 66 [0/3387 (0%)]\tLoss: 0.483574\n",
      "Mem before-during-after: 20919808 516639744 20923904\n"
     ]
    },
    {
     "name": "stderr",
     "output_type": "stream",
     "text": [
      " 13%|████████████████████████▋                                                                                                                                                                 | 5.306569343065731/40 [02:12<14:39, 25.34s/it]"
     ]
    },
    {
     "name": "stdout",
     "output_type": "stream",
     "text": [
      "Train Epoch: 66 [1280/3387 (38%)]\tLoss: 1.030581\n",
      "Mem before-during-after: 20923904 517164032 20923904\n"
     ]
    },
    {
     "name": "stderr",
     "output_type": "stream",
     "text": [
      " 14%|██████████████████████████                                                                                                                                                                | 5.598540145985452/40 [02:19<14:41, 25.62s/it]"
     ]
    },
    {
     "name": "stdout",
     "output_type": "stream",
     "text": [
      "Train Epoch: 66 [2560/3387 (76%)]\tLoss: 0.577643\n",
      "Mem before-during-after: 20923904 517164032 20923904\n"
     ]
    },
    {
     "name": "stderr",
     "output_type": "stream",
     "text": [
      " 15%|███████████████████████████▉                                                                                                                                                              | 6.007299270073061/40 [02:29<13:47, 24.35s/it]"
     ]
    },
    {
     "name": "stdout",
     "output_type": "stream",
     "text": [
      "\n",
      "Test Epoch: 66\tAccuracy: 647/1024 (63%)\n",
      "\n",
      "Train Epoch: 67 [0/3387 (0%)]\tLoss: 0.643223\n",
      "Mem before-during-after: 20919808 516639744 20923904\n"
     ]
    },
    {
     "name": "stderr",
     "output_type": "stream",
     "text": [
      " 16%|█████████████████████████████▎                                                                                                                                                            | 6.306569343065775/40 [02:37<14:13, 25.32s/it]"
     ]
    },
    {
     "name": "stdout",
     "output_type": "stream",
     "text": [
      "Train Epoch: 67 [1280/3387 (38%)]\tLoss: 0.566464\n",
      "Mem before-during-after: 20923904 517164032 20923904\n"
     ]
    },
    {
     "name": "stderr",
     "output_type": "stream",
     "text": [
      " 16%|██████████████████████████████▋                                                                                                                                                           | 6.598540145985496/40 [02:44<14:04, 25.29s/it]"
     ]
    },
    {
     "name": "stdout",
     "output_type": "stream",
     "text": [
      "Train Epoch: 67 [2560/3387 (76%)]\tLoss: 0.455750\n",
      "Mem before-during-after: 20923904 517164032 20923904\n"
     ]
    },
    {
     "name": "stderr",
     "output_type": "stream",
     "text": [
      " 18%|████████████████████████████████▌                                                                                                                                                         | 7.007299270073106/40 [02:54<13:20, 24.28s/it]"
     ]
    },
    {
     "name": "stdout",
     "output_type": "stream",
     "text": [
      "\n",
      "Test Epoch: 67\tAccuracy: 660/1024 (64%)\n",
      "\n",
      "Train Epoch: 68 [0/3387 (0%)]\tLoss: 0.623361\n",
      "Mem before-during-after: 20919808 516639744 20923904\n"
     ]
    },
    {
     "name": "stderr",
     "output_type": "stream",
     "text": [
      " 18%|██████████████████████████████████▏                                                                                                                                                        | 7.30656934306582/40 [03:02<13:49, 25.36s/it]"
     ]
    },
    {
     "name": "stdout",
     "output_type": "stream",
     "text": [
      "Train Epoch: 68 [1280/3387 (38%)]\tLoss: 0.678024\n",
      "Mem before-during-after: 20923904 517164032 20923904\n"
     ]
    },
    {
     "name": "stderr",
     "output_type": "stream",
     "text": [
      " 19%|███████████████████████████████████▎                                                                                                                                                      | 7.598540145985541/40 [03:09<13:34, 25.13s/it]"
     ]
    },
    {
     "name": "stdout",
     "output_type": "stream",
     "text": [
      "Train Epoch: 68 [2560/3387 (76%)]\tLoss: 0.502542\n",
      "Mem before-during-after: 20923904 517164032 20923904\n"
     ]
    },
    {
     "name": "stderr",
     "output_type": "stream",
     "text": [
      " 20%|█████████████████████████████████████▍                                                                                                                                                     | 8.00729927007315/40 [03:19<13:10, 24.72s/it]"
     ]
    },
    {
     "name": "stdout",
     "output_type": "stream",
     "text": [
      "\n",
      "Test Epoch: 68\tAccuracy: 609/1024 (59%)\n",
      "\n",
      "Train Epoch: 69 [0/3387 (0%)]\tLoss: 0.670477\n",
      "Mem before-during-after: 20919808 516639744 20923904\n"
     ]
    },
    {
     "name": "stderr",
     "output_type": "stream",
     "text": [
      " 21%|██████████████████████████████████████▋                                                                                                                                                   | 8.306569343065863/40 [03:27<13:37, 25.80s/it]"
     ]
    },
    {
     "name": "stdout",
     "output_type": "stream",
     "text": [
      "Train Epoch: 69 [1280/3387 (38%)]\tLoss: 0.493132\n",
      "Mem before-during-after: 20923904 517164032 20923904\n"
     ]
    },
    {
     "name": "stderr",
     "output_type": "stream",
     "text": [
      " 21%|███████████████████████████████████████▉                                                                                                                                                  | 8.598540145985584/40 [03:35<13:12, 25.23s/it]"
     ]
    },
    {
     "name": "stdout",
     "output_type": "stream",
     "text": [
      "Train Epoch: 69 [2560/3387 (76%)]\tLoss: 0.501915\n",
      "Mem before-during-after: 20923904 517164032 20923904\n"
     ]
    },
    {
     "name": "stderr",
     "output_type": "stream",
     "text": [
      " 23%|█████████████████████████████████████████▉                                                                                                                                                | 9.007299270073194/40 [03:45<12:30, 24.23s/it]"
     ]
    },
    {
     "name": "stdout",
     "output_type": "stream",
     "text": [
      "\n",
      "Test Epoch: 69\tAccuracy: 665/1024 (65%)\n",
      "\n",
      "Train Epoch: 70 [0/3387 (0%)]\tLoss: 0.443676\n",
      "Mem before-during-after: 20919808 516639744 20923904\n"
     ]
    },
    {
     "name": "stderr",
     "output_type": "stream",
     "text": [
      " 23%|███████████████████████████████████████████▎                                                                                                                                              | 9.306569343065908/40 [03:52<12:52, 25.17s/it]"
     ]
    },
    {
     "name": "stdout",
     "output_type": "stream",
     "text": [
      "Train Epoch: 70 [1280/3387 (38%)]\tLoss: 0.530140\n",
      "Mem before-during-after: 20923904 517164032 20923904\n"
     ]
    },
    {
     "name": "stderr",
     "output_type": "stream",
     "text": [
      " 24%|████████████████████████████████████████████▋                                                                                                                                             | 9.598540145985629/40 [03:59<12:45, 25.19s/it]"
     ]
    },
    {
     "name": "stdout",
     "output_type": "stream",
     "text": [
      "Train Epoch: 70 [2560/3387 (76%)]\tLoss: 0.751054\n",
      "Mem before-during-after: 20923904 517164032 20923904\n"
     ]
    },
    {
     "name": "stderr",
     "output_type": "stream",
     "text": [
      " 25%|██████████████████████████████████████████████▎                                                                                                                                          | 10.007299270073238/40 [04:09<12:02, 24.09s/it]"
     ]
    },
    {
     "name": "stdout",
     "output_type": "stream",
     "text": [
      "\n",
      "Test Epoch: 70\tAccuracy: 655/1024 (64%)\n",
      "\n",
      "Train Epoch: 71 [0/3387 (0%)]\tLoss: 0.520845\n",
      "Mem before-during-after: 20919808 516639744 20923904\n"
     ]
    },
    {
     "name": "stderr",
     "output_type": "stream",
     "text": [
      " 26%|███████████████████████████████████████████████▋                                                                                                                                         | 10.306569343065952/40 [04:17<12:24, 25.08s/it]"
     ]
    },
    {
     "name": "stdout",
     "output_type": "stream",
     "text": [
      "Train Epoch: 71 [1280/3387 (38%)]\tLoss: 0.329283\n",
      "Mem before-during-after: 20923904 517164032 20923904\n"
     ]
    },
    {
     "name": "stderr",
     "output_type": "stream",
     "text": [
      " 26%|█████████████████████████████████████████████████                                                                                                                                        | 10.598540145985673/40 [04:24<12:21, 25.23s/it]"
     ]
    },
    {
     "name": "stdout",
     "output_type": "stream",
     "text": [
      "Train Epoch: 71 [2560/3387 (76%)]\tLoss: 0.509557\n",
      "Mem before-during-after: 20923904 517164032 20923904\n"
     ]
    },
    {
     "name": "stderr",
     "output_type": "stream",
     "text": [
      " 28%|██████████████████████████████████████████████████▉                                                                                                                                      | 11.007299270073283/40 [04:34<11:36, 24.02s/it]"
     ]
    },
    {
     "name": "stdout",
     "output_type": "stream",
     "text": [
      "\n",
      "Test Epoch: 71\tAccuracy: 645/1024 (63%)\n",
      "\n",
      "Train Epoch: 72 [0/3387 (0%)]\tLoss: 0.395002\n",
      "Mem before-during-after: 20919808 516639744 20923904\n"
     ]
    },
    {
     "name": "stderr",
     "output_type": "stream",
     "text": [
      " 28%|████████████████████████████████████████████████████▎                                                                                                                                    | 11.306569343065997/40 [04:42<12:06, 25.31s/it]"
     ]
    },
    {
     "name": "stdout",
     "output_type": "stream",
     "text": [
      "Train Epoch: 72 [1280/3387 (38%)]\tLoss: 0.702429\n",
      "Mem before-during-after: 20923904 517164032 20923904\n"
     ]
    },
    {
     "name": "stderr",
     "output_type": "stream",
     "text": [
      " 29%|█████████████████████████████████████████████████████▋                                                                                                                                   | 11.598540145985718/40 [04:49<11:50, 25.00s/it]"
     ]
    },
    {
     "name": "stdout",
     "output_type": "stream",
     "text": [
      "Train Epoch: 72 [2560/3387 (76%)]\tLoss: 0.561017\n",
      "Mem before-during-after: 20923904 517164032 20923904\n"
     ]
    },
    {
     "name": "stderr",
     "output_type": "stream",
     "text": [
      " 30%|███████████████████████████████████████████████████████▌                                                                                                                                 | 12.007299270073327/40 [04:59<11:06, 23.82s/it]"
     ]
    },
    {
     "name": "stdout",
     "output_type": "stream",
     "text": [
      "\n",
      "Test Epoch: 72\tAccuracy: 646/1024 (63%)\n",
      "\n",
      "Train Epoch: 73 [0/3387 (0%)]\tLoss: 0.676280\n",
      "Mem before-during-after: 20919808 516639744 20923904\n"
     ]
    },
    {
     "name": "stderr",
     "output_type": "stream",
     "text": [
      " 31%|████████████████████████████████████████████████████████▉                                                                                                                                | 12.306569343066041/40 [05:07<11:34, 25.06s/it]"
     ]
    },
    {
     "name": "stdout",
     "output_type": "stream",
     "text": [
      "Train Epoch: 73 [1280/3387 (38%)]\tLoss: 0.485049\n",
      "Mem before-during-after: 20923904 517164032 20923904\n"
     ]
    },
    {
     "name": "stderr",
     "output_type": "stream",
     "text": [
      " 31%|██████████████████████████████████████████████████████████▎                                                                                                                              | 12.598540145985762/40 [05:14<11:25, 25.03s/it]"
     ]
    },
    {
     "name": "stdout",
     "output_type": "stream",
     "text": [
      "Train Epoch: 73 [2560/3387 (76%)]\tLoss: 0.703620\n",
      "Mem before-during-after: 20923904 517164032 20923904\n"
     ]
    },
    {
     "name": "stderr",
     "output_type": "stream",
     "text": [
      " 33%|████████████████████████████████████████████████████████████▏                                                                                                                            | 13.007299270073371/40 [05:24<10:43, 23.84s/it]"
     ]
    },
    {
     "name": "stdout",
     "output_type": "stream",
     "text": [
      "\n",
      "Test Epoch: 73\tAccuracy: 661/1024 (64%)\n",
      "\n",
      "Train Epoch: 74 [0/3387 (0%)]\tLoss: 0.663267\n",
      "Mem before-during-after: 20919808 516639744 20923904\n"
     ]
    },
    {
     "name": "stderr",
     "output_type": "stream",
     "text": [
      " 33%|█████████████████████████████████████████████████████████████▌                                                                                                                           | 13.306569343066085/40 [05:31<11:08, 25.04s/it]"
     ]
    },
    {
     "name": "stdout",
     "output_type": "stream",
     "text": [
      "Train Epoch: 74 [1280/3387 (38%)]\tLoss: 0.619025\n",
      "Mem before-during-after: 20923904 517164032 20923904\n"
     ]
    },
    {
     "name": "stderr",
     "output_type": "stream",
     "text": [
      " 34%|██████████████████████████████████████████████████████████████▉                                                                                                                          | 13.598540145985806/40 [05:39<11:04, 25.15s/it]"
     ]
    },
    {
     "name": "stdout",
     "output_type": "stream",
     "text": [
      "Train Epoch: 74 [2560/3387 (76%)]\tLoss: 0.417503\n",
      "Mem before-during-after: 20923904 517164032 20923904\n"
     ]
    },
    {
     "name": "stderr",
     "output_type": "stream",
     "text": [
      " 35%|████████████████████████████████████████████████████████████████▊                                                                                                                        | 14.007299270073416/40 [05:49<10:17, 23.78s/it]"
     ]
    },
    {
     "name": "stdout",
     "output_type": "stream",
     "text": [
      "\n",
      "Test Epoch: 74\tAccuracy: 648/1024 (63%)\n",
      "\n",
      "Train Epoch: 75 [0/3387 (0%)]\tLoss: 0.603995\n",
      "Mem before-during-after: 20919808 516639744 20923904\n"
     ]
    },
    {
     "name": "stderr",
     "output_type": "stream",
     "text": [
      " 36%|██████████████████████████████████████████████████████████████████▌                                                                                                                       | 14.30656934306613/40 [05:56<10:40, 24.93s/it]"
     ]
    },
    {
     "name": "stdout",
     "output_type": "stream",
     "text": [
      "Train Epoch: 75 [1280/3387 (38%)]\tLoss: 0.542105\n",
      "Mem before-during-after: 20923904 517164032 20923904\n"
     ]
    },
    {
     "name": "stderr",
     "output_type": "stream",
     "text": [
      " 36%|███████████████████████████████████████████████████████████████████▉                                                                                                                      | 14.59854014598585/40 [06:03<10:58, 25.91s/it]"
     ]
    },
    {
     "name": "stdout",
     "output_type": "stream",
     "text": [
      "Train Epoch: 75 [2560/3387 (76%)]\tLoss: 0.345991\n",
      "Mem before-during-after: 20923904 517164032 20923904\n"
     ]
    },
    {
     "name": "stderr",
     "output_type": "stream",
     "text": [
      " 38%|█████████████████████████████████████████████████████████████████████▊                                                                                                                    | 15.00729927007346/40 [06:13<09:56, 23.85s/it]"
     ]
    },
    {
     "name": "stdout",
     "output_type": "stream",
     "text": [
      "\n",
      "Test Epoch: 75\tAccuracy: 665/1024 (65%)\n",
      "\n",
      "Train Epoch: 76 [0/3387 (0%)]\tLoss: 0.494635\n",
      "Mem before-during-after: 20919808 516639744 20923904\n"
     ]
    },
    {
     "name": "stderr",
     "output_type": "stream",
     "text": [
      " 38%|██████████████████████████████████████████████████████████████████████▊                                                                                                                  | 15.306569343066174/40 [06:21<10:17, 25.02s/it]"
     ]
    },
    {
     "name": "stdout",
     "output_type": "stream",
     "text": [
      "Train Epoch: 76 [1280/3387 (38%)]\tLoss: 0.440850\n",
      "Mem before-during-after: 20923904 517164032 20923904\n"
     ]
    },
    {
     "name": "stderr",
     "output_type": "stream",
     "text": [
      " 39%|████████████████████████████████████████████████████████████████████████▏                                                                                                                | 15.598540145985895/40 [06:28<10:26, 25.69s/it]"
     ]
    },
    {
     "name": "stdout",
     "output_type": "stream",
     "text": [
      "Train Epoch: 76 [2560/3387 (76%)]\tLoss: 0.796861\n",
      "Mem before-during-after: 20923904 517164032 20923904\n"
     ]
    },
    {
     "name": "stderr",
     "output_type": "stream",
     "text": [
      " 40%|██████████████████████████████████████████████████████████████████████████                                                                                                               | 16.007299270073503/40 [06:38<09:35, 23.98s/it]"
     ]
    },
    {
     "name": "stdout",
     "output_type": "stream",
     "text": [
      "\n",
      "Test Epoch: 76\tAccuracy: 657/1024 (64%)\n",
      "\n",
      "Train Epoch: 77 [0/3387 (0%)]\tLoss: 0.483430\n",
      "Mem before-during-after: 20919808 516639744 20923904\n"
     ]
    },
    {
     "name": "stderr",
     "output_type": "stream",
     "text": [
      " 41%|███████████████████████████████████████████████████████████████████████████▍                                                                                                             | 16.306569343066144/40 [06:46<09:50, 24.91s/it]"
     ]
    },
    {
     "name": "stdout",
     "output_type": "stream",
     "text": [
      "Train Epoch: 77 [1280/3387 (38%)]\tLoss: 0.716997\n",
      "Mem before-during-after: 20923904 517164032 20923904\n"
     ]
    },
    {
     "name": "stderr",
     "output_type": "stream",
     "text": [
      " 41%|████████████████████████████████████████████████████████████████████████████▊                                                                                                            | 16.598540145985794/40 [06:53<09:45, 25.00s/it]"
     ]
    },
    {
     "name": "stdout",
     "output_type": "stream",
     "text": [
      "Train Epoch: 77 [2560/3387 (76%)]\tLoss: 0.433532\n",
      "Mem before-during-after: 20923904 517164032 20923904\n"
     ]
    },
    {
     "name": "stderr",
     "output_type": "stream",
     "text": [
      " 43%|██████████████████████████████████████████████████████████████████████████████▋                                                                                                          | 17.007299270073304/40 [07:03<09:10, 23.96s/it]"
     ]
    },
    {
     "name": "stdout",
     "output_type": "stream",
     "text": [
      "\n",
      "Test Epoch: 77\tAccuracy: 665/1024 (65%)\n",
      "\n",
      "Train Epoch: 78 [0/3387 (0%)]\tLoss: 0.420318\n",
      "Mem before-during-after: 20919808 516639744 20923904\n"
     ]
    },
    {
     "name": "stderr",
     "output_type": "stream",
     "text": [
      " 43%|████████████████████████████████████████████████████████████████████████████████                                                                                                         | 17.306569343065945/40 [07:10<09:29, 25.09s/it]"
     ]
    },
    {
     "name": "stdout",
     "output_type": "stream",
     "text": [
      "Train Epoch: 78 [1280/3387 (38%)]\tLoss: 0.701893\n",
      "Mem before-during-after: 20923904 517164032 20923904\n"
     ]
    },
    {
     "name": "stderr",
     "output_type": "stream",
     "text": [
      " 44%|█████████████████████████████████████████████████████████████████████████████████▍                                                                                                       | 17.598540145985595/40 [07:18<09:18, 24.91s/it]"
     ]
    },
    {
     "name": "stdout",
     "output_type": "stream",
     "text": [
      "Train Epoch: 78 [2560/3387 (76%)]\tLoss: 0.609089\n",
      "Mem before-during-after: 20923904 517164032 20923904\n"
     ]
    },
    {
     "name": "stderr",
     "output_type": "stream",
     "text": [
      " 45%|███████████████████████████████████████████████████████████████████████████████████▎                                                                                                     | 18.007299270073105/40 [07:28<08:43, 23.81s/it]"
     ]
    },
    {
     "name": "stdout",
     "output_type": "stream",
     "text": [
      "\n",
      "Test Epoch: 78\tAccuracy: 643/1024 (63%)\n",
      "\n",
      "Train Epoch: 79 [0/3387 (0%)]\tLoss: 0.344549\n",
      "Mem before-during-after: 20919808 516639744 20923904\n"
     ]
    },
    {
     "name": "stderr",
     "output_type": "stream",
     "text": [
      " 46%|████████████████████████████████████████████████████████████████████████████████████▋                                                                                                    | 18.306569343065746/40 [07:35<09:03, 25.07s/it]"
     ]
    },
    {
     "name": "stdout",
     "output_type": "stream",
     "text": [
      "Train Epoch: 79 [1280/3387 (38%)]\tLoss: 0.497178\n",
      "Mem before-during-after: 20923904 517164032 20923904\n"
     ]
    },
    {
     "name": "stderr",
     "output_type": "stream",
     "text": [
      " 46%|██████████████████████████████████████████████████████████████████████████████████████                                                                                                   | 18.598540145985396/40 [07:42<08:56, 25.09s/it]"
     ]
    },
    {
     "name": "stdout",
     "output_type": "stream",
     "text": [
      "Train Epoch: 79 [2560/3387 (76%)]\tLoss: 0.739921\n",
      "Mem before-during-after: 20923904 517164032 20923904\n"
     ]
    },
    {
     "name": "stderr",
     "output_type": "stream",
     "text": [
      " 48%|███████████████████████████████████████████████████████████████████████████████████████▉                                                                                                 | 19.007299270072906/40 [07:52<08:31, 24.36s/it]"
     ]
    },
    {
     "name": "stdout",
     "output_type": "stream",
     "text": [
      "\n",
      "Test Epoch: 79\tAccuracy: 650/1024 (63%)\n",
      "\n",
      "Train Epoch: 80 [0/3387 (0%)]\tLoss: 0.542925\n",
      "Mem before-during-after: 20919808 516639744 20923904\n"
     ]
    },
    {
     "name": "stderr",
     "output_type": "stream",
     "text": [
      " 48%|█████████████████████████████████████████████████████████████████████████████████████████▎                                                                                               | 19.306569343065547/40 [08:00<08:37, 25.02s/it]"
     ]
    },
    {
     "name": "stdout",
     "output_type": "stream",
     "text": [
      "Train Epoch: 80 [1280/3387 (38%)]\tLoss: 0.777619\n",
      "Mem before-during-after: 20923904 517164032 20923904\n"
     ]
    },
    {
     "name": "stderr",
     "output_type": "stream",
     "text": [
      " 49%|██████████████████████████████████████████████████████████████████████████████████████████▋                                                                                              | 19.598540145985197/40 [08:07<08:28, 24.91s/it]"
     ]
    },
    {
     "name": "stdout",
     "output_type": "stream",
     "text": [
      "Train Epoch: 80 [2560/3387 (76%)]\tLoss: 0.704631\n",
      "Mem before-during-after: 20923904 517164032 20923904\n"
     ]
    },
    {
     "name": "stderr",
     "output_type": "stream",
     "text": [
      " 50%|████████████████████████████████████████████████████████████████████████████████████████████▌                                                                                            | 20.007299270072707/40 [08:17<07:55, 23.80s/it]"
     ]
    },
    {
     "name": "stdout",
     "output_type": "stream",
     "text": [
      "\n",
      "Test Epoch: 80\tAccuracy: 657/1024 (64%)\n",
      "\n",
      "Train Epoch: 81 [0/3387 (0%)]\tLoss: 0.672702\n",
      "Mem before-during-after: 20919808 516639744 20923904\n"
     ]
    },
    {
     "name": "stderr",
     "output_type": "stream",
     "text": [
      " 51%|█████████████████████████████████████████████████████████████████████████████████████████████▉                                                                                           | 20.306569343065348/40 [08:25<08:19, 25.36s/it]"
     ]
    },
    {
     "name": "stdout",
     "output_type": "stream",
     "text": [
      "Train Epoch: 81 [1280/3387 (38%)]\tLoss: 0.720344\n",
      "Mem before-during-after: 20923904 517164032 20923904\n"
     ]
    },
    {
     "name": "stderr",
     "output_type": "stream",
     "text": [
      " 51%|███████████████████████████████████████████████████████████████████████████████████████████████▎                                                                                         | 20.598540145984998/40 [08:32<08:12, 25.37s/it]"
     ]
    },
    {
     "name": "stdout",
     "output_type": "stream",
     "text": [
      "Train Epoch: 81 [2560/3387 (76%)]\tLoss: 0.395756\n",
      "Mem before-during-after: 20923904 517164032 20923904\n"
     ]
    },
    {
     "name": "stderr",
     "output_type": "stream",
     "text": [
      " 53%|█████████████████████████████████████████████████████████████████████████████████████████████████▏                                                                                       | 21.007299270072508/40 [08:42<07:33, 23.87s/it]"
     ]
    },
    {
     "name": "stdout",
     "output_type": "stream",
     "text": [
      "\n",
      "Test Epoch: 81\tAccuracy: 643/1024 (63%)\n",
      "\n",
      "Train Epoch: 82 [0/3387 (0%)]\tLoss: 0.397876\n",
      "Mem before-during-after: 20919808 516639744 20923904\n"
     ]
    },
    {
     "name": "stderr",
     "output_type": "stream",
     "text": [
      " 53%|███████████████████████████████████████████████████████████████████████████████████████████████████                                                                                       | 21.30656934306515/40 [08:49<07:47, 25.03s/it]"
     ]
    },
    {
     "name": "stdout",
     "output_type": "stream",
     "text": [
      "Train Epoch: 82 [1280/3387 (38%)]\tLoss: 0.535309\n",
      "Mem before-during-after: 20923904 517164032 20923904\n"
     ]
    },
    {
     "name": "stderr",
     "output_type": "stream",
     "text": [
      " 54%|████████████████████████████████████████████████████████████████████████████████████████████████████▉                                                                                      | 21.5985401459848/40 [08:57<07:51, 25.61s/it]"
     ]
    },
    {
     "name": "stdout",
     "output_type": "stream",
     "text": [
      "Train Epoch: 82 [2560/3387 (76%)]\tLoss: 0.501820\n",
      "Mem before-during-after: 20923904 517164032 20923904\n"
     ]
    },
    {
     "name": "stderr",
     "output_type": "stream",
     "text": [
      " 55%|██████████████████████████████████████████████████████████████████████████████████████████████████████▎                                                                                   | 22.00729927007231/40 [09:06<07:08, 23.80s/it]"
     ]
    },
    {
     "name": "stdout",
     "output_type": "stream",
     "text": [
      "\n",
      "Test Epoch: 82\tAccuracy: 645/1024 (63%)\n",
      "\n",
      "Train Epoch: 83 [0/3387 (0%)]\tLoss: 0.570787\n",
      "Mem before-during-after: 20919808 516639744 20923904\n"
     ]
    },
    {
     "name": "stderr",
     "output_type": "stream",
     "text": [
      " 56%|███████████████████████████████████████████████████████████████████████████████████████████████████████▋                                                                                  | 22.30656934306495/40 [09:14<07:22, 25.03s/it]"
     ]
    },
    {
     "name": "stdout",
     "output_type": "stream",
     "text": [
      "Train Epoch: 83 [1280/3387 (38%)]\tLoss: 0.586577\n",
      "Mem before-during-after: 20923904 517164032 20923904\n"
     ]
    },
    {
     "name": "stderr",
     "output_type": "stream",
     "text": [
      " 56%|█████████████████████████████████████████████████████████████████████████████████████████████████████████▋                                                                                 | 22.5985401459846/40 [09:21<07:16, 25.06s/it]"
     ]
    },
    {
     "name": "stdout",
     "output_type": "stream",
     "text": [
      "Train Epoch: 83 [2560/3387 (76%)]\tLoss: 0.701823\n",
      "Mem before-during-after: 20923904 517164032 20923904\n"
     ]
    },
    {
     "name": "stderr",
     "output_type": "stream",
     "text": [
      " 58%|██████████████████████████████████████████████████████████████████████████████████████████████████████████▉                                                                               | 23.00729927007211/40 [09:31<06:48, 24.01s/it]"
     ]
    },
    {
     "name": "stdout",
     "output_type": "stream",
     "text": [
      "\n",
      "Test Epoch: 83\tAccuracy: 623/1024 (61%)\n",
      "\n",
      "Train Epoch: 84 [0/3387 (0%)]\tLoss: 0.400441\n",
      "Mem before-during-after: 20919808 516639744 20923904\n"
     ]
    },
    {
     "name": "stderr",
     "output_type": "stream",
     "text": [
      " 58%|████████████████████████████████████████████████████████████████████████████████████████████████████████████▍                                                                             | 23.30656934306475/40 [09:39<06:56, 24.95s/it]"
     ]
    },
    {
     "name": "stdout",
     "output_type": "stream",
     "text": [
      "Train Epoch: 84 [1280/3387 (38%)]\tLoss: 0.715963\n",
      "Mem before-during-after: 20923904 517164032 20923904\n"
     ]
    },
    {
     "name": "stderr",
     "output_type": "stream",
     "text": [
      " 59%|██████████████████████████████████████████████████████████████████████████████████████████████████████████████▎                                                                            | 23.5985401459844/40 [09:46<06:50, 25.02s/it]"
     ]
    },
    {
     "name": "stdout",
     "output_type": "stream",
     "text": [
      "Train Epoch: 84 [2560/3387 (76%)]\tLoss: 0.627753\n",
      "Mem before-during-after: 20923904 517164032 20923904\n"
     ]
    },
    {
     "name": "stderr",
     "output_type": "stream",
     "text": [
      " 60%|███████████████████████████████████████████████████████████████████████████████████████████████████████████████▋                                                                          | 24.00729927007191/40 [09:56<06:30, 24.45s/it]"
     ]
    },
    {
     "name": "stdout",
     "output_type": "stream",
     "text": [
      "\n",
      "Test Epoch: 84\tAccuracy: 626/1024 (61%)\n",
      "\n",
      "Train Epoch: 85 [0/3387 (0%)]\tLoss: 0.666097\n",
      "Mem before-during-after: 20919808 516639744 20923904\n"
     ]
    },
    {
     "name": "stderr",
     "output_type": "stream",
     "text": [
      " 61%|████████████████████████████████████████████████████████████████████████████████████████████████████████████████▍                                                                        | 24.306569343064552/40 [10:04<06:42, 25.66s/it]"
     ]
    },
    {
     "name": "stdout",
     "output_type": "stream",
     "text": [
      "Train Epoch: 85 [1280/3387 (38%)]\tLoss: 0.451722\n",
      "Mem before-during-after: 20923904 517164032 20923904\n"
     ]
    },
    {
     "name": "stderr",
     "output_type": "stream",
     "text": [
      " 61%|█████████████████████████████████████████████████████████████████████████████████████████████████████████████████▊                                                                       | 24.598540145984202/40 [10:11<06:34, 25.59s/it]"
     ]
    },
    {
     "name": "stdout",
     "output_type": "stream",
     "text": [
      "Train Epoch: 85 [2560/3387 (76%)]\tLoss: 0.384945\n",
      "Mem before-during-after: 20923904 517164032 20923904\n"
     ]
    },
    {
     "name": "stderr",
     "output_type": "stream",
     "text": [
      " 63%|███████████████████████████████████████████████████████████████████████████████████████████████████████████████████▋                                                                     | 25.007299270071712/40 [10:21<06:08, 24.59s/it]"
     ]
    },
    {
     "name": "stdout",
     "output_type": "stream",
     "text": [
      "\n",
      "Test Epoch: 85\tAccuracy: 628/1024 (61%)\n",
      "\n",
      "Train Epoch: 86 [0/3387 (0%)]\tLoss: 0.849830\n",
      "Mem before-during-after: 20919808 516639744 20923904\n"
     ]
    },
    {
     "name": "stderr",
     "output_type": "stream",
     "text": [
      " 63%|█████████████████████████████████████████████████████████████████████████████████████████████████████████████████████                                                                    | 25.306569343064353/40 [10:29<06:15, 25.57s/it]"
     ]
    },
    {
     "name": "stdout",
     "output_type": "stream",
     "text": [
      "Train Epoch: 86 [1280/3387 (38%)]\tLoss: 0.542389\n",
      "Mem before-during-after: 20923904 517164032 20923904\n"
     ]
    },
    {
     "name": "stderr",
     "output_type": "stream",
     "text": [
      " 64%|██████████████████████████████████████████████████████████████████████████████████████████████████████████████████████▍                                                                  | 25.598540145984003/40 [10:37<06:08, 25.59s/it]"
     ]
    },
    {
     "name": "stdout",
     "output_type": "stream",
     "text": [
      "Train Epoch: 86 [2560/3387 (76%)]\tLoss: 0.583202\n",
      "Mem before-during-after: 20923904 517164032 20923904\n"
     ]
    },
    {
     "name": "stderr",
     "output_type": "stream",
     "text": [
      " 65%|████████████████████████████████████████████████████████████████████████████████████████████████████████████████████████▎                                                                | 26.007299270071513/40 [10:47<05:43, 24.54s/it]"
     ]
    },
    {
     "name": "stdout",
     "output_type": "stream",
     "text": [
      "\n",
      "Test Epoch: 86\tAccuracy: 648/1024 (63%)\n",
      "\n",
      "Train Epoch: 87 [0/3387 (0%)]\tLoss: 0.564340\n",
      "Mem before-during-after: 20919808 516639744 20923904\n"
     ]
    },
    {
     "name": "stderr",
     "output_type": "stream",
     "text": [
      " 66%|█████████████████████████████████████████████████████████████████████████████████████████████████████████████████████████▋                                                               | 26.306569343064155/40 [10:54<05:49, 25.52s/it]"
     ]
    },
    {
     "name": "stdout",
     "output_type": "stream",
     "text": [
      "Train Epoch: 87 [1280/3387 (38%)]\tLoss: 0.764394\n",
      "Mem before-during-after: 20923904 517164032 20923904\n"
     ]
    },
    {
     "name": "stderr",
     "output_type": "stream",
     "text": [
      " 66%|███████████████████████████████████████████████████████████████████████████████████████████████████████████████████████████                                                              | 26.598540145983804/40 [11:02<05:42, 25.54s/it]"
     ]
    },
    {
     "name": "stdout",
     "output_type": "stream",
     "text": [
      "Train Epoch: 87 [2560/3387 (76%)]\tLoss: 0.521282\n",
      "Mem before-during-after: 20923904 517164032 20923904\n"
     ]
    },
    {
     "name": "stderr",
     "output_type": "stream",
     "text": [
      " 68%|████████████████████████████████████████████████████████████████████████████████████████████████████████████████████████████▉                                                            | 27.007299270071314/40 [11:12<05:09, 23.83s/it]"
     ]
    },
    {
     "name": "stdout",
     "output_type": "stream",
     "text": [
      "\n",
      "Test Epoch: 87\tAccuracy: 640/1024 (62%)\n",
      "\n",
      "Train Epoch: 88 [0/3387 (0%)]\tLoss: 0.911252\n",
      "Mem before-during-after: 20919808 516639744 20923904\n"
     ]
    },
    {
     "name": "stderr",
     "output_type": "stream",
     "text": [
      " 68%|██████████████████████████████████████████████████████████████████████████████████████████████████████████████████████████████▎                                                          | 27.306569343063956/40 [11:19<05:27, 25.80s/it]"
     ]
    },
    {
     "name": "stdout",
     "output_type": "stream",
     "text": [
      "Train Epoch: 88 [1280/3387 (38%)]\tLoss: 0.724528\n",
      "Mem before-during-after: 20923904 517164032 20923904\n"
     ]
    },
    {
     "name": "stderr",
     "output_type": "stream",
     "text": [
      " 69%|███████████████████████████████████████████████████████████████████████████████████████████████████████████████████████████████▋                                                         | 27.598540145983605/40 [11:27<05:16, 25.49s/it]"
     ]
    },
    {
     "name": "stdout",
     "output_type": "stream",
     "text": [
      "Train Epoch: 88 [2560/3387 (76%)]\tLoss: 0.391755\n",
      "Mem before-during-after: 20923904 517164032 20923904\n"
     ]
    },
    {
     "name": "stderr",
     "output_type": "stream",
     "text": [
      " 70%|█████████████████████████████████████████████████████████████████████████████████████████████████████████████████████████████████▌                                                       | 28.007299270071115/40 [11:37<04:45, 23.81s/it]"
     ]
    },
    {
     "name": "stdout",
     "output_type": "stream",
     "text": [
      "\n",
      "Test Epoch: 88\tAccuracy: 636/1024 (62%)\n",
      "\n",
      "Train Epoch: 89 [0/3387 (0%)]\tLoss: 0.719857\n",
      "Mem before-during-after: 20919808 516639744 20923904\n"
     ]
    },
    {
     "name": "stderr",
     "output_type": "stream",
     "text": [
      " 71%|██████████████████████████████████████████████████████████████████████████████████████████████████████████████████████████████████▉                                                      | 28.306569343063757/40 [11:44<04:51, 24.96s/it]"
     ]
    },
    {
     "name": "stdout",
     "output_type": "stream",
     "text": [
      "Train Epoch: 89 [1280/3387 (38%)]\tLoss: 0.685407\n",
      "Mem before-during-after: 20923904 517164032 20923904\n"
     ]
    },
    {
     "name": "stderr",
     "output_type": "stream",
     "text": [
      " 71%|████████████████████████████████████████████████████████████████████████████████████████████████████████████████████████████████████▎                                                    | 28.598540145983407/40 [11:52<04:53, 25.75s/it]"
     ]
    },
    {
     "name": "stdout",
     "output_type": "stream",
     "text": [
      "Train Epoch: 89 [2560/3387 (76%)]\tLoss: 0.517348\n",
      "Mem before-during-after: 20923904 517164032 20923904\n"
     ]
    },
    {
     "name": "stderr",
     "output_type": "stream",
     "text": [
      " 73%|██████████████████████████████████████████████████████████████████████████████████████████████████████████████████████████████████████▏                                                  | 29.007299270070916/40 [12:02<04:23, 23.99s/it]"
     ]
    },
    {
     "name": "stdout",
     "output_type": "stream",
     "text": [
      "\n",
      "Test Epoch: 89\tAccuracy: 650/1024 (63%)\n",
      "\n",
      "Train Epoch: 90 [0/3387 (0%)]\tLoss: 0.398253\n",
      "Mem before-during-after: 20919808 516639744 20923904\n"
     ]
    },
    {
     "name": "stderr",
     "output_type": "stream",
     "text": [
      " 73%|███████████████████████████████████████████████████████████████████████████████████████████████████████████████████████████████████████▌                                                 | 29.306569343063558/40 [12:09<04:30, 25.33s/it]"
     ]
    },
    {
     "name": "stdout",
     "output_type": "stream",
     "text": [
      "Train Epoch: 90 [1280/3387 (38%)]\tLoss: 0.979112\n",
      "Mem before-during-after: 20923904 517164032 20923904\n"
     ]
    },
    {
     "name": "stderr",
     "output_type": "stream",
     "text": [
      " 74%|████████████████████████████████████████████████████████████████████████████████████████████████████████████████████████████████████████▉                                                | 29.598540145983208/40 [12:16<04:19, 24.99s/it]"
     ]
    },
    {
     "name": "stdout",
     "output_type": "stream",
     "text": [
      "Train Epoch: 90 [2560/3387 (76%)]\tLoss: 0.527497\n",
      "Mem before-during-after: 20923904 517164032 20923904\n"
     ]
    },
    {
     "name": "stderr",
     "output_type": "stream",
     "text": [
      " 75%|██████████████████████████████████████████████████████████████████████████████████████████████████████████████████████████████████████████▊                                              | 30.007299270070718/40 [12:26<04:01, 24.16s/it]"
     ]
    },
    {
     "name": "stdout",
     "output_type": "stream",
     "text": [
      "\n",
      "Test Epoch: 90\tAccuracy: 642/1024 (63%)\n",
      "\n",
      "Train Epoch: 91 [0/3387 (0%)]\tLoss: 0.480105\n",
      "Mem before-during-after: 20919808 516639744 20923904\n"
     ]
    },
    {
     "name": "stderr",
     "output_type": "stream",
     "text": [
      " 76%|████████████████████████████████████████████████████████████████████████████████████████████████████████████████████████████████████████████▉                                             | 30.30656934306336/40 [12:34<04:01, 24.92s/it]"
     ]
    },
    {
     "name": "stdout",
     "output_type": "stream",
     "text": [
      "Train Epoch: 91 [1280/3387 (38%)]\tLoss: 0.454564\n",
      "Mem before-during-after: 20923904 517164032 20923904\n"
     ]
    },
    {
     "name": "stderr",
     "output_type": "stream",
     "text": [
      " 76%|██████████████████████████████████████████████████████████████████████████████████████████████████████████████████████████████████████████████▎                                           | 30.59854014598301/40 [12:41<03:55, 25.07s/it]"
     ]
    },
    {
     "name": "stdout",
     "output_type": "stream",
     "text": [
      "Train Epoch: 91 [2560/3387 (76%)]\tLoss: 0.425365\n",
      "Mem before-during-after: 20923904 517164032 20923904\n"
     ]
    },
    {
     "name": "stderr",
     "output_type": "stream",
     "text": [
      " 78%|████████████████████████████████████████████████████████████████████████████████████████████████████████████████████████████████████████████████▏                                         | 31.00729927007052/40 [12:51<03:36, 24.10s/it]"
     ]
    },
    {
     "name": "stdout",
     "output_type": "stream",
     "text": [
      "\n",
      "Test Epoch: 91\tAccuracy: 638/1024 (62%)\n",
      "\n",
      "Train Epoch: 92 [0/3387 (0%)]\tLoss: 0.317929\n",
      "Mem before-during-after: 20919808 516639744 20923904\n"
     ]
    },
    {
     "name": "stderr",
     "output_type": "stream",
     "text": [
      " 78%|█████████████████████████████████████████████████████████████████████████████████████████████████████████████████████████████████████████████████▌                                        | 31.30656934306316/40 [12:59<03:36, 24.90s/it]"
     ]
    },
    {
     "name": "stdout",
     "output_type": "stream",
     "text": [
      "Train Epoch: 92 [1280/3387 (38%)]\tLoss: 0.390393\n",
      "Mem before-during-after: 20923904 517164032 20923904\n"
     ]
    },
    {
     "name": "stderr",
     "output_type": "stream",
     "text": [
      " 79%|██████████████████████████████████████████████████████████████████████████████████████████████████████████████████████████████████████████████████▉                                       | 31.59854014598281/40 [13:06<03:29, 24.99s/it]"
     ]
    },
    {
     "name": "stdout",
     "output_type": "stream",
     "text": [
      "Train Epoch: 92 [2560/3387 (76%)]\tLoss: 0.751562\n",
      "Mem before-during-after: 20923904 517164032 20923904\n"
     ]
    },
    {
     "name": "stderr",
     "output_type": "stream",
     "text": [
      " 80%|████████████████████████████████████████████████████████████████████████████████████████████████████████████████████████████████████████████████████▊                                     | 32.00729927007032/40 [13:16<03:11, 23.92s/it]"
     ]
    },
    {
     "name": "stdout",
     "output_type": "stream",
     "text": [
      "\n",
      "Test Epoch: 92\tAccuracy: 648/1024 (63%)\n",
      "\n",
      "Train Epoch: 93 [0/3387 (0%)]\tLoss: 0.436109\n",
      "Mem before-during-after: 20919808 516639744 20923904\n"
     ]
    },
    {
     "name": "stderr",
     "output_type": "stream",
     "text": [
      " 81%|██████████████████████████████████████████████████████████████████████████████████████████████████████████████████████████████████████████████████████▏                                   | 32.30656934306296/40 [13:23<03:14, 25.34s/it]"
     ]
    },
    {
     "name": "stdout",
     "output_type": "stream",
     "text": [
      "Train Epoch: 93 [1280/3387 (38%)]\tLoss: 0.372088\n",
      "Mem before-during-after: 20923904 517164032 20923904\n"
     ]
    },
    {
     "name": "stderr",
     "output_type": "stream",
     "text": [
      " 81%|███████████████████████████████████████████████████████████████████████████████████████████████████████████████████████████████████████████████████████▌                                  | 32.59854014598261/40 [13:31<03:06, 25.13s/it]"
     ]
    },
    {
     "name": "stdout",
     "output_type": "stream",
     "text": [
      "Train Epoch: 93 [2560/3387 (76%)]\tLoss: 0.600095\n",
      "Mem before-during-after: 20923904 517164032 20923904\n"
     ]
    },
    {
     "name": "stderr",
     "output_type": "stream",
     "text": [
      " 83%|█████████████████████████████████████████████████████████████████████████████████████████████████████████████████████████████████████████████████████████▍                                | 33.00729927007012/40 [13:41<02:46, 23.84s/it]"
     ]
    },
    {
     "name": "stdout",
     "output_type": "stream",
     "text": [
      "\n",
      "Test Epoch: 93\tAccuracy: 638/1024 (62%)\n",
      "\n",
      "Train Epoch: 94 [0/3387 (0%)]\tLoss: 0.707880\n",
      "Mem before-during-after: 20919808 516639744 20923904\n"
     ]
    },
    {
     "name": "stderr",
     "output_type": "stream",
     "text": [
      " 83%|██████████████████████████████████████████████████████████████████████████████████████████████████████████████████████████████████████████████████████████▉                               | 33.30656934306276/40 [13:48<02:48, 25.14s/it]"
     ]
    },
    {
     "name": "stdout",
     "output_type": "stream",
     "text": [
      "Train Epoch: 94 [1280/3387 (38%)]\tLoss: 0.637486\n",
      "Mem before-during-after: 20923904 517164032 20923904\n"
     ]
    },
    {
     "name": "stderr",
     "output_type": "stream",
     "text": [
      " 84%|████████████████████████████████████████████████████████████████████████████████████████████████████████████████████████████████████████████████████████████▏                             | 33.59854014598241/40 [13:55<02:40, 25.00s/it]"
     ]
    },
    {
     "name": "stdout",
     "output_type": "stream",
     "text": [
      "Train Epoch: 94 [2560/3387 (76%)]\tLoss: 0.549690\n",
      "Mem before-during-after: 20923904 517164032 20923904\n"
     ]
    },
    {
     "name": "stderr",
     "output_type": "stream",
     "text": [
      " 85%|██████████████████████████████████████████████████████████████████████████████████████████████████████████████████████████████████████████████████████████████▏                           | 34.00729927006992/40 [14:05<02:22, 23.80s/it]"
     ]
    },
    {
     "name": "stdout",
     "output_type": "stream",
     "text": [
      "\n",
      "Test Epoch: 94\tAccuracy: 644/1024 (63%)\n",
      "\n",
      "Train Epoch: 95 [0/3387 (0%)]\tLoss: 0.650817\n",
      "Mem before-during-after: 20919808 516639744 20923904\n"
     ]
    },
    {
     "name": "stderr",
     "output_type": "stream",
     "text": [
      " 86%|███████████████████████████████████████████████████████████████████████████████████████████████████████████████████████████████████████████████████████████████▌                          | 34.30656934306256/40 [14:13<02:24, 25.38s/it]"
     ]
    },
    {
     "name": "stdout",
     "output_type": "stream",
     "text": [
      "Train Epoch: 95 [1280/3387 (38%)]\tLoss: 0.284326\n",
      "Mem before-during-after: 20923904 517164032 20923904\n"
     ]
    },
    {
     "name": "stderr",
     "output_type": "stream",
     "text": [
      " 86%|████████████████████████████████████████████████████████████████████████████████████████████████████████████████████████████████████████████████████████████████▉                         | 34.59854014598221/40 [14:20<02:14, 24.91s/it]"
     ]
    },
    {
     "name": "stdout",
     "output_type": "stream",
     "text": [
      "Train Epoch: 95 [2560/3387 (76%)]\tLoss: 0.379658\n",
      "Mem before-during-after: 20923904 517164032 20923904\n"
     ]
    },
    {
     "name": "stderr",
     "output_type": "stream",
     "text": [
      " 88%|██████████████████████████████████████████████████████████████████████████████████████████████████████████████████████████████████████████████████████████████████▊                       | 35.00729927006972/40 [14:30<01:58, 23.78s/it]"
     ]
    },
    {
     "name": "stdout",
     "output_type": "stream",
     "text": [
      "\n",
      "Test Epoch: 95\tAccuracy: 625/1024 (61%)\n",
      "\n",
      "Train Epoch: 96 [0/3387 (0%)]\tLoss: 0.580937\n",
      "Mem before-during-after: 20919808 516639744 20923904\n"
     ]
    },
    {
     "name": "stderr",
     "output_type": "stream",
     "text": [
      " 88%|███████████████████████████████████████████████████████████████████████████████████████████████████████████████████████████████████████████████████████████████████▎                     | 35.306569343062364/40 [14:38<01:56, 24.91s/it]"
     ]
    },
    {
     "name": "stdout",
     "output_type": "stream",
     "text": [
      "Train Epoch: 96 [1280/3387 (38%)]\tLoss: 0.677826\n",
      "Mem before-during-after: 20923904 517164032 20923904\n"
     ]
    },
    {
     "name": "stderr",
     "output_type": "stream",
     "text": [
      " 89%|████████████████████████████████████████████████████████████████████████████████████████████████████████████████████████████████████████████████████████████████████▋                    | 35.598540145982014/40 [14:45<01:50, 25.16s/it]"
     ]
    },
    {
     "name": "stdout",
     "output_type": "stream",
     "text": [
      "Train Epoch: 96 [2560/3387 (76%)]\tLoss: 0.333664\n",
      "Mem before-during-after: 20923904 517164032 20923904\n"
     ]
    },
    {
     "name": "stderr",
     "output_type": "stream",
     "text": [
      " 90%|██████████████████████████████████████████████████████████████████████████████████████████████████████████████████████████████████████████████████████████████████████▌                  | 36.007299270069524/40 [14:55<01:35, 23.87s/it]"
     ]
    },
    {
     "name": "stdout",
     "output_type": "stream",
     "text": [
      "\n",
      "Test Epoch: 96\tAccuracy: 601/1024 (59%)\n",
      "\n",
      "Train Epoch: 97 [0/3387 (0%)]\tLoss: 0.808406\n",
      "Mem before-during-after: 20919808 516639744 20923904\n"
     ]
    },
    {
     "name": "stderr",
     "output_type": "stream",
     "text": [
      " 91%|███████████████████████████████████████████████████████████████████████████████████████████████████████████████████████████████████████████████████████████████████████▉                 | 36.306569343062165/40 [15:02<01:32, 25.11s/it]"
     ]
    },
    {
     "name": "stdout",
     "output_type": "stream",
     "text": [
      "Train Epoch: 97 [1280/3387 (38%)]\tLoss: 0.368940\n",
      "Mem before-during-after: 20923904 517164032 20923904\n"
     ]
    },
    {
     "name": "stderr",
     "output_type": "stream",
     "text": [
      " 91%|█████████████████████████████████████████████████████████████████████████████████████████████████████████████████████████████████████████████████████████████████████████▎               | 36.598540145981815/40 [15:10<01:25, 25.04s/it]"
     ]
    },
    {
     "name": "stdout",
     "output_type": "stream",
     "text": [
      "Train Epoch: 97 [2560/3387 (76%)]\tLoss: 0.276631\n",
      "Mem before-during-after: 20923904 517164032 20923904\n"
     ]
    },
    {
     "name": "stderr",
     "output_type": "stream",
     "text": [
      " 93%|███████████████████████████████████████████████████████████████████████████████████████████████████████████████████████████████████████████████████████████████████████████▏             | 37.007299270069325/40 [15:20<01:12, 24.17s/it]"
     ]
    },
    {
     "name": "stdout",
     "output_type": "stream",
     "text": [
      "\n",
      "Test Epoch: 97\tAccuracy: 641/1024 (63%)\n",
      "\n",
      "Train Epoch: 98 [0/3387 (0%)]\tLoss: 0.701847\n",
      "Mem before-during-after: 20919808 516639744 20923904\n"
     ]
    },
    {
     "name": "stderr",
     "output_type": "stream",
     "text": [
      " 93%|████████████████████████████████████████████████████████████████████████████████████████████████████████████████████████████████████████████████████████████████████████████▌            | 37.306569343061966/40 [15:27<01:06, 24.87s/it]"
     ]
    },
    {
     "name": "stdout",
     "output_type": "stream",
     "text": [
      "Train Epoch: 98 [1280/3387 (38%)]\tLoss: 0.318580\n",
      "Mem before-during-after: 20923904 517164032 20923904\n"
     ]
    },
    {
     "name": "stderr",
     "output_type": "stream",
     "text": [
      " 94%|█████████████████████████████████████████████████████████████████████████████████████████████████████████████████████████████████████████████████████████████████████████████▉           | 37.598540145981616/40 [15:34<01:00, 25.02s/it]"
     ]
    },
    {
     "name": "stdout",
     "output_type": "stream",
     "text": [
      "Train Epoch: 98 [2560/3387 (76%)]\tLoss: 0.662959\n",
      "Mem before-during-after: 20923904 517164032 20923904\n"
     ]
    },
    {
     "name": "stderr",
     "output_type": "stream",
     "text": [
      " 95%|███████████████████████████████████████████████████████████████████████████████████████████████████████████████████████████████████████████████████████████████████████████████▊         | 38.007299270069126/40 [15:44<00:48, 24.23s/it]"
     ]
    },
    {
     "name": "stdout",
     "output_type": "stream",
     "text": [
      "\n",
      "Test Epoch: 98\tAccuracy: 628/1024 (61%)\n",
      "\n",
      "Train Epoch: 99 [0/3387 (0%)]\tLoss: 0.478731\n",
      "Mem before-during-after: 20919808 516639744 20923904\n"
     ]
    },
    {
     "name": "stderr",
     "output_type": "stream",
     "text": [
      " 96%|██████████████████████████████████████████████████████████████████████████████████████████████████████████████████████████████████████████████████████████████████████████████████▏       | 38.30656934306177/40 [15:52<00:42, 25.09s/it]"
     ]
    },
    {
     "name": "stdout",
     "output_type": "stream",
     "text": [
      "Train Epoch: 99 [1280/3387 (38%)]\tLoss: 0.400210\n",
      "Mem before-during-after: 20923904 517164032 20923904\n"
     ]
    },
    {
     "name": "stderr",
     "output_type": "stream",
     "text": [
      " 96%|███████████████████████████████████████████████████████████████████████████████████████████████████████████████████████████████████████████████████████████████████████████████████▍      | 38.59854014598142/40 [15:59<00:34, 24.91s/it]"
     ]
    },
    {
     "name": "stdout",
     "output_type": "stream",
     "text": [
      "Train Epoch: 99 [2560/3387 (76%)]\tLoss: 0.311783\n",
      "Mem before-during-after: 20923904 517164032 20923904\n"
     ]
    },
    {
     "name": "stderr",
     "output_type": "stream",
     "text": [
      " 98%|█████████████████████████████████████████████████████████████████████████████████████████████████████████████████████████████████████████████████████████████████████████████████████▍    | 39.00729927006893/40 [16:09<00:23, 23.90s/it]"
     ]
    },
    {
     "name": "stdout",
     "output_type": "stream",
     "text": [
      "\n",
      "Test Epoch: 99\tAccuracy: 656/1024 (64%)\n",
      "\n",
      "Train Epoch: 100 [0/3387 (0%)]\tLoss: 0.282880\n",
      "Mem before-during-after: 20919808 516639744 20923904\n"
     ]
    },
    {
     "name": "stderr",
     "output_type": "stream",
     "text": [
      " 98%|██████████████████████████████████████████████████████████████████████████████████████████████████████████████████████████████████████████████████████████████████████████████████████▊   | 39.30656934306157/40 [16:17<00:17, 25.21s/it]"
     ]
    },
    {
     "name": "stdout",
     "output_type": "stream",
     "text": [
      "Train Epoch: 100 [1280/3387 (38%)]\tLoss: 0.491247\n",
      "Mem before-during-after: 20923904 517164032 20923904\n"
     ]
    },
    {
     "name": "stderr",
     "output_type": "stream",
     "text": [
      " 99%|████████████████████████████████████████████████████████████████████████████████████████████████████████████████████████████████████████████████████████████████████████████████████████▏ | 39.59854014598122/40 [16:24<00:10, 25.69s/it]"
     ]
    },
    {
     "name": "stdout",
     "output_type": "stream",
     "text": [
      "Train Epoch: 100 [2560/3387 (76%)]\tLoss: 0.580301\n",
      "Mem before-during-after: 20923904 517164032 20923904\n"
     ]
    },
    {
     "name": "stderr",
     "output_type": "stream",
     "text": [
      "100%|█████████████████████████████████████████████████████████████████████████████████████████████████████████████████████████████████████████████████████████████████████████████████████████▉| 39.99999999999574/40 [16:34<00:00, 24.86s/it]"
     ]
    },
    {
     "name": "stdout",
     "output_type": "stream",
     "text": [
      "\n",
      "Test Epoch: 100\tAccuracy: 624/1024 (61%)\n",
      "\n"
     ]
    },
    {
     "name": "stderr",
     "output_type": "stream",
     "text": [
      "\n"
     ]
    }
   ],
   "source": [
    "n_epoch = 10\n",
    "n_epoch2 = 50\n",
    "n_epoch3 = 40\n",
    "# train_losses = []\n",
    "# test_accuracy = []\n",
    "\n",
    "optimizer = optim.RAdam(model.parameters(), lr=0.00002)\n",
    "scheduler = optim.lr_scheduler.OneCycleLR(\n",
    "    optimizer, max_lr=0.01,\n",
    "    steps_per_epoch=len(train_loader), epochs=n_epoch3)\n",
    "log_interval = 40\n",
    "pbar_update = 1 / (len(train_loader) + len(test_loader))\n",
    "# model.to(device)\n",
    "with tqdm(total=n_epoch3) as pbar:\n",
    "    for epoch in range(1+n_epoch+n_epoch2, n_epoch3+n_epoch2 + n_epoch + 1):\n",
    "        train(model, epoch, log_interval, train_losses)\n",
    "        acc = test(model, epoch)\n",
    "        test_accuracy += [acc]\n",
    "        if acc > best_accuracy:\n",
    "            best_accuracy = acc\n",
    "            bmodel_path = f'{model_path_prefix}{epoch}epoch.pt'\n",
    "            torch.save(model.state_dict(), bmodel_path)\n",
    "            print(f'saved model: {bmodel_path}')\n",
    "        scheduler.step()"
   ]
  },
  {
   "cell_type": "code",
   "execution_count": 29,
   "id": "f1aacf41-c0db-4a9b-9a8e-e2ab859d43c0",
   "metadata": {},
   "outputs": [
    {
     "data": {
      "text/plain": [
       "[<matplotlib.lines.Line2D at 0x7fd11c25a0a0>]"
      ]
     },
     "execution_count": 29,
     "metadata": {},
     "output_type": "execute_result"
    },
    {
     "data": {
      "image/png": "[encoded data removed]",
      "text/plain": [
       "<Figure size 640x480 with 1 Axes>"
      ]
     },
     "metadata": {},
     "output_type": "display_data"
    }
   ],
   "source": [
    "plt.plot(train_losses)"
   ]
  },
  {
   "cell_type": "code",
   "execution_count": 30,
   "id": "ec4391b9-4e8b-48bb-be0b-bc232ac2a9ca",
   "metadata": {},
   "outputs": [
    {
     "data": {
      "text/plain": [
       "[<matplotlib.lines.Line2D at 0x7fd11c1ce430>]"
      ]
     },
     "execution_count": 30,
     "metadata": {},
     "output_type": "execute_result"
    },
    {
     "data": {
      "image/png": "[encoded data removed]",
      "text/plain": [
       "<Figure size 640x480 with 1 Axes>"
      ]
     },
     "metadata": {},
     "output_type": "display_data"
    }
   ],
   "source": [
    "plt.plot(test_accuracy)"
   ]
  },
  {
   "cell_type": "code",
   "execution_count": 31,
   "id": "127e626c-7eca-47ba-ba54-ed1dd8d9f616",
   "metadata": {},
   "outputs": [
    {
     "name": "stdout",
     "output_type": "stream",
     "text": [
      "Correct: 624/1024 (0.6094)\n",
      "{'acc_detail': tensor([0.6692, 0.4649, 0.8788, 0.4060], device='cuda:0'),\n",
      " 'acc_unweighted': tensor(0.6047, device='cuda:0'),\n",
      " 'acc_weighted': tensor(0.6094, device='cuda:0'),\n",
      " 'f1s': tensor(0.5946, device='cuda:0'),\n",
      " 'f1s_detail': tensor([0.7050, 0.4988, 0.6915, 0.4832], device='cuda:0'),\n",
      " 'precision_detail': tensor([0.7448, 0.5381, 0.5700, 0.5967], device='cuda:0'),\n",
      " 'recall_detail': tensor([0.6692, 0.4649, 0.8788, 0.4060], device='cuda:0'),\n",
      " 'rocauc': tensor([0.9040, 0.8275, 0.9168, 0.7655], device='cuda:0'),\n",
      " 'uar': tensor(0.6047, device='cuda:0'),\n",
      " 'wap': tensor(0.6152, device='cuda:0')}\n"
     ]
    },
    {
     "data": {
      "text/plain": [
       "tensor([[178,  24,   9,  55],\n",
       "        [ 10, 106, 101,  11],\n",
       "        [  0,  25, 232,   7],\n",
       "        [ 51,  42,  65, 108]], device='cuda:0')"
      ]
     },
     "execution_count": 31,
     "metadata": {},
     "output_type": "execute_result"
    }
   ],
   "source": [
    "metrics3, confusion_matrix3 = report_metrics(\n",
    "    model, labels=labels, device=device)\n",
    "pprint(metrics3.compute())\n",
    "confusion_matrix3.compute()"
   ]
  },
  {
   "cell_type": "code",
   "execution_count": 32,
   "id": "578e0242-4ff0-47e8-b723-4411472e7976",
   "metadata": {},
   "outputs": [],
   "source": [
    "np.save('../cremad4_m12new_trill19_100epochs_train_losses.npy', train_losses, allow_pickle=True)\n",
    "np.save('../cremad4_m12new_trill19_100epochs_test_accuracy.npy', test_accuracy, allow_pickle=True)"
   ]
  },
  {
   "cell_type": "code",
   "execution_count": 33,
   "id": "65cd923e-7e4e-44b0-be38-52bdddbd41d5",
   "metadata": {
    "scrolled": true
   },
   "outputs": [
    {
     "name": "stderr",
     "output_type": "stream",
     "text": [
      "  0%|                                                                                                                                                                                       | 0.014598540145985401/50 [00:00<21:15, 25.51s/it]"
     ]
    },
    {
     "name": "stdout",
     "output_type": "stream",
     "text": [
      "Train Epoch: 101 [0/3387 (0%)]\tLoss: 0.595069\n",
      "Mem before-during-after: 19920384 515640320 20979200\n"
     ]
    },
    {
     "name": "stderr",
     "output_type": "stream",
     "text": [
      "  1%|█▏                                                                                                                                                                                       | 0.3065693430656933/50 [00:08<21:34, 26.05s/it]"
     ]
    },
    {
     "name": "stdout",
     "output_type": "stream",
     "text": [
      "Train Epoch: 101 [1280/3387 (38%)]\tLoss: 0.338182\n",
      "Mem before-during-after: 20979200 517219328 20979200\n"
     ]
    },
    {
     "name": "stderr",
     "output_type": "stream",
     "text": [
      "  1%|██▏                                                                                                                                                                                       | 0.598540145985401/50 [00:15<21:22, 25.97s/it]"
     ]
    },
    {
     "name": "stdout",
     "output_type": "stream",
     "text": [
      "Train Epoch: 101 [2560/3387 (76%)]\tLoss: 0.312097\n",
      "Mem before-during-after: 20979200 517219328 20979200\n"
     ]
    },
    {
     "name": "stderr",
     "output_type": "stream",
     "text": [
      "  2%|███▋                                                                                                                                                                                     | 1.0072992700729917/50 [00:26<20:25, 25.02s/it]"
     ]
    },
    {
     "name": "stdout",
     "output_type": "stream",
     "text": [
      "\n",
      "Test Epoch: 101\tAccuracy: 648/1024 (63%)\n",
      "\n",
      "Train Epoch: 102 [0/3387 (0%)]\tLoss: 0.224794\n",
      "Mem before-during-after: 20975104 516695040 20979200\n"
     ]
    },
    {
     "name": "stderr",
     "output_type": "stream",
     "text": [
      "  3%|████▊                                                                                                                                                                                    | 1.3065693430656966/50 [00:33<21:05, 25.98s/it]"
     ]
    },
    {
     "name": "stdout",
     "output_type": "stream",
     "text": [
      "Train Epoch: 102 [1280/3387 (38%)]\tLoss: 0.308579\n",
      "Mem before-during-after: 20979200 517219328 20979200\n"
     ]
    },
    {
     "name": "stderr",
     "output_type": "stream",
     "text": [
      "  3%|█████▉                                                                                                                                                                                   | 1.5985401459854087/50 [00:41<21:13, 26.31s/it]"
     ]
    },
    {
     "name": "stdout",
     "output_type": "stream",
     "text": [
      "Train Epoch: 102 [2560/3387 (76%)]\tLoss: 0.768203\n",
      "Mem before-during-after: 20979200 517219328 20979200\n"
     ]
    },
    {
     "name": "stderr",
     "output_type": "stream",
     "text": [
      "  4%|███████▍                                                                                                                                                                                 | 2.0072992700730055/50 [00:51<19:56, 24.94s/it]"
     ]
    },
    {
     "name": "stdout",
     "output_type": "stream",
     "text": [
      "\n",
      "Test Epoch: 102\tAccuracy: 652/1024 (64%)\n",
      "\n",
      "Train Epoch: 103 [0/3387 (0%)]\tLoss: 0.287780\n",
      "Mem before-during-after: 20975104 516695040 20979200\n"
     ]
    },
    {
     "name": "stderr",
     "output_type": "stream",
     "text": [
      "  5%|████████▌                                                                                                                                                                                | 2.3065693430657013/50 [00:59<20:37, 25.95s/it]"
     ]
    },
    {
     "name": "stdout",
     "output_type": "stream",
     "text": [
      "Train Epoch: 103 [1280/3387 (38%)]\tLoss: 0.252891\n",
      "Mem before-during-after: 20979200 517219328 20979200\n"
     ]
    },
    {
     "name": "stderr",
     "output_type": "stream",
     "text": [
      "  5%|█████████▌                                                                                                                                                                               | 2.5985401459854045/50 [01:07<20:41, 26.19s/it]"
     ]
    },
    {
     "name": "stdout",
     "output_type": "stream",
     "text": [
      "Train Epoch: 103 [2560/3387 (76%)]\tLoss: 0.195268\n",
      "Mem before-during-after: 20979200 517219328 20979200\n"
     ]
    },
    {
     "name": "stderr",
     "output_type": "stream",
     "text": [
      "  6%|███████████▏                                                                                                                                                                              | 3.007299270072989/50 [01:17<20:00, 25.55s/it]"
     ]
    },
    {
     "name": "stdout",
     "output_type": "stream",
     "text": [
      "\n",
      "Test Epoch: 103\tAccuracy: 653/1024 (64%)\n",
      "\n",
      "Train Epoch: 104 [0/3387 (0%)]\tLoss: 0.246849\n",
      "Mem before-during-after: 20975104 516695040 20979200\n"
     ]
    },
    {
     "name": "stderr",
     "output_type": "stream",
     "text": [
      "  7%|████████████▎                                                                                                                                                                             | 3.306569343065685/50 [01:25<20:20, 26.14s/it]"
     ]
    },
    {
     "name": "stdout",
     "output_type": "stream",
     "text": [
      "Train Epoch: 104 [1280/3387 (38%)]\tLoss: 0.308522\n",
      "Mem before-during-after: 20979200 517219328 20979200\n"
     ]
    },
    {
     "name": "stderr",
     "output_type": "stream",
     "text": [
      "  7%|█████████████▍                                                                                                                                                                            | 3.598540145985388/50 [01:32<19:59, 25.85s/it]"
     ]
    },
    {
     "name": "stdout",
     "output_type": "stream",
     "text": [
      "Train Epoch: 104 [2560/3387 (76%)]\tLoss: 0.251300\n",
      "Mem before-during-after: 20979200 517219328 20979200\n"
     ]
    },
    {
     "name": "stderr",
     "output_type": "stream",
     "text": [
      "  8%|██████████████▉                                                                                                                                                                           | 4.007299270072973/50 [01:43<19:01, 24.81s/it]"
     ]
    },
    {
     "name": "stdout",
     "output_type": "stream",
     "text": [
      "\n",
      "Test Epoch: 104\tAccuracy: 645/1024 (63%)\n",
      "\n",
      "Train Epoch: 105 [0/3387 (0%)]\tLoss: 0.358335\n",
      "Mem before-during-after: 20975104 516695040 20979200\n"
     ]
    },
    {
     "name": "stderr",
     "output_type": "stream",
     "text": [
      "  9%|███████████████▉                                                                                                                                                                          | 4.299270072992694/50 [01:50<20:17, 26.65s/it]"
     ]
    },
    {
     "name": "stdout",
     "output_type": "stream",
     "text": [
      "Train Epoch: 105 [1280/3387 (38%)]\tLoss: 0.251150\n",
      "Mem before-during-after: 20979200 517219328 20979200\n"
     ]
    },
    {
     "name": "stderr",
     "output_type": "stream",
     "text": [
      "  9%|█████████████████                                                                                                                                                                         | 4.598540145985408/50 [01:58<19:06, 25.26s/it]"
     ]
    },
    {
     "name": "stdout",
     "output_type": "stream",
     "text": [
      "Train Epoch: 105 [2560/3387 (76%)]\tLoss: 0.269583\n",
      "Mem before-during-after: 20979200 517219328 20979200\n"
     ]
    },
    {
     "name": "stderr",
     "output_type": "stream",
     "text": [
      " 10%|██████████████████▋                                                                                                                                                                       | 5.007299270073017/50 [02:08<18:35, 24.78s/it]"
     ]
    },
    {
     "name": "stdout",
     "output_type": "stream",
     "text": [
      "\n",
      "Test Epoch: 105\tAccuracy: 643/1024 (63%)\n",
      "\n",
      "Train Epoch: 106 [0/3387 (0%)]\tLoss: 0.354228\n",
      "Mem before-during-after: 20975104 516695040 20979200\n"
     ]
    },
    {
     "name": "stderr",
     "output_type": "stream",
     "text": [
      " 11%|███████████████████▋                                                                                                                                                                      | 5.306569343065731/50 [02:16<18:47, 25.22s/it]"
     ]
    },
    {
     "name": "stdout",
     "output_type": "stream",
     "text": [
      "Train Epoch: 106 [1280/3387 (38%)]\tLoss: 0.286921\n",
      "Mem before-during-after: 20979200 517219328 20979200\n"
     ]
    },
    {
     "name": "stderr",
     "output_type": "stream",
     "text": [
      " 11%|████████████████████▊                                                                                                                                                                     | 5.598540145985452/50 [02:23<18:37, 25.16s/it]"
     ]
    },
    {
     "name": "stdout",
     "output_type": "stream",
     "text": [
      "Train Epoch: 106 [2560/3387 (76%)]\tLoss: 0.425792\n",
      "Mem before-during-after: 20979200 517219328 20979200\n"
     ]
    },
    {
     "name": "stderr",
     "output_type": "stream",
     "text": [
      " 12%|██████████████████████▎                                                                                                                                                                   | 6.007299270073061/50 [02:33<17:46, 24.25s/it]"
     ]
    },
    {
     "name": "stdout",
     "output_type": "stream",
     "text": [
      "\n",
      "Test Epoch: 106\tAccuracy: 633/1024 (62%)\n",
      "\n",
      "Train Epoch: 107 [0/3387 (0%)]\tLoss: 0.253376\n",
      "Mem before-during-after: 20975104 516695040 20979200\n"
     ]
    },
    {
     "name": "stderr",
     "output_type": "stream",
     "text": [
      " 13%|███████████████████████▍                                                                                                                                                                  | 6.306569343065775/50 [02:41<18:21, 25.22s/it]"
     ]
    },
    {
     "name": "stdout",
     "output_type": "stream",
     "text": [
      "Train Epoch: 107 [1280/3387 (38%)]\tLoss: 0.445921\n",
      "Mem before-during-after: 20979200 517219328 20979200\n"
     ]
    },
    {
     "name": "stderr",
     "output_type": "stream",
     "text": [
      " 13%|████████████████████████▌                                                                                                                                                                 | 6.598540145985496/50 [02:48<18:21, 25.38s/it]"
     ]
    },
    {
     "name": "stdout",
     "output_type": "stream",
     "text": [
      "Train Epoch: 107 [2560/3387 (76%)]\tLoss: 0.219136\n",
      "Mem before-during-after: 20979200 517219328 20979200\n"
     ]
    },
    {
     "name": "stderr",
     "output_type": "stream",
     "text": [
      " 14%|██████████████████████████                                                                                                                                                                | 7.007299270073106/50 [02:58<17:23, 24.28s/it]"
     ]
    },
    {
     "name": "stdout",
     "output_type": "stream",
     "text": [
      "\n",
      "Test Epoch: 107\tAccuracy: 636/1024 (62%)\n",
      "\n",
      "Train Epoch: 108 [0/3387 (0%)]\tLoss: 0.218074\n",
      "Mem before-during-after: 20975104 516695040 20979200\n"
     ]
    },
    {
     "name": "stderr",
     "output_type": "stream",
     "text": [
      " 15%|███████████████████████████▎                                                                                                                                                               | 7.30656934306582/50 [03:06<18:04, 25.39s/it]"
     ]
    },
    {
     "name": "stdout",
     "output_type": "stream",
     "text": [
      "Train Epoch: 108 [1280/3387 (38%)]\tLoss: 0.186562\n",
      "Mem before-during-after: 20979200 517219328 20979200\n"
     ]
    },
    {
     "name": "stderr",
     "output_type": "stream",
     "text": [
      " 15%|████████████████████████████▎                                                                                                                                                             | 7.598540145985541/50 [03:13<18:06, 25.61s/it]"
     ]
    },
    {
     "name": "stdout",
     "output_type": "stream",
     "text": [
      "Train Epoch: 108 [2560/3387 (76%)]\tLoss: 0.319400\n",
      "Mem before-during-after: 20979200 517219328 20979200\n"
     ]
    },
    {
     "name": "stderr",
     "output_type": "stream",
     "text": [
      " 16%|█████████████████████████████▉                                                                                                                                                             | 8.00729927007315/50 [03:24<17:16, 24.67s/it]"
     ]
    },
    {
     "name": "stdout",
     "output_type": "stream",
     "text": [
      "\n",
      "Test Epoch: 108\tAccuracy: 635/1024 (62%)\n",
      "\n",
      "Train Epoch: 109 [0/3387 (0%)]\tLoss: 0.163753\n",
      "Mem before-during-after: 20975104 516695040 20979200\n"
     ]
    },
    {
     "name": "stderr",
     "output_type": "stream",
     "text": [
      " 17%|██████████████████████████████▉                                                                                                                                                           | 8.306569343065863/50 [03:31<17:55, 25.79s/it]"
     ]
    },
    {
     "name": "stdout",
     "output_type": "stream",
     "text": [
      "Train Epoch: 109 [1280/3387 (38%)]\tLoss: 0.313865\n",
      "Mem before-during-after: 20979200 517219328 20979200\n"
     ]
    },
    {
     "name": "stderr",
     "output_type": "stream",
     "text": [
      " 17%|███████████████████████████████▉                                                                                                                                                          | 8.598540145985584/50 [03:39<17:41, 25.64s/it]"
     ]
    },
    {
     "name": "stdout",
     "output_type": "stream",
     "text": [
      "Train Epoch: 109 [2560/3387 (76%)]\tLoss: 0.372343\n",
      "Mem before-during-after: 20979200 517219328 20979200\n"
     ]
    },
    {
     "name": "stderr",
     "output_type": "stream",
     "text": [
      " 18%|█████████████████████████████████▌                                                                                                                                                        | 9.007299270073194/50 [03:49<16:54, 24.74s/it]"
     ]
    },
    {
     "name": "stdout",
     "output_type": "stream",
     "text": [
      "\n",
      "Test Epoch: 109\tAccuracy: 654/1024 (64%)\n",
      "\n",
      "Train Epoch: 110 [0/3387 (0%)]\tLoss: 0.350276\n",
      "Mem before-during-after: 20975104 516695040 20979200\n"
     ]
    },
    {
     "name": "stderr",
     "output_type": "stream",
     "text": [
      " 19%|██████████████████████████████████▌                                                                                                                                                       | 9.306569343065908/50 [03:57<17:20, 25.58s/it]"
     ]
    },
    {
     "name": "stdout",
     "output_type": "stream",
     "text": [
      "Train Epoch: 110 [1280/3387 (38%)]\tLoss: 0.229400\n",
      "Mem before-during-after: 20979200 517219328 20979200\n"
     ]
    },
    {
     "name": "stderr",
     "output_type": "stream",
     "text": [
      " 19%|███████████████████████████████████▋                                                                                                                                                      | 9.598540145985629/50 [04:04<17:14, 25.60s/it]"
     ]
    },
    {
     "name": "stdout",
     "output_type": "stream",
     "text": [
      "Train Epoch: 110 [2560/3387 (76%)]\tLoss: 0.213374\n",
      "Mem before-during-after: 20979200 517219328 20979200\n"
     ]
    },
    {
     "name": "stderr",
     "output_type": "stream",
     "text": [
      " 20%|█████████████████████████████████████                                                                                                                                                    | 10.007299270073238/50 [04:15<16:24, 24.61s/it]"
     ]
    },
    {
     "name": "stdout",
     "output_type": "stream",
     "text": [
      "\n",
      "Test Epoch: 110\tAccuracy: 656/1024 (64%)\n",
      "\n",
      "Train Epoch: 111 [0/3387 (0%)]\tLoss: 0.243012\n",
      "Mem before-during-after: 20975104 516695040 20979200\n"
     ]
    },
    {
     "name": "stderr",
     "output_type": "stream",
     "text": [
      " 21%|██████████████████████████████████████▏                                                                                                                                                  | 10.306569343065952/50 [04:22<16:57, 25.63s/it]"
     ]
    },
    {
     "name": "stdout",
     "output_type": "stream",
     "text": [
      "Train Epoch: 111 [1280/3387 (38%)]\tLoss: 0.233955\n",
      "Mem before-during-after: 20979200 517219328 20979200\n"
     ]
    },
    {
     "name": "stderr",
     "output_type": "stream",
     "text": [
      " 21%|███████████████████████████████████████▏                                                                                                                                                 | 10.598540145985673/50 [04:30<16:48, 25.60s/it]"
     ]
    },
    {
     "name": "stdout",
     "output_type": "stream",
     "text": [
      "Train Epoch: 111 [2560/3387 (76%)]\tLoss: 0.337921\n",
      "Mem before-during-after: 20979200 517219328 20979200\n"
     ]
    },
    {
     "name": "stderr",
     "output_type": "stream",
     "text": [
      " 22%|████████████████████████████████████████▋                                                                                                                                                | 11.007299270073283/50 [04:40<15:52, 24.42s/it]"
     ]
    },
    {
     "name": "stdout",
     "output_type": "stream",
     "text": [
      "\n",
      "Test Epoch: 111\tAccuracy: 633/1024 (62%)\n",
      "\n",
      "Train Epoch: 112 [0/3387 (0%)]\tLoss: 0.311821\n",
      "Mem before-during-after: 20975104 516695040 20979200\n"
     ]
    },
    {
     "name": "stderr",
     "output_type": "stream",
     "text": [
      " 23%|█████████████████████████████████████████▊                                                                                                                                               | 11.306569343065997/50 [04:47<16:15, 25.22s/it]"
     ]
    },
    {
     "name": "stdout",
     "output_type": "stream",
     "text": [
      "Train Epoch: 112 [1280/3387 (38%)]\tLoss: 0.194600\n",
      "Mem before-during-after: 20979200 517219328 20979200\n"
     ]
    },
    {
     "name": "stderr",
     "output_type": "stream",
     "text": [
      " 23%|██████████████████████████████████████████▉                                                                                                                                              | 11.598540145985718/50 [04:55<16:11, 25.30s/it]"
     ]
    },
    {
     "name": "stdout",
     "output_type": "stream",
     "text": [
      "Train Epoch: 112 [2560/3387 (76%)]\tLoss: 0.504768\n",
      "Mem before-during-after: 20979200 517219328 20979200\n"
     ]
    },
    {
     "name": "stderr",
     "output_type": "stream",
     "text": [
      " 24%|████████████████████████████████████████████▍                                                                                                                                            | 12.007299270073327/50 [05:05<15:23, 24.31s/it]"
     ]
    },
    {
     "name": "stdout",
     "output_type": "stream",
     "text": [
      "\n",
      "Test Epoch: 112\tAccuracy: 648/1024 (63%)\n",
      "\n",
      "Train Epoch: 113 [0/3387 (0%)]\tLoss: 0.291459\n",
      "Mem before-during-after: 20975104 516695040 20979200\n"
     ]
    },
    {
     "name": "stderr",
     "output_type": "stream",
     "text": [
      " 25%|█████████████████████████████████████████████▌                                                                                                                                           | 12.306569343066041/50 [05:12<15:50, 25.23s/it]"
     ]
    },
    {
     "name": "stdout",
     "output_type": "stream",
     "text": [
      "Train Epoch: 113 [1280/3387 (38%)]\tLoss: 0.259791\n",
      "Mem before-during-after: 20979200 517219328 20979200\n"
     ]
    },
    {
     "name": "stderr",
     "output_type": "stream",
     "text": [
      " 25%|██████████████████████████████████████████████▌                                                                                                                                          | 12.598540145985762/50 [05:20<15:41, 25.17s/it]"
     ]
    },
    {
     "name": "stdout",
     "output_type": "stream",
     "text": [
      "Train Epoch: 113 [2560/3387 (76%)]\tLoss: 0.214116\n",
      "Mem before-during-after: 20979200 517219328 20979200\n"
     ]
    },
    {
     "name": "stderr",
     "output_type": "stream",
     "text": [
      " 26%|████████████████████████████████████████████████▏                                                                                                                                        | 13.007299270073371/50 [05:30<14:56, 24.25s/it]"
     ]
    },
    {
     "name": "stdout",
     "output_type": "stream",
     "text": [
      "\n",
      "Test Epoch: 113\tAccuracy: 643/1024 (63%)\n",
      "\n",
      "Train Epoch: 114 [0/3387 (0%)]\tLoss: 0.233919\n",
      "Mem before-during-after: 20975104 516695040 20979200\n"
     ]
    },
    {
     "name": "stderr",
     "output_type": "stream",
     "text": [
      " 27%|█████████████████████████████████████████████████▏                                                                                                                                       | 13.306569343066085/50 [05:37<15:28, 25.30s/it]"
     ]
    },
    {
     "name": "stdout",
     "output_type": "stream",
     "text": [
      "Train Epoch: 114 [1280/3387 (38%)]\tLoss: 0.230212\n",
      "Mem before-during-after: 20979200 517219328 20979200\n"
     ]
    },
    {
     "name": "stderr",
     "output_type": "stream",
     "text": [
      " 27%|██████████████████████████████████████████████████▎                                                                                                                                      | 13.598540145985806/50 [05:45<15:15, 25.16s/it]"
     ]
    },
    {
     "name": "stdout",
     "output_type": "stream",
     "text": [
      "Train Epoch: 114 [2560/3387 (76%)]\tLoss: 0.241876\n",
      "Mem before-during-after: 20979200 517219328 20979200\n"
     ]
    },
    {
     "name": "stderr",
     "output_type": "stream",
     "text": [
      " 28%|███████████████████████████████████████████████████▊                                                                                                                                     | 14.007299270073416/50 [05:55<14:32, 24.23s/it]"
     ]
    },
    {
     "name": "stdout",
     "output_type": "stream",
     "text": [
      "\n",
      "Test Epoch: 114\tAccuracy: 638/1024 (62%)\n",
      "\n",
      "Train Epoch: 115 [0/3387 (0%)]\tLoss: 0.250358\n",
      "Mem before-during-after: 20975104 516695040 20979200\n"
     ]
    },
    {
     "name": "stderr",
     "output_type": "stream",
     "text": [
      " 29%|█████████████████████████████████████████████████████▏                                                                                                                                    | 14.30656934306613/50 [06:02<15:01, 25.26s/it]"
     ]
    },
    {
     "name": "stdout",
     "output_type": "stream",
     "text": [
      "Train Epoch: 115 [1280/3387 (38%)]\tLoss: 0.298869\n",
      "Mem before-during-after: 20979200 517219328 20979200\n"
     ]
    },
    {
     "name": "stderr",
     "output_type": "stream",
     "text": [
      " 29%|██████████████████████████████████████████████████████▎                                                                                                                                   | 14.59854014598585/50 [06:10<14:51, 25.19s/it]"
     ]
    },
    {
     "name": "stdout",
     "output_type": "stream",
     "text": [
      "Train Epoch: 115 [2560/3387 (76%)]\tLoss: 0.181862\n",
      "Mem before-during-after: 20979200 517219328 20979200\n"
     ]
    },
    {
     "name": "stderr",
     "output_type": "stream",
     "text": [
      " 30%|███████████████████████████████████████████████████████▊                                                                                                                                  | 15.00729927007346/50 [06:20<14:22, 24.64s/it]"
     ]
    },
    {
     "name": "stdout",
     "output_type": "stream",
     "text": [
      "\n",
      "Test Epoch: 115\tAccuracy: 649/1024 (63%)\n",
      "\n",
      "Train Epoch: 116 [0/3387 (0%)]\tLoss: 0.379257\n",
      "Mem before-during-after: 20975104 516695040 20979200\n"
     ]
    },
    {
     "name": "stderr",
     "output_type": "stream",
     "text": [
      " 31%|████████████████████████████████████████████████████████▋                                                                                                                                | 15.306569343066174/50 [06:27<14:31, 25.13s/it]"
     ]
    },
    {
     "name": "stdout",
     "output_type": "stream",
     "text": [
      "Train Epoch: 116 [1280/3387 (38%)]\tLoss: 0.142945\n",
      "Mem before-during-after: 20979200 517219328 20979200\n"
     ]
    },
    {
     "name": "stderr",
     "output_type": "stream",
     "text": [
      " 31%|█████████████████████████████████████████████████████████▋                                                                                                                               | 15.598540145985895/50 [06:35<14:29, 25.28s/it]"
     ]
    },
    {
     "name": "stdout",
     "output_type": "stream",
     "text": [
      "Train Epoch: 116 [2560/3387 (76%)]\tLoss: 0.300745\n",
      "Mem before-during-after: 20979200 517219328 20979200\n"
     ]
    },
    {
     "name": "stderr",
     "output_type": "stream",
     "text": [
      " 32%|███████████████████████████████████████████████████████████▏                                                                                                                             | 16.007299270073503/50 [06:45<13:50, 24.45s/it]"
     ]
    },
    {
     "name": "stdout",
     "output_type": "stream",
     "text": [
      "\n",
      "Test Epoch: 116\tAccuracy: 649/1024 (63%)\n",
      "\n",
      "Train Epoch: 117 [0/3387 (0%)]\tLoss: 0.178770\n",
      "Mem before-during-after: 20975104 516695040 20979200\n"
     ]
    },
    {
     "name": "stderr",
     "output_type": "stream",
     "text": [
      " 33%|████████████████████████████████████████████████████████████▎                                                                                                                            | 16.306569343066144/50 [06:52<14:07, 25.16s/it]"
     ]
    },
    {
     "name": "stdout",
     "output_type": "stream",
     "text": [
      "Train Epoch: 117 [1280/3387 (38%)]\tLoss: 0.265693\n",
      "Mem before-during-after: 20979200 517219328 20979200\n"
     ]
    },
    {
     "name": "stderr",
     "output_type": "stream",
     "text": [
      " 33%|█████████████████████████████████████████████████████████████▍                                                                                                                           | 16.598540145985794/50 [07:00<14:02, 25.22s/it]"
     ]
    },
    {
     "name": "stdout",
     "output_type": "stream",
     "text": [
      "Train Epoch: 117 [2560/3387 (76%)]\tLoss: 0.209111\n",
      "Mem before-during-after: 20979200 517219328 20979200\n"
     ]
    },
    {
     "name": "stderr",
     "output_type": "stream",
     "text": [
      " 34%|██████████████████████████████████████████████████████████████▉                                                                                                                          | 17.007299270073304/50 [07:10<13:18, 24.19s/it]"
     ]
    },
    {
     "name": "stdout",
     "output_type": "stream",
     "text": [
      "\n",
      "Test Epoch: 117\tAccuracy: 645/1024 (63%)\n",
      "\n",
      "Train Epoch: 118 [0/3387 (0%)]\tLoss: 0.271793\n",
      "Mem before-during-after: 20975104 516695040 20979200\n"
     ]
    },
    {
     "name": "stderr",
     "output_type": "stream",
     "text": [
      " 35%|████████████████████████████████████████████████████████████████                                                                                                                         | 17.306569343065945/50 [07:17<13:46, 25.27s/it]"
     ]
    },
    {
     "name": "stdout",
     "output_type": "stream",
     "text": [
      "Train Epoch: 118 [1280/3387 (38%)]\tLoss: 0.373210\n",
      "Mem before-during-after: 20979200 517219328 20979200\n"
     ]
    },
    {
     "name": "stderr",
     "output_type": "stream",
     "text": [
      " 35%|█████████████████████████████████████████████████████████████████                                                                                                                        | 17.598540145985595/50 [07:25<13:36, 25.20s/it]"
     ]
    },
    {
     "name": "stdout",
     "output_type": "stream",
     "text": [
      "Train Epoch: 118 [2560/3387 (76%)]\tLoss: 0.166621\n",
      "Mem before-during-after: 20979200 517219328 20979200\n"
     ]
    },
    {
     "name": "stderr",
     "output_type": "stream",
     "text": [
      " 36%|██████████████████████████████████████████████████████████████████▋                                                                                                                      | 18.007299270073105/50 [07:35<12:54, 24.20s/it]"
     ]
    },
    {
     "name": "stdout",
     "output_type": "stream",
     "text": [
      "\n",
      "Test Epoch: 118\tAccuracy: 654/1024 (64%)\n",
      "\n",
      "Train Epoch: 119 [0/3387 (0%)]\tLoss: 0.266666\n",
      "Mem before-during-after: 20975104 516695040 20979200\n"
     ]
    },
    {
     "name": "stderr",
     "output_type": "stream",
     "text": [
      " 37%|███████████████████████████████████████████████████████████████████▋                                                                                                                     | 18.306569343065746/50 [07:42<13:17, 25.18s/it]"
     ]
    },
    {
     "name": "stdout",
     "output_type": "stream",
     "text": [
      "Train Epoch: 119 [1280/3387 (38%)]\tLoss: 0.386364\n",
      "Mem before-during-after: 20979200 517219328 20979200\n"
     ]
    },
    {
     "name": "stderr",
     "output_type": "stream",
     "text": [
      " 37%|████████████████████████████████████████████████████████████████████▊                                                                                                                    | 18.598540145985396/50 [07:50<13:08, 25.11s/it]"
     ]
    },
    {
     "name": "stdout",
     "output_type": "stream",
     "text": [
      "Train Epoch: 119 [2560/3387 (76%)]\tLoss: 0.297492\n",
      "Mem before-during-after: 20979200 517219328 20979200\n"
     ]
    },
    {
     "name": "stderr",
     "output_type": "stream",
     "text": [
      " 38%|██████████████████████████████████████████████████████████████████████▎                                                                                                                  | 19.007299270072906/50 [08:00<12:27, 24.13s/it]"
     ]
    },
    {
     "name": "stdout",
     "output_type": "stream",
     "text": [
      "\n",
      "Test Epoch: 119\tAccuracy: 647/1024 (63%)\n",
      "\n",
      "Train Epoch: 120 [0/3387 (0%)]\tLoss: 0.330595\n",
      "Mem before-during-after: 20975104 516695040 20979200\n"
     ]
    },
    {
     "name": "stderr",
     "output_type": "stream",
     "text": [
      " 39%|███████████████████████████████████████████████████████████████████████▍                                                                                                                 | 19.306569343065547/50 [08:07<12:51, 25.13s/it]"
     ]
    },
    {
     "name": "stdout",
     "output_type": "stream",
     "text": [
      "Train Epoch: 120 [1280/3387 (38%)]\tLoss: 0.255601\n",
      "Mem before-during-after: 20979200 517219328 20979200\n"
     ]
    },
    {
     "name": "stderr",
     "output_type": "stream",
     "text": [
      " 39%|████████████████████████████████████████████████████████████████████████▌                                                                                                                | 19.598540145985197/50 [08:14<12:48, 25.28s/it]"
     ]
    },
    {
     "name": "stdout",
     "output_type": "stream",
     "text": [
      "Train Epoch: 120 [2560/3387 (76%)]\tLoss: 0.288383\n",
      "Mem before-during-after: 20979200 517219328 20979200\n"
     ]
    },
    {
     "name": "stderr",
     "output_type": "stream",
     "text": [
      " 40%|██████████████████████████████████████████████████████████████████████████                                                                                                               | 20.007299270072707/50 [08:24<12:07, 24.27s/it]"
     ]
    },
    {
     "name": "stdout",
     "output_type": "stream",
     "text": [
      "\n",
      "Test Epoch: 120\tAccuracy: 656/1024 (64%)\n",
      "\n",
      "Train Epoch: 121 [0/3387 (0%)]\tLoss: 0.271321\n",
      "Mem before-during-after: 20975104 516695040 20979200\n"
     ]
    },
    {
     "name": "stderr",
     "output_type": "stream",
     "text": [
      " 41%|███████████████████████████████████████████████████████████████████████████▏                                                                                                             | 20.306569343065348/50 [08:32<12:30, 25.28s/it]"
     ]
    },
    {
     "name": "stdout",
     "output_type": "stream",
     "text": [
      "Train Epoch: 121 [1280/3387 (38%)]\tLoss: 0.436564\n",
      "Mem before-during-after: 20979200 517219328 20979200\n"
     ]
    },
    {
     "name": "stderr",
     "output_type": "stream",
     "text": [
      " 41%|████████████████████████████████████████████████████████████████████████████▏                                                                                                            | 20.598540145984998/50 [08:39<12:24, 25.31s/it]"
     ]
    },
    {
     "name": "stdout",
     "output_type": "stream",
     "text": [
      "Train Epoch: 121 [2560/3387 (76%)]\tLoss: 0.177388\n",
      "Mem before-during-after: 20979200 517219328 20979200\n"
     ]
    },
    {
     "name": "stderr",
     "output_type": "stream",
     "text": [
      " 42%|█████████████████████████████████████████████████████████████████████████████▋                                                                                                           | 21.007299270072508/50 [08:49<11:40, 24.15s/it]"
     ]
    },
    {
     "name": "stdout",
     "output_type": "stream",
     "text": [
      "\n",
      "Test Epoch: 121\tAccuracy: 646/1024 (63%)\n",
      "\n",
      "Train Epoch: 122 [0/3387 (0%)]\tLoss: 0.162384\n",
      "Mem before-during-after: 20975104 516695040 20979200\n"
     ]
    },
    {
     "name": "stderr",
     "output_type": "stream",
     "text": [
      " 43%|███████████████████████████████████████████████████████████████████████████████▎                                                                                                          | 21.30656934306515/50 [08:57<12:00, 25.10s/it]"
     ]
    },
    {
     "name": "stdout",
     "output_type": "stream",
     "text": [
      "Train Epoch: 122 [1280/3387 (38%)]\tLoss: 0.315594\n",
      "Mem before-during-after: 20979200 517219328 20979200\n"
     ]
    },
    {
     "name": "stderr",
     "output_type": "stream",
     "text": [
      " 43%|████████████████████████████████████████████████████████████████████████████████▊                                                                                                          | 21.5985401459848/50 [09:04<11:58, 25.29s/it]"
     ]
    },
    {
     "name": "stdout",
     "output_type": "stream",
     "text": [
      "Train Epoch: 122 [2560/3387 (76%)]\tLoss: 0.161173\n",
      "Mem before-during-after: 20979200 517219328 20979200\n"
     ]
    },
    {
     "name": "stderr",
     "output_type": "stream",
     "text": [
      " 44%|█████████████████████████████████████████████████████████████████████████████████▊                                                                                                        | 22.00729927007231/50 [09:14<11:22, 24.37s/it]"
     ]
    },
    {
     "name": "stdout",
     "output_type": "stream",
     "text": [
      "\n",
      "Test Epoch: 122\tAccuracy: 636/1024 (62%)\n",
      "\n",
      "Train Epoch: 123 [0/3387 (0%)]\tLoss: 0.241727\n",
      "Mem before-during-after: 20975104 516695040 20979200\n"
     ]
    },
    {
     "name": "stderr",
     "output_type": "stream",
     "text": [
      " 45%|██████████████████████████████████████████████████████████████████████████████████▉                                                                                                       | 22.30656934306495/50 [09:22<11:44, 25.43s/it]"
     ]
    },
    {
     "name": "stdout",
     "output_type": "stream",
     "text": [
      "Train Epoch: 123 [1280/3387 (38%)]\tLoss: 0.216257\n",
      "Mem before-during-after: 20979200 517219328 20979200\n"
     ]
    },
    {
     "name": "stderr",
     "output_type": "stream",
     "text": [
      " 45%|████████████████████████████████████████████████████████████████████████████████████▌                                                                                                      | 22.5985401459846/50 [09:29<11:27, 25.08s/it]"
     ]
    },
    {
     "name": "stdout",
     "output_type": "stream",
     "text": [
      "Train Epoch: 123 [2560/3387 (76%)]\tLoss: 0.348572\n",
      "Mem before-during-after: 20979200 517219328 20979200\n"
     ]
    },
    {
     "name": "stderr",
     "output_type": "stream",
     "text": [
      " 46%|█████████████████████████████████████████████████████████████████████████████████████▌                                                                                                    | 23.00729927007211/50 [09:39<10:58, 24.39s/it]"
     ]
    },
    {
     "name": "stdout",
     "output_type": "stream",
     "text": [
      "\n",
      "Test Epoch: 123\tAccuracy: 639/1024 (62%)\n",
      "\n",
      "Train Epoch: 124 [0/3387 (0%)]\tLoss: 0.191463\n",
      "Mem before-during-after: 20975104 516695040 20979200\n"
     ]
    },
    {
     "name": "stderr",
     "output_type": "stream",
     "text": [
      " 47%|██████████████████████████████████████████████████████████████████████████████████████▋                                                                                                   | 23.30656934306475/50 [09:47<11:23, 25.61s/it]"
     ]
    },
    {
     "name": "stdout",
     "output_type": "stream",
     "text": [
      "Train Epoch: 124 [1280/3387 (38%)]\tLoss: 0.283257\n",
      "Mem before-during-after: 20979200 517219328 20979200\n"
     ]
    },
    {
     "name": "stderr",
     "output_type": "stream",
     "text": [
      " 47%|████████████████████████████████████████████████████████████████████████████████████████▎                                                                                                  | 23.5985401459844/50 [09:54<11:19, 25.75s/it]"
     ]
    },
    {
     "name": "stdout",
     "output_type": "stream",
     "text": [
      "Train Epoch: 124 [2560/3387 (76%)]\tLoss: 0.188245\n",
      "Mem before-during-after: 20979200 517219328 20979200\n"
     ]
    },
    {
     "name": "stderr",
     "output_type": "stream",
     "text": [
      " 48%|█████████████████████████████████████████████████████████████████████████████████████████▎                                                                                                | 24.00729927007191/50 [10:04<10:33, 24.37s/it]"
     ]
    },
    {
     "name": "stdout",
     "output_type": "stream",
     "text": [
      "\n",
      "Test Epoch: 124\tAccuracy: 638/1024 (62%)\n",
      "\n",
      "Train Epoch: 125 [0/3387 (0%)]\tLoss: 0.315434\n",
      "Mem before-during-after: 20975104 516695040 20979200\n"
     ]
    },
    {
     "name": "stderr",
     "output_type": "stream",
     "text": [
      " 49%|█████████████████████████████████████████████████████████████████████████████████████████▉                                                                                               | 24.306569343064552/50 [10:12<10:47, 25.19s/it]"
     ]
    },
    {
     "name": "stdout",
     "output_type": "stream",
     "text": [
      "Train Epoch: 125 [1280/3387 (38%)]\tLoss: 0.298623\n",
      "Mem before-during-after: 20979200 517219328 20979200\n"
     ]
    },
    {
     "name": "stderr",
     "output_type": "stream",
     "text": [
      " 49%|███████████████████████████████████████████████████████████████████████████████████████████                                                                                              | 24.598540145984202/50 [10:19<10:41, 25.23s/it]"
     ]
    },
    {
     "name": "stdout",
     "output_type": "stream",
     "text": [
      "Train Epoch: 125 [2560/3387 (76%)]\tLoss: 0.164718\n",
      "Mem before-during-after: 20979200 517219328 20979200\n"
     ]
    },
    {
     "name": "stderr",
     "output_type": "stream",
     "text": [
      " 50%|████████████████████████████████████████████████████████████████████████████████████████████▌                                                                                            | 25.007299270071712/50 [10:29<10:09, 24.40s/it]"
     ]
    },
    {
     "name": "stdout",
     "output_type": "stream",
     "text": [
      "\n",
      "Test Epoch: 125\tAccuracy: 638/1024 (62%)\n",
      "\n",
      "Train Epoch: 126 [0/3387 (0%)]\tLoss: 0.152042\n",
      "Mem before-during-after: 20975104 516695040 20979200\n"
     ]
    },
    {
     "name": "stderr",
     "output_type": "stream",
     "text": [
      " 51%|█████████████████████████████████████████████████████████████████████████████████████████████▋                                                                                           | 25.306569343064353/50 [10:37<10:26, 25.36s/it]"
     ]
    },
    {
     "name": "stdout",
     "output_type": "stream",
     "text": [
      "Train Epoch: 126 [1280/3387 (38%)]\tLoss: 0.150392\n",
      "Mem before-during-after: 20979200 517219328 20979200\n"
     ]
    },
    {
     "name": "stderr",
     "output_type": "stream",
     "text": [
      " 51%|██████████████████████████████████████████████████████████████████████████████████████████████▋                                                                                          | 25.598540145984003/50 [10:44<10:27, 25.70s/it]"
     ]
    },
    {
     "name": "stdout",
     "output_type": "stream",
     "text": [
      "Train Epoch: 126 [2560/3387 (76%)]\tLoss: 0.176687\n",
      "Mem before-during-after: 20979200 517219328 20979200\n"
     ]
    },
    {
     "name": "stderr",
     "output_type": "stream",
     "text": [
      " 52%|████████████████████████████████████████████████████████████████████████████████████████████████▏                                                                                        | 26.007299270071513/50 [10:55<09:51, 24.63s/it]"
     ]
    },
    {
     "name": "stdout",
     "output_type": "stream",
     "text": [
      "\n",
      "Test Epoch: 126\tAccuracy: 645/1024 (63%)\n",
      "\n",
      "Train Epoch: 127 [0/3387 (0%)]\tLoss: 0.186190\n",
      "Mem before-during-after: 20975104 516695040 20979200\n"
     ]
    },
    {
     "name": "stderr",
     "output_type": "stream",
     "text": [
      " 53%|█████████████████████████████████████████████████████████████████████████████████████████████████▎                                                                                       | 26.306569343064155/50 [11:02<10:08, 25.67s/it]"
     ]
    },
    {
     "name": "stdout",
     "output_type": "stream",
     "text": [
      "Train Epoch: 127 [1280/3387 (38%)]\tLoss: 0.303516\n",
      "Mem before-during-after: 20979200 517219328 20979200\n"
     ]
    },
    {
     "name": "stderr",
     "output_type": "stream",
     "text": [
      " 53%|██████████████████████████████████████████████████████████████████████████████████████████████████▍                                                                                      | 26.598540145983804/50 [11:10<10:03, 25.78s/it]"
     ]
    },
    {
     "name": "stdout",
     "output_type": "stream",
     "text": [
      "Train Epoch: 127 [2560/3387 (76%)]\tLoss: 0.162760\n",
      "Mem before-during-after: 20979200 517219328 20979200\n"
     ]
    },
    {
     "name": "stderr",
     "output_type": "stream",
     "text": [
      " 54%|███████████████████████████████████████████████████████████████████████████████████████████████████▉                                                                                     | 27.007299270071314/50 [11:20<09:27, 24.69s/it]"
     ]
    },
    {
     "name": "stdout",
     "output_type": "stream",
     "text": [
      "\n",
      "Test Epoch: 127\tAccuracy: 634/1024 (62%)\n",
      "\n",
      "Train Epoch: 128 [0/3387 (0%)]\tLoss: 0.386092\n",
      "Mem before-during-after: 20975104 516695040 20979200\n"
     ]
    },
    {
     "name": "stderr",
     "output_type": "stream",
     "text": [
      " 55%|█████████████████████████████████████████████████████████████████████████████████████████████████████                                                                                    | 27.306569343063956/50 [11:28<09:39, 25.56s/it]"
     ]
    },
    {
     "name": "stdout",
     "output_type": "stream",
     "text": [
      "Train Epoch: 128 [1280/3387 (38%)]\tLoss: 0.178534\n",
      "Mem before-during-after: 20979200 517219328 20979200\n"
     ]
    },
    {
     "name": "stderr",
     "output_type": "stream",
     "text": [
      " 55%|██████████████████████████████████████████████████████████████████████████████████████████████████████                                                                                   | 27.598540145983605/50 [11:35<09:34, 25.64s/it]"
     ]
    },
    {
     "name": "stdout",
     "output_type": "stream",
     "text": [
      "Train Epoch: 128 [2560/3387 (76%)]\tLoss: 0.212012\n",
      "Mem before-during-after: 20979200 517219328 20979200\n"
     ]
    },
    {
     "name": "stderr",
     "output_type": "stream",
     "text": [
      " 56%|███████████████████████████████████████████████████████████████████████████████████████████████████████▋                                                                                 | 28.007299270071115/50 [11:45<09:02, 24.65s/it]"
     ]
    },
    {
     "name": "stdout",
     "output_type": "stream",
     "text": [
      "\n",
      "Test Epoch: 128\tAccuracy: 643/1024 (63%)\n",
      "\n",
      "Train Epoch: 129 [0/3387 (0%)]\tLoss: 0.120600\n",
      "Mem before-during-after: 20975104 516695040 20979200\n"
     ]
    },
    {
     "name": "stderr",
     "output_type": "stream",
     "text": [
      " 57%|████████████████████████████████████████████████████████████████████████████████████████████████████████▋                                                                                | 28.306569343063757/50 [11:53<09:20, 25.85s/it]"
     ]
    },
    {
     "name": "stdout",
     "output_type": "stream",
     "text": [
      "Train Epoch: 129 [1280/3387 (38%)]\tLoss: 0.175880\n",
      "Mem before-during-after: 20979200 517219328 20979200\n"
     ]
    },
    {
     "name": "stderr",
     "output_type": "stream",
     "text": [
      " 57%|█████████████████████████████████████████████████████████████████████████████████████████████████████████▊                                                                               | 28.598540145983407/50 [12:01<09:13, 25.84s/it]"
     ]
    },
    {
     "name": "stdout",
     "output_type": "stream",
     "text": [
      "Train Epoch: 129 [2560/3387 (76%)]\tLoss: 0.157526\n",
      "Mem before-during-after: 20979200 517219328 20979200\n"
     ]
    },
    {
     "name": "stderr",
     "output_type": "stream",
     "text": [
      " 58%|███████████████████████████████████████████████████████████████████████████████████████████████████████████▎                                                                             | 29.007299270070916/50 [12:11<08:41, 24.84s/it]"
     ]
    },
    {
     "name": "stdout",
     "output_type": "stream",
     "text": [
      "\n",
      "Test Epoch: 129\tAccuracy: 649/1024 (63%)\n",
      "\n",
      "Train Epoch: 130 [0/3387 (0%)]\tLoss: 0.339805\n",
      "Mem before-during-after: 20975104 516695040 20979200\n"
     ]
    },
    {
     "name": "stderr",
     "output_type": "stream",
     "text": [
      " 59%|████████████████████████████████████████████████████████████████████████████████████████████████████████████▍                                                                            | 29.306569343063558/50 [12:19<08:41, 25.21s/it]"
     ]
    },
    {
     "name": "stdout",
     "output_type": "stream",
     "text": [
      "Train Epoch: 130 [1280/3387 (38%)]\tLoss: 0.160439\n",
      "Mem before-during-after: 20979200 517219328 20979200\n"
     ]
    },
    {
     "name": "stderr",
     "output_type": "stream",
     "text": [
      " 59%|█████████████████████████████████████████████████████████████████████████████████████████████████████████████▌                                                                           | 29.598540145983208/50 [12:26<08:33, 25.19s/it]"
     ]
    },
    {
     "name": "stdout",
     "output_type": "stream",
     "text": [
      "Train Epoch: 130 [2560/3387 (76%)]\tLoss: 0.133938\n",
      "Mem before-during-after: 20979200 517219328 20979200\n"
     ]
    },
    {
     "name": "stderr",
     "output_type": "stream",
     "text": [
      " 60%|███████████████████████████████████████████████████████████████████████████████████████████████████████████████                                                                          | 30.007299270070718/50 [12:36<08:03, 24.17s/it]"
     ]
    },
    {
     "name": "stdout",
     "output_type": "stream",
     "text": [
      "\n",
      "Test Epoch: 130\tAccuracy: 625/1024 (61%)\n",
      "\n",
      "Train Epoch: 131 [0/3387 (0%)]\tLoss: 0.150464\n",
      "Mem before-during-after: 20975104 516695040 20979200\n"
     ]
    },
    {
     "name": "stderr",
     "output_type": "stream",
     "text": [
      " 61%|████████████████████████████████████████████████████████████████████████████████████████████████████████████████▋                                                                         | 30.30656934306336/50 [12:44<08:18, 25.32s/it]"
     ]
    },
    {
     "name": "stdout",
     "output_type": "stream",
     "text": [
      "Train Epoch: 131 [1280/3387 (38%)]\tLoss: 0.136960\n",
      "Mem before-during-after: 20979200 517219328 20979200\n"
     ]
    },
    {
     "name": "stderr",
     "output_type": "stream",
     "text": [
      " 61%|█████████████████████████████████████████████████████████████████████████████████████████████████████████████████▊                                                                        | 30.59854014598301/50 [12:51<08:09, 25.21s/it]"
     ]
    },
    {
     "name": "stdout",
     "output_type": "stream",
     "text": [
      "Train Epoch: 131 [2560/3387 (76%)]\tLoss: 0.134697\n",
      "Mem before-during-after: 20979200 517219328 20979200\n"
     ]
    },
    {
     "name": "stderr",
     "output_type": "stream",
     "text": [
      " 62%|███████████████████████████████████████████████████████████████████████████████████████████████████████████████████▎                                                                      | 31.00729927007052/50 [13:01<07:37, 24.09s/it]"
     ]
    },
    {
     "name": "stdout",
     "output_type": "stream",
     "text": [
      "\n",
      "Test Epoch: 131\tAccuracy: 633/1024 (62%)\n",
      "\n",
      "Train Epoch: 132 [0/3387 (0%)]\tLoss: 0.203387\n",
      "Mem before-during-after: 20975104 516695040 20979200\n"
     ]
    },
    {
     "name": "stderr",
     "output_type": "stream",
     "text": [
      " 63%|████████████████████████████████████████████████████████████████████████████████████████████████████████████████████▍                                                                     | 31.30656934306316/50 [13:09<07:51, 25.20s/it]"
     ]
    },
    {
     "name": "stdout",
     "output_type": "stream",
     "text": [
      "Train Epoch: 132 [1280/3387 (38%)]\tLoss: 0.251329\n",
      "Mem before-during-after: 20979200 517219328 20979200\n"
     ]
    },
    {
     "name": "stderr",
     "output_type": "stream",
     "text": [
      " 63%|█████████████████████████████████████████████████████████████████████████████████████████████████████████████████████▌                                                                    | 31.59854014598281/50 [13:16<07:47, 25.41s/it]"
     ]
    },
    {
     "name": "stdout",
     "output_type": "stream",
     "text": [
      "Train Epoch: 132 [2560/3387 (76%)]\tLoss: 0.256094\n",
      "Mem before-during-after: 20979200 517219328 20979200\n"
     ]
    },
    {
     "name": "stderr",
     "output_type": "stream",
     "text": [
      " 64%|███████████████████████████████████████████████████████████████████████████████████████████████████████████████████████                                                                   | 32.00729927007032/50 [13:26<07:14, 24.14s/it]"
     ]
    },
    {
     "name": "stdout",
     "output_type": "stream",
     "text": [
      "\n",
      "Test Epoch: 132\tAccuracy: 637/1024 (62%)\n",
      "\n",
      "Train Epoch: 133 [0/3387 (0%)]\tLoss: 0.155981\n",
      "Mem before-during-after: 20975104 516695040 20979200\n"
     ]
    },
    {
     "name": "stderr",
     "output_type": "stream",
     "text": [
      " 65%|████████████████████████████████████████████████████████████████████████████████████████████████████████████████████████▏                                                                 | 32.30656934306296/50 [13:34<07:25, 25.21s/it]"
     ]
    },
    {
     "name": "stdout",
     "output_type": "stream",
     "text": [
      "Train Epoch: 133 [1280/3387 (38%)]\tLoss: 0.114542\n",
      "Mem before-during-after: 20979200 517219328 20979200\n"
     ]
    },
    {
     "name": "stderr",
     "output_type": "stream",
     "text": [
      " 65%|█████████████████████████████████████████████████████████████████████████████████████████████████████████████████████████▎                                                                | 32.59854014598261/50 [13:41<07:21, 25.37s/it]"
     ]
    },
    {
     "name": "stdout",
     "output_type": "stream",
     "text": [
      "Train Epoch: 133 [2560/3387 (76%)]\tLoss: 0.216770\n",
      "Mem before-during-after: 20979200 517219328 20979200\n"
     ]
    },
    {
     "name": "stderr",
     "output_type": "stream",
     "text": [
      " 66%|██████████████████████████████████████████████████████████████████████████████████████████████████████████████████████████▊                                                               | 33.00729927007012/50 [13:51<06:54, 24.39s/it]"
     ]
    },
    {
     "name": "stdout",
     "output_type": "stream",
     "text": [
      "\n",
      "Test Epoch: 133\tAccuracy: 630/1024 (61%)\n",
      "\n",
      "Train Epoch: 134 [0/3387 (0%)]\tLoss: 0.364754\n",
      "Mem before-during-after: 20975104 516695040 20979200\n"
     ]
    },
    {
     "name": "stderr",
     "output_type": "stream",
     "text": [
      " 67%|███████████████████████████████████████████████████████████████████████████████████████████████████████████████████████████▉                                                              | 33.30656934306276/50 [13:59<07:00, 25.16s/it]"
     ]
    },
    {
     "name": "stdout",
     "output_type": "stream",
     "text": [
      "Train Epoch: 134 [1280/3387 (38%)]\tLoss: 0.179614\n",
      "Mem before-during-after: 20979200 517219328 20979200\n"
     ]
    },
    {
     "name": "stderr",
     "output_type": "stream",
     "text": [
      " 67%|████████████████████████████████████████████████████████████████████████████████████████████████████████████████████████████▉                                                             | 33.59854014598241/50 [14:06<06:52, 25.16s/it]"
     ]
    },
    {
     "name": "stdout",
     "output_type": "stream",
     "text": [
      "Train Epoch: 134 [2560/3387 (76%)]\tLoss: 0.200661\n",
      "Mem before-during-after: 20979200 517219328 20979200\n"
     ]
    },
    {
     "name": "stderr",
     "output_type": "stream",
     "text": [
      " 68%|██████████████████████████████████████████████████████████████████████████████████████████████████████████████████████████████▌                                                           | 34.00729927006992/50 [14:16<06:26, 24.17s/it]"
     ]
    },
    {
     "name": "stdout",
     "output_type": "stream",
     "text": [
      "\n",
      "Test Epoch: 134\tAccuracy: 632/1024 (62%)\n",
      "\n",
      "Train Epoch: 135 [0/3387 (0%)]\tLoss: 0.197811\n",
      "Mem before-during-after: 20975104 516695040 20979200\n"
     ]
    },
    {
     "name": "stderr",
     "output_type": "stream",
     "text": [
      " 69%|███████████████████████████████████████████████████████████████████████████████████████████████████████████████████████████████▌                                                          | 34.30656934306256/50 [14:24<06:37, 25.35s/it]"
     ]
    },
    {
     "name": "stdout",
     "output_type": "stream",
     "text": [
      "Train Epoch: 135 [1280/3387 (38%)]\tLoss: 0.176956\n",
      "Mem before-during-after: 20979200 517219328 20979200\n"
     ]
    },
    {
     "name": "stderr",
     "output_type": "stream",
     "text": [
      " 69%|████████████████████████████████████████████████████████████████████████████████████████████████████████████████████████████████▋                                                         | 34.59854014598221/50 [14:31<06:27, 25.14s/it]"
     ]
    },
    {
     "name": "stdout",
     "output_type": "stream",
     "text": [
      "Train Epoch: 135 [2560/3387 (76%)]\tLoss: 0.208073\n",
      "Mem before-during-after: 20979200 517219328 20979200\n"
     ]
    },
    {
     "name": "stderr",
     "output_type": "stream",
     "text": [
      " 70%|██████████████████████████████████████████████████████████████████████████████████████████████████████████████████████████████████▏                                                       | 35.00729927006972/50 [14:41<06:02, 24.16s/it]"
     ]
    },
    {
     "name": "stdout",
     "output_type": "stream",
     "text": [
      "\n",
      "Test Epoch: 135\tAccuracy: 617/1024 (60%)\n",
      "\n",
      "Train Epoch: 136 [0/3387 (0%)]\tLoss: 0.067819\n",
      "Mem before-during-after: 20975104 516695040 20979200\n"
     ]
    },
    {
     "name": "stderr",
     "output_type": "stream",
     "text": [
      " 71%|██████████████████████████████████████████████████████████████████████████████████████████████████████████████████████████████████▋                                                      | 35.306569343062364/50 [14:49<06:13, 25.41s/it]"
     ]
    },
    {
     "name": "stdout",
     "output_type": "stream",
     "text": [
      "Train Epoch: 136 [1280/3387 (38%)]\tLoss: 0.180698\n",
      "Mem before-during-after: 20979200 517219328 20979200\n"
     ]
    },
    {
     "name": "stderr",
     "output_type": "stream",
     "text": [
      " 71%|███████████████████████████████████████████████████████████████████████████████████████████████████████████████████████████████████▋                                                     | 35.598540145982014/50 [14:56<06:04, 25.30s/it]"
     ]
    },
    {
     "name": "stdout",
     "output_type": "stream",
     "text": [
      "Train Epoch: 136 [2560/3387 (76%)]\tLoss: 0.165662\n",
      "Mem before-during-after: 20979200 517219328 20979200\n"
     ]
    },
    {
     "name": "stderr",
     "output_type": "stream",
     "text": [
      " 72%|█████████████████████████████████████████████████████████████████████████████████████████████████████████████████████████████████████▏                                                   | 36.007299270069524/50 [15:06<05:37, 24.15s/it]"
     ]
    },
    {
     "name": "stdout",
     "output_type": "stream",
     "text": [
      "\n",
      "Test Epoch: 136\tAccuracy: 635/1024 (62%)\n",
      "\n",
      "Train Epoch: 137 [0/3387 (0%)]\tLoss: 0.232953\n",
      "Mem before-during-after: 20975104 516695040 20979200\n"
     ]
    },
    {
     "name": "stderr",
     "output_type": "stream",
     "text": [
      " 73%|██████████████████████████████████████████████████████████████████████████████████████████████████████████████████████████████████████▎                                                  | 36.306569343062165/50 [15:14<05:45, 25.26s/it]"
     ]
    },
    {
     "name": "stdout",
     "output_type": "stream",
     "text": [
      "Train Epoch: 137 [1280/3387 (38%)]\tLoss: 0.176396\n",
      "Mem before-during-after: 20979200 517219328 20979200\n"
     ]
    },
    {
     "name": "stderr",
     "output_type": "stream",
     "text": [
      " 73%|███████████████████████████████████████████████████████████████████████████████████████████████████████████████████████████████████████▍                                                 | 36.598540145981815/50 [15:21<05:37, 25.18s/it]"
     ]
    },
    {
     "name": "stdout",
     "output_type": "stream",
     "text": [
      "Train Epoch: 137 [2560/3387 (76%)]\tLoss: 0.148015\n",
      "Mem before-during-after: 20979200 517219328 20979200\n"
     ]
    },
    {
     "name": "stderr",
     "output_type": "stream",
     "text": [
      " 74%|████████████████████████████████████████████████████████████████████████████████████████████████████████████████████████████████████████▉                                                | 37.007299270069325/50 [15:31<05:14, 24.19s/it]"
     ]
    },
    {
     "name": "stdout",
     "output_type": "stream",
     "text": [
      "\n",
      "Test Epoch: 137\tAccuracy: 641/1024 (63%)\n",
      "\n",
      "Train Epoch: 138 [0/3387 (0%)]\tLoss: 0.208091\n",
      "Mem before-during-after: 20975104 516695040 20979200\n"
     ]
    },
    {
     "name": "stderr",
     "output_type": "stream",
     "text": [
      " 75%|██████████████████████████████████████████████████████████████████████████████████████████████████████████████████████████████████████████                                               | 37.306569343061966/50 [15:39<05:19, 25.15s/it]"
     ]
    },
    {
     "name": "stdout",
     "output_type": "stream",
     "text": [
      "Train Epoch: 138 [1280/3387 (38%)]\tLoss: 0.792317\n",
      "Mem before-during-after: 20979200 517219328 20979200\n"
     ]
    },
    {
     "name": "stderr",
     "output_type": "stream",
     "text": [
      " 75%|███████████████████████████████████████████████████████████████████████████████████████████████████████████████████████████████████████████                                              | 37.598540145981616/50 [15:46<05:12, 25.21s/it]"
     ]
    },
    {
     "name": "stdout",
     "output_type": "stream",
     "text": [
      "Train Epoch: 138 [2560/3387 (76%)]\tLoss: 0.256427\n",
      "Mem before-during-after: 20979200 517219328 20979200\n"
     ]
    },
    {
     "name": "stderr",
     "output_type": "stream",
     "text": [
      " 76%|████████████████████████████████████████████████████████████████████████████████████████████████████████████████████████████████████████████▋                                            | 38.007299270069126/50 [15:56<04:49, 24.16s/it]"
     ]
    },
    {
     "name": "stdout",
     "output_type": "stream",
     "text": [
      "\n",
      "Test Epoch: 138\tAccuracy: 624/1024 (61%)\n",
      "\n",
      "Train Epoch: 139 [0/3387 (0%)]\tLoss: 0.208692\n",
      "Mem before-during-after: 20975104 516695040 20979200\n"
     ]
    },
    {
     "name": "stderr",
     "output_type": "stream",
     "text": [
      " 77%|██████████████████████████████████████████████████████████████████████████████████████████████████████████████████████████████████████████████▌                                           | 38.30656934306177/50 [16:04<04:59, 25.64s/it]"
     ]
    },
    {
     "name": "stdout",
     "output_type": "stream",
     "text": [
      "Train Epoch: 139 [1280/3387 (38%)]\tLoss: 0.252313\n",
      "Mem before-during-after: 20979200 517219328 20979200\n"
     ]
    },
    {
     "name": "stderr",
     "output_type": "stream",
     "text": [
      " 77%|███████████████████████████████████████████████████████████████████████████████████████████████████████████████████████████████████████████████▌                                          | 38.59854014598142/50 [16:11<04:46, 25.16s/it]"
     ]
    },
    {
     "name": "stdout",
     "output_type": "stream",
     "text": [
      "Train Epoch: 139 [2560/3387 (76%)]\tLoss: 0.229843\n",
      "Mem before-during-after: 20979200 517219328 20979200\n"
     ]
    },
    {
     "name": "stderr",
     "output_type": "stream",
     "text": [
      " 78%|█████████████████████████████████████████████████████████████████████████████████████████████████████████████████████████████████████████████████                                         | 39.00729927006893/50 [16:21<04:26, 24.24s/it]"
     ]
    },
    {
     "name": "stdout",
     "output_type": "stream",
     "text": [
      "\n",
      "Test Epoch: 139\tAccuracy: 637/1024 (62%)\n",
      "\n",
      "Train Epoch: 140 [0/3387 (0%)]\tLoss: 0.059592\n",
      "Mem before-during-after: 20975104 516695040 20979200\n"
     ]
    },
    {
     "name": "stderr",
     "output_type": "stream",
     "text": [
      " 79%|██████████████████████████████████████████████████████████████████████████████████████████████████████████████████████████████████████████████████▏                                       | 39.30656934306157/50 [16:29<04:29, 25.25s/it]"
     ]
    },
    {
     "name": "stdout",
     "output_type": "stream",
     "text": [
      "Train Epoch: 140 [1280/3387 (38%)]\tLoss: 0.181630\n",
      "Mem before-during-after: 20979200 517219328 20979200\n"
     ]
    },
    {
     "name": "stderr",
     "output_type": "stream",
     "text": [
      " 79%|███████████████████████████████████████████████████████████████████████████████████████████████████████████████████████████████████████████████████▎                                      | 39.59854014598122/50 [16:36<04:22, 25.26s/it]"
     ]
    },
    {
     "name": "stdout",
     "output_type": "stream",
     "text": [
      "Train Epoch: 140 [2560/3387 (76%)]\tLoss: 0.369678\n",
      "Mem before-during-after: 20979200 517219328 20979200\n"
     ]
    },
    {
     "name": "stderr",
     "output_type": "stream",
     "text": [
      " 80%|████████████████████████████████████████████████████████████████████████████████████████████████████████████████████████████████████████████████████▊                                     | 40.00729927006873/50 [16:46<04:01, 24.20s/it]"
     ]
    },
    {
     "name": "stdout",
     "output_type": "stream",
     "text": [
      "\n",
      "Test Epoch: 140\tAccuracy: 634/1024 (62%)\n",
      "\n",
      "Train Epoch: 141 [0/3387 (0%)]\tLoss: 0.260412\n",
      "Mem before-during-after: 20975104 516695040 20979200\n"
     ]
    },
    {
     "name": "stderr",
     "output_type": "stream",
     "text": [
      " 81%|█████████████████████████████████████████████████████████████████████████████████████████████████████████████████████████████████████████████████████▉                                    | 40.30656934306137/50 [16:54<04:04, 25.19s/it]"
     ]
    },
    {
     "name": "stdout",
     "output_type": "stream",
     "text": [
      "Train Epoch: 141 [1280/3387 (38%)]\tLoss: 0.231228\n",
      "Mem before-during-after: 20979200 517219328 20979200\n"
     ]
    },
    {
     "name": "stderr",
     "output_type": "stream",
     "text": [
      " 81%|███████████████████████████████████████████████████████████████████████████████████████████████████████████████████████████████████████████████████████                                   | 40.59854014598102/50 [17:01<03:57, 25.30s/it]"
     ]
    },
    {
     "name": "stdout",
     "output_type": "stream",
     "text": [
      "Train Epoch: 141 [2560/3387 (76%)]\tLoss: 0.229408\n",
      "Mem before-during-after: 20979200 517219328 20979200\n"
     ]
    },
    {
     "name": "stderr",
     "output_type": "stream",
     "text": [
      " 82%|████████████████████████████████████████████████████████████████████████████████████████████████████████████████████████████████████████████████████████▌                                 | 41.00729927006853/50 [17:11<03:42, 24.77s/it]"
     ]
    },
    {
     "name": "stdout",
     "output_type": "stream",
     "text": [
      "\n",
      "Test Epoch: 141\tAccuracy: 642/1024 (63%)\n",
      "\n",
      "Train Epoch: 142 [0/3387 (0%)]\tLoss: 0.142243\n",
      "Mem before-during-after: 20975104 516695040 20979200\n"
     ]
    },
    {
     "name": "stderr",
     "output_type": "stream",
     "text": [
      " 83%|█████████████████████████████████████████████████████████████████████████████████████████████████████████████████████████████████████████████████████████▋                                | 41.30656934306117/50 [17:19<03:44, 25.82s/it]"
     ]
    },
    {
     "name": "stdout",
     "output_type": "stream",
     "text": [
      "Train Epoch: 142 [1280/3387 (38%)]\tLoss: 0.154963\n",
      "Mem before-during-after: 20979200 517219328 20979200\n"
     ]
    },
    {
     "name": "stderr",
     "output_type": "stream",
     "text": [
      " 83%|██████████████████████████████████████████████████████████████████████████████████████████████████████████████████████████████████████████████████████████▋                               | 41.59854014598082/50 [17:26<03:36, 25.76s/it]"
     ]
    },
    {
     "name": "stdout",
     "output_type": "stream",
     "text": [
      "Train Epoch: 142 [2560/3387 (76%)]\tLoss: 0.161628\n",
      "Mem before-during-after: 20979200 517219328 20979200\n"
     ]
    },
    {
     "name": "stderr",
     "output_type": "stream",
     "text": [
      " 84%|████████████████████████████████████████████████████████████████████████████████████████████████████████████████████████████████████████████████████████████▎                             | 42.00729927006833/50 [17:37<03:18, 24.86s/it]"
     ]
    },
    {
     "name": "stdout",
     "output_type": "stream",
     "text": [
      "\n",
      "Test Epoch: 142\tAccuracy: 626/1024 (61%)\n",
      "\n",
      "Train Epoch: 143 [0/3387 (0%)]\tLoss: 0.174048\n",
      "Mem before-during-after: 20975104 516695040 20979200\n"
     ]
    },
    {
     "name": "stderr",
     "output_type": "stream",
     "text": [
      " 85%|█████████████████████████████████████████████████████████████████████████████████████████████████████████████████████████████████████████████████████████████▍                            | 42.30656934306097/50 [17:44<03:18, 25.74s/it]"
     ]
    },
    {
     "name": "stdout",
     "output_type": "stream",
     "text": [
      "Train Epoch: 143 [1280/3387 (38%)]\tLoss: 0.120971\n",
      "Mem before-during-after: 20979200 517219328 20979200\n"
     ]
    },
    {
     "name": "stderr",
     "output_type": "stream",
     "text": [
      " 85%|██████████████████████████████████████████████████████████████████████████████████████████████████████████████████████████████████████████████████████████████▍                           | 42.59854014598062/50 [17:52<03:11, 25.82s/it]"
     ]
    },
    {
     "name": "stdout",
     "output_type": "stream",
     "text": [
      "Train Epoch: 143 [2560/3387 (76%)]\tLoss: 0.143679\n",
      "Mem before-during-after: 20979200 517219328 20979200\n"
     ]
    },
    {
     "name": "stderr",
     "output_type": "stream",
     "text": [
      " 86%|███████████████████████████████████████████████████████████████████████████████████████████████████████████████████████████████████████████████████████████████▉                          | 43.00729927006813/50 [18:02<02:49, 24.19s/it]"
     ]
    },
    {
     "name": "stdout",
     "output_type": "stream",
     "text": [
      "\n",
      "Test Epoch: 143\tAccuracy: 630/1024 (61%)\n",
      "\n",
      "Train Epoch: 144 [0/3387 (0%)]\tLoss: 0.195878\n",
      "Mem before-during-after: 20975104 516695040 20979200\n"
     ]
    },
    {
     "name": "stderr",
     "output_type": "stream",
     "text": [
      " 87%|█████████████████████████████████████████████████████████████████████████████████████████████████████████████████████████████████████████████████████████████████                         | 43.30656934306077/50 [18:10<02:49, 25.32s/it]"
     ]
    },
    {
     "name": "stdout",
     "output_type": "stream",
     "text": [
      "Train Epoch: 144 [1280/3387 (38%)]\tLoss: 0.143147\n",
      "Mem before-during-after: 20979200 517219328 20979200\n"
     ]
    },
    {
     "name": "stderr",
     "output_type": "stream",
     "text": [
      " 87%|██████████████████████████████████████████████████████████████████████████████████████████████████████████████████████████████████████████████████████████████████▏                       | 43.59854014598042/50 [18:17<02:41, 25.19s/it]"
     ]
    },
    {
     "name": "stdout",
     "output_type": "stream",
     "text": [
      "Train Epoch: 144 [2560/3387 (76%)]\tLoss: 0.109887\n",
      "Mem before-during-after: 20979200 517219328 20979200\n"
     ]
    },
    {
     "name": "stderr",
     "output_type": "stream",
     "text": [
      " 88%|███████████████████████████████████████████████████████████████████████████████████████████████████████████████████████████████████████████████████████████████████▋                      | 44.00729927006793/50 [18:27<02:24, 24.13s/it]"
     ]
    },
    {
     "name": "stdout",
     "output_type": "stream",
     "text": [
      "\n",
      "Test Epoch: 144\tAccuracy: 642/1024 (63%)\n",
      "\n",
      "Train Epoch: 145 [0/3387 (0%)]\tLoss: 0.176155\n",
      "Mem before-during-after: 20975104 516695040 20979200\n"
     ]
    },
    {
     "name": "stderr",
     "output_type": "stream",
     "text": [
      " 89%|████████████████████████████████████████████████████████████████████████████████████████████████████████████████████████████████████████████████████████████████████▊                     | 44.30656934306057/50 [18:35<02:23, 25.26s/it]"
     ]
    },
    {
     "name": "stdout",
     "output_type": "stream",
     "text": [
      "Train Epoch: 145 [1280/3387 (38%)]\tLoss: 0.071613\n",
      "Mem before-during-after: 20979200 517219328 20979200\n"
     ]
    },
    {
     "name": "stderr",
     "output_type": "stream",
     "text": [
      " 89%|█████████████████████████████████████████████████████████████████████████████████████████████████████████████████████████████████████████████████████████████████████▉                    | 44.59854014598022/50 [18:42<02:16, 25.24s/it]"
     ]
    },
    {
     "name": "stdout",
     "output_type": "stream",
     "text": [
      "Train Epoch: 145 [2560/3387 (76%)]\tLoss: 0.159090\n",
      "Mem before-during-after: 20979200 517219328 20979200\n"
     ]
    },
    {
     "name": "stderr",
     "output_type": "stream",
     "text": [
      " 90%|███████████████████████████████████████████████████████████████████████████████████████████████████████████████████████████████████████████████████████████████████████▍                  | 45.00729927006773/50 [18:52<02:00, 24.18s/it]"
     ]
    },
    {
     "name": "stdout",
     "output_type": "stream",
     "text": [
      "\n",
      "Test Epoch: 145\tAccuracy: 641/1024 (63%)\n",
      "\n",
      "Train Epoch: 146 [0/3387 (0%)]\tLoss: 0.084861\n",
      "Mem before-during-after: 20975104 516695040 20979200\n"
     ]
    },
    {
     "name": "stderr",
     "output_type": "stream",
     "text": [
      " 91%|███████████████████████████████████████████████████████████████████████████████████████████████████████████████████████████████████████████████████████████████████████▋                 | 45.306569343060374/50 [19:00<02:00, 25.58s/it]"
     ]
    },
    {
     "name": "stdout",
     "output_type": "stream",
     "text": [
      "Train Epoch: 146 [1280/3387 (38%)]\tLoss: 0.178711\n",
      "Mem before-during-after: 20979200 517219328 20979200\n"
     ]
    },
    {
     "name": "stderr",
     "output_type": "stream",
     "text": [
      " 91%|████████████████████████████████████████████████████████████████████████████████████████████████████████████████████████████████████████████████████████████████████████▋                | 45.598540145980024/50 [19:07<01:51, 25.24s/it]"
     ]
    },
    {
     "name": "stdout",
     "output_type": "stream",
     "text": [
      "Train Epoch: 146 [2560/3387 (76%)]\tLoss: 0.148906\n",
      "Mem before-during-after: 20979200 517219328 20979200\n"
     ]
    },
    {
     "name": "stderr",
     "output_type": "stream",
     "text": [
      " 92%|██████████████████████████████████████████████████████████████████████████████████████████████████████████████████████████████████████████████████████████████████████████▏              | 46.007299270067534/50 [19:17<01:36, 24.22s/it]"
     ]
    },
    {
     "name": "stdout",
     "output_type": "stream",
     "text": [
      "\n",
      "Test Epoch: 146\tAccuracy: 636/1024 (62%)\n",
      "\n",
      "Train Epoch: 147 [0/3387 (0%)]\tLoss: 0.173492\n",
      "Mem before-during-after: 20975104 516695040 20979200\n"
     ]
    },
    {
     "name": "stderr",
     "output_type": "stream",
     "text": [
      " 93%|███████████████████████████████████████████████████████████████████████████████████████████████████████████████████████████████████████████████████████████████████████████▎             | 46.306569343060175/50 [19:25<01:33, 25.34s/it]"
     ]
    },
    {
     "name": "stdout",
     "output_type": "stream",
     "text": [
      "Train Epoch: 147 [1280/3387 (38%)]\tLoss: 0.113513\n",
      "Mem before-during-after: 20979200 517219328 20979200\n"
     ]
    },
    {
     "name": "stderr",
     "output_type": "stream",
     "text": [
      " 93%|████████████████████████████████████████████████████████████████████████████████████████████████████████████████████████████████████████████████████████████████████████████▍            | 46.598540145979825/50 [19:32<01:25, 25.20s/it]"
     ]
    },
    {
     "name": "stdout",
     "output_type": "stream",
     "text": [
      "Train Epoch: 147 [2560/3387 (76%)]\tLoss: 0.088695\n",
      "Mem before-during-after: 20979200 517219328 20979200\n"
     ]
    },
    {
     "name": "stderr",
     "output_type": "stream",
     "text": [
      " 94%|█████████████████████████████████████████████████████████████████████████████████████████████████████████████████████████████████████████████████████████████████████████████▉           | 47.007299270067335/50 [19:42<01:12, 24.33s/it]"
     ]
    },
    {
     "name": "stdout",
     "output_type": "stream",
     "text": [
      "\n",
      "Test Epoch: 147\tAccuracy: 631/1024 (62%)\n",
      "\n",
      "Train Epoch: 148 [0/3387 (0%)]\tLoss: 0.080213\n",
      "Mem before-during-after: 20975104 516695040 20979200\n"
     ]
    },
    {
     "name": "stderr",
     "output_type": "stream",
     "text": [
      " 95%|███████████████████████████████████████████████████████████████████████████████████████████████████████████████████████████████████████████████████████████████████████████████▉          | 47.30656934305998/50 [19:50<01:08, 25.32s/it]"
     ]
    },
    {
     "name": "stdout",
     "output_type": "stream",
     "text": [
      "Train Epoch: 148 [1280/3387 (38%)]\tLoss: 0.149707\n",
      "Mem before-during-after: 20979200 517219328 20979200\n"
     ]
    },
    {
     "name": "stderr",
     "output_type": "stream",
     "text": [
      " 95%|█████████████████████████████████████████████████████████████████████████████████████████████████████████████████████████████████████████████████████████████████████████████████         | 47.59854014597963/50 [19:57<01:00, 25.08s/it]"
     ]
    },
    {
     "name": "stdout",
     "output_type": "stream",
     "text": [
      "Train Epoch: 148 [2560/3387 (76%)]\tLoss: 0.148776\n",
      "Mem before-during-after: 20979200 517219328 20979200\n"
     ]
    },
    {
     "name": "stderr",
     "output_type": "stream",
     "text": [
      " 96%|█████████████████████████████████████████████████████████████████████████████████████████████████████████████████████████████████████████████████████████████████████████████████▋       | 48.007299270067136/50 [20:07<00:48, 24.13s/it]"
     ]
    },
    {
     "name": "stdout",
     "output_type": "stream",
     "text": [
      "\n",
      "Test Epoch: 148\tAccuracy: 631/1024 (62%)\n",
      "\n",
      "Train Epoch: 149 [0/3387 (0%)]\tLoss: 0.236724\n",
      "Mem before-during-after: 20975104 516695040 20979200\n"
     ]
    },
    {
     "name": "stderr",
     "output_type": "stream",
     "text": [
      " 97%|███████████████████████████████████████████████████████████████████████████████████████████████████████████████████████████████████████████████████████████████████████████████████▋      | 48.30656934305978/50 [20:15<00:42, 25.28s/it]"
     ]
    },
    {
     "name": "stdout",
     "output_type": "stream",
     "text": [
      "Train Epoch: 149 [1280/3387 (38%)]\tLoss: 0.111907\n",
      "Mem before-during-after: 20979200 517219328 20979200\n"
     ]
    },
    {
     "name": "stderr",
     "output_type": "stream",
     "text": [
      " 97%|████████████████████████████████████████████████████████████████████████████████████████████████████████████████████████████████████████████████████████████████████████████████████▊     | 48.59854014597943/50 [20:22<00:35, 25.24s/it]"
     ]
    },
    {
     "name": "stdout",
     "output_type": "stream",
     "text": [
      "Train Epoch: 149 [2560/3387 (76%)]\tLoss: 0.102193\n",
      "Mem before-during-after: 20979200 517219328 20979200\n"
     ]
    },
    {
     "name": "stderr",
     "output_type": "stream",
     "text": [
      " 98%|██████████████████████████████████████████████████████████████████████████████████████████████████████████████████████████████████████████████████████████████████████████████████████▎   | 49.00729927006694/50 [20:32<00:24, 24.32s/it]"
     ]
    },
    {
     "name": "stdout",
     "output_type": "stream",
     "text": [
      "\n",
      "Test Epoch: 149\tAccuracy: 638/1024 (62%)\n",
      "\n",
      "Train Epoch: 150 [0/3387 (0%)]\tLoss: 0.127967\n",
      "Mem before-during-after: 20975104 516695040 20979200\n"
     ]
    },
    {
     "name": "stderr",
     "output_type": "stream",
     "text": [
      " 99%|███████████████████████████████████████████████████████████████████████████████████████████████████████████████████████████████████████████████████████████████████████████████████████▍  | 49.30656934305958/50 [20:40<00:17, 25.46s/it]"
     ]
    },
    {
     "name": "stdout",
     "output_type": "stream",
     "text": [
      "Train Epoch: 150 [1280/3387 (38%)]\tLoss: 0.372783\n",
      "Mem before-during-after: 20979200 517219328 20979200\n"
     ]
    },
    {
     "name": "stderr",
     "output_type": "stream",
     "text": [
      " 99%|████████████████████████████████████████████████████████████████████████████████████████████████████████████████████████████████████████████████████████████████████████████████████████▌ | 49.59854014597923/50 [20:47<00:10, 25.31s/it]"
     ]
    },
    {
     "name": "stdout",
     "output_type": "stream",
     "text": [
      "Train Epoch: 150 [2560/3387 (76%)]\tLoss: 0.195658\n",
      "Mem before-during-after: 20979200 517219328 20979200\n"
     ]
    },
    {
     "name": "stderr",
     "output_type": "stream",
     "text": [
      "100%|█████████████████████████████████████████████████████████████████████████████████████████████████████████████████████████████████████████████████████████████████████████████████████████▉| 49.99999999999375/50 [20:57<00:00, 25.15s/it]"
     ]
    },
    {
     "name": "stdout",
     "output_type": "stream",
     "text": [
      "\n",
      "Test Epoch: 150\tAccuracy: 639/1024 (62%)\n",
      "\n"
     ]
    },
    {
     "name": "stderr",
     "output_type": "stream",
     "text": [
      "\n"
     ]
    }
   ],
   "source": [
    "n_epoch = 10\n",
    "n_epoch2 = 50\n",
    "n_epoch3 = 40\n",
    "n_epoch4 = 50\n",
    "# train_losses = []\n",
    "# test_accuracy = []\n",
    "\n",
    "optimizer = optim.RAdam(model.parameters(), lr=0.00001)\n",
    "scheduler = optim.lr_scheduler.OneCycleLR(\n",
    "    optimizer, max_lr=0.005,\n",
    "    steps_per_epoch=len(train_loader), epochs=n_epoch4)\n",
    "log_interval = 40\n",
    "pbar_update = 1 / (len(train_loader) + len(test_loader))\n",
    "# model.to(device)\n",
    "with tqdm(total=n_epoch4) as pbar:\n",
    "    for epoch in range(1+100, n_epoch4+100 + 1):\n",
    "        train(model, epoch, log_interval, train_losses)\n",
    "        acc = test(model, epoch)\n",
    "        test_accuracy += [acc]\n",
    "        if acc > best_accuracy:\n",
    "            best_accuracy = acc\n",
    "            bmodel_path = f'{model_path_prefix}{epoch}epoch.pt'\n",
    "            torch.save(model.state_dict(), bmodel_path)\n",
    "            print(f'saved model: {bmodel_path}')\n",
    "        scheduler.step()"
   ]
  },
  {
   "cell_type": "code",
   "execution_count": 34,
   "id": "d4a0b4c1-f4b7-4d72-bae0-482f1b6b85fa",
   "metadata": {},
   "outputs": [
    {
     "data": {
      "text/plain": [
       "[<matplotlib.lines.Line2D at 0x7fd11c191a90>]"
      ]
     },
     "execution_count": 34,
     "metadata": {},
     "output_type": "execute_result"
    },
    {
     "data": {
      "image/png": "[encoded data removed]",
      "text/plain": [
       "<Figure size 640x480 with 1 Axes>"
      ]
     },
     "metadata": {},
     "output_type": "display_data"
    }
   ],
   "source": [
    "plt.plot(train_losses)"
   ]
  },
  {
   "cell_type": "code",
   "execution_count": 35,
   "id": "0cb935bd-e0e5-4dfe-9a15-73efed8f7ead",
   "metadata": {},
   "outputs": [
    {
     "data": {
      "text/plain": [
       "[<matplotlib.lines.Line2D at 0x7fd11c0fb610>]"
      ]
     },
     "execution_count": 35,
     "metadata": {},
     "output_type": "execute_result"
    },
    {
     "data": {
      "image/png": "[encoded data removed]",
      "text/plain": [
       "<Figure size 640x480 with 1 Axes>"
      ]
     },
     "metadata": {},
     "output_type": "display_data"
    }
   ],
   "source": [
    "plt.plot(test_accuracy)"
   ]
  },
  {
   "cell_type": "code",
   "execution_count": 36,
   "id": "3ee0ae2f-8c61-44a2-8584-8bdf2fd50997",
   "metadata": {},
   "outputs": [
    {
     "name": "stdout",
     "output_type": "stream",
     "text": [
      "Correct: 639/1024 (0.6240)\n",
      "{'acc_detail': tensor([0.7180, 0.6344, 0.6604, 0.4850], device='cuda:0'),\n",
      " 'acc_unweighted': tensor(0.6244, device='cuda:0'),\n",
      " 'acc_weighted': tensor(0.6240, device='cuda:0'),\n",
      " 'f1s': tensor(0.6233, device='cuda:0'),\n",
      " 'f1s_detail': tensor([0.7127, 0.5614, 0.7071, 0.5119], device='cuda:0'),\n",
      " 'precision_detail': tensor([0.7074, 0.5035, 0.7609, 0.5420], device='cuda:0'),\n",
      " 'recall_detail': tensor([0.7180, 0.6344, 0.6604, 0.4850], device='cuda:0'),\n",
      " 'rocauc': tensor([0.8786, 0.8356, 0.9040, 0.7616], device='cuda:0'),\n",
      " 'uar': tensor(0.6244, device='cuda:0'),\n",
      " 'wap': tensor(0.6331, device='cuda:0')}\n"
     ]
    },
    {
     "data": {
      "text/plain": [
       "tensor([[191,  22,   2,  51],\n",
       "        [ 12, 144,  34,  37],\n",
       "        [  5,  64, 175,  21],\n",
       "        [ 62,  56,  19, 129]], device='cuda:0')"
      ]
     },
     "execution_count": 36,
     "metadata": {},
     "output_type": "execute_result"
    }
   ],
   "source": [
    "metrics4, confusion_matrix4 = report_metrics(\n",
    "    model, labels=labels, device=device)\n",
    "pprint(metrics4.compute())\n",
    "confusion_matrix4.compute()"
   ]
  },
  {
   "cell_type": "code",
   "execution_count": 37,
   "id": "714ebd7a-64d6-45d4-ab87-9fa94a1c4560",
   "metadata": {},
   "outputs": [],
   "source": [
    "np.save('../cremad4_trill19_m12new_150epochs_train_losses.npy', train_losses, allow_pickle=True)\n",
    "np.save('../cremad4_trill19_m12new_150epochs_test_accuracy.npy', test_accuracy, allow_pickle=True)"
   ]
  },
  {
   "cell_type": "code",
   "execution_count": 41,
   "id": "2533383e-5005-45a3-9b02-834d99886a21",
   "metadata": {
    "scrolled": true
   },
   "outputs": [
    {
     "name": "stderr",
     "output_type": "stream",
     "text": [
      "  0%|                                                                                                                                                                              | 0.014598540145985401/50 [00:00<21:28, 25.79s/it]"
     ]
    },
    {
     "name": "stdout",
     "output_type": "stream",
     "text": [
      "Train Epoch: 151 [0/3387 (0%)]\tLoss: 0.140205\n",
      "Mem before-during-after: 21690368 517410304 22748672\n"
     ]
    },
    {
     "name": "stderr",
     "output_type": "stream",
     "text": [
      "  1%|█                                                                                                                                                                               | 0.3065693430656933/50 [00:08<21:33, 26.03s/it]"
     ]
    },
    {
     "name": "stdout",
     "output_type": "stream",
     "text": [
      "Train Epoch: 151 [1280/3387 (38%)]\tLoss: 0.046862\n",
      "Mem before-during-after: 22748672 518988800 22748672\n"
     ]
    },
    {
     "name": "stderr",
     "output_type": "stream",
     "text": [
      "  1%|██                                                                                                                                                                               | 0.598540145985401/50 [00:15<21:24, 25.99s/it]"
     ]
    },
    {
     "name": "stdout",
     "output_type": "stream",
     "text": [
      "Train Epoch: 151 [2560/3387 (76%)]\tLoss: 0.069236\n",
      "Mem before-during-after: 22748672 518988800 22748672\n"
     ]
    },
    {
     "name": "stderr",
     "output_type": "stream",
     "text": [
      "  2%|███▌                                                                                                                                                                            | 1.0072992700729917/50 [00:26<21:05, 25.83s/it]"
     ]
    },
    {
     "name": "stdout",
     "output_type": "stream",
     "text": [
      "\n",
      "Test Epoch: 151\tAccuracy: 630/1024 (61%)\n",
      "\n",
      "Train Epoch: 152 [0/3387 (0%)]\tLoss: 0.078096\n",
      "Mem before-during-after: 22744576 518464512 22748672\n"
     ]
    },
    {
     "name": "stderr",
     "output_type": "stream",
     "text": [
      "  3%|████▌                                                                                                                                                                           | 1.3065693430656966/50 [00:34<22:02, 27.16s/it]"
     ]
    },
    {
     "name": "stdout",
     "output_type": "stream",
     "text": [
      "Train Epoch: 152 [1280/3387 (38%)]\tLoss: 0.039966\n",
      "Mem before-during-after: 22748672 518988800 22748672\n"
     ]
    },
    {
     "name": "stderr",
     "output_type": "stream",
     "text": [
      "  3%|█████▋                                                                                                                                                                          | 1.5985401459854087/50 [00:41<20:57, 25.98s/it]"
     ]
    },
    {
     "name": "stdout",
     "output_type": "stream",
     "text": [
      "Train Epoch: 152 [2560/3387 (76%)]\tLoss: 0.262062\n",
      "Mem before-during-after: 22748672 518988800 22748672\n"
     ]
    },
    {
     "name": "stderr",
     "output_type": "stream",
     "text": [
      "  4%|███████                                                                                                                                                                         | 2.0072992700730055/50 [00:52<20:13, 25.28s/it]"
     ]
    },
    {
     "name": "stdout",
     "output_type": "stream",
     "text": [
      "\n",
      "Test Epoch: 152\tAccuracy: 642/1024 (63%)\n",
      "\n",
      "Train Epoch: 153 [0/3387 (0%)]\tLoss: 0.054882\n",
      "Mem before-during-after: 22744576 518464512 22748672\n"
     ]
    },
    {
     "name": "stderr",
     "output_type": "stream",
     "text": [
      "  5%|████████                                                                                                                                                                        | 2.3065693430657013/50 [01:00<20:40, 26.00s/it]"
     ]
    },
    {
     "name": "stdout",
     "output_type": "stream",
     "text": [
      "Train Epoch: 153 [1280/3387 (38%)]\tLoss: 0.034243\n",
      "Mem before-during-after: 22748672 518988800 22748672\n"
     ]
    },
    {
     "name": "stderr",
     "output_type": "stream",
     "text": [
      "  5%|█████████▏                                                                                                                                                                      | 2.5985401459854045/50 [01:07<20:50, 26.38s/it]"
     ]
    },
    {
     "name": "stdout",
     "output_type": "stream",
     "text": [
      "Train Epoch: 153 [2560/3387 (76%)]\tLoss: 0.064680\n",
      "Mem before-during-after: 22748672 518988800 22748672\n"
     ]
    },
    {
     "name": "stderr",
     "output_type": "stream",
     "text": [
      "  6%|██████████▋                                                                                                                                                                      | 3.007299270072989/50 [01:18<19:24, 24.78s/it]"
     ]
    },
    {
     "name": "stdout",
     "output_type": "stream",
     "text": [
      "\n",
      "Test Epoch: 153\tAccuracy: 643/1024 (63%)\n",
      "\n",
      "Train Epoch: 154 [0/3387 (0%)]\tLoss: 0.036014\n",
      "Mem before-during-after: 22744576 518464512 22748672\n"
     ]
    },
    {
     "name": "stderr",
     "output_type": "stream",
     "text": [
      "  7%|███████████▋                                                                                                                                                                     | 3.306569343065685/50 [01:25<19:59, 25.68s/it]"
     ]
    },
    {
     "name": "stdout",
     "output_type": "stream",
     "text": [
      "Train Epoch: 154 [1280/3387 (38%)]\tLoss: 0.058789\n",
      "Mem before-during-after: 22748672 518988800 22748672\n"
     ]
    },
    {
     "name": "stderr",
     "output_type": "stream",
     "text": [
      "  7%|████████████▋                                                                                                                                                                    | 3.598540145985388/50 [01:33<20:14, 26.17s/it]"
     ]
    },
    {
     "name": "stdout",
     "output_type": "stream",
     "text": [
      "Train Epoch: 154 [2560/3387 (76%)]\tLoss: 0.113325\n",
      "Mem before-during-after: 22748672 518988800 22748672\n"
     ]
    },
    {
     "name": "stderr",
     "output_type": "stream",
     "text": [
      "  8%|██████████████▏                                                                                                                                                                  | 4.007299270072973/50 [01:44<19:40, 25.66s/it]"
     ]
    },
    {
     "name": "stdout",
     "output_type": "stream",
     "text": [
      "\n",
      "Test Epoch: 154\tAccuracy: 632/1024 (62%)\n",
      "\n",
      "Train Epoch: 155 [0/3387 (0%)]\tLoss: 0.055746\n",
      "Mem before-during-after: 22744576 518464512 22748672\n"
     ]
    },
    {
     "name": "stderr",
     "output_type": "stream",
     "text": [
      "  9%|███████████████▏                                                                                                                                                                 | 4.306569343065687/50 [01:52<20:01, 26.30s/it]"
     ]
    },
    {
     "name": "stdout",
     "output_type": "stream",
     "text": [
      "Train Epoch: 155 [1280/3387 (38%)]\tLoss: 0.119744\n",
      "Mem before-during-after: 22748672 518988800 22748672\n"
     ]
    },
    {
     "name": "stderr",
     "output_type": "stream",
     "text": [
      "  9%|████████████████▎                                                                                                                                                                | 4.598540145985408/50 [01:59<19:55, 26.33s/it]"
     ]
    },
    {
     "name": "stdout",
     "output_type": "stream",
     "text": [
      "Train Epoch: 155 [2560/3387 (76%)]\tLoss: 0.031091\n",
      "Mem before-during-after: 22748672 518988800 22748672\n"
     ]
    },
    {
     "name": "stderr",
     "output_type": "stream",
     "text": [
      " 10%|█████████████████▋                                                                                                                                                               | 5.007299270073017/50 [02:10<18:47, 25.06s/it]"
     ]
    },
    {
     "name": "stdout",
     "output_type": "stream",
     "text": [
      "\n",
      "Test Epoch: 155\tAccuracy: 644/1024 (63%)\n",
      "\n",
      "Train Epoch: 156 [0/3387 (0%)]\tLoss: 0.052085\n",
      "Mem before-during-after: 22744576 518464512 22748672\n"
     ]
    },
    {
     "name": "stderr",
     "output_type": "stream",
     "text": [
      " 11%|██████████████████▊                                                                                                                                                              | 5.306569343065731/50 [02:18<19:17, 25.89s/it]"
     ]
    },
    {
     "name": "stdout",
     "output_type": "stream",
     "text": [
      "Train Epoch: 156 [1280/3387 (38%)]\tLoss: 0.058183\n",
      "Mem before-during-after: 22748672 518988800 22748672\n"
     ]
    },
    {
     "name": "stderr",
     "output_type": "stream",
     "text": [
      " 11%|███████████████████▊                                                                                                                                                             | 5.598540145985452/50 [02:25<19:17, 26.07s/it]"
     ]
    },
    {
     "name": "stdout",
     "output_type": "stream",
     "text": [
      "Train Epoch: 156 [2560/3387 (76%)]\tLoss: 0.043574\n",
      "Mem before-during-after: 22748672 518988800 22748672\n"
     ]
    },
    {
     "name": "stderr",
     "output_type": "stream",
     "text": [
      " 12%|█████████████████████▎                                                                                                                                                           | 6.007299270073061/50 [02:36<18:39, 25.44s/it]"
     ]
    },
    {
     "name": "stdout",
     "output_type": "stream",
     "text": [
      "\n",
      "Test Epoch: 156\tAccuracy: 636/1024 (62%)\n",
      "\n",
      "Train Epoch: 157 [0/3387 (0%)]\tLoss: 0.046836\n",
      "Mem before-during-after: 22744576 518464512 22748672\n"
     ]
    },
    {
     "name": "stderr",
     "output_type": "stream",
     "text": [
      " 13%|██████████████████████▎                                                                                                                                                          | 6.306569343065775/50 [02:43<19:03, 26.18s/it]"
     ]
    },
    {
     "name": "stdout",
     "output_type": "stream",
     "text": [
      "Train Epoch: 157 [1280/3387 (38%)]\tLoss: 0.069741\n",
      "Mem before-during-after: 22748672 518988800 22748672\n"
     ]
    },
    {
     "name": "stderr",
     "output_type": "stream",
     "text": [
      " 13%|███████████████████████▎                                                                                                                                                         | 6.598540145985496/50 [02:51<19:11, 26.53s/it]"
     ]
    },
    {
     "name": "stdout",
     "output_type": "stream",
     "text": [
      "Train Epoch: 157 [2560/3387 (76%)]\tLoss: 0.071374\n",
      "Mem before-during-after: 22748672 518988800 22748672\n"
     ]
    },
    {
     "name": "stderr",
     "output_type": "stream",
     "text": [
      " 14%|████████████████████████▊                                                                                                                                                        | 7.007299270073106/50 [03:02<17:55, 25.01s/it]"
     ]
    },
    {
     "name": "stdout",
     "output_type": "stream",
     "text": [
      "\n",
      "Test Epoch: 157\tAccuracy: 622/1024 (61%)\n",
      "\n",
      "Train Epoch: 158 [0/3387 (0%)]\tLoss: 0.027428\n",
      "Mem before-during-after: 22744576 518464512 22748672\n"
     ]
    },
    {
     "name": "stderr",
     "output_type": "stream",
     "text": [
      " 15%|██████████████████████████                                                                                                                                                        | 7.30656934306582/50 [03:09<18:19, 25.76s/it]"
     ]
    },
    {
     "name": "stdout",
     "output_type": "stream",
     "text": [
      "Train Epoch: 158 [1280/3387 (38%)]\tLoss: 0.122794\n",
      "Mem before-during-after: 22748672 518988800 22748672\n"
     ]
    },
    {
     "name": "stderr",
     "output_type": "stream",
     "text": [
      " 15%|██████████████████████████▉                                                                                                                                                      | 7.598540145985541/50 [03:17<18:14, 25.81s/it]"
     ]
    },
    {
     "name": "stdout",
     "output_type": "stream",
     "text": [
      "Train Epoch: 158 [2560/3387 (76%)]\tLoss: 0.103435\n",
      "Mem before-during-after: 22748672 518988800 22748672\n"
     ]
    },
    {
     "name": "stderr",
     "output_type": "stream",
     "text": [
      " 16%|████████████████████████████▌                                                                                                                                                     | 8.00729927007315/50 [03:27<17:34, 25.12s/it]"
     ]
    },
    {
     "name": "stdout",
     "output_type": "stream",
     "text": [
      "\n",
      "Test Epoch: 158\tAccuracy: 632/1024 (62%)\n",
      "\n",
      "Train Epoch: 159 [0/3387 (0%)]\tLoss: 0.051456\n",
      "Mem before-during-after: 22744576 518464512 22748672\n"
     ]
    },
    {
     "name": "stderr",
     "output_type": "stream",
     "text": [
      " 17%|█████████████████████████████▍                                                                                                                                                   | 8.306569343065863/50 [03:35<18:09, 26.13s/it]"
     ]
    },
    {
     "name": "stdout",
     "output_type": "stream",
     "text": [
      "Train Epoch: 159 [1280/3387 (38%)]\tLoss: 0.128123\n",
      "Mem before-during-after: 22748672 518988800 22748672\n"
     ]
    },
    {
     "name": "stderr",
     "output_type": "stream",
     "text": [
      " 17%|██████████████████████████████▍                                                                                                                                                  | 8.598540145985584/50 [03:43<17:48, 25.80s/it]"
     ]
    },
    {
     "name": "stdout",
     "output_type": "stream",
     "text": [
      "Train Epoch: 159 [2560/3387 (76%)]\tLoss: 0.029275\n",
      "Mem before-during-after: 22748672 518988800 22748672\n"
     ]
    },
    {
     "name": "stderr",
     "output_type": "stream",
     "text": [
      " 18%|███████████████████████████████▉                                                                                                                                                 | 9.007299270073194/50 [03:53<17:16, 25.28s/it]"
     ]
    },
    {
     "name": "stdout",
     "output_type": "stream",
     "text": [
      "\n",
      "Test Epoch: 159\tAccuracy: 636/1024 (62%)\n",
      "\n",
      "Train Epoch: 160 [0/3387 (0%)]\tLoss: 0.100184\n",
      "Mem before-during-after: 22744576 518464512 22748672\n"
     ]
    },
    {
     "name": "stderr",
     "output_type": "stream",
     "text": [
      " 19%|████████████████████████████████▉                                                                                                                                                | 9.306569343065908/50 [04:01<17:29, 25.80s/it]"
     ]
    },
    {
     "name": "stdout",
     "output_type": "stream",
     "text": [
      "Train Epoch: 160 [1280/3387 (38%)]\tLoss: 0.084572\n",
      "Mem before-during-after: 22748672 518988800 22748672\n"
     ]
    },
    {
     "name": "stderr",
     "output_type": "stream",
     "text": [
      " 19%|█████████████████████████████████▉                                                                                                                                               | 9.598540145985629/50 [04:08<17:17, 25.68s/it]"
     ]
    },
    {
     "name": "stdout",
     "output_type": "stream",
     "text": [
      "Train Epoch: 160 [2560/3387 (76%)]\tLoss: 0.030623\n",
      "Mem before-during-after: 22748672 518988800 22748672\n"
     ]
    },
    {
     "name": "stderr",
     "output_type": "stream",
     "text": [
      " 20%|███████████████████████████████████▏                                                                                                                                            | 10.007299270073238/50 [04:19<16:39, 24.98s/it]"
     ]
    },
    {
     "name": "stdout",
     "output_type": "stream",
     "text": [
      "\n",
      "Test Epoch: 160\tAccuracy: 626/1024 (61%)\n",
      "\n",
      "Train Epoch: 161 [0/3387 (0%)]\tLoss: 0.078117\n",
      "Mem before-during-after: 22744576 518464512 22748672\n"
     ]
    },
    {
     "name": "stderr",
     "output_type": "stream",
     "text": [
      " 21%|████████████████████████████████████▎                                                                                                                                           | 10.306569343065952/50 [04:26<17:01, 25.73s/it]"
     ]
    },
    {
     "name": "stdout",
     "output_type": "stream",
     "text": [
      "Train Epoch: 161 [1280/3387 (38%)]\tLoss: 0.061893\n",
      "Mem before-during-after: 22748672 518988800 22748672\n"
     ]
    },
    {
     "name": "stderr",
     "output_type": "stream",
     "text": [
      " 21%|█████████████████████████████████████▎                                                                                                                                          | 10.598540145985673/50 [04:34<17:01, 25.92s/it]"
     ]
    },
    {
     "name": "stdout",
     "output_type": "stream",
     "text": [
      "Train Epoch: 161 [2560/3387 (76%)]\tLoss: 0.046084\n",
      "Mem before-during-after: 22748672 518988800 22748672\n"
     ]
    },
    {
     "name": "stderr",
     "output_type": "stream",
     "text": [
      " 22%|██████████████████████████████████████▋                                                                                                                                         | 11.007299270073283/50 [04:44<17:11, 26.45s/it]"
     ]
    },
    {
     "name": "stdout",
     "output_type": "stream",
     "text": [
      "\n",
      "Test Epoch: 161\tAccuracy: 629/1024 (61%)\n",
      "\n",
      "Train Epoch: 162 [0/3387 (0%)]\tLoss: 0.043098\n",
      "Mem before-during-after: 22744576 518464512 22748672\n"
     ]
    },
    {
     "name": "stderr",
     "output_type": "stream",
     "text": [
      " 23%|███████████████████████████████████████▊                                                                                                                                        | 11.306569343065997/50 [04:52<17:23, 26.96s/it]"
     ]
    },
    {
     "name": "stdout",
     "output_type": "stream",
     "text": [
      "Train Epoch: 162 [1280/3387 (38%)]\tLoss: 0.053249\n",
      "Mem before-during-after: 22748672 518988800 22748672\n"
     ]
    },
    {
     "name": "stderr",
     "output_type": "stream",
     "text": [
      " 23%|████████████████████████████████████████▊                                                                                                                                       | 11.598540145985718/50 [05:00<16:55, 26.45s/it]"
     ]
    },
    {
     "name": "stdout",
     "output_type": "stream",
     "text": [
      "Train Epoch: 162 [2560/3387 (76%)]\tLoss: 0.083616\n",
      "Mem before-during-after: 22748672 518988800 22748672\n"
     ]
    },
    {
     "name": "stderr",
     "output_type": "stream",
     "text": [
      " 24%|██████████████████████████████████████████▎                                                                                                                                     | 12.007299270073327/50 [05:11<16:11, 25.56s/it]"
     ]
    },
    {
     "name": "stdout",
     "output_type": "stream",
     "text": [
      "\n",
      "Test Epoch: 162\tAccuracy: 626/1024 (61%)\n",
      "\n",
      "Train Epoch: 163 [0/3387 (0%)]\tLoss: 0.076687\n",
      "Mem before-during-after: 22744576 518464512 22748672\n"
     ]
    },
    {
     "name": "stderr",
     "output_type": "stream",
     "text": [
      " 25%|███████████████████████████████████████████▎                                                                                                                                    | 12.306569343066041/50 [05:19<16:13, 25.82s/it]"
     ]
    },
    {
     "name": "stdout",
     "output_type": "stream",
     "text": [
      "Train Epoch: 163 [1280/3387 (38%)]\tLoss: 0.052817\n",
      "Mem before-during-after: 22748672 518988800 22748672\n"
     ]
    },
    {
     "name": "stderr",
     "output_type": "stream",
     "text": [
      " 25%|████████████████████████████████████████████▎                                                                                                                                   | 12.598540145985762/50 [05:26<16:30, 26.48s/it]"
     ]
    },
    {
     "name": "stdout",
     "output_type": "stream",
     "text": [
      "Train Epoch: 163 [2560/3387 (76%)]\tLoss: 0.033517\n",
      "Mem before-during-after: 22748672 518988800 22748672\n"
     ]
    },
    {
     "name": "stderr",
     "output_type": "stream",
     "text": [
      " 26%|█████████████████████████████████████████████▊                                                                                                                                  | 13.007299270073371/50 [05:37<15:53, 25.78s/it]"
     ]
    },
    {
     "name": "stdout",
     "output_type": "stream",
     "text": [
      "\n",
      "Test Epoch: 163\tAccuracy: 629/1024 (61%)\n",
      "\n",
      "Train Epoch: 164 [0/3387 (0%)]\tLoss: 0.252553\n",
      "Mem before-during-after: 22744576 518464512 22748672\n"
     ]
    },
    {
     "name": "stderr",
     "output_type": "stream",
     "text": [
      " 27%|██████████████████████████████████████████████▊                                                                                                                                 | 13.306569343066085/50 [05:45<16:10, 26.45s/it]"
     ]
    },
    {
     "name": "stdout",
     "output_type": "stream",
     "text": [
      "Train Epoch: 164 [1280/3387 (38%)]\tLoss: 0.032959\n",
      "Mem before-during-after: 22748672 518988800 22748672\n"
     ]
    },
    {
     "name": "stderr",
     "output_type": "stream",
     "text": [
      " 27%|███████████████████████████████████████████████▊                                                                                                                                | 13.598540145985806/50 [05:53<15:50, 26.12s/it]"
     ]
    },
    {
     "name": "stdout",
     "output_type": "stream",
     "text": [
      "Train Epoch: 164 [2560/3387 (76%)]\tLoss: 0.062972\n",
      "Mem before-during-after: 22748672 518988800 22748672\n"
     ]
    },
    {
     "name": "stderr",
     "output_type": "stream",
     "text": [
      " 28%|█████████████████████████████████████████████████▎                                                                                                                              | 14.007299270073416/50 [06:03<15:16, 25.45s/it]"
     ]
    },
    {
     "name": "stdout",
     "output_type": "stream",
     "text": [
      "\n",
      "Test Epoch: 164\tAccuracy: 630/1024 (61%)\n",
      "\n",
      "Train Epoch: 165 [0/3387 (0%)]\tLoss: 0.100161\n",
      "Mem before-during-after: 22744576 518464512 22748672\n"
     ]
    },
    {
     "name": "stderr",
     "output_type": "stream",
     "text": [
      " 29%|██████████████████████████████████████████████████▋                                                                                                                              | 14.30656934306613/50 [06:11<15:41, 26.39s/it]"
     ]
    },
    {
     "name": "stdout",
     "output_type": "stream",
     "text": [
      "Train Epoch: 165 [1280/3387 (38%)]\tLoss: 0.067356\n",
      "Mem before-during-after: 22748672 518988800 22748672\n"
     ]
    },
    {
     "name": "stderr",
     "output_type": "stream",
     "text": [
      " 29%|███████████████████████████████████████████████████▋                                                                                                                             | 14.59854014598585/50 [06:19<15:35, 26.41s/it]"
     ]
    },
    {
     "name": "stdout",
     "output_type": "stream",
     "text": [
      "Train Epoch: 165 [2560/3387 (76%)]\tLoss: 0.123020\n",
      "Mem before-during-after: 22748672 518988800 22748672\n"
     ]
    },
    {
     "name": "stderr",
     "output_type": "stream",
     "text": [
      " 30%|█████████████████████████████████████████████████████▏                                                                                                                           | 15.00729927007346/50 [06:29<14:36, 25.05s/it]"
     ]
    },
    {
     "name": "stdout",
     "output_type": "stream",
     "text": [
      "\n",
      "Test Epoch: 165\tAccuracy: 638/1024 (62%)\n",
      "\n",
      "Train Epoch: 166 [0/3387 (0%)]\tLoss: 0.150920\n",
      "Mem before-during-after: 22744576 518464512 22748672\n"
     ]
    },
    {
     "name": "stderr",
     "output_type": "stream",
     "text": [
      " 31%|█████████████████████████████████████████████████████▉                                                                                                                          | 15.306569343066174/50 [06:37<15:05, 26.09s/it]"
     ]
    },
    {
     "name": "stdout",
     "output_type": "stream",
     "text": [
      "Train Epoch: 166 [1280/3387 (38%)]\tLoss: 0.043483\n",
      "Mem before-during-after: 22748672 518988800 22748672\n"
     ]
    },
    {
     "name": "stderr",
     "output_type": "stream",
     "text": [
      " 31%|██████████████████████████████████████████████████████▉                                                                                                                         | 15.598540145985895/50 [06:45<15:17, 26.66s/it]"
     ]
    },
    {
     "name": "stdout",
     "output_type": "stream",
     "text": [
      "Train Epoch: 166 [2560/3387 (76%)]\tLoss: 0.045405\n",
      "Mem before-during-after: 22748672 518988800 22748672\n"
     ]
    },
    {
     "name": "stderr",
     "output_type": "stream",
     "text": [
      " 32%|████████████████████████████████████████████████████████▎                                                                                                                       | 16.007299270073503/50 [06:55<14:18, 25.25s/it]"
     ]
    },
    {
     "name": "stdout",
     "output_type": "stream",
     "text": [
      "\n",
      "Test Epoch: 166\tAccuracy: 631/1024 (62%)\n",
      "\n",
      "Train Epoch: 167 [0/3387 (0%)]\tLoss: 0.061543\n",
      "Mem before-during-after: 22744576 518464512 22748672\n"
     ]
    },
    {
     "name": "stderr",
     "output_type": "stream",
     "text": [
      " 33%|█████████████████████████████████████████████████████████▍                                                                                                                      | 16.306569343066144/50 [07:03<14:51, 26.45s/it]"
     ]
    },
    {
     "name": "stdout",
     "output_type": "stream",
     "text": [
      "Train Epoch: 167 [1280/3387 (38%)]\tLoss: 0.045858\n",
      "Mem before-during-after: 22748672 518988800 22748672\n"
     ]
    },
    {
     "name": "stderr",
     "output_type": "stream",
     "text": [
      " 33%|██████████████████████████████████████████████████████████▍                                                                                                                     | 16.598540145985794/50 [07:11<14:27, 25.97s/it]"
     ]
    },
    {
     "name": "stdout",
     "output_type": "stream",
     "text": [
      "Train Epoch: 167 [2560/3387 (76%)]\tLoss: 0.133546\n",
      "Mem before-during-after: 22748672 518988800 22748672\n"
     ]
    },
    {
     "name": "stderr",
     "output_type": "stream",
     "text": [
      " 34%|███████████████████████████████████████████████████████████▊                                                                                                                    | 17.007299270073304/50 [07:21<13:40, 24.88s/it]"
     ]
    },
    {
     "name": "stdout",
     "output_type": "stream",
     "text": [
      "\n",
      "Test Epoch: 167\tAccuracy: 635/1024 (62%)\n",
      "\n",
      "Train Epoch: 168 [0/3387 (0%)]\tLoss: 0.084220\n",
      "Mem before-during-after: 22744576 518464512 22748672\n"
     ]
    },
    {
     "name": "stderr",
     "output_type": "stream",
     "text": [
      " 35%|████████████████████████████████████████████████████████████▉                                                                                                                   | 17.306569343065945/50 [07:29<14:22, 26.39s/it]"
     ]
    },
    {
     "name": "stdout",
     "output_type": "stream",
     "text": [
      "Train Epoch: 168 [1280/3387 (38%)]\tLoss: 0.059691\n",
      "Mem before-during-after: 22748672 518988800 22748672\n"
     ]
    },
    {
     "name": "stderr",
     "output_type": "stream",
     "text": [
      " 35%|█████████████████████████████████████████████████████████████▉                                                                                                                  | 17.598540145985595/50 [07:37<14:00, 25.94s/it]"
     ]
    },
    {
     "name": "stdout",
     "output_type": "stream",
     "text": [
      "Train Epoch: 168 [2560/3387 (76%)]\tLoss: 0.058412\n",
      "Mem before-during-after: 22748672 518988800 22748672\n"
     ]
    },
    {
     "name": "stderr",
     "output_type": "stream",
     "text": [
      " 36%|███████████████████████████████████████████████████████████████▍                                                                                                                | 18.007299270073105/50 [07:47<13:32, 25.39s/it]"
     ]
    },
    {
     "name": "stdout",
     "output_type": "stream",
     "text": [
      "\n",
      "Test Epoch: 168\tAccuracy: 620/1024 (60%)\n",
      "\n",
      "Train Epoch: 169 [0/3387 (0%)]\tLoss: 0.100399\n",
      "Mem before-during-after: 22744576 518464512 22748672\n"
     ]
    },
    {
     "name": "stderr",
     "output_type": "stream",
     "text": [
      " 37%|████████████████████████████████████████████████████████████████▍                                                                                                               | 18.306569343065746/50 [07:55<13:56, 26.41s/it]"
     ]
    },
    {
     "name": "stdout",
     "output_type": "stream",
     "text": [
      "Train Epoch: 169 [1280/3387 (38%)]\tLoss: 0.077154\n",
      "Mem before-during-after: 22748672 518988800 22748672\n"
     ]
    },
    {
     "name": "stderr",
     "output_type": "stream",
     "text": [
      " 37%|█████████████████████████████████████████████████████████████████▍                                                                                                              | 18.598540145985396/50 [08:02<13:40, 26.13s/it]"
     ]
    },
    {
     "name": "stdout",
     "output_type": "stream",
     "text": [
      "Train Epoch: 169 [2560/3387 (76%)]\tLoss: 0.078772\n",
      "Mem before-during-after: 22748672 518988800 22748672\n"
     ]
    },
    {
     "name": "stderr",
     "output_type": "stream",
     "text": [
      " 38%|██████████████████████████████████████████████████████████████████▉                                                                                                             | 19.007299270072906/50 [08:13<12:53, 24.95s/it]"
     ]
    },
    {
     "name": "stdout",
     "output_type": "stream",
     "text": [
      "\n",
      "Test Epoch: 169\tAccuracy: 629/1024 (61%)\n",
      "\n",
      "Train Epoch: 170 [0/3387 (0%)]\tLoss: 0.096928\n",
      "Mem before-during-after: 22744576 518464512 22748672\n"
     ]
    },
    {
     "name": "stderr",
     "output_type": "stream",
     "text": [
      " 39%|███████████████████████████████████████████████████████████████████▉                                                                                                            | 19.306569343065547/50 [08:21<13:19, 26.04s/it]"
     ]
    },
    {
     "name": "stdout",
     "output_type": "stream",
     "text": [
      "Train Epoch: 170 [1280/3387 (38%)]\tLoss: 0.065725\n",
      "Mem before-during-after: 22748672 518988800 22748672\n"
     ]
    },
    {
     "name": "stderr",
     "output_type": "stream",
     "text": [
      " 39%|████████████████████████████████████████████████████████████████████▉                                                                                                           | 19.598540145985197/50 [08:28<13:09, 25.98s/it]"
     ]
    },
    {
     "name": "stdout",
     "output_type": "stream",
     "text": [
      "Train Epoch: 170 [2560/3387 (76%)]\tLoss: 0.053167\n",
      "Mem before-during-after: 22748672 518988800 22748672\n"
     ]
    },
    {
     "name": "stderr",
     "output_type": "stream",
     "text": [
      " 40%|██████████████████████████████████████████████████████████████████████▍                                                                                                         | 20.007299270072707/50 [08:39<12:37, 25.27s/it]"
     ]
    },
    {
     "name": "stdout",
     "output_type": "stream",
     "text": [
      "\n",
      "Test Epoch: 170\tAccuracy: 625/1024 (61%)\n",
      "\n",
      "Train Epoch: 171 [0/3387 (0%)]\tLoss: 0.065426\n",
      "Mem before-during-after: 22744576 518464512 22748672\n"
     ]
    },
    {
     "name": "stderr",
     "output_type": "stream",
     "text": [
      " 41%|███████████████████████████████████████████████████████████████████████▍                                                                                                        | 20.306569343065348/50 [08:46<12:59, 26.26s/it]"
     ]
    },
    {
     "name": "stdout",
     "output_type": "stream",
     "text": [
      "Train Epoch: 171 [1280/3387 (38%)]\tLoss: 0.083394\n",
      "Mem before-during-after: 22748672 518988800 22748672\n"
     ]
    },
    {
     "name": "stderr",
     "output_type": "stream",
     "text": [
      " 41%|████████████████████████████████████████████████████████████████████████▌                                                                                                       | 20.598540145984998/50 [08:54<12:46, 26.08s/it]"
     ]
    },
    {
     "name": "stdout",
     "output_type": "stream",
     "text": [
      "Train Epoch: 171 [2560/3387 (76%)]\tLoss: 0.063812\n",
      "Mem before-during-after: 22748672 518988800 22748672\n"
     ]
    },
    {
     "name": "stderr",
     "output_type": "stream",
     "text": [
      " 42%|█████████████████████████████████████████████████████████████████████████▉                                                                                                      | 21.007299270072508/50 [09:04<12:15, 25.35s/it]"
     ]
    },
    {
     "name": "stdout",
     "output_type": "stream",
     "text": [
      "\n",
      "Test Epoch: 171\tAccuracy: 632/1024 (62%)\n",
      "\n",
      "Train Epoch: 172 [0/3387 (0%)]\tLoss: 0.091853\n",
      "Mem before-during-after: 22744576 518464512 22748672\n"
     ]
    },
    {
     "name": "stderr",
     "output_type": "stream",
     "text": [
      " 43%|███████████████████████████████████████████████████████████████████████████▍                                                                                                     | 21.30656934306515/50 [09:12<12:35, 26.32s/it]"
     ]
    },
    {
     "name": "stdout",
     "output_type": "stream",
     "text": [
      "Train Epoch: 172 [1280/3387 (38%)]\tLoss: 0.057402\n",
      "Mem before-during-after: 22748672 518988800 22748672\n"
     ]
    },
    {
     "name": "stderr",
     "output_type": "stream",
     "text": [
      " 43%|████████████████████████████████████████████████████████████████████████████▉                                                                                                     | 21.5985401459848/50 [09:20<12:27, 26.33s/it]"
     ]
    },
    {
     "name": "stdout",
     "output_type": "stream",
     "text": [
      "Train Epoch: 172 [2560/3387 (76%)]\tLoss: 0.078786\n",
      "Mem before-during-after: 22748672 518988800 22748672\n"
     ]
    },
    {
     "name": "stderr",
     "output_type": "stream",
     "text": [
      " 44%|█████████████████████████████████████████████████████████████████████████████▉                                                                                                   | 22.00729927007231/50 [09:31<12:01, 25.78s/it]"
     ]
    },
    {
     "name": "stdout",
     "output_type": "stream",
     "text": [
      "\n",
      "Test Epoch: 172\tAccuracy: 629/1024 (61%)\n",
      "\n",
      "Train Epoch: 173 [0/3387 (0%)]\tLoss: 0.065077\n",
      "Mem before-during-after: 22744576 518464512 22748672\n"
     ]
    },
    {
     "name": "stderr",
     "output_type": "stream",
     "text": [
      " 45%|██████████████████████████████████████████████████████████████████████████████▉                                                                                                  | 22.30656934306495/50 [09:38<12:06, 26.25s/it]"
     ]
    },
    {
     "name": "stdout",
     "output_type": "stream",
     "text": [
      "Train Epoch: 173 [1280/3387 (38%)]\tLoss: 0.066519\n",
      "Mem before-during-after: 22748672 518988800 22748672\n"
     ]
    },
    {
     "name": "stderr",
     "output_type": "stream",
     "text": [
      " 45%|████████████████████████████████████████████████████████████████████████████████▍                                                                                                 | 22.5985401459846/50 [09:46<12:09, 26.64s/it]"
     ]
    },
    {
     "name": "stdout",
     "output_type": "stream",
     "text": [
      "Train Epoch: 173 [2560/3387 (76%)]\tLoss: 0.124849\n",
      "Mem before-during-after: 22748672 518988800 22748672\n"
     ]
    },
    {
     "name": "stderr",
     "output_type": "stream",
     "text": [
      " 46%|█████████████████████████████████████████████████████████████████████████████████▍                                                                                               | 23.00729927007211/50 [09:57<11:33, 25.67s/it]"
     ]
    },
    {
     "name": "stdout",
     "output_type": "stream",
     "text": [
      "\n",
      "Test Epoch: 173\tAccuracy: 629/1024 (61%)\n",
      "\n",
      "Train Epoch: 174 [0/3387 (0%)]\tLoss: 0.104066\n",
      "Mem before-during-after: 22744576 518464512 22748672\n"
     ]
    },
    {
     "name": "stderr",
     "output_type": "stream",
     "text": [
      " 47%|██████████████████████████████████████████████████████████████████████████████████▌                                                                                              | 23.30656934306475/50 [10:05<11:42, 26.32s/it]"
     ]
    },
    {
     "name": "stdout",
     "output_type": "stream",
     "text": [
      "Train Epoch: 174 [1280/3387 (38%)]\tLoss: 0.074399\n",
      "Mem before-during-after: 22748672 518988800 22748672\n"
     ]
    },
    {
     "name": "stderr",
     "output_type": "stream",
     "text": [
      " 47%|████████████████████████████████████████████████████████████████████████████████████                                                                                              | 23.5985401459844/50 [10:12<11:25, 25.98s/it]"
     ]
    },
    {
     "name": "stdout",
     "output_type": "stream",
     "text": [
      "Train Epoch: 174 [2560/3387 (76%)]\tLoss: 0.049098\n",
      "Mem before-during-after: 22748672 518988800 22748672\n"
     ]
    },
    {
     "name": "stderr",
     "output_type": "stream",
     "text": [
      " 48%|████████████████████████████████████████████████████████████████████████████████████▉                                                                                            | 24.00729927007191/50 [10:23<10:48, 24.94s/it]"
     ]
    },
    {
     "name": "stdout",
     "output_type": "stream",
     "text": [
      "\n",
      "Test Epoch: 174\tAccuracy: 629/1024 (61%)\n",
      "\n",
      "Train Epoch: 175 [0/3387 (0%)]\tLoss: 0.089831\n",
      "Mem before-during-after: 22744576 518464512 22748672\n"
     ]
    },
    {
     "name": "stderr",
     "output_type": "stream",
     "text": [
      " 49%|█████████████████████████████████████████████████████████████████████████████████████▌                                                                                          | 24.306569343064552/50 [10:31<11:16, 26.33s/it]"
     ]
    },
    {
     "name": "stdout",
     "output_type": "stream",
     "text": [
      "Train Epoch: 175 [1280/3387 (38%)]\tLoss: 0.114014\n",
      "Mem before-during-after: 22748672 518988800 22748672\n"
     ]
    },
    {
     "name": "stderr",
     "output_type": "stream",
     "text": [
      " 49%|██████████████████████████████████████████████████████████████████████████████████████▌                                                                                         | 24.598540145984202/50 [10:38<11:01, 26.03s/it]"
     ]
    },
    {
     "name": "stdout",
     "output_type": "stream",
     "text": [
      "Train Epoch: 175 [2560/3387 (76%)]\tLoss: 0.061854\n",
      "Mem before-during-after: 22748672 518988800 22748672\n"
     ]
    },
    {
     "name": "stderr",
     "output_type": "stream",
     "text": [
      " 50%|████████████████████████████████████████████████████████████████████████████████████████                                                                                        | 25.007299270071712/50 [10:48<10:27, 25.10s/it]"
     ]
    },
    {
     "name": "stdout",
     "output_type": "stream",
     "text": [
      "\n",
      "Test Epoch: 175\tAccuracy: 630/1024 (61%)\n",
      "\n",
      "Train Epoch: 176 [0/3387 (0%)]\tLoss: 0.071782\n",
      "Mem before-during-after: 22744576 518464512 22748672\n"
     ]
    },
    {
     "name": "stderr",
     "output_type": "stream",
     "text": [
      " 51%|█████████████████████████████████████████████████████████████████████████████████████████                                                                                       | 25.306569343064353/50 [10:56<10:39, 25.90s/it]"
     ]
    },
    {
     "name": "stdout",
     "output_type": "stream",
     "text": [
      "Train Epoch: 176 [1280/3387 (38%)]\tLoss: 0.083590\n",
      "Mem before-during-after: 22748672 518988800 22748672\n"
     ]
    },
    {
     "name": "stderr",
     "output_type": "stream",
     "text": [
      " 51%|██████████████████████████████████████████████████████████████████████████████████████████                                                                                      | 25.598540145984003/50 [11:04<10:29, 25.81s/it]"
     ]
    },
    {
     "name": "stdout",
     "output_type": "stream",
     "text": [
      "Train Epoch: 176 [2560/3387 (76%)]\tLoss: 0.023336\n",
      "Mem before-during-after: 22748672 518988800 22748672\n"
     ]
    },
    {
     "name": "stderr",
     "output_type": "stream",
     "text": [
      " 52%|███████████████████████████████████████████████████████████████████████████████████████████▌                                                                                    | 26.007299270071513/50 [11:14<09:56, 24.84s/it]"
     ]
    },
    {
     "name": "stdout",
     "output_type": "stream",
     "text": [
      "\n",
      "Test Epoch: 176\tAccuracy: 632/1024 (62%)\n",
      "\n",
      "Train Epoch: 177 [0/3387 (0%)]\tLoss: 0.027571\n",
      "Mem before-during-after: 22744576 518464512 22748672\n"
     ]
    },
    {
     "name": "stderr",
     "output_type": "stream",
     "text": [
      " 53%|████████████████████████████████████████████████████████████████████████████████████████████▌                                                                                   | 26.306569343064155/50 [11:22<10:19, 26.16s/it]"
     ]
    },
    {
     "name": "stdout",
     "output_type": "stream",
     "text": [
      "Train Epoch: 177 [1280/3387 (38%)]\tLoss: 0.032625\n",
      "Mem before-during-after: 22748672 518988800 22748672\n"
     ]
    },
    {
     "name": "stderr",
     "output_type": "stream",
     "text": [
      " 53%|█████████████████████████████████████████████████████████████████████████████████████████████▋                                                                                  | 26.598540145983804/50 [11:30<10:05, 25.87s/it]"
     ]
    },
    {
     "name": "stdout",
     "output_type": "stream",
     "text": [
      "Train Epoch: 177 [2560/3387 (76%)]\tLoss: 0.057487\n",
      "Mem before-during-after: 22748672 518988800 22748672\n"
     ]
    },
    {
     "name": "stderr",
     "output_type": "stream",
     "text": [
      " 54%|███████████████████████████████████████████████████████████████████████████████████████████████                                                                                 | 27.007299270071314/50 [11:40<09:30, 24.81s/it]"
     ]
    },
    {
     "name": "stdout",
     "output_type": "stream",
     "text": [
      "\n",
      "Test Epoch: 177\tAccuracy: 634/1024 (62%)\n",
      "\n",
      "Train Epoch: 178 [0/3387 (0%)]\tLoss: 0.040286\n",
      "Mem before-during-after: 22744576 518464512 22748672\n"
     ]
    },
    {
     "name": "stderr",
     "output_type": "stream",
     "text": [
      " 55%|████████████████████████████████████████████████████████████████████████████████████████████████                                                                                | 27.306569343063956/50 [11:48<10:03, 26.58s/it]"
     ]
    },
    {
     "name": "stdout",
     "output_type": "stream",
     "text": [
      "Train Epoch: 178 [1280/3387 (38%)]\tLoss: 0.144521\n",
      "Mem before-during-after: 22748672 518988800 22748672\n"
     ]
    },
    {
     "name": "stderr",
     "output_type": "stream",
     "text": [
      " 55%|█████████████████████████████████████████████████████████████████████████████████████████████████▏                                                                              | 27.598540145983605/50 [11:56<09:39, 25.85s/it]"
     ]
    },
    {
     "name": "stdout",
     "output_type": "stream",
     "text": [
      "Train Epoch: 178 [2560/3387 (76%)]\tLoss: 0.062460\n",
      "Mem before-during-after: 22748672 518988800 22748672\n"
     ]
    },
    {
     "name": "stderr",
     "output_type": "stream",
     "text": [
      " 56%|██████████████████████████████████████████████████████████████████████████████████████████████████▌                                                                             | 28.007299270071115/50 [12:06<09:10, 25.03s/it]"
     ]
    },
    {
     "name": "stdout",
     "output_type": "stream",
     "text": [
      "\n",
      "Test Epoch: 178\tAccuracy: 623/1024 (61%)\n",
      "\n",
      "Train Epoch: 179 [0/3387 (0%)]\tLoss: 0.099338\n",
      "Mem before-during-after: 22744576 518464512 22748672\n"
     ]
    },
    {
     "name": "stderr",
     "output_type": "stream",
     "text": [
      " 57%|███████████████████████████████████████████████████████████████████████████████████████████████████▋                                                                            | 28.306569343063757/50 [12:14<09:21, 25.88s/it]"
     ]
    },
    {
     "name": "stdout",
     "output_type": "stream",
     "text": [
      "Train Epoch: 179 [1280/3387 (38%)]\tLoss: 0.077348\n",
      "Mem before-during-after: 22748672 518988800 22748672\n"
     ]
    },
    {
     "name": "stderr",
     "output_type": "stream",
     "text": [
      " 57%|████████████████████████████████████████████████████████████████████████████████████████████████████▋                                                                           | 28.598540145983407/50 [12:21<09:13, 25.84s/it]"
     ]
    },
    {
     "name": "stdout",
     "output_type": "stream",
     "text": [
      "Train Epoch: 179 [2560/3387 (76%)]\tLoss: 0.051023\n",
      "Mem before-during-after: 22748672 518988800 22748672\n"
     ]
    },
    {
     "name": "stderr",
     "output_type": "stream",
     "text": [
      " 58%|██████████████████████████████████████████████████████████████████████████████████████████████████████                                                                          | 29.007299270070916/50 [12:32<08:38, 24.70s/it]"
     ]
    },
    {
     "name": "stdout",
     "output_type": "stream",
     "text": [
      "\n",
      "Test Epoch: 179\tAccuracy: 636/1024 (62%)\n",
      "\n",
      "Train Epoch: 180 [0/3387 (0%)]\tLoss: 0.059708\n",
      "Mem before-during-after: 22744576 518464512 22748672\n"
     ]
    },
    {
     "name": "stderr",
     "output_type": "stream",
     "text": [
      " 59%|███████████████████████████████████████████████████████████████████████████████████████████████████████▏                                                                        | 29.306569343063558/50 [12:39<08:56, 25.92s/it]"
     ]
    },
    {
     "name": "stdout",
     "output_type": "stream",
     "text": [
      "Train Epoch: 180 [1280/3387 (38%)]\tLoss: 0.067600\n",
      "Mem before-during-after: 22748672 518988800 22748672\n"
     ]
    },
    {
     "name": "stderr",
     "output_type": "stream",
     "text": [
      " 59%|████████████████████████████████████████████████████████████████████████████████████████████████████████▏                                                                       | 29.598540145983208/50 [12:47<08:51, 26.06s/it]"
     ]
    },
    {
     "name": "stdout",
     "output_type": "stream",
     "text": [
      "Train Epoch: 180 [2560/3387 (76%)]\tLoss: 0.083712\n",
      "Mem before-during-after: 22748672 518988800 22748672\n"
     ]
    },
    {
     "name": "stderr",
     "output_type": "stream",
     "text": [
      " 60%|█████████████████████████████████████████████████████████████████████████████████████████████████████████▋                                                                      | 30.007299270070718/50 [12:57<08:19, 24.98s/it]"
     ]
    },
    {
     "name": "stdout",
     "output_type": "stream",
     "text": [
      "\n",
      "Test Epoch: 180\tAccuracy: 639/1024 (62%)\n",
      "\n",
      "Train Epoch: 181 [0/3387 (0%)]\tLoss: 0.056454\n",
      "Mem before-during-after: 22744576 518464512 22748672\n"
     ]
    },
    {
     "name": "stderr",
     "output_type": "stream",
     "text": [
      " 61%|███████████████████████████████████████████████████████████████████████████████████████████████████████████▎                                                                     | 30.30656934306336/50 [13:05<08:28, 25.83s/it]"
     ]
    },
    {
     "name": "stdout",
     "output_type": "stream",
     "text": [
      "Train Epoch: 181 [1280/3387 (38%)]\tLoss: 0.111098\n",
      "Mem before-during-after: 22748672 518988800 22748672\n"
     ]
    },
    {
     "name": "stderr",
     "output_type": "stream",
     "text": [
      " 61%|████████████████████████████████████████████████████████████████████████████████████████████████████████████▎                                                                    | 30.59854014598301/50 [13:13<08:22, 25.93s/it]"
     ]
    },
    {
     "name": "stdout",
     "output_type": "stream",
     "text": [
      "Train Epoch: 181 [2560/3387 (76%)]\tLoss: 0.073307\n",
      "Mem before-during-after: 22748672 518988800 22748672\n"
     ]
    },
    {
     "name": "stderr",
     "output_type": "stream",
     "text": [
      " 62%|█████████████████████████████████████████████████████████████████████████████████████████████████████████████▊                                                                   | 31.00729927007052/50 [13:23<07:58, 25.20s/it]"
     ]
    },
    {
     "name": "stdout",
     "output_type": "stream",
     "text": [
      "\n",
      "Test Epoch: 181\tAccuracy: 634/1024 (62%)\n",
      "\n",
      "Train Epoch: 182 [0/3387 (0%)]\tLoss: 0.035347\n",
      "Mem before-during-after: 22744576 518464512 22748672\n"
     ]
    },
    {
     "name": "stderr",
     "output_type": "stream",
     "text": [
      " 63%|██████████████████████████████████████████████████████████████████████████████████████████████████████████████▊                                                                  | 31.30656934306316/50 [13:31<08:04, 25.93s/it]"
     ]
    },
    {
     "name": "stdout",
     "output_type": "stream",
     "text": [
      "Train Epoch: 182 [1280/3387 (38%)]\tLoss: 0.024926\n",
      "Mem before-during-after: 22748672 518988800 22748672\n"
     ]
    },
    {
     "name": "stderr",
     "output_type": "stream",
     "text": [
      " 63%|███████████████████████████████████████████████████████████████████████████████████████████████████████████████▊                                                                 | 31.59854014598281/50 [13:38<07:58, 25.99s/it]"
     ]
    },
    {
     "name": "stdout",
     "output_type": "stream",
     "text": [
      "Train Epoch: 182 [2560/3387 (76%)]\tLoss: 0.127104\n",
      "Mem before-during-after: 22748672 518988800 22748672\n"
     ]
    },
    {
     "name": "stderr",
     "output_type": "stream",
     "text": [
      " 64%|█████████████████████████████████████████████████████████████████████████████████████████████████████████████████▎                                                               | 32.00729927007032/50 [13:48<07:30, 25.01s/it]"
     ]
    },
    {
     "name": "stdout",
     "output_type": "stream",
     "text": [
      "\n",
      "Test Epoch: 182\tAccuracy: 615/1024 (60%)\n",
      "\n",
      "Train Epoch: 183 [0/3387 (0%)]\tLoss: 0.061255\n",
      "Mem before-during-after: 22744576 518464512 22748672\n"
     ]
    },
    {
     "name": "stderr",
     "output_type": "stream",
     "text": [
      " 65%|██████████████████████████████████████████████████████████████████████████████████████████████████████████████████▎                                                              | 32.30656934306296/50 [13:56<07:40, 26.02s/it]"
     ]
    },
    {
     "name": "stdout",
     "output_type": "stream",
     "text": [
      "Train Epoch: 183 [1280/3387 (38%)]\tLoss: 0.115331\n",
      "Mem before-during-after: 22748672 518988800 22748672\n"
     ]
    },
    {
     "name": "stderr",
     "output_type": "stream",
     "text": [
      " 65%|███████████████████████████████████████████████████████████████████████████████████████████████████████████████████▍                                                             | 32.59854014598261/50 [14:04<07:31, 25.96s/it]"
     ]
    },
    {
     "name": "stdout",
     "output_type": "stream",
     "text": [
      "Train Epoch: 183 [2560/3387 (76%)]\tLoss: 0.074242\n",
      "Mem before-during-after: 22748672 518988800 22748672\n"
     ]
    },
    {
     "name": "stderr",
     "output_type": "stream",
     "text": [
      " 66%|████████████████████████████████████████████████████████████████████████████████████████████████████████████████████▊                                                            | 33.00729927007012/50 [14:14<07:03, 24.94s/it]"
     ]
    },
    {
     "name": "stdout",
     "output_type": "stream",
     "text": [
      "\n",
      "Test Epoch: 183\tAccuracy: 632/1024 (62%)\n",
      "\n",
      "Train Epoch: 184 [0/3387 (0%)]\tLoss: 0.030009\n",
      "Mem before-during-after: 22744576 518464512 22748672\n"
     ]
    },
    {
     "name": "stderr",
     "output_type": "stream",
     "text": [
      " 67%|█████████████████████████████████████████████████████████████████████████████████████████████████████████████████████▉                                                           | 33.30656934306276/50 [14:22<07:18, 26.25s/it]"
     ]
    },
    {
     "name": "stdout",
     "output_type": "stream",
     "text": [
      "Train Epoch: 184 [1280/3387 (38%)]\tLoss: 0.030142\n",
      "Mem before-during-after: 22748672 518988800 22748672\n"
     ]
    },
    {
     "name": "stderr",
     "output_type": "stream",
     "text": [
      " 67%|██████████████████████████████████████████████████████████████████████████████████████████████████████████████████████▉                                                          | 33.59854014598241/50 [14:30<07:14, 26.47s/it]"
     ]
    },
    {
     "name": "stdout",
     "output_type": "stream",
     "text": [
      "Train Epoch: 184 [2560/3387 (76%)]\tLoss: 0.069231\n",
      "Mem before-during-after: 22748672 518988800 22748672\n"
     ]
    },
    {
     "name": "stderr",
     "output_type": "stream",
     "text": [
      " 68%|████████████████████████████████████████████████████████████████████████████████████████████████████████████████████████▍                                                        | 34.00729927006992/50 [14:40<06:42, 25.15s/it]"
     ]
    },
    {
     "name": "stdout",
     "output_type": "stream",
     "text": [
      "\n",
      "Test Epoch: 184\tAccuracy: 629/1024 (61%)\n",
      "\n",
      "Train Epoch: 185 [0/3387 (0%)]\tLoss: 0.031156\n",
      "Mem before-during-after: 22744576 518464512 22748672\n"
     ]
    },
    {
     "name": "stderr",
     "output_type": "stream",
     "text": [
      " 69%|█████████████████████████████████████████████████████████████████████████████████████████████████████████████████████████▍                                                       | 34.30656934306256/50 [14:48<06:52, 26.30s/it]"
     ]
    },
    {
     "name": "stdout",
     "output_type": "stream",
     "text": [
      "Train Epoch: 185 [1280/3387 (38%)]\tLoss: 0.167410\n",
      "Mem before-during-after: 22748672 518988800 22748672\n"
     ]
    },
    {
     "name": "stderr",
     "output_type": "stream",
     "text": [
      " 69%|██████████████████████████████████████████████████████████████████████████████████████████████████████████████████████████▍                                                      | 34.59854014598221/50 [14:56<06:44, 26.25s/it]"
     ]
    },
    {
     "name": "stdout",
     "output_type": "stream",
     "text": [
      "Train Epoch: 185 [2560/3387 (76%)]\tLoss: 0.052345\n",
      "Mem before-during-after: 22748672 518988800 22748672\n"
     ]
    },
    {
     "name": "stderr",
     "output_type": "stream",
     "text": [
      " 70%|███████████████████████████████████████████████████████████████████████████████████████████████████████████████████████████▉                                                     | 35.00729927006972/50 [15:06<06:17, 25.21s/it]"
     ]
    },
    {
     "name": "stdout",
     "output_type": "stream",
     "text": [
      "\n",
      "Test Epoch: 185\tAccuracy: 628/1024 (61%)\n",
      "\n",
      "Train Epoch: 186 [0/3387 (0%)]\tLoss: 0.037835\n",
      "Mem before-during-after: 22744576 518464512 22748672\n"
     ]
    },
    {
     "name": "stderr",
     "output_type": "stream",
     "text": [
      " 71%|████████████████████████████████████████████████████████████████████████████████████████████████████████████████████████████▎                                                   | 35.306569343062364/50 [15:14<06:21, 25.99s/it]"
     ]
    },
    {
     "name": "stdout",
     "output_type": "stream",
     "text": [
      "Train Epoch: 186 [1280/3387 (38%)]\tLoss: 0.086418\n",
      "Mem before-during-after: 22748672 518988800 22748672\n"
     ]
    },
    {
     "name": "stderr",
     "output_type": "stream",
     "text": [
      " 71%|█████████████████████████████████████████████████████████████████████████████████████████████████████████████████████████████▎                                                  | 35.598540145982014/50 [15:22<06:13, 25.94s/it]"
     ]
    },
    {
     "name": "stdout",
     "output_type": "stream",
     "text": [
      "Train Epoch: 186 [2560/3387 (76%)]\tLoss: 0.073599\n",
      "Mem before-during-after: 22748672 518988800 22748672\n"
     ]
    },
    {
     "name": "stderr",
     "output_type": "stream",
     "text": [
      " 72%|██████████████████████████████████████████████████████████████████████████████████████████████████████████████████████████████▋                                                 | 36.007299270069524/50 [15:32<05:49, 25.00s/it]"
     ]
    },
    {
     "name": "stdout",
     "output_type": "stream",
     "text": [
      "\n",
      "Test Epoch: 186\tAccuracy: 642/1024 (63%)\n",
      "\n",
      "Train Epoch: 187 [0/3387 (0%)]\tLoss: 0.052041\n",
      "Mem before-during-after: 22744576 518464512 22748672\n"
     ]
    },
    {
     "name": "stderr",
     "output_type": "stream",
     "text": [
      " 73%|███████████████████████████████████████████████████████████████████████████████████████████████████████████████████████████████▊                                                | 36.306569343062165/50 [15:40<05:53, 25.78s/it]"
     ]
    },
    {
     "name": "stdout",
     "output_type": "stream",
     "text": [
      "Train Epoch: 187 [1280/3387 (38%)]\tLoss: 0.138727\n",
      "Mem before-during-after: 22748672 518988800 22748672\n"
     ]
    },
    {
     "name": "stderr",
     "output_type": "stream",
     "text": [
      " 73%|████████████████████████████████████████████████████████████████████████████████████████████████████████████████████████████████▊                                               | 36.598540145981815/50 [15:47<05:51, 26.22s/it]"
     ]
    },
    {
     "name": "stdout",
     "output_type": "stream",
     "text": [
      "Train Epoch: 187 [2560/3387 (76%)]\tLoss: 0.089057\n",
      "Mem before-during-after: 22748672 518988800 22748672\n"
     ]
    },
    {
     "name": "stderr",
     "output_type": "stream",
     "text": [
      " 74%|██████████████████████████████████████████████████████████████████████████████████████████████████████████████████████████████████▎                                             | 37.007299270069325/50 [15:58<05:23, 24.92s/it]"
     ]
    },
    {
     "name": "stdout",
     "output_type": "stream",
     "text": [
      "\n",
      "Test Epoch: 187\tAccuracy: 618/1024 (60%)\n",
      "\n",
      "Train Epoch: 188 [0/3387 (0%)]\tLoss: 0.050165\n",
      "Mem before-during-after: 22744576 518464512 22748672\n"
     ]
    },
    {
     "name": "stderr",
     "output_type": "stream",
     "text": [
      " 75%|███████████████████████████████████████████████████████████████████████████████████████████████████████████████████████████████████▎                                            | 37.306569343061966/50 [16:05<05:28, 25.90s/it]"
     ]
    },
    {
     "name": "stdout",
     "output_type": "stream",
     "text": [
      "Train Epoch: 188 [1280/3387 (38%)]\tLoss: 0.083414\n",
      "Mem before-during-after: 22748672 518988800 22748672\n"
     ]
    },
    {
     "name": "stderr",
     "output_type": "stream",
     "text": [
      " 75%|████████████████████████████████████████████████████████████████████████████████████████████████████████████████████████████████████▎                                           | 37.598540145981616/50 [16:13<05:22, 26.02s/it]"
     ]
    },
    {
     "name": "stdout",
     "output_type": "stream",
     "text": [
      "Train Epoch: 188 [2560/3387 (76%)]\tLoss: 0.121813\n",
      "Mem before-during-after: 22748672 518988800 22748672\n"
     ]
    },
    {
     "name": "stderr",
     "output_type": "stream",
     "text": [
      " 76%|█████████████████████████████████████████████████████████████████████████████████████████████████████████████████████████████████████▊                                          | 38.007299270069126/50 [16:23<04:58, 24.89s/it]"
     ]
    },
    {
     "name": "stdout",
     "output_type": "stream",
     "text": [
      "\n",
      "Test Epoch: 188\tAccuracy: 644/1024 (63%)\n",
      "\n",
      "Train Epoch: 189 [0/3387 (0%)]\tLoss: 0.010990\n",
      "Mem before-during-after: 22744576 518464512 22748672\n"
     ]
    },
    {
     "name": "stderr",
     "output_type": "stream",
     "text": [
      " 77%|███████████████████████████████████████████████████████████████████████████████████████████████████████████████████████████████████████▌                                         | 38.30656934306177/50 [16:31<05:08, 26.39s/it]"
     ]
    },
    {
     "name": "stdout",
     "output_type": "stream",
     "text": [
      "Train Epoch: 189 [1280/3387 (38%)]\tLoss: 0.019429\n",
      "Mem before-during-after: 22748672 518988800 22748672\n"
     ]
    },
    {
     "name": "stderr",
     "output_type": "stream",
     "text": [
      " 77%|████████████████████████████████████████████████████████████████████████████████████████████████████████████████████████████████████████▋                                        | 38.59854014598142/50 [16:39<04:55, 25.92s/it]"
     ]
    },
    {
     "name": "stdout",
     "output_type": "stream",
     "text": [
      "Train Epoch: 189 [2560/3387 (76%)]\tLoss: 0.143131\n",
      "Mem before-during-after: 22748672 518988800 22748672\n"
     ]
    },
    {
     "name": "stderr",
     "output_type": "stream",
     "text": [
      " 78%|██████████████████████████████████████████████████████████████████████████████████████████████████████████████████████████████████████████                                       | 39.00729927006893/50 [16:49<04:34, 24.94s/it]"
     ]
    },
    {
     "name": "stdout",
     "output_type": "stream",
     "text": [
      "\n",
      "Test Epoch: 189\tAccuracy: 640/1024 (62%)\n",
      "\n",
      "Train Epoch: 190 [0/3387 (0%)]\tLoss: 0.084976\n",
      "Mem before-during-after: 22744576 518464512 22748672\n"
     ]
    },
    {
     "name": "stderr",
     "output_type": "stream",
     "text": [
      " 79%|███████████████████████████████████████████████████████████████████████████████████████████████████████████████████████████████████████████▏                                     | 39.30656934306157/50 [16:57<04:39, 26.13s/it]"
     ]
    },
    {
     "name": "stdout",
     "output_type": "stream",
     "text": [
      "Train Epoch: 190 [1280/3387 (38%)]\tLoss: 0.066495\n",
      "Mem before-during-after: 22748672 518988800 22748672\n"
     ]
    },
    {
     "name": "stderr",
     "output_type": "stream",
     "text": [
      " 79%|████████████████████████████████████████████████████████████████████████████████████████████████████████████████████████████████████████████▏                                    | 39.59854014598122/50 [17:05<04:32, 26.23s/it]"
     ]
    },
    {
     "name": "stdout",
     "output_type": "stream",
     "text": [
      "Train Epoch: 190 [2560/3387 (76%)]\tLoss: 0.170609\n",
      "Mem before-during-after: 22748672 518988800 22748672\n"
     ]
    },
    {
     "name": "stderr",
     "output_type": "stream",
     "text": [
      " 80%|█████████████████████████████████████████████████████████████████████████████████████████████████████████████████████████████████████████████▋                                   | 40.00729927006873/50 [17:15<04:11, 25.17s/it]"
     ]
    },
    {
     "name": "stdout",
     "output_type": "stream",
     "text": [
      "\n",
      "Test Epoch: 190\tAccuracy: 618/1024 (60%)\n",
      "\n",
      "Train Epoch: 191 [0/3387 (0%)]\tLoss: 0.102144\n",
      "Mem before-during-after: 22744576 518464512 22748672\n"
     ]
    },
    {
     "name": "stderr",
     "output_type": "stream",
     "text": [
      " 81%|██████████████████████████████████████████████████████████████████████████████████████████████████████████████████████████████████████████████▋                                  | 40.30656934306137/50 [17:23<04:14, 26.29s/it]"
     ]
    },
    {
     "name": "stdout",
     "output_type": "stream",
     "text": [
      "Train Epoch: 191 [1280/3387 (38%)]\tLoss: 0.059662\n",
      "Mem before-during-after: 22748672 518988800 22748672\n"
     ]
    },
    {
     "name": "stderr",
     "output_type": "stream",
     "text": [
      " 81%|███████████████████████████████████████████████████████████████████████████████████████████████████████████████████████████████████████████████▋                                 | 40.59854014598102/50 [17:31<04:05, 26.10s/it]"
     ]
    },
    {
     "name": "stdout",
     "output_type": "stream",
     "text": [
      "Train Epoch: 191 [2560/3387 (76%)]\tLoss: 0.128702\n",
      "Mem before-during-after: 22748672 518988800 22748672\n"
     ]
    },
    {
     "name": "stderr",
     "output_type": "stream",
     "text": [
      " 82%|█████████████████████████████████████████████████████████████████████████████████████████████████████████████████████████████████████████████████▏                               | 41.00729927006853/50 [17:41<03:42, 24.80s/it]"
     ]
    },
    {
     "name": "stdout",
     "output_type": "stream",
     "text": [
      "\n",
      "Test Epoch: 191\tAccuracy: 623/1024 (61%)\n",
      "\n",
      "Train Epoch: 192 [0/3387 (0%)]\tLoss: 0.055094\n",
      "Mem before-during-after: 22744576 518464512 22748672\n"
     ]
    },
    {
     "name": "stderr",
     "output_type": "stream",
     "text": [
      " 83%|██████████████████████████████████████████████████████████████████████████████████████████████████████████████████████████████████████████████████▏                              | 41.30656934306117/50 [17:49<03:46, 26.01s/it]"
     ]
    },
    {
     "name": "stdout",
     "output_type": "stream",
     "text": [
      "Train Epoch: 192 [1280/3387 (38%)]\tLoss: 0.069222\n",
      "Mem before-during-after: 22748672 518988800 22748672\n"
     ]
    },
    {
     "name": "stderr",
     "output_type": "stream",
     "text": [
      " 83%|███████████████████████████████████████████████████████████████████████████████████████████████████████████████████████████████████████████████████▎                             | 41.59854014598082/50 [17:56<03:40, 26.23s/it]"
     ]
    },
    {
     "name": "stdout",
     "output_type": "stream",
     "text": [
      "Train Epoch: 192 [2560/3387 (76%)]\tLoss: 0.076010\n",
      "Mem before-during-after: 22748672 518988800 22748672\n"
     ]
    },
    {
     "name": "stderr",
     "output_type": "stream",
     "text": [
      " 84%|████████████████████████████████████████████████████████████████████████████████████████████████████████████████████████████████████████████████████▋                            | 42.00729927006833/50 [18:07<03:22, 25.32s/it]"
     ]
    },
    {
     "name": "stdout",
     "output_type": "stream",
     "text": [
      "\n",
      "Test Epoch: 192\tAccuracy: 633/1024 (62%)\n",
      "\n",
      "Train Epoch: 193 [0/3387 (0%)]\tLoss: 0.036046\n",
      "Mem before-during-after: 22744576 518464512 22748672\n"
     ]
    },
    {
     "name": "stderr",
     "output_type": "stream",
     "text": [
      " 85%|█████████████████████████████████████████████████████████████████████████████████████████████████████████████████████████████████████████████████████▊                           | 42.30656934306097/50 [18:15<03:22, 26.30s/it]"
     ]
    },
    {
     "name": "stdout",
     "output_type": "stream",
     "text": [
      "Train Epoch: 193 [1280/3387 (38%)]\tLoss: 0.021278\n",
      "Mem before-during-after: 22748672 518988800 22748672\n"
     ]
    },
    {
     "name": "stderr",
     "output_type": "stream",
     "text": [
      " 85%|██████████████████████████████████████████████████████████████████████████████████████████████████████████████████████████████████████████████████████▊                          | 42.59854014598062/50 [18:22<03:14, 26.26s/it]"
     ]
    },
    {
     "name": "stdout",
     "output_type": "stream",
     "text": [
      "Train Epoch: 193 [2560/3387 (76%)]\tLoss: 0.027746\n",
      "Mem before-during-after: 22748672 518988800 22748672\n"
     ]
    },
    {
     "name": "stderr",
     "output_type": "stream",
     "text": [
      " 86%|████████████████████████████████████████████████████████████████████████████████████████████████████████████████████████████████████████████████████████▏                        | 43.00729927006813/50 [18:33<02:56, 25.28s/it]"
     ]
    },
    {
     "name": "stdout",
     "output_type": "stream",
     "text": [
      "\n",
      "Test Epoch: 193\tAccuracy: 626/1024 (61%)\n",
      "\n",
      "Train Epoch: 194 [0/3387 (0%)]\tLoss: 0.067002\n",
      "Mem before-during-after: 22744576 518464512 22748672\n"
     ]
    },
    {
     "name": "stderr",
     "output_type": "stream",
     "text": [
      " 87%|█████████████████████████████████████████████████████████████████████████████████████████████████████████████████████████████████████████████████████████▎                       | 43.30656934306077/50 [18:41<02:55, 26.26s/it]"
     ]
    },
    {
     "name": "stdout",
     "output_type": "stream",
     "text": [
      "Train Epoch: 194 [1280/3387 (38%)]\tLoss: 0.094691\n",
      "Mem before-during-after: 22748672 518988800 22748672\n"
     ]
    },
    {
     "name": "stderr",
     "output_type": "stream",
     "text": [
      " 87%|██████████████████████████████████████████████████████████████████████████████████████████████████████████████████████████████████████████████████████████▎                      | 43.59854014598042/50 [18:48<02:48, 26.29s/it]"
     ]
    },
    {
     "name": "stdout",
     "output_type": "stream",
     "text": [
      "Train Epoch: 194 [2560/3387 (76%)]\tLoss: 0.061646\n",
      "Mem before-during-after: 22748672 518988800 22748672\n"
     ]
    },
    {
     "name": "stderr",
     "output_type": "stream",
     "text": [
      " 88%|███████████████████████████████████████████████████████████████████████████████████████████████████████████████████████████████████████████████████████████▊                     | 44.00729927006793/50 [18:59<02:31, 25.30s/it]"
     ]
    },
    {
     "name": "stdout",
     "output_type": "stream",
     "text": [
      "\n",
      "Test Epoch: 194\tAccuracy: 642/1024 (63%)\n",
      "\n",
      "Train Epoch: 195 [0/3387 (0%)]\tLoss: 0.056257\n",
      "Mem before-during-after: 22744576 518464512 22748672\n"
     ]
    },
    {
     "name": "stderr",
     "output_type": "stream",
     "text": [
      " 89%|████████████████████████████████████████████████████████████████████████████████████████████████████████████████████████████████████████████████████████████▊                    | 44.30656934306057/50 [19:07<02:29, 26.34s/it]"
     ]
    },
    {
     "name": "stdout",
     "output_type": "stream",
     "text": [
      "Train Epoch: 195 [1280/3387 (38%)]\tLoss: 0.175840\n",
      "Mem before-during-after: 22748672 518988800 22748672\n"
     ]
    },
    {
     "name": "stderr",
     "output_type": "stream",
     "text": [
      " 89%|█████████████████████████████████████████████████████████████████████████████████████████████████████████████████████████████████████████████████████████████▉                   | 44.59854014598022/50 [19:14<02:20, 25.94s/it]"
     ]
    },
    {
     "name": "stdout",
     "output_type": "stream",
     "text": [
      "Train Epoch: 195 [2560/3387 (76%)]\tLoss: 0.057612\n",
      "Mem before-during-after: 22748672 518988800 22748672\n"
     ]
    },
    {
     "name": "stderr",
     "output_type": "stream",
     "text": [
      " 90%|███████████████████████████████████████████████████████████████████████████████████████████████████████████████████████████████████████████████████████████████▎                 | 45.00729927006773/50 [19:25<02:07, 25.46s/it]"
     ]
    },
    {
     "name": "stdout",
     "output_type": "stream",
     "text": [
      "\n",
      "Test Epoch: 195\tAccuracy: 636/1024 (62%)\n",
      "\n",
      "Train Epoch: 196 [0/3387 (0%)]\tLoss: 0.088135\n",
      "Mem before-during-after: 22744576 518464512 22748672\n"
     ]
    },
    {
     "name": "stderr",
     "output_type": "stream",
     "text": [
      " 91%|███████████████████████████████████████████████████████████████████████████████████████████████████████████████████████████████████████████████████████████████▍                | 45.306569343060374/50 [19:32<02:02, 26.05s/it]"
     ]
    },
    {
     "name": "stdout",
     "output_type": "stream",
     "text": [
      "Train Epoch: 196 [1280/3387 (38%)]\tLoss: 0.092799\n",
      "Mem before-during-after: 22748672 518988800 22748672\n"
     ]
    },
    {
     "name": "stderr",
     "output_type": "stream",
     "text": [
      " 91%|████████████████████████████████████████████████████████████████████████████████████████████████████████████████████████████████████████████████████████████████▌               | 45.598540145980024/50 [19:40<01:53, 25.80s/it]"
     ]
    },
    {
     "name": "stdout",
     "output_type": "stream",
     "text": [
      "Train Epoch: 196 [2560/3387 (76%)]\tLoss: 0.095985\n",
      "Mem before-during-after: 22748672 518988800 22748672\n"
     ]
    },
    {
     "name": "stderr",
     "output_type": "stream",
     "text": [
      " 92%|█████████████████████████████████████████████████████████████████████████████████████████████████████████████████████████████████████████████████████████████████▉              | 46.007299270067534/50 [19:50<01:38, 24.76s/it]"
     ]
    },
    {
     "name": "stdout",
     "output_type": "stream",
     "text": [
      "\n",
      "Test Epoch: 196\tAccuracy: 624/1024 (61%)\n",
      "\n",
      "Train Epoch: 197 [0/3387 (0%)]\tLoss: 0.039459\n",
      "Mem before-during-after: 22744576 518464512 22748672\n"
     ]
    },
    {
     "name": "stderr",
     "output_type": "stream",
     "text": [
      " 93%|██████████████████████████████████████████████████████████████████████████████████████████████████████████████████████████████████████████████████████████████████▉             | 46.306569343060175/50 [19:58<01:35, 25.90s/it]"
     ]
    },
    {
     "name": "stdout",
     "output_type": "stream",
     "text": [
      "Train Epoch: 197 [1280/3387 (38%)]\tLoss: 0.052995\n",
      "Mem before-during-after: 22748672 518988800 22748672\n"
     ]
    },
    {
     "name": "stderr",
     "output_type": "stream",
     "text": [
      " 93%|████████████████████████████████████████████████████████████████████████████████████████████████████████████████████████████████████████████████████████████████████            | 46.598540145979825/50 [20:06<01:29, 26.19s/it]"
     ]
    },
    {
     "name": "stdout",
     "output_type": "stream",
     "text": [
      "Train Epoch: 197 [2560/3387 (76%)]\tLoss: 0.092979\n",
      "Mem before-during-after: 22748672 518988800 22748672\n"
     ]
    },
    {
     "name": "stderr",
     "output_type": "stream",
     "text": [
      " 94%|█████████████████████████████████████████████████████████████████████████████████████████████████████████████████████████████████████████████████████████████████████▍          | 46.999999999994344/50 [20:16<01:14, 24.77s/it]"
     ]
    },
    {
     "name": "stdout",
     "output_type": "stream",
     "text": [
      "\n",
      "Test Epoch: 197\tAccuracy: 633/1024 (62%)\n",
      "\n"
     ]
    },
    {
     "name": "stderr",
     "output_type": "stream",
     "text": [
      " 94%|██████████████████████████████████████████████████████████████████████████████████████████████████████████████████████████████████████████████████████████████████████▍          | 47.01459854014033/50 [20:16<01:17, 26.01s/it]"
     ]
    },
    {
     "name": "stdout",
     "output_type": "stream",
     "text": [
      "Train Epoch: 198 [0/3387 (0%)]\tLoss: 0.034971\n",
      "Mem before-during-after: 22744576 518464512 22748672\n"
     ]
    },
    {
     "name": "stderr",
     "output_type": "stream",
     "text": [
      " 95%|███████████████████████████████████████████████████████████████████████████████████████████████████████████████████████████████████████████████████████████████████████▍         | 47.30656934305998/50 [20:24<01:11, 26.39s/it]"
     ]
    },
    {
     "name": "stdout",
     "output_type": "stream",
     "text": [
      "Train Epoch: 198 [1280/3387 (38%)]\tLoss: 0.009276\n",
      "Mem before-during-after: 22748672 518988800 22748672\n"
     ]
    },
    {
     "name": "stderr",
     "output_type": "stream",
     "text": [
      " 95%|████████████████████████████████████████████████████████████████████████████████████████████████████████████████████████████████████████████████████████████████████████▍        | 47.59854014597963/50 [20:32<01:03, 26.33s/it]"
     ]
    },
    {
     "name": "stdout",
     "output_type": "stream",
     "text": [
      "Train Epoch: 198 [2560/3387 (76%)]\tLoss: 0.024039\n",
      "Mem before-during-after: 22748672 518988800 22748672\n"
     ]
    },
    {
     "name": "stderr",
     "output_type": "stream",
     "text": [
      " 96%|████████████████████████████████████████████████████████████████████████████████████████████████████████████████████████████████████████████████████████████████████████▉       | 48.007299270067136/50 [20:42<00:50, 25.43s/it]"
     ]
    },
    {
     "name": "stdout",
     "output_type": "stream",
     "text": [
      "\n",
      "Test Epoch: 198\tAccuracy: 634/1024 (62%)\n",
      "\n",
      "Train Epoch: 199 [0/3387 (0%)]\tLoss: 0.011873\n",
      "Mem before-during-after: 22744576 518464512 22748672\n"
     ]
    },
    {
     "name": "stderr",
     "output_type": "stream",
     "text": [
      " 97%|███████████████████████████████████████████████████████████████████████████████████████████████████████████████████████████████████████████████████████████████████████████      | 48.30656934305978/50 [20:50<00:44, 26.56s/it]"
     ]
    },
    {
     "name": "stdout",
     "output_type": "stream",
     "text": [
      "Train Epoch: 199 [1280/3387 (38%)]\tLoss: 0.285994\n",
      "Mem before-during-after: 22748672 518988800 22748672\n"
     ]
    },
    {
     "name": "stderr",
     "output_type": "stream",
     "text": [
      " 97%|████████████████████████████████████████████████████████████████████████████████████████████████████████████████████████████████████████████████████████████████████████████     | 48.59854014597943/50 [20:58<00:37, 26.59s/it]"
     ]
    },
    {
     "name": "stdout",
     "output_type": "stream",
     "text": [
      "Train Epoch: 199 [2560/3387 (76%)]\tLoss: 0.023114\n",
      "Mem before-during-after: 22748672 518988800 22748672\n"
     ]
    },
    {
     "name": "stderr",
     "output_type": "stream",
     "text": [
      " 98%|█████████████████████████████████████████████████████████████████████████████████████████████████████████████████████████████████████████████████████████████████████████████▍   | 49.00729927006694/50 [21:08<00:25, 25.47s/it]"
     ]
    },
    {
     "name": "stdout",
     "output_type": "stream",
     "text": [
      "\n",
      "Test Epoch: 199\tAccuracy: 634/1024 (62%)\n",
      "\n",
      "Train Epoch: 200 [0/3387 (0%)]\tLoss: 0.067617\n",
      "Mem before-during-after: 22744576 518464512 22748672\n"
     ]
    },
    {
     "name": "stderr",
     "output_type": "stream",
     "text": [
      " 99%|██████████████████████████████████████████████████████████████████████████████████████████████████████████████████████████████████████████████████████████████████████████████▌  | 49.30656934305958/50 [21:16<00:18, 26.30s/it]"
     ]
    },
    {
     "name": "stdout",
     "output_type": "stream",
     "text": [
      "Train Epoch: 200 [1280/3387 (38%)]\tLoss: 0.042069\n",
      "Mem before-during-after: 22748672 518988800 22748672\n"
     ]
    },
    {
     "name": "stderr",
     "output_type": "stream",
     "text": [
      " 99%|███████████████████████████████████████████████████████████████████████████████████████████████████████████████████████████████████████████████████████████████████████████████▌ | 49.59854014597923/50 [21:24<00:10, 26.76s/it]"
     ]
    },
    {
     "name": "stdout",
     "output_type": "stream",
     "text": [
      "Train Epoch: 200 [2560/3387 (76%)]\tLoss: 0.018365\n",
      "Mem before-during-after: 22748672 518988800 22748672\n"
     ]
    },
    {
     "name": "stderr",
     "output_type": "stream",
     "text": [
      "100%|████████████████████████████████████████████████████████████████████████████████████████████████████████████████████████████████████████████████████████████████████████████████▉| 49.99999999999375/50 [21:34<00:00, 25.89s/it]"
     ]
    },
    {
     "name": "stdout",
     "output_type": "stream",
     "text": [
      "\n",
      "Test Epoch: 200\tAccuracy: 618/1024 (60%)\n",
      "\n"
     ]
    },
    {
     "name": "stderr",
     "output_type": "stream",
     "text": [
      "\n"
     ]
    }
   ],
   "source": [
    "n_epoch = 10\n",
    "n_epoch2 = 50\n",
    "n_epoch3 = 40\n",
    "n_epoch4 = 50\n",
    "n_epoch5 = 50\n",
    "# train_losses = []\n",
    "# test_accuracy = []\n",
    "\n",
    "optimizer = optim.RAdam(model.parameters(), lr=0.000005)\n",
    "scheduler = optim.lr_scheduler.OneCycleLR(\n",
    "    optimizer, max_lr=0.005,\n",
    "    steps_per_epoch=len(train_loader), epochs=n_epoch5)\n",
    "log_interval = 40\n",
    "pbar_update = 1 / (len(train_loader) + len(test_loader))\n",
    "model.to(device)\n",
    "with tqdm(total=n_epoch5) as pbar:\n",
    "    for epoch in range(1+150, n_epoch5+150 + 1):\n",
    "        train(model, epoch, log_interval, train_losses)\n",
    "        acc = test(model, epoch)\n",
    "        test_accuracy += [acc]\n",
    "        if acc > best_accuracy:\n",
    "            best_accuracy = acc\n",
    "            bmodel_path = f'{model_path_prefix}{epoch}epoch.pt'\n",
    "            torch.save(model.state_dict(), bmodel_path)\n",
    "            print(f'saved model: {bmodel_path}')\n",
    "        scheduler.step()"
   ]
  },
  {
   "cell_type": "code",
   "execution_count": 42,
   "id": "975349dd-04e5-4121-af22-5b85556877cf",
   "metadata": {},
   "outputs": [
    {
     "data": {
      "text/plain": [
       "[<matplotlib.lines.Line2D at 0x7fd115fe5f70>]"
      ]
     },
     "execution_count": 42,
     "metadata": {},
     "output_type": "execute_result"
    },
    {
     "data": {
      "image/png": "[encoded data removed]",
      "text/plain": [
       "<Figure size 640x480 with 1 Axes>"
      ]
     },
     "metadata": {},
     "output_type": "display_data"
    }
   ],
   "source": [
    "plt.plot(train_losses)"
   ]
  },
  {
   "cell_type": "code",
   "execution_count": 43,
   "id": "5e0b211e-58fc-4913-ab5f-9c273fa8a053",
   "metadata": {},
   "outputs": [
    {
     "data": {
      "text/plain": [
       "[<matplotlib.lines.Line2D at 0x7fd115f624f0>]"
      ]
     },
     "execution_count": 43,
     "metadata": {},
     "output_type": "execute_result"
    },
    {
     "data": {
      "image/png": "[encoded data removed]",
      "text/plain": [
       "<Figure size 640x480 with 1 Axes>"
      ]
     },
     "metadata": {},
     "output_type": "display_data"
    }
   ],
   "source": [
    "plt.plot(test_accuracy)"
   ]
  },
  {
   "cell_type": "code",
   "execution_count": 44,
   "id": "132a4aab-bd9c-4fba-9df4-a32ef85f142d",
   "metadata": {},
   "outputs": [
    {
     "data": {
      "text/plain": [
       "0.6526829268292683"
      ]
     },
     "execution_count": 44,
     "metadata": {},
     "output_type": "execute_result"
    }
   ],
   "source": [
    "best_accuracy"
   ]
  },
  {
   "cell_type": "code",
   "execution_count": 45,
   "id": "8f8c920d-4235-4df6-84bb-06264080f63d",
   "metadata": {},
   "outputs": [
    {
     "name": "stdout",
     "output_type": "stream",
     "text": [
      "Correct: 618/1024 (0.6035)\n",
      "{'acc_detail': tensor([0.6165, 0.5419, 0.7094, 0.5376], device='cuda:0'),\n",
      " 'acc_unweighted': tensor(0.6014, device='cuda:0'),\n",
      " 'acc_weighted': tensor(0.6035, device='cuda:0'),\n",
      " 'f1s': tensor(0.6034, device='cuda:0'),\n",
      " 'f1s_detail': tensor([0.6763, 0.5348, 0.6899, 0.5125], device='cuda:0'),\n",
      " 'precision_detail': tensor([0.7489, 0.5279, 0.6714, 0.4897], device='cuda:0'),\n",
      " 'recall_detail': tensor([0.6165, 0.5419, 0.7094, 0.5376], device='cuda:0'),\n",
      " 'rocauc': tensor([0.8645, 0.8398, 0.9025, 0.7547], device='cuda:0'),\n",
      " 'uar': tensor(0.6014, device='cuda:0'),\n",
      " 'wap': tensor(0.6125, device='cuda:0')}\n"
     ]
    },
    {
     "data": {
      "text/plain": [
       "tensor([[164,  21,   4,  77],\n",
       "        [  8, 123,  49,  47],\n",
       "        [  1,  51, 188,  25],\n",
       "        [ 46,  38,  39, 143]], device='cuda:0')"
      ]
     },
     "execution_count": 45,
     "metadata": {},
     "output_type": "execute_result"
    }
   ],
   "source": [
    "metrics5, confusion_matrix5 = report_metrics(\n",
    "    model, labels=labels, device=device)\n",
    "pprint(metrics5.compute())\n",
    "confusion_matrix5.compute()"
   ]
  },
  {
   "cell_type": "code",
   "execution_count": 46,
   "id": "7b3096d8-54f1-4364-bb0d-2f454ebd64e3",
   "metadata": {},
   "outputs": [
    {
     "data": {
      "text/plain": [
       "M12(\n",
       "  (fe_blocks): FeBlocks(\n",
       "    (blocks): ModuleList(\n",
       "      (0-1): 2 x FrontEndBlock(\n",
       "        (block): ModuleDict(\n",
       "          (layer): FirConvLayer(\n",
       "            (conv_layer): ResidualConv1d(\n",
       "              (pad_layer): PadForConv()\n",
       "              (stride_layer): DownsampleLayer(\n",
       "                (pad_right): PadForConv()\n",
       "              )\n",
       "              (norm_layer): CustomNormLayer(\n",
       "                (layer): LocalResponseNorm(2, alpha=0.0001, beta=0.75, k=1.0)\n",
       "              )\n",
       "              (act): NLReLU()\n",
       "            )\n",
       "          )\n",
       "          (downsample): ResidualConv1d(\n",
       "            (pad_layer): PadForConv()\n",
       "            (stride_layer): DownsampleLayer(\n",
       "              (pad_right): PadForConv()\n",
       "            )\n",
       "            (norm_layer): CustomNormLayer(\n",
       "              (layer): LocalResponseNorm(2, alpha=0.0001, beta=0.75, k=1.0)\n",
       "            )\n",
       "            (act): NLReLU()\n",
       "          )\n",
       "        )\n",
       "      )\n",
       "    )\n",
       "  )\n",
       "  (seq_blocks): Seq2OneBlocks(\n",
       "    (blocks): LSTM(97, 48, batch_first=True)\n",
       "  )\n",
       "  (cls_head): Classifier(\n",
       "    (blocks): ModuleList(\n",
       "      (0): Sequential(\n",
       "        (norm): LayerNorm((48,), eps=1e-05, elementwise_affine=True)\n",
       "        (layer): Linear(in_features=48, out_features=256, bias=True)\n",
       "      )\n",
       "      (1): Sequential(\n",
       "        (norm): LayerNorm((256,), eps=1e-05, elementwise_affine=True)\n",
       "        (layer): Linear(in_features=256, out_features=256, bias=True)\n",
       "      )\n",
       "    )\n",
       "    (act): LeakyReLU(negative_slope=0.01)\n",
       "    (output_layer): Linear(in_features=256, out_features=4, bias=True)\n",
       "  )\n",
       ")"
      ]
     },
     "execution_count": 46,
     "metadata": {},
     "output_type": "execute_result"
    }
   ],
   "source": [
    "model.to('cpu')"
   ]
  },
  {
   "cell_type": "code",
   "execution_count": 47,
   "id": "321931b9-e8f2-4d28-ba9b-3c09ab14d704",
   "metadata": {},
   "outputs": [],
   "source": [
    "np.save('../cremad4_m12new_trill19_2000epochs_train_losses.npy', train_losses, allow_pickle=True)\n",
    "np.save('../cremad4_m12new_trill19_200epochs_test_accuracy.npy', test_accuracy, allow_pickle=True)"
   ]
  },
  {
   "cell_type": "code",
   "execution_count": null,
   "id": "cd2a5b70-347a-4308-9ae1-ef2eed0f44ef",
   "metadata": {},
   "outputs": [],
   "source": []
  }
 ],
 "metadata": {
  "kernelspec": {
   "display_name": "Python 3 (ipykernel)",
   "language": "python",
   "name": "python3"
  },
  "language_info": {
   "codemirror_mode": {
    "name": "ipython",
    "version": 3
   },
   "file_extension": ".py",
   "mimetype": "text/x-python",
   "name": "python",
   "nbconvert_exporter": "python",
   "pygments_lexer": "ipython3",
   "version": "3.9.18"
  }
 },
 "nbformat": 4,
 "nbformat_minor": 5
}
