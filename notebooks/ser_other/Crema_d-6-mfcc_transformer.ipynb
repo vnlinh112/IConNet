{
 "cells": [
  {
   "cell_type": "markdown",
   "metadata": {},
   "source": [
    "# Crema D: 6 emotions\n",
    "\n",
    "Features: MFCC\n",
    "\n",
    "Models: Transformer Encoder\n",
    "\n",
    "Accuracy: 0.4928"
   ]
  },
  {
   "cell_type": "markdown",
   "metadata": {},
   "source": [
    "## Before running"
   ]
  },
  {
   "cell_type": "code",
   "execution_count": 1,
   "metadata": {},
   "outputs": [],
   "source": [
    "import os\n",
    "from datetime import datetime\n",
    "\n",
    "dataset = \"crema_d\"\n",
    "num_class = 6\n",
    "use_label = \"label_emotion\"\n",
    "use_all_data = True \n",
    "feature = 'mfcc'\n",
    "feature_type = 'mfcc'"
   ]
  },
  {
   "cell_type": "markdown",
   "metadata": {},
   "source": [
    "## Load data"
   ]
  },
  {
   "cell_type": "code",
   "execution_count": 2,
   "metadata": {},
   "outputs": [],
   "source": [
    "%load_ext autoreload\n",
    "%autoreload 2"
   ]
  },
  {
   "cell_type": "code",
   "execution_count": 3,
   "metadata": {},
   "outputs": [
    {
     "data": {
      "text/plain": [
       "['NEU', 'HAP', 'SAD', 'ANG', 'FEA', 'DIS']"
      ]
     },
     "execution_count": 3,
     "metadata": {},
     "output_type": "execute_result"
    }
   ],
   "source": [
    "from modules.dataloader import DataLoader\n",
    "\n",
    "dataloader = DataLoader(dataset)\n",
    "all_classes = dataloader.get_all_class()\n",
    "class_info = dataloader.get_class_info(num_class=num_class)\n",
    "classnames = class_info[\"classnames\"]\n",
    "classnames"
   ]
  },
  {
   "cell_type": "code",
   "execution_count": 4,
   "metadata": {},
   "outputs": [],
   "source": [
    "labels = dataloader.get_preprocessed_data(use_label)"
   ]
  },
  {
   "cell_type": "code",
   "execution_count": 5,
   "metadata": {},
   "outputs": [
    {
     "name": "stdout",
     "output_type": "stream",
     "text": [
      "mfcc (size, number of feature): (7438,)\n"
     ]
    }
   ],
   "source": [
    "feature_list = [feature]\n",
    "lld = {}\n",
    "\n",
    "for i in feature_list:\n",
    "    d = dataloader.get_preprocessed_data(i)\n",
    "    print(f\"{i} (size, number of feature): {d.shape}\")\n",
    "    lld[i] = d"
   ]
  },
  {
   "cell_type": "code",
   "execution_count": 6,
   "metadata": {},
   "outputs": [],
   "source": [
    "if not use_all_data:\n",
    "    afilter = []\n",
    "\n",
    "    for i, l in enumerate(labels):\n",
    "        afilter += [all_classes[l] in classnames]\n",
    "\n",
    "    labels = labels[afilter]\n",
    "    for i in feature_list:\n",
    "        lld[i] = lld[i][afilter]\n",
    "\n",
    "    print(f\"Data size of {num_class} classes: {labels.shape}\")"
   ]
  },
  {
   "cell_type": "code",
   "execution_count": 7,
   "metadata": {},
   "outputs": [
    {
     "name": "stdout",
     "output_type": "stream",
     "text": [
      "LLDmfcc: X train (6322,) - X test (1116,)\n"
     ]
    }
   ],
   "source": [
    "from modules.train import Data, TensorDataLoader \n",
    "from modules.train import split_data\n",
    "from modules.train_nn import create_data_loader_seq, transform_tensor\n",
    "\n",
    "data_splitted = {}\n",
    "data_loader = {}\n",
    "\n",
    "for i in feature_list:\n",
    "    d = Data(*split_data((lld[i], labels)))\n",
    "    print(f\"LLD{i}: X train {d.X_train.shape} - X test {d.X_test.shape}\")\n",
    "    dl, dt = create_data_loader_seq(d)\n",
    "    data_loader[i] = dl\n",
    "    data_splitted[i] = dt"
   ]
  },
  {
   "cell_type": "markdown",
   "metadata": {},
   "source": [
    "## Transformer"
   ]
  },
  {
   "cell_type": "code",
   "execution_count": 8,
   "metadata": {},
   "outputs": [],
   "source": [
    "import torch\n",
    "import torch.nn as nn\n",
    "import torch.nn.functional as F\n",
    "from einops import rearrange\n",
    "import numpy as np\n",
    "import time\n",
    "import matplotlib.pyplot as plt\n",
    "%matplotlib inline\n",
    "from visualize import display_module"
   ]
  },
  {
   "cell_type": "markdown",
   "metadata": {},
   "source": [
    "### Multi-head attention"
   ]
  },
  {
   "cell_type": "code",
   "execution_count": 9,
   "metadata": {},
   "outputs": [],
   "source": [
    "def multi_head_attention(Q, K, V, mask):\n",
    "    \"\"\"Multi-head attention on a batch of Q, K, V\n",
    "    Arguments:\n",
    "        Q: torch.Tensor shape (B, N, n_head, d_k)\n",
    "        K: torch.Tensor shape (B, M, n_head, d_k)\n",
    "        V: torch.Tensor shape (B, M, n_head, d_v)\n",
    "        mask: torch.BoolTensor shape (B, N, M)\n",
    "        where mask[i] is `mask` for attention of record i: (Q[i], K[i], V[i])\n",
    "        \n",
    "    Return:\n",
    "        scaled-dot attention: torch.Tensor shape (B, N, n_head d_v)\n",
    "    \"\"\"\n",
    "    B, N, n_head, d_k = Q.shape\n",
    "    similar_score = torch.einsum('bnhd,bmhd->bhnm', Q, K) / (d_k ** 0.5)\n",
    "    similar_score = similar_score.masked_fill(mask.unsqueeze(1), value=float(\"-inf\"))\n",
    "    attention_weight = F.softmax(similar_score, dim=-1)\n",
    "    attentions = torch.einsum('bhnm,bmhd->bnhd', attention_weight, V)\n",
    "    return attentions, attention_weight"
   ]
  },
  {
   "cell_type": "markdown",
   "metadata": {},
   "source": [
    "### Encoder"
   ]
  },
  {
   "cell_type": "markdown",
   "metadata": {},
   "source": [
    "config"
   ]
  },
  {
   "cell_type": "code",
   "execution_count": 10,
   "metadata": {},
   "outputs": [],
   "source": [
    "from dataclasses import dataclass\n",
    " \n",
    "@dataclass(init=True)\n",
    "class TransformersConfig():\n",
    "    tgt_vocab_size = 100\n",
    "    src_vocab_size = 100\n",
    "    seq_len = 165\n",
    "    num_encoder_layers = 2       # Number of TransformerEncoderBlock layer in Encoder\n",
    "    num_decoder_layers = 2       # Number of TransformerDecoderBlock layer in Decoder\n",
    "    attn_dropout = 0.1           # Dropout for residual add after multi-head attention\n",
    "    ff_dropout = 0.1             # Dropout for feed-forward residual add\n",
    "    embed_dropout = 0.1          # Dropout for embedding after augmented wih positional encoding\n",
    "    \n",
    "    def __init__(self, feature=feature_type, num_class=num_class):\n",
    "        self.num_class = num_class        # Number of output classes\n",
    "        if feature == 'mfcc':\n",
    "            self.d_model = 128                 # d_model = d_k * n_head\n",
    "            self.d_k = 64\n",
    "            self.d_v = 64\n",
    "            self.n_head = int(self.d_model / self.d_k)     \n",
    "            self.d_ff = self.d_k*self.d_v               # Number of unit in feed-forward layer\n",
    "            self.src_pad_id = -1e5            # pad value \n",
    "        elif feature == 'cqt':\n",
    "            self.d_model = 84                 # d_model = d_k * n_head\n",
    "            self.d_k = 42\n",
    "            self.d_v = 42\n",
    "            self.n_head = int(self.d_model / self.d_k)     \n",
    "            self.d_ff = self.d_k*self.d_v               # Number of unit in feed-forward layer\n",
    "            self.src_pad_id = 1e-15            # pad value \n",
    "    \n",
    "    \n",
    "config = TransformersConfig(feature_type, num_class)\n",
    " \n",
    "N_queries = config.d_k\n",
    "M_keys = config.d_k\n",
    "n_head = int(config.d_model / config.d_k)\n",
    "batch_size = 32"
   ]
  },
  {
   "cell_type": "code",
   "execution_count": 11,
   "metadata": {},
   "outputs": [
    {
     "name": "stdout",
     "output_type": "stream",
     "text": [
      "Number of encoder layers:  2\n"
     ]
    }
   ],
   "source": [
    "print(\"Number of encoder layers: \", config.num_encoder_layers)"
   ]
  },
  {
   "cell_type": "code",
   "execution_count": 12,
   "metadata": {},
   "outputs": [
    {
     "name": "stdout",
     "output_type": "stream",
     "text": [
      "128\n",
      "2\n",
      "6\n"
     ]
    }
   ],
   "source": [
    "print(config.d_model)\n",
    "print(config.n_head)\n",
    "print(config.num_class)"
   ]
  },
  {
   "cell_type": "markdown",
   "metadata": {},
   "source": [
    "FeedForwardAddNorm"
   ]
  },
  {
   "cell_type": "code",
   "execution_count": 13,
   "metadata": {},
   "outputs": [],
   "source": [
    "class FeedForwardAddNorm(nn.Module):\n",
    "    def __init__(self, config):\n",
    "        super().__init__()\n",
    "        self.linear1 = nn.Linear(config.d_model, config.d_ff)\n",
    "        self.activation = nn.ReLU()\n",
    "        self.linear2 = nn.Linear(config.d_ff, config.d_model)\n",
    "        self.dropout = nn.Dropout(config.ff_dropout)\n",
    "        self.layer_norm = nn.LayerNorm(config.d_model)\n",
    "        \n",
    "    def forward(self, input):\n",
    "        x = self.linear1(input)\n",
    "        x = self.activation(x)\n",
    "        x = self.linear2(x)\n",
    "        x = self.dropout(x)\n",
    "        x += input\n",
    "        x = self.layer_norm(x)\n",
    "        return x\n",
    "        "
   ]
  },
  {
   "cell_type": "code",
   "execution_count": 14,
   "metadata": {},
   "outputs": [
    {
     "name": "stdout",
     "output_type": "stream",
     "text": [
      "FeedForwardAddNorm(\n",
      "  (linear1): Linear(in_features=128, out_features=4096, bias=True)\n",
      "  (activation): ReLU()\n",
      "  (linear2): Linear(in_features=4096, out_features=128, bias=True)\n",
      "  (dropout): Dropout(p=0.1, inplace=False)\n",
      "  (layer_norm): LayerNorm((128,), eps=1e-05, elementwise_affine=True)\n",
      ")\n",
      "aten::add_ %input : Float(32, 165, 128, strides=[21120, 128, 1], requires_grad=1, device=cpu) = aten::add_(%62, %input.1, %31) # /tmp/ipykernel_29433/2149057323.py:15:0\n",
      "\n"
     ]
    },
    {
     "data": {
      "image/svg+xml": [
       "<?xml version=\"1.0\" encoding=\"UTF-8\" standalone=\"no\"?>\n",
       "<!DOCTYPE svg PUBLIC \"-//W3C//DTD SVG 1.1//EN\"\n",
       " \"http://www.w3.org/Graphics/SVG/1.1/DTD/svg11.dtd\">\n",
       "<!-- Generated by graphviz version 2.43.0 (0)\n",
       " -->\n",
       "<!-- Title: %3 Pages: 1 -->\n",
       "<svg width=\"187pt\" height=\"571pt\"\n",
       " viewBox=\"0.00 0.00 187.00 571.00\" xmlns=\"http://www.w3.org/2000/svg\" xmlns:xlink=\"http://www.w3.org/1999/xlink\">\n",
       "<g id=\"graph0\" class=\"graph\" transform=\"scale(1 1) rotate(0) translate(4 567)\">\n",
       "<title>%3</title>\n",
       "<polygon fill=\"white\" stroke=\"transparent\" points=\"-4,4 -4,-567 183,-567 183,4 -4,4\"/>\n",
       "<text text-anchor=\"middle\" x=\"89.5\" y=\"-547.8\" font-family=\"Times,serif\" font-size=\"14.00\">FeedForwardAddNorm</text>\n",
       "<!-- inp_input.1 -->\n",
       "<g id=\"node1\" class=\"node\">\n",
       "<title>inp_input.1</title>\n",
       "<ellipse fill=\"none\" stroke=\"black\" cx=\"104\" cy=\"-522\" rx=\"51.19\" ry=\"18\"/>\n",
       "<text text-anchor=\"middle\" x=\"104\" y=\"-518.3\" font-family=\"Times,serif\" font-size=\"14.00\">inp_input.1</text>\n",
       "</g>\n",
       "<!-- .59 -->\n",
       "<g id=\"node2\" class=\"node\">\n",
       "<title>.59</title>\n",
       "<polygon fill=\"none\" stroke=\"black\" points=\"112,-468 10,-468 10,-432 112,-432 112,-468\"/>\n",
       "<text text-anchor=\"middle\" x=\"61\" y=\"-446.3\" font-family=\"Times,serif\" font-size=\"14.00\">linear1 (Linear)</text>\n",
       "</g>\n",
       "<!-- inp_input.1&#45;&gt;.59 -->\n",
       "<g id=\"edge1\" class=\"edge\">\n",
       "<title>inp_input.1&#45;&gt;.59</title>\n",
       "<path fill=\"none\" stroke=\"black\" d=\"M93.59,-504.05C88.59,-495.92 82.5,-486 76.94,-476.94\"/>\n",
       "<polygon fill=\"black\" stroke=\"black\" points=\"79.83,-474.96 71.61,-468.28 73.86,-478.63 79.83,-474.96\"/>\n",
       "</g>\n",
       "<!-- input -->\n",
       "<g id=\"node7\" class=\"node\">\n",
       "<title>input</title>\n",
       "<path fill=\"none\" stroke=\"black\" d=\"M116,-180C116,-180 86,-180 86,-180 80,-180 74,-174 74,-168 74,-168 74,-156 74,-156 74,-150 80,-144 86,-144 86,-144 116,-144 116,-144 122,-144 128,-150 128,-156 128,-156 128,-168 128,-168 128,-174 122,-180 116,-180\"/>\n",
       "<text text-anchor=\"middle\" x=\"101\" y=\"-158.3\" font-family=\"Times,serif\" font-size=\"14.00\">add</text>\n",
       "</g>\n",
       "<!-- inp_input.1&#45;&gt;input -->\n",
       "<g id=\"edge6\" class=\"edge\">\n",
       "<title>inp_input.1&#45;&gt;input</title>\n",
       "<path fill=\"none\" stroke=\"black\" d=\"M112.09,-503.95C123.78,-477.72 144,-425.61 144,-379 144,-379 144,-379 144,-305 144,-263.29 126.8,-217.54 114.16,-189.54\"/>\n",
       "<polygon fill=\"black\" stroke=\"black\" points=\"117.3,-188.01 109.91,-180.42 110.95,-190.96 117.3,-188.01\"/>\n",
       "</g>\n",
       "<!-- .60 -->\n",
       "<g id=\"node3\" class=\"node\">\n",
       "<title>.60</title>\n",
       "<polygon fill=\"none\" stroke=\"black\" points=\"116,-396 0,-396 0,-360 116,-360 116,-396\"/>\n",
       "<text text-anchor=\"middle\" x=\"58\" y=\"-374.3\" font-family=\"Times,serif\" font-size=\"14.00\">activation (ReLU)</text>\n",
       "</g>\n",
       "<!-- .59&#45;&gt;.60 -->\n",
       "<g id=\"edge2\" class=\"edge\">\n",
       "<title>.59&#45;&gt;.60</title>\n",
       "<path fill=\"none\" stroke=\"black\" d=\"M60.26,-431.7C59.93,-423.98 59.53,-414.71 59.16,-406.11\"/>\n",
       "<polygon fill=\"black\" stroke=\"black\" points=\"62.66,-405.95 58.73,-396.1 55.66,-406.25 62.66,-405.95\"/>\n",
       "</g>\n",
       "<!-- .61 -->\n",
       "<g id=\"node4\" class=\"node\">\n",
       "<title>.61</title>\n",
       "<polygon fill=\"none\" stroke=\"black\" points=\"109,-324 7,-324 7,-288 109,-288 109,-324\"/>\n",
       "<text text-anchor=\"middle\" x=\"58\" y=\"-302.3\" font-family=\"Times,serif\" font-size=\"14.00\">linear2 (Linear)</text>\n",
       "</g>\n",
       "<!-- .60&#45;&gt;.61 -->\n",
       "<g id=\"edge3\" class=\"edge\">\n",
       "<title>.60&#45;&gt;.61</title>\n",
       "<path fill=\"none\" stroke=\"black\" d=\"M58,-359.7C58,-351.98 58,-342.71 58,-334.11\"/>\n",
       "<polygon fill=\"black\" stroke=\"black\" points=\"61.5,-334.1 58,-324.1 54.5,-334.1 61.5,-334.1\"/>\n",
       "</g>\n",
       "<!-- .62 -->\n",
       "<g id=\"node5\" class=\"node\">\n",
       "<title>.62</title>\n",
       "<polygon fill=\"none\" stroke=\"black\" points=\"116,-252 0,-252 0,-216 116,-216 116,-252\"/>\n",
       "<text text-anchor=\"middle\" x=\"58\" y=\"-230.3\" font-family=\"Times,serif\" font-size=\"14.00\">dropout (Dropout)</text>\n",
       "</g>\n",
       "<!-- .61&#45;&gt;.62 -->\n",
       "<g id=\"edge4\" class=\"edge\">\n",
       "<title>.61&#45;&gt;.62</title>\n",
       "<path fill=\"none\" stroke=\"black\" d=\"M58,-287.7C58,-279.98 58,-270.71 58,-262.11\"/>\n",
       "<polygon fill=\"black\" stroke=\"black\" points=\"61.5,-262.1 58,-252.1 54.5,-262.1 61.5,-262.1\"/>\n",
       "</g>\n",
       "<!-- .62&#45;&gt;input -->\n",
       "<g id=\"edge5\" class=\"edge\">\n",
       "<title>.62&#45;&gt;input</title>\n",
       "<path fill=\"none\" stroke=\"black\" d=\"M68.63,-215.7C73.63,-207.56 79.69,-197.69 85.21,-188.7\"/>\n",
       "<polygon fill=\"black\" stroke=\"black\" points=\"88.24,-190.46 90.49,-180.1 82.28,-186.79 88.24,-190.46\"/>\n",
       "</g>\n",
       "<!-- .63 -->\n",
       "<g id=\"node6\" class=\"node\">\n",
       "<title>.63</title>\n",
       "<polygon fill=\"none\" stroke=\"black\" points=\"179,-108 23,-108 23,-72 179,-72 179,-108\"/>\n",
       "<text text-anchor=\"middle\" x=\"101\" y=\"-86.3\" font-family=\"Times,serif\" font-size=\"14.00\">layer_norm (LayerNorm)</text>\n",
       "</g>\n",
       "<!-- out_0 -->\n",
       "<g id=\"node8\" class=\"node\">\n",
       "<title>out_0</title>\n",
       "<ellipse fill=\"none\" stroke=\"black\" cx=\"101\" cy=\"-18\" rx=\"30.59\" ry=\"18\"/>\n",
       "<text text-anchor=\"middle\" x=\"101\" y=\"-14.3\" font-family=\"Times,serif\" font-size=\"14.00\">out_0</text>\n",
       "</g>\n",
       "<!-- .63&#45;&gt;out_0 -->\n",
       "<g id=\"edge8\" class=\"edge\">\n",
       "<title>.63&#45;&gt;out_0</title>\n",
       "<path fill=\"none\" stroke=\"black\" d=\"M101,-71.7C101,-63.98 101,-54.71 101,-46.11\"/>\n",
       "<polygon fill=\"black\" stroke=\"black\" points=\"104.5,-46.1 101,-36.1 97.5,-46.1 104.5,-46.1\"/>\n",
       "</g>\n",
       "<!-- input&#45;&gt;.63 -->\n",
       "<g id=\"edge7\" class=\"edge\">\n",
       "<title>input&#45;&gt;.63</title>\n",
       "<path fill=\"none\" stroke=\"black\" d=\"M101,-143.7C101,-135.98 101,-126.71 101,-118.11\"/>\n",
       "<polygon fill=\"black\" stroke=\"black\" points=\"104.5,-118.1 101,-108.1 97.5,-118.1 104.5,-118.1\"/>\n",
       "</g>\n",
       "</g>\n",
       "</svg>\n"
      ],
      "text/plain": [
       "<graphviz.graphs.Digraph at 0x7f9c4d022c40>"
      ]
     },
     "execution_count": 14,
     "metadata": {},
     "output_type": "execute_result"
    }
   ],
   "source": [
    "\"\"\"Simple test\"\"\"\n",
    "ff = FeedForwardAddNorm(config)\n",
    "print(ff)\n",
    "inps = torch.randn(batch_size, config.seq_len, config.d_model)\n",
    "outs = ff(inps)\n",
    "assert outs.shape == inps.shape\n",
    "d = display_module(ff, inps)\n",
    "d"
   ]
  },
  {
   "cell_type": "markdown",
   "metadata": {},
   "source": [
    "AttentionAddNorm"
   ]
  },
  {
   "cell_type": "code",
   "execution_count": 15,
   "metadata": {},
   "outputs": [],
   "source": [
    "class AttentionAddNorm(nn.Module):\n",
    "    def __init__(self, config):\n",
    "        super().__init__()\n",
    "        self.config = config\n",
    "        self.Q_proj = nn.Linear(config.d_model, config.d_model)\n",
    "        self.K_proj = nn.Linear(config.d_model, config.d_model)\n",
    "        self.V_proj = nn.Linear(config.d_model, config.d_model)\n",
    "        self.dropout = nn.Dropout(config.attn_dropout)\n",
    "        self.layer_norm = nn.LayerNorm(config.d_model)\n",
    "        \n",
    "    def forward(self, query, key, value, mask):\n",
    "        Q, K, V = self.Q_proj(query), self.K_proj(key), self.V_proj(value)\n",
    "        Q = rearrange(Q, \"B seq_len (n_head d_k) -> B seq_len n_head d_k\", n_head=self.config.n_head)\n",
    "        K = rearrange(K, \"B seq_len (n_head d_k) -> B seq_len n_head d_k\", n_head=self.config.n_head)\n",
    "        V = rearrange(V, \"B seq_len (n_head d_v) -> B seq_len n_head d_v\", n_head=self.config.n_head)\n",
    "        attention, similar_score = multi_head_attention(Q, K, V, mask)\n",
    "        attention = self.dropout(attention)\n",
    "        attention = rearrange(attention, \"B seq_len n_head d_v -> B seq_len (n_head d_v)\")\n",
    "        return self.layer_norm(query + attention), similar_score"
   ]
  },
  {
   "cell_type": "code",
   "execution_count": 16,
   "metadata": {},
   "outputs": [
    {
     "name": "stdout",
     "output_type": "stream",
     "text": [
      "AttentionAddNorm(\n",
      "  (Q_proj): Linear(in_features=128, out_features=128, bias=True)\n",
      "  (K_proj): Linear(in_features=128, out_features=128, bias=True)\n",
      "  (V_proj): Linear(in_features=128, out_features=128, bias=True)\n",
      "  (dropout): Dropout(p=0.1, inplace=False)\n",
      "  (layer_norm): LayerNorm((128,), eps=1e-05, elementwise_affine=True)\n",
      ")\n"
     ]
    },
    {
     "name": "stderr",
     "output_type": "stream",
     "text": [
      "/home/linh-miaw/anaconda3/envs/py39/lib/python3.9/site-packages/torch/_tensor.py:575: UserWarning: floor_divide is deprecated, and will be removed in a future version of pytorch. It currently rounds toward 0 (like the 'trunc' function NOT 'floor'). This results in incorrect rounding for negative values.\n",
      "To keep the current behavior, use torch.div(a, b, rounding_mode='trunc'), or for actual floor division, use torch.div(a, b, rounding_mode='floor'). (Triggered internally at  /opt/conda/conda-bld/pytorch_1623448255797/work/aten/src/ATen/native/BinaryOps.cpp:467.)\n",
      "  return torch.floor_divide(self, other)\n"
     ]
    },
    {
     "name": "stdout",
     "output_type": "stream",
     "text": [
      "aten::einsum %164 : Float(32, 2, 165, 165, strides=[54450, 27225, 165, 1], requires_grad=1, device=cpu) = aten::einsum(%162, %163) # /home/linh-miaw/anaconda3/envs/py39/lib/python3.9/site-packages/torch/functional.py:299:0\n",
      "\n",
      "aten::div %similar_score : Float(32, 2, 165, 165, strides=[54450, 27225, 165, 1], requires_grad=1, device=cpu) = aten::div(%164, %166) # /tmp/ipykernel_29433/631784733.py:14:0\n",
      "\n",
      "aten::masked_fill %input.1 : Float(32, 2, 165, 165, strides=[54450, 27225, 165, 1], requires_grad=1, device=cpu) = aten::masked_fill(%similar_score, %169, %170) # /tmp/ipykernel_29433/631784733.py:15:0\n",
      "\n",
      "aten::softmax %174 : Float(32, 2, 165, 165, strides=[54450, 27225, 165, 1], requires_grad=1, device=cpu) = aten::softmax(%input.1, %172, %173) # /home/linh-miaw/anaconda3/envs/py39/lib/python3.9/site-packages/torch/nn/functional.py:1679:0\n",
      "\n",
      "aten::einsum %input.3 : Float(32, 165, 2, 64, strides=[21120, 64, 10560, 1], requires_grad=1, device=cpu) = aten::einsum(%175, %176) # /home/linh-miaw/anaconda3/envs/py39/lib/python3.9/site-packages/torch/functional.py:299:0\n",
      "\n",
      "aten::add %input : Float(32, 165, 128, strides=[21120, 128, 1], requires_grad=1, device=cpu) = aten::add(%query, %attention, %225) # /tmp/ipykernel_29433/891953927.py:19:0\n",
      "\n"
     ]
    },
    {
     "data": {
      "image/svg+xml": [
       "<?xml version=\"1.0\" encoding=\"UTF-8\" standalone=\"no\"?>\n",
       "<!DOCTYPE svg PUBLIC \"-//W3C//DTD SVG 1.1//EN\"\n",
       " \"http://www.w3.org/Graphics/SVG/1.1/DTD/svg11.dtd\">\n",
       "<!-- Generated by graphviz version 2.43.0 (0)\n",
       " -->\n",
       "<!-- Title: %3 Pages: 1 -->\n",
       "<svg width=\"501pt\" height=\"575pt\"\n",
       " viewBox=\"0.00 0.00 501.00 575.00\" xmlns=\"http://www.w3.org/2000/svg\" xmlns:xlink=\"http://www.w3.org/1999/xlink\">\n",
       "<g id=\"graph0\" class=\"graph\" transform=\"scale(1 1) rotate(0) translate(4 571)\">\n",
       "<title>%3</title>\n",
       "<polygon fill=\"white\" stroke=\"transparent\" points=\"-4,4 -4,-571 497,-571 497,4 -4,4\"/>\n",
       "<text text-anchor=\"middle\" x=\"246.5\" y=\"-551.8\" font-family=\"Times,serif\" font-size=\"14.00\">AttentionAddNorm</text>\n",
       "<!-- inp_query -->\n",
       "<g id=\"node1\" class=\"node\">\n",
       "<title>inp_query</title>\n",
       "<ellipse fill=\"none\" stroke=\"black\" cx=\"76.5\" cy=\"-526\" rx=\"46.29\" ry=\"18\"/>\n",
       "<text text-anchor=\"middle\" x=\"76.5\" y=\"-522.3\" font-family=\"Times,serif\" font-size=\"14.00\">inp_query</text>\n",
       "</g>\n",
       "<!-- .256 -->\n",
       "<g id=\"node5\" class=\"node\">\n",
       "<title>.256</title>\n",
       "<polygon fill=\"none\" stroke=\"black\" points=\"103,-472 0,-472 0,-436 103,-436 103,-472\"/>\n",
       "<text text-anchor=\"middle\" x=\"51.5\" y=\"-450.3\" font-family=\"Times,serif\" font-size=\"14.00\">Q_proj (Linear)</text>\n",
       "</g>\n",
       "<!-- inp_query&#45;&gt;.256 -->\n",
       "<g id=\"edge1\" class=\"edge\">\n",
       "<title>inp_query&#45;&gt;.256</title>\n",
       "<path fill=\"none\" stroke=\"black\" d=\"M70.45,-508.05C67.63,-500.18 64.22,-490.62 61.07,-481.79\"/>\n",
       "<polygon fill=\"black\" stroke=\"black\" points=\"64.33,-480.52 57.67,-472.28 57.74,-482.87 64.33,-480.52\"/>\n",
       "</g>\n",
       "<!-- input -->\n",
       "<g id=\"node11\" class=\"node\">\n",
       "<title>input</title>\n",
       "<path fill=\"none\" stroke=\"black\" d=\"M235.5,-254C235.5,-254 205.5,-254 205.5,-254 199.5,-254 193.5,-248 193.5,-242 193.5,-242 193.5,-230 193.5,-230 193.5,-224 199.5,-218 205.5,-218 205.5,-218 235.5,-218 235.5,-218 241.5,-218 247.5,-224 247.5,-230 247.5,-230 247.5,-242 247.5,-242 247.5,-248 241.5,-254 235.5,-254\"/>\n",
       "<text text-anchor=\"middle\" x=\"220.5\" y=\"-232.3\" font-family=\"Times,serif\" font-size=\"14.00\">add</text>\n",
       "</g>\n",
       "<!-- inp_query&#45;&gt;input -->\n",
       "<g id=\"edge10\" class=\"edge\">\n",
       "<title>inp_query&#45;&gt;input</title>\n",
       "<path fill=\"none\" stroke=\"black\" d=\"M89.43,-508.67C96.84,-498.61 105.78,-485.14 111.5,-472 144.7,-395.69 111.16,-360.42 155.5,-290 163.04,-278.02 174.23,-267.5 185.21,-259.05\"/>\n",
       "<polygon fill=\"black\" stroke=\"black\" points=\"187.48,-261.73 193.5,-253.01 183.35,-256.07 187.48,-261.73\"/>\n",
       "</g>\n",
       "<!-- inp_key -->\n",
       "<g id=\"node2\" class=\"node\">\n",
       "<title>inp_key</title>\n",
       "<ellipse fill=\"none\" stroke=\"black\" cx=\"441.5\" cy=\"-526\" rx=\"38.99\" ry=\"18\"/>\n",
       "<text text-anchor=\"middle\" x=\"441.5\" y=\"-522.3\" font-family=\"Times,serif\" font-size=\"14.00\">inp_key</text>\n",
       "</g>\n",
       "<!-- .257 -->\n",
       "<g id=\"node6\" class=\"node\">\n",
       "<title>.257</title>\n",
       "<polygon fill=\"none\" stroke=\"black\" points=\"493,-472 390,-472 390,-436 493,-436 493,-472\"/>\n",
       "<text text-anchor=\"middle\" x=\"441.5\" y=\"-450.3\" font-family=\"Times,serif\" font-size=\"14.00\">K_proj (Linear)</text>\n",
       "</g>\n",
       "<!-- inp_key&#45;&gt;.257 -->\n",
       "<g id=\"edge2\" class=\"edge\">\n",
       "<title>inp_key&#45;&gt;.257</title>\n",
       "<path fill=\"none\" stroke=\"black\" d=\"M441.5,-507.7C441.5,-499.98 441.5,-490.71 441.5,-482.11\"/>\n",
       "<polygon fill=\"black\" stroke=\"black\" points=\"445,-482.1 441.5,-472.1 438,-482.1 445,-482.1\"/>\n",
       "</g>\n",
       "<!-- inp_value -->\n",
       "<g id=\"node3\" class=\"node\">\n",
       "<title>inp_value</title>\n",
       "<ellipse fill=\"none\" stroke=\"black\" cx=\"211.5\" cy=\"-526\" rx=\"45.49\" ry=\"18\"/>\n",
       "<text text-anchor=\"middle\" x=\"211.5\" y=\"-522.3\" font-family=\"Times,serif\" font-size=\"14.00\">inp_value</text>\n",
       "</g>\n",
       "<!-- .258 -->\n",
       "<g id=\"node7\" class=\"node\">\n",
       "<title>.258</title>\n",
       "<polygon fill=\"none\" stroke=\"black\" points=\"263,-472 160,-472 160,-436 263,-436 263,-472\"/>\n",
       "<text text-anchor=\"middle\" x=\"211.5\" y=\"-450.3\" font-family=\"Times,serif\" font-size=\"14.00\">V_proj (Linear)</text>\n",
       "</g>\n",
       "<!-- inp_value&#45;&gt;.258 -->\n",
       "<g id=\"edge3\" class=\"edge\">\n",
       "<title>inp_value&#45;&gt;.258</title>\n",
       "<path fill=\"none\" stroke=\"black\" d=\"M211.5,-507.7C211.5,-499.98 211.5,-490.71 211.5,-482.11\"/>\n",
       "<polygon fill=\"black\" stroke=\"black\" points=\"215,-482.1 211.5,-472.1 208,-482.1 215,-482.1\"/>\n",
       "</g>\n",
       "<!-- inp_mask -->\n",
       "<g id=\"node4\" class=\"node\">\n",
       "<title>inp_mask</title>\n",
       "<ellipse fill=\"none\" stroke=\"black\" cx=\"326.5\" cy=\"-454\" rx=\"45.49\" ry=\"18\"/>\n",
       "<text text-anchor=\"middle\" x=\"326.5\" y=\"-450.3\" font-family=\"Times,serif\" font-size=\"14.00\">inp_mask</text>\n",
       "</g>\n",
       "<!-- input.3 -->\n",
       "<g id=\"node9\" class=\"node\">\n",
       "<title>input.3</title>\n",
       "<path fill=\"none\" stroke=\"black\" d=\"M277,-400C277,-400 172,-400 172,-400 166,-400 160,-394 160,-388 160,-388 160,-374 160,-374 160,-368 166,-362 172,-362 172,-362 277,-362 277,-362 283,-362 289,-368 289,-374 289,-374 289,-388 289,-388 289,-394 283,-400 277,-400\"/>\n",
       "<text text-anchor=\"middle\" x=\"224.5\" y=\"-384.8\" font-family=\"Times,serif\" font-size=\"14.00\">softmax masked_fill</text>\n",
       "<text text-anchor=\"middle\" x=\"224.5\" y=\"-369.8\" font-family=\"Times,serif\" font-size=\"14.00\">div einsum pow</text>\n",
       "</g>\n",
       "<!-- inp_mask&#45;&gt;input.3 -->\n",
       "<g id=\"edge6\" class=\"edge\">\n",
       "<title>inp_mask&#45;&gt;input.3</title>\n",
       "<path fill=\"none\" stroke=\"black\" d=\"M304.87,-437.94C291.57,-428.69 274.23,-416.62 259.07,-406.06\"/>\n",
       "<polygon fill=\"black\" stroke=\"black\" points=\"260.64,-402.89 250.44,-400.05 256.64,-408.64 260.64,-402.89\"/>\n",
       "</g>\n",
       "<!-- inp_out_0 -->\n",
       "<g id=\"node13\" class=\"node\">\n",
       "<title>inp_out_0</title>\n",
       "<path fill=\"none\" stroke=\"black\" d=\"M326,-110C326,-110 221,-110 221,-110 215,-110 209,-104 209,-98 209,-98 209,-84 209,-84 209,-78 215,-72 221,-72 221,-72 326,-72 326,-72 332,-72 338,-78 338,-84 338,-84 338,-98 338,-98 338,-104 332,-110 326,-110\"/>\n",
       "<text text-anchor=\"middle\" x=\"273.5\" y=\"-94.8\" font-family=\"Times,serif\" font-size=\"14.00\">softmax masked_fill</text>\n",
       "<text text-anchor=\"middle\" x=\"273.5\" y=\"-79.8\" font-family=\"Times,serif\" font-size=\"14.00\">div einsum pow</text>\n",
       "</g>\n",
       "<!-- inp_mask&#45;&gt;inp_out_0 -->\n",
       "<g id=\"edge14\" class=\"edge\">\n",
       "<title>inp_mask&#45;&gt;inp_out_0</title>\n",
       "<path fill=\"none\" stroke=\"black\" d=\"M326.5,-435.71C326.5,-408.68 326.5,-354.75 326.5,-309 326.5,-309 326.5,-309 326.5,-235 326.5,-194.55 322.73,-183.47 307.5,-146 303.66,-136.55 298.19,-126.92 292.75,-118.46\"/>\n",
       "<polygon fill=\"black\" stroke=\"black\" points=\"295.64,-116.48 287.17,-110.11 289.82,-120.37 295.64,-116.48\"/>\n",
       "</g>\n",
       "<!-- .256&#45;&gt;input.3 -->\n",
       "<g id=\"edge4\" class=\"edge\">\n",
       "<title>.256&#45;&gt;input.3</title>\n",
       "<path fill=\"none\" stroke=\"black\" d=\"M92.94,-435.99C116.34,-426.39 145.84,-414.28 170.98,-403.97\"/>\n",
       "<polygon fill=\"black\" stroke=\"black\" points=\"172.45,-407.14 180.38,-400.11 169.8,-400.67 172.45,-407.14\"/>\n",
       "</g>\n",
       "<!-- .256&#45;&gt;inp_out_0 -->\n",
       "<g id=\"edge13\" class=\"edge\">\n",
       "<title>.256&#45;&gt;inp_out_0</title>\n",
       "<path fill=\"none\" stroke=\"black\" d=\"M55.65,-435.83C61.77,-408.95 72.5,-355.23 72.5,-309 72.5,-309 72.5,-309 72.5,-235 72.5,-170.63 141.79,-132.55 199,-112.08\"/>\n",
       "<polygon fill=\"black\" stroke=\"black\" points=\"200.48,-115.27 208.8,-108.7 198.2,-108.66 200.48,-115.27\"/>\n",
       "</g>\n",
       "<!-- .257&#45;&gt;input.3 -->\n",
       "<g id=\"edge7\" class=\"edge\">\n",
       "<title>.257&#45;&gt;input.3</title>\n",
       "<path fill=\"none\" stroke=\"black\" d=\"M389.8,-436.08C359.69,-426.23 321.46,-413.72 289.35,-403.22\"/>\n",
       "<polygon fill=\"black\" stroke=\"black\" points=\"290.19,-399.81 279.6,-400.03 288.01,-406.46 290.19,-399.81\"/>\n",
       "</g>\n",
       "<!-- .257&#45;&gt;inp_out_0 -->\n",
       "<g id=\"edge15\" class=\"edge\">\n",
       "<title>.257&#45;&gt;inp_out_0</title>\n",
       "<path fill=\"none\" stroke=\"black\" d=\"M433.61,-435.68C422.21,-409.03 402.5,-356.14 402.5,-309 402.5,-309 402.5,-309 402.5,-235 402.5,-182.22 353.46,-140.16 315.85,-115.67\"/>\n",
       "<polygon fill=\"black\" stroke=\"black\" points=\"317.38,-112.5 307.06,-110.12 313.65,-118.42 317.38,-112.5\"/>\n",
       "</g>\n",
       "<!-- .258&#45;&gt;input.3 -->\n",
       "<g id=\"edge5\" class=\"edge\">\n",
       "<title>.258&#45;&gt;input.3</title>\n",
       "<path fill=\"none\" stroke=\"black\" d=\"M214.65,-435.81C216.07,-428.03 217.8,-418.62 219.4,-409.86\"/>\n",
       "<polygon fill=\"black\" stroke=\"black\" points=\"222.84,-410.49 221.2,-400.02 215.96,-409.23 222.84,-410.49\"/>\n",
       "</g>\n",
       "<!-- .259 -->\n",
       "<g id=\"node8\" class=\"node\">\n",
       "<title>.259</title>\n",
       "<polygon fill=\"none\" stroke=\"black\" points=\"280.5,-326 164.5,-326 164.5,-290 280.5,-290 280.5,-326\"/>\n",
       "<text text-anchor=\"middle\" x=\"222.5\" y=\"-304.3\" font-family=\"Times,serif\" font-size=\"14.00\">dropout (Dropout)</text>\n",
       "</g>\n",
       "<!-- .259&#45;&gt;input -->\n",
       "<g id=\"edge9\" class=\"edge\">\n",
       "<title>.259&#45;&gt;input</title>\n",
       "<path fill=\"none\" stroke=\"black\" d=\"M222.01,-289.7C221.79,-281.98 221.52,-272.71 221.27,-264.11\"/>\n",
       "<polygon fill=\"black\" stroke=\"black\" points=\"224.77,-264 220.99,-254.1 217.78,-264.2 224.77,-264\"/>\n",
       "</g>\n",
       "<!-- input.3&#45;&gt;.259 -->\n",
       "<g id=\"edge8\" class=\"edge\">\n",
       "<title>input.3&#45;&gt;.259</title>\n",
       "<path fill=\"none\" stroke=\"black\" d=\"M223.98,-361.72C223.77,-353.97 223.51,-344.79 223.27,-336.27\"/>\n",
       "<polygon fill=\"black\" stroke=\"black\" points=\"226.76,-335.9 222.98,-326 219.76,-336.1 226.76,-335.9\"/>\n",
       "</g>\n",
       "<!-- .260 -->\n",
       "<g id=\"node10\" class=\"node\">\n",
       "<title>.260</title>\n",
       "<polygon fill=\"none\" stroke=\"black\" points=\"298.5,-182 142.5,-182 142.5,-146 298.5,-146 298.5,-182\"/>\n",
       "<text text-anchor=\"middle\" x=\"220.5\" y=\"-160.3\" font-family=\"Times,serif\" font-size=\"14.00\">layer_norm (LayerNorm)</text>\n",
       "</g>\n",
       "<!-- .260&#45;&gt;inp_out_0 -->\n",
       "<g id=\"edge12\" class=\"edge\">\n",
       "<title>.260&#45;&gt;inp_out_0</title>\n",
       "<path fill=\"none\" stroke=\"black\" d=\"M233.33,-145.81C239.52,-137.52 247.09,-127.39 253.97,-118.16\"/>\n",
       "<polygon fill=\"black\" stroke=\"black\" points=\"256.87,-120.13 260.05,-110.02 251.26,-115.94 256.87,-120.13\"/>\n",
       "</g>\n",
       "<!-- input&#45;&gt;.260 -->\n",
       "<g id=\"edge11\" class=\"edge\">\n",
       "<title>input&#45;&gt;.260</title>\n",
       "<path fill=\"none\" stroke=\"black\" d=\"M220.5,-217.7C220.5,-209.98 220.5,-200.71 220.5,-192.11\"/>\n",
       "<polygon fill=\"black\" stroke=\"black\" points=\"224,-192.1 220.5,-182.1 217,-192.1 224,-192.1\"/>\n",
       "</g>\n",
       "<!-- out_0 -->\n",
       "<g id=\"node12\" class=\"node\">\n",
       "<title>out_0</title>\n",
       "<ellipse fill=\"none\" stroke=\"black\" cx=\"273.5\" cy=\"-18\" rx=\"30.59\" ry=\"18\"/>\n",
       "<text text-anchor=\"middle\" x=\"273.5\" y=\"-14.3\" font-family=\"Times,serif\" font-size=\"14.00\">out_0</text>\n",
       "</g>\n",
       "<!-- inp_out_0&#45;&gt;out_0 -->\n",
       "<g id=\"edge16\" class=\"edge\">\n",
       "<title>inp_out_0&#45;&gt;out_0</title>\n",
       "<path fill=\"none\" stroke=\"black\" d=\"M273.5,-71.72C273.5,-63.97 273.5,-54.79 273.5,-46.27\"/>\n",
       "<polygon fill=\"black\" stroke=\"black\" points=\"277,-46 273.5,-36 270,-46 277,-46\"/>\n",
       "</g>\n",
       "</g>\n",
       "</svg>\n"
      ],
      "text/plain": [
       "<graphviz.graphs.Digraph at 0x7f9c4cf41b50>"
      ]
     },
     "execution_count": 16,
     "metadata": {},
     "output_type": "execute_result"
    }
   ],
   "source": [
    "\"\"\"Simple test\"\"\"\n",
    "aa = AttentionAddNorm(config)\n",
    "print(aa)\n",
    "q = torch.randn(batch_size, config.seq_len, config.d_model)\n",
    "k = torch.randn(batch_size, config.seq_len, config.d_model)\n",
    "v = torch.randn(batch_size, config.seq_len, config.d_model)\n",
    "mask = torch.randint(low=0, high=32, size=(batch_size, config.seq_len, config.seq_len)).eq(3)\n",
    "\n",
    "outs, _ = aa(q, k, v, mask)\n",
    "assert outs.shape == q.shape\n",
    "\n",
    "d = display_module(aa, [q, k, v, mask])\n",
    "d"
   ]
  },
  {
   "cell_type": "markdown",
   "metadata": {},
   "source": [
    "EncoderBlock"
   ]
  },
  {
   "cell_type": "code",
   "execution_count": 17,
   "metadata": {},
   "outputs": [],
   "source": [
    "class EncoderBlock(nn.Module):\n",
    "    def __init__(self, config):\n",
    "        super().__init__()\n",
    "        self.self_attention = AttentionAddNorm(config)\n",
    "        self.feed_forward = FeedForwardAddNorm(config)\n",
    "        \n",
    "    def forward(self, src_embeddings, src_masks):\n",
    "        x, _ = self.self_attention(src_embeddings, src_embeddings, src_embeddings, src_masks)\n",
    "        return self.feed_forward(x)"
   ]
  },
  {
   "cell_type": "code",
   "execution_count": 18,
   "metadata": {},
   "outputs": [
    {
     "name": "stdout",
     "output_type": "stream",
     "text": [
      "aten::einsum %141 : Float(32, 2, 165, 165, strides=[54450, 27225, 165, 1], requires_grad=1, device=cpu) = aten::einsum(%139, %140), scope: __module.self_attention # /home/linh-miaw/anaconda3/envs/py39/lib/python3.9/site-packages/torch/functional.py:299:0\n",
      "\n",
      "aten::div %similar_score : Float(32, 2, 165, 165, strides=[54450, 27225, 165, 1], requires_grad=1, device=cpu) = aten::div(%141, %143), scope: __module.self_attention # /tmp/ipykernel_29433/631784733.py:14:0\n",
      "\n",
      "aten::masked_fill %input.1 : Float(32, 2, 165, 165, strides=[54450, 27225, 165, 1], requires_grad=1, device=cpu) = aten::masked_fill(%similar_score, %146, %148), scope: __module.self_attention # /tmp/ipykernel_29433/631784733.py:15:0\n",
      "\n",
      "aten::softmax %152 : Float(32, 2, 165, 165, strides=[54450, 27225, 165, 1], requires_grad=1, device=cpu) = aten::softmax(%input.1, %150, %151), scope: __module.self_attention # /home/linh-miaw/anaconda3/envs/py39/lib/python3.9/site-packages/torch/nn/functional.py:1679:0\n",
      "\n",
      "aten::einsum %input.3 : Float(32, 165, 2, 64, strides=[21120, 64, 10560, 1], requires_grad=1, device=cpu) = aten::einsum(%153, %154), scope: __module.self_attention # /home/linh-miaw/anaconda3/envs/py39/lib/python3.9/site-packages/torch/functional.py:299:0\n",
      "\n",
      "aten::add %input.5 : Float(32, 165, 128, strides=[21120, 128, 1], requires_grad=1, device=cpu) = aten::add(%src_embeddings, %attention, %201), scope: __module.self_attention # /tmp/ipykernel_29433/891953927.py:19:0\n",
      "\n"
     ]
    },
    {
     "data": {
      "image/svg+xml": [
       "<?xml version=\"1.0\" encoding=\"UTF-8\" standalone=\"no\"?>\n",
       "<!DOCTYPE svg PUBLIC \"-//W3C//DTD SVG 1.1//EN\"\n",
       " \"http://www.w3.org/Graphics/SVG/1.1/DTD/svg11.dtd\">\n",
       "<!-- Generated by graphviz version 2.43.0 (0)\n",
       " -->\n",
       "<!-- Title: %3 Pages: 1 -->\n",
       "<svg width=\"1010pt\" height=\"720pt\"\n",
       " viewBox=\"0.00 0.00 1009.69 720.00\" xmlns=\"http://www.w3.org/2000/svg\" xmlns:xlink=\"http://www.w3.org/1999/xlink\">\n",
       "<g id=\"graph0\" class=\"graph\" transform=\"scale(1 1) rotate(0) translate(4 716)\">\n",
       "<title>%3</title>\n",
       "<polygon fill=\"white\" stroke=\"transparent\" points=\"-4,4 -4,-716 1005.69,-716 1005.69,4 -4,4\"/>\n",
       "<text text-anchor=\"middle\" x=\"500.85\" y=\"-696.8\" font-family=\"Times,serif\" font-size=\"14.00\">EncoderBlock</text>\n",
       "<g id=\"clust1\" class=\"cluster\">\n",
       "<title>cluster_.320</title>\n",
       "<polygon fill=\"none\" stroke=\"black\" points=\"8,-136 8,-645 866,-645 866,-136 8,-136\"/>\n",
       "<text text-anchor=\"middle\" x=\"437\" y=\"-629.8\" font-family=\"Times,serif\" font-size=\"14.00\">self_attention (AttentionAddNorm)</text>\n",
       "</g>\n",
       "<!-- inp_src_embeddings -->\n",
       "<g id=\"node1\" class=\"node\">\n",
       "<title>inp_src_embeddings</title>\n",
       "<ellipse fill=\"none\" stroke=\"black\" cx=\"403\" cy=\"-671\" rx=\"83.69\" ry=\"18\"/>\n",
       "<text text-anchor=\"middle\" x=\"403\" y=\"-667.3\" font-family=\"Times,serif\" font-size=\"14.00\">inp_src_embeddings</text>\n",
       "</g>\n",
       "<!-- self_attention.inp_src_embeddings -->\n",
       "<g id=\"node3\" class=\"node\">\n",
       "<title>self_attention.inp_src_embeddings</title>\n",
       "<ellipse fill=\"none\" stroke=\"black\" cx=\"403\" cy=\"-596\" rx=\"133.78\" ry=\"18\"/>\n",
       "<text text-anchor=\"middle\" x=\"403\" y=\"-592.3\" font-family=\"Times,serif\" font-size=\"14.00\">self_attention.inp_src_embeddings</text>\n",
       "</g>\n",
       "<!-- inp_src_embeddings&#45;&gt;self_attention.inp_src_embeddings -->\n",
       "<g id=\"edge1\" class=\"edge\">\n",
       "<title>inp_src_embeddings&#45;&gt;self_attention.inp_src_embeddings</title>\n",
       "<path fill=\"none\" stroke=\"black\" d=\"M403,-652.7C403,-644.25 403,-633.87 403,-624.37\"/>\n",
       "<polygon fill=\"black\" stroke=\"black\" points=\"406.5,-624.18 403,-614.18 399.5,-624.18 406.5,-624.18\"/>\n",
       "</g>\n",
       "<!-- inp_src_masks -->\n",
       "<g id=\"node2\" class=\"node\">\n",
       "<title>inp_src_masks</title>\n",
       "<ellipse fill=\"none\" stroke=\"black\" cx=\"938\" cy=\"-596\" rx=\"63.89\" ry=\"18\"/>\n",
       "<text text-anchor=\"middle\" x=\"938\" y=\"-592.3\" font-family=\"Times,serif\" font-size=\"14.00\">inp_src_masks</text>\n",
       "</g>\n",
       "<!-- self_attention.inp_src_masks -->\n",
       "<g id=\"node4\" class=\"node\">\n",
       "<title>self_attention.inp_src_masks</title>\n",
       "<ellipse fill=\"none\" stroke=\"black\" cx=\"744\" cy=\"-524\" rx=\"113.98\" ry=\"18\"/>\n",
       "<text text-anchor=\"middle\" x=\"744\" y=\"-520.3\" font-family=\"Times,serif\" font-size=\"14.00\">self_attention.inp_src_masks</text>\n",
       "</g>\n",
       "<!-- inp_src_masks&#45;&gt;self_attention.inp_src_masks -->\n",
       "<g id=\"edge2\" class=\"edge\">\n",
       "<title>inp_src_masks&#45;&gt;self_attention.inp_src_masks</title>\n",
       "<path fill=\"none\" stroke=\"black\" d=\"M900.13,-581.34C870.85,-570.77 829.95,-556.01 797.35,-544.25\"/>\n",
       "<polygon fill=\"black\" stroke=\"black\" points=\"798.12,-540.81 787.53,-540.71 795.75,-547.39 798.12,-540.81\"/>\n",
       "</g>\n",
       "<!-- self_attention..204 -->\n",
       "<g id=\"node5\" class=\"node\">\n",
       "<title>self_attention..204</title>\n",
       "<polygon fill=\"none\" stroke=\"black\" points=\"394,-542 214,-542 214,-506 394,-506 394,-542\"/>\n",
       "<text text-anchor=\"middle\" x=\"304\" y=\"-520.3\" font-family=\"Times,serif\" font-size=\"14.00\">self_attention.Q_proj (Linear)</text>\n",
       "</g>\n",
       "<!-- self_attention.inp_src_embeddings&#45;&gt;self_attention..204 -->\n",
       "<g id=\"edge3\" class=\"edge\">\n",
       "<title>self_attention.inp_src_embeddings&#45;&gt;self_attention..204</title>\n",
       "<path fill=\"none\" stroke=\"black\" d=\"M379.29,-578.23C366.5,-569.19 350.52,-557.89 336.58,-548.03\"/>\n",
       "<polygon fill=\"black\" stroke=\"black\" points=\"338.39,-545.03 328.21,-542.12 334.35,-550.75 338.39,-545.03\"/>\n",
       "</g>\n",
       "<!-- self_attention..205 -->\n",
       "<g id=\"node6\" class=\"node\">\n",
       "<title>self_attention..205</title>\n",
       "<polygon fill=\"none\" stroke=\"black\" points=\"592,-542 412,-542 412,-506 592,-506 592,-542\"/>\n",
       "<text text-anchor=\"middle\" x=\"502\" y=\"-520.3\" font-family=\"Times,serif\" font-size=\"14.00\">self_attention.K_proj (Linear)</text>\n",
       "</g>\n",
       "<!-- self_attention.inp_src_embeddings&#45;&gt;self_attention..205 -->\n",
       "<g id=\"edge4\" class=\"edge\">\n",
       "<title>self_attention.inp_src_embeddings&#45;&gt;self_attention..205</title>\n",
       "<path fill=\"none\" stroke=\"black\" d=\"M426.71,-578.23C439.5,-569.19 455.48,-557.89 469.42,-548.03\"/>\n",
       "<polygon fill=\"black\" stroke=\"black\" points=\"471.65,-550.75 477.79,-542.12 467.61,-545.03 471.65,-550.75\"/>\n",
       "</g>\n",
       "<!-- self_attention..206 -->\n",
       "<g id=\"node7\" class=\"node\">\n",
       "<title>self_attention..206</title>\n",
       "<polygon fill=\"none\" stroke=\"black\" points=\"196,-542 16,-542 16,-506 196,-506 196,-542\"/>\n",
       "<text text-anchor=\"middle\" x=\"106\" y=\"-520.3\" font-family=\"Times,serif\" font-size=\"14.00\">self_attention.V_proj (Linear)</text>\n",
       "</g>\n",
       "<!-- self_attention.inp_src_embeddings&#45;&gt;self_attention..206 -->\n",
       "<g id=\"edge5\" class=\"edge\">\n",
       "<title>self_attention.inp_src_embeddings&#45;&gt;self_attention..206</title>\n",
       "<path fill=\"none\" stroke=\"black\" d=\"M339.65,-580.07C295.51,-569.67 236.22,-555.69 188.41,-544.42\"/>\n",
       "<polygon fill=\"black\" stroke=\"black\" points=\"188.93,-540.95 178.39,-542.06 187.32,-547.76 188.93,-540.95\"/>\n",
       "</g>\n",
       "<!-- self_attention.input.5 -->\n",
       "<g id=\"node11\" class=\"node\">\n",
       "<title>self_attention.input.5</title>\n",
       "<path fill=\"none\" stroke=\"black\" d=\"M568,-324C568,-324 538,-324 538,-324 532,-324 526,-318 526,-312 526,-312 526,-300 526,-300 526,-294 532,-288 538,-288 538,-288 568,-288 568,-288 574,-288 580,-294 580,-300 580,-300 580,-312 580,-312 580,-318 574,-324 568,-324\"/>\n",
       "<text text-anchor=\"middle\" x=\"553\" y=\"-302.3\" font-family=\"Times,serif\" font-size=\"14.00\">add</text>\n",
       "</g>\n",
       "<!-- self_attention.inp_src_embeddings&#45;&gt;self_attention.input.5 -->\n",
       "<g id=\"edge12\" class=\"edge\">\n",
       "<title>self_attention.inp_src_embeddings&#45;&gt;self_attention.input.5</title>\n",
       "<path fill=\"none\" stroke=\"black\" d=\"M490.25,-582.3C536.66,-573.57 587,-560.24 601,-542 625.63,-509.92 615.55,-397.74 601,-360 596.9,-349.36 589.56,-339.53 581.83,-331.3\"/>\n",
       "<polygon fill=\"black\" stroke=\"black\" points=\"584.27,-328.78 574.71,-324.21 579.33,-333.75 584.27,-328.78\"/>\n",
       "</g>\n",
       "<!-- self_attention.input.3 -->\n",
       "<g id=\"node9\" class=\"node\">\n",
       "<title>self_attention.input.3</title>\n",
       "<path fill=\"none\" stroke=\"black\" d=\"M547.5,-470C547.5,-470 442.5,-470 442.5,-470 436.5,-470 430.5,-464 430.5,-458 430.5,-458 430.5,-444 430.5,-444 430.5,-438 436.5,-432 442.5,-432 442.5,-432 547.5,-432 547.5,-432 553.5,-432 559.5,-438 559.5,-444 559.5,-444 559.5,-458 559.5,-458 559.5,-464 553.5,-470 547.5,-470\"/>\n",
       "<text text-anchor=\"middle\" x=\"495\" y=\"-454.8\" font-family=\"Times,serif\" font-size=\"14.00\">softmax masked_fill</text>\n",
       "<text text-anchor=\"middle\" x=\"495\" y=\"-439.8\" font-family=\"Times,serif\" font-size=\"14.00\">div einsum pow</text>\n",
       "</g>\n",
       "<!-- self_attention.inp_src_masks&#45;&gt;self_attention.input.3 -->\n",
       "<g id=\"edge6\" class=\"edge\">\n",
       "<title>self_attention.inp_src_masks&#45;&gt;self_attention.input.3</title>\n",
       "<path fill=\"none\" stroke=\"black\" d=\"M691.5,-508.03C655.72,-497.83 607.86,-484.18 568.33,-472.91\"/>\n",
       "<polygon fill=\"black\" stroke=\"black\" points=\"569.04,-469.47 558.47,-470.1 567.12,-476.21 569.04,-469.47\"/>\n",
       "</g>\n",
       "<!-- self_attention..204&#45;&gt;self_attention.input.3 -->\n",
       "<g id=\"edge7\" class=\"edge\">\n",
       "<title>self_attention..204&#45;&gt;self_attention.input.3</title>\n",
       "<path fill=\"none\" stroke=\"black\" d=\"M349.75,-505.99C375.81,-496.31 408.73,-484.07 436.64,-473.69\"/>\n",
       "<polygon fill=\"black\" stroke=\"black\" points=\"438.13,-476.87 446.29,-470.11 435.69,-470.31 438.13,-476.87\"/>\n",
       "</g>\n",
       "<!-- self_attention..205&#45;&gt;self_attention.input.3 -->\n",
       "<g id=\"edge9\" class=\"edge\">\n",
       "<title>self_attention..205&#45;&gt;self_attention.input.3</title>\n",
       "<path fill=\"none\" stroke=\"black\" d=\"M500.31,-505.81C499.55,-498.11 498.63,-488.82 497.78,-480.15\"/>\n",
       "<polygon fill=\"black\" stroke=\"black\" points=\"501.24,-479.63 496.78,-470.02 494.27,-480.31 501.24,-479.63\"/>\n",
       "</g>\n",
       "<!-- self_attention..206&#45;&gt;self_attention.input.3 -->\n",
       "<g id=\"edge8\" class=\"edge\">\n",
       "<title>self_attention..206&#45;&gt;self_attention.input.3</title>\n",
       "<path fill=\"none\" stroke=\"black\" d=\"M196.22,-506.53C264.29,-494.11 356.55,-477.27 420.46,-465.61\"/>\n",
       "<polygon fill=\"black\" stroke=\"black\" points=\"421.26,-469.02 430.46,-463.78 420,-462.13 421.26,-469.02\"/>\n",
       "</g>\n",
       "<!-- self_attention..207 -->\n",
       "<g id=\"node8\" class=\"node\">\n",
       "<title>self_attention..207</title>\n",
       "<polygon fill=\"none\" stroke=\"black\" points=\"592,-396 398,-396 398,-360 592,-360 592,-396\"/>\n",
       "<text text-anchor=\"middle\" x=\"495\" y=\"-374.3\" font-family=\"Times,serif\" font-size=\"14.00\">self_attention.dropout (Dropout)</text>\n",
       "</g>\n",
       "<!-- self_attention..207&#45;&gt;self_attention.input.5 -->\n",
       "<g id=\"edge11\" class=\"edge\">\n",
       "<title>self_attention..207&#45;&gt;self_attention.input.5</title>\n",
       "<path fill=\"none\" stroke=\"black\" d=\"M509.34,-359.7C516.29,-351.3 524.77,-341.07 532.4,-331.86\"/>\n",
       "<polygon fill=\"black\" stroke=\"black\" points=\"535.14,-334.04 538.83,-324.1 529.75,-329.57 535.14,-334.04\"/>\n",
       "</g>\n",
       "<!-- self_attention.input.3&#45;&gt;self_attention..207 -->\n",
       "<g id=\"edge10\" class=\"edge\">\n",
       "<title>self_attention.input.3&#45;&gt;self_attention..207</title>\n",
       "<path fill=\"none\" stroke=\"black\" d=\"M495,-431.72C495,-423.97 495,-414.79 495,-406.27\"/>\n",
       "<polygon fill=\"black\" stroke=\"black\" points=\"498.5,-406 495,-396 491.5,-406 498.5,-406\"/>\n",
       "</g>\n",
       "<!-- self_attention..208 -->\n",
       "<g id=\"node10\" class=\"node\">\n",
       "<title>self_attention..208</title>\n",
       "<polygon fill=\"none\" stroke=\"black\" points=\"669.5,-252 436.5,-252 436.5,-216 669.5,-216 669.5,-252\"/>\n",
       "<text text-anchor=\"middle\" x=\"553\" y=\"-230.3\" font-family=\"Times,serif\" font-size=\"14.00\">self_attention.layer_norm (LayerNorm)</text>\n",
       "</g>\n",
       "<!-- self_attention.out_0 -->\n",
       "<g id=\"node12\" class=\"node\">\n",
       "<title>self_attention.out_0</title>\n",
       "<ellipse fill=\"none\" stroke=\"black\" cx=\"553\" cy=\"-162\" rx=\"81.49\" ry=\"18\"/>\n",
       "<text text-anchor=\"middle\" x=\"553\" y=\"-158.3\" font-family=\"Times,serif\" font-size=\"14.00\">self_attention.out_0</text>\n",
       "</g>\n",
       "<!-- self_attention..208&#45;&gt;self_attention.out_0 -->\n",
       "<g id=\"edge14\" class=\"edge\">\n",
       "<title>self_attention..208&#45;&gt;self_attention.out_0</title>\n",
       "<path fill=\"none\" stroke=\"black\" d=\"M553,-215.7C553,-207.98 553,-198.71 553,-190.11\"/>\n",
       "<polygon fill=\"black\" stroke=\"black\" points=\"556.5,-190.1 553,-180.1 549.5,-190.1 556.5,-190.1\"/>\n",
       "</g>\n",
       "<!-- self_attention.input.5&#45;&gt;self_attention..208 -->\n",
       "<g id=\"edge13\" class=\"edge\">\n",
       "<title>self_attention.input.5&#45;&gt;self_attention..208</title>\n",
       "<path fill=\"none\" stroke=\"black\" d=\"M553,-287.7C553,-279.98 553,-270.71 553,-262.11\"/>\n",
       "<polygon fill=\"black\" stroke=\"black\" points=\"556.5,-262.1 553,-252.1 549.5,-262.1 556.5,-262.1\"/>\n",
       "</g>\n",
       "<!-- .321 -->\n",
       "<g id=\"node13\" class=\"node\">\n",
       "<title>.321</title>\n",
       "<polygon fill=\"none\" stroke=\"black\" points=\"668,-108 438,-108 438,-72 668,-72 668,-108\"/>\n",
       "<text text-anchor=\"middle\" x=\"553\" y=\"-86.3\" font-family=\"Times,serif\" font-size=\"14.00\">feed_forward (FeedForwardAddNorm)</text>\n",
       "</g>\n",
       "<!-- self_attention.out_0&#45;&gt;.321 -->\n",
       "<g id=\"edge15\" class=\"edge\">\n",
       "<title>self_attention.out_0&#45;&gt;.321</title>\n",
       "<path fill=\"none\" stroke=\"black\" d=\"M553,-143.7C553,-135.98 553,-126.71 553,-118.11\"/>\n",
       "<polygon fill=\"black\" stroke=\"black\" points=\"556.5,-118.1 553,-108.1 549.5,-118.1 556.5,-118.1\"/>\n",
       "</g>\n",
       "<!-- out_0 -->\n",
       "<g id=\"node14\" class=\"node\">\n",
       "<title>out_0</title>\n",
       "<ellipse fill=\"none\" stroke=\"black\" cx=\"553\" cy=\"-18\" rx=\"30.59\" ry=\"18\"/>\n",
       "<text text-anchor=\"middle\" x=\"553\" y=\"-14.3\" font-family=\"Times,serif\" font-size=\"14.00\">out_0</text>\n",
       "</g>\n",
       "<!-- .321&#45;&gt;out_0 -->\n",
       "<g id=\"edge16\" class=\"edge\">\n",
       "<title>.321&#45;&gt;out_0</title>\n",
       "<path fill=\"none\" stroke=\"black\" d=\"M553,-71.7C553,-63.98 553,-54.71 553,-46.11\"/>\n",
       "<polygon fill=\"black\" stroke=\"black\" points=\"556.5,-46.1 553,-36.1 549.5,-46.1 556.5,-46.1\"/>\n",
       "</g>\n",
       "</g>\n",
       "</svg>\n"
      ],
      "text/plain": [
       "<graphviz.graphs.Digraph at 0x7f9c4d0224f0>"
      ]
     },
     "execution_count": 18,
     "metadata": {},
     "output_type": "execute_result"
    }
   ],
   "source": [
    "\"\"\"Simple test\"\"\"\n",
    "block = EncoderBlock(config)\n",
    "src_embedding = torch.randn(batch_size, config.seq_len, config.d_model)\n",
    "src_mask = torch.randint(low=0, high=32, size=(batch_size, config.seq_len, config.seq_len)).eq(3)\n",
    "\n",
    "outs = block(src_embedding, src_mask)\n",
    "assert outs.shape == src_embedding.shape\n",
    "d = display_module(block, [src_embedding, src_mask], classes_to_visit={\"AttentionAddNorm\"})\n",
    "d"
   ]
  },
  {
   "cell_type": "code",
   "execution_count": 19,
   "metadata": {},
   "outputs": [],
   "source": [
    "def generate_positional_encoding(seq_len, d_model):\n",
    "    \"\"\" Return sinusoid matrix `pe` with shape seq_len x d_model\n",
    "    Arguments:\n",
    "        seq_len: max number of tokens for a sequence\n",
    "        d_model: length of vector position\n",
    "    Return:\n",
    "        pe: position encoding matrix in Vaswani et al,.\n",
    "        pe is a matrix with shape (seq_len, d_model)\n",
    "        and \n",
    "        pe[pos_id, 2i] =  sin(pos_id/10000^(2i / d_model)) \n",
    "        pe[pos_id, 2i+1] =  cos(pos_id/10000^(2i / d_model)) \n",
    "    \"\"\"\n",
    "    t = np.array([1/10000**(2*i / d_model) for i in range(d_model//2)])\n",
    "    pe = [np.ravel([np.sin(pos_id*t), np.cos(pos_id*t)], 'F') for pos_id in range(seq_len)]\n",
    "    pe = torch.tensor(pe)\n",
    "    return pe"
   ]
  },
  {
   "cell_type": "code",
   "execution_count": 20,
   "metadata": {},
   "outputs": [
    {
     "data": {
      "image/png": "[encoded data removed]",
      "text/plain": [
       "<Figure size 432x288 with 1 Axes>"
      ]
     },
     "metadata": {
      "needs_background": "light"
     },
     "output_type": "display_data"
    }
   ],
   "source": [
    "\"\"\"Simple test\"\"\"\n",
    "pe = generate_positional_encoding(256, 512)\n",
    "assert pe.shape == (256, 512)\n",
    "assert pe[0, 0::2].sum() == 0 \n",
    "assert pe[0, 1::2].sum() == 512/2\n",
    "plt.imshow(pe)\n",
    "plt.show()"
   ]
  },
  {
   "cell_type": "markdown",
   "metadata": {},
   "source": [
    "### Embedding for sound?\n",
    "\n",
    "For sound file, we already extract features with `model_dim`, so no need to get embedding. \n",
    "We also don't need positional encoding. \n",
    "\n",
    "Now we only have to calculate `src_mask` sequences."
   ]
  },
  {
   "cell_type": "code",
   "execution_count": 21,
   "metadata": {},
   "outputs": [],
   "source": [
    "class TransformerEncoder(nn.Module):\n",
    "    def __init__(self, config):\n",
    "        super().__init__()\n",
    "        self.blocks = nn.ModuleList([])\n",
    "        for i in range(config.num_encoder_layers):\n",
    "            self.blocks.append(EncoderBlock(config))\n",
    "\n",
    "    def forward(self, src_ids, src_mask):\n",
    "        x = src_ids\n",
    "        for encoder in self.blocks:\n",
    "            x = encoder(x, src_mask)\n",
    "        return x"
   ]
  },
  {
   "cell_type": "code",
   "execution_count": 22,
   "metadata": {},
   "outputs": [
    {
     "data": {
      "image/svg+xml": [
       "<?xml version=\"1.0\" encoding=\"UTF-8\" standalone=\"no\"?>\n",
       "<!DOCTYPE svg PUBLIC \"-//W3C//DTD SVG 1.1//EN\"\n",
       " \"http://www.w3.org/Graphics/SVG/1.1/DTD/svg11.dtd\">\n",
       "<!-- Generated by graphviz version 2.43.0 (0)\n",
       " -->\n",
       "<!-- Title: %3 Pages: 1 -->\n",
       "<svg width=\"248pt\" height=\"283pt\"\n",
       " viewBox=\"0.00 0.00 248.14 283.00\" xmlns=\"http://www.w3.org/2000/svg\" xmlns:xlink=\"http://www.w3.org/1999/xlink\">\n",
       "<g id=\"graph0\" class=\"graph\" transform=\"scale(1 1) rotate(0) translate(4 279)\">\n",
       "<title>%3</title>\n",
       "<polygon fill=\"white\" stroke=\"transparent\" points=\"-4,4 -4,-279 244.14,-279 244.14,4 -4,4\"/>\n",
       "<text text-anchor=\"middle\" x=\"120.07\" y=\"-259.8\" font-family=\"Times,serif\" font-size=\"14.00\">TransformerEncoder</text>\n",
       "<!-- inp_src_ids -->\n",
       "<g id=\"node1\" class=\"node\">\n",
       "<title>inp_src_ids</title>\n",
       "<ellipse fill=\"none\" stroke=\"black\" cx=\"51.35\" cy=\"-234\" rx=\"51.19\" ry=\"18\"/>\n",
       "<text text-anchor=\"middle\" x=\"51.35\" y=\"-230.3\" font-family=\"Times,serif\" font-size=\"14.00\">inp_src_ids</text>\n",
       "</g>\n",
       "<!-- .652 -->\n",
       "<g id=\"node3\" class=\"node\">\n",
       "<title>.652</title>\n",
       "<polygon fill=\"none\" stroke=\"black\" points=\"152.35,-180 0.35,-180 0.35,-144 152.35,-144 152.35,-180\"/>\n",
       "<text text-anchor=\"middle\" x=\"76.35\" y=\"-158.3\" font-family=\"Times,serif\" font-size=\"14.00\">blocks.0 (EncoderBlock)</text>\n",
       "</g>\n",
       "<!-- inp_src_ids&#45;&gt;.652 -->\n",
       "<g id=\"edge1\" class=\"edge\">\n",
       "<title>inp_src_ids&#45;&gt;.652</title>\n",
       "<path fill=\"none\" stroke=\"black\" d=\"M57.4,-216.05C60.21,-208.18 63.63,-198.62 66.78,-189.79\"/>\n",
       "<polygon fill=\"black\" stroke=\"black\" points=\"70.11,-190.87 70.18,-180.28 63.52,-188.52 70.11,-190.87\"/>\n",
       "</g>\n",
       "<!-- inp_src_mask -->\n",
       "<g id=\"node2\" class=\"node\">\n",
       "<title>inp_src_mask</title>\n",
       "<ellipse fill=\"none\" stroke=\"black\" cx=\"180.35\" cy=\"-234\" rx=\"59.59\" ry=\"18\"/>\n",
       "<text text-anchor=\"middle\" x=\"180.35\" y=\"-230.3\" font-family=\"Times,serif\" font-size=\"14.00\">inp_src_mask</text>\n",
       "</g>\n",
       "<!-- inp_src_mask&#45;&gt;.652 -->\n",
       "<g id=\"edge2\" class=\"edge\">\n",
       "<title>inp_src_mask&#45;&gt;.652</title>\n",
       "<path fill=\"none\" stroke=\"black\" d=\"M157.01,-217.29C143.29,-208.06 125.7,-196.22 110.45,-185.96\"/>\n",
       "<polygon fill=\"black\" stroke=\"black\" points=\"112.04,-182.81 101.79,-180.13 108.13,-188.61 112.04,-182.81\"/>\n",
       "</g>\n",
       "<!-- .653 -->\n",
       "<g id=\"node4\" class=\"node\">\n",
       "<title>.653</title>\n",
       "<polygon fill=\"none\" stroke=\"black\" points=\"204.35,-108 52.35,-108 52.35,-72 204.35,-72 204.35,-108\"/>\n",
       "<text text-anchor=\"middle\" x=\"128.35\" y=\"-86.3\" font-family=\"Times,serif\" font-size=\"14.00\">blocks.1 (EncoderBlock)</text>\n",
       "</g>\n",
       "<!-- inp_src_mask&#45;&gt;.653 -->\n",
       "<g id=\"edge4\" class=\"edge\">\n",
       "<title>inp_src_mask&#45;&gt;.653</title>\n",
       "<path fill=\"none\" stroke=\"black\" d=\"M178.46,-215.75C176.05,-197.43 170.98,-167.88 161.35,-144 157.59,-134.7 152.24,-125.2 146.94,-116.86\"/>\n",
       "<polygon fill=\"black\" stroke=\"black\" points=\"149.72,-114.72 141.28,-108.32 143.89,-118.59 149.72,-114.72\"/>\n",
       "</g>\n",
       "<!-- .652&#45;&gt;.653 -->\n",
       "<g id=\"edge3\" class=\"edge\">\n",
       "<title>.652&#45;&gt;.653</title>\n",
       "<path fill=\"none\" stroke=\"black\" d=\"M89.2,-143.7C95.37,-135.39 102.88,-125.28 109.67,-116.14\"/>\n",
       "<polygon fill=\"black\" stroke=\"black\" points=\"112.49,-118.22 115.64,-108.1 106.87,-114.04 112.49,-118.22\"/>\n",
       "</g>\n",
       "<!-- out_0 -->\n",
       "<g id=\"node5\" class=\"node\">\n",
       "<title>out_0</title>\n",
       "<ellipse fill=\"none\" stroke=\"black\" cx=\"128.35\" cy=\"-18\" rx=\"30.59\" ry=\"18\"/>\n",
       "<text text-anchor=\"middle\" x=\"128.35\" y=\"-14.3\" font-family=\"Times,serif\" font-size=\"14.00\">out_0</text>\n",
       "</g>\n",
       "<!-- .653&#45;&gt;out_0 -->\n",
       "<g id=\"edge5\" class=\"edge\">\n",
       "<title>.653&#45;&gt;out_0</title>\n",
       "<path fill=\"none\" stroke=\"black\" d=\"M128.35,-71.7C128.35,-63.98 128.35,-54.71 128.35,-46.11\"/>\n",
       "<polygon fill=\"black\" stroke=\"black\" points=\"131.85,-46.1 128.35,-36.1 124.85,-46.1 131.85,-46.1\"/>\n",
       "</g>\n",
       "</g>\n",
       "</svg>\n"
      ],
      "text/plain": [
       "<graphviz.graphs.Digraph at 0x7f9c47b9b700>"
      ]
     },
     "execution_count": 22,
     "metadata": {},
     "output_type": "execute_result"
    }
   ],
   "source": [
    "\"\"\"Simple test\"\"\"\n",
    "inp = torch.rand(size=(batch_size, config.seq_len, config.d_model))\n",
    "mask = torch.zeros(batch_size, config.seq_len, config.seq_len)\n",
    "encoder = TransformerEncoder(config)\n",
    "out = encoder(inp, mask)\n",
    "assert out.shape == (batch_size, config.seq_len, config.d_model)\n",
    "d = display_module(encoder, [inp, mask])\n",
    "d"
   ]
  },
  {
   "cell_type": "code",
   "execution_count": null,
   "metadata": {},
   "outputs": [],
   "source": []
  },
  {
   "cell_type": "code",
   "execution_count": null,
   "metadata": {},
   "outputs": [],
   "source": []
  },
  {
   "cell_type": "markdown",
   "metadata": {},
   "source": [
    "### causal mask"
   ]
  },
  {
   "cell_type": "code",
   "execution_count": 23,
   "metadata": {},
   "outputs": [
    {
     "name": "stdout",
     "output_type": "stream",
     "text": [
      "tensor([[False,  True,  True,  True,  True],\n",
      "        [False, False,  True,  True,  True],\n",
      "        [False, False, False,  True,  True],\n",
      "        [False, False, False, False,  True],\n",
      "        [False, False, False, False, False]])\n"
     ]
    },
    {
     "data": {
      "image/png": "[encoded data removed]",
      "text/plain": [
       "<Figure size 432x288 with 1 Axes>"
      ]
     },
     "metadata": {
      "needs_background": "light"
     },
     "output_type": "display_data"
    }
   ],
   "source": [
    "def generate_causal_mask(size):\n",
    "    \"\"\"Generate subsequent mask\n",
    "    Arguments:\n",
    "        size: int, number of decode steps\n",
    "    Return:\n",
    "        mask: torch.LongTensor shape (size, size)\n",
    "        where mask[i, :i+1] = 0, and mask[i, i+1:] = 1\n",
    "    \"\"\"\n",
    "    mask = torch.ones((size, size))\n",
    "    # triu: Upper triangular, diagonal=1 mean\n",
    "    # we take the first upper (include diagonal)\n",
    "    return torch.triu(mask, diagonal=1).bool()\n",
    "\n",
    "mask = generate_causal_mask(5)\n",
    "print(mask)\n",
    "plt.imshow(mask.numpy())\n",
    "plt.xlabel(\"keys\")\n",
    "plt.ylabel(\"queries\")\n",
    "plt.show()"
   ]
  },
  {
   "cell_type": "code",
   "execution_count": 24,
   "metadata": {},
   "outputs": [
    {
     "data": {
      "image/png": "[encoded data removed]",
      "text/plain": [
       "<Figure size 1080x360 with 3 Axes>"
      ]
     },
     "metadata": {
      "needs_background": "light"
     },
     "output_type": "display_data"
    }
   ],
   "source": [
    "tgt_indices = torch.tensor([[2, 10, 8, 6, 14, 3, 4, 4, 4]]).long() # <BOS> I go to school <EOS> <PAD> <PAD>\n",
    "pad_id   = 4\n",
    "seq_len = tgt_indices.size(1)\n",
    "pad_mask = tgt_indices.eq(pad_id) # B, seq_len\n",
    "causal_mask = generate_causal_mask(seq_len) # seq_len seq_len\n",
    "plt.figure(figsize=(15, 5))\n",
    "\n",
    "plt.subplot(1, 3, 1)\n",
    "plt.title(\"pad_mask[0]\")\n",
    "plt.imshow(pad_mask.numpy())\n",
    "\n",
    "plt.subplot(1, 3, 2)\n",
    "plt.title(\"causal_mask[0]\")\n",
    "plt.imshow(causal_mask.numpy())\n",
    "plt.xlabel(\"keys\")\n",
    "plt.ylabel(\"queries\")\n",
    "\n",
    "tgt_mask = pad_mask.unsqueeze(1).repeat((1, seq_len, 1)) | causal_mask  # OR operator\n",
    "\n",
    "plt.subplot(1, 3, 3)\n",
    "plt.title(\"tgt_masks[0]\")\n",
    "plt.imshow(tgt_mask[0].numpy())\n",
    "plt.xlabel(\"keys\")\n",
    "plt.ylabel(\"queries\")\n",
    "plt.show()"
   ]
  },
  {
   "cell_type": "markdown",
   "metadata": {},
   "source": [
    "### classifier"
   ]
  },
  {
   "cell_type": "markdown",
   "metadata": {},
   "source": [
    "fix: encoder_output (32 x 165 x 128) => (32 x 128) => (32 x 8)"
   ]
  },
  {
   "cell_type": "code",
   "execution_count": 25,
   "metadata": {},
   "outputs": [],
   "source": [
    "class ClassifierBlock(nn.Module):\n",
    "    def __init__(self, config):\n",
    "        super().__init__()\n",
    "        self.config = config\n",
    "        d = self.config.d_model\n",
    "        self.dense = nn.Sequential( \n",
    "            nn.Linear(d,d),\n",
    "            nn.LeakyReLU(),\n",
    "            nn.Dropout(0.2),\n",
    "            nn.Linear(d,d),\n",
    "            nn.LeakyReLU(),\n",
    "            nn.Linear(d, self.config.num_class),\n",
    "            nn.LeakyReLU(),\n",
    "            nn.Softmax(1)\n",
    "        )\n",
    "\n",
    "    def forward(self, encoder_output, src_mask=None):\n",
    "        src_mask = src_mask[:,:,0].bool().unsqueeze(2)\n",
    "        encoder_output_mean = torch.masked_select(encoder_output,~src_mask)\n",
    "        encoder_output_mean = encoder_output_mean.view(encoder_output.size()[0],-1,self.config.d_model)\n",
    "        encoder_output_mean = encoder_output_mean.mean(dim=1)\n",
    "        out_logits = self.dense(encoder_output_mean)\n",
    "        return out_logits\n"
   ]
  },
  {
   "cell_type": "code",
   "execution_count": 26,
   "metadata": {},
   "outputs": [
    {
     "name": "stdout",
     "output_type": "stream",
     "text": [
      "torch.Size([32, 6])\n",
      "aten::bitwise_not %58 : Bool(32, 165, 1, strides=[165, 1, 1], requires_grad=0, device=cpu) = aten::bitwise_not(%src_mask) # /tmp/ipykernel_29433/2830721892.py:19:0\n",
      "\n",
      "aten::masked_select %encoder_output_mean.1 : Float(675840, strides=[1], requires_grad=0, device=cpu) = aten::masked_select(%encoder_output, %58) # /tmp/ipykernel_29433/2830721892.py:19:0\n",
      "\n",
      "aten::mean %input.1 : Float(32, 128, strides=[128, 1], requires_grad=0, device=cpu) = aten::mean(%encoder_output_mean, %75, %76, %77) # /tmp/ipykernel_29433/2830721892.py:21:0\n",
      "\n"
     ]
    },
    {
     "data": {
      "image/svg+xml": [
       "<?xml version=\"1.0\" encoding=\"UTF-8\" standalone=\"no\"?>\n",
       "<!DOCTYPE svg PUBLIC \"-//W3C//DTD SVG 1.1//EN\"\n",
       " \"http://www.w3.org/Graphics/SVG/1.1/DTD/svg11.dtd\">\n",
       "<!-- Generated by graphviz version 2.43.0 (0)\n",
       " -->\n",
       "<!-- Title: %3 Pages: 1 -->\n",
       "<svg width=\"322pt\" height=\"285pt\"\n",
       " viewBox=\"0.00 0.00 322.19 285.00\" xmlns=\"http://www.w3.org/2000/svg\" xmlns:xlink=\"http://www.w3.org/1999/xlink\">\n",
       "<g id=\"graph0\" class=\"graph\" transform=\"scale(1 1) rotate(0) translate(4 281)\">\n",
       "<title>%3</title>\n",
       "<polygon fill=\"white\" stroke=\"transparent\" points=\"-4,4 -4,-281 318.19,-281 318.19,4 -4,4\"/>\n",
       "<text text-anchor=\"middle\" x=\"157.09\" y=\"-261.8\" font-family=\"Times,serif\" font-size=\"14.00\">ClassifierBlock</text>\n",
       "<!-- inp_encoder_output -->\n",
       "<g id=\"node1\" class=\"node\">\n",
       "<title>inp_encoder_output</title>\n",
       "<ellipse fill=\"none\" stroke=\"black\" cx=\"81.24\" cy=\"-236\" rx=\"81.49\" ry=\"18\"/>\n",
       "<text text-anchor=\"middle\" x=\"81.24\" y=\"-232.3\" font-family=\"Times,serif\" font-size=\"14.00\">inp_encoder_output</text>\n",
       "</g>\n",
       "<!-- input.1 -->\n",
       "<g id=\"node4\" class=\"node\">\n",
       "<title>input.1</title>\n",
       "<path fill=\"none\" stroke=\"black\" d=\"M233.74,-182C233.74,-182 94.74,-182 94.74,-182 88.74,-182 82.74,-176 82.74,-170 82.74,-170 82.74,-156 82.74,-156 82.74,-150 88.74,-144 94.74,-144 94.74,-144 233.74,-144 233.74,-144 239.74,-144 245.74,-150 245.74,-156 245.74,-156 245.74,-170 245.74,-170 245.74,-176 239.74,-182 233.74,-182\"/>\n",
       "<text text-anchor=\"middle\" x=\"164.24\" y=\"-166.8\" font-family=\"Times,serif\" font-size=\"14.00\">bitwise_not masked_select</text>\n",
       "<text text-anchor=\"middle\" x=\"164.24\" y=\"-151.8\" font-family=\"Times,serif\" font-size=\"14.00\">mean</text>\n",
       "</g>\n",
       "<!-- inp_encoder_output&#45;&gt;input.1 -->\n",
       "<g id=\"edge1\" class=\"edge\">\n",
       "<title>inp_encoder_output&#45;&gt;input.1</title>\n",
       "<path fill=\"none\" stroke=\"black\" d=\"M100.91,-218.17C111.2,-209.38 123.98,-198.44 135.36,-188.71\"/>\n",
       "<polygon fill=\"black\" stroke=\"black\" points=\"137.65,-191.36 142.97,-182.2 133.1,-186.04 137.65,-191.36\"/>\n",
       "</g>\n",
       "<!-- inp_src_mask.1 -->\n",
       "<g id=\"node2\" class=\"node\">\n",
       "<title>inp_src_mask.1</title>\n",
       "<ellipse fill=\"none\" stroke=\"black\" cx=\"247.24\" cy=\"-236\" rx=\"66.89\" ry=\"18\"/>\n",
       "<text text-anchor=\"middle\" x=\"247.24\" y=\"-232.3\" font-family=\"Times,serif\" font-size=\"14.00\">inp_src_mask.1</text>\n",
       "</g>\n",
       "<!-- inp_src_mask.1&#45;&gt;input.1 -->\n",
       "<g id=\"edge2\" class=\"edge\">\n",
       "<title>inp_src_mask.1&#45;&gt;input.1</title>\n",
       "<path fill=\"none\" stroke=\"black\" d=\"M227.99,-218.53C217.64,-209.68 204.67,-198.58 193.14,-188.72\"/>\n",
       "<polygon fill=\"black\" stroke=\"black\" points=\"195.3,-185.96 185.43,-182.12 190.75,-191.28 195.3,-185.96\"/>\n",
       "</g>\n",
       "<!-- .127 -->\n",
       "<g id=\"node3\" class=\"node\">\n",
       "<title>.127</title>\n",
       "<polygon fill=\"none\" stroke=\"black\" points=\"222.74,-108 105.74,-108 105.74,-72 222.74,-72 222.74,-108\"/>\n",
       "<text text-anchor=\"middle\" x=\"164.24\" y=\"-86.3\" font-family=\"Times,serif\" font-size=\"14.00\">dense (Sequential)</text>\n",
       "</g>\n",
       "<!-- out_0 -->\n",
       "<g id=\"node5\" class=\"node\">\n",
       "<title>out_0</title>\n",
       "<ellipse fill=\"none\" stroke=\"black\" cx=\"164.24\" cy=\"-18\" rx=\"30.59\" ry=\"18\"/>\n",
       "<text text-anchor=\"middle\" x=\"164.24\" y=\"-14.3\" font-family=\"Times,serif\" font-size=\"14.00\">out_0</text>\n",
       "</g>\n",
       "<!-- .127&#45;&gt;out_0 -->\n",
       "<g id=\"edge4\" class=\"edge\">\n",
       "<title>.127&#45;&gt;out_0</title>\n",
       "<path fill=\"none\" stroke=\"black\" d=\"M164.24,-71.7C164.24,-63.98 164.24,-54.71 164.24,-46.11\"/>\n",
       "<polygon fill=\"black\" stroke=\"black\" points=\"167.74,-46.1 164.24,-36.1 160.74,-46.1 167.74,-46.1\"/>\n",
       "</g>\n",
       "<!-- input.1&#45;&gt;.127 -->\n",
       "<g id=\"edge3\" class=\"edge\">\n",
       "<title>input.1&#45;&gt;.127</title>\n",
       "<path fill=\"none\" stroke=\"black\" d=\"M164.24,-143.72C164.24,-135.97 164.24,-126.79 164.24,-118.27\"/>\n",
       "<polygon fill=\"black\" stroke=\"black\" points=\"167.74,-118 164.24,-108 160.74,-118 167.74,-118\"/>\n",
       "</g>\n",
       "</g>\n",
       "</svg>\n"
      ],
      "text/plain": [
       "<graphviz.graphs.Digraph at 0x7f9c47bfed00>"
      ]
     },
     "execution_count": 26,
     "metadata": {},
     "output_type": "execute_result"
    }
   ],
   "source": [
    "\"\"\"Simple Test\"\"\"\n",
    "src_ids = torch.rand(size=(batch_size, config.seq_len, config.d_model))\n",
    "src_mask = torch.zeros(batch_size, config.seq_len, config.seq_len)\n",
    "encoder_output = torch.randn(batch_size, config.seq_len, config.d_model)\n",
    "\n",
    "classifier_block = ClassifierBlock(config)\n",
    "input = [encoder_output, src_mask]\n",
    "out_logits = classifier_block(*input)\n",
    "print(out_logits.shape)\n",
    "\n",
    "d = display_module(classifier_block, input, classes_to_visit={})\n",
    "d"
   ]
  },
  {
   "cell_type": "code",
   "execution_count": null,
   "metadata": {},
   "outputs": [],
   "source": []
  },
  {
   "cell_type": "code",
   "execution_count": null,
   "metadata": {},
   "outputs": [],
   "source": []
  },
  {
   "cell_type": "code",
   "execution_count": 27,
   "metadata": {},
   "outputs": [],
   "source": [
    "class TransformerEncoderClassifier(nn.Module):\n",
    "    def __init__(self, config):\n",
    "        super().__init__()\n",
    "        self.config = config\n",
    "        self.src_pad_id = config.src_pad_id\n",
    "        self.encoder = TransformerEncoder(config)\n",
    "        self.classifier = ClassifierBlock(config)\n",
    "        self.register_buffer(\"causal_mask\", generate_causal_mask(config.seq_len))\n",
    "        self.apply(self._init_weights)\n",
    "\n",
    "    def forward(self, src_ids):\n",
    "        src_mask = self.make_src_mask(src_ids)\n",
    "        encoder_output = self.encoder(src_ids, src_mask)\n",
    "        out_logits = self.classifier(encoder_output, src_mask)\n",
    "        return out_logits\n",
    "\n",
    "    def make_src_mask(self, src_ids):\n",
    "        \"\"\"Return PAD mask for source ids shape (B, seq_len, seq_len)\"\"\"\n",
    "        src_mask = src_ids[:,:,0].eq(self.src_pad_id)\n",
    "        src_mask = src_mask.unsqueeze(1).repeat((1, self.config.seq_len, 1))\n",
    "        return src_mask\n",
    "\n",
    "    def _init_weights(self, module):\n",
    "        # this initializer was copied from https://github.com/karpathy/minGPT/blob/master/mingpt/model.py#L125\n",
    "        if isinstance(module, (nn.Linear, nn.Embedding)):\n",
    "            module.weight.data.normal_(mean=0.0, std=0.02)\n",
    "            if isinstance(module, nn.Linear) and module.bias is not None:\n",
    "                module.bias.data.zero_()\n",
    "        elif isinstance(module, nn.LayerNorm):\n",
    "            module.bias.data.zero_()\n",
    "            module.weight.data.fill_(1.0)"
   ]
  },
  {
   "cell_type": "code",
   "execution_count": 28,
   "metadata": {},
   "outputs": [
    {
     "name": "stdout",
     "output_type": "stream",
     "text": [
      "torch.Size([32, 6])\n",
      "aten::eq %src_mask.1 : Bool(32, 165, strides=[165, 1], requires_grad=0, device=cpu) = aten::eq(%165, %166) # /tmp/ipykernel_29433/3928439995.py:19:0\n",
      "\n",
      "aten::repeat %mask : Bool(32, 165, 165, strides=[27225, 165, 1], requires_grad=0, device=cpu) = aten::repeat(%169, %173) # /tmp/ipykernel_29433/3928439995.py:20:0\n",
      "\n",
      "aten::bitwise_not %23 : Bool(32, 165, 1, strides=[165, 1, 1], requires_grad=0, device=cpu) = aten::bitwise_not(%src_mask), scope: __module.classifier # /tmp/ipykernel_29433/2830721892.py:19:0\n",
      "\n",
      "aten::masked_select %encoder_output_mean.1 : Float(675840, strides=[1], requires_grad=1, device=cpu) = aten::masked_select(%25, %23), scope: __module.classifier # /tmp/ipykernel_29433/2830721892.py:19:0\n",
      "\n",
      "aten::mean %input.35 : Float(32, 128, strides=[128, 1], requires_grad=1, device=cpu) = aten::mean(%encoder_output_mean, %41, %42, %43), scope: __module.classifier # /tmp/ipykernel_29433/2830721892.py:21:0\n",
      "\n"
     ]
    },
    {
     "data": {
      "image/svg+xml": [
       "<?xml version=\"1.0\" encoding=\"UTF-8\" standalone=\"no\"?>\n",
       "<!DOCTYPE svg PUBLIC \"-//W3C//DTD SVG 1.1//EN\"\n",
       " \"http://www.w3.org/Graphics/SVG/1.1/DTD/svg11.dtd\">\n",
       "<!-- Generated by graphviz version 2.43.0 (0)\n",
       " -->\n",
       "<!-- Title: %3 Pages: 1 -->\n",
       "<svg width=\"354pt\" height=\"576pt\"\n",
       " viewBox=\"0.00 0.00 354.00 576.00\" xmlns=\"http://www.w3.org/2000/svg\" xmlns:xlink=\"http://www.w3.org/1999/xlink\">\n",
       "<g id=\"graph0\" class=\"graph\" transform=\"scale(1 1) rotate(0) translate(4 572)\">\n",
       "<title>%3</title>\n",
       "<polygon fill=\"white\" stroke=\"transparent\" points=\"-4,4 -4,-572 350,-572 350,4 -4,4\"/>\n",
       "<text text-anchor=\"middle\" x=\"173\" y=\"-552.8\" font-family=\"Times,serif\" font-size=\"14.00\">TransformerEncoderClassifier</text>\n",
       "<g id=\"clust1\" class=\"cluster\">\n",
       "<title>cluster_.809</title>\n",
       "<polygon fill=\"none\" stroke=\"black\" points=\"8,-64 8,-357 338,-357 338,-64 8,-64\"/>\n",
       "<text text-anchor=\"middle\" x=\"173\" y=\"-341.8\" font-family=\"Times,serif\" font-size=\"14.00\">classifier (ClassifierBlock)</text>\n",
       "</g>\n",
       "<!-- inp_src_ids -->\n",
       "<g id=\"node1\" class=\"node\">\n",
       "<title>inp_src_ids</title>\n",
       "<ellipse fill=\"none\" stroke=\"black\" cx=\"157\" cy=\"-527\" rx=\"51.19\" ry=\"18\"/>\n",
       "<text text-anchor=\"middle\" x=\"157\" y=\"-523.3\" font-family=\"Times,serif\" font-size=\"14.00\">inp_src_ids</text>\n",
       "</g>\n",
       "<!-- .808 -->\n",
       "<g id=\"node2\" class=\"node\">\n",
       "<title>.808</title>\n",
       "<polygon fill=\"none\" stroke=\"black\" points=\"188.5,-401 3.5,-401 3.5,-365 188.5,-365 188.5,-401\"/>\n",
       "<text text-anchor=\"middle\" x=\"96\" y=\"-379.3\" font-family=\"Times,serif\" font-size=\"14.00\">encoder (TransformerEncoder)</text>\n",
       "</g>\n",
       "<!-- inp_src_ids&#45;&gt;.808 -->\n",
       "<g id=\"edge1\" class=\"edge\">\n",
       "<title>inp_src_ids&#45;&gt;.808</title>\n",
       "<path fill=\"none\" stroke=\"black\" d=\"M140.8,-509.7C131.9,-499.84 121.4,-486.59 115,-473 105.77,-453.4 100.98,-429.27 98.52,-411.08\"/>\n",
       "<polygon fill=\"black\" stroke=\"black\" points=\"101.99,-410.65 97.32,-401.14 95.04,-411.49 101.99,-410.65\"/>\n",
       "</g>\n",
       "<!-- mask -->\n",
       "<g id=\"node3\" class=\"node\">\n",
       "<title>mask</title>\n",
       "<path fill=\"none\" stroke=\"black\" d=\"M178,-473C178,-473 136,-473 136,-473 130,-473 124,-467 124,-461 124,-461 124,-449 124,-449 124,-443 130,-437 136,-437 136,-437 178,-437 178,-437 184,-437 190,-443 190,-449 190,-449 190,-461 190,-461 190,-467 184,-473 178,-473\"/>\n",
       "<text text-anchor=\"middle\" x=\"157\" y=\"-451.3\" font-family=\"Times,serif\" font-size=\"14.00\">repeat eq</text>\n",
       "</g>\n",
       "<!-- inp_src_ids&#45;&gt;mask -->\n",
       "<g id=\"edge2\" class=\"edge\">\n",
       "<title>inp_src_ids&#45;&gt;mask</title>\n",
       "<path fill=\"none\" stroke=\"black\" d=\"M157,-508.7C157,-500.98 157,-491.71 157,-483.11\"/>\n",
       "<polygon fill=\"black\" stroke=\"black\" points=\"160.5,-483.1 157,-473.1 153.5,-483.1 160.5,-483.1\"/>\n",
       "</g>\n",
       "<!-- inp_classifier.inp_mask -->\n",
       "<g id=\"node4\" class=\"node\">\n",
       "<title>inp_classifier.inp_mask</title>\n",
       "<path fill=\"none\" stroke=\"black\" d=\"M266,-401C266,-401 224,-401 224,-401 218,-401 212,-395 212,-389 212,-389 212,-377 212,-377 212,-371 218,-365 224,-365 224,-365 266,-365 266,-365 272,-365 278,-371 278,-377 278,-377 278,-389 278,-389 278,-395 272,-401 266,-401\"/>\n",
       "<text text-anchor=\"middle\" x=\"245\" y=\"-379.3\" font-family=\"Times,serif\" font-size=\"14.00\">repeat eq</text>\n",
       "</g>\n",
       "<!-- inp_src_ids&#45;&gt;inp_classifier.inp_mask -->\n",
       "<g id=\"edge4\" class=\"edge\">\n",
       "<title>inp_src_ids&#45;&gt;inp_classifier.inp_mask</title>\n",
       "<path fill=\"none\" stroke=\"black\" d=\"M171.49,-509.44C180.02,-499.29 190.72,-485.82 199,-473 211.98,-452.91 224.29,-428.72 232.9,-410.63\"/>\n",
       "<polygon fill=\"black\" stroke=\"black\" points=\"236.21,-411.81 237.29,-401.27 229.88,-408.84 236.21,-411.81\"/>\n",
       "</g>\n",
       "<!-- classifier.inp_25 -->\n",
       "<g id=\"node6\" class=\"node\">\n",
       "<title>classifier.inp_25</title>\n",
       "<ellipse fill=\"none\" stroke=\"black\" cx=\"85\" cy=\"-308\" rx=\"68.79\" ry=\"18\"/>\n",
       "<text text-anchor=\"middle\" x=\"85\" y=\"-304.3\" font-family=\"Times,serif\" font-size=\"14.00\">classifier.inp_25</text>\n",
       "</g>\n",
       "<!-- .808&#45;&gt;classifier.inp_25 -->\n",
       "<g id=\"edge6\" class=\"edge\">\n",
       "<title>.808&#45;&gt;classifier.inp_25</title>\n",
       "<path fill=\"none\" stroke=\"black\" d=\"M93.39,-364.7C92.11,-356.15 90.52,-345.65 89.08,-336.07\"/>\n",
       "<polygon fill=\"black\" stroke=\"black\" points=\"92.54,-335.54 87.59,-326.18 85.62,-336.59 92.54,-335.54\"/>\n",
       "</g>\n",
       "<!-- mask&#45;&gt;.808 -->\n",
       "<g id=\"edge3\" class=\"edge\">\n",
       "<title>mask&#45;&gt;.808</title>\n",
       "<path fill=\"none\" stroke=\"black\" d=\"M141.92,-436.7C134.61,-428.3 125.69,-418.07 117.66,-408.86\"/>\n",
       "<polygon fill=\"black\" stroke=\"black\" points=\"120.11,-406.34 110.91,-401.1 114.84,-410.94 120.11,-406.34\"/>\n",
       "</g>\n",
       "<!-- classifier.inp_mask -->\n",
       "<g id=\"node5\" class=\"node\">\n",
       "<title>classifier.inp_mask</title>\n",
       "<ellipse fill=\"none\" stroke=\"black\" cx=\"251\" cy=\"-308\" rx=\"79.09\" ry=\"18\"/>\n",
       "<text text-anchor=\"middle\" x=\"251\" y=\"-304.3\" font-family=\"Times,serif\" font-size=\"14.00\">classifier.inp_mask</text>\n",
       "</g>\n",
       "<!-- inp_classifier.inp_mask&#45;&gt;classifier.inp_mask -->\n",
       "<g id=\"edge5\" class=\"edge\">\n",
       "<title>inp_classifier.inp_mask&#45;&gt;classifier.inp_mask</title>\n",
       "<path fill=\"none\" stroke=\"black\" d=\"M246.42,-364.7C247.12,-356.25 247.97,-345.87 248.75,-336.37\"/>\n",
       "<polygon fill=\"black\" stroke=\"black\" points=\"252.26,-336.43 249.59,-326.18 245.28,-335.86 252.26,-336.43\"/>\n",
       "</g>\n",
       "<!-- classifier.input.35 -->\n",
       "<g id=\"node8\" class=\"node\">\n",
       "<title>classifier.input.35</title>\n",
       "<path fill=\"none\" stroke=\"black\" d=\"M242.5,-254C242.5,-254 103.5,-254 103.5,-254 97.5,-254 91.5,-248 91.5,-242 91.5,-242 91.5,-228 91.5,-228 91.5,-222 97.5,-216 103.5,-216 103.5,-216 242.5,-216 242.5,-216 248.5,-216 254.5,-222 254.5,-228 254.5,-228 254.5,-242 254.5,-242 254.5,-248 248.5,-254 242.5,-254\"/>\n",
       "<text text-anchor=\"middle\" x=\"173\" y=\"-238.8\" font-family=\"Times,serif\" font-size=\"14.00\">bitwise_not masked_select</text>\n",
       "<text text-anchor=\"middle\" x=\"173\" y=\"-223.8\" font-family=\"Times,serif\" font-size=\"14.00\">mean</text>\n",
       "</g>\n",
       "<!-- classifier.inp_mask&#45;&gt;classifier.input.35 -->\n",
       "<g id=\"edge8\" class=\"edge\">\n",
       "<title>classifier.inp_mask&#45;&gt;classifier.input.35</title>\n",
       "<path fill=\"none\" stroke=\"black\" d=\"M232.52,-290.17C222.94,-281.46 211.07,-270.65 200.45,-260.99\"/>\n",
       "<polygon fill=\"black\" stroke=\"black\" points=\"202.74,-258.34 192.99,-254.2 198.03,-263.52 202.74,-258.34\"/>\n",
       "</g>\n",
       "<!-- classifier.inp_25&#45;&gt;classifier.input.35 -->\n",
       "<g id=\"edge7\" class=\"edge\">\n",
       "<title>classifier.inp_25&#45;&gt;classifier.input.35</title>\n",
       "<path fill=\"none\" stroke=\"black\" d=\"M105.41,-290.53C116.49,-281.59 130.4,-270.37 142.72,-260.43\"/>\n",
       "<polygon fill=\"black\" stroke=\"black\" points=\"144.95,-263.13 150.54,-254.12 140.56,-257.68 144.95,-263.13\"/>\n",
       "</g>\n",
       "<!-- classifier..46 -->\n",
       "<g id=\"node7\" class=\"node\">\n",
       "<title>classifier..46</title>\n",
       "<polygon fill=\"none\" stroke=\"black\" points=\"257.5,-180 88.5,-180 88.5,-144 257.5,-144 257.5,-180\"/>\n",
       "<text text-anchor=\"middle\" x=\"173\" y=\"-158.3\" font-family=\"Times,serif\" font-size=\"14.00\">classifier.dense (Sequential)</text>\n",
       "</g>\n",
       "<!-- classifier.out_0 -->\n",
       "<g id=\"node9\" class=\"node\">\n",
       "<title>classifier.out_0</title>\n",
       "<ellipse fill=\"none\" stroke=\"black\" cx=\"173\" cy=\"-90\" rx=\"64.19\" ry=\"18\"/>\n",
       "<text text-anchor=\"middle\" x=\"173\" y=\"-86.3\" font-family=\"Times,serif\" font-size=\"14.00\">classifier.out_0</text>\n",
       "</g>\n",
       "<!-- classifier..46&#45;&gt;classifier.out_0 -->\n",
       "<g id=\"edge10\" class=\"edge\">\n",
       "<title>classifier..46&#45;&gt;classifier.out_0</title>\n",
       "<path fill=\"none\" stroke=\"black\" d=\"M173,-143.7C173,-135.98 173,-126.71 173,-118.11\"/>\n",
       "<polygon fill=\"black\" stroke=\"black\" points=\"176.5,-118.1 173,-108.1 169.5,-118.1 176.5,-118.1\"/>\n",
       "</g>\n",
       "<!-- classifier.input.35&#45;&gt;classifier..46 -->\n",
       "<g id=\"edge9\" class=\"edge\">\n",
       "<title>classifier.input.35&#45;&gt;classifier..46</title>\n",
       "<path fill=\"none\" stroke=\"black\" d=\"M173,-215.72C173,-207.97 173,-198.79 173,-190.27\"/>\n",
       "<polygon fill=\"black\" stroke=\"black\" points=\"176.5,-190 173,-180 169.5,-190 176.5,-190\"/>\n",
       "</g>\n",
       "<!-- out_0 -->\n",
       "<g id=\"node10\" class=\"node\">\n",
       "<title>out_0</title>\n",
       "<ellipse fill=\"none\" stroke=\"black\" cx=\"173\" cy=\"-18\" rx=\"30.59\" ry=\"18\"/>\n",
       "<text text-anchor=\"middle\" x=\"173\" y=\"-14.3\" font-family=\"Times,serif\" font-size=\"14.00\">out_0</text>\n",
       "</g>\n",
       "<!-- classifier.out_0&#45;&gt;out_0 -->\n",
       "<g id=\"edge11\" class=\"edge\">\n",
       "<title>classifier.out_0&#45;&gt;out_0</title>\n",
       "<path fill=\"none\" stroke=\"black\" d=\"M173,-71.7C173,-63.98 173,-54.71 173,-46.11\"/>\n",
       "<polygon fill=\"black\" stroke=\"black\" points=\"176.5,-46.1 173,-36.1 169.5,-46.1 176.5,-46.1\"/>\n",
       "</g>\n",
       "</g>\n",
       "</svg>\n"
      ],
      "text/plain": [
       "<graphviz.graphs.Digraph at 0x7f9c30a5cdc0>"
      ]
     },
     "execution_count": 28,
     "metadata": {},
     "output_type": "execute_result"
    }
   ],
   "source": [
    "\"\"\"Simple Test\"\"\"\n",
    "# to run test faster and not crashing the current session\n",
    "src_ids = torch.rand(size=(batch_size, config.seq_len, config.d_model))\n",
    "tfm = TransformerEncoderClassifier(config)\n",
    "\n",
    "input = [src_ids]\n",
    "out_logits = tfm(*input)\n",
    "print(out_logits.shape)\n",
    "\n",
    "d = display_module(tfm, input, classes_to_visit={\"ClassifierBlock\"}) # It's gonna take a while ...\n",
    "d"
   ]
  },
  {
   "cell_type": "markdown",
   "metadata": {},
   "source": [
    "## Train with transformer"
   ]
  },
  {
   "cell_type": "code",
   "execution_count": 29,
   "metadata": {},
   "outputs": [
    {
     "name": "stderr",
     "output_type": "stream",
     "text": [
      "Global seed set to 42\n"
     ]
    },
    {
     "data": {
      "text/plain": [
       "42"
      ]
     },
     "execution_count": 29,
     "metadata": {},
     "output_type": "execute_result"
    }
   ],
   "source": [
    "import pytorch_lightning as pl\n",
    "pl.seed_everything(42)"
   ]
  },
  {
   "cell_type": "code",
   "execution_count": 30,
   "metadata": {},
   "outputs": [],
   "source": [
    "from torchmetrics import Accuracy, MetricCollection\n",
    "\n",
    "class LightningModel(pl.LightningModule):\n",
    "    def __init__(self, config):\n",
    "        super().__init__()\n",
    "        self.config = config\n",
    "        self.model = TransformerEncoderClassifier(self.config)\n",
    "        \n",
    "        self.criterion = nn.CrossEntropyLoss()\n",
    "        metrics = MetricCollection([Accuracy()])\n",
    "        self.train_metrics = metrics.clone(prefix='train_')\n",
    "        self.test_metrics = metrics.clone(prefix='test_')\n",
    "\n",
    "    def forward(self, src_ids, tgt_emo_id):\n",
    "        # src_ids: B x seq_len\n",
    "        logits = self.model(src_ids)\n",
    "#         loss = F.cross_entropy(torch.transpose(logits, 1, 2), tgt_emo_id) ##TODO: Loss\n",
    "        return logits\n",
    "\n",
    "    def training_step(self, batch, batch_idx):\n",
    "        # src_ids shape (B, seq_len)\n",
    "        src_ids, tgt_emo_id = batch  \n",
    "        logits = self.model(src_ids)#.mean(dim=1)\n",
    "        loss = self.criterion(logits, tgt_emo_id)\n",
    "        # Logging to TensorBoard by default\n",
    "        self.log('train_loss', loss)\n",
    "        \n",
    "        output = self.train_metrics(logits, tgt_emo_id)\n",
    "        # use log_dict instead of log\n",
    "        # metrics are logged with keys: train_Accuracy, train_Precision and train_Recall\n",
    "        self.log_dict(output)\n",
    "        return loss\n",
    "    \n",
    "    def test_step(self, batch, batch_idx):\n",
    "        x, y = batch\n",
    "        y_hat = self.model(x)#.mean(dim=1)\n",
    "        loss = self.criterion(y_hat, y)\n",
    "        # Logging to TensorBoard by default\n",
    "        self.log('test_loss', loss)\n",
    "        output = self.test_metrics(y_hat, y)\n",
    "        self.log_dict(output)\n",
    "        return loss\n",
    "\n",
    "    def configure_optimizers(self):\n",
    "        # From this issue: https://github.com/PyTorchLightning/pytorch-lightning/issues/2673\n",
    "        # This optimizer was copied from\n",
    "        # https://colab.research.google.com/drive/1e7h54IlrtjdifjKu2wK3fDyzp4ZVyacP?usp=sharing#scrollTo=bB9m-goqHw3e\n",
    "        # it helps overcome nan loss with fp16 ¯\\_(ツ)_/¯\n",
    "        \"Prepare optimizer and schedule (linear warmup and decay)\"\n",
    "        no_decay = [\"bias\", \"LayerNorm.weight\"]\n",
    "        optimizer_grouped_parameters = [\n",
    "            {\n",
    "                \"params\": [p for n, p in self.model.named_parameters() if not any(nd in n for nd in no_decay)],\n",
    "                \"weight_decay\": 0.0,\n",
    "            },\n",
    "            {\n",
    "                \"params\": [p for n, p in self.model.named_parameters() if any(nd in n for nd in no_decay)],\n",
    "                \"weight_decay\": 0.0,\n",
    "            },\n",
    "        ]\n",
    "#         optimizer = torch.optim.AdamW(optimizer_grouped_parameters, lr=2e-5, eps=1e-8)\n",
    "        optimizer = torch.optim.AdamW(optimizer_grouped_parameters, lr=1e-4, eps=1e-8)\n",
    "        return optimizer\n"
   ]
  },
  {
   "cell_type": "code",
   "execution_count": 31,
   "metadata": {},
   "outputs": [
    {
     "name": "stdout",
     "output_type": "stream",
     "text": [
      "True\n",
      "True\n",
      "11.1\n"
     ]
    }
   ],
   "source": [
    "print(torch.backends.cudnn.is_available())\n",
    "print(torch.cuda.is_available())\n",
    "print(torch.version.cuda)"
   ]
  },
  {
   "cell_type": "code",
   "execution_count": 32,
   "metadata": {
    "scrolled": false
   },
   "outputs": [
    {
     "data": {
      "text/plain": [
       "Reusing TensorBoard on port 6006 (pid 5394), started 6:50:24 ago. (Use '!kill 5394' to kill it.)"
      ]
     },
     "metadata": {},
     "output_type": "display_data"
    },
    {
     "data": {
      "text/html": [
       "\n",
       "      <iframe id=\"tensorboard-frame-1c80317fa3b1799d\" width=\"100%\" height=\"800\" frameborder=\"0\">\n",
       "      </iframe>\n",
       "      <script>\n",
       "        (function() {\n",
       "          const frame = document.getElementById(\"tensorboard-frame-1c80317fa3b1799d\");\n",
       "          const url = new URL(\"/\", window.location);\n",
       "          const port = 6006;\n",
       "          if (port) {\n",
       "            url.port = port;\n",
       "          }\n",
       "          frame.src = url;\n",
       "        })();\n",
       "      </script>\n",
       "    "
      ],
      "text/plain": [
       "<IPython.core.display.HTML object>"
      ]
     },
     "metadata": {},
     "output_type": "display_data"
    }
   ],
   "source": [
    "%load_ext tensorboard\n",
    "%tensorboard --logdir lightning_logs"
   ]
  },
  {
   "cell_type": "code",
   "execution_count": 33,
   "metadata": {},
   "outputs": [],
   "source": [
    " %reload_ext tensorboard"
   ]
  },
  {
   "cell_type": "code",
   "execution_count": 34,
   "metadata": {},
   "outputs": [
    {
     "data": {
      "text/plain": [
       "<torch.autograd.anomaly_mode.set_detect_anomaly at 0x7f9c30ac6ee0>"
      ]
     },
     "execution_count": 34,
     "metadata": {},
     "output_type": "execute_result"
    }
   ],
   "source": [
    "torch.autograd.set_detect_anomaly(True)"
   ]
  },
  {
   "cell_type": "code",
   "execution_count": 35,
   "metadata": {},
   "outputs": [
    {
     "name": "stderr",
     "output_type": "stream",
     "text": [
      "Using native 16bit precision.\n",
      "GPU available: True, used: True\n",
      "TPU available: False, using: 0 TPU cores\n",
      "IPU available: False, using: 0 IPUs\n",
      "LOCAL_RANK: 0 - CUDA_VISIBLE_DEVICES: [0]\n",
      "\n",
      "  | Name          | Type                         | Params\n",
      "---------------------------------------------------------------\n",
      "0 | model         | TransformerEncoderClassifier | 2.2 M \n",
      "1 | criterion     | CrossEntropyLoss             | 0     \n",
      "2 | train_metrics | MetricCollection             | 0     \n",
      "3 | test_metrics  | MetricCollection             | 0     \n",
      "---------------------------------------------------------------\n",
      "2.2 M     Trainable params\n",
      "0         Non-trainable params\n",
      "2.2 M     Total params\n",
      "8.958     Total estimated model params size (MB)\n",
      "/home/linh-miaw/anaconda3/envs/py39/lib/python3.9/site-packages/pytorch_lightning/trainer/data_loading.py:105: UserWarning: The dataloader, train dataloader, does not have many workers which may be a bottleneck. Consider increasing the value of the `num_workers` argument` (try 16 which is the number of cpus on this machine) in the `DataLoader` init to improve performance.\n",
      "  rank_zero_warn(\n"
     ]
    },
    {
     "data": {
      "application/vnd.jupyter.widget-view+json": {
       "model_id": "4b487f1cfbc940478da7486a2e938974",
       "version_major": 2,
       "version_minor": 0
      },
      "text/plain": [
       "Training: -1it [00:00, ?it/s]"
      ]
     },
     "metadata": {},
     "output_type": "display_data"
    },
    {
     "name": "stderr",
     "output_type": "stream",
     "text": [
      "/home/linh-miaw/anaconda3/envs/py39/lib/python3.9/site-packages/pytorch_lightning/plugins/precision/precision_plugin.py:138: FutureWarning: Non-finite norm encountered in torch.nn.utils.clip_grad_norm_; continuing anyway. Note that the default behavior will change in a future release to error out if a non-finite total norm is encountered. At that point, setting error_if_nonfinite=false will be required to retain the old behavior.\n",
      "  torch.nn.utils.clip_grad_norm_(parameters, clip_val)\n"
     ]
    }
   ],
   "source": [
    "litmodel = LightningModel(config)\n",
    "\n",
    "from pytorch_lightning.callbacks.early_stopping import EarlyStopping\n",
    "\n",
    "trainer = pl.Trainer(\n",
    "    max_epochs=50,\n",
    "#     callbacks=[EarlyStopping(monitor='train_loss')],\n",
    "    gpus=1,\n",
    "    gradient_clip_val=1.,\n",
    "#     val_check_interval=0.5,    # do validation twice every epoch\n",
    "    precision=16               # floating precision 16 make training faster (~5x faster),\n",
    ")\n",
    "trainer.fit(litmodel, data_loader[feature].train)"
   ]
  },
  {
   "cell_type": "code",
   "execution_count": 36,
   "metadata": {},
   "outputs": [],
   "source": [
    "# PATH = \"./lightning_logs/version_58/checkpoints/epoch=49-step=9899.ckpt\"\n",
    "# litmodel = LightningModel.load_from_checkpoint(PATH, config=config)\n",
    "# litmodel"
   ]
  },
  {
   "cell_type": "code",
   "execution_count": 37,
   "metadata": {},
   "outputs": [
    {
     "data": {
      "text/plain": [
       "tensor(0.4928)"
      ]
     },
     "execution_count": 37,
     "metadata": {},
     "output_type": "execute_result"
    }
   ],
   "source": [
    "import torchmetrics\n",
    "pred_model = litmodel.model\n",
    "pred_model.eval()\n",
    "preds = pred_model(data_splitted[feature].X_test)\n",
    "target = data_splitted[feature].Y_test\n",
    "\n",
    "acc = torchmetrics.functional.accuracy(preds, target)\n",
    "acc"
   ]
  },
  {
   "cell_type": "code",
   "execution_count": null,
   "metadata": {},
   "outputs": [],
   "source": []
  }
 ],
 "metadata": {
  "kernelspec": {
   "display_name": "Python 3 (ipykernel)",
   "language": "python",
   "name": "python3"
  },
  "language_info": {
   "codemirror_mode": {
    "name": "ipython",
    "version": 3
   },
   "file_extension": ".py",
   "mimetype": "text/x-python",
   "name": "python",
   "nbconvert_exporter": "python",
   "pygments_lexer": "ipython3",
   "version": "3.9.6"
  }
 },
 "nbformat": 4,
 "nbformat_minor": 2
}
