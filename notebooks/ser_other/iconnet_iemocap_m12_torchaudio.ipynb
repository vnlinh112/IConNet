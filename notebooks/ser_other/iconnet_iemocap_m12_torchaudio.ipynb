{
 "cells": [
  {
   "cell_type": "code",
   "execution_count": 1,
   "id": "709a716a",
   "metadata": {},
   "outputs": [],
   "source": [
    "%load_ext autoreload\n",
    "%autoreload 2"
   ]
  },
  {
   "cell_type": "code",
   "execution_count": 2,
   "id": "de7c4c94-6d58-4569-923c-4d97e0a0075e",
   "metadata": {},
   "outputs": [
    {
     "name": "stdout",
     "output_type": "stream",
     "text": [
      "Sun Feb 11 07:56:04 2024       \n",
      "+---------------------------------------------------------------------------------------+\n",
      "| NVIDIA-SMI 545.23.08              Driver Version: 545.23.08    CUDA Version: 12.3     |\n",
      "|-----------------------------------------+----------------------+----------------------+\n",
      "| GPU  Name                 Persistence-M | Bus-Id        Disp.A | Volatile Uncorr. ECC |\n",
      "| Fan  Temp   Perf          Pwr:Usage/Cap |         Memory-Usage | GPU-Util  Compute M. |\n",
      "|                                         |                      |               MIG M. |\n",
      "|=========================================+======================+======================|\n",
      "|   0  NVIDIA GeForce RTX 2080        On  | 00000000:01:00.0  On |                  N/A |\n",
      "| 34%   62C    P8              17W / 215W |    370MiB /  8192MiB |      0%      Default |\n",
      "|                                         |                      |                  N/A |\n",
      "+-----------------------------------------+----------------------+----------------------+\n",
      "                                                                                         \n",
      "+---------------------------------------------------------------------------------------+\n",
      "| Processes:                                                                            |\n",
      "|  GPU   GI   CI        PID   Type   Process name                            GPU Memory |\n",
      "|        ID   ID                                                             Usage      |\n",
      "|=======================================================================================|\n",
      "|    0   N/A  N/A      2057      G   /usr/lib/xorg/Xorg                          209MiB |\n",
      "|    0   N/A  N/A      2200      G   /usr/bin/gnome-shell                         35MiB |\n",
      "|    0   N/A  N/A      4512      G   ...sion,SpareRendererForSitePerProcess       42MiB |\n",
      "|    0   N/A  N/A      4963      G   ...seed-version=20240128-180122.345000       78MiB |\n",
      "+---------------------------------------------------------------------------------------+\n"
     ]
    }
   ],
   "source": [
    "!nvidia-smi"
   ]
  },
  {
   "cell_type": "code",
   "execution_count": 24,
   "id": "62e90b39-057a-40d1-835a-536fe3f2714b",
   "metadata": {},
   "outputs": [],
   "source": [
    "%reset -f"
   ]
  },
  {
   "cell_type": "code",
   "execution_count": 23,
   "id": "b10f2d01-be2d-46c9-aa20-2e83e32268ed",
   "metadata": {},
   "outputs": [
    {
     "data": {
      "text/plain": [
       "25"
      ]
     },
     "execution_count": 23,
     "metadata": {},
     "output_type": "execute_result"
    }
   ],
   "source": [
    "del model\n",
    "gc.collect()"
   ]
  },
  {
   "cell_type": "code",
   "execution_count": 3,
   "id": "d9bc41af-35fc-4c7d-a02a-b166e7f818ad",
   "metadata": {},
   "outputs": [],
   "source": [
    "import gc\n",
    "import os\n",
    "os.chdir('IConNet')"
   ]
  },
  {
   "cell_type": "code",
   "execution_count": 4,
   "id": "38991304-6ee5-4aea-8601-9761eec1317f",
   "metadata": {},
   "outputs": [
    {
     "data": {
      "text/plain": [
       "'/home/linh/projects/IConNet'"
      ]
     },
     "execution_count": 4,
     "metadata": {},
     "output_type": "execute_result"
    }
   ],
   "source": [
    "os.getcwd()"
   ]
  },
  {
   "cell_type": "code",
   "execution_count": 5,
   "id": "f161ef69-7f03-4ce8-9bbd-ff40b7c1f077",
   "metadata": {},
   "outputs": [],
   "source": [
    "os.environ[\"PYTORCH_CUDA_ALLOC_CONF\"] = \"max_split_size_mb:512\"\n"
   ]
  },
  {
   "cell_type": "code",
   "execution_count": 6,
   "id": "b4b11c5c-bf87-4ef5-8d74-c9b1fcc6afc9",
   "metadata": {},
   "outputs": [
    {
     "name": "stdout",
     "output_type": "stream",
     "text": [
      "cuda\n"
     ]
    }
   ],
   "source": [
    "import torch\n",
    "import torch.nn as nn\n",
    "import torch.nn.functional as F\n",
    "import torch.optim as optim\n",
    "import torchaudio\n",
    "import sys\n",
    "\n",
    "import matplotlib.pyplot as plt\n",
    "import IPython.display as ipd\n",
    "\n",
    "from tqdm import tqdm\n",
    "\n",
    "device = torch.device(\"cuda\" if torch.cuda.is_available() else \"cpu\")\n",
    "print(device)"
   ]
  },
  {
   "cell_type": "code",
   "execution_count": 7,
   "id": "1ee5a162-fcba-4483-a06c-6ff9d86b2288",
   "metadata": {},
   "outputs": [],
   "source": [
    "from torchaudio.datasets import IEMOCAP\n",
    "data_dir = '../data/IEMOCAP/'\n",
    "val_set = IEMOCAP(root=data_dir, sessions=(1,), utterance_type='scripted')"
   ]
  },
  {
   "cell_type": "code",
   "execution_count": 8,
   "id": "a0bb24dd-52ff-4397-8b80-b9fc441ef455",
   "metadata": {},
   "outputs": [
    {
     "data": {
      "text/plain": [
       "('Session1/sentences/wav/Ses01F_script01_1/Ses01F_script01_1_F023.wav',\n",
       " 16000,\n",
       " 'Ses01F_script01_1_F023',\n",
       " 'fru',\n",
       " 'Ses01F')"
      ]
     },
     "execution_count": 8,
     "metadata": {},
     "output_type": "execute_result"
    }
   ],
   "source": [
    "val_set.get_metadata(n=10)"
   ]
  },
  {
   "cell_type": "code",
   "execution_count": 9,
   "id": "730c4be8-c1eb-4dd6-bc3b-53f2d80a0a9f",
   "metadata": {
    "scrolled": true
   },
   "outputs": [
    {
     "name": "stdout",
     "output_type": "stream",
     "text": [
      "Shape of waveform: torch.Size([1, 49759])\n",
      "Sample rate: 16000 Hz, emotion label: fru\n"
     ]
    },
    {
     "data": {
      "text/plain": [
       "[<matplotlib.lines.Line2D at 0x7f0f11d66cd0>]"
      ]
     },
     "execution_count": 9,
     "metadata": {},
     "output_type": "execute_result"
    },
    {
     "data": {
      "image/png": "[encoded data removed]",
      "text/plain": [
       "<Figure size 640x480 with 1 Axes>"
      ]
     },
     "metadata": {},
     "output_type": "display_data"
    }
   ],
   "source": [
    "waveform, sample_rate, filename, label, speaker_id = val_set.__getitem__(0)\n",
    "print(\"Shape of waveform: {}\".format(waveform.size()))\n",
    "print(f\"Sample rate: {sample_rate} Hz, emotion label: {label}\")\n",
    "plt.plot(waveform.t().numpy())"
   ]
  },
  {
   "cell_type": "code",
   "execution_count": 10,
   "id": "d8f44d11-eab3-4055-be08-752cc5af0a06",
   "metadata": {},
   "outputs": [],
   "source": [
    "# Create training and testing split of the data. We do not use validation in this tutorial.\n",
    "train_set = IEMOCAP(root=data_dir, sessions=(1,2,3,5), utterance_type='scripted')\n",
    "test_set = IEMOCAP(root=data_dir, sessions=(4,), utterance_type='scripted')"
   ]
  },
  {
   "cell_type": "code",
   "execution_count": 11,
   "id": "d0739739-2b28-40f7-901b-69bb53c167a6",
   "metadata": {},
   "outputs": [
    {
     "data": {
      "text/plain": [
       "['ang', 'exc', 'fru', 'hap', 'neu', 'sad']"
      ]
     },
     "execution_count": 11,
     "metadata": {},
     "output_type": "execute_result"
    }
   ],
   "source": [
    "labels = sorted(list(set(datapoint[3] for datapoint in train_set)))\n",
    "labels"
   ]
  },
  {
   "cell_type": "code",
   "execution_count": 12,
   "id": "5704fd4e-acd2-45ca-be74-8ca5a86bd0f8",
   "metadata": {},
   "outputs": [
    {
     "data": {
      "text/html": [
       "\n",
       "                <audio  controls=\"controls\" >\n",
       "                    <source src=\"data:audio/wav;base64,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\" type=\"audio/wav\" />\n",
       "                    Your browser does not support the audio element.\n",
       "                </audio>\n",
       "              "
      ],
      "text/plain": [
       "<IPython.lib.display.Audio object>"
      ]
     },
     "execution_count": 12,
     "metadata": {},
     "output_type": "execute_result"
    }
   ],
   "source": [
    "new_sample_rate = 8000\n",
    "transform = torchaudio.transforms.Resample(orig_freq=sample_rate, new_freq=new_sample_rate, dtype=torch.float32)\n",
    "transformed = transform(waveform)\n",
    "ipd.Audio(transformed.numpy(), rate=new_sample_rate)"
   ]
  },
  {
   "cell_type": "code",
   "execution_count": 13,
   "id": "06234315-9f6b-4936-a2df-2421a16d79e5",
   "metadata": {},
   "outputs": [
    {
     "name": "stdout",
     "output_type": "stream",
     "text": [
      "hap --> tensor(3) --> hap\n"
     ]
    }
   ],
   "source": [
    "def label_to_index(word):\n",
    "    # Return the position of the word in labels\n",
    "    return torch.tensor(labels.index(word))\n",
    "\n",
    "\n",
    "def index_to_label(index):\n",
    "    # Return the word corresponding to the index in labels\n",
    "    # This is the inverse of label_to_index\n",
    "    return labels[index]\n",
    "\n",
    "\n",
    "word_start = \"hap\"\n",
    "index = label_to_index(word_start)\n",
    "word_recovered = index_to_label(index)\n",
    "\n",
    "print(word_start, \"-->\", index, \"-->\", word_recovered)"
   ]
  },
  {
   "cell_type": "code",
   "execution_count": 14,
   "id": "8f60449d-1a39-4453-9a2e-69e231bc3192",
   "metadata": {},
   "outputs": [],
   "source": [
    "def pad_sequence(batch):\n",
    "    # Make all tensor in a batch the same length by padding with zeros\n",
    "    batch = [item.t() for item in batch]\n",
    "    batch = torch.nn.utils.rnn.pad_sequence(batch, batch_first=True, padding_value=0.)\n",
    "    return batch.permute(0, 2, 1)\n",
    "\n",
    "\n",
    "def collate_fn(batch):\n",
    "    tensors, targets = [], []\n",
    "\n",
    "    # Gather in lists, and encode labels as indices\n",
    "    for waveform, _, _, label, *_ in batch:\n",
    "        tensors += [waveform]\n",
    "        targets += [label_to_index(label)]\n",
    "\n",
    "    # Group the list of tensors into a batched tensor\n",
    "    tensors = pad_sequence(tensors)\n",
    "    targets = torch.stack(targets)\n",
    "\n",
    "    return tensors, targets\n",
    "\n",
    "\n",
    "batch_size = 8\n",
    "\n",
    "if device == \"cuda\":\n",
    "    num_workers = 1\n",
    "    pin_memory = True\n",
    "else:\n",
    "    num_workers = 0\n",
    "    pin_memory = False\n",
    "\n",
    "train_loader = torch.utils.data.DataLoader(\n",
    "    train_set,\n",
    "    batch_size=batch_size,\n",
    "    shuffle=True,\n",
    "    collate_fn=collate_fn,\n",
    "    num_workers=num_workers,\n",
    "    pin_memory=pin_memory, drop_last=True\n",
    ")\n",
    "test_loader = torch.utils.data.DataLoader(\n",
    "    test_set,\n",
    "    batch_size=batch_size,\n",
    "    shuffle=False,\n",
    "    drop_last=True,\n",
    "    collate_fn=collate_fn,\n",
    "    num_workers=num_workers,\n",
    "    pin_memory=pin_memory\n",
    ")"
   ]
  },
  {
   "cell_type": "code",
   "execution_count": 15,
   "id": "1a8a2d61-a6af-4cdf-9480-e47e04d71c53",
   "metadata": {},
   "outputs": [],
   "source": [
    "from IConNet.nn.model import M12"
   ]
  },
  {
   "cell_type": "code",
   "execution_count": 16,
   "id": "b9204a71-c665-49e3-a0fd-45891bf62919",
   "metadata": {},
   "outputs": [],
   "source": [
    "from omegaconf import OmegaConf as ocf"
   ]
  },
  {
   "cell_type": "code",
   "execution_count": 17,
   "id": "68585747-2ef6-4c98-b028-de5d961e6e73",
   "metadata": {},
   "outputs": [
    {
     "data": {
      "text/plain": [
       "{'name': 'M12', 'description': 'gated residual FirConv', 'fe': {'n_block': 2, 'n_channel': [48, 48], 'kernel_size': [511, 127], 'stride': [4, 4], 'window_k': [2, 9], 'residual_connection_type': 'concat', 'pooling': False}, 'seq': {'n_block': 1, 'n_channel': 32, 'pooling': 'mean', 'use_context': True, 'bidirectional': False}, 'cls': {'n_block': 2, 'n_hidden_dim': [128, 128]}}"
      ]
     },
     "execution_count": 17,
     "metadata": {},
     "output_type": "execute_result"
    }
   ],
   "source": [
    "model_config_path = 'config/model/m12.yaml'\n",
    "model_config = ocf.load(model_config_path)\n",
    "model_config"
   ]
  },
  {
   "cell_type": "code",
   "execution_count": 18,
   "id": "b5398bf9-ba4e-4a1f-a96a-b566cea74c50",
   "metadata": {},
   "outputs": [
    {
     "name": "stderr",
     "output_type": "stream",
     "text": [
      "/opt/anaconda3/envs/audio/lib/python3.9/site-packages/tqdm/auto.py:21: TqdmWarning: IProgress not found. Please update jupyter and ipywidgets. See https://ipywidgets.readthedocs.io/en/stable/user_install.html\n",
      "  from .autonotebook import tqdm as notebook_tqdm\n"
     ]
    },
    {
     "data": {
      "text/plain": [
       "M12(\n",
       "  (fe_blocks): FeBlocks(\n",
       "    (blocks): ModuleList(\n",
       "      (0-1): 2 x Sequential(\n",
       "        (layer): FirConvLayer()\n",
       "        (norm): CustomNormLayer(\n",
       "          (layer): LocalResponseNorm(2, alpha=0.0001, beta=0.75, k=1.0)\n",
       "        )\n",
       "      )\n",
       "    )\n",
       "    (act): NLReLU()\n",
       "  )\n",
       "  (seq_blocks): Seq2OneBlocks(\n",
       "    (blocks): LSTM(48, 32, batch_first=True)\n",
       "  )\n",
       "  (cls_head): Classifier(\n",
       "    (blocks): ModuleList(\n",
       "      (0): Sequential(\n",
       "        (norm): LayerNorm((96,), eps=1e-05, elementwise_affine=True)\n",
       "        (layer): Linear(in_features=96, out_features=128, bias=True)\n",
       "      )\n",
       "      (1): Sequential(\n",
       "        (norm): LayerNorm((128,), eps=1e-05, elementwise_affine=True)\n",
       "        (layer): Linear(in_features=128, out_features=128, bias=True)\n",
       "      )\n",
       "    )\n",
       "    (act): LeakyReLU(negative_slope=0.01)\n",
       "    (output_layer): Linear(in_features=128, out_features=6, bias=True)\n",
       "  )\n",
       ")"
      ]
     },
     "execution_count": 18,
     "metadata": {},
     "output_type": "execute_result"
    }
   ],
   "source": [
    "model = M12(config=model_config,\n",
    "            n_input=1, n_output=len(labels))\n",
    "model"
   ]
  },
  {
   "cell_type": "code",
   "execution_count": null,
   "id": "48876349-df0b-4b7d-92d8-d1f39ae8a2b6",
   "metadata": {},
   "outputs": [],
   "source": []
  },
  {
   "cell_type": "code",
   "execution_count": 19,
   "id": "5b73bd67-5cc2-4a1b-acb3-af2ee7eba6bf",
   "metadata": {},
   "outputs": [],
   "source": [
    "train_loader_length = len(train_loader.dataset)\n",
    "test_loader_length = len(test_loader.dataset)\n",
    "\n",
    "def train(model, epoch, log_interval):\n",
    "    model.train()\n",
    "    for batch_idx, (data, target) in enumerate(train_loader):\n",
    "        data = transform(data)\n",
    "        data_length = len(data)\n",
    "        data = data.to(device)\n",
    "        target = target.to(device)\n",
    "        output = model(data)\n",
    "        del data\n",
    "        gc.collect()\n",
    "        torch.cuda.empty_cache()\n",
    "        loss = F.cross_entropy(output.squeeze(), target)\n",
    "        del target\n",
    "        gc.collect()\n",
    "        torch.cuda.empty_cache()\n",
    "        optimizer.zero_grad()\n",
    "        loss.backward()\n",
    "        nn.utils.clip_grad.clip_grad_norm_(model.parameters(), 1.0)\n",
    "        optimizer.step()\n",
    "\n",
    "        # print training stats\n",
    "        if batch_idx % log_interval == 0:\n",
    "            print(f\"Train Epoch: {epoch} [{batch_idx * data_length}/{train_loader_length} ({100. * batch_idx / train_loader_length:.0f}%)]\\tLoss: {loss.item():.6f}\")\n",
    "\n",
    "        # update progress bar\n",
    "        pbar.update(pbar_update)\n",
    "        # record loss\n",
    "        train_losses.append(loss.item())\n",
    "\n",
    "def test(model, epoch):\n",
    "    model.eval()\n",
    "    correct = 0\n",
    "    for data, target in test_loader:\n",
    "        data = transform(data)\n",
    "        data = data.to(device)\n",
    "        target = target.to(device)\n",
    "        output = model(data).squeeze()\n",
    "        del data\n",
    "        gc.collect()\n",
    "        torch.cuda.empty_cache()\n",
    "        probs = F.softmax(output, dim=-1)\n",
    "        pred = probs.argmax(dim=-1)\n",
    "        correct += pred.eq(target).sum().item()\n",
    "        del target\n",
    "        gc.collect()\n",
    "        torch.cuda.empty_cache()\n",
    "        pbar.update(pbar_update)\n",
    "    acc = correct / test_loader_length\n",
    "    print(f\"\\nTest Epoch: {epoch}\\tAccuracy: {correct}/{test_loader_length} ({100. * acc:.0f}%)\\n\")\n",
    "    return acc"
   ]
  },
  {
   "cell_type": "code",
   "execution_count": 21,
   "id": "1c78aeb5-ca7e-494c-98d4-05d6c319c808",
   "metadata": {},
   "outputs": [],
   "source": [
    "n_epoch = 10\n",
    "train_losses = []\n",
    "test_accuracy = []\n",
    "optimizer = optim.RAdam(model.parameters(), lr=0.0001)\n",
    "scheduler = optim.lr_scheduler.OneCycleLR(\n",
    "    optimizer, max_lr=0.2,\n",
    "    steps_per_epoch=len(train_loader), epochs=n_epoch)"
   ]
  },
  {
   "cell_type": "code",
   "execution_count": 22,
   "id": "88076d6c-5637-462c-8eda-6554771cbae9",
   "metadata": {
    "scrolled": true
   },
   "outputs": [
    {
     "name": "stderr",
     "output_type": "stream",
     "text": [
      "  0%|                                                                          | 0.004618937644341801/10 [00:00<25:11, 151.22s/it]"
     ]
    },
    {
     "name": "stdout",
     "output_type": "stream",
     "text": [
      "Train Epoch: 1 [0/2793 (0%)]\tLoss: 1.830618\n"
     ]
    },
    {
     "name": "stderr",
     "output_type": "stream",
     "text": [
      "  2%|█▊                                                                          | 0.23556581986143155/10 [00:21<14:30, 89.13s/it]"
     ]
    },
    {
     "name": "stdout",
     "output_type": "stream",
     "text": [
      "Train Epoch: 1 [800/2793 (4%)]\tLoss: 1.539318\n"
     ]
    },
    {
     "name": "stderr",
     "output_type": "stream",
     "text": [
      "  5%|███▌                                                                        | 0.46651270207852374/10 [00:42<13:53, 87.42s/it]"
     ]
    },
    {
     "name": "stdout",
     "output_type": "stream",
     "text": [
      "Train Epoch: 1 [1600/2793 (7%)]\tLoss: 1.699448\n"
     ]
    },
    {
     "name": "stderr",
     "output_type": "stream",
     "text": [
      "  7%|█████▎                                                                      | 0.6974595842956114/10 [01:03<16:02, 103.47s/it]"
     ]
    },
    {
     "name": "stdout",
     "output_type": "stream",
     "text": [
      "Train Epoch: 1 [2400/2793 (11%)]\tLoss: 1.746494\n"
     ]
    },
    {
     "name": "stderr",
     "output_type": "stream",
     "text": [
      " 10%|███████▊                                                                      | 1.002309468822166/10 [01:27<10:52, 72.55s/it]"
     ]
    },
    {
     "name": "stdout",
     "output_type": "stream",
     "text": [
      "\n",
      "Test Epoch: 1\tAccuracy: 258/673 (38%)\n",
      "\n",
      "Train Epoch: 2 [0/2793 (0%)]\tLoss: 1.628696\n"
     ]
    },
    {
     "name": "stderr",
     "output_type": "stream",
     "text": [
      " 12%|█████████▋                                                                    | 1.235565819861435/10 [01:49<13:29, 92.42s/it]"
     ]
    },
    {
     "name": "stdout",
     "output_type": "stream",
     "text": [
      "Train Epoch: 2 [800/2793 (4%)]\tLoss: 1.574945\n"
     ]
    },
    {
     "name": "stderr",
     "output_type": "stream",
     "text": [
      " 15%|███████████▍                                                                  | 1.464203233256362/10 [02:09<13:25, 94.32s/it]"
     ]
    },
    {
     "name": "stdout",
     "output_type": "stream",
     "text": [
      "Train Epoch: 2 [1600/2793 (7%)]\tLoss: 1.504114\n"
     ]
    },
    {
     "name": "stderr",
     "output_type": "stream",
     "text": [
      " 17%|█████████████                                                                | 1.6974595842956308/10 [02:30<13:09, 95.08s/it]"
     ]
    },
    {
     "name": "stdout",
     "output_type": "stream",
     "text": [
      "Train Epoch: 2 [2400/2793 (11%)]\tLoss: 1.475571\n"
     ]
    },
    {
     "name": "stderr",
     "output_type": "stream",
     "text": [
      " 20%|███████████████▌                                                              | 2.000000000000029/10 [02:54<09:10, 68.78s/it]"
     ]
    },
    {
     "name": "stdout",
     "output_type": "stream",
     "text": [
      "\n",
      "Test Epoch: 2\tAccuracy: 303/673 (45%)\n",
      "\n"
     ]
    },
    {
     "name": "stderr",
     "output_type": "stream",
     "text": [
      " 20%|███████████████▍                                                             | 2.0046189376443704/10 [02:54<10:06, 75.88s/it]"
     ]
    },
    {
     "name": "stdout",
     "output_type": "stream",
     "text": [
      "Train Epoch: 3 [0/2793 (0%)]\tLoss: 1.706803\n"
     ]
    },
    {
     "name": "stderr",
     "output_type": "stream",
     "text": [
      " 22%|█████████████████▍                                                            | 2.235565819861446/10 [03:15<11:54, 91.99s/it]"
     ]
    },
    {
     "name": "stdout",
     "output_type": "stream",
     "text": [
      "Train Epoch: 3 [800/2793 (4%)]\tLoss: 1.644376\n"
     ]
    },
    {
     "name": "stderr",
     "output_type": "stream",
     "text": [
      " 25%|███████████████████▏                                                          | 2.464203233256351/10 [03:36<12:23, 98.69s/it]"
     ]
    },
    {
     "name": "stdout",
     "output_type": "stream",
     "text": [
      "Train Epoch: 3 [1600/2793 (7%)]\tLoss: 1.141978\n"
     ]
    },
    {
     "name": "stderr",
     "output_type": "stream",
     "text": [
      " 27%|████████████████████▊                                                        | 2.6951501154734268/10 [03:57<10:52, 89.31s/it]"
     ]
    },
    {
     "name": "stdout",
     "output_type": "stream",
     "text": [
      "Train Epoch: 3 [2400/2793 (11%)]\tLoss: 1.656430\n"
     ]
    },
    {
     "name": "stderr",
     "output_type": "stream",
     "text": [
      " 30%|███████████████████████                                                      | 2.9999999999999667/10 [04:21<08:00, 68.71s/it]"
     ]
    },
    {
     "name": "stdout",
     "output_type": "stream",
     "text": [
      "\n",
      "Test Epoch: 3\tAccuracy: 294/673 (44%)\n",
      "\n"
     ]
    },
    {
     "name": "stderr",
     "output_type": "stream",
     "text": [
      " 30%|███████████████████████▍                                                      | 3.004618937644308/10 [04:21<09:17, 79.75s/it]"
     ]
    },
    {
     "name": "stdout",
     "output_type": "stream",
     "text": [
      "Train Epoch: 4 [0/2793 (0%)]\tLoss: 1.404897\n"
     ]
    },
    {
     "name": "stderr",
     "output_type": "stream",
     "text": [
      " 32%|████████████████████████▉                                                    | 3.233256351039213/10 [04:42<11:35, 102.76s/it]"
     ]
    },
    {
     "name": "stdout",
     "output_type": "stream",
     "text": [
      "Train Epoch: 4 [800/2793 (4%)]\tLoss: 1.704845\n"
     ]
    },
    {
     "name": "stderr",
     "output_type": "stream",
     "text": [
      " 35%|██████████████████████████▋                                                  | 3.4665127020784596/10 [05:04<09:30, 87.25s/it]"
     ]
    },
    {
     "name": "stdout",
     "output_type": "stream",
     "text": [
      "Train Epoch: 4 [1600/2793 (7%)]\tLoss: 1.838640\n"
     ]
    },
    {
     "name": "stderr",
     "output_type": "stream",
     "text": [
      " 37%|████████████████████████████▍                                                | 3.6974595842955353/10 [05:25<09:23, 89.33s/it]"
     ]
    },
    {
     "name": "stdout",
     "output_type": "stream",
     "text": [
      "Train Epoch: 4 [2400/2793 (11%)]\tLoss: 1.179239\n"
     ]
    },
    {
     "name": "stderr",
     "output_type": "stream",
     "text": [
      " 40%|██████████████████████████████▊                                              | 3.9999999999999045/10 [05:49<06:53, 68.85s/it]"
     ]
    },
    {
     "name": "stdout",
     "output_type": "stream",
     "text": [
      "\n",
      "Test Epoch: 4\tAccuracy: 200/673 (30%)\n",
      "\n"
     ]
    },
    {
     "name": "stderr",
     "output_type": "stream",
     "text": [
      " 40%|██████████████████████████████▊                                              | 4.0046189376442465/10 [05:50<07:41, 77.00s/it]"
     ]
    },
    {
     "name": "stdout",
     "output_type": "stream",
     "text": [
      "Train Epoch: 5 [0/2793 (0%)]\tLoss: 1.508968\n"
     ]
    },
    {
     "name": "stderr",
     "output_type": "stream",
     "text": [
      " 42%|█████████████████████████████████                                             | 4.233256351039151/10 [06:10<09:01, 93.83s/it]"
     ]
    },
    {
     "name": "stdout",
     "output_type": "stream",
     "text": [
      "Train Epoch: 5 [800/2793 (4%)]\tLoss: 1.573509\n"
     ]
    },
    {
     "name": "stderr",
     "output_type": "stream",
     "text": [
      " 45%|██████████████████████████████████▊                                           | 4.464203233256227/10 [06:31<08:17, 89.78s/it]"
     ]
    },
    {
     "name": "stdout",
     "output_type": "stream",
     "text": [
      "Train Epoch: 5 [1600/2793 (7%)]\tLoss: 1.545018\n"
     ]
    },
    {
     "name": "stderr",
     "output_type": "stream",
     "text": [
      " 47%|████████████████████████████████████▌                                         | 4.695150115473303/10 [06:52<08:08, 92.12s/it]"
     ]
    },
    {
     "name": "stdout",
     "output_type": "stream",
     "text": [
      "Train Epoch: 5 [2400/2793 (11%)]\tLoss: 1.556402\n"
     ]
    },
    {
     "name": "stderr",
     "output_type": "stream",
     "text": [
      " 50%|██████████████████████████████████████▉                                       | 4.999999999999843/10 [07:16<05:39, 67.89s/it]"
     ]
    },
    {
     "name": "stdout",
     "output_type": "stream",
     "text": [
      "\n",
      "Test Epoch: 5\tAccuracy: 280/673 (42%)\n",
      "\n"
     ]
    },
    {
     "name": "stderr",
     "output_type": "stream",
     "text": [
      " 50%|███████████████████████████████████████                                       | 5.004618937644184/10 [07:16<06:45, 81.20s/it]"
     ]
    },
    {
     "name": "stdout",
     "output_type": "stream",
     "text": [
      "Train Epoch: 6 [0/2793 (0%)]\tLoss: 1.606279\n"
     ]
    },
    {
     "name": "stderr",
     "output_type": "stream",
     "text": [
      " 52%|████████████████████████████████████████▊                                     | 5.23556581986126/10 [07:37<07:59, 100.60s/it]"
     ]
    },
    {
     "name": "stdout",
     "output_type": "stream",
     "text": [
      "Train Epoch: 6 [800/2793 (4%)]\tLoss: 2.412661\n"
     ]
    },
    {
     "name": "stderr",
     "output_type": "stream",
     "text": [
      " 55%|██████████████████████████████████████████▋                                   | 5.466512702078336/10 [07:58<06:28, 85.77s/it]"
     ]
    },
    {
     "name": "stdout",
     "output_type": "stream",
     "text": [
      "Train Epoch: 6 [1600/2793 (7%)]\tLoss: 1.897299\n"
     ]
    },
    {
     "name": "stderr",
     "output_type": "stream",
     "text": [
      " 57%|████████████████████████████████████████████▍                                 | 5.695150115473241/10 [08:19<06:26, 89.88s/it]"
     ]
    },
    {
     "name": "stdout",
     "output_type": "stream",
     "text": [
      "Train Epoch: 6 [2400/2793 (11%)]\tLoss: 1.478840\n"
     ]
    },
    {
     "name": "stderr",
     "output_type": "stream",
     "text": [
      " 60%|██████████████████████████████████████████████▊                               | 6.002309468821951/10 [08:43<04:56, 74.11s/it]"
     ]
    },
    {
     "name": "stdout",
     "output_type": "stream",
     "text": [
      "\n",
      "Test Epoch: 6\tAccuracy: 312/673 (46%)\n",
      "\n",
      "Train Epoch: 7 [0/2793 (0%)]\tLoss: 2.094033\n"
     ]
    },
    {
     "name": "stderr",
     "output_type": "stream",
     "text": [
      " 62%|████████████████████████████████████████████████▌                             | 6.233256351039027/10 [09:05<05:39, 90.20s/it]"
     ]
    },
    {
     "name": "stdout",
     "output_type": "stream",
     "text": [
      "Train Epoch: 7 [800/2793 (4%)]\tLoss: 1.535285\n"
     ]
    },
    {
     "name": "stderr",
     "output_type": "stream",
     "text": [
      " 65%|██████████████████████████████████████████████████▍                           | 6.464203233256103/10 [09:26<05:23, 91.56s/it]"
     ]
    },
    {
     "name": "stdout",
     "output_type": "stream",
     "text": [
      "Train Epoch: 7 [1600/2793 (7%)]\tLoss: 1.589589\n"
     ]
    },
    {
     "name": "stderr",
     "output_type": "stream",
     "text": [
      " 67%|████████████████████████████████████████████████████▏                         | 6.697459584295349/10 [09:48<04:45, 86.54s/it]"
     ]
    },
    {
     "name": "stdout",
     "output_type": "stream",
     "text": [
      "Train Epoch: 7 [2400/2793 (11%)]\tLoss: 1.865002\n"
     ]
    },
    {
     "name": "stderr",
     "output_type": "stream",
     "text": [
      " 70%|█████████████████████████████████████████████████████▉                       | 6.9999999999997184/10 [10:12<03:33, 71.28s/it]"
     ]
    },
    {
     "name": "stdout",
     "output_type": "stream",
     "text": [
      "\n",
      "Test Epoch: 7\tAccuracy: 300/673 (45%)\n",
      "\n"
     ]
    },
    {
     "name": "stderr",
     "output_type": "stream",
     "text": [
      " 70%|███████████████████████████████████████████████████████▎                       | 7.00461893764406/10 [10:13<04:02, 81.12s/it]"
     ]
    },
    {
     "name": "stdout",
     "output_type": "stream",
     "text": [
      "Train Epoch: 8 [0/2793 (0%)]\tLoss: 1.408251\n"
     ]
    },
    {
     "name": "stderr",
     "output_type": "stream",
     "text": [
      " 72%|████████████████████████████████████████████████████████▍                     | 7.235565819861136/10 [10:33<03:50, 83.46s/it]"
     ]
    },
    {
     "name": "stdout",
     "output_type": "stream",
     "text": [
      "Train Epoch: 8 [800/2793 (4%)]\tLoss: 2.155061\n"
     ]
    },
    {
     "name": "stderr",
     "output_type": "stream",
     "text": [
      " 75%|██████████████████████████████████████████████████████████▏                   | 7.466512702078211/10 [10:54<04:07, 97.77s/it]"
     ]
    },
    {
     "name": "stdout",
     "output_type": "stream",
     "text": [
      "Train Epoch: 8 [1600/2793 (7%)]\tLoss: 1.716019\n"
     ]
    },
    {
     "name": "stderr",
     "output_type": "stream",
     "text": [
      " 77%|████████████████████████████████████████████████████████████                  | 7.697459584295287/10 [11:15<03:30, 91.53s/it]"
     ]
    },
    {
     "name": "stdout",
     "output_type": "stream",
     "text": [
      "Train Epoch: 8 [2400/2793 (11%)]\tLoss: 1.685972\n"
     ]
    },
    {
     "name": "stderr",
     "output_type": "stream",
     "text": [
      " 80%|██████████████████████████████████████████████████████████████▍               | 7.999999999999656/10 [11:39<02:17, 68.51s/it]"
     ]
    },
    {
     "name": "stdout",
     "output_type": "stream",
     "text": [
      "\n",
      "Test Epoch: 8\tAccuracy: 275/673 (41%)\n",
      "\n"
     ]
    },
    {
     "name": "stderr",
     "output_type": "stream",
     "text": [
      " 80%|██████████████████████████████████████████████████████████████▍               | 8.002309468821828/10 [11:39<02:37, 78.61s/it]"
     ]
    },
    {
     "name": "stdout",
     "output_type": "stream",
     "text": [
      "Train Epoch: 9 [0/2793 (0%)]\tLoss: 1.457110\n"
     ]
    },
    {
     "name": "stderr",
     "output_type": "stream",
     "text": [
      " 82%|████████████████████████████████████████████████████████████████▏             | 8.235565819861074/10 [12:00<02:28, 84.41s/it]"
     ]
    },
    {
     "name": "stdout",
     "output_type": "stream",
     "text": [
      "Train Epoch: 9 [800/2793 (4%)]\tLoss: 1.397011\n"
     ]
    },
    {
     "name": "stderr",
     "output_type": "stream",
     "text": [
      " 85%|██████████████████████████████████████████████████████████████████▊            | 8.46420323325598/10 [12:22<02:19, 91.00s/it]"
     ]
    },
    {
     "name": "stdout",
     "output_type": "stream",
     "text": [
      "Train Epoch: 9 [1600/2793 (7%)]\tLoss: 1.107536\n"
     ]
    },
    {
     "name": "stderr",
     "output_type": "stream",
     "text": [
      " 87%|███████████████████████████████████████████████████████████████████▊          | 8.695150115473055/10 [12:42<02:00, 92.37s/it]"
     ]
    },
    {
     "name": "stdout",
     "output_type": "stream",
     "text": [
      "Train Epoch: 9 [2400/2793 (11%)]\tLoss: 1.419477\n"
     ]
    },
    {
     "name": "stderr",
     "output_type": "stream",
     "text": [
      " 90%|██████████████████████████████████████████████████████████████████████▏       | 8.999999999999595/10 [13:07<01:09, 69.27s/it]"
     ]
    },
    {
     "name": "stdout",
     "output_type": "stream",
     "text": [
      "\n",
      "Test Epoch: 9\tAccuracy: 232/673 (34%)\n",
      "\n"
     ]
    },
    {
     "name": "stderr",
     "output_type": "stream",
     "text": [
      " 90%|██████████████████████████████████████████████████████████████████████▏       | 9.002309468821766/10 [13:07<01:34, 94.63s/it]"
     ]
    },
    {
     "name": "stdout",
     "output_type": "stream",
     "text": [
      "Train Epoch: 10 [0/2793 (0%)]\tLoss: 1.151583\n"
     ]
    },
    {
     "name": "stderr",
     "output_type": "stream",
     "text": [
      " 92%|███████████████████████████████████████████████████████████████████████      | 9.233256351038841/10 [13:28<01:20, 105.32s/it]"
     ]
    },
    {
     "name": "stdout",
     "output_type": "stream",
     "text": [
      "Train Epoch: 10 [800/2793 (4%)]\tLoss: 1.595562\n"
     ]
    },
    {
     "name": "stderr",
     "output_type": "stream",
     "text": [
      " 95%|█████████████████████████████████████████████████████████████████████████▊    | 9.464203233255917/10 [13:49<00:47, 89.12s/it]"
     ]
    },
    {
     "name": "stdout",
     "output_type": "stream",
     "text": [
      "Train Epoch: 10 [1600/2793 (7%)]\tLoss: 1.522315\n"
     ]
    },
    {
     "name": "stderr",
     "output_type": "stream",
     "text": [
      " 97%|███████████████████████████████████████████████████████████████████████████▋  | 9.697459584295164/10 [14:10<00:26, 88.82s/it]"
     ]
    },
    {
     "name": "stdout",
     "output_type": "stream",
     "text": [
      "Train Epoch: 10 [2400/2793 (11%)]\tLoss: 1.303435\n"
     ]
    },
    {
     "name": "stderr",
     "output_type": "stream",
     "text": [
      "100%|█████████████████████████████████████████████████████████████████████████████▉| 9.999999999999533/10 [14:34<00:00, 87.49s/it]"
     ]
    },
    {
     "name": "stdout",
     "output_type": "stream",
     "text": [
      "\n",
      "Test Epoch: 10\tAccuracy: 228/673 (34%)\n",
      "\n"
     ]
    },
    {
     "name": "stderr",
     "output_type": "stream",
     "text": [
      "\n"
     ]
    }
   ],
   "source": [
    "log_interval = 100\n",
    "pbar_update = 1 / (len(train_loader) + len(test_loader))\n",
    "model.to(device)\n",
    "with tqdm(total=n_epoch) as pbar:\n",
    "    for epoch in range(1, n_epoch + 1):\n",
    "        train(model, epoch, log_interval)\n",
    "        acc = test(model, epoch)\n",
    "        test_accuracy += [acc]\n",
    "        scheduler.step()"
   ]
  },
  {
   "cell_type": "code",
   "execution_count": 23,
   "id": "ca032882-a2a2-4743-a4c8-5a563296d665",
   "metadata": {
    "scrolled": true
   },
   "outputs": [
    {
     "name": "stdout",
     "output_type": "stream",
     "text": [
      "('lowcut_bands', Parameter containing:\n",
      "tensor([[0.0000],\n",
      "        [0.0102],\n",
      "        [0.0228],\n",
      "        [0.0384],\n",
      "        [0.0576],\n",
      "        [0.0813],\n",
      "        [0.1105],\n",
      "        [0.1465],\n",
      "        [0.1910],\n",
      "        [0.2458],\n",
      "        [0.3135],\n",
      "        [0.3970],\n",
      "        [0.0000],\n",
      "        [0.0150],\n",
      "        [0.0327],\n",
      "        [0.0534],\n",
      "        [0.0776],\n",
      "        [0.1060],\n",
      "        [0.1392],\n",
      "        [0.1782],\n",
      "        [0.2239],\n",
      "        [0.2775],\n",
      "        [0.3402],\n",
      "        [0.4138],\n",
      "        [0.0000],\n",
      "        [0.0208],\n",
      "        [0.0442],\n",
      "        [0.0702],\n",
      "        [0.0994],\n",
      "        [0.1321],\n",
      "        [0.1687],\n",
      "        [0.2096],\n",
      "        [0.2554],\n",
      "        [0.3067],\n",
      "        [0.3640],\n",
      "        [0.4282],\n",
      "        [0.0000],\n",
      "        [0.0269],\n",
      "        [0.0558],\n",
      "        [0.0869],\n",
      "        [0.1205],\n",
      "        [0.1566],\n",
      "        [0.1954],\n",
      "        [0.2373],\n",
      "        [0.2824],\n",
      "        [0.3309],\n",
      "        [0.3832],\n",
      "        [0.4394]], device='cuda:0', requires_grad=True))\n",
      "('bandwidths', Parameter containing:\n",
      "tensor([[0.0102],\n",
      "        [0.0126],\n",
      "        [0.0156],\n",
      "        [0.0192],\n",
      "        [0.0237],\n",
      "        [0.0292],\n",
      "        [0.0360],\n",
      "        [0.0445],\n",
      "        [0.0549],\n",
      "        [0.0677],\n",
      "        [0.0835],\n",
      "        [0.1030],\n",
      "        [0.0150],\n",
      "        [0.0176],\n",
      "        [0.0207],\n",
      "        [0.0242],\n",
      "        [0.0284],\n",
      "        [0.0333],\n",
      "        [0.0390],\n",
      "        [0.0457],\n",
      "        [0.0536],\n",
      "        [0.0628],\n",
      "        [0.0736],\n",
      "        [0.0862],\n",
      "        [0.0208],\n",
      "        [0.0233],\n",
      "        [0.0261],\n",
      "        [0.0292],\n",
      "        [0.0327],\n",
      "        [0.0366],\n",
      "        [0.0409],\n",
      "        [0.0458],\n",
      "        [0.0512],\n",
      "        [0.0573],\n",
      "        [0.0642],\n",
      "        [0.0718],\n",
      "        [0.0269],\n",
      "        [0.0289],\n",
      "        [0.0311],\n",
      "        [0.0335],\n",
      "        [0.0361],\n",
      "        [0.0389],\n",
      "        [0.0419],\n",
      "        [0.0451],\n",
      "        [0.0485],\n",
      "        [0.0523],\n",
      "        [0.0563],\n",
      "        [0.0606]], device='cuda:0', requires_grad=True))\n",
      "('window_params', Parameter containing:\n",
      "tensor([[[ 2.6155,  2.0645]],\n",
      "\n",
      "        [[ 1.7000,  1.1452]],\n",
      "\n",
      "        [[ 1.8645, -0.4865]],\n",
      "\n",
      "        [[ 1.0383, -0.1253]],\n",
      "\n",
      "        [[ 1.0323,  0.5028]],\n",
      "\n",
      "        [[ 1.5350, -0.1268]],\n",
      "\n",
      "        [[ 1.7531,  1.0951]],\n",
      "\n",
      "        [[ 1.1825, -1.1592]],\n",
      "\n",
      "        [[ 0.9184,  2.3299]],\n",
      "\n",
      "        [[ 1.0273,  0.5557]],\n",
      "\n",
      "        [[ 1.1323, -0.4780]],\n",
      "\n",
      "        [[ 1.2467,  0.7338]],\n",
      "\n",
      "        [[ 2.4032,  1.8231]],\n",
      "\n",
      "        [[ 1.7267,  0.4105]],\n",
      "\n",
      "        [[ 1.2085, -0.1088]],\n",
      "\n",
      "        [[ 0.9770,  0.4366]],\n",
      "\n",
      "        [[ 1.4510,  1.5698]],\n",
      "\n",
      "        [[ 1.5817,  1.1890]],\n",
      "\n",
      "        [[ 1.1084,  1.7616]],\n",
      "\n",
      "        [[ 0.8658,  0.3782]],\n",
      "\n",
      "        [[ 1.0660, -0.5839]],\n",
      "\n",
      "        [[ 1.0842,  0.3092]],\n",
      "\n",
      "        [[ 1.1777,  0.3246]],\n",
      "\n",
      "        [[ 1.3004,  1.0099]],\n",
      "\n",
      "        [[ 1.6783,  0.7838]],\n",
      "\n",
      "        [[ 1.4922,  0.3524]],\n",
      "\n",
      "        [[ 1.0219, -0.6359]],\n",
      "\n",
      "        [[ 1.4320, -0.6770]],\n",
      "\n",
      "        [[ 1.4216,  0.1806]],\n",
      "\n",
      "        [[ 1.1309,  1.6966]],\n",
      "\n",
      "        [[ 1.0216,  2.9793]],\n",
      "\n",
      "        [[ 0.9685,  1.3718]],\n",
      "\n",
      "        [[ 1.0300,  0.2510]],\n",
      "\n",
      "        [[ 1.1491, -0.0145]],\n",
      "\n",
      "        [[ 1.2068,  1.3263]],\n",
      "\n",
      "        [[ 1.2352,  0.6031]],\n",
      "\n",
      "        [[ 1.2425,  1.7698]],\n",
      "\n",
      "        [[ 1.1710,  1.7858]],\n",
      "\n",
      "        [[ 0.8447,  0.3947]],\n",
      "\n",
      "        [[ 1.8189,  0.6180]],\n",
      "\n",
      "        [[ 1.6348,  0.2732]],\n",
      "\n",
      "        [[ 0.9751,  1.5585]],\n",
      "\n",
      "        [[ 0.9676, -0.1926]],\n",
      "\n",
      "        [[ 0.9996,  0.6821]],\n",
      "\n",
      "        [[ 1.0744, -0.2015]],\n",
      "\n",
      "        [[ 1.1423,  1.9955]],\n",
      "\n",
      "        [[ 1.2665,  0.4067]],\n",
      "\n",
      "        [[ 1.2786,  0.6218]]], device='cuda:0', requires_grad=True))\n"
     ]
    }
   ],
   "source": [
    "layer = model.fe_blocks.blocks[0].layer\n",
    "from IConNet.visualizer import visualize_model\n",
    "visualize_model.print_parameters(layer)"
   ]
  },
  {
   "cell_type": "code",
   "execution_count": 24,
   "id": "b18746cf-32fd-4ad4-97be-eaa82048c5f1",
   "metadata": {},
   "outputs": [
    {
     "data": {
      "text/plain": [
       "66182"
      ]
     },
     "execution_count": 24,
     "metadata": {},
     "output_type": "execute_result"
    }
   ],
   "source": [
    "visualize_model.count_parameters(model)"
   ]
  },
  {
   "cell_type": "code",
   "execution_count": 25,
   "id": "b010d67a-3e9e-49f2-bbae-95bfff4ad84a",
   "metadata": {},
   "outputs": [
    {
     "data": {
      "text/plain": [
       "25536"
      ]
     },
     "execution_count": 25,
     "metadata": {},
     "output_type": "execute_result"
    }
   ],
   "source": [
    "visualize_model.count_parameters(model.fe_blocks)"
   ]
  },
  {
   "cell_type": "code",
   "execution_count": 26,
   "id": "2e6ada14-e4e4-4419-81b9-2aa3d1ae44be",
   "metadata": {
    "scrolled": true
   },
   "outputs": [
    {
     "name": "stdout",
     "output_type": "stream",
     "text": [
      "tensor([[ 0.0000e+00],\n",
      "        [ 1.4660e-16],\n",
      "        [-1.2357e-16],\n",
      "        [-2.9086e-17],\n",
      "        [-4.8237e-17],\n",
      "        [-1.5664e-16],\n",
      "        [-5.2867e-14],\n",
      "        [ 4.5234e-14],\n",
      "        [-6.0121e-17],\n",
      "        [-1.3960e-17],\n",
      "        [-2.7580e-17],\n",
      "        [ 1.8182e-17],\n",
      "        [ 0.0000e+00],\n",
      "        [-5.8405e-16],\n",
      "        [-5.1026e-17],\n",
      "        [-3.8856e-17],\n",
      "        [ 4.9814e-17],\n",
      "        [ 1.2627e-15],\n",
      "        [ 1.0685e-16],\n",
      "        [ 4.4521e-17],\n",
      "        [-1.5039e-18],\n",
      "        [-8.2125e-17],\n",
      "        [ 3.2179e-17],\n",
      "        [-5.8415e-17],\n",
      "        [ 0.0000e+00],\n",
      "        [ 1.0368e-16],\n",
      "        [ 1.5938e-15],\n",
      "        [ 3.9980e-15],\n",
      "        [ 1.0878e-16],\n",
      "        [-5.3067e-17],\n",
      "        [ 4.5835e-16],\n",
      "        [-3.1741e-17],\n",
      "        [-2.4775e-15],\n",
      "        [ 8.6826e-15],\n",
      "        [ 3.5824e-18],\n",
      "        [ 2.5075e-17],\n",
      "        [ 0.0000e+00],\n",
      "        [ 1.3169e-17],\n",
      "        [-2.1717e-17],\n",
      "        [ 1.7923e-17],\n",
      "        [-1.2858e-16],\n",
      "        [-2.8707e-16],\n",
      "        [-3.9341e-16],\n",
      "        [-1.1945e-18],\n",
      "        [ 1.3214e-17],\n",
      "        [-8.0083e-19],\n",
      "        [ 7.9996e-16],\n",
      "        [-1.2298e-15]], device='cuda:0')\n",
      "tensor([[ 5.1376e-16],\n",
      "        [ 2.2020e-17],\n",
      "        [ 1.0156e-16],\n",
      "        [ 3.1861e-17],\n",
      "        [-2.1566e-17],\n",
      "        [ 1.1498e-17],\n",
      "        [-5.3015e-14],\n",
      "        [ 5.8404e-18],\n",
      "        [ 1.7941e-17],\n",
      "        [ 3.4553e-18],\n",
      "        [-1.4487e-17],\n",
      "        [ 4.3356e-19],\n",
      "        [ 6.9101e-16],\n",
      "        [ 6.3295e-18],\n",
      "        [ 1.3930e-17],\n",
      "        [-1.1169e-17],\n",
      "        [ 2.1099e-16],\n",
      "        [ 4.5524e-18],\n",
      "        [ 2.1352e-17],\n",
      "        [ 1.2073e-18],\n",
      "        [ 1.4796e-17],\n",
      "        [-1.0280e-17],\n",
      "        [ 1.3767e-17],\n",
      "        [ 4.0896e-19],\n",
      "        [ 4.7267e-16],\n",
      "        [ 2.1863e-17],\n",
      "        [ 1.6476e-15],\n",
      "        [ 2.7726e-16],\n",
      "        [-2.7430e-17],\n",
      "        [-1.3095e-16],\n",
      "        [-1.1343e-18],\n",
      "        [ 3.4360e-18],\n",
      "        [-2.4615e-15],\n",
      "        [-5.9475e-19],\n",
      "        [-9.1567e-18],\n",
      "        [ 4.1955e-19],\n",
      "        [-2.8390e-17],\n",
      "        [ 3.1922e-17],\n",
      "        [ 3.1415e-18],\n",
      "        [ 2.5146e-17],\n",
      "        [-1.3414e-16],\n",
      "        [-3.2168e-16],\n",
      "        [ 1.3263e-19],\n",
      "        [ 3.2006e-19],\n",
      "        [ 1.4254e-17],\n",
      "        [ 5.4491e-18],\n",
      "        [ 8.0686e-16],\n",
      "        [ 4.7502e-19]], device='cuda:0')\n",
      "tensor([[[ 3.6319e-03,  2.8696e-04]],\n",
      "\n",
      "        [[ 4.1638e-03, -2.9438e-05]],\n",
      "\n",
      "        [[ 3.3694e-03, -3.1697e-03]],\n",
      "\n",
      "        [[ 4.5226e-03, -7.5422e-05]],\n",
      "\n",
      "        [[ 3.2452e-03, -1.7988e-04]],\n",
      "\n",
      "        [[ 1.2531e-03,  1.8254e-04]],\n",
      "\n",
      "        [[-1.9165e-03, -2.4586e-04]],\n",
      "\n",
      "        [[-1.2778e-03, -7.7259e-04]],\n",
      "\n",
      "        [[ 8.7020e-04, -8.3498e-06]],\n",
      "\n",
      "        [[-1.1833e-02,  1.0082e-04]],\n",
      "\n",
      "        [[-2.0240e-02, -5.1554e-05]],\n",
      "\n",
      "        [[-2.7917e-02,  9.5424e-05]],\n",
      "\n",
      "        [[ 4.9729e-03,  1.4313e-03]],\n",
      "\n",
      "        [[ 5.0853e-03, -6.1539e-04]],\n",
      "\n",
      "        [[ 4.0294e-03, -2.5683e-04]],\n",
      "\n",
      "        [[ 4.1021e-03,  1.7546e-04]],\n",
      "\n",
      "        [[ 4.7951e-03,  5.3150e-04]],\n",
      "\n",
      "        [[-1.0167e-03,  1.3561e-03]],\n",
      "\n",
      "        [[-3.2438e-03,  2.0721e-04]],\n",
      "\n",
      "        [[ 2.8348e-03,  1.5750e-04]],\n",
      "\n",
      "        [[-1.1461e-02,  6.9649e-06]],\n",
      "\n",
      "        [[-1.5588e-02,  1.6235e-04]],\n",
      "\n",
      "        [[-1.7397e-02,  8.6245e-05]],\n",
      "\n",
      "        [[-2.7152e-02, -1.8013e-05]],\n",
      "\n",
      "        [[ 3.7203e-03, -2.1172e-03]],\n",
      "\n",
      "        [[ 3.8344e-03, -1.8042e-03]],\n",
      "\n",
      "        [[ 5.6899e-03, -6.5618e-04]],\n",
      "\n",
      "        [[ 1.9292e-03,  3.3983e-04]],\n",
      "\n",
      "        [[-3.8040e-03,  9.5417e-05]],\n",
      "\n",
      "        [[-3.7971e-03,  3.1565e-05]],\n",
      "\n",
      "        [[ 4.2264e-03, -5.6689e-04]],\n",
      "\n",
      "        [[-5.1842e-03, -3.5052e-06]],\n",
      "\n",
      "        [[-1.2442e-02,  8.7165e-05]],\n",
      "\n",
      "        [[-1.9491e-02,  4.2800e-05]],\n",
      "\n",
      "        [[-2.1068e-02,  4.3668e-05]],\n",
      "\n",
      "        [[-2.6626e-02,  1.4942e-04]],\n",
      "\n",
      "        [[ 4.9267e-03,  4.1912e-05]],\n",
      "\n",
      "        [[ 3.9073e-03,  3.6722e-04]],\n",
      "\n",
      "        [[ 3.2430e-03,  1.0686e-04]],\n",
      "\n",
      "        [[ 1.2975e-03,  1.0052e-04]],\n",
      "\n",
      "        [[-2.0065e-03, -3.2416e-05]],\n",
      "\n",
      "        [[-2.3828e-03,  3.4715e-05]],\n",
      "\n",
      "        [[ 2.8449e-03, -2.6619e-06]],\n",
      "\n",
      "        [[-1.3106e-02,  1.1895e-04]],\n",
      "\n",
      "        [[-1.8975e-02, -1.0539e-04]],\n",
      "\n",
      "        [[-1.9057e-02,  1.1504e-04]],\n",
      "\n",
      "        [[-2.4641e-02,  5.6434e-05]],\n",
      "\n",
      "        [[-2.8515e-02, -2.7530e-05]]], device='cuda:0')\n",
      "tensor([[ 0.0000e+00,  0.0000e+00,  0.0000e+00,  ...,  0.0000e+00,\n",
      "          0.0000e+00,  0.0000e+00],\n",
      "        [ 2.1870e-21, -4.0476e-20, -1.6396e-19,  ..., -8.1226e-20,\n",
      "         -8.9229e-20, -8.5871e-20],\n",
      "        [-1.0390e-18,  8.6819e-19,  1.1137e-17,  ...,  3.7694e-17,\n",
      "          4.4768e-17,  4.3539e-17],\n",
      "        ...,\n",
      "        [-9.8953e-20, -9.7516e-20, -1.2392e-18,  ..., -8.8994e-18,\n",
      "         -9.3629e-18, -9.4394e-18],\n",
      "        [-1.0521e-19,  2.1565e-18, -1.1396e-18,  ...,  5.6709e-18,\n",
      "          8.5618e-18,  1.3509e-17],\n",
      "        [ 3.2231e-21, -2.5630e-20, -2.6529e-19,  ..., -8.1768e-19,\n",
      "         -7.5559e-19, -1.1272e-18]], device='cuda:0')\n",
      "tensor([[ 2.0970e-18,  7.5326e-19,  1.0116e-18,  ..., -1.5140e-19,\n",
      "         -1.7281e-19, -1.9880e-19],\n",
      "        [ 1.5262e-21, -4.2723e-20, -1.7625e-19,  ..., -8.6104e-20,\n",
      "         -9.4588e-20, -9.1739e-20],\n",
      "        [ 2.8289e-19,  9.1499e-20,  3.5049e-18,  ...,  6.0903e-18,\n",
      "          6.9162e-18,  6.6599e-18],\n",
      "        ...,\n",
      "        [-1.0749e-19, -9.8466e-20, -1.2821e-18,  ..., -9.2429e-18,\n",
      "         -9.7740e-18, -9.7898e-18],\n",
      "        [ 3.4361e-21,  1.0597e-20,  2.1499e-20,  ...,  3.2924e-19,\n",
      "          3.2121e-19,  4.3106e-19],\n",
      "        [-2.0239e-22, -1.3676e-22, -5.9125e-22,  ..., -4.5184e-20,\n",
      "         -4.3370e-20, -3.4474e-20]], device='cuda:0')\n",
      "tensor([[[ 1.3504e-05,  1.8752e-05, -2.9752e-05,  ...,  4.0894e-06,\n",
      "           7.0931e-06,  3.2091e-06],\n",
      "         [-4.9676e-05, -1.2045e-05,  4.1053e-05,  ...,  1.3757e-05,\n",
      "          -3.2232e-05, -4.2805e-05],\n",
      "         [-8.1471e-05, -1.7677e-05,  4.8693e-05,  ..., -1.7063e-05,\n",
      "           2.9587e-05,  3.0928e-05],\n",
      "         ...,\n",
      "         [-9.6628e-05, -2.2417e-05,  5.0252e-05,  ..., -7.7770e-06,\n",
      "           1.7111e-05,  1.9089e-05],\n",
      "         [-1.0439e-04, -2.5981e-05,  5.3903e-05,  ..., -8.8558e-06,\n",
      "           2.0250e-05,  2.0969e-05],\n",
      "         [-1.0591e-04, -2.7131e-05,  5.4426e-05,  ..., -1.0762e-05,\n",
      "           1.9266e-05,  2.2784e-05]],\n",
      "\n",
      "        [[-6.8677e-06, -1.0175e-06, -5.2132e-06,  ...,  2.3597e-08,\n",
      "           6.9786e-07,  1.0206e-08],\n",
      "         [ 1.0728e-06,  4.8064e-08, -1.7307e-06,  ..., -1.5476e-07,\n",
      "          -8.5379e-08,  7.4640e-09],\n",
      "         [ 1.1661e-06,  3.1248e-07, -2.5083e-06,  ..., -3.4014e-07,\n",
      "           4.2887e-07, -1.6381e-08],\n",
      "         ...,\n",
      "         [ 4.5353e-07,  2.1865e-07, -1.7061e-06,  ..., -1.1162e-07,\n",
      "           3.2969e-07, -1.4129e-08],\n",
      "         [ 4.5237e-07,  2.7115e-07, -1.9502e-06,  ..., -1.1577e-07,\n",
      "           3.5944e-07,  6.1232e-10],\n",
      "         [ 3.9767e-07,  2.7655e-07, -2.0518e-06,  ..., -1.4762e-07,\n",
      "           4.4995e-07, -2.4482e-08]],\n",
      "\n",
      "        [[-1.3136e-04,  6.4108e-06,  1.3707e-04,  ...,  2.3319e-06,\n",
      "           2.8715e-06,  3.6890e-06],\n",
      "         [-1.4635e-04,  5.4878e-07,  1.5174e-04,  ...,  6.9057e-06,\n",
      "          -1.0189e-05, -1.3167e-05],\n",
      "         [-1.8399e-04, -7.9484e-06,  1.6986e-04,  ...,  2.5309e-05,\n",
      "          -1.2022e-05,  3.7924e-05],\n",
      "         ...,\n",
      "         [-3.4333e-04, -4.8109e-05,  1.9330e-04,  ...,  3.4568e-05,\n",
      "          -6.9760e-06,  5.7969e-06],\n",
      "         [-3.7721e-04, -6.1187e-05,  2.1410e-04,  ...,  4.4889e-05,\n",
      "          -4.9213e-06,  5.8676e-06],\n",
      "         [-3.8758e-04, -5.8910e-05,  2.1846e-04,  ...,  4.2806e-05,\n",
      "          -7.3540e-07,  6.4557e-06]],\n",
      "\n",
      "        ...,\n",
      "\n",
      "        [[ 2.6883e-05, -4.9274e-08, -2.6393e-05,  ..., -2.6168e-05,\n",
      "           2.7140e-06,  2.6947e-05],\n",
      "         [ 1.6578e-04, -2.8072e-06, -1.6334e-04,  ..., -1.6123e-04,\n",
      "           1.3174e-05,  1.6549e-04],\n",
      "         [-4.1962e-06,  3.5706e-07,  2.6294e-06,  ...,  4.6951e-06,\n",
      "          -4.4766e-06,  3.5291e-07],\n",
      "         ...,\n",
      "         [ 1.0325e-04,  1.3010e-05, -1.1221e-04,  ..., -1.2501e-04,\n",
      "          -1.9970e-04,  1.5304e-04],\n",
      "         [ 1.0222e-04,  1.7177e-05, -1.2888e-04,  ..., -1.4635e-04,\n",
      "          -2.0607e-04,  1.6992e-04],\n",
      "         [ 9.3390e-05,  2.0341e-05, -1.2457e-04,  ..., -1.5123e-04,\n",
      "          -2.0005e-04,  1.7516e-04]],\n",
      "\n",
      "        [[ 1.2711e-05, -1.8673e-07, -1.2664e-05,  ..., -1.2435e-05,\n",
      "           1.1740e-06,  1.2321e-05],\n",
      "         [ 1.4426e-04,  5.5513e-07, -1.4402e-04,  ..., -1.4474e-04,\n",
      "           4.4553e-06,  1.4234e-04],\n",
      "         [ 1.6550e-05, -1.4713e-06, -1.4706e-05,  ..., -1.2250e-05,\n",
      "           6.2199e-07,  1.6090e-05],\n",
      "         ...,\n",
      "         [ 5.1259e-05, -6.0897e-06, -4.2101e-05,  ..., -1.4303e-05,\n",
      "          -1.6545e-05, -2.9932e-05],\n",
      "         [-1.3621e-05, -1.5464e-05, -6.7551e-06,  ...,  3.6834e-07,\n",
      "          -3.0447e-05, -1.4806e-05],\n",
      "         [ 9.9898e-07, -1.4478e-05, -1.1753e-05,  ..., -4.1916e-06,\n",
      "          -2.2427e-05, -1.9551e-05]],\n",
      "\n",
      "        [[ 4.5022e-05, -4.9305e-07, -4.5066e-05,  ..., -4.5019e-05,\n",
      "           3.7577e-06,  4.4956e-05],\n",
      "         [ 2.0793e-04, -2.2042e-06, -2.1235e-04,  ..., -2.1407e-04,\n",
      "           1.6621e-05,  2.1286e-04],\n",
      "         [ 3.1693e-05, -3.8910e-06, -3.4876e-05,  ..., -3.8240e-05,\n",
      "           6.7422e-06,  3.2998e-05],\n",
      "         ...,\n",
      "         [ 3.8729e-04,  2.1219e-05, -4.5722e-04,  ..., -5.3129e-04,\n",
      "          -1.5642e-04,  5.2956e-04],\n",
      "         [ 4.4841e-04,  2.5537e-05, -4.9950e-04,  ..., -5.9303e-04,\n",
      "          -1.7294e-04,  5.9888e-04],\n",
      "         [ 4.5996e-04,  1.8141e-05, -5.2177e-04,  ..., -6.0931e-04,\n",
      "          -1.5441e-04,  6.0182e-04]]], device='cuda:0')\n",
      "tensor([[-1.0368e-05, -2.5365e-04, -1.7112e-04,  ...,  6.2286e-07,\n",
      "         -3.0426e-05, -8.4329e-06],\n",
      "        [ 5.4892e-05,  2.7535e-04,  3.0216e-04,  ..., -1.4564e-05,\n",
      "         -1.9596e-05, -1.8978e-04],\n",
      "        [ 2.0553e-07, -2.7502e-07, -4.5469e-07,  ..., -1.4350e-06,\n",
      "         -1.4595e-06, -1.6176e-06],\n",
      "        ...,\n",
      "        [ 2.7952e-04,  1.7594e-03,  2.2115e-03,  ...,  1.1492e-03,\n",
      "          1.1846e-03,  1.2344e-03],\n",
      "        [-5.5022e-06, -4.7443e-04,  1.1719e-04,  ...,  2.1927e-06,\n",
      "         -3.4337e-05, -1.5230e-05],\n",
      "        [-4.2087e-07,  3.3561e-07,  3.6627e-07,  ...,  6.4863e-06,\n",
      "          7.3566e-06,  7.7228e-06]], device='cuda:0')\n",
      "tensor([[-5.4537e-05, -2.6528e-05,  8.2299e-07,  ..., -2.0530e-05,\n",
      "          2.8732e-04,  8.6859e-07],\n",
      "        [-4.4281e-05,  2.4622e-04,  6.0868e-07,  ..., -1.6848e-04,\n",
      "          3.4840e-05, -2.8768e-06],\n",
      "        [ 2.5402e-06,  3.8734e-07, -1.3539e-07,  ...,  9.5927e-06,\n",
      "         -6.8934e-06, -7.4108e-08],\n",
      "        ...,\n",
      "        [ 1.3805e-03,  1.0979e-03,  1.4171e-05,  ..., -1.5552e-03,\n",
      "         -1.1664e-03, -1.0957e-05],\n",
      "        [ 2.0211e-03, -3.9732e-05, -4.3373e-06,  ..., -1.0007e-03,\n",
      "         -8.0461e-04,  1.3893e-05],\n",
      "        [ 1.2160e-05, -7.6672e-07, -7.3157e-08,  ...,  3.9018e-06,\n",
      "         -1.8394e-05,  3.3199e-07]], device='cuda:0')\n",
      "tensor([-7.2499e-04,  5.7490e-04,  2.8769e-05, -1.8693e-02,  2.3097e-04,\n",
      "         1.8463e-02, -4.7106e-03,  6.5586e-04,  1.1643e-02, -3.0861e-04,\n",
      "         2.8493e-04, -2.4436e-05,  1.1267e-04, -1.6813e-03, -2.1515e-02,\n",
      "         1.5962e-03, -1.0010e-03, -2.2561e-03, -5.0245e-04, -8.5764e-04,\n",
      "         2.0910e-05, -1.8989e-03, -1.6505e-03,  1.0730e-04, -3.3071e-03,\n",
      "        -1.1959e-02, -1.1249e-03,  7.2790e-05,  3.1217e-03,  7.3004e-03,\n",
      "        -1.6064e-03, -4.2323e-04, -4.6857e-04,  1.0196e-04,  6.3953e-06,\n",
      "        -8.6738e-03,  4.1785e-05, -3.0665e-03, -1.2103e-03, -1.6631e-04,\n",
      "         8.5894e-03,  1.4586e-03,  5.2831e-04, -4.0469e-06,  1.1212e-05,\n",
      "         9.0786e-05, -8.8876e-03,  1.4947e-03, -6.8410e-03, -3.1554e-03,\n",
      "        -2.9185e-03, -2.4555e-04, -1.8079e-04, -2.7148e-03, -3.3646e-04,\n",
      "         6.7924e-08, -2.9561e-03,  9.6429e-03, -5.5296e-04,  2.9857e-07,\n",
      "         2.1685e-03,  7.4673e-03, -2.4846e-03, -9.0728e-05,  3.6097e-03,\n",
      "        -5.4390e-03, -1.2161e-04,  6.6125e-02,  2.0628e-02, -7.0389e-02,\n",
      "         5.8072e-02,  2.2576e-02, -1.4745e-01,  4.3690e-02,  3.6126e-03,\n",
      "         2.2806e-03, -1.8707e-05,  2.5921e-02,  2.0897e-02,  1.7042e-02,\n",
      "         1.7377e-02,  3.6201e-02,  2.4258e-04, -2.9098e-02,  9.7031e-03,\n",
      "         2.3145e-02,  5.8698e-03,  1.0129e-02,  1.5103e-02, -3.0647e-01,\n",
      "         4.8556e-03,  2.0482e-03,  5.8941e-02, -9.1780e-02,  2.8783e-02,\n",
      "         1.0535e-02, -1.0558e-03,  2.0000e-03,  1.3078e-04, -1.2780e-03,\n",
      "         3.2473e-04,  2.0712e-03,  9.6544e-05,  9.3590e-04,  1.2126e-02,\n",
      "        -3.6351e-04, -3.9326e-04, -7.7548e-06,  1.3659e-04,  5.4120e-04,\n",
      "         1.2958e-03, -7.7683e-05,  1.1196e-03, -6.1074e-04,  2.1001e-03,\n",
      "        -1.6002e-04,  1.9949e-04,  1.9700e-03, -2.0624e-05,  3.6689e-04,\n",
      "        -1.1022e-03, -8.9355e-03, -1.2139e-03,  5.9091e-05,  4.5038e-03,\n",
      "         3.7555e-03,  7.2745e-04, -2.4848e-05], device='cuda:0')\n",
      "tensor([-7.2499e-04,  5.7490e-04,  2.8769e-05, -1.8693e-02,  2.3097e-04,\n",
      "         1.8463e-02, -4.7106e-03,  6.5586e-04,  1.1643e-02, -3.0861e-04,\n",
      "         2.8493e-04, -2.4436e-05,  1.1267e-04, -1.6813e-03, -2.1515e-02,\n",
      "         1.5962e-03, -1.0010e-03, -2.2561e-03, -5.0245e-04, -8.5764e-04,\n",
      "         2.0910e-05, -1.8989e-03, -1.6505e-03,  1.0730e-04, -3.3071e-03,\n",
      "        -1.1959e-02, -1.1249e-03,  7.2790e-05,  3.1217e-03,  7.3004e-03,\n",
      "        -1.6064e-03, -4.2323e-04, -4.6857e-04,  1.0196e-04,  6.3953e-06,\n",
      "        -8.6738e-03,  4.1785e-05, -3.0665e-03, -1.2103e-03, -1.6631e-04,\n",
      "         8.5894e-03,  1.4586e-03,  5.2831e-04, -4.0469e-06,  1.1212e-05,\n",
      "         9.0786e-05, -8.8876e-03,  1.4947e-03, -6.8410e-03, -3.1554e-03,\n",
      "        -2.9185e-03, -2.4555e-04, -1.8079e-04, -2.7148e-03, -3.3646e-04,\n",
      "         6.7924e-08, -2.9561e-03,  9.6429e-03, -5.5296e-04,  2.9857e-07,\n",
      "         2.1685e-03,  7.4673e-03, -2.4846e-03, -9.0728e-05,  3.6097e-03,\n",
      "        -5.4390e-03, -1.2161e-04,  6.6125e-02,  2.0628e-02, -7.0389e-02,\n",
      "         5.8072e-02,  2.2576e-02, -1.4745e-01,  4.3690e-02,  3.6126e-03,\n",
      "         2.2806e-03, -1.8707e-05,  2.5921e-02,  2.0897e-02,  1.7042e-02,\n",
      "         1.7377e-02,  3.6201e-02,  2.4258e-04, -2.9098e-02,  9.7031e-03,\n",
      "         2.3145e-02,  5.8698e-03,  1.0129e-02,  1.5103e-02, -3.0647e-01,\n",
      "         4.8556e-03,  2.0482e-03,  5.8941e-02, -9.1780e-02,  2.8783e-02,\n",
      "         1.0535e-02, -1.0558e-03,  2.0000e-03,  1.3078e-04, -1.2780e-03,\n",
      "         3.2473e-04,  2.0712e-03,  9.6544e-05,  9.3590e-04,  1.2126e-02,\n",
      "        -3.6351e-04, -3.9326e-04, -7.7548e-06,  1.3659e-04,  5.4120e-04,\n",
      "         1.2958e-03, -7.7683e-05,  1.1196e-03, -6.1074e-04,  2.1001e-03,\n",
      "        -1.6002e-04,  1.9949e-04,  1.9700e-03, -2.0624e-05,  3.6689e-04,\n",
      "        -1.1022e-03, -8.9355e-03, -1.2139e-03,  5.9091e-05,  4.5038e-03,\n",
      "         3.7555e-03,  7.2745e-04, -2.4848e-05], device='cuda:0')\n",
      "tensor([-4.3215e-04,  1.5045e-03, -8.4456e-05, -1.1031e-03, -7.0711e-04,\n",
      "         1.9906e-04, -3.6332e-04,  2.4026e-03,  1.0856e-02, -2.5077e-03,\n",
      "        -2.0575e-03, -5.2917e-04, -1.9093e-04,  7.5737e-04, -1.5261e-02,\n",
      "        -1.1495e-02, -2.3799e-03, -1.6763e-03, -2.1803e-03, -1.2159e-03,\n",
      "        -3.7508e-05, -2.6864e-03,  1.3044e-03, -6.9544e-04, -3.7036e-03,\n",
      "         3.3146e-02, -5.7286e-04, -1.2310e-04,  5.5796e-03,  1.9480e-03,\n",
      "        -4.3297e-03,  4.0181e-04, -7.0028e-04,  4.5101e-04, -1.1405e-04,\n",
      "        -2.6155e-03,  4.1358e-04, -4.1123e-03, -7.8337e-04, -2.0859e-03,\n",
      "         2.9249e-03, -1.9804e-03,  2.4505e-04, -1.0023e-04, -1.4075e-04,\n",
      "        -1.9970e-03,  6.6387e-05, -1.0083e-04,  4.1997e-05, -1.7138e-03,\n",
      "         1.9673e-04, -1.2653e-03,  7.4529e-05, -7.8102e-05,  2.0211e-04,\n",
      "         1.2485e-04, -2.7270e-03, -8.3475e-03, -2.6754e-04, -3.7823e-05,\n",
      "         6.9130e-05, -1.5820e-03,  3.0273e-04, -5.8410e-05,  5.5931e-04,\n",
      "        -6.4901e-03,  1.5473e-04, -1.1549e-02,  2.5445e-04,  2.7519e-03,\n",
      "        -4.7129e-03, -1.6788e-03,  4.7354e-02, -1.5944e-03, -1.0187e-03,\n",
      "         3.1851e-05, -4.7942e-05, -4.0508e-03, -1.7620e-03, -6.1335e-05,\n",
      "         1.0688e-04,  3.2916e-03,  4.1587e-04, -3.0303e-03,  7.8973e-05,\n",
      "         1.2046e-04, -5.7827e-04, -2.5909e-04, -2.0762e-04, -1.7242e-02,\n",
      "         1.1441e-04, -1.7150e-04, -4.4771e-04, -5.1739e-03, -1.7612e-03,\n",
      "         6.3876e-05], device='cuda:0')\n",
      "tensor([ 7.1334e-04, -8.9112e-03, -5.6853e-04,  8.6145e-03, -5.5573e-03,\n",
      "        -4.6376e-03,  3.1526e-03, -3.6356e-03, -2.1153e-03,  7.9326e-04,\n",
      "         1.2384e-03, -3.3825e-03, -1.4023e-03, -2.6717e-03, -1.7671e-03,\n",
      "        -1.0403e-04,  1.2272e-03, -3.1028e-03,  9.3703e-04, -5.5012e-03,\n",
      "         8.4914e-04,  3.2479e-03,  2.9968e-03, -4.7167e-03, -2.9852e-03,\n",
      "         9.1842e-03, -3.7288e-03, -9.3234e-04, -5.3419e-03, -2.9090e-03,\n",
      "         2.3048e-03,  2.7221e-03, -3.2263e-03, -1.8616e-03, -8.4537e-04,\n",
      "         5.6660e-03,  2.7235e-03, -5.4194e-03,  4.1095e-03, -4.1975e-03,\n",
      "        -1.2153e-02,  1.5930e-03, -1.2922e-03, -8.1801e-04, -1.1079e-03,\n",
      "        -3.7953e-03,  6.9583e-04,  6.0043e-04, -5.8950e-04,  3.7859e-03,\n",
      "        -1.0022e-04, -5.1824e-03,  1.3535e-03, -7.3428e-04,  5.4237e-04,\n",
      "         1.7205e-03,  4.5230e-05, -1.3085e-02, -1.0107e-03, -3.4270e-04,\n",
      "         1.2164e-03, -8.5324e-03,  2.8804e-03,  3.6958e-04,  1.1675e-03,\n",
      "        -6.0344e-03,  9.4828e-04,  9.4468e-03,  3.4337e-03,  4.0967e-03,\n",
      "         9.5531e-03, -1.4140e-03,  1.9159e-03,  6.0354e-03,  2.2493e-04,\n",
      "         1.1382e-04, -8.4453e-04,  1.4604e-03,  8.0766e-03,  3.4162e-03,\n",
      "         1.3525e-03,  5.1382e-03, -1.7598e-03, -5.8224e-03,  4.2742e-03,\n",
      "         1.5342e-03,  3.6864e-03,  2.3880e-03,  3.2872e-03, -8.2531e-03,\n",
      "         2.3096e-03, -1.1284e-03,  2.5127e-03, -2.9189e-03,  4.2236e-03,\n",
      "         3.3934e-03], device='cuda:0')\n",
      "tensor([[ 3.8804e-06,  4.1906e-05, -8.2645e-07,  ..., -2.3798e-05,\n",
      "         -1.6928e-04,  2.1100e-07],\n",
      "        [ 1.3477e-04, -1.4643e-05, -8.6837e-06,  ...,  2.0540e-05,\n",
      "          8.8278e-05, -2.9495e-05],\n",
      "        [-4.0019e-05, -2.3924e-04,  3.8665e-06,  ..., -2.7307e-05,\n",
      "         -1.2478e-04,  2.4879e-05],\n",
      "        ...,\n",
      "        [ 2.2495e-05,  2.3474e-06, -1.3209e-06,  ...,  2.4386e-05,\n",
      "          1.6229e-04, -6.8446e-06],\n",
      "        [ 2.0549e-05,  1.5811e-04, -1.3310e-06,  ..., -1.2608e-05,\n",
      "         -1.3974e-04, -1.1861e-05],\n",
      "        [ 2.8348e-05,  7.8819e-05, -4.1505e-06,  ..., -2.0603e-05,\n",
      "         -1.4410e-04, -6.5956e-06]], device='cuda:0')\n",
      "tensor([ 1.2339e-04,  1.1133e-04, -9.2948e-05,  1.7956e-03,  1.1801e-04,\n",
      "         7.3782e-05, -4.8378e-05,  4.5856e-05, -4.5695e-04, -3.4807e-04,\n",
      "        -8.9116e-05, -9.2644e-04, -1.0046e-04, -2.2660e-04,  9.7712e-05,\n",
      "        -3.5853e-05, -7.2951e-05, -3.1088e-04,  1.0606e-05, -1.0819e-05,\n",
      "         2.3540e-04, -2.0248e-04,  6.5191e-04,  2.9212e-05,  5.0606e-05,\n",
      "         2.1867e-04,  2.3893e-05, -1.6388e-04, -2.5504e-04,  1.0148e-03,\n",
      "         1.2088e-04,  1.2283e-03,  4.5088e-04,  2.1321e-06, -2.2783e-05,\n",
      "         8.4760e-05, -2.6816e-05,  4.3682e-05, -2.8139e-04, -1.1142e-04,\n",
      "         3.8467e-05,  4.0133e-04,  5.2325e-05,  1.3266e-04, -2.5297e-04,\n",
      "        -6.3860e-05,  1.1102e-05, -3.1439e-04,  1.0660e-04,  5.3227e-05,\n",
      "         4.2447e-04,  1.2648e-04, -2.5969e-04,  5.9169e-05, -2.0724e-03,\n",
      "         9.1922e-05, -7.5843e-04,  1.0927e-03,  2.2786e-06,  5.3364e-05,\n",
      "        -1.6999e-04, -1.6436e-03, -9.6532e-05,  1.5455e-04, -6.7515e-05,\n",
      "        -2.6338e-04,  7.5649e-04, -1.6934e-04, -1.7282e-04, -5.6777e-05,\n",
      "         2.6151e-03, -1.2988e-03,  2.7693e-04,  2.2415e-04,  2.1752e-04,\n",
      "         5.5618e-04, -1.4064e-05,  1.0805e-04,  1.4860e-04,  2.8752e-04,\n",
      "        -3.2223e-05, -3.0402e-04, -5.9863e-05,  9.1357e-04, -1.8618e-04,\n",
      "        -2.2397e-04, -1.8873e-04,  4.7301e-04,  2.9673e-04, -7.9629e-05,\n",
      "         3.3180e-05, -1.1912e-04, -4.7914e-05, -2.4926e-04,  5.0516e-04,\n",
      "         1.2612e-04,  3.1725e-05, -1.7614e-03, -1.9161e-04,  1.7735e-04,\n",
      "         1.0853e-04,  2.3954e-05,  1.3034e-03, -1.0827e-05, -3.5946e-04,\n",
      "         4.3040e-05,  1.3080e-03,  4.7595e-05, -1.5890e-04,  1.3513e-03,\n",
      "        -1.0506e-03, -3.2144e-04, -5.2938e-05,  1.2551e-04,  1.2700e-04,\n",
      "         1.8729e-04, -5.6426e-06, -4.2829e-05, -2.8058e-03,  1.5803e-04,\n",
      "         7.6180e-06, -5.7378e-04, -1.9461e-03,  1.1412e-05,  8.2495e-05,\n",
      "        -7.4704e-05,  1.9082e-04,  1.4950e-04], device='cuda:0')\n",
      "tensor([-1.5071e-03, -8.9143e-03, -5.2917e-04, -2.8749e-03, -2.7253e-03,\n",
      "         5.3378e-03,  2.8223e-03, -5.5828e-04,  1.0762e-01,  2.1255e-03,\n",
      "         8.5844e-03,  2.1828e-02, -2.0246e-03, -5.3202e-03, -2.2600e-03,\n",
      "         2.7641e-04,  4.5931e-02,  2.9678e-02,  1.8851e-03,  3.7797e-03,\n",
      "        -3.0382e-03, -2.3761e-03, -1.1235e-02,  5.4289e-04,  3.5719e-04,\n",
      "         1.8393e-03, -4.2133e-05, -5.4079e-03, -1.2400e-02, -5.3395e-03,\n",
      "         1.9898e-03,  1.3999e-02,  1.2825e-02,  1.1021e-03,  1.7819e-03,\n",
      "         4.8211e-05,  2.7790e-03,  3.4339e-03, -2.9971e-03,  1.1633e-03,\n",
      "        -9.9387e-04, -2.5040e-03,  6.7313e-04, -3.1210e-03,  8.1101e-03,\n",
      "         7.5660e-03,  4.2723e-04,  7.3642e-04,  2.2025e-04,  2.6170e-04,\n",
      "         1.9975e-03,  5.0300e-03, -1.3547e-02, -9.6769e-04, -3.6361e-02,\n",
      "         6.1198e-04, -1.3378e-03,  1.5127e-03, -9.4752e-04, -3.8412e-04,\n",
      "         2.9882e-03, -1.8099e-02,  1.4170e-05,  2.4217e-03, -3.1582e-04,\n",
      "        -3.9209e-03, -1.3675e-02, -1.7652e-03, -1.6782e-03,  4.3204e-03,\n",
      "         1.6044e-03, -1.7892e-02, -3.8211e-03, -9.0543e-04, -5.8548e-03,\n",
      "         3.4804e-02,  2.1304e-03, -4.3549e-03,  1.8498e-03,  6.3809e-02,\n",
      "         1.1556e-02,  1.3674e-03,  5.6140e-03,  1.8782e-02, -1.9858e-03,\n",
      "        -2.2969e-03, -2.1521e-03, -1.2838e-02, -2.5811e-03, -6.2095e-03,\n",
      "        -4.3412e-04,  1.5096e-03,  5.2158e-04,  1.1892e-02,  1.2527e-02,\n",
      "         2.4168e-03, -3.3653e-03, -1.2472e-03,  5.0723e-03, -2.6087e-03,\n",
      "        -9.6800e-04,  4.1231e-03,  1.9519e-02,  5.1952e-02,  2.1296e-03,\n",
      "         2.1245e-04,  5.3515e-02, -3.9730e-04,  3.8181e-04, -4.4026e-02,\n",
      "        -3.6467e-02, -1.0038e-02,  1.3775e-03,  3.9719e-03, -5.4144e-04,\n",
      "        -1.4513e-02,  1.5726e-03, -1.7491e-03, -5.3698e-03, -1.1017e-03,\n",
      "        -6.9457e-04, -1.6264e-03,  5.6531e-04, -1.6580e-04, -4.9322e-03,\n",
      "         1.9778e-04, -3.7304e-03,  6.1977e-03], device='cuda:0')\n",
      "tensor([ 8.7738e-03,  7.6757e-03,  1.9764e-02,  3.4760e-03, -1.9090e-02,\n",
      "        -1.9429e-02,  1.2011e-02,  3.2062e-03,  2.3352e-02, -2.1793e-02,\n",
      "         2.3888e-02,  6.1373e-03, -6.8837e-03, -3.3622e-03,  5.6780e-03,\n",
      "         3.6729e-03, -2.4662e-02, -1.7950e-02, -7.8699e-03,  5.3918e-03,\n",
      "        -2.1442e-02, -3.3663e-03,  3.1400e-02,  5.3620e-03,  1.4342e-02,\n",
      "         1.1017e-02, -9.7297e-05,  1.8313e-02,  6.0261e-04,  5.4100e-02,\n",
      "         2.0270e-02,  2.2868e-02,  3.6751e-02, -7.0236e-03,  1.2266e-02,\n",
      "         5.2720e-03,  9.0179e-03, -1.2116e-02,  1.8731e-02, -1.0787e-02,\n",
      "         1.6948e-02,  3.3858e-02,  4.4790e-03, -6.8900e-03, -2.5565e-02,\n",
      "        -1.0744e-02, -2.6605e-03, -1.4031e-02, -7.9707e-03,  5.5772e-03,\n",
      "         2.0368e-02,  1.5512e-02, -1.6070e-02,  2.0965e-03, -6.2039e-02,\n",
      "         8.6694e-03, -1.5254e-02,  2.5623e-02,  5.5521e-03, -3.3869e-03,\n",
      "        -1.3785e-02, -5.8052e-02, -1.5549e-02, -1.8921e-04, -8.6914e-03,\n",
      "        -1.1698e-02, -1.4510e-02, -2.6590e-03, -1.9738e-03,  1.0591e-02,\n",
      "         7.9815e-02, -4.8971e-02,  3.8943e-03, -2.0005e-02,  1.1888e-02,\n",
      "        -8.3086e-03,  7.5000e-03, -1.3642e-02,  1.2511e-02,  3.3849e-02,\n",
      "        -1.5515e-02, -1.6536e-02, -1.9125e-02,  3.3079e-02, -3.3079e-03,\n",
      "         2.4788e-02, -1.6410e-03,  1.9532e-02,  2.1597e-02, -1.9555e-02,\n",
      "         1.0173e-02, -1.8515e-02, -8.4649e-03,  5.4839e-03, -1.9660e-02,\n",
      "         1.5952e-02, -3.7050e-03, -6.6483e-02,  3.9653e-03, -7.7879e-03,\n",
      "         8.8206e-03, -8.2737e-03,  2.8241e-02, -2.4079e-02, -2.2036e-02,\n",
      "        -8.4195e-03, -5.7660e-03,  1.0810e-02,  2.0480e-03,  3.6716e-02,\n",
      "        -3.1377e-02, -1.1561e-02, -2.3940e-02,  1.1317e-02,  1.4111e-03,\n",
      "        -2.2264e-02,  9.3086e-03, -6.5119e-03,  1.3702e-03,  3.0152e-04,\n",
      "        -9.3015e-03, -4.2685e-02,  2.3170e-02,  2.8489e-03,  1.2429e-02,\n",
      "        -2.4754e-03,  6.4691e-03,  1.4951e-02], device='cuda:0')\n",
      "tensor([[-7.3539e-07,  1.1413e-05, -8.0564e-06,  ..., -5.5466e-06,\n",
      "         -4.9336e-08, -7.4844e-06],\n",
      "        [-2.3160e-05,  8.2138e-04, -2.4740e-04,  ..., -1.8047e-04,\n",
      "          4.1293e-05, -2.6795e-04],\n",
      "        [-8.7222e-08, -9.5279e-06, -3.6572e-06,  ..., -3.7633e-06,\n",
      "         -3.3025e-06, -8.2186e-06],\n",
      "        ...,\n",
      "        [-1.5409e-07, -2.4925e-06, -2.6672e-06,  ..., -2.3994e-06,\n",
      "         -1.3497e-06, -4.5210e-06],\n",
      "        [-1.5306e-06, -3.0918e-05, -1.8779e-05,  ..., -1.6996e-05,\n",
      "         -9.1463e-06, -2.8186e-05],\n",
      "        [-5.9058e-07,  4.3147e-06, -2.8360e-06,  ..., -1.4580e-06,\n",
      "          1.4634e-06,  1.2938e-06]], device='cuda:0')\n",
      "tensor([-1.5290e-04, -4.9304e-03, -1.0004e-04, -1.4136e-04,  1.0688e-04,\n",
      "         8.3536e-04,  2.3247e-04, -4.4567e-04, -4.8906e-04, -4.9453e-04,\n",
      "        -6.7585e-04, -7.9014e-05, -5.6239e-05, -1.1980e-04,  1.1718e-04,\n",
      "         4.6667e-05, -7.9149e-05, -3.0690e-05, -1.0199e-04, -7.0677e-04,\n",
      "        -1.6380e-04, -3.1603e-04,  1.3882e-03,  3.3101e-03, -7.0211e-04,\n",
      "        -2.8731e-04, -1.9592e-04, -4.6679e-04,  5.7710e-05, -7.6016e-04,\n",
      "         4.2231e-05,  5.8856e-02,  4.2137e-04, -1.4727e-04,  4.1980e-04,\n",
      "        -1.9873e-04, -5.0222e-04, -4.6103e-04, -5.1946e-05, -9.7915e-05,\n",
      "        -5.9033e-04, -2.0695e-05, -1.8012e-04, -8.0858e-06,  1.2218e-02,\n",
      "        -5.1373e-05, -4.8668e-04, -1.9738e-06, -1.7572e-05, -2.6230e-04,\n",
      "        -3.0571e-04, -4.1766e-05,  4.3191e-05,  1.7750e-04, -2.9608e-04,\n",
      "        -7.3294e-03, -3.6662e-04, -9.7707e-05, -6.1275e-04, -3.9920e-04,\n",
      "         5.6736e-02, -7.0499e-04, -5.8421e-04, -7.0095e-05, -9.8237e-05,\n",
      "         3.4331e-05, -1.0382e-04, -6.2488e-04,  2.3505e-04, -6.6258e-05,\n",
      "        -2.3115e-04, -6.6570e-05, -1.3601e-04, -3.1886e-04,  1.8517e-04,\n",
      "         2.0786e-04,  6.0271e-04, -2.9456e-04, -1.9944e-04, -2.1117e-04,\n",
      "        -6.1776e-05,  2.6571e-02, -5.5373e-05, -3.0123e-04, -1.3536e-04,\n",
      "        -4.9671e-04, -5.6623e-04, -7.9066e-05, -2.7630e-04, -2.9594e-04,\n",
      "        -3.1843e-05, -2.9531e-04, -5.0117e-04,  7.0309e-06, -1.0765e-02,\n",
      "        -5.1806e-05, -1.4312e-02, -6.5940e-05,  3.3865e-05,  2.4996e-04,\n",
      "        -9.5279e-06, -5.7791e-04, -5.5628e-04, -2.3635e-04, -6.7329e-04,\n",
      "        -1.5497e-02, -4.9644e-04,  3.3539e-04, -5.5152e-04, -6.2618e-04,\n",
      "        -2.8323e-04, -4.8345e-04, -7.6491e-04, -3.0338e-04, -8.3642e-04,\n",
      "        -6.2216e-05, -1.1411e-04, -6.7444e-05,  2.1099e-05, -4.3630e-04,\n",
      "        -3.1599e-04,  2.0563e-04, -1.6227e-04, -2.2646e-04, -6.6195e-04,\n",
      "        -6.4537e-05, -4.5991e-04, -4.3306e-05], device='cuda:0')\n",
      "tensor([[ 1.8334e-03, -4.0740e-02,  1.0496e-03,  6.3435e-04,  2.8848e-03,\n",
      "         -1.3774e-03,  1.1412e-03,  2.3065e-03,  9.1461e-04,  1.6405e-03,\n",
      "          1.9749e-03,  6.6251e-04,  1.1022e-03,  2.8025e-03,  1.6577e-03,\n",
      "          3.7545e-04,  1.5115e-03,  9.8468e-04,  1.4500e-03,  2.8958e-03,\n",
      "          6.7792e-04,  2.2518e-03,  4.0529e-03,  1.8623e-02,  2.3538e-03,\n",
      "          1.5729e-03,  1.4448e-03,  2.3246e-03,  5.6638e-04,  1.6327e-03,\n",
      "          2.4547e-04, -1.0782e-01,  1.5193e-03,  1.1499e-03,  1.8161e-03,\n",
      "          9.4716e-04,  1.6455e-03,  1.7421e-03,  7.1664e-04,  2.1367e-03,\n",
      "          1.2106e-03,  7.5866e-04,  1.3188e-03,  1.7286e-03, -1.4996e-01,\n",
      "          1.3600e-03,  1.7439e-03,  1.8128e-03,  1.1014e-03,  1.7335e-03,\n",
      "          9.3881e-04,  9.5545e-04,  2.0081e-03,  2.1499e-03,  1.2906e-03,\n",
      "         -8.6827e-02,  1.5409e-03,  6.8080e-04,  8.5348e-04,  1.1492e-03,\n",
      "         -3.7063e-02,  2.6543e-03,  2.5184e-03,  1.6520e-03,  1.5144e-03,\n",
      "          2.2879e-03,  2.7529e-03,  2.1409e-03,  2.4243e-03,  1.7614e-03,\n",
      "          1.9547e-03,  1.0232e-03,  1.7148e-03,  1.1136e-03,  1.3034e-03,\n",
      "         -1.0269e-03,  1.1601e-03,  1.5870e-03,  1.1358e-03,  9.0235e-04,\n",
      "          2.9641e-04, -4.8644e-02,  3.4355e-04,  8.5079e-04,  2.4801e-03,\n",
      "          1.1876e-03,  1.9641e-03,  1.5384e-04,  2.3112e-03,  1.1908e-03,\n",
      "          5.7711e-04,  1.3304e-03,  2.3996e-03,  7.3570e-04,  1.0641e-03,\n",
      "          1.4654e-03, -3.7917e-02,  1.2565e-03,  5.9598e-04,  3.0380e-03,\n",
      "          1.3377e-03,  2.8017e-03,  2.0554e-03,  1.1734e-03,  2.6907e-03,\n",
      "         -1.0190e-01,  8.2775e-04,  2.0024e-03,  2.8562e-03,  1.8778e-03,\n",
      "          9.0642e-04,  2.3535e-03,  1.6456e-03,  1.4482e-03,  2.7576e-03,\n",
      "          7.1240e-04,  1.0623e-03,  2.3306e-03,  1.4848e-03,  1.8247e-03,\n",
      "          8.6046e-04,  1.5930e-03,  2.4533e-03,  9.9636e-04,  2.2158e-03,\n",
      "          3.8062e-04,  1.5464e-03,  1.1754e-03],\n",
      "        [-8.3593e-04,  2.9882e-02, -4.1462e-04, -3.1291e-04, -9.4164e-04,\n",
      "          9.1546e-04, -4.2633e-04, -8.3518e-04, -5.0858e-04, -6.0564e-04,\n",
      "         -7.3784e-04, -2.1905e-04, -3.3322e-04, -9.4634e-04, -5.4203e-04,\n",
      "         -1.5722e-04, -3.9016e-04, -5.8975e-04, -5.1190e-04, -1.0425e-03,\n",
      "         -2.7474e-04, -6.7948e-04, -3.8163e-04,  1.9885e-03, -7.4587e-04,\n",
      "         -4.6971e-04, -5.7610e-04, -1.2053e-03, -2.6476e-04, -5.7719e-04,\n",
      "         -1.4756e-04,  3.8613e-02, -6.0336e-04, -4.7021e-04, -7.2163e-04,\n",
      "         -4.2235e-04, -6.0931e-04, -5.5164e-04, -1.8717e-04, -7.3472e-04,\n",
      "         -5.5444e-04, -2.9455e-04, -3.9098e-04, -7.1225e-04,  1.5794e-02,\n",
      "         -4.9136e-04, -5.7419e-04, -5.4266e-04, -5.3967e-04, -5.4754e-04,\n",
      "         -3.4751e-04, -5.6109e-04, -9.1024e-04, -1.0138e-03, -5.3315e-04,\n",
      "          9.2922e-03, -5.4518e-04, -3.8572e-04, -3.7399e-04, -3.6072e-04,\n",
      "          1.3734e-02, -8.2028e-04, -7.6401e-04, -6.3240e-04, -6.2793e-04,\n",
      "         -7.6521e-04, -8.3203e-04, -7.0192e-04, -1.1406e-03, -4.6457e-04,\n",
      "         -6.3958e-04, -4.4972e-04, -6.5558e-04, -3.6741e-04, -7.6476e-04,\n",
      "          5.4598e-03, -4.1968e-04, -4.9765e-04, -3.6294e-04, -4.1921e-04,\n",
      "         -1.8190e-04,  3.9000e-03, -1.5162e-04, -2.8450e-04, -8.3804e-04,\n",
      "         -4.4324e-04, -7.7570e-04, -6.3617e-05, -9.2262e-04, -3.9555e-04,\n",
      "         -2.1532e-04, -5.0768e-04, -7.5239e-04, -2.3419e-04, -5.5593e-04,\n",
      "         -4.6739e-04,  4.0042e-02, -5.3708e-04, -1.5966e-04, -9.0225e-04,\n",
      "         -6.9041e-04, -7.7866e-04, -8.1694e-04, -3.8574e-04, -9.4301e-04,\n",
      "          9.5027e-02, -3.2962e-04, -8.7250e-04, -1.0690e-03, -6.0263e-04,\n",
      "          1.2031e-03, -7.7318e-04, -6.7668e-04, -4.9168e-04, -8.3982e-04,\n",
      "         -3.1256e-04, -3.8589e-04, -6.1364e-04, -3.8913e-04, -7.7823e-04,\n",
      "         -5.4458e-04, -6.9785e-04, -9.8522e-04, -3.8080e-04, -7.0092e-04,\n",
      "         -1.6539e-04, -4.9852e-04, -3.8136e-04],\n",
      "        [-1.0075e-03,  1.3871e-03, -5.9741e-04, -2.6355e-04, -2.0298e-03,\n",
      "          2.2760e-03, -7.0135e-04, -1.3093e-03, -4.0802e-04, -9.0659e-04,\n",
      "         -1.0818e-03, -3.7773e-04, -5.5957e-04, -1.5115e-03, -9.9118e-04,\n",
      "         -1.5143e-04, -9.8597e-04, -2.7593e-04, -6.7796e-04, -1.5701e-03,\n",
      "         -3.4844e-04, -1.3569e-03, -3.7060e-03, -2.3903e-02, -1.4102e-03,\n",
      "         -1.0147e-03, -7.1365e-04, -1.1629e-03, -3.0258e-04, -6.5853e-04,\n",
      "         -8.6728e-05,  9.3847e-02, -9.2786e-04, -6.4035e-04, -1.0912e-03,\n",
      "         -4.8171e-04, -1.0050e-03, -9.6816e-04, -4.3180e-04, -1.0827e-03,\n",
      "         -5.3064e-04, -3.2027e-04, -8.2229e-04, -9.3816e-04,  8.2993e-02,\n",
      "         -7.8933e-04, -1.0123e-03, -1.0841e-03, -4.7733e-04, -9.7655e-04,\n",
      "         -4.3164e-04, -3.9949e-04, -8.7244e-04, -9.5295e-04, -6.0504e-04,\n",
      "          5.1306e-02, -8.7453e-04, -1.9096e-04, -4.0318e-04, -6.5530e-04,\n",
      "          3.4749e-02, -1.6449e-03, -1.5352e-03, -9.5175e-04, -7.7020e-04,\n",
      "         -1.4037e-03, -1.6949e-03, -1.1624e-03, -1.5136e-03, -1.0879e-03,\n",
      "         -1.0991e-03, -5.3756e-04, -9.0363e-04, -6.1218e-04, -4.5779e-04,\n",
      "         -1.1165e-02, -7.2407e-04, -9.0081e-04, -6.6856e-04, -4.0581e-04,\n",
      "         -1.0141e-04,  2.2297e-02, -1.6152e-04, -3.7691e-04, -1.5090e-03,\n",
      "         -5.9545e-04, -1.0516e-03, -6.0044e-05, -1.2438e-03, -6.9733e-04,\n",
      "         -3.5451e-04, -6.4298e-04, -1.4675e-03, -4.4933e-04,  4.8879e-04,\n",
      "         -8.7877e-04, -5.0699e-02, -6.9190e-04, -3.6305e-04, -1.7333e-03,\n",
      "         -8.0353e-04, -1.6328e-03, -1.1396e-03, -7.1814e-04, -1.4779e-03,\n",
      "          1.6785e-03, -4.9297e-04, -1.0394e-03, -1.6151e-03, -1.1127e-03,\n",
      "         -3.6258e-03, -1.4442e-03, -8.8352e-04, -9.4486e-04, -1.6143e-03,\n",
      "         -3.7622e-04, -5.2447e-04, -1.5315e-03, -8.5484e-04, -8.4753e-04,\n",
      "         -1.9276e-04, -7.8462e-04, -1.6321e-03, -5.8618e-04, -1.3921e-03,\n",
      "         -1.8870e-04, -8.7839e-04, -4.3863e-04],\n",
      "        [ 2.1233e-03, -8.8185e-03,  1.3539e-03,  9.7845e-04,  3.2890e-03,\n",
      "         -1.7053e-03,  1.3144e-03,  3.2155e-03,  9.6980e-04,  2.2422e-03,\n",
      "          2.6185e-03,  9.8572e-04,  1.8247e-03,  4.4883e-03,  2.3216e-03,\n",
      "          6.1147e-04,  2.1485e-03,  1.3274e-03,  2.2788e-03,  4.1858e-03,\n",
      "          9.2145e-04,  3.3340e-03,  4.1688e-03,  7.9335e-03,  3.3753e-03,\n",
      "          2.0257e-03,  2.0382e-03,  2.3285e-03,  6.3239e-04,  2.8785e-03,\n",
      "          3.7238e-04, -1.5577e-01,  1.7922e-03,  1.4817e-03,  2.1016e-03,\n",
      "          1.2058e-03,  1.3887e-03,  2.4850e-03,  1.2020e-03,  3.5009e-03,\n",
      "          1.7784e-03,  1.1212e-03,  1.9170e-03,  2.2159e-03, -3.3876e-01,\n",
      "          1.8300e-03,  2.5128e-03,  2.7035e-03,  1.3643e-03,  2.7158e-03,\n",
      "          1.4369e-03,  1.0014e-03,  2.6527e-03,  2.6540e-03,  1.8568e-03,\n",
      "         -2.2310e-01,  2.2213e-03,  8.3351e-04,  1.0797e-03,  1.7224e-03,\n",
      "         -6.1886e-02,  3.7637e-03,  3.7353e-03,  2.3179e-03,  1.8083e-03,\n",
      "          2.8619e-03,  4.0089e-03,  3.2798e-03,  2.5229e-03,  2.5909e-03,\n",
      "          2.9824e-03,  1.3041e-03,  2.3624e-03,  1.6270e-03,  1.3500e-03,\n",
      "          5.3856e-03,  1.2727e-03,  2.3198e-03,  1.6250e-03,  1.3503e-03,\n",
      "          3.9155e-04, -1.1468e-01,  4.5083e-04,  1.3710e-03,  3.4477e-03,\n",
      "          1.7452e-03,  2.5560e-03,  2.2105e-04,  3.0848e-03,  1.5827e-03,\n",
      "          7.4524e-04,  2.0684e-03,  3.2678e-03,  1.0823e-03, -1.0025e-02,\n",
      "          2.0731e-03,  3.5522e-02,  1.5616e-03,  9.1954e-04,  4.5774e-03,\n",
      "          1.3320e-03,  4.4218e-03,  2.6610e-03,  1.6300e-03,  3.8764e-03,\n",
      "         -5.9783e-02,  9.6177e-04,  2.3833e-03,  3.8501e-03,  2.7216e-03,\n",
      "          2.2130e-03,  3.3028e-03,  2.1212e-03,  1.6085e-03,  4.2120e-03,\n",
      "          8.7043e-04,  1.5867e-03,  2.9610e-03,  2.3316e-03,  2.7099e-03,\n",
      "          9.0059e-04,  1.9288e-03,  2.6237e-03,  1.3162e-03,  2.5705e-03,\n",
      "          5.0962e-04,  2.2635e-03,  2.1099e-03],\n",
      "        [-1.4180e-03,  1.3942e-02, -8.9886e-04, -6.6556e-04, -2.1467e-03,\n",
      "          2.0641e-04, -8.5256e-04, -2.1328e-03, -6.6319e-04, -1.4908e-03,\n",
      "         -1.7297e-03, -6.5534e-04, -1.2159e-03, -2.9873e-03, -1.5288e-03,\n",
      "         -4.1672e-04, -1.3989e-03, -9.1947e-04, -1.5098e-03, -2.7821e-03,\n",
      "         -6.1579e-04, -2.1821e-03, -2.4686e-03, -2.6123e-03, -2.2220e-03,\n",
      "         -1.3178e-03, -1.3561e-03, -1.5654e-03, -4.2319e-04, -1.9366e-03,\n",
      "         -2.5821e-04,  1.0900e-01, -1.1820e-03, -9.8568e-04, -1.3835e-03,\n",
      "         -8.0381e-04, -8.5888e-04, -1.6189e-03, -7.9675e-04, -2.3227e-03,\n",
      "         -1.2000e-03, -7.3897e-04, -1.2589e-03, -1.4616e-03,  2.2359e-01,\n",
      "         -1.2050e-03, -1.6484e-03, -1.7850e-03, -9.1786e-04, -1.8039e-03,\n",
      "         -9.4895e-04, -6.9175e-04, -1.7708e-03, -1.7825e-03, -1.2390e-03,\n",
      "          1.4024e-01, -1.4779e-03, -5.5336e-04, -7.1536e-04, -1.1231e-03,\n",
      "          4.5568e-02, -2.4853e-03, -2.4360e-03, -1.5644e-03, -1.1790e-03,\n",
      "         -1.8652e-03, -2.6485e-03, -2.1736e-03, -1.7029e-03, -1.6620e-03,\n",
      "         -1.9793e-03, -8.7584e-04, -1.5535e-03, -1.0638e-03, -9.2711e-04,\n",
      "          1.1208e-03, -8.3348e-04, -1.5194e-03, -1.0609e-03, -9.2768e-04,\n",
      "         -2.6909e-04,  6.3732e-02, -3.0473e-04, -9.0524e-04, -2.2915e-03,\n",
      "         -1.1638e-03, -1.6586e-03, -1.5273e-04, -2.0611e-03, -1.0298e-03,\n",
      "         -5.0242e-04, -1.3781e-03, -2.1283e-03, -7.1553e-04,  3.2389e-03,\n",
      "         -1.3661e-03,  1.0585e-02, -1.0403e-03, -6.0940e-04, -3.0087e-03,\n",
      "         -9.0445e-04, -2.9065e-03, -1.7743e-03, -1.0728e-03, -2.5708e-03,\n",
      "          4.9235e-02, -6.3538e-04, -1.5784e-03, -2.5548e-03, -1.7963e-03,\n",
      "         -3.3372e-04, -2.1858e-03, -1.4100e-03, -1.0428e-03, -2.7693e-03,\n",
      "         -5.7757e-04, -1.0500e-03, -1.8812e-03, -1.5204e-03, -1.8200e-03,\n",
      "         -6.1342e-04, -1.2644e-03, -1.7287e-03, -8.7498e-04, -1.6324e-03,\n",
      "         -3.3824e-04, -1.4923e-03, -1.4001e-03],\n",
      "        [-6.9524e-04,  4.3470e-03, -4.9262e-04, -3.7078e-04, -1.0556e-03,\n",
      "         -3.1507e-04, -4.7533e-04, -1.2447e-03, -3.0462e-04, -8.7968e-04,\n",
      "         -1.0441e-03, -3.9612e-04, -8.1813e-04, -1.8457e-03, -9.1731e-04,\n",
      "         -2.6155e-04, -8.8497e-04, -5.2694e-04, -1.0293e-03, -1.6870e-03,\n",
      "         -3.6041e-04, -1.3673e-03, -1.6655e-03, -2.0299e-03, -1.3510e-03,\n",
      "         -7.9643e-04, -8.3728e-04, -7.1950e-04, -2.0823e-04, -1.3389e-03,\n",
      "         -1.2536e-04,  2.2130e-02, -5.9830e-04, -5.3529e-04, -7.2139e-04,\n",
      "         -4.4507e-04, -5.6102e-04, -1.0885e-03, -5.0288e-04, -1.4974e-03,\n",
      "         -7.0387e-04, -5.2609e-04, -7.6365e-04, -8.3250e-04,  1.6634e-01,\n",
      "         -7.0437e-04, -1.0218e-03, -1.1045e-03, -5.3077e-04, -1.1213e-03,\n",
      "         -6.4765e-04, -3.0451e-04, -1.1073e-03, -1.0547e-03, -7.7027e-04,\n",
      "          1.0909e-01, -8.6453e-04, -3.8428e-04, -4.4066e-04, -7.3248e-04,\n",
      "          4.8981e-03, -1.4676e-03, -1.5185e-03, -8.2132e-04, -7.4556e-04,\n",
      "         -1.1156e-03, -1.5863e-03, -1.3827e-03, -5.8997e-04, -1.1378e-03,\n",
      "         -1.2191e-03, -4.6413e-04, -9.6453e-04, -6.9723e-04, -5.0371e-04,\n",
      "          2.2568e-04, -4.5556e-04, -9.8890e-04, -6.6842e-04, -4.9996e-04,\n",
      "         -1.3557e-04,  7.3398e-02, -1.7652e-04, -6.5512e-04, -1.2892e-03,\n",
      "         -7.3032e-04, -1.0343e-03, -9.8508e-05, -1.1684e-03, -6.5083e-04,\n",
      "         -2.5011e-04, -8.7011e-04, -1.3192e-03, -4.1891e-04,  5.7895e-03,\n",
      "         -8.2633e-04,  2.4664e-03, -5.4876e-04, -3.8341e-04, -1.9710e-03,\n",
      "         -2.7125e-04, -1.9056e-03, -9.8559e-04, -6.2673e-04, -1.5754e-03,\n",
      "          1.5744e-02, -3.3154e-04, -8.9533e-04, -1.4675e-03, -1.0879e-03,\n",
      "         -3.6303e-04, -1.2531e-03, -7.9658e-04, -5.7738e-04, -1.7461e-03,\n",
      "         -3.1648e-04, -6.8871e-04, -1.2652e-03, -1.0519e-03, -1.0888e-03,\n",
      "         -4.1029e-04, -7.7489e-04, -7.3101e-04, -4.7060e-04, -1.0609e-03,\n",
      "         -1.9791e-04, -9.4069e-04, -1.0651e-03]], device='cuda:0')\n",
      "tensor([-0.0903,  0.0411,  0.0383, -0.1315,  0.0913,  0.0512], device='cuda:0')\n"
     ]
    },
    {
     "data": {
      "text/plain": [
       "[None,\n",
       " None,\n",
       " None,\n",
       " None,\n",
       " None,\n",
       " None,\n",
       " None,\n",
       " None,\n",
       " None,\n",
       " None,\n",
       " None,\n",
       " None,\n",
       " None,\n",
       " None,\n",
       " None,\n",
       " None,\n",
       " None,\n",
       " None,\n",
       " None,\n",
       " None]"
      ]
     },
     "execution_count": 26,
     "metadata": {},
     "output_type": "execute_result"
    }
   ],
   "source": [
    "[print(p.grad) for p in model.parameters() if p.requires_grad]"
   ]
  },
  {
   "cell_type": "code",
   "execution_count": 27,
   "id": "f79ad13c-5283-4be2-b591-51d5253a839a",
   "metadata": {},
   "outputs": [],
   "source": [
    "import torchmetrics\n",
    "f1score = torchmetrics.F1Score(\n",
    "    task='multiclass', num_classes=len(labels)\n",
    ").to(device)\n",
    "uap = torchmetrics.Precision(\n",
    "    task='multiclass', num_classes=len(labels), average='macro'\n",
    ").to(device)\n",
    "wap = torchmetrics.Precision(\n",
    "    task='multiclass', num_classes=len(labels), average='micro'\n",
    ").to(device)    \n",
    "uar = torchmetrics.Recall(\n",
    "    task='multiclass', num_classes=len(labels), average='macro'\n",
    ").to(device)\n",
    "war = torchmetrics.Recall(\n",
    "    task='multiclass', num_classes=len(labels), average='micro'\n",
    ").to(device)\n",
    "confusion_matrix = torchmetrics.ConfusionMatrix(\n",
    "    task='multiclass', num_classes=len(labels)\n",
    ").to(device)"
   ]
  },
  {
   "cell_type": "code",
   "execution_count": 28,
   "id": "47483e47-3742-47c5-978c-7112bc1ee638",
   "metadata": {},
   "outputs": [
    {
     "name": "stdout",
     "output_type": "stream",
     "text": [
      "Correct: 120/673 (0.1783)\n",
      "F1: 0.1785714328289032\n",
      "UAP: 0.22178463637828827\n",
      "WAP: 0.1785714328289032\n",
      "UAR: 0.21463429927825928\n",
      "WAR: 0.1785714328289032\n"
     ]
    },
    {
     "ename": "NameError",
     "evalue": "name 'cm' is not defined",
     "output_type": "error",
     "traceback": [
      "\u001b[0;31m---------------------------------------------------------------------------\u001b[0m",
      "\u001b[0;31mNameError\u001b[0m                                 Traceback (most recent call last)",
      "Cell \u001b[0;32mIn[28], line 34\u001b[0m\n\u001b[1;32m     32\u001b[0m \u001b[38;5;28mprint\u001b[39m(\u001b[38;5;124mf\u001b[39m\u001b[38;5;124m'\u001b[39m\u001b[38;5;124mUAR: \u001b[39m\u001b[38;5;132;01m{\u001b[39;00mUAR\u001b[38;5;132;01m}\u001b[39;00m\u001b[38;5;124m'\u001b[39m)\n\u001b[1;32m     33\u001b[0m \u001b[38;5;28mprint\u001b[39m(\u001b[38;5;124mf\u001b[39m\u001b[38;5;124m'\u001b[39m\u001b[38;5;124mWAR: \u001b[39m\u001b[38;5;132;01m{\u001b[39;00mWAR\u001b[38;5;132;01m}\u001b[39;00m\u001b[38;5;124m'\u001b[39m)\n\u001b[0;32m---> 34\u001b[0m \u001b[38;5;28mprint\u001b[39m(\u001b[43mcm\u001b[49m)\n",
      "\u001b[0;31mNameError\u001b[0m: name 'cm' is not defined"
     ]
    }
   ],
   "source": [
    "model.eval()\n",
    "\n",
    "= 0\n",
    "for data, target in test_loader:\n",
    "    data = data.to(device)\n",
    "    target = target.to(device)\n",
    "    output = model(data).squeeze()\n",
    "    del data\n",
    "    gc.collect()\n",
    "    torch.cuda.empty_cache()\n",
    "    probs = F.softmax(output, dim=-1)\n",
    "    pred = probs.argmax(dim=-1)\n",
    "    correct += pred.eq(target).sum().item()\n",
    "    f1score(pred, target)\n",
    "    uap(pred, target)\n",
    "    wap(pred, target)\n",
    "    uar(pred, target)\n",
    "    war(pred, target)\n",
    "    confusion_matrix(pred, target)\n",
    "    del target\n",
    "    gc.collect()\n",
    "    torch.cuda.empty_cache()\n",
    "    pbar.update(pbar_update)\n",
    "print(f'Correct: {correct}/{len(test_loader.dataset)} ({correct/len(test_loader.dataset):.4f})')\n",
    "F1 = f1score.compute()\n",
    "UAP = uap.compute()\n",
    "WAP = wap.compute()\n",
    "UAR = uar.compute()\n",
    "WAR = war.compute()\n",
    "cm = confusion_matrix.compute()\n",
    "print(f'F1: {F1}')\n",
    "print(f'UAP: {UAP}')\n",
    "print(f'WAP: {WAP}')\n",
    "print(f'UAR: {UAR}')\n",
    "print(f'WAR: {WAR}')\n",
    "print(cm)"
   ]
  },
  {
   "cell_type": "code",
   "execution_count": 29,
   "id": "70b706bd-e90b-4420-9503-7b6e392545f6",
   "metadata": {},
   "outputs": [
    {
     "name": "stdout",
     "output_type": "stream",
     "text": [
      "tensor([[  8,   0, 148,   0,   6,  80],\n",
      "        [  1,   0,  30,   0,   2,  41],\n",
      "        [  0,   0,  52,   0,  11, 113],\n",
      "        [  0,   0,   6,   0,   1,  27],\n",
      "        [  0,   0,   9,   0,   2,  73],\n",
      "        [  0,   0,   2,   0,   2,  58]], device='cuda:0')\n"
     ]
    }
   ],
   "source": [
    "cm = confusion_matrix.compute()\n",
    "print(cm)"
   ]
  },
  {
   "cell_type": "code",
   "execution_count": 30,
   "id": "0d9ce7a5-9d15-419f-bd32-cf15f2e990bc",
   "metadata": {},
   "outputs": [
    {
     "data": {
      "text/plain": [
       "['ang', 'exc', 'fru', 'hap', 'neu', 'sad']"
      ]
     },
     "execution_count": 30,
     "metadata": {},
     "output_type": "execute_result"
    }
   ],
   "source": [
    "labels"
   ]
  },
  {
   "cell_type": "code",
   "execution_count": 33,
   "id": "fa5d7c36-58fb-4d6d-b827-bb0ca356645b",
   "metadata": {},
   "outputs": [
    {
     "data": {
      "image/png": "[encoded data removed]",
      "text/plain": [
       "<Figure size 640x480 with 1 Axes>"
      ]
     },
     "metadata": {},
     "output_type": "display_data"
    }
   ],
   "source": [
    "filtviz = visualize_model.FilterVisualizer(\n",
    "    lowcut_bands = layer.lowcut_bands, \n",
    "    bandwidths = layer.bandwidths,\n",
    "    window_params = layer.window_params, \n",
    "    window_length = 64,\n",
    "    sample_rate = 8000\n",
    ")\n",
    "filtviz.visualize_window_params()"
   ]
  },
  {
   "cell_type": "code",
   "execution_count": 34,
   "id": "f081810a-022b-4b34-8d40-2b083d9832bc",
   "metadata": {},
   "outputs": [
    {
     "name": "stdout",
     "output_type": "stream",
     "text": [
      "Time domain: Filters' shapes vary by frequency bins\n"
     ]
    },
    {
     "data": {
      "image/png": "[encoded data removed]",
      "text/plain": [
       "<Figure size 600x800 with 8 Axes>"
      ]
     },
     "metadata": {},
     "output_type": "display_data"
    }
   ],
   "source": [
    "filtviz.visualize_filters(filter_domain='time')"
   ]
  },
  {
   "cell_type": "code",
   "execution_count": 35,
   "id": "2768bc8c-70c3-46b9-afaa-60383d281b76",
   "metadata": {},
   "outputs": [
    {
     "name": "stdout",
     "output_type": "stream",
     "text": [
      "Frequency domain: Filters' shapes vary by frequency bins\n"
     ]
    },
    {
     "data": {
      "image/png": "[encoded data removed]",
      "text/plain": [
       "<Figure size 600x800 with 8 Axes>"
      ]
     },
     "metadata": {},
     "output_type": "display_data"
    }
   ],
   "source": [
    "filtviz.visualize_filters(filter_domain='freq')"
   ]
  },
  {
   "cell_type": "code",
   "execution_count": null,
   "id": "4b2d481a-401b-411c-91fc-5f16d808fd90",
   "metadata": {},
   "outputs": [],
   "source": []
  },
  {
   "cell_type": "code",
   "execution_count": 37,
   "id": "c61a55da-97d5-4efe-8974-ba5a56bfa83a",
   "metadata": {},
   "outputs": [],
   "source": [
    "n_epoch = 10\n",
    "n_epoch2 = 50\n",
    "# train_losses = []\n",
    "# test_accuracy = []\n",
    "optimizer = optim.RAdam(model.parameters(), lr=0.00001)\n",
    "scheduler = optim.lr_scheduler.OneCycleLR(\n",
    "    optimizer, max_lr=0.01,\n",
    "    steps_per_epoch=len(train_loader), epochs=n_epoch2)"
   ]
  },
  {
   "cell_type": "code",
   "execution_count": 38,
   "id": "8bee2617-b78a-48eb-b496-509c9cfaf1bf",
   "metadata": {
    "scrolled": true
   },
   "outputs": [
    {
     "name": "stderr",
     "output_type": "stream",
     "text": [
      "  0%|                                                                       | 0.0023094688221709007/50 [00:00<2:08:27, 154.17s/it]"
     ]
    },
    {
     "name": "stdout",
     "output_type": "stream",
     "text": [
      "Train Epoch: 11 [0/2793 (0%)]\tLoss: 1.379378\n"
     ]
    },
    {
     "name": "stderr",
     "output_type": "stream",
     "text": [
      "  0%|▎                                                                        | 0.23325635103926065/50 [00:25<1:36:32, 116.38s/it]"
     ]
    },
    {
     "name": "stdout",
     "output_type": "stream",
     "text": [
      "Train Epoch: 11 [800/2793 (4%)]\tLoss: 1.309270\n"
     ]
    },
    {
     "name": "stderr",
     "output_type": "stream",
     "text": [
      "  1%|▋                                                                         | 0.4642032332563528/50 [00:50<1:37:56, 118.63s/it]"
     ]
    },
    {
     "name": "stdout",
     "output_type": "stream",
     "text": [
      "Train Epoch: 11 [1600/2793 (7%)]\tLoss: 1.372361\n"
     ]
    },
    {
     "name": "stderr",
     "output_type": "stream",
     "text": [
      "  1%|█                                                                         | 0.6951501154734405/50 [01:16<1:28:58, 108.27s/it]"
     ]
    },
    {
     "name": "stdout",
     "output_type": "stream",
     "text": [
      "Train Epoch: 11 [2400/2793 (11%)]\tLoss: 1.464127\n"
     ]
    },
    {
     "name": "stderr",
     "output_type": "stream",
     "text": [
      "  2%|█▍                                                                         | 0.9999999999999951/50 [01:45<1:11:52, 88.00s/it]"
     ]
    },
    {
     "name": "stdout",
     "output_type": "stream",
     "text": [
      "\n",
      "Test Epoch: 11\tAccuracy: 290/673 (43%)\n",
      "\n"
     ]
    },
    {
     "name": "stderr",
     "output_type": "stream",
     "text": [
      "  2%|█▌                                                                          | 1.002309468822166/50 [01:46<1:20:23, 98.45s/it]"
     ]
    },
    {
     "name": "stdout",
     "output_type": "stream",
     "text": [
      "Train Epoch: 12 [0/2793 (0%)]\tLoss: 1.078465\n"
     ]
    },
    {
     "name": "stderr",
     "output_type": "stream",
     "text": [
      "  2%|█▊                                                                         | 1.233256351039264/50 [02:11<1:31:53, 113.06s/it]"
     ]
    },
    {
     "name": "stdout",
     "output_type": "stream",
     "text": [
      "Train Epoch: 12 [800/2793 (4%)]\tLoss: 1.525981\n"
     ]
    },
    {
     "name": "stderr",
     "output_type": "stream",
     "text": [
      "  3%|██▏                                                                        | 1.464203233256362/50 [02:36<1:38:24, 121.66s/it]"
     ]
    },
    {
     "name": "stdout",
     "output_type": "stream",
     "text": [
      "Train Epoch: 12 [1600/2793 (7%)]\tLoss: 1.520485\n"
     ]
    },
    {
     "name": "stderr",
     "output_type": "stream",
     "text": [
      "  3%|██▌                                                                       | 1.6951501154734598/50 [03:01<1:27:35, 108.79s/it]"
     ]
    },
    {
     "name": "stdout",
     "output_type": "stream",
     "text": [
      "Train Epoch: 12 [2400/2793 (11%)]\tLoss: 1.298771\n"
     ]
    },
    {
     "name": "stderr",
     "output_type": "stream",
     "text": [
      "  4%|███                                                                         | 2.000000000000029/50 [03:30<1:06:26, 83.06s/it]"
     ]
    },
    {
     "name": "stdout",
     "output_type": "stream",
     "text": [
      "\n",
      "Test Epoch: 12\tAccuracy: 296/673 (44%)\n",
      "\n"
     ]
    },
    {
     "name": "stderr",
     "output_type": "stream",
     "text": [
      "  4%|███                                                                        | 2.0023094688221996/50 [03:30<1:14:41, 93.36s/it]"
     ]
    },
    {
     "name": "stdout",
     "output_type": "stream",
     "text": [
      "Train Epoch: 13 [0/2793 (0%)]\tLoss: 1.728082\n"
     ]
    },
    {
     "name": "stderr",
     "output_type": "stream",
     "text": [
      "  4%|███▎                                                                      | 2.2332563510392753/50 [03:55<1:25:44, 107.70s/it]"
     ]
    },
    {
     "name": "stdout",
     "output_type": "stream",
     "text": [
      "Train Epoch: 13 [800/2793 (4%)]\tLoss: 1.394310\n"
     ]
    },
    {
     "name": "stderr",
     "output_type": "stream",
     "text": [
      "  5%|███▋                                                                       | 2.464203233256351/50 [04:20<1:20:01, 101.01s/it]"
     ]
    },
    {
     "name": "stdout",
     "output_type": "stream",
     "text": [
      "Train Epoch: 13 [1600/2793 (7%)]\tLoss: 1.729655\n"
     ]
    },
    {
     "name": "stderr",
     "output_type": "stream",
     "text": [
      "  5%|███▉                                                                      | 2.6951501154734268/50 [04:45<1:26:10, 109.31s/it]"
     ]
    },
    {
     "name": "stdout",
     "output_type": "stream",
     "text": [
      "Train Epoch: 13 [2400/2793 (11%)]\tLoss: 1.335329\n"
     ]
    },
    {
     "name": "stderr",
     "output_type": "stream",
     "text": [
      "  6%|████▍                                                                      | 2.9999999999999667/50 [05:14<1:04:10, 81.92s/it]"
     ]
    },
    {
     "name": "stdout",
     "output_type": "stream",
     "text": [
      "\n",
      "Test Epoch: 13\tAccuracy: 291/673 (43%)\n",
      "\n"
     ]
    },
    {
     "name": "stderr",
     "output_type": "stream",
     "text": [
      "  6%|████▌                                                                      | 3.0023094688221375/50 [05:15<1:10:02, 89.41s/it]"
     ]
    },
    {
     "name": "stdout",
     "output_type": "stream",
     "text": [
      "Train Epoch: 14 [0/2793 (0%)]\tLoss: 1.459197\n"
     ]
    },
    {
     "name": "stderr",
     "output_type": "stream",
     "text": [
      "  6%|████▊                                                                      | 3.233256351039213/50 [05:40<1:22:50, 106.29s/it]"
     ]
    },
    {
     "name": "stdout",
     "output_type": "stream",
     "text": [
      "Train Epoch: 14 [800/2793 (4%)]\tLoss: 1.541552\n"
     ]
    },
    {
     "name": "stderr",
     "output_type": "stream",
     "text": [
      "  7%|█████▏                                                                     | 3.464203233256289/50 [06:05<1:28:11, 113.71s/it]"
     ]
    },
    {
     "name": "stdout",
     "output_type": "stream",
     "text": [
      "Train Epoch: 14 [1600/2793 (7%)]\tLoss: 1.121613\n"
     ]
    },
    {
     "name": "stderr",
     "output_type": "stream",
     "text": [
      "  7%|█████▍                                                                    | 3.6951501154733646/50 [06:30<1:20:33, 104.39s/it]"
     ]
    },
    {
     "name": "stdout",
     "output_type": "stream",
     "text": [
      "Train Epoch: 14 [2400/2793 (11%)]\tLoss: 1.412166\n"
     ]
    },
    {
     "name": "stderr",
     "output_type": "stream",
     "text": [
      "  8%|█████▉                                                                     | 3.9999999999999045/50 [06:59<1:05:52, 85.92s/it]"
     ]
    },
    {
     "name": "stdout",
     "output_type": "stream",
     "text": [
      "\n",
      "Test Epoch: 14\tAccuracy: 298/673 (44%)\n",
      "\n"
     ]
    },
    {
     "name": "stderr",
     "output_type": "stream",
     "text": [
      "  8%|██████                                                                      | 4.002309468822076/50 [06:59<1:15:02, 97.88s/it]"
     ]
    },
    {
     "name": "stdout",
     "output_type": "stream",
     "text": [
      "Train Epoch: 15 [0/2793 (0%)]\tLoss: 1.168121\n"
     ]
    },
    {
     "name": "stderr",
     "output_type": "stream",
     "text": [
      "  8%|██████▎                                                                    | 4.233256351039151/50 [07:25<1:37:36, 127.97s/it]"
     ]
    },
    {
     "name": "stdout",
     "output_type": "stream",
     "text": [
      "Train Epoch: 15 [800/2793 (4%)]\tLoss: 1.590904\n"
     ]
    },
    {
     "name": "stderr",
     "output_type": "stream",
     "text": [
      "  9%|██████▋                                                                    | 4.464203233256227/50 [07:50<1:23:30, 110.03s/it]"
     ]
    },
    {
     "name": "stdout",
     "output_type": "stream",
     "text": [
      "Train Epoch: 15 [1600/2793 (7%)]\tLoss: 1.748192\n"
     ]
    },
    {
     "name": "stderr",
     "output_type": "stream",
     "text": [
      "  9%|███████                                                                    | 4.695150115473303/50 [08:15<1:30:17, 119.57s/it]"
     ]
    },
    {
     "name": "stdout",
     "output_type": "stream",
     "text": [
      "Train Epoch: 15 [2400/2793 (11%)]\tLoss: 1.263921\n"
     ]
    },
    {
     "name": "stderr",
     "output_type": "stream",
     "text": [
      " 10%|███████▌                                                                    | 4.999999999999843/50 [08:45<1:04:13, 85.62s/it]"
     ]
    },
    {
     "name": "stdout",
     "output_type": "stream",
     "text": [
      "\n",
      "Test Epoch: 15\tAccuracy: 289/673 (43%)\n",
      "\n"
     ]
    },
    {
     "name": "stderr",
     "output_type": "stream",
     "text": [
      " 10%|███████▌                                                                   | 5.0023094688220135/50 [08:45<1:10:58, 94.63s/it]"
     ]
    },
    {
     "name": "stdout",
     "output_type": "stream",
     "text": [
      "Train Epoch: 16 [0/2793 (0%)]\tLoss: 1.146522\n"
     ]
    },
    {
     "name": "stderr",
     "output_type": "stream",
     "text": [
      " 10%|███████▊                                                                   | 5.233256351039089/50 [09:10<1:25:28, 114.55s/it]"
     ]
    },
    {
     "name": "stdout",
     "output_type": "stream",
     "text": [
      "Train Epoch: 16 [800/2793 (4%)]\tLoss: 1.459780\n"
     ]
    },
    {
     "name": "stderr",
     "output_type": "stream",
     "text": [
      " 11%|████████▏                                                                  | 5.464203233256165/50 [09:35<1:18:44, 106.07s/it]"
     ]
    },
    {
     "name": "stdout",
     "output_type": "stream",
     "text": [
      "Train Epoch: 16 [1600/2793 (7%)]\tLoss: 1.869165\n"
     ]
    },
    {
     "name": "stderr",
     "output_type": "stream",
     "text": [
      " 11%|████████▌                                                                  | 5.695150115473241/50 [10:01<1:18:58, 106.96s/it]"
     ]
    },
    {
     "name": "stdout",
     "output_type": "stream",
     "text": [
      "Train Epoch: 16 [2400/2793 (11%)]\tLoss: 1.474395\n"
     ]
    },
    {
     "name": "stderr",
     "output_type": "stream",
     "text": [
      " 12%|█████████                                                                   | 5.999999999999781/50 [10:30<1:01:25, 83.75s/it]"
     ]
    },
    {
     "name": "stdout",
     "output_type": "stream",
     "text": [
      "\n",
      "Test Epoch: 16\tAccuracy: 294/673 (44%)\n",
      "\n"
     ]
    },
    {
     "name": "stderr",
     "output_type": "stream",
     "text": [
      " 12%|█████████                                                                   | 6.002309468821951/50 [10:31<1:09:24, 94.66s/it]"
     ]
    },
    {
     "name": "stdout",
     "output_type": "stream",
     "text": [
      "Train Epoch: 17 [0/2793 (0%)]\tLoss: 1.104289\n"
     ]
    },
    {
     "name": "stderr",
     "output_type": "stream",
     "text": [
      " 12%|█████████▎                                                                 | 6.233256351039027/50 [10:56<1:24:09, 115.36s/it]"
     ]
    },
    {
     "name": "stdout",
     "output_type": "stream",
     "text": [
      "Train Epoch: 17 [800/2793 (4%)]\tLoss: 1.269093\n"
     ]
    },
    {
     "name": "stderr",
     "output_type": "stream",
     "text": [
      " 13%|█████████▋                                                                 | 6.464203233256103/50 [11:22<1:17:42, 107.10s/it]"
     ]
    },
    {
     "name": "stdout",
     "output_type": "stream",
     "text": [
      "Train Epoch: 17 [1600/2793 (7%)]\tLoss: 1.047366\n"
     ]
    },
    {
     "name": "stderr",
     "output_type": "stream",
     "text": [
      " 13%|█████████▉                                                                | 6.6951501154731785/50 [11:48<1:21:27, 112.87s/it]"
     ]
    },
    {
     "name": "stdout",
     "output_type": "stream",
     "text": [
      "Train Epoch: 17 [2400/2793 (11%)]\tLoss: 1.093591\n"
     ]
    },
    {
     "name": "stderr",
     "output_type": "stream",
     "text": [
      " 14%|██████████▍                                                                | 6.9999999999997184/50 [12:17<1:00:36, 84.57s/it]"
     ]
    },
    {
     "name": "stdout",
     "output_type": "stream",
     "text": [
      "\n",
      "Test Epoch: 17\tAccuracy: 288/673 (43%)\n",
      "\n"
     ]
    },
    {
     "name": "stderr",
     "output_type": "stream",
     "text": [
      " 14%|██████████▋                                                                 | 7.002309468821889/50 [12:17<1:11:11, 99.35s/it]"
     ]
    },
    {
     "name": "stdout",
     "output_type": "stream",
     "text": [
      "Train Epoch: 18 [0/2793 (0%)]\tLoss: 1.369350\n"
     ]
    },
    {
     "name": "stderr",
     "output_type": "stream",
     "text": [
      " 14%|██████████▊                                                                | 7.233256351038965/50 [12:42<1:19:14, 111.17s/it]"
     ]
    },
    {
     "name": "stdout",
     "output_type": "stream",
     "text": [
      "Train Epoch: 18 [800/2793 (4%)]\tLoss: 1.695333\n"
     ]
    },
    {
     "name": "stderr",
     "output_type": "stream",
     "text": [
      " 15%|███████████▏                                                               | 7.464203233256041/50 [13:08<1:17:39, 109.55s/it]"
     ]
    },
    {
     "name": "stdout",
     "output_type": "stream",
     "text": [
      "Train Epoch: 18 [1600/2793 (7%)]\tLoss: 1.636809\n"
     ]
    },
    {
     "name": "stderr",
     "output_type": "stream",
     "text": [
      " 15%|███████████▌                                                               | 7.695150115473116/50 [13:33<1:39:32, 141.17s/it]"
     ]
    },
    {
     "name": "stdout",
     "output_type": "stream",
     "text": [
      "Train Epoch: 18 [2400/2793 (11%)]\tLoss: 1.102871\n"
     ]
    },
    {
     "name": "stderr",
     "output_type": "stream",
     "text": [
      " 16%|████████████▍                                                                 | 7.999999999999656/50 [14:03<59:18, 84.72s/it]"
     ]
    },
    {
     "name": "stdout",
     "output_type": "stream",
     "text": [
      "\n",
      "Test Epoch: 18\tAccuracy: 297/673 (44%)\n",
      "\n"
     ]
    },
    {
     "name": "stderr",
     "output_type": "stream",
     "text": [
      " 16%|████████████▏                                                               | 8.002309468821828/50 [14:03<1:02:59, 89.99s/it]"
     ]
    },
    {
     "name": "stdout",
     "output_type": "stream",
     "text": [
      "Train Epoch: 19 [0/2793 (0%)]\tLoss: 1.175736\n"
     ]
    },
    {
     "name": "stderr",
     "output_type": "stream",
     "text": [
      " 16%|████████████▎                                                              | 8.233256351038904/50 [14:29<1:23:09, 119.47s/it]"
     ]
    },
    {
     "name": "stdout",
     "output_type": "stream",
     "text": [
      "Train Epoch: 19 [800/2793 (4%)]\tLoss: 1.516944\n"
     ]
    },
    {
     "name": "stderr",
     "output_type": "stream",
     "text": [
      " 17%|████████████▊                                                               | 8.46420323325598/50 [14:55<1:16:37, 110.69s/it]"
     ]
    },
    {
     "name": "stdout",
     "output_type": "stream",
     "text": [
      "Train Epoch: 19 [1600/2793 (7%)]\tLoss: 1.911660\n"
     ]
    },
    {
     "name": "stderr",
     "output_type": "stream",
     "text": [
      " 17%|█████████████                                                              | 8.695150115473055/50 [15:21<1:11:49, 104.34s/it]"
     ]
    },
    {
     "name": "stdout",
     "output_type": "stream",
     "text": [
      "Train Epoch: 19 [2400/2793 (11%)]\tLoss: 1.476351\n"
     ]
    },
    {
     "name": "stderr",
     "output_type": "stream",
     "text": [
      " 18%|██████████████                                                                | 8.999999999999595/50 [15:49<57:55, 84.76s/it]"
     ]
    },
    {
     "name": "stdout",
     "output_type": "stream",
     "text": [
      "\n",
      "Test Epoch: 19\tAccuracy: 280/673 (42%)\n",
      "\n"
     ]
    },
    {
     "name": "stderr",
     "output_type": "stream",
     "text": [
      " 18%|█████████████▌                                                             | 9.002309468821766/50 [15:50<1:22:11, 120.30s/it]"
     ]
    },
    {
     "name": "stdout",
     "output_type": "stream",
     "text": [
      "Train Epoch: 20 [0/2793 (0%)]\tLoss: 1.303212\n"
     ]
    },
    {
     "name": "stderr",
     "output_type": "stream",
     "text": [
      " 18%|█████████████▊                                                             | 9.233256351038841/50 [16:15<1:21:17, 119.65s/it]"
     ]
    },
    {
     "name": "stdout",
     "output_type": "stream",
     "text": [
      "Train Epoch: 20 [800/2793 (4%)]\tLoss: 1.743531\n"
     ]
    },
    {
     "name": "stderr",
     "output_type": "stream",
     "text": [
      " 19%|██████████████▏                                                            | 9.464203233255917/50 [16:40<1:11:00, 105.11s/it]"
     ]
    },
    {
     "name": "stdout",
     "output_type": "stream",
     "text": [
      "Train Epoch: 20 [1600/2793 (7%)]\tLoss: 1.491951\n"
     ]
    },
    {
     "name": "stderr",
     "output_type": "stream",
     "text": [
      " 19%|██████████████▌                                                            | 9.695150115472993/50 [17:06<1:15:21, 112.19s/it]"
     ]
    },
    {
     "name": "stdout",
     "output_type": "stream",
     "text": [
      "Train Epoch: 20 [2400/2793 (11%)]\tLoss: 1.425620\n"
     ]
    },
    {
     "name": "stderr",
     "output_type": "stream",
     "text": [
      " 20%|███████████████▌                                                              | 9.999999999999533/50 [17:35<57:33, 86.34s/it]"
     ]
    },
    {
     "name": "stdout",
     "output_type": "stream",
     "text": [
      "\n",
      "Test Epoch: 20\tAccuracy: 292/673 (43%)\n",
      "\n"
     ]
    },
    {
     "name": "stderr",
     "output_type": "stream",
     "text": [
      " 20%|███████████████                                                            | 10.002309468821704/50 [17:35<1:00:08, 90.22s/it]"
     ]
    },
    {
     "name": "stdout",
     "output_type": "stream",
     "text": [
      "Train Epoch: 21 [0/2793 (0%)]\tLoss: 1.270198\n"
     ]
    },
    {
     "name": "stderr",
     "output_type": "stream",
     "text": [
      " 20%|███████████████▎                                                           | 10.23325635103878/50 [18:00<1:16:17, 115.10s/it]"
     ]
    },
    {
     "name": "stdout",
     "output_type": "stream",
     "text": [
      "Train Epoch: 21 [800/2793 (4%)]\tLoss: 1.309347\n"
     ]
    },
    {
     "name": "stderr",
     "output_type": "stream",
     "text": [
      " 21%|███████████████▍                                                          | 10.464203233255855/50 [18:26<1:19:03, 119.98s/it]"
     ]
    },
    {
     "name": "stdout",
     "output_type": "stream",
     "text": [
      "Train Epoch: 21 [1600/2793 (7%)]\tLoss: 0.935026\n"
     ]
    },
    {
     "name": "stderr",
     "output_type": "stream",
     "text": [
      " 21%|████████████████                                                           | 10.69515011547293/50 [18:51<1:10:04, 106.97s/it]"
     ]
    },
    {
     "name": "stdout",
     "output_type": "stream",
     "text": [
      "Train Epoch: 21 [2400/2793 (11%)]\tLoss: 1.376250\n"
     ]
    },
    {
     "name": "stderr",
     "output_type": "stream",
     "text": [
      " 22%|█████████████████▏                                                            | 10.99999999999947/50 [19:21<55:15, 85.01s/it]"
     ]
    },
    {
     "name": "stdout",
     "output_type": "stream",
     "text": [
      "\n",
      "Test Epoch: 21\tAccuracy: 270/673 (40%)\n",
      "\n"
     ]
    },
    {
     "name": "stderr",
     "output_type": "stream",
     "text": [
      " 22%|████████████████▉                                                            | 11.002309468821641/50 [19:21<57:18, 88.16s/it]"
     ]
    },
    {
     "name": "stdout",
     "output_type": "stream",
     "text": [
      "Train Epoch: 22 [0/2793 (0%)]\tLoss: 1.607960\n"
     ]
    },
    {
     "name": "stderr",
     "output_type": "stream",
     "text": [
      " 22%|████████████████▋                                                         | 11.233256351038717/50 [19:47<1:20:33, 124.68s/it]"
     ]
    },
    {
     "name": "stdout",
     "output_type": "stream",
     "text": [
      "Train Epoch: 22 [800/2793 (4%)]\tLoss: 1.486859\n"
     ]
    },
    {
     "name": "stderr",
     "output_type": "stream",
     "text": [
      " 23%|████████████████▉                                                         | 11.464203233255793/50 [20:12<1:07:07, 104.52s/it]"
     ]
    },
    {
     "name": "stdout",
     "output_type": "stream",
     "text": [
      "Train Epoch: 22 [1600/2793 (7%)]\tLoss: 1.757337\n"
     ]
    },
    {
     "name": "stderr",
     "output_type": "stream",
     "text": [
      " 23%|█████████████████▎                                                        | 11.695150115472869/50 [20:37<1:12:59, 114.33s/it]"
     ]
    },
    {
     "name": "stdout",
     "output_type": "stream",
     "text": [
      "Train Epoch: 22 [2400/2793 (11%)]\tLoss: 1.276265\n"
     ]
    },
    {
     "name": "stderr",
     "output_type": "stream",
     "text": [
      " 24%|██████████████████▍                                                          | 11.999999999999408/50 [21:07<52:51, 83.46s/it]"
     ]
    },
    {
     "name": "stdout",
     "output_type": "stream",
     "text": [
      "\n",
      "Test Epoch: 22\tAccuracy: 287/673 (43%)\n",
      "\n"
     ]
    },
    {
     "name": "stderr",
     "output_type": "stream",
     "text": [
      " 24%|██████████████████                                                         | 12.00230946882158/50 [21:07<1:03:41, 100.58s/it]"
     ]
    },
    {
     "name": "stdout",
     "output_type": "stream",
     "text": [
      "Train Epoch: 23 [0/2793 (0%)]\tLoss: 1.251522\n"
     ]
    },
    {
     "name": "stderr",
     "output_type": "stream",
     "text": [
      " 24%|██████████████████                                                        | 12.233256351038655/50 [21:32<1:12:10, 114.66s/it]"
     ]
    },
    {
     "name": "stdout",
     "output_type": "stream",
     "text": [
      "Train Epoch: 23 [800/2793 (4%)]\tLoss: 1.403396\n"
     ]
    },
    {
     "name": "stderr",
     "output_type": "stream",
     "text": [
      " 25%|██████████████████▋                                                        | 12.46420323325573/50 [21:58<1:11:27, 114.24s/it]"
     ]
    },
    {
     "name": "stdout",
     "output_type": "stream",
     "text": [
      "Train Epoch: 23 [1600/2793 (7%)]\tLoss: 1.463149\n"
     ]
    },
    {
     "name": "stderr",
     "output_type": "stream",
     "text": [
      " 25%|██████████████████▊                                                       | 12.695150115472806/50 [22:24<1:08:49, 110.69s/it]"
     ]
    },
    {
     "name": "stdout",
     "output_type": "stream",
     "text": [
      "Train Epoch: 23 [2400/2793 (11%)]\tLoss: 1.769419\n"
     ]
    },
    {
     "name": "stderr",
     "output_type": "stream",
     "text": [
      " 26%|████████████████████                                                         | 12.999999999999346/50 [22:53<50:59, 82.68s/it]"
     ]
    },
    {
     "name": "stdout",
     "output_type": "stream",
     "text": [
      "\n",
      "Test Epoch: 23\tAccuracy: 265/673 (39%)\n",
      "\n"
     ]
    },
    {
     "name": "stderr",
     "output_type": "stream",
     "text": [
      " 26%|████████████████████                                                         | 13.002309468821517/50 [22:53<58:08, 94.28s/it]"
     ]
    },
    {
     "name": "stdout",
     "output_type": "stream",
     "text": [
      "Train Epoch: 24 [0/2793 (0%)]\tLoss: 1.142568\n"
     ]
    },
    {
     "name": "stderr",
     "output_type": "stream",
     "text": [
      " 26%|███████████████████▌                                                      | 13.233256351038593/50 [23:18<1:12:37, 118.52s/it]"
     ]
    },
    {
     "name": "stdout",
     "output_type": "stream",
     "text": [
      "Train Epoch: 24 [800/2793 (4%)]\tLoss: 1.421523\n"
     ]
    },
    {
     "name": "stderr",
     "output_type": "stream",
     "text": [
      " 27%|███████████████████▉                                                      | 13.464203233255668/50 [23:44<1:05:45, 107.98s/it]"
     ]
    },
    {
     "name": "stdout",
     "output_type": "stream",
     "text": [
      "Train Epoch: 24 [1600/2793 (7%)]\tLoss: 1.762624\n"
     ]
    },
    {
     "name": "stderr",
     "output_type": "stream",
     "text": [
      " 27%|████████████████████▎                                                     | 13.695150115472744/50 [24:09<1:02:00, 102.48s/it]"
     ]
    },
    {
     "name": "stdout",
     "output_type": "stream",
     "text": [
      "Train Epoch: 24 [2400/2793 (11%)]\tLoss: 2.019593\n"
     ]
    },
    {
     "name": "stderr",
     "output_type": "stream",
     "text": [
      " 28%|█████████████████████▌                                                       | 13.999999999999284/50 [24:37<51:00, 85.02s/it]"
     ]
    },
    {
     "name": "stdout",
     "output_type": "stream",
     "text": [
      "\n",
      "Test Epoch: 24\tAccuracy: 283/673 (42%)\n",
      "\n"
     ]
    },
    {
     "name": "stderr",
     "output_type": "stream",
     "text": [
      " 28%|█████████████████████▌                                                       | 14.002309468821455/50 [24:38<56:20, 93.91s/it]"
     ]
    },
    {
     "name": "stdout",
     "output_type": "stream",
     "text": [
      "Train Epoch: 25 [0/2793 (0%)]\tLoss: 1.594094\n"
     ]
    },
    {
     "name": "stderr",
     "output_type": "stream",
     "text": [
      " 28%|█████████████████████▎                                                     | 14.23325635103853/50 [25:04<1:08:15, 114.52s/it]"
     ]
    },
    {
     "name": "stdout",
     "output_type": "stream",
     "text": [
      "Train Epoch: 25 [800/2793 (4%)]\tLoss: 1.370657\n"
     ]
    },
    {
     "name": "stderr",
     "output_type": "stream",
     "text": [
      " 29%|█████████████████████▍                                                    | 14.464203233255606/50 [25:29<1:05:42, 110.95s/it]"
     ]
    },
    {
     "name": "stdout",
     "output_type": "stream",
     "text": [
      "Train Epoch: 25 [1600/2793 (7%)]\tLoss: 1.276148\n"
     ]
    },
    {
     "name": "stderr",
     "output_type": "stream",
     "text": [
      " 29%|█████████████████████▋                                                    | 14.695150115472682/50 [25:54<1:05:25, 111.20s/it]"
     ]
    },
    {
     "name": "stdout",
     "output_type": "stream",
     "text": [
      "Train Epoch: 25 [2400/2793 (11%)]\tLoss: 1.340193\n"
     ]
    },
    {
     "name": "stderr",
     "output_type": "stream",
     "text": [
      " 30%|███████████████████████                                                      | 14.999999999999222/50 [26:23<49:11, 84.33s/it]"
     ]
    },
    {
     "name": "stdout",
     "output_type": "stream",
     "text": [
      "\n",
      "Test Epoch: 25\tAccuracy: 284/673 (42%)\n",
      "\n"
     ]
    },
    {
     "name": "stderr",
     "output_type": "stream",
     "text": [
      " 30%|███████████████████████                                                      | 15.002309468821393/50 [26:23<55:55, 95.87s/it]"
     ]
    },
    {
     "name": "stdout",
     "output_type": "stream",
     "text": [
      "Train Epoch: 26 [0/2793 (0%)]\tLoss: 1.675711\n"
     ]
    },
    {
     "name": "stderr",
     "output_type": "stream",
     "text": [
      " 30%|██████████████████████▌                                                   | 15.233256351038468/50 [26:49<1:04:23, 111.13s/it]"
     ]
    },
    {
     "name": "stdout",
     "output_type": "stream",
     "text": [
      "Train Epoch: 26 [800/2793 (4%)]\tLoss: 1.385683\n"
     ]
    },
    {
     "name": "stderr",
     "output_type": "stream",
     "text": [
      " 31%|██████████████████████▉                                                   | 15.464203233255544/50 [27:15<1:06:59, 116.38s/it]"
     ]
    },
    {
     "name": "stdout",
     "output_type": "stream",
     "text": [
      "Train Epoch: 26 [1600/2793 (7%)]\tLoss: 1.205048\n"
     ]
    },
    {
     "name": "stderr",
     "output_type": "stream",
     "text": [
      " 31%|███████████████████████▌                                                   | 15.69515011547262/50 [27:41<1:05:11, 114.03s/it]"
     ]
    },
    {
     "name": "stdout",
     "output_type": "stream",
     "text": [
      "Train Epoch: 26 [2400/2793 (11%)]\tLoss: 1.063642\n"
     ]
    },
    {
     "name": "stderr",
     "output_type": "stream",
     "text": [
      " 32%|████████████████████████▉                                                     | 15.99999999999916/50 [28:10<48:54, 86.32s/it]"
     ]
    },
    {
     "name": "stdout",
     "output_type": "stream",
     "text": [
      "\n",
      "Test Epoch: 26\tAccuracy: 290/673 (43%)\n",
      "\n"
     ]
    },
    {
     "name": "stderr",
     "output_type": "stream",
     "text": [
      " 32%|████████████████████████▉                                                     | 16.00230946882133/50 [28:10<55:39, 98.22s/it]"
     ]
    },
    {
     "name": "stdout",
     "output_type": "stream",
     "text": [
      "Train Epoch: 27 [0/2793 (0%)]\tLoss: 1.554490\n"
     ]
    },
    {
     "name": "stderr",
     "output_type": "stream",
     "text": [
      " 32%|████████████████████████                                                  | 16.233256351038584/50 [28:36<1:03:39, 113.12s/it]"
     ]
    },
    {
     "name": "stdout",
     "output_type": "stream",
     "text": [
      "Train Epoch: 27 [800/2793 (4%)]\tLoss: 0.914465\n"
     ]
    },
    {
     "name": "stderr",
     "output_type": "stream",
     "text": [
      " 33%|████████████████████████▎                                                 | 16.464203233255837/50 [29:01<1:15:46, 135.58s/it]"
     ]
    },
    {
     "name": "stdout",
     "output_type": "stream",
     "text": [
      "Train Epoch: 27 [1600/2793 (7%)]\tLoss: 1.504663\n"
     ]
    },
    {
     "name": "stderr",
     "output_type": "stream",
     "text": [
      " 33%|█████████████████████████▋                                                   | 16.69515011547309/50 [29:26<58:54, 106.12s/it]"
     ]
    },
    {
     "name": "stdout",
     "output_type": "stream",
     "text": [
      "Train Epoch: 27 [2400/2793 (11%)]\tLoss: 1.629604\n"
     ]
    },
    {
     "name": "stderr",
     "output_type": "stream",
     "text": [
      " 34%|██████████████████████████▏                                                  | 16.999999999999865/50 [29:56<48:49, 88.77s/it]"
     ]
    },
    {
     "name": "stdout",
     "output_type": "stream",
     "text": [
      "\n",
      "Test Epoch: 27\tAccuracy: 281/673 (42%)\n",
      "\n"
     ]
    },
    {
     "name": "stderr",
     "output_type": "stream",
     "text": [
      " 34%|██████████████████████████▏                                                  | 17.002309468822038/50 [29:56<52:29, 95.43s/it]"
     ]
    },
    {
     "name": "stdout",
     "output_type": "stream",
     "text": [
      "Train Epoch: 28 [0/2793 (0%)]\tLoss: 1.295667\n"
     ]
    },
    {
     "name": "stderr",
     "output_type": "stream",
     "text": [
      " 34%|█████████████████████████▊                                                 | 17.23325635103929/50 [30:22<1:08:40, 125.76s/it]"
     ]
    },
    {
     "name": "stdout",
     "output_type": "stream",
     "text": [
      "Train Epoch: 28 [800/2793 (4%)]\tLoss: 1.545514\n"
     ]
    },
    {
     "name": "stderr",
     "output_type": "stream",
     "text": [
      " 35%|█████████████████████████▊                                                | 17.464203233256544/50 [30:47<1:02:13, 114.75s/it]"
     ]
    },
    {
     "name": "stdout",
     "output_type": "stream",
     "text": [
      "Train Epoch: 28 [1600/2793 (7%)]\tLoss: 1.740606\n"
     ]
    },
    {
     "name": "stderr",
     "output_type": "stream",
     "text": [
      " 35%|██████████████████████████▏                                               | 17.695150115473798/50 [31:13<1:01:54, 114.97s/it]"
     ]
    },
    {
     "name": "stdout",
     "output_type": "stream",
     "text": [
      "Train Epoch: 28 [2400/2793 (11%)]\tLoss: 1.184090\n"
     ]
    },
    {
     "name": "stderr",
     "output_type": "stream",
     "text": [
      " 36%|███████████████████████████▋                                                 | 18.000000000000572/50 [31:42<45:00, 84.41s/it]"
     ]
    },
    {
     "name": "stdout",
     "output_type": "stream",
     "text": [
      "\n",
      "Test Epoch: 28\tAccuracy: 286/673 (42%)\n",
      "\n"
     ]
    },
    {
     "name": "stderr",
     "output_type": "stream",
     "text": [
      " 36%|███████████████████████████▋                                                 | 18.002309468822745/50 [31:42<49:06, 92.08s/it]"
     ]
    },
    {
     "name": "stdout",
     "output_type": "stream",
     "text": [
      "Train Epoch: 29 [0/2793 (0%)]\tLoss: 1.804228\n"
     ]
    },
    {
     "name": "stderr",
     "output_type": "stream",
     "text": [
      " 36%|███████████████████████████▋                                                | 18.233256351039998/50 [32:07<54:54, 103.72s/it]"
     ]
    },
    {
     "name": "stdout",
     "output_type": "stream",
     "text": [
      "Train Epoch: 29 [800/2793 (4%)]\tLoss: 1.588089\n"
     ]
    },
    {
     "name": "stderr",
     "output_type": "stream",
     "text": [
      " 37%|████████████████████████████▍                                                | 18.46420323325725/50 [32:33<59:47, 113.77s/it]"
     ]
    },
    {
     "name": "stdout",
     "output_type": "stream",
     "text": [
      "Train Epoch: 29 [1600/2793 (7%)]\tLoss: 1.385316\n"
     ]
    },
    {
     "name": "stderr",
     "output_type": "stream",
     "text": [
      " 37%|████████████████████████████▍                                               | 18.695150115474505/50 [32:58<55:28, 106.32s/it]"
     ]
    },
    {
     "name": "stdout",
     "output_type": "stream",
     "text": [
      "Train Epoch: 29 [2400/2793 (11%)]\tLoss: 1.484319\n"
     ]
    },
    {
     "name": "stderr",
     "output_type": "stream",
     "text": [
      " 38%|█████████████████████████████▎                                               | 19.00000000000128/50 [33:27<53:59, 104.50s/it]"
     ]
    },
    {
     "name": "stdout",
     "output_type": "stream",
     "text": [
      "\n",
      "Test Epoch: 29\tAccuracy: 290/673 (43%)\n",
      "\n"
     ]
    },
    {
     "name": "stderr",
     "output_type": "stream",
     "text": [
      " 38%|█████████████████████████████▎                                               | 19.00230946882345/50 [33:27<52:30, 101.63s/it]"
     ]
    },
    {
     "name": "stdout",
     "output_type": "stream",
     "text": [
      "Train Epoch: 30 [0/2793 (0%)]\tLoss: 1.148214\n"
     ]
    },
    {
     "name": "stderr",
     "output_type": "stream",
     "text": [
      " 38%|████████████████████████████▍                                             | 19.233256351040705/50 [33:53<1:07:28, 131.60s/it]"
     ]
    },
    {
     "name": "stdout",
     "output_type": "stream",
     "text": [
      "Train Epoch: 30 [800/2793 (4%)]\tLoss: 1.750462\n"
     ]
    },
    {
     "name": "stderr",
     "output_type": "stream",
     "text": [
      " 39%|█████████████████████████████▉                                               | 19.464203233257958/50 [34:18<50:50, 99.90s/it]"
     ]
    },
    {
     "name": "stdout",
     "output_type": "stream",
     "text": [
      "Train Epoch: 30 [1600/2793 (7%)]\tLoss: 1.559083\n"
     ]
    },
    {
     "name": "stderr",
     "output_type": "stream",
     "text": [
      " 39%|██████████████████████████████▎                                              | 19.69515011547521/50 [34:43<57:17, 113.44s/it]"
     ]
    },
    {
     "name": "stdout",
     "output_type": "stream",
     "text": [
      "Train Epoch: 30 [2400/2793 (11%)]\tLoss: 0.791293\n"
     ]
    },
    {
     "name": "stderr",
     "output_type": "stream",
     "text": [
      " 40%|██████████████████████████████▊                                              | 20.000000000001986/50 [35:12<41:11, 82.38s/it]"
     ]
    },
    {
     "name": "stdout",
     "output_type": "stream",
     "text": [
      "\n",
      "Test Epoch: 30\tAccuracy: 279/673 (41%)\n",
      "\n"
     ]
    },
    {
     "name": "stderr",
     "output_type": "stream",
     "text": [
      " 40%|███████████████████████████████▏                                              | 20.00230946882416/50 [35:13<47:03, 94.11s/it]"
     ]
    },
    {
     "name": "stdout",
     "output_type": "stream",
     "text": [
      "Train Epoch: 31 [0/2793 (0%)]\tLoss: 1.313520\n"
     ]
    },
    {
     "name": "stderr",
     "output_type": "stream",
     "text": [
      " 40%|██████████████████████████████▊                                             | 20.233256351041412/50 [35:38<54:02, 108.91s/it]"
     ]
    },
    {
     "name": "stdout",
     "output_type": "stream",
     "text": [
      "Train Epoch: 31 [800/2793 (4%)]\tLoss: 1.605343\n"
     ]
    },
    {
     "name": "stderr",
     "output_type": "stream",
     "text": [
      " 41%|███████████████████████████████                                             | 20.464203233258665/50 [36:03<52:40, 107.00s/it]"
     ]
    },
    {
     "name": "stdout",
     "output_type": "stream",
     "text": [
      "Train Epoch: 31 [1600/2793 (7%)]\tLoss: 1.447805\n"
     ]
    },
    {
     "name": "stderr",
     "output_type": "stream",
     "text": [
      " 41%|███████████████████████████████▊                                             | 20.69515011547592/50 [36:28<54:22, 111.32s/it]"
     ]
    },
    {
     "name": "stdout",
     "output_type": "stream",
     "text": [
      "Train Epoch: 31 [2400/2793 (11%)]\tLoss: 1.090610\n"
     ]
    },
    {
     "name": "stderr",
     "output_type": "stream",
     "text": [
      " 42%|████████████████████████████████▎                                            | 21.000000000002693/50 [36:58<40:51, 84.53s/it]"
     ]
    },
    {
     "name": "stdout",
     "output_type": "stream",
     "text": [
      "\n",
      "Test Epoch: 31\tAccuracy: 287/673 (43%)\n",
      "\n"
     ]
    },
    {
     "name": "stderr",
     "output_type": "stream",
     "text": [
      " 42%|███████████████████████████████▉                                            | 21.002309468824865/50 [36:58<50:23, 104.27s/it]"
     ]
    },
    {
     "name": "stdout",
     "output_type": "stream",
     "text": [
      "Train Epoch: 32 [0/2793 (0%)]\tLoss: 1.412564\n"
     ]
    },
    {
     "name": "stderr",
     "output_type": "stream",
     "text": [
      " 42%|████████████████████████████████▋                                            | 21.23325635104212/50 [37:24<51:16, 106.96s/it]"
     ]
    },
    {
     "name": "stdout",
     "output_type": "stream",
     "text": [
      "Train Epoch: 32 [800/2793 (4%)]\tLoss: 1.320540\n"
     ]
    },
    {
     "name": "stderr",
     "output_type": "stream",
     "text": [
      " 43%|████████████████████████████████▋                                           | 21.464203233259372/50 [37:49<53:13, 111.91s/it]"
     ]
    },
    {
     "name": "stdout",
     "output_type": "stream",
     "text": [
      "Train Epoch: 32 [1600/2793 (7%)]\tLoss: 1.563477\n"
     ]
    },
    {
     "name": "stderr",
     "output_type": "stream",
     "text": [
      " 43%|████████████████████████████████▉                                           | 21.695150115476626/50 [38:14<52:16, 110.83s/it]"
     ]
    },
    {
     "name": "stdout",
     "output_type": "stream",
     "text": [
      "Train Epoch: 32 [2400/2793 (11%)]\tLoss: 1.249770\n"
     ]
    },
    {
     "name": "stderr",
     "output_type": "stream",
     "text": [
      " 44%|██████████████████████████████████▊                                            | 22.0000000000034/50 [38:44<39:55, 85.56s/it]"
     ]
    },
    {
     "name": "stdout",
     "output_type": "stream",
     "text": [
      "\n",
      "Test Epoch: 32\tAccuracy: 280/673 (42%)\n",
      "\n"
     ]
    },
    {
     "name": "stderr",
     "output_type": "stream",
     "text": [
      " 44%|█████████████████████████████████▉                                           | 22.002309468825572/50 [38:44<43:27, 93.12s/it]"
     ]
    },
    {
     "name": "stdout",
     "output_type": "stream",
     "text": [
      "Train Epoch: 33 [0/2793 (0%)]\tLoss: 1.929420\n"
     ]
    },
    {
     "name": "stderr",
     "output_type": "stream",
     "text": [
      " 44%|█████████████████████████████████▊                                          | 22.233256351042826/50 [39:10<51:19, 110.90s/it]"
     ]
    },
    {
     "name": "stdout",
     "output_type": "stream",
     "text": [
      "Train Epoch: 33 [800/2793 (4%)]\tLoss: 1.192216\n"
     ]
    },
    {
     "name": "stderr",
     "output_type": "stream",
     "text": [
      " 45%|██████████████████████████████████▌                                          | 22.46420323326008/50 [39:35<58:46, 128.07s/it]"
     ]
    },
    {
     "name": "stdout",
     "output_type": "stream",
     "text": [
      "Train Epoch: 33 [1600/2793 (7%)]\tLoss: 1.812589\n"
     ]
    },
    {
     "name": "stderr",
     "output_type": "stream",
     "text": [
      " 45%|██████████████████████████████████▍                                         | 22.695150115477333/50 [40:00<51:49, 113.88s/it]"
     ]
    },
    {
     "name": "stdout",
     "output_type": "stream",
     "text": [
      "Train Epoch: 33 [2400/2793 (11%)]\tLoss: 1.006045\n"
     ]
    },
    {
     "name": "stderr",
     "output_type": "stream",
     "text": [
      " 46%|███████████████████████████████████▍                                         | 23.000000000004107/50 [40:30<37:29, 83.33s/it]"
     ]
    },
    {
     "name": "stdout",
     "output_type": "stream",
     "text": [
      "\n",
      "Test Epoch: 33\tAccuracy: 283/673 (42%)\n",
      "\n"
     ]
    },
    {
     "name": "stderr",
     "output_type": "stream",
     "text": [
      " 46%|███████████████████████████████████▉                                          | 23.00230946882628/50 [40:30<39:04, 86.86s/it]"
     ]
    },
    {
     "name": "stdout",
     "output_type": "stream",
     "text": [
      "Train Epoch: 34 [0/2793 (0%)]\tLoss: 1.731353\n"
     ]
    },
    {
     "name": "stderr",
     "output_type": "stream",
     "text": [
      " 46%|███████████████████████████████████▎                                        | 23.233256351043533/50 [40:55<46:20, 103.87s/it]"
     ]
    },
    {
     "name": "stdout",
     "output_type": "stream",
     "text": [
      "Train Epoch: 34 [800/2793 (4%)]\tLoss: 1.467246\n"
     ]
    },
    {
     "name": "stderr",
     "output_type": "stream",
     "text": [
      " 47%|███████████████████████████████████▋                                        | 23.464203233260786/50 [41:22<51:17, 115.99s/it]"
     ]
    },
    {
     "name": "stdout",
     "output_type": "stream",
     "text": [
      "Train Epoch: 34 [1600/2793 (7%)]\tLoss: 0.979680\n"
     ]
    },
    {
     "name": "stderr",
     "output_type": "stream",
     "text": [
      " 47%|████████████████████████████████████▍                                        | 23.69515011547804/50 [41:47<50:13, 114.55s/it]"
     ]
    },
    {
     "name": "stdout",
     "output_type": "stream",
     "text": [
      "Train Epoch: 34 [2400/2793 (11%)]\tLoss: 1.273555\n"
     ]
    },
    {
     "name": "stderr",
     "output_type": "stream",
     "text": [
      " 48%|████████████████████████████████████▉                                        | 24.000000000004814/50 [42:17<38:48, 89.56s/it]"
     ]
    },
    {
     "name": "stdout",
     "output_type": "stream",
     "text": [
      "\n",
      "Test Epoch: 34\tAccuracy: 264/673 (39%)\n",
      "\n"
     ]
    },
    {
     "name": "stderr",
     "output_type": "stream",
     "text": [
      " 48%|████████████████████████████████████▍                                       | 24.002309468826986/50 [42:17<47:32, 109.73s/it]"
     ]
    },
    {
     "name": "stdout",
     "output_type": "stream",
     "text": [
      "Train Epoch: 35 [0/2793 (0%)]\tLoss: 1.414163\n"
     ]
    },
    {
     "name": "stderr",
     "output_type": "stream",
     "text": [
      " 48%|█████████████████████████████████████▎                                       | 24.23325635104424/50 [42:43<49:32, 115.36s/it]"
     ]
    },
    {
     "name": "stdout",
     "output_type": "stream",
     "text": [
      "Train Epoch: 35 [800/2793 (4%)]\tLoss: 1.746667\n"
     ]
    },
    {
     "name": "stderr",
     "output_type": "stream",
     "text": [
      " 49%|█████████████████████████████████████▏                                      | 24.464203233261493/50 [43:08<49:41, 116.77s/it]"
     ]
    },
    {
     "name": "stdout",
     "output_type": "stream",
     "text": [
      "Train Epoch: 35 [1600/2793 (7%)]\tLoss: 1.180376\n"
     ]
    },
    {
     "name": "stderr",
     "output_type": "stream",
     "text": [
      " 49%|█████████████████████████████████████▌                                      | 24.695150115478746/50 [43:33<49:29, 117.35s/it]"
     ]
    },
    {
     "name": "stdout",
     "output_type": "stream",
     "text": [
      "Train Epoch: 35 [2400/2793 (11%)]\tLoss: 1.493018\n"
     ]
    },
    {
     "name": "stderr",
     "output_type": "stream",
     "text": [
      " 50%|███████████████████████████████████████                                       | 25.00000000000552/50 [44:02<35:10, 84.44s/it]"
     ]
    },
    {
     "name": "stdout",
     "output_type": "stream",
     "text": [
      "\n",
      "Test Epoch: 35\tAccuracy: 269/673 (40%)\n",
      "\n"
     ]
    },
    {
     "name": "stderr",
     "output_type": "stream",
     "text": [
      " 50%|██████████████████████████████████████▌                                      | 25.002309468827693/50 [44:03<41:03, 98.54s/it]"
     ]
    },
    {
     "name": "stdout",
     "output_type": "stream",
     "text": [
      "Train Epoch: 36 [0/2793 (0%)]\tLoss: 1.182768\n"
     ]
    },
    {
     "name": "stderr",
     "output_type": "stream",
     "text": [
      " 50%|██████████████████████████████████████▎                                     | 25.233256351044947/50 [44:28<42:38, 103.29s/it]"
     ]
    },
    {
     "name": "stdout",
     "output_type": "stream",
     "text": [
      "Train Epoch: 36 [800/2793 (4%)]\tLoss: 1.389533\n"
     ]
    },
    {
     "name": "stderr",
     "output_type": "stream",
     "text": [
      " 51%|███████████████████████████████████████▋                                      | 25.4642032332622/50 [44:54<46:19, 113.30s/it]"
     ]
    },
    {
     "name": "stdout",
     "output_type": "stream",
     "text": [
      "Train Epoch: 36 [1600/2793 (7%)]\tLoss: 1.449700\n"
     ]
    },
    {
     "name": "stderr",
     "output_type": "stream",
     "text": [
      " 51%|███████████████████████████████████████                                     | 25.695150115479453/50 [45:20<43:15, 106.80s/it]"
     ]
    },
    {
     "name": "stdout",
     "output_type": "stream",
     "text": [
      "Train Epoch: 36 [2400/2793 (11%)]\tLoss: 1.223260\n"
     ]
    },
    {
     "name": "stderr",
     "output_type": "stream",
     "text": [
      " 52%|████████████████████████████████████████                                     | 26.000000000006228/50 [45:50<34:02, 85.12s/it]"
     ]
    },
    {
     "name": "stdout",
     "output_type": "stream",
     "text": [
      "\n",
      "Test Epoch: 36\tAccuracy: 284/673 (42%)\n",
      "\n"
     ]
    },
    {
     "name": "stderr",
     "output_type": "stream",
     "text": [
      " 52%|█████████████████████████████████████████                                      | 26.0023094688284/50 [45:50<37:14, 93.10s/it]"
     ]
    },
    {
     "name": "stdout",
     "output_type": "stream",
     "text": [
      "Train Epoch: 37 [0/2793 (0%)]\tLoss: 1.264018\n"
     ]
    },
    {
     "name": "stderr",
     "output_type": "stream",
     "text": [
      " 52%|███████████████████████████████████████▊                                    | 26.233256351045654/50 [46:16<44:17, 111.82s/it]"
     ]
    },
    {
     "name": "stdout",
     "output_type": "stream",
     "text": [
      "Train Epoch: 37 [800/2793 (4%)]\tLoss: 2.118902\n"
     ]
    },
    {
     "name": "stderr",
     "output_type": "stream",
     "text": [
      " 53%|████████████████████████████████████████▏                                   | 26.464203233262907/50 [46:42<43:10, 110.05s/it]"
     ]
    },
    {
     "name": "stdout",
     "output_type": "stream",
     "text": [
      "Train Epoch: 37 [1600/2793 (7%)]\tLoss: 1.734560\n"
     ]
    },
    {
     "name": "stderr",
     "output_type": "stream",
     "text": [
      " 53%|█████████████████████████████████████████                                    | 26.69515011548016/50 [47:08<41:22, 106.50s/it]"
     ]
    },
    {
     "name": "stdout",
     "output_type": "stream",
     "text": [
      "Train Epoch: 37 [2400/2793 (11%)]\tLoss: 1.674256\n"
     ]
    },
    {
     "name": "stderr",
     "output_type": "stream",
     "text": [
      " 54%|█████████████████████████████████████████▌                                   | 27.000000000006935/50 [47:38<32:39, 85.18s/it]"
     ]
    },
    {
     "name": "stdout",
     "output_type": "stream",
     "text": [
      "\n",
      "Test Epoch: 37\tAccuracy: 279/673 (41%)\n",
      "\n"
     ]
    },
    {
     "name": "stderr",
     "output_type": "stream",
     "text": [
      " 54%|█████████████████████████████████████████                                   | 27.002309468829107/50 [47:38<38:58, 101.67s/it]"
     ]
    },
    {
     "name": "stdout",
     "output_type": "stream",
     "text": [
      "Train Epoch: 38 [0/2793 (0%)]\tLoss: 1.540750\n"
     ]
    },
    {
     "name": "stderr",
     "output_type": "stream",
     "text": [
      " 54%|█████████████████████████████████████████▉                                   | 27.23325635104636/50 [48:04<47:12, 124.43s/it]"
     ]
    },
    {
     "name": "stdout",
     "output_type": "stream",
     "text": [
      "Train Epoch: 38 [800/2793 (4%)]\tLoss: 1.368654\n"
     ]
    },
    {
     "name": "stderr",
     "output_type": "stream",
     "text": [
      " 55%|█████████████████████████████████████████▋                                  | 27.464203233263614/50 [48:30<42:46, 113.88s/it]"
     ]
    },
    {
     "name": "stdout",
     "output_type": "stream",
     "text": [
      "Train Epoch: 38 [1600/2793 (7%)]\tLoss: 1.202417\n"
     ]
    },
    {
     "name": "stderr",
     "output_type": "stream",
     "text": [
      " 55%|██████████████████████████████████████████                                  | 27.695150115480867/50 [48:56<44:55, 120.85s/it]"
     ]
    },
    {
     "name": "stdout",
     "output_type": "stream",
     "text": [
      "Train Epoch: 38 [2400/2793 (11%)]\tLoss: 0.870570\n"
     ]
    },
    {
     "name": "stderr",
     "output_type": "stream",
     "text": [
      " 56%|███████████████████████████████████████████                                  | 28.000000000007642/50 [49:26<31:16, 85.28s/it]"
     ]
    },
    {
     "name": "stdout",
     "output_type": "stream",
     "text": [
      "\n",
      "Test Epoch: 38\tAccuracy: 283/673 (42%)\n",
      "\n"
     ]
    },
    {
     "name": "stderr",
     "output_type": "stream",
     "text": [
      " 56%|███████████████████████████████████████████                                  | 28.002309468829814/50 [49:26<34:19, 93.63s/it]"
     ]
    },
    {
     "name": "stdout",
     "output_type": "stream",
     "text": [
      "Train Epoch: 39 [0/2793 (0%)]\tLoss: 1.641018\n"
     ]
    },
    {
     "name": "stderr",
     "output_type": "stream",
     "text": [
      " 56%|██████████████████████████████████████████▉                                 | 28.233256351047068/50 [49:52<44:23, 122.35s/it]"
     ]
    },
    {
     "name": "stdout",
     "output_type": "stream",
     "text": [
      "Train Epoch: 39 [800/2793 (4%)]\tLoss: 0.724092\n"
     ]
    },
    {
     "name": "stderr",
     "output_type": "stream",
     "text": [
      " 57%|███████████████████████████████████████████▊                                 | 28.46420323326432/50 [50:18<39:10, 109.14s/it]"
     ]
    },
    {
     "name": "stdout",
     "output_type": "stream",
     "text": [
      "Train Epoch: 39 [1600/2793 (7%)]\tLoss: 1.343594\n"
     ]
    },
    {
     "name": "stderr",
     "output_type": "stream",
     "text": [
      " 57%|███████████████████████████████████████████▌                                | 28.695150115481574/50 [50:44<39:57, 112.52s/it]"
     ]
    },
    {
     "name": "stdout",
     "output_type": "stream",
     "text": [
      "Train Epoch: 39 [2400/2793 (11%)]\tLoss: 1.346061\n"
     ]
    },
    {
     "name": "stderr",
     "output_type": "stream",
     "text": [
      " 58%|█████████████████████████████████████████████▏                                | 29.00000000000835/50 [51:14<29:02, 83.00s/it]"
     ]
    },
    {
     "name": "stdout",
     "output_type": "stream",
     "text": [
      "\n",
      "Test Epoch: 39\tAccuracy: 276/673 (41%)\n",
      "\n"
     ]
    },
    {
     "name": "stderr",
     "output_type": "stream",
     "text": [
      " 58%|█████████████████████████████████████████████▏                                | 29.00230946883052/50 [51:14<32:00, 91.46s/it]"
     ]
    },
    {
     "name": "stdout",
     "output_type": "stream",
     "text": [
      "Train Epoch: 40 [0/2793 (0%)]\tLoss: 1.045093\n"
     ]
    },
    {
     "name": "stderr",
     "output_type": "stream",
     "text": [
      " 58%|████████████████████████████████████████████▍                               | 29.233256351047775/50 [51:40<40:01, 115.66s/it]"
     ]
    },
    {
     "name": "stdout",
     "output_type": "stream",
     "text": [
      "Train Epoch: 40 [800/2793 (4%)]\tLoss: 1.208524\n"
     ]
    },
    {
     "name": "stderr",
     "output_type": "stream",
     "text": [
      " 59%|████████████████████████████████████████████▊                               | 29.464203233265028/50 [52:05<40:10, 117.39s/it]"
     ]
    },
    {
     "name": "stdout",
     "output_type": "stream",
     "text": [
      "Train Epoch: 40 [1600/2793 (7%)]\tLoss: 1.833384\n"
     ]
    },
    {
     "name": "stderr",
     "output_type": "stream",
     "text": [
      " 59%|█████████████████████████████████████████████▋                               | 29.69515011548228/50 [52:32<39:34, 116.95s/it]"
     ]
    },
    {
     "name": "stdout",
     "output_type": "stream",
     "text": [
      "Train Epoch: 40 [2400/2793 (11%)]\tLoss: 1.527753\n"
     ]
    },
    {
     "name": "stderr",
     "output_type": "stream",
     "text": [
      " 60%|██████████████████████████████████████████████▏                              | 30.000000000009056/50 [53:01<28:35, 85.75s/it]"
     ]
    },
    {
     "name": "stdout",
     "output_type": "stream",
     "text": [
      "\n",
      "Test Epoch: 40\tAccuracy: 282/673 (42%)\n",
      "\n"
     ]
    },
    {
     "name": "stderr",
     "output_type": "stream",
     "text": [
      " 60%|██████████████████████████████████████████████▊                               | 30.00230946883123/50 [53:01<31:01, 93.09s/it]"
     ]
    },
    {
     "name": "stdout",
     "output_type": "stream",
     "text": [
      "Train Epoch: 41 [0/2793 (0%)]\tLoss: 1.232343\n"
     ]
    },
    {
     "name": "stderr",
     "output_type": "stream",
     "text": [
      " 60%|██████████████████████████████████████████████▌                              | 30.23325635104848/50 [53:27<38:27, 116.72s/it]"
     ]
    },
    {
     "name": "stdout",
     "output_type": "stream",
     "text": [
      "Train Epoch: 41 [800/2793 (4%)]\tLoss: 1.235876\n"
     ]
    },
    {
     "name": "stderr",
     "output_type": "stream",
     "text": [
      " 61%|██████████████████████████████████████████████▎                             | 30.464203233265735/50 [53:54<39:19, 120.76s/it]"
     ]
    },
    {
     "name": "stdout",
     "output_type": "stream",
     "text": [
      "Train Epoch: 41 [1600/2793 (7%)]\tLoss: 1.611501\n"
     ]
    },
    {
     "name": "stderr",
     "output_type": "stream",
     "text": [
      " 61%|███████████████████████████████████████████████▎                             | 30.69515011548299/50 [54:19<35:16, 109.63s/it]"
     ]
    },
    {
     "name": "stdout",
     "output_type": "stream",
     "text": [
      "Train Epoch: 41 [2400/2793 (11%)]\tLoss: 1.245953\n"
     ]
    },
    {
     "name": "stderr",
     "output_type": "stream",
     "text": [
      " 62%|███████████████████████████████████████████████▋                             | 31.000000000009763/50 [54:49<28:04, 88.66s/it]"
     ]
    },
    {
     "name": "stdout",
     "output_type": "stream",
     "text": [
      "\n",
      "Test Epoch: 41\tAccuracy: 261/673 (39%)\n",
      "\n"
     ]
    },
    {
     "name": "stderr",
     "output_type": "stream",
     "text": [
      " 62%|███████████████████████████████████████████████▋                             | 31.002309468831935/50 [54:49<31:36, 99.83s/it]"
     ]
    },
    {
     "name": "stdout",
     "output_type": "stream",
     "text": [
      "Train Epoch: 42 [0/2793 (0%)]\tLoss: 2.059602\n"
     ]
    },
    {
     "name": "stderr",
     "output_type": "stream",
     "text": [
      " 62%|████████████████████████████████████████████████                             | 31.23325635104919/50 [55:16<36:05, 115.37s/it]"
     ]
    },
    {
     "name": "stdout",
     "output_type": "stream",
     "text": [
      "Train Epoch: 42 [800/2793 (4%)]\tLoss: 1.191587\n"
     ]
    },
    {
     "name": "stderr",
     "output_type": "stream",
     "text": [
      " 63%|███████████████████████████████████████████████▊                            | 31.464203233266442/50 [55:42<38:57, 126.12s/it]"
     ]
    },
    {
     "name": "stdout",
     "output_type": "stream",
     "text": [
      "Train Epoch: 42 [1600/2793 (7%)]\tLoss: 1.249831\n"
     ]
    },
    {
     "name": "stderr",
     "output_type": "stream",
     "text": [
      " 63%|████████████████████████████████████████████████▏                           | 31.695150115483695/50 [56:07<35:31, 116.45s/it]"
     ]
    },
    {
     "name": "stdout",
     "output_type": "stream",
     "text": [
      "Train Epoch: 42 [2400/2793 (11%)]\tLoss: 0.971556\n"
     ]
    },
    {
     "name": "stderr",
     "output_type": "stream",
     "text": [
      " 64%|█████████████████████████████████████████████████▎                           | 32.000000000010466/50 [56:37<24:52, 82.91s/it]"
     ]
    },
    {
     "name": "stdout",
     "output_type": "stream",
     "text": [
      "\n",
      "Test Epoch: 42\tAccuracy: 266/673 (40%)\n",
      "\n"
     ]
    },
    {
     "name": "stderr",
     "output_type": "stream",
     "text": [
      " 64%|█████████████████████████████████████████████████▎                           | 32.002309468832635/50 [56:37<29:01, 96.75s/it]"
     ]
    },
    {
     "name": "stdout",
     "output_type": "stream",
     "text": [
      "Train Epoch: 43 [0/2793 (0%)]\tLoss: 1.116704\n"
     ]
    },
    {
     "name": "stderr",
     "output_type": "stream",
     "text": [
      " 64%|█████████████████████████████████████████████████▋                           | 32.23325635104953/50 [57:03<33:44, 113.97s/it]"
     ]
    },
    {
     "name": "stdout",
     "output_type": "stream",
     "text": [
      "Train Epoch: 43 [800/2793 (4%)]\tLoss: 1.381310\n"
     ]
    },
    {
     "name": "stderr",
     "output_type": "stream",
     "text": [
      " 65%|██████████████████████████████████████████████████▋                           | 32.46420323326643/50 [57:29<28:53, 98.87s/it]"
     ]
    },
    {
     "name": "stdout",
     "output_type": "stream",
     "text": [
      "Train Epoch: 43 [1600/2793 (7%)]\tLoss: 1.906900\n"
     ]
    },
    {
     "name": "stderr",
     "output_type": "stream",
     "text": [
      " 65%|██████████████████████████████████████████████████▎                          | 32.69515011548333/50 [57:55<34:09, 118.43s/it]"
     ]
    },
    {
     "name": "stdout",
     "output_type": "stream",
     "text": [
      "Train Epoch: 43 [2400/2793 (11%)]\tLoss: 1.274687\n"
     ]
    },
    {
     "name": "stderr",
     "output_type": "stream",
     "text": [
      " 66%|██████████████████████████████████████████████████▊                          | 33.000000000009635/50 [58:24<23:28, 82.84s/it]"
     ]
    },
    {
     "name": "stdout",
     "output_type": "stream",
     "text": [
      "\n",
      "Test Epoch: 43\tAccuracy: 274/673 (41%)\n",
      "\n"
     ]
    },
    {
     "name": "stderr",
     "output_type": "stream",
     "text": [
      " 66%|██████████████████████████████████████████████████▊                          | 33.002309468831804/50 [58:24<26:01, 91.89s/it]"
     ]
    },
    {
     "name": "stdout",
     "output_type": "stream",
     "text": [
      "Train Epoch: 44 [0/2793 (0%)]\tLoss: 1.197899\n"
     ]
    },
    {
     "name": "stderr",
     "output_type": "stream",
     "text": [
      " 66%|███████████████████████████████████████████████████▊                          | 33.2332563510487/50 [58:50<30:02, 107.52s/it]"
     ]
    },
    {
     "name": "stdout",
     "output_type": "stream",
     "text": [
      "Train Epoch: 44 [800/2793 (4%)]\tLoss: 0.838070\n"
     ]
    },
    {
     "name": "stderr",
     "output_type": "stream",
     "text": [
      " 67%|████████████████████████████████████████████████████▏                         | 33.4642032332656/50 [59:17<32:04, 116.40s/it]"
     ]
    },
    {
     "name": "stdout",
     "output_type": "stream",
     "text": [
      "Train Epoch: 44 [1600/2793 (7%)]\tLoss: 1.062807\n"
     ]
    },
    {
     "name": "stderr",
     "output_type": "stream",
     "text": [
      " 67%|████████████████████████████████████████████████████▌                         | 33.6951501154825/50 [59:42<33:14, 122.35s/it]"
     ]
    },
    {
     "name": "stdout",
     "output_type": "stream",
     "text": [
      "Train Epoch: 44 [2400/2793 (11%)]\tLoss: 1.317071\n"
     ]
    },
    {
     "name": "stderr",
     "output_type": "stream",
     "text": [
      " 68%|███████████████████████████████████████████████████                        | 34.000000000008804/50 [1:00:12<22:49, 85.59s/it]"
     ]
    },
    {
     "name": "stdout",
     "output_type": "stream",
     "text": [
      "\n",
      "Test Epoch: 44\tAccuracy: 273/673 (41%)\n",
      "\n"
     ]
    },
    {
     "name": "stderr",
     "output_type": "stream",
     "text": [
      " 68%|███████████████████████████████████████████████████                        | 34.00230946883097/50 [1:00:13<29:16, 109.78s/it]"
     ]
    },
    {
     "name": "stdout",
     "output_type": "stream",
     "text": [
      "Train Epoch: 45 [0/2793 (0%)]\tLoss: 1.242083\n"
     ]
    },
    {
     "name": "stderr",
     "output_type": "stream",
     "text": [
      " 68%|███████████████████████████████████████████████████▎                       | 34.23325635104787/50 [1:00:38<30:28, 115.98s/it]"
     ]
    },
    {
     "name": "stdout",
     "output_type": "stream",
     "text": [
      "Train Epoch: 45 [800/2793 (4%)]\tLoss: 1.449594\n"
     ]
    },
    {
     "name": "stderr",
     "output_type": "stream",
     "text": [
      " 69%|███████████████████████████████████████████████████▋                       | 34.46420323326477/50 [1:01:04<29:03, 112.21s/it]"
     ]
    },
    {
     "name": "stdout",
     "output_type": "stream",
     "text": [
      "Train Epoch: 45 [1600/2793 (7%)]\tLoss: 1.009268\n"
     ]
    },
    {
     "name": "stderr",
     "output_type": "stream",
     "text": [
      " 69%|████████████████████████████████████████████████████                       | 34.69515011548167/50 [1:01:30<28:08, 110.36s/it]"
     ]
    },
    {
     "name": "stdout",
     "output_type": "stream",
     "text": [
      "Train Epoch: 45 [2400/2793 (11%)]\tLoss: 1.355120\n"
     ]
    },
    {
     "name": "stderr",
     "output_type": "stream",
     "text": [
      " 70%|█████████████████████████████████████████████████████▏                      | 35.00000000000797/50 [1:01:59<21:21, 85.43s/it]"
     ]
    },
    {
     "name": "stdout",
     "output_type": "stream",
     "text": [
      "\n",
      "Test Epoch: 45\tAccuracy: 260/673 (39%)\n",
      "\n"
     ]
    },
    {
     "name": "stderr",
     "output_type": "stream",
     "text": [
      " 70%|█████████████████████████████████████████████████████▏                      | 35.00230946883014/50 [1:02:00<24:44, 99.00s/it]"
     ]
    },
    {
     "name": "stdout",
     "output_type": "stream",
     "text": [
      "Train Epoch: 46 [0/2793 (0%)]\tLoss: 1.249233\n"
     ]
    },
    {
     "name": "stderr",
     "output_type": "stream",
     "text": [
      " 70%|████████████████████████████████████████████████████▊                      | 35.23325635104704/50 [1:02:26<28:28, 115.67s/it]"
     ]
    },
    {
     "name": "stdout",
     "output_type": "stream",
     "text": [
      "Train Epoch: 46 [800/2793 (4%)]\tLoss: 1.150525\n"
     ]
    },
    {
     "name": "stderr",
     "output_type": "stream",
     "text": [
      " 71%|█████████████████████████████████████████████████████▏                     | 35.46420323326394/50 [1:02:52<28:25, 117.35s/it]"
     ]
    },
    {
     "name": "stdout",
     "output_type": "stream",
     "text": [
      "Train Epoch: 46 [1600/2793 (7%)]\tLoss: 1.256148\n"
     ]
    },
    {
     "name": "stderr",
     "output_type": "stream",
     "text": [
      " 71%|████████████████████████████████████████████████████▊                     | 35.695150115480835/50 [1:03:19<27:23, 114.88s/it]"
     ]
    },
    {
     "name": "stdout",
     "output_type": "stream",
     "text": [
      "Train Epoch: 46 [2400/2793 (11%)]\tLoss: 1.589601\n"
     ]
    },
    {
     "name": "stderr",
     "output_type": "stream",
     "text": [
      " 72%|██████████████████████████████████████████████████████▋                     | 36.00000000000714/50 [1:03:49<19:50, 85.03s/it]"
     ]
    },
    {
     "name": "stdout",
     "output_type": "stream",
     "text": [
      "\n",
      "Test Epoch: 46\tAccuracy: 271/673 (40%)\n",
      "\n"
     ]
    },
    {
     "name": "stderr",
     "output_type": "stream",
     "text": [
      " 72%|██████████████████████████████████████████████████████▋                     | 36.00230946882931/50 [1:03:49<22:59, 98.56s/it]"
     ]
    },
    {
     "name": "stdout",
     "output_type": "stream",
     "text": [
      "Train Epoch: 47 [0/2793 (0%)]\tLoss: 1.364100\n"
     ]
    },
    {
     "name": "stderr",
     "output_type": "stream",
     "text": [
      " 72%|██████████████████████████████████████████████████████▎                    | 36.23325635104621/50 [1:04:15<25:04, 109.27s/it]"
     ]
    },
    {
     "name": "stdout",
     "output_type": "stream",
     "text": [
      "Train Epoch: 47 [800/2793 (4%)]\tLoss: 1.570849\n"
     ]
    },
    {
     "name": "stderr",
     "output_type": "stream",
     "text": [
      " 73%|█████████████████████████████████████████████████████▉                    | 36.464203233263106/50 [1:04:41<26:06, 115.74s/it]"
     ]
    },
    {
     "name": "stdout",
     "output_type": "stream",
     "text": [
      "Train Epoch: 47 [1600/2793 (7%)]\tLoss: 1.113281\n"
     ]
    },
    {
     "name": "stderr",
     "output_type": "stream",
     "text": [
      " 73%|██████████████████████████████████████████████████████▎                   | 36.695150115480004/50 [1:05:07<24:38, 111.10s/it]"
     ]
    },
    {
     "name": "stdout",
     "output_type": "stream",
     "text": [
      "Train Epoch: 47 [2400/2793 (11%)]\tLoss: 1.716361\n"
     ]
    },
    {
     "name": "stderr",
     "output_type": "stream",
     "text": [
      " 74%|████████████████████████████████████████████████████████▏                   | 37.00000000000631/50 [1:05:37<18:26, 85.12s/it]"
     ]
    },
    {
     "name": "stdout",
     "output_type": "stream",
     "text": [
      "\n",
      "Test Epoch: 47\tAccuracy: 270/673 (40%)\n",
      "\n"
     ]
    },
    {
     "name": "stderr",
     "output_type": "stream",
     "text": [
      " 74%|████████████████████████████████████████████████████████▏                   | 37.00230946882848/50 [1:05:37<21:28, 99.12s/it]"
     ]
    },
    {
     "name": "stdout",
     "output_type": "stream",
     "text": [
      "Train Epoch: 48 [0/2793 (0%)]\tLoss: 1.427746\n"
     ]
    },
    {
     "name": "stderr",
     "output_type": "stream",
     "text": [
      " 74%|███████████████████████████████████████████████████████▊                   | 37.23325635104538/50 [1:06:03<25:17, 118.87s/it]"
     ]
    },
    {
     "name": "stdout",
     "output_type": "stream",
     "text": [
      "Train Epoch: 48 [800/2793 (4%)]\tLoss: 1.504295\n"
     ]
    },
    {
     "name": "stderr",
     "output_type": "stream",
     "text": [
      " 75%|███████████████████████████████████████████████████████▍                  | 37.464203233262275/50 [1:06:30<27:00, 129.27s/it]"
     ]
    },
    {
     "name": "stdout",
     "output_type": "stream",
     "text": [
      "Train Epoch: 48 [1600/2793 (7%)]\tLoss: 1.252824\n"
     ]
    },
    {
     "name": "stderr",
     "output_type": "stream",
     "text": [
      " 75%|████████████████████████████████████████████████████████▌                  | 37.69515011547917/50 [1:06:56<21:55, 106.89s/it]"
     ]
    },
    {
     "name": "stdout",
     "output_type": "stream",
     "text": [
      "Train Epoch: 48 [2400/2793 (11%)]\tLoss: 1.573851\n"
     ]
    },
    {
     "name": "stderr",
     "output_type": "stream",
     "text": [
      " 76%|█████████████████████████████████████████████████████████▊                  | 38.00000000000548/50 [1:07:25<17:56, 89.72s/it]"
     ]
    },
    {
     "name": "stdout",
     "output_type": "stream",
     "text": [
      "\n",
      "Test Epoch: 48\tAccuracy: 277/673 (41%)\n",
      "\n"
     ]
    },
    {
     "name": "stderr",
     "output_type": "stream",
     "text": [
      " 76%|█████████████████████████████████████████████████████████▊                  | 38.00230946882765/50 [1:07:26<18:13, 91.17s/it]"
     ]
    },
    {
     "name": "stdout",
     "output_type": "stream",
     "text": [
      "Train Epoch: 49 [0/2793 (0%)]\tLoss: 1.657527\n"
     ]
    },
    {
     "name": "stderr",
     "output_type": "stream",
     "text": [
      " 76%|████████████████████████████████████████████████████████▌                 | 38.233256351044545/50 [1:07:52<20:38, 105.28s/it]"
     ]
    },
    {
     "name": "stdout",
     "output_type": "stream",
     "text": [
      "Train Epoch: 49 [800/2793 (4%)]\tLoss: 1.556554\n"
     ]
    },
    {
     "name": "stderr",
     "output_type": "stream",
     "text": [
      " 77%|█████████████████████████████████████████████████████████▋                 | 38.46420323326144/50 [1:08:18<22:17, 115.93s/it]"
     ]
    },
    {
     "name": "stdout",
     "output_type": "stream",
     "text": [
      "Train Epoch: 49 [1600/2793 (7%)]\tLoss: 1.822605\n"
     ]
    },
    {
     "name": "stderr",
     "output_type": "stream",
     "text": [
      " 77%|██████████████████████████████████████████████████████████                 | 38.69515011547834/50 [1:08:44<21:34, 114.49s/it]"
     ]
    },
    {
     "name": "stdout",
     "output_type": "stream",
     "text": [
      "Train Epoch: 49 [2400/2793 (11%)]\tLoss: 1.307631\n"
     ]
    },
    {
     "name": "stderr",
     "output_type": "stream",
     "text": [
      " 78%|███████████████████████████████████████████████████████████▎                | 39.00000000000465/50 [1:09:14<16:34, 90.40s/it]"
     ]
    },
    {
     "name": "stdout",
     "output_type": "stream",
     "text": [
      "\n",
      "Test Epoch: 49\tAccuracy: 263/673 (39%)\n",
      "\n"
     ]
    },
    {
     "name": "stderr",
     "output_type": "stream",
     "text": [
      " 78%|█████████████████████████████████████████████████████████▋                | 39.002309468826816/50 [1:09:14<19:41, 107.46s/it]"
     ]
    },
    {
     "name": "stdout",
     "output_type": "stream",
     "text": [
      "Train Epoch: 50 [0/2793 (0%)]\tLoss: 1.164035\n"
     ]
    },
    {
     "name": "stderr",
     "output_type": "stream",
     "text": [
      " 78%|██████████████████████████████████████████████████████████                | 39.233256351043714/50 [1:09:39<19:15, 107.29s/it]"
     ]
    },
    {
     "name": "stdout",
     "output_type": "stream",
     "text": [
      "Train Epoch: 50 [800/2793 (4%)]\tLoss: 1.234881\n"
     ]
    },
    {
     "name": "stderr",
     "output_type": "stream",
     "text": [
      " 79%|███████████████████████████████████████████████████████████▏               | 39.46420323326061/50 [1:10:04<18:48, 107.14s/it]"
     ]
    },
    {
     "name": "stdout",
     "output_type": "stream",
     "text": [
      "Train Epoch: 50 [1600/2793 (7%)]\tLoss: 1.013052\n"
     ]
    },
    {
     "name": "stderr",
     "output_type": "stream",
     "text": [
      " 79%|███████████████████████████████████████████████████████████▌               | 39.69515011547751/50 [1:10:28<18:34, 108.12s/it]"
     ]
    },
    {
     "name": "stdout",
     "output_type": "stream",
     "text": [
      "Train Epoch: 50 [2400/2793 (11%)]\tLoss: 1.588928\n"
     ]
    },
    {
     "name": "stderr",
     "output_type": "stream",
     "text": [
      " 80%|████████████████████████████████████████████████████████████               | 40.000000000003816/50 [1:10:58<15:08, 90.80s/it]"
     ]
    },
    {
     "name": "stdout",
     "output_type": "stream",
     "text": [
      "\n",
      "Test Epoch: 50\tAccuracy: 272/673 (40%)\n",
      "\n"
     ]
    },
    {
     "name": "stderr",
     "output_type": "stream",
     "text": [
      " 80%|████████████████████████████████████████████████████████████               | 40.002309468825985/50 [1:10:58<15:09, 90.93s/it]"
     ]
    },
    {
     "name": "stdout",
     "output_type": "stream",
     "text": [
      "Train Epoch: 51 [0/2793 (0%)]\tLoss: 1.245469\n"
     ]
    },
    {
     "name": "stderr",
     "output_type": "stream",
     "text": [
      " 80%|████████████████████████████████████████████████████████████▎              | 40.23325635104288/50 [1:11:22<17:10, 105.55s/it]"
     ]
    },
    {
     "name": "stdout",
     "output_type": "stream",
     "text": [
      "Train Epoch: 51 [800/2793 (4%)]\tLoss: 1.188151\n"
     ]
    },
    {
     "name": "stderr",
     "output_type": "stream",
     "text": [
      " 81%|████████████████████████████████████████████████████████████▋              | 40.46420323325978/50 [1:11:48<17:10, 108.02s/it]"
     ]
    },
    {
     "name": "stdout",
     "output_type": "stream",
     "text": [
      "Train Epoch: 51 [1600/2793 (7%)]\tLoss: 1.932733\n"
     ]
    },
    {
     "name": "stderr",
     "output_type": "stream",
     "text": [
      " 81%|█████████████████████████████████████████████████████████████              | 40.69515011547668/50 [1:12:13<18:32, 119.56s/it]"
     ]
    },
    {
     "name": "stdout",
     "output_type": "stream",
     "text": [
      "Train Epoch: 51 [2400/2793 (11%)]\tLoss: 1.282346\n"
     ]
    },
    {
     "name": "stderr",
     "output_type": "stream",
     "text": [
      " 82%|█████████████████████████████████████████████████████████████▌             | 41.000000000002984/50 [1:12:42<12:27, 83.03s/it]"
     ]
    },
    {
     "name": "stdout",
     "output_type": "stream",
     "text": [
      "\n",
      "Test Epoch: 51\tAccuracy: 275/673 (41%)\n",
      "\n"
     ]
    },
    {
     "name": "stderr",
     "output_type": "stream",
     "text": [
      " 82%|██████████████████████████████████████████████████████████████▎             | 41.00230946882515/50 [1:12:42<13:17, 88.59s/it]"
     ]
    },
    {
     "name": "stdout",
     "output_type": "stream",
     "text": [
      "Train Epoch: 52 [0/2793 (0%)]\tLoss: 1.503533\n"
     ]
    },
    {
     "name": "stderr",
     "output_type": "stream",
     "text": [
      " 82%|█████████████████████████████████████████████████████████████▊             | 41.23325635104205/50 [1:13:08<16:54, 115.69s/it]"
     ]
    },
    {
     "name": "stdout",
     "output_type": "stream",
     "text": [
      "Train Epoch: 52 [800/2793 (4%)]\tLoss: 1.466741\n"
     ]
    },
    {
     "name": "stderr",
     "output_type": "stream",
     "text": [
      " 83%|██████████████████████████████████████████████████████████████▏            | 41.46420323325895/50 [1:13:34<16:48, 118.20s/it]"
     ]
    },
    {
     "name": "stdout",
     "output_type": "stream",
     "text": [
      "Train Epoch: 52 [1600/2793 (7%)]\tLoss: 1.255909\n"
     ]
    },
    {
     "name": "stderr",
     "output_type": "stream",
     "text": [
      " 83%|██████████████████████████████████████████████████████████████▌            | 41.69515011547585/50 [1:13:59<15:42, 113.50s/it]"
     ]
    },
    {
     "name": "stdout",
     "output_type": "stream",
     "text": [
      "Train Epoch: 52 [2400/2793 (11%)]\tLoss: 1.558006\n"
     ]
    },
    {
     "name": "stderr",
     "output_type": "stream",
     "text": [
      " 84%|███████████████████████████████████████████████████████████████▊            | 42.00000000000215/50 [1:14:28<11:47, 88.46s/it]"
     ]
    },
    {
     "name": "stdout",
     "output_type": "stream",
     "text": [
      "\n",
      "Test Epoch: 52\tAccuracy: 268/673 (40%)\n",
      "\n"
     ]
    },
    {
     "name": "stderr",
     "output_type": "stream",
     "text": [
      " 84%|███████████████████████████████████████████████████████████████▊            | 42.00230946882432/50 [1:14:28<13:03, 97.93s/it]"
     ]
    },
    {
     "name": "stdout",
     "output_type": "stream",
     "text": [
      "Train Epoch: 53 [0/2793 (0%)]\tLoss: 1.142626\n"
     ]
    },
    {
     "name": "stderr",
     "output_type": "stream",
     "text": [
      " 84%|███████████████████████████████████████████████████████████████▎           | 42.23325635104122/50 [1:14:54<14:42, 113.58s/it]"
     ]
    },
    {
     "name": "stdout",
     "output_type": "stream",
     "text": [
      "Train Epoch: 53 [800/2793 (4%)]\tLoss: 1.605151\n"
     ]
    },
    {
     "name": "stderr",
     "output_type": "stream",
     "text": [
      " 85%|███████████████████████████████████████████████████████████████▋           | 42.46420323325812/50 [1:15:19<13:34, 108.07s/it]"
     ]
    },
    {
     "name": "stdout",
     "output_type": "stream",
     "text": [
      "Train Epoch: 53 [1600/2793 (7%)]\tLoss: 1.259409\n"
     ]
    },
    {
     "name": "stderr",
     "output_type": "stream",
     "text": [
      " 85%|███████████████████████████████████████████████████████████████▏          | 42.695150115475016/50 [1:15:45<14:04, 115.59s/it]"
     ]
    },
    {
     "name": "stdout",
     "output_type": "stream",
     "text": [
      "Train Epoch: 53 [2400/2793 (11%)]\tLoss: 1.274067\n"
     ]
    },
    {
     "name": "stderr",
     "output_type": "stream",
     "text": [
      " 86%|█████████████████████████████████████████████████████████████████▎          | 43.00000000000132/50 [1:16:14<09:41, 83.01s/it]"
     ]
    },
    {
     "name": "stdout",
     "output_type": "stream",
     "text": [
      "\n",
      "Test Epoch: 53\tAccuracy: 274/673 (41%)\n",
      "\n"
     ]
    },
    {
     "name": "stderr",
     "output_type": "stream",
     "text": [
      " 86%|█████████████████████████████████████████████████████████████████▎          | 43.00230946882349/50 [1:16:14<10:26, 89.54s/it]"
     ]
    },
    {
     "name": "stdout",
     "output_type": "stream",
     "text": [
      "Train Epoch: 54 [0/2793 (0%)]\tLoss: 1.323042\n"
     ]
    },
    {
     "name": "stderr",
     "output_type": "stream",
     "text": [
      " 86%|████████████████████████████████████████████████████████████████▊          | 43.23325635104039/50 [1:16:39<12:35, 111.59s/it]"
     ]
    },
    {
     "name": "stdout",
     "output_type": "stream",
     "text": [
      "Train Epoch: 54 [800/2793 (4%)]\tLoss: 1.175388\n"
     ]
    },
    {
     "name": "stderr",
     "output_type": "stream",
     "text": [
      " 87%|█████████████████████████████████████████████████████████████████▏         | 43.46420323325729/50 [1:17:05<12:37, 115.94s/it]"
     ]
    },
    {
     "name": "stdout",
     "output_type": "stream",
     "text": [
      "Train Epoch: 54 [1600/2793 (7%)]\tLoss: 1.899259\n"
     ]
    },
    {
     "name": "stderr",
     "output_type": "stream",
     "text": [
      " 87%|████████████████████████████████████████████████████████████████▋         | 43.695150115474185/50 [1:17:30<11:16, 107.33s/it]"
     ]
    },
    {
     "name": "stdout",
     "output_type": "stream",
     "text": [
      "Train Epoch: 54 [2400/2793 (11%)]\tLoss: 1.515236\n"
     ]
    },
    {
     "name": "stderr",
     "output_type": "stream",
     "text": [
      " 88%|██████████████████████████████████████████████████████████████████▉         | 44.00000000000049/50 [1:18:00<08:29, 84.95s/it]"
     ]
    },
    {
     "name": "stdout",
     "output_type": "stream",
     "text": [
      "\n",
      "Test Epoch: 54\tAccuracy: 254/673 (38%)\n",
      "\n"
     ]
    },
    {
     "name": "stderr",
     "output_type": "stream",
     "text": [
      " 88%|██████████████████████████████████████████████████████████████████▉         | 44.00230946882266/50 [1:18:00<09:14, 92.38s/it]"
     ]
    },
    {
     "name": "stdout",
     "output_type": "stream",
     "text": [
      "Train Epoch: 55 [0/2793 (0%)]\tLoss: 0.919080\n"
     ]
    },
    {
     "name": "stderr",
     "output_type": "stream",
     "text": [
      " 88%|██████████████████████████████████████████████████████████████████▎        | 44.23325635103956/50 [1:18:26<13:42, 142.57s/it]"
     ]
    },
    {
     "name": "stdout",
     "output_type": "stream",
     "text": [
      "Train Epoch: 55 [800/2793 (4%)]\tLoss: 1.497566\n"
     ]
    },
    {
     "name": "stderr",
     "output_type": "stream",
     "text": [
      " 89%|█████████████████████████████████████████████████████████████████▊        | 44.464203233256455/50 [1:18:51<09:57, 107.96s/it]"
     ]
    },
    {
     "name": "stdout",
     "output_type": "stream",
     "text": [
      "Train Epoch: 55 [1600/2793 (7%)]\tLoss: 1.506142\n"
     ]
    },
    {
     "name": "stderr",
     "output_type": "stream",
     "text": [
      " 89%|███████████████████████████████████████████████████████████████████        | 44.69515011547335/50 [1:19:17<09:12, 104.15s/it]"
     ]
    },
    {
     "name": "stdout",
     "output_type": "stream",
     "text": [
      "Train Epoch: 55 [2400/2793 (11%)]\tLoss: 1.111964\n"
     ]
    },
    {
     "name": "stderr",
     "output_type": "stream",
     "text": [
      " 90%|████████████████████████████████████████████████████████████████████▍       | 44.99999999999966/50 [1:19:45<06:59, 83.90s/it]"
     ]
    },
    {
     "name": "stdout",
     "output_type": "stream",
     "text": [
      "\n",
      "Test Epoch: 55\tAccuracy: 278/673 (41%)\n",
      "\n"
     ]
    },
    {
     "name": "stderr",
     "output_type": "stream",
     "text": [
      " 90%|████████████████████████████████████████████████████████████████████▍       | 45.00230946882183/50 [1:19:46<08:06, 97.31s/it]"
     ]
    },
    {
     "name": "stdout",
     "output_type": "stream",
     "text": [
      "Train Epoch: 56 [0/2793 (0%)]\tLoss: 1.191081\n"
     ]
    },
    {
     "name": "stderr",
     "output_type": "stream",
     "text": [
      " 90%|██████████████████████████████████████████████████████████████████▉       | 45.233256351038726/50 [1:20:11<08:36, 108.31s/it]"
     ]
    },
    {
     "name": "stdout",
     "output_type": "stream",
     "text": [
      "Train Epoch: 56 [800/2793 (4%)]\tLoss: 1.191702\n"
     ]
    },
    {
     "name": "stderr",
     "output_type": "stream",
     "text": [
      " 91%|███████████████████████████████████████████████████████████████████▎      | 45.464203233255624/50 [1:20:37<08:53, 117.65s/it]"
     ]
    },
    {
     "name": "stdout",
     "output_type": "stream",
     "text": [
      "Train Epoch: 56 [1600/2793 (7%)]\tLoss: 1.320970\n"
     ]
    },
    {
     "name": "stderr",
     "output_type": "stream",
     "text": [
      " 91%|████████████████████████████████████████████████████████████████████▌      | 45.69515011547252/50 [1:21:03<08:02, 112.18s/it]"
     ]
    },
    {
     "name": "stdout",
     "output_type": "stream",
     "text": [
      "Train Epoch: 56 [2400/2793 (11%)]\tLoss: 1.388333\n"
     ]
    },
    {
     "name": "stderr",
     "output_type": "stream",
     "text": [
      " 92%|█████████████████████████████████████████████████████████████████████▉      | 45.99999999999883/50 [1:21:31<05:37, 84.25s/it]"
     ]
    },
    {
     "name": "stdout",
     "output_type": "stream",
     "text": [
      "\n",
      "Test Epoch: 56\tAccuracy: 273/673 (41%)\n",
      "\n"
     ]
    },
    {
     "name": "stderr",
     "output_type": "stream",
     "text": [
      " 92%|███████████████████████████████████████████████████████████████████████▊      | 46.002309468821/50 [1:21:32<06:07, 91.94s/it]"
     ]
    },
    {
     "name": "stdout",
     "output_type": "stream",
     "text": [
      "Train Epoch: 57 [0/2793 (0%)]\tLoss: 1.377483\n"
     ]
    },
    {
     "name": "stderr",
     "output_type": "stream",
     "text": [
      " 92%|████████████████████████████████████████████████████████████████████▍     | 46.233256351037895/50 [1:21:57<06:57, 110.91s/it]"
     ]
    },
    {
     "name": "stdout",
     "output_type": "stream",
     "text": [
      "Train Epoch: 57 [800/2793 (4%)]\tLoss: 1.764996\n"
     ]
    },
    {
     "name": "stderr",
     "output_type": "stream",
     "text": [
      " 93%|█████████████████████████████████████████████████████████████████████▋     | 46.46420323325479/50 [1:22:22<06:48, 115.61s/it]"
     ]
    },
    {
     "name": "stdout",
     "output_type": "stream",
     "text": [
      "Train Epoch: 57 [1600/2793 (7%)]\tLoss: 1.430233\n"
     ]
    },
    {
     "name": "stderr",
     "output_type": "stream",
     "text": [
      " 93%|██████████████████████████████████████████████████████████████████████     | 46.69515011547169/50 [1:22:48<06:22, 115.78s/it]"
     ]
    },
    {
     "name": "stdout",
     "output_type": "stream",
     "text": [
      "Train Epoch: 57 [2400/2793 (11%)]\tLoss: 1.396406\n"
     ]
    },
    {
     "name": "stderr",
     "output_type": "stream",
     "text": [
      " 94%|██████████████████████████████████████████████████████████████████████▍    | 46.999999999997996/50 [1:23:17<04:11, 83.83s/it]"
     ]
    },
    {
     "name": "stdout",
     "output_type": "stream",
     "text": [
      "\n",
      "Test Epoch: 57\tAccuracy: 277/673 (41%)\n",
      "\n"
     ]
    },
    {
     "name": "stderr",
     "output_type": "stream",
     "text": [
      " 94%|██████████████████████████████████████████████████████████████████████▌    | 47.002309468820165/50 [1:23:18<04:51, 97.10s/it]"
     ]
    },
    {
     "name": "stdout",
     "output_type": "stream",
     "text": [
      "Train Epoch: 58 [0/2793 (0%)]\tLoss: 1.225777\n"
     ]
    },
    {
     "name": "stderr",
     "output_type": "stream",
     "text": [
      " 94%|██████████████████████████████████████████████████████████████████████▊    | 47.23325635103706/50 [1:23:43<05:34, 120.73s/it]"
     ]
    },
    {
     "name": "stdout",
     "output_type": "stream",
     "text": [
      "Train Epoch: 58 [800/2793 (4%)]\tLoss: 1.164454\n"
     ]
    },
    {
     "name": "stderr",
     "output_type": "stream",
     "text": [
      " 95%|███████████████████████████████████████████████████████████████████████▏   | 47.46420323325396/50 [1:24:08<04:51, 115.00s/it]"
     ]
    },
    {
     "name": "stdout",
     "output_type": "stream",
     "text": [
      "Train Epoch: 58 [1600/2793 (7%)]\tLoss: 1.286001\n"
     ]
    },
    {
     "name": "stderr",
     "output_type": "stream",
     "text": [
      " 95%|███████████████████████████████████████████████████████████████████████▌   | 47.69515011547086/50 [1:24:35<04:23, 114.21s/it]"
     ]
    },
    {
     "name": "stdout",
     "output_type": "stream",
     "text": [
      "Train Epoch: 58 [2400/2793 (11%)]\tLoss: 1.782098\n"
     ]
    },
    {
     "name": "stderr",
     "output_type": "stream",
     "text": [
      " 96%|███████████████████████████████████████████████████████████████████████▉   | 47.999999999997165/50 [1:25:03<02:55, 87.96s/it]"
     ]
    },
    {
     "name": "stdout",
     "output_type": "stream",
     "text": [
      "\n",
      "Test Epoch: 58\tAccuracy: 272/673 (40%)\n",
      "\n"
     ]
    },
    {
     "name": "stderr",
     "output_type": "stream",
     "text": [
      " 96%|████████████████████████████████████████████████████████████████████████   | 48.002309468819334/50 [1:25:04<03:09, 94.70s/it]"
     ]
    },
    {
     "name": "stdout",
     "output_type": "stream",
     "text": [
      "Train Epoch: 59 [0/2793 (0%)]\tLoss: 1.301698\n"
     ]
    },
    {
     "name": "stderr",
     "output_type": "stream",
     "text": [
      " 96%|████████████████████████████████████████████████████████████████████████▎  | 48.23325635103623/50 [1:25:29<03:32, 120.12s/it]"
     ]
    },
    {
     "name": "stdout",
     "output_type": "stream",
     "text": [
      "Train Epoch: 59 [800/2793 (4%)]\tLoss: 1.176336\n"
     ]
    },
    {
     "name": "stderr",
     "output_type": "stream",
     "text": [
      " 97%|████████████████████████████████████████████████████████████████████████▋  | 48.46420323325313/50 [1:25:55<03:34, 139.45s/it]"
     ]
    },
    {
     "name": "stdout",
     "output_type": "stream",
     "text": [
      "Train Epoch: 59 [1600/2793 (7%)]\tLoss: 1.938612\n"
     ]
    },
    {
     "name": "stderr",
     "output_type": "stream",
     "text": [
      " 97%|█████████████████████████████████████████████████████████████████████████  | 48.69515011547003/50 [1:26:20<02:24, 110.51s/it]"
     ]
    },
    {
     "name": "stdout",
     "output_type": "stream",
     "text": [
      "Train Epoch: 59 [2400/2793 (11%)]\tLoss: 1.223029\n"
     ]
    },
    {
     "name": "stderr",
     "output_type": "stream",
     "text": [
      " 98%|█████████████████████████████████████████████████████████████████████████▍ | 48.999999999996334/50 [1:26:49<01:23, 83.67s/it]"
     ]
    },
    {
     "name": "stdout",
     "output_type": "stream",
     "text": [
      "\n",
      "Test Epoch: 59\tAccuracy: 277/673 (41%)\n",
      "\n"
     ]
    },
    {
     "name": "stderr",
     "output_type": "stream",
     "text": [
      " 98%|███████████████████████████████████████████████████████████████████████████▍ | 49.0023094688185/50 [1:26:50<01:32, 92.46s/it]"
     ]
    },
    {
     "name": "stdout",
     "output_type": "stream",
     "text": [
      "Train Epoch: 60 [0/2793 (0%)]\tLoss: 1.030519\n"
     ]
    },
    {
     "name": "stderr",
     "output_type": "stream",
     "text": [
      " 98%|██████████████████████████████████████████████████████████████████████████▊ | 49.2332563510354/50 [1:27:16<01:28, 115.13s/it]"
     ]
    },
    {
     "name": "stdout",
     "output_type": "stream",
     "text": [
      "Train Epoch: 60 [800/2793 (4%)]\tLoss: 1.296107\n"
     ]
    },
    {
     "name": "stderr",
     "output_type": "stream",
     "text": [
      " 99%|███████████████████████████████████████████████████████████████████████████▏| 49.4642032332523/50 [1:27:41<01:03, 117.63s/it]"
     ]
    },
    {
     "name": "stdout",
     "output_type": "stream",
     "text": [
      "Train Epoch: 60 [1600/2793 (7%)]\tLoss: 1.184980\n"
     ]
    },
    {
     "name": "stderr",
     "output_type": "stream",
     "text": [
      " 99%|███████████████████████████████████████████████████████████████████████████▌| 49.6951501154692/50 [1:28:07<00:36, 121.18s/it]"
     ]
    },
    {
     "name": "stdout",
     "output_type": "stream",
     "text": [
      "Train Epoch: 60 [2400/2793 (11%)]\tLoss: 1.314538\n"
     ]
    },
    {
     "name": "stderr",
     "output_type": "stream",
     "text": [
      "100%|███████████████████████████████████████████████████████████████████████████▉| 49.9999999999955/50 [1:28:36<00:00, 106.33s/it]"
     ]
    },
    {
     "name": "stdout",
     "output_type": "stream",
     "text": [
      "\n",
      "Test Epoch: 60\tAccuracy: 274/673 (41%)\n",
      "\n"
     ]
    },
    {
     "name": "stderr",
     "output_type": "stream",
     "text": [
      "\n"
     ]
    }
   ],
   "source": [
    "log_interval = 100\n",
    "pbar_update = 1 / (len(train_loader) + len(test_loader))\n",
    "# model.to(device)\n",
    "with tqdm(total=n_epoch2) as pbar:\n",
    "    for epoch in range(1 + n_epoch, n_epoch + 1 + n_epoch2):\n",
    "        train(model, epoch, log_interval)\n",
    "        acc = test(model, epoch)\n",
    "        test_accuracy += [acc]\n",
    "        scheduler.step()"
   ]
  },
  {
   "cell_type": "code",
   "execution_count": 39,
   "id": "97685cf1-a989-4716-a8e6-ee51ccba5f3b",
   "metadata": {},
   "outputs": [
    {
     "data": {
      "text/plain": [
       "Text(0.5, 1.0, 'training loss')"
      ]
     },
     "execution_count": 39,
     "metadata": {},
     "output_type": "execute_result"
    },
    {
     "data": {
      "image/png": "[encoded data removed]",
      "text/plain": [
       "<Figure size 640x480 with 1 Axes>"
      ]
     },
     "metadata": {},
     "output_type": "display_data"
    }
   ],
   "source": [
    "plt.plot(train_losses)\n",
    "plt.title(\"training loss\")"
   ]
  },
  {
   "cell_type": "code",
   "execution_count": 40,
   "id": "df6e4197-adf3-47f1-b4ff-0d535ef9bca0",
   "metadata": {},
   "outputs": [
    {
     "data": {
      "text/plain": [
       "Text(0.5, 1.0, 'test accuracy')"
      ]
     },
     "execution_count": 40,
     "metadata": {},
     "output_type": "execute_result"
    },
    {
     "data": {
      "image/png": "[encoded data removed]",
      "text/plain": [
       "<Figure size 640x480 with 1 Axes>"
      ]
     },
     "metadata": {},
     "output_type": "display_data"
    }
   ],
   "source": [
    "plt.plot(test_accuracy)\n",
    "plt.title(\"test accuracy\")"
   ]
  },
  {
   "cell_type": "code",
   "execution_count": 42,
   "id": "f97c0b56-05ed-43df-a7d2-6776dd6fd68e",
   "metadata": {},
   "outputs": [],
   "source": [
    "f1score = torchmetrics.F1Score(\n",
    "    task='multiclass', num_classes=len(labels)\n",
    ").to(device)\n",
    "uap = torchmetrics.Precision(\n",
    "    task='multiclass', num_classes=len(labels), average='macro'\n",
    ").to(device)\n",
    "wap = torchmetrics.Precision(\n",
    "    task='multiclass', num_classes=len(labels), average='micro'\n",
    ").to(device)    \n",
    "uar = torchmetrics.Recall(\n",
    "    task='multiclass', num_classes=len(labels), average='macro'\n",
    ").to(device)\n",
    "war = torchmetrics.Recall(\n",
    "    task='multiclass', num_classes=len(labels), average='micro'\n",
    ").to(device)\n",
    "confusion_matrix = torchmetrics.ConfusionMatrix(\n",
    "    task='multiclass', num_classes=len(labels)\n",
    ").to(device)"
   ]
  },
  {
   "cell_type": "code",
   "execution_count": 43,
   "id": "1e0e7a73-92e1-4288-a04b-d453b0c609d2",
   "metadata": {},
   "outputs": [
    {
     "name": "stdout",
     "output_type": "stream",
     "text": [
      "Correct: 100/673 (0.1486)\n",
      "F1: 0.1488095223903656\n",
      "UAP: 0.23126746714115143\n",
      "WAP: 0.1488095223903656\n",
      "UAR: 0.2160966992378235\n",
      "WAR: 0.1488095223903656\n",
      "tensor([[11, 26, 43,  0, 96, 66],\n",
      "        [ 1,  3, 10,  0, 27, 33],\n",
      "        [ 0,  6,  8,  1, 73, 88],\n",
      "        [ 0,  4,  0,  0,  6, 24],\n",
      "        [ 0,  1,  1,  0, 22, 60],\n",
      "        [ 0,  0,  0,  0,  6, 56]], device='cuda:0')\n"
     ]
    }
   ],
   "source": [
    "model.eval()\n",
    "correct = 0\n",
    "for data, target in test_loader:\n",
    "    data = data.to(device)\n",
    "    target = target.to(device)\n",
    "    output = model(data).squeeze()\n",
    "    del data\n",
    "    gc.collect()\n",
    "    torch.cuda.empty_cache()\n",
    "    probs = F.softmax(output, dim=-1)\n",
    "    pred = probs.argmax(dim=-1)\n",
    "    correct += pred.eq(target).sum().item()\n",
    "    f1score(pred, target)\n",
    "    uap(pred, target)\n",
    "    wap(pred, target)\n",
    "    uar(pred, target)\n",
    "    war(pred, target)\n",
    "    confusion_matrix(pred, target)\n",
    "    del target\n",
    "    gc.collect()\n",
    "    torch.cuda.empty_cache()\n",
    "    pbar.update(pbar_update)\n",
    "print(f'Correct: {correct}/{len(test_loader.dataset)} ({correct/len(test_loader.dataset):.4f})')\n",
    "F1 = f1score.compute()\n",
    "UAP = uap.compute()\n",
    "WAP = wap.compute()\n",
    "UAR = uar.compute()\n",
    "WAR = war.compute()\n",
    "cm = confusion_matrix.compute()\n",
    "print(f'F1: {F1}')\n",
    "print(f'UAP: {UAP}')\n",
    "print(f'WAP: {WAP}')\n",
    "print(f'UAR: {UAR}')\n",
    "print(f'WAR: {WAR}')\n",
    "print(cm)"
   ]
  },
  {
   "cell_type": "code",
   "execution_count": null,
   "id": "4b2162ed-ffcf-45b6-a4e0-e1e7860dfdce",
   "metadata": {},
   "outputs": [],
   "source": []
  },
  {
   "cell_type": "code",
   "execution_count": null,
   "id": "97f88214-706c-44e5-a8b5-b69e86fcf032",
   "metadata": {},
   "outputs": [],
   "source": []
  },
  {
   "cell_type": "code",
   "execution_count": null,
   "id": "3fd18a1e-ca9e-4797-b9b5-59bda74590dd",
   "metadata": {},
   "outputs": [],
   "source": []
  },
  {
   "cell_type": "code",
   "execution_count": null,
   "id": "48e07ce3-7a6b-4d3d-8a11-fc23b70bd201",
   "metadata": {},
   "outputs": [],
   "source": []
  },
  {
   "cell_type": "code",
   "execution_count": null,
   "id": "91b06601-47e9-40e1-aeba-1793423c4eb7",
   "metadata": {},
   "outputs": [],
   "source": []
  },
  {
   "cell_type": "code",
   "execution_count": null,
   "id": "91619567-32a8-4606-bc45-9e3b8f84f8bd",
   "metadata": {},
   "outputs": [],
   "source": []
  },
  {
   "cell_type": "code",
   "execution_count": null,
   "id": "9f11f4f8-5935-4eba-b98c-feb01db25da7",
   "metadata": {},
   "outputs": [],
   "source": []
  }
 ],
 "metadata": {
  "kernelspec": {
   "display_name": "Python 3 (ipykernel)",
   "language": "python",
   "name": "python3"
  },
  "language_info": {
   "codemirror_mode": {
    "name": "ipython",
    "version": 3
   },
   "file_extension": ".py",
   "mimetype": "text/x-python",
   "name": "python",
   "nbconvert_exporter": "python",
   "pygments_lexer": "ipython3",
   "version": "3.9.18"
  }
 },
 "nbformat": 4,
 "nbformat_minor": 5
}
