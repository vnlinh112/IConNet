{
 "cells": [
  {
   "cell_type": "code",
   "execution_count": 1,
   "id": "cbcbfbf2-42b9-4474-989b-2ee250dce7ca",
   "metadata": {},
   "outputs": [
    {
     "name": "stdout",
     "output_type": "stream",
     "text": [
      "Wed Feb 21 14:11:45 2024       \n",
      "+---------------------------------------------------------------------------------------+\n",
      "| NVIDIA-SMI 545.23.08              Driver Version: 545.23.08    CUDA Version: 12.3     |\n",
      "|-----------------------------------------+----------------------+----------------------+\n",
      "| GPU  Name                 Persistence-M | Bus-Id        Disp.A | Volatile Uncorr. ECC |\n",
      "| Fan  Temp   Perf          Pwr:Usage/Cap |         Memory-Usage | GPU-Util  Compute M. |\n",
      "|                                         |                      |               MIG M. |\n",
      "|=========================================+======================+======================|\n",
      "|   0  NVIDIA GeForce RTX 2080        On  | 00000000:01:00.0  On |                  N/A |\n",
      "| 32%   31C    P8              20W / 215W |   1787MiB /  8192MiB |      2%      Default |\n",
      "|                                         |                      |                  N/A |\n",
      "+-----------------------------------------+----------------------+----------------------+\n",
      "                                                                                         \n",
      "+---------------------------------------------------------------------------------------+\n",
      "| Processes:                                                                            |\n",
      "|  GPU   GI   CI        PID   Type   Process name                            GPU Memory |\n",
      "|        ID   ID                                                             Usage      |\n",
      "|=======================================================================================|\n",
      "|    0   N/A  N/A      1887      G   /usr/lib/xorg/Xorg                          191MiB |\n",
      "|    0   N/A  N/A      2033      G   /usr/bin/gnome-shell                         31MiB |\n",
      "|    0   N/A  N/A      6241      G   ...seed-version=20240215-080116.052000       69MiB |\n",
      "|    0   N/A  N/A      6688      G   ...sion,SpareRendererForSitePerProcess       41MiB |\n",
      "|    0   N/A  N/A     94151      C   /opt/anaconda3/envs/audio/bin/python        340MiB |\n",
      "|    0   N/A  N/A   2546595      C   /opt/anaconda3/envs/audio/bin/python        268MiB |\n",
      "|    0   N/A  N/A   3766717      C   /opt/anaconda3/envs/audio/bin/python        310MiB |\n",
      "|    0   N/A  N/A   3883531      C   /opt/anaconda3/envs/audio/bin/python        528MiB |\n",
      "+---------------------------------------------------------------------------------------+\n"
     ]
    }
   ],
   "source": [
    "!nvidia-smi"
   ]
  },
  {
   "cell_type": "code",
   "execution_count": 2,
   "id": "71b56b59-448f-45c5-8e07-7f40c54946b5",
   "metadata": {},
   "outputs": [],
   "source": [
    "%load_ext autoreload\n",
    "%autoreload 2"
   ]
  },
  {
   "cell_type": "code",
   "execution_count": 3,
   "id": "6893f392-7613-460f-89dd-5f26ae587ee0",
   "metadata": {},
   "outputs": [
    {
     "name": "stdout",
     "output_type": "stream",
     "text": [
      "cuda\n"
     ]
    },
    {
     "data": {
      "text/plain": [
       "'/home/linh/projects/IConNet'"
      ]
     },
     "execution_count": 3,
     "metadata": {},
     "output_type": "execute_result"
    }
   ],
   "source": [
    "import numpy as np\n",
    "from tqdm import tqdm\n",
    "import matplotlib.pyplot as plt\n",
    "\n",
    "# Scikit learn\n",
    "from sklearn.model_selection import train_test_split\n",
    "from sklearn.preprocessing import LabelEncoder\n",
    "\n",
    "import warnings\n",
    "warnings.filterwarnings('ignore', category=FutureWarning)\n",
    "\n",
    "import gc\n",
    "import torch\n",
    "import torch.nn as nn\n",
    "import torch.nn.functional as F\n",
    "import torch.optim as optim\n",
    "import sys\n",
    "import traceback\n",
    "device = torch.device(\"cuda\" if torch.cuda.is_available() else \"cpu\")\n",
    "print(device)\n",
    "\n",
    "import os\n",
    "os.environ[\"PYTORCH_CUDA_ALLOC_CONF\"] = \"max_split_size_mb:256\"\n",
    "os.chdir('..')\n",
    "os.getcwd()"
   ]
  },
  {
   "cell_type": "code",
   "execution_count": 4,
   "id": "d7c7cb9b-9de3-4550-bc0d-f3af198d54a5",
   "metadata": {},
   "outputs": [
    {
     "name": "stdout",
     "output_type": "stream",
     "text": [
      "['ang', 'exc', 'fru', 'hap', 'neu', 'sad']\n"
     ]
    }
   ],
   "source": [
    "from torchaudio.datasets import IEMOCAP\n",
    "data_dir = '../data/IEMOCAP/'\n",
    "data = IEMOCAP(root=data_dir, \n",
    "               # sessions=(1,2,), # use all\n",
    "               utterance_type='scripted'\n",
    "              )\n",
    "all_labels = sorted(list(set(datapoint[3] for datapoint in data)))\n",
    "print(all_labels)"
   ]
  },
  {
   "cell_type": "code",
   "execution_count": 5,
   "id": "9afe8cca-f61b-4266-8999-2c2c5c3c2bcc",
   "metadata": {},
   "outputs": [],
   "source": [
    "labels = ['ang', 'hap', 'neu', 'sad']\n",
    "\n",
    "\n",
    "def label_to_index(word):\n",
    "    return torch.tensor(labels.index(word), dtype=torch.int64)\n",
    "def index_to_label(index):\n",
    "    return labels[index]\n",
    "    \n",
    "data_x = []\n",
    "data_y = []\n",
    "for d in data:\n",
    "    if d[3] in labels:\n",
    "        data_x.append(d)\n",
    "        data_y.append(label_to_index(d[3]))"
   ]
  },
  {
   "cell_type": "code",
   "execution_count": 6,
   "id": "d9501a89-c897-46cf-84d1-c56923de2f5c",
   "metadata": {},
   "outputs": [
    {
     "name": "stdout",
     "output_type": "stream",
     "text": [
      "Train: 1768\n",
      "Test: 442\n"
     ]
    }
   ],
   "source": [
    "train_set, test_set = train_test_split(\n",
    "    data_x, test_size=0.2, random_state=42, stratify=data_y)\n",
    "print(\"Train: %i\" % len(train_set))\n",
    "print(\"Test: %i\" % len(test_set))"
   ]
  },
  {
   "cell_type": "code",
   "execution_count": 7,
   "id": "e860baa4-bb4d-4eaf-ace1-ea92f9e3e694",
   "metadata": {},
   "outputs": [],
   "source": [
    "def pad_sequence(batch):\n",
    "    # Make all tensor in a batch the same length by padding with zeros\n",
    "    batch = [item.t() for item in batch]\n",
    "    batch = torch.nn.utils.rnn.pad_sequence(\n",
    "        batch, batch_first=True, padding_value=0.)\n",
    "    return batch.permute(0, 2, 1)\n",
    "\n",
    "\n",
    "def collate_fn(batch, max_duration_in_second=2):\n",
    "    tensors, targets = [], []\n",
    "\n",
    "    # Gather in lists, and encode labels as indices\n",
    "    for waveform, sample_rate, _, label, *_ in batch:\n",
    "        length = len(waveform)\n",
    "        max_length = sample_rate * max_duration_in_second\n",
    "        offset = max(0, (length - max_length) // 2)\n",
    "        tensors += [waveform[offset: length-offset]]\n",
    "        targets += [label_to_index(label)]\n",
    "\n",
    "    # Group the list of tensors into a batched tensor\n",
    "    tensors = pad_sequence(tensors)\n",
    "    targets = torch.stack(targets)\n",
    "\n",
    "    return tensors, targets\n",
    "\n",
    "batch_size = 4\n",
    "\n",
    "if device == \"cuda\":\n",
    "    num_workers = 1\n",
    "    pin_memory = True\n",
    "else:\n",
    "    num_workers = 0\n",
    "    pin_memory = False\n",
    "\n",
    "train_loader = torch.utils.data.DataLoader(\n",
    "    train_set,\n",
    "    batch_size=batch_size,\n",
    "    shuffle=True,\n",
    "    collate_fn=collate_fn,\n",
    "    num_workers=num_workers,\n",
    "    pin_memory=pin_memory, \n",
    "    drop_last=True\n",
    ")\n",
    "test_loader = torch.utils.data.DataLoader(\n",
    "    test_set,\n",
    "    batch_size=batch_size,\n",
    "    shuffle=False,\n",
    "    drop_last=True,\n",
    "    collate_fn=collate_fn,\n",
    "    num_workers=num_workers,\n",
    "    pin_memory=pin_memory\n",
    ")"
   ]
  },
  {
   "cell_type": "code",
   "execution_count": 8,
   "id": "3d69890c-e48d-448a-9434-ceab93e73645",
   "metadata": {},
   "outputs": [],
   "source": [
    "from IConNet.nn.frontend import FeBlocks\n",
    "from IConNet.nn.classifier import Classifier\n",
    "from typing import Literal, Optional, Union\n",
    "from einops import rearrange, reduce\n",
    "import torch.nn as nn\n",
    "from IConNet.nn.activation import NLReLU\n",
    "from IConNet.utils import config as cfg\n",
    "\n",
    "from mamba_ssm import Mamba\n",
    "\n",
    "class FeedForward(nn.Module):\n",
    "    def __init__(self, d_model, dropout=0.15) -> None:\n",
    "        super().__init__()\n",
    "        self.ffn = nn.Sequential(\n",
    "            nn.Linear(d_model, d_model),\n",
    "            nn.ReLU(),\n",
    "            nn.Linear(d_model, d_model),\n",
    "            nn.Dropout(dropout))\n",
    "    \n",
    "    def forward(self, x):\n",
    "        return self.ffn(x)\n",
    "\n",
    "class MambaBlock(nn.Module):\n",
    "    def __init__(self, d_model, d_conv=4, d_state=2, expand=2) -> None:\n",
    "        super().__init__()\n",
    "        self.sa_head = Mamba( # num_parameters = 3 * expand * d_model^2\n",
    "            d_model=d_model, \n",
    "            d_state=d_state, \n",
    "            d_conv=d_conv, \n",
    "            expand=expand)\n",
    "        self.ffn = FeedForward(d_model)\n",
    "        self.ln1 = nn.LayerNorm(d_model)\n",
    "        self.ln2 = nn.LayerNorm(d_model)\n",
    "\n",
    "    def forward(self, x):\n",
    "        x = x + self.sa_head(self.ln1(x))\n",
    "        x = x + self.ffn(self.ln2(x))\n",
    "        return x\n",
    "\n",
    "class M17(nn.Module):\n",
    "    \"\"\"\n",
    "    A classification model using FIRConv + LSTM with hidden state\n",
    "    \"\"\"\n",
    "\n",
    "    def __init__(\n",
    "            self, \n",
    "            config, \n",
    "            n_input=None, \n",
    "            n_output=None):\n",
    "        \n",
    "        super().__init__()\n",
    "        self.config = config\n",
    "        if n_input is None:\n",
    "            n_input = config.n_input\n",
    "        if n_output is None:\n",
    "            n_output = config.n_output\n",
    "        self.n_input = n_input \n",
    "        self.n_output = n_output\n",
    "        self.fe_blocks = FeBlocks(\n",
    "            n_input_channel = n_input, \n",
    "            n_block = config.fe.n_block,\n",
    "            n_channel = config.fe.n_channel, \n",
    "            kernel_size = config.fe.kernel_size, \n",
    "            stride = config.fe.stride, \n",
    "            window_k = config.fe.window_k,\n",
    "            residual_connection_type = config.fe.residual_connection_type,\n",
    "            filter_type = config.fe.filter_type,\n",
    "            conv_mode=config.fe.conv_mode,\n",
    "            norm_type=config.fe.norm_type,\n",
    "            pooling = None) # if pooling here, n_feature=1\n",
    "        self.fe_n_feature = self.fe_blocks.n_output_channel\n",
    "        self.pooling = cfg.get_optional_config_value(self.config.seq.pooling)\n",
    "\n",
    "        self.seq_blocks = nn.Sequential(*[MambaBlock( # num_parameters = 3 * expand * d_model^2\n",
    "        # This module uses roughly 3 * expand * d_model^2 parameters\n",
    "            d_model=self.fe_n_feature, # Model dimension d_model\n",
    "            d_state=config.seq.d_state,  # SSM state expansion factor\n",
    "            d_conv=config.seq.d_conv,    # Local convolution width\n",
    "            expand=config.seq.expand,    # Block expansion factor\n",
    "        ) for _ in range(config.seq.n_block)]) # input: B N C -> output: B N C\n",
    "        self.n_feature = self.fe_n_feature\n",
    "        self.cls_head = Classifier(\n",
    "            n_input = self.n_feature,\n",
    "            n_output = n_output,\n",
    "            n_block = config.cls.n_block, \n",
    "            n_hidden_dim = config.cls.n_hidden_dim\n",
    "        )\n",
    "\n",
    "    def forward(self, x):\n",
    "        x = rearrange(self.fe_blocks(x), 'b c n -> b n c')\n",
    "        x = reduce(self.seq_blocks(x),\n",
    "                     'b n c -> b c', self.pooling)\n",
    "        x = self.cls_head(x)\n",
    "        return x \n"
   ]
  },
  {
   "cell_type": "code",
   "execution_count": 9,
   "id": "a4f0d8e7-2be7-482e-8382-befcc18cd046",
   "metadata": {},
   "outputs": [
    {
     "name": "stdout",
     "output_type": "stream",
     "text": [
      "name: M12_debug\n",
      "description: FirConv sequential for iemocap\n",
      "fe:\n",
      "  n_block: 2\n",
      "  n_channel:\n",
      "  - 64\n",
      "  - 32\n",
      "  kernel_size:\n",
      "  - 63\n",
      "  - 31\n",
      "  stride:\n",
      "  - 4\n",
      "  - 4\n",
      "  window_k:\n",
      "  - 9\n",
      "  - 9\n",
      "  residual_connection_type: stack\n",
      "  pooling: false\n",
      "  filter_type: firwin\n",
      "  conv_mode: fftconv\n",
      "  norm_type: LocalResponseNorm\n",
      "seq:\n",
      "  seq_type: mamba\n",
      "  d_state: 2\n",
      "  d_conv: 4\n",
      "  expand: 2\n",
      "  n_block: 1\n",
      "  n_channel: 97\n",
      "  pooling: mean\n",
      "cls:\n",
      "  n_block: 2\n",
      "  n_hidden_dim:\n",
      "  - 128\n",
      "  - 128\n",
      "  norm_type: LayerNorm\n",
      "\n",
      "M17(\n",
      "  (fe_blocks): FeBlocks(\n",
      "    (blocks): ModuleList(\n",
      "      (0-1): 2 x FrontEndBlock(\n",
      "        (block): ModuleDict(\n",
      "          (layer): FirConvLayer(\n",
      "            (conv_layer): ResidualConv1d(\n",
      "              (pad_layer): PadForConv()\n",
      "              (stride_layer): DownsampleLayer(\n",
      "                (pad_right): PadForConv()\n",
      "              )\n",
      "              (norm_layer): CustomNormLayer(\n",
      "                (layer): LocalResponseNorm(2, alpha=0.0001, beta=0.75, k=1.0)\n",
      "              )\n",
      "              (act): NLReLU()\n",
      "            )\n",
      "          )\n",
      "          (downsample): ResidualConv1d(\n",
      "            (pad_layer): PadForConv()\n",
      "            (stride_layer): DownsampleLayer(\n",
      "              (pad_right): PadForConv()\n",
      "            )\n",
      "            (norm_layer): CustomNormLayer(\n",
      "              (layer): LocalResponseNorm(2, alpha=0.0001, beta=0.75, k=1.0)\n",
      "            )\n",
      "            (act): NLReLU()\n",
      "          )\n",
      "        )\n",
      "      )\n",
      "    )\n",
      "  )\n",
      "  (seq_blocks): Sequential(\n",
      "    (0): MambaBlock(\n",
      "      (sa_head): Mamba(\n",
      "        (in_proj): Linear(in_features=97, out_features=388, bias=False)\n",
      "        (conv1d): Conv1d(194, 194, kernel_size=(4,), stride=(1,), padding=(3,), groups=194)\n",
      "        (act): SiLU()\n",
      "        (x_proj): Linear(in_features=194, out_features=11, bias=False)\n",
      "        (dt_proj): Linear(in_features=7, out_features=194, bias=True)\n",
      "        (out_proj): Linear(in_features=194, out_features=97, bias=False)\n",
      "      )\n",
      "      (ffn): FeedForward(\n",
      "        (ffn): Sequential(\n",
      "          (0): Linear(in_features=97, out_features=97, bias=True)\n",
      "          (1): ReLU()\n",
      "          (2): Linear(in_features=97, out_features=97, bias=True)\n",
      "          (3): Dropout(p=0.15, inplace=False)\n",
      "        )\n",
      "      )\n",
      "      (ln1): LayerNorm((97,), eps=1e-05, elementwise_affine=True)\n",
      "      (ln2): LayerNorm((97,), eps=1e-05, elementwise_affine=True)\n",
      "    )\n",
      "  )\n",
      "  (cls_head): Classifier(\n",
      "    (blocks): ModuleList(\n",
      "      (0): Sequential(\n",
      "        (norm): LayerNorm((97,), eps=1e-05, elementwise_affine=True)\n",
      "        (layer): Linear(in_features=97, out_features=128, bias=True)\n",
      "      )\n",
      "      (1): Sequential(\n",
      "        (norm): LayerNorm((128,), eps=1e-05, elementwise_affine=True)\n",
      "        (layer): Linear(in_features=128, out_features=128, bias=True)\n",
      "      )\n",
      "    )\n",
      "    (act): LeakyReLU(negative_slope=0.01)\n",
      "    (output_layer): Linear(in_features=128, out_features=4, bias=True)\n",
      "  )\n",
      ")\n"
     ]
    }
   ],
   "source": [
    "from omegaconf import OmegaConf as ocf\n",
    "\n",
    "model_config_path = 'config/model/mamba.yaml'\n",
    "model_config = ocf.load(model_config_path)\n",
    "print(ocf.to_yaml(model_config))\n",
    "model = M17(config=model_config,\n",
    "           n_input=1, n_output=len(labels))\n",
    "print(model)"
   ]
  },
  {
   "cell_type": "code",
   "execution_count": 10,
   "id": "641ef909-e8fe-4afd-88cc-967fe0ac1825",
   "metadata": {},
   "outputs": [],
   "source": [
    "n_epoch = 10\n",
    "train_losses = []\n",
    "test_accuracy = []\n",
    "optimizer = optim.RAdam(model.parameters(), lr=0.0001)\n",
    "scheduler = optim.lr_scheduler.OneCycleLR(\n",
    "    optimizer, max_lr=0.1,\n",
    "    steps_per_epoch=len(train_loader), epochs=n_epoch)"
   ]
  },
  {
   "cell_type": "code",
   "execution_count": 11,
   "id": "7e67aae9-201c-4813-acf2-153e9f360a63",
   "metadata": {},
   "outputs": [],
   "source": [
    "train_loader_length = len(train_loader.dataset)\n",
    "test_loader_length = len(test_loader.dataset)\n",
    "\n",
    "def train(model, epoch, log_interval, \n",
    "          train_losses=train_losses):\n",
    "    model.train()\n",
    "    for batch_idx, (data, target) in enumerate(train_loader):\n",
    "        try:\n",
    "            _mem_before = torch.cuda.memory_allocated()\n",
    "            data = data.to(device)\n",
    "            target = target.to(device)\n",
    "            output = model(data)\n",
    "            del data\n",
    "            gc.collect()\n",
    "            torch.cuda.empty_cache()\n",
    "            loss = F.cross_entropy(output.squeeze(), target)\n",
    "            _mem_during = torch.cuda.memory_allocated()\n",
    "            del target\n",
    "            gc.collect()\n",
    "            torch.cuda.empty_cache()\n",
    "            optimizer.zero_grad()\n",
    "            loss.backward()\n",
    "            nn.utils.clip_grad.clip_grad_norm_(\n",
    "                model.parameters(), 1.0)\n",
    "            optimizer.step()\n",
    "            _mem_after = torch.cuda.memory_allocated()\n",
    "            # print training stats\n",
    "            if batch_idx % log_interval == 0:\n",
    "                print(f\"Train Epoch: {epoch} [{batch_idx * batch_size}/{train_loader_length} ({100. * batch_idx / len(train_loader):.0f}%)]\\tLoss: {loss.item():.6f}\")\n",
    "                print(f'Mem before-during-after: {_mem_before} {_mem_during} {_mem_after}')\n",
    "            # update progress bar\n",
    "            pbar.update(pbar_update)\n",
    "            # record loss\n",
    "            train_losses.append(loss.item())\n",
    "        except Exception as e:\n",
    "            print(f'data: {data.shape} => output: {output.shape} | target: {target.shape}')\n",
    "            traceback.print_exc()\n",
    "\n",
    "@torch.no_grad\n",
    "def test(model, epoch):\n",
    "    model.eval()\n",
    "    correct = 0\n",
    "    total = 0\n",
    "    for data, target in test_loader:\n",
    "        total += len(target)\n",
    "        data = data.to(device)\n",
    "        target = target.to(device)\n",
    "        output = model(data).squeeze()\n",
    "        del data\n",
    "        gc.collect()\n",
    "        torch.cuda.empty_cache()\n",
    "        probs = F.softmax(output, dim=-1)\n",
    "        pred = probs.argmax(dim=-1)\n",
    "        correct += pred.eq(target).sum().item()\n",
    "        del target\n",
    "        gc.collect()\n",
    "        torch.cuda.empty_cache()\n",
    "        pbar.update(pbar_update)\n",
    "    acc = correct / test_loader_length\n",
    "    print(f\"\\nTest Epoch: {epoch}\\tAccuracy: {correct}/{total} ({100. * acc:.0f}%)\\n\")\n",
    "    return acc"
   ]
  },
  {
   "cell_type": "code",
   "execution_count": 12,
   "id": "adf9d372-99aa-4ec0-87a7-ba3fedaf6483",
   "metadata": {
    "scrolled": true
   },
   "outputs": [
    {
     "name": "stderr",
     "output_type": "stream",
     "text": [
      "  0%|                                                                                                                                                                            | 0.0036231884057971015/10 [00:00<27:58, 167.87s/it]"
     ]
    },
    {
     "name": "stdout",
     "output_type": "stream",
     "text": [
      "Train Epoch: 1 [0/1768 (0%)]\tLoss: 1.204373\n",
      "Mem before-during-after: 545792 387591680 20878848\n"
     ]
    },
    {
     "name": "stderr",
     "output_type": "stream",
     "text": [
      "  1%|█▎                                                                                                                                                                            | 0.07608695652173911/10 [00:08<17:33, 106.14s/it]"
     ]
    },
    {
     "name": "stdout",
     "output_type": "stream",
     "text": [
      "Train Epoch: 1 [160/1768 (9%)]\tLoss: 1.246984\n",
      "Mem before-during-after: 20878848 364874240 20878848\n"
     ]
    },
    {
     "name": "stderr",
     "output_type": "stream",
     "text": [
      "  1%|██▌                                                                                                                                                                           | 0.14855072463768107/10 [00:16<18:26, 112.34s/it]"
     ]
    },
    {
     "name": "stdout",
     "output_type": "stream",
     "text": [
      "Train Epoch: 1 [320/1768 (18%)]\tLoss: 1.031889\n",
      "Mem before-during-after: 20878848 1007180288 20878848\n"
     ]
    },
    {
     "name": "stderr",
     "output_type": "stream",
     "text": [
      "  2%|███▊                                                                                                                                                                          | 0.22101449275362342/10 [00:24<17:14, 105.74s/it]"
     ]
    },
    {
     "name": "stdout",
     "output_type": "stream",
     "text": [
      "Train Epoch: 1 [480/1768 (27%)]\tLoss: 1.499650\n",
      "Mem before-during-after: 20878848 388249600 20878848\n"
     ]
    },
    {
     "name": "stderr",
     "output_type": "stream",
     "text": [
      "  3%|█████                                                                                                                                                                         | 0.29347826086956574/10 [00:32<18:22, 113.54s/it]"
     ]
    },
    {
     "name": "stdout",
     "output_type": "stream",
     "text": [
      "Train Epoch: 1 [640/1768 (36%)]\tLoss: 1.248451\n",
      "Mem before-during-after: 20878848 1354423808 20878848\n"
     ]
    },
    {
     "name": "stderr",
     "output_type": "stream",
     "text": [
      "  4%|██████▍                                                                                                                                                                        | 0.3659420289855081/10 [00:40<17:23, 108.36s/it]"
     ]
    },
    {
     "name": "stdout",
     "output_type": "stream",
     "text": [
      "Train Epoch: 1 [800/1768 (45%)]\tLoss: 1.328109\n",
      "Mem before-during-after: 20878848 1180631040 20878848\n"
     ]
    },
    {
     "name": "stderr",
     "output_type": "stream",
     "text": [
      "  4%|███████▋                                                                                                                                                                       | 0.4365942028985519/10 [00:48<17:18, 108.57s/it]"
     ]
    },
    {
     "name": "stdout",
     "output_type": "stream",
     "text": [
      "Train Epoch: 1 [960/1768 (54%)]\tLoss: 1.277846\n",
      "Mem before-during-after: 20878848 962729984 20878848\n"
     ]
    },
    {
     "name": "stderr",
     "output_type": "stream",
     "text": [
      "  5%|████████▉                                                                                                                                                                      | 0.5090579710144942/10 [00:56<18:39, 117.96s/it]"
     ]
    },
    {
     "name": "stdout",
     "output_type": "stream",
     "text": [
      "Train Epoch: 1 [1120/1768 (63%)]\tLoss: 1.148997\n",
      "Mem before-during-after: 20878848 1018207232 20878848\n"
     ]
    },
    {
     "name": "stderr",
     "output_type": "stream",
     "text": [
      "  6%|██████████▏                                                                                                                                                                    | 0.5833333333333351/10 [01:04<16:22, 104.38s/it]"
     ]
    },
    {
     "name": "stdout",
     "output_type": "stream",
     "text": [
      "Train Epoch: 1 [1280/1768 (72%)]\tLoss: 1.425672\n",
      "Mem before-during-after: 20878848 453966848 20878848\n"
     ]
    },
    {
     "name": "stderr",
     "output_type": "stream",
     "text": [
      "  7%|███████████▍                                                                                                                                                                   | 0.6557971014492775/10 [01:13<17:39, 113.34s/it]"
     ]
    },
    {
     "name": "stdout",
     "output_type": "stream",
     "text": [
      "Train Epoch: 1 [1440/1768 (81%)]\tLoss: 1.374858\n",
      "Mem before-during-after: 20878848 863204864 20878848\n"
     ]
    },
    {
     "name": "stderr",
     "output_type": "stream",
     "text": [
      "  7%|████████████▋                                                                                                                                                                  | 0.7282608695652198/10 [01:21<16:31, 106.97s/it]"
     ]
    },
    {
     "name": "stdout",
     "output_type": "stream",
     "text": [
      "Train Epoch: 1 [1600/1768 (90%)]\tLoss: 2.283932\n",
      "Mem before-during-after: 20878848 634570752 20878848\n"
     ]
    },
    {
     "name": "stderr",
     "output_type": "stream",
     "text": [
      "  8%|██████████████                                                                                                                                                                 | 0.8007246376811622/10 [01:28<17:07, 111.69s/it]"
     ]
    },
    {
     "name": "stdout",
     "output_type": "stream",
     "text": [
      "Train Epoch: 1 [1760/1768 (100%)]\tLoss: 0.613894\n",
      "Mem before-during-after: 20878848 1644400640 20878848\n"
     ]
    },
    {
     "name": "stderr",
     "output_type": "stream",
     "text": [
      " 10%|█████████████████▋                                                                                                                                                              | 1.001811594202902/10 [01:48<15:03, 100.46s/it]"
     ]
    },
    {
     "name": "stdout",
     "output_type": "stream",
     "text": [
      "\n",
      "Test Epoch: 1\tAccuracy: 204/440 (46%)\n",
      "\n",
      "Train Epoch: 2 [0/1768 (0%)]\tLoss: 1.128513\n",
      "Mem before-during-after: 20874752 510067712 20878848\n"
     ]
    },
    {
     "name": "stderr",
     "output_type": "stream",
     "text": [
      " 11%|███████████████████                                                                                                                                                              | 1.07427536231884/10 [01:55<15:33, 104.54s/it]"
     ]
    },
    {
     "name": "stdout",
     "output_type": "stream",
     "text": [
      "Train Epoch: 2 [160/1768 (9%)]\tLoss: 0.939379\n",
      "Mem before-during-after: 20878848 363255296 20878848\n"
     ]
    },
    {
     "name": "stderr",
     "output_type": "stream",
     "text": [
      " 11%|████████████████████                                                                                                                                                           | 1.1485507246376763/10 [02:03<16:23, 111.15s/it]"
     ]
    },
    {
     "name": "stdout",
     "output_type": "stream",
     "text": [
      "Train Epoch: 2 [320/1768 (18%)]\tLoss: 1.006139\n",
      "Mem before-during-after: 20878848 1945400832 20878848\n"
     ]
    },
    {
     "name": "stderr",
     "output_type": "stream",
     "text": [
      " 12%|█████████████████████▎                                                                                                                                                         | 1.2210144927536142/10 [02:11<15:59, 109.31s/it]"
     ]
    },
    {
     "name": "stdout",
     "output_type": "stream",
     "text": [
      "Train Epoch: 2 [480/1768 (27%)]\tLoss: 2.000973\n",
      "Mem before-during-after: 20878848 711089152 20878848\n"
     ]
    },
    {
     "name": "stderr",
     "output_type": "stream",
     "text": [
      " 13%|██████████████████████▊                                                                                                                                                         | 1.293478260869552/10 [02:18<15:08, 104.32s/it]"
     ]
    },
    {
     "name": "stdout",
     "output_type": "stream",
     "text": [
      "Train Epoch: 2 [640/1768 (36%)]\tLoss: 1.695997\n",
      "Mem before-during-after: 20878848 1433614336 20878848\n"
     ]
    },
    {
     "name": "stderr",
     "output_type": "stream",
     "text": [
      " 14%|████████████████████████▏                                                                                                                                                        | 1.36594202898549/10 [02:26<15:45, 109.46s/it]"
     ]
    },
    {
     "name": "stdout",
     "output_type": "stream",
     "text": [
      "Train Epoch: 2 [800/1768 (45%)]\tLoss: 1.293524\n",
      "Mem before-during-after: 20878848 1257120256 20878848\n"
     ]
    },
    {
     "name": "stderr",
     "output_type": "stream",
     "text": [
      " 14%|█████████████████████████▎                                                                                                                                                      | 1.438405797101428/10 [02:34<14:35, 102.20s/it]"
     ]
    },
    {
     "name": "stdout",
     "output_type": "stream",
     "text": [
      "Train Epoch: 2 [960/1768 (54%)]\tLoss: 1.207888\n",
      "Mem before-during-after: 20878848 645945344 20878848\n"
     ]
    },
    {
     "name": "stderr",
     "output_type": "stream",
     "text": [
      " 15%|██████████████████████████▍                                                                                                                                                    | 1.5108695652173658/10 [02:41<14:44, 104.18s/it]"
     ]
    },
    {
     "name": "stdout",
     "output_type": "stream",
     "text": [
      "Train Epoch: 2 [1120/1768 (63%)]\tLoss: 1.509005\n",
      "Mem before-during-after: 20878848 842227712 20878848\n"
     ]
    },
    {
     "name": "stderr",
     "output_type": "stream",
     "text": [
      " 16%|███████████████████████████▋                                                                                                                                                   | 1.5833333333333037/10 [02:49<14:40, 104.65s/it]"
     ]
    },
    {
     "name": "stdout",
     "output_type": "stream",
     "text": [
      "Train Epoch: 2 [1280/1768 (72%)]\tLoss: 0.976393\n",
      "Mem before-during-after: 20878848 483380224 20878848\n"
     ]
    },
    {
     "name": "stderr",
     "output_type": "stream",
     "text": [
      " 17%|████████████████████████████▉                                                                                                                                                  | 1.6539855072463432/10 [02:57<15:43, 113.05s/it]"
     ]
    },
    {
     "name": "stdout",
     "output_type": "stream",
     "text": [
      "Train Epoch: 2 [1440/1768 (81%)]\tLoss: 1.176072\n",
      "Mem before-during-after: 20878848 1566299648 20878848\n"
     ]
    },
    {
     "name": "stderr",
     "output_type": "stream",
     "text": [
      " 17%|██████████████████████████████▏                                                                                                                                                | 1.7282608695651795/10 [03:05<14:08, 102.61s/it]"
     ]
    },
    {
     "name": "stdout",
     "output_type": "stream",
     "text": [
      "Train Epoch: 2 [1600/1768 (90%)]\tLoss: 1.210330\n",
      "Mem before-during-after: 20878848 686281216 20878848\n"
     ]
    },
    {
     "name": "stderr",
     "output_type": "stream",
     "text": [
      " 18%|███████████████████████████████▋                                                                                                                                                | 1.798913043478219/10 [03:12<14:55, 109.22s/it]"
     ]
    },
    {
     "name": "stdout",
     "output_type": "stream",
     "text": [
      "Train Epoch: 2 [1760/1768 (100%)]\tLoss: 1.372488\n",
      "Mem before-during-after: 20878848 1878578176 20878848\n"
     ]
    },
    {
     "name": "stderr",
     "output_type": "stream",
     "text": [
      " 20%|███████████████████████████████████▍                                                                                                                                             | 2.001811594202845/10 [03:30<12:18, 92.28s/it]"
     ]
    },
    {
     "name": "stdout",
     "output_type": "stream",
     "text": [
      "\n",
      "Test Epoch: 2\tAccuracy: 208/440 (47%)\n",
      "\n",
      "Train Epoch: 3 [0/1768 (0%)]\tLoss: 1.091999\n",
      "Mem before-during-after: 20874752 591648768 20878848\n"
     ]
    },
    {
     "name": "stderr",
     "output_type": "stream",
     "text": [
      " 21%|████████████████████████████████████▌                                                                                                                                           | 2.0760869565216815/10 [03:38<13:05, 99.17s/it]"
     ]
    },
    {
     "name": "stdout",
     "output_type": "stream",
     "text": [
      "Train Epoch: 3 [160/1768 (9%)]\tLoss: 1.389285\n",
      "Mem before-during-after: 20878848 472067072 20878848\n"
     ]
    },
    {
     "name": "stderr",
     "output_type": "stream",
     "text": [
      " 21%|█████████████████████████████████████▊                                                                                                                                          | 2.1485507246376194/10 [03:45<13:03, 99.81s/it]"
     ]
    },
    {
     "name": "stdout",
     "output_type": "stream",
     "text": [
      "Train Epoch: 3 [320/1768 (18%)]\tLoss: 0.606779\n",
      "Mem before-during-after: 20878848 662126592 20878848\n"
     ]
    },
    {
     "name": "stderr",
     "output_type": "stream",
     "text": [
      " 22%|███████████████████████████████████████                                                                                                                                         | 2.219202898550659/10 [03:53<15:34, 120.09s/it]"
     ]
    },
    {
     "name": "stdout",
     "output_type": "stream",
     "text": [
      "Train Epoch: 3 [480/1768 (27%)]\tLoss: 1.243050\n",
      "Mem before-during-after: 20878848 838495232 20878848\n"
     ]
    },
    {
     "name": "stderr",
     "output_type": "stream",
     "text": [
      " 23%|████████████████████████████████████████▏                                                                                                                                      | 2.2934782608694952/10 [04:00<13:00, 101.31s/it]"
     ]
    },
    {
     "name": "stdout",
     "output_type": "stream",
     "text": [
      "Train Epoch: 3 [640/1768 (36%)]\tLoss: 1.497103\n",
      "Mem before-during-after: 20878848 845363712 20878848\n"
     ]
    },
    {
     "name": "stderr",
     "output_type": "stream",
     "text": [
      " 24%|█████████████████████████████████████████▋                                                                                                                                      | 2.365942028985433/10 [04:08<12:59, 102.10s/it]"
     ]
    },
    {
     "name": "stdout",
     "output_type": "stream",
     "text": [
      "Train Epoch: 3 [800/1768 (45%)]\tLoss: 1.266682\n",
      "Mem before-during-after: 20878848 962074624 20878848\n"
     ]
    },
    {
     "name": "stderr",
     "output_type": "stream",
     "text": [
      " 24%|██████████████████████████████████████████▉                                                                                                                                     | 2.438405797101371/10 [04:16<13:57, 110.81s/it]"
     ]
    },
    {
     "name": "stdout",
     "output_type": "stream",
     "text": [
      "Train Epoch: 3 [960/1768 (54%)]\tLoss: 0.994434\n",
      "Mem before-during-after: 20878848 697651200 20878848\n"
     ]
    },
    {
     "name": "stderr",
     "output_type": "stream",
     "text": [
      " 25%|████████████████████████████████████████████▏                                                                                                                                   | 2.510869565217309/10 [04:23<12:40, 101.51s/it]"
     ]
    },
    {
     "name": "stdout",
     "output_type": "stream",
     "text": [
      "Train Epoch: 3 [1120/1768 (63%)]\tLoss: 1.394437\n",
      "Mem before-during-after: 20878848 944897024 20878848\n"
     ]
    },
    {
     "name": "stderr",
     "output_type": "stream",
     "text": [
      " 26%|█████████████████████████████████████████████▍                                                                                                                                  | 2.583333333333247/10 [04:31<12:59, 105.10s/it]"
     ]
    },
    {
     "name": "stdout",
     "output_type": "stream",
     "text": [
      "Train Epoch: 3 [1280/1768 (72%)]\tLoss: 0.919794\n",
      "Mem before-during-after: 20878848 381965824 20878848\n"
     ]
    },
    {
     "name": "stderr",
     "output_type": "stream",
     "text": [
      " 27%|██████████████████████████████████████████████▋                                                                                                                                 | 2.655797101449185/10 [04:39<12:15, 100.19s/it]"
     ]
    },
    {
     "name": "stdout",
     "output_type": "stream",
     "text": [
      "Train Epoch: 3 [1440/1768 (81%)]\tLoss: 2.053249\n",
      "Mem before-during-after: 20878848 700586496 20878848\n"
     ]
    },
    {
     "name": "stderr",
     "output_type": "stream",
     "text": [
      " 27%|███████████████████████████████████████████████▋                                                                                                                               | 2.7282608695651227/10 [04:46<12:50, 105.90s/it]"
     ]
    },
    {
     "name": "stdout",
     "output_type": "stream",
     "text": [
      "Train Epoch: 3 [1600/1768 (90%)]\tLoss: 0.817971\n",
      "Mem before-during-after: 20878848 520971776 20878848\n"
     ]
    },
    {
     "name": "stderr",
     "output_type": "stream",
     "text": [
      " 28%|█████████████████████████████████████████████████                                                                                                                              | 2.8007246376810606/10 [04:54<12:57, 108.04s/it]"
     ]
    },
    {
     "name": "stdout",
     "output_type": "stream",
     "text": [
      "Train Epoch: 3 [1760/1768 (100%)]\tLoss: 1.399365\n",
      "Mem before-during-after: 20878848 1338666496 20878848\n"
     ]
    },
    {
     "name": "stderr",
     "output_type": "stream",
     "text": [
      " 30%|█████████████████████████████████████████████████████▍                                                                                                                            | 2.99999999999989/10 [05:12<10:24, 89.21s/it]"
     ]
    },
    {
     "name": "stdout",
     "output_type": "stream",
     "text": [
      "\n",
      "Test Epoch: 3\tAccuracy: 215/440 (49%)\n",
      "\n"
     ]
    },
    {
     "name": "stderr",
     "output_type": "stream",
     "text": [
      " 30%|████████████████████████████████████████████████████▊                                                                                                                           | 3.0036231884056868/10 [05:13<11:26, 98.12s/it]"
     ]
    },
    {
     "name": "stdout",
     "output_type": "stream",
     "text": [
      "Train Epoch: 4 [0/1768 (0%)]\tLoss: 1.368367\n",
      "Mem before-during-after: 20874752 1337921024 20878848\n"
     ]
    },
    {
     "name": "stderr",
     "output_type": "stream",
     "text": [
      " 31%|█████████████████████████████████████████████████████▊                                                                                                                         | 3.0760869565216247/10 [05:20<12:22, 107.21s/it]"
     ]
    },
    {
     "name": "stdout",
     "output_type": "stream",
     "text": [
      "Train Epoch: 4 [160/1768 (9%)]\tLoss: 1.177438\n",
      "Mem before-during-after: 20878848 1216386048 20878848\n"
     ]
    },
    {
     "name": "stderr",
     "output_type": "stream",
     "text": [
      " 31%|███████████████████████████████████████████████████████                                                                                                                        | 3.1485507246375626/10 [05:28<11:41, 102.42s/it]"
     ]
    },
    {
     "name": "stdout",
     "output_type": "stream",
     "text": [
      "Train Epoch: 4 [320/1768 (18%)]\tLoss: 0.612617\n",
      "Mem before-during-after: 20878848 405403136 20878848\n"
     ]
    },
    {
     "name": "stderr",
     "output_type": "stream",
     "text": [
      " 32%|████████████████████████████████████████████████████████▋                                                                                                                       | 3.219202898550602/10 [05:35<11:58, 105.97s/it]"
     ]
    },
    {
     "name": "stdout",
     "output_type": "stream",
     "text": [
      "Train Epoch: 4 [480/1768 (27%)]\tLoss: 0.619960\n",
      "Mem before-during-after: 20878848 437322240 20878848\n"
     ]
    },
    {
     "name": "stderr",
     "output_type": "stream",
     "text": [
      " 33%|█████████████████████████████████████████████████████████▋                                                                                                                     | 3.2934782608694384/10 [05:43<11:34, 103.50s/it]"
     ]
    },
    {
     "name": "stdout",
     "output_type": "stream",
     "text": [
      "Train Epoch: 4 [640/1768 (36%)]\tLoss: 1.630412\n",
      "Mem before-during-after: 20878848 1183665152 20878848\n"
     ]
    },
    {
     "name": "stderr",
     "output_type": "stream",
     "text": [
      " 34%|██████████████████████████████████████████████████████████▉                                                                                                                    | 3.3659420289853763/10 [05:51<11:44, 106.12s/it]"
     ]
    },
    {
     "name": "stdout",
     "output_type": "stream",
     "text": [
      "Train Epoch: 4 [800/1768 (45%)]\tLoss: 1.196671\n",
      "Mem before-during-after: 20878848 540043264 20878848\n"
     ]
    },
    {
     "name": "stderr",
     "output_type": "stream",
     "text": [
      " 34%|████████████████████████████████████████████████████████████▊                                                                                                                    | 3.438405797101314/10 [05:58<10:49, 99.03s/it]"
     ]
    },
    {
     "name": "stdout",
     "output_type": "stream",
     "text": [
      "Train Epoch: 4 [960/1768 (54%)]\tLoss: 1.081917\n",
      "Mem before-during-after: 20878848 391745024 20878848\n"
     ]
    },
    {
     "name": "stderr",
     "output_type": "stream",
     "text": [
      " 35%|█████████████████████████████████████████████████████████████▊                                                                                                                  | 3.510869565217252/10 [06:06<11:41, 108.15s/it]"
     ]
    },
    {
     "name": "stdout",
     "output_type": "stream",
     "text": [
      "Train Epoch: 4 [1120/1768 (63%)]\tLoss: 0.971944\n",
      "Mem before-during-after: 20878848 999852544 20878848\n"
     ]
    },
    {
     "name": "stderr",
     "output_type": "stream",
     "text": [
      " 36%|███████████████████████████████████████████████████████████████▍                                                                                                                 | 3.58333333333319/10 [06:13<10:57, 102.53s/it]"
     ]
    },
    {
     "name": "stdout",
     "output_type": "stream",
     "text": [
      "Train Epoch: 4 [1280/1768 (72%)]\tLoss: 1.642925\n",
      "Mem before-during-after: 20878848 883012608 20878848\n"
     ]
    },
    {
     "name": "stderr",
     "output_type": "stream",
     "text": [
      " 37%|████████████████████████████████████████████████████████████████▋                                                                                                                | 3.655797101449128/10 [06:21<10:18, 97.48s/it]"
     ]
    },
    {
     "name": "stdout",
     "output_type": "stream",
     "text": [
      "Train Epoch: 4 [1440/1768 (81%)]\tLoss: 1.292062\n",
      "Mem before-during-after: 20878848 566555648 20878848\n"
     ]
    },
    {
     "name": "stderr",
     "output_type": "stream",
     "text": [
      " 37%|█████████████████████████████████████████████████████████████████▌                                                                                                              | 3.728260869565066/10 [06:29<10:56, 104.68s/it]"
     ]
    },
    {
     "name": "stdout",
     "output_type": "stream",
     "text": [
      "Train Epoch: 4 [1600/1768 (90%)]\tLoss: 1.322236\n",
      "Mem before-during-after: 20878848 810235392 20878848\n"
     ]
    },
    {
     "name": "stderr",
     "output_type": "stream",
     "text": [
      " 38%|██████████████████████████████████████████████████████████████████▉                                                                                                             | 3.8007246376810038/10 [06:36<10:17, 99.62s/it]"
     ]
    },
    {
     "name": "stdout",
     "output_type": "stream",
     "text": [
      "Train Epoch: 4 [1760/1768 (100%)]\tLoss: 1.414214\n",
      "Mem before-during-after: 20878848 926978560 20878848\n"
     ]
    },
    {
     "name": "stderr",
     "output_type": "stream",
     "text": [
      " 40%|██████████████████████████████████████████████████████████████████████▍                                                                                                         | 4.0018115942027315/10 [06:54<09:07, 91.22s/it]"
     ]
    },
    {
     "name": "stdout",
     "output_type": "stream",
     "text": [
      "\n",
      "Test Epoch: 4\tAccuracy: 230/440 (52%)\n",
      "\n",
      "Train Epoch: 5 [0/1768 (0%)]\tLoss: 0.810268\n",
      "Mem before-during-after: 20874752 328064000 20878848\n"
     ]
    },
    {
     "name": "stderr",
     "output_type": "stream",
     "text": [
      " 41%|███████████████████████████████████████████████████████████████████████▋                                                                                                        | 4.076086956521568/10 [07:02<10:15, 103.91s/it]"
     ]
    },
    {
     "name": "stdout",
     "output_type": "stream",
     "text": [
      "Train Epoch: 5 [160/1768 (9%)]\tLoss: 1.308024\n",
      "Mem before-during-after: 20878848 658599424 20878848\n"
     ]
    },
    {
     "name": "stderr",
     "output_type": "stream",
     "text": [
      " 41%|█████████████████████████████████████████████████████████████████████████                                                                                                       | 4.148550724637506/10 [07:09<10:21, 106.30s/it]"
     ]
    },
    {
     "name": "stdout",
     "output_type": "stream",
     "text": [
      "Train Epoch: 5 [320/1768 (18%)]\tLoss: 1.065163\n",
      "Mem before-during-after: 20878848 570380288 20878848\n"
     ]
    },
    {
     "name": "stderr",
     "output_type": "stream",
     "text": [
      " 42%|██████████████████████████████████████████████████████████████████████████▎                                                                                                     | 4.221014492753444/10 [07:17<09:48, 101.79s/it]"
     ]
    },
    {
     "name": "stdout",
     "output_type": "stream",
     "text": [
      "Train Epoch: 5 [480/1768 (27%)]\tLoss: 1.283576\n",
      "Mem before-during-after: 20878848 734592512 20878848\n"
     ]
    },
    {
     "name": "stderr",
     "output_type": "stream",
     "text": [
      " 43%|███████████████████████████████████████████████████████████████████████████▉                                                                                                     | 4.293478260869382/10 [07:24<09:23, 98.77s/it]"
     ]
    },
    {
     "name": "stdout",
     "output_type": "stream",
     "text": [
      "Train Epoch: 5 [640/1768 (36%)]\tLoss: 0.992687\n",
      "Mem before-during-after: 20878848 413929984 20878848\n"
     ]
    },
    {
     "name": "stderr",
     "output_type": "stream",
     "text": [
      " 44%|████████████████████████████████████████████████████████████████████████████▍                                                                                                  | 4.3659420289853195/10 [07:32<09:36, 102.24s/it]"
     ]
    },
    {
     "name": "stdout",
     "output_type": "stream",
     "text": [
      "Train Epoch: 5 [800/1768 (45%)]\tLoss: 0.964858\n",
      "Mem before-during-after: 20878848 395129856 20878848\n"
     ]
    },
    {
     "name": "stderr",
     "output_type": "stream",
     "text": [
      " 44%|██████████████████████████████████████████████████████████████████████████████                                                                                                  | 4.438405797101257/10 [07:40<09:34, 103.29s/it]"
     ]
    },
    {
     "name": "stdout",
     "output_type": "stream",
     "text": [
      "Train Epoch: 5 [960/1768 (54%)]\tLoss: 0.596403\n",
      "Mem before-during-after: 20878848 318009344 20878848\n"
     ]
    },
    {
     "name": "stderr",
     "output_type": "stream",
     "text": [
      " 45%|███████████████████████████████████████████████████████████████████████████████▍                                                                                                | 4.510869565217195/10 [07:47<09:38, 105.45s/it]"
     ]
    },
    {
     "name": "stdout",
     "output_type": "stream",
     "text": [
      "Train Epoch: 5 [1120/1768 (63%)]\tLoss: 0.921960\n",
      "Mem before-during-after: 20878848 1181186560 20878848\n"
     ]
    },
    {
     "name": "stderr",
     "output_type": "stream",
     "text": [
      " 46%|█████████████████████████████████████████████████████████████████████████████████                                                                                                | 4.583333333333133/10 [07:55<09:00, 99.72s/it]"
     ]
    },
    {
     "name": "stdout",
     "output_type": "stream",
     "text": [
      "Train Epoch: 5 [1280/1768 (72%)]\tLoss: 0.968028\n",
      "Mem before-during-after: 20878848 1001096192 20878848\n"
     ]
    },
    {
     "name": "stderr",
     "output_type": "stream",
     "text": [
      " 47%|█████████████████████████████████████████████████████████████████████████████████▉                                                                                              | 4.655797101449071/10 [08:02<09:08, 102.55s/it]"
     ]
    },
    {
     "name": "stdout",
     "output_type": "stream",
     "text": [
      "Train Epoch: 5 [1440/1768 (81%)]\tLoss: 1.318907\n",
      "Mem before-during-after: 20878848 752908800 20878848\n"
     ]
    },
    {
     "name": "stderr",
     "output_type": "stream",
     "text": [
      " 47%|███████████████████████████████████████████████████████████████████████████████████▏                                                                                            | 4.728260869565009/10 [08:10<08:47, 100.10s/it]"
     ]
    },
    {
     "name": "stdout",
     "output_type": "stream",
     "text": [
      "Train Epoch: 5 [1600/1768 (90%)]\tLoss: 1.373716\n",
      "Mem before-during-after: 20878848 351420928 20878848\n"
     ]
    },
    {
     "name": "stderr",
     "output_type": "stream",
     "text": [
      " 48%|███████████████████████████████████████████████████████████████████████████████████▉                                                                                           | 4.7989130434780485/10 [08:17<09:59, 115.19s/it]"
     ]
    },
    {
     "name": "stdout",
     "output_type": "stream",
     "text": [
      "Train Epoch: 5 [1760/1768 (100%)]\tLoss: 2.082802\n",
      "Mem before-during-after: 20878848 1469445120 20878848\n"
     ]
    },
    {
     "name": "stderr",
     "output_type": "stream",
     "text": [
      " 50%|████████████████████████████████████████████████████████████████████████████████████████▌                                                                                        | 5.001811594202675/10 [08:36<07:53, 94.75s/it]"
     ]
    },
    {
     "name": "stdout",
     "output_type": "stream",
     "text": [
      "\n",
      "Test Epoch: 5\tAccuracy: 242/440 (55%)\n",
      "\n",
      "Train Epoch: 6 [0/1768 (0%)]\tLoss: 1.357354\n",
      "Mem before-during-after: 20874752 888186368 20878848\n"
     ]
    },
    {
     "name": "stderr",
     "output_type": "stream",
     "text": [
      " 51%|█████████████████████████████████████████████████████████████████████████████████████████▎                                                                                      | 5.076086956521511/10 [08:44<08:38, 105.27s/it]"
     ]
    },
    {
     "name": "stdout",
     "output_type": "stream",
     "text": [
      "Train Epoch: 6 [160/1768 (9%)]\tLoss: 0.894118\n",
      "Mem before-during-after: 20878848 1464891904 20878848\n"
     ]
    },
    {
     "name": "stderr",
     "output_type": "stream",
     "text": [
      " 51%|███████████████████████████████████████████████████████████████████████████████████████████▏                                                                                     | 5.148550724637449/10 [08:52<08:03, 99.72s/it]"
     ]
    },
    {
     "name": "stdout",
     "output_type": "stream",
     "text": [
      "Train Epoch: 6 [320/1768 (18%)]\tLoss: 0.329194\n",
      "Mem before-during-after: 20878848 299727360 20878848\n"
     ]
    },
    {
     "name": "stderr",
     "output_type": "stream",
     "text": [
      " 52%|███████████████████████████████████████████████████████████████████████████████████████████▉                                                                                    | 5.221014492753387/10 [09:00<08:36, 108.15s/it]"
     ]
    },
    {
     "name": "stdout",
     "output_type": "stream",
     "text": [
      "Train Epoch: 6 [480/1768 (27%)]\tLoss: 1.316186\n",
      "Mem before-during-after: 20878848 977925120 20878848\n"
     ]
    },
    {
     "name": "stderr",
     "output_type": "stream",
     "text": [
      " 53%|█████████████████████████████████████████████████████████████████████████████████████████████▋                                                                                   | 5.293478260869325/10 [09:07<07:39, 97.70s/it]"
     ]
    },
    {
     "name": "stdout",
     "output_type": "stream",
     "text": [
      "Train Epoch: 6 [640/1768 (36%)]\tLoss: 0.820226\n",
      "Mem before-during-after: 20878848 468208128 20878848\n"
     ]
    },
    {
     "name": "stderr",
     "output_type": "stream",
     "text": [
      " 54%|██████████████████████████████████████████████████████████████████████████████████████████████▍                                                                                 | 5.365942028985263/10 [09:15<08:11, 106.12s/it]"
     ]
    },
    {
     "name": "stdout",
     "output_type": "stream",
     "text": [
      "Train Epoch: 6 [800/1768 (45%)]\tLoss: 0.818379\n",
      "Mem before-during-after: 20878848 371866624 20878848\n"
     ]
    },
    {
     "name": "stderr",
     "output_type": "stream",
     "text": [
      " 54%|███████████████████████████████████████████████████████████████████████████████████████████████▏                                                                               | 5.4384057971012005/10 [09:23<07:51, 103.45s/it]"
     ]
    },
    {
     "name": "stdout",
     "output_type": "stream",
     "text": [
      "Train Epoch: 6 [960/1768 (54%)]\tLoss: 0.793245\n",
      "Mem before-during-after: 20878848 1169491968 20878848\n"
     ]
    },
    {
     "name": "stderr",
     "output_type": "stream",
     "text": [
      " 55%|████████████████████████████████████████████████████████████████████████████████████████████████▉                                                                               | 5.510869565217138/10 [09:30<07:36, 101.72s/it]"
     ]
    },
    {
     "name": "stdout",
     "output_type": "stream",
     "text": [
      "Train Epoch: 6 [1120/1768 (63%)]\tLoss: 1.746741\n",
      "Mem before-during-after: 20878848 581453824 20878848\n"
     ]
    },
    {
     "name": "stderr",
     "output_type": "stream",
     "text": [
      " 56%|██████████████████████████████████████████████████████████████████████████████████████████████████▏                                                                             | 5.581521739130178/10 [09:38<08:35, 116.70s/it]"
     ]
    },
    {
     "name": "stdout",
     "output_type": "stream",
     "text": [
      "Train Epoch: 6 [1280/1768 (72%)]\tLoss: 1.541492\n",
      "Mem before-during-after: 20878848 1450190336 20878848\n"
     ]
    },
    {
     "name": "stderr",
     "output_type": "stream",
     "text": [
      " 57%|███████████████████████████████████████████████████████████████████████████████████████████████████▌                                                                            | 5.655797101449014/10 [09:46<07:50, 108.32s/it]"
     ]
    },
    {
     "name": "stdout",
     "output_type": "stream",
     "text": [
      "Train Epoch: 6 [1440/1768 (81%)]\tLoss: 1.179273\n",
      "Mem before-during-after: 20878848 1233742848 20878848\n"
     ]
    },
    {
     "name": "stderr",
     "output_type": "stream",
     "text": [
      " 57%|████████████████████████████████████████████████████████████████████████████████████████████████████▊                                                                           | 5.728260869564952/10 [09:53<07:37, 107.11s/it]"
     ]
    },
    {
     "name": "stdout",
     "output_type": "stream",
     "text": [
      "Train Epoch: 6 [1600/1768 (90%)]\tLoss: 1.192293\n",
      "Mem before-during-after: 20878848 954700288 20878848\n"
     ]
    },
    {
     "name": "stderr",
     "output_type": "stream",
     "text": [
      " 58%|██████████████████████████████████████████████████████████████████████████████████████████████████████                                                                          | 5.798913043477992/10 [10:01<07:24, 105.73s/it]"
     ]
    },
    {
     "name": "stdout",
     "output_type": "stream",
     "text": [
      "Train Epoch: 6 [1760/1768 (100%)]\tLoss: 1.138254\n",
      "Mem before-during-after: 20878848 1378252288 20878848\n"
     ]
    },
    {
     "name": "stderr",
     "output_type": "stream",
     "text": [
      " 60%|██████████████████████████████████████████████████████████████████████████████████████████████████████████▏                                                                      | 6.001811594202618/10 [10:19<06:10, 92.79s/it]"
     ]
    },
    {
     "name": "stdout",
     "output_type": "stream",
     "text": [
      "\n",
      "Test Epoch: 6\tAccuracy: 244/440 (55%)\n",
      "\n",
      "Train Epoch: 7 [0/1768 (0%)]\tLoss: 0.919319\n",
      "Mem before-during-after: 20874752 871353344 20878848\n"
     ]
    },
    {
     "name": "stderr",
     "output_type": "stream",
     "text": [
      " 61%|██████████████████████████████████████████████████████████████████████████████████████████████████████████▉                                                                     | 6.076086956521454/10 [10:27<06:44, 103.18s/it]"
     ]
    },
    {
     "name": "stdout",
     "output_type": "stream",
     "text": [
      "Train Epoch: 7 [160/1768 (9%)]\tLoss: 0.649242\n",
      "Mem before-during-after: 20878848 540587008 20878848\n"
     ]
    },
    {
     "name": "stderr",
     "output_type": "stream",
     "text": [
      " 61%|████████████████████████████████████████████████████████████████████████████████████████████████████████████▏                                                                   | 6.148550724637392/10 [10:34<06:32, 101.84s/it]"
     ]
    },
    {
     "name": "stdout",
     "output_type": "stream",
     "text": [
      "Train Epoch: 7 [320/1768 (18%)]\tLoss: 1.397619\n",
      "Mem before-during-after: 20878848 662960640 20878848\n"
     ]
    },
    {
     "name": "stderr",
     "output_type": "stream",
     "text": [
      " 62%|██████████████████████████████████████████████████████████████████████████████████████████████████████████████▋                                                                   | 6.22101449275333/10 [10:41<06:15, 99.42s/it]"
     ]
    },
    {
     "name": "stdout",
     "output_type": "stream",
     "text": [
      "Train Epoch: 7 [480/1768 (27%)]\tLoss: 1.478907\n",
      "Mem before-during-after: 20878848 700922368 20878848\n"
     ]
    },
    {
     "name": "stderr",
     "output_type": "stream",
     "text": [
      " 63%|██████████████████████████████████████████████████████████████████████████████████████████████████████████████▊                                                                 | 6.293478260869268/10 [10:49<06:34, 106.40s/it]"
     ]
    },
    {
     "name": "stdout",
     "output_type": "stream",
     "text": [
      "Train Epoch: 7 [640/1768 (36%)]\tLoss: 0.720297\n",
      "Mem before-during-after: 20878848 355405824 20878848\n"
     ]
    },
    {
     "name": "stderr",
     "output_type": "stream",
     "text": [
      " 64%|████████████████████████████████████████████████████████████████████████████████████████████████████████████████                                                                | 6.365942028985206/10 [10:57<06:16, 103.70s/it]"
     ]
    },
    {
     "name": "stdout",
     "output_type": "stream",
     "text": [
      "Train Epoch: 7 [800/1768 (45%)]\tLoss: 0.434281\n",
      "Mem before-during-after: 20878848 913149440 20878848\n"
     ]
    },
    {
     "name": "stderr",
     "output_type": "stream",
     "text": [
      " 64%|█████████████████████████████████████████████████████████████████████████████████████████████████████████████████▎                                                              | 6.438405797101144/10 [11:04<06:13, 104.76s/it]"
     ]
    },
    {
     "name": "stdout",
     "output_type": "stream",
     "text": [
      "Train Epoch: 7 [960/1768 (54%)]\tLoss: 0.618465\n",
      "Mem before-during-after: 20878848 786543104 20878848\n"
     ]
    },
    {
     "name": "stderr",
     "output_type": "stream",
     "text": [
      " 65%|██████████████████████████████████████████████████████████████████████████████████████████████████████████████████▌                                                             | 6.510869565217082/10 [11:12<05:52, 100.93s/it]"
     ]
    },
    {
     "name": "stdout",
     "output_type": "stream",
     "text": [
      "Train Epoch: 7 [1120/1768 (63%)]\tLoss: 0.584260\n",
      "Mem before-during-after: 20878848 821754368 20878848\n"
     ]
    },
    {
     "name": "stderr",
     "output_type": "stream",
     "text": [
      " 66%|███████████████████████████████████████████████████████████████████████████████████████████████████████████████████▏                                                           | 6.5833333333330195/10 [11:19<05:49, 102.37s/it]"
     ]
    },
    {
     "name": "stdout",
     "output_type": "stream",
     "text": [
      "Train Epoch: 7 [1280/1768 (72%)]\tLoss: 0.518822\n",
      "Mem before-during-after: 20878848 795181056 20878848\n"
     ]
    },
    {
     "name": "stderr",
     "output_type": "stream",
     "text": [
      " 67%|█████████████████████████████████████████████████████████████████████████████████████████████████████████████████████▏                                                          | 6.655797101448957/10 [11:27<05:41, 102.21s/it]"
     ]
    },
    {
     "name": "stdout",
     "output_type": "stream",
     "text": [
      "Train Epoch: 7 [1440/1768 (81%)]\tLoss: 1.035553\n",
      "Mem before-during-after: 20878848 811633664 20878848\n"
     ]
    },
    {
     "name": "stderr",
     "output_type": "stream",
     "text": [
      " 67%|██████████████████████████████████████████████████████████████████████████████████████████████████████████████████████▍                                                         | 6.728260869564895/10 [11:34<05:40, 103.95s/it]"
     ]
    },
    {
     "name": "stdout",
     "output_type": "stream",
     "text": [
      "Train Epoch: 7 [1600/1768 (90%)]\tLoss: 0.836937\n",
      "Mem before-during-after: 20878848 640722432 20878848\n"
     ]
    },
    {
     "name": "stderr",
     "output_type": "stream",
     "text": [
      " 68%|███████████████████████████████████████████████████████████████████████████████████████████████████████████████████████▋                                                        | 6.800724637680833/10 [11:42<05:29, 103.05s/it]"
     ]
    },
    {
     "name": "stdout",
     "output_type": "stream",
     "text": [
      "Train Epoch: 7 [1760/1768 (100%)]\tLoss: 1.151905\n",
      "Mem before-during-after: 20878848 340491776 20878848\n"
     ]
    },
    {
     "name": "stderr",
     "output_type": "stream",
     "text": [
      " 70%|███████████████████████████████████████████████████████████████████████████████████████████████████████████████████████████▉                                                     | 7.001811594202561/10 [12:00<04:40, 93.53s/it]"
     ]
    },
    {
     "name": "stdout",
     "output_type": "stream",
     "text": [
      "\n",
      "Test Epoch: 7\tAccuracy: 201/440 (45%)\n",
      "\n",
      "Train Epoch: 8 [0/1768 (0%)]\tLoss: 0.899879\n",
      "Mem before-during-after: 20874752 713602560 20878848\n"
     ]
    },
    {
     "name": "stderr",
     "output_type": "stream",
     "text": [
      " 71%|████████████████████████████████████████████████████████████████████████████████████████████████████████████████████████████▌                                                   | 7.076086956521397/10 [12:08<05:13, 107.31s/it]"
     ]
    },
    {
     "name": "stdout",
     "output_type": "stream",
     "text": [
      "Train Epoch: 8 [160/1768 (9%)]\tLoss: 0.668909\n",
      "Mem before-during-after: 20878848 1328064512 20878848\n"
     ]
    },
    {
     "name": "stderr",
     "output_type": "stream",
     "text": [
      " 71%|█████████████████████████████████████████████████████████████████████████████████████████████████████████████████████████████▊                                                  | 7.148550724637335/10 [12:15<04:49, 101.54s/it]"
     ]
    },
    {
     "name": "stdout",
     "output_type": "stream",
     "text": [
      "Train Epoch: 8 [320/1768 (18%)]\tLoss: 1.555539\n",
      "Mem before-during-after: 20878848 397396480 20878848\n"
     ]
    },
    {
     "name": "stderr",
     "output_type": "stream",
     "text": [
      " 72%|███████████████████████████████████████████████████████████████████████████████████████████████████████████████████████████████                                                 | 7.221014492753273/10 [12:23<04:46, 103.26s/it]"
     ]
    },
    {
     "name": "stdout",
     "output_type": "stream",
     "text": [
      "Train Epoch: 8 [480/1768 (27%)]\tLoss: 1.466070\n",
      "Mem before-during-after: 20878848 543725568 20878848\n"
     ]
    },
    {
     "name": "stderr",
     "output_type": "stream",
     "text": [
      " 73%|████████████████████████████████████████████████████████████████████████████████████████████████████████████████████████████████▎                                               | 7.293478260869211/10 [12:30<04:47, 106.22s/it]"
     ]
    },
    {
     "name": "stdout",
     "output_type": "stream",
     "text": [
      "Train Epoch: 8 [640/1768 (36%)]\tLoss: 1.096879\n",
      "Mem before-during-after: 20878848 1230491136 20878848\n"
     ]
    },
    {
     "name": "stderr",
     "output_type": "stream",
     "text": [
      " 74%|█████████████████████████████████████████████████████████████████████████████████████████████████████████████████████████████████▋                                              | 7.365942028985149/10 [12:38<04:35, 104.45s/it]"
     ]
    },
    {
     "name": "stdout",
     "output_type": "stream",
     "text": [
      "Train Epoch: 8 [800/1768 (45%)]\tLoss: 0.861732\n",
      "Mem before-during-after: 20878848 890314240 20878848\n"
     ]
    },
    {
     "name": "stderr",
     "output_type": "stream",
     "text": [
      " 74%|██████████████████████████████████████████████████████████████████████████████████████████████████████████████████████████████████▉                                             | 7.438405797101087/10 [12:46<04:35, 107.60s/it]"
     ]
    },
    {
     "name": "stdout",
     "output_type": "stream",
     "text": [
      "Train Epoch: 8 [960/1768 (54%)]\tLoss: 1.341386\n",
      "Mem before-during-after: 20878848 657735168 20878848\n"
     ]
    },
    {
     "name": "stderr",
     "output_type": "stream",
     "text": [
      " 75%|████████████████████████████████████████████████████████████████████████████████████████████████████████████████████████████████████▏                                           | 7.510869565217025/10 [12:54<04:31, 109.18s/it]"
     ]
    },
    {
     "name": "stdout",
     "output_type": "stream",
     "text": [
      "Train Epoch: 8 [1120/1768 (63%)]\tLoss: 0.576335\n",
      "Mem before-during-after: 20878848 753263104 20878848\n"
     ]
    },
    {
     "name": "stderr",
     "output_type": "stream",
     "text": [
      " 76%|█████████████████████████████████████████████████████████████████████████████████████████████████████████████████████████████████████▍                                          | 7.581521739130064/10 [13:01<04:08, 102.67s/it]"
     ]
    },
    {
     "name": "stdout",
     "output_type": "stream",
     "text": [
      "Train Epoch: 8 [1280/1768 (72%)]\tLoss: 1.671273\n",
      "Mem before-during-after: 20878848 627761152 20878848\n"
     ]
    },
    {
     "name": "stderr",
     "output_type": "stream",
     "text": [
      " 77%|██████████████████████████████████████████████████████████████████████████████████████████████████████████████████████████████████████▋                                         | 7.655797101448901/10 [13:09<03:59, 102.15s/it]"
     ]
    },
    {
     "name": "stdout",
     "output_type": "stream",
     "text": [
      "Train Epoch: 8 [1440/1768 (81%)]\tLoss: 0.837398\n",
      "Mem before-during-after: 20878848 390860800 20878848\n"
     ]
    },
    {
     "name": "stderr",
     "output_type": "stream",
     "text": [
      " 77%|███████████████████████████████████████████████████████████████████████████████████████████████████████████████████████████████████████▏                                       | 7.7282608695648385/10 [13:17<03:59, 105.44s/it]"
     ]
    },
    {
     "name": "stdout",
     "output_type": "stream",
     "text": [
      "Train Epoch: 8 [1600/1768 (90%)]\tLoss: 0.712076\n",
      "Mem before-during-after: 20878848 554439168 20878848\n"
     ]
    },
    {
     "name": "stderr",
     "output_type": "stream",
     "text": [
      " 78%|█████████████████████████████████████████████████████████████████████████████████████████████████████████████████████████████████████████▎                                      | 7.800724637680776/10 [13:24<03:53, 106.24s/it]"
     ]
    },
    {
     "name": "stdout",
     "output_type": "stream",
     "text": [
      "Train Epoch: 8 [1760/1768 (100%)]\tLoss: 0.475477\n",
      "Mem before-during-after: 20878848 841544704 20878848\n"
     ]
    },
    {
     "name": "stderr",
     "output_type": "stream",
     "text": [
      " 80%|█████████████████████████████████████████████████████████████████████████████████████████████████████████████████████████████████████████████▋                                   | 8.001811594202504/10 [13:44<03:06, 93.51s/it]"
     ]
    },
    {
     "name": "stdout",
     "output_type": "stream",
     "text": [
      "\n",
      "Test Epoch: 8\tAccuracy: 245/440 (55%)\n",
      "\n",
      "Train Epoch: 9 [0/1768 (0%)]\tLoss: 2.857533\n",
      "Mem before-during-after: 20874752 663710720 20878848\n"
     ]
    },
    {
     "name": "stderr",
     "output_type": "stream",
     "text": [
      " 81%|██████████████████████████████████████████████████████████████████████████████████████████████████████████████████████████████████████████████▉                                  | 8.07608695652134/10 [13:51<03:27, 107.67s/it]"
     ]
    },
    {
     "name": "stdout",
     "output_type": "stream",
     "text": [
      "Train Epoch: 9 [160/1768 (9%)]\tLoss: 0.457759\n",
      "Mem before-during-after: 20878848 1298801664 20878848\n"
     ]
    },
    {
     "name": "stderr",
     "output_type": "stream",
     "text": [
      " 81%|███████████████████████████████████████████████████████████████████████████████████████████████████████████████████████████████████████████████▍                                | 8.148550724637278/10 [13:59<03:07, 101.53s/it]"
     ]
    },
    {
     "name": "stdout",
     "output_type": "stream",
     "text": [
      "Train Epoch: 9 [320/1768 (18%)]\tLoss: 1.227820\n",
      "Mem before-during-after: 20878848 865344000 20878848\n"
     ]
    },
    {
     "name": "stderr",
     "output_type": "stream",
     "text": [
      " 82%|████████████████████████████████████████████████████████████████████████████████████████████████████████████████████████████████████████████████▋                               | 8.221014492753216/10 [14:06<03:07, 105.67s/it]"
     ]
    },
    {
     "name": "stdout",
     "output_type": "stream",
     "text": [
      "Train Epoch: 9 [480/1768 (27%)]\tLoss: 1.050140\n",
      "Mem before-during-after: 20878848 1020386816 20878848\n"
     ]
    },
    {
     "name": "stderr",
     "output_type": "stream",
     "text": [
      " 83%|█████████████████████████████████████████████████████████████████████████████████████████████████████████████████████████████████████████████████▉                              | 8.293478260869154/10 [14:14<02:53, 101.57s/it]"
     ]
    },
    {
     "name": "stdout",
     "output_type": "stream",
     "text": [
      "Train Epoch: 9 [640/1768 (36%)]\tLoss: 1.252831\n",
      "Mem before-during-after: 20878848 547691008 20878848\n"
     ]
    },
    {
     "name": "stderr",
     "output_type": "stream",
     "text": [
      " 84%|███████████████████████████████████████████████████████████████████████████████████████████████████████████████████████████████████████████████████▏                            | 8.365942028985092/10 [14:21<02:48, 103.07s/it]"
     ]
    },
    {
     "name": "stdout",
     "output_type": "stream",
     "text": [
      "Train Epoch: 9 [800/1768 (45%)]\tLoss: 0.793688\n",
      "Mem before-during-after: 20878848 1461918720 20878848\n"
     ]
    },
    {
     "name": "stderr",
     "output_type": "stream",
     "text": [
      " 84%|████████████████████████████████████████████████████████████████████████████████████████████████████████████████████████████████████████████████████▍                           | 8.436594202898132/10 [14:29<02:49, 108.61s/it]"
     ]
    },
    {
     "name": "stdout",
     "output_type": "stream",
     "text": [
      "Train Epoch: 9 [960/1768 (54%)]\tLoss: 0.633852\n",
      "Mem before-during-after: 20878848 1128274944 20878848\n"
     ]
    },
    {
     "name": "stderr",
     "output_type": "stream",
     "text": [
      " 85%|█████████████████████████████████████████████████████████████████████████████████████████████████████████████████████████████████████████████████████▊                          | 8.510869565216968/10 [14:37<02:37, 105.56s/it]"
     ]
    },
    {
     "name": "stdout",
     "output_type": "stream",
     "text": [
      "Train Epoch: 9 [1120/1768 (63%)]\tLoss: 1.565050\n",
      "Mem before-during-after: 20878848 535833088 20878848\n"
     ]
    },
    {
     "name": "stderr",
     "output_type": "stream",
     "text": [
      " 86%|███████████████████████████████████████████████████████████████████████████████████████████████████████████████████████████████████████████████████████                         | 8.583333333332906/10 [14:44<02:27, 104.12s/it]"
     ]
    },
    {
     "name": "stdout",
     "output_type": "stream",
     "text": [
      "Train Epoch: 9 [1280/1768 (72%)]\tLoss: 1.240410\n",
      "Mem before-during-after: 20878848 210314240 20878848\n"
     ]
    },
    {
     "name": "stderr",
     "output_type": "stream",
     "text": [
      " 87%|████████████████████████████████████████████████████████████████████████████████████████████████████████████████████████████████████████████████████████▎                       | 8.655797101448844/10 [14:52<02:18, 102.99s/it]"
     ]
    },
    {
     "name": "stdout",
     "output_type": "stream",
     "text": [
      "Train Epoch: 9 [1440/1768 (81%)]\tLoss: 0.523647\n",
      "Mem before-during-after: 20878848 537999360 20878848\n"
     ]
    },
    {
     "name": "stderr",
     "output_type": "stream",
     "text": [
      " 87%|█████████████████████████████████████████████████████████████████████████████████████████████████████████████████████████████████████████████████████████▌                      | 8.728260869564782/10 [14:59<02:13, 104.73s/it]"
     ]
    },
    {
     "name": "stdout",
     "output_type": "stream",
     "text": [
      "Train Epoch: 9 [1600/1768 (90%)]\tLoss: 1.095265\n",
      "Mem before-during-after: 20878848 679046656 20878848\n"
     ]
    },
    {
     "name": "stderr",
     "output_type": "stream",
     "text": [
      " 88%|███████████████████████████████████████████████████████████████████████████████████████████████████████████████████████████████████████████████████████████▊                     | 8.80072463768072/10 [15:07<02:12, 110.21s/it]"
     ]
    },
    {
     "name": "stdout",
     "output_type": "stream",
     "text": [
      "Train Epoch: 9 [1760/1768 (100%)]\tLoss: 0.805205\n",
      "Mem before-during-after: 20878848 1451349504 20878848\n"
     ]
    },
    {
     "name": "stderr",
     "output_type": "stream",
     "text": [
      " 90%|███████████████████████████████████████████████████████████████████████████████████████████████████████████████████████████████████████████████████████████████▎                 | 9.001811594202447/10 [15:25<01:32, 92.94s/it]"
     ]
    },
    {
     "name": "stdout",
     "output_type": "stream",
     "text": [
      "\n",
      "Test Epoch: 9\tAccuracy: 253/440 (57%)\n",
      "\n",
      "Train Epoch: 10 [0/1768 (0%)]\tLoss: 1.238450\n",
      "Mem before-during-after: 20874752 472202240 20878848\n"
     ]
    },
    {
     "name": "stderr",
     "output_type": "stream",
     "text": [
      " 91%|████████████████████████████████████████████████████████████████████████████████████████████████████████████████████████████████████████████████████████████████▋                | 9.076086956521284/10 [15:33<01:30, 98.17s/it]"
     ]
    },
    {
     "name": "stdout",
     "output_type": "stream",
     "text": [
      "Train Epoch: 10 [160/1768 (9%)]\tLoss: 1.131308\n",
      "Mem before-during-after: 20878848 764265984 20878848\n"
     ]
    },
    {
     "name": "stderr",
     "output_type": "stream",
     "text": [
      " 91%|█████████████████████████████████████████████████████████████████████████████████████████████████████████████████████████████████████████████████████████████████               | 9.148550724637222/10 [15:40<01:27, 103.11s/it]"
     ]
    },
    {
     "name": "stdout",
     "output_type": "stream",
     "text": [
      "Train Epoch: 10 [320/1768 (18%)]\tLoss: 0.965509\n",
      "Mem before-during-after: 20878848 553393152 20878848\n"
     ]
    },
    {
     "name": "stderr",
     "output_type": "stream",
     "text": [
      " 92%|███████████████████████████████████████████████████████████████████████████████████████████████████████████████████████████████████████████████████████████████████▏             | 9.22101449275316/10 [15:48<01:22, 106.20s/it]"
     ]
    },
    {
     "name": "stdout",
     "output_type": "stream",
     "text": [
      "Train Epoch: 10 [480/1768 (27%)]\tLoss: 0.586355\n",
      "Mem before-during-after: 20878848 1183801856 20878848\n"
     ]
    },
    {
     "name": "stderr",
     "output_type": "stream",
     "text": [
      " 93%|███████████████████████████████████████████████████████████████████████████████████████████████████████████████████████████████████████████████████████████████████▌            | 9.293478260869097/10 [15:55<01:12, 102.08s/it]"
     ]
    },
    {
     "name": "stdout",
     "output_type": "stream",
     "text": [
      "Train Epoch: 10 [640/1768 (36%)]\tLoss: 1.047869\n",
      "Mem before-during-after: 20878848 1051160064 20878848\n"
     ]
    },
    {
     "name": "stderr",
     "output_type": "stream",
     "text": [
      " 94%|████████████████████████████████████████████████████████████████████████████████████████████████████████████████████████████████████████████████████████████████████▊           | 9.364130434782137/10 [16:03<01:26, 135.41s/it]"
     ]
    },
    {
     "name": "stdout",
     "output_type": "stream",
     "text": [
      "Train Epoch: 10 [800/1768 (45%)]\tLoss: 0.472255\n",
      "Mem before-during-after: 20878848 817035264 20878848\n"
     ]
    },
    {
     "name": "stderr",
     "output_type": "stream",
     "text": [
      " 94%|██████████████████████████████████████████████████████████████████████████████████████████████████████████████████████████████████████████████████████████████████████          | 9.438405797100973/10 [16:11<00:56, 100.03s/it]"
     ]
    },
    {
     "name": "stdout",
     "output_type": "stream",
     "text": [
      "Train Epoch: 10 [960/1768 (54%)]\tLoss: 0.675691\n",
      "Mem before-during-after: 20878848 352590848 20878848\n"
     ]
    },
    {
     "name": "stderr",
     "output_type": "stream",
     "text": [
      " 95%|███████████████████████████████████████████████████████████████████████████████████████████████████████████████████████████████████████████████████████████████████████▍        | 9.510869565216911/10 [16:18<00:50, 102.55s/it]"
     ]
    },
    {
     "name": "stdout",
     "output_type": "stream",
     "text": [
      "Train Epoch: 10 [1120/1768 (63%)]\tLoss: 1.078720\n",
      "Mem before-during-after: 20878848 265048064 20878848\n"
     ]
    },
    {
     "name": "stderr",
     "output_type": "stream",
     "text": [
      " 96%|████████████████████████████████████████████████████████████████████████████████████████████████████████████████████████████████████████████████████████████████████████▋       | 9.583333333332849/10 [16:25<00:42, 101.81s/it]"
     ]
    },
    {
     "name": "stdout",
     "output_type": "stream",
     "text": [
      "Train Epoch: 10 [1280/1768 (72%)]\tLoss: 1.038395\n",
      "Mem before-during-after: 20878848 664930816 20878848\n"
     ]
    },
    {
     "name": "stderr",
     "output_type": "stream",
     "text": [
      " 97%|█████████████████████████████████████████████████████████████████████████████████████████████████████████████████████████████████████████████████████████████████████████▉      | 9.655797101448787/10 [16:33<00:37, 108.26s/it]"
     ]
    },
    {
     "name": "stdout",
     "output_type": "stream",
     "text": [
      "Train Epoch: 10 [1440/1768 (81%)]\tLoss: 0.256398\n",
      "Mem before-during-after: 20878848 876686848 20878848\n"
     ]
    },
    {
     "name": "stderr",
     "output_type": "stream",
     "text": [
      " 97%|███████████████████████████████████████████████████████████████████████████████████████████████████████████████████████████████████████████████████████████████████████████▏    | 9.726449275361826/10 [16:40<00:30, 110.52s/it]"
     ]
    },
    {
     "name": "stdout",
     "output_type": "stream",
     "text": [
      "Train Epoch: 10 [1600/1768 (90%)]\tLoss: 1.086189\n",
      "Mem before-during-after: 20878848 1001692160 20878848\n"
     ]
    },
    {
     "name": "stderr",
     "output_type": "stream",
     "text": [
      " 98%|████████████████████████████████████████████████████████████████████████████████████████████████████████████████████████████████████████████████████████████████████████████▍   | 9.800724637680663/10 [16:48<00:20, 103.56s/it]"
     ]
    },
    {
     "name": "stdout",
     "output_type": "stream",
     "text": [
      "Train Epoch: 10 [1760/1768 (100%)]\tLoss: 0.253910\n",
      "Mem before-during-after: 20878848 302191104 20878848\n"
     ]
    },
    {
     "name": "stderr",
     "output_type": "stream",
     "text": [
      "100%|███████████████████████████████████████████████████████████████████████████████████████████████████████████████████████████████████████████████████████████████████████████████▉| 9.999999999999492/10 [17:06<00:00, 102.68s/it]"
     ]
    },
    {
     "name": "stdout",
     "output_type": "stream",
     "text": [
      "\n",
      "Test Epoch: 10\tAccuracy: 224/440 (51%)\n",
      "\n"
     ]
    },
    {
     "name": "stderr",
     "output_type": "stream",
     "text": [
      "\n"
     ]
    }
   ],
   "source": [
    "log_interval = 40\n",
    "pbar_update = 1 / (len(train_loader) + len(test_loader))\n",
    "model.to(device)\n",
    "with tqdm(total=n_epoch) as pbar:\n",
    "    for epoch in range(1, n_epoch + 1):\n",
    "        train(model, epoch, log_interval, train_losses)\n",
    "        acc = test(model, epoch)\n",
    "        test_accuracy += [acc]\n",
    "        scheduler.step()"
   ]
  },
  {
   "cell_type": "code",
   "execution_count": 13,
   "id": "71d53b1a-01fb-4ad6-916d-75b6c99a3adf",
   "metadata": {},
   "outputs": [],
   "source": [
    "from torchmetrics.classification import (\n",
    "    MulticlassAccuracy, MulticlassPrecision, \n",
    "    MulticlassRecall, MulticlassF1Score, \n",
    "    MulticlassConfusionMatrix,\n",
    "    MulticlassAUROC\n",
    ")\n",
    "from torchmetrics import MetricCollection\n",
    "from pprint import pprint\n",
    "\n",
    "@torch.no_grad\n",
    "def report_metrics(model, labels=labels, \n",
    "                   test_loader=test_loader, device=device):\n",
    "    n = len(labels)\n",
    "    metrics = MetricCollection({\n",
    "        'acc_unweighted': MulticlassAccuracy(num_classes=n), \n",
    "        'acc_weighted': MulticlassAccuracy(num_classes=n, average='weighted'), \n",
    "        \n",
    "        'f1s': MulticlassF1Score(num_classes=n),  \n",
    "        'uar': MulticlassRecall(num_classes=n, average='macro'), \n",
    "        'wap': MulticlassPrecision(num_classes=n, average='weighted'),\n",
    "        \n",
    "        'f1s_detail': MulticlassF1Score(num_classes=n, average=None),  \n",
    "        'acc_detail': MulticlassAccuracy(num_classes=n, average=None), \n",
    "        'precision_detail': MulticlassPrecision(num_classes=n, average=None),\n",
    "        'recall_detail': MulticlassRecall(num_classes=n, average=None), \n",
    "        'rocauc': MulticlassAUROC(num_classes=n, average=None, thresholds=None)\n",
    "    }\n",
    "    # , compute_groups=[['acc', 'f1s', 'wap'], ['uap', 'uar']]\n",
    "                              ).to(device)\n",
    "    confusion_matrix = MulticlassConfusionMatrix(num_classes=n).to(device)\n",
    "    model.eval()\n",
    "    correct = 0\n",
    "    total = 0\n",
    "    for data, target in test_loader:\n",
    "        total += len(target)\n",
    "        \n",
    "        data = data.to(device)\n",
    "        target = target.to(device)\n",
    "        output = model(data).squeeze()\n",
    "        del data\n",
    "        gc.collect()\n",
    "        torch.cuda.empty_cache()\n",
    "        probs = F.softmax(output, dim=-1)\n",
    "        pred = probs.argmax(dim=-1)\n",
    "        correct += pred.eq(target).sum().item()\n",
    "        \n",
    "        metrics.update(probs, target)\n",
    "        confusion_matrix.update(pred, target)\n",
    "        \n",
    "        del target\n",
    "        gc.collect()\n",
    "        torch.cuda.empty_cache()\n",
    "        pbar.update(pbar_update)\n",
    "    print(f'Correct: {correct}/{total} ({correct/total:.4f})')\n",
    "    return metrics, confusion_matrix"
   ]
  },
  {
   "cell_type": "code",
   "execution_count": 14,
   "id": "b176129a-c242-4864-ac46-3d0f3f4cb85c",
   "metadata": {},
   "outputs": [
    {
     "name": "stdout",
     "output_type": "stream",
     "text": [
      "Correct: 224/440 (0.5091)\n",
      "{'acc_detail': tensor([0.7914, 0.0000, 0.7917, 0.0000], device='cuda:0'),\n",
      " 'acc_unweighted': tensor(0.3958, device='cuda:0'),\n",
      " 'acc_weighted': tensor(0.5091, device='cuda:0'),\n",
      " 'f1s': tensor(0.3128, device='cuda:0'),\n",
      " 'f1s_detail': tensor([0.7500, 0.0000, 0.5013, 0.0000], device='cuda:0'),\n",
      " 'precision_detail': tensor([0.7127, 0.0000, 0.3668, 0.0000], device='cuda:0'),\n",
      " 'recall_detail': tensor([0.7914, 0.0000, 0.7917, 0.0000], device='cuda:0'),\n",
      " 'rocauc': tensor([0.8922, 0.5377, 0.6848, 0.8038], device='cuda:0'),\n",
      " 'uar': tensor(0.3958, device='cuda:0'),\n",
      " 'wap': tensor(0.3641, device='cuda:0')}\n"
     ]
    },
    {
     "data": {
      "text/plain": [
       "tensor([[129,   0,  34,   0],\n",
       "        [ 19,   0,  43,   0],\n",
       "        [ 25,   0,  95,   0],\n",
       "        [  8,   0,  87,   0]], device='cuda:0')"
      ]
     },
     "execution_count": 14,
     "metadata": {},
     "output_type": "execute_result"
    }
   ],
   "source": [
    "metrics, confusion_matrix = report_metrics(\n",
    "    model, labels=labels, device=device)\n",
    "pprint(metrics.compute())\n",
    "confusion_matrix.compute()"
   ]
  },
  {
   "cell_type": "code",
   "execution_count": 12,
   "id": "5ee942b5-1cee-4800-b740-1472a73a710c",
   "metadata": {},
   "outputs": [
    {
     "name": "stdout",
     "output_type": "stream",
     "text": [
      "Correct: 247/380 (0.6500)\n",
      "{'acc_detail': tensor([0.7546, 0.3115, 0.9053], device='cuda:0'),\n",
      " 'acc_unweighted': tensor(0.6571, device='cuda:0'),\n",
      " 'acc_weighted': tensor(0.6500, device='cuda:0'),\n",
      " 'f1s': tensor(0.6201, device='cuda:0'),\n",
      " 'f1s_detail': tensor([0.8283, 0.3878, 0.6442], device='cuda:0'),\n",
      " 'precision_detail': tensor([0.9179, 0.5135, 0.5000], device='cuda:0'),\n",
      " 'recall_detail': tensor([0.7546, 0.3115, 0.9053], device='cuda:0'),\n",
      " 'rocauc': tensor([0.9417, 0.7464, 0.8649], device='cuda:0'),\n",
      " 'uar': tensor(0.6571, device='cuda:0'),\n",
      " 'wap': tensor(0.6836, device='cuda:0')}\n"
     ]
    },
    {
     "data": {
      "text/plain": [
       "tensor([[123,  29,  11],\n",
       "        [  9,  38,  75],\n",
       "        [  2,   7,  86]], device='cuda:0')"
      ]
     },
     "execution_count": 12,
     "metadata": {},
     "output_type": "execute_result"
    }
   ],
   "source": [
    "metrics, confusion_matrix = report_metrics(\n",
    "    model, labels=labels, device=device)\n",
    "pprint(metrics.compute())\n",
    "confusion_matrix.compute()"
   ]
  },
  {
   "cell_type": "code",
   "execution_count": 13,
   "id": "cb214f9a-acf3-47e1-88c1-5d831a3eb0e9",
   "metadata": {},
   "outputs": [
    {
     "data": {
      "text/plain": [
       "[<matplotlib.lines.Line2D at 0x7fbf6bb627c0>]"
      ]
     },
     "execution_count": 13,
     "metadata": {},
     "output_type": "execute_result"
    },
    {
     "data": {
      "image/png": "[encoded data removed]",
      "text/plain": [
       "<Figure size 640x480 with 1 Axes>"
      ]
     },
     "metadata": {},
     "output_type": "display_data"
    }
   ],
   "source": [
    "plt.plot(train_losses)"
   ]
  },
  {
   "cell_type": "code",
   "execution_count": 14,
   "id": "0b3fb0a4-8337-4cb5-abac-165dd52c1420",
   "metadata": {},
   "outputs": [
    {
     "data": {
      "text/plain": [
       "[<matplotlib.lines.Line2D at 0x7fbf6b1df730>]"
      ]
     },
     "execution_count": 14,
     "metadata": {},
     "output_type": "execute_result"
    },
    {
     "data": {
      "image/png": "[encoded data removed]",
      "text/plain": [
       "<Figure size 640x480 with 1 Axes>"
      ]
     },
     "metadata": {},
     "output_type": "display_data"
    }
   ],
   "source": [
    "plt.plot(test_accuracy)"
   ]
  },
  {
   "cell_type": "code",
   "execution_count": 15,
   "id": "fd903642-ac6a-4f7b-8af0-96b158bfa5c1",
   "metadata": {},
   "outputs": [
    {
     "name": "stdout",
     "output_type": "stream",
     "text": [
      "['ang', 'exc', 'fru', 'hap', 'neu', 'sad']\n"
     ]
    }
   ],
   "source": [
    "data_improv = IEMOCAP(root=data_dir, \n",
    "               # sessions=(1,2,), # use all\n",
    "               utterance_type='improvised'\n",
    "              )\n",
    "all_labels_improv = sorted(list(set(datapoint[3] for datapoint in data_improv)))\n",
    "print(all_labels_improv)\n",
    "data_improv_x = []\n",
    "data_improv_y = []\n",
    "for d in data_improv:\n",
    "    if d[3] in labels:\n",
    "        data_improv_x.append(d)\n",
    "        data_improv_y.append(label_to_index(d[3]))\n",
    "improv_test_loader = torch.utils.data.DataLoader(\n",
    "    data_improv_x,\n",
    "    batch_size=batch_size,\n",
    "    shuffle=False,\n",
    "    drop_last=True,\n",
    "    collate_fn=collate_fn,\n",
    "    num_workers=num_workers,\n",
    "    pin_memory=pin_memory\n",
    ")"
   ]
  },
  {
   "cell_type": "code",
   "execution_count": 16,
   "id": "116ebe8b-9242-4d41-b366-47bdedafd60a",
   "metadata": {},
   "outputs": [
    {
     "name": "stdout",
     "output_type": "stream",
     "text": [
      "Correct: 1154/1996 (0.5782)\n",
      "{'acc_detail': tensor([0.8927, 0.3012, 0.9293], device='cuda:0'),\n",
      " 'acc_unweighted': tensor(0.7077, device='cuda:0'),\n",
      " 'acc_weighted': tensor(0.5782, device='cuda:0'),\n",
      " 'f1s': tensor(0.5807, device='cuda:0'),\n",
      " 'f1s_detail': tensor([0.6247, 0.4479, 0.6694], device='cuda:0'),\n",
      " 'precision_detail': tensor([0.4804, 0.8734, 0.5231], device='cuda:0'),\n",
      " 'recall_detail': tensor([0.8927, 0.3012, 0.9293], device='cuda:0'),\n",
      " 'rocauc': tensor([0.9388, 0.6771, 0.8173], device='cuda:0'),\n",
      " 'uar': tensor(0.7077, device='cuda:0'),\n",
      " 'wap': tensor(0.7098, device='cuda:0')}\n"
     ]
    },
    {
     "data": {
      "text/plain": [
       "tensor([[258,  19,  12],\n",
       "        [265, 331, 503],\n",
       "        [ 14,  29, 565]], device='cuda:0')"
      ]
     },
     "execution_count": 16,
     "metadata": {},
     "output_type": "execute_result"
    }
   ],
   "source": [
    "metrics_improv, confusion_matrix_improv = report_metrics(\n",
    "    model, labels=labels, device=device, test_loader=improv_test_loader)\n",
    "pprint(metrics_improv.compute())\n",
    "confusion_matrix_improv.compute()"
   ]
  },
  {
   "cell_type": "code",
   "execution_count": 15,
   "id": "76c437ac-c3f9-4bd1-bdd9-8b07f2be9a54",
   "metadata": {},
   "outputs": [
    {
     "data": {
      "text/plain": [
       "0"
      ]
     },
     "execution_count": 15,
     "metadata": {},
     "output_type": "execute_result"
    }
   ],
   "source": [
    "del model\n",
    "gc.collect()"
   ]
  },
  {
   "cell_type": "code",
   "execution_count": null,
   "id": "619247a4-e2f3-4e2c-be4e-8619cdba877a",
   "metadata": {},
   "outputs": [],
   "source": []
  }
 ],
 "metadata": {
  "kernelspec": {
   "display_name": "Python 3 (ipykernel)",
   "language": "python",
   "name": "python3"
  },
  "language_info": {
   "codemirror_mode": {
    "name": "ipython",
    "version": 3
   },
   "file_extension": ".py",
   "mimetype": "text/x-python",
   "name": "python",
   "nbconvert_exporter": "python",
   "pygments_lexer": "ipython3",
   "version": "3.9.18"
  }
 },
 "nbformat": 4,
 "nbformat_minor": 5
}
