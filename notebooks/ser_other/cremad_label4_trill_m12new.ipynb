{
 "cells": [
  {
   "cell_type": "code",
   "execution_count": 1,
   "id": "25fd6fe1-9f12-4c8b-88da-cdcb8d1eb481",
   "metadata": {},
   "outputs": [],
   "source": [
    "import torch\n",
    "import torch.nn as nn\n",
    "from torch.nn import  functional as F\n",
    "from torch.nn.parameter import Parameter\n",
    "from tqdm import tqdm\n",
    "import pandas as pd\n",
    "import numpy as np\n",
    "import seaborn as sns\n",
    "import matplotlib.pyplot as plt\n",
    "from mamba_ssm import Mamba"
   ]
  },
  {
   "cell_type": "code",
   "execution_count": 2,
   "id": "57d9dd6a-4609-4490-a2e5-2f2835912304",
   "metadata": {},
   "outputs": [
    {
     "name": "stdout",
     "output_type": "stream",
     "text": [
      "Wed Feb 21 17:50:45 2024       \n",
      "+---------------------------------------------------------------------------------------+\n",
      "| NVIDIA-SMI 545.23.08              Driver Version: 545.23.08    CUDA Version: 12.3     |\n",
      "|-----------------------------------------+----------------------+----------------------+\n",
      "| GPU  Name                 Persistence-M | Bus-Id        Disp.A | Volatile Uncorr. ECC |\n",
      "| Fan  Temp   Perf          Pwr:Usage/Cap |         Memory-Usage | GPU-Util  Compute M. |\n",
      "|                                         |                      |               MIG M. |\n",
      "|=========================================+======================+======================|\n",
      "|   0  NVIDIA GeForce RTX 2080        On  | 00000000:01:00.0  On |                  N/A |\n",
      "| 32%   32C    P8              20W / 215W |   2262MiB /  8192MiB |      3%      Default |\n",
      "|                                         |                      |                  N/A |\n",
      "+-----------------------------------------+----------------------+----------------------+\n",
      "                                                                                         \n",
      "+---------------------------------------------------------------------------------------+\n",
      "| Processes:                                                                            |\n",
      "|  GPU   GI   CI        PID   Type   Process name                            GPU Memory |\n",
      "|        ID   ID                                                             Usage      |\n",
      "|=======================================================================================|\n",
      "|    0   N/A  N/A      1887      G   /usr/lib/xorg/Xorg                          181MiB |\n",
      "|    0   N/A  N/A      2033      G   /usr/bin/gnome-shell                         39MiB |\n",
      "|    0   N/A  N/A      6241      G   ...seed-version=20240215-080116.052000       54MiB |\n",
      "|    0   N/A  N/A      6688      G   ...sion,SpareRendererForSitePerProcess       40MiB |\n",
      "|    0   N/A  N/A     94151      C   /opt/anaconda3/envs/audio/bin/python        340MiB |\n",
      "|    0   N/A  N/A    299969      C   /opt/anaconda3/envs/audio/bin/python        270MiB |\n",
      "|    0   N/A  N/A    377574      C   /opt/anaconda3/envs/audio/bin/python        224MiB |\n",
      "|    0   N/A  N/A   2546595      C   /opt/anaconda3/envs/audio/bin/python        268MiB |\n",
      "|    0   N/A  N/A   3766717      C   /opt/anaconda3/envs/audio/bin/python        310MiB |\n",
      "|    0   N/A  N/A   3883531      C   /opt/anaconda3/envs/audio/bin/python        528MiB |\n",
      "+---------------------------------------------------------------------------------------+\n"
     ]
    }
   ],
   "source": [
    "!nvidia-smi"
   ]
  },
  {
   "cell_type": "code",
   "execution_count": 3,
   "id": "b25406a1-e19d-4872-819f-3a12a7e7357e",
   "metadata": {},
   "outputs": [],
   "source": [
    "%load_ext autoreload\n",
    "%autoreload 2"
   ]
  },
  {
   "cell_type": "code",
   "execution_count": 4,
   "id": "5c14e1e7-8f89-41a4-93f2-69852b508efc",
   "metadata": {},
   "outputs": [
    {
     "data": {
      "text/plain": [
       "'/home/linh/projects/IConNet'"
      ]
     },
     "execution_count": 4,
     "metadata": {},
     "output_type": "execute_result"
    }
   ],
   "source": [
    "import os\n",
    "os.chdir('..')\n",
    "os.getcwd()"
   ]
  },
  {
   "cell_type": "code",
   "execution_count": 5,
   "id": "9b78b30e-8403-4a57-9700-f9fd275f385b",
   "metadata": {},
   "outputs": [
    {
     "name": "stdout",
     "output_type": "stream",
     "text": [
      "cuda\n"
     ]
    }
   ],
   "source": [
    "os.environ[\"PYTORCH_CUDA_ALLOC_CONF\"] = \"max_split_size_mb:256\"\n",
    "import gc\n",
    "import torch\n",
    "import torch.nn as nn\n",
    "import torch.nn.functional as F\n",
    "import torch.optim as optim\n",
    "import sys\n",
    "import traceback\n",
    "device = torch.device(\"cuda\" if torch.cuda.is_available() else \"cpu\")\n",
    "print(device)"
   ]
  },
  {
   "cell_type": "code",
   "execution_count": 6,
   "id": "643e47f1-abe6-40b0-a8e9-9c433fbf6f1d",
   "metadata": {},
   "outputs": [],
   "source": [
    "from torch.nn.utils.rnn import pad_sequence"
   ]
  },
  {
   "cell_type": "code",
   "execution_count": 7,
   "id": "86c2d105-b231-41c5-9eb3-9a346eaea66e",
   "metadata": {},
   "outputs": [
    {
     "data": {
      "text/plain": [
       "(5144, 2048)"
      ]
     },
     "execution_count": 7,
     "metadata": {},
     "output_type": "execute_result"
    }
   ],
   "source": [
    "data_dir = \"../data/data_preprocessed/crema_d/preprocessed/\" \n",
    "data_x = np.load(f\"{data_dir}crema_d.trill_embedding.train.npy\", allow_pickle=True)\n",
    "data_x.shape"
   ]
  },
  {
   "cell_type": "code",
   "execution_count": 8,
   "id": "5c2ecef3-d1a8-457f-a8a5-81aeb591f230",
   "metadata": {},
   "outputs": [
    {
     "data": {
      "text/plain": [
       "torch.Size([5144, 2048])"
      ]
     },
     "execution_count": 8,
     "metadata": {},
     "output_type": "execute_result"
    }
   ],
   "source": [
    "x_train = [torch.tensor(d.T.real, dtype=torch.float) for d in data_x]\n",
    "x_train = pad_sequence(x_train, batch_first=True)\n",
    "x_train.shape"
   ]
  },
  {
   "cell_type": "code",
   "execution_count": 9,
   "id": "f868c40a-0af1-422f-8353-3959cf113532",
   "metadata": {},
   "outputs": [
    {
     "data": {
      "text/plain": [
       "torch.Size([1556, 2048])"
      ]
     },
     "execution_count": 9,
     "metadata": {},
     "output_type": "execute_result"
    }
   ],
   "source": [
    "data_x = np.load(f\"{data_dir}crema_d.trill_embedding.test.npy\", allow_pickle=True)\n",
    "x_test = [torch.tensor(d.T.real, dtype=torch.float) for d in data_x]\n",
    "x_test = pad_sequence(x_test, batch_first=True)\n",
    "x_test.shape"
   ]
  },
  {
   "cell_type": "code",
   "execution_count": 10,
   "id": "27eab318-8636-46d3-9fa6-08f421f91cbb",
   "metadata": {},
   "outputs": [
    {
     "name": "stdout",
     "output_type": "stream",
     "text": [
      "['NEU' 'HAP' 'SAD' 'ANG' 'FEA' 'DIS']\n"
     ]
    }
   ],
   "source": [
    "classnames = np.load(f'{data_dir}crema_d.classnames.npy', allow_pickle=True)\n",
    "y_train = np.load(f'{data_dir}crema_d.labels.train.npy', allow_pickle=True)\n",
    "y_test = np.load(f'{data_dir}crema_d.labels.test.npy', allow_pickle=True)\n",
    "print(classnames)"
   ]
  },
  {
   "cell_type": "code",
   "execution_count": 11,
   "id": "72878f2e-1340-411a-a8ad-c64a63a241c7",
   "metadata": {},
   "outputs": [
    {
     "data": {
      "text/plain": [
       "array([0, 1, 2, 3, 4, 5], dtype=int16)"
      ]
     },
     "execution_count": 11,
     "metadata": {},
     "output_type": "execute_result"
    }
   ],
   "source": [
    "np.unique(y_test)"
   ]
  },
  {
   "cell_type": "code",
   "execution_count": 12,
   "id": "92a461d1-7026-433e-b13e-c5c7046007c7",
   "metadata": {},
   "outputs": [
    {
     "name": "stdout",
     "output_type": "stream",
     "text": [
      "torch.Size([3387, 2048])\n",
      "torch.Size([1025, 2048])\n"
     ]
    }
   ],
   "source": [
    "labels = ['ANG', 'NEU', 'SAD', 'HAP']\n",
    "\n",
    "def label_filter(idx):\n",
    "    return classnames[idx] in labels\n",
    "\n",
    "def label_to_index(idx):\n",
    "    return labels.index(classnames[idx])\n",
    "    \n",
    "filtered_idx = [label_filter(idx) for idx in y_train]\n",
    "x_train = x_train[filtered_idx]\n",
    "y_train = [label_to_index(idx) for idx in y_train[filtered_idx]]\n",
    "print(x_train.shape)\n",
    "\n",
    "filtered_idx = [label_filter(idx) for idx in y_test]\n",
    "x_test = x_test[filtered_idx]\n",
    "y_test = [label_to_index(idx) for idx in y_test[filtered_idx]]\n",
    "print(x_test.shape)"
   ]
  },
  {
   "cell_type": "code",
   "execution_count": 13,
   "id": "baa3e677-a2f7-487a-84ff-e3da1759a4c2",
   "metadata": {},
   "outputs": [],
   "source": [
    "from torch.utils.data import TensorDataset, DataLoader\n",
    "\n",
    "def create_data_loader(x_train, y_train, \n",
    "                       x_test, y_test, batch_size=32):\n",
    "    x_train = x_train[:, None ,:]\n",
    "    y_train = torch.tensor(y_train, dtype=torch.int64)\n",
    "    x_test = x_test[:, None, :]\n",
    "    y_test = torch.tensor(y_test, dtype=torch.int64)\n",
    "    train_data = TensorDataset(x_train, y_train)\n",
    "    test_data = TensorDataset(x_test, y_test)\n",
    "    \n",
    "    train_loader = DataLoader(train_data, shuffle=True, batch_size=batch_size, drop_last=True)\n",
    "    test_loader = DataLoader(test_data, shuffle=True, batch_size=batch_size, drop_last=True)\n",
    "    return train_loader, test_loader"
   ]
  },
  {
   "cell_type": "code",
   "execution_count": 14,
   "id": "5cbb4205-e090-451e-a0e3-b3be9029740c",
   "metadata": {},
   "outputs": [],
   "source": [
    "batch_size = 16\n",
    "train_loader, test_loader = create_data_loader(x_train, y_train, \n",
    "                       x_test, y_test, batch_size=batch_size)"
   ]
  },
  {
   "cell_type": "code",
   "execution_count": 15,
   "id": "3ee92af0-34eb-4d49-abd3-4c8270084c72",
   "metadata": {},
   "outputs": [
    {
     "name": "stdout",
     "output_type": "stream",
     "text": [
      "name: M12_debug\n",
      "description: FirConv sequential for iemocap\n",
      "fe:\n",
      "  n_block: 2\n",
      "  n_channel:\n",
      "  - 64\n",
      "  - 32\n",
      "  kernel_size:\n",
      "  - 63\n",
      "  - 31\n",
      "  stride:\n",
      "  - 4\n",
      "  - 4\n",
      "  window_k:\n",
      "  - 5\n",
      "  - 9\n",
      "  residual_connection_type: stack\n",
      "  pooling: false\n",
      "  filter_type: firwin\n",
      "  conv_mode: fftconv\n",
      "  norm_type: LocalResponseNorm\n",
      "seq:\n",
      "  n_block: 1\n",
      "  n_channel: 48\n",
      "  pooling: max\n",
      "  use_context: false\n",
      "  bidirectional: false\n",
      "cls:\n",
      "  n_block: 2\n",
      "  n_hidden_dim:\n",
      "  - 256\n",
      "  - 256\n",
      "  norm_type: LayerNorm\n",
      "\n",
      "M12(\n",
      "  (fe_blocks): FeBlocks(\n",
      "    (blocks): ModuleList(\n",
      "      (0-1): 2 x FrontEndBlock(\n",
      "        (block): ModuleDict(\n",
      "          (layer): FirConvLayer(\n",
      "            (conv_layer): ResidualConv1d(\n",
      "              (pad_layer): PadForConv()\n",
      "              (stride_layer): DownsampleLayer(\n",
      "                (pad_right): PadForConv()\n",
      "              )\n",
      "              (norm_layer): CustomNormLayer(\n",
      "                (layer): LocalResponseNorm(2, alpha=0.0001, beta=0.75, k=1.0)\n",
      "              )\n",
      "              (act): NLReLU()\n",
      "            )\n",
      "          )\n",
      "          (downsample): ResidualConv1d(\n",
      "            (pad_layer): PadForConv()\n",
      "            (stride_layer): DownsampleLayer(\n",
      "              (pad_right): PadForConv()\n",
      "            )\n",
      "            (norm_layer): CustomNormLayer(\n",
      "              (layer): LocalResponseNorm(2, alpha=0.0001, beta=0.75, k=1.0)\n",
      "            )\n",
      "            (act): NLReLU()\n",
      "          )\n",
      "        )\n",
      "      )\n",
      "    )\n",
      "  )\n",
      "  (seq_blocks): Seq2OneBlocks(\n",
      "    (blocks): LSTM(97, 48, batch_first=True)\n",
      "  )\n",
      "  (cls_head): Classifier(\n",
      "    (blocks): ModuleList(\n",
      "      (0): Sequential(\n",
      "        (norm): LayerNorm((48,), eps=1e-05, elementwise_affine=True)\n",
      "        (layer): Linear(in_features=48, out_features=256, bias=True)\n",
      "      )\n",
      "      (1): Sequential(\n",
      "        (norm): LayerNorm((256,), eps=1e-05, elementwise_affine=True)\n",
      "        (layer): Linear(in_features=256, out_features=256, bias=True)\n",
      "      )\n",
      "    )\n",
      "    (act): LeakyReLU(negative_slope=0.01)\n",
      "    (output_layer): Linear(in_features=256, out_features=4, bias=True)\n",
      "  )\n",
      ")\n",
      "total parameters: 131172\n",
      "FE parameters: 22976\n"
     ]
    }
   ],
   "source": [
    "from IConNet.nn.model import M12\n",
    "from omegaconf import OmegaConf as ocf\n",
    "from IConNet.visualizer import visualize_model\n",
    "\n",
    "model_config_path = 'config/model/m12_debug.yaml'\n",
    "model_config = ocf.load(model_config_path)\n",
    "print(ocf.to_yaml(model_config))\n",
    "model = M12(config=model_config,\n",
    "           n_input=1, n_output=len(labels))\n",
    "print(model)\n",
    "\n",
    "print(f'total parameters: {visualize_model.count_parameters(model)}')\n",
    "print(f'FE parameters: {visualize_model.count_parameters(model.fe_blocks)}')"
   ]
  },
  {
   "cell_type": "code",
   "execution_count": 16,
   "id": "51668b8a-0ae1-44c6-bbac-026db0ab0129",
   "metadata": {},
   "outputs": [],
   "source": [
    "n_epoch = 10\n",
    "train_losses = []\n",
    "test_accuracy = []\n",
    "optimizer = optim.RAdam(model.parameters(), lr=0.0001)\n",
    "scheduler = optim.lr_scheduler.OneCycleLR(\n",
    "    optimizer, max_lr=0.01,\n",
    "    steps_per_epoch=len(train_loader), epochs=n_epoch)"
   ]
  },
  {
   "cell_type": "code",
   "execution_count": 17,
   "id": "9bd6cc53-2ea7-460f-a953-f1b7a0e746a1",
   "metadata": {},
   "outputs": [],
   "source": [
    "train_loader_length = len(train_loader.dataset)\n",
    "test_loader_length = len(test_loader.dataset)\n",
    "\n",
    "def train(model, epoch, log_interval, \n",
    "          train_losses=train_losses):\n",
    "    model.train()\n",
    "    for batch_idx, (data, target) in enumerate(train_loader):\n",
    "        try:\n",
    "            _mem_before = torch.cuda.memory_allocated()\n",
    "            data = data.to(device)\n",
    "            target = target.to(device)\n",
    "            output = model(data)\n",
    "            del data\n",
    "            gc.collect()\n",
    "            torch.cuda.empty_cache()\n",
    "            loss = F.cross_entropy(output.squeeze(), target)\n",
    "            _mem_during = torch.cuda.memory_allocated()\n",
    "            del target\n",
    "            gc.collect()\n",
    "            torch.cuda.empty_cache()\n",
    "            optimizer.zero_grad()\n",
    "            loss.backward()\n",
    "            nn.utils.clip_grad.clip_grad_norm_(\n",
    "                model.parameters(), 1.0)\n",
    "            optimizer.step()\n",
    "            _mem_after = torch.cuda.memory_allocated()\n",
    "            # print training stats\n",
    "            if batch_idx % log_interval == 0:\n",
    "                print(f\"Train Epoch: {epoch} [{batch_idx * batch_size}/{train_loader_length} ({100. * batch_idx / len(train_loader):.0f}%)]\\tLoss: {loss.item():.6f}\")\n",
    "                print(f'Mem before-during-after: {_mem_before} {_mem_during} {_mem_after}')\n",
    "            # update progress bar\n",
    "            pbar.update(pbar_update)\n",
    "            # record loss\n",
    "            train_losses.append(loss.item())\n",
    "        except Exception as e:\n",
    "            print(f'data: {data.shape} => output: {output.shape} | target: {target.shape}')\n",
    "            traceback.print_exc()\n",
    "\n",
    "@torch.no_grad\n",
    "def test(model, epoch):\n",
    "    model.eval()\n",
    "    correct = 0\n",
    "    total = 0\n",
    "    for data, target in test_loader:\n",
    "        total += len(target)\n",
    "        data = data.to(device)\n",
    "        target = target.to(device)\n",
    "        output = model(data).squeeze()\n",
    "        del data\n",
    "        gc.collect()\n",
    "        torch.cuda.empty_cache()\n",
    "        probs = F.softmax(output, dim=-1)\n",
    "        pred = probs.argmax(dim=-1)\n",
    "        correct += pred.eq(target).sum().item()\n",
    "        del target\n",
    "        gc.collect()\n",
    "        torch.cuda.empty_cache()\n",
    "        pbar.update(pbar_update)\n",
    "    acc = correct / test_loader_length\n",
    "    print(f\"\\nTest Epoch: {epoch}\\tAccuracy: {correct}/{total} ({100. * acc:.0f}%)\\n\")\n",
    "    return acc"
   ]
  },
  {
   "cell_type": "code",
   "execution_count": 18,
   "id": "5b603579-adcb-4716-bbda-bc97a2178bf0",
   "metadata": {
    "scrolled": true
   },
   "outputs": [
    {
     "name": "stderr",
     "output_type": "stream",
     "text": [
      "  0%|▏                                                                                                                                                                             | 0.007272727272727273/10 [00:00<12:14, 73.52s/it]"
     ]
    },
    {
     "name": "stdout",
     "output_type": "stream",
     "text": [
      "Train Epoch: 1 [0/3387 (0%)]\tLoss: 1.377795\n",
      "Mem before-during-after: 529408 57448448 20813312\n"
     ]
    },
    {
     "name": "stderr",
     "output_type": "stream",
     "text": [
      "  2%|██▋                                                                                                                                                                            | 0.15272727272727266/10 [00:06<07:02, 42.92s/it]"
     ]
    },
    {
     "name": "stdout",
     "output_type": "stream",
     "text": [
      "Train Epoch: 1 [640/3387 (19%)]\tLoss: 1.374426\n",
      "Mem before-during-after: 20813312 67582464 20813312\n"
     ]
    },
    {
     "name": "stderr",
     "output_type": "stream",
     "text": [
      "  3%|█████▏                                                                                                                                                                          | 0.2981818181818183/10 [00:13<07:00, 43.39s/it]"
     ]
    },
    {
     "name": "stdout",
     "output_type": "stream",
     "text": [
      "Train Epoch: 1 [1280/3387 (38%)]\tLoss: 1.396900\n",
      "Mem before-during-after: 20813312 67582464 20813312\n"
     ]
    },
    {
     "name": "stderr",
     "output_type": "stream",
     "text": [
      "  4%|███████▊                                                                                                                                                                        | 0.4436363636363647/10 [00:19<06:53, 43.24s/it]"
     ]
    },
    {
     "name": "stdout",
     "output_type": "stream",
     "text": [
      "Train Epoch: 1 [1920/3387 (57%)]\tLoss: 1.379001\n",
      "Mem before-during-after: 20813312 67582464 20813312\n"
     ]
    },
    {
     "name": "stderr",
     "output_type": "stream",
     "text": [
      "  6%|██████████▎                                                                                                                                                                     | 0.5890909090909111/10 [00:25<06:40, 42.54s/it]"
     ]
    },
    {
     "name": "stdout",
     "output_type": "stream",
     "text": [
      "Train Epoch: 1 [2560/3387 (76%)]\tLoss: 1.391945\n",
      "Mem before-during-after: 20813312 67582464 20813312\n"
     ]
    },
    {
     "name": "stderr",
     "output_type": "stream",
     "text": [
      "  7%|████████████▉                                                                                                                                                                   | 0.7345454545454575/10 [00:32<06:35, 42.67s/it]"
     ]
    },
    {
     "name": "stdout",
     "output_type": "stream",
     "text": [
      "Train Epoch: 1 [3200/3387 (95%)]\tLoss: 1.414638\n",
      "Mem before-during-after: 20813312 67582464 20813312\n"
     ]
    },
    {
     "name": "stderr",
     "output_type": "stream",
     "text": [
      " 10%|█████████████████▋                                                                                                                                                              | 1.0036363636363683/10 [00:43<06:23, 42.65s/it]"
     ]
    },
    {
     "name": "stdout",
     "output_type": "stream",
     "text": [
      "\n",
      "Test Epoch: 1\tAccuracy: 266/1024 (26%)\n",
      "\n",
      "Train Epoch: 2 [0/3387 (0%)]\tLoss: 1.411799\n",
      "Mem before-during-after: 20809216 67549696 20813312\n"
     ]
    },
    {
     "name": "stderr",
     "output_type": "stream",
     "text": [
      " 12%|████████████████████▎                                                                                                                                                           | 1.1527272727272784/10 [00:49<06:24, 43.51s/it]"
     ]
    },
    {
     "name": "stdout",
     "output_type": "stream",
     "text": [
      "Train Epoch: 2 [640/3387 (19%)]\tLoss: 1.367809\n",
      "Mem before-during-after: 20813312 67582464 20813312\n"
     ]
    },
    {
     "name": "stderr",
     "output_type": "stream",
     "text": [
      " 13%|██████████████████████▊                                                                                                                                                         | 1.2981818181818248/10 [00:56<06:09, 42.44s/it]"
     ]
    },
    {
     "name": "stdout",
     "output_type": "stream",
     "text": [
      "Train Epoch: 2 [1280/3387 (38%)]\tLoss: 1.367315\n",
      "Mem before-during-after: 20813312 67582464 20813312\n"
     ]
    },
    {
     "name": "stderr",
     "output_type": "stream",
     "text": [
      " 14%|█████████████████████████▍                                                                                                                                                      | 1.4436363636363712/10 [01:02<05:54, 41.47s/it]"
     ]
    },
    {
     "name": "stdout",
     "output_type": "stream",
     "text": [
      "Train Epoch: 2 [1920/3387 (57%)]\tLoss: 1.400432\n",
      "Mem before-during-after: 20813312 67582464 20813312\n"
     ]
    },
    {
     "name": "stderr",
     "output_type": "stream",
     "text": [
      " 16%|███████████████████████████▉                                                                                                                                                    | 1.5890909090909175/10 [01:08<05:55, 42.27s/it]"
     ]
    },
    {
     "name": "stdout",
     "output_type": "stream",
     "text": [
      "Train Epoch: 2 [2560/3387 (76%)]\tLoss: 1.331806\n",
      "Mem before-during-after: 20813312 67582464 20813312\n"
     ]
    },
    {
     "name": "stderr",
     "output_type": "stream",
     "text": [
      " 17%|██████████████████████████████▋                                                                                                                                                  | 1.734545454545464/10 [01:14<05:50, 42.36s/it]"
     ]
    },
    {
     "name": "stdout",
     "output_type": "stream",
     "text": [
      "Train Epoch: 2 [3200/3387 (95%)]\tLoss: 1.290818\n",
      "Mem before-during-after: 20813312 67582464 20813312\n"
     ]
    },
    {
     "name": "stderr",
     "output_type": "stream",
     "text": [
      " 20%|███████████████████████████████████▎                                                                                                                                            | 2.0036363636363745/10 [01:26<05:33, 41.75s/it]"
     ]
    },
    {
     "name": "stdout",
     "output_type": "stream",
     "text": [
      "\n",
      "Test Epoch: 2\tAccuracy: 317/1024 (31%)\n",
      "\n",
      "Train Epoch: 3 [0/3387 (0%)]\tLoss: 1.292667\n",
      "Mem before-during-after: 20809216 67549696 20813312\n"
     ]
    },
    {
     "name": "stderr",
     "output_type": "stream",
     "text": [
      " 22%|█████████████████████████████████████▉                                                                                                                                          | 2.1527272727272755/10 [01:32<05:40, 43.39s/it]"
     ]
    },
    {
     "name": "stdout",
     "output_type": "stream",
     "text": [
      "Train Epoch: 3 [640/3387 (19%)]\tLoss: 1.126521\n",
      "Mem before-during-after: 20813312 67582464 20813312\n"
     ]
    },
    {
     "name": "stderr",
     "output_type": "stream",
     "text": [
      " 23%|████████████████████████████████████████▋                                                                                                                                        | 2.298181818181813/10 [01:38<05:31, 43.09s/it]"
     ]
    },
    {
     "name": "stdout",
     "output_type": "stream",
     "text": [
      "Train Epoch: 3 [1280/3387 (38%)]\tLoss: 1.243106\n",
      "Mem before-during-after: 20813312 67582464 20813312\n"
     ]
    },
    {
     "name": "stderr",
     "output_type": "stream",
     "text": [
      " 24%|███████████████████████████████████████████                                                                                                                                     | 2.4436363636363505/10 [01:44<05:22, 42.72s/it]"
     ]
    },
    {
     "name": "stdout",
     "output_type": "stream",
     "text": [
      "Train Epoch: 3 [1920/3387 (57%)]\tLoss: 1.233959\n",
      "Mem before-during-after: 20813312 67582464 20813312\n"
     ]
    },
    {
     "name": "stderr",
     "output_type": "stream",
     "text": [
      " 26%|█████████████████████████████████████████████▊                                                                                                                                   | 2.589090909090888/10 [01:51<05:16, 42.70s/it]"
     ]
    },
    {
     "name": "stdout",
     "output_type": "stream",
     "text": [
      "Train Epoch: 3 [2560/3387 (76%)]\tLoss: 1.314065\n",
      "Mem before-during-after: 20813312 67582464 20813312\n"
     ]
    },
    {
     "name": "stderr",
     "output_type": "stream",
     "text": [
      " 27%|████████████████████████████████████████████████▏                                                                                                                               | 2.7345454545454255/10 [01:57<05:05, 42.01s/it]"
     ]
    },
    {
     "name": "stdout",
     "output_type": "stream",
     "text": [
      "Train Epoch: 3 [3200/3387 (95%)]\tLoss: 1.187943\n",
      "Mem before-during-after: 20813312 67582464 20813312\n"
     ]
    },
    {
     "name": "stderr",
     "output_type": "stream",
     "text": [
      " 30%|█████████████████████████████████████████████████████▍                                                                                                                            | 3.00363636363632/10 [02:08<04:54, 42.05s/it]"
     ]
    },
    {
     "name": "stdout",
     "output_type": "stream",
     "text": [
      "\n",
      "Test Epoch: 3\tAccuracy: 537/1024 (52%)\n",
      "\n",
      "Train Epoch: 4 [0/3387 (0%)]\tLoss: 1.116990\n",
      "Mem before-during-after: 20809216 67549696 20813312\n"
     ]
    },
    {
     "name": "stderr",
     "output_type": "stream",
     "text": [
      " 32%|███████████████████████████████████████████████████████▊                                                                                                                         | 3.152727272727221/10 [02:14<04:52, 42.78s/it]"
     ]
    },
    {
     "name": "stdout",
     "output_type": "stream",
     "text": [
      "Train Epoch: 4 [640/3387 (19%)]\tLoss: 1.073582\n",
      "Mem before-during-after: 20813312 67582464 20813312\n"
     ]
    },
    {
     "name": "stderr",
     "output_type": "stream",
     "text": [
      " 33%|██████████████████████████████████████████████████████████                                                                                                                      | 3.2981818181817584/10 [02:21<04:42, 42.09s/it]"
     ]
    },
    {
     "name": "stdout",
     "output_type": "stream",
     "text": [
      "Train Epoch: 4 [1280/3387 (38%)]\tLoss: 1.094732\n",
      "Mem before-during-after: 20813312 67582464 20813312\n"
     ]
    },
    {
     "name": "stderr",
     "output_type": "stream",
     "text": [
      " 34%|████████████████████████████████████████████████████████████▉                                                                                                                    | 3.443636363636296/10 [02:27<04:41, 42.94s/it]"
     ]
    },
    {
     "name": "stdout",
     "output_type": "stream",
     "text": [
      "Train Epoch: 4 [1920/3387 (57%)]\tLoss: 0.905862\n",
      "Mem before-during-after: 20813312 67582464 20813312\n"
     ]
    },
    {
     "name": "stderr",
     "output_type": "stream",
     "text": [
      " 36%|███████████████████████████████████████████████████████████████▏                                                                                                                | 3.5890909090908334/10 [02:33<04:28, 41.96s/it]"
     ]
    },
    {
     "name": "stdout",
     "output_type": "stream",
     "text": [
      "Train Epoch: 4 [2560/3387 (76%)]\tLoss: 1.056256\n",
      "Mem before-during-after: 20813312 67582464 20813312\n"
     ]
    },
    {
     "name": "stderr",
     "output_type": "stream",
     "text": [
      " 37%|██████████████████████████████████████████████████████████████████                                                                                                               | 3.734545454545371/10 [02:39<04:33, 43.64s/it]"
     ]
    },
    {
     "name": "stdout",
     "output_type": "stream",
     "text": [
      "Train Epoch: 4 [3200/3387 (95%)]\tLoss: 0.974414\n",
      "Mem before-during-after: 20813312 67582464 20813312\n"
     ]
    },
    {
     "name": "stderr",
     "output_type": "stream",
     "text": [
      " 40%|██████████████████████████████████████████████████████████████████████▊                                                                                                          | 4.003636363636265/10 [02:50<04:05, 40.88s/it]"
     ]
    },
    {
     "name": "stdout",
     "output_type": "stream",
     "text": [
      "\n",
      "Test Epoch: 4\tAccuracy: 533/1024 (52%)\n",
      "\n",
      "Train Epoch: 5 [0/3387 (0%)]\tLoss: 1.270797\n",
      "Mem before-during-after: 20809216 67549696 20813312\n"
     ]
    },
    {
     "name": "stderr",
     "output_type": "stream",
     "text": [
      " 42%|█████████████████████████████████████████████████████████████████████████                                                                                                       | 4.1527272727271844/10 [02:57<04:02, 41.44s/it]"
     ]
    },
    {
     "name": "stdout",
     "output_type": "stream",
     "text": [
      "Train Epoch: 5 [640/3387 (19%)]\tLoss: 1.046317\n",
      "Mem before-during-after: 20813312 67582464 20813312\n"
     ]
    },
    {
     "name": "stderr",
     "output_type": "stream",
     "text": [
      " 43%|████████████████████████████████████████████████████████████████████████████▌                                                                                                     | 4.29818181818174/10 [03:03<04:00, 42.26s/it]"
     ]
    },
    {
     "name": "stdout",
     "output_type": "stream",
     "text": [
      "Train Epoch: 5 [1280/3387 (38%)]\tLoss: 0.875638\n",
      "Mem before-during-after: 20813312 67582464 20813312\n"
     ]
    },
    {
     "name": "stderr",
     "output_type": "stream",
     "text": [
      " 44%|██████████████████████████████████████████████████████████████████████████████▋                                                                                                  | 4.443636363636295/10 [03:09<03:55, 42.34s/it]"
     ]
    },
    {
     "name": "stdout",
     "output_type": "stream",
     "text": [
      "Train Epoch: 5 [1920/3387 (57%)]\tLoss: 1.433824\n",
      "Mem before-during-after: 20813312 67582464 20813312\n"
     ]
    },
    {
     "name": "stderr",
     "output_type": "stream",
     "text": [
      " 46%|█████████████████████████████████████████████████████████████████████████████████▋                                                                                                | 4.58909090909085/10 [03:15<03:43, 41.31s/it]"
     ]
    },
    {
     "name": "stdout",
     "output_type": "stream",
     "text": [
      "Train Epoch: 5 [2560/3387 (76%)]\tLoss: 1.007363\n",
      "Mem before-during-after: 20813312 67582464 20813312\n"
     ]
    },
    {
     "name": "stderr",
     "output_type": "stream",
     "text": [
      " 47%|███████████████████████████████████████████████████████████████████████████████████▎                                                                                            | 4.7345454545454055/10 [03:21<03:45, 42.91s/it]"
     ]
    },
    {
     "name": "stdout",
     "output_type": "stream",
     "text": [
      "Train Epoch: 5 [3200/3387 (95%)]\tLoss: 1.294969\n",
      "Mem before-during-after: 20813312 67582464 20813312\n"
     ]
    },
    {
     "name": "stderr",
     "output_type": "stream",
     "text": [
      " 50%|████████████████████████████████████████████████████████████████████████████████████████▌                                                                                        | 5.003636363636333/10 [03:32<03:39, 43.85s/it]"
     ]
    },
    {
     "name": "stdout",
     "output_type": "stream",
     "text": [
      "\n",
      "Test Epoch: 5\tAccuracy: 536/1024 (52%)\n",
      "\n",
      "Train Epoch: 6 [0/3387 (0%)]\tLoss: 1.319820\n",
      "Mem before-during-after: 20809216 67549696 20813312\n"
     ]
    },
    {
     "name": "stderr",
     "output_type": "stream",
     "text": [
      " 52%|███████████████████████████████████████████████████████████████████████████████████████████▏                                                                                     | 5.152727272727252/10 [03:39<03:27, 42.86s/it]"
     ]
    },
    {
     "name": "stdout",
     "output_type": "stream",
     "text": [
      "Train Epoch: 6 [640/3387 (19%)]\tLoss: 1.571920\n",
      "Mem before-during-after: 20813312 67582464 20813312\n"
     ]
    },
    {
     "name": "stderr",
     "output_type": "stream",
     "text": [
      " 53%|█████████████████████████████████████████████████████████████████████████████████████████████▊                                                                                   | 5.298181818181807/10 [03:45<03:22, 43.04s/it]"
     ]
    },
    {
     "name": "stdout",
     "output_type": "stream",
     "text": [
      "Train Epoch: 6 [1280/3387 (38%)]\tLoss: 1.564631\n",
      "Mem before-during-after: 20813312 67582464 20813312\n"
     ]
    },
    {
     "name": "stderr",
     "output_type": "stream",
     "text": [
      " 54%|███████████████████████████████████████████████████████████████████████████████████████████████▊                                                                                | 5.4436363636363625/10 [03:51<03:21, 44.17s/it]"
     ]
    },
    {
     "name": "stdout",
     "output_type": "stream",
     "text": [
      "Train Epoch: 6 [1920/3387 (57%)]\tLoss: 0.915568\n",
      "Mem before-during-after: 20813312 67582464 20813312\n"
     ]
    },
    {
     "name": "stderr",
     "output_type": "stream",
     "text": [
      " 56%|██████████████████████████████████████████████████████████████████████████████████████████████████▉                                                                              | 5.589090909090918/10 [03:57<03:04, 41.73s/it]"
     ]
    },
    {
     "name": "stdout",
     "output_type": "stream",
     "text": [
      "Train Epoch: 6 [2560/3387 (76%)]\tLoss: 1.112807\n",
      "Mem before-during-after: 20813312 67582464 20813312\n"
     ]
    },
    {
     "name": "stderr",
     "output_type": "stream",
     "text": [
      " 57%|█████████████████████████████████████████████████████████████████████████████████████████████████████▌                                                                           | 5.734545454545473/10 [04:04<02:57, 41.62s/it]"
     ]
    },
    {
     "name": "stdout",
     "output_type": "stream",
     "text": [
      "Train Epoch: 6 [3200/3387 (95%)]\tLoss: 1.091099\n",
      "Mem before-during-after: 20813312 67582464 20813312\n"
     ]
    },
    {
     "name": "stderr",
     "output_type": "stream",
     "text": [
      " 60%|███████████████████████████████████████████████████████████████████████████████████████████████████████████▍                                                                       | 6.0036363636364/10 [04:14<02:41, 40.45s/it]"
     ]
    },
    {
     "name": "stdout",
     "output_type": "stream",
     "text": [
      "\n",
      "Test Epoch: 6\tAccuracy: 485/1024 (47%)\n",
      "\n",
      "Train Epoch: 7 [0/3387 (0%)]\tLoss: 1.252399\n",
      "Mem before-during-after: 20809216 67549696 20813312\n"
     ]
    },
    {
     "name": "stderr",
     "output_type": "stream",
     "text": [
      " 62%|████████████████████████████████████████████████████████████████████████████████████████████████████████████▎                                                                   | 6.1527272727273195/10 [04:21<02:45, 42.99s/it]"
     ]
    },
    {
     "name": "stdout",
     "output_type": "stream",
     "text": [
      "Train Epoch: 7 [640/3387 (19%)]\tLoss: 1.409300\n",
      "Mem before-during-after: 20813312 67582464 20813312\n"
     ]
    },
    {
     "name": "stderr",
     "output_type": "stream",
     "text": [
      " 63%|███████████████████████████████████████████████████████████████████████████████████████████████████████████████▍                                                                 | 6.298181818181875/10 [04:27<02:32, 41.21s/it]"
     ]
    },
    {
     "name": "stdout",
     "output_type": "stream",
     "text": [
      "Train Epoch: 7 [1280/3387 (38%)]\tLoss: 1.143350\n",
      "Mem before-during-after: 20813312 67582464 20813312\n"
     ]
    },
    {
     "name": "stderr",
     "output_type": "stream",
     "text": [
      " 64%|██████████████████████████████████████████████████████████████████████████████████████████████████████████████████▋                                                               | 6.44363636363643/10 [04:33<02:26, 41.06s/it]"
     ]
    },
    {
     "name": "stdout",
     "output_type": "stream",
     "text": [
      "Train Epoch: 7 [1920/3387 (57%)]\tLoss: 1.146609\n",
      "Mem before-during-after: 20813312 67582464 20813312\n"
     ]
    },
    {
     "name": "stderr",
     "output_type": "stream",
     "text": [
      " 66%|████████████████████████████████████████████████████████████████████████████████████████████████████████████████████▋                                                            | 6.589090909090985/10 [04:39<02:25, 42.52s/it]"
     ]
    },
    {
     "name": "stdout",
     "output_type": "stream",
     "text": [
      "Train Epoch: 7 [2560/3387 (76%)]\tLoss: 1.191893\n",
      "Mem before-during-after: 20813312 67582464 20813312\n"
     ]
    },
    {
     "name": "stderr",
     "output_type": "stream",
     "text": [
      " 67%|██████████████████████████████████████████████████████████████████████████████████████████████████████████████████████▌                                                         | 6.7345454545455405/10 [04:45<02:39, 48.75s/it]"
     ]
    },
    {
     "name": "stdout",
     "output_type": "stream",
     "text": [
      "Train Epoch: 7 [3200/3387 (95%)]\tLoss: 0.917877\n",
      "Mem before-during-after: 20813312 67582464 20813312\n"
     ]
    },
    {
     "name": "stderr",
     "output_type": "stream",
     "text": [
      " 70%|███████████████████████████████████████████████████████████████████████████████████████████████████████████████████████████▉                                                     | 7.003636363636468/10 [04:56<02:02, 40.80s/it]"
     ]
    },
    {
     "name": "stdout",
     "output_type": "stream",
     "text": [
      "\n",
      "Test Epoch: 7\tAccuracy: 541/1024 (53%)\n",
      "\n",
      "Train Epoch: 8 [0/3387 (0%)]\tLoss: 0.867222\n",
      "Mem before-during-after: 20809216 67549696 20813312\n"
     ]
    },
    {
     "name": "stderr",
     "output_type": "stream",
     "text": [
      " 72%|██████████████████████████████████████████████████████████████████████████████████████████████████████████████████████████████▌                                                  | 7.152727272727387/10 [05:02<01:58, 41.71s/it]"
     ]
    },
    {
     "name": "stdout",
     "output_type": "stream",
     "text": [
      "Train Epoch: 8 [640/3387 (19%)]\tLoss: 0.709401\n",
      "Mem before-during-after: 20813312 67582464 20813312\n"
     ]
    },
    {
     "name": "stderr",
     "output_type": "stream",
     "text": [
      " 73%|█████████████████████████████████████████████████████████████████████████████████████████████████████████████████████████████████▏                                               | 7.298181818181942/10 [05:08<01:52, 41.71s/it]"
     ]
    },
    {
     "name": "stdout",
     "output_type": "stream",
     "text": [
      "Train Epoch: 8 [1280/3387 (38%)]\tLoss: 1.158780\n",
      "Mem before-during-after: 20813312 67582464 20813312\n"
     ]
    },
    {
     "name": "stderr",
     "output_type": "stream",
     "text": [
      " 74%|███████████████████████████████████████████████████████████████████████████████████████████████████████████████████████████████████                                             | 7.4436363636364975/10 [05:15<01:48, 42.39s/it]"
     ]
    },
    {
     "name": "stdout",
     "output_type": "stream",
     "text": [
      "Train Epoch: 8 [1920/3387 (57%)]\tLoss: 1.439681\n",
      "Mem before-during-after: 20813312 67582464 20813312\n"
     ]
    },
    {
     "name": "stderr",
     "output_type": "stream",
     "text": [
      " 76%|██████████████████████████████████████████████████████████████████████████████████████████████████████████████████████████████████████▎                                          | 7.589090909091053/10 [05:21<01:41, 42.27s/it]"
     ]
    },
    {
     "name": "stdout",
     "output_type": "stream",
     "text": [
      "Train Epoch: 8 [2560/3387 (76%)]\tLoss: 1.362303\n",
      "Mem before-during-after: 20813312 67582464 20813312\n"
     ]
    },
    {
     "name": "stderr",
     "output_type": "stream",
     "text": [
      " 77%|████████████████████████████████████████████████████████████████████████████████████████████████████████████████████████████████████████▉                                        | 7.734545454545608/10 [05:27<01:34, 41.66s/it]"
     ]
    },
    {
     "name": "stdout",
     "output_type": "stream",
     "text": [
      "Train Epoch: 8 [3200/3387 (95%)]\tLoss: 0.937183\n",
      "Mem before-during-after: 20813312 67582464 20813312\n"
     ]
    },
    {
     "name": "stderr",
     "output_type": "stream",
     "text": [
      " 80%|█████████████████████████████████████████████████████████████████████████████████████████████████████████████████████████████████████████████▋                                   | 8.003636363636534/10 [05:38<01:21, 40.79s/it]"
     ]
    },
    {
     "name": "stdout",
     "output_type": "stream",
     "text": [
      "\n",
      "Test Epoch: 8\tAccuracy: 554/1024 (54%)\n",
      "\n",
      "Train Epoch: 9 [0/3387 (0%)]\tLoss: 0.977861\n",
      "Mem before-during-after: 20809216 67549696 20813312\n"
     ]
    },
    {
     "name": "stderr",
     "output_type": "stream",
     "text": [
      " 82%|████████████████████████████████████████████████████████████████████████████████████████████████████████████████████████████████████████████████▎                                | 8.152727272727454/10 [05:44<01:18, 42.75s/it]"
     ]
    },
    {
     "name": "stdout",
     "output_type": "stream",
     "text": [
      "Train Epoch: 9 [640/3387 (19%)]\tLoss: 0.860624\n",
      "Mem before-during-after: 20813312 67582464 20813312\n"
     ]
    },
    {
     "name": "stderr",
     "output_type": "stream",
     "text": [
      " 83%|██████████████████████████████████████████████████████████████████████████████████████████████████████████████████████████████████████████████████▉                              | 8.298181818182009/10 [05:51<01:12, 42.59s/it]"
     ]
    },
    {
     "name": "stdout",
     "output_type": "stream",
     "text": [
      "Train Epoch: 9 [1280/3387 (38%)]\tLoss: 0.913072\n",
      "Mem before-during-after: 20813312 67582464 20813312\n"
     ]
    },
    {
     "name": "stderr",
     "output_type": "stream",
     "text": [
      " 84%|█████████████████████████████████████████████████████████████████████████████████████████████████████████████████████████████████████████████████████▍                           | 8.443636363636564/10 [05:57<01:07, 43.52s/it]"
     ]
    },
    {
     "name": "stdout",
     "output_type": "stream",
     "text": [
      "Train Epoch: 9 [1920/3387 (57%)]\tLoss: 1.077910\n",
      "Mem before-during-after: 20813312 67582464 20813312\n"
     ]
    },
    {
     "name": "stderr",
     "output_type": "stream",
     "text": [
      " 86%|████████████████████████████████████████████████████████████████████████████████████████████████████████████████████████████████████████████████████████▉                         | 8.58909090909112/10 [06:03<01:00, 42.77s/it]"
     ]
    },
    {
     "name": "stdout",
     "output_type": "stream",
     "text": [
      "Train Epoch: 9 [2560/3387 (76%)]\tLoss: 1.152893\n",
      "Mem before-during-after: 20813312 67582464 20813312\n"
     ]
    },
    {
     "name": "stderr",
     "output_type": "stream",
     "text": [
      " 87%|██████████████████████████████████████████████████████████████████████████████████████████████████████████████████████████████████████████████████████████▌                      | 8.734545454545675/10 [06:09<00:52, 41.62s/it]"
     ]
    },
    {
     "name": "stdout",
     "output_type": "stream",
     "text": [
      "Train Epoch: 9 [3200/3387 (95%)]\tLoss: 0.983064\n",
      "Mem before-during-after: 20813312 67582464 20813312\n"
     ]
    },
    {
     "name": "stderr",
     "output_type": "stream",
     "text": [
      " 90%|███████████████████████████████████████████████████████████████████████████████████████████████████████████████████████████████████████████████████████████████▎                 | 9.003636363636602/10 [06:20<00:40, 40.91s/it]"
     ]
    },
    {
     "name": "stdout",
     "output_type": "stream",
     "text": [
      "\n",
      "Test Epoch: 9\tAccuracy: 486/1024 (47%)\n",
      "\n",
      "Train Epoch: 10 [0/3387 (0%)]\tLoss: 0.945338\n",
      "Mem before-during-after: 20809216 67549696 20813312\n"
     ]
    },
    {
     "name": "stderr",
     "output_type": "stream",
     "text": [
      " 92%|██████████████████████████████████████████████████████████████████████████████████████████████████████████████████████████████████████████████████████████████████               | 9.152727272727521/10 [06:26<00:35, 41.48s/it]"
     ]
    },
    {
     "name": "stdout",
     "output_type": "stream",
     "text": [
      "Train Epoch: 10 [640/3387 (19%)]\tLoss: 1.084177\n",
      "Mem before-during-after: 20813312 67582464 20813312\n"
     ]
    },
    {
     "name": "stderr",
     "output_type": "stream",
     "text": [
      " 93%|████████████████████████████████████████████████████████████████████████████████████████████████████████████████████████████████████████████████████████████████████▌            | 9.298181818182076/10 [06:33<00:29, 42.59s/it]"
     ]
    },
    {
     "name": "stdout",
     "output_type": "stream",
     "text": [
      "Train Epoch: 10 [1280/3387 (38%)]\tLoss: 1.221536\n",
      "Mem before-during-after: 20813312 67582464 20813312\n"
     ]
    },
    {
     "name": "stderr",
     "output_type": "stream",
     "text": [
      " 94%|███████████████████████████████████████████████████████████████████████████████████████████████████████████████████████████████████████████████████████████████████████▏         | 9.443636363636632/10 [06:39<00:23, 41.35s/it]"
     ]
    },
    {
     "name": "stdout",
     "output_type": "stream",
     "text": [
      "Train Epoch: 10 [1920/3387 (57%)]\tLoss: 0.976729\n",
      "Mem before-during-after: 20813312 67582464 20813312\n"
     ]
    },
    {
     "name": "stderr",
     "output_type": "stream",
     "text": [
      " 96%|█████████████████████████████████████████████████████████████████████████████████████████████████████████████████████████████████████████████████████████████████████████▋       | 9.589090909091187/10 [06:45<00:17, 43.26s/it]"
     ]
    },
    {
     "name": "stdout",
     "output_type": "stream",
     "text": [
      "Train Epoch: 10 [2560/3387 (76%)]\tLoss: 1.199216\n",
      "Mem before-during-after: 20813312 67582464 20813312\n"
     ]
    },
    {
     "name": "stderr",
     "output_type": "stream",
     "text": [
      " 97%|████████████████████████████████████████████████████████████████████████████████████████████████████████████████████████████████████████████████████████████████████████████▎    | 9.734545454545742/10 [06:51<00:11, 43.65s/it]"
     ]
    },
    {
     "name": "stdout",
     "output_type": "stream",
     "text": [
      "Train Epoch: 10 [3200/3387 (95%)]\tLoss: 1.050074\n",
      "Mem before-during-after: 20813312 67582464 20813312\n"
     ]
    },
    {
     "name": "stderr",
     "output_type": "stream",
     "text": [
      "100%|████████████████████████████████████████████████████████████████████████████████████████████████████████████████████████████████████████████████████████████████████████████████▉| 9.996363636363942/10 [07:02<00:00, 41.34s/it]/opt/anaconda3/envs/audio/lib/python3.9/site-packages/tqdm/std.py:639: TqdmWarning: clamping frac to range [0, 1]\n",
      "  full_bar = Bar(frac,\n",
      "100%|████████████████████████████████████████████████████████████████████████████████████████████████████████████████████████████████████████████████████████████████████████████████| 10.000000000000306/10 [07:02<00:00, 42.29s/it]"
     ]
    },
    {
     "name": "stdout",
     "output_type": "stream",
     "text": [
      "\n",
      "Test Epoch: 10\tAccuracy: 541/1024 (53%)\n",
      "\n"
     ]
    },
    {
     "name": "stderr",
     "output_type": "stream",
     "text": [
      "\n"
     ]
    }
   ],
   "source": [
    "log_interval = 40\n",
    "pbar_update = 1 / (len(train_loader) + len(test_loader))\n",
    "model.to(device)\n",
    "with tqdm(total=n_epoch) as pbar:\n",
    "    for epoch in range(1, n_epoch + 1):\n",
    "        train(model, epoch, log_interval, train_losses)\n",
    "        acc = test(model, epoch)\n",
    "        test_accuracy += [acc]\n",
    "        scheduler.step()"
   ]
  },
  {
   "cell_type": "code",
   "execution_count": 19,
   "id": "1fa1ecac-3026-4018-a3c8-520eeee6b391",
   "metadata": {},
   "outputs": [
    {
     "data": {
      "text/plain": [
       "[<matplotlib.lines.Line2D at 0x7f281c09cc70>]"
      ]
     },
     "execution_count": 19,
     "metadata": {},
     "output_type": "execute_result"
    },
    {
     "data": {
      "image/png": "[encoded data removed]",
      "text/plain": [
       "<Figure size 640x480 with 1 Axes>"
      ]
     },
     "metadata": {},
     "output_type": "display_data"
    }
   ],
   "source": [
    "plt.plot(train_losses)"
   ]
  },
  {
   "cell_type": "code",
   "execution_count": 20,
   "id": "9ed3d4fc-aae8-4c7b-961b-33f7d98c5768",
   "metadata": {},
   "outputs": [
    {
     "data": {
      "text/plain": [
       "[<matplotlib.lines.Line2D at 0x7f27fff83100>]"
      ]
     },
     "execution_count": 20,
     "metadata": {},
     "output_type": "execute_result"
    },
    {
     "data": {
      "image/png": "[encoded data removed]",
      "text/plain": [
       "<Figure size 640x480 with 1 Axes>"
      ]
     },
     "metadata": {},
     "output_type": "display_data"
    }
   ],
   "source": [
    "plt.plot(test_accuracy)"
   ]
  },
  {
   "cell_type": "code",
   "execution_count": 21,
   "id": "bc41ed22-000d-43b8-beaf-f19ada14d45b",
   "metadata": {},
   "outputs": [],
   "source": [
    "from torchmetrics.classification import (\n",
    "    MulticlassAccuracy, MulticlassPrecision, \n",
    "    MulticlassRecall, MulticlassF1Score, \n",
    "    MulticlassConfusionMatrix,\n",
    "    MulticlassAUROC\n",
    ")\n",
    "from torchmetrics import MetricCollection\n",
    "from pprint import pprint\n",
    "\n",
    "@torch.no_grad\n",
    "def report_metrics(model, labels=labels, \n",
    "                   test_loader=test_loader, device=device):\n",
    "    n = len(labels)\n",
    "    metrics = MetricCollection({\n",
    "        'acc_unweighted': MulticlassAccuracy(num_classes=n), \n",
    "        'acc_weighted': MulticlassAccuracy(num_classes=n, average='weighted'), \n",
    "        \n",
    "        'f1s': MulticlassF1Score(num_classes=n),  \n",
    "        'uar': MulticlassRecall(num_classes=n, average='macro'), \n",
    "        'wap': MulticlassPrecision(num_classes=n, average='weighted'),\n",
    "        \n",
    "        'f1s_detail': MulticlassF1Score(num_classes=n, average=None),  \n",
    "        'acc_detail': MulticlassAccuracy(num_classes=n, average=None), \n",
    "        'precision_detail': MulticlassPrecision(num_classes=n, average=None),\n",
    "        'recall_detail': MulticlassRecall(num_classes=n, average=None), \n",
    "        'rocauc': MulticlassAUROC(num_classes=n, average=None, thresholds=None)\n",
    "    }\n",
    "    # , compute_groups=[['acc', 'f1s', 'wap'], ['uap', 'uar']]\n",
    "                              ).to(device)\n",
    "    confusion_matrix = MulticlassConfusionMatrix(num_classes=n).to(device)\n",
    "    model.eval()\n",
    "    correct = 0\n",
    "    total = 0\n",
    "    for data, target in test_loader:\n",
    "        total += len(target)\n",
    "        \n",
    "        data = data.to(device)\n",
    "        target = target.to(device)\n",
    "        output = model(data).squeeze()\n",
    "        del data\n",
    "        gc.collect()\n",
    "        torch.cuda.empty_cache()\n",
    "        probs = F.softmax(output, dim=-1)\n",
    "        pred = probs.argmax(dim=-1)\n",
    "        correct += pred.eq(target).sum().item()\n",
    "        \n",
    "        metrics.update(probs, target)\n",
    "        confusion_matrix.update(pred, target)\n",
    "        \n",
    "        del target\n",
    "        gc.collect()\n",
    "        torch.cuda.empty_cache()\n",
    "        pbar.update(pbar_update)\n",
    "    print(f'Correct: {correct}/{total} ({correct/total:.4f})')\n",
    "    return metrics, confusion_matrix"
   ]
  },
  {
   "cell_type": "code",
   "execution_count": 22,
   "id": "b9d716e4-f0e0-49a4-82df-fbece96b0ab4",
   "metadata": {},
   "outputs": [
    {
     "name": "stdout",
     "output_type": "stream",
     "text": [
      "Correct: 542/1024 (0.5293)\n",
      "{'acc_detail': tensor([0.6128, 0.3596, 0.5303, 0.5902], device='cuda:0'),\n",
      " 'acc_unweighted': tensor(0.5232, device='cuda:0'),\n",
      " 'acc_weighted': tensor(0.5293, device='cuda:0'),\n",
      " 'f1s': tensor(0.5336, device='cuda:0'),\n",
      " 'f1s_detail': tensor([0.6667, 0.3761, 0.6278, 0.4638], device='cuda:0'),\n",
      " 'precision_detail': tensor([0.7309, 0.3942, 0.7692, 0.3820], device='cuda:0'),\n",
      " 'recall_detail': tensor([0.6128, 0.3596, 0.5303, 0.5902], device='cuda:0'),\n",
      " 'rocauc': tensor([0.9007, 0.7018, 0.8876, 0.6684], device='cuda:0'),\n",
      " 'uar': tensor(0.5232, device='cuda:0'),\n",
      " 'wap': tensor(0.5752, device='cuda:0')}\n"
     ]
    },
    {
     "data": {
      "text/plain": [
       "tensor([[163,   8,   0,  95],\n",
       "        [  6,  82,  26, 114],\n",
       "        [  2,  77, 140,  45],\n",
       "        [ 52,  41,  16, 157]], device='cuda:0')"
      ]
     },
     "execution_count": 22,
     "metadata": {},
     "output_type": "execute_result"
    }
   ],
   "source": [
    "metrics, confusion_matrix = report_metrics(\n",
    "    model, labels=labels, device=device)\n",
    "pprint(metrics.compute())\n",
    "confusion_matrix.compute()"
   ]
  },
  {
   "cell_type": "code",
   "execution_count": 23,
   "id": "66c3b02f-d05b-42b5-a250-ef26a35713c7",
   "metadata": {},
   "outputs": [],
   "source": [
    "model_path = '../models_cremad3/cremad_label4_m12new_10epochs.pt' \n",
    "torch.save(model.state_dict(), model_path)"
   ]
  },
  {
   "cell_type": "code",
   "execution_count": 24,
   "id": "2533383e-5005-45a3-9b02-834d99886a21",
   "metadata": {
    "scrolled": true
   },
   "outputs": [
    {
     "name": "stderr",
     "output_type": "stream",
     "text": [
      "  0%|                                                                                                                                                                              | 0.007272727272727273/50 [00:00<42:07, 50.56s/it]"
     ]
    },
    {
     "name": "stdout",
     "output_type": "stream",
     "text": [
      "Train Epoch: 11 [0/3387 (0%)]\tLoss: 1.297237\n",
      "Mem before-during-after: 19842560 66583040 20901376\n"
     ]
    },
    {
     "name": "stderr",
     "output_type": "stream",
     "text": [
      "  0%|▌                                                                                                                                                                              | 0.15272727272727266/50 [00:07<38:53, 46.82s/it]"
     ]
    },
    {
     "name": "stdout",
     "output_type": "stream",
     "text": [
      "Train Epoch: 11 [640/3387 (19%)]\tLoss: 1.052914\n",
      "Mem before-during-after: 20901376 67670528 20901376\n"
     ]
    },
    {
     "name": "stderr",
     "output_type": "stream",
     "text": [
      "  1%|█                                                                                                                                                                               | 0.2981818181818183/50 [00:14<38:39, 46.67s/it]"
     ]
    },
    {
     "name": "stdout",
     "output_type": "stream",
     "text": [
      "Train Epoch: 11 [1280/3387 (38%)]\tLoss: 0.964729\n",
      "Mem before-during-after: 20901376 67670528 20901376\n"
     ]
    },
    {
     "name": "stderr",
     "output_type": "stream",
     "text": [
      "  1%|█▌                                                                                                                                                                              | 0.4436363636363647/50 [00:21<39:36, 47.95s/it]"
     ]
    },
    {
     "name": "stdout",
     "output_type": "stream",
     "text": [
      "Train Epoch: 11 [1920/3387 (57%)]\tLoss: 1.169921\n",
      "Mem before-during-after: 20901376 67670528 20901376\n"
     ]
    },
    {
     "name": "stderr",
     "output_type": "stream",
     "text": [
      "  1%|██                                                                                                                                                                              | 0.5890909090909111/50 [00:27<39:40, 48.18s/it]"
     ]
    },
    {
     "name": "stdout",
     "output_type": "stream",
     "text": [
      "Train Epoch: 11 [2560/3387 (76%)]\tLoss: 1.155440\n",
      "Mem before-during-after: 20901376 67670528 20901376\n"
     ]
    },
    {
     "name": "stderr",
     "output_type": "stream",
     "text": [
      "  1%|██▌                                                                                                                                                                             | 0.7345454545454575/50 [00:34<38:05, 46.39s/it]"
     ]
    },
    {
     "name": "stdout",
     "output_type": "stream",
     "text": [
      "Train Epoch: 11 [3200/3387 (95%)]\tLoss: 1.117165\n",
      "Mem before-during-after: 20901376 67670528 20901376\n"
     ]
    },
    {
     "name": "stderr",
     "output_type": "stream",
     "text": [
      "  2%|███▌                                                                                                                                                                            | 1.0036363636363683/50 [00:47<37:11, 45.53s/it]"
     ]
    },
    {
     "name": "stdout",
     "output_type": "stream",
     "text": [
      "\n",
      "Test Epoch: 11\tAccuracy: 564/1024 (55%)\n",
      "\n",
      "saved model: ../models_cremad4/cremad_label4_m12new_best_11epoch.pt\n",
      "Train Epoch: 12 [0/3387 (0%)]\tLoss: 0.903225\n",
      "Mem before-during-after: 20897280 67637760 20901376\n"
     ]
    },
    {
     "name": "stderr",
     "output_type": "stream",
     "text": [
      "  2%|████                                                                                                                                                                            | 1.1527272727272784/50 [00:54<37:43, 46.34s/it]"
     ]
    },
    {
     "name": "stdout",
     "output_type": "stream",
     "text": [
      "Train Epoch: 12 [640/3387 (19%)]\tLoss: 0.920236\n",
      "Mem before-during-after: 20901376 67670528 20901376\n"
     ]
    },
    {
     "name": "stderr",
     "output_type": "stream",
     "text": [
      "  3%|████▌                                                                                                                                                                           | 1.2981818181818248/50 [01:00<37:53, 46.67s/it]"
     ]
    },
    {
     "name": "stdout",
     "output_type": "stream",
     "text": [
      "Train Epoch: 12 [1280/3387 (38%)]\tLoss: 0.926025\n",
      "Mem before-during-after: 20901376 67670528 20901376\n"
     ]
    },
    {
     "name": "stderr",
     "output_type": "stream",
     "text": [
      "  3%|█████                                                                                                                                                                           | 1.4436363636363712/50 [01:07<38:16, 47.30s/it]"
     ]
    },
    {
     "name": "stdout",
     "output_type": "stream",
     "text": [
      "Train Epoch: 12 [1920/3387 (57%)]\tLoss: 1.085978\n",
      "Mem before-during-after: 20901376 67670528 20901376\n"
     ]
    },
    {
     "name": "stderr",
     "output_type": "stream",
     "text": [
      "  3%|█████▌                                                                                                                                                                          | 1.5890909090909175/50 [01:14<38:00, 47.12s/it]"
     ]
    },
    {
     "name": "stdout",
     "output_type": "stream",
     "text": [
      "Train Epoch: 12 [2560/3387 (76%)]\tLoss: 1.251571\n",
      "Mem before-during-after: 20901376 67670528 20901376\n"
     ]
    },
    {
     "name": "stderr",
     "output_type": "stream",
     "text": [
      "  3%|██████▏                                                                                                                                                                          | 1.734545454545464/50 [01:21<37:33, 46.68s/it]"
     ]
    },
    {
     "name": "stdout",
     "output_type": "stream",
     "text": [
      "Train Epoch: 12 [3200/3387 (95%)]\tLoss: 1.064070\n",
      "Mem before-during-after: 20901376 67670528 20901376\n"
     ]
    },
    {
     "name": "stderr",
     "output_type": "stream",
     "text": [
      "  4%|███████                                                                                                                                                                         | 2.0036363636363745/50 [01:33<36:45, 45.95s/it]"
     ]
    },
    {
     "name": "stdout",
     "output_type": "stream",
     "text": [
      "\n",
      "Test Epoch: 12\tAccuracy: 540/1024 (53%)\n",
      "\n",
      "Train Epoch: 13 [0/3387 (0%)]\tLoss: 1.007611\n",
      "Mem before-during-after: 20897280 67637760 20901376\n"
     ]
    },
    {
     "name": "stderr",
     "output_type": "stream",
     "text": [
      "  4%|███████▌                                                                                                                                                                        | 2.1527272727272755/50 [01:40<37:22, 46.88s/it]"
     ]
    },
    {
     "name": "stdout",
     "output_type": "stream",
     "text": [
      "Train Epoch: 13 [640/3387 (19%)]\tLoss: 1.155510\n",
      "Mem before-during-after: 20901376 67670528 20901376\n"
     ]
    },
    {
     "name": "stderr",
     "output_type": "stream",
     "text": [
      "  5%|████████▏                                                                                                                                                                        | 2.298181818181813/50 [01:47<37:42, 47.43s/it]"
     ]
    },
    {
     "name": "stdout",
     "output_type": "stream",
     "text": [
      "Train Epoch: 13 [1280/3387 (38%)]\tLoss: 1.041550\n",
      "Mem before-during-after: 20901376 67670528 20901376\n"
     ]
    },
    {
     "name": "stderr",
     "output_type": "stream",
     "text": [
      "  5%|████████▌                                                                                                                                                                       | 2.4436363636363505/50 [01:54<37:02, 46.73s/it]"
     ]
    },
    {
     "name": "stdout",
     "output_type": "stream",
     "text": [
      "Train Epoch: 13 [1920/3387 (57%)]\tLoss: 1.001057\n",
      "Mem before-during-after: 20901376 67670528 20901376\n"
     ]
    },
    {
     "name": "stderr",
     "output_type": "stream",
     "text": [
      "  5%|█████████▏                                                                                                                                                                       | 2.589090909090888/50 [02:01<37:08, 47.01s/it]"
     ]
    },
    {
     "name": "stdout",
     "output_type": "stream",
     "text": [
      "Train Epoch: 13 [2560/3387 (76%)]\tLoss: 1.205683\n",
      "Mem before-during-after: 20901376 67670528 20901376\n"
     ]
    },
    {
     "name": "stderr",
     "output_type": "stream",
     "text": [
      "  5%|█████████▋                                                                                                                                                                      | 2.7345454545454255/50 [02:08<37:03, 47.03s/it]"
     ]
    },
    {
     "name": "stdout",
     "output_type": "stream",
     "text": [
      "Train Epoch: 13 [3200/3387 (95%)]\tLoss: 1.167415\n",
      "Mem before-during-after: 20901376 67670528 20901376\n"
     ]
    },
    {
     "name": "stderr",
     "output_type": "stream",
     "text": [
      "  6%|██████████▋                                                                                                                                                                       | 3.00363636363632/50 [02:20<35:47, 45.70s/it]"
     ]
    },
    {
     "name": "stdout",
     "output_type": "stream",
     "text": [
      "\n",
      "Test Epoch: 13\tAccuracy: 520/1024 (51%)\n",
      "\n",
      "Train Epoch: 14 [0/3387 (0%)]\tLoss: 1.198017\n",
      "Mem before-during-after: 20897280 67637760 20901376\n"
     ]
    },
    {
     "name": "stderr",
     "output_type": "stream",
     "text": [
      "  6%|███████████▏                                                                                                                                                                     | 3.152727272727221/50 [02:27<36:47, 47.12s/it]"
     ]
    },
    {
     "name": "stdout",
     "output_type": "stream",
     "text": [
      "Train Epoch: 14 [640/3387 (19%)]\tLoss: 1.048839\n",
      "Mem before-during-after: 20901376 67670528 20901376\n"
     ]
    },
    {
     "name": "stderr",
     "output_type": "stream",
     "text": [
      "  7%|███████████▌                                                                                                                                                                    | 3.2981818181817584/50 [02:34<36:21, 46.71s/it]"
     ]
    },
    {
     "name": "stdout",
     "output_type": "stream",
     "text": [
      "Train Epoch: 14 [1280/3387 (38%)]\tLoss: 1.053368\n",
      "Mem before-during-after: 20901376 67670528 20901376\n"
     ]
    },
    {
     "name": "stderr",
     "output_type": "stream",
     "text": [
      "  7%|████████████▏                                                                                                                                                                    | 3.443636363636296/50 [02:41<36:26, 46.97s/it]"
     ]
    },
    {
     "name": "stdout",
     "output_type": "stream",
     "text": [
      "Train Epoch: 14 [1920/3387 (57%)]\tLoss: 0.990620\n",
      "Mem before-during-after: 20901376 67670528 20901376\n"
     ]
    },
    {
     "name": "stderr",
     "output_type": "stream",
     "text": [
      "  7%|████████████▋                                                                                                                                                                   | 3.5890909090908334/50 [02:48<36:48, 47.58s/it]"
     ]
    },
    {
     "name": "stdout",
     "output_type": "stream",
     "text": [
      "Train Epoch: 14 [2560/3387 (76%)]\tLoss: 1.011881\n",
      "Mem before-during-after: 20901376 67670528 20901376\n"
     ]
    },
    {
     "name": "stderr",
     "output_type": "stream",
     "text": [
      "  7%|█████████████▏                                                                                                                                                                   | 3.734545454545371/50 [02:55<36:31, 47.37s/it]"
     ]
    },
    {
     "name": "stdout",
     "output_type": "stream",
     "text": [
      "Train Epoch: 14 [3200/3387 (95%)]\tLoss: 1.376244\n",
      "Mem before-during-after: 20901376 67670528 20901376\n"
     ]
    },
    {
     "name": "stderr",
     "output_type": "stream",
     "text": [
      "  8%|██████████████▏                                                                                                                                                                  | 4.003636363636265/50 [03:07<36:25, 47.51s/it]"
     ]
    },
    {
     "name": "stdout",
     "output_type": "stream",
     "text": [
      "\n",
      "Test Epoch: 14\tAccuracy: 525/1024 (51%)\n",
      "\n",
      "Train Epoch: 15 [0/3387 (0%)]\tLoss: 1.174716\n",
      "Mem before-during-after: 20897280 67637760 20901376\n"
     ]
    },
    {
     "name": "stderr",
     "output_type": "stream",
     "text": [
      "  8%|██████████████▌                                                                                                                                                                 | 4.1527272727271844/50 [03:14<35:29, 46.45s/it]"
     ]
    },
    {
     "name": "stdout",
     "output_type": "stream",
     "text": [
      "Train Epoch: 15 [640/3387 (19%)]\tLoss: 0.931229\n",
      "Mem before-during-after: 20901376 67670528 20901376\n"
     ]
    },
    {
     "name": "stderr",
     "output_type": "stream",
     "text": [
      "  9%|███████████████▎                                                                                                                                                                  | 4.29818181818174/50 [03:21<35:23, 46.47s/it]"
     ]
    },
    {
     "name": "stdout",
     "output_type": "stream",
     "text": [
      "Train Epoch: 15 [1280/3387 (38%)]\tLoss: 1.383000\n",
      "Mem before-during-after: 20901376 67670528 20901376\n"
     ]
    },
    {
     "name": "stderr",
     "output_type": "stream",
     "text": [
      "  9%|███████████████▋                                                                                                                                                                 | 4.443636363636295/50 [03:28<35:41, 47.00s/it]"
     ]
    },
    {
     "name": "stdout",
     "output_type": "stream",
     "text": [
      "Train Epoch: 15 [1920/3387 (57%)]\tLoss: 0.705379\n",
      "Mem before-during-after: 20901376 67670528 20901376\n"
     ]
    },
    {
     "name": "stderr",
     "output_type": "stream",
     "text": [
      "  9%|████████████████▎                                                                                                                                                                 | 4.58909090909085/50 [03:35<35:22, 46.74s/it]"
     ]
    },
    {
     "name": "stdout",
     "output_type": "stream",
     "text": [
      "Train Epoch: 15 [2560/3387 (76%)]\tLoss: 1.642656\n",
      "Mem before-during-after: 20901376 67670528 20901376\n"
     ]
    },
    {
     "name": "stderr",
     "output_type": "stream",
     "text": [
      "  9%|████████████████▋                                                                                                                                                               | 4.7345454545454055/50 [03:42<35:30, 47.06s/it]"
     ]
    },
    {
     "name": "stdout",
     "output_type": "stream",
     "text": [
      "Train Epoch: 15 [3200/3387 (95%)]\tLoss: 2.273494\n",
      "Mem before-during-after: 20901376 67670528 20901376\n"
     ]
    },
    {
     "name": "stderr",
     "output_type": "stream",
     "text": [
      " 10%|█████████████████▋                                                                                                                                                               | 5.003636363636333/50 [03:54<34:53, 46.52s/it]"
     ]
    },
    {
     "name": "stdout",
     "output_type": "stream",
     "text": [
      "\n",
      "Test Epoch: 15\tAccuracy: 424/1024 (41%)\n",
      "\n",
      "Train Epoch: 16 [0/3387 (0%)]\tLoss: 1.257752\n",
      "Mem before-during-after: 20897280 67637760 20901376\n"
     ]
    },
    {
     "name": "stderr",
     "output_type": "stream",
     "text": [
      " 10%|██████████████████▏                                                                                                                                                              | 5.152727272727252/50 [04:01<35:23, 47.36s/it]"
     ]
    },
    {
     "name": "stdout",
     "output_type": "stream",
     "text": [
      "Train Epoch: 16 [640/3387 (19%)]\tLoss: 1.130981\n",
      "Mem before-during-after: 20901376 67670528 20901376\n"
     ]
    },
    {
     "name": "stderr",
     "output_type": "stream",
     "text": [
      " 11%|██████████████████▊                                                                                                                                                              | 5.298181818181807/50 [04:08<35:28, 47.61s/it]"
     ]
    },
    {
     "name": "stdout",
     "output_type": "stream",
     "text": [
      "Train Epoch: 16 [1280/3387 (38%)]\tLoss: 1.048287\n",
      "Mem before-during-after: 20901376 67670528 20901376\n"
     ]
    },
    {
     "name": "stderr",
     "output_type": "stream",
     "text": [
      " 11%|███████████████████▎                                                                                                                                                             | 5.439999999999999/50 [04:15<35:21, 47.60s/it]"
     ]
    },
    {
     "name": "stdout",
     "output_type": "stream",
     "text": [
      "Train Epoch: 16 [1920/3387 (57%)]\tLoss: 1.377108\n",
      "Mem before-during-after: 20901376 67670528 20901376\n"
     ]
    },
    {
     "name": "stderr",
     "output_type": "stream",
     "text": [
      " 11%|███████████████████▊                                                                                                                                                             | 5.589090909090918/50 [04:22<34:13, 46.25s/it]"
     ]
    },
    {
     "name": "stdout",
     "output_type": "stream",
     "text": [
      "Train Epoch: 16 [2560/3387 (76%)]\tLoss: 1.303834\n",
      "Mem before-during-after: 20901376 67670528 20901376\n"
     ]
    },
    {
     "name": "stderr",
     "output_type": "stream",
     "text": [
      " 11%|████████████████████▎                                                                                                                                                            | 5.734545454545473/50 [04:29<34:15, 46.45s/it]"
     ]
    },
    {
     "name": "stdout",
     "output_type": "stream",
     "text": [
      "Train Epoch: 16 [3200/3387 (95%)]\tLoss: 1.046858\n",
      "Mem before-during-after: 20901376 67670528 20901376\n"
     ]
    },
    {
     "name": "stderr",
     "output_type": "stream",
     "text": [
      " 12%|█████████████████████▍                                                                                                                                                             | 6.0036363636364/50 [04:41<33:36, 45.84s/it]"
     ]
    },
    {
     "name": "stdout",
     "output_type": "stream",
     "text": [
      "\n",
      "Test Epoch: 16\tAccuracy: 540/1024 (53%)\n",
      "\n",
      "Train Epoch: 17 [0/3387 (0%)]\tLoss: 1.191986\n",
      "Mem before-during-after: 20897280 67637760 20901376\n"
     ]
    },
    {
     "name": "stderr",
     "output_type": "stream",
     "text": [
      " 12%|█████████████████████▋                                                                                                                                                          | 6.1527272727273195/50 [04:48<35:10, 48.12s/it]"
     ]
    },
    {
     "name": "stdout",
     "output_type": "stream",
     "text": [
      "Train Epoch: 17 [640/3387 (19%)]\tLoss: 1.315748\n",
      "Mem before-during-after: 20901376 67670528 20901376\n"
     ]
    },
    {
     "name": "stderr",
     "output_type": "stream",
     "text": [
      " 13%|██████████████████████▎                                                                                                                                                          | 6.298181818181875/50 [04:55<34:49, 47.81s/it]"
     ]
    },
    {
     "name": "stdout",
     "output_type": "stream",
     "text": [
      "Train Epoch: 17 [1280/3387 (38%)]\tLoss: 0.899369\n",
      "Mem before-during-after: 20901376 67670528 20901376\n"
     ]
    },
    {
     "name": "stderr",
     "output_type": "stream",
     "text": [
      " 13%|██████████████████████▉                                                                                                                                                           | 6.44363636363643/50 [05:02<34:15, 47.19s/it]"
     ]
    },
    {
     "name": "stdout",
     "output_type": "stream",
     "text": [
      "Train Epoch: 17 [1920/3387 (57%)]\tLoss: 1.072617\n",
      "Mem before-during-after: 20901376 67670528 20901376\n"
     ]
    },
    {
     "name": "stderr",
     "output_type": "stream",
     "text": [
      " 13%|███████████████████████▎                                                                                                                                                         | 6.589090909090985/50 [05:09<33:26, 46.22s/it]"
     ]
    },
    {
     "name": "stdout",
     "output_type": "stream",
     "text": [
      "Train Epoch: 17 [2560/3387 (76%)]\tLoss: 0.965476\n",
      "Mem before-during-after: 20901376 67670528 20901376\n"
     ]
    },
    {
     "name": "stderr",
     "output_type": "stream",
     "text": [
      " 13%|███████████████████████▋                                                                                                                                                        | 6.7345454545455405/50 [05:15<33:11, 46.03s/it]"
     ]
    },
    {
     "name": "stdout",
     "output_type": "stream",
     "text": [
      "Train Epoch: 17 [3200/3387 (95%)]\tLoss: 0.910001\n",
      "Mem before-during-after: 20901376 67670528 20901376\n"
     ]
    },
    {
     "name": "stderr",
     "output_type": "stream",
     "text": [
      " 14%|████████████████████████▊                                                                                                                                                        | 7.003636363636468/50 [05:28<32:50, 45.84s/it]"
     ]
    },
    {
     "name": "stdout",
     "output_type": "stream",
     "text": [
      "\n",
      "Test Epoch: 17\tAccuracy: 447/1024 (44%)\n",
      "\n",
      "Train Epoch: 18 [0/3387 (0%)]\tLoss: 1.375248\n",
      "Mem before-during-after: 20897280 67637760 20901376\n"
     ]
    },
    {
     "name": "stderr",
     "output_type": "stream",
     "text": [
      " 14%|█████████████████████████▎                                                                                                                                                       | 7.152727272727387/50 [05:35<33:05, 46.35s/it]"
     ]
    },
    {
     "name": "stdout",
     "output_type": "stream",
     "text": [
      "Train Epoch: 18 [640/3387 (19%)]\tLoss: 1.015807\n",
      "Mem before-during-after: 20901376 67670528 20901376\n"
     ]
    },
    {
     "name": "stderr",
     "output_type": "stream",
     "text": [
      " 15%|█████████████████████████▊                                                                                                                                                       | 7.298181818181942/50 [05:41<32:49, 46.12s/it]"
     ]
    },
    {
     "name": "stdout",
     "output_type": "stream",
     "text": [
      "Train Epoch: 18 [1280/3387 (38%)]\tLoss: 0.888424\n",
      "Mem before-during-after: 20901376 67670528 20901376\n"
     ]
    },
    {
     "name": "stderr",
     "output_type": "stream",
     "text": [
      " 15%|██████████████████████████▏                                                                                                                                                     | 7.4436363636364975/50 [05:48<32:51, 46.32s/it]"
     ]
    },
    {
     "name": "stdout",
     "output_type": "stream",
     "text": [
      "Train Epoch: 18 [1920/3387 (57%)]\tLoss: 1.581529\n",
      "Mem before-during-after: 20901376 67670528 20901376\n"
     ]
    },
    {
     "name": "stderr",
     "output_type": "stream",
     "text": [
      " 15%|██████████████████████████▊                                                                                                                                                      | 7.589090909091053/50 [05:55<33:29, 47.39s/it]"
     ]
    },
    {
     "name": "stdout",
     "output_type": "stream",
     "text": [
      "Train Epoch: 18 [2560/3387 (76%)]\tLoss: 1.075271\n",
      "Mem before-during-after: 20901376 67670528 20901376\n"
     ]
    },
    {
     "name": "stderr",
     "output_type": "stream",
     "text": [
      " 15%|███████████████████████████▍                                                                                                                                                     | 7.734545454545608/50 [06:02<33:20, 47.33s/it]"
     ]
    },
    {
     "name": "stdout",
     "output_type": "stream",
     "text": [
      "Train Epoch: 18 [3200/3387 (95%)]\tLoss: 1.209863\n",
      "Mem before-during-after: 20901376 67670528 20901376\n"
     ]
    },
    {
     "name": "stderr",
     "output_type": "stream",
     "text": [
      " 16%|████████████████████████████▎                                                                                                                                                    | 8.003636363636534/50 [06:14<32:29, 46.43s/it]"
     ]
    },
    {
     "name": "stdout",
     "output_type": "stream",
     "text": [
      "\n",
      "Test Epoch: 18\tAccuracy: 494/1024 (48%)\n",
      "\n",
      "Train Epoch: 19 [0/3387 (0%)]\tLoss: 1.050186\n",
      "Mem before-during-after: 20897280 67637760 20901376\n"
     ]
    },
    {
     "name": "stderr",
     "output_type": "stream",
     "text": [
      " 16%|████████████████████████████▊                                                                                                                                                    | 8.152727272727454/50 [06:21<32:16, 46.28s/it]"
     ]
    },
    {
     "name": "stdout",
     "output_type": "stream",
     "text": [
      "Train Epoch: 19 [640/3387 (19%)]\tLoss: 0.938535\n",
      "Mem before-during-after: 20901376 67670528 20901376\n"
     ]
    },
    {
     "name": "stderr",
     "output_type": "stream",
     "text": [
      " 17%|█████████████████████████████▍                                                                                                                                                   | 8.298181818182009/50 [06:28<32:47, 47.17s/it]"
     ]
    },
    {
     "name": "stdout",
     "output_type": "stream",
     "text": [
      "Train Epoch: 19 [1280/3387 (38%)]\tLoss: 0.951395\n",
      "Mem before-during-after: 20901376 67670528 20901376\n"
     ]
    },
    {
     "name": "stderr",
     "output_type": "stream",
     "text": [
      " 17%|█████████████████████████████▉                                                                                                                                                   | 8.443636363636564/50 [06:35<32:31, 46.97s/it]"
     ]
    },
    {
     "name": "stdout",
     "output_type": "stream",
     "text": [
      "Train Epoch: 19 [1920/3387 (57%)]\tLoss: 0.953680\n",
      "Mem before-during-after: 20901376 67670528 20901376\n"
     ]
    },
    {
     "name": "stderr",
     "output_type": "stream",
     "text": [
      " 17%|██████████████████████████████▌                                                                                                                                                   | 8.58909090909112/50 [06:42<33:18, 48.25s/it]"
     ]
    },
    {
     "name": "stdout",
     "output_type": "stream",
     "text": [
      "Train Epoch: 19 [2560/3387 (76%)]\tLoss: 1.084929\n",
      "Mem before-during-after: 20901376 67670528 20901376\n"
     ]
    },
    {
     "name": "stderr",
     "output_type": "stream",
     "text": [
      " 17%|██████████████████████████████▉                                                                                                                                                  | 8.734545454545675/50 [06:49<32:23, 47.09s/it]"
     ]
    },
    {
     "name": "stdout",
     "output_type": "stream",
     "text": [
      "Train Epoch: 19 [3200/3387 (95%)]\tLoss: 1.461206\n",
      "Mem before-during-after: 20901376 67670528 20901376\n"
     ]
    },
    {
     "name": "stderr",
     "output_type": "stream",
     "text": [
      " 18%|███████████████████████████████▊                                                                                                                                                 | 9.003636363636602/50 [07:01<31:43, 46.43s/it]"
     ]
    },
    {
     "name": "stdout",
     "output_type": "stream",
     "text": [
      "\n",
      "Test Epoch: 19\tAccuracy: 556/1024 (54%)\n",
      "\n",
      "Train Epoch: 20 [0/3387 (0%)]\tLoss: 0.892668\n",
      "Mem before-during-after: 20897280 67637760 20901376\n"
     ]
    },
    {
     "name": "stderr",
     "output_type": "stream",
     "text": [
      " 18%|████████████████████████████████▍                                                                                                                                                | 9.152727272727521/50 [07:08<32:23, 47.57s/it]"
     ]
    },
    {
     "name": "stdout",
     "output_type": "stream",
     "text": [
      "Train Epoch: 20 [640/3387 (19%)]\tLoss: 1.070279\n",
      "Mem before-during-after: 20901376 67670528 20901376\n"
     ]
    },
    {
     "name": "stderr",
     "output_type": "stream",
     "text": [
      " 19%|████████████████████████████████▉                                                                                                                                                | 9.298181818182076/50 [07:15<32:04, 47.28s/it]"
     ]
    },
    {
     "name": "stdout",
     "output_type": "stream",
     "text": [
      "Train Epoch: 20 [1280/3387 (38%)]\tLoss: 1.053984\n",
      "Mem before-during-after: 20901376 67670528 20901376\n"
     ]
    },
    {
     "name": "stderr",
     "output_type": "stream",
     "text": [
      " 19%|█████████████████████████████████▍                                                                                                                                               | 9.443636363636632/50 [07:22<32:13, 47.68s/it]"
     ]
    },
    {
     "name": "stdout",
     "output_type": "stream",
     "text": [
      "Train Epoch: 20 [1920/3387 (57%)]\tLoss: 1.236646\n",
      "Mem before-during-after: 20901376 67670528 20901376\n"
     ]
    },
    {
     "name": "stderr",
     "output_type": "stream",
     "text": [
      " 19%|█████████████████████████████████▉                                                                                                                                               | 9.589090909091187/50 [07:29<31:11, 46.31s/it]"
     ]
    },
    {
     "name": "stdout",
     "output_type": "stream",
     "text": [
      "Train Epoch: 20 [2560/3387 (76%)]\tLoss: 1.116217\n",
      "Mem before-during-after: 20901376 67670528 20901376\n"
     ]
    },
    {
     "name": "stderr",
     "output_type": "stream",
     "text": [
      " 19%|██████████████████████████████████▍                                                                                                                                              | 9.734545454545742/50 [07:36<30:58, 46.15s/it]"
     ]
    },
    {
     "name": "stdout",
     "output_type": "stream",
     "text": [
      "Train Epoch: 20 [3200/3387 (95%)]\tLoss: 1.259811\n",
      "Mem before-during-after: 20901376 67670528 20901376\n"
     ]
    },
    {
     "name": "stderr",
     "output_type": "stream",
     "text": [
      " 20%|███████████████████████████████████▍                                                                                                                                             | 10.00363636363667/50 [07:48<30:19, 45.48s/it]"
     ]
    },
    {
     "name": "stdout",
     "output_type": "stream",
     "text": [
      "\n",
      "Test Epoch: 20\tAccuracy: 559/1024 (55%)\n",
      "\n",
      "Train Epoch: 21 [0/3387 (0%)]\tLoss: 0.996246\n",
      "Mem before-during-after: 20897280 67637760 20901376\n"
     ]
    },
    {
     "name": "stderr",
     "output_type": "stream",
     "text": [
      " 20%|███████████████████████████████████▋                                                                                                                                            | 10.152727272727589/50 [07:55<30:48, 46.38s/it]"
     ]
    },
    {
     "name": "stdout",
     "output_type": "stream",
     "text": [
      "Train Epoch: 21 [640/3387 (19%)]\tLoss: 1.050189\n",
      "Mem before-during-after: 20901376 67670528 20901376\n"
     ]
    },
    {
     "name": "stderr",
     "output_type": "stream",
     "text": [
      " 21%|████████████████████████████████████▏                                                                                                                                           | 10.298181818182144/50 [08:02<30:40, 46.35s/it]"
     ]
    },
    {
     "name": "stdout",
     "output_type": "stream",
     "text": [
      "Train Epoch: 21 [1280/3387 (38%)]\tLoss: 0.962718\n",
      "Mem before-during-after: 20901376 67670528 20901376\n"
     ]
    },
    {
     "name": "stderr",
     "output_type": "stream",
     "text": [
      " 21%|█████████████████████████████████████▏                                                                                                                                            | 10.4436363636367/50 [08:08<30:28, 46.23s/it]"
     ]
    },
    {
     "name": "stdout",
     "output_type": "stream",
     "text": [
      "Train Epoch: 21 [1920/3387 (57%)]\tLoss: 0.625707\n",
      "Mem before-during-after: 20901376 67670528 20901376\n"
     ]
    },
    {
     "name": "stderr",
     "output_type": "stream",
     "text": [
      " 21%|█████████████████████████████████████▎                                                                                                                                          | 10.589090909091254/50 [08:15<30:34, 46.54s/it]"
     ]
    },
    {
     "name": "stdout",
     "output_type": "stream",
     "text": [
      "Train Epoch: 21 [2560/3387 (76%)]\tLoss: 0.794661\n",
      "Mem before-during-after: 20901376 67670528 20901376\n"
     ]
    },
    {
     "name": "stderr",
     "output_type": "stream",
     "text": [
      " 21%|██████████████████████████████████████                                                                                                                                           | 10.73454545454581/50 [08:22<30:15, 46.24s/it]"
     ]
    },
    {
     "name": "stdout",
     "output_type": "stream",
     "text": [
      "Train Epoch: 21 [3200/3387 (95%)]\tLoss: 0.863732\n",
      "Mem before-during-after: 20901376 67670528 20901376\n"
     ]
    },
    {
     "name": "stderr",
     "output_type": "stream",
     "text": [
      " 22%|██████████████████████████████████████▋                                                                                                                                         | 11.003636363636737/50 [08:34<29:26, 45.30s/it]"
     ]
    },
    {
     "name": "stdout",
     "output_type": "stream",
     "text": [
      "\n",
      "Test Epoch: 21\tAccuracy: 517/1024 (50%)\n",
      "\n",
      "Train Epoch: 22 [0/3387 (0%)]\tLoss: 1.582474\n",
      "Mem before-during-after: 20897280 67637760 20901376\n"
     ]
    },
    {
     "name": "stderr",
     "output_type": "stream",
     "text": [
      " 22%|███████████████████████████████████████▎                                                                                                                                        | 11.152727272727656/50 [08:41<29:50, 46.10s/it]"
     ]
    },
    {
     "name": "stdout",
     "output_type": "stream",
     "text": [
      "Train Epoch: 22 [640/3387 (19%)]\tLoss: 0.746244\n",
      "Mem before-during-after: 20901376 67670528 20901376\n"
     ]
    },
    {
     "name": "stderr",
     "output_type": "stream",
     "text": [
      " 23%|███████████████████████████████████████▊                                                                                                                                        | 11.298181818182211/50 [08:48<30:11, 46.80s/it]"
     ]
    },
    {
     "name": "stdout",
     "output_type": "stream",
     "text": [
      "Train Epoch: 22 [1280/3387 (38%)]\tLoss: 1.265491\n",
      "Mem before-during-after: 20901376 67670528 20901376\n"
     ]
    },
    {
     "name": "stderr",
     "output_type": "stream",
     "text": [
      " 23%|████████████████████████████████████████▎                                                                                                                                       | 11.443636363636767/50 [08:55<29:43, 46.26s/it]"
     ]
    },
    {
     "name": "stdout",
     "output_type": "stream",
     "text": [
      "Train Epoch: 22 [1920/3387 (57%)]\tLoss: 1.053565\n",
      "Mem before-during-after: 20901376 67670528 20901376\n"
     ]
    },
    {
     "name": "stderr",
     "output_type": "stream",
     "text": [
      " 23%|████████████████████████████████████████▊                                                                                                                                       | 11.589090909091322/50 [09:01<29:31, 46.12s/it]"
     ]
    },
    {
     "name": "stdout",
     "output_type": "stream",
     "text": [
      "Train Epoch: 22 [2560/3387 (76%)]\tLoss: 1.331198\n",
      "Mem before-during-after: 20901376 67670528 20901376\n"
     ]
    },
    {
     "name": "stderr",
     "output_type": "stream",
     "text": [
      " 23%|█████████████████████████████████████████▎                                                                                                                                      | 11.734545454545877/50 [09:08<34:13, 53.66s/it]"
     ]
    },
    {
     "name": "stdout",
     "output_type": "stream",
     "text": [
      "Train Epoch: 22 [3200/3387 (95%)]\tLoss: 0.820357\n",
      "Mem before-during-after: 20901376 67670528 20901376\n"
     ]
    },
    {
     "name": "stderr",
     "output_type": "stream",
     "text": [
      " 24%|██████████████████████████████████████████▎                                                                                                                                     | 12.003636363636804/50 [09:20<29:00, 45.82s/it]"
     ]
    },
    {
     "name": "stdout",
     "output_type": "stream",
     "text": [
      "\n",
      "Test Epoch: 22\tAccuracy: 422/1024 (41%)\n",
      "\n",
      "Train Epoch: 23 [0/3387 (0%)]\tLoss: 1.323982\n",
      "Mem before-during-after: 20897280 67637760 20901376\n"
     ]
    },
    {
     "name": "stderr",
     "output_type": "stream",
     "text": [
      " 24%|██████████████████████████████████████████▊                                                                                                                                     | 12.152727272727724/50 [09:27<29:31, 46.82s/it]"
     ]
    },
    {
     "name": "stdout",
     "output_type": "stream",
     "text": [
      "Train Epoch: 23 [640/3387 (19%)]\tLoss: 0.906880\n",
      "Mem before-during-after: 20901376 67670528 20901376\n"
     ]
    },
    {
     "name": "stderr",
     "output_type": "stream",
     "text": [
      " 25%|███████████████████████████████████████████▎                                                                                                                                    | 12.298181818182279/50 [09:34<29:07, 46.34s/it]"
     ]
    },
    {
     "name": "stdout",
     "output_type": "stream",
     "text": [
      "Train Epoch: 23 [1280/3387 (38%)]\tLoss: 0.932051\n",
      "Mem before-during-after: 20901376 67670528 20901376\n"
     ]
    },
    {
     "name": "stderr",
     "output_type": "stream",
     "text": [
      " 25%|███████████████████████████████████████████▊                                                                                                                                    | 12.443636363636834/50 [09:41<29:11, 46.63s/it]"
     ]
    },
    {
     "name": "stdout",
     "output_type": "stream",
     "text": [
      "Train Epoch: 23 [1920/3387 (57%)]\tLoss: 1.630647\n",
      "Mem before-during-after: 20901376 67670528 20901376\n"
     ]
    },
    {
     "name": "stderr",
     "output_type": "stream",
     "text": [
      " 25%|████████████████████████████████████████████▌                                                                                                                                    | 12.58909090909139/50 [09:48<29:16, 46.94s/it]"
     ]
    },
    {
     "name": "stdout",
     "output_type": "stream",
     "text": [
      "Train Epoch: 23 [2560/3387 (76%)]\tLoss: 1.011682\n",
      "Mem before-during-after: 20901376 67670528 20901376\n"
     ]
    },
    {
     "name": "stderr",
     "output_type": "stream",
     "text": [
      " 25%|████████████████████████████████████████████▊                                                                                                                                   | 12.734545454545945/50 [09:55<28:53, 46.52s/it]"
     ]
    },
    {
     "name": "stdout",
     "output_type": "stream",
     "text": [
      "Train Epoch: 23 [3200/3387 (95%)]\tLoss: 0.978001\n",
      "Mem before-during-after: 20901376 67670528 20901376\n"
     ]
    },
    {
     "name": "stderr",
     "output_type": "stream",
     "text": [
      " 26%|█████████████████████████████████████████████▊                                                                                                                                  | 13.003636363636872/50 [10:07<28:14, 45.81s/it]"
     ]
    },
    {
     "name": "stdout",
     "output_type": "stream",
     "text": [
      "\n",
      "Test Epoch: 23\tAccuracy: 579/1024 (56%)\n",
      "\n",
      "saved model: ../models_cremad4/cremad_label4_m12new_best_23epoch.pt\n",
      "Train Epoch: 24 [0/3387 (0%)]\tLoss: 0.621818\n",
      "Mem before-during-after: 20897280 67637760 20901376\n"
     ]
    },
    {
     "name": "stderr",
     "output_type": "stream",
     "text": [
      " 26%|██████████████████████████████████████████████▎                                                                                                                                 | 13.152727272727791/50 [10:14<28:41, 46.73s/it]"
     ]
    },
    {
     "name": "stdout",
     "output_type": "stream",
     "text": [
      "Train Epoch: 24 [640/3387 (19%)]\tLoss: 1.412263\n",
      "Mem before-during-after: 20901376 67670528 20901376\n"
     ]
    },
    {
     "name": "stderr",
     "output_type": "stream",
     "text": [
      " 27%|██████████████████████████████████████████████▊                                                                                                                                 | 13.298181818182346/50 [10:21<28:29, 46.59s/it]"
     ]
    },
    {
     "name": "stdout",
     "output_type": "stream",
     "text": [
      "Train Epoch: 24 [1280/3387 (38%)]\tLoss: 1.347856\n",
      "Mem before-during-after: 20901376 67670528 20901376\n"
     ]
    },
    {
     "name": "stderr",
     "output_type": "stream",
     "text": [
      " 27%|███████████████████████████████████████████████▎                                                                                                                                | 13.443636363636902/50 [10:28<28:41, 47.10s/it]"
     ]
    },
    {
     "name": "stdout",
     "output_type": "stream",
     "text": [
      "Train Epoch: 24 [1920/3387 (57%)]\tLoss: 1.289032\n",
      "Mem before-during-after: 20901376 67670528 20901376\n"
     ]
    },
    {
     "name": "stderr",
     "output_type": "stream",
     "text": [
      " 27%|███████████████████████████████████████████████▊                                                                                                                                | 13.589090909091457/50 [10:34<28:08, 46.37s/it]"
     ]
    },
    {
     "name": "stdout",
     "output_type": "stream",
     "text": [
      "Train Epoch: 24 [2560/3387 (76%)]\tLoss: 0.762430\n",
      "Mem before-during-after: 20901376 67670528 20901376\n"
     ]
    },
    {
     "name": "stderr",
     "output_type": "stream",
     "text": [
      " 27%|████████████████████████████████████████████████▎                                                                                                                               | 13.734545454546012/50 [10:41<27:58, 46.29s/it]"
     ]
    },
    {
     "name": "stdout",
     "output_type": "stream",
     "text": [
      "Train Epoch: 24 [3200/3387 (95%)]\tLoss: 1.230373\n",
      "Mem before-during-after: 20901376 67670528 20901376\n"
     ]
    },
    {
     "name": "stderr",
     "output_type": "stream",
     "text": [
      " 28%|█████████████████████████████████████████████████▌                                                                                                                               | 14.00363636363694/50 [10:53<27:16, 45.47s/it]"
     ]
    },
    {
     "name": "stdout",
     "output_type": "stream",
     "text": [
      "\n",
      "Test Epoch: 24\tAccuracy: 569/1024 (56%)\n",
      "\n",
      "Train Epoch: 25 [0/3387 (0%)]\tLoss: 1.200357\n",
      "Mem before-during-after: 20897280 67637760 20901376\n"
     ]
    },
    {
     "name": "stderr",
     "output_type": "stream",
     "text": [
      " 28%|█████████████████████████████████████████████████▊                                                                                                                              | 14.152727272727859/50 [11:00<27:50, 46.59s/it]"
     ]
    },
    {
     "name": "stdout",
     "output_type": "stream",
     "text": [
      "Train Epoch: 25 [640/3387 (19%)]\tLoss: 0.766058\n",
      "Mem before-during-after: 20901376 67670528 20901376\n"
     ]
    },
    {
     "name": "stderr",
     "output_type": "stream",
     "text": [
      " 29%|██████████████████████████████████████████████████▎                                                                                                                             | 14.298181818182414/50 [11:07<27:32, 46.29s/it]"
     ]
    },
    {
     "name": "stdout",
     "output_type": "stream",
     "text": [
      "Train Epoch: 25 [1280/3387 (38%)]\tLoss: 1.141459\n",
      "Mem before-during-after: 20901376 67670528 20901376\n"
     ]
    },
    {
     "name": "stderr",
     "output_type": "stream",
     "text": [
      " 29%|███████████████████████████████████████████████████▏                                                                                                                             | 14.44363636363697/50 [11:14<27:22, 46.21s/it]"
     ]
    },
    {
     "name": "stdout",
     "output_type": "stream",
     "text": [
      "Train Epoch: 25 [1920/3387 (57%)]\tLoss: 1.553048\n",
      "Mem before-during-after: 20901376 67670528 20901376\n"
     ]
    },
    {
     "name": "stderr",
     "output_type": "stream",
     "text": [
      " 29%|███████████████████████████████████████████████████▎                                                                                                                            | 14.589090909091524/50 [11:21<29:00, 49.14s/it]"
     ]
    },
    {
     "name": "stdout",
     "output_type": "stream",
     "text": [
      "Train Epoch: 25 [2560/3387 (76%)]\tLoss: 1.226726\n",
      "Mem before-during-after: 20901376 67670528 20901376\n"
     ]
    },
    {
     "name": "stderr",
     "output_type": "stream",
     "text": [
      " 29%|████████████████████████████████████████████████████▏                                                                                                                            | 14.73454545454608/50 [11:27<27:21, 46.53s/it]"
     ]
    },
    {
     "name": "stdout",
     "output_type": "stream",
     "text": [
      "Train Epoch: 25 [3200/3387 (95%)]\tLoss: 1.248188\n",
      "Mem before-during-after: 20901376 67670528 20901376\n"
     ]
    },
    {
     "name": "stderr",
     "output_type": "stream",
     "text": [
      " 30%|████████████████████████████████████████████████████▊                                                                                                                           | 15.003636363637007/50 [11:40<27:06, 46.47s/it]"
     ]
    },
    {
     "name": "stdout",
     "output_type": "stream",
     "text": [
      "\n",
      "Test Epoch: 25\tAccuracy: 562/1024 (55%)\n",
      "\n",
      "Train Epoch: 26 [0/3387 (0%)]\tLoss: 1.214039\n",
      "Mem before-during-after: 20897280 67637760 20901376\n"
     ]
    },
    {
     "name": "stderr",
     "output_type": "stream",
     "text": [
      " 30%|█████████████████████████████████████████████████████▎                                                                                                                          | 15.152727272727926/50 [11:47<27:31, 47.40s/it]"
     ]
    },
    {
     "name": "stdout",
     "output_type": "stream",
     "text": [
      "Train Epoch: 26 [640/3387 (19%)]\tLoss: 1.190348\n",
      "Mem before-during-after: 20901376 67670528 20901376\n"
     ]
    },
    {
     "name": "stderr",
     "output_type": "stream",
     "text": [
      " 31%|█████████████████████████████████████████████████████▊                                                                                                                          | 15.298181818182481/50 [11:54<27:27, 47.49s/it]"
     ]
    },
    {
     "name": "stdout",
     "output_type": "stream",
     "text": [
      "Train Epoch: 26 [1280/3387 (38%)]\tLoss: 1.536031\n",
      "Mem before-during-after: 20901376 67670528 20901376\n"
     ]
    },
    {
     "name": "stderr",
     "output_type": "stream",
     "text": [
      " 31%|██████████████████████████████████████████████████████▎                                                                                                                         | 15.443636363637037/50 [12:01<27:14, 47.29s/it]"
     ]
    },
    {
     "name": "stdout",
     "output_type": "stream",
     "text": [
      "Train Epoch: 26 [1920/3387 (57%)]\tLoss: 0.960822\n",
      "Mem before-during-after: 20901376 67670528 20901376\n"
     ]
    },
    {
     "name": "stderr",
     "output_type": "stream",
     "text": [
      " 31%|██████████████████████████████████████████████████████▊                                                                                                                         | 15.589090909091592/50 [12:07<27:31, 48.00s/it]"
     ]
    },
    {
     "name": "stdout",
     "output_type": "stream",
     "text": [
      "Train Epoch: 26 [2560/3387 (76%)]\tLoss: 1.085222\n",
      "Mem before-during-after: 20901376 67670528 20901376\n"
     ]
    },
    {
     "name": "stderr",
     "output_type": "stream",
     "text": [
      " 31%|███████████████████████████████████████████████████████▍                                                                                                                        | 15.734545454546147/50 [12:14<27:04, 47.40s/it]"
     ]
    },
    {
     "name": "stdout",
     "output_type": "stream",
     "text": [
      "Train Epoch: 26 [3200/3387 (95%)]\tLoss: 0.939433\n",
      "Mem before-during-after: 20901376 67670528 20901376\n"
     ]
    },
    {
     "name": "stderr",
     "output_type": "stream",
     "text": [
      " 32%|████████████████████████████████████████████████████████▎                                                                                                                       | 16.003636363637074/50 [12:27<25:47, 45.51s/it]"
     ]
    },
    {
     "name": "stdout",
     "output_type": "stream",
     "text": [
      "\n",
      "Test Epoch: 26\tAccuracy: 581/1024 (57%)\n",
      "\n",
      "saved model: ../models_cremad4/cremad_label4_m12new_best_26epoch.pt\n",
      "Train Epoch: 27 [0/3387 (0%)]\tLoss: 0.841120\n",
      "Mem before-during-after: 20897280 67637760 20901376\n"
     ]
    },
    {
     "name": "stderr",
     "output_type": "stream",
     "text": [
      " 32%|████████████████████████████████████████████████████████▊                                                                                                                       | 16.152727272727994/50 [12:34<26:02, 46.17s/it]"
     ]
    },
    {
     "name": "stdout",
     "output_type": "stream",
     "text": [
      "Train Epoch: 27 [640/3387 (19%)]\tLoss: 1.394511\n",
      "Mem before-during-after: 20901376 67670528 20901376\n"
     ]
    },
    {
     "name": "stderr",
     "output_type": "stream",
     "text": [
      " 33%|█████████████████████████████████████████████████████████▋                                                                                                                       | 16.29818181818255/50 [12:41<26:13, 46.69s/it]"
     ]
    },
    {
     "name": "stdout",
     "output_type": "stream",
     "text": [
      "Train Epoch: 27 [1280/3387 (38%)]\tLoss: 0.967664\n",
      "Mem before-during-after: 20901376 67670528 20901376\n"
     ]
    },
    {
     "name": "stderr",
     "output_type": "stream",
     "text": [
      " 33%|█████████████████████████████████████████████████████████▉                                                                                                                      | 16.443636363637104/50 [12:47<26:08, 46.75s/it]"
     ]
    },
    {
     "name": "stdout",
     "output_type": "stream",
     "text": [
      "Train Epoch: 27 [1920/3387 (57%)]\tLoss: 1.143913\n",
      "Mem before-during-after: 20901376 67670528 20901376\n"
     ]
    },
    {
     "name": "stderr",
     "output_type": "stream",
     "text": [
      " 33%|██████████████████████████████████████████████████████████▋                                                                                                                      | 16.58909090909166/50 [12:54<25:43, 46.19s/it]"
     ]
    },
    {
     "name": "stdout",
     "output_type": "stream",
     "text": [
      "Train Epoch: 27 [2560/3387 (76%)]\tLoss: 1.423885\n",
      "Mem before-during-after: 20901376 67670528 20901376\n"
     ]
    },
    {
     "name": "stderr",
     "output_type": "stream",
     "text": [
      " 33%|██████████████████████████████████████████████████████████▉                                                                                                                     | 16.734545454546215/50 [13:01<25:46, 46.50s/it]"
     ]
    },
    {
     "name": "stdout",
     "output_type": "stream",
     "text": [
      "Train Epoch: 27 [3200/3387 (95%)]\tLoss: 0.970181\n",
      "Mem before-during-after: 20901376 67670528 20901376\n"
     ]
    },
    {
     "name": "stderr",
     "output_type": "stream",
     "text": [
      " 34%|███████████████████████████████████████████████████████████▊                                                                                                                    | 17.003636363637142/50 [13:13<25:09, 45.76s/it]"
     ]
    },
    {
     "name": "stdout",
     "output_type": "stream",
     "text": [
      "\n",
      "Test Epoch: 27\tAccuracy: 586/1024 (57%)\n",
      "\n",
      "saved model: ../models_cremad4/cremad_label4_m12new_best_27epoch.pt\n",
      "Train Epoch: 28 [0/3387 (0%)]\tLoss: 0.848830\n",
      "Mem before-during-after: 20897280 67637760 20901376\n"
     ]
    },
    {
     "name": "stderr",
     "output_type": "stream",
     "text": [
      " 34%|████████████████████████████████████████████████████████████▋                                                                                                                    | 17.15272727272806/50 [13:20<25:16, 46.17s/it]"
     ]
    },
    {
     "name": "stdout",
     "output_type": "stream",
     "text": [
      "Train Epoch: 28 [640/3387 (19%)]\tLoss: 0.766507\n",
      "Mem before-during-after: 20901376 67670528 20901376\n"
     ]
    },
    {
     "name": "stderr",
     "output_type": "stream",
     "text": [
      " 35%|████████████████████████████████████████████████████████████▉                                                                                                                   | 17.298181818182616/50 [13:27<25:10, 46.20s/it]"
     ]
    },
    {
     "name": "stdout",
     "output_type": "stream",
     "text": [
      "Train Epoch: 28 [1280/3387 (38%)]\tLoss: 0.870676\n",
      "Mem before-during-after: 20901376 67670528 20901376\n"
     ]
    },
    {
     "name": "stderr",
     "output_type": "stream",
     "text": [
      " 35%|█████████████████████████████████████████████████████████████▊                                                                                                                   | 17.44363636363717/50 [13:34<25:08, 46.34s/it]"
     ]
    },
    {
     "name": "stdout",
     "output_type": "stream",
     "text": [
      "Train Epoch: 28 [1920/3387 (57%)]\tLoss: 0.738254\n",
      "Mem before-during-after: 20901376 67670528 20901376\n"
     ]
    },
    {
     "name": "stderr",
     "output_type": "stream",
     "text": [
      " 35%|█████████████████████████████████████████████████████████████▉                                                                                                                  | 17.589090909091727/50 [13:40<24:58, 46.25s/it]"
     ]
    },
    {
     "name": "stdout",
     "output_type": "stream",
     "text": [
      "Train Epoch: 28 [2560/3387 (76%)]\tLoss: 1.055031\n",
      "Mem before-during-after: 20901376 67670528 20901376\n"
     ]
    },
    {
     "name": "stderr",
     "output_type": "stream",
     "text": [
      " 35%|██████████████████████████████████████████████████████████████▍                                                                                                                 | 17.734545454546282/50 [13:47<24:49, 46.17s/it]"
     ]
    },
    {
     "name": "stdout",
     "output_type": "stream",
     "text": [
      "Train Epoch: 28 [3200/3387 (95%)]\tLoss: 0.840619\n",
      "Mem before-during-after: 20901376 67670528 20901376\n"
     ]
    },
    {
     "name": "stderr",
     "output_type": "stream",
     "text": [
      " 36%|███████████████████████████████████████████████████████████████▋                                                                                                                 | 18.00363636363721/50 [13:59<25:51, 48.50s/it]"
     ]
    },
    {
     "name": "stdout",
     "output_type": "stream",
     "text": [
      "\n",
      "Test Epoch: 28\tAccuracy: 559/1024 (55%)\n",
      "\n",
      "Train Epoch: 29 [0/3387 (0%)]\tLoss: 1.689223\n",
      "Mem before-during-after: 20897280 67637760 20901376\n"
     ]
    },
    {
     "name": "stderr",
     "output_type": "stream",
     "text": [
      " 36%|████████████████████████████████████████████████████████████████▎                                                                                                                | 18.15272727272813/50 [14:06<24:35, 46.33s/it]"
     ]
    },
    {
     "name": "stdout",
     "output_type": "stream",
     "text": [
      "Train Epoch: 29 [640/3387 (19%)]\tLoss: 1.234725\n",
      "Mem before-during-after: 20901376 67670528 20901376\n"
     ]
    },
    {
     "name": "stderr",
     "output_type": "stream",
     "text": [
      " 37%|████████████████████████████████████████████████████████████████▍                                                                                                               | 18.298181818182684/50 [14:13<24:37, 46.61s/it]"
     ]
    },
    {
     "name": "stdout",
     "output_type": "stream",
     "text": [
      "Train Epoch: 29 [1280/3387 (38%)]\tLoss: 1.432975\n",
      "Mem before-during-after: 20901376 67670528 20901376\n"
     ]
    },
    {
     "name": "stderr",
     "output_type": "stream",
     "text": [
      " 37%|█████████████████████████████████████████████████████████████████▎                                                                                                               | 18.44363636363724/50 [14:20<24:30, 46.61s/it]"
     ]
    },
    {
     "name": "stdout",
     "output_type": "stream",
     "text": [
      "Train Epoch: 29 [1920/3387 (57%)]\tLoss: 1.509462\n",
      "Mem before-during-after: 20901376 67670528 20901376\n"
     ]
    },
    {
     "name": "stderr",
     "output_type": "stream",
     "text": [
      " 37%|█████████████████████████████████████████████████████████████████▍                                                                                                              | 18.589090909091794/50 [14:27<24:13, 46.28s/it]"
     ]
    },
    {
     "name": "stdout",
     "output_type": "stream",
     "text": [
      "Train Epoch: 29 [2560/3387 (76%)]\tLoss: 0.977655\n",
      "Mem before-during-after: 20901376 67670528 20901376\n"
     ]
    },
    {
     "name": "stderr",
     "output_type": "stream",
     "text": [
      " 37%|██████████████████████████████████████████████████████████████████▎                                                                                                              | 18.73454545454635/50 [14:33<24:17, 46.61s/it]"
     ]
    },
    {
     "name": "stdout",
     "output_type": "stream",
     "text": [
      "Train Epoch: 29 [3200/3387 (95%)]\tLoss: 1.001930\n",
      "Mem before-during-after: 20901376 67670528 20901376\n"
     ]
    },
    {
     "name": "stderr",
     "output_type": "stream",
     "text": [
      " 38%|██████████████████████████████████████████████████████████████████▉                                                                                                             | 19.003636363637277/50 [14:46<23:35, 45.67s/it]"
     ]
    },
    {
     "name": "stdout",
     "output_type": "stream",
     "text": [
      "\n",
      "Test Epoch: 29\tAccuracy: 550/1024 (54%)\n",
      "\n",
      "Train Epoch: 30 [0/3387 (0%)]\tLoss: 0.893459\n",
      "Mem before-during-after: 20897280 67637760 20901376\n"
     ]
    },
    {
     "name": "stderr",
     "output_type": "stream",
     "text": [
      " 38%|███████████████████████████████████████████████████████████████████▍                                                                                                            | 19.152727272728196/50 [14:53<24:07, 46.94s/it]"
     ]
    },
    {
     "name": "stdout",
     "output_type": "stream",
     "text": [
      "Train Epoch: 30 [640/3387 (19%)]\tLoss: 1.467229\n",
      "Mem before-during-after: 20901376 67670528 20901376\n"
     ]
    },
    {
     "name": "stderr",
     "output_type": "stream",
     "text": [
      " 39%|████████████████████████████████████████████████████████████████████▎                                                                                                            | 19.29818181818275/50 [14:59<23:49, 46.57s/it]"
     ]
    },
    {
     "name": "stdout",
     "output_type": "stream",
     "text": [
      "Train Epoch: 30 [1280/3387 (38%)]\tLoss: 1.087329\n",
      "Mem before-during-after: 20901376 67670528 20901376\n"
     ]
    },
    {
     "name": "stderr",
     "output_type": "stream",
     "text": [
      " 39%|████████████████████████████████████████████████████████████████████▍                                                                                                           | 19.443636363637307/50 [15:06<23:42, 46.57s/it]"
     ]
    },
    {
     "name": "stdout",
     "output_type": "stream",
     "text": [
      "Train Epoch: 30 [1920/3387 (57%)]\tLoss: 1.293453\n",
      "Mem before-during-after: 20901376 67670528 20901376\n"
     ]
    },
    {
     "name": "stderr",
     "output_type": "stream",
     "text": [
      " 39%|████████████████████████████████████████████████████████████████████▉                                                                                                           | 19.589090909091862/50 [15:13<23:48, 46.98s/it]"
     ]
    },
    {
     "name": "stdout",
     "output_type": "stream",
     "text": [
      "Train Epoch: 30 [2560/3387 (76%)]\tLoss: 0.871799\n",
      "Mem before-during-after: 20901376 67670528 20901376\n"
     ]
    },
    {
     "name": "stderr",
     "output_type": "stream",
     "text": [
      " 39%|█████████████████████████████████████████████████████████████████████▍                                                                                                          | 19.734545454546417/50 [15:20<23:32, 46.67s/it]"
     ]
    },
    {
     "name": "stdout",
     "output_type": "stream",
     "text": [
      "Train Epoch: 30 [3200/3387 (95%)]\tLoss: 1.316371\n",
      "Mem before-during-after: 20901376 67670528 20901376\n"
     ]
    },
    {
     "name": "stderr",
     "output_type": "stream",
     "text": [
      " 40%|██████████████████████████████████████████████████████████████████████▍                                                                                                         | 20.003636363637344/50 [15:32<22:55, 45.85s/it]"
     ]
    },
    {
     "name": "stdout",
     "output_type": "stream",
     "text": [
      "\n",
      "Test Epoch: 30\tAccuracy: 517/1024 (50%)\n",
      "\n",
      "Train Epoch: 31 [0/3387 (0%)]\tLoss: 1.322142\n",
      "Mem before-during-after: 20897280 67637760 20901376\n"
     ]
    },
    {
     "name": "stderr",
     "output_type": "stream",
     "text": [
      " 40%|██████████████████████████████████████████████████████████████████████▉                                                                                                         | 20.152727272728264/50 [15:39<23:13, 46.70s/it]"
     ]
    },
    {
     "name": "stdout",
     "output_type": "stream",
     "text": [
      "Train Epoch: 31 [640/3387 (19%)]\tLoss: 1.008959\n",
      "Mem before-during-after: 20901376 67670528 20901376\n"
     ]
    },
    {
     "name": "stderr",
     "output_type": "stream",
     "text": [
      " 41%|███████████████████████████████████████████████████████████████████████▊                                                                                                         | 20.29818181818282/50 [15:46<23:54, 48.30s/it]"
     ]
    },
    {
     "name": "stdout",
     "output_type": "stream",
     "text": [
      "Train Epoch: 31 [1280/3387 (38%)]\tLoss: 0.906370\n",
      "Mem before-during-after: 20901376 67670528 20901376\n"
     ]
    },
    {
     "name": "stderr",
     "output_type": "stream",
     "text": [
      " 41%|███████████████████████████████████████████████████████████████████████▉                                                                                                        | 20.443636363637374/50 [15:53<22:56, 46.58s/it]"
     ]
    },
    {
     "name": "stdout",
     "output_type": "stream",
     "text": [
      "Train Epoch: 31 [1920/3387 (57%)]\tLoss: 1.226728\n",
      "Mem before-during-after: 20901376 67670528 20901376\n"
     ]
    },
    {
     "name": "stderr",
     "output_type": "stream",
     "text": [
      " 41%|████████████████████████████████████████████████████████████████████████▉                                                                                                        | 20.58909090909193/50 [16:00<22:52, 46.67s/it]"
     ]
    },
    {
     "name": "stdout",
     "output_type": "stream",
     "text": [
      "Train Epoch: 31 [2560/3387 (76%)]\tLoss: 1.222454\n",
      "Mem before-during-after: 20901376 67670528 20901376\n"
     ]
    },
    {
     "name": "stderr",
     "output_type": "stream",
     "text": [
      " 41%|████████████████████████████████████████████████████████████████████████▉                                                                                                       | 20.734545454546485/50 [16:07<22:37, 46.38s/it]"
     ]
    },
    {
     "name": "stdout",
     "output_type": "stream",
     "text": [
      "Train Epoch: 31 [3200/3387 (95%)]\tLoss: 1.077001\n",
      "Mem before-during-after: 20901376 67670528 20901376\n"
     ]
    },
    {
     "name": "stderr",
     "output_type": "stream",
     "text": [
      " 42%|█████████████████████████████████████████████████████████████████████████▉                                                                                                      | 21.003636363637412/50 [16:19<22:25, 46.40s/it]"
     ]
    },
    {
     "name": "stdout",
     "output_type": "stream",
     "text": [
      "\n",
      "Test Epoch: 31\tAccuracy: 583/1024 (57%)\n",
      "\n",
      "Train Epoch: 32 [0/3387 (0%)]\tLoss: 0.896201\n",
      "Mem before-during-after: 20897280 67637760 20901376\n"
     ]
    },
    {
     "name": "stderr",
     "output_type": "stream",
     "text": [
      " 42%|██████████████████████████████████████████████████████████████████████████▉                                                                                                      | 21.15272727272833/50 [16:26<22:17, 46.37s/it]"
     ]
    },
    {
     "name": "stdout",
     "output_type": "stream",
     "text": [
      "Train Epoch: 32 [640/3387 (19%)]\tLoss: 0.702289\n",
      "Mem before-during-after: 20901376 67670528 20901376\n"
     ]
    },
    {
     "name": "stderr",
     "output_type": "stream",
     "text": [
      " 43%|██████████████████████████████████████████████████████████████████████████▉                                                                                                     | 21.298181818182886/50 [16:33<22:12, 46.42s/it]"
     ]
    },
    {
     "name": "stdout",
     "output_type": "stream",
     "text": [
      "Train Epoch: 32 [1280/3387 (38%)]\tLoss: 1.329827\n",
      "Mem before-during-after: 20901376 67670528 20901376\n"
     ]
    },
    {
     "name": "stderr",
     "output_type": "stream",
     "text": [
      " 43%|███████████████████████████████████████████████████████████████████████████▉                                                                                                     | 21.44363636363744/50 [16:40<22:01, 46.27s/it]"
     ]
    },
    {
     "name": "stdout",
     "output_type": "stream",
     "text": [
      "Train Epoch: 32 [1920/3387 (57%)]\tLoss: 0.994166\n",
      "Mem before-during-after: 20901376 67670528 20901376\n"
     ]
    },
    {
     "name": "stderr",
     "output_type": "stream",
     "text": [
      " 43%|███████████████████████████████████████████████████████████████████████████▉                                                                                                    | 21.589090909091997/50 [16:46<21:56, 46.32s/it]"
     ]
    },
    {
     "name": "stdout",
     "output_type": "stream",
     "text": [
      "Train Epoch: 32 [2560/3387 (76%)]\tLoss: 0.938138\n",
      "Mem before-during-after: 20901376 67670528 20901376\n"
     ]
    },
    {
     "name": "stderr",
     "output_type": "stream",
     "text": [
      " 43%|████████████████████████████████████████████████████████████████████████████▌                                                                                                   | 21.734545454546552/50 [16:53<21:50, 46.35s/it]"
     ]
    },
    {
     "name": "stdout",
     "output_type": "stream",
     "text": [
      "Train Epoch: 32 [3200/3387 (95%)]\tLoss: 1.267564\n",
      "Mem before-during-after: 20901376 67670528 20901376\n"
     ]
    },
    {
     "name": "stderr",
     "output_type": "stream",
     "text": [
      " 44%|█████████████████████████████████████████████████████████████████████████████▉                                                                                                   | 22.00363636363748/50 [17:05<21:11, 45.43s/it]"
     ]
    },
    {
     "name": "stdout",
     "output_type": "stream",
     "text": [
      "\n",
      "Test Epoch: 32\tAccuracy: 572/1024 (56%)\n",
      "\n",
      "Train Epoch: 33 [0/3387 (0%)]\tLoss: 0.870637\n",
      "Mem before-during-after: 20897280 67637760 20901376\n"
     ]
    },
    {
     "name": "stderr",
     "output_type": "stream",
     "text": [
      " 44%|██████████████████████████████████████████████████████████████████████████████▊                                                                                                   | 22.1527272727284/50 [17:12<24:45, 53.33s/it]"
     ]
    },
    {
     "name": "stdout",
     "output_type": "stream",
     "text": [
      "Train Epoch: 33 [640/3387 (19%)]\tLoss: 1.129955\n",
      "Mem before-during-after: 20901376 67670528 20901376\n"
     ]
    },
    {
     "name": "stderr",
     "output_type": "stream",
     "text": [
      " 45%|██████████████████████████████████████████████████████████████████████████████▍                                                                                                 | 22.298181818182954/50 [17:19<21:21, 46.27s/it]"
     ]
    },
    {
     "name": "stdout",
     "output_type": "stream",
     "text": [
      "Train Epoch: 33 [1280/3387 (38%)]\tLoss: 0.898003\n",
      "Mem before-during-after: 20901376 67670528 20901376\n"
     ]
    },
    {
     "name": "stderr",
     "output_type": "stream",
     "text": [
      " 45%|███████████████████████████████████████████████████████████████████████████████▍                                                                                                 | 22.44363636363751/50 [17:26<21:17, 46.36s/it]"
     ]
    },
    {
     "name": "stdout",
     "output_type": "stream",
     "text": [
      "Train Epoch: 33 [1920/3387 (57%)]\tLoss: 0.857942\n",
      "Mem before-during-after: 20901376 67670528 20901376\n"
     ]
    },
    {
     "name": "stderr",
     "output_type": "stream",
     "text": [
      " 45%|███████████████████████████████████████████████████████████████████████████████▌                                                                                                | 22.589090909092064/50 [17:33<21:12, 46.43s/it]"
     ]
    },
    {
     "name": "stdout",
     "output_type": "stream",
     "text": [
      "Train Epoch: 33 [2560/3387 (76%)]\tLoss: 0.792225\n",
      "Mem before-during-after: 20901376 67670528 20901376\n"
     ]
    },
    {
     "name": "stderr",
     "output_type": "stream",
     "text": [
      " 45%|████████████████████████████████████████████████████████████████████████████████▍                                                                                                | 22.73454545454662/50 [17:39<20:59, 46.18s/it]"
     ]
    },
    {
     "name": "stdout",
     "output_type": "stream",
     "text": [
      "Train Epoch: 33 [3200/3387 (95%)]\tLoss: 1.001028\n",
      "Mem before-during-after: 20901376 67670528 20901376\n"
     ]
    },
    {
     "name": "stderr",
     "output_type": "stream",
     "text": [
      " 46%|████████████████████████████████████████████████████████████████████████████████▉                                                                                               | 23.003636363637547/50 [17:52<20:23, 45.31s/it]"
     ]
    },
    {
     "name": "stdout",
     "output_type": "stream",
     "text": [
      "\n",
      "Test Epoch: 33\tAccuracy: 584/1024 (57%)\n",
      "\n",
      "Train Epoch: 34 [0/3387 (0%)]\tLoss: 0.831976\n",
      "Mem before-during-after: 20897280 67637760 20901376\n"
     ]
    },
    {
     "name": "stderr",
     "output_type": "stream",
     "text": [
      " 46%|█████████████████████████████████████████████████████████████████████████████████▍                                                                                              | 23.152727272728466/50 [17:58<20:48, 46.51s/it]"
     ]
    },
    {
     "name": "stdout",
     "output_type": "stream",
     "text": [
      "Train Epoch: 34 [640/3387 (19%)]\tLoss: 0.967317\n",
      "Mem before-during-after: 20901376 67670528 20901376\n"
     ]
    },
    {
     "name": "stderr",
     "output_type": "stream",
     "text": [
      " 47%|██████████████████████████████████████████████████████████████████████████████████▍                                                                                              | 23.29818181818302/50 [18:05<20:35, 46.27s/it]"
     ]
    },
    {
     "name": "stdout",
     "output_type": "stream",
     "text": [
      "Train Epoch: 34 [1280/3387 (38%)]\tLoss: 1.135757\n",
      "Mem before-during-after: 20901376 67670528 20901376\n"
     ]
    },
    {
     "name": "stderr",
     "output_type": "stream",
     "text": [
      " 47%|██████████████████████████████████████████████████████████████████████████████████▌                                                                                             | 23.443636363637577/50 [18:12<20:24, 46.11s/it]"
     ]
    },
    {
     "name": "stdout",
     "output_type": "stream",
     "text": [
      "Train Epoch: 34 [1920/3387 (57%)]\tLoss: 0.988363\n",
      "Mem before-during-after: 20901376 67670528 20901376\n"
     ]
    },
    {
     "name": "stderr",
     "output_type": "stream",
     "text": [
      " 47%|███████████████████████████████████████████████████████████████████████████████████                                                                                             | 23.589090909092132/50 [18:19<20:23, 46.32s/it]"
     ]
    },
    {
     "name": "stdout",
     "output_type": "stream",
     "text": [
      "Train Epoch: 34 [2560/3387 (76%)]\tLoss: 0.973039\n",
      "Mem before-during-after: 20901376 67670528 20901376\n"
     ]
    },
    {
     "name": "stderr",
     "output_type": "stream",
     "text": [
      " 47%|███████████████████████████████████████████████████████████████████████████████████▌                                                                                            | 23.734545454546687/50 [18:25<20:13, 46.22s/it]"
     ]
    },
    {
     "name": "stdout",
     "output_type": "stream",
     "text": [
      "Train Epoch: 34 [3200/3387 (95%)]\tLoss: 0.975124\n",
      "Mem before-during-after: 20901376 67670528 20901376\n"
     ]
    },
    {
     "name": "stderr",
     "output_type": "stream",
     "text": [
      " 48%|████████████████████████████████████████████████████████████████████████████████████▍                                                                                           | 24.003636363637614/50 [18:38<20:16, 46.80s/it]"
     ]
    },
    {
     "name": "stdout",
     "output_type": "stream",
     "text": [
      "\n",
      "Test Epoch: 34\tAccuracy: 570/1024 (56%)\n",
      "\n",
      "Train Epoch: 35 [0/3387 (0%)]\tLoss: 0.966905\n",
      "Mem before-during-after: 20897280 67637760 20901376\n"
     ]
    },
    {
     "name": "stderr",
     "output_type": "stream",
     "text": [
      " 48%|█████████████████████████████████████████████████████████████████████████████████████                                                                                           | 24.152727272728534/50 [18:45<19:59, 46.39s/it]"
     ]
    },
    {
     "name": "stdout",
     "output_type": "stream",
     "text": [
      "Train Epoch: 35 [640/3387 (19%)]\tLoss: 1.651650\n",
      "Mem before-during-after: 20901376 67670528 20901376\n"
     ]
    },
    {
     "name": "stderr",
     "output_type": "stream",
     "text": [
      " 49%|██████████████████████████████████████████████████████████████████████████████████████                                                                                           | 24.29818181818309/50 [18:52<19:55, 46.50s/it]"
     ]
    },
    {
     "name": "stdout",
     "output_type": "stream",
     "text": [
      "Train Epoch: 35 [1280/3387 (38%)]\tLoss: 0.883113\n",
      "Mem before-during-after: 20901376 67670528 20901376\n"
     ]
    },
    {
     "name": "stderr",
     "output_type": "stream",
     "text": [
      " 49%|██████████████████████████████████████████████████████████████████████████████████████                                                                                          | 24.443636363637644/50 [18:58<19:55, 46.79s/it]"
     ]
    },
    {
     "name": "stdout",
     "output_type": "stream",
     "text": [
      "Train Epoch: 35 [1920/3387 (57%)]\tLoss: 0.946780\n",
      "Mem before-during-after: 20901376 67670528 20901376\n"
     ]
    },
    {
     "name": "stderr",
     "output_type": "stream",
     "text": [
      " 49%|███████████████████████████████████████████████████████████████████████████████████████▌                                                                                          | 24.5890909090922/50 [19:05<19:40, 46.45s/it]"
     ]
    },
    {
     "name": "stdout",
     "output_type": "stream",
     "text": [
      "Train Epoch: 35 [2560/3387 (76%)]\tLoss: 1.293040\n",
      "Mem before-during-after: 20901376 67670528 20901376\n"
     ]
    },
    {
     "name": "stderr",
     "output_type": "stream",
     "text": [
      " 49%|███████████████████████████████████████████████████████████████████████████████████████                                                                                         | 24.734545454546755/50 [19:12<20:28, 48.61s/it]"
     ]
    },
    {
     "name": "stdout",
     "output_type": "stream",
     "text": [
      "Train Epoch: 35 [3200/3387 (95%)]\tLoss: 1.356502\n",
      "Mem before-during-after: 20901376 67670528 20901376\n"
     ]
    },
    {
     "name": "stderr",
     "output_type": "stream",
     "text": [
      " 50%|████████████████████████████████████████████████████████████████████████████████████████                                                                                        | 25.003636363637682/50 [19:24<19:35, 47.03s/it]"
     ]
    },
    {
     "name": "stdout",
     "output_type": "stream",
     "text": [
      "\n",
      "Test Epoch: 35\tAccuracy: 549/1024 (54%)\n",
      "\n",
      "Train Epoch: 36 [0/3387 (0%)]\tLoss: 0.911644\n",
      "Mem before-during-after: 20897280 67637760 20901376\n"
     ]
    },
    {
     "name": "stderr",
     "output_type": "stream",
     "text": [
      " 50%|█████████████████████████████████████████████████████████████████████████████████████████▌                                                                                        | 25.1527272727286/50 [19:32<19:43, 47.64s/it]"
     ]
    },
    {
     "name": "stdout",
     "output_type": "stream",
     "text": [
      "Train Epoch: 36 [640/3387 (19%)]\tLoss: 0.826505\n",
      "Mem before-during-after: 20901376 67670528 20901376\n"
     ]
    },
    {
     "name": "stderr",
     "output_type": "stream",
     "text": [
      " 51%|█████████████████████████████████████████████████████████████████████████████████████████                                                                                       | 25.298181818183156/50 [19:39<19:33, 47.52s/it]"
     ]
    },
    {
     "name": "stdout",
     "output_type": "stream",
     "text": [
      "Train Epoch: 36 [1280/3387 (38%)]\tLoss: 1.037372\n",
      "Mem before-during-after: 20901376 67670528 20901376\n"
     ]
    },
    {
     "name": "stderr",
     "output_type": "stream",
     "text": [
      " 51%|██████████████████████████████████████████████████████████████████████████████████████████                                                                                       | 25.44363636363771/50 [19:46<19:41, 48.10s/it]"
     ]
    },
    {
     "name": "stdout",
     "output_type": "stream",
     "text": [
      "Train Epoch: 36 [1920/3387 (57%)]\tLoss: 1.250661\n",
      "Mem before-during-after: 20901376 67670528 20901376\n"
     ]
    },
    {
     "name": "stderr",
     "output_type": "stream",
     "text": [
      " 51%|██████████████████████████████████████████████████████████████████████████████████████████                                                                                      | 25.589090909092267/50 [19:53<19:20, 47.54s/it]"
     ]
    },
    {
     "name": "stdout",
     "output_type": "stream",
     "text": [
      "Train Epoch: 36 [2560/3387 (76%)]\tLoss: 1.251927\n",
      "Mem before-during-after: 20901376 67670528 20901376\n"
     ]
    },
    {
     "name": "stderr",
     "output_type": "stream",
     "text": [
      " 51%|██████████████████████████████████████████████████████████████████████████████████████████▌                                                                                     | 25.734545454546822/50 [19:59<18:55, 46.79s/it]"
     ]
    },
    {
     "name": "stdout",
     "output_type": "stream",
     "text": [
      "Train Epoch: 36 [3200/3387 (95%)]\tLoss: 1.179577\n",
      "Mem before-during-after: 20901376 67670528 20901376\n"
     ]
    },
    {
     "name": "stderr",
     "output_type": "stream",
     "text": [
      " 52%|████████████████████████████████████████████████████████████████████████████████████████████                                                                                     | 26.00363636363775/50 [20:12<18:29, 46.25s/it]"
     ]
    },
    {
     "name": "stdout",
     "output_type": "stream",
     "text": [
      "\n",
      "Test Epoch: 36\tAccuracy: 437/1024 (43%)\n",
      "\n",
      "Train Epoch: 37 [0/3387 (0%)]\tLoss: 1.483743\n",
      "Mem before-during-after: 20897280 67637760 20901376\n"
     ]
    },
    {
     "name": "stderr",
     "output_type": "stream",
     "text": [
      " 52%|████████████████████████████████████████████████████████████████████████████████████████████▌                                                                                    | 26.15272727272867/50 [20:19<19:31, 49.14s/it]"
     ]
    },
    {
     "name": "stdout",
     "output_type": "stream",
     "text": [
      "Train Epoch: 37 [640/3387 (19%)]\tLoss: 0.777787\n",
      "Mem before-during-after: 20901376 67670528 20901376\n"
     ]
    },
    {
     "name": "stderr",
     "output_type": "stream",
     "text": [
      " 53%|████████████████████████████████████████████████████████████████████████████████████████████▌                                                                                   | 26.298181818183224/50 [20:26<18:50, 47.71s/it]"
     ]
    },
    {
     "name": "stdout",
     "output_type": "stream",
     "text": [
      "Train Epoch: 37 [1280/3387 (38%)]\tLoss: 0.984631\n",
      "Mem before-during-after: 20901376 67670528 20901376\n"
     ]
    },
    {
     "name": "stderr",
     "output_type": "stream",
     "text": [
      " 53%|█████████████████████████████████████████████████████████████████████████████████████████████▌                                                                                   | 26.44363636363778/50 [20:33<18:24, 46.88s/it]"
     ]
    },
    {
     "name": "stdout",
     "output_type": "stream",
     "text": [
      "Train Epoch: 37 [1920/3387 (57%)]\tLoss: 0.902398\n",
      "Mem before-during-after: 20901376 67670528 20901376\n"
     ]
    },
    {
     "name": "stderr",
     "output_type": "stream",
     "text": [
      " 53%|█████████████████████████████████████████████████████████████████████████████████████████████▌                                                                                  | 26.589090909092334/50 [20:40<18:14, 46.74s/it]"
     ]
    },
    {
     "name": "stdout",
     "output_type": "stream",
     "text": [
      "Train Epoch: 37 [2560/3387 (76%)]\tLoss: 1.022116\n",
      "Mem before-during-after: 20901376 67670528 20901376\n"
     ]
    },
    {
     "name": "stderr",
     "output_type": "stream",
     "text": [
      " 53%|█████████████████████████████████████████████████████████████████████████████████████████████▉                                                                                  | 26.694545454546887/50 [20:45<18:19, 47.16s/it]Exception ignored in: <bound method IPythonKernel._clean_thread_parent_frames of <ipykernel.ipkernel.IPythonKernel object at 0x7f29237c50a0>>\n",
      "Traceback (most recent call last):\n",
      "  File \"/opt/anaconda3/envs/audio/lib/python3.9/site-packages/ipykernel/ipkernel.py\", line 770, in _clean_thread_parent_frames\n",
      "    def _clean_thread_parent_frames(\n",
      "KeyboardInterrupt: \n",
      " 53%|██████████████████████████████████████████████████████████████████████████████████████████████▋                                                                                  | 26.73454545454689/50 [20:47<18:29, 47.71s/it]"
     ]
    },
    {
     "name": "stdout",
     "output_type": "stream",
     "text": [
      "Train Epoch: 37 [3200/3387 (95%)]\tLoss: 0.952607\n",
      "Mem before-during-after: 20901376 67670528 20901376\n"
     ]
    },
    {
     "name": "stderr",
     "output_type": "stream",
     "text": [
      " 54%|██████████████████████████████████████████████████████████████████████████████████████████████▏                                                                                 | 26.767272727274165/50 [20:48<18:24, 47.53s/it]Exception ignored in: <bound method IPythonKernel._clean_thread_parent_frames of <ipykernel.ipkernel.IPythonKernel object at 0x7f29237c50a0>>\n",
      "Traceback (most recent call last):\n",
      "  File \"/opt/anaconda3/envs/audio/lib/python3.9/site-packages/ipykernel/ipkernel.py\", line 770, in _clean_thread_parent_frames\n",
      "    def _clean_thread_parent_frames(\n",
      "KeyboardInterrupt: \n",
      " 54%|██████████████████████████████████████████████████████████████████████████████████████████████▊                                                                                  | 26.77090909091053/50 [20:48<18:32, 47.88s/it]Exception ignored in: <bound method IPythonKernel._clean_thread_parent_frames of <ipykernel.ipkernel.IPythonKernel object at 0x7f29237c50a0>>\n",
      "Traceback (most recent call last):\n",
      "  File \"/opt/anaconda3/envs/audio/lib/python3.9/site-packages/ipykernel/ipkernel.py\", line 770, in _clean_thread_parent_frames\n",
      "    def _clean_thread_parent_frames(\n",
      "KeyboardInterrupt: \n",
      " 54%|██████████████████████████████████████████████████████████████████████████████████████████████▏                                                                                 | 26.774545454546892/50 [20:48<18:48, 48.57s/it]Exception ignored in: <bound method IPythonKernel._clean_thread_parent_frames of <ipykernel.ipkernel.IPythonKernel object at 0x7f29237c50a0>>\n",
      "Traceback (most recent call last):\n",
      "  File \"/opt/anaconda3/envs/audio/lib/python3.9/site-packages/ipykernel/ipkernel.py\", line 770, in _clean_thread_parent_frames\n",
      "    def _clean_thread_parent_frames(\n",
      "KeyboardInterrupt: \n",
      " 54%|██████████████████████████████████████████████████████████████████████████████████████████████▌                                                                                 | 26.850909090910534/50 [20:52<17:51, 46.27s/it]Exception ignored in: <bound method IPythonKernel._clean_thread_parent_frames of <ipykernel.ipkernel.IPythonKernel object at 0x7f29237c50a0>>\n",
      "Traceback (most recent call last):\n",
      "  File \"/opt/anaconda3/envs/audio/lib/python3.9/site-packages/ipykernel/ipkernel.py\", line 770, in _clean_thread_parent_frames\n",
      "    def _clean_thread_parent_frames(\n",
      "KeyboardInterrupt: \n",
      " 54%|██████████████████████████████████████████████████████████████████████████████████████████████▌                                                                                 | 26.854545454546898/50 [20:52<17:54, 46.43s/it]Exception ignored in: <bound method IPythonKernel._clean_thread_parent_frames of <ipykernel.ipkernel.IPythonKernel object at 0x7f29237c50a0>>\n",
      "Traceback (most recent call last):\n",
      "  File \"/opt/anaconda3/envs/audio/lib/python3.9/site-packages/ipykernel/ipkernel.py\", line 770, in _clean_thread_parent_frames\n",
      "    def _clean_thread_parent_frames(\n",
      "KeyboardInterrupt: \n",
      " 54%|███████████████████████████████████████████████████████████████████████████████████████████████                                                                                  | 26.85818181818326/50 [20:52<17:58, 46.60s/it]Exception ignored in: <bound method IPythonKernel._clean_thread_parent_frames of <ipykernel.ipkernel.IPythonKernel object at 0x7f29237c50a0>>\n",
      "Traceback (most recent call last):\n",
      "  File \"/opt/anaconda3/envs/audio/lib/python3.9/site-packages/ipykernel/ipkernel.py\", line 770, in _clean_thread_parent_frames\n",
      "    def _clean_thread_parent_frames(\n",
      "KeyboardInterrupt: \n",
      " 54%|██████████████████████████████████████████████████████████████████████████████████████████████▌                                                                                 | 26.861818181819626/50 [20:53<18:05, 46.89s/it]Exception ignored in: <bound method IPythonKernel._clean_thread_parent_frames of <ipykernel.ipkernel.IPythonKernel object at 0x7f29237c50a0>>\n",
      "Traceback (most recent call last):\n",
      "  File \"/opt/anaconda3/envs/audio/lib/python3.9/site-packages/ipykernel/ipkernel.py\", line 770, in _clean_thread_parent_frames\n",
      "    def _clean_thread_parent_frames(\n",
      "KeyboardInterrupt: \n",
      " 54%|███████████████████████████████████████████████████████████████████████████████████████████████                                                                                  | 26.86545454545599/50 [20:53<18:08, 47.06s/it]Exception ignored in: <bound method IPythonKernel._clean_thread_parent_frames of <ipykernel.ipkernel.IPythonKernel object at 0x7f29237c50a0>>\n",
      "Traceback (most recent call last):\n",
      "  File \"/opt/anaconda3/envs/audio/lib/python3.9/site-packages/ipykernel/ipkernel.py\", line 770, in _clean_thread_parent_frames\n",
      "    def _clean_thread_parent_frames(\n",
      "KeyboardInterrupt: \n",
      " 54%|██████████████████████████████████████████████████████████████████████████████████████████████▌                                                                                 | 26.869090909092353/50 [20:53<18:27, 47.88s/it]Exception ignored in: <bound method IPythonKernel._clean_thread_parent_frames of <ipykernel.ipkernel.IPythonKernel object at 0x7f29237c50a0>>\n",
      "Traceback (most recent call last):\n",
      "  File \"/opt/anaconda3/envs/audio/lib/python3.9/site-packages/ipykernel/ipkernel.py\", line 770, in _clean_thread_parent_frames\n",
      "    def _clean_thread_parent_frames(\n",
      "KeyboardInterrupt: \n",
      " 54%|███████████████████████████████████████████████████████████████████████████████████████████████▏                                                                                 | 26.87636363636508/50 [20:53<18:19, 47.53s/it]Exception ignored in: <bound method IPythonKernel._clean_thread_parent_frames of <ipykernel.ipkernel.IPythonKernel object at 0x7f29237c50a0>>\n",
      "Traceback (most recent call last):\n",
      "  File \"/opt/anaconda3/envs/audio/lib/python3.9/site-packages/ipykernel/ipkernel.py\", line 770, in _clean_thread_parent_frames\n",
      "    def _clean_thread_parent_frames(\n",
      "KeyboardInterrupt: \n",
      " 54%|██████████████████████████████████████████████████████████████████████████████████████████████▋                                                                                 | 26.890909090910537/50 [20:54<17:46, 46.16s/it]Exception ignored in: <bound method IPythonKernel._clean_thread_parent_frames of <ipykernel.ipkernel.IPythonKernel object at 0x7f29237c50a0>>\n",
      "Traceback (most recent call last):\n",
      "  File \"/opt/anaconda3/envs/audio/lib/python3.9/site-packages/ipykernel/ipkernel.py\", line 770, in _clean_thread_parent_frames\n",
      "    def _clean_thread_parent_frames(\n",
      "KeyboardInterrupt: \n",
      " 54%|███████████████████████████████████████████████████████████████████████████████████████████████▋                                                                                  | 26.8945454545469/50 [20:54<17:58, 46.68s/it]Exception ignored in: <bound method IPythonKernel._clean_thread_parent_frames of <ipykernel.ipkernel.IPythonKernel object at 0x7f29237c50a0>>\n",
      "Traceback (most recent call last):\n",
      "  File \"/opt/anaconda3/envs/audio/lib/python3.9/site-packages/ipykernel/ipkernel.py\", line 770, in _clean_thread_parent_frames\n",
      "    def _clean_thread_parent_frames(\n",
      "KeyboardInterrupt: \n",
      " 54%|██████████████████████████████████████████████████████████████████████████████████████████████▋                                                                                 | 26.898181818183264/50 [20:54<18:02, 46.87s/it]Exception ignored in: <bound method IPythonKernel._clean_thread_parent_frames of <ipykernel.ipkernel.IPythonKernel object at 0x7f29237c50a0>>\n",
      "Traceback (most recent call last):\n",
      "  File \"/opt/anaconda3/envs/audio/lib/python3.9/site-packages/ipykernel/ipkernel.py\", line 770, in _clean_thread_parent_frames\n",
      "    def _clean_thread_parent_frames(\n",
      "KeyboardInterrupt: \n",
      " 54%|███████████████████████████████████████████████████████████████████████████████████████████████▏                                                                                 | 26.90181818181963/50 [20:54<18:08, 47.10s/it]Exception ignored in: <bound method IPythonKernel._clean_thread_parent_frames of <ipykernel.ipkernel.IPythonKernel object at 0x7f29237c50a0>>\n",
      "Traceback (most recent call last):\n",
      "  File \"/opt/anaconda3/envs/audio/lib/python3.9/site-packages/ipykernel/ipkernel.py\", line 770, in _clean_thread_parent_frames\n",
      "    def _clean_thread_parent_frames(\n",
      "KeyboardInterrupt: \n",
      " 54%|██████████████████████████████████████████████████████████████████████████████████████████████▋                                                                                 | 26.909090909092356/50 [20:55<18:05, 47.01s/it]Exception ignored in: <bound method IPythonKernel._clean_thread_parent_frames of <ipykernel.ipkernel.IPythonKernel object at 0x7f29237c50a0>>\n",
      "Traceback (most recent call last):\n",
      "  File \"/opt/anaconda3/envs/audio/lib/python3.9/site-packages/ipykernel/ipkernel.py\", line 770, in _clean_thread_parent_frames\n",
      "    def _clean_thread_parent_frames(\n",
      "KeyboardInterrupt: \n",
      " 54%|███████████████████████████████████████████████████████████████████████████████████████████████▎                                                                                 | 26.91272727272872/50 [20:55<18:12, 47.30s/it]Exception ignored in: <bound method IPythonKernel._clean_thread_parent_frames of <ipykernel.ipkernel.IPythonKernel object at 0x7f29237c50a0>>\n",
      "Traceback (most recent call last):\n",
      "  File \"/opt/anaconda3/envs/audio/lib/python3.9/site-packages/ipykernel/ipkernel.py\", line 770, in _clean_thread_parent_frames\n",
      "    def _clean_thread_parent_frames(\n",
      "KeyboardInterrupt: \n",
      " 54%|██████████████████████████████████████████████████████████████████████████████████████████████▋                                                                                 | 26.916363636365084/50 [20:55<18:13, 47.37s/it]Exception ignored in: <bound method IPythonKernel._clean_thread_parent_frames of <ipykernel.ipkernel.IPythonKernel object at 0x7f29237c50a0>>\n",
      "Traceback (most recent call last):\n",
      "  File \"/opt/anaconda3/envs/audio/lib/python3.9/site-packages/ipykernel/ipkernel.py\", line 770, in _clean_thread_parent_frames\n",
      "    def _clean_thread_parent_frames(\n",
      "KeyboardInterrupt: \n",
      " 54%|███████████████████████████████████████████████████████████████████████████████████████████████▎                                                                                 | 26.92363636363781/50 [20:55<17:56, 46.65s/it]\n",
      "\n",
      "KeyboardInterrupt\n",
      "\n"
     ]
    }
   ],
   "source": [
    "n_epoch = 10\n",
    "n_epoch2 = 50\n",
    "# train_losses = []\n",
    "# test_accuracy = []\n",
    "best_accuracy = min(test_accuracy)\n",
    "model_path_prefix = '../models_cremad4/cremad_label4_m12new_best_'\n",
    "\n",
    "optimizer = optim.RAdam(model.parameters(), lr=0.00005)\n",
    "scheduler = optim.lr_scheduler.OneCycleLR(\n",
    "    optimizer, max_lr=0.01,\n",
    "    steps_per_epoch=len(train_loader), epochs=n_epoch2)\n",
    "log_interval = 40\n",
    "pbar_update = 1 / (len(train_loader) + len(test_loader))\n",
    "# model.to(device)\n",
    "with tqdm(total=n_epoch2) as pbar:\n",
    "    for epoch in range(1+n_epoch, n_epoch2 + n_epoch + 1):\n",
    "        train(model, epoch, log_interval, train_losses)\n",
    "        acc = test(model, epoch)\n",
    "        test_accuracy += [acc]\n",
    "        if acc > best_accuracy:\n",
    "            best_accuracy = acc\n",
    "            bmodel_path = f'{model_path_prefix}{epoch}epoch.pt'\n",
    "            torch.save(model.state_dict(), bmodel_path)\n",
    "            print(f'saved model: {bmodel_path}')\n",
    "        scheduler.step()"
   ]
  },
  {
   "cell_type": "code",
   "execution_count": 25,
   "id": "ca06fbd3-e057-4807-af36-8b57ec9cf048",
   "metadata": {},
   "outputs": [
    {
     "data": {
      "text/plain": [
       "M12(\n",
       "  (fe_blocks): FeBlocks(\n",
       "    (blocks): ModuleList(\n",
       "      (0-1): 2 x FrontEndBlock(\n",
       "        (block): ModuleDict(\n",
       "          (layer): FirConvLayer(\n",
       "            (conv_layer): ResidualConv1d(\n",
       "              (pad_layer): PadForConv()\n",
       "              (stride_layer): DownsampleLayer(\n",
       "                (pad_right): PadForConv()\n",
       "              )\n",
       "              (norm_layer): CustomNormLayer(\n",
       "                (layer): LocalResponseNorm(2, alpha=0.0001, beta=0.75, k=1.0)\n",
       "              )\n",
       "              (act): NLReLU()\n",
       "            )\n",
       "          )\n",
       "          (downsample): ResidualConv1d(\n",
       "            (pad_layer): PadForConv()\n",
       "            (stride_layer): DownsampleLayer(\n",
       "              (pad_right): PadForConv()\n",
       "            )\n",
       "            (norm_layer): CustomNormLayer(\n",
       "              (layer): LocalResponseNorm(2, alpha=0.0001, beta=0.75, k=1.0)\n",
       "            )\n",
       "            (act): NLReLU()\n",
       "          )\n",
       "        )\n",
       "      )\n",
       "    )\n",
       "  )\n",
       "  (seq_blocks): Seq2OneBlocks(\n",
       "    (blocks): LSTM(97, 48, batch_first=True)\n",
       "  )\n",
       "  (cls_head): Classifier(\n",
       "    (blocks): ModuleList(\n",
       "      (0): Sequential(\n",
       "        (norm): LayerNorm((48,), eps=1e-05, elementwise_affine=True)\n",
       "        (layer): Linear(in_features=48, out_features=256, bias=True)\n",
       "      )\n",
       "      (1): Sequential(\n",
       "        (norm): LayerNorm((256,), eps=1e-05, elementwise_affine=True)\n",
       "        (layer): Linear(in_features=256, out_features=256, bias=True)\n",
       "      )\n",
       "    )\n",
       "    (act): LeakyReLU(negative_slope=0.01)\n",
       "    (output_layer): Linear(in_features=256, out_features=4, bias=True)\n",
       "  )\n",
       ")"
      ]
     },
     "execution_count": 25,
     "metadata": {},
     "output_type": "execute_result"
    }
   ],
   "source": [
    "model.to('cpu')"
   ]
  },
  {
   "cell_type": "code",
   "execution_count": 26,
   "id": "975349dd-04e5-4121-af22-5b85556877cf",
   "metadata": {},
   "outputs": [
    {
     "data": {
      "text/plain": [
       "[<matplotlib.lines.Line2D at 0x7f277f6e0280>]"
      ]
     },
     "execution_count": 26,
     "metadata": {},
     "output_type": "execute_result"
    },
    {
     "data": {
      "image/png": "[encoded data removed]",
      "text/plain": [
       "<Figure size 640x480 with 1 Axes>"
      ]
     },
     "metadata": {},
     "output_type": "display_data"
    }
   ],
   "source": [
    "plt.plot(train_losses)"
   ]
  },
  {
   "cell_type": "code",
   "execution_count": 27,
   "id": "fe5219ea-169b-4d01-ac66-b8fc9ce29155",
   "metadata": {},
   "outputs": [
    {
     "data": {
      "text/plain": [
       "[<matplotlib.lines.Line2D at 0x7f277e653250>]"
      ]
     },
     "execution_count": 27,
     "metadata": {},
     "output_type": "execute_result"
    },
    {
     "data": {
      "image/png": "[encoded data removed]",
      "text/plain": [
       "<Figure size 640x480 with 1 Axes>"
      ]
     },
     "metadata": {},
     "output_type": "display_data"
    }
   ],
   "source": [
    "plt.plot(test_accuracy)"
   ]
  },
  {
   "cell_type": "code",
   "execution_count": null,
   "id": "6790182a-8902-4bc3-9ceb-34c492f19252",
   "metadata": {},
   "outputs": [],
   "source": [
    "n_epoch = 10\n",
    "n_epoch2 = 50\n",
    "n_epoch3 = 100\n",
    "# train_losses = []\n",
    "# test_accuracy = []\n",
    "best_accuracy = min(test_accuracy)\n",
    "model_path_prefix = '../models_cremad4/cremad_label4_m12new_best_'\n",
    "\n",
    "optimizer = optim.RAdam(model.parameters(), lr=0.00001)\n",
    "scheduler = optim.lr_scheduler.OneCycleLR(\n",
    "    optimizer, max_lr=0.01,\n",
    "    steps_per_epoch=len(train_loader), epochs=n_epoch2)\n",
    "log_interval = 40\n",
    "pbar_update = 1 / (len(train_loader) + len(test_loader))\n",
    "# model.to(device)\n",
    "with tqdm(total=n_epoch2) as pbar:\n",
    "    for epoch in range(1+n_epoch, n_epoch2 + n_epoch + 1):\n",
    "        train(model, epoch, log_interval, train_losses)\n",
    "        acc = test(model, epoch)\n",
    "        test_accuracy += [acc]\n",
    "        if acc > best_accuracy:\n",
    "            best_accuracy = acc\n",
    "            bmodel_path = f'{model_path_prefix}{epoch}epoch.pt'\n",
    "            torch.save(model.state_dict(), bmodel_path)\n",
    "            print(f'saved model: {bmodel_path}')\n",
    "        scheduler.step()"
   ]
  }
 ],
 "metadata": {
  "kernelspec": {
   "display_name": "Python 3 (ipykernel)",
   "language": "python",
   "name": "python3"
  },
  "language_info": {
   "codemirror_mode": {
    "name": "ipython",
    "version": 3
   },
   "file_extension": ".py",
   "mimetype": "text/x-python",
   "name": "python",
   "nbconvert_exporter": "python",
   "pygments_lexer": "ipython3",
   "version": "3.9.18"
  }
 },
 "nbformat": 4,
 "nbformat_minor": 5
}
