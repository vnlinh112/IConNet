{
 "cells": [
  {
   "cell_type": "code",
   "execution_count": 1,
   "id": "a9940714-383a-47dc-b63e-f2e8cad4e7e3",
   "metadata": {},
   "outputs": [],
   "source": [
    "%load_ext autoreload\n",
    "%autoreload 2"
   ]
  },
  {
   "cell_type": "code",
   "execution_count": 2,
   "id": "5e02f85e-d1f7-4977-823a-2ea452ce6625",
   "metadata": {},
   "outputs": [],
   "source": [
    "import matplotlib.pyplot as plt\n",
    "import numpy as np\n",
    "import umap\n",
    "import torch\n",
    "import torch.nn as nn\n",
    "import torch.nn.functional as F\n",
    "import gc\n",
    "from tqdm import tqdm"
   ]
  },
  {
   "cell_type": "code",
   "execution_count": 3,
   "id": "4ad19a60-d3ea-4d45-b633-67d3f4f0d481",
   "metadata": {},
   "outputs": [],
   "source": [
    "device = torch.device(\"cuda\" if torch.cuda.is_available() else \"cpu\")"
   ]
  },
  {
   "cell_type": "code",
   "execution_count": 4,
   "id": "46a2c70b-8d9f-4d80-a73f-600d36516d2d",
   "metadata": {},
   "outputs": [
    {
     "data": {
      "text/plain": [
       "'/home/linh/projects/IConNet'"
      ]
     },
     "execution_count": 4,
     "metadata": {},
     "output_type": "execute_result"
    }
   ],
   "source": [
    "import os\n",
    "os.environ[\"PYTORCH_CUDA_ALLOC_CONF\"] = \"max_split_size_mb:512\"\n",
    "os.chdir('../IConNet/')\n",
    "os.getcwd()"
   ]
  },
  {
   "cell_type": "code",
   "execution_count": 5,
   "id": "c187164b-56dc-4508-9f3b-ee5df549dfa4",
   "metadata": {},
   "outputs": [],
   "source": [
    "dataset_name = 'ravdess'\n",
    "experiment_prefix = \"scb14\"\n",
    "log_dir = f'../{experiment_prefix}_models/{dataset_name}/'\n",
    "data_dir = \"../data/data_preprocessed/\"\n",
    "\n",
    "sr = 16000\n",
    "batch_size = 4\n",
    "in_channels = 1\n",
    "kernel_size = 511\n",
    "stride = 125\n",
    "embedding_dim = 511\n",
    "num_embeddings = 384\n",
    "cls_dim = 512\n",
    "learning_rate = 1e-4\n",
    "max_num_tokens = 2048\n",
    "num_classes = 4\n",
    "commitment_cost = 0.1"
   ]
  },
  {
   "cell_type": "code",
   "execution_count": 6,
   "id": "981892b5-bd9e-4f59-976f-81c670631dd7",
   "metadata": {},
   "outputs": [
    {
     "name": "stdout",
     "output_type": "stream",
     "text": [
      "{'name': 'ravdess', 'dataset_class': 'WaveformDataset', 'root': 'ravdess/', 'audio_dir': 'full_release/', 'feature_dir': 'preprocessing/', 'label_name': 'label_emotion_key', 'feature_name': 'audio16k', 'num_classes': 8, 'label_values': ['neu', 'cal', 'hap', 'sad', 'ang', 'fea', 'dis', 'sur'], 'classnames': ['neu', 'cal', 'hap', 'sad', 'ang', 'fea', 'dis', 'sur'], 'target_labels': ['ang', 'neu', 'sad', 'hap']}\n",
      "4\n"
     ]
    }
   ],
   "source": [
    "from IConNet.acov.audio_vqvae import VqVaeClsLoss\n",
    "from IConNet.trainer.train_torch import get_dataloader\n",
    "from IConNet.trainer.train_torch import Trainer_SCB10 as Trainer\n",
    "from IConNet.acov.model import SCB14 as SCB\n",
    "from omegaconf import OmegaConf as ocf\n",
    "\n",
    "dataset_config_path = f'config/dataset/{dataset_name}.yaml'\n",
    "dataset_config = ocf.load(dataset_config_path)\n",
    "print(dataset_config)\n",
    "train_loader, test_loader, batch_size = get_dataloader(\n",
    "    dataset_config, data_dir, batch_size=batch_size)\n",
    "print(batch_size)"
   ]
  },
  {
   "cell_type": "code",
   "execution_count": 7,
   "id": "1b9031ff-bb24-465b-a561-3232ba1229da",
   "metadata": {},
   "outputs": [
    {
     "name": "stdout",
     "output_type": "stream",
     "text": [
      "{'name': 'M19', 'description': 'FirConv with learnable windows', 'fe': {'n_block': 1, 'n_channel': [256], 'kernel_size': [511], 'stride': [2], 'window_k': [5], 'pooling': 'mean', 'filter_type': 'sinc', 'learnable_bands': False, 'learnable_windows': True, 'shared_window': False, 'window_func': 'hamming', 'mel_resolution': 3, 'conv_mode': 'conv', 'norm_type': 'LocalResponseNorm'}, 'cls': {'n_block': 2, 'n_hidden_dim': [512, 512], 'norm_type': 'LayerNorm'}}\n"
     ]
    }
   ],
   "source": [
    "iconnet_config_path = f'config/model/m19win.yaml'\n",
    "iconnet_config = ocf.load(iconnet_config_path)\n",
    "print(iconnet_config)"
   ]
  },
  {
   "cell_type": "code",
   "execution_count": 9,
   "id": "17f0e44f-87c5-4af9-b64c-cb9a6db667c4",
   "metadata": {},
   "outputs": [],
   "source": [
    "n_epoch = 4\n",
    "\n",
    "loss_ratio=VqVaeClsLoss(perplexity=0, loss_vq=0, loss_recon=0, loss_cls=1)\n",
    "\n",
    "trainer = Trainer(batch_size=batch_size, log_dir=log_dir, \n",
    "                  experiment_prefix=experiment_prefix, device=device,\n",
    "                 accumulate_grad_batches=8)\n",
    "trainer.prepare(train_loader=train_loader, \n",
    "                test_loader=test_loader, \n",
    "                batch_size=batch_size,\n",
    "               loss_ratio=loss_ratio)"
   ]
  },
  {
   "cell_type": "code",
   "execution_count": 10,
   "id": "8bb14261-f7f3-4437-8713-07dca8617be6",
   "metadata": {},
   "outputs": [],
   "source": [
    "codebook_pretrained_path = f'../scb11_models/ravdess/epoch=220.codebook.pt'\n",
    "model = SCB(\n",
    "    in_channels=in_channels,    \n",
    "    num_embeddings=num_embeddings, \n",
    "    stride=stride,\n",
    "    embedding_dim=embedding_dim, \n",
    "    num_classes=num_classes, \n",
    "    cls_dim=512,\n",
    "    sample_rate=sr,\n",
    "    commitment_cost=commitment_cost,\n",
    "    distance_type='euclidean',\n",
    "    codebook_pretrained_path=codebook_pretrained_path,\n",
    "    freeze_codebook=True,\n",
    "    loss_type='minami',\n",
    "    iconnet_config=iconnet_config,\n",
    ")"
   ]
  },
  {
   "cell_type": "code",
   "execution_count": 12,
   "id": "1a222d2d-be87-4fff-8f2e-8708d41216f5",
   "metadata": {},
   "outputs": [],
   "source": [
    "trainer.setup(model=model, lr=learning_rate)"
   ]
  },
  {
   "cell_type": "code",
   "execution_count": 13,
   "id": "78c37e83-9b13-457e-b392-773012d6f0b8",
   "metadata": {
    "scrolled": true
   },
   "outputs": [
    {
     "name": "stderr",
     "output_type": "stream",
     "text": [
      "  0%|▏                              | 0.4927536231884051/100 [00:35<4:45:13, 171.98s/it]"
     ]
    },
    {
     "name": "stdout",
     "output_type": "stream",
     "text": [
      "Epoch: 1\tLoss: 2.249 [perplexity=140.181, loss_vq=0.041, loss_recon=4.930, loss_cls=2.249]\tVal_acc: 6/27 (22.22%)\n",
      "\n",
      "Saved new best val model: ../scb14_models/ravdess/model.epoch=1.step=59.loss=2.249.val_acc=0.222.pt\n"
     ]
    },
    {
     "name": "stderr",
     "output_type": "stream",
     "text": [
      "  1%|▍                                | 1.297101449275365/100 [01:18<1:00:19, 36.67s/it]"
     ]
    },
    {
     "name": "stdout",
     "output_type": "stream",
     "text": [
      "Correct: 50/135 (0.3704)\n",
      "Saved new best test model: ../scb14_models/ravdess/model.epoch=1.step=117.test_acc=0.3704.pt\n",
      "{'acc_unweighted': tensor(0.3205, device='cuda:0'),\n",
      " 'acc_weighted': tensor(0.3704, device='cuda:0'),\n",
      " 'f1s_unweighted': tensor(0.2370, device='cuda:0'),\n",
      " 'f1s_weighted': tensor(0.2739, device='cuda:0'),\n",
      " 'rocauc': tensor(0.7422, device='cuda:0'),\n",
      " 'uar': tensor(0.3205, device='cuda:0'),\n",
      " 'wap': tensor(0.2193, device='cuda:0')}\n",
      "{'acc_detail': tensor([0.0000, 0.0000, 0.6410, 0.6410], device='cuda:0'),\n",
      " 'f1s_detail': tensor([0.0000, 0.0000, 0.5208, 0.4274], device='cuda:0'),\n",
      " 'precision_detail': tensor([0.0000, 0.0000, 0.4386, 0.3205], device='cuda:0'),\n",
      " 'recall_detail': tensor([0.0000, 0.0000, 0.6410, 0.6410], device='cuda:0'),\n",
      " 'rocauc_detail': tensor([0.8652, 0.7781, 0.7487, 0.5769], device='cuda:0')}\n",
      "tensor([[ 0,  0,  3, 35],\n",
      "        [ 0,  0, 15,  4],\n",
      "        [ 0,  0, 25, 14],\n",
      "        [ 0,  0, 14, 25]], device='cuda:0')\n"
     ]
    },
    {
     "name": "stderr",
     "output_type": "stream",
     "text": [
      "  2%|▌                               | 1.789855072463773/100 [01:53<4:47:26, 175.61s/it]"
     ]
    },
    {
     "name": "stdout",
     "output_type": "stream",
     "text": [
      "Epoch: 2\tLoss: 1.689 [perplexity=189.423, loss_vq=0.041, loss_recon=4.613, loss_cls=1.689]\tVal_acc: 8/27 (29.63%)\n",
      "\n",
      "Saved new best val model: ../scb14_models/ravdess/model.epoch=2.step=176.loss=1.689.val_acc=0.296.pt\n"
     ]
    },
    {
     "name": "stderr",
     "output_type": "stream",
     "text": [
      "  3%|▊                              | 2.7608695652174005/100 [03:00<4:48:00, 177.71s/it]"
     ]
    },
    {
     "name": "stdout",
     "output_type": "stream",
     "text": [
      "Epoch: 3\tLoss: 0.924 [perplexity=90.979, loss_vq=0.043, loss_recon=4.297, loss_cls=0.924]\tVal_acc: 13/27 (48.15%)\n",
      "\n",
      "Saved new best val model: ../scb14_models/ravdess/model.epoch=3.step=293.loss=0.924.val_acc=0.481.pt\n"
     ]
    },
    {
     "name": "stderr",
     "output_type": "stream",
     "text": [
      "  4%|█▏                              | 3.731884057971028/100 [04:05<4:43:34, 176.75s/it]"
     ]
    },
    {
     "name": "stdout",
     "output_type": "stream",
     "text": [
      "Epoch: 4\tLoss: 1.186 [perplexity=75.292, loss_vq=0.037, loss_recon=4.788, loss_cls=1.186]\tVal_acc: 13/27 (48.15%)\n",
      "\n"
     ]
    },
    {
     "name": "stderr",
     "output_type": "stream",
     "text": [
      "  5%|█▌                              | 4.702898550724612/100 [05:11<4:41:10, 177.03s/it]"
     ]
    },
    {
     "name": "stdout",
     "output_type": "stream",
     "text": [
      "Epoch: 5\tLoss: 1.483 [perplexity=127.139, loss_vq=0.037, loss_recon=3.679, loss_cls=1.483]\tVal_acc: 11/27 (40.74%)\n",
      "\n"
     ]
    },
    {
     "name": "stderr",
     "output_type": "stream",
     "text": [
      "  6%|█▊                               | 5.67391304347818/100 [06:21<4:55:58, 188.27s/it]"
     ]
    },
    {
     "name": "stdout",
     "output_type": "stream",
     "text": [
      "Epoch: 6\tLoss: 0.938 [perplexity=81.164, loss_vq=0.033, loss_recon=2.941, loss_cls=0.938]\tVal_acc: 14/27 (51.85%)\n",
      "\n",
      "Saved new best val model: ../scb14_models/ravdess/model.epoch=6.step=644.loss=0.938.val_acc=0.519.pt\n"
     ]
    },
    {
     "name": "stderr",
     "output_type": "stream",
     "text": [
      "  7%|██▏                             | 6.644927536231748/100 [07:32<4:45:59, 183.81s/it]"
     ]
    },
    {
     "name": "stdout",
     "output_type": "stream",
     "text": [
      "Epoch: 7\tLoss: 0.888 [perplexity=119.365, loss_vq=0.038, loss_recon=4.168, loss_cls=0.888]\tVal_acc: 15/27 (55.56%)\n",
      "\n",
      "Saved new best val model: ../scb14_models/ravdess/model.epoch=7.step=761.loss=0.888.val_acc=0.556.pt\n"
     ]
    },
    {
     "name": "stderr",
     "output_type": "stream",
     "text": [
      "  8%|██▍                             | 7.615942028985316/100 [08:42<4:53:01, 190.31s/it]"
     ]
    },
    {
     "name": "stdout",
     "output_type": "stream",
     "text": [
      "Epoch: 8\tLoss: 1.060 [perplexity=136.969, loss_vq=0.036, loss_recon=4.403, loss_cls=1.060]\tVal_acc: 11/27 (40.74%)\n",
      "\n"
     ]
    },
    {
     "name": "stderr",
     "output_type": "stream",
     "text": [
      "  9%|██▋                             | 8.586956521738884/100 [09:53<4:49:05, 189.74s/it]"
     ]
    },
    {
     "name": "stdout",
     "output_type": "stream",
     "text": [
      "Epoch: 9\tLoss: 1.308 [perplexity=127.519, loss_vq=0.041, loss_recon=4.749, loss_cls=1.308]\tVal_acc: 10/27 (37.04%)\n",
      "\n"
     ]
    },
    {
     "name": "stderr",
     "output_type": "stream",
     "text": [
      " 10%|███                             | 9.557971014492452/100 [11:03<4:39:59, 185.74s/it]"
     ]
    },
    {
     "name": "stdout",
     "output_type": "stream",
     "text": [
      "Epoch: 10\tLoss: 0.941 [perplexity=103.371, loss_vq=0.035, loss_recon=4.788, loss_cls=0.941]\tVal_acc: 16/27 (59.26%)\n",
      "\n",
      "Saved new best val model: ../scb14_models/ravdess/model.epoch=10.step=1112.loss=0.941.val_acc=0.593.pt\n"
     ]
    },
    {
     "name": "stderr",
     "output_type": "stream",
     "text": [
      " 11%|███▎                            | 10.52898550724602/100 [12:13<4:36:05, 185.14s/it]"
     ]
    },
    {
     "name": "stdout",
     "output_type": "stream",
     "text": [
      "Epoch: 11\tLoss: 1.332 [perplexity=80.078, loss_vq=0.034, loss_recon=5.590, loss_cls=1.332]\tVal_acc: 13/27 (48.15%)\n",
      "\n"
     ]
    },
    {
     "name": "stderr",
     "output_type": "stream",
     "text": [
      " 11%|███▉                               | 11.33333333333293/100 [12:59<55:43, 37.71s/it]"
     ]
    },
    {
     "name": "stdout",
     "output_type": "stream",
     "text": [
      "Correct: 72/135 (0.5333)\n",
      "Saved new best test model: ../scb14_models/ravdess/model.epoch=11.step=1287.test_acc=0.5333.pt\n",
      "{'acc_unweighted': tensor(0.4649, device='cuda:0'),\n",
      " 'acc_weighted': tensor(0.5333, device='cuda:0'),\n",
      " 'f1s_unweighted': tensor(0.4386, device='cuda:0'),\n",
      " 'f1s_weighted': tensor(0.5018, device='cuda:0'),\n",
      " 'rocauc': tensor(0.8191, device='cuda:0'),\n",
      " 'uar': tensor(0.4649, device='cuda:0'),\n",
      " 'wap': tensor(0.5214, device='cuda:0')}\n",
      "{'acc_detail': tensor([0.5263, 0.0000, 0.7179, 0.6154], device='cuda:0'),\n",
      " 'f1s_detail': tensor([0.6667, 0.0000, 0.5714, 0.5161], device='cuda:0'),\n",
      " 'precision_detail': tensor([0.9091, 0.0000, 0.4746, 0.4444], device='cuda:0'),\n",
      " 'recall_detail': tensor([0.5263, 0.0000, 0.7179, 0.6154], device='cuda:0'),\n",
      " 'rocauc_detail': tensor([0.8993, 0.8503, 0.7911, 0.7358], device='cuda:0')}\n",
      "tensor([[20,  0,  3, 15],\n",
      "        [ 0,  0, 15,  4],\n",
      "        [ 0,  0, 28, 11],\n",
      "        [ 2,  0, 13, 24]], device='cuda:0')\n"
     ]
    },
    {
     "name": "stderr",
     "output_type": "stream",
     "text": [
      " 12%|███▋                           | 11.826086956521308/100 [13:36<4:31:36, 184.82s/it]"
     ]
    },
    {
     "name": "stdout",
     "output_type": "stream",
     "text": [
      "Epoch: 12\tLoss: 1.195 [perplexity=122.034, loss_vq=0.040, loss_recon=5.264, loss_cls=1.195]\tVal_acc: 13/27 (48.15%)\n",
      "\n"
     ]
    },
    {
     "name": "stderr",
     "output_type": "stream",
     "text": [
      " 13%|███▉                           | 12.797101449274876/100 [14:46<4:18:43, 178.01s/it]"
     ]
    },
    {
     "name": "stdout",
     "output_type": "stream",
     "text": [
      "Epoch: 13\tLoss: 1.111 [perplexity=123.798, loss_vq=0.037, loss_recon=4.573, loss_cls=1.111]\tVal_acc: 15/27 (55.56%)\n",
      "\n"
     ]
    },
    {
     "name": "stderr",
     "output_type": "stream",
     "text": [
      " 14%|████▎                          | 13.768115942028444/100 [15:52<4:14:30, 177.09s/it]"
     ]
    },
    {
     "name": "stdout",
     "output_type": "stream",
     "text": [
      "Epoch: 14\tLoss: 0.609 [perplexity=124.568, loss_vq=0.041, loss_recon=3.115, loss_cls=0.609]\tVal_acc: 13/27 (48.15%)\n",
      "\n"
     ]
    },
    {
     "name": "stderr",
     "output_type": "stream",
     "text": [
      " 15%|████▌                          | 14.739130434782012/100 [16:59<4:09:23, 175.51s/it]"
     ]
    },
    {
     "name": "stdout",
     "output_type": "stream",
     "text": [
      "Epoch: 15\tLoss: 0.979 [perplexity=124.020, loss_vq=0.043, loss_recon=3.940, loss_cls=0.979]\tVal_acc: 12/27 (44.44%)\n",
      "\n"
     ]
    },
    {
     "name": "stderr",
     "output_type": "stream",
     "text": [
      " 16%|█████                           | 15.71014492753558/100 [18:06<4:09:19, 177.48s/it]"
     ]
    },
    {
     "name": "stdout",
     "output_type": "stream",
     "text": [
      "Epoch: 16\tLoss: 0.202 [perplexity=170.740, loss_vq=0.046, loss_recon=3.379, loss_cls=0.202]\tVal_acc: 11/27 (40.74%)\n",
      "\n"
     ]
    },
    {
     "name": "stderr",
     "output_type": "stream",
     "text": [
      " 17%|█████▎                          | 16.68115942028915/100 [19:13<4:08:47, 179.16s/it]"
     ]
    },
    {
     "name": "stdout",
     "output_type": "stream",
     "text": [
      "Epoch: 17\tLoss: 1.137 [perplexity=77.899, loss_vq=0.035, loss_recon=5.175, loss_cls=1.137]\tVal_acc: 14/27 (51.85%)\n",
      "\n"
     ]
    },
    {
     "name": "stderr",
     "output_type": "stream",
     "text": [
      " 18%|█████▍                         | 17.652173913042716/100 [20:19<4:02:31, 176.70s/it]"
     ]
    },
    {
     "name": "stdout",
     "output_type": "stream",
     "text": [
      "Epoch: 18\tLoss: 0.391 [perplexity=77.434, loss_vq=0.039, loss_recon=3.003, loss_cls=0.391]\tVal_acc: 15/27 (55.56%)\n",
      "\n"
     ]
    },
    {
     "name": "stderr",
     "output_type": "stream",
     "text": [
      " 19%|█████▊                         | 18.623188405796284/100 [21:25<3:58:23, 175.77s/it]"
     ]
    },
    {
     "name": "stdout",
     "output_type": "stream",
     "text": [
      "Epoch: 19\tLoss: 0.606 [perplexity=114.148, loss_vq=0.035, loss_recon=4.297, loss_cls=0.606]\tVal_acc: 11/27 (40.74%)\n",
      "\n"
     ]
    },
    {
     "name": "stderr",
     "output_type": "stream",
     "text": [
      " 20%|██████                         | 19.594202898549852/100 [22:32<3:55:24, 175.66s/it]"
     ]
    },
    {
     "name": "stdout",
     "output_type": "stream",
     "text": [
      "Epoch: 20\tLoss: 0.817 [perplexity=126.286, loss_vq=0.041, loss_recon=4.564, loss_cls=0.817]\tVal_acc: 12/27 (44.44%)\n",
      "\n"
     ]
    },
    {
     "name": "stderr",
     "output_type": "stream",
     "text": [
      " 21%|██████▌                         | 20.56521739130342/100 [23:37<3:50:59, 174.48s/it]"
     ]
    },
    {
     "name": "stdout",
     "output_type": "stream",
     "text": [
      "Epoch: 21\tLoss: 0.067 [perplexity=146.982, loss_vq=0.042, loss_recon=4.474, loss_cls=0.067]\tVal_acc: 11/27 (40.74%)\n",
      "\n"
     ]
    },
    {
     "name": "stderr",
     "output_type": "stream",
     "text": [
      " 21%|███████▍                           | 21.36956521739033/100 [24:21<47:05, 35.94s/it]"
     ]
    },
    {
     "name": "stdout",
     "output_type": "stream",
     "text": [
      "Correct: 89/135 (0.6593)\n",
      "Saved new best test model: ../scb14_models/ravdess/model.epoch=21.step=2457.test_acc=0.6593.pt\n",
      "{'acc_unweighted': tensor(0.5754, device='cuda:0'),\n",
      " 'acc_weighted': tensor(0.6593, device='cuda:0'),\n",
      " 'f1s_unweighted': tensor(0.5380, device='cuda:0'),\n",
      " 'f1s_weighted': tensor(0.6157, device='cuda:0'),\n",
      " 'rocauc': tensor(0.8699, device='cuda:0'),\n",
      " 'uar': tensor(0.5754, device='cuda:0'),\n",
      " 'wap': tensor(0.5893, device='cuda:0')}\n",
      "{'acc_detail': tensor([0.7632, 0.0000, 0.7949, 0.7436], device='cuda:0'),\n",
      " 'f1s_detail': tensor([0.8056, 0.0000, 0.6392, 0.7073], device='cuda:0'),\n",
      " 'precision_detail': tensor([0.8529, 0.0000, 0.5345, 0.6744], device='cuda:0'),\n",
      " 'recall_detail': tensor([0.7632, 0.0000, 0.7949, 0.7436], device='cuda:0'),\n",
      " 'rocauc_detail': tensor([0.9361, 0.8662, 0.8502, 0.8272], device='cuda:0')}\n",
      "tensor([[29,  0,  3,  6],\n",
      "        [ 0,  0, 17,  2],\n",
      "        [ 2,  0, 31,  6],\n",
      "        [ 3,  0,  7, 29]], device='cuda:0')\n"
     ]
    },
    {
     "name": "stderr",
     "output_type": "stream",
     "text": [
      " 22%|██████▉                         | 21.86231884057871/100 [24:56<3:52:10, 178.28s/it]"
     ]
    },
    {
     "name": "stdout",
     "output_type": "stream",
     "text": [
      "Epoch: 22\tLoss: 0.712 [perplexity=112.448, loss_vq=0.042, loss_recon=4.314, loss_cls=0.712]\tVal_acc: 16/27 (59.26%)\n",
      "\n"
     ]
    },
    {
     "name": "stderr",
     "output_type": "stream",
     "text": [
      " 23%|███████                        | 22.833333333332277/100 [26:02<3:46:13, 175.90s/it]"
     ]
    },
    {
     "name": "stdout",
     "output_type": "stream",
     "text": [
      "Epoch: 23\tLoss: 0.491 [perplexity=123.373, loss_vq=0.041, loss_recon=4.184, loss_cls=0.491]\tVal_acc: 12/27 (44.44%)\n",
      "\n"
     ]
    },
    {
     "name": "stderr",
     "output_type": "stream",
     "text": [
      " 24%|███████▍                       | 23.804347826085845/100 [27:08<3:48:30, 179.93s/it]"
     ]
    },
    {
     "name": "stdout",
     "output_type": "stream",
     "text": [
      "Epoch: 24\tLoss: 2.480 [perplexity=78.985, loss_vq=0.039, loss_recon=4.585, loss_cls=2.480]\tVal_acc: 13/27 (48.15%)\n",
      "\n"
     ]
    },
    {
     "name": "stderr",
     "output_type": "stream",
     "text": [
      " 25%|███████▋                       | 24.775362318839413/100 [28:14<3:42:11, 177.22s/it]"
     ]
    },
    {
     "name": "stdout",
     "output_type": "stream",
     "text": [
      "Epoch: 25\tLoss: 0.186 [perplexity=84.637, loss_vq=0.035, loss_recon=5.138, loss_cls=0.186]\tVal_acc: 14/27 (51.85%)\n",
      "\n"
     ]
    },
    {
     "name": "stderr",
     "output_type": "stream",
     "text": [
      " 26%|████████▏                       | 25.74637681159298/100 [29:20<3:41:22, 178.89s/it]"
     ]
    },
    {
     "name": "stdout",
     "output_type": "stream",
     "text": [
      "Epoch: 26\tLoss: 0.141 [perplexity=144.746, loss_vq=0.041, loss_recon=3.580, loss_cls=0.141]\tVal_acc: 14/27 (51.85%)\n",
      "\n"
     ]
    },
    {
     "name": "stderr",
     "output_type": "stream",
     "text": [
      " 27%|████████▌                       | 26.71739130434655/100 [30:26<3:38:39, 179.02s/it]"
     ]
    },
    {
     "name": "stdout",
     "output_type": "stream",
     "text": [
      "Epoch: 27\tLoss: 0.157 [perplexity=99.623, loss_vq=0.036, loss_recon=4.297, loss_cls=0.157]\tVal_acc: 15/27 (55.56%)\n",
      "\n"
     ]
    },
    {
     "name": "stderr",
     "output_type": "stream",
     "text": [
      " 28%|████████▌                      | 27.688405797100117/100 [31:33<3:31:32, 175.53s/it]"
     ]
    },
    {
     "name": "stdout",
     "output_type": "stream",
     "text": [
      "Epoch: 28\tLoss: 0.023 [perplexity=83.678, loss_vq=0.036, loss_recon=2.638, loss_cls=0.023]\tVal_acc: 16/27 (59.26%)\n",
      "\n"
     ]
    },
    {
     "name": "stderr",
     "output_type": "stream",
     "text": [
      " 29%|████████▉                      | 28.659420289853685/100 [32:39<3:29:51, 176.50s/it]"
     ]
    },
    {
     "name": "stdout",
     "output_type": "stream",
     "text": [
      "Epoch: 29\tLoss: 0.002 [perplexity=123.463, loss_vq=0.040, loss_recon=4.508, loss_cls=0.002]\tVal_acc: 16/27 (59.26%)\n",
      "\n"
     ]
    },
    {
     "name": "stderr",
     "output_type": "stream",
     "text": [
      " 30%|█████████▏                     | 29.630434782607253/100 [33:45<3:28:30, 177.78s/it]"
     ]
    },
    {
     "name": "stdout",
     "output_type": "stream",
     "text": [
      "Epoch: 30\tLoss: 1.607 [perplexity=140.545, loss_vq=0.045, loss_recon=4.366, loss_cls=1.607]\tVal_acc: 14/27 (51.85%)\n",
      "\n"
     ]
    },
    {
     "name": "stderr",
     "output_type": "stream",
     "text": [
      " 31%|█████████▊                      | 30.60144927536082/100 [34:51<3:24:15, 176.59s/it]"
     ]
    },
    {
     "name": "stdout",
     "output_type": "stream",
     "text": [
      "Epoch: 31\tLoss: 0.010 [perplexity=159.753, loss_vq=0.042, loss_recon=4.875, loss_cls=0.010]\tVal_acc: 16/27 (59.26%)\n",
      "\n"
     ]
    },
    {
     "name": "stderr",
     "output_type": "stream",
     "text": [
      " 31%|██████████▉                        | 31.40579710144773/100 [35:34<41:22, 36.20s/it]"
     ]
    },
    {
     "name": "stdout",
     "output_type": "stream",
     "text": [
      "Correct: 84/135 (0.6222)\n",
      "{'acc_unweighted': tensor(0.6117, device='cuda:0'),\n",
      " 'acc_weighted': tensor(0.6222, device='cuda:0'),\n",
      " 'f1s_unweighted': tensor(0.5880, device='cuda:0'),\n",
      " 'f1s_weighted': tensor(0.6078, device='cuda:0'),\n",
      " 'rocauc': tensor(0.8668, device='cuda:0'),\n",
      " 'uar': tensor(0.6117, device='cuda:0'),\n",
      " 'wap': tensor(0.6273, device='cuda:0')}\n",
      "{'acc_detail': tensor([0.8947, 0.5263, 0.3333, 0.6923], device='cuda:0'),\n",
      " 'f1s_detail': tensor([0.7907, 0.4444, 0.4333, 0.6835], device='cuda:0'),\n",
      " 'precision_detail': tensor([0.7083, 0.3846, 0.6190, 0.6750], device='cuda:0'),\n",
      " 'recall_detail': tensor([0.8947, 0.5263, 0.3333, 0.6923], device='cuda:0'),\n",
      " 'rocauc_detail': tensor([0.9220, 0.8584, 0.8595, 0.8272], device='cuda:0')}\n",
      "tensor([[34,  0,  0,  4],\n",
      "        [ 2, 10,  3,  4],\n",
      "        [ 6, 15, 13,  5],\n",
      "        [ 6,  1,  5, 27]], device='cuda:0')\n"
     ]
    },
    {
     "name": "stderr",
     "output_type": "stream",
     "text": [
      " 32%|██████████▏                     | 31.89855072463611/100 [36:09<3:21:25, 177.46s/it]"
     ]
    },
    {
     "name": "stdout",
     "output_type": "stream",
     "text": [
      "Epoch: 32\tLoss: 0.009 [perplexity=92.823, loss_vq=0.033, loss_recon=5.128, loss_cls=0.009]\tVal_acc: 14/27 (51.85%)\n",
      "\n"
     ]
    },
    {
     "name": "stderr",
     "output_type": "stream",
     "text": [
      " 33%|██████████▌                     | 32.86956521738968/100 [37:16<3:21:22, 179.99s/it]"
     ]
    },
    {
     "name": "stdout",
     "output_type": "stream",
     "text": [
      "Epoch: 33\tLoss: 0.004 [perplexity=120.472, loss_vq=0.046, loss_recon=6.232, loss_cls=0.004]\tVal_acc: 19/27 (70.37%)\n",
      "\n",
      "Saved new best val model: ../scb14_models/ravdess/model.epoch=33.step=3803.loss=0.004.val_acc=0.704.pt\n"
     ]
    },
    {
     "name": "stderr",
     "output_type": "stream",
     "text": [
      " 34%|██████████▍                    | 33.840579710143246/100 [38:22<3:12:24, 174.49s/it]"
     ]
    },
    {
     "name": "stdout",
     "output_type": "stream",
     "text": [
      "Epoch: 34\tLoss: 0.004 [perplexity=116.602, loss_vq=0.037, loss_recon=4.945, loss_cls=0.004]\tVal_acc: 18/27 (66.67%)\n",
      "\n"
     ]
    },
    {
     "name": "stderr",
     "output_type": "stream",
     "text": [
      " 35%|███████████▏                    | 34.81159420289681/100 [39:28<3:12:12, 176.91s/it]"
     ]
    },
    {
     "name": "stdout",
     "output_type": "stream",
     "text": [
      "Epoch: 35\tLoss: 0.001 [perplexity=122.077, loss_vq=0.034, loss_recon=3.820, loss_cls=0.001]\tVal_acc: 16/27 (59.26%)\n",
      "\n"
     ]
    },
    {
     "name": "stderr",
     "output_type": "stream",
     "text": [
      " 36%|███████████▍                    | 35.78260869565038/100 [40:34<3:08:38, 176.25s/it]"
     ]
    },
    {
     "name": "stdout",
     "output_type": "stream",
     "text": [
      "Epoch: 36\tLoss: 0.172 [perplexity=131.012, loss_vq=0.037, loss_recon=2.874, loss_cls=0.172]\tVal_acc: 14/27 (51.85%)\n",
      "\n"
     ]
    },
    {
     "name": "stderr",
     "output_type": "stream",
     "text": [
      " 37%|███████████▊                    | 36.75362318840395/100 [41:41<3:05:58, 176.43s/it]"
     ]
    },
    {
     "name": "stdout",
     "output_type": "stream",
     "text": [
      "Epoch: 37\tLoss: 0.002 [perplexity=95.837, loss_vq=0.040, loss_recon=5.064, loss_cls=0.002]\tVal_acc: 18/27 (66.67%)\n",
      "\n"
     ]
    },
    {
     "name": "stderr",
     "output_type": "stream",
     "text": [
      " 38%|████████████                    | 37.72463768115752/100 [42:47<3:04:18, 177.57s/it]"
     ]
    },
    {
     "name": "stdout",
     "output_type": "stream",
     "text": [
      "Epoch: 38\tLoss: 0.005 [perplexity=111.495, loss_vq=0.037, loss_recon=4.230, loss_cls=0.005]\tVal_acc: 16/27 (59.26%)\n",
      "\n"
     ]
    },
    {
     "name": "stderr",
     "output_type": "stream",
     "text": [
      " 39%|███████████▉                   | 38.695652173911085/100 [43:53<3:00:39, 176.81s/it]"
     ]
    },
    {
     "name": "stdout",
     "output_type": "stream",
     "text": [
      "Epoch: 39\tLoss: 0.000 [perplexity=126.364, loss_vq=0.042, loss_recon=4.542, loss_cls=0.000]\tVal_acc: 17/27 (62.96%)\n",
      "\n"
     ]
    },
    {
     "name": "stderr",
     "output_type": "stream",
     "text": [
      " 40%|████████████▋                   | 39.66666666666465/100 [44:59<2:57:52, 176.90s/it]"
     ]
    },
    {
     "name": "stdout",
     "output_type": "stream",
     "text": [
      "Epoch: 40\tLoss: 0.003 [perplexity=155.766, loss_vq=0.047, loss_recon=4.279, loss_cls=0.003]\tVal_acc: 18/27 (66.67%)\n",
      "\n"
     ]
    },
    {
     "name": "stderr",
     "output_type": "stream",
     "text": [
      " 41%|█████████████                   | 40.63768115941822/100 [46:05<2:57:46, 179.69s/it]"
     ]
    },
    {
     "name": "stdout",
     "output_type": "stream",
     "text": [
      "Epoch: 41\tLoss: 0.001 [perplexity=104.155, loss_vq=0.036, loss_recon=5.220, loss_cls=0.001]\tVal_acc: 17/27 (62.96%)\n",
      "\n"
     ]
    },
    {
     "name": "stderr",
     "output_type": "stream",
     "text": [
      " 41%|██████████████▌                    | 41.44202898550513/100 [46:49<35:25, 36.30s/it]"
     ]
    },
    {
     "name": "stdout",
     "output_type": "stream",
     "text": [
      "Correct: 92/135 (0.6815)\n",
      "Saved new best test model: ../scb14_models/ravdess/model.epoch=41.step=4797.test_acc=0.6815.pt\n",
      "{'acc_unweighted': tensor(0.6899, device='cuda:0'),\n",
      " 'acc_weighted': tensor(0.6815, device='cuda:0'),\n",
      " 'f1s_unweighted': tensor(0.6677, device='cuda:0'),\n",
      " 'f1s_weighted': tensor(0.6790, device='cuda:0'),\n",
      " 'rocauc': tensor(0.8802, device='cuda:0'),\n",
      " 'uar': tensor(0.6899, device='cuda:0'),\n",
      " 'wap': tensor(0.6965, device='cuda:0')}\n",
      "{'acc_detail': tensor([0.8947, 0.7368, 0.5385, 0.5897], device='cuda:0'),\n",
      " 'f1s_detail': tensor([0.8293, 0.5833, 0.5915, 0.6667], device='cuda:0'),\n",
      " 'precision_detail': tensor([0.7727, 0.4828, 0.6562, 0.7667], device='cuda:0'),\n",
      " 'recall_detail': tensor([0.8947, 0.7368, 0.5385, 0.5897], device='cuda:0'),\n",
      " 'rocauc_detail': tensor([0.9487, 0.9043, 0.8336, 0.8341], device='cuda:0')}\n",
      "tensor([[34,  1,  1,  2],\n",
      "        [ 0, 14,  4,  1],\n",
      "        [ 5,  9, 21,  4],\n",
      "        [ 5,  5,  6, 23]], device='cuda:0')\n"
     ]
    },
    {
     "name": "stderr",
     "output_type": "stream",
     "text": [
      " 42%|█████████████▍                  | 41.93478260869351/100 [47:24<2:51:39, 177.38s/it]"
     ]
    },
    {
     "name": "stdout",
     "output_type": "stream",
     "text": [
      "Epoch: 42\tLoss: 0.000 [perplexity=67.141, loss_vq=0.033, loss_recon=6.177, loss_cls=0.000]\tVal_acc: 20/27 (74.07%)\n",
      "\n",
      "Saved new best val model: ../scb14_models/ravdess/model.epoch=42.step=4856.loss=0.000.val_acc=0.741.pt\n"
     ]
    },
    {
     "name": "stderr",
     "output_type": "stream",
     "text": [
      " 43%|█████████████▋                  | 42.90579710144708/100 [48:30<2:49:12, 177.81s/it]"
     ]
    },
    {
     "name": "stdout",
     "output_type": "stream",
     "text": [
      "Epoch: 43\tLoss: 0.357 [perplexity=87.702, loss_vq=0.042, loss_recon=4.500, loss_cls=0.357]\tVal_acc: 15/27 (55.56%)\n",
      "\n"
     ]
    },
    {
     "name": "stderr",
     "output_type": "stream",
     "text": [
      " 44%|█████████████▌                 | 43.876811594200646/100 [49:36<2:44:30, 175.88s/it]"
     ]
    },
    {
     "name": "stdout",
     "output_type": "stream",
     "text": [
      "Epoch: 44\tLoss: 0.000 [perplexity=67.951, loss_vq=0.034, loss_recon=4.880, loss_cls=0.000]\tVal_acc: 19/27 (70.37%)\n",
      "\n"
     ]
    },
    {
     "name": "stderr",
     "output_type": "stream",
     "text": [
      " 45%|█████████████▉                 | 44.847826086954214/100 [50:42<2:41:51, 176.08s/it]"
     ]
    },
    {
     "name": "stdout",
     "output_type": "stream",
     "text": [
      "Epoch: 45\tLoss: 0.002 [perplexity=89.956, loss_vq=0.038, loss_recon=5.675, loss_cls=0.002]\tVal_acc: 17/27 (62.96%)\n",
      "\n"
     ]
    },
    {
     "name": "stderr",
     "output_type": "stream",
     "text": [
      " 46%|██████████████▋                 | 45.81884057970778/100 [51:49<2:37:01, 173.88s/it]"
     ]
    },
    {
     "name": "stdout",
     "output_type": "stream",
     "text": [
      "Epoch: 46\tLoss: 0.012 [perplexity=104.592, loss_vq=0.036, loss_recon=5.660, loss_cls=0.012]\tVal_acc: 20/27 (74.07%)\n",
      "\n"
     ]
    },
    {
     "name": "stderr",
     "output_type": "stream",
     "text": [
      " 47%|██████████████▉                 | 46.78985507246135/100 [52:55<2:35:25, 175.26s/it]"
     ]
    },
    {
     "name": "stdout",
     "output_type": "stream",
     "text": [
      "Epoch: 47\tLoss: 0.000 [perplexity=150.348, loss_vq=0.039, loss_recon=5.816, loss_cls=0.000]\tVal_acc: 17/27 (62.96%)\n",
      "\n"
     ]
    },
    {
     "name": "stderr",
     "output_type": "stream",
     "text": [
      " 48%|███████████████▎                | 47.76086956521492/100 [54:01<2:34:02, 176.93s/it]"
     ]
    },
    {
     "name": "stdout",
     "output_type": "stream",
     "text": [
      "Epoch: 48\tLoss: 0.002 [perplexity=159.984, loss_vq=0.039, loss_recon=4.633, loss_cls=0.002]\tVal_acc: 16/27 (59.26%)\n",
      "\n"
     ]
    },
    {
     "name": "stderr",
     "output_type": "stream",
     "text": [
      " 49%|███████████████                | 48.731884057968486/100 [55:07<2:30:44, 176.42s/it]"
     ]
    },
    {
     "name": "stdout",
     "output_type": "stream",
     "text": [
      "Epoch: 49\tLoss: 0.000 [perplexity=98.672, loss_vq=0.037, loss_recon=4.541, loss_cls=0.000]\tVal_acc: 18/27 (66.67%)\n",
      "\n"
     ]
    },
    {
     "name": "stderr",
     "output_type": "stream",
     "text": [
      " 50%|███████████████▍               | 49.702898550722054/100 [56:14<2:28:11, 176.78s/it]"
     ]
    },
    {
     "name": "stdout",
     "output_type": "stream",
     "text": [
      "Epoch: 50\tLoss: 0.000 [perplexity=126.865, loss_vq=0.038, loss_recon=5.529, loss_cls=0.000]\tVal_acc: 17/27 (62.96%)\n",
      "\n"
     ]
    },
    {
     "name": "stderr",
     "output_type": "stream",
     "text": [
      " 51%|████████████████▏               | 50.67391304347562/100 [57:20<2:25:43, 177.25s/it]"
     ]
    },
    {
     "name": "stdout",
     "output_type": "stream",
     "text": [
      "Epoch: 51\tLoss: 0.000 [perplexity=87.711, loss_vq=0.039, loss_recon=3.304, loss_cls=0.000]\tVal_acc: 19/27 (70.37%)\n",
      "\n"
     ]
    },
    {
     "name": "stderr",
     "output_type": "stream",
     "text": [
      " 51%|██████████████████                 | 51.47826086956253/100 [58:03<29:21, 36.31s/it]"
     ]
    },
    {
     "name": "stdout",
     "output_type": "stream",
     "text": [
      "Correct: 95/135 (0.7037)\n",
      "Saved new best test model: ../scb14_models/ravdess/model.epoch=51.step=5967.test_acc=0.7037.pt\n",
      "{'acc_unweighted': tensor(0.7016, device='cuda:0'),\n",
      " 'acc_weighted': tensor(0.7037, device='cuda:0'),\n",
      " 'f1s_unweighted': tensor(0.6968, device='cuda:0'),\n",
      " 'f1s_weighted': tensor(0.7052, device='cuda:0'),\n",
      " 'rocauc': tensor(0.8834, device='cuda:0'),\n",
      " 'uar': tensor(0.7016, device='cuda:0'),\n",
      " 'wap': tensor(0.7144, device='cuda:0')}\n",
      "{'acc_detail': tensor([0.7632, 0.6842, 0.5897, 0.7692], device='cuda:0'),\n",
      " 'f1s_detail': tensor([0.8169, 0.6341, 0.6301, 0.7059], device='cuda:0'),\n",
      " 'precision_detail': tensor([0.8788, 0.5909, 0.6765, 0.6522], device='cuda:0'),\n",
      " 'recall_detail': tensor([0.7632, 0.6842, 0.5897, 0.7692], device='cuda:0'),\n",
      " 'rocauc_detail': tensor([0.9455, 0.8997, 0.8563, 0.8323], device='cuda:0')}\n",
      "tensor([[29,  0,  1,  8],\n",
      "        [ 0, 13,  4,  2],\n",
      "        [ 2,  8, 23,  6],\n",
      "        [ 2,  1,  6, 30]], device='cuda:0')\n"
     ]
    },
    {
     "name": "stderr",
     "output_type": "stream",
     "text": [
      " 52%|████████████████▋               | 51.97101449275091/100 [58:38<2:19:16, 173.99s/it]"
     ]
    },
    {
     "name": "stdout",
     "output_type": "stream",
     "text": [
      "Epoch: 52\tLoss: 0.000 [perplexity=107.341, loss_vq=0.043, loss_recon=3.560, loss_cls=0.000]\tVal_acc: 18/27 (66.67%)\n",
      "\n"
     ]
    },
    {
     "name": "stderr",
     "output_type": "stream",
     "text": [
      " 53%|████████████████▉               | 52.94202898550448/100 [59:45<2:19:49, 178.27s/it]"
     ]
    },
    {
     "name": "stdout",
     "output_type": "stream",
     "text": [
      "Epoch: 53\tLoss: 0.000 [perplexity=162.196, loss_vq=0.045, loss_recon=5.179, loss_cls=0.000]\tVal_acc: 18/27 (66.67%)\n",
      "\n"
     ]
    },
    {
     "name": "stderr",
     "output_type": "stream",
     "text": [
      " 54%|████████████████▏             | 53.91304347825805/100 [1:00:51<2:16:11, 177.31s/it]"
     ]
    },
    {
     "name": "stdout",
     "output_type": "stream",
     "text": [
      "Epoch: 54\tLoss: 0.000 [perplexity=141.726, loss_vq=0.037, loss_recon=3.828, loss_cls=0.000]\tVal_acc: 18/27 (66.67%)\n",
      "\n"
     ]
    },
    {
     "name": "stderr",
     "output_type": "stream",
     "text": [
      " 55%|███████████████▉             | 54.884057971011615/100 [1:01:57<2:16:12, 181.15s/it]"
     ]
    },
    {
     "name": "stdout",
     "output_type": "stream",
     "text": [
      "Epoch: 55\tLoss: 0.000 [perplexity=120.115, loss_vq=0.048, loss_recon=5.231, loss_cls=0.000]\tVal_acc: 18/27 (66.67%)\n",
      "\n"
     ]
    },
    {
     "name": "stderr",
     "output_type": "stream",
     "text": [
      " 56%|████████████████▊             | 55.85507246376518/100 [1:03:03<2:10:10, 176.94s/it]"
     ]
    },
    {
     "name": "stdout",
     "output_type": "stream",
     "text": [
      "Epoch: 56\tLoss: 0.000 [perplexity=149.677, loss_vq=0.048, loss_recon=4.101, loss_cls=0.000]\tVal_acc: 18/27 (66.67%)\n",
      "\n"
     ]
    },
    {
     "name": "stderr",
     "output_type": "stream",
     "text": [
      " 57%|█████████████████             | 56.82608695651875/100 [1:04:09<2:06:27, 175.75s/it]"
     ]
    },
    {
     "name": "stdout",
     "output_type": "stream",
     "text": [
      "Epoch: 57\tLoss: 0.000 [perplexity=157.525, loss_vq=0.040, loss_recon=4.932, loss_cls=0.000]\tVal_acc: 18/27 (66.67%)\n",
      "\n"
     ]
    },
    {
     "name": "stderr",
     "output_type": "stream",
     "text": [
      " 58%|█████████████████▎            | 57.79710144927232/100 [1:05:15<2:05:07, 177.90s/it]"
     ]
    },
    {
     "name": "stdout",
     "output_type": "stream",
     "text": [
      "Epoch: 58\tLoss: 0.000 [perplexity=161.965, loss_vq=0.045, loss_recon=3.368, loss_cls=0.000]\tVal_acc: 18/27 (66.67%)\n",
      "\n"
     ]
    },
    {
     "name": "stderr",
     "output_type": "stream",
     "text": [
      " 59%|█████████████████▋            | 58.76811594202589/100 [1:06:22<2:01:19, 176.55s/it]"
     ]
    },
    {
     "name": "stdout",
     "output_type": "stream",
     "text": [
      "Epoch: 59\tLoss: 0.000 [perplexity=139.341, loss_vq=0.042, loss_recon=5.100, loss_cls=0.000]\tVal_acc: 18/27 (66.67%)\n",
      "\n"
     ]
    },
    {
     "name": "stderr",
     "output_type": "stream",
     "text": [
      " 60%|█████████████████▎           | 59.739130434779455/100 [1:07:28<1:56:58, 174.32s/it]"
     ]
    },
    {
     "name": "stdout",
     "output_type": "stream",
     "text": [
      "Epoch: 60\tLoss: 0.001 [perplexity=133.944, loss_vq=0.046, loss_recon=4.812, loss_cls=0.001]\tVal_acc: 18/27 (66.67%)\n",
      "\n"
     ]
    },
    {
     "name": "stderr",
     "output_type": "stream",
     "text": [
      " 61%|██████████████████▏           | 60.71014492753302/100 [1:08:35<1:57:49, 179.92s/it]"
     ]
    },
    {
     "name": "stdout",
     "output_type": "stream",
     "text": [
      "Epoch: 61\tLoss: 0.000 [perplexity=100.238, loss_vq=0.039, loss_recon=4.739, loss_cls=0.000]\tVal_acc: 18/27 (66.67%)\n",
      "\n"
     ]
    },
    {
     "name": "stderr",
     "output_type": "stream",
     "text": [
      " 62%|████████████████████▎            | 61.51449275361993/100 [1:09:18<23:14, 36.22s/it]"
     ]
    },
    {
     "name": "stdout",
     "output_type": "stream",
     "text": [
      "Correct: 95/135 (0.7037)\n",
      "{'acc_unweighted': tensor(0.7016, device='cuda:0'),\n",
      " 'acc_weighted': tensor(0.7037, device='cuda:0'),\n",
      " 'f1s_unweighted': tensor(0.6954, device='cuda:0'),\n",
      " 'f1s_weighted': tensor(0.7058, device='cuda:0'),\n",
      " 'rocauc': tensor(0.8836, device='cuda:0'),\n",
      " 'uar': tensor(0.7016, device='cuda:0'),\n",
      " 'wap': tensor(0.7189, device='cuda:0')}\n",
      "{'acc_detail': tensor([0.7632, 0.6842, 0.5897, 0.7692], device='cuda:0'),\n",
      " 'f1s_detail': tensor([0.8169, 0.6190, 0.6479, 0.6977], device='cuda:0'),\n",
      " 'precision_detail': tensor([0.8788, 0.5652, 0.7188, 0.6383], device='cuda:0'),\n",
      " 'recall_detail': tensor([0.7632, 0.6842, 0.5897, 0.7692], device='cuda:0'),\n",
      " 'rocauc_detail': tensor([0.9461, 0.9002, 0.8540, 0.8341], device='cuda:0')}\n",
      "tensor([[29,  0,  0,  9],\n",
      "        [ 0, 13,  4,  2],\n",
      "        [ 2,  8, 23,  6],\n",
      "        [ 2,  2,  5, 30]], device='cuda:0')\n"
     ]
    },
    {
     "name": "stderr",
     "output_type": "stream",
     "text": [
      " 62%|██████████████████▌           | 62.00724637680831/100 [1:09:53<1:50:03, 173.80s/it]"
     ]
    },
    {
     "name": "stdout",
     "output_type": "stream",
     "text": [
      "Epoch: 62\tLoss: 0.000 [perplexity=99.395, loss_vq=0.039, loss_recon=3.335, loss_cls=0.000]\tVal_acc: 18/27 (66.67%)\n",
      "\n"
     ]
    },
    {
     "name": "stderr",
     "output_type": "stream",
     "text": [
      " 63%|██████████████████▉           | 62.97826086956188/100 [1:11:00<1:49:04, 176.78s/it]"
     ]
    },
    {
     "name": "stdout",
     "output_type": "stream",
     "text": [
      "Epoch: 63\tLoss: 0.000 [perplexity=120.054, loss_vq=0.037, loss_recon=5.685, loss_cls=0.000]\tVal_acc: 18/27 (66.67%)\n",
      "\n"
     ]
    },
    {
     "name": "stderr",
     "output_type": "stream",
     "text": [
      " 64%|███████████████████▏          | 63.94927536231545/100 [1:12:06<1:47:22, 178.71s/it]"
     ]
    },
    {
     "name": "stdout",
     "output_type": "stream",
     "text": [
      "Epoch: 64\tLoss: 0.000 [perplexity=112.290, loss_vq=0.039, loss_recon=3.115, loss_cls=0.000]\tVal_acc: 18/27 (66.67%)\n",
      "\n"
     ]
    },
    {
     "name": "stderr",
     "output_type": "stream",
     "text": [
      " 65%|███████████████████▍          | 64.92028985506902/100 [1:13:13<1:44:15, 178.31s/it]"
     ]
    },
    {
     "name": "stdout",
     "output_type": "stream",
     "text": [
      "Epoch: 65\tLoss: 0.000 [perplexity=119.841, loss_vq=0.039, loss_recon=5.413, loss_cls=0.000]\tVal_acc: 18/27 (66.67%)\n",
      "\n"
     ]
    },
    {
     "name": "stderr",
     "output_type": "stream",
     "text": [
      " 66%|███████████████████▊          | 65.89130434782258/100 [1:14:21<1:41:00, 177.69s/it]"
     ]
    },
    {
     "name": "stdout",
     "output_type": "stream",
     "text": [
      "Epoch: 66\tLoss: 0.000 [perplexity=150.363, loss_vq=0.042, loss_recon=4.344, loss_cls=0.000]\tVal_acc: 18/27 (66.67%)\n",
      "\n"
     ]
    },
    {
     "name": "stderr",
     "output_type": "stream",
     "text": [
      " 67%|████████████████████          | 66.86231884057615/100 [1:15:28<1:40:20, 181.68s/it]"
     ]
    },
    {
     "name": "stdout",
     "output_type": "stream",
     "text": [
      "Epoch: 67\tLoss: 0.000 [perplexity=92.923, loss_vq=0.037, loss_recon=4.926, loss_cls=0.000]\tVal_acc: 18/27 (66.67%)\n",
      "\n"
     ]
    },
    {
     "name": "stderr",
     "output_type": "stream",
     "text": [
      " 68%|████████████████████▎         | 67.83333333332972/100 [1:16:35<1:34:58, 177.16s/it]"
     ]
    },
    {
     "name": "stdout",
     "output_type": "stream",
     "text": [
      "Epoch: 68\tLoss: 0.000 [perplexity=144.991, loss_vq=0.047, loss_recon=4.717, loss_cls=0.000]\tVal_acc: 18/27 (66.67%)\n",
      "\n"
     ]
    },
    {
     "name": "stderr",
     "output_type": "stream",
     "text": [
      " 69%|████████████████████▋         | 68.80434782608329/100 [1:17:42<1:32:49, 178.54s/it]"
     ]
    },
    {
     "name": "stdout",
     "output_type": "stream",
     "text": [
      "Epoch: 69\tLoss: 0.000 [perplexity=142.966, loss_vq=0.036, loss_recon=4.277, loss_cls=0.000]\tVal_acc: 18/27 (66.67%)\n",
      "\n"
     ]
    },
    {
     "name": "stderr",
     "output_type": "stream",
     "text": [
      " 70%|████████████████████▉         | 69.77536231883686/100 [1:18:50<1:31:37, 181.88s/it]"
     ]
    },
    {
     "name": "stdout",
     "output_type": "stream",
     "text": [
      "Epoch: 70\tLoss: 0.000 [perplexity=135.532, loss_vq=0.038, loss_recon=5.550, loss_cls=0.000]\tVal_acc: 18/27 (66.67%)\n",
      "\n"
     ]
    },
    {
     "name": "stderr",
     "output_type": "stream",
     "text": [
      " 71%|█████████████████████▏        | 70.74637681159042/100 [1:19:59<1:25:33, 175.48s/it]"
     ]
    },
    {
     "name": "stdout",
     "output_type": "stream",
     "text": [
      "Epoch: 71\tLoss: 0.000 [perplexity=142.120, loss_vq=0.042, loss_recon=3.650, loss_cls=0.000]\tVal_acc: 18/27 (66.67%)\n",
      "\n"
     ]
    },
    {
     "name": "stderr",
     "output_type": "stream",
     "text": [
      " 72%|███████████████████████▌         | 71.55072463767733/100 [1:20:43<17:15, 36.40s/it]"
     ]
    },
    {
     "name": "stdout",
     "output_type": "stream",
     "text": [
      "Correct: 94/135 (0.6963)\n",
      "{'acc_unweighted': tensor(0.6952, device='cuda:0'),\n",
      " 'acc_weighted': tensor(0.6963, device='cuda:0'),\n",
      " 'f1s_unweighted': tensor(0.6869, device='cuda:0'),\n",
      " 'f1s_weighted': tensor(0.6982, device='cuda:0'),\n",
      " 'rocauc': tensor(0.8838, device='cuda:0'),\n",
      " 'uar': tensor(0.6952, device='cuda:0'),\n",
      " 'wap': tensor(0.7130, device='cuda:0')}\n",
      "{'acc_detail': tensor([0.7632, 0.6842, 0.5641, 0.7692], device='cuda:0'),\n",
      " 'f1s_detail': tensor([0.8169, 0.6047, 0.6286, 0.6977], device='cuda:0'),\n",
      " 'precision_detail': tensor([0.8788, 0.5417, 0.7097, 0.6383], device='cuda:0'),\n",
      " 'recall_detail': tensor([0.7632, 0.6842, 0.5641, 0.7692], device='cuda:0'),\n",
      " 'rocauc_detail': tensor([0.9467, 0.9002, 0.8543, 0.8341], device='cuda:0')}\n",
      "tensor([[29,  0,  0,  9],\n",
      "        [ 0, 13,  4,  2],\n",
      "        [ 2,  9, 22,  6],\n",
      "        [ 2,  2,  5, 30]], device='cuda:0')\n"
     ]
    },
    {
     "name": "stderr",
     "output_type": "stream",
     "text": [
      " 72%|███████████████████████▋         | 71.73188405796718/100 [1:20:55<28:10, 59.81s/it]Exception ignored in: <bound method IPythonKernel._clean_thread_parent_frames of <ipykernel.ipkernel.IPythonKernel object at 0x7fdb32471070>>\n",
      "Traceback (most recent call last):\n",
      "  File \"/opt/anaconda3/envs/audio/lib/python3.9/site-packages/ipykernel/ipkernel.py\", line 770, in _clean_thread_parent_frames\n",
      "    def _clean_thread_parent_frames(\n",
      "KeyboardInterrupt: \n",
      " 72%|███████████████████████▋         | 71.73913043477877/100 [1:20:55<31:52, 67.69s/it]\n",
      "\n",
      "KeyboardInterrupt\n",
      "\n"
     ]
    }
   ],
   "source": [
    "trainer.fit(n_epoch=100, self_supervised=False, train_task='embedding', test_n_epoch=10)"
   ]
  },
  {
   "cell_type": "code",
   "execution_count": 14,
   "id": "5074797f-84af-4c98-a8c1-f03faa377b50",
   "metadata": {
    "scrolled": true
   },
   "outputs": [
    {
     "data": {
      "text/plain": [
       "[VqVaeClsLoss(perplexity=111.57102966308594, loss_vq=0.039005741477012634, loss_recon=4.2866669446229935, loss_cls=1.8520176410675049),\n",
       " VqVaeClsLoss(perplexity=93.60648345947266, loss_vq=0.0351162925362587, loss_recon=4.7846521735191345, loss_cls=1.6483345031738281),\n",
       " VqVaeClsLoss(perplexity=110.688232421875, loss_vq=0.03700786083936691, loss_recon=5.716683030128479, loss_cls=1.1725165843963623),\n",
       " VqVaeClsLoss(perplexity=74.63191223144531, loss_vq=0.041606705635786057, loss_recon=5.0998512506484985, loss_cls=1.3223735094070435),\n",
       " VqVaeClsLoss(perplexity=106.9488754272461, loss_vq=0.04049929976463318, loss_recon=2.8965133726596832, loss_cls=1.5357296466827393),\n",
       " VqVaeClsLoss(perplexity=130.487548828125, loss_vq=0.04499031975865364, loss_recon=3.583193063735962, loss_cls=1.4077613353729248),\n",
       " VqVaeClsLoss(perplexity=73.08684539794922, loss_vq=0.040313418954610825, loss_recon=3.4375353157520294, loss_cls=1.2933591604232788),\n",
       " VqVaeClsLoss(perplexity=133.083740234375, loss_vq=0.038452304899692535, loss_recon=4.396350234746933, loss_cls=1.5824366807937622),\n",
       " VqVaeClsLoss(perplexity=98.61710357666016, loss_vq=0.04411187395453453, loss_recon=3.5037131309509277, loss_cls=1.0941524505615234),\n",
       " VqVaeClsLoss(perplexity=129.3560791015625, loss_vq=0.04005831852555275, loss_recon=5.244498431682587, loss_cls=0.9535107612609863),\n",
       " VqVaeClsLoss(perplexity=143.6761474609375, loss_vq=0.04202379286289215, loss_recon=5.0228917598724365, loss_cls=1.6478016376495361),\n",
       " VqVaeClsLoss(perplexity=151.2400665283203, loss_vq=0.04056030139327049, loss_recon=4.541080057621002, loss_cls=1.7564828395843506),\n",
       " VqVaeClsLoss(perplexity=134.39285278320312, loss_vq=0.04118388518691063, loss_recon=4.1207961440086365, loss_cls=1.7247964143753052),\n",
       " VqVaeClsLoss(perplexity=183.3681640625, loss_vq=0.047475773841142654, loss_recon=4.455416202545166, loss_cls=1.7066984176635742),\n",
       " VqVaeClsLoss(perplexity=89.72933197021484, loss_vq=0.03723125904798508, loss_recon=5.649053245782852, loss_cls=1.462193250656128),\n",
       " VqVaeClsLoss(perplexity=94.723388671875, loss_vq=0.03288894519209862, loss_recon=3.4879738688468933, loss_cls=1.7709968090057373),\n",
       " VqVaeClsLoss(perplexity=151.56161499023438, loss_vq=0.03710299730300903, loss_recon=3.2877257466316223, loss_cls=1.1005661487579346),\n",
       " VqVaeClsLoss(perplexity=110.02037048339844, loss_vq=0.04180760309100151, loss_recon=3.4547069668769836, loss_cls=1.4532831907272339),\n",
       " VqVaeClsLoss(perplexity=124.20457458496094, loss_vq=0.04284039884805679, loss_recon=3.4427426755428314, loss_cls=1.166765809059143),\n",
       " VqVaeClsLoss(perplexity=105.06489562988281, loss_vq=0.03539062663912773, loss_recon=5.419618368148804, loss_cls=1.3173402547836304),\n",
       " VqVaeClsLoss(perplexity=150.24819946289062, loss_vq=0.04666704684495926, loss_recon=4.204134941101074, loss_cls=1.290079951286316),\n",
       " VqVaeClsLoss(perplexity=150.18975830078125, loss_vq=0.049266889691352844, loss_recon=3.657668799161911, loss_cls=1.4788968563079834),\n",
       " VqVaeClsLoss(perplexity=130.8225555419922, loss_vq=0.04684269428253174, loss_recon=3.292423576116562, loss_cls=1.2760813236236572),\n",
       " VqVaeClsLoss(perplexity=148.6287384033203, loss_vq=0.0395217090845108, loss_recon=3.650220036506653, loss_cls=1.6430184841156006),\n",
       " VqVaeClsLoss(perplexity=97.91061401367188, loss_vq=0.03801628202199936, loss_recon=5.707879185676575, loss_cls=1.1605173349380493),\n",
       " VqVaeClsLoss(perplexity=142.46630859375, loss_vq=0.036549631506204605, loss_recon=3.6589736938476562, loss_cls=1.2471489906311035),\n",
       " VqVaeClsLoss(perplexity=122.50621795654297, loss_vq=0.04272165894508362, loss_recon=4.443156599998474, loss_cls=1.0725574493408203),\n",
       " VqVaeClsLoss(perplexity=127.71321105957031, loss_vq=0.04518745094537735, loss_recon=3.440226912498474, loss_cls=1.1908581256866455),\n",
       " VqVaeClsLoss(perplexity=142.58277893066406, loss_vq=0.04117155820131302, loss_recon=3.9380927681922913, loss_cls=1.4241622686386108),\n",
       " VqVaeClsLoss(perplexity=129.8318328857422, loss_vq=0.04319066181778908, loss_recon=4.639085352420807, loss_cls=1.273762822151184),\n",
       " VqVaeClsLoss(perplexity=113.6459732055664, loss_vq=0.03635921701788902, loss_recon=4.200361371040344, loss_cls=1.6477080583572388),\n",
       " VqVaeClsLoss(perplexity=83.49908447265625, loss_vq=0.04014727845788002, loss_recon=5.126917123794556, loss_cls=1.4518837928771973),\n",
       " VqVaeClsLoss(perplexity=115.69799041748047, loss_vq=0.03969923406839371, loss_recon=4.001317024230957, loss_cls=1.202884554862976),\n",
       " VqVaeClsLoss(perplexity=148.6561737060547, loss_vq=0.0393473319709301, loss_recon=4.347996890544891, loss_cls=0.9880281090736389),\n",
       " VqVaeClsLoss(perplexity=133.30435180664062, loss_vq=0.04007510840892792, loss_recon=5.360615313053131, loss_cls=1.1754785776138306),\n",
       " VqVaeClsLoss(perplexity=132.10958862304688, loss_vq=0.037457793951034546, loss_recon=4.748031258583069, loss_cls=1.7848083972930908),\n",
       " VqVaeClsLoss(perplexity=128.86048889160156, loss_vq=0.04352680966258049, loss_recon=4.530564546585083, loss_cls=1.8546268939971924),\n",
       " VqVaeClsLoss(perplexity=88.6318130493164, loss_vq=0.03577963635325432, loss_recon=5.918504595756531, loss_cls=1.6221084594726562),\n",
       " VqVaeClsLoss(perplexity=102.433349609375, loss_vq=0.03477400541305542, loss_recon=4.235950291156769, loss_cls=1.6428369283676147),\n",
       " VqVaeClsLoss(perplexity=134.19781494140625, loss_vq=0.03963330760598183, loss_recon=3.4286946058273315, loss_cls=1.9554822444915771),\n",
       " VqVaeClsLoss(perplexity=155.74583435058594, loss_vq=0.04116463288664818, loss_recon=4.8693608045578, loss_cls=1.957411766052246),\n",
       " VqVaeClsLoss(perplexity=141.38902282714844, loss_vq=0.041753415018320084, loss_recon=4.527840435504913, loss_cls=0.8768137097358704),\n",
       " VqVaeClsLoss(perplexity=123.69586181640625, loss_vq=0.036189012229442596, loss_recon=5.065629482269287, loss_cls=1.7826130390167236),\n",
       " VqVaeClsLoss(perplexity=97.09545135498047, loss_vq=0.0361814945936203, loss_recon=4.503136336803436, loss_cls=1.9535914659500122),\n",
       " VqVaeClsLoss(perplexity=128.79278564453125, loss_vq=0.04199666902422905, loss_recon=4.260846138000488, loss_cls=1.922844648361206),\n",
       " VqVaeClsLoss(perplexity=144.167724609375, loss_vq=0.0385378822684288, loss_recon=3.7918731570243835, loss_cls=1.0958473682403564),\n",
       " VqVaeClsLoss(perplexity=125.20021057128906, loss_vq=0.03835584968328476, loss_recon=4.50505256652832, loss_cls=1.189039945602417),\n",
       " VqVaeClsLoss(perplexity=105.78768920898438, loss_vq=0.033000413328409195, loss_recon=5.087536156177521, loss_cls=1.2160754203796387),\n",
       " VqVaeClsLoss(perplexity=147.56256103515625, loss_vq=0.04072803631424904, loss_recon=3.0929266214370728, loss_cls=1.3257896900177002),\n",
       " VqVaeClsLoss(perplexity=89.67144775390625, loss_vq=0.039429835975170135, loss_recon=4.722878947854042, loss_cls=1.1704885959625244),\n",
       " VqVaeClsLoss(perplexity=128.13771057128906, loss_vq=0.03850312903523445, loss_recon=3.7575342059135437, loss_cls=1.0710731744766235),\n",
       " VqVaeClsLoss(perplexity=113.47533416748047, loss_vq=0.03314734995365143, loss_recon=5.509763240814209, loss_cls=1.8259648084640503),\n",
       " VqVaeClsLoss(perplexity=141.78533935546875, loss_vq=0.03514423966407776, loss_recon=3.452037751674652, loss_cls=1.6557902097702026),\n",
       " VqVaeClsLoss(perplexity=182.5188446044922, loss_vq=0.04379073157906532, loss_recon=5.1526618003845215, loss_cls=1.3650081157684326),\n",
       " VqVaeClsLoss(perplexity=104.78631591796875, loss_vq=0.041311126202344894, loss_recon=5.559662938117981, loss_cls=1.2937456369400024),\n",
       " VqVaeClsLoss(perplexity=183.9519500732422, loss_vq=0.042549122124910355, loss_recon=3.2039061188697815, loss_cls=0.7686280012130737),\n",
       " VqVaeClsLoss(perplexity=130.51266479492188, loss_vq=0.040294013917446136, loss_recon=3.6598983258008957, loss_cls=1.7489421367645264),\n",
       " VqVaeClsLoss(perplexity=154.14794921875, loss_vq=0.04354989901185036, loss_recon=3.2266061305999756, loss_cls=1.6082327365875244),\n",
       " VqVaeClsLoss(perplexity=140.1806640625, loss_vq=0.041013721376657486, loss_recon=4.93048095703125, loss_cls=2.2488110065460205),\n",
       " VqVaeClsLoss(perplexity=72.66241455078125, loss_vq=0.032497525215148926, loss_recon=5.069274008274078, loss_cls=1.1026304960250854),\n",
       " VqVaeClsLoss(perplexity=101.39732360839844, loss_vq=0.03869341313838959, loss_recon=3.610500693321228, loss_cls=2.065831184387207),\n",
       " VqVaeClsLoss(perplexity=94.83235931396484, loss_vq=0.034555111080408096, loss_recon=5.554665744304657, loss_cls=0.9586890339851379),\n",
       " VqVaeClsLoss(perplexity=117.99230194091797, loss_vq=0.03809197247028351, loss_recon=4.320644736289978, loss_cls=1.1376001834869385),\n",
       " VqVaeClsLoss(perplexity=160.5270233154297, loss_vq=0.04698098450899124, loss_recon=4.238873988389969, loss_cls=0.9790483713150024),\n",
       " VqVaeClsLoss(perplexity=114.10882568359375, loss_vq=0.03557112440466881, loss_recon=4.593397498130798, loss_cls=1.0237387418746948),\n",
       " VqVaeClsLoss(perplexity=145.5038604736328, loss_vq=0.03935473784804344, loss_recon=5.103771805763245, loss_cls=1.4870167970657349),\n",
       " VqVaeClsLoss(perplexity=85.3803482055664, loss_vq=0.04007355868816376, loss_recon=3.471504509449005, loss_cls=1.8651882410049438),\n",
       " VqVaeClsLoss(perplexity=118.0121078491211, loss_vq=0.041692208498716354, loss_recon=4.721694827079773, loss_cls=1.6871380805969238),\n",
       " VqVaeClsLoss(perplexity=109.13862609863281, loss_vq=0.04511967673897743, loss_recon=3.2215122878551483, loss_cls=1.4528162479400635),\n",
       " VqVaeClsLoss(perplexity=134.6365966796875, loss_vq=0.038357045501470566, loss_recon=4.931898236274719, loss_cls=1.7079071998596191),\n",
       " VqVaeClsLoss(perplexity=147.70947265625, loss_vq=0.043471794575452805, loss_recon=3.7082519829273224, loss_cls=1.5784039497375488),\n",
       " VqVaeClsLoss(perplexity=156.27305603027344, loss_vq=0.042517226189374924, loss_recon=3.4861993193626404, loss_cls=1.2826296091079712),\n",
       " VqVaeClsLoss(perplexity=93.53812408447266, loss_vq=0.0342232920229435, loss_recon=3.597988873720169, loss_cls=1.4746487140655518),\n",
       " VqVaeClsLoss(perplexity=95.08519744873047, loss_vq=0.03900371491909027, loss_recon=4.109111785888672, loss_cls=0.880394697189331),\n",
       " VqVaeClsLoss(perplexity=45.26195526123047, loss_vq=0.03165328875184059, loss_recon=3.3378612101078033, loss_cls=1.2586662769317627),\n",
       " VqVaeClsLoss(perplexity=104.74644470214844, loss_vq=0.043513111770153046, loss_recon=3.2298174500465393, loss_cls=1.432739019393921),\n",
       " VqVaeClsLoss(perplexity=112.07686614990234, loss_vq=0.03595646470785141, loss_recon=5.2175716161727905, loss_cls=1.3272067308425903),\n",
       " VqVaeClsLoss(perplexity=111.1854248046875, loss_vq=0.0342031829059124, loss_recon=4.474653035402298, loss_cls=1.4429969787597656),\n",
       " VqVaeClsLoss(perplexity=133.77435302734375, loss_vq=0.04539976641535759, loss_recon=3.8200769424438477, loss_cls=0.9249277710914612),\n",
       " VqVaeClsLoss(perplexity=79.75759887695312, loss_vq=0.03625299409031868, loss_recon=3.679897516965866, loss_cls=1.9715983867645264),\n",
       " VqVaeClsLoss(perplexity=145.81246948242188, loss_vq=0.042190197855234146, loss_recon=4.489716649055481, loss_cls=0.9343830943107605),\n",
       " VqVaeClsLoss(perplexity=119.56774139404297, loss_vq=0.032347746193408966, loss_recon=4.60078489780426, loss_cls=1.482119083404541),\n",
       " VqVaeClsLoss(perplexity=134.43118286132812, loss_vq=0.03768238425254822, loss_recon=2.886995494365692, loss_cls=1.1719363927841187),\n",
       " VqVaeClsLoss(perplexity=119.95738983154297, loss_vq=0.03919048607349396, loss_recon=5.23909604549408, loss_cls=1.3377797603607178),\n",
       " VqVaeClsLoss(perplexity=93.40970611572266, loss_vq=0.032923705875873566, loss_recon=4.473339706659317, loss_cls=1.2291233539581299),\n",
       " VqVaeClsLoss(perplexity=99.3447036743164, loss_vq=0.03984759747982025, loss_recon=5.383527874946594, loss_cls=0.6416329741477966),\n",
       " VqVaeClsLoss(perplexity=150.7333526611328, loss_vq=0.04439926892518997, loss_recon=3.5735710859298706, loss_cls=1.5611176490783691),\n",
       " VqVaeClsLoss(perplexity=104.47016143798828, loss_vq=0.039476700127124786, loss_recon=4.682993173599243, loss_cls=0.7952019572257996),\n",
       " VqVaeClsLoss(perplexity=162.5731964111328, loss_vq=0.048131782561540604, loss_recon=3.9903919100761414, loss_cls=1.3638077974319458),\n",
       " VqVaeClsLoss(perplexity=93.81346130371094, loss_vq=0.0439932644367218, loss_recon=5.161179065704346, loss_cls=1.148667573928833),\n",
       " VqVaeClsLoss(perplexity=145.53147888183594, loss_vq=0.04619468003511429, loss_recon=3.5209745168685913, loss_cls=0.8216142058372498),\n",
       " VqVaeClsLoss(perplexity=151.825439453125, loss_vq=0.04125445336103439, loss_recon=4.166361212730408, loss_cls=1.060664176940918),\n",
       " VqVaeClsLoss(perplexity=89.43380737304688, loss_vq=0.03780117258429527, loss_recon=3.9424614012241364, loss_cls=1.2558125257492065),\n",
       " VqVaeClsLoss(perplexity=155.5089569091797, loss_vq=0.04038761928677559, loss_recon=4.341162443161011, loss_cls=2.2464098930358887),\n",
       " VqVaeClsLoss(perplexity=121.40237426757812, loss_vq=0.04388776421546936, loss_recon=4.838539958000183, loss_cls=1.7732106447219849),\n",
       " VqVaeClsLoss(perplexity=87.48171997070312, loss_vq=0.03812336549162865, loss_recon=5.7970181703567505, loss_cls=2.0350308418273926),\n",
       " VqVaeClsLoss(perplexity=123.31989288330078, loss_vq=0.03956857696175575, loss_recon=4.015640616416931, loss_cls=1.5886104106903076),\n",
       " VqVaeClsLoss(perplexity=78.0158920288086, loss_vq=0.031711407005786896, loss_recon=5.628411531448364, loss_cls=0.9712378978729248),\n",
       " VqVaeClsLoss(perplexity=109.64271545410156, loss_vq=0.037597015500068665, loss_recon=4.486681327223778, loss_cls=1.111168384552002),\n",
       " VqVaeClsLoss(perplexity=96.27000427246094, loss_vq=0.03481601923704147, loss_recon=2.6706706285476685, loss_cls=1.376115322113037),\n",
       " VqVaeClsLoss(perplexity=137.98513793945312, loss_vq=0.039486806839704514, loss_recon=4.729760646820068, loss_cls=1.139798879623413),\n",
       " VqVaeClsLoss(perplexity=135.05751037597656, loss_vq=0.042989663779735565, loss_recon=4.9028701186180115, loss_cls=1.5791151523590088),\n",
       " VqVaeClsLoss(perplexity=126.7989501953125, loss_vq=0.037972331047058105, loss_recon=5.056164979934692, loss_cls=1.3893065452575684),\n",
       " VqVaeClsLoss(perplexity=82.70845031738281, loss_vq=0.03678007796406746, loss_recon=4.357785284519196, loss_cls=1.0973069667816162),\n",
       " VqVaeClsLoss(perplexity=68.00243377685547, loss_vq=0.03201157599687576, loss_recon=4.453350841999054, loss_cls=1.0537885427474976),\n",
       " VqVaeClsLoss(perplexity=128.92552185058594, loss_vq=0.03949931263923645, loss_recon=5.410257667303085, loss_cls=1.2020010948181152),\n",
       " VqVaeClsLoss(perplexity=113.25090026855469, loss_vq=0.03702721372246742, loss_recon=4.088286578655243, loss_cls=1.2903292179107666),\n",
       " VqVaeClsLoss(perplexity=155.79054260253906, loss_vq=0.04782768711447716, loss_recon=3.522150605916977, loss_cls=1.1092365980148315),\n",
       " VqVaeClsLoss(perplexity=154.89625549316406, loss_vq=0.040394898504018784, loss_recon=4.494786441326141, loss_cls=1.032911777496338),\n",
       " VqVaeClsLoss(perplexity=62.092063903808594, loss_vq=0.04035915806889534, loss_recon=4.930145174264908, loss_cls=1.151350498199463),\n",
       " VqVaeClsLoss(perplexity=61.63345718383789, loss_vq=0.03585570305585861, loss_recon=6.005416929721832, loss_cls=1.2142003774642944),\n",
       " VqVaeClsLoss(perplexity=126.26570892333984, loss_vq=0.041058022528886795, loss_recon=3.833613008260727, loss_cls=1.2852559089660645),\n",
       " VqVaeClsLoss(perplexity=145.77528381347656, loss_vq=0.039362382143735886, loss_recon=4.77298441529274, loss_cls=1.3366962671279907),\n",
       " VqVaeClsLoss(perplexity=112.75640106201172, loss_vq=0.04052611440420151, loss_recon=5.56341278553009, loss_cls=0.8436842560768127),\n",
       " VqVaeClsLoss(perplexity=125.37059020996094, loss_vq=0.041640084236860275, loss_recon=3.5246691703796387, loss_cls=1.3794779777526855),\n",
       " VqVaeClsLoss(perplexity=122.3868179321289, loss_vq=0.04242779687047005, loss_recon=3.9350560307502747, loss_cls=1.3480432033538818),\n",
       " VqVaeClsLoss(perplexity=67.1903076171875, loss_vq=0.03630714491009712, loss_recon=4.128506571054459, loss_cls=1.5327844619750977),\n",
       " VqVaeClsLoss(perplexity=113.30880737304688, loss_vq=0.035960882902145386, loss_recon=5.400169938802719, loss_cls=1.190351963043213),\n",
       " VqVaeClsLoss(perplexity=84.65033721923828, loss_vq=0.03819432854652405, loss_recon=5.672389209270477, loss_cls=1.1713616847991943),\n",
       " VqVaeClsLoss(perplexity=112.33426666259766, loss_vq=0.03423042595386505, loss_recon=5.5456894636154175, loss_cls=1.1580716371536255),\n",
       " VqVaeClsLoss(perplexity=116.07595825195312, loss_vq=0.041286371648311615, loss_recon=3.6647444367408752, loss_cls=1.0705146789550781),\n",
       " VqVaeClsLoss(perplexity=135.3515625, loss_vq=0.0457904078066349, loss_recon=3.051433742046356, loss_cls=0.7314496040344238),\n",
       " VqVaeClsLoss(perplexity=99.4208984375, loss_vq=0.04277798905968666, loss_recon=4.092511713504791, loss_cls=0.8885000348091125),\n",
       " VqVaeClsLoss(perplexity=100.20887756347656, loss_vq=0.03867911919951439, loss_recon=4.332429885864258, loss_cls=0.8212346434593201),\n",
       " VqVaeClsLoss(perplexity=148.1882781982422, loss_vq=0.04515864700078964, loss_recon=4.7050923109054565, loss_cls=0.6322606801986694),\n",
       " VqVaeClsLoss(perplexity=140.9887237548828, loss_vq=0.03706362470984459, loss_recon=5.390809178352356, loss_cls=1.9357404708862305),\n",
       " VqVaeClsLoss(perplexity=173.9759979248047, loss_vq=0.05238146707415581, loss_recon=3.82222056388855, loss_cls=1.1675711870193481),\n",
       " VqVaeClsLoss(perplexity=127.42203521728516, loss_vq=0.034907978028059006, loss_recon=4.037290692329407, loss_cls=1.1215405464172363),\n",
       " VqVaeClsLoss(perplexity=139.4808349609375, loss_vq=0.04348216950893402, loss_recon=2.906520575284958, loss_cls=1.1578047275543213),\n",
       " VqVaeClsLoss(perplexity=147.003662109375, loss_vq=0.03911816328763962, loss_recon=4.1473066210746765, loss_cls=2.016157627105713),\n",
       " VqVaeClsLoss(perplexity=121.73348999023438, loss_vq=0.04007725790143013, loss_recon=5.174949645996094, loss_cls=1.382319450378418),\n",
       " VqVaeClsLoss(perplexity=122.14279174804688, loss_vq=0.04261217638850212, loss_recon=3.765690803527832, loss_cls=1.5095818042755127),\n",
       " VqVaeClsLoss(perplexity=122.54769134521484, loss_vq=0.04224364086985588, loss_recon=4.878953158855438, loss_cls=0.9100434184074402),\n",
       " VqVaeClsLoss(perplexity=70.44143676757812, loss_vq=0.03438206762075424, loss_recon=5.315675258636475, loss_cls=1.2846574783325195),\n",
       " VqVaeClsLoss(perplexity=143.60223388671875, loss_vq=0.04179295152425766, loss_recon=3.232385665178299, loss_cls=1.5239739418029785),\n",
       " VqVaeClsLoss(perplexity=164.65411376953125, loss_vq=0.045105528086423874, loss_recon=4.957318037748337, loss_cls=1.0353490114212036),\n",
       " VqVaeClsLoss(perplexity=149.51513671875, loss_vq=0.04087699204683304, loss_recon=5.322071552276611, loss_cls=0.865405797958374),\n",
       " VqVaeClsLoss(perplexity=106.454833984375, loss_vq=0.03880836069583893, loss_recon=5.182496547698975, loss_cls=0.7291713356971741),\n",
       " VqVaeClsLoss(perplexity=143.0122833251953, loss_vq=0.04027099907398224, loss_recon=4.819701045751572, loss_cls=1.136901617050171),\n",
       " VqVaeClsLoss(perplexity=66.07762908935547, loss_vq=0.04061662405729294, loss_recon=3.980543464422226, loss_cls=0.8933959603309631),\n",
       " VqVaeClsLoss(perplexity=177.77346801757812, loss_vq=0.044003069400787354, loss_recon=4.242057621479034, loss_cls=0.8690354228019714),\n",
       " VqVaeClsLoss(perplexity=87.70182800292969, loss_vq=0.036939848214387894, loss_recon=5.04206782579422, loss_cls=1.2521930932998657),\n",
       " VqVaeClsLoss(perplexity=165.56637573242188, loss_vq=0.03989013656973839, loss_recon=3.918549746274948, loss_cls=0.8458619117736816),\n",
       " VqVaeClsLoss(perplexity=115.52103424072266, loss_vq=0.039559464901685715, loss_recon=3.115738481283188, loss_cls=1.3343489170074463),\n",
       " VqVaeClsLoss(perplexity=106.10101318359375, loss_vq=0.0381731353700161, loss_recon=3.5955852270126343, loss_cls=0.9098639488220215),\n",
       " VqVaeClsLoss(perplexity=157.53724670410156, loss_vq=0.044576674699783325, loss_recon=4.79325470328331, loss_cls=0.8018474578857422),\n",
       " VqVaeClsLoss(perplexity=145.20584106445312, loss_vq=0.04481545463204384, loss_recon=3.71974641084671, loss_cls=1.3532823324203491),\n",
       " VqVaeClsLoss(perplexity=135.2772979736328, loss_vq=0.03846085071563721, loss_recon=6.048136651515961, loss_cls=1.5747900009155273),\n",
       " VqVaeClsLoss(perplexity=153.0692596435547, loss_vq=0.04244843125343323, loss_recon=3.3246355056762695, loss_cls=1.47879958152771),\n",
       " VqVaeClsLoss(perplexity=113.85365295410156, loss_vq=0.03655818849802017, loss_recon=4.909183382987976, loss_cls=0.8781120777130127),\n",
       " VqVaeClsLoss(perplexity=158.33416748046875, loss_vq=0.05077674612402916, loss_recon=3.6889692544937134, loss_cls=1.0576251745224),\n",
       " VqVaeClsLoss(perplexity=131.67437744140625, loss_vq=0.03763624653220177, loss_recon=5.023613154888153, loss_cls=1.4554380178451538),\n",
       " VqVaeClsLoss(perplexity=120.9795913696289, loss_vq=0.0389016717672348, loss_recon=3.50343856215477, loss_cls=1.08310866355896),\n",
       " VqVaeClsLoss(perplexity=140.19410705566406, loss_vq=0.037155646830797195, loss_recon=4.888152539730072, loss_cls=1.1923099756240845),\n",
       " VqVaeClsLoss(perplexity=156.385009765625, loss_vq=0.046889904886484146, loss_recon=4.648341178894043, loss_cls=1.9158740043640137),\n",
       " VqVaeClsLoss(perplexity=121.89984130859375, loss_vq=0.038508765399456024, loss_recon=4.509887933731079, loss_cls=1.063483476638794),\n",
       " VqVaeClsLoss(perplexity=78.76467895507812, loss_vq=0.033152882009744644, loss_recon=4.140291184186935, loss_cls=0.9263360500335693),\n",
       " VqVaeClsLoss(perplexity=96.6866683959961, loss_vq=0.039054978638887405, loss_recon=2.9397876858711243, loss_cls=0.6469677090644836),\n",
       " VqVaeClsLoss(perplexity=126.83220672607422, loss_vq=0.043499816209077835, loss_recon=4.130887567996979, loss_cls=1.417464256286621),\n",
       " VqVaeClsLoss(perplexity=69.8265151977539, loss_vq=0.03791709989309311, loss_recon=4.264428034424782, loss_cls=1.2756946086883545),\n",
       " VqVaeClsLoss(perplexity=99.52886199951172, loss_vq=0.03794950246810913, loss_recon=4.41841733455658, loss_cls=1.683330774307251),\n",
       " VqVaeClsLoss(perplexity=169.00892639160156, loss_vq=0.03973258286714554, loss_recon=2.6883198618888855, loss_cls=2.097144603729248),\n",
       " VqVaeClsLoss(perplexity=116.84252166748047, loss_vq=0.0457579642534256, loss_recon=3.8140849471092224, loss_cls=1.8119592666625977),\n",
       " VqVaeClsLoss(perplexity=135.62872314453125, loss_vq=0.035769518464803696, loss_recon=4.447857022285461, loss_cls=1.6167702674865723),\n",
       " VqVaeClsLoss(perplexity=118.21148681640625, loss_vq=0.03263316676020622, loss_recon=4.792644619941711, loss_cls=1.1762974262237549),\n",
       " VqVaeClsLoss(perplexity=146.2532958984375, loss_vq=0.037529200315475464, loss_recon=4.172706782817841, loss_cls=1.2489681243896484),\n",
       " VqVaeClsLoss(perplexity=130.78614807128906, loss_vq=0.039874035865068436, loss_recon=4.9007954597473145, loss_cls=1.3284554481506348),\n",
       " VqVaeClsLoss(perplexity=90.18008422851562, loss_vq=0.03798561543226242, loss_recon=4.100977718830109, loss_cls=2.955782651901245),\n",
       " VqVaeClsLoss(perplexity=101.30927276611328, loss_vq=0.038092222064733505, loss_recon=3.6609994173049927, loss_cls=1.7478854656219482),\n",
       " VqVaeClsLoss(perplexity=92.73717498779297, loss_vq=0.029863256961107254, loss_recon=4.728969573974609, loss_cls=2.059863805770874),\n",
       " VqVaeClsLoss(perplexity=124.62358093261719, loss_vq=0.041333671659231186, loss_recon=3.4576117992401123, loss_cls=0.8563916683197021),\n",
       " VqVaeClsLoss(perplexity=86.39575958251953, loss_vq=0.03458520397543907, loss_recon=5.377046465873718, loss_cls=0.9371105432510376),\n",
       " VqVaeClsLoss(perplexity=140.7336883544922, loss_vq=0.03799238055944443, loss_recon=3.755807876586914, loss_cls=1.2192517518997192),\n",
       " VqVaeClsLoss(perplexity=94.63543701171875, loss_vq=0.037347402423620224, loss_recon=4.6775049567222595, loss_cls=1.3368544578552246),\n",
       " VqVaeClsLoss(perplexity=107.91718292236328, loss_vq=0.04336589202284813, loss_recon=3.895173728466034, loss_cls=0.9264106154441833),\n",
       " VqVaeClsLoss(perplexity=189.4227752685547, loss_vq=0.040776327252388, loss_recon=4.613178849220276, loss_cls=1.6888034343719482),\n",
       " VqVaeClsLoss(perplexity=88.06381225585938, loss_vq=0.03738703578710556, loss_recon=2.9283944219350815, loss_cls=1.4273784160614014),\n",
       " VqVaeClsLoss(perplexity=139.6099395751953, loss_vq=0.04160987213253975, loss_recon=3.9884039163589478, loss_cls=1.9515891075134277),\n",
       " VqVaeClsLoss(perplexity=92.11421966552734, loss_vq=0.04061690717935562, loss_recon=4.29579570889473, loss_cls=2.6258082389831543),\n",
       " VqVaeClsLoss(perplexity=80.97258758544922, loss_vq=0.03856998309493065, loss_recon=5.057771682739258, loss_cls=1.1176731586456299),\n",
       " VqVaeClsLoss(perplexity=99.31834411621094, loss_vq=0.0397234745323658, loss_recon=3.7439794093370438, loss_cls=1.3592422008514404),\n",
       " VqVaeClsLoss(perplexity=119.24581909179688, loss_vq=0.034609559923410416, loss_recon=3.616828203201294, loss_cls=1.7132703065872192),\n",
       " VqVaeClsLoss(perplexity=79.70153045654297, loss_vq=0.030268138274550438, loss_recon=5.263292133808136, loss_cls=1.313090205192566),\n",
       " VqVaeClsLoss(perplexity=105.42803192138672, loss_vq=0.040743328630924225, loss_recon=2.799373745918274, loss_cls=1.171679139137268),\n",
       " VqVaeClsLoss(perplexity=142.8473663330078, loss_vq=0.03940221294760704, loss_recon=4.778056740760803, loss_cls=1.8285150527954102),\n",
       " VqVaeClsLoss(perplexity=136.69749450683594, loss_vq=0.04138107970356941, loss_recon=5.393714129924774, loss_cls=1.1721258163452148),\n",
       " VqVaeClsLoss(perplexity=117.2817153930664, loss_vq=0.04620358347892761, loss_recon=2.6834405958652496, loss_cls=0.8998542428016663),\n",
       " VqVaeClsLoss(perplexity=112.06419372558594, loss_vq=0.03900786489248276, loss_recon=3.6606442779302597, loss_cls=1.5942773818969727),\n",
       " VqVaeClsLoss(perplexity=173.72581481933594, loss_vq=0.04276758432388306, loss_recon=3.4881656169891357, loss_cls=0.9960159659385681),\n",
       " VqVaeClsLoss(perplexity=107.95747375488281, loss_vq=0.04249386861920357, loss_recon=3.9634383618831635, loss_cls=1.1512155532836914),\n",
       " VqVaeClsLoss(perplexity=113.8440933227539, loss_vq=0.041948359459638596, loss_recon=4.607605755329132, loss_cls=1.2607125043869019),\n",
       " VqVaeClsLoss(perplexity=85.72905731201172, loss_vq=0.03967101871967316, loss_recon=3.702128142118454, loss_cls=1.8158175945281982),\n",
       " VqVaeClsLoss(perplexity=126.71306610107422, loss_vq=0.04042110964655876, loss_recon=4.849458694458008, loss_cls=1.499934196472168),\n",
       " VqVaeClsLoss(perplexity=114.31779479980469, loss_vq=0.034951623529195786, loss_recon=4.440081238746643, loss_cls=1.1681880950927734),\n",
       " VqVaeClsLoss(perplexity=131.1641845703125, loss_vq=0.03994249552488327, loss_recon=3.5093818604946136, loss_cls=1.7155940532684326),\n",
       " VqVaeClsLoss(perplexity=90.14427185058594, loss_vq=0.036260027438402176, loss_recon=4.989895939826965, loss_cls=2.0077953338623047),\n",
       " VqVaeClsLoss(perplexity=122.26886749267578, loss_vq=0.03783030807971954, loss_recon=4.969623446464539, loss_cls=1.561255693435669),\n",
       " VqVaeClsLoss(perplexity=153.42774963378906, loss_vq=0.039612844586372375, loss_recon=3.9509127736091614, loss_cls=1.6200157403945923),\n",
       " VqVaeClsLoss(perplexity=116.11271667480469, loss_vq=0.0354887917637825, loss_recon=5.285751819610596, loss_cls=1.164482593536377),\n",
       " VqVaeClsLoss(perplexity=94.51026153564453, loss_vq=0.03421598672866821, loss_recon=5.382690489292145, loss_cls=1.2142398357391357),\n",
       " VqVaeClsLoss(perplexity=142.48614501953125, loss_vq=0.03581497073173523, loss_recon=4.540149688720703, loss_cls=0.9689934253692627),\n",
       " VqVaeClsLoss(perplexity=117.22640991210938, loss_vq=0.03692594915628433, loss_recon=4.499755144119263, loss_cls=1.0999562740325928),\n",
       " VqVaeClsLoss(perplexity=92.5140380859375, loss_vq=0.03678751736879349, loss_recon=5.1223596930503845, loss_cls=1.405932903289795),\n",
       " VqVaeClsLoss(perplexity=119.98375701904297, loss_vq=0.03892519697546959, loss_recon=4.940608739852905, loss_cls=1.1538262367248535),\n",
       " VqVaeClsLoss(perplexity=142.0243377685547, loss_vq=0.03958116099238396, loss_recon=4.09459513425827, loss_cls=1.4144270420074463),\n",
       " VqVaeClsLoss(perplexity=92.4208755493164, loss_vq=0.03429296985268593, loss_recon=4.3974714279174805, loss_cls=1.2961065769195557),\n",
       " VqVaeClsLoss(perplexity=116.82469940185547, loss_vq=0.03702219948172569, loss_recon=4.023207306861877, loss_cls=1.328802466392517),\n",
       " VqVaeClsLoss(perplexity=140.57064819335938, loss_vq=0.044122252613306046, loss_recon=3.802830308675766, loss_cls=0.939976155757904),\n",
       " VqVaeClsLoss(perplexity=143.26585388183594, loss_vq=0.04353854060173035, loss_recon=4.589216232299805, loss_cls=1.3273561000823975),\n",
       " VqVaeClsLoss(perplexity=127.37725830078125, loss_vq=0.03467212989926338, loss_recon=4.501178801059723, loss_cls=1.6155312061309814),\n",
       " VqVaeClsLoss(perplexity=134.84271240234375, loss_vq=0.03946467861533165, loss_recon=5.795324206352234, loss_cls=0.8494492769241333),\n",
       " VqVaeClsLoss(perplexity=123.90347290039062, loss_vq=0.04000929743051529, loss_recon=4.015291273593903, loss_cls=1.1960954666137695),\n",
       " VqVaeClsLoss(perplexity=90.79134368896484, loss_vq=0.03749535232782364, loss_recon=4.425035238265991, loss_cls=1.8345147371292114),\n",
       " VqVaeClsLoss(perplexity=153.13253784179688, loss_vq=0.040669362992048264, loss_recon=3.3749372959136963, loss_cls=1.74856436252594),\n",
       " VqVaeClsLoss(perplexity=110.27058410644531, loss_vq=0.04058346524834633, loss_recon=5.074686288833618, loss_cls=1.2426517009735107),\n",
       " VqVaeClsLoss(perplexity=123.47077941894531, loss_vq=0.04076363518834114, loss_recon=3.987876608967781, loss_cls=0.7348447442054749),\n",
       " VqVaeClsLoss(perplexity=78.49147033691406, loss_vq=0.035154540091753006, loss_recon=4.643859028816223, loss_cls=1.4791046380996704),\n",
       " VqVaeClsLoss(perplexity=176.40869140625, loss_vq=0.04561690241098404, loss_recon=3.2887638211250305, loss_cls=1.3951373100280762),\n",
       " VqVaeClsLoss(perplexity=97.36431121826172, loss_vq=0.040953248739242554, loss_recon=3.9620942771434784, loss_cls=1.1969655752182007),\n",
       " VqVaeClsLoss(perplexity=132.1408233642578, loss_vq=0.03953182324767113, loss_recon=4.841176748275757, loss_cls=1.1372830867767334),\n",
       " VqVaeClsLoss(perplexity=108.43423461914062, loss_vq=0.040623053908348083, loss_recon=4.181326925754547, loss_cls=1.2380836009979248),\n",
       " VqVaeClsLoss(perplexity=128.81134033203125, loss_vq=0.04294006898999214, loss_recon=3.8933916687965393, loss_cls=0.8952522873878479),\n",
       " VqVaeClsLoss(perplexity=98.66703796386719, loss_vq=0.036236315965652466, loss_recon=4.783925697207451, loss_cls=1.2688806056976318),\n",
       " VqVaeClsLoss(perplexity=124.55567932128906, loss_vq=0.03906664624810219, loss_recon=4.386787176132202, loss_cls=1.8862048387527466),\n",
       " VqVaeClsLoss(perplexity=79.81554412841797, loss_vq=0.033796411007642746, loss_recon=4.938780665397644, loss_cls=2.728541135787964),\n",
       " VqVaeClsLoss(perplexity=132.4542236328125, loss_vq=0.03890777379274368, loss_recon=4.089325159788132, loss_cls=1.5469202995300293),\n",
       " VqVaeClsLoss(perplexity=116.0858154296875, loss_vq=0.04062800481915474, loss_recon=3.612541973590851, loss_cls=2.007324695587158),\n",
       " VqVaeClsLoss(perplexity=149.72589111328125, loss_vq=0.04251469671726227, loss_recon=4.878413200378418, loss_cls=1.7830641269683838),\n",
       " VqVaeClsLoss(perplexity=140.48580932617188, loss_vq=0.04583565890789032, loss_recon=3.3043681383132935, loss_cls=1.6529209613800049),\n",
       " VqVaeClsLoss(perplexity=101.83761596679688, loss_vq=0.037535659968853, loss_recon=4.726741403341293, loss_cls=1.291733980178833),\n",
       " VqVaeClsLoss(perplexity=116.56084442138672, loss_vq=0.03496545925736427, loss_recon=4.493342220783234, loss_cls=1.1360350847244263),\n",
       " VqVaeClsLoss(perplexity=151.00343322753906, loss_vq=0.044923074543476105, loss_recon=5.693021774291992, loss_cls=1.1000632047653198),\n",
       " VqVaeClsLoss(perplexity=118.27576446533203, loss_vq=0.04217483103275299, loss_recon=4.012736678123474, loss_cls=1.215811848640442),\n",
       " VqVaeClsLoss(perplexity=54.32435989379883, loss_vq=0.03913647681474686, loss_recon=5.570789098739624, loss_cls=1.3049719333648682),\n",
       " VqVaeClsLoss(perplexity=100.91537475585938, loss_vq=0.037907637655735016, loss_recon=5.184923946857452, loss_cls=1.2107577323913574),\n",
       " VqVaeClsLoss(perplexity=117.09440612792969, loss_vq=0.04287783429026604, loss_recon=3.364450514316559, loss_cls=1.1944470405578613),\n",
       " VqVaeClsLoss(perplexity=174.44227600097656, loss_vq=0.04305965080857277, loss_recon=3.688479006290436, loss_cls=1.024653673171997),\n",
       " VqVaeClsLoss(perplexity=101.7005844116211, loss_vq=0.040547169744968414, loss_recon=2.995953381061554, loss_cls=2.036109447479248),\n",
       " VqVaeClsLoss(perplexity=114.4492416381836, loss_vq=0.036478299647569656, loss_recon=3.8885427117347717, loss_cls=1.5982154607772827),\n",
       " VqVaeClsLoss(perplexity=78.33230590820312, loss_vq=0.03324650973081589, loss_recon=4.949911952018738, loss_cls=1.117781400680542),\n",
       " VqVaeClsLoss(perplexity=128.2865753173828, loss_vq=0.03899930417537689, loss_recon=4.985541880130768, loss_cls=1.24895441532135),\n",
       " VqVaeClsLoss(perplexity=108.4791488647461, loss_vq=0.04163694381713867, loss_recon=3.9739871323108673, loss_cls=1.270029067993164),\n",
       " VqVaeClsLoss(perplexity=137.28834533691406, loss_vq=0.04361410811543465, loss_recon=5.550696969032288, loss_cls=1.2228187322616577),\n",
       " VqVaeClsLoss(perplexity=83.5515365600586, loss_vq=0.0404999703168869, loss_recon=4.11099374294281, loss_cls=1.1164932250976562),\n",
       " VqVaeClsLoss(perplexity=162.72940063476562, loss_vq=0.04343175143003464, loss_recon=4.050559759140015, loss_cls=1.0693002939224243),\n",
       " VqVaeClsLoss(perplexity=104.4728012084961, loss_vq=0.03608894348144531, loss_recon=4.902319252490997, loss_cls=1.3018970489501953),\n",
       " VqVaeClsLoss(perplexity=127.35824584960938, loss_vq=0.043077949434518814, loss_recon=4.1207190454006195, loss_cls=1.237451195716858),\n",
       " VqVaeClsLoss(perplexity=106.19140625, loss_vq=0.040652863681316376, loss_recon=4.466325521469116, loss_cls=1.1287301778793335),\n",
       " VqVaeClsLoss(perplexity=117.77709197998047, loss_vq=0.03817529231309891, loss_recon=4.216148644685745, loss_cls=1.064504623413086),\n",
       " VqVaeClsLoss(perplexity=140.91015625, loss_vq=0.04582975432276726, loss_recon=5.3729088306427, loss_cls=1.539318561553955),\n",
       " VqVaeClsLoss(perplexity=155.96730041503906, loss_vq=0.04611458256840706, loss_recon=4.575103938579559, loss_cls=1.250946283340454),\n",
       " VqVaeClsLoss(perplexity=115.01832580566406, loss_vq=0.03573181852698326, loss_recon=4.9832910895347595, loss_cls=1.4343093633651733),\n",
       " VqVaeClsLoss(perplexity=131.82879638671875, loss_vq=0.03543930500745773, loss_recon=4.9328542947769165, loss_cls=0.8732428550720215),\n",
       " VqVaeClsLoss(perplexity=88.37274169921875, loss_vq=0.04089147225022316, loss_recon=3.6295133233070374, loss_cls=1.1911531686782837),\n",
       " VqVaeClsLoss(perplexity=74.1547622680664, loss_vq=0.03484765812754631, loss_recon=4.333837479352951, loss_cls=1.0168536901474),\n",
       " VqVaeClsLoss(perplexity=133.13568115234375, loss_vq=0.04035498946905136, loss_recon=4.133148968219757, loss_cls=0.9858667850494385),\n",
       " VqVaeClsLoss(perplexity=163.6920928955078, loss_vq=0.04455835744738579, loss_recon=4.017612785100937, loss_cls=1.4261906147003174),\n",
       " VqVaeClsLoss(perplexity=167.18637084960938, loss_vq=0.04334558546543121, loss_recon=3.111436814069748, loss_cls=1.269826889038086),\n",
       " VqVaeClsLoss(perplexity=129.80465698242188, loss_vq=0.037357211112976074, loss_recon=4.113389849662781, loss_cls=0.8410241603851318),\n",
       " VqVaeClsLoss(perplexity=152.27182006835938, loss_vq=0.04457560554146767, loss_recon=5.08641505241394, loss_cls=0.6075407266616821),\n",
       " VqVaeClsLoss(perplexity=165.1012420654297, loss_vq=0.04033040627837181, loss_recon=3.82499498128891, loss_cls=0.8951331973075867),\n",
       " VqVaeClsLoss(perplexity=124.69853973388672, loss_vq=0.036532603204250336, loss_recon=5.034500598907471, loss_cls=1.1216706037521362),\n",
       " VqVaeClsLoss(perplexity=127.69815063476562, loss_vq=0.03644397854804993, loss_recon=3.2559444457292557, loss_cls=1.2920063734054565),\n",
       " VqVaeClsLoss(perplexity=105.0518798828125, loss_vq=0.03816986829042435, loss_recon=4.070511490106583, loss_cls=1.0769665241241455),\n",
       " VqVaeClsLoss(perplexity=144.78724670410156, loss_vq=0.040100470185279846, loss_recon=4.260570406913757, loss_cls=0.8305928111076355),\n",
       " VqVaeClsLoss(perplexity=158.22727966308594, loss_vq=0.04105810448527336, loss_recon=4.36188530921936, loss_cls=1.3136520385742188),\n",
       " VqVaeClsLoss(perplexity=176.14248657226562, loss_vq=0.045718129724264145, loss_recon=3.550630569458008, loss_cls=1.1270239353179932),\n",
       " VqVaeClsLoss(perplexity=107.03324890136719, loss_vq=0.034993574023246765, loss_recon=4.820131897926331, loss_cls=0.8106732368469238),\n",
       " VqVaeClsLoss(perplexity=103.9920883178711, loss_vq=0.03605050593614578, loss_recon=5.617389559745789, loss_cls=1.0657010078430176),\n",
       " VqVaeClsLoss(perplexity=122.75499725341797, loss_vq=0.04100440442562103, loss_recon=5.515086531639099, loss_cls=1.2325516939163208),\n",
       " VqVaeClsLoss(perplexity=95.48107147216797, loss_vq=0.035791974514722824, loss_recon=4.623155295848846, loss_cls=1.5840116739273071),\n",
       " VqVaeClsLoss(perplexity=129.93284606933594, loss_vq=0.04736274480819702, loss_recon=5.002262830734253, loss_cls=1.3533706665039062),\n",
       " VqVaeClsLoss(perplexity=117.98543548583984, loss_vq=0.03577424958348274, loss_recon=3.761686235666275, loss_cls=1.0047513246536255),\n",
       " VqVaeClsLoss(perplexity=135.1407928466797, loss_vq=0.04038618505001068, loss_recon=3.6108304262161255, loss_cls=0.6968668103218079),\n",
       " VqVaeClsLoss(perplexity=119.84715270996094, loss_vq=0.04252294823527336, loss_recon=4.190343260765076, loss_cls=0.9329454302787781),\n",
       " VqVaeClsLoss(perplexity=132.21084594726562, loss_vq=0.03913620114326477, loss_recon=4.385595858097076, loss_cls=1.499772310256958),\n",
       " VqVaeClsLoss(perplexity=132.18789672851562, loss_vq=0.04222072660923004, loss_recon=3.941725879907608, loss_cls=1.1182076930999756),\n",
       " VqVaeClsLoss(perplexity=146.63864135742188, loss_vq=0.040924664586782455, loss_recon=3.987308621406555, loss_cls=0.6722671985626221),\n",
       " VqVaeClsLoss(perplexity=144.43820190429688, loss_vq=0.040031809359788895, loss_recon=3.930983603000641, loss_cls=1.19363272190094),\n",
       " VqVaeClsLoss(perplexity=131.23345947265625, loss_vq=0.04368813708424568, loss_recon=3.9950160086154938, loss_cls=0.4328018128871918),\n",
       " VqVaeClsLoss(perplexity=129.7666473388672, loss_vq=0.04110464081168175, loss_recon=4.480246752500534, loss_cls=1.494759202003479),\n",
       " VqVaeClsLoss(perplexity=145.24420166015625, loss_vq=0.0369376502931118, loss_recon=4.300735592842102, loss_cls=1.4724212884902954),\n",
       " VqVaeClsLoss(perplexity=143.26129150390625, loss_vq=0.039488863199949265, loss_recon=4.629192233085632, loss_cls=1.831857442855835),\n",
       " VqVaeClsLoss(perplexity=128.43930053710938, loss_vq=0.04395994544029236, loss_recon=4.829338803887367, loss_cls=0.9737695455551147),\n",
       " VqVaeClsLoss(perplexity=106.89360809326172, loss_vq=0.038015127182006836, loss_recon=4.005062133073807, loss_cls=1.7662806510925293),\n",
       " VqVaeClsLoss(perplexity=129.42196655273438, loss_vq=0.034882012754678726, loss_recon=4.872319579124451, loss_cls=0.9077770709991455),\n",
       " VqVaeClsLoss(perplexity=133.04937744140625, loss_vq=0.0360804907977581, loss_recon=5.16496604681015, loss_cls=1.4508806467056274),\n",
       " VqVaeClsLoss(perplexity=84.46385192871094, loss_vq=0.04043711721897125, loss_recon=3.5772277116775513, loss_cls=0.7505713105201721),\n",
       " VqVaeClsLoss(perplexity=129.07530212402344, loss_vq=0.03736487776041031, loss_recon=5.023552656173706, loss_cls=1.1395117044448853),\n",
       " VqVaeClsLoss(perplexity=198.80587768554688, loss_vq=0.04286963865160942, loss_recon=4.351504921913147, loss_cls=1.1529326438903809),\n",
       " VqVaeClsLoss(perplexity=100.91548156738281, loss_vq=0.041310735046863556, loss_recon=4.155053079128265, loss_cls=1.129889726638794),\n",
       " VqVaeClsLoss(perplexity=85.32686614990234, loss_vq=0.03446934372186661, loss_recon=4.7594844698905945, loss_cls=1.1499186754226685),\n",
       " VqVaeClsLoss(perplexity=90.97891235351562, loss_vq=0.04333600029349327, loss_recon=4.2971151471138, loss_cls=0.924078643321991),\n",
       " VqVaeClsLoss(perplexity=106.898193359375, loss_vq=0.04503476247191429, loss_recon=3.2687944769859314, loss_cls=2.115000009536743),\n",
       " VqVaeClsLoss(perplexity=116.80241394042969, loss_vq=0.03870236501097679, loss_recon=5.088467478752136, loss_cls=1.0380053520202637),\n",
       " VqVaeClsLoss(perplexity=116.92623901367188, loss_vq=0.03439919278025627, loss_recon=5.3111507296562195, loss_cls=1.6101967096328735),\n",
       " VqVaeClsLoss(perplexity=124.83936309814453, loss_vq=0.038641877472400665, loss_recon=4.578099608421326, loss_cls=0.6853650212287903),\n",
       " VqVaeClsLoss(perplexity=123.94978332519531, loss_vq=0.04204339161515236, loss_recon=3.5433538407087326, loss_cls=0.937653660774231),\n",
       " VqVaeClsLoss(perplexity=103.87225341796875, loss_vq=0.04129822924733162, loss_recon=3.952070027589798, loss_cls=0.5036299228668213),\n",
       " VqVaeClsLoss(perplexity=80.39108276367188, loss_vq=0.04138777032494545, loss_recon=2.8335694074630737, loss_cls=1.3100571632385254),\n",
       " VqVaeClsLoss(perplexity=104.710693359375, loss_vq=0.034809648990631104, loss_recon=5.953896880149841, loss_cls=1.6137454509735107),\n",
       " VqVaeClsLoss(perplexity=194.51490783691406, loss_vq=0.04582168534398079, loss_recon=3.6398645639419556, loss_cls=1.1179919242858887),\n",
       " VqVaeClsLoss(perplexity=103.3810806274414, loss_vq=0.037190768867731094, loss_recon=5.314824938774109, loss_cls=1.5438578128814697),\n",
       " VqVaeClsLoss(perplexity=105.69068145751953, loss_vq=0.03676741570234299, loss_recon=4.7353615164756775, loss_cls=0.8554256558418274),\n",
       " VqVaeClsLoss(perplexity=133.56512451171875, loss_vq=0.03872603178024292, loss_recon=4.39759324491024, loss_cls=1.1573760509490967),\n",
       " VqVaeClsLoss(perplexity=138.99497985839844, loss_vq=0.038900312036275864, loss_recon=4.452138364315033, loss_cls=1.18483304977417),\n",
       " VqVaeClsLoss(perplexity=120.87926483154297, loss_vq=0.036252837628126144, loss_recon=6.218463659286499, loss_cls=1.0896332263946533),\n",
       " VqVaeClsLoss(perplexity=129.22784423828125, loss_vq=0.04146342724561691, loss_recon=5.9475016593933105, loss_cls=0.7385588884353638),\n",
       " VqVaeClsLoss(perplexity=150.5972900390625, loss_vq=0.045819975435733795, loss_recon=3.5855506658554077, loss_cls=1.1633059978485107),\n",
       " VqVaeClsLoss(perplexity=107.74734497070312, loss_vq=0.04092644155025482, loss_recon=5.435557842254639, loss_cls=1.3284215927124023),\n",
       " VqVaeClsLoss(perplexity=119.62808227539062, loss_vq=0.0330776646733284, loss_recon=5.069942772388458, loss_cls=1.0226365327835083),\n",
       " VqVaeClsLoss(perplexity=102.7255630493164, loss_vq=0.03908277302980423, loss_recon=4.146941751241684, loss_cls=1.1578255891799927),\n",
       " VqVaeClsLoss(perplexity=133.7823944091797, loss_vq=0.03841341659426689, loss_recon=2.559791535139084, loss_cls=1.452244520187378),\n",
       " VqVaeClsLoss(perplexity=123.7035903930664, loss_vq=0.04279775172472, loss_recon=4.886591911315918, loss_cls=1.902849555015564),\n",
       " VqVaeClsLoss(perplexity=148.97215270996094, loss_vq=0.04097241163253784, loss_recon=4.087717741727829, loss_cls=1.2899237871170044),\n",
       " VqVaeClsLoss(perplexity=98.61206817626953, loss_vq=0.04297298938035965, loss_recon=4.9018473625183105, loss_cls=0.9955180287361145),\n",
       " VqVaeClsLoss(perplexity=136.8437042236328, loss_vq=0.03771303594112396, loss_recon=4.794728398323059, loss_cls=1.4908334016799927),\n",
       " VqVaeClsLoss(perplexity=63.39327621459961, loss_vq=0.0336475670337677, loss_recon=3.0909509360790253, loss_cls=0.9599316120147705),\n",
       " VqVaeClsLoss(perplexity=108.10888671875, loss_vq=0.039452701807022095, loss_recon=4.4737748503685, loss_cls=1.3463671207427979),\n",
       " VqVaeClsLoss(perplexity=89.05506896972656, loss_vq=0.03925732895731926, loss_recon=5.353130578994751, loss_cls=1.1364516019821167),\n",
       " VqVaeClsLoss(perplexity=133.46807861328125, loss_vq=0.04034479707479477, loss_recon=4.688742399215698, loss_cls=0.8816734552383423),\n",
       " VqVaeClsLoss(perplexity=176.7974090576172, loss_vq=0.046231430023908615, loss_recon=4.589126884937286, loss_cls=1.2831798791885376),\n",
       " VqVaeClsLoss(perplexity=89.65396118164062, loss_vq=0.04794928804039955, loss_recon=5.673222780227661, loss_cls=0.8663187026977539),\n",
       " VqVaeClsLoss(perplexity=123.59811401367188, loss_vq=0.03700830787420273, loss_recon=4.373601049184799, loss_cls=0.7286208868026733),\n",
       " VqVaeClsLoss(perplexity=86.43812561035156, loss_vq=0.03708802908658981, loss_recon=3.1724753677845, loss_cls=0.7160808444023132),\n",
       " VqVaeClsLoss(perplexity=111.34605407714844, loss_vq=0.03752037510275841, loss_recon=3.5890593081712723, loss_cls=0.8734660148620605),\n",
       " VqVaeClsLoss(perplexity=102.91004943847656, loss_vq=0.03901379182934761, loss_recon=3.8776488602161407, loss_cls=1.5335999727249146),\n",
       " VqVaeClsLoss(perplexity=145.72592163085938, loss_vq=0.04054299741983414, loss_recon=3.417798399925232, loss_cls=1.2083081007003784),\n",
       " VqVaeClsLoss(perplexity=114.1426773071289, loss_vq=0.039152320474386215, loss_recon=5.159207463264465, loss_cls=0.7806165218353271),\n",
       " VqVaeClsLoss(perplexity=118.1991958618164, loss_vq=0.03941193222999573, loss_recon=3.6558385491371155, loss_cls=1.1067631244659424),\n",
       " VqVaeClsLoss(perplexity=142.26162719726562, loss_vq=0.03844651207327843, loss_recon=4.870321094989777, loss_cls=0.5560868382453918),\n",
       " VqVaeClsLoss(perplexity=96.14315795898438, loss_vq=0.03649746626615524, loss_recon=3.826744645833969, loss_cls=1.5777630805969238),\n",
       " VqVaeClsLoss(perplexity=106.18592834472656, loss_vq=0.04237217828631401, loss_recon=2.979911372065544, loss_cls=1.2948702573776245),\n",
       " VqVaeClsLoss(perplexity=96.68330383300781, loss_vq=0.03342733532190323, loss_recon=4.250995606184006, loss_cls=1.265364646911621),\n",
       " VqVaeClsLoss(perplexity=143.94859313964844, loss_vq=0.04232967644929886, loss_recon=4.609399437904358, loss_cls=1.4334511756896973),\n",
       " VqVaeClsLoss(perplexity=138.63661193847656, loss_vq=0.04329956695437431, loss_recon=3.60656476020813, loss_cls=1.3211255073547363),\n",
       " VqVaeClsLoss(perplexity=109.9719009399414, loss_vq=0.038463663309812546, loss_recon=4.197614252567291, loss_cls=2.281266689300537),\n",
       " VqVaeClsLoss(perplexity=115.59867095947266, loss_vq=0.03320358693599701, loss_recon=4.893620729446411, loss_cls=1.1040042638778687),\n",
       " VqVaeClsLoss(perplexity=65.38875579833984, loss_vq=0.037123218178749084, loss_recon=2.382876455783844, loss_cls=1.0006794929504395),\n",
       " VqVaeClsLoss(perplexity=126.7519760131836, loss_vq=0.040545754134655, loss_recon=4.333336889743805, loss_cls=0.9645942449569702),\n",
       " VqVaeClsLoss(perplexity=103.80332946777344, loss_vq=0.04108865186572075, loss_recon=3.0225764214992523, loss_cls=1.2821305990219116),\n",
       " VqVaeClsLoss(perplexity=89.89260864257812, loss_vq=0.03524923324584961, loss_recon=4.626409292221069, loss_cls=0.8906988501548767),\n",
       " VqVaeClsLoss(perplexity=106.61968994140625, loss_vq=0.040294986218214035, loss_recon=5.198125123977661, loss_cls=0.9233492612838745),\n",
       " VqVaeClsLoss(perplexity=108.68742370605469, loss_vq=0.03908928483724594, loss_recon=4.695693671703339, loss_cls=1.0319312810897827),\n",
       " VqVaeClsLoss(perplexity=90.82823944091797, loss_vq=0.03731713071465492, loss_recon=4.363947868347168, loss_cls=1.0024473667144775),\n",
       " VqVaeClsLoss(perplexity=125.95097351074219, loss_vq=0.03746293485164642, loss_recon=3.638091504573822, loss_cls=1.094259262084961),\n",
       " VqVaeClsLoss(perplexity=152.8225555419922, loss_vq=0.04154326766729355, loss_recon=4.682504430413246, loss_cls=1.00947904586792),\n",
       " VqVaeClsLoss(perplexity=70.58679962158203, loss_vq=0.03464990481734276, loss_recon=3.961288630962372, loss_cls=1.1579029560089111),\n",
       " VqVaeClsLoss(perplexity=77.63170623779297, loss_vq=0.04094686731696129, loss_recon=4.716215327382088, loss_cls=1.3954447507858276),\n",
       " VqVaeClsLoss(perplexity=126.77108001708984, loss_vq=0.039978932589292526, loss_recon=5.5185821652412415, loss_cls=1.3615262508392334),\n",
       " VqVaeClsLoss(perplexity=137.0987548828125, loss_vq=0.03974514454603195, loss_recon=4.654947936534882, loss_cls=0.8809810876846313),\n",
       " VqVaeClsLoss(perplexity=118.29618835449219, loss_vq=0.04162237048149109, loss_recon=3.9967246651649475, loss_cls=0.9225280284881592),\n",
       " VqVaeClsLoss(perplexity=118.36422729492188, loss_vq=0.03988172113895416, loss_recon=5.026854634284973, loss_cls=1.0264067649841309),\n",
       " VqVaeClsLoss(perplexity=140.90411376953125, loss_vq=0.041515547782182693, loss_recon=3.619487941265106, loss_cls=1.2681748867034912),\n",
       " VqVaeClsLoss(perplexity=128.22547912597656, loss_vq=0.03620152920484543, loss_recon=5.095989406108856, loss_cls=0.8266099691390991),\n",
       " VqVaeClsLoss(perplexity=100.5102767944336, loss_vq=0.04259421303868294, loss_recon=5.188913822174072, loss_cls=1.3389501571655273),\n",
       " VqVaeClsLoss(perplexity=129.31771850585938, loss_vq=0.0382850281894207, loss_recon=4.10461151599884, loss_cls=1.1148015260696411),\n",
       " VqVaeClsLoss(perplexity=134.462158203125, loss_vq=0.03968992829322815, loss_recon=4.090403437614441, loss_cls=1.058478832244873),\n",
       " VqVaeClsLoss(perplexity=172.48434448242188, loss_vq=0.04719977080821991, loss_recon=4.0796507596969604, loss_cls=1.1004611253738403),\n",
       " VqVaeClsLoss(perplexity=102.7162094116211, loss_vq=0.04284193366765976, loss_recon=3.9470033645629883, loss_cls=0.9924584627151489),\n",
       " VqVaeClsLoss(perplexity=77.78562927246094, loss_vq=0.040687792003154755, loss_recon=3.383241355419159, loss_cls=1.3446353673934937),\n",
       " VqVaeClsLoss(perplexity=76.904296875, loss_vq=0.036512088030576706, loss_recon=5.5633615255355835, loss_cls=1.503066897392273),\n",
       " VqVaeClsLoss(perplexity=122.69990539550781, loss_vq=0.04181240499019623, loss_recon=5.808064222335815, loss_cls=1.104339361190796),\n",
       " VqVaeClsLoss(perplexity=117.60472869873047, loss_vq=0.042709462344646454, loss_recon=4.886835157871246, loss_cls=0.9583693146705627),\n",
       " VqVaeClsLoss(perplexity=111.5394058227539, loss_vq=0.03957991674542427, loss_recon=4.537023812532425, loss_cls=1.34185791015625),\n",
       " VqVaeClsLoss(perplexity=112.55075073242188, loss_vq=0.03970535844564438, loss_recon=3.9642035514116287, loss_cls=0.8943533897399902),\n",
       " VqVaeClsLoss(perplexity=133.95811462402344, loss_vq=0.03758634626865387, loss_recon=4.650294005870819, loss_cls=1.0457781553268433),\n",
       " VqVaeClsLoss(perplexity=93.1862564086914, loss_vq=0.04339154064655304, loss_recon=3.461157262325287, loss_cls=1.1482610702514648),\n",
       " VqVaeClsLoss(perplexity=128.0103759765625, loss_vq=0.03679833933711052, loss_recon=3.6080634593963623, loss_cls=0.7413316965103149),\n",
       " VqVaeClsLoss(perplexity=120.4763412475586, loss_vq=0.039317455142736435, loss_recon=3.4955823719501495, loss_cls=1.3446094989776611),\n",
       " VqVaeClsLoss(perplexity=91.41019439697266, loss_vq=0.0337337963283062, loss_recon=4.826692581176758, loss_cls=0.709665060043335),\n",
       " VqVaeClsLoss(perplexity=153.9278106689453, loss_vq=0.04040302336215973, loss_recon=4.503968119621277, loss_cls=1.375577449798584),\n",
       " VqVaeClsLoss(perplexity=138.64691162109375, loss_vq=0.04179098457098007, loss_recon=4.902147978544235, loss_cls=0.9804015159606934),\n",
       " VqVaeClsLoss(perplexity=126.83661651611328, loss_vq=0.03706653043627739, loss_recon=3.9795616269111633, loss_cls=1.6669046878814697),\n",
       " VqVaeClsLoss(perplexity=142.7443389892578, loss_vq=0.04356030002236366, loss_recon=3.629491448402405, loss_cls=1.178239107131958),\n",
       " VqVaeClsLoss(perplexity=150.3815155029297, loss_vq=0.04459916800260544, loss_recon=3.6686304211616516, loss_cls=1.24029541015625),\n",
       " VqVaeClsLoss(perplexity=73.42095184326172, loss_vq=0.03044339083135128, loss_recon=6.129644870758057, loss_cls=0.9923086166381836),\n",
       " VqVaeClsLoss(perplexity=185.85609436035156, loss_vq=0.04473304748535156, loss_recon=5.209143936634064, loss_cls=1.0196177959442139),\n",
       " VqVaeClsLoss(perplexity=70.93212890625, loss_vq=0.03370990604162216, loss_recon=6.473336577415466, loss_cls=0.929428219795227),\n",
       " VqVaeClsLoss(perplexity=129.4779510498047, loss_vq=0.04239897429943085, loss_recon=4.824773550033569, loss_cls=1.3963037729263306),\n",
       " VqVaeClsLoss(perplexity=118.0640640258789, loss_vq=0.03966643661260605, loss_recon=2.4664047956466675, loss_cls=1.5665043592453003),\n",
       " VqVaeClsLoss(perplexity=83.18136596679688, loss_vq=0.0431375689804554, loss_recon=4.8158692717552185, loss_cls=0.8082427978515625),\n",
       " VqVaeClsLoss(perplexity=168.2405548095703, loss_vq=0.042757172137498856, loss_recon=5.125278830528259, loss_cls=0.995415210723877),\n",
       " VqVaeClsLoss(perplexity=116.55651092529297, loss_vq=0.04413638636469841, loss_recon=2.906707465648651, loss_cls=2.137773275375366),\n",
       " VqVaeClsLoss(perplexity=159.75833129882812, loss_vq=0.044848620891571045, loss_recon=3.1272466480731964, loss_cls=1.1582996845245361),\n",
       " VqVaeClsLoss(perplexity=146.66981506347656, loss_vq=0.03892598673701286, loss_recon=4.4858837723731995, loss_cls=1.188788890838623),\n",
       " VqVaeClsLoss(perplexity=107.86553955078125, loss_vq=0.0374310240149498, loss_recon=4.400659412145615, loss_cls=0.9182620048522949),\n",
       " VqVaeClsLoss(perplexity=149.70960998535156, loss_vq=0.04156069830060005, loss_recon=4.985557436943054, loss_cls=1.177736759185791),\n",
       " VqVaeClsLoss(perplexity=110.80604553222656, loss_vq=0.03816451504826546, loss_recon=3.786913901567459, loss_cls=0.9454704523086548),\n",
       " VqVaeClsLoss(perplexity=132.737548828125, loss_vq=0.03597557917237282, loss_recon=2.6281981766223907, loss_cls=1.0518156290054321),\n",
       " VqVaeClsLoss(perplexity=57.51308059692383, loss_vq=0.036087099462747574, loss_recon=4.553987920284271, loss_cls=0.8131300806999207),\n",
       " VqVaeClsLoss(perplexity=138.19241333007812, loss_vq=0.04296747222542763, loss_recon=4.968045592308044, loss_cls=1.064628005027771),\n",
       " VqVaeClsLoss(perplexity=123.11929321289062, loss_vq=0.03653347119688988, loss_recon=4.390727281570435, loss_cls=0.8695414066314697),\n",
       " VqVaeClsLoss(perplexity=125.37120056152344, loss_vq=0.042555734515190125, loss_recon=3.8029578924179077, loss_cls=1.0954948663711548),\n",
       " VqVaeClsLoss(perplexity=72.320068359375, loss_vq=0.03480759635567665, loss_recon=5.664929449558258, loss_cls=0.8361425995826721),\n",
       " VqVaeClsLoss(perplexity=133.9832305908203, loss_vq=0.040541328489780426, loss_recon=4.029641091823578, loss_cls=0.7189728021621704),\n",
       " VqVaeClsLoss(perplexity=155.97666931152344, loss_vq=0.043485965579748154, loss_recon=3.473351240158081, loss_cls=0.7994354963302612),\n",
       " VqVaeClsLoss(perplexity=105.01661682128906, loss_vq=0.039250005036592484, loss_recon=5.336948037147522, loss_cls=1.5685615539550781),\n",
       " VqVaeClsLoss(perplexity=108.65608215332031, loss_vq=0.035054098814725876, loss_recon=3.5053162574768066, loss_cls=0.9263870716094971),\n",
       " VqVaeClsLoss(perplexity=149.2498779296875, loss_vq=0.04035528004169464, loss_recon=5.376398265361786, loss_cls=1.5063951015472412),\n",
       " VqVaeClsLoss(perplexity=102.68118286132812, loss_vq=0.03821747004985809, loss_recon=4.27721643447876, loss_cls=1.3142507076263428),\n",
       " VqVaeClsLoss(perplexity=109.69872283935547, loss_vq=0.03175751119852066, loss_recon=4.4790555238723755, loss_cls=1.1036856174468994),\n",
       " VqVaeClsLoss(perplexity=107.55049133300781, loss_vq=0.045013170689344406, loss_recon=3.5101274847984314, loss_cls=1.634190320968628),\n",
       " VqVaeClsLoss(perplexity=141.3734588623047, loss_vq=0.039954204112291336, loss_recon=4.202860414981842, loss_cls=2.240715742111206),\n",
       " VqVaeClsLoss(perplexity=112.53677368164062, loss_vq=0.036890868097543716, loss_recon=5.194705128669739, loss_cls=1.4649876356124878),\n",
       " VqVaeClsLoss(perplexity=119.35111999511719, loss_vq=0.035918280482292175, loss_recon=4.25153511762619, loss_cls=0.9521496295928955),\n",
       " VqVaeClsLoss(perplexity=122.23016357421875, loss_vq=0.03893375024199486, loss_recon=3.844684362411499, loss_cls=1.2199060916900635),\n",
       " VqVaeClsLoss(perplexity=136.54354858398438, loss_vq=0.03855045884847641, loss_recon=4.9456073343753815, loss_cls=1.179115653038025),\n",
       " VqVaeClsLoss(perplexity=109.45398712158203, loss_vq=0.04389503598213196, loss_recon=4.030693233013153, loss_cls=0.9228410124778748),\n",
       " VqVaeClsLoss(perplexity=75.29171752929688, loss_vq=0.0365324541926384, loss_recon=4.787890285253525, loss_cls=1.1856051683425903),\n",
       " VqVaeClsLoss(perplexity=140.63278198242188, loss_vq=0.04118363559246063, loss_recon=3.8059760332107544, loss_cls=1.753231406211853),\n",
       " VqVaeClsLoss(perplexity=107.91471099853516, loss_vq=0.03149024397134781, loss_recon=4.846995055675507, loss_cls=1.3553473949432373),\n",
       " VqVaeClsLoss(perplexity=125.3868408203125, loss_vq=0.04026288166642189, loss_recon=3.255212366580963, loss_cls=1.504598617553711),\n",
       " VqVaeClsLoss(perplexity=168.66354370117188, loss_vq=0.04485999792814255, loss_recon=3.1511669754981995, loss_cls=1.2259056568145752),\n",
       " VqVaeClsLoss(perplexity=142.17431640625, loss_vq=0.039597220718860626, loss_recon=4.6213991940021515, loss_cls=1.2824325561523438),\n",
       " VqVaeClsLoss(perplexity=152.7667999267578, loss_vq=0.03977083042263985, loss_recon=3.792068362236023, loss_cls=1.287803053855896),\n",
       " VqVaeClsLoss(perplexity=143.457763671875, loss_vq=0.03675857558846474, loss_recon=4.937587261199951, loss_cls=1.0927352905273438),\n",
       " VqVaeClsLoss(perplexity=104.73860931396484, loss_vq=0.04102572798728943, loss_recon=5.578621029853821, loss_cls=1.3296313285827637),\n",
       " VqVaeClsLoss(perplexity=131.37571716308594, loss_vq=0.03848479688167572, loss_recon=5.092890083789825, loss_cls=0.8915345072746277),\n",
       " VqVaeClsLoss(perplexity=85.21155548095703, loss_vq=0.03482871502637863, loss_recon=5.262871325016022, loss_cls=1.254119634628296),\n",
       " VqVaeClsLoss(perplexity=98.80716705322266, loss_vq=0.03340254724025726, loss_recon=4.573953986167908, loss_cls=1.083260416984558),\n",
       " VqVaeClsLoss(perplexity=129.68946838378906, loss_vq=0.03999222815036774, loss_recon=3.550983712077141, loss_cls=1.1166082620620728),\n",
       " VqVaeClsLoss(perplexity=79.33324432373047, loss_vq=0.03684825077652931, loss_recon=4.330737829208374, loss_cls=1.0409232378005981),\n",
       " VqVaeClsLoss(perplexity=128.3559112548828, loss_vq=0.039456434547901154, loss_recon=5.059245049953461, loss_cls=1.0448850393295288),\n",
       " VqVaeClsLoss(perplexity=92.66357421875, loss_vq=0.03652611002326012, loss_recon=5.625169336795807, loss_cls=0.9798061847686768),\n",
       " VqVaeClsLoss(perplexity=107.40996551513672, loss_vq=0.033871084451675415, loss_recon=5.31546950340271, loss_cls=1.3447067737579346),\n",
       " VqVaeClsLoss(perplexity=139.56813049316406, loss_vq=0.042254239320755005, loss_recon=5.2194390296936035, loss_cls=1.066631555557251),\n",
       " VqVaeClsLoss(perplexity=110.51851654052734, loss_vq=0.03897096589207649, loss_recon=5.00672721862793, loss_cls=0.6935230493545532),\n",
       " VqVaeClsLoss(perplexity=169.9189910888672, loss_vq=0.043093375861644745, loss_recon=4.270762696862221, loss_cls=0.8290170431137085),\n",
       " VqVaeClsLoss(perplexity=115.86837005615234, loss_vq=0.03910025954246521, loss_recon=3.6755060255527496, loss_cls=1.1925586462020874),\n",
       " VqVaeClsLoss(perplexity=121.25253295898438, loss_vq=0.04062096029520035, loss_recon=3.7562664449214935, loss_cls=0.8310442566871643),\n",
       " VqVaeClsLoss(perplexity=94.4164810180664, loss_vq=0.03934332728385925, loss_recon=4.1607266664505005, loss_cls=0.8609676957130432),\n",
       " VqVaeClsLoss(perplexity=116.36746978759766, loss_vq=0.04199451953172684, loss_recon=4.530500829219818, loss_cls=0.9142191410064697),\n",
       " VqVaeClsLoss(perplexity=59.07866287231445, loss_vq=0.034346938133239746, loss_recon=5.03768515586853, loss_cls=1.1772987842559814),\n",
       " VqVaeClsLoss(perplexity=126.54785919189453, loss_vq=0.04054969176650047, loss_recon=4.7331127524375916, loss_cls=1.0396637916564941),\n",
       " VqVaeClsLoss(perplexity=117.95838928222656, loss_vq=0.0395379513502121, loss_recon=4.16916061937809, loss_cls=1.1254442930221558),\n",
       " VqVaeClsLoss(perplexity=172.08340454101562, loss_vq=0.04116792231798172, loss_recon=3.7621275186538696, loss_cls=0.9713454842567444),\n",
       " VqVaeClsLoss(perplexity=131.8960723876953, loss_vq=0.04370445758104324, loss_recon=3.966300368309021, loss_cls=1.229290246963501),\n",
       " VqVaeClsLoss(perplexity=100.61912536621094, loss_vq=0.041895609349012375, loss_recon=4.468425095081329, loss_cls=1.1593420505523682),\n",
       " VqVaeClsLoss(perplexity=158.08604431152344, loss_vq=0.046244967728853226, loss_recon=4.5333172380924225, loss_cls=1.219135046005249),\n",
       " VqVaeClsLoss(perplexity=107.59593963623047, loss_vq=0.03539646789431572, loss_recon=3.640098661184311, loss_cls=1.195522427558899),\n",
       " VqVaeClsLoss(perplexity=52.8564567565918, loss_vq=0.036278143525123596, loss_recon=3.842577815055847, loss_cls=1.1463840007781982),\n",
       " VqVaeClsLoss(perplexity=137.67410278320312, loss_vq=0.03712053596973419, loss_recon=4.233021542429924, loss_cls=0.9188809990882874),\n",
       " VqVaeClsLoss(perplexity=131.92764282226562, loss_vq=0.032574597746133804, loss_recon=4.787180244922638, loss_cls=0.8688540458679199),\n",
       " VqVaeClsLoss(perplexity=133.02279663085938, loss_vq=0.035274043679237366, loss_recon=5.319944143295288, loss_cls=1.3739726543426514),\n",
       " VqVaeClsLoss(perplexity=106.99085235595703, loss_vq=0.04809155315160751, loss_recon=4.064996153116226, loss_cls=1.1761267185211182),\n",
       " VqVaeClsLoss(perplexity=123.72340393066406, loss_vq=0.04024086147546768, loss_recon=5.033813536167145, loss_cls=1.112776756286621),\n",
       " VqVaeClsLoss(perplexity=131.0933074951172, loss_vq=0.04280218482017517, loss_recon=5.280342698097229, loss_cls=0.9947786927223206),\n",
       " VqVaeClsLoss(perplexity=131.72650146484375, loss_vq=0.041510652750730515, loss_recon=4.105277240276337, loss_cls=1.311905860900879),\n",
       " VqVaeClsLoss(perplexity=114.76025390625, loss_vq=0.03777908906340599, loss_recon=4.616175323724747, loss_cls=0.8401002883911133),\n",
       " VqVaeClsLoss(perplexity=140.47930908203125, loss_vq=0.0403222031891346, loss_recon=4.161773920059204, loss_cls=1.3059526681900024),\n",
       " VqVaeClsLoss(perplexity=96.00119018554688, loss_vq=0.03932136297225952, loss_recon=3.4331575632095337, loss_cls=1.569560170173645),\n",
       " VqVaeClsLoss(perplexity=82.51377868652344, loss_vq=0.04053403437137604, loss_recon=3.090278536081314, loss_cls=1.3149999380111694),\n",
       " VqVaeClsLoss(perplexity=132.53079223632812, loss_vq=0.040686119347810745, loss_recon=4.299770832061768, loss_cls=2.1585583686828613),\n",
       " VqVaeClsLoss(perplexity=123.88982391357422, loss_vq=0.035983383655548096, loss_recon=3.6502009630203247, loss_cls=1.8675998449325562),\n",
       " VqVaeClsLoss(perplexity=102.1249771118164, loss_vq=0.03607114404439926, loss_recon=4.441342771053314, loss_cls=0.7302272319793701),\n",
       " VqVaeClsLoss(perplexity=127.1448745727539, loss_vq=0.04521032050251961, loss_recon=3.9993966370821, loss_cls=0.8330430388450623),\n",
       " VqVaeClsLoss(perplexity=114.97538757324219, loss_vq=0.040539372712373734, loss_recon=3.3562613129615784, loss_cls=0.9317142367362976),\n",
       " VqVaeClsLoss(perplexity=117.0266342163086, loss_vq=0.04103079065680504, loss_recon=3.6856043934822083, loss_cls=1.307563304901123),\n",
       " VqVaeClsLoss(perplexity=100.02579498291016, loss_vq=0.03775802254676819, loss_recon=4.341209173202515, loss_cls=0.8562336564064026),\n",
       " VqVaeClsLoss(perplexity=117.13404846191406, loss_vq=0.040068477392196655, loss_recon=3.965619534254074, loss_cls=1.2267190217971802),\n",
       " VqVaeClsLoss(perplexity=114.31926727294922, loss_vq=0.041099272668361664, loss_recon=3.380379378795624, loss_cls=1.0163793563842773),\n",
       " VqVaeClsLoss(perplexity=131.6016845703125, loss_vq=0.04336137697100639, loss_recon=4.132403671741486, loss_cls=1.1775978803634644),\n",
       " VqVaeClsLoss(perplexity=119.1506576538086, loss_vq=0.04208354651927948, loss_recon=3.022405207157135, loss_cls=0.9043534398078918),\n",
       " VqVaeClsLoss(perplexity=87.00181579589844, loss_vq=0.03628535941243172, loss_recon=5.999943017959595, loss_cls=1.6441986560821533),\n",
       " VqVaeClsLoss(perplexity=120.1335220336914, loss_vq=0.03821515291929245, loss_recon=2.610843539237976, loss_cls=0.7549619078636169),\n",
       " VqVaeClsLoss(perplexity=122.49150085449219, loss_vq=0.03297480568289757, loss_recon=5.346226692199707, loss_cls=0.81507807970047),\n",
       " VqVaeClsLoss(perplexity=146.88209533691406, loss_vq=0.039765194058418274, loss_recon=3.019737422466278, loss_cls=1.1000957489013672),\n",
       " VqVaeClsLoss(perplexity=117.16659545898438, loss_vq=0.03700292482972145, loss_recon=4.062411993741989, loss_cls=1.0883269309997559),\n",
       " VqVaeClsLoss(perplexity=114.80868530273438, loss_vq=0.038909848779439926, loss_recon=4.177297234535217, loss_cls=1.0985164642333984),\n",
       " VqVaeClsLoss(perplexity=80.4235610961914, loss_vq=0.03556769713759422, loss_recon=3.0286797881126404, loss_cls=1.2092503309249878),\n",
       " VqVaeClsLoss(perplexity=103.01753234863281, loss_vq=0.04209742695093155, loss_recon=4.634275108575821, loss_cls=1.2823302745819092),\n",
       " VqVaeClsLoss(perplexity=110.6251220703125, loss_vq=0.04109451547265053, loss_recon=4.422145634889603, loss_cls=0.9153980016708374),\n",
       " VqVaeClsLoss(perplexity=78.52332305908203, loss_vq=0.03479160740971565, loss_recon=3.4722138941287994, loss_cls=1.1053608655929565),\n",
       " VqVaeClsLoss(perplexity=81.61634063720703, loss_vq=0.03772870451211929, loss_recon=6.197923421859741, loss_cls=0.7381022572517395),\n",
       " VqVaeClsLoss(perplexity=136.04833984375, loss_vq=0.03990994393825531, loss_recon=4.65801066160202, loss_cls=0.9753493070602417),\n",
       " VqVaeClsLoss(perplexity=111.86004638671875, loss_vq=0.03580358251929283, loss_recon=4.0911537408828735, loss_cls=0.9848455190658569),\n",
       " VqVaeClsLoss(perplexity=127.376953125, loss_vq=0.03456064686179161, loss_recon=4.072949528694153, loss_cls=0.7919434309005737),\n",
       " VqVaeClsLoss(perplexity=183.89431762695312, loss_vq=0.04740983992815018, loss_recon=4.578860104084015, loss_cls=1.1859616041183472),\n",
       " VqVaeClsLoss(perplexity=130.79490661621094, loss_vq=0.04249425232410431, loss_recon=3.763665199279785, loss_cls=1.037031888961792),\n",
       " VqVaeClsLoss(perplexity=94.3264389038086, loss_vq=0.03947083652019501, loss_recon=5.1245677173137665, loss_cls=1.058175802230835),\n",
       " VqVaeClsLoss(perplexity=112.14122772216797, loss_vq=0.03815121203660965, loss_recon=4.972120702266693, loss_cls=1.516310214996338),\n",
       " VqVaeClsLoss(perplexity=108.26765441894531, loss_vq=0.03932071477174759, loss_recon=3.047929808497429, loss_cls=1.107353925704956),\n",
       " VqVaeClsLoss(perplexity=115.7554931640625, loss_vq=0.03345115855336189, loss_recon=3.9897086024284363, loss_cls=1.0514556169509888),\n",
       " VqVaeClsLoss(perplexity=98.19951629638672, loss_vq=0.044380880892276764, loss_recon=5.05362942814827, loss_cls=0.9573251605033875),\n",
       " VqVaeClsLoss(perplexity=132.15304565429688, loss_vq=0.04264223203063011, loss_recon=4.5940093994140625, loss_cls=0.8928232192993164),\n",
       " VqVaeClsLoss(perplexity=117.0693359375, loss_vq=0.03507952392101288, loss_recon=4.922182321548462, loss_cls=0.8044220209121704),\n",
       " VqVaeClsLoss(perplexity=106.0408706665039, loss_vq=0.0393933430314064, loss_recon=5.831840395927429, loss_cls=0.6979846954345703),\n",
       " VqVaeClsLoss(perplexity=175.67108154296875, loss_vq=0.0445287711918354, loss_recon=3.921402156352997, loss_cls=1.1842799186706543),\n",
       " VqVaeClsLoss(perplexity=125.72969055175781, loss_vq=0.04263269156217575, loss_recon=5.155148297548294, loss_cls=1.0059348344802856),\n",
       " VqVaeClsLoss(perplexity=116.12384796142578, loss_vq=0.039592910557985306, loss_recon=3.955022543668747, loss_cls=0.9129513502120972),\n",
       " VqVaeClsLoss(perplexity=106.48763275146484, loss_vq=0.03291056305170059, loss_recon=5.169825553894043, loss_cls=0.7504717707633972),\n",
       " VqVaeClsLoss(perplexity=130.92007446289062, loss_vq=0.03679998964071274, loss_recon=5.00988495349884, loss_cls=1.2116888761520386),\n",
       " VqVaeClsLoss(perplexity=84.10263061523438, loss_vq=0.04199191555380821, loss_recon=4.169269502162933, loss_cls=0.5242437720298767),\n",
       " VqVaeClsLoss(perplexity=104.61397552490234, loss_vq=0.03678413853049278, loss_recon=5.480900466442108, loss_cls=1.4359288215637207),\n",
       " VqVaeClsLoss(perplexity=140.1134490966797, loss_vq=0.04510179162025452, loss_recon=4.564068675041199, loss_cls=0.5765999555587769),\n",
       " VqVaeClsLoss(perplexity=125.94742584228516, loss_vq=0.040960751473903656, loss_recon=3.918545886874199, loss_cls=0.9508014917373657),\n",
       " VqVaeClsLoss(perplexity=165.33474731445312, loss_vq=0.04042129963636398, loss_recon=4.3351835906505585, loss_cls=0.5531252026557922),\n",
       " VqVaeClsLoss(perplexity=100.3271713256836, loss_vq=0.040948063135147095, loss_recon=5.601622581481934, loss_cls=0.5106291174888611),\n",
       " VqVaeClsLoss(perplexity=91.2569808959961, loss_vq=0.04055187851190567, loss_recon=2.3527522683143616, loss_cls=0.7064101696014404),\n",
       " VqVaeClsLoss(perplexity=102.59716033935547, loss_vq=0.041656047105789185, loss_recon=3.820151209831238, loss_cls=0.7453250885009766),\n",
       " VqVaeClsLoss(perplexity=123.04682159423828, loss_vq=0.03679199889302254, loss_recon=3.910444736480713, loss_cls=0.9525370597839355),\n",
       " VqVaeClsLoss(perplexity=123.69804382324219, loss_vq=0.03720584511756897, loss_recon=5.021892011165619, loss_cls=1.278179407119751),\n",
       " VqVaeClsLoss(perplexity=142.62576293945312, loss_vq=0.03913363814353943, loss_recon=4.002235770225525, loss_cls=1.3188469409942627),\n",
       " VqVaeClsLoss(perplexity=82.76191711425781, loss_vq=0.03751068934798241, loss_recon=4.909062564373016, loss_cls=0.9047901630401611),\n",
       " VqVaeClsLoss(perplexity=178.47732543945312, loss_vq=0.045548778027296066, loss_recon=4.86520653963089, loss_cls=0.7233861684799194),\n",
       " VqVaeClsLoss(perplexity=109.97410583496094, loss_vq=0.040374960750341415, loss_recon=4.524738371372223, loss_cls=0.7871178984642029),\n",
       " VqVaeClsLoss(perplexity=105.6213607788086, loss_vq=0.0415610633790493, loss_recon=5.351265370845795, loss_cls=1.944300651550293),\n",
       " VqVaeClsLoss(perplexity=114.64008331298828, loss_vq=0.041460759937763214, loss_recon=5.19483095407486, loss_cls=1.1119115352630615),\n",
       " VqVaeClsLoss(perplexity=107.1618423461914, loss_vq=0.03515511378645897, loss_recon=5.720483899116516, loss_cls=1.9069418907165527),\n",
       " VqVaeClsLoss(perplexity=181.75888061523438, loss_vq=0.045464251190423965, loss_recon=4.086111277341843, loss_cls=1.548200249671936),\n",
       " VqVaeClsLoss(perplexity=117.04729461669922, loss_vq=0.03945150226354599, loss_recon=3.981011748313904, loss_cls=0.48651427030563354),\n",
       " VqVaeClsLoss(perplexity=141.6470184326172, loss_vq=0.04369567707180977, loss_recon=3.96113321185112, loss_cls=0.9539275169372559),\n",
       " VqVaeClsLoss(perplexity=130.49351501464844, loss_vq=0.039131294935941696, loss_recon=3.4543277621269226, loss_cls=1.3162190914154053),\n",
       " VqVaeClsLoss(perplexity=97.43170166015625, loss_vq=0.0395958386361599, loss_recon=3.931193172931671, loss_cls=0.8234046101570129),\n",
       " VqVaeClsLoss(perplexity=143.94920349121094, loss_vq=0.042315538972616196, loss_recon=3.772855758666992, loss_cls=1.6552858352661133),\n",
       " VqVaeClsLoss(perplexity=107.3821029663086, loss_vq=0.03720279410481453, loss_recon=4.772804379463196, loss_cls=0.37258583307266235),\n",
       " VqVaeClsLoss(perplexity=116.88543701171875, loss_vq=0.03883517533540726, loss_recon=3.8952364176511765, loss_cls=1.1267836093902588),\n",
       " VqVaeClsLoss(perplexity=151.2815399169922, loss_vq=0.04687890782952309, loss_recon=3.5798600912094116, loss_cls=0.838941752910614),\n",
       " VqVaeClsLoss(perplexity=131.8826141357422, loss_vq=0.04278269410133362, loss_recon=3.3528265953063965, loss_cls=2.117467164993286),\n",
       " VqVaeClsLoss(perplexity=107.67877960205078, loss_vq=0.038478586822748184, loss_recon=4.207177579402924, loss_cls=0.7164890766143799),\n",
       " VqVaeClsLoss(perplexity=139.86459350585938, loss_vq=0.03892422094941139, loss_recon=4.917239248752594, loss_cls=1.4059607982635498),\n",
       " VqVaeClsLoss(perplexity=72.42932891845703, loss_vq=0.0373537540435791, loss_recon=5.376480221748352, loss_cls=0.6661335825920105),\n",
       " VqVaeClsLoss(perplexity=133.25738525390625, loss_vq=0.04082058370113373, loss_recon=3.607357919216156, loss_cls=0.73511803150177),\n",
       " VqVaeClsLoss(perplexity=145.35520935058594, loss_vq=0.04529436677694321, loss_recon=3.66144198179245, loss_cls=0.9683988094329834),\n",
       " VqVaeClsLoss(perplexity=145.0123748779297, loss_vq=0.042322199791669846, loss_recon=3.5851996541023254, loss_cls=0.8955522179603577),\n",
       " VqVaeClsLoss(perplexity=127.13859558105469, loss_vq=0.03712248429656029, loss_recon=3.6791046261787415, loss_cls=1.4834213256835938),\n",
       " VqVaeClsLoss(perplexity=98.57178497314453, loss_vq=0.035196345299482346, loss_recon=5.288934707641602, loss_cls=0.49833351373672485),\n",
       " VqVaeClsLoss(perplexity=102.49237060546875, loss_vq=0.038316767662763596, loss_recon=4.766097396612167, loss_cls=1.9677598476409912),\n",
       " VqVaeClsLoss(perplexity=118.1845474243164, loss_vq=0.04314008727669716, loss_recon=3.6028336584568024, loss_cls=0.8849042654037476),\n",
       " VqVaeClsLoss(perplexity=129.926513671875, loss_vq=0.038296040147542953, loss_recon=3.585825204849243, loss_cls=0.8541098833084106),\n",
       " VqVaeClsLoss(perplexity=110.43698120117188, loss_vq=0.03893154487013817, loss_recon=4.788037538528442, loss_cls=0.8608747124671936),\n",
       " VqVaeClsLoss(perplexity=154.66754150390625, loss_vq=0.04724586755037308, loss_recon=3.810372829437256, loss_cls=1.275254726409912),\n",
       " VqVaeClsLoss(perplexity=123.1502914428711, loss_vq=0.038976315408945084, loss_recon=4.643957257270813, loss_cls=0.947191596031189),\n",
       " VqVaeClsLoss(perplexity=156.03729248046875, loss_vq=0.04601430892944336, loss_recon=3.9721286296844482, loss_cls=0.47013357281684875),\n",
       " VqVaeClsLoss(perplexity=174.71641540527344, loss_vq=0.04506973922252655, loss_recon=4.235634803771973, loss_cls=1.746187448501587),\n",
       " VqVaeClsLoss(perplexity=136.470458984375, loss_vq=0.04156768321990967, loss_recon=3.4825877249240875, loss_cls=1.0060683488845825),\n",
       " VqVaeClsLoss(perplexity=71.06771850585938, loss_vq=0.03858734667301178, loss_recon=2.8435594141483307, loss_cls=0.7990208864212036),\n",
       " VqVaeClsLoss(perplexity=115.76923370361328, loss_vq=0.03806600347161293, loss_recon=4.072976380586624, loss_cls=1.0351094007492065),\n",
       " VqVaeClsLoss(perplexity=172.75157165527344, loss_vq=0.042272575199604034, loss_recon=4.181038677692413, loss_cls=1.2644370794296265),\n",
       " VqVaeClsLoss(perplexity=125.78052520751953, loss_vq=0.03993171080946922, loss_recon=3.506100654602051, loss_cls=1.3476533889770508),\n",
       " VqVaeClsLoss(perplexity=131.1754150390625, loss_vq=0.03900168463587761, loss_recon=4.283731698989868, loss_cls=0.586294412612915),\n",
       " VqVaeClsLoss(perplexity=118.22467041015625, loss_vq=0.036480266600847244, loss_recon=5.376310586929321, loss_cls=1.0445561408996582),\n",
       " VqVaeClsLoss(perplexity=152.01181030273438, loss_vq=0.0425899438560009, loss_recon=4.238050878047943, loss_cls=1.7069960832595825),\n",
       " VqVaeClsLoss(perplexity=79.29198455810547, loss_vq=0.030909227207303047, loss_recon=3.6348050832748413, loss_cls=1.1680452823638916),\n",
       " VqVaeClsLoss(perplexity=103.31732940673828, loss_vq=0.03813407942652702, loss_recon=4.99666765332222, loss_cls=1.1941840648651123),\n",
       " VqVaeClsLoss(perplexity=102.419921875, loss_vq=0.032782986760139465, loss_recon=5.010002255439758, loss_cls=0.9656399488449097),\n",
       " VqVaeClsLoss(perplexity=150.3257293701172, loss_vq=0.040252842009067535, loss_recon=4.896332025527954, loss_cls=1.375906229019165),\n",
       " VqVaeClsLoss(perplexity=82.96239471435547, loss_vq=0.03822128474712372, loss_recon=4.812764823436737, loss_cls=0.6812531352043152),\n",
       " VqVaeClsLoss(perplexity=121.0764389038086, loss_vq=0.03479837253689766, loss_recon=4.171331524848938, loss_cls=1.084097146987915),\n",
       " VqVaeClsLoss(perplexity=116.83094024658203, loss_vq=0.039713677018880844, loss_recon=5.6325982213020325, loss_cls=0.9544709920883179),\n",
       " VqVaeClsLoss(perplexity=140.31106567382812, loss_vq=0.03779652342200279, loss_recon=4.835259795188904, loss_cls=0.8347009420394897),\n",
       " VqVaeClsLoss(perplexity=96.67085266113281, loss_vq=0.038427215069532394, loss_recon=4.193458870053291, loss_cls=1.3593478202819824),\n",
       " VqVaeClsLoss(perplexity=100.03515625, loss_vq=0.037670429795980453, loss_recon=5.1739983558654785, loss_cls=0.6289500594139099),\n",
       " VqVaeClsLoss(perplexity=102.08267211914062, loss_vq=0.04620075598359108, loss_recon=4.190029740333557, loss_cls=1.426307201385498),\n",
       " VqVaeClsLoss(perplexity=108.00881958007812, loss_vq=0.03631535544991493, loss_recon=4.0244550704956055, loss_cls=1.51893150806427),\n",
       " VqVaeClsLoss(perplexity=190.83033752441406, loss_vq=0.04609538987278938, loss_recon=4.364257574081421, loss_cls=1.7428467273712158),\n",
       " VqVaeClsLoss(perplexity=130.684814453125, loss_vq=0.037786733359098434, loss_recon=5.44936466217041, loss_cls=1.5665829181671143),\n",
       " VqVaeClsLoss(perplexity=104.99528503417969, loss_vq=0.04144168645143509, loss_recon=4.610235869884491, loss_cls=1.2807023525238037),\n",
       " VqVaeClsLoss(perplexity=98.12213134765625, loss_vq=0.03788553178310394, loss_recon=3.728422001004219, loss_cls=0.9883205890655518),\n",
       " VqVaeClsLoss(perplexity=132.3611602783203, loss_vq=0.03914305940270424, loss_recon=3.59878009557724, loss_cls=0.6952747106552124),\n",
       " VqVaeClsLoss(perplexity=137.35891723632812, loss_vq=0.049091752618551254, loss_recon=4.784552574157715, loss_cls=0.8993625640869141),\n",
       " VqVaeClsLoss(perplexity=75.74468231201172, loss_vq=0.03342747315764427, loss_recon=3.37528258562088, loss_cls=1.0272040367126465),\n",
       " VqVaeClsLoss(perplexity=164.54478454589844, loss_vq=0.040340520441532135, loss_recon=4.022140860557556, loss_cls=0.769339919090271),\n",
       " VqVaeClsLoss(perplexity=147.7987518310547, loss_vq=0.03662579879164696, loss_recon=4.098275721073151, loss_cls=1.3134150505065918),\n",
       " VqVaeClsLoss(perplexity=135.086181640625, loss_vq=0.0387532003223896, loss_recon=5.2300156354904175, loss_cls=1.475013017654419),\n",
       " VqVaeClsLoss(perplexity=118.66661071777344, loss_vq=0.03794866055250168, loss_recon=3.699036180973053, loss_cls=0.8645428419113159),\n",
       " VqVaeClsLoss(perplexity=140.82579040527344, loss_vq=0.039418961852788925, loss_recon=5.107093811035156, loss_cls=1.1876806020736694),\n",
       " VqVaeClsLoss(perplexity=132.44790649414062, loss_vq=0.045583371073007584, loss_recon=3.047188460826874, loss_cls=0.5407323241233826),\n",
       " VqVaeClsLoss(perplexity=78.61961364746094, loss_vq=0.036069776862859726, loss_recon=4.642754465341568, loss_cls=1.7499735355377197),\n",
       " VqVaeClsLoss(perplexity=115.24220275878906, loss_vq=0.041202280670404434, loss_recon=4.796288192272186, loss_cls=1.0332581996917725),\n",
       " VqVaeClsLoss(perplexity=100.78998565673828, loss_vq=0.04240936040878296, loss_recon=4.238242447376251, loss_cls=1.685453176498413),\n",
       " VqVaeClsLoss(perplexity=120.93968200683594, loss_vq=0.040190935134887695, loss_recon=4.085424721240997, loss_cls=1.0401180982589722),\n",
       " VqVaeClsLoss(perplexity=115.21696472167969, loss_vq=0.04115984961390495, loss_recon=3.96231347322464, loss_cls=0.9159441590309143),\n",
       " VqVaeClsLoss(perplexity=174.89678955078125, loss_vq=0.04772024601697922, loss_recon=4.68622100353241, loss_cls=0.9685994982719421),\n",
       " VqVaeClsLoss(perplexity=152.6379852294922, loss_vq=0.03672443702816963, loss_recon=4.383207082748413, loss_cls=1.1215484142303467),\n",
       " VqVaeClsLoss(perplexity=120.56978607177734, loss_vq=0.0426642969250679, loss_recon=4.198289453983307, loss_cls=1.0873278379440308),\n",
       " VqVaeClsLoss(perplexity=140.18402099609375, loss_vq=0.04280631244182587, loss_recon=4.224808752536774, loss_cls=1.550642490386963),\n",
       " VqVaeClsLoss(perplexity=115.4147720336914, loss_vq=0.03732752427458763, loss_recon=5.281168103218079, loss_cls=1.5833067893981934),\n",
       " VqVaeClsLoss(perplexity=83.7308578491211, loss_vq=0.029823318123817444, loss_recon=5.71967077255249, loss_cls=0.7312024831771851),\n",
       " VqVaeClsLoss(perplexity=113.75596618652344, loss_vq=0.03682377189397812, loss_recon=5.32056450843811, loss_cls=1.1317071914672852),\n",
       " VqVaeClsLoss(perplexity=158.21597290039062, loss_vq=0.03887013718485832, loss_recon=4.331701755523682, loss_cls=1.495764136314392),\n",
       " VqVaeClsLoss(perplexity=121.88536834716797, loss_vq=0.034483592957258224, loss_recon=4.441243588924408, loss_cls=0.7838859558105469),\n",
       " VqVaeClsLoss(perplexity=114.45633697509766, loss_vq=0.036770083010196686, loss_recon=5.30343770980835, loss_cls=1.3688749074935913),\n",
       " VqVaeClsLoss(perplexity=124.69217681884766, loss_vq=0.04001384228467941, loss_recon=5.1919689774513245, loss_cls=0.6099910736083984),\n",
       " VqVaeClsLoss(perplexity=152.96165466308594, loss_vq=0.0463431291282177, loss_recon=4.634644985198975, loss_cls=0.87714684009552),\n",
       " VqVaeClsLoss(perplexity=135.17579650878906, loss_vq=0.036341339349746704, loss_recon=2.877503275871277, loss_cls=1.0246683359146118),\n",
       " VqVaeClsLoss(perplexity=189.98941040039062, loss_vq=0.05116962641477585, loss_recon=3.4598408937454224, loss_cls=0.812265932559967),\n",
       " VqVaeClsLoss(perplexity=157.31234741210938, loss_vq=0.044836338609457016, loss_recon=4.030516803264618, loss_cls=1.0863771438598633),\n",
       " VqVaeClsLoss(perplexity=166.18458557128906, loss_vq=0.04117206484079361, loss_recon=4.329954147338867, loss_cls=1.0274927616119385),\n",
       " VqVaeClsLoss(perplexity=98.14142608642578, loss_vq=0.034503284841775894, loss_recon=4.535239219665527, loss_cls=0.8729547262191772),\n",
       " VqVaeClsLoss(perplexity=136.0081787109375, loss_vq=0.04019271954894066, loss_recon=4.05481231212616, loss_cls=0.9906655550003052),\n",
       " VqVaeClsLoss(perplexity=79.7080307006836, loss_vq=0.032350920140743256, loss_recon=4.400613218545914, loss_cls=0.8180385828018188),\n",
       " VqVaeClsLoss(perplexity=90.63860321044922, loss_vq=0.039694204926490784, loss_recon=5.759212911128998, loss_cls=0.9145371913909912),\n",
       " VqVaeClsLoss(perplexity=96.83679962158203, loss_vq=0.037479035556316376, loss_recon=5.155701279640198, loss_cls=1.3791325092315674),\n",
       " VqVaeClsLoss(perplexity=102.31536102294922, loss_vq=0.0423327200114727, loss_recon=3.794794887304306, loss_cls=0.5228508710861206),\n",
       " VqVaeClsLoss(perplexity=87.48980712890625, loss_vq=0.0339801087975502, loss_recon=5.552490234375, loss_cls=1.0406733751296997),\n",
       " VqVaeClsLoss(perplexity=134.81410217285156, loss_vq=0.04493173956871033, loss_recon=4.366586625576019, loss_cls=1.64714777469635),\n",
       " VqVaeClsLoss(perplexity=111.87215423583984, loss_vq=0.03434481844305992, loss_recon=2.7604387998580933, loss_cls=0.530478835105896),\n",
       " VqVaeClsLoss(perplexity=121.47224426269531, loss_vq=0.037085458636283875, loss_recon=4.462655872106552, loss_cls=1.0950812101364136),\n",
       " VqVaeClsLoss(perplexity=141.86378479003906, loss_vq=0.044680073857307434, loss_recon=2.6122367680072784, loss_cls=1.127978801727295),\n",
       " VqVaeClsLoss(perplexity=146.99343872070312, loss_vq=0.04088887944817543, loss_recon=3.8447649478912354, loss_cls=0.7407862544059753),\n",
       " VqVaeClsLoss(perplexity=121.38714599609375, loss_vq=0.0388915054500103, loss_recon=5.231090188026428, loss_cls=0.7987097501754761),\n",
       " VqVaeClsLoss(perplexity=105.73595428466797, loss_vq=0.04330093041062355, loss_recon=3.2926886677742004, loss_cls=1.1554220914840698),\n",
       " VqVaeClsLoss(perplexity=107.34769439697266, loss_vq=0.041888874024152756, loss_recon=3.698549807071686, loss_cls=2.0188355445861816),\n",
       " VqVaeClsLoss(perplexity=127.98504638671875, loss_vq=0.043310802429914474, loss_recon=3.7048996686935425, loss_cls=0.7490013837814331),\n",
       " VqVaeClsLoss(perplexity=100.24301147460938, loss_vq=0.04027309641242027, loss_recon=4.29275581240654, loss_cls=0.7718809247016907),\n",
       " VqVaeClsLoss(perplexity=182.9415283203125, loss_vq=0.04218953847885132, loss_recon=5.406714558601379, loss_cls=1.2339280843734741),\n",
       " VqVaeClsLoss(perplexity=117.65105438232422, loss_vq=0.039444684982299805, loss_recon=5.071973085403442, loss_cls=1.662131667137146),\n",
       " VqVaeClsLoss(perplexity=87.93415069580078, loss_vq=0.03292401134967804, loss_recon=4.992383897304535, loss_cls=1.0077365636825562),\n",
       " VqVaeClsLoss(perplexity=129.08668518066406, loss_vq=0.038285426795482635, loss_recon=4.223107695579529, loss_cls=1.3774547576904297),\n",
       " VqVaeClsLoss(perplexity=92.2369384765625, loss_vq=0.042299699038267136, loss_recon=4.680665016174316, loss_cls=0.46231770515441895),\n",
       " VqVaeClsLoss(perplexity=137.06077575683594, loss_vq=0.04023201763629913, loss_recon=4.319693088531494, loss_cls=1.5156590938568115),\n",
       " VqVaeClsLoss(perplexity=102.86546325683594, loss_vq=0.03826116397976875, loss_recon=4.589760929346085, loss_cls=1.0669081211090088),\n",
       " VqVaeClsLoss(perplexity=139.7991180419922, loss_vq=0.04284701123833656, loss_recon=4.872169733047485, loss_cls=0.7562468647956848),\n",
       " VqVaeClsLoss(perplexity=97.9521255493164, loss_vq=0.03652301803231239, loss_recon=5.047343730926514, loss_cls=1.2590996026992798),\n",
       " VqVaeClsLoss(perplexity=69.72452545166016, loss_vq=0.04099639505147934, loss_recon=4.339172124862671, loss_cls=1.2884786128997803),\n",
       " VqVaeClsLoss(perplexity=135.2701873779297, loss_vq=0.03801045939326286, loss_recon=4.877409934997559, loss_cls=1.175088882446289),\n",
       " VqVaeClsLoss(perplexity=163.33358764648438, loss_vq=0.04397285357117653, loss_recon=4.6873690485954285, loss_cls=1.2840808629989624),\n",
       " VqVaeClsLoss(perplexity=96.59376525878906, loss_vq=0.0414588488638401, loss_recon=4.666050732135773, loss_cls=1.2460455894470215),\n",
       " VqVaeClsLoss(perplexity=119.30209350585938, loss_vq=0.037997063249349594, loss_recon=4.933766573667526, loss_cls=1.3667700290679932),\n",
       " VqVaeClsLoss(perplexity=130.38934326171875, loss_vq=0.03498266637325287, loss_recon=4.113027930259705, loss_cls=1.1380479335784912),\n",
       " VqVaeClsLoss(perplexity=110.54818725585938, loss_vq=0.046336062252521515, loss_recon=3.0635589957237244, loss_cls=0.9069892168045044),\n",
       " VqVaeClsLoss(perplexity=132.4811248779297, loss_vq=0.03747573494911194, loss_recon=4.199559211730957, loss_cls=0.8954874277114868),\n",
       " VqVaeClsLoss(perplexity=160.82955932617188, loss_vq=0.05058303475379944, loss_recon=4.253537893295288, loss_cls=0.8553452491760254),\n",
       " VqVaeClsLoss(perplexity=133.2413787841797, loss_vq=0.04010448604822159, loss_recon=4.171062231063843, loss_cls=0.6960962414741516),\n",
       " VqVaeClsLoss(perplexity=105.43990325927734, loss_vq=0.040926240384578705, loss_recon=5.091125905513763, loss_cls=0.8131743669509888),\n",
       " VqVaeClsLoss(perplexity=141.96092224121094, loss_vq=0.04170108586549759, loss_recon=3.9086092710494995, loss_cls=1.141402006149292),\n",
       " VqVaeClsLoss(perplexity=133.1162109375, loss_vq=0.03876664489507675, loss_recon=4.677838087081909, loss_cls=1.1951467990875244),\n",
       " VqVaeClsLoss(perplexity=103.21745300292969, loss_vq=0.036397188901901245, loss_recon=4.830429673194885, loss_cls=1.1538243293762207),\n",
       " VqVaeClsLoss(perplexity=101.5227279663086, loss_vq=0.038033921271562576, loss_recon=4.7260657250881195, loss_cls=0.9932769536972046),\n",
       " VqVaeClsLoss(perplexity=172.3921356201172, loss_vq=0.0430813804268837, loss_recon=4.31322306394577, loss_cls=1.1537768840789795),\n",
       " VqVaeClsLoss(perplexity=80.47718811035156, loss_vq=0.03530130162835121, loss_recon=3.698054254055023, loss_cls=0.6683152914047241),\n",
       " VqVaeClsLoss(perplexity=146.8716583251953, loss_vq=0.0394943468272686, loss_recon=4.539183259010315, loss_cls=0.7157963514328003),\n",
       " VqVaeClsLoss(perplexity=138.259033203125, loss_vq=0.037714291363954544, loss_recon=4.026087537407875, loss_cls=1.3278563022613525),\n",
       " VqVaeClsLoss(perplexity=85.09156799316406, loss_vq=0.034690044820308685, loss_recon=2.9119579195976257, loss_cls=0.7078797817230225),\n",
       " VqVaeClsLoss(perplexity=149.60049438476562, loss_vq=0.0470893420279026, loss_recon=3.2174463272094727, loss_cls=0.8625174164772034),\n",
       " VqVaeClsLoss(perplexity=150.54904174804688, loss_vq=0.03763866424560547, loss_recon=4.5107260048389435, loss_cls=0.8692620396614075),\n",
       " VqVaeClsLoss(perplexity=80.46514129638672, loss_vq=0.03968670219182968, loss_recon=1.9902889430522919, loss_cls=0.9164043068885803),\n",
       " VqVaeClsLoss(perplexity=130.6174774169922, loss_vq=0.04088730365037918, loss_recon=4.826400578022003, loss_cls=1.098299503326416),\n",
       " VqVaeClsLoss(perplexity=104.4556655883789, loss_vq=0.03970995172858238, loss_recon=5.217569887638092, loss_cls=0.5988956093788147),\n",
       " VqVaeClsLoss(perplexity=106.56842041015625, loss_vq=0.04034198820590973, loss_recon=4.2882905304431915, loss_cls=0.7924249172210693),\n",
       " VqVaeClsLoss(perplexity=80.4367904663086, loss_vq=0.04240269958972931, loss_recon=3.9648400247097015, loss_cls=1.2041511535644531),\n",
       " VqVaeClsLoss(perplexity=81.16413116455078, loss_vq=0.033069685101509094, loss_recon=2.9408280849456787, loss_cls=0.9375537037849426),\n",
       " VqVaeClsLoss(perplexity=154.04705810546875, loss_vq=0.04092962667346001, loss_recon=5.028091847896576, loss_cls=1.4081482887268066),\n",
       " VqVaeClsLoss(perplexity=123.91677856445312, loss_vq=0.03815015032887459, loss_recon=4.250652194023132, loss_cls=0.6259890198707581),\n",
       " VqVaeClsLoss(perplexity=90.46378326416016, loss_vq=0.033809833228588104, loss_recon=5.3682966232299805, loss_cls=0.5877936482429504),\n",
       " VqVaeClsLoss(perplexity=100.26375579833984, loss_vq=0.04004659503698349, loss_recon=2.9473273754119873, loss_cls=0.7466141581535339),\n",
       " VqVaeClsLoss(perplexity=110.5657958984375, loss_vq=0.03797050938010216, loss_recon=4.27202770113945, loss_cls=1.2148929834365845),\n",
       " VqVaeClsLoss(perplexity=90.076904296875, loss_vq=0.04112442955374718, loss_recon=3.468466341495514, loss_cls=1.0943105220794678),\n",
       " VqVaeClsLoss(perplexity=177.98585510253906, loss_vq=0.04323163256049156, loss_recon=3.494534522294998, loss_cls=1.0333542823791504),\n",
       " VqVaeClsLoss(perplexity=93.75801086425781, loss_vq=0.03077920340001583, loss_recon=5.522110104560852, loss_cls=0.43736305832862854),\n",
       " VqVaeClsLoss(perplexity=146.77854919433594, loss_vq=0.04360087960958481, loss_recon=4.036722838878632, loss_cls=0.7978765964508057),\n",
       " VqVaeClsLoss(perplexity=187.0548553466797, loss_vq=0.04777820035815239, loss_recon=4.742295622825623, loss_cls=1.2779954671859741),\n",
       " VqVaeClsLoss(perplexity=127.92581176757812, loss_vq=0.039023883640766144, loss_recon=4.8982561230659485, loss_cls=0.6838638186454773),\n",
       " VqVaeClsLoss(perplexity=128.4130096435547, loss_vq=0.03962848708033562, loss_recon=4.794024854898453, loss_cls=0.6791307330131531),\n",
       " VqVaeClsLoss(perplexity=151.91912841796875, loss_vq=0.04349732771515846, loss_recon=4.547373175621033, loss_cls=2.9506115913391113),\n",
       " VqVaeClsLoss(perplexity=129.83876037597656, loss_vq=0.03766738250851631, loss_recon=4.353441685438156, loss_cls=0.5857980251312256),\n",
       " VqVaeClsLoss(perplexity=62.880149841308594, loss_vq=0.03890965133905411, loss_recon=4.951134920120239, loss_cls=0.7804505228996277),\n",
       " VqVaeClsLoss(perplexity=106.1008071899414, loss_vq=0.04012628644704819, loss_recon=3.553625166416168, loss_cls=0.9617013335227966),\n",
       " VqVaeClsLoss(perplexity=123.83035278320312, loss_vq=0.03872612863779068, loss_recon=3.3272919058799744, loss_cls=1.4112837314605713),\n",
       " VqVaeClsLoss(perplexity=139.60792541503906, loss_vq=0.03801398724317551, loss_recon=5.538026928901672, loss_cls=1.1280272006988525),\n",
       " VqVaeClsLoss(perplexity=111.71380615234375, loss_vq=0.042977191507816315, loss_recon=4.255595430731773, loss_cls=1.0039217472076416),\n",
       " VqVaeClsLoss(perplexity=114.26232147216797, loss_vq=0.039906036108732224, loss_recon=4.1831935942173, loss_cls=1.1653141975402832),\n",
       " VqVaeClsLoss(perplexity=101.70941925048828, loss_vq=0.035928115248680115, loss_recon=6.208100318908691, loss_cls=0.8893285989761353),\n",
       " VqVaeClsLoss(perplexity=123.50555419921875, loss_vq=0.037115056067705154, loss_recon=4.663003325462341, loss_cls=1.9383835792541504),\n",
       " VqVaeClsLoss(perplexity=106.17976379394531, loss_vq=0.03895901143550873, loss_recon=5.156331717967987, loss_cls=1.516129970550537),\n",
       " VqVaeClsLoss(perplexity=156.64703369140625, loss_vq=0.041199736297130585, loss_recon=4.282315135002136, loss_cls=0.846987247467041),\n",
       " VqVaeClsLoss(perplexity=93.87208557128906, loss_vq=0.036112651228904724, loss_recon=6.1409043073654175, loss_cls=0.5815699696540833),\n",
       " VqVaeClsLoss(perplexity=117.13088989257812, loss_vq=0.03965986520051956, loss_recon=4.351918816566467, loss_cls=0.9905892014503479),\n",
       " VqVaeClsLoss(perplexity=151.82708740234375, loss_vq=0.04309127852320671, loss_recon=4.215814113616943, loss_cls=0.9064753651618958),\n",
       " VqVaeClsLoss(perplexity=124.90772247314453, loss_vq=0.046997569501399994, loss_recon=4.287910014390945, loss_cls=0.9622479677200317),\n",
       " VqVaeClsLoss(perplexity=131.15884399414062, loss_vq=0.03902189061045647, loss_recon=3.362187683582306, loss_cls=1.5336459875106812),\n",
       " VqVaeClsLoss(perplexity=170.6494140625, loss_vq=0.04236989840865135, loss_recon=5.510081171989441, loss_cls=0.813431441783905),\n",
       " VqVaeClsLoss(perplexity=98.86499786376953, loss_vq=0.037112243473529816, loss_recon=6.05498993396759, loss_cls=1.4651025533676147),\n",
       " VqVaeClsLoss(perplexity=191.09796142578125, loss_vq=0.0437639020383358, loss_recon=4.417916119098663, loss_cls=1.3073127269744873),\n",
       " VqVaeClsLoss(perplexity=171.9437255859375, loss_vq=0.04347606375813484, loss_recon=4.856803357601166, loss_cls=0.8491951823234558),\n",
       " VqVaeClsLoss(perplexity=132.72128295898438, loss_vq=0.03970927372574806, loss_recon=3.555011034011841, loss_cls=0.6575190424919128),\n",
       " VqVaeClsLoss(perplexity=130.96128845214844, loss_vq=0.03943848982453346, loss_recon=4.626451671123505, loss_cls=0.5731527209281921),\n",
       " VqVaeClsLoss(perplexity=130.40594482421875, loss_vq=0.040177736431360245, loss_recon=4.143589615821838, loss_cls=1.1775527000427246),\n",
       " VqVaeClsLoss(perplexity=106.87362670898438, loss_vq=0.04367382824420929, loss_recon=3.863853245973587, loss_cls=1.5891127586364746),\n",
       " VqVaeClsLoss(perplexity=120.76288604736328, loss_vq=0.039040639996528625, loss_recon=3.179976999759674, loss_cls=0.9750046133995056),\n",
       " VqVaeClsLoss(perplexity=101.74671936035156, loss_vq=0.03720963001251221, loss_recon=5.240064859390259, loss_cls=1.2577674388885498),\n",
       " VqVaeClsLoss(perplexity=117.75315856933594, loss_vq=0.041922107338905334, loss_recon=3.9166958332061768, loss_cls=1.001914381980896),\n",
       " VqVaeClsLoss(perplexity=152.42393493652344, loss_vq=0.046626631170511246, loss_recon=4.428312599658966, loss_cls=0.9285317659378052),\n",
       " VqVaeClsLoss(perplexity=167.65370178222656, loss_vq=0.04368134215474129, loss_recon=4.858838498592377, loss_cls=0.7703642249107361),\n",
       " VqVaeClsLoss(perplexity=129.56614685058594, loss_vq=0.03639298677444458, loss_recon=5.963062882423401, loss_cls=0.6716989874839783),\n",
       " VqVaeClsLoss(perplexity=120.40099334716797, loss_vq=0.04040437191724777, loss_recon=4.742243647575378, loss_cls=0.7842780351638794),\n",
       " VqVaeClsLoss(perplexity=133.11614990234375, loss_vq=0.036823708564043045, loss_recon=4.916243553161621, loss_cls=1.1361846923828125),\n",
       " VqVaeClsLoss(perplexity=116.19175720214844, loss_vq=0.042782261967659, loss_recon=5.522275805473328, loss_cls=1.0530571937561035),\n",
       " VqVaeClsLoss(perplexity=91.91110229492188, loss_vq=0.03552217781543732, loss_recon=4.202542528510094, loss_cls=0.9751632213592529),\n",
       " VqVaeClsLoss(perplexity=106.4695053100586, loss_vq=0.03762446716427803, loss_recon=4.656178951263428, loss_cls=1.1278473138809204),\n",
       " VqVaeClsLoss(perplexity=178.30616760253906, loss_vq=0.040184926241636276, loss_recon=4.622775137424469, loss_cls=0.9253835082054138),\n",
       " VqVaeClsLoss(perplexity=105.71699523925781, loss_vq=0.03915548324584961, loss_recon=4.319828003644943, loss_cls=1.026210069656372),\n",
       " VqVaeClsLoss(perplexity=101.15663146972656, loss_vq=0.03211678937077522, loss_recon=4.078878402709961, loss_cls=1.2975879907608032),\n",
       " VqVaeClsLoss(perplexity=136.91603088378906, loss_vq=0.038617052137851715, loss_recon=5.228435575962067, loss_cls=0.9702422022819519),\n",
       " VqVaeClsLoss(perplexity=71.43754577636719, loss_vq=0.03744860738515854, loss_recon=3.475310206413269, loss_cls=0.9713825583457947),\n",
       " VqVaeClsLoss(perplexity=121.64802551269531, loss_vq=0.035870857536792755, loss_recon=3.4075131118297577, loss_cls=0.8119397163391113),\n",
       " VqVaeClsLoss(perplexity=62.00123596191406, loss_vq=0.03255462273955345, loss_recon=6.564677357673645, loss_cls=1.0526175498962402),\n",
       " VqVaeClsLoss(perplexity=129.18052673339844, loss_vq=0.041045352816581726, loss_recon=4.709229350090027, loss_cls=1.110852837562561),\n",
       " VqVaeClsLoss(perplexity=111.66057586669922, loss_vq=0.04080864414572716, loss_recon=5.886486351490021, loss_cls=0.6445742845535278),\n",
       " VqVaeClsLoss(perplexity=162.5460662841797, loss_vq=0.042910460382699966, loss_recon=3.86597216129303, loss_cls=0.8684127330780029),\n",
       " VqVaeClsLoss(perplexity=133.7002716064453, loss_vq=0.03903508186340332, loss_recon=4.280949890613556, loss_cls=1.7973319292068481),\n",
       " VqVaeClsLoss(perplexity=90.22968292236328, loss_vq=0.03832898288965225, loss_recon=5.027657508850098, loss_cls=1.1624282598495483),\n",
       " VqVaeClsLoss(perplexity=85.2684555053711, loss_vq=0.03956024721264839, loss_recon=5.074617505073547, loss_cls=0.7837442755699158),\n",
       " VqVaeClsLoss(perplexity=82.58412170410156, loss_vq=0.0361965037882328, loss_recon=3.575061410665512, loss_cls=1.2387951612472534),\n",
       " VqVaeClsLoss(perplexity=121.19645690917969, loss_vq=0.03960100933909416, loss_recon=5.581165194511414, loss_cls=1.36270272731781),\n",
       " VqVaeClsLoss(perplexity=126.81212615966797, loss_vq=0.03971153125166893, loss_recon=3.73305344581604, loss_cls=1.2103272676467896),\n",
       " VqVaeClsLoss(perplexity=105.79016876220703, loss_vq=0.04603290930390358, loss_recon=3.320815533399582, loss_cls=1.6881029605865479),\n",
       " VqVaeClsLoss(perplexity=107.76473999023438, loss_vq=0.03607231378555298, loss_recon=5.354070633649826, loss_cls=1.0435562133789062),\n",
       " VqVaeClsLoss(perplexity=116.55428314208984, loss_vq=0.034704118967056274, loss_recon=2.842647671699524, loss_cls=0.8864797353744507),\n",
       " VqVaeClsLoss(perplexity=98.88550567626953, loss_vq=0.03384864330291748, loss_recon=3.5414348244667053, loss_cls=1.327059030532837),\n",
       " VqVaeClsLoss(perplexity=82.34307861328125, loss_vq=0.03248101472854614, loss_recon=5.0457987785339355, loss_cls=0.9397560358047485),\n",
       " VqVaeClsLoss(perplexity=169.33546447753906, loss_vq=0.041870664805173874, loss_recon=3.336969554424286, loss_cls=0.6697332262992859),\n",
       " VqVaeClsLoss(perplexity=143.73287963867188, loss_vq=0.04184909909963608, loss_recon=3.723642945289612, loss_cls=0.7308000922203064),\n",
       " VqVaeClsLoss(perplexity=129.67918395996094, loss_vq=0.04792415350675583, loss_recon=2.6887191236019135, loss_cls=1.3978523015975952),\n",
       " VqVaeClsLoss(perplexity=108.1373519897461, loss_vq=0.03431621193885803, loss_recon=4.644421800971031, loss_cls=1.1604654788970947),\n",
       " VqVaeClsLoss(perplexity=171.5030059814453, loss_vq=0.040593069046735764, loss_recon=4.313673555850983, loss_cls=1.1097462177276611),\n",
       " VqVaeClsLoss(perplexity=92.33484649658203, loss_vq=0.03715252876281738, loss_recon=4.023217439651489, loss_cls=1.7809035778045654),\n",
       " VqVaeClsLoss(perplexity=110.45592498779297, loss_vq=0.038572996854782104, loss_recon=3.436061918735504, loss_cls=0.9187355041503906),\n",
       " VqVaeClsLoss(perplexity=125.48296356201172, loss_vq=0.03884201869368553, loss_recon=3.8664551973342896, loss_cls=1.1634007692337036),\n",
       " VqVaeClsLoss(perplexity=171.75082397460938, loss_vq=0.04401712119579315, loss_recon=4.687914669513702, loss_cls=0.847295880317688),\n",
       " VqVaeClsLoss(perplexity=108.91996002197266, loss_vq=0.04097798839211464, loss_recon=3.4124200642108917, loss_cls=1.636380910873413),\n",
       " VqVaeClsLoss(perplexity=156.95977783203125, loss_vq=0.04374400153756142, loss_recon=3.9257328659296036, loss_cls=1.0025007724761963),\n",
       " VqVaeClsLoss(perplexity=140.48126220703125, loss_vq=0.04337001219391823, loss_recon=5.480765104293823, loss_cls=1.1161046028137207),\n",
       " VqVaeClsLoss(perplexity=129.03253173828125, loss_vq=0.04325873404741287, loss_recon=5.195099472999573, loss_cls=0.6378015279769897),\n",
       " VqVaeClsLoss(perplexity=128.46807861328125, loss_vq=0.03812028467655182, loss_recon=4.538585960865021, loss_cls=0.9416283965110779),\n",
       " VqVaeClsLoss(perplexity=139.7330780029297, loss_vq=0.03598983958363533, loss_recon=5.632255911827087, loss_cls=1.3925330638885498),\n",
       " VqVaeClsLoss(perplexity=153.66094970703125, loss_vq=0.04805228114128113, loss_recon=2.4877927005290985, loss_cls=1.048020839691162),\n",
       " VqVaeClsLoss(perplexity=170.75352478027344, loss_vq=0.04087038338184357, loss_recon=4.290482401847839, loss_cls=0.6359937787055969),\n",
       " VqVaeClsLoss(perplexity=125.25848388671875, loss_vq=0.03749782592058182, loss_recon=5.1571149826049805, loss_cls=0.9121823310852051),\n",
       " VqVaeClsLoss(perplexity=126.218994140625, loss_vq=0.04100795090198517, loss_recon=3.899478554725647, loss_cls=0.9625827074050903),\n",
       " VqVaeClsLoss(perplexity=124.22672271728516, loss_vq=0.03568397834897041, loss_recon=3.2860453724861145, loss_cls=1.754894733428955),\n",
       " VqVaeClsLoss(perplexity=87.2558364868164, loss_vq=0.03989410772919655, loss_recon=2.6255182027816772, loss_cls=1.3388652801513672),\n",
       " VqVaeClsLoss(perplexity=139.08413696289062, loss_vq=0.0398951880633831, loss_recon=3.653821498155594, loss_cls=0.7529535889625549),\n",
       " VqVaeClsLoss(perplexity=152.47511291503906, loss_vq=0.04399898275732994, loss_recon=3.7122392654418945, loss_cls=1.1605952978134155),\n",
       " VqVaeClsLoss(perplexity=116.8383560180664, loss_vq=0.03704892471432686, loss_recon=4.4673594534397125, loss_cls=1.4307016134262085),\n",
       " VqVaeClsLoss(perplexity=109.35785675048828, loss_vq=0.03891609609127045, loss_recon=4.721599608659744, loss_cls=1.2248597145080566),\n",
       " VqVaeClsLoss(perplexity=65.55237579345703, loss_vq=0.039010874927043915, loss_recon=3.9964031875133514, loss_cls=1.3679609298706055),\n",
       " VqVaeClsLoss(perplexity=110.81159973144531, loss_vq=0.04336923733353615, loss_recon=3.78803688287735, loss_cls=0.8381295204162598),\n",
       " VqVaeClsLoss(perplexity=118.67341613769531, loss_vq=0.03910280764102936, loss_recon=4.276841819286346, loss_cls=1.0770936012268066),\n",
       " VqVaeClsLoss(perplexity=145.69049072265625, loss_vq=0.038534630089998245, loss_recon=4.510674834251404, loss_cls=0.8256089687347412),\n",
       " VqVaeClsLoss(perplexity=77.22701263427734, loss_vq=0.037713952362537384, loss_recon=3.8189216554164886, loss_cls=1.0647579431533813),\n",
       " VqVaeClsLoss(perplexity=83.30799102783203, loss_vq=0.03153810277581215, loss_recon=5.4638683795928955, loss_cls=1.1437392234802246),\n",
       " VqVaeClsLoss(perplexity=96.7203369140625, loss_vq=0.03969642519950867, loss_recon=5.143714606761932, loss_cls=1.050903558731079),\n",
       " VqVaeClsLoss(perplexity=118.20770263671875, loss_vq=0.03570973873138428, loss_recon=4.011372804641724, loss_cls=0.8276858925819397),\n",
       " VqVaeClsLoss(perplexity=96.94981384277344, loss_vq=0.0393042117357254, loss_recon=4.9648871421813965, loss_cls=0.7408613562583923),\n",
       " VqVaeClsLoss(perplexity=101.43199920654297, loss_vq=0.03816675394773483, loss_recon=4.978885471820831, loss_cls=1.8986155986785889),\n",
       " VqVaeClsLoss(perplexity=121.60741424560547, loss_vq=0.03714342415332794, loss_recon=3.4290943145751953, loss_cls=0.5789902210235596),\n",
       " VqVaeClsLoss(perplexity=90.63610076904297, loss_vq=0.034585509449243546, loss_recon=3.197575867176056, loss_cls=1.286562442779541),\n",
       " VqVaeClsLoss(perplexity=108.13847351074219, loss_vq=0.03206205368041992, loss_recon=5.470769047737122, loss_cls=1.5620869398117065),\n",
       " VqVaeClsLoss(perplexity=91.18611907958984, loss_vq=0.0362817645072937, loss_recon=4.911089450120926, loss_cls=1.4713642597198486),\n",
       " VqVaeClsLoss(perplexity=120.41138458251953, loss_vq=0.046692539006471634, loss_recon=4.033184051513672, loss_cls=2.069779396057129),\n",
       " VqVaeClsLoss(perplexity=123.10420989990234, loss_vq=0.03778551146388054, loss_recon=4.689707636833191, loss_cls=0.45118898153305054),\n",
       " VqVaeClsLoss(perplexity=195.9922637939453, loss_vq=0.048390019685029984, loss_recon=3.9274905025959015, loss_cls=0.8040739893913269),\n",
       " VqVaeClsLoss(perplexity=108.31423950195312, loss_vq=0.0393650159239769, loss_recon=4.348416715860367, loss_cls=0.7350990176200867),\n",
       " VqVaeClsLoss(perplexity=160.9672088623047, loss_vq=0.04013971984386444, loss_recon=4.3259230852127075, loss_cls=1.1358790397644043),\n",
       " VqVaeClsLoss(perplexity=124.854248046875, loss_vq=0.03447766229510307, loss_recon=3.9805105328559875, loss_cls=1.3144551515579224),\n",
       " VqVaeClsLoss(perplexity=130.4927978515625, loss_vq=0.038088832050561905, loss_recon=4.560401186347008, loss_cls=1.580796241760254),\n",
       " VqVaeClsLoss(perplexity=117.00911712646484, loss_vq=0.04057054594159126, loss_recon=5.361026763916016, loss_cls=1.30820894241333),\n",
       " VqVaeClsLoss(perplexity=119.36483764648438, loss_vq=0.037806060165166855, loss_recon=4.168150424957275, loss_cls=0.8876830339431763),\n",
       " VqVaeClsLoss(perplexity=129.90985107421875, loss_vq=0.0397181399166584, loss_recon=5.030651539564133, loss_cls=0.8176408410072327),\n",
       " VqVaeClsLoss(perplexity=100.26145935058594, loss_vq=0.037563715130090714, loss_recon=4.820568561553955, loss_cls=1.2977718114852905),\n",
       " VqVaeClsLoss(perplexity=121.19033813476562, loss_vq=0.03886537626385689, loss_recon=2.8181833624839783, loss_cls=0.5007284879684448),\n",
       " VqVaeClsLoss(perplexity=103.84130096435547, loss_vq=0.03809155151247978, loss_recon=4.969917416572571, loss_cls=0.8015338182449341),\n",
       " VqVaeClsLoss(perplexity=143.88442993164062, loss_vq=0.043185245245695114, loss_recon=3.6437794864177704, loss_cls=1.0196651220321655),\n",
       " VqVaeClsLoss(perplexity=98.81550598144531, loss_vq=0.03937424719333649, loss_recon=3.771946966648102, loss_cls=1.250762701034546),\n",
       " VqVaeClsLoss(perplexity=139.4928741455078, loss_vq=0.047429341822862625, loss_recon=4.547325491905212, loss_cls=0.504598081111908),\n",
       " VqVaeClsLoss(perplexity=113.98261260986328, loss_vq=0.03926928713917732, loss_recon=5.710948348045349, loss_cls=1.0268467664718628),\n",
       " VqVaeClsLoss(perplexity=138.24302673339844, loss_vq=0.03618428856134415, loss_recon=4.0121351182460785, loss_cls=1.2129156589508057),\n",
       " VqVaeClsLoss(perplexity=83.40043640136719, loss_vq=0.03846051171422005, loss_recon=6.92146897315979, loss_cls=0.6128057837486267),\n",
       " VqVaeClsLoss(perplexity=102.29073333740234, loss_vq=0.03826592490077019, loss_recon=6.1990965604782104, loss_cls=2.052534341812134),\n",
       " VqVaeClsLoss(perplexity=117.81622314453125, loss_vq=0.039356790482997894, loss_recon=3.16137857735157, loss_cls=0.7559165954589844),\n",
       " VqVaeClsLoss(perplexity=128.4092254638672, loss_vq=0.03563155233860016, loss_recon=4.20656943321228, loss_cls=1.089458703994751),\n",
       " VqVaeClsLoss(perplexity=116.3982162475586, loss_vq=0.041365161538124084, loss_recon=4.289103120565414, loss_cls=0.7825703620910645),\n",
       " VqVaeClsLoss(perplexity=100.24425506591797, loss_vq=0.04001191258430481, loss_recon=4.87828129529953, loss_cls=0.8002671003341675),\n",
       " VqVaeClsLoss(perplexity=146.57774353027344, loss_vq=0.042671773582696915, loss_recon=3.276031345129013, loss_cls=0.9481856226921082),\n",
       " VqVaeClsLoss(perplexity=130.86778259277344, loss_vq=0.04526623338460922, loss_recon=4.101836383342743, loss_cls=1.0123525857925415),\n",
       " VqVaeClsLoss(perplexity=143.33412170410156, loss_vq=0.0497039295732975, loss_recon=3.6234537959098816, loss_cls=0.748712956905365),\n",
       " VqVaeClsLoss(perplexity=121.81292724609375, loss_vq=0.04035218060016632, loss_recon=4.616999566555023, loss_cls=0.8735378980636597),\n",
       " VqVaeClsLoss(perplexity=130.01792907714844, loss_vq=0.043164510279893875, loss_recon=3.896809160709381, loss_cls=1.2284855842590332),\n",
       " VqVaeClsLoss(perplexity=132.18203735351562, loss_vq=0.041010238230228424, loss_recon=4.250974178314209, loss_cls=1.0489435195922852),\n",
       " VqVaeClsLoss(perplexity=153.0376434326172, loss_vq=0.04646072909235954, loss_recon=5.106041729450226, loss_cls=1.21806001663208),\n",
       " VqVaeClsLoss(perplexity=97.88512420654297, loss_vq=0.04134296253323555, loss_recon=5.068565368652344, loss_cls=0.9268856644630432),\n",
       " VqVaeClsLoss(perplexity=76.42442321777344, loss_vq=0.0351109616458416, loss_recon=6.219574451446533, loss_cls=1.2822970151901245),\n",
       " VqVaeClsLoss(perplexity=110.74414825439453, loss_vq=0.03937286138534546, loss_recon=3.9875592589378357, loss_cls=1.0792698860168457),\n",
       " VqVaeClsLoss(perplexity=90.26370239257812, loss_vq=0.03897947445511818, loss_recon=4.722671240568161, loss_cls=0.8157820701599121),\n",
       " VqVaeClsLoss(perplexity=135.37240600585938, loss_vq=0.038235682994127274, loss_recon=5.003022909164429, loss_cls=1.1861780881881714),\n",
       " VqVaeClsLoss(perplexity=131.6943359375, loss_vq=0.03713341802358627, loss_recon=4.669169187545776, loss_cls=1.1704318523406982),\n",
       " VqVaeClsLoss(perplexity=116.91632080078125, loss_vq=0.036650266498327255, loss_recon=2.3658995032310486, loss_cls=0.9012060165405273),\n",
       " VqVaeClsLoss(perplexity=117.45621490478516, loss_vq=0.04383233189582825, loss_recon=4.877166032791138, loss_cls=0.9900869727134705),\n",
       " VqVaeClsLoss(perplexity=129.20799255371094, loss_vq=0.034766215831041336, loss_recon=4.353141129016876, loss_cls=1.058815836906433),\n",
       " VqVaeClsLoss(perplexity=163.22731018066406, loss_vq=0.03958737850189209, loss_recon=5.181158185005188, loss_cls=1.1476917266845703),\n",
       " VqVaeClsLoss(perplexity=121.49282836914062, loss_vq=0.03696787729859352, loss_recon=4.897921532392502, loss_cls=1.5838494300842285),\n",
       " VqVaeClsLoss(perplexity=154.22154235839844, loss_vq=0.03520335257053375, loss_recon=5.511329114437103, loss_cls=1.2063549757003784),\n",
       " VqVaeClsLoss(perplexity=137.96730041503906, loss_vq=0.04190851375460625, loss_recon=3.894991457462311, loss_cls=0.8584949970245361),\n",
       " VqVaeClsLoss(perplexity=127.31417083740234, loss_vq=0.04173099994659424, loss_recon=3.415903091430664, loss_cls=0.6473228335380554),\n",
       " VqVaeClsLoss(perplexity=106.989990234375, loss_vq=0.042656660079956055, loss_recon=3.4731958508491516, loss_cls=1.2218081951141357),\n",
       " VqVaeClsLoss(perplexity=102.18211364746094, loss_vq=0.040846481919288635, loss_recon=3.4593215584754944, loss_cls=0.8064811825752258),\n",
       " VqVaeClsLoss(perplexity=117.61420440673828, loss_vq=0.03605114668607712, loss_recon=4.8460569977760315, loss_cls=0.9336839318275452),\n",
       " VqVaeClsLoss(perplexity=118.35494232177734, loss_vq=0.04139210283756256, loss_recon=4.81620991230011, loss_cls=0.9758597612380981),\n",
       " VqVaeClsLoss(perplexity=138.19195556640625, loss_vq=0.04360199719667435, loss_recon=4.228494495153427, loss_cls=1.802481770515442),\n",
       " VqVaeClsLoss(perplexity=145.20236206054688, loss_vq=0.039401546120643616, loss_recon=3.1232365667819977, loss_cls=0.8329956531524658),\n",
       " VqVaeClsLoss(perplexity=107.8944320678711, loss_vq=0.03351200371980667, loss_recon=5.370580077171326, loss_cls=1.0402274131774902),\n",
       " VqVaeClsLoss(perplexity=145.39102172851562, loss_vq=0.04407505691051483, loss_recon=4.146907031536102, loss_cls=1.1760883331298828),\n",
       " VqVaeClsLoss(perplexity=152.3132781982422, loss_vq=0.04013487696647644, loss_recon=4.1583477556705475, loss_cls=1.4876315593719482),\n",
       " VqVaeClsLoss(perplexity=153.2157440185547, loss_vq=0.04104195535182953, loss_recon=4.411447882652283, loss_cls=1.36382257938385),\n",
       " VqVaeClsLoss(perplexity=133.22825622558594, loss_vq=0.03914536163210869, loss_recon=3.949777513742447, loss_cls=1.3787975311279297),\n",
       " VqVaeClsLoss(perplexity=90.92755889892578, loss_vq=0.03874493017792702, loss_recon=2.474669963121414, loss_cls=1.0087215900421143),\n",
       " VqVaeClsLoss(perplexity=128.910400390625, loss_vq=0.036033399403095245, loss_recon=4.099665135145187, loss_cls=1.7949411869049072),\n",
       " VqVaeClsLoss(perplexity=97.31037902832031, loss_vq=0.038083989173173904, loss_recon=5.626992583274841, loss_cls=0.7913702726364136),\n",
       " VqVaeClsLoss(perplexity=166.1669921875, loss_vq=0.0493067242205143, loss_recon=3.978388786315918, loss_cls=1.6593127250671387),\n",
       " VqVaeClsLoss(perplexity=155.2580108642578, loss_vq=0.044625211507081985, loss_recon=5.193265676498413, loss_cls=0.26020896434783936),\n",
       " VqVaeClsLoss(perplexity=44.85686111450195, loss_vq=0.03320995345711708, loss_recon=2.9266002029180527, loss_cls=1.2396342754364014),\n",
       " VqVaeClsLoss(perplexity=115.91236877441406, loss_vq=0.04159114509820938, loss_recon=3.4685150384902954, loss_cls=0.9025194644927979),\n",
       " VqVaeClsLoss(perplexity=97.87686920166016, loss_vq=0.04421200975775719, loss_recon=4.595106482505798, loss_cls=0.8934741616249084),\n",
       " VqVaeClsLoss(perplexity=82.42133331298828, loss_vq=0.040951844304800034, loss_recon=3.1678133606910706, loss_cls=0.8195673227310181),\n",
       " VqVaeClsLoss(perplexity=93.44139099121094, loss_vq=0.0411374494433403, loss_recon=4.498438835144043, loss_cls=1.1427010297775269),\n",
       " VqVaeClsLoss(perplexity=153.34913635253906, loss_vq=0.04326417297124863, loss_recon=4.291385114192963, loss_cls=1.3583890199661255),\n",
       " VqVaeClsLoss(perplexity=135.99261474609375, loss_vq=0.037372298538684845, loss_recon=5.386029839515686, loss_cls=0.6927395462989807),\n",
       " VqVaeClsLoss(perplexity=156.0784454345703, loss_vq=0.0411725714802742, loss_recon=3.752550959587097, loss_cls=0.8349458575248718),\n",
       " VqVaeClsLoss(perplexity=127.9251937866211, loss_vq=0.04164387658238411, loss_recon=4.5912372171878815, loss_cls=0.9918725490570068),\n",
       " VqVaeClsLoss(perplexity=184.0910186767578, loss_vq=0.04485425353050232, loss_recon=3.611710548400879, loss_cls=0.6900990009307861),\n",
       " VqVaeClsLoss(perplexity=139.91148376464844, loss_vq=0.04129862040281296, loss_recon=4.242504119873047, loss_cls=0.6926889419555664),\n",
       " VqVaeClsLoss(perplexity=129.74803161621094, loss_vq=0.036685723811388016, loss_recon=4.219953119754791, loss_cls=1.5956940650939941),\n",
       " VqVaeClsLoss(perplexity=120.78142547607422, loss_vq=0.042170457541942596, loss_recon=4.354803085327148, loss_cls=1.3203554153442383),\n",
       " VqVaeClsLoss(perplexity=103.2144775390625, loss_vq=0.03666481003165245, loss_recon=4.543350845575333, loss_cls=1.3711403608322144),\n",
       " VqVaeClsLoss(perplexity=134.35313415527344, loss_vq=0.04460138455033302, loss_recon=3.934875249862671, loss_cls=0.7622737288475037),\n",
       " VqVaeClsLoss(perplexity=166.02047729492188, loss_vq=0.04528903216123581, loss_recon=3.8774373531341553, loss_cls=0.9799087643623352),\n",
       " VqVaeClsLoss(perplexity=123.3408203125, loss_vq=0.03792437165975571, loss_recon=4.242059826850891, loss_cls=1.1387661695480347),\n",
       " VqVaeClsLoss(perplexity=91.79820251464844, loss_vq=0.032442472875118256, loss_recon=4.942991733551025, loss_cls=0.771565854549408),\n",
       " VqVaeClsLoss(perplexity=138.6457977294922, loss_vq=0.03977866843342781, loss_recon=5.009880542755127, loss_cls=0.6970185041427612),\n",
       " VqVaeClsLoss(perplexity=82.68428802490234, loss_vq=0.03593338280916214, loss_recon=4.547353386878967, loss_cls=1.1379436254501343),\n",
       " VqVaeClsLoss(perplexity=136.11024475097656, loss_vq=0.041523225605487823, loss_recon=4.8802778124809265, loss_cls=0.846696674823761),\n",
       " VqVaeClsLoss(perplexity=156.00225830078125, loss_vq=0.04105784744024277, loss_recon=4.95408022403717, loss_cls=0.9366313219070435),\n",
       " VqVaeClsLoss(perplexity=73.598388671875, loss_vq=0.03194916248321533, loss_recon=5.045881807804108, loss_cls=1.3546558618545532),\n",
       " VqVaeClsLoss(perplexity=84.99237823486328, loss_vq=0.035755906254053116, loss_recon=5.298595070838928, loss_cls=1.077988624572754),\n",
       " VqVaeClsLoss(perplexity=153.86911010742188, loss_vq=0.041968002915382385, loss_recon=4.51195502281189, loss_cls=0.9537487030029297),\n",
       " VqVaeClsLoss(perplexity=119.265380859375, loss_vq=0.03802988678216934, loss_recon=4.79681134223938, loss_cls=0.7894645929336548),\n",
       " VqVaeClsLoss(perplexity=137.57569885253906, loss_vq=0.043799299746751785, loss_recon=3.0879865884780884, loss_cls=0.650115966796875),\n",
       " VqVaeClsLoss(perplexity=155.6206512451172, loss_vq=0.041766852140426636, loss_recon=4.044730395078659, loss_cls=1.2167245149612427),\n",
       " VqVaeClsLoss(perplexity=113.01654815673828, loss_vq=0.0399356335401535, loss_recon=4.865199863910675, loss_cls=1.3475372791290283),\n",
       " VqVaeClsLoss(perplexity=82.32556915283203, loss_vq=0.03925490379333496, loss_recon=5.224285662174225, loss_cls=1.0314180850982666),\n",
       " VqVaeClsLoss(perplexity=101.37846374511719, loss_vq=0.03461659327149391, loss_recon=4.914776682853699, loss_cls=0.9107250571250916),\n",
       " VqVaeClsLoss(perplexity=102.54478454589844, loss_vq=0.03580152243375778, loss_recon=4.650853931903839, loss_cls=1.6496540307998657),\n",
       " VqVaeClsLoss(perplexity=145.63067626953125, loss_vq=0.044787876307964325, loss_recon=4.8727176785469055, loss_cls=1.5404322147369385),\n",
       " VqVaeClsLoss(perplexity=124.65306091308594, loss_vq=0.04584980010986328, loss_recon=4.132946729660034, loss_cls=0.698853611946106),\n",
       " VqVaeClsLoss(perplexity=123.56065368652344, loss_vq=0.04192215949296951, loss_recon=3.98061066865921, loss_cls=0.9265096783638),\n",
       " VqVaeClsLoss(perplexity=153.70645141601562, loss_vq=0.04526827111840248, loss_recon=3.8891782760620117, loss_cls=1.0319604873657227),\n",
       " VqVaeClsLoss(perplexity=118.87532043457031, loss_vq=0.035864077508449554, loss_recon=4.272753477096558, loss_cls=0.8833256959915161),\n",
       " VqVaeClsLoss(perplexity=124.94054412841797, loss_vq=0.03984246402978897, loss_recon=4.0345344841480255, loss_cls=0.6372451186180115),\n",
       " VqVaeClsLoss(perplexity=100.09698486328125, loss_vq=0.038702186197042465, loss_recon=4.368809312582016, loss_cls=0.7493797540664673),\n",
       " VqVaeClsLoss(perplexity=110.6362533569336, loss_vq=0.036130793392658234, loss_recon=4.583225846290588, loss_cls=1.2199923992156982),\n",
       " VqVaeClsLoss(perplexity=97.96338653564453, loss_vq=0.03655252605676651, loss_recon=4.331624925136566, loss_cls=1.8205901384353638),\n",
       " VqVaeClsLoss(perplexity=111.40669250488281, loss_vq=0.04230118542909622, loss_recon=4.197638601064682, loss_cls=1.1871891021728516),\n",
       " VqVaeClsLoss(perplexity=152.24655151367188, loss_vq=0.042627424001693726, loss_recon=4.798331022262573, loss_cls=1.2102715969085693),\n",
       " VqVaeClsLoss(perplexity=109.79988098144531, loss_vq=0.03084641322493553, loss_recon=5.1388537883758545, loss_cls=0.9358406662940979),\n",
       " VqVaeClsLoss(perplexity=126.93536376953125, loss_vq=0.041798483580350876, loss_recon=3.804931640625, loss_cls=0.8527265191078186),\n",
       " VqVaeClsLoss(perplexity=152.84519958496094, loss_vq=0.039488982409238815, loss_recon=4.080385625362396, loss_cls=0.804733395576477),\n",
       " VqVaeClsLoss(perplexity=171.0337677001953, loss_vq=0.04674919694662094, loss_recon=3.3763967752456665, loss_cls=1.0011478662490845),\n",
       " VqVaeClsLoss(perplexity=123.50862121582031, loss_vq=0.03921351581811905, loss_recon=5.372495770454407, loss_cls=1.17286217212677),\n",
       " VqVaeClsLoss(perplexity=106.42434692382812, loss_vq=0.03676972538232803, loss_recon=3.613104537129402, loss_cls=1.0118434429168701),\n",
       " VqVaeClsLoss(perplexity=77.7785415649414, loss_vq=0.03604971989989281, loss_recon=5.93024218082428, loss_cls=1.1292084455490112),\n",
       " VqVaeClsLoss(perplexity=170.63851928710938, loss_vq=0.043298207223415375, loss_recon=3.8277905881404877, loss_cls=0.7002334594726562),\n",
       " VqVaeClsLoss(perplexity=90.93614959716797, loss_vq=0.035703569650650024, loss_recon=4.732292801141739, loss_cls=1.335968255996704),\n",
       " VqVaeClsLoss(perplexity=134.20330810546875, loss_vq=0.038706887513399124, loss_recon=4.0307082533836365, loss_cls=1.7161892652511597),\n",
       " VqVaeClsLoss(perplexity=89.44784545898438, loss_vq=0.03675778955221176, loss_recon=5.3235650062561035, loss_cls=0.746755063533783),\n",
       " VqVaeClsLoss(perplexity=112.05847930908203, loss_vq=0.03771216794848442, loss_recon=3.237112373113632, loss_cls=0.9951769113540649),\n",
       " VqVaeClsLoss(perplexity=124.88793182373047, loss_vq=0.03907801955938339, loss_recon=4.251345634460449, loss_cls=0.8709275126457214),\n",
       " VqVaeClsLoss(perplexity=115.11215209960938, loss_vq=0.036724478006362915, loss_recon=5.235866189002991, loss_cls=1.4772872924804688),\n",
       " VqVaeClsLoss(perplexity=98.4959945678711, loss_vq=0.036587849259376526, loss_recon=4.727535426616669, loss_cls=1.0099717378616333),\n",
       " VqVaeClsLoss(perplexity=163.31988525390625, loss_vq=0.04408539459109306, loss_recon=4.196801662445068, loss_cls=0.5952677130699158),\n",
       " VqVaeClsLoss(perplexity=88.84071350097656, loss_vq=0.03746293485164642, loss_recon=3.58383372426033, loss_cls=0.8133725523948669),\n",
       " VqVaeClsLoss(perplexity=122.45989990234375, loss_vq=0.040481239557266235, loss_recon=4.581579148769379, loss_cls=1.5674420595169067),\n",
       " VqVaeClsLoss(perplexity=100.30339813232422, loss_vq=0.04025869816541672, loss_recon=5.215827703475952, loss_cls=1.2470556497573853),\n",
       " VqVaeClsLoss(perplexity=111.27976989746094, loss_vq=0.04204224795103073, loss_recon=3.768809497356415, loss_cls=0.6452165842056274),\n",
       " VqVaeClsLoss(perplexity=115.91014862060547, loss_vq=0.04495785012841225, loss_recon=4.307049095630646, loss_cls=1.9186995029449463),\n",
       " VqVaeClsLoss(perplexity=136.96853637695312, loss_vq=0.03568222373723984, loss_recon=4.4029266238212585, loss_cls=1.060441255569458),\n",
       " VqVaeClsLoss(perplexity=106.64556884765625, loss_vq=0.04001608490943909, loss_recon=3.43707275390625, loss_cls=1.0467009544372559),\n",
       " VqVaeClsLoss(perplexity=127.36522674560547, loss_vq=0.038536716252565384, loss_recon=5.065449416637421, loss_cls=0.8651201725006104),\n",
       " VqVaeClsLoss(perplexity=130.63821411132812, loss_vq=0.03686613589525223, loss_recon=5.052092909812927, loss_cls=0.8586734533309937),\n",
       " VqVaeClsLoss(perplexity=132.2095184326172, loss_vq=0.037520550191402435, loss_recon=4.426215291023254, loss_cls=0.9329679012298584),\n",
       " VqVaeClsLoss(perplexity=108.62571716308594, loss_vq=0.036116428673267365, loss_recon=4.42317658662796, loss_cls=1.1458684206008911),\n",
       " VqVaeClsLoss(perplexity=106.99356079101562, loss_vq=0.043453432619571686, loss_recon=1.883357286453247, loss_cls=1.408652424812317),\n",
       " VqVaeClsLoss(perplexity=98.0359115600586, loss_vq=0.03921924903988838, loss_recon=4.886313080787659, loss_cls=0.9049040079116821),\n",
       " VqVaeClsLoss(perplexity=114.92765045166016, loss_vq=0.034378670156002045, loss_recon=4.314949691295624, loss_cls=1.492714524269104),\n",
       " VqVaeClsLoss(perplexity=139.2175750732422, loss_vq=0.04587792605161667, loss_recon=4.846747398376465, loss_cls=0.9227522611618042),\n",
       " VqVaeClsLoss(perplexity=88.42863464355469, loss_vq=0.039618510752916336, loss_recon=4.263221800327301, loss_cls=0.6855752468109131),\n",
       " VqVaeClsLoss(perplexity=108.89031219482422, loss_vq=0.036036182194948196, loss_recon=3.6684361696243286, loss_cls=1.1363911628723145),\n",
       " VqVaeClsLoss(perplexity=121.58985900878906, loss_vq=0.04485997557640076, loss_recon=4.501280173659325, loss_cls=1.2069741487503052),\n",
       " VqVaeClsLoss(perplexity=126.97174072265625, loss_vq=0.03821438550949097, loss_recon=5.463765025138855, loss_cls=1.6758079528808594),\n",
       " VqVaeClsLoss(perplexity=138.82659912109375, loss_vq=0.042436107993125916, loss_recon=4.329485058784485, loss_cls=0.484651654958725),\n",
       " VqVaeClsLoss(perplexity=139.41061401367188, loss_vq=0.03717333823442459, loss_recon=4.838876485824585, loss_cls=1.6541616916656494),\n",
       " VqVaeClsLoss(perplexity=125.03631591796875, loss_vq=0.040323685854673386, loss_recon=5.598353981971741, loss_cls=0.7412026524543762),\n",
       " VqVaeClsLoss(perplexity=102.20901489257812, loss_vq=0.04027852416038513, loss_recon=4.172693073749542, loss_cls=1.959133505821228),\n",
       " VqVaeClsLoss(perplexity=120.09617614746094, loss_vq=0.0360848642885685, loss_recon=4.906925320625305, loss_cls=1.734360933303833),\n",
       " VqVaeClsLoss(perplexity=116.70361328125, loss_vq=0.03956374526023865, loss_recon=5.172226011753082, loss_cls=1.4605495929718018),\n",
       " VqVaeClsLoss(perplexity=125.7384262084961, loss_vq=0.04338027164340019, loss_recon=3.6208560466766357, loss_cls=1.2761179208755493),\n",
       " VqVaeClsLoss(perplexity=84.27295684814453, loss_vq=0.03473576158285141, loss_recon=4.840781986713409, loss_cls=1.3731391429901123),\n",
       " VqVaeClsLoss(perplexity=98.15284729003906, loss_vq=0.03497200459241867, loss_recon=5.644803404808044, loss_cls=0.90700364112854),\n",
       " VqVaeClsLoss(perplexity=132.5047607421875, loss_vq=0.039703480899333954, loss_recon=5.304000735282898, loss_cls=1.0506376028060913),\n",
       " VqVaeClsLoss(perplexity=69.27009582519531, loss_vq=0.03918791189789772, loss_recon=3.2197667956352234, loss_cls=1.0784181356430054),\n",
       " VqVaeClsLoss(perplexity=154.7312774658203, loss_vq=0.03949485346674919, loss_recon=4.201100707054138, loss_cls=0.8989161252975464),\n",
       " VqVaeClsLoss(perplexity=96.85467529296875, loss_vq=0.0344119518995285, loss_recon=3.945559859275818, loss_cls=0.8424205780029297),\n",
       " VqVaeClsLoss(perplexity=80.35540771484375, loss_vq=0.03724943846464157, loss_recon=4.6056117713451385, loss_cls=1.3366143703460693),\n",
       " VqVaeClsLoss(perplexity=90.32261657714844, loss_vq=0.03701389580965042, loss_recon=5.613669753074646, loss_cls=1.263336420059204),\n",
       " VqVaeClsLoss(perplexity=142.2251434326172, loss_vq=0.04562731087207794, loss_recon=3.1657950580120087, loss_cls=0.7616307735443115),\n",
       " VqVaeClsLoss(perplexity=119.64519500732422, loss_vq=0.03666745871305466, loss_recon=4.836788326501846, loss_cls=1.2255289554595947),\n",
       " VqVaeClsLoss(perplexity=108.83642578125, loss_vq=0.03978951647877693, loss_recon=3.6296998262405396, loss_cls=2.301137685775757),\n",
       " VqVaeClsLoss(perplexity=113.26758575439453, loss_vq=0.03919921815395355, loss_recon=5.138218402862549, loss_cls=1.9710708856582642),\n",
       " VqVaeClsLoss(perplexity=112.4677734375, loss_vq=0.046087220311164856, loss_recon=4.785387605428696, loss_cls=0.9585123062133789),\n",
       " VqVaeClsLoss(perplexity=112.89347839355469, loss_vq=0.03651510924100876, loss_recon=5.58600914478302, loss_cls=0.4101388454437256),\n",
       " VqVaeClsLoss(perplexity=148.1110076904297, loss_vq=0.035549063235521317, loss_recon=4.2063740491867065, loss_cls=1.560020923614502),\n",
       " VqVaeClsLoss(perplexity=100.03080749511719, loss_vq=0.03874165937304497, loss_recon=3.9420509934425354, loss_cls=1.3943740129470825),\n",
       " VqVaeClsLoss(perplexity=116.09555053710938, loss_vq=0.03977623209357262, loss_recon=5.626687288284302, loss_cls=1.36894953250885),\n",
       " VqVaeClsLoss(perplexity=129.15403747558594, loss_vq=0.03783894702792168, loss_recon=4.950389951467514, loss_cls=0.8858294486999512),\n",
       " VqVaeClsLoss(perplexity=86.46166229248047, loss_vq=0.04782826825976372, loss_recon=4.266506195068359, loss_cls=0.642098605632782),\n",
       " VqVaeClsLoss(perplexity=126.25147247314453, loss_vq=0.041129983961582184, loss_recon=4.50629386305809, loss_cls=1.2699012756347656),\n",
       " VqVaeClsLoss(perplexity=111.3234634399414, loss_vq=0.04329381883144379, loss_recon=3.566527307033539, loss_cls=1.0552682876586914),\n",
       " VqVaeClsLoss(perplexity=119.54779052734375, loss_vq=0.03889288380742073, loss_recon=6.114469766616821, loss_cls=0.9270840883255005),\n",
       " VqVaeClsLoss(perplexity=117.78836059570312, loss_vq=0.03405555337667465, loss_recon=3.5017135739326477, loss_cls=1.3598827123641968),\n",
       " VqVaeClsLoss(perplexity=158.17086791992188, loss_vq=0.04664023965597153, loss_recon=3.888170301914215, loss_cls=0.6747180819511414),\n",
       " VqVaeClsLoss(perplexity=77.93060302734375, loss_vq=0.03341398760676384, loss_recon=3.8666602075099945, loss_cls=1.3937883377075195),\n",
       " VqVaeClsLoss(perplexity=121.95263671875, loss_vq=0.042369600385427475, loss_recon=4.309748351573944, loss_cls=0.8053219318389893),\n",
       " VqVaeClsLoss(perplexity=112.07090759277344, loss_vq=0.03512249141931534, loss_recon=4.006418213248253, loss_cls=0.8872147798538208),\n",
       " VqVaeClsLoss(perplexity=162.8406219482422, loss_vq=0.03843800723552704, loss_recon=4.731437683105469, loss_cls=1.1404913663864136),\n",
       " VqVaeClsLoss(perplexity=116.40941619873047, loss_vq=0.04056604206562042, loss_recon=5.365275740623474, loss_cls=1.1655142307281494),\n",
       " VqVaeClsLoss(perplexity=171.97314453125, loss_vq=0.04780308157205582, loss_recon=3.399377405643463, loss_cls=0.5413171052932739),\n",
       " VqVaeClsLoss(perplexity=88.99444580078125, loss_vq=0.03775295242667198, loss_recon=2.1529698073863983, loss_cls=0.8959118127822876),\n",
       " VqVaeClsLoss(perplexity=142.75347900390625, loss_vq=0.039523400366306305, loss_recon=4.450657367706299, loss_cls=0.7729300856590271),\n",
       " VqVaeClsLoss(perplexity=82.57498931884766, loss_vq=0.03951072320342064, loss_recon=4.208777517080307, loss_cls=0.8476241827011108),\n",
       " VqVaeClsLoss(perplexity=134.7055206298828, loss_vq=0.03883219510316849, loss_recon=3.8789366483688354, loss_cls=1.5120519399642944),\n",
       " VqVaeClsLoss(perplexity=145.92144775390625, loss_vq=0.04010799154639244, loss_recon=3.5780192613601685, loss_cls=0.5238718390464783),\n",
       " VqVaeClsLoss(perplexity=121.47139739990234, loss_vq=0.03618824854493141, loss_recon=4.0659705102443695, loss_cls=0.8795888423919678),\n",
       " VqVaeClsLoss(perplexity=96.4738540649414, loss_vq=0.035942770540714264, loss_recon=4.997891426086426, loss_cls=1.0560566186904907),\n",
       " VqVaeClsLoss(perplexity=51.31888961791992, loss_vq=0.03692794218659401, loss_recon=4.71820804476738, loss_cls=1.5875288248062134),\n",
       " VqVaeClsLoss(perplexity=141.92332458496094, loss_vq=0.041909072548151016, loss_recon=3.7607078552246094, loss_cls=1.165558099746704),\n",
       " VqVaeClsLoss(perplexity=126.72750091552734, loss_vq=0.04261505603790283, loss_recon=5.319106578826904, loss_cls=1.1530804634094238),\n",
       " VqVaeClsLoss(perplexity=106.2342529296875, loss_vq=0.03877055644989014, loss_recon=4.289710998535156, loss_cls=0.9050623774528503),\n",
       " VqVaeClsLoss(perplexity=150.40396118164062, loss_vq=0.03925565257668495, loss_recon=4.734913885593414, loss_cls=1.0079741477966309),\n",
       " VqVaeClsLoss(perplexity=130.81336975097656, loss_vq=0.04506424441933632, loss_recon=5.561956524848938, loss_cls=0.624688982963562),\n",
       " VqVaeClsLoss(perplexity=183.85960388183594, loss_vq=0.04315333068370819, loss_recon=4.821006953716278, loss_cls=1.0714759826660156),\n",
       " VqVaeClsLoss(perplexity=71.9955062866211, loss_vq=0.03505712375044823, loss_recon=3.621158793568611, loss_cls=1.1686036586761475),\n",
       " VqVaeClsLoss(perplexity=124.99882507324219, loss_vq=0.043513767421245575, loss_recon=4.392735943198204, loss_cls=0.5523325204849243),\n",
       " VqVaeClsLoss(perplexity=118.21075439453125, loss_vq=0.03990647941827774, loss_recon=3.8021880984306335, loss_cls=0.8202136754989624),\n",
       " VqVaeClsLoss(perplexity=94.23634338378906, loss_vq=0.040813472121953964, loss_recon=4.857862651348114, loss_cls=0.47597500681877136),\n",
       " VqVaeClsLoss(perplexity=104.60987854003906, loss_vq=0.042032450437545776, loss_recon=5.591537594795227, loss_cls=0.8408645391464233),\n",
       " VqVaeClsLoss(perplexity=91.73108673095703, loss_vq=0.03620811179280281, loss_recon=4.75712913274765, loss_cls=0.9356387853622437),\n",
       " VqVaeClsLoss(perplexity=110.36832427978516, loss_vq=0.03876322880387306, loss_recon=5.543125867843628, loss_cls=0.443346232175827),\n",
       " VqVaeClsLoss(perplexity=112.86371612548828, loss_vq=0.03303021565079689, loss_recon=5.715820670127869, loss_cls=1.0032004117965698),\n",
       " VqVaeClsLoss(perplexity=111.2049331665039, loss_vq=0.03806614875793457, loss_recon=4.143966555595398, loss_cls=1.2998595237731934),\n",
       " VqVaeClsLoss(perplexity=147.97503662109375, loss_vq=0.041917379945516586, loss_recon=3.8787071108818054, loss_cls=1.356554388999939),\n",
       " VqVaeClsLoss(perplexity=169.68479919433594, loss_vq=0.04074563458561897, loss_recon=5.169046759605408, loss_cls=1.711357831954956),\n",
       " VqVaeClsLoss(perplexity=139.58177185058594, loss_vq=0.04173324629664421, loss_recon=3.5005852580070496, loss_cls=1.88376784324646),\n",
       " VqVaeClsLoss(perplexity=104.30509948730469, loss_vq=0.038080986589193344, loss_recon=4.400020152330399, loss_cls=1.0000150203704834),\n",
       " VqVaeClsLoss(perplexity=95.50128936767578, loss_vq=0.044373780488967896, loss_recon=2.8599460273981094, loss_cls=0.8403685092926025),\n",
       " VqVaeClsLoss(perplexity=164.1837921142578, loss_vq=0.04264836013317108, loss_recon=4.1131837368011475, loss_cls=0.4506797790527344),\n",
       " VqVaeClsLoss(perplexity=120.39862823486328, loss_vq=0.04273515194654465, loss_recon=3.500251851975918, loss_cls=0.840979814529419),\n",
       " VqVaeClsLoss(perplexity=155.15284729003906, loss_vq=0.04050441086292267, loss_recon=4.947697818279266, loss_cls=0.29766809940338135),\n",
       " VqVaeClsLoss(perplexity=68.56434631347656, loss_vq=0.03892133757472038, loss_recon=5.597282886505127, loss_cls=1.3575013875961304),\n",
       " VqVaeClsLoss(perplexity=98.43514251708984, loss_vq=0.03447352349758148, loss_recon=3.84509539604187, loss_cls=2.169796943664551),\n",
       " VqVaeClsLoss(perplexity=145.0747528076172, loss_vq=0.03968243673443794, loss_recon=4.068376064300537, loss_cls=1.4077626466751099),\n",
       " VqVaeClsLoss(perplexity=140.80758666992188, loss_vq=0.044544756412506104, loss_recon=3.1749081909656525, loss_cls=0.5334371328353882),\n",
       " VqVaeClsLoss(perplexity=144.52322387695312, loss_vq=0.043768350034952164, loss_recon=4.62652724981308, loss_cls=1.1344562768936157),\n",
       " VqVaeClsLoss(perplexity=90.20643615722656, loss_vq=0.034427061676979065, loss_recon=5.194839268922806, loss_cls=0.8791894912719727),\n",
       " VqVaeClsLoss(perplexity=92.08708190917969, loss_vq=0.03701211139559746, loss_recon=3.672938287258148, loss_cls=0.7682732343673706),\n",
       " VqVaeClsLoss(perplexity=145.1208953857422, loss_vq=0.03985977545380592, loss_recon=5.511953830718994, loss_cls=1.5342925786972046),\n",
       " VqVaeClsLoss(perplexity=79.1601791381836, loss_vq=0.041806306689977646, loss_recon=3.532727390527725, loss_cls=0.8419108390808105),\n",
       " VqVaeClsLoss(perplexity=50.89891052246094, loss_vq=0.03511390835046768, loss_recon=4.605013631284237, loss_cls=1.5717271566390991),\n",
       " VqVaeClsLoss(perplexity=162.1037139892578, loss_vq=0.042406994849443436, loss_recon=3.659408450126648, loss_cls=0.9601304531097412),\n",
       " VqVaeClsLoss(perplexity=136.28512573242188, loss_vq=0.03973845764994621, loss_recon=3.0599362552165985, loss_cls=1.256981611251831),\n",
       " VqVaeClsLoss(perplexity=128.62167358398438, loss_vq=0.04121027886867523, loss_recon=4.162368625402451, loss_cls=0.7028828859329224),\n",
       " VqVaeClsLoss(perplexity=120.76282501220703, loss_vq=0.03674953058362007, loss_recon=4.3312482833862305, loss_cls=1.0730676651000977),\n",
       " VqVaeClsLoss(perplexity=120.40615844726562, loss_vq=0.041247617453336716, loss_recon=2.968337744474411, loss_cls=0.6947057843208313),\n",
       " VqVaeClsLoss(perplexity=155.6454620361328, loss_vq=0.044620320200920105, loss_recon=4.287493824958801, loss_cls=1.6070103645324707),\n",
       " VqVaeClsLoss(perplexity=137.27066040039062, loss_vq=0.04017382487654686, loss_recon=5.288532257080078, loss_cls=1.4517650604248047),\n",
       " VqVaeClsLoss(perplexity=141.17332458496094, loss_vq=0.04924079030752182, loss_recon=5.131816387176514, loss_cls=1.4314247369766235),\n",
       " VqVaeClsLoss(perplexity=170.86892700195312, loss_vq=0.04408383369445801, loss_recon=3.601798504590988, loss_cls=0.6606796383857727),\n",
       " VqVaeClsLoss(perplexity=101.83607482910156, loss_vq=0.03212587535381317, loss_recon=4.521092876791954, loss_cls=1.4376683235168457),\n",
       " VqVaeClsLoss(perplexity=93.77794647216797, loss_vq=0.039538074284791946, loss_recon=5.201574444770813, loss_cls=1.1179451942443848),\n",
       " VqVaeClsLoss(perplexity=104.04640197753906, loss_vq=0.03833993524312973, loss_recon=3.527655750513077, loss_cls=0.5500239133834839),\n",
       " VqVaeClsLoss(perplexity=133.2080841064453, loss_vq=0.044456373900175095, loss_recon=4.532560765743256, loss_cls=0.9533068537712097),\n",
       " VqVaeClsLoss(perplexity=119.81143951416016, loss_vq=0.043993037194013596, loss_recon=4.199856519699097, loss_cls=0.9276838302612305),\n",
       " VqVaeClsLoss(perplexity=140.46792602539062, loss_vq=0.03652254864573479, loss_recon=4.696590423583984, loss_cls=0.6408765316009521),\n",
       " VqVaeClsLoss(perplexity=135.26246643066406, loss_vq=0.04248612001538277, loss_recon=3.9228084087371826, loss_cls=0.9789444208145142),\n",
       " VqVaeClsLoss(perplexity=123.80709838867188, loss_vq=0.04123616963624954, loss_recon=4.7897371500730515, loss_cls=0.805912971496582),\n",
       " VqVaeClsLoss(perplexity=102.05541229248047, loss_vq=0.0354330912232399, loss_recon=5.137273967266083, loss_cls=1.25641667842865),\n",
       " VqVaeClsLoss(perplexity=92.03694915771484, loss_vq=0.0400332435965538, loss_recon=5.3772499561309814, loss_cls=1.1991398334503174),\n",
       " VqVaeClsLoss(perplexity=150.15916442871094, loss_vq=0.03906648978590965, loss_recon=3.803654730319977, loss_cls=1.0918399095535278),\n",
       " VqVaeClsLoss(perplexity=114.67216491699219, loss_vq=0.035204652696847916, loss_recon=5.563995718955994, loss_cls=1.5152949094772339),\n",
       " VqVaeClsLoss(perplexity=131.97056579589844, loss_vq=0.04244580492377281, loss_recon=4.428789854049683, loss_cls=0.9952051043510437),\n",
       " VqVaeClsLoss(perplexity=67.23255157470703, loss_vq=0.0337468720972538, loss_recon=4.774245411157608, loss_cls=0.9311884641647339),\n",
       " VqVaeClsLoss(perplexity=70.63671875, loss_vq=0.036488570272922516, loss_recon=3.0520624071359634, loss_cls=1.0999186038970947),\n",
       " VqVaeClsLoss(perplexity=104.6251449584961, loss_vq=0.041414301842451096, loss_recon=4.235018223524094, loss_cls=0.8910303115844727),\n",
       " VqVaeClsLoss(perplexity=127.51897430419922, loss_vq=0.04102708026766777, loss_recon=4.749407708644867, loss_cls=1.3083049058914185),\n",
       " VqVaeClsLoss(perplexity=88.3280029296875, loss_vq=0.03749695420265198, loss_recon=5.158978819847107, loss_cls=1.03340744972229),\n",
       " VqVaeClsLoss(perplexity=119.8121337890625, loss_vq=0.04296384006738663, loss_recon=4.54890114068985, loss_cls=0.8038062453269958),\n",
       " VqVaeClsLoss(perplexity=123.80461120605469, loss_vq=0.036912862211465836, loss_recon=5.510023593902588, loss_cls=1.1729153394699097),\n",
       " VqVaeClsLoss(perplexity=140.99517822265625, loss_vq=0.04007933288812637, loss_recon=4.003258407115936, loss_cls=0.9596148729324341),\n",
       " VqVaeClsLoss(perplexity=147.20651245117188, loss_vq=0.039571430534124374, loss_recon=4.526925355195999, loss_cls=0.8451125621795654),\n",
       " ...]"
      ]
     },
     "execution_count": 14,
     "metadata": {},
     "output_type": "execute_result"
    }
   ],
   "source": [
    "trainer.train_losses_detail"
   ]
  },
  {
   "cell_type": "code",
   "execution_count": 16,
   "id": "1e91a197-5ec2-4bbb-b0f9-bdac375ba959",
   "metadata": {
    "scrolled": true
   },
   "outputs": [
    {
     "data": {
      "text/plain": [
       "[1.8520176410675049,\n",
       " 1.6483345031738281,\n",
       " 1.1725165843963623,\n",
       " 1.3223735094070435,\n",
       " 1.5357296466827393,\n",
       " 1.4077613353729248,\n",
       " 1.2933591604232788,\n",
       " 1.5824366807937622,\n",
       " 1.0941524505615234,\n",
       " 0.9535107612609863,\n",
       " 1.6478016376495361,\n",
       " 1.7564828395843506,\n",
       " 1.7247964143753052,\n",
       " 1.7066984176635742,\n",
       " 1.462193250656128,\n",
       " 1.7709968090057373,\n",
       " 1.1005661487579346,\n",
       " 1.4532831907272339,\n",
       " 1.166765809059143,\n",
       " 1.3173402547836304,\n",
       " 1.290079951286316,\n",
       " 1.4788968563079834,\n",
       " 1.2760813236236572,\n",
       " 1.6430184841156006,\n",
       " 1.1605173349380493,\n",
       " 1.2471489906311035,\n",
       " 1.0725574493408203,\n",
       " 1.1908581256866455,\n",
       " 1.4241622686386108,\n",
       " 1.273762822151184,\n",
       " 1.6477080583572388,\n",
       " 1.4518837928771973,\n",
       " 1.202884554862976,\n",
       " 0.9880281090736389,\n",
       " 1.1754785776138306,\n",
       " 1.7848083972930908,\n",
       " 1.8546268939971924,\n",
       " 1.6221084594726562,\n",
       " 1.6428369283676147,\n",
       " 1.9554822444915771,\n",
       " 1.957411766052246,\n",
       " 0.8768137097358704,\n",
       " 1.7826130390167236,\n",
       " 1.9535914659500122,\n",
       " 1.922844648361206,\n",
       " 1.0958473682403564,\n",
       " 1.189039945602417,\n",
       " 1.2160754203796387,\n",
       " 1.3257896900177002,\n",
       " 1.1704885959625244,\n",
       " 1.0710731744766235,\n",
       " 1.8259648084640503,\n",
       " 1.6557902097702026,\n",
       " 1.3650081157684326,\n",
       " 1.2937456369400024,\n",
       " 0.7686280012130737,\n",
       " 1.7489421367645264,\n",
       " 1.6082327365875244,\n",
       " 2.2488110065460205,\n",
       " 1.1026304960250854,\n",
       " 2.065831184387207,\n",
       " 0.9586890339851379,\n",
       " 1.1376001834869385,\n",
       " 0.9790483713150024,\n",
       " 1.0237387418746948,\n",
       " 1.4870167970657349,\n",
       " 1.8651882410049438,\n",
       " 1.6871380805969238,\n",
       " 1.4528162479400635,\n",
       " 1.7079071998596191,\n",
       " 1.5784039497375488,\n",
       " 1.2826296091079712,\n",
       " 1.4746487140655518,\n",
       " 0.880394697189331,\n",
       " 1.2586662769317627,\n",
       " 1.432739019393921,\n",
       " 1.3272067308425903,\n",
       " 1.4429969787597656,\n",
       " 0.9249277710914612,\n",
       " 1.9715983867645264,\n",
       " 0.9343830943107605,\n",
       " 1.482119083404541,\n",
       " 1.1719363927841187,\n",
       " 1.3377797603607178,\n",
       " 1.2291233539581299,\n",
       " 0.6416329741477966,\n",
       " 1.5611176490783691,\n",
       " 0.7952019572257996,\n",
       " 1.3638077974319458,\n",
       " 1.148667573928833,\n",
       " 0.8216142058372498,\n",
       " 1.060664176940918,\n",
       " 1.2558125257492065,\n",
       " 2.2464098930358887,\n",
       " 1.7732106447219849,\n",
       " 2.0350308418273926,\n",
       " 1.5886104106903076,\n",
       " 0.9712378978729248,\n",
       " 1.111168384552002,\n",
       " 1.376115322113037,\n",
       " 1.139798879623413,\n",
       " 1.5791151523590088,\n",
       " 1.3893065452575684,\n",
       " 1.0973069667816162,\n",
       " 1.0537885427474976,\n",
       " 1.2020010948181152,\n",
       " 1.2903292179107666,\n",
       " 1.1092365980148315,\n",
       " 1.032911777496338,\n",
       " 1.151350498199463,\n",
       " 1.2142003774642944,\n",
       " 1.2852559089660645,\n",
       " 1.3366962671279907,\n",
       " 0.8436842560768127,\n",
       " 1.3794779777526855,\n",
       " 1.3480432033538818,\n",
       " 1.5327844619750977,\n",
       " 1.190351963043213,\n",
       " 1.1713616847991943,\n",
       " 1.1580716371536255,\n",
       " 1.0705146789550781,\n",
       " 0.7314496040344238,\n",
       " 0.8885000348091125,\n",
       " 0.8212346434593201,\n",
       " 0.6322606801986694,\n",
       " 1.9357404708862305,\n",
       " 1.1675711870193481,\n",
       " 1.1215405464172363,\n",
       " 1.1578047275543213,\n",
       " 2.016157627105713,\n",
       " 1.382319450378418,\n",
       " 1.5095818042755127,\n",
       " 0.9100434184074402,\n",
       " 1.2846574783325195,\n",
       " 1.5239739418029785,\n",
       " 1.0353490114212036,\n",
       " 0.865405797958374,\n",
       " 0.7291713356971741,\n",
       " 1.136901617050171,\n",
       " 0.8933959603309631,\n",
       " 0.8690354228019714,\n",
       " 1.2521930932998657,\n",
       " 0.8458619117736816,\n",
       " 1.3343489170074463,\n",
       " 0.9098639488220215,\n",
       " 0.8018474578857422,\n",
       " 1.3532823324203491,\n",
       " 1.5747900009155273,\n",
       " 1.47879958152771,\n",
       " 0.8781120777130127,\n",
       " 1.0576251745224,\n",
       " 1.4554380178451538,\n",
       " 1.08310866355896,\n",
       " 1.1923099756240845,\n",
       " 1.9158740043640137,\n",
       " 1.063483476638794,\n",
       " 0.9263360500335693,\n",
       " 0.6469677090644836,\n",
       " 1.417464256286621,\n",
       " 1.2756946086883545,\n",
       " 1.683330774307251,\n",
       " 2.097144603729248,\n",
       " 1.8119592666625977,\n",
       " 1.6167702674865723,\n",
       " 1.1762974262237549,\n",
       " 1.2489681243896484,\n",
       " 1.3284554481506348,\n",
       " 2.955782651901245,\n",
       " 1.7478854656219482,\n",
       " 2.059863805770874,\n",
       " 0.8563916683197021,\n",
       " 0.9371105432510376,\n",
       " 1.2192517518997192,\n",
       " 1.3368544578552246,\n",
       " 0.9264106154441833,\n",
       " 1.6888034343719482,\n",
       " 1.4273784160614014,\n",
       " 1.9515891075134277,\n",
       " 2.6258082389831543,\n",
       " 1.1176731586456299,\n",
       " 1.3592422008514404,\n",
       " 1.7132703065872192,\n",
       " 1.313090205192566,\n",
       " 1.171679139137268,\n",
       " 1.8285150527954102,\n",
       " 1.1721258163452148,\n",
       " 0.8998542428016663,\n",
       " 1.5942773818969727,\n",
       " 0.9960159659385681,\n",
       " 1.1512155532836914,\n",
       " 1.2607125043869019,\n",
       " 1.8158175945281982,\n",
       " 1.499934196472168,\n",
       " 1.1681880950927734,\n",
       " 1.7155940532684326,\n",
       " 2.0077953338623047,\n",
       " 1.561255693435669,\n",
       " 1.6200157403945923,\n",
       " 1.164482593536377,\n",
       " 1.2142398357391357,\n",
       " 0.9689934253692627,\n",
       " 1.0999562740325928,\n",
       " 1.405932903289795,\n",
       " 1.1538262367248535,\n",
       " 1.4144270420074463,\n",
       " 1.2961065769195557,\n",
       " 1.328802466392517,\n",
       " 0.939976155757904,\n",
       " 1.3273561000823975,\n",
       " 1.6155312061309814,\n",
       " 0.8494492769241333,\n",
       " 1.1960954666137695,\n",
       " 1.8345147371292114,\n",
       " 1.74856436252594,\n",
       " 1.2426517009735107,\n",
       " 0.7348447442054749,\n",
       " 1.4791046380996704,\n",
       " 1.3951373100280762,\n",
       " 1.1969655752182007,\n",
       " 1.1372830867767334,\n",
       " 1.2380836009979248,\n",
       " 0.8952522873878479,\n",
       " 1.2688806056976318,\n",
       " 1.8862048387527466,\n",
       " 2.728541135787964,\n",
       " 1.5469202995300293,\n",
       " 2.007324695587158,\n",
       " 1.7830641269683838,\n",
       " 1.6529209613800049,\n",
       " 1.291733980178833,\n",
       " 1.1360350847244263,\n",
       " 1.1000632047653198,\n",
       " 1.215811848640442,\n",
       " 1.3049719333648682,\n",
       " 1.2107577323913574,\n",
       " 1.1944470405578613,\n",
       " 1.024653673171997,\n",
       " 2.036109447479248,\n",
       " 1.5982154607772827,\n",
       " 1.117781400680542,\n",
       " 1.24895441532135,\n",
       " 1.270029067993164,\n",
       " 1.2228187322616577,\n",
       " 1.1164932250976562,\n",
       " 1.0693002939224243,\n",
       " 1.3018970489501953,\n",
       " 1.237451195716858,\n",
       " 1.1287301778793335,\n",
       " 1.064504623413086,\n",
       " 1.539318561553955,\n",
       " 1.250946283340454,\n",
       " 1.4343093633651733,\n",
       " 0.8732428550720215,\n",
       " 1.1911531686782837,\n",
       " 1.0168536901474,\n",
       " 0.9858667850494385,\n",
       " 1.4261906147003174,\n",
       " 1.269826889038086,\n",
       " 0.8410241603851318,\n",
       " 0.6075407266616821,\n",
       " 0.8951331973075867,\n",
       " 1.1216706037521362,\n",
       " 1.2920063734054565,\n",
       " 1.0769665241241455,\n",
       " 0.8305928111076355,\n",
       " 1.3136520385742188,\n",
       " 1.1270239353179932,\n",
       " 0.8106732368469238,\n",
       " 1.0657010078430176,\n",
       " 1.2325516939163208,\n",
       " 1.5840116739273071,\n",
       " 1.3533706665039062,\n",
       " 1.0047513246536255,\n",
       " 0.6968668103218079,\n",
       " 0.9329454302787781,\n",
       " 1.499772310256958,\n",
       " 1.1182076930999756,\n",
       " 0.6722671985626221,\n",
       " 1.19363272190094,\n",
       " 0.4328018128871918,\n",
       " 1.494759202003479,\n",
       " 1.4724212884902954,\n",
       " 1.831857442855835,\n",
       " 0.9737695455551147,\n",
       " 1.7662806510925293,\n",
       " 0.9077770709991455,\n",
       " 1.4508806467056274,\n",
       " 0.7505713105201721,\n",
       " 1.1395117044448853,\n",
       " 1.1529326438903809,\n",
       " 1.129889726638794,\n",
       " 1.1499186754226685,\n",
       " 0.924078643321991,\n",
       " 2.115000009536743,\n",
       " 1.0380053520202637,\n",
       " 1.6101967096328735,\n",
       " 0.6853650212287903,\n",
       " 0.937653660774231,\n",
       " 0.5036299228668213,\n",
       " 1.3100571632385254,\n",
       " 1.6137454509735107,\n",
       " 1.1179919242858887,\n",
       " 1.5438578128814697,\n",
       " 0.8554256558418274,\n",
       " 1.1573760509490967,\n",
       " 1.18483304977417,\n",
       " 1.0896332263946533,\n",
       " 0.7385588884353638,\n",
       " 1.1633059978485107,\n",
       " 1.3284215927124023,\n",
       " 1.0226365327835083,\n",
       " 1.1578255891799927,\n",
       " 1.452244520187378,\n",
       " 1.902849555015564,\n",
       " 1.2899237871170044,\n",
       " 0.9955180287361145,\n",
       " 1.4908334016799927,\n",
       " 0.9599316120147705,\n",
       " 1.3463671207427979,\n",
       " 1.1364516019821167,\n",
       " 0.8816734552383423,\n",
       " 1.2831798791885376,\n",
       " 0.8663187026977539,\n",
       " 0.7286208868026733,\n",
       " 0.7160808444023132,\n",
       " 0.8734660148620605,\n",
       " 1.5335999727249146,\n",
       " 1.2083081007003784,\n",
       " 0.7806165218353271,\n",
       " 1.1067631244659424,\n",
       " 0.5560868382453918,\n",
       " 1.5777630805969238,\n",
       " 1.2948702573776245,\n",
       " 1.265364646911621,\n",
       " 1.4334511756896973,\n",
       " 1.3211255073547363,\n",
       " 2.281266689300537,\n",
       " 1.1040042638778687,\n",
       " 1.0006794929504395,\n",
       " 0.9645942449569702,\n",
       " 1.2821305990219116,\n",
       " 0.8906988501548767,\n",
       " 0.9233492612838745,\n",
       " 1.0319312810897827,\n",
       " 1.0024473667144775,\n",
       " 1.094259262084961,\n",
       " 1.00947904586792,\n",
       " 1.1579029560089111,\n",
       " 1.3954447507858276,\n",
       " 1.3615262508392334,\n",
       " 0.8809810876846313,\n",
       " 0.9225280284881592,\n",
       " 1.0264067649841309,\n",
       " 1.2681748867034912,\n",
       " 0.8266099691390991,\n",
       " 1.3389501571655273,\n",
       " 1.1148015260696411,\n",
       " 1.058478832244873,\n",
       " 1.1004611253738403,\n",
       " 0.9924584627151489,\n",
       " 1.3446353673934937,\n",
       " 1.503066897392273,\n",
       " 1.104339361190796,\n",
       " 0.9583693146705627,\n",
       " 1.34185791015625,\n",
       " 0.8943533897399902,\n",
       " 1.0457781553268433,\n",
       " 1.1482610702514648,\n",
       " 0.7413316965103149,\n",
       " 1.3446094989776611,\n",
       " 0.709665060043335,\n",
       " 1.375577449798584,\n",
       " 0.9804015159606934,\n",
       " 1.6669046878814697,\n",
       " 1.178239107131958,\n",
       " 1.24029541015625,\n",
       " 0.9923086166381836,\n",
       " 1.0196177959442139,\n",
       " 0.929428219795227,\n",
       " 1.3963037729263306,\n",
       " 1.5665043592453003,\n",
       " 0.8082427978515625,\n",
       " 0.995415210723877,\n",
       " 2.137773275375366,\n",
       " 1.1582996845245361,\n",
       " 1.188788890838623,\n",
       " 0.9182620048522949,\n",
       " 1.177736759185791,\n",
       " 0.9454704523086548,\n",
       " 1.0518156290054321,\n",
       " 0.8131300806999207,\n",
       " 1.064628005027771,\n",
       " 0.8695414066314697,\n",
       " 1.0954948663711548,\n",
       " 0.8361425995826721,\n",
       " 0.7189728021621704,\n",
       " 0.7994354963302612,\n",
       " 1.5685615539550781,\n",
       " 0.9263870716094971,\n",
       " 1.5063951015472412,\n",
       " 1.3142507076263428,\n",
       " 1.1036856174468994,\n",
       " 1.634190320968628,\n",
       " 2.240715742111206,\n",
       " 1.4649876356124878,\n",
       " 0.9521496295928955,\n",
       " 1.2199060916900635,\n",
       " 1.179115653038025,\n",
       " 0.9228410124778748,\n",
       " 1.1856051683425903,\n",
       " 1.753231406211853,\n",
       " 1.3553473949432373,\n",
       " 1.504598617553711,\n",
       " 1.2259056568145752,\n",
       " 1.2824325561523438,\n",
       " 1.287803053855896,\n",
       " 1.0927352905273438,\n",
       " 1.3296313285827637,\n",
       " 0.8915345072746277,\n",
       " 1.254119634628296,\n",
       " 1.083260416984558,\n",
       " 1.1166082620620728,\n",
       " 1.0409232378005981,\n",
       " 1.0448850393295288,\n",
       " 0.9798061847686768,\n",
       " 1.3447067737579346,\n",
       " 1.066631555557251,\n",
       " 0.6935230493545532,\n",
       " 0.8290170431137085,\n",
       " 1.1925586462020874,\n",
       " 0.8310442566871643,\n",
       " 0.8609676957130432,\n",
       " 0.9142191410064697,\n",
       " 1.1772987842559814,\n",
       " 1.0396637916564941,\n",
       " 1.1254442930221558,\n",
       " 0.9713454842567444,\n",
       " 1.229290246963501,\n",
       " 1.1593420505523682,\n",
       " 1.219135046005249,\n",
       " 1.195522427558899,\n",
       " 1.1463840007781982,\n",
       " 0.9188809990882874,\n",
       " 0.8688540458679199,\n",
       " 1.3739726543426514,\n",
       " 1.1761267185211182,\n",
       " 1.112776756286621,\n",
       " 0.9947786927223206,\n",
       " 1.311905860900879,\n",
       " 0.8401002883911133,\n",
       " 1.3059526681900024,\n",
       " 1.569560170173645,\n",
       " 1.3149999380111694,\n",
       " 2.1585583686828613,\n",
       " 1.8675998449325562,\n",
       " 0.7302272319793701,\n",
       " 0.8330430388450623,\n",
       " 0.9317142367362976,\n",
       " 1.307563304901123,\n",
       " 0.8562336564064026,\n",
       " 1.2267190217971802,\n",
       " 1.0163793563842773,\n",
       " 1.1775978803634644,\n",
       " 0.9043534398078918,\n",
       " 1.6441986560821533,\n",
       " 0.7549619078636169,\n",
       " 0.81507807970047,\n",
       " 1.1000957489013672,\n",
       " 1.0883269309997559,\n",
       " 1.0985164642333984,\n",
       " 1.2092503309249878,\n",
       " 1.2823302745819092,\n",
       " 0.9153980016708374,\n",
       " 1.1053608655929565,\n",
       " 0.7381022572517395,\n",
       " 0.9753493070602417,\n",
       " 0.9848455190658569,\n",
       " 0.7919434309005737,\n",
       " 1.1859616041183472,\n",
       " 1.037031888961792,\n",
       " 1.058175802230835,\n",
       " 1.516310214996338,\n",
       " 1.107353925704956,\n",
       " 1.0514556169509888,\n",
       " 0.9573251605033875,\n",
       " 0.8928232192993164,\n",
       " 0.8044220209121704,\n",
       " 0.6979846954345703,\n",
       " 1.1842799186706543,\n",
       " 1.0059348344802856,\n",
       " 0.9129513502120972,\n",
       " 0.7504717707633972,\n",
       " 1.2116888761520386,\n",
       " 0.5242437720298767,\n",
       " 1.4359288215637207,\n",
       " 0.5765999555587769,\n",
       " 0.9508014917373657,\n",
       " 0.5531252026557922,\n",
       " 0.5106291174888611,\n",
       " 0.7064101696014404,\n",
       " 0.7453250885009766,\n",
       " 0.9525370597839355,\n",
       " 1.278179407119751,\n",
       " 1.3188469409942627,\n",
       " 0.9047901630401611,\n",
       " 0.7233861684799194,\n",
       " 0.7871178984642029,\n",
       " 1.944300651550293,\n",
       " 1.1119115352630615,\n",
       " 1.9069418907165527,\n",
       " 1.548200249671936,\n",
       " 0.48651427030563354,\n",
       " 0.9539275169372559,\n",
       " 1.3162190914154053,\n",
       " 0.8234046101570129,\n",
       " 1.6552858352661133,\n",
       " 0.37258583307266235,\n",
       " 1.1267836093902588,\n",
       " 0.838941752910614,\n",
       " 2.117467164993286,\n",
       " 0.7164890766143799,\n",
       " 1.4059607982635498,\n",
       " 0.6661335825920105,\n",
       " 0.73511803150177,\n",
       " 0.9683988094329834,\n",
       " 0.8955522179603577,\n",
       " 1.4834213256835938,\n",
       " 0.49833351373672485,\n",
       " 1.9677598476409912,\n",
       " 0.8849042654037476,\n",
       " 0.8541098833084106,\n",
       " 0.8608747124671936,\n",
       " 1.275254726409912,\n",
       " 0.947191596031189,\n",
       " 0.47013357281684875,\n",
       " 1.746187448501587,\n",
       " 1.0060683488845825,\n",
       " 0.7990208864212036,\n",
       " 1.0351094007492065,\n",
       " 1.2644370794296265,\n",
       " 1.3476533889770508,\n",
       " 0.586294412612915,\n",
       " 1.0445561408996582,\n",
       " 1.7069960832595825,\n",
       " 1.1680452823638916,\n",
       " 1.1941840648651123,\n",
       " 0.9656399488449097,\n",
       " 1.375906229019165,\n",
       " 0.6812531352043152,\n",
       " 1.084097146987915,\n",
       " 0.9544709920883179,\n",
       " 0.8347009420394897,\n",
       " 1.3593478202819824,\n",
       " 0.6289500594139099,\n",
       " 1.426307201385498,\n",
       " 1.51893150806427,\n",
       " 1.7428467273712158,\n",
       " 1.5665829181671143,\n",
       " 1.2807023525238037,\n",
       " 0.9883205890655518,\n",
       " 0.6952747106552124,\n",
       " 0.8993625640869141,\n",
       " 1.0272040367126465,\n",
       " 0.769339919090271,\n",
       " 1.3134150505065918,\n",
       " 1.475013017654419,\n",
       " 0.8645428419113159,\n",
       " 1.1876806020736694,\n",
       " 0.5407323241233826,\n",
       " 1.7499735355377197,\n",
       " 1.0332581996917725,\n",
       " 1.685453176498413,\n",
       " 1.0401180982589722,\n",
       " 0.9159441590309143,\n",
       " 0.9685994982719421,\n",
       " 1.1215484142303467,\n",
       " 1.0873278379440308,\n",
       " 1.550642490386963,\n",
       " 1.5833067893981934,\n",
       " 0.7312024831771851,\n",
       " 1.1317071914672852,\n",
       " 1.495764136314392,\n",
       " 0.7838859558105469,\n",
       " 1.3688749074935913,\n",
       " 0.6099910736083984,\n",
       " 0.87714684009552,\n",
       " 1.0246683359146118,\n",
       " 0.812265932559967,\n",
       " 1.0863771438598633,\n",
       " 1.0274927616119385,\n",
       " 0.8729547262191772,\n",
       " 0.9906655550003052,\n",
       " 0.8180385828018188,\n",
       " 0.9145371913909912,\n",
       " 1.3791325092315674,\n",
       " 0.5228508710861206,\n",
       " 1.0406733751296997,\n",
       " 1.64714777469635,\n",
       " 0.530478835105896,\n",
       " 1.0950812101364136,\n",
       " 1.127978801727295,\n",
       " 0.7407862544059753,\n",
       " 0.7987097501754761,\n",
       " 1.1554220914840698,\n",
       " 2.0188355445861816,\n",
       " 0.7490013837814331,\n",
       " 0.7718809247016907,\n",
       " 1.2339280843734741,\n",
       " 1.662131667137146,\n",
       " 1.0077365636825562,\n",
       " 1.3774547576904297,\n",
       " 0.46231770515441895,\n",
       " 1.5156590938568115,\n",
       " 1.0669081211090088,\n",
       " 0.7562468647956848,\n",
       " 1.2590996026992798,\n",
       " 1.2884786128997803,\n",
       " 1.175088882446289,\n",
       " 1.2840808629989624,\n",
       " 1.2460455894470215,\n",
       " 1.3667700290679932,\n",
       " 1.1380479335784912,\n",
       " 0.9069892168045044,\n",
       " 0.8954874277114868,\n",
       " 0.8553452491760254,\n",
       " 0.6960962414741516,\n",
       " 0.8131743669509888,\n",
       " 1.141402006149292,\n",
       " 1.1951467990875244,\n",
       " 1.1538243293762207,\n",
       " 0.9932769536972046,\n",
       " 1.1537768840789795,\n",
       " 0.6683152914047241,\n",
       " 0.7157963514328003,\n",
       " 1.3278563022613525,\n",
       " 0.7078797817230225,\n",
       " 0.8625174164772034,\n",
       " 0.8692620396614075,\n",
       " 0.9164043068885803,\n",
       " 1.098299503326416,\n",
       " 0.5988956093788147,\n",
       " 0.7924249172210693,\n",
       " 1.2041511535644531,\n",
       " 0.9375537037849426,\n",
       " 1.4081482887268066,\n",
       " 0.6259890198707581,\n",
       " 0.5877936482429504,\n",
       " 0.7466141581535339,\n",
       " 1.2148929834365845,\n",
       " 1.0943105220794678,\n",
       " 1.0333542823791504,\n",
       " 0.43736305832862854,\n",
       " 0.7978765964508057,\n",
       " 1.2779954671859741,\n",
       " 0.6838638186454773,\n",
       " 0.6791307330131531,\n",
       " 2.9506115913391113,\n",
       " 0.5857980251312256,\n",
       " 0.7804505228996277,\n",
       " 0.9617013335227966,\n",
       " 1.4112837314605713,\n",
       " 1.1280272006988525,\n",
       " 1.0039217472076416,\n",
       " 1.1653141975402832,\n",
       " 0.8893285989761353,\n",
       " 1.9383835792541504,\n",
       " 1.516129970550537,\n",
       " 0.846987247467041,\n",
       " 0.5815699696540833,\n",
       " 0.9905892014503479,\n",
       " 0.9064753651618958,\n",
       " 0.9622479677200317,\n",
       " 1.5336459875106812,\n",
       " 0.813431441783905,\n",
       " 1.4651025533676147,\n",
       " 1.3073127269744873,\n",
       " 0.8491951823234558,\n",
       " 0.6575190424919128,\n",
       " 0.5731527209281921,\n",
       " 1.1775527000427246,\n",
       " 1.5891127586364746,\n",
       " 0.9750046133995056,\n",
       " 1.2577674388885498,\n",
       " 1.001914381980896,\n",
       " 0.9285317659378052,\n",
       " 0.7703642249107361,\n",
       " 0.6716989874839783,\n",
       " 0.7842780351638794,\n",
       " 1.1361846923828125,\n",
       " 1.0530571937561035,\n",
       " 0.9751632213592529,\n",
       " 1.1278473138809204,\n",
       " 0.9253835082054138,\n",
       " 1.026210069656372,\n",
       " 1.2975879907608032,\n",
       " 0.9702422022819519,\n",
       " 0.9713825583457947,\n",
       " 0.8119397163391113,\n",
       " 1.0526175498962402,\n",
       " 1.110852837562561,\n",
       " 0.6445742845535278,\n",
       " 0.8684127330780029,\n",
       " 1.7973319292068481,\n",
       " 1.1624282598495483,\n",
       " 0.7837442755699158,\n",
       " 1.2387951612472534,\n",
       " 1.36270272731781,\n",
       " 1.2103272676467896,\n",
       " 1.6881029605865479,\n",
       " 1.0435562133789062,\n",
       " 0.8864797353744507,\n",
       " 1.327059030532837,\n",
       " 0.9397560358047485,\n",
       " 0.6697332262992859,\n",
       " 0.7308000922203064,\n",
       " 1.3978523015975952,\n",
       " 1.1604654788970947,\n",
       " 1.1097462177276611,\n",
       " 1.7809035778045654,\n",
       " 0.9187355041503906,\n",
       " 1.1634007692337036,\n",
       " 0.847295880317688,\n",
       " 1.636380910873413,\n",
       " 1.0025007724761963,\n",
       " 1.1161046028137207,\n",
       " 0.6378015279769897,\n",
       " 0.9416283965110779,\n",
       " 1.3925330638885498,\n",
       " 1.048020839691162,\n",
       " 0.6359937787055969,\n",
       " 0.9121823310852051,\n",
       " 0.9625827074050903,\n",
       " 1.754894733428955,\n",
       " 1.3388652801513672,\n",
       " 0.7529535889625549,\n",
       " 1.1605952978134155,\n",
       " 1.4307016134262085,\n",
       " 1.2248597145080566,\n",
       " 1.3679609298706055,\n",
       " 0.8381295204162598,\n",
       " 1.0770936012268066,\n",
       " 0.8256089687347412,\n",
       " 1.0647579431533813,\n",
       " 1.1437392234802246,\n",
       " 1.050903558731079,\n",
       " 0.8276858925819397,\n",
       " 0.7408613562583923,\n",
       " 1.8986155986785889,\n",
       " 0.5789902210235596,\n",
       " 1.286562442779541,\n",
       " 1.5620869398117065,\n",
       " 1.4713642597198486,\n",
       " 2.069779396057129,\n",
       " 0.45118898153305054,\n",
       " 0.8040739893913269,\n",
       " 0.7350990176200867,\n",
       " 1.1358790397644043,\n",
       " 1.3144551515579224,\n",
       " 1.580796241760254,\n",
       " 1.30820894241333,\n",
       " 0.8876830339431763,\n",
       " 0.8176408410072327,\n",
       " 1.2977718114852905,\n",
       " 0.5007284879684448,\n",
       " 0.8015338182449341,\n",
       " 1.0196651220321655,\n",
       " 1.250762701034546,\n",
       " 0.504598081111908,\n",
       " 1.0268467664718628,\n",
       " 1.2129156589508057,\n",
       " 0.6128057837486267,\n",
       " 2.052534341812134,\n",
       " 0.7559165954589844,\n",
       " 1.089458703994751,\n",
       " 0.7825703620910645,\n",
       " 0.8002671003341675,\n",
       " 0.9481856226921082,\n",
       " 1.0123525857925415,\n",
       " 0.748712956905365,\n",
       " 0.8735378980636597,\n",
       " 1.2284855842590332,\n",
       " 1.0489435195922852,\n",
       " 1.21806001663208,\n",
       " 0.9268856644630432,\n",
       " 1.2822970151901245,\n",
       " 1.0792698860168457,\n",
       " 0.8157820701599121,\n",
       " 1.1861780881881714,\n",
       " 1.1704318523406982,\n",
       " 0.9012060165405273,\n",
       " 0.9900869727134705,\n",
       " 1.058815836906433,\n",
       " 1.1476917266845703,\n",
       " 1.5838494300842285,\n",
       " 1.2063549757003784,\n",
       " 0.8584949970245361,\n",
       " 0.6473228335380554,\n",
       " 1.2218081951141357,\n",
       " 0.8064811825752258,\n",
       " 0.9336839318275452,\n",
       " 0.9758597612380981,\n",
       " 1.802481770515442,\n",
       " 0.8329956531524658,\n",
       " 1.0402274131774902,\n",
       " 1.1760883331298828,\n",
       " 1.4876315593719482,\n",
       " 1.36382257938385,\n",
       " 1.3787975311279297,\n",
       " 1.0087215900421143,\n",
       " 1.7949411869049072,\n",
       " 0.7913702726364136,\n",
       " 1.6593127250671387,\n",
       " 0.26020896434783936,\n",
       " 1.2396342754364014,\n",
       " 0.9025194644927979,\n",
       " 0.8934741616249084,\n",
       " 0.8195673227310181,\n",
       " 1.1427010297775269,\n",
       " 1.3583890199661255,\n",
       " 0.6927395462989807,\n",
       " 0.8349458575248718,\n",
       " 0.9918725490570068,\n",
       " 0.6900990009307861,\n",
       " 0.6926889419555664,\n",
       " 1.5956940650939941,\n",
       " 1.3203554153442383,\n",
       " 1.3711403608322144,\n",
       " 0.7622737288475037,\n",
       " 0.9799087643623352,\n",
       " 1.1387661695480347,\n",
       " 0.771565854549408,\n",
       " 0.6970185041427612,\n",
       " 1.1379436254501343,\n",
       " 0.846696674823761,\n",
       " 0.9366313219070435,\n",
       " 1.3546558618545532,\n",
       " 1.077988624572754,\n",
       " 0.9537487030029297,\n",
       " 0.7894645929336548,\n",
       " 0.650115966796875,\n",
       " 1.2167245149612427,\n",
       " 1.3475372791290283,\n",
       " 1.0314180850982666,\n",
       " 0.9107250571250916,\n",
       " 1.6496540307998657,\n",
       " 1.5404322147369385,\n",
       " 0.698853611946106,\n",
       " 0.9265096783638,\n",
       " 1.0319604873657227,\n",
       " 0.8833256959915161,\n",
       " 0.6372451186180115,\n",
       " 0.7493797540664673,\n",
       " 1.2199923992156982,\n",
       " 1.8205901384353638,\n",
       " 1.1871891021728516,\n",
       " 1.2102715969085693,\n",
       " 0.9358406662940979,\n",
       " 0.8527265191078186,\n",
       " 0.804733395576477,\n",
       " 1.0011478662490845,\n",
       " 1.17286217212677,\n",
       " 1.0118434429168701,\n",
       " 1.1292084455490112,\n",
       " 0.7002334594726562,\n",
       " 1.335968255996704,\n",
       " 1.7161892652511597,\n",
       " 0.746755063533783,\n",
       " 0.9951769113540649,\n",
       " 0.8709275126457214,\n",
       " 1.4772872924804688,\n",
       " 1.0099717378616333,\n",
       " 0.5952677130699158,\n",
       " 0.8133725523948669,\n",
       " 1.5674420595169067,\n",
       " 1.2470556497573853,\n",
       " 0.6452165842056274,\n",
       " 1.9186995029449463,\n",
       " 1.060441255569458,\n",
       " 1.0467009544372559,\n",
       " 0.8651201725006104,\n",
       " 0.8586734533309937,\n",
       " 0.9329679012298584,\n",
       " 1.1458684206008911,\n",
       " 1.408652424812317,\n",
       " 0.9049040079116821,\n",
       " 1.492714524269104,\n",
       " 0.9227522611618042,\n",
       " 0.6855752468109131,\n",
       " 1.1363911628723145,\n",
       " 1.2069741487503052,\n",
       " 1.6758079528808594,\n",
       " 0.484651654958725,\n",
       " 1.6541616916656494,\n",
       " 0.7412026524543762,\n",
       " 1.959133505821228,\n",
       " 1.734360933303833,\n",
       " 1.4605495929718018,\n",
       " 1.2761179208755493,\n",
       " 1.3731391429901123,\n",
       " 0.90700364112854,\n",
       " 1.0506376028060913,\n",
       " 1.0784181356430054,\n",
       " 0.8989161252975464,\n",
       " 0.8424205780029297,\n",
       " 1.3366143703460693,\n",
       " 1.263336420059204,\n",
       " 0.7616307735443115,\n",
       " 1.2255289554595947,\n",
       " 2.301137685775757,\n",
       " 1.9710708856582642,\n",
       " 0.9585123062133789,\n",
       " 0.4101388454437256,\n",
       " 1.560020923614502,\n",
       " 1.3943740129470825,\n",
       " 1.36894953250885,\n",
       " 0.8858294486999512,\n",
       " 0.642098605632782,\n",
       " 1.2699012756347656,\n",
       " 1.0552682876586914,\n",
       " 0.9270840883255005,\n",
       " 1.3598827123641968,\n",
       " 0.6747180819511414,\n",
       " 1.3937883377075195,\n",
       " 0.8053219318389893,\n",
       " 0.8872147798538208,\n",
       " 1.1404913663864136,\n",
       " 1.1655142307281494,\n",
       " 0.5413171052932739,\n",
       " 0.8959118127822876,\n",
       " 0.7729300856590271,\n",
       " 0.8476241827011108,\n",
       " 1.5120519399642944,\n",
       " 0.5238718390464783,\n",
       " 0.8795888423919678,\n",
       " 1.0560566186904907,\n",
       " 1.5875288248062134,\n",
       " 1.165558099746704,\n",
       " 1.1530804634094238,\n",
       " 0.9050623774528503,\n",
       " 1.0079741477966309,\n",
       " 0.624688982963562,\n",
       " 1.0714759826660156,\n",
       " 1.1686036586761475,\n",
       " 0.5523325204849243,\n",
       " 0.8202136754989624,\n",
       " 0.47597500681877136,\n",
       " 0.8408645391464233,\n",
       " 0.9356387853622437,\n",
       " 0.443346232175827,\n",
       " 1.0032004117965698,\n",
       " 1.2998595237731934,\n",
       " 1.356554388999939,\n",
       " 1.711357831954956,\n",
       " 1.88376784324646,\n",
       " 1.0000150203704834,\n",
       " 0.8403685092926025,\n",
       " 0.4506797790527344,\n",
       " 0.840979814529419,\n",
       " 0.29766809940338135,\n",
       " 1.3575013875961304,\n",
       " 2.169796943664551,\n",
       " 1.4077626466751099,\n",
       " 0.5334371328353882,\n",
       " 1.1344562768936157,\n",
       " 0.8791894912719727,\n",
       " 0.7682732343673706,\n",
       " 1.5342925786972046,\n",
       " 0.8419108390808105,\n",
       " 1.5717271566390991,\n",
       " 0.9601304531097412,\n",
       " 1.256981611251831,\n",
       " 0.7028828859329224,\n",
       " 1.0730676651000977,\n",
       " 0.6947057843208313,\n",
       " 1.6070103645324707,\n",
       " 1.4517650604248047,\n",
       " 1.4314247369766235,\n",
       " 0.6606796383857727,\n",
       " 1.4376683235168457,\n",
       " 1.1179451942443848,\n",
       " 0.5500239133834839,\n",
       " 0.9533068537712097,\n",
       " 0.9276838302612305,\n",
       " 0.6408765316009521,\n",
       " 0.9789444208145142,\n",
       " 0.805912971496582,\n",
       " 1.25641667842865,\n",
       " 1.1991398334503174,\n",
       " 1.0918399095535278,\n",
       " 1.5152949094772339,\n",
       " 0.9952051043510437,\n",
       " 0.9311884641647339,\n",
       " 1.0999186038970947,\n",
       " 0.8910303115844727,\n",
       " 1.3083049058914185,\n",
       " 1.03340744972229,\n",
       " 0.8038062453269958,\n",
       " 1.1729153394699097,\n",
       " 0.9596148729324341,\n",
       " 0.8451125621795654,\n",
       " ...]"
      ]
     },
     "execution_count": 16,
     "metadata": {},
     "output_type": "execute_result"
    }
   ],
   "source": [
    "trainer.train_losses"
   ]
  },
  {
   "cell_type": "code",
   "execution_count": 15,
   "id": "02334055-bffa-4d71-8b39-e35d9767a984",
   "metadata": {},
   "outputs": [
    {
     "data": {
      "text/plain": [
       "[]"
      ]
     },
     "execution_count": 15,
     "metadata": {},
     "output_type": "execute_result"
    }
   ],
   "source": [
    "trainer.test_accuracy"
   ]
  },
  {
   "cell_type": "code",
   "execution_count": 19,
   "id": "b278a43c-d73a-4829-ba14-cedfcac6efbd",
   "metadata": {},
   "outputs": [],
   "source": [
    "trainer.test_accuracy = [\n",
    "    50/135, 50/135, 50/135, 50/135, 50/135, 50/135, 50/135, 50/135, 50/135, 50/135, \n",
    "    72/135, 72/135, 72/135, 72/135, 72/135, 72/135, 72/135, 72/135, 72/135, 72/135, \n",
    "    89/135, 89/135, 89/135, 89/135, 89/135, 89/135, 89/135, 89/135, 89/135, 89/135, \n",
    "    84/135, 84/135, 84/135, 84/135, 84/135, 84/135, 84/135, 84/135, 84/135, 84/135, \n",
    "    92/135, 92/135, 92/135, 92/135, 92/135, 92/135, 92/135, 92/135, 92/135, 92/135, \n",
    "    95/135, 95/135, 95/135, 95/135, 95/135, 95/135, 95/135, 95/135, 95/135, 95/135, \n",
    "    95/135, 95/135, 95/135, 95/135, 95/135, 95/135, 95/135, 95/135, 95/135, \n",
    "    94/135\n",
    "]"
   ]
  },
  {
   "cell_type": "code",
   "execution_count": 49,
   "id": "605d5a13-8c7a-498b-9273-df6385166236",
   "metadata": {},
   "outputs": [],
   "source": [
    "trainer.val_accuracy = [\n",
    "    6/27, 8/27, 13/27, 13/27, 11/27, 14/27, 15/27, 10/27, 16/27, 13/27, \n",
    "    13/27, 15/27, 13/27, 12/27, 11/27, 14/27, 15/27, 11/27, 12/27, 11/27,\n",
    "    16/27, 12/27, 13/27, 14/27, 14/27, 15/27, 16/27, 16/27, 14/27, 16/27,\n",
    "    14/27, 19/27, 18/27, 16/27, 14/27, 18/27, 16/27, 17/27, 18/27, 17/27, \n",
    "    20/27, 15/27, 19/27, 17/27, 20/27, 17/27, 16/27, 18/27, 17/27, 19/27,\n",
    "    18/27, 18/27, 18/27, 18/27, 18/27, 18/27, 18/27, 18/27, 18/27, 18/27, \n",
    "    18/27, 18/27, 18/27, 18/27, 18/27, 18/27, 18/27, 18/27, 18/27, 18/27, \n",
    "]"
   ]
  },
  {
   "cell_type": "code",
   "execution_count": 24,
   "id": "87e9bd46-3573-4753-a2b0-dc5bf9c1f2e9",
   "metadata": {},
   "outputs": [
    {
     "data": {
      "text/plain": [
       "8329"
      ]
     },
     "execution_count": 24,
     "metadata": {},
     "output_type": "execute_result"
    }
   ],
   "source": [
    "len(trainer.train_losses_detail)"
   ]
  },
  {
   "cell_type": "code",
   "execution_count": 23,
   "id": "e24fc4ec-6140-4793-9e41-71345fe03cef",
   "metadata": {},
   "outputs": [
    {
     "data": {
      "text/plain": [
       "70"
      ]
     },
     "execution_count": 23,
     "metadata": {},
     "output_type": "execute_result"
    }
   ],
   "source": [
    "len(trainer.test_accuracy)"
   ]
  },
  {
   "cell_type": "code",
   "execution_count": 8,
   "id": "c8dfdf68-3d7c-4f33-8a75-cf3c42f4b14a",
   "metadata": {},
   "outputs": [],
   "source": [
    "import pandas as pd\n",
    "import IPython.display as ipd\n",
    "import seaborn as sns\n",
    "\n",
    "from IConNet.acov.visualize import (\n",
    "    visualize_speech_codebook, get_embedding_color, \n",
    "    visualize_embedding_umap, visualize_training_curves,\n",
    "    get_embedding_color_v2, get_zcs_color_v2\n",
    ")"
   ]
  },
  {
   "cell_type": "code",
   "execution_count": null,
   "id": "213866f3-b86d-4c3f-91dc-a9c721b699b2",
   "metadata": {},
   "outputs": [],
   "source": [
    "df = pd.DataFrame(columns=['loss', 'val_acc', *VqVaeClsLoss._fields])\n",
    "df"
   ]
  },
  {
   "cell_type": "code",
   "execution_count": 26,
   "id": "b2d3b806-d1b2-4fbe-9abf-835d76be8a3c",
   "metadata": {},
   "outputs": [
    {
     "data": {
      "text/html": [
       "<div>\n",
       "<style scoped>\n",
       "    .dataframe tbody tr th:only-of-type {\n",
       "        vertical-align: middle;\n",
       "    }\n",
       "\n",
       "    .dataframe tbody tr th {\n",
       "        vertical-align: top;\n",
       "    }\n",
       "\n",
       "    .dataframe thead th {\n",
       "        text-align: right;\n",
       "    }\n",
       "</style>\n",
       "<table border=\"1\" class=\"dataframe\">\n",
       "  <thead>\n",
       "    <tr style=\"text-align: right;\">\n",
       "      <th></th>\n",
       "      <th>loss</th>\n",
       "      <th>perplexity</th>\n",
       "      <th>loss_vq</th>\n",
       "      <th>loss_recon</th>\n",
       "      <th>loss_cls</th>\n",
       "    </tr>\n",
       "  </thead>\n",
       "  <tbody>\n",
       "    <tr>\n",
       "      <th>0</th>\n",
       "      <td>1.852018e+00</td>\n",
       "      <td>111.571030</td>\n",
       "      <td>0.039006</td>\n",
       "      <td>4.286667</td>\n",
       "      <td>1.852018e+00</td>\n",
       "    </tr>\n",
       "    <tr>\n",
       "      <th>1</th>\n",
       "      <td>1.648335e+00</td>\n",
       "      <td>93.606483</td>\n",
       "      <td>0.035116</td>\n",
       "      <td>4.784652</td>\n",
       "      <td>1.648335e+00</td>\n",
       "    </tr>\n",
       "    <tr>\n",
       "      <th>2</th>\n",
       "      <td>1.172517e+00</td>\n",
       "      <td>110.688232</td>\n",
       "      <td>0.037008</td>\n",
       "      <td>5.716683</td>\n",
       "      <td>1.172517e+00</td>\n",
       "    </tr>\n",
       "    <tr>\n",
       "      <th>3</th>\n",
       "      <td>1.322374e+00</td>\n",
       "      <td>74.631912</td>\n",
       "      <td>0.041607</td>\n",
       "      <td>5.099851</td>\n",
       "      <td>1.322374e+00</td>\n",
       "    </tr>\n",
       "    <tr>\n",
       "      <th>4</th>\n",
       "      <td>1.535730e+00</td>\n",
       "      <td>106.948875</td>\n",
       "      <td>0.040499</td>\n",
       "      <td>2.896513</td>\n",
       "      <td>1.535730e+00</td>\n",
       "    </tr>\n",
       "    <tr>\n",
       "      <th>...</th>\n",
       "      <td>...</td>\n",
       "      <td>...</td>\n",
       "      <td>...</td>\n",
       "      <td>...</td>\n",
       "      <td>...</td>\n",
       "    </tr>\n",
       "    <tr>\n",
       "      <th>8324</th>\n",
       "      <td>7.539879e-06</td>\n",
       "      <td>88.352898</td>\n",
       "      <td>0.039660</td>\n",
       "      <td>2.908136</td>\n",
       "      <td>7.539879e-06</td>\n",
       "    </tr>\n",
       "    <tr>\n",
       "      <th>8325</th>\n",
       "      <td>1.817938e-06</td>\n",
       "      <td>106.566971</td>\n",
       "      <td>0.040308</td>\n",
       "      <td>4.468305</td>\n",
       "      <td>1.817938e-06</td>\n",
       "    </tr>\n",
       "    <tr>\n",
       "      <th>8326</th>\n",
       "      <td>3.072458e-05</td>\n",
       "      <td>109.859009</td>\n",
       "      <td>0.030320</td>\n",
       "      <td>3.079015</td>\n",
       "      <td>3.072458e-05</td>\n",
       "    </tr>\n",
       "    <tr>\n",
       "      <th>8327</th>\n",
       "      <td>2.980232e-08</td>\n",
       "      <td>143.131149</td>\n",
       "      <td>0.038716</td>\n",
       "      <td>3.262471</td>\n",
       "      <td>2.980232e-08</td>\n",
       "    </tr>\n",
       "    <tr>\n",
       "      <th>8328</th>\n",
       "      <td>2.385459e-05</td>\n",
       "      <td>135.721588</td>\n",
       "      <td>0.040502</td>\n",
       "      <td>4.302857</td>\n",
       "      <td>2.385459e-05</td>\n",
       "    </tr>\n",
       "  </tbody>\n",
       "</table>\n",
       "<p>8329 rows × 5 columns</p>\n",
       "</div>"
      ],
      "text/plain": [
       "              loss  perplexity   loss_vq  loss_recon      loss_cls\n",
       "0     1.852018e+00  111.571030  0.039006    4.286667  1.852018e+00\n",
       "1     1.648335e+00   93.606483  0.035116    4.784652  1.648335e+00\n",
       "2     1.172517e+00  110.688232  0.037008    5.716683  1.172517e+00\n",
       "3     1.322374e+00   74.631912  0.041607    5.099851  1.322374e+00\n",
       "4     1.535730e+00  106.948875  0.040499    2.896513  1.535730e+00\n",
       "...            ...         ...       ...         ...           ...\n",
       "8324  7.539879e-06   88.352898  0.039660    2.908136  7.539879e-06\n",
       "8325  1.817938e-06  106.566971  0.040308    4.468305  1.817938e-06\n",
       "8326  3.072458e-05  109.859009  0.030320    3.079015  3.072458e-05\n",
       "8327  2.980232e-08  143.131149  0.038716    3.262471  2.980232e-08\n",
       "8328  2.385459e-05  135.721588  0.040502    4.302857  2.385459e-05\n",
       "\n",
       "[8329 rows x 5 columns]"
      ]
     },
     "execution_count": 26,
     "metadata": {},
     "output_type": "execute_result"
    }
   ],
   "source": [
    "dt = []\n",
    "for i, ld in enumerate(trainer.train_losses_detail):\n",
    "    d = {'loss': trainer.train_losses[i]}\n",
    "    for j, k in enumerate(ld._fields):\n",
    "        d[k] = ld[j]\n",
    "    dt.append(d)\n",
    "loss_df = pd.DataFrame(dt)\n",
    "loss_df"
   ]
  },
  {
   "cell_type": "code",
   "execution_count": 30,
   "id": "8351c6c8-e9a2-4eab-a467-e19187e11671",
   "metadata": {},
   "outputs": [
    {
     "data": {
      "image/png": "[encoded data removed]",
      "text/plain": [
       "<Figure size 1400x300 with 5 Axes>"
      ]
     },
     "metadata": {},
     "output_type": "display_data"
    }
   ],
   "source": [
    "from scipy.signal import savgol_filter\n",
    "\n",
    "fig, axes = plt.subplots(1, 5, figsize=(14,3))\n",
    "for i, c in enumerate(loss_df.columns):\n",
    "    axes[i].plot(savgol_filter(loss_df[c], 301, 7))\n",
    "    axes[i].set_title(c)"
   ]
  },
  {
   "cell_type": "code",
   "execution_count": 9,
   "id": "1f469b76-d470-4cea-be50-601ff2ad5327",
   "metadata": {},
   "outputs": [],
   "source": [
    "from einops import reduce, repeat, rearrange"
   ]
  },
  {
   "cell_type": "code",
   "execution_count": 39,
   "id": "2a1fb485-8286-4e90-a09a-9ede939f9e09",
   "metadata": {},
   "outputs": [],
   "source": [
    "train_losses = reduce(np.array(trainer.train_losses[:118*70]), '(n k) -> n', 'mean', n=70)"
   ]
  },
  {
   "cell_type": "code",
   "execution_count": 60,
   "id": "e486ad39-9a1b-43b5-b602-b0903bc27bfe",
   "metadata": {},
   "outputs": [],
   "source": [
    "trainer.test_accuracy = [\n",
    "    50/135, \n",
    "    72/135, \n",
    "    89/135,\n",
    "    84/135, \n",
    "    92/135, \n",
    "    95/135, \n",
    "    95/135, \n",
    "    94/135\n",
    "]"
   ]
  },
  {
   "cell_type": "code",
   "execution_count": 63,
   "id": "eaaff47d-88a0-4e84-acc9-80d1df303cc6",
   "metadata": {},
   "outputs": [
    {
     "data": {
      "text/plain": [
       "Text(0.5, 1.0, 'Test accuracy per 10 epochs')"
      ]
     },
     "execution_count": 63,
     "metadata": {},
     "output_type": "execute_result"
    },
    {
     "data": {
      "image/png": "[encoded data removed]",
      "text/plain": [
       "<Figure size 1200x300 with 3 Axes>"
      ]
     },
     "metadata": {},
     "output_type": "display_data"
    }
   ],
   "source": [
    "fig, axes = plt.subplots(1, 3, figsize=(12,3))\n",
    "axes[0].plot(train_losses, color=\"b\")\n",
    "axes[0].set_title(\"Average train loss per epoch\")\n",
    "axes[1].plot(trainer.val_accuracy, color=\"r\", linestyle=\"dashed\")\n",
    "axes[1].set_title(\"Val accuracy per epoch\")\n",
    "axes[2].plot(trainer.test_accuracy, color=\"r\")\n",
    "axes[2].set_title(\"Test accuracy per 10 epochs\")"
   ]
  },
  {
   "cell_type": "code",
   "execution_count": 68,
   "id": "14c9aaa5-97ee-420e-ad63-82245dfaeab5",
   "metadata": {},
   "outputs": [
    {
     "data": {
      "text/plain": [
       "<Axes: xlabel='Predicted', ylabel='Actual'>"
      ]
     },
     "execution_count": 68,
     "metadata": {},
     "output_type": "execute_result"
    },
    {
     "data": {
      "image/png": "[encoded data removed]",
      "text/plain": [
       "<Figure size 1000x700 with 2 Axes>"
      ]
     },
     "metadata": {},
     "output_type": "display_data"
    }
   ],
   "source": [
    "labels = dataset_config.target_labels\n",
    "a = torch.tensor(\n",
    "    [[29,  0,  0,  9],\n",
    "        [ 0, 13,  4,  2],\n",
    "        [ 2,  8, 23,  6],\n",
    "        [ 2,  2,  5, 30]], dtype=torch.float)\n",
    "# a /= reduce(a, 'y yh -> y 1', 'sum')\n",
    "a /= reduce(a, 'y yh -> 1 yh', 'sum')\n",
    "df_cm = pd.DataFrame(a, columns=labels, index = labels )\n",
    "df_cm.index.name = 'Actual'\n",
    "df_cm.columns.name = 'Predicted'\n",
    "plt.figure(figsize = (10,7))\n",
    "sns.set(font_scale=1.4) #for label size\n",
    "sns.heatmap(\n",
    "    df_cm, cmap=\"Blues\", \n",
    "    annot=True,\n",
    "    annot_kws={\"size\": 16})# font size"
   ]
  },
  {
   "cell_type": "code",
   "execution_count": 69,
   "id": "1b1cca3b-8690-4d66-b781-231898a7ed3e",
   "metadata": {},
   "outputs": [
    {
     "data": {
      "text/plain": [
       "<Axes: xlabel='Predicted', ylabel='Actual'>"
      ]
     },
     "execution_count": 69,
     "metadata": {},
     "output_type": "execute_result"
    },
    {
     "data": {
      "image/png": "[encoded data removed]",
      "text/plain": [
       "<Figure size 1000x700 with 2 Axes>"
      ]
     },
     "metadata": {},
     "output_type": "display_data"
    }
   ],
   "source": [
    "labels = dataset_config.target_labels\n",
    "a = torch.tensor(\n",
    "    [[29,  0,  0,  9],\n",
    "        [ 0, 13,  4,  2],\n",
    "        [ 2,  8, 23,  6],\n",
    "        [ 2,  2,  5, 30]], dtype=torch.float)\n",
    "a /= reduce(a, 'y yh -> y 1', 'sum')\n",
    "a /= reduce(a, 'y yh -> 1 yh', 'sum')\n",
    "df_cm = pd.DataFrame(a, columns=labels, index = labels )\n",
    "df_cm.index.name = 'Actual'\n",
    "df_cm.columns.name = 'Predicted'\n",
    "plt.figure(figsize = (10,7))\n",
    "sns.set(font_scale=1.4) #for label size\n",
    "sns.heatmap(\n",
    "    df_cm, cmap=\"Blues\", \n",
    "    annot=True,\n",
    "    annot_kws={\"size\": 16})# font size"
   ]
  },
  {
   "cell_type": "code",
   "execution_count": 72,
   "id": "7d6b0e44-caf8-4ecc-90a9-cf3bf9f63dc0",
   "metadata": {},
   "outputs": [],
   "source": [
    "loss_df.to_csv(log_dir+\"train_losses.csv\")"
   ]
  },
  {
   "cell_type": "code",
   "execution_count": null,
   "id": "983113a3-445f-4c4e-be10-325af3e713c3",
   "metadata": {},
   "outputs": [],
   "source": []
  },
  {
   "cell_type": "code",
   "execution_count": 73,
   "id": "4b29c933-01ea-41c9-b925-176db8f27271",
   "metadata": {},
   "outputs": [],
   "source": [
    "dataset_name = 'meld'\n",
    "experiment_prefix = \"scb14\"\n",
    "log_dir = f'../{experiment_prefix}_models/{dataset_name}/'\n",
    "data_dir = \"../data/data_preprocessed/\"\n"
   ]
  },
  {
   "cell_type": "code",
   "execution_count": 74,
   "id": "25bf8a38-4c35-42ff-a337-4cff259cf89d",
   "metadata": {},
   "outputs": [
    {
     "name": "stdout",
     "output_type": "stream",
     "text": [
      "{'name': 'meld', 'dataset_class': 'WaveformDataset', 'root': 'meld/', 'audio_dir': 'full_release/', 'feature_dir': 'preprocessing/', 'label_name': 'label_emotion_key', 'feature_name': 'audio16k', 'num_classes': 4, 'label_values': ['neu', 'hap', 'sad', 'ang'], 'classnames': ['neu', 'hap', 'sad', 'ang'], 'target_labels': ['ang', 'neu', 'sad', 'hap']}\n"
     ]
    }
   ],
   "source": [
    "dataset_config_path = f'config/dataset/{dataset_name}.yaml'\n",
    "dataset_config = ocf.load(dataset_config_path)\n",
    "print(dataset_config)\n",
    "train_loader, test_loader, batch_size = get_dataloader(\n",
    "    dataset_config, data_dir, batch_size=batch_size)"
   ]
  },
  {
   "cell_type": "code",
   "execution_count": 75,
   "id": "2dfd40f3-b883-44d6-bee7-1b17d96b0656",
   "metadata": {},
   "outputs": [],
   "source": [
    "loss_ratio=VqVaeClsLoss(perplexity=0, loss_vq=0, loss_recon=0, loss_cls=1)\n",
    "\n",
    "trainer.log_dir = log_dir\n",
    "trainer.prepare(train_loader=train_loader, \n",
    "                test_loader=test_loader, \n",
    "                batch_size=batch_size,\n",
    "               loss_ratio=loss_ratio)"
   ]
  },
  {
   "cell_type": "code",
   "execution_count": 76,
   "id": "8cd4d91f-f904-46b4-b7bf-4d4d4ba507c5",
   "metadata": {},
   "outputs": [],
   "source": [
    "trainer.setup(model=model, lr=learning_rate)"
   ]
  },
  {
   "cell_type": "code",
   "execution_count": 77,
   "id": "8f1e1765-b7f6-4267-a207-b31fab8c20d5",
   "metadata": {
    "scrolled": true
   },
   "outputs": [
    {
     "name": "stderr",
     "output_type": "stream",
     "text": [
      "  0%|▏                           | 0.4768756423432689/100 [05:47<240:58:29, 8716.67s/it]"
     ]
    },
    {
     "name": "stdout",
     "output_type": "stream",
     "text": [
      "Epoch: 1\tLoss: 1.313 [perplexity=47.431, loss_vq=0.036, loss_recon=5.722, loss_cls=1.313]\tVal_acc: 54/184 (29.35%)\n",
      "\n",
      "Saved new best val model: ../scb14_models/meld/model.epoch=1.step=406.loss=1.313.val_acc=0.293.pt\n"
     ]
    },
    {
     "name": "stderr",
     "output_type": "stream",
     "text": [
      "  1%|▎                           | 0.9527235354573254/100 [11:35<226:23:37, 8228.57s/it]"
     ]
    },
    {
     "name": "stdout",
     "output_type": "stream",
     "text": [
      "Epoch: 1\tLoss: 1.252 [perplexity=58.796, loss_vq=0.039, loss_recon=4.369, loss_cls=1.252]\tVal_acc: 56/184 (30.43%)\n",
      "\n",
      "Saved new best val model: ../scb14_models/meld/model.epoch=1.step=811.loss=1.252.val_acc=0.304.pt\n"
     ]
    },
    {
     "name": "stderr",
     "output_type": "stream",
     "text": [
      "  1%|▍                               | 1.429599177800615/100 [14:26<9:42:30, 354.58s/it]"
     ]
    },
    {
     "name": "stdout",
     "output_type": "stream",
     "text": [
      "Correct: 264/928 (0.2845)\n",
      "Saved new best test model: ../scb14_models/meld/model.epoch=1.step=811.test_acc=0.2845.pt\n",
      "{'acc_unweighted': tensor(0.2575, device='cuda:0'),\n",
      " 'acc_weighted': tensor(0.2845, device='cuda:0'),\n",
      " 'f1s_unweighted': tensor(0.1868, device='cuda:0'),\n",
      " 'f1s_weighted': tensor(0.2032, device='cuda:0'),\n",
      " 'rocauc': tensor(0.5561, device='cuda:0'),\n",
      " 'uar': tensor(0.2575, device='cuda:0'),\n",
      " 'wap': tensor(0.3177, device='cuda:0')}\n",
      "{'acc_detail': tensor([0.0155, 0.2702, 0.0124, 0.7318], device='cuda:0'),\n",
      " 'f1s_detail': tensor([0.0291, 0.2991, 0.0242, 0.3946], device='cuda:0'),\n",
      " 'precision_detail': tensor([0.2353, 0.3350, 0.5000, 0.2702], device='cuda:0'),\n",
      " 'recall_detail': tensor([0.0155, 0.2702, 0.0124, 0.7318], device='cuda:0'),\n",
      " 'rocauc_detail': tensor([0.6205, 0.5784, 0.5382, 0.4873], device='cuda:0')}\n",
      "tensor([[  4,  34,   0, 220],\n",
      "        [  2,  67,   2, 177],\n",
      "        [  0,  40,   2, 119],\n",
      "        [ 11,  59,   0, 191]], device='cuda:0')\n"
     ]
    },
    {
     "name": "stderr",
     "output_type": "stream",
     "text": [
      "  2%|▌                           | 1.9064748201439097/100 [20:18<233:09:37, 8556.91s/it]"
     ]
    },
    {
     "name": "stdout",
     "output_type": "stream",
     "text": [
      "Epoch: 2\tLoss: 1.757 [perplexity=49.024, loss_vq=0.036, loss_recon=4.523, loss_cls=1.757]\tVal_acc: 45/184 (24.46%)\n",
      "\n"
     ]
    },
    {
     "name": "stderr",
     "output_type": "stream",
     "text": [
      "  2%|▋                            | 2.382322713258016/100 [26:05<227:19:34, 8383.47s/it]"
     ]
    },
    {
     "name": "stdout",
     "output_type": "stream",
     "text": [
      "Epoch: 2\tLoss: 1.380 [perplexity=18.170, loss_vq=0.025, loss_recon=5.727, loss_cls=1.380]\tVal_acc: 60/184 (32.61%)\n",
      "\n",
      "Saved new best val model: ../scb14_models/meld/model.epoch=2.step=1622.loss=1.380.val_acc=0.326.pt\n"
     ]
    },
    {
     "name": "stderr",
     "output_type": "stream",
     "text": [
      "  3%|▊                           | 2.8591983556013107/100 [31:59<226:35:50, 8397.61s/it]"
     ]
    },
    {
     "name": "stdout",
     "output_type": "stream",
     "text": [
      "Epoch: 3\tLoss: 1.786 [perplexity=18.249, loss_vq=0.026, loss_recon=5.061, loss_cls=1.786]\tVal_acc: 70/184 (38.04%)\n",
      "\n",
      "Saved new best val model: ../scb14_models/meld/model.epoch=3.step=2028.loss=1.786.val_acc=0.380.pt\n"
     ]
    },
    {
     "name": "stderr",
     "output_type": "stream",
     "text": [
      "  3%|▉                           | 3.3350462487154173/100 [37:40<229:23:11, 8542.82s/it]"
     ]
    },
    {
     "name": "stdout",
     "output_type": "stream",
     "text": [
      "Epoch: 3\tLoss: 1.398 [perplexity=29.871, loss_vq=0.029, loss_recon=3.783, loss_cls=1.398]\tVal_acc: 54/184 (29.35%)\n",
      "\n"
     ]
    },
    {
     "name": "stderr",
     "output_type": "stream",
     "text": [
      "  4%|█                            | 3.811921891058712/100 [43:33<218:55:37, 8193.72s/it]"
     ]
    },
    {
     "name": "stdout",
     "output_type": "stream",
     "text": [
      "Epoch: 4\tLoss: 1.295 [perplexity=122.960, loss_vq=0.049, loss_recon=2.863, loss_cls=1.295]\tVal_acc: 51/184 (27.72%)\n",
      "\n"
     ]
    },
    {
     "name": "stderr",
     "output_type": "stream",
     "text": [
      "  4%|█▏                           | 4.287769784172694/100 [49:20<228:41:16, 8601.58s/it]"
     ]
    },
    {
     "name": "stdout",
     "output_type": "stream",
     "text": [
      "Epoch: 4\tLoss: 1.215 [perplexity=27.231, loss_vq=0.029, loss_recon=6.151, loss_cls=1.215]\tVal_acc: 60/184 (32.61%)\n",
      "\n"
     ]
    },
    {
     "name": "stderr",
     "output_type": "stream",
     "text": [
      "  5%|█▎                          | 4.7646454265157825/100 [55:08<218:29:06, 8258.97s/it]"
     ]
    },
    {
     "name": "stdout",
     "output_type": "stream",
     "text": [
      "Epoch: 5\tLoss: 1.317 [perplexity=60.922, loss_vq=0.038, loss_recon=3.566, loss_cls=1.317]\tVal_acc: 61/184 (33.15%)\n",
      "\n"
     ]
    },
    {
     "name": "stderr",
     "output_type": "stream",
     "text": [
      "  5%|█▎                        | 5.2404933196296835/100 [1:01:00<222:36:25, 8457.05s/it]"
     ]
    },
    {
     "name": "stdout",
     "output_type": "stream",
     "text": [
      "Epoch: 5\tLoss: 1.130 [perplexity=30.487, loss_vq=0.033, loss_recon=6.977, loss_cls=1.130]\tVal_acc: 61/184 (33.15%)\n",
      "\n"
     ]
    },
    {
     "name": "stderr",
     "output_type": "stream",
     "text": [
      "  6%|█▌                         | 5.717368961972772/100 [1:06:53<220:35:54, 8423.13s/it]"
     ]
    },
    {
     "name": "stdout",
     "output_type": "stream",
     "text": [
      "Epoch: 6\tLoss: 1.118 [perplexity=75.646, loss_vq=0.041, loss_recon=2.786, loss_cls=1.118]\tVal_acc: 66/184 (35.87%)\n",
      "\n"
     ]
    },
    {
     "name": "stderr",
     "output_type": "stream",
     "text": [
      "  6%|█▋                         | 6.193216855086673/100 [1:12:43<220:06:19, 8446.93s/it]"
     ]
    },
    {
     "name": "stdout",
     "output_type": "stream",
     "text": [
      "Epoch: 6\tLoss: 1.475 [perplexity=12.730, loss_vq=0.022, loss_recon=4.469, loss_cls=1.475]\tVal_acc: 60/184 (32.61%)\n",
      "\n"
     ]
    },
    {
     "name": "stderr",
     "output_type": "stream",
     "text": [
      "  7%|█▊                         | 6.670092497429762/100 [1:18:38<218:53:21, 8443.19s/it]"
     ]
    },
    {
     "name": "stdout",
     "output_type": "stream",
     "text": [
      "Epoch: 7\tLoss: 1.484 [perplexity=82.568, loss_vq=0.044, loss_recon=3.195, loss_cls=1.484]\tVal_acc: 67/184 (36.41%)\n",
      "\n"
     ]
    },
    {
     "name": "stderr",
     "output_type": "stream",
     "text": [
      "  7%|█▉                         | 7.145940390543663/100 [1:24:27<218:05:56, 8455.81s/it]"
     ]
    },
    {
     "name": "stdout",
     "output_type": "stream",
     "text": [
      "Epoch: 7\tLoss: 1.204 [perplexity=62.520, loss_vq=0.040, loss_recon=2.155, loss_cls=1.204]\tVal_acc: 73/184 (39.67%)\n",
      "\n",
      "Saved new best val model: ../scb14_models/meld/model.epoch=7.step=5677.loss=1.204.val_acc=0.397.pt\n"
     ]
    },
    {
     "name": "stderr",
     "output_type": "stream",
     "text": [
      "  8%|██                         | 7.622816032886751/100 [1:30:18<217:10:38, 8463.55s/it]"
     ]
    },
    {
     "name": "stdout",
     "output_type": "stream",
     "text": [
      "Epoch: 8\tLoss: 1.253 [perplexity=34.400, loss_vq=0.035, loss_recon=2.688, loss_cls=1.253]\tVal_acc: 54/184 (29.35%)\n",
      "\n"
     ]
    },
    {
     "name": "stderr",
     "output_type": "stream",
     "text": [
      "  8%|██▏                        | 8.098663926000652/100 [1:36:04<217:35:15, 8523.44s/it]"
     ]
    },
    {
     "name": "stdout",
     "output_type": "stream",
     "text": [
      "Epoch: 8\tLoss: 1.312 [perplexity=50.731, loss_vq=0.036, loss_recon=4.281, loss_cls=1.312]\tVal_acc: 54/184 (29.35%)\n",
      "\n"
     ]
    },
    {
     "name": "stderr",
     "output_type": "stream",
     "text": [
      "  9%|██▎                        | 8.575539568343741/100 [1:41:56<215:41:51, 8493.48s/it]"
     ]
    },
    {
     "name": "stdout",
     "output_type": "stream",
     "text": [
      "Epoch: 9\tLoss: 1.289 [perplexity=30.811, loss_vq=0.035, loss_recon=6.943, loss_cls=1.289]\tVal_acc: 63/184 (34.24%)\n",
      "\n"
     ]
    },
    {
     "name": "stderr",
     "output_type": "stream",
     "text": [
      "  9%|██▍                        | 9.051387461457642/100 [1:47:44<211:59:58, 8391.53s/it]"
     ]
    },
    {
     "name": "stdout",
     "output_type": "stream",
     "text": [
      "Epoch: 9\tLoss: 1.235 [perplexity=84.984, loss_vq=0.042, loss_recon=3.170, loss_cls=1.235]\tVal_acc: 68/184 (36.96%)\n",
      "\n"
     ]
    },
    {
     "name": "stderr",
     "output_type": "stream",
     "text": [
      " 10%|██▋                         | 9.52826310380073/100 [1:53:33<211:13:32, 8404.97s/it]"
     ]
    },
    {
     "name": "stdout",
     "output_type": "stream",
     "text": [
      "Epoch: 10\tLoss: 1.423 [perplexity=82.014, loss_vq=0.042, loss_recon=5.006, loss_cls=1.423]\tVal_acc: 67/184 (36.41%)\n",
      "\n"
     ]
    },
    {
     "name": "stderr",
     "output_type": "stream",
     "text": [
      " 10%|██▌                       | 10.004110996914632/100 [1:59:24<207:38:35, 8306.11s/it]"
     ]
    },
    {
     "name": "stdout",
     "output_type": "stream",
     "text": [
      "Epoch: 10\tLoss: 1.374 [perplexity=49.677, loss_vq=0.039, loss_recon=5.039, loss_cls=1.374]\tVal_acc: 73/184 (39.67%)\n",
      "\n"
     ]
    },
    {
     "name": "stderr",
     "output_type": "stream",
     "text": [
      " 10%|██▊                        | 10.48098663925772/100 [2:05:11<211:36:03, 8509.51s/it]"
     ]
    },
    {
     "name": "stdout",
     "output_type": "stream",
     "text": [
      "Epoch: 11\tLoss: 0.986 [perplexity=46.554, loss_vq=0.031, loss_recon=3.220, loss_cls=0.986]\tVal_acc: 67/184 (36.41%)\n",
      "\n"
     ]
    },
    {
     "name": "stderr",
     "output_type": "stream",
     "text": [
      " 11%|██▊                       | 10.956834532371621/100 [2:11:05<211:28:16, 8549.75s/it]"
     ]
    },
    {
     "name": "stdout",
     "output_type": "stream",
     "text": [
      "Epoch: 11\tLoss: 1.238 [perplexity=77.789, loss_vq=0.042, loss_recon=3.966, loss_cls=1.238]\tVal_acc: 71/184 (38.59%)\n",
      "\n"
     ]
    },
    {
     "name": "stderr",
     "output_type": "stream",
     "text": [
      " 11%|███▍                          | 11.43371017471471/100 [2:14:00<9:07:59, 371.25s/it]"
     ]
    },
    {
     "name": "stdout",
     "output_type": "stream",
     "text": [
      "Correct: 336/928 (0.3621)\n",
      "Saved new best test model: ../scb14_models/meld/model.epoch=11.step=8921.test_acc=0.3621.pt\n",
      "{'acc_unweighted': tensor(0.3321, device='cuda:0'),\n",
      " 'acc_weighted': tensor(0.3621, device='cuda:0'),\n",
      " 'f1s_unweighted': tensor(0.2596, device='cuda:0'),\n",
      " 'f1s_weighted': tensor(0.2831, device='cuda:0'),\n",
      " 'rocauc': tensor(0.6008, device='cuda:0'),\n",
      " 'uar': tensor(0.3321, device='cuda:0'),\n",
      " 'wap': tensor(0.4725, device='cuda:0')}\n",
      "{'acc_detail': tensor([0.6318, 0.6290, 0.0062, 0.0613], device='cuda:0'),\n",
      " 'f1s_detail': tensor([0.4895, 0.4321, 0.0123, 0.1046], device='cuda:0'),\n",
      " 'precision_detail': tensor([0.3995, 0.3291, 1.0000, 0.3556], device='cuda:0'),\n",
      " 'recall_detail': tensor([0.6318, 0.6290, 0.0062, 0.0613], device='cuda:0'),\n",
      " 'rocauc_detail': tensor([0.6753, 0.6013, 0.6085, 0.5181], device='cuda:0')}\n",
      "tensor([[163,  87,   0,   8],\n",
      "        [ 82, 156,   0,  10],\n",
      "        [ 47, 102,   1,  11],\n",
      "        [116, 129,   0,  16]], device='cuda:0')\n"
     ]
    },
    {
     "name": "stderr",
     "output_type": "stream",
     "text": [
      " 12%|███                       | 11.910585817057799/100 [2:19:55<215:07:04, 8791.34s/it]"
     ]
    },
    {
     "name": "stdout",
     "output_type": "stream",
     "text": [
      "Epoch: 12\tLoss: 1.088 [perplexity=164.662, loss_vq=0.057, loss_recon=2.669, loss_cls=1.088]\tVal_acc: 54/184 (29.35%)\n",
      "\n"
     ]
    },
    {
     "name": "stderr",
     "output_type": "stream",
     "text": [
      " 12%|███▍                        | 12.3864337101717/100 [2:25:59<210:44:44, 8659.44s/it]"
     ]
    },
    {
     "name": "stdout",
     "output_type": "stream",
     "text": [
      "Epoch: 12\tLoss: 1.151 [perplexity=30.021, loss_vq=0.033, loss_recon=4.466, loss_cls=1.151]\tVal_acc: 67/184 (36.41%)\n",
      "\n"
     ]
    },
    {
     "name": "stderr",
     "output_type": "stream",
     "text": [
      " 13%|███▎                      | 12.863309352514788/100 [2:32:13<212:50:24, 8793.36s/it]"
     ]
    },
    {
     "name": "stdout",
     "output_type": "stream",
     "text": [
      "Epoch: 13\tLoss: 1.498 [perplexity=62.353, loss_vq=0.041, loss_recon=3.409, loss_cls=1.498]\tVal_acc: 72/184 (39.13%)\n",
      "\n"
     ]
    },
    {
     "name": "stderr",
     "output_type": "stream",
     "text": [
      " 13%|███▍                      | 13.339157245628689/100 [2:38:23<217:40:20, 9042.38s/it]"
     ]
    },
    {
     "name": "stdout",
     "output_type": "stream",
     "text": [
      "Epoch: 13\tLoss: 1.281 [perplexity=62.579, loss_vq=0.039, loss_recon=6.307, loss_cls=1.281]\tVal_acc: 67/184 (36.41%)\n",
      "\n"
     ]
    },
    {
     "name": "stderr",
     "output_type": "stream",
     "text": [
      " 14%|███▌                      | 13.816032887971778/100 [2:44:33<206:58:54, 8645.85s/it]"
     ]
    },
    {
     "name": "stdout",
     "output_type": "stream",
     "text": [
      "Epoch: 14\tLoss: 1.230 [perplexity=76.481, loss_vq=0.043, loss_recon=3.566, loss_cls=1.230]\tVal_acc: 56/184 (30.43%)\n",
      "\n"
     ]
    },
    {
     "name": "stderr",
     "output_type": "stream",
     "text": [
      " 14%|███▋                      | 14.291880781085679/100 [2:50:32<202:29:25, 8505.21s/it]"
     ]
    },
    {
     "name": "stdout",
     "output_type": "stream",
     "text": [
      "Epoch: 14\tLoss: 0.912 [perplexity=45.924, loss_vq=0.037, loss_recon=3.281, loss_cls=0.912]\tVal_acc: 64/184 (34.78%)\n",
      "\n"
     ]
    },
    {
     "name": "stderr",
     "output_type": "stream",
     "text": [
      " 15%|███▊                      | 14.768756423428767/100 [2:56:27<200:37:58, 8474.34s/it]"
     ]
    },
    {
     "name": "stdout",
     "output_type": "stream",
     "text": [
      "Epoch: 15\tLoss: 0.945 [perplexity=44.633, loss_vq=0.036, loss_recon=4.569, loss_cls=0.945]\tVal_acc: 62/184 (33.70%)\n",
      "\n"
     ]
    },
    {
     "name": "stderr",
     "output_type": "stream",
     "text": [
      " 15%|███▉                      | 15.244604316542668/100 [3:02:19<203:32:07, 8645.21s/it]"
     ]
    },
    {
     "name": "stdout",
     "output_type": "stream",
     "text": [
      "Epoch: 15\tLoss: 0.751 [perplexity=37.034, loss_vq=0.033, loss_recon=4.615, loss_cls=0.751]\tVal_acc: 58/184 (31.52%)\n",
      "\n"
     ]
    },
    {
     "name": "stderr",
     "output_type": "stream",
     "text": [
      " 16%|████                      | 15.721479958885757/100 [3:08:24<200:32:34, 8566.30s/it]"
     ]
    },
    {
     "name": "stdout",
     "output_type": "stream",
     "text": [
      "Epoch: 16\tLoss: 0.670 [perplexity=48.544, loss_vq=0.033, loss_recon=4.110, loss_cls=0.670]\tVal_acc: 63/184 (34.24%)\n",
      "\n"
     ]
    },
    {
     "name": "stderr",
     "output_type": "stream",
     "text": [
      " 16%|████▎                      | 16.19732785199966/100 [3:14:15<202:11:59, 8686.12s/it]"
     ]
    },
    {
     "name": "stdout",
     "output_type": "stream",
     "text": [
      "Epoch: 16\tLoss: 1.693 [perplexity=50.742, loss_vq=0.038, loss_recon=5.203, loss_cls=1.693]\tVal_acc: 59/184 (32.07%)\n",
      "\n"
     ]
    },
    {
     "name": "stderr",
     "output_type": "stream",
     "text": [
      " 17%|████▌                      | 16.67420349434275/100 [3:20:11<199:55:33, 8637.58s/it]"
     ]
    },
    {
     "name": "stdout",
     "output_type": "stream",
     "text": [
      "Epoch: 17\tLoss: 0.341 [perplexity=35.052, loss_vq=0.033, loss_recon=3.708, loss_cls=0.341]\tVal_acc: 54/184 (29.35%)\n",
      "\n"
     ]
    },
    {
     "name": "stderr",
     "output_type": "stream",
     "text": [
      " 17%|████▋                       | 16.938335046243985/100 [3:23:13<16:13:38, 703.31s/it]Exception ignored in: <bound method IPythonKernel._clean_thread_parent_frames of <ipykernel.ipkernel.IPythonKernel object at 0x7fdb32471070>>\n",
      "Traceback (most recent call last):\n",
      "  File \"/opt/anaconda3/envs/audio/lib/python3.9/site-packages/ipykernel/ipkernel.py\", line 770, in _clean_thread_parent_frames\n",
      "    def _clean_thread_parent_frames(\n",
      "KeyboardInterrupt: \n",
      "Exception ignored in: <bound method IPythonKernel._clean_thread_parent_frames of <ipykernel.ipkernel.IPythonKernel object at 0x7fdb32471070>>\n",
      "Traceback (most recent call last):\n",
      "  File \"/opt/anaconda3/envs/audio/lib/python3.9/site-packages/ipykernel/ipkernel.py\", line 770, in _clean_thread_parent_frames\n",
      "    def _clean_thread_parent_frames(\n",
      "KeyboardInterrupt: \n",
      " 17%|████▋                       | 16.938335046243985/100 [3:23:14<16:36:37, 719.91s/it]"
     ]
    },
    {
     "name": "stdout",
     "output_type": "stream",
     "text": [
      "Unexpected exception formatting exception. Falling back to standard exception\n"
     ]
    },
    {
     "name": "stderr",
     "output_type": "stream",
     "text": [
      "\n",
      "Traceback (most recent call last):\n",
      "  File \"/opt/anaconda3/envs/audio/lib/python3.9/site-packages/IPython/core/interactiveshell.py\", line 3550, in run_code\n",
      "    exec(code_obj, self.user_global_ns, self.user_ns)\n",
      "  File \"/tmp/ipykernel_1339058/358793349.py\", line 1, in <module>\n",
      "    trainer.fit(n_epoch=100, self_supervised=False, train_task='embedding', test_n_epoch=10)\n",
      "  File \"/home/linh/projects/IConNet/IConNet/trainer/train_torch.py\", line 391, in fit\n",
      "    for epoch in range(n_epoch):\n",
      "  File \"/home/linh/projects/IConNet/IConNet/trainer/train_torch.py\", line 193, in train_step\n",
      "KeyboardInterrupt\n",
      "\n",
      "During handling of the above exception, another exception occurred:\n",
      "\n",
      "Traceback (most recent call last):\n",
      "  File \"/opt/anaconda3/envs/audio/lib/python3.9/site-packages/IPython/core/interactiveshell.py\", line 2144, in showtraceback\n",
      "    stb = self.InteractiveTB.structured_traceback(\n",
      "  File \"/opt/anaconda3/envs/audio/lib/python3.9/site-packages/IPython/core/ultratb.py\", line 1435, in structured_traceback\n",
      "    return FormattedTB.structured_traceback(\n",
      "  File \"/opt/anaconda3/envs/audio/lib/python3.9/site-packages/IPython/core/ultratb.py\", line 1326, in structured_traceback\n",
      "    return VerboseTB.structured_traceback(\n",
      "  File \"/opt/anaconda3/envs/audio/lib/python3.9/site-packages/IPython/core/ultratb.py\", line 1173, in structured_traceback\n",
      "    formatted_exception = self.format_exception_as_a_whole(etype, evalue, etb, number_of_lines_of_context,\n",
      "  File \"/opt/anaconda3/envs/audio/lib/python3.9/site-packages/IPython/core/ultratb.py\", line 1088, in format_exception_as_a_whole\n",
      "    frames.append(self.format_record(record))\n",
      "  File \"/opt/anaconda3/envs/audio/lib/python3.9/site-packages/IPython/core/ultratb.py\", line 970, in format_record\n",
      "    frame_info.lines, Colors, self.has_colors, lvals\n",
      "  File \"/opt/anaconda3/envs/audio/lib/python3.9/site-packages/IPython/core/ultratb.py\", line 792, in lines\n",
      "    return self._sd.lines\n",
      "  File \"/opt/anaconda3/envs/audio/lib/python3.9/site-packages/stack_data/utils.py\", line 145, in cached_property_wrapper\n",
      "    value = obj.__dict__[self.func.__name__] = self.func(obj)\n",
      "  File \"/opt/anaconda3/envs/audio/lib/python3.9/site-packages/stack_data/core.py\", line 734, in lines\n",
      "    pieces = self.included_pieces\n",
      "  File \"/opt/anaconda3/envs/audio/lib/python3.9/site-packages/stack_data/utils.py\", line 145, in cached_property_wrapper\n",
      "    value = obj.__dict__[self.func.__name__] = self.func(obj)\n",
      "  File \"/opt/anaconda3/envs/audio/lib/python3.9/site-packages/stack_data/core.py\", line 681, in included_pieces\n",
      "    pos = scope_pieces.index(self.executing_piece)\n",
      "  File \"/opt/anaconda3/envs/audio/lib/python3.9/site-packages/stack_data/utils.py\", line 145, in cached_property_wrapper\n",
      "    value = obj.__dict__[self.func.__name__] = self.func(obj)\n",
      "  File \"/opt/anaconda3/envs/audio/lib/python3.9/site-packages/stack_data/core.py\", line 660, in executing_piece\n",
      "    return only(\n",
      "  File \"/opt/anaconda3/envs/audio/lib/python3.9/site-packages/executing/executing.py\", line 116, in only\n",
      "    raise NotOneValueFound('Expected one value, found 0')\n",
      "executing.executing.NotOneValueFound: Expected one value, found 0\n"
     ]
    }
   ],
   "source": [
    "trainer.fit(n_epoch=100, self_supervised=False, train_task='embedding', test_n_epoch=10)"
   ]
  },
  {
   "cell_type": "code",
   "execution_count": 9,
   "id": "d6708833-549f-42c5-95e5-696d7756fc0d",
   "metadata": {},
   "outputs": [
    {
     "name": "stdout",
     "output_type": "stream",
     "text": [
      "{'name': 'M19', 'description': 'FirConv with learnable windows', 'fe': {'n_block': 1, 'n_channel': [456], 'kernel_size': [511], 'stride': [2], 'window_k': [5], 'pooling': 'mean', 'filter_type': 'sinc', 'learnable_bands': False, 'learnable_windows': True, 'shared_window': False, 'window_func': 'hamming', 'mel_resolution': 4, 'conv_mode': 'conv', 'norm_type': 'LocalResponseNorm'}, 'cls': {'n_block': 2, 'n_hidden_dim': [512, 512], 'norm_type': 'LayerNorm', 'dropout': 0.1}}\n"
     ]
    }
   ],
   "source": [
    "# iconnet_config.fe.n_channel = [256]\n",
    "# iconnet_config.fe.mel_resolution = 4\n",
    "# iconnet_config.cls.n_hidden_dim = 512, 512\n",
    "# iconnet_config.cls.dropout = 0.1\n",
    "# print(iconnet_config)"
   ]
  },
  {
   "cell_type": "code",
   "execution_count": 8,
   "id": "521447ec-395a-443c-b25b-6bb459d8de63",
   "metadata": {},
   "outputs": [],
   "source": [
    "codebook_pretrained_path = f'../scb11_models/ravdess/epoch=220.codebook.pt'\n",
    "model = SCB(\n",
    "    in_channels=in_channels,    \n",
    "    num_embeddings=num_embeddings, \n",
    "    stride=stride,\n",
    "    embedding_dim=embedding_dim, \n",
    "    num_classes=num_classes, \n",
    "    cls_dim=512,\n",
    "    sample_rate=sr,\n",
    "    commitment_cost=commitment_cost,\n",
    "    distance_type='euclidean',\n",
    "    codebook_pretrained_path=codebook_pretrained_path,\n",
    "    freeze_codebook=True,\n",
    "    loss_type='minami',\n",
    "    iconnet_config=iconnet_config,\n",
    ")"
   ]
  },
  {
   "cell_type": "code",
   "execution_count": 9,
   "id": "5f797f43-db60-4933-813e-091069586da4",
   "metadata": {},
   "outputs": [
    {
     "name": "stdout",
     "output_type": "stream",
     "text": [
      "{'name': 'crema_d', 'dataset_class': 'WaveformDataset', 'root': 'crema_d/', 'audio_dir': 'full_release/', 'feature_dir': 'preprocessing/', 'label_name': 'label6', 'feature_name': 'audio16k', 'num_classes': 6, 'label_values': ['neu', 'hap', 'sad', 'ang', 'fea', 'dis'], 'classnames': ['neu', 'hap', 'sad', 'ang', 'fea', 'dis'], 'target_labels': ['ang', 'neu', 'sad', 'hap']}\n"
     ]
    }
   ],
   "source": [
    "dataset_name = 'crema_d'\n",
    "experiment_prefix = \"scb14\"\n",
    "log_dir = f'../{experiment_prefix}_models/{dataset_name}/'\n",
    "data_dir = \"../data/data_preprocessed/\"\n",
    "dataset_config_path = f'config/dataset/{dataset_name}.yaml'\n",
    "dataset_config = ocf.load(dataset_config_path)\n",
    "print(dataset_config)\n",
    "batch_size = 2"
   ]
  },
  {
   "cell_type": "code",
   "execution_count": 10,
   "id": "b89fc522-0f14-4af4-9e46-11a99ca45b2d",
   "metadata": {},
   "outputs": [],
   "source": [
    "train_loader, test_loader, batch_size = get_dataloader(\n",
    "    dataset_config, data_dir, batch_size=batch_size)"
   ]
  },
  {
   "cell_type": "code",
   "execution_count": 11,
   "id": "47f37d3b-c6c2-42b9-bd6d-a5fcf273dc27",
   "metadata": {},
   "outputs": [],
   "source": [
    "loss_ratio=VqVaeClsLoss(perplexity=0, loss_vq=1, loss_recon=1, loss_cls=0.1)\n",
    "trainer = Trainer(batch_size=batch_size, log_dir=log_dir, \n",
    "                  experiment_prefix=experiment_prefix, device=device,\n",
    "                 accumulate_grad_batches=8)\n",
    "trainer.prepare(train_loader=train_loader, \n",
    "                test_loader=test_loader, \n",
    "                batch_size=batch_size,\n",
    "               loss_ratio=loss_ratio)"
   ]
  },
  {
   "cell_type": "code",
   "execution_count": 12,
   "id": "6f5132f4-88c4-4c2a-8324-e8ea5de3ecd5",
   "metadata": {},
   "outputs": [],
   "source": [
    "trainer.setup(model=model, lr=learning_rate)"
   ]
  },
  {
   "cell_type": "code",
   "execution_count": null,
   "id": "024e3cc9-3cd4-4976-984d-283133787add",
   "metadata": {},
   "outputs": [
    {
     "name": "stderr",
     "output_type": "stream",
     "text": [
      "  0%|                         | 0.47667638483965535/500 [05:33<3127:35:43, 22540.18s/it]"
     ]
    },
    {
     "name": "stdout",
     "output_type": "stream",
     "text": [
      "Epoch: 1\tLoss: 6.323 [perplexity=129.756, loss_vq=0.059, loss_recon=6.173, loss_cls=0.909]\tVal_acc: 119/196 (60.71%)\n",
      "\n",
      "Saved new best val model: ../scb14_models/crema_d/model.epoch=1.step=858.loss=6.323.val_acc=0.607.pt\n"
     ]
    },
    {
     "name": "stderr",
     "output_type": "stream",
     "text": [
      "  0%|                               | 1.428571428571466/500 [14:34<71:45:25, 518.13s/it]"
     ]
    },
    {
     "name": "stdout",
     "output_type": "stream",
     "text": [
      "Correct: 392/980 (0.4000)\n",
      "Saved new best test model: ../scb14_models/crema_d/model.epoch=1.step=1715.test_acc=0.4000.pt\n",
      "{'acc_unweighted': tensor(0.4209, device='cuda:0'),\n",
      " 'acc_weighted': tensor(0.4000, device='cuda:0'),\n",
      " 'f1s_unweighted': tensor(0.2863, device='cuda:0'),\n",
      " 'f1s_weighted': tensor(0.2799, device='cuda:0'),\n",
      " 'rocauc': tensor(0.8065, device='cuda:0'),\n",
      " 'uar': tensor(0.4209, device='cuda:0'),\n",
      " 'wap': tensor(0.2422, device='cuda:0')}\n",
      "{'acc_detail': tensor([0.6929, 0.9908, 0.0000, 0.0000], device='cuda:0'),\n",
      " 'f1s_detail': tensor([0.6848, 0.4606, 0.0000, 0.0000], device='cuda:0'),\n",
      " 'precision_detail': tensor([0.6769, 0.3000, 0.0000, 0.0000], device='cuda:0'),\n",
      " 'recall_detail': tensor([0.6929, 0.9908, 0.0000, 0.0000], device='cuda:0'),\n",
      " 'rocauc_detail': tensor([0.9053, 0.7174, 0.9043, 0.6988], device='cuda:0')}\n",
      "tensor([[176,  78,   0,   0],\n",
      "        [  2, 216,   0,   0],\n",
      "        [  2, 252,   0,   0],\n",
      "        [ 80, 174,   0,   0]], device='cuda:0')\n"
     ]
    },
    {
     "name": "stderr",
     "output_type": "stream",
     "text": [
      "  0%|                          | 1.9052478134111321/500 [20:13<3120:52:49, 22556.29s/it]"
     ]
    },
    {
     "name": "stdout",
     "output_type": "stream",
     "text": [
      "Epoch: 2\tLoss: 5.935 [perplexity=119.540, loss_vq=0.056, loss_recon=5.786, loss_cls=0.927]\tVal_acc: 125/196 (63.78%)\n",
      "\n",
      "Saved new best val model: ../scb14_models/crema_d/model.epoch=2.step=2573.loss=5.935.val_acc=0.638.pt\n"
     ]
    },
    {
     "name": "stderr",
     "output_type": "stream",
     "text": [
      "  0%|▏                             | 2.4995140913508993/500 [26:29<88:39:11, 641.51s/it]"
     ]
    }
   ],
   "source": [
    "trainer.fit(\n",
    "    n_epoch=500, lr=learning_rate, self_supervised=False, \n",
    "    train_task='embedding', test_n_epoch=10)"
   ]
  },
  {
   "cell_type": "code",
   "execution_count": null,
   "id": "350daee1-a164-40c9-9f30-44ec7cd664bd",
   "metadata": {},
   "outputs": [],
   "source": []
  }
 ],
 "metadata": {
  "kernelspec": {
   "display_name": "Python 3 (ipykernel)",
   "language": "python",
   "name": "python3"
  },
  "language_info": {
   "codemirror_mode": {
    "name": "ipython",
    "version": 3
   },
   "file_extension": ".py",
   "mimetype": "text/x-python",
   "name": "python",
   "nbconvert_exporter": "python",
   "pygments_lexer": "ipython3",
   "version": "3.9.18"
  }
 },
 "nbformat": 4,
 "nbformat_minor": 5
}
