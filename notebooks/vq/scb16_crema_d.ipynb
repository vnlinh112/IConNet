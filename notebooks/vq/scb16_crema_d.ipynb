{
 "cells": [
  {
   "cell_type": "code",
   "execution_count": 1,
   "id": "44853ada-c7cb-4f90-8ee9-1a5cf5751e55",
   "metadata": {},
   "outputs": [],
   "source": [
    "%load_ext autoreload\n",
    "%autoreload 2"
   ]
  },
  {
   "cell_type": "code",
   "execution_count": 2,
   "id": "5c448ca3-d605-4d8c-85b2-1176a9d9bce3",
   "metadata": {},
   "outputs": [],
   "source": [
    "import matplotlib.pyplot as plt\n",
    "import numpy as np\n",
    "from scipy.signal import savgol_filter\n",
    "import umap\n",
    "import torch\n",
    "import torch.nn as nn\n",
    "import torch.nn.functional as F\n",
    "from torch.utils.data import DataLoader\n",
    "import torch.optim as optim\n",
    "\n",
    "from torchvision.utils import make_grid"
   ]
  },
  {
   "cell_type": "code",
   "execution_count": 3,
   "id": "e98f1dc3-c859-4cf2-867b-de92f39a33b2",
   "metadata": {},
   "outputs": [],
   "source": [
    "device = torch.device(\"cuda\" if torch.cuda.is_available() else \"cpu\")"
   ]
  },
  {
   "cell_type": "code",
   "execution_count": 4,
   "id": "15137a98-3f95-4666-bc82-4af6ae5cd61e",
   "metadata": {},
   "outputs": [
    {
     "data": {
      "text/plain": [
       "'/home/linh/projects/IConNet'"
      ]
     },
     "execution_count": 4,
     "metadata": {},
     "output_type": "execute_result"
    }
   ],
   "source": [
    "import os\n",
    "os.chdir('../IConNet/')\n",
    "os.getcwd()"
   ]
  },
  {
   "cell_type": "code",
   "execution_count": 5,
   "id": "e33a58da-e8cb-4a61-a826-a1188c322ed9",
   "metadata": {},
   "outputs": [],
   "source": [
    "os.environ[\"PYTORCH_CUDA_ALLOC_CONF\"] = \"max_split_size_mb:512\"\n",
    "import gc\n",
    "import sys\n",
    "import numpy as np\n",
    "from tqdm import tqdm"
   ]
  },
  {
   "cell_type": "code",
   "execution_count": 6,
   "id": "d1603c14-c65a-4d03-85bd-7d5669601a8e",
   "metadata": {},
   "outputs": [],
   "source": [
    "from IConNet.acov.audio_vqvae import VqVaeClsLoss\n",
    "from IConNet.trainer.train_torch import get_dataloader\n",
    "from IConNet.trainer.train_torch import Trainer_SCB10 as Trainer\n",
    "from IConNet.acov.model import SCB16 as SCB\n",
    "from omegaconf import OmegaConf as ocf"
   ]
  },
  {
   "cell_type": "code",
   "execution_count": 7,
   "id": "36707133-d7ac-4706-91b5-8c3e7faa9705",
   "metadata": {},
   "outputs": [
    {
     "name": "stdout",
     "output_type": "stream",
     "text": [
      "{'name': 'crema_d', 'dataset_class': 'WaveformDataset', 'root': 'crema_d/', 'audio_dir': 'full_release/', 'feature_dir': 'preprocessing/', 'label_name': 'label6', 'feature_name': 'audio16k', 'num_classes': 6, 'label_values': ['neu', 'hap', 'sad', 'ang', 'fea', 'dis'], 'classnames': ['neu', 'hap', 'sad', 'ang', 'fea', 'dis'], 'target_labels': ['ang', 'neu', 'sad', 'hap']}\n"
     ]
    }
   ],
   "source": [
    "dataset_name = 'crema_d'\n",
    "experiment_prefix = \"scb16\"\n",
    "log_dir = f'../{experiment_prefix}_models/{dataset_name}/'\n",
    "data_dir = \"../data/data_preprocessed/\"\n",
    "dataset_config_path = f'config/dataset/{dataset_name}.yaml'\n",
    "dataset_config = ocf.load(dataset_config_path)\n",
    "print(dataset_config)\n",
    "batch_size = 4"
   ]
  },
  {
   "cell_type": "code",
   "execution_count": 8,
   "id": "6859d384-bd88-4f70-b87e-333b7c55070b",
   "metadata": {},
   "outputs": [],
   "source": [
    "in_channels = 1\n",
    "out_channels = 8\n",
    "embedding_dim = 1023\n",
    "num_embeddings = 384\n",
    "commitment_cost = 0.25\n",
    "learning_rate = 1e-4\n",
    "num_tokens = 256\n",
    "num_classes = 4"
   ]
  },
  {
   "cell_type": "code",
   "execution_count": 9,
   "id": "ed8a509d-7fb9-4575-985e-9911b78c155e",
   "metadata": {},
   "outputs": [
    {
     "name": "stdout",
     "output_type": "stream",
     "text": [
      "{'name': 'M19', 'description': 'FirConv with learnable windows', 'fe': {'n_block': 1, 'n_channel': [256], 'kernel_size': [511], 'stride': [2], 'window_k': [5], 'pooling': 'mean', 'filter_type': 'sinc', 'learnable_bands': False, 'learnable_windows': True, 'shared_window': False, 'window_func': 'hamming', 'mel_resolution': 3, 'conv_mode': 'conv', 'norm_type': 'LocalResponseNorm'}, 'cls': {'n_block': 2, 'n_hidden_dim': [512, 512], 'norm_type': 'LayerNorm'}}\n"
     ]
    }
   ],
   "source": [
    "iconnet_config_path = f'config/model/m19win.yaml'\n",
    "iconnet_config = ocf.load(iconnet_config_path)\n",
    "print(iconnet_config)"
   ]
  },
  {
   "cell_type": "code",
   "execution_count": 10,
   "id": "3c2149fa-28ba-4c04-ba45-eff09c0e00a9",
   "metadata": {},
   "outputs": [],
   "source": [
    "codebook_pretrained_path = f'../scb7_models/crema_d/codebook.epoch=42.pt'\n",
    "model = SCB(\n",
    "    in_channels=in_channels,\n",
    "    out_channels=out_channels,\n",
    "    num_embeddings=num_embeddings, \n",
    "    embedding_dim=embedding_dim, \n",
    "    num_tokens=num_tokens,\n",
    "    num_classes=num_classes, \n",
    "    cls_dim=embedding_dim,\n",
    "    sample_rate=16000,\n",
    "    commitment_cost=commitment_cost,\n",
    "    distance_type='euclidean',\n",
    "    codebook_pretrained_path=codebook_pretrained_path,\n",
    "    freeze_codebook=True,\n",
    "    loss_type='signal_loss',\n",
    "    iconnet_config=iconnet_config,\n",
    ")"
   ]
  },
  {
   "cell_type": "code",
   "execution_count": 11,
   "id": "525cfafe-70ca-42ec-bf74-1293cc5eef1c",
   "metadata": {},
   "outputs": [],
   "source": [
    "train_loader, test_loader, batch_size = get_dataloader(\n",
    "    dataset_config, data_dir, batch_size=batch_size)"
   ]
  },
  {
   "cell_type": "code",
   "execution_count": 12,
   "id": "9b57d660-7ec0-4e90-b9b5-32ba1cfd0048",
   "metadata": {},
   "outputs": [],
   "source": [
    "loss_ratio=VqVaeClsLoss(perplexity=0, loss_vq=1, loss_recon=1, loss_cls=1)\n",
    "trainer = Trainer(batch_size=batch_size, log_dir=log_dir, \n",
    "                  experiment_prefix=experiment_prefix, device=device,\n",
    "                 accumulate_grad_batches=4)\n",
    "trainer.prepare(train_loader=train_loader, \n",
    "                test_loader=test_loader, \n",
    "                batch_size=batch_size,\n",
    "               loss_ratio=loss_ratio)"
   ]
  },
  {
   "cell_type": "code",
   "execution_count": 13,
   "id": "e1a96921-3ce9-4499-b493-8a90adbf33cd",
   "metadata": {},
   "outputs": [],
   "source": [
    "trainer.setup(model=model, lr=learning_rate)"
   ]
  },
  {
   "cell_type": "code",
   "execution_count": 14,
   "id": "44d6e820-fd25-43b0-8e09-d666c78e9ecb",
   "metadata": {
    "scrolled": true
   },
   "outputs": [
    {
     "name": "stderr",
     "output_type": "stream",
     "text": [
      "  0%|▍                                                                               | 0.4771622934888197/100 [03:24<191:11:29, 6915.89s/it]"
     ]
    },
    {
     "name": "stdout",
     "output_type": "stream",
     "text": [
      "Epoch: 1\tLoss: 0.949 [perplexity=0.000, loss_vq=0.000, loss_recon=0.000, loss_cls=0.949]\tVal_acc: 96/196 (48.98%)\n",
      "\n",
      "Saved new best val model: ../scb16_models/crema_d/model.epoch=1.step=368.loss=0.949.val_acc=0.490.pt\n"
     ]
    },
    {
     "name": "stderr",
     "output_type": "stream",
     "text": [
      "  1%|█▏                                                                                  | 1.428571428571455/100 [08:35<7:22:22, 269.27s/it]"
     ]
    },
    {
     "name": "stdout",
     "output_type": "stream",
     "text": [
      "Correct: 388/980 (0.3959)\n",
      "Saved new best test model: ../scb16_models/crema_d/model.epoch=1.step=735.test_acc=0.3959.pt\n",
      "{'acc_unweighted': tensor(0.4162, device='cuda:0'),\n",
      " 'acc_weighted': tensor(0.3959, device='cuda:0'),\n",
      " 'f1s_unweighted': tensor(0.3378, device='cuda:0'),\n",
      " 'f1s_weighted': tensor(0.3328, device='cuda:0'),\n",
      " 'rocauc': tensor(0.7916, device='cuda:0'),\n",
      " 'uar': tensor(0.4162, device='cuda:0'),\n",
      " 'wap': tensor(0.3790, device='cuda:0')}\n",
      "{'acc_detail': tensor([0.4291, 0.9679, 0.0000, 0.2677], device='cuda:0'),\n",
      " 'f1s_detail': tensor([0.5547, 0.4726, 0.0000, 0.3238], device='cuda:0'),\n",
      " 'precision_detail': tensor([0.7842, 0.3126, 0.0000, 0.4096], device='cuda:0'),\n",
      " 'recall_detail': tensor([0.4291, 0.9679, 0.0000, 0.2677], device='cuda:0'),\n",
      " 'rocauc_detail': tensor([0.8939, 0.6791, 0.8981, 0.6954], device='cuda:0')}\n",
      "tensor([[109,  57,   0,  88],\n",
      "        [  0, 211,   0,   7],\n",
      "        [  0, 251,   0,   3],\n",
      "        [ 30, 156,   0,  68]], device='cuda:0')\n"
     ]
    },
    {
     "name": "stderr",
     "output_type": "stream",
     "text": [
      "  2%|█▌                                                                              | 1.9057337220602952/100 [12:00<185:09:28, 6795.19s/it]"
     ]
    },
    {
     "name": "stdout",
     "output_type": "stream",
     "text": [
      "Epoch: 2\tLoss: 0.719 [perplexity=0.000, loss_vq=0.000, loss_recon=0.000, loss_cls=0.719]\tVal_acc: 99/196 (50.51%)\n",
      "\n",
      "Saved new best val model: ../scb16_models/crema_d/model.epoch=2.step=1103.loss=0.719.val_acc=0.505.pt\n"
     ]
    },
    {
     "name": "stderr",
     "output_type": "stream",
     "text": [
      "  3%|██▎                                                                             | 2.8581146744412798/100 [18:25<190:02:58, 7043.08s/it]"
     ]
    },
    {
     "name": "stdout",
     "output_type": "stream",
     "text": [
      "Epoch: 3\tLoss: 1.314 [perplexity=0.000, loss_vq=0.000, loss_recon=0.000, loss_cls=1.314]\tVal_acc: 124/196 (63.27%)\n",
      "\n",
      "Saved new best val model: ../scb16_models/crema_d/model.epoch=3.step=1838.loss=1.314.val_acc=0.633.pt\n"
     ]
    },
    {
     "name": "stderr",
     "output_type": "stream",
     "text": [
      "  4%|███                                                                             | 3.8104956268222643/100 [24:50<184:36:10, 6908.97s/it]"
     ]
    },
    {
     "name": "stdout",
     "output_type": "stream",
     "text": [
      "Epoch: 4\tLoss: 1.107 [perplexity=0.000, loss_vq=0.000, loss_recon=0.000, loss_cls=1.107]\tVal_acc: 117/196 (59.69%)\n",
      "\n"
     ]
    },
    {
     "name": "stderr",
     "output_type": "stream",
     "text": [
      "  5%|███▊                                                                             | 4.762876579203248/100 [31:14<184:20:41, 6968.31s/it]"
     ]
    },
    {
     "name": "stdout",
     "output_type": "stream",
     "text": [
      "Epoch: 5\tLoss: 1.036 [perplexity=0.000, loss_vq=0.000, loss_recon=0.000, loss_cls=1.036]\tVal_acc: 127/196 (64.80%)\n",
      "\n",
      "Saved new best val model: ../scb16_models/crema_d/model.epoch=5.step=3308.loss=1.036.val_acc=0.648.pt\n"
     ]
    },
    {
     "name": "stderr",
     "output_type": "stream",
     "text": [
      "  6%|████▋                                                                            | 5.715257531584233/100 [37:40<183:29:40, 7006.22s/it]"
     ]
    },
    {
     "name": "stdout",
     "output_type": "stream",
     "text": [
      "Epoch: 6\tLoss: 0.813 [perplexity=0.000, loss_vq=0.000, loss_recon=0.000, loss_cls=0.813]\tVal_acc: 130/196 (66.33%)\n",
      "\n",
      "Saved new best val model: ../scb16_models/crema_d/model.epoch=6.step=4043.loss=0.813.val_acc=0.663.pt\n"
     ]
    },
    {
     "name": "stderr",
     "output_type": "stream",
     "text": [
      "  7%|█████▍                                                                           | 6.667638483965217/100 [44:06<181:01:20, 6982.37s/it]"
     ]
    },
    {
     "name": "stdout",
     "output_type": "stream",
     "text": [
      "Epoch: 7\tLoss: 0.271 [perplexity=0.000, loss_vq=0.000, loss_recon=0.000, loss_cls=0.271]\tVal_acc: 113/196 (57.65%)\n",
      "\n"
     ]
    },
    {
     "name": "stderr",
     "output_type": "stream",
     "text": [
      "  8%|██████▏                                                                          | 7.620019436346202/100 [50:32<179:43:07, 7003.55s/it]"
     ]
    },
    {
     "name": "stdout",
     "output_type": "stream",
     "text": [
      "Epoch: 8\tLoss: 0.428 [perplexity=0.000, loss_vq=0.000, loss_recon=0.000, loss_cls=0.428]\tVal_acc: 133/196 (67.86%)\n",
      "\n",
      "Saved new best val model: ../scb16_models/crema_d/model.epoch=8.step=5513.loss=0.428.val_acc=0.679.pt\n"
     ]
    },
    {
     "name": "stderr",
     "output_type": "stream",
     "text": [
      "  9%|██████▉                                                                          | 8.572400388727186/100 [56:59<176:57:49, 6968.02s/it]"
     ]
    },
    {
     "name": "stdout",
     "output_type": "stream",
     "text": [
      "Epoch: 9\tLoss: 0.553 [perplexity=0.000, loss_vq=0.000, loss_recon=0.000, loss_cls=0.553]\tVal_acc: 133/196 (67.86%)\n",
      "\n"
     ]
    },
    {
     "name": "stderr",
     "output_type": "stream",
     "text": [
      " 10%|███████▌                                                                        | 9.52478134110817/100 [1:03:26<175:35:17, 6986.64s/it]"
     ]
    },
    {
     "name": "stdout",
     "output_type": "stream",
     "text": [
      "Epoch: 10\tLoss: 0.586 [perplexity=0.000, loss_vq=0.000, loss_recon=0.000, loss_cls=0.586]\tVal_acc: 118/196 (60.20%)\n",
      "\n"
     ]
    },
    {
     "name": "stderr",
     "output_type": "stream",
     "text": [
      " 10%|████████▏                                                                     | 10.477162293489155/100 [1:09:54<172:25:10, 6933.54s/it]"
     ]
    },
    {
     "name": "stdout",
     "output_type": "stream",
     "text": [
      "Epoch: 11\tLoss: 1.133 [perplexity=0.000, loss_vq=0.000, loss_recon=0.000, loss_cls=1.133]\tVal_acc: 130/196 (66.33%)\n",
      "\n"
     ]
    },
    {
     "name": "stderr",
     "output_type": "stream",
     "text": [
      " 11%|█████████▎                                                                       | 11.428571428571791/100 [1:15:09<6:44:33, 274.06s/it]"
     ]
    },
    {
     "name": "stdout",
     "output_type": "stream",
     "text": [
      "Correct: 595/980 (0.6071)\n",
      "Saved new best test model: ../scb16_models/crema_d/model.epoch=11.step=8085.test_acc=0.6071.pt\n",
      "{'acc_unweighted': tensor(0.6033, device='cuda:0'),\n",
      " 'acc_weighted': tensor(0.6071, device='cuda:0'),\n",
      " 'f1s_unweighted': tensor(0.6000, device='cuda:0'),\n",
      " 'f1s_weighted': tensor(0.6038, device='cuda:0'),\n",
      " 'rocauc': tensor(0.8516, device='cuda:0'),\n",
      " 'uar': tensor(0.6033, device='cuda:0'),\n",
      " 'wap': tensor(0.6075, device='cuda:0')}\n",
      "{'acc_detail': tensor([0.6457, 0.5000, 0.8071, 0.4606], device='cuda:0'),\n",
      " 'f1s_detail': tensor([0.6949, 0.4966, 0.7231, 0.4855], device='cuda:0'),\n",
      " 'precision_detail': tensor([0.7523, 0.4932, 0.6550, 0.5132], device='cuda:0'),\n",
      " 'recall_detail': tensor([0.6457, 0.5000, 0.8071, 0.4606], device='cuda:0'),\n",
      " 'rocauc_detail': tensor([0.9083, 0.8200, 0.9138, 0.7644], device='cuda:0')}\n",
      "tensor([[164,  11,   4,  75],\n",
      "        [  0, 109,  85,  24],\n",
      "        [  1,  36, 205,  12],\n",
      "        [ 53,  65,  19, 117]], device='cuda:0')\n"
     ]
    },
    {
     "name": "stderr",
     "output_type": "stream",
     "text": [
      " 12%|█████████▎                                                                    | 11.905733722060631/100 [1:18:35<173:07:39, 7074.92s/it]"
     ]
    },
    {
     "name": "stdout",
     "output_type": "stream",
     "text": [
      "Epoch: 12\tLoss: 0.872 [perplexity=0.000, loss_vq=0.000, loss_recon=0.000, loss_cls=0.872]\tVal_acc: 125/196 (63.78%)\n",
      "\n"
     ]
    },
    {
     "name": "stderr",
     "output_type": "stream",
     "text": [
      " 13%|██████████                                                                    | 12.858114674441616/100 [1:25:02<169:42:42, 7011.12s/it]"
     ]
    },
    {
     "name": "stdout",
     "output_type": "stream",
     "text": [
      "Epoch: 13\tLoss: 0.002 [perplexity=0.000, loss_vq=0.000, loss_recon=0.000, loss_cls=0.002]\tVal_acc: 114/196 (58.16%)\n",
      "\n"
     ]
    },
    {
     "name": "stderr",
     "output_type": "stream",
     "text": [
      " 14%|███████████                                                                     | 13.8104956268226/100 [1:31:31<168:46:06, 7049.19s/it]"
     ]
    },
    {
     "name": "stdout",
     "output_type": "stream",
     "text": [
      "Epoch: 14\tLoss: 0.933 [perplexity=0.000, loss_vq=0.000, loss_recon=0.000, loss_cls=0.933]\tVal_acc: 124/196 (63.27%)\n",
      "\n"
     ]
    },
    {
     "name": "stderr",
     "output_type": "stream",
     "text": [
      " 15%|███████████▌                                                                  | 14.762876579203585/100 [1:38:00<167:22:14, 7068.92s/it]"
     ]
    },
    {
     "name": "stdout",
     "output_type": "stream",
     "text": [
      "Epoch: 15\tLoss: 0.483 [perplexity=0.000, loss_vq=0.000, loss_recon=0.000, loss_cls=0.483]\tVal_acc: 124/196 (63.27%)\n",
      "\n"
     ]
    },
    {
     "name": "stderr",
     "output_type": "stream",
     "text": [
      " 16%|████████████▍                                                                  | 15.71525753158457/100 [1:44:30<164:13:26, 7014.39s/it]"
     ]
    },
    {
     "name": "stdout",
     "output_type": "stream",
     "text": [
      "Epoch: 16\tLoss: 0.172 [perplexity=0.000, loss_vq=0.000, loss_recon=0.000, loss_cls=0.172]\tVal_acc: 131/196 (66.84%)\n",
      "\n"
     ]
    },
    {
     "name": "stderr",
     "output_type": "stream",
     "text": [
      " 17%|█████████████                                                                 | 16.667638483964332/100 [1:50:58<162:36:36, 7024.84s/it]"
     ]
    },
    {
     "name": "stdout",
     "output_type": "stream",
     "text": [
      "Epoch: 17\tLoss: 0.708 [perplexity=0.000, loss_vq=0.000, loss_recon=0.000, loss_cls=0.708]\tVal_acc: 126/196 (64.29%)\n",
      "\n"
     ]
    },
    {
     "name": "stderr",
     "output_type": "stream",
     "text": [
      " 18%|█████████████▋                                                                | 17.620019436343576/100 [1:57:27<161:24:31, 7053.55s/it]"
     ]
    },
    {
     "name": "stdout",
     "output_type": "stream",
     "text": [
      "Epoch: 18\tLoss: 0.142 [perplexity=0.000, loss_vq=0.000, loss_recon=0.000, loss_cls=0.142]\tVal_acc: 129/196 (65.82%)\n",
      "\n"
     ]
    },
    {
     "name": "stderr",
     "output_type": "stream",
     "text": [
      " 19%|██████████████▋                                                                | 18.57240038872282/100 [2:03:55<158:44:03, 7017.81s/it]"
     ]
    },
    {
     "name": "stdout",
     "output_type": "stream",
     "text": [
      "Epoch: 19\tLoss: 0.906 [perplexity=0.000, loss_vq=0.000, loss_recon=0.000, loss_cls=0.906]\tVal_acc: 122/196 (62.24%)\n",
      "\n"
     ]
    },
    {
     "name": "stderr",
     "output_type": "stream",
     "text": [
      " 20%|███████████████▏                                                              | 19.524781341102063/100 [2:10:25<157:17:03, 7036.00s/it]"
     ]
    },
    {
     "name": "stdout",
     "output_type": "stream",
     "text": [
      "Epoch: 20\tLoss: 0.281 [perplexity=0.000, loss_vq=0.000, loss_recon=0.000, loss_cls=0.281]\tVal_acc: 120/196 (61.22%)\n",
      "\n"
     ]
    },
    {
     "name": "stderr",
     "output_type": "stream",
     "text": [
      " 20%|███████████████▉                                                              | 20.477162293481307/100 [2:16:55<155:29:36, 7039.19s/it]"
     ]
    },
    {
     "name": "stdout",
     "output_type": "stream",
     "text": [
      "Epoch: 21\tLoss: 0.862 [perplexity=0.000, loss_vq=0.000, loss_recon=0.000, loss_cls=0.862]\tVal_acc: 124/196 (63.27%)\n",
      "\n"
     ]
    },
    {
     "name": "stderr",
     "output_type": "stream",
     "text": [
      " 21%|█████████████████▎                                                               | 21.428571428562204/100 [2:22:12<6:02:44, 277.00s/it]"
     ]
    },
    {
     "name": "stdout",
     "output_type": "stream",
     "text": [
      "Correct: 560/980 (0.5714)\n",
      "{'acc_unweighted': tensor(0.5744, device='cuda:0'),\n",
      " 'acc_weighted': tensor(0.5714, device='cuda:0'),\n",
      " 'f1s_unweighted': tensor(0.5635, device='cuda:0'),\n",
      " 'f1s_weighted': tensor(0.5641, device='cuda:0'),\n",
      " 'rocauc': tensor(0.8301, device='cuda:0'),\n",
      " 'uar': tensor(0.5744, device='cuda:0'),\n",
      " 'wap': tensor(0.6125, device='cuda:0')}\n",
      "{'acc_detail': tensor([0.8189, 0.6560, 0.4252, 0.3976], device='cuda:0'),\n",
      " 'f1s_detail': tensor([0.7051, 0.5458, 0.5714, 0.4316], device='cuda:0'),\n",
      " 'precision_detail': tensor([0.6190, 0.4673, 0.8710, 0.4720], device='cuda:0'),\n",
      " 'recall_detail': tensor([0.8189, 0.6560, 0.4252, 0.3976], device='cuda:0'),\n",
      " 'rocauc_detail': tensor([0.8990, 0.8082, 0.8701, 0.7431], device='cuda:0')}\n",
      "tensor([[208,   8,   1,  37],\n",
      "        [ 17, 143,  12,  46],\n",
      "        [  7, 109, 108,  30],\n",
      "        [104,  46,   3, 101]], device='cuda:0')\n"
     ]
    },
    {
     "name": "stderr",
     "output_type": "stream",
     "text": [
      " 22%|█████████████████                                                             | 21.905733722050172/100 [2:25:38<152:19:21, 7021.80s/it]"
     ]
    },
    {
     "name": "stdout",
     "output_type": "stream",
     "text": [
      "Epoch: 22\tLoss: 0.221 [perplexity=0.000, loss_vq=0.000, loss_recon=0.000, loss_cls=0.221]\tVal_acc: 121/196 (61.73%)\n",
      "\n"
     ]
    },
    {
     "name": "stderr",
     "output_type": "stream",
     "text": [
      " 23%|█████████████████▊                                                            | 22.858114674429416/100 [2:32:07<150:25:26, 7019.88s/it]"
     ]
    },
    {
     "name": "stdout",
     "output_type": "stream",
     "text": [
      "Epoch: 23\tLoss: 0.376 [perplexity=0.000, loss_vq=0.000, loss_recon=0.000, loss_cls=0.376]\tVal_acc: 121/196 (61.73%)\n",
      "\n"
     ]
    },
    {
     "name": "stderr",
     "output_type": "stream",
     "text": [
      " 24%|██████████████████▊                                                            | 23.81049562680866/100 [2:38:36<149:56:52, 7085.13s/it]"
     ]
    },
    {
     "name": "stdout",
     "output_type": "stream",
     "text": [
      "Epoch: 24\tLoss: 0.151 [perplexity=0.000, loss_vq=0.000, loss_recon=0.000, loss_cls=0.151]\tVal_acc: 124/196 (63.27%)\n",
      "\n"
     ]
    },
    {
     "name": "stderr",
     "output_type": "stream",
     "text": [
      " 25%|███████████████████▎                                                          | 24.762876579187903/100 [2:45:06<146:22:59, 7004.24s/it]"
     ]
    },
    {
     "name": "stdout",
     "output_type": "stream",
     "text": [
      "Epoch: 25\tLoss: 0.038 [perplexity=0.000, loss_vq=0.000, loss_recon=0.000, loss_cls=0.038]\tVal_acc: 129/196 (65.82%)\n",
      "\n"
     ]
    },
    {
     "name": "stderr",
     "output_type": "stream",
     "text": [
      " 26%|████████████████████                                                          | 25.715257531567147/100 [2:51:36<145:22:40, 7045.32s/it]"
     ]
    },
    {
     "name": "stdout",
     "output_type": "stream",
     "text": [
      "Epoch: 26\tLoss: 0.087 [perplexity=0.000, loss_vq=0.000, loss_recon=0.000, loss_cls=0.087]\tVal_acc: 126/196 (64.29%)\n",
      "\n"
     ]
    },
    {
     "name": "stderr",
     "output_type": "stream",
     "text": [
      " 27%|█████████████████████                                                          | 26.66763848394639/100 [2:58:06<143:57:00, 7066.73s/it]"
     ]
    },
    {
     "name": "stdout",
     "output_type": "stream",
     "text": [
      "Epoch: 27\tLoss: 0.013 [perplexity=0.000, loss_vq=0.000, loss_recon=0.000, loss_cls=0.013]\tVal_acc: 125/196 (63.78%)\n",
      "\n"
     ]
    },
    {
     "name": "stderr",
     "output_type": "stream",
     "text": [
      " 28%|█████████████████████▌                                                        | 27.620019436325634/100 [3:04:37<141:14:20, 7024.88s/it]"
     ]
    },
    {
     "name": "stdout",
     "output_type": "stream",
     "text": [
      "Epoch: 28\tLoss: 0.532 [perplexity=0.000, loss_vq=0.000, loss_recon=0.000, loss_cls=0.532]\tVal_acc: 120/196 (61.22%)\n",
      "\n"
     ]
    },
    {
     "name": "stderr",
     "output_type": "stream",
     "text": [
      " 29%|██████████████████████▎                                                       | 28.572400388704878/100 [3:11:09<139:58:49, 7055.11s/it]"
     ]
    },
    {
     "name": "stdout",
     "output_type": "stream",
     "text": [
      "Epoch: 29\tLoss: 0.005 [perplexity=0.000, loss_vq=0.000, loss_recon=0.000, loss_cls=0.005]\tVal_acc: 125/196 (63.78%)\n",
      "\n"
     ]
    },
    {
     "name": "stderr",
     "output_type": "stream",
     "text": [
      " 30%|███████████████████████                                                       | 29.524781341084122/100 [3:17:40<138:06:21, 7054.70s/it]"
     ]
    },
    {
     "name": "stdout",
     "output_type": "stream",
     "text": [
      "Epoch: 30\tLoss: 0.014 [perplexity=0.000, loss_vq=0.000, loss_recon=0.000, loss_cls=0.014]\tVal_acc: 121/196 (61.73%)\n",
      "\n"
     ]
    },
    {
     "name": "stderr",
     "output_type": "stream",
     "text": [
      " 30%|███████████████████████▊                                                      | 30.477162293463365/100 [3:24:12<136:57:32, 7091.95s/it]"
     ]
    },
    {
     "name": "stdout",
     "output_type": "stream",
     "text": [
      "Epoch: 31\tLoss: 0.776 [perplexity=0.000, loss_vq=0.000, loss_recon=0.000, loss_cls=0.776]\tVal_acc: 113/196 (57.65%)\n",
      "\n"
     ]
    },
    {
     "name": "stderr",
     "output_type": "stream",
     "text": [
      " 31%|█████████████████████████▍                                                       | 31.428571428544263/100 [3:29:30<5:22:01, 281.77s/it]"
     ]
    },
    {
     "name": "stdout",
     "output_type": "stream",
     "text": [
      "Correct: 598/980 (0.6102)\n",
      "Saved new best test model: ../scb16_models/crema_d/model.epoch=31.step=22785.test_acc=0.6102.pt\n",
      "{'acc_unweighted': tensor(0.6086, device='cuda:0'),\n",
      " 'acc_weighted': tensor(0.6102, device='cuda:0'),\n",
      " 'f1s_unweighted': tensor(0.6097, device='cuda:0'),\n",
      " 'f1s_weighted': tensor(0.6121, device='cuda:0'),\n",
      " 'rocauc': tensor(0.8442, device='cuda:0'),\n",
      " 'uar': tensor(0.6086, device='cuda:0'),\n",
      " 'wap': tensor(0.6182, device='cuda:0')}\n",
      "{'acc_detail': tensor([0.6063, 0.5642, 0.7441, 0.5197], device='cuda:0'),\n",
      " 'f1s_detail': tensor([0.6667, 0.5467, 0.7228, 0.5029], device='cuda:0'),\n",
      " 'precision_detail': tensor([0.7404, 0.5302, 0.7026, 0.4871], device='cuda:0'),\n",
      " 'recall_detail': tensor([0.6063, 0.5642, 0.7441, 0.5197], device='cuda:0'),\n",
      " 'rocauc_detail': tensor([0.8958, 0.8227, 0.8956, 0.7626], device='cuda:0')}\n",
      "tensor([[154,  12,   5,  83],\n",
      "        [  3, 123,  58,  34],\n",
      "        [  1,  42, 189,  22],\n",
      "        [ 50,  55,  17, 132]], device='cuda:0')\n"
     ]
    },
    {
     "name": "stderr",
     "output_type": "stream",
     "text": [
      " 32%|█████████████████████████▏                                                     | 31.90573372203223/100 [3:32:57<132:59:07, 7030.66s/it]"
     ]
    },
    {
     "name": "stdout",
     "output_type": "stream",
     "text": [
      "Epoch: 32\tLoss: 0.008 [perplexity=0.000, loss_vq=0.000, loss_recon=0.000, loss_cls=0.008]\tVal_acc: 120/196 (61.22%)\n",
      "\n"
     ]
    },
    {
     "name": "stderr",
     "output_type": "stream",
     "text": [
      " 33%|█████████████████████████▉                                                     | 32.85811467441461/100 [3:39:30<132:38:01, 7111.53s/it]"
     ]
    },
    {
     "name": "stdout",
     "output_type": "stream",
     "text": [
      "Epoch: 33\tLoss: 0.002 [perplexity=0.000, loss_vq=0.000, loss_recon=0.000, loss_cls=0.002]\tVal_acc: 115/196 (58.67%)\n",
      "\n"
     ]
    },
    {
     "name": "stderr",
     "output_type": "stream",
     "text": [
      " 34%|██████████████████████████▎                                                   | 33.810495626797334/100 [3:46:03<132:13:24, 7191.55s/it]"
     ]
    },
    {
     "name": "stdout",
     "output_type": "stream",
     "text": [
      "Epoch: 34\tLoss: 0.013 [perplexity=0.000, loss_vq=0.000, loss_recon=0.000, loss_cls=0.013]\tVal_acc: 117/196 (59.69%)\n",
      "\n"
     ]
    },
    {
     "name": "stderr",
     "output_type": "stream",
     "text": [
      " 35%|███████████████████████████▍                                                   | 34.76287657918006/100 [3:52:36<128:21:09, 7082.93s/it]"
     ]
    },
    {
     "name": "stdout",
     "output_type": "stream",
     "text": [
      "Epoch: 35\tLoss: 0.293 [perplexity=0.000, loss_vq=0.000, loss_recon=0.000, loss_cls=0.293]\tVal_acc: 108/196 (55.10%)\n",
      "\n"
     ]
    },
    {
     "name": "stderr",
     "output_type": "stream",
     "text": [
      " 36%|███████████████████████████▊                                                  | 35.715257531562784/100 [3:59:11<127:01:21, 7113.37s/it]"
     ]
    },
    {
     "name": "stdout",
     "output_type": "stream",
     "text": [
      "Epoch: 36\tLoss: 0.525 [perplexity=0.000, loss_vq=0.000, loss_recon=0.000, loss_cls=0.525]\tVal_acc: 122/196 (62.24%)\n",
      "\n"
     ]
    },
    {
     "name": "stderr",
     "output_type": "stream",
     "text": [
      " 37%|████████████████████████████▉                                                  | 36.66763848394551/100 [4:05:46<124:32:11, 7079.02s/it]"
     ]
    },
    {
     "name": "stdout",
     "output_type": "stream",
     "text": [
      "Epoch: 37\tLoss: 0.066 [perplexity=0.000, loss_vq=0.000, loss_recon=0.000, loss_cls=0.066]\tVal_acc: 118/196 (60.20%)\n",
      "\n"
     ]
    },
    {
     "name": "stderr",
     "output_type": "stream",
     "text": [
      " 38%|█████████████████████████████▎                                                | 37.620019436328235/100 [4:12:19<120:15:18, 6940.03s/it]"
     ]
    },
    {
     "name": "stdout",
     "output_type": "stream",
     "text": [
      "Epoch: 38\tLoss: 0.138 [perplexity=0.000, loss_vq=0.000, loss_recon=0.000, loss_cls=0.138]\tVal_acc: 116/196 (59.18%)\n",
      "\n"
     ]
    },
    {
     "name": "stderr",
     "output_type": "stream",
     "text": [
      " 39%|██████████████████████████████▍                                                | 38.57240038871096/100 [4:18:53<122:08:33, 7158.24s/it]"
     ]
    },
    {
     "name": "stdout",
     "output_type": "stream",
     "text": [
      "Epoch: 39\tLoss: 0.104 [perplexity=0.000, loss_vq=0.000, loss_recon=0.000, loss_cls=0.104]\tVal_acc: 109/196 (55.61%)\n",
      "\n"
     ]
    },
    {
     "name": "stderr",
     "output_type": "stream",
     "text": [
      " 40%|██████████████████████████████▊                                               | 39.524781341093686/100 [4:25:28<119:45:11, 7128.73s/it]"
     ]
    },
    {
     "name": "stdout",
     "output_type": "stream",
     "text": [
      "Epoch: 40\tLoss: 0.039 [perplexity=0.000, loss_vq=0.000, loss_recon=0.000, loss_cls=0.039]\tVal_acc: 121/196 (61.73%)\n",
      "\n"
     ]
    },
    {
     "name": "stderr",
     "output_type": "stream",
     "text": [
      " 40%|███████████████████████████████▉                                               | 40.47716229347641/100 [4:32:03<117:30:38, 7107.17s/it]"
     ]
    },
    {
     "name": "stdout",
     "output_type": "stream",
     "text": [
      "Epoch: 41\tLoss: 0.012 [perplexity=0.000, loss_vq=0.000, loss_recon=0.000, loss_cls=0.012]\tVal_acc: 119/196 (60.71%)\n",
      "\n"
     ]
    },
    {
     "name": "stderr",
     "output_type": "stream",
     "text": [
      " 41%|█████████████████████████████████▉                                                | 41.42857142856079/100 [4:37:25<4:36:08, 282.87s/it]"
     ]
    },
    {
     "name": "stdout",
     "output_type": "stream",
     "text": [
      "Correct: 588/980 (0.6000)\n",
      "{'acc_unweighted': tensor(0.5987, device='cuda:0'),\n",
      " 'acc_weighted': tensor(0.6000, device='cuda:0'),\n",
      " 'f1s_unweighted': tensor(0.5974, device='cuda:0'),\n",
      " 'f1s_weighted': tensor(0.5998, device='cuda:0'),\n",
      " 'rocauc': tensor(0.8367, device='cuda:0'),\n",
      " 'uar': tensor(0.5987, device='cuda:0'),\n",
      " 'wap': tensor(0.6019, device='cuda:0')}\n",
      "{'acc_detail': tensor([0.7323, 0.5642, 0.6457, 0.4528], device='cuda:0'),\n",
      " 'f1s_detail': tensor([0.7086, 0.5336, 0.6791, 0.4684], device='cuda:0'),\n",
      " 'precision_detail': tensor([0.6863, 0.5062, 0.7162, 0.4852], device='cuda:0'),\n",
      " 'recall_detail': tensor([0.7323, 0.5642, 0.6457, 0.4528], device='cuda:0'),\n",
      " 'rocauc_detail': tensor([0.8981, 0.8230, 0.8885, 0.7371], device='cuda:0')}\n",
      "tensor([[186,  12,   3,  53],\n",
      "        [  8, 123,  46,  41],\n",
      "        [  1,  61, 164,  28],\n",
      "        [ 76,  47,  16, 115]], device='cuda:0')\n"
     ]
    },
    {
     "name": "stderr",
     "output_type": "stream",
     "text": [
      " 42%|█████████████████████████████████▌                                              | 41.9057337220505/100 [4:40:54<114:19:03, 7084.07s/it]"
     ]
    },
    {
     "name": "stdout",
     "output_type": "stream",
     "text": [
      "Epoch: 42\tLoss: 0.005 [perplexity=0.000, loss_vq=0.000, loss_recon=0.000, loss_cls=0.005]\tVal_acc: 120/196 (61.22%)\n",
      "\n"
     ]
    },
    {
     "name": "stderr",
     "output_type": "stream",
     "text": [
      " 43%|█████████████████████████████████▍                                            | 42.858114674433224/100 [4:47:28<113:04:22, 7123.72s/it]"
     ]
    },
    {
     "name": "stdout",
     "output_type": "stream",
     "text": [
      "Epoch: 43\tLoss: 0.003 [perplexity=0.000, loss_vq=0.000, loss_recon=0.000, loss_cls=0.003]\tVal_acc: 124/196 (63.27%)\n",
      "\n"
     ]
    },
    {
     "name": "stderr",
     "output_type": "stream",
     "text": [
      " 44%|██████████████████████████████████▌                                            | 43.81049562681595/100 [4:54:04<111:27:51, 7141.40s/it]"
     ]
    },
    {
     "name": "stdout",
     "output_type": "stream",
     "text": [
      "Epoch: 44\tLoss: 0.010 [perplexity=0.000, loss_vq=0.000, loss_recon=0.000, loss_cls=0.010]\tVal_acc: 115/196 (58.67%)\n",
      "\n"
     ]
    },
    {
     "name": "stderr",
     "output_type": "stream",
     "text": [
      " 45%|██████████████████████████████████▉                                           | 44.762876579198675/100 [5:00:40<110:37:13, 7209.53s/it]"
     ]
    },
    {
     "name": "stdout",
     "output_type": "stream",
     "text": [
      "Epoch: 45\tLoss: 0.006 [perplexity=0.000, loss_vq=0.000, loss_recon=0.000, loss_cls=0.006]\tVal_acc: 109/196 (55.61%)\n",
      "\n"
     ]
    },
    {
     "name": "stderr",
     "output_type": "stream",
     "text": [
      " 46%|████████████████████████████████████▌                                           | 45.7152575315814/100 [5:07:16<108:14:52, 7178.68s/it]"
     ]
    },
    {
     "name": "stdout",
     "output_type": "stream",
     "text": [
      "Epoch: 46\tLoss: 0.009 [perplexity=0.000, loss_vq=0.000, loss_recon=0.000, loss_cls=0.009]\tVal_acc: 124/196 (63.27%)\n",
      "\n"
     ]
    },
    {
     "name": "stderr",
     "output_type": "stream",
     "text": [
      " 47%|████████████████████████████████████▍                                         | 46.667638483964126/100 [5:13:53<105:59:01, 7154.04s/it]"
     ]
    },
    {
     "name": "stdout",
     "output_type": "stream",
     "text": [
      "Epoch: 47\tLoss: 0.000 [perplexity=0.000, loss_vq=0.000, loss_recon=0.000, loss_cls=0.000]\tVal_acc: 118/196 (60.20%)\n",
      "\n"
     ]
    },
    {
     "name": "stderr",
     "output_type": "stream",
     "text": [
      " 48%|█████████████████████████████████████▌                                         | 47.62001943634685/100 [5:20:29<103:31:40, 7115.33s/it]"
     ]
    },
    {
     "name": "stdout",
     "output_type": "stream",
     "text": [
      "Epoch: 48\tLoss: 0.006 [perplexity=0.000, loss_vq=0.000, loss_recon=0.000, loss_cls=0.006]\tVal_acc: 110/196 (56.12%)\n",
      "\n"
     ]
    },
    {
     "name": "stderr",
     "output_type": "stream",
     "text": [
      " 49%|██████████████████████████████████████▎                                        | 48.57240038872958/100 [5:27:07<103:03:50, 7214.62s/it]"
     ]
    },
    {
     "name": "stdout",
     "output_type": "stream",
     "text": [
      "Epoch: 49\tLoss: 0.053 [perplexity=0.000, loss_vq=0.000, loss_recon=0.000, loss_cls=0.053]\tVal_acc: 124/196 (63.27%)\n",
      "\n"
     ]
    },
    {
     "name": "stderr",
     "output_type": "stream",
     "text": [
      " 50%|███████████████████████████████████████▌                                        | 49.5247813411123/100 [5:33:46<100:11:05, 7145.40s/it]"
     ]
    },
    {
     "name": "stdout",
     "output_type": "stream",
     "text": [
      "Epoch: 50\tLoss: 0.396 [perplexity=0.000, loss_vq=0.000, loss_recon=0.000, loss_cls=0.396]\tVal_acc: 117/196 (59.69%)\n",
      "\n"
     ]
    },
    {
     "name": "stderr",
     "output_type": "stream",
     "text": [
      " 50%|████████████████████████████████████████▍                                       | 50.47716229349503/100 [5:40:24<98:12:04, 7138.62s/it]"
     ]
    },
    {
     "name": "stdout",
     "output_type": "stream",
     "text": [
      "Epoch: 51\tLoss: 0.006 [perplexity=0.000, loss_vq=0.000, loss_recon=0.000, loss_cls=0.006]\tVal_acc: 120/196 (61.22%)\n",
      "\n"
     ]
    },
    {
     "name": "stderr",
     "output_type": "stream",
     "text": [
      " 51%|██████████████████████████████████████████▋                                        | 51.4285714285794/100 [5:45:50<3:52:31, 287.23s/it]"
     ]
    },
    {
     "name": "stdout",
     "output_type": "stream",
     "text": [
      "Correct: 578/980 (0.5898)\n",
      "{'acc_unweighted': tensor(0.5908, device='cuda:0'),\n",
      " 'acc_weighted': tensor(0.5898, device='cuda:0'),\n",
      " 'f1s_unweighted': tensor(0.5933, device='cuda:0'),\n",
      " 'f1s_weighted': tensor(0.5944, device='cuda:0'),\n",
      " 'rocauc': tensor(0.8334, device='cuda:0'),\n",
      " 'uar': tensor(0.5908, device='cuda:0'),\n",
      " 'wap': tensor(0.6227, device='cuda:0')}\n",
      "{'acc_detail': tensor([0.6969, 0.6193, 0.5079, 0.5394], device='cuda:0'),\n",
      " 'f1s_detail': tensor([0.6874, 0.5637, 0.6293, 0.4928], device='cuda:0'),\n",
      " 'precision_detail': tensor([0.6782, 0.5172, 0.8269, 0.4536], device='cuda:0'),\n",
      " 'recall_detail': tensor([0.6969, 0.6193, 0.5079, 0.5394], device='cuda:0'),\n",
      " 'rocauc_detail': tensor([0.8928, 0.8227, 0.8875, 0.7305], device='cuda:0')}\n",
      "tensor([[177,   8,   2,  67],\n",
      "        [  9, 135,  16,  58],\n",
      "        [  3,  82, 129,  40],\n",
      "        [ 72,  36,   9, 137]], device='cuda:0')\n"
     ]
    },
    {
     "name": "stderr",
     "output_type": "stream",
     "text": [
      " 52%|█████████████████████████████████████████                                      | 51.905733722069115/100 [5:49:20<95:40:16, 7161.27s/it]"
     ]
    },
    {
     "name": "stdout",
     "output_type": "stream",
     "text": [
      "Epoch: 52\tLoss: 0.000 [perplexity=0.000, loss_vq=0.000, loss_recon=0.000, loss_cls=0.000]\tVal_acc: 119/196 (60.71%)\n",
      "\n"
     ]
    },
    {
     "name": "stderr",
     "output_type": "stream",
     "text": [
      " 53%|██████████████████████████████████████████▎                                     | 52.85811467445184/100 [5:55:59<93:46:34, 7161.24s/it]"
     ]
    },
    {
     "name": "stdout",
     "output_type": "stream",
     "text": [
      "Epoch: 53\tLoss: 0.003 [perplexity=0.000, loss_vq=0.000, loss_recon=0.000, loss_cls=0.003]\tVal_acc: 118/196 (60.20%)\n",
      "\n"
     ]
    },
    {
     "name": "stderr",
     "output_type": "stream",
     "text": [
      " 54%|██████████████████████████████████████████▌                                    | 53.810495626834566/100 [6:02:37<91:50:47, 7158.50s/it]"
     ]
    },
    {
     "name": "stdout",
     "output_type": "stream",
     "text": [
      "Epoch: 54\tLoss: 0.004 [perplexity=0.000, loss_vq=0.000, loss_recon=0.000, loss_cls=0.004]\tVal_acc: 126/196 (64.29%)\n",
      "\n"
     ]
    },
    {
     "name": "stderr",
     "output_type": "stream",
     "text": [
      " 55%|███████████████████████████████████████████▊                                    | 54.76287657921729/100 [6:09:21<92:52:59, 7391.70s/it]"
     ]
    },
    {
     "name": "stdout",
     "output_type": "stream",
     "text": [
      "Epoch: 55\tLoss: 0.000 [perplexity=0.000, loss_vq=0.000, loss_recon=0.000, loss_cls=0.000]\tVal_acc: 120/196 (61.22%)\n",
      "\n"
     ]
    },
    {
     "name": "stderr",
     "output_type": "stream",
     "text": [
      " 56%|████████████████████████████████████████████▌                                   | 55.71525753160002/100 [6:16:20<92:39:24, 7532.27s/it]"
     ]
    },
    {
     "name": "stdout",
     "output_type": "stream",
     "text": [
      "Epoch: 56\tLoss: 0.001 [perplexity=0.000, loss_vq=0.000, loss_recon=0.000, loss_cls=0.001]\tVal_acc: 113/196 (57.65%)\n",
      "\n"
     ]
    },
    {
     "name": "stderr",
     "output_type": "stream",
     "text": [
      " 57%|█████████████████████████████████████████████▎                                  | 56.66763848398274/100 [6:23:17<90:44:49, 7539.16s/it]"
     ]
    },
    {
     "name": "stdout",
     "output_type": "stream",
     "text": [
      "Epoch: 57\tLoss: 0.002 [perplexity=0.000, loss_vq=0.000, loss_recon=0.000, loss_cls=0.002]\tVal_acc: 119/196 (60.71%)\n",
      "\n"
     ]
    },
    {
     "name": "stderr",
     "output_type": "stream",
     "text": [
      " 58%|██████████████████████████████████████████████                                  | 57.62001943636547/100 [6:30:16<89:07:41, 7571.06s/it]"
     ]
    },
    {
     "name": "stdout",
     "output_type": "stream",
     "text": [
      "Epoch: 58\tLoss: 0.000 [perplexity=0.000, loss_vq=0.000, loss_recon=0.000, loss_cls=0.000]\tVal_acc: 120/196 (61.22%)\n",
      "\n"
     ]
    },
    {
     "name": "stderr",
     "output_type": "stream",
     "text": [
      " 59%|██████████████████████████████████████████████▊                                 | 58.57240038874819/100 [6:37:15<86:18:39, 7500.29s/it]"
     ]
    },
    {
     "name": "stdout",
     "output_type": "stream",
     "text": [
      "Epoch: 59\tLoss: 0.007 [perplexity=0.000, loss_vq=0.000, loss_recon=0.000, loss_cls=0.007]\tVal_acc: 121/196 (61.73%)\n",
      "\n"
     ]
    },
    {
     "name": "stderr",
     "output_type": "stream",
     "text": [
      " 60%|███████████████████████████████████████████████▌                                | 59.52478134113092/100 [6:44:12<84:11:41, 7488.56s/it]"
     ]
    },
    {
     "name": "stdout",
     "output_type": "stream",
     "text": [
      "Epoch: 60\tLoss: 0.075 [perplexity=0.000, loss_vq=0.000, loss_recon=0.000, loss_cls=0.075]\tVal_acc: 119/196 (60.71%)\n",
      "\n"
     ]
    },
    {
     "name": "stderr",
     "output_type": "stream",
     "text": [
      " 60%|████████████████████████████████████████████████▍                               | 60.47716229351364/100 [6:51:10<82:07:23, 7480.33s/it]"
     ]
    },
    {
     "name": "stdout",
     "output_type": "stream",
     "text": [
      "Epoch: 61\tLoss: 0.000 [perplexity=0.000, loss_vq=0.000, loss_recon=0.000, loss_cls=0.000]\tVal_acc: 120/196 (61.22%)\n",
      "\n"
     ]
    },
    {
     "name": "stderr",
     "output_type": "stream",
     "text": [
      " 61%|██████████████████████████████████████████████████▎                               | 61.42857142859802/100 [6:56:48<3:10:28, 296.31s/it]"
     ]
    },
    {
     "name": "stdout",
     "output_type": "stream",
     "text": [
      "Correct: 592/980 (0.6041)\n",
      "{'acc_unweighted': tensor(0.6045, device='cuda:0'),\n",
      " 'acc_weighted': tensor(0.6041, device='cuda:0'),\n",
      " 'f1s_unweighted': tensor(0.6083, device='cuda:0'),\n",
      " 'f1s_weighted': tensor(0.6096, device='cuda:0'),\n",
      " 'rocauc': tensor(0.8366, device='cuda:0'),\n",
      " 'uar': tensor(0.6045, device='cuda:0'),\n",
      " 'wap': tensor(0.6291, device='cuda:0')}\n",
      "{'acc_detail': tensor([0.6693, 0.6147, 0.5669, 0.5669], device='cuda:0'),\n",
      " 'f1s_detail': tensor([0.6827, 0.5726, 0.6636, 0.5143], device='cuda:0'),\n",
      " 'precision_detail': tensor([0.6967, 0.5360, 0.8000, 0.4706], device='cuda:0'),\n",
      " 'recall_detail': tensor([0.6693, 0.6147, 0.5669, 0.5669], device='cuda:0'),\n",
      " 'rocauc_detail': tensor([0.8926, 0.8299, 0.8835, 0.7405], device='cuda:0')}\n",
      "tensor([[170,   8,   2,  74],\n",
      "        [  6, 134,  22,  56],\n",
      "        [  3,  75, 144,  32],\n",
      "        [ 65,  33,  12, 144]], device='cuda:0')\n"
     ]
    },
    {
     "name": "stderr",
     "output_type": "stream",
     "text": [
      " 62%|█████████████████████████████████████████████████▌                              | 61.90573372208773/100 [7:00:30<79:47:19, 7540.24s/it]"
     ]
    },
    {
     "name": "stdout",
     "output_type": "stream",
     "text": [
      "Epoch: 62\tLoss: 0.066 [perplexity=0.000, loss_vq=0.000, loss_recon=0.000, loss_cls=0.066]\tVal_acc: 98/196 (50.00%)\n",
      "\n"
     ]
    },
    {
     "name": "stderr",
     "output_type": "stream",
     "text": [
      " 63%|██████████████████████████████████████████████████▎                             | 62.85811467447046/100 [7:07:29<78:49:40, 7640.44s/it]"
     ]
    },
    {
     "name": "stdout",
     "output_type": "stream",
     "text": [
      "Epoch: 63\tLoss: 0.001 [perplexity=0.000, loss_vq=0.000, loss_recon=0.000, loss_cls=0.001]\tVal_acc: 117/196 (59.69%)\n",
      "\n"
     ]
    },
    {
     "name": "stderr",
     "output_type": "stream",
     "text": [
      " 64%|███████████████████████████████████████████████████                             | 63.81049562685318/100 [7:14:30<75:38:53, 7525.20s/it]"
     ]
    },
    {
     "name": "stdout",
     "output_type": "stream",
     "text": [
      "Epoch: 64\tLoss: 0.000 [perplexity=0.000, loss_vq=0.000, loss_recon=0.000, loss_cls=0.000]\tVal_acc: 119/196 (60.71%)\n",
      "\n"
     ]
    },
    {
     "name": "stderr",
     "output_type": "stream",
     "text": [
      " 65%|███████████████████████████████████████████████████▊                            | 64.76287657923591/100 [7:21:30<72:12:55, 7377.90s/it]"
     ]
    },
    {
     "name": "stdout",
     "output_type": "stream",
     "text": [
      "Epoch: 65\tLoss: 0.003 [perplexity=0.000, loss_vq=0.000, loss_recon=0.000, loss_cls=0.003]\tVal_acc: 117/196 (59.69%)\n",
      "\n"
     ]
    },
    {
     "name": "stderr",
     "output_type": "stream",
     "text": [
      " 66%|████████████████████████████████████████████████████▌                           | 65.71525753161863/100 [7:28:30<71:05:00, 7463.96s/it]"
     ]
    },
    {
     "name": "stdout",
     "output_type": "stream",
     "text": [
      "Epoch: 66\tLoss: 0.520 [perplexity=0.000, loss_vq=0.000, loss_recon=0.000, loss_cls=0.520]\tVal_acc: 119/196 (60.71%)\n",
      "\n"
     ]
    },
    {
     "name": "stderr",
     "output_type": "stream",
     "text": [
      " 67%|█████████████████████████████████████████████████████▎                          | 66.66763848400136/100 [7:35:33<69:48:41, 7539.86s/it]"
     ]
    },
    {
     "name": "stdout",
     "output_type": "stream",
     "text": [
      "Epoch: 67\tLoss: 0.000 [perplexity=0.000, loss_vq=0.000, loss_recon=0.000, loss_cls=0.000]\tVal_acc: 121/196 (61.73%)\n",
      "\n"
     ]
    },
    {
     "name": "stderr",
     "output_type": "stream",
     "text": [
      " 68%|██████████████████████████████████████████████████████                          | 67.62001943638408/100 [7:42:34<68:05:42, 7570.79s/it]"
     ]
    },
    {
     "name": "stdout",
     "output_type": "stream",
     "text": [
      "Epoch: 68\tLoss: 0.000 [perplexity=0.000, loss_vq=0.000, loss_recon=0.000, loss_cls=0.000]\tVal_acc: 123/196 (62.76%)\n",
      "\n"
     ]
    },
    {
     "name": "stderr",
     "output_type": "stream",
     "text": [
      " 69%|██████████████████████████████████████████████████████▊                         | 68.57240038876681/100 [7:49:36<65:56:28, 7553.50s/it]"
     ]
    },
    {
     "name": "stdout",
     "output_type": "stream",
     "text": [
      "Epoch: 69\tLoss: 0.007 [perplexity=0.000, loss_vq=0.000, loss_recon=0.000, loss_cls=0.007]\tVal_acc: 116/196 (59.18%)\n",
      "\n"
     ]
    },
    {
     "name": "stderr",
     "output_type": "stream",
     "text": [
      " 70%|███████████████████████████████████████████████████████▌                        | 69.52478134114953/100 [7:56:40<64:11:42, 7583.29s/it]"
     ]
    },
    {
     "name": "stdout",
     "output_type": "stream",
     "text": [
      "Epoch: 70\tLoss: 0.040 [perplexity=0.000, loss_vq=0.000, loss_recon=0.000, loss_cls=0.040]\tVal_acc: 118/196 (60.20%)\n",
      "\n"
     ]
    },
    {
     "name": "stderr",
     "output_type": "stream",
     "text": [
      " 70%|████████████████████████████████████████████████████████▍                       | 70.47716229353226/100 [8:03:42<62:31:15, 7623.79s/it]"
     ]
    },
    {
     "name": "stdout",
     "output_type": "stream",
     "text": [
      "Epoch: 71\tLoss: 0.004 [perplexity=0.000, loss_vq=0.000, loss_recon=0.000, loss_cls=0.004]\tVal_acc: 125/196 (63.78%)\n",
      "\n"
     ]
    },
    {
     "name": "stderr",
     "output_type": "stream",
     "text": [
      " 71%|██████████████████████████████████████████████████████████▌                       | 71.42857142861664/100 [8:09:23<2:20:41, 295.44s/it]"
     ]
    },
    {
     "name": "stdout",
     "output_type": "stream",
     "text": [
      "Correct: 600/980 (0.6122)\n",
      "Saved new best test model: ../scb16_models/crema_d/model.epoch=71.step=52185.test_acc=0.6122.pt\n",
      "{'acc_unweighted': tensor(0.6117, device='cuda:0'),\n",
      " 'acc_weighted': tensor(0.6122, device='cuda:0'),\n",
      " 'f1s_unweighted': tensor(0.6114, device='cuda:0'),\n",
      " 'f1s_weighted': tensor(0.6127, device='cuda:0'),\n",
      " 'rocauc': tensor(0.8291, device='cuda:0'),\n",
      " 'uar': tensor(0.6117, device='cuda:0'),\n",
      " 'wap': tensor(0.6217, device='cuda:0')}\n",
      "{'acc_detail': tensor([0.7638, 0.5963, 0.5906, 0.4961], device='cuda:0'),\n",
      " 'f1s_detail': tensor([0.7106, 0.5740, 0.6696, 0.4912], device='cuda:0'),\n",
      " 'precision_detail': tensor([0.6644, 0.5532, 0.7732, 0.4865], device='cuda:0'),\n",
      " 'recall_detail': tensor([0.7638, 0.5963, 0.5906, 0.4961], device='cuda:0'),\n",
      " 'rocauc_detail': tensor([0.8955, 0.8304, 0.8857, 0.7048], device='cuda:0')}\n",
      "tensor([[194,  10,   1,  49],\n",
      "        [  7, 130,  28,  53],\n",
      "        [  4,  69, 150,  31],\n",
      "        [ 87,  26,  15, 126]], device='cuda:0')\n"
     ]
    },
    {
     "name": "stderr",
     "output_type": "stream",
     "text": [
      " 72%|█████████████████████████████████████████████████████████▌                      | 71.90573372210635/100 [8:13:07<58:54:18, 7548.10s/it]"
     ]
    },
    {
     "name": "stdout",
     "output_type": "stream",
     "text": [
      "Epoch: 72\tLoss: 0.000 [perplexity=0.000, loss_vq=0.000, loss_recon=0.000, loss_cls=0.000]\tVal_acc: 124/196 (63.27%)\n",
      "\n"
     ]
    },
    {
     "name": "stderr",
     "output_type": "stream",
     "text": [
      " 73%|██████████████████████████████████████████████████████████▎                     | 72.85811467448907/100 [8:20:10<56:57:29, 7554.71s/it]"
     ]
    },
    {
     "name": "stdout",
     "output_type": "stream",
     "text": [
      "Epoch: 73\tLoss: 0.001 [perplexity=0.000, loss_vq=0.000, loss_recon=0.000, loss_cls=0.001]\tVal_acc: 123/196 (62.76%)\n",
      "\n"
     ]
    },
    {
     "name": "stderr",
     "output_type": "stream",
     "text": [
      " 74%|███████████████████████████████████████████████████████████▊                     | 73.8104956268718/100 [8:27:13<54:50:02, 7537.46s/it]"
     ]
    },
    {
     "name": "stdout",
     "output_type": "stream",
     "text": [
      "Epoch: 74\tLoss: 0.000 [perplexity=0.000, loss_vq=0.000, loss_recon=0.000, loss_cls=0.000]\tVal_acc: 122/196 (62.24%)\n",
      "\n"
     ]
    },
    {
     "name": "stderr",
     "output_type": "stream",
     "text": [
      " 75%|███████████████████████████████████████████████████████████▊                    | 74.76287657925452/100 [8:34:15<53:27:54, 7626.65s/it]"
     ]
    },
    {
     "name": "stdout",
     "output_type": "stream",
     "text": [
      "Epoch: 75\tLoss: 0.013 [perplexity=0.000, loss_vq=0.000, loss_recon=0.000, loss_cls=0.013]\tVal_acc: 126/196 (64.29%)\n",
      "\n"
     ]
    },
    {
     "name": "stderr",
     "output_type": "stream",
     "text": [
      " 76%|████████████████████████████████████████████████████████████▌                   | 75.71525753163725/100 [8:41:18<51:15:16, 7598.03s/it]"
     ]
    },
    {
     "name": "stdout",
     "output_type": "stream",
     "text": [
      "Epoch: 76\tLoss: 0.397 [perplexity=0.000, loss_vq=0.000, loss_recon=0.000, loss_cls=0.397]\tVal_acc: 119/196 (60.71%)\n",
      "\n"
     ]
    },
    {
     "name": "stderr",
     "output_type": "stream",
     "text": [
      " 77%|█████████████████████████████████████████████████████████████▎                  | 76.66763848401997/100 [8:48:21<49:13:23, 7594.73s/it]"
     ]
    },
    {
     "name": "stdout",
     "output_type": "stream",
     "text": [
      "Epoch: 77\tLoss: 0.106 [perplexity=0.000, loss_vq=0.000, loss_recon=0.000, loss_cls=0.106]\tVal_acc: 116/196 (59.18%)\n",
      "\n"
     ]
    },
    {
     "name": "stderr",
     "output_type": "stream",
     "text": [
      " 78%|██████████████████████████████████████████████████████████████▊                  | 77.6200194364027/100 [8:55:25<47:47:35, 7687.91s/it]"
     ]
    },
    {
     "name": "stdout",
     "output_type": "stream",
     "text": [
      "Epoch: 78\tLoss: 0.000 [perplexity=0.000, loss_vq=0.000, loss_recon=0.000, loss_cls=0.000]\tVal_acc: 117/196 (59.69%)\n",
      "\n"
     ]
    },
    {
     "name": "stderr",
     "output_type": "stream",
     "text": [
      " 79%|██████████████████████████████████████████████████████████████▊                 | 78.57240038878543/100 [9:02:28<45:02:58, 7568.67s/it]"
     ]
    },
    {
     "name": "stdout",
     "output_type": "stream",
     "text": [
      "Epoch: 79\tLoss: 0.022 [perplexity=0.000, loss_vq=0.000, loss_recon=0.000, loss_cls=0.022]\tVal_acc: 117/196 (59.69%)\n",
      "\n"
     ]
    },
    {
     "name": "stderr",
     "output_type": "stream",
     "text": [
      " 80%|███████████████████████████████████████████████████████████████▌                | 79.52478134116815/100 [9:09:33<43:13:22, 7599.54s/it]"
     ]
    },
    {
     "name": "stdout",
     "output_type": "stream",
     "text": [
      "Epoch: 80\tLoss: 0.001 [perplexity=0.000, loss_vq=0.000, loss_recon=0.000, loss_cls=0.001]\tVal_acc: 123/196 (62.76%)\n",
      "\n"
     ]
    },
    {
     "name": "stderr",
     "output_type": "stream",
     "text": [
      " 80%|████████████████████████████████████████████████████████████████▍               | 80.47716229355088/100 [9:16:40<40:57:55, 7553.99s/it]"
     ]
    },
    {
     "name": "stdout",
     "output_type": "stream",
     "text": [
      "Epoch: 81\tLoss: 0.008 [perplexity=0.000, loss_vq=0.000, loss_recon=0.000, loss_cls=0.008]\tVal_acc: 122/196 (62.24%)\n",
      "\n"
     ]
    },
    {
     "name": "stderr",
     "output_type": "stream",
     "text": [
      " 81%|██████████████████████████████████████████████████████████████████▊               | 81.42857142863525/100 [9:22:22<1:33:45, 302.92s/it]"
     ]
    },
    {
     "name": "stdout",
     "output_type": "stream",
     "text": [
      "Correct: 591/980 (0.6031)\n",
      "{'acc_unweighted': tensor(0.6059, device='cuda:0'),\n",
      " 'acc_weighted': tensor(0.6031, device='cuda:0'),\n",
      " 'f1s_unweighted': tensor(0.5925, device='cuda:0'),\n",
      " 'f1s_weighted': tensor(0.5928, device='cuda:0'),\n",
      " 'rocauc': tensor(0.8367, device='cuda:0'),\n",
      " 'uar': tensor(0.6059, device='cuda:0'),\n",
      " 'wap': tensor(0.6007, device='cuda:0')}\n",
      "{'acc_detail': tensor([0.7480, 0.6835, 0.6772, 0.3150], device='cuda:0'),\n",
      " 'f1s_detail': tensor([0.6960, 0.5843, 0.7049, 0.3846], device='cuda:0'),\n",
      " 'precision_detail': tensor([0.6507, 0.5103, 0.7350, 0.4938], device='cuda:0'),\n",
      " 'recall_detail': tensor([0.7480, 0.6835, 0.6772, 0.3150], device='cuda:0'),\n",
      " 'rocauc_detail': tensor([0.8957, 0.8276, 0.8880, 0.7356], device='cuda:0')}\n",
      "tensor([[190,  17,   1,  46],\n",
      "        [  5, 149,  43,  21],\n",
      "        [  5,  62, 172,  15],\n",
      "        [ 92,  64,  18,  80]], device='cuda:0')\n"
     ]
    },
    {
     "name": "stderr",
     "output_type": "stream",
     "text": [
      " 82%|█████████████████████████████████████████████████████████████████▌              | 81.90573372212496/100 [9:26:07<38:43:35, 7704.96s/it]"
     ]
    },
    {
     "name": "stdout",
     "output_type": "stream",
     "text": [
      "Epoch: 82\tLoss: 0.003 [perplexity=0.000, loss_vq=0.000, loss_recon=0.000, loss_cls=0.003]\tVal_acc: 119/196 (60.71%)\n",
      "\n"
     ]
    },
    {
     "name": "stderr",
     "output_type": "stream",
     "text": [
      " 83%|██████████████████████████████████████████████████████████████████▎             | 82.85811467450769/100 [9:33:12<36:15:21, 7614.19s/it]"
     ]
    },
    {
     "name": "stdout",
     "output_type": "stream",
     "text": [
      "Epoch: 83\tLoss: 0.002 [perplexity=0.000, loss_vq=0.000, loss_recon=0.000, loss_cls=0.002]\tVal_acc: 121/196 (61.73%)\n",
      "\n"
     ]
    },
    {
     "name": "stderr",
     "output_type": "stream",
     "text": [
      " 84%|███████████████████████████████████████████████████████████████████             | 83.81049562689041/100 [9:40:18<34:21:41, 7640.83s/it]"
     ]
    },
    {
     "name": "stdout",
     "output_type": "stream",
     "text": [
      "Epoch: 84\tLoss: 0.007 [perplexity=0.000, loss_vq=0.000, loss_recon=0.000, loss_cls=0.007]\tVal_acc: 120/196 (61.22%)\n",
      "\n"
     ]
    },
    {
     "name": "stderr",
     "output_type": "stream",
     "text": [
      " 85%|███████████████████████████████████████████████████████████████████▊            | 84.76287657927314/100 [9:47:23<31:46:40, 7508.02s/it]"
     ]
    },
    {
     "name": "stdout",
     "output_type": "stream",
     "text": [
      "Epoch: 85\tLoss: 0.003 [perplexity=0.000, loss_vq=0.000, loss_recon=0.000, loss_cls=0.003]\tVal_acc: 116/196 (59.18%)\n",
      "\n"
     ]
    },
    {
     "name": "stderr",
     "output_type": "stream",
     "text": [
      " 86%|████████████████████████████████████████████████████████████████████▌           | 85.71525753165587/100 [9:54:30<30:09:41, 7601.24s/it]"
     ]
    },
    {
     "name": "stdout",
     "output_type": "stream",
     "text": [
      "Epoch: 86\tLoss: 0.000 [perplexity=0.000, loss_vq=0.000, loss_recon=0.000, loss_cls=0.000]\tVal_acc: 116/196 (59.18%)\n",
      "\n"
     ]
    },
    {
     "name": "stderr",
     "output_type": "stream",
     "text": [
      " 87%|████████████████████████████████████████████████████████████████████▍          | 86.66763848403859/100 [10:01:38<28:02:54, 7573.63s/it]"
     ]
    },
    {
     "name": "stdout",
     "output_type": "stream",
     "text": [
      "Epoch: 87\tLoss: 0.000 [perplexity=0.000, loss_vq=0.000, loss_recon=0.000, loss_cls=0.000]\tVal_acc: 118/196 (60.20%)\n",
      "\n"
     ]
    },
    {
     "name": "stderr",
     "output_type": "stream",
     "text": [
      " 88%|█████████████████████████████████████████████████████████████████████▏         | 87.62001943642132/100 [10:08:45<26:19:36, 7655.63s/it]"
     ]
    },
    {
     "name": "stdout",
     "output_type": "stream",
     "text": [
      "Epoch: 88\tLoss: 0.000 [perplexity=0.000, loss_vq=0.000, loss_recon=0.000, loss_cls=0.000]\tVal_acc: 121/196 (61.73%)\n",
      "\n"
     ]
    },
    {
     "name": "stderr",
     "output_type": "stream",
     "text": [
      " 89%|█████████████████████████████████████████████████████████████████████▉         | 88.57240038880404/100 [10:15:53<24:17:06, 7650.45s/it]"
     ]
    },
    {
     "name": "stdout",
     "output_type": "stream",
     "text": [
      "Epoch: 89\tLoss: 0.003 [perplexity=0.000, loss_vq=0.000, loss_recon=0.000, loss_cls=0.003]\tVal_acc: 117/196 (59.69%)\n",
      "\n"
     ]
    },
    {
     "name": "stderr",
     "output_type": "stream",
     "text": [
      " 90%|██████████████████████████████████████████████████████████████████████▋        | 89.52478134118677/100 [10:23:00<21:53:32, 7523.70s/it]"
     ]
    },
    {
     "name": "stdout",
     "output_type": "stream",
     "text": [
      "Epoch: 90\tLoss: 0.001 [perplexity=0.000, loss_vq=0.000, loss_recon=0.000, loss_cls=0.001]\tVal_acc: 117/196 (59.69%)\n",
      "\n"
     ]
    },
    {
     "name": "stderr",
     "output_type": "stream",
     "text": [
      " 90%|███████████████████████████████████████████████████████████████████████▍       | 90.47716229356949/100 [10:30:07<20:19:25, 7683.19s/it]"
     ]
    },
    {
     "name": "stdout",
     "output_type": "stream",
     "text": [
      "Epoch: 91\tLoss: 0.000 [perplexity=0.000, loss_vq=0.000, loss_recon=0.000, loss_cls=0.000]\tVal_acc: 122/196 (62.24%)\n",
      "\n"
     ]
    },
    {
     "name": "stderr",
     "output_type": "stream",
     "text": [
      " 91%|███████████████████████████████████████████████████████████████████████████▉       | 91.42857142865387/100 [10:35:52<43:13, 302.55s/it]"
     ]
    },
    {
     "name": "stdout",
     "output_type": "stream",
     "text": [
      "Correct: 568/980 (0.5796)\n",
      "{'acc_unweighted': tensor(0.5774, device='cuda:0'),\n",
      " 'acc_weighted': tensor(0.5796, device='cuda:0'),\n",
      " 'f1s_unweighted': tensor(0.5762, device='cuda:0'),\n",
      " 'f1s_weighted': tensor(0.5791, device='cuda:0'),\n",
      " 'rocauc': tensor(0.8304, device='cuda:0'),\n",
      " 'uar': tensor(0.5774, device='cuda:0'),\n",
      " 'wap': tensor(0.5904, device='cuda:0')}\n",
      "{'acc_detail': tensor([0.5551, 0.5183, 0.7441, 0.4921], device='cuda:0'),\n",
      " 'f1s_detail': tensor([0.6366, 0.4967, 0.6655, 0.5061], device='cuda:0'),\n",
      " 'precision_detail': tensor([0.7460, 0.4768, 0.6019, 0.5208], device='cuda:0'),\n",
      " 'recall_detail': tensor([0.5551, 0.5183, 0.7441, 0.4921], device='cuda:0'),\n",
      " 'rocauc_detail': tensor([0.8914, 0.7941, 0.8769, 0.7593], device='cuda:0')}\n",
      "tensor([[141,  20,   8,  85],\n",
      "        [  4, 113,  84,  17],\n",
      "        [  3,  49, 189,  13],\n",
      "        [ 41,  55,  33, 125]], device='cuda:0')\n"
     ]
    },
    {
     "name": "stderr",
     "output_type": "stream",
     "text": [
      " 92%|████████████████████████████████████████████████████████████████████████▌      | 91.90573372214358/100 [10:39:39<17:22:24, 7727.03s/it]"
     ]
    },
    {
     "name": "stdout",
     "output_type": "stream",
     "text": [
      "Epoch: 92\tLoss: 0.002 [perplexity=0.000, loss_vq=0.000, loss_recon=0.000, loss_cls=0.002]\tVal_acc: 108/196 (55.10%)\n",
      "\n"
     ]
    },
    {
     "name": "stderr",
     "output_type": "stream",
     "text": [
      " 93%|██████████████████████████████████████████████████████████████████████████▎     | 92.8581146745263/100 [10:46:48<15:15:56, 7694.89s/it]"
     ]
    },
    {
     "name": "stdout",
     "output_type": "stream",
     "text": [
      "Epoch: 93\tLoss: 0.000 [perplexity=0.000, loss_vq=0.000, loss_recon=0.000, loss_cls=0.000]\tVal_acc: 117/196 (59.69%)\n",
      "\n"
     ]
    },
    {
     "name": "stderr",
     "output_type": "stream",
     "text": [
      " 94%|██████████████████████████████████████████████████████████████████████████     | 93.81049562690903/100 [10:53:55<13:11:24, 7671.75s/it]"
     ]
    },
    {
     "name": "stdout",
     "output_type": "stream",
     "text": [
      "Epoch: 94\tLoss: 0.004 [perplexity=0.000, loss_vq=0.000, loss_recon=0.000, loss_cls=0.004]\tVal_acc: 120/196 (61.22%)\n",
      "\n"
     ]
    },
    {
     "name": "stderr",
     "output_type": "stream",
     "text": [
      " 95%|██████████████████████████████████████████████████████████████████████████▊    | 94.76287657929176/100 [11:01:05<11:11:23, 7691.95s/it]"
     ]
    },
    {
     "name": "stdout",
     "output_type": "stream",
     "text": [
      "Epoch: 95\tLoss: 0.000 [perplexity=0.000, loss_vq=0.000, loss_recon=0.000, loss_cls=0.000]\tVal_acc: 116/196 (59.18%)\n",
      "\n"
     ]
    },
    {
     "name": "stderr",
     "output_type": "stream",
     "text": [
      " 96%|████████████████████████████████████████████████████████████████████████████▌   | 95.71525753167448/100 [11:08:14<9:15:50, 7783.61s/it]"
     ]
    },
    {
     "name": "stdout",
     "output_type": "stream",
     "text": [
      "Epoch: 96\tLoss: 0.464 [perplexity=0.000, loss_vq=0.000, loss_recon=0.000, loss_cls=0.464]\tVal_acc: 121/196 (61.73%)\n",
      "\n"
     ]
    },
    {
     "name": "stderr",
     "output_type": "stream",
     "text": [
      " 97%|██████████████████████████████████████████████████████████████████████████████▎  | 96.6676384840572/100 [11:15:25<7:10:33, 7752.20s/it]"
     ]
    },
    {
     "name": "stdout",
     "output_type": "stream",
     "text": [
      "Epoch: 97\tLoss: 0.000 [perplexity=0.000, loss_vq=0.000, loss_recon=0.000, loss_cls=0.000]\tVal_acc: 118/196 (60.20%)\n",
      "\n"
     ]
    },
    {
     "name": "stderr",
     "output_type": "stream",
     "text": [
      " 98%|██████████████████████████████████████████████████████████████████████████████  | 97.62001943643993/100 [11:22:36<5:09:18, 7797.67s/it]"
     ]
    },
    {
     "name": "stdout",
     "output_type": "stream",
     "text": [
      "Epoch: 98\tLoss: 0.000 [perplexity=0.000, loss_vq=0.000, loss_recon=0.000, loss_cls=0.000]\tVal_acc: 116/196 (59.18%)\n",
      "\n"
     ]
    },
    {
     "name": "stderr",
     "output_type": "stream",
     "text": [
      " 99%|██████████████████████████████████████████████████████████████████████████████▊ | 98.57240038882266/100 [11:29:47<3:06:00, 7817.63s/it]"
     ]
    },
    {
     "name": "stdout",
     "output_type": "stream",
     "text": [
      "Epoch: 99\tLoss: 0.009 [perplexity=0.000, loss_vq=0.000, loss_recon=0.000, loss_cls=0.009]\tVal_acc: 121/196 (61.73%)\n",
      "\n"
     ]
    },
    {
     "name": "stderr",
     "output_type": "stream",
     "text": [
      "100%|███████████████████████████████████████████████████████████████████████████████▌| 99.52478134120538/100 [11:36:58<1:00:48, 7677.43s/it]"
     ]
    },
    {
     "name": "stdout",
     "output_type": "stream",
     "text": [
      "Epoch: 100\tLoss: 0.000 [perplexity=0.000, loss_vq=0.000, loss_recon=0.000, loss_cls=0.000]\tVal_acc: 116/196 (59.18%)\n",
      "\n"
     ]
    },
    {
     "name": "stderr",
     "output_type": "stream",
     "text": [
      "100%|██████████████████████████████████████████████████████████████████████████████████▉| 99.99902818280005/100 [11:40:21<00:00, 431.94s/it]/opt/anaconda3/envs/audio/lib/python3.9/site-packages/tqdm/std.py:639: TqdmWarning: clamping frac to range [0, 1]\n",
      "  full_bar = Bar(frac,\n",
      "100%|███████████████████████████████████████████████████████████████████████████████████| 100.0000000000984/100 [11:40:22<00:00, 420.22s/it]\n"
     ]
    }
   ],
   "source": [
    "trainer.fit(n_epoch=100, self_supervised=False, train_task='embedding', test_n_epoch=10)"
   ]
  },
  {
   "cell_type": "code",
   "execution_count": 15,
   "id": "3005ee8b-add0-4842-9afb-aee3e1c2c8fe",
   "metadata": {},
   "outputs": [
    {
     "name": "stdout",
     "output_type": "stream",
     "text": [
      "Loaded: ../scb16_models/crema_d/model.epoch=8.step=5513.loss=0.428.val_acc=0.679.pt\n"
     ]
    }
   ],
   "source": [
    "trainer.load_best_model(val_model=True)"
   ]
  },
  {
   "cell_type": "code",
   "execution_count": 16,
   "id": "ee5b2627-9f58-4983-982f-1091d8b6d85a",
   "metadata": {},
   "outputs": [],
   "source": [
    "from pprint import pprint"
   ]
  },
  {
   "cell_type": "code",
   "execution_count": 17,
   "id": "ddec8406-cfed-4528-9666-fbfd80a8765e",
   "metadata": {},
   "outputs": [
    {
     "name": "stdout",
     "output_type": "stream",
     "text": [
      "Correct: 623/980 (0.6357)\n",
      "Saved new best test model: ../scb16_models/crema_d/model.epoch=100.step=73500.test_acc=0.6357.pt\n"
     ]
    }
   ],
   "source": [
    "metrics, metrics_details, confusion_matrix = trainer.test_step()\n",
    "me = metrics.compute()\n",
    "med = metrics_details.compute()\n",
    "cm = confusion_matrix.compute()"
   ]
  },
  {
   "cell_type": "code",
   "execution_count": 18,
   "id": "5de6fd39-4ac8-4690-a6e8-fda1fd3ac1ac",
   "metadata": {},
   "outputs": [
    {
     "name": "stdout",
     "output_type": "stream",
     "text": [
      "{'acc_unweighted': tensor(0.6395, device='cuda:0'),\n",
      " 'acc_weighted': tensor(0.6357, device='cuda:0'),\n",
      " 'f1s_unweighted': tensor(0.6324, device='cuda:0'),\n",
      " 'f1s_weighted': tensor(0.6333, device='cuda:0'),\n",
      " 'rocauc': tensor(0.8645, device='cuda:0'),\n",
      " 'uar': tensor(0.6395, device='cuda:0'),\n",
      " 'wap': tensor(0.6475, device='cuda:0')}\n",
      "{'acc_detail': tensor([0.7165, 0.7431, 0.6772, 0.4213], device='cuda:0'),\n",
      " 'f1s_detail': tensor([0.7165, 0.6079, 0.7212, 0.4842], device='cuda:0'),\n",
      " 'precision_detail': tensor([0.7165, 0.5143, 0.7713, 0.5691], device='cuda:0'),\n",
      " 'recall_detail': tensor([0.7165, 0.7431, 0.6772, 0.4213], device='cuda:0'),\n",
      " 'rocauc_detail': tensor([0.9114, 0.8556, 0.9142, 0.7767], device='cuda:0')}\n",
      "tensor([[182,  14,   2,  56],\n",
      "        [  2, 162,  38,  16],\n",
      "        [  3,  70, 172,   9],\n",
      "        [ 67,  69,  11, 107]], device='cuda:0')\n"
     ]
    }
   ],
   "source": [
    "pprint(me)\n",
    "pprint(med)\n",
    "pprint(cm)"
   ]
  },
  {
   "cell_type": "code",
   "execution_count": 20,
   "id": "3d2dcf19-551f-4729-afe2-3380785db0cb",
   "metadata": {},
   "outputs": [],
   "source": [
    "from einops import reduce"
   ]
  },
  {
   "cell_type": "code",
   "execution_count": 23,
   "id": "1f689b26-3a05-4d31-a0f1-1dac64a22f06",
   "metadata": {},
   "outputs": [],
   "source": [
    "import pandas as pd\n",
    "import IPython.display as ipd\n",
    "import seaborn as sns\n",
    "\n",
    "from IConNet.acov.visualize import (\n",
    "    visualize_speech_codebook, get_embedding_color, \n",
    "    visualize_embedding_umap, visualize_training_curves,\n",
    "    get_embedding_color_v2, get_zcs_color_v2\n",
    ")"
   ]
  },
  {
   "cell_type": "code",
   "execution_count": 24,
   "id": "c899b623-de3e-48f0-9cc6-8515529c26aa",
   "metadata": {},
   "outputs": [
    {
     "data": {
      "text/plain": [
       "<Axes: xlabel='Predicted', ylabel='Actual'>"
      ]
     },
     "execution_count": 24,
     "metadata": {},
     "output_type": "execute_result"
    },
    {
     "data": {
      "image/png": "[encoded data removed]",
      "text/plain": [
       "<Figure size 1000x700 with 2 Axes>"
      ]
     },
     "metadata": {},
     "output_type": "display_data"
    }
   ],
   "source": [
    "labels = dataset_config.target_labels\n",
    "a = cm.detach().cpu()\n",
    "# a /= reduce(a, 'y yh -> y 1', 'sum')\n",
    "a = a / reduce(a, 'y yh -> 1 yh', 'sum')\n",
    "df_cm = pd.DataFrame(a, columns=labels, index = labels)\n",
    "df_cm.index.name = 'Actual'\n",
    "df_cm.columns.name = 'Predicted'\n",
    "plt.figure(figsize = (10,7))\n",
    "sns.set(font_scale=1.4) #for label size\n",
    "sns.heatmap(\n",
    "    df_cm, cmap=\"Blues\", \n",
    "    annot=True,\n",
    "    annot_kws={\"size\": 16})# font size"
   ]
  },
  {
   "cell_type": "code",
   "execution_count": 26,
   "id": "a9c60fc4-65aa-43fe-bcef-7979defb7d5f",
   "metadata": {},
   "outputs": [
    {
     "data": {
      "text/plain": [
       "<Axes: xlabel='Predicted', ylabel='Actual'>"
      ]
     },
     "execution_count": 26,
     "metadata": {},
     "output_type": "execute_result"
    },
    {
     "data": {
      "image/png": "[encoded data removed]",
      "text/plain": [
       "<Figure size 1000x700 with 2 Axes>"
      ]
     },
     "metadata": {},
     "output_type": "display_data"
    }
   ],
   "source": [
    "a = cm.detach().cpu()\n",
    "a = a / reduce(a, 'y yh -> y 1', 'sum')\n",
    "a /= reduce(a, 'y yh -> 1 yh', 'sum')\n",
    "df_cm = pd.DataFrame(a, columns=labels, index = labels)\n",
    "df_cm.index.name = 'Actual'\n",
    "df_cm.columns.name = 'Predicted'\n",
    "plt.figure(figsize = (10,7))\n",
    "sns.set(font_scale=1.4) #for label size\n",
    "sns.heatmap(\n",
    "    df_cm, cmap=\"Blues\", \n",
    "    annot=True,\n",
    "    annot_kws={\"size\": 16})# font size"
   ]
  },
  {
   "cell_type": "code",
   "execution_count": 27,
   "id": "c154cae9-fc3c-4da3-9616-f2ccd1353ea9",
   "metadata": {},
   "outputs": [
    {
     "data": {
      "text/html": [
       "<div>\n",
       "<style scoped>\n",
       "    .dataframe tbody tr th:only-of-type {\n",
       "        vertical-align: middle;\n",
       "    }\n",
       "\n",
       "    .dataframe tbody tr th {\n",
       "        vertical-align: top;\n",
       "    }\n",
       "\n",
       "    .dataframe thead th {\n",
       "        text-align: right;\n",
       "    }\n",
       "</style>\n",
       "<table border=\"1\" class=\"dataframe\">\n",
       "  <thead>\n",
       "    <tr style=\"text-align: right;\">\n",
       "      <th></th>\n",
       "      <th>loss</th>\n",
       "      <th>perplexity</th>\n",
       "      <th>loss_vq</th>\n",
       "      <th>loss_recon</th>\n",
       "      <th>loss_cls</th>\n",
       "    </tr>\n",
       "  </thead>\n",
       "  <tbody>\n",
       "    <tr>\n",
       "      <th>0</th>\n",
       "      <td>1.664568</td>\n",
       "      <td>0.0</td>\n",
       "      <td>0.0</td>\n",
       "      <td>0.0</td>\n",
       "      <td>1.664568</td>\n",
       "    </tr>\n",
       "    <tr>\n",
       "      <th>1</th>\n",
       "      <td>1.521773</td>\n",
       "      <td>0.0</td>\n",
       "      <td>0.0</td>\n",
       "      <td>0.0</td>\n",
       "      <td>1.521773</td>\n",
       "    </tr>\n",
       "    <tr>\n",
       "      <th>2</th>\n",
       "      <td>1.351074</td>\n",
       "      <td>0.0</td>\n",
       "      <td>0.0</td>\n",
       "      <td>0.0</td>\n",
       "      <td>1.351074</td>\n",
       "    </tr>\n",
       "    <tr>\n",
       "      <th>3</th>\n",
       "      <td>1.318958</td>\n",
       "      <td>0.0</td>\n",
       "      <td>0.0</td>\n",
       "      <td>0.0</td>\n",
       "      <td>1.318958</td>\n",
       "    </tr>\n",
       "    <tr>\n",
       "      <th>4</th>\n",
       "      <td>1.429563</td>\n",
       "      <td>0.0</td>\n",
       "      <td>0.0</td>\n",
       "      <td>0.0</td>\n",
       "      <td>1.429563</td>\n",
       "    </tr>\n",
       "    <tr>\n",
       "      <th>...</th>\n",
       "      <td>...</td>\n",
       "      <td>...</td>\n",
       "      <td>...</td>\n",
       "      <td>...</td>\n",
       "      <td>...</td>\n",
       "    </tr>\n",
       "    <tr>\n",
       "      <th>73495</th>\n",
       "      <td>0.008204</td>\n",
       "      <td>0.0</td>\n",
       "      <td>0.0</td>\n",
       "      <td>0.0</td>\n",
       "      <td>0.008204</td>\n",
       "    </tr>\n",
       "    <tr>\n",
       "      <th>73496</th>\n",
       "      <td>0.001054</td>\n",
       "      <td>0.0</td>\n",
       "      <td>0.0</td>\n",
       "      <td>0.0</td>\n",
       "      <td>0.001054</td>\n",
       "    </tr>\n",
       "    <tr>\n",
       "      <th>73497</th>\n",
       "      <td>0.000319</td>\n",
       "      <td>0.0</td>\n",
       "      <td>0.0</td>\n",
       "      <td>0.0</td>\n",
       "      <td>0.000319</td>\n",
       "    </tr>\n",
       "    <tr>\n",
       "      <th>73498</th>\n",
       "      <td>0.000700</td>\n",
       "      <td>0.0</td>\n",
       "      <td>0.0</td>\n",
       "      <td>0.0</td>\n",
       "      <td>0.000700</td>\n",
       "    </tr>\n",
       "    <tr>\n",
       "      <th>73499</th>\n",
       "      <td>0.003677</td>\n",
       "      <td>0.0</td>\n",
       "      <td>0.0</td>\n",
       "      <td>0.0</td>\n",
       "      <td>0.003677</td>\n",
       "    </tr>\n",
       "  </tbody>\n",
       "</table>\n",
       "<p>73500 rows × 5 columns</p>\n",
       "</div>"
      ],
      "text/plain": [
       "           loss  perplexity  loss_vq  loss_recon  loss_cls\n",
       "0      1.664568         0.0      0.0         0.0  1.664568\n",
       "1      1.521773         0.0      0.0         0.0  1.521773\n",
       "2      1.351074         0.0      0.0         0.0  1.351074\n",
       "3      1.318958         0.0      0.0         0.0  1.318958\n",
       "4      1.429563         0.0      0.0         0.0  1.429563\n",
       "...         ...         ...      ...         ...       ...\n",
       "73495  0.008204         0.0      0.0         0.0  0.008204\n",
       "73496  0.001054         0.0      0.0         0.0  0.001054\n",
       "73497  0.000319         0.0      0.0         0.0  0.000319\n",
       "73498  0.000700         0.0      0.0         0.0  0.000700\n",
       "73499  0.003677         0.0      0.0         0.0  0.003677\n",
       "\n",
       "[73500 rows x 5 columns]"
      ]
     },
     "execution_count": 27,
     "metadata": {},
     "output_type": "execute_result"
    }
   ],
   "source": [
    "dt = []\n",
    "for i, ld in enumerate(trainer.train_losses_detail):\n",
    "    d = {'loss': trainer.train_losses[i]}\n",
    "    for j, k in enumerate(ld._fields):\n",
    "        d[k] = ld[j]\n",
    "    dt.append(d)\n",
    "loss_df = pd.DataFrame(dt)\n",
    "loss_df"
   ]
  },
  {
   "cell_type": "code",
   "execution_count": 28,
   "id": "22ae86ac-f373-46d3-a509-65a9449a5794",
   "metadata": {},
   "outputs": [],
   "source": [
    "trained_epoch = trainer.current_epoch\n",
    "n = len(trainer.train_losses)\n",
    "trained_steps = n - (n % trained_epoch)\n",
    "train_losses = reduce(np.array(\n",
    "    trainer.train_losses[:trained_steps]), '(n k) -> n', 'mean', n=trained_epoch)"
   ]
  },
  {
   "cell_type": "code",
   "execution_count": 29,
   "id": "edeb2221-781a-4d18-9ac7-e17a616832bb",
   "metadata": {},
   "outputs": [
    {
     "data": {
      "text/plain": [
       "Text(0.5, 1.0, 'Test accuracy per 10 epochs')"
      ]
     },
     "execution_count": 29,
     "metadata": {},
     "output_type": "execute_result"
    },
    {
     "data": {
      "image/png": "[encoded data removed]",
      "text/plain": [
       "<Figure size 1200x300 with 3 Axes>"
      ]
     },
     "metadata": {},
     "output_type": "display_data"
    }
   ],
   "source": [
    "fig, axes = plt.subplots(1, 3, figsize=(12,3))\n",
    "axes[0].plot(train_losses, color=\"b\")\n",
    "axes[0].set_title(\"Average train loss per epoch\")\n",
    "axes[1].plot(trainer.val_accuracy, color=\"r\", linestyle=\"dashed\")\n",
    "axes[1].set_title(\"Val accuracy per epoch\")\n",
    "axes[2].plot(trainer.test_accuracy, color=\"r\")\n",
    "axes[2].set_title(\"Test accuracy per 10 epochs\")"
   ]
  },
  {
   "cell_type": "code",
   "execution_count": 30,
   "id": "ad895da4-0b73-4829-80e2-c1157bb04ace",
   "metadata": {},
   "outputs": [],
   "source": [
    "from scipy.signal import savgol_filter"
   ]
  },
  {
   "cell_type": "code",
   "execution_count": 31,
   "id": "d51ae6de-4b3b-4ea8-b689-4388b60c3f2a",
   "metadata": {},
   "outputs": [
    {
     "data": {
      "text/plain": [
       "Text(0.5, 1.0, 'Test accuracy per 10 epochs')"
      ]
     },
     "execution_count": 31,
     "metadata": {},
     "output_type": "execute_result"
    },
    {
     "data": {
      "image/png": "[encoded data removed]",
      "text/plain": [
       "<Figure size 1200x300 with 3 Axes>"
      ]
     },
     "metadata": {},
     "output_type": "display_data"
    }
   ],
   "source": [
    "fig, axes = plt.subplots(1, 3, figsize=(12,3))\n",
    "axes[0].plot(train_losses, color=\"b\")\n",
    "axes[0].set_title(\"Average train loss per epoch\")\n",
    "axes[1].plot(savgol_filter(trainer.val_accuracy, 10, 2), color=\"r\", linestyle=\"dashed\")\n",
    "axes[1].set_title(\"Val accuracy per epoch\")\n",
    "axes[2].plot(trainer.test_accuracy, color=\"r\")\n",
    "axes[2].set_title(\"Test accuracy per 10 epochs\")"
   ]
  },
  {
   "cell_type": "code",
   "execution_count": 32,
   "id": "47726a36-185d-4b19-a3f5-2f733efbf80d",
   "metadata": {},
   "outputs": [],
   "source": [
    "train_log = {\n",
    "    'train_loss': torch.tensor(train_losses),\n",
    "    'val_acc': torch.tensor(trainer.val_accuracy),\n",
    "    'test_acc': torch.tensor(trainer.test_accuracy),\n",
    "    'test_confusion_matrix': cm,\n",
    "    'test_metrics': me,\n",
    "    'test_metrics_detail': med\n",
    "}\n",
    "torch.save(train_log, log_dir+\"train_metrics.pt\")\n",
    "loss_df.to_csv(log_dir+\"train_losses.csv\")"
   ]
  },
  {
   "cell_type": "code",
   "execution_count": 36,
   "id": "aca711a7-9ce4-439a-89c1-8118807b1436",
   "metadata": {},
   "outputs": [
    {
     "name": "stdout",
     "output_type": "stream",
     "text": [
      "{'name': 'M19', 'description': 'FirConv with learnable windows', 'fe': {'n_block': 1, 'n_channel': [456], 'kernel_size': [511], 'stride': [2], 'window_k': [2], 'pooling': 'mean', 'filter_type': 'sinc', 'learnable_bands': False, 'learnable_windows': True, 'shared_window': False, 'window_func': 'hamming', 'mel_resolution': 3, 'conv_mode': 'conv', 'norm_type': 'LocalResponseNorm'}, 'cls': {'n_block': 1, 'n_hidden_dim': [512], 'norm_type': 'LayerNorm'}}\n"
     ]
    }
   ],
   "source": [
    "iconnet_config = ocf.load(iconnet_config_path)\n",
    "iconnet_config.fe.n_channel = [456]\n",
    "iconnet_config.fe.window_k = [2]\n",
    "iconnet_config.cls = {'n_block': 1, 'n_hidden_dim': [512,], 'norm_type': 'LayerNorm'}\n",
    "print(iconnet_config)"
   ]
  },
  {
   "cell_type": "code",
   "execution_count": 37,
   "id": "186d00b1-b59f-445f-8abc-f5aa11d0dbd3",
   "metadata": {},
   "outputs": [],
   "source": [
    "codebook_pretrained_path = f'../scb7_models/crema_d/codebook.epoch=42.pt'\n",
    "model = SCB(\n",
    "    in_channels=in_channels,\n",
    "    out_channels=out_channels,\n",
    "    num_embeddings=num_embeddings, \n",
    "    embedding_dim=embedding_dim, \n",
    "    num_tokens=num_tokens,\n",
    "    num_classes=num_classes, \n",
    "    cls_dim=embedding_dim,\n",
    "    sample_rate=16000,\n",
    "    commitment_cost=commitment_cost,\n",
    "    distance_type='euclidean',\n",
    "    codebook_pretrained_path=codebook_pretrained_path,\n",
    "    freeze_codebook=True,\n",
    "    loss_type='signal_loss',\n",
    "    iconnet_config=iconnet_config,\n",
    ")"
   ]
  },
  {
   "cell_type": "code",
   "execution_count": 38,
   "id": "e339877c-6943-475c-8e60-0eda8690f249",
   "metadata": {},
   "outputs": [],
   "source": [
    "trainer.setup(model=model, lr=learning_rate)"
   ]
  },
  {
   "cell_type": "code",
   "execution_count": null,
   "id": "67a879bd-d5b4-4fbf-bb2e-e48b95bcc79b",
   "metadata": {},
   "outputs": [
    {
     "name": "stderr",
     "output_type": "stream",
     "text": [
      "  0%|▍                                                                               | 0.4771622934888197/100 [04:35<237:30:25, 8591.25s/it]"
     ]
    },
    {
     "name": "stdout",
     "output_type": "stream",
     "text": [
      "Epoch: 1\tLoss: 0.189 [perplexity=0.000, loss_vq=0.000, loss_recon=0.000, loss_cls=0.189]\tVal_acc: 96/196 (48.98%)\n",
      "\n",
      "Saved new best val model: ../scb16_models/crema_d/model.epoch=1.step=368.loss=0.189.val_acc=0.490.pt\n"
     ]
    },
    {
     "name": "stderr",
     "output_type": "stream",
     "text": [
      "  1%|█▏                                                                                  | 1.428571428571455/100 [11:04<8:03:23, 294.24s/it]"
     ]
    },
    {
     "name": "stdout",
     "output_type": "stream",
     "text": [
      "Correct: 536/980 (0.5469)\n",
      "Saved new best test model: ../scb16_models/crema_d/model.epoch=1.step=735.test_acc=0.5469.pt\n",
      "{'acc_unweighted': tensor(0.5438, device='cuda:0'),\n",
      " 'acc_weighted': tensor(0.5469, device='cuda:0'),\n",
      " 'f1s_unweighted': tensor(0.5099, device='cuda:0'),\n",
      " 'f1s_weighted': tensor(0.5130, device='cuda:0'),\n",
      " 'rocauc': tensor(0.8299, device='cuda:0'),\n",
      " 'uar': tensor(0.5438, device='cuda:0'),\n",
      " 'wap': tensor(0.5212, device='cuda:0')}\n",
      "{'acc_detail': tensor([0.7598, 0.4587, 0.8031, 0.1535], device='cuda:0'),\n",
      " 'f1s_detail': tensor([0.6918, 0.4255, 0.6974, 0.2248], device='cuda:0'),\n",
      " 'precision_detail': tensor([0.6349, 0.3968, 0.6163, 0.4194], device='cuda:0'),\n",
      " 'recall_detail': tensor([0.7598, 0.4587, 0.8031, 0.1535], device='cuda:0'),\n",
      " 'rocauc_detail': tensor([0.9001, 0.7774, 0.9032, 0.7391], device='cuda:0')}\n",
      "tensor([[193,  24,   5,  32],\n",
      "        [ 10, 100,  93,  15],\n",
      "        [  4,  39, 204,   7],\n",
      "        [ 97,  89,  29,  39]], device='cuda:0')\n"
     ]
    },
    {
     "name": "stderr",
     "output_type": "stream",
     "text": [
      "  2%|█▌                                                                              | 1.9057337220602952/100 [15:41<235:47:06, 8653.17s/it]"
     ]
    },
    {
     "name": "stdout",
     "output_type": "stream",
     "text": [
      "Epoch: 2\tLoss: 0.702 [perplexity=0.000, loss_vq=0.000, loss_recon=0.000, loss_cls=0.702]\tVal_acc: 124/196 (63.27%)\n",
      "\n",
      "Saved new best val model: ../scb16_models/crema_d/model.epoch=2.step=1103.loss=0.702.val_acc=0.633.pt\n"
     ]
    },
    {
     "name": "stderr",
     "output_type": "stream",
     "text": [
      "  3%|██▎                                                                             | 2.8581146744412798/100 [24:28<234:28:06, 8689.21s/it]"
     ]
    },
    {
     "name": "stdout",
     "output_type": "stream",
     "text": [
      "Epoch: 3\tLoss: 0.486 [perplexity=0.000, loss_vq=0.000, loss_recon=0.000, loss_cls=0.486]\tVal_acc: 131/196 (66.84%)\n",
      "\n",
      "Saved new best val model: ../scb16_models/crema_d/model.epoch=3.step=1838.loss=0.486.val_acc=0.668.pt\n"
     ]
    },
    {
     "name": "stderr",
     "output_type": "stream",
     "text": [
      "  4%|███                                                                             | 3.8104956268222643/100 [33:18<233:13:44, 8728.86s/it]"
     ]
    },
    {
     "name": "stdout",
     "output_type": "stream",
     "text": [
      "Epoch: 4\tLoss: 0.656 [perplexity=0.000, loss_vq=0.000, loss_recon=0.000, loss_cls=0.656]\tVal_acc: 120/196 (61.22%)\n",
      "\n"
     ]
    },
    {
     "name": "stderr",
     "output_type": "stream",
     "text": [
      "  4%|███▍                                                                               | 4.117589893100214/100 [36:01<14:52:47, 558.68s/it]"
     ]
    }
   ],
   "source": [
    "trainer.fit(n_epoch=100, self_supervised=False, train_task='embedding', test_n_epoch=10)"
   ]
  },
  {
   "cell_type": "code",
   "execution_count": null,
   "id": "680918b1-ecb6-47b9-90f7-1df3010e65a7",
   "metadata": {},
   "outputs": [],
   "source": []
  }
 ],
 "metadata": {
  "kernelspec": {
   "display_name": "Python 3 (ipykernel)",
   "language": "python",
   "name": "python3"
  },
  "language_info": {
   "codemirror_mode": {
    "name": "ipython",
    "version": 3
   },
   "file_extension": ".py",
   "mimetype": "text/x-python",
   "name": "python",
   "nbconvert_exporter": "python",
   "pygments_lexer": "ipython3",
   "version": "3.9.18"
  }
 },
 "nbformat": 4,
 "nbformat_minor": 5
}
