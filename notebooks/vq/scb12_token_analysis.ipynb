{
 "cells": [
  {
   "cell_type": "code",
   "execution_count": 1,
   "id": "fd594530-801c-4d0a-887b-f3dacbf5089c",
   "metadata": {},
   "outputs": [],
   "source": [
    "%load_ext autoreload\n",
    "%autoreload 2"
   ]
  },
  {
   "cell_type": "code",
   "execution_count": 2,
   "id": "35bc9f1c-f81c-45a5-a633-78e06c35fc2f",
   "metadata": {},
   "outputs": [],
   "source": [
    "import matplotlib.pyplot as plt\n",
    "import numpy as np\n",
    "import umap\n",
    "import torch\n",
    "import torch.nn as nn\n",
    "import torch.nn.functional as F\n",
    "import gc\n",
    "from tqdm import tqdm"
   ]
  },
  {
   "cell_type": "code",
   "execution_count": 3,
   "id": "35a27c77-fb02-46c5-8853-97af336c480f",
   "metadata": {},
   "outputs": [],
   "source": [
    "from torch import Tensor"
   ]
  },
  {
   "cell_type": "code",
   "execution_count": 4,
   "id": "1073ae4d-724b-4a78-bf53-7f7a92163021",
   "metadata": {},
   "outputs": [],
   "source": [
    "device = torch.device(\"cuda\" if torch.cuda.is_available() else \"cpu\")"
   ]
  },
  {
   "cell_type": "code",
   "execution_count": 5,
   "id": "8f48b5d7-0c2c-476e-84ad-6198b4c244bb",
   "metadata": {},
   "outputs": [
    {
     "data": {
      "text/plain": [
       "'/home/linh/projects/IConNet'"
      ]
     },
     "execution_count": 5,
     "metadata": {},
     "output_type": "execute_result"
    }
   ],
   "source": [
    "import os\n",
    "os.environ[\"PYTORCH_CUDA_ALLOC_CONF\"] = \"max_split_size_mb:512\"\n",
    "os.environ[\"CUDA_LAUNCH_BLOCKING\"] = \"1\"\n",
    "os.chdir('../IConNet/')\n",
    "os.getcwd()"
   ]
  },
  {
   "cell_type": "code",
   "execution_count": 6,
   "id": "67964a57-a2a2-493c-9924-b59e718f26e7",
   "metadata": {},
   "outputs": [],
   "source": [
    "from einops import rearrange, reduce, repeat"
   ]
  },
  {
   "cell_type": "code",
   "execution_count": 7,
   "id": "4ce4dfce-2af5-43e2-9ebd-7168ec47f17c",
   "metadata": {},
   "outputs": [],
   "source": [
    "dataset_name = 'ravdess'\n",
    "experiment_prefix = \"scb12\"\n",
    "log_dir = f'../{experiment_prefix}_models/analysis/'\n",
    "data_dir = \"../data/data_preprocessed/\"\n",
    "sr = 16000\n"
   ]
  },
  {
   "cell_type": "code",
   "execution_count": 8,
   "id": "af45f764-a661-44df-9899-99ab8d5d4914",
   "metadata": {},
   "outputs": [
    {
     "name": "stdout",
     "output_type": "stream",
     "text": [
      "{'name': 'ravdess', 'dataset_class': 'WaveformDataset', 'root': 'ravdess/', 'audio_dir': 'full_release/', 'feature_dir': 'preprocessing/', 'label_name': 'label_emotion_key', 'feature_name': 'scb_tfidf', 'num_classes': 8, 'label_values': ['neu', 'cal', 'hap', 'sad', 'ang', 'fea', 'dis', 'sur'], 'classnames': ['neu', 'cal', 'hap', 'sad', 'ang', 'fea', 'dis', 'sur'], 'target_labels': ['ang', 'neu', 'sad', 'hap']}\n"
     ]
    }
   ],
   "source": [
    "from omegaconf import OmegaConf as ocf\n",
    "\n",
    "dataset_config_path = f'config/dataset/{dataset_name}.yaml'\n",
    "dataset_config = ocf.load(dataset_config_path)\n",
    "dataset_config['feature_name'] = 'scb_tfidf'\n",
    "print(dataset_config)\n"
   ]
  },
  {
   "cell_type": "code",
   "execution_count": 9,
   "id": "d73a035b-700b-496e-a007-de0c885ef538",
   "metadata": {},
   "outputs": [
    {
     "name": "stdout",
     "output_type": "stream",
     "text": [
      "16\n"
     ]
    }
   ],
   "source": [
    "from IConNet.trainer.train_torch import get_dataloader\n",
    "\n",
    "train_loader, test_loader, batch_size = get_dataloader(\n",
    "    dataset_config, data_dir, batch_size=16)\n",
    "print(batch_size)"
   ]
  },
  {
   "cell_type": "code",
   "execution_count": 10,
   "id": "c5cf834a-48cf-4e20-8aab-58e39c2832d0",
   "metadata": {},
   "outputs": [],
   "source": [
    "from IConNet.trainer.train_torch import Trainer_SCB10\n",
    "import torch.optim as optim\n",
    "from pprint import pprint\n",
    "\n",
    "class Trainer_custom(Trainer_SCB10):\n",
    "    def __init__(\n",
    "            self, \n",
    "            batch_size, log_dir, experiment_prefix, device,\n",
    "            eval_ratio: float=0.2,\n",
    "            gradient_clip_val: float=0,\n",
    "            accumulate_grad_batches: int=1,\n",
    "\n",
    "    ):\n",
    "        super().__init__(\n",
    "            batch_size, log_dir, experiment_prefix, device,\n",
    "            eval_ratio, gradient_clip_val, accumulate_grad_batches)\n",
    "\n",
    "    def setup(self, model, lr=1e-3):\n",
    "        super().setup(model=None, lr=lr)\n",
    "        self.model = model\n",
    "        self.train_losses_detail = []\n",
    "\n",
    "    def train_step(self):\n",
    "        device = self.device\n",
    "        self.model.train()\n",
    "        loss = torch.tensor(0., dtype=torch.float64, requires_grad=True)\n",
    "        for batch_idx, (data, target) in enumerate(self.train_loader):\n",
    "            data = data.to(device)\n",
    "            target = target.to(device)\n",
    "            logits = self.model(data)\n",
    "            loss = loss + F.cross_entropy(logits.squeeze(), target)\n",
    "            del data, target\n",
    "            gc.collect()\n",
    "            torch.cuda.empty_cache()\n",
    "            if batch_idx % self.accumulate_grad_batches:\n",
    "                self.optimizer.zero_grad()\n",
    "                loss.backward()\n",
    "                self.clip_gradient()\n",
    "                self.optimizer.step()\n",
    "                self.current_step += 1\n",
    "                loss = loss.item()\n",
    "                self.train_losses.append(loss)\n",
    "                if batch_idx % self.val_check_batches == 0: \n",
    "                    message = self.gen_log_message(\n",
    "                        batch_idx, loss, loss_detail=None,\n",
    "                        memory=None\n",
    "                    )    \n",
    "                    self.eval_step(loss=loss, message=message)\n",
    "                loss = torch.tensor(0., dtype=torch.float64, requires_grad=True)\n",
    "            self._update_progress_bar()\n",
    "            \n",
    "    def fit(self, n_epoch=10, lr=None, test_n_epoch=1):\n",
    "        device = self.device\n",
    "        self.total_batches = self.train_batches + self.test_batches\n",
    "        self.pbar_update = 1/self.total_batches\n",
    "        if lr is not None:\n",
    "            self.lr = lr\n",
    "        self.optimizer = optim.RAdam(self.learnable_parameters, lr=self.lr)\n",
    "        self.scheduler = optim.lr_scheduler.OneCycleLR(\n",
    "            self.optimizer, max_lr=0.1,\n",
    "            steps_per_epoch=self.train_batches, \n",
    "            epochs=n_epoch)\n",
    "        self.model.to(device)\n",
    "        with tqdm(total=n_epoch) as pbar:\n",
    "            self.pbar = pbar\n",
    "            for epoch in range(n_epoch):\n",
    "                self.current_epoch += 1\n",
    "                self.train_step()\n",
    "                self.scheduler.step()\n",
    "                is_test_epoch = (test_n_epoch is not None and test_n_epoch > 0 and epoch % test_n_epoch == 0)   \n",
    "                if is_test_epoch:\n",
    "                    metrics, metrics_details, confusion_matrix = self.test_step()\n",
    "                    pprint(metrics.compute())\n",
    "                    pprint(metrics_details.compute())\n",
    "                    pprint(confusion_matrix.compute())\n",
    "                    self.save()\n",
    "                \n",
    "        self.model.to('cpu')  "
   ]
  },
  {
   "cell_type": "code",
   "execution_count": 11,
   "id": "a96ddb22-9c17-4bd5-9aa7-347bb4955e9e",
   "metadata": {},
   "outputs": [],
   "source": [
    "class TfidfModel(nn.Module):\n",
    "    def __init__(self, n_input, seq_num_layer, seq_hidden_dim, cls_dim, num_class=4):\n",
    "        super().__init__()\n",
    "        self.lstm_blocks = nn.LSTM(\n",
    "            input_size=n_input, \n",
    "            hidden_size=seq_hidden_dim, \n",
    "            num_layers=seq_num_layer, \n",
    "            batch_first=True\n",
    "        )\n",
    "        self.cls_head = nn.Sequential(\n",
    "            nn.Linear(seq_hidden_dim, cls_dim, bias=False),\n",
    "            nn.Linear(cls_dim, cls_dim, bias=False),\n",
    "            nn.PReLU(cls_dim),\n",
    "            nn.Linear(cls_dim, num_class, bias=False)\n",
    "        )\n",
    "        \n",
    "    def lstm_forward(self, X: Tensor) -> Tensor:\n",
    "        X, _ = self.lstm_blocks(X.mT)\n",
    "        return X.mT\n",
    "\n",
    "    def forward(self, X: Tensor) -> Tensor:\n",
    "        X = reduce(self.lstm_forward(X), 'b h n -> b h', 'mean')\n",
    "        X = self.cls_head(X)\n",
    "        return X\n",
    "\n",
    "    def predict(self, X: Tensor) -> tuple[Tensor, Tensor]:\n",
    "        logits = self.forward(X)\n",
    "        probs = F.softmax(logits, dim=-1)\n",
    "        preds = probs.argmax(dim=-1)\n",
    "        return preds, probs"
   ]
  },
  {
   "cell_type": "code",
   "execution_count": 12,
   "id": "8a95a7f1-5a2e-4d98-b54b-7776e9c7e178",
   "metadata": {},
   "outputs": [],
   "source": [
    "# trainer = Trainer_custom(batch_size=batch_size, log_dir=log_dir, \n",
    "#                   experiment_prefix=experiment_prefix, device=device,\n",
    "#                  accumulate_grad_batches=2, gradient_clip_val=1.)\n",
    "\n",
    "# trainer.prepare(train_loader=train_loader, \n",
    "#                 test_loader=test_loader, \n",
    "#                 batch_size=batch_size)"
   ]
  },
  {
   "cell_type": "code",
   "execution_count": 13,
   "id": "fb9e954e-4269-4814-9cf7-ced73a13263d",
   "metadata": {},
   "outputs": [],
   "source": [
    "# model = TfidfModel(\n",
    "#     n_input=3, \n",
    "#     seq_num_layer=2, \n",
    "#     seq_hidden_dim=128, \n",
    "#     cls_dim=128, \n",
    "#     num_class=4)"
   ]
  },
  {
   "cell_type": "code",
   "execution_count": 14,
   "id": "a01613fe-ec58-4e1e-be79-abfc032c0f6e",
   "metadata": {},
   "outputs": [],
   "source": [
    "# trainer.setup(model, lr=1e-4)"
   ]
  },
  {
   "cell_type": "code",
   "execution_count": 15,
   "id": "9e185915-adc9-41a4-af3f-a172da87d7ab",
   "metadata": {
    "scrolled": true
   },
   "outputs": [
    {
     "name": "stderr",
     "output_type": "stream",
     "text": [
      "  1%|▏                                 | 1.0000000000000007/200 [00:09<39:40, 11.96s/it]"
     ]
    },
    {
     "name": "stdout",
     "output_type": "stream",
     "text": [
      "Correct: 46/135 (0.3407)\n",
      "Saved new best test model: ../scb12_models/analysis/model.epoch=1.step=16.test_acc=0.3407.pt\n",
      "{'acc_unweighted': tensor(0.2962, device='cuda:0'),\n",
      " 'acc_weighted': tensor(0.3407, device='cuda:0'),\n",
      " 'f1s_unweighted': tensor(0.1957, device='cuda:0'),\n",
      " 'f1s_weighted': tensor(0.2238, device='cuda:0'),\n",
      " 'rocauc': tensor(0.5680, device='cuda:0'),\n",
      " 'uar': tensor(0.2962, device='cuda:0'),\n",
      " 'wap': tensor(0.2516, device='cuda:0')}\n",
      "{'acc_detail': tensor([0.2105, 0.0000, 0.0000, 0.9744], device='cuda:0'),\n",
      " 'f1s_detail': tensor([0.3077, 0.0000, 0.0000, 0.4750], device='cuda:0'),\n",
      " 'precision_detail': tensor([0.5714, 0.0000, 0.0000, 0.3140], device='cuda:0'),\n",
      " 'recall_detail': tensor([0.2105, 0.0000, 0.0000, 0.9744], device='cuda:0'),\n",
      " 'rocauc_detail': tensor([0.6343, 0.5436, 0.5343, 0.5598], device='cuda:0')}\n",
      "tensor([[ 8,  0,  0, 30],\n",
      "        [ 0,  0,  0, 19],\n",
      "        [ 5,  0,  0, 34],\n",
      "        [ 1,  0,  0, 38]], device='cuda:0')\n"
     ]
    },
    {
     "name": "stderr",
     "output_type": "stream",
     "text": [
      "  4%|█▍                                  | 8.18749999999996/200 [01:13<38:48, 12.14s/it]"
     ]
    },
    {
     "name": "stdout",
     "output_type": "stream",
     "text": [
      "Correct: 49/135 (0.3630)\n",
      "Saved new best test model: ../scb12_models/analysis/model.epoch=11.step=176.test_acc=0.3630.pt\n",
      "{'acc_unweighted': tensor(0.3316, device='cuda:0'),\n",
      " 'acc_weighted': tensor(0.3630, device='cuda:0'),\n",
      " 'f1s_unweighted': tensor(0.2707, device='cuda:0'),\n",
      " 'f1s_weighted': tensor(0.2843, device='cuda:0'),\n",
      " 'rocauc': tensor(0.6429, device='cuda:0'),\n",
      " 'uar': tensor(0.3316, device='cuda:0'),\n",
      " 'wap': tensor(0.2658, device='cuda:0')}\n",
      "{'acc_detail': tensor([0.6316, 0.1053, 0.0000, 0.5897], device='cuda:0'),\n",
      " 'f1s_detail': tensor([0.5053, 0.1667, 0.0000, 0.4107], device='cuda:0'),\n",
      " 'precision_detail': tensor([0.4211, 0.4000, 0.0000, 0.3151], device='cuda:0'),\n",
      " 'recall_detail': tensor([0.6316, 0.1053, 0.0000, 0.5897], device='cuda:0'),\n",
      " 'rocauc_detail': tensor([0.7314, 0.7482, 0.5206, 0.5716], device='cuda:0')}\n",
      "tensor([[24,  0,  0, 14],\n",
      "        [ 2,  2,  0, 15],\n",
      "        [16,  2,  0, 21],\n",
      "        [15,  1,  0, 23]], device='cuda:0')\n"
     ]
    },
    {
     "name": "stderr",
     "output_type": "stream",
     "text": [
      "  8%|██▌                               | 15.375000000000163/200 [02:15<37:23, 12.15s/it]"
     ]
    },
    {
     "name": "stdout",
     "output_type": "stream",
     "text": [
      "Correct: 48/135 (0.3556)\n",
      "{'acc_unweighted': tensor(0.3251, device='cuda:0'),\n",
      " 'acc_weighted': tensor(0.3556, device='cuda:0'),\n",
      " 'f1s_unweighted': tensor(0.3053, device='cuda:0'),\n",
      " 'f1s_weighted': tensor(0.3242, device='cuda:0'),\n",
      " 'rocauc': tensor(0.6432, device='cuda:0'),\n",
      " 'uar': tensor(0.3251, device='cuda:0'),\n",
      " 'wap': tensor(0.3499, device='cuda:0')}\n",
      "{'acc_detail': tensor([0.6053, 0.1053, 0.1282, 0.4615], device='cuda:0'),\n",
      " 'f1s_detail': tensor([0.5227, 0.1667, 0.1754, 0.3564], device='cuda:0'),\n",
      " 'precision_detail': tensor([0.4600, 0.4000, 0.2778, 0.2903], device='cuda:0'),\n",
      " 'recall_detail': tensor([0.6053, 0.1053, 0.1282, 0.4615], device='cuda:0'),\n",
      " 'rocauc_detail': tensor([0.7320, 0.7464, 0.5275, 0.5670], device='cuda:0')}\n",
      "tensor([[23,  0,  3, 12],\n",
      "        [ 2,  2,  1, 14],\n",
      "        [14,  2,  5, 18],\n",
      "        [11,  1,  9, 18]], device='cuda:0')\n"
     ]
    },
    {
     "name": "stderr",
     "output_type": "stream",
     "text": [
      " 11%|███▊                              | 22.562499999999808/200 [03:18<35:42, 12.08s/it]"
     ]
    },
    {
     "name": "stdout",
     "output_type": "stream",
     "text": [
      "Correct: 40/135 (0.2963)\n",
      "{'acc_unweighted': tensor(0.2608, device='cuda:0'),\n",
      " 'acc_weighted': tensor(0.2963, device='cuda:0'),\n",
      " 'f1s_unweighted': tensor(0.2040, device='cuda:0'),\n",
      " 'f1s_weighted': tensor(0.2322, device='cuda:0'),\n",
      " 'rocauc': tensor(0.6392, device='cuda:0'),\n",
      " 'uar': tensor(0.2608, device='cuda:0'),\n",
      " 'wap': tensor(0.1998, device='cuda:0')}\n",
      "{'acc_detail': tensor([0.6842, 0.0000, 0.3333, 0.0256], device='cuda:0'),\n",
      " 'f1s_detail': tensor([0.4815, 0.0000, 0.2989, 0.0357], device='cuda:0'),\n",
      " 'precision_detail': tensor([0.3714, 0.0000, 0.2708, 0.0588], device='cuda:0'),\n",
      " 'recall_detail': tensor([0.6842, 0.0000, 0.3333, 0.0256], device='cuda:0'),\n",
      " 'rocauc_detail': tensor([0.7303, 0.7387, 0.5190, 0.5689], device='cuda:0')}\n",
      "tensor([[26,  0,  4,  8],\n",
      "        [ 3,  0, 14,  2],\n",
      "        [20,  0, 13,  6],\n",
      "        [21,  0, 17,  1]], device='cuda:0')\n"
     ]
    },
    {
     "name": "stderr",
     "output_type": "stream",
     "text": [
      " 15%|█████▎                              | 29.7499999999994/200 [04:21<34:24, 12.13s/it]"
     ]
    },
    {
     "name": "stdout",
     "output_type": "stream",
     "text": [
      "Correct: 40/135 (0.2963)\n",
      "{'acc_unweighted': tensor(0.2632, device='cuda:0'),\n",
      " 'acc_weighted': tensor(0.2963, device='cuda:0'),\n",
      " 'f1s_unweighted': tensor(0.1372, device='cuda:0'),\n",
      " 'f1s_weighted': tensor(0.1444, device='cuda:0'),\n",
      " 'rocauc': tensor(0.6043, device='cuda:0'),\n",
      " 'uar': tensor(0.2632, device='cuda:0'),\n",
      " 'wap': tensor(0.1551, device='cuda:0')}\n",
      "{'acc_detail': tensor([0.0000, 0.0526, 0.0000, 1.0000], device='cuda:0'),\n",
      " 'f1s_detail': tensor([0.0000, 0.0952, 0.0000, 0.4535], device='cuda:0'),\n",
      " 'precision_detail': tensor([0.0000, 0.5000, 0.0000, 0.2932], device='cuda:0'),\n",
      " 'recall_detail': tensor([0.0000, 0.0526, 0.0000, 1.0000], device='cuda:0'),\n",
      " 'rocauc_detail': tensor([0.7122, 0.7455, 0.4733, 0.4861], device='cuda:0')}\n",
      "tensor([[ 0,  0,  0, 38],\n",
      "        [ 0,  1,  0, 18],\n",
      "        [ 0,  1,  0, 38],\n",
      "        [ 0,  0,  0, 39]], device='cuda:0')\n"
     ]
    },
    {
     "name": "stderr",
     "output_type": "stream",
     "text": [
      " 18%|██████▍                            | 36.93749999999983/200 [05:24<33:02, 12.16s/it]"
     ]
    },
    {
     "name": "stdout",
     "output_type": "stream",
     "text": [
      "Correct: 50/135 (0.3704)\n",
      "Saved new best test model: ../scb12_models/analysis/model.epoch=51.step=816.test_acc=0.3704.pt\n",
      "{'acc_unweighted': tensor(0.3249, device='cuda:0'),\n",
      " 'acc_weighted': tensor(0.3704, device='cuda:0'),\n",
      " 'f1s_unweighted': tensor(0.2835, device='cuda:0'),\n",
      " 'f1s_weighted': tensor(0.3240, device='cuda:0'),\n",
      " 'rocauc': tensor(0.6456, device='cuda:0'),\n",
      " 'uar': tensor(0.3249, device='cuda:0'),\n",
      " 'wap': tensor(0.3132, device='cuda:0')}\n",
      "{'acc_detail': tensor([0.6842, 0.0000, 0.2051, 0.4103], device='cuda:0'),\n",
      " 'f1s_detail': tensor([0.4906, 0.0000, 0.2581, 0.3855], device='cuda:0'),\n",
      " 'precision_detail': tensor([0.3824, 0.0000, 0.3478, 0.3636], device='cuda:0'),\n",
      " 'recall_detail': tensor([0.6842, 0.0000, 0.2051, 0.4103], device='cuda:0'),\n",
      " 'rocauc_detail': tensor([0.7355, 0.7486, 0.5302, 0.5681], device='cuda:0')}\n",
      "tensor([[26,  0,  8,  4],\n",
      "        [ 3,  0,  4, 12],\n",
      "        [19,  0,  8, 12],\n",
      "        [20,  0,  3, 16]], device='cuda:0')\n"
     ]
    },
    {
     "name": "stderr",
     "output_type": "stream",
     "text": [
      " 22%|███████▋                           | 44.12500000000065/200 [06:26<31:26, 12.10s/it]"
     ]
    },
    {
     "name": "stdout",
     "output_type": "stream",
     "text": [
      "Correct: 48/135 (0.3556)\n",
      "{'acc_unweighted': tensor(0.3192, device='cuda:0'),\n",
      " 'acc_weighted': tensor(0.3556, device='cuda:0'),\n",
      " 'f1s_unweighted': tensor(0.2853, device='cuda:0'),\n",
      " 'f1s_weighted': tensor(0.3124, device='cuda:0'),\n",
      " 'rocauc': tensor(0.6489, device='cuda:0'),\n",
      " 'uar': tensor(0.3192, device='cuda:0'),\n",
      " 'wap': tensor(0.3395, device='cuda:0')}\n",
      "{'acc_detail': tensor([0.7368, 0.0526, 0.3077, 0.1795], device='cuda:0'),\n",
      " 'f1s_detail': tensor([0.5091, 0.0909, 0.3117, 0.2295], device='cuda:0'),\n",
      " 'precision_detail': tensor([0.3889, 0.3333, 0.3158, 0.3182], device='cuda:0'),\n",
      " 'recall_detail': tensor([0.7368, 0.0526, 0.3077, 0.1795], device='cuda:0'),\n",
      " 'rocauc_detail': tensor([0.7360, 0.7536, 0.5254, 0.5807], device='cuda:0')}\n",
      "tensor([[28,  0,  6,  4],\n",
      "        [ 3,  1, 10,  5],\n",
      "        [20,  1, 12,  6],\n",
      "        [21,  1, 10,  7]], device='cuda:0')\n"
     ]
    },
    {
     "name": "stderr",
     "output_type": "stream",
     "text": [
      " 26%|████████▋                         | 51.312500000001464/200 [07:29<30:00, 12.11s/it]"
     ]
    },
    {
     "name": "stdout",
     "output_type": "stream",
     "text": [
      "Correct: 47/135 (0.3481)\n",
      "{'acc_unweighted': tensor(0.3257, device='cuda:0'),\n",
      " 'acc_weighted': tensor(0.3481, device='cuda:0'),\n",
      " 'f1s_unweighted': tensor(0.3030, device='cuda:0'),\n",
      " 'f1s_weighted': tensor(0.3123, device='cuda:0'),\n",
      " 'rocauc': tensor(0.6400, device='cuda:0'),\n",
      " 'uar': tensor(0.3257, device='cuda:0'),\n",
      " 'wap': tensor(0.3327, device='cuda:0')}\n",
      "{'acc_detail': tensor([0.6579, 0.1579, 0.1026, 0.3846], device='cuda:0'),\n",
      " 'f1s_detail': tensor([0.4950, 0.2308, 0.1455, 0.3409], device='cuda:0'),\n",
      " 'precision_detail': tensor([0.3968, 0.4286, 0.2500, 0.3061], device='cuda:0'),\n",
      " 'recall_detail': tensor([0.6579, 0.1579, 0.1026, 0.3846], device='cuda:0'),\n",
      " 'rocauc_detail': tensor([0.7355, 0.7495, 0.5061, 0.5686], device='cuda:0')}\n",
      "tensor([[25,  0,  6,  7],\n",
      "        [ 3,  3,  1, 12],\n",
      "        [18,  2,  4, 15],\n",
      "        [17,  2,  5, 15]], device='cuda:0')\n"
     ]
    },
    {
     "name": "stderr",
     "output_type": "stream",
     "text": [
      " 29%|██████████▏                        | 58.50000000000228/200 [08:31<28:34, 12.12s/it]"
     ]
    },
    {
     "name": "stdout",
     "output_type": "stream",
     "text": [
      "Correct: 48/135 (0.3556)\n",
      "{'acc_unweighted': tensor(0.3117, device='cuda:0'),\n",
      " 'acc_weighted': tensor(0.3556, device='cuda:0'),\n",
      " 'f1s_unweighted': tensor(0.2284, device='cuda:0'),\n",
      " 'f1s_weighted': tensor(0.2603, device='cuda:0'),\n",
      " 'rocauc': tensor(0.6520, device='cuda:0'),\n",
      " 'uar': tensor(0.3117, device='cuda:0'),\n",
      " 'wap': tensor(0.2065, device='cuda:0')}\n",
      "{'acc_detail': tensor([0.6316, 0.0000, 0.0000, 0.6154], device='cuda:0'),\n",
      " 'f1s_detail': tensor([0.5000, 0.0000, 0.0000, 0.4138], device='cuda:0'),\n",
      " 'precision_detail': tensor([0.4138, 0.0000, 0.0000, 0.3117], device='cuda:0'),\n",
      " 'recall_detail': tensor([0.6316, 0.0000, 0.0000, 0.6154], device='cuda:0'),\n",
      " 'rocauc_detail': tensor([0.7401, 0.7686, 0.5288, 0.5705], device='cuda:0')}\n",
      "tensor([[24,  0,  0, 14],\n",
      "        [ 2,  0,  0, 17],\n",
      "        [17,  0,  0, 22],\n",
      "        [15,  0,  0, 24]], device='cuda:0')\n"
     ]
    },
    {
     "name": "stderr",
     "output_type": "stream",
     "text": [
      " 33%|███████████▍                       | 65.68750000000252/200 [09:35<27:39, 12.35s/it]"
     ]
    },
    {
     "name": "stdout",
     "output_type": "stream",
     "text": [
      "Correct: 50/135 (0.3704)\n",
      "{'acc_unweighted': tensor(0.3251, device='cuda:0'),\n",
      " 'acc_weighted': tensor(0.3704, device='cuda:0'),\n",
      " 'f1s_unweighted': tensor(0.2876, device='cuda:0'),\n",
      " 'f1s_weighted': tensor(0.3285, device='cuda:0'),\n",
      " 'rocauc': tensor(0.6842, device='cuda:0'),\n",
      " 'uar': tensor(0.3251, device='cuda:0'),\n",
      " 'wap': tensor(0.3119, device='cuda:0')}\n",
      "{'acc_detail': tensor([0.7105, 0.0000, 0.3077, 0.2821], device='cuda:0'),\n",
      " 'f1s_detail': tensor([0.5243, 0.0000, 0.3478, 0.2785], device='cuda:0'),\n",
      " 'precision_detail': tensor([0.4154, 0.0000, 0.4000, 0.2750], device='cuda:0'),\n",
      " 'recall_detail': tensor([0.7105, 0.0000, 0.3077, 0.2821], device='cuda:0'),\n",
      " 'rocauc_detail': tensor([0.7453, 0.7858, 0.6063, 0.5994], device='cuda:0')}\n",
      "tensor([[27,  0,  2,  9],\n",
      "        [ 2,  0,  9,  8],\n",
      "        [15,  0, 12, 12],\n",
      "        [21,  0,  7, 11]], device='cuda:0')\n"
     ]
    },
    {
     "name": "stderr",
     "output_type": "stream",
     "text": [
      " 36%|████████████▊                      | 72.87500000000088/200 [10:39<25:52, 12.21s/it]"
     ]
    },
    {
     "name": "stdout",
     "output_type": "stream",
     "text": [
      "Correct: 57/135 (0.4222)\n",
      "Saved new best test model: ../scb12_models/analysis/model.epoch=101.step=1616.test_acc=0.4222.pt\n",
      "{'acc_unweighted': tensor(0.4163, device='cuda:0'),\n",
      " 'acc_weighted': tensor(0.4222, device='cuda:0'),\n",
      " 'f1s_unweighted': tensor(0.4174, device='cuda:0'),\n",
      " 'f1s_weighted': tensor(0.4191, device='cuda:0'),\n",
      " 'rocauc': tensor(0.6911, device='cuda:0'),\n",
      " 'uar': tensor(0.4163, device='cuda:0'),\n",
      " 'wap': tensor(0.4300, device='cuda:0')}\n",
      "{'acc_detail': tensor([0.5789, 0.3684, 0.3077, 0.4103], device='cuda:0'),\n",
      " 'f1s_detail': tensor([0.5366, 0.4000, 0.3692, 0.3636], device='cuda:0'),\n",
      " 'precision_detail': tensor([0.5000, 0.4375, 0.4615, 0.3265], device='cuda:0'),\n",
      " 'recall_detail': tensor([0.5789, 0.3684, 0.3077, 0.4103], device='cuda:0'),\n",
      " 'rocauc_detail': tensor([0.7469, 0.7768, 0.6007, 0.6402], device='cuda:0')}\n",
      "tensor([[22,  0,  3, 13],\n",
      "        [ 2,  7,  4,  6],\n",
      "        [ 9,  4, 12, 14],\n",
      "        [11,  5,  7, 16]], device='cuda:0')\n"
     ]
    },
    {
     "name": "stderr",
     "output_type": "stream",
     "text": [
      " 40%|██████████████                     | 80.06249999999925/200 [11:43<24:54, 12.46s/it]"
     ]
    },
    {
     "name": "stdout",
     "output_type": "stream",
     "text": [
      "Correct: 54/135 (0.4000)\n",
      "{'acc_unweighted': tensor(0.3500, device='cuda:0'),\n",
      " 'acc_weighted': tensor(0.4000, device='cuda:0'),\n",
      " 'f1s_unweighted': tensor(0.3189, device='cuda:0'),\n",
      " 'f1s_weighted': tensor(0.3649, device='cuda:0'),\n",
      " 'rocauc': tensor(0.6903, device='cuda:0'),\n",
      " 'uar': tensor(0.3500, device='cuda:0'),\n",
      " 'wap': tensor(0.3401, device='cuda:0')}\n",
      "{'acc_detail': tensor([0.6053, 0.0000, 0.3333, 0.4615], device='cuda:0'),\n",
      " 'f1s_detail': tensor([0.4946, 0.0000, 0.3421, 0.4390], device='cuda:0'),\n",
      " 'precision_detail': tensor([0.4182, 0.0000, 0.3514, 0.4186], device='cuda:0'),\n",
      " 'recall_detail': tensor([0.6053, 0.0000, 0.3333, 0.4615], device='cuda:0'),\n",
      " 'rocauc_detail': tensor([0.7583, 0.7477, 0.6149, 0.6405], device='cuda:0')}\n",
      "tensor([[23,  0,  9,  6],\n",
      "        [ 5,  0,  8,  6],\n",
      "        [13,  0, 13, 13],\n",
      "        [14,  0,  7, 18]], device='cuda:0')\n"
     ]
    },
    {
     "name": "stderr",
     "output_type": "stream",
     "text": [
      " 44%|███████████████▎                   | 87.24999999999761/200 [12:46<22:54, 12.19s/it]"
     ]
    },
    {
     "name": "stdout",
     "output_type": "stream",
     "text": [
      "Correct: 54/135 (0.4000)\n",
      "{'acc_unweighted': tensor(0.3499, device='cuda:0'),\n",
      " 'acc_weighted': tensor(0.4000, device='cuda:0'),\n",
      " 'f1s_unweighted': tensor(0.3086, device='cuda:0'),\n",
      " 'f1s_weighted': tensor(0.3529, device='cuda:0'),\n",
      " 'rocauc': tensor(0.6861, device='cuda:0'),\n",
      " 'uar': tensor(0.3499, device='cuda:0'),\n",
      " 'wap': tensor(0.3515, device='cuda:0')}\n",
      "{'acc_detail': tensor([0.5789, 0.0000, 0.6154, 0.2051], device='cuda:0'),\n",
      " 'f1s_detail': tensor([0.5057, 0.0000, 0.4528, 0.2759], device='cuda:0'),\n",
      " 'precision_detail': tensor([0.4490, 0.0000, 0.3582, 0.4211], device='cuda:0'),\n",
      " 'recall_detail': tensor([0.5789, 0.0000, 0.6154, 0.2051], device='cuda:0'),\n",
      " 'rocauc_detail': tensor([0.7523, 0.7246, 0.6140, 0.6536], device='cuda:0')}\n",
      "tensor([[22,  0, 11,  5],\n",
      "        [ 3,  0, 14,  2],\n",
      "        [11,  0, 24,  4],\n",
      "        [13,  0, 18,  8]], device='cuda:0')\n"
     ]
    },
    {
     "name": "stderr",
     "output_type": "stream",
     "text": [
      " 47%|████████████████▌                  | 94.43749999999598/200 [13:49<21:23, 12.16s/it]"
     ]
    },
    {
     "name": "stdout",
     "output_type": "stream",
     "text": [
      "Correct: 50/135 (0.3704)\n",
      "{'acc_unweighted': tensor(0.3516, device='cuda:0'),\n",
      " 'acc_weighted': tensor(0.3704, device='cuda:0'),\n",
      " 'f1s_unweighted': tensor(0.3053, device='cuda:0'),\n",
      " 'f1s_weighted': tensor(0.3108, device='cuda:0'),\n",
      " 'rocauc': tensor(0.6422, device='cuda:0'),\n",
      " 'uar': tensor(0.3516, device='cuda:0'),\n",
      " 'wap': tensor(0.4053, device='cuda:0')}\n",
      "{'acc_detail': tensor([0.6316, 0.2105, 0.0256, 0.5385], device='cuda:0'),\n",
      " 'f1s_detail': tensor([0.5106, 0.2581, 0.0488, 0.4038], device='cuda:0'),\n",
      " 'precision_detail': tensor([0.4286, 0.3333, 0.5000, 0.3231], device='cuda:0'),\n",
      " 'recall_detail': tensor([0.6316, 0.2105, 0.0256, 0.5385], device='cuda:0'),\n",
      " 'rocauc_detail': tensor([0.7287, 0.7446, 0.5155, 0.5801], device='cuda:0')}\n",
      "tensor([[24,  1,  0, 13],\n",
      "        [ 2,  4,  0, 13],\n",
      "        [16,  4,  1, 18],\n",
      "        [14,  3,  1, 21]], device='cuda:0')\n"
     ]
    },
    {
     "name": "stderr",
     "output_type": "stream",
     "text": [
      " 51%|█████████████████▎                | 101.62499999999434/200 [14:52<19:58, 12.18s/it]"
     ]
    },
    {
     "name": "stdout",
     "output_type": "stream",
     "text": [
      "Correct: 42/135 (0.3111)\n",
      "{'acc_unweighted': tensor(0.2697, device='cuda:0'),\n",
      " 'acc_weighted': tensor(0.3111, device='cuda:0'),\n",
      " 'f1s_unweighted': tensor(0.1506, device='cuda:0'),\n",
      " 'f1s_weighted': tensor(0.1730, device='cuda:0'),\n",
      " 'rocauc': tensor(0.5996, device='cuda:0'),\n",
      " 'uar': tensor(0.2697, device='cuda:0'),\n",
      " 'wap': tensor(0.3668, device='cuda:0')}\n",
      "{'acc_detail': tensor([0.0789, 0.0000, 0.0000, 1.0000], device='cuda:0'),\n",
      " 'f1s_detail': tensor([0.1463, 0.0000, 0.0000, 0.4561], device='cuda:0'),\n",
      " 'precision_detail': tensor([1.0000, 0.0000, 0.0000, 0.2955], device='cuda:0'),\n",
      " 'recall_detail': tensor([0.0789, 0.0000, 0.0000, 1.0000], device='cuda:0'),\n",
      " 'rocauc_detail': tensor([0.7580, 0.7391, 0.4159, 0.4853], device='cuda:0')}\n",
      "tensor([[ 3,  0,  0, 35],\n",
      "        [ 0,  0,  0, 19],\n",
      "        [ 0,  0,  0, 39],\n",
      "        [ 0,  0,  0, 39]], device='cuda:0')\n"
     ]
    },
    {
     "name": "stderr",
     "output_type": "stream",
     "text": [
      " 54%|██████████████████▍               | 108.81249999999271/200 [15:55<18:52, 12.42s/it]"
     ]
    },
    {
     "name": "stdout",
     "output_type": "stream",
     "text": [
      "Correct: 49/135 (0.3630)\n",
      "{'acc_unweighted': tensor(0.3261, device='cuda:0'),\n",
      " 'acc_weighted': tensor(0.3630, device='cuda:0'),\n",
      " 'f1s_unweighted': tensor(0.2474, device='cuda:0'),\n",
      " 'f1s_weighted': tensor(0.2680, device='cuda:0'),\n",
      " 'rocauc': tensor(0.6386, device='cuda:0'),\n",
      " 'uar': tensor(0.3261, device='cuda:0'),\n",
      " 'wap': tensor(0.2737, device='cuda:0')}\n",
      "{'acc_detail': tensor([0.8158, 0.0526, 0.0000, 0.4359], device='cuda:0'),\n",
      " 'f1s_detail': tensor([0.5124, 0.0952, 0.0000, 0.3820], device='cuda:0'),\n",
      " 'precision_detail': tensor([0.3735, 0.5000, 0.0000, 0.3400], device='cuda:0'),\n",
      " 'recall_detail': tensor([0.8158, 0.0526, 0.0000, 0.4359], device='cuda:0'),\n",
      " 'rocauc_detail': tensor([0.7322, 0.7491, 0.5043, 0.5686], device='cuda:0')}\n",
      "tensor([[31,  0,  0,  7],\n",
      "        [ 6,  1,  0, 12],\n",
      "        [24,  1,  0, 14],\n",
      "        [22,  0,  0, 17]], device='cuda:0')\n"
     ]
    },
    {
     "name": "stderr",
     "output_type": "stream",
     "text": [
      " 58%|███████████████████▋              | 115.99999999999108/200 [16:58<17:07, 12.24s/it]"
     ]
    },
    {
     "name": "stdout",
     "output_type": "stream",
     "text": [
      "Correct: 44/135 (0.3259)\n",
      "{'acc_unweighted': tensor(0.2863, device='cuda:0'),\n",
      " 'acc_weighted': tensor(0.3259, device='cuda:0'),\n",
      " 'f1s_unweighted': tensor(0.2122, device='cuda:0'),\n",
      " 'f1s_weighted': tensor(0.2415, device='cuda:0'),\n",
      " 'rocauc': tensor(0.6388, device='cuda:0'),\n",
      " 'uar': tensor(0.2863, device='cuda:0'),\n",
      " 'wap': tensor(0.1919, device='cuda:0')}\n",
      "{'acc_detail': tensor([0.6579, 0.0000, 0.0000, 0.4872], device='cuda:0'),\n",
      " 'f1s_detail': tensor([0.4902, 0.0000, 0.0000, 0.3585], device='cuda:0'),\n",
      " 'precision_detail': tensor([0.3906, 0.0000, 0.0000, 0.2836], device='cuda:0'),\n",
      " 'recall_detail': tensor([0.6579, 0.0000, 0.0000, 0.4872], device='cuda:0'),\n",
      " 'rocauc_detail': tensor([0.7284, 0.7473, 0.5080, 0.5713], device='cuda:0')}\n",
      "tensor([[25,  0,  1, 12],\n",
      "        [ 3,  0,  0, 16],\n",
      "        [19,  0,  0, 20],\n",
      "        [17,  0,  3, 19]], device='cuda:0')\n"
     ]
    },
    {
     "name": "stderr",
     "output_type": "stream",
     "text": [
      " 62%|████████████████████▉             | 123.18749999998944/200 [18:02<16:03, 12.54s/it]"
     ]
    },
    {
     "name": "stdout",
     "output_type": "stream",
     "text": [
      "Correct: 51/135 (0.3778)\n",
      "{'acc_unweighted': tensor(0.3581, device='cuda:0'),\n",
      " 'acc_weighted': tensor(0.3778, device='cuda:0'),\n",
      " 'f1s_unweighted': tensor(0.3462, device='cuda:0'),\n",
      " 'f1s_weighted': tensor(0.3617, device='cuda:0'),\n",
      " 'rocauc': tensor(0.6395, device='cuda:0'),\n",
      " 'uar': tensor(0.3581, device='cuda:0'),\n",
      " 'wap': tensor(0.3844, device='cuda:0')}\n",
      "{'acc_detail': tensor([0.6579, 0.2105, 0.2564, 0.3077], device='cuda:0'),\n",
      " 'f1s_detail': tensor([0.4762, 0.2353, 0.2985, 0.3750], device='cuda:0'),\n",
      " 'precision_detail': tensor([0.3731, 0.2667, 0.3571, 0.4800], device='cuda:0'),\n",
      " 'recall_detail': tensor([0.6579, 0.2105, 0.2564, 0.3077], device='cuda:0'),\n",
      " 'rocauc_detail': tensor([0.7249, 0.7473, 0.5000, 0.5857], device='cuda:0')}\n",
      "tensor([[25,  2, 10,  1],\n",
      "        [ 3,  4,  5,  7],\n",
      "        [19,  5, 10,  5],\n",
      "        [20,  4,  3, 12]], device='cuda:0')\n"
     ]
    },
    {
     "name": "stderr",
     "output_type": "stream",
     "text": [
      " 65%|██████████████████████▏           | 130.37499999998943/200 [19:05<14:16, 12.30s/it]"
     ]
    },
    {
     "name": "stdout",
     "output_type": "stream",
     "text": [
      "Correct: 50/135 (0.3704)\n",
      "{'acc_unweighted': tensor(0.3445, device='cuda:0'),\n",
      " 'acc_weighted': tensor(0.3704, device='cuda:0'),\n",
      " 'f1s_unweighted': tensor(0.3395, device='cuda:0'),\n",
      " 'f1s_weighted': tensor(0.3593, device='cuda:0'),\n",
      " 'rocauc': tensor(0.6451, device='cuda:0'),\n",
      " 'uar': tensor(0.3445, device='cuda:0'),\n",
      " 'wap': tensor(0.3674, device='cuda:0')}\n",
      "{'acc_detail': tensor([0.5789, 0.1579, 0.3077, 0.3333], device='cuda:0'),\n",
      " 'f1s_detail': tensor([0.4681, 0.2000, 0.3077, 0.3824], device='cuda:0'),\n",
      " 'precision_detail': tensor([0.3929, 0.2727, 0.3077, 0.4483], device='cuda:0'),\n",
      " 'recall_detail': tensor([0.5789, 0.1579, 0.3077, 0.3333], device='cuda:0'),\n",
      " 'rocauc_detail': tensor([0.6975, 0.7450, 0.5248, 0.6130], device='cuda:0')}\n",
      "tensor([[22,  1, 13,  2],\n",
      "        [ 2,  3,  6,  8],\n",
      "        [17,  4, 12,  6],\n",
      "        [15,  3,  8, 13]], device='cuda:0')\n"
     ]
    },
    {
     "name": "stderr",
     "output_type": "stream",
     "text": [
      " 69%|████████████████████████           | 137.5624999999927/200 [20:08<12:47, 12.29s/it]"
     ]
    },
    {
     "name": "stdout",
     "output_type": "stream",
     "text": [
      "Correct: 51/135 (0.3778)\n",
      "{'acc_unweighted': tensor(0.3704, device='cuda:0'),\n",
      " 'acc_weighted': tensor(0.3778, device='cuda:0'),\n",
      " 'f1s_unweighted': tensor(0.3401, device='cuda:0'),\n",
      " 'f1s_weighted': tensor(0.3370, device='cuda:0'),\n",
      " 'rocauc': tensor(0.6572, device='cuda:0'),\n",
      " 'uar': tensor(0.3704, device='cuda:0'),\n",
      " 'wap': tensor(0.4100, device='cuda:0')}\n",
      "{'acc_detail': tensor([0.4737, 0.3158, 0.6410, 0.0513], device='cuda:0'),\n",
      " 'f1s_detail': tensor([0.5000, 0.3529, 0.4167, 0.0909], device='cuda:0'),\n",
      " 'precision_detail': tensor([0.5294, 0.4000, 0.3086, 0.4000], device='cuda:0'),\n",
      " 'recall_detail': tensor([0.4737, 0.3158, 0.6410, 0.0513], device='cuda:0'),\n",
      " 'rocauc_detail': tensor([0.7271, 0.7663, 0.5150, 0.6205], device='cuda:0')}\n",
      "tensor([[18,  2, 17,  1],\n",
      "        [ 0,  6, 13,  0],\n",
      "        [ 8,  4, 25,  2],\n",
      "        [ 8,  3, 26,  2]], device='cuda:0')\n"
     ]
    },
    {
     "name": "stderr",
     "output_type": "stream",
     "text": [
      " 72%|█████████████████████████▏         | 143.7499999999955/200 [21:01<08:13,  8.77s/it]\n"
     ]
    }
   ],
   "source": [
    "# trainer.fit(n_epoch=200, test_n_epoch=10)"
   ]
  },
  {
   "cell_type": "code",
   "execution_count": 23,
   "id": "e3143462-3c1f-42e9-ba2b-7a99728cd64c",
   "metadata": {},
   "outputs": [],
   "source": [
    "from IConNet.nn.model import M11"
   ]
  },
  {
   "cell_type": "code",
   "execution_count": 24,
   "id": "e683143d-bacd-4144-9ad5-253dc9239ca7",
   "metadata": {},
   "outputs": [
    {
     "data": {
      "text/plain": [
       "{'name': 'M10', 'description': 'gated residual FirConv', 'fe': {'n_block': 2, 'n_channel': [64, 64], 'kernel_size': [511, 127], 'stride': [2, 8], 'window_k': [2, 9], 'residual_connection_type': 'concat', 'pooling': 'max'}, 'cls': {'n_block': 2, 'n_hidden_dim': [128, 128]}}"
      ]
     },
     "execution_count": 24,
     "metadata": {},
     "output_type": "execute_result"
    }
   ],
   "source": [
    "model_config_path = 'config/model/m10.yaml'\n",
    "model_config = ocf.load(model_config_path)\n",
    "model_config"
   ]
  },
  {
   "cell_type": "code",
   "execution_count": 25,
   "id": "0990803d-7f81-44b0-b91b-2c300f223ec5",
   "metadata": {
    "scrolled": true
   },
   "outputs": [
    {
     "data": {
      "text/plain": [
       "M11(\n",
       "  (fe_blocks): FeBlocks(\n",
       "    (blocks): ModuleList(\n",
       "      (0-1): 2 x FrontEndBlock(\n",
       "        (block): ModuleDict(\n",
       "          (layer): FirConvLayer(\n",
       "            (conv_layer): ResidualConv1d(\n",
       "              (pad_layer): PadForConv()\n",
       "              (stride_layer): DownsampleLayer(\n",
       "                (pad_right): PadForConv()\n",
       "              )\n",
       "              (norm_layer): CustomNormLayer(\n",
       "                (layer): LocalResponseNorm(2, alpha=0.0001, beta=0.75, k=1.0)\n",
       "              )\n",
       "              (act): NLReLU()\n",
       "            )\n",
       "          )\n",
       "          (downsample): ResidualConv1d(\n",
       "            (pad_layer): PadForConv()\n",
       "            (stride_layer): DownsampleLayer(\n",
       "              (pad_right): PadForConv()\n",
       "            )\n",
       "            (norm_layer): CustomNormLayer(\n",
       "              (layer): LocalResponseNorm(2, alpha=0.0001, beta=0.75, k=1.0)\n",
       "            )\n",
       "            (act): NLReLU()\n",
       "          )\n",
       "        )\n",
       "      )\n",
       "    )\n",
       "  )\n",
       "  (seq_blocks): Seq2SeqBlocks(\n",
       "    (blocks): LSTM(64, 64, batch_first=True)\n",
       "  )\n",
       "  (cls_head): Classifier(\n",
       "    (blocks): ModuleList(\n",
       "      (0): Sequential(\n",
       "        (norm): LayerNorm((64,), eps=1e-05, elementwise_affine=True)\n",
       "        (layer): Linear(in_features=64, out_features=128, bias=True)\n",
       "      )\n",
       "      (1): Sequential(\n",
       "        (norm): LayerNorm((128,), eps=1e-05, elementwise_affine=True)\n",
       "        (layer): Linear(in_features=128, out_features=128, bias=True)\n",
       "      )\n",
       "    )\n",
       "    (act): LeakyReLU(negative_slope=0.01)\n",
       "    (output_layer): Linear(in_features=128, out_features=4, bias=True)\n",
       "  )\n",
       ")"
      ]
     },
     "execution_count": 25,
     "metadata": {},
     "output_type": "execute_result"
    }
   ],
   "source": [
    "model = M11(config=model_config,\n",
    "           n_input=3, n_output=4)\n",
    "model"
   ]
  },
  {
   "cell_type": "code",
   "execution_count": 26,
   "id": "b8526368-9133-4626-bf6a-ada85871c636",
   "metadata": {},
   "outputs": [],
   "source": [
    "trainer = Trainer_custom(batch_size=batch_size, log_dir=log_dir, \n",
    "                  experiment_prefix=experiment_prefix, device=device,\n",
    "                 accumulate_grad_batches=2, gradient_clip_val=1.)\n",
    "\n",
    "trainer.prepare(train_loader=train_loader, \n",
    "                test_loader=test_loader, \n",
    "                batch_size=batch_size)"
   ]
  },
  {
   "cell_type": "code",
   "execution_count": 27,
   "id": "aefd9685-0976-455b-83d6-869f4ae8756a",
   "metadata": {},
   "outputs": [],
   "source": [
    "trainer.setup(model, lr=1e-4)"
   ]
  },
  {
   "cell_type": "code",
   "execution_count": 28,
   "id": "9ff3a79d-cf9b-44b9-89b8-02d9c7c04fb0",
   "metadata": {
    "scrolled": true
   },
   "outputs": [
    {
     "name": "stderr",
     "output_type": "stream",
     "text": [
      "  1%|▏                                 | 1.0000000000000007/200 [00:09<41:31, 12.52s/it]"
     ]
    },
    {
     "name": "stdout",
     "output_type": "stream",
     "text": [
      "Correct: 39/135 (0.2889)\n",
      "Saved new best test model: ../scb12_models/analysis/model.epoch=1.step=24.test_acc=0.2889.pt\n",
      "{'acc_unweighted': tensor(0.2561, device='cuda:0'),\n",
      " 'acc_weighted': tensor(0.2889, device='cuda:0'),\n",
      " 'f1s_unweighted': tensor(0.1410, device='cuda:0'),\n",
      " 'f1s_weighted': tensor(0.1598, device='cuda:0'),\n",
      " 'rocauc': tensor(0.4718, device='cuda:0'),\n",
      " 'uar': tensor(0.2561, device='cuda:0'),\n",
      " 'wap': tensor(0.2030, device='cuda:0')}\n",
      "{'acc_detail': tensor([0.9474, 0.0000, 0.0769, 0.0000], device='cuda:0'),\n",
      " 'f1s_detail': tensor([0.4337, 0.0000, 0.1304, 0.0000], device='cuda:0'),\n",
      " 'precision_detail': tensor([0.2812, 0.0000, 0.4286, 0.0000], device='cuda:0'),\n",
      " 'recall_detail': tensor([0.9474, 0.0000, 0.0769, 0.0000], device='cuda:0'),\n",
      " 'rocauc_detail': tensor([0.4373, 0.4714, 0.5235, 0.4549], device='cuda:0')}\n",
      "tensor([[36,  0,  2,  0],\n",
      "        [19,  0,  0,  0],\n",
      "        [36,  0,  3,  0],\n",
      "        [37,  0,  2,  0]], device='cuda:0')\n"
     ]
    },
    {
     "name": "stderr",
     "output_type": "stream",
     "text": [
      "  4%|█▍                                  | 8.18749999999996/200 [01:03<38:44, 12.12s/it]"
     ]
    },
    {
     "name": "stdout",
     "output_type": "stream",
     "text": [
      "Correct: 50/135 (0.3704)\n",
      "Saved new best test model: ../scb12_models/analysis/model.epoch=11.step=264.test_acc=0.3704.pt\n",
      "{'acc_unweighted': tensor(0.3252, device='cuda:0'),\n",
      " 'acc_weighted': tensor(0.3704, device='cuda:0'),\n",
      " 'f1s_unweighted': tensor(0.2368, device='cuda:0'),\n",
      " 'f1s_weighted': tensor(0.2698, device='cuda:0'),\n",
      " 'rocauc': tensor(0.6294, device='cuda:0'),\n",
      " 'uar': tensor(0.3252, device='cuda:0'),\n",
      " 'wap': tensor(0.2122, device='cuda:0')}\n",
      "{'acc_detail': tensor([0.7368, 0.0000, 0.0000, 0.5641], device='cuda:0'),\n",
      " 'f1s_detail': tensor([0.5283, 0.0000, 0.0000, 0.4190], device='cuda:0'),\n",
      " 'precision_detail': tensor([0.4118, 0.0000, 0.0000, 0.3333], device='cuda:0'),\n",
      " 'recall_detail': tensor([0.7368, 0.0000, 0.0000, 0.5641], device='cuda:0'),\n",
      " 'rocauc_detail': tensor([0.7244, 0.6919, 0.5013, 0.5999], device='cuda:0')}\n",
      "tensor([[28,  0,  1,  9],\n",
      "        [ 4,  0,  0, 15],\n",
      "        [19,  0,  0, 20],\n",
      "        [17,  0,  0, 22]], device='cuda:0')\n"
     ]
    },
    {
     "name": "stderr",
     "output_type": "stream",
     "text": [
      "  8%|██▌                               | 15.375000000000163/200 [01:58<37:45, 12.27s/it]"
     ]
    },
    {
     "name": "stdout",
     "output_type": "stream",
     "text": [
      "Correct: 58/135 (0.4296)\n",
      "Saved new best test model: ../scb12_models/analysis/model.epoch=21.step=504.test_acc=0.4296.pt\n",
      "{'acc_unweighted': tensor(0.4158, device='cuda:0'),\n",
      " 'acc_weighted': tensor(0.4296, device='cuda:0'),\n",
      " 'f1s_unweighted': tensor(0.4205, device='cuda:0'),\n",
      " 'f1s_weighted': tensor(0.4325, device='cuda:0'),\n",
      " 'rocauc': tensor(0.6594, device='cuda:0'),\n",
      " 'uar': tensor(0.4158, device='cuda:0'),\n",
      " 'wap': tensor(0.4540, device='cuda:0')}\n",
      "{'acc_detail': tensor([0.5526, 0.3158, 0.4359, 0.3590], device='cuda:0'),\n",
      " 'f1s_detail': tensor([0.5455, 0.3333, 0.3656, 0.4375], device='cuda:0'),\n",
      " 'precision_detail': tensor([0.5385, 0.3529, 0.3148, 0.5600], device='cuda:0'),\n",
      " 'recall_detail': tensor([0.5526, 0.3158, 0.4359, 0.3590], device='cuda:0'),\n",
      " 'rocauc_detail': tensor([0.7241, 0.7627, 0.5200, 0.6306], device='cuda:0')}\n",
      "tensor([[21,  0, 14,  3],\n",
      "        [ 1,  6, 11,  1],\n",
      "        [11,  4, 17,  7],\n",
      "        [ 6,  7, 12, 14]], device='cuda:0')\n"
     ]
    },
    {
     "name": "stderr",
     "output_type": "stream",
     "text": [
      " 11%|███▊                              | 22.562499999999808/200 [02:52<35:49, 12.11s/it]"
     ]
    },
    {
     "name": "stdout",
     "output_type": "stream",
     "text": [
      "Correct: 49/135 (0.3630)\n",
      "{'acc_unweighted': tensor(0.3193, device='cuda:0'),\n",
      " 'acc_weighted': tensor(0.3630, device='cuda:0'),\n",
      " 'f1s_unweighted': tensor(0.2501, device='cuda:0'),\n",
      " 'f1s_weighted': tensor(0.2851, device='cuda:0'),\n",
      " 'rocauc': tensor(0.6553, device='cuda:0'),\n",
      " 'uar': tensor(0.3193, device='cuda:0'),\n",
      " 'wap': tensor(0.3237, device='cuda:0')}\n",
      "{'acc_detail': tensor([0.8158, 0.0000, 0.0769, 0.3846], device='cuda:0'),\n",
      " 'f1s_detail': tensor([0.5210, 0.0000, 0.1304, 0.3488], device='cuda:0'),\n",
      " 'precision_detail': tensor([0.3827, 0.0000, 0.4286, 0.3191], device='cuda:0'),\n",
      " 'recall_detail': tensor([0.8158, 0.0000, 0.0769, 0.3846], device='cuda:0'),\n",
      " 'rocauc_detail': tensor([0.7572, 0.7532, 0.5262, 0.5847], device='cuda:0')}\n",
      "tensor([[31,  0,  1,  6],\n",
      "        [ 6,  0,  1, 12],\n",
      "        [22,  0,  3, 14],\n",
      "        [22,  0,  2, 15]], device='cuda:0')\n"
     ]
    },
    {
     "name": "stderr",
     "output_type": "stream",
     "text": [
      " 15%|█████▎                              | 29.7499999999994/200 [03:47<34:26, 12.14s/it]"
     ]
    },
    {
     "name": "stdout",
     "output_type": "stream",
     "text": [
      "Correct: 55/135 (0.4074)\n",
      "{'acc_unweighted': tensor(0.3564, device='cuda:0'),\n",
      " 'acc_weighted': tensor(0.4074, device='cuda:0'),\n",
      " 'f1s_unweighted': tensor(0.3313, device='cuda:0'),\n",
      " 'f1s_weighted': tensor(0.3786, device='cuda:0'),\n",
      " 'rocauc': tensor(0.6650, device='cuda:0'),\n",
      " 'uar': tensor(0.3564, device='cuda:0'),\n",
      " 'wap': tensor(0.3540, device='cuda:0')}\n",
      "{'acc_detail': tensor([0.6053, 0.0000, 0.3590, 0.4615], device='cuda:0'),\n",
      " 'f1s_detail': tensor([0.5679, 0.0000, 0.3182, 0.4390], device='cuda:0'),\n",
      " 'precision_detail': tensor([0.5349, 0.0000, 0.2857, 0.4186], device='cuda:0'),\n",
      " 'recall_detail': tensor([0.6053, 0.0000, 0.3590, 0.4615], device='cuda:0'),\n",
      " 'rocauc_detail': tensor([0.7404, 0.7709, 0.5088, 0.6400], device='cuda:0')}\n",
      "tensor([[23,  0,  7,  8],\n",
      "        [ 1,  0, 14,  4],\n",
      "        [12,  0, 14, 13],\n",
      "        [ 7,  0, 14, 18]], device='cuda:0')\n"
     ]
    },
    {
     "name": "stderr",
     "output_type": "stream",
     "text": [
      " 18%|██████▍                            | 36.93749999999983/200 [04:42<33:10, 12.21s/it]"
     ]
    },
    {
     "name": "stdout",
     "output_type": "stream",
     "text": [
      "Correct: 54/135 (0.4000)\n",
      "{'acc_unweighted': tensor(0.3500, device='cuda:0'),\n",
      " 'acc_weighted': tensor(0.4000, device='cuda:0'),\n",
      " 'f1s_unweighted': tensor(0.3215, device='cuda:0'),\n",
      " 'f1s_weighted': tensor(0.3676, device='cuda:0'),\n",
      " 'rocauc': tensor(0.6645, device='cuda:0'),\n",
      " 'uar': tensor(0.3500, device='cuda:0'),\n",
      " 'wap': tensor(0.3529, device='cuda:0')}\n",
      "{'acc_detail': tensor([0.6053, 0.0000, 0.4615, 0.3333], device='cuda:0'),\n",
      " 'f1s_detail': tensor([0.5287, 0.0000, 0.3750, 0.3824], device='cuda:0'),\n",
      " 'precision_detail': tensor([0.4694, 0.0000, 0.3158, 0.4483], device='cuda:0'),\n",
      " 'recall_detail': tensor([0.6053, 0.0000, 0.4615, 0.3333], device='cuda:0'),\n",
      " 'rocauc_detail': tensor([0.7461, 0.7659, 0.5160, 0.6301], device='cuda:0')}\n",
      "tensor([[23,  0, 10,  5],\n",
      "        [ 1,  0, 14,  4],\n",
      "        [14,  0, 18,  7],\n",
      "        [11,  0, 15, 13]], device='cuda:0')\n"
     ]
    },
    {
     "name": "stderr",
     "output_type": "stream",
     "text": [
      " 22%|███████▋                           | 44.12500000000065/200 [05:36<31:25, 12.10s/it]"
     ]
    },
    {
     "name": "stdout",
     "output_type": "stream",
     "text": [
      "Correct: 56/135 (0.4148)\n",
      "{'acc_unweighted': tensor(0.3629, device='cuda:0'),\n",
      " 'acc_weighted': tensor(0.4148, device='cuda:0'),\n",
      " 'f1s_unweighted': tensor(0.3256, device='cuda:0'),\n",
      " 'f1s_weighted': tensor(0.3722, device='cuda:0'),\n",
      " 'rocauc': tensor(0.6831, device='cuda:0'),\n",
      " 'uar': tensor(0.3629, device='cuda:0'),\n",
      " 'wap': tensor(0.3447, device='cuda:0')}\n",
      "{'acc_detail': tensor([0.6053, 0.0000, 0.2308, 0.6154], device='cuda:0'),\n",
      " 'f1s_detail': tensor([0.5542, 0.0000, 0.2535, 0.4948], device='cuda:0'),\n",
      " 'precision_detail': tensor([0.5111, 0.0000, 0.2812, 0.4138], device='cuda:0'),\n",
      " 'recall_detail': tensor([0.6053, 0.0000, 0.2308, 0.6154], device='cuda:0'),\n",
      " 'rocauc_detail': tensor([0.7651, 0.7872, 0.5564, 0.6237], device='cuda:0')}\n",
      "tensor([[23,  0,  5, 10],\n",
      "        [ 1,  0, 11,  7],\n",
      "        [13,  0,  9, 17],\n",
      "        [ 8,  0,  7, 24]], device='cuda:0')\n"
     ]
    },
    {
     "name": "stderr",
     "output_type": "stream",
     "text": [
      " 26%|████████▋                         | 51.312500000001464/200 [06:31<30:33, 12.33s/it]"
     ]
    },
    {
     "name": "stdout",
     "output_type": "stream",
     "text": [
      "Correct: 55/135 (0.4074)\n",
      "{'acc_unweighted': tensor(0.3566, device='cuda:0'),\n",
      " 'acc_weighted': tensor(0.4074, device='cuda:0'),\n",
      " 'f1s_unweighted': tensor(0.3297, device='cuda:0'),\n",
      " 'f1s_weighted': tensor(0.3767, device='cuda:0'),\n",
      " 'rocauc': tensor(0.6809, device='cuda:0'),\n",
      " 'uar': tensor(0.3566, device='cuda:0'),\n",
      " 'wap': tensor(0.3520, device='cuda:0')}\n",
      "{'acc_detail': tensor([0.6316, 0.0000, 0.3846, 0.4103], device='cuda:0'),\n",
      " 'f1s_detail': tensor([0.5714, 0.0000, 0.3371, 0.4103], device='cuda:0'),\n",
      " 'precision_detail': tensor([0.5217, 0.0000, 0.3000, 0.4103], device='cuda:0'),\n",
      " 'recall_detail': tensor([0.6316, 0.0000, 0.3846, 0.4103], device='cuda:0'),\n",
      " 'rocauc_detail': tensor([0.7713, 0.7940, 0.5198, 0.6386], device='cuda:0')}\n",
      "tensor([[24,  0,  5,  9],\n",
      "        [ 2,  0, 15,  2],\n",
      "        [12,  0, 15, 12],\n",
      "        [ 8,  0, 15, 16]], device='cuda:0')\n"
     ]
    },
    {
     "name": "stderr",
     "output_type": "stream",
     "text": [
      " 29%|██████████▏                        | 58.50000000000228/200 [07:25<28:53, 12.25s/it]"
     ]
    },
    {
     "name": "stdout",
     "output_type": "stream",
     "text": [
      "Correct: 52/135 (0.3852)\n",
      "{'acc_unweighted': tensor(0.3504, device='cuda:0'),\n",
      " 'acc_weighted': tensor(0.3852, device='cuda:0'),\n",
      " 'f1s_unweighted': tensor(0.3248, device='cuda:0'),\n",
      " 'f1s_weighted': tensor(0.3475, device='cuda:0'),\n",
      " 'rocauc': tensor(0.6644, device='cuda:0'),\n",
      " 'uar': tensor(0.3504, device='cuda:0'),\n",
      " 'wap': tensor(0.3775, device='cuda:0')}\n",
      "{'acc_detail': tensor([0.5526, 0.1053, 0.1026, 0.6410], device='cuda:0'),\n",
      " 'f1s_detail': tensor([0.5600, 0.1600, 0.1481, 0.4310], device='cuda:0'),\n",
      " 'precision_detail': tensor([0.5676, 0.3333, 0.2667, 0.3247], device='cuda:0'),\n",
      " 'recall_detail': tensor([0.5526, 0.1053, 0.1026, 0.6410], device='cuda:0'),\n",
      " 'rocauc_detail': tensor([0.7678, 0.7722, 0.5139, 0.6039], device='cuda:0')}\n",
      "tensor([[21,  0,  1, 16],\n",
      "        [ 1,  2,  6, 10],\n",
      "        [ 9,  0,  4, 26],\n",
      "        [ 6,  4,  4, 25]], device='cuda:0')\n"
     ]
    },
    {
     "name": "stderr",
     "output_type": "stream",
     "text": [
      " 33%|███████████▍                       | 65.68750000000252/200 [08:20<27:14, 12.17s/it]"
     ]
    },
    {
     "name": "stdout",
     "output_type": "stream",
     "text": [
      "Correct: 60/135 (0.4444)\n",
      "Saved new best test model: ../scb12_models/analysis/model.epoch=91.step=2184.test_acc=0.4444.pt\n",
      "{'acc_unweighted': tensor(0.3883, device='cuda:0'),\n",
      " 'acc_weighted': tensor(0.4444, device='cuda:0'),\n",
      " 'f1s_unweighted': tensor(0.3512, device='cuda:0'),\n",
      " 'f1s_weighted': tensor(0.4016, device='cuda:0'),\n",
      " 'rocauc': tensor(0.6988, device='cuda:0'),\n",
      " 'uar': tensor(0.3883, device='cuda:0'),\n",
      " 'wap': tensor(0.3813, device='cuda:0')}\n",
      "{'acc_detail': tensor([0.5789, 0.0000, 0.2821, 0.6923], device='cuda:0'),\n",
      " 'f1s_detail': tensor([0.5714, 0.0000, 0.3143, 0.5192], device='cuda:0'),\n",
      " 'precision_detail': tensor([0.5641, 0.0000, 0.3548, 0.4154], device='cuda:0'),\n",
      " 'recall_detail': tensor([0.5789, 0.0000, 0.2821, 0.6923], device='cuda:0'),\n",
      " 'rocauc_detail': tensor([0.7613, 0.7754, 0.5726, 0.6859], device='cuda:0')}\n",
      "tensor([[22,  0,  7,  9],\n",
      "        [ 1,  0,  7, 11],\n",
      "        [10,  0, 11, 18],\n",
      "        [ 6,  0,  6, 27]], device='cuda:0')\n"
     ]
    },
    {
     "name": "stderr",
     "output_type": "stream",
     "text": [
      " 36%|████████████▊                      | 72.87500000000088/200 [09:15<26:00, 12.27s/it]"
     ]
    },
    {
     "name": "stdout",
     "output_type": "stream",
     "text": [
      "Correct: 58/135 (0.4296)\n",
      "{'acc_unweighted': tensor(0.3755, device='cuda:0'),\n",
      " 'acc_weighted': tensor(0.4296, device='cuda:0'),\n",
      " 'f1s_unweighted': tensor(0.3493, device='cuda:0'),\n",
      " 'f1s_weighted': tensor(0.3995, device='cuda:0'),\n",
      " 'rocauc': tensor(0.6712, device='cuda:0'),\n",
      " 'uar': tensor(0.3755, device='cuda:0'),\n",
      " 'wap': tensor(0.3748, device='cuda:0')}\n",
      "{'acc_detail': tensor([0.5789, 0.0000, 0.4615, 0.4615], device='cuda:0'),\n",
      " 'f1s_detail': tensor([0.5570, 0.0000, 0.3956, 0.4444], device='cuda:0'),\n",
      " 'precision_detail': tensor([0.5366, 0.0000, 0.3462, 0.4286], device='cuda:0'),\n",
      " 'recall_detail': tensor([0.5789, 0.0000, 0.4615, 0.4615], device='cuda:0'),\n",
      " 'rocauc_detail': tensor([0.7526, 0.7591, 0.5171, 0.6562], device='cuda:0')}\n",
      "tensor([[22,  0,  7,  9],\n",
      "        [ 1,  0, 13,  5],\n",
      "        [11,  0, 18, 10],\n",
      "        [ 7,  0, 14, 18]], device='cuda:0')\n"
     ]
    },
    {
     "name": "stderr",
     "output_type": "stream",
     "text": [
      " 40%|██████████████                     | 80.06249999999925/200 [10:09<24:54, 12.46s/it]"
     ]
    },
    {
     "name": "stdout",
     "output_type": "stream",
     "text": [
      "Correct: 63/135 (0.4667)\n",
      "Saved new best test model: ../scb12_models/analysis/model.epoch=111.step=2664.test_acc=0.4667.pt\n",
      "{'acc_unweighted': tensor(0.4074, device='cuda:0'),\n",
      " 'acc_weighted': tensor(0.4667, device='cuda:0'),\n",
      " 'f1s_unweighted': tensor(0.3749, device='cuda:0'),\n",
      " 'f1s_weighted': tensor(0.4292, device='cuda:0'),\n",
      " 'rocauc': tensor(0.6950, device='cuda:0'),\n",
      " 'uar': tensor(0.4074, device='cuda:0'),\n",
      " 'wap': tensor(0.4014, device='cuda:0')}\n",
      "{'acc_detail': tensor([0.5526, 0.0000, 0.4359, 0.6410], device='cuda:0'),\n",
      " 'f1s_detail': tensor([0.5316, 0.0000, 0.4359, 0.5319], device='cuda:0'),\n",
      " 'precision_detail': tensor([0.5122, 0.0000, 0.4359, 0.4545], device='cuda:0'),\n",
      " 'recall_detail': tensor([0.5526, 0.0000, 0.4359, 0.6410], device='cuda:0'),\n",
      " 'rocauc_detail': tensor([0.7531, 0.7409, 0.5601, 0.7257], device='cuda:0')}\n",
      "tensor([[21,  0,  6, 11],\n",
      "        [ 2,  0,  9,  8],\n",
      "        [11,  0, 17, 11],\n",
      "        [ 7,  0,  7, 25]], device='cuda:0')\n"
     ]
    },
    {
     "name": "stderr",
     "output_type": "stream",
     "text": [
      " 44%|███████████████▎                   | 87.24999999999761/200 [11:04<23:06, 12.30s/it]"
     ]
    },
    {
     "name": "stdout",
     "output_type": "stream",
     "text": [
      "Correct: 53/135 (0.3926)\n",
      "{'acc_unweighted': tensor(0.3424, device='cuda:0'),\n",
      " 'acc_weighted': tensor(0.3926, device='cuda:0'),\n",
      " 'f1s_unweighted': tensor(0.3143, device='cuda:0'),\n",
      " 'f1s_weighted': tensor(0.3594, device='cuda:0'),\n",
      " 'rocauc': tensor(0.6809, device='cuda:0'),\n",
      " 'uar': tensor(0.3424, device='cuda:0'),\n",
      " 'wap': tensor(0.3711, device='cuda:0')}\n",
      "{'acc_detail': tensor([0.4211, 0.0000, 0.2564, 0.6923], device='cuda:0'),\n",
      " 'f1s_detail': tensor([0.5161, 0.0000, 0.2632, 0.4779], device='cuda:0'),\n",
      " 'precision_detail': tensor([0.6667, 0.0000, 0.2703, 0.3649], device='cuda:0'),\n",
      " 'recall_detail': tensor([0.4211, 0.0000, 0.2564, 0.6923], device='cuda:0'),\n",
      " 'rocauc_detail': tensor([0.7743, 0.8067, 0.5238, 0.6189], device='cuda:0')}\n",
      "tensor([[16,  0,  3, 19],\n",
      "        [ 0,  0, 13,  6],\n",
      "        [ 7,  0, 10, 22],\n",
      "        [ 1,  0, 11, 27]], device='cuda:0')\n"
     ]
    },
    {
     "name": "stderr",
     "output_type": "stream",
     "text": [
      " 47%|████████████████▌                  | 94.43749999999598/200 [11:59<21:33, 12.25s/it]"
     ]
    },
    {
     "name": "stdout",
     "output_type": "stream",
     "text": [
      "Correct: 59/135 (0.4370)\n",
      "{'acc_unweighted': tensor(0.3823, device='cuda:0'),\n",
      " 'acc_weighted': tensor(0.4370, device='cuda:0'),\n",
      " 'f1s_unweighted': tensor(0.3388, device='cuda:0'),\n",
      " 'f1s_weighted': tensor(0.3873, device='cuda:0'),\n",
      " 'rocauc': tensor(0.7032, device='cuda:0'),\n",
      " 'uar': tensor(0.3823, device='cuda:0'),\n",
      " 'wap': tensor(0.3757, device='cuda:0')}\n",
      "{'acc_detail': tensor([0.6316, 0.0000, 0.2308, 0.6667], device='cuda:0'),\n",
      " 'f1s_detail': tensor([0.5647, 0.0000, 0.2951, 0.4952], device='cuda:0'),\n",
      " 'precision_detail': tensor([0.5106, 0.0000, 0.4091, 0.3939], device='cuda:0'),\n",
      " 'recall_detail': tensor([0.6316, 0.0000, 0.2308, 0.6667], device='cuda:0'),\n",
      " 'rocauc_detail': tensor([0.7607, 0.7868, 0.5783, 0.6872], device='cuda:0')}\n",
      "tensor([[24,  0,  4, 10],\n",
      "        [ 2,  0,  5, 12],\n",
      "        [12,  0,  9, 18],\n",
      "        [ 9,  0,  4, 26]], device='cuda:0')\n"
     ]
    },
    {
     "name": "stderr",
     "output_type": "stream",
     "text": [
      " 51%|█████████████████▎                | 101.62499999999434/200 [12:53<19:56, 12.16s/it]"
     ]
    },
    {
     "name": "stdout",
     "output_type": "stream",
     "text": [
      "Correct: 55/135 (0.4074)\n",
      "{'acc_unweighted': tensor(0.3763, device='cuda:0'),\n",
      " 'acc_weighted': tensor(0.4074, device='cuda:0'),\n",
      " 'f1s_unweighted': tensor(0.3596, device='cuda:0'),\n",
      " 'f1s_weighted': tensor(0.3808, device='cuda:0'),\n",
      " 'rocauc': tensor(0.6916, device='cuda:0'),\n",
      " 'uar': tensor(0.3763, device='cuda:0'),\n",
      " 'wap': tensor(0.3923, device='cuda:0')}\n",
      "{'acc_detail': tensor([0.5526, 0.1579, 0.1538, 0.6410], device='cuda:0'),\n",
      " 'f1s_detail': tensor([0.5600, 0.2069, 0.2000, 0.4717], device='cuda:0'),\n",
      " 'precision_detail': tensor([0.5676, 0.3000, 0.2857, 0.3731], device='cuda:0'),\n",
      " 'recall_detail': tensor([0.5526, 0.1579, 0.1538, 0.6410], device='cuda:0'),\n",
      " 'rocauc_detail': tensor([0.7759, 0.7754, 0.5572, 0.6581], device='cuda:0')}\n",
      "tensor([[21,  0,  1, 16],\n",
      "        [ 1,  3,  8,  7],\n",
      "        [11,  3,  6, 19],\n",
      "        [ 4,  4,  6, 25]], device='cuda:0')\n"
     ]
    },
    {
     "name": "stderr",
     "output_type": "stream",
     "text": [
      " 54%|██████████████████▍               | 108.81249999999271/200 [13:48<19:36, 12.90s/it]"
     ]
    },
    {
     "name": "stdout",
     "output_type": "stream",
     "text": [
      "Correct: 62/135 (0.4593)\n",
      "{'acc_unweighted': tensor(0.4079, device='cuda:0'),\n",
      " 'acc_weighted': tensor(0.4593, device='cuda:0'),\n",
      " 'f1s_unweighted': tensor(0.3926, device='cuda:0'),\n",
      " 'f1s_weighted': tensor(0.4368, device='cuda:0'),\n",
      " 'rocauc': tensor(0.7049, device='cuda:0'),\n",
      " 'uar': tensor(0.4079, device='cuda:0'),\n",
      " 'wap': tensor(0.4376, device='cuda:0')}\n",
      "{'acc_detail': tensor([0.5789, 0.0526, 0.5128, 0.4872], device='cuda:0'),\n",
      " 'f1s_detail': tensor([0.5301, 0.0870, 0.4598, 0.4935], device='cuda:0'),\n",
      " 'precision_detail': tensor([0.4889, 0.2500, 0.4167, 0.5000], device='cuda:0'),\n",
      " 'recall_detail': tensor([0.5789, 0.0526, 0.5128, 0.4872], device='cuda:0'),\n",
      " 'rocauc_detail': tensor([0.7477, 0.7532, 0.6042, 0.7147], device='cuda:0')}\n",
      "tensor([[22,  1, 10,  5],\n",
      "        [ 3,  1,  8,  7],\n",
      "        [11,  1, 20,  7],\n",
      "        [ 9,  1, 10, 19]], device='cuda:0')\n"
     ]
    },
    {
     "name": "stderr",
     "output_type": "stream",
     "text": [
      " 58%|███████████████████▋              | 115.99999999999108/200 [14:43<17:08, 12.24s/it]"
     ]
    },
    {
     "name": "stdout",
     "output_type": "stream",
     "text": [
      "Correct: 47/135 (0.3481)\n",
      "{'acc_unweighted': tensor(0.3222, device='cuda:0'),\n",
      " 'acc_weighted': tensor(0.3481, device='cuda:0'),\n",
      " 'f1s_unweighted': tensor(0.3003, device='cuda:0'),\n",
      " 'f1s_weighted': tensor(0.3151, device='cuda:0'),\n",
      " 'rocauc': tensor(0.6556, device='cuda:0'),\n",
      " 'uar': tensor(0.3222, device='cuda:0'),\n",
      " 'wap': tensor(0.3992, device='cuda:0')}\n",
      "{'acc_detail': tensor([0.1053, 0.1579, 0.5128, 0.5128], device='cuda:0'),\n",
      " 'f1s_detail': tensor([0.1778, 0.2069, 0.4167, 0.4000], device='cuda:0'),\n",
      " 'precision_detail': tensor([0.5714, 0.3000, 0.3509, 0.3279], device='cuda:0'),\n",
      " 'recall_detail': tensor([0.1053, 0.1579, 0.5128, 0.5128], device='cuda:0'),\n",
      " 'rocauc_detail': tensor([0.7371, 0.7759, 0.5556, 0.5537], device='cuda:0')}\n",
      "tensor([[ 4,  1,  9, 24],\n",
      "        [ 0,  3, 13,  3],\n",
      "        [ 3,  2, 20, 14],\n",
      "        [ 0,  4, 15, 20]], device='cuda:0')\n"
     ]
    },
    {
     "name": "stderr",
     "output_type": "stream",
     "text": [
      " 62%|████████████████████▉             | 123.18749999998944/200 [15:37<15:46, 12.32s/it]"
     ]
    },
    {
     "name": "stdout",
     "output_type": "stream",
     "text": [
      "Correct: 52/135 (0.3852)\n",
      "{'acc_unweighted': tensor(0.3580, device='cuda:0'),\n",
      " 'acc_weighted': tensor(0.3852, device='cuda:0'),\n",
      " 'f1s_unweighted': tensor(0.3277, device='cuda:0'),\n",
      " 'f1s_weighted': tensor(0.3418, device='cuda:0'),\n",
      " 'rocauc': tensor(0.6752, device='cuda:0'),\n",
      " 'uar': tensor(0.3580, device='cuda:0'),\n",
      " 'wap': tensor(0.3863, device='cuda:0')}\n",
      "{'acc_detail': tensor([0.6842, 0.1579, 0.1026, 0.4872], device='cuda:0'),\n",
      " 'f1s_detail': tensor([0.5253, 0.2222, 0.1633, 0.4000], device='cuda:0'),\n",
      " 'precision_detail': tensor([0.4262, 0.3750, 0.4000, 0.3393], device='cuda:0'),\n",
      " 'recall_detail': tensor([0.6842, 0.1579, 0.1026, 0.4872], device='cuda:0'),\n",
      " 'rocauc_detail': tensor([0.7368, 0.7405, 0.5796, 0.6440], device='cuda:0')}\n",
      "tensor([[26,  0,  1, 11],\n",
      "        [ 5,  3,  2,  9],\n",
      "        [18,  0,  4, 17],\n",
      "        [12,  5,  3, 19]], device='cuda:0')\n"
     ]
    },
    {
     "name": "stderr",
     "output_type": "stream",
     "text": [
      " 65%|██████████████████████▏           | 130.37499999998943/200 [16:32<14:00, 12.08s/it]"
     ]
    },
    {
     "name": "stdout",
     "output_type": "stream",
     "text": [
      "Correct: 59/135 (0.4370)\n",
      "{'acc_unweighted': tensor(0.4501, device='cuda:0'),\n",
      " 'acc_weighted': tensor(0.4370, device='cuda:0'),\n",
      " 'f1s_unweighted': tensor(0.3880, device='cuda:0'),\n",
      " 'f1s_weighted': tensor(0.3737, device='cuda:0'),\n",
      " 'rocauc': tensor(0.7058, device='cuda:0'),\n",
      " 'uar': tensor(0.4501, device='cuda:0'),\n",
      " 'wap': tensor(0.4543, device='cuda:0')}\n",
      "{'acc_detail': tensor([0.6842, 0.5263, 0.0256, 0.5641], device='cuda:0'),\n",
      " 'f1s_detail': tensor([0.5591, 0.4762, 0.0488, 0.4681], device='cuda:0'),\n",
      " 'precision_detail': tensor([0.4727, 0.4348, 0.5000, 0.4000], device='cuda:0'),\n",
      " 'recall_detail': tensor([0.6842, 0.5263, 0.0256, 0.5641], device='cuda:0'),\n",
      " 'rocauc_detail': tensor([0.7434, 0.8099, 0.6183, 0.6514], device='cuda:0')}\n",
      "tensor([[26,  1,  0, 11],\n",
      "        [ 1, 10,  1,  7],\n",
      "        [17,  6,  1, 15],\n",
      "        [11,  6,  0, 22]], device='cuda:0')\n"
     ]
    },
    {
     "name": "stderr",
     "output_type": "stream",
     "text": [
      " 69%|████████████████████████           | 137.5624999999927/200 [17:26<12:40, 12.19s/it]"
     ]
    },
    {
     "name": "stdout",
     "output_type": "stream",
     "text": [
      "Correct: 60/135 (0.4444)\n",
      "{'acc_unweighted': tensor(0.3959, device='cuda:0'),\n",
      " 'acc_weighted': tensor(0.4444, device='cuda:0'),\n",
      " 'f1s_unweighted': tensor(0.3705, device='cuda:0'),\n",
      " 'f1s_weighted': tensor(0.4114, device='cuda:0'),\n",
      " 'rocauc': tensor(0.6897, device='cuda:0'),\n",
      " 'uar': tensor(0.3959, device='cuda:0'),\n",
      " 'wap': tensor(0.4153, device='cuda:0')}\n",
      "{'acc_detail': tensor([0.7105, 0.0526, 0.2821, 0.5385], device='cuda:0'),\n",
      " 'f1s_detail': tensor([0.5934, 0.0833, 0.3438, 0.4615], device='cuda:0'),\n",
      " 'precision_detail': tensor([0.5094, 0.2000, 0.4400, 0.4038], device='cuda:0'),\n",
      " 'recall_detail': tensor([0.7105, 0.0526, 0.2821, 0.5385], device='cuda:0'),\n",
      " 'rocauc_detail': tensor([0.7371, 0.7595, 0.5951, 0.6669], device='cuda:0')}\n",
      "tensor([[27,  0,  2,  9],\n",
      "        [ 3,  1,  6,  9],\n",
      "        [13,  2, 11, 13],\n",
      "        [10,  2,  6, 21]], device='cuda:0')\n"
     ]
    },
    {
     "name": "stderr",
     "output_type": "stream",
     "text": [
      " 72%|█████████████████████████▏         | 143.7499999999955/200 [18:12<07:07,  7.60s/it]\n"
     ]
    }
   ],
   "source": [
    "trainer.fit(n_epoch=1000, test_n_epoch=10)"
   ]
  },
  {
   "cell_type": "code",
   "execution_count": null,
   "id": "18aabfa1-fe13-438a-aba7-468288c224b9",
   "metadata": {},
   "outputs": [],
   "source": []
  }
 ],
 "metadata": {
  "kernelspec": {
   "display_name": "Python 3 (ipykernel)",
   "language": "python",
   "name": "python3"
  },
  "language_info": {
   "codemirror_mode": {
    "name": "ipython",
    "version": 3
   },
   "file_extension": ".py",
   "mimetype": "text/x-python",
   "name": "python",
   "nbconvert_exporter": "python",
   "pygments_lexer": "ipython3",
   "version": "3.9.18"
  }
 },
 "nbformat": 4,
 "nbformat_minor": 5
}
