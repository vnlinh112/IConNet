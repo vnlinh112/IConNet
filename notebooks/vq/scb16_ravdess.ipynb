{
 "cells": [
  {
   "cell_type": "code",
   "execution_count": 1,
   "id": "ef0f5696-28da-453a-87d7-55a19731d382",
   "metadata": {},
   "outputs": [],
   "source": [
    "%load_ext autoreload\n",
    "%autoreload 2"
   ]
  },
  {
   "cell_type": "code",
   "execution_count": 2,
   "id": "7d9229a6-f292-41b6-aaeb-2e74f63610c5",
   "metadata": {},
   "outputs": [],
   "source": [
    "import matplotlib.pyplot as plt\n",
    "import numpy as np\n",
    "from scipy.signal import savgol_filter\n",
    "import umap\n",
    "import torch\n",
    "import torch.nn as nn\n",
    "import torch.nn.functional as F\n",
    "from torch.utils.data import DataLoader\n",
    "import torch.optim as optim\n",
    "\n",
    "from torchvision.utils import make_grid"
   ]
  },
  {
   "cell_type": "code",
   "execution_count": 3,
   "id": "6c8462af-bb71-4e52-be48-8b76827e6ece",
   "metadata": {},
   "outputs": [],
   "source": [
    "device = torch.device(\"cuda\" if torch.cuda.is_available() else \"cpu\")"
   ]
  },
  {
   "cell_type": "code",
   "execution_count": 4,
   "id": "62219103-5b09-470d-9d1c-3eb2de2b914f",
   "metadata": {},
   "outputs": [
    {
     "data": {
      "text/plain": [
       "'/home/linh/projects/IConNet'"
      ]
     },
     "execution_count": 4,
     "metadata": {},
     "output_type": "execute_result"
    }
   ],
   "source": [
    "import os\n",
    "os.chdir('../IConNet/')\n",
    "os.getcwd()"
   ]
  },
  {
   "cell_type": "code",
   "execution_count": 5,
   "id": "625c9ca5-1aca-4050-8d27-77798516614f",
   "metadata": {},
   "outputs": [],
   "source": [
    "os.environ[\"PYTORCH_CUDA_ALLOC_CONF\"] = \"max_split_size_mb:512\"\n",
    "import gc\n",
    "import sys\n",
    "import numpy as np\n",
    "from tqdm import tqdm"
   ]
  },
  {
   "cell_type": "code",
   "execution_count": 6,
   "id": "0117e329-ce88-4061-abcc-a4e1b9839005",
   "metadata": {},
   "outputs": [],
   "source": [
    "from IConNet.acov.audio_vqvae import VqVaeClsLoss\n",
    "from IConNet.trainer.train_torch import get_dataloader\n",
    "from IConNet.trainer.train_torch import Trainer_SCB10 as Trainer\n",
    "from IConNet.acov.model import SCB16 as SCB\n",
    "from omegaconf import OmegaConf as ocf"
   ]
  },
  {
   "cell_type": "code",
   "execution_count": 7,
   "id": "dfbd5887-d2a3-4a56-8a89-cf4ad34e2d87",
   "metadata": {},
   "outputs": [
    {
     "name": "stdout",
     "output_type": "stream",
     "text": [
      "{'name': 'ravdess', 'dataset_class': 'WaveformDataset', 'root': 'ravdess/', 'audio_dir': 'full_release/', 'feature_dir': 'preprocessing/', 'label_name': 'label_emotion_key', 'feature_name': 'audio16k', 'num_classes': 8, 'label_values': ['neu', 'cal', 'hap', 'sad', 'ang', 'fea', 'dis', 'sur'], 'classnames': ['neu', 'cal', 'hap', 'sad', 'ang', 'fea', 'dis', 'sur'], 'target_labels': ['ang', 'neu', 'sad', 'hap']}\n"
     ]
    }
   ],
   "source": [
    "dataset_name = 'ravdess'\n",
    "experiment_prefix = \"scb16\"\n",
    "log_dir = f'../{experiment_prefix}_models/{dataset_name}/run0/'\n",
    "data_dir = \"../data/data_preprocessed/\"\n",
    "dataset_config_path = f'config/dataset/{dataset_name}.yaml'\n",
    "dataset_config = ocf.load(dataset_config_path)\n",
    "print(dataset_config)\n",
    "batch_size = 4"
   ]
  },
  {
   "cell_type": "code",
   "execution_count": 8,
   "id": "ab241632-a79a-4800-ae02-fb6db9e29144",
   "metadata": {},
   "outputs": [],
   "source": [
    "in_channels = 1\n",
    "out_channels = 8\n",
    "embedding_dim = 1023\n",
    "num_embeddings = 384\n",
    "commitment_cost = 0.25\n",
    "learning_rate = 1e-4\n",
    "num_tokens = 256\n",
    "num_classes = 4"
   ]
  },
  {
   "cell_type": "code",
   "execution_count": 9,
   "id": "263b9cad-19ea-424b-aaea-f3566b442e48",
   "metadata": {},
   "outputs": [
    {
     "name": "stdout",
     "output_type": "stream",
     "text": [
      "{'name': 'M19', 'description': 'FirConv with learnable windows', 'fe': {'n_block': 1, 'n_channel': [256], 'kernel_size': [511], 'stride': [2], 'window_k': [5], 'pooling': 'mean', 'filter_type': 'sinc', 'learnable_bands': False, 'learnable_windows': True, 'shared_window': False, 'window_func': 'hamming', 'mel_resolution': 3, 'conv_mode': 'conv', 'norm_type': 'LocalResponseNorm'}, 'cls': {'n_block': 2, 'n_hidden_dim': [512, 512], 'norm_type': 'LayerNorm'}}\n"
     ]
    }
   ],
   "source": [
    "iconnet_config_path = f'config/model/m19win.yaml'\n",
    "iconnet_config = ocf.load(iconnet_config_path)\n",
    "print(iconnet_config)"
   ]
  },
  {
   "cell_type": "code",
   "execution_count": 11,
   "id": "16169737-44a6-4b3e-a7c1-2c2d24279420",
   "metadata": {},
   "outputs": [],
   "source": [
    "codebook_pretrained_path = f'../scb7_models/ravdess/codebook.step=10000.pt'\n",
    "model = SCB(\n",
    "    in_channels=in_channels,\n",
    "    out_channels=out_channels,\n",
    "    num_embeddings=num_embeddings, \n",
    "    embedding_dim=embedding_dim, \n",
    "    num_tokens=num_tokens,\n",
    "    num_classes=num_classes, \n",
    "    cls_dim=embedding_dim,\n",
    "    sample_rate=16000,\n",
    "    commitment_cost=commitment_cost,\n",
    "    distance_type='euclidean',\n",
    "    codebook_pretrained_path=codebook_pretrained_path,\n",
    "    freeze_codebook=True,\n",
    "    loss_type='signal_loss',\n",
    "    iconnet_config=iconnet_config,\n",
    ")"
   ]
  },
  {
   "cell_type": "code",
   "execution_count": 12,
   "id": "9f45bc83-90bc-4560-936b-351308e106ab",
   "metadata": {},
   "outputs": [],
   "source": [
    "train_loader, test_loader, batch_size = get_dataloader(\n",
    "    dataset_config, data_dir, batch_size=batch_size)"
   ]
  },
  {
   "cell_type": "code",
   "execution_count": 13,
   "id": "35a06fef-67fe-4b0c-886f-8ccedb140e81",
   "metadata": {},
   "outputs": [],
   "source": [
    "loss_ratio=VqVaeClsLoss(perplexity=0, loss_vq=1, loss_recon=1, loss_cls=1)\n",
    "trainer = Trainer(batch_size=batch_size, log_dir=log_dir, \n",
    "                  experiment_prefix=experiment_prefix, device=device,\n",
    "                 accumulate_grad_batches=4)\n",
    "trainer.prepare(train_loader=train_loader, \n",
    "                test_loader=test_loader, \n",
    "                batch_size=batch_size,\n",
    "               loss_ratio=loss_ratio)"
   ]
  },
  {
   "cell_type": "code",
   "execution_count": 14,
   "id": "941dad6a-6339-426e-a1c6-c127164fcdb1",
   "metadata": {},
   "outputs": [],
   "source": [
    "trainer.setup(model=model, lr=learning_rate)"
   ]
  },
  {
   "cell_type": "code",
   "execution_count": 15,
   "id": "75890d6f-6842-4c4d-92e0-ff9441dc2131",
   "metadata": {},
   "outputs": [
    {
     "name": "stderr",
     "output_type": "stream",
     "text": [
      "  0%|▍                                                                                  | 0.4927536231884051/100 [00:31<4:50:26, 175.13s/it]"
     ]
    },
    {
     "name": "stdout",
     "output_type": "stream",
     "text": [
      "Epoch: 1\tLoss: 1.717 [perplexity=0.000, loss_vq=0.000, loss_recon=0.000, loss_cls=1.717]\tVal_acc: 6/27 (22.22%)\n",
      "\n",
      "Saved new best val model: ../scb16_models/ravdess/run0model.epoch=1.step=51.loss=1.717.val_acc=0.222.pt\n"
     ]
    },
    {
     "name": "stderr",
     "output_type": "stream",
     "text": [
      "  1%|█                                                                                    | 1.297101449275365/100 [01:12<1:04:35, 39.26s/it]"
     ]
    },
    {
     "name": "stdout",
     "output_type": "stream",
     "text": [
      "Correct: 50/135 (0.3704)\n",
      "Saved new best test model: ../scb16_models/ravdess/run0model.epoch=1.step=100.test_acc=0.3704.pt\n",
      "{'acc_unweighted': tensor(0.3262, device='cuda:0'),\n",
      " 'acc_weighted': tensor(0.3704, device='cuda:0'),\n",
      " 'f1s_unweighted': tensor(0.2389, device='cuda:0'),\n",
      " 'f1s_weighted': tensor(0.2717, device='cuda:0'),\n",
      " 'rocauc': tensor(0.7347, device='cuda:0'),\n",
      " 'uar': tensor(0.3262, device='cuda:0'),\n",
      " 'wap': tensor(0.4895, device='cuda:0')}\n",
      "{'acc_detail': tensor([0.8947, 0.0000, 0.0256, 0.3846], device='cuda:0'),\n",
      " 'f1s_detail': tensor([0.5965, 0.0000, 0.0500, 0.3093], device='cuda:0'),\n",
      " 'precision_detail': tensor([0.4474, 0.0000, 1.0000, 0.2586], device='cuda:0'),\n",
      " 'recall_detail': tensor([0.8947, 0.0000, 0.0256, 0.3846], device='cuda:0'),\n",
      " 'rocauc_detail': tensor([0.8646, 0.7645, 0.7495, 0.5601], device='cuda:0')}\n",
      "tensor([[34,  0,  0,  4],\n",
      "        [ 5,  0,  0, 14],\n",
      "        [13,  0,  1, 25],\n",
      "        [24,  0,  0, 15]], device='cuda:0')\n"
     ]
    },
    {
     "name": "stderr",
     "output_type": "stream",
     "text": [
      "  2%|█▌                                                                                  | 1.789855072463773/100 [01:43<4:49:12, 176.69s/it]"
     ]
    },
    {
     "name": "stdout",
     "output_type": "stream",
     "text": [
      "Epoch: 2\tLoss: 1.148 [perplexity=0.000, loss_vq=0.000, loss_recon=0.000, loss_cls=1.148]\tVal_acc: 12/27 (44.44%)\n",
      "\n",
      "Saved new best val model: ../scb16_models/ravdess/run0model.epoch=2.step=151.loss=1.148.val_acc=0.444.pt\n"
     ]
    },
    {
     "name": "stderr",
     "output_type": "stream",
     "text": [
      "  3%|██▎                                                                                | 2.7608695652174005/100 [02:42<4:43:58, 175.22s/it]"
     ]
    },
    {
     "name": "stdout",
     "output_type": "stream",
     "text": [
      "Epoch: 3\tLoss: 1.470 [perplexity=0.000, loss_vq=0.000, loss_recon=0.000, loss_cls=1.470]\tVal_acc: 10/27 (37.04%)\n",
      "\n"
     ]
    },
    {
     "name": "stderr",
     "output_type": "stream",
     "text": [
      "  4%|███▏                                                                                | 3.731884057971028/100 [03:42<4:39:24, 174.15s/it]"
     ]
    },
    {
     "name": "stdout",
     "output_type": "stream",
     "text": [
      "Epoch: 4\tLoss: 1.246 [perplexity=0.000, loss_vq=0.000, loss_recon=0.000, loss_cls=1.246]\tVal_acc: 11/27 (40.74%)\n",
      "\n"
     ]
    },
    {
     "name": "stderr",
     "output_type": "stream",
     "text": [
      "  5%|███▉                                                                                | 4.702898550724612/100 [04:41<4:39:42, 176.11s/it]"
     ]
    },
    {
     "name": "stdout",
     "output_type": "stream",
     "text": [
      "Epoch: 5\tLoss: 2.459 [perplexity=0.000, loss_vq=0.000, loss_recon=0.000, loss_cls=2.459]\tVal_acc: 11/27 (40.74%)\n",
      "\n"
     ]
    },
    {
     "name": "stderr",
     "output_type": "stream",
     "text": [
      "  6%|████▊                                                                                | 5.67391304347818/100 [05:41<4:37:14, 176.35s/it]"
     ]
    },
    {
     "name": "stdout",
     "output_type": "stream",
     "text": [
      "Epoch: 6\tLoss: 1.451 [perplexity=0.000, loss_vq=0.000, loss_recon=0.000, loss_cls=1.451]\tVal_acc: 13/27 (48.15%)\n",
      "\n",
      "Saved new best val model: ../scb16_models/ravdess/run0model.epoch=6.step=551.loss=1.451.val_acc=0.481.pt\n"
     ]
    },
    {
     "name": "stderr",
     "output_type": "stream",
     "text": [
      "  7%|█████▌                                                                              | 6.644927536231748/100 [06:40<4:33:23, 175.71s/it]"
     ]
    },
    {
     "name": "stdout",
     "output_type": "stream",
     "text": [
      "Epoch: 7\tLoss: 0.850 [perplexity=0.000, loss_vq=0.000, loss_recon=0.000, loss_cls=0.850]\tVal_acc: 13/27 (48.15%)\n",
      "\n"
     ]
    },
    {
     "name": "stderr",
     "output_type": "stream",
     "text": [
      "  8%|██████▍                                                                             | 7.615942028985316/100 [07:38<4:26:35, 173.14s/it]"
     ]
    },
    {
     "name": "stdout",
     "output_type": "stream",
     "text": [
      "Epoch: 8\tLoss: 1.428 [perplexity=0.000, loss_vq=0.000, loss_recon=0.000, loss_cls=1.428]\tVal_acc: 13/27 (48.15%)\n",
      "\n"
     ]
    },
    {
     "name": "stderr",
     "output_type": "stream",
     "text": [
      "  9%|███████▏                                                                            | 8.586956521738884/100 [08:38<4:24:25, 173.56s/it]"
     ]
    },
    {
     "name": "stdout",
     "output_type": "stream",
     "text": [
      "Epoch: 9\tLoss: 1.227 [perplexity=0.000, loss_vq=0.000, loss_recon=0.000, loss_cls=1.227]\tVal_acc: 12/27 (44.44%)\n",
      "\n"
     ]
    },
    {
     "name": "stderr",
     "output_type": "stream",
     "text": [
      " 10%|████████                                                                            | 9.557971014492452/100 [09:37<4:24:28, 175.46s/it]"
     ]
    },
    {
     "name": "stdout",
     "output_type": "stream",
     "text": [
      "Epoch: 10\tLoss: 0.950 [perplexity=0.000, loss_vq=0.000, loss_recon=0.000, loss_cls=0.950]\tVal_acc: 12/27 (44.44%)\n",
      "\n"
     ]
    },
    {
     "name": "stderr",
     "output_type": "stream",
     "text": [
      " 11%|████████▊                                                                           | 10.52898550724602/100 [10:36<4:24:48, 177.58s/it]"
     ]
    },
    {
     "name": "stdout",
     "output_type": "stream",
     "text": [
      "Epoch: 11\tLoss: 0.932 [perplexity=0.000, loss_vq=0.000, loss_recon=0.000, loss_cls=0.932]\tVal_acc: 13/27 (48.15%)\n",
      "\n"
     ]
    },
    {
     "name": "stderr",
     "output_type": "stream",
     "text": [
      " 11%|█████████▊                                                                             | 11.33333333333293/100 [11:17<58:23, 39.51s/it]"
     ]
    },
    {
     "name": "stdout",
     "output_type": "stream",
     "text": [
      "Correct: 69/135 (0.5111)\n",
      "Saved new best test model: ../scb16_models/ravdess/run0model.epoch=11.step=1100.test_acc=0.5111.pt\n",
      "{'acc_unweighted': tensor(0.4467, device='cuda:0'),\n",
      " 'acc_weighted': tensor(0.5111, device='cuda:0'),\n",
      " 'f1s_unweighted': tensor(0.4114, device='cuda:0'),\n",
      " 'f1s_weighted': tensor(0.4708, device='cuda:0'),\n",
      " 'rocauc': tensor(0.8167, device='cuda:0'),\n",
      " 'uar': tensor(0.4467, device='cuda:0'),\n",
      " 'wap': tensor(0.4675, device='cuda:0')}\n",
      "{'acc_detail': tensor([0.6842, 0.0000, 0.6923, 0.4103], device='cuda:0'),\n",
      " 'f1s_detail': tensor([0.6265, 0.0000, 0.5192, 0.5000], device='cuda:0'),\n",
      " 'precision_detail': tensor([0.5778, 0.0000, 0.4154, 0.6400], device='cuda:0'),\n",
      " 'recall_detail': tensor([0.6842, 0.0000, 0.6923, 0.4103], device='cuda:0'),\n",
      " 'rocauc_detail': tensor([0.9007, 0.8453, 0.7687, 0.7521], device='cuda:0')}\n",
      "tensor([[26,  0,  6,  6],\n",
      "        [ 4,  0, 15,  0],\n",
      "        [ 9,  0, 27,  3],\n",
      "        [ 6,  0, 17, 16]], device='cuda:0')\n"
     ]
    },
    {
     "name": "stderr",
     "output_type": "stream",
     "text": [
      " 12%|█████████▊                                                                         | 11.826086956521308/100 [11:49<4:17:24, 175.16s/it]"
     ]
    },
    {
     "name": "stdout",
     "output_type": "stream",
     "text": [
      "Epoch: 12\tLoss: 0.929 [perplexity=0.000, loss_vq=0.000, loss_recon=0.000, loss_cls=0.929]\tVal_acc: 11/27 (40.74%)\n",
      "\n"
     ]
    },
    {
     "name": "stderr",
     "output_type": "stream",
     "text": [
      " 13%|██████████▌                                                                        | 12.797101449274876/100 [12:48<4:13:44, 174.59s/it]"
     ]
    },
    {
     "name": "stdout",
     "output_type": "stream",
     "text": [
      "Epoch: 13\tLoss: 1.250 [perplexity=0.000, loss_vq=0.000, loss_recon=0.000, loss_cls=1.250]\tVal_acc: 13/27 (48.15%)\n",
      "\n"
     ]
    },
    {
     "name": "stderr",
     "output_type": "stream",
     "text": [
      " 14%|███████████▍                                                                       | 13.768115942028444/100 [13:47<4:14:04, 176.79s/it]"
     ]
    },
    {
     "name": "stdout",
     "output_type": "stream",
     "text": [
      "Epoch: 14\tLoss: 0.900 [perplexity=0.000, loss_vq=0.000, loss_recon=0.000, loss_cls=0.900]\tVal_acc: 13/27 (48.15%)\n",
      "\n"
     ]
    },
    {
     "name": "stderr",
     "output_type": "stream",
     "text": [
      " 15%|████████████▏                                                                      | 14.739130434782012/100 [14:46<4:10:28, 176.27s/it]"
     ]
    },
    {
     "name": "stdout",
     "output_type": "stream",
     "text": [
      "Epoch: 15\tLoss: 1.165 [perplexity=0.000, loss_vq=0.000, loss_recon=0.000, loss_cls=1.165]\tVal_acc: 10/27 (37.04%)\n",
      "\n"
     ]
    },
    {
     "name": "stderr",
     "output_type": "stream",
     "text": [
      " 16%|█████████████▏                                                                      | 15.71014492753558/100 [15:46<4:09:24, 177.54s/it]"
     ]
    },
    {
     "name": "stdout",
     "output_type": "stream",
     "text": [
      "Epoch: 16\tLoss: 0.555 [perplexity=0.000, loss_vq=0.000, loss_recon=0.000, loss_cls=0.555]\tVal_acc: 15/27 (55.56%)\n",
      "\n",
      "Saved new best val model: ../scb16_models/ravdess/run0model.epoch=16.step=1551.loss=0.555.val_acc=0.556.pt\n"
     ]
    },
    {
     "name": "stderr",
     "output_type": "stream",
     "text": [
      " 17%|██████████████                                                                      | 16.68115942028915/100 [16:45<4:02:14, 174.44s/it]"
     ]
    },
    {
     "name": "stdout",
     "output_type": "stream",
     "text": [
      "Epoch: 17\tLoss: 0.721 [perplexity=0.000, loss_vq=0.000, loss_recon=0.000, loss_cls=0.721]\tVal_acc: 15/27 (55.56%)\n",
      "\n"
     ]
    },
    {
     "name": "stderr",
     "output_type": "stream",
     "text": [
      " 18%|██████████████▋                                                                    | 17.652173913042716/100 [17:44<3:59:23, 174.43s/it]"
     ]
    },
    {
     "name": "stdout",
     "output_type": "stream",
     "text": [
      "Epoch: 18\tLoss: 1.216 [perplexity=0.000, loss_vq=0.000, loss_recon=0.000, loss_cls=1.216]\tVal_acc: 16/27 (59.26%)\n",
      "\n",
      "Saved new best val model: ../scb16_models/ravdess/run0model.epoch=18.step=1751.loss=1.216.val_acc=0.593.pt\n"
     ]
    },
    {
     "name": "stderr",
     "output_type": "stream",
     "text": [
      " 19%|███████████████▍                                                                   | 18.623188405796284/100 [18:43<3:56:17, 174.22s/it]"
     ]
    },
    {
     "name": "stdout",
     "output_type": "stream",
     "text": [
      "Epoch: 19\tLoss: 0.422 [perplexity=0.000, loss_vq=0.000, loss_recon=0.000, loss_cls=0.422]\tVal_acc: 14/27 (51.85%)\n",
      "\n"
     ]
    },
    {
     "name": "stderr",
     "output_type": "stream",
     "text": [
      " 20%|████████████████▎                                                                  | 19.594202898549852/100 [19:43<3:55:27, 175.70s/it]"
     ]
    },
    {
     "name": "stdout",
     "output_type": "stream",
     "text": [
      "Epoch: 20\tLoss: 0.558 [perplexity=0.000, loss_vq=0.000, loss_recon=0.000, loss_cls=0.558]\tVal_acc: 11/27 (40.74%)\n",
      "\n"
     ]
    },
    {
     "name": "stderr",
     "output_type": "stream",
     "text": [
      " 21%|█████████████████▎                                                                  | 20.56521739130342/100 [20:42<3:51:46, 175.07s/it]"
     ]
    },
    {
     "name": "stdout",
     "output_type": "stream",
     "text": [
      "Epoch: 21\tLoss: 1.511 [perplexity=0.000, loss_vq=0.000, loss_recon=0.000, loss_cls=1.511]\tVal_acc: 14/27 (51.85%)\n",
      "\n"
     ]
    },
    {
     "name": "stderr",
     "output_type": "stream",
     "text": [
      " 21%|██████████████████▌                                                                    | 21.36956521739033/100 [21:22<50:57, 38.88s/it]"
     ]
    },
    {
     "name": "stdout",
     "output_type": "stream",
     "text": [
      "Correct: 73/135 (0.5407)\n",
      "Saved new best test model: ../scb16_models/ravdess/run0model.epoch=21.step=2100.test_acc=0.5407.pt\n",
      "{'acc_unweighted': tensor(0.4868, device='cuda:0'),\n",
      " 'acc_weighted': tensor(0.5407, device='cuda:0'),\n",
      " 'f1s_unweighted': tensor(0.4685, device='cuda:0'),\n",
      " 'f1s_weighted': tensor(0.5162, device='cuda:0'),\n",
      " 'rocauc': tensor(0.8306, device='cuda:0'),\n",
      " 'uar': tensor(0.4868, device='cuda:0'),\n",
      " 'wap': tensor(0.5308, device='cuda:0')}\n",
      "{'acc_detail': tensor([0.8421, 0.1053, 0.6410, 0.3590], device='cuda:0'),\n",
      " 'f1s_detail': tensor([0.7442, 0.1333, 0.5376, 0.4590], device='cuda:0'),\n",
      " 'precision_detail': tensor([0.6667, 0.1818, 0.4630, 0.6364], device='cuda:0'),\n",
      " 'recall_detail': tensor([0.8421, 0.1053, 0.6410, 0.3590], device='cuda:0'),\n",
      " 'rocauc_detail': tensor([0.9293, 0.7818, 0.8034, 0.8080], device='cuda:0')}\n",
      "tensor([[32,  0,  3,  3],\n",
      "        [ 3,  2, 14,  0],\n",
      "        [ 4,  5, 25,  5],\n",
      "        [ 9,  4, 12, 14]], device='cuda:0')\n"
     ]
    },
    {
     "name": "stderr",
     "output_type": "stream",
     "text": [
      " 22%|██████████████████▎                                                                 | 21.86231884057871/100 [21:54<3:48:55, 175.79s/it]"
     ]
    },
    {
     "name": "stdout",
     "output_type": "stream",
     "text": [
      "Epoch: 22\tLoss: 1.181 [perplexity=0.000, loss_vq=0.000, loss_recon=0.000, loss_cls=1.181]\tVal_acc: 12/27 (44.44%)\n",
      "\n"
     ]
    },
    {
     "name": "stderr",
     "output_type": "stream",
     "text": [
      " 23%|██████████████████▉                                                                | 22.833333333332277/100 [22:53<3:45:29, 175.33s/it]"
     ]
    },
    {
     "name": "stdout",
     "output_type": "stream",
     "text": [
      "Epoch: 23\tLoss: 0.108 [perplexity=0.000, loss_vq=0.000, loss_recon=0.000, loss_cls=0.108]\tVal_acc: 13/27 (48.15%)\n",
      "\n"
     ]
    },
    {
     "name": "stderr",
     "output_type": "stream",
     "text": [
      " 24%|███████████████████▊                                                               | 23.804347826085845/100 [23:52<3:41:17, 174.26s/it]"
     ]
    },
    {
     "name": "stdout",
     "output_type": "stream",
     "text": [
      "Epoch: 24\tLoss: 0.116 [perplexity=0.000, loss_vq=0.000, loss_recon=0.000, loss_cls=0.116]\tVal_acc: 16/27 (59.26%)\n",
      "\n"
     ]
    },
    {
     "name": "stderr",
     "output_type": "stream",
     "text": [
      " 25%|████████████████████▌                                                              | 24.775362318839413/100 [24:51<3:42:08, 177.19s/it]"
     ]
    },
    {
     "name": "stdout",
     "output_type": "stream",
     "text": [
      "Epoch: 25\tLoss: 0.056 [perplexity=0.000, loss_vq=0.000, loss_recon=0.000, loss_cls=0.056]\tVal_acc: 13/27 (48.15%)\n",
      "\n"
     ]
    },
    {
     "name": "stderr",
     "output_type": "stream",
     "text": [
      " 26%|█████████████████████▋                                                              | 25.74637681159298/100 [25:50<3:38:04, 176.22s/it]"
     ]
    },
    {
     "name": "stdout",
     "output_type": "stream",
     "text": [
      "Epoch: 26\tLoss: 0.486 [perplexity=0.000, loss_vq=0.000, loss_recon=0.000, loss_cls=0.486]\tVal_acc: 16/27 (59.26%)\n",
      "\n"
     ]
    },
    {
     "name": "stderr",
     "output_type": "stream",
     "text": [
      " 27%|██████████████████████▍                                                             | 26.71739130434655/100 [26:50<3:35:59, 176.84s/it]"
     ]
    },
    {
     "name": "stdout",
     "output_type": "stream",
     "text": [
      "Epoch: 27\tLoss: 0.264 [perplexity=0.000, loss_vq=0.000, loss_recon=0.000, loss_cls=0.264]\tVal_acc: 18/27 (66.67%)\n",
      "\n",
      "Saved new best val model: ../scb16_models/ravdess/run0model.epoch=27.step=2651.loss=0.264.val_acc=0.667.pt\n"
     ]
    },
    {
     "name": "stderr",
     "output_type": "stream",
     "text": [
      " 28%|██████████████████████▉                                                            | 27.688405797100117/100 [27:49<3:30:12, 174.42s/it]"
     ]
    },
    {
     "name": "stdout",
     "output_type": "stream",
     "text": [
      "Epoch: 28\tLoss: 0.404 [perplexity=0.000, loss_vq=0.000, loss_recon=0.000, loss_cls=0.404]\tVal_acc: 13/27 (48.15%)\n",
      "\n"
     ]
    },
    {
     "name": "stderr",
     "output_type": "stream",
     "text": [
      " 29%|███████████████████████▊                                                           | 28.659420289853685/100 [28:48<3:29:02, 175.81s/it]"
     ]
    },
    {
     "name": "stdout",
     "output_type": "stream",
     "text": [
      "Epoch: 29\tLoss: 1.075 [perplexity=0.000, loss_vq=0.000, loss_recon=0.000, loss_cls=1.075]\tVal_acc: 13/27 (48.15%)\n",
      "\n"
     ]
    },
    {
     "name": "stderr",
     "output_type": "stream",
     "text": [
      " 30%|████████████████████████▌                                                          | 29.630434782607253/100 [29:48<3:25:06, 174.88s/it]"
     ]
    },
    {
     "name": "stdout",
     "output_type": "stream",
     "text": [
      "Epoch: 30\tLoss: 0.400 [perplexity=0.000, loss_vq=0.000, loss_recon=0.000, loss_cls=0.400]\tVal_acc: 15/27 (55.56%)\n",
      "\n"
     ]
    },
    {
     "name": "stderr",
     "output_type": "stream",
     "text": [
      " 31%|█████████████████████████▋                                                          | 30.60144927536082/100 [30:47<3:24:27, 176.76s/it]"
     ]
    },
    {
     "name": "stdout",
     "output_type": "stream",
     "text": [
      "Epoch: 31\tLoss: 0.001 [perplexity=0.000, loss_vq=0.000, loss_recon=0.000, loss_cls=0.001]\tVal_acc: 13/27 (48.15%)\n",
      "\n"
     ]
    },
    {
     "name": "stderr",
     "output_type": "stream",
     "text": [
      " 31%|███████████████████████████▎                                                           | 31.40579710144773/100 [31:28<44:35, 39.01s/it]"
     ]
    },
    {
     "name": "stdout",
     "output_type": "stream",
     "text": [
      "Correct: 83/135 (0.6148)\n",
      "Saved new best test model: ../scb16_models/ravdess/run0model.epoch=31.step=3100.test_acc=0.6148.pt\n",
      "{'acc_unweighted': tensor(0.5574, device='cuda:0'),\n",
      " 'acc_weighted': tensor(0.6148, device='cuda:0'),\n",
      " 'f1s_unweighted': tensor(0.5548, device='cuda:0'),\n",
      " 'f1s_weighted': tensor(0.6036, device='cuda:0'),\n",
      " 'rocauc': tensor(0.8508, device='cuda:0'),\n",
      " 'uar': tensor(0.5574, device='cuda:0'),\n",
      " 'wap': tensor(0.6126, device='cuda:0')}\n",
      "{'acc_detail': tensor([0.7895, 0.1579, 0.6667, 0.6154], device='cuda:0'),\n",
      " 'f1s_detail': tensor([0.7792, 0.2143, 0.5591, 0.6667], device='cuda:0'),\n",
      " 'precision_detail': tensor([0.7692, 0.3333, 0.4815, 0.7273], device='cuda:0'),\n",
      " 'recall_detail': tensor([0.7895, 0.1579, 0.6667, 0.6154], device='cuda:0'),\n",
      " 'rocauc_detail': tensor([0.9360, 0.8362, 0.8226, 0.8085], device='cuda:0')}\n",
      "tensor([[30,  0,  4,  4],\n",
      "        [ 2,  3, 14,  0],\n",
      "        [ 3,  5, 26,  5],\n",
      "        [ 4,  1, 10, 24]], device='cuda:0')\n"
     ]
    },
    {
     "name": "stderr",
     "output_type": "stream",
     "text": [
      " 32%|██████████████████████████▊                                                         | 31.89855072463611/100 [31:59<3:19:46, 176.00s/it]"
     ]
    },
    {
     "name": "stdout",
     "output_type": "stream",
     "text": [
      "Epoch: 32\tLoss: 0.072 [perplexity=0.000, loss_vq=0.000, loss_recon=0.000, loss_cls=0.072]\tVal_acc: 17/27 (62.96%)\n",
      "\n"
     ]
    },
    {
     "name": "stderr",
     "output_type": "stream",
     "text": [
      " 33%|███████████████████████████▌                                                        | 32.86956521738968/100 [32:59<3:17:11, 176.25s/it]"
     ]
    },
    {
     "name": "stdout",
     "output_type": "stream",
     "text": [
      "Epoch: 33\tLoss: 0.065 [perplexity=0.000, loss_vq=0.000, loss_recon=0.000, loss_cls=0.065]\tVal_acc: 16/27 (59.26%)\n",
      "\n"
     ]
    },
    {
     "name": "stderr",
     "output_type": "stream",
     "text": [
      " 34%|████████████████████████████                                                       | 33.840579710143246/100 [33:58<3:13:02, 175.07s/it]"
     ]
    },
    {
     "name": "stdout",
     "output_type": "stream",
     "text": [
      "Epoch: 34\tLoss: 0.201 [perplexity=0.000, loss_vq=0.000, loss_recon=0.000, loss_cls=0.201]\tVal_acc: 16/27 (59.26%)\n",
      "\n"
     ]
    },
    {
     "name": "stderr",
     "output_type": "stream",
     "text": [
      " 35%|█████████████████████████████▏                                                      | 34.81159420289681/100 [34:58<3:10:14, 175.10s/it]"
     ]
    },
    {
     "name": "stdout",
     "output_type": "stream",
     "text": [
      "Epoch: 35\tLoss: 0.152 [perplexity=0.000, loss_vq=0.000, loss_recon=0.000, loss_cls=0.152]\tVal_acc: 15/27 (55.56%)\n",
      "\n"
     ]
    },
    {
     "name": "stderr",
     "output_type": "stream",
     "text": [
      " 36%|██████████████████████████████                                                      | 35.78260869565038/100 [35:57<3:07:07, 174.84s/it]"
     ]
    },
    {
     "name": "stdout",
     "output_type": "stream",
     "text": [
      "Epoch: 36\tLoss: 0.187 [perplexity=0.000, loss_vq=0.000, loss_recon=0.000, loss_cls=0.187]\tVal_acc: 14/27 (51.85%)\n",
      "\n"
     ]
    },
    {
     "name": "stderr",
     "output_type": "stream",
     "text": [
      " 37%|██████████████████████████████▊                                                     | 36.75362318840395/100 [36:56<3:05:26, 175.92s/it]"
     ]
    },
    {
     "name": "stdout",
     "output_type": "stream",
     "text": [
      "Epoch: 37\tLoss: 0.424 [perplexity=0.000, loss_vq=0.000, loss_recon=0.000, loss_cls=0.424]\tVal_acc: 16/27 (59.26%)\n",
      "\n"
     ]
    },
    {
     "name": "stderr",
     "output_type": "stream",
     "text": [
      " 38%|███████████████████████████████▋                                                    | 37.72463768115752/100 [37:55<3:01:18, 174.69s/it]"
     ]
    },
    {
     "name": "stdout",
     "output_type": "stream",
     "text": [
      "Epoch: 38\tLoss: 0.350 [perplexity=0.000, loss_vq=0.000, loss_recon=0.000, loss_cls=0.350]\tVal_acc: 12/27 (44.44%)\n",
      "\n"
     ]
    },
    {
     "name": "stderr",
     "output_type": "stream",
     "text": [
      " 39%|████████████████████████████████                                                   | 38.695652173911085/100 [38:55<3:01:05, 177.24s/it]"
     ]
    },
    {
     "name": "stdout",
     "output_type": "stream",
     "text": [
      "Epoch: 39\tLoss: 0.023 [perplexity=0.000, loss_vq=0.000, loss_recon=0.000, loss_cls=0.023]\tVal_acc: 12/27 (44.44%)\n",
      "\n"
     ]
    },
    {
     "name": "stderr",
     "output_type": "stream",
     "text": [
      " 40%|█████████████████████████████████▎                                                  | 39.66666666666465/100 [39:54<2:56:54, 175.94s/it]"
     ]
    },
    {
     "name": "stdout",
     "output_type": "stream",
     "text": [
      "Epoch: 40\tLoss: 0.326 [perplexity=0.000, loss_vq=0.000, loss_recon=0.000, loss_cls=0.326]\tVal_acc: 14/27 (51.85%)\n",
      "\n"
     ]
    },
    {
     "name": "stderr",
     "output_type": "stream",
     "text": [
      " 41%|██████████████████████████████████▏                                                 | 40.63768115941822/100 [40:53<2:51:26, 173.29s/it]"
     ]
    },
    {
     "name": "stdout",
     "output_type": "stream",
     "text": [
      "Epoch: 41\tLoss: 0.000 [perplexity=0.000, loss_vq=0.000, loss_recon=0.000, loss_cls=0.000]\tVal_acc: 15/27 (55.56%)\n",
      "\n"
     ]
    },
    {
     "name": "stderr",
     "output_type": "stream",
     "text": [
      " 41%|████████████████████████████████████                                                   | 41.44202898550513/100 [41:34<38:40, 39.64s/it]"
     ]
    },
    {
     "name": "stdout",
     "output_type": "stream",
     "text": [
      "Correct: 82/135 (0.6074)\n",
      "{'acc_unweighted': tensor(0.6250, device='cuda:0'),\n",
      " 'acc_weighted': tensor(0.6074, device='cuda:0'),\n",
      " 'f1s_unweighted': tensor(0.5988, device='cuda:0'),\n",
      " 'f1s_weighted': tensor(0.6109, device='cuda:0'),\n",
      " 'rocauc': tensor(0.8510, device='cuda:0'),\n",
      " 'uar': tensor(0.6250, device='cuda:0'),\n",
      " 'wap': tensor(0.6395, device='cuda:0')}\n",
      "{'acc_detail': tensor([0.7632, 0.7368, 0.4615, 0.5385], device='cuda:0'),\n",
      " 'f1s_detail': tensor([0.7632, 0.5091, 0.5143, 0.6087], device='cuda:0'),\n",
      " 'precision_detail': tensor([0.7632, 0.3889, 0.5806, 0.7000], device='cuda:0'),\n",
      " 'recall_detail': tensor([0.7632, 0.7368, 0.4615, 0.5385], device='cuda:0'),\n",
      " 'rocauc_detail': tensor([0.9399, 0.8689, 0.7853, 0.8101], device='cuda:0')}\n",
      "tensor([[29,  1,  3,  5],\n",
      "        [ 0, 14,  4,  1],\n",
      "        [ 4, 14, 18,  3],\n",
      "        [ 5,  7,  6, 21]], device='cuda:0')\n"
     ]
    },
    {
     "name": "stderr",
     "output_type": "stream",
     "text": [
      " 42%|███████████████████████████████████▏                                                | 41.93478260869351/100 [42:06<2:48:34, 174.19s/it]"
     ]
    },
    {
     "name": "stdout",
     "output_type": "stream",
     "text": [
      "Epoch: 42\tLoss: 0.004 [perplexity=0.000, loss_vq=0.000, loss_recon=0.000, loss_cls=0.004]\tVal_acc: 14/27 (51.85%)\n",
      "\n"
     ]
    },
    {
     "name": "stderr",
     "output_type": "stream",
     "text": [
      " 43%|████████████████████████████████████                                                | 42.90579710144708/100 [43:05<2:46:41, 175.17s/it]"
     ]
    },
    {
     "name": "stdout",
     "output_type": "stream",
     "text": [
      "Epoch: 43\tLoss: 0.106 [perplexity=0.000, loss_vq=0.000, loss_recon=0.000, loss_cls=0.106]\tVal_acc: 13/27 (48.15%)\n",
      "\n"
     ]
    },
    {
     "name": "stderr",
     "output_type": "stream",
     "text": [
      " 44%|████████████████████████████████████▍                                              | 43.876811594200646/100 [44:04<2:44:20, 175.70s/it]"
     ]
    },
    {
     "name": "stdout",
     "output_type": "stream",
     "text": [
      "Epoch: 44\tLoss: 0.001 [perplexity=0.000, loss_vq=0.000, loss_recon=0.000, loss_cls=0.001]\tVal_acc: 15/27 (55.56%)\n",
      "\n"
     ]
    },
    {
     "name": "stderr",
     "output_type": "stream",
     "text": [
      " 45%|█████████████████████████████████████▏                                             | 44.847826086954214/100 [45:03<2:41:34, 175.77s/it]"
     ]
    },
    {
     "name": "stdout",
     "output_type": "stream",
     "text": [
      "Epoch: 45\tLoss: 0.001 [perplexity=0.000, loss_vq=0.000, loss_recon=0.000, loss_cls=0.001]\tVal_acc: 17/27 (62.96%)\n",
      "\n"
     ]
    },
    {
     "name": "stderr",
     "output_type": "stream",
     "text": [
      " 46%|██████████████████████████████████████▍                                             | 45.81884057970778/100 [46:02<2:36:51, 173.70s/it]"
     ]
    },
    {
     "name": "stdout",
     "output_type": "stream",
     "text": [
      "Epoch: 46\tLoss: 0.018 [perplexity=0.000, loss_vq=0.000, loss_recon=0.000, loss_cls=0.018]\tVal_acc: 17/27 (62.96%)\n",
      "\n"
     ]
    },
    {
     "name": "stderr",
     "output_type": "stream",
     "text": [
      " 47%|███████████████████████████████████████▎                                            | 46.78985507246135/100 [47:00<2:36:34, 176.55s/it]"
     ]
    },
    {
     "name": "stdout",
     "output_type": "stream",
     "text": [
      "Epoch: 47\tLoss: 0.025 [perplexity=0.000, loss_vq=0.000, loss_recon=0.000, loss_cls=0.025]\tVal_acc: 14/27 (51.85%)\n",
      "\n"
     ]
    },
    {
     "name": "stderr",
     "output_type": "stream",
     "text": [
      " 48%|████████████████████████████████████████                                            | 47.76086956521492/100 [47:59<2:32:28, 175.12s/it]"
     ]
    },
    {
     "name": "stdout",
     "output_type": "stream",
     "text": [
      "Epoch: 48\tLoss: 0.007 [perplexity=0.000, loss_vq=0.000, loss_recon=0.000, loss_cls=0.007]\tVal_acc: 15/27 (55.56%)\n",
      "\n"
     ]
    },
    {
     "name": "stderr",
     "output_type": "stream",
     "text": [
      " 49%|████████████████████████████████████████▍                                          | 48.731884057968486/100 [48:58<2:30:40, 176.33s/it]"
     ]
    },
    {
     "name": "stdout",
     "output_type": "stream",
     "text": [
      "Epoch: 49\tLoss: 0.005 [perplexity=0.000, loss_vq=0.000, loss_recon=0.000, loss_cls=0.005]\tVal_acc: 14/27 (51.85%)\n",
      "\n"
     ]
    },
    {
     "name": "stderr",
     "output_type": "stream",
     "text": [
      " 50%|█████████████████████████████████████████▎                                         | 49.702898550722054/100 [49:57<2:27:05, 175.47s/it]"
     ]
    },
    {
     "name": "stdout",
     "output_type": "stream",
     "text": [
      "Epoch: 50\tLoss: 0.007 [perplexity=0.000, loss_vq=0.000, loss_recon=0.000, loss_cls=0.007]\tVal_acc: 15/27 (55.56%)\n",
      "\n"
     ]
    },
    {
     "name": "stderr",
     "output_type": "stream",
     "text": [
      " 51%|██████████████████████████████████████████▌                                         | 50.67391304347562/100 [50:56<2:22:52, 173.79s/it]"
     ]
    },
    {
     "name": "stdout",
     "output_type": "stream",
     "text": [
      "Epoch: 51\tLoss: 0.004 [perplexity=0.000, loss_vq=0.000, loss_recon=0.000, loss_cls=0.004]\tVal_acc: 15/27 (55.56%)\n",
      "\n"
     ]
    },
    {
     "name": "stderr",
     "output_type": "stream",
     "text": [
      " 51%|████████████████████████████████████████████▊                                          | 51.47826086956253/100 [51:37<31:29, 38.95s/it]"
     ]
    },
    {
     "name": "stdout",
     "output_type": "stream",
     "text": [
      "Correct: 86/135 (0.6370)\n",
      "Saved new best test model: ../scb16_models/ravdess/run0model.epoch=51.step=5100.test_acc=0.6370.pt\n",
      "{'acc_unweighted': tensor(0.6373, device='cuda:0'),\n",
      " 'acc_weighted': tensor(0.6370, device='cuda:0'),\n",
      " 'f1s_unweighted': tensor(0.6241, device='cuda:0'),\n",
      " 'f1s_weighted': tensor(0.6381, device='cuda:0'),\n",
      " 'rocauc': tensor(0.8603, device='cuda:0'),\n",
      " 'uar': tensor(0.6373, device='cuda:0'),\n",
      " 'wap': tensor(0.6468, device='cuda:0')}\n",
      "{'acc_detail': tensor([0.7895, 0.6316, 0.5128, 0.6154], device='cuda:0'),\n",
      " 'f1s_detail': tensor([0.7792, 0.5217, 0.5556, 0.6400], device='cuda:0'),\n",
      " 'precision_detail': tensor([0.7692, 0.4444, 0.6061, 0.6667], device='cuda:0'),\n",
      " 'recall_detail': tensor([0.7895, 0.6316, 0.5128, 0.6154], device='cuda:0'),\n",
      " 'rocauc_detail': tensor([0.9405, 0.8879, 0.8034, 0.8096], device='cuda:0')}\n",
      "tensor([[30,  1,  2,  5],\n",
      "        [ 0, 12,  5,  2],\n",
      "        [ 4, 10, 20,  5],\n",
      "        [ 5,  4,  6, 24]], device='cuda:0')\n"
     ]
    },
    {
     "name": "stderr",
     "output_type": "stream",
     "text": [
      " 52%|███████████████████████████████████████████▋                                        | 51.97101449275091/100 [52:09<2:20:31, 175.55s/it]"
     ]
    },
    {
     "name": "stdout",
     "output_type": "stream",
     "text": [
      "Epoch: 52\tLoss: 0.000 [perplexity=0.000, loss_vq=0.000, loss_recon=0.000, loss_cls=0.000]\tVal_acc: 15/27 (55.56%)\n",
      "\n"
     ]
    },
    {
     "name": "stderr",
     "output_type": "stream",
     "text": [
      " 53%|████████████████████████████████████████████▍                                       | 52.94202898550448/100 [53:09<2:18:35, 176.70s/it]"
     ]
    },
    {
     "name": "stdout",
     "output_type": "stream",
     "text": [
      "Epoch: 53\tLoss: 0.000 [perplexity=0.000, loss_vq=0.000, loss_recon=0.000, loss_cls=0.000]\tVal_acc: 15/27 (55.56%)\n",
      "\n"
     ]
    },
    {
     "name": "stderr",
     "output_type": "stream",
     "text": [
      " 54%|█████████████████████████████████████████████▎                                      | 53.91304347825805/100 [54:09<2:17:21, 178.83s/it]"
     ]
    },
    {
     "name": "stdout",
     "output_type": "stream",
     "text": [
      "Epoch: 54\tLoss: 0.000 [perplexity=0.000, loss_vq=0.000, loss_recon=0.000, loss_cls=0.000]\tVal_acc: 15/27 (55.56%)\n",
      "\n"
     ]
    },
    {
     "name": "stderr",
     "output_type": "stream",
     "text": [
      " 55%|█████████████████████████████████████████████▌                                     | 54.884057971011615/100 [55:09<2:14:05, 178.33s/it]"
     ]
    },
    {
     "name": "stdout",
     "output_type": "stream",
     "text": [
      "Epoch: 55\tLoss: 0.000 [perplexity=0.000, loss_vq=0.000, loss_recon=0.000, loss_cls=0.000]\tVal_acc: 15/27 (55.56%)\n",
      "\n"
     ]
    },
    {
     "name": "stderr",
     "output_type": "stream",
     "text": [
      " 56%|██████████████████████████████████████████████▉                                     | 55.85507246376518/100 [56:09<2:11:32, 178.79s/it]"
     ]
    },
    {
     "name": "stdout",
     "output_type": "stream",
     "text": [
      "Epoch: 56\tLoss: 0.000 [perplexity=0.000, loss_vq=0.000, loss_recon=0.000, loss_cls=0.000]\tVal_acc: 15/27 (55.56%)\n",
      "\n"
     ]
    },
    {
     "name": "stderr",
     "output_type": "stream",
     "text": [
      " 57%|███████████████████████████████████████████████▋                                    | 56.82608695651875/100 [57:09<2:08:28, 178.55s/it]"
     ]
    },
    {
     "name": "stdout",
     "output_type": "stream",
     "text": [
      "Epoch: 57\tLoss: 0.000 [perplexity=0.000, loss_vq=0.000, loss_recon=0.000, loss_cls=0.000]\tVal_acc: 15/27 (55.56%)\n",
      "\n"
     ]
    },
    {
     "name": "stderr",
     "output_type": "stream",
     "text": [
      " 58%|████████████████████████████████████████████████▌                                   | 57.79710144927232/100 [58:09<2:05:51, 178.93s/it]"
     ]
    },
    {
     "name": "stdout",
     "output_type": "stream",
     "text": [
      "Epoch: 58\tLoss: 0.000 [perplexity=0.000, loss_vq=0.000, loss_recon=0.000, loss_cls=0.000]\tVal_acc: 15/27 (55.56%)\n",
      "\n"
     ]
    },
    {
     "name": "stderr",
     "output_type": "stream",
     "text": [
      " 59%|█████████████████████████████████████████████████▎                                  | 58.76811594202589/100 [59:09<2:03:11, 179.27s/it]"
     ]
    },
    {
     "name": "stdout",
     "output_type": "stream",
     "text": [
      "Epoch: 59\tLoss: 0.000 [perplexity=0.000, loss_vq=0.000, loss_recon=0.000, loss_cls=0.000]\tVal_acc: 15/27 (55.56%)\n",
      "\n"
     ]
    },
    {
     "name": "stderr",
     "output_type": "stream",
     "text": [
      " 60%|████████████████████████████████████████████████▍                                | 59.739130434779455/100 [1:00:09<1:59:39, 178.32s/it]"
     ]
    },
    {
     "name": "stdout",
     "output_type": "stream",
     "text": [
      "Epoch: 60\tLoss: 0.000 [perplexity=0.000, loss_vq=0.000, loss_recon=0.000, loss_cls=0.000]\tVal_acc: 15/27 (55.56%)\n",
      "\n"
     ]
    },
    {
     "name": "stderr",
     "output_type": "stream",
     "text": [
      " 61%|█████████████████████████████████████████████████▊                                | 60.71014492753302/100 [1:01:09<1:55:27, 176.33s/it]"
     ]
    },
    {
     "name": "stdout",
     "output_type": "stream",
     "text": [
      "Epoch: 61\tLoss: 0.000 [perplexity=0.000, loss_vq=0.000, loss_recon=0.000, loss_cls=0.000]\tVal_acc: 15/27 (55.56%)\n",
      "\n"
     ]
    },
    {
     "name": "stderr",
     "output_type": "stream",
     "text": [
      " 62%|████████████████████████████████████████████████████▎                                | 61.51449275361993/100 [1:01:51<25:39, 40.01s/it]"
     ]
    },
    {
     "name": "stdout",
     "output_type": "stream",
     "text": [
      "Correct: 87/135 (0.6444)\n",
      "Saved new best test model: ../scb16_models/ravdess/run0model.epoch=61.step=6100.test_acc=0.6444.pt\n",
      "{'acc_unweighted': tensor(0.6505, device='cuda:0'),\n",
      " 'acc_weighted': tensor(0.6444, device='cuda:0'),\n",
      " 'f1s_unweighted': tensor(0.6348, device='cuda:0'),\n",
      " 'f1s_weighted': tensor(0.6441, device='cuda:0'),\n",
      " 'rocauc': tensor(0.8597, device='cuda:0'),\n",
      " 'uar': tensor(0.6505, device='cuda:0'),\n",
      " 'wap': tensor(0.6522, device='cuda:0')}\n",
      "{'acc_detail': tensor([0.7895, 0.6842, 0.5128, 0.6154], device='cuda:0'),\n",
      " 'f1s_detail': tensor([0.7792, 0.5652, 0.5634, 0.6316], device='cuda:0'),\n",
      " 'precision_detail': tensor([0.7692, 0.4815, 0.6250, 0.6486], device='cuda:0'),\n",
      " 'recall_detail': tensor([0.7895, 0.6842, 0.5128, 0.6154], device='cuda:0'),\n",
      " 'rocauc_detail': tensor([0.9345, 0.8893, 0.8037, 0.8114], device='cuda:0')}\n",
      "tensor([[30,  1,  2,  5],\n",
      "        [ 0, 13,  4,  2],\n",
      "        [ 4,  9, 20,  6],\n",
      "        [ 5,  4,  6, 24]], device='cuda:0')\n"
     ]
    },
    {
     "name": "stderr",
     "output_type": "stream",
     "text": [
      " 62%|██████████████████████████████████████████████████▊                               | 62.00724637680831/100 [1:02:23<1:53:01, 178.49s/it]"
     ]
    },
    {
     "name": "stdout",
     "output_type": "stream",
     "text": [
      "Epoch: 62\tLoss: 0.000 [perplexity=0.000, loss_vq=0.000, loss_recon=0.000, loss_cls=0.000]\tVal_acc: 15/27 (55.56%)\n",
      "\n"
     ]
    },
    {
     "name": "stderr",
     "output_type": "stream",
     "text": [
      " 63%|███████████████████████████████████████████████████▋                              | 62.97826086956188/100 [1:03:23<1:49:50, 178.02s/it]"
     ]
    },
    {
     "name": "stdout",
     "output_type": "stream",
     "text": [
      "Epoch: 63\tLoss: 0.001 [perplexity=0.000, loss_vq=0.000, loss_recon=0.000, loss_cls=0.001]\tVal_acc: 15/27 (55.56%)\n",
      "\n"
     ]
    },
    {
     "name": "stderr",
     "output_type": "stream",
     "text": [
      " 64%|████████████████████████████████████████████████████▍                             | 63.94927536231545/100 [1:04:23<1:48:15, 180.17s/it]"
     ]
    },
    {
     "name": "stdout",
     "output_type": "stream",
     "text": [
      "Epoch: 64\tLoss: 0.000 [perplexity=0.000, loss_vq=0.000, loss_recon=0.000, loss_cls=0.000]\tVal_acc: 15/27 (55.56%)\n",
      "\n"
     ]
    },
    {
     "name": "stderr",
     "output_type": "stream",
     "text": [
      " 65%|█████████████████████████████████████████████████████▏                            | 64.92028985506902/100 [1:05:23<1:43:38, 177.27s/it]"
     ]
    },
    {
     "name": "stdout",
     "output_type": "stream",
     "text": [
      "Epoch: 65\tLoss: 0.000 [perplexity=0.000, loss_vq=0.000, loss_recon=0.000, loss_cls=0.000]\tVal_acc: 15/27 (55.56%)\n",
      "\n"
     ]
    },
    {
     "name": "stderr",
     "output_type": "stream",
     "text": [
      " 66%|██████████████████████████████████████████████████████                            | 65.89130434782258/100 [1:06:23<1:42:02, 179.49s/it]"
     ]
    },
    {
     "name": "stdout",
     "output_type": "stream",
     "text": [
      "Epoch: 66\tLoss: 0.000 [perplexity=0.000, loss_vq=0.000, loss_recon=0.000, loss_cls=0.000]\tVal_acc: 15/27 (55.56%)\n",
      "\n"
     ]
    },
    {
     "name": "stderr",
     "output_type": "stream",
     "text": [
      " 67%|██████████████████████████████████████████████████████▊                           | 66.86231884057615/100 [1:07:23<1:37:23, 176.35s/it]"
     ]
    },
    {
     "name": "stdout",
     "output_type": "stream",
     "text": [
      "Epoch: 67\tLoss: 0.000 [perplexity=0.000, loss_vq=0.000, loss_recon=0.000, loss_cls=0.000]\tVal_acc: 15/27 (55.56%)\n",
      "\n"
     ]
    },
    {
     "name": "stderr",
     "output_type": "stream",
     "text": [
      " 68%|███████████████████████████████████████████████████████▌                          | 67.83333333332972/100 [1:08:23<1:35:15, 177.70s/it]"
     ]
    },
    {
     "name": "stdout",
     "output_type": "stream",
     "text": [
      "Epoch: 68\tLoss: 0.000 [perplexity=0.000, loss_vq=0.000, loss_recon=0.000, loss_cls=0.000]\tVal_acc: 15/27 (55.56%)\n",
      "\n"
     ]
    },
    {
     "name": "stderr",
     "output_type": "stream",
     "text": [
      " 69%|████████████████████████████████████████████████████████▍                         | 68.80434782608329/100 [1:09:23<1:32:19, 177.57s/it]"
     ]
    },
    {
     "name": "stdout",
     "output_type": "stream",
     "text": [
      "Epoch: 69\tLoss: 0.000 [perplexity=0.000, loss_vq=0.000, loss_recon=0.000, loss_cls=0.000]\tVal_acc: 15/27 (55.56%)\n",
      "\n"
     ]
    },
    {
     "name": "stderr",
     "output_type": "stream",
     "text": [
      " 70%|█████████████████████████████████████████████████████████▏                        | 69.77536231883686/100 [1:10:23<1:30:43, 180.12s/it]"
     ]
    },
    {
     "name": "stdout",
     "output_type": "stream",
     "text": [
      "Epoch: 70\tLoss: 0.000 [perplexity=0.000, loss_vq=0.000, loss_recon=0.000, loss_cls=0.000]\tVal_acc: 15/27 (55.56%)\n",
      "\n"
     ]
    },
    {
     "name": "stderr",
     "output_type": "stream",
     "text": [
      " 71%|██████████████████████████████████████████████████████████                        | 70.74637681159042/100 [1:11:23<1:26:29, 177.39s/it]"
     ]
    },
    {
     "name": "stdout",
     "output_type": "stream",
     "text": [
      "Epoch: 71\tLoss: 0.000 [perplexity=0.000, loss_vq=0.000, loss_recon=0.000, loss_cls=0.000]\tVal_acc: 15/27 (55.56%)\n",
      "\n"
     ]
    },
    {
     "name": "stderr",
     "output_type": "stream",
     "text": [
      " 72%|████████████████████████████████████████████████████████████▊                        | 71.55072463767733/100 [1:12:05<18:42, 39.47s/it]"
     ]
    },
    {
     "name": "stdout",
     "output_type": "stream",
     "text": [
      "Correct: 87/135 (0.6444)\n",
      "{'acc_unweighted': tensor(0.6505, device='cuda:0'),\n",
      " 'acc_weighted': tensor(0.6444, device='cuda:0'),\n",
      " 'f1s_unweighted': tensor(0.6348, device='cuda:0'),\n",
      " 'f1s_weighted': tensor(0.6441, device='cuda:0'),\n",
      " 'rocauc': tensor(0.8590, device='cuda:0'),\n",
      " 'uar': tensor(0.6505, device='cuda:0'),\n",
      " 'wap': tensor(0.6522, device='cuda:0')}\n",
      "{'acc_detail': tensor([0.7895, 0.6842, 0.5128, 0.6154], device='cuda:0'),\n",
      " 'f1s_detail': tensor([0.7792, 0.5652, 0.5634, 0.6316], device='cuda:0'),\n",
      " 'precision_detail': tensor([0.7692, 0.4815, 0.6250, 0.6486], device='cuda:0'),\n",
      " 'recall_detail': tensor([0.7895, 0.6842, 0.5128, 0.6154], device='cuda:0'),\n",
      " 'rocauc_detail': tensor([0.9343, 0.8875, 0.8038, 0.8102], device='cuda:0')}\n",
      "tensor([[30,  1,  2,  5],\n",
      "        [ 0, 13,  4,  2],\n",
      "        [ 4,  9, 20,  6],\n",
      "        [ 5,  4,  6, 24]], device='cuda:0')\n"
     ]
    },
    {
     "name": "stderr",
     "output_type": "stream",
     "text": [
      " 72%|███████████████████████████████████████████████████████████                       | 72.04347826086571/100 [1:12:37<1:22:44, 177.57s/it]"
     ]
    },
    {
     "name": "stdout",
     "output_type": "stream",
     "text": [
      "Epoch: 72\tLoss: 0.000 [perplexity=0.000, loss_vq=0.000, loss_recon=0.000, loss_cls=0.000]\tVal_acc: 15/27 (55.56%)\n",
      "\n"
     ]
    },
    {
     "name": "stderr",
     "output_type": "stream",
     "text": [
      " 73%|███████████████████████████████████████████████████████████▊                      | 73.01449275361928/100 [1:13:37<1:20:30, 179.02s/it]"
     ]
    },
    {
     "name": "stdout",
     "output_type": "stream",
     "text": [
      "Epoch: 73\tLoss: 0.000 [perplexity=0.000, loss_vq=0.000, loss_recon=0.000, loss_cls=0.000]\tVal_acc: 15/27 (55.56%)\n",
      "\n"
     ]
    },
    {
     "name": "stderr",
     "output_type": "stream",
     "text": [
      " 74%|████████████████████████████████████████████████████████████▋                     | 73.98550724637285/100 [1:14:37<1:17:30, 178.77s/it]"
     ]
    },
    {
     "name": "stdout",
     "output_type": "stream",
     "text": [
      "Epoch: 74\tLoss: 0.000 [perplexity=0.000, loss_vq=0.000, loss_recon=0.000, loss_cls=0.000]\tVal_acc: 15/27 (55.56%)\n",
      "\n"
     ]
    },
    {
     "name": "stderr",
     "output_type": "stream",
     "text": [
      " 75%|█████████████████████████████████████████████████████████████▍                    | 74.95652173912642/100 [1:15:37<1:14:22, 178.18s/it]"
     ]
    },
    {
     "name": "stdout",
     "output_type": "stream",
     "text": [
      "Epoch: 75\tLoss: 0.000 [perplexity=0.000, loss_vq=0.000, loss_recon=0.000, loss_cls=0.000]\tVal_acc: 15/27 (55.56%)\n",
      "\n"
     ]
    },
    {
     "name": "stderr",
     "output_type": "stream",
     "text": [
      " 76%|██████████████████████████████████████████████████████████████▎                   | 75.92753623187998/100 [1:16:37<1:11:02, 177.08s/it]"
     ]
    },
    {
     "name": "stdout",
     "output_type": "stream",
     "text": [
      "Epoch: 76\tLoss: 0.000 [perplexity=0.000, loss_vq=0.000, loss_recon=0.000, loss_cls=0.000]\tVal_acc: 15/27 (55.56%)\n",
      "\n"
     ]
    },
    {
     "name": "stderr",
     "output_type": "stream",
     "text": [
      " 77%|███████████████████████████████████████████████████████████████                   | 76.89855072463355/100 [1:17:36<1:07:47, 176.05s/it]"
     ]
    },
    {
     "name": "stdout",
     "output_type": "stream",
     "text": [
      "Epoch: 77\tLoss: 0.000 [perplexity=0.000, loss_vq=0.000, loss_recon=0.000, loss_cls=0.000]\tVal_acc: 15/27 (55.56%)\n",
      "\n"
     ]
    },
    {
     "name": "stderr",
     "output_type": "stream",
     "text": [
      " 78%|███████████████████████████████████████████████████████████████▊                  | 77.86956521738712/100 [1:18:36<1:04:58, 176.18s/it]"
     ]
    },
    {
     "name": "stdout",
     "output_type": "stream",
     "text": [
      "Epoch: 78\tLoss: 0.000 [perplexity=0.000, loss_vq=0.000, loss_recon=0.000, loss_cls=0.000]\tVal_acc: 15/27 (55.56%)\n",
      "\n"
     ]
    },
    {
     "name": "stderr",
     "output_type": "stream",
     "text": [
      " 79%|████████████████████████████████████████████████████████████████▋                 | 78.84057971014069/100 [1:19:35<1:01:21, 173.97s/it]"
     ]
    },
    {
     "name": "stdout",
     "output_type": "stream",
     "text": [
      "Epoch: 79\tLoss: 0.000 [perplexity=0.000, loss_vq=0.000, loss_recon=0.000, loss_cls=0.000]\tVal_acc: 15/27 (55.56%)\n",
      "\n"
     ]
    },
    {
     "name": "stderr",
     "output_type": "stream",
     "text": [
      " 80%|███████████████████████████████████████████████████████████████████                 | 79.81159420289426/100 [1:20:34<59:27, 176.73s/it]"
     ]
    },
    {
     "name": "stdout",
     "output_type": "stream",
     "text": [
      "Epoch: 80\tLoss: 0.000 [perplexity=0.000, loss_vq=0.000, loss_recon=0.000, loss_cls=0.000]\tVal_acc: 15/27 (55.56%)\n",
      "\n"
     ]
    },
    {
     "name": "stderr",
     "output_type": "stream",
     "text": [
      " 81%|███████████████████████████████████████████████████████████████████▊                | 80.78260869564782/100 [1:21:33<55:39, 173.75s/it]"
     ]
    },
    {
     "name": "stdout",
     "output_type": "stream",
     "text": [
      "Epoch: 81\tLoss: 0.000 [perplexity=0.000, loss_vq=0.000, loss_recon=0.000, loss_cls=0.000]\tVal_acc: 15/27 (55.56%)\n",
      "\n"
     ]
    },
    {
     "name": "stderr",
     "output_type": "stream",
     "text": [
      " 82%|█████████████████████████████████████████████████████████████████████▎               | 81.58695652173473/100 [1:22:14<12:01, 39.17s/it]"
     ]
    },
    {
     "name": "stdout",
     "output_type": "stream",
     "text": [
      "Correct: 86/135 (0.6370)\n",
      "{'acc_unweighted': tensor(0.6439, device='cuda:0'),\n",
      " 'acc_weighted': tensor(0.6370, device='cuda:0'),\n",
      " 'f1s_unweighted': tensor(0.6289, device='cuda:0'),\n",
      " 'f1s_weighted': tensor(0.6373, device='cuda:0'),\n",
      " 'rocauc': tensor(0.8578, device='cuda:0'),\n",
      " 'uar': tensor(0.6439, device='cuda:0'),\n",
      " 'wap': tensor(0.6451, device='cuda:0')}\n",
      "{'acc_detail': tensor([0.7632, 0.6842, 0.5128, 0.6154], device='cuda:0'),\n",
      " 'f1s_detail': tensor([0.7632, 0.5652, 0.5556, 0.6316], device='cuda:0'),\n",
      " 'precision_detail': tensor([0.7632, 0.4815, 0.6061, 0.6486], device='cuda:0'),\n",
      " 'recall_detail': tensor([0.7632, 0.6842, 0.5128, 0.6154], device='cuda:0'),\n",
      " 'rocauc_detail': tensor([0.9342, 0.8866, 0.8029, 0.8077], device='cuda:0')}\n",
      "tensor([[29,  1,  3,  5],\n",
      "        [ 0, 13,  4,  2],\n",
      "        [ 4,  9, 20,  6],\n",
      "        [ 5,  4,  6, 24]], device='cuda:0')\n"
     ]
    },
    {
     "name": "stderr",
     "output_type": "stream",
     "text": [
      " 82%|████████████████████████████████████████████████████████████████████▉               | 82.07971014492311/100 [1:22:46<51:29, 172.42s/it]"
     ]
    },
    {
     "name": "stdout",
     "output_type": "stream",
     "text": [
      "Epoch: 82\tLoss: 0.000 [perplexity=0.000, loss_vq=0.000, loss_recon=0.000, loss_cls=0.000]\tVal_acc: 15/27 (55.56%)\n",
      "\n"
     ]
    },
    {
     "name": "stderr",
     "output_type": "stream",
     "text": [
      " 83%|█████████████████████████████████████████████████████████████████████▊              | 83.05072463767668/100 [1:23:45<49:44, 176.09s/it]"
     ]
    },
    {
     "name": "stdout",
     "output_type": "stream",
     "text": [
      "Epoch: 83\tLoss: 0.000 [perplexity=0.000, loss_vq=0.000, loss_recon=0.000, loss_cls=0.000]\tVal_acc: 15/27 (55.56%)\n",
      "\n"
     ]
    },
    {
     "name": "stderr",
     "output_type": "stream",
     "text": [
      " 84%|██████████████████████████████████████████████████████████████████████▌             | 84.02173913043025/100 [1:24:44<46:41, 175.36s/it]"
     ]
    },
    {
     "name": "stdout",
     "output_type": "stream",
     "text": [
      "Epoch: 84\tLoss: 0.000 [perplexity=0.000, loss_vq=0.000, loss_recon=0.000, loss_cls=0.000]\tVal_acc: 15/27 (55.56%)\n",
      "\n"
     ]
    },
    {
     "name": "stderr",
     "output_type": "stream",
     "text": [
      " 85%|███████████████████████████████████████████████████████████████████████▍            | 84.99275362318382/100 [1:25:43<43:43, 174.79s/it]"
     ]
    },
    {
     "name": "stdout",
     "output_type": "stream",
     "text": [
      "Epoch: 85\tLoss: 0.000 [perplexity=0.000, loss_vq=0.000, loss_recon=0.000, loss_cls=0.000]\tVal_acc: 15/27 (55.56%)\n",
      "\n"
     ]
    },
    {
     "name": "stderr",
     "output_type": "stream",
     "text": [
      " 86%|████████████████████████████████████████████████████████████████████████▏           | 85.96376811593738/100 [1:26:42<41:18, 176.56s/it]"
     ]
    },
    {
     "name": "stdout",
     "output_type": "stream",
     "text": [
      "Epoch: 86\tLoss: 0.000 [perplexity=0.000, loss_vq=0.000, loss_recon=0.000, loss_cls=0.000]\tVal_acc: 15/27 (55.56%)\n",
      "\n"
     ]
    },
    {
     "name": "stderr",
     "output_type": "stream",
     "text": [
      " 87%|█████████████████████████████████████████████████████████████████████████           | 86.93478260869095/100 [1:27:41<38:20, 176.09s/it]"
     ]
    },
    {
     "name": "stdout",
     "output_type": "stream",
     "text": [
      "Epoch: 87\tLoss: 0.000 [perplexity=0.000, loss_vq=0.000, loss_recon=0.000, loss_cls=0.000]\tVal_acc: 15/27 (55.56%)\n",
      "\n"
     ]
    },
    {
     "name": "stderr",
     "output_type": "stream",
     "text": [
      " 88%|█████████████████████████████████████████████████████████████████████████▊          | 87.90579710144452/100 [1:28:40<35:19, 175.22s/it]"
     ]
    },
    {
     "name": "stdout",
     "output_type": "stream",
     "text": [
      "Epoch: 88\tLoss: 0.000 [perplexity=0.000, loss_vq=0.000, loss_recon=0.000, loss_cls=0.000]\tVal_acc: 15/27 (55.56%)\n",
      "\n"
     ]
    },
    {
     "name": "stderr",
     "output_type": "stream",
     "text": [
      " 89%|██████████████████████████████████████████████████████████████████████████▋         | 88.87681159419809/100 [1:29:39<32:50, 177.13s/it]"
     ]
    },
    {
     "name": "stdout",
     "output_type": "stream",
     "text": [
      "Epoch: 89\tLoss: 0.000 [perplexity=0.000, loss_vq=0.000, loss_recon=0.000, loss_cls=0.000]\tVal_acc: 15/27 (55.56%)\n",
      "\n"
     ]
    },
    {
     "name": "stderr",
     "output_type": "stream",
     "text": [
      " 90%|███████████████████████████████████████████████████████████████████████████▍        | 89.84782608695166/100 [1:30:38<30:15, 178.86s/it]"
     ]
    },
    {
     "name": "stdout",
     "output_type": "stream",
     "text": [
      "Epoch: 90\tLoss: 0.000 [perplexity=0.000, loss_vq=0.000, loss_recon=0.000, loss_cls=0.000]\tVal_acc: 15/27 (55.56%)\n",
      "\n"
     ]
    },
    {
     "name": "stderr",
     "output_type": "stream",
     "text": [
      " 91%|████████████████████████████████████████████████████████████████████████████▎       | 90.81884057970522/100 [1:31:38<27:08, 177.39s/it]"
     ]
    },
    {
     "name": "stdout",
     "output_type": "stream",
     "text": [
      "Epoch: 91\tLoss: 0.000 [perplexity=0.000, loss_vq=0.000, loss_recon=0.000, loss_cls=0.000]\tVal_acc: 15/27 (55.56%)\n",
      "\n"
     ]
    },
    {
     "name": "stderr",
     "output_type": "stream",
     "text": [
      " 92%|█████████████████████████████████████████████████████████████████████████████▉       | 91.62318840579213/100 [1:32:19<05:27, 39.06s/it]"
     ]
    },
    {
     "name": "stdout",
     "output_type": "stream",
     "text": [
      "Correct: 86/135 (0.6370)\n",
      "{'acc_unweighted': tensor(0.6439, device='cuda:0'),\n",
      " 'acc_weighted': tensor(0.6370, device='cuda:0'),\n",
      " 'f1s_unweighted': tensor(0.6289, device='cuda:0'),\n",
      " 'f1s_weighted': tensor(0.6373, device='cuda:0'),\n",
      " 'rocauc': tensor(0.8572, device='cuda:0'),\n",
      " 'uar': tensor(0.6439, device='cuda:0'),\n",
      " 'wap': tensor(0.6451, device='cuda:0')}\n",
      "{'acc_detail': tensor([0.7632, 0.6842, 0.5128, 0.6154], device='cuda:0'),\n",
      " 'f1s_detail': tensor([0.7632, 0.5652, 0.5556, 0.6316], device='cuda:0'),\n",
      " 'precision_detail': tensor([0.7632, 0.4815, 0.6061, 0.6486], device='cuda:0'),\n",
      " 'recall_detail': tensor([0.7632, 0.6842, 0.5128, 0.6154], device='cuda:0'),\n",
      " 'rocauc_detail': tensor([0.9348, 0.8859, 0.8007, 0.8074], device='cuda:0')}\n",
      "tensor([[29,  1,  3,  5],\n",
      "        [ 0, 13,  4,  2],\n",
      "        [ 4,  9, 20,  6],\n",
      "        [ 5,  4,  6, 24]], device='cuda:0')\n"
     ]
    },
    {
     "name": "stderr",
     "output_type": "stream",
     "text": [
      " 92%|█████████████████████████████████████████████████████████████████████████████▍      | 92.11594202898051/100 [1:32:50<22:50, 173.82s/it]"
     ]
    },
    {
     "name": "stdout",
     "output_type": "stream",
     "text": [
      "Epoch: 92\tLoss: 0.000 [perplexity=0.000, loss_vq=0.000, loss_recon=0.000, loss_cls=0.000]\tVal_acc: 15/27 (55.56%)\n",
      "\n"
     ]
    },
    {
     "name": "stderr",
     "output_type": "stream",
     "text": [
      " 93%|██████████████████████████████████████████████████████████████████████████████▏     | 93.08695652173408/100 [1:33:49<20:30, 178.03s/it]"
     ]
    },
    {
     "name": "stdout",
     "output_type": "stream",
     "text": [
      "Epoch: 93\tLoss: 0.000 [perplexity=0.000, loss_vq=0.000, loss_recon=0.000, loss_cls=0.000]\tVal_acc: 15/27 (55.56%)\n",
      "\n"
     ]
    },
    {
     "name": "stderr",
     "output_type": "stream",
     "text": [
      " 94%|███████████████████████████████████████████████████████████████████████████████     | 94.05797101448765/100 [1:34:48<17:15, 174.32s/it]"
     ]
    },
    {
     "name": "stdout",
     "output_type": "stream",
     "text": [
      "Epoch: 94\tLoss: 0.000 [perplexity=0.000, loss_vq=0.000, loss_recon=0.000, loss_cls=0.000]\tVal_acc: 15/27 (55.56%)\n",
      "\n"
     ]
    },
    {
     "name": "stderr",
     "output_type": "stream",
     "text": [
      " 95%|███████████████████████████████████████████████████████████████████████████████▊    | 95.02898550724122/100 [1:35:48<14:51, 179.27s/it]"
     ]
    },
    {
     "name": "stdout",
     "output_type": "stream",
     "text": [
      "Epoch: 95\tLoss: 0.000 [perplexity=0.000, loss_vq=0.000, loss_recon=0.000, loss_cls=0.000]\tVal_acc: 15/27 (55.56%)\n",
      "\n"
     ]
    },
    {
     "name": "stderr",
     "output_type": "stream",
     "text": [
      " 96%|████████████████████████████████████████████████████████████████████████████████▋   | 95.99999999999478/100 [1:36:48<11:51, 177.98s/it]"
     ]
    },
    {
     "name": "stdout",
     "output_type": "stream",
     "text": [
      "Epoch: 96\tLoss: 0.000 [perplexity=0.000, loss_vq=0.000, loss_recon=0.000, loss_cls=0.000]\tVal_acc: 15/27 (55.56%)\n",
      "\n"
     ]
    },
    {
     "name": "stderr",
     "output_type": "stream",
     "text": [
      " 97%|█████████████████████████████████████████████████████████████████████████████████▍  | 96.97101449274835/100 [1:37:47<08:52, 175.84s/it]"
     ]
    },
    {
     "name": "stdout",
     "output_type": "stream",
     "text": [
      "Epoch: 97\tLoss: 0.000 [perplexity=0.000, loss_vq=0.000, loss_recon=0.000, loss_cls=0.000]\tVal_acc: 15/27 (55.56%)\n",
      "\n"
     ]
    },
    {
     "name": "stderr",
     "output_type": "stream",
     "text": [
      " 98%|██████████████████████████████████████████████████████████████████████████████████▎ | 97.94202898550192/100 [1:38:46<05:58, 174.35s/it]"
     ]
    },
    {
     "name": "stdout",
     "output_type": "stream",
     "text": [
      "Epoch: 98\tLoss: 0.000 [perplexity=0.000, loss_vq=0.000, loss_recon=0.000, loss_cls=0.000]\tVal_acc: 15/27 (55.56%)\n",
      "\n"
     ]
    },
    {
     "name": "stderr",
     "output_type": "stream",
     "text": [
      " 99%|███████████████████████████████████████████████████████████████████████████████████ | 98.91304347825549/100 [1:39:46<03:10, 174.88s/it]"
     ]
    },
    {
     "name": "stdout",
     "output_type": "stream",
     "text": [
      "Epoch: 99\tLoss: 0.000 [perplexity=0.000, loss_vq=0.000, loss_recon=0.000, loss_cls=0.000]\tVal_acc: 15/27 (55.56%)\n",
      "\n"
     ]
    },
    {
     "name": "stderr",
     "output_type": "stream",
     "text": [
      "100%|███████████████████████████████████████████████████████████████████████████████████▉| 99.88405797100906/100 [1:40:45<00:20, 174.92s/it]"
     ]
    },
    {
     "name": "stdout",
     "output_type": "stream",
     "text": [
      "Epoch: 100\tLoss: 0.000 [perplexity=0.000, loss_vq=0.000, loss_recon=0.000, loss_cls=0.000]\tVal_acc: 15/27 (55.56%)\n",
      "\n"
     ]
    },
    {
     "name": "stderr",
     "output_type": "stream",
     "text": [
      "100%|████████████████████████████████████████████████████████████████████████████████████▉| 99.99999999999456/100 [1:40:52<00:00, 58.29s/it]/opt/anaconda3/envs/audio/lib/python3.9/site-packages/tqdm/std.py:639: TqdmWarning: clamping frac to range [0, 1]\n",
      "  full_bar = Bar(frac,\n",
      "100%|█████████████████████████████████████████████████████████████████████████████████| 100.36231884057425/100 [1:41:13<-1:59:39, 60.51s/it]\n"
     ]
    }
   ],
   "source": [
    "trainer.fit(n_epoch=100, self_supervised=False, train_task='embedding', test_n_epoch=10)"
   ]
  },
  {
   "cell_type": "code",
   "execution_count": 16,
   "id": "5eb2e626-b145-4b92-97e6-11f5bfc4f988",
   "metadata": {},
   "outputs": [],
   "source": [
    "from pprint import pprint\n",
    "from einops import reduce\n",
    "import pandas as pd\n",
    "import IPython.display as ipd\n",
    "import seaborn as sns\n",
    "\n",
    "from IConNet.acov.visualize import (\n",
    "    visualize_speech_codebook, get_embedding_color, \n",
    "    visualize_embedding_umap, visualize_training_curves,\n",
    "    get_embedding_color_v2, get_zcs_color_v2\n",
    ")"
   ]
  },
  {
   "cell_type": "code",
   "execution_count": 17,
   "id": "af0909ef-b754-455e-ab51-6119a0f59213",
   "metadata": {},
   "outputs": [
    {
     "name": "stdout",
     "output_type": "stream",
     "text": [
      "Loaded: ../scb16_models/ravdess/run0model.epoch=27.step=2651.loss=0.264.val_acc=0.667.pt\n"
     ]
    }
   ],
   "source": [
    "trainer.load_best_model(val_model=True)"
   ]
  },
  {
   "cell_type": "code",
   "execution_count": 18,
   "id": "26cfa07d-bfbd-4eec-807a-c5a9ca82812e",
   "metadata": {},
   "outputs": [
    {
     "name": "stdout",
     "output_type": "stream",
     "text": [
      "Correct: 86/135 (0.6370)\n"
     ]
    }
   ],
   "source": [
    "metrics, metrics_details, confusion_matrix = trainer.test_step()"
   ]
  },
  {
   "cell_type": "code",
   "execution_count": 19,
   "id": "81804858-c5ad-48f9-8ccf-c695898aefcc",
   "metadata": {},
   "outputs": [
    {
     "name": "stdout",
     "output_type": "stream",
     "text": [
      "{'acc_unweighted': tensor(0.6107),\n",
      " 'acc_weighted': tensor(0.6370),\n",
      " 'f1s_unweighted': tensor(0.6070),\n",
      " 'f1s_weighted': tensor(0.6364),\n",
      " 'rocauc': tensor(0.8419),\n",
      " 'uar': tensor(0.6107),\n",
      " 'wap': tensor(0.6422)}\n",
      "{'acc_detail': tensor([0.8421, 0.4211, 0.5641, 0.6154]),\n",
      " 'f1s_detail': tensor([0.7805, 0.4000, 0.5714, 0.6761]),\n",
      " 'precision_detail': tensor([0.7273, 0.3810, 0.5789, 0.7500]),\n",
      " 'recall_detail': tensor([0.8421, 0.4211, 0.5641, 0.6154]),\n",
      " 'rocauc_detail': tensor([0.9367, 0.8358, 0.7938, 0.8013])}\n",
      "tensor([[32,  0,  3,  3],\n",
      "        [ 3,  8,  7,  1],\n",
      "        [ 4,  9, 22,  4],\n",
      "        [ 5,  4,  6, 24]])\n"
     ]
    }
   ],
   "source": [
    "me = metrics.cpu().compute()\n",
    "med = metrics_details.cpu().compute()\n",
    "cm = confusion_matrix.cpu().compute()\n",
    "pprint(me)\n",
    "pprint(med)\n",
    "pprint(cm)"
   ]
  },
  {
   "cell_type": "code",
   "execution_count": 20,
   "id": "7755a595-5520-46d4-b0f2-ccfd02a48cf6",
   "metadata": {},
   "outputs": [
    {
     "data": {
      "text/plain": [
       "<Axes: xlabel='Predicted', ylabel='Actual'>"
      ]
     },
     "execution_count": 20,
     "metadata": {},
     "output_type": "execute_result"
    },
    {
     "data": {
      "image/png": "[encoded data removed]",
      "text/plain": [
       "<Figure size 1000x700 with 2 Axes>"
      ]
     },
     "metadata": {},
     "output_type": "display_data"
    }
   ],
   "source": [
    "labels = dataset_config.target_labels\n",
    "a = cm\n",
    "a = a / reduce(a, 'y yh -> 1 yh', 'sum')\n",
    "df_cm = pd.DataFrame(a, columns=labels, index = labels)\n",
    "df_cm.index.name = 'Actual'\n",
    "df_cm.columns.name = 'Predicted'\n",
    "plt.figure(figsize = (10,7))\n",
    "sns.set(font_scale=1.4) #for label size\n",
    "sns.heatmap(\n",
    "    df_cm, cmap=\"Blues\", \n",
    "    annot=True,\n",
    "    annot_kws={\"size\": 16})# font size"
   ]
  },
  {
   "cell_type": "code",
   "execution_count": 21,
   "id": "cbe74d94-5bb2-43bc-ae0c-35ad1bb4b2e4",
   "metadata": {},
   "outputs": [
    {
     "data": {
      "text/plain": [
       "<Axes: xlabel='Predicted', ylabel='Actual'>"
      ]
     },
     "execution_count": 21,
     "metadata": {},
     "output_type": "execute_result"
    },
    {
     "data": {
      "image/png": "[encoded data removed]",
      "text/plain": [
       "<Figure size 1000x700 with 2 Axes>"
      ]
     },
     "metadata": {},
     "output_type": "display_data"
    }
   ],
   "source": [
    "a = cm\n",
    "a = a / reduce(a, 'y yh -> y 1', 'sum')\n",
    "a = a / reduce(a, 'y yh -> 1 yh', 'sum')\n",
    "df_cm = pd.DataFrame(a, columns=labels, index = labels)\n",
    "df_cm.index.name = 'Actual'\n",
    "df_cm.columns.name = 'Predicted'\n",
    "plt.figure(figsize = (10,7))\n",
    "sns.set(font_scale=1.4) #for label size\n",
    "sns.heatmap(\n",
    "    df_cm, cmap=\"Blues\", \n",
    "    annot=True,\n",
    "    annot_kws={\"size\": 16})# font size"
   ]
  },
  {
   "cell_type": "code",
   "execution_count": 22,
   "id": "094d627e-6c88-4d04-8fc4-bf5f0b9d9856",
   "metadata": {},
   "outputs": [
    {
     "name": "stdout",
     "output_type": "stream",
     "text": [
      "../scb16_models/ravdess/run0model.epoch=61.step=6100.test_acc=0.6444.pt\n"
     ]
    }
   ],
   "source": [
    "print(trainer.best_test_model_path)"
   ]
  },
  {
   "cell_type": "code",
   "execution_count": 24,
   "id": "a5467603-78d3-428d-8717-f3051e1851ee",
   "metadata": {},
   "outputs": [],
   "source": [
    "me = {'acc_unweighted': torch.tensor(0.6505),\n",
    " 'acc_weighted': torch.tensor(0.6444),\n",
    " 'f1s_unweighted': torch.tensor(0.6348),\n",
    " 'f1s_weighted': torch.tensor(0.6441),\n",
    " 'rocauc': torch.tensor(0.8590),\n",
    " 'uar': torch.tensor(0.6505),\n",
    " 'wap': torch.tensor(0.6522)}\n",
    "med = {'acc_detail': torch.tensor([0.7895, 0.6842, 0.5128, 0.6154]),\n",
    " 'f1s_detail': torch.tensor([0.7792, 0.5652, 0.5634, 0.6316]),\n",
    " 'precision_detail': torch.tensor([0.7692, 0.4815, 0.6250, 0.6486]),\n",
    " 'recall_detail': torch.tensor([0.7895, 0.6842, 0.5128, 0.6154]),\n",
    " 'rocauc_detail': torch.tensor([0.9343, 0.8875, 0.8038, 0.8102])}\n",
    "\n",
    "cm = torch.tensor([[30,  1,  2,  5],\n",
    "        [ 0, 13,  4,  2],\n",
    "        [ 4,  9, 20,  6],\n",
    "        [ 5,  4,  6, 24]])"
   ]
  },
  {
   "cell_type": "code",
   "execution_count": 25,
   "id": "294a36db-65e8-4446-8511-86d96533efcd",
   "metadata": {},
   "outputs": [
    {
     "data": {
      "text/plain": [
       "<Axes: xlabel='Predicted', ylabel='Actual'>"
      ]
     },
     "execution_count": 25,
     "metadata": {},
     "output_type": "execute_result"
    },
    {
     "data": {
      "image/png": "[encoded data removed]",
      "text/plain": [
       "<Figure size 1000x700 with 2 Axes>"
      ]
     },
     "metadata": {},
     "output_type": "display_data"
    }
   ],
   "source": [
    "a = cm\n",
    "a = a / reduce(a, 'y yh -> 1 yh', 'sum')\n",
    "df_cm = pd.DataFrame(a, columns=labels, index = labels)\n",
    "df_cm.index.name = 'Actual'\n",
    "df_cm.columns.name = 'Predicted'\n",
    "plt.figure(figsize = (10,7))\n",
    "sns.set(font_scale=1.4) #for label size\n",
    "sns.heatmap(\n",
    "    df_cm, cmap=\"Blues\", \n",
    "    annot=True,\n",
    "    annot_kws={\"size\": 16})# font size"
   ]
  },
  {
   "cell_type": "code",
   "execution_count": 26,
   "id": "1ee50735-469b-4e3a-9725-24e34e5558c0",
   "metadata": {},
   "outputs": [
    {
     "data": {
      "text/plain": [
       "<Axes: xlabel='Predicted', ylabel='Actual'>"
      ]
     },
     "execution_count": 26,
     "metadata": {},
     "output_type": "execute_result"
    },
    {
     "data": {
      "image/png": "[encoded data removed]",
      "text/plain": [
       "<Figure size 1000x700 with 2 Axes>"
      ]
     },
     "metadata": {},
     "output_type": "display_data"
    }
   ],
   "source": [
    "a = cm\n",
    "a = a / reduce(a, 'y yh -> y 1', 'sum')\n",
    "a = a / reduce(a, 'y yh -> 1 yh', 'sum')\n",
    "df_cm = pd.DataFrame(a, columns=labels, index = labels)\n",
    "df_cm.index.name = 'Actual'\n",
    "df_cm.columns.name = 'Predicted'\n",
    "plt.figure(figsize = (10,7))\n",
    "sns.set(font_scale=1.4) #for label size\n",
    "sns.heatmap(\n",
    "    df_cm, cmap=\"Blues\", \n",
    "    annot=True,\n",
    "    annot_kws={\"size\": 16})# font size"
   ]
  },
  {
   "cell_type": "code",
   "execution_count": 27,
   "id": "41c0ef49-6c77-4d08-b630-d7c63ed38b5f",
   "metadata": {},
   "outputs": [],
   "source": [
    "dt = []\n",
    "for i, ld in enumerate(trainer.train_losses_detail):\n",
    "    d = {'loss': trainer.train_losses[i]}\n",
    "    for j, k in enumerate(ld._fields):\n",
    "        d[k] = ld[j]\n",
    "    dt.append(d)\n",
    "loss_df = pd.DataFrame(dt)\n",
    "trained_epoch = trainer.current_epoch\n",
    "n = len(trainer.train_losses)\n",
    "trained_steps = n - (n % trained_epoch)\n",
    "train_losses = reduce(np.array(\n",
    "    trainer.train_losses[:trained_steps]), '(n k) -> n', 'mean', n=trained_epoch)"
   ]
  },
  {
   "cell_type": "code",
   "execution_count": 28,
   "id": "d787066e-1476-40c8-a96d-abf5129764b5",
   "metadata": {},
   "outputs": [
    {
     "data": {
      "text/plain": [
       "Text(0.5, 1.0, 'Test accuracy per 10 epochs')"
      ]
     },
     "execution_count": 28,
     "metadata": {},
     "output_type": "execute_result"
    },
    {
     "data": {
      "image/png": "[encoded data removed]",
      "text/plain": [
       "<Figure size 1200x300 with 3 Axes>"
      ]
     },
     "metadata": {},
     "output_type": "display_data"
    }
   ],
   "source": [
    "fig, axes = plt.subplots(1, 3, figsize=(12,3))\n",
    "axes[0].plot(train_losses, color=\"b\")\n",
    "axes[0].set_title(\"Average train loss per epoch\")\n",
    "axes[1].plot(trainer.val_accuracy, color=\"r\", linestyle=\"dashed\")\n",
    "axes[1].set_title(\"Val accuracy per epoch\")\n",
    "axes[2].plot(trainer.test_accuracy, color=\"r\")\n",
    "axes[2].set_title(\"Test accuracy per 10 epochs\")"
   ]
  },
  {
   "cell_type": "code",
   "execution_count": 29,
   "id": "386bc4d2-c130-47d8-b42a-46e84b330a76",
   "metadata": {},
   "outputs": [
    {
     "data": {
      "text/plain": [
       "Text(0.5, 1.0, 'Test accuracy per 10 epochs')"
      ]
     },
     "execution_count": 29,
     "metadata": {},
     "output_type": "execute_result"
    },
    {
     "data": {
      "image/png": "[encoded data removed]",
      "text/plain": [
       "<Figure size 1200x300 with 3 Axes>"
      ]
     },
     "metadata": {},
     "output_type": "display_data"
    }
   ],
   "source": [
    "fig, axes = plt.subplots(1, 3, figsize=(12,3))\n",
    "axes[0].plot(train_losses, color=\"b\")\n",
    "axes[0].set_title(\"Average train loss per epoch\")\n",
    "axes[1].plot(savgol_filter(trainer.val_accuracy, 10, 2), color=\"r\", linestyle=\"dashed\")\n",
    "axes[1].set_title(\"Val accuracy per epoch\")\n",
    "axes[2].plot(trainer.test_accuracy, color=\"r\")\n",
    "axes[2].set_title(\"Test accuracy per 10 epochs\")"
   ]
  },
  {
   "cell_type": "code",
   "execution_count": 30,
   "id": "46c7a026-446e-4866-b1a9-27b4d2aa30fc",
   "metadata": {},
   "outputs": [
    {
     "data": {
      "text/plain": [
       "Text(0.5, 1.0, 'Test accuracy per 10 epochs')"
      ]
     },
     "execution_count": 30,
     "metadata": {},
     "output_type": "execute_result"
    },
    {
     "data": {
      "image/png": "[encoded data removed]",
      "text/plain": [
       "<Figure size 1200x300 with 3 Axes>"
      ]
     },
     "metadata": {},
     "output_type": "display_data"
    }
   ],
   "source": [
    "fig, axes = plt.subplots(1, 3, figsize=(12,3))\n",
    "axes[0].plot(train_losses, color=\"b\")\n",
    "axes[0].set_title(\"Average train loss per epoch\")\n",
    "axes[1].plot(savgol_filter(trainer.val_accuracy, 10, 2), color=\"r\", linestyle=\"dashed\")\n",
    "axes[1].set_title(\"Val accuracy per epoch\")\n",
    "axes[2].plot(trainer.test_accuracy[:-1], color=\"r\")\n",
    "axes[2].set_title(\"Test accuracy per 10 epochs\")"
   ]
  },
  {
   "cell_type": "code",
   "execution_count": 31,
   "id": "33b9cdbe-efba-4774-9966-6a5d2b296efe",
   "metadata": {},
   "outputs": [],
   "source": [
    "train_log = {\n",
    "    'train_loss': torch.tensor(train_losses),\n",
    "    'val_acc': torch.tensor(trainer.val_accuracy),\n",
    "    'test_acc': torch.tensor(trainer.test_accuracy),\n",
    "    'test_confusion_matrix': cm,\n",
    "    'test_metrics': me,\n",
    "    'test_metrics_detail': med,\n",
    "    'best_model_path': trainer.best_test_model_path\n",
    "}\n",
    "torch.save(train_log, log_dir+\"train_metrics.pt\")\n",
    "loss_df.to_csv(log_dir+\"train_losses.csv\")"
   ]
  },
  {
   "cell_type": "markdown",
   "id": "d8e26562-8741-4d0e-8404-77bc403bf3b4",
   "metadata": {},
   "source": [
    "## run1"
   ]
  },
  {
   "cell_type": "code",
   "execution_count": 32,
   "id": "59a1cda8-51bd-4f24-9a22-ba9d428d2dbf",
   "metadata": {},
   "outputs": [],
   "source": [
    "log_dir = f'../{experiment_prefix}_models/{dataset_name}/run1/'\n",
    "trainer.log_dir = log_dir"
   ]
  },
  {
   "cell_type": "code",
   "execution_count": 33,
   "id": "c346117c-2530-4a9f-b6a6-44c0878be837",
   "metadata": {},
   "outputs": [
    {
     "name": "stdout",
     "output_type": "stream",
     "text": [
      "{'name': 'M19', 'description': 'FirConv with learnable windows', 'fe': {'n_block': 1, 'n_channel': [456], 'kernel_size': [511], 'stride': [2], 'window_k': [2], 'pooling': 'mean', 'filter_type': 'sinc', 'learnable_bands': False, 'learnable_windows': True, 'shared_window': False, 'window_func': 'hamming', 'mel_resolution': 3, 'conv_mode': 'conv', 'norm_type': 'LocalResponseNorm'}, 'cls': {'n_block': 1, 'n_hidden_dim': [512], 'norm_type': 'LayerNorm'}}\n"
     ]
    }
   ],
   "source": [
    "iconnet_config = ocf.load(iconnet_config_path)\n",
    "iconnet_config.fe.n_channel = [456]\n",
    "iconnet_config.fe.window_k = [2]\n",
    "iconnet_config.cls = {'n_block': 1, 'n_hidden_dim': [512,], 'norm_type': 'LayerNorm'}\n",
    "print(iconnet_config)"
   ]
  },
  {
   "cell_type": "code",
   "execution_count": 34,
   "id": "71a89aac-4406-48da-811e-e4a8fd281a77",
   "metadata": {},
   "outputs": [],
   "source": [
    "codebook_pretrained_path = f'../scb7_models/ravdess/codebook.step=10000.pt'\n",
    "model = SCB(\n",
    "    in_channels=in_channels,\n",
    "    out_channels=out_channels,\n",
    "    num_embeddings=num_embeddings, \n",
    "    embedding_dim=embedding_dim, \n",
    "    num_tokens=num_tokens,\n",
    "    num_classes=num_classes, \n",
    "    cls_dim=embedding_dim,\n",
    "    sample_rate=16000,\n",
    "    commitment_cost=commitment_cost,\n",
    "    distance_type='euclidean',\n",
    "    codebook_pretrained_path=codebook_pretrained_path,\n",
    "    freeze_codebook=True,\n",
    "    loss_type='signal_loss',\n",
    "    iconnet_config=iconnet_config,\n",
    ")"
   ]
  },
  {
   "cell_type": "code",
   "execution_count": 35,
   "id": "d88a8a5c-18ca-48e8-b062-c9de45a1d8ac",
   "metadata": {},
   "outputs": [],
   "source": [
    "trainer.setup(model=model, lr=learning_rate)"
   ]
  },
  {
   "cell_type": "code",
   "execution_count": 36,
   "id": "1f722a04-d896-47c1-9f64-9c7ac563b44a",
   "metadata": {
    "scrolled": true
   },
   "outputs": [
    {
     "name": "stderr",
     "output_type": "stream",
     "text": [
      "  0%|▍                                                                                  | 0.4927536231884051/100 [00:44<6:27:48, 233.83s/it]"
     ]
    },
    {
     "name": "stdout",
     "output_type": "stream",
     "text": [
      "Epoch: 1\tLoss: 1.214 [perplexity=0.000, loss_vq=0.000, loss_recon=0.000, loss_cls=1.214]\tVal_acc: 9/27 (33.33%)\n",
      "\n",
      "Saved new best val model: ../scb16_models/ravdess/run1/model.epoch=1.step=51.loss=1.214.val_acc=0.333.pt\n"
     ]
    },
    {
     "name": "stderr",
     "output_type": "stream",
     "text": [
      "  1%|█                                                                                    | 1.297101449275365/100 [01:42<1:23:56, 51.03s/it]"
     ]
    },
    {
     "name": "stdout",
     "output_type": "stream",
     "text": [
      "Correct: 61/135 (0.4519)\n",
      "Saved new best test model: ../scb16_models/ravdess/run1/model.epoch=1.step=100.test_acc=0.4519.pt\n",
      "{'acc_unweighted': tensor(0.3959, device='cuda:0'),\n",
      " 'acc_weighted': tensor(0.4519, device='cuda:0'),\n",
      " 'f1s_unweighted': tensor(0.2916, device='cuda:0'),\n",
      " 'f1s_weighted': tensor(0.3322, device='cuda:0'),\n",
      " 'rocauc': tensor(0.7871, device='cuda:0'),\n",
      " 'uar': tensor(0.3959, device='cuda:0'),\n",
      " 'wap': tensor(0.2668, device='cuda:0')}\n",
      "{'acc_detail': tensor([0.7632, 0.0000, 0.8205, 0.0000], device='cuda:0'),\n",
      " 'f1s_detail': tensor([0.6374, 0.0000, 0.5289, 0.0000], device='cuda:0'),\n",
      " 'precision_detail': tensor([0.5472, 0.0000, 0.3902, 0.0000], device='cuda:0'),\n",
      " 'recall_detail': tensor([0.7632, 0.0000, 0.8205, 0.0000], device='cuda:0'),\n",
      " 'rocauc_detail': tensor([0.8744, 0.7772, 0.7537, 0.7431], device='cuda:0')}\n",
      "tensor([[29,  0,  9,  0],\n",
      "        [ 0,  0, 19,  0],\n",
      "        [ 7,  0, 32,  0],\n",
      "        [17,  0, 22,  0]], device='cuda:0')\n"
     ]
    },
    {
     "name": "stderr",
     "output_type": "stream",
     "text": [
      "  2%|█▌                                                                                  | 1.789855072463773/100 [02:28<6:32:47, 239.97s/it]"
     ]
    },
    {
     "name": "stdout",
     "output_type": "stream",
     "text": [
      "Epoch: 2\tLoss: 1.256 [perplexity=0.000, loss_vq=0.000, loss_recon=0.000, loss_cls=1.256]\tVal_acc: 14/27 (51.85%)\n",
      "\n",
      "Saved new best val model: ../scb16_models/ravdess/run1/model.epoch=2.step=151.loss=1.256.val_acc=0.519.pt\n"
     ]
    },
    {
     "name": "stderr",
     "output_type": "stream",
     "text": [
      "  3%|██▎                                                                                | 2.7608695652174005/100 [03:55<6:34:38, 243.50s/it]"
     ]
    },
    {
     "name": "stdout",
     "output_type": "stream",
     "text": [
      "Epoch: 3\tLoss: 1.181 [perplexity=0.000, loss_vq=0.000, loss_recon=0.000, loss_cls=1.181]\tVal_acc: 13/27 (48.15%)\n",
      "\n"
     ]
    },
    {
     "name": "stderr",
     "output_type": "stream",
     "text": [
      "  4%|███▏                                                                                | 3.731884057971028/100 [05:22<6:30:13, 243.21s/it]"
     ]
    },
    {
     "name": "stdout",
     "output_type": "stream",
     "text": [
      "Epoch: 4\tLoss: 1.078 [perplexity=0.000, loss_vq=0.000, loss_recon=0.000, loss_cls=1.078]\tVal_acc: 12/27 (44.44%)\n",
      "\n"
     ]
    },
    {
     "name": "stderr",
     "output_type": "stream",
     "text": [
      "  5%|███▉                                                                                | 4.702898550724612/100 [06:50<6:26:26, 243.31s/it]"
     ]
    },
    {
     "name": "stdout",
     "output_type": "stream",
     "text": [
      "Epoch: 5\tLoss: 0.520 [perplexity=0.000, loss_vq=0.000, loss_recon=0.000, loss_cls=0.520]\tVal_acc: 14/27 (51.85%)\n",
      "\n"
     ]
    },
    {
     "name": "stderr",
     "output_type": "stream",
     "text": [
      "  6%|████▊                                                                                | 5.67391304347818/100 [08:16<6:16:33, 239.52s/it]"
     ]
    },
    {
     "name": "stdout",
     "output_type": "stream",
     "text": [
      "Epoch: 6\tLoss: 1.418 [perplexity=0.000, loss_vq=0.000, loss_recon=0.000, loss_cls=1.418]\tVal_acc: 14/27 (51.85%)\n",
      "\n"
     ]
    },
    {
     "name": "stderr",
     "output_type": "stream",
     "text": [
      "  7%|█████▌                                                                              | 6.644927536231748/100 [09:43<6:15:45, 241.51s/it]"
     ]
    },
    {
     "name": "stdout",
     "output_type": "stream",
     "text": [
      "Epoch: 7\tLoss: 1.230 [perplexity=0.000, loss_vq=0.000, loss_recon=0.000, loss_cls=1.230]\tVal_acc: 15/27 (55.56%)\n",
      "\n",
      "Saved new best val model: ../scb16_models/ravdess/run1/model.epoch=7.step=651.loss=1.230.val_acc=0.556.pt\n"
     ]
    },
    {
     "name": "stderr",
     "output_type": "stream",
     "text": [
      "  8%|██████▍                                                                             | 7.615942028985316/100 [11:10<6:19:32, 246.49s/it]"
     ]
    },
    {
     "name": "stdout",
     "output_type": "stream",
     "text": [
      "Epoch: 8\tLoss: 0.607 [perplexity=0.000, loss_vq=0.000, loss_recon=0.000, loss_cls=0.607]\tVal_acc: 12/27 (44.44%)\n",
      "\n"
     ]
    },
    {
     "name": "stderr",
     "output_type": "stream",
     "text": [
      "  9%|███████▏                                                                            | 8.586956521738884/100 [12:38<6:08:23, 241.80s/it]"
     ]
    },
    {
     "name": "stdout",
     "output_type": "stream",
     "text": [
      "Epoch: 9\tLoss: 0.857 [perplexity=0.000, loss_vq=0.000, loss_recon=0.000, loss_cls=0.857]\tVal_acc: 13/27 (48.15%)\n",
      "\n"
     ]
    },
    {
     "name": "stderr",
     "output_type": "stream",
     "text": [
      " 10%|████████                                                                            | 9.557971014492452/100 [14:06<6:01:11, 239.62s/it]"
     ]
    },
    {
     "name": "stdout",
     "output_type": "stream",
     "text": [
      "Epoch: 10\tLoss: 1.372 [perplexity=0.000, loss_vq=0.000, loss_recon=0.000, loss_cls=1.372]\tVal_acc: 14/27 (51.85%)\n",
      "\n"
     ]
    },
    {
     "name": "stderr",
     "output_type": "stream",
     "text": [
      " 11%|████████▊                                                                           | 10.52898550724602/100 [15:33<5:56:44, 239.23s/it]"
     ]
    },
    {
     "name": "stdout",
     "output_type": "stream",
     "text": [
      "Epoch: 11\tLoss: 1.713 [perplexity=0.000, loss_vq=0.000, loss_recon=0.000, loss_cls=1.713]\tVal_acc: 13/27 (48.15%)\n",
      "\n"
     ]
    },
    {
     "name": "stderr",
     "output_type": "stream",
     "text": [
      " 11%|█████████▋                                                                           | 11.33333333333293/100 [16:31<1:15:30, 51.10s/it]"
     ]
    },
    {
     "name": "stdout",
     "output_type": "stream",
     "text": [
      "Correct: 70/135 (0.5185)\n",
      "Saved new best test model: ../scb16_models/ravdess/run1/model.epoch=11.step=1100.test_acc=0.5185.pt\n",
      "{'acc_unweighted': tensor(0.4585, device='cuda:0'),\n",
      " 'acc_weighted': tensor(0.5185, device='cuda:0'),\n",
      " 'f1s_unweighted': tensor(0.4414, device='cuda:0'),\n",
      " 'f1s_weighted': tensor(0.4933, device='cuda:0'),\n",
      " 'rocauc': tensor(0.8405, device='cuda:0'),\n",
      " 'uar': tensor(0.4585, device='cuda:0'),\n",
      " 'wap': tensor(0.5365, device='cuda:0')}\n",
      "{'acc_detail': tensor([0.4737, 0.0526, 0.4872, 0.8205], device='cuda:0'),\n",
      " 'f1s_detail': tensor([0.5902, 0.0833, 0.5205, 0.5714], device='cuda:0'),\n",
      " 'precision_detail': tensor([0.7826, 0.2000, 0.5588, 0.4384], device='cuda:0'),\n",
      " 'recall_detail': tensor([0.4737, 0.0526, 0.4872, 0.8205], device='cuda:0'),\n",
      " 'rocauc_detail': tensor([0.9075, 0.8607, 0.8013, 0.7925], device='cuda:0')}\n",
      "tensor([[18,  0,  2, 18],\n",
      "        [ 0,  1,  9,  9],\n",
      "        [ 4,  2, 19, 14],\n",
      "        [ 1,  2,  4, 32]], device='cuda:0')\n"
     ]
    },
    {
     "name": "stderr",
     "output_type": "stream",
     "text": [
      " 12%|█████████▊                                                                         | 11.826086956521308/100 [17:17<5:55:01, 241.59s/it]"
     ]
    },
    {
     "name": "stdout",
     "output_type": "stream",
     "text": [
      "Epoch: 12\tLoss: 0.184 [perplexity=0.000, loss_vq=0.000, loss_recon=0.000, loss_cls=0.184]\tVal_acc: 13/27 (48.15%)\n",
      "\n"
     ]
    },
    {
     "name": "stderr",
     "output_type": "stream",
     "text": [
      " 13%|██████████▌                                                                        | 12.797101449274876/100 [18:45<5:50:30, 241.17s/it]"
     ]
    },
    {
     "name": "stdout",
     "output_type": "stream",
     "text": [
      "Epoch: 13\tLoss: 0.704 [perplexity=0.000, loss_vq=0.000, loss_recon=0.000, loss_cls=0.704]\tVal_acc: 12/27 (44.44%)\n",
      "\n"
     ]
    },
    {
     "name": "stderr",
     "output_type": "stream",
     "text": [
      " 14%|███████████▍                                                                       | 13.768115942028444/100 [20:12<5:47:59, 242.13s/it]"
     ]
    },
    {
     "name": "stdout",
     "output_type": "stream",
     "text": [
      "Epoch: 14\tLoss: 0.611 [perplexity=0.000, loss_vq=0.000, loss_recon=0.000, loss_cls=0.611]\tVal_acc: 15/27 (55.56%)\n",
      "\n"
     ]
    },
    {
     "name": "stderr",
     "output_type": "stream",
     "text": [
      " 15%|████████████▏                                                                      | 14.739130434782012/100 [21:39<5:46:42, 243.99s/it]"
     ]
    },
    {
     "name": "stdout",
     "output_type": "stream",
     "text": [
      "Epoch: 15\tLoss: 0.266 [perplexity=0.000, loss_vq=0.000, loss_recon=0.000, loss_cls=0.266]\tVal_acc: 13/27 (48.15%)\n",
      "\n"
     ]
    },
    {
     "name": "stderr",
     "output_type": "stream",
     "text": [
      " 16%|█████████████▏                                                                      | 15.71014492753558/100 [23:07<5:38:26, 240.91s/it]"
     ]
    },
    {
     "name": "stdout",
     "output_type": "stream",
     "text": [
      "Epoch: 16\tLoss: 0.382 [perplexity=0.000, loss_vq=0.000, loss_recon=0.000, loss_cls=0.382]\tVal_acc: 13/27 (48.15%)\n",
      "\n"
     ]
    },
    {
     "name": "stderr",
     "output_type": "stream",
     "text": [
      " 17%|██████████████                                                                      | 16.68115942028915/100 [24:34<5:33:42, 240.31s/it]"
     ]
    },
    {
     "name": "stdout",
     "output_type": "stream",
     "text": [
      "Epoch: 17\tLoss: 0.387 [perplexity=0.000, loss_vq=0.000, loss_recon=0.000, loss_cls=0.387]\tVal_acc: 14/27 (51.85%)\n",
      "\n"
     ]
    },
    {
     "name": "stderr",
     "output_type": "stream",
     "text": [
      " 18%|██████████████▋                                                                    | 17.652173913042716/100 [26:02<5:31:08, 241.27s/it]"
     ]
    },
    {
     "name": "stdout",
     "output_type": "stream",
     "text": [
      "Epoch: 18\tLoss: 0.767 [perplexity=0.000, loss_vq=0.000, loss_recon=0.000, loss_cls=0.767]\tVal_acc: 13/27 (48.15%)\n",
      "\n"
     ]
    },
    {
     "name": "stderr",
     "output_type": "stream",
     "text": [
      " 19%|███████████████▍                                                                   | 18.623188405796284/100 [27:29<5:30:29, 243.67s/it]"
     ]
    },
    {
     "name": "stdout",
     "output_type": "stream",
     "text": [
      "Epoch: 19\tLoss: 0.221 [perplexity=0.000, loss_vq=0.000, loss_recon=0.000, loss_cls=0.221]\tVal_acc: 15/27 (55.56%)\n",
      "\n"
     ]
    },
    {
     "name": "stderr",
     "output_type": "stream",
     "text": [
      " 20%|████████████████▎                                                                  | 19.594202898549852/100 [28:57<5:23:22, 241.31s/it]"
     ]
    },
    {
     "name": "stdout",
     "output_type": "stream",
     "text": [
      "Epoch: 20\tLoss: 0.322 [perplexity=0.000, loss_vq=0.000, loss_recon=0.000, loss_cls=0.322]\tVal_acc: 13/27 (48.15%)\n",
      "\n"
     ]
    },
    {
     "name": "stderr",
     "output_type": "stream",
     "text": [
      " 21%|█████████████████▎                                                                  | 20.56521739130342/100 [30:23<5:13:34, 236.86s/it]"
     ]
    },
    {
     "name": "stdout",
     "output_type": "stream",
     "text": [
      "Epoch: 21\tLoss: 0.091 [perplexity=0.000, loss_vq=0.000, loss_recon=0.000, loss_cls=0.091]\tVal_acc: 15/27 (55.56%)\n",
      "\n"
     ]
    },
    {
     "name": "stderr",
     "output_type": "stream",
     "text": [
      " 21%|██████████████████▏                                                                  | 21.36956521739033/100 [31:21<1:07:17, 51.35s/it]"
     ]
    },
    {
     "name": "stdout",
     "output_type": "stream",
     "text": [
      "Correct: 80/135 (0.5926)\n",
      "Saved new best test model: ../scb16_models/ravdess/run1/model.epoch=21.step=2100.test_acc=0.5926.pt\n",
      "{'acc_unweighted': tensor(0.5982, device='cuda:0'),\n",
      " 'acc_weighted': tensor(0.5926, device='cuda:0'),\n",
      " 'f1s_unweighted': tensor(0.5879, device='cuda:0'),\n",
      " 'f1s_weighted': tensor(0.5997, device='cuda:0'),\n",
      " 'rocauc': tensor(0.8541, device='cuda:0'),\n",
      " 'uar': tensor(0.5982, device='cuda:0'),\n",
      " 'wap': tensor(0.6467, device='cuda:0')}\n",
      "{'acc_detail': tensor([0.6842, 0.6316, 0.6410, 0.4359], device='cuda:0'),\n",
      " 'f1s_detail': tensor([0.7536, 0.5000, 0.5495, 0.5484], device='cuda:0'),\n",
      " 'precision_detail': tensor([0.8387, 0.4138, 0.4808, 0.7391], device='cuda:0'),\n",
      " 'recall_detail': tensor([0.6842, 0.6316, 0.6410, 0.4359], device='cuda:0'),\n",
      " 'rocauc_detail': tensor([0.9467, 0.8684, 0.8056, 0.7957], device='cuda:0')}\n",
      "tensor([[26,  0, 10,  2],\n",
      "        [ 0, 12,  5,  2],\n",
      "        [ 2, 10, 25,  2],\n",
      "        [ 3,  7, 12, 17]], device='cuda:0')\n"
     ]
    },
    {
     "name": "stderr",
     "output_type": "stream",
     "text": [
      " 22%|██████████████████▎                                                                 | 21.86231884057871/100 [32:08<5:13:14, 240.53s/it]"
     ]
    },
    {
     "name": "stdout",
     "output_type": "stream",
     "text": [
      "Epoch: 22\tLoss: 0.024 [perplexity=0.000, loss_vq=0.000, loss_recon=0.000, loss_cls=0.024]\tVal_acc: 16/27 (59.26%)\n",
      "\n",
      "Saved new best val model: ../scb16_models/ravdess/run1/model.epoch=22.step=2151.loss=0.024.val_acc=0.593.pt\n"
     ]
    },
    {
     "name": "stderr",
     "output_type": "stream",
     "text": [
      " 23%|██████████████████▉                                                                | 22.833333333332277/100 [33:35<5:11:41, 242.35s/it]"
     ]
    },
    {
     "name": "stdout",
     "output_type": "stream",
     "text": [
      "Epoch: 23\tLoss: 0.002 [perplexity=0.000, loss_vq=0.000, loss_recon=0.000, loss_cls=0.002]\tVal_acc: 16/27 (59.26%)\n",
      "\n"
     ]
    },
    {
     "name": "stderr",
     "output_type": "stream",
     "text": [
      " 24%|███████████████████▊                                                               | 23.804347826085845/100 [35:02<5:09:06, 243.40s/it]"
     ]
    },
    {
     "name": "stdout",
     "output_type": "stream",
     "text": [
      "Epoch: 24\tLoss: 0.002 [perplexity=0.000, loss_vq=0.000, loss_recon=0.000, loss_cls=0.002]\tVal_acc: 15/27 (55.56%)\n",
      "\n"
     ]
    },
    {
     "name": "stderr",
     "output_type": "stream",
     "text": [
      " 25%|████████████████████▌                                                              | 24.775362318839413/100 [36:29<5:03:49, 242.34s/it]"
     ]
    },
    {
     "name": "stdout",
     "output_type": "stream",
     "text": [
      "Epoch: 25\tLoss: 0.038 [perplexity=0.000, loss_vq=0.000, loss_recon=0.000, loss_cls=0.038]\tVal_acc: 14/27 (51.85%)\n",
      "\n"
     ]
    },
    {
     "name": "stderr",
     "output_type": "stream",
     "text": [
      " 26%|█████████████████████▋                                                              | 25.74637681159298/100 [37:57<4:56:24, 239.51s/it]"
     ]
    },
    {
     "name": "stdout",
     "output_type": "stream",
     "text": [
      "Epoch: 26\tLoss: 0.008 [perplexity=0.000, loss_vq=0.000, loss_recon=0.000, loss_cls=0.008]\tVal_acc: 15/27 (55.56%)\n",
      "\n"
     ]
    },
    {
     "name": "stderr",
     "output_type": "stream",
     "text": [
      " 27%|██████████████████████▍                                                             | 26.71739130434655/100 [39:24<4:54:40, 241.27s/it]"
     ]
    },
    {
     "name": "stdout",
     "output_type": "stream",
     "text": [
      "Epoch: 27\tLoss: 0.000 [perplexity=0.000, loss_vq=0.000, loss_recon=0.000, loss_cls=0.000]\tVal_acc: 15/27 (55.56%)\n",
      "\n"
     ]
    },
    {
     "name": "stderr",
     "output_type": "stream",
     "text": [
      " 28%|██████████████████████▉                                                            | 27.688405797100117/100 [40:52<4:51:50, 242.16s/it]"
     ]
    },
    {
     "name": "stdout",
     "output_type": "stream",
     "text": [
      "Epoch: 28\tLoss: 0.001 [perplexity=0.000, loss_vq=0.000, loss_recon=0.000, loss_cls=0.001]\tVal_acc: 14/27 (51.85%)\n",
      "\n"
     ]
    },
    {
     "name": "stderr",
     "output_type": "stream",
     "text": [
      " 29%|███████████████████████▊                                                           | 28.659420289853685/100 [42:19<4:42:21, 237.48s/it]"
     ]
    },
    {
     "name": "stdout",
     "output_type": "stream",
     "text": [
      "Epoch: 29\tLoss: 0.000 [perplexity=0.000, loss_vq=0.000, loss_recon=0.000, loss_cls=0.000]\tVal_acc: 16/27 (59.26%)\n",
      "\n"
     ]
    },
    {
     "name": "stderr",
     "output_type": "stream",
     "text": [
      " 30%|████████████████████████▌                                                          | 29.630434782607253/100 [43:45<4:44:41, 242.74s/it]"
     ]
    },
    {
     "name": "stdout",
     "output_type": "stream",
     "text": [
      "Epoch: 30\tLoss: 0.000 [perplexity=0.000, loss_vq=0.000, loss_recon=0.000, loss_cls=0.000]\tVal_acc: 15/27 (55.56%)\n",
      "\n"
     ]
    },
    {
     "name": "stderr",
     "output_type": "stream",
     "text": [
      " 31%|█████████████████████████▋                                                          | 30.60144927536082/100 [45:13<4:40:09, 242.21s/it]"
     ]
    },
    {
     "name": "stdout",
     "output_type": "stream",
     "text": [
      "Epoch: 31\tLoss: 0.000 [perplexity=0.000, loss_vq=0.000, loss_recon=0.000, loss_cls=0.000]\tVal_acc: 15/27 (55.56%)\n",
      "\n"
     ]
    },
    {
     "name": "stderr",
     "output_type": "stream",
     "text": [
      " 31%|███████████████████████████▎                                                           | 31.40579710144773/100 [46:11<58:13, 50.93s/it]"
     ]
    },
    {
     "name": "stdout",
     "output_type": "stream",
     "text": [
      "Correct: 84/135 (0.6222)\n",
      "Saved new best test model: ../scb16_models/ravdess/run1/model.epoch=31.step=3100.test_acc=0.6222.pt\n",
      "{'acc_unweighted': tensor(0.6311, device='cuda:0'),\n",
      " 'acc_weighted': tensor(0.6222, device='cuda:0'),\n",
      " 'f1s_unweighted': tensor(0.6142, device='cuda:0'),\n",
      " 'f1s_weighted': tensor(0.6253, device='cuda:0'),\n",
      " 'rocauc': tensor(0.8584, device='cuda:0'),\n",
      " 'uar': tensor(0.6311, device='cuda:0'),\n",
      " 'wap': tensor(0.6401, device='cuda:0')}\n",
      "{'acc_detail': tensor([0.7632, 0.6842, 0.5128, 0.5641], device='cuda:0'),\n",
      " 'f1s_detail': tensor([0.7838, 0.5306, 0.5634, 0.5789], device='cuda:0'),\n",
      " 'precision_detail': tensor([0.8056, 0.4333, 0.6250, 0.5946], device='cuda:0'),\n",
      " 'recall_detail': tensor([0.7632, 0.6842, 0.5128, 0.5641], device='cuda:0'),\n",
      " 'rocauc_detail': tensor([0.9517, 0.8816, 0.8240, 0.7764], device='cuda:0')}\n",
      "tensor([[29,  0,  3,  6],\n",
      "        [ 0, 13,  2,  4],\n",
      "        [ 3, 11, 20,  5],\n",
      "        [ 4,  6,  7, 22]], device='cuda:0')\n"
     ]
    },
    {
     "name": "stderr",
     "output_type": "stream",
     "text": [
      " 32%|██████████████████████████▊                                                         | 31.89855072463611/100 [46:57<4:34:31, 241.86s/it]"
     ]
    },
    {
     "name": "stdout",
     "output_type": "stream",
     "text": [
      "Epoch: 32\tLoss: 0.001 [perplexity=0.000, loss_vq=0.000, loss_recon=0.000, loss_cls=0.001]\tVal_acc: 15/27 (55.56%)\n",
      "\n"
     ]
    },
    {
     "name": "stderr",
     "output_type": "stream",
     "text": [
      " 33%|███████████████████████████▌                                                        | 32.86956521738968/100 [48:25<4:33:12, 244.19s/it]"
     ]
    },
    {
     "name": "stdout",
     "output_type": "stream",
     "text": [
      "Epoch: 33\tLoss: 0.000 [perplexity=0.000, loss_vq=0.000, loss_recon=0.000, loss_cls=0.000]\tVal_acc: 16/27 (59.26%)\n",
      "\n"
     ]
    },
    {
     "name": "stderr",
     "output_type": "stream",
     "text": [
      " 34%|████████████████████████████                                                       | 33.840579710143246/100 [49:52<4:27:53, 242.95s/it]"
     ]
    },
    {
     "name": "stdout",
     "output_type": "stream",
     "text": [
      "Epoch: 34\tLoss: 0.000 [perplexity=0.000, loss_vq=0.000, loss_recon=0.000, loss_cls=0.000]\tVal_acc: 15/27 (55.56%)\n",
      "\n"
     ]
    },
    {
     "name": "stderr",
     "output_type": "stream",
     "text": [
      " 35%|█████████████████████████████▏                                                      | 34.81159420289681/100 [51:19<4:23:20, 242.38s/it]"
     ]
    },
    {
     "name": "stdout",
     "output_type": "stream",
     "text": [
      "Epoch: 35\tLoss: 0.000 [perplexity=0.000, loss_vq=0.000, loss_recon=0.000, loss_cls=0.000]\tVal_acc: 15/27 (55.56%)\n",
      "\n"
     ]
    },
    {
     "name": "stderr",
     "output_type": "stream",
     "text": [
      " 36%|██████████████████████████████                                                      | 35.78260869565038/100 [52:47<4:28:50, 251.18s/it]"
     ]
    },
    {
     "name": "stdout",
     "output_type": "stream",
     "text": [
      "Epoch: 36\tLoss: 0.000 [perplexity=0.000, loss_vq=0.000, loss_recon=0.000, loss_cls=0.000]\tVal_acc: 15/27 (55.56%)\n",
      "\n"
     ]
    },
    {
     "name": "stderr",
     "output_type": "stream",
     "text": [
      " 37%|██████████████████████████████▊                                                     | 36.75362318840395/100 [54:16<4:20:19, 246.96s/it]"
     ]
    },
    {
     "name": "stdout",
     "output_type": "stream",
     "text": [
      "Epoch: 37\tLoss: 0.001 [perplexity=0.000, loss_vq=0.000, loss_recon=0.000, loss_cls=0.001]\tVal_acc: 15/27 (55.56%)\n",
      "\n"
     ]
    },
    {
     "name": "stderr",
     "output_type": "stream",
     "text": [
      " 38%|███████████████████████████████▋                                                    | 37.72463768115752/100 [55:45<4:11:45, 242.57s/it]"
     ]
    },
    {
     "name": "stdout",
     "output_type": "stream",
     "text": [
      "Epoch: 38\tLoss: 0.000 [perplexity=0.000, loss_vq=0.000, loss_recon=0.000, loss_cls=0.000]\tVal_acc: 15/27 (55.56%)\n",
      "\n"
     ]
    },
    {
     "name": "stderr",
     "output_type": "stream",
     "text": [
      " 39%|████████████████████████████████                                                   | 38.695652173911085/100 [57:14<4:09:13, 243.92s/it]"
     ]
    },
    {
     "name": "stdout",
     "output_type": "stream",
     "text": [
      "Epoch: 39\tLoss: 0.000 [perplexity=0.000, loss_vq=0.000, loss_recon=0.000, loss_cls=0.000]\tVal_acc: 16/27 (59.26%)\n",
      "\n"
     ]
    },
    {
     "name": "stderr",
     "output_type": "stream",
     "text": [
      " 40%|█████████████████████████████████▎                                                  | 39.66666666666465/100 [58:43<4:05:08, 243.78s/it]"
     ]
    },
    {
     "name": "stdout",
     "output_type": "stream",
     "text": [
      "Epoch: 40\tLoss: 0.000 [perplexity=0.000, loss_vq=0.000, loss_recon=0.000, loss_cls=0.000]\tVal_acc: 15/27 (55.56%)\n",
      "\n"
     ]
    },
    {
     "name": "stderr",
     "output_type": "stream",
     "text": [
      " 41%|█████████████████████████████████▎                                                | 40.63768115941822/100 [1:00:12<4:03:23, 246.01s/it]"
     ]
    },
    {
     "name": "stdout",
     "output_type": "stream",
     "text": [
      "Epoch: 41\tLoss: 0.000 [perplexity=0.000, loss_vq=0.000, loss_recon=0.000, loss_cls=0.000]\tVal_acc: 15/27 (55.56%)\n",
      "\n"
     ]
    },
    {
     "name": "stderr",
     "output_type": "stream",
     "text": [
      " 41%|███████████████████████████████████▏                                                 | 41.44202898550513/100 [1:01:11<50:27, 51.69s/it]"
     ]
    },
    {
     "name": "stdout",
     "output_type": "stream",
     "text": [
      "Correct: 84/135 (0.6222)\n",
      "{'acc_unweighted': tensor(0.6311, device='cuda:0'),\n",
      " 'acc_weighted': tensor(0.6222, device='cuda:0'),\n",
      " 'f1s_unweighted': tensor(0.6142, device='cuda:0'),\n",
      " 'f1s_weighted': tensor(0.6268, device='cuda:0'),\n",
      " 'rocauc': tensor(0.8550, device='cuda:0'),\n",
      " 'uar': tensor(0.6311, device='cuda:0'),\n",
      " 'wap': tensor(0.6446, device='cuda:0')}\n",
      "{'acc_detail': tensor([0.7632, 0.6842, 0.5128, 0.5641], device='cuda:0'),\n",
      " 'f1s_detail': tensor([0.7945, 0.5200, 0.5634, 0.5789], device='cuda:0'),\n",
      " 'precision_detail': tensor([0.8286, 0.4194, 0.6250, 0.5946], device='cuda:0'),\n",
      " 'recall_detail': tensor([0.7632, 0.6842, 0.5128, 0.5641], device='cuda:0'),\n",
      " 'rocauc_detail': tensor([0.9523, 0.8800, 0.8138, 0.7738], device='cuda:0')}\n",
      "tensor([[29,  0,  3,  6],\n",
      "        [ 0, 13,  2,  4],\n",
      "        [ 3, 11, 20,  5],\n",
      "        [ 3,  7,  7, 22]], device='cuda:0')\n"
     ]
    },
    {
     "name": "stderr",
     "output_type": "stream",
     "text": [
      " 42%|██████████████████████████████████▍                                               | 41.93478260869351/100 [1:01:59<3:56:32, 244.42s/it]"
     ]
    },
    {
     "name": "stdout",
     "output_type": "stream",
     "text": [
      "Epoch: 42\tLoss: 0.000 [perplexity=0.000, loss_vq=0.000, loss_recon=0.000, loss_cls=0.000]\tVal_acc: 15/27 (55.56%)\n",
      "\n"
     ]
    },
    {
     "name": "stderr",
     "output_type": "stream",
     "text": [
      " 43%|███████████████████████████████████▏                                              | 42.90579710144708/100 [1:03:27<3:54:50, 246.79s/it]"
     ]
    },
    {
     "name": "stdout",
     "output_type": "stream",
     "text": [
      "Epoch: 43\tLoss: 0.000 [perplexity=0.000, loss_vq=0.000, loss_recon=0.000, loss_cls=0.000]\tVal_acc: 15/27 (55.56%)\n",
      "\n"
     ]
    },
    {
     "name": "stderr",
     "output_type": "stream",
     "text": [
      " 44%|███████████████████████████████████▌                                             | 43.876811594200646/100 [1:04:57<3:49:46, 245.64s/it]"
     ]
    },
    {
     "name": "stdout",
     "output_type": "stream",
     "text": [
      "Epoch: 44\tLoss: 0.000 [perplexity=0.000, loss_vq=0.000, loss_recon=0.000, loss_cls=0.000]\tVal_acc: 15/27 (55.56%)\n",
      "\n"
     ]
    },
    {
     "name": "stderr",
     "output_type": "stream",
     "text": [
      " 45%|████████████████████████████████████▎                                            | 44.847826086954214/100 [1:06:26<3:44:40, 244.42s/it]"
     ]
    },
    {
     "name": "stdout",
     "output_type": "stream",
     "text": [
      "Epoch: 45\tLoss: 0.000 [perplexity=0.000, loss_vq=0.000, loss_recon=0.000, loss_cls=0.000]\tVal_acc: 15/27 (55.56%)\n",
      "\n"
     ]
    },
    {
     "name": "stderr",
     "output_type": "stream",
     "text": [
      " 46%|█████████████████████████████████████▌                                            | 45.81884057970778/100 [1:07:54<3:36:53, 240.18s/it]"
     ]
    },
    {
     "name": "stdout",
     "output_type": "stream",
     "text": [
      "Epoch: 46\tLoss: 0.000 [perplexity=0.000, loss_vq=0.000, loss_recon=0.000, loss_cls=0.000]\tVal_acc: 15/27 (55.56%)\n",
      "\n"
     ]
    },
    {
     "name": "stderr",
     "output_type": "stream",
     "text": [
      " 47%|██████████████████████████████████████▎                                           | 46.78985507246135/100 [1:09:22<3:33:36, 240.86s/it]"
     ]
    },
    {
     "name": "stdout",
     "output_type": "stream",
     "text": [
      "Epoch: 47\tLoss: 0.002 [perplexity=0.000, loss_vq=0.000, loss_recon=0.000, loss_cls=0.002]\tVal_acc: 16/27 (59.26%)\n",
      "\n"
     ]
    },
    {
     "name": "stderr",
     "output_type": "stream",
     "text": [
      " 48%|███████████████████████████████████████▏                                          | 47.76086956521492/100 [1:10:49<3:28:31, 239.49s/it]"
     ]
    },
    {
     "name": "stdout",
     "output_type": "stream",
     "text": [
      "Epoch: 48\tLoss: 1.242 [perplexity=0.000, loss_vq=0.000, loss_recon=0.000, loss_cls=1.242]\tVal_acc: 13/27 (48.15%)\n",
      "\n"
     ]
    },
    {
     "name": "stderr",
     "output_type": "stream",
     "text": [
      " 49%|███████████████████████████████████████▍                                         | 48.731884057968486/100 [1:12:16<3:27:51, 243.26s/it]"
     ]
    },
    {
     "name": "stdout",
     "output_type": "stream",
     "text": [
      "Epoch: 49\tLoss: 0.022 [perplexity=0.000, loss_vq=0.000, loss_recon=0.000, loss_cls=0.022]\tVal_acc: 19/27 (70.37%)\n",
      "\n",
      "Saved new best val model: ../scb16_models/ravdess/run1/model.epoch=49.step=4851.loss=0.022.val_acc=0.704.pt\n"
     ]
    },
    {
     "name": "stderr",
     "output_type": "stream",
     "text": [
      " 50%|████████████████████████████████████████▎                                        | 49.702898550722054/100 [1:13:43<3:20:10, 238.79s/it]"
     ]
    },
    {
     "name": "stdout",
     "output_type": "stream",
     "text": [
      "Epoch: 50\tLoss: 0.089 [perplexity=0.000, loss_vq=0.000, loss_recon=0.000, loss_cls=0.089]\tVal_acc: 19/27 (70.37%)\n",
      "\n"
     ]
    },
    {
     "name": "stderr",
     "output_type": "stream",
     "text": [
      " 51%|█████████████████████████████████████████▌                                        | 50.67391304347562/100 [1:15:11<3:20:30, 243.89s/it]"
     ]
    },
    {
     "name": "stdout",
     "output_type": "stream",
     "text": [
      "Epoch: 51\tLoss: 0.000 [perplexity=0.000, loss_vq=0.000, loss_recon=0.000, loss_cls=0.000]\tVal_acc: 15/27 (55.56%)\n",
      "\n"
     ]
    },
    {
     "name": "stderr",
     "output_type": "stream",
     "text": [
      " 51%|███████████████████████████████████████████▊                                         | 51.47826086956253/100 [1:16:09<41:09, 50.90s/it]"
     ]
    },
    {
     "name": "stdout",
     "output_type": "stream",
     "text": [
      "Correct: 84/135 (0.6222)\n",
      "{'acc_unweighted': tensor(0.6036, device='cuda:0'),\n",
      " 'acc_weighted': tensor(0.6222, device='cuda:0'),\n",
      " 'f1s_unweighted': tensor(0.6030, device='cuda:0'),\n",
      " 'f1s_weighted': tensor(0.6292, device='cuda:0'),\n",
      " 'rocauc': tensor(0.8597, device='cuda:0'),\n",
      " 'uar': tensor(0.6036, device='cuda:0'),\n",
      " 'wap': tensor(0.6441, device='cuda:0')}\n",
      "{'acc_detail': tensor([0.6842, 0.4737, 0.6667, 0.5897], device='cuda:0'),\n",
      " 'f1s_detail': tensor([0.7536, 0.4186, 0.6265, 0.6133], device='cuda:0'),\n",
      " 'precision_detail': tensor([0.8387, 0.3750, 0.5909, 0.6389], device='cuda:0'),\n",
      " 'recall_detail': tensor([0.6842, 0.4737, 0.6667, 0.5897], device='cuda:0'),\n",
      " 'rocauc_detail': tensor([0.9495, 0.8816, 0.8431, 0.7647], device='cuda:0')}\n",
      "tensor([[26,  0,  4,  8],\n",
      "        [ 0,  9,  6,  4],\n",
      "        [ 2, 10, 26,  1],\n",
      "        [ 3,  5,  8, 23]], device='cuda:0')\n"
     ]
    },
    {
     "name": "stderr",
     "output_type": "stream",
     "text": [
      " 52%|██████████████████████████████████████████▌                                       | 51.97101449275091/100 [1:16:55<3:12:38, 240.65s/it]"
     ]
    },
    {
     "name": "stdout",
     "output_type": "stream",
     "text": [
      "Epoch: 52\tLoss: 0.001 [perplexity=0.000, loss_vq=0.000, loss_recon=0.000, loss_cls=0.001]\tVal_acc: 14/27 (51.85%)\n",
      "\n"
     ]
    },
    {
     "name": "stderr",
     "output_type": "stream",
     "text": [
      " 53%|███████████████████████████████████████████▍                                      | 52.94202898550448/100 [1:18:22<3:09:06, 241.13s/it]"
     ]
    },
    {
     "name": "stdout",
     "output_type": "stream",
     "text": [
      "Epoch: 53\tLoss: 0.017 [perplexity=0.000, loss_vq=0.000, loss_recon=0.000, loss_cls=0.017]\tVal_acc: 15/27 (55.56%)\n",
      "\n"
     ]
    },
    {
     "name": "stderr",
     "output_type": "stream",
     "text": [
      " 54%|████████████████████████████████████████████▏                                     | 53.91304347825805/100 [1:19:49<3:06:55, 243.36s/it]"
     ]
    },
    {
     "name": "stdout",
     "output_type": "stream",
     "text": [
      "Epoch: 54\tLoss: 0.000 [perplexity=0.000, loss_vq=0.000, loss_recon=0.000, loss_cls=0.000]\tVal_acc: 18/27 (66.67%)\n",
      "\n"
     ]
    },
    {
     "name": "stderr",
     "output_type": "stream",
     "text": [
      " 55%|████████████████████████████████████████████▍                                    | 54.884057971011615/100 [1:21:17<3:00:26, 239.98s/it]"
     ]
    },
    {
     "name": "stdout",
     "output_type": "stream",
     "text": [
      "Epoch: 55\tLoss: 0.000 [perplexity=0.000, loss_vq=0.000, loss_recon=0.000, loss_cls=0.000]\tVal_acc: 16/27 (59.26%)\n",
      "\n"
     ]
    },
    {
     "name": "stderr",
     "output_type": "stream",
     "text": [
      " 56%|█████████████████████████████████████████████▊                                    | 55.85507246376518/100 [1:22:44<2:56:22, 239.73s/it]"
     ]
    },
    {
     "name": "stdout",
     "output_type": "stream",
     "text": [
      "Epoch: 56\tLoss: 0.000 [perplexity=0.000, loss_vq=0.000, loss_recon=0.000, loss_cls=0.000]\tVal_acc: 14/27 (51.85%)\n",
      "\n"
     ]
    },
    {
     "name": "stderr",
     "output_type": "stream",
     "text": [
      " 57%|██████████████████████████████████████████████▌                                   | 56.82608695651875/100 [1:24:12<2:51:24, 238.21s/it]"
     ]
    },
    {
     "name": "stdout",
     "output_type": "stream",
     "text": [
      "Epoch: 57\tLoss: 0.000 [perplexity=0.000, loss_vq=0.000, loss_recon=0.000, loss_cls=0.000]\tVal_acc: 16/27 (59.26%)\n",
      "\n"
     ]
    },
    {
     "name": "stderr",
     "output_type": "stream",
     "text": [
      " 58%|███████████████████████████████████████████████▍                                  | 57.79710144927232/100 [1:25:39<2:49:45, 241.35s/it]"
     ]
    },
    {
     "name": "stdout",
     "output_type": "stream",
     "text": [
      "Epoch: 58\tLoss: 0.000 [perplexity=0.000, loss_vq=0.000, loss_recon=0.000, loss_cls=0.000]\tVal_acc: 15/27 (55.56%)\n",
      "\n"
     ]
    },
    {
     "name": "stderr",
     "output_type": "stream",
     "text": [
      " 59%|████████████████████████████████████████████████▏                                 | 58.76811594202589/100 [1:27:06<2:44:02, 238.72s/it]"
     ]
    },
    {
     "name": "stdout",
     "output_type": "stream",
     "text": [
      "Epoch: 59\tLoss: 0.000 [perplexity=0.000, loss_vq=0.000, loss_recon=0.000, loss_cls=0.000]\tVal_acc: 14/27 (51.85%)\n",
      "\n"
     ]
    },
    {
     "name": "stderr",
     "output_type": "stream",
     "text": [
      " 60%|████████████████████████████████████████████████▍                                | 59.739130434779455/100 [1:28:33<2:41:08, 240.16s/it]"
     ]
    },
    {
     "name": "stdout",
     "output_type": "stream",
     "text": [
      "Epoch: 60\tLoss: 0.001 [perplexity=0.000, loss_vq=0.000, loss_recon=0.000, loss_cls=0.001]\tVal_acc: 15/27 (55.56%)\n",
      "\n"
     ]
    },
    {
     "name": "stderr",
     "output_type": "stream",
     "text": [
      " 61%|█████████████████████████████████████████████████▊                                | 60.71014492753302/100 [1:30:01<2:36:52, 239.57s/it]"
     ]
    },
    {
     "name": "stdout",
     "output_type": "stream",
     "text": [
      "Epoch: 61\tLoss: 0.001 [perplexity=0.000, loss_vq=0.000, loss_recon=0.000, loss_cls=0.001]\tVal_acc: 15/27 (55.56%)\n",
      "\n"
     ]
    },
    {
     "name": "stderr",
     "output_type": "stream",
     "text": [
      " 62%|████████████████████████████████████████████████████▎                                | 61.51449275361993/100 [1:30:59<32:37, 50.87s/it]"
     ]
    },
    {
     "name": "stdout",
     "output_type": "stream",
     "text": [
      "Correct: 83/135 (0.6148)\n",
      "{'acc_unweighted': tensor(0.6378, device='cuda:0'),\n",
      " 'acc_weighted': tensor(0.6148, device='cuda:0'),\n",
      " 'f1s_unweighted': tensor(0.6132, device='cuda:0'),\n",
      " 'f1s_weighted': tensor(0.6175, device='cuda:0'),\n",
      " 'rocauc': tensor(0.8630, device='cuda:0'),\n",
      " 'uar': tensor(0.6378, device='cuda:0'),\n",
      " 'wap': tensor(0.6375, device='cuda:0')}\n",
      "{'acc_detail': tensor([0.7105, 0.7895, 0.5128, 0.5385], device='cuda:0'),\n",
      " 'f1s_detail': tensor([0.7606, 0.5769, 0.5479, 0.5676], device='cuda:0'),\n",
      " 'precision_detail': tensor([0.8182, 0.4545, 0.5882, 0.6000], device='cuda:0'),\n",
      " 'recall_detail': tensor([0.7105, 0.7895, 0.5128, 0.5385], device='cuda:0'),\n",
      " 'rocauc_detail': tensor([0.9512, 0.8945, 0.8365, 0.7698], device='cuda:0')}\n",
      "tensor([[27,  1,  3,  7],\n",
      "        [ 0, 15,  3,  1],\n",
      "        [ 3, 10, 20,  6],\n",
      "        [ 3,  7,  8, 21]], device='cuda:0')\n"
     ]
    },
    {
     "name": "stderr",
     "output_type": "stream",
     "text": [
      " 62%|██████████████████████████████████████████████████▊                               | 62.00724637680831/100 [1:31:45<2:32:07, 240.24s/it]"
     ]
    },
    {
     "name": "stdout",
     "output_type": "stream",
     "text": [
      "Epoch: 62\tLoss: 0.000 [perplexity=0.000, loss_vq=0.000, loss_recon=0.000, loss_cls=0.000]\tVal_acc: 15/27 (55.56%)\n",
      "\n"
     ]
    },
    {
     "name": "stderr",
     "output_type": "stream",
     "text": [
      " 63%|███████████████████████████████████████████████████▋                              | 62.97826086956188/100 [1:33:13<2:32:11, 246.65s/it]"
     ]
    },
    {
     "name": "stdout",
     "output_type": "stream",
     "text": [
      "Epoch: 63\tLoss: 0.000 [perplexity=0.000, loss_vq=0.000, loss_recon=0.000, loss_cls=0.000]\tVal_acc: 15/27 (55.56%)\n",
      "\n"
     ]
    },
    {
     "name": "stderr",
     "output_type": "stream",
     "text": [
      " 64%|████████████████████████████████████████████████████▍                             | 63.94927536231545/100 [1:34:42<2:24:12, 240.00s/it]"
     ]
    },
    {
     "name": "stdout",
     "output_type": "stream",
     "text": [
      "Epoch: 64\tLoss: 0.000 [perplexity=0.000, loss_vq=0.000, loss_recon=0.000, loss_cls=0.000]\tVal_acc: 14/27 (51.85%)\n",
      "\n"
     ]
    },
    {
     "name": "stderr",
     "output_type": "stream",
     "text": [
      " 65%|█████████████████████████████████████████████████████▏                            | 64.92028985506902/100 [1:36:09<2:20:13, 239.84s/it]"
     ]
    },
    {
     "name": "stdout",
     "output_type": "stream",
     "text": [
      "Epoch: 65\tLoss: 0.000 [perplexity=0.000, loss_vq=0.000, loss_recon=0.000, loss_cls=0.000]\tVal_acc: 14/27 (51.85%)\n",
      "\n"
     ]
    },
    {
     "name": "stderr",
     "output_type": "stream",
     "text": [
      " 66%|██████████████████████████████████████████████████████                            | 65.89130434782258/100 [1:37:37<2:16:49, 240.68s/it]"
     ]
    },
    {
     "name": "stdout",
     "output_type": "stream",
     "text": [
      "Epoch: 66\tLoss: 0.000 [perplexity=0.000, loss_vq=0.000, loss_recon=0.000, loss_cls=0.000]\tVal_acc: 15/27 (55.56%)\n",
      "\n"
     ]
    },
    {
     "name": "stderr",
     "output_type": "stream",
     "text": [
      " 67%|██████████████████████████████████████████████████████▊                           | 66.86231884057615/100 [1:39:04<2:13:16, 241.32s/it]"
     ]
    },
    {
     "name": "stdout",
     "output_type": "stream",
     "text": [
      "Epoch: 67\tLoss: 0.000 [perplexity=0.000, loss_vq=0.000, loss_recon=0.000, loss_cls=0.000]\tVal_acc: 14/27 (51.85%)\n",
      "\n"
     ]
    },
    {
     "name": "stderr",
     "output_type": "stream",
     "text": [
      " 68%|███████████████████████████████████████████████████████▌                          | 67.83333333332972/100 [1:40:32<2:10:05, 242.66s/it]"
     ]
    },
    {
     "name": "stdout",
     "output_type": "stream",
     "text": [
      "Epoch: 68\tLoss: 0.000 [perplexity=0.000, loss_vq=0.000, loss_recon=0.000, loss_cls=0.000]\tVal_acc: 14/27 (51.85%)\n",
      "\n"
     ]
    },
    {
     "name": "stderr",
     "output_type": "stream",
     "text": [
      " 69%|████████████████████████████████████████████████████████▍                         | 68.80434782608329/100 [1:42:00<2:05:07, 240.66s/it]"
     ]
    },
    {
     "name": "stdout",
     "output_type": "stream",
     "text": [
      "Epoch: 69\tLoss: 0.000 [perplexity=0.000, loss_vq=0.000, loss_recon=0.000, loss_cls=0.000]\tVal_acc: 15/27 (55.56%)\n",
      "\n"
     ]
    },
    {
     "name": "stderr",
     "output_type": "stream",
     "text": [
      " 70%|█████████████████████████████████████████████████████████▏                        | 69.77536231883686/100 [1:43:28<2:01:10, 240.54s/it]"
     ]
    },
    {
     "name": "stdout",
     "output_type": "stream",
     "text": [
      "Epoch: 70\tLoss: 0.000 [perplexity=0.000, loss_vq=0.000, loss_recon=0.000, loss_cls=0.000]\tVal_acc: 15/27 (55.56%)\n",
      "\n"
     ]
    },
    {
     "name": "stderr",
     "output_type": "stream",
     "text": [
      " 71%|██████████████████████████████████████████████████████████                        | 70.74637681159042/100 [1:44:54<1:56:42, 239.38s/it]"
     ]
    },
    {
     "name": "stdout",
     "output_type": "stream",
     "text": [
      "Epoch: 71\tLoss: 0.000 [perplexity=0.000, loss_vq=0.000, loss_recon=0.000, loss_cls=0.000]\tVal_acc: 15/27 (55.56%)\n",
      "\n"
     ]
    },
    {
     "name": "stderr",
     "output_type": "stream",
     "text": [
      " 72%|████████████████████████████████████████████████████████████▊                        | 71.55072463767733/100 [1:45:53<24:08, 50.92s/it]"
     ]
    },
    {
     "name": "stdout",
     "output_type": "stream",
     "text": [
      "Correct: 83/135 (0.6148)\n",
      "{'acc_unweighted': tensor(0.6378, device='cuda:0'),\n",
      " 'acc_weighted': tensor(0.6148, device='cuda:0'),\n",
      " 'f1s_unweighted': tensor(0.6132, device='cuda:0'),\n",
      " 'f1s_weighted': tensor(0.6175, device='cuda:0'),\n",
      " 'rocauc': tensor(0.8629, device='cuda:0'),\n",
      " 'uar': tensor(0.6378, device='cuda:0'),\n",
      " 'wap': tensor(0.6375, device='cuda:0')}\n",
      "{'acc_detail': tensor([0.7105, 0.7895, 0.5128, 0.5385], device='cuda:0'),\n",
      " 'f1s_detail': tensor([0.7606, 0.5769, 0.5479, 0.5676], device='cuda:0'),\n",
      " 'precision_detail': tensor([0.8182, 0.4545, 0.5882, 0.6000], device='cuda:0'),\n",
      " 'recall_detail': tensor([0.7105, 0.7895, 0.5128, 0.5385], device='cuda:0'),\n",
      " 'rocauc_detail': tensor([0.9516, 0.8927, 0.8343, 0.7730], device='cuda:0')}\n",
      "tensor([[27,  1,  3,  7],\n",
      "        [ 0, 15,  3,  1],\n",
      "        [ 3, 10, 20,  6],\n",
      "        [ 3,  7,  8, 21]], device='cuda:0')\n"
     ]
    },
    {
     "name": "stderr",
     "output_type": "stream",
     "text": [
      " 72%|███████████████████████████████████████████████████████████                       | 72.04347826086571/100 [1:46:39<1:51:23, 239.08s/it]"
     ]
    },
    {
     "name": "stdout",
     "output_type": "stream",
     "text": [
      "Epoch: 72\tLoss: 0.000 [perplexity=0.000, loss_vq=0.000, loss_recon=0.000, loss_cls=0.000]\tVal_acc: 15/27 (55.56%)\n",
      "\n"
     ]
    },
    {
     "name": "stderr",
     "output_type": "stream",
     "text": [
      " 72%|█████████████████████████████████████████████████████████████▍                       | 72.21739130434396/100 [1:46:54<40:01, 86.43s/it]Exception ignored in: <bound method IPythonKernel._clean_thread_parent_frames of <ipykernel.ipkernel.IPythonKernel object at 0x7572eae31070>>\n",
      "Traceback (most recent call last):\n",
      "  File \"/opt/anaconda3/envs/audio/lib/python3.9/site-packages/ipykernel/ipkernel.py\", line 770, in _clean_thread_parent_frames\n",
      "    def _clean_thread_parent_frames(\n",
      "KeyboardInterrupt: \n",
      "Exception ignored in: <bound method IPythonKernel._clean_thread_parent_frames of <ipykernel.ipkernel.IPythonKernel object at 0x7572eae31070>>\n",
      "Traceback (most recent call last):\n",
      "  File \"/opt/anaconda3/envs/audio/lib/python3.9/site-packages/ipykernel/ipkernel.py\", line 770, in _clean_thread_parent_frames\n",
      "    def _clean_thread_parent_frames(\n",
      "KeyboardInterrupt: \n",
      " 72%|█████████████████████████████████████████████████████████████▍                       | 72.22463768115556/100 [1:46:54<41:06, 88.82s/it]\n"
     ]
    },
    {
     "ename": "RuntimeError",
     "evalue": "DataLoader worker (pid(s) 3028424, 3028432, 3028440, 3028448, 3028456, 3028464, 3028472, 3028480) exited unexpectedly",
     "output_type": "error",
     "traceback": [
      "\u001b[0;31m---------------------------------------------------------------------------\u001b[0m",
      "\u001b[0;31mFileNotFoundError\u001b[0m                         Traceback (most recent call last)",
      "File \u001b[0;32m/opt/anaconda3/envs/audio/lib/python3.9/site-packages/torch/utils/data/dataloader.py:1132\u001b[0m, in \u001b[0;36m_MultiProcessingDataLoaderIter._try_get_data\u001b[0;34m(self, timeout)\u001b[0m\n\u001b[1;32m   1131\u001b[0m \u001b[38;5;28;01mtry\u001b[39;00m:\n\u001b[0;32m-> 1132\u001b[0m     data \u001b[38;5;241m=\u001b[39m \u001b[38;5;28;43mself\u001b[39;49m\u001b[38;5;241;43m.\u001b[39;49m\u001b[43m_data_queue\u001b[49m\u001b[38;5;241;43m.\u001b[39;49m\u001b[43mget\u001b[49m\u001b[43m(\u001b[49m\u001b[43mtimeout\u001b[49m\u001b[38;5;241;43m=\u001b[39;49m\u001b[43mtimeout\u001b[49m\u001b[43m)\u001b[49m\n\u001b[1;32m   1133\u001b[0m     \u001b[38;5;28;01mreturn\u001b[39;00m (\u001b[38;5;28;01mTrue\u001b[39;00m, data)\n",
      "File \u001b[0;32m/opt/anaconda3/envs/audio/lib/python3.9/multiprocessing/queues.py:122\u001b[0m, in \u001b[0;36mQueue.get\u001b[0;34m(self, block, timeout)\u001b[0m\n\u001b[1;32m    121\u001b[0m \u001b[38;5;66;03m# unserialize the data after having released the lock\u001b[39;00m\n\u001b[0;32m--> 122\u001b[0m \u001b[38;5;28;01mreturn\u001b[39;00m \u001b[43m_ForkingPickler\u001b[49m\u001b[38;5;241;43m.\u001b[39;49m\u001b[43mloads\u001b[49m\u001b[43m(\u001b[49m\u001b[43mres\u001b[49m\u001b[43m)\u001b[49m\n",
      "File \u001b[0;32m/opt/anaconda3/envs/audio/lib/python3.9/site-packages/torch/multiprocessing/reductions.py:355\u001b[0m, in \u001b[0;36mrebuild_storage_fd\u001b[0;34m(cls, df, size)\u001b[0m\n\u001b[1;32m    354\u001b[0m \u001b[38;5;28;01mdef\u001b[39;00m \u001b[38;5;21mrebuild_storage_fd\u001b[39m(\u001b[38;5;28mcls\u001b[39m, df, size):\n\u001b[0;32m--> 355\u001b[0m     fd \u001b[38;5;241m=\u001b[39m \u001b[43mdf\u001b[49m\u001b[38;5;241;43m.\u001b[39;49m\u001b[43mdetach\u001b[49m\u001b[43m(\u001b[49m\u001b[43m)\u001b[49m\n\u001b[1;32m    356\u001b[0m     \u001b[38;5;28;01mtry\u001b[39;00m:\n",
      "File \u001b[0;32m/opt/anaconda3/envs/audio/lib/python3.9/multiprocessing/resource_sharer.py:57\u001b[0m, in \u001b[0;36mDupFd.detach\u001b[0;34m(self)\u001b[0m\n\u001b[1;32m     56\u001b[0m \u001b[38;5;250m\u001b[39m\u001b[38;5;124;03m'''Get the fd.  This should only be called once.'''\u001b[39;00m\n\u001b[0;32m---> 57\u001b[0m \u001b[38;5;28;01mwith\u001b[39;00m \u001b[43m_resource_sharer\u001b[49m\u001b[38;5;241;43m.\u001b[39;49m\u001b[43mget_connection\u001b[49m\u001b[43m(\u001b[49m\u001b[38;5;28;43mself\u001b[39;49m\u001b[38;5;241;43m.\u001b[39;49m\u001b[43m_id\u001b[49m\u001b[43m)\u001b[49m \u001b[38;5;28;01mas\u001b[39;00m conn:\n\u001b[1;32m     58\u001b[0m     \u001b[38;5;28;01mreturn\u001b[39;00m reduction\u001b[38;5;241m.\u001b[39mrecv_handle(conn)\n",
      "File \u001b[0;32m/opt/anaconda3/envs/audio/lib/python3.9/multiprocessing/resource_sharer.py:86\u001b[0m, in \u001b[0;36m_ResourceSharer.get_connection\u001b[0;34m(ident)\u001b[0m\n\u001b[1;32m     85\u001b[0m address, key \u001b[38;5;241m=\u001b[39m ident\n\u001b[0;32m---> 86\u001b[0m c \u001b[38;5;241m=\u001b[39m \u001b[43mClient\u001b[49m\u001b[43m(\u001b[49m\u001b[43maddress\u001b[49m\u001b[43m,\u001b[49m\u001b[43m \u001b[49m\u001b[43mauthkey\u001b[49m\u001b[38;5;241;43m=\u001b[39;49m\u001b[43mprocess\u001b[49m\u001b[38;5;241;43m.\u001b[39;49m\u001b[43mcurrent_process\u001b[49m\u001b[43m(\u001b[49m\u001b[43m)\u001b[49m\u001b[38;5;241;43m.\u001b[39;49m\u001b[43mauthkey\u001b[49m\u001b[43m)\u001b[49m\n\u001b[1;32m     87\u001b[0m c\u001b[38;5;241m.\u001b[39msend((key, os\u001b[38;5;241m.\u001b[39mgetpid()))\n",
      "File \u001b[0;32m/opt/anaconda3/envs/audio/lib/python3.9/multiprocessing/connection.py:502\u001b[0m, in \u001b[0;36mClient\u001b[0;34m(address, family, authkey)\u001b[0m\n\u001b[1;32m    501\u001b[0m \u001b[38;5;28;01melse\u001b[39;00m:\n\u001b[0;32m--> 502\u001b[0m     c \u001b[38;5;241m=\u001b[39m \u001b[43mSocketClient\u001b[49m\u001b[43m(\u001b[49m\u001b[43maddress\u001b[49m\u001b[43m)\u001b[49m\n\u001b[1;32m    504\u001b[0m \u001b[38;5;28;01mif\u001b[39;00m authkey \u001b[38;5;129;01mis\u001b[39;00m \u001b[38;5;129;01mnot\u001b[39;00m \u001b[38;5;28;01mNone\u001b[39;00m \u001b[38;5;129;01mand\u001b[39;00m \u001b[38;5;129;01mnot\u001b[39;00m \u001b[38;5;28misinstance\u001b[39m(authkey, \u001b[38;5;28mbytes\u001b[39m):\n",
      "File \u001b[0;32m/opt/anaconda3/envs/audio/lib/python3.9/multiprocessing/connection.py:630\u001b[0m, in \u001b[0;36mSocketClient\u001b[0;34m(address)\u001b[0m\n\u001b[1;32m    629\u001b[0m s\u001b[38;5;241m.\u001b[39msetblocking(\u001b[38;5;28;01mTrue\u001b[39;00m)\n\u001b[0;32m--> 630\u001b[0m \u001b[43ms\u001b[49m\u001b[38;5;241;43m.\u001b[39;49m\u001b[43mconnect\u001b[49m\u001b[43m(\u001b[49m\u001b[43maddress\u001b[49m\u001b[43m)\u001b[49m\n\u001b[1;32m    631\u001b[0m \u001b[38;5;28;01mreturn\u001b[39;00m Connection(s\u001b[38;5;241m.\u001b[39mdetach())\n",
      "\u001b[0;31mFileNotFoundError\u001b[0m: [Errno 2] No such file or directory",
      "\nThe above exception was the direct cause of the following exception:\n",
      "\u001b[0;31mRuntimeError\u001b[0m                              Traceback (most recent call last)",
      "Cell \u001b[0;32mIn[36], line 1\u001b[0m\n\u001b[0;32m----> 1\u001b[0m \u001b[43mtrainer\u001b[49m\u001b[38;5;241;43m.\u001b[39;49m\u001b[43mfit\u001b[49m\u001b[43m(\u001b[49m\u001b[43mn_epoch\u001b[49m\u001b[38;5;241;43m=\u001b[39;49m\u001b[38;5;241;43m100\u001b[39;49m\u001b[43m,\u001b[49m\u001b[43m \u001b[49m\u001b[43mself_supervised\u001b[49m\u001b[38;5;241;43m=\u001b[39;49m\u001b[38;5;28;43;01mFalse\u001b[39;49;00m\u001b[43m,\u001b[49m\u001b[43m \u001b[49m\u001b[43mtrain_task\u001b[49m\u001b[38;5;241;43m=\u001b[39;49m\u001b[38;5;124;43m'\u001b[39;49m\u001b[38;5;124;43membedding\u001b[39;49m\u001b[38;5;124;43m'\u001b[39;49m\u001b[43m,\u001b[49m\u001b[43m \u001b[49m\u001b[43mtest_n_epoch\u001b[49m\u001b[38;5;241;43m=\u001b[39;49m\u001b[38;5;241;43m10\u001b[39;49m\u001b[43m)\u001b[49m\n",
      "File \u001b[0;32m~/projects/IConNet/IConNet/trainer/train_torch.py:393\u001b[0m, in \u001b[0;36mTrainer.fit\u001b[0;34m(self, n_epoch, self_supervised, train_task, contrastive_learning, loss_ratio, lr, test_n_epoch)\u001b[0m\n\u001b[1;32m    391\u001b[0m \u001b[38;5;28;01mfor\u001b[39;00m epoch \u001b[38;5;129;01min\u001b[39;00m \u001b[38;5;28mrange\u001b[39m(n_epoch):\n\u001b[1;32m    392\u001b[0m     \u001b[38;5;28mself\u001b[39m\u001b[38;5;241m.\u001b[39mcurrent_epoch \u001b[38;5;241m+\u001b[39m\u001b[38;5;241m=\u001b[39m \u001b[38;5;241m1\u001b[39m\n\u001b[0;32m--> 393\u001b[0m     \u001b[38;5;28;43mself\u001b[39;49m\u001b[38;5;241;43m.\u001b[39;49m\u001b[43mtrain_step\u001b[49m\u001b[43m(\u001b[49m\n\u001b[1;32m    394\u001b[0m \u001b[43m        \u001b[49m\u001b[43mself_supervised\u001b[49m\u001b[38;5;241;43m=\u001b[39;49m\u001b[43mself_supervised\u001b[49m\u001b[43m,\u001b[49m\u001b[43m \u001b[49m\n\u001b[1;32m    395\u001b[0m \u001b[43m        \u001b[49m\u001b[43mtrain_task\u001b[49m\u001b[38;5;241;43m=\u001b[39;49m\u001b[43mtrain_task\u001b[49m\u001b[43m)\u001b[49m\n\u001b[1;32m    397\u001b[0m     is_test_epoch \u001b[38;5;241m=\u001b[39m (test_n_epoch \u001b[38;5;129;01mis\u001b[39;00m \u001b[38;5;129;01mnot\u001b[39;00m \u001b[38;5;28;01mNone\u001b[39;00m \u001b[38;5;129;01mand\u001b[39;00m test_n_epoch \u001b[38;5;241m>\u001b[39m \u001b[38;5;241m0\u001b[39m \u001b[38;5;129;01mand\u001b[39;00m epoch \u001b[38;5;241m%\u001b[39m test_n_epoch \u001b[38;5;241m==\u001b[39m \u001b[38;5;241m0\u001b[39m)\n\u001b[1;32m    398\u001b[0m     \u001b[38;5;28;01mif\u001b[39;00m is_test_epoch \u001b[38;5;129;01mand\u001b[39;00m self_supervised \u001b[38;5;241m==\u001b[39m \u001b[38;5;28;01mTrue\u001b[39;00m:\n",
      "File \u001b[0;32m~/projects/IConNet/IConNet/trainer/train_torch.py:159\u001b[0m, in \u001b[0;36mTrainer.train_step\u001b[0;34m(self, self_supervised, train_task)\u001b[0m\n\u001b[1;32m    157\u001b[0m \u001b[38;5;28mself\u001b[39m\u001b[38;5;241m.\u001b[39mmodel\u001b[38;5;241m.\u001b[39mtrain()\n\u001b[1;32m    158\u001b[0m losses_detail: \u001b[38;5;28mlist\u001b[39m[Union[VqVaeClsLoss, AudioVQMixClsLoss]] \u001b[38;5;241m=\u001b[39m []\n\u001b[0;32m--> 159\u001b[0m \u001b[38;5;28;01mfor\u001b[39;00m batch_idx, (data, target) \u001b[38;5;129;01min\u001b[39;00m \u001b[38;5;28menumerate\u001b[39m(\u001b[38;5;28mself\u001b[39m\u001b[38;5;241m.\u001b[39mtrain_loader):\n\u001b[1;32m    160\u001b[0m     _mem_before \u001b[38;5;241m=\u001b[39m torch\u001b[38;5;241m.\u001b[39mcuda\u001b[38;5;241m.\u001b[39mmemory_allocated()\n\u001b[1;32m    161\u001b[0m     data \u001b[38;5;241m=\u001b[39m data\u001b[38;5;241m.\u001b[39mto(device)\n",
      "File \u001b[0;32m/opt/anaconda3/envs/audio/lib/python3.9/site-packages/torch/utils/data/dataloader.py:630\u001b[0m, in \u001b[0;36m_BaseDataLoaderIter.__next__\u001b[0;34m(self)\u001b[0m\n\u001b[1;32m    627\u001b[0m \u001b[38;5;28;01mif\u001b[39;00m \u001b[38;5;28mself\u001b[39m\u001b[38;5;241m.\u001b[39m_sampler_iter \u001b[38;5;129;01mis\u001b[39;00m \u001b[38;5;28;01mNone\u001b[39;00m:\n\u001b[1;32m    628\u001b[0m     \u001b[38;5;66;03m# TODO(https://github.com/pytorch/pytorch/issues/76750)\u001b[39;00m\n\u001b[1;32m    629\u001b[0m     \u001b[38;5;28mself\u001b[39m\u001b[38;5;241m.\u001b[39m_reset()  \u001b[38;5;66;03m# type: ignore[call-arg]\u001b[39;00m\n\u001b[0;32m--> 630\u001b[0m data \u001b[38;5;241m=\u001b[39m \u001b[38;5;28;43mself\u001b[39;49m\u001b[38;5;241;43m.\u001b[39;49m\u001b[43m_next_data\u001b[49m\u001b[43m(\u001b[49m\u001b[43m)\u001b[49m\n\u001b[1;32m    631\u001b[0m \u001b[38;5;28mself\u001b[39m\u001b[38;5;241m.\u001b[39m_num_yielded \u001b[38;5;241m+\u001b[39m\u001b[38;5;241m=\u001b[39m \u001b[38;5;241m1\u001b[39m\n\u001b[1;32m    632\u001b[0m \u001b[38;5;28;01mif\u001b[39;00m \u001b[38;5;28mself\u001b[39m\u001b[38;5;241m.\u001b[39m_dataset_kind \u001b[38;5;241m==\u001b[39m _DatasetKind\u001b[38;5;241m.\u001b[39mIterable \u001b[38;5;129;01mand\u001b[39;00m \\\n\u001b[1;32m    633\u001b[0m         \u001b[38;5;28mself\u001b[39m\u001b[38;5;241m.\u001b[39m_IterableDataset_len_called \u001b[38;5;129;01mis\u001b[39;00m \u001b[38;5;129;01mnot\u001b[39;00m \u001b[38;5;28;01mNone\u001b[39;00m \u001b[38;5;129;01mand\u001b[39;00m \\\n\u001b[1;32m    634\u001b[0m         \u001b[38;5;28mself\u001b[39m\u001b[38;5;241m.\u001b[39m_num_yielded \u001b[38;5;241m>\u001b[39m \u001b[38;5;28mself\u001b[39m\u001b[38;5;241m.\u001b[39m_IterableDataset_len_called:\n",
      "File \u001b[0;32m/opt/anaconda3/envs/audio/lib/python3.9/site-packages/torch/utils/data/dataloader.py:1328\u001b[0m, in \u001b[0;36m_MultiProcessingDataLoaderIter._next_data\u001b[0;34m(self)\u001b[0m\n\u001b[1;32m   1325\u001b[0m     \u001b[38;5;28;01mreturn\u001b[39;00m \u001b[38;5;28mself\u001b[39m\u001b[38;5;241m.\u001b[39m_process_data(data)\n\u001b[1;32m   1327\u001b[0m \u001b[38;5;28;01massert\u001b[39;00m \u001b[38;5;129;01mnot\u001b[39;00m \u001b[38;5;28mself\u001b[39m\u001b[38;5;241m.\u001b[39m_shutdown \u001b[38;5;129;01mand\u001b[39;00m \u001b[38;5;28mself\u001b[39m\u001b[38;5;241m.\u001b[39m_tasks_outstanding \u001b[38;5;241m>\u001b[39m \u001b[38;5;241m0\u001b[39m\n\u001b[0;32m-> 1328\u001b[0m idx, data \u001b[38;5;241m=\u001b[39m \u001b[38;5;28;43mself\u001b[39;49m\u001b[38;5;241;43m.\u001b[39;49m\u001b[43m_get_data\u001b[49m\u001b[43m(\u001b[49m\u001b[43m)\u001b[49m\n\u001b[1;32m   1329\u001b[0m \u001b[38;5;28mself\u001b[39m\u001b[38;5;241m.\u001b[39m_tasks_outstanding \u001b[38;5;241m-\u001b[39m\u001b[38;5;241m=\u001b[39m \u001b[38;5;241m1\u001b[39m\n\u001b[1;32m   1330\u001b[0m \u001b[38;5;28;01mif\u001b[39;00m \u001b[38;5;28mself\u001b[39m\u001b[38;5;241m.\u001b[39m_dataset_kind \u001b[38;5;241m==\u001b[39m _DatasetKind\u001b[38;5;241m.\u001b[39mIterable:\n\u001b[1;32m   1331\u001b[0m     \u001b[38;5;66;03m# Check for _IterableDatasetStopIteration\u001b[39;00m\n",
      "File \u001b[0;32m/opt/anaconda3/envs/audio/lib/python3.9/site-packages/torch/utils/data/dataloader.py:1294\u001b[0m, in \u001b[0;36m_MultiProcessingDataLoaderIter._get_data\u001b[0;34m(self)\u001b[0m\n\u001b[1;32m   1290\u001b[0m     \u001b[38;5;66;03m# In this case, `self._data_queue` is a `queue.Queue`,. But we don't\u001b[39;00m\n\u001b[1;32m   1291\u001b[0m     \u001b[38;5;66;03m# need to call `.task_done()` because we don't use `.join()`.\u001b[39;00m\n\u001b[1;32m   1292\u001b[0m \u001b[38;5;28;01melse\u001b[39;00m:\n\u001b[1;32m   1293\u001b[0m     \u001b[38;5;28;01mwhile\u001b[39;00m \u001b[38;5;28;01mTrue\u001b[39;00m:\n\u001b[0;32m-> 1294\u001b[0m         success, data \u001b[38;5;241m=\u001b[39m \u001b[38;5;28;43mself\u001b[39;49m\u001b[38;5;241;43m.\u001b[39;49m\u001b[43m_try_get_data\u001b[49m\u001b[43m(\u001b[49m\u001b[43m)\u001b[49m\n\u001b[1;32m   1295\u001b[0m         \u001b[38;5;28;01mif\u001b[39;00m success:\n\u001b[1;32m   1296\u001b[0m             \u001b[38;5;28;01mreturn\u001b[39;00m data\n",
      "File \u001b[0;32m/opt/anaconda3/envs/audio/lib/python3.9/site-packages/torch/utils/data/dataloader.py:1145\u001b[0m, in \u001b[0;36m_MultiProcessingDataLoaderIter._try_get_data\u001b[0;34m(self, timeout)\u001b[0m\n\u001b[1;32m   1143\u001b[0m \u001b[38;5;28;01mif\u001b[39;00m \u001b[38;5;28mlen\u001b[39m(failed_workers) \u001b[38;5;241m>\u001b[39m \u001b[38;5;241m0\u001b[39m:\n\u001b[1;32m   1144\u001b[0m     pids_str \u001b[38;5;241m=\u001b[39m \u001b[38;5;124m'\u001b[39m\u001b[38;5;124m, \u001b[39m\u001b[38;5;124m'\u001b[39m\u001b[38;5;241m.\u001b[39mjoin(\u001b[38;5;28mstr\u001b[39m(w\u001b[38;5;241m.\u001b[39mpid) \u001b[38;5;28;01mfor\u001b[39;00m w \u001b[38;5;129;01min\u001b[39;00m failed_workers)\n\u001b[0;32m-> 1145\u001b[0m     \u001b[38;5;28;01mraise\u001b[39;00m \u001b[38;5;167;01mRuntimeError\u001b[39;00m(\u001b[38;5;124mf\u001b[39m\u001b[38;5;124m'\u001b[39m\u001b[38;5;124mDataLoader worker (pid(s) \u001b[39m\u001b[38;5;132;01m{\u001b[39;00mpids_str\u001b[38;5;132;01m}\u001b[39;00m\u001b[38;5;124m) exited unexpectedly\u001b[39m\u001b[38;5;124m'\u001b[39m) \u001b[38;5;28;01mfrom\u001b[39;00m \u001b[38;5;21;01me\u001b[39;00m\n\u001b[1;32m   1146\u001b[0m \u001b[38;5;28;01mif\u001b[39;00m \u001b[38;5;28misinstance\u001b[39m(e, queue\u001b[38;5;241m.\u001b[39mEmpty):\n\u001b[1;32m   1147\u001b[0m     \u001b[38;5;28;01mreturn\u001b[39;00m (\u001b[38;5;28;01mFalse\u001b[39;00m, \u001b[38;5;28;01mNone\u001b[39;00m)\n",
      "\u001b[0;31mRuntimeError\u001b[0m: DataLoader worker (pid(s) 3028424, 3028432, 3028440, 3028448, 3028456, 3028464, 3028472, 3028480) exited unexpectedly"
     ]
    }
   ],
   "source": [
    "trainer.fit(n_epoch=100, self_supervised=False, train_task='embedding', test_n_epoch=10)"
   ]
  },
  {
   "cell_type": "code",
   "execution_count": 37,
   "id": "f92e4dd4-2c63-4cd2-b771-99b5cab2a290",
   "metadata": {},
   "outputs": [
    {
     "name": "stdout",
     "output_type": "stream",
     "text": [
      "Loaded: ../scb16_models/ravdess/run1/model.epoch=49.step=4851.loss=0.022.val_acc=0.704.pt\n"
     ]
    }
   ],
   "source": [
    "trainer.load_best_model(val_model=True)"
   ]
  },
  {
   "cell_type": "code",
   "execution_count": 38,
   "id": "f723e1a7-7e29-405b-b55e-1fd13d8d7568",
   "metadata": {},
   "outputs": [
    {
     "name": "stdout",
     "output_type": "stream",
     "text": [
      "Correct: 80/135 (0.5926)\n"
     ]
    }
   ],
   "source": [
    "metrics, metrics_details, confusion_matrix = trainer.test_step()"
   ]
  },
  {
   "cell_type": "code",
   "execution_count": 39,
   "id": "a7ee2065-dc58-4864-a955-96e97998bea6",
   "metadata": {},
   "outputs": [
    {
     "name": "stdout",
     "output_type": "stream",
     "text": [
      "{'acc_unweighted': tensor(0.6120),\n",
      " 'acc_weighted': tensor(0.5926),\n",
      " 'f1s_unweighted': tensor(0.5707),\n",
      " 'f1s_weighted': tensor(0.5784),\n",
      " 'rocauc': tensor(0.8477),\n",
      " 'uar': tensor(0.6120),\n",
      " 'wap': tensor(0.7152)}\n",
      "{'acc_detail': tensor([0.7368, 0.7368, 0.7179, 0.2564]),\n",
      " 'f1s_detail': tensor([0.7568, 0.5091, 0.6087, 0.4082]),\n",
      " 'precision_detail': tensor([0.7778, 0.3889, 0.5283, 1.0000]),\n",
      " 'recall_detail': tensor([0.7368, 0.7368, 0.7179, 0.2564]),\n",
      " 'rocauc_detail': tensor([0.9323, 0.8625, 0.8130, 0.7831])}\n",
      "tensor([[28,  2,  8,  0],\n",
      "        [ 0, 14,  5,  0],\n",
      "        [ 1, 10, 28,  0],\n",
      "        [ 7, 10, 12, 10]])\n"
     ]
    }
   ],
   "source": [
    "me = metrics.cpu().compute()\n",
    "med = metrics_details.cpu().compute()\n",
    "cm = confusion_matrix.cpu().compute()\n",
    "pprint(me)\n",
    "pprint(med)\n",
    "pprint(cm)"
   ]
  },
  {
   "cell_type": "code",
   "execution_count": 41,
   "id": "6d1f3cb3-1faa-4525-8b95-533c32bbf9de",
   "metadata": {},
   "outputs": [],
   "source": [
    "trainer.load(log_dir + \"model.epoch=71.step=7100.pt\")"
   ]
  },
  {
   "cell_type": "code",
   "execution_count": 42,
   "id": "34e03c78-e1aa-443c-97b4-79f21b0bfa65",
   "metadata": {},
   "outputs": [
    {
     "name": "stdout",
     "output_type": "stream",
     "text": [
      "Correct: 83/135 (0.6148)\n"
     ]
    }
   ],
   "source": [
    "metrics, metrics_details, confusion_matrix = trainer.test_step()"
   ]
  },
  {
   "cell_type": "code",
   "execution_count": 43,
   "id": "41c1ce93-c4a6-4c5f-a32c-7dac65890b95",
   "metadata": {},
   "outputs": [
    {
     "name": "stdout",
     "output_type": "stream",
     "text": [
      "{'acc_unweighted': tensor(0.6378),\n",
      " 'acc_weighted': tensor(0.6148),\n",
      " 'f1s_unweighted': tensor(0.6132),\n",
      " 'f1s_weighted': tensor(0.6175),\n",
      " 'rocauc': tensor(0.8629),\n",
      " 'uar': tensor(0.6378),\n",
      " 'wap': tensor(0.6375)}\n",
      "{'acc_detail': tensor([0.7105, 0.7895, 0.5128, 0.5385]),\n",
      " 'f1s_detail': tensor([0.7606, 0.5769, 0.5479, 0.5676]),\n",
      " 'precision_detail': tensor([0.8182, 0.4545, 0.5882, 0.6000]),\n",
      " 'recall_detail': tensor([0.7105, 0.7895, 0.5128, 0.5385]),\n",
      " 'rocauc_detail': tensor([0.9516, 0.8927, 0.8343, 0.7730])}\n",
      "tensor([[27,  1,  3,  7],\n",
      "        [ 0, 15,  3,  1],\n",
      "        [ 3, 10, 20,  6],\n",
      "        [ 3,  7,  8, 21]])\n"
     ]
    }
   ],
   "source": [
    "me = metrics.cpu().compute()\n",
    "med = metrics_details.cpu().compute()\n",
    "cm = confusion_matrix.cpu().compute()\n",
    "pprint(me)\n",
    "pprint(med)\n",
    "pprint(cm)"
   ]
  },
  {
   "cell_type": "code",
   "execution_count": 44,
   "id": "22d60de1-f33f-4686-89b6-4544cd8d1931",
   "metadata": {
    "scrolled": true
   },
   "outputs": [
    {
     "name": "stderr",
     "output_type": "stream",
     "text": [
      "  2%|█▌                                                                                  | 0.3798882681564243/20 [00:45<1:42:22, 313.08s/it]"
     ]
    },
    {
     "name": "stdout",
     "output_type": "stream",
     "text": [
      "Epoch: 73\tLoss: 0.000 [perplexity=0.000, loss_vq=0.000, loss_recon=0.000, loss_cls=0.000]\tVal_acc: 16/27 (59.26%)\n",
      "\n"
     ]
    },
    {
     "name": "stderr",
     "output_type": "stream",
     "text": [
      "  5%|████▍                                                                                   | 1.000000000000004/20 [01:43<21:19, 67.35s/it]"
     ]
    },
    {
     "name": "stdout",
     "output_type": "stream",
     "text": [
      "Correct: 81/135 (0.6000)\n",
      "{'acc_unweighted': tensor(0.6048, device='cuda:0'),\n",
      " 'acc_weighted': tensor(0.6000, device='cuda:0'),\n",
      " 'f1s_unweighted': tensor(0.5940, device='cuda:0'),\n",
      " 'f1s_weighted': tensor(0.6051, device='cuda:0'),\n",
      " 'rocauc': tensor(0.8635, device='cuda:0'),\n",
      " 'uar': tensor(0.6048, device='cuda:0'),\n",
      " 'wap': tensor(0.6194, device='cuda:0')}\n",
      "{'acc_detail': tensor([0.7105, 0.6316, 0.5128, 0.5641], device='cuda:0'),\n",
      " 'f1s_detail': tensor([0.7606, 0.5106, 0.5479, 0.5570], device='cuda:0'),\n",
      " 'precision_detail': tensor([0.8182, 0.4286, 0.5882, 0.5500], device='cuda:0'),\n",
      " 'recall_detail': tensor([0.7105, 0.6316, 0.5128, 0.5641], device='cuda:0'),\n",
      " 'rocauc_detail': tensor([0.9510, 0.8945, 0.8329, 0.7754], device='cuda:0')}\n",
      "tensor([[27,  0,  2,  9],\n",
      "        [ 0, 12,  5,  2],\n",
      "        [ 3,  9, 20,  7],\n",
      "        [ 3,  7,  7, 22]], device='cuda:0')\n"
     ]
    },
    {
     "name": "stderr",
     "output_type": "stream",
     "text": [
      "  7%|█████▊                                                                               | 1.379888268156432/20 [02:30<1:36:49, 311.97s/it]"
     ]
    },
    {
     "name": "stdout",
     "output_type": "stream",
     "text": [
      "Epoch: 74\tLoss: 0.000 [perplexity=0.000, loss_vq=0.000, loss_recon=0.000, loss_cls=0.000]\tVal_acc: 16/27 (59.26%)\n",
      "\n"
     ]
    },
    {
     "name": "stderr",
     "output_type": "stream",
     "text": [
      " 10%|████████▊                                                                               | 2.000000000000013/20 [03:29<20:12, 67.37s/it]"
     ]
    },
    {
     "name": "stdout",
     "output_type": "stream",
     "text": [
      "Correct: 85/135 (0.6296)\n",
      "Saved new best test model: ../scb16_models/ravdess/run1/model.epoch=74.step=7369.test_acc=0.6296.pt\n",
      "{'acc_unweighted': tensor(0.6574, device='cuda:0'),\n",
      " 'acc_weighted': tensor(0.6296, device='cuda:0'),\n",
      " 'f1s_unweighted': tensor(0.6288, device='cuda:0'),\n",
      " 'f1s_weighted': tensor(0.6315, device='cuda:0'),\n",
      " 'rocauc': tensor(0.8615, device='cuda:0'),\n",
      " 'uar': tensor(0.6574, device='cuda:0'),\n",
      " 'wap': tensor(0.6534, device='cuda:0')}\n",
      "{'acc_detail': tensor([0.7105, 0.8421, 0.5385, 0.5385], device='cuda:0'),\n",
      " 'f1s_detail': tensor([0.7606, 0.6038, 0.5753, 0.5753], device='cuda:0'),\n",
      " 'precision_detail': tensor([0.8182, 0.4706, 0.6176, 0.6176], device='cuda:0'),\n",
      " 'recall_detail': tensor([0.7105, 0.8421, 0.5385, 0.5385], device='cuda:0'),\n",
      " 'rocauc_detail': tensor([0.9509, 0.8931, 0.8363, 0.7658], device='cuda:0')}\n",
      "tensor([[27,  1,  3,  7],\n",
      "        [ 0, 16,  2,  1],\n",
      "        [ 3, 10, 21,  5],\n",
      "        [ 3,  7,  8, 21]], device='cuda:0')\n"
     ]
    },
    {
     "name": "stderr",
     "output_type": "stream",
     "text": [
      " 12%|██████████                                                                           | 2.379888268156441/20 [04:15<1:32:24, 314.67s/it]"
     ]
    },
    {
     "name": "stdout",
     "output_type": "stream",
     "text": [
      "Epoch: 75\tLoss: 0.000 [perplexity=0.000, loss_vq=0.000, loss_recon=0.000, loss_cls=0.000]\tVal_acc: 15/27 (55.56%)\n",
      "\n"
     ]
    },
    {
     "name": "stderr",
     "output_type": "stream",
     "text": [
      " 15%|█████████████                                                                          | 3.0000000000000218/20 [05:15<19:03, 67.29s/it]"
     ]
    },
    {
     "name": "stdout",
     "output_type": "stream",
     "text": [
      "Correct: 85/135 (0.6296)\n",
      "{'acc_unweighted': tensor(0.6508, device='cuda:0'),\n",
      " 'acc_weighted': tensor(0.6296, device='cuda:0'),\n",
      " 'f1s_unweighted': tensor(0.6257, device='cuda:0'),\n",
      " 'f1s_weighted': tensor(0.6319, device='cuda:0'),\n",
      " 'rocauc': tensor(0.8613, device='cuda:0'),\n",
      " 'uar': tensor(0.6508, device='cuda:0'),\n",
      " 'wap': tensor(0.6514, device='cuda:0')}\n",
      "{'acc_detail': tensor([0.7368, 0.7895, 0.5385, 0.5385], device='cuda:0'),\n",
      " 'f1s_detail': tensor([0.7671, 0.5769, 0.5753, 0.5833], device='cuda:0'),\n",
      " 'precision_detail': tensor([0.8000, 0.4545, 0.6176, 0.6364], device='cuda:0'),\n",
      " 'recall_detail': tensor([0.7368, 0.7895, 0.5385, 0.5385], device='cuda:0'),\n",
      " 'rocauc_detail': tensor([0.9512, 0.8920, 0.8339, 0.7682], device='cuda:0')}\n",
      "tensor([[28,  1,  4,  5],\n",
      "        [ 0, 15,  2,  2],\n",
      "        [ 3, 10, 21,  5],\n",
      "        [ 4,  7,  7, 21]], device='cuda:0')\n"
     ]
    },
    {
     "name": "stderr",
     "output_type": "stream",
     "text": [
      " 17%|██████████████▏                                                                     | 3.3798882681564497/20 [06:01<1:28:50, 320.73s/it]"
     ]
    },
    {
     "name": "stdout",
     "output_type": "stream",
     "text": [
      "Epoch: 76\tLoss: 0.000 [perplexity=0.000, loss_vq=0.000, loss_recon=0.000, loss_cls=0.000]\tVal_acc: 14/27 (51.85%)\n",
      "\n"
     ]
    },
    {
     "name": "stderr",
     "output_type": "stream",
     "text": [
      " 20%|█████████████████▊                                                                       | 4.00000000000003/20 [07:01<17:54, 67.19s/it]"
     ]
    },
    {
     "name": "stdout",
     "output_type": "stream",
     "text": [
      "Correct: 85/135 (0.6296)\n",
      "{'acc_unweighted': tensor(0.6506, device='cuda:0'),\n",
      " 'acc_weighted': tensor(0.6296, device='cuda:0'),\n",
      " 'f1s_unweighted': tensor(0.6269, device='cuda:0'),\n",
      " 'f1s_weighted': tensor(0.6333, device='cuda:0'),\n",
      " 'rocauc': tensor(0.8615, device='cuda:0'),\n",
      " 'uar': tensor(0.6506, device='cuda:0'),\n",
      " 'wap': tensor(0.6547, device='cuda:0')}\n",
      "{'acc_detail': tensor([0.7105, 0.7895, 0.5385, 0.5641], device='cuda:0'),\n",
      " 'f1s_detail': tensor([0.7606, 0.5769, 0.5833, 0.5867], device='cuda:0'),\n",
      " 'precision_detail': tensor([0.8182, 0.4545, 0.6364, 0.6111], device='cuda:0'),\n",
      " 'recall_detail': tensor([0.7105, 0.7895, 0.5385, 0.5641], device='cuda:0'),\n",
      " 'rocauc_detail': tensor([0.9520, 0.8943, 0.8331, 0.7666], device='cuda:0')}\n",
      "tensor([[27,  1,  3,  7],\n",
      "        [ 0, 15,  2,  2],\n",
      "        [ 3, 10, 21,  5],\n",
      "        [ 3,  7,  7, 22]], device='cuda:0')\n"
     ]
    },
    {
     "name": "stderr",
     "output_type": "stream",
     "text": [
      " 22%|██████████████████▌                                                                  | 4.379888268156458/20 [07:47<1:20:37, 309.73s/it]"
     ]
    },
    {
     "name": "stdout",
     "output_type": "stream",
     "text": [
      "Epoch: 77\tLoss: 0.000 [perplexity=0.000, loss_vq=0.000, loss_recon=0.000, loss_cls=0.000]\tVal_acc: 15/27 (55.56%)\n",
      "\n"
     ]
    },
    {
     "name": "stderr",
     "output_type": "stream",
     "text": [
      " 25%|██████████████████████                                                                  | 5.000000000000039/20 [08:46<16:40, 66.67s/it]"
     ]
    },
    {
     "name": "stdout",
     "output_type": "stream",
     "text": [
      "Correct: 84/135 (0.6222)\n",
      "{'acc_unweighted': tensor(0.6375, device='cuda:0'),\n",
      " 'acc_weighted': tensor(0.6222, device='cuda:0'),\n",
      " 'f1s_unweighted': tensor(0.6179, device='cuda:0'),\n",
      " 'f1s_weighted': tensor(0.6270, device='cuda:0'),\n",
      " 'rocauc': tensor(0.8617, device='cuda:0'),\n",
      " 'uar': tensor(0.6375, device='cuda:0'),\n",
      " 'wap': tensor(0.6469, device='cuda:0')}\n",
      "{'acc_detail': tensor([0.7105, 0.7368, 0.5385, 0.5641], device='cuda:0'),\n",
      " 'f1s_detail': tensor([0.7606, 0.5490, 0.5753, 0.5867], device='cuda:0'),\n",
      " 'precision_detail': tensor([0.8182, 0.4375, 0.6176, 0.6111], device='cuda:0'),\n",
      " 'recall_detail': tensor([0.7105, 0.7368, 0.5385, 0.5641], device='cuda:0'),\n",
      " 'rocauc_detail': tensor([0.9523, 0.8929, 0.8336, 0.7682], device='cuda:0')}\n",
      "tensor([[27,  1,  3,  7],\n",
      "        [ 0, 14,  3,  2],\n",
      "        [ 3, 10, 21,  5],\n",
      "        [ 3,  7,  7, 22]], device='cuda:0')\n"
     ]
    },
    {
     "name": "stderr",
     "output_type": "stream",
     "text": [
      " 27%|██████████████████████▊                                                              | 5.379888268156467/20 [09:33<1:17:03, 316.21s/it]"
     ]
    },
    {
     "name": "stdout",
     "output_type": "stream",
     "text": [
      "Epoch: 78\tLoss: 0.000 [perplexity=0.000, loss_vq=0.000, loss_recon=0.000, loss_cls=0.000]\tVal_acc: 15/27 (55.56%)\n",
      "\n"
     ]
    },
    {
     "name": "stderr",
     "output_type": "stream",
     "text": [
      " 30%|██████████████████████████▍                                                             | 6.000000000000048/20 [10:31<15:29, 66.42s/it]"
     ]
    },
    {
     "name": "stdout",
     "output_type": "stream",
     "text": [
      "Correct: 85/135 (0.6296)\n",
      "{'acc_unweighted': tensor(0.6506, device='cuda:0'),\n",
      " 'acc_weighted': tensor(0.6296, device='cuda:0'),\n",
      " 'f1s_unweighted': tensor(0.6269, device='cuda:0'),\n",
      " 'f1s_weighted': tensor(0.6333, device='cuda:0'),\n",
      " 'rocauc': tensor(0.8616, device='cuda:0'),\n",
      " 'uar': tensor(0.6506, device='cuda:0'),\n",
      " 'wap': tensor(0.6547, device='cuda:0')}\n",
      "{'acc_detail': tensor([0.7105, 0.7895, 0.5385, 0.5641], device='cuda:0'),\n",
      " 'f1s_detail': tensor([0.7606, 0.5769, 0.5833, 0.5867], device='cuda:0'),\n",
      " 'precision_detail': tensor([0.8182, 0.4545, 0.6364, 0.6111], device='cuda:0'),\n",
      " 'recall_detail': tensor([0.7105, 0.7895, 0.5385, 0.5641], device='cuda:0'),\n",
      " 'rocauc_detail': tensor([0.9525, 0.8931, 0.8324, 0.7684], device='cuda:0')}\n",
      "tensor([[27,  1,  3,  7],\n",
      "        [ 0, 15,  2,  2],\n",
      "        [ 3, 10, 21,  5],\n",
      "        [ 3,  7,  7, 22]], device='cuda:0')\n"
     ]
    },
    {
     "name": "stderr",
     "output_type": "stream",
     "text": [
      " 32%|███████████████████████████                                                          | 6.379888268156476/20 [11:18<1:11:45, 316.12s/it]"
     ]
    },
    {
     "name": "stdout",
     "output_type": "stream",
     "text": [
      "Epoch: 79\tLoss: 0.000 [perplexity=0.000, loss_vq=0.000, loss_recon=0.000, loss_cls=0.000]\tVal_acc: 15/27 (55.56%)\n",
      "\n"
     ]
    },
    {
     "name": "stderr",
     "output_type": "stream",
     "text": [
      " 35%|██████████████████████████████▊                                                         | 7.000000000000057/20 [12:17<14:24, 66.51s/it]"
     ]
    },
    {
     "name": "stdout",
     "output_type": "stream",
     "text": [
      "Correct: 85/135 (0.6296)\n",
      "{'acc_unweighted': tensor(0.6441, device='cuda:0'),\n",
      " 'acc_weighted': tensor(0.6296, device='cuda:0'),\n",
      " 'f1s_unweighted': tensor(0.6243, device='cuda:0'),\n",
      " 'f1s_weighted': tensor(0.6343, device='cuda:0'),\n",
      " 'rocauc': tensor(0.8612, device='cuda:0'),\n",
      " 'uar': tensor(0.6441, device='cuda:0'),\n",
      " 'wap': tensor(0.6536, device='cuda:0')}\n",
      "{'acc_detail': tensor([0.7368, 0.7368, 0.5385, 0.5641], device='cuda:0'),\n",
      " 'f1s_detail': tensor([0.7778, 0.5490, 0.5676, 0.6027], device='cuda:0'),\n",
      " 'precision_detail': tensor([0.8235, 0.4375, 0.6000, 0.6471], device='cuda:0'),\n",
      " 'recall_detail': tensor([0.7368, 0.7368, 0.5385, 0.5641], device='cuda:0'),\n",
      " 'rocauc_detail': tensor([0.9531, 0.8918, 0.8316, 0.7682], device='cuda:0')}\n",
      "tensor([[28,  1,  4,  5],\n",
      "        [ 0, 14,  3,  2],\n",
      "        [ 3, 10, 21,  5],\n",
      "        [ 3,  7,  7, 22]], device='cuda:0')\n"
     ]
    },
    {
     "name": "stderr",
     "output_type": "stream",
     "text": [
      " 37%|███████████████████████████████▎                                                     | 7.379888268156485/20 [13:03<1:07:08, 319.22s/it]"
     ]
    },
    {
     "name": "stdout",
     "output_type": "stream",
     "text": [
      "Epoch: 80\tLoss: 0.000 [perplexity=0.000, loss_vq=0.000, loss_recon=0.000, loss_cls=0.000]\tVal_acc: 15/27 (55.56%)\n",
      "\n"
     ]
    },
    {
     "name": "stderr",
     "output_type": "stream",
     "text": [
      " 40%|███████████████████████████████████▏                                                    | 8.000000000000066/20 [14:02<13:21, 66.83s/it]"
     ]
    },
    {
     "name": "stdout",
     "output_type": "stream",
     "text": [
      "Correct: 85/135 (0.6296)\n",
      "{'acc_unweighted': tensor(0.6441, device='cuda:0'),\n",
      " 'acc_weighted': tensor(0.6296, device='cuda:0'),\n",
      " 'f1s_unweighted': tensor(0.6243, device='cuda:0'),\n",
      " 'f1s_weighted': tensor(0.6343, device='cuda:0'),\n",
      " 'rocauc': tensor(0.8607, device='cuda:0'),\n",
      " 'uar': tensor(0.6441, device='cuda:0'),\n",
      " 'wap': tensor(0.6536, device='cuda:0')}\n",
      "{'acc_detail': tensor([0.7368, 0.7368, 0.5385, 0.5641], device='cuda:0'),\n",
      " 'f1s_detail': tensor([0.7778, 0.5490, 0.5676, 0.6027], device='cuda:0'),\n",
      " 'precision_detail': tensor([0.8235, 0.4375, 0.6000, 0.6471], device='cuda:0'),\n",
      " 'recall_detail': tensor([0.7368, 0.7368, 0.5385, 0.5641], device='cuda:0'),\n",
      " 'rocauc_detail': tensor([0.9504, 0.8929, 0.8309, 0.7684], device='cuda:0')}\n",
      "tensor([[28,  1,  4,  5],\n",
      "        [ 0, 14,  3,  2],\n",
      "        [ 3, 10, 21,  5],\n",
      "        [ 3,  7,  7, 22]], device='cuda:0')\n"
     ]
    },
    {
     "name": "stderr",
     "output_type": "stream",
     "text": [
      " 42%|███████████████████████████████████▌                                                 | 8.379888268156494/20 [14:48<1:00:54, 314.48s/it]"
     ]
    },
    {
     "name": "stdout",
     "output_type": "stream",
     "text": [
      "Epoch: 81\tLoss: 0.000 [perplexity=0.000, loss_vq=0.000, loss_recon=0.000, loss_cls=0.000]\tVal_acc: 15/27 (55.56%)\n",
      "\n"
     ]
    },
    {
     "name": "stderr",
     "output_type": "stream",
     "text": [
      " 45%|███████████████████████████████████████▌                                                | 9.000000000000075/20 [15:47<12:10, 66.40s/it]"
     ]
    },
    {
     "name": "stdout",
     "output_type": "stream",
     "text": [
      "Correct: 84/135 (0.6222)\n",
      "{'acc_unweighted': tensor(0.6377, device='cuda:0'),\n",
      " 'acc_weighted': tensor(0.6222, device='cuda:0'),\n",
      " 'f1s_unweighted': tensor(0.6168, device='cuda:0'),\n",
      " 'f1s_weighted': tensor(0.6257, device='cuda:0'),\n",
      " 'rocauc': tensor(0.8604, device='cuda:0'),\n",
      " 'uar': tensor(0.6377, device='cuda:0'),\n",
      " 'wap': tensor(0.6439, device='cuda:0')}\n",
      "{'acc_detail': tensor([0.7368, 0.7368, 0.5385, 0.5385], device='cuda:0'),\n",
      " 'f1s_detail': tensor([0.7671, 0.5490, 0.5676, 0.5833], device='cuda:0'),\n",
      " 'precision_detail': tensor([0.8000, 0.4375, 0.6000, 0.6364], device='cuda:0'),\n",
      " 'recall_detail': tensor([0.7368, 0.7368, 0.5385, 0.5385], device='cuda:0'),\n",
      " 'rocauc_detail': tensor([0.9504, 0.8920, 0.8299, 0.7694], device='cuda:0')}\n",
      "tensor([[28,  1,  4,  5],\n",
      "        [ 0, 14,  3,  2],\n",
      "        [ 3, 10, 21,  5],\n",
      "        [ 4,  7,  7, 21]], device='cuda:0')\n"
     ]
    },
    {
     "name": "stderr",
     "output_type": "stream",
     "text": [
      " 47%|████████████████████████████████████████▊                                              | 9.379888268156503/20 [16:33<55:23, 312.95s/it]"
     ]
    },
    {
     "name": "stdout",
     "output_type": "stream",
     "text": [
      "Epoch: 82\tLoss: 0.000 [perplexity=0.000, loss_vq=0.000, loss_recon=0.000, loss_cls=0.000]\tVal_acc: 15/27 (55.56%)\n",
      "\n"
     ]
    },
    {
     "name": "stderr",
     "output_type": "stream",
     "text": [
      " 50%|███████████████████████████████████████████▌                                           | 10.000000000000083/20 [17:32<11:01, 66.17s/it]"
     ]
    },
    {
     "name": "stdout",
     "output_type": "stream",
     "text": [
      "Correct: 84/135 (0.6222)\n",
      "{'acc_unweighted': tensor(0.6375, device='cuda:0'),\n",
      " 'acc_weighted': tensor(0.6222, device='cuda:0'),\n",
      " 'f1s_unweighted': tensor(0.6179, device='cuda:0'),\n",
      " 'f1s_weighted': tensor(0.6270, device='cuda:0'),\n",
      " 'rocauc': tensor(0.8604, device='cuda:0'),\n",
      " 'uar': tensor(0.6375, device='cuda:0'),\n",
      " 'wap': tensor(0.6469, device='cuda:0')}\n",
      "{'acc_detail': tensor([0.7105, 0.7368, 0.5385, 0.5641], device='cuda:0'),\n",
      " 'f1s_detail': tensor([0.7606, 0.5490, 0.5753, 0.5867], device='cuda:0'),\n",
      " 'precision_detail': tensor([0.8182, 0.4375, 0.6176, 0.6111], device='cuda:0'),\n",
      " 'recall_detail': tensor([0.7105, 0.7368, 0.5385, 0.5641], device='cuda:0'),\n",
      " 'rocauc_detail': tensor([0.9518, 0.8934, 0.8307, 0.7658], device='cuda:0')}\n",
      "tensor([[27,  1,  3,  7],\n",
      "        [ 0, 14,  3,  2],\n",
      "        [ 3, 10, 21,  5],\n",
      "        [ 3,  7,  7, 22]], device='cuda:0')\n"
     ]
    },
    {
     "name": "stderr",
     "output_type": "stream",
     "text": [
      " 52%|████████████████████████████████████████████▋                                         | 10.379888268156511/20 [18:18<51:22, 320.46s/it]"
     ]
    },
    {
     "name": "stdout",
     "output_type": "stream",
     "text": [
      "Epoch: 83\tLoss: 0.000 [perplexity=0.000, loss_vq=0.000, loss_recon=0.000, loss_cls=0.000]\tVal_acc: 18/27 (66.67%)\n",
      "\n"
     ]
    },
    {
     "name": "stderr",
     "output_type": "stream",
     "text": [
      " 55%|███████████████████████████████████████████████▊                                       | 11.000000000000092/20 [19:17<10:03, 67.08s/it]"
     ]
    },
    {
     "name": "stdout",
     "output_type": "stream",
     "text": [
      "Correct: 79/135 (0.5852)\n",
      "{'acc_unweighted': tensor(0.5911, device='cuda:0'),\n",
      " 'acc_weighted': tensor(0.5852, device='cuda:0'),\n",
      " 'f1s_unweighted': tensor(0.5809, device='cuda:0'),\n",
      " 'f1s_weighted': tensor(0.5871, device='cuda:0'),\n",
      " 'rocauc': tensor(0.8239, device='cuda:0'),\n",
      " 'uar': tensor(0.5911, device='cuda:0'),\n",
      " 'wap': tensor(0.6395, device='cuda:0')}\n",
      "{'acc_detail': tensor([0.5789, 0.6316, 0.7436, 0.4103], device='cuda:0'),\n",
      " 'f1s_detail': tensor([0.6984, 0.5333, 0.5918, 0.5000], device='cuda:0'),\n",
      " 'precision_detail': tensor([0.8800, 0.4615, 0.4915, 0.6400], device='cuda:0'),\n",
      " 'recall_detail': tensor([0.5789, 0.6316, 0.7436, 0.4103], device='cuda:0'),\n",
      " 'rocauc_detail': tensor([0.9224, 0.8748, 0.7946, 0.7039], device='cuda:0')}\n",
      "tensor([[22,  1,  9,  6],\n",
      "        [ 0, 12,  7,  0],\n",
      "        [ 0,  7, 29,  3],\n",
      "        [ 3,  6, 14, 16]], device='cuda:0')\n"
     ]
    },
    {
     "name": "stderr",
     "output_type": "stream",
     "text": [
      " 57%|█████████████████████████████████████████████████▌                                     | 11.37988826815652/20 [20:03<45:37, 317.56s/it]"
     ]
    },
    {
     "name": "stdout",
     "output_type": "stream",
     "text": [
      "Epoch: 84\tLoss: 0.000 [perplexity=0.000, loss_vq=0.000, loss_recon=0.000, loss_cls=0.000]\tVal_acc: 17/27 (62.96%)\n",
      "\n"
     ]
    },
    {
     "name": "stderr",
     "output_type": "stream",
     "text": [
      " 60%|████████████████████████████████████████████████████▏                                  | 12.000000000000101/20 [21:03<08:55, 66.98s/it]"
     ]
    },
    {
     "name": "stdout",
     "output_type": "stream",
     "text": [
      "Correct: 85/135 (0.6296)\n",
      "{'acc_unweighted': tensor(0.6646, device='cuda:0'),\n",
      " 'acc_weighted': tensor(0.6296, device='cuda:0'),\n",
      " 'f1s_unweighted': tensor(0.6219, device='cuda:0'),\n",
      " 'f1s_weighted': tensor(0.6289, device='cuda:0'),\n",
      " 'rocauc': tensor(0.8533, device='cuda:0'),\n",
      " 'uar': tensor(0.6646, device='cuda:0'),\n",
      " 'wap': tensor(0.6761, device='cuda:0')}\n",
      "{'acc_detail': tensor([0.7895, 0.8947, 0.4872, 0.4872], device='cuda:0'),\n",
      " 'f1s_detail': tensor([0.7692, 0.5667, 0.5758, 0.5758], device='cuda:0'),\n",
      " 'precision_detail': tensor([0.7500, 0.4146, 0.7037, 0.7037], device='cuda:0'),\n",
      " 'recall_detail': tensor([0.7895, 0.8947, 0.4872, 0.4872], device='cuda:0'),\n",
      " 'rocauc_detail': tensor([0.9487, 0.8827, 0.8145, 0.7674], device='cuda:0')}\n",
      "tensor([[30,  2,  2,  4],\n",
      "        [ 0, 17,  1,  1],\n",
      "        [ 6, 11, 19,  3],\n",
      "        [ 4, 11,  5, 19]], device='cuda:0')\n"
     ]
    },
    {
     "name": "stderr",
     "output_type": "stream",
     "text": [
      " 62%|█████████████████████████████████████████████████████▊                                 | 12.37988826815653/20 [21:50<40:13, 316.70s/it]"
     ]
    },
    {
     "name": "stdout",
     "output_type": "stream",
     "text": [
      "Epoch: 85\tLoss: 0.000 [perplexity=0.000, loss_vq=0.000, loss_recon=0.000, loss_cls=0.000]\tVal_acc: 17/27 (62.96%)\n",
      "\n"
     ]
    },
    {
     "name": "stderr",
     "output_type": "stream",
     "text": [
      " 65%|█████████████████████████████████████████████████████████▏                              | 13.00000000000011/20 [22:49<07:49, 67.00s/it]"
     ]
    },
    {
     "name": "stdout",
     "output_type": "stream",
     "text": [
      "Correct: 81/135 (0.6000)\n",
      "{'acc_unweighted': tensor(0.5648, device='cuda:0'),\n",
      " 'acc_weighted': tensor(0.6000, device='cuda:0'),\n",
      " 'f1s_unweighted': tensor(0.5653, device='cuda:0'),\n",
      " 'f1s_weighted': tensor(0.5953, device='cuda:0'),\n",
      " 'rocauc': tensor(0.8552, device='cuda:0'),\n",
      " 'uar': tensor(0.5648, device='cuda:0'),\n",
      " 'wap': tensor(0.5949, device='cuda:0')}\n",
      "{'acc_detail': tensor([0.7895, 0.3158, 0.5641, 0.5897], device='cuda:0'),\n",
      " 'f1s_detail': tensor([0.7595, 0.3529, 0.5946, 0.5542], device='cuda:0'),\n",
      " 'precision_detail': tensor([0.7317, 0.4000, 0.6286, 0.5227], device='cuda:0'),\n",
      " 'recall_detail': tensor([0.7895, 0.3158, 0.5641, 0.5897], device='cuda:0'),\n",
      " 'rocauc_detail': tensor([0.9398, 0.8827, 0.8323, 0.7660], device='cuda:0')}\n",
      "tensor([[30,  0,  3,  5],\n",
      "        [ 2,  6,  4,  7],\n",
      "        [ 3,  5, 22,  9],\n",
      "        [ 6,  4,  6, 23]], device='cuda:0')\n"
     ]
    },
    {
     "name": "stderr",
     "output_type": "stream",
     "text": [
      " 67%|█████████████████████████████████████████████████████████▌                            | 13.379888268156538/20 [23:35<35:07, 318.38s/it]"
     ]
    },
    {
     "name": "stdout",
     "output_type": "stream",
     "text": [
      "Epoch: 86\tLoss: 0.000 [perplexity=0.000, loss_vq=0.000, loss_recon=0.000, loss_cls=0.000]\tVal_acc: 14/27 (51.85%)\n",
      "\n"
     ]
    },
    {
     "name": "stderr",
     "output_type": "stream",
     "text": [
      " 70%|████████████████████████████████████████████████████████████▉                          | 14.000000000000119/20 [24:34<06:41, 66.95s/it]"
     ]
    },
    {
     "name": "stdout",
     "output_type": "stream",
     "text": [
      "Correct: 82/135 (0.6074)\n",
      "{'acc_unweighted': tensor(0.5972, device='cuda:0'),\n",
      " 'acc_weighted': tensor(0.6074, device='cuda:0'),\n",
      " 'f1s_unweighted': tensor(0.5961, device='cuda:0'),\n",
      " 'f1s_weighted': tensor(0.6161, device='cuda:0'),\n",
      " 'rocauc': tensor(0.8461, device='cuda:0'),\n",
      " 'uar': tensor(0.5972, device='cuda:0'),\n",
      " 'wap': tensor(0.6490, device='cuda:0')}\n",
      "{'acc_detail': tensor([0.6316, 0.5263, 0.6923, 0.5385], device='cuda:0'),\n",
      " 'f1s_detail': tensor([0.7385, 0.4545, 0.6000, 0.5915], device='cuda:0'),\n",
      " 'precision_detail': tensor([0.8889, 0.4000, 0.5294, 0.6562], device='cuda:0'),\n",
      " 'recall_detail': tensor([0.6316, 0.5263, 0.6923, 0.5385], device='cuda:0'),\n",
      " 'rocauc_detail': tensor([0.9391, 0.8686, 0.8263, 0.7504], device='cuda:0')}\n",
      "tensor([[24,  1,  8,  5],\n",
      "        [ 0, 10,  8,  1],\n",
      "        [ 0,  7, 27,  5],\n",
      "        [ 3,  7,  8, 21]], device='cuda:0')\n"
     ]
    },
    {
     "name": "stderr",
     "output_type": "stream",
     "text": [
      " 72%|█████████████████████████████████████████████████████████████▊                        | 14.379888268156547/20 [25:20<29:42, 317.15s/it]"
     ]
    },
    {
     "name": "stdout",
     "output_type": "stream",
     "text": [
      "Epoch: 87\tLoss: 0.000 [perplexity=0.000, loss_vq=0.000, loss_recon=0.000, loss_cls=0.000]\tVal_acc: 15/27 (55.56%)\n",
      "\n"
     ]
    },
    {
     "name": "stderr",
     "output_type": "stream",
     "text": [
      " 75%|█████████████████████████████████████████████████████████████████▎                     | 15.000000000000128/20 [26:19<05:34, 66.88s/it]"
     ]
    },
    {
     "name": "stdout",
     "output_type": "stream",
     "text": [
      "Correct: 88/135 (0.6519)\n",
      "Saved new best test model: ../scb16_models/ravdess/run1/model.epoch=87.step=8669.test_acc=0.6519.pt\n",
      "{'acc_unweighted': tensor(0.6770, device='cuda:0'),\n",
      " 'acc_weighted': tensor(0.6519, device='cuda:0'),\n",
      " 'f1s_unweighted': tensor(0.6479, device='cuda:0'),\n",
      " 'f1s_weighted': tensor(0.6550, device='cuda:0'),\n",
      " 'rocauc': tensor(0.8560, device='cuda:0'),\n",
      " 'uar': tensor(0.6770, device='cuda:0'),\n",
      " 'wap': tensor(0.6833, device='cuda:0')}\n",
      "{'acc_detail': tensor([0.7632, 0.8421, 0.5385, 0.5641], device='cuda:0'),\n",
      " 'f1s_detail': tensor([0.7945, 0.5926, 0.6176, 0.5867], device='cuda:0'),\n",
      " 'precision_detail': tensor([0.8286, 0.4571, 0.7241, 0.6111], device='cuda:0'),\n",
      " 'recall_detail': tensor([0.7632, 0.8421, 0.5385, 0.5641], device='cuda:0'),\n",
      " 'rocauc_detail': tensor([0.9452, 0.8902, 0.8221, 0.7663], device='cuda:0')}\n",
      "tensor([[29,  1,  1,  7],\n",
      "        [ 1, 16,  1,  1],\n",
      "        [ 2, 10, 21,  6],\n",
      "        [ 3,  8,  6, 22]], device='cuda:0')\n"
     ]
    },
    {
     "name": "stderr",
     "output_type": "stream",
     "text": [
      " 77%|██████████████████████████████████████████████████████████████████▏                   | 15.379888268156556/20 [27:06<24:23, 316.77s/it]"
     ]
    },
    {
     "name": "stdout",
     "output_type": "stream",
     "text": [
      "Epoch: 88\tLoss: 0.000 [perplexity=0.000, loss_vq=0.000, loss_recon=0.000, loss_cls=0.000]\tVal_acc: 17/27 (62.96%)\n",
      "\n"
     ]
    },
    {
     "name": "stderr",
     "output_type": "stream",
     "text": [
      " 80%|█████████████████████████████████████████████████████████████████████▌                 | 16.000000000000135/20 [28:04<04:27, 66.83s/it]"
     ]
    },
    {
     "name": "stdout",
     "output_type": "stream",
     "text": [
      "Correct: 85/135 (0.6296)\n",
      "{'acc_unweighted': tensor(0.6240, device='cuda:0'),\n",
      " 'acc_weighted': tensor(0.6296, device='cuda:0'),\n",
      " 'f1s_unweighted': tensor(0.6177, device='cuda:0'),\n",
      " 'f1s_weighted': tensor(0.6322, device='cuda:0'),\n",
      " 'rocauc': tensor(0.8571, device='cuda:0'),\n",
      " 'uar': tensor(0.6240, device='cuda:0'),\n",
      " 'wap': tensor(0.6376, device='cuda:0')}\n",
      "{'acc_detail': tensor([0.7632, 0.5789, 0.6154, 0.5385], device='cuda:0'),\n",
      " 'f1s_detail': tensor([0.7838, 0.5116, 0.6154, 0.5600], device='cuda:0'),\n",
      " 'precision_detail': tensor([0.8056, 0.4583, 0.6154, 0.5833], device='cuda:0'),\n",
      " 'recall_detail': tensor([0.7632, 0.5789, 0.6154, 0.5385], device='cuda:0'),\n",
      " 'rocauc_detail': tensor([0.9490, 0.8879, 0.8277, 0.7636], device='cuda:0')}\n",
      "tensor([[29,  1,  3,  5],\n",
      "        [ 1, 11,  4,  3],\n",
      "        [ 2,  6, 24,  7],\n",
      "        [ 4,  6,  8, 21]], device='cuda:0')\n"
     ]
    },
    {
     "name": "stderr",
     "output_type": "stream",
     "text": [
      " 82%|██████████████████████████████████████████████████████████████████████▍               | 16.379888268156442/20 [28:51<19:10, 317.92s/it]"
     ]
    },
    {
     "name": "stdout",
     "output_type": "stream",
     "text": [
      "Epoch: 89\tLoss: 0.000 [perplexity=0.000, loss_vq=0.000, loss_recon=0.000, loss_cls=0.000]\tVal_acc: 17/27 (62.96%)\n",
      "\n"
     ]
    },
    {
     "name": "stderr",
     "output_type": "stream",
     "text": [
      " 85%|█████████████████████████████████████████████████████████████████████████▉             | 16.999999999999826/20 [29:50<03:23, 67.92s/it]"
     ]
    },
    {
     "name": "stdout",
     "output_type": "stream",
     "text": [
      "Correct: 85/135 (0.6296)\n",
      "{'acc_unweighted': tensor(0.6240, device='cuda:0'),\n",
      " 'acc_weighted': tensor(0.6296, device='cuda:0'),\n",
      " 'f1s_unweighted': tensor(0.6177, device='cuda:0'),\n",
      " 'f1s_weighted': tensor(0.6322, device='cuda:0'),\n",
      " 'rocauc': tensor(0.8571, device='cuda:0'),\n",
      " 'uar': tensor(0.6240, device='cuda:0'),\n",
      " 'wap': tensor(0.6376, device='cuda:0')}\n",
      "{'acc_detail': tensor([0.7632, 0.5789, 0.6154, 0.5385], device='cuda:0'),\n",
      " 'f1s_detail': tensor([0.7838, 0.5116, 0.6154, 0.5600], device='cuda:0'),\n",
      " 'precision_detail': tensor([0.8056, 0.4583, 0.6154, 0.5833], device='cuda:0'),\n",
      " 'recall_detail': tensor([0.7632, 0.5789, 0.6154, 0.5385], device='cuda:0'),\n",
      " 'rocauc_detail': tensor([0.9498, 0.8879, 0.8277, 0.7631], device='cuda:0')}\n",
      "tensor([[29,  1,  3,  5],\n",
      "        [ 1, 11,  4,  3],\n",
      "        [ 2,  6, 24,  7],\n",
      "        [ 4,  6,  8, 21]], device='cuda:0')\n"
     ]
    },
    {
     "name": "stderr",
     "output_type": "stream",
     "text": [
      " 87%|██████████████████████████████████████████████████████████████████████████▋           | 17.379888268156133/20 [30:37<13:41, 313.47s/it]"
     ]
    },
    {
     "name": "stdout",
     "output_type": "stream",
     "text": [
      "Epoch: 90\tLoss: 0.000 [perplexity=0.000, loss_vq=0.000, loss_recon=0.000, loss_cls=0.000]\tVal_acc: 17/27 (62.96%)\n",
      "\n"
     ]
    },
    {
     "name": "stderr",
     "output_type": "stream",
     "text": [
      " 90%|██████████████████████████████████████████████████████████████████████████████▎        | 17.999999999999517/20 [31:37<02:17, 68.65s/it]"
     ]
    },
    {
     "name": "stdout",
     "output_type": "stream",
     "text": [
      "Correct: 86/135 (0.6370)\n",
      "{'acc_unweighted': tensor(0.6371, device='cuda:0'),\n",
      " 'acc_weighted': tensor(0.6370, device='cuda:0'),\n",
      " 'f1s_unweighted': tensor(0.6270, device='cuda:0'),\n",
      " 'f1s_weighted': tensor(0.6397, device='cuda:0'),\n",
      " 'rocauc': tensor(0.8572, device='cuda:0'),\n",
      " 'uar': tensor(0.6371, device='cuda:0'),\n",
      " 'wap': tensor(0.6475, device='cuda:0')}\n",
      "{'acc_detail': tensor([0.7632, 0.6316, 0.6154, 0.5385], device='cuda:0'),\n",
      " 'f1s_detail': tensor([0.7838, 0.5333, 0.6234, 0.5676], device='cuda:0'),\n",
      " 'precision_detail': tensor([0.8056, 0.4615, 0.6316, 0.6000], device='cuda:0'),\n",
      " 'recall_detail': tensor([0.7632, 0.6316, 0.6154, 0.5385], device='cuda:0'),\n",
      " 'rocauc_detail': tensor([0.9501, 0.8884, 0.8285, 0.7618], device='cuda:0')}\n",
      "tensor([[29,  1,  3,  5],\n",
      "        [ 1, 12,  4,  2],\n",
      "        [ 2,  6, 24,  7],\n",
      "        [ 4,  7,  7, 21]], device='cuda:0')\n"
     ]
    },
    {
     "name": "stderr",
     "output_type": "stream",
     "text": [
      " 91%|██████████████████████████████████████████████████████████████████████████████        | 18.167597765362594/20 [31:56<03:37, 118.56s/it]Exception ignored in: <bound method IPythonKernel._clean_thread_parent_frames of <ipykernel.ipkernel.IPythonKernel object at 0x7572eae31070>>\n",
      "Traceback (most recent call last):\n",
      "  File \"/opt/anaconda3/envs/audio/lib/python3.9/site-packages/ipykernel/ipkernel.py\", line 770, in _clean_thread_parent_frames\n",
      "    def _clean_thread_parent_frames(\n",
      "KeyboardInterrupt: \n",
      " 91%|██████████████████████████████████████████████████████████████████████████████▏       | 18.173184357541363/20 [31:56<03:12, 105.48s/it]\n"
     ]
    },
    {
     "ename": "RuntimeError",
     "evalue": "DataLoader worker (pid(s) 3061158, 3061166, 3061174, 3061182, 3061190, 3061198, 3061206, 3061214) exited unexpectedly",
     "output_type": "error",
     "traceback": [
      "\u001b[0;31m---------------------------------------------------------------------------\u001b[0m",
      "\u001b[0;31mFileNotFoundError\u001b[0m                         Traceback (most recent call last)",
      "File \u001b[0;32m/opt/anaconda3/envs/audio/lib/python3.9/site-packages/torch/utils/data/dataloader.py:1132\u001b[0m, in \u001b[0;36m_MultiProcessingDataLoaderIter._try_get_data\u001b[0;34m(self, timeout)\u001b[0m\n\u001b[1;32m   1131\u001b[0m \u001b[38;5;28;01mtry\u001b[39;00m:\n\u001b[0;32m-> 1132\u001b[0m     data \u001b[38;5;241m=\u001b[39m \u001b[38;5;28;43mself\u001b[39;49m\u001b[38;5;241;43m.\u001b[39;49m\u001b[43m_data_queue\u001b[49m\u001b[38;5;241;43m.\u001b[39;49m\u001b[43mget\u001b[49m\u001b[43m(\u001b[49m\u001b[43mtimeout\u001b[49m\u001b[38;5;241;43m=\u001b[39;49m\u001b[43mtimeout\u001b[49m\u001b[43m)\u001b[49m\n\u001b[1;32m   1133\u001b[0m     \u001b[38;5;28;01mreturn\u001b[39;00m (\u001b[38;5;28;01mTrue\u001b[39;00m, data)\n",
      "File \u001b[0;32m/opt/anaconda3/envs/audio/lib/python3.9/multiprocessing/queues.py:122\u001b[0m, in \u001b[0;36mQueue.get\u001b[0;34m(self, block, timeout)\u001b[0m\n\u001b[1;32m    121\u001b[0m \u001b[38;5;66;03m# unserialize the data after having released the lock\u001b[39;00m\n\u001b[0;32m--> 122\u001b[0m \u001b[38;5;28;01mreturn\u001b[39;00m \u001b[43m_ForkingPickler\u001b[49m\u001b[38;5;241;43m.\u001b[39;49m\u001b[43mloads\u001b[49m\u001b[43m(\u001b[49m\u001b[43mres\u001b[49m\u001b[43m)\u001b[49m\n",
      "File \u001b[0;32m/opt/anaconda3/envs/audio/lib/python3.9/site-packages/torch/multiprocessing/reductions.py:355\u001b[0m, in \u001b[0;36mrebuild_storage_fd\u001b[0;34m(cls, df, size)\u001b[0m\n\u001b[1;32m    354\u001b[0m \u001b[38;5;28;01mdef\u001b[39;00m \u001b[38;5;21mrebuild_storage_fd\u001b[39m(\u001b[38;5;28mcls\u001b[39m, df, size):\n\u001b[0;32m--> 355\u001b[0m     fd \u001b[38;5;241m=\u001b[39m \u001b[43mdf\u001b[49m\u001b[38;5;241;43m.\u001b[39;49m\u001b[43mdetach\u001b[49m\u001b[43m(\u001b[49m\u001b[43m)\u001b[49m\n\u001b[1;32m    356\u001b[0m     \u001b[38;5;28;01mtry\u001b[39;00m:\n",
      "File \u001b[0;32m/opt/anaconda3/envs/audio/lib/python3.9/multiprocessing/resource_sharer.py:57\u001b[0m, in \u001b[0;36mDupFd.detach\u001b[0;34m(self)\u001b[0m\n\u001b[1;32m     56\u001b[0m \u001b[38;5;250m\u001b[39m\u001b[38;5;124;03m'''Get the fd.  This should only be called once.'''\u001b[39;00m\n\u001b[0;32m---> 57\u001b[0m \u001b[38;5;28;01mwith\u001b[39;00m \u001b[43m_resource_sharer\u001b[49m\u001b[38;5;241;43m.\u001b[39;49m\u001b[43mget_connection\u001b[49m\u001b[43m(\u001b[49m\u001b[38;5;28;43mself\u001b[39;49m\u001b[38;5;241;43m.\u001b[39;49m\u001b[43m_id\u001b[49m\u001b[43m)\u001b[49m \u001b[38;5;28;01mas\u001b[39;00m conn:\n\u001b[1;32m     58\u001b[0m     \u001b[38;5;28;01mreturn\u001b[39;00m reduction\u001b[38;5;241m.\u001b[39mrecv_handle(conn)\n",
      "File \u001b[0;32m/opt/anaconda3/envs/audio/lib/python3.9/multiprocessing/resource_sharer.py:86\u001b[0m, in \u001b[0;36m_ResourceSharer.get_connection\u001b[0;34m(ident)\u001b[0m\n\u001b[1;32m     85\u001b[0m address, key \u001b[38;5;241m=\u001b[39m ident\n\u001b[0;32m---> 86\u001b[0m c \u001b[38;5;241m=\u001b[39m \u001b[43mClient\u001b[49m\u001b[43m(\u001b[49m\u001b[43maddress\u001b[49m\u001b[43m,\u001b[49m\u001b[43m \u001b[49m\u001b[43mauthkey\u001b[49m\u001b[38;5;241;43m=\u001b[39;49m\u001b[43mprocess\u001b[49m\u001b[38;5;241;43m.\u001b[39;49m\u001b[43mcurrent_process\u001b[49m\u001b[43m(\u001b[49m\u001b[43m)\u001b[49m\u001b[38;5;241;43m.\u001b[39;49m\u001b[43mauthkey\u001b[49m\u001b[43m)\u001b[49m\n\u001b[1;32m     87\u001b[0m c\u001b[38;5;241m.\u001b[39msend((key, os\u001b[38;5;241m.\u001b[39mgetpid()))\n",
      "File \u001b[0;32m/opt/anaconda3/envs/audio/lib/python3.9/multiprocessing/connection.py:502\u001b[0m, in \u001b[0;36mClient\u001b[0;34m(address, family, authkey)\u001b[0m\n\u001b[1;32m    501\u001b[0m \u001b[38;5;28;01melse\u001b[39;00m:\n\u001b[0;32m--> 502\u001b[0m     c \u001b[38;5;241m=\u001b[39m \u001b[43mSocketClient\u001b[49m\u001b[43m(\u001b[49m\u001b[43maddress\u001b[49m\u001b[43m)\u001b[49m\n\u001b[1;32m    504\u001b[0m \u001b[38;5;28;01mif\u001b[39;00m authkey \u001b[38;5;129;01mis\u001b[39;00m \u001b[38;5;129;01mnot\u001b[39;00m \u001b[38;5;28;01mNone\u001b[39;00m \u001b[38;5;129;01mand\u001b[39;00m \u001b[38;5;129;01mnot\u001b[39;00m \u001b[38;5;28misinstance\u001b[39m(authkey, \u001b[38;5;28mbytes\u001b[39m):\n",
      "File \u001b[0;32m/opt/anaconda3/envs/audio/lib/python3.9/multiprocessing/connection.py:630\u001b[0m, in \u001b[0;36mSocketClient\u001b[0;34m(address)\u001b[0m\n\u001b[1;32m    629\u001b[0m s\u001b[38;5;241m.\u001b[39msetblocking(\u001b[38;5;28;01mTrue\u001b[39;00m)\n\u001b[0;32m--> 630\u001b[0m \u001b[43ms\u001b[49m\u001b[38;5;241;43m.\u001b[39;49m\u001b[43mconnect\u001b[49m\u001b[43m(\u001b[49m\u001b[43maddress\u001b[49m\u001b[43m)\u001b[49m\n\u001b[1;32m    631\u001b[0m \u001b[38;5;28;01mreturn\u001b[39;00m Connection(s\u001b[38;5;241m.\u001b[39mdetach())\n",
      "\u001b[0;31mFileNotFoundError\u001b[0m: [Errno 2] No such file or directory",
      "\nThe above exception was the direct cause of the following exception:\n",
      "\u001b[0;31mRuntimeError\u001b[0m                              Traceback (most recent call last)",
      "Cell \u001b[0;32mIn[44], line 1\u001b[0m\n\u001b[0;32m----> 1\u001b[0m \u001b[43mtrainer\u001b[49m\u001b[38;5;241;43m.\u001b[39;49m\u001b[43mfit\u001b[49m\u001b[43m(\u001b[49m\u001b[43mn_epoch\u001b[49m\u001b[38;5;241;43m=\u001b[39;49m\u001b[38;5;241;43m20\u001b[39;49m\u001b[43m,\u001b[49m\u001b[43m \u001b[49m\u001b[43mself_supervised\u001b[49m\u001b[38;5;241;43m=\u001b[39;49m\u001b[38;5;28;43;01mFalse\u001b[39;49;00m\u001b[43m,\u001b[49m\u001b[43m \u001b[49m\u001b[43mtrain_task\u001b[49m\u001b[38;5;241;43m=\u001b[39;49m\u001b[38;5;124;43m'\u001b[39;49m\u001b[38;5;124;43membedding\u001b[39;49m\u001b[38;5;124;43m'\u001b[39;49m\u001b[43m,\u001b[49m\u001b[43m \u001b[49m\u001b[43mtest_n_epoch\u001b[49m\u001b[38;5;241;43m=\u001b[39;49m\u001b[38;5;241;43m1\u001b[39;49m\u001b[43m)\u001b[49m\n",
      "File \u001b[0;32m~/projects/IConNet/IConNet/trainer/train_torch.py:393\u001b[0m, in \u001b[0;36mTrainer.fit\u001b[0;34m(self, n_epoch, self_supervised, train_task, contrastive_learning, loss_ratio, lr, test_n_epoch)\u001b[0m\n\u001b[1;32m    391\u001b[0m \u001b[38;5;28;01mfor\u001b[39;00m epoch \u001b[38;5;129;01min\u001b[39;00m \u001b[38;5;28mrange\u001b[39m(n_epoch):\n\u001b[1;32m    392\u001b[0m     \u001b[38;5;28mself\u001b[39m\u001b[38;5;241m.\u001b[39mcurrent_epoch \u001b[38;5;241m+\u001b[39m\u001b[38;5;241m=\u001b[39m \u001b[38;5;241m1\u001b[39m\n\u001b[0;32m--> 393\u001b[0m     \u001b[38;5;28;43mself\u001b[39;49m\u001b[38;5;241;43m.\u001b[39;49m\u001b[43mtrain_step\u001b[49m\u001b[43m(\u001b[49m\n\u001b[1;32m    394\u001b[0m \u001b[43m        \u001b[49m\u001b[43mself_supervised\u001b[49m\u001b[38;5;241;43m=\u001b[39;49m\u001b[43mself_supervised\u001b[49m\u001b[43m,\u001b[49m\u001b[43m \u001b[49m\n\u001b[1;32m    395\u001b[0m \u001b[43m        \u001b[49m\u001b[43mtrain_task\u001b[49m\u001b[38;5;241;43m=\u001b[39;49m\u001b[43mtrain_task\u001b[49m\u001b[43m)\u001b[49m\n\u001b[1;32m    397\u001b[0m     is_test_epoch \u001b[38;5;241m=\u001b[39m (test_n_epoch \u001b[38;5;129;01mis\u001b[39;00m \u001b[38;5;129;01mnot\u001b[39;00m \u001b[38;5;28;01mNone\u001b[39;00m \u001b[38;5;129;01mand\u001b[39;00m test_n_epoch \u001b[38;5;241m>\u001b[39m \u001b[38;5;241m0\u001b[39m \u001b[38;5;129;01mand\u001b[39;00m epoch \u001b[38;5;241m%\u001b[39m test_n_epoch \u001b[38;5;241m==\u001b[39m \u001b[38;5;241m0\u001b[39m)\n\u001b[1;32m    398\u001b[0m     \u001b[38;5;28;01mif\u001b[39;00m is_test_epoch \u001b[38;5;129;01mand\u001b[39;00m self_supervised \u001b[38;5;241m==\u001b[39m \u001b[38;5;28;01mTrue\u001b[39;00m:\n",
      "File \u001b[0;32m~/projects/IConNet/IConNet/trainer/train_torch.py:159\u001b[0m, in \u001b[0;36mTrainer.train_step\u001b[0;34m(self, self_supervised, train_task)\u001b[0m\n\u001b[1;32m    157\u001b[0m \u001b[38;5;28mself\u001b[39m\u001b[38;5;241m.\u001b[39mmodel\u001b[38;5;241m.\u001b[39mtrain()\n\u001b[1;32m    158\u001b[0m losses_detail: \u001b[38;5;28mlist\u001b[39m[Union[VqVaeClsLoss, AudioVQMixClsLoss]] \u001b[38;5;241m=\u001b[39m []\n\u001b[0;32m--> 159\u001b[0m \u001b[38;5;28;01mfor\u001b[39;00m batch_idx, (data, target) \u001b[38;5;129;01min\u001b[39;00m \u001b[38;5;28menumerate\u001b[39m(\u001b[38;5;28mself\u001b[39m\u001b[38;5;241m.\u001b[39mtrain_loader):\n\u001b[1;32m    160\u001b[0m     _mem_before \u001b[38;5;241m=\u001b[39m torch\u001b[38;5;241m.\u001b[39mcuda\u001b[38;5;241m.\u001b[39mmemory_allocated()\n\u001b[1;32m    161\u001b[0m     data \u001b[38;5;241m=\u001b[39m data\u001b[38;5;241m.\u001b[39mto(device)\n",
      "File \u001b[0;32m/opt/anaconda3/envs/audio/lib/python3.9/site-packages/torch/utils/data/dataloader.py:630\u001b[0m, in \u001b[0;36m_BaseDataLoaderIter.__next__\u001b[0;34m(self)\u001b[0m\n\u001b[1;32m    627\u001b[0m \u001b[38;5;28;01mif\u001b[39;00m \u001b[38;5;28mself\u001b[39m\u001b[38;5;241m.\u001b[39m_sampler_iter \u001b[38;5;129;01mis\u001b[39;00m \u001b[38;5;28;01mNone\u001b[39;00m:\n\u001b[1;32m    628\u001b[0m     \u001b[38;5;66;03m# TODO(https://github.com/pytorch/pytorch/issues/76750)\u001b[39;00m\n\u001b[1;32m    629\u001b[0m     \u001b[38;5;28mself\u001b[39m\u001b[38;5;241m.\u001b[39m_reset()  \u001b[38;5;66;03m# type: ignore[call-arg]\u001b[39;00m\n\u001b[0;32m--> 630\u001b[0m data \u001b[38;5;241m=\u001b[39m \u001b[38;5;28;43mself\u001b[39;49m\u001b[38;5;241;43m.\u001b[39;49m\u001b[43m_next_data\u001b[49m\u001b[43m(\u001b[49m\u001b[43m)\u001b[49m\n\u001b[1;32m    631\u001b[0m \u001b[38;5;28mself\u001b[39m\u001b[38;5;241m.\u001b[39m_num_yielded \u001b[38;5;241m+\u001b[39m\u001b[38;5;241m=\u001b[39m \u001b[38;5;241m1\u001b[39m\n\u001b[1;32m    632\u001b[0m \u001b[38;5;28;01mif\u001b[39;00m \u001b[38;5;28mself\u001b[39m\u001b[38;5;241m.\u001b[39m_dataset_kind \u001b[38;5;241m==\u001b[39m _DatasetKind\u001b[38;5;241m.\u001b[39mIterable \u001b[38;5;129;01mand\u001b[39;00m \\\n\u001b[1;32m    633\u001b[0m         \u001b[38;5;28mself\u001b[39m\u001b[38;5;241m.\u001b[39m_IterableDataset_len_called \u001b[38;5;129;01mis\u001b[39;00m \u001b[38;5;129;01mnot\u001b[39;00m \u001b[38;5;28;01mNone\u001b[39;00m \u001b[38;5;129;01mand\u001b[39;00m \\\n\u001b[1;32m    634\u001b[0m         \u001b[38;5;28mself\u001b[39m\u001b[38;5;241m.\u001b[39m_num_yielded \u001b[38;5;241m>\u001b[39m \u001b[38;5;28mself\u001b[39m\u001b[38;5;241m.\u001b[39m_IterableDataset_len_called:\n",
      "File \u001b[0;32m/opt/anaconda3/envs/audio/lib/python3.9/site-packages/torch/utils/data/dataloader.py:1328\u001b[0m, in \u001b[0;36m_MultiProcessingDataLoaderIter._next_data\u001b[0;34m(self)\u001b[0m\n\u001b[1;32m   1325\u001b[0m     \u001b[38;5;28;01mreturn\u001b[39;00m \u001b[38;5;28mself\u001b[39m\u001b[38;5;241m.\u001b[39m_process_data(data)\n\u001b[1;32m   1327\u001b[0m \u001b[38;5;28;01massert\u001b[39;00m \u001b[38;5;129;01mnot\u001b[39;00m \u001b[38;5;28mself\u001b[39m\u001b[38;5;241m.\u001b[39m_shutdown \u001b[38;5;129;01mand\u001b[39;00m \u001b[38;5;28mself\u001b[39m\u001b[38;5;241m.\u001b[39m_tasks_outstanding \u001b[38;5;241m>\u001b[39m \u001b[38;5;241m0\u001b[39m\n\u001b[0;32m-> 1328\u001b[0m idx, data \u001b[38;5;241m=\u001b[39m \u001b[38;5;28;43mself\u001b[39;49m\u001b[38;5;241;43m.\u001b[39;49m\u001b[43m_get_data\u001b[49m\u001b[43m(\u001b[49m\u001b[43m)\u001b[49m\n\u001b[1;32m   1329\u001b[0m \u001b[38;5;28mself\u001b[39m\u001b[38;5;241m.\u001b[39m_tasks_outstanding \u001b[38;5;241m-\u001b[39m\u001b[38;5;241m=\u001b[39m \u001b[38;5;241m1\u001b[39m\n\u001b[1;32m   1330\u001b[0m \u001b[38;5;28;01mif\u001b[39;00m \u001b[38;5;28mself\u001b[39m\u001b[38;5;241m.\u001b[39m_dataset_kind \u001b[38;5;241m==\u001b[39m _DatasetKind\u001b[38;5;241m.\u001b[39mIterable:\n\u001b[1;32m   1331\u001b[0m     \u001b[38;5;66;03m# Check for _IterableDatasetStopIteration\u001b[39;00m\n",
      "File \u001b[0;32m/opt/anaconda3/envs/audio/lib/python3.9/site-packages/torch/utils/data/dataloader.py:1294\u001b[0m, in \u001b[0;36m_MultiProcessingDataLoaderIter._get_data\u001b[0;34m(self)\u001b[0m\n\u001b[1;32m   1290\u001b[0m     \u001b[38;5;66;03m# In this case, `self._data_queue` is a `queue.Queue`,. But we don't\u001b[39;00m\n\u001b[1;32m   1291\u001b[0m     \u001b[38;5;66;03m# need to call `.task_done()` because we don't use `.join()`.\u001b[39;00m\n\u001b[1;32m   1292\u001b[0m \u001b[38;5;28;01melse\u001b[39;00m:\n\u001b[1;32m   1293\u001b[0m     \u001b[38;5;28;01mwhile\u001b[39;00m \u001b[38;5;28;01mTrue\u001b[39;00m:\n\u001b[0;32m-> 1294\u001b[0m         success, data \u001b[38;5;241m=\u001b[39m \u001b[38;5;28;43mself\u001b[39;49m\u001b[38;5;241;43m.\u001b[39;49m\u001b[43m_try_get_data\u001b[49m\u001b[43m(\u001b[49m\u001b[43m)\u001b[49m\n\u001b[1;32m   1295\u001b[0m         \u001b[38;5;28;01mif\u001b[39;00m success:\n\u001b[1;32m   1296\u001b[0m             \u001b[38;5;28;01mreturn\u001b[39;00m data\n",
      "File \u001b[0;32m/opt/anaconda3/envs/audio/lib/python3.9/site-packages/torch/utils/data/dataloader.py:1145\u001b[0m, in \u001b[0;36m_MultiProcessingDataLoaderIter._try_get_data\u001b[0;34m(self, timeout)\u001b[0m\n\u001b[1;32m   1143\u001b[0m \u001b[38;5;28;01mif\u001b[39;00m \u001b[38;5;28mlen\u001b[39m(failed_workers) \u001b[38;5;241m>\u001b[39m \u001b[38;5;241m0\u001b[39m:\n\u001b[1;32m   1144\u001b[0m     pids_str \u001b[38;5;241m=\u001b[39m \u001b[38;5;124m'\u001b[39m\u001b[38;5;124m, \u001b[39m\u001b[38;5;124m'\u001b[39m\u001b[38;5;241m.\u001b[39mjoin(\u001b[38;5;28mstr\u001b[39m(w\u001b[38;5;241m.\u001b[39mpid) \u001b[38;5;28;01mfor\u001b[39;00m w \u001b[38;5;129;01min\u001b[39;00m failed_workers)\n\u001b[0;32m-> 1145\u001b[0m     \u001b[38;5;28;01mraise\u001b[39;00m \u001b[38;5;167;01mRuntimeError\u001b[39;00m(\u001b[38;5;124mf\u001b[39m\u001b[38;5;124m'\u001b[39m\u001b[38;5;124mDataLoader worker (pid(s) \u001b[39m\u001b[38;5;132;01m{\u001b[39;00mpids_str\u001b[38;5;132;01m}\u001b[39;00m\u001b[38;5;124m) exited unexpectedly\u001b[39m\u001b[38;5;124m'\u001b[39m) \u001b[38;5;28;01mfrom\u001b[39;00m \u001b[38;5;21;01me\u001b[39;00m\n\u001b[1;32m   1146\u001b[0m \u001b[38;5;28;01mif\u001b[39;00m \u001b[38;5;28misinstance\u001b[39m(e, queue\u001b[38;5;241m.\u001b[39mEmpty):\n\u001b[1;32m   1147\u001b[0m     \u001b[38;5;28;01mreturn\u001b[39;00m (\u001b[38;5;28;01mFalse\u001b[39;00m, \u001b[38;5;28;01mNone\u001b[39;00m)\n",
      "\u001b[0;31mRuntimeError\u001b[0m: DataLoader worker (pid(s) 3061158, 3061166, 3061174, 3061182, 3061190, 3061198, 3061206, 3061214) exited unexpectedly"
     ]
    }
   ],
   "source": [
    "trainer.fit(n_epoch=20, self_supervised=False, train_task='embedding', test_n_epoch=1)"
   ]
  },
  {
   "cell_type": "code",
   "execution_count": 45,
   "id": "a91dc07e-fd99-44c9-a2dd-5ece48e5e582",
   "metadata": {},
   "outputs": [
    {
     "name": "stdout",
     "output_type": "stream",
     "text": [
      "Loaded: ../scb16_models/ravdess/run1/model.epoch=87.step=8669.test_acc=0.6519.pt\n",
      "Correct: 88/135 (0.6519)\n",
      "{'acc_unweighted': tensor(0.6770),\n",
      " 'acc_weighted': tensor(0.6519),\n",
      " 'f1s_unweighted': tensor(0.6479),\n",
      " 'f1s_weighted': tensor(0.6550),\n",
      " 'rocauc': tensor(0.8560),\n",
      " 'uar': tensor(0.6770),\n",
      " 'wap': tensor(0.6833)}\n",
      "{'acc_detail': tensor([0.7632, 0.8421, 0.5385, 0.5641]),\n",
      " 'f1s_detail': tensor([0.7945, 0.5926, 0.6176, 0.5867]),\n",
      " 'precision_detail': tensor([0.8286, 0.4571, 0.7241, 0.6111]),\n",
      " 'recall_detail': tensor([0.7632, 0.8421, 0.5385, 0.5641]),\n",
      " 'rocauc_detail': tensor([0.9452, 0.8902, 0.8221, 0.7663])}\n",
      "tensor([[29,  1,  1,  7],\n",
      "        [ 1, 16,  1,  1],\n",
      "        [ 2, 10, 21,  6],\n",
      "        [ 3,  8,  6, 22]])\n"
     ]
    }
   ],
   "source": [
    "trainer.load_best_model(val_model=False)\n",
    "metrics, metrics_details, confusion_matrix = trainer.test_step()\n",
    "me = metrics.cpu().compute()\n",
    "med = metrics_details.cpu().compute()\n",
    "cm = confusion_matrix.cpu().compute()\n",
    "pprint(me)\n",
    "pprint(med)\n",
    "pprint(cm)"
   ]
  },
  {
   "cell_type": "code",
   "execution_count": 46,
   "id": "27c4beeb-2a04-484a-a536-b1489cf8bf6c",
   "metadata": {},
   "outputs": [
    {
     "data": {
      "text/plain": [
       "<Axes: xlabel='Predicted', ylabel='Actual'>"
      ]
     },
     "execution_count": 46,
     "metadata": {},
     "output_type": "execute_result"
    },
    {
     "data": {
      "image/png": "[encoded data removed]",
      "text/plain": [
       "<Figure size 1000x700 with 2 Axes>"
      ]
     },
     "metadata": {},
     "output_type": "display_data"
    }
   ],
   "source": [
    "a = cm\n",
    "a = a / reduce(a, 'y yh -> 1 yh', 'sum')\n",
    "df_cm = pd.DataFrame(a, columns=labels, index = labels)\n",
    "df_cm.index.name = 'Actual'\n",
    "df_cm.columns.name = 'Predicted'\n",
    "plt.figure(figsize = (10,7))\n",
    "sns.set(font_scale=1.4) #for label size\n",
    "sns.heatmap(\n",
    "    df_cm, cmap=\"Blues\", \n",
    "    annot=True,\n",
    "    annot_kws={\"size\": 16})# font size"
   ]
  },
  {
   "cell_type": "code",
   "execution_count": 47,
   "id": "811bfc0b-6b91-49ff-a17a-0f96a3aa1dcc",
   "metadata": {},
   "outputs": [
    {
     "data": {
      "text/plain": [
       "<Axes: xlabel='Predicted', ylabel='Actual'>"
      ]
     },
     "execution_count": 47,
     "metadata": {},
     "output_type": "execute_result"
    },
    {
     "data": {
      "image/png": "[encoded data removed]",
      "text/plain": [
       "<Figure size 1000x700 with 2 Axes>"
      ]
     },
     "metadata": {},
     "output_type": "display_data"
    }
   ],
   "source": [
    "a = cm\n",
    "a = a / reduce(a, 'y yh -> y 1', 'sum')\n",
    "a = a / reduce(a, 'y yh -> 1 yh', 'sum')\n",
    "df_cm = pd.DataFrame(a, columns=labels, index = labels)\n",
    "df_cm.index.name = 'Actual'\n",
    "df_cm.columns.name = 'Predicted'\n",
    "plt.figure(figsize = (10,7))\n",
    "sns.set(font_scale=1.4) #for label size\n",
    "sns.heatmap(\n",
    "    df_cm, cmap=\"Blues\", \n",
    "    annot=True,\n",
    "    annot_kws={\"size\": 16})# font size"
   ]
  },
  {
   "cell_type": "code",
   "execution_count": 48,
   "id": "73310c57-d61c-42ac-9d14-c0b210603203",
   "metadata": {},
   "outputs": [],
   "source": [
    "dt = []\n",
    "for i, ld in enumerate(trainer.train_losses_detail):\n",
    "    d = {'loss': trainer.train_losses[i]}\n",
    "    for j, k in enumerate(ld._fields):\n",
    "        d[k] = ld[j]\n",
    "    dt.append(d)\n",
    "loss_df = pd.DataFrame(dt)\n",
    "trained_epoch = trainer.current_epoch\n",
    "n = len(trainer.train_losses)\n",
    "trained_steps = n - (n % trained_epoch)\n",
    "train_losses = reduce(np.array(\n",
    "    trainer.train_losses[:trained_steps]), '(n k) -> n', 'mean', n=trained_epoch)"
   ]
  },
  {
   "cell_type": "code",
   "execution_count": 49,
   "id": "05fbbcf1-05a5-45ef-8ce3-6088bd9f7679",
   "metadata": {},
   "outputs": [
    {
     "data": {
      "text/plain": [
       "Text(0.5, 1.0, 'Test accuracy per 10 epochs')"
      ]
     },
     "execution_count": 49,
     "metadata": {},
     "output_type": "execute_result"
    },
    {
     "data": {
      "image/png": "[encoded data removed]",
      "text/plain": [
       "<Figure size 1200x300 with 3 Axes>"
      ]
     },
     "metadata": {},
     "output_type": "display_data"
    }
   ],
   "source": [
    "fig, axes = plt.subplots(1, 3, figsize=(12,3))\n",
    "axes[0].plot(train_losses, color=\"b\")\n",
    "axes[0].set_title(\"Average train loss per epoch\")\n",
    "axes[1].plot(trainer.val_accuracy, color=\"r\", linestyle=\"dashed\")\n",
    "axes[1].set_title(\"Val accuracy per epoch\")\n",
    "axes[2].plot(trainer.test_accuracy, color=\"r\")\n",
    "axes[2].set_title(\"Test accuracy per 10 epochs\")"
   ]
  },
  {
   "cell_type": "code",
   "execution_count": 54,
   "id": "cc2dfd81-c7ee-4a85-9df0-267f5f71c3e6",
   "metadata": {},
   "outputs": [
    {
     "data": {
      "text/plain": [
       "Text(0.5, 1.0, 'Test accuracy per 10 epochs')"
      ]
     },
     "execution_count": 54,
     "metadata": {},
     "output_type": "execute_result"
    },
    {
     "data": {
      "image/png": "[encoded data removed]",
      "text/plain": [
       "<Figure size 1200x300 with 3 Axes>"
      ]
     },
     "metadata": {},
     "output_type": "display_data"
    }
   ],
   "source": [
    "fig, axes = plt.subplots(1, 3, figsize=(12,3))\n",
    "axes[0].plot(savgol_filter(train_losses, 10, 1), color=\"b\")\n",
    "axes[0].set_title(\"Average train loss per epoch\")\n",
    "axes[1].plot(savgol_filter(trainer.val_accuracy, 10, 2), color=\"r\", linestyle=\"dashed\")\n",
    "axes[1].set_title(\"Val accuracy per epoch\")\n",
    "axes[2].plot(trainer.test_accuracy[:-1], color=\"r\")\n",
    "axes[2].set_title(\"Test accuracy per 10 epochs\")"
   ]
  },
  {
   "cell_type": "code",
   "execution_count": 55,
   "id": "9a6e9065-c4bf-406b-bae5-b1254c646e45",
   "metadata": {},
   "outputs": [],
   "source": [
    "train_log = {\n",
    "    'train_loss': torch.tensor(train_losses),\n",
    "    'val_acc': torch.tensor(trainer.val_accuracy),\n",
    "    'test_acc': torch.tensor(trainer.test_accuracy),\n",
    "    'test_confusion_matrix': cm,\n",
    "    'test_metrics': me,\n",
    "    'test_metrics_detail': med,\n",
    "    'best_model_path': trainer.best_test_model_path\n",
    "}\n",
    "torch.save(train_log, log_dir+\"train_metrics.pt\")\n",
    "loss_df.to_csv(log_dir+\"train_losses.csv\")"
   ]
  },
  {
   "cell_type": "code",
   "execution_count": null,
   "id": "698d2c35-45b2-4a4f-bdb7-6f4814498017",
   "metadata": {},
   "outputs": [],
   "source": []
  }
 ],
 "metadata": {
  "kernelspec": {
   "display_name": "Python 3 (ipykernel)",
   "language": "python",
   "name": "python3"
  },
  "language_info": {
   "codemirror_mode": {
    "name": "ipython",
    "version": 3
   },
   "file_extension": ".py",
   "mimetype": "text/x-python",
   "name": "python",
   "nbconvert_exporter": "python",
   "pygments_lexer": "ipython3",
   "version": "3.9.18"
  }
 },
 "nbformat": 4,
 "nbformat_minor": 5
}
