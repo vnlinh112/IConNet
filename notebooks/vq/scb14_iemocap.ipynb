{
 "cells": [
  {
   "cell_type": "code",
   "execution_count": null,
   "id": "3e935fa7-dadc-405c-af5c-2b2a5c95be4e",
   "metadata": {},
   "outputs": [],
   "source": [
    "%load_ext autoreload\n",
    "%autoreload 2"
   ]
  },
  {
   "cell_type": "code",
   "execution_count": null,
   "id": "a7d2cf02-ce58-4dcf-94af-9a251b0c947a",
   "metadata": {},
   "outputs": [],
   "source": [
    "import matplotlib.pyplot as plt\n",
    "import numpy as np\n",
    "import umap\n",
    "import torch\n",
    "import torch.nn as nn\n",
    "import torch.nn.functional as F\n",
    "import gc\n",
    "from tqdm import tqdm"
   ]
  },
  {
   "cell_type": "code",
   "execution_count": null,
   "id": "16bff667-2146-4f7b-98d6-c2165a960a09",
   "metadata": {},
   "outputs": [],
   "source": [
    "device = torch.device(\"cuda\" if torch.cuda.is_available() else \"cpu\")"
   ]
  },
  {
   "cell_type": "code",
   "execution_count": null,
   "id": "c0168198-381c-4243-b239-c4c03ae212b6",
   "metadata": {},
   "outputs": [],
   "source": [
    "import os\n",
    "os.environ[\"PYTORCH_CUDA_ALLOC_CONF\"] = \"max_split_size_mb:512\"\n",
    "os.chdir('../IConNet/')\n",
    "os.getcwd()"
   ]
  },
  {
   "cell_type": "code",
   "execution_count": null,
   "id": "a92733e8-efc0-4f30-8a1f-2d401b5ba1e2",
   "metadata": {},
   "outputs": [],
   "source": [
    "dataset_name = 'iemocap'\n",
    "experiment_prefix = \"scb14\"\n",
    "log_dir = f'../{experiment_prefix}_models/{dataset_name}/'\n",
    "data_dir = \"../data/data_preprocessed/\"\n",
    "\n",
    "sr = 16000\n",
    "batch_size = 2\n",
    "in_channels = 1\n",
    "kernel_size = 511\n",
    "stride = 125\n",
    "embedding_dim = 511\n",
    "num_embeddings = 384\n",
    "cls_dim = 512\n",
    "learning_rate = 1e-4\n",
    "max_num_tokens = 2048\n",
    "num_classes = 4\n",
    "commitment_cost = 0.1"
   ]
  },
  {
   "cell_type": "code",
   "execution_count": null,
   "id": "c6ffa1a2-be07-4a81-8f07-21a66cbb8028",
   "metadata": {},
   "outputs": [],
   "source": [
    "from IConNet.acov.audio_vqvae import VqVaeClsLoss\n",
    "from IConNet.trainer.train_torch import get_dataloader\n",
    "from IConNet.trainer.train_torch import Trainer_SCB10 as Trainer\n",
    "from IConNet.acov.model import SCB14 as SCB\n",
    "from omegaconf import OmegaConf as ocf"
   ]
  },
  {
   "cell_type": "code",
   "execution_count": null,
   "id": "9e471e94-981b-4f2b-aa69-1dfcea62ca9e",
   "metadata": {},
   "outputs": [],
   "source": [
    "iconnet_config_path = f'config/model/m19win.yaml'\n",
    "iconnet_config = ocf.load(iconnet_config_path)\n",
    "print(iconnet_config)"
   ]
  },
  {
   "cell_type": "code",
   "execution_count": null,
   "id": "9ece0b98-93f3-472f-8063-da0013e3dc4d",
   "metadata": {},
   "outputs": [],
   "source": [
    "dataset_config_path = f'config/dataset/{dataset_name}4.yaml'\n",
    "dataset_config = ocf.load(dataset_config_path)\n",
    "print(dataset_config)\n",
    "train_loader, test_loader, batch_size = get_dataloader(\n",
    "    dataset_config, data_dir, batch_size=batch_size)\n",
    "print(batch_size)"
   ]
  },
  {
   "cell_type": "code",
   "execution_count": null,
   "id": "893c1b4e-bf5e-4717-83a6-f176226dd142",
   "metadata": {},
   "outputs": [],
   "source": [
    "loss_ratio=VqVaeClsLoss(perplexity=0, loss_vq=0, loss_recon=0, loss_cls=1)\n",
    "\n",
    "trainer = Trainer(batch_size=batch_size, log_dir=log_dir, \n",
    "                  experiment_prefix=experiment_prefix, device=device,\n",
    "                 accumulate_grad_batches=8)\n",
    "trainer.prepare(train_loader=train_loader, \n",
    "                test_loader=test_loader, \n",
    "                batch_size=batch_size,\n",
    "               loss_ratio=loss_ratio)"
   ]
  },
  {
   "cell_type": "code",
   "execution_count": null,
   "id": "14900985-bd5f-4966-8c0c-4f1ddef56898",
   "metadata": {},
   "outputs": [],
   "source": [
    "codebook_pretrained_path = f'../scb11_models/ravdess/epoch=220.codebook.pt'\n",
    "model = SCB(\n",
    "    in_channels=in_channels,    \n",
    "    num_embeddings=num_embeddings, \n",
    "    stride=stride,\n",
    "    embedding_dim=embedding_dim, \n",
    "    num_classes=num_classes, \n",
    "    cls_dim=512,\n",
    "    sample_rate=sr,\n",
    "    commitment_cost=commitment_cost,\n",
    "    distance_type='euclidean',\n",
    "    codebook_pretrained_path=codebook_pretrained_path,\n",
    "    freeze_codebook=True,\n",
    "    loss_type='minami',\n",
    "    iconnet_config=iconnet_config,\n",
    ")"
   ]
  },
  {
   "cell_type": "code",
   "execution_count": null,
   "id": "2823b426-8330-4a82-becb-b2da71ffefae",
   "metadata": {},
   "outputs": [],
   "source": [
    "trainer.setup(model=model, lr=learning_rate)"
   ]
  },
  {
   "cell_type": "code",
   "execution_count": null,
   "id": "6019902a-4d02-4d20-8fe5-c1e85ff9cfde",
   "metadata": {},
   "outputs": [],
   "source": [
    "trainer.fit(n_epoch=100, self_supervised=False, train_task='embedding', test_n_epoch=10)"
   ]
  },
  {
   "cell_type": "code",
   "execution_count": null,
   "id": "5cb2cd68-c832-4ece-ae49-02bb663bda74",
   "metadata": {},
   "outputs": [],
   "source": [
    "trainer.load_best_model(val_model=True)"
   ]
  },
  {
   "cell_type": "code",
   "execution_count": null,
   "id": "dfec728e-0071-49a2-b694-b91583752be0",
   "metadata": {},
   "outputs": [],
   "source": [
    "from pprint import pprint"
   ]
  },
  {
   "cell_type": "code",
   "execution_count": null,
   "id": "c9a19c08-e656-4b1d-b894-ec5b73b9dc66",
   "metadata": {},
   "outputs": [],
   "source": [
    "metrics, metrics_details, confusion_matrix = trainer.test_step()\n",
    "me = metrics.compute()\n",
    "med = metrics_details.compute()\n",
    "cm = confusion_matrix.compute()"
   ]
  },
  {
   "cell_type": "code",
   "execution_count": null,
   "id": "438d4dec-b1f0-478c-bc99-57e22d4efce4",
   "metadata": {},
   "outputs": [],
   "source": [
    "pprint(me)\n",
    "pprint(med)\n",
    "pprint(cm)"
   ]
  },
  {
   "cell_type": "code",
   "execution_count": null,
   "id": "d7201224-b058-486f-a3b1-7c529fdc96d1",
   "metadata": {},
   "outputs": [],
   "source": [
    "labels = dataset_config.target_labels\n",
    "a = cm\n",
    "# a /= reduce(a, 'y yh -> y 1', 'sum')\n",
    "a /= reduce(a, 'y yh -> 1 yh', 'sum')\n",
    "df_cm = pd.DataFrame(a, columns=labels, index = labels)\n",
    "df_cm.index.name = 'Actual'\n",
    "df_cm.columns.name = 'Predicted'\n",
    "plt.figure(figsize = (10,7))\n",
    "sns.set(font_scale=1.4) #for label size\n",
    "sns.heatmap(\n",
    "    df_cm, cmap=\"Blues\", \n",
    "    annot=True,\n",
    "    annot_kws={\"size\": 16})# font size"
   ]
  },
  {
   "cell_type": "code",
   "execution_count": null,
   "id": "9f2e7cdd-6501-4ff5-8ea0-18b79e1bc749",
   "metadata": {},
   "outputs": [],
   "source": [
    "a = cm\n",
    "a /= reduce(a, 'y yh -> y 1', 'sum')\n",
    "a /= reduce(a, 'y yh -> 1 yh', 'sum')\n",
    "df_cm = pd.DataFrame(a, columns=labels, index = labels)\n",
    "df_cm.index.name = 'Actual'\n",
    "df_cm.columns.name = 'Predicted'\n",
    "plt.figure(figsize = (10,7))\n",
    "sns.set(font_scale=1.4) #for label size\n",
    "sns.heatmap(\n",
    "    df_cm, cmap=\"Blues\", \n",
    "    annot=True,\n",
    "    annot_kws={\"size\": 16})# font size"
   ]
  },
  {
   "cell_type": "code",
   "execution_count": null,
   "id": "a7e79c0b-9037-4e45-ac98-8f4dd2336c1c",
   "metadata": {},
   "outputs": [],
   "source": [
    "import pandas as pd\n",
    "import IPython.display as ipd\n",
    "import seaborn as sns\n",
    "\n",
    "from IConNet.acov.visualize import (\n",
    "    visualize_speech_codebook, get_embedding_color, \n",
    "    visualize_embedding_umap, visualize_training_curves,\n",
    "    get_embedding_color_v2, get_zcs_color_v2\n",
    ")"
   ]
  },
  {
   "cell_type": "code",
   "execution_count": null,
   "id": "5a5d81ee-7139-437f-b7bc-9ed36c3dc75d",
   "metadata": {},
   "outputs": [],
   "source": [
    "dt = []\n",
    "for i, ld in enumerate(trainer.train_losses_detail):\n",
    "    d = {'loss': trainer.train_losses[i]}\n",
    "    for j, k in enumerate(ld._fields):\n",
    "        d[k] = ld[j]\n",
    "    dt.append(d)\n",
    "loss_df = pd.DataFrame(dt)\n",
    "loss_df"
   ]
  },
  {
   "cell_type": "code",
   "execution_count": null,
   "id": "39f74bee-274b-4593-937f-7804a5b45552",
   "metadata": {},
   "outputs": [],
   "source": [
    "from scipy.signal import savgol_filter\n",
    "\n",
    "fig, axes = plt.subplots(1, 5, figsize=(14,3))\n",
    "for i, c in enumerate(loss_df.columns):\n",
    "    axes[i].plot(savgol_filter(loss_df[c], 301, 7))\n",
    "    axes[i].set_title(c)"
   ]
  },
  {
   "cell_type": "code",
   "execution_count": null,
   "id": "b543352c-6140-4b9c-a65f-0bb537b5efd0",
   "metadata": {},
   "outputs": [],
   "source": [
    "from einops import reduce, repeat, rearrange"
   ]
  },
  {
   "cell_type": "code",
   "execution_count": null,
   "id": "48ad7aa1-e460-42fb-a8ec-95587fa5ab68",
   "metadata": {},
   "outputs": [],
   "source": [
    "trained_epoch = trainer.current_epoch\n",
    "n = len(trainer.train_losses)\n",
    "trained_steps = n - (n % trained_epoch)\n",
    "train_losses = reduce(np.array(\n",
    "    trainer.train_losses[:trained_steps]), '(n k) -> n', 'mean', n=trained_epoch)"
   ]
  },
  {
   "cell_type": "code",
   "execution_count": null,
   "id": "6913073a-d601-4955-82cc-e37df5cfb291",
   "metadata": {},
   "outputs": [],
   "source": [
    "fig, axes = plt.subplots(1, 3, figsize=(12,3))\n",
    "axes[0].plot(train_losses, color=\"b\")\n",
    "axes[0].set_title(\"Average train loss per epoch\")\n",
    "axes[1].plot(trainer.val_accuracy, color=\"r\", linestyle=\"dashed\")\n",
    "axes[1].set_title(\"Val accuracy per epoch\")\n",
    "axes[2].plot(trainer.test_accuracy, color=\"r\")\n",
    "axes[2].set_title(\"Test accuracy per 10 epochs\")"
   ]
  },
  {
   "cell_type": "code",
   "execution_count": null,
   "id": "61c2769d-e357-40c2-be01-496d8aa1af80",
   "metadata": {},
   "outputs": [],
   "source": [
    "train_log = {\n",
    "    'train_loss': torch.tensor(train_losses),\n",
    "    'val_acc': torch.tensor(trainer.val_accuracy),\n",
    "    'test_acc': torch.tensor(trainer.test_accuracy),\n",
    "    'test_confusion_matrix': cm,\n",
    "    'test_metrics': me,\n",
    "    'test_metrics_detail': med\n",
    "}\n",
    "torch.save(train_log, log_dir+\"train_metrics.pt\")\n",
    "loss_df.to_csv(log_dir+\"train_losses.csv\")"
   ]
  },
  {
   "cell_type": "code",
   "execution_count": null,
   "id": "030fbb04-dd8a-4df7-9f78-5bb01c07c94d",
   "metadata": {},
   "outputs": [],
   "source": []
  }
 ],
 "metadata": {
  "kernelspec": {
   "display_name": "Python 3 (ipykernel)",
   "language": "python",
   "name": "python3"
  },
  "language_info": {
   "codemirror_mode": {
    "name": "ipython",
    "version": 3
   },
   "file_extension": ".py",
   "mimetype": "text/x-python",
   "name": "python",
   "nbconvert_exporter": "python",
   "pygments_lexer": "ipython3",
   "version": "3.9.18"
  }
 },
 "nbformat": 4,
 "nbformat_minor": 5
}
