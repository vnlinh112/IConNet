{
 "cells": [
  {
   "cell_type": "code",
   "execution_count": 1,
   "id": "3e935fa7-dadc-405c-af5c-2b2a5c95be4e",
   "metadata": {},
   "outputs": [],
   "source": [
    "%load_ext autoreload\n",
    "%autoreload 2"
   ]
  },
  {
   "cell_type": "code",
   "execution_count": 2,
   "id": "a7d2cf02-ce58-4dcf-94af-9a251b0c947a",
   "metadata": {},
   "outputs": [],
   "source": [
    "import matplotlib.pyplot as plt\n",
    "import numpy as np\n",
    "import umap\n",
    "import torch\n",
    "import torch.nn as nn\n",
    "import torch.nn.functional as F\n",
    "import gc\n",
    "from tqdm import tqdm"
   ]
  },
  {
   "cell_type": "code",
   "execution_count": 3,
   "id": "16bff667-2146-4f7b-98d6-c2165a960a09",
   "metadata": {},
   "outputs": [],
   "source": [
    "device = torch.device(\"cuda\" if torch.cuda.is_available() else \"cpu\")"
   ]
  },
  {
   "cell_type": "code",
   "execution_count": 4,
   "id": "c0168198-381c-4243-b239-c4c03ae212b6",
   "metadata": {},
   "outputs": [
    {
     "data": {
      "text/plain": [
       "'/home/bunny/projects/IConNet'"
      ]
     },
     "execution_count": 4,
     "metadata": {},
     "output_type": "execute_result"
    }
   ],
   "source": [
    "import os\n",
    "os.environ[\"PYTORCH_CUDA_ALLOC_CONF\"] = \"max_split_size_mb:512\"\n",
    "os.chdir('../../')\n",
    "os.getcwd()"
   ]
  },
  {
   "cell_type": "code",
   "execution_count": 5,
   "id": "a92733e8-efc0-4f30-8a1f-2d401b5ba1e2",
   "metadata": {},
   "outputs": [],
   "source": [
    "dataset_name = 'iemocap'\n",
    "experiment_prefix = \"scb14\"\n",
    "log_dir = f'../{experiment_prefix}_models/{dataset_name}/'\n",
    "data_dir = \"../data/data_preprocessed/\"\n",
    "\n",
    "sr = 16000\n",
    "batch_size = 2\n",
    "in_channels = 1\n",
    "kernel_size = 511\n",
    "stride = 125\n",
    "embedding_dim = 511\n",
    "num_embeddings = 384\n",
    "cls_dim = 512\n",
    "learning_rate = 1e-4\n",
    "max_num_tokens = 2048\n",
    "num_classes = 4\n",
    "commitment_cost = 0.1"
   ]
  },
  {
   "cell_type": "code",
   "execution_count": 6,
   "id": "c6ffa1a2-be07-4a81-8f07-21a66cbb8028",
   "metadata": {},
   "outputs": [],
   "source": [
    "from IConNet.acov.audio_vqvae import VqVaeClsLoss\n",
    "from IConNet.trainer.train_torch import get_dataloader\n",
    "from IConNet.trainer.train_torch import Trainer_SCB10 as Trainer\n",
    "from IConNet.acov.model import SCB14 as SCB\n",
    "from omegaconf import OmegaConf as ocf"
   ]
  },
  {
   "cell_type": "code",
   "execution_count": 7,
   "id": "9e471e94-981b-4f2b-aa69-1dfcea62ca9e",
   "metadata": {},
   "outputs": [
    {
     "name": "stdout",
     "output_type": "stream",
     "text": [
      "{'name': 'M19', 'description': 'FirConv with learnable windows', 'fe': {'n_block': 1, 'n_channel': [256], 'kernel_size': [511], 'stride': [2], 'window_k': [5], 'pooling': 'mean', 'filter_type': 'sinc', 'learnable_bands': False, 'learnable_windows': True, 'shared_window': False, 'window_func': 'hamming', 'mel_resolution': 3, 'conv_mode': 'conv', 'norm_type': 'LocalResponseNorm'}, 'cls': {'n_block': 2, 'n_hidden_dim': [512, 512], 'norm_type': 'LayerNorm'}}\n"
     ]
    }
   ],
   "source": [
    "iconnet_config_path = f'config/model/m19win.yaml'\n",
    "iconnet_config = ocf.load(iconnet_config_path)\n",
    "print(iconnet_config)"
   ]
  },
  {
   "cell_type": "code",
   "execution_count": 8,
   "id": "9ece0b98-93f3-472f-8063-da0013e3dc4d",
   "metadata": {},
   "outputs": [
    {
     "name": "stdout",
     "output_type": "stream",
     "text": [
      "{'name': 'iemocap', 'dataset_class': 'WaveformDataset', 'root': 'iemocap/', 'audio_dir': 'full_release/', 'feature_dir': 'preprocessing/', 'label_name': 'label4', 'feature_name': 'audio16k', 'num_classes': 4, 'label_values': ['neu', 'hap', 'sad', 'ang'], 'classnames': ['neu', 'hap', 'sad', 'ang'], 'target_labels': ['ang', 'neu', 'sad', 'hap']}\n",
      "2\n"
     ]
    }
   ],
   "source": [
    "dataset_config_path = f'config/dataset/{dataset_name}4.yaml'\n",
    "dataset_config = ocf.load(dataset_config_path)\n",
    "print(dataset_config)\n",
    "train_loader, test_loader, batch_size = get_dataloader(\n",
    "    dataset_config, data_dir, batch_size=batch_size)\n",
    "print(batch_size)"
   ]
  },
  {
   "cell_type": "code",
   "execution_count": 9,
   "id": "893c1b4e-bf5e-4717-83a6-f176226dd142",
   "metadata": {},
   "outputs": [],
   "source": [
    "loss_ratio=VqVaeClsLoss(perplexity=0, loss_vq=0, loss_recon=0, loss_cls=1)\n",
    "\n",
    "trainer = Trainer(batch_size=batch_size, log_dir=log_dir, \n",
    "                  experiment_prefix=experiment_prefix, device=device,\n",
    "                 accumulate_grad_batches=8)\n",
    "trainer.prepare(train_loader=train_loader, \n",
    "                test_loader=test_loader, \n",
    "                batch_size=batch_size,\n",
    "               loss_ratio=loss_ratio)"
   ]
  },
  {
   "cell_type": "code",
   "execution_count": 10,
   "id": "14900985-bd5f-4966-8c0c-4f1ddef56898",
   "metadata": {},
   "outputs": [],
   "source": [
    "codebook_pretrained_path = f'../scb11_models/ravdess/epoch=220.codebook.pt'\n",
    "model = SCB(\n",
    "    in_channels=in_channels,    \n",
    "    num_embeddings=num_embeddings, \n",
    "    stride=stride,\n",
    "    embedding_dim=embedding_dim, \n",
    "    num_classes=num_classes, \n",
    "    cls_dim=512,\n",
    "    sample_rate=sr,\n",
    "    commitment_cost=commitment_cost,\n",
    "    distance_type='euclidean',\n",
    "    codebook_pretrained_path=codebook_pretrained_path,\n",
    "    freeze_codebook=True,\n",
    "    loss_type='minami',\n",
    "    iconnet_config=iconnet_config,\n",
    ")"
   ]
  },
  {
   "cell_type": "code",
   "execution_count": 11,
   "id": "2823b426-8330-4a82-becb-b2da71ffefae",
   "metadata": {},
   "outputs": [],
   "source": [
    "trainer.setup(model=model, lr=learning_rate)"
   ]
  },
  {
   "cell_type": "code",
   "execution_count": 12,
   "id": "6019902a-4d02-4d20-8fe5-c1e85ff9cfde",
   "metadata": {},
   "outputs": [
    {
     "name": "stderr",
     "output_type": "stream",
     "text": [
      "  0%|▏                                                  | 0.476833976833989/100 [06:45<715:43:12, 25889.38s/it]"
     ]
    },
    {
     "name": "stdout",
     "output_type": "stream",
     "text": [
      "Epoch: 1\tLoss: 1.116 [perplexity=0.000, loss_vq=0.000, loss_recon=0.000, loss_cls=1.116]\tVal_acc: 84/197 (42.64%)\n",
      "\n",
      "Saved new best val model: ../scb14_models/iemocap/model.epoch=1.step=864.loss=1.116.val_acc=0.426.pt\n"
     ]
    },
    {
     "name": "stderr",
     "output_type": "stream",
     "text": [
      "  1%|▊                                                    | 1.4295366795367364/100 [17:42<16:57:50, 619.56s/it]"
     ]
    },
    {
     "name": "stdout",
     "output_type": "stream",
     "text": [
      "Correct: 388/988 (0.3927)\n",
      "Saved new best test model: ../scb14_models/iemocap/model.epoch=1.step=1727.test_acc=0.3927.pt\n",
      "{'acc_unweighted': tensor(0.4425, device='cuda:0'),\n",
      " 'acc_weighted': tensor(0.3927, device='cuda:0'),\n",
      " 'f1s_unweighted': tensor(0.2767, device='cuda:0'),\n",
      " 'f1s_weighted': tensor(0.2458, device='cuda:0'),\n",
      " 'rocauc': tensor(0.7574, device='cuda:0'),\n",
      " 'uar': tensor(0.4425, device='cuda:0'),\n",
      " 'wap': tensor(0.5246, device='cuda:0')}\n",
      "{'acc_detail': tensor([0.8869, 0.0029, 0.8802, 0.0000], device='cuda:0'),\n",
      " 'f1s_detail': tensor([0.4906, 0.0058, 0.6102, 0.0000], device='cuda:0'),\n",
      " 'precision_detail': tensor([0.3391, 1.0000, 0.4670, 0.0000], device='cuda:0'),\n",
      " 'recall_detail': tensor([0.8869, 0.0029, 0.8802, 0.0000], device='cuda:0'),\n",
      " 'rocauc_detail': tensor([0.8096, 0.6920, 0.8755, 0.6525], device='cuda:0')}\n",
      "tensor([[196,   0,  25,   0],\n",
      "        [174,   1, 167,   0],\n",
      "        [ 26,   0, 191,   0],\n",
      "        [182,   0,  26,   0]], device='cuda:0')\n"
     ]
    },
    {
     "name": "stderr",
     "output_type": "stream",
     "text": [
      "  2%|▉                                                 | 1.9063706563707945/100 [24:30<717:11:28, 26320.65s/it]"
     ]
    },
    {
     "name": "stdout",
     "output_type": "stream",
     "text": [
      "Epoch: 2\tLoss: 4.435 [perplexity=0.000, loss_vq=0.000, loss_recon=0.000, loss_cls=4.435]\tVal_acc: 93/197 (47.21%)\n",
      "\n",
      "Saved new best val model: ../scb14_models/iemocap/model.epoch=2.step=2591.loss=4.435.val_acc=0.472.pt\n"
     ]
    },
    {
     "name": "stderr",
     "output_type": "stream",
     "text": [
      "  3%|█▍                                                | 2.8590733590736597/100 [37:24<714:07:34, 26465.21s/it]"
     ]
    },
    {
     "name": "stdout",
     "output_type": "stream",
     "text": [
      "Epoch: 3\tLoss: 0.646 [perplexity=0.000, loss_vq=0.000, loss_recon=0.000, loss_cls=0.646]\tVal_acc: 100/197 (50.76%)\n",
      "\n",
      "Saved new best val model: ../scb14_models/iemocap/model.epoch=3.step=4318.loss=0.646.val_acc=0.508.pt\n"
     ]
    },
    {
     "name": "stderr",
     "output_type": "stream",
     "text": [
      "  4%|█▉                                                 | 3.811776061776525/100 [50:19<707:12:32, 26468.44s/it]"
     ]
    },
    {
     "name": "stdout",
     "output_type": "stream",
     "text": [
      "Epoch: 4\tLoss: 2.019 [perplexity=0.000, loss_vq=0.000, loss_recon=0.000, loss_cls=2.019]\tVal_acc: 96/197 (48.73%)\n",
      "\n"
     ]
    },
    {
     "name": "stderr",
     "output_type": "stream",
     "text": [
      "  5%|██▍                                               | 4.76447876447939/100 [1:03:16<705:59:31, 26687.22s/it]"
     ]
    },
    {
     "name": "stdout",
     "output_type": "stream",
     "text": [
      "Epoch: 5\tLoss: 0.491 [perplexity=0.000, loss_vq=0.000, loss_recon=0.000, loss_cls=0.491]\tVal_acc: 111/197 (56.35%)\n",
      "\n",
      "Saved new best val model: ../scb14_models/iemocap/model.epoch=5.step=7772.loss=0.491.val_acc=0.563.pt\n"
     ]
    },
    {
     "name": "stderr",
     "output_type": "stream",
     "text": [
      "  6%|██▊                                              | 5.717181467182255/100 [1:16:22<698:15:56, 26661.87s/it]"
     ]
    },
    {
     "name": "stdout",
     "output_type": "stream",
     "text": [
      "Epoch: 6\tLoss: 1.136 [perplexity=0.000, loss_vq=0.000, loss_recon=0.000, loss_cls=1.136]\tVal_acc: 91/197 (46.19%)\n",
      "\n"
     ]
    },
    {
     "name": "stderr",
     "output_type": "stream",
     "text": [
      "  7%|███▎                                              | 6.66988416988512/100 [1:29:23<695:20:54, 26821.51s/it]"
     ]
    },
    {
     "name": "stdout",
     "output_type": "stream",
     "text": [
      "Epoch: 7\tLoss: 0.732 [perplexity=0.000, loss_vq=0.000, loss_recon=0.000, loss_cls=0.732]\tVal_acc: 106/197 (53.81%)\n",
      "\n"
     ]
    },
    {
     "name": "stderr",
     "output_type": "stream",
     "text": [
      "  8%|███▋                                             | 7.622586872587985/100 [1:42:29<690:58:31, 26927.70s/it]"
     ]
    },
    {
     "name": "stdout",
     "output_type": "stream",
     "text": [
      "Epoch: 8\tLoss: 0.613 [perplexity=0.000, loss_vq=0.000, loss_recon=0.000, loss_cls=0.613]\tVal_acc: 108/197 (54.82%)\n",
      "\n"
     ]
    },
    {
     "name": "stderr",
     "output_type": "stream",
     "text": [
      "  9%|████▎                                             | 8.57528957529085/100 [1:55:38<683:30:11, 26914.08s/it]"
     ]
    },
    {
     "name": "stdout",
     "output_type": "stream",
     "text": [
      "Epoch: 9\tLoss: 0.720 [perplexity=0.000, loss_vq=0.000, loss_recon=0.000, loss_cls=0.720]\tVal_acc: 113/197 (57.36%)\n",
      "\n",
      "Saved new best val model: ../scb14_models/iemocap/model.epoch=9.step=14680.loss=0.720.val_acc=0.574.pt\n"
     ]
    },
    {
     "name": "stderr",
     "output_type": "stream",
     "text": [
      " 10%|████▋                                            | 9.527992277993715/100 [2:08:50<676:09:14, 26905.06s/it]"
     ]
    },
    {
     "name": "stdout",
     "output_type": "stream",
     "text": [
      "Epoch: 10\tLoss: 3.071 [perplexity=0.000, loss_vq=0.000, loss_recon=0.000, loss_cls=3.071]\tVal_acc: 110/197 (55.84%)\n",
      "\n"
     ]
    },
    {
     "name": "stderr",
     "output_type": "stream",
     "text": [
      " 10%|█████▏                                           | 10.48069498069658/100 [2:22:02<670:32:49, 26965.91s/it]"
     ]
    },
    {
     "name": "stdout",
     "output_type": "stream",
     "text": [
      "Epoch: 11\tLoss: 0.474 [perplexity=0.000, loss_vq=0.000, loss_recon=0.000, loss_cls=0.474]\tVal_acc: 116/197 (58.88%)\n",
      "\n",
      "Saved new best val model: ../scb14_models/iemocap/model.epoch=11.step=18134.loss=0.474.val_acc=0.589.pt\n"
     ]
    },
    {
     "name": "stderr",
     "output_type": "stream",
     "text": [
      " 11%|█████▊                                             | 11.433397683399445/100 [2:33:28<15:56:53, 648.25s/it]"
     ]
    },
    {
     "name": "stdout",
     "output_type": "stream",
     "text": [
      "Correct: 549/988 (0.5557)\n",
      "Saved new best test model: ../scb14_models/iemocap/model.epoch=11.step=18997.test_acc=0.5557.pt\n",
      "{'acc_unweighted': tensor(0.5417, device='cuda:0'),\n",
      " 'acc_weighted': tensor(0.5557, device='cuda:0'),\n",
      " 'f1s_unweighted': tensor(0.5455, device='cuda:0'),\n",
      " 'f1s_weighted': tensor(0.5511, device='cuda:0'),\n",
      " 'rocauc': tensor(0.8229, device='cuda:0'),\n",
      " 'uar': tensor(0.5417, device='cuda:0'),\n",
      " 'wap': tensor(0.5714, device='cuda:0')}\n",
      "{'acc_detail': tensor([0.4118, 0.6462, 0.7051, 0.4038], device='cuda:0'),\n",
      " 'f1s_detail': tensor([0.5260, 0.5808, 0.6623, 0.4128], device='cuda:0'),\n",
      " 'precision_detail': tensor([0.7280, 0.5274, 0.6245, 0.4221], device='cuda:0'),\n",
      " 'recall_detail': tensor([0.4118, 0.6462, 0.7051, 0.4038], device='cuda:0'),\n",
      " 'rocauc_detail': tensor([0.8650, 0.7671, 0.8968, 0.7628], device='cuda:0')}\n",
      "tensor([[ 91,  49,   6,  75],\n",
      "        [  5, 221,  80,  36],\n",
      "        [  0,  60, 153,   4],\n",
      "        [ 29,  89,   6,  84]], device='cuda:0')\n"
     ]
    },
    {
     "name": "stderr",
     "output_type": "stream",
     "text": [
      " 12%|█████▋                                          | 11.910231660233503/100 [2:40:29<656:05:39, 26812.87s/it]"
     ]
    },
    {
     "name": "stdout",
     "output_type": "stream",
     "text": [
      "Epoch: 12\tLoss: 0.859 [perplexity=0.000, loss_vq=0.000, loss_recon=0.000, loss_cls=0.859]\tVal_acc: 107/197 (54.31%)\n",
      "\n"
     ]
    },
    {
     "name": "stderr",
     "output_type": "stream",
     "text": [
      " 13%|██████▏                                         | 12.862934362936368/100 [2:53:45<656:07:01, 27106.97s/it]"
     ]
    },
    {
     "name": "stdout",
     "output_type": "stream",
     "text": [
      "Epoch: 13\tLoss: 0.656 [perplexity=0.000, loss_vq=0.000, loss_recon=0.000, loss_cls=0.656]\tVal_acc: 112/197 (56.85%)\n",
      "\n"
     ]
    },
    {
     "name": "stderr",
     "output_type": "stream",
     "text": [
      " 14%|██████▋                                         | 13.815637065639233/100 [3:07:08<646:27:27, 27003.13s/it]"
     ]
    },
    {
     "name": "stdout",
     "output_type": "stream",
     "text": [
      "Epoch: 14\tLoss: 0.774 [perplexity=0.000, loss_vq=0.000, loss_recon=0.000, loss_cls=0.774]\tVal_acc: 118/197 (59.90%)\n",
      "\n",
      "Saved new best val model: ../scb14_models/iemocap/model.epoch=14.step=23315.loss=0.774.val_acc=0.599.pt\n"
     ]
    },
    {
     "name": "stderr",
     "output_type": "stream",
     "text": [
      " 15%|███████                                         | 14.768339768342098/100 [3:20:30<646:14:14, 27295.66s/it]"
     ]
    },
    {
     "name": "stdout",
     "output_type": "stream",
     "text": [
      "Epoch: 15\tLoss: 0.954 [perplexity=0.000, loss_vq=0.000, loss_recon=0.000, loss_cls=0.954]\tVal_acc: 115/197 (58.38%)\n",
      "\n"
     ]
    },
    {
     "name": "stderr",
     "output_type": "stream",
     "text": [
      " 16%|███████▌                                        | 15.721042471044964/100 [3:33:53<639:41:59, 27324.96s/it]"
     ]
    },
    {
     "name": "stdout",
     "output_type": "stream",
     "text": [
      "Epoch: 16\tLoss: 1.696 [perplexity=0.000, loss_vq=0.000, loss_recon=0.000, loss_cls=1.696]\tVal_acc: 109/197 (55.33%)\n",
      "\n"
     ]
    },
    {
     "name": "stderr",
     "output_type": "stream",
     "text": [
      " 17%|████████▏                                        | 16.67374517374783/100 [3:47:17<634:34:24, 27415.91s/it]"
     ]
    },
    {
     "name": "stdout",
     "output_type": "stream",
     "text": [
      "Epoch: 17\tLoss: 0.564 [perplexity=0.000, loss_vq=0.000, loss_recon=0.000, loss_cls=0.564]\tVal_acc: 102/197 (51.78%)\n",
      "\n"
     ]
    },
    {
     "name": "stderr",
     "output_type": "stream",
     "text": [
      " 18%|████████▍                                       | 17.626447876450694/100 [4:00:47<628:11:43, 27454.25s/it]"
     ]
    },
    {
     "name": "stdout",
     "output_type": "stream",
     "text": [
      "Epoch: 18\tLoss: 0.074 [perplexity=0.000, loss_vq=0.000, loss_recon=0.000, loss_cls=0.074]\tVal_acc: 113/197 (57.36%)\n",
      "\n"
     ]
    },
    {
     "name": "stderr",
     "output_type": "stream",
     "text": [
      " 19%|█████████                                        | 18.57915057915356/100 [4:14:20<624:05:05, 27593.74s/it]"
     ]
    },
    {
     "name": "stdout",
     "output_type": "stream",
     "text": [
      "Epoch: 19\tLoss: 2.047 [perplexity=0.000, loss_vq=0.000, loss_recon=0.000, loss_cls=2.047]\tVal_acc: 122/197 (61.93%)\n",
      "\n",
      "Saved new best val model: ../scb14_models/iemocap/model.epoch=19.step=31950.loss=2.047.val_acc=0.619.pt\n"
     ]
    },
    {
     "name": "stderr",
     "output_type": "stream",
     "text": [
      " 20%|█████████▍                                      | 19.531853281856424/100 [4:27:54<614:27:06, 27489.47s/it]"
     ]
    },
    {
     "name": "stdout",
     "output_type": "stream",
     "text": [
      "Epoch: 20\tLoss: 0.218 [perplexity=0.000, loss_vq=0.000, loss_recon=0.000, loss_cls=0.218]\tVal_acc: 114/197 (57.87%)\n",
      "\n"
     ]
    },
    {
     "name": "stderr",
     "output_type": "stream",
     "text": [
      " 20%|██████████                                       | 20.48455598455929/100 [4:41:34<614:05:44, 27802.71s/it]"
     ]
    },
    {
     "name": "stdout",
     "output_type": "stream",
     "text": [
      "Epoch: 21\tLoss: 0.199 [perplexity=0.000, loss_vq=0.000, loss_recon=0.000, loss_cls=0.199]\tVal_acc: 127/197 (64.47%)\n",
      "\n",
      "Saved new best val model: ../scb14_models/iemocap/model.epoch=21.step=35404.loss=0.199.val_acc=0.645.pt\n"
     ]
    },
    {
     "name": "stderr",
     "output_type": "stream",
     "text": [
      " 21%|██████████▉                                        | 21.437258687262155/100 [4:53:23<14:39:56, 672.03s/it]"
     ]
    },
    {
     "name": "stdout",
     "output_type": "stream",
     "text": [
      "Correct: 567/988 (0.5739)\n",
      "Saved new best test model: ../scb14_models/iemocap/model.epoch=21.step=36267.test_acc=0.5739.pt\n",
      "{'acc_unweighted': tensor(0.5602, device='cuda:0'),\n",
      " 'acc_weighted': tensor(0.5739, device='cuda:0'),\n",
      " 'f1s_unweighted': tensor(0.5560, device='cuda:0'),\n",
      " 'f1s_weighted': tensor(0.5635, device='cuda:0'),\n",
      " 'rocauc': tensor(0.8045, device='cuda:0'),\n",
      " 'uar': tensor(0.5602, device='cuda:0'),\n",
      " 'wap': tensor(0.5688, device='cuda:0')}\n",
      "{'acc_detail': tensor([0.7240, 0.6433, 0.5853, 0.2885], device='cuda:0'),\n",
      " 'f1s_detail': tensor([0.6426, 0.5978, 0.6287, 0.3550], device='cuda:0'),\n",
      " 'precision_detail': tensor([0.5776, 0.5584, 0.6791, 0.4615], device='cuda:0'),\n",
      " 'recall_detail': tensor([0.7240, 0.6433, 0.5853, 0.2885], device='cuda:0'),\n",
      " 'rocauc_detail': tensor([0.8557, 0.7520, 0.8911, 0.7193], device='cuda:0')}\n",
      "tensor([[160,  30,   7,  24],\n",
      "        [ 36, 220,  48,  38],\n",
      "        [  7,  75, 127,   8],\n",
      "        [ 74,  69,   5,  60]], device='cuda:0')\n"
     ]
    },
    {
     "name": "stderr",
     "output_type": "stream",
     "text": [
      " 22%|██████████▌                                     | 21.914092664096213/100 [5:00:37<611:17:31, 28182.45s/it]"
     ]
    },
    {
     "name": "stdout",
     "output_type": "stream",
     "text": [
      "Epoch: 22\tLoss: 0.905 [perplexity=0.000, loss_vq=0.000, loss_recon=0.000, loss_cls=0.905]\tVal_acc: 116/197 (58.88%)\n",
      "\n"
     ]
    },
    {
     "name": "stderr",
     "output_type": "stream",
     "text": [
      " 23%|██████████▉                                     | 22.866795366799078/100 [5:14:23<599:07:23, 27962.58s/it]"
     ]
    },
    {
     "name": "stdout",
     "output_type": "stream",
     "text": [
      "Epoch: 23\tLoss: 0.717 [perplexity=0.000, loss_vq=0.000, loss_recon=0.000, loss_cls=0.717]\tVal_acc: 102/197 (51.78%)\n",
      "\n"
     ]
    },
    {
     "name": "stderr",
     "output_type": "stream",
     "text": [
      " 24%|███████████▍                                    | 23.819498069501943/100 [5:28:08<596:33:48, 28191.32s/it]"
     ]
    },
    {
     "name": "stdout",
     "output_type": "stream",
     "text": [
      "Epoch: 24\tLoss: 0.086 [perplexity=0.000, loss_vq=0.000, loss_recon=0.000, loss_cls=0.086]\tVal_acc: 111/197 (56.35%)\n",
      "\n"
     ]
    },
    {
     "name": "stderr",
     "output_type": "stream",
     "text": [
      " 25%|████████████▏                                    | 24.77220077220481/100 [5:41:58<589:27:48, 28208.56s/it]"
     ]
    },
    {
     "name": "stdout",
     "output_type": "stream",
     "text": [
      "Epoch: 25\tLoss: 0.020 [perplexity=0.000, loss_vq=0.000, loss_recon=0.000, loss_cls=0.020]\tVal_acc: 116/197 (58.88%)\n",
      "\n"
     ]
    },
    {
     "name": "stderr",
     "output_type": "stream",
     "text": [
      " 26%|████████████▎                                   | 25.724903474907673/100 [5:55:50<582:54:20, 28252.55s/it]"
     ]
    },
    {
     "name": "stdout",
     "output_type": "stream",
     "text": [
      "Epoch: 26\tLoss: 0.285 [perplexity=0.000, loss_vq=0.000, loss_recon=0.000, loss_cls=0.285]\tVal_acc: 116/197 (58.88%)\n",
      "\n"
     ]
    },
    {
     "name": "stderr",
     "output_type": "stream",
     "text": [
      " 27%|█████████████                                    | 26.67760617761054/100 [6:09:45<577:29:51, 28354.11s/it]"
     ]
    },
    {
     "name": "stdout",
     "output_type": "stream",
     "text": [
      "Epoch: 27\tLoss: 0.015 [perplexity=0.000, loss_vq=0.000, loss_recon=0.000, loss_cls=0.015]\tVal_acc: 116/197 (58.88%)\n",
      "\n"
     ]
    },
    {
     "name": "stderr",
     "output_type": "stream",
     "text": [
      " 28%|█████████████▎                                  | 27.630308880313404/100 [6:23:43<569:43:39, 28340.86s/it]"
     ]
    },
    {
     "name": "stdout",
     "output_type": "stream",
     "text": [
      "Epoch: 28\tLoss: 0.006 [perplexity=0.000, loss_vq=0.000, loss_recon=0.000, loss_cls=0.006]\tVal_acc: 124/197 (62.94%)\n",
      "\n"
     ]
    },
    {
     "name": "stderr",
     "output_type": "stream",
     "text": [
      " 29%|██████████████                                   | 28.58301158301627/100 [6:37:43<566:40:50, 28565.34s/it]"
     ]
    },
    {
     "name": "stdout",
     "output_type": "stream",
     "text": [
      "Epoch: 29\tLoss: 0.107 [perplexity=0.000, loss_vq=0.000, loss_recon=0.000, loss_cls=0.107]\tVal_acc: 115/197 (58.38%)\n",
      "\n"
     ]
    },
    {
     "name": "stderr",
     "output_type": "stream",
     "text": [
      " 30%|██████████████▏                                 | 29.535714285719134/100 [6:51:46<558:07:13, 28514.21s/it]"
     ]
    },
    {
     "name": "stdout",
     "output_type": "stream",
     "text": [
      "Epoch: 30\tLoss: 0.290 [perplexity=0.000, loss_vq=0.000, loss_recon=0.000, loss_cls=0.290]\tVal_acc: 102/197 (51.78%)\n",
      "\n"
     ]
    },
    {
     "name": "stderr",
     "output_type": "stream",
     "text": [
      " 30%|███████████████▌                                   | 30.488416988422/100 [7:05:53<555:35:53, 28774.39s/it]"
     ]
    },
    {
     "name": "stdout",
     "output_type": "stream",
     "text": [
      "Epoch: 31\tLoss: 0.020 [perplexity=0.000, loss_vq=0.000, loss_recon=0.000, loss_cls=0.020]\tVal_acc: 115/197 (58.38%)\n",
      "\n"
     ]
    },
    {
     "name": "stderr",
     "output_type": "stream",
     "text": [
      " 31%|████████████████                                   | 31.441119691124864/100 [7:18:06<13:16:16, 696.87s/it]"
     ]
    },
    {
     "name": "stdout",
     "output_type": "stream",
     "text": [
      "Correct: 517/988 (0.5233)\n",
      "{'acc_unweighted': tensor(0.5518, device='cuda:0'),\n",
      " 'acc_weighted': tensor(0.5233, device='cuda:0'),\n",
      " 'f1s_unweighted': tensor(0.5280, device='cuda:0'),\n",
      " 'f1s_weighted': tensor(0.5151, device='cuda:0'),\n",
      " 'rocauc': tensor(0.7945, device='cuda:0'),\n",
      " 'uar': tensor(0.5518, device='cuda:0'),\n",
      " 'wap': tensor(0.5451, device='cuda:0')}\n",
      "{'acc_detail': tensor([0.5928, 0.3246, 0.7465, 0.5433], device='cuda:0'),\n",
      " 'f1s_detail': tensor([0.6107, 0.4173, 0.6391, 0.4449], device='cuda:0'),\n",
      " 'precision_detail': tensor([0.6298, 0.5842, 0.5586, 0.3767], device='cuda:0'),\n",
      " 'recall_detail': tensor([0.5928, 0.3246, 0.7465, 0.5433], device='cuda:0'),\n",
      " 'rocauc_detail': tensor([0.8340, 0.7411, 0.8737, 0.7292], device='cuda:0')}\n",
      "tensor([[131,  16,  15,  59],\n",
      "        [ 23, 111, 101, 107],\n",
      "        [  7,  27, 162,  21],\n",
      "        [ 47,  36,  12, 113]], device='cuda:0')\n"
     ]
    },
    {
     "name": "stderr",
     "output_type": "stream",
     "text": [
      " 32%|███████████████▎                                | 31.917953667958923/100 [7:25:35<544:29:18, 28791.13s/it]"
     ]
    },
    {
     "name": "stdout",
     "output_type": "stream",
     "text": [
      "Epoch: 32\tLoss: 0.006 [perplexity=0.000, loss_vq=0.000, loss_recon=0.000, loss_cls=0.006]\tVal_acc: 110/197 (55.84%)\n",
      "\n"
     ]
    },
    {
     "name": "stderr",
     "output_type": "stream",
     "text": [
      " 33%|███████████████▊                                | 32.870656370661784/100 [7:39:44<539:52:54, 28952.68s/it]"
     ]
    },
    {
     "name": "stdout",
     "output_type": "stream",
     "text": [
      "Epoch: 33\tLoss: 0.007 [perplexity=0.000, loss_vq=0.000, loss_recon=0.000, loss_cls=0.007]\tVal_acc: 110/197 (55.84%)\n",
      "\n"
     ]
    },
    {
     "name": "stderr",
     "output_type": "stream",
     "text": [
      " 34%|████████████████▌                                | 33.82335907336465/100 [7:53:58<535:24:11, 29125.86s/it]"
     ]
    },
    {
     "name": "stdout",
     "output_type": "stream",
     "text": [
      "Epoch: 34\tLoss: 0.051 [perplexity=0.000, loss_vq=0.000, loss_recon=0.000, loss_cls=0.051]\tVal_acc: 106/197 (53.81%)\n",
      "\n"
     ]
    },
    {
     "name": "stderr",
     "output_type": "stream",
     "text": [
      " 35%|████████████████▋                               | 34.776061776067515/100 [8:08:15<528:16:01, 29157.42s/it]"
     ]
    },
    {
     "name": "stdout",
     "output_type": "stream",
     "text": [
      "Epoch: 35\tLoss: 0.004 [perplexity=0.000, loss_vq=0.000, loss_recon=0.000, loss_cls=0.004]\tVal_acc: 110/197 (55.84%)\n",
      "\n"
     ]
    },
    {
     "name": "stderr",
     "output_type": "stream",
     "text": [
      " 36%|█████████████████▌                               | 35.72876447877038/100 [8:22:33<519:42:58, 29110.67s/it]"
     ]
    },
    {
     "name": "stdout",
     "output_type": "stream",
     "text": [
      "Epoch: 36\tLoss: 0.000 [perplexity=0.000, loss_vq=0.000, loss_recon=0.000, loss_cls=0.000]\tVal_acc: 111/197 (56.35%)\n",
      "\n"
     ]
    },
    {
     "name": "stderr",
     "output_type": "stream",
     "text": [
      " 37%|█████████████████▌                              | 36.681467181473245/100 [8:36:55<515:03:55, 29284.25s/it]"
     ]
    },
    {
     "name": "stdout",
     "output_type": "stream",
     "text": [
      "Epoch: 37\tLoss: 0.001 [perplexity=0.000, loss_vq=0.000, loss_recon=0.000, loss_cls=0.001]\tVal_acc: 107/197 (54.31%)\n",
      "\n"
     ]
    },
    {
     "name": "stderr",
     "output_type": "stream",
     "text": [
      " 38%|██████████████████▍                              | 37.63416988417611/100 [8:51:19<508:48:52, 29370.77s/it]"
     ]
    },
    {
     "name": "stdout",
     "output_type": "stream",
     "text": [
      "Epoch: 38\tLoss: 0.006 [perplexity=0.000, loss_vq=0.000, loss_recon=0.000, loss_cls=0.006]\tVal_acc: 104/197 (52.79%)\n",
      "\n"
     ]
    },
    {
     "name": "stderr",
     "output_type": "stream",
     "text": [
      " 39%|██████████████████▌                             | 38.586872586878975/100 [9:05:46<502:04:06, 29430.94s/it]"
     ]
    },
    {
     "name": "stdout",
     "output_type": "stream",
     "text": [
      "Epoch: 39\tLoss: 0.009 [perplexity=0.000, loss_vq=0.000, loss_recon=0.000, loss_cls=0.009]\tVal_acc: 105/197 (53.30%)\n",
      "\n"
     ]
    },
    {
     "name": "stderr",
     "output_type": "stream",
     "text": [
      " 40%|███████████████████▎                             | 39.53957528958184/100 [9:20:17<495:37:11, 29510.73s/it]"
     ]
    },
    {
     "name": "stdout",
     "output_type": "stream",
     "text": [
      "Epoch: 40\tLoss: 0.196 [perplexity=0.000, loss_vq=0.000, loss_recon=0.000, loss_cls=0.196]\tVal_acc: 112/197 (56.85%)\n",
      "\n"
     ]
    },
    {
     "name": "stderr",
     "output_type": "stream",
     "text": [
      " 40%|███████████████████▍                            | 40.492277992284706/100 [9:34:47<489:42:57, 29626.02s/it]"
     ]
    },
    {
     "name": "stdout",
     "output_type": "stream",
     "text": [
      "Epoch: 41\tLoss: 0.000 [perplexity=0.000, loss_vq=0.000, loss_recon=0.000, loss_cls=0.000]\tVal_acc: 110/197 (55.84%)\n",
      "\n"
     ]
    },
    {
     "name": "stderr",
     "output_type": "stream",
     "text": [
      " 41%|█████████████████████▌                              | 41.44498069498757/100 [9:47:30<11:47:11, 724.64s/it]"
     ]
    },
    {
     "name": "stdout",
     "output_type": "stream",
     "text": [
      "Correct: 510/988 (0.5162)\n",
      "{'acc_unweighted': tensor(0.5050, device='cuda:0'),\n",
      " 'acc_weighted': tensor(0.5162, device='cuda:0'),\n",
      " 'f1s_unweighted': tensor(0.5082, device='cuda:0'),\n",
      " 'f1s_weighted': tensor(0.5136, device='cuda:0'),\n",
      " 'rocauc': tensor(0.7729, device='cuda:0'),\n",
      " 'uar': tensor(0.5050, device='cuda:0'),\n",
      " 'wap': tensor(0.5523, device='cuda:0')}\n",
      "{'acc_detail': tensor([0.6018, 0.5906, 0.3226, 0.5048], device='cuda:0'),\n",
      " 'f1s_detail': tensor([0.6018, 0.5430, 0.4487, 0.4393], device='cuda:0'),\n",
      " 'precision_detail': tensor([0.6018, 0.5025, 0.7368, 0.3889], device='cuda:0'),\n",
      " 'recall_detail': tensor([0.6018, 0.5906, 0.3226, 0.5048], device='cuda:0'),\n",
      " 'rocauc_detail': tensor([0.8202, 0.7208, 0.8439, 0.7068], device='cuda:0')}\n",
      "tensor([[133,  29,   3,  56],\n",
      "        [ 26, 202,  21,  93],\n",
      "        [ 10, 121,  70,  16],\n",
      "        [ 52,  50,   1, 105]], device='cuda:0')\n"
     ]
    },
    {
     "name": "stderr",
     "output_type": "stream",
     "text": [
      " 42%|████████████████████▌                            | 41.92181467182163/100 [9:55:13<475:44:06, 29488.64s/it]"
     ]
    },
    {
     "name": "stdout",
     "output_type": "stream",
     "text": [
      "Epoch: 42\tLoss: 0.004 [perplexity=0.000, loss_vq=0.000, loss_recon=0.000, loss_cls=0.004]\tVal_acc: 108/197 (54.82%)\n",
      "\n"
     ]
    },
    {
     "name": "stderr",
     "output_type": "stream",
     "text": [
      " 43%|████████████████████▏                          | 42.874517374524494/100 [10:09:52<472:12:27, 29758.13s/it]"
     ]
    },
    {
     "name": "stdout",
     "output_type": "stream",
     "text": [
      "Epoch: 43\tLoss: 0.000 [perplexity=0.000, loss_vq=0.000, loss_recon=0.000, loss_cls=0.000]\tVal_acc: 106/197 (53.81%)\n",
      "\n"
     ]
    },
    {
     "name": "stderr",
     "output_type": "stream",
     "text": [
      " 44%|█████████████████████                           | 43.82722007722736/100 [10:24:33<465:27:43, 29830.53s/it]"
     ]
    },
    {
     "name": "stdout",
     "output_type": "stream",
     "text": [
      "Epoch: 44\tLoss: 0.000 [perplexity=0.000, loss_vq=0.000, loss_recon=0.000, loss_cls=0.000]\tVal_acc: 105/197 (53.30%)\n",
      "\n"
     ]
    },
    {
     "name": "stderr",
     "output_type": "stream",
     "text": [
      " 45%|█████████████████████                          | 44.779922779930224/100 [10:39:19<457:42:22, 29839.56s/it]"
     ]
    },
    {
     "name": "stdout",
     "output_type": "stream",
     "text": [
      "Epoch: 45\tLoss: 0.000 [perplexity=0.000, loss_vq=0.000, loss_recon=0.000, loss_cls=0.000]\tVal_acc: 107/197 (54.31%)\n",
      "\n"
     ]
    },
    {
     "name": "stderr",
     "output_type": "stream",
     "text": [
      " 46%|█████████████████████▉                          | 45.73262548263309/100 [10:54:06<454:30:57, 30151.78s/it]"
     ]
    },
    {
     "name": "stdout",
     "output_type": "stream",
     "text": [
      "Epoch: 46\tLoss: 0.033 [perplexity=0.000, loss_vq=0.000, loss_recon=0.000, loss_cls=0.033]\tVal_acc: 103/197 (52.28%)\n",
      "\n"
     ]
    },
    {
     "name": "stderr",
     "output_type": "stream",
     "text": [
      " 47%|█████████████████████▉                         | 46.685328185335955/100 [11:08:56<448:19:25, 30272.45s/it]"
     ]
    },
    {
     "name": "stdout",
     "output_type": "stream",
     "text": [
      "Epoch: 47\tLoss: 0.019 [perplexity=0.000, loss_vq=0.000, loss_recon=0.000, loss_cls=0.019]\tVal_acc: 107/197 (54.31%)\n",
      "\n"
     ]
    },
    {
     "name": "stderr",
     "output_type": "stream",
     "text": [
      " 48%|██████████████████████▊                         | 47.63803088803882/100 [11:23:50<442:09:55, 30399.84s/it]"
     ]
    },
    {
     "name": "stdout",
     "output_type": "stream",
     "text": [
      "Epoch: 48\tLoss: 0.000 [perplexity=0.000, loss_vq=0.000, loss_recon=0.000, loss_cls=0.000]\tVal_acc: 116/197 (58.88%)\n",
      "\n"
     ]
    },
    {
     "name": "stderr",
     "output_type": "stream",
     "text": [
      " 49%|██████████████████████▊                        | 48.590733590741685/100 [11:38:47<432:11:04, 30264.29s/it]"
     ]
    },
    {
     "name": "stdout",
     "output_type": "stream",
     "text": [
      "Epoch: 49\tLoss: 0.001 [perplexity=0.000, loss_vq=0.000, loss_recon=0.000, loss_cls=0.001]\tVal_acc: 107/197 (54.31%)\n",
      "\n"
     ]
    },
    {
     "name": "stderr",
     "output_type": "stream",
     "text": [
      " 50%|███████████████████████▊                        | 49.54343629344455/100 [11:53:48<427:57:45, 30534.49s/it]"
     ]
    },
    {
     "name": "stdout",
     "output_type": "stream",
     "text": [
      "Epoch: 50\tLoss: 0.002 [perplexity=0.000, loss_vq=0.000, loss_recon=0.000, loss_cls=0.002]\tVal_acc: 111/197 (56.35%)\n",
      "\n"
     ]
    },
    {
     "name": "stderr",
     "output_type": "stream",
     "text": [
      " 50%|███████████████████████▋                       | 50.496138996147415/100 [12:08:50<418:47:24, 30455.09s/it]"
     ]
    },
    {
     "name": "stdout",
     "output_type": "stream",
     "text": [
      "Epoch: 51\tLoss: 0.335 [perplexity=0.000, loss_vq=0.000, loss_recon=0.000, loss_cls=0.335]\tVal_acc: 102/197 (51.78%)\n",
      "\n"
     ]
    },
    {
     "name": "stderr",
     "output_type": "stream",
     "text": [
      " 51%|██████████████████████████▏                        | 51.44884169885028/100 [12:22:00<10:17:12, 762.75s/it]"
     ]
    },
    {
     "name": "stdout",
     "output_type": "stream",
     "text": [
      "Correct: 538/988 (0.5445)\n",
      "{'acc_unweighted': tensor(0.5567, device='cuda:0'),\n",
      " 'acc_weighted': tensor(0.5445, device='cuda:0'),\n",
      " 'f1s_unweighted': tensor(0.5467, device='cuda:0'),\n",
      " 'f1s_weighted': tensor(0.5432, device='cuda:0'),\n",
      " 'rocauc': tensor(0.7944, device='cuda:0'),\n",
      " 'uar': tensor(0.5567, device='cuda:0'),\n",
      " 'wap': tensor(0.5565, device='cuda:0')}\n",
      "{'acc_detail': tensor([0.5339, 0.4561, 0.7512, 0.4856], device='cuda:0'),\n",
      " 'f1s_detail': tensor([0.5885, 0.5098, 0.6520, 0.4363], device='cuda:0'),\n",
      " 'precision_detail': tensor([0.6556, 0.5778, 0.5760, 0.3961], device='cuda:0'),\n",
      " 'recall_detail': tensor([0.5339, 0.4561, 0.7512, 0.4856], device='cuda:0'),\n",
      " 'rocauc_detail': tensor([0.8168, 0.7505, 0.8751, 0.7353], device='cuda:0')}\n",
      "tensor([[118,  29,  12,  62],\n",
      "        [ 15, 156,  94,  77],\n",
      "        [  4,  35, 163,  15],\n",
      "        [ 43,  50,  14, 101]], device='cuda:0')\n"
     ]
    },
    {
     "name": "stderr",
     "output_type": "stream",
     "text": [
      " 52%|████████████████████████▉                       | 51.92567567568434/100 [12:29:57<409:20:54, 30653.68s/it]"
     ]
    },
    {
     "name": "stdout",
     "output_type": "stream",
     "text": [
      "Epoch: 52\tLoss: 0.000 [perplexity=0.000, loss_vq=0.000, loss_recon=0.000, loss_cls=0.000]\tVal_acc: 98/197 (49.75%)\n",
      "\n"
     ]
    },
    {
     "name": "stderr",
     "output_type": "stream",
     "text": [
      " 53%|████████████████████████▊                      | 52.878378378387204/100 [12:45:08<402:48:27, 30773.71s/it]"
     ]
    },
    {
     "name": "stdout",
     "output_type": "stream",
     "text": [
      "Epoch: 53\tLoss: 0.000 [perplexity=0.000, loss_vq=0.000, loss_recon=0.000, loss_cls=0.000]\tVal_acc: 111/197 (56.35%)\n",
      "\n"
     ]
    },
    {
     "name": "stderr",
     "output_type": "stream",
     "text": [
      " 54%|█████████████████████████▊                      | 53.83108108109007/100 [13:00:16<396:08:11, 30888.56s/it]"
     ]
    },
    {
     "name": "stdout",
     "output_type": "stream",
     "text": [
      "Epoch: 54\tLoss: 0.001 [perplexity=0.000, loss_vq=0.000, loss_recon=0.000, loss_cls=0.001]\tVal_acc: 105/197 (53.30%)\n",
      "\n"
     ]
    },
    {
     "name": "stderr",
     "output_type": "stream",
     "text": [
      " 55%|█████████████████████████▋                     | 54.783783783792934/100 [13:15:28<389:11:54, 30987.00s/it]"
     ]
    },
    {
     "name": "stdout",
     "output_type": "stream",
     "text": [
      "Epoch: 55\tLoss: 0.044 [perplexity=0.000, loss_vq=0.000, loss_recon=0.000, loss_cls=0.044]\tVal_acc: 94/197 (47.72%)\n",
      "\n"
     ]
    },
    {
     "name": "stderr",
     "output_type": "stream",
     "text": [
      " 56%|███████████████████████████▎                     | 55.7364864864958/100 [13:30:45<380:47:20, 30969.98s/it]"
     ]
    },
    {
     "name": "stdout",
     "output_type": "stream",
     "text": [
      "Epoch: 56\tLoss: 0.000 [perplexity=0.000, loss_vq=0.000, loss_recon=0.000, loss_cls=0.000]\tVal_acc: 103/197 (52.28%)\n",
      "\n"
     ]
    },
    {
     "name": "stderr",
     "output_type": "stream",
     "text": [
      " 57%|██████████████████████████▋                    | 56.689189189198665/100 [13:46:05<375:45:47, 31233.49s/it]"
     ]
    },
    {
     "name": "stdout",
     "output_type": "stream",
     "text": [
      "Epoch: 57\tLoss: 0.166 [perplexity=0.000, loss_vq=0.000, loss_recon=0.000, loss_cls=0.166]\tVal_acc: 111/197 (56.35%)\n",
      "\n"
     ]
    },
    {
     "name": "stderr",
     "output_type": "stream",
     "text": [
      " 58%|███████████████████████████▋                    | 57.64189189190153/100 [14:01:26<366:33:48, 31154.09s/it]"
     ]
    },
    {
     "name": "stdout",
     "output_type": "stream",
     "text": [
      "Epoch: 58\tLoss: 0.000 [perplexity=0.000, loss_vq=0.000, loss_recon=0.000, loss_cls=0.000]\tVal_acc: 97/197 (49.24%)\n",
      "\n"
     ]
    },
    {
     "name": "stderr",
     "output_type": "stream",
     "text": [
      " 59%|███████████████████████████▌                   | 58.594594594604395/100 [14:16:49<358:47:13, 31194.80s/it]"
     ]
    },
    {
     "name": "stdout",
     "output_type": "stream",
     "text": [
      "Epoch: 59\tLoss: 0.072 [perplexity=0.000, loss_vq=0.000, loss_recon=0.000, loss_cls=0.072]\tVal_acc: 108/197 (54.82%)\n",
      "\n"
     ]
    },
    {
     "name": "stderr",
     "output_type": "stream",
     "text": [
      " 60%|████████████████████████████▌                   | 59.54729729730726/100 [14:32:17<350:26:45, 31187.17s/it]"
     ]
    },
    {
     "name": "stdout",
     "output_type": "stream",
     "text": [
      "Epoch: 60\tLoss: 0.534 [perplexity=0.000, loss_vq=0.000, loss_recon=0.000, loss_cls=0.534]\tVal_acc: 114/197 (57.87%)\n",
      "\n"
     ]
    },
    {
     "name": "stderr",
     "output_type": "stream",
     "text": [
      " 61%|████████████████████████████▍                  | 60.500000000010125/100 [14:47:45<341:57:54, 31166.45s/it]"
     ]
    },
    {
     "name": "stdout",
     "output_type": "stream",
     "text": [
      "Epoch: 61\tLoss: 0.108 [perplexity=0.000, loss_vq=0.000, loss_recon=0.000, loss_cls=0.108]\tVal_acc: 110/197 (55.84%)\n",
      "\n"
     ]
    },
    {
     "name": "stderr",
     "output_type": "stream",
     "text": [
      " 61%|███████████████████████████████▉                    | 61.45270270271299/100 [15:01:23<8:32:32, 797.79s/it]"
     ]
    },
    {
     "name": "stdout",
     "output_type": "stream",
     "text": [
      "Correct: 529/988 (0.5354)\n",
      "{'acc_unweighted': tensor(0.5471, device='cuda:0'),\n",
      " 'acc_weighted': tensor(0.5354, device='cuda:0'),\n",
      " 'f1s_unweighted': tensor(0.5367, device='cuda:0'),\n",
      " 'f1s_weighted': tensor(0.5337, device='cuda:0'),\n",
      " 'rocauc': tensor(0.7844, device='cuda:0'),\n",
      " 'uar': tensor(0.5471, device='cuda:0'),\n",
      " 'wap': tensor(0.5443, device='cuda:0')}\n",
      "{'acc_detail': tensor([0.5385, 0.4503, 0.7189, 0.4808], device='cuda:0'),\n",
      " 'f1s_detail': tensor([0.5749, 0.5049, 0.6265, 0.4405], device='cuda:0'),\n",
      " 'precision_detail': tensor([0.6166, 0.5746, 0.5552, 0.4065], device='cuda:0'),\n",
      " 'recall_detail': tensor([0.5385, 0.4503, 0.7189, 0.4808], device='cuda:0'),\n",
      " 'rocauc_detail': tensor([0.8042, 0.7394, 0.8576, 0.7365], device='cuda:0')}\n",
      "tensor([[119,  26,  18,  58],\n",
      "        [ 24, 154,  87,  77],\n",
      "        [  5,  45, 156,  11],\n",
      "        [ 45,  43,  20, 100]], device='cuda:0')\n"
     ]
    },
    {
     "name": "stderr",
     "output_type": "stream",
     "text": [
      " 62%|█████████████████████████████▋                  | 61.92953667954705/100 [15:09:36<332:04:21, 31401.30s/it]"
     ]
    },
    {
     "name": "stdout",
     "output_type": "stream",
     "text": [
      "Epoch: 62\tLoss: 0.000 [perplexity=0.000, loss_vq=0.000, loss_recon=0.000, loss_cls=0.000]\tVal_acc: 107/197 (54.31%)\n",
      "\n"
     ]
    },
    {
     "name": "stderr",
     "output_type": "stream",
     "text": [
      " 63%|█████████████████████████████▌                 | 62.882239382249914/100 [15:25:11<325:55:48, 31611.51s/it]"
     ]
    },
    {
     "name": "stdout",
     "output_type": "stream",
     "text": [
      "Epoch: 63\tLoss: 0.001 [perplexity=0.000, loss_vq=0.000, loss_recon=0.000, loss_cls=0.001]\tVal_acc: 105/197 (53.30%)\n",
      "\n"
     ]
    },
    {
     "name": "stderr",
     "output_type": "stream",
     "text": [
      " 64%|██████████████████████████████▋                 | 63.83494208495278/100 [15:40:52<319:09:11, 31769.67s/it]"
     ]
    },
    {
     "name": "stdout",
     "output_type": "stream",
     "text": [
      "Epoch: 64\tLoss: 0.063 [perplexity=0.000, loss_vq=0.000, loss_recon=0.000, loss_cls=0.063]\tVal_acc: 102/197 (51.78%)\n",
      "\n"
     ]
    },
    {
     "name": "stderr",
     "output_type": "stream",
     "text": [
      " 65%|███████████████████████████████                 | 64.78764478764404/100 [15:56:37<312:03:10, 31903.29s/it]"
     ]
    },
    {
     "name": "stdout",
     "output_type": "stream",
     "text": [
      "Epoch: 65\tLoss: 0.001 [perplexity=0.000, loss_vq=0.000, loss_recon=0.000, loss_cls=0.001]\tVal_acc: 106/197 (53.81%)\n",
      "\n"
     ]
    },
    {
     "name": "stderr",
     "output_type": "stream",
     "text": [
      " 66%|███████████████████████████████▌                | 65.74034749033288/100 [16:12:23<301:59:35, 31733.42s/it]"
     ]
    },
    {
     "name": "stdout",
     "output_type": "stream",
     "text": [
      "Epoch: 66\tLoss: 0.011 [perplexity=0.000, loss_vq=0.000, loss_recon=0.000, loss_cls=0.011]\tVal_acc: 105/197 (53.30%)\n",
      "\n"
     ]
    },
    {
     "name": "stderr",
     "output_type": "stream",
     "text": [
      " 67%|████████████████████████████████                | 66.69305019302172/100 [16:28:13<296:52:07, 32087.23s/it]"
     ]
    },
    {
     "name": "stdout",
     "output_type": "stream",
     "text": [
      "Epoch: 67\tLoss: 0.000 [perplexity=0.000, loss_vq=0.000, loss_recon=0.000, loss_cls=0.000]\tVal_acc: 102/197 (51.78%)\n",
      "\n"
     ]
    },
    {
     "name": "stderr",
     "output_type": "stream",
     "text": [
      " 68%|████████████████████████████████▍               | 67.64575289571056/100 [16:44:07<290:39:39, 32341.33s/it]"
     ]
    },
    {
     "name": "stdout",
     "output_type": "stream",
     "text": [
      "Epoch: 68\tLoss: 0.001 [perplexity=0.000, loss_vq=0.000, loss_recon=0.000, loss_cls=0.001]\tVal_acc: 106/197 (53.81%)\n",
      "\n"
     ]
    },
    {
     "name": "stderr",
     "output_type": "stream",
     "text": [
      " 69%|█████████████████████████████████▌               | 68.5984555983994/100 [17:00:01<282:45:20, 32416.25s/it]"
     ]
    },
    {
     "name": "stdout",
     "output_type": "stream",
     "text": [
      "Epoch: 69\tLoss: 0.000 [perplexity=0.000, loss_vq=0.000, loss_recon=0.000, loss_cls=0.000]\tVal_acc: 94/197 (47.72%)\n",
      "\n"
     ]
    },
    {
     "name": "stderr",
     "output_type": "stream",
     "text": [
      " 70%|█████████████████████████████████▍              | 69.55115830108824/100 [17:16:00<274:23:21, 32441.35s/it]"
     ]
    },
    {
     "name": "stdout",
     "output_type": "stream",
     "text": [
      "Epoch: 70\tLoss: 0.000 [perplexity=0.000, loss_vq=0.000, loss_recon=0.000, loss_cls=0.000]\tVal_acc: 105/197 (53.30%)\n",
      "\n"
     ]
    },
    {
     "name": "stderr",
     "output_type": "stream",
     "text": [
      " 71%|█████████████████████████████████▊              | 70.50386100377708/100 [17:32:00<265:13:06, 32369.88s/it]"
     ]
    },
    {
     "name": "stdout",
     "output_type": "stream",
     "text": [
      "Epoch: 71\tLoss: 0.000 [perplexity=0.000, loss_vq=0.000, loss_recon=0.000, loss_cls=0.000]\tVal_acc: 105/197 (53.30%)\n",
      "\n"
     ]
    },
    {
     "name": "stderr",
     "output_type": "stream",
     "text": [
      " 71%|█████████████████████████████████████▏              | 71.45656370646591/100 [17:46:08<6:32:18, 824.67s/it]"
     ]
    },
    {
     "name": "stdout",
     "output_type": "stream",
     "text": [
      "Correct: 549/988 (0.5557)\n",
      "{'acc_unweighted': tensor(0.5584, device='cuda:0'),\n",
      " 'acc_weighted': tensor(0.5557, device='cuda:0'),\n",
      " 'f1s_unweighted': tensor(0.5568, device='cuda:0'),\n",
      " 'f1s_weighted': tensor(0.5569, device='cuda:0'),\n",
      " 'rocauc': tensor(0.7957, device='cuda:0'),\n",
      " 'uar': tensor(0.5584, device='cuda:0'),\n",
      " 'wap': tensor(0.5595, device='cuda:0')}\n",
      "{'acc_detail': tensor([0.5747, 0.5292, 0.6728, 0.4567], device='cuda:0'),\n",
      " 'f1s_detail': tensor([0.5935, 0.5468, 0.6562, 0.4308], device='cuda:0'),\n",
      " 'precision_detail': tensor([0.6135, 0.5656, 0.6404, 0.4077], device='cuda:0'),\n",
      " 'recall_detail': tensor([0.5747, 0.5292, 0.6728, 0.4567], device='cuda:0'),\n",
      " 'rocauc_detail': tensor([0.8252, 0.7459, 0.8702, 0.7413], device='cuda:0')}\n",
      "tensor([[127,  29,  10,  55],\n",
      "        [ 23, 181,  63,  75],\n",
      "        [  8,  55, 146,   8],\n",
      "        [ 49,  55,   9,  95]], device='cuda:0')\n"
     ]
    },
    {
     "name": "stderr",
     "output_type": "stream",
     "text": [
      " 72%|██████████████████████████████████▌             | 71.93339768329295/100 [17:54:39<255:25:02, 32761.44s/it]"
     ]
    },
    {
     "name": "stdout",
     "output_type": "stream",
     "text": [
      "Epoch: 72\tLoss: 0.000 [perplexity=0.000, loss_vq=0.000, loss_recon=0.000, loss_cls=0.000]\tVal_acc: 104/197 (52.79%)\n",
      "\n"
     ]
    },
    {
     "name": "stderr",
     "output_type": "stream",
     "text": [
      " 73%|██████████████████████████████████▉             | 72.88610038598179/100 [18:10:43<246:24:01, 32715.38s/it]"
     ]
    },
    {
     "name": "stdout",
     "output_type": "stream",
     "text": [
      "Epoch: 73\tLoss: 0.000 [perplexity=0.000, loss_vq=0.000, loss_recon=0.000, loss_cls=0.000]\tVal_acc: 101/197 (51.27%)\n",
      "\n"
     ]
    },
    {
     "name": "stderr",
     "output_type": "stream",
     "text": [
      " 74%|███████████████████████████████████▍            | 73.83880308867063/100 [18:26:52<234:47:53, 32310.20s/it]"
     ]
    },
    {
     "name": "stdout",
     "output_type": "stream",
     "text": [
      "Epoch: 74\tLoss: 0.000 [perplexity=0.000, loss_vq=0.000, loss_recon=0.000, loss_cls=0.000]\tVal_acc: 96/197 (48.73%)\n",
      "\n"
     ]
    },
    {
     "name": "stderr",
     "output_type": "stream",
     "text": [
      " 75%|███████████████████████████████████▉            | 74.79150579135947/100 [18:43:06<227:58:42, 32557.38s/it]"
     ]
    },
    {
     "name": "stdout",
     "output_type": "stream",
     "text": [
      "Epoch: 75\tLoss: 0.001 [perplexity=0.000, loss_vq=0.000, loss_recon=0.000, loss_cls=0.001]\tVal_acc: 99/197 (50.25%)\n",
      "\n"
     ]
    },
    {
     "name": "stderr",
     "output_type": "stream",
     "text": [
      " 76%|████████████████████████████████████▎           | 75.74420849404831/100 [18:59:22<220:30:47, 32728.17s/it]"
     ]
    },
    {
     "name": "stdout",
     "output_type": "stream",
     "text": [
      "Epoch: 76\tLoss: 0.000 [perplexity=0.000, loss_vq=0.000, loss_recon=0.000, loss_cls=0.000]\tVal_acc: 111/197 (56.35%)\n",
      "\n"
     ]
    },
    {
     "name": "stderr",
     "output_type": "stream",
     "text": [
      " 77%|████████████████████████████████████▊           | 76.69691119673715/100 [19:15:41<211:37:46, 32693.81s/it]"
     ]
    },
    {
     "name": "stdout",
     "output_type": "stream",
     "text": [
      "Epoch: 77\tLoss: 0.000 [perplexity=0.000, loss_vq=0.000, loss_recon=0.000, loss_cls=0.000]\tVal_acc: 103/197 (52.28%)\n",
      "\n"
     ]
    },
    {
     "name": "stderr",
     "output_type": "stream",
     "text": [
      " 78%|█████████████████████████████████████▎          | 77.64961389942599/100 [19:32:01<204:39:19, 32964.05s/it]"
     ]
    },
    {
     "name": "stdout",
     "output_type": "stream",
     "text": [
      "Epoch: 78\tLoss: 0.000 [perplexity=0.000, loss_vq=0.000, loss_recon=0.000, loss_cls=0.000]\tVal_acc: 111/197 (56.35%)\n",
      "\n"
     ]
    },
    {
     "name": "stderr",
     "output_type": "stream",
     "text": [
      " 79%|█████████████████████████████████████▋          | 78.60231660211483/100 [19:48:26<197:30:07, 33228.26s/it]"
     ]
    },
    {
     "name": "stdout",
     "output_type": "stream",
     "text": [
      "Epoch: 79\tLoss: 0.000 [perplexity=0.000, loss_vq=0.000, loss_recon=0.000, loss_cls=0.000]\tVal_acc: 102/197 (51.78%)\n",
      "\n"
     ]
    },
    {
     "name": "stderr",
     "output_type": "stream",
     "text": [
      " 80%|██████████████████████████████████████▏         | 79.55501930480366/100 [20:04:54<189:31:53, 33373.14s/it]"
     ]
    },
    {
     "name": "stdout",
     "output_type": "stream",
     "text": [
      "Epoch: 80\tLoss: 0.000 [perplexity=0.000, loss_vq=0.000, loss_recon=0.000, loss_cls=0.000]\tVal_acc: 100/197 (50.76%)\n",
      "\n"
     ]
    },
    {
     "name": "stderr",
     "output_type": "stream",
     "text": [
      " 81%|███████████████████████████████████████▍         | 80.5077220074925/100 [20:21:25<179:17:21, 33112.68s/it]"
     ]
    },
    {
     "name": "stdout",
     "output_type": "stream",
     "text": [
      "Epoch: 81\tLoss: 0.000 [perplexity=0.000, loss_vq=0.000, loss_recon=0.000, loss_cls=0.000]\tVal_acc: 108/197 (54.82%)\n",
      "\n"
     ]
    },
    {
     "name": "stderr",
     "output_type": "stream",
     "text": [
      " 81%|██████████████████████████████████████████▎         | 81.46042471018134/100 [20:35:57<4:23:13, 851.85s/it]"
     ]
    },
    {
     "name": "stdout",
     "output_type": "stream",
     "text": [
      "Correct: 556/988 (0.5628)\n",
      "{'acc_unweighted': tensor(0.5646, device='cuda:0'),\n",
      " 'acc_weighted': tensor(0.5628, device='cuda:0'),\n",
      " 'f1s_unweighted': tensor(0.5640, device='cuda:0'),\n",
      " 'f1s_weighted': tensor(0.5642, device='cuda:0'),\n",
      " 'rocauc': tensor(0.7988, device='cuda:0'),\n",
      " 'uar': tensor(0.5646, device='cuda:0'),\n",
      " 'wap': tensor(0.5719, device='cuda:0')}\n",
      "{'acc_detail': tensor([0.5204, 0.5468, 0.6866, 0.5048], device='cuda:0'),\n",
      " 'f1s_detail': tensor([0.5838, 0.5574, 0.6535, 0.4615], device='cuda:0'),\n",
      " 'precision_detail': tensor([0.6647, 0.5684, 0.6234, 0.4251], device='cuda:0'),\n",
      " 'recall_detail': tensor([0.5204, 0.5468, 0.6866, 0.5048], device='cuda:0'),\n",
      " 'rocauc_detail': tensor([0.8100, 0.7485, 0.8828, 0.7540], device='cuda:0')}\n",
      "tensor([[115,  29,  11,  66],\n",
      "        [ 17, 187,  70,  68],\n",
      "        [  4,  56, 149,   8],\n",
      "        [ 37,  57,   9, 105]], device='cuda:0')\n"
     ]
    },
    {
     "name": "stderr",
     "output_type": "stream",
     "text": [
      " 82%|███████████████████████████████████████▎        | 81.93725868700838/100 [20:44:38<166:07:23, 33109.23s/it]"
     ]
    },
    {
     "name": "stdout",
     "output_type": "stream",
     "text": [
      "Epoch: 82\tLoss: 0.434 [perplexity=0.000, loss_vq=0.000, loss_recon=0.000, loss_cls=0.434]\tVal_acc: 94/197 (47.72%)\n",
      "\n"
     ]
    },
    {
     "name": "stderr",
     "output_type": "stream",
     "text": [
      " 83%|███████████████████████████████████████▊        | 82.88996138969722/100 [21:01:14<160:04:53, 33681.63s/it]"
     ]
    },
    {
     "name": "stdout",
     "output_type": "stream",
     "text": [
      "Epoch: 83\tLoss: 0.003 [perplexity=0.000, loss_vq=0.000, loss_recon=0.000, loss_cls=0.003]\tVal_acc: 100/197 (50.76%)\n",
      "\n"
     ]
    },
    {
     "name": "stderr",
     "output_type": "stream",
     "text": [
      " 84%|████████████████████████████████████████▏       | 83.84266409238606/100 [21:17:53<151:02:15, 33652.56s/it]"
     ]
    },
    {
     "name": "stdout",
     "output_type": "stream",
     "text": [
      "Epoch: 84\tLoss: 0.000 [perplexity=0.000, loss_vq=0.000, loss_recon=0.000, loss_cls=0.000]\tVal_acc: 102/197 (51.78%)\n",
      "\n"
     ]
    },
    {
     "name": "stderr",
     "output_type": "stream",
     "text": [
      " 85%|█████████████████████████████████████████▌       | 84.7953667950749/100 [21:34:33<142:18:37, 33694.82s/it]"
     ]
    },
    {
     "name": "stdout",
     "output_type": "stream",
     "text": [
      "Epoch: 85\tLoss: 0.000 [perplexity=0.000, loss_vq=0.000, loss_recon=0.000, loss_cls=0.000]\tVal_acc: 115/197 (58.38%)\n",
      "\n"
     ]
    },
    {
     "name": "stderr",
     "output_type": "stream",
     "text": [
      " 86%|█████████████████████████████████████████▏      | 85.74806949776374/100 [21:51:19<133:15:08, 33659.17s/it]"
     ]
    },
    {
     "name": "stdout",
     "output_type": "stream",
     "text": [
      "Epoch: 86\tLoss: 0.000 [perplexity=0.000, loss_vq=0.000, loss_recon=0.000, loss_cls=0.000]\tVal_acc: 109/197 (55.33%)\n",
      "\n"
     ]
    },
    {
     "name": "stderr",
     "output_type": "stream",
     "text": [
      " 87%|█████████████████████████████████████████▌      | 86.70077220045258/100 [22:08:05<125:03:28, 33852.22s/it]"
     ]
    },
    {
     "name": "stdout",
     "output_type": "stream",
     "text": [
      "Epoch: 87\tLoss: 0.000 [perplexity=0.000, loss_vq=0.000, loss_recon=0.000, loss_cls=0.000]\tVal_acc: 110/197 (55.84%)\n",
      "\n"
     ]
    },
    {
     "name": "stderr",
     "output_type": "stream",
     "text": [
      " 88%|██████████████████████████████████████████      | 87.65347490314142/100 [22:24:57<116:39:23, 34014.68s/it]"
     ]
    },
    {
     "name": "stdout",
     "output_type": "stream",
     "text": [
      "Epoch: 88\tLoss: 0.002 [perplexity=0.000, loss_vq=0.000, loss_recon=0.000, loss_cls=0.002]\tVal_acc: 95/197 (48.22%)\n",
      "\n"
     ]
    },
    {
     "name": "stderr",
     "output_type": "stream",
     "text": [
      " 89%|██████████████████████████████████████████▌     | 88.60617760583025/100 [22:41:51<107:50:33, 34074.04s/it]"
     ]
    },
    {
     "name": "stdout",
     "output_type": "stream",
     "text": [
      "Epoch: 89\tLoss: 0.000 [perplexity=0.000, loss_vq=0.000, loss_recon=0.000, loss_cls=0.000]\tVal_acc: 114/197 (57.87%)\n",
      "\n"
     ]
    },
    {
     "name": "stderr",
     "output_type": "stream",
     "text": [
      " 90%|████████████████████████████████████████████▊     | 89.5588803085191/100 [22:58:49<99:08:17, 34181.87s/it]"
     ]
    },
    {
     "name": "stdout",
     "output_type": "stream",
     "text": [
      "Epoch: 90\tLoss: 0.000 [perplexity=0.000, loss_vq=0.000, loss_recon=0.000, loss_cls=0.000]\tVal_acc: 107/197 (54.31%)\n",
      "\n"
     ]
    },
    {
     "name": "stderr",
     "output_type": "stream",
     "text": [
      " 91%|████████████████████████████████████████████▎    | 90.51158301120793/100 [23:15:48<90:04:51, 34177.67s/it]"
     ]
    },
    {
     "name": "stdout",
     "output_type": "stream",
     "text": [
      "Epoch: 91\tLoss: 0.000 [perplexity=0.000, loss_vq=0.000, loss_recon=0.000, loss_cls=0.000]\tVal_acc: 100/197 (50.76%)\n",
      "\n"
     ]
    },
    {
     "name": "stderr",
     "output_type": "stream",
     "text": [
      " 91%|███████████████████████████████████████████████▌    | 91.46428571389677/100 [23:30:52<2:05:12, 880.13s/it]"
     ]
    },
    {
     "name": "stdout",
     "output_type": "stream",
     "text": [
      "Correct: 496/988 (0.5020)\n",
      "{'acc_unweighted': tensor(0.5326, device='cuda:0'),\n",
      " 'acc_weighted': tensor(0.5020, device='cuda:0'),\n",
      " 'f1s_unweighted': tensor(0.5072, device='cuda:0'),\n",
      " 'f1s_weighted': tensor(0.4954, device='cuda:0'),\n",
      " 'rocauc': tensor(0.7878, device='cuda:0'),\n",
      " 'uar': tensor(0.5326, device='cuda:0'),\n",
      " 'wap': tensor(0.5664, device='cuda:0')}\n",
      "{'acc_detail': tensor([0.4163, 0.3041, 0.7419, 0.6683], device='cuda:0'),\n",
      " 'f1s_detail': tensor([0.5111, 0.4094, 0.6598, 0.4484], device='cuda:0'),\n",
      " 'precision_detail': tensor([0.6619, 0.6265, 0.5941, 0.3374], device='cuda:0'),\n",
      " 'recall_detail': tensor([0.4163, 0.3041, 0.7419, 0.6683], device='cuda:0'),\n",
      " 'rocauc_detail': tensor([0.7874, 0.7567, 0.8789, 0.7284], device='cuda:0')}\n",
      "tensor([[ 92,  11,  14, 104],\n",
      "        [ 13, 104,  82, 143],\n",
      "        [  3,  27, 161,  26],\n",
      "        [ 31,  24,  14, 139]], device='cuda:0')\n"
     ]
    },
    {
     "name": "stderr",
     "output_type": "stream",
     "text": [
      " 92%|█████████████████████████████████████████████    | 91.94111969072381/100 [23:39:52<76:09:10, 34018.47s/it]"
     ]
    },
    {
     "name": "stdout",
     "output_type": "stream",
     "text": [
      "Epoch: 92\tLoss: 0.000 [perplexity=0.000, loss_vq=0.000, loss_recon=0.000, loss_cls=0.000]\tVal_acc: 107/197 (54.31%)\n",
      "\n"
     ]
    },
    {
     "name": "stderr",
     "output_type": "stream",
     "text": [
      " 93%|█████████████████████████████████████████████▌   | 92.89382239341265/100 [23:56:53<67:42:34, 34301.76s/it]"
     ]
    },
    {
     "name": "stdout",
     "output_type": "stream",
     "text": [
      "Epoch: 93\tLoss: 0.000 [perplexity=0.000, loss_vq=0.000, loss_recon=0.000, loss_cls=0.000]\tVal_acc: 109/197 (55.33%)\n",
      "\n"
     ]
    },
    {
     "name": "stderr",
     "output_type": "stream",
     "text": [
      " 94%|█████████████████████████████████████████████▉   | 93.84652509610149/100 [24:14:02<59:00:44, 34524.25s/it]"
     ]
    },
    {
     "name": "stdout",
     "output_type": "stream",
     "text": [
      "Epoch: 94\tLoss: 0.003 [perplexity=0.000, loss_vq=0.000, loss_recon=0.000, loss_cls=0.003]\tVal_acc: 100/197 (50.76%)\n",
      "\n"
     ]
    },
    {
     "name": "stderr",
     "output_type": "stream",
     "text": [
      " 95%|██████████████████████████████████████████████▍  | 94.79922779879033/100 [24:31:14<49:37:42, 34353.13s/it]"
     ]
    },
    {
     "name": "stdout",
     "output_type": "stream",
     "text": [
      "Epoch: 95\tLoss: 0.000 [perplexity=0.000, loss_vq=0.000, loss_recon=0.000, loss_cls=0.000]\tVal_acc: 105/197 (53.30%)\n",
      "\n"
     ]
    },
    {
     "name": "stderr",
     "output_type": "stream",
     "text": [
      " 96%|██████████████████████████████████████████████▉  | 95.75193050147917/100 [24:48:27<40:49:36, 34598.50s/it]"
     ]
    },
    {
     "name": "stdout",
     "output_type": "stream",
     "text": [
      "Epoch: 96\tLoss: 0.000 [perplexity=0.000, loss_vq=0.000, loss_recon=0.000, loss_cls=0.000]\tVal_acc: 111/197 (56.35%)\n",
      "\n"
     ]
    },
    {
     "name": "stderr",
     "output_type": "stream",
     "text": [
      " 97%|█████████████████████████████████████████████████▎ | 96.704633204168/100 [25:05:42<32:04:11, 35034.60s/it]"
     ]
    },
    {
     "name": "stdout",
     "output_type": "stream",
     "text": [
      "Epoch: 97\tLoss: 0.003 [perplexity=0.000, loss_vq=0.000, loss_recon=0.000, loss_cls=0.003]\tVal_acc: 106/197 (53.81%)\n",
      "\n"
     ]
    },
    {
     "name": "stderr",
     "output_type": "stream",
     "text": [
      " 98%|███████████████████████████████████████████████▊ | 97.65733590685684/100 [25:23:06<22:37:47, 34775.46s/it]"
     ]
    },
    {
     "name": "stdout",
     "output_type": "stream",
     "text": [
      "Epoch: 98\tLoss: 0.000 [perplexity=0.000, loss_vq=0.000, loss_recon=0.000, loss_cls=0.000]\tVal_acc: 101/197 (51.27%)\n",
      "\n"
     ]
    },
    {
     "name": "stderr",
     "output_type": "stream",
     "text": [
      " 99%|████████████████████████████████████████████████▎| 98.61003860954568/100 [25:40:22<13:30:44, 34996.93s/it]"
     ]
    },
    {
     "name": "stdout",
     "output_type": "stream",
     "text": [
      "Epoch: 99\tLoss: 0.000 [perplexity=0.000, loss_vq=0.000, loss_recon=0.000, loss_cls=0.000]\tVal_acc: 105/197 (53.30%)\n",
      "\n"
     ]
    },
    {
     "name": "stderr",
     "output_type": "stream",
     "text": [
      "100%|█████████████████████████████████████████████████▊| 99.56274131223452/100 [25:57:47<4:16:13, 35158.71s/it]"
     ]
    },
    {
     "name": "stdout",
     "output_type": "stream",
     "text": [
      "Epoch: 100\tLoss: 0.000 [perplexity=0.000, loss_vq=0.000, loss_recon=0.000, loss_cls=0.000]\tVal_acc: 108/197 (54.82%)\n",
      "\n"
     ]
    },
    {
     "name": "stderr",
     "output_type": "stream",
     "text": [
      "100%|████████████████████████████████████████████████████▉| 99.99999999948685/100 [26:05:22<00:00, 1018.94s/it]/home/bunny/anaconda3/envs/audio/lib/python3.9/site-packages/tqdm/std.py:639: TqdmWarning: clamping frac to range [0, 1]\n",
      "  full_bar = Bar(frac,\n",
      "100%|██████████████████████████████████████████████████| 100.03861003809632/100 [26:06:02<-1:59:24, 939.26s/it]\n"
     ]
    }
   ],
   "source": [
    "trainer.fit(n_epoch=100, self_supervised=False, train_task='embedding', test_n_epoch=10)"
   ]
  },
  {
   "cell_type": "code",
   "execution_count": 13,
   "id": "5cb2cd68-c832-4ece-ae49-02bb663bda74",
   "metadata": {},
   "outputs": [
    {
     "name": "stdout",
     "output_type": "stream",
     "text": [
      "Loaded: ../scb14_models/iemocap/model.epoch=21.step=35404.loss=0.199.val_acc=0.645.pt\n"
     ]
    }
   ],
   "source": [
    "trainer.load_best_model(val_model=True)"
   ]
  },
  {
   "cell_type": "code",
   "execution_count": 14,
   "id": "dfec728e-0071-49a2-b694-b91583752be0",
   "metadata": {},
   "outputs": [],
   "source": [
    "from pprint import pprint"
   ]
  },
  {
   "cell_type": "code",
   "execution_count": 15,
   "id": "c9a19c08-e656-4b1d-b894-ec5b73b9dc66",
   "metadata": {},
   "outputs": [
    {
     "name": "stdout",
     "output_type": "stream",
     "text": [
      "Correct: 571/988 (0.5779)\n",
      "Saved new best test model: ../scb14_models/iemocap/model.epoch=100.step=172700.test_acc=0.5779.pt\n"
     ]
    }
   ],
   "source": [
    "metrics, metrics_details, confusion_matrix = trainer.test_step()\n",
    "me = metrics.compute()\n",
    "med = metrics_details.compute()\n",
    "cm = confusion_matrix.compute()"
   ]
  },
  {
   "cell_type": "code",
   "execution_count": 16,
   "id": "438d4dec-b1f0-478c-bc99-57e22d4efce4",
   "metadata": {},
   "outputs": [
    {
     "name": "stdout",
     "output_type": "stream",
     "text": [
      "{'acc_unweighted': tensor(0.5585, device='cuda:0'),\n",
      " 'acc_weighted': tensor(0.5779, device='cuda:0'),\n",
      " 'f1s_unweighted': tensor(0.5670, device='cuda:0'),\n",
      " 'f1s_weighted': tensor(0.5750, device='cuda:0'),\n",
      " 'rocauc': tensor(0.8119, device='cuda:0'),\n",
      " 'uar': tensor(0.5585, device='cuda:0'),\n",
      " 'wap': tensor(0.5825, device='cuda:0')}\n",
      "{'acc_detail': tensor([0.5385, 0.7018, 0.5899, 0.4038], device='cuda:0'),\n",
      " 'f1s_detail': tensor([0.5920, 0.6194, 0.6259, 0.4308], device='cuda:0'),\n",
      " 'precision_detail': tensor([0.6575, 0.5543, 0.6667, 0.4615], device='cuda:0'),\n",
      " 'recall_detail': tensor([0.5385, 0.7018, 0.5899, 0.4038], device='cuda:0'),\n",
      " 'rocauc_detail': tensor([0.8577, 0.7592, 0.8834, 0.7472], device='cuda:0')}\n",
      "tensor([[119,  40,   6,  56],\n",
      "        [ 17, 240,  51,  34],\n",
      "        [  3,  78, 128,   8],\n",
      "        [ 42,  75,   7,  84]], device='cuda:0')\n"
     ]
    }
   ],
   "source": [
    "pprint(me)\n",
    "pprint(med)\n",
    "pprint(cm)"
   ]
  },
  {
   "cell_type": "code",
   "execution_count": 17,
   "id": "a7e79c0b-9037-4e45-ac98-8f4dd2336c1c",
   "metadata": {},
   "outputs": [],
   "source": [
    "import pandas as pd\n",
    "import IPython.display as ipd\n",
    "import seaborn as sns\n",
    "\n",
    "from IConNet.acov.visualize import (\n",
    "    visualize_speech_codebook, get_embedding_color, \n",
    "    visualize_embedding_umap, visualize_training_curves,\n",
    "    get_embedding_color_v2, get_zcs_color_v2\n",
    ")"
   ]
  },
  {
   "cell_type": "code",
   "execution_count": 19,
   "id": "b543352c-6140-4b9c-a65f-0bb537b5efd0",
   "metadata": {},
   "outputs": [],
   "source": [
    "from einops import reduce, repeat, rearrange"
   ]
  },
  {
   "cell_type": "code",
   "execution_count": 22,
   "id": "d7201224-b058-486f-a3b1-7c529fdc96d1",
   "metadata": {},
   "outputs": [
    {
     "data": {
      "text/plain": [
       "<Axes: xlabel='Predicted', ylabel='Actual'>"
      ]
     },
     "execution_count": 22,
     "metadata": {},
     "output_type": "execute_result"
    },
    {
     "data": {
      "image/png": "[encoded data removed]",
      "text/plain": [
       "<Figure size 1000x700 with 2 Axes>"
      ]
     },
     "metadata": {},
     "output_type": "display_data"
    }
   ],
   "source": [
    "labels = dataset_config.target_labels\n",
    "cm = cm.cpu()\n",
    "a = cm / reduce(cm, 'y yh -> 1 yh', 'sum')\n",
    "df_cm = pd.DataFrame(a, columns=labels, index = labels)\n",
    "df_cm.index.name = 'Actual'\n",
    "df_cm.columns.name = 'Predicted'\n",
    "plt.figure(figsize = (10,7))\n",
    "sns.set(font_scale=1.4) #for label size\n",
    "sns.heatmap(\n",
    "    df_cm, cmap=\"Blues\", \n",
    "    annot=True,\n",
    "    annot_kws={\"size\": 16})# font size"
   ]
  },
  {
   "cell_type": "code",
   "execution_count": 23,
   "id": "9f2e7cdd-6501-4ff5-8ea0-18b79e1bc749",
   "metadata": {},
   "outputs": [
    {
     "data": {
      "text/plain": [
       "<Axes: xlabel='Predicted', ylabel='Actual'>"
      ]
     },
     "execution_count": 23,
     "metadata": {},
     "output_type": "execute_result"
    },
    {
     "data": {
      "image/png": "[encoded data removed]",
      "text/plain": [
       "<Figure size 1000x700 with 2 Axes>"
      ]
     },
     "metadata": {},
     "output_type": "display_data"
    }
   ],
   "source": [
    "a = cm / reduce(cm, 'y yh -> y 1', 'sum')\n",
    "a /= reduce(a, 'y yh -> 1 yh', 'sum')\n",
    "df_cm = pd.DataFrame(a, columns=labels, index = labels)\n",
    "df_cm.index.name = 'Actual'\n",
    "df_cm.columns.name = 'Predicted'\n",
    "plt.figure(figsize = (10,7))\n",
    "sns.set(font_scale=1.4) #for label size\n",
    "sns.heatmap(\n",
    "    df_cm, cmap=\"Blues\", \n",
    "    annot=True,\n",
    "    annot_kws={\"size\": 16})# font size"
   ]
  },
  {
   "cell_type": "code",
   "execution_count": null,
   "id": "5a5d81ee-7139-437f-b7bc-9ed36c3dc75d",
   "metadata": {},
   "outputs": [],
   "source": [
    "dt = []\n",
    "for i, ld in enumerate(trainer.train_losses_detail):\n",
    "    d = {'loss': trainer.train_losses[i]}\n",
    "    for j, k in enumerate(ld._fields):\n",
    "        d[k] = ld[j]\n",
    "    dt.append(d)\n",
    "loss_df = pd.DataFrame(dt)\n",
    "loss_df"
   ]
  },
  {
   "cell_type": "code",
   "execution_count": null,
   "id": "39f74bee-274b-4593-937f-7804a5b45552",
   "metadata": {},
   "outputs": [],
   "source": [
    "from scipy.signal import savgol_filter\n",
    "\n",
    "fig, axes = plt.subplots(1, 5, figsize=(14,3))\n",
    "for i, c in enumerate(loss_df.columns):\n",
    "    axes[i].plot(savgol_filter(loss_df[c], 301, 7))\n",
    "    axes[i].set_title(c)"
   ]
  },
  {
   "cell_type": "code",
   "execution_count": 24,
   "id": "48ad7aa1-e460-42fb-a8ec-95587fa5ab68",
   "metadata": {},
   "outputs": [],
   "source": [
    "trained_epoch = trainer.current_epoch\n",
    "n = len(trainer.train_losses)\n",
    "trained_steps = n - (n % trained_epoch)\n",
    "train_losses = reduce(np.array(\n",
    "    trainer.train_losses[:trained_steps]), '(n k) -> n', 'mean', n=trained_epoch)"
   ]
  },
  {
   "cell_type": "code",
   "execution_count": 25,
   "id": "6913073a-d601-4955-82cc-e37df5cfb291",
   "metadata": {},
   "outputs": [
    {
     "data": {
      "text/plain": [
       "Text(0.5, 1.0, 'Test accuracy per 10 epochs')"
      ]
     },
     "execution_count": 25,
     "metadata": {},
     "output_type": "execute_result"
    },
    {
     "data": {
      "image/png": "[encoded data removed]",
      "text/plain": [
       "<Figure size 1200x300 with 3 Axes>"
      ]
     },
     "metadata": {},
     "output_type": "display_data"
    }
   ],
   "source": [
    "fig, axes = plt.subplots(1, 3, figsize=(12,3))\n",
    "axes[0].plot(train_losses, color=\"b\")\n",
    "axes[0].set_title(\"Average train loss per epoch\")\n",
    "axes[1].plot(trainer.val_accuracy, color=\"r\", linestyle=\"dashed\")\n",
    "axes[1].set_title(\"Val accuracy per epoch\")\n",
    "axes[2].plot(trainer.test_accuracy, color=\"r\")\n",
    "axes[2].set_title(\"Test accuracy per 10 epochs\")"
   ]
  },
  {
   "cell_type": "code",
   "execution_count": 26,
   "id": "61c2769d-e357-40c2-be01-496d8aa1af80",
   "metadata": {},
   "outputs": [],
   "source": [
    "train_log = {\n",
    "    'train_loss': torch.tensor(train_losses),\n",
    "    'val_acc': torch.tensor(trainer.val_accuracy),\n",
    "    'test_acc': torch.tensor(trainer.test_accuracy),\n",
    "    'test_confusion_matrix': cm,\n",
    "    'test_metrics': me,\n",
    "    'test_metrics_detail': med\n",
    "}\n",
    "torch.save(train_log, log_dir+\"train_metrics.pt\")\n",
    "# loss_df.to_csv(log_dir+\"train_losses.csv\")"
   ]
  },
  {
   "cell_type": "code",
   "execution_count": 27,
   "id": "030fbb04-dd8a-4df7-9f78-5bb01c07c94d",
   "metadata": {},
   "outputs": [],
   "source": [
    "trainer.current_step += 1"
   ]
  },
  {
   "cell_type": "code",
   "execution_count": 29,
   "id": "a6d6c3c7-602a-403b-a7ba-40f18a5a3f65",
   "metadata": {},
   "outputs": [],
   "source": [
    "trainer.load(log_dir + 'model.epoch=81.step=139887.pt')"
   ]
  },
  {
   "cell_type": "code",
   "execution_count": 30,
   "id": "f6e1f631-62d1-41cf-bd7a-68e80fa784cc",
   "metadata": {},
   "outputs": [
    {
     "name": "stdout",
     "output_type": "stream",
     "text": [
      "Correct: 556/988 (0.5628)\n"
     ]
    }
   ],
   "source": [
    "metrics, metrics_details, confusion_matrix = trainer.test_step()\n",
    "me = metrics.compute()\n",
    "med = metrics_details.compute()\n",
    "cm = confusion_matrix.compute()"
   ]
  },
  {
   "cell_type": "code",
   "execution_count": 31,
   "id": "e3c844f7-183a-4760-aef1-619d6672b8f1",
   "metadata": {},
   "outputs": [
    {
     "name": "stdout",
     "output_type": "stream",
     "text": [
      "{'acc_unweighted': tensor(0.5646, device='cuda:0'),\n",
      " 'acc_weighted': tensor(0.5628, device='cuda:0'),\n",
      " 'f1s_unweighted': tensor(0.5640, device='cuda:0'),\n",
      " 'f1s_weighted': tensor(0.5642, device='cuda:0'),\n",
      " 'rocauc': tensor(0.7988, device='cuda:0'),\n",
      " 'uar': tensor(0.5646, device='cuda:0'),\n",
      " 'wap': tensor(0.5719, device='cuda:0')}\n",
      "{'acc_detail': tensor([0.5204, 0.5468, 0.6866, 0.5048], device='cuda:0'),\n",
      " 'f1s_detail': tensor([0.5838, 0.5574, 0.6535, 0.4615], device='cuda:0'),\n",
      " 'precision_detail': tensor([0.6647, 0.5684, 0.6234, 0.4251], device='cuda:0'),\n",
      " 'recall_detail': tensor([0.5204, 0.5468, 0.6866, 0.5048], device='cuda:0'),\n",
      " 'rocauc_detail': tensor([0.8100, 0.7485, 0.8828, 0.7540], device='cuda:0')}\n",
      "tensor([[115,  29,  11,  66],\n",
      "        [ 17, 187,  70,  68],\n",
      "        [  4,  56, 149,   8],\n",
      "        [ 37,  57,   9, 105]], device='cuda:0')\n"
     ]
    }
   ],
   "source": [
    "pprint(me)\n",
    "pprint(med)\n",
    "pprint(cm)"
   ]
  },
  {
   "cell_type": "code",
   "execution_count": 32,
   "id": "bef80fb5-b44f-406f-ad95-3ea488dc1a84",
   "metadata": {},
   "outputs": [],
   "source": [
    "train_log = {\n",
    "    'train_loss': torch.tensor(train_losses),\n",
    "    'val_acc': torch.tensor(trainer.val_accuracy),\n",
    "    'test_acc': torch.tensor(trainer.test_accuracy),\n",
    "    'test_confusion_matrix': cm,\n",
    "    'test_metrics': me,\n",
    "    'test_metrics_detail': med,\n",
    "    'best_model': 'model.epoch=81.step=139887.pt'\n",
    "}\n",
    "torch.save(train_log, log_dir+\"train_metrics_bestUA.pt\")"
   ]
  },
  {
   "cell_type": "code",
   "execution_count": 33,
   "id": "6d35f709-af16-479d-952e-c40d8ee07865",
   "metadata": {},
   "outputs": [
    {
     "data": {
      "text/plain": [
       "<Axes: xlabel='Predicted', ylabel='Actual'>"
      ]
     },
     "execution_count": 33,
     "metadata": {},
     "output_type": "execute_result"
    },
    {
     "data": {
      "image/png": "[encoded data removed]",
      "text/plain": [
       "<Figure size 1000x700 with 2 Axes>"
      ]
     },
     "metadata": {},
     "output_type": "display_data"
    }
   ],
   "source": [
    "labels = dataset_config.target_labels\n",
    "cm = cm.cpu()\n",
    "a = cm / reduce(cm, 'y yh -> 1 yh', 'sum')\n",
    "df_cm = pd.DataFrame(a, columns=labels, index = labels)\n",
    "df_cm.index.name = 'Actual'\n",
    "df_cm.columns.name = 'Predicted'\n",
    "plt.figure(figsize = (10,7))\n",
    "sns.set(font_scale=1.4) #for label size\n",
    "sns.heatmap(\n",
    "    df_cm, cmap=\"Blues\", \n",
    "    annot=True,\n",
    "    annot_kws={\"size\": 16})# font size"
   ]
  },
  {
   "cell_type": "code",
   "execution_count": 34,
   "id": "08eaf9e8-ac33-4c2b-8976-b25213ecfd8f",
   "metadata": {},
   "outputs": [
    {
     "data": {
      "text/plain": [
       "<Axes: xlabel='Predicted', ylabel='Actual'>"
      ]
     },
     "execution_count": 34,
     "metadata": {},
     "output_type": "execute_result"
    },
    {
     "data": {
      "image/png": "[encoded data removed]",
      "text/plain": [
       "<Figure size 1000x700 with 2 Axes>"
      ]
     },
     "metadata": {},
     "output_type": "display_data"
    }
   ],
   "source": [
    "a = cm / reduce(cm, 'y yh -> y 1', 'sum')\n",
    "a /= reduce(a, 'y yh -> 1 yh', 'sum')\n",
    "df_cm = pd.DataFrame(a, columns=labels, index = labels)\n",
    "df_cm.index.name = 'Actual'\n",
    "df_cm.columns.name = 'Predicted'\n",
    "plt.figure(figsize = (10,7))\n",
    "sns.set(font_scale=1.4) #for label size\n",
    "sns.heatmap(\n",
    "    df_cm, cmap=\"Blues\", \n",
    "    annot=True,\n",
    "    annot_kws={\"size\": 16})# font size"
   ]
  },
  {
   "cell_type": "code",
   "execution_count": null,
   "id": "68fb82d4-1029-44a1-8cd3-499f0ab0e7c4",
   "metadata": {},
   "outputs": [],
   "source": []
  }
 ],
 "metadata": {
  "kernelspec": {
   "display_name": "Python 3 (ipykernel)",
   "language": "python",
   "name": "python3"
  },
  "language_info": {
   "codemirror_mode": {
    "name": "ipython",
    "version": 3
   },
   "file_extension": ".py",
   "mimetype": "text/x-python",
   "name": "python",
   "nbconvert_exporter": "python",
   "pygments_lexer": "ipython3",
   "version": "3.9.18"
  }
 },
 "nbformat": 4,
 "nbformat_minor": 5
}
