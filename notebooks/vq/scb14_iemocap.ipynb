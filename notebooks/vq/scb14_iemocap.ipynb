{
 "cells": [
  {
   "cell_type": "code",
   "execution_count": 1,
   "id": "3e935fa7-dadc-405c-af5c-2b2a5c95be4e",
   "metadata": {},
   "outputs": [],
   "source": [
    "%load_ext autoreload\n",
    "%autoreload 2"
   ]
  },
  {
   "cell_type": "code",
   "execution_count": 2,
   "id": "a7d2cf02-ce58-4dcf-94af-9a251b0c947a",
   "metadata": {},
   "outputs": [],
   "source": [
    "import matplotlib.pyplot as plt\n",
    "import numpy as np\n",
    "import umap\n",
    "import torch\n",
    "import torch.nn as nn\n",
    "import torch.nn.functional as F\n",
    "import gc\n",
    "from tqdm import tqdm"
   ]
  },
  {
   "cell_type": "code",
   "execution_count": 3,
   "id": "16bff667-2146-4f7b-98d6-c2165a960a09",
   "metadata": {},
   "outputs": [],
   "source": [
    "device = torch.device(\"cuda\" if torch.cuda.is_available() else \"cpu\")"
   ]
  },
  {
   "cell_type": "code",
   "execution_count": 4,
   "id": "c0168198-381c-4243-b239-c4c03ae212b6",
   "metadata": {},
   "outputs": [
    {
     "data": {
      "text/plain": [
       "'/home/bunny/projects/IConNet'"
      ]
     },
     "execution_count": 4,
     "metadata": {},
     "output_type": "execute_result"
    }
   ],
   "source": [
    "import os\n",
    "os.environ[\"PYTORCH_CUDA_ALLOC_CONF\"] = \"max_split_size_mb:512\"\n",
    "os.chdir('../../')\n",
    "os.getcwd()"
   ]
  },
  {
   "cell_type": "code",
   "execution_count": 5,
   "id": "a92733e8-efc0-4f30-8a1f-2d401b5ba1e2",
   "metadata": {},
   "outputs": [],
   "source": [
    "dataset_name = 'iemocap'\n",
    "experiment_prefix = \"scb14\"\n",
    "log_dir = f'../{experiment_prefix}_models/{dataset_name}/'\n",
    "data_dir = \"../data/data_preprocessed/\"\n",
    "\n",
    "sr = 16000\n",
    "batch_size = 2\n",
    "in_channels = 1\n",
    "kernel_size = 511\n",
    "stride = 125\n",
    "embedding_dim = 511\n",
    "num_embeddings = 384\n",
    "cls_dim = 512\n",
    "learning_rate = 1e-4\n",
    "max_num_tokens = 2048\n",
    "num_classes = 4\n",
    "commitment_cost = 0.1"
   ]
  },
  {
   "cell_type": "code",
   "execution_count": 6,
   "id": "c6ffa1a2-be07-4a81-8f07-21a66cbb8028",
   "metadata": {},
   "outputs": [],
   "source": [
    "from IConNet.acov.audio_vqvae import VqVaeClsLoss\n",
    "from IConNet.trainer.train_torch import get_dataloader\n",
    "from IConNet.trainer.train_torch import Trainer_SCB10 as Trainer\n",
    "from IConNet.acov.model import SCB14 as SCB\n",
    "from omegaconf import OmegaConf as ocf"
   ]
  },
  {
   "cell_type": "code",
   "execution_count": 7,
   "id": "9e471e94-981b-4f2b-aa69-1dfcea62ca9e",
   "metadata": {},
   "outputs": [
    {
     "name": "stdout",
     "output_type": "stream",
     "text": [
      "{'name': 'M19', 'description': 'FirConv with learnable windows', 'fe': {'n_block': 1, 'n_channel': [256], 'kernel_size': [511], 'stride': [2], 'window_k': [5], 'pooling': 'mean', 'filter_type': 'sinc', 'learnable_bands': False, 'learnable_windows': True, 'shared_window': False, 'window_func': 'hamming', 'mel_resolution': 3, 'conv_mode': 'conv', 'norm_type': 'LocalResponseNorm'}, 'cls': {'n_block': 2, 'n_hidden_dim': [512, 512], 'norm_type': 'LayerNorm'}}\n"
     ]
    }
   ],
   "source": [
    "iconnet_config_path = f'config/model/m19win.yaml'\n",
    "iconnet_config = ocf.load(iconnet_config_path)\n",
    "print(iconnet_config)"
   ]
  },
  {
   "cell_type": "code",
   "execution_count": 8,
   "id": "9ece0b98-93f3-472f-8063-da0013e3dc4d",
   "metadata": {},
   "outputs": [
    {
     "name": "stdout",
     "output_type": "stream",
     "text": [
      "{'name': 'iemocap', 'dataset_class': 'WaveformDataset', 'root': 'iemocap/', 'audio_dir': 'full_release/', 'feature_dir': 'preprocessing/', 'label_name': 'label4', 'feature_name': 'audio16k', 'num_classes': 4, 'label_values': ['neu', 'hap', 'sad', 'ang'], 'classnames': ['neu', 'hap', 'sad', 'ang'], 'target_labels': ['ang', 'neu', 'sad', 'hap']}\n",
      "2\n"
     ]
    }
   ],
   "source": [
    "dataset_config_path = f'config/dataset/{dataset_name}4.yaml'\n",
    "dataset_config = ocf.load(dataset_config_path)\n",
    "print(dataset_config)\n",
    "train_loader, test_loader, batch_size = get_dataloader(\n",
    "    dataset_config, data_dir, batch_size=batch_size)\n",
    "print(batch_size)"
   ]
  },
  {
   "cell_type": "code",
   "execution_count": 9,
   "id": "893c1b4e-bf5e-4717-83a6-f176226dd142",
   "metadata": {},
   "outputs": [],
   "source": [
    "loss_ratio=VqVaeClsLoss(perplexity=0, loss_vq=0, loss_recon=0, loss_cls=1)\n",
    "\n",
    "trainer = Trainer(batch_size=batch_size, log_dir=log_dir, \n",
    "                  experiment_prefix=experiment_prefix, device=device,\n",
    "                 accumulate_grad_batches=8)\n",
    "trainer.prepare(train_loader=train_loader, \n",
    "                test_loader=test_loader, \n",
    "                batch_size=batch_size,\n",
    "               loss_ratio=loss_ratio)"
   ]
  },
  {
   "cell_type": "code",
   "execution_count": 10,
   "id": "14900985-bd5f-4966-8c0c-4f1ddef56898",
   "metadata": {},
   "outputs": [],
   "source": [
    "codebook_pretrained_path = f'../scb11_models/ravdess/epoch=220.codebook.pt'\n",
    "model = SCB(\n",
    "    in_channels=in_channels,    \n",
    "    num_embeddings=num_embeddings, \n",
    "    stride=stride,\n",
    "    embedding_dim=embedding_dim, \n",
    "    num_classes=num_classes, \n",
    "    cls_dim=512,\n",
    "    sample_rate=sr,\n",
    "    commitment_cost=commitment_cost,\n",
    "    distance_type='euclidean',\n",
    "    codebook_pretrained_path=codebook_pretrained_path,\n",
    "    freeze_codebook=True,\n",
    "    loss_type='minami',\n",
    "    iconnet_config=iconnet_config,\n",
    ")"
   ]
  },
  {
   "cell_type": "code",
   "execution_count": 11,
   "id": "2823b426-8330-4a82-becb-b2da71ffefae",
   "metadata": {},
   "outputs": [],
   "source": [
    "trainer.setup(model=model, lr=learning_rate)"
   ]
  },
  {
   "cell_type": "code",
   "execution_count": null,
   "id": "6019902a-4d02-4d20-8fe5-c1e85ff9cfde",
   "metadata": {},
   "outputs": [
    {
     "name": "stderr",
     "output_type": "stream",
     "text": [
      "  0%|▏                                                  | 0.476833976833989/100 [06:45<715:43:12, 25889.38s/it]"
     ]
    },
    {
     "name": "stdout",
     "output_type": "stream",
     "text": [
      "Epoch: 1\tLoss: 1.116 [perplexity=0.000, loss_vq=0.000, loss_recon=0.000, loss_cls=1.116]\tVal_acc: 84/197 (42.64%)\n",
      "\n",
      "Saved new best val model: ../scb14_models/iemocap/model.epoch=1.step=864.loss=1.116.val_acc=0.426.pt\n"
     ]
    },
    {
     "name": "stderr",
     "output_type": "stream",
     "text": [
      "  1%|▊                                                    | 1.4295366795367364/100 [17:42<16:57:50, 619.56s/it]"
     ]
    },
    {
     "name": "stdout",
     "output_type": "stream",
     "text": [
      "Correct: 388/988 (0.3927)\n",
      "Saved new best test model: ../scb14_models/iemocap/model.epoch=1.step=1727.test_acc=0.3927.pt\n",
      "{'acc_unweighted': tensor(0.4425, device='cuda:0'),\n",
      " 'acc_weighted': tensor(0.3927, device='cuda:0'),\n",
      " 'f1s_unweighted': tensor(0.2767, device='cuda:0'),\n",
      " 'f1s_weighted': tensor(0.2458, device='cuda:0'),\n",
      " 'rocauc': tensor(0.7574, device='cuda:0'),\n",
      " 'uar': tensor(0.4425, device='cuda:0'),\n",
      " 'wap': tensor(0.5246, device='cuda:0')}\n",
      "{'acc_detail': tensor([0.8869, 0.0029, 0.8802, 0.0000], device='cuda:0'),\n",
      " 'f1s_detail': tensor([0.4906, 0.0058, 0.6102, 0.0000], device='cuda:0'),\n",
      " 'precision_detail': tensor([0.3391, 1.0000, 0.4670, 0.0000], device='cuda:0'),\n",
      " 'recall_detail': tensor([0.8869, 0.0029, 0.8802, 0.0000], device='cuda:0'),\n",
      " 'rocauc_detail': tensor([0.8096, 0.6920, 0.8755, 0.6525], device='cuda:0')}\n",
      "tensor([[196,   0,  25,   0],\n",
      "        [174,   1, 167,   0],\n",
      "        [ 26,   0, 191,   0],\n",
      "        [182,   0,  26,   0]], device='cuda:0')\n"
     ]
    },
    {
     "name": "stderr",
     "output_type": "stream",
     "text": [
      "  2%|▉                                                 | 1.9063706563707945/100 [24:30<717:11:28, 26320.65s/it]"
     ]
    },
    {
     "name": "stdout",
     "output_type": "stream",
     "text": [
      "Epoch: 2\tLoss: 4.435 [perplexity=0.000, loss_vq=0.000, loss_recon=0.000, loss_cls=4.435]\tVal_acc: 93/197 (47.21%)\n",
      "\n",
      "Saved new best val model: ../scb14_models/iemocap/model.epoch=2.step=2591.loss=4.435.val_acc=0.472.pt\n"
     ]
    },
    {
     "name": "stderr",
     "output_type": "stream",
     "text": [
      "  3%|█▍                                                | 2.8590733590736597/100 [37:24<714:07:34, 26465.21s/it]"
     ]
    },
    {
     "name": "stdout",
     "output_type": "stream",
     "text": [
      "Epoch: 3\tLoss: 0.646 [perplexity=0.000, loss_vq=0.000, loss_recon=0.000, loss_cls=0.646]\tVal_acc: 100/197 (50.76%)\n",
      "\n",
      "Saved new best val model: ../scb14_models/iemocap/model.epoch=3.step=4318.loss=0.646.val_acc=0.508.pt\n"
     ]
    },
    {
     "name": "stderr",
     "output_type": "stream",
     "text": [
      "  4%|█▉                                                 | 3.811776061776525/100 [50:19<707:12:32, 26468.44s/it]"
     ]
    },
    {
     "name": "stdout",
     "output_type": "stream",
     "text": [
      "Epoch: 4\tLoss: 2.019 [perplexity=0.000, loss_vq=0.000, loss_recon=0.000, loss_cls=2.019]\tVal_acc: 96/197 (48.73%)\n",
      "\n"
     ]
    },
    {
     "name": "stderr",
     "output_type": "stream",
     "text": [
      "  5%|██▍                                               | 4.76447876447939/100 [1:03:16<705:59:31, 26687.22s/it]"
     ]
    },
    {
     "name": "stdout",
     "output_type": "stream",
     "text": [
      "Epoch: 5\tLoss: 0.491 [perplexity=0.000, loss_vq=0.000, loss_recon=0.000, loss_cls=0.491]\tVal_acc: 111/197 (56.35%)\n",
      "\n",
      "Saved new best val model: ../scb14_models/iemocap/model.epoch=5.step=7772.loss=0.491.val_acc=0.563.pt\n"
     ]
    },
    {
     "name": "stderr",
     "output_type": "stream",
     "text": [
      "  6%|██▊                                              | 5.717181467182255/100 [1:16:22<698:15:56, 26661.87s/it]"
     ]
    },
    {
     "name": "stdout",
     "output_type": "stream",
     "text": [
      "Epoch: 6\tLoss: 1.136 [perplexity=0.000, loss_vq=0.000, loss_recon=0.000, loss_cls=1.136]\tVal_acc: 91/197 (46.19%)\n",
      "\n"
     ]
    },
    {
     "name": "stderr",
     "output_type": "stream",
     "text": [
      "  7%|███▎                                              | 6.66988416988512/100 [1:29:23<695:20:54, 26821.51s/it]"
     ]
    },
    {
     "name": "stdout",
     "output_type": "stream",
     "text": [
      "Epoch: 7\tLoss: 0.732 [perplexity=0.000, loss_vq=0.000, loss_recon=0.000, loss_cls=0.732]\tVal_acc: 106/197 (53.81%)\n",
      "\n"
     ]
    },
    {
     "name": "stderr",
     "output_type": "stream",
     "text": [
      "  8%|███▋                                             | 7.622586872587985/100 [1:42:29<690:58:31, 26927.70s/it]"
     ]
    },
    {
     "name": "stdout",
     "output_type": "stream",
     "text": [
      "Epoch: 8\tLoss: 0.613 [perplexity=0.000, loss_vq=0.000, loss_recon=0.000, loss_cls=0.613]\tVal_acc: 108/197 (54.82%)\n",
      "\n"
     ]
    },
    {
     "name": "stderr",
     "output_type": "stream",
     "text": [
      "  9%|████▎                                             | 8.57528957529085/100 [1:55:38<683:30:11, 26914.08s/it]"
     ]
    },
    {
     "name": "stdout",
     "output_type": "stream",
     "text": [
      "Epoch: 9\tLoss: 0.720 [perplexity=0.000, loss_vq=0.000, loss_recon=0.000, loss_cls=0.720]\tVal_acc: 113/197 (57.36%)\n",
      "\n",
      "Saved new best val model: ../scb14_models/iemocap/model.epoch=9.step=14680.loss=0.720.val_acc=0.574.pt\n"
     ]
    },
    {
     "name": "stderr",
     "output_type": "stream",
     "text": [
      " 10%|████▋                                            | 9.527992277993715/100 [2:08:50<676:09:14, 26905.06s/it]"
     ]
    },
    {
     "name": "stdout",
     "output_type": "stream",
     "text": [
      "Epoch: 10\tLoss: 3.071 [perplexity=0.000, loss_vq=0.000, loss_recon=0.000, loss_cls=3.071]\tVal_acc: 110/197 (55.84%)\n",
      "\n"
     ]
    },
    {
     "name": "stderr",
     "output_type": "stream",
     "text": [
      " 10%|█████▏                                           | 10.48069498069658/100 [2:22:02<670:32:49, 26965.91s/it]"
     ]
    },
    {
     "name": "stdout",
     "output_type": "stream",
     "text": [
      "Epoch: 11\tLoss: 0.474 [perplexity=0.000, loss_vq=0.000, loss_recon=0.000, loss_cls=0.474]\tVal_acc: 116/197 (58.88%)\n",
      "\n",
      "Saved new best val model: ../scb14_models/iemocap/model.epoch=11.step=18134.loss=0.474.val_acc=0.589.pt\n"
     ]
    },
    {
     "name": "stderr",
     "output_type": "stream",
     "text": [
      " 11%|█████▊                                             | 11.433397683399445/100 [2:33:28<15:56:53, 648.25s/it]"
     ]
    },
    {
     "name": "stdout",
     "output_type": "stream",
     "text": [
      "Correct: 549/988 (0.5557)\n",
      "Saved new best test model: ../scb14_models/iemocap/model.epoch=11.step=18997.test_acc=0.5557.pt\n",
      "{'acc_unweighted': tensor(0.5417, device='cuda:0'),\n",
      " 'acc_weighted': tensor(0.5557, device='cuda:0'),\n",
      " 'f1s_unweighted': tensor(0.5455, device='cuda:0'),\n",
      " 'f1s_weighted': tensor(0.5511, device='cuda:0'),\n",
      " 'rocauc': tensor(0.8229, device='cuda:0'),\n",
      " 'uar': tensor(0.5417, device='cuda:0'),\n",
      " 'wap': tensor(0.5714, device='cuda:0')}\n",
      "{'acc_detail': tensor([0.4118, 0.6462, 0.7051, 0.4038], device='cuda:0'),\n",
      " 'f1s_detail': tensor([0.5260, 0.5808, 0.6623, 0.4128], device='cuda:0'),\n",
      " 'precision_detail': tensor([0.7280, 0.5274, 0.6245, 0.4221], device='cuda:0'),\n",
      " 'recall_detail': tensor([0.4118, 0.6462, 0.7051, 0.4038], device='cuda:0'),\n",
      " 'rocauc_detail': tensor([0.8650, 0.7671, 0.8968, 0.7628], device='cuda:0')}\n",
      "tensor([[ 91,  49,   6,  75],\n",
      "        [  5, 221,  80,  36],\n",
      "        [  0,  60, 153,   4],\n",
      "        [ 29,  89,   6,  84]], device='cuda:0')\n"
     ]
    },
    {
     "name": "stderr",
     "output_type": "stream",
     "text": [
      " 12%|█████▋                                          | 11.910231660233503/100 [2:40:29<656:05:39, 26812.87s/it]"
     ]
    },
    {
     "name": "stdout",
     "output_type": "stream",
     "text": [
      "Epoch: 12\tLoss: 0.859 [perplexity=0.000, loss_vq=0.000, loss_recon=0.000, loss_cls=0.859]\tVal_acc: 107/197 (54.31%)\n",
      "\n"
     ]
    },
    {
     "name": "stderr",
     "output_type": "stream",
     "text": [
      " 13%|██████▏                                         | 12.862934362936368/100 [2:53:45<656:07:01, 27106.97s/it]"
     ]
    },
    {
     "name": "stdout",
     "output_type": "stream",
     "text": [
      "Epoch: 13\tLoss: 0.656 [perplexity=0.000, loss_vq=0.000, loss_recon=0.000, loss_cls=0.656]\tVal_acc: 112/197 (56.85%)\n",
      "\n"
     ]
    },
    {
     "name": "stderr",
     "output_type": "stream",
     "text": [
      " 14%|██████▋                                         | 13.815637065639233/100 [3:07:08<646:27:27, 27003.13s/it]"
     ]
    },
    {
     "name": "stdout",
     "output_type": "stream",
     "text": [
      "Epoch: 14\tLoss: 0.774 [perplexity=0.000, loss_vq=0.000, loss_recon=0.000, loss_cls=0.774]\tVal_acc: 118/197 (59.90%)\n",
      "\n",
      "Saved new best val model: ../scb14_models/iemocap/model.epoch=14.step=23315.loss=0.774.val_acc=0.599.pt\n"
     ]
    },
    {
     "name": "stderr",
     "output_type": "stream",
     "text": [
      " 14%|███████                                            | 13.857625482627657/100 [3:07:42<19:56:40, 833.51s/it]"
     ]
    }
   ],
   "source": [
    "trainer.fit(n_epoch=100, self_supervised=False, train_task='embedding', test_n_epoch=10)"
   ]
  },
  {
   "cell_type": "code",
   "execution_count": null,
   "id": "5cb2cd68-c832-4ece-ae49-02bb663bda74",
   "metadata": {},
   "outputs": [],
   "source": [
    "trainer.load_best_model(val_model=True)"
   ]
  },
  {
   "cell_type": "code",
   "execution_count": null,
   "id": "dfec728e-0071-49a2-b694-b91583752be0",
   "metadata": {},
   "outputs": [],
   "source": [
    "from pprint import pprint"
   ]
  },
  {
   "cell_type": "code",
   "execution_count": null,
   "id": "c9a19c08-e656-4b1d-b894-ec5b73b9dc66",
   "metadata": {},
   "outputs": [],
   "source": [
    "metrics, metrics_details, confusion_matrix = trainer.test_step()\n",
    "me = metrics.compute()\n",
    "med = metrics_details.compute()\n",
    "cm = confusion_matrix.compute()"
   ]
  },
  {
   "cell_type": "code",
   "execution_count": null,
   "id": "438d4dec-b1f0-478c-bc99-57e22d4efce4",
   "metadata": {},
   "outputs": [],
   "source": [
    "pprint(me)\n",
    "pprint(med)\n",
    "pprint(cm)"
   ]
  },
  {
   "cell_type": "code",
   "execution_count": null,
   "id": "d7201224-b058-486f-a3b1-7c529fdc96d1",
   "metadata": {},
   "outputs": [],
   "source": [
    "labels = dataset_config.target_labels\n",
    "a = cm\n",
    "# a /= reduce(a, 'y yh -> y 1', 'sum')\n",
    "a /= reduce(a, 'y yh -> 1 yh', 'sum')\n",
    "df_cm = pd.DataFrame(a, columns=labels, index = labels)\n",
    "df_cm.index.name = 'Actual'\n",
    "df_cm.columns.name = 'Predicted'\n",
    "plt.figure(figsize = (10,7))\n",
    "sns.set(font_scale=1.4) #for label size\n",
    "sns.heatmap(\n",
    "    df_cm, cmap=\"Blues\", \n",
    "    annot=True,\n",
    "    annot_kws={\"size\": 16})# font size"
   ]
  },
  {
   "cell_type": "code",
   "execution_count": null,
   "id": "9f2e7cdd-6501-4ff5-8ea0-18b79e1bc749",
   "metadata": {},
   "outputs": [],
   "source": [
    "a = cm\n",
    "a /= reduce(a, 'y yh -> y 1', 'sum')\n",
    "a /= reduce(a, 'y yh -> 1 yh', 'sum')\n",
    "df_cm = pd.DataFrame(a, columns=labels, index = labels)\n",
    "df_cm.index.name = 'Actual'\n",
    "df_cm.columns.name = 'Predicted'\n",
    "plt.figure(figsize = (10,7))\n",
    "sns.set(font_scale=1.4) #for label size\n",
    "sns.heatmap(\n",
    "    df_cm, cmap=\"Blues\", \n",
    "    annot=True,\n",
    "    annot_kws={\"size\": 16})# font size"
   ]
  },
  {
   "cell_type": "code",
   "execution_count": null,
   "id": "a7e79c0b-9037-4e45-ac98-8f4dd2336c1c",
   "metadata": {},
   "outputs": [],
   "source": [
    "import pandas as pd\n",
    "import IPython.display as ipd\n",
    "import seaborn as sns\n",
    "\n",
    "from IConNet.acov.visualize import (\n",
    "    visualize_speech_codebook, get_embedding_color, \n",
    "    visualize_embedding_umap, visualize_training_curves,\n",
    "    get_embedding_color_v2, get_zcs_color_v2\n",
    ")"
   ]
  },
  {
   "cell_type": "code",
   "execution_count": null,
   "id": "5a5d81ee-7139-437f-b7bc-9ed36c3dc75d",
   "metadata": {},
   "outputs": [],
   "source": [
    "dt = []\n",
    "for i, ld in enumerate(trainer.train_losses_detail):\n",
    "    d = {'loss': trainer.train_losses[i]}\n",
    "    for j, k in enumerate(ld._fields):\n",
    "        d[k] = ld[j]\n",
    "    dt.append(d)\n",
    "loss_df = pd.DataFrame(dt)\n",
    "loss_df"
   ]
  },
  {
   "cell_type": "code",
   "execution_count": null,
   "id": "39f74bee-274b-4593-937f-7804a5b45552",
   "metadata": {},
   "outputs": [],
   "source": [
    "from scipy.signal import savgol_filter\n",
    "\n",
    "fig, axes = plt.subplots(1, 5, figsize=(14,3))\n",
    "for i, c in enumerate(loss_df.columns):\n",
    "    axes[i].plot(savgol_filter(loss_df[c], 301, 7))\n",
    "    axes[i].set_title(c)"
   ]
  },
  {
   "cell_type": "code",
   "execution_count": null,
   "id": "b543352c-6140-4b9c-a65f-0bb537b5efd0",
   "metadata": {},
   "outputs": [],
   "source": [
    "from einops import reduce, repeat, rearrange"
   ]
  },
  {
   "cell_type": "code",
   "execution_count": null,
   "id": "48ad7aa1-e460-42fb-a8ec-95587fa5ab68",
   "metadata": {},
   "outputs": [],
   "source": [
    "trained_epoch = trainer.current_epoch\n",
    "n = len(trainer.train_losses)\n",
    "trained_steps = n - (n % trained_epoch)\n",
    "train_losses = reduce(np.array(\n",
    "    trainer.train_losses[:trained_steps]), '(n k) -> n', 'mean', n=trained_epoch)"
   ]
  },
  {
   "cell_type": "code",
   "execution_count": null,
   "id": "6913073a-d601-4955-82cc-e37df5cfb291",
   "metadata": {},
   "outputs": [],
   "source": [
    "fig, axes = plt.subplots(1, 3, figsize=(12,3))\n",
    "axes[0].plot(train_losses, color=\"b\")\n",
    "axes[0].set_title(\"Average train loss per epoch\")\n",
    "axes[1].plot(trainer.val_accuracy, color=\"r\", linestyle=\"dashed\")\n",
    "axes[1].set_title(\"Val accuracy per epoch\")\n",
    "axes[2].plot(trainer.test_accuracy, color=\"r\")\n",
    "axes[2].set_title(\"Test accuracy per 10 epochs\")"
   ]
  },
  {
   "cell_type": "code",
   "execution_count": null,
   "id": "61c2769d-e357-40c2-be01-496d8aa1af80",
   "metadata": {},
   "outputs": [],
   "source": [
    "train_log = {\n",
    "    'train_loss': torch.tensor(train_losses),\n",
    "    'val_acc': torch.tensor(trainer.val_accuracy),\n",
    "    'test_acc': torch.tensor(trainer.test_accuracy),\n",
    "    'test_confusion_matrix': cm,\n",
    "    'test_metrics': me,\n",
    "    'test_metrics_detail': med\n",
    "}\n",
    "torch.save(train_log, log_dir+\"train_metrics.pt\")\n",
    "loss_df.to_csv(log_dir+\"train_losses.csv\")"
   ]
  },
  {
   "cell_type": "code",
   "execution_count": null,
   "id": "030fbb04-dd8a-4df7-9f78-5bb01c07c94d",
   "metadata": {},
   "outputs": [],
   "source": []
  }
 ],
 "metadata": {
  "kernelspec": {
   "display_name": "Python 3 (ipykernel)",
   "language": "python",
   "name": "python3"
  },
  "language_info": {
   "codemirror_mode": {
    "name": "ipython",
    "version": 3
   },
   "file_extension": ".py",
   "mimetype": "text/x-python",
   "name": "python",
   "nbconvert_exporter": "python",
   "pygments_lexer": "ipython3",
   "version": "3.9.18"
  }
 },
 "nbformat": 4,
 "nbformat_minor": 5
}
